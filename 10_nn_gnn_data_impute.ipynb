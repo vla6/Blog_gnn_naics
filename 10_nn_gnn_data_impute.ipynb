{
 "cells": [
  {
   "cell_type": "code",
   "execution_count": 1,
   "id": "dd371bd9-82c7-44c7-8826-beb0c549974b",
   "metadata": {
    "tags": []
   },
   "outputs": [],
   "source": [
    "# Modify the file 00_setup.py to define input/output file paths on your system\n",
    "# The information in 00_setup.py will be used across notebooks\n",
    "from importlib.machinery import SourceFileLoader\n",
    "setup = SourceFileLoader(\"setup\", \"./00_setup.py\").load_module()"
   ]
  },
  {
   "cell_type": "markdown",
   "id": "be7d3f74-1737-4eee-9e6f-06233b68c2b1",
   "metadata": {
    "tags": []
   },
   "source": [
    "# 10: Data Imputation and Scaling for GNN\n",
    "Convert data into a format suitable for GNN, preparing for several models\n",
    "  * Modify data so it is suitable for a neural network\n",
    "    * Impute missing features\n",
    "    * Scale values\n",
    "  * Create data frames for node and edge features\n",
    "  * Get edge lists"
   ]
  },
  {
   "cell_type": "markdown",
   "id": "88121865-4dfa-4390-8789-8020a9ef505c",
   "metadata": {},
   "source": [
    "I do not create graphs here, just do the preliminary data prep.  Not all features created here will be used in all models.  In addition, not all cases/edges would be used.  I will filter and modify the data to compare scenarios later."
   ]
  },
  {
   "cell_type": "markdown",
   "id": "b6956879-bdba-4750-bbdf-e26ade43c72f",
   "metadata": {},
   "source": [
    "*This script takes about 5 minutes on my MacBook Air*"
   ]
  },
  {
   "cell_type": "code",
   "execution_count": 2,
   "id": "a06b80fe-17ee-409a-8f41-ab2427d6f407",
   "metadata": {},
   "outputs": [],
   "source": [
    "import pandas as pd\n",
    "import numpy as np"
   ]
  },
  {
   "cell_type": "code",
   "execution_count": 53,
   "id": "4278237c-f6ad-4cd9-9144-5b7bb134a391",
   "metadata": {},
   "outputs": [],
   "source": [
    "from pathlib import Path\n",
    "import importlib, pickle\n",
    "from sklearn import model_selection\n",
    "from sklearn.preprocessing import LabelEncoder"
   ]
  },
  {
   "cell_type": "code",
   "execution_count": 4,
   "id": "9ef27d75-0483-48fb-8018-245bdb9df81c",
   "metadata": {},
   "outputs": [],
   "source": [
    "# Imputer object for easy dataset conversion to GNN friendly format\n",
    "from sba_gnn.sba_gnn import sg_imputer \n",
    "from sba_gnn.sba_gnn.sg_imputer import GNNImputer"
   ]
  },
  {
   "cell_type": "markdown",
   "id": "faac611d-2f98-4d45-bb70-c64e3890a705",
   "metadata": {},
   "source": [
    "## Input training data, descriptives, fit imputer"
   ]
  },
  {
   "cell_type": "markdown",
   "id": "f8d04d3e-ea53-4b10-a1b1-480be7318ef6",
   "metadata": {},
   "source": [
    "For a neural network, I need to handle missings and also scale features.  For missing values, I will do a simple median fill for all, but add missing indicators.  "
   ]
  },
  {
   "cell_type": "markdown",
   "id": "580fbc84-1465-4874-b29e-f32731abcde6",
   "metadata": {},
   "source": [
    "To scale the data, I will do a quantile transform for features with > 5 levels.  This is to avoid scaling binary features.  Then I do a Min/Max scaling on all features, so they are in the [0,1] range"
   ]
  },
  {
   "cell_type": "markdown",
   "id": "25382bb1-9e0e-4b98-a35d-ce30c714f955",
   "metadata": {},
   "source": [
    "I define a class to do this in sg_imputer.  This class wraps several scikit-learn imputers/scalers so that I can easily fit the objects and then transform the data.  In this section, I show some descriptives to justify my imputation/scaling choices, and also fit the scaler"
   ]
  },
  {
   "cell_type": "markdown",
   "id": "8cdb14e4-d6c3-4b8f-8f06-99b8b47f4526",
   "metadata": {},
   "source": [
    "##### Import train data, show missing"
   ]
  },
  {
   "cell_type": "code",
   "execution_count": 5,
   "id": "a7813800-4057-4bac-b61d-1c9bf6b1ebb4",
   "metadata": {},
   "outputs": [],
   "source": [
    "sba_loans = pd.read_parquet(Path(setup.temp_path).joinpath('01_DATA_transformed.parquet'))"
   ]
  },
  {
   "cell_type": "code",
   "execution_count": 85,
   "id": "a5f6c362-c1ab-48d8-812b-2b970b06586b",
   "metadata": {},
   "outputs": [],
   "source": [
    "train_df = sba_loans[sba_loans['dset'] == 'train']"
   ]
  },
  {
   "cell_type": "code",
   "execution_count": 87,
   "id": "2f25f209-f37d-4341-afb3-de5807b124bc",
   "metadata": {},
   "outputs": [
    {
     "data": {
      "text/html": [
       "<div>\n",
       "<style scoped>\n",
       "    .dataframe tbody tr th:only-of-type {\n",
       "        vertical-align: middle;\n",
       "    }\n",
       "\n",
       "    .dataframe tbody tr th {\n",
       "        vertical-align: top;\n",
       "    }\n",
       "\n",
       "    .dataframe thead th {\n",
       "        text-align: right;\n",
       "    }\n",
       "</style>\n",
       "<table border=\"1\" class=\"dataframe\">\n",
       "  <thead>\n",
       "    <tr style=\"text-align: right;\">\n",
       "      <th></th>\n",
       "      <th></th>\n",
       "      <th>count_missing</th>\n",
       "    </tr>\n",
       "  </thead>\n",
       "  <tbody>\n",
       "    <tr>\n",
       "      <th>NoEmp</th>\n",
       "      <th>0</th>\n",
       "      <td>0</td>\n",
       "    </tr>\n",
       "    <tr>\n",
       "      <th>CreateJob</th>\n",
       "      <th>0</th>\n",
       "      <td>0</td>\n",
       "    </tr>\n",
       "    <tr>\n",
       "      <th>LowDoc</th>\n",
       "      <th>0</th>\n",
       "      <td>3117</td>\n",
       "    </tr>\n",
       "    <tr>\n",
       "      <th>DisbursementGross</th>\n",
       "      <th>0</th>\n",
       "      <td>0</td>\n",
       "    </tr>\n",
       "    <tr>\n",
       "      <th>new_business</th>\n",
       "      <th>0</th>\n",
       "      <td>544</td>\n",
       "    </tr>\n",
       "    <tr>\n",
       "      <th>urban_flag</th>\n",
       "      <th>0</th>\n",
       "      <td>83339</td>\n",
       "    </tr>\n",
       "    <tr>\n",
       "      <th>franchise_flag</th>\n",
       "      <th>0</th>\n",
       "      <td>0</td>\n",
       "    </tr>\n",
       "  </tbody>\n",
       "</table>\n",
       "</div>"
      ],
      "text/plain": [
       "                     count_missing\n",
       "NoEmp             0              0\n",
       "CreateJob         0              0\n",
       "LowDoc            0           3117\n",
       "DisbursementGross 0              0\n",
       "new_business      0            544\n",
       "urban_flag        0          83339\n",
       "franchise_flag    0              0"
      ]
     },
     "execution_count": 87,
     "metadata": {},
     "output_type": "execute_result"
    }
   ],
   "source": [
    "# Same information, more compact\n",
    "pd.concat([pd.DataFrame([train_df[c].isna().sum()]) for c in setup.predictor_features],\n",
    "         keys=setup.predictor_features).set_axis(['count_missing'], axis=1)"
   ]
  },
  {
   "cell_type": "markdown",
   "id": "2b44bac7-428a-44ee-8a8f-35a8abda6b05",
   "metadata": {},
   "source": [
    "Most fields aren't missing too much.  However I must handle those that are.  I will use a median fill, especially since many of the fields with missingness seem to be binary"
   ]
  },
  {
   "cell_type": "markdown",
   "id": "3cecb611-6088-4781-a316-64f686763548",
   "metadata": {},
   "source": [
    "##### Explore scaling"
   ]
  },
  {
   "cell_type": "code",
   "execution_count": 88,
   "id": "541726b4-1d33-4073-8d83-892c84ffed0d",
   "metadata": {},
   "outputs": [
    {
     "data": {
      "text/html": [
       "<div>\n",
       "<style scoped>\n",
       "    .dataframe tbody tr th:only-of-type {\n",
       "        vertical-align: middle;\n",
       "    }\n",
       "\n",
       "    .dataframe tbody tr th {\n",
       "        vertical-align: top;\n",
       "    }\n",
       "\n",
       "    .dataframe thead th {\n",
       "        text-align: right;\n",
       "    }\n",
       "</style>\n",
       "<table border=\"1\" class=\"dataframe\">\n",
       "  <thead>\n",
       "    <tr style=\"text-align: right;\">\n",
       "      <th></th>\n",
       "      <th></th>\n",
       "      <th>0</th>\n",
       "    </tr>\n",
       "  </thead>\n",
       "  <tbody>\n",
       "    <tr>\n",
       "      <th>NoEmp</th>\n",
       "      <th>0</th>\n",
       "      <td>425</td>\n",
       "    </tr>\n",
       "    <tr>\n",
       "      <th>CreateJob</th>\n",
       "      <th>0</th>\n",
       "      <td>184</td>\n",
       "    </tr>\n",
       "    <tr>\n",
       "      <th>LowDoc</th>\n",
       "      <th>0</th>\n",
       "      <td>2</td>\n",
       "    </tr>\n",
       "    <tr>\n",
       "      <th>DisbursementGross</th>\n",
       "      <th>0</th>\n",
       "      <td>78795</td>\n",
       "    </tr>\n",
       "    <tr>\n",
       "      <th>new_business</th>\n",
       "      <th>0</th>\n",
       "      <td>2</td>\n",
       "    </tr>\n",
       "    <tr>\n",
       "      <th>urban_flag</th>\n",
       "      <th>0</th>\n",
       "      <td>2</td>\n",
       "    </tr>\n",
       "    <tr>\n",
       "      <th>franchise_flag</th>\n",
       "      <th>0</th>\n",
       "      <td>2</td>\n",
       "    </tr>\n",
       "  </tbody>\n",
       "</table>\n",
       "</div>"
      ],
      "text/plain": [
       "                         0\n",
       "NoEmp             0    425\n",
       "CreateJob         0    184\n",
       "LowDoc            0      2\n",
       "DisbursementGross 0  78795\n",
       "new_business      0      2\n",
       "urban_flag        0      2\n",
       "franchise_flag    0      2"
      ]
     },
     "execution_count": 88,
     "metadata": {},
     "output_type": "execute_result"
    }
   ],
   "source": [
    "# Level counts\n",
    "feature_level_df = pd.concat([pd.DataFrame([train_df[c].value_counts().count()]) for c in setup.predictor_features],\n",
    "         keys=setup.predictor_features)\n",
    "feature_level_df"
   ]
  },
  {
   "cell_type": "markdown",
   "id": "daa3b3e1-e954-4dc6-8fc1-e08bca77f3d0",
   "metadata": {},
   "source": [
    "A number of features are binary.  I don't need to scale these.  The others must be scaled.  "
   ]
  },
  {
   "cell_type": "markdown",
   "id": "64972ab5-a9ce-42f9-b01f-e682177f3d0b",
   "metadata": {},
   "source": [
    "What I will do is scale features with more than a threshold number of levels using a quantile scaler.  Then I'll use a MinMax scaler on everything to be safe (as a 2 level feature could have values other than 0,1)."
   ]
  },
  {
   "cell_type": "markdown",
   "id": "8405651f-7ead-41de-8ff2-1b73a1f870e0",
   "metadata": {},
   "source": [
    "##### Create imputer to do the median fill and scaling\n",
    "This imputer fills missing values, adding missingness indicator features.  Then it quantile scales features with over 5 levels, and MinMax scales the rest."
   ]
  },
  {
   "cell_type": "code",
   "execution_count": 306,
   "id": "36cab121-be47-444d-bf83-2195fb8f05d7",
   "metadata": {},
   "outputs": [],
   "source": [
    "importlib.reload(sg_imputer)\n",
    "from sba_gnn.sba_gnn.sg_imputer import GNNImputer"
   ]
  },
  {
   "cell_type": "code",
   "execution_count": 307,
   "id": "e89a8a33-9491-42be-b01d-a5fca91ff11c",
   "metadata": {},
   "outputs": [],
   "source": [
    "imputer = GNNImputer(features = setup.predictor_features)                               "
   ]
  },
  {
   "cell_type": "code",
   "execution_count": 308,
   "id": "b6462a08-fe49-4b5d-96d6-d80a1696b1ff",
   "metadata": {},
   "outputs": [],
   "source": [
    "train_out = imputer.fit_transform(train_df)"
   ]
  },
  {
   "cell_type": "code",
   "execution_count": 309,
   "id": "95a02134-c0fc-458a-8f00-b5a6662b7cc4",
   "metadata": {},
   "outputs": [
    {
     "data": {
      "text/html": [
       "<div>\n",
       "<style scoped>\n",
       "    .dataframe tbody tr th:only-of-type {\n",
       "        vertical-align: middle;\n",
       "    }\n",
       "\n",
       "    .dataframe tbody tr th {\n",
       "        vertical-align: top;\n",
       "    }\n",
       "\n",
       "    .dataframe thead th {\n",
       "        text-align: right;\n",
       "    }\n",
       "</style>\n",
       "<table border=\"1\" class=\"dataframe\">\n",
       "  <thead>\n",
       "    <tr style=\"text-align: right;\">\n",
       "      <th></th>\n",
       "      <th>NoEmp</th>\n",
       "      <th>CreateJob</th>\n",
       "      <th>LowDoc</th>\n",
       "      <th>DisbursementGross</th>\n",
       "      <th>new_business</th>\n",
       "      <th>urban_flag</th>\n",
       "      <th>franchise_flag</th>\n",
       "      <th>missingindicator_LowDoc</th>\n",
       "      <th>missingindicator_new_business</th>\n",
       "      <th>missingindicator_urban_flag</th>\n",
       "      <th>NAICS</th>\n",
       "    </tr>\n",
       "  </thead>\n",
       "  <tbody>\n",
       "    <tr>\n",
       "      <th>count</th>\n",
       "      <td>425594.000000</td>\n",
       "      <td>425594.000000</td>\n",
       "      <td>425594.000000</td>\n",
       "      <td>425594.000000</td>\n",
       "      <td>425594.000000</td>\n",
       "      <td>425594.000000</td>\n",
       "      <td>425594.000000</td>\n",
       "      <td>425594.000000</td>\n",
       "      <td>425594.000000</td>\n",
       "      <td>425594.000000</td>\n",
       "      <td>425594.000000</td>\n",
       "    </tr>\n",
       "    <tr>\n",
       "      <th>mean</th>\n",
       "      <td>0.000952</td>\n",
       "      <td>-0.425126</td>\n",
       "      <td>-0.805820</td>\n",
       "      <td>-0.008115</td>\n",
       "      <td>-0.440904</td>\n",
       "      <td>0.702341</td>\n",
       "      <td>-0.898283</td>\n",
       "      <td>-0.985352</td>\n",
       "      <td>-0.997444</td>\n",
       "      <td>-0.608364</td>\n",
       "      <td>816.985373</td>\n",
       "    </tr>\n",
       "    <tr>\n",
       "      <th>std</th>\n",
       "      <td>0.575300</td>\n",
       "      <td>0.794153</td>\n",
       "      <td>0.592162</td>\n",
       "      <td>0.579310</td>\n",
       "      <td>0.897555</td>\n",
       "      <td>0.711842</td>\n",
       "      <td>0.439417</td>\n",
       "      <td>0.170532</td>\n",
       "      <td>0.071459</td>\n",
       "      <td>0.793659</td>\n",
       "      <td>342.255738</td>\n",
       "    </tr>\n",
       "    <tr>\n",
       "      <th>min</th>\n",
       "      <td>-1.000000</td>\n",
       "      <td>-1.000000</td>\n",
       "      <td>-1.000000</td>\n",
       "      <td>-1.000000</td>\n",
       "      <td>-1.000000</td>\n",
       "      <td>-1.000000</td>\n",
       "      <td>-1.000000</td>\n",
       "      <td>-1.000000</td>\n",
       "      <td>-1.000000</td>\n",
       "      <td>-1.000000</td>\n",
       "      <td>1.000000</td>\n",
       "    </tr>\n",
       "    <tr>\n",
       "      <th>25%</th>\n",
       "      <td>-0.435435</td>\n",
       "      <td>-1.000000</td>\n",
       "      <td>-1.000000</td>\n",
       "      <td>-0.510511</td>\n",
       "      <td>-1.000000</td>\n",
       "      <td>1.000000</td>\n",
       "      <td>-1.000000</td>\n",
       "      <td>-1.000000</td>\n",
       "      <td>-1.000000</td>\n",
       "      <td>-1.000000</td>\n",
       "      <td>687.000000</td>\n",
       "    </tr>\n",
       "    <tr>\n",
       "      <th>50%</th>\n",
       "      <td>0.029029</td>\n",
       "      <td>-1.000000</td>\n",
       "      <td>-1.000000</td>\n",
       "      <td>-0.011011</td>\n",
       "      <td>-1.000000</td>\n",
       "      <td>1.000000</td>\n",
       "      <td>-1.000000</td>\n",
       "      <td>-1.000000</td>\n",
       "      <td>-1.000000</td>\n",
       "      <td>-1.000000</td>\n",
       "      <td>897.000000</td>\n",
       "    </tr>\n",
       "    <tr>\n",
       "      <th>75%</th>\n",
       "      <td>0.505506</td>\n",
       "      <td>0.557558</td>\n",
       "      <td>-1.000000</td>\n",
       "      <td>0.492997</td>\n",
       "      <td>1.000000</td>\n",
       "      <td>1.000000</td>\n",
       "      <td>-1.000000</td>\n",
       "      <td>-1.000000</td>\n",
       "      <td>-1.000000</td>\n",
       "      <td>-1.000000</td>\n",
       "      <td>1094.000000</td>\n",
       "    </tr>\n",
       "    <tr>\n",
       "      <th>max</th>\n",
       "      <td>1.000000</td>\n",
       "      <td>1.000000</td>\n",
       "      <td>1.000000</td>\n",
       "      <td>1.000000</td>\n",
       "      <td>1.000000</td>\n",
       "      <td>1.000000</td>\n",
       "      <td>1.000000</td>\n",
       "      <td>1.000000</td>\n",
       "      <td>1.000000</td>\n",
       "      <td>1.000000</td>\n",
       "      <td>1232.000000</td>\n",
       "    </tr>\n",
       "  </tbody>\n",
       "</table>\n",
       "</div>"
      ],
      "text/plain": [
       "               NoEmp      CreateJob         LowDoc  DisbursementGross  \\\n",
       "count  425594.000000  425594.000000  425594.000000      425594.000000   \n",
       "mean        0.000952      -0.425126      -0.805820          -0.008115   \n",
       "std         0.575300       0.794153       0.592162           0.579310   \n",
       "min        -1.000000      -1.000000      -1.000000          -1.000000   \n",
       "25%        -0.435435      -1.000000      -1.000000          -0.510511   \n",
       "50%         0.029029      -1.000000      -1.000000          -0.011011   \n",
       "75%         0.505506       0.557558      -1.000000           0.492997   \n",
       "max         1.000000       1.000000       1.000000           1.000000   \n",
       "\n",
       "        new_business     urban_flag  franchise_flag  missingindicator_LowDoc  \\\n",
       "count  425594.000000  425594.000000   425594.000000            425594.000000   \n",
       "mean       -0.440904       0.702341       -0.898283                -0.985352   \n",
       "std         0.897555       0.711842        0.439417                 0.170532   \n",
       "min        -1.000000      -1.000000       -1.000000                -1.000000   \n",
       "25%        -1.000000       1.000000       -1.000000                -1.000000   \n",
       "50%        -1.000000       1.000000       -1.000000                -1.000000   \n",
       "75%         1.000000       1.000000       -1.000000                -1.000000   \n",
       "max         1.000000       1.000000        1.000000                 1.000000   \n",
       "\n",
       "       missingindicator_new_business  missingindicator_urban_flag  \\\n",
       "count                  425594.000000                425594.000000   \n",
       "mean                       -0.997444                    -0.608364   \n",
       "std                         0.071459                     0.793659   \n",
       "min                        -1.000000                    -1.000000   \n",
       "25%                        -1.000000                    -1.000000   \n",
       "50%                        -1.000000                    -1.000000   \n",
       "75%                        -1.000000                    -1.000000   \n",
       "max                         1.000000                     1.000000   \n",
       "\n",
       "               NAICS  \n",
       "count  425594.000000  \n",
       "mean      816.985373  \n",
       "std       342.255738  \n",
       "min         1.000000  \n",
       "25%       687.000000  \n",
       "50%       897.000000  \n",
       "75%      1094.000000  \n",
       "max      1232.000000  "
      ]
     },
     "execution_count": 309,
     "metadata": {},
     "output_type": "execute_result"
    }
   ],
   "source": [
    "train_out.describe()"
   ]
  },
  {
   "cell_type": "code",
   "execution_count": 311,
   "id": "6369a1b8-06be-4997-9608-2c5fbbdf6b05",
   "metadata": {},
   "outputs": [],
   "source": [
    "with open(Path(setup.temp_path).joinpath('10_DATA_imputer.pkl'), 'wb') as fout:\n",
    "    pickle.dump(imputer, fout)"
   ]
  },
  {
   "cell_type": "code",
   "execution_count": 276,
   "id": "4f937099-9be8-4225-b9c3-c87744a27344",
   "metadata": {},
   "outputs": [],
   "source": [
    "with open(Path(setup.temp_path).joinpath('10_DATA_features.pkl'), 'wb') as fout:\n",
    "    pickle.dump(imputer.features_out, fout)"
   ]
  },
  {
   "cell_type": "code",
   "execution_count": 312,
   "id": "73be0dfd-f45a-47b8-85fc-6a00bdc36396",
   "metadata": {},
   "outputs": [
    {
     "name": "stdout",
     "output_type": "stream",
     "text": [
      "NAICS encoder max num: 1232\n"
     ]
    }
   ],
   "source": [
    "naics_max_levels = imputer.get_naics_encoder_levels()\n",
    "print(f'NAICS encoder max num: {naics_max_levels}')\n",
    "with open(Path(setup.temp_path).joinpath('10_DATA_naics_max_levels.pkl'), 'wb') as fout:\n",
    "    pickle.dump(naics_max_levels, fout)"
   ]
  },
  {
   "cell_type": "markdown",
   "id": "d0d1b862-6f1e-46fe-b7c7-b50f8bf259ab",
   "metadata": {},
   "source": [
    "## Transform Test, Validation Data"
   ]
  },
  {
   "cell_type": "code",
   "execution_count": 313,
   "id": "7f65e91f-eca0-40e3-8bd5-7614bafbb05e",
   "metadata": {},
   "outputs": [],
   "source": [
    "test_df = sba_loans[sba_loans['dset'] == 'test']\n",
    "val_df = sba_loans[sba_loans['dset'] == 'val']"
   ]
  },
  {
   "cell_type": "code",
   "execution_count": 314,
   "id": "475c05c5-7a12-4e67-ab99-d0eab7730bf2",
   "metadata": {},
   "outputs": [],
   "source": [
    "test_out = imputer.transform(test_df)"
   ]
  },
  {
   "cell_type": "code",
   "execution_count": 315,
   "id": "0c0e36f1-be1a-4cc7-a317-04f7daa48a89",
   "metadata": {},
   "outputs": [],
   "source": [
    "val_out = imputer.transform(val_df)"
   ]
  },
  {
   "cell_type": "code",
   "execution_count": 316,
   "id": "1a1b4b8c-79d3-4747-82bb-28fc7592f5c8",
   "metadata": {},
   "outputs": [
    {
     "data": {
      "text/html": [
       "<div>\n",
       "<style scoped>\n",
       "    .dataframe tbody tr th:only-of-type {\n",
       "        vertical-align: middle;\n",
       "    }\n",
       "\n",
       "    .dataframe tbody tr th {\n",
       "        vertical-align: top;\n",
       "    }\n",
       "\n",
       "    .dataframe thead th {\n",
       "        text-align: right;\n",
       "    }\n",
       "</style>\n",
       "<table border=\"1\" class=\"dataframe\">\n",
       "  <thead>\n",
       "    <tr style=\"text-align: right;\">\n",
       "      <th></th>\n",
       "      <th>DisbursementGross</th>\n",
       "      <th>NoEmp</th>\n",
       "      <th>DisbursementGross</th>\n",
       "      <th>NoEmp</th>\n",
       "    </tr>\n",
       "  </thead>\n",
       "  <tbody>\n",
       "    <tr>\n",
       "      <th>DisbursementGross</th>\n",
       "      <td>1.000000</td>\n",
       "      <td>0.442105</td>\n",
       "      <td>1.000000</td>\n",
       "      <td>0.442105</td>\n",
       "    </tr>\n",
       "    <tr>\n",
       "      <th>NoEmp</th>\n",
       "      <td>0.442105</td>\n",
       "      <td>1.000000</td>\n",
       "      <td>0.442105</td>\n",
       "      <td>1.000000</td>\n",
       "    </tr>\n",
       "    <tr>\n",
       "      <th>DisbursementGross</th>\n",
       "      <td>1.000000</td>\n",
       "      <td>0.442105</td>\n",
       "      <td>1.000000</td>\n",
       "      <td>0.442105</td>\n",
       "    </tr>\n",
       "    <tr>\n",
       "      <th>NoEmp</th>\n",
       "      <td>0.442105</td>\n",
       "      <td>1.000000</td>\n",
       "      <td>0.442105</td>\n",
       "      <td>1.000000</td>\n",
       "    </tr>\n",
       "  </tbody>\n",
       "</table>\n",
       "</div>"
      ],
      "text/plain": [
       "                   DisbursementGross     NoEmp  DisbursementGross     NoEmp\n",
       "DisbursementGross           1.000000  0.442105           1.000000  0.442105\n",
       "NoEmp                       0.442105  1.000000           0.442105  1.000000\n",
       "DisbursementGross           1.000000  0.442105           1.000000  0.442105\n",
       "NoEmp                       0.442105  1.000000           0.442105  1.000000"
      ]
     },
     "execution_count": 316,
     "metadata": {},
     "output_type": "execute_result"
    }
   ],
   "source": [
    "pd.concat([test_out[['DisbursementGross', 'NoEmp']], test_df[['DisbursementGross', 'NoEmp']]],\n",
    "          axis=1).corr(method='spearman')"
   ]
  },
  {
   "cell_type": "code",
   "execution_count": 317,
   "id": "016a2caa-ddce-426b-bd70-047fac669794",
   "metadata": {},
   "outputs": [
    {
     "data": {
      "text/html": [
       "<div>\n",
       "<style scoped>\n",
       "    .dataframe tbody tr th:only-of-type {\n",
       "        vertical-align: middle;\n",
       "    }\n",
       "\n",
       "    .dataframe tbody tr th {\n",
       "        vertical-align: top;\n",
       "    }\n",
       "\n",
       "    .dataframe thead th {\n",
       "        text-align: right;\n",
       "    }\n",
       "</style>\n",
       "<table border=\"1\" class=\"dataframe\">\n",
       "  <thead>\n",
       "    <tr style=\"text-align: right;\">\n",
       "      <th></th>\n",
       "      <th>NoEmp</th>\n",
       "      <th>CreateJob</th>\n",
       "      <th>LowDoc</th>\n",
       "      <th>DisbursementGross</th>\n",
       "      <th>new_business</th>\n",
       "      <th>urban_flag</th>\n",
       "      <th>franchise_flag</th>\n",
       "      <th>missingindicator_LowDoc</th>\n",
       "      <th>missingindicator_new_business</th>\n",
       "      <th>missingindicator_urban_flag</th>\n",
       "      <th>NAICS</th>\n",
       "    </tr>\n",
       "  </thead>\n",
       "  <tbody>\n",
       "    <tr>\n",
       "      <th>count</th>\n",
       "      <td>126041.000000</td>\n",
       "      <td>126041.000000</td>\n",
       "      <td>126041.000000</td>\n",
       "      <td>126041.000000</td>\n",
       "      <td>126041.000000</td>\n",
       "      <td>126041.000000</td>\n",
       "      <td>126041.000000</td>\n",
       "      <td>126041.000000</td>\n",
       "      <td>126041.000000</td>\n",
       "      <td>126041.000000</td>\n",
       "      <td>126041.000000</td>\n",
       "    </tr>\n",
       "    <tr>\n",
       "      <th>mean</th>\n",
       "      <td>-0.000669</td>\n",
       "      <td>-0.421500</td>\n",
       "      <td>-0.802905</td>\n",
       "      <td>-0.008551</td>\n",
       "      <td>-0.442769</td>\n",
       "      <td>0.704160</td>\n",
       "      <td>-0.898049</td>\n",
       "      <td>-0.985402</td>\n",
       "      <td>-0.997937</td>\n",
       "      <td>-0.606557</td>\n",
       "      <td>814.446014</td>\n",
       "    </tr>\n",
       "    <tr>\n",
       "      <th>std</th>\n",
       "      <td>0.575287</td>\n",
       "      <td>0.795284</td>\n",
       "      <td>0.596109</td>\n",
       "      <td>0.579318</td>\n",
       "      <td>0.896639</td>\n",
       "      <td>0.710044</td>\n",
       "      <td>0.439897</td>\n",
       "      <td>0.170247</td>\n",
       "      <td>0.064198</td>\n",
       "      <td>0.795043</td>\n",
       "      <td>343.605139</td>\n",
       "    </tr>\n",
       "    <tr>\n",
       "      <th>min</th>\n",
       "      <td>-1.000000</td>\n",
       "      <td>-1.000000</td>\n",
       "      <td>-1.000000</td>\n",
       "      <td>-1.000000</td>\n",
       "      <td>-1.000000</td>\n",
       "      <td>-1.000000</td>\n",
       "      <td>-1.000000</td>\n",
       "      <td>-1.000000</td>\n",
       "      <td>-1.000000</td>\n",
       "      <td>-1.000000</td>\n",
       "      <td>0.000000</td>\n",
       "    </tr>\n",
       "    <tr>\n",
       "      <th>25%</th>\n",
       "      <td>-0.435435</td>\n",
       "      <td>-1.000000</td>\n",
       "      <td>-1.000000</td>\n",
       "      <td>-0.513514</td>\n",
       "      <td>-1.000000</td>\n",
       "      <td>1.000000</td>\n",
       "      <td>-1.000000</td>\n",
       "      <td>-1.000000</td>\n",
       "      <td>-1.000000</td>\n",
       "      <td>-1.000000</td>\n",
       "      <td>680.000000</td>\n",
       "    </tr>\n",
       "    <tr>\n",
       "      <th>50%</th>\n",
       "      <td>0.029029</td>\n",
       "      <td>-1.000000</td>\n",
       "      <td>-1.000000</td>\n",
       "      <td>-0.011011</td>\n",
       "      <td>-1.000000</td>\n",
       "      <td>1.000000</td>\n",
       "      <td>-1.000000</td>\n",
       "      <td>-1.000000</td>\n",
       "      <td>-1.000000</td>\n",
       "      <td>-1.000000</td>\n",
       "      <td>890.000000</td>\n",
       "    </tr>\n",
       "    <tr>\n",
       "      <th>75%</th>\n",
       "      <td>0.505506</td>\n",
       "      <td>0.557558</td>\n",
       "      <td>-1.000000</td>\n",
       "      <td>0.491491</td>\n",
       "      <td>1.000000</td>\n",
       "      <td>1.000000</td>\n",
       "      <td>-1.000000</td>\n",
       "      <td>-1.000000</td>\n",
       "      <td>-1.000000</td>\n",
       "      <td>-1.000000</td>\n",
       "      <td>1093.000000</td>\n",
       "    </tr>\n",
       "    <tr>\n",
       "      <th>max</th>\n",
       "      <td>1.000000</td>\n",
       "      <td>1.000000</td>\n",
       "      <td>1.000000</td>\n",
       "      <td>1.000000</td>\n",
       "      <td>1.000000</td>\n",
       "      <td>1.000000</td>\n",
       "      <td>1.000000</td>\n",
       "      <td>1.000000</td>\n",
       "      <td>1.000000</td>\n",
       "      <td>1.000000</td>\n",
       "      <td>1232.000000</td>\n",
       "    </tr>\n",
       "  </tbody>\n",
       "</table>\n",
       "</div>"
      ],
      "text/plain": [
       "               NoEmp      CreateJob         LowDoc  DisbursementGross  \\\n",
       "count  126041.000000  126041.000000  126041.000000      126041.000000   \n",
       "mean       -0.000669      -0.421500      -0.802905          -0.008551   \n",
       "std         0.575287       0.795284       0.596109           0.579318   \n",
       "min        -1.000000      -1.000000      -1.000000          -1.000000   \n",
       "25%        -0.435435      -1.000000      -1.000000          -0.513514   \n",
       "50%         0.029029      -1.000000      -1.000000          -0.011011   \n",
       "75%         0.505506       0.557558      -1.000000           0.491491   \n",
       "max         1.000000       1.000000       1.000000           1.000000   \n",
       "\n",
       "        new_business     urban_flag  franchise_flag  missingindicator_LowDoc  \\\n",
       "count  126041.000000  126041.000000   126041.000000            126041.000000   \n",
       "mean       -0.442769       0.704160       -0.898049                -0.985402   \n",
       "std         0.896639       0.710044        0.439897                 0.170247   \n",
       "min        -1.000000      -1.000000       -1.000000                -1.000000   \n",
       "25%        -1.000000       1.000000       -1.000000                -1.000000   \n",
       "50%        -1.000000       1.000000       -1.000000                -1.000000   \n",
       "75%         1.000000       1.000000       -1.000000                -1.000000   \n",
       "max         1.000000       1.000000        1.000000                 1.000000   \n",
       "\n",
       "       missingindicator_new_business  missingindicator_urban_flag  \\\n",
       "count                  126041.000000                126041.000000   \n",
       "mean                       -0.997937                    -0.606557   \n",
       "std                         0.064198                     0.795043   \n",
       "min                        -1.000000                    -1.000000   \n",
       "25%                        -1.000000                    -1.000000   \n",
       "50%                        -1.000000                    -1.000000   \n",
       "75%                        -1.000000                    -1.000000   \n",
       "max                         1.000000                     1.000000   \n",
       "\n",
       "               NAICS  \n",
       "count  126041.000000  \n",
       "mean      814.446014  \n",
       "std       343.605139  \n",
       "min         0.000000  \n",
       "25%       680.000000  \n",
       "50%       890.000000  \n",
       "75%      1093.000000  \n",
       "max      1232.000000  "
      ]
     },
     "execution_count": 317,
     "metadata": {},
     "output_type": "execute_result"
    }
   ],
   "source": [
    "val_out.describe()"
   ]
  },
  {
   "cell_type": "code",
   "execution_count": 318,
   "id": "5d1adc3b-0029-412a-87bb-e45c9a6587ca",
   "metadata": {},
   "outputs": [
    {
     "data": {
      "text/html": [
       "<div>\n",
       "<style scoped>\n",
       "    .dataframe tbody tr th:only-of-type {\n",
       "        vertical-align: middle;\n",
       "    }\n",
       "\n",
       "    .dataframe tbody tr th {\n",
       "        vertical-align: top;\n",
       "    }\n",
       "\n",
       "    .dataframe thead th {\n",
       "        text-align: right;\n",
       "    }\n",
       "</style>\n",
       "<table border=\"1\" class=\"dataframe\">\n",
       "  <thead>\n",
       "    <tr style=\"text-align: right;\">\n",
       "      <th></th>\n",
       "      <th>NoEmp</th>\n",
       "      <th>CreateJob</th>\n",
       "      <th>LowDoc</th>\n",
       "      <th>DisbursementGross</th>\n",
       "      <th>new_business</th>\n",
       "      <th>urban_flag</th>\n",
       "      <th>franchise_flag</th>\n",
       "      <th>missingindicator_LowDoc</th>\n",
       "      <th>missingindicator_new_business</th>\n",
       "      <th>missingindicator_urban_flag</th>\n",
       "      <th>NAICS</th>\n",
       "    </tr>\n",
       "  </thead>\n",
       "  <tbody>\n",
       "    <tr>\n",
       "      <th>count</th>\n",
       "      <td>136446.000000</td>\n",
       "      <td>136446.000000</td>\n",
       "      <td>136446.000000</td>\n",
       "      <td>136446.000000</td>\n",
       "      <td>136446.000000</td>\n",
       "      <td>136446.000000</td>\n",
       "      <td>136446.000000</td>\n",
       "      <td>136446.000000</td>\n",
       "      <td>136446.000000</td>\n",
       "      <td>136446.000000</td>\n",
       "      <td>136446.000000</td>\n",
       "    </tr>\n",
       "    <tr>\n",
       "      <th>mean</th>\n",
       "      <td>0.014605</td>\n",
       "      <td>-0.424661</td>\n",
       "      <td>-0.802134</td>\n",
       "      <td>-0.010710</td>\n",
       "      <td>-0.455448</td>\n",
       "      <td>0.715477</td>\n",
       "      <td>-0.903889</td>\n",
       "      <td>-0.985122</td>\n",
       "      <td>-0.997420</td>\n",
       "      <td>-0.582223</td>\n",
       "      <td>616.290606</td>\n",
       "    </tr>\n",
       "    <tr>\n",
       "      <th>std</th>\n",
       "      <td>0.577628</td>\n",
       "      <td>0.794512</td>\n",
       "      <td>0.597146</td>\n",
       "      <td>0.578379</td>\n",
       "      <td>0.890266</td>\n",
       "      <td>0.698639</td>\n",
       "      <td>0.427769</td>\n",
       "      <td>0.171855</td>\n",
       "      <td>0.071784</td>\n",
       "      <td>0.813032</td>\n",
       "      <td>460.186502</td>\n",
       "    </tr>\n",
       "    <tr>\n",
       "      <th>min</th>\n",
       "      <td>-1.000000</td>\n",
       "      <td>-1.000000</td>\n",
       "      <td>-1.000000</td>\n",
       "      <td>-1.000000</td>\n",
       "      <td>-1.000000</td>\n",
       "      <td>-1.000000</td>\n",
       "      <td>-1.000000</td>\n",
       "      <td>-1.000000</td>\n",
       "      <td>-1.000000</td>\n",
       "      <td>-1.000000</td>\n",
       "      <td>0.000000</td>\n",
       "    </tr>\n",
       "    <tr>\n",
       "      <th>25%</th>\n",
       "      <td>-0.435435</td>\n",
       "      <td>-1.000000</td>\n",
       "      <td>-1.000000</td>\n",
       "      <td>-0.515055</td>\n",
       "      <td>-1.000000</td>\n",
       "      <td>1.000000</td>\n",
       "      <td>-1.000000</td>\n",
       "      <td>-1.000000</td>\n",
       "      <td>-1.000000</td>\n",
       "      <td>-1.000000</td>\n",
       "      <td>31.250000</td>\n",
       "    </tr>\n",
       "    <tr>\n",
       "      <th>50%</th>\n",
       "      <td>0.029029</td>\n",
       "      <td>-1.000000</td>\n",
       "      <td>-1.000000</td>\n",
       "      <td>-0.011011</td>\n",
       "      <td>-1.000000</td>\n",
       "      <td>1.000000</td>\n",
       "      <td>-1.000000</td>\n",
       "      <td>-1.000000</td>\n",
       "      <td>-1.000000</td>\n",
       "      <td>-1.000000</td>\n",
       "      <td>756.000000</td>\n",
       "    </tr>\n",
       "    <tr>\n",
       "      <th>75%</th>\n",
       "      <td>0.505506</td>\n",
       "      <td>0.557558</td>\n",
       "      <td>-1.000000</td>\n",
       "      <td>0.489428</td>\n",
       "      <td>1.000000</td>\n",
       "      <td>1.000000</td>\n",
       "      <td>-1.000000</td>\n",
       "      <td>-1.000000</td>\n",
       "      <td>-1.000000</td>\n",
       "      <td>-1.000000</td>\n",
       "      <td>1057.000000</td>\n",
       "    </tr>\n",
       "    <tr>\n",
       "      <th>max</th>\n",
       "      <td>1.000000</td>\n",
       "      <td>1.000000</td>\n",
       "      <td>1.000000</td>\n",
       "      <td>1.000000</td>\n",
       "      <td>1.000000</td>\n",
       "      <td>1.000000</td>\n",
       "      <td>1.000000</td>\n",
       "      <td>1.000000</td>\n",
       "      <td>1.000000</td>\n",
       "      <td>1.000000</td>\n",
       "      <td>1232.000000</td>\n",
       "    </tr>\n",
       "  </tbody>\n",
       "</table>\n",
       "</div>"
      ],
      "text/plain": [
       "               NoEmp      CreateJob         LowDoc  DisbursementGross  \\\n",
       "count  136446.000000  136446.000000  136446.000000      136446.000000   \n",
       "mean        0.014605      -0.424661      -0.802134          -0.010710   \n",
       "std         0.577628       0.794512       0.597146           0.578379   \n",
       "min        -1.000000      -1.000000      -1.000000          -1.000000   \n",
       "25%        -0.435435      -1.000000      -1.000000          -0.515055   \n",
       "50%         0.029029      -1.000000      -1.000000          -0.011011   \n",
       "75%         0.505506       0.557558      -1.000000           0.489428   \n",
       "max         1.000000       1.000000       1.000000           1.000000   \n",
       "\n",
       "        new_business     urban_flag  franchise_flag  missingindicator_LowDoc  \\\n",
       "count  136446.000000  136446.000000   136446.000000            136446.000000   \n",
       "mean       -0.455448       0.715477       -0.903889                -0.985122   \n",
       "std         0.890266       0.698639        0.427769                 0.171855   \n",
       "min        -1.000000      -1.000000       -1.000000                -1.000000   \n",
       "25%        -1.000000       1.000000       -1.000000                -1.000000   \n",
       "50%        -1.000000       1.000000       -1.000000                -1.000000   \n",
       "75%         1.000000       1.000000       -1.000000                -1.000000   \n",
       "max         1.000000       1.000000        1.000000                 1.000000   \n",
       "\n",
       "       missingindicator_new_business  missingindicator_urban_flag  \\\n",
       "count                  136446.000000                136446.000000   \n",
       "mean                       -0.997420                    -0.582223   \n",
       "std                         0.071784                     0.813032   \n",
       "min                        -1.000000                    -1.000000   \n",
       "25%                        -1.000000                    -1.000000   \n",
       "50%                        -1.000000                    -1.000000   \n",
       "75%                        -1.000000                    -1.000000   \n",
       "max                         1.000000                     1.000000   \n",
       "\n",
       "               NAICS  \n",
       "count  136446.000000  \n",
       "mean      616.290606  \n",
       "std       460.186502  \n",
       "min         0.000000  \n",
       "25%        31.250000  \n",
       "50%       756.000000  \n",
       "75%      1057.000000  \n",
       "max      1232.000000  "
      ]
     },
     "execution_count": 318,
     "metadata": {},
     "output_type": "execute_result"
    }
   ],
   "source": [
    "test_out.describe()"
   ]
  },
  {
   "cell_type": "markdown",
   "id": "a8045a54-8f8f-4993-b591-cf265ba60adc",
   "metadata": {},
   "source": [
    "## Combine data\n",
    "Combine transformed datasets, with key information.  Include the business ID, target status, NAICS features, as well as transformed features from above. Save this data for later use (especially the indices which indicate train/test statustrain_df"
   ]
  },
  {
   "cell_type": "code",
   "execution_count": 319,
   "id": "257a6cbe-c392-46f0-9a82-9f69892548d1",
   "metadata": {},
   "outputs": [
    {
     "name": "stdout",
     "output_type": "stream",
     "text": [
      "['LoanNr_ChkDgt', 'target', 'dset_naics_holdout', 'NAICS', 'NAICS_sector', 'menc_NAICS', 'menc_NAICS_sector', 'NS___Accommodation and Food Services', 'NS___Construction', 'NS___Health Care and Social Assistance', 'NS___Manufacturing', 'NS___Other Services (except Public Administration)', 'NS___Professional, Scientific, and Technical Services', 'NS___Retail Trade', 'NS___Wholesale Trade', 'NS___infrequent_sklearn']\n"
     ]
    }
   ],
   "source": [
    "naics_features = ['LoanNr_ChkDgt', 'target', 'dset_naics_holdout', 'NAICS', 'NAICS_sector', \n",
    "                  'menc_NAICS', 'menc_NAICS_sector'] +  \\\n",
    "    [c for c in train_df.columns if c.startswith('NS__')]\n",
    "print(naics_features)"
   ]
  },
  {
   "cell_type": "code",
   "execution_count": 320,
   "id": "a34a7d4a-608f-4750-b900-0b7e10fa64ad",
   "metadata": {},
   "outputs": [],
   "source": [
    "comb_naics = pd.concat([train_df[naics_features], \n",
    "                        test_df[naics_features], \n",
    "                        val_df[naics_features]], axis=0, keys=['train', 'test', 'val']) \\\n",
    "    .rename(columns={'NAICS':'NAICS_orig'})"
   ]
  },
  {
   "cell_type": "code",
   "execution_count": 321,
   "id": "861b31b9-d646-4639-9b05-948ff5f1e8c8",
   "metadata": {},
   "outputs": [
    {
     "name": "stdout",
     "output_type": "stream",
     "text": [
      "(688081, 28)\n"
     ]
    }
   ],
   "source": [
    "comb_df = pd.concat([comb_naics,\n",
    "                     pd.concat([train_out, test_out, val_out], \n",
    "                               axis=0, keys=['train', 'test', 'val'])],\n",
    "                    axis=1) \\\n",
    "    .reset_index(level=0) \\\n",
    "    .rename(columns={'level_0':'dset'}, errors='ignore')\n",
    "print(comb_df.shape)"
   ]
  },
  {
   "cell_type": "code",
   "execution_count": 322,
   "id": "80c39083-a0e4-4117-ab5f-02c98c237e6a",
   "metadata": {},
   "outputs": [
    {
     "name": "stdout",
     "output_type": "stream",
     "text": [
      "Index(['dset', 'LoanNr_ChkDgt', 'target', 'dset_naics_holdout', 'NAICS_orig',\n",
      "       'NAICS_sector', 'menc_NAICS', 'menc_NAICS_sector',\n",
      "       'NS___Accommodation and Food Services', 'NS___Construction',\n",
      "       'NS___Health Care and Social Assistance', 'NS___Manufacturing',\n",
      "       'NS___Other Services (except Public Administration)',\n",
      "       'NS___Professional, Scientific, and Technical Services',\n",
      "       'NS___Retail Trade', 'NS___Wholesale Trade', 'NS___infrequent_sklearn',\n",
      "       'NoEmp', 'CreateJob', 'LowDoc', 'DisbursementGross', 'new_business',\n",
      "       'urban_flag', 'franchise_flag', 'missingindicator_LowDoc',\n",
      "       'missingindicator_new_business', 'missingindicator_urban_flag',\n",
      "       'NAICS'],\n",
      "      dtype='object')\n"
     ]
    }
   ],
   "source": [
    "print(comb_df.columns)"
   ]
  },
  {
   "cell_type": "code",
   "execution_count": 323,
   "id": "98c5cf92-35ea-4371-b3e0-04abc85a41dd",
   "metadata": {},
   "outputs": [],
   "source": [
    "comb_df.to_parquet(Path(setup.temp_path).joinpath('10_DATA_combined_scaled_all.parquet'))"
   ]
  },
  {
   "cell_type": "code",
   "execution_count": 324,
   "id": "d560d81a-3f31-4fa1-a00a-1c94301272fb",
   "metadata": {},
   "outputs": [
    {
     "data": {
      "text/html": [
       "<div>\n",
       "<style scoped>\n",
       "    .dataframe tbody tr th:only-of-type {\n",
       "        vertical-align: middle;\n",
       "    }\n",
       "\n",
       "    .dataframe tbody tr th {\n",
       "        vertical-align: top;\n",
       "    }\n",
       "\n",
       "    .dataframe thead th {\n",
       "        text-align: right;\n",
       "    }\n",
       "</style>\n",
       "<table border=\"1\" class=\"dataframe\">\n",
       "  <thead>\n",
       "    <tr style=\"text-align: right;\">\n",
       "      <th></th>\n",
       "      <th>target</th>\n",
       "      <th>urban_flag</th>\n",
       "      <th>menc_NAICS</th>\n",
       "      <th>menc_NAICS_sector</th>\n",
       "      <th>DisbursementGross</th>\n",
       "    </tr>\n",
       "  </thead>\n",
       "  <tbody>\n",
       "    <tr>\n",
       "      <th>target</th>\n",
       "      <td>1.000000</td>\n",
       "      <td>0.013001</td>\n",
       "      <td>0.232990</td>\n",
       "      <td>0.108193</td>\n",
       "      <td>-0.166215</td>\n",
       "    </tr>\n",
       "    <tr>\n",
       "      <th>urban_flag</th>\n",
       "      <td>0.013001</td>\n",
       "      <td>1.000000</td>\n",
       "      <td>-0.018373</td>\n",
       "      <td>-0.013307</td>\n",
       "      <td>-0.004150</td>\n",
       "    </tr>\n",
       "    <tr>\n",
       "      <th>menc_NAICS</th>\n",
       "      <td>0.232990</td>\n",
       "      <td>-0.018373</td>\n",
       "      <td>1.000000</td>\n",
       "      <td>0.451235</td>\n",
       "      <td>-0.257954</td>\n",
       "    </tr>\n",
       "    <tr>\n",
       "      <th>menc_NAICS_sector</th>\n",
       "      <td>0.108193</td>\n",
       "      <td>-0.013307</td>\n",
       "      <td>0.451235</td>\n",
       "      <td>1.000000</td>\n",
       "      <td>-0.130283</td>\n",
       "    </tr>\n",
       "    <tr>\n",
       "      <th>DisbursementGross</th>\n",
       "      <td>-0.166215</td>\n",
       "      <td>-0.004150</td>\n",
       "      <td>-0.257954</td>\n",
       "      <td>-0.130283</td>\n",
       "      <td>1.000000</td>\n",
       "    </tr>\n",
       "  </tbody>\n",
       "</table>\n",
       "</div>"
      ],
      "text/plain": [
       "                     target  urban_flag  menc_NAICS  menc_NAICS_sector  \\\n",
       "target             1.000000    0.013001    0.232990           0.108193   \n",
       "urban_flag         0.013001    1.000000   -0.018373          -0.013307   \n",
       "menc_NAICS         0.232990   -0.018373    1.000000           0.451235   \n",
       "menc_NAICS_sector  0.108193   -0.013307    0.451235           1.000000   \n",
       "DisbursementGross -0.166215   -0.004150   -0.257954          -0.130283   \n",
       "\n",
       "                   DisbursementGross  \n",
       "target                     -0.166215  \n",
       "urban_flag                 -0.004150  \n",
       "menc_NAICS                 -0.257954  \n",
       "menc_NAICS_sector          -0.130283  \n",
       "DisbursementGross           1.000000  "
      ]
     },
     "execution_count": 324,
     "metadata": {},
     "output_type": "execute_result"
    }
   ],
   "source": [
    "comb_df[['target', 'urban_flag', 'menc_NAICS', 'menc_NAICS_sector', 'DisbursementGross']].corr()"
   ]
  },
  {
   "cell_type": "markdown",
   "id": "004afdb3-da89-433f-b28b-5e2bb34c5388",
   "metadata": {},
   "source": [
    "## Create Edge Map"
   ]
  },
  {
   "cell_type": "markdown",
   "id": "d433523f-9b47-49bb-8693-d58a935ba046",
   "metadata": {},
   "source": [
    "The following sections relate to graph neural networks.  I will create datasets for node features and relationships (edges)"
   ]
  },
  {
   "cell_type": "markdown",
   "id": "26bc950e-6ae0-4db0-89c1-e69acdfe94b8",
   "metadata": {},
   "source": [
    "I will have edges between a business and its NAICS, as well as edges to same-sector NAICS nodes.  This section creates general edge data, which may be filtered to create graphs"
   ]
  },
  {
   "cell_type": "markdown",
   "id": "57c9d767-53ac-4602-8362-6dfa03fed7e0",
   "metadata": {},
   "source": [
    "##### Create NAICS map to same-sector NAICS"
   ]
  },
  {
   "cell_type": "code",
   "execution_count": 325,
   "id": "2406e2b9-7ed3-4775-ae61-84cc1f60580d",
   "metadata": {},
   "outputs": [],
   "source": [
    "sector_map = comb_df[['NAICS_orig', 'NAICS_sector']].drop_duplicates()"
   ]
  },
  {
   "cell_type": "code",
   "execution_count": 326,
   "id": "e97b3e65-85ee-4782-ab2f-a437649ffb87",
   "metadata": {},
   "outputs": [],
   "source": [
    "naics_all_sectors = sector_map.merge(sector_map.rename(columns={'NAICS_orig':'NAICS_sim'}),\n",
    "                                     how='left', on ='NAICS_sector')\n",
    "naics_all_sectors = naics_all_sectors[naics_all_sectors['NAICS_orig'] != naics_all_sectors['NAICS_sim']]"
   ]
  },
  {
   "cell_type": "code",
   "execution_count": 327,
   "id": "7e5f9618-7e26-42c6-ae51-bc432431444f",
   "metadata": {},
   "outputs": [
    {
     "data": {
      "text/html": [
       "<div>\n",
       "<style scoped>\n",
       "    .dataframe tbody tr th:only-of-type {\n",
       "        vertical-align: middle;\n",
       "    }\n",
       "\n",
       "    .dataframe tbody tr th {\n",
       "        vertical-align: top;\n",
       "    }\n",
       "\n",
       "    .dataframe thead th {\n",
       "        text-align: right;\n",
       "    }\n",
       "</style>\n",
       "<table border=\"1\" class=\"dataframe\">\n",
       "  <thead>\n",
       "    <tr style=\"text-align: right;\">\n",
       "      <th></th>\n",
       "      <th>NAICS_orig</th>\n",
       "      <th>NAICS_sector</th>\n",
       "      <th>NAICS_sim</th>\n",
       "    </tr>\n",
       "  </thead>\n",
       "  <tbody>\n",
       "    <tr>\n",
       "      <th>278114</th>\n",
       "      <td>334111</td>\n",
       "      <td>31-33</td>\n",
       "      <td>327331</td>\n",
       "    </tr>\n",
       "    <tr>\n",
       "      <th>272109</th>\n",
       "      <td>445299</td>\n",
       "      <td>44-45</td>\n",
       "      <td>441310</td>\n",
       "    </tr>\n",
       "    <tr>\n",
       "      <th>139121</th>\n",
       "      <td>332431</td>\n",
       "      <td>31-33</td>\n",
       "      <td>313111</td>\n",
       "    </tr>\n",
       "    <tr>\n",
       "      <th>272717</th>\n",
       "      <td>484220</td>\n",
       "      <td>48-49</td>\n",
       "      <td>485999</td>\n",
       "    </tr>\n",
       "    <tr>\n",
       "      <th>281184</th>\n",
       "      <td>314911</td>\n",
       "      <td>31-33</td>\n",
       "      <td>311520</td>\n",
       "    </tr>\n",
       "  </tbody>\n",
       "</table>\n",
       "</div>"
      ],
      "text/plain": [
       "       NAICS_orig NAICS_sector NAICS_sim\n",
       "278114     334111        31-33    327331\n",
       "272109     445299        44-45    441310\n",
       "139121     332431        31-33    313111\n",
       "272717     484220        48-49    485999\n",
       "281184     314911        31-33    311520"
      ]
     },
     "execution_count": 327,
     "metadata": {},
     "output_type": "execute_result"
    }
   ],
   "source": [
    "naics_all_sectors.sample(5)"
   ]
  },
  {
   "cell_type": "markdown",
   "id": "52a6b0eb-cae9-4dee-978f-6cf2443ece0a",
   "metadata": {},
   "source": [
    "##### Functions for creating index for NAICS"
   ]
  },
  {
   "cell_type": "code",
   "execution_count": 328,
   "id": "e37d6b15-fe94-4599-b565-6a74afbbf24d",
   "metadata": {},
   "outputs": [],
   "source": [
    "def get_naics_index(naics_seq):\n",
    "    return 'n_' + naics_seq"
   ]
  },
  {
   "cell_type": "markdown",
   "id": "fd744be8-9ab7-44c2-9bce-7cf2eb18a787",
   "metadata": {},
   "source": [
    "##### Get edges from businesses to their exact NAICS"
   ]
  },
  {
   "cell_type": "code",
   "execution_count": 329,
   "id": "84b1163d-c35e-4df3-b9a5-4ed470eb8a71",
   "metadata": {},
   "outputs": [],
   "source": [
    "# Edges from businesses to their NAICS code\n",
    "naics_info_df = comb_df[['LoanNr_ChkDgt', 'NAICS_orig', 'dset']].copy() \\\n",
    "    .rename(columns={'LoanNr_ChkDgt':'source'}) \n",
    "naics_info_df['target'] = get_naics_index(naics_info_df['NAICS_orig'])\n",
    "\n",
    "edges_business_naics = naics_info_df[['source', 'target', 'dset']].copy()\n",
    "edges_business_naics['type'] = 'loan_naics'"
   ]
  },
  {
   "cell_type": "markdown",
   "id": "1cd85bee-763b-41c3-b72b-adc1580bf8de",
   "metadata": {},
   "source": [
    "##### Get edges from buisinesses to related NAICS codes"
   ]
  },
  {
   "cell_type": "code",
   "execution_count": 330,
   "id": "26f1d72a-64df-4cba-850f-785fe48c348e",
   "metadata": {},
   "outputs": [
    {
     "data": {
      "text/html": [
       "<div>\n",
       "<style scoped>\n",
       "    .dataframe tbody tr th:only-of-type {\n",
       "        vertical-align: middle;\n",
       "    }\n",
       "\n",
       "    .dataframe tbody tr th {\n",
       "        vertical-align: top;\n",
       "    }\n",
       "\n",
       "    .dataframe thead th {\n",
       "        text-align: right;\n",
       "    }\n",
       "</style>\n",
       "<table border=\"1\" class=\"dataframe\">\n",
       "  <thead>\n",
       "    <tr style=\"text-align: right;\">\n",
       "      <th></th>\n",
       "      <th>source</th>\n",
       "      <th>NAICS_orig</th>\n",
       "      <th>dset</th>\n",
       "      <th>target</th>\n",
       "    </tr>\n",
       "    <tr>\n",
       "      <th>index</th>\n",
       "      <th></th>\n",
       "      <th></th>\n",
       "      <th></th>\n",
       "      <th></th>\n",
       "    </tr>\n",
       "  </thead>\n",
       "  <tbody>\n",
       "    <tr>\n",
       "      <th>0</th>\n",
       "      <td>1000014003</td>\n",
       "      <td>451120</td>\n",
       "      <td>train</td>\n",
       "      <td>n_451120</td>\n",
       "    </tr>\n",
       "    <tr>\n",
       "      <th>2</th>\n",
       "      <td>1000034009</td>\n",
       "      <td>621210</td>\n",
       "      <td>train</td>\n",
       "      <td>n_621210</td>\n",
       "    </tr>\n",
       "    <tr>\n",
       "      <th>7</th>\n",
       "      <td>1000094005</td>\n",
       "      <td>811118</td>\n",
       "      <td>train</td>\n",
       "      <td>n_811118</td>\n",
       "    </tr>\n",
       "  </tbody>\n",
       "</table>\n",
       "</div>"
      ],
      "text/plain": [
       "           source NAICS_orig   dset    target\n",
       "index                                        \n",
       "0      1000014003     451120  train  n_451120\n",
       "2      1000034009     621210  train  n_621210\n",
       "7      1000094005     811118  train  n_811118"
      ]
     },
     "execution_count": 330,
     "metadata": {},
     "output_type": "execute_result"
    }
   ],
   "source": [
    "naics_info_df.head(3)"
   ]
  },
  {
   "cell_type": "code",
   "execution_count": 331,
   "id": "ed49e20e-230a-46ea-b970-421615092474",
   "metadata": {},
   "outputs": [
    {
     "name": "stdout",
     "output_type": "stream",
     "text": [
      "Sector NAICS edges: (67912366, 4)\n"
     ]
    }
   ],
   "source": [
    "edges_businesses_naics_sim = naics_info_df.drop(columns='target', errors='ignore') \\\n",
    "    .merge(naics_all_sectors, how='inner', on='NAICS_orig')\n",
    "edges_businesses_naics_sim['target'] = get_naics_index(edges_businesses_naics_sim['NAICS_sim'])\n",
    "edges_businesses_naics_sim = edges_businesses_naics_sim[['source', 'target', 'dset']]\n",
    "edges_businesses_naics_sim['type'] = 'loan_sector_naics'\n",
    "print(f'Sector NAICS edges: {edges_businesses_naics_sim.shape}')"
   ]
  },
  {
   "cell_type": "markdown",
   "id": "0ea97aa1-b6e9-4422-8398-6ea3cba8ce74",
   "metadata": {},
   "source": [
    "##### Sample these - See 00_setup.py\n",
    "The data is large so sampling could be considered here.  This is controlled in 00_setup.py."
   ]
  },
  {
   "cell_type": "code",
   "execution_count": 332,
   "id": "ba73c33f-fd68-425a-82ac-86e8f7308923",
   "metadata": {},
   "outputs": [
    {
     "name": "stdout",
     "output_type": "stream",
     "text": [
      "Sector NAICS edges post sample: (11413065, 4)\n"
     ]
    }
   ],
   "source": [
    "if setup.naics_sector_sample:\n",
    "    edges_businesses_naics_sim = edges_businesses_naics_sim.groupby('source') \\\n",
    "        .sample(setup.naics_sector_sample_n, replace=True, random_state=2342) \\\n",
    "        .drop_duplicates()\n",
    "    print(f'Sector NAICS edges post sample: {edges_businesses_naics_sim.shape}')"
   ]
  },
  {
   "cell_type": "code",
   "execution_count": 333,
   "id": "e97ed5aa-d5a3-4e52-94f8-ecc70601dbe0",
   "metadata": {},
   "outputs": [],
   "source": [
    "edges_all = pd.concat([edges_business_naics, edges_businesses_naics_sim], axis=0) \\\n",
    "    .reset_index(drop=True)"
   ]
  },
  {
   "cell_type": "code",
   "execution_count": 334,
   "id": "728a1cbb-bb6a-4b63-9f50-669830d18360",
   "metadata": {},
   "outputs": [
    {
     "data": {
      "text/plain": [
       "type\n",
       "loan_sector_naics    11413065\n",
       "loan_naics             688081\n",
       "Name: count, dtype: int64"
      ]
     },
     "execution_count": 334,
     "metadata": {},
     "output_type": "execute_result"
    }
   ],
   "source": [
    "edges_all['type'].value_counts()"
   ]
  },
  {
   "cell_type": "code",
   "execution_count": 335,
   "id": "158336d9-2530-44cf-b956-cee8f6faf31d",
   "metadata": {},
   "outputs": [
    {
     "name": "stdout",
     "output_type": "stream",
     "text": [
      "(12101146, 2)\n",
      "(12101146, 4)\n"
     ]
    }
   ],
   "source": [
    "print(edges_all[['source', 'target']].drop_duplicates().shape)\n",
    "print(edges_all.shape)"
   ]
  },
  {
   "cell_type": "code",
   "execution_count": 336,
   "id": "32da0193-ee59-477a-a2c6-539161626e15",
   "metadata": {},
   "outputs": [],
   "source": [
    "edges_all.to_parquet(Path(setup.temp_path).joinpath('10_DATA_graph_edges.parquet'))"
   ]
  },
  {
   "cell_type": "markdown",
   "id": "d4a28c5c-87f8-4147-89cd-e0374770c20b",
   "metadata": {},
   "source": [
    "## Get Node Features\n",
    "This section creates general node features data, which may be filtered to create graphs.  Not all features may be used, and not all nodes may be in all graphs."
   ]
  },
  {
   "cell_type": "code",
   "execution_count": 337,
   "id": "4d999dba-b0b6-4969-9ef9-a5dd2615d7d2",
   "metadata": {},
   "outputs": [],
   "source": [
    "# Business node features - these are the original features post scaling.\n",
    "# Include the target also - will be used to test the \"label trick\" in some future scripts\n",
    "features_business = comb_df[['LoanNr_ChkDgt', 'dset'] + imputer.features_out + ['target']] \\\n",
    "    .set_index('LoanNr_ChkDgt')\n",
    "features_business.to_parquet(Path(setup.temp_path).joinpath('10_DATA_graph_node_features_loans.parquet'))"
   ]
  },
  {
   "cell_type": "code",
   "execution_count": 338,
   "id": "8c380d15-a731-42ff-a7f9-c1e4b535ce59",
   "metadata": {},
   "outputs": [
    {
     "ename": "KeyError",
     "evalue": "'NAICS'",
     "output_type": "error",
     "traceback": [
      "\u001b[0;31m---------------------------------------------------------------------------\u001b[0m",
      "\u001b[0;31mKeyError\u001b[0m                                  Traceback (most recent call last)",
      "File \u001b[0;32m~/miniconda3/envs/tf_p38/lib/python3.8/site-packages/pandas/core/indexes/base.py:3653\u001b[0m, in \u001b[0;36mIndex.get_loc\u001b[0;34m(self, key)\u001b[0m\n\u001b[1;32m   3652\u001b[0m \u001b[38;5;28;01mtry\u001b[39;00m:\n\u001b[0;32m-> 3653\u001b[0m     \u001b[38;5;28;01mreturn\u001b[39;00m \u001b[38;5;28;43mself\u001b[39;49m\u001b[38;5;241;43m.\u001b[39;49m\u001b[43m_engine\u001b[49m\u001b[38;5;241;43m.\u001b[39;49m\u001b[43mget_loc\u001b[49m\u001b[43m(\u001b[49m\u001b[43mcasted_key\u001b[49m\u001b[43m)\u001b[49m\n\u001b[1;32m   3654\u001b[0m \u001b[38;5;28;01mexcept\u001b[39;00m \u001b[38;5;167;01mKeyError\u001b[39;00m \u001b[38;5;28;01mas\u001b[39;00m err:\n",
      "File \u001b[0;32m~/miniconda3/envs/tf_p38/lib/python3.8/site-packages/pandas/_libs/index.pyx:147\u001b[0m, in \u001b[0;36mpandas._libs.index.IndexEngine.get_loc\u001b[0;34m()\u001b[0m\n",
      "File \u001b[0;32m~/miniconda3/envs/tf_p38/lib/python3.8/site-packages/pandas/_libs/index.pyx:176\u001b[0m, in \u001b[0;36mpandas._libs.index.IndexEngine.get_loc\u001b[0;34m()\u001b[0m\n",
      "File \u001b[0;32mpandas/_libs/hashtable_class_helper.pxi:7080\u001b[0m, in \u001b[0;36mpandas._libs.hashtable.PyObjectHashTable.get_item\u001b[0;34m()\u001b[0m\n",
      "File \u001b[0;32mpandas/_libs/hashtable_class_helper.pxi:7088\u001b[0m, in \u001b[0;36mpandas._libs.hashtable.PyObjectHashTable.get_item\u001b[0;34m()\u001b[0m\n",
      "\u001b[0;31mKeyError\u001b[0m: 'NAICS'",
      "\nThe above exception was the direct cause of the following exception:\n",
      "\u001b[0;31mKeyError\u001b[0m                                  Traceback (most recent call last)",
      "Cell \u001b[0;32mIn[338], line 4\u001b[0m\n\u001b[1;32m      1\u001b[0m \u001b[38;5;66;03m# NAICS features - One hots, also the mean encodings\u001b[39;00m\n\u001b[1;32m      2\u001b[0m features_naics \u001b[38;5;241m=\u001b[39m comb_df[[\u001b[38;5;124m'\u001b[39m\u001b[38;5;124mNAICS_orig\u001b[39m\u001b[38;5;124m'\u001b[39m, \u001b[38;5;124m'\u001b[39m\u001b[38;5;124mmenc_NAICS\u001b[39m\u001b[38;5;124m'\u001b[39m, \u001b[38;5;124m'\u001b[39m\u001b[38;5;124mmenc_NAICS_sector\u001b[39m\u001b[38;5;124m'\u001b[39m] \u001b[38;5;241m+\u001b[39m [c \u001b[38;5;28;01mfor\u001b[39;00m c \u001b[38;5;129;01min\u001b[39;00m comb_df\u001b[38;5;241m.\u001b[39mcolumns \u001b[38;5;28;01mif\u001b[39;00m c\u001b[38;5;241m.\u001b[39mstartswith(\u001b[38;5;124m'\u001b[39m\u001b[38;5;124mNS__\u001b[39m\u001b[38;5;124m'\u001b[39m)]] \\\n\u001b[1;32m      3\u001b[0m     \u001b[38;5;241m.\u001b[39mdrop_duplicates()\n\u001b[0;32m----> 4\u001b[0m features_naics[\u001b[38;5;124m'\u001b[39m\u001b[38;5;124msource\u001b[39m\u001b[38;5;124m'\u001b[39m] \u001b[38;5;241m=\u001b[39m get_naics_index(\u001b[43mfeatures_naics\u001b[49m\u001b[43m[\u001b[49m\u001b[38;5;124;43m'\u001b[39;49m\u001b[38;5;124;43mNAICS\u001b[39;49m\u001b[38;5;124;43m'\u001b[39;49m\u001b[43m]\u001b[49m)\n\u001b[1;32m      5\u001b[0m features_naics\u001b[38;5;241m.\u001b[39mset_index(\u001b[38;5;124m'\u001b[39m\u001b[38;5;124msource\u001b[39m\u001b[38;5;124m'\u001b[39m, inplace\u001b[38;5;241m=\u001b[39m\u001b[38;5;28;01mTrue\u001b[39;00m) \n\u001b[1;32m      6\u001b[0m features_naics\u001b[38;5;241m.\u001b[39mdrop(columns\u001b[38;5;241m=\u001b[39m\u001b[38;5;124m'\u001b[39m\u001b[38;5;124mNAICS_orig\u001b[39m\u001b[38;5;124m'\u001b[39m, inplace\u001b[38;5;241m=\u001b[39m\u001b[38;5;28;01mTrue\u001b[39;00m) \n",
      "File \u001b[0;32m~/miniconda3/envs/tf_p38/lib/python3.8/site-packages/pandas/core/frame.py:3761\u001b[0m, in \u001b[0;36mDataFrame.__getitem__\u001b[0;34m(self, key)\u001b[0m\n\u001b[1;32m   3759\u001b[0m \u001b[38;5;28;01mif\u001b[39;00m \u001b[38;5;28mself\u001b[39m\u001b[38;5;241m.\u001b[39mcolumns\u001b[38;5;241m.\u001b[39mnlevels \u001b[38;5;241m>\u001b[39m \u001b[38;5;241m1\u001b[39m:\n\u001b[1;32m   3760\u001b[0m     \u001b[38;5;28;01mreturn\u001b[39;00m \u001b[38;5;28mself\u001b[39m\u001b[38;5;241m.\u001b[39m_getitem_multilevel(key)\n\u001b[0;32m-> 3761\u001b[0m indexer \u001b[38;5;241m=\u001b[39m \u001b[38;5;28;43mself\u001b[39;49m\u001b[38;5;241;43m.\u001b[39;49m\u001b[43mcolumns\u001b[49m\u001b[38;5;241;43m.\u001b[39;49m\u001b[43mget_loc\u001b[49m\u001b[43m(\u001b[49m\u001b[43mkey\u001b[49m\u001b[43m)\u001b[49m\n\u001b[1;32m   3762\u001b[0m \u001b[38;5;28;01mif\u001b[39;00m is_integer(indexer):\n\u001b[1;32m   3763\u001b[0m     indexer \u001b[38;5;241m=\u001b[39m [indexer]\n",
      "File \u001b[0;32m~/miniconda3/envs/tf_p38/lib/python3.8/site-packages/pandas/core/indexes/base.py:3655\u001b[0m, in \u001b[0;36mIndex.get_loc\u001b[0;34m(self, key)\u001b[0m\n\u001b[1;32m   3653\u001b[0m     \u001b[38;5;28;01mreturn\u001b[39;00m \u001b[38;5;28mself\u001b[39m\u001b[38;5;241m.\u001b[39m_engine\u001b[38;5;241m.\u001b[39mget_loc(casted_key)\n\u001b[1;32m   3654\u001b[0m \u001b[38;5;28;01mexcept\u001b[39;00m \u001b[38;5;167;01mKeyError\u001b[39;00m \u001b[38;5;28;01mas\u001b[39;00m err:\n\u001b[0;32m-> 3655\u001b[0m     \u001b[38;5;28;01mraise\u001b[39;00m \u001b[38;5;167;01mKeyError\u001b[39;00m(key) \u001b[38;5;28;01mfrom\u001b[39;00m \u001b[38;5;21;01merr\u001b[39;00m\n\u001b[1;32m   3656\u001b[0m \u001b[38;5;28;01mexcept\u001b[39;00m \u001b[38;5;167;01mTypeError\u001b[39;00m:\n\u001b[1;32m   3657\u001b[0m     \u001b[38;5;66;03m# If we have a listlike key, _check_indexing_error will raise\u001b[39;00m\n\u001b[1;32m   3658\u001b[0m     \u001b[38;5;66;03m#  InvalidIndexError. Otherwise we fall through and re-raise\u001b[39;00m\n\u001b[1;32m   3659\u001b[0m     \u001b[38;5;66;03m#  the TypeError.\u001b[39;00m\n\u001b[1;32m   3660\u001b[0m     \u001b[38;5;28mself\u001b[39m\u001b[38;5;241m.\u001b[39m_check_indexing_error(key)\n",
      "\u001b[0;31mKeyError\u001b[0m: 'NAICS'"
     ]
    }
   ],
   "source": [
    "# NAICS features - One hots, also the mean encodings\n",
    "features_naics = comb_df[['NAICS_orig', 'menc_NAICS', 'menc_NAICS_sector'] + [c for c in comb_df.columns if c.startswith('NS__')]] \\\n",
    "    .drop_duplicates()\n",
    "features_naics['source'] = get_naics_index(features_naics['NAICS'])\n",
    "features_naics.set_index('source', inplace=True) \n",
    "features_naics.drop(columns='NAICS_orig', inplace=True) \n",
    "print(features_naics.shape)\n",
    "features_naics.to_parquet(Path(setup.temp_path).joinpath('10_DATA_graph_node_features_naics.parquet'))"
   ]
  },
  {
   "cell_type": "markdown",
   "id": "7d20a82f-b395-4b60-a50a-b48127cd3442",
   "metadata": {},
   "source": [
    "## Label Data\n",
    "Split the training data set - used for some \"label trick\" tests later"
   ]
  },
  {
   "cell_type": "code",
   "execution_count": null,
   "id": "a0dccbed-7f90-4f2c-a5d6-12b5b613ce34",
   "metadata": {},
   "outputs": [],
   "source": [
    "label_df = comb_df[['dset', 'dset_naics_holdout', 'LoanNr_ChkDgt', 'target']].set_index('LoanNr_ChkDgt')"
   ]
  },
  {
   "cell_type": "code",
   "execution_count": null,
   "id": "d1d27618-a400-4fcd-965e-18bf5913fab4",
   "metadata": {},
   "outputs": [],
   "source": [
    "comb_df.columns"
   ]
  },
  {
   "cell_type": "code",
   "execution_count": null,
   "id": "07fd8cd8-3e42-4dbc-bdd9-a7f3b559f2de",
   "metadata": {},
   "outputs": [],
   "source": [
    "train_labels = label_df[label_df['dset'] == 'train'].drop(columns=['dset'])\n",
    "val_labels = label_df[label_df['dset'] == 'val'].drop(columns=['dset'])\n",
    "print(f'graph labels shape {label_df.shape}')\n",
    "print(f'train labels shape {train_labels.shape}')\n",
    "print(f'validation labels shape {val_labels.shape}')"
   ]
  },
  {
   "cell_type": "code",
   "execution_count": null,
   "id": "b2b3956b-5d53-4a9b-9841-cdb160e9cda0",
   "metadata": {},
   "outputs": [],
   "source": [
    "# Split train cases for testing\n",
    "train_fix, train_train = model_selection.train_test_split(\n",
    "    train_labels.index, train_size=0.7, stratify=train_labels, random_state=23432\n",
    ")"
   ]
  },
  {
   "cell_type": "code",
   "execution_count": null,
   "id": "6d6921db-7047-48b1-94d7-6fa00cd02943",
   "metadata": {},
   "outputs": [],
   "source": [
    "print(f'fixed part of train set {len(train_fix)}')\n",
    "print(f'train part of train set {len(train_train)}')"
   ]
  },
  {
   "cell_type": "code",
   "execution_count": null,
   "id": "ec42f7a2-5184-4f56-8704-ee3f42b8d7e6",
   "metadata": {},
   "outputs": [],
   "source": [
    "label_df.train_fix = None\n",
    "label_df.loc[train_fix, 'train_fix'] = 1\n",
    "label_df['train_fix'].fillna(0, inplace=True)"
   ]
  },
  {
   "cell_type": "code",
   "execution_count": null,
   "id": "af454854-200a-433a-a029-d000dfa95429",
   "metadata": {},
   "outputs": [],
   "source": [
    "label_df['train_fix'].value_counts()"
   ]
  },
  {
   "cell_type": "code",
   "execution_count": null,
   "id": "f28ccc45-61c8-4390-b7d0-fd9e31e3c651",
   "metadata": {},
   "outputs": [],
   "source": [
    "len(set(list(train_fix)))"
   ]
  },
  {
   "cell_type": "code",
   "execution_count": null,
   "id": "14bbaa49-a447-435c-b911-4c5e84378ea7",
   "metadata": {},
   "outputs": [],
   "source": [
    "label_df.to_parquet(Path(setup.temp_path).joinpath('10_DATA_label_info.parquet'))"
   ]
  },
  {
   "cell_type": "code",
   "execution_count": null,
   "id": "0c53e575-f97f-4906-906c-797bc4c006fa",
   "metadata": {},
   "outputs": [],
   "source": [
    "label_df.loc[train_fix].shape"
   ]
  },
  {
   "cell_type": "code",
   "execution_count": null,
   "id": "f5bde9bb-8050-4a22-9504-2c41e2ccd5de",
   "metadata": {},
   "outputs": [],
   "source": [
    "label_df.head()"
   ]
  },
  {
   "cell_type": "code",
   "execution_count": null,
   "id": "69c5cc82-f970-457c-b0f5-f8a42b6d43e5",
   "metadata": {},
   "outputs": [],
   "source": []
  },
  {
   "cell_type": "code",
   "execution_count": null,
   "id": "b993beb1-990e-4e87-b0fa-76e01ee8ef82",
   "metadata": {},
   "outputs": [],
   "source": []
  }
 ],
 "metadata": {
  "kernelspec": {
   "display_name": "tf_p39",
   "language": "python",
   "name": "tf_p39"
  },
  "language_info": {
   "codemirror_mode": {
    "name": "ipython",
    "version": 3
   },
   "file_extension": ".py",
   "mimetype": "text/x-python",
   "name": "python",
   "nbconvert_exporter": "python",
   "pygments_lexer": "ipython3",
   "version": "3.8.18"
  }
 },
 "nbformat": 4,
 "nbformat_minor": 5
}
