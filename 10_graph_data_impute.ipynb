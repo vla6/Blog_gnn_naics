{
 "cells": [
  {
   "cell_type": "code",
   "execution_count": 1,
   "id": "dd371bd9-82c7-44c7-8826-beb0c549974b",
   "metadata": {
    "tags": []
   },
   "outputs": [],
   "source": [
    "# Modify the file 00_setup.py to define input/output file paths on your system\n",
    "# The information in 00_setup.py will be used across notebooks\n",
    "from importlib.machinery import SourceFileLoader\n",
    "setup = SourceFileLoader(\"setup\", \"./00_setup.py\").load_module()"
   ]
  },
  {
   "cell_type": "markdown",
   "id": "be7d3f74-1737-4eee-9e6f-06233b68c2b1",
   "metadata": {},
   "source": [
    "# 10: Data Imputation and Scaling for GNN\n",
    "Convert data into a format suitable for GNN, preparing for several models\n",
    "  * Modify data so it is suitable for a neural network\n",
    "    * Impute missing features\n",
    "    * Scale values\n",
    "  * Create data frames for node and edge features\n",
    "  * Get edge lists"
   ]
  },
  {
   "cell_type": "markdown",
   "id": "88121865-4dfa-4390-8789-8020a9ef505c",
   "metadata": {},
   "source": [
    "I do not create graphs here, just do the preliminary data prep.  Not all features created here will be used in all models.  In addition, not all cases/edges would be used.  I will filter and modify the data to compare scenarios later."
   ]
  },
  {
   "cell_type": "markdown",
   "id": "91f71d6b-6920-451d-92c7-7e675f71b071",
   "metadata": {},
   "source": [
    "*Stellargraph Notes:*. When batching, neighbors are sampled by edge type.  Sampling with replacement is used.  So asking for 10 samples means 10 samples per edge type, and if there is just one edge of a type it would repeat 10 times.  See https://stellargraph.readthedocs.io/en/latest/_modules/stellargraph/mapper/sampled_node_generators.html"
   ]
  },
  {
   "cell_type": "markdown",
   "id": "b6956879-bdba-4750-bbdf-e26ade43c72f",
   "metadata": {},
   "source": [
    "*This script takes about 5 minutes on my MacBook Air*"
   ]
  },
  {
   "cell_type": "code",
   "execution_count": 2,
   "id": "a06b80fe-17ee-409a-8f41-ab2427d6f407",
   "metadata": {},
   "outputs": [],
   "source": [
    "import pandas as pd\n",
    "import numpy as np"
   ]
  },
  {
   "cell_type": "code",
   "execution_count": 3,
   "id": "4278237c-f6ad-4cd9-9144-5b7bb134a391",
   "metadata": {},
   "outputs": [],
   "source": [
    "from pathlib import Path\n",
    "import importlib, pickle\n",
    "from sklearn import model_selection"
   ]
  },
  {
   "cell_type": "code",
   "execution_count": 4,
   "id": "9ef27d75-0483-48fb-8018-245bdb9df81c",
   "metadata": {},
   "outputs": [],
   "source": [
    "# Imputer object for easy dataset conversion to GNN friendly format\n",
    "from sba_gnn.sba_gnn import sg_imputer \n",
    "from sba_gnn.sba_gnn.sg_imputer import GNNImputer"
   ]
  },
  {
   "cell_type": "markdown",
   "id": "faac611d-2f98-4d45-bb70-c64e3890a705",
   "metadata": {},
   "source": [
    "## Input training data, descriptives, fit imputer"
   ]
  },
  {
   "cell_type": "markdown",
   "id": "f8d04d3e-ea53-4b10-a1b1-480be7318ef6",
   "metadata": {},
   "source": [
    "For a neural network, I need to handle missings and also scale features.  For missing values, I will do a simple median fill for all, but add missing indicators.  "
   ]
  },
  {
   "cell_type": "markdown",
   "id": "580fbc84-1465-4874-b29e-f32731abcde6",
   "metadata": {},
   "source": [
    "To scale the data, I will do a quantile transform for features with > 5 levels.  This is to avoid scaling binary features.  Then I do a Min/Max scaling on all features, so they are in the [0,1] range"
   ]
  },
  {
   "cell_type": "markdown",
   "id": "25382bb1-9e0e-4b98-a35d-ce30c714f955",
   "metadata": {},
   "source": [
    "I define a class to do this in sg_imputer.  This class wraps several scikit-learn imputers/scalers so that I can easily fit the objects and then transform the data.  In this section, I show some descriptives to justify my imputation/scaling choices, and also fit the scaler"
   ]
  },
  {
   "cell_type": "markdown",
   "id": "8cdb14e4-d6c3-4b8f-8f06-99b8b47f4526",
   "metadata": {},
   "source": [
    "##### Import train data, show missing"
   ]
  },
  {
   "cell_type": "code",
   "execution_count": 5,
   "id": "a5f6c362-c1ab-48d8-812b-2b970b06586b",
   "metadata": {},
   "outputs": [],
   "source": [
    "train_df = pd.read_parquet(Path(setup.temp_path).joinpath('01_DATA_combined_base_train.parquet'))"
   ]
  },
  {
   "cell_type": "code",
   "execution_count": 6,
   "id": "ebc6ec39-9587-4b03-b1ec-78cb3ea7cf13",
   "metadata": {},
   "outputs": [
    {
     "data": {
      "text/plain": [
       "NoEmp              False    447252\n",
       "CreateJob          False    447252\n",
       "LowDoc             False    444025\n",
       "                   True       3227\n",
       "DisbursementGross  False    447252\n",
       "new_business       False    446708\n",
       "                   True        544\n",
       "urban_flag         False    358648\n",
       "                   True      88604\n",
       "franchise_flag     False    447252\n",
       "Name: count, dtype: int64"
      ]
     },
     "execution_count": 6,
     "metadata": {},
     "output_type": "execute_result"
    }
   ],
   "source": [
    "# Examine missingness\n",
    "pd.concat([train_df[c].isna().value_counts() for c in setup.predictor_features],\n",
    "         keys=setup.predictor_features)"
   ]
  },
  {
   "cell_type": "code",
   "execution_count": 7,
   "id": "2f25f209-f37d-4341-afb3-de5807b124bc",
   "metadata": {},
   "outputs": [
    {
     "data": {
      "text/html": [
       "<div>\n",
       "<style scoped>\n",
       "    .dataframe tbody tr th:only-of-type {\n",
       "        vertical-align: middle;\n",
       "    }\n",
       "\n",
       "    .dataframe tbody tr th {\n",
       "        vertical-align: top;\n",
       "    }\n",
       "\n",
       "    .dataframe thead th {\n",
       "        text-align: right;\n",
       "    }\n",
       "</style>\n",
       "<table border=\"1\" class=\"dataframe\">\n",
       "  <thead>\n",
       "    <tr style=\"text-align: right;\">\n",
       "      <th></th>\n",
       "      <th></th>\n",
       "      <th>count_missing</th>\n",
       "    </tr>\n",
       "  </thead>\n",
       "  <tbody>\n",
       "    <tr>\n",
       "      <th>NoEmp</th>\n",
       "      <th>0</th>\n",
       "      <td>0</td>\n",
       "    </tr>\n",
       "    <tr>\n",
       "      <th>CreateJob</th>\n",
       "      <th>0</th>\n",
       "      <td>0</td>\n",
       "    </tr>\n",
       "    <tr>\n",
       "      <th>LowDoc</th>\n",
       "      <th>0</th>\n",
       "      <td>3227</td>\n",
       "    </tr>\n",
       "    <tr>\n",
       "      <th>DisbursementGross</th>\n",
       "      <th>0</th>\n",
       "      <td>0</td>\n",
       "    </tr>\n",
       "    <tr>\n",
       "      <th>new_business</th>\n",
       "      <th>0</th>\n",
       "      <td>544</td>\n",
       "    </tr>\n",
       "    <tr>\n",
       "      <th>urban_flag</th>\n",
       "      <th>0</th>\n",
       "      <td>88604</td>\n",
       "    </tr>\n",
       "    <tr>\n",
       "      <th>franchise_flag</th>\n",
       "      <th>0</th>\n",
       "      <td>0</td>\n",
       "    </tr>\n",
       "  </tbody>\n",
       "</table>\n",
       "</div>"
      ],
      "text/plain": [
       "                     count_missing\n",
       "NoEmp             0              0\n",
       "CreateJob         0              0\n",
       "LowDoc            0           3227\n",
       "DisbursementGross 0              0\n",
       "new_business      0            544\n",
       "urban_flag        0          88604\n",
       "franchise_flag    0              0"
      ]
     },
     "execution_count": 7,
     "metadata": {},
     "output_type": "execute_result"
    }
   ],
   "source": [
    "# Same information, more compact\n",
    "pd.concat([pd.DataFrame([train_df[c].isna().sum()]) for c in setup.predictor_features],\n",
    "         keys=setup.predictor_features).set_axis(['count_missing'], axis=1)"
   ]
  },
  {
   "cell_type": "markdown",
   "id": "2b44bac7-428a-44ee-8a8f-35a8abda6b05",
   "metadata": {},
   "source": [
    "Most fields aren't missing too much.  However I must handle those that are.  I will use a median fill, especially since many of the fields with missingness seem to be binary"
   ]
  },
  {
   "cell_type": "markdown",
   "id": "3cecb611-6088-4781-a316-64f686763548",
   "metadata": {},
   "source": [
    "##### Explore scaling"
   ]
  },
  {
   "cell_type": "code",
   "execution_count": 8,
   "id": "541726b4-1d33-4073-8d83-892c84ffed0d",
   "metadata": {},
   "outputs": [
    {
     "data": {
      "text/html": [
       "<div>\n",
       "<style scoped>\n",
       "    .dataframe tbody tr th:only-of-type {\n",
       "        vertical-align: middle;\n",
       "    }\n",
       "\n",
       "    .dataframe tbody tr th {\n",
       "        vertical-align: top;\n",
       "    }\n",
       "\n",
       "    .dataframe thead th {\n",
       "        text-align: right;\n",
       "    }\n",
       "</style>\n",
       "<table border=\"1\" class=\"dataframe\">\n",
       "  <thead>\n",
       "    <tr style=\"text-align: right;\">\n",
       "      <th></th>\n",
       "      <th></th>\n",
       "      <th>0</th>\n",
       "    </tr>\n",
       "  </thead>\n",
       "  <tbody>\n",
       "    <tr>\n",
       "      <th>NoEmp</th>\n",
       "      <th>0</th>\n",
       "      <td>425</td>\n",
       "    </tr>\n",
       "    <tr>\n",
       "      <th>CreateJob</th>\n",
       "      <th>0</th>\n",
       "      <td>182</td>\n",
       "    </tr>\n",
       "    <tr>\n",
       "      <th>LowDoc</th>\n",
       "      <th>0</th>\n",
       "      <td>2</td>\n",
       "    </tr>\n",
       "    <tr>\n",
       "      <th>DisbursementGross</th>\n",
       "      <th>0</th>\n",
       "      <td>81720</td>\n",
       "    </tr>\n",
       "    <tr>\n",
       "      <th>new_business</th>\n",
       "      <th>0</th>\n",
       "      <td>2</td>\n",
       "    </tr>\n",
       "    <tr>\n",
       "      <th>urban_flag</th>\n",
       "      <th>0</th>\n",
       "      <td>2</td>\n",
       "    </tr>\n",
       "    <tr>\n",
       "      <th>franchise_flag</th>\n",
       "      <th>0</th>\n",
       "      <td>2</td>\n",
       "    </tr>\n",
       "  </tbody>\n",
       "</table>\n",
       "</div>"
      ],
      "text/plain": [
       "                         0\n",
       "NoEmp             0    425\n",
       "CreateJob         0    182\n",
       "LowDoc            0      2\n",
       "DisbursementGross 0  81720\n",
       "new_business      0      2\n",
       "urban_flag        0      2\n",
       "franchise_flag    0      2"
      ]
     },
     "execution_count": 8,
     "metadata": {},
     "output_type": "execute_result"
    }
   ],
   "source": [
    "# Level counts\n",
    "feature_level_df = pd.concat([pd.DataFrame([train_df[c].value_counts().count()]) for c in setup.predictor_features],\n",
    "         keys=setup.predictor_features)\n",
    "feature_level_df"
   ]
  },
  {
   "cell_type": "markdown",
   "id": "daa3b3e1-e954-4dc6-8fc1-e08bca77f3d0",
   "metadata": {},
   "source": [
    "A number of features are binary.  I don't need to scale these.  The others must be scaled.  "
   ]
  },
  {
   "cell_type": "markdown",
   "id": "64972ab5-a9ce-42f9-b01f-e682177f3d0b",
   "metadata": {},
   "source": [
    "What I will do is scale features with more than a threshold number of levels using a quantile scaler.  Then I'll use a MinMax scaler on everything to be safe (as a 2 level feature could have values other than 0,1)."
   ]
  },
  {
   "cell_type": "markdown",
   "id": "8405651f-7ead-41de-8ff2-1b73a1f870e0",
   "metadata": {},
   "source": [
    "##### Create imputer to do the median fill and scaling\n",
    "This imputer fills missing values, adding missingness indicator features.  Then it quantile scales features with over 5 levels, and MinMax scales the rest."
   ]
  },
  {
   "cell_type": "code",
   "execution_count": 9,
   "id": "e89a8a33-9491-42be-b01d-a5fca91ff11c",
   "metadata": {},
   "outputs": [],
   "source": [
    "imputer = GNNImputer(features = setup.predictor_features)                               "
   ]
  },
  {
   "cell_type": "code",
   "execution_count": 10,
   "id": "95a02134-c0fc-458a-8f00-b5a6662b7cc4",
   "metadata": {},
   "outputs": [],
   "source": [
    "train_out = imputer.fit_transform(train_df)"
   ]
  },
  {
   "cell_type": "code",
   "execution_count": 11,
   "id": "8bc96445-9c80-4ef3-925c-0060945483fe",
   "metadata": {},
   "outputs": [
    {
     "data": {
      "text/plain": [
       "Index([538061, 220915, 237886, 852933, 370109, 825551, 462351, 886865, 687784,\n",
       "       402987,\n",
       "       ...\n",
       "       614020,  30277, 692498, 641806,  12558, 127070, 631061, 821756, 296335,\n",
       "       521331],\n",
       "      dtype='int64', name='index', length=447252)"
      ]
     },
     "execution_count": 11,
     "metadata": {},
     "output_type": "execute_result"
    }
   ],
   "source": [
    "train_out.index"
   ]
  },
  {
   "cell_type": "code",
   "execution_count": 12,
   "id": "e861e665-bc71-41e6-aefa-441e48187422",
   "metadata": {},
   "outputs": [
    {
     "data": {
      "text/plain": [
       "['NoEmp',\n",
       " 'CreateJob',\n",
       " 'LowDoc',\n",
       " 'DisbursementGross',\n",
       " 'new_business',\n",
       " 'urban_flag',\n",
       " 'franchise_flag',\n",
       " 'missingindicator_LowDoc',\n",
       " 'missingindicator_new_business',\n",
       " 'missingindicator_urban_flag']"
      ]
     },
     "execution_count": 12,
     "metadata": {},
     "output_type": "execute_result"
    }
   ],
   "source": [
    "imputer.features_out"
   ]
  },
  {
   "cell_type": "code",
   "execution_count": 13,
   "id": "4f937099-9be8-4225-b9c3-c87744a27344",
   "metadata": {},
   "outputs": [],
   "source": [
    "with open(Path(setup.temp_path).joinpath('10_DATA_features.pkl'), 'wb') as fout:\n",
    "    pickle.dump(imputer.features_out, fout)"
   ]
  },
  {
   "cell_type": "markdown",
   "id": "d0d1b862-6f1e-46fe-b7c7-b50f8bf259ab",
   "metadata": {},
   "source": [
    "## Transform Test, Validation Data"
   ]
  },
  {
   "cell_type": "code",
   "execution_count": 14,
   "id": "7f65e91f-eca0-40e3-8bd5-7614bafbb05e",
   "metadata": {},
   "outputs": [],
   "source": [
    "test_df = pd.read_parquet(Path(setup.temp_path).joinpath('01_DATA_combined_base_test.parquet'))"
   ]
  },
  {
   "cell_type": "code",
   "execution_count": 15,
   "id": "e5195e29-6c0c-4162-a198-581a9d8838bf",
   "metadata": {},
   "outputs": [],
   "source": [
    "val_df = pd.read_parquet(Path(setup.temp_path).joinpath('01_DATA_combined_base_val.parquet'))"
   ]
  },
  {
   "cell_type": "code",
   "execution_count": 16,
   "id": "475c05c5-7a12-4e67-ab99-d0eab7730bf2",
   "metadata": {},
   "outputs": [],
   "source": [
    "test_out = imputer.transform(test_df)"
   ]
  },
  {
   "cell_type": "code",
   "execution_count": 17,
   "id": "0c0e36f1-be1a-4cc7-a317-04f7daa48a89",
   "metadata": {},
   "outputs": [],
   "source": [
    "val_out = imputer.transform(val_df)"
   ]
  },
  {
   "cell_type": "markdown",
   "id": "a8045a54-8f8f-4993-b591-cf265ba60adc",
   "metadata": {},
   "source": [
    "## Combine data\n",
    "Combine transformed datasets, with key information.  Include the business ID, target status, NAICS features, as well as transformed features from above. Save this data for later use (especially the indices which indicate train/test statustrain_df"
   ]
  },
  {
   "cell_type": "code",
   "execution_count": 18,
   "id": "38f1c58f-6389-4d7f-a703-a551936e295c",
   "metadata": {},
   "outputs": [
    {
     "data": {
      "text/plain": [
       "Index(['LoanNr_ChkDgt', 'Name', 'City', 'State', 'Zip', 'Bank', 'BankState',\n",
       "       'NAICS', 'ApprovalDate', 'ApprovalFY', 'Term', 'NoEmp', 'NewExist',\n",
       "       'CreateJob', 'RetainedJob', 'FranchiseCode', 'UrbanRural', 'RevLineCr',\n",
       "       'LowDoc', 'ChgOffDate', 'DisbursementDate', 'DisbursementGross',\n",
       "       'BalanceGross', 'MIS_Status', 'ChgOffPrinGr', 'GrAppv', 'SBA_Appv',\n",
       "       'target', 'guaranteed_fract', 'new_business', 'urban_flag',\n",
       "       'franchise_flag', 'NAICS_2', 'NAICS_sector', 'NAICS_sector_desc',\n",
       "       'NAICS_num', 'menc_NAICS', 'menc_NAICS_sector',\n",
       "       'NS___Accommodation and Food Services', 'NS___Construction',\n",
       "       'NS___Health Care and Social Assistance', 'NS___Manufacturing',\n",
       "       'NS___Other Services (except Public Administration)',\n",
       "       'NS___Professional, Scientific, and Technical Services',\n",
       "       'NS___Retail Trade', 'NS___Wholesale Trade', 'NS___infrequent_sklearn'],\n",
       "      dtype='object')"
      ]
     },
     "execution_count": 18,
     "metadata": {},
     "output_type": "execute_result"
    }
   ],
   "source": [
    "train_df.columns"
   ]
  },
  {
   "cell_type": "code",
   "execution_count": 19,
   "id": "257a6cbe-c392-46f0-9a82-9f69892548d1",
   "metadata": {},
   "outputs": [
    {
     "name": "stdout",
     "output_type": "stream",
     "text": [
      "['LoanNr_ChkDgt', 'target', 'NAICS', 'NAICS_sector', 'menc_NAICS', 'menc_NAICS_sector', 'NS___Accommodation and Food Services', 'NS___Construction', 'NS___Health Care and Social Assistance', 'NS___Manufacturing', 'NS___Other Services (except Public Administration)', 'NS___Professional, Scientific, and Technical Services', 'NS___Retail Trade', 'NS___Wholesale Trade', 'NS___infrequent_sklearn']\n"
     ]
    }
   ],
   "source": [
    "naics_features = ['LoanNr_ChkDgt', 'target', 'NAICS', 'NAICS_sector', 'menc_NAICS', 'menc_NAICS_sector'] +  \\\n",
    "    [c for c in train_df.columns if c.startswith('NS__')]\n",
    "print(naics_features)"
   ]
  },
  {
   "cell_type": "code",
   "execution_count": 20,
   "id": "a34a7d4a-608f-4750-b900-0b7e10fa64ad",
   "metadata": {},
   "outputs": [],
   "source": [
    "comb_naics = pd.concat([train_df[naics_features], test_df[naics_features], \n",
    "                        val_df[naics_features]], axis=0, keys=['train', 'test', 'val'])"
   ]
  },
  {
   "cell_type": "code",
   "execution_count": 21,
   "id": "861b31b9-d646-4639-9b05-948ff5f1e8c8",
   "metadata": {},
   "outputs": [
    {
     "name": "stdout",
     "output_type": "stream",
     "text": [
      "(688081, 26)\n"
     ]
    }
   ],
   "source": [
    "comb_df = pd.concat([comb_naics,\n",
    "                     pd.concat([train_out, test_out, val_out], \n",
    "                               axis=0, keys=['train', 'test', 'val'])],\n",
    "                    axis=1) \\\n",
    "    .reset_index(level=0) \\\n",
    "    .rename(columns={'level_0':'dset'}, errors='ignore')\n",
    "print(comb_df.shape)"
   ]
  },
  {
   "cell_type": "code",
   "execution_count": 22,
   "id": "80c39083-a0e4-4117-ab5f-02c98c237e6a",
   "metadata": {},
   "outputs": [
    {
     "name": "stdout",
     "output_type": "stream",
     "text": [
      "Index(['dset', 'LoanNr_ChkDgt', 'target', 'NAICS', 'NAICS_sector',\n",
      "       'menc_NAICS', 'menc_NAICS_sector',\n",
      "       'NS___Accommodation and Food Services', 'NS___Construction',\n",
      "       'NS___Health Care and Social Assistance', 'NS___Manufacturing',\n",
      "       'NS___Other Services (except Public Administration)',\n",
      "       'NS___Professional, Scientific, and Technical Services',\n",
      "       'NS___Retail Trade', 'NS___Wholesale Trade', 'NS___infrequent_sklearn',\n",
      "       'NoEmp', 'CreateJob', 'LowDoc', 'DisbursementGross', 'new_business',\n",
      "       'urban_flag', 'franchise_flag', 'missingindicator_LowDoc',\n",
      "       'missingindicator_new_business', 'missingindicator_urban_flag'],\n",
      "      dtype='object')\n"
     ]
    }
   ],
   "source": [
    "print(comb_df.columns)"
   ]
  },
  {
   "cell_type": "code",
   "execution_count": 23,
   "id": "98c5cf92-35ea-4371-b3e0-04abc85a41dd",
   "metadata": {},
   "outputs": [],
   "source": [
    "comb_df.to_parquet(Path(setup.temp_path).joinpath('10_DATA_combined_scaled_all.parquet'))"
   ]
  },
  {
   "cell_type": "markdown",
   "id": "004afdb3-da89-433f-b28b-5e2bb34c5388",
   "metadata": {},
   "source": [
    "## Create Edge Map"
   ]
  },
  {
   "cell_type": "markdown",
   "id": "26bc950e-6ae0-4db0-89c1-e69acdfe94b8",
   "metadata": {},
   "source": [
    "I will have edges between a business and its NAICS, as well as edges to same-sector NAICS nodes.  This section creates general edge data, which may be filtered to create graphs"
   ]
  },
  {
   "cell_type": "markdown",
   "id": "57c9d767-53ac-4602-8362-6dfa03fed7e0",
   "metadata": {},
   "source": [
    "##### Create NAICS map to same-sector NAICS"
   ]
  },
  {
   "cell_type": "code",
   "execution_count": 24,
   "id": "2406e2b9-7ed3-4775-ae61-84cc1f60580d",
   "metadata": {},
   "outputs": [],
   "source": [
    "sector_map = comb_df[['NAICS', 'NAICS_sector']].drop_duplicates()"
   ]
  },
  {
   "cell_type": "code",
   "execution_count": 25,
   "id": "e97b3e65-85ee-4782-ab2f-a437649ffb87",
   "metadata": {},
   "outputs": [],
   "source": [
    "naics_all_sectors = sector_map.merge(sector_map.rename(columns={'NAICS':'NAICS_sim'}),\n",
    "                                     how='left', on ='NAICS_sector')\n",
    "naics_all_sectors = naics_all_sectors[naics_all_sectors['NAICS'] != naics_all_sectors['NAICS_sim']]"
   ]
  },
  {
   "cell_type": "code",
   "execution_count": 26,
   "id": "7e5f9618-7e26-42c6-ae51-bc432431444f",
   "metadata": {},
   "outputs": [
    {
     "data": {
      "text/html": [
       "<div>\n",
       "<style scoped>\n",
       "    .dataframe tbody tr th:only-of-type {\n",
       "        vertical-align: middle;\n",
       "    }\n",
       "\n",
       "    .dataframe tbody tr th {\n",
       "        vertical-align: top;\n",
       "    }\n",
       "\n",
       "    .dataframe thead th {\n",
       "        text-align: right;\n",
       "    }\n",
       "</style>\n",
       "<table border=\"1\" class=\"dataframe\">\n",
       "  <thead>\n",
       "    <tr style=\"text-align: right;\">\n",
       "      <th></th>\n",
       "      <th>NAICS</th>\n",
       "      <th>NAICS_sector</th>\n",
       "      <th>NAICS_sim</th>\n",
       "    </tr>\n",
       "  </thead>\n",
       "  <tbody>\n",
       "    <tr>\n",
       "      <th>252590</th>\n",
       "      <td>518112</td>\n",
       "      <td>51</td>\n",
       "      <td>512230</td>\n",
       "    </tr>\n",
       "    <tr>\n",
       "      <th>34092</th>\n",
       "      <td>333294</td>\n",
       "      <td>31-33</td>\n",
       "      <td>335121</td>\n",
       "    </tr>\n",
       "    <tr>\n",
       "      <th>191737</th>\n",
       "      <td>327122</td>\n",
       "      <td>31-33</td>\n",
       "      <td>332117</td>\n",
       "    </tr>\n",
       "    <tr>\n",
       "      <th>269935</th>\n",
       "      <td>311221</td>\n",
       "      <td>31-33</td>\n",
       "      <td>311513</td>\n",
       "    </tr>\n",
       "    <tr>\n",
       "      <th>110107</th>\n",
       "      <td>325320</td>\n",
       "      <td>31-33</td>\n",
       "      <td>316110</td>\n",
       "    </tr>\n",
       "  </tbody>\n",
       "</table>\n",
       "</div>"
      ],
      "text/plain": [
       "         NAICS NAICS_sector NAICS_sim\n",
       "252590  518112           51    512230\n",
       "34092   333294        31-33    335121\n",
       "191737  327122        31-33    332117\n",
       "269935  311221        31-33    311513\n",
       "110107  325320        31-33    316110"
      ]
     },
     "execution_count": 26,
     "metadata": {},
     "output_type": "execute_result"
    }
   ],
   "source": [
    "naics_all_sectors.sample(5)"
   ]
  },
  {
   "cell_type": "markdown",
   "id": "52a6b0eb-cae9-4dee-978f-6cf2443ece0a",
   "metadata": {},
   "source": [
    "##### Functions for creating index for NAICS"
   ]
  },
  {
   "cell_type": "code",
   "execution_count": 27,
   "id": "e37d6b15-fe94-4599-b565-6a74afbbf24d",
   "metadata": {},
   "outputs": [],
   "source": [
    "def get_naics_index(naics_seq):\n",
    "    return 'n_' + naics_seq"
   ]
  },
  {
   "cell_type": "markdown",
   "id": "fd744be8-9ab7-44c2-9bce-7cf2eb18a787",
   "metadata": {},
   "source": [
    "##### Get edges from businesses to their exact NAICS"
   ]
  },
  {
   "cell_type": "code",
   "execution_count": 28,
   "id": "84b1163d-c35e-4df3-b9a5-4ed470eb8a71",
   "metadata": {},
   "outputs": [],
   "source": [
    "# Edges from businesses to their NAICS code\n",
    "naics_info_df = comb_df[['LoanNr_ChkDgt', 'NAICS', 'dset']].copy() \\\n",
    "    .rename(columns={'LoanNr_ChkDgt':'source'}) \n",
    "naics_info_df['target'] = get_naics_index(naics_info_df['NAICS'])\n",
    "\n",
    "edges_business_naics = naics_info_df[['source', 'target', 'dset']].copy()\n",
    "edges_business_naics['type'] = 'loan_naics'"
   ]
  },
  {
   "cell_type": "markdown",
   "id": "1cd85bee-763b-41c3-b72b-adc1580bf8de",
   "metadata": {},
   "source": [
    "##### Get edges from buisinesses to related NAICS codes"
   ]
  },
  {
   "cell_type": "code",
   "execution_count": 29,
   "id": "26f1d72a-64df-4cba-850f-785fe48c348e",
   "metadata": {},
   "outputs": [
    {
     "data": {
      "text/html": [
       "<div>\n",
       "<style scoped>\n",
       "    .dataframe tbody tr th:only-of-type {\n",
       "        vertical-align: middle;\n",
       "    }\n",
       "\n",
       "    .dataframe tbody tr th {\n",
       "        vertical-align: top;\n",
       "    }\n",
       "\n",
       "    .dataframe thead th {\n",
       "        text-align: right;\n",
       "    }\n",
       "</style>\n",
       "<table border=\"1\" class=\"dataframe\">\n",
       "  <thead>\n",
       "    <tr style=\"text-align: right;\">\n",
       "      <th></th>\n",
       "      <th>source</th>\n",
       "      <th>NAICS</th>\n",
       "      <th>dset</th>\n",
       "      <th>target</th>\n",
       "    </tr>\n",
       "    <tr>\n",
       "      <th>index</th>\n",
       "      <th></th>\n",
       "      <th></th>\n",
       "      <th></th>\n",
       "      <th></th>\n",
       "    </tr>\n",
       "  </thead>\n",
       "  <tbody>\n",
       "    <tr>\n",
       "      <th>538061</th>\n",
       "      <td>5282874009</td>\n",
       "      <td>422210</td>\n",
       "      <td>train</td>\n",
       "      <td>n_422210</td>\n",
       "    </tr>\n",
       "    <tr>\n",
       "      <th>220915</th>\n",
       "      <td>2568556001</td>\n",
       "      <td>441222</td>\n",
       "      <td>train</td>\n",
       "      <td>n_441222</td>\n",
       "    </tr>\n",
       "    <tr>\n",
       "      <th>237886</th>\n",
       "      <td>2687465005</td>\n",
       "      <td>621310</td>\n",
       "      <td>train</td>\n",
       "      <td>n_621310</td>\n",
       "    </tr>\n",
       "  </tbody>\n",
       "</table>\n",
       "</div>"
      ],
      "text/plain": [
       "            source   NAICS   dset    target\n",
       "index                                      \n",
       "538061  5282874009  422210  train  n_422210\n",
       "220915  2568556001  441222  train  n_441222\n",
       "237886  2687465005  621310  train  n_621310"
      ]
     },
     "execution_count": 29,
     "metadata": {},
     "output_type": "execute_result"
    }
   ],
   "source": [
    "naics_info_df.head(3)"
   ]
  },
  {
   "cell_type": "code",
   "execution_count": 30,
   "id": "ed49e20e-230a-46ea-b970-421615092474",
   "metadata": {},
   "outputs": [
    {
     "name": "stdout",
     "output_type": "stream",
     "text": [
      "Sector NAICS edges: (67912366, 4)\n"
     ]
    }
   ],
   "source": [
    "edges_businesses_naics_sim = naics_info_df.drop(columns='target', errors='ignore') \\\n",
    "    .merge(naics_all_sectors, how='inner', on='NAICS')\n",
    "edges_businesses_naics_sim['target'] = get_naics_index(edges_businesses_naics_sim['NAICS_sim'])\n",
    "edges_businesses_naics_sim = edges_businesses_naics_sim[['source', 'target', 'dset']]\n",
    "edges_businesses_naics_sim['type'] = 'loan_sector_naics'\n",
    "print(f'Sector NAICS edges: {edges_businesses_naics_sim.shape}')"
   ]
  },
  {
   "cell_type": "markdown",
   "id": "0ea97aa1-b6e9-4422-8398-6ea3cba8ce74",
   "metadata": {},
   "source": [
    "##### Sample these - Uncomment to Sample\n",
    "The data is large so sampling could be considered here - I eliminated this"
   ]
  },
  {
   "cell_type": "code",
   "execution_count": 31,
   "id": "ba73c33f-fd68-425a-82ac-86e8f7308923",
   "metadata": {},
   "outputs": [],
   "source": [
    "#edges_businesses_naics_sim = edges_businesses_naics_sim.groupby('source') \\\n",
    "#    .sample(20, replace=True, random_state=2342) \\\n",
    "#    .drop_duplicates()\n",
    "#print(f'Sector NAICS edges post sample: {edges_businesses_naics_sim.shape}')"
   ]
  },
  {
   "cell_type": "code",
   "execution_count": 32,
   "id": "e97ed5aa-d5a3-4e52-94f8-ecc70601dbe0",
   "metadata": {},
   "outputs": [],
   "source": [
    "edges_all = pd.concat([edges_business_naics, edges_businesses_naics_sim], axis=0) \\\n",
    "    .reset_index(drop=True)"
   ]
  },
  {
   "cell_type": "code",
   "execution_count": 33,
   "id": "728a1cbb-bb6a-4b63-9f50-669830d18360",
   "metadata": {},
   "outputs": [
    {
     "data": {
      "text/plain": [
       "type\n",
       "loan_sector_naics    67912366\n",
       "loan_naics             688081\n",
       "Name: count, dtype: int64"
      ]
     },
     "execution_count": 33,
     "metadata": {},
     "output_type": "execute_result"
    }
   ],
   "source": [
    "edges_all['type'].value_counts()"
   ]
  },
  {
   "cell_type": "code",
   "execution_count": 34,
   "id": "158336d9-2530-44cf-b956-cee8f6faf31d",
   "metadata": {},
   "outputs": [
    {
     "name": "stdout",
     "output_type": "stream",
     "text": [
      "(68600447, 2)\n",
      "(68600447, 4)\n"
     ]
    }
   ],
   "source": [
    "print(edges_all[['source', 'target']].drop_duplicates().shape)\n",
    "print(edges_all.shape)"
   ]
  },
  {
   "cell_type": "code",
   "execution_count": 35,
   "id": "32da0193-ee59-477a-a2c6-539161626e15",
   "metadata": {},
   "outputs": [],
   "source": [
    "edges_all.to_parquet(Path(setup.temp_path).joinpath('10_DATA_graph_edges.parquet'))"
   ]
  },
  {
   "cell_type": "markdown",
   "id": "d4a28c5c-87f8-4147-89cd-e0374770c20b",
   "metadata": {},
   "source": [
    "## Get Node Features\n",
    "This section creates general node features data, which may be filtered to create graphs.  Not all features may be used, and not all nodes may be in all graphs."
   ]
  },
  {
   "cell_type": "code",
   "execution_count": 36,
   "id": "4d999dba-b0b6-4969-9ef9-a5dd2615d7d2",
   "metadata": {},
   "outputs": [],
   "source": [
    "# Business node features - these are the original features post scaling.\n",
    "# Include the target also - will be used to test the \"label trick\" in some future scripts\n",
    "features_business = comb_df[['LoanNr_ChkDgt', 'dset'] + imputer.features_out + ['target']] \\\n",
    "    .set_index('LoanNr_ChkDgt')\n",
    "features_business.to_parquet(Path(setup.temp_path).joinpath('10_DATA_graph_node_features_loans.parquet'))"
   ]
  },
  {
   "cell_type": "code",
   "execution_count": 37,
   "id": "8c380d15-a731-42ff-a7f9-c1e4b535ce59",
   "metadata": {},
   "outputs": [
    {
     "name": "stdout",
     "output_type": "stream",
     "text": [
      "(1311, 11)\n"
     ]
    }
   ],
   "source": [
    "# NAICS features - One hots, also the mean encodings\n",
    "features_naics = comb_df[['NAICS', 'menc_NAICS', 'menc_NAICS_sector'] + [c for c in comb_df.columns if c.startswith('NS__')]] \\\n",
    "    .drop_duplicates()\n",
    "features_naics['source'] = get_naics_index(features_naics['NAICS'])\n",
    "features_naics.set_index('source', inplace=True) \n",
    "features_naics.drop(columns='NAICS', inplace=True) \n",
    "print(features_naics.shape)\n",
    "features_naics.to_parquet(Path(setup.temp_path).joinpath('10_DATA_graph_node_features_naics.parquet'))"
   ]
  },
  {
   "cell_type": "markdown",
   "id": "7d20a82f-b395-4b60-a50a-b48127cd3442",
   "metadata": {},
   "source": [
    "## Label Data\n",
    "Split the training data set - used for some \"label trick\" tests later"
   ]
  },
  {
   "cell_type": "code",
   "execution_count": 38,
   "id": "a0dccbed-7f90-4f2c-a5d6-12b5b613ce34",
   "metadata": {},
   "outputs": [],
   "source": [
    "label_df = comb_df[['dset', 'LoanNr_ChkDgt', 'target']].set_index('LoanNr_ChkDgt')"
   ]
  },
  {
   "cell_type": "code",
   "execution_count": 39,
   "id": "07fd8cd8-3e42-4dbc-bdd9-a7f3b559f2de",
   "metadata": {},
   "outputs": [
    {
     "name": "stdout",
     "output_type": "stream",
     "text": [
      "graph labels shape (688081, 2)\n",
      "train labels shape (447252, 1)\n",
      "validation labels shape (96332, 1)\n"
     ]
    }
   ],
   "source": [
    "train_labels = label_df[label_df['dset'] == 'train'].drop(columns=['dset'])\n",
    "val_labels = label_df[label_df['dset'] == 'val'].drop(columns=['dset'])\n",
    "print(f'graph labels shape {label_df.shape}')\n",
    "print(f'train labels shape {train_labels.shape}')\n",
    "print(f'validation labels shape {val_labels.shape}')"
   ]
  },
  {
   "cell_type": "code",
   "execution_count": 40,
   "id": "b2b3956b-5d53-4a9b-9841-cdb160e9cda0",
   "metadata": {},
   "outputs": [],
   "source": [
    "# Split train cases for testing\n",
    "train_fix, train_train = model_selection.train_test_split(\n",
    "    train_labels.index, train_size=0.7, stratify=train_labels, random_state=23432\n",
    ")"
   ]
  },
  {
   "cell_type": "code",
   "execution_count": 44,
   "id": "6d6921db-7047-48b1-94d7-6fa00cd02943",
   "metadata": {},
   "outputs": [
    {
     "name": "stdout",
     "output_type": "stream",
     "text": [
      "fixed part of train set 313076\n",
      "train part of train set 134176\n"
     ]
    }
   ],
   "source": [
    "print(f'fixed part of train set {len(train_fix)}')\n",
    "print(f'train part of train set {len(train_train)}')"
   ]
  },
  {
   "cell_type": "code",
   "execution_count": 53,
   "id": "ec42f7a2-5184-4f56-8704-ee3f42b8d7e6",
   "metadata": {},
   "outputs": [],
   "source": [
    "label_df.train_fix = None\n",
    "label_df.loc[train_fix, 'train_fix'] = 1\n",
    "label_df['train_fix'].fillna(0, inplace=True)"
   ]
  },
  {
   "cell_type": "code",
   "execution_count": 54,
   "id": "af454854-200a-433a-a029-d000dfa95429",
   "metadata": {},
   "outputs": [
    {
     "data": {
      "text/plain": [
       "train_fix\n",
       "0    375005\n",
       "1    313076\n",
       "Name: count, dtype: int64"
      ]
     },
     "execution_count": 54,
     "metadata": {},
     "output_type": "execute_result"
    }
   ],
   "source": [
    "label_df['train_fix'].value_counts()"
   ]
  },
  {
   "cell_type": "code",
   "execution_count": 49,
   "id": "f28ccc45-61c8-4390-b7d0-fd9e31e3c651",
   "metadata": {},
   "outputs": [
    {
     "data": {
      "text/plain": [
       "313076"
      ]
     },
     "execution_count": 49,
     "metadata": {},
     "output_type": "execute_result"
    }
   ],
   "source": [
    "len(set(list(train_fix)))"
   ]
  },
  {
   "cell_type": "code",
   "execution_count": 55,
   "id": "14bbaa49-a447-435c-b911-4c5e84378ea7",
   "metadata": {},
   "outputs": [],
   "source": [
    "label_df.to_parquet(Path(setup.temp_path).joinpath('10_DATA_label_info.parquet'))"
   ]
  },
  {
   "cell_type": "code",
   "execution_count": 52,
   "id": "0c53e575-f97f-4906-906c-797bc4c006fa",
   "metadata": {},
   "outputs": [
    {
     "data": {
      "text/plain": [
       "(313076, 3)"
      ]
     },
     "execution_count": 52,
     "metadata": {},
     "output_type": "execute_result"
    }
   ],
   "source": [
    "label_df.loc[train_fix].shape"
   ]
  },
  {
   "cell_type": "code",
   "execution_count": 56,
   "id": "f5bde9bb-8050-4a22-9504-2c41e2ccd5de",
   "metadata": {},
   "outputs": [
    {
     "data": {
      "text/html": [
       "<div>\n",
       "<style scoped>\n",
       "    .dataframe tbody tr th:only-of-type {\n",
       "        vertical-align: middle;\n",
       "    }\n",
       "\n",
       "    .dataframe tbody tr th {\n",
       "        vertical-align: top;\n",
       "    }\n",
       "\n",
       "    .dataframe thead th {\n",
       "        text-align: right;\n",
       "    }\n",
       "</style>\n",
       "<table border=\"1\" class=\"dataframe\">\n",
       "  <thead>\n",
       "    <tr style=\"text-align: right;\">\n",
       "      <th></th>\n",
       "      <th>dset</th>\n",
       "      <th>target</th>\n",
       "      <th>train_fix</th>\n",
       "    </tr>\n",
       "    <tr>\n",
       "      <th>LoanNr_ChkDgt</th>\n",
       "      <th></th>\n",
       "      <th></th>\n",
       "      <th></th>\n",
       "    </tr>\n",
       "  </thead>\n",
       "  <tbody>\n",
       "    <tr>\n",
       "      <th>5282874009</th>\n",
       "      <td>train</td>\n",
       "      <td>0</td>\n",
       "      <td>0</td>\n",
       "    </tr>\n",
       "    <tr>\n",
       "      <th>2568556001</th>\n",
       "      <td>train</td>\n",
       "      <td>0</td>\n",
       "      <td>0</td>\n",
       "    </tr>\n",
       "    <tr>\n",
       "      <th>2687465005</th>\n",
       "      <td>train</td>\n",
       "      <td>1</td>\n",
       "      <td>0</td>\n",
       "    </tr>\n",
       "    <tr>\n",
       "      <th>9174473001</th>\n",
       "      <td>train</td>\n",
       "      <td>0</td>\n",
       "      <td>1</td>\n",
       "    </tr>\n",
       "    <tr>\n",
       "      <th>3598634004</th>\n",
       "      <td>train</td>\n",
       "      <td>0</td>\n",
       "      <td>0</td>\n",
       "    </tr>\n",
       "  </tbody>\n",
       "</table>\n",
       "</div>"
      ],
      "text/plain": [
       "                dset  target  train_fix\n",
       "LoanNr_ChkDgt                          \n",
       "5282874009     train       0          0\n",
       "2568556001     train       0          0\n",
       "2687465005     train       1          0\n",
       "9174473001     train       0          1\n",
       "3598634004     train       0          0"
      ]
     },
     "execution_count": 56,
     "metadata": {},
     "output_type": "execute_result"
    }
   ],
   "source": [
    "label_df.head()"
   ]
  },
  {
   "cell_type": "code",
   "execution_count": null,
   "id": "69c5cc82-f970-457c-b0f5-f8a42b6d43e5",
   "metadata": {},
   "outputs": [],
   "source": []
  }
 ],
 "metadata": {
  "kernelspec": {
   "display_name": "tf_p39",
   "language": "python",
   "name": "tf_p39"
  },
  "language_info": {
   "codemirror_mode": {
    "name": "ipython",
    "version": 3
   },
   "file_extension": ".py",
   "mimetype": "text/x-python",
   "name": "python",
   "nbconvert_exporter": "python",
   "pygments_lexer": "ipython3",
   "version": "3.8.18"
  }
 },
 "nbformat": 4,
 "nbformat_minor": 5
}
