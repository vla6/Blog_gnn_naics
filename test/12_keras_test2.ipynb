{
 "cells": [
  {
   "cell_type": "code",
   "execution_count": 1,
   "id": "8bf42d82-9a49-4a37-b9fc-5c5e246f046f",
   "metadata": {
    "tags": []
   },
   "outputs": [],
   "source": [
    "# Modify the file 00_setup.py to define input/output file paths on your system\n",
    "# The information in 00_setup.py will be used across notebooks\n",
    "from importlib.machinery import SourceFileLoader\n",
    "setup = SourceFileLoader(\"setup\", \"../00_setup.py\").load_module()"
   ]
  },
  {
   "cell_type": "code",
   "execution_count": 2,
   "id": "b8a59015-ab74-4602-837b-92581c05ecc7",
   "metadata": {},
   "outputs": [
    {
     "data": {
      "text/plain": [
       "'../data/2023_12_15'"
      ]
     },
     "execution_count": 2,
     "metadata": {},
     "output_type": "execute_result"
    }
   ],
   "source": [
    "setup.temp_path"
   ]
  },
  {
   "cell_type": "markdown",
   "id": "46ba6814-af59-427b-994d-45972a3d94ec",
   "metadata": {},
   "source": [
    "# Neural Network Classification Test - Basic"
   ]
  },
  {
   "cell_type": "markdown",
   "id": "4f2decfd-5675-4c3c-ac9f-d1eb9d9bb041",
   "metadata": {},
   "source": [
    "The purpose of this script is to build a standard (not graph) NN and try to get decent performance.  I want to test the data prepared in script 10"
   ]
  },
  {
   "cell_type": "markdown",
   "id": "48688758-7a7f-4bc3-a9e7-68eb92ef423a",
   "metadata": {},
   "source": [
    "Some code based on: https://machinelearningmastery.com/binary-classification-tutorial-with-the-keras-deep-learning-library/"
   ]
  },
  {
   "cell_type": "markdown",
   "id": "3147a56d-71b2-4f1e-ab9a-99c1312dc29e",
   "metadata": {},
   "source": [
    "https://github.com/stellargraph/stellargraph/issues/1908"
   ]
  },
  {
   "cell_type": "markdown",
   "id": "4bbf4bcf-23fc-4c31-a7e8-510f9900d959",
   "metadata": {},
   "source": [
    "*This script takes about 1 hour on my MacBook Air*"
   ]
  },
  {
   "cell_type": "code",
   "execution_count": 3,
   "id": "93a0a7a2-4ad9-460b-9a64-74e45b480d60",
   "metadata": {},
   "outputs": [],
   "source": [
    "import numpy as np\n",
    "import pandas as pd\n",
    "import tensorflow as tf"
   ]
  },
  {
   "cell_type": "code",
   "execution_count": 4,
   "id": "67f481eb-26c3-435d-b31a-1db447a8c258",
   "metadata": {},
   "outputs": [],
   "source": [
    "from pathlib import Path\n",
    "import importlib, pickle\n",
    "from sklearn import model_selection"
   ]
  },
  {
   "cell_type": "code",
   "execution_count": 5,
   "id": "6861dde2-b2da-4f27-bf6d-af2fd12cfbec",
   "metadata": {},
   "outputs": [
    {
     "name": "stderr",
     "output_type": "stream",
     "text": [
      "2024-01-05 20:47:37.096001: I metal_plugin/src/device/metal_device.cc:1154] Metal device set to: Apple M1\n",
      "2024-01-05 20:47:37.096032: I metal_plugin/src/device/metal_device.cc:296] systemMemory: 16.00 GB\n",
      "2024-01-05 20:47:37.096038: I metal_plugin/src/device/metal_device.cc:313] maxCacheSize: 5.33 GB\n",
      "2024-01-05 20:47:37.096086: I tensorflow/core/common_runtime/pluggable_device/pluggable_device_factory.cc:303] Could not identify NUMA node of platform GPU ID 0, defaulting to 0. Your kernel may not have been built with NUMA support.\n",
      "2024-01-05 20:47:37.096106: I tensorflow/core/common_runtime/pluggable_device/pluggable_device_factory.cc:269] Created TensorFlow device (/job:localhost/replica:0/task:0/device:GPU:0 with 0 MB memory) -> physical PluggableDevice (device: 0, name: METAL, pci bus id: <undefined>)\n"
     ]
    }
   ],
   "source": [
    "import pandas as pd\n",
    "import os\n",
    "\n",
    "from tensorflow.keras import layers, optimizers, losses, metrics, Model\n",
    "from sklearn import preprocessing, feature_extraction, model_selection\n",
    "from stellargraph import datasets\n",
    "from IPython.display import display, HTML\n",
    "import matplotlib.pyplot as plt\n",
    "%matplotlib inline"
   ]
  },
  {
   "cell_type": "code",
   "execution_count": 6,
   "id": "d18f0f39-47f6-4176-9921-24af514808b6",
   "metadata": {},
   "outputs": [],
   "source": [
    "from tensorflow.keras.models import Sequential\n",
    "from tensorflow.keras.layers import Dense\n",
    "import tensorflow.keras.metrics as km"
   ]
  },
  {
   "cell_type": "code",
   "execution_count": 7,
   "id": "9d4fe882-80b1-457f-95af-d52d503789a2",
   "metadata": {},
   "outputs": [],
   "source": [
    "import tensorflow.keras.metrics as km\n",
    "from keras import initializers"
   ]
  },
  {
   "cell_type": "markdown",
   "id": "8b179f78-5b52-4701-9711-edb7dbb33149",
   "metadata": {},
   "source": [
    "## Input Data"
   ]
  },
  {
   "cell_type": "code",
   "execution_count": 8,
   "id": "2c0c26c1-fe84-4145-a9df-233c9c5a5071",
   "metadata": {},
   "outputs": [],
   "source": [
    "os.chdir('..')"
   ]
  },
  {
   "cell_type": "code",
   "execution_count": 9,
   "id": "fc0d71fd-6fdb-49da-b1dd-26c7d1526af8",
   "metadata": {},
   "outputs": [
    {
     "data": {
      "text/plain": [
       "'/Users/valeriecarey/Documents/projects/2023_10_blog_gnn_sba/code'"
      ]
     },
     "execution_count": 9,
     "metadata": {},
     "output_type": "execute_result"
    }
   ],
   "source": [
    "os.getcwd()"
   ]
  },
  {
   "cell_type": "code",
   "execution_count": 10,
   "id": "4d938af5-d4da-4227-83b2-6ce9775d3de5",
   "metadata": {},
   "outputs": [],
   "source": [
    "business_data = pd.read_parquet(Path(setup.temp_path).joinpath('TMP_DATA_combined_scaled_all.parquet'))"
   ]
  },
  {
   "cell_type": "code",
   "execution_count": 11,
   "id": "f0b75ebe-8bfc-471e-9dc7-570fef0e58e2",
   "metadata": {},
   "outputs": [
    {
     "data": {
      "text/html": [
       "<div>\n",
       "<style scoped>\n",
       "    .dataframe tbody tr th:only-of-type {\n",
       "        vertical-align: middle;\n",
       "    }\n",
       "\n",
       "    .dataframe tbody tr th {\n",
       "        vertical-align: top;\n",
       "    }\n",
       "\n",
       "    .dataframe thead th {\n",
       "        text-align: right;\n",
       "    }\n",
       "</style>\n",
       "<table border=\"1\" class=\"dataframe\">\n",
       "  <thead>\n",
       "    <tr style=\"text-align: right;\">\n",
       "      <th></th>\n",
       "      <th>target</th>\n",
       "      <th>menc_NAICS</th>\n",
       "      <th>menc_NAICS_sector</th>\n",
       "      <th>NS___Accommodation and Food Services</th>\n",
       "      <th>NS___Construction</th>\n",
       "      <th>NS___Health Care and Social Assistance</th>\n",
       "      <th>NS___Manufacturing</th>\n",
       "      <th>NS___Other Services (except Public Administration)</th>\n",
       "      <th>NS___Professional, Scientific, and Technical Services</th>\n",
       "      <th>NS___Retail Trade</th>\n",
       "      <th>...</th>\n",
       "      <th>new_business</th>\n",
       "      <th>urban_flag</th>\n",
       "      <th>franchise_flag</th>\n",
       "      <th>missingindicator_LowDoc</th>\n",
       "      <th>missingindicator_new_business</th>\n",
       "      <th>missingindicator_urban_flag</th>\n",
       "      <th>NoEmp</th>\n",
       "      <th>CreateJob</th>\n",
       "      <th>LowDoc</th>\n",
       "      <th>DisbursementGross</th>\n",
       "    </tr>\n",
       "  </thead>\n",
       "  <tbody>\n",
       "    <tr>\n",
       "      <th>count</th>\n",
       "      <td>688081.000000</td>\n",
       "      <td>688081.000000</td>\n",
       "      <td>688081.000000</td>\n",
       "      <td>688081.000000</td>\n",
       "      <td>688081.000000</td>\n",
       "      <td>688081.000000</td>\n",
       "      <td>688081.000000</td>\n",
       "      <td>688081.000000</td>\n",
       "      <td>688081.000000</td>\n",
       "      <td>688081.000000</td>\n",
       "      <td>...</td>\n",
       "      <td>688081.000000</td>\n",
       "      <td>688081.000000</td>\n",
       "      <td>688081.000000</td>\n",
       "      <td>688081.000000</td>\n",
       "      <td>688081.000000</td>\n",
       "      <td>688081.000000</td>\n",
       "      <td>6.880810e+05</td>\n",
       "      <td>6.880810e+05</td>\n",
       "      <td>6.880810e+05</td>\n",
       "      <td>6.880810e+05</td>\n",
       "    </tr>\n",
       "    <tr>\n",
       "      <th>mean</th>\n",
       "      <td>0.203011</td>\n",
       "      <td>0.203954</td>\n",
       "      <td>0.202926</td>\n",
       "      <td>0.097958</td>\n",
       "      <td>0.095606</td>\n",
       "      <td>0.079398</td>\n",
       "      <td>0.096843</td>\n",
       "      <td>0.103658</td>\n",
       "      <td>0.098048</td>\n",
       "      <td>0.182085</td>\n",
       "      <td>...</td>\n",
       "      <td>0.277935</td>\n",
       "      <td>0.852639</td>\n",
       "      <td>0.050324</td>\n",
       "      <td>0.007342</td>\n",
       "      <td>0.001235</td>\n",
       "      <td>0.198575</td>\n",
       "      <td>6.691533e-18</td>\n",
       "      <td>-7.517649e-18</td>\n",
       "      <td>-2.368885e-17</td>\n",
       "      <td>-5.093000e-17</td>\n",
       "    </tr>\n",
       "    <tr>\n",
       "      <th>std</th>\n",
       "      <td>0.402241</td>\n",
       "      <td>0.095249</td>\n",
       "      <td>0.043782</td>\n",
       "      <td>0.297258</td>\n",
       "      <td>0.294051</td>\n",
       "      <td>0.270359</td>\n",
       "      <td>0.295744</td>\n",
       "      <td>0.304816</td>\n",
       "      <td>0.297380</td>\n",
       "      <td>0.385915</td>\n",
       "      <td>...</td>\n",
       "      <td>0.447982</td>\n",
       "      <td>0.354465</td>\n",
       "      <td>0.218613</td>\n",
       "      <td>0.085371</td>\n",
       "      <td>0.035125</td>\n",
       "      <td>0.398928</td>\n",
       "      <td>1.000001e+00</td>\n",
       "      <td>1.000001e+00</td>\n",
       "      <td>1.000001e+00</td>\n",
       "      <td>1.000001e+00</td>\n",
       "    </tr>\n",
       "    <tr>\n",
       "      <th>min</th>\n",
       "      <td>0.000000</td>\n",
       "      <td>0.009628</td>\n",
       "      <td>0.068505</td>\n",
       "      <td>0.000000</td>\n",
       "      <td>0.000000</td>\n",
       "      <td>0.000000</td>\n",
       "      <td>0.000000</td>\n",
       "      <td>0.000000</td>\n",
       "      <td>0.000000</td>\n",
       "      <td>0.000000</td>\n",
       "      <td>...</td>\n",
       "      <td>0.000000</td>\n",
       "      <td>0.000000</td>\n",
       "      <td>0.000000</td>\n",
       "      <td>0.000000</td>\n",
       "      <td>0.000000</td>\n",
       "      <td>0.000000</td>\n",
       "      <td>-1.824568e-01</td>\n",
       "      <td>-2.086068e-01</td>\n",
       "      <td>-3.314259e-01</td>\n",
       "      <td>-6.420047e-01</td>\n",
       "    </tr>\n",
       "    <tr>\n",
       "      <th>25%</th>\n",
       "      <td>0.000000</td>\n",
       "      <td>0.132721</td>\n",
       "      <td>0.192547</td>\n",
       "      <td>0.000000</td>\n",
       "      <td>0.000000</td>\n",
       "      <td>0.000000</td>\n",
       "      <td>0.000000</td>\n",
       "      <td>0.000000</td>\n",
       "      <td>0.000000</td>\n",
       "      <td>0.000000</td>\n",
       "      <td>...</td>\n",
       "      <td>0.000000</td>\n",
       "      <td>1.000000</td>\n",
       "      <td>0.000000</td>\n",
       "      <td>0.000000</td>\n",
       "      <td>0.000000</td>\n",
       "      <td>0.000000</td>\n",
       "      <td>-1.364398e-01</td>\n",
       "      <td>-1.674320e-01</td>\n",
       "      <td>-3.291739e-01</td>\n",
       "      <td>-5.312204e-01</td>\n",
       "    </tr>\n",
       "    <tr>\n",
       "      <th>50%</th>\n",
       "      <td>0.000000</td>\n",
       "      <td>0.200864</td>\n",
       "      <td>0.218455</td>\n",
       "      <td>0.000000</td>\n",
       "      <td>0.000000</td>\n",
       "      <td>0.000000</td>\n",
       "      <td>0.000000</td>\n",
       "      <td>0.000000</td>\n",
       "      <td>0.000000</td>\n",
       "      <td>0.000000</td>\n",
       "      <td>...</td>\n",
       "      <td>0.000000</td>\n",
       "      <td>1.000000</td>\n",
       "      <td>0.000000</td>\n",
       "      <td>0.000000</td>\n",
       "      <td>0.000000</td>\n",
       "      <td>0.000000</td>\n",
       "      <td>-1.051958e-01</td>\n",
       "      <td>-1.323106e-01</td>\n",
       "      <td>-3.287489e-01</td>\n",
       "      <td>-3.501667e-01</td>\n",
       "    </tr>\n",
       "    <tr>\n",
       "      <th>75%</th>\n",
       "      <td>0.000000</td>\n",
       "      <td>0.264205</td>\n",
       "      <td>0.228565</td>\n",
       "      <td>0.000000</td>\n",
       "      <td>0.000000</td>\n",
       "      <td>0.000000</td>\n",
       "      <td>0.000000</td>\n",
       "      <td>0.000000</td>\n",
       "      <td>0.000000</td>\n",
       "      <td>0.000000</td>\n",
       "      <td>...</td>\n",
       "      <td>1.000000</td>\n",
       "      <td>1.000000</td>\n",
       "      <td>0.000000</td>\n",
       "      <td>0.000000</td>\n",
       "      <td>0.000000</td>\n",
       "      <td>0.000000</td>\n",
       "      <td>-1.235818e-02</td>\n",
       "      <td>-1.341020e-02</td>\n",
       "      <td>-3.287489e-01</td>\n",
       "      <td>7.064531e-02</td>\n",
       "    </tr>\n",
       "    <tr>\n",
       "      <th>max</th>\n",
       "      <td>1.000000</td>\n",
       "      <td>0.488372</td>\n",
       "      <td>0.286731</td>\n",
       "      <td>1.000000</td>\n",
       "      <td>1.000000</td>\n",
       "      <td>1.000000</td>\n",
       "      <td>1.000000</td>\n",
       "      <td>1.000000</td>\n",
       "      <td>1.000000</td>\n",
       "      <td>1.000000</td>\n",
       "      <td>...</td>\n",
       "      <td>1.000000</td>\n",
       "      <td>1.000000</td>\n",
       "      <td>1.000000</td>\n",
       "      <td>1.000000</td>\n",
       "      <td>1.000000</td>\n",
       "      <td>1.000000</td>\n",
       "      <td>1.560525e+02</td>\n",
       "      <td>3.423551e+02</td>\n",
       "      <td>3.041835e+00</td>\n",
       "      <td>3.773855e+01</td>\n",
       "    </tr>\n",
       "  </tbody>\n",
       "</table>\n",
       "<p>8 rows × 22 columns</p>\n",
       "</div>"
      ],
      "text/plain": [
       "              target     menc_NAICS  menc_NAICS_sector  \\\n",
       "count  688081.000000  688081.000000      688081.000000   \n",
       "mean        0.203011       0.203954           0.202926   \n",
       "std         0.402241       0.095249           0.043782   \n",
       "min         0.000000       0.009628           0.068505   \n",
       "25%         0.000000       0.132721           0.192547   \n",
       "50%         0.000000       0.200864           0.218455   \n",
       "75%         0.000000       0.264205           0.228565   \n",
       "max         1.000000       0.488372           0.286731   \n",
       "\n",
       "       NS___Accommodation and Food Services  NS___Construction  \\\n",
       "count                         688081.000000      688081.000000   \n",
       "mean                               0.097958           0.095606   \n",
       "std                                0.297258           0.294051   \n",
       "min                                0.000000           0.000000   \n",
       "25%                                0.000000           0.000000   \n",
       "50%                                0.000000           0.000000   \n",
       "75%                                0.000000           0.000000   \n",
       "max                                1.000000           1.000000   \n",
       "\n",
       "       NS___Health Care and Social Assistance  NS___Manufacturing  \\\n",
       "count                           688081.000000       688081.000000   \n",
       "mean                                 0.079398            0.096843   \n",
       "std                                  0.270359            0.295744   \n",
       "min                                  0.000000            0.000000   \n",
       "25%                                  0.000000            0.000000   \n",
       "50%                                  0.000000            0.000000   \n",
       "75%                                  0.000000            0.000000   \n",
       "max                                  1.000000            1.000000   \n",
       "\n",
       "       NS___Other Services (except Public Administration)  \\\n",
       "count                                      688081.000000    \n",
       "mean                                            0.103658    \n",
       "std                                             0.304816    \n",
       "min                                             0.000000    \n",
       "25%                                             0.000000    \n",
       "50%                                             0.000000    \n",
       "75%                                             0.000000    \n",
       "max                                             1.000000    \n",
       "\n",
       "       NS___Professional, Scientific, and Technical Services  \\\n",
       "count                                      688081.000000       \n",
       "mean                                            0.098048       \n",
       "std                                             0.297380       \n",
       "min                                             0.000000       \n",
       "25%                                             0.000000       \n",
       "50%                                             0.000000       \n",
       "75%                                             0.000000       \n",
       "max                                             1.000000       \n",
       "\n",
       "       NS___Retail Trade  ...   new_business     urban_flag  franchise_flag  \\\n",
       "count      688081.000000  ...  688081.000000  688081.000000   688081.000000   \n",
       "mean            0.182085  ...       0.277935       0.852639        0.050324   \n",
       "std             0.385915  ...       0.447982       0.354465        0.218613   \n",
       "min             0.000000  ...       0.000000       0.000000        0.000000   \n",
       "25%             0.000000  ...       0.000000       1.000000        0.000000   \n",
       "50%             0.000000  ...       0.000000       1.000000        0.000000   \n",
       "75%             0.000000  ...       1.000000       1.000000        0.000000   \n",
       "max             1.000000  ...       1.000000       1.000000        1.000000   \n",
       "\n",
       "       missingindicator_LowDoc  missingindicator_new_business  \\\n",
       "count            688081.000000                  688081.000000   \n",
       "mean                  0.007342                       0.001235   \n",
       "std                   0.085371                       0.035125   \n",
       "min                   0.000000                       0.000000   \n",
       "25%                   0.000000                       0.000000   \n",
       "50%                   0.000000                       0.000000   \n",
       "75%                   0.000000                       0.000000   \n",
       "max                   1.000000                       1.000000   \n",
       "\n",
       "       missingindicator_urban_flag         NoEmp     CreateJob        LowDoc  \\\n",
       "count                688081.000000  6.880810e+05  6.880810e+05  6.880810e+05   \n",
       "mean                      0.198575  6.691533e-18 -7.517649e-18 -2.368885e-17   \n",
       "std                       0.398928  1.000001e+00  1.000001e+00  1.000001e+00   \n",
       "min                       0.000000 -1.824568e-01 -2.086068e-01 -3.314259e-01   \n",
       "25%                       0.000000 -1.364398e-01 -1.674320e-01 -3.291739e-01   \n",
       "50%                       0.000000 -1.051958e-01 -1.323106e-01 -3.287489e-01   \n",
       "75%                       0.000000 -1.235818e-02 -1.341020e-02 -3.287489e-01   \n",
       "max                       1.000000  1.560525e+02  3.423551e+02  3.041835e+00   \n",
       "\n",
       "       DisbursementGross  \n",
       "count       6.880810e+05  \n",
       "mean       -5.093000e-17  \n",
       "std         1.000001e+00  \n",
       "min        -6.420047e-01  \n",
       "25%        -5.312204e-01  \n",
       "50%        -3.501667e-01  \n",
       "75%         7.064531e-02  \n",
       "max         3.773855e+01  \n",
       "\n",
       "[8 rows x 22 columns]"
      ]
     },
     "execution_count": 11,
     "metadata": {},
     "output_type": "execute_result"
    }
   ],
   "source": [
    "business_data.describe()"
   ]
  },
  {
   "cell_type": "code",
   "execution_count": 12,
   "id": "7d9c60fc-a518-4919-a98d-f65db5b323ff",
   "metadata": {},
   "outputs": [
    {
     "data": {
      "text/plain": [
       "Index(['dset', 'LoanNr_ChkDgt', 'target', 'NAICS', 'NAICS_sector',\n",
       "       'menc_NAICS', 'menc_NAICS_sector',\n",
       "       'NS___Accommodation and Food Services', 'NS___Construction',\n",
       "       'NS___Health Care and Social Assistance', 'NS___Manufacturing',\n",
       "       'NS___Other Services (except Public Administration)',\n",
       "       'NS___Professional, Scientific, and Technical Services',\n",
       "       'NS___Retail Trade', 'NS___Wholesale Trade', 'NS___infrequent_sklearn',\n",
       "       'new_business', 'urban_flag', 'franchise_flag',\n",
       "       'missingindicator_LowDoc', 'missingindicator_new_business',\n",
       "       'missingindicator_urban_flag', 'NoEmp', 'CreateJob', 'LowDoc',\n",
       "       'DisbursementGross'],\n",
       "      dtype='object')"
      ]
     },
     "execution_count": 12,
     "metadata": {},
     "output_type": "execute_result"
    }
   ],
   "source": [
    "business_data.columns"
   ]
  },
  {
   "cell_type": "code",
   "execution_count": 13,
   "id": "5080a911-2d0a-4cb1-9d81-d4f8244dc2d5",
   "metadata": {},
   "outputs": [],
   "source": [
    "feat = ['new_business','urban_flag', 'franchise_flag','missingindicator_LowDoc',\n",
    "        'missingindicator_new_business', 'missingindicator_urban_flag', 'NoEmp',\n",
    "        'CreateJob', 'LowDoc', 'DisbursementGross']\n"
   ]
  },
  {
   "cell_type": "code",
   "execution_count": 14,
   "id": "7e50d4c1-a853-4ad5-a38d-088234e9c8de",
   "metadata": {},
   "outputs": [],
   "source": [
    "X = business_data[['dset', 'LoanNr_ChkDgt'] + feat].set_index('LoanNr_ChkDgt').sort_index()"
   ]
  },
  {
   "cell_type": "code",
   "execution_count": 15,
   "id": "e39e5cff-67d8-4428-b00e-b3e4e7b0507d",
   "metadata": {},
   "outputs": [
    {
     "data": {
      "text/plain": [
       "(688081, 11)"
      ]
     },
     "execution_count": 15,
     "metadata": {},
     "output_type": "execute_result"
    }
   ],
   "source": [
    "X.shape"
   ]
  },
  {
   "cell_type": "code",
   "execution_count": 16,
   "id": "921d7764-aa29-42e3-9c79-67e7713ef2ae",
   "metadata": {},
   "outputs": [
    {
     "data": {
      "text/plain": [
       "Index(['dset', 'new_business', 'urban_flag', 'franchise_flag',\n",
       "       'missingindicator_LowDoc', 'missingindicator_new_business',\n",
       "       'missingindicator_urban_flag', 'NoEmp', 'CreateJob', 'LowDoc',\n",
       "       'DisbursementGross'],\n",
       "      dtype='object')"
      ]
     },
     "execution_count": 16,
     "metadata": {},
     "output_type": "execute_result"
    }
   ],
   "source": [
    "X.columns"
   ]
  },
  {
   "cell_type": "markdown",
   "id": "0aeeffd3-a0a2-4d4b-8727-608874eab6db",
   "metadata": {},
   "source": [
    "## Function to create model"
   ]
  },
  {
   "cell_type": "code",
   "execution_count": 17,
   "id": "d4ea1215-53af-4954-9573-b151452be607",
   "metadata": {},
   "outputs": [],
   "source": [
    "def create_baseline(base_thresh  = 0.2, n_feat = 10, hidden_size = 32):\n",
    "    model = Sequential()\n",
    "    #model.add(Dense(60, input_shape=(7,), activation='relu'))\n",
    "    #model.add(Dense(2, input_shape=(10,), activation='relu'))\n",
    "    model.add(Dense(hidden_size, input_shape=(10,), activation='sigmoid'))\n",
    "    #model.add(Dense(hidden_size, input_shape=(hidden_size,), activation='selu'))\n",
    "    model.add(Dense(hidden_size, input_shape=(hidden_size,), activation='sigmoid'))\n",
    "    model.add(Dense(1, activation='sigmoid'))\n",
    "    # Compile model\n",
    "    model.compile(loss='binary_crossentropy', optimizer='adam', \n",
    "                  metrics=[km.AUC(curve='PR'), km.AUC(curve='ROC'), km.Precision(thresholds=base_thresh), \n",
    "                           km.Recall(thresholds=base_thresh)])\n",
    "    return model"
   ]
  },
  {
   "cell_type": "markdown",
   "id": "ace14d4f-af09-460a-a19a-e47d574e5a74",
   "metadata": {},
   "source": [
    "## Model Create, Fit"
   ]
  },
  {
   "cell_type": "code",
   "execution_count": 18,
   "id": "42dc5c92-f5a2-457c-be3a-60cb0f6c2ef8",
   "metadata": {},
   "outputs": [
    {
     "data": {
      "text/plain": [
       "(412848, 10)"
      ]
     },
     "execution_count": 18,
     "metadata": {},
     "output_type": "execute_result"
    }
   ],
   "source": [
    "X_train = X[X['dset'] == 'train'].drop(columns='dset')\n",
    "X_train.shape"
   ]
  },
  {
   "cell_type": "code",
   "execution_count": 19,
   "id": "80e32c9e-a3e1-42ed-9e5a-6f3fccd7aa38",
   "metadata": {},
   "outputs": [
    {
     "data": {
      "text/plain": [
       "(220187, 10)"
      ]
     },
     "execution_count": 19,
     "metadata": {},
     "output_type": "execute_result"
    }
   ],
   "source": [
    "X_val = X[X['dset'] == 'val'].drop(columns='dset')\n",
    "X_val.shape"
   ]
  },
  {
   "cell_type": "code",
   "execution_count": 20,
   "id": "0e5073b0-4ed3-42b3-bbb1-e39c5b71463a",
   "metadata": {},
   "outputs": [],
   "source": [
    "y_train = business_data[business_data['dset'] == 'train'].set_index('LoanNr_ChkDgt').sort_index()['target']"
   ]
  },
  {
   "cell_type": "code",
   "execution_count": 21,
   "id": "431a77b6-e9d1-40d6-bfb4-aec4a09f2af6",
   "metadata": {},
   "outputs": [
    {
     "data": {
      "text/plain": [
       "(412848,)"
      ]
     },
     "execution_count": 21,
     "metadata": {},
     "output_type": "execute_result"
    }
   ],
   "source": [
    "y_train.shape"
   ]
  },
  {
   "cell_type": "code",
   "execution_count": 22,
   "id": "a9c2e513-0694-4020-b76b-3742ccfb0240",
   "metadata": {},
   "outputs": [],
   "source": [
    "y_val = business_data[business_data['dset'] == 'val'].set_index('LoanNr_ChkDgt').sort_index()['target']"
   ]
  },
  {
   "cell_type": "code",
   "execution_count": 23,
   "id": "b34ed289-41d7-49ee-9f9e-acfc5c32a49f",
   "metadata": {},
   "outputs": [],
   "source": [
    "model = create_baseline()"
   ]
  },
  {
   "cell_type": "code",
   "execution_count": null,
   "id": "7a869959-2f6a-42ef-b281-525fd10020f5",
   "metadata": {},
   "outputs": [
    {
     "name": "stdout",
     "output_type": "stream",
     "text": [
      "Epoch 1/15\n"
     ]
    },
    {
     "name": "stderr",
     "output_type": "stream",
     "text": [
      "2024-01-05 20:47:40.253760: I tensorflow/core/grappler/optimizers/custom_graph_optimizer_registry.cc:114] Plugin optimizer for device_type GPU is enabled.\n"
     ]
    },
    {
     "name": "stdout",
     "output_type": "stream",
     "text": [
      "12902/12902 [==============================] - ETA: 0s - loss: 0.4708 - auc: 0.3028 - auc_1: 0.6762 - precision: 0.2860 - recall: 0.7787"
     ]
    },
    {
     "name": "stderr",
     "output_type": "stream",
     "text": [
      "2024-01-05 20:51:49.346267: I tensorflow/core/grappler/optimizers/custom_graph_optimizer_registry.cc:114] Plugin optimizer for device_type GPU is enabled.\n"
     ]
    },
    {
     "name": "stdout",
     "output_type": "stream",
     "text": [
      "12902/12902 [==============================] - 326s 25ms/step - loss: 0.4708 - auc: 0.3028 - auc_1: 0.6762 - precision: 0.2860 - recall: 0.7787 - val_loss: 0.4676 - val_auc: 0.3099 - val_auc_1: 0.6834 - val_precision: 0.2889 - val_recall: 0.7829\n",
      "Epoch 2/15\n",
      "12902/12902 [==============================] - 304s 24ms/step - loss: 0.4680 - auc: 0.3088 - auc_1: 0.6820 - precision: 0.2916 - recall: 0.7642 - val_loss: 0.4667 - val_auc: 0.3124 - val_auc_1: 0.6848 - val_precision: 0.2947 - val_recall: 0.7505\n",
      "Epoch 3/15\n",
      "12902/12902 [==============================] - 305s 24ms/step - loss: 0.4670 - auc: 0.3117 - auc_1: 0.6843 - precision: 0.2923 - recall: 0.7613 - val_loss: 0.4660 - val_auc: 0.3158 - val_auc_1: 0.6865 - val_precision: 0.2925 - val_recall: 0.7642\n",
      "Epoch 4/15\n",
      "12902/12902 [==============================] - 302s 23ms/step - loss: 0.4664 - auc: 0.3137 - auc_1: 0.6855 - precision: 0.2921 - recall: 0.7643 - val_loss: 0.4655 - val_auc: 0.3179 - val_auc_1: 0.6871 - val_precision: 0.2956 - val_recall: 0.7455\n",
      "Epoch 5/15\n",
      "12902/12902 [==============================] - 325s 25ms/step - loss: 0.4658 - auc: 0.3171 - auc_1: 0.6869 - precision: 0.2927 - recall: 0.7644 - val_loss: 0.4660 - val_auc: 0.3203 - val_auc_1: 0.6881 - val_precision: 0.2977 - val_recall: 0.7294\n",
      "Epoch 6/15\n",
      "12902/12902 [==============================] - 348s 27ms/step - loss: 0.4653 - auc: 0.3185 - auc_1: 0.6881 - precision: 0.2921 - recall: 0.7688 - val_loss: 0.4657 - val_auc: 0.3220 - val_auc_1: 0.6896 - val_precision: 0.2996 - val_recall: 0.7184\n",
      "Epoch 7/15\n",
      "12902/12902 [==============================] - 310s 24ms/step - loss: 0.4646 - auc: 0.3209 - auc_1: 0.6894 - precision: 0.2929 - recall: 0.7696 - val_loss: 0.4641 - val_auc: 0.3227 - val_auc_1: 0.6908 - val_precision: 0.2948 - val_recall: 0.7603\n",
      "Epoch 8/15\n",
      "12902/12902 [==============================] - 339s 26ms/step - loss: 0.4641 - auc: 0.3226 - auc_1: 0.6904 - precision: 0.2930 - recall: 0.7749 - val_loss: 0.4631 - val_auc: 0.3244 - val_auc_1: 0.6926 - val_precision: 0.2940 - val_recall: 0.7704\n",
      "Epoch 9/15\n",
      "12902/12902 [==============================] - 344s 27ms/step - loss: 0.4636 - auc: 0.3243 - auc_1: 0.6916 - precision: 0.2932 - recall: 0.7779 - val_loss: 0.4627 - val_auc: 0.3264 - val_auc_1: 0.6933 - val_precision: 0.2914 - val_recall: 0.7889\n",
      "Epoch 10/15\n",
      "12902/12902 [==============================] - 307s 24ms/step - loss: 0.4632 - auc: 0.3256 - auc_1: 0.6923 - precision: 0.2928 - recall: 0.7786 - val_loss: 0.4622 - val_auc: 0.3280 - val_auc_1: 0.6949 - val_precision: 0.2915 - val_recall: 0.7918\n",
      "Epoch 11/15\n",
      " 1036/12902 [=>............................] - ETA: 3:37 - loss: 0.4607 - auc: 0.3263 - auc_1: 0.6946 - precision: 0.2913 - recall: 0.7750"
     ]
    }
   ],
   "source": [
    "history = model.fit(\n",
    "    X_train, y_train,\n",
    "    validation_data=(X_val, y_val),\n",
    "    batch_size=32,\n",
    "    epochs=15\n",
    ")"
   ]
  },
  {
   "cell_type": "markdown",
   "id": "f1f0fe81-d097-4da4-b8fe-6080fa894bf0",
   "metadata": {},
   "source": [
    "  * 60 deep layer - at most 0.27 / 0.28 after 2-3 epochs\n",
    "  * went down to.2 neurons in single hidden layer. Added the missing indicators. Get better performance. Seems to train a bit. get to 0.306/0.306 after 3 epochs\n",
    "  * Try linear activation in intermediate layers.  Worse at first.  May be better at epoch 2?  0.307/0.304 after 3 epochs\n",
    "  * Added a layer, selu then linear.  2 neurons each.  This is better slightly.  Let it run a bit.  3 levels get to 0.311/0.310\n",
    "  * Same bt make hidden size 4 for both layers.  Now 0.36/0.33 after 10 epochs.  Seems to train\n",
    "  * Add another selu lauyer (selu, selu, linear, sigmoid).  hidden size 4. seems no beter.  0.314/0.316\n",
    "  * Back to 2 layers all selu. seems worse.  0.320/0.322\n",
    "  * Back to selu/linear.  \n",
    "* Other things to try\n",
    "  * More layers\n",
    "  * wait longer\n",
    "  * Different activations\n",
    "  * Different neuron counts\n",
    "  * In GNN, self loops?\n",
    "  * Try with original imputer also"
   ]
  },
  {
   "cell_type": "code",
   "execution_count": null,
   "id": "ac74ebf4-162b-4b4d-b624-e8755ee6353c",
   "metadata": {},
   "outputs": [],
   "source": [
    "import stellargraph as sg\n",
    "sg.utils.plot_history(history)"
   ]
  },
  {
   "cell_type": "raw",
   "id": "7646c6c2-1a7e-48cf-8e05-2822af844095",
   "metadata": {},
   "source": [
    "tanh:\n",
    "    Epoch 10/10\n",
    "12902/12902 [==============================] - 199s 15ms/step - loss: 0.4614 - auc: 0.3368 - auc_1: 0.6989 - precision: 0.2962 - recall: 0.7649 - val_loss: 0.4617 - val_auc: 0.3359 - val_auc_1: 0.7004 - val_precision: 0.2903 - val_recall: 0.8017"
   ]
  },
  {
   "cell_type": "raw",
   "id": "5a57b46d-02a5-4520-b94e-9fee2b186d3e",
   "metadata": {},
   "source": [
    "try sigmoid\n"
   ]
  }
 ],
 "metadata": {
  "kernelspec": {
   "display_name": "tf_p39",
   "language": "python",
   "name": "tf_p39"
  },
  "language_info": {
   "codemirror_mode": {
    "name": "ipython",
    "version": 3
   },
   "file_extension": ".py",
   "mimetype": "text/x-python",
   "name": "python",
   "nbconvert_exporter": "python",
   "pygments_lexer": "ipython3",
   "version": "3.8.18"
  }
 },
 "nbformat": 4,
 "nbformat_minor": 5
}
