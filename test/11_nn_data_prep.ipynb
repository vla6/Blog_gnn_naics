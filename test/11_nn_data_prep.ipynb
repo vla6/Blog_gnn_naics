{
 "cells": [
  {
   "cell_type": "code",
   "execution_count": 2,
   "id": "34de6efe-d85e-4e8e-8e40-2dba712bc8ef",
   "metadata": {
    "tags": []
   },
   "outputs": [],
   "source": [
    "# Modify the file 00_setup.py to define input/output file paths on your system\n",
    "# The information in 00_setup.py will be used across notebooks\n",
    "from importlib.machinery import SourceFileLoader\n",
    "setup = SourceFileLoader(\"setup\", \"../00_setup.py\").load_module()"
   ]
  },
  {
   "cell_type": "markdown",
   "id": "c405a843-4526-443d-994f-962532746b04",
   "metadata": {
    "tags": []
   },
   "source": [
    "# Neural Network Data Prep\n",
    "Here, I run code to process tabular data.  I use a test imputer"
   ]
  },
  {
   "cell_type": "markdown",
   "id": "3952298b-047c-4cc2-91f3-43379ad3b6c2",
   "metadata": {},
   "source": [
    "*This script takes about 5 minutes on my MacBook Air*"
   ]
  },
  {
   "cell_type": "code",
   "execution_count": 3,
   "id": "bb309fca-032f-4839-8056-a4e113148683",
   "metadata": {},
   "outputs": [],
   "source": [
    "import pandas as pd\n",
    "import numpy as np"
   ]
  },
  {
   "cell_type": "code",
   "execution_count": 22,
   "id": "394918a9-0f0f-4ba0-b6bf-1eb93266c123",
   "metadata": {},
   "outputs": [],
   "source": [
    "from pathlib import Path\n",
    "import importlib, pickle\n",
    "import sklearn\n",
    "from sklearn import model_selection"
   ]
  },
  {
   "cell_type": "code",
   "execution_count": 17,
   "id": "e76fa9ab-dbd1-4280-a4ba-225044e344a6",
   "metadata": {},
   "outputs": [],
   "source": [
    "import os"
   ]
  },
  {
   "cell_type": "code",
   "execution_count": 45,
   "id": "45b32701-7139-49c9-af14-13b974df4f7d",
   "metadata": {},
   "outputs": [],
   "source": [
    "# Imputer object for easy dataset conversion to GNN friendly format\n",
    "import test_imputer\n",
    "from test_imputer import TestImputer "
   ]
  },
  {
   "cell_type": "code",
   "execution_count": 44,
   "id": "0480b687-d470-4853-be1b-056652bdb297",
   "metadata": {},
   "outputs": [
    {
     "data": {
      "text/plain": [
       "<module 'test_imputer' from '/Users/valeriecarey/Documents/projects/2023_10_blog_gnn_sba/code/test/test_imputer.py'>"
      ]
     },
     "execution_count": 44,
     "metadata": {},
     "output_type": "execute_result"
    }
   ],
   "source": [
    "importlib.reload(test_imputer)"
   ]
  },
  {
   "cell_type": "markdown",
   "id": "b7835f78-245a-4a9d-9dac-99cdaf9c3bfb",
   "metadata": {},
   "source": [
    "## Input data, fit imputer"
   ]
  },
  {
   "cell_type": "code",
   "execution_count": 18,
   "id": "7b3a8262-4d90-442f-9bbb-9fdb60121aec",
   "metadata": {},
   "outputs": [],
   "source": [
    "os.chdir('..')"
   ]
  },
  {
   "cell_type": "code",
   "execution_count": 19,
   "id": "bb74ed7a-fb16-4cec-b39c-60a57f52f12f",
   "metadata": {},
   "outputs": [],
   "source": [
    "train_df = pd.read_parquet(Path(setup.temp_path).joinpath('01_DATA_combined_base_train.parquet'))"
   ]
  },
  {
   "cell_type": "code",
   "execution_count": 46,
   "id": "e814d7cc-7bdd-45ec-aa81-70636c84ab90",
   "metadata": {},
   "outputs": [],
   "source": [
    "imputer = TestImputer(features = setup.predictor_features)                               "
   ]
  },
  {
   "cell_type": "code",
   "execution_count": 47,
   "id": "7dc7675b-d177-4c31-87ac-dcbbab42ea98",
   "metadata": {},
   "outputs": [],
   "source": [
    "train_out = imputer.fit_transform(train_df)"
   ]
  },
  {
   "cell_type": "code",
   "execution_count": 48,
   "id": "83dd77fb-576f-4148-b4be-8bb3a0a6bb34",
   "metadata": {},
   "outputs": [
    {
     "data": {
      "text/html": [
       "<div>\n",
       "<style scoped>\n",
       "    .dataframe tbody tr th:only-of-type {\n",
       "        vertical-align: middle;\n",
       "    }\n",
       "\n",
       "    .dataframe tbody tr th {\n",
       "        vertical-align: top;\n",
       "    }\n",
       "\n",
       "    .dataframe thead th {\n",
       "        text-align: right;\n",
       "    }\n",
       "</style>\n",
       "<table border=\"1\" class=\"dataframe\">\n",
       "  <thead>\n",
       "    <tr style=\"text-align: right;\">\n",
       "      <th></th>\n",
       "      <th>LoanNr_ChkDgt</th>\n",
       "      <th>NoEmp</th>\n",
       "      <th>urban_flag</th>\n",
       "    </tr>\n",
       "    <tr>\n",
       "      <th>index</th>\n",
       "      <th></th>\n",
       "      <th></th>\n",
       "      <th></th>\n",
       "    </tr>\n",
       "  </thead>\n",
       "  <tbody>\n",
       "    <tr>\n",
       "      <th>76763</th>\n",
       "      <td>1579734005</td>\n",
       "      <td>8000</td>\n",
       "      <td>NaN</td>\n",
       "    </tr>\n",
       "  </tbody>\n",
       "</table>\n",
       "</div>"
      ],
      "text/plain": [
       "      LoanNr_ChkDgt  NoEmp  urban_flag\n",
       "index                                 \n",
       "76763    1579734005   8000         NaN"
      ]
     },
     "execution_count": 48,
     "metadata": {},
     "output_type": "execute_result"
    }
   ],
   "source": [
    "train_df[train_df['NoEmp'] == train_df['NoEmp'].max()][['LoanNr_ChkDgt', 'NoEmp', 'urban_flag']]\n",
    "# Index of this si 76763, 1579734005.  8000 EEs"
   ]
  },
  {
   "cell_type": "code",
   "execution_count": 49,
   "id": "905149ec-7a7a-46f3-8b0d-e6e4f8157206",
   "metadata": {},
   "outputs": [
    {
     "data": {
      "text/plain": [
       "new_business                       1.000000\n",
       "urban_flag                         1.000000\n",
       "franchise_flag                     0.000000\n",
       "missingindicator_LowDoc            0.000000\n",
       "missingindicator_new_business      0.000000\n",
       "missingindicator_urban_flag        1.000000\n",
       "NoEmp                            151.016280\n",
       "CreateJob                         -0.132311\n",
       "LowDoc                             3.041835\n",
       "DisbursementGross                 -0.316339\n",
       "Name: 76763, dtype: float64"
      ]
     },
     "execution_count": 49,
     "metadata": {},
     "output_type": "execute_result"
    }
   ],
   "source": [
    "train_out.loc[76763]"
   ]
  },
  {
   "cell_type": "code",
   "execution_count": 50,
   "id": "6b020636-1011-48a6-b3fa-0b4251ecf5de",
   "metadata": {},
   "outputs": [
    {
     "data": {
      "text/html": [
       "<div>\n",
       "<style scoped>\n",
       "    .dataframe tbody tr th:only-of-type {\n",
       "        vertical-align: middle;\n",
       "    }\n",
       "\n",
       "    .dataframe tbody tr th {\n",
       "        vertical-align: top;\n",
       "    }\n",
       "\n",
       "    .dataframe thead th {\n",
       "        text-align: right;\n",
       "    }\n",
       "</style>\n",
       "<table border=\"1\" class=\"dataframe\">\n",
       "  <thead>\n",
       "    <tr style=\"text-align: right;\">\n",
       "      <th></th>\n",
       "      <th>new_business</th>\n",
       "      <th>urban_flag</th>\n",
       "      <th>franchise_flag</th>\n",
       "      <th>missingindicator_LowDoc</th>\n",
       "      <th>missingindicator_new_business</th>\n",
       "      <th>missingindicator_urban_flag</th>\n",
       "      <th>NoEmp</th>\n",
       "      <th>CreateJob</th>\n",
       "      <th>LowDoc</th>\n",
       "      <th>DisbursementGross</th>\n",
       "    </tr>\n",
       "    <tr>\n",
       "      <th>index</th>\n",
       "      <th></th>\n",
       "      <th></th>\n",
       "      <th></th>\n",
       "      <th></th>\n",
       "      <th></th>\n",
       "      <th></th>\n",
       "      <th></th>\n",
       "      <th></th>\n",
       "      <th></th>\n",
       "      <th></th>\n",
       "    </tr>\n",
       "  </thead>\n",
       "  <tbody>\n",
       "    <tr>\n",
       "      <th>76763</th>\n",
       "      <td>1.0</td>\n",
       "      <td>1.0</td>\n",
       "      <td>0.0</td>\n",
       "      <td>0.0</td>\n",
       "      <td>0.0</td>\n",
       "      <td>1.0</td>\n",
       "      <td>151.01628</td>\n",
       "      <td>-0.132311</td>\n",
       "      <td>3.041835</td>\n",
       "      <td>-0.316339</td>\n",
       "    </tr>\n",
       "  </tbody>\n",
       "</table>\n",
       "</div>"
      ],
      "text/plain": [
       "       new_business  urban_flag  franchise_flag  missingindicator_LowDoc  \\\n",
       "index                                                                      \n",
       "76763           1.0         1.0             0.0                      0.0   \n",
       "\n",
       "       missingindicator_new_business  missingindicator_urban_flag      NoEmp  \\\n",
       "index                                                                          \n",
       "76763                            0.0                          1.0  151.01628   \n",
       "\n",
       "       CreateJob    LowDoc  DisbursementGross  \n",
       "index                                          \n",
       "76763  -0.132311  3.041835          -0.316339  "
      ]
     },
     "execution_count": 50,
     "metadata": {},
     "output_type": "execute_result"
    }
   ],
   "source": [
    "train_out[train_out['NoEmp'] == train_out['NoEmp'].max()]"
   ]
  },
  {
   "cell_type": "code",
   "execution_count": 60,
   "id": "3e727e56-b76e-49d8-a00e-7409b6be90c9",
   "metadata": {},
   "outputs": [
    {
     "data": {
      "text/plain": [
       "LowDoc\n",
       "0.0    369518\n",
       "1.0     40267\n",
       "Name: count, dtype: int64"
      ]
     },
     "execution_count": 60,
     "metadata": {},
     "output_type": "execute_result"
    }
   ],
   "source": [
    "train_df['LowDoc'].value_counts()"
   ]
  },
  {
   "cell_type": "code",
   "execution_count": 62,
   "id": "da98d63e-6df0-4a66-abe9-3207b66a0752",
   "metadata": {},
   "outputs": [
    {
     "data": {
      "text/html": [
       "<div>\n",
       "<style scoped>\n",
       "    .dataframe tbody tr th:only-of-type {\n",
       "        vertical-align: middle;\n",
       "    }\n",
       "\n",
       "    .dataframe tbody tr th {\n",
       "        vertical-align: top;\n",
       "    }\n",
       "\n",
       "    .dataframe thead th {\n",
       "        text-align: right;\n",
       "    }\n",
       "</style>\n",
       "<table border=\"1\" class=\"dataframe\">\n",
       "  <thead>\n",
       "    <tr style=\"text-align: right;\">\n",
       "      <th></th>\n",
       "      <th>LoanNr_ChkDgt</th>\n",
       "      <th>NoEmp</th>\n",
       "      <th>urban_flag</th>\n",
       "      <th>DisbursementGross</th>\n",
       "    </tr>\n",
       "    <tr>\n",
       "      <th>index</th>\n",
       "      <th></th>\n",
       "      <th></th>\n",
       "      <th></th>\n",
       "      <th></th>\n",
       "    </tr>\n",
       "  </thead>\n",
       "  <tbody>\n",
       "    <tr>\n",
       "      <th>23135</th>\n",
       "      <td>1174365010</td>\n",
       "      <td>3</td>\n",
       "      <td>1.0</td>\n",
       "      <td>4000.0</td>\n",
       "    </tr>\n",
       "    <tr>\n",
       "      <th>716027</th>\n",
       "      <td>7471664003</td>\n",
       "      <td>5</td>\n",
       "      <td>1.0</td>\n",
       "      <td>4000.0</td>\n",
       "    </tr>\n",
       "    <tr>\n",
       "      <th>71365</th>\n",
       "      <td>1541105005</td>\n",
       "      <td>1</td>\n",
       "      <td>1.0</td>\n",
       "      <td>4000.0</td>\n",
       "    </tr>\n",
       "    <tr>\n",
       "      <th>281056</th>\n",
       "      <td>2954754008</td>\n",
       "      <td>1</td>\n",
       "      <td>NaN</td>\n",
       "      <td>4000.0</td>\n",
       "    </tr>\n",
       "    <tr>\n",
       "      <th>368030</th>\n",
       "      <td>3580896006</td>\n",
       "      <td>1</td>\n",
       "      <td>NaN</td>\n",
       "      <td>4000.0</td>\n",
       "    </tr>\n",
       "    <tr>\n",
       "      <th>...</th>\n",
       "      <td>...</td>\n",
       "      <td>...</td>\n",
       "      <td>...</td>\n",
       "      <td>...</td>\n",
       "    </tr>\n",
       "    <tr>\n",
       "      <th>208646</th>\n",
       "      <td>2479305009</td>\n",
       "      <td>2</td>\n",
       "      <td>1.0</td>\n",
       "      <td>4000.0</td>\n",
       "    </tr>\n",
       "    <tr>\n",
       "      <th>32327</th>\n",
       "      <td>1245855002</td>\n",
       "      <td>1</td>\n",
       "      <td>1.0</td>\n",
       "      <td>4000.0</td>\n",
       "    </tr>\n",
       "    <tr>\n",
       "      <th>686855</th>\n",
       "      <td>7131014000</td>\n",
       "      <td>1</td>\n",
       "      <td>1.0</td>\n",
       "      <td>4000.0</td>\n",
       "    </tr>\n",
       "    <tr>\n",
       "      <th>160934</th>\n",
       "      <td>2169985008</td>\n",
       "      <td>1</td>\n",
       "      <td>0.0</td>\n",
       "      <td>4000.0</td>\n",
       "    </tr>\n",
       "    <tr>\n",
       "      <th>64408</th>\n",
       "      <td>1491095005</td>\n",
       "      <td>1</td>\n",
       "      <td>1.0</td>\n",
       "      <td>4000.0</td>\n",
       "    </tr>\n",
       "  </tbody>\n",
       "</table>\n",
       "<p>62 rows × 4 columns</p>\n",
       "</div>"
      ],
      "text/plain": [
       "       LoanNr_ChkDgt  NoEmp  urban_flag  DisbursementGross\n",
       "index                                                     \n",
       "23135     1174365010      3         1.0             4000.0\n",
       "716027    7471664003      5         1.0             4000.0\n",
       "71365     1541105005      1         1.0             4000.0\n",
       "281056    2954754008      1         NaN             4000.0\n",
       "368030    3580896006      1         NaN             4000.0\n",
       "...              ...    ...         ...                ...\n",
       "208646    2479305009      2         1.0             4000.0\n",
       "32327     1245855002      1         1.0             4000.0\n",
       "686855    7131014000      1         1.0             4000.0\n",
       "160934    2169985008      1         0.0             4000.0\n",
       "64408     1491095005      1         1.0             4000.0\n",
       "\n",
       "[62 rows x 4 columns]"
      ]
     },
     "execution_count": 62,
     "metadata": {},
     "output_type": "execute_result"
    }
   ],
   "source": [
    "train_df[train_df['DisbursementGross'] == train_df['DisbursementGross'].min()] \\\n",
    "    [['LoanNr_ChkDgt', 'NoEmp', 'urban_flag', 'DisbursementGross']]\n",
    "# One index is 23135"
   ]
  },
  {
   "cell_type": "code",
   "execution_count": 63,
   "id": "d050c09f-7d3e-4bff-b0f0-fcf2fe5b3dd7",
   "metadata": {},
   "outputs": [
    {
     "data": {
      "text/plain": [
       "new_business                     1.000000\n",
       "urban_flag                       1.000000\n",
       "franchise_flag                   0.000000\n",
       "missingindicator_LowDoc          0.000000\n",
       "missingindicator_new_business    0.000000\n",
       "missingindicator_urban_flag      0.000000\n",
       "NoEmp                           -0.125757\n",
       "CreateJob                       -0.071381\n",
       "LowDoc                          -0.328749\n",
       "DisbursementGross               -0.638317\n",
       "Name: 23135, dtype: float64"
      ]
     },
     "execution_count": 63,
     "metadata": {},
     "output_type": "execute_result"
    }
   ],
   "source": [
    "train_out.loc[23135]"
   ]
  },
  {
   "cell_type": "markdown",
   "id": "7f34db89-fd3a-4e63-a5e5-3db49ae1427c",
   "metadata": {},
   "source": [
    "## Transform Test, Validation Data"
   ]
  },
  {
   "cell_type": "code",
   "execution_count": 51,
   "id": "de0e18dd-4c1c-4bea-95dd-9901569d0f43",
   "metadata": {},
   "outputs": [],
   "source": [
    "test_df = pd.read_parquet(Path(setup.temp_path).joinpath('01_DATA_combined_base_test.parquet'))"
   ]
  },
  {
   "cell_type": "code",
   "execution_count": 52,
   "id": "3c8dc6b4-2a8b-4422-b0a6-c2f12f4002da",
   "metadata": {},
   "outputs": [],
   "source": [
    "val_df = pd.read_parquet(Path(setup.temp_path).joinpath('01_DATA_combined_base_val.parquet'))"
   ]
  },
  {
   "cell_type": "code",
   "execution_count": 53,
   "id": "5def7140-6f34-45af-b8b3-496464823516",
   "metadata": {},
   "outputs": [],
   "source": [
    "test_out = imputer.transform(test_df)"
   ]
  },
  {
   "cell_type": "code",
   "execution_count": 54,
   "id": "02bbcc52-0e1f-49c7-ab35-6a7c9c683a15",
   "metadata": {},
   "outputs": [],
   "source": [
    "val_out = imputer.transform(val_df)"
   ]
  },
  {
   "cell_type": "code",
   "execution_count": 55,
   "id": "a05e1649-0ec0-4a74-865d-6849d9dbaaab",
   "metadata": {},
   "outputs": [
    {
     "name": "stdout",
     "output_type": "stream",
     "text": [
      "['LoanNr_ChkDgt', 'target', 'NAICS', 'NAICS_sector', 'menc_NAICS', 'menc_NAICS_sector', 'NS___Accommodation and Food Services', 'NS___Construction', 'NS___Health Care and Social Assistance', 'NS___Manufacturing', 'NS___Other Services (except Public Administration)', 'NS___Professional, Scientific, and Technical Services', 'NS___Retail Trade', 'NS___Wholesale Trade', 'NS___infrequent_sklearn']\n"
     ]
    }
   ],
   "source": [
    "naics_features = ['LoanNr_ChkDgt', 'target', 'NAICS', 'NAICS_sector', 'menc_NAICS', 'menc_NAICS_sector'] +  \\\n",
    "    [c for c in train_df.columns if c.startswith('NS__')]\n",
    "print(naics_features)"
   ]
  },
  {
   "cell_type": "code",
   "execution_count": 56,
   "id": "7b8bd590-0cb2-4ad5-8e10-f0148dc4067c",
   "metadata": {},
   "outputs": [],
   "source": [
    "comb_naics = pd.concat([train_df[naics_features], test_df[naics_features], \n",
    "                        val_df[naics_features]], axis=0, keys=['train', 'test', 'val'])"
   ]
  },
  {
   "cell_type": "code",
   "execution_count": 57,
   "id": "40ae596c-3de8-4181-8130-f035ef2bfd0d",
   "metadata": {},
   "outputs": [
    {
     "name": "stdout",
     "output_type": "stream",
     "text": [
      "(688081, 26)\n"
     ]
    }
   ],
   "source": [
    "comb_df = pd.concat([comb_naics,\n",
    "                     pd.concat([train_out, test_out, val_out], \n",
    "                               axis=0, keys=['train', 'test', 'val'])],\n",
    "                    axis=1) \\\n",
    "    .reset_index(level=0) \\\n",
    "    .rename(columns={'level_0':'dset'}, errors='ignore')\n",
    "print(comb_df.shape)"
   ]
  },
  {
   "cell_type": "code",
   "execution_count": 25,
   "id": "decc240a-f0d0-4dba-a7a0-ad7af3716e1b",
   "metadata": {},
   "outputs": [
    {
     "name": "stdout",
     "output_type": "stream",
     "text": [
      "Index(['dset', 'LoanNr_ChkDgt', 'target', 'NAICS', 'NAICS_sector',\n",
      "       'menc_NAICS', 'menc_NAICS_sector',\n",
      "       'NS___Accommodation and Food Services', 'NS___Construction',\n",
      "       'NS___Health Care and Social Assistance', 'NS___Manufacturing',\n",
      "       'NS___Other Services (except Public Administration)',\n",
      "       'NS___Professional, Scientific, and Technical Services',\n",
      "       'NS___Retail Trade', 'NS___Wholesale Trade', 'NS___infrequent_sklearn',\n",
      "       'NoEmp', 'CreateJob', 'LowDoc', 'DisbursementGross', 'new_business',\n",
      "       'urban_flag', 'franchise_flag', 'missingindicator_LowDoc',\n",
      "       'missingindicator_new_business', 'missingindicator_urban_flag'],\n",
      "      dtype='object')\n"
     ]
    }
   ],
   "source": [
    "print(comb_df.columns)"
   ]
  },
  {
   "cell_type": "code",
   "execution_count": 58,
   "id": "3851121b-e6ff-4744-8c02-b1efb1bd11b4",
   "metadata": {},
   "outputs": [],
   "source": [
    "comb_df.to_parquet(Path(setup.temp_path).joinpath('TMP_11_DATA_combined_scaled_all.parquet'))"
   ]
  },
  {
   "cell_type": "code",
   "execution_count": null,
   "id": "6dba688e-c439-4959-8f82-d8a95a5c8822",
   "metadata": {},
   "outputs": [],
   "source": []
  }
 ],
 "metadata": {
  "kernelspec": {
   "display_name": "tf_p39",
   "language": "python",
   "name": "tf_p39"
  },
  "language_info": {
   "codemirror_mode": {
    "name": "ipython",
    "version": 3
   },
   "file_extension": ".py",
   "mimetype": "text/x-python",
   "name": "python",
   "nbconvert_exporter": "python",
   "pygments_lexer": "ipython3",
   "version": "3.8.18"
  }
 },
 "nbformat": 4,
 "nbformat_minor": 5
}
