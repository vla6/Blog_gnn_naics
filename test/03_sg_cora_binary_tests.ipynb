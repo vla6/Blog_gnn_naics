{
 "cells": [
  {
   "cell_type": "code",
   "execution_count": 1,
   "id": "55fff836-1740-476e-96e4-01baada7c906",
   "metadata": {
    "tags": []
   },
   "outputs": [],
   "source": [
    "# Modify the file 00_setup.py to define input/output file paths on your system\n",
    "# The information in 00_setup.py will be used across notebooks\n",
    "from importlib.machinery import SourceFileLoader\n",
    "setup = SourceFileLoader(\"setup\", \"../00_setup.py\").load_module()"
   ]
  },
  {
   "cell_type": "markdown",
   "id": "60871f9a-4a62-4de7-b873-2ca1ef082444",
   "metadata": {},
   "source": [
    "# Stellargraph - Binary Classification - Tests"
   ]
  },
  {
   "cell_type": "markdown",
   "id": "47557212-c0ca-45f8-ab33-487c5edfb90e",
   "metadata": {},
   "source": [
    "Testing a simple binary model in stellargraph.  Trying some different approaches.  This is much like the code in 02_sg_cora_binary_model.ipynb, but with model creation in a function so I can vary some parameters."
   ]
  },
  {
   "cell_type": "markdown",
   "id": "c7ef9209-b2dd-461f-82c9-cc230a33b3b3",
   "metadata": {},
   "source": [
    "Based on the code in \n",
    "https://stellargraph.readthedocs.io/en/stable/demos/node-classification/graphsage-node-classification.html "
   ]
  },
  {
   "cell_type": "markdown",
   "id": "5a53f2aa-d524-44b8-a2d5-26af9829f762",
   "metadata": {},
   "source": [
    "Also see 01_stellargraph_vignette.ipynb in this folder!"
   ]
  },
  {
   "cell_type": "markdown",
   "id": "0dd0c79d-b569-47c4-9070-975347a18dcc",
   "metadata": {},
   "source": [
    "If I were doing actual hyperparameter tuning I'd need an unseen data split to validate a \"final\" model but here I'm just playing to get a general idea of behavior"
   ]
  },
  {
   "cell_type": "markdown",
   "id": "46c10e65-a669-4fdf-9100-734cb6f8432b",
   "metadata": {},
   "source": [
    "*This script takes about 2 minutes on my MacBook Air*"
   ]
  },
  {
   "cell_type": "code",
   "execution_count": 2,
   "id": "a8399b85-034c-49ce-b590-403a99fa117e",
   "metadata": {},
   "outputs": [],
   "source": [
    "import numpy as np\n",
    "import pandas as pd\n",
    "import tensorflow as tf"
   ]
  },
  {
   "cell_type": "code",
   "execution_count": null,
   "id": "ffe6d49b-ce01-47ba-86b7-efa3e5acfa84",
   "metadata": {},
   "outputs": [],
   "source": [
    "import time\n",
    "import datetime"
   ]
  },
  {
   "cell_type": "code",
   "execution_count": 4,
   "id": "bd0f0fb2-ac30-4ed6-919d-65584607ad79",
   "metadata": {},
   "outputs": [
    {
     "name": "stderr",
     "output_type": "stream",
     "text": [
      "2023-11-20 22:19:34.850255: I metal_plugin/src/device/metal_device.cc:1154] Metal device set to: Apple M1\n",
      "2023-11-20 22:19:34.850281: I metal_plugin/src/device/metal_device.cc:296] systemMemory: 16.00 GB\n",
      "2023-11-20 22:19:34.850290: I metal_plugin/src/device/metal_device.cc:313] maxCacheSize: 5.33 GB\n",
      "2023-11-20 22:19:34.850324: I tensorflow/core/common_runtime/pluggable_device/pluggable_device_factory.cc:303] Could not identify NUMA node of platform GPU ID 0, defaulting to 0. Your kernel may not have been built with NUMA support.\n",
      "2023-11-20 22:19:34.850342: I tensorflow/core/common_runtime/pluggable_device/pluggable_device_factory.cc:269] Created TensorFlow device (/job:localhost/replica:0/task:0/device:GPU:0 with 0 MB memory) -> physical PluggableDevice (device: 0, name: METAL, pci bus id: <undefined>)\n"
     ]
    }
   ],
   "source": [
    "import networkx as nx\n",
    "import pandas as pd\n",
    "import os\n",
    "\n",
    "import stellargraph as sg\n",
    "from stellargraph.mapper import GraphSAGENodeGenerator\n",
    "from stellargraph.layer import GraphSAGE\n",
    "\n",
    "from tensorflow.keras import layers, optimizers, losses, metrics, Model\n",
    "from sklearn import preprocessing, feature_extraction, model_selection\n",
    "from stellargraph import datasets\n",
    "from IPython.display import display, HTML\n",
    "import matplotlib.pyplot as plt\n",
    "%matplotlib inline"
   ]
  },
  {
   "cell_type": "code",
   "execution_count": 5,
   "id": "181762a8-2112-4737-922a-6110ed4d9ef8",
   "metadata": {},
   "outputs": [],
   "source": [
    "from sklearn.decomposition import PCA\n",
    "from sklearn.manifold import TSNE"
   ]
  },
  {
   "cell_type": "code",
   "execution_count": 6,
   "id": "0e74ae62-1bc1-49e7-af20-5ead6845b52d",
   "metadata": {},
   "outputs": [],
   "source": [
    "import tensorflow.keras.metrics as km\n",
    "from keras import initializers"
   ]
  },
  {
   "cell_type": "markdown",
   "id": "556491ec-d0a3-434e-8732-b8bf72cbaa0a",
   "metadata": {},
   "source": [
    "## Functions for some plots commonly used"
   ]
  },
  {
   "cell_type": "code",
   "execution_count": 7,
   "id": "0881a7c8-80a4-405c-bb7f-ebd4aa9a2524",
   "metadata": {},
   "outputs": [],
   "source": [
    "def metric_plot(data, metric_name = 'auc',\n",
    "               x_name = 'learning_rate'):\n",
    "    fig, ax = plt.subplots(figsize = (6, 3))\n",
    "    data.reset_index(level=0) \\\n",
    "        [['level_0', x_name, metric_name]] \\\n",
    "        .pivot(index=x_name, columns='level_0') \\\n",
    "        .plot(legend=None, marker='o', ax=ax)\n",
    "    ax.set_ylabel(metric_name)\n",
    "    ax.set_title(f'{x_name} - {metric_name} effects')\n",
    "    return fig"
   ]
  },
  {
   "cell_type": "code",
   "execution_count": null,
   "id": "e2047e0d-4ff4-4773-8519-f4c54a4db453",
   "metadata": {},
   "outputs": [],
   "source": []
  },
  {
   "cell_type": "code",
   "execution_count": 8,
   "id": "b0dcd132-60c4-455b-b7d9-fd9ea71c2319",
   "metadata": {},
   "outputs": [],
   "source": [
    "def history_plot(data, metric_name = 'auc',\n",
    "               x_name = 'learning_rate'):\n",
    "    fig, ax = plt.subplots(figsize = (4, 3))\n",
    "    \n",
    "    if metric_name.startswith('val_'):\n",
    "        base_met = metric_name.split('val_')[1]\n",
    "        dset = 'test'\n",
    "    else:\n",
    "        base_met = metric_name\n",
    "        dset = 'train'\n",
    "\n",
    "    data[[metric_name, x_name]] \\\n",
    "        .pivot(columns=x_name) \\\n",
    "        .plot(figsize = (4, 3), label=None, ax=ax)\n",
    "    ax.set_xlabel('epochs')\n",
    "    ax.set_ylabel(base_met)\n",
    "\n",
    "    \n",
    "    ax.set_title(f'{base_met} - {dset} progress curves')\n",
    "    ax.legend(title=x_name)"
   ]
  },
  {
   "cell_type": "markdown",
   "id": "8805001c-9ebc-4645-940b-dd4d82103c83",
   "metadata": {},
   "source": [
    "## Import data, get binary labels \n",
    "Instead of multiclass topics, do \"neural network or not?\" model"
   ]
  },
  {
   "cell_type": "code",
   "execution_count": 9,
   "id": "ef519153-5768-4f7f-9e71-8b98c5b3d725",
   "metadata": {},
   "outputs": [
    {
     "data": {
      "text/html": [
       "The Cora dataset consists of 2708 scientific publications classified into one of seven classes. The citation network consists of 5429 links. Each publication in the dataset is described by a 0/1-valued word vector indicating the absence/presence of the corresponding word from the dictionary. The dictionary consists of 1433 unique words."
      ],
      "text/plain": [
       "<IPython.core.display.HTML object>"
      ]
     },
     "metadata": {},
     "output_type": "display_data"
    }
   ],
   "source": [
    "dataset = datasets.Cora()\n",
    "display(HTML(dataset.description))\n",
    "G, node_subjects = dataset.load()"
   ]
  },
  {
   "cell_type": "code",
   "execution_count": 10,
   "id": "b17588c9-acd9-45f1-b817-8cc9d519fa17",
   "metadata": {},
   "outputs": [
    {
     "name": "stdout",
     "output_type": "stream",
     "text": [
      "StellarGraph: Undirected multigraph\n",
      " Nodes: 2708, Edges: 5429\n",
      "\n",
      " Node types:\n",
      "  paper: [2708]\n",
      "    Features: float32 vector, length 1433\n",
      "    Edge types: paper-cites->paper\n",
      "\n",
      " Edge types:\n",
      "    paper-cites->paper: [5429]\n",
      "        Weights: all 1 (default)\n",
      "        Features: none\n"
     ]
    }
   ],
   "source": [
    "print(G.info())"
   ]
  },
  {
   "cell_type": "code",
   "execution_count": 11,
   "id": "dba534dc-813a-443f-a807-09ed273705cc",
   "metadata": {},
   "outputs": [],
   "source": [
    "# Get a target which indicates whether the subject is or is not neural networks"
   ]
  },
  {
   "cell_type": "code",
   "execution_count": 12,
   "id": "6fb6eddd-f402-4329-b855-c3792dc75dca",
   "metadata": {},
   "outputs": [
    {
     "data": {
      "text/plain": [
       "subject\n",
       "Neural_Networks           818\n",
       "Probabilistic_Methods     426\n",
       "Genetic_Algorithms        418\n",
       "Theory                    351\n",
       "Case_Based                298\n",
       "Reinforcement_Learning    217\n",
       "Rule_Learning             180\n",
       "Name: count, dtype: int64"
      ]
     },
     "execution_count": 12,
     "metadata": {},
     "output_type": "execute_result"
    }
   ],
   "source": [
    "node_subjects.value_counts()"
   ]
  },
  {
   "cell_type": "code",
   "execution_count": 13,
   "id": "253d5761-d190-428c-960b-42e7325cfe05",
   "metadata": {},
   "outputs": [],
   "source": [
    "node_is_nn = pd.Series(np.where(node_subjects == 'Neural_Networks', 1, 0).astype('int'),\n",
    "                      index=node_subjects.index)"
   ]
  },
  {
   "cell_type": "code",
   "execution_count": 14,
   "id": "5ddb62a4-6eaf-487c-8907-17fab96b656c",
   "metadata": {},
   "outputs": [
    {
     "data": {
      "text/plain": [
       "0    1890\n",
       "1     818\n",
       "Name: count, dtype: int64"
      ]
     },
     "execution_count": 14,
     "metadata": {},
     "output_type": "execute_result"
    }
   ],
   "source": [
    "node_is_nn.value_counts()"
   ]
  },
  {
   "cell_type": "code",
   "execution_count": 15,
   "id": "c0c95e6a-3ee8-4e4b-a2aa-4725d8469619",
   "metadata": {},
   "outputs": [
    {
     "data": {
      "text/plain": [
       "0    0.697932\n",
       "1    0.302068\n",
       "Name: proportion, dtype: float64"
      ]
     },
     "execution_count": 15,
     "metadata": {},
     "output_type": "execute_result"
    }
   ],
   "source": [
    "node_is_nn.value_counts(normalize=True)"
   ]
  },
  {
   "cell_type": "code",
   "execution_count": 16,
   "id": "a7c6f302-a61f-4caa-9fed-654f624328bf",
   "metadata": {},
   "outputs": [],
   "source": [
    "# Keep the small train fraction as you don't need more, and I want\n",
    "# quicker results since I am trying scenarios\n",
    "train_subjects, test_subjects = model_selection.train_test_split(\n",
    "    node_is_nn.index, train_size=0.1, test_size=None, stratify=node_is_nn\n",
    ")"
   ]
  },
  {
   "cell_type": "code",
   "execution_count": 17,
   "id": "c1a49ff2-25ee-4823-9c4b-734f7205e5ab",
   "metadata": {},
   "outputs": [],
   "source": [
    "train_targets = node_is_nn[train_subjects]\n",
    "test_targets = node_is_nn[test_subjects]"
   ]
  },
  {
   "cell_type": "code",
   "execution_count": 18,
   "id": "7c4ca128-be2d-4b8e-b7ad-9d57e0ae1576",
   "metadata": {},
   "outputs": [],
   "source": [
    "#Added to vignette\n",
    "np.random.seed(16)\n",
    "tf.random.set_seed(16)"
   ]
  },
  {
   "cell_type": "markdown",
   "id": "cc48a31b-f24f-411b-9867-b07d7cd65b8e",
   "metadata": {},
   "source": [
    "## Quick look at the features\n",
    "It looks like many are binary, with low means/"
   ]
  },
  {
   "cell_type": "code",
   "execution_count": 19,
   "id": "c9ba7341-6b07-48f6-8f27-a07b9dee7775",
   "metadata": {},
   "outputs": [
    {
     "data": {
      "text/html": [
       "<div>\n",
       "<style scoped>\n",
       "    .dataframe tbody tr th:only-of-type {\n",
       "        vertical-align: middle;\n",
       "    }\n",
       "\n",
       "    .dataframe tbody tr th {\n",
       "        vertical-align: top;\n",
       "    }\n",
       "\n",
       "    .dataframe thead th {\n",
       "        text-align: right;\n",
       "    }\n",
       "</style>\n",
       "<table border=\"1\" class=\"dataframe\">\n",
       "  <thead>\n",
       "    <tr style=\"text-align: right;\">\n",
       "      <th></th>\n",
       "      <th>0</th>\n",
       "      <th>1</th>\n",
       "      <th>2</th>\n",
       "      <th>3</th>\n",
       "      <th>4</th>\n",
       "      <th>5</th>\n",
       "      <th>6</th>\n",
       "      <th>7</th>\n",
       "      <th>8</th>\n",
       "      <th>9</th>\n",
       "      <th>...</th>\n",
       "      <th>1423</th>\n",
       "      <th>1424</th>\n",
       "      <th>1425</th>\n",
       "      <th>1426</th>\n",
       "      <th>1427</th>\n",
       "      <th>1428</th>\n",
       "      <th>1429</th>\n",
       "      <th>1430</th>\n",
       "      <th>1431</th>\n",
       "      <th>1432</th>\n",
       "    </tr>\n",
       "  </thead>\n",
       "  <tbody>\n",
       "    <tr>\n",
       "      <th>count</th>\n",
       "      <td>2708.000000</td>\n",
       "      <td>2708.000000</td>\n",
       "      <td>2708.000000</td>\n",
       "      <td>2708.000000</td>\n",
       "      <td>2708.000000</td>\n",
       "      <td>2708.000000</td>\n",
       "      <td>2708.000000</td>\n",
       "      <td>2708.000000</td>\n",
       "      <td>2708.000000</td>\n",
       "      <td>2708.000000</td>\n",
       "      <td>...</td>\n",
       "      <td>2708.000000</td>\n",
       "      <td>2708.000000</td>\n",
       "      <td>2708.000000</td>\n",
       "      <td>2708.000000</td>\n",
       "      <td>2708.000000</td>\n",
       "      <td>2708.000000</td>\n",
       "      <td>2708.000000</td>\n",
       "      <td>2708.000000</td>\n",
       "      <td>2708.000000</td>\n",
       "      <td>2708.000000</td>\n",
       "    </tr>\n",
       "    <tr>\n",
       "      <th>mean</th>\n",
       "      <td>0.005908</td>\n",
       "      <td>0.012186</td>\n",
       "      <td>0.025849</td>\n",
       "      <td>0.026588</td>\n",
       "      <td>0.060931</td>\n",
       "      <td>0.002585</td>\n",
       "      <td>0.010709</td>\n",
       "      <td>0.002954</td>\n",
       "      <td>0.011817</td>\n",
       "      <td>0.002216</td>\n",
       "      <td>...</td>\n",
       "      <td>0.040620</td>\n",
       "      <td>0.026219</td>\n",
       "      <td>0.017356</td>\n",
       "      <td>0.042097</td>\n",
       "      <td>0.010340</td>\n",
       "      <td>0.001108</td>\n",
       "      <td>0.012555</td>\n",
       "      <td>0.002216</td>\n",
       "      <td>0.024003</td>\n",
       "      <td>0.004431</td>\n",
       "    </tr>\n",
       "    <tr>\n",
       "      <th>std</th>\n",
       "      <td>0.076653</td>\n",
       "      <td>0.109736</td>\n",
       "      <td>0.158715</td>\n",
       "      <td>0.160905</td>\n",
       "      <td>0.239247</td>\n",
       "      <td>0.050786</td>\n",
       "      <td>0.102948</td>\n",
       "      <td>0.054282</td>\n",
       "      <td>0.108081</td>\n",
       "      <td>0.047027</td>\n",
       "      <td>...</td>\n",
       "      <td>0.197446</td>\n",
       "      <td>0.159814</td>\n",
       "      <td>0.130618</td>\n",
       "      <td>0.200849</td>\n",
       "      <td>0.101176</td>\n",
       "      <td>0.033272</td>\n",
       "      <td>0.111366</td>\n",
       "      <td>0.047027</td>\n",
       "      <td>0.153086</td>\n",
       "      <td>0.066433</td>\n",
       "    </tr>\n",
       "    <tr>\n",
       "      <th>min</th>\n",
       "      <td>0.000000</td>\n",
       "      <td>0.000000</td>\n",
       "      <td>0.000000</td>\n",
       "      <td>0.000000</td>\n",
       "      <td>0.000000</td>\n",
       "      <td>0.000000</td>\n",
       "      <td>0.000000</td>\n",
       "      <td>0.000000</td>\n",
       "      <td>0.000000</td>\n",
       "      <td>0.000000</td>\n",
       "      <td>...</td>\n",
       "      <td>0.000000</td>\n",
       "      <td>0.000000</td>\n",
       "      <td>0.000000</td>\n",
       "      <td>0.000000</td>\n",
       "      <td>0.000000</td>\n",
       "      <td>0.000000</td>\n",
       "      <td>0.000000</td>\n",
       "      <td>0.000000</td>\n",
       "      <td>0.000000</td>\n",
       "      <td>0.000000</td>\n",
       "    </tr>\n",
       "    <tr>\n",
       "      <th>25%</th>\n",
       "      <td>0.000000</td>\n",
       "      <td>0.000000</td>\n",
       "      <td>0.000000</td>\n",
       "      <td>0.000000</td>\n",
       "      <td>0.000000</td>\n",
       "      <td>0.000000</td>\n",
       "      <td>0.000000</td>\n",
       "      <td>0.000000</td>\n",
       "      <td>0.000000</td>\n",
       "      <td>0.000000</td>\n",
       "      <td>...</td>\n",
       "      <td>0.000000</td>\n",
       "      <td>0.000000</td>\n",
       "      <td>0.000000</td>\n",
       "      <td>0.000000</td>\n",
       "      <td>0.000000</td>\n",
       "      <td>0.000000</td>\n",
       "      <td>0.000000</td>\n",
       "      <td>0.000000</td>\n",
       "      <td>0.000000</td>\n",
       "      <td>0.000000</td>\n",
       "    </tr>\n",
       "    <tr>\n",
       "      <th>50%</th>\n",
       "      <td>0.000000</td>\n",
       "      <td>0.000000</td>\n",
       "      <td>0.000000</td>\n",
       "      <td>0.000000</td>\n",
       "      <td>0.000000</td>\n",
       "      <td>0.000000</td>\n",
       "      <td>0.000000</td>\n",
       "      <td>0.000000</td>\n",
       "      <td>0.000000</td>\n",
       "      <td>0.000000</td>\n",
       "      <td>...</td>\n",
       "      <td>0.000000</td>\n",
       "      <td>0.000000</td>\n",
       "      <td>0.000000</td>\n",
       "      <td>0.000000</td>\n",
       "      <td>0.000000</td>\n",
       "      <td>0.000000</td>\n",
       "      <td>0.000000</td>\n",
       "      <td>0.000000</td>\n",
       "      <td>0.000000</td>\n",
       "      <td>0.000000</td>\n",
       "    </tr>\n",
       "    <tr>\n",
       "      <th>75%</th>\n",
       "      <td>0.000000</td>\n",
       "      <td>0.000000</td>\n",
       "      <td>0.000000</td>\n",
       "      <td>0.000000</td>\n",
       "      <td>0.000000</td>\n",
       "      <td>0.000000</td>\n",
       "      <td>0.000000</td>\n",
       "      <td>0.000000</td>\n",
       "      <td>0.000000</td>\n",
       "      <td>0.000000</td>\n",
       "      <td>...</td>\n",
       "      <td>0.000000</td>\n",
       "      <td>0.000000</td>\n",
       "      <td>0.000000</td>\n",
       "      <td>0.000000</td>\n",
       "      <td>0.000000</td>\n",
       "      <td>0.000000</td>\n",
       "      <td>0.000000</td>\n",
       "      <td>0.000000</td>\n",
       "      <td>0.000000</td>\n",
       "      <td>0.000000</td>\n",
       "    </tr>\n",
       "    <tr>\n",
       "      <th>max</th>\n",
       "      <td>1.000000</td>\n",
       "      <td>1.000000</td>\n",
       "      <td>1.000000</td>\n",
       "      <td>1.000000</td>\n",
       "      <td>1.000000</td>\n",
       "      <td>1.000000</td>\n",
       "      <td>1.000000</td>\n",
       "      <td>1.000000</td>\n",
       "      <td>1.000000</td>\n",
       "      <td>1.000000</td>\n",
       "      <td>...</td>\n",
       "      <td>1.000000</td>\n",
       "      <td>1.000000</td>\n",
       "      <td>1.000000</td>\n",
       "      <td>1.000000</td>\n",
       "      <td>1.000000</td>\n",
       "      <td>1.000000</td>\n",
       "      <td>1.000000</td>\n",
       "      <td>1.000000</td>\n",
       "      <td>1.000000</td>\n",
       "      <td>1.000000</td>\n",
       "    </tr>\n",
       "  </tbody>\n",
       "</table>\n",
       "<p>8 rows × 1433 columns</p>\n",
       "</div>"
      ],
      "text/plain": [
       "              0            1            2            3            4     \\\n",
       "count  2708.000000  2708.000000  2708.000000  2708.000000  2708.000000   \n",
       "mean      0.005908     0.012186     0.025849     0.026588     0.060931   \n",
       "std       0.076653     0.109736     0.158715     0.160905     0.239247   \n",
       "min       0.000000     0.000000     0.000000     0.000000     0.000000   \n",
       "25%       0.000000     0.000000     0.000000     0.000000     0.000000   \n",
       "50%       0.000000     0.000000     0.000000     0.000000     0.000000   \n",
       "75%       0.000000     0.000000     0.000000     0.000000     0.000000   \n",
       "max       1.000000     1.000000     1.000000     1.000000     1.000000   \n",
       "\n",
       "              5            6            7            8            9     ...  \\\n",
       "count  2708.000000  2708.000000  2708.000000  2708.000000  2708.000000  ...   \n",
       "mean      0.002585     0.010709     0.002954     0.011817     0.002216  ...   \n",
       "std       0.050786     0.102948     0.054282     0.108081     0.047027  ...   \n",
       "min       0.000000     0.000000     0.000000     0.000000     0.000000  ...   \n",
       "25%       0.000000     0.000000     0.000000     0.000000     0.000000  ...   \n",
       "50%       0.000000     0.000000     0.000000     0.000000     0.000000  ...   \n",
       "75%       0.000000     0.000000     0.000000     0.000000     0.000000  ...   \n",
       "max       1.000000     1.000000     1.000000     1.000000     1.000000  ...   \n",
       "\n",
       "              1423         1424         1425         1426         1427  \\\n",
       "count  2708.000000  2708.000000  2708.000000  2708.000000  2708.000000   \n",
       "mean      0.040620     0.026219     0.017356     0.042097     0.010340   \n",
       "std       0.197446     0.159814     0.130618     0.200849     0.101176   \n",
       "min       0.000000     0.000000     0.000000     0.000000     0.000000   \n",
       "25%       0.000000     0.000000     0.000000     0.000000     0.000000   \n",
       "50%       0.000000     0.000000     0.000000     0.000000     0.000000   \n",
       "75%       0.000000     0.000000     0.000000     0.000000     0.000000   \n",
       "max       1.000000     1.000000     1.000000     1.000000     1.000000   \n",
       "\n",
       "              1428         1429         1430         1431         1432  \n",
       "count  2708.000000  2708.000000  2708.000000  2708.000000  2708.000000  \n",
       "mean      0.001108     0.012555     0.002216     0.024003     0.004431  \n",
       "std       0.033272     0.111366     0.047027     0.153086     0.066433  \n",
       "min       0.000000     0.000000     0.000000     0.000000     0.000000  \n",
       "25%       0.000000     0.000000     0.000000     0.000000     0.000000  \n",
       "50%       0.000000     0.000000     0.000000     0.000000     0.000000  \n",
       "75%       0.000000     0.000000     0.000000     0.000000     0.000000  \n",
       "max       1.000000     1.000000     1.000000     1.000000     1.000000  \n",
       "\n",
       "[8 rows x 1433 columns]"
      ]
     },
     "execution_count": 19,
     "metadata": {},
     "output_type": "execute_result"
    }
   ],
   "source": [
    "pd.DataFrame(G.node_features()).describe()"
   ]
  },
  {
   "cell_type": "code",
   "execution_count": 20,
   "id": "1242dfde-a863-451f-8362-91aeb5f06ef0",
   "metadata": {},
   "outputs": [
    {
     "data": {
      "text/plain": [
       "0\n",
       "0.0    1413\n",
       "1.0      20\n",
       "Name: count, dtype: int64"
      ]
     },
     "execution_count": 20,
     "metadata": {},
     "output_type": "execute_result"
    }
   ],
   "source": [
    "pd.DataFrame(G.node_features()).iloc[0, :].value_counts(dropna=False)"
   ]
  },
  {
   "cell_type": "code",
   "execution_count": 21,
   "id": "47d30b1d-1330-4413-9020-0b1fbedfb957",
   "metadata": {},
   "outputs": [
    {
     "data": {
      "text/plain": [
       "100\n",
       "0.0    1408\n",
       "1.0      25\n",
       "Name: count, dtype: int64"
      ]
     },
     "execution_count": 21,
     "metadata": {},
     "output_type": "execute_result"
    }
   ],
   "source": [
    "pd.DataFrame(G.node_features()).iloc[100, :].value_counts(dropna=False)"
   ]
  },
  {
   "cell_type": "markdown",
   "id": "044694f7-16a1-454b-b5df-71c9b21a3300",
   "metadata": {},
   "source": [
    "## Function to build and evaluate a model"
   ]
  },
  {
   "cell_type": "markdown",
   "id": "44bb9c7c-ab75-4cea-86c9-61626bad26e3",
   "metadata": {},
   "source": [
    "See also https://stackoverflow.com/questions/57120261/how-to-get-rid-of-the-n-for-keras-metric-names"
   ]
  },
  {
   "cell_type": "code",
   "execution_count": 22,
   "id": "7e453214-ae12-4f3a-90c0-f8f3ff80918b",
   "metadata": {},
   "outputs": [],
   "source": [
    "def do_model(G = G,\n",
    "             train_targets = train_targets,\n",
    "             test_targets = test_targets,\n",
    "             batch_size = 50,\n",
    "             num_samples = [10, 5],\n",
    "             layer_sizes=[32, 32],\n",
    "             dropout = 0.5,\n",
    "             aggregator = None,\n",
    "             epochs = 20,\n",
    "            learning_rate = 0.005):\n",
    "    \n",
    "    tf.keras.backend.clear_session()\n",
    "    \n",
    "    generator = GraphSAGENodeGenerator(G, batch_size, num_samples, seed=121)\n",
    "    train_gen = generator.flow(train_targets.index, train_targets, shuffle=True)\n",
    "    graphsage_model = GraphSAGE(layer_sizes = layer_sizes,\n",
    "                                generator=generator, \n",
    "                                bias=True, \n",
    "                                dropout=dropout,\n",
    "                               aggregator = aggregator,\n",
    "                               kernel_initializer=initializers.glorot_uniform(seed=133))\n",
    "    x_inp, x_out = graphsage_model.in_out_tensors()\n",
    "    prediction = layers.Dense(units=1, activation=\"sigmoid\",\n",
    "                         kernel_initializer=initializers.glorot_uniform(seed=85))(x_out)\n",
    "    \n",
    "    model = Model(inputs=x_inp, outputs=prediction)\n",
    "    model.compile(\n",
    "        optimizer=tf.keras.optimizers.legacy.Adam(learning_rate=learning_rate),\n",
    "        loss = losses.binary_crossentropy, \n",
    "        metrics=[\"acc\", km.AUC(name='auc'), km.Precision(name='precision'), \n",
    "                 km.Recall(name='recall')])\n",
    "        \n",
    "    test_gen = generator.flow(test_targets.index, test_targets)\n",
    "    \n",
    "    history = model.fit(train_gen, epochs=epochs, validation_data=test_gen, \n",
    "                        verbose=0, shuffle=False)\n",
    "    \n",
    "    # Save history in a data frame\n",
    "    history_df = pd.DataFrame(history.history)\n",
    "        \n",
    "    # Evaluate metrics\n",
    "    test_metrics = model.evaluate(test_gen)\n",
    "    train_metrics = model.evaluate(train_gen)\n",
    "    \n",
    "    metrics_df = pd.concat([pd.DataFrame(dict(zip(model.metrics_names, \n",
    "                                                  [[t] for t in train_metrics]))),\n",
    "                         pd.DataFrame(dict(zip(model.metrics_names, \n",
    "                                               [[t] for t in test_metrics])))],\n",
    "                        keys=['train', 'test'])\n",
    "    \n",
    "    return metrics_df, history_df"
   ]
  },
  {
   "cell_type": "code",
   "execution_count": 23,
   "id": "36cd8970-e366-4acf-a033-f547165771a1",
   "metadata": {},
   "outputs": [
    {
     "name": "stderr",
     "output_type": "stream",
     "text": [
      "2023-11-20 22:19:37.415126: I tensorflow/core/grappler/optimizers/custom_graph_optimizer_registry.cc:114] Plugin optimizer for device_type GPU is enabled.\n",
      "2023-11-20 22:19:38.780953: I tensorflow/core/grappler/optimizers/custom_graph_optimizer_registry.cc:114] Plugin optimizer for device_type GPU is enabled.\n"
     ]
    },
    {
     "name": "stdout",
     "output_type": "stream",
     "text": [
      "49/49 [==============================] - 1s 15ms/step - loss: 0.3120 - acc: 0.9007 - auc: 0.9398 - precision: 0.8421 - recall: 0.8261\n",
      "6/6 [==============================] - 0s 43ms/step - loss: 0.0272 - acc: 1.0000 - auc: 1.0000 - precision: 1.0000 - recall: 1.0000\n"
     ]
    }
   ],
   "source": [
    "# Look at defaults\n",
    "metrics_def, history_def = do_model()"
   ]
  },
  {
   "cell_type": "code",
   "execution_count": 24,
   "id": "d7b15aae-3e96-454b-925c-f03a181cafba",
   "metadata": {},
   "outputs": [
    {
     "data": {
      "text/html": [
       "<div>\n",
       "<style scoped>\n",
       "    .dataframe tbody tr th:only-of-type {\n",
       "        vertical-align: middle;\n",
       "    }\n",
       "\n",
       "    .dataframe tbody tr th {\n",
       "        vertical-align: top;\n",
       "    }\n",
       "\n",
       "    .dataframe thead th {\n",
       "        text-align: right;\n",
       "    }\n",
       "</style>\n",
       "<table border=\"1\" class=\"dataframe\">\n",
       "  <thead>\n",
       "    <tr style=\"text-align: right;\">\n",
       "      <th></th>\n",
       "      <th></th>\n",
       "      <th>loss</th>\n",
       "      <th>acc</th>\n",
       "      <th>auc</th>\n",
       "      <th>precision</th>\n",
       "      <th>recall</th>\n",
       "    </tr>\n",
       "  </thead>\n",
       "  <tbody>\n",
       "    <tr>\n",
       "      <th>train</th>\n",
       "      <th>0</th>\n",
       "      <td>0.027194</td>\n",
       "      <td>1.000000</td>\n",
       "      <td>1.000000</td>\n",
       "      <td>1.000000</td>\n",
       "      <td>1.000000</td>\n",
       "    </tr>\n",
       "    <tr>\n",
       "      <th>test</th>\n",
       "      <th>0</th>\n",
       "      <td>0.311989</td>\n",
       "      <td>0.900738</td>\n",
       "      <td>0.939776</td>\n",
       "      <td>0.842105</td>\n",
       "      <td>0.826087</td>\n",
       "    </tr>\n",
       "  </tbody>\n",
       "</table>\n",
       "</div>"
      ],
      "text/plain": [
       "             loss       acc       auc  precision    recall\n",
       "train 0  0.027194  1.000000  1.000000   1.000000  1.000000\n",
       "test  0  0.311989  0.900738  0.939776   0.842105  0.826087"
      ]
     },
     "execution_count": 24,
     "metadata": {},
     "output_type": "execute_result"
    }
   ],
   "source": [
    "metrics_def"
   ]
  },
  {
   "cell_type": "code",
   "execution_count": 25,
   "id": "5cdf835b-e129-47ae-8943-4c7a6a815072",
   "metadata": {},
   "outputs": [
    {
     "data": {
      "text/html": [
       "<div>\n",
       "<style scoped>\n",
       "    .dataframe tbody tr th:only-of-type {\n",
       "        vertical-align: middle;\n",
       "    }\n",
       "\n",
       "    .dataframe tbody tr th {\n",
       "        vertical-align: top;\n",
       "    }\n",
       "\n",
       "    .dataframe thead th {\n",
       "        text-align: right;\n",
       "    }\n",
       "</style>\n",
       "<table border=\"1\" class=\"dataframe\">\n",
       "  <thead>\n",
       "    <tr style=\"text-align: right;\">\n",
       "      <th></th>\n",
       "      <th>loss</th>\n",
       "      <th>acc</th>\n",
       "      <th>auc</th>\n",
       "      <th>precision</th>\n",
       "      <th>recall</th>\n",
       "      <th>val_loss</th>\n",
       "      <th>val_acc</th>\n",
       "      <th>val_auc</th>\n",
       "      <th>val_precision</th>\n",
       "      <th>val_recall</th>\n",
       "    </tr>\n",
       "  </thead>\n",
       "  <tbody>\n",
       "    <tr>\n",
       "      <th>17</th>\n",
       "      <td>0.040795</td>\n",
       "      <td>1.0</td>\n",
       "      <td>1.0</td>\n",
       "      <td>1.0</td>\n",
       "      <td>1.0</td>\n",
       "      <td>0.303408</td>\n",
       "      <td>0.899098</td>\n",
       "      <td>0.941337</td>\n",
       "      <td>0.847026</td>\n",
       "      <td>0.812500</td>\n",
       "    </tr>\n",
       "    <tr>\n",
       "      <th>18</th>\n",
       "      <td>0.035622</td>\n",
       "      <td>1.0</td>\n",
       "      <td>1.0</td>\n",
       "      <td>1.0</td>\n",
       "      <td>1.0</td>\n",
       "      <td>0.310108</td>\n",
       "      <td>0.901559</td>\n",
       "      <td>0.944043</td>\n",
       "      <td>0.851275</td>\n",
       "      <td>0.816576</td>\n",
       "    </tr>\n",
       "    <tr>\n",
       "      <th>19</th>\n",
       "      <td>0.035530</td>\n",
       "      <td>1.0</td>\n",
       "      <td>1.0</td>\n",
       "      <td>1.0</td>\n",
       "      <td>1.0</td>\n",
       "      <td>0.313333</td>\n",
       "      <td>0.898687</td>\n",
       "      <td>0.938133</td>\n",
       "      <td>0.844852</td>\n",
       "      <td>0.813859</td>\n",
       "    </tr>\n",
       "  </tbody>\n",
       "</table>\n",
       "</div>"
      ],
      "text/plain": [
       "        loss  acc  auc  precision  recall  val_loss   val_acc   val_auc  \\\n",
       "17  0.040795  1.0  1.0        1.0     1.0  0.303408  0.899098  0.941337   \n",
       "18  0.035622  1.0  1.0        1.0     1.0  0.310108  0.901559  0.944043   \n",
       "19  0.035530  1.0  1.0        1.0     1.0  0.313333  0.898687  0.938133   \n",
       "\n",
       "    val_precision  val_recall  \n",
       "17       0.847026    0.812500  \n",
       "18       0.851275    0.816576  \n",
       "19       0.844852    0.813859  "
      ]
     },
     "execution_count": 25,
     "metadata": {},
     "output_type": "execute_result"
    }
   ],
   "source": [
    "history_def.tail(3)"
   ]
  },
  {
   "cell_type": "markdown",
   "id": "b3c200e2-31da-4772-bbff-932e28e22956",
   "metadata": {},
   "source": [
    "## Modify learning rates\n",
    "The model fits in just a couple epochs and overfits, so look at slower rates"
   ]
  },
  {
   "cell_type": "code",
   "execution_count": 26,
   "id": "cf0c139c-a772-46f0-be23-143fcaa6dd10",
   "metadata": {},
   "outputs": [],
   "source": [
    "test_rates = [0.0005, 0.001, 0.002]"
   ]
  },
  {
   "cell_type": "code",
   "execution_count": 27,
   "id": "b76e32e4-e592-4a57-955f-7d0ef4d5da07",
   "metadata": {},
   "outputs": [],
   "source": [
    "def do_rates(learning_rate = 0.005):\n",
    "    this_metrics, this_history = do_model(learning_rate = learning_rate)\n",
    "    \n",
    "    this_metrics['learning_rate'] = learning_rate\n",
    "    this_history['learning_rate'] = learning_rate\n",
    "    return this_metrics, this_history"
   ]
  },
  {
   "cell_type": "code",
   "execution_count": 28,
   "id": "6b52e8c0-20ca-4561-a843-f76180d3bd9a",
   "metadata": {},
   "outputs": [
    {
     "name": "stderr",
     "output_type": "stream",
     "text": [
      "2023-11-20 22:19:58.846755: I tensorflow/core/grappler/optimizers/custom_graph_optimizer_registry.cc:114] Plugin optimizer for device_type GPU is enabled.\n",
      "2023-11-20 22:20:00.097741: I tensorflow/core/grappler/optimizers/custom_graph_optimizer_registry.cc:114] Plugin optimizer for device_type GPU is enabled.\n"
     ]
    },
    {
     "name": "stdout",
     "output_type": "stream",
     "text": [
      "49/49 [==============================] - 1s 23ms/step - loss: 0.3436 - acc: 0.9011 - auc: 0.9506 - precision: 0.8645 - recall: 0.7976\n",
      "6/6 [==============================] - 0s 49ms/step - loss: 0.2319 - acc: 0.9778 - auc: 0.9990 - precision: 0.9750 - recall: 0.9512\n"
     ]
    },
    {
     "name": "stderr",
     "output_type": "stream",
     "text": [
      "2023-11-20 22:20:22.173193: I tensorflow/core/grappler/optimizers/custom_graph_optimizer_registry.cc:114] Plugin optimizer for device_type GPU is enabled.\n",
      "2023-11-20 22:20:23.493744: I tensorflow/core/grappler/optimizers/custom_graph_optimizer_registry.cc:114] Plugin optimizer for device_type GPU is enabled.\n"
     ]
    },
    {
     "name": "stdout",
     "output_type": "stream",
     "text": [
      "49/49 [==============================] - 1s 19ms/step - loss: 0.2893 - acc: 0.9094 - auc: 0.9526 - precision: 0.8581 - recall: 0.8383\n",
      "6/6 [==============================] - 0s 56ms/step - loss: 0.1409 - acc: 1.0000 - auc: 1.0000 - precision: 1.0000 - recall: 1.0000\n"
     ]
    },
    {
     "name": "stderr",
     "output_type": "stream",
     "text": [
      "2023-11-20 22:20:44.297436: I tensorflow/core/grappler/optimizers/custom_graph_optimizer_registry.cc:114] Plugin optimizer for device_type GPU is enabled.\n",
      "2023-11-20 22:20:45.799140: I tensorflow/core/grappler/optimizers/custom_graph_optimizer_registry.cc:114] Plugin optimizer for device_type GPU is enabled.\n"
     ]
    },
    {
     "name": "stdout",
     "output_type": "stream",
     "text": [
      "49/49 [==============================] - 1s 15ms/step - loss: 0.2708 - acc: 0.9028 - auc: 0.9495 - precision: 0.8590 - recall: 0.8111\n",
      "6/6 [==============================] - 0s 56ms/step - loss: 0.0801 - acc: 1.0000 - auc: 1.0000 - precision: 1.0000 - recall: 1.0000\n"
     ]
    }
   ],
   "source": [
    "lr_metrics = pd.DataFrame()\n",
    "lr_history = pd.DataFrame()\n",
    "for learning_rate in test_rates:\n",
    "    this_metrics, this_history = do_rates(learning_rate)\n",
    "    lr_metrics = pd.concat([lr_metrics, this_metrics])\n",
    "    lr_history = pd.concat([lr_history, this_history])"
   ]
  },
  {
   "cell_type": "code",
   "execution_count": 29,
   "id": "e74ccdf5-5b80-4bdd-a451-d317019c707d",
   "metadata": {},
   "outputs": [],
   "source": [
    "# Append the default rate to the frames \n",
    "lr_metrics = lr_metrics[lr_metrics['learning_rate'].isin(test_rates)]\n",
    "metrics_def['learning_rate'] = 0.005\n",
    "lr_metrics = pd.concat([lr_metrics, metrics_def])"
   ]
  },
  {
   "cell_type": "code",
   "execution_count": 30,
   "id": "7793e9ff-f09a-45f3-8114-71d03e0d942e",
   "metadata": {},
   "outputs": [
    {
     "data": {
      "text/html": [
       "<div>\n",
       "<style scoped>\n",
       "    .dataframe tbody tr th:only-of-type {\n",
       "        vertical-align: middle;\n",
       "    }\n",
       "\n",
       "    .dataframe tbody tr th {\n",
       "        vertical-align: top;\n",
       "    }\n",
       "\n",
       "    .dataframe thead th {\n",
       "        text-align: right;\n",
       "    }\n",
       "</style>\n",
       "<table border=\"1\" class=\"dataframe\">\n",
       "  <thead>\n",
       "    <tr style=\"text-align: right;\">\n",
       "      <th></th>\n",
       "      <th></th>\n",
       "      <th>loss</th>\n",
       "      <th>acc</th>\n",
       "      <th>auc</th>\n",
       "      <th>precision</th>\n",
       "      <th>recall</th>\n",
       "      <th>learning_rate</th>\n",
       "    </tr>\n",
       "  </thead>\n",
       "  <tbody>\n",
       "    <tr>\n",
       "      <th>train</th>\n",
       "      <th>0</th>\n",
       "      <td>0.231873</td>\n",
       "      <td>0.977778</td>\n",
       "      <td>0.999027</td>\n",
       "      <td>0.975000</td>\n",
       "      <td>0.951219</td>\n",
       "      <td>0.0005</td>\n",
       "    </tr>\n",
       "    <tr>\n",
       "      <th>test</th>\n",
       "      <th>0</th>\n",
       "      <td>0.343582</td>\n",
       "      <td>0.901148</td>\n",
       "      <td>0.950574</td>\n",
       "      <td>0.864507</td>\n",
       "      <td>0.797554</td>\n",
       "      <td>0.0005</td>\n",
       "    </tr>\n",
       "    <tr>\n",
       "      <th>train</th>\n",
       "      <th>0</th>\n",
       "      <td>0.140940</td>\n",
       "      <td>1.000000</td>\n",
       "      <td>1.000000</td>\n",
       "      <td>1.000000</td>\n",
       "      <td>1.000000</td>\n",
       "      <td>0.0010</td>\n",
       "    </tr>\n",
       "    <tr>\n",
       "      <th>test</th>\n",
       "      <th>0</th>\n",
       "      <td>0.289289</td>\n",
       "      <td>0.909352</td>\n",
       "      <td>0.952576</td>\n",
       "      <td>0.858136</td>\n",
       "      <td>0.838315</td>\n",
       "      <td>0.0010</td>\n",
       "    </tr>\n",
       "    <tr>\n",
       "      <th>train</th>\n",
       "      <th>0</th>\n",
       "      <td>0.080109</td>\n",
       "      <td>1.000000</td>\n",
       "      <td>1.000000</td>\n",
       "      <td>1.000000</td>\n",
       "      <td>1.000000</td>\n",
       "      <td>0.0020</td>\n",
       "    </tr>\n",
       "    <tr>\n",
       "      <th>test</th>\n",
       "      <th>0</th>\n",
       "      <td>0.270817</td>\n",
       "      <td>0.902789</td>\n",
       "      <td>0.949506</td>\n",
       "      <td>0.858993</td>\n",
       "      <td>0.811141</td>\n",
       "      <td>0.0020</td>\n",
       "    </tr>\n",
       "  </tbody>\n",
       "</table>\n",
       "</div>"
      ],
      "text/plain": [
       "             loss       acc       auc  precision    recall  learning_rate\n",
       "train 0  0.231873  0.977778  0.999027   0.975000  0.951219         0.0005\n",
       "test  0  0.343582  0.901148  0.950574   0.864507  0.797554         0.0005\n",
       "train 0  0.140940  1.000000  1.000000   1.000000  1.000000         0.0010\n",
       "test  0  0.289289  0.909352  0.952576   0.858136  0.838315         0.0010\n",
       "train 0  0.080109  1.000000  1.000000   1.000000  1.000000         0.0020\n",
       "test  0  0.270817  0.902789  0.949506   0.858993  0.811141         0.0020"
      ]
     },
     "execution_count": 30,
     "metadata": {},
     "output_type": "execute_result"
    }
   ],
   "source": [
    " lr_metrics[lr_metrics['learning_rate'].isin(test_rates)]"
   ]
  },
  {
   "cell_type": "code",
   "execution_count": 31,
   "id": "2f4d4301-ca41-4c7b-930f-582243f8c358",
   "metadata": {},
   "outputs": [
    {
     "data": {
      "image/png": "[encoded data removed]",
      "text/plain": [
       "<Figure size 600x300 with 1 Axes>"
      ]
     },
     "metadata": {},
     "output_type": "display_data"
    }
   ],
   "source": [
    "f = metric_plot(lr_metrics)"
   ]
  },
  {
   "cell_type": "code",
   "execution_count": 32,
   "id": "a12baace-8f82-4e1c-bf7d-8bb3146a0926",
   "metadata": {},
   "outputs": [
    {
     "data": {
      "image/png": "[encoded data removed]",
      "text/plain": [
       "<Figure size 600x300 with 1 Axes>"
      ]
     },
     "metadata": {},
     "output_type": "display_data"
    }
   ],
   "source": [
    "f = metric_plot(lr_metrics, 'recall')"
   ]
  },
  {
   "cell_type": "code",
   "execution_count": 33,
   "id": "f892399d-e483-4fc7-b2f9-8c7450f6314f",
   "metadata": {},
   "outputs": [
    {
     "data": {
      "image/png": "[encoded data removed]",
      "text/plain": [
       "<Figure size 600x300 with 1 Axes>"
      ]
     },
     "metadata": {},
     "output_type": "display_data"
    }
   ],
   "source": [
    "f = metric_plot(lr_metrics, 'precision')"
   ]
  },
  {
   "cell_type": "markdown",
   "id": "250a03bb-1c67-45a5-980a-11eef3cebe34",
   "metadata": {},
   "source": [
    "It looks like overfitting is worse at higher learning rates.  Let's look at the history briefly"
   ]
  },
  {
   "cell_type": "code",
   "execution_count": 34,
   "id": "cad551d5-e1b3-4be2-bd27-b2ccb1501bea",
   "metadata": {},
   "outputs": [],
   "source": [
    "lr_history_copy = lr_history.copy()"
   ]
  },
  {
   "cell_type": "code",
   "execution_count": 35,
   "id": "4943f6ae-4ec5-4bfe-8d71-e6a6877aafaf",
   "metadata": {},
   "outputs": [],
   "source": [
    "# Append the default history to the learning rate run\n",
    "history_def['learning_rate'] = 0.005\n",
    "lr_history = lr_history[lr_history['learning_rate'].isin(test_rates)]\n",
    "lr_history = pd.concat([lr_history, history_def])"
   ]
  },
  {
   "cell_type": "code",
   "execution_count": 36,
   "id": "d26408d1-3587-4d6e-8491-152f57423b37",
   "metadata": {},
   "outputs": [
    {
     "data": {
      "image/png": "[encoded data removed]",
      "text/plain": [
       "<Figure size 400x300 with 1 Axes>"
      ]
     },
     "metadata": {},
     "output_type": "display_data"
    }
   ],
   "source": [
    "# Plot the test AUC fit progress\n",
    "history_plot(lr_history)"
   ]
  },
  {
   "cell_type": "code",
   "execution_count": 37,
   "id": "f30ed508-9950-45a9-9a97-f2daf60f4998",
   "metadata": {},
   "outputs": [
    {
     "data": {
      "image/png": "[encoded data removed]",
      "text/plain": [
       "<Figure size 400x300 with 1 Axes>"
      ]
     },
     "metadata": {},
     "output_type": "display_data"
    }
   ],
   "source": [
    "history_plot(lr_history, 'val_auc')"
   ]
  },
  {
   "cell_type": "markdown",
   "id": "9fb5e0d4-a93d-4a6e-b096-d9131af3e3cc",
   "metadata": {},
   "source": [
    "Definitely overfitting at higher learning rates!  Either fewer epochs or lower rates are better  The 0.005 learning rate seems especially problematic"
   ]
  },
  {
   "cell_type": "markdown",
   "id": "804862b8-e09c-4c8e-972c-6a7bdecef04c",
   "metadata": {},
   "source": [
    "## Changing layers?"
   ]
  },
  {
   "cell_type": "markdown",
   "id": "7f1e4286-b31c-417a-adbd-d8a11206f911",
   "metadata": {},
   "source": [
    "I will use a smaller learning rate given the results above, and change the number of layers used in the GNN"
   ]
  },
  {
   "cell_type": "code",
   "execution_count": 38,
   "id": "cbdaa032-9be5-472c-893a-c0d3257e6597",
   "metadata": {},
   "outputs": [],
   "source": [
    "def do_layers(layer_num = 2,\n",
    "             learning_rate = 0.001):\n",
    "    \n",
    "    # Use more samples for the first layer, as in the vignette\n",
    "    # Make the subsequent samples the same\n",
    "    this_num_samples = [10] + [5]*(layer_num-1)\n",
    "    this_layer_sizes = [32]*(layer_num)\n",
    "    \n",
    "    start_time = time.time() \n",
    "    this_metrics, this_history = do_model(num_samples = this_num_samples,\n",
    "                              layer_sizes  = this_layer_sizes,\n",
    "                              learning_rate = learning_rate)\n",
    "    tot_time = time.time() - start_time\n",
    "    \n",
    "    this_metrics['layer_num'] = layer_num\n",
    "    this_metrics['time'] = tot_time\n",
    "    this_history['layer_num'] = layer_num\n",
    "    return this_metrics, this_history"
   ]
  },
  {
   "cell_type": "code",
   "execution_count": 61,
   "id": "8679fb2b-9cba-4456-8efb-4147bd3031f6",
   "metadata": {},
   "outputs": [],
   "source": [
    "num_layers = [1, 2, 3, 4]"
   ]
  },
  {
   "cell_type": "code",
   "execution_count": null,
   "id": "4428857f-e1bb-45ac-9de6-d88c0a18aa89",
   "metadata": {},
   "outputs": [
    {
     "name": "stderr",
     "output_type": "stream",
     "text": [
      "2023-11-21 21:03:02.442669: I tensorflow/core/grappler/optimizers/custom_graph_optimizer_registry.cc:114] Plugin optimizer for device_type GPU is enabled.\n",
      "2023-11-21 21:03:05.481210: I tensorflow/core/grappler/optimizers/custom_graph_optimizer_registry.cc:114] Plugin optimizer for device_type GPU is enabled.\n"
     ]
    },
    {
     "name": "stdout",
     "output_type": "stream",
     "text": [
      "49/49 [==============================] - 1s 13ms/step - loss: 0.3513 - acc: 0.8708 - auc: 0.9429 - precision: 0.8994 - recall: 0.6440\n",
      "6/6 [==============================] - 0s 85ms/step - loss: 0.1452 - acc: 1.0000 - auc: 1.0000 - precision: 1.0000 - recall: 1.0000\n"
     ]
    },
    {
     "name": "stderr",
     "output_type": "stream",
     "text": [
      "2023-11-21 21:03:25.400633: I tensorflow/core/grappler/optimizers/custom_graph_optimizer_registry.cc:114] Plugin optimizer for device_type GPU is enabled.\n",
      "2023-11-21 21:03:28.747316: I tensorflow/core/grappler/optimizers/custom_graph_optimizer_registry.cc:114] Plugin optimizer for device_type GPU is enabled.\n"
     ]
    },
    {
     "name": "stdout",
     "output_type": "stream",
     "text": [
      "49/49 [==============================] - 1s 15ms/step - loss: 0.2908 - acc: 0.9085 - auc: 0.9531 - precision: 0.8767 - recall: 0.8111\n",
      "6/6 [==============================] - 1s 105ms/step - loss: 0.1464 - acc: 0.9963 - auc: 0.9998 - precision: 1.0000 - recall: 0.9878\n"
     ]
    },
    {
     "name": "stderr",
     "output_type": "stream",
     "text": [
      "2023-11-21 21:03:56.385769: I tensorflow/core/grappler/optimizers/custom_graph_optimizer_registry.cc:114] Plugin optimizer for device_type GPU is enabled.\n",
      "2023-11-21 21:04:01.618405: I tensorflow/core/grappler/optimizers/custom_graph_optimizer_registry.cc:114] Plugin optimizer for device_type GPU is enabled.\n"
     ]
    },
    {
     "name": "stdout",
     "output_type": "stream",
     "text": [
      "49/49 [==============================] - 3s 65ms/step - loss: 0.2912 - acc: 0.9110 - auc: 0.9407 - precision: 0.9023 - recall: 0.7908\n",
      "6/6 [==============================] - 1s 162ms/step - loss: 0.1621 - acc: 0.9852 - auc: 0.9985 - precision: 0.9875 - recall: 0.9634\n"
     ]
    },
    {
     "name": "stderr",
     "output_type": "stream",
     "text": [
      "2023-11-21 21:05:30.072541: I tensorflow/core/grappler/optimizers/custom_graph_optimizer_registry.cc:114] Plugin optimizer for device_type GPU is enabled.\n",
      "2023-11-21 21:05:41.143791: I tensorflow/core/grappler/optimizers/custom_graph_optimizer_registry.cc:114] Plugin optimizer for device_type GPU is enabled.\n"
     ]
    }
   ],
   "source": [
    "ly_metrics = pd.DataFrame()\n",
    "ly_history = pd.DataFrame()\n",
    "for ln in num_layers:\n",
    "    this_metrics, this_history = do_layers(ln)\n",
    "    ly_metrics = pd.concat([ly_metrics, this_metrics])\n",
    "    ly_history = pd.concat([ly_history, this_history])"
   ]
  },
  {
   "cell_type": "code",
   "execution_count": null,
   "id": "d5aace56-733d-4c0c-b5e4-864a16829735",
   "metadata": {},
   "outputs": [],
   "source": [
    "ly_metrics"
   ]
  },
  {
   "cell_type": "code",
   "execution_count": null,
   "id": "42a27384-f748-468f-9cc6-6d5c96067cff",
   "metadata": {},
   "outputs": [],
   "source": [
    "f = metric_plot(ly_metrics, 'auc', 'layer_num')"
   ]
  },
  {
   "cell_type": "code",
   "execution_count": null,
   "id": "a0bff405-8622-498a-8880-3b0fb8c6bbea",
   "metadata": {},
   "outputs": [],
   "source": [
    "f = metric_plot(ly_metrics, 'precision', 'layer_num')"
   ]
  },
  {
   "cell_type": "code",
   "execution_count": null,
   "id": "a5c16e80-d8c5-421b-8981-d895707153e1",
   "metadata": {},
   "outputs": [],
   "source": [
    "f = metric_plot(ly_metrics, 'recall', 'layer_num')"
   ]
  },
  {
   "cell_type": "code",
   "execution_count": null,
   "id": "613c78b6-8857-44f1-a38d-5532a5dacbb8",
   "metadata": {},
   "outputs": [],
   "source": [
    "# Plot time\n",
    "time_df = ly_metrics\\\n",
    "    [['layer_num', 'time']] \\\n",
    "    .drop_duplicates() \\\n",
    "    .plot(x='layer_num', y='time', legend=None, marker='o', figsize=(3,2))\n",
    "plt.gca().set_xlabel('layer count')\n",
    "plt.gca().set_ylabel('time')\n",
    "plt.gca().set_title('Layer count - execution time')\n",
    "plt.gca().set_ylim(bottom=0)"
   ]
  },
  {
   "cell_type": "markdown",
   "id": "f6a1cea8-5f69-4d5a-8c69-af8f34db1fd5",
   "metadata": {},
   "source": [
    "Execution time goes up sharply as layers increase"
   ]
  },
  {
   "cell_type": "code",
   "execution_count": null,
   "id": "e96474b4-a828-491e-8f6f-b40b89d79aa1",
   "metadata": {},
   "outputs": [],
   "source": [
    "f = history_plot(ly_history, 'auc', 'layer_num')"
   ]
  },
  {
   "cell_type": "code",
   "execution_count": null,
   "id": "32f3f764-4e68-46f5-88cb-53e5769bb9e8",
   "metadata": {},
   "outputs": [],
   "source": [
    "f = history_plot(ly_history, 'val_auc', 'layer_num')"
   ]
  },
  {
   "cell_type": "markdown",
   "id": "33ee1193-6f4b-44bd-98c5-91daafa9071b",
   "metadata": {},
   "source": [
    "Interestingly, morr layers doesn't seem better for this example. It seems to overfit possibly.  This dataset is prone to overfitting?"
   ]
  },
  {
   "cell_type": "markdown",
   "id": "5679596d-5983-45f6-88db-1afa63ea2595",
   "metadata": {},
   "source": [
    "## Number of Samples"
   ]
  },
  {
   "cell_type": "code",
   "execution_count": 48,
   "id": "b01b43e1-72ff-4287-bddc-fdc9fed79fdd",
   "metadata": {},
   "outputs": [],
   "source": [
    "def do_samples(num_samp_base = 5,\n",
    "               layer_num = 2,\n",
    "             learning_rate = 0.001):\n",
    "    \n",
    "    # Use more samples for the first layer, as in the vignette\n",
    "    # Make the subsequent samples the same\n",
    "    this_num_samples = [num_samp_base*2] + [num_samp_base]*(layer_num-1)\n",
    "    this_layer_sizes = [32]*(layer_num)\n",
    "    \n",
    "    start_time = time.time()\n",
    "    this_metrics, this_history = do_model(num_samples = this_num_samples,\n",
    "                              layer_sizes  = this_layer_sizes,\n",
    "                              learning_rate = learning_rate)\n",
    "    tot_time = time.time() - start_time\n",
    "    \n",
    "    this_metrics['num_samp'] = num_samp_base\n",
    "    this_metrics['time'] = tot_time\n",
    "    this_history['num_samp'] = num_samp_base\n",
    "    return this_metrics, this_history"
   ]
  },
  {
   "cell_type": "code",
   "execution_count": 49,
   "id": "14753bbc-c227-43d1-8ed4-093c369ecea2",
   "metadata": {},
   "outputs": [],
   "source": [
    "num_samps = [5, 10, 20]"
   ]
  },
  {
   "cell_type": "code",
   "execution_count": 50,
   "id": "804fe217-0e1a-4130-bdef-5ac0c4447227",
   "metadata": {},
   "outputs": [
    {
     "name": "stderr",
     "output_type": "stream",
     "text": [
      "2023-11-20 22:30:20.984634: I tensorflow/core/grappler/optimizers/custom_graph_optimizer_registry.cc:114] Plugin optimizer for device_type GPU is enabled.\n",
      "2023-11-20 22:30:23.367186: I tensorflow/core/grappler/optimizers/custom_graph_optimizer_registry.cc:114] Plugin optimizer for device_type GPU is enabled.\n"
     ]
    },
    {
     "name": "stdout",
     "output_type": "stream",
     "text": [
      "49/49 [==============================] - 1s 15ms/step - loss: 0.2873 - acc: 0.9094 - auc: 0.9531 - precision: 0.8694 - recall: 0.8234\n",
      "6/6 [==============================] - 0s 76ms/step - loss: 0.1415 - acc: 1.0000 - auc: 1.0000 - precision: 1.0000 - recall: 1.0000\n"
     ]
    },
    {
     "name": "stderr",
     "output_type": "stream",
     "text": [
      "2023-11-20 22:30:44.841603: I tensorflow/core/grappler/optimizers/custom_graph_optimizer_registry.cc:114] Plugin optimizer for device_type GPU is enabled.\n",
      "2023-11-20 22:30:47.293760: I tensorflow/core/grappler/optimizers/custom_graph_optimizer_registry.cc:114] Plugin optimizer for device_type GPU is enabled.\n"
     ]
    },
    {
     "name": "stdout",
     "output_type": "stream",
     "text": [
      "49/49 [==============================] - 2s 33ms/step - loss: 0.2892 - acc: 0.9081 - auc: 0.9540 - precision: 0.8754 - recall: 0.8111\n",
      "6/6 [==============================] - 1s 86ms/step - loss: 0.1395 - acc: 1.0000 - auc: 1.0000 - precision: 1.0000 - recall: 1.0000\n"
     ]
    },
    {
     "name": "stderr",
     "output_type": "stream",
     "text": [
      "2023-11-20 22:31:30.508668: I tensorflow/core/grappler/optimizers/custom_graph_optimizer_registry.cc:114] Plugin optimizer for device_type GPU is enabled.\n",
      "2023-11-20 22:31:33.360293: I tensorflow/core/grappler/optimizers/custom_graph_optimizer_registry.cc:114] Plugin optimizer for device_type GPU is enabled.\n"
     ]
    },
    {
     "name": "stdout",
     "output_type": "stream",
     "text": [
      "49/49 [==============================] - 6s 125ms/step - loss: 0.2849 - acc: 0.9118 - auc: 0.9546 - precision: 0.8727 - recall: 0.8288\n",
      "6/6 [==============================] - 1s 160ms/step - loss: 0.1385 - acc: 1.0000 - auc: 1.0000 - precision: 1.0000 - recall: 1.0000\n"
     ]
    }
   ],
   "source": [
    "ns_metrics = pd.DataFrame()\n",
    "ns_history = pd.DataFrame()\n",
    "for n in num_samps:\n",
    "    this_metrics, this_history = do_samples(n)\n",
    "    ns_metrics = pd.concat([ns_metrics, this_metrics])\n",
    "    ns_history = pd.concat([ns_history, this_history])"
   ]
  },
  {
   "cell_type": "code",
   "execution_count": 51,
   "id": "94c0b851-3852-4677-9aed-9a0c5a730ee0",
   "metadata": {},
   "outputs": [
    {
     "data": {
      "image/png": "[encoded data removed]",
      "text/plain": [
       "<Figure size 600x300 with 1 Axes>"
      ]
     },
     "metadata": {},
     "output_type": "display_data"
    }
   ],
   "source": [
    "# Plot AUC\n",
    "f = metric_plot(ns_metrics, 'auc', 'num_samp')"
   ]
  },
  {
   "cell_type": "code",
   "execution_count": 52,
   "id": "eaa1b3ea-0aae-4f1d-a21e-d242c6893bb4",
   "metadata": {},
   "outputs": [
    {
     "data": {
      "image/png": "[encoded data removed]",
      "text/plain": [
       "<Figure size 600x300 with 1 Axes>"
      ]
     },
     "metadata": {},
     "output_type": "display_data"
    }
   ],
   "source": [
    "f = metric_plot(ns_metrics, 'precision', 'num_samp')"
   ]
  },
  {
   "cell_type": "code",
   "execution_count": 53,
   "id": "33522cd6-0ef8-407f-bdfd-663d4d116d5b",
   "metadata": {},
   "outputs": [
    {
     "data": {
      "image/png": "[encoded data removed]",
      "text/plain": [
       "<Figure size 600x300 with 1 Axes>"
      ]
     },
     "metadata": {},
     "output_type": "display_data"
    }
   ],
   "source": [
    "f = metric_plot(ns_metrics, 'recall', 'num_samp')"
   ]
  },
  {
   "cell_type": "code",
   "execution_count": 54,
   "id": "cf1b83b7-58d9-490d-9320-a006bf4f3334",
   "metadata": {},
   "outputs": [
    {
     "data": {
      "text/plain": [
       "(0.0, 157.39344425201415)"
      ]
     },
     "execution_count": 54,
     "metadata": {},
     "output_type": "execute_result"
    },
    {
     "data": {
      "image/png": "[encoded data removed]",
      "text/plain": [
       "<Figure size 300x200 with 1 Axes>"
      ]
     },
     "metadata": {},
     "output_type": "display_data"
    }
   ],
   "source": [
    "# Plot time\n",
    "time_df = ns_metrics\\\n",
    "    [['num_samp', 'time']] \\\n",
    "    .drop_duplicates() \\\n",
    "    .plot(x='num_samp', y='time', legend=None, marker='o', figsize=(3,2))\n",
    "plt.gca().set_xlabel('sample count')\n",
    "plt.gca().set_ylabel('time')\n",
    "plt.gca().set_title('Num samples - execution time')\n",
    "plt.gca().set_ylim(bottom=0)"
   ]
  },
  {
   "cell_type": "code",
   "execution_count": 55,
   "id": "ad0b3b6d-9cda-4f09-9748-79413cbca97d",
   "metadata": {},
   "outputs": [
    {
     "data": {
      "image/png": "[encoded data removed]",
      "text/plain": [
       "<Figure size 400x300 with 1 Axes>"
      ]
     },
     "metadata": {},
     "output_type": "display_data"
    }
   ],
   "source": [
    "f = history_plot(ns_history, 'auc', 'num_samp')"
   ]
  },
  {
   "cell_type": "code",
   "execution_count": 56,
   "id": "383198e3-d3c9-4aa7-924f-cedb68fc5d11",
   "metadata": {},
   "outputs": [
    {
     "data": {
      "image/png": "[encoded data removed]",
      "text/plain": [
       "<Figure size 400x300 with 1 Axes>"
      ]
     },
     "metadata": {},
     "output_type": "display_data"
    }
   ],
   "source": [
    "f = history_plot(ns_history, 'val_auc', 'num_samp')"
   ]
  },
  {
   "cell_type": "markdown",
   "id": "b4dcd50e-1313-4fa2-ad45-11ae52344f68",
   "metadata": {},
   "source": [
    "Increasing samples doesn't seem to cause overfitting.  The models seem to get to the same place.  More samples takes more time to train, but close to same number of epochs to stabilize (more samples seems to have very slightly fewer epochs needed)"
   ]
  },
  {
   "cell_type": "markdown",
   "id": "2a8294f9-9c1e-4e69-878a-51dca05e40d1",
   "metadata": {},
   "source": [
    "## Dropout\n",
    "As a final test, see what happens when dropout is modified.  "
   ]
  },
  {
   "cell_type": "code",
   "execution_count": 57,
   "id": "dfe59da5-36ce-4012-a969-bd588f491cff",
   "metadata": {},
   "outputs": [],
   "source": [
    "def do_dropout(dropout = 0.5,\n",
    "               layer_num = 2,\n",
    "             learning_rate = 0.001):\n",
    "    \n",
    "    # Use more samples for the first layer, as in the vignette\n",
    "    # Make the subsequent samples the same\n",
    "    this_num_samples = [10] + [5]*(layer_num-1)\n",
    "    this_layer_sizes = [32]*(layer_num)\n",
    "    \n",
    "    start_time = time.time()\n",
    "    this_metrics, this_history = do_model(num_samples = this_num_samples,\n",
    "                              layer_sizes  = this_layer_sizes,\n",
    "                              learning_rate = learning_rate)\n",
    "    tot_time = time.time() - start_time\n",
    "    \n",
    "    this_metrics['dropout'] = dropout\n",
    "    this_metrics['time'] = tot_time\n",
    "    this_history['dropout'] = dropout\n",
    "    return this_metrics, this_history"
   ]
  },
  {
   "cell_type": "code",
   "execution_count": 58,
   "id": "e24d7de1-cbc4-4b74-a436-b2d6e1a0d00b",
   "metadata": {},
   "outputs": [],
   "source": [
    "dropouts = [0, 0.3, 0.5, 0.8, 0.9]"
   ]
  },
  {
   "cell_type": "code",
   "execution_count": 59,
   "id": "82e13eda-2756-4a89-a547-77619907cabb",
   "metadata": {},
   "outputs": [
    {
     "name": "stderr",
     "output_type": "stream",
     "text": [
      "2023-11-20 22:34:02.127731: I tensorflow/core/grappler/optimizers/custom_graph_optimizer_registry.cc:114] Plugin optimizer for device_type GPU is enabled.\n",
      "2023-11-20 22:34:04.452745: I tensorflow/core/grappler/optimizers/custom_graph_optimizer_registry.cc:114] Plugin optimizer for device_type GPU is enabled.\n"
     ]
    },
    {
     "name": "stdout",
     "output_type": "stream",
     "text": [
      "49/49 [==============================] - 1s 16ms/step - loss: 0.2910 - acc: 0.9057 - auc: 0.9526 - precision: 0.8534 - recall: 0.8302\n",
      "6/6 [==============================] - 0s 71ms/step - loss: 0.1428 - acc: 0.9926 - auc: 0.9999 - precision: 0.9878 - recall: 0.9878\n"
     ]
    },
    {
     "name": "stderr",
     "output_type": "stream",
     "text": [
      "2023-11-20 22:34:26.064710: I tensorflow/core/grappler/optimizers/custom_graph_optimizer_registry.cc:114] Plugin optimizer for device_type GPU is enabled.\n",
      "2023-11-20 22:34:28.281274: I tensorflow/core/grappler/optimizers/custom_graph_optimizer_registry.cc:114] Plugin optimizer for device_type GPU is enabled.\n"
     ]
    },
    {
     "name": "stdout",
     "output_type": "stream",
     "text": [
      "49/49 [==============================] - 1s 15ms/step - loss: 0.2891 - acc: 0.9089 - auc: 0.9529 - precision: 0.8579 - recall: 0.8370\n",
      "6/6 [==============================] - 0s 86ms/step - loss: 0.1460 - acc: 0.9963 - auc: 1.0000 - precision: 1.0000 - recall: 0.9878\n"
     ]
    },
    {
     "name": "stderr",
     "output_type": "stream",
     "text": [
      "2023-11-20 22:34:50.000820: I tensorflow/core/grappler/optimizers/custom_graph_optimizer_registry.cc:114] Plugin optimizer for device_type GPU is enabled.\n",
      "2023-11-20 22:34:52.944868: I tensorflow/core/grappler/optimizers/custom_graph_optimizer_registry.cc:114] Plugin optimizer for device_type GPU is enabled.\n"
     ]
    },
    {
     "name": "stdout",
     "output_type": "stream",
     "text": [
      "49/49 [==============================] - 1s 15ms/step - loss: 0.2910 - acc: 0.9032 - auc: 0.9523 - precision: 0.8698 - recall: 0.7989\n",
      "6/6 [==============================] - 1s 104ms/step - loss: 0.1408 - acc: 1.0000 - auc: 1.0000 - precision: 1.0000 - recall: 1.0000\n"
     ]
    },
    {
     "name": "stderr",
     "output_type": "stream",
     "text": [
      "2023-11-20 22:35:15.977970: I tensorflow/core/grappler/optimizers/custom_graph_optimizer_registry.cc:114] Plugin optimizer for device_type GPU is enabled.\n",
      "2023-11-20 22:35:19.238180: I tensorflow/core/grappler/optimizers/custom_graph_optimizer_registry.cc:114] Plugin optimizer for device_type GPU is enabled.\n"
     ]
    },
    {
     "name": "stdout",
     "output_type": "stream",
     "text": [
      "49/49 [==============================] - 1s 15ms/step - loss: 0.2926 - acc: 0.9069 - auc: 0.9528 - precision: 0.8453 - recall: 0.8465\n",
      "6/6 [==============================] - 1s 103ms/step - loss: 0.1442 - acc: 0.9963 - auc: 0.9999 - precision: 0.9880 - recall: 1.0000\n"
     ]
    },
    {
     "name": "stderr",
     "output_type": "stream",
     "text": [
      "2023-11-20 22:35:42.469694: I tensorflow/core/grappler/optimizers/custom_graph_optimizer_registry.cc:114] Plugin optimizer for device_type GPU is enabled.\n",
      "2023-11-20 22:35:45.848729: I tensorflow/core/grappler/optimizers/custom_graph_optimizer_registry.cc:114] Plugin optimizer for device_type GPU is enabled.\n"
     ]
    },
    {
     "name": "stdout",
     "output_type": "stream",
     "text": [
      "49/49 [==============================] - 1s 15ms/step - loss: 0.2910 - acc: 0.9073 - auc: 0.9530 - precision: 0.8653 - recall: 0.8207\n",
      "6/6 [==============================] - 1s 105ms/step - loss: 0.1452 - acc: 0.9963 - auc: 1.0000 - precision: 1.0000 - recall: 0.9878\n"
     ]
    }
   ],
   "source": [
    "d_metrics = pd.DataFrame()\n",
    "d_history = pd.DataFrame()\n",
    "for d in dropouts:\n",
    "    this_metrics, this_history = do_dropout(d)\n",
    "    d_metrics = pd.concat([d_metrics, this_metrics])\n",
    "    d_history = pd.concat([d_history, this_history])"
   ]
  },
  {
   "cell_type": "code",
   "execution_count": 60,
   "id": "08eb4673-1ad3-45e2-806e-76e6d4faea90",
   "metadata": {},
   "outputs": [
    {
     "ename": "NameError",
     "evalue": "name 'plot_metrics' is not defined",
     "output_type": "error",
     "traceback": [
      "\u001b[0;31m---------------------------------------------------------------------------\u001b[0m",
      "\u001b[0;31mNameError\u001b[0m                                 Traceback (most recent call last)",
      "Cell \u001b[0;32mIn[60], line 2\u001b[0m\n\u001b[1;32m      1\u001b[0m \u001b[38;5;66;03m# Plot AUC\u001b[39;00m\n\u001b[0;32m----> 2\u001b[0m f \u001b[38;5;241m=\u001b[39m \u001b[43mplot_metrics\u001b[49m(d_metrics, \u001b[38;5;124m'\u001b[39m\u001b[38;5;124mauc\u001b[39m\u001b[38;5;124m'\u001b[39m, \u001b[38;5;124m'\u001b[39m\u001b[38;5;124mdropout\u001b[39m\u001b[38;5;124m'\u001b[39m)\n",
      "\u001b[0;31mNameError\u001b[0m: name 'plot_metrics' is not defined"
     ]
    }
   ],
   "source": [
    "# Plot AUC\n",
    "f = metric_plot(d_metrics, 'auc', 'dropout')"
   ]
  },
  {
   "cell_type": "code",
   "execution_count": null,
   "id": "536f10d0-ae35-45b0-96cb-f309fc605dc4",
   "metadata": {},
   "outputs": [],
   "source": [
    "f = metric_plot(d_metrics, 'auc', 'recall')"
   ]
  },
  {
   "cell_type": "code",
   "execution_count": null,
   "id": "0dcd3cea-67b1-4e14-9e02-754cc3203359",
   "metadata": {},
   "outputs": [],
   "source": [
    "f = metric_plot(d_metrics, 'auc', 'precision')"
   ]
  },
  {
   "cell_type": "code",
   "execution_count": null,
   "id": "e297a25b-27ae-4514-9dc0-11544b8e15ec",
   "metadata": {},
   "outputs": [],
   "source": [
    "# Plot time\n",
    "time_df = d_metrics\\\n",
    "    [['dropout', 'time']] \\\n",
    "    .drop_duplicates() \\\n",
    "    .plot(x='dropout', y='time', legend=None, marker='o', figsize=(3,2))\n",
    "plt.gca().set_xlabel('dropout')\n",
    "plt.gca().set_ylabel('time')\n",
    "plt.gca().set_title('Dropout - execution time')\n",
    "plt.gca().set_ylim(bottom=0)"
   ]
  },
  {
   "cell_type": "code",
   "execution_count": null,
   "id": "1bb78adc-3a0b-4873-95d9-bb0499a53114",
   "metadata": {},
   "outputs": [],
   "source": [
    "f = history_plot(d_history, 'auc', 'dropout')"
   ]
  },
  {
   "cell_type": "code",
   "execution_count": null,
   "id": "84f9bfd4-5344-4b75-8793-0039575ff9ad",
   "metadata": {},
   "outputs": [],
   "source": [
    "f = history_plot(d_history, 'val_auc', 'dropout')"
   ]
  },
  {
   "cell_type": "code",
   "execution_count": null,
   "id": "be41d109-d4ea-4ce0-823c-acf5a80857dc",
   "metadata": {},
   "outputs": [],
   "source": []
  },
  {
   "cell_type": "code",
   "execution_count": null,
   "id": "9fdea13d-3fb3-4d95-a728-03c2c74a343f",
   "metadata": {},
   "outputs": [],
   "source": [
    "TODO\n",
    "Write conclusion\n",
    "Update runtime\n",
    "Heterogeneous graph example!\n",
    "Started run around 10:20"
   ]
  }
 ],
 "metadata": {
  "kernelspec": {
   "display_name": "tf_p39",
   "language": "python",
   "name": "tf_p39"
  },
  "language_info": {
   "codemirror_mode": {
    "name": "ipython",
    "version": 3
   },
   "file_extension": ".py",
   "mimetype": "text/x-python",
   "name": "python",
   "nbconvert_exporter": "python",
   "pygments_lexer": "ipython3",
   "version": "3.8.18"
  }
 },
 "nbformat": 4,
 "nbformat_minor": 5
}
