{
 "cells": [
  {
   "cell_type": "code",
   "execution_count": 1,
   "id": "8bf42d82-9a49-4a37-b9fc-5c5e246f046f",
   "metadata": {
    "tags": []
   },
   "outputs": [],
   "source": [
    "# Modify the file 00_setup.py to define input/output file paths on your system\n",
    "# The information in 00_setup.py will be used across notebooks\n",
    "from importlib.machinery import SourceFileLoader\n",
    "setup = SourceFileLoader(\"setup\", \"../00_setup.py\").load_module()"
   ]
  },
  {
   "cell_type": "code",
   "execution_count": 2,
   "id": "b8a59015-ab74-4602-837b-92581c05ecc7",
   "metadata": {},
   "outputs": [
    {
     "data": {
      "text/plain": [
       "'../data/2023_12_15'"
      ]
     },
     "execution_count": 2,
     "metadata": {},
     "output_type": "execute_result"
    }
   ],
   "source": [
    "setup.temp_path"
   ]
  },
  {
   "cell_type": "markdown",
   "id": "46ba6814-af59-427b-994d-45972a3d94ec",
   "metadata": {},
   "source": [
    "# Neural Network Classification Test - Basic"
   ]
  },
  {
   "cell_type": "markdown",
   "id": "4f2decfd-5675-4c3c-ac9f-d1eb9d9bb041",
   "metadata": {},
   "source": [
    "The purpose of this script is to build a standard (not graph) NN and try to get decent performance.  I want to test the data prepared in script 10"
   ]
  },
  {
   "cell_type": "markdown",
   "id": "48688758-7a7f-4bc3-a9e7-68eb92ef423a",
   "metadata": {},
   "source": [
    "Some code based on: https://machinelearningmastery.com/binary-classification-tutorial-with-the-keras-deep-learning-library/"
   ]
  },
  {
   "cell_type": "markdown",
   "id": "4bbf4bcf-23fc-4c31-a7e8-510f9900d959",
   "metadata": {},
   "source": [
    "*This script takes about 1 hour on my MacBook Air*"
   ]
  },
  {
   "cell_type": "code",
   "execution_count": 3,
   "id": "93a0a7a2-4ad9-460b-9a64-74e45b480d60",
   "metadata": {},
   "outputs": [],
   "source": [
    "import numpy as np\n",
    "import pandas as pd\n",
    "import tensorflow as tf"
   ]
  },
  {
   "cell_type": "code",
   "execution_count": 4,
   "id": "67f481eb-26c3-435d-b31a-1db447a8c258",
   "metadata": {},
   "outputs": [],
   "source": [
    "from pathlib import Path\n",
    "import importlib, pickle\n",
    "from sklearn import model_selection"
   ]
  },
  {
   "cell_type": "code",
   "execution_count": 5,
   "id": "6861dde2-b2da-4f27-bf6d-af2fd12cfbec",
   "metadata": {},
   "outputs": [
    {
     "name": "stderr",
     "output_type": "stream",
     "text": [
      "2024-01-04 08:01:15.555687: I metal_plugin/src/device/metal_device.cc:1154] Metal device set to: Apple M1\n",
      "2024-01-04 08:01:15.555709: I metal_plugin/src/device/metal_device.cc:296] systemMemory: 16.00 GB\n",
      "2024-01-04 08:01:15.555717: I metal_plugin/src/device/metal_device.cc:313] maxCacheSize: 5.33 GB\n",
      "2024-01-04 08:01:15.555741: I tensorflow/core/common_runtime/pluggable_device/pluggable_device_factory.cc:303] Could not identify NUMA node of platform GPU ID 0, defaulting to 0. Your kernel may not have been built with NUMA support.\n",
      "2024-01-04 08:01:15.555754: I tensorflow/core/common_runtime/pluggable_device/pluggable_device_factory.cc:269] Created TensorFlow device (/job:localhost/replica:0/task:0/device:GPU:0 with 0 MB memory) -> physical PluggableDevice (device: 0, name: METAL, pci bus id: <undefined>)\n"
     ]
    }
   ],
   "source": [
    "import pandas as pd\n",
    "import os\n",
    "import re\n",
    "\n",
    "from tensorflow.keras import layers, optimizers, losses, metrics, Model\n",
    "from sklearn import preprocessing, feature_extraction, model_selection\n",
    "from stellargraph import datasets\n",
    "from IPython.display import display, HTML\n",
    "import matplotlib.pyplot as plt\n",
    "%matplotlib inline"
   ]
  },
  {
   "cell_type": "code",
   "execution_count": 6,
   "id": "d18f0f39-47f6-4176-9921-24af514808b6",
   "metadata": {},
   "outputs": [],
   "source": [
    "from tensorflow.keras.models import Sequential\n",
    "from tensorflow.keras.layers import Dense\n",
    "import tensorflow.keras.metrics as km"
   ]
  },
  {
   "cell_type": "code",
   "execution_count": 7,
   "id": "9d4fe882-80b1-457f-95af-d52d503789a2",
   "metadata": {},
   "outputs": [],
   "source": [
    "import tensorflow.keras.metrics as km\n",
    "from keras import initializers"
   ]
  },
  {
   "cell_type": "markdown",
   "id": "8b179f78-5b52-4701-9711-edb7dbb33149",
   "metadata": {},
   "source": [
    "## Input Data"
   ]
  },
  {
   "cell_type": "code",
   "execution_count": 8,
   "id": "2c0c26c1-fe84-4145-a9df-233c9c5a5071",
   "metadata": {},
   "outputs": [],
   "source": [
    "os.chdir('..')"
   ]
  },
  {
   "cell_type": "code",
   "execution_count": 9,
   "id": "4d938af5-d4da-4227-83b2-6ce9775d3de5",
   "metadata": {},
   "outputs": [],
   "source": [
    "business_data = pd.read_parquet(Path(setup.temp_path).joinpath('10_DATA_combined_scaled_all.parquet'))"
   ]
  },
  {
   "cell_type": "code",
   "execution_count": 10,
   "id": "f0b75ebe-8bfc-471e-9dc7-570fef0e58e2",
   "metadata": {},
   "outputs": [
    {
     "data": {
      "text/html": [
       "<div>\n",
       "<style scoped>\n",
       "    .dataframe tbody tr th:only-of-type {\n",
       "        vertical-align: middle;\n",
       "    }\n",
       "\n",
       "    .dataframe tbody tr th {\n",
       "        vertical-align: top;\n",
       "    }\n",
       "\n",
       "    .dataframe thead th {\n",
       "        text-align: right;\n",
       "    }\n",
       "</style>\n",
       "<table border=\"1\" class=\"dataframe\">\n",
       "  <thead>\n",
       "    <tr style=\"text-align: right;\">\n",
       "      <th></th>\n",
       "      <th>target</th>\n",
       "      <th>menc_NAICS</th>\n",
       "      <th>menc_NAICS_sector</th>\n",
       "      <th>NS___Accommodation and Food Services</th>\n",
       "      <th>NS___Construction</th>\n",
       "      <th>NS___Health Care and Social Assistance</th>\n",
       "      <th>NS___Manufacturing</th>\n",
       "      <th>NS___Other Services (except Public Administration)</th>\n",
       "      <th>NS___Professional, Scientific, and Technical Services</th>\n",
       "      <th>NS___Retail Trade</th>\n",
       "      <th>...</th>\n",
       "      <th>NoEmp</th>\n",
       "      <th>CreateJob</th>\n",
       "      <th>LowDoc</th>\n",
       "      <th>DisbursementGross</th>\n",
       "      <th>new_business</th>\n",
       "      <th>urban_flag</th>\n",
       "      <th>franchise_flag</th>\n",
       "      <th>missingindicator_LowDoc</th>\n",
       "      <th>missingindicator_new_business</th>\n",
       "      <th>missingindicator_urban_flag</th>\n",
       "    </tr>\n",
       "  </thead>\n",
       "  <tbody>\n",
       "    <tr>\n",
       "      <th>count</th>\n",
       "      <td>688081.000000</td>\n",
       "      <td>688081.000000</td>\n",
       "      <td>688081.000000</td>\n",
       "      <td>688081.000000</td>\n",
       "      <td>688081.000000</td>\n",
       "      <td>688081.000000</td>\n",
       "      <td>688081.000000</td>\n",
       "      <td>688081.000000</td>\n",
       "      <td>688081.000000</td>\n",
       "      <td>688081.000000</td>\n",
       "      <td>...</td>\n",
       "      <td>688081.000000</td>\n",
       "      <td>688081.000000</td>\n",
       "      <td>688081.000000</td>\n",
       "      <td>688081.000000</td>\n",
       "      <td>688081.000000</td>\n",
       "      <td>688081.000000</td>\n",
       "      <td>688081.000000</td>\n",
       "      <td>688081.000000</td>\n",
       "      <td>688081.000000</td>\n",
       "      <td>688081.000000</td>\n",
       "    </tr>\n",
       "    <tr>\n",
       "      <th>mean</th>\n",
       "      <td>0.203011</td>\n",
       "      <td>0.203954</td>\n",
       "      <td>0.202926</td>\n",
       "      <td>0.097958</td>\n",
       "      <td>0.095606</td>\n",
       "      <td>0.079398</td>\n",
       "      <td>0.096843</td>\n",
       "      <td>0.103658</td>\n",
       "      <td>0.098048</td>\n",
       "      <td>0.182085</td>\n",
       "      <td>...</td>\n",
       "      <td>0.499065</td>\n",
       "      <td>0.288307</td>\n",
       "      <td>0.097723</td>\n",
       "      <td>0.504015</td>\n",
       "      <td>0.277935</td>\n",
       "      <td>0.852639</td>\n",
       "      <td>0.050324</td>\n",
       "      <td>0.007342</td>\n",
       "      <td>0.001235</td>\n",
       "      <td>0.198575</td>\n",
       "    </tr>\n",
       "    <tr>\n",
       "      <th>std</th>\n",
       "      <td>0.402241</td>\n",
       "      <td>0.095249</td>\n",
       "      <td>0.043782</td>\n",
       "      <td>0.297258</td>\n",
       "      <td>0.294051</td>\n",
       "      <td>0.270359</td>\n",
       "      <td>0.295744</td>\n",
       "      <td>0.304816</td>\n",
       "      <td>0.297380</td>\n",
       "      <td>0.385915</td>\n",
       "      <td>...</td>\n",
       "      <td>0.287491</td>\n",
       "      <td>0.397946</td>\n",
       "      <td>0.296939</td>\n",
       "      <td>0.286781</td>\n",
       "      <td>0.447982</td>\n",
       "      <td>0.354465</td>\n",
       "      <td>0.218613</td>\n",
       "      <td>0.085371</td>\n",
       "      <td>0.035125</td>\n",
       "      <td>0.398928</td>\n",
       "    </tr>\n",
       "    <tr>\n",
       "      <th>min</th>\n",
       "      <td>0.000000</td>\n",
       "      <td>0.009628</td>\n",
       "      <td>0.068505</td>\n",
       "      <td>0.000000</td>\n",
       "      <td>0.000000</td>\n",
       "      <td>0.000000</td>\n",
       "      <td>0.000000</td>\n",
       "      <td>0.000000</td>\n",
       "      <td>0.000000</td>\n",
       "      <td>0.000000</td>\n",
       "      <td>...</td>\n",
       "      <td>0.000000</td>\n",
       "      <td>0.000000</td>\n",
       "      <td>0.000000</td>\n",
       "      <td>0.000000</td>\n",
       "      <td>0.000000</td>\n",
       "      <td>0.000000</td>\n",
       "      <td>0.000000</td>\n",
       "      <td>0.000000</td>\n",
       "      <td>0.000000</td>\n",
       "      <td>0.000000</td>\n",
       "    </tr>\n",
       "    <tr>\n",
       "      <th>25%</th>\n",
       "      <td>0.000000</td>\n",
       "      <td>0.132721</td>\n",
       "      <td>0.192547</td>\n",
       "      <td>0.000000</td>\n",
       "      <td>0.000000</td>\n",
       "      <td>0.000000</td>\n",
       "      <td>0.000000</td>\n",
       "      <td>0.000000</td>\n",
       "      <td>0.000000</td>\n",
       "      <td>0.000000</td>\n",
       "      <td>...</td>\n",
       "      <td>0.280280</td>\n",
       "      <td>0.000000</td>\n",
       "      <td>0.000000</td>\n",
       "      <td>0.257093</td>\n",
       "      <td>0.000000</td>\n",
       "      <td>1.000000</td>\n",
       "      <td>0.000000</td>\n",
       "      <td>0.000000</td>\n",
       "      <td>0.000000</td>\n",
       "      <td>0.000000</td>\n",
       "    </tr>\n",
       "    <tr>\n",
       "      <th>50%</th>\n",
       "      <td>0.000000</td>\n",
       "      <td>0.200864</td>\n",
       "      <td>0.218455</td>\n",
       "      <td>0.000000</td>\n",
       "      <td>0.000000</td>\n",
       "      <td>0.000000</td>\n",
       "      <td>0.000000</td>\n",
       "      <td>0.000000</td>\n",
       "      <td>0.000000</td>\n",
       "      <td>0.000000</td>\n",
       "      <td>...</td>\n",
       "      <td>0.508509</td>\n",
       "      <td>0.000000</td>\n",
       "      <td>0.000000</td>\n",
       "      <td>0.506507</td>\n",
       "      <td>0.000000</td>\n",
       "      <td>1.000000</td>\n",
       "      <td>0.000000</td>\n",
       "      <td>0.000000</td>\n",
       "      <td>0.000000</td>\n",
       "      <td>0.000000</td>\n",
       "    </tr>\n",
       "    <tr>\n",
       "      <th>75%</th>\n",
       "      <td>0.000000</td>\n",
       "      <td>0.264205</td>\n",
       "      <td>0.228565</td>\n",
       "      <td>0.000000</td>\n",
       "      <td>0.000000</td>\n",
       "      <td>0.000000</td>\n",
       "      <td>0.000000</td>\n",
       "      <td>0.000000</td>\n",
       "      <td>0.000000</td>\n",
       "      <td>0.000000</td>\n",
       "      <td>...</td>\n",
       "      <td>0.750250</td>\n",
       "      <td>0.777778</td>\n",
       "      <td>0.000000</td>\n",
       "      <td>0.751752</td>\n",
       "      <td>1.000000</td>\n",
       "      <td>1.000000</td>\n",
       "      <td>0.000000</td>\n",
       "      <td>0.000000</td>\n",
       "      <td>0.000000</td>\n",
       "      <td>0.000000</td>\n",
       "    </tr>\n",
       "    <tr>\n",
       "      <th>max</th>\n",
       "      <td>1.000000</td>\n",
       "      <td>0.488372</td>\n",
       "      <td>0.286731</td>\n",
       "      <td>1.000000</td>\n",
       "      <td>1.000000</td>\n",
       "      <td>1.000000</td>\n",
       "      <td>1.000000</td>\n",
       "      <td>1.000000</td>\n",
       "      <td>1.000000</td>\n",
       "      <td>1.000000</td>\n",
       "      <td>...</td>\n",
       "      <td>1.000000</td>\n",
       "      <td>1.000000</td>\n",
       "      <td>1.000000</td>\n",
       "      <td>1.000000</td>\n",
       "      <td>1.000000</td>\n",
       "      <td>1.000000</td>\n",
       "      <td>1.000000</td>\n",
       "      <td>1.000000</td>\n",
       "      <td>1.000000</td>\n",
       "      <td>1.000000</td>\n",
       "    </tr>\n",
       "  </tbody>\n",
       "</table>\n",
       "<p>8 rows × 22 columns</p>\n",
       "</div>"
      ],
      "text/plain": [
       "              target     menc_NAICS  menc_NAICS_sector  \\\n",
       "count  688081.000000  688081.000000      688081.000000   \n",
       "mean        0.203011       0.203954           0.202926   \n",
       "std         0.402241       0.095249           0.043782   \n",
       "min         0.000000       0.009628           0.068505   \n",
       "25%         0.000000       0.132721           0.192547   \n",
       "50%         0.000000       0.200864           0.218455   \n",
       "75%         0.000000       0.264205           0.228565   \n",
       "max         1.000000       0.488372           0.286731   \n",
       "\n",
       "       NS___Accommodation and Food Services  NS___Construction  \\\n",
       "count                         688081.000000      688081.000000   \n",
       "mean                               0.097958           0.095606   \n",
       "std                                0.297258           0.294051   \n",
       "min                                0.000000           0.000000   \n",
       "25%                                0.000000           0.000000   \n",
       "50%                                0.000000           0.000000   \n",
       "75%                                0.000000           0.000000   \n",
       "max                                1.000000           1.000000   \n",
       "\n",
       "       NS___Health Care and Social Assistance  NS___Manufacturing  \\\n",
       "count                           688081.000000       688081.000000   \n",
       "mean                                 0.079398            0.096843   \n",
       "std                                  0.270359            0.295744   \n",
       "min                                  0.000000            0.000000   \n",
       "25%                                  0.000000            0.000000   \n",
       "50%                                  0.000000            0.000000   \n",
       "75%                                  0.000000            0.000000   \n",
       "max                                  1.000000            1.000000   \n",
       "\n",
       "       NS___Other Services (except Public Administration)  \\\n",
       "count                                      688081.000000    \n",
       "mean                                            0.103658    \n",
       "std                                             0.304816    \n",
       "min                                             0.000000    \n",
       "25%                                             0.000000    \n",
       "50%                                             0.000000    \n",
       "75%                                             0.000000    \n",
       "max                                             1.000000    \n",
       "\n",
       "       NS___Professional, Scientific, and Technical Services  \\\n",
       "count                                      688081.000000       \n",
       "mean                                            0.098048       \n",
       "std                                             0.297380       \n",
       "min                                             0.000000       \n",
       "25%                                             0.000000       \n",
       "50%                                             0.000000       \n",
       "75%                                             0.000000       \n",
       "max                                             1.000000       \n",
       "\n",
       "       NS___Retail Trade  ...          NoEmp      CreateJob         LowDoc  \\\n",
       "count      688081.000000  ...  688081.000000  688081.000000  688081.000000   \n",
       "mean            0.182085  ...       0.499065       0.288307       0.097723   \n",
       "std             0.385915  ...       0.287491       0.397946       0.296939   \n",
       "min             0.000000  ...       0.000000       0.000000       0.000000   \n",
       "25%             0.000000  ...       0.280280       0.000000       0.000000   \n",
       "50%             0.000000  ...       0.508509       0.000000       0.000000   \n",
       "75%             0.000000  ...       0.750250       0.777778       0.000000   \n",
       "max             1.000000  ...       1.000000       1.000000       1.000000   \n",
       "\n",
       "       DisbursementGross   new_business     urban_flag  franchise_flag  \\\n",
       "count      688081.000000  688081.000000  688081.000000   688081.000000   \n",
       "mean            0.504015       0.277935       0.852639        0.050324   \n",
       "std             0.286781       0.447982       0.354465        0.218613   \n",
       "min             0.000000       0.000000       0.000000        0.000000   \n",
       "25%             0.257093       0.000000       1.000000        0.000000   \n",
       "50%             0.506507       0.000000       1.000000        0.000000   \n",
       "75%             0.751752       1.000000       1.000000        0.000000   \n",
       "max             1.000000       1.000000       1.000000        1.000000   \n",
       "\n",
       "       missingindicator_LowDoc  missingindicator_new_business  \\\n",
       "count            688081.000000                  688081.000000   \n",
       "mean                  0.007342                       0.001235   \n",
       "std                   0.085371                       0.035125   \n",
       "min                   0.000000                       0.000000   \n",
       "25%                   0.000000                       0.000000   \n",
       "50%                   0.000000                       0.000000   \n",
       "75%                   0.000000                       0.000000   \n",
       "max                   1.000000                       1.000000   \n",
       "\n",
       "       missingindicator_urban_flag  \n",
       "count                688081.000000  \n",
       "mean                      0.198575  \n",
       "std                       0.398928  \n",
       "min                       0.000000  \n",
       "25%                       0.000000  \n",
       "50%                       0.000000  \n",
       "75%                       0.000000  \n",
       "max                       1.000000  \n",
       "\n",
       "[8 rows x 22 columns]"
      ]
     },
     "execution_count": 10,
     "metadata": {},
     "output_type": "execute_result"
    }
   ],
   "source": [
    "business_data.describe()"
   ]
  },
  {
   "cell_type": "code",
   "execution_count": 11,
   "id": "7d9c60fc-a518-4919-a98d-f65db5b323ff",
   "metadata": {},
   "outputs": [
    {
     "data": {
      "text/plain": [
       "Index(['dset', 'LoanNr_ChkDgt', 'target', 'NAICS', 'NAICS_sector',\n",
       "       'menc_NAICS', 'menc_NAICS_sector',\n",
       "       'NS___Accommodation and Food Services', 'NS___Construction',\n",
       "       'NS___Health Care and Social Assistance', 'NS___Manufacturing',\n",
       "       'NS___Other Services (except Public Administration)',\n",
       "       'NS___Professional, Scientific, and Technical Services',\n",
       "       'NS___Retail Trade', 'NS___Wholesale Trade', 'NS___infrequent_sklearn',\n",
       "       'NoEmp', 'CreateJob', 'LowDoc', 'DisbursementGross', 'new_business',\n",
       "       'urban_flag', 'franchise_flag', 'missingindicator_LowDoc',\n",
       "       'missingindicator_new_business', 'missingindicator_urban_flag'],\n",
       "      dtype='object')"
      ]
     },
     "execution_count": 11,
     "metadata": {},
     "output_type": "execute_result"
    }
   ],
   "source": [
    "business_data.columns"
   ]
  },
  {
   "cell_type": "code",
   "execution_count": 12,
   "id": "0d1c7769-1e03-4795-b56c-b4368a0c023b",
   "metadata": {},
   "outputs": [],
   "source": [
    "feat = ['new_business','urban_flag', 'franchise_flag','missingindicator_LowDoc',\n",
    "        'missingindicator_new_business', 'missingindicator_urban_flag', 'NoEmp',\n",
    "        'CreateJob', 'LowDoc', 'DisbursementGross']\n"
   ]
  },
  {
   "cell_type": "code",
   "execution_count": 13,
   "id": "7e50d4c1-a853-4ad5-a38d-088234e9c8de",
   "metadata": {},
   "outputs": [],
   "source": [
    "X = business_data[['dset', 'LoanNr_ChkDgt'] + feat].set_index('LoanNr_ChkDgt').sort_index()"
   ]
  },
  {
   "cell_type": "code",
   "execution_count": 14,
   "id": "e39e5cff-67d8-4428-b00e-b3e4e7b0507d",
   "metadata": {},
   "outputs": [
    {
     "data": {
      "text/plain": [
       "(688081, 11)"
      ]
     },
     "execution_count": 14,
     "metadata": {},
     "output_type": "execute_result"
    }
   ],
   "source": [
    "X.shape"
   ]
  },
  {
   "cell_type": "code",
   "execution_count": 15,
   "id": "921d7764-aa29-42e3-9c79-67e7713ef2ae",
   "metadata": {},
   "outputs": [
    {
     "data": {
      "text/plain": [
       "Index(['dset', 'new_business', 'urban_flag', 'franchise_flag',\n",
       "       'missingindicator_LowDoc', 'missingindicator_new_business',\n",
       "       'missingindicator_urban_flag', 'NoEmp', 'CreateJob', 'LowDoc',\n",
       "       'DisbursementGross'],\n",
       "      dtype='object')"
      ]
     },
     "execution_count": 15,
     "metadata": {},
     "output_type": "execute_result"
    }
   ],
   "source": [
    "X.columns"
   ]
  },
  {
   "cell_type": "code",
   "execution_count": 16,
   "id": "42dc5c92-f5a2-457c-be3a-60cb0f6c2ef8",
   "metadata": {},
   "outputs": [
    {
     "data": {
      "text/plain": [
       "(412848, 10)"
      ]
     },
     "execution_count": 16,
     "metadata": {},
     "output_type": "execute_result"
    }
   ],
   "source": [
    "X_train = X[X['dset'] == 'train'].drop(columns='dset')\n",
    "X_train.shape"
   ]
  },
  {
   "cell_type": "code",
   "execution_count": 17,
   "id": "80e32c9e-a3e1-42ed-9e5a-6f3fccd7aa38",
   "metadata": {},
   "outputs": [
    {
     "data": {
      "text/plain": [
       "(220187, 10)"
      ]
     },
     "execution_count": 17,
     "metadata": {},
     "output_type": "execute_result"
    }
   ],
   "source": [
    "X_val = X[X['dset'] == 'val'].drop(columns='dset')\n",
    "X_val.shape"
   ]
  },
  {
   "cell_type": "code",
   "execution_count": 18,
   "id": "0e5073b0-4ed3-42b3-bbb1-e39c5b71463a",
   "metadata": {},
   "outputs": [],
   "source": [
    "y_train = business_data[business_data['dset'] == 'train'].set_index('LoanNr_ChkDgt').sort_index()['target']"
   ]
  },
  {
   "cell_type": "code",
   "execution_count": 19,
   "id": "431a77b6-e9d1-40d6-bfb4-aec4a09f2af6",
   "metadata": {},
   "outputs": [
    {
     "data": {
      "text/plain": [
       "(412848,)"
      ]
     },
     "execution_count": 19,
     "metadata": {},
     "output_type": "execute_result"
    }
   ],
   "source": [
    "y_train.shape"
   ]
  },
  {
   "cell_type": "code",
   "execution_count": 20,
   "id": "a9c2e513-0694-4020-b76b-3742ccfb0240",
   "metadata": {},
   "outputs": [],
   "source": [
    "y_val = business_data[business_data['dset'] == 'val'].set_index('LoanNr_ChkDgt').sort_index()['target']"
   ]
  },
  {
   "cell_type": "markdown",
   "id": "172e4340-fce9-4795-ab6c-da2480e2d09c",
   "metadata": {},
   "source": [
    "## Function to create model"
   ]
  },
  {
   "cell_type": "code",
   "execution_count": 21,
   "id": "d4ea1215-53af-4954-9573-b151452be607",
   "metadata": {},
   "outputs": [],
   "source": [
    "def create_baseline(base_thresh  = 0.2, n_feat = 10, hidden_size = 4,\n",
    "                   activation='tanh', n_layers = 2, lr=0.001):\n",
    "    model = Sequential()\n",
    "    model.add(Dense(hidden_size, input_shape=(10,), activation=activation))\n",
    "    for i in range(n_layers - 1):\n",
    "        model.add(Dense(hidden_size, input_shape=(hidden_size,), activation=activation))\n",
    "    model.add(Dense(1, activation='sigmoid'))\n",
    "    # Compile model\n",
    "    optimizer = tf.keras.optimizers.legacy.Adam(learning_rate=lr)\n",
    "    model.compile(loss='binary_crossentropy', optimizer=optimizer, \n",
    "                  metrics=[km.AUC(curve='PR'), km.AUC(curve='ROC'), km.Precision(thresholds=base_thresh), \n",
    "                           km.Recall(thresholds=base_thresh)])\n",
    "    return model"
   ]
  },
  {
   "cell_type": "markdown",
   "id": "0eb0658a-f1e1-4042-a4ca-7bc4bc6b75f6",
   "metadata": {},
   "source": [
    "##### Functions to try different hyperparams"
   ]
  },
  {
   "cell_type": "code",
   "execution_count": 22,
   "id": "3b391729-7052-4984-9cc3-47b43a75bd43",
   "metadata": {},
   "outputs": [],
   "source": [
    "def do_model_acts(X_train, y_train, X_val, y_val, \n",
    "                  activation_list = ['tanh', 'softmax', 'linear', 'relu', 'leaky_relu'],\n",
    "                  batch_size = 32, epochs=20, base_thresh  = 0.2, \n",
    "                  n_feat = 10, hidden_size = 4, n_layers = 2, lr=0.001):\n",
    "    \n",
    "    name_map = ['loss', 'auc', 'precision', 'recall']\n",
    "    all_hist = pd.DataFrame()\n",
    "    for i, act in enumerate(activation_list):\n",
    "        print(f'{i}:{act}')\n",
    "        try:\n",
    "            this_model = create_baseline(base_thresh = base_thresh, n_feat = n_feat,\n",
    "                                     hidden_size = hidden_size, n_layers = n_layers,\n",
    "                                     activation= act, lr=lr)\n",
    "            this_history = this_model.fit( X_train, y_train,\n",
    "                                          validation_data=(X_val, y_val),\n",
    "                                          batch_size=batch_size,epochs=epochs)\n",
    "            this_history_df = pd.DataFrame(this_history.history)\n",
    "        except:\n",
    "            continue\n",
    "        start_cols = this_history_df.columns\n",
    "        try:\n",
    "            this_history_df.columns = ['_'.join(c.split('_')[0:-1])  \\\n",
    "                                       if re.search(r'_\\d+$', c) else c \\\n",
    "                                       for c in start_cols]\n",
    "        except:\n",
    "            this_history_df.columns = start_cols\n",
    "        this_history_df['run_id'] = i\n",
    "        this_history_df['activation'] = act\n",
    "        this_history_df['batch_size'] = batch_size\n",
    "        this_history_df['epochs'] = epochs\n",
    "        this_history_df['base_thresh'] = base_thresh\n",
    "        this_history_df['n_feat'] = n_feat\n",
    "        this_history_df['hidden_size'] = hidden_size\n",
    "        this_history_df['n_layers'] = n_layers\n",
    "        this_history_df['learning_rate'] = lr\n",
    "        all_hist = pd.concat([all_hist, this_history_df])\n",
    "        \n",
    "        \n",
    "    return all_hist"
   ]
  },
  {
   "cell_type": "code",
   "execution_count": 23,
   "id": "918f48e3-f2c3-415a-ad72-c59cc3c392eb",
   "metadata": {},
   "outputs": [],
   "source": [
    "def do_model_trials_hidden_size(X_train, y_train, X_val, y_val, \n",
    "                  activation = 'tanh',\n",
    "                  batch_size = 32, epochs=15, base_thresh  = 0.2, \n",
    "                  n_feat = 10, hidden_size_ary = [4, 8, 16, 32], n_layers = 2,\n",
    "                             lr=0.001):\n",
    "    \n",
    "    name_map = ['loss', 'auc', 'precision', 'recall']\n",
    "    all_hist = pd.DataFrame()\n",
    "    for i, x in enumerate(hidden_size_ary):\n",
    "        print(f'{i}:{x}')\n",
    "        try:\n",
    "            this_model = create_baseline(base_thresh = base_thresh, n_feat = n_feat,\n",
    "                                     hidden_size = x, n_layers = n_layers,\n",
    "                                     activation= activation, lr=lr)\n",
    "            this_history = this_model.fit( X_train, y_train,\n",
    "                                          validation_data=(X_val, y_val),\n",
    "                                          batch_size=batch_size,epochs=epochs)\n",
    "            this_history_df = pd.DataFrame(this_history.history)\n",
    "        except:\n",
    "            continue\n",
    "        start_cols = this_history_df.columns\n",
    "        try:\n",
    "            this_history_df.columns = ['_'.join(c.split('_')[0:-1])  \\\n",
    "                                       if re.search(r'_\\d+$', c) else c \\\n",
    "                                       for c in start_cols]\n",
    "        except:\n",
    "            this_history_df.columns = start_cols\n",
    "        this_history_df['run_id'] = i\n",
    "        this_history_df['activation'] = activation\n",
    "        this_history_df['batch_size'] = batch_size\n",
    "        this_history_df['epochs'] = epochs\n",
    "        this_history_df['base_thresh'] = base_thresh\n",
    "        this_history_df['n_feat'] = n_feat\n",
    "        this_history_df['hidden_size'] = x\n",
    "        this_history_df['n_layers'] = n_layers\n",
    "        this_history_df['learning_rate'] = lr\n",
    "        all_hist = pd.concat([all_hist, this_history_df])\n",
    "        \n",
    "        \n",
    "    return all_hist"
   ]
  },
  {
   "cell_type": "code",
   "execution_count": 41,
   "id": "be52db0e-8501-409e-a3f3-6d3626eafeac",
   "metadata": {},
   "outputs": [],
   "source": [
    "def do_model_trials_batch(X_train, y_train, X_val, y_val, \n",
    "                  activation = 'tanh',\n",
    "                  batch_ary = [16, 32, 64, 128], epochs=15, base_thresh  = 0.2, \n",
    "                  n_feat = 10, hidden_size = 16, n_layers = 2,\n",
    "                             lr=0.0005):\n",
    "    \n",
    "    name_map = ['loss', 'auc', 'precision', 'recall']\n",
    "    all_hist = pd.DataFrame()\n",
    "    for i, x in enumerate(batch_ary):\n",
    "        print(f'{i}:{x}')\n",
    "        try:\n",
    "            this_model = create_baseline(base_thresh = base_thresh, n_feat = n_feat,\n",
    "                                     hidden_size = hidden_size, n_layers = n_layers,\n",
    "                                     activation= activation, lr=lr)\n",
    "            this_history = this_model.fit( X_train, y_train,\n",
    "                                          validation_data=(X_val, y_val),\n",
    "                                          batch_size=x, epochs=epochs)\n",
    "            this_history_df = pd.DataFrame(this_history.history)\n",
    "        except:\n",
    "            continue\n",
    "        start_cols = this_history_df.columns\n",
    "        try:\n",
    "            this_history_df.columns = ['_'.join(c.split('_')[0:-1])  \\\n",
    "                                       if re.search(r'_\\d+$', c) else c \\\n",
    "                                       for c in start_cols]\n",
    "        except:\n",
    "            this_history_df.columns = start_cols\n",
    "        this_history_df['run_id'] = i\n",
    "        this_history_df['activation'] = activation\n",
    "        this_history_df['batch_size'] = x\n",
    "        this_history_df['epochs'] = epochs\n",
    "        this_history_df['base_thresh'] = base_thresh\n",
    "        this_history_df['n_feat'] = n_feat\n",
    "        this_history_df['hidden_size'] = hidden_size\n",
    "        this_history_df['n_layers'] = n_layers\n",
    "        this_history_df['learning_rate'] = lr\n",
    "        all_hist = pd.concat([all_hist, this_history_df])\n",
    "        \n",
    "        \n",
    "    return all_hist"
   ]
  },
  {
   "cell_type": "code",
   "execution_count": 25,
   "id": "dde92b3c-2913-411f-88b0-328cd6e69dd4",
   "metadata": {},
   "outputs": [],
   "source": [
    "def train_plot(data, field='val_auc', group_field='activation'):\n",
    "    pivot_data = data[[field, group_field]].pivot(columns=group_field, values=field)\n",
    "    fig, ax = plt.subplots()\n",
    "    pivot_data.plot(ax=ax)\n",
    "    ax.set_ylabel(field)\n",
    "    ax.set_xlabel('epoch')"
   ]
  },
  {
   "cell_type": "markdown",
   "id": "959f8a39-4810-457c-a358-6f11040a6908",
   "metadata": {},
   "source": [
    "## Hyperparameter Search - Activation Function"
   ]
  },
  {
   "cell_type": "code",
   "execution_count": 85,
   "id": "8a628e4d-99ea-403c-a28f-66cfc00f8f3d",
   "metadata": {},
   "outputs": [
    {
     "name": "stdout",
     "output_type": "stream",
     "text": [
      "0:tanh\n",
      "Epoch 1/20\n"
     ]
    },
    {
     "name": "stderr",
     "output_type": "stream",
     "text": [
      "2024-01-02 22:28:57.074962: I tensorflow/core/grappler/optimizers/custom_graph_optimizer_registry.cc:114] Plugin optimizer for device_type GPU is enabled.\n"
     ]
    },
    {
     "name": "stdout",
     "output_type": "stream",
     "text": [
      "12902/12902 [==============================] - ETA: 0s - loss: 0.4731 - auc_30: 0.3033 - auc_31: 0.6729 - precision_15: 0.2902 - recall_15: 0.7203"
     ]
    },
    {
     "name": "stderr",
     "output_type": "stream",
     "text": [
      "2024-01-02 22:32:47.102859: I tensorflow/core/grappler/optimizers/custom_graph_optimizer_registry.cc:114] Plugin optimizer for device_type GPU is enabled.\n"
     ]
    },
    {
     "name": "stdout",
     "output_type": "stream",
     "text": [
      "12902/12902 [==============================] - 292s 23ms/step - loss: 0.4731 - auc_30: 0.3033 - auc_31: 0.6729 - precision_15: 0.2902 - recall_15: 0.7203 - val_loss: 0.4689 - val_auc_30: 0.3181 - val_auc_31: 0.6825 - val_precision_15: 0.2915 - val_recall_15: 0.7594\n",
      "Epoch 2/20\n",
      "12902/12902 [==============================] - 211s 16ms/step - loss: 0.4680 - auc_30: 0.3195 - auc_31: 0.6829 - precision_15: 0.2943 - recall_15: 0.7376 - val_loss: 0.4677 - val_auc_30: 0.3200 - val_auc_31: 0.6838 - val_precision_15: 0.3012 - val_recall_15: 0.6879\n",
      "Epoch 3/20\n",
      "12902/12902 [==============================] - 210s 16ms/step - loss: 0.4663 - auc_30: 0.3223 - auc_31: 0.6855 - precision_15: 0.2936 - recall_15: 0.7533 - val_loss: 0.4647 - val_auc_30: 0.3244 - val_auc_31: 0.6880 - val_precision_15: 0.2939 - val_recall_15: 0.7628\n",
      "Epoch 4/20\n",
      "12902/12902 [==============================] - 412s 32ms/step - loss: 0.4642 - auc_30: 0.3282 - auc_31: 0.6903 - precision_15: 0.2937 - recall_15: 0.7691 - val_loss: 0.4631 - val_auc_30: 0.3340 - val_auc_31: 0.6943 - val_precision_15: 0.2980 - val_recall_15: 0.7455\n",
      "Epoch 5/20\n",
      "12902/12902 [==============================] - 1403s 109ms/step - loss: 0.4630 - auc_30: 0.3349 - auc_31: 0.6946 - precision_15: 0.2935 - recall_15: 0.7749 - val_loss: 0.4620 - val_auc_30: 0.3380 - val_auc_31: 0.6971 - val_precision_15: 0.2950 - val_recall_15: 0.7724\n",
      "Epoch 6/20\n",
      "12902/12902 [==============================] - 205s 16ms/step - loss: 0.4626 - auc_30: 0.3361 - auc_31: 0.6956 - precision_15: 0.2932 - recall_15: 0.7766 - val_loss: 0.4623 - val_auc_30: 0.3386 - val_auc_31: 0.6975 - val_precision_15: 0.2995 - val_recall_15: 0.7409\n",
      "Epoch 7/20\n",
      "12902/12902 [==============================] - 205s 16ms/step - loss: 0.4625 - auc_30: 0.3362 - auc_31: 0.6958 - precision_15: 0.2938 - recall_15: 0.7755 - val_loss: 0.4618 - val_auc_30: 0.3395 - val_auc_31: 0.6983 - val_precision_15: 0.2955 - val_recall_15: 0.7684\n",
      "Epoch 8/20\n",
      "12902/12902 [==============================] - 205s 16ms/step - loss: 0.4624 - auc_30: 0.3368 - auc_31: 0.6961 - precision_15: 0.2934 - recall_15: 0.7761 - val_loss: 0.4618 - val_auc_30: 0.3394 - val_auc_31: 0.6982 - val_precision_15: 0.2970 - val_recall_15: 0.7574\n",
      "Epoch 9/20\n",
      "12902/12902 [==============================] - 205s 16ms/step - loss: 0.4623 - auc_30: 0.3369 - auc_31: 0.6964 - precision_15: 0.2935 - recall_15: 0.7747 - val_loss: 0.4614 - val_auc_30: 0.3392 - val_auc_31: 0.6984 - val_precision_15: 0.2935 - val_recall_15: 0.7790\n",
      "Epoch 10/20\n",
      "12902/12902 [==============================] - 206s 16ms/step - loss: 0.4623 - auc_30: 0.3368 - auc_31: 0.6964 - precision_15: 0.2934 - recall_15: 0.7753 - val_loss: 0.4620 - val_auc_30: 0.3389 - val_auc_31: 0.6977 - val_precision_15: 0.2993 - val_recall_15: 0.7406\n",
      "Epoch 11/20\n",
      "12902/12902 [==============================] - 206s 16ms/step - loss: 0.4622 - auc_30: 0.3366 - auc_31: 0.6963 - precision_15: 0.2933 - recall_15: 0.7758 - val_loss: 0.4621 - val_auc_30: 0.3397 - val_auc_31: 0.6975 - val_precision_15: 0.2882 - val_recall_15: 0.8012\n",
      "Epoch 12/20\n",
      "12902/12902 [==============================] - 206s 16ms/step - loss: 0.4622 - auc_30: 0.3371 - auc_31: 0.6966 - precision_15: 0.2935 - recall_15: 0.7767 - val_loss: 0.4622 - val_auc_30: 0.3395 - val_auc_31: 0.6980 - val_precision_15: 0.3017 - val_recall_15: 0.7230\n",
      "Epoch 13/20\n",
      "12902/12902 [==============================] - 206s 16ms/step - loss: 0.4621 - auc_30: 0.3371 - auc_31: 0.6967 - precision_15: 0.2936 - recall_15: 0.7747 - val_loss: 0.4613 - val_auc_30: 0.3399 - val_auc_31: 0.6984 - val_precision_15: 0.2946 - val_recall_15: 0.7722\n",
      "Epoch 14/20\n",
      "12902/12902 [==============================] - 206s 16ms/step - loss: 0.4621 - auc_30: 0.3375 - auc_31: 0.6969 - precision_15: 0.2932 - recall_15: 0.7758 - val_loss: 0.4611 - val_auc_30: 0.3406 - val_auc_31: 0.6990 - val_precision_15: 0.2937 - val_recall_15: 0.7795\n",
      "Epoch 15/20\n",
      "12902/12902 [==============================] - 205s 16ms/step - loss: 0.4620 - auc_30: 0.3376 - auc_31: 0.6972 - precision_15: 0.2932 - recall_15: 0.7761 - val_loss: 0.4612 - val_auc_30: 0.3403 - val_auc_31: 0.6987 - val_precision_15: 0.2959 - val_recall_15: 0.7671\n",
      "Epoch 16/20\n",
      "12902/12902 [==============================] - 205s 16ms/step - loss: 0.4619 - auc_30: 0.3377 - auc_31: 0.6974 - precision_15: 0.2936 - recall_15: 0.7755 - val_loss: 0.4610 - val_auc_30: 0.3413 - val_auc_31: 0.6996 - val_precision_15: 0.2928 - val_recall_15: 0.7832\n",
      "Epoch 17/20\n",
      "12902/12902 [==============================] - 205s 16ms/step - loss: 0.4619 - auc_30: 0.3379 - auc_31: 0.6976 - precision_15: 0.2933 - recall_15: 0.7777 - val_loss: 0.4610 - val_auc_30: 0.3407 - val_auc_31: 0.6995 - val_precision_15: 0.2957 - val_recall_15: 0.7675\n",
      "Epoch 18/20\n",
      "12902/12902 [==============================] - 205s 16ms/step - loss: 0.4618 - auc_30: 0.3376 - auc_31: 0.6977 - precision_15: 0.2937 - recall_15: 0.7767 - val_loss: 0.4615 - val_auc_30: 0.3415 - val_auc_31: 0.6998 - val_precision_15: 0.2883 - val_recall_15: 0.8077\n",
      "Epoch 19/20\n",
      "12902/12902 [==============================] - 206s 16ms/step - loss: 0.4618 - auc_30: 0.3382 - auc_31: 0.6979 - precision_15: 0.2937 - recall_15: 0.7779 - val_loss: 0.4609 - val_auc_30: 0.3417 - val_auc_31: 0.7001 - val_precision_15: 0.2962 - val_recall_15: 0.7649\n",
      "Epoch 20/20\n",
      "12902/12902 [==============================] - 206s 16ms/step - loss: 0.4617 - auc_30: 0.3384 - auc_31: 0.6982 - precision_15: 0.2942 - recall_15: 0.7747 - val_loss: 0.4608 - val_auc_30: 0.3415 - val_auc_31: 0.7002 - val_precision_15: 0.2933 - val_recall_15: 0.7831\n",
      "1:softmax\n",
      "Epoch 1/20\n"
     ]
    },
    {
     "name": "stderr",
     "output_type": "stream",
     "text": [
      "2024-01-03 00:02:26.642788: I tensorflow/core/grappler/optimizers/custom_graph_optimizer_registry.cc:114] Plugin optimizer for device_type GPU is enabled.\n"
     ]
    },
    {
     "name": "stdout",
     "output_type": "stream",
     "text": [
      "12902/12902 [==============================] - ETA: 0s - loss: 0.4795 - auc_32: 0.2840 - auc_33: 0.6594 - precision_16: 0.2759 - recall_16: 0.7708"
     ]
    },
    {
     "name": "stderr",
     "output_type": "stream",
     "text": [
      "2024-01-03 00:05:04.285306: I tensorflow/core/grappler/optimizers/custom_graph_optimizer_registry.cc:114] Plugin optimizer for device_type GPU is enabled.\n"
     ]
    },
    {
     "name": "stdout",
     "output_type": "stream",
     "text": [
      "12902/12902 [==============================] - 210s 16ms/step - loss: 0.4795 - auc_32: 0.2840 - auc_33: 0.6594 - precision_16: 0.2759 - recall_16: 0.7708 - val_loss: 0.4669 - val_auc_32: 0.3175 - val_auc_33: 0.6840 - val_precision_16: 0.2964 - val_recall_16: 0.7429\n",
      "Epoch 2/20\n",
      "12902/12902 [==============================] - 209s 16ms/step - loss: 0.4661 - auc_32: 0.3200 - auc_33: 0.6862 - precision_16: 0.2949 - recall_16: 0.7565 - val_loss: 0.4652 - val_auc_32: 0.3217 - val_auc_33: 0.6878 - val_precision_16: 0.2951 - val_recall_16: 0.7619\n",
      "Epoch 3/20\n",
      "12902/12902 [==============================] - 2817s 218ms/step - loss: 0.4652 - auc_32: 0.3223 - auc_33: 0.6881 - precision_16: 0.2942 - recall_16: 0.7681 - val_loss: 0.4648 - val_auc_32: 0.3229 - val_auc_33: 0.6890 - val_precision_16: 0.2964 - val_recall_16: 0.7528\n",
      "Epoch 4/20\n",
      "12902/12902 [==============================] - 2006s 155ms/step - loss: 0.4648 - auc_32: 0.3238 - auc_33: 0.6891 - precision_16: 0.2936 - recall_16: 0.7723 - val_loss: 0.4643 - val_auc_32: 0.3245 - val_auc_33: 0.6900 - val_precision_16: 0.2936 - val_recall_16: 0.7724\n",
      "Epoch 5/20\n",
      "12902/12902 [==============================] - 3807s 295ms/step - loss: 0.4645 - auc_32: 0.3253 - auc_33: 0.6899 - precision_16: 0.2936 - recall_16: 0.7752 - val_loss: 0.4640 - val_auc_32: 0.3258 - val_auc_33: 0.6910 - val_precision_16: 0.2948 - val_recall_16: 0.7639\n",
      "Epoch 6/20\n",
      "12902/12902 [==============================] - 205s 16ms/step - loss: 0.4642 - auc_32: 0.3260 - auc_33: 0.6906 - precision_16: 0.2929 - recall_16: 0.7772 - val_loss: 0.4638 - val_auc_32: 0.3264 - val_auc_33: 0.6909 - val_precision_16: 0.2948 - val_recall_16: 0.7656\n",
      "Epoch 7/20\n",
      "12902/12902 [==============================] - 1105s 86ms/step - loss: 0.4640 - auc_32: 0.3267 - auc_33: 0.6910 - precision_16: 0.2926 - recall_16: 0.7776 - val_loss: 0.4635 - val_auc_32: 0.3272 - val_auc_33: 0.6915 - val_precision_16: 0.2934 - val_recall_16: 0.7775\n",
      "Epoch 8/20\n",
      "12902/12902 [==============================] - 2055s 159ms/step - loss: 0.4639 - auc_32: 0.3265 - auc_33: 0.6912 - precision_16: 0.2926 - recall_16: 0.7799 - val_loss: 0.4633 - val_auc_32: 0.3281 - val_auc_33: 0.6921 - val_precision_16: 0.2943 - val_recall_16: 0.7719\n",
      "Epoch 9/20\n",
      "12902/12902 [==============================] - 204s 16ms/step - loss: 0.4638 - auc_32: 0.3269 - auc_33: 0.6916 - precision_16: 0.2925 - recall_16: 0.7802 - val_loss: 0.4632 - val_auc_32: 0.3287 - val_auc_33: 0.6922 - val_precision_16: 0.2940 - val_recall_16: 0.7751\n",
      "Epoch 10/20\n",
      "12902/12902 [==============================] - 1105s 86ms/step - loss: 0.4637 - auc_32: 0.3273 - auc_33: 0.6916 - precision_16: 0.2924 - recall_16: 0.7807 - val_loss: 0.4635 - val_auc_32: 0.3285 - val_auc_33: 0.6921 - val_precision_16: 0.2976 - val_recall_16: 0.7510\n",
      "Epoch 11/20\n",
      "12902/12902 [==============================] - 205s 16ms/step - loss: 0.4636 - auc_32: 0.3275 - auc_33: 0.6918 - precision_16: 0.2923 - recall_16: 0.7809 - val_loss: 0.4634 - val_auc_32: 0.3290 - val_auc_33: 0.6924 - val_precision_16: 0.2974 - val_recall_16: 0.7537\n",
      "Epoch 12/20\n",
      "12902/12902 [==============================] - 1106s 86ms/step - loss: 0.4636 - auc_32: 0.3278 - auc_33: 0.6920 - precision_16: 0.2924 - recall_16: 0.7796 - val_loss: 0.4632 - val_auc_32: 0.3289 - val_auc_33: 0.6923 - val_precision_16: 0.2960 - val_recall_16: 0.7634\n",
      "Epoch 13/20\n",
      "12902/12902 [==============================] - 206s 16ms/step - loss: 0.4636 - auc_32: 0.3277 - auc_33: 0.6918 - precision_16: 0.2923 - recall_16: 0.7817 - val_loss: 0.4630 - val_auc_32: 0.3295 - val_auc_33: 0.6928 - val_precision_16: 0.2916 - val_recall_16: 0.7886\n",
      "Epoch 14/20\n",
      "12902/12902 [==============================] - 1105s 86ms/step - loss: 0.4635 - auc_32: 0.3282 - auc_33: 0.6920 - precision_16: 0.2925 - recall_16: 0.7799 - val_loss: 0.4633 - val_auc_32: 0.3295 - val_auc_33: 0.6926 - val_precision_16: 0.2878 - val_recall_16: 0.8074\n",
      "Epoch 15/20\n",
      "12902/12902 [==============================] - 206s 16ms/step - loss: 0.4635 - auc_32: 0.3283 - auc_33: 0.6920 - precision_16: 0.2926 - recall_16: 0.7819 - val_loss: 0.4630 - val_auc_32: 0.3297 - val_auc_33: 0.6928 - val_precision_16: 0.2944 - val_recall_16: 0.7742\n",
      "Epoch 16/20\n",
      "12902/12902 [==============================] - 206s 16ms/step - loss: 0.4635 - auc_32: 0.3283 - auc_33: 0.6922 - precision_16: 0.2927 - recall_16: 0.7799 - val_loss: 0.4629 - val_auc_32: 0.3300 - val_auc_33: 0.6930 - val_precision_16: 0.2915 - val_recall_16: 0.7878\n",
      "Epoch 17/20\n",
      "12902/12902 [==============================] - 205s 16ms/step - loss: 0.4635 - auc_32: 0.3282 - auc_33: 0.6921 - precision_16: 0.2926 - recall_16: 0.7803 - val_loss: 0.4629 - val_auc_32: 0.3301 - val_auc_33: 0.6931 - val_precision_16: 0.2924 - val_recall_16: 0.7857\n",
      "Epoch 18/20\n",
      "12902/12902 [==============================] - 206s 16ms/step - loss: 0.4634 - auc_32: 0.3287 - auc_33: 0.6921 - precision_16: 0.2927 - recall_16: 0.7798 - val_loss: 0.4632 - val_auc_32: 0.3300 - val_auc_33: 0.6928 - val_precision_16: 0.2900 - val_recall_16: 0.7969\n",
      "Epoch 19/20\n",
      "12902/12902 [==============================] - 205s 16ms/step - loss: 0.4634 - auc_32: 0.3289 - auc_33: 0.6921 - precision_16: 0.2927 - recall_16: 0.7795 - val_loss: 0.4629 - val_auc_32: 0.3299 - val_auc_33: 0.6928 - val_precision_16: 0.2929 - val_recall_16: 0.7844\n",
      "Epoch 20/20\n",
      "12902/12902 [==============================] - 204s 16ms/step - loss: 0.4634 - auc_32: 0.3292 - auc_33: 0.6923 - precision_16: 0.2928 - recall_16: 0.7793 - val_loss: 0.4629 - val_auc_32: 0.3298 - val_auc_33: 0.6925 - val_precision_16: 0.2939 - val_recall_16: 0.7796\n",
      "2:linear\n",
      "Epoch 1/20\n"
     ]
    },
    {
     "name": "stderr",
     "output_type": "stream",
     "text": [
      "2024-01-03 04:55:23.021401: I tensorflow/core/grappler/optimizers/custom_graph_optimizer_registry.cc:114] Plugin optimizer for device_type GPU is enabled.\n"
     ]
    },
    {
     "name": "stdout",
     "output_type": "stream",
     "text": [
      "12902/12902 [==============================] - ETA: 0s - loss: 0.4724 - auc_34: 0.3021 - auc_35: 0.6730 - precision_17: 0.2911 - recall_17: 0.7361"
     ]
    },
    {
     "name": "stderr",
     "output_type": "stream",
     "text": [
      "2024-01-03 04:57:51.282837: I tensorflow/core/grappler/optimizers/custom_graph_optimizer_registry.cc:114] Plugin optimizer for device_type GPU is enabled.\n"
     ]
    },
    {
     "name": "stdout",
     "output_type": "stream",
     "text": [
      "12902/12902 [==============================] - 200s 15ms/step - loss: 0.4724 - auc_34: 0.3021 - auc_35: 0.6730 - precision_17: 0.2911 - recall_17: 0.7361 - val_loss: 0.4706 - val_auc_34: 0.3120 - val_auc_35: 0.6776 - val_precision_17: 0.3018 - val_recall_17: 0.6817\n",
      "Epoch 2/20\n",
      "12902/12902 [==============================] - 198s 15ms/step - loss: 0.4706 - auc_34: 0.3124 - auc_35: 0.6769 - precision_17: 0.2939 - recall_17: 0.7315 - val_loss: 0.4703 - val_auc_34: 0.3123 - val_auc_35: 0.6774 - val_precision_17: 0.2961 - val_recall_17: 0.7312\n",
      "Epoch 3/20\n",
      "12902/12902 [==============================] - 198s 15ms/step - loss: 0.4705 - auc_34: 0.3126 - auc_35: 0.6770 - precision_17: 0.2939 - recall_17: 0.7318 - val_loss: 0.4703 - val_auc_34: 0.3134 - val_auc_35: 0.6773 - val_precision_17: 0.2947 - val_recall_17: 0.7371\n",
      "Epoch 4/20\n",
      "12902/12902 [==============================] - 199s 15ms/step - loss: 0.4705 - auc_34: 0.3128 - auc_35: 0.6772 - precision_17: 0.2940 - recall_17: 0.7315 - val_loss: 0.4711 - val_auc_34: 0.3134 - val_auc_35: 0.6773 - val_precision_17: 0.2830 - val_recall_17: 0.7914\n",
      "Epoch 5/20\n",
      "12902/12902 [==============================] - 199s 15ms/step - loss: 0.4705 - auc_34: 0.3128 - auc_35: 0.6772 - precision_17: 0.2939 - recall_17: 0.7333 - val_loss: 0.4708 - val_auc_34: 0.3125 - val_auc_35: 0.6771 - val_precision_17: 0.3013 - val_recall_17: 0.6840\n",
      "Epoch 6/20\n",
      "12902/12902 [==============================] - 198s 15ms/step - loss: 0.4705 - auc_34: 0.3128 - auc_35: 0.6772 - precision_17: 0.2942 - recall_17: 0.7320 - val_loss: 0.4707 - val_auc_34: 0.3124 - val_auc_35: 0.6772 - val_precision_17: 0.3013 - val_recall_17: 0.6859\n",
      "Epoch 7/20\n",
      "12902/12902 [==============================] - 199s 15ms/step - loss: 0.4704 - auc_34: 0.3129 - auc_35: 0.6773 - precision_17: 0.2942 - recall_17: 0.7332 - val_loss: 0.4703 - val_auc_34: 0.3127 - val_auc_35: 0.6773 - val_precision_17: 0.2979 - val_recall_17: 0.7156\n",
      "Epoch 8/20\n",
      "12902/12902 [==============================] - 200s 15ms/step - loss: 0.4705 - auc_34: 0.3128 - auc_35: 0.6773 - precision_17: 0.2944 - recall_17: 0.7327 - val_loss: 0.4702 - val_auc_34: 0.3134 - val_auc_35: 0.6771 - val_precision_17: 0.2934 - val_recall_17: 0.7404\n",
      "Epoch 9/20\n",
      "12902/12902 [==============================] - 199s 15ms/step - loss: 0.4704 - auc_34: 0.3133 - auc_35: 0.6774 - precision_17: 0.2942 - recall_17: 0.7321 - val_loss: 0.4703 - val_auc_34: 0.3118 - val_auc_35: 0.6764 - val_precision_17: 0.2945 - val_recall_17: 0.7360\n",
      "Epoch 10/20\n",
      "12902/12902 [==============================] - 200s 16ms/step - loss: 0.4705 - auc_34: 0.3129 - auc_35: 0.6772 - precision_17: 0.2940 - recall_17: 0.7332 - val_loss: 0.4703 - val_auc_34: 0.3114 - val_auc_35: 0.6770 - val_precision_17: 0.2949 - val_recall_17: 0.7345\n",
      "Epoch 11/20\n",
      "12902/12902 [==============================] - 200s 16ms/step - loss: 0.4704 - auc_34: 0.3130 - auc_35: 0.6773 - precision_17: 0.2946 - recall_17: 0.7332 - val_loss: 0.4704 - val_auc_34: 0.3104 - val_auc_35: 0.6769 - val_precision_17: 0.2965 - val_recall_17: 0.7235\n",
      "Epoch 12/20\n",
      "12902/12902 [==============================] - 1100s 85ms/step - loss: 0.4704 - auc_34: 0.3129 - auc_35: 0.6775 - precision_17: 0.2944 - recall_17: 0.7331 - val_loss: 0.4702 - val_auc_34: 0.3128 - val_auc_35: 0.6772 - val_precision_17: 0.2965 - val_recall_17: 0.7247\n",
      "Epoch 13/20\n",
      "12902/12902 [==============================] - 359s 28ms/step - loss: 0.4704 - auc_34: 0.3133 - auc_35: 0.6774 - precision_17: 0.2942 - recall_17: 0.7328 - val_loss: 0.4705 - val_auc_34: 0.3127 - val_auc_35: 0.6772 - val_precision_17: 0.2995 - val_recall_17: 0.7002\n",
      "Epoch 14/20\n",
      "12902/12902 [==============================] - 199s 15ms/step - loss: 0.4704 - auc_34: 0.3133 - auc_35: 0.6774 - precision_17: 0.2943 - recall_17: 0.7320 - val_loss: 0.4706 - val_auc_34: 0.3128 - val_auc_35: 0.6772 - val_precision_17: 0.2861 - val_recall_17: 0.7794\n",
      "Epoch 15/20\n",
      "12902/12902 [==============================] - 1417s 110ms/step - loss: 0.4704 - auc_34: 0.3133 - auc_35: 0.6773 - precision_17: 0.2939 - recall_17: 0.7340 - val_loss: 0.4703 - val_auc_34: 0.3106 - val_auc_35: 0.6773 - val_precision_17: 0.2953 - val_recall_17: 0.7357\n",
      "Epoch 16/20\n",
      "12902/12902 [==============================] - 911s 71ms/step - loss: 0.4704 - auc_34: 0.3127 - auc_35: 0.6775 - precision_17: 0.2942 - recall_17: 0.7333 - val_loss: 0.4703 - val_auc_34: 0.3118 - val_auc_35: 0.6770 - val_precision_17: 0.2921 - val_recall_17: 0.7535\n",
      "Epoch 17/20\n",
      "12902/12902 [==============================] - 198s 15ms/step - loss: 0.4704 - auc_34: 0.3133 - auc_35: 0.6773 - precision_17: 0.2945 - recall_17: 0.7327 - val_loss: 0.4703 - val_auc_34: 0.3127 - val_auc_35: 0.6775 - val_precision_17: 0.2977 - val_recall_17: 0.7162\n",
      "Epoch 18/20\n",
      "12902/12902 [==============================] - 1382s 107ms/step - loss: 0.4704 - auc_34: 0.3133 - auc_35: 0.6775 - precision_17: 0.2948 - recall_17: 0.7328 - val_loss: 0.4702 - val_auc_34: 0.3120 - val_auc_35: 0.6775 - val_precision_17: 0.2955 - val_recall_17: 0.7316\n",
      "Epoch 19/20\n",
      "12902/12902 [==============================] - 1136s 88ms/step - loss: 0.4704 - auc_34: 0.3131 - auc_35: 0.6775 - precision_17: 0.2944 - recall_17: 0.7342 - val_loss: 0.4703 - val_auc_34: 0.3118 - val_auc_35: 0.6773 - val_precision_17: 0.2981 - val_recall_17: 0.7166\n",
      "Epoch 20/20\n",
      "12902/12902 [==============================] - 444s 34ms/step - loss: 0.4703 - auc_34: 0.3132 - auc_35: 0.6776 - precision_17: 0.2942 - recall_17: 0.7314 - val_loss: 0.4708 - val_auc_34: 0.3124 - val_auc_35: 0.6769 - val_precision_17: 0.3001 - val_recall_17: 0.6974\n",
      "3:relu\n",
      "Epoch 1/20\n"
     ]
    },
    {
     "name": "stderr",
     "output_type": "stream",
     "text": [
      "2024-01-03 07:30:58.361488: I tensorflow/core/grappler/optimizers/custom_graph_optimizer_registry.cc:114] Plugin optimizer for device_type GPU is enabled.\n"
     ]
    },
    {
     "name": "stdout",
     "output_type": "stream",
     "text": [
      "12902/12902 [==============================] - ETA: 0s - loss: 0.4737 - auc_36: 0.3005 - auc_37: 0.6708 - precision_18: 0.2906 - recall_18: 0.7195"
     ]
    },
    {
     "name": "stderr",
     "output_type": "stream",
     "text": [
      "2024-01-03 07:53:47.369126: I tensorflow/core/grappler/optimizers/custom_graph_optimizer_registry.cc:114] Plugin optimizer for device_type GPU is enabled.\n"
     ]
    },
    {
     "name": "stdout",
     "output_type": "stream",
     "text": [
      "12902/12902 [==============================] - 1421s 110ms/step - loss: 0.4737 - auc_36: 0.3005 - auc_37: 0.6708 - precision_18: 0.2906 - recall_18: 0.7195 - val_loss: 0.4716 - val_auc_36: 0.3144 - val_auc_37: 0.6770 - val_precision_18: 0.2913 - val_recall_18: 0.7546\n",
      "Epoch 2/20\n",
      "12902/12902 [==============================] - 1098s 85ms/step - loss: 0.4721 - auc_36: 0.3117 - auc_37: 0.6758 - precision_18: 0.2983 - recall_18: 0.7008 - val_loss: 0.4722 - val_auc_36: 0.3109 - val_auc_37: 0.6749 - val_precision_18: 0.2994 - val_recall_18: 0.6883\n",
      "Epoch 3/20\n",
      "12902/12902 [==============================] - 1490s 116ms/step - loss: 0.4729 - auc_36: 0.3079 - auc_37: 0.6735 - precision_18: 0.2960 - recall_18: 0.7001 - val_loss: 0.4736 - val_auc_36: 0.3009 - val_auc_37: 0.6713 - val_precision_18: 0.2946 - val_recall_18: 0.7001\n",
      "Epoch 4/20\n",
      "12902/12902 [==============================] - 201s 16ms/step - loss: 0.4739 - auc_36: 0.3046 - auc_37: 0.6710 - precision_18: 0.2937 - recall_18: 0.6927 - val_loss: 0.4742 - val_auc_36: 0.3081 - val_auc_37: 0.6715 - val_precision_18: 0.2965 - val_recall_18: 0.6761\n",
      "Epoch 5/20\n",
      "12902/12902 [==============================] - 1101s 85ms/step - loss: 0.4742 - auc_36: 0.3055 - auc_37: 0.6709 - precision_18: 0.2939 - recall_18: 0.6879 - val_loss: 0.4749 - val_auc_36: 0.3113 - val_auc_37: 0.6713 - val_precision_18: 0.2982 - val_recall_18: 0.6540\n",
      "Epoch 6/20\n",
      "12902/12902 [==============================] - 1101s 85ms/step - loss: 0.4743 - auc_36: 0.3058 - auc_37: 0.6713 - precision_18: 0.2955 - recall_18: 0.6837 - val_loss: 0.4737 - val_auc_36: 0.3113 - val_auc_37: 0.6736 - val_precision_18: 0.2999 - val_recall_18: 0.6568\n",
      "Epoch 7/20\n",
      "12902/12902 [==============================] - 200s 16ms/step - loss: 0.4742 - auc_36: 0.3076 - auc_37: 0.6719 - precision_18: 0.2957 - recall_18: 0.6802 - val_loss: 0.4738 - val_auc_36: 0.3037 - val_auc_37: 0.6729 - val_precision_18: 0.2977 - val_recall_18: 0.6696\n",
      "Epoch 8/20\n",
      "12902/12902 [==============================] - 201s 16ms/step - loss: 0.4745 - auc_36: 0.3072 - auc_37: 0.6717 - precision_18: 0.2961 - recall_18: 0.6783 - val_loss: 0.4740 - val_auc_36: 0.3116 - val_auc_37: 0.6729 - val_precision_18: 0.2976 - val_recall_18: 0.6728\n",
      "Epoch 9/20\n",
      "12902/12902 [==============================] - 199s 15ms/step - loss: 0.4747 - auc_36: 0.3077 - auc_37: 0.6712 - precision_18: 0.2960 - recall_18: 0.6784 - val_loss: 0.4745 - val_auc_36: 0.3081 - val_auc_37: 0.6729 - val_precision_18: 0.3012 - val_recall_18: 0.6279\n",
      "Epoch 10/20\n",
      "12902/12902 [==============================] - 201s 16ms/step - loss: 0.4751 - auc_36: 0.3075 - auc_37: 0.6703 - precision_18: 0.2954 - recall_18: 0.6741 - val_loss: 0.4778 - val_auc_36: 0.2872 - val_auc_37: 0.6669 - val_precision_18: 0.2821 - val_recall_18: 0.7733\n",
      "Epoch 11/20\n",
      "12902/12902 [==============================] - 202s 16ms/step - loss: 0.4751 - auc_36: 0.3067 - auc_37: 0.6712 - precision_18: 0.2976 - recall_18: 0.6760 - val_loss: 0.4745 - val_auc_36: 0.3101 - val_auc_37: 0.6739 - val_precision_18: 0.3036 - val_recall_18: 0.6366\n",
      "Epoch 12/20\n",
      "12902/12902 [==============================] - 199s 15ms/step - loss: 0.4751 - auc_36: 0.3074 - auc_37: 0.6717 - precision_18: 0.2979 - recall_18: 0.6754 - val_loss: 0.4781 - val_auc_36: 0.3082 - val_auc_37: 0.6739 - val_precision_18: 0.2952 - val_recall_18: 0.7153\n",
      "Epoch 13/20\n",
      "12902/12902 [==============================] - 202s 16ms/step - loss: 0.4758 - auc_36: 0.3061 - auc_37: 0.6703 - precision_18: 0.2975 - recall_18: 0.6739 - val_loss: 0.4748 - val_auc_36: 0.3124 - val_auc_37: 0.6739 - val_precision_18: 0.3045 - val_recall_18: 0.6307\n",
      "Epoch 14/20\n",
      "12902/12902 [==============================] - 198s 15ms/step - loss: 0.4759 - auc_36: 0.3061 - auc_37: 0.6707 - precision_18: 0.2986 - recall_18: 0.6722 - val_loss: 0.4763 - val_auc_36: 0.3112 - val_auc_37: 0.6741 - val_precision_18: 0.3022 - val_recall_18: 0.6587\n",
      "Epoch 15/20\n",
      "12902/12902 [==============================] - 202s 16ms/step - loss: 0.4761 - auc_36: 0.3065 - auc_37: 0.6695 - precision_18: 0.2972 - recall_18: 0.6707 - val_loss: 0.4743 - val_auc_36: 0.3032 - val_auc_37: 0.6733 - val_precision_18: 0.2979 - val_recall_18: 0.6924\n",
      "Epoch 16/20\n",
      "12902/12902 [==============================] - 201s 16ms/step - loss: 0.4761 - auc_36: 0.3059 - auc_37: 0.6692 - precision_18: 0.2966 - recall_18: 0.6718 - val_loss: 0.4773 - val_auc_36: 0.2922 - val_auc_37: 0.6683 - val_precision_18: 0.2843 - val_recall_18: 0.7598\n",
      "Epoch 17/20\n",
      "12902/12902 [==============================] - 200s 16ms/step - loss: 0.4765 - auc_36: 0.3053 - auc_37: 0.6683 - precision_18: 0.2955 - recall_18: 0.6716 - val_loss: 0.4759 - val_auc_36: 0.2935 - val_auc_37: 0.6694 - val_precision_18: 0.2941 - val_recall_18: 0.6909\n",
      "Epoch 18/20\n",
      "12902/12902 [==============================] - 204s 16ms/step - loss: 0.4764 - auc_36: 0.3053 - auc_37: 0.6682 - precision_18: 0.2953 - recall_18: 0.6732 - val_loss: 0.4838 - val_auc_36: 0.2706 - val_auc_37: 0.6448 - val_precision_18: 0.2703 - val_recall_18: 0.7515\n",
      "Epoch 19/20\n",
      "12902/12902 [==============================] - 199s 15ms/step - loss: 0.4765 - auc_36: 0.3052 - auc_37: 0.6676 - precision_18: 0.2946 - recall_18: 0.6732 - val_loss: 0.4747 - val_auc_36: 0.2997 - val_auc_37: 0.6716 - val_precision_18: 0.2970 - val_recall_18: 0.6803\n",
      "Epoch 20/20\n",
      "12902/12902 [==============================] - 202s 16ms/step - loss: 0.4763 - auc_36: 0.3048 - auc_37: 0.6678 - precision_18: 0.2938 - recall_18: 0.6734 - val_loss: 0.4740 - val_auc_36: 0.3102 - val_auc_37: 0.6744 - val_precision_18: 0.3038 - val_recall_18: 0.6311\n",
      "4:leaky_relu\n",
      "Epoch 1/20\n"
     ]
    },
    {
     "name": "stderr",
     "output_type": "stream",
     "text": [
      "2024-01-03 10:04:41.848210: I tensorflow/core/grappler/optimizers/custom_graph_optimizer_registry.cc:114] Plugin optimizer for device_type GPU is enabled.\n"
     ]
    },
    {
     "name": "stdout",
     "output_type": "stream",
     "text": [
      "12902/12902 [==============================] - ETA: 0s - loss: 0.4700 - auc_38: 0.3132 - auc_39: 0.6777 - precision_19: 0.2918 - recall_19: 0.7386"
     ]
    },
    {
     "name": "stderr",
     "output_type": "stream",
     "text": [
      "2024-01-03 10:07:14.663006: I tensorflow/core/grappler/optimizers/custom_graph_optimizer_registry.cc:114] Plugin optimizer for device_type GPU is enabled.\n"
     ]
    },
    {
     "name": "stdout",
     "output_type": "stream",
     "text": [
      "12902/12902 [==============================] - 204s 16ms/step - loss: 0.4700 - auc_38: 0.3132 - auc_39: 0.6777 - precision_19: 0.2918 - recall_19: 0.7386 - val_loss: 0.4678 - val_auc_38: 0.3177 - val_auc_39: 0.6816 - val_precision_19: 0.2952 - val_recall_19: 0.7411\n",
      "Epoch 2/20\n",
      "12902/12902 [==============================] - 204s 16ms/step - loss: 0.4674 - auc_38: 0.3202 - auc_39: 0.6835 - precision_19: 0.2940 - recall_19: 0.7497 - val_loss: 0.4666 - val_auc_38: 0.3209 - val_auc_39: 0.6849 - val_precision_19: 0.2918 - val_recall_19: 0.7706\n",
      "Epoch 3/20\n",
      "12902/12902 [==============================] - 206s 16ms/step - loss: 0.4664 - auc_38: 0.3228 - auc_39: 0.6859 - precision_19: 0.2932 - recall_19: 0.7591 - val_loss: 0.4662 - val_auc_38: 0.3228 - val_auc_39: 0.6864 - val_precision_19: 0.2872 - val_recall_19: 0.7919\n",
      "Epoch 4/20\n",
      "12902/12902 [==============================] - 203s 16ms/step - loss: 0.4660 - auc_38: 0.3239 - auc_39: 0.6868 - precision_19: 0.2927 - recall_19: 0.7628 - val_loss: 0.4658 - val_auc_38: 0.3247 - val_auc_39: 0.6877 - val_precision_19: 0.2910 - val_recall_19: 0.7753\n",
      "Epoch 5/20\n",
      "12902/12902 [==============================] - 1105s 86ms/step - loss: 0.4657 - auc_38: 0.3247 - auc_39: 0.6874 - precision_19: 0.2928 - recall_19: 0.7640 - val_loss: 0.4653 - val_auc_38: 0.3247 - val_auc_39: 0.6876 - val_precision_19: 0.2968 - val_recall_19: 0.7411\n",
      "Epoch 6/20\n",
      "12902/12902 [==============================] - 297s 23ms/step - loss: 0.4650 - auc_38: 0.3266 - auc_39: 0.6892 - precision_19: 0.2933 - recall_19: 0.7648 - val_loss: 0.4643 - val_auc_38: 0.3265 - val_auc_39: 0.6901 - val_precision_19: 0.2929 - val_recall_19: 0.7707\n",
      "Epoch 7/20\n",
      "12902/12902 [==============================] - 1105s 86ms/step - loss: 0.4646 - auc_38: 0.3274 - auc_39: 0.6904 - precision_19: 0.2944 - recall_19: 0.7600 - val_loss: 0.4638 - val_auc_38: 0.3289 - val_auc_39: 0.6925 - val_precision_19: 0.2962 - val_recall_19: 0.7579\n",
      "Epoch 8/20\n",
      "12902/12902 [==============================] - 202s 16ms/step - loss: 0.4643 - auc_38: 0.3292 - auc_39: 0.6918 - precision_19: 0.2952 - recall_19: 0.7572 - val_loss: 0.4636 - val_auc_38: 0.3300 - val_auc_39: 0.6936 - val_precision_19: 0.2929 - val_recall_19: 0.7739\n",
      "Epoch 9/20\n",
      "12902/12902 [==============================] - 320s 25ms/step - loss: 0.4640 - auc_38: 0.3302 - auc_39: 0.6927 - precision_19: 0.2949 - recall_19: 0.7607 - val_loss: 0.4639 - val_auc_38: 0.3310 - val_auc_39: 0.6939 - val_precision_19: 0.2984 - val_recall_19: 0.7401\n",
      "Epoch 10/20\n",
      "12902/12902 [==============================] - 204s 16ms/step - loss: 0.4637 - auc_38: 0.3304 - auc_39: 0.6934 - precision_19: 0.2949 - recall_19: 0.7609 - val_loss: 0.4629 - val_auc_38: 0.3327 - val_auc_39: 0.6958 - val_precision_19: 0.2981 - val_recall_19: 0.7454\n",
      "Epoch 11/20\n",
      "12902/12902 [==============================] - 203s 16ms/step - loss: 0.4634 - auc_38: 0.3314 - auc_39: 0.6939 - precision_19: 0.2953 - recall_19: 0.7587 - val_loss: 0.4626 - val_auc_38: 0.3334 - val_auc_39: 0.6965 - val_precision_19: 0.2987 - val_recall_19: 0.7425\n",
      "Epoch 12/20\n",
      "12902/12902 [==============================] - 204s 16ms/step - loss: 0.4632 - auc_38: 0.3318 - auc_39: 0.6943 - precision_19: 0.2957 - recall_19: 0.7564 - val_loss: 0.4628 - val_auc_38: 0.3333 - val_auc_39: 0.6967 - val_precision_19: 0.2981 - val_recall_19: 0.7454\n",
      "Epoch 13/20\n",
      "12902/12902 [==============================] - 202s 16ms/step - loss: 0.4631 - auc_38: 0.3316 - auc_39: 0.6945 - precision_19: 0.2959 - recall_19: 0.7573 - val_loss: 0.4622 - val_auc_38: 0.3338 - val_auc_39: 0.6971 - val_precision_19: 0.2980 - val_recall_19: 0.7512\n",
      "Epoch 14/20\n",
      "12902/12902 [==============================] - 203s 16ms/step - loss: 0.4629 - auc_38: 0.3320 - auc_39: 0.6948 - precision_19: 0.2957 - recall_19: 0.7578 - val_loss: 0.4631 - val_auc_38: 0.3326 - val_auc_39: 0.6962 - val_precision_19: 0.3000 - val_recall_19: 0.7361\n",
      "Epoch 15/20\n",
      "12902/12902 [==============================] - 203s 16ms/step - loss: 0.4629 - auc_38: 0.3327 - auc_39: 0.6951 - precision_19: 0.2959 - recall_19: 0.7563 - val_loss: 0.4621 - val_auc_38: 0.3338 - val_auc_39: 0.6973 - val_precision_19: 0.2977 - val_recall_19: 0.7561\n",
      "Epoch 16/20\n",
      "12902/12902 [==============================] - 203s 16ms/step - loss: 0.4628 - auc_38: 0.3330 - auc_39: 0.6953 - precision_19: 0.2963 - recall_19: 0.7556 - val_loss: 0.4620 - val_auc_38: 0.3343 - val_auc_39: 0.6978 - val_precision_19: 0.2975 - val_recall_19: 0.7591\n",
      "Epoch 17/20\n",
      "12902/12902 [==============================] - 204s 16ms/step - loss: 0.4627 - auc_38: 0.3331 - auc_39: 0.6956 - precision_19: 0.2960 - recall_19: 0.7549 - val_loss: 0.4627 - val_auc_38: 0.3336 - val_auc_39: 0.6973 - val_precision_19: 0.3000 - val_recall_19: 0.7399\n",
      "Epoch 18/20\n",
      "12902/12902 [==============================] - 203s 16ms/step - loss: 0.4627 - auc_38: 0.3335 - auc_39: 0.6956 - precision_19: 0.2964 - recall_19: 0.7556 - val_loss: 0.4622 - val_auc_38: 0.3340 - val_auc_39: 0.6971 - val_precision_19: 0.2982 - val_recall_19: 0.7525\n",
      "Epoch 19/20\n",
      "12902/12902 [==============================] - 204s 16ms/step - loss: 0.4627 - auc_38: 0.3332 - auc_39: 0.6956 - precision_19: 0.2963 - recall_19: 0.7559 - val_loss: 0.4620 - val_auc_38: 0.3341 - val_auc_39: 0.6976 - val_precision_19: 0.2978 - val_recall_19: 0.7553\n",
      "Epoch 20/20\n",
      "12902/12902 [==============================] - 203s 16ms/step - loss: 0.4626 - auc_38: 0.3334 - auc_39: 0.6958 - precision_19: 0.2964 - recall_19: 0.7574 - val_loss: 0.4618 - val_auc_38: 0.3343 - val_auc_39: 0.6976 - val_precision_19: 0.2979 - val_recall_19: 0.7567\n"
     ]
    }
   ],
   "source": [
    "# Try the activations\n",
    "all_hist = do_model_acts(X_train, y_train, X_val, y_val)"
   ]
  },
  {
   "cell_type": "code",
   "execution_count": 97,
   "id": "12ec7891-3789-439b-91cd-7fde9721f89d",
   "metadata": {},
   "outputs": [
    {
     "data": {
      "text/html": [
       "<div>\n",
       "<style scoped>\n",
       "    .dataframe tbody tr th:only-of-type {\n",
       "        vertical-align: middle;\n",
       "    }\n",
       "\n",
       "    .dataframe tbody tr th {\n",
       "        vertical-align: top;\n",
       "    }\n",
       "\n",
       "    .dataframe thead th {\n",
       "        text-align: right;\n",
       "    }\n",
       "</style>\n",
       "<table border=\"1\" class=\"dataframe\">\n",
       "  <thead>\n",
       "    <tr style=\"text-align: right;\">\n",
       "      <th></th>\n",
       "      <th>loss</th>\n",
       "      <th>auc</th>\n",
       "      <th>auc_roc</th>\n",
       "      <th>precision</th>\n",
       "      <th>recall</th>\n",
       "      <th>val_loss</th>\n",
       "      <th>val_auc</th>\n",
       "      <th>val_auc_roc</th>\n",
       "      <th>val_precision</th>\n",
       "      <th>val_recall</th>\n",
       "      <th>run_id</th>\n",
       "      <th>activation</th>\n",
       "      <th>batch_size</th>\n",
       "      <th>epochs</th>\n",
       "      <th>base_thresh</th>\n",
       "      <th>n_feat</th>\n",
       "      <th>hidden_size</th>\n",
       "      <th>n_layers</th>\n",
       "    </tr>\n",
       "  </thead>\n",
       "  <tbody>\n",
       "    <tr>\n",
       "      <th>0</th>\n",
       "      <td>0.473139</td>\n",
       "      <td>0.303330</td>\n",
       "      <td>0.672929</td>\n",
       "      <td>0.290246</td>\n",
       "      <td>0.720342</td>\n",
       "      <td>0.468946</td>\n",
       "      <td>0.318116</td>\n",
       "      <td>0.682475</td>\n",
       "      <td>0.291546</td>\n",
       "      <td>0.759351</td>\n",
       "      <td>0</td>\n",
       "      <td>tanh</td>\n",
       "      <td>32</td>\n",
       "      <td>20</td>\n",
       "      <td>0.2</td>\n",
       "      <td>10</td>\n",
       "      <td>4</td>\n",
       "      <td>2</td>\n",
       "    </tr>\n",
       "    <tr>\n",
       "      <th>1</th>\n",
       "      <td>0.468032</td>\n",
       "      <td>0.319533</td>\n",
       "      <td>0.682877</td>\n",
       "      <td>0.294339</td>\n",
       "      <td>0.737618</td>\n",
       "      <td>0.467671</td>\n",
       "      <td>0.319999</td>\n",
       "      <td>0.683762</td>\n",
       "      <td>0.301241</td>\n",
       "      <td>0.687875</td>\n",
       "      <td>0</td>\n",
       "      <td>tanh</td>\n",
       "      <td>32</td>\n",
       "      <td>20</td>\n",
       "      <td>0.2</td>\n",
       "      <td>10</td>\n",
       "      <td>4</td>\n",
       "      <td>2</td>\n",
       "    </tr>\n",
       "  </tbody>\n",
       "</table>\n",
       "</div>"
      ],
      "text/plain": [
       "       loss       auc   auc_roc  precision    recall  val_loss   val_auc  \\\n",
       "0  0.473139  0.303330  0.672929   0.290246  0.720342  0.468946  0.318116   \n",
       "1  0.468032  0.319533  0.682877   0.294339  0.737618  0.467671  0.319999   \n",
       "\n",
       "   val_auc_roc  val_precision  val_recall  run_id activation  batch_size  \\\n",
       "0     0.682475       0.291546    0.759351       0       tanh          32   \n",
       "1     0.683762       0.301241    0.687875       0       tanh          32   \n",
       "\n",
       "   epochs  base_thresh  n_feat  hidden_size  n_layers  \n",
       "0      20          0.2      10            4         2  \n",
       "1      20          0.2      10            4         2  "
      ]
     },
     "execution_count": 97,
     "metadata": {},
     "output_type": "execute_result"
    }
   ],
   "source": [
    "all_hist.head(2)"
   ]
  },
  {
   "cell_type": "code",
   "execution_count": 95,
   "id": "07f5ef0e-71ac-426a-93c9-923504a05bc3",
   "metadata": {},
   "outputs": [],
   "source": [
    "cur_col = list(all_hist.columns)\n",
    "all_hist.columns = [cur_col[0]] + [f'{cur_col[i]}_roc' if cur_col[i] == cur_col[i-1] else cur_col[i] for i in range(1, len(cur_col))]"
   ]
  },
  {
   "cell_type": "code",
   "execution_count": null,
   "id": "7db62087-866f-412f-804f-1bf1f7532958",
   "metadata": {},
   "outputs": [],
   "source": [
    "all_hist.to_parquet(Path(setup.temp_path).joinpath('TMP_10_DATA_keras_test_activations.parquet'))\n",
    "all_hist.to_csv(Path(setup.temp_path).joinpath('TMP_10_DATA_keras_test_activations.csv'))"
   ]
  },
  {
   "cell_type": "code",
   "execution_count": 100,
   "id": "510bcb8c-3903-4baf-a8ac-104ea877e4b0",
   "metadata": {},
   "outputs": [
    {
     "data": {
      "text/html": [
       "<div>\n",
       "<style scoped>\n",
       "    .dataframe tbody tr th:only-of-type {\n",
       "        vertical-align: middle;\n",
       "    }\n",
       "\n",
       "    .dataframe tbody tr th {\n",
       "        vertical-align: top;\n",
       "    }\n",
       "\n",
       "    .dataframe thead th {\n",
       "        text-align: right;\n",
       "    }\n",
       "</style>\n",
       "<table border=\"1\" class=\"dataframe\">\n",
       "  <thead>\n",
       "    <tr style=\"text-align: right;\">\n",
       "      <th></th>\n",
       "      <th>loss</th>\n",
       "      <th>auc</th>\n",
       "      <th>auc_roc</th>\n",
       "      <th>precision</th>\n",
       "      <th>recall</th>\n",
       "      <th>val_loss</th>\n",
       "      <th>val_auc</th>\n",
       "      <th>val_auc_roc</th>\n",
       "      <th>val_precision</th>\n",
       "      <th>val_recall</th>\n",
       "      <th>run_id</th>\n",
       "      <th>activation</th>\n",
       "      <th>batch_size</th>\n",
       "      <th>epochs</th>\n",
       "      <th>base_thresh</th>\n",
       "      <th>n_feat</th>\n",
       "      <th>hidden_size</th>\n",
       "      <th>n_layers</th>\n",
       "    </tr>\n",
       "  </thead>\n",
       "  <tbody>\n",
       "    <tr>\n",
       "      <th>19</th>\n",
       "      <td>0.461695</td>\n",
       "      <td>0.338383</td>\n",
       "      <td>0.698220</td>\n",
       "      <td>0.294155</td>\n",
       "      <td>0.774725</td>\n",
       "      <td>0.460822</td>\n",
       "      <td>0.341484</td>\n",
       "      <td>0.700218</td>\n",
       "      <td>0.293340</td>\n",
       "      <td>0.783087</td>\n",
       "      <td>0</td>\n",
       "      <td>tanh</td>\n",
       "      <td>32</td>\n",
       "      <td>20</td>\n",
       "      <td>0.2</td>\n",
       "      <td>10</td>\n",
       "      <td>4</td>\n",
       "      <td>2</td>\n",
       "    </tr>\n",
       "    <tr>\n",
       "      <th>19</th>\n",
       "      <td>0.462645</td>\n",
       "      <td>0.333395</td>\n",
       "      <td>0.695832</td>\n",
       "      <td>0.296382</td>\n",
       "      <td>0.757365</td>\n",
       "      <td>0.461811</td>\n",
       "      <td>0.334324</td>\n",
       "      <td>0.697643</td>\n",
       "      <td>0.297869</td>\n",
       "      <td>0.756667</td>\n",
       "      <td>4</td>\n",
       "      <td>leaky_relu</td>\n",
       "      <td>32</td>\n",
       "      <td>20</td>\n",
       "      <td>0.2</td>\n",
       "      <td>10</td>\n",
       "      <td>4</td>\n",
       "      <td>2</td>\n",
       "    </tr>\n",
       "    <tr>\n",
       "      <th>19</th>\n",
       "      <td>0.463372</td>\n",
       "      <td>0.329189</td>\n",
       "      <td>0.692341</td>\n",
       "      <td>0.292815</td>\n",
       "      <td>0.779259</td>\n",
       "      <td>0.462879</td>\n",
       "      <td>0.329756</td>\n",
       "      <td>0.692461</td>\n",
       "      <td>0.293893</td>\n",
       "      <td>0.779553</td>\n",
       "      <td>1</td>\n",
       "      <td>softmax</td>\n",
       "      <td>32</td>\n",
       "      <td>20</td>\n",
       "      <td>0.2</td>\n",
       "      <td>10</td>\n",
       "      <td>4</td>\n",
       "      <td>2</td>\n",
       "    </tr>\n",
       "    <tr>\n",
       "      <th>19</th>\n",
       "      <td>0.470344</td>\n",
       "      <td>0.313166</td>\n",
       "      <td>0.677564</td>\n",
       "      <td>0.294248</td>\n",
       "      <td>0.731438</td>\n",
       "      <td>0.470848</td>\n",
       "      <td>0.312381</td>\n",
       "      <td>0.676906</td>\n",
       "      <td>0.300135</td>\n",
       "      <td>0.697360</td>\n",
       "      <td>2</td>\n",
       "      <td>linear</td>\n",
       "      <td>32</td>\n",
       "      <td>20</td>\n",
       "      <td>0.2</td>\n",
       "      <td>10</td>\n",
       "      <td>4</td>\n",
       "      <td>2</td>\n",
       "    </tr>\n",
       "    <tr>\n",
       "      <th>19</th>\n",
       "      <td>0.476321</td>\n",
       "      <td>0.304837</td>\n",
       "      <td>0.667849</td>\n",
       "      <td>0.293814</td>\n",
       "      <td>0.673404</td>\n",
       "      <td>0.474033</td>\n",
       "      <td>0.310227</td>\n",
       "      <td>0.674363</td>\n",
       "      <td>0.303844</td>\n",
       "      <td>0.631119</td>\n",
       "      <td>3</td>\n",
       "      <td>relu</td>\n",
       "      <td>32</td>\n",
       "      <td>20</td>\n",
       "      <td>0.2</td>\n",
       "      <td>10</td>\n",
       "      <td>4</td>\n",
       "      <td>2</td>\n",
       "    </tr>\n",
       "  </tbody>\n",
       "</table>\n",
       "</div>"
      ],
      "text/plain": [
       "        loss       auc   auc_roc  precision    recall  val_loss   val_auc  \\\n",
       "19  0.461695  0.338383  0.698220   0.294155  0.774725  0.460822  0.341484   \n",
       "19  0.462645  0.333395  0.695832   0.296382  0.757365  0.461811  0.334324   \n",
       "19  0.463372  0.329189  0.692341   0.292815  0.779259  0.462879  0.329756   \n",
       "19  0.470344  0.313166  0.677564   0.294248  0.731438  0.470848  0.312381   \n",
       "19  0.476321  0.304837  0.667849   0.293814  0.673404  0.474033  0.310227   \n",
       "\n",
       "    val_auc_roc  val_precision  val_recall  run_id  activation  batch_size  \\\n",
       "19     0.700218       0.293340    0.783087       0        tanh          32   \n",
       "19     0.697643       0.297869    0.756667       4  leaky_relu          32   \n",
       "19     0.692461       0.293893    0.779553       1     softmax          32   \n",
       "19     0.676906       0.300135    0.697360       2      linear          32   \n",
       "19     0.674363       0.303844    0.631119       3        relu          32   \n",
       "\n",
       "    epochs  base_thresh  n_feat  hidden_size  n_layers  \n",
       "19      20          0.2      10            4         2  \n",
       "19      20          0.2      10            4         2  \n",
       "19      20          0.2      10            4         2  \n",
       "19      20          0.2      10            4         2  \n",
       "19      20          0.2      10            4         2  "
      ]
     },
     "execution_count": 100,
     "metadata": {},
     "output_type": "execute_result"
    }
   ],
   "source": [
    "all_hist.groupby('run_id').tail(1).sort_values('val_auc', ascending=False)"
   ]
  },
  {
   "cell_type": "markdown",
   "id": "cee4b50a-b5a0-44e4-a95f-f95e5e59cc53",
   "metadata": {},
   "source": [
    "Tanh for the win!  After 20 epochs, relu is the worst, followed by linear.  Don't use those!"
   ]
  },
  {
   "cell_type": "markdown",
   "id": "b5c0fa3c-5687-469b-b839-e94c39a69b77",
   "metadata": {},
   "source": [
    "### Plot training curves for these"
   ]
  },
  {
   "cell_type": "code",
   "execution_count": 127,
   "id": "2757397c-ebad-4d62-afcc-888186f600d5",
   "metadata": {},
   "outputs": [
    {
     "data": {
      "image/png": "[encoded data removed]",
      "text/plain": [
       "<Figure size 640x480 with 1 Axes>"
      ]
     },
     "metadata": {},
     "output_type": "display_data"
    }
   ],
   "source": [
    "train_plot(all_hist)"
   ]
  },
  {
   "cell_type": "code",
   "execution_count": 128,
   "id": "8aa8b1e0-da35-479e-86f3-012fa63df1fe",
   "metadata": {},
   "outputs": [
    {
     "data": {
      "image/png": "[encoded data removed]",
      "text/plain": [
       "<Figure size 640x480 with 1 Axes>"
      ]
     },
     "metadata": {},
     "output_type": "display_data"
    }
   ],
   "source": [
    "train_plot(all_hist, 'val_auc_roc')"
   ]
  },
  {
   "cell_type": "code",
   "execution_count": 129,
   "id": "8b3c7d38-7c2e-4da6-8421-a591dde0c988",
   "metadata": {},
   "outputs": [
    {
     "data": {
      "image/png": "[encoded data removed]",
      "text/plain": [
       "<Figure size 640x480 with 1 Axes>"
      ]
     },
     "metadata": {},
     "output_type": "display_data"
    }
   ],
   "source": [
    "train_plot(all_hist, 'auc')"
   ]
  },
  {
   "cell_type": "markdown",
   "id": "93edc2b8-8017-4b49-8aac-5e953d468162",
   "metadata": {},
   "source": [
    "## Hidden Layer Size"
   ]
  },
  {
   "cell_type": "code",
   "execution_count": 118,
   "id": "bede8f5f-89d9-4f17-bfdc-c89728cb28d7",
   "metadata": {},
   "outputs": [
    {
     "name": "stdout",
     "output_type": "stream",
     "text": [
      "0:4\n",
      "Epoch 1/15\n"
     ]
    },
    {
     "name": "stderr",
     "output_type": "stream",
     "text": [
      "2024-01-03 21:49:17.052603: I tensorflow/core/grappler/optimizers/custom_graph_optimizer_registry.cc:114] Plugin optimizer for device_type GPU is enabled.\n"
     ]
    },
    {
     "name": "stdout",
     "output_type": "stream",
     "text": [
      "12902/12902 [==============================] - ETA: 0s - loss: 0.4724 - auc_48: 0.3057 - auc_49: 0.6739 - precision_24: 0.2911 - recall_24: 0.7293"
     ]
    },
    {
     "name": "stderr",
     "output_type": "stream",
     "text": [
      "2024-01-03 21:53:14.108562: I tensorflow/core/grappler/optimizers/custom_graph_optimizer_registry.cc:114] Plugin optimizer for device_type GPU is enabled.\n"
     ]
    },
    {
     "name": "stdout",
     "output_type": "stream",
     "text": [
      "12902/12902 [==============================] - 319s 25ms/step - loss: 0.4724 - auc_48: 0.3057 - auc_49: 0.6739 - precision_24: 0.2911 - recall_24: 0.7293 - val_loss: 0.4713 - val_auc_48: 0.3179 - val_auc_49: 0.6790 - val_precision_24: 0.2782 - val_recall_24: 0.8097\n",
      "Epoch 2/15\n",
      "12902/12902 [==============================] - 317s 25ms/step - loss: 0.4688 - auc_48: 0.3162 - auc_49: 0.6806 - precision_24: 0.2918 - recall_24: 0.7498 - val_loss: 0.4676 - val_auc_48: 0.3175 - val_auc_49: 0.6829 - val_precision_24: 0.2917 - val_recall_24: 0.7599\n",
      "Epoch 3/15\n",
      "12902/12902 [==============================] - 352s 27ms/step - loss: 0.4670 - auc_48: 0.3185 - auc_49: 0.6842 - precision_24: 0.2915 - recall_24: 0.7682 - val_loss: 0.4670 - val_auc_48: 0.3238 - val_auc_49: 0.6883 - val_precision_24: 0.2819 - val_recall_24: 0.8245\n",
      "Epoch 4/15\n",
      "12902/12902 [==============================] - 313s 24ms/step - loss: 0.4649 - auc_48: 0.3250 - auc_49: 0.6888 - precision_24: 0.2914 - recall_24: 0.7809 - val_loss: 0.4638 - val_auc_48: 0.3292 - val_auc_49: 0.6919 - val_precision_24: 0.2891 - val_recall_24: 0.7998\n",
      "Epoch 5/15\n",
      "12902/12902 [==============================] - 303s 23ms/step - loss: 0.4639 - auc_48: 0.3305 - auc_49: 0.6919 - precision_24: 0.2908 - recall_24: 0.7866 - val_loss: 0.4630 - val_auc_48: 0.3348 - val_auc_49: 0.6947 - val_precision_24: 0.2939 - val_recall_24: 0.7764\n",
      "Epoch 6/15\n",
      "12902/12902 [==============================] - 205s 16ms/step - loss: 0.4635 - auc_48: 0.3332 - auc_49: 0.6933 - precision_24: 0.2911 - recall_24: 0.7877 - val_loss: 0.4627 - val_auc_48: 0.3369 - val_auc_49: 0.6962 - val_precision_24: 0.2919 - val_recall_24: 0.7900\n",
      "Epoch 7/15\n",
      "12902/12902 [==============================] - 206s 16ms/step - loss: 0.4632 - auc_48: 0.3348 - auc_49: 0.6941 - precision_24: 0.2911 - recall_24: 0.7872 - val_loss: 0.4630 - val_auc_48: 0.3371 - val_auc_49: 0.6964 - val_precision_24: 0.2891 - val_recall_24: 0.8040\n",
      "Epoch 8/15\n",
      "12902/12902 [==============================] - 205s 16ms/step - loss: 0.4630 - auc_48: 0.3353 - auc_49: 0.6948 - precision_24: 0.2910 - recall_24: 0.7877 - val_loss: 0.4624 - val_auc_48: 0.3377 - val_auc_49: 0.6970 - val_precision_24: 0.2956 - val_recall_24: 0.7625\n",
      "Epoch 9/15\n",
      "12902/12902 [==============================] - 2311s 179ms/step - loss: 0.4627 - auc_48: 0.3361 - auc_49: 0.6955 - precision_24: 0.2913 - recall_24: 0.7868 - val_loss: 0.4620 - val_auc_48: 0.3386 - val_auc_49: 0.6977 - val_precision_24: 0.2926 - val_recall_24: 0.7887\n",
      "Epoch 10/15\n",
      "12902/12902 [==============================] - 2001s 155ms/step - loss: 0.4625 - auc_48: 0.3363 - auc_49: 0.6959 - precision_24: 0.2916 - recall_24: 0.7861 - val_loss: 0.4617 - val_auc_48: 0.3395 - val_auc_49: 0.6984 - val_precision_24: 0.2951 - val_recall_24: 0.7712\n",
      "Epoch 11/15\n",
      "12902/12902 [==============================] - 1104s 86ms/step - loss: 0.4624 - auc_48: 0.3371 - auc_49: 0.6967 - precision_24: 0.2918 - recall_24: 0.7837 - val_loss: 0.4617 - val_auc_48: 0.3399 - val_auc_49: 0.6988 - val_precision_24: 0.2940 - val_recall_24: 0.7765\n",
      "Epoch 12/15\n",
      "12902/12902 [==============================] - 1102s 85ms/step - loss: 0.4622 - auc_48: 0.3373 - auc_49: 0.6971 - precision_24: 0.2923 - recall_24: 0.7829 - val_loss: 0.4614 - val_auc_48: 0.3401 - val_auc_49: 0.6989 - val_precision_24: 0.2936 - val_recall_24: 0.7785\n",
      "Epoch 13/15\n",
      "12902/12902 [==============================] - 202s 16ms/step - loss: 0.4622 - auc_48: 0.3373 - auc_49: 0.6972 - precision_24: 0.2923 - recall_24: 0.7840 - val_loss: 0.4618 - val_auc_48: 0.3398 - val_auc_49: 0.6988 - val_precision_24: 0.2983 - val_recall_24: 0.7480\n",
      "Epoch 14/15\n",
      "12902/12902 [==============================] - 202s 16ms/step - loss: 0.4622 - auc_48: 0.3373 - auc_49: 0.6971 - precision_24: 0.2925 - recall_24: 0.7837 - val_loss: 0.4615 - val_auc_48: 0.3402 - val_auc_49: 0.6989 - val_precision_24: 0.2959 - val_recall_24: 0.7673\n",
      "Epoch 15/15\n",
      "12902/12902 [==============================] - 201s 16ms/step - loss: 0.4622 - auc_48: 0.3371 - auc_49: 0.6973 - precision_24: 0.2922 - recall_24: 0.7844 - val_loss: 0.4613 - val_auc_48: 0.3404 - val_auc_49: 0.6994 - val_precision_24: 0.2909 - val_recall_24: 0.7934\n",
      "1:8\n",
      "Epoch 1/15\n"
     ]
    },
    {
     "name": "stderr",
     "output_type": "stream",
     "text": [
      "2024-01-04 00:24:57.681739: I tensorflow/core/grappler/optimizers/custom_graph_optimizer_registry.cc:114] Plugin optimizer for device_type GPU is enabled.\n"
     ]
    },
    {
     "name": "stdout",
     "output_type": "stream",
     "text": [
      "12902/12902 [==============================] - ETA: 0s - loss: 0.4719 - auc_50: 0.3019 - auc_51: 0.6751 - precision_25: 0.2923 - recall_25: 0.7211"
     ]
    },
    {
     "name": "stderr",
     "output_type": "stream",
     "text": [
      "2024-01-04 00:27:29.838912: I tensorflow/core/grappler/optimizers/custom_graph_optimizer_registry.cc:114] Plugin optimizer for device_type GPU is enabled.\n"
     ]
    },
    {
     "name": "stdout",
     "output_type": "stream",
     "text": [
      "12902/12902 [==============================] - 204s 16ms/step - loss: 0.4719 - auc_50: 0.3019 - auc_51: 0.6751 - precision_25: 0.2923 - recall_25: 0.7211 - val_loss: 0.4669 - val_auc_50: 0.3195 - val_auc_51: 0.6857 - val_precision_25: 0.2910 - val_recall_25: 0.7654\n",
      "Epoch 2/15\n",
      "12902/12902 [==============================] - 203s 16ms/step - loss: 0.4653 - auc_50: 0.3234 - auc_51: 0.6894 - precision_25: 0.2973 - recall_25: 0.7305 - val_loss: 0.4631 - val_auc_50: 0.3308 - val_auc_51: 0.6957 - val_precision_25: 0.2961 - val_recall_25: 0.7543\n",
      "Epoch 3/15\n",
      "12902/12902 [==============================] - 203s 16ms/step - loss: 0.4633 - auc_50: 0.3303 - auc_51: 0.6947 - precision_25: 0.2967 - recall_25: 0.7466 - val_loss: 0.4625 - val_auc_50: 0.3366 - val_auc_51: 0.6985 - val_precision_25: 0.2911 - val_recall_25: 0.7877\n",
      "Epoch 4/15\n",
      "12902/12902 [==============================] - 204s 16ms/step - loss: 0.4626 - auc_50: 0.3337 - auc_51: 0.6966 - precision_25: 0.2960 - recall_25: 0.7560 - val_loss: 0.4624 - val_auc_50: 0.3391 - val_auc_51: 0.6996 - val_precision_25: 0.2886 - val_recall_25: 0.8030\n",
      "Epoch 5/15\n",
      "12902/12902 [==============================] - 203s 16ms/step - loss: 0.4623 - auc_50: 0.3352 - auc_51: 0.6972 - precision_25: 0.2955 - recall_25: 0.7616 - val_loss: 0.4609 - val_auc_50: 0.3405 - val_auc_51: 0.7005 - val_precision_25: 0.2952 - val_recall_25: 0.7707\n",
      "Epoch 6/15\n",
      "12902/12902 [==============================] - 202s 16ms/step - loss: 0.4620 - auc_50: 0.3359 - auc_51: 0.6978 - precision_25: 0.2953 - recall_25: 0.7633 - val_loss: 0.4627 - val_auc_50: 0.3394 - val_auc_51: 0.7006 - val_precision_25: 0.2835 - val_recall_25: 0.8303\n",
      "Epoch 7/15\n",
      "12902/12902 [==============================] - 203s 16ms/step - loss: 0.4618 - auc_50: 0.3372 - auc_51: 0.6982 - precision_25: 0.2951 - recall_25: 0.7671 - val_loss: 0.4610 - val_auc_50: 0.3413 - val_auc_51: 0.7010 - val_precision_25: 0.3020 - val_recall_25: 0.7342\n",
      "Epoch 8/15\n",
      "12902/12902 [==============================] - 203s 16ms/step - loss: 0.4617 - auc_50: 0.3382 - auc_51: 0.6984 - precision_25: 0.2950 - recall_25: 0.7666 - val_loss: 0.4612 - val_auc_50: 0.3427 - val_auc_51: 0.7015 - val_precision_25: 0.2914 - val_recall_25: 0.7958\n",
      "Epoch 9/15\n",
      "12902/12902 [==============================] - 203s 16ms/step - loss: 0.4616 - auc_50: 0.3386 - auc_51: 0.6987 - precision_25: 0.2948 - recall_25: 0.7701 - val_loss: 0.4605 - val_auc_50: 0.3424 - val_auc_51: 0.7015 - val_precision_25: 0.2992 - val_recall_25: 0.7529\n",
      "Epoch 10/15\n",
      "12902/12902 [==============================] - 204s 16ms/step - loss: 0.4614 - auc_50: 0.3390 - auc_51: 0.6989 - precision_25: 0.2946 - recall_25: 0.7714 - val_loss: 0.4608 - val_auc_50: 0.3412 - val_auc_51: 0.7005 - val_precision_25: 0.2978 - val_recall_25: 0.7570\n",
      "Epoch 11/15\n",
      "12902/12902 [==============================] - 204s 16ms/step - loss: 0.4613 - auc_50: 0.3393 - auc_51: 0.6994 - precision_25: 0.2943 - recall_25: 0.7730 - val_loss: 0.4604 - val_auc_50: 0.3435 - val_auc_51: 0.7020 - val_precision_25: 0.2949 - val_recall_25: 0.7754\n",
      "Epoch 12/15\n",
      "12902/12902 [==============================] - 204s 16ms/step - loss: 0.4613 - auc_50: 0.3397 - auc_51: 0.6992 - precision_25: 0.2942 - recall_25: 0.7738 - val_loss: 0.4601 - val_auc_50: 0.3441 - val_auc_51: 0.7027 - val_precision_25: 0.2947 - val_recall_25: 0.7809\n",
      "Epoch 13/15\n",
      "12902/12902 [==============================] - 204s 16ms/step - loss: 0.4613 - auc_50: 0.3398 - auc_51: 0.6995 - precision_25: 0.2944 - recall_25: 0.7727 - val_loss: 0.4604 - val_auc_50: 0.3418 - val_auc_51: 0.7015 - val_precision_25: 0.2936 - val_recall_25: 0.7864\n",
      "Epoch 14/15\n",
      "12902/12902 [==============================] - 204s 16ms/step - loss: 0.4612 - auc_50: 0.3399 - auc_51: 0.6996 - precision_25: 0.2944 - recall_25: 0.7743 - val_loss: 0.4601 - val_auc_50: 0.3435 - val_auc_51: 0.7027 - val_precision_25: 0.2945 - val_recall_25: 0.7805\n",
      "Epoch 15/15\n",
      "12902/12902 [==============================] - 2004s 155ms/step - loss: 0.4611 - auc_50: 0.3401 - auc_51: 0.6998 - precision_25: 0.2944 - recall_25: 0.7749 - val_loss: 0.4605 - val_auc_50: 0.3440 - val_auc_51: 0.7025 - val_precision_25: 0.2959 - val_recall_25: 0.7747\n",
      "2:16\n",
      "Epoch 1/15\n"
     ]
    },
    {
     "name": "stderr",
     "output_type": "stream",
     "text": [
      "2024-01-04 01:45:49.774400: I tensorflow/core/grappler/optimizers/custom_graph_optimizer_registry.cc:114] Plugin optimizer for device_type GPU is enabled.\n"
     ]
    },
    {
     "name": "stdout",
     "output_type": "stream",
     "text": [
      "12902/12902 [==============================] - ETA: 0s - loss: 0.4699 - auc_52: 0.3096 - auc_53: 0.6786 - precision_26: 0.2927 - recall_26: 0.7310"
     ]
    },
    {
     "name": "stderr",
     "output_type": "stream",
     "text": [
      "2024-01-04 02:03:48.809693: I tensorflow/core/grappler/optimizers/custom_graph_optimizer_registry.cc:114] Plugin optimizer for device_type GPU is enabled.\n"
     ]
    },
    {
     "name": "stdout",
     "output_type": "stream",
     "text": [
      "12902/12902 [==============================] - 1131s 88ms/step - loss: 0.4699 - auc_52: 0.3096 - auc_53: 0.6786 - precision_26: 0.2927 - recall_26: 0.7310 - val_loss: 0.4653 - val_auc_52: 0.3260 - val_auc_53: 0.6896 - val_precision_26: 0.2902 - val_recall_26: 0.7742\n",
      "Epoch 2/15\n",
      "12902/12902 [==============================] - 202s 16ms/step - loss: 0.4644 - auc_52: 0.3277 - auc_53: 0.6916 - precision_26: 0.2968 - recall_26: 0.7392 - val_loss: 0.4625 - val_auc_52: 0.3359 - val_auc_53: 0.6965 - val_precision_26: 0.2926 - val_recall_26: 0.7758\n",
      "Epoch 3/15\n",
      "12902/12902 [==============================] - 202s 16ms/step - loss: 0.4632 - auc_52: 0.3335 - auc_53: 0.6946 - precision_26: 0.2972 - recall_26: 0.7456 - val_loss: 0.4629 - val_auc_52: 0.3332 - val_auc_53: 0.6962 - val_precision_26: 0.2933 - val_recall_26: 0.7765\n",
      "Epoch 4/15\n",
      "12902/12902 [==============================] - 203s 16ms/step - loss: 0.4629 - auc_52: 0.3346 - auc_53: 0.6953 - precision_26: 0.2968 - recall_26: 0.7509 - val_loss: 0.4619 - val_auc_52: 0.3379 - val_auc_53: 0.6976 - val_precision_26: 0.2972 - val_recall_26: 0.7573\n",
      "Epoch 5/15\n",
      "12902/12902 [==============================] - 203s 16ms/step - loss: 0.4625 - auc_52: 0.3356 - auc_53: 0.6962 - precision_26: 0.2968 - recall_26: 0.7525 - val_loss: 0.4623 - val_auc_52: 0.3400 - val_auc_53: 0.6995 - val_precision_26: 0.2908 - val_recall_26: 0.7928\n",
      "Epoch 6/15\n",
      "12902/12902 [==============================] - 202s 16ms/step - loss: 0.4623 - auc_52: 0.3357 - auc_53: 0.6969 - precision_26: 0.2965 - recall_26: 0.7552 - val_loss: 0.4621 - val_auc_52: 0.3390 - val_auc_53: 0.6994 - val_precision_26: 0.3004 - val_recall_26: 0.7456\n",
      "Epoch 7/15\n",
      "12902/12902 [==============================] - 203s 16ms/step - loss: 0.4622 - auc_52: 0.3365 - auc_53: 0.6970 - precision_26: 0.2971 - recall_26: 0.7542 - val_loss: 0.4608 - val_auc_52: 0.3404 - val_auc_53: 0.7005 - val_precision_26: 0.2981 - val_recall_26: 0.7580\n",
      "Epoch 8/15\n",
      "12902/12902 [==============================] - 203s 16ms/step - loss: 0.4619 - auc_52: 0.3373 - auc_53: 0.6978 - precision_26: 0.2965 - recall_26: 0.7556 - val_loss: 0.4610 - val_auc_52: 0.3413 - val_auc_53: 0.7007 - val_precision_26: 0.3019 - val_recall_26: 0.7370\n",
      "Epoch 9/15\n",
      "12902/12902 [==============================] - 203s 16ms/step - loss: 0.4619 - auc_52: 0.3376 - auc_53: 0.6980 - precision_26: 0.2970 - recall_26: 0.7565 - val_loss: 0.4614 - val_auc_52: 0.3403 - val_auc_53: 0.7001 - val_precision_26: 0.2926 - val_recall_26: 0.7827\n",
      "Epoch 10/15\n",
      "12902/12902 [==============================] - 204s 16ms/step - loss: 0.4617 - auc_52: 0.3382 - auc_53: 0.6983 - precision_26: 0.2970 - recall_26: 0.7568 - val_loss: 0.4614 - val_auc_52: 0.3427 - val_auc_53: 0.7018 - val_precision_26: 0.2917 - val_recall_26: 0.7921\n",
      "Epoch 11/15\n",
      "12902/12902 [==============================] - 204s 16ms/step - loss: 0.4615 - auc_52: 0.3388 - auc_53: 0.6989 - precision_26: 0.2967 - recall_26: 0.7588 - val_loss: 0.4606 - val_auc_52: 0.3421 - val_auc_53: 0.7017 - val_precision_26: 0.3001 - val_recall_26: 0.7496\n",
      "Epoch 12/15\n",
      "12902/12902 [==============================] - 204s 16ms/step - loss: 0.4614 - auc_52: 0.3389 - auc_53: 0.6991 - precision_26: 0.2969 - recall_26: 0.7590 - val_loss: 0.4607 - val_auc_52: 0.3427 - val_auc_53: 0.7020 - val_precision_26: 0.3043 - val_recall_26: 0.7201\n",
      "Epoch 13/15\n",
      "12902/12902 [==============================] - 204s 16ms/step - loss: 0.4613 - auc_52: 0.3393 - auc_53: 0.6994 - precision_26: 0.2971 - recall_26: 0.7579 - val_loss: 0.4610 - val_auc_52: 0.3400 - val_auc_53: 0.6999 - val_precision_26: 0.2913 - val_recall_26: 0.7880\n",
      "Epoch 14/15\n",
      "12902/12902 [==============================] - 204s 16ms/step - loss: 0.4612 - auc_52: 0.3393 - auc_53: 0.6996 - precision_26: 0.2968 - recall_26: 0.7614 - val_loss: 0.4603 - val_auc_52: 0.3435 - val_auc_53: 0.7029 - val_precision_26: 0.2956 - val_recall_26: 0.7764\n",
      "Epoch 15/15\n",
      "12902/12902 [==============================] - 204s 16ms/step - loss: 0.4611 - auc_52: 0.3402 - auc_53: 0.6999 - precision_26: 0.2969 - recall_26: 0.7602 - val_loss: 0.4620 - val_auc_52: 0.3408 - val_auc_53: 0.7003 - val_precision_26: 0.2874 - val_recall_26: 0.8075\n",
      "3:32\n",
      "Epoch 1/15\n"
     ]
    },
    {
     "name": "stderr",
     "output_type": "stream",
     "text": [
      "2024-01-04 02:52:06.805075: I tensorflow/core/grappler/optimizers/custom_graph_optimizer_registry.cc:114] Plugin optimizer for device_type GPU is enabled.\n"
     ]
    },
    {
     "name": "stdout",
     "output_type": "stream",
     "text": [
      "12902/12902 [==============================] - ETA: 0s - loss: 0.4693 - auc_54: 0.3151 - auc_55: 0.6801 - precision_27: 0.2926 - recall_27: 0.7296"
     ]
    },
    {
     "name": "stderr",
     "output_type": "stream",
     "text": [
      "2024-01-04 02:54:40.683884: I tensorflow/core/grappler/optimizers/custom_graph_optimizer_registry.cc:114] Plugin optimizer for device_type GPU is enabled.\n"
     ]
    },
    {
     "name": "stdout",
     "output_type": "stream",
     "text": [
      "12902/12902 [==============================] - 205s 16ms/step - loss: 0.4693 - auc_54: 0.3151 - auc_55: 0.6801 - precision_27: 0.2926 - recall_27: 0.7296 - val_loss: 0.4672 - val_auc_54: 0.3235 - val_auc_55: 0.6868 - val_precision_27: 0.3024 - val_recall_27: 0.6866\n",
      "Epoch 2/15\n",
      "12902/12902 [==============================] - 204s 16ms/step - loss: 0.4641 - auc_54: 0.3292 - auc_55: 0.6920 - precision_27: 0.2933 - recall_27: 0.7639 - val_loss: 0.4618 - val_auc_54: 0.3390 - val_auc_55: 0.6997 - val_precision_27: 0.2974 - val_recall_27: 0.7613\n",
      "Epoch 3/15\n",
      "12902/12902 [==============================] - 204s 16ms/step - loss: 0.4625 - auc_54: 0.3346 - auc_55: 0.6967 - precision_27: 0.2935 - recall_27: 0.7715 - val_loss: 0.4612 - val_auc_54: 0.3391 - val_auc_55: 0.7005 - val_precision_27: 0.2968 - val_recall_27: 0.7649\n",
      "Epoch 4/15\n",
      "12902/12902 [==============================] - 2104s 163ms/step - loss: 0.4619 - auc_54: 0.3372 - auc_55: 0.6982 - precision_27: 0.2957 - recall_27: 0.7693 - val_loss: 0.4610 - val_auc_54: 0.3410 - val_auc_55: 0.7012 - val_precision_27: 0.2955 - val_recall_27: 0.7706\n",
      "Epoch 5/15\n",
      "12902/12902 [==============================] - 1104s 86ms/step - loss: 0.4615 - auc_54: 0.3384 - auc_55: 0.6989 - precision_27: 0.2953 - recall_27: 0.7681 - val_loss: 0.4600 - val_auc_54: 0.3433 - val_auc_55: 0.7028 - val_precision_27: 0.2941 - val_recall_27: 0.7832\n",
      "Epoch 6/15\n",
      "12902/12902 [==============================] - 203s 16ms/step - loss: 0.4613 - auc_54: 0.3389 - auc_55: 0.6996 - precision_27: 0.2957 - recall_27: 0.7685 - val_loss: 0.4604 - val_auc_54: 0.3439 - val_auc_55: 0.7027 - val_precision_27: 0.3015 - val_recall_27: 0.7409\n",
      "Epoch 7/15\n",
      "12902/12902 [==============================] - 203s 16ms/step - loss: 0.4612 - auc_54: 0.3392 - auc_55: 0.6997 - precision_27: 0.2960 - recall_27: 0.7690 - val_loss: 0.4610 - val_auc_54: 0.3435 - val_auc_55: 0.7030 - val_precision_27: 0.3069 - val_recall_27: 0.7159\n",
      "Epoch 8/15\n",
      "12902/12902 [==============================] - 203s 16ms/step - loss: 0.4610 - auc_54: 0.3398 - auc_55: 0.7000 - precision_27: 0.2958 - recall_27: 0.7700 - val_loss: 0.4607 - val_auc_54: 0.3431 - val_auc_55: 0.7025 - val_precision_27: 0.3051 - val_recall_27: 0.7207\n",
      "Epoch 9/15\n",
      "12902/12902 [==============================] - 713s 55ms/step - loss: 0.4610 - auc_54: 0.3403 - auc_55: 0.7002 - precision_27: 0.2963 - recall_27: 0.7709 - val_loss: 0.4601 - val_auc_54: 0.3438 - val_auc_55: 0.7035 - val_precision_27: 0.2921 - val_recall_27: 0.7973\n",
      "Epoch 10/15\n",
      "12902/12902 [==============================] - 204s 16ms/step - loss: 0.4609 - auc_54: 0.3403 - auc_55: 0.7004 - precision_27: 0.2955 - recall_27: 0.7699 - val_loss: 0.4602 - val_auc_54: 0.3427 - val_auc_55: 0.7026 - val_precision_27: 0.2929 - val_recall_27: 0.7910\n",
      "Epoch 11/15\n",
      "12902/12902 [==============================] - 238s 18ms/step - loss: 0.4609 - auc_54: 0.3404 - auc_55: 0.7003 - precision_27: 0.2958 - recall_27: 0.7717 - val_loss: 0.4597 - val_auc_54: 0.3446 - val_auc_55: 0.7036 - val_precision_27: 0.2980 - val_recall_27: 0.7693\n",
      "Epoch 12/15\n",
      "12902/12902 [==============================] - 1104s 86ms/step - loss: 0.4609 - auc_54: 0.3403 - auc_55: 0.7004 - precision_27: 0.2955 - recall_27: 0.7717 - val_loss: 0.4598 - val_auc_54: 0.3440 - val_auc_55: 0.7036 - val_precision_27: 0.2970 - val_recall_27: 0.7669\n",
      "Epoch 13/15\n",
      "12902/12902 [==============================] - 1104s 86ms/step - loss: 0.4608 - auc_54: 0.3405 - auc_55: 0.7007 - precision_27: 0.2960 - recall_27: 0.7692 - val_loss: 0.4608 - val_auc_54: 0.3428 - val_auc_55: 0.7029 - val_precision_27: 0.2962 - val_recall_27: 0.7742\n",
      "Epoch 14/15\n",
      "12902/12902 [==============================] - 202s 16ms/step - loss: 0.4607 - auc_54: 0.3408 - auc_55: 0.7008 - precision_27: 0.2962 - recall_27: 0.7692 - val_loss: 0.4601 - val_auc_54: 0.3439 - val_auc_55: 0.7032 - val_precision_27: 0.2974 - val_recall_27: 0.7665\n",
      "Epoch 15/15\n",
      "12902/12902 [==============================] - 203s 16ms/step - loss: 0.4607 - auc_54: 0.3412 - auc_55: 0.7009 - precision_27: 0.2961 - recall_27: 0.7705 - val_loss: 0.4598 - val_auc_54: 0.3446 - val_auc_55: 0.7034 - val_precision_27: 0.2917 - val_recall_27: 0.8000\n"
     ]
    }
   ],
   "source": [
    "# Try the activations\n",
    "all_hist_hz = do_model_trials_hidden_size(X_train, y_train, X_val, y_val)"
   ]
  },
  {
   "cell_type": "code",
   "execution_count": 119,
   "id": "eedf9556-cce7-4d82-ab70-cd6c3de7c4c5",
   "metadata": {},
   "outputs": [],
   "source": [
    "cur_col = list(all_hist_hz.columns)\n",
    "all_hist_hz.columns = [cur_col[0]] + [f'{cur_col[i]}_roc' if cur_col[i] == cur_col[i-1] else cur_col[i] for i in range(1, len(cur_col))]"
   ]
  },
  {
   "cell_type": "code",
   "execution_count": 125,
   "id": "faaa156c-820b-4c76-936c-3fa69eca5d8b",
   "metadata": {},
   "outputs": [],
   "source": [
    "all_hist_hz.to_parquet(Path(setup.temp_path).joinpath('TMP_10_DATA_keras_test_hidden_size.parquet'))\n",
    "all_hist_hz.to_csv(Path(setup.temp_path).joinpath('TMP_10_DATA_keras_test_hidden_size.csv'))"
   ]
  },
  {
   "cell_type": "code",
   "execution_count": 121,
   "id": "ed768616-a2e8-4454-a521-8c222502a844",
   "metadata": {},
   "outputs": [
    {
     "data": {
      "text/html": [
       "<div>\n",
       "<style scoped>\n",
       "    .dataframe tbody tr th:only-of-type {\n",
       "        vertical-align: middle;\n",
       "    }\n",
       "\n",
       "    .dataframe tbody tr th {\n",
       "        vertical-align: top;\n",
       "    }\n",
       "\n",
       "    .dataframe thead th {\n",
       "        text-align: right;\n",
       "    }\n",
       "</style>\n",
       "<table border=\"1\" class=\"dataframe\">\n",
       "  <thead>\n",
       "    <tr style=\"text-align: right;\">\n",
       "      <th></th>\n",
       "      <th>loss</th>\n",
       "      <th>auc</th>\n",
       "      <th>auc_roc</th>\n",
       "      <th>precision</th>\n",
       "      <th>recall</th>\n",
       "      <th>val_loss</th>\n",
       "      <th>val_auc</th>\n",
       "      <th>val_auc_roc</th>\n",
       "      <th>val_precision</th>\n",
       "      <th>val_recall</th>\n",
       "      <th>run_id</th>\n",
       "      <th>activation</th>\n",
       "      <th>batch_size</th>\n",
       "      <th>epochs</th>\n",
       "      <th>base_thresh</th>\n",
       "      <th>n_feat</th>\n",
       "      <th>hidden_size</th>\n",
       "      <th>n_layers</th>\n",
       "    </tr>\n",
       "  </thead>\n",
       "  <tbody>\n",
       "    <tr>\n",
       "      <th>14</th>\n",
       "      <td>0.460655</td>\n",
       "      <td>0.341163</td>\n",
       "      <td>0.700905</td>\n",
       "      <td>0.296127</td>\n",
       "      <td>0.770501</td>\n",
       "      <td>0.459832</td>\n",
       "      <td>0.344639</td>\n",
       "      <td>0.703396</td>\n",
       "      <td>0.291686</td>\n",
       "      <td>0.799978</td>\n",
       "      <td>3</td>\n",
       "      <td>tanh</td>\n",
       "      <td>32</td>\n",
       "      <td>15</td>\n",
       "      <td>0.2</td>\n",
       "      <td>10</td>\n",
       "      <td>32</td>\n",
       "      <td>2</td>\n",
       "    </tr>\n",
       "    <tr>\n",
       "      <th>14</th>\n",
       "      <td>0.461124</td>\n",
       "      <td>0.340085</td>\n",
       "      <td>0.699763</td>\n",
       "      <td>0.294356</td>\n",
       "      <td>0.774939</td>\n",
       "      <td>0.460540</td>\n",
       "      <td>0.344006</td>\n",
       "      <td>0.702528</td>\n",
       "      <td>0.295946</td>\n",
       "      <td>0.774676</td>\n",
       "      <td>1</td>\n",
       "      <td>tanh</td>\n",
       "      <td>32</td>\n",
       "      <td>15</td>\n",
       "      <td>0.2</td>\n",
       "      <td>10</td>\n",
       "      <td>8</td>\n",
       "      <td>2</td>\n",
       "    </tr>\n",
       "    <tr>\n",
       "      <th>14</th>\n",
       "      <td>0.461124</td>\n",
       "      <td>0.340197</td>\n",
       "      <td>0.699868</td>\n",
       "      <td>0.296856</td>\n",
       "      <td>0.760240</td>\n",
       "      <td>0.462024</td>\n",
       "      <td>0.340803</td>\n",
       "      <td>0.700279</td>\n",
       "      <td>0.287414</td>\n",
       "      <td>0.807517</td>\n",
       "      <td>2</td>\n",
       "      <td>tanh</td>\n",
       "      <td>32</td>\n",
       "      <td>15</td>\n",
       "      <td>0.2</td>\n",
       "      <td>10</td>\n",
       "      <td>16</td>\n",
       "      <td>2</td>\n",
       "    </tr>\n",
       "    <tr>\n",
       "      <th>14</th>\n",
       "      <td>0.462187</td>\n",
       "      <td>0.337117</td>\n",
       "      <td>0.697317</td>\n",
       "      <td>0.292240</td>\n",
       "      <td>0.784437</td>\n",
       "      <td>0.461318</td>\n",
       "      <td>0.340443</td>\n",
       "      <td>0.699444</td>\n",
       "      <td>0.290938</td>\n",
       "      <td>0.793356</td>\n",
       "      <td>0</td>\n",
       "      <td>tanh</td>\n",
       "      <td>32</td>\n",
       "      <td>15</td>\n",
       "      <td>0.2</td>\n",
       "      <td>10</td>\n",
       "      <td>4</td>\n",
       "      <td>2</td>\n",
       "    </tr>\n",
       "  </tbody>\n",
       "</table>\n",
       "</div>"
      ],
      "text/plain": [
       "        loss       auc   auc_roc  precision    recall  val_loss   val_auc  \\\n",
       "14  0.460655  0.341163  0.700905   0.296127  0.770501  0.459832  0.344639   \n",
       "14  0.461124  0.340085  0.699763   0.294356  0.774939  0.460540  0.344006   \n",
       "14  0.461124  0.340197  0.699868   0.296856  0.760240  0.462024  0.340803   \n",
       "14  0.462187  0.337117  0.697317   0.292240  0.784437  0.461318  0.340443   \n",
       "\n",
       "    val_auc_roc  val_precision  val_recall  run_id activation  batch_size  \\\n",
       "14     0.703396       0.291686    0.799978       3       tanh          32   \n",
       "14     0.702528       0.295946    0.774676       1       tanh          32   \n",
       "14     0.700279       0.287414    0.807517       2       tanh          32   \n",
       "14     0.699444       0.290938    0.793356       0       tanh          32   \n",
       "\n",
       "    epochs  base_thresh  n_feat  hidden_size  n_layers  \n",
       "14      15          0.2      10           32         2  \n",
       "14      15          0.2      10            8         2  \n",
       "14      15          0.2      10           16         2  \n",
       "14      15          0.2      10            4         2  "
      ]
     },
     "execution_count": 121,
     "metadata": {},
     "output_type": "execute_result"
    }
   ],
   "source": [
    "all_hist_hz.groupby('run_id').tail(1).sort_values('val_auc', ascending=False)"
   ]
  },
  {
   "cell_type": "code",
   "execution_count": 136,
   "id": "1a2d4fe5-fd97-4b14-a8a8-b4ce563e301d",
   "metadata": {},
   "outputs": [
    {
     "data": {
      "image/png": "[encoded data removed]",
      "text/plain": [
       "<Figure size 640x480 with 1 Axes>"
      ]
     },
     "metadata": {},
     "output_type": "display_data"
    }
   ],
   "source": [
    "train_plot(all_hist_hz, 'val_auc', 'hidden_size')"
   ]
  },
  {
   "cell_type": "code",
   "execution_count": 135,
   "id": "468770fc-6f3f-4b4f-b9d1-271662137f81",
   "metadata": {},
   "outputs": [
    {
     "data": {
      "image/png": "[encoded data removed]",
      "text/plain": [
       "<Figure size 640x480 with 1 Axes>"
      ]
     },
     "metadata": {},
     "output_type": "display_data"
    }
   ],
   "source": [
    "train_plot(all_hist_hz, 'auc', 'hidden_size')"
   ]
  },
  {
   "cell_type": "markdown",
   "id": "7208dd67-8032-45a5-a48f-847a1f68538e",
   "metadata": {},
   "source": [
    "## Vary sizes again, for a shorter learn rate"
   ]
  },
  {
   "cell_type": "code",
   "execution_count": 26,
   "id": "6dc64ec6-acee-4e8e-8b46-314b39a9be07",
   "metadata": {},
   "outputs": [
    {
     "name": "stdout",
     "output_type": "stream",
     "text": [
      "0:8\n",
      "Epoch 1/15\n"
     ]
    },
    {
     "name": "stderr",
     "output_type": "stream",
     "text": [
      "2024-01-04 08:01:39.483109: I tensorflow/core/grappler/optimizers/custom_graph_optimizer_registry.cc:114] Plugin optimizer for device_type GPU is enabled.\n"
     ]
    },
    {
     "name": "stdout",
     "output_type": "stream",
     "text": [
      "12902/12902 [==============================] - ETA: 0s - loss: 0.4878 - auc: 0.2691 - auc_1: 0.6443 - precision: 0.2723 - recall: 0.7404"
     ]
    },
    {
     "name": "stderr",
     "output_type": "stream",
     "text": [
      "2024-01-04 08:04:15.678377: I tensorflow/core/grappler/optimizers/custom_graph_optimizer_registry.cc:114] Plugin optimizer for device_type GPU is enabled.\n"
     ]
    },
    {
     "name": "stdout",
     "output_type": "stream",
     "text": [
      "12902/12902 [==============================] - 208s 16ms/step - loss: 0.4878 - auc: 0.2691 - auc_1: 0.6443 - precision: 0.2723 - recall: 0.7404 - val_loss: 0.4710 - val_auc: 0.3105 - val_auc_1: 0.6762 - val_precision: 0.2926 - val_recall: 0.7249\n",
      "Epoch 2/15\n",
      "12902/12902 [==============================] - 208s 16ms/step - loss: 0.4700 - auc: 0.3141 - auc_1: 0.6789 - precision: 0.2924 - recall: 0.7387 - val_loss: 0.4697 - val_auc: 0.3135 - val_auc_1: 0.6792 - val_precision: 0.2976 - val_recall: 0.7143\n",
      "Epoch 3/15\n",
      "12902/12902 [==============================] - 207s 16ms/step - loss: 0.4693 - auc: 0.3154 - auc_1: 0.6802 - precision: 0.2940 - recall: 0.7360 - val_loss: 0.4693 - val_auc: 0.3140 - val_auc_1: 0.6804 - val_precision: 0.2973 - val_recall: 0.7204\n",
      "Epoch 4/15\n",
      "12902/12902 [==============================] - 1109s 86ms/step - loss: 0.4690 - auc: 0.3159 - auc_1: 0.6810 - precision: 0.2944 - recall: 0.7344 - val_loss: 0.4689 - val_auc: 0.3154 - val_auc_1: 0.6809 - val_precision: 0.2956 - val_recall: 0.7312\n",
      "Epoch 5/15\n",
      "12902/12902 [==============================] - 200s 16ms/step - loss: 0.4687 - auc: 0.3168 - auc_1: 0.6817 - precision: 0.2946 - recall: 0.7346 - val_loss: 0.4686 - val_auc: 0.3156 - val_auc_1: 0.6815 - val_precision: 0.2938 - val_recall: 0.7438\n",
      "Epoch 6/15\n",
      "12902/12902 [==============================] - 201s 16ms/step - loss: 0.4685 - auc: 0.3173 - auc_1: 0.6823 - precision: 0.2947 - recall: 0.7369 - val_loss: 0.4684 - val_auc: 0.3160 - val_auc_1: 0.6819 - val_precision: 0.2951 - val_recall: 0.7326\n",
      "Epoch 7/15\n",
      "12902/12902 [==============================] - 1099s 85ms/step - loss: 0.4682 - auc: 0.3179 - auc_1: 0.6829 - precision: 0.2948 - recall: 0.7363 - val_loss: 0.4680 - val_auc: 0.3169 - val_auc_1: 0.6827 - val_precision: 0.2957 - val_recall: 0.7340\n",
      "Epoch 8/15\n",
      "12902/12902 [==============================] - 199s 15ms/step - loss: 0.4679 - auc: 0.3189 - auc_1: 0.6835 - precision: 0.2954 - recall: 0.7406 - val_loss: 0.4678 - val_auc: 0.3173 - val_auc_1: 0.6832 - val_precision: 0.2974 - val_recall: 0.7244\n",
      "Epoch 9/15\n",
      "12902/12902 [==============================] - 1097s 85ms/step - loss: 0.4676 - auc: 0.3195 - auc_1: 0.6841 - precision: 0.2956 - recall: 0.7426 - val_loss: 0.4674 - val_auc: 0.3185 - val_auc_1: 0.6842 - val_precision: 0.2932 - val_recall: 0.7632\n",
      "Epoch 10/15\n",
      "12902/12902 [==============================] - 198s 15ms/step - loss: 0.4672 - auc: 0.3204 - auc_1: 0.6846 - precision: 0.2960 - recall: 0.7466 - val_loss: 0.4671 - val_auc: 0.3194 - val_auc_1: 0.6848 - val_precision: 0.2980 - val_recall: 0.7349\n",
      "Epoch 11/15\n",
      "12902/12902 [==============================] - 1184s 92ms/step - loss: 0.4670 - auc: 0.3210 - auc_1: 0.6850 - precision: 0.2957 - recall: 0.7505 - val_loss: 0.4669 - val_auc: 0.3198 - val_auc_1: 0.6848 - val_precision: 0.2992 - val_recall: 0.7249\n",
      "Epoch 12/15\n",
      "12902/12902 [==============================] - 990s 77ms/step - loss: 0.4667 - auc: 0.3214 - auc_1: 0.6853 - precision: 0.2955 - recall: 0.7517 - val_loss: 0.4664 - val_auc: 0.3207 - val_auc_1: 0.6857 - val_precision: 0.2952 - val_recall: 0.7581\n",
      "Epoch 13/15\n",
      "12902/12902 [==============================] - 249s 19ms/step - loss: 0.4664 - auc: 0.3220 - auc_1: 0.6856 - precision: 0.2953 - recall: 0.7549 - val_loss: 0.4661 - val_auc: 0.3210 - val_auc_1: 0.6858 - val_precision: 0.2937 - val_recall: 0.7643\n",
      "Epoch 14/15\n",
      "12902/12902 [==============================] - 206s 16ms/step - loss: 0.4661 - auc: 0.3224 - auc_1: 0.6861 - precision: 0.2948 - recall: 0.7574 - val_loss: 0.4658 - val_auc: 0.3213 - val_auc_1: 0.6859 - val_precision: 0.2958 - val_recall: 0.7505\n",
      "Epoch 15/15\n",
      "12902/12902 [==============================] - 207s 16ms/step - loss: 0.4657 - auc: 0.3228 - auc_1: 0.6865 - precision: 0.2944 - recall: 0.7594 - val_loss: 0.4655 - val_auc: 0.3221 - val_auc_1: 0.6869 - val_precision: 0.2961 - val_recall: 0.7501\n",
      "1:16\n",
      "Epoch 1/15\n"
     ]
    },
    {
     "name": "stderr",
     "output_type": "stream",
     "text": [
      "2024-01-04 10:07:42.218762: I tensorflow/core/grappler/optimizers/custom_graph_optimizer_registry.cc:114] Plugin optimizer for device_type GPU is enabled.\n"
     ]
    },
    {
     "name": "stdout",
     "output_type": "stream",
     "text": [
      "12902/12902 [==============================] - ETA: 0s - loss: 0.4770 - auc_2: 0.2894 - auc_3: 0.6631 - precision_1: 0.2861 - recall_1: 0.7255"
     ]
    },
    {
     "name": "stderr",
     "output_type": "stream",
     "text": [
      "2024-01-04 10:10:17.238640: I tensorflow/core/grappler/optimizers/custom_graph_optimizer_registry.cc:114] Plugin optimizer for device_type GPU is enabled.\n"
     ]
    },
    {
     "name": "stdout",
     "output_type": "stream",
     "text": [
      "12902/12902 [==============================] - 209s 16ms/step - loss: 0.4770 - auc_2: 0.2894 - auc_3: 0.6631 - precision_1: 0.2861 - recall_1: 0.7255 - val_loss: 0.4707 - val_auc_2: 0.3108 - val_auc_3: 0.6773 - val_precision_1: 0.2975 - val_recall_1: 0.7210\n",
      "Epoch 2/15\n",
      "12902/12902 [==============================] - 211s 16ms/step - loss: 0.4703 - auc_2: 0.3139 - auc_3: 0.6783 - precision_1: 0.2967 - recall_1: 0.7247 - val_loss: 0.4701 - val_auc_2: 0.3142 - val_auc_3: 0.6783 - val_precision_1: 0.2986 - val_recall_1: 0.7154\n",
      "Epoch 3/15\n",
      "12902/12902 [==============================] - 211s 16ms/step - loss: 0.4697 - auc_2: 0.3160 - auc_3: 0.6795 - precision_1: 0.2970 - recall_1: 0.7248 - val_loss: 0.4694 - val_auc_2: 0.3151 - val_auc_3: 0.6797 - val_precision_1: 0.2960 - val_recall_1: 0.7357\n",
      "Epoch 4/15\n",
      "12902/12902 [==============================] - 211s 16ms/step - loss: 0.4691 - auc_2: 0.3174 - auc_3: 0.6808 - precision_1: 0.2969 - recall_1: 0.7269 - val_loss: 0.4689 - val_auc_2: 0.3160 - val_auc_3: 0.6815 - val_precision_1: 0.2930 - val_recall_1: 0.7561\n",
      "Epoch 5/15\n",
      "12902/12902 [==============================] - 211s 16ms/step - loss: 0.4685 - auc_2: 0.3188 - auc_3: 0.6824 - precision_1: 0.2968 - recall_1: 0.7291 - val_loss: 0.4685 - val_auc_2: 0.3183 - val_auc_3: 0.6833 - val_precision_1: 0.3045 - val_recall_1: 0.6818\n",
      "Epoch 6/15\n",
      "12902/12902 [==============================] - 1103s 85ms/step - loss: 0.4677 - auc_2: 0.3216 - auc_3: 0.6842 - precision_1: 0.2968 - recall_1: 0.7309 - val_loss: 0.4675 - val_auc_2: 0.3210 - val_auc_3: 0.6853 - val_precision_1: 0.3035 - val_recall_1: 0.6907\n",
      "Epoch 7/15\n",
      "12902/12902 [==============================] - 202s 16ms/step - loss: 0.4670 - auc_2: 0.3231 - auc_3: 0.6859 - precision_1: 0.2963 - recall_1: 0.7340 - val_loss: 0.4663 - val_auc_2: 0.3232 - val_auc_3: 0.6870 - val_precision_1: 0.2973 - val_recall_1: 0.7323\n",
      "Epoch 8/15\n",
      "12902/12902 [==============================] - 202s 16ms/step - loss: 0.4662 - auc_2: 0.3250 - auc_3: 0.6874 - precision_1: 0.2955 - recall_1: 0.7399 - val_loss: 0.4655 - val_auc_2: 0.3246 - val_auc_3: 0.6887 - val_precision_1: 0.2990 - val_recall_1: 0.7269\n",
      "Epoch 9/15\n",
      "12902/12902 [==============================] - 202s 16ms/step - loss: 0.4656 - auc_2: 0.3258 - auc_3: 0.6886 - precision_1: 0.2957 - recall_1: 0.7454 - val_loss: 0.4650 - val_auc_2: 0.3255 - val_auc_3: 0.6895 - val_precision_1: 0.2963 - val_recall_1: 0.7476\n",
      "Epoch 10/15\n",
      "12902/12902 [==============================] - 201s 16ms/step - loss: 0.4652 - auc_2: 0.3266 - auc_3: 0.6894 - precision_1: 0.2951 - recall_1: 0.7512 - val_loss: 0.4646 - val_auc_2: 0.3264 - val_auc_3: 0.6901 - val_precision_1: 0.2937 - val_recall_1: 0.7619\n",
      "Epoch 11/15\n",
      "12902/12902 [==============================] - 201s 16ms/step - loss: 0.4649 - auc_2: 0.3273 - auc_3: 0.6902 - precision_1: 0.2946 - recall_1: 0.7551 - val_loss: 0.4643 - val_auc_2: 0.3271 - val_auc_3: 0.6907 - val_precision_1: 0.2958 - val_recall_1: 0.7540\n",
      "Epoch 12/15\n",
      "12902/12902 [==============================] - 203s 16ms/step - loss: 0.4646 - auc_2: 0.3281 - auc_3: 0.6909 - precision_1: 0.2946 - recall_1: 0.7579 - val_loss: 0.4640 - val_auc_2: 0.3283 - val_auc_3: 0.6921 - val_precision_1: 0.2973 - val_recall_1: 0.7429\n",
      "Epoch 13/15\n",
      "12902/12902 [==============================] - 202s 16ms/step - loss: 0.4644 - auc_2: 0.3287 - auc_3: 0.6914 - precision_1: 0.2942 - recall_1: 0.7583 - val_loss: 0.4637 - val_auc_2: 0.3293 - val_auc_3: 0.6929 - val_precision_1: 0.2945 - val_recall_1: 0.7629\n",
      "Epoch 14/15\n",
      "12902/12902 [==============================] - 200s 15ms/step - loss: 0.4642 - auc_2: 0.3290 - auc_3: 0.6922 - precision_1: 0.2942 - recall_1: 0.7598 - val_loss: 0.4636 - val_auc_2: 0.3305 - val_auc_3: 0.6939 - val_precision_1: 0.2944 - val_recall_1: 0.7673\n",
      "Epoch 15/15\n",
      "12902/12902 [==============================] - 202s 16ms/step - loss: 0.4641 - auc_2: 0.3298 - auc_3: 0.6928 - precision_1: 0.2947 - recall_1: 0.7593 - val_loss: 0.4636 - val_auc_2: 0.3310 - val_auc_3: 0.6946 - val_precision_1: 0.2899 - val_recall_1: 0.7903\n",
      "2:32\n",
      "Epoch 1/15\n"
     ]
    },
    {
     "name": "stderr",
     "output_type": "stream",
     "text": [
      "2024-01-04 11:13:52.430820: I tensorflow/core/grappler/optimizers/custom_graph_optimizer_registry.cc:114] Plugin optimizer for device_type GPU is enabled.\n"
     ]
    },
    {
     "name": "stdout",
     "output_type": "stream",
     "text": [
      "12902/12902 [==============================] - ETA: 0s - loss: 0.4740 - auc_4: 0.2960 - auc_5: 0.6696 - precision_2: 0.2900 - recall_2: 0.7297"
     ]
    },
    {
     "name": "stderr",
     "output_type": "stream",
     "text": [
      "2024-01-04 11:16:23.153577: I tensorflow/core/grappler/optimizers/custom_graph_optimizer_registry.cc:114] Plugin optimizer for device_type GPU is enabled.\n"
     ]
    },
    {
     "name": "stdout",
     "output_type": "stream",
     "text": [
      "12902/12902 [==============================] - 204s 16ms/step - loss: 0.4740 - auc_4: 0.2960 - auc_5: 0.6696 - precision_2: 0.2900 - recall_2: 0.7297 - val_loss: 0.4701 - val_auc_4: 0.3110 - val_auc_5: 0.6779 - val_precision_2: 0.2964 - val_recall_2: 0.7270\n",
      "Epoch 2/15\n",
      "12902/12902 [==============================] - 202s 16ms/step - loss: 0.4698 - auc_4: 0.3140 - auc_5: 0.6789 - precision_2: 0.2957 - recall_2: 0.7258 - val_loss: 0.4697 - val_auc_4: 0.3156 - val_auc_5: 0.6799 - val_precision_2: 0.2906 - val_recall_2: 0.7516\n",
      "Epoch 3/15\n",
      "12902/12902 [==============================] - 202s 16ms/step - loss: 0.4691 - auc_4: 0.3169 - auc_5: 0.6809 - precision_2: 0.2963 - recall_2: 0.7244 - val_loss: 0.4686 - val_auc_4: 0.3178 - val_auc_5: 0.6819 - val_precision_2: 0.2948 - val_recall_2: 0.7389\n",
      "Epoch 4/15\n",
      "12902/12902 [==============================] - 202s 16ms/step - loss: 0.4683 - auc_4: 0.3194 - auc_5: 0.6828 - precision_2: 0.2961 - recall_2: 0.7265 - val_loss: 0.4678 - val_auc_4: 0.3189 - val_auc_5: 0.6833 - val_precision_2: 0.2969 - val_recall_2: 0.7249\n",
      "Epoch 5/15\n",
      "12902/12902 [==============================] - 202s 16ms/step - loss: 0.4675 - auc_4: 0.3208 - auc_5: 0.6842 - precision_2: 0.2958 - recall_2: 0.7330 - val_loss: 0.4669 - val_auc_4: 0.3209 - val_auc_5: 0.6850 - val_precision_2: 0.2943 - val_recall_2: 0.7477\n",
      "Epoch 6/15\n",
      "12902/12902 [==============================] - 202s 16ms/step - loss: 0.4667 - auc_4: 0.3227 - auc_5: 0.6854 - precision_2: 0.2956 - recall_2: 0.7439 - val_loss: 0.4660 - val_auc_4: 0.3230 - val_auc_5: 0.6866 - val_precision_2: 0.2948 - val_recall_2: 0.7463\n",
      "Epoch 7/15\n",
      "12902/12902 [==============================] - 202s 16ms/step - loss: 0.4660 - auc_4: 0.3241 - auc_5: 0.6869 - precision_2: 0.2948 - recall_2: 0.7493 - val_loss: 0.4657 - val_auc_4: 0.3232 - val_auc_5: 0.6868 - val_precision_2: 0.2978 - val_recall_2: 0.7223\n",
      "Epoch 8/15\n",
      "12902/12902 [==============================] - 202s 16ms/step - loss: 0.4653 - auc_4: 0.3251 - auc_5: 0.6880 - precision_2: 0.2950 - recall_2: 0.7513 - val_loss: 0.4648 - val_auc_4: 0.3256 - val_auc_5: 0.6890 - val_precision_2: 0.2936 - val_recall_2: 0.7579\n",
      "Epoch 9/15\n",
      "12902/12902 [==============================] - 1102s 85ms/step - loss: 0.4648 - auc_4: 0.3266 - auc_5: 0.6896 - precision_2: 0.2957 - recall_2: 0.7530 - val_loss: 0.4652 - val_auc_4: 0.3283 - val_auc_5: 0.6912 - val_precision_2: 0.2881 - val_recall_2: 0.7943\n",
      "Epoch 10/15\n",
      "12902/12902 [==============================] - 2001s 155ms/step - loss: 0.4643 - auc_4: 0.3282 - auc_5: 0.6914 - precision_2: 0.2955 - recall_2: 0.7522 - val_loss: 0.4640 - val_auc_4: 0.3298 - val_auc_5: 0.6935 - val_precision_2: 0.2940 - val_recall_2: 0.7686\n",
      "Epoch 11/15\n",
      "12902/12902 [==============================] - 201s 16ms/step - loss: 0.4639 - auc_4: 0.3291 - auc_5: 0.6926 - precision_2: 0.2966 - recall_2: 0.7523 - val_loss: 0.4632 - val_auc_4: 0.3311 - val_auc_5: 0.6948 - val_precision_2: 0.3004 - val_recall_2: 0.7292\n",
      "Epoch 12/15\n",
      "12902/12902 [==============================] - 2003s 155ms/step - loss: 0.4635 - auc_4: 0.3307 - auc_5: 0.6939 - precision_2: 0.2967 - recall_2: 0.7506 - val_loss: 0.4627 - val_auc_4: 0.3325 - val_auc_5: 0.6961 - val_precision_2: 0.2976 - val_recall_2: 0.7502\n",
      "Epoch 13/15\n",
      "12902/12902 [==============================] - 200s 16ms/step - loss: 0.4632 - auc_4: 0.3318 - auc_5: 0.6945 - precision_2: 0.2970 - recall_2: 0.7508 - val_loss: 0.4628 - val_auc_4: 0.3321 - val_auc_5: 0.6959 - val_precision_2: 0.2999 - val_recall_2: 0.7333\n",
      "Epoch 14/15\n",
      "12902/12902 [==============================] - 219s 17ms/step - loss: 0.4630 - auc_4: 0.3321 - auc_5: 0.6951 - precision_2: 0.2974 - recall_2: 0.7496 - val_loss: 0.4625 - val_auc_4: 0.3345 - val_auc_5: 0.6971 - val_precision_2: 0.3013 - val_recall_2: 0.7284\n",
      "Epoch 15/15\n",
      "12902/12902 [==============================] - 202s 16ms/step - loss: 0.4628 - auc_4: 0.3332 - auc_5: 0.6955 - precision_2: 0.2973 - recall_2: 0.7494 - val_loss: 0.4621 - val_auc_4: 0.3347 - val_auc_5: 0.6971 - val_precision_2: 0.2962 - val_recall_2: 0.7606\n",
      "3:64\n",
      "Epoch 1/15\n"
     ]
    },
    {
     "name": "stderr",
     "output_type": "stream",
     "text": [
      "2024-01-04 13:19:39.141019: I tensorflow/core/grappler/optimizers/custom_graph_optimizer_registry.cc:114] Plugin optimizer for device_type GPU is enabled.\n"
     ]
    },
    {
     "name": "stdout",
     "output_type": "stream",
     "text": [
      "12902/12902 [==============================] - ETA: 0s - loss: 0.4725 - auc_6: 0.3017 - auc_7: 0.6731 - precision_3: 0.2926 - recall_3: 0.7276"
     ]
    },
    {
     "name": "stderr",
     "output_type": "stream",
     "text": [
      "2024-01-04 13:22:08.700520: I tensorflow/core/grappler/optimizers/custom_graph_optimizer_registry.cc:114] Plugin optimizer for device_type GPU is enabled.\n"
     ]
    },
    {
     "name": "stdout",
     "output_type": "stream",
     "text": [
      "12902/12902 [==============================] - 201s 16ms/step - loss: 0.4725 - auc_6: 0.3017 - auc_7: 0.6731 - precision_3: 0.2926 - recall_3: 0.7276 - val_loss: 0.4703 - val_auc_6: 0.3118 - val_auc_7: 0.6775 - val_precision_3: 0.2990 - val_recall_3: 0.7129\n",
      "Epoch 2/15\n",
      "12902/12902 [==============================] - 241s 19ms/step - loss: 0.4699 - auc_6: 0.3139 - auc_7: 0.6787 - precision_3: 0.2949 - recall_3: 0.7283 - val_loss: 0.4694 - val_auc_6: 0.3124 - val_auc_7: 0.6795 - val_precision_3: 0.2938 - val_recall_3: 0.7436\n",
      "Epoch 3/15\n",
      "12902/12902 [==============================] - 256s 20ms/step - loss: 0.4689 - auc_6: 0.3168 - auc_7: 0.6812 - precision_3: 0.2956 - recall_3: 0.7339 - val_loss: 0.4681 - val_auc_6: 0.3181 - val_auc_7: 0.6830 - val_precision_3: 0.3000 - val_recall_3: 0.6994\n",
      "Epoch 4/15\n",
      "12902/12902 [==============================] - 297s 23ms/step - loss: 0.4674 - auc_6: 0.3205 - auc_7: 0.6838 - precision_3: 0.2949 - recall_3: 0.7425 - val_loss: 0.4665 - val_auc_6: 0.3209 - val_auc_7: 0.6847 - val_precision_3: 0.2952 - val_recall_3: 0.7322\n",
      "Epoch 5/15\n",
      "12902/12902 [==============================] - 227s 18ms/step - loss: 0.4663 - auc_6: 0.3230 - auc_7: 0.6858 - precision_3: 0.2936 - recall_3: 0.7508 - val_loss: 0.4655 - val_auc_6: 0.3241 - val_auc_7: 0.6880 - val_precision_3: 0.2921 - val_recall_3: 0.7705\n",
      "Epoch 6/15\n",
      "12902/12902 [==============================] - 202s 16ms/step - loss: 0.4655 - auc_6: 0.3253 - auc_7: 0.6881 - precision_3: 0.2940 - recall_3: 0.7559 - val_loss: 0.4648 - val_auc_6: 0.3282 - val_auc_7: 0.6907 - val_precision_3: 0.2906 - val_recall_3: 0.7684\n",
      "Epoch 7/15\n",
      "12902/12902 [==============================] - 1101s 85ms/step - loss: 0.4647 - auc_6: 0.3277 - auc_7: 0.6906 - precision_3: 0.2943 - recall_3: 0.7608 - val_loss: 0.4640 - val_auc_6: 0.3305 - val_auc_7: 0.6930 - val_precision_3: 0.2914 - val_recall_3: 0.7796\n",
      "Epoch 8/15\n",
      "12902/12902 [==============================] - 203s 16ms/step - loss: 0.4639 - auc_6: 0.3300 - auc_7: 0.6935 - precision_3: 0.2945 - recall_3: 0.7631 - val_loss: 0.4633 - val_auc_6: 0.3330 - val_auc_7: 0.6968 - val_precision_3: 0.2998 - val_recall_3: 0.7343\n",
      "Epoch 9/15\n",
      "12902/12902 [==============================] - 203s 16ms/step - loss: 0.4632 - auc_6: 0.3322 - auc_7: 0.6955 - precision_3: 0.2947 - recall_3: 0.7646 - val_loss: 0.4625 - val_auc_6: 0.3354 - val_auc_7: 0.6979 - val_precision_3: 0.2995 - val_recall_3: 0.7364\n",
      "Epoch 10/15\n",
      "12902/12902 [==============================] - 202s 16ms/step - loss: 0.4627 - auc_6: 0.3344 - auc_7: 0.6967 - precision_3: 0.2949 - recall_3: 0.7664 - val_loss: 0.4616 - val_auc_6: 0.3385 - val_auc_7: 0.6992 - val_precision_3: 0.2954 - val_recall_3: 0.7693\n",
      "Epoch 11/15\n",
      "12902/12902 [==============================] - 203s 16ms/step - loss: 0.4622 - auc_6: 0.3360 - auc_7: 0.6976 - precision_3: 0.2955 - recall_3: 0.7655 - val_loss: 0.4614 - val_auc_6: 0.3388 - val_auc_7: 0.6992 - val_precision_3: 0.2967 - val_recall_3: 0.7618\n",
      "Epoch 12/15\n",
      "12902/12902 [==============================] - 202s 16ms/step - loss: 0.4619 - auc_6: 0.3375 - auc_7: 0.6982 - precision_3: 0.2953 - recall_3: 0.7664 - val_loss: 0.4611 - val_auc_6: 0.3401 - val_auc_7: 0.7001 - val_precision_3: 0.2995 - val_recall_3: 0.7493\n",
      "Epoch 13/15\n",
      "12902/12902 [==============================] - 203s 16ms/step - loss: 0.4617 - auc_6: 0.3384 - auc_7: 0.6985 - precision_3: 0.2954 - recall_3: 0.7662 - val_loss: 0.4609 - val_auc_6: 0.3409 - val_auc_7: 0.7006 - val_precision_3: 0.2945 - val_recall_3: 0.7779\n",
      "Epoch 14/15\n",
      "12902/12902 [==============================] - 201s 16ms/step - loss: 0.4615 - auc_6: 0.3388 - auc_7: 0.6990 - precision_3: 0.2951 - recall_3: 0.7689 - val_loss: 0.4606 - val_auc_6: 0.3415 - val_auc_7: 0.7009 - val_precision_3: 0.2964 - val_recall_3: 0.7654\n",
      "Epoch 15/15\n",
      "12902/12902 [==============================] - 202s 16ms/step - loss: 0.4614 - auc_6: 0.3396 - auc_7: 0.6991 - precision_3: 0.2955 - recall_3: 0.7699 - val_loss: 0.4606 - val_auc_6: 0.3420 - val_auc_7: 0.7014 - val_precision_3: 0.2963 - val_recall_3: 0.7685\n"
     ]
    }
   ],
   "source": [
    "# Try the activations\n",
    "all_hist_hz_lr = do_model_trials_hidden_size(X_train, y_train, X_val, y_val, lr=0.0001,\n",
    "                                            hidden_size_ary=[8,16,32,64])"
   ]
  },
  {
   "cell_type": "code",
   "execution_count": 27,
   "id": "a8ed8058-0a9c-4663-a77a-be04a9d3a646",
   "metadata": {},
   "outputs": [],
   "source": [
    "cur_col = list(all_hist_hz_lr.columns)\n",
    "all_hist_hz_lr.columns = [cur_col[0]] + \\\n",
    "    [f'{cur_col[i]}_roc' if cur_col[i] == cur_col[i-1] else cur_col[i] \\\n",
    "     for i in range(1, len(cur_col))]"
   ]
  },
  {
   "cell_type": "code",
   "execution_count": 28,
   "id": "4f0f2369-767c-4511-a7aa-06950ea244ce",
   "metadata": {},
   "outputs": [],
   "source": [
    "all_hist_hz_lr.to_parquet(Path(setup.temp_path).joinpath('TMP_10_DATA_keras_test_hidden_size_lr.parquet'))\n",
    "all_hist_hz_lr.to_csv(Path(setup.temp_path).joinpath('TMP_10_DATA_keras_test_hidden_size_lr.csv'))"
   ]
  },
  {
   "cell_type": "code",
   "execution_count": 29,
   "id": "f7987e40-429d-423b-b044-2176daf26801",
   "metadata": {},
   "outputs": [
    {
     "data": {
      "text/html": [
       "<div>\n",
       "<style scoped>\n",
       "    .dataframe tbody tr th:only-of-type {\n",
       "        vertical-align: middle;\n",
       "    }\n",
       "\n",
       "    .dataframe tbody tr th {\n",
       "        vertical-align: top;\n",
       "    }\n",
       "\n",
       "    .dataframe thead th {\n",
       "        text-align: right;\n",
       "    }\n",
       "</style>\n",
       "<table border=\"1\" class=\"dataframe\">\n",
       "  <thead>\n",
       "    <tr style=\"text-align: right;\">\n",
       "      <th></th>\n",
       "      <th>loss</th>\n",
       "      <th>auc</th>\n",
       "      <th>auc_roc</th>\n",
       "      <th>precision</th>\n",
       "      <th>recall</th>\n",
       "      <th>val_loss</th>\n",
       "      <th>val_auc</th>\n",
       "      <th>val_auc_roc</th>\n",
       "      <th>val_precision</th>\n",
       "      <th>val_recall</th>\n",
       "      <th>run_id</th>\n",
       "      <th>activation</th>\n",
       "      <th>batch_size</th>\n",
       "      <th>epochs</th>\n",
       "      <th>base_thresh</th>\n",
       "      <th>n_feat</th>\n",
       "      <th>hidden_size</th>\n",
       "      <th>n_layers</th>\n",
       "      <th>learning_rate</th>\n",
       "    </tr>\n",
       "  </thead>\n",
       "  <tbody>\n",
       "    <tr>\n",
       "      <th>14</th>\n",
       "      <td>0.461406</td>\n",
       "      <td>0.339596</td>\n",
       "      <td>0.699120</td>\n",
       "      <td>0.295539</td>\n",
       "      <td>0.769893</td>\n",
       "      <td>0.460606</td>\n",
       "      <td>0.342049</td>\n",
       "      <td>0.701409</td>\n",
       "      <td>0.296279</td>\n",
       "      <td>0.768456</td>\n",
       "      <td>3</td>\n",
       "      <td>tanh</td>\n",
       "      <td>32</td>\n",
       "      <td>15</td>\n",
       "      <td>0.2</td>\n",
       "      <td>10</td>\n",
       "      <td>64</td>\n",
       "      <td>2</td>\n",
       "      <td>0.0001</td>\n",
       "    </tr>\n",
       "    <tr>\n",
       "      <th>14</th>\n",
       "      <td>0.462803</td>\n",
       "      <td>0.333184</td>\n",
       "      <td>0.695533</td>\n",
       "      <td>0.297256</td>\n",
       "      <td>0.749430</td>\n",
       "      <td>0.462098</td>\n",
       "      <td>0.334718</td>\n",
       "      <td>0.697137</td>\n",
       "      <td>0.296154</td>\n",
       "      <td>0.760626</td>\n",
       "      <td>2</td>\n",
       "      <td>tanh</td>\n",
       "      <td>32</td>\n",
       "      <td>15</td>\n",
       "      <td>0.2</td>\n",
       "      <td>10</td>\n",
       "      <td>32</td>\n",
       "      <td>2</td>\n",
       "      <td>0.0001</td>\n",
       "    </tr>\n",
       "    <tr>\n",
       "      <th>14</th>\n",
       "      <td>0.464096</td>\n",
       "      <td>0.329832</td>\n",
       "      <td>0.692827</td>\n",
       "      <td>0.294749</td>\n",
       "      <td>0.759286</td>\n",
       "      <td>0.463623</td>\n",
       "      <td>0.331000</td>\n",
       "      <td>0.694582</td>\n",
       "      <td>0.289921</td>\n",
       "      <td>0.790336</td>\n",
       "      <td>1</td>\n",
       "      <td>tanh</td>\n",
       "      <td>32</td>\n",
       "      <td>15</td>\n",
       "      <td>0.2</td>\n",
       "      <td>10</td>\n",
       "      <td>16</td>\n",
       "      <td>2</td>\n",
       "      <td>0.0001</td>\n",
       "    </tr>\n",
       "    <tr>\n",
       "      <th>14</th>\n",
       "      <td>0.465731</td>\n",
       "      <td>0.322757</td>\n",
       "      <td>0.686460</td>\n",
       "      <td>0.294409</td>\n",
       "      <td>0.759381</td>\n",
       "      <td>0.465468</td>\n",
       "      <td>0.322143</td>\n",
       "      <td>0.686929</td>\n",
       "      <td>0.296076</td>\n",
       "      <td>0.750112</td>\n",
       "      <td>0</td>\n",
       "      <td>tanh</td>\n",
       "      <td>32</td>\n",
       "      <td>15</td>\n",
       "      <td>0.2</td>\n",
       "      <td>10</td>\n",
       "      <td>8</td>\n",
       "      <td>2</td>\n",
       "      <td>0.0001</td>\n",
       "    </tr>\n",
       "  </tbody>\n",
       "</table>\n",
       "</div>"
      ],
      "text/plain": [
       "        loss       auc   auc_roc  precision    recall  val_loss   val_auc  \\\n",
       "14  0.461406  0.339596  0.699120   0.295539  0.769893  0.460606  0.342049   \n",
       "14  0.462803  0.333184  0.695533   0.297256  0.749430  0.462098  0.334718   \n",
       "14  0.464096  0.329832  0.692827   0.294749  0.759286  0.463623  0.331000   \n",
       "14  0.465731  0.322757  0.686460   0.294409  0.759381  0.465468  0.322143   \n",
       "\n",
       "    val_auc_roc  val_precision  val_recall  run_id activation  batch_size  \\\n",
       "14     0.701409       0.296279    0.768456       3       tanh          32   \n",
       "14     0.697137       0.296154    0.760626       2       tanh          32   \n",
       "14     0.694582       0.289921    0.790336       1       tanh          32   \n",
       "14     0.686929       0.296076    0.750112       0       tanh          32   \n",
       "\n",
       "    epochs  base_thresh  n_feat  hidden_size  n_layers  learning_rate  \n",
       "14      15          0.2      10           64         2         0.0001  \n",
       "14      15          0.2      10           32         2         0.0001  \n",
       "14      15          0.2      10           16         2         0.0001  \n",
       "14      15          0.2      10            8         2         0.0001  "
      ]
     },
     "execution_count": 29,
     "metadata": {},
     "output_type": "execute_result"
    }
   ],
   "source": [
    "all_hist_hz_lr.groupby('run_id').tail(1).sort_values('val_auc', ascending=False)"
   ]
  },
  {
   "cell_type": "code",
   "execution_count": 32,
   "id": "ed780c3d-c885-4aa4-9421-c24d7ffbdf04",
   "metadata": {},
   "outputs": [
    {
     "data": {
      "image/png": "[encoded data removed]",
      "text/plain": [
       "<Figure size 640x480 with 1 Axes>"
      ]
     },
     "metadata": {},
     "output_type": "display_data"
    }
   ],
   "source": [
    "train_plot(all_hist_hz_lr, 'val_auc', 'hidden_size')"
   ]
  },
  {
   "cell_type": "code",
   "execution_count": 33,
   "id": "1e25fb3c-7ee0-4d0b-ac51-610d435103a9",
   "metadata": {},
   "outputs": [
    {
     "name": "stdout",
     "output_type": "stream",
     "text": [
      "0:8\n",
      "Epoch 1/15\n"
     ]
    },
    {
     "name": "stderr",
     "output_type": "stream",
     "text": [
      "2024-01-04 17:16:11.962659: I tensorflow/core/grappler/optimizers/custom_graph_optimizer_registry.cc:114] Plugin optimizer for device_type GPU is enabled.\n"
     ]
    },
    {
     "name": "stdout",
     "output_type": "stream",
     "text": [
      "12902/12902 [==============================] - ETA: 0s - loss: 0.4732 - auc_8: 0.3048 - auc_9: 0.6729 - precision_4: 0.2920 - recall_4: 0.7265"
     ]
    },
    {
     "name": "stderr",
     "output_type": "stream",
     "text": [
      "2024-01-04 17:18:51.020054: I tensorflow/core/grappler/optimizers/custom_graph_optimizer_registry.cc:114] Plugin optimizer for device_type GPU is enabled.\n"
     ]
    },
    {
     "name": "stdout",
     "output_type": "stream",
     "text": [
      "12902/12902 [==============================] - 211s 16ms/step - loss: 0.4732 - auc_8: 0.3048 - auc_9: 0.6729 - precision_4: 0.2920 - recall_4: 0.7265 - val_loss: 0.4682 - val_auc_8: 0.3209 - val_auc_9: 0.6817 - val_precision_4: 0.2909 - val_recall_4: 0.7566\n",
      "Epoch 2/15\n",
      "12902/12902 [==============================] - 209s 16ms/step - loss: 0.4669 - auc_8: 0.3232 - auc_9: 0.6846 - precision_4: 0.2924 - recall_4: 0.7488 - val_loss: 0.4655 - val_auc_8: 0.3270 - val_auc_9: 0.6892 - val_precision_4: 0.2953 - val_recall_4: 0.7493\n",
      "Epoch 3/15\n",
      "12902/12902 [==============================] - 207s 16ms/step - loss: 0.4650 - auc_8: 0.3283 - auc_9: 0.6902 - precision_4: 0.2929 - recall_4: 0.7637 - val_loss: 0.4637 - val_auc_8: 0.3325 - val_auc_9: 0.6934 - val_precision_4: 0.2928 - val_recall_4: 0.7756\n",
      "Epoch 4/15\n",
      "12902/12902 [==============================] - 1106s 86ms/step - loss: 0.4639 - auc_8: 0.3314 - auc_9: 0.6934 - precision_4: 0.2943 - recall_4: 0.7670 - val_loss: 0.4631 - val_auc_8: 0.3356 - val_auc_9: 0.6964 - val_precision_4: 0.2911 - val_recall_4: 0.7897\n",
      "Epoch 5/15\n",
      "12902/12902 [==============================] - 201s 16ms/step - loss: 0.4633 - auc_8: 0.3339 - auc_9: 0.6950 - precision_4: 0.2947 - recall_4: 0.7662 - val_loss: 0.4647 - val_auc_8: 0.3364 - val_auc_9: 0.6968 - val_precision_4: 0.2835 - val_recall_4: 0.8265\n",
      "Epoch 6/15\n",
      "12902/12902 [==============================] - 1101s 85ms/step - loss: 0.4630 - auc_8: 0.3347 - auc_9: 0.6958 - precision_4: 0.2950 - recall_4: 0.7647 - val_loss: 0.4624 - val_auc_8: 0.3385 - val_auc_9: 0.6987 - val_precision_4: 0.3007 - val_recall_4: 0.7406\n",
      "Epoch 7/15\n",
      "12902/12902 [==============================] - 200s 15ms/step - loss: 0.4627 - auc_8: 0.3356 - auc_9: 0.6963 - precision_4: 0.2953 - recall_4: 0.7650 - val_loss: 0.4619 - val_auc_8: 0.3376 - val_auc_9: 0.6978 - val_precision_4: 0.2940 - val_recall_4: 0.7792\n",
      "Epoch 8/15\n",
      "12902/12902 [==============================] - 200s 16ms/step - loss: 0.4625 - auc_8: 0.3359 - auc_9: 0.6967 - precision_4: 0.2956 - recall_4: 0.7643 - val_loss: 0.4622 - val_auc_8: 0.3394 - val_auc_9: 0.6990 - val_precision_4: 0.2888 - val_recall_4: 0.8042\n",
      "Epoch 9/15\n",
      "12902/12902 [==============================] - 201s 16ms/step - loss: 0.4623 - auc_8: 0.3365 - auc_9: 0.6973 - precision_4: 0.2956 - recall_4: 0.7641 - val_loss: 0.4617 - val_auc_8: 0.3400 - val_auc_9: 0.6997 - val_precision_4: 0.2993 - val_recall_4: 0.7490\n",
      "Epoch 10/15\n",
      "12902/12902 [==============================] - 201s 16ms/step - loss: 0.4622 - auc_8: 0.3362 - auc_9: 0.6973 - precision_4: 0.2955 - recall_4: 0.7640 - val_loss: 0.4612 - val_auc_8: 0.3405 - val_auc_9: 0.6998 - val_precision_4: 0.2970 - val_recall_4: 0.7619\n",
      "Epoch 11/15\n",
      "12902/12902 [==============================] - 200s 15ms/step - loss: 0.4620 - auc_8: 0.3371 - auc_9: 0.6978 - precision_4: 0.2960 - recall_4: 0.7634 - val_loss: 0.4613 - val_auc_8: 0.3401 - val_auc_9: 0.6997 - val_precision_4: 0.2943 - val_recall_4: 0.7778\n",
      "Epoch 12/15\n",
      "12902/12902 [==============================] - 200s 16ms/step - loss: 0.4619 - auc_8: 0.3370 - auc_9: 0.6981 - precision_4: 0.2960 - recall_4: 0.7628 - val_loss: 0.4608 - val_auc_8: 0.3413 - val_auc_9: 0.7006 - val_precision_4: 0.2958 - val_recall_4: 0.7692\n",
      "Epoch 13/15\n",
      "12902/12902 [==============================] - 200s 16ms/step - loss: 0.4618 - auc_8: 0.3370 - auc_9: 0.6982 - precision_4: 0.2959 - recall_4: 0.7640 - val_loss: 0.4611 - val_auc_8: 0.3411 - val_auc_9: 0.7002 - val_precision_4: 0.3010 - val_recall_4: 0.7390\n",
      "Epoch 14/15\n",
      "12902/12902 [==============================] - 200s 16ms/step - loss: 0.4618 - auc_8: 0.3371 - auc_9: 0.6982 - precision_4: 0.2966 - recall_4: 0.7627 - val_loss: 0.4607 - val_auc_8: 0.3417 - val_auc_9: 0.7011 - val_precision_4: 0.2942 - val_recall_4: 0.7795\n",
      "Epoch 15/15\n",
      "12902/12902 [==============================] - 200s 16ms/step - loss: 0.4617 - auc_8: 0.3369 - auc_9: 0.6982 - precision_4: 0.2962 - recall_4: 0.7641 - val_loss: 0.4612 - val_auc_8: 0.3423 - val_auc_9: 0.7014 - val_precision_4: 0.2912 - val_recall_4: 0.7934\n",
      "1:16\n",
      "Epoch 1/15\n"
     ]
    },
    {
     "name": "stderr",
     "output_type": "stream",
     "text": [
      "2024-01-04 18:36:49.096750: I tensorflow/core/grappler/optimizers/custom_graph_optimizer_registry.cc:114] Plugin optimizer for device_type GPU is enabled.\n"
     ]
    },
    {
     "name": "stdout",
     "output_type": "stream",
     "text": [
      "12902/12902 [==============================] - ETA: 0s - loss: 0.4708 - auc_10: 0.3085 - auc_11: 0.6778 - precision_5: 0.2927 - recall_5: 0.7250"
     ]
    },
    {
     "name": "stderr",
     "output_type": "stream",
     "text": [
      "2024-01-04 18:39:18.944065: I tensorflow/core/grappler/optimizers/custom_graph_optimizer_registry.cc:114] Plugin optimizer for device_type GPU is enabled.\n"
     ]
    },
    {
     "name": "stdout",
     "output_type": "stream",
     "text": [
      "12902/12902 [==============================] - 201s 16ms/step - loss: 0.4708 - auc_10: 0.3085 - auc_11: 0.6778 - precision_5: 0.2927 - recall_5: 0.7250 - val_loss: 0.4687 - val_auc_10: 0.3218 - val_auc_11: 0.6860 - val_precision_5: 0.2912 - val_recall_5: 0.7645\n",
      "Epoch 2/15\n",
      "12902/12902 [==============================] - 200s 15ms/step - loss: 0.4672 - auc_10: 0.3214 - auc_11: 0.6852 - precision_5: 0.2954 - recall_5: 0.7347 - val_loss: 0.4657 - val_auc_10: 0.3230 - val_auc_11: 0.6874 - val_precision_5: 0.2986 - val_recall_5: 0.7240\n",
      "Epoch 3/15\n",
      "12902/12902 [==============================] - 200s 16ms/step - loss: 0.4654 - auc_10: 0.3255 - auc_11: 0.6888 - precision_5: 0.2956 - recall_5: 0.7411 - val_loss: 0.4639 - val_auc_10: 0.3300 - val_auc_11: 0.6938 - val_precision_5: 0.3007 - val_recall_5: 0.7259\n",
      "Epoch 4/15\n",
      "12902/12902 [==============================] - 200s 16ms/step - loss: 0.4639 - auc_10: 0.3292 - auc_11: 0.6932 - precision_5: 0.2965 - recall_5: 0.7399 - val_loss: 0.4626 - val_auc_10: 0.3339 - val_auc_11: 0.6968 - val_precision_5: 0.2968 - val_recall_5: 0.7530\n",
      "Epoch 5/15\n",
      "12902/12902 [==============================] - 201s 16ms/step - loss: 0.4633 - auc_10: 0.3317 - auc_11: 0.6949 - precision_5: 0.2972 - recall_5: 0.7405 - val_loss: 0.4622 - val_auc_10: 0.3367 - val_auc_11: 0.6984 - val_precision_5: 0.3006 - val_recall_5: 0.7313\n",
      "Epoch 6/15\n",
      "12902/12902 [==============================] - 201s 16ms/step - loss: 0.4630 - auc_10: 0.3332 - auc_11: 0.6958 - precision_5: 0.2974 - recall_5: 0.7407 - val_loss: 0.4617 - val_auc_10: 0.3382 - val_auc_11: 0.6992 - val_precision_5: 0.3018 - val_recall_5: 0.7266\n",
      "Epoch 7/15\n",
      "12902/12902 [==============================] - 201s 16ms/step - loss: 0.4628 - auc_10: 0.3340 - auc_11: 0.6963 - precision_5: 0.2973 - recall_5: 0.7435 - val_loss: 0.4620 - val_auc_10: 0.3371 - val_auc_11: 0.6983 - val_precision_5: 0.2923 - val_recall_5: 0.7841\n",
      "Epoch 8/15\n",
      "12902/12902 [==============================] - 201s 16ms/step - loss: 0.4626 - auc_10: 0.3350 - auc_11: 0.6968 - precision_5: 0.2974 - recall_5: 0.7467 - val_loss: 0.4616 - val_auc_10: 0.3384 - val_auc_11: 0.6992 - val_precision_5: 0.3005 - val_recall_5: 0.7398\n",
      "Epoch 9/15\n",
      "12902/12902 [==============================] - 285s 22ms/step - loss: 0.4623 - auc_10: 0.3354 - auc_11: 0.6973 - precision_5: 0.2972 - recall_5: 0.7519 - val_loss: 0.4615 - val_auc_10: 0.3417 - val_auc_11: 0.7007 - val_precision_5: 0.2978 - val_recall_5: 0.7543\n",
      "Epoch 10/15\n",
      "12902/12902 [==============================] - 200s 16ms/step - loss: 0.4622 - auc_10: 0.3366 - auc_11: 0.6977 - precision_5: 0.2971 - recall_5: 0.7533 - val_loss: 0.4613 - val_auc_10: 0.3412 - val_auc_11: 0.7010 - val_precision_5: 0.2900 - val_recall_5: 0.7990\n",
      "Epoch 11/15\n",
      "12902/12902 [==============================] - 328s 25ms/step - loss: 0.4620 - auc_10: 0.3371 - auc_11: 0.6980 - precision_5: 0.2962 - recall_5: 0.7553 - val_loss: 0.4614 - val_auc_10: 0.3402 - val_auc_11: 0.7003 - val_precision_5: 0.2990 - val_recall_5: 0.7526\n",
      "Epoch 12/15\n",
      "12902/12902 [==============================] - 1101s 85ms/step - loss: 0.4618 - auc_10: 0.3376 - auc_11: 0.6983 - precision_5: 0.2968 - recall_5: 0.7562 - val_loss: 0.4609 - val_auc_10: 0.3426 - val_auc_11: 0.7014 - val_precision_5: 0.2938 - val_recall_5: 0.7805\n",
      "Epoch 13/15\n",
      "12902/12902 [==============================] - 201s 16ms/step - loss: 0.4616 - auc_10: 0.3384 - auc_11: 0.6988 - precision_5: 0.2970 - recall_5: 0.7574 - val_loss: 0.4610 - val_auc_10: 0.3410 - val_auc_11: 0.7008 - val_precision_5: 0.3035 - val_recall_5: 0.7267\n",
      "Epoch 14/15\n",
      "12902/12902 [==============================] - 202s 16ms/step - loss: 0.4616 - auc_10: 0.3385 - auc_11: 0.6989 - precision_5: 0.2967 - recall_5: 0.7580 - val_loss: 0.4609 - val_auc_10: 0.3432 - val_auc_11: 0.7016 - val_precision_5: 0.2983 - val_recall_5: 0.7574\n",
      "Epoch 15/15\n",
      "12902/12902 [==============================] - 201s 16ms/step - loss: 0.4615 - auc_10: 0.3389 - auc_11: 0.6991 - precision_5: 0.2970 - recall_5: 0.7570 - val_loss: 0.4608 - val_auc_10: 0.3419 - val_auc_11: 0.7016 - val_precision_5: 0.2950 - val_recall_5: 0.7758\n",
      "2:32\n",
      "Epoch 1/15\n"
     ]
    },
    {
     "name": "stderr",
     "output_type": "stream",
     "text": [
      "2024-01-04 19:45:35.215426: I tensorflow/core/grappler/optimizers/custom_graph_optimizer_registry.cc:114] Plugin optimizer for device_type GPU is enabled.\n"
     ]
    },
    {
     "name": "stdout",
     "output_type": "stream",
     "text": [
      "12902/12902 [==============================] - ETA: 0s - loss: 0.4705 - auc_12: 0.3096 - auc_13: 0.6772 - precision_6: 0.2927 - recall_6: 0.7287"
     ]
    },
    {
     "name": "stderr",
     "output_type": "stream",
     "text": [
      "2024-01-04 19:48:05.873405: I tensorflow/core/grappler/optimizers/custom_graph_optimizer_registry.cc:114] Plugin optimizer for device_type GPU is enabled.\n"
     ]
    },
    {
     "name": "stdout",
     "output_type": "stream",
     "text": [
      "12902/12902 [==============================] - 202s 16ms/step - loss: 0.4705 - auc_12: 0.3096 - auc_13: 0.6772 - precision_6: 0.2927 - recall_6: 0.7287 - val_loss: 0.4684 - val_auc_12: 0.3226 - val_auc_13: 0.6862 - val_precision_6: 0.2856 - val_recall_6: 0.7977\n",
      "Epoch 2/15\n",
      "12902/12902 [==============================] - 202s 16ms/step - loss: 0.4655 - auc_12: 0.3253 - auc_13: 0.6882 - precision_6: 0.2957 - recall_6: 0.7400 - val_loss: 0.4640 - val_auc_12: 0.3292 - val_auc_13: 0.6929 - val_precision_6: 0.2961 - val_recall_6: 0.7460\n",
      "Epoch 3/15\n",
      "12902/12902 [==============================] - 202s 16ms/step - loss: 0.4636 - auc_12: 0.3302 - auc_13: 0.6935 - precision_6: 0.2951 - recall_6: 0.7540 - val_loss: 0.4627 - val_auc_12: 0.3342 - val_auc_13: 0.6973 - val_precision_6: 0.2926 - val_recall_6: 0.7782\n",
      "Epoch 4/15\n",
      "12902/12902 [==============================] - 202s 16ms/step - loss: 0.4631 - auc_12: 0.3325 - auc_13: 0.6952 - precision_6: 0.2946 - recall_6: 0.7637 - val_loss: 0.4624 - val_auc_12: 0.3344 - val_auc_13: 0.6970 - val_precision_6: 0.2972 - val_recall_6: 0.7587\n",
      "Epoch 5/15\n",
      "12902/12902 [==============================] - 202s 16ms/step - loss: 0.4627 - auc_12: 0.3333 - auc_13: 0.6957 - precision_6: 0.2938 - recall_6: 0.7704 - val_loss: 0.4621 - val_auc_12: 0.3365 - val_auc_13: 0.6980 - val_precision_6: 0.2894 - val_recall_6: 0.7976\n",
      "Epoch 6/15\n",
      "12902/12902 [==============================] - 201s 16ms/step - loss: 0.4626 - auc_12: 0.3339 - auc_13: 0.6961 - precision_6: 0.2931 - recall_6: 0.7756 - val_loss: 0.4617 - val_auc_12: 0.3379 - val_auc_13: 0.6988 - val_precision_6: 0.2994 - val_recall_6: 0.7495\n",
      "Epoch 7/15\n",
      "12902/12902 [==============================] - 202s 16ms/step - loss: 0.4623 - auc_12: 0.3353 - auc_13: 0.6968 - precision_6: 0.2933 - recall_6: 0.7765 - val_loss: 0.4616 - val_auc_12: 0.3391 - val_auc_13: 0.6995 - val_precision_6: 0.2991 - val_recall_6: 0.7524\n",
      "Epoch 8/15\n",
      "12902/12902 [==============================] - 203s 16ms/step - loss: 0.4621 - auc_12: 0.3360 - auc_13: 0.6975 - precision_6: 0.2935 - recall_6: 0.7768 - val_loss: 0.4613 - val_auc_12: 0.3402 - val_auc_13: 0.7003 - val_precision_6: 0.2889 - val_recall_6: 0.8062\n",
      "Epoch 9/15\n",
      "12902/12902 [==============================] - 202s 16ms/step - loss: 0.4620 - auc_12: 0.3371 - auc_13: 0.6978 - precision_6: 0.2935 - recall_6: 0.7766 - val_loss: 0.4615 - val_auc_12: 0.3406 - val_auc_13: 0.7005 - val_precision_6: 0.2873 - val_recall_6: 0.8131\n",
      "Epoch 10/15\n",
      "12902/12902 [==============================] - 202s 16ms/step - loss: 0.4618 - auc_12: 0.3369 - auc_13: 0.6980 - precision_6: 0.2936 - recall_6: 0.7773 - val_loss: 0.4613 - val_auc_12: 0.3400 - val_auc_13: 0.7003 - val_precision_6: 0.2913 - val_recall_6: 0.7951\n",
      "Epoch 11/15\n",
      "12902/12902 [==============================] - 203s 16ms/step - loss: 0.4617 - auc_12: 0.3378 - auc_13: 0.6984 - precision_6: 0.2944 - recall_6: 0.7743 - val_loss: 0.4610 - val_auc_12: 0.3411 - val_auc_13: 0.7004 - val_precision_6: 0.2977 - val_recall_6: 0.7582\n",
      "Epoch 12/15\n",
      "12902/12902 [==============================] - 202s 16ms/step - loss: 0.4616 - auc_12: 0.3383 - auc_13: 0.6988 - precision_6: 0.2945 - recall_6: 0.7720 - val_loss: 0.4609 - val_auc_12: 0.3422 - val_auc_13: 0.7012 - val_precision_6: 0.2917 - val_recall_6: 0.7918\n",
      "Epoch 13/15\n",
      "12902/12902 [==============================] - 201s 16ms/step - loss: 0.4615 - auc_12: 0.3388 - auc_13: 0.6990 - precision_6: 0.2951 - recall_6: 0.7705 - val_loss: 0.4606 - val_auc_12: 0.3416 - val_auc_13: 0.7014 - val_precision_6: 0.3004 - val_recall_6: 0.7502\n",
      "Epoch 14/15\n",
      "12902/12902 [==============================] - 203s 16ms/step - loss: 0.4614 - auc_12: 0.3391 - auc_13: 0.6993 - precision_6: 0.2957 - recall_6: 0.7670 - val_loss: 0.4606 - val_auc_12: 0.3418 - val_auc_13: 0.7019 - val_precision_6: 0.2907 - val_recall_6: 0.7982\n",
      "Epoch 15/15\n",
      "12902/12902 [==============================] - 203s 16ms/step - loss: 0.4612 - auc_12: 0.3397 - auc_13: 0.6995 - precision_6: 0.2956 - recall_6: 0.7689 - val_loss: 0.4609 - val_auc_12: 0.3406 - val_auc_13: 0.7016 - val_precision_6: 0.2971 - val_recall_6: 0.7649\n",
      "3:64\n",
      "Epoch 1/15\n"
     ]
    },
    {
     "name": "stderr",
     "output_type": "stream",
     "text": [
      "2024-01-04 20:36:06.593981: I tensorflow/core/grappler/optimizers/custom_graph_optimizer_registry.cc:114] Plugin optimizer for device_type GPU is enabled.\n"
     ]
    },
    {
     "name": "stdout",
     "output_type": "stream",
     "text": [
      "12902/12902 [==============================] - ETA: 0s - loss: 0.4704 - auc_14: 0.3106 - auc_15: 0.6773 - precision_7: 0.2922 - recall_7: 0.7279"
     ]
    },
    {
     "name": "stderr",
     "output_type": "stream",
     "text": [
      "2024-01-04 20:49:11.065504: I tensorflow/core/grappler/optimizers/custom_graph_optimizer_registry.cc:114] Plugin optimizer for device_type GPU is enabled.\n"
     ]
    },
    {
     "name": "stdout",
     "output_type": "stream",
     "text": [
      "12902/12902 [==============================] - 838s 65ms/step - loss: 0.4704 - auc_14: 0.3106 - auc_15: 0.6773 - precision_7: 0.2922 - recall_7: 0.7279 - val_loss: 0.4674 - val_auc_14: 0.3194 - val_auc_15: 0.6832 - val_precision_7: 0.2990 - val_recall_7: 0.6862\n",
      "Epoch 2/15\n",
      "12902/12902 [==============================] - 219s 17ms/step - loss: 0.4653 - auc_14: 0.3252 - auc_15: 0.6895 - precision_7: 0.2964 - recall_7: 0.7405 - val_loss: 0.4634 - val_auc_14: 0.3336 - val_auc_15: 0.6959 - val_precision_7: 0.3044 - val_recall_7: 0.6981\n",
      "Epoch 3/15\n",
      "12902/12902 [==============================] - 209s 16ms/step - loss: 0.4636 - auc_14: 0.3313 - auc_15: 0.6941 - precision_7: 0.2973 - recall_7: 0.7432 - val_loss: 0.4618 - val_auc_14: 0.3392 - val_auc_15: 0.6990 - val_precision_7: 0.2975 - val_recall_7: 0.7548\n",
      "Epoch 4/15\n",
      "12902/12902 [==============================] - 213s 17ms/step - loss: 0.4626 - auc_14: 0.3362 - auc_15: 0.6965 - precision_7: 0.2969 - recall_7: 0.7535 - val_loss: 0.4623 - val_auc_14: 0.3387 - val_auc_15: 0.6982 - val_precision_7: 0.2929 - val_recall_7: 0.7766\n",
      "Epoch 5/15\n",
      "12902/12902 [==============================] - 222s 17ms/step - loss: 0.4621 - auc_14: 0.3378 - auc_15: 0.6976 - precision_7: 0.2966 - recall_7: 0.7582 - val_loss: 0.4611 - val_auc_14: 0.3420 - val_auc_15: 0.7003 - val_precision_7: 0.2942 - val_recall_7: 0.7670\n",
      "Epoch 6/15\n",
      "12902/12902 [==============================] - 223s 17ms/step - loss: 0.4618 - auc_14: 0.3380 - auc_15: 0.6983 - precision_7: 0.2963 - recall_7: 0.7593 - val_loss: 0.4610 - val_auc_14: 0.3419 - val_auc_15: 0.7011 - val_precision_7: 0.2981 - val_recall_7: 0.7597\n",
      "Epoch 7/15\n",
      "12902/12902 [==============================] - 204s 16ms/step - loss: 0.4616 - auc_14: 0.3385 - auc_15: 0.6988 - precision_7: 0.2962 - recall_7: 0.7637 - val_loss: 0.4606 - val_auc_14: 0.3425 - val_auc_15: 0.7021 - val_precision_7: 0.3011 - val_recall_7: 0.7422\n",
      "Epoch 8/15\n",
      "12902/12902 [==============================] - 205s 16ms/step - loss: 0.4614 - auc_14: 0.3390 - auc_15: 0.6993 - precision_7: 0.2959 - recall_7: 0.7644 - val_loss: 0.4606 - val_auc_14: 0.3414 - val_auc_15: 0.7011 - val_precision_7: 0.2957 - val_recall_7: 0.7685\n",
      "Epoch 9/15\n",
      "12902/12902 [==============================] - 307s 24ms/step - loss: 0.4612 - auc_14: 0.3399 - auc_15: 0.6997 - precision_7: 0.2959 - recall_7: 0.7643 - val_loss: 0.4612 - val_auc_14: 0.3385 - val_auc_15: 0.6999 - val_precision_7: 0.2931 - val_recall_7: 0.7876\n",
      "Epoch 10/15\n",
      "12902/12902 [==============================] - 567s 44ms/step - loss: 0.4613 - auc_14: 0.3396 - auc_15: 0.6995 - precision_7: 0.2962 - recall_7: 0.7637 - val_loss: 0.4602 - val_auc_14: 0.3433 - val_auc_15: 0.7023 - val_precision_7: 0.2981 - val_recall_7: 0.7584\n",
      "Epoch 11/15\n",
      "12902/12902 [==============================] - 220s 17ms/step - loss: 0.4611 - auc_14: 0.3401 - auc_15: 0.7000 - precision_7: 0.2959 - recall_7: 0.7655 - val_loss: 0.4599 - val_auc_14: 0.3435 - val_auc_15: 0.7029 - val_precision_7: 0.2981 - val_recall_7: 0.7623\n",
      "Epoch 12/15\n",
      "12902/12902 [==============================] - 222s 17ms/step - loss: 0.4610 - auc_14: 0.3406 - auc_15: 0.7003 - precision_7: 0.2963 - recall_7: 0.7647 - val_loss: 0.4600 - val_auc_14: 0.3445 - val_auc_15: 0.7029 - val_precision_7: 0.2959 - val_recall_7: 0.7744\n",
      "Epoch 13/15\n",
      "12902/12902 [==============================] - 221s 17ms/step - loss: 0.4610 - auc_14: 0.3406 - auc_15: 0.7002 - precision_7: 0.2963 - recall_7: 0.7643 - val_loss: 0.4604 - val_auc_14: 0.3437 - val_auc_15: 0.7028 - val_precision_7: 0.3006 - val_recall_7: 0.7411\n",
      "Epoch 14/15\n",
      "12902/12902 [==============================] - 221s 17ms/step - loss: 0.4608 - auc_14: 0.3412 - auc_15: 0.7005 - precision_7: 0.2960 - recall_7: 0.7639 - val_loss: 0.4606 - val_auc_14: 0.3441 - val_auc_15: 0.7028 - val_precision_7: 0.2912 - val_recall_7: 0.8007\n",
      "Epoch 15/15\n",
      "12902/12902 [==============================] - 220s 17ms/step - loss: 0.4608 - auc_14: 0.3406 - auc_15: 0.7006 - precision_7: 0.2965 - recall_7: 0.7643 - val_loss: 0.4600 - val_auc_14: 0.3439 - val_auc_15: 0.7032 - val_precision_7: 0.3017 - val_recall_7: 0.7445\n"
     ]
    }
   ],
   "source": [
    "# Another learning rate\n",
    "all_hist_hz_lr3 = do_model_trials_hidden_size(X_train, y_train, X_val, y_val, lr=0.0005,\n",
    "                                            hidden_size_ary=[8,16,32,64])"
   ]
  },
  {
   "cell_type": "code",
   "execution_count": 34,
   "id": "40ab0e66-2336-4c40-b222-bc091280499a",
   "metadata": {},
   "outputs": [],
   "source": [
    "cur_col = list(all_hist_hz_lr3.columns)\n",
    "all_hist_hz_lr3.columns = [cur_col[0]] + \\\n",
    "    [f'{cur_col[i]}_roc' if cur_col[i] == cur_col[i-1] else cur_col[i] \\\n",
    "     for i in range(1, len(cur_col))]"
   ]
  },
  {
   "cell_type": "code",
   "execution_count": 35,
   "id": "810a9662-f536-440f-866b-c4b3095333ed",
   "metadata": {},
   "outputs": [],
   "source": [
    "all_hist_hz_lr3.to_parquet(Path(setup.temp_path).joinpath('TMP_10_DATA_keras_test_hidden_size_lr3.parquet'))\n",
    "all_hist_hz_lr3.to_csv(Path(setup.temp_path).joinpath('TMP_10_DATA_keras_test_hidden_size_lr3.csv'))"
   ]
  },
  {
   "cell_type": "code",
   "execution_count": 36,
   "id": "aaf6f295-f86d-4c61-84f9-67db525888b8",
   "metadata": {},
   "outputs": [
    {
     "data": {
      "text/html": [
       "<div>\n",
       "<style scoped>\n",
       "    .dataframe tbody tr th:only-of-type {\n",
       "        vertical-align: middle;\n",
       "    }\n",
       "\n",
       "    .dataframe tbody tr th {\n",
       "        vertical-align: top;\n",
       "    }\n",
       "\n",
       "    .dataframe thead th {\n",
       "        text-align: right;\n",
       "    }\n",
       "</style>\n",
       "<table border=\"1\" class=\"dataframe\">\n",
       "  <thead>\n",
       "    <tr style=\"text-align: right;\">\n",
       "      <th></th>\n",
       "      <th>loss</th>\n",
       "      <th>auc</th>\n",
       "      <th>auc_roc</th>\n",
       "      <th>precision</th>\n",
       "      <th>recall</th>\n",
       "      <th>val_loss</th>\n",
       "      <th>val_auc</th>\n",
       "      <th>val_auc_roc</th>\n",
       "      <th>val_precision</th>\n",
       "      <th>val_recall</th>\n",
       "      <th>run_id</th>\n",
       "      <th>activation</th>\n",
       "      <th>batch_size</th>\n",
       "      <th>epochs</th>\n",
       "      <th>base_thresh</th>\n",
       "      <th>n_feat</th>\n",
       "      <th>hidden_size</th>\n",
       "      <th>n_layers</th>\n",
       "      <th>learning_rate</th>\n",
       "    </tr>\n",
       "  </thead>\n",
       "  <tbody>\n",
       "    <tr>\n",
       "      <th>14</th>\n",
       "      <td>0.460834</td>\n",
       "      <td>0.340581</td>\n",
       "      <td>0.700600</td>\n",
       "      <td>0.296519</td>\n",
       "      <td>0.764261</td>\n",
       "      <td>0.459980</td>\n",
       "      <td>0.343910</td>\n",
       "      <td>0.703160</td>\n",
       "      <td>0.301701</td>\n",
       "      <td>0.744452</td>\n",
       "      <td>3</td>\n",
       "      <td>tanh</td>\n",
       "      <td>32</td>\n",
       "      <td>15</td>\n",
       "      <td>0.2</td>\n",
       "      <td>10</td>\n",
       "      <td>64</td>\n",
       "      <td>2</td>\n",
       "      <td>0.0005</td>\n",
       "    </tr>\n",
       "    <tr>\n",
       "      <th>14</th>\n",
       "      <td>0.461746</td>\n",
       "      <td>0.336897</td>\n",
       "      <td>0.698248</td>\n",
       "      <td>0.296215</td>\n",
       "      <td>0.764106</td>\n",
       "      <td>0.461169</td>\n",
       "      <td>0.342303</td>\n",
       "      <td>0.701412</td>\n",
       "      <td>0.291234</td>\n",
       "      <td>0.793445</td>\n",
       "      <td>0</td>\n",
       "      <td>tanh</td>\n",
       "      <td>32</td>\n",
       "      <td>15</td>\n",
       "      <td>0.2</td>\n",
       "      <td>10</td>\n",
       "      <td>8</td>\n",
       "      <td>2</td>\n",
       "      <td>0.0005</td>\n",
       "    </tr>\n",
       "    <tr>\n",
       "      <th>14</th>\n",
       "      <td>0.461502</td>\n",
       "      <td>0.338949</td>\n",
       "      <td>0.699063</td>\n",
       "      <td>0.296952</td>\n",
       "      <td>0.757042</td>\n",
       "      <td>0.460763</td>\n",
       "      <td>0.341935</td>\n",
       "      <td>0.701573</td>\n",
       "      <td>0.295042</td>\n",
       "      <td>0.775817</td>\n",
       "      <td>1</td>\n",
       "      <td>tanh</td>\n",
       "      <td>32</td>\n",
       "      <td>15</td>\n",
       "      <td>0.2</td>\n",
       "      <td>10</td>\n",
       "      <td>16</td>\n",
       "      <td>2</td>\n",
       "      <td>0.0005</td>\n",
       "    </tr>\n",
       "    <tr>\n",
       "      <th>14</th>\n",
       "      <td>0.461248</td>\n",
       "      <td>0.339656</td>\n",
       "      <td>0.699540</td>\n",
       "      <td>0.295587</td>\n",
       "      <td>0.768914</td>\n",
       "      <td>0.460918</td>\n",
       "      <td>0.340594</td>\n",
       "      <td>0.701608</td>\n",
       "      <td>0.297095</td>\n",
       "      <td>0.764944</td>\n",
       "      <td>2</td>\n",
       "      <td>tanh</td>\n",
       "      <td>32</td>\n",
       "      <td>15</td>\n",
       "      <td>0.2</td>\n",
       "      <td>10</td>\n",
       "      <td>32</td>\n",
       "      <td>2</td>\n",
       "      <td>0.0005</td>\n",
       "    </tr>\n",
       "  </tbody>\n",
       "</table>\n",
       "</div>"
      ],
      "text/plain": [
       "        loss       auc   auc_roc  precision    recall  val_loss   val_auc  \\\n",
       "14  0.460834  0.340581  0.700600   0.296519  0.764261  0.459980  0.343910   \n",
       "14  0.461746  0.336897  0.698248   0.296215  0.764106  0.461169  0.342303   \n",
       "14  0.461502  0.338949  0.699063   0.296952  0.757042  0.460763  0.341935   \n",
       "14  0.461248  0.339656  0.699540   0.295587  0.768914  0.460918  0.340594   \n",
       "\n",
       "    val_auc_roc  val_precision  val_recall  run_id activation  batch_size  \\\n",
       "14     0.703160       0.301701    0.744452       3       tanh          32   \n",
       "14     0.701412       0.291234    0.793445       0       tanh          32   \n",
       "14     0.701573       0.295042    0.775817       1       tanh          32   \n",
       "14     0.701608       0.297095    0.764944       2       tanh          32   \n",
       "\n",
       "    epochs  base_thresh  n_feat  hidden_size  n_layers  learning_rate  \n",
       "14      15          0.2      10           64         2         0.0005  \n",
       "14      15          0.2      10            8         2         0.0005  \n",
       "14      15          0.2      10           16         2         0.0005  \n",
       "14      15          0.2      10           32         2         0.0005  "
      ]
     },
     "execution_count": 36,
     "metadata": {},
     "output_type": "execute_result"
    }
   ],
   "source": [
    "all_hist_hz_lr3.groupby('run_id').tail(1).sort_values('val_auc', ascending=False)"
   ]
  },
  {
   "cell_type": "code",
   "execution_count": 37,
   "id": "9945f9fb-d0bf-4f91-bf86-5a2b269abc92",
   "metadata": {},
   "outputs": [
    {
     "data": {
      "image/png": "[encoded data removed]",
      "text/plain": [
       "<Figure size 640x480 with 1 Axes>"
      ]
     },
     "metadata": {},
     "output_type": "display_data"
    }
   ],
   "source": [
    "train_plot(all_hist_hz_lr3, 'val_auc', 'hidden_size')"
   ]
  },
  {
   "cell_type": "markdown",
   "id": "fe7df86f-3205-46f1-8818-c9bf16a57a7f",
   "metadata": {},
   "source": [
    "## Batch Size"
   ]
  },
  {
   "cell_type": "code",
   "execution_count": null,
   "id": "d750b7d2-ba5f-444e-a261-5d4483af6e7d",
   "metadata": {},
   "outputs": [
    {
     "name": "stdout",
     "output_type": "stream",
     "text": [
      "0:16\n",
      "Epoch 1/15\n"
     ]
    },
    {
     "name": "stderr",
     "output_type": "stream",
     "text": [
      "2024-01-04 22:10:24.062020: I tensorflow/core/grappler/optimizers/custom_graph_optimizer_registry.cc:114] Plugin optimizer for device_type GPU is enabled.\n"
     ]
    },
    {
     "name": "stdout",
     "output_type": "stream",
     "text": [
      "25263/25803 [============================>.] - ETA: 5s - loss: 0.4706 - auc_16: 0.3108 - auc_17: 0.6782 - precision_8: 0.2939 - recall_8: 0.7219"
     ]
    }
   ],
   "source": [
    "# Try the activations\n",
    "all_hist_batch = do_model_trials_batch(X_train, y_train, X_val, y_val)"
   ]
  },
  {
   "cell_type": "code",
   "execution_count": null,
   "id": "fee2f5f9-0d02-4726-9683-74f47dc11553",
   "metadata": {},
   "outputs": [],
   "source": [
    "cur_col = list(all_hist_batch.columns)\n",
    "all_hist_batch.columns = [cur_col[0]] + \\\n",
    "    [f'{cur_col[i]}_roc' if cur_col[i] == cur_col[i-1] else cur_col[i] \\\n",
    "     for i in range(1, len(cur_col))]"
   ]
  },
  {
   "cell_type": "code",
   "execution_count": null,
   "id": "d4d27c98-4644-42b4-84da-212b4df8dc34",
   "metadata": {},
   "outputs": [],
   "source": [
    "all_hist_batch.to_parquet(Path(setup.temp_path).joinpath('TMP_10_DATA_keras_test_batch.parquet'))\n",
    "all_hist_batch.to_csv(Path(setup.temp_path).joinpath('TMP_10_DATA_keras_test_batch.csv'))"
   ]
  },
  {
   "cell_type": "code",
   "execution_count": 38,
   "id": "7653b63b-a3e9-40fb-9b42-b4febe2de0b9",
   "metadata": {},
   "outputs": [
    {
     "ename": "NameError",
     "evalue": "name 'do_model_trials_batch' is not defined",
     "output_type": "error",
     "traceback": [
      "\u001b[0;31m---------------------------------------------------------------------------\u001b[0m",
      "\u001b[0;31mNameError\u001b[0m                                 Traceback (most recent call last)",
      "Cell \u001b[0;32mIn[38], line 2\u001b[0m\n\u001b[1;32m      1\u001b[0m \u001b[38;5;66;03m# simple test\u001b[39;00m\n\u001b[0;32m----> 2\u001b[0m test \u001b[38;5;241m=\u001b[39m \u001b[43mdo_model_trials_batch\u001b[49m(X_train\u001b[38;5;241m.\u001b[39miloc[\u001b[38;5;241m0\u001b[39m:\u001b[38;5;241m100\u001b[39m,:], y_train\u001b[38;5;241m.\u001b[39miloc[\u001b[38;5;241m0\u001b[39m:\u001b[38;5;241m100\u001b[39m],\n\u001b[1;32m      3\u001b[0m                                    X_val\u001b[38;5;241m.\u001b[39miloc[\u001b[38;5;241m0\u001b[39m:\u001b[38;5;241m100\u001b[39m,:], y_val\u001b[38;5;241m.\u001b[39miloc[\u001b[38;5;241m0\u001b[39m:\u001b[38;5;241m100\u001b[39m],\n\u001b[1;32m      4\u001b[0m                                   epochs\u001b[38;5;241m=\u001b[39m\u001b[38;5;241m1\u001b[39m)\n",
      "\u001b[0;31mNameError\u001b[0m: name 'do_model_trials_batch' is not defined"
     ]
    }
   ],
   "source": [
    "# simple test\n",
    "test = do_model_trials_batch(X_train.iloc[0:100,:], y_train.iloc[0:100],\n",
    "                                   X_val.iloc[0:100,:], y_val.iloc[0:100],\n",
    "                                  epochs=1)"
   ]
  },
  {
   "cell_type": "code",
   "execution_count": null,
   "id": "bf67791e-fbbb-4131-a78b-a9ef3703baf5",
   "metadata": {},
   "outputs": [],
   "source": []
  },
  {
   "cell_type": "code",
   "execution_count": null,
   "id": "42e99d1b-e424-49cc-b262-7beca32b017e",
   "metadata": {},
   "outputs": [],
   "source": []
  },
  {
   "cell_type": "code",
   "execution_count": null,
   "id": "9d2f6a9f-f15d-47e0-b8e9-7856ac49f0ae",
   "metadata": {},
   "outputs": [],
   "source": []
  },
  {
   "cell_type": "code",
   "execution_count": null,
   "id": "e5f6b2e3-7136-4866-a3ac-ee43085b0ad2",
   "metadata": {},
   "outputs": [],
   "source": []
  },
  {
   "cell_type": "code",
   "execution_count": null,
   "id": "9365d385-2c9c-4cec-a002-e78b7dad1dd4",
   "metadata": {},
   "outputs": [],
   "source": [
    "TO DO\n",
    "Dropout (hidden layers) - maybe do 64 plus dropout?  Overfitting doesn't seem an issue yet\n",
    "Test some parameters with the other scaling\n",
    "Hold out some NAICS\n",
    "XGBoost - metrics for \"holdout\" NAICS (all tests), also redo all NAICS and NN data creation\n",
    "\n",
    "Regular NN - do both no NAICS and embeddings versions.  Save embeddings for businesses, NAICS!"
   ]
  }
 ],
 "metadata": {
  "kernelspec": {
   "display_name": "tf_p39",
   "language": "python",
   "name": "tf_p39"
  },
  "language_info": {
   "codemirror_mode": {
    "name": "ipython",
    "version": 3
   },
   "file_extension": ".py",
   "mimetype": "text/x-python",
   "name": "python",
   "nbconvert_exporter": "python",
   "pygments_lexer": "ipython3",
   "version": "3.8.18"
  }
 },
 "nbformat": 4,
 "nbformat_minor": 5
}
