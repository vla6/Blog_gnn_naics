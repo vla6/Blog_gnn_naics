{
 "cells": [
  {
   "cell_type": "code",
   "execution_count": 1,
   "id": "8816b366-5be4-4748-b769-4dc6f7d1735f",
   "metadata": {},
   "outputs": [],
   "source": [
    "# Modify the file 00_setup.py to define input/output file paths on your system\n",
    "# The information in 00_setup.py will be used across notebooks\n",
    "from importlib.machinery import SourceFileLoader\n",
    "setup = SourceFileLoader(\"setup\", \"./00_setup.py\").load_module()"
   ]
  },
  {
   "cell_type": "markdown",
   "id": "a945de0c-f042-46b2-9d06-ab064af6c05b",
   "metadata": {},
   "source": [
    "## Neural Network With NAICS Numeric Feature\n",
    "Add NAICS as a feature in the network (integer, rescaled to -1, 1). No embeddings, simple sequential model"
   ]
  },
  {
   "cell_type": "markdown",
   "id": "d47a7ec9-7d7b-47df-a902-b2f1e54f1135",
   "metadata": {},
   "source": [
    "*This script takes about 2 hours on my MacBook Air*"
   ]
  },
  {
   "cell_type": "code",
   "execution_count": 2,
   "id": "fb42f9b4-99a8-4753-aacf-8722469be4c8",
   "metadata": {},
   "outputs": [],
   "source": [
    "import numpy as np\n",
    "import pandas as pd\n",
    "import tensorflow as tf"
   ]
  },
  {
   "cell_type": "code",
   "execution_count": 3,
   "id": "bf51170a-4487-4d10-b63d-c88f41b529f9",
   "metadata": {},
   "outputs": [],
   "source": [
    "from pathlib import Path\n",
    "import importlib, pickle\n",
    "from sklearn import model_selection"
   ]
  },
  {
   "cell_type": "code",
   "execution_count": 4,
   "id": "09dd973b-60a0-434b-9193-8c5fcec27dd5",
   "metadata": {},
   "outputs": [],
   "source": [
    "import pandas as pd\n",
    "import os\n",
    "import re\n",
    "\n",
    "from tensorflow.keras import layers, optimizers, losses, metrics, Model\n",
    "from sklearn import preprocessing, feature_extraction, model_selection\n",
    "from IPython.display import display, HTML\n",
    "import matplotlib.pyplot as plt\n",
    "%matplotlib inline"
   ]
  },
  {
   "cell_type": "code",
   "execution_count": 5,
   "id": "22b466e7-a419-45aa-83f7-5dafc7a3998b",
   "metadata": {},
   "outputs": [],
   "source": [
    "from tensorflow.keras.models import Sequential\n",
    "from tensorflow.keras.layers import Dense, Dropout\n",
    "import tensorflow.keras.metrics as km"
   ]
  },
  {
   "cell_type": "code",
   "execution_count": 6,
   "id": "9f1e4f2e-0e45-4e28-8e9c-212e0bb51199",
   "metadata": {},
   "outputs": [],
   "source": [
    "from sba_gnn.sba_gnn import sg_plot "
   ]
  },
  {
   "cell_type": "markdown",
   "id": "3cbc00d2-bc83-42d9-83eb-65fcf306dccd",
   "metadata": {},
   "source": [
    "## Input Data"
   ]
  },
  {
   "cell_type": "code",
   "execution_count": 7,
   "id": "5f0183dc-7ee1-49eb-8723-a9f4cea14b88",
   "metadata": {},
   "outputs": [],
   "source": [
    "business_data = pd.read_parquet(Path(setup.temp_path).joinpath('10_DATA_combined_scaled_all.parquet'))"
   ]
  },
  {
   "cell_type": "markdown",
   "id": "77c613d5-1c39-4454-89f3-044dc36df8ec",
   "metadata": {},
   "source": [
    "##### NAICS \n",
    "Rescale to -1 1 based on range of codes"
   ]
  },
  {
   "cell_type": "code",
   "execution_count": 8,
   "id": "b1c9b720-3fd0-4f58-a63c-f8ad50991272",
   "metadata": {},
   "outputs": [],
   "source": [
    "# NAICS ranges based on code set.\n",
    "naics_range = [100000, 999999]\n",
    "out_range = [-1, 1]"
   ]
  },
  {
   "cell_type": "code",
   "execution_count": 9,
   "id": "819b8fc9-5cee-4f5a-8e17-41e040dbbd0e",
   "metadata": {},
   "outputs": [],
   "source": [
    "X_naics = business_data[['LoanNr_ChkDgt', 'dset', 'NAICS_orig']].set_index('LoanNr_ChkDgt').sort_index()"
   ]
  },
  {
   "cell_type": "code",
   "execution_count": 10,
   "id": "0a66b0e4-3154-40bc-b0bc-496fe721cac7",
   "metadata": {},
   "outputs": [],
   "source": [
    "# Make numeric\n",
    "X_naics['NAICS_rescale'] = X_naics['NAICS_orig'].astype('int')"
   ]
  },
  {
   "cell_type": "code",
   "execution_count": 11,
   "id": "e88b4023-a2c0-470a-b7b2-1a88a7a3c129",
   "metadata": {},
   "outputs": [],
   "source": [
    "# Min/max scale to -1, 1 (based on code ranges, not data)\n",
    "X_naics['NAICS_rescale'] = (X_naics['NAICS_rescale'] - naics_range[0]) / \\\n",
    "    (naics_range[1] - naics_range[0])\n",
    "X_naics['NAICS_rescale'] = X_naics['NAICS_rescale'] * (out_range[1] - out_range[0]) + out_range[0]"
   ]
  },
  {
   "cell_type": "code",
   "execution_count": 12,
   "id": "a0ce623e-2a85-4278-a5d3-ea05f0b0510d",
   "metadata": {},
   "outputs": [
    {
     "data": {
      "text/plain": [
       "count    688081.000000\n",
       "mean         -0.078918\n",
       "std           0.384886\n",
       "min          -0.975311\n",
       "25%          -0.281221\n",
       "50%          -0.084152\n",
       "75%           0.158666\n",
       "max           0.840269\n",
       "Name: NAICS_rescale, dtype: float64"
      ]
     },
     "execution_count": 12,
     "metadata": {},
     "output_type": "execute_result"
    }
   ],
   "source": [
    "X_naics['NAICS_rescale'].describe()"
   ]
  },
  {
   "cell_type": "code",
   "execution_count": 13,
   "id": "bddb82be-e80d-4202-abe2-905804bf0b64",
   "metadata": {},
   "outputs": [],
   "source": [
    "X_naics.to_parquet(Path(setup.temp_path).joinpath('13_NAICS_recode.parquet'))"
   ]
  },
  {
   "cell_type": "code",
   "execution_count": 14,
   "id": "16e61c85-6363-4703-bee1-f57d0cb3753d",
   "metadata": {},
   "outputs": [
    {
     "data": {
      "text/html": [
       "<div>\n",
       "<style scoped>\n",
       "    .dataframe tbody tr th:only-of-type {\n",
       "        vertical-align: middle;\n",
       "    }\n",
       "\n",
       "    .dataframe tbody tr th {\n",
       "        vertical-align: top;\n",
       "    }\n",
       "\n",
       "    .dataframe thead th {\n",
       "        text-align: right;\n",
       "    }\n",
       "</style>\n",
       "<table border=\"1\" class=\"dataframe\">\n",
       "  <thead>\n",
       "    <tr style=\"text-align: right;\">\n",
       "      <th></th>\n",
       "      <th>dset</th>\n",
       "      <th>NAICS_orig</th>\n",
       "      <th>NAICS_rescale</th>\n",
       "    </tr>\n",
       "    <tr>\n",
       "      <th>LoanNr_ChkDgt</th>\n",
       "      <th></th>\n",
       "      <th></th>\n",
       "      <th></th>\n",
       "    </tr>\n",
       "  </thead>\n",
       "  <tbody>\n",
       "    <tr>\n",
       "      <th>1000014003</th>\n",
       "      <td>train</td>\n",
       "      <td>451120</td>\n",
       "      <td>-0.219732</td>\n",
       "    </tr>\n",
       "    <tr>\n",
       "      <th>1000024006</th>\n",
       "      <td>test</td>\n",
       "      <td>722410</td>\n",
       "      <td>0.383135</td>\n",
       "    </tr>\n",
       "    <tr>\n",
       "      <th>1000034009</th>\n",
       "      <td>train</td>\n",
       "      <td>621210</td>\n",
       "      <td>0.158246</td>\n",
       "    </tr>\n",
       "    <tr>\n",
       "      <th>1000084002</th>\n",
       "      <td>val</td>\n",
       "      <td>332721</td>\n",
       "      <td>-0.482842</td>\n",
       "    </tr>\n",
       "    <tr>\n",
       "      <th>1000094005</th>\n",
       "      <td>train</td>\n",
       "      <td>811118</td>\n",
       "      <td>0.580264</td>\n",
       "    </tr>\n",
       "  </tbody>\n",
       "</table>\n",
       "</div>"
      ],
      "text/plain": [
       "                dset NAICS_orig  NAICS_rescale\n",
       "LoanNr_ChkDgt                                 \n",
       "1000014003     train     451120      -0.219732\n",
       "1000024006      test     722410       0.383135\n",
       "1000034009     train     621210       0.158246\n",
       "1000084002       val     332721      -0.482842\n",
       "1000094005     train     811118       0.580264"
      ]
     },
     "execution_count": 14,
     "metadata": {},
     "output_type": "execute_result"
    }
   ],
   "source": [
    "X_naics.head()"
   ]
  },
  {
   "cell_type": "markdown",
   "id": "2598e6f9-7f76-421b-adc2-4a21b3b87d6c",
   "metadata": {},
   "source": [
    "##### Get the remaining features"
   ]
  },
  {
   "cell_type": "code",
   "execution_count": 15,
   "id": "555f4031-e66d-4476-a37e-50e2d382ecf4",
   "metadata": {},
   "outputs": [],
   "source": [
    "with open(Path(setup.temp_path).joinpath('10_DATA_features.pkl'), 'rb') as fin:\n",
    "    imputer_features = pickle.load(fin)"
   ]
  },
  {
   "cell_type": "code",
   "execution_count": 16,
   "id": "3a916e26-2419-4bd0-8fd4-58a959dc4bac",
   "metadata": {},
   "outputs": [
    {
     "name": "stdout",
     "output_type": "stream",
     "text": [
      "['NoEmp', 'CreateJob', 'LowDoc', 'DisbursementGross', 'new_business', 'urban_flag', 'franchise_flag', 'missingindicator_LowDoc', 'missingindicator_new_business', 'missingindicator_urban_flag', 'NAICS_rescale']\n"
     ]
    }
   ],
   "source": [
    "base_features = [f for f in imputer_features if 'NAICS' not in f]\n",
    "features = base_features + ['NAICS_rescale']\n",
    "print(features)"
   ]
  },
  {
   "cell_type": "markdown",
   "id": "d94006a0-f010-4874-a7f1-0fd80c1e9a35",
   "metadata": {},
   "source": [
    "##### Datasets for train, validation"
   ]
  },
  {
   "cell_type": "code",
   "execution_count": 17,
   "id": "a02a909d-834a-46a8-9cdd-ccfa36b07d69",
   "metadata": {},
   "outputs": [],
   "source": [
    "X = pd.concat([business_data[['dset', 'LoanNr_ChkDgt'] + base_features] \\\n",
    "               .set_index('LoanNr_ChkDgt').sort_index(),\n",
    "               X_naics[['NAICS_rescale']]], axis=1)"
   ]
  },
  {
   "cell_type": "code",
   "execution_count": 18,
   "id": "42dc5c92-f5a2-457c-be3a-60cb0f6c2ef8",
   "metadata": {},
   "outputs": [
    {
     "name": "stdout",
     "output_type": "stream",
     "text": [
      "training X: (425594, 11), y:(425594,)\n"
     ]
    }
   ],
   "source": [
    "X_train = X[X['dset'] == 'train'].drop(columns='dset')\n",
    "y_train = business_data[business_data['dset'] == 'train'].set_index('LoanNr_ChkDgt').sort_index()['target']\n",
    "print(f'training X: {X_train.shape}, y:{y_train.shape}')"
   ]
  },
  {
   "cell_type": "code",
   "execution_count": 19,
   "id": "038b0e4f-a84a-4c8b-863e-4c594c1c9f32",
   "metadata": {},
   "outputs": [
    {
     "name": "stdout",
     "output_type": "stream",
     "text": [
      "val X: (126041, 11), y:(126041,)\n"
     ]
    }
   ],
   "source": [
    "X_val = X[X['dset'] == 'val'].drop(columns='dset')\n",
    "y_val = business_data[business_data['dset'] == 'val'].set_index('LoanNr_ChkDgt').sort_index()['target']\n",
    "print(f'val X: {X_val.shape}, y:{y_val.shape}')"
   ]
  },
  {
   "cell_type": "code",
   "execution_count": 20,
   "id": "bcb86909-e8a7-4f22-b089-6ca61dd86c73",
   "metadata": {},
   "outputs": [
    {
     "name": "stdout",
     "output_type": "stream",
     "text": [
      "0.20307382152943884\n"
     ]
    }
   ],
   "source": [
    "base_thresh = y_train.mean()\n",
    "print(base_thresh)"
   ]
  },
  {
   "cell_type": "markdown",
   "id": "a5c68623-4599-4472-a13a-9400d101633e",
   "metadata": {},
   "source": [
    "## Function to create model"
   ]
  },
  {
   "cell_type": "code",
   "execution_count": 21,
   "id": "9f4deffd-2b85-43d0-9cd1-1d9cf707b9e7",
   "metadata": {},
   "outputs": [],
   "source": [
    "def create_model(n_feat = len(features), \n",
    "                 hidden_size = setup.nn_layer_sizes,\n",
    "                 activation='tanh', lr=setup.nn_learning_rate,\n",
    "                 opt_func = setup.nn_optimizer, dropout = setup.nn_dropout):\n",
    "    \n",
    "    n_layers = len(hidden_size)\n",
    "    model = Sequential()\n",
    "    model.add(Dense(hidden_size[0], input_shape=(n_feat,), activation=activation))\n",
    "    for i in range(1, n_layers):\n",
    "        model.add(Dropout(dropout))\n",
    "        model.add(Dense(hidden_size[i], input_shape=(hidden_size[i-1],), activation=activation))\n",
    "    model.add(Dropout(dropout))\n",
    "    model.add(Dense(1, activation='sigmoid'))\n",
    "    # Compile model\n",
    "    optimizer = opt_func(learning_rate=lr)\n",
    "    model.compile(loss='binary_crossentropy', optimizer=optimizer, \n",
    "                  metrics=[km.AUC(curve='PR'), km.AUC(curve='ROC')])\n",
    "    return model"
   ]
  },
  {
   "cell_type": "markdown",
   "id": "3db4ea1c-77b2-4721-b106-1e66fc502139",
   "metadata": {},
   "source": [
    "## Create, fit model"
   ]
  },
  {
   "cell_type": "code",
   "execution_count": 22,
   "id": "4d48ddfa-580c-4321-9917-0bd176b67d87",
   "metadata": {},
   "outputs": [
    {
     "name": "stderr",
     "output_type": "stream",
     "text": [
      "2024-02-24 06:39:20.240969: I metal_plugin/src/device/metal_device.cc:1154] Metal device set to: Apple M1\n",
      "2024-02-24 06:39:20.240995: I metal_plugin/src/device/metal_device.cc:296] systemMemory: 16.00 GB\n",
      "2024-02-24 06:39:20.241003: I metal_plugin/src/device/metal_device.cc:313] maxCacheSize: 5.33 GB\n",
      "2024-02-24 06:39:20.241038: I tensorflow/core/common_runtime/pluggable_device/pluggable_device_factory.cc:303] Could not identify NUMA node of platform GPU ID 0, defaulting to 0. Your kernel may not have been built with NUMA support.\n",
      "2024-02-24 06:39:20.241056: I tensorflow/core/common_runtime/pluggable_device/pluggable_device_factory.cc:269] Created TensorFlow device (/job:localhost/replica:0/task:0/device:GPU:0 with 0 MB memory) -> physical PluggableDevice (device: 0, name: METAL, pci bus id: <undefined>)\n"
     ]
    }
   ],
   "source": [
    "this_model = create_model()"
   ]
  },
  {
   "cell_type": "code",
   "execution_count": 23,
   "id": "bb765db3-1646-44f2-84ec-f8f4a7b236ce",
   "metadata": {},
   "outputs": [
    {
     "name": "stdout",
     "output_type": "stream",
     "text": [
      "Model: \"sequential\"\n",
      "_________________________________________________________________\n",
      " Layer (type)                Output Shape              Param #   \n",
      "=================================================================\n",
      " dense (Dense)               (None, 128)               1536      \n",
      "                                                                 \n",
      " dropout (Dropout)           (None, 128)               0         \n",
      "                                                                 \n",
      " dense_1 (Dense)             (None, 64)                8256      \n",
      "                                                                 \n",
      " dropout_1 (Dropout)         (None, 64)                0         \n",
      "                                                                 \n",
      " dense_2 (Dense)             (None, 1)                 65        \n",
      "                                                                 \n",
      "=================================================================\n",
      "Total params: 9857 (38.50 KB)\n",
      "Trainable params: 9857 (38.50 KB)\n",
      "Non-trainable params: 0 (0.00 Byte)\n",
      "_________________________________________________________________\n"
     ]
    }
   ],
   "source": [
    "this_model.summary()"
   ]
  },
  {
   "cell_type": "code",
   "execution_count": 24,
   "id": "31772016-3643-468b-8d65-c456168cad6e",
   "metadata": {},
   "outputs": [
    {
     "name": "stdout",
     "output_type": "stream",
     "text": [
      "Epoch 1/20\n"
     ]
    },
    {
     "name": "stderr",
     "output_type": "stream",
     "text": [
      "2024-02-24 06:39:20.887345: I tensorflow/core/grappler/optimizers/custom_graph_optimizer_registry.cc:114] Plugin optimizer for device_type GPU is enabled.\n"
     ]
    },
    {
     "name": "stdout",
     "output_type": "stream",
     "text": [
      "13300/13300 [==============================] - ETA: 0s - loss: 0.4727 - auc: 0.3044 - auc_1: 0.6735"
     ]
    },
    {
     "name": "stderr",
     "output_type": "stream",
     "text": [
      "2024-02-24 06:43:28.927077: I tensorflow/core/grappler/optimizers/custom_graph_optimizer_registry.cc:114] Plugin optimizer for device_type GPU is enabled.\n"
     ]
    },
    {
     "name": "stdout",
     "output_type": "stream",
     "text": [
      "13300/13300 [==============================] - 293s 22ms/step - loss: 0.4727 - auc: 0.3044 - auc_1: 0.6735 - val_loss: 0.4671 - val_auc: 0.3322 - val_auc_1: 0.6948\n",
      "Epoch 2/20\n",
      "13300/13300 [==============================] - 288s 22ms/step - loss: 0.4662 - auc: 0.3225 - auc_1: 0.6878 - val_loss: 0.4653 - val_auc: 0.3368 - val_auc_1: 0.6974\n",
      "Epoch 3/20\n",
      "13300/13300 [==============================] - 221s 17ms/step - loss: 0.4649 - auc: 0.3269 - auc_1: 0.6912 - val_loss: 0.4649 - val_auc: 0.3390 - val_auc_1: 0.6988\n",
      "Epoch 4/20\n",
      "13300/13300 [==============================] - 192s 14ms/step - loss: 0.4643 - auc: 0.3294 - auc_1: 0.6927 - val_loss: 0.4652 - val_auc: 0.3411 - val_auc_1: 0.7002\n",
      "Epoch 5/20\n",
      "13300/13300 [==============================] - 191s 14ms/step - loss: 0.4638 - auc: 0.3312 - auc_1: 0.6942 - val_loss: 0.4654 - val_auc: 0.3410 - val_auc_1: 0.6995\n",
      "Epoch 6/20\n",
      "13300/13300 [==============================] - 320s 24ms/step - loss: 0.4636 - auc: 0.3317 - auc_1: 0.6944 - val_loss: 0.4639 - val_auc: 0.3423 - val_auc_1: 0.7012\n",
      "Epoch 7/20\n",
      "13300/13300 [==============================] - 1086s 82ms/step - loss: 0.4635 - auc: 0.3329 - auc_1: 0.6946 - val_loss: 0.4637 - val_auc: 0.3424 - val_auc_1: 0.7012\n",
      "Epoch 8/20\n",
      "13300/13300 [==============================] - 254s 19ms/step - loss: 0.4632 - auc: 0.3330 - auc_1: 0.6953 - val_loss: 0.4634 - val_auc: 0.3436 - val_auc_1: 0.7018\n",
      "Epoch 9/20\n",
      "13300/13300 [==============================] - 1986s 149ms/step - loss: 0.4633 - auc: 0.3334 - auc_1: 0.6950 - val_loss: 0.4652 - val_auc: 0.3438 - val_auc_1: 0.7013\n",
      "Epoch 10/20\n",
      "13300/13300 [==============================] - 193s 15ms/step - loss: 0.4633 - auc: 0.3335 - auc_1: 0.6953 - val_loss: 0.4637 - val_auc: 0.3438 - val_auc_1: 0.7016\n",
      "Epoch 11/20\n",
      "13300/13300 [==============================] - 481s 36ms/step - loss: 0.4631 - auc: 0.3330 - auc_1: 0.6955 - val_loss: 0.4640 - val_auc: 0.3424 - val_auc_1: 0.7014\n",
      "Epoch 12/20\n",
      "13300/13300 [==============================] - 186s 14ms/step - loss: 0.4630 - auc: 0.3332 - auc_1: 0.6961 - val_loss: 0.4637 - val_auc: 0.3431 - val_auc_1: 0.7013\n",
      "Epoch 13/20\n",
      "13300/13300 [==============================] - 227s 17ms/step - loss: 0.4629 - auc: 0.3339 - auc_1: 0.6959 - val_loss: 0.4637 - val_auc: 0.3424 - val_auc_1: 0.7014\n",
      "Epoch 14/20\n",
      "13300/13300 [==============================] - 193s 15ms/step - loss: 0.4628 - auc: 0.3341 - auc_1: 0.6965 - val_loss: 0.4634 - val_auc: 0.3440 - val_auc_1: 0.7020\n",
      "Epoch 15/20\n",
      "13300/13300 [==============================] - 238s 18ms/step - loss: 0.4628 - auc: 0.3344 - auc_1: 0.6964 - val_loss: 0.4637 - val_auc: 0.3432 - val_auc_1: 0.7019\n",
      "Epoch 16/20\n",
      "13300/13300 [==============================] - 199s 15ms/step - loss: 0.4628 - auc: 0.3345 - auc_1: 0.6964 - val_loss: 0.4637 - val_auc: 0.3429 - val_auc_1: 0.7015\n",
      "Epoch 17/20\n",
      "13300/13300 [==============================] - 375s 28ms/step - loss: 0.4627 - auc: 0.3346 - auc_1: 0.6967 - val_loss: 0.4647 - val_auc: 0.3443 - val_auc_1: 0.7019\n",
      "Epoch 18/20\n",
      "13300/13300 [==============================] - 183s 14ms/step - loss: 0.4627 - auc: 0.3350 - auc_1: 0.6966 - val_loss: 0.4643 - val_auc: 0.3438 - val_auc_1: 0.7020\n",
      "Epoch 19/20\n",
      "13300/13300 [==============================] - 1108s 83ms/step - loss: 0.4628 - auc: 0.3349 - auc_1: 0.6968 - val_loss: 0.4649 - val_auc: 0.3436 - val_auc_1: 0.7018\n",
      "Epoch 20/20\n",
      "13300/13300 [==============================] - 1086s 82ms/step - loss: 0.4627 - auc: 0.3351 - auc_1: 0.6968 - val_loss: 0.4633 - val_auc: 0.3447 - val_auc_1: 0.7020\n"
     ]
    }
   ],
   "source": [
    "this_history = this_model.fit(X_train, y_train,\n",
    "                              validation_data=(X_val, y_val),\n",
    "                              batch_size=setup.nn_batch_size,\n",
    "                              epochs=setup.nn_epochs)"
   ]
  },
  {
   "cell_type": "code",
   "execution_count": 25,
   "id": "460c4b43-c673-4ee1-b070-d2d596ac4561",
   "metadata": {},
   "outputs": [],
   "source": [
    "this_history_df = pd.DataFrame(this_history.history)"
   ]
  },
  {
   "cell_type": "code",
   "execution_count": 26,
   "id": "c85bd09a-2fa9-4255-958b-4d48b17085ff",
   "metadata": {},
   "outputs": [],
   "source": [
    "# Rename columns\n",
    "try:\n",
    "    this_history_df.columns = ['_'.join(c.split('_')[0:-1])  \\\n",
    "                               if re.search(r'_\\d+$', c) else c for c in this_history_df.columns]\n",
    "except:\n",
    "    pass\n",
    "try:\n",
    "    cur_col = list(this_history_df.columns)\n",
    "    this_history_df.columns = [cur_col[0]] + \\\n",
    "        [f'{cur_col[i]}_roc'  if (cur_col[i] == cur_col[i-1]) and 'auc'in cur_col[i] \\\n",
    "         else cur_col[i] for i in range(1, len(cur_col))]\n",
    "except:\n",
    "    pass"
   ]
  },
  {
   "cell_type": "code",
   "execution_count": 27,
   "id": "8ea25384-9fc0-4916-a577-4bd9bc9b203f",
   "metadata": {},
   "outputs": [
    {
     "data": {
      "text/plain": [
       "Index(['loss', 'auc', 'auc_roc', 'val_loss', 'val_auc', 'val_auc_roc'], dtype='object')"
      ]
     },
     "execution_count": 27,
     "metadata": {},
     "output_type": "execute_result"
    }
   ],
   "source": [
    "this_history_df.columns"
   ]
  },
  {
   "cell_type": "code",
   "execution_count": 28,
   "id": "ad4783f2-8d0b-4850-a45a-3a4be8e63318",
   "metadata": {},
   "outputs": [],
   "source": [
    "this_history_df.to_csv(Path(setup.temp_path).joinpath('13_REPORT_fit_history.csv'))"
   ]
  },
  {
   "cell_type": "code",
   "execution_count": 29,
   "id": "73e89efd-75a9-4b27-81a8-13e12d5482be",
   "metadata": {},
   "outputs": [
    {
     "data": {
      "text/plain": [
       "<Axes: >"
      ]
     },
     "execution_count": 29,
     "metadata": {},
     "output_type": "execute_result"
    },
    {
     "data": {
      "image/png": "[encoded data removed]",
      "text/plain": [
       "<Figure size 640x480 with 1 Axes>"
      ]
     },
     "metadata": {},
     "output_type": "display_data"
    }
   ],
   "source": [
    "this_history_df[['loss', 'val_loss']].plot()"
   ]
  },
  {
   "cell_type": "code",
   "execution_count": 30,
   "id": "2342a31f-4891-4834-851a-b90b8b729c3c",
   "metadata": {},
   "outputs": [
    {
     "data": {
      "text/plain": [
       "<Axes: >"
      ]
     },
     "execution_count": 30,
     "metadata": {},
     "output_type": "execute_result"
    },
    {
     "data": {
      "image/png": "[encoded data removed]",
      "text/plain": [
       "<Figure size 640x480 with 1 Axes>"
      ]
     },
     "metadata": {},
     "output_type": "display_data"
    }
   ],
   "source": [
    "this_history_df[['auc', 'val_auc']].plot()"
   ]
  },
  {
   "cell_type": "code",
   "execution_count": 31,
   "id": "cee80637-cabf-4974-b476-08c5fba165ff",
   "metadata": {},
   "outputs": [
    {
     "data": {
      "text/plain": [
       "<Axes: >"
      ]
     },
     "execution_count": 31,
     "metadata": {},
     "output_type": "execute_result"
    },
    {
     "data": {
      "image/png": "[encoded data removed]",
      "text/plain": [
       "<Figure size 640x480 with 1 Axes>"
      ]
     },
     "metadata": {},
     "output_type": "display_data"
    }
   ],
   "source": [
    "this_history_df[['auc_roc', 'val_auc_roc']].plot()"
   ]
  },
  {
   "cell_type": "code",
   "execution_count": 32,
   "id": "e184b0ca-1d31-4798-88a0-4e590b67062e",
   "metadata": {},
   "outputs": [],
   "source": [
    "this_model.save(Path(setup.temp_path).joinpath('13_DATA_model.keras'),save_format='tf')"
   ]
  },
  {
   "cell_type": "markdown",
   "id": "d326c9ea-4759-4418-a64d-56c151049c25",
   "metadata": {},
   "source": [
    "## Predictions on all data"
   ]
  },
  {
   "cell_type": "code",
   "execution_count": 33,
   "id": "cd6910ee-5ffe-4def-9aa8-7dba76446b08",
   "metadata": {},
   "outputs": [
    {
     "name": "stdout",
     "output_type": "stream",
     "text": [
      "  108/21503 [..............................] - ETA: 30s"
     ]
    },
    {
     "name": "stderr",
     "output_type": "stream",
     "text": [
      "2024-02-24 09:14:22.178009: I tensorflow/core/grappler/optimizers/custom_graph_optimizer_registry.cc:114] Plugin optimizer for device_type GPU is enabled.\n"
     ]
    },
    {
     "name": "stdout",
     "output_type": "stream",
     "text": [
      "21503/21503 [==============================] - 29s 1ms/step\n"
     ]
    }
   ],
   "source": [
    "all_predictions = this_model.predict(X.drop(columns='dset'))"
   ]
  },
  {
   "cell_type": "code",
   "execution_count": 34,
   "id": "98a2cce1-b7d3-4ebc-8869-80705297e145",
   "metadata": {},
   "outputs": [],
   "source": [
    "all_predictions_df = pd.DataFrame(all_predictions, index=X.index) \\\n",
    "    .set_axis(['predict_prob'], axis=1) \\\n",
    "    .reset_index() \\\n",
    "    .merge(business_data[['target', 'LoanNr_ChkDgt', 'dset', 'dset_naics_holdout']], on='LoanNr_ChkDgt')\n",
    "    "
   ]
  },
  {
   "cell_type": "code",
   "execution_count": 35,
   "id": "3fc7da9c-6bd2-4d1b-b77f-b62679825d5d",
   "metadata": {},
   "outputs": [
    {
     "data": {
      "text/html": [
       "<div>\n",
       "<style scoped>\n",
       "    .dataframe tbody tr th:only-of-type {\n",
       "        vertical-align: middle;\n",
       "    }\n",
       "\n",
       "    .dataframe tbody tr th {\n",
       "        vertical-align: top;\n",
       "    }\n",
       "\n",
       "    .dataframe thead th {\n",
       "        text-align: right;\n",
       "    }\n",
       "</style>\n",
       "<table border=\"1\" class=\"dataframe\">\n",
       "  <thead>\n",
       "    <tr style=\"text-align: right;\">\n",
       "      <th></th>\n",
       "      <th>predict_prob</th>\n",
       "      <th>target</th>\n",
       "    </tr>\n",
       "  </thead>\n",
       "  <tbody>\n",
       "    <tr>\n",
       "      <th>predict_prob</th>\n",
       "      <td>1.000000</td>\n",
       "      <td>0.283004</td>\n",
       "    </tr>\n",
       "    <tr>\n",
       "      <th>target</th>\n",
       "      <td>0.283004</td>\n",
       "      <td>1.000000</td>\n",
       "    </tr>\n",
       "  </tbody>\n",
       "</table>\n",
       "</div>"
      ],
      "text/plain": [
       "              predict_prob    target\n",
       "predict_prob      1.000000  0.283004\n",
       "target            0.283004  1.000000"
      ]
     },
     "execution_count": 35,
     "metadata": {},
     "output_type": "execute_result"
    }
   ],
   "source": [
    "all_predictions_df[['predict_prob', 'target']].corr(method='spearman')"
   ]
  },
  {
   "cell_type": "markdown",
   "id": "e79afc4e-cb67-4064-9b19-dc52500baef2",
   "metadata": {},
   "source": [
    "##### Threshold Tune & Binary Predictions\n",
    "Using training probability predictions"
   ]
  },
  {
   "cell_type": "code",
   "execution_count": 36,
   "id": "ccd0bc23-fbc0-40d0-8d8b-f2302405a875",
   "metadata": {},
   "outputs": [],
   "source": [
    "all_pred_train = all_predictions_df[all_predictions_df['dset'] == 'train']"
   ]
  },
  {
   "cell_type": "code",
   "execution_count": 37,
   "id": "df36d9e9-f35e-46b3-a5be-08081f998319",
   "metadata": {},
   "outputs": [],
   "source": [
    "thresh_tune_data = sg_plot.get_f1_frame(all_pred_train['target'], \n",
    "                                        all_pred_train['predict_prob'])"
   ]
  },
  {
   "cell_type": "code",
   "execution_count": 38,
   "id": "de634156-caf6-4a52-b5d7-44b8e986aa1d",
   "metadata": {},
   "outputs": [
    {
     "data": {
      "text/html": [
       "<div>\n",
       "<style scoped>\n",
       "    .dataframe tbody tr th:only-of-type {\n",
       "        vertical-align: middle;\n",
       "    }\n",
       "\n",
       "    .dataframe tbody tr th {\n",
       "        vertical-align: top;\n",
       "    }\n",
       "\n",
       "    .dataframe thead th {\n",
       "        text-align: right;\n",
       "    }\n",
       "</style>\n",
       "<table border=\"1\" class=\"dataframe\">\n",
       "  <thead>\n",
       "    <tr style=\"text-align: right;\">\n",
       "      <th></th>\n",
       "      <th>thresh</th>\n",
       "      <th>f1</th>\n",
       "    </tr>\n",
       "  </thead>\n",
       "  <tbody>\n",
       "    <tr>\n",
       "      <th>11</th>\n",
       "      <td>0.22</td>\n",
       "      <td>0.427371</td>\n",
       "    </tr>\n",
       "    <tr>\n",
       "      <th>10</th>\n",
       "      <td>0.20</td>\n",
       "      <td>0.427067</td>\n",
       "    </tr>\n",
       "    <tr>\n",
       "      <th>9</th>\n",
       "      <td>0.18</td>\n",
       "      <td>0.424623</td>\n",
       "    </tr>\n",
       "  </tbody>\n",
       "</table>\n",
       "</div>"
      ],
      "text/plain": [
       "    thresh        f1\n",
       "11    0.22  0.427371\n",
       "10    0.20  0.427067\n",
       "9     0.18  0.424623"
      ]
     },
     "execution_count": 38,
     "metadata": {},
     "output_type": "execute_result"
    }
   ],
   "source": [
    "thresh_tune_data.sort_values('f1', ascending=False, inplace=True)\n",
    "thresh_tune_data.head(3)"
   ]
  },
  {
   "cell_type": "code",
   "execution_count": 39,
   "id": "c746b880-d781-4bc1-9df2-89211127c22a",
   "metadata": {},
   "outputs": [
    {
     "data": {
      "text/plain": [
       "0.22"
      ]
     },
     "execution_count": 39,
     "metadata": {},
     "output_type": "execute_result"
    }
   ],
   "source": [
    "best_thresh = thresh_tune_data['thresh'].iloc[0]\n",
    "best_thresh"
   ]
  },
  {
   "cell_type": "markdown",
   "id": "3c0ac5e2-be0d-42f0-960d-1f81b4a5d4e2",
   "metadata": {},
   "source": [
    "##### Append binary predictions to probability predictions"
   ]
  },
  {
   "cell_type": "code",
   "execution_count": 40,
   "id": "641da72e-1bca-4fe7-96c4-6c029b521bd7",
   "metadata": {},
   "outputs": [],
   "source": [
    "all_predictions_df['predict_bin'] = sg_plot.get_binary_predictions(all_predictions_df['predict_prob'], best_thresh)"
   ]
  },
  {
   "cell_type": "code",
   "execution_count": 41,
   "id": "9f6ecdf4-ac01-4c39-8315-e8583daa337e",
   "metadata": {},
   "outputs": [
    {
     "data": {
      "text/plain": [
       "predict_bin\n",
       "0    0.533822\n",
       "1    0.466178\n",
       "Name: proportion, dtype: float64"
      ]
     },
     "execution_count": 41,
     "metadata": {},
     "output_type": "execute_result"
    }
   ],
   "source": [
    "all_predictions_df['predict_bin'].value_counts(normalize=True, dropna=False)"
   ]
  },
  {
   "cell_type": "code",
   "execution_count": 42,
   "id": "cbfed830-7ff8-40f6-a691-6b894b26d6bc",
   "metadata": {},
   "outputs": [],
   "source": [
    "all_predictions_df.to_parquet(Path(setup.temp_path).joinpath('13_DATA_predictions.parquet'))"
   ]
  },
  {
   "cell_type": "markdown",
   "id": "69903966-6baa-4579-8e84-ce38e8ebdd77",
   "metadata": {},
   "source": [
    "## Metrics"
   ]
  },
  {
   "cell_type": "code",
   "execution_count": 43,
   "id": "0c748e1c-ddb3-4d92-8f84-485736633e10",
   "metadata": {},
   "outputs": [
    {
     "data": {
      "text/html": [
       "<div>\n",
       "<style scoped>\n",
       "    .dataframe tbody tr th:only-of-type {\n",
       "        vertical-align: middle;\n",
       "    }\n",
       "\n",
       "    .dataframe tbody tr th {\n",
       "        vertical-align: top;\n",
       "    }\n",
       "\n",
       "    .dataframe thead th {\n",
       "        text-align: right;\n",
       "    }\n",
       "</style>\n",
       "<table border=\"1\" class=\"dataframe\">\n",
       "  <thead>\n",
       "    <tr style=\"text-align: right;\">\n",
       "      <th></th>\n",
       "      <th>dset</th>\n",
       "      <th>accuracy_score</th>\n",
       "      <th>f1_score</th>\n",
       "      <th>precision_score</th>\n",
       "      <th>recall_score</th>\n",
       "      <th>average_precision_score</th>\n",
       "      <th>roc_auc_score</th>\n",
       "      <th>dset_naics_holdout</th>\n",
       "    </tr>\n",
       "  </thead>\n",
       "  <tbody>\n",
       "    <tr>\n",
       "      <th>0</th>\n",
       "      <td>test</td>\n",
       "      <td>0.620033</td>\n",
       "      <td>0.427298</td>\n",
       "      <td>0.306184</td>\n",
       "      <td>0.706934</td>\n",
       "      <td>0.347100</td>\n",
       "      <td>0.707066</td>\n",
       "      <td>NaN</td>\n",
       "    </tr>\n",
       "    <tr>\n",
       "      <th>1</th>\n",
       "      <td>train</td>\n",
       "      <td>0.616339</td>\n",
       "      <td>0.427371</td>\n",
       "      <td>0.306621</td>\n",
       "      <td>0.705011</td>\n",
       "      <td>0.343795</td>\n",
       "      <td>0.702113</td>\n",
       "      <td>NaN</td>\n",
       "    </tr>\n",
       "    <tr>\n",
       "      <th>2</th>\n",
       "      <td>val</td>\n",
       "      <td>0.617593</td>\n",
       "      <td>0.431488</td>\n",
       "      <td>0.310654</td>\n",
       "      <td>0.706162</td>\n",
       "      <td>0.344758</td>\n",
       "      <td>0.702109</td>\n",
       "      <td>NaN</td>\n",
       "    </tr>\n",
       "    <tr>\n",
       "      <th>0</th>\n",
       "      <td>test</td>\n",
       "      <td>0.616892</td>\n",
       "      <td>0.429553</td>\n",
       "      <td>0.308290</td>\n",
       "      <td>0.708064</td>\n",
       "      <td>0.347964</td>\n",
       "      <td>0.704058</td>\n",
       "      <td>0.0</td>\n",
       "    </tr>\n",
       "    <tr>\n",
       "      <th>1</th>\n",
       "      <td>test</td>\n",
       "      <td>0.629753</td>\n",
       "      <td>0.419954</td>\n",
       "      <td>0.299370</td>\n",
       "      <td>0.703196</td>\n",
       "      <td>0.344513</td>\n",
       "      <td>0.715936</td>\n",
       "      <td>1.0</td>\n",
       "    </tr>\n",
       "  </tbody>\n",
       "</table>\n",
       "</div>"
      ],
      "text/plain": [
       "    dset  accuracy_score  f1_score  precision_score  recall_score  \\\n",
       "0   test        0.620033  0.427298         0.306184      0.706934   \n",
       "1  train        0.616339  0.427371         0.306621      0.705011   \n",
       "2    val        0.617593  0.431488         0.310654      0.706162   \n",
       "0   test        0.616892  0.429553         0.308290      0.708064   \n",
       "1   test        0.629753  0.419954         0.299370      0.703196   \n",
       "\n",
       "   average_precision_score  roc_auc_score  dset_naics_holdout  \n",
       "0                 0.347100       0.707066                 NaN  \n",
       "1                 0.343795       0.702113                 NaN  \n",
       "2                 0.344758       0.702109                 NaN  \n",
       "0                 0.347964       0.704058                 0.0  \n",
       "1                 0.344513       0.715936                 1.0  "
      ]
     },
     "execution_count": 43,
     "metadata": {},
     "output_type": "execute_result"
    }
   ],
   "source": [
    "metrics_dset_df = all_predictions_df.groupby('dset') \\\n",
    "    .apply(lambda x: sg_plot.dset_metrics(x.target, x.predict_bin, x.predict_prob)) \\\n",
    "    .reset_index()\n",
    "metrics_test_df = all_predictions_df[all_predictions_df['dset'] == 'test'] \\\n",
    "    .groupby(['dset', 'dset_naics_holdout']) \\\n",
    "    .apply(lambda x: sg_plot.dset_metrics(x.target, x.predict_bin, x.predict_prob)) \\\n",
    "    .reset_index()\n",
    "metrics_df = pd.concat([metrics_dset_df, metrics_test_df])\n",
    "metrics_df.to_csv(Path(setup.temp_path).joinpath('13_REPORT_metrics.csv'), index=True)\n",
    "metrics_df"
   ]
  },
  {
   "cell_type": "code",
   "execution_count": null,
   "id": "61477278-45ce-4742-b352-05fdde43506f",
   "metadata": {},
   "outputs": [],
   "source": []
  }
 ],
 "metadata": {
  "kernelspec": {
   "display_name": "tf_p39",
   "language": "python",
   "name": "tf_p39"
  },
  "language_info": {
   "codemirror_mode": {
    "name": "ipython",
    "version": 3
   },
   "file_extension": ".py",
   "mimetype": "text/x-python",
   "name": "python",
   "nbconvert_exporter": "python",
   "pygments_lexer": "ipython3",
   "version": "3.8.18"
  }
 },
 "nbformat": 4,
 "nbformat_minor": 5
}
