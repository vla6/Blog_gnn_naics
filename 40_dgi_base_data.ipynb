{
 "cells": [
  {
   "cell_type": "code",
   "execution_count": 1,
   "id": "6b94b07d-c145-44ab-8566-1d5a793bf077",
   "metadata": {
    "tags": []
   },
   "outputs": [],
   "source": [
    "# Modify the file 00_setup.py to define input/output file paths on your system\n",
    "# The information in 00_setup.py will be used across notebooks\n",
    "from importlib.machinery import SourceFileLoader\n",
    "setup = SourceFileLoader(\"setup\", \"./00_setup.py\").load_module()"
   ]
  },
  {
   "cell_type": "markdown",
   "id": "2a58b5dd-6863-43f9-b28c-da9378afb1d7",
   "metadata": {},
   "source": [
    "# GNN - Data for Unsupervised Model"
   ]
  },
  {
   "cell_type": "markdown",
   "id": "20b91454-640d-4055-aac4-067fe1fe58b8",
   "metadata": {},
   "source": [
    "Create Stellargraph objects for unsupervised GNN runs.  The goal is to get embeddings for use in e.g. XGBoost models."
   ]
  },
  {
   "cell_type": "markdown",
   "id": "c447a772-dc1a-4157-8d34-08e3f99ebfe6",
   "metadata": {},
   "source": [
    "Here I use raw training features, with no label feature information"
   ]
  },
  {
   "cell_type": "markdown",
   "id": "fc0f8895-68a0-435b-b427-04dd1fca5466",
   "metadata": {},
   "source": [
    "The unsupervised model has both business and NAICS nodes, and uses NAICS nodes as the head type."
   ]
  },
  {
   "cell_type": "markdown",
   "id": "ce6fed7e-3548-4bee-8d57-9244be1222b4",
   "metadata": {},
   "source": [
    "*This script takes about 15 minutes on my MacBook Air*"
   ]
  },
  {
   "cell_type": "code",
   "execution_count": 2,
   "id": "52c010c9-235e-4845-bc23-dd9b82acc741",
   "metadata": {},
   "outputs": [],
   "source": [
    "import pandas as pd\n",
    "import numpy as np"
   ]
  },
  {
   "cell_type": "code",
   "execution_count": 3,
   "id": "dd932005-3f42-434a-a7e3-34d6fdab71b8",
   "metadata": {},
   "outputs": [],
   "source": [
    "from pathlib import Path\n",
    "import importlib\n",
    "import pickle, re"
   ]
  },
  {
   "cell_type": "code",
   "execution_count": 4,
   "id": "3c0a0d65-40df-4f60-a5ba-5a19d817765c",
   "metadata": {},
   "outputs": [],
   "source": [
    "from sba_gnn.sba_gnn import sg_gnn"
   ]
  },
  {
   "cell_type": "code",
   "execution_count": 5,
   "id": "59ba58e0-e2a1-4b3d-b125-d77a463fab1b",
   "metadata": {},
   "outputs": [
    {
     "name": "stderr",
     "output_type": "stream",
     "text": [
      "2024-01-29 08:19:38.098559: I metal_plugin/src/device/metal_device.cc:1154] Metal device set to: Apple M1\n",
      "2024-01-29 08:19:38.098585: I metal_plugin/src/device/metal_device.cc:296] systemMemory: 16.00 GB\n",
      "2024-01-29 08:19:38.098591: I metal_plugin/src/device/metal_device.cc:313] maxCacheSize: 5.33 GB\n",
      "2024-01-29 08:19:38.098628: I tensorflow/core/common_runtime/pluggable_device/pluggable_device_factory.cc:303] Could not identify NUMA node of platform GPU ID 0, defaulting to 0. Your kernel may not have been built with NUMA support.\n",
      "2024-01-29 08:19:38.098645: I tensorflow/core/common_runtime/pluggable_device/pluggable_device_factory.cc:269] Created TensorFlow device (/job:localhost/replica:0/task:0/device:GPU:0 with 0 MB memory) -> physical PluggableDevice (device: 0, name: METAL, pci bus id: <undefined>)\n"
     ]
    }
   ],
   "source": [
    "import stellargraph as sg\n",
    "from stellargraph import StellarGraph"
   ]
  },
  {
   "cell_type": "markdown",
   "id": "4da4b71d-5108-49e6-80e1-521c23def729",
   "metadata": {
    "tags": []
   },
   "source": [
    "## Import Data"
   ]
  },
  {
   "cell_type": "code",
   "execution_count": 6,
   "id": "8b7ce228-82c7-4943-930d-72a171b48195",
   "metadata": {},
   "outputs": [],
   "source": [
    "## NN scaled input data\n",
    "comb_df = pd.read_parquet(Path(setup.temp_path).joinpath('10_DATA_combined_scaled_all.parquet'))"
   ]
  },
  {
   "cell_type": "code",
   "execution_count": 7,
   "id": "92b9e3ec-b772-4c70-9cf8-c88186ac110f",
   "metadata": {},
   "outputs": [],
   "source": [
    "with open(Path(setup.temp_path).joinpath('10_DATA_features.pkl'), 'rb') as fin:\n",
    "    imputed_features = pickle.load(fin)"
   ]
  },
  {
   "cell_type": "code",
   "execution_count": 8,
   "id": "3ca13685-f529-45e7-8d3c-c4f7f23b972d",
   "metadata": {},
   "outputs": [
    {
     "name": "stdout",
     "output_type": "stream",
     "text": [
      "['NoEmp', 'CreateJob', 'LowDoc', 'DisbursementGross', 'new_business', 'urban_flag', 'franchise_flag', 'missingindicator_LowDoc', 'missingindicator_new_business', 'missingindicator_urban_flag']\n"
     ]
    }
   ],
   "source": [
    "num_feat =  [c for c in imputed_features if c != 'NAICS']\n",
    "print(num_feat)"
   ]
  },
  {
   "cell_type": "markdown",
   "id": "ba09160d-4623-4829-8d9e-00f551305372",
   "metadata": {},
   "source": [
    "## Create Edge Map"
   ]
  },
  {
   "cell_type": "markdown",
   "id": "fbc1aef4-827e-4ca4-989b-f11156a087a6",
   "metadata": {},
   "source": [
    "I will have edges between a business and its NAICS, as well as edges to same-sector NAICS nodes.  This section creates general edge data, which may be filtered to create graphs"
   ]
  },
  {
   "cell_type": "markdown",
   "id": "0bb131eb-eef9-4470-b547-c41bdf47bb1e",
   "metadata": {},
   "source": [
    "##### Create NAICS map to same-sector NAICS"
   ]
  },
  {
   "cell_type": "code",
   "execution_count": 17,
   "id": "218e855f-70b1-4ccb-80e5-d5583d67395a",
   "metadata": {},
   "outputs": [],
   "source": [
    "sector_map = comb_df[['NAICS_orig', 'NAICS_sector']].drop_duplicates()"
   ]
  },
  {
   "cell_type": "code",
   "execution_count": 18,
   "id": "3694ad3b-fd1f-4ff4-9061-d1d5a2455dae",
   "metadata": {},
   "outputs": [],
   "source": [
    "naics_all_sectors = sector_map.merge(sector_map.rename(columns={'NAICS_orig':'NAICS_sim'}),\n",
    "                                     how='left', on ='NAICS_sector')\n",
    "naics_all_sectors = naics_all_sectors[naics_all_sectors['NAICS_orig'] != naics_all_sectors['NAICS_sim']]"
   ]
  },
  {
   "cell_type": "code",
   "execution_count": 19,
   "id": "a2f0f679-73fb-4b25-b910-2db92c9a624b",
   "metadata": {},
   "outputs": [
    {
     "data": {
      "text/html": [
       "<div>\n",
       "<style scoped>\n",
       "    .dataframe tbody tr th:only-of-type {\n",
       "        vertical-align: middle;\n",
       "    }\n",
       "\n",
       "    .dataframe tbody tr th {\n",
       "        vertical-align: top;\n",
       "    }\n",
       "\n",
       "    .dataframe thead th {\n",
       "        text-align: right;\n",
       "    }\n",
       "</style>\n",
       "<table border=\"1\" class=\"dataframe\">\n",
       "  <thead>\n",
       "    <tr style=\"text-align: right;\">\n",
       "      <th></th>\n",
       "      <th>NAICS_orig</th>\n",
       "      <th>NAICS_sector</th>\n",
       "      <th>NAICS_sim</th>\n",
       "    </tr>\n",
       "  </thead>\n",
       "  <tbody>\n",
       "    <tr>\n",
       "      <th>266634</th>\n",
       "      <td>325182</td>\n",
       "      <td>31-33</td>\n",
       "      <td>322231</td>\n",
       "    </tr>\n",
       "    <tr>\n",
       "      <th>192017</th>\n",
       "      <td>311511</td>\n",
       "      <td>31-33</td>\n",
       "      <td>337910</td>\n",
       "    </tr>\n",
       "    <tr>\n",
       "      <th>66624</th>\n",
       "      <td>337125</td>\n",
       "      <td>31-33</td>\n",
       "      <td>311422</td>\n",
       "    </tr>\n",
       "    <tr>\n",
       "      <th>138325</th>\n",
       "      <td>315292</td>\n",
       "      <td>31-33</td>\n",
       "      <td>325612</td>\n",
       "    </tr>\n",
       "    <tr>\n",
       "      <th>205005</th>\n",
       "      <td>332997</td>\n",
       "      <td>31-33</td>\n",
       "      <td>334611</td>\n",
       "    </tr>\n",
       "  </tbody>\n",
       "</table>\n",
       "</div>"
      ],
      "text/plain": [
       "       NAICS_orig NAICS_sector NAICS_sim\n",
       "266634     325182        31-33    322231\n",
       "192017     311511        31-33    337910\n",
       "66624      337125        31-33    311422\n",
       "138325     315292        31-33    325612\n",
       "205005     332997        31-33    334611"
      ]
     },
     "execution_count": 19,
     "metadata": {},
     "output_type": "execute_result"
    }
   ],
   "source": [
    "naics_all_sectors.sample(5)"
   ]
  },
  {
   "cell_type": "markdown",
   "id": "df35ad5a-f897-489c-ad6e-ca9d7f702e8c",
   "metadata": {},
   "source": [
    "##### Functions for creating index for NAICS"
   ]
  },
  {
   "cell_type": "markdown",
   "id": "10e564f2-1f31-4a8b-8583-f2e7adb81cd5",
   "metadata": {},
   "source": [
    "##### Get edges from businesses to their exact NAICS"
   ]
  },
  {
   "cell_type": "code",
   "execution_count": 21,
   "id": "93a337e4-5f29-4221-b8e4-cb9fb3da457a",
   "metadata": {},
   "outputs": [],
   "source": [
    "# Edges from businesses to their NAICS code\n",
    "naics_info_df = comb_df[['LoanNr_ChkDgt', 'NAICS_orig', 'dset']].copy() \\\n",
    "    .rename(columns={'LoanNr_ChkDgt':'source'}) \n",
    "naics_info_df['target'] = sg_gnn.get_naics_index(naics_info_df['NAICS_orig'])\n",
    "\n",
    "edges_business_naics = naics_info_df[['source', 'target', 'dset']].copy()\n",
    "edges_business_naics['type'] = 'loan_naics'"
   ]
  },
  {
   "cell_type": "markdown",
   "id": "1115f1e5-93be-41a7-a78f-86f15bf537be",
   "metadata": {},
   "source": [
    "##### Get edges from buisinesses to related NAICS codes"
   ]
  },
  {
   "cell_type": "code",
   "execution_count": 22,
   "id": "b0b30d22-95bc-4e48-8565-071bbcb02e7f",
   "metadata": {},
   "outputs": [
    {
     "data": {
      "text/html": [
       "<div>\n",
       "<style scoped>\n",
       "    .dataframe tbody tr th:only-of-type {\n",
       "        vertical-align: middle;\n",
       "    }\n",
       "\n",
       "    .dataframe tbody tr th {\n",
       "        vertical-align: top;\n",
       "    }\n",
       "\n",
       "    .dataframe thead th {\n",
       "        text-align: right;\n",
       "    }\n",
       "</style>\n",
       "<table border=\"1\" class=\"dataframe\">\n",
       "  <thead>\n",
       "    <tr style=\"text-align: right;\">\n",
       "      <th></th>\n",
       "      <th>source</th>\n",
       "      <th>NAICS_orig</th>\n",
       "      <th>dset</th>\n",
       "      <th>target</th>\n",
       "    </tr>\n",
       "    <tr>\n",
       "      <th>index</th>\n",
       "      <th></th>\n",
       "      <th></th>\n",
       "      <th></th>\n",
       "      <th></th>\n",
       "    </tr>\n",
       "  </thead>\n",
       "  <tbody>\n",
       "    <tr>\n",
       "      <th>0</th>\n",
       "      <td>1000014003</td>\n",
       "      <td>451120</td>\n",
       "      <td>train</td>\n",
       "      <td>n_451120</td>\n",
       "    </tr>\n",
       "    <tr>\n",
       "      <th>2</th>\n",
       "      <td>1000034009</td>\n",
       "      <td>621210</td>\n",
       "      <td>train</td>\n",
       "      <td>n_621210</td>\n",
       "    </tr>\n",
       "    <tr>\n",
       "      <th>7</th>\n",
       "      <td>1000094005</td>\n",
       "      <td>811118</td>\n",
       "      <td>train</td>\n",
       "      <td>n_811118</td>\n",
       "    </tr>\n",
       "  </tbody>\n",
       "</table>\n",
       "</div>"
      ],
      "text/plain": [
       "           source NAICS_orig   dset    target\n",
       "index                                        \n",
       "0      1000014003     451120  train  n_451120\n",
       "2      1000034009     621210  train  n_621210\n",
       "7      1000094005     811118  train  n_811118"
      ]
     },
     "execution_count": 22,
     "metadata": {},
     "output_type": "execute_result"
    }
   ],
   "source": [
    "naics_info_df.head(3)"
   ]
  },
  {
   "cell_type": "code",
   "execution_count": 23,
   "id": "7e950ce4-5252-452b-8e42-4095952088c0",
   "metadata": {},
   "outputs": [
    {
     "name": "stdout",
     "output_type": "stream",
     "text": [
      "Sector NAICS edges: (67912366, 4)\n"
     ]
    }
   ],
   "source": [
    "edges_businesses_naics_sim = naics_info_df.drop(columns='target', errors='ignore') \\\n",
    "    .merge(naics_all_sectors, how='inner', on='NAICS_orig')\n",
    "edges_businesses_naics_sim['target'] = sg_gnn.get_naics_index(edges_businesses_naics_sim['NAICS_sim'])\n",
    "edges_businesses_naics_sim = edges_businesses_naics_sim[['source', 'target', 'dset']]\n",
    "edges_businesses_naics_sim['type'] = 'loan_sector_naics'\n",
    "print(f'Sector NAICS edges: {edges_businesses_naics_sim.shape}')"
   ]
  },
  {
   "cell_type": "markdown",
   "id": "07b10e40-cf4c-4aab-a7c5-86fd5d042cf8",
   "metadata": {},
   "source": [
    "##### Sample these - See 00_setup.py\n",
    "The data is large so sampling could be considered here.  This is controlled in 00_setup.py."
   ]
  },
  {
   "cell_type": "code",
   "execution_count": 26,
   "id": "6d802384-b379-4f15-8c69-561c8ba299a2",
   "metadata": {},
   "outputs": [
    {
     "name": "stdout",
     "output_type": "stream",
     "text": [
      "Sector NAICS edges post sample: (22483771, 4)\n"
     ]
    }
   ],
   "source": [
    "if setup.gnn_unsup_sample:\n",
    "    edges_businesses_naics_sim = edges_businesses_naics_sim.groupby('source') \\\n",
    "        .sample(setup.gnn_unsup_sample_n, replace=True, random_state=2342) \\\n",
    "        .drop_duplicates()\n",
    "    print(f'Sector NAICS edges post sample: {edges_businesses_naics_sim.shape}')"
   ]
  },
  {
   "cell_type": "code",
   "execution_count": 31,
   "id": "28fc81c4-93b9-4e55-890f-be19e3fc6940",
   "metadata": {},
   "outputs": [],
   "source": [
    "edges_all = pd.concat([edges_business_naics, edges_businesses_naics_sim], axis=0) \\\n",
    "    .reset_index(drop=True)"
   ]
  },
  {
   "cell_type": "code",
   "execution_count": 32,
   "id": "dcbba7bf-efc6-4be6-9d90-653cd3392e5e",
   "metadata": {},
   "outputs": [
    {
     "data": {
      "text/plain": [
       "type\n",
       "loan_sector_naics    22483771\n",
       "loan_naics             688081\n",
       "Name: count, dtype: int64"
      ]
     },
     "execution_count": 32,
     "metadata": {},
     "output_type": "execute_result"
    }
   ],
   "source": [
    "edges_all['type'].value_counts()"
   ]
  },
  {
   "cell_type": "code",
   "execution_count": 33,
   "id": "909273ae-0265-4adb-99cf-15f88198585d",
   "metadata": {},
   "outputs": [
    {
     "name": "stdout",
     "output_type": "stream",
     "text": [
      "(23171852, 2)\n",
      "(23171852, 4)\n"
     ]
    }
   ],
   "source": [
    "print(edges_all[['source', 'target']].drop_duplicates().shape)\n",
    "print(edges_all.shape)"
   ]
  },
  {
   "cell_type": "code",
   "execution_count": 34,
   "id": "8eac7471-cda3-40fd-a543-21e2fd3fcfda",
   "metadata": {},
   "outputs": [],
   "source": [
    "edges_all.to_parquet(Path(setup.temp_path).joinpath('40_DATA_graph_edges.parquet'))"
   ]
  },
  {
   "cell_type": "markdown",
   "id": "4eb23221-aaec-4aa5-b19c-86441375b4fc",
   "metadata": {},
   "source": [
    "## Get Node Features\n",
    "Use the scaled NN data.  For NAICS, just set an indicator for now.  "
   ]
  },
  {
   "cell_type": "code",
   "execution_count": 9,
   "id": "4d999dba-b0b6-4969-9ef9-a5dd2615d7d2",
   "metadata": {},
   "outputs": [],
   "source": [
    "features_business = comb_df[['LoanNr_ChkDgt', 'dset', 'NAICS_orig'] + num_feat] \\\n",
    "    .set_index('LoanNr_ChkDgt')\n",
    "features_business.to_parquet(Path(setup.temp_path).joinpath('40_DATA_graph_node_features_loans.parquet'))"
   ]
  },
  {
   "cell_type": "code",
   "execution_count": 10,
   "id": "8c380d15-a731-42ff-a7f9-c1e4b535ce59",
   "metadata": {},
   "outputs": [
    {
     "name": "stdout",
     "output_type": "stream",
     "text": [
      "(1311, 2)\n"
     ]
    }
   ],
   "source": [
    "# NAICS features - Just use indicator.  Include original code for mapping\n",
    "features_naics = comb_df[['NAICS_orig']].drop_duplicates()\n",
    "features_naics['feat'] = 1\n",
    "features_naics['source'] = sg_gnn.get_naics_index(features_naics['NAICS_orig'])\n",
    "features_naics.set_index('source', inplace=True) \n",
    "print(features_naics.shape)\n",
    "features_naics.to_parquet(Path(setup.temp_path).joinpath('40_DATA_graph_node_features_naics.parquet'))"
   ]
  },
  {
   "cell_type": "markdown",
   "id": "95cf8304-a674-49d4-b873-b56e9bf53f42",
   "metadata": {},
   "source": [
    "## Stellargraph - train and validation\n",
    "Graph without test nodes (make sure set-aside NAICS not included)"
   ]
  },
  {
   "cell_type": "code",
   "execution_count": 57,
   "id": "1dc0aa32-b79a-46f9-881b-7499fa3d1977",
   "metadata": {},
   "outputs": [],
   "source": [
    "# Get only relevant edges and node data\n",
    "edges_train_val, features_business_train_val, features_naics_train_val = \\\n",
    "    sg_gnn.limit_data(edges_all, features_business, features_naics.drop(columns='NAICS_orig'),\n",
    "                     ['train', 'val'])"
   ]
  },
  {
   "cell_type": "code",
   "execution_count": 58,
   "id": "f509751c-45d8-4f2e-ae64-47985af49eb4",
   "metadata": {},
   "outputs": [
    {
     "name": "stdout",
     "output_type": "stream",
     "text": [
      "Train+val graph data\n",
      "business features, start rows 688081, end 551635\n",
      "naics features, start rows 1311, end 1240\n",
      "edges, start rows 23171852, end 17688739\n"
     ]
    }
   ],
   "source": [
    "print(f'Train+val graph data')\n",
    "print(f'business features, start rows {features_business.shape[0]}, end {features_business_train_val.shape[0]}')\n",
    "print(f'naics features, start rows {features_naics.shape[0]}, end {features_naics_train_val.shape[0]}')\n",
    "print(f'edges, start rows {edges_all.shape[0]}, end {edges_train_val.shape[0]}')"
   ]
  },
  {
   "cell_type": "code",
   "execution_count": 68,
   "id": "8dbf7ca3-42f9-4a4b-bfdf-74d37aad9a16",
   "metadata": {},
   "outputs": [],
   "source": [
    "sba_graph_train_val = StellarGraph({'LoanNr_ChkDgt':features_business_train_val.drop(columns='NAICS_orig'),\n",
    "                                    'NAICS': features_naics_train_val},\n",
    "                                   edges_train_val, \n",
    "                                   source_column=\"source\", target_column=\"target\",\n",
    "                                   edge_type_column=\"type\")"
   ]
  },
  {
   "cell_type": "code",
   "execution_count": 69,
   "id": "410b7928-83b4-428a-af5b-05ecb9c7a748",
   "metadata": {},
   "outputs": [
    {
     "name": "stdout",
     "output_type": "stream",
     "text": [
      "StellarGraph: Undirected multigraph\n",
      " Nodes: 552875, Edges: 17688739\n",
      "\n",
      " Node types:\n",
      "  LoanNr_ChkDgt: [551635]\n",
      "    Features: float32 vector, length 10\n",
      "    Edge types: LoanNr_ChkDgt-loan_naics->NAICS, LoanNr_ChkDgt-loan_sector_naics->NAICS\n",
      "  NAICS: [1240]\n",
      "    Features: float32 vector, length 1\n",
      "    Edge types: NAICS-loan_naics->LoanNr_ChkDgt, NAICS-loan_sector_naics->LoanNr_ChkDgt\n",
      "\n",
      " Edge types:\n",
      "    LoanNr_ChkDgt-loan_sector_naics->NAICS: [17137104]\n",
      "        Weights: all 1 (default)\n",
      "        Features: none\n",
      "    LoanNr_ChkDgt-loan_naics->NAICS: [551635]\n",
      "        Weights: all 1 (default)\n",
      "        Features: none\n"
     ]
    }
   ],
   "source": [
    "print(sba_graph_train_val.info())"
   ]
  },
  {
   "cell_type": "code",
   "execution_count": 70,
   "id": "99b1b627-0cc0-492d-91d3-f9d92e2136e7",
   "metadata": {},
   "outputs": [],
   "source": [
    "# Save stellargraph object\n",
    "with open(Path(setup.temp_path).joinpath('40_DATA_stellargraph_train_val.pkl'), 'wb') as fout:\n",
    "      pickle.dump(sba_graph_train_val, fout)"
   ]
  },
  {
   "cell_type": "code",
   "execution_count": 77,
   "id": "d31508f8-f487-4e56-b2a4-7bd5da425e2e",
   "metadata": {},
   "outputs": [
    {
     "data": {
      "text/plain": [
       "Index(['feat'], dtype='object')"
      ]
     },
     "execution_count": 77,
     "metadata": {},
     "output_type": "execute_result"
    }
   ],
   "source": [
    "features_naics.columns"
   ]
  },
  {
   "cell_type": "markdown",
   "id": "e82b9311-7f4e-4cab-92a7-633670a0398f",
   "metadata": {},
   "source": [
    "## Stellargraph - all nodes"
   ]
  },
  {
   "cell_type": "code",
   "execution_count": 78,
   "id": "2fcf66ec-e079-4c91-a0cb-70439013577d",
   "metadata": {},
   "outputs": [],
   "source": [
    "sba_graph_all = StellarGraph({'LoanNr_ChkDgt':features_business.drop(columns=['dset', 'NAICS_orig']) ,\n",
    "                              'NAICS': features_naics.drop(columns='NAICS_orig')},\n",
    "                             edges_all.drop(columns=['dset']).drop_duplicates(),\n",
    "                             source_column=\"source\", target_column=\"target\",\n",
    "                             edge_type_column=\"type\")"
   ]
  },
  {
   "cell_type": "code",
   "execution_count": 79,
   "id": "63089961-2b1f-4312-aafe-e2e7de4feede",
   "metadata": {},
   "outputs": [
    {
     "name": "stdout",
     "output_type": "stream",
     "text": [
      "StellarGraph: Undirected multigraph\n",
      " Nodes: 689392, Edges: 23171852\n",
      "\n",
      " Node types:\n",
      "  LoanNr_ChkDgt: [688081]\n",
      "    Features: float32 vector, length 10\n",
      "    Edge types: LoanNr_ChkDgt-loan_naics->NAICS, LoanNr_ChkDgt-loan_sector_naics->NAICS\n",
      "  NAICS: [1311]\n",
      "    Features: float32 vector, length 1\n",
      "    Edge types: NAICS-loan_naics->LoanNr_ChkDgt, NAICS-loan_sector_naics->LoanNr_ChkDgt\n",
      "\n",
      " Edge types:\n",
      "    LoanNr_ChkDgt-loan_sector_naics->NAICS: [22483771]\n",
      "        Weights: all 1 (default)\n",
      "        Features: none\n",
      "    LoanNr_ChkDgt-loan_naics->NAICS: [688081]\n",
      "        Weights: all 1 (default)\n",
      "        Features: none\n"
     ]
    }
   ],
   "source": [
    "print(sba_graph_all.info())"
   ]
  },
  {
   "cell_type": "code",
   "execution_count": 80,
   "id": "18015753-3c65-4ffd-af45-00fa3e4a2427",
   "metadata": {},
   "outputs": [],
   "source": [
    "# Save stellargraph object\n",
    "with open(Path(setup.temp_path).joinpath('40_DATA_stellargraph_all.pkl'), 'wb') as fout:\n",
    "      pickle.dump(sba_graph_all, fout)"
   ]
  },
  {
   "cell_type": "code",
   "execution_count": null,
   "id": "0e5ca7fb-3a51-4e31-9c6f-9b7beb016f7d",
   "metadata": {},
   "outputs": [],
   "source": []
  }
 ],
 "metadata": {
  "kernelspec": {
   "display_name": "tf_p39",
   "language": "python",
   "name": "tf_p39"
  },
  "language_info": {
   "codemirror_mode": {
    "name": "ipython",
    "version": 3
   },
   "file_extension": ".py",
   "mimetype": "text/x-python",
   "name": "python",
   "nbconvert_exporter": "python",
   "pygments_lexer": "ipython3",
   "version": "3.8.18"
  }
 },
 "nbformat": 4,
 "nbformat_minor": 5
}
