{
 "cells": [
  {
   "cell_type": "code",
   "execution_count": 1,
   "id": "4c65f557-651f-4958-a567-a1b6b5a82b2b",
   "metadata": {
    "tags": []
   },
   "outputs": [
    {
     "data": {
      "text/plain": [
       "'/Users/valeriecarey/Documents/projects/2023_10_blog_gnn_sba/code'"
      ]
     },
     "execution_count": 1,
     "metadata": {},
     "output_type": "execute_result"
    }
   ],
   "source": [
    "# Modify the file A00_setup.  Note the working directory is changed\n",
    "import os\n",
    "os.chdir(os.getcwd().rsplit(os.path.sep + 'code')[0] + os.path.sep + 'code')\n",
    "from importlib.machinery import SourceFileLoader\n",
    "setup = SourceFileLoader(\"setup\", \"./A_target_count_encoding/A00_setup.py\").load_module()\n",
    "os.getcwd()"
   ]
  },
  {
   "cell_type": "markdown",
   "id": "b01d0fdb-d4bf-465a-8541-997addc50b0c",
   "metadata": {},
   "source": [
    "# XGBoost with Target-Count encoding of NAICS + DGI groups\n",
    "Do the Target+Count encoding for all levels of the NAICS plus DGI hierarchy.  Use selected lambda_k"
   ]
  },
  {
   "cell_type": "markdown",
   "id": "454f25ce-ce9a-4b93-81e1-374d750e2eb1",
   "metadata": {},
   "source": [
    "This is duplicative with A02 for metrics, but I want to look at feature importance, lift, etc."
   ]
  },
  {
   "cell_type": "markdown",
   "id": "56161f89-1f54-47f9-860d-3f945a941c1f",
   "metadata": {},
   "source": [
    "*This script takes about 5 minutes on my MacBook Air*"
   ]
  },
  {
   "cell_type": "code",
   "execution_count": 2,
   "id": "ec6b1778-7abc-4129-ab5f-ac2992bd8ca6",
   "metadata": {},
   "outputs": [],
   "source": [
    "import pandas as pd\n",
    "import numpy as np\n",
    "import xgboost as xgb\n",
    "import warnings\n",
    "import matplotlib.pyplot as plt\n",
    "import pickle, importlib"
   ]
  },
  {
   "cell_type": "code",
   "execution_count": 3,
   "id": "785af927-a634-4e34-84c4-7a532236f2ca",
   "metadata": {},
   "outputs": [],
   "source": [
    "from pathlib import Path"
   ]
  },
  {
   "cell_type": "code",
   "execution_count": 4,
   "id": "fd09527b-32dd-47fa-b62f-f9307f89f553",
   "metadata": {},
   "outputs": [],
   "source": [
    "import sklearn as sk\n",
    "from sklearn.model_selection import RandomizedSearchCV\n",
    "from sklearn.inspection import permutation_importance, partial_dependence\n",
    "from scikitplot.metrics import plot_lift_curve"
   ]
  },
  {
   "cell_type": "code",
   "execution_count": 5,
   "id": "0732ba40-8318-457b-b29f-f9b6de3b70aa",
   "metadata": {},
   "outputs": [],
   "source": [
    "from sba_gnn.sba_gnn import sg_plot, sg_target_count_encoder\n",
    "from sba_gnn.sba_gnn.sg_target_count_encoder import TargetCountEncoder"
   ]
  },
  {
   "cell_type": "markdown",
   "id": "d14a5947-6599-4253-acf3-91ddeffdedd3",
   "metadata": {},
   "source": [
    "## Import Processed Dataset"
   ]
  },
  {
   "cell_type": "code",
   "execution_count": 6,
   "id": "f6bc5cc5-b635-420f-852c-6cc9bba68a52",
   "metadata": {
    "tags": []
   },
   "outputs": [],
   "source": [
    "sba_loans = pd.read_parquet(Path(setup.parent_path).joinpath('01_DATA_transformed.parquet')) "
   ]
  },
  {
   "cell_type": "markdown",
   "id": "c00d0b64-baf3-436c-8d26-67aafcf33514",
   "metadata": {
    "tags": []
   },
   "source": [
    "##### Append DGI info"
   ]
  },
  {
   "cell_type": "code",
   "execution_count": 7,
   "id": "b7a88384-f60a-4ddf-8276-1c4b3671fd3f",
   "metadata": {},
   "outputs": [],
   "source": [
    "##### DGI info\n",
    "embed_df = pd.read_parquet(Path(setup.parent_path).joinpath('63_DATA_embeddings_tsne_naics.parquet'))"
   ]
  },
  {
   "cell_type": "code",
   "execution_count": 8,
   "id": "465c568f-acf1-48f6-a69d-f3f7cd1e7bd3",
   "metadata": {},
   "outputs": [],
   "source": [
    "# Group counts\n",
    "naics_grp_counts = pd.read_csv(Path(setup.parent_path).joinpath('02_REPORT_naics_grp_stats_all.csv')) \\\n",
    "    [['level_0', 'count_grp']] \\\n",
    "    .drop_duplicates() \\\n",
    "    .set_axis(['naics_type', 'k'], axis=1)"
   ]
  },
  {
   "cell_type": "code",
   "execution_count": 9,
   "id": "e3627e3f-211f-4727-83c4-9f8fa54e5bd2",
   "metadata": {},
   "outputs": [
    {
     "data": {
      "text/plain": [
       "[20.0, 106.0, 354.0, 834.0]"
      ]
     },
     "execution_count": 9,
     "metadata": {},
     "output_type": "execute_result"
    }
   ],
   "source": [
    "naics_grp_k = naics_grp_counts['k'].drop_duplicates().sort_values().to_list()\n",
    "naics_grp_k"
   ]
  },
  {
   "cell_type": "code",
   "execution_count": 10,
   "id": "0f70c761-118f-492d-9c06-19b6bff098ce",
   "metadata": {},
   "outputs": [
    {
     "data": {
      "text/plain": [
       "['cluster_834',\n",
       " 'cluster_354',\n",
       " 'cluster_106',\n",
       " 'cluster_020',\n",
       " 'cluster_010',\n",
       " 'cluster_003']"
      ]
     },
     "execution_count": 10,
     "metadata": {},
     "output_type": "execute_result"
    }
   ],
   "source": [
    "cluster_cols = sorted([c for c in embed_df if c.startswith('cluster_')],\n",
    "                      reverse=True)\n",
    "cluster_cols"
   ]
  },
  {
   "cell_type": "code",
   "execution_count": 11,
   "id": "e4e33ca8-4902-463a-af5d-53d4aa4c03f6",
   "metadata": {},
   "outputs": [
    {
     "data": {
      "text/plain": [
       "['cluster_834', 'cluster_354', 'cluster_106', 'cluster_020']"
      ]
     },
     "execution_count": 11,
     "metadata": {},
     "output_type": "execute_result"
    }
   ],
   "source": [
    "cluster_cols_sel = sorted([c for c in cluster_cols if int(c.split('_')[1]) in naics_grp_k],\n",
    "                         reverse=True)\n",
    "cluster_cols_sel"
   ]
  },
  {
   "cell_type": "code",
   "execution_count": 12,
   "id": "d89cc31e-53ec-43b0-b5f1-f72a7175a9cc",
   "metadata": {},
   "outputs": [],
   "source": [
    "enc_cols = ['NAICS'] + cluster_cols_sel"
   ]
  },
  {
   "cell_type": "code",
   "execution_count": 13,
   "id": "33b358bf-44cf-4c6a-a487-5595606c29c2",
   "metadata": {},
   "outputs": [],
   "source": [
    "sba_loans = sba_loans.drop(columns = cluster_cols_sel, errors='ignore') \\\n",
    "    .merge(embed_df[['NAICS_orig'] + cluster_cols_sel] \\\n",
    "               .rename(columns={'NAICS_orig':'NAICS'}),\n",
    "           on='NAICS', how='left')"
   ]
  },
  {
   "cell_type": "markdown",
   "id": "cddd5f21-1e04-4050-a4d8-cd21c937c9b1",
   "metadata": {},
   "source": [
    "## Do the Encoding\n",
    "Use the TargetCountEncoder to transform the NAICS feature to two columns per level of the NAICS hieararchy"
   ]
  },
  {
   "cell_type": "code",
   "execution_count": 14,
   "id": "31bf325d-4e9b-4a98-9927-83f6ad19fc11",
   "metadata": {},
   "outputs": [],
   "source": [
    "train_df = sba_loans[sba_loans['dset'] == 'train']"
   ]
  },
  {
   "cell_type": "code",
   "execution_count": 15,
   "id": "e0a71db4-c22e-4b38-a5e1-16bb730dd6a3",
   "metadata": {},
   "outputs": [],
   "source": [
    "# Create encoders\n",
    "enc_dict = {f:TargetCountEncoder(lambda_k = setup.selected_lambda_k) for f in enc_cols}"
   ]
  },
  {
   "cell_type": "code",
   "execution_count": 16,
   "id": "2e3580cb-b9e4-4e19-8161-8a0b05bcb94b",
   "metadata": {},
   "outputs": [
    {
     "data": {
      "text/plain": [
       "[None, None, None, None, None]"
      ]
     },
     "execution_count": 16,
     "metadata": {},
     "output_type": "execute_result"
    }
   ],
   "source": [
    "# fit encoders\n",
    "[enc_dict[f].fit(train_df[f], train_df['target']) for f in enc_cols]"
   ]
  },
  {
   "cell_type": "code",
   "execution_count": 17,
   "id": "9f3ecd91-286b-48ab-853c-024796096004",
   "metadata": {},
   "outputs": [],
   "source": [
    "with open(Path(setup.temp_path).joinpath('A23_DATA_encoder.pkl'), 'wb') as fout:\n",
    "    pickle.dump(enc_dict, fout)"
   ]
  },
  {
   "cell_type": "code",
   "execution_count": 18,
   "id": "eb5c3109-a2d6-440a-ad59-ea1801be15a2",
   "metadata": {},
   "outputs": [],
   "source": [
    "# Transform the data\n",
    "enc_val = pd.concat([enc_dict[f].transform(sba_loans[f]) for f in enc_cols],\n",
    "                    axis=1, keys=enc_cols)\n",
    "enc_val.columns = [c[0] + '_' + c[1] for c in enc_val.columns]"
   ]
  },
  {
   "cell_type": "code",
   "execution_count": 19,
   "id": "e2c67457-5f61-4240-98c1-59115eb3a390",
   "metadata": {},
   "outputs": [
    {
     "data": {
      "text/html": [
       "<div>\n",
       "<style scoped>\n",
       "    .dataframe tbody tr th:only-of-type {\n",
       "        vertical-align: middle;\n",
       "    }\n",
       "\n",
       "    .dataframe tbody tr th {\n",
       "        vertical-align: top;\n",
       "    }\n",
       "\n",
       "    .dataframe thead th {\n",
       "        text-align: right;\n",
       "    }\n",
       "</style>\n",
       "<table border=\"1\" class=\"dataframe\">\n",
       "  <thead>\n",
       "    <tr style=\"text-align: right;\">\n",
       "      <th></th>\n",
       "      <th>NAICS_response</th>\n",
       "      <th>NAICS_count</th>\n",
       "      <th>cluster_834_response</th>\n",
       "      <th>cluster_834_count</th>\n",
       "      <th>cluster_354_response</th>\n",
       "      <th>cluster_354_count</th>\n",
       "      <th>cluster_106_response</th>\n",
       "      <th>cluster_106_count</th>\n",
       "      <th>cluster_020_response</th>\n",
       "      <th>cluster_020_count</th>\n",
       "    </tr>\n",
       "  </thead>\n",
       "  <tbody>\n",
       "    <tr>\n",
       "      <th>0</th>\n",
       "      <td>0.229316</td>\n",
       "      <td>160.0</td>\n",
       "      <td>0.231334</td>\n",
       "      <td>160.0</td>\n",
       "      <td>0.210680</td>\n",
       "      <td>160.0</td>\n",
       "      <td>0.161917</td>\n",
       "      <td>160.0</td>\n",
       "      <td>0.271491</td>\n",
       "      <td>160</td>\n",
       "    </tr>\n",
       "    <tr>\n",
       "      <th>1</th>\n",
       "      <td>0.141762</td>\n",
       "      <td>160.0</td>\n",
       "      <td>0.146818</td>\n",
       "      <td>160.0</td>\n",
       "      <td>0.131235</td>\n",
       "      <td>160.0</td>\n",
       "      <td>0.131107</td>\n",
       "      <td>160.0</td>\n",
       "      <td>0.136235</td>\n",
       "      <td>160</td>\n",
       "    </tr>\n",
       "    <tr>\n",
       "      <th>2</th>\n",
       "      <td>0.040818</td>\n",
       "      <td>160.0</td>\n",
       "      <td>0.041794</td>\n",
       "      <td>160.0</td>\n",
       "      <td>0.055882</td>\n",
       "      <td>160.0</td>\n",
       "      <td>0.059754</td>\n",
       "      <td>160.0</td>\n",
       "      <td>0.085137</td>\n",
       "      <td>160</td>\n",
       "    </tr>\n",
       "  </tbody>\n",
       "</table>\n",
       "</div>"
      ],
      "text/plain": [
       "   NAICS_response  NAICS_count  cluster_834_response  cluster_834_count  \\\n",
       "0        0.229316        160.0              0.231334              160.0   \n",
       "1        0.141762        160.0              0.146818              160.0   \n",
       "2        0.040818        160.0              0.041794              160.0   \n",
       "\n",
       "   cluster_354_response  cluster_354_count  cluster_106_response  \\\n",
       "0              0.210680              160.0              0.161917   \n",
       "1              0.131235              160.0              0.131107   \n",
       "2              0.055882              160.0              0.059754   \n",
       "\n",
       "   cluster_106_count  cluster_020_response  cluster_020_count  \n",
       "0              160.0              0.271491                160  \n",
       "1              160.0              0.136235                160  \n",
       "2              160.0              0.085137                160  "
      ]
     },
     "execution_count": 19,
     "metadata": {},
     "output_type": "execute_result"
    }
   ],
   "source": [
    "enc_val.head(3)"
   ]
  },
  {
   "cell_type": "code",
   "execution_count": 20,
   "id": "da124e59-8382-40cc-bcbe-1aaee141c3da",
   "metadata": {},
   "outputs": [],
   "source": [
    "# Save the values\n",
    "pd.concat([sba_loans[['LoanNr_ChkDgt', 'dset', 'dset_naics_holdout', 'NAICS']] \\\n",
    "               .drop(columns=['count', 'response'], errors='ignore'), enc_val], axis = 1) \\\n",
    "    .to_parquet(Path(setup.temp_path).joinpath('A23_DATA_encodings.parquet'))"
   ]
  },
  {
   "cell_type": "code",
   "execution_count": 21,
   "id": "aaa2fe31-63ad-482b-a28d-c067acf80eeb",
   "metadata": {},
   "outputs": [
    {
     "name": "stdout",
     "output_type": "stream",
     "text": [
      "(688081, 72)\n"
     ]
    }
   ],
   "source": [
    "sba_loans = pd.concat([sba_loans.drop(columns=enc_val.columns, errors='ignore'), enc_val], \n",
    "                      axis=1)\n",
    "print(sba_loans.shape)"
   ]
  },
  {
   "cell_type": "code",
   "execution_count": 22,
   "id": "33ece6dd-9611-4bbf-ac80-22dbd5681a71",
   "metadata": {},
   "outputs": [
    {
     "data": {
      "text/html": [
       "<div>\n",
       "<style scoped>\n",
       "    .dataframe tbody tr th:only-of-type {\n",
       "        vertical-align: middle;\n",
       "    }\n",
       "\n",
       "    .dataframe tbody tr th {\n",
       "        vertical-align: top;\n",
       "    }\n",
       "\n",
       "    .dataframe thead th {\n",
       "        text-align: right;\n",
       "    }\n",
       "</style>\n",
       "<table border=\"1\" class=\"dataframe\">\n",
       "  <thead>\n",
       "    <tr style=\"text-align: right;\">\n",
       "      <th></th>\n",
       "      <th>target</th>\n",
       "      <th>NAICS_response</th>\n",
       "      <th>NAICS_count</th>\n",
       "      <th>cluster_834_response</th>\n",
       "      <th>cluster_834_count</th>\n",
       "      <th>cluster_354_response</th>\n",
       "      <th>cluster_354_count</th>\n",
       "      <th>cluster_106_response</th>\n",
       "      <th>cluster_106_count</th>\n",
       "      <th>cluster_020_response</th>\n",
       "      <th>cluster_020_count</th>\n",
       "    </tr>\n",
       "  </thead>\n",
       "  <tbody>\n",
       "    <tr>\n",
       "      <th>target</th>\n",
       "      <td>1.000000</td>\n",
       "      <td>0.222579</td>\n",
       "      <td>0.026642</td>\n",
       "      <td>0.220486</td>\n",
       "      <td>0.000485</td>\n",
       "      <td>0.212279</td>\n",
       "      <td>0.008115</td>\n",
       "      <td>0.198982</td>\n",
       "      <td>0.006741</td>\n",
       "      <td>0.178613</td>\n",
       "      <td>0.004857</td>\n",
       "    </tr>\n",
       "    <tr>\n",
       "      <th>NAICS_response</th>\n",
       "      <td>0.222579</td>\n",
       "      <td>1.000000</td>\n",
       "      <td>0.019130</td>\n",
       "      <td>0.948525</td>\n",
       "      <td>0.009694</td>\n",
       "      <td>0.856610</td>\n",
       "      <td>0.006252</td>\n",
       "      <td>0.783986</td>\n",
       "      <td>0.004045</td>\n",
       "      <td>0.682617</td>\n",
       "      <td>0.006805</td>\n",
       "    </tr>\n",
       "    <tr>\n",
       "      <th>NAICS_count</th>\n",
       "      <td>0.026642</td>\n",
       "      <td>0.019130</td>\n",
       "      <td>1.000000</td>\n",
       "      <td>0.077647</td>\n",
       "      <td>0.787249</td>\n",
       "      <td>0.125970</td>\n",
       "      <td>0.390514</td>\n",
       "      <td>0.133218</td>\n",
       "      <td>0.041632</td>\n",
       "      <td>0.110177</td>\n",
       "      <td>0.014930</td>\n",
       "    </tr>\n",
       "    <tr>\n",
       "      <th>cluster_834_response</th>\n",
       "      <td>0.220486</td>\n",
       "      <td>0.948525</td>\n",
       "      <td>0.077647</td>\n",
       "      <td>1.000000</td>\n",
       "      <td>0.004587</td>\n",
       "      <td>0.904163</td>\n",
       "      <td>0.002642</td>\n",
       "      <td>0.835885</td>\n",
       "      <td>0.003446</td>\n",
       "      <td>0.737409</td>\n",
       "      <td>0.006392</td>\n",
       "    </tr>\n",
       "    <tr>\n",
       "      <th>cluster_834_count</th>\n",
       "      <td>0.000485</td>\n",
       "      <td>0.009694</td>\n",
       "      <td>0.787249</td>\n",
       "      <td>0.004587</td>\n",
       "      <td>1.000000</td>\n",
       "      <td>0.040404</td>\n",
       "      <td>0.515832</td>\n",
       "      <td>0.057810</td>\n",
       "      <td>0.056267</td>\n",
       "      <td>0.013911</td>\n",
       "      <td>0.021392</td>\n",
       "    </tr>\n",
       "    <tr>\n",
       "      <th>cluster_354_response</th>\n",
       "      <td>0.212279</td>\n",
       "      <td>0.856610</td>\n",
       "      <td>0.125970</td>\n",
       "      <td>0.904163</td>\n",
       "      <td>0.040404</td>\n",
       "      <td>1.000000</td>\n",
       "      <td>0.005540</td>\n",
       "      <td>0.915088</td>\n",
       "      <td>0.003268</td>\n",
       "      <td>0.814328</td>\n",
       "      <td>0.006206</td>\n",
       "    </tr>\n",
       "    <tr>\n",
       "      <th>cluster_354_count</th>\n",
       "      <td>0.008115</td>\n",
       "      <td>0.006252</td>\n",
       "      <td>0.390514</td>\n",
       "      <td>0.002642</td>\n",
       "      <td>0.515832</td>\n",
       "      <td>0.005540</td>\n",
       "      <td>1.000000</td>\n",
       "      <td>0.063903</td>\n",
       "      <td>0.122071</td>\n",
       "      <td>0.051526</td>\n",
       "      <td>0.050112</td>\n",
       "    </tr>\n",
       "    <tr>\n",
       "      <th>cluster_106_response</th>\n",
       "      <td>0.198982</td>\n",
       "      <td>0.783986</td>\n",
       "      <td>0.133218</td>\n",
       "      <td>0.835885</td>\n",
       "      <td>0.057810</td>\n",
       "      <td>0.915088</td>\n",
       "      <td>0.063903</td>\n",
       "      <td>1.000000</td>\n",
       "      <td>0.009522</td>\n",
       "      <td>0.872358</td>\n",
       "      <td>0.006600</td>\n",
       "    </tr>\n",
       "    <tr>\n",
       "      <th>cluster_106_count</th>\n",
       "      <td>0.006741</td>\n",
       "      <td>0.004045</td>\n",
       "      <td>0.041632</td>\n",
       "      <td>0.003446</td>\n",
       "      <td>0.056267</td>\n",
       "      <td>0.003268</td>\n",
       "      <td>0.122071</td>\n",
       "      <td>0.009522</td>\n",
       "      <td>1.000000</td>\n",
       "      <td>0.015521</td>\n",
       "      <td>0.495441</td>\n",
       "    </tr>\n",
       "    <tr>\n",
       "      <th>cluster_020_response</th>\n",
       "      <td>0.178613</td>\n",
       "      <td>0.682617</td>\n",
       "      <td>0.110177</td>\n",
       "      <td>0.737409</td>\n",
       "      <td>0.013911</td>\n",
       "      <td>0.814328</td>\n",
       "      <td>0.051526</td>\n",
       "      <td>0.872358</td>\n",
       "      <td>0.015521</td>\n",
       "      <td>1.000000</td>\n",
       "      <td>0.008687</td>\n",
       "    </tr>\n",
       "    <tr>\n",
       "      <th>cluster_020_count</th>\n",
       "      <td>0.004857</td>\n",
       "      <td>0.006805</td>\n",
       "      <td>0.014930</td>\n",
       "      <td>0.006392</td>\n",
       "      <td>0.021392</td>\n",
       "      <td>0.006206</td>\n",
       "      <td>0.050112</td>\n",
       "      <td>0.006600</td>\n",
       "      <td>0.495441</td>\n",
       "      <td>0.008687</td>\n",
       "      <td>1.000000</td>\n",
       "    </tr>\n",
       "  </tbody>\n",
       "</table>\n",
       "</div>"
      ],
      "text/plain": [
       "                        target  NAICS_response  NAICS_count  \\\n",
       "target                1.000000        0.222579     0.026642   \n",
       "NAICS_response        0.222579        1.000000     0.019130   \n",
       "NAICS_count           0.026642        0.019130     1.000000   \n",
       "cluster_834_response  0.220486        0.948525     0.077647   \n",
       "cluster_834_count     0.000485        0.009694     0.787249   \n",
       "cluster_354_response  0.212279        0.856610     0.125970   \n",
       "cluster_354_count     0.008115        0.006252     0.390514   \n",
       "cluster_106_response  0.198982        0.783986     0.133218   \n",
       "cluster_106_count     0.006741        0.004045     0.041632   \n",
       "cluster_020_response  0.178613        0.682617     0.110177   \n",
       "cluster_020_count     0.004857        0.006805     0.014930   \n",
       "\n",
       "                      cluster_834_response  cluster_834_count  \\\n",
       "target                            0.220486           0.000485   \n",
       "NAICS_response                    0.948525           0.009694   \n",
       "NAICS_count                       0.077647           0.787249   \n",
       "cluster_834_response              1.000000           0.004587   \n",
       "cluster_834_count                 0.004587           1.000000   \n",
       "cluster_354_response              0.904163           0.040404   \n",
       "cluster_354_count                 0.002642           0.515832   \n",
       "cluster_106_response              0.835885           0.057810   \n",
       "cluster_106_count                 0.003446           0.056267   \n",
       "cluster_020_response              0.737409           0.013911   \n",
       "cluster_020_count                 0.006392           0.021392   \n",
       "\n",
       "                      cluster_354_response  cluster_354_count  \\\n",
       "target                            0.212279           0.008115   \n",
       "NAICS_response                    0.856610           0.006252   \n",
       "NAICS_count                       0.125970           0.390514   \n",
       "cluster_834_response              0.904163           0.002642   \n",
       "cluster_834_count                 0.040404           0.515832   \n",
       "cluster_354_response              1.000000           0.005540   \n",
       "cluster_354_count                 0.005540           1.000000   \n",
       "cluster_106_response              0.915088           0.063903   \n",
       "cluster_106_count                 0.003268           0.122071   \n",
       "cluster_020_response              0.814328           0.051526   \n",
       "cluster_020_count                 0.006206           0.050112   \n",
       "\n",
       "                      cluster_106_response  cluster_106_count  \\\n",
       "target                            0.198982           0.006741   \n",
       "NAICS_response                    0.783986           0.004045   \n",
       "NAICS_count                       0.133218           0.041632   \n",
       "cluster_834_response              0.835885           0.003446   \n",
       "cluster_834_count                 0.057810           0.056267   \n",
       "cluster_354_response              0.915088           0.003268   \n",
       "cluster_354_count                 0.063903           0.122071   \n",
       "cluster_106_response              1.000000           0.009522   \n",
       "cluster_106_count                 0.009522           1.000000   \n",
       "cluster_020_response              0.872358           0.015521   \n",
       "cluster_020_count                 0.006600           0.495441   \n",
       "\n",
       "                      cluster_020_response  cluster_020_count  \n",
       "target                            0.178613           0.004857  \n",
       "NAICS_response                    0.682617           0.006805  \n",
       "NAICS_count                       0.110177           0.014930  \n",
       "cluster_834_response              0.737409           0.006392  \n",
       "cluster_834_count                 0.013911           0.021392  \n",
       "cluster_354_response              0.814328           0.006206  \n",
       "cluster_354_count                 0.051526           0.050112  \n",
       "cluster_106_response              0.872358           0.006600  \n",
       "cluster_106_count                 0.015521           0.495441  \n",
       "cluster_020_response              1.000000           0.008687  \n",
       "cluster_020_count                 0.008687           1.000000  "
      ]
     },
     "execution_count": 22,
     "metadata": {},
     "output_type": "execute_result"
    }
   ],
   "source": [
    "sba_loans[['target'] + list(enc_val.columns)].corr()"
   ]
  },
  {
   "cell_type": "markdown",
   "id": "d56e9533-8071-494a-a7da-4917a03fb701",
   "metadata": {},
   "source": [
    "#### Set the predictor features. "
   ]
  },
  {
   "cell_type": "code",
   "execution_count": 23,
   "id": "c07ddd4e-6987-454a-926a-3b59abf6caa6",
   "metadata": {},
   "outputs": [
    {
     "name": "stdout",
     "output_type": "stream",
     "text": [
      "['NoEmp', 'CreateJob', 'LowDoc', 'DisbursementGross', 'new_business', 'urban_flag', 'franchise_flag', 'NAICS_response', 'NAICS_count', 'cluster_834_response', 'cluster_834_count', 'cluster_354_response', 'cluster_354_count', 'cluster_106_response', 'cluster_106_count', 'cluster_020_response', 'cluster_020_count']\n"
     ]
    }
   ],
   "source": [
    "predictor_features = setup.predictor_features + list(enc_val.columns)\n",
    "print(predictor_features)"
   ]
  },
  {
   "cell_type": "code",
   "execution_count": 24,
   "id": "1f8c475d-7ead-4f92-a19b-326343528f59",
   "metadata": {},
   "outputs": [],
   "source": [
    "with open(Path(setup.temp_path).joinpath('A23_DATA_features_predict.pkl'), 'wb') as fout:\n",
    "    pickle.dump(predictor_features, fout)"
   ]
  },
  {
   "cell_type": "code",
   "execution_count": 25,
   "id": "85be1ce9-7a4b-40a7-8da2-d4fbf5f55813",
   "metadata": {},
   "outputs": [],
   "source": [
    "train_df = sba_loans[sba_loans['dset'] == 'train']\n",
    "test_df = sba_loans[sba_loans['dset'] == 'test']\n",
    "val_df = sba_loans[sba_loans['dset'] == 'val']"
   ]
  },
  {
   "cell_type": "markdown",
   "id": "2b204a92-d109-4f6d-87a5-3d5dc05d2e5f",
   "metadata": {},
   "source": [
    "## Model Fit"
   ]
  },
  {
   "cell_type": "code",
   "execution_count": 26,
   "id": "af48634b-fc39-4c29-9792-bcf1cdf241c0",
   "metadata": {},
   "outputs": [
    {
     "data": {
      "text/plain": [
       "{'subsample': 0.8,\n",
       " 'scale_pos_weight': 1.0,\n",
       " 'reg_lambda': 0.01,\n",
       " 'reg_alpha': 0.001,\n",
       " 'min_child_weight': 50,\n",
       " 'max_depth': 8,\n",
       " 'learning_rate': 0.1,\n",
       " 'gamma': 2}"
      ]
     },
     "execution_count": 26,
     "metadata": {},
     "output_type": "execute_result"
    }
   ],
   "source": [
    "best_params_df = pd.read_csv(Path(setup.parent_path).joinpath('03_REPORT_fit_parameter_selected.csv'))\n",
    "best_params = best_params_df.to_dict(orient='records')[0]\n",
    "best_params"
   ]
  },
  {
   "cell_type": "markdown",
   "id": "bc698909-3663-440f-98ce-fcfe312faa82",
   "metadata": {},
   "source": [
    "##### Fit using pre-determined parameters"
   ]
  },
  {
   "cell_type": "code",
   "execution_count": 27,
   "id": "e8eca4a6-66e8-4eb2-b68a-1271f59cdbec",
   "metadata": {},
   "outputs": [],
   "source": [
    "xgb_params = dict(best_params, \n",
    "                   **{'objective':\"binary:logistic\", 'n_estimators':setup.xgb_n_estimators})"
   ]
  },
  {
   "cell_type": "code",
   "execution_count": 28,
   "id": "6d124de6-1d5d-4ff9-8071-4d05b0717f13",
   "metadata": {},
   "outputs": [],
   "source": [
    "xgb_model = xgb.XGBClassifier(objective=\"binary:logistic\",\n",
    "                             n_estimators =  setup.xgb_n_estimators)"
   ]
  },
  {
   "cell_type": "code",
   "execution_count": 29,
   "id": "9eebd329-7e39-4e52-be94-d839ad559b5d",
   "metadata": {},
   "outputs": [],
   "source": [
    "xgb_model = xgb_model.set_params(**xgb_params)"
   ]
  },
  {
   "cell_type": "code",
   "execution_count": 30,
   "id": "a7f80910-9719-486b-8eac-93889064708a",
   "metadata": {},
   "outputs": [
    {
     "name": "stdout",
     "output_type": "stream",
     "text": [
      "[0]\tvalidation_0-logloss:0.50030\tvalidation_1-logloss:0.50382\n",
      "[1]\tvalidation_0-logloss:0.49275\tvalidation_1-logloss:0.49649\n",
      "[2]\tvalidation_0-logloss:0.48636\tvalidation_1-logloss:0.49034\n",
      "[3]\tvalidation_0-logloss:0.48096\tvalidation_1-logloss:0.48515\n",
      "[4]\tvalidation_0-logloss:0.47639\tvalidation_1-logloss:0.48083\n",
      "[5]\tvalidation_0-logloss:0.47241\tvalidation_1-logloss:0.47702\n",
      "[6]\tvalidation_0-logloss:0.46902\tvalidation_1-logloss:0.47383\n",
      "[7]\tvalidation_0-logloss:0.46615\tvalidation_1-logloss:0.47114\n",
      "[8]\tvalidation_0-logloss:0.46365\tvalidation_1-logloss:0.46882\n",
      "[9]\tvalidation_0-logloss:0.46152\tvalidation_1-logloss:0.46686\n",
      "[10]\tvalidation_0-logloss:0.45960\tvalidation_1-logloss:0.46509\n",
      "[11]\tvalidation_0-logloss:0.45797\tvalidation_1-logloss:0.46361\n",
      "[12]\tvalidation_0-logloss:0.45650\tvalidation_1-logloss:0.46231\n",
      "[13]\tvalidation_0-logloss:0.45529\tvalidation_1-logloss:0.46122\n",
      "[14]\tvalidation_0-logloss:0.45421\tvalidation_1-logloss:0.46026\n",
      "[15]\tvalidation_0-logloss:0.45323\tvalidation_1-logloss:0.45940\n",
      "[16]\tvalidation_0-logloss:0.45234\tvalidation_1-logloss:0.45863\n",
      "[17]\tvalidation_0-logloss:0.45160\tvalidation_1-logloss:0.45801\n",
      "[18]\tvalidation_0-logloss:0.45096\tvalidation_1-logloss:0.45748\n",
      "[19]\tvalidation_0-logloss:0.45038\tvalidation_1-logloss:0.45704\n",
      "[20]\tvalidation_0-logloss:0.44987\tvalidation_1-logloss:0.45663\n",
      "[21]\tvalidation_0-logloss:0.44939\tvalidation_1-logloss:0.45626\n",
      "[22]\tvalidation_0-logloss:0.44893\tvalidation_1-logloss:0.45595\n",
      "[23]\tvalidation_0-logloss:0.44853\tvalidation_1-logloss:0.45566\n",
      "[24]\tvalidation_0-logloss:0.44820\tvalidation_1-logloss:0.45541\n",
      "[25]\tvalidation_0-logloss:0.44794\tvalidation_1-logloss:0.45525\n",
      "[26]\tvalidation_0-logloss:0.44763\tvalidation_1-logloss:0.45501\n",
      "[27]\tvalidation_0-logloss:0.44734\tvalidation_1-logloss:0.45479\n",
      "[28]\tvalidation_0-logloss:0.44714\tvalidation_1-logloss:0.45467\n",
      "[29]\tvalidation_0-logloss:0.44687\tvalidation_1-logloss:0.45448\n"
     ]
    },
    {
     "data": {
      "text/html": [
       "<style>#sk-container-id-1 {color: black;}#sk-container-id-1 pre{padding: 0;}#sk-container-id-1 div.sk-toggleable {background-color: white;}#sk-container-id-1 label.sk-toggleable__label {cursor: pointer;display: block;width: 100%;margin-bottom: 0;padding: 0.3em;box-sizing: border-box;text-align: center;}#sk-container-id-1 label.sk-toggleable__label-arrow:before {content: \"▸\";float: left;margin-right: 0.25em;color: #696969;}#sk-container-id-1 label.sk-toggleable__label-arrow:hover:before {color: black;}#sk-container-id-1 div.sk-estimator:hover label.sk-toggleable__label-arrow:before {color: black;}#sk-container-id-1 div.sk-toggleable__content {max-height: 0;max-width: 0;overflow: hidden;text-align: left;background-color: #f0f8ff;}#sk-container-id-1 div.sk-toggleable__content pre {margin: 0.2em;color: black;border-radius: 0.25em;background-color: #f0f8ff;}#sk-container-id-1 input.sk-toggleable__control:checked~div.sk-toggleable__content {max-height: 200px;max-width: 100%;overflow: auto;}#sk-container-id-1 input.sk-toggleable__control:checked~label.sk-toggleable__label-arrow:before {content: \"▾\";}#sk-container-id-1 div.sk-estimator input.sk-toggleable__control:checked~label.sk-toggleable__label {background-color: #d4ebff;}#sk-container-id-1 div.sk-label input.sk-toggleable__control:checked~label.sk-toggleable__label {background-color: #d4ebff;}#sk-container-id-1 input.sk-hidden--visually {border: 0;clip: rect(1px 1px 1px 1px);clip: rect(1px, 1px, 1px, 1px);height: 1px;margin: -1px;overflow: hidden;padding: 0;position: absolute;width: 1px;}#sk-container-id-1 div.sk-estimator {font-family: monospace;background-color: #f0f8ff;border: 1px dotted black;border-radius: 0.25em;box-sizing: border-box;margin-bottom: 0.5em;}#sk-container-id-1 div.sk-estimator:hover {background-color: #d4ebff;}#sk-container-id-1 div.sk-parallel-item::after {content: \"\";width: 100%;border-bottom: 1px solid gray;flex-grow: 1;}#sk-container-id-1 div.sk-label:hover label.sk-toggleable__label {background-color: #d4ebff;}#sk-container-id-1 div.sk-serial::before {content: \"\";position: absolute;border-left: 1px solid gray;box-sizing: border-box;top: 0;bottom: 0;left: 50%;z-index: 0;}#sk-container-id-1 div.sk-serial {display: flex;flex-direction: column;align-items: center;background-color: white;padding-right: 0.2em;padding-left: 0.2em;position: relative;}#sk-container-id-1 div.sk-item {position: relative;z-index: 1;}#sk-container-id-1 div.sk-parallel {display: flex;align-items: stretch;justify-content: center;background-color: white;position: relative;}#sk-container-id-1 div.sk-item::before, #sk-container-id-1 div.sk-parallel-item::before {content: \"\";position: absolute;border-left: 1px solid gray;box-sizing: border-box;top: 0;bottom: 0;left: 50%;z-index: -1;}#sk-container-id-1 div.sk-parallel-item {display: flex;flex-direction: column;z-index: 1;position: relative;background-color: white;}#sk-container-id-1 div.sk-parallel-item:first-child::after {align-self: flex-end;width: 50%;}#sk-container-id-1 div.sk-parallel-item:last-child::after {align-self: flex-start;width: 50%;}#sk-container-id-1 div.sk-parallel-item:only-child::after {width: 0;}#sk-container-id-1 div.sk-dashed-wrapped {border: 1px dashed gray;margin: 0 0.4em 0.5em 0.4em;box-sizing: border-box;padding-bottom: 0.4em;background-color: white;}#sk-container-id-1 div.sk-label label {font-family: monospace;font-weight: bold;display: inline-block;line-height: 1.2em;}#sk-container-id-1 div.sk-label-container {text-align: center;}#sk-container-id-1 div.sk-container {/* jupyter's `normalize.less` sets `[hidden] { display: none; }` but bootstrap.min.css set `[hidden] { display: none !important; }` so we also need the `!important` here to be able to override the default hidden behavior on the sphinx rendered scikit-learn.org. See: https://github.com/scikit-learn/scikit-learn/issues/21755 */display: inline-block !important;position: relative;}#sk-container-id-1 div.sk-text-repr-fallback {display: none;}</style><div id=\"sk-container-id-1\" class=\"sk-top-container\"><div class=\"sk-text-repr-fallback\"><pre>XGBClassifier(base_score=None, booster=None, callbacks=None,\n",
       "              colsample_bylevel=None, colsample_bynode=None,\n",
       "              colsample_bytree=None, device=None, early_stopping_rounds=None,\n",
       "              enable_categorical=False, eval_metric=None, feature_types=None,\n",
       "              gamma=2, grow_policy=None, importance_type=None,\n",
       "              interaction_constraints=None, learning_rate=0.1, max_bin=None,\n",
       "              max_cat_threshold=None, max_cat_to_onehot=None,\n",
       "              max_delta_step=None, max_depth=8, max_leaves=None,\n",
       "              min_child_weight=50, missing=nan, monotone_constraints=None,\n",
       "              multi_strategy=None, n_estimators=30, n_jobs=None,\n",
       "              num_parallel_tree=None, random_state=None, ...)</pre><b>In a Jupyter environment, please rerun this cell to show the HTML representation or trust the notebook. <br />On GitHub, the HTML representation is unable to render, please try loading this page with nbviewer.org.</b></div><div class=\"sk-container\" hidden><div class=\"sk-item\"><div class=\"sk-estimator sk-toggleable\"><input class=\"sk-toggleable__control sk-hidden--visually\" id=\"sk-estimator-id-1\" type=\"checkbox\" checked><label for=\"sk-estimator-id-1\" class=\"sk-toggleable__label sk-toggleable__label-arrow\">XGBClassifier</label><div class=\"sk-toggleable__content\"><pre>XGBClassifier(base_score=None, booster=None, callbacks=None,\n",
       "              colsample_bylevel=None, colsample_bynode=None,\n",
       "              colsample_bytree=None, device=None, early_stopping_rounds=None,\n",
       "              enable_categorical=False, eval_metric=None, feature_types=None,\n",
       "              gamma=2, grow_policy=None, importance_type=None,\n",
       "              interaction_constraints=None, learning_rate=0.1, max_bin=None,\n",
       "              max_cat_threshold=None, max_cat_to_onehot=None,\n",
       "              max_delta_step=None, max_depth=8, max_leaves=None,\n",
       "              min_child_weight=50, missing=nan, monotone_constraints=None,\n",
       "              multi_strategy=None, n_estimators=30, n_jobs=None,\n",
       "              num_parallel_tree=None, random_state=None, ...)</pre></div></div></div></div></div>"
      ],
      "text/plain": [
       "XGBClassifier(base_score=None, booster=None, callbacks=None,\n",
       "              colsample_bylevel=None, colsample_bynode=None,\n",
       "              colsample_bytree=None, device=None, early_stopping_rounds=None,\n",
       "              enable_categorical=False, eval_metric=None, feature_types=None,\n",
       "              gamma=2, grow_policy=None, importance_type=None,\n",
       "              interaction_constraints=None, learning_rate=0.1, max_bin=None,\n",
       "              max_cat_threshold=None, max_cat_to_onehot=None,\n",
       "              max_delta_step=None, max_depth=8, max_leaves=None,\n",
       "              min_child_weight=50, missing=nan, monotone_constraints=None,\n",
       "              multi_strategy=None, n_estimators=30, n_jobs=None,\n",
       "              num_parallel_tree=None, random_state=None, ...)"
      ]
     },
     "execution_count": 30,
     "metadata": {},
     "output_type": "execute_result"
    }
   ],
   "source": [
    "xgb_model.fit(train_df[predictor_features], train_df['target'],\n",
    "              eval_set = [(train_df[predictor_features], train_df['target']),\n",
    "                         (val_df[predictor_features], val_df['target'])])"
   ]
  },
  {
   "cell_type": "code",
   "execution_count": 31,
   "id": "9bbd8636-a5f1-4cbc-9498-329a78165472",
   "metadata": {},
   "outputs": [
    {
     "data": {
      "text/plain": [
       "target\n",
       "0    346866\n",
       "1     89254\n",
       "Name: count, dtype: int64"
      ]
     },
     "execution_count": 31,
     "metadata": {},
     "output_type": "execute_result"
    }
   ],
   "source": [
    "train_df['target'].value_counts()"
   ]
  },
  {
   "cell_type": "markdown",
   "id": "0913a102-a730-4b94-9977-e584df764d64",
   "metadata": {},
   "source": [
    "##### Save the model"
   ]
  },
  {
   "cell_type": "code",
   "execution_count": 32,
   "id": "af21dd7c-09d4-407f-9960-0748ba8f2247",
   "metadata": {},
   "outputs": [],
   "source": [
    "xgb_model.save_model(Path(setup.temp_path).joinpath('A23_MODEL_xgboost.json'))"
   ]
  },
  {
   "cell_type": "code",
   "execution_count": 33,
   "id": "8e5d3e7d-0bd5-4252-b287-c9cc65f7a132",
   "metadata": {},
   "outputs": [],
   "source": [
    "with open(Path(setup.temp_path).joinpath('A23_MODEL_xgboost.pkl'), 'wb') as po:\n",
    "    pickle.dump(xgb_model, po)"
   ]
  },
  {
   "cell_type": "markdown",
   "id": "f34ad059-70dc-4672-adff-0d961fc74b07",
   "metadata": {},
   "source": [
    "## Probability Predictions"
   ]
  },
  {
   "cell_type": "code",
   "execution_count": 34,
   "id": "6a7c8509-0109-4f8e-a466-d6e21164012c",
   "metadata": {},
   "outputs": [],
   "source": [
    "pred_df = pd.concat([sba_loans[['LoanNr_ChkDgt', 'dset', 'target', 'dset_naics_holdout']].reset_index(),\n",
    "                     pd.DataFrame({'predict_prob':\n",
    "                                   xgb_model.predict_proba(sba_loans[predictor_features])[:,1]})],\n",
    "                    axis=1) \\\n",
    "    .set_index('index')"
   ]
  },
  {
   "cell_type": "code",
   "execution_count": 35,
   "id": "7084012d-b68a-4ca4-b714-160f8d564500",
   "metadata": {},
   "outputs": [
    {
     "data": {
      "text/html": [
       "<div>\n",
       "<style scoped>\n",
       "    .dataframe tbody tr th:only-of-type {\n",
       "        vertical-align: middle;\n",
       "    }\n",
       "\n",
       "    .dataframe tbody tr th {\n",
       "        vertical-align: top;\n",
       "    }\n",
       "\n",
       "    .dataframe thead th {\n",
       "        text-align: right;\n",
       "    }\n",
       "</style>\n",
       "<table border=\"1\" class=\"dataframe\">\n",
       "  <thead>\n",
       "    <tr style=\"text-align: right;\">\n",
       "      <th></th>\n",
       "      <th>mean</th>\n",
       "      <th>std</th>\n",
       "      <th>min</th>\n",
       "      <th>max</th>\n",
       "      <th>median</th>\n",
       "    </tr>\n",
       "    <tr>\n",
       "      <th>target</th>\n",
       "      <th></th>\n",
       "      <th></th>\n",
       "      <th></th>\n",
       "      <th></th>\n",
       "      <th></th>\n",
       "    </tr>\n",
       "  </thead>\n",
       "  <tbody>\n",
       "    <tr>\n",
       "      <th>0</th>\n",
       "      <td>0.185554</td>\n",
       "      <td>0.115465</td>\n",
       "      <td>0.015549</td>\n",
       "      <td>0.675520</td>\n",
       "      <td>0.170460</td>\n",
       "    </tr>\n",
       "    <tr>\n",
       "      <th>1</th>\n",
       "      <td>0.285581</td>\n",
       "      <td>0.110066</td>\n",
       "      <td>0.015942</td>\n",
       "      <td>0.687255</td>\n",
       "      <td>0.291764</td>\n",
       "    </tr>\n",
       "  </tbody>\n",
       "</table>\n",
       "</div>"
      ],
      "text/plain": [
       "            mean       std       min       max    median\n",
       "target                                                  \n",
       "0       0.185554  0.115465  0.015549  0.675520  0.170460\n",
       "1       0.285581  0.110066  0.015942  0.687255  0.291764"
      ]
     },
     "execution_count": 35,
     "metadata": {},
     "output_type": "execute_result"
    }
   ],
   "source": [
    "pred_df.groupby('target')['predict_prob'].agg(['mean', 'std', 'min', 'max', 'median'])"
   ]
  },
  {
   "cell_type": "markdown",
   "id": "d33cb4dc-6c89-4a37-98c7-d3a666abc4a5",
   "metadata": {},
   "source": [
    "## Decision Threshold\n",
    "Max f1, on training data"
   ]
  },
  {
   "cell_type": "code",
   "execution_count": 36,
   "id": "d7727498-825f-4f53-882f-cfcce730b1fc",
   "metadata": {},
   "outputs": [],
   "source": [
    "pred_train_df = pred_df[pred_df['dset'] == 'train']"
   ]
  },
  {
   "cell_type": "code",
   "execution_count": 37,
   "id": "7b553798-eead-48f8-b14b-5f036d9183d9",
   "metadata": {},
   "outputs": [],
   "source": [
    "thresh_tune_data = sg_plot.get_f1_frame(pred_train_df['target'], \n",
    "                                        pred_train_df['predict_prob'])"
   ]
  },
  {
   "cell_type": "code",
   "execution_count": 38,
   "id": "7a1cde01-a30b-475f-8fd7-409b13946c6d",
   "metadata": {},
   "outputs": [],
   "source": [
    "thresh_tune_data.to_csv(Path(setup.temp_path).joinpath('A23_REPORT_thresh_tune.csv'), index=False)"
   ]
  },
  {
   "cell_type": "code",
   "execution_count": 39,
   "id": "947a487c-e71d-433c-bbf0-2ed7e57a908a",
   "metadata": {},
   "outputs": [
    {
     "name": "stdout",
     "output_type": "stream",
     "text": [
      "0.24\n"
     ]
    },
    {
     "data": {
      "text/html": [
       "<div>\n",
       "<style scoped>\n",
       "    .dataframe tbody tr th:only-of-type {\n",
       "        vertical-align: middle;\n",
       "    }\n",
       "\n",
       "    .dataframe tbody tr th {\n",
       "        vertical-align: top;\n",
       "    }\n",
       "\n",
       "    .dataframe thead th {\n",
       "        text-align: right;\n",
       "    }\n",
       "</style>\n",
       "<table border=\"1\" class=\"dataframe\">\n",
       "  <thead>\n",
       "    <tr style=\"text-align: right;\">\n",
       "      <th></th>\n",
       "      <th>thresh</th>\n",
       "      <th>f1</th>\n",
       "    </tr>\n",
       "  </thead>\n",
       "  <tbody>\n",
       "    <tr>\n",
       "      <th>12</th>\n",
       "      <td>0.24</td>\n",
       "      <td>0.457461</td>\n",
       "    </tr>\n",
       "    <tr>\n",
       "      <th>11</th>\n",
       "      <td>0.22</td>\n",
       "      <td>0.456300</td>\n",
       "    </tr>\n",
       "  </tbody>\n",
       "</table>\n",
       "</div>"
      ],
      "text/plain": [
       "    thresh        f1\n",
       "12    0.24  0.457461\n",
       "11    0.22  0.456300"
      ]
     },
     "execution_count": 39,
     "metadata": {},
     "output_type": "execute_result"
    }
   ],
   "source": [
    "thresh_head = thresh_tune_data.sort_values('f1', ascending=False).head(2)\n",
    "best_thresh = thresh_head['thresh'].iloc[0]\n",
    "print(best_thresh)\n",
    "thresh_head"
   ]
  },
  {
   "cell_type": "markdown",
   "id": "1ee5330e-c1a7-4310-afbe-be9bc0d26f43",
   "metadata": {},
   "source": [
    "##### Apply decision threshold\n",
    "All datasets"
   ]
  },
  {
   "cell_type": "code",
   "execution_count": 40,
   "id": "f0d4c1cf-6d5b-49e9-9123-a067697a9e39",
   "metadata": {},
   "outputs": [],
   "source": [
    "pred_df['predict_bin'] = np.where(pred_df['predict_prob'] >= best_thresh, 1, 0)"
   ]
  },
  {
   "cell_type": "code",
   "execution_count": 41,
   "id": "8253c32c-0438-47b9-8570-7cde6f7f5590",
   "metadata": {},
   "outputs": [
    {
     "data": {
      "text/plain": [
       "predict_bin\n",
       "0    403314\n",
       "1    284767\n",
       "Name: count, dtype: int64"
      ]
     },
     "execution_count": 41,
     "metadata": {},
     "output_type": "execute_result"
    }
   ],
   "source": [
    "pred_df['predict_bin'].value_counts()"
   ]
  },
  {
   "cell_type": "code",
   "execution_count": 42,
   "id": "dbb46f4a-a5ef-4fd6-9da4-30de4a00334d",
   "metadata": {},
   "outputs": [],
   "source": [
    "pred_df.to_parquet(Path(setup.temp_path).joinpath('A23_DATA_combined_predictions.parquet'))"
   ]
  },
  {
   "cell_type": "markdown",
   "id": "0ab860d0-eddc-4f63-b853-88da15d451f4",
   "metadata": {},
   "source": [
    "## Metrics"
   ]
  },
  {
   "cell_type": "code",
   "execution_count": 43,
   "id": "f2801964-124e-425f-b4cb-9bcf1cf3f04a",
   "metadata": {},
   "outputs": [
    {
     "data": {
      "text/html": [
       "<div>\n",
       "<style scoped>\n",
       "    .dataframe tbody tr th:only-of-type {\n",
       "        vertical-align: middle;\n",
       "    }\n",
       "\n",
       "    .dataframe tbody tr th {\n",
       "        vertical-align: top;\n",
       "    }\n",
       "\n",
       "    .dataframe thead th {\n",
       "        text-align: right;\n",
       "    }\n",
       "</style>\n",
       "<table border=\"1\" class=\"dataframe\">\n",
       "  <thead>\n",
       "    <tr style=\"text-align: right;\">\n",
       "      <th></th>\n",
       "      <th>dset</th>\n",
       "      <th>accuracy_score</th>\n",
       "      <th>f1_score</th>\n",
       "      <th>precision_score</th>\n",
       "      <th>recall_score</th>\n",
       "      <th>average_precision_score</th>\n",
       "      <th>roc_auc_score</th>\n",
       "      <th>dset_naics_holdout</th>\n",
       "    </tr>\n",
       "  </thead>\n",
       "  <tbody>\n",
       "    <tr>\n",
       "      <th>0</th>\n",
       "      <td>test</td>\n",
       "      <td>0.651858</td>\n",
       "      <td>0.435312</td>\n",
       "      <td>0.318991</td>\n",
       "      <td>0.685157</td>\n",
       "      <td>0.364568</td>\n",
       "      <td>0.725221</td>\n",
       "      <td>NaN</td>\n",
       "    </tr>\n",
       "    <tr>\n",
       "      <th>1</th>\n",
       "      <td>train</td>\n",
       "      <td>0.665461</td>\n",
       "      <td>0.457461</td>\n",
       "      <td>0.342359</td>\n",
       "      <td>0.689157</td>\n",
       "      <td>0.396224</td>\n",
       "      <td>0.738016</td>\n",
       "      <td>NaN</td>\n",
       "    </tr>\n",
       "    <tr>\n",
       "      <th>2</th>\n",
       "      <td>val</td>\n",
       "      <td>0.660849</td>\n",
       "      <td>0.451767</td>\n",
       "      <td>0.339875</td>\n",
       "      <td>0.673491</td>\n",
       "      <td>0.388704</td>\n",
       "      <td>0.728351</td>\n",
       "      <td>NaN</td>\n",
       "    </tr>\n",
       "    <tr>\n",
       "      <th>0</th>\n",
       "      <td>test</td>\n",
       "      <td>0.659804</td>\n",
       "      <td>0.450395</td>\n",
       "      <td>0.337277</td>\n",
       "      <td>0.677678</td>\n",
       "      <td>0.384068</td>\n",
       "      <td>0.729371</td>\n",
       "      <td>0.0</td>\n",
       "    </tr>\n",
       "    <tr>\n",
       "      <th>1</th>\n",
       "      <td>test</td>\n",
       "      <td>0.640441</td>\n",
       "      <td>0.413432</td>\n",
       "      <td>0.293816</td>\n",
       "      <td>0.697318</td>\n",
       "      <td>0.329494</td>\n",
       "      <td>0.717858</td>\n",
       "      <td>1.0</td>\n",
       "    </tr>\n",
       "  </tbody>\n",
       "</table>\n",
       "</div>"
      ],
      "text/plain": [
       "    dset  accuracy_score  f1_score  precision_score  recall_score  \\\n",
       "0   test        0.651858  0.435312         0.318991      0.685157   \n",
       "1  train        0.665461  0.457461         0.342359      0.689157   \n",
       "2    val        0.660849  0.451767         0.339875      0.673491   \n",
       "0   test        0.659804  0.450395         0.337277      0.677678   \n",
       "1   test        0.640441  0.413432         0.293816      0.697318   \n",
       "\n",
       "   average_precision_score  roc_auc_score  dset_naics_holdout  \n",
       "0                 0.364568       0.725221                 NaN  \n",
       "1                 0.396224       0.738016                 NaN  \n",
       "2                 0.388704       0.728351                 NaN  \n",
       "0                 0.384068       0.729371                 0.0  \n",
       "1                 0.329494       0.717858                 1.0  "
      ]
     },
     "execution_count": 43,
     "metadata": {},
     "output_type": "execute_result"
    }
   ],
   "source": [
    "metrics_dset_df = pred_df.groupby('dset') \\\n",
    "    .apply(lambda x: sg_plot.dset_metrics(x.target, x.predict_bin, x.predict_prob)) \\\n",
    "    .reset_index()\n",
    "metrics_test_df = pred_df[pred_df['dset'] == 'test'] \\\n",
    "    .groupby(['dset', 'dset_naics_holdout']) \\\n",
    "    .apply(lambda x: sg_plot.dset_metrics(x.target, x.predict_bin, x.predict_prob)) \\\n",
    "    .reset_index()\n",
    "metrics_df = pd.concat([metrics_dset_df, metrics_test_df])\n",
    "metrics_df.to_csv(Path(setup.temp_path).joinpath('A23_REPORT_metrics.csv'), index=True)\n",
    "metrics_df"
   ]
  },
  {
   "cell_type": "markdown",
   "id": "3d906270-4264-4b0b-9f50-dcef8f75a5fd",
   "metadata": {},
   "source": [
    "## Lift\n",
    "Test data"
   ]
  },
  {
   "cell_type": "code",
   "execution_count": 44,
   "id": "82d9c0ab-8989-450d-a2b1-7997ca636052",
   "metadata": {
    "tags": []
   },
   "outputs": [],
   "source": [
    "pred_test_df = pred_df[pred_df['dset'] == 'test']"
   ]
  },
  {
   "cell_type": "code",
   "execution_count": 45,
   "id": "c01f5279-1151-4a8d-9b21-e12d4092f3c1",
   "metadata": {},
   "outputs": [
    {
     "data": {
      "image/png": "[encoded data removed]",
      "text/plain": [
       "<Figure size 400x300 with 1 Axes>"
      ]
     },
     "metadata": {},
     "output_type": "display_data"
    }
   ],
   "source": [
    "plot_lift_curve(pred_test_df['target'], \n",
    "                pd.concat([1-pred_test_df['predict_prob'], pred_test_df['predict_prob']], axis=1), \n",
    "                title='Lift Curve', ax=None, figsize=(4,3), \n",
    "                title_fontsize='large', text_fontsize='medium')\n",
    "plt.gca().legend(loc='upper right')\n",
    "plt.gcf().savefig(Path(setup.temp_path).joinpath('A23_PLOT_lift_curve.png'),bbox_inches='tight')"
   ]
  },
  {
   "cell_type": "markdown",
   "id": "04994f41-3c98-412a-bb2f-11e5ae22b432",
   "metadata": {},
   "source": [
    "## Feature Importance "
   ]
  },
  {
   "cell_type": "markdown",
   "id": "926af7df-e407-484b-bd86-ae7d76a46392",
   "metadata": {},
   "source": [
    "##### XGBoost gain"
   ]
  },
  {
   "cell_type": "code",
   "execution_count": 46,
   "id": "ec3f6e1f-2b29-4b46-ac12-7a8451a3a45b",
   "metadata": {},
   "outputs": [],
   "source": [
    "feat_impgain = pd.DataFrame(xgb_model.get_booster().get_score(importance_type='gain'),\n",
    "                                     index=['importance']).T \\\n",
    "    .sort_values('importance', ascending=False)"
   ]
  },
  {
   "cell_type": "code",
   "execution_count": 47,
   "id": "9586c637-7add-4401-b61c-37abd55b11b4",
   "metadata": {},
   "outputs": [],
   "source": [
    "feat_impgain.to_csv(Path(setup.temp_path).joinpath('A23_REPORT_importance_gain.csv'), index=True)"
   ]
  },
  {
   "cell_type": "code",
   "execution_count": 48,
   "id": "311e111f-d8e5-4a52-8adc-6a7c5f9daa8f",
   "metadata": {},
   "outputs": [
    {
     "data": {
      "text/html": [
       "<div>\n",
       "<style scoped>\n",
       "    .dataframe tbody tr th:only-of-type {\n",
       "        vertical-align: middle;\n",
       "    }\n",
       "\n",
       "    .dataframe tbody tr th {\n",
       "        vertical-align: top;\n",
       "    }\n",
       "\n",
       "    .dataframe thead th {\n",
       "        text-align: right;\n",
       "    }\n",
       "</style>\n",
       "<table border=\"1\" class=\"dataframe\">\n",
       "  <thead>\n",
       "    <tr style=\"text-align: right;\">\n",
       "      <th></th>\n",
       "      <th>importance</th>\n",
       "    </tr>\n",
       "  </thead>\n",
       "  <tbody>\n",
       "    <tr>\n",
       "      <th>urban_flag</th>\n",
       "      <td>349.245728</td>\n",
       "    </tr>\n",
       "    <tr>\n",
       "      <th>NAICS_response</th>\n",
       "      <td>187.304657</td>\n",
       "    </tr>\n",
       "    <tr>\n",
       "      <th>LowDoc</th>\n",
       "      <td>156.372208</td>\n",
       "    </tr>\n",
       "    <tr>\n",
       "      <th>DisbursementGross</th>\n",
       "      <td>57.122231</td>\n",
       "    </tr>\n",
       "    <tr>\n",
       "      <th>franchise_flag</th>\n",
       "      <td>26.869673</td>\n",
       "    </tr>\n",
       "  </tbody>\n",
       "</table>\n",
       "</div>"
      ],
      "text/plain": [
       "                   importance\n",
       "urban_flag         349.245728\n",
       "NAICS_response     187.304657\n",
       "LowDoc             156.372208\n",
       "DisbursementGross   57.122231\n",
       "franchise_flag      26.869673"
      ]
     },
     "execution_count": 48,
     "metadata": {},
     "output_type": "execute_result"
    }
   ],
   "source": [
    "feat_impgain.head()"
   ]
  },
  {
   "cell_type": "code",
   "execution_count": 49,
   "id": "9c88564a-7289-4c49-b2cd-b97338d1b042",
   "metadata": {},
   "outputs": [
    {
     "data": {
      "image/png": "[encoded data removed]",
      "text/plain": [
       "<Figure size 640x480 with 1 Axes>"
      ]
     },
     "metadata": {},
     "output_type": "display_data"
    }
   ],
   "source": [
    "feat_impgain.plot(kind='barh', legend=None)\n",
    "plt.gca().invert_yaxis()\n",
    "plt.xlabel('gain importance')\n",
    "plt.gcf().savefig(Path(setup.temp_path).joinpath('A23_PLOT_importance_gain.png'))"
   ]
  },
  {
   "cell_type": "markdown",
   "id": "27e5fb90-f305-40ff-acaf-285d7d056c15",
   "metadata": {},
   "source": [
    "##### Permutation Importance"
   ]
  },
  {
   "cell_type": "code",
   "execution_count": 50,
   "id": "e2c1c123-20d0-423d-b684-585c0a5d6d2b",
   "metadata": {},
   "outputs": [],
   "source": [
    "perm_importance = permutation_importance(xgb_model, \n",
    "                                         train_df[predictor_features],  train_df['target'],\n",
    "                                         n_repeats=30, scoring = 'average_precision')"
   ]
  },
  {
   "cell_type": "code",
   "execution_count": 51,
   "id": "ab0df42e-af4e-46b1-b0cf-630877137678",
   "metadata": {},
   "outputs": [],
   "source": [
    "perm_importance_df = pd.DataFrame({'features':predictor_features,\n",
    "                                   'importance': perm_importance['importances_mean']}) \n",
    "perm_importance_df['abs_importance'] = np.abs(perm_importance_df['importance'])\n",
    "perm_importance_df = perm_importance_df.sort_values('abs_importance', ascending=False)"
   ]
  },
  {
   "cell_type": "code",
   "execution_count": 52,
   "id": "0cbc5d84-6775-404f-a685-44f5be5cd481",
   "metadata": {},
   "outputs": [
    {
     "data": {
      "text/html": [
       "<div>\n",
       "<style scoped>\n",
       "    .dataframe tbody tr th:only-of-type {\n",
       "        vertical-align: middle;\n",
       "    }\n",
       "\n",
       "    .dataframe tbody tr th {\n",
       "        vertical-align: top;\n",
       "    }\n",
       "\n",
       "    .dataframe thead th {\n",
       "        text-align: right;\n",
       "    }\n",
       "</style>\n",
       "<table border=\"1\" class=\"dataframe\">\n",
       "  <thead>\n",
       "    <tr style=\"text-align: right;\">\n",
       "      <th></th>\n",
       "      <th>features</th>\n",
       "      <th>importance</th>\n",
       "      <th>abs_importance</th>\n",
       "    </tr>\n",
       "  </thead>\n",
       "  <tbody>\n",
       "    <tr>\n",
       "      <th>7</th>\n",
       "      <td>NAICS_response</td>\n",
       "      <td>0.096107</td>\n",
       "      <td>0.096107</td>\n",
       "    </tr>\n",
       "    <tr>\n",
       "      <th>3</th>\n",
       "      <td>DisbursementGross</td>\n",
       "      <td>0.067238</td>\n",
       "      <td>0.067238</td>\n",
       "    </tr>\n",
       "    <tr>\n",
       "      <th>5</th>\n",
       "      <td>urban_flag</td>\n",
       "      <td>0.036096</td>\n",
       "      <td>0.036096</td>\n",
       "    </tr>\n",
       "    <tr>\n",
       "      <th>1</th>\n",
       "      <td>CreateJob</td>\n",
       "      <td>0.018956</td>\n",
       "      <td>0.018956</td>\n",
       "    </tr>\n",
       "    <tr>\n",
       "      <th>2</th>\n",
       "      <td>LowDoc</td>\n",
       "      <td>0.014756</td>\n",
       "      <td>0.014756</td>\n",
       "    </tr>\n",
       "  </tbody>\n",
       "</table>\n",
       "</div>"
      ],
      "text/plain": [
       "            features  importance  abs_importance\n",
       "7     NAICS_response    0.096107        0.096107\n",
       "3  DisbursementGross    0.067238        0.067238\n",
       "5         urban_flag    0.036096        0.036096\n",
       "1          CreateJob    0.018956        0.018956\n",
       "2             LowDoc    0.014756        0.014756"
      ]
     },
     "execution_count": 52,
     "metadata": {},
     "output_type": "execute_result"
    }
   ],
   "source": [
    "perm_importance_df.head(5)"
   ]
  },
  {
   "cell_type": "code",
   "execution_count": 53,
   "id": "38059608-2f72-491f-86b3-0c1418b83531",
   "metadata": {},
   "outputs": [],
   "source": [
    "perm_importance_df \\\n",
    "    .to_csv(Path(setup.temp_path).joinpath('A23_DATA_importance_perturb.csv'),\n",
    "            index=False)"
   ]
  },
  {
   "cell_type": "code",
   "execution_count": 54,
   "id": "c27499c8-065b-4143-a7dc-bce301bf3edf",
   "metadata": {},
   "outputs": [
    {
     "data": {
      "image/png": "[encoded data removed]",
      "text/plain": [
       "<Figure size 640x480 with 1 Axes>"
      ]
     },
     "metadata": {},
     "output_type": "display_data"
    }
   ],
   "source": [
    "perm_importance_df.head(10).plot(kind='barh', x='features', y='importance', legend=None)\n",
    "plt.gca().invert_yaxis()\n",
    "plt.xlabel('permutation importance')\n",
    "plt.ylabel(None)\n",
    "plt.gcf().savefig(Path(setup.temp_path).joinpath('A23_PLOT_importance_perturb.png'))"
   ]
  },
  {
   "cell_type": "markdown",
   "id": "6fd44a7c-bcf5-4284-8b9f-b575fa523ff3",
   "metadata": {},
   "source": [
    "## PDP Plot - encoding feature"
   ]
  },
  {
   "cell_type": "code",
   "execution_count": 55,
   "id": "ee778a72-59f0-49f8-a934-401dcdf8a8d5",
   "metadata": {},
   "outputs": [],
   "source": [
    "feat_list = list(enc_val.columns)"
   ]
  },
  {
   "cell_type": "code",
   "execution_count": 56,
   "id": "9dcb8e63-8e0c-4bf1-9904-faea5c84ed4b",
   "metadata": {},
   "outputs": [
    {
     "data": {
      "image/png": "[encoded data removed]",
      "text/plain": [
       "<Figure size 600x900 with 10 Axes>"
      ]
     },
     "metadata": {},
     "output_type": "display_data"
    }
   ],
   "source": [
    "fig, ax = plt.subplots(int(np.ceil(len(feat_list)/2)), 2, sharex=False, \n",
    "                       sharey=True, figsize=(6, 9))\n",
    "for i in range(len(feat_list)):\n",
    "    col = int(i % 2)\n",
    "    row = int(np.floor(i / 2))\n",
    "    try:\n",
    "        results = partial_dependence(xgb_model, train_df[predictor_features], \n",
    "                                     [feat_list[i]])\n",
    "    except:\n",
    "        continue\n",
    "    pdp_df = pd.DataFrame({'grid_values':results[\"grid_values\"][0],\n",
    "                       'pdp':results[\"average\"][0]})\n",
    "    pdp_df.plot(x='grid_values', y='pdp', legend=None, ax=ax[row, col])\n",
    "    ax[row, col].set_title(feat_list[i])\n",
    "\n",
    "fig.tight_layout()\n",
    "fig.savefig(Path(setup.temp_path).joinpath('A23_PLOT_pdp_combined.png'),\n",
    "               bbox_inches='tight')\n",
    "plt.show()"
   ]
  },
  {
   "cell_type": "code",
   "execution_count": null,
   "id": "a07fd27d-db93-4bcd-ba89-11a40b13b3df",
   "metadata": {},
   "outputs": [],
   "source": []
  },
  {
   "cell_type": "code",
   "execution_count": null,
   "id": "4de3a6a9-490f-4740-a3d2-4b2de8e05614",
   "metadata": {},
   "outputs": [],
   "source": []
  }
 ],
 "metadata": {
  "kernelspec": {
   "display_name": "tf_p39",
   "language": "python",
   "name": "tf_p39"
  },
  "language_info": {
   "codemirror_mode": {
    "name": "ipython",
    "version": 3
   },
   "file_extension": ".py",
   "mimetype": "text/x-python",
   "name": "python",
   "nbconvert_exporter": "python",
   "pygments_lexer": "ipython3",
   "version": "3.8.18"
  }
 },
 "nbformat": 4,
 "nbformat_minor": 5
}
