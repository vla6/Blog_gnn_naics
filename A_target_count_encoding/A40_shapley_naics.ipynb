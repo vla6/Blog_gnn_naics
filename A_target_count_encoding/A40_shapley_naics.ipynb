{
 "cells": [
  {
   "cell_type": "code",
   "execution_count": 1,
   "id": "4f7c6e2f-4274-4eac-8057-d97cc94c6cb0",
   "metadata": {
    "tags": []
   },
   "outputs": [
    {
     "data": {
      "text/plain": [
       "'/Users/valeriecarey/Documents/projects/2023_10_blog_gnn_sba/code'"
      ]
     },
     "execution_count": 1,
     "metadata": {},
     "output_type": "execute_result"
    }
   ],
   "source": [
    "# Modify the file A00_setup.  Note the working directory is changed\n",
    "import os\n",
    "os.chdir(os.getcwd().rsplit(os.path.sep + 'code')[0] + os.path.sep + 'code')\n",
    "from importlib.machinery import SourceFileLoader\n",
    "setup = SourceFileLoader(\"setup\", \"./A_target_count_encoding/A00_setup.py\").load_module()\n",
    "os.getcwd()"
   ]
  },
  {
   "cell_type": "markdown",
   "id": "6cc94d9c-20e1-4c04-9890-2da08f7b2e50",
   "metadata": {},
   "source": [
    "# SHAP: NAICS hierarchy\n",
    "Shapley comparisons for NAICS hierarchy model.  Look at importance of NAICS features"
   ]
  },
  {
   "cell_type": "markdown",
   "id": "800a8c3e-4c58-4f17-b32e-93bda4717949",
   "metadata": {},
   "source": [
    "*This script takes about 10 minutes on my MacBook Air*"
   ]
  },
  {
   "cell_type": "code",
   "execution_count": 2,
   "id": "2ca6a2dc-9086-466a-8092-4014ba1c989f",
   "metadata": {},
   "outputs": [],
   "source": [
    "import pandas as pd\n",
    "import numpy as np\n",
    "import xgboost as xgb\n",
    "import warnings\n",
    "import matplotlib.pyplot as plt\n",
    "import pickle, importlib"
   ]
  },
  {
   "cell_type": "code",
   "execution_count": 3,
   "id": "4ae7d083-6388-4446-a1e5-c22f09e7db85",
   "metadata": {},
   "outputs": [],
   "source": [
    "from pathlib import Path"
   ]
  },
  {
   "cell_type": "code",
   "execution_count": 4,
   "id": "bc9352e8-a979-4bfe-aadc-233b85d55088",
   "metadata": {},
   "outputs": [],
   "source": [
    "import shap\n",
    "import xgboost as xgb"
   ]
  },
  {
   "cell_type": "markdown",
   "id": "2494665b-5a34-451c-b695-ecb7dcf10dc8",
   "metadata": {},
   "source": [
    "## Data"
   ]
  },
  {
   "cell_type": "code",
   "execution_count": 5,
   "id": "ccedb443-a91b-4650-9d90-c99f6e33aa8f",
   "metadata": {
    "tags": []
   },
   "outputs": [],
   "source": [
    "sba_loans = pd.read_parquet(Path(setup.parent_path).joinpath('01_DATA_transformed.parquet')) "
   ]
  },
  {
   "cell_type": "code",
   "execution_count": 6,
   "id": "4b2b13ee-948d-49fa-a6f1-f548f05230f2",
   "metadata": {},
   "outputs": [],
   "source": [
    "train_df = sba_loans[sba_loans['dset'] == 'train']"
   ]
  },
  {
   "cell_type": "markdown",
   "id": "a546eaef-1d58-45bd-8a8a-fb1087146c48",
   "metadata": {},
   "source": [
    "## Models \n",
    "Load a bunch of models and create a dictionary.  Also get model-related data into dictionaries."
   ]
  },
  {
   "cell_type": "code",
   "execution_count": 7,
   "id": "193e9bce-c259-460c-bf62-57f103c8475e",
   "metadata": {},
   "outputs": [],
   "source": [
    "# Function to load the required information from models\n",
    "def model_load(prefix = 'X01', path=setup.temp_path):\n",
    "    model = xgb.Booster()\n",
    "    model.load_model(Path(path).joinpath(prefix + '_MODEL_xgboost.json'))\n",
    "    features_values = pd.read_parquet(Path(path).joinpath(prefix + '_DATA_encodings.parquet'))\n",
    "    features_columns = [c for c in features_values.columns \\\n",
    "                        if c not in ['LoanNr_ChkDgt', 'dset', 'dset_naics_holdout', 'NAICS']]\n",
    "    with open(Path(path).joinpath(prefix + '_DATA_features_predict.pkl'), 'rb') as fin:\n",
    "        features_predict = pickle.load(fin)\n",
    "        \n",
    "    return model, features_values, features_columns, features_predict"
   ]
  },
  {
   "cell_type": "markdown",
   "id": "a62abd7a-bb6e-4078-b640-3413a01b5112",
   "metadata": {},
   "source": [
    "##### Models"
   ]
  },
  {
   "cell_type": "code",
   "execution_count": 8,
   "id": "0662055b-002c-4808-8c4a-2a63c68e0563",
   "metadata": {},
   "outputs": [],
   "source": [
    "# Standard target encoding of NAICS\n",
    "xgb_model_menc, features_menc_values, features_menc_columns, features_predict_menc = \\\n",
    "    model_load('X04', setup.parent_path)"
   ]
  },
  {
   "cell_type": "code",
   "execution_count": 9,
   "id": "2bc59e58-7be8-4fe2-aa64-ffc7a002f8d1",
   "metadata": {},
   "outputs": [],
   "source": [
    "# Hierarchical target encoding by NAICS\n",
    "xgb_model_mhier, features_mhier_values, features_mhier_columns, features_predict_mhier = \\\n",
    "    model_load('X10', setup.parent_path)"
   ]
  },
  {
   "cell_type": "code",
   "execution_count": 10,
   "id": "57335816-b2a9-46b0-b9c4-cb357bc37b5c",
   "metadata": {},
   "outputs": [],
   "source": [
    "# Standard target encoding of all levels NAICS (separately)\n",
    "xgb_model_menc_all, features_menc_all_values, features_menc_all_columns, features_predict_menc_all = \\\n",
    "    model_load('A22', setup.temp_path)"
   ]
  },
  {
   "cell_type": "code",
   "execution_count": 11,
   "id": "ac1e2261-0e94-4034-83e2-10ea5fc77f01",
   "metadata": {},
   "outputs": [],
   "source": [
    "# Target+Count encoding, all levels NAICS\n",
    "xgb_model_tc, features_tc_values, features_tc_columns, features_predict_tc = \\\n",
    "    model_load('A20', setup.temp_path)"
   ]
  },
  {
   "cell_type": "code",
   "execution_count": 12,
   "id": "6bab664b-8797-477e-9c3b-638209edc091",
   "metadata": {},
   "outputs": [],
   "source": [
    "# Target-Thresh encoding, all levels NAICS\n",
    "xgb_model_tt, features_tt_values, features_tt_columns, features_predict_tt = \\\n",
    "    model_load('A21', setup.temp_path)"
   ]
  },
  {
   "cell_type": "code",
   "execution_count": 13,
   "id": "aee601d9-2304-4b94-b83d-1ab03e8ecf44",
   "metadata": {},
   "outputs": [],
   "source": [
    "# Encoding column(s) into dictionary\n",
    "feature_dict = {'menc': features_menc_columns, \n",
    "                'mhier':features_mhier_columns,\n",
    "                'menc_all': features_menc_all_columns,\n",
    "                'tc':features_tc_columns,\n",
    "                 'tt':features_tt_columns}"
   ]
  },
  {
   "cell_type": "code",
   "execution_count": 14,
   "id": "9a44125d-e2ad-4589-86d9-aecfef0f901d",
   "metadata": {},
   "outputs": [],
   "source": [
    "# Encoded values into dictionary\n",
    "feature_values_dict = {'menc': features_menc_values,\n",
    "                       'mhier':features_mhier_values,\n",
    "                       'menc_all': features_menc_all_values,\n",
    "                       'tc':features_tc_values,\n",
    "                       'tt':features_tt_values}"
   ]
  },
  {
   "cell_type": "code",
   "execution_count": 15,
   "id": "5e151a18-60aa-4108-b88c-9e9c43845d5b",
   "metadata": {},
   "outputs": [],
   "source": [
    "# Order for plots and tables, also print labels\n",
    "feature_order = ['menc', 'mhier', 'menc_all', 'tc', 'tt']\n",
    "num_models = len(feature_order)\n",
    "print_dict = {'menc': 'Target encoding (NAICS only)', \n",
    "                'mhier':'Hierarchical Blending',\n",
    "                'menc_all': 'Target encoding (NAICS hierarchy)',\n",
    "                'tc':'Target+Count encoding',\n",
    "                 'tt':'Target-Thresh encoding'}"
   ]
  },
  {
   "cell_type": "code",
   "execution_count": 16,
   "id": "cb4f5086-f216-4ade-8178-3a0fea53c7f5",
   "metadata": {},
   "outputs": [],
   "source": [
    "# Models into a dictionary\n",
    "model_dict = {'menc': xgb_model_menc, \n",
    "                'mhier':xgb_model_mhier,\n",
    "                'menc_all': xgb_model_menc_all,\n",
    "                'tc':xgb_model_tc,\n",
    "                 'tt':xgb_model_tt}"
   ]
  },
  {
   "cell_type": "code",
   "execution_count": 17,
   "id": "18539d39-0b1c-4acb-b1b7-622da0696257",
   "metadata": {},
   "outputs": [],
   "source": [
    "# Predictor dictionary for compactness\n",
    "predictor_dict = {'menc': features_predict_menc, \n",
    "                 'mhier':features_predict_mhier,\n",
    "                'menc_all': features_predict_menc_all,\n",
    "                'tc':features_predict_tc,\n",
    "                 'tt':features_predict_tt}"
   ]
  },
  {
   "cell_type": "code",
   "execution_count": 18,
   "id": "0b064d4c-8751-4c84-9524-f7197b0c6c21",
   "metadata": {},
   "outputs": [
    {
     "data": {
      "text/plain": [
       "dict_keys(['menc', 'mhier', 'menc_all', 'tc', 'tt'])"
      ]
     },
     "execution_count": 18,
     "metadata": {},
     "output_type": "execute_result"
    }
   ],
   "source": [
    "predictor_dict.keys()"
   ]
  },
  {
   "cell_type": "markdown",
   "id": "6e1fb8f6-1acf-44e1-93af-64a628b3ccb4",
   "metadata": {},
   "source": [
    "## Datasets for Explanations\n",
    "Wamt to use the same cases for all models.  Use the test holdout, and regular test data.  I need to append different features for each"
   ]
  },
  {
   "cell_type": "code",
   "execution_count": 69,
   "id": "c3a689dd-b077-4be0-9f51-f9b5984ab556",
   "metadata": {},
   "outputs": [],
   "source": [
    "# Function to get a dataset for a given modeal\n",
    "def model_data(base_data, features_data, predictors_list):\n",
    "    \n",
    "    drop_cols = [c for c in features_data.columns if c != 'LoanNr_ChkDgt']\n",
    "    data = base_data \\\n",
    "        .drop(columns = drop_cols, errors='ignore') \\\n",
    "        .merge(features_data,\n",
    "               how='inner', on='LoanNr_ChkDgt')\n",
    "    return data"
   ]
  },
  {
   "cell_type": "markdown",
   "id": "9dcbe22b-ccc9-4db9-9672-00196868f502",
   "metadata": {},
   "source": [
    "##### Holdout data\n",
    "Create data frames for all models"
   ]
  },
  {
   "cell_type": "code",
   "execution_count": 70,
   "id": "cb137b77-f6e7-4ad3-8582-5d875bfcf985",
   "metadata": {},
   "outputs": [],
   "source": [
    "holdout_base = sba_loans[sba_loans['dset_naics_holdout'] == 1]"
   ]
  },
  {
   "cell_type": "code",
   "execution_count": 71,
   "id": "f9d8da94-3a44-4bb4-91b2-f5be9945bf1e",
   "metadata": {},
   "outputs": [],
   "source": [
    "model_data_holdout_dict = {k: model_data(holdout_base, feature_values_dict[k],\n",
    "                                 predictor_dict[k]) for k in feature_values_dict.keys()}"
   ]
  },
  {
   "cell_type": "code",
   "execution_count": 72,
   "id": "6952a6c1-69a5-430b-9a86-38bb4a84aa78",
   "metadata": {},
   "outputs": [
    {
     "data": {
      "text/plain": [
       "{'menc': (65052, 58),\n",
       " 'mhier': (65052, 58),\n",
       " 'menc_all': (65052, 58),\n",
       " 'tc': (65052, 68),\n",
       " 'tt': (65052, 63)}"
      ]
     },
     "execution_count": 72,
     "metadata": {},
     "output_type": "execute_result"
    }
   ],
   "source": [
    "# Print the data shapes\n",
    "{k:model_data_holdout_dict[k].shape for k in feature_values_dict.keys()}"
   ]
  },
  {
   "cell_type": "markdown",
   "id": "be6a5c0f-adb3-48b6-b5f1-9be11ca10cb1",
   "metadata": {},
   "source": [
    "##### Random test data\n",
    "Downsample a bit for speed.  Use the same data for all"
   ]
  },
  {
   "cell_type": "code",
   "execution_count": 73,
   "id": "e1840c60-250b-4613-96cf-f3e959aa12f9",
   "metadata": {},
   "outputs": [],
   "source": [
    "sample_n = np.min([len(sba_loans['dset_naics_holdout'] == 0), 50000])\n",
    "test_base = sba_loans[sba_loans['dset_naics_holdout'] == 0] \\\n",
    "    .sample(n=sample_n, random_state = 6)"
   ]
  },
  {
   "cell_type": "code",
   "execution_count": 74,
   "id": "652b7530-dcfc-493c-ba71-eeedf9e72e04",
   "metadata": {},
   "outputs": [],
   "source": [
    "model_data_test_dict = {k: model_data(test_base, feature_values_dict[k],\n",
    "                                 predictor_dict[k]) for k in feature_values_dict.keys()}"
   ]
  },
  {
   "cell_type": "code",
   "execution_count": 75,
   "id": "b0809ce4-726c-4f36-ac75-a945b06e09d1",
   "metadata": {},
   "outputs": [
    {
     "data": {
      "text/plain": [
       "{'menc': (50000, 58),\n",
       " 'mhier': (50000, 58),\n",
       " 'menc_all': (50000, 58),\n",
       " 'tc': (50000, 68),\n",
       " 'tt': (50000, 63)}"
      ]
     },
     "execution_count": 75,
     "metadata": {},
     "output_type": "execute_result"
    }
   ],
   "source": [
    "# Print the data shapes\n",
    "{k:model_data_test_dict[k].shape for k in feature_values_dict.keys()}"
   ]
  },
  {
   "cell_type": "markdown",
   "id": "dc0f0ec8-3a27-41b7-831a-ec4d7552cf51",
   "metadata": {
    "tags": []
   },
   "source": [
    "## SHAP Explainers, Values\n",
    "For the 3 models, generate explainers then explanations"
   ]
  },
  {
   "cell_type": "markdown",
   "id": "0add6582-ac2b-4183-9445-99f916cfb941",
   "metadata": {
    "tags": []
   },
   "source": [
    "##### Explainers"
   ]
  },
  {
   "cell_type": "code",
   "execution_count": 76,
   "id": "3f975d35-90b3-4f9a-9d8b-023e1f9f9687",
   "metadata": {},
   "outputs": [],
   "source": [
    "explainer_dict = {k: \\\n",
    "                  shap.TreeExplainer(model_dict[k], feature_names=predictor_dict[k]) \\\n",
    "              for k in predictor_dict.keys()}"
   ]
  },
  {
   "cell_type": "code",
   "execution_count": 77,
   "id": "f6fe2cf9-271d-4a54-b98e-3a858c026241",
   "metadata": {},
   "outputs": [
    {
     "data": {
      "text/plain": [
       "{'menc': <shap.explainers._tree.TreeExplainer at 0x301f2c460>,\n",
       " 'mhier': <shap.explainers._tree.TreeExplainer at 0x302ddb670>,\n",
       " 'menc_all': <shap.explainers._tree.TreeExplainer at 0x302e9a970>,\n",
       " 'tc': <shap.explainers._tree.TreeExplainer at 0x301f24820>,\n",
       " 'tt': <shap.explainers._tree.TreeExplainer at 0x302ddb3d0>}"
      ]
     },
     "execution_count": 77,
     "metadata": {},
     "output_type": "execute_result"
    }
   ],
   "source": [
    "explainer_dict"
   ]
  },
  {
   "cell_type": "markdown",
   "id": "3bb90cd3-31f7-43a1-a6de-31ddfc609905",
   "metadata": {},
   "source": [
    "##### Holdout values"
   ]
  },
  {
   "cell_type": "code",
   "execution_count": 78,
   "id": "95420277-5ce4-484b-9710-e1d4a4012020",
   "metadata": {},
   "outputs": [],
   "source": [
    "shap_holdout_dict = {k: \n",
    "                     explainer_dict[k].shap_values(model_data_holdout_dict[k][predictor_dict[k]])\n",
    "                     for k in predictor_dict.keys()}"
   ]
  },
  {
   "cell_type": "markdown",
   "id": "6f9cc047-9c33-4f48-96ea-2c0a3fdcd286",
   "metadata": {},
   "source": [
    "##### Random test values"
   ]
  },
  {
   "cell_type": "code",
   "execution_count": 79,
   "id": "1b176f22-dee2-435a-8d2b-be6ab9c4c70a",
   "metadata": {},
   "outputs": [],
   "source": [
    "shap_test_dict = {k: \n",
    "                     explainer_dict[k].shap_values(model_data_test_dict[k][predictor_dict[k]])\n",
    "                     for k in predictor_dict.keys()}"
   ]
  },
  {
   "cell_type": "markdown",
   "id": "26ab5c09-83da-4e33-b034-387b51dc1841",
   "metadata": {},
   "source": [
    "##### Save data"
   ]
  },
  {
   "cell_type": "code",
   "execution_count": 80,
   "id": "57b85780-11a8-41f0-ab91-e82067691eec",
   "metadata": {},
   "outputs": [],
   "source": [
    "with open(Path(setup.temp_path).joinpath('A40_DATA_raw_shap_dict_ho.pkl'), 'wb') as fout:\n",
    "    pickle.dump(shap_holdout_dict, fout)"
   ]
  },
  {
   "cell_type": "code",
   "execution_count": 81,
   "id": "c5aee137-a648-440f-970d-396cb0c11401",
   "metadata": {},
   "outputs": [],
   "source": [
    "with open(Path(setup.temp_path).joinpath('A40_DATA_raw_shap_dict_test.pkl'), 'wb') as fout:\n",
    "    pickle.dump(shap_test_dict, fout)"
   ]
  },
  {
   "cell_type": "markdown",
   "id": "5a148eee-87ce-432f-8bad-06b976d014ae",
   "metadata": {},
   "source": [
    "##### Data frame convert and save"
   ]
  },
  {
   "cell_type": "code",
   "execution_count": 82,
   "id": "91a64ac3-ba7a-4469-818e-8a25cb1fb361",
   "metadata": {},
   "outputs": [],
   "source": [
    "shap_holdout_df_dict = {k: pd.DataFrame(shap_holdout_dict[k], columns=predictor_dict[k],\n",
    "                                       index = model_data_holdout_dict[k].index)\n",
    "                        for k in predictor_dict.keys()}\n",
    "with open(Path(setup.temp_path).joinpath('A40_DATA_df_shap_dict_ho.pkl'), 'wb') as fout:\n",
    "    pickle.dump(shap_holdout_df_dict, fout)"
   ]
  },
  {
   "cell_type": "code",
   "execution_count": 83,
   "id": "b9f3e7c5-7fe5-4bf5-b25e-72023645565e",
   "metadata": {},
   "outputs": [],
   "source": [
    "shap_test_df_dict = {k: pd.DataFrame(shap_test_dict[k], columns=predictor_dict[k],\n",
    "                                    index = model_data_test_dict[k].index)\n",
    "                        for k in predictor_dict.keys()}\n",
    "with open(Path(setup.temp_path).joinpath('A40_DATA_df_shap_dict_test.pkl'), 'wb') as fout:\n",
    "    pickle.dump(shap_test_df_dict, fout)"
   ]
  },
  {
   "cell_type": "markdown",
   "id": "633d9f8c-ded5-4773-99ec-f18394b700a8",
   "metadata": {},
   "source": [
    "## Long Format Data"
   ]
  },
  {
   "cell_type": "code",
   "execution_count": 84,
   "id": "67ee122f-9a04-496e-9502-de1741c46c56",
   "metadata": {},
   "outputs": [],
   "source": [
    "# Function to convert SHAP data to a frame in long format\n",
    "def get_shap_long(shap_df, features_encoded):\n",
    "    \n",
    "    long_df = shap_df.melt(ignore_index = False)\n",
    "    \n",
    "    long_df['enc_flag'] = np.where(long_df['variable'].isin(features_encoded), 1, 0)\n",
    "    \n",
    "    return long_df"
   ]
  },
  {
   "cell_type": "code",
   "execution_count": 85,
   "id": "fdee8876-288e-44b7-b73c-9d9c877f3383",
   "metadata": {},
   "outputs": [],
   "source": [
    "# Apply the function to all models and concatenate\n",
    "shap_all_long_test = pd.concat([get_shap_long(shap_test_df_dict[k],feature_dict[k]) \\\n",
    "                              .reset_index()\n",
    "                         for k in predictor_dict.keys()],\n",
    "                        keys=predictor_dict.keys()) \\\n",
    "    .reset_index(level=0) \\\n",
    "    .rename(columns={'level_0':'model'}) \\\n",
    "    .reset_index(drop=True)"
   ]
  },
  {
   "cell_type": "code",
   "execution_count": 86,
   "id": "bd198a6d-dd0f-41c7-af9f-0886b8e3d2de",
   "metadata": {},
   "outputs": [],
   "source": [
    "shap_all_long_test.to_parquet(Path(setup.temp_path).joinpath('A40_DATA_shap_long_test.parquet'))"
   ]
  },
  {
   "cell_type": "code",
   "execution_count": 87,
   "id": "48371889-a599-4e36-9a52-b3b908f81263",
   "metadata": {},
   "outputs": [],
   "source": [
    "# Apply the function to all models and concatenate\n",
    "shap_all_long_ho = pd.concat([get_shap_long(shap_holdout_df_dict[k],feature_dict[k]) \\\n",
    "                              .reset_index()\n",
    "                         for k in predictor_dict.keys()],\n",
    "                        keys=predictor_dict.keys()) \\\n",
    "    .reset_index(level=0) \\\n",
    "    .rename(columns={'level_0':'model'}) \\\n",
    "    .reset_index(drop=True)"
   ]
  },
  {
   "cell_type": "code",
   "execution_count": 88,
   "id": "92a9459c-f308-4b74-957b-b63a963c3284",
   "metadata": {},
   "outputs": [],
   "source": [
    "shap_all_long_ho.to_parquet(Path(setup.temp_path).joinpath('A40_DATA_shap_long_ho.parquet'))"
   ]
  },
  {
   "cell_type": "code",
   "execution_count": 89,
   "id": "9b7f893b-e4a5-4c0d-8772-6031b35b50e3",
   "metadata": {},
   "outputs": [
    {
     "data": {
      "text/html": [
       "<div>\n",
       "<style scoped>\n",
       "    .dataframe tbody tr th:only-of-type {\n",
       "        vertical-align: middle;\n",
       "    }\n",
       "\n",
       "    .dataframe tbody tr th {\n",
       "        vertical-align: top;\n",
       "    }\n",
       "\n",
       "    .dataframe thead th {\n",
       "        text-align: right;\n",
       "    }\n",
       "</style>\n",
       "<table border=\"1\" class=\"dataframe\">\n",
       "  <thead>\n",
       "    <tr style=\"text-align: right;\">\n",
       "      <th></th>\n",
       "      <th>model</th>\n",
       "      <th>index</th>\n",
       "      <th>variable</th>\n",
       "      <th>value</th>\n",
       "      <th>enc_flag</th>\n",
       "    </tr>\n",
       "  </thead>\n",
       "  <tbody>\n",
       "    <tr>\n",
       "      <th>0</th>\n",
       "      <td>menc</td>\n",
       "      <td>0</td>\n",
       "      <td>NoEmp</td>\n",
       "      <td>0.088689</td>\n",
       "      <td>0</td>\n",
       "    </tr>\n",
       "    <tr>\n",
       "      <th>1</th>\n",
       "      <td>menc</td>\n",
       "      <td>1</td>\n",
       "      <td>NoEmp</td>\n",
       "      <td>0.045408</td>\n",
       "      <td>0</td>\n",
       "    </tr>\n",
       "    <tr>\n",
       "      <th>2</th>\n",
       "      <td>menc</td>\n",
       "      <td>2</td>\n",
       "      <td>NoEmp</td>\n",
       "      <td>0.004393</td>\n",
       "      <td>0</td>\n",
       "    </tr>\n",
       "    <tr>\n",
       "      <th>3</th>\n",
       "      <td>menc</td>\n",
       "      <td>3</td>\n",
       "      <td>NoEmp</td>\n",
       "      <td>-0.049012</td>\n",
       "      <td>0</td>\n",
       "    </tr>\n",
       "    <tr>\n",
       "      <th>4</th>\n",
       "      <td>menc</td>\n",
       "      <td>4</td>\n",
       "      <td>NoEmp</td>\n",
       "      <td>0.049974</td>\n",
       "      <td>0</td>\n",
       "    </tr>\n",
       "    <tr>\n",
       "      <th>...</th>\n",
       "      <td>...</td>\n",
       "      <td>...</td>\n",
       "      <td>...</td>\n",
       "      <td>...</td>\n",
       "      <td>...</td>\n",
       "    </tr>\n",
       "    <tr>\n",
       "      <th>3707959</th>\n",
       "      <td>tt</td>\n",
       "      <td>65047</td>\n",
       "      <td>tt_NAICS_sector</td>\n",
       "      <td>-0.018786</td>\n",
       "      <td>1</td>\n",
       "    </tr>\n",
       "    <tr>\n",
       "      <th>3707960</th>\n",
       "      <td>tt</td>\n",
       "      <td>65048</td>\n",
       "      <td>tt_NAICS_sector</td>\n",
       "      <td>0.021960</td>\n",
       "      <td>1</td>\n",
       "    </tr>\n",
       "    <tr>\n",
       "      <th>3707961</th>\n",
       "      <td>tt</td>\n",
       "      <td>65049</td>\n",
       "      <td>tt_NAICS_sector</td>\n",
       "      <td>-0.018064</td>\n",
       "      <td>1</td>\n",
       "    </tr>\n",
       "    <tr>\n",
       "      <th>3707962</th>\n",
       "      <td>tt</td>\n",
       "      <td>65050</td>\n",
       "      <td>tt_NAICS_sector</td>\n",
       "      <td>-0.006799</td>\n",
       "      <td>1</td>\n",
       "    </tr>\n",
       "    <tr>\n",
       "      <th>3707963</th>\n",
       "      <td>tt</td>\n",
       "      <td>65051</td>\n",
       "      <td>tt_NAICS_sector</td>\n",
       "      <td>-0.018087</td>\n",
       "      <td>1</td>\n",
       "    </tr>\n",
       "  </tbody>\n",
       "</table>\n",
       "<p>3707964 rows × 5 columns</p>\n",
       "</div>"
      ],
      "text/plain": [
       "        model  index         variable     value  enc_flag\n",
       "0        menc      0            NoEmp  0.088689         0\n",
       "1        menc      1            NoEmp  0.045408         0\n",
       "2        menc      2            NoEmp  0.004393         0\n",
       "3        menc      3            NoEmp -0.049012         0\n",
       "4        menc      4            NoEmp  0.049974         0\n",
       "...       ...    ...              ...       ...       ...\n",
       "3707959    tt  65047  tt_NAICS_sector -0.018786         1\n",
       "3707960    tt  65048  tt_NAICS_sector  0.021960         1\n",
       "3707961    tt  65049  tt_NAICS_sector -0.018064         1\n",
       "3707962    tt  65050  tt_NAICS_sector -0.006799         1\n",
       "3707963    tt  65051  tt_NAICS_sector -0.018087         1\n",
       "\n",
       "[3707964 rows x 5 columns]"
      ]
     },
     "execution_count": 89,
     "metadata": {},
     "output_type": "execute_result"
    }
   ],
   "source": [
    "shap_all_long_ho"
   ]
  },
  {
   "cell_type": "markdown",
   "id": "c3804dc3-4c11-43e1-9dc8-faaf83908f67",
   "metadata": {},
   "source": [
    "## Encoding vs. Non-Encoding Features"
   ]
  },
  {
   "cell_type": "code",
   "execution_count": 90,
   "id": "9ec1656d-5021-43c4-b69d-307fbec66cef",
   "metadata": {},
   "outputs": [],
   "source": [
    "def aggregate_by_enc_flag(data):\n",
    "    data_1 = data \\\n",
    "        .groupby(['model', 'enc_flag', 'index']) \\\n",
    "        ['value'] \\\n",
    "        .agg('sum') \\\n",
    "        .reset_index(level=[0,1])\n",
    "    data_1['value_abs'] = np.abs(data_1['value'])\n",
    "    data_2 = data_1 \\\n",
    "        .groupby(['model', 'enc_flag']) \\\n",
    "        [['value_abs', 'value']] \\\n",
    "        .agg('mean') \\\n",
    "        .reset_index()\n",
    "    return data_2"
   ]
  },
  {
   "cell_type": "code",
   "execution_count": 91,
   "id": "2d71524c-d2b4-4f9a-9f94-f15bfe1b8d41",
   "metadata": {},
   "outputs": [
    {
     "data": {
      "text/html": [
       "<div>\n",
       "<style scoped>\n",
       "    .dataframe tbody tr th:only-of-type {\n",
       "        vertical-align: middle;\n",
       "    }\n",
       "\n",
       "    .dataframe tbody tr th {\n",
       "        vertical-align: top;\n",
       "    }\n",
       "\n",
       "    .dataframe thead th {\n",
       "        text-align: right;\n",
       "    }\n",
       "</style>\n",
       "<table border=\"1\" class=\"dataframe\">\n",
       "  <thead>\n",
       "    <tr style=\"text-align: right;\">\n",
       "      <th></th>\n",
       "      <th>model</th>\n",
       "      <th>enc_flag</th>\n",
       "      <th>value_abs</th>\n",
       "      <th>value</th>\n",
       "    </tr>\n",
       "  </thead>\n",
       "  <tbody>\n",
       "    <tr>\n",
       "      <th>0</th>\n",
       "      <td>menc</td>\n",
       "      <td>0</td>\n",
       "      <td>0.554551</td>\n",
       "      <td>-0.143952</td>\n",
       "    </tr>\n",
       "    <tr>\n",
       "      <th>1</th>\n",
       "      <td>menc</td>\n",
       "      <td>1</td>\n",
       "      <td>0.366625</td>\n",
       "      <td>-0.059871</td>\n",
       "    </tr>\n",
       "    <tr>\n",
       "      <th>2</th>\n",
       "      <td>menc_all</td>\n",
       "      <td>0</td>\n",
       "      <td>0.555496</td>\n",
       "      <td>-0.143553</td>\n",
       "    </tr>\n",
       "    <tr>\n",
       "      <th>3</th>\n",
       "      <td>menc_all</td>\n",
       "      <td>1</td>\n",
       "      <td>0.364793</td>\n",
       "      <td>-0.060546</td>\n",
       "    </tr>\n",
       "    <tr>\n",
       "      <th>4</th>\n",
       "      <td>mhier</td>\n",
       "      <td>0</td>\n",
       "      <td>0.548655</td>\n",
       "      <td>-0.142541</td>\n",
       "    </tr>\n",
       "    <tr>\n",
       "      <th>5</th>\n",
       "      <td>mhier</td>\n",
       "      <td>1</td>\n",
       "      <td>0.366027</td>\n",
       "      <td>-0.063126</td>\n",
       "    </tr>\n",
       "    <tr>\n",
       "      <th>6</th>\n",
       "      <td>tc</td>\n",
       "      <td>0</td>\n",
       "      <td>0.553378</td>\n",
       "      <td>-0.142560</td>\n",
       "    </tr>\n",
       "    <tr>\n",
       "      <th>7</th>\n",
       "      <td>tc</td>\n",
       "      <td>1</td>\n",
       "      <td>0.366186</td>\n",
       "      <td>-0.061357</td>\n",
       "    </tr>\n",
       "    <tr>\n",
       "      <th>8</th>\n",
       "      <td>tt</td>\n",
       "      <td>0</td>\n",
       "      <td>0.562067</td>\n",
       "      <td>-0.141959</td>\n",
       "    </tr>\n",
       "    <tr>\n",
       "      <th>9</th>\n",
       "      <td>tt</td>\n",
       "      <td>1</td>\n",
       "      <td>0.344905</td>\n",
       "      <td>-0.062151</td>\n",
       "    </tr>\n",
       "  </tbody>\n",
       "</table>\n",
       "</div>"
      ],
      "text/plain": [
       "      model  enc_flag  value_abs     value\n",
       "0      menc         0   0.554551 -0.143952\n",
       "1      menc         1   0.366625 -0.059871\n",
       "2  menc_all         0   0.555496 -0.143553\n",
       "3  menc_all         1   0.364793 -0.060546\n",
       "4     mhier         0   0.548655 -0.142541\n",
       "5     mhier         1   0.366027 -0.063126\n",
       "6        tc         0   0.553378 -0.142560\n",
       "7        tc         1   0.366186 -0.061357\n",
       "8        tt         0   0.562067 -0.141959\n",
       "9        tt         1   0.344905 -0.062151"
      ]
     },
     "execution_count": 91,
     "metadata": {},
     "output_type": "execute_result"
    }
   ],
   "source": [
    "enc_flag_agg_test = aggregate_by_enc_flag(shap_all_long_test)\n",
    "enc_flag_agg_test"
   ]
  },
  {
   "cell_type": "code",
   "execution_count": 92,
   "id": "c026f3b3-9040-42dd-89ee-8937794281f8",
   "metadata": {},
   "outputs": [
    {
     "data": {
      "text/html": [
       "<div>\n",
       "<style scoped>\n",
       "    .dataframe tbody tr th:only-of-type {\n",
       "        vertical-align: middle;\n",
       "    }\n",
       "\n",
       "    .dataframe tbody tr th {\n",
       "        vertical-align: top;\n",
       "    }\n",
       "\n",
       "    .dataframe thead th {\n",
       "        text-align: right;\n",
       "    }\n",
       "</style>\n",
       "<table border=\"1\" class=\"dataframe\">\n",
       "  <thead>\n",
       "    <tr style=\"text-align: right;\">\n",
       "      <th></th>\n",
       "      <th>model</th>\n",
       "      <th>enc_flag</th>\n",
       "      <th>value_abs</th>\n",
       "      <th>value</th>\n",
       "    </tr>\n",
       "  </thead>\n",
       "  <tbody>\n",
       "    <tr>\n",
       "      <th>0</th>\n",
       "      <td>menc</td>\n",
       "      <td>0</td>\n",
       "      <td>0.648219</td>\n",
       "      <td>-0.259119</td>\n",
       "    </tr>\n",
       "    <tr>\n",
       "      <th>1</th>\n",
       "      <td>menc</td>\n",
       "      <td>1</td>\n",
       "      <td>0.093835</td>\n",
       "      <td>0.093832</td>\n",
       "    </tr>\n",
       "    <tr>\n",
       "      <th>2</th>\n",
       "      <td>menc_all</td>\n",
       "      <td>0</td>\n",
       "      <td>0.640744</td>\n",
       "      <td>-0.255134</td>\n",
       "    </tr>\n",
       "    <tr>\n",
       "      <th>3</th>\n",
       "      <td>menc_all</td>\n",
       "      <td>1</td>\n",
       "      <td>0.088901</td>\n",
       "      <td>0.065283</td>\n",
       "    </tr>\n",
       "    <tr>\n",
       "      <th>4</th>\n",
       "      <td>mhier</td>\n",
       "      <td>0</td>\n",
       "      <td>0.612161</td>\n",
       "      <td>-0.231707</td>\n",
       "    </tr>\n",
       "    <tr>\n",
       "      <th>5</th>\n",
       "      <td>mhier</td>\n",
       "      <td>1</td>\n",
       "      <td>0.342198</td>\n",
       "      <td>-0.063008</td>\n",
       "    </tr>\n",
       "    <tr>\n",
       "      <th>6</th>\n",
       "      <td>tc</td>\n",
       "      <td>0</td>\n",
       "      <td>0.665498</td>\n",
       "      <td>-0.265534</td>\n",
       "    </tr>\n",
       "    <tr>\n",
       "      <th>7</th>\n",
       "      <td>tc</td>\n",
       "      <td>1</td>\n",
       "      <td>0.084458</td>\n",
       "      <td>0.028696</td>\n",
       "    </tr>\n",
       "    <tr>\n",
       "      <th>8</th>\n",
       "      <td>tt</td>\n",
       "      <td>0</td>\n",
       "      <td>0.693337</td>\n",
       "      <td>-0.209219</td>\n",
       "    </tr>\n",
       "    <tr>\n",
       "      <th>9</th>\n",
       "      <td>tt</td>\n",
       "      <td>1</td>\n",
       "      <td>0.192175</td>\n",
       "      <td>-0.159562</td>\n",
       "    </tr>\n",
       "  </tbody>\n",
       "</table>\n",
       "</div>"
      ],
      "text/plain": [
       "      model  enc_flag  value_abs     value\n",
       "0      menc         0   0.648219 -0.259119\n",
       "1      menc         1   0.093835  0.093832\n",
       "2  menc_all         0   0.640744 -0.255134\n",
       "3  menc_all         1   0.088901  0.065283\n",
       "4     mhier         0   0.612161 -0.231707\n",
       "5     mhier         1   0.342198 -0.063008\n",
       "6        tc         0   0.665498 -0.265534\n",
       "7        tc         1   0.084458  0.028696\n",
       "8        tt         0   0.693337 -0.209219\n",
       "9        tt         1   0.192175 -0.159562"
      ]
     },
     "execution_count": 92,
     "metadata": {},
     "output_type": "execute_result"
    }
   ],
   "source": [
    "enc_flag_agg_ho = aggregate_by_enc_flag(shap_all_long_ho)\n",
    "enc_flag_agg_ho"
   ]
  },
  {
   "cell_type": "markdown",
   "id": "85b5d7f3-ab2f-4609-aae1-f6a4277d4b47",
   "metadata": {},
   "source": [
    "##### Plot"
   ]
  },
  {
   "cell_type": "code",
   "execution_count": 93,
   "id": "7b0c5432-35f3-4d31-ad35-3428ec5fa39a",
   "metadata": {},
   "outputs": [],
   "source": [
    "# Function to do bar plot\n",
    "def shap_enc_flag_bar(data, values = 'value_abs',\n",
    "                      title = None, xlabel = None, ax = None):\n",
    "    \n",
    "    # Label models\n",
    "    data['model_label']  = setup.label_models(data)\n",
    "\n",
    "    if ax is None:\n",
    "        fig, ax = plt.subplots(figsize = (4, 3))\n",
    "    data_pivot = data.pivot(index='model_label', columns='enc_flag', values=values) \\\n",
    "        .rename(columns={0:'other features', 1:'NAICS encoding feature(s)'})\n",
    "    data_pivot .plot(kind='barh', ax=ax, width=0.7)\n",
    "    ax.invert_yaxis()\n",
    "    ax.set_ylabel(None)\n",
    "    ax.set_title(title)\n",
    "    ax.set_xlabel(xlabel)\n",
    "    #ax.legend(bbox_to_anchor=(0.8, -0.05),  bbox_transform=fig.transFigure, ncol=2)"
   ]
  },
  {
   "cell_type": "code",
   "execution_count": 94,
   "id": "a83396da-187e-4b7e-9f59-34b8b1fc8531",
   "metadata": {},
   "outputs": [
    {
     "data": {
      "text/plain": [
       "0    Target Encoding (NAICS only)\n",
       "1    Target Encoding (NAICS only)\n",
       "2           Target Encoding (all)\n",
       "3           Target Encoding (all)\n",
       "4           Hierarchical Blending\n",
       "5           Hierarchical Blending\n",
       "6           Target+Count Encoding\n",
       "7           Target+Count Encoding\n",
       "8          Target-Thresh Encoding\n",
       "9          Target-Thresh Encoding\n",
       "Name: model, dtype: category\n",
       "Categories (5, object): ['Target Encoding (NAICS only)' < 'Hierarchical Blending' < 'Target Encoding (all)' < 'Target+Count Encoding' < 'Target-Thresh Encoding']"
      ]
     },
     "execution_count": 94,
     "metadata": {},
     "output_type": "execute_result"
    }
   ],
   "source": [
    "setup.label_models(enc_flag_agg_test)"
   ]
  },
  {
   "cell_type": "code",
   "execution_count": 95,
   "id": "c76e8e5d-e4d4-480e-adfc-40161c5b9ace",
   "metadata": {},
   "outputs": [
    {
     "data": {
      "image/png": "[encoded data removed]",
      "text/plain": [
       "<Figure size 600x300 with 2 Axes>"
      ]
     },
     "metadata": {},
     "output_type": "display_data"
    }
   ],
   "source": [
    "fig, ax = plt.subplots(1, 2, sharex = True, sharey = True, figsize=(6, 3))\n",
    "shap_enc_flag_bar(enc_flag_agg_test, ax=ax[0], title='Test Data',\n",
    "                     xlabel='mean abs SHAP value')\n",
    "shap_enc_flag_bar(enc_flag_agg_ho, ax=ax[1], title='Holdout NAICS Data',\n",
    "                     xlabel='mean abs SHAP value')\n",
    "ax[0].get_legend().remove()\n",
    "ax[1].legend(bbox_to_anchor=(0.8, -0.05),  bbox_transform=fig.transFigure, ncol=2)\n",
    "fig.savefig(Path(setup.temp_path).joinpath('A40_PLOT_enc_flag_mean_abs.png'),\n",
    "        bbox_inches='tight')"
   ]
  },
  {
   "cell_type": "code",
   "execution_count": 96,
   "id": "684c3692-e1ea-40c2-b856-1f6f6f71ab36",
   "metadata": {},
   "outputs": [
    {
     "data": {
      "image/png": "[encoded data removed]",
      "text/plain": [
       "<Figure size 600x300 with 2 Axes>"
      ]
     },
     "metadata": {},
     "output_type": "display_data"
    }
   ],
   "source": [
    "fig, ax = plt.subplots(1, 2, sharex = True, sharey = True, figsize=(6, 3))\n",
    "shap_enc_flag_bar(enc_flag_agg_test, 'value', ax=ax[0], title='Test Data',\n",
    "                     xlabel='mean abs SHAP value')\n",
    "shap_enc_flag_bar(enc_flag_agg_ho, 'value', ax=ax[1], title='Holdout NAICS Data',\n",
    "                     xlabel='mean SHAP value')\n",
    "ax[0].get_legend().remove()\n",
    "ax[1].legend(bbox_to_anchor=(0.8, -0.05),  bbox_transform=fig.transFigure, ncol=2)\n",
    "fig.savefig(Path(setup.temp_path).joinpath('A40_PLOT_enc_flag_mean_raw.png'),\n",
    "        bbox_inches='tight')"
   ]
  },
  {
   "cell_type": "code",
   "execution_count": 97,
   "id": "84a2ebb5-b932-4f7b-a834-ed1a7e3d7dba",
   "metadata": {},
   "outputs": [],
   "source": [
    "enc_flag_agg_test.to_csv(Path(setup.temp_path).joinpath('A40_REPORT_importance_enc_flag_test.csv'))\n",
    "enc_flag_agg_ho.to_csv(Path(setup.temp_path).joinpath('A40_REPORT_importance_enc_flag_ho.csv'))"
   ]
  },
  {
   "cell_type": "markdown",
   "id": "42902a13-403e-4143-8339-1d40831df93b",
   "metadata": {},
   "source": [
    "## Detail Importances"
   ]
  },
  {
   "cell_type": "markdown",
   "id": "8764aed4-a003-4255-9ef2-6d4ba3ffc319",
   "metadata": {},
   "source": [
    "##### Get mean abs shap, grouping non-encoding features into \"other\"\n",
    "We only need this for the models with more than one encoding feature"
   ]
  },
  {
   "cell_type": "code",
   "execution_count": 98,
   "id": "4fb5354f-f5fe-4de6-b578-e2237c4caffb",
   "metadata": {},
   "outputs": [],
   "source": [
    "def get_importances(long_df):\n",
    "    agg_1 = long_df[long_df['enc_flag'] == 0] \\\n",
    "        .groupby(['model', 'index']) \\\n",
    "        .agg('sum') \\\n",
    "        .reset_index(level=0)\n",
    "    agg_1['variable'] = 'other'\n",
    "    agg_2 = pd.concat([agg_1,long_df[long_df['enc_flag'] == 1]])\n",
    "    agg_2['value_abs'] = np.abs(agg_2['value'])\n",
    "    \n",
    "    imp_df = agg_2.groupby(['model', 'variable']) \\\n",
    "        ['value_abs'] \\\n",
    "        .agg('mean') \\\n",
    "        .reset_index()\n",
    "    imp_df['model_label']  = setup.label_models(imp_df)\n",
    "    return imp_df"
   ]
  },
  {
   "cell_type": "code",
   "execution_count": 99,
   "id": "13c5a103-8661-468e-ae86-36837cd989db",
   "metadata": {},
   "outputs": [],
   "source": [
    "import_all_disp= ['menc_all', 'tt', 'tc']"
   ]
  },
  {
   "cell_type": "code",
   "execution_count": 100,
   "id": "748c9d89-a13f-4cc4-b6e7-1805280c2e08",
   "metadata": {},
   "outputs": [
    {
     "data": {
      "text/html": [
       "<div>\n",
       "<style scoped>\n",
       "    .dataframe tbody tr th:only-of-type {\n",
       "        vertical-align: middle;\n",
       "    }\n",
       "\n",
       "    .dataframe tbody tr th {\n",
       "        vertical-align: top;\n",
       "    }\n",
       "\n",
       "    .dataframe thead th {\n",
       "        text-align: right;\n",
       "    }\n",
       "</style>\n",
       "<table border=\"1\" class=\"dataframe\">\n",
       "  <thead>\n",
       "    <tr style=\"text-align: right;\">\n",
       "      <th></th>\n",
       "      <th>model</th>\n",
       "      <th>variable</th>\n",
       "      <th>value_abs</th>\n",
       "      <th>model_label</th>\n",
       "    </tr>\n",
       "  </thead>\n",
       "  <tbody>\n",
       "    <tr>\n",
       "      <th>2</th>\n",
       "      <td>menc_all</td>\n",
       "      <td>menc_NAICS</td>\n",
       "      <td>0.302684</td>\n",
       "      <td>Target Encoding (all)</td>\n",
       "    </tr>\n",
       "    <tr>\n",
       "      <th>3</th>\n",
       "      <td>menc_all</td>\n",
       "      <td>menc_NAICS_3</td>\n",
       "      <td>0.019705</td>\n",
       "      <td>Target Encoding (all)</td>\n",
       "    </tr>\n",
       "    <tr>\n",
       "      <th>4</th>\n",
       "      <td>menc_all</td>\n",
       "      <td>menc_NAICS_4</td>\n",
       "      <td>0.047046</td>\n",
       "      <td>Target Encoding (all)</td>\n",
       "    </tr>\n",
       "    <tr>\n",
       "      <th>5</th>\n",
       "      <td>menc_all</td>\n",
       "      <td>menc_NAICS_5</td>\n",
       "      <td>0.043018</td>\n",
       "      <td>Target Encoding (all)</td>\n",
       "    </tr>\n",
       "    <tr>\n",
       "      <th>6</th>\n",
       "      <td>menc_all</td>\n",
       "      <td>menc_NAICS_sector</td>\n",
       "      <td>0.015127</td>\n",
       "      <td>Target Encoding (all)</td>\n",
       "    </tr>\n",
       "    <tr>\n",
       "      <th>7</th>\n",
       "      <td>menc_all</td>\n",
       "      <td>other</td>\n",
       "      <td>0.555496</td>\n",
       "      <td>Target Encoding (all)</td>\n",
       "    </tr>\n",
       "    <tr>\n",
       "      <th>10</th>\n",
       "      <td>tc</td>\n",
       "      <td>NAICS_3_count</td>\n",
       "      <td>0.000000</td>\n",
       "      <td>Target+Count Encoding</td>\n",
       "    </tr>\n",
       "    <tr>\n",
       "      <th>11</th>\n",
       "      <td>tc</td>\n",
       "      <td>NAICS_3_response</td>\n",
       "      <td>0.021790</td>\n",
       "      <td>Target+Count Encoding</td>\n",
       "    </tr>\n",
       "    <tr>\n",
       "      <th>12</th>\n",
       "      <td>tc</td>\n",
       "      <td>NAICS_4_count</td>\n",
       "      <td>0.000000</td>\n",
       "      <td>Target+Count Encoding</td>\n",
       "    </tr>\n",
       "    <tr>\n",
       "      <th>13</th>\n",
       "      <td>tc</td>\n",
       "      <td>NAICS_4_response</td>\n",
       "      <td>0.038144</td>\n",
       "      <td>Target+Count Encoding</td>\n",
       "    </tr>\n",
       "    <tr>\n",
       "      <th>14</th>\n",
       "      <td>tc</td>\n",
       "      <td>NAICS_5_count</td>\n",
       "      <td>0.002249</td>\n",
       "      <td>Target+Count Encoding</td>\n",
       "    </tr>\n",
       "    <tr>\n",
       "      <th>15</th>\n",
       "      <td>tc</td>\n",
       "      <td>NAICS_5_response</td>\n",
       "      <td>0.048732</td>\n",
       "      <td>Target+Count Encoding</td>\n",
       "    </tr>\n",
       "    <tr>\n",
       "      <th>16</th>\n",
       "      <td>tc</td>\n",
       "      <td>NAICS_count</td>\n",
       "      <td>0.005923</td>\n",
       "      <td>Target+Count Encoding</td>\n",
       "    </tr>\n",
       "    <tr>\n",
       "      <th>17</th>\n",
       "      <td>tc</td>\n",
       "      <td>NAICS_response</td>\n",
       "      <td>0.301647</td>\n",
       "      <td>Target+Count Encoding</td>\n",
       "    </tr>\n",
       "    <tr>\n",
       "      <th>18</th>\n",
       "      <td>tc</td>\n",
       "      <td>NAICS_sector_count</td>\n",
       "      <td>0.000000</td>\n",
       "      <td>Target+Count Encoding</td>\n",
       "    </tr>\n",
       "    <tr>\n",
       "      <th>19</th>\n",
       "      <td>tc</td>\n",
       "      <td>NAICS_sector_response</td>\n",
       "      <td>0.014237</td>\n",
       "      <td>Target+Count Encoding</td>\n",
       "    </tr>\n",
       "    <tr>\n",
       "      <th>20</th>\n",
       "      <td>tc</td>\n",
       "      <td>other</td>\n",
       "      <td>0.553378</td>\n",
       "      <td>Target+Count Encoding</td>\n",
       "    </tr>\n",
       "    <tr>\n",
       "      <th>21</th>\n",
       "      <td>tt</td>\n",
       "      <td>other</td>\n",
       "      <td>0.562067</td>\n",
       "      <td>Target-Thresh Encoding</td>\n",
       "    </tr>\n",
       "    <tr>\n",
       "      <th>22</th>\n",
       "      <td>tt</td>\n",
       "      <td>tt_NAICS</td>\n",
       "      <td>0.251250</td>\n",
       "      <td>Target-Thresh Encoding</td>\n",
       "    </tr>\n",
       "    <tr>\n",
       "      <th>23</th>\n",
       "      <td>tt</td>\n",
       "      <td>tt_NAICS_3</td>\n",
       "      <td>0.022327</td>\n",
       "      <td>Target-Thresh Encoding</td>\n",
       "    </tr>\n",
       "    <tr>\n",
       "      <th>24</th>\n",
       "      <td>tt</td>\n",
       "      <td>tt_NAICS_4</td>\n",
       "      <td>0.046387</td>\n",
       "      <td>Target-Thresh Encoding</td>\n",
       "    </tr>\n",
       "    <tr>\n",
       "      <th>25</th>\n",
       "      <td>tt</td>\n",
       "      <td>tt_NAICS_5</td>\n",
       "      <td>0.058189</td>\n",
       "      <td>Target-Thresh Encoding</td>\n",
       "    </tr>\n",
       "    <tr>\n",
       "      <th>26</th>\n",
       "      <td>tt</td>\n",
       "      <td>tt_NAICS_sector</td>\n",
       "      <td>0.015415</td>\n",
       "      <td>Target-Thresh Encoding</td>\n",
       "    </tr>\n",
       "  </tbody>\n",
       "</table>\n",
       "</div>"
      ],
      "text/plain": [
       "       model               variable  value_abs             model_label\n",
       "2   menc_all             menc_NAICS   0.302684   Target Encoding (all)\n",
       "3   menc_all           menc_NAICS_3   0.019705   Target Encoding (all)\n",
       "4   menc_all           menc_NAICS_4   0.047046   Target Encoding (all)\n",
       "5   menc_all           menc_NAICS_5   0.043018   Target Encoding (all)\n",
       "6   menc_all      menc_NAICS_sector   0.015127   Target Encoding (all)\n",
       "7   menc_all                  other   0.555496   Target Encoding (all)\n",
       "10        tc          NAICS_3_count   0.000000   Target+Count Encoding\n",
       "11        tc       NAICS_3_response   0.021790   Target+Count Encoding\n",
       "12        tc          NAICS_4_count   0.000000   Target+Count Encoding\n",
       "13        tc       NAICS_4_response   0.038144   Target+Count Encoding\n",
       "14        tc          NAICS_5_count   0.002249   Target+Count Encoding\n",
       "15        tc       NAICS_5_response   0.048732   Target+Count Encoding\n",
       "16        tc            NAICS_count   0.005923   Target+Count Encoding\n",
       "17        tc         NAICS_response   0.301647   Target+Count Encoding\n",
       "18        tc     NAICS_sector_count   0.000000   Target+Count Encoding\n",
       "19        tc  NAICS_sector_response   0.014237   Target+Count Encoding\n",
       "20        tc                  other   0.553378   Target+Count Encoding\n",
       "21        tt                  other   0.562067  Target-Thresh Encoding\n",
       "22        tt               tt_NAICS   0.251250  Target-Thresh Encoding\n",
       "23        tt             tt_NAICS_3   0.022327  Target-Thresh Encoding\n",
       "24        tt             tt_NAICS_4   0.046387  Target-Thresh Encoding\n",
       "25        tt             tt_NAICS_5   0.058189  Target-Thresh Encoding\n",
       "26        tt        tt_NAICS_sector   0.015415  Target-Thresh Encoding"
      ]
     },
     "execution_count": 100,
     "metadata": {},
     "output_type": "execute_result"
    }
   ],
   "source": [
    "import_all_test = get_importances(shap_all_long_test)\n",
    "import_all_test.to_csv(Path(setup.temp_path).joinpath('A40_REPORT_importance_detail_test.csv'))\n",
    "import_all_test[import_all_test['model'].isin(import_all_disp)]"
   ]
  },
  {
   "cell_type": "code",
   "execution_count": 101,
   "id": "9a972b8b-e7f8-4429-9d88-200c4e19c50b",
   "metadata": {},
   "outputs": [
    {
     "data": {
      "text/html": [
       "<div>\n",
       "<style scoped>\n",
       "    .dataframe tbody tr th:only-of-type {\n",
       "        vertical-align: middle;\n",
       "    }\n",
       "\n",
       "    .dataframe tbody tr th {\n",
       "        vertical-align: top;\n",
       "    }\n",
       "\n",
       "    .dataframe thead th {\n",
       "        text-align: right;\n",
       "    }\n",
       "</style>\n",
       "<table border=\"1\" class=\"dataframe\">\n",
       "  <thead>\n",
       "    <tr style=\"text-align: right;\">\n",
       "      <th></th>\n",
       "      <th>model</th>\n",
       "      <th>variable</th>\n",
       "      <th>value_abs</th>\n",
       "      <th>model_label</th>\n",
       "    </tr>\n",
       "  </thead>\n",
       "  <tbody>\n",
       "    <tr>\n",
       "      <th>2</th>\n",
       "      <td>menc_all</td>\n",
       "      <td>menc_NAICS</td>\n",
       "      <td>0.093559</td>\n",
       "      <td>Target Encoding (all)</td>\n",
       "    </tr>\n",
       "    <tr>\n",
       "      <th>3</th>\n",
       "      <td>menc_all</td>\n",
       "      <td>menc_NAICS_3</td>\n",
       "      <td>0.025926</td>\n",
       "      <td>Target Encoding (all)</td>\n",
       "    </tr>\n",
       "    <tr>\n",
       "      <th>4</th>\n",
       "      <td>menc_all</td>\n",
       "      <td>menc_NAICS_4</td>\n",
       "      <td>0.036070</td>\n",
       "      <td>Target Encoding (all)</td>\n",
       "    </tr>\n",
       "    <tr>\n",
       "      <th>5</th>\n",
       "      <td>menc_all</td>\n",
       "      <td>menc_NAICS_5</td>\n",
       "      <td>0.022228</td>\n",
       "      <td>Target Encoding (all)</td>\n",
       "    </tr>\n",
       "    <tr>\n",
       "      <th>6</th>\n",
       "      <td>menc_all</td>\n",
       "      <td>menc_NAICS_sector</td>\n",
       "      <td>0.014163</td>\n",
       "      <td>Target Encoding (all)</td>\n",
       "    </tr>\n",
       "    <tr>\n",
       "      <th>7</th>\n",
       "      <td>menc_all</td>\n",
       "      <td>other</td>\n",
       "      <td>0.640744</td>\n",
       "      <td>Target Encoding (all)</td>\n",
       "    </tr>\n",
       "    <tr>\n",
       "      <th>10</th>\n",
       "      <td>tc</td>\n",
       "      <td>NAICS_3_count</td>\n",
       "      <td>0.000000</td>\n",
       "      <td>Target+Count Encoding</td>\n",
       "    </tr>\n",
       "    <tr>\n",
       "      <th>11</th>\n",
       "      <td>tc</td>\n",
       "      <td>NAICS_3_response</td>\n",
       "      <td>0.029904</td>\n",
       "      <td>Target+Count Encoding</td>\n",
       "    </tr>\n",
       "    <tr>\n",
       "      <th>12</th>\n",
       "      <td>tc</td>\n",
       "      <td>NAICS_4_count</td>\n",
       "      <td>0.000000</td>\n",
       "      <td>Target+Count Encoding</td>\n",
       "    </tr>\n",
       "    <tr>\n",
       "      <th>13</th>\n",
       "      <td>tc</td>\n",
       "      <td>NAICS_4_response</td>\n",
       "      <td>0.029380</td>\n",
       "      <td>Target+Count Encoding</td>\n",
       "    </tr>\n",
       "    <tr>\n",
       "      <th>14</th>\n",
       "      <td>tc</td>\n",
       "      <td>NAICS_5_count</td>\n",
       "      <td>0.014351</td>\n",
       "      <td>Target+Count Encoding</td>\n",
       "    </tr>\n",
       "    <tr>\n",
       "      <th>15</th>\n",
       "      <td>tc</td>\n",
       "      <td>NAICS_5_response</td>\n",
       "      <td>0.027795</td>\n",
       "      <td>Target+Count Encoding</td>\n",
       "    </tr>\n",
       "    <tr>\n",
       "      <th>16</th>\n",
       "      <td>tc</td>\n",
       "      <td>NAICS_count</td>\n",
       "      <td>0.035002</td>\n",
       "      <td>Target+Count Encoding</td>\n",
       "    </tr>\n",
       "    <tr>\n",
       "      <th>17</th>\n",
       "      <td>tc</td>\n",
       "      <td>NAICS_response</td>\n",
       "      <td>0.103253</td>\n",
       "      <td>Target+Count Encoding</td>\n",
       "    </tr>\n",
       "    <tr>\n",
       "      <th>18</th>\n",
       "      <td>tc</td>\n",
       "      <td>NAICS_sector_count</td>\n",
       "      <td>0.000000</td>\n",
       "      <td>Target+Count Encoding</td>\n",
       "    </tr>\n",
       "    <tr>\n",
       "      <th>19</th>\n",
       "      <td>tc</td>\n",
       "      <td>NAICS_sector_response</td>\n",
       "      <td>0.012232</td>\n",
       "      <td>Target+Count Encoding</td>\n",
       "    </tr>\n",
       "    <tr>\n",
       "      <th>20</th>\n",
       "      <td>tc</td>\n",
       "      <td>other</td>\n",
       "      <td>0.665498</td>\n",
       "      <td>Target+Count Encoding</td>\n",
       "    </tr>\n",
       "    <tr>\n",
       "      <th>21</th>\n",
       "      <td>tt</td>\n",
       "      <td>other</td>\n",
       "      <td>0.693337</td>\n",
       "      <td>Target-Thresh Encoding</td>\n",
       "    </tr>\n",
       "    <tr>\n",
       "      <th>22</th>\n",
       "      <td>tt</td>\n",
       "      <td>tt_NAICS</td>\n",
       "      <td>0.134143</td>\n",
       "      <td>Target-Thresh Encoding</td>\n",
       "    </tr>\n",
       "    <tr>\n",
       "      <th>23</th>\n",
       "      <td>tt</td>\n",
       "      <td>tt_NAICS_3</td>\n",
       "      <td>0.031065</td>\n",
       "      <td>Target-Thresh Encoding</td>\n",
       "    </tr>\n",
       "    <tr>\n",
       "      <th>24</th>\n",
       "      <td>tt</td>\n",
       "      <td>tt_NAICS_4</td>\n",
       "      <td>0.071788</td>\n",
       "      <td>Target-Thresh Encoding</td>\n",
       "    </tr>\n",
       "    <tr>\n",
       "      <th>25</th>\n",
       "      <td>tt</td>\n",
       "      <td>tt_NAICS_5</td>\n",
       "      <td>0.045339</td>\n",
       "      <td>Target-Thresh Encoding</td>\n",
       "    </tr>\n",
       "    <tr>\n",
       "      <th>26</th>\n",
       "      <td>tt</td>\n",
       "      <td>tt_NAICS_sector</td>\n",
       "      <td>0.012781</td>\n",
       "      <td>Target-Thresh Encoding</td>\n",
       "    </tr>\n",
       "  </tbody>\n",
       "</table>\n",
       "</div>"
      ],
      "text/plain": [
       "       model               variable  value_abs             model_label\n",
       "2   menc_all             menc_NAICS   0.093559   Target Encoding (all)\n",
       "3   menc_all           menc_NAICS_3   0.025926   Target Encoding (all)\n",
       "4   menc_all           menc_NAICS_4   0.036070   Target Encoding (all)\n",
       "5   menc_all           menc_NAICS_5   0.022228   Target Encoding (all)\n",
       "6   menc_all      menc_NAICS_sector   0.014163   Target Encoding (all)\n",
       "7   menc_all                  other   0.640744   Target Encoding (all)\n",
       "10        tc          NAICS_3_count   0.000000   Target+Count Encoding\n",
       "11        tc       NAICS_3_response   0.029904   Target+Count Encoding\n",
       "12        tc          NAICS_4_count   0.000000   Target+Count Encoding\n",
       "13        tc       NAICS_4_response   0.029380   Target+Count Encoding\n",
       "14        tc          NAICS_5_count   0.014351   Target+Count Encoding\n",
       "15        tc       NAICS_5_response   0.027795   Target+Count Encoding\n",
       "16        tc            NAICS_count   0.035002   Target+Count Encoding\n",
       "17        tc         NAICS_response   0.103253   Target+Count Encoding\n",
       "18        tc     NAICS_sector_count   0.000000   Target+Count Encoding\n",
       "19        tc  NAICS_sector_response   0.012232   Target+Count Encoding\n",
       "20        tc                  other   0.665498   Target+Count Encoding\n",
       "21        tt                  other   0.693337  Target-Thresh Encoding\n",
       "22        tt               tt_NAICS   0.134143  Target-Thresh Encoding\n",
       "23        tt             tt_NAICS_3   0.031065  Target-Thresh Encoding\n",
       "24        tt             tt_NAICS_4   0.071788  Target-Thresh Encoding\n",
       "25        tt             tt_NAICS_5   0.045339  Target-Thresh Encoding\n",
       "26        tt        tt_NAICS_sector   0.012781  Target-Thresh Encoding"
      ]
     },
     "execution_count": 101,
     "metadata": {},
     "output_type": "execute_result"
    }
   ],
   "source": [
    "import_all_ho = get_importances(shap_all_long_ho)\n",
    "import_all_ho.to_csv(Path(setup.temp_path).joinpath('A40_REPORT_importance_detail_ho.csv'))\n",
    "import_all_ho[import_all_ho['model'].isin(import_all_disp)]"
   ]
  },
  {
   "cell_type": "markdown",
   "id": "44db414c-5397-48c9-be8d-adc1f231a636",
   "metadata": {},
   "source": [
    "##### Plot"
   ]
  },
  {
   "cell_type": "code",
   "execution_count": 102,
   "id": "798add65-917f-4d01-8d79-e4be79c158e5",
   "metadata": {},
   "outputs": [],
   "source": [
    "# Some data processing for bar plots\n",
    "def shap_import_bar_preprocess(data, values = 'value_abs', n_bars=7):\n",
    "    data= data.sort_values(values, ascending=False).head(n_bars).copy() \\\n",
    "        [['model_label', 'model', 'variable', values]]\n",
    "    data['model_label'] = data['model_label'].astype('str')\n",
    "    \n",
    "    # Rename features\n",
    "    if data['model'].iloc[0] in ['tt', 'menc_all']:\n",
    "        data['variable'] = data['variable'].where(~data['variable'].str.contains('NAICS'),\n",
    "                                              'NAICS' + data['variable'].str.split('NAICS').str[-1])\n",
    "    elif data['model'].iloc[0] == 'tc':\n",
    "                data['variable'] = data['variable'].where(~data['variable'].str.endswith('_response'),\n",
    "                                              data['variable'].str.replace('_response', ''))\n",
    "    return data"
   ]
  },
  {
   "cell_type": "code",
   "execution_count": 103,
   "id": "54c5c85e-816f-41a8-8c62-01f17c340d2b",
   "metadata": {},
   "outputs": [],
   "source": [
    "# Function to do bar plot for one model\n",
    "def shap_import_bar(data, values = 'value_abs',\n",
    "                      xlabel = None, ax = None,\n",
    "                   n_bars=7):\n",
    "\n",
    "    # Feature selection, renaming\n",
    "    data = shap_import_bar_preprocess(data, values, n_bars)\n",
    "    \n",
    "    if ax is None:\n",
    "        fig, ax = plt.subplots(figsize = (4, 3))\n",
    "        \n",
    "    data.plot(x='variable', y=values, ax=ax, kind='barh', legend=None)\n",
    "    ax.invert_yaxis()\n",
    "    ax.set_ylabel(None)\n",
    "    ax.set_title(data['model_label'].iloc[0])\n",
    "    ax.set_xlabel(xlabel)\n",
    "    #ax.legend(bbox_to_anchor=(0.8, -0.05),  bbox_transform=fig.transFigure, ncol=2)"
   ]
  },
  {
   "cell_type": "code",
   "execution_count": 104,
   "id": "d4faf7f2-6767-49a9-98fb-8630ebe24a1f",
   "metadata": {},
   "outputs": [
    {
     "data": {
      "image/png": "[encoded data removed]",
      "text/plain": [
       "<Figure size 600x600 with 3 Axes>"
      ]
     },
     "metadata": {},
     "output_type": "display_data"
    }
   ],
   "source": [
    "fig, ax = plt.subplots(3, 1, sharex = True, sharey = False, figsize=(6, 6),\n",
    "                      layout='constrained')\n",
    "shap_import_bar(import_all_ho[import_all_ho['model'] == 'menc_all'], ax=ax[0])\n",
    "shap_import_bar(import_all_ho[import_all_ho['model'] == 'tc'], ax=ax[1])\n",
    "shap_import_bar(import_all_ho[import_all_ho['model'] == 'tt'], ax=ax[2])\n",
    "fig.suptitle('Holdout NAICS Data')\n",
    "fig.supxlabel('mean abs SHAP value')\n",
    "fig.savefig(Path(setup.temp_path).joinpath('A41_PLOT_importancs_holdout.png'))"
   ]
  },
  {
   "cell_type": "code",
   "execution_count": 105,
   "id": "09dc5150-d709-4dba-bc89-98d61fde449a",
   "metadata": {},
   "outputs": [
    {
     "data": {
      "image/png": "[encoded data removed]",
      "text/plain": [
       "<Figure size 600x600 with 3 Axes>"
      ]
     },
     "metadata": {},
     "output_type": "display_data"
    }
   ],
   "source": [
    "fig, ax = plt.subplots(3, 1, sharex = True, sharey = False, figsize=(6, 6),\n",
    "                      layout='constrained')\n",
    "shap_import_bar(import_all_test[import_all_test['model'] == 'menc_all'], ax=ax[0])\n",
    "shap_import_bar(import_all_test[import_all_test['model'] == 'tc'], ax=ax[1])\n",
    "shap_import_bar(import_all_test[import_all_test['model'] == 'tt'], ax=ax[2])\n",
    "fig.suptitle('Test Data')\n",
    "fig.supxlabel('mean abs SHAP value')\n",
    "fig.savefig(Path(setup.temp_path).joinpath('A41_PLOT_importancs_test.png'))"
   ]
  },
  {
   "cell_type": "markdown",
   "id": "b8dc7496-611b-4f9b-aa92-2a9264f906b3",
   "metadata": {},
   "source": [
    "#### Single, bi-color plot"
   ]
  },
  {
   "cell_type": "code",
   "execution_count": 106,
   "id": "e8f8a09b-55d8-4aff-9959-23a38b1ea91e",
   "metadata": {},
   "outputs": [],
   "source": [
    "# Function to do bar plot for one model\n",
    "def shap_import_bar_2color(data_test, data_holdout, values = 'value_abs',\n",
    "                      xlabel = None, ax = None,\n",
    "                   n_bars=7):\n",
    "\n",
    "    data_test = shap_import_bar_preprocess(data_test, values, n_bars)\n",
    "    data_holdout = shap_import_bar_preprocess(data_holdout, values, n_bars)\n",
    "    \n",
    "    data = pd.concat([data_test, data_holdout], keys=['test', 'holdout']) \\\n",
    "        .reset_index(level=0)\n",
    "    \n",
    "    data_pivot = data.pivot(index=['variable'], columns=['level_0'],\n",
    "                                      values = values) \\\n",
    "        .sort_values('test', ascending=False)\n",
    "    \n",
    "    data_pivot = data_pivot[['test', 'holdout']]\n",
    "    \n",
    "    if ax is None:\n",
    "        fig, ax = plt.subplots(figsize = (4, 3))\n",
    "        \n",
    "    data_pivot.plot(kind='barh', ax=ax, width=0.9)\n",
    "    ax.invert_yaxis()\n",
    "    ax.set_ylabel(None)\n",
    "    ax.set_title(data['model_label'].iloc[0])\n",
    "    ax.set_xlabel(xlabel)\n",
    "    ax.legend(title=None)"
   ]
  },
  {
   "cell_type": "code",
   "execution_count": 107,
   "id": "a43dbb28-53c2-4885-8428-66c1b63aff20",
   "metadata": {},
   "outputs": [
    {
     "data": {
      "text/plain": [
       "Text(0.5, 0.01, 'mean abs SHAP value')"
      ]
     },
     "execution_count": 107,
     "metadata": {},
     "output_type": "execute_result"
    },
    {
     "data": {
      "image/png": "[encoded data removed]",
      "text/plain": [
       "<Figure size 600x600 with 3 Axes>"
      ]
     },
     "metadata": {},
     "output_type": "display_data"
    }
   ],
   "source": [
    "models = ['menc_all', 'tc', 'tt']\n",
    "fig, ax = plt.subplots(3, 1, sharex = True, sharey = False, figsize=(6, 6),\n",
    "                      layout='constrained')\n",
    "for i, model in enumerate(models):\n",
    "    shap_import_bar_2color(import_all_test[import_all_test['model'] == model],\n",
    "                       import_all_ho[import_all_ho['model'] == model],\n",
    "                          ax=ax[i])\n",
    "fig.suptitle('SHAP Importances: DGI Hierarchy')\n",
    "fig.supxlabel('mean abs SHAP value')"
   ]
  },
  {
   "cell_type": "markdown",
   "id": "e14d7403-0c27-477f-8297-26e6af7b8843",
   "metadata": {
    "tags": []
   },
   "source": [
    "## 3 Bar Plot\n",
    "Show other features, main NAICS feature, and all other features as importance"
   ]
  },
  {
   "cell_type": "code",
   "execution_count": 114,
   "id": "45385505-32d6-42db-a360-21dc7996355d",
   "metadata": {},
   "outputs": [],
   "source": [
    "def agg_enc_3way(data):\n",
    "    data = data.copy()\n",
    "    cond = [data['enc_flag'] == 0,\n",
    "            data['variable'].isin(['NAICS_NAICS', 'NAICS_response','mhier_NAICS_alt', 'menc_NAICS',\n",
    "                                  'NAICS', 'mhier_NAICS', 'tt_NAICS'])]\n",
    "    choice = ['Other Features', 'NAICS-Primary',]\n",
    "    cat_type= pd.CategoricalDtype(categories = ['Other Features', 'NAICS-Primary', 'NAICS-Hier/Other'],\n",
    "                                 ordered=True)\n",
    "    data['type'] = pd.Series(np.select(cond, choice, 'NAICS-Hier/Other')).astype(cat_type)\n",
    "    data_1 = data \\\n",
    "        .groupby(['model', 'type', 'index']) \\\n",
    "        ['value'] \\\n",
    "        .agg('sum') \\\n",
    "        .reset_index(level=[0,1])\n",
    "    data_1['value_abs'] = np.abs(data_1['value'])\n",
    "    data_2 = data_1 \\\n",
    "        .groupby(['model', 'type']) \\\n",
    "        [['value_abs', 'value']] \\\n",
    "        .agg('mean') \\\n",
    "        .reset_index()\n",
    "    return data_2"
   ]
  },
  {
   "cell_type": "code",
   "execution_count": 115,
   "id": "0879922c-1783-4d54-8c5a-fc788bfe6a75",
   "metadata": {},
   "outputs": [
    {
     "data": {
      "text/html": [
       "<div>\n",
       "<style scoped>\n",
       "    .dataframe tbody tr th:only-of-type {\n",
       "        vertical-align: middle;\n",
       "    }\n",
       "\n",
       "    .dataframe tbody tr th {\n",
       "        vertical-align: top;\n",
       "    }\n",
       "\n",
       "    .dataframe thead th {\n",
       "        text-align: right;\n",
       "    }\n",
       "</style>\n",
       "<table border=\"1\" class=\"dataframe\">\n",
       "  <thead>\n",
       "    <tr style=\"text-align: right;\">\n",
       "      <th></th>\n",
       "      <th>model</th>\n",
       "      <th>type</th>\n",
       "      <th>value_abs</th>\n",
       "      <th>value</th>\n",
       "    </tr>\n",
       "  </thead>\n",
       "  <tbody>\n",
       "    <tr>\n",
       "      <th>0</th>\n",
       "      <td>menc</td>\n",
       "      <td>Other Features</td>\n",
       "      <td>0.554551</td>\n",
       "      <td>-0.143952</td>\n",
       "    </tr>\n",
       "    <tr>\n",
       "      <th>1</th>\n",
       "      <td>menc</td>\n",
       "      <td>NAICS-Primary</td>\n",
       "      <td>0.366625</td>\n",
       "      <td>-0.059871</td>\n",
       "    </tr>\n",
       "    <tr>\n",
       "      <th>2</th>\n",
       "      <td>menc</td>\n",
       "      <td>NAICS-Hier/Other</td>\n",
       "      <td>0.000000</td>\n",
       "      <td>0.000000</td>\n",
       "    </tr>\n",
       "    <tr>\n",
       "      <th>3</th>\n",
       "      <td>menc_all</td>\n",
       "      <td>Other Features</td>\n",
       "      <td>0.555496</td>\n",
       "      <td>-0.143553</td>\n",
       "    </tr>\n",
       "    <tr>\n",
       "      <th>4</th>\n",
       "      <td>menc_all</td>\n",
       "      <td>NAICS-Primary</td>\n",
       "      <td>0.302684</td>\n",
       "      <td>-0.049849</td>\n",
       "    </tr>\n",
       "    <tr>\n",
       "      <th>5</th>\n",
       "      <td>menc_all</td>\n",
       "      <td>NAICS-Hier/Other</td>\n",
       "      <td>0.094144</td>\n",
       "      <td>-0.010697</td>\n",
       "    </tr>\n",
       "    <tr>\n",
       "      <th>6</th>\n",
       "      <td>mhier</td>\n",
       "      <td>Other Features</td>\n",
       "      <td>0.548655</td>\n",
       "      <td>-0.142541</td>\n",
       "    </tr>\n",
       "    <tr>\n",
       "      <th>7</th>\n",
       "      <td>mhier</td>\n",
       "      <td>NAICS-Primary</td>\n",
       "      <td>0.366027</td>\n",
       "      <td>-0.063126</td>\n",
       "    </tr>\n",
       "    <tr>\n",
       "      <th>8</th>\n",
       "      <td>mhier</td>\n",
       "      <td>NAICS-Hier/Other</td>\n",
       "      <td>0.000000</td>\n",
       "      <td>0.000000</td>\n",
       "    </tr>\n",
       "    <tr>\n",
       "      <th>9</th>\n",
       "      <td>tc</td>\n",
       "      <td>Other Features</td>\n",
       "      <td>0.553378</td>\n",
       "      <td>-0.142560</td>\n",
       "    </tr>\n",
       "    <tr>\n",
       "      <th>10</th>\n",
       "      <td>tc</td>\n",
       "      <td>NAICS-Primary</td>\n",
       "      <td>0.301647</td>\n",
       "      <td>-0.048644</td>\n",
       "    </tr>\n",
       "    <tr>\n",
       "      <th>11</th>\n",
       "      <td>tc</td>\n",
       "      <td>NAICS-Hier/Other</td>\n",
       "      <td>0.093210</td>\n",
       "      <td>-0.012713</td>\n",
       "    </tr>\n",
       "    <tr>\n",
       "      <th>12</th>\n",
       "      <td>tt</td>\n",
       "      <td>Other Features</td>\n",
       "      <td>0.562067</td>\n",
       "      <td>-0.141959</td>\n",
       "    </tr>\n",
       "    <tr>\n",
       "      <th>13</th>\n",
       "      <td>tt</td>\n",
       "      <td>NAICS-Primary</td>\n",
       "      <td>0.251250</td>\n",
       "      <td>-0.041106</td>\n",
       "    </tr>\n",
       "    <tr>\n",
       "      <th>14</th>\n",
       "      <td>tt</td>\n",
       "      <td>NAICS-Hier/Other</td>\n",
       "      <td>0.111318</td>\n",
       "      <td>-0.021045</td>\n",
       "    </tr>\n",
       "  </tbody>\n",
       "</table>\n",
       "</div>"
      ],
      "text/plain": [
       "       model              type  value_abs     value\n",
       "0       menc    Other Features   0.554551 -0.143952\n",
       "1       menc     NAICS-Primary   0.366625 -0.059871\n",
       "2       menc  NAICS-Hier/Other   0.000000  0.000000\n",
       "3   menc_all    Other Features   0.555496 -0.143553\n",
       "4   menc_all     NAICS-Primary   0.302684 -0.049849\n",
       "5   menc_all  NAICS-Hier/Other   0.094144 -0.010697\n",
       "6      mhier    Other Features   0.548655 -0.142541\n",
       "7      mhier     NAICS-Primary   0.366027 -0.063126\n",
       "8      mhier  NAICS-Hier/Other   0.000000  0.000000\n",
       "9         tc    Other Features   0.553378 -0.142560\n",
       "10        tc     NAICS-Primary   0.301647 -0.048644\n",
       "11        tc  NAICS-Hier/Other   0.093210 -0.012713\n",
       "12        tt    Other Features   0.562067 -0.141959\n",
       "13        tt     NAICS-Primary   0.251250 -0.041106\n",
       "14        tt  NAICS-Hier/Other   0.111318 -0.021045"
      ]
     },
     "execution_count": 115,
     "metadata": {},
     "output_type": "execute_result"
    }
   ],
   "source": [
    "enc_way_test = agg_enc_3way(shap_all_long_test)\n",
    "enc_way_test"
   ]
  },
  {
   "cell_type": "code",
   "execution_count": 116,
   "id": "08076975-3a7c-4457-bb47-dd64b1292fa4",
   "metadata": {},
   "outputs": [
    {
     "data": {
      "text/html": [
       "<div>\n",
       "<style scoped>\n",
       "    .dataframe tbody tr th:only-of-type {\n",
       "        vertical-align: middle;\n",
       "    }\n",
       "\n",
       "    .dataframe tbody tr th {\n",
       "        vertical-align: top;\n",
       "    }\n",
       "\n",
       "    .dataframe thead th {\n",
       "        text-align: right;\n",
       "    }\n",
       "</style>\n",
       "<table border=\"1\" class=\"dataframe\">\n",
       "  <thead>\n",
       "    <tr style=\"text-align: right;\">\n",
       "      <th></th>\n",
       "      <th>model</th>\n",
       "      <th>type</th>\n",
       "      <th>value_abs</th>\n",
       "      <th>value</th>\n",
       "    </tr>\n",
       "  </thead>\n",
       "  <tbody>\n",
       "    <tr>\n",
       "      <th>0</th>\n",
       "      <td>menc</td>\n",
       "      <td>Other Features</td>\n",
       "      <td>0.648219</td>\n",
       "      <td>-0.259119</td>\n",
       "    </tr>\n",
       "    <tr>\n",
       "      <th>1</th>\n",
       "      <td>menc</td>\n",
       "      <td>NAICS-Primary</td>\n",
       "      <td>0.093835</td>\n",
       "      <td>0.093832</td>\n",
       "    </tr>\n",
       "    <tr>\n",
       "      <th>2</th>\n",
       "      <td>menc</td>\n",
       "      <td>NAICS-Hier/Other</td>\n",
       "      <td>0.000000</td>\n",
       "      <td>0.000000</td>\n",
       "    </tr>\n",
       "    <tr>\n",
       "      <th>3</th>\n",
       "      <td>menc_all</td>\n",
       "      <td>Other Features</td>\n",
       "      <td>0.640744</td>\n",
       "      <td>-0.255134</td>\n",
       "    </tr>\n",
       "    <tr>\n",
       "      <th>4</th>\n",
       "      <td>menc_all</td>\n",
       "      <td>NAICS-Primary</td>\n",
       "      <td>0.093559</td>\n",
       "      <td>0.093554</td>\n",
       "    </tr>\n",
       "    <tr>\n",
       "      <th>5</th>\n",
       "      <td>menc_all</td>\n",
       "      <td>NAICS-Hier/Other</td>\n",
       "      <td>0.058392</td>\n",
       "      <td>-0.028270</td>\n",
       "    </tr>\n",
       "    <tr>\n",
       "      <th>6</th>\n",
       "      <td>mhier</td>\n",
       "      <td>Other Features</td>\n",
       "      <td>0.612161</td>\n",
       "      <td>-0.231707</td>\n",
       "    </tr>\n",
       "    <tr>\n",
       "      <th>7</th>\n",
       "      <td>mhier</td>\n",
       "      <td>NAICS-Primary</td>\n",
       "      <td>0.342198</td>\n",
       "      <td>-0.063008</td>\n",
       "    </tr>\n",
       "    <tr>\n",
       "      <th>8</th>\n",
       "      <td>mhier</td>\n",
       "      <td>NAICS-Hier/Other</td>\n",
       "      <td>0.000000</td>\n",
       "      <td>0.000000</td>\n",
       "    </tr>\n",
       "    <tr>\n",
       "      <th>9</th>\n",
       "      <td>tc</td>\n",
       "      <td>Other Features</td>\n",
       "      <td>0.665498</td>\n",
       "      <td>-0.265534</td>\n",
       "    </tr>\n",
       "    <tr>\n",
       "      <th>10</th>\n",
       "      <td>tc</td>\n",
       "      <td>NAICS-Primary</td>\n",
       "      <td>0.103253</td>\n",
       "      <td>0.103252</td>\n",
       "    </tr>\n",
       "    <tr>\n",
       "      <th>11</th>\n",
       "      <td>tc</td>\n",
       "      <td>NAICS-Hier/Other</td>\n",
       "      <td>0.096189</td>\n",
       "      <td>-0.074556</td>\n",
       "    </tr>\n",
       "    <tr>\n",
       "      <th>12</th>\n",
       "      <td>tt</td>\n",
       "      <td>Other Features</td>\n",
       "      <td>0.693337</td>\n",
       "      <td>-0.209219</td>\n",
       "    </tr>\n",
       "    <tr>\n",
       "      <th>13</th>\n",
       "      <td>tt</td>\n",
       "      <td>NAICS-Primary</td>\n",
       "      <td>0.134143</td>\n",
       "      <td>-0.134081</td>\n",
       "    </tr>\n",
       "    <tr>\n",
       "      <th>14</th>\n",
       "      <td>tt</td>\n",
       "      <td>NAICS-Hier/Other</td>\n",
       "      <td>0.117021</td>\n",
       "      <td>-0.025481</td>\n",
       "    </tr>\n",
       "  </tbody>\n",
       "</table>\n",
       "</div>"
      ],
      "text/plain": [
       "       model              type  value_abs     value\n",
       "0       menc    Other Features   0.648219 -0.259119\n",
       "1       menc     NAICS-Primary   0.093835  0.093832\n",
       "2       menc  NAICS-Hier/Other   0.000000  0.000000\n",
       "3   menc_all    Other Features   0.640744 -0.255134\n",
       "4   menc_all     NAICS-Primary   0.093559  0.093554\n",
       "5   menc_all  NAICS-Hier/Other   0.058392 -0.028270\n",
       "6      mhier    Other Features   0.612161 -0.231707\n",
       "7      mhier     NAICS-Primary   0.342198 -0.063008\n",
       "8      mhier  NAICS-Hier/Other   0.000000  0.000000\n",
       "9         tc    Other Features   0.665498 -0.265534\n",
       "10        tc     NAICS-Primary   0.103253  0.103252\n",
       "11        tc  NAICS-Hier/Other   0.096189 -0.074556\n",
       "12        tt    Other Features   0.693337 -0.209219\n",
       "13        tt     NAICS-Primary   0.134143 -0.134081\n",
       "14        tt  NAICS-Hier/Other   0.117021 -0.025481"
      ]
     },
     "execution_count": 116,
     "metadata": {},
     "output_type": "execute_result"
    }
   ],
   "source": [
    "enc_way_ho =  agg_enc_3way(shap_all_long_ho)\n",
    "enc_way_ho"
   ]
  },
  {
   "cell_type": "code",
   "execution_count": 190,
   "id": "9866bd28-6c7a-4993-9883-6b382b129ca1",
   "metadata": {},
   "outputs": [],
   "source": [
    "enc_way_test.to_csv(Path(setup.temp_path).joinpath('A40_DATA_shap_three_grp_test.csv'))\n",
    "enc_way_ho.to_csv(Path(setup.temp_path).joinpath('A40_DATA_shap_three_grp_ho.csv'))"
   ]
  },
  {
   "cell_type": "code",
   "execution_count": 183,
   "id": "91bb550e-6b55-45b9-9094-e9bdf09bedbb",
   "metadata": {},
   "outputs": [],
   "source": [
    "# Function to do bar plot\n",
    "def shap_3way_bar(data, values = 'value_abs',\n",
    "                      title = None, xlabel = None, ax = None,\n",
    "                 figsize = None):\n",
    "    \n",
    "    # Label models\n",
    "    data = data.copy()\n",
    "    data['model_label']  = setup.label_models(data)\n",
    "\n",
    "    if ax is None:\n",
    "        fig, ax = plt.subplots(figsize = (4, 3))\n",
    "    data_pivot = data.pivot(index='model_label', columns='type', values=values) \\\n",
    "        .reset_index()\n",
    "    data_pivot['model_label'] = data_pivot['model_label'].astype(setup.model_label_type)\n",
    "    data_pivot.sort_values('model_label').set_index('model_label') \\\n",
    "        .plot(kind='barh', ax=ax, width=0.7, figsize=figsize)\n",
    "    ax.invert_yaxis()\n",
    "    ax.set_ylabel(None)\n",
    "    ax.set_title(title)\n",
    "    ax.set_xlabel(xlabel)\n",
    "    #ax.legend(bbox_to_anchor=(0.8, -0.05),  bbox_transform=fig.transFigure, ncol=2)"
   ]
  },
  {
   "cell_type": "code",
   "execution_count": 184,
   "id": "4a45d65f-1373-486e-bffe-5a2ec4d2ee3f",
   "metadata": {},
   "outputs": [
    {
     "data": {
      "image/png": "[encoded data removed]",
      "text/plain": [
       "<Figure size 600x250 with 2 Axes>"
      ]
     },
     "metadata": {},
     "output_type": "display_data"
    }
   ],
   "source": [
    "fig, ax = plt.subplots(1, 2, sharex = True, sharey = True, figsize=(6, 2.5))\n",
    "shap_3way_bar(enc_way_test, 'value_abs', ax=ax[0], title='Test Data',\n",
    "                     xlabel='mean abs SHAP value')\n",
    "shap_3way_bar(enc_way_ho, 'value_abs', ax=ax[1], title='Holdout NAICS Data',\n",
    "                     xlabel='mean abs SHAP value')\n",
    "ax[0].get_legend().remove()\n",
    "ax[0].set_xlim(0, 0.8)\n",
    "ax[1].set_xlim(0, 0.8)\n",
    "ax[1].legend(bbox_to_anchor=(0.8, -0.05),  bbox_transform=fig.transFigure, ncol=3)\n",
    "fig.savefig(Path(setup.temp_path).joinpath('A40_PLOT_enc_type_3bar.png'),\n",
    "        bbox_inches='tight')"
   ]
  },
  {
   "cell_type": "markdown",
   "id": "8dde84bc-df39-41dd-b885-fbedb0856556",
   "metadata": {},
   "source": [
    "## Smaller plots (blog format)"
   ]
  },
  {
   "cell_type": "markdown",
   "id": "1346aba4-311d-437a-9519-1338132046c7",
   "metadata": {},
   "source": [
    "##### Separate standard target encoding"
   ]
  },
  {
   "cell_type": "code",
   "execution_count": 188,
   "id": "59850322-7957-45fa-ad10-845ad96c168e",
   "metadata": {},
   "outputs": [
    {
     "data": {
      "image/png": "[encoded data removed]",
      "text/plain": [
       "<Figure size 600x300 with 4 Axes>"
      ]
     },
     "metadata": {},
     "output_type": "display_data"
    }
   ],
   "source": [
    "fig, ax = plt.subplots(2, 2, sharex = True, sharey = 'row',\n",
    "                       gridspec_kw={'height_ratios': [1, 3.8]},\n",
    "                      figsize=(6,3))\n",
    "\n",
    "# Only target encoding\n",
    "shap_3way_bar(enc_way_test[enc_way_test['model'] == 'menc'], \n",
    "              'value_abs', ax=ax[0, 0], title='Test Data', xlabel='mean abs SHAP value')\n",
    "shap_3way_bar(enc_way_ho[enc_way_ho['model'] == 'menc'], \n",
    "              'value_abs', ax=ax[0, 1],  title='Holdout NAICS Data',\n",
    "                     xlabel='mean abs SHAP value')\n",
    "# All but target encoding\n",
    "shap_3way_bar(enc_way_test[enc_way_test['model'] != 'menc'], \n",
    "              'value_abs', ax=ax[1, 0],xlabel='mean abs SHAP value')\n",
    "shap_3way_bar(enc_way_ho[enc_way_ho['model'] != 'menc'], \n",
    "              'value_abs', ax=ax[1, 1],\n",
    "                     xlabel='mean abs SHAP value')\n",
    "[a.get_legend().remove() for al in ax for a in al ]\n",
    "[a.set_xlim(0, 0.8) for al in ax for a in al ]\n",
    "ax[1,1].legend(bbox_to_anchor=(0.85, -0.07),  bbox_transform=fig.transFigure, ncol=3)\n",
    "fig.set_figwidth(6)\n",
    "plt.subplots_adjust(hspace=0.01, wspace=0.1)\n",
    "fig.savefig(Path(setup.temp_path).joinpath('A40_PLOT_3bar_condensed.png'),\n",
    "        bbox_inches='tight')"
   ]
  },
  {
   "cell_type": "code",
   "execution_count": null,
   "id": "3a45a500-62a5-40fc-b8d3-9fc351979517",
   "metadata": {},
   "outputs": [],
   "source": []
  }
 ],
 "metadata": {
  "kernelspec": {
   "display_name": "tf_p39",
   "language": "python",
   "name": "tf_p39"
  },
  "language_info": {
   "codemirror_mode": {
    "name": "ipython",
    "version": 3
   },
   "file_extension": ".py",
   "mimetype": "text/x-python",
   "name": "python",
   "nbconvert_exporter": "python",
   "pygments_lexer": "ipython3",
   "version": "3.8.18"
  }
 },
 "nbformat": 4,
 "nbformat_minor": 5
}
