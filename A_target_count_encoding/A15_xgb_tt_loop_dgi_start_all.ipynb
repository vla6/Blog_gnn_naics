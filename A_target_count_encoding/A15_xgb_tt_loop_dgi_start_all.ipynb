{
 "cells": [
  {
   "cell_type": "code",
   "execution_count": 1,
   "id": "4c65f557-651f-4958-a567-a1b6b5a82b2b",
   "metadata": {
    "tags": []
   },
   "outputs": [
    {
     "data": {
      "text/plain": [
       "'/Users/valeriecarey/Documents/projects/2023_10_blog_gnn_sba/code'"
      ]
     },
     "execution_count": 1,
     "metadata": {},
     "output_type": "execute_result"
    }
   ],
   "source": [
    "# Modify the file A00_setup.  Note the working directory is changed\n",
    "import os\n",
    "os.chdir(os.getcwd().rsplit(os.path.sep + 'code')[0] + os.path.sep + 'code')\n",
    "from importlib.machinery import SourceFileLoader\n",
    "setup = SourceFileLoader(\"setup\", \"./A_target_count_encoding/A00_setup.py\").load_module()\n",
    "os.getcwd()"
   ]
  },
  {
   "cell_type": "markdown",
   "id": "b01d0fdb-d4bf-465a-8541-997addc50b0c",
   "metadata": {},
   "source": [
    "# XGB / Target-Thresh / DGI groups: Vary hierarchy (start point, more levels)\n",
    "Do an alternative hierarchical treatment (mean encoding thresholding), NAICS + hierarcy above a certain level.  Use more DGI levels (3 and 10 in addition to NAICS match k)"
   ]
  },
  {
   "cell_type": "markdown",
   "id": "56161f89-1f54-47f9-860d-3f945a941c1f",
   "metadata": {},
   "source": [
    "*This script takes about 5 minutes on my MacBook Air*"
   ]
  },
  {
   "cell_type": "code",
   "execution_count": 2,
   "id": "ec6b1778-7abc-4129-ab5f-ac2992bd8ca6",
   "metadata": {},
   "outputs": [],
   "source": [
    "import pandas as pd\n",
    "import numpy as np\n",
    "import xgboost as xgb\n",
    "import warnings\n",
    "import matplotlib.pyplot as plt\n",
    "import pickle"
   ]
  },
  {
   "cell_type": "code",
   "execution_count": 3,
   "id": "785af927-a634-4e34-84c4-7a532236f2ca",
   "metadata": {},
   "outputs": [],
   "source": [
    "from pathlib import Path"
   ]
  },
  {
   "cell_type": "code",
   "execution_count": 4,
   "id": "fd09527b-32dd-47fa-b62f-f9307f89f553",
   "metadata": {},
   "outputs": [],
   "source": [
    "import sklearn as sk\n",
    "from sklearn.model_selection import RandomizedSearchCV\n",
    "from sklearn.inspection import permutation_importance, partial_dependence\n",
    "from scikitplot.metrics import plot_lift_curve"
   ]
  },
  {
   "cell_type": "code",
   "execution_count": 5,
   "id": "0732ba40-8318-457b-b29f-f9b6de3b70aa",
   "metadata": {},
   "outputs": [],
   "source": [
    "from sba_gnn.sba_gnn import sg_plot, sg_target_count_encoder\n",
    "from sba_gnn.sba_gnn.sg_target_thresh_encoder import TargetThreshEncoder"
   ]
  },
  {
   "cell_type": "markdown",
   "id": "d14a5947-6599-4253-acf3-91ddeffdedd3",
   "metadata": {},
   "source": [
    "## Import Processed Datasets"
   ]
  },
  {
   "cell_type": "code",
   "execution_count": 6,
   "id": "0619ba72-94e5-492d-a3cd-074dff0baddd",
   "metadata": {},
   "outputs": [],
   "source": [
    "sba_loans = pd.read_parquet(Path(setup.parent_path).joinpath('01_DATA_transformed.parquet')) "
   ]
  },
  {
   "cell_type": "code",
   "execution_count": 7,
   "id": "3c752967-2379-4bf3-9a0e-9eb1217012b2",
   "metadata": {},
   "outputs": [
    {
     "data": {
      "text/plain": [
       "{'subsample': 0.8,\n",
       " 'scale_pos_weight': 1.0,\n",
       " 'reg_lambda': 0.01,\n",
       " 'reg_alpha': 0.001,\n",
       " 'min_child_weight': 50,\n",
       " 'max_depth': 8,\n",
       " 'learning_rate': 0.1,\n",
       " 'gamma': 2}"
      ]
     },
     "execution_count": 7,
     "metadata": {},
     "output_type": "execute_result"
    }
   ],
   "source": [
    "best_params_df = pd.read_csv(Path(setup.parent_path).joinpath('03_REPORT_fit_parameter_selected.csv'))\n",
    "best_params = best_params_df.to_dict(orient='records')[0]\n",
    "best_params"
   ]
  },
  {
   "cell_type": "code",
   "execution_count": 8,
   "id": "82a0011b-c42a-4aca-bb30-7285fde059d4",
   "metadata": {},
   "outputs": [],
   "source": [
    "xgb_params = dict(best_params, \n",
    "                   **{'objective':\"binary:logistic\", 'n_estimators':setup.xgb_n_estimators})"
   ]
  },
  {
   "cell_type": "markdown",
   "id": "c58939dc-65c8-4a9f-9f94-84a7fcd89509",
   "metadata": {},
   "source": [
    "##### Append DGI info"
   ]
  },
  {
   "cell_type": "code",
   "execution_count": 9,
   "id": "9f95ec2e-1fa0-4123-a7d5-65213b6986fd",
   "metadata": {},
   "outputs": [],
   "source": [
    "##### DGI info\n",
    "embed_df = pd.read_parquet(Path(setup.parent_path).joinpath('63_DATA_embeddings_tsne_naics.parquet'))"
   ]
  },
  {
   "cell_type": "code",
   "execution_count": 10,
   "id": "558edb3a-1ffc-468b-8dd8-2e0ded30bd6b",
   "metadata": {},
   "outputs": [
    {
     "data": {
      "text/plain": [
       "['cluster_834',\n",
       " 'cluster_354',\n",
       " 'cluster_106',\n",
       " 'cluster_020',\n",
       " 'cluster_010',\n",
       " 'cluster_003']"
      ]
     },
     "execution_count": 10,
     "metadata": {},
     "output_type": "execute_result"
    }
   ],
   "source": [
    "cluster_cols = sorted([c for c in embed_df if c.startswith('cluster_')],\n",
    "                      reverse=True)\n",
    "cluster_cols"
   ]
  },
  {
   "cell_type": "code",
   "execution_count": 11,
   "id": "f2c5185a-4012-40e7-9960-cf18e293deba",
   "metadata": {},
   "outputs": [],
   "source": [
    "sba_loans = sba_loans.drop(columns = cluster_cols, errors='ignore') \\\n",
    "    .merge(embed_df[['NAICS_orig'] + cluster_cols] \\\n",
    "               .rename(columns={'NAICS_orig':'NAICS'}),\n",
    "           on='NAICS', how='left')"
   ]
  },
  {
   "cell_type": "markdown",
   "id": "d59eb82b-6269-4a7b-99b4-3f42c86cb15c",
   "metadata": {},
   "source": [
    "##### Comparison metrics"
   ]
  },
  {
   "cell_type": "code",
   "execution_count": 12,
   "id": "ba2df40b-1a2e-4f8b-b045-ae5d4a68a446",
   "metadata": {},
   "outputs": [],
   "source": [
    "metrics_base = pd.read_csv(Path(setup.parent_path).joinpath('X67_REPORT_metrics.csv'))"
   ]
  },
  {
   "cell_type": "code",
   "execution_count": 13,
   "id": "5c0a94f7-9543-4b15-97eb-e6221ca5cd49",
   "metadata": {},
   "outputs": [],
   "source": [
    "# Regular, non-hierarchical target encoding, for a horizontal reference line\n",
    "metrics_tenc = pd.read_csv(Path(setup.parent_path).joinpath('14_REPORT_metrics.csv'))"
   ]
  },
  {
   "cell_type": "code",
   "execution_count": 14,
   "id": "52e03584-1e4c-4e5d-8c4c-167f20e5c885",
   "metadata": {},
   "outputs": [],
   "source": [
    "# Target+Count Encoding\n",
    "metrics_tcenc = pd.read_csv(Path(setup.temp_path).joinpath('A08_REPORT_metrics.csv'))"
   ]
  },
  {
   "cell_type": "markdown",
   "id": "dad22af6-70e7-46e9-ae24-c0af8de1b822",
   "metadata": {},
   "source": [
    "## Function to get metrics"
   ]
  },
  {
   "cell_type": "code",
   "execution_count": 15,
   "id": "ca448a6e-df88-4d10-b19b-ba01c484301a",
   "metadata": {},
   "outputs": [],
   "source": [
    "def get_metrics(data, threshold = setup.selected_lambda_k, enc_features = ['NAICS', 'NAICS_sector']):\n",
    "    \n",
    "    # Alternative encoding\n",
    "    train_df = data[data['dset'] == 'train']\n",
    "    enc_dict = {f:TargetThreshEncoder(threshold = threshold) for f in enc_features}\n",
    "    [enc_dict[f].fit(train_df[f], train_df['target']) for f in enc_features]\n",
    "    enc_val = pd.concat([enc_dict[f].transform(data[f]) for f in enc_features],\n",
    "                    axis=1, keys=enc_features)\n",
    "    enc_val.columns = [c[0] + '_' + c[1] for c in enc_val.columns]\n",
    "    \n",
    "    # Append to data\n",
    "    data = pd.concat([data.drop(columns=enc_val.columns, errors='ignore'), enc_val], \n",
    "                      axis=1)\n",
    "    train_df = data[data['dset'] == 'train']\n",
    "    test_df = data[data['dset'] == 'test']\n",
    "    val_df = data[data['dset'] == 'val']\n",
    "    \n",
    "    predictor_features = setup.predictor_features + list(enc_val.columns)\n",
    "\n",
    "    # Model fit\n",
    "    xgb_model = xgb.XGBClassifier(objective=\"binary:logistic\",\n",
    "                             n_estimators =  setup.xgb_n_estimators)\n",
    "    xgb_model = xgb_model.set_params(**xgb_params)\n",
    "    xgb_model.fit(train_df[predictor_features], train_df['target'],\n",
    "              eval_set = [(train_df[predictor_features], train_df['target']),\n",
    "                         (val_df[predictor_features], val_df['target'])])\n",
    "    \n",
    "    # Predict\n",
    "    pred_df = pd.concat([data[['LoanNr_ChkDgt', 'dset', 'target', 'dset_naics_holdout']].reset_index(),\n",
    "                     pd.DataFrame({'predict_prob':\n",
    "                                   xgb_model.predict_proba(data[predictor_features])[:,1]})],\n",
    "                    axis=1) \\\n",
    "    .set_index('index')\n",
    "    \n",
    "    # Decision threshold\n",
    "    pred_train_df = pred_df[pred_df['dset'] == 'train']\n",
    "    thresh_tune_data = sg_plot.get_f1_frame(pred_train_df['target'], \n",
    "                                        pred_train_df['predict_prob'])\n",
    "    thresh_head = thresh_tune_data.sort_values('f1', ascending=False).head(2)\n",
    "    best_thresh = thresh_head['thresh'].iloc[0]\n",
    "    pred_df['predict_bin'] = np.where(pred_df['predict_prob'] >= best_thresh, 1, 0)\n",
    "    \n",
    "    # Metrics\n",
    "    metrics_dset_df = pred_df.groupby('dset') \\\n",
    "        .apply(lambda x: sg_plot.dset_metrics(x.target, x.predict_bin, x.predict_prob)) \\\n",
    "        .reset_index()\n",
    "    metrics_test_df = pred_df[pred_df['dset'] == 'test'] \\\n",
    "        .groupby(['dset', 'dset_naics_holdout']) \\\n",
    "        .apply(lambda x: sg_plot.dset_metrics(x.target, x.predict_bin, x.predict_prob)) \\\n",
    "        .reset_index()\n",
    "    metrics_df = pd.concat([metrics_dset_df, metrics_test_df])\n",
    "    \n",
    "    return pred_df, metrics_df"
   ]
  },
  {
   "cell_type": "markdown",
   "id": "9c290356-3291-4406-90cf-d921ad845925",
   "metadata": {},
   "source": [
    "## Loop to get predictions, metrics"
   ]
  },
  {
   "cell_type": "code",
   "execution_count": 16,
   "id": "2a259639-9a52-4ef3-9e3d-1b85a575619d",
   "metadata": {},
   "outputs": [
    {
     "data": {
      "text/plain": [
       "[['NAICS',\n",
       "  'cluster_834',\n",
       "  'cluster_354',\n",
       "  'cluster_106',\n",
       "  'cluster_020',\n",
       "  'cluster_010',\n",
       "  'cluster_003'],\n",
       " ['NAICS',\n",
       "  'cluster_354',\n",
       "  'cluster_106',\n",
       "  'cluster_020',\n",
       "  'cluster_010',\n",
       "  'cluster_003'],\n",
       " ['NAICS', 'cluster_106', 'cluster_020', 'cluster_010', 'cluster_003'],\n",
       " ['NAICS', 'cluster_020', 'cluster_010', 'cluster_003'],\n",
       " ['NAICS', 'cluster_010', 'cluster_003'],\n",
       " ['NAICS', 'cluster_003']]"
      ]
     },
     "execution_count": 16,
     "metadata": {},
     "output_type": "execute_result"
    }
   ],
   "source": [
    "# Hierarchical encode from different levels\n",
    "naics_sets = [['NAICS'] + cluster_cols[i:] \\\n",
    "              for i in range(len(cluster_cols))]\n",
    "naics_sets"
   ]
  },
  {
   "cell_type": "code",
   "execution_count": 17,
   "id": "3ca0672f-819d-4bf5-b829-a481a852d65b",
   "metadata": {},
   "outputs": [],
   "source": [
    "%%capture\n",
    "pred_df = pd.DataFrame()\n",
    "metrics_df = pd.DataFrame()\n",
    "for this_set in naics_sets:\n",
    "    this_pred, this_met = get_metrics(sba_loans, enc_features=this_set)\n",
    "    this_pred['naics_type'] = this_set[1]\n",
    "    pred_df = pd.concat([pred_df, this_pred])\n",
    "    this_met['naics_type'] = this_set[1]\n",
    "    metrics_df = pd.concat([metrics_df, this_met])"
   ]
  },
  {
   "cell_type": "code",
   "execution_count": 18,
   "id": "0ff21702-e129-418b-b6c3-8ebd047186a0",
   "metadata": {},
   "outputs": [
    {
     "data": {
      "text/html": [
       "<div>\n",
       "<style scoped>\n",
       "    .dataframe tbody tr th:only-of-type {\n",
       "        vertical-align: middle;\n",
       "    }\n",
       "\n",
       "    .dataframe tbody tr th {\n",
       "        vertical-align: top;\n",
       "    }\n",
       "\n",
       "    .dataframe thead th {\n",
       "        text-align: right;\n",
       "    }\n",
       "</style>\n",
       "<table border=\"1\" class=\"dataframe\">\n",
       "  <thead>\n",
       "    <tr style=\"text-align: right;\">\n",
       "      <th></th>\n",
       "      <th>dset</th>\n",
       "      <th>accuracy_score</th>\n",
       "      <th>f1_score</th>\n",
       "      <th>precision_score</th>\n",
       "      <th>recall_score</th>\n",
       "      <th>average_precision_score</th>\n",
       "      <th>roc_auc_score</th>\n",
       "      <th>dset_naics_holdout</th>\n",
       "      <th>naics_type</th>\n",
       "    </tr>\n",
       "  </thead>\n",
       "  <tbody>\n",
       "    <tr>\n",
       "      <th>1</th>\n",
       "      <td>test</td>\n",
       "      <td>0.690156</td>\n",
       "      <td>0.415666</td>\n",
       "      <td>0.316191</td>\n",
       "      <td>0.606463</td>\n",
       "      <td>0.349077</td>\n",
       "      <td>0.729377</td>\n",
       "      <td>1.0</td>\n",
       "      <td>cluster_834</td>\n",
       "    </tr>\n",
       "    <tr>\n",
       "      <th>1</th>\n",
       "      <td>test</td>\n",
       "      <td>0.687942</td>\n",
       "      <td>0.415457</td>\n",
       "      <td>0.314926</td>\n",
       "      <td>0.610270</td>\n",
       "      <td>0.346313</td>\n",
       "      <td>0.727665</td>\n",
       "      <td>1.0</td>\n",
       "      <td>cluster_354</td>\n",
       "    </tr>\n",
       "    <tr>\n",
       "      <th>1</th>\n",
       "      <td>test</td>\n",
       "      <td>0.692046</td>\n",
       "      <td>0.415283</td>\n",
       "      <td>0.317023</td>\n",
       "      <td>0.601810</td>\n",
       "      <td>0.346167</td>\n",
       "      <td>0.728045</td>\n",
       "      <td>1.0</td>\n",
       "      <td>cluster_106</td>\n",
       "    </tr>\n",
       "    <tr>\n",
       "      <th>1</th>\n",
       "      <td>test</td>\n",
       "      <td>0.685206</td>\n",
       "      <td>0.417046</td>\n",
       "      <td>0.314283</td>\n",
       "      <td>0.619660</td>\n",
       "      <td>0.347530</td>\n",
       "      <td>0.728176</td>\n",
       "      <td>1.0</td>\n",
       "      <td>cluster_020</td>\n",
       "    </tr>\n",
       "    <tr>\n",
       "      <th>1</th>\n",
       "      <td>test</td>\n",
       "      <td>0.684483</td>\n",
       "      <td>0.417185</td>\n",
       "      <td>0.313985</td>\n",
       "      <td>0.621436</td>\n",
       "      <td>0.346012</td>\n",
       "      <td>0.727405</td>\n",
       "      <td>1.0</td>\n",
       "      <td>cluster_010</td>\n",
       "    </tr>\n",
       "    <tr>\n",
       "      <th>1</th>\n",
       "      <td>test</td>\n",
       "      <td>0.690863</td>\n",
       "      <td>0.417135</td>\n",
       "      <td>0.317270</td>\n",
       "      <td>0.608747</td>\n",
       "      <td>0.347292</td>\n",
       "      <td>0.728247</td>\n",
       "      <td>1.0</td>\n",
       "      <td>cluster_003</td>\n",
       "    </tr>\n",
       "  </tbody>\n",
       "</table>\n",
       "</div>"
      ],
      "text/plain": [
       "   dset  accuracy_score  f1_score  precision_score  recall_score  \\\n",
       "1  test        0.690156  0.415666         0.316191      0.606463   \n",
       "1  test        0.687942  0.415457         0.314926      0.610270   \n",
       "1  test        0.692046  0.415283         0.317023      0.601810   \n",
       "1  test        0.685206  0.417046         0.314283      0.619660   \n",
       "1  test        0.684483  0.417185         0.313985      0.621436   \n",
       "1  test        0.690863  0.417135         0.317270      0.608747   \n",
       "\n",
       "   average_precision_score  roc_auc_score  dset_naics_holdout   naics_type  \n",
       "1                 0.349077       0.729377                 1.0  cluster_834  \n",
       "1                 0.346313       0.727665                 1.0  cluster_354  \n",
       "1                 0.346167       0.728045                 1.0  cluster_106  \n",
       "1                 0.347530       0.728176                 1.0  cluster_020  \n",
       "1                 0.346012       0.727405                 1.0  cluster_010  \n",
       "1                 0.347292       0.728247                 1.0  cluster_003  "
      ]
     },
     "execution_count": 18,
     "metadata": {},
     "output_type": "execute_result"
    }
   ],
   "source": [
    "metrics_df[metrics_df['dset_naics_holdout'] == 1]"
   ]
  },
  {
   "cell_type": "code",
   "execution_count": 19,
   "id": "62e8b937-8e1c-4a4c-8cc3-40f8325564c0",
   "metadata": {},
   "outputs": [
    {
     "data": {
      "text/html": [
       "<div>\n",
       "<style scoped>\n",
       "    .dataframe tbody tr th:only-of-type {\n",
       "        vertical-align: middle;\n",
       "    }\n",
       "\n",
       "    .dataframe tbody tr th {\n",
       "        vertical-align: top;\n",
       "    }\n",
       "\n",
       "    .dataframe thead th {\n",
       "        text-align: right;\n",
       "    }\n",
       "</style>\n",
       "<table border=\"1\" class=\"dataframe\">\n",
       "  <thead>\n",
       "    <tr style=\"text-align: right;\">\n",
       "      <th></th>\n",
       "      <th>dset</th>\n",
       "      <th>accuracy_score</th>\n",
       "      <th>f1_score</th>\n",
       "      <th>precision_score</th>\n",
       "      <th>recall_score</th>\n",
       "      <th>average_precision_score</th>\n",
       "      <th>roc_auc_score</th>\n",
       "      <th>dset_naics_holdout</th>\n",
       "      <th>naics_type</th>\n",
       "    </tr>\n",
       "  </thead>\n",
       "  <tbody>\n",
       "    <tr>\n",
       "      <th>0</th>\n",
       "      <td>test</td>\n",
       "      <td>0.658285</td>\n",
       "      <td>0.450902</td>\n",
       "      <td>0.336758</td>\n",
       "      <td>0.682100</td>\n",
       "      <td>0.383552</td>\n",
       "      <td>0.729252</td>\n",
       "      <td>0.0</td>\n",
       "      <td>cluster_834</td>\n",
       "    </tr>\n",
       "    <tr>\n",
       "      <th>0</th>\n",
       "      <td>test</td>\n",
       "      <td>0.658328</td>\n",
       "      <td>0.450838</td>\n",
       "      <td>0.336750</td>\n",
       "      <td>0.681839</td>\n",
       "      <td>0.383811</td>\n",
       "      <td>0.729251</td>\n",
       "      <td>0.0</td>\n",
       "      <td>cluster_354</td>\n",
       "    </tr>\n",
       "    <tr>\n",
       "      <th>0</th>\n",
       "      <td>test</td>\n",
       "      <td>0.659537</td>\n",
       "      <td>0.451054</td>\n",
       "      <td>0.337438</td>\n",
       "      <td>0.680019</td>\n",
       "      <td>0.384403</td>\n",
       "      <td>0.729669</td>\n",
       "      <td>0.0</td>\n",
       "      <td>cluster_106</td>\n",
       "    </tr>\n",
       "    <tr>\n",
       "      <th>0</th>\n",
       "      <td>test</td>\n",
       "      <td>0.659098</td>\n",
       "      <td>0.450053</td>\n",
       "      <td>0.336778</td>\n",
       "      <td>0.678146</td>\n",
       "      <td>0.383375</td>\n",
       "      <td>0.729351</td>\n",
       "      <td>0.0</td>\n",
       "      <td>cluster_020</td>\n",
       "    </tr>\n",
       "    <tr>\n",
       "      <th>0</th>\n",
       "      <td>test</td>\n",
       "      <td>0.659686</td>\n",
       "      <td>0.451561</td>\n",
       "      <td>0.337736</td>\n",
       "      <td>0.681111</td>\n",
       "      <td>0.384245</td>\n",
       "      <td>0.729559</td>\n",
       "      <td>0.0</td>\n",
       "      <td>cluster_010</td>\n",
       "    </tr>\n",
       "    <tr>\n",
       "      <th>0</th>\n",
       "      <td>test</td>\n",
       "      <td>0.659173</td>\n",
       "      <td>0.450031</td>\n",
       "      <td>0.336805</td>\n",
       "      <td>0.677938</td>\n",
       "      <td>0.383501</td>\n",
       "      <td>0.728742</td>\n",
       "      <td>0.0</td>\n",
       "      <td>cluster_003</td>\n",
       "    </tr>\n",
       "  </tbody>\n",
       "</table>\n",
       "</div>"
      ],
      "text/plain": [
       "   dset  accuracy_score  f1_score  precision_score  recall_score  \\\n",
       "0  test        0.658285  0.450902         0.336758      0.682100   \n",
       "0  test        0.658328  0.450838         0.336750      0.681839   \n",
       "0  test        0.659537  0.451054         0.337438      0.680019   \n",
       "0  test        0.659098  0.450053         0.336778      0.678146   \n",
       "0  test        0.659686  0.451561         0.337736      0.681111   \n",
       "0  test        0.659173  0.450031         0.336805      0.677938   \n",
       "\n",
       "   average_precision_score  roc_auc_score  dset_naics_holdout   naics_type  \n",
       "0                 0.383552       0.729252                 0.0  cluster_834  \n",
       "0                 0.383811       0.729251                 0.0  cluster_354  \n",
       "0                 0.384403       0.729669                 0.0  cluster_106  \n",
       "0                 0.383375       0.729351                 0.0  cluster_020  \n",
       "0                 0.384245       0.729559                 0.0  cluster_010  \n",
       "0                 0.383501       0.728742                 0.0  cluster_003  "
      ]
     },
     "execution_count": 19,
     "metadata": {},
     "output_type": "execute_result"
    }
   ],
   "source": [
    "metrics_df[metrics_df['dset_naics_holdout'] == 0]"
   ]
  },
  {
   "cell_type": "code",
   "execution_count": 20,
   "id": "68669385-ef28-4f52-8987-7cc43ac626a6",
   "metadata": {},
   "outputs": [],
   "source": [
    "pred_df.to_parquet(Path(setup.temp_path).joinpath('A15_DATA_combined_predictions.parquet'))\n",
    "metrics_df.to_csv(Path(setup.temp_path).joinpath('A15_REPORT_metrics.csv'), index=True)"
   ]
  },
  {
   "cell_type": "markdown",
   "id": "b3b34909-e21f-4e26-a257-172118e582fa",
   "metadata": {},
   "source": [
    "## Comparison Plot"
   ]
  },
  {
   "cell_type": "code",
   "execution_count": 21,
   "id": "b4a0ce7a-8c9b-47be-b394-cc6fe1917775",
   "metadata": {},
   "outputs": [],
   "source": [
    "col_map = {k:int(k.split('_')[1]) for k in cluster_cols}\n",
    "label_k = sorted(col_map.values())"
   ]
  },
  {
   "cell_type": "code",
   "execution_count": 22,
   "id": "fdf623f3-aac5-4b43-bb24-a9a914d29097",
   "metadata": {},
   "outputs": [
    {
     "data": {
      "text/plain": [
       "{'cluster_834': 834,\n",
       " 'cluster_354': 354,\n",
       " 'cluster_106': 106,\n",
       " 'cluster_020': 20,\n",
       " 'cluster_010': 10,\n",
       " 'cluster_003': 3}"
      ]
     },
     "execution_count": 22,
     "metadata": {},
     "output_type": "execute_result"
    }
   ],
   "source": [
    "col_map"
   ]
  },
  {
   "cell_type": "code",
   "execution_count": 23,
   "id": "83c4bf72-5710-489a-888f-bd2b7590e93b",
   "metadata": {},
   "outputs": [],
   "source": [
    "metrics_sum = metrics_df[~metrics_df['dset_naics_holdout'].isna()].copy()\n",
    "metrics_sum['k'] = metrics_sum['naics_type'].apply(lambda x: col_map[x]).astype('int')"
   ]
  },
  {
   "cell_type": "code",
   "execution_count": 24,
   "id": "e8ee481d-56f5-4c03-93d8-2ec1184130ee",
   "metadata": {},
   "outputs": [],
   "source": [
    "metrics_base_sum = metrics_base[~metrics_base['dset_naics_holdout'].isna()].copy()\n",
    "metrics_base_sum['k'] = metrics_base_sum['start_naics'].apply(lambda x: col_map[x]).astype('int')"
   ]
  },
  {
   "cell_type": "code",
   "execution_count": 25,
   "id": "690d76e6-d3cb-441d-9a12-dd10bab2a884",
   "metadata": {},
   "outputs": [],
   "source": [
    "metrics_tcenc = metrics_tcenc[~metrics_tcenc['dset_naics_holdout'].isna()].copy()\n",
    "metrics_tcenc['k'] = metrics_tcenc['naics_type'].apply(lambda x: col_map[x]).astype('int')"
   ]
  },
  {
   "cell_type": "code",
   "execution_count": 26,
   "id": "92f15614-7f24-4a2e-b76c-6a10af516091",
   "metadata": {},
   "outputs": [
    {
     "name": "stdout",
     "output_type": "stream",
     "text": [
      "Regular target encoding test result: 0.382950251407698; holdout 0.346336505844941\n"
     ]
    }
   ],
   "source": [
    "# Reference lines\n",
    "hline_test = metrics_tenc[(metrics_tenc['dset_naics_holdout'] == 0) &\n",
    "                          (metrics_tenc['c'] == setup.selected_lambda_k)] \\\n",
    "    ['average_precision_score'].iloc[0]\n",
    "hline_ho = metrics_tenc[(metrics_tenc['dset_naics_holdout'] == 1) &\n",
    "                          (metrics_tenc['c'] == setup.selected_lambda_k)] \\\n",
    "    ['average_precision_score'].iloc[0]\n",
    "print(f'Regular target encoding test result: {hline_test}; holdout {hline_ho}')"
   ]
  },
  {
   "cell_type": "code",
   "execution_count": 27,
   "id": "1a7c2283-bbe9-4747-9f51-39abdd75a283",
   "metadata": {},
   "outputs": [
    {
     "data": {
      "image/png": "[encoded data removed]",
      "text/plain": [
       "<Figure size 640x480 with 1 Axes>"
      ]
     },
     "metadata": {},
     "output_type": "display_data"
    }
   ],
   "source": [
    "fig, ax = plt.subplots()\n",
    "metrics_base_sum[metrics_base_sum['dset_naics_holdout'] == 0] \\\n",
    "    .plot(x='k', y='average_precision_score', logx=True, ax=ax, \n",
    "          label='Hierarchichal Blend',color='darkslateblue', style='v-')\n",
    "metrics_tcenc[metrics_tcenc['dset_naics_holdout'] == 0] \\\n",
    "    .plot(x='k', y='average_precision_score', logx=True, ax=ax, \n",
    "          label='Target+Count',color='darkorange', style='+-')\n",
    "metrics_sum[metrics_sum['dset_naics_holdout'] == 0] \\\n",
    "    .plot(x='k', y='average_precision_score', logx=True, ax=ax, \n",
    "          label='Target-Thresh',color='violet', style='P-')\n",
    "ax.set_ylabel('PR-AUC')\n",
    "ax.set_xlabel('Group Count (k)')\n",
    "fig.suptitle('Test Dataset')\n",
    "ax.set_title('Encodings use DGI groups at or above level')\n",
    "plt.axhline(y=hline_test, color='darkgray')\n",
    "ax.set_xticks(label_k)\n",
    "ax.set_xticklabels(label_k)\n",
    "ax.legend(loc='upper left')\n",
    "fig.savefig(Path(setup.temp_path).joinpath('A15_PLOT_compare_base_reg.png'),\n",
    "            bbox_inches='tight')"
   ]
  },
  {
   "cell_type": "code",
   "execution_count": 28,
   "id": "b277c5bf-a2ee-4bd5-b80e-acd2a79ad4c0",
   "metadata": {},
   "outputs": [
    {
     "data": {
      "image/png": "[encoded data removed]",
      "text/plain": [
       "<Figure size 640x480 with 1 Axes>"
      ]
     },
     "metadata": {},
     "output_type": "display_data"
    }
   ],
   "source": [
    "fig, ax = plt.subplots()\n",
    "metrics_base_sum[metrics_base_sum['dset_naics_holdout'] == 1] \\\n",
    "    .plot(x='k', y='average_precision_score', logx=True, ax=ax, \n",
    "          label='Hierarchichal Blend',color='darkslateblue', style='v-')\n",
    "metrics_tcenc[metrics_tcenc['dset_naics_holdout'] == 1] \\\n",
    "    .plot(x='k', y='average_precision_score', logx=True, ax=ax, \n",
    "          label='Target+Count',color='darkorange', style='+-')\n",
    "metrics_sum[metrics_sum['dset_naics_holdout'] == 1] \\\n",
    "    .plot(x='k', y='average_precision_score', logx=True, ax=ax, \n",
    "          label='Target-Thresh',color='violet', style='P-')\n",
    "ax.set_ylabel('PR-AUC')\n",
    "ax.set_xlabel('Group Count (k)')\n",
    "fig.suptitle('Holdout NAICS')\n",
    "ax.set_title('Encodings use DGI groups at or above level')\n",
    "plt.axhline(y=hline_ho, color='darkgray')\n",
    "ax.set_xticks(label_k)\n",
    "ax.set_xticklabels(label_k)\n",
    "fig.savefig(Path(setup.temp_path).joinpath('A15_PLOT_compare_base_ho.png'),\n",
    "            bbox_inches='tight')"
   ]
  },
  {
   "cell_type": "code",
   "execution_count": null,
   "id": "051a6465-f4d8-4a1a-a4cf-c6b4d75f7ad7",
   "metadata": {},
   "outputs": [],
   "source": []
  }
 ],
 "metadata": {
  "kernelspec": {
   "display_name": "tf_p39",
   "language": "python",
   "name": "tf_p39"
  },
  "language_info": {
   "codemirror_mode": {
    "name": "ipython",
    "version": 3
   },
   "file_extension": ".py",
   "mimetype": "text/x-python",
   "name": "python",
   "nbconvert_exporter": "python",
   "pygments_lexer": "ipython3",
   "version": "3.8.18"
  }
 },
 "nbformat": 4,
 "nbformat_minor": 5
}
