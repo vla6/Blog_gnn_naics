{
 "cells": [
  {
   "cell_type": "code",
   "execution_count": 2,
   "id": "4c65f557-651f-4958-a567-a1b6b5a82b2b",
   "metadata": {
    "tags": []
   },
   "outputs": [
    {
     "data": {
      "text/plain": [
       "'/Users/valeriecarey/Documents/projects/2023_10_blog_gnn_sba/code'"
      ]
     },
     "execution_count": 2,
     "metadata": {},
     "output_type": "execute_result"
    }
   ],
   "source": [
    "# Modify the file A00_setup.  Note the working directory is changed\n",
    "import os\n",
    "os.chdir(os.getcwd().rsplit(os.path.sep + 'code')[0] + os.path.sep + 'code')\n",
    "from importlib.machinery import SourceFileLoader\n",
    "setup = SourceFileLoader(\"setup\", \"./A_target_count_encoding/A00_setup.py\").load_module()\n",
    "os.getcwd()"
   ]
  },
  {
   "cell_type": "markdown",
   "id": "b01d0fdb-d4bf-465a-8541-997addc50b0c",
   "metadata": {},
   "source": [
    "# XGBoost, Target-Thresh: Try Some Alternate Fill Values\n",
    "Instead of leaving the low volume and unknown NAs, try to fill them with a few things.  This could be relevant for models where NAs are not allowed"
   ]
  },
  {
   "cell_type": "markdown",
   "id": "56161f89-1f54-47f9-860d-3f945a941c1f",
   "metadata": {},
   "source": [
    "*This script takes about 5 minutes on my MacBook Air*"
   ]
  },
  {
   "cell_type": "code",
   "execution_count": 3,
   "id": "ec6b1778-7abc-4129-ab5f-ac2992bd8ca6",
   "metadata": {},
   "outputs": [],
   "source": [
    "import pandas as pd\n",
    "import numpy as np\n",
    "import xgboost as xgb\n",
    "import warnings\n",
    "import matplotlib.pyplot as plt\n",
    "import pickle"
   ]
  },
  {
   "cell_type": "code",
   "execution_count": 4,
   "id": "785af927-a634-4e34-84c4-7a532236f2ca",
   "metadata": {},
   "outputs": [],
   "source": [
    "from pathlib import Path"
   ]
  },
  {
   "cell_type": "code",
   "execution_count": 5,
   "id": "fd09527b-32dd-47fa-b62f-f9307f89f553",
   "metadata": {},
   "outputs": [],
   "source": [
    "import sklearn as sk\n",
    "from sklearn.model_selection import RandomizedSearchCV\n",
    "from sklearn.inspection import permutation_importance, partial_dependence\n",
    "from scikitplot.metrics import plot_lift_curve"
   ]
  },
  {
   "cell_type": "code",
   "execution_count": 6,
   "id": "0732ba40-8318-457b-b29f-f9b6de3b70aa",
   "metadata": {},
   "outputs": [],
   "source": [
    "from sba_gnn.sba_gnn import sg_plot, sg_target_count_encoder\n",
    "from sba_gnn.sba_gnn.sg_target_thresh_encoder import TargetThreshEncoder"
   ]
  },
  {
   "cell_type": "markdown",
   "id": "d14a5947-6599-4253-acf3-91ddeffdedd3",
   "metadata": {},
   "source": [
    "## Import Processed Datasets"
   ]
  },
  {
   "cell_type": "code",
   "execution_count": 7,
   "id": "f6bc5cc5-b635-420f-852c-6cc9bba68a52",
   "metadata": {},
   "outputs": [],
   "source": [
    "sba_loans = pd.read_parquet(Path(setup.parent_path).joinpath('01_DATA_transformed.parquet')) "
   ]
  },
  {
   "cell_type": "code",
   "execution_count": 8,
   "id": "3c752967-2379-4bf3-9a0e-9eb1217012b2",
   "metadata": {},
   "outputs": [
    {
     "data": {
      "text/plain": [
       "{'subsample': 0.8,\n",
       " 'scale_pos_weight': 1.0,\n",
       " 'reg_lambda': 0.01,\n",
       " 'reg_alpha': 0.001,\n",
       " 'min_child_weight': 50,\n",
       " 'max_depth': 8,\n",
       " 'learning_rate': 0.1,\n",
       " 'gamma': 2}"
      ]
     },
     "execution_count": 8,
     "metadata": {},
     "output_type": "execute_result"
    }
   ],
   "source": [
    "best_params_df = pd.read_csv(Path(setup.parent_path).joinpath('03_REPORT_fit_parameter_selected.csv'))\n",
    "best_params = best_params_df.to_dict(orient='records')[0]\n",
    "best_params"
   ]
  },
  {
   "cell_type": "code",
   "execution_count": 9,
   "id": "82a0011b-c42a-4aca-bb30-7285fde059d4",
   "metadata": {},
   "outputs": [],
   "source": [
    "xgb_params = dict(best_params, \n",
    "                   **{'objective':\"binary:logistic\", 'n_estimators':setup.xgb_n_estimators})"
   ]
  },
  {
   "cell_type": "markdown",
   "id": "c6c78e2d-2c25-4e29-bdcc-be7396f5df59",
   "metadata": {},
   "source": [
    "##### Comparison metrics"
   ]
  },
  {
   "cell_type": "code",
   "execution_count": 10,
   "id": "fcc2b797-48d4-42a3-99b3-bc9144c3203b",
   "metadata": {},
   "outputs": [],
   "source": [
    "metrics_base = pd.read_csv(Path(setup.parent_path).joinpath('14_REPORT_metrics.csv'))"
   ]
  },
  {
   "cell_type": "code",
   "execution_count": 11,
   "id": "42793461-48b4-42a8-a96e-869f4c1c9308",
   "metadata": {},
   "outputs": [],
   "source": [
    "metrics_tcenc = pd.read_csv(Path(setup.temp_path).joinpath('A02_REPORT_metrics.csv'))"
   ]
  },
  {
   "cell_type": "markdown",
   "id": "dad22af6-70e7-46e9-ae24-c0af8de1b822",
   "metadata": {},
   "source": [
    "## Function to get metrics"
   ]
  },
  {
   "cell_type": "code",
   "execution_count": 19,
   "id": "ca448a6e-df88-4d10-b19b-ba01c484301a",
   "metadata": {},
   "outputs": [],
   "source": [
    "def get_metrics(data, fill_value = None, enc_features = ['NAICS', 'NAICS_sector']):\n",
    "    \n",
    "    # Alternative encoding\n",
    "    train_df = data[data['dset'] == 'train']\n",
    "    enc_dict = {f:TargetThreshEncoder(threshold = setup.selected_lambda_k, fill_value = fill_value) \n",
    "                for f in enc_features}\n",
    "    [enc_dict[f].fit(train_df[f], train_df['target']) for f in enc_features]\n",
    "    enc_val = pd.concat([enc_dict[f].transform(data[f]) for f in enc_features],\n",
    "                    axis=1, keys=enc_features)\n",
    "    enc_val.columns = [c[0] + '_' + c[1] for c in enc_val.columns]\n",
    "    \n",
    "    # Append to data\n",
    "    data = pd.concat([data.drop(columns=enc_val.columns, errors='ignore'), enc_val], \n",
    "                      axis=1)\n",
    "    train_df = data[data['dset'] == 'train']\n",
    "    test_df = data[data['dset'] == 'test']\n",
    "    val_df = data[data['dset'] == 'val']\n",
    "    \n",
    "    predictor_features = setup.predictor_features + list(enc_val.columns)\n",
    "\n",
    "    # Model fit\n",
    "    xgb_model = xgb.XGBClassifier(objective=\"binary:logistic\",\n",
    "                             n_estimators =  setup.xgb_n_estimators)\n",
    "    xgb_model = xgb_model.set_params(**xgb_params)\n",
    "    xgb_model.fit(train_df[predictor_features], train_df['target'],\n",
    "              eval_set = [(train_df[predictor_features], train_df['target']),\n",
    "                         (val_df[predictor_features], val_df['target'])])\n",
    "    \n",
    "    # Predict\n",
    "    pred_df = pd.concat([data[['LoanNr_ChkDgt', 'dset', 'target', 'dset_naics_holdout']].reset_index(),\n",
    "                     pd.DataFrame({'predict_prob':\n",
    "                                   xgb_model.predict_proba(data[predictor_features])[:,1]})],\n",
    "                    axis=1) \\\n",
    "    .set_index('index')\n",
    "    \n",
    "    # Decision threshold\n",
    "    pred_train_df = pred_df[pred_df['dset'] == 'train']\n",
    "    thresh_tune_data = sg_plot.get_f1_frame(pred_train_df['target'], \n",
    "                                        pred_train_df['predict_prob'])\n",
    "    thresh_head = thresh_tune_data.sort_values('f1', ascending=False).head(2)\n",
    "    best_thresh = thresh_head['thresh'].iloc[0]\n",
    "    pred_df['predict_bin'] = np.where(pred_df['predict_prob'] >= best_thresh, 1, 0)\n",
    "    \n",
    "    # Metrics\n",
    "    metrics_dset_df = pred_df.groupby('dset') \\\n",
    "        .apply(lambda x: sg_plot.dset_metrics(x.target, x.predict_bin, x.predict_prob)) \\\n",
    "        .reset_index()\n",
    "    metrics_test_df = pred_df[pred_df['dset'] == 'test'] \\\n",
    "        .groupby(['dset', 'dset_naics_holdout']) \\\n",
    "        .apply(lambda x: sg_plot.dset_metrics(x.target, x.predict_bin, x.predict_prob)) \\\n",
    "        .reset_index()\n",
    "    metrics_df = pd.concat([metrics_dset_df, metrics_test_df])\n",
    "    \n",
    "    return pred_df, metrics_df"
   ]
  },
  {
   "cell_type": "markdown",
   "id": "9c290356-3291-4406-90cf-d921ad845925",
   "metadata": {},
   "source": [
    "## Loop to get predictions, metrics"
   ]
  },
  {
   "cell_type": "code",
   "execution_count": 14,
   "id": "55370d71-d0fb-4006-8773-60d3a47a4742",
   "metadata": {},
   "outputs": [
    {
     "data": {
      "text/plain": [
       "0.2046546821975603"
      ]
     },
     "execution_count": 14,
     "metadata": {},
     "output_type": "execute_result"
    }
   ],
   "source": [
    "# Train mean\n",
    "target_mean = sba_loans[sba_loans['dset'] == 'train']['target'].mean()\n",
    "target_mean"
   ]
  },
  {
   "cell_type": "code",
   "execution_count": 18,
   "id": "9cc600c7-afa6-41df-a9c0-6eb710081542",
   "metadata": {},
   "outputs": [
    {
     "data": {
      "text/plain": [
       "[None, -1, 0, 0.10232734109878015, 0.2046546821975603, 0.30698202329634044, 1]"
      ]
     },
     "execution_count": 18,
     "metadata": {},
     "output_type": "execute_result"
    }
   ],
   "source": [
    "count_sets = [None] + sorted([-1, 0, target_mean/2, target_mean, target_mean*1.5, 1])\n",
    "count_sets"
   ]
  },
  {
   "cell_type": "code",
   "execution_count": 20,
   "id": "3ca0672f-819d-4bf5-b829-a481a852d65b",
   "metadata": {},
   "outputs": [],
   "source": [
    "%%capture\n",
    "pred_df = pd.DataFrame()\n",
    "metrics_df = pd.DataFrame()\n",
    "for c in count_sets:\n",
    "    this_pred, this_met = get_metrics(sba_loans, c, ['NAICS'])\n",
    "    this_pred['c'] = c\n",
    "    pred_df = pd.concat([pred_df, this_pred])\n",
    "    this_met['c'] = c\n",
    "    metrics_df = pd.concat([metrics_df, this_met])"
   ]
  },
  {
   "cell_type": "code",
   "execution_count": 21,
   "id": "0ff21702-e129-418b-b6c3-8ebd047186a0",
   "metadata": {},
   "outputs": [
    {
     "data": {
      "text/html": [
       "<div>\n",
       "<style scoped>\n",
       "    .dataframe tbody tr th:only-of-type {\n",
       "        vertical-align: middle;\n",
       "    }\n",
       "\n",
       "    .dataframe tbody tr th {\n",
       "        vertical-align: top;\n",
       "    }\n",
       "\n",
       "    .dataframe thead th {\n",
       "        text-align: right;\n",
       "    }\n",
       "</style>\n",
       "<table border=\"1\" class=\"dataframe\">\n",
       "  <thead>\n",
       "    <tr style=\"text-align: right;\">\n",
       "      <th></th>\n",
       "      <th>dset</th>\n",
       "      <th>accuracy_score</th>\n",
       "      <th>f1_score</th>\n",
       "      <th>precision_score</th>\n",
       "      <th>recall_score</th>\n",
       "      <th>average_precision_score</th>\n",
       "      <th>roc_auc_score</th>\n",
       "      <th>dset_naics_holdout</th>\n",
       "      <th>c</th>\n",
       "    </tr>\n",
       "  </thead>\n",
       "  <tbody>\n",
       "    <tr>\n",
       "      <th>1</th>\n",
       "      <td>test</td>\n",
       "      <td>0.689233</td>\n",
       "      <td>0.416768</td>\n",
       "      <td>0.316230</td>\n",
       "      <td>0.611031</td>\n",
       "      <td>0.345690</td>\n",
       "      <td>0.727347</td>\n",
       "      <td>1.0</td>\n",
       "      <td>None</td>\n",
       "    </tr>\n",
       "    <tr>\n",
       "      <th>1</th>\n",
       "      <td>test</td>\n",
       "      <td>0.693107</td>\n",
       "      <td>0.412409</td>\n",
       "      <td>0.316227</td>\n",
       "      <td>0.592674</td>\n",
       "      <td>0.342408</td>\n",
       "      <td>0.725531</td>\n",
       "      <td>1.0</td>\n",
       "      <td>-1</td>\n",
       "    </tr>\n",
       "    <tr>\n",
       "      <th>1</th>\n",
       "      <td>test</td>\n",
       "      <td>0.693107</td>\n",
       "      <td>0.412409</td>\n",
       "      <td>0.316227</td>\n",
       "      <td>0.592674</td>\n",
       "      <td>0.342408</td>\n",
       "      <td>0.725531</td>\n",
       "      <td>1.0</td>\n",
       "      <td>0</td>\n",
       "    </tr>\n",
       "    <tr>\n",
       "      <th>1</th>\n",
       "      <td>test</td>\n",
       "      <td>0.704360</td>\n",
       "      <td>0.411037</td>\n",
       "      <td>0.322133</td>\n",
       "      <td>0.567718</td>\n",
       "      <td>0.344140</td>\n",
       "      <td>0.726095</td>\n",
       "      <td>1.0</td>\n",
       "      <td>0.102327</td>\n",
       "    </tr>\n",
       "    <tr>\n",
       "      <th>1</th>\n",
       "      <td>test</td>\n",
       "      <td>0.689310</td>\n",
       "      <td>0.416929</td>\n",
       "      <td>0.316347</td>\n",
       "      <td>0.611285</td>\n",
       "      <td>0.346063</td>\n",
       "      <td>0.729150</td>\n",
       "      <td>1.0</td>\n",
       "      <td>0.204655</td>\n",
       "    </tr>\n",
       "    <tr>\n",
       "      <th>1</th>\n",
       "      <td>test</td>\n",
       "      <td>0.655645</td>\n",
       "      <td>0.418171</td>\n",
       "      <td>0.301724</td>\n",
       "      <td>0.680991</td>\n",
       "      <td>0.346727</td>\n",
       "      <td>0.728946</td>\n",
       "      <td>1.0</td>\n",
       "      <td>0.306982</td>\n",
       "    </tr>\n",
       "    <tr>\n",
       "      <th>1</th>\n",
       "      <td>test</td>\n",
       "      <td>0.674091</td>\n",
       "      <td>0.417827</td>\n",
       "      <td>0.309319</td>\n",
       "      <td>0.643600</td>\n",
       "      <td>0.343602</td>\n",
       "      <td>0.727716</td>\n",
       "      <td>1.0</td>\n",
       "      <td>1</td>\n",
       "    </tr>\n",
       "  </tbody>\n",
       "</table>\n",
       "</div>"
      ],
      "text/plain": [
       "   dset  accuracy_score  f1_score  precision_score  recall_score  \\\n",
       "1  test        0.689233  0.416768         0.316230      0.611031   \n",
       "1  test        0.693107  0.412409         0.316227      0.592674   \n",
       "1  test        0.693107  0.412409         0.316227      0.592674   \n",
       "1  test        0.704360  0.411037         0.322133      0.567718   \n",
       "1  test        0.689310  0.416929         0.316347      0.611285   \n",
       "1  test        0.655645  0.418171         0.301724      0.680991   \n",
       "1  test        0.674091  0.417827         0.309319      0.643600   \n",
       "\n",
       "   average_precision_score  roc_auc_score  dset_naics_holdout         c  \n",
       "1                 0.345690       0.727347                 1.0      None  \n",
       "1                 0.342408       0.725531                 1.0        -1  \n",
       "1                 0.342408       0.725531                 1.0         0  \n",
       "1                 0.344140       0.726095                 1.0  0.102327  \n",
       "1                 0.346063       0.729150                 1.0  0.204655  \n",
       "1                 0.346727       0.728946                 1.0  0.306982  \n",
       "1                 0.343602       0.727716                 1.0         1  "
      ]
     },
     "execution_count": 21,
     "metadata": {},
     "output_type": "execute_result"
    }
   ],
   "source": [
    "metrics_df[metrics_df['dset_naics_holdout'] == 1]"
   ]
  },
  {
   "cell_type": "code",
   "execution_count": 22,
   "id": "62e8b937-8e1c-4a4c-8cc3-40f8325564c0",
   "metadata": {},
   "outputs": [
    {
     "data": {
      "text/html": [
       "<div>\n",
       "<style scoped>\n",
       "    .dataframe tbody tr th:only-of-type {\n",
       "        vertical-align: middle;\n",
       "    }\n",
       "\n",
       "    .dataframe tbody tr th {\n",
       "        vertical-align: top;\n",
       "    }\n",
       "\n",
       "    .dataframe thead th {\n",
       "        text-align: right;\n",
       "    }\n",
       "</style>\n",
       "<table border=\"1\" class=\"dataframe\">\n",
       "  <thead>\n",
       "    <tr style=\"text-align: right;\">\n",
       "      <th></th>\n",
       "      <th>dset</th>\n",
       "      <th>accuracy_score</th>\n",
       "      <th>f1_score</th>\n",
       "      <th>precision_score</th>\n",
       "      <th>recall_score</th>\n",
       "      <th>average_precision_score</th>\n",
       "      <th>roc_auc_score</th>\n",
       "      <th>dset_naics_holdout</th>\n",
       "      <th>c</th>\n",
       "    </tr>\n",
       "  </thead>\n",
       "  <tbody>\n",
       "    <tr>\n",
       "      <th>0</th>\n",
       "      <td>test</td>\n",
       "      <td>0.659483</td>\n",
       "      <td>0.448981</td>\n",
       "      <td>0.336491</td>\n",
       "      <td>0.674452</td>\n",
       "      <td>0.382759</td>\n",
       "      <td>0.728253</td>\n",
       "      <td>0.0</td>\n",
       "      <td>None</td>\n",
       "    </tr>\n",
       "    <tr>\n",
       "      <th>0</th>\n",
       "      <td>test</td>\n",
       "      <td>0.660072</td>\n",
       "      <td>0.449008</td>\n",
       "      <td>0.336794</td>\n",
       "      <td>0.673360</td>\n",
       "      <td>0.382155</td>\n",
       "      <td>0.728078</td>\n",
       "      <td>0.0</td>\n",
       "      <td>-1</td>\n",
       "    </tr>\n",
       "    <tr>\n",
       "      <th>0</th>\n",
       "      <td>test</td>\n",
       "      <td>0.660072</td>\n",
       "      <td>0.449008</td>\n",
       "      <td>0.336794</td>\n",
       "      <td>0.673360</td>\n",
       "      <td>0.382155</td>\n",
       "      <td>0.728078</td>\n",
       "      <td>0.0</td>\n",
       "      <td>0</td>\n",
       "    </tr>\n",
       "    <tr>\n",
       "      <th>0</th>\n",
       "      <td>test</td>\n",
       "      <td>0.658221</td>\n",
       "      <td>0.448580</td>\n",
       "      <td>0.335693</td>\n",
       "      <td>0.675857</td>\n",
       "      <td>0.382431</td>\n",
       "      <td>0.727874</td>\n",
       "      <td>0.0</td>\n",
       "      <td>0.102327</td>\n",
       "    </tr>\n",
       "    <tr>\n",
       "      <th>0</th>\n",
       "      <td>test</td>\n",
       "      <td>0.660371</td>\n",
       "      <td>0.449761</td>\n",
       "      <td>0.337277</td>\n",
       "      <td>0.674817</td>\n",
       "      <td>0.382314</td>\n",
       "      <td>0.728440</td>\n",
       "      <td>0.0</td>\n",
       "      <td>0.204655</td>\n",
       "    </tr>\n",
       "    <tr>\n",
       "      <th>0</th>\n",
       "      <td>test</td>\n",
       "      <td>0.660286</td>\n",
       "      <td>0.449221</td>\n",
       "      <td>0.336995</td>\n",
       "      <td>0.673516</td>\n",
       "      <td>0.382816</td>\n",
       "      <td>0.728442</td>\n",
       "      <td>0.0</td>\n",
       "      <td>0.306982</td>\n",
       "    </tr>\n",
       "    <tr>\n",
       "      <th>0</th>\n",
       "      <td>test</td>\n",
       "      <td>0.657814</td>\n",
       "      <td>0.448818</td>\n",
       "      <td>0.335602</td>\n",
       "      <td>0.677314</td>\n",
       "      <td>0.382596</td>\n",
       "      <td>0.728287</td>\n",
       "      <td>0.0</td>\n",
       "      <td>1</td>\n",
       "    </tr>\n",
       "  </tbody>\n",
       "</table>\n",
       "</div>"
      ],
      "text/plain": [
       "   dset  accuracy_score  f1_score  precision_score  recall_score  \\\n",
       "0  test        0.659483  0.448981         0.336491      0.674452   \n",
       "0  test        0.660072  0.449008         0.336794      0.673360   \n",
       "0  test        0.660072  0.449008         0.336794      0.673360   \n",
       "0  test        0.658221  0.448580         0.335693      0.675857   \n",
       "0  test        0.660371  0.449761         0.337277      0.674817   \n",
       "0  test        0.660286  0.449221         0.336995      0.673516   \n",
       "0  test        0.657814  0.448818         0.335602      0.677314   \n",
       "\n",
       "   average_precision_score  roc_auc_score  dset_naics_holdout         c  \n",
       "0                 0.382759       0.728253                 0.0      None  \n",
       "0                 0.382155       0.728078                 0.0        -1  \n",
       "0                 0.382155       0.728078                 0.0         0  \n",
       "0                 0.382431       0.727874                 0.0  0.102327  \n",
       "0                 0.382314       0.728440                 0.0  0.204655  \n",
       "0                 0.382816       0.728442                 0.0  0.306982  \n",
       "0                 0.382596       0.728287                 0.0         1  "
      ]
     },
     "execution_count": 22,
     "metadata": {},
     "output_type": "execute_result"
    }
   ],
   "source": [
    "metrics_df[metrics_df['dset_naics_holdout'] == 0]"
   ]
  },
  {
   "cell_type": "code",
   "execution_count": 23,
   "id": "68669385-ef28-4f52-8987-7cc43ac626a6",
   "metadata": {},
   "outputs": [],
   "source": [
    "pred_df.to_parquet(Path(setup.temp_path).joinpath('A17_DATA_combined_predictions.parquet'))\n",
    "metrics_df.to_csv(Path(setup.temp_path).joinpath('A17_REPORT_metrics.csv'), index=True)"
   ]
  },
  {
   "cell_type": "markdown",
   "id": "aa6c3815-9384-48e3-a8f5-18df3fdfc468",
   "metadata": {},
   "source": [
    "This isn't tragic.  Using a dummy value could be OK.  I would want to try the hierarchy, or add an indicator"
   ]
  },
  {
   "cell_type": "code",
   "execution_count": null,
   "id": "994ab2dc-256c-4a80-a95f-d74b695c61c1",
   "metadata": {},
   "outputs": [],
   "source": []
  }
 ],
 "metadata": {
  "kernelspec": {
   "display_name": "tf_p39",
   "language": "python",
   "name": "tf_p39"
  },
  "language_info": {
   "codemirror_mode": {
    "name": "ipython",
    "version": 3
   },
   "file_extension": ".py",
   "mimetype": "text/x-python",
   "name": "python",
   "nbconvert_exporter": "python",
   "pygments_lexer": "ipython3",
   "version": "3.8.18"
  }
 },
 "nbformat": 4,
 "nbformat_minor": 5
}
