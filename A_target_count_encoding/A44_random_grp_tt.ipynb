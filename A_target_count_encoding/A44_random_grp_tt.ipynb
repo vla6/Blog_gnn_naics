{
 "cells": [
  {
   "cell_type": "code",
   "execution_count": 1,
   "id": "63ee33ea-eeb6-45b7-b77a-c05760b43b3a",
   "metadata": {
    "tags": []
   },
   "outputs": [
    {
     "data": {
      "text/plain": [
       "'/Users/valeriecarey/Documents/projects/2023_10_blog_gnn_sba/code'"
      ]
     },
     "execution_count": 1,
     "metadata": {},
     "output_type": "execute_result"
    }
   ],
   "source": [
    "# Modify the file A00_setup.  Note the working directory is changed\n",
    "import os\n",
    "os.chdir(os.getcwd().rsplit(os.path.sep + 'code')[0] + os.path.sep + 'code')\n",
    "from importlib.machinery import SourceFileLoader\n",
    "setup = SourceFileLoader(\"setup\", \"./A_target_count_encoding/A00_setup.py\").load_module()\n",
    "os.getcwd()"
   ]
  },
  {
   "cell_type": "markdown",
   "id": "c5fc0f49-b1e0-4ec1-9e01-a959e8cd4689",
   "metadata": {},
   "source": [
    "# Random Groups, Target-Thresh Encoding\n",
    "Make random groups to match NAICS counts.   Then do the target-thresh encoding"
   ]
  },
  {
   "cell_type": "markdown",
   "id": "4a64445b-c98e-4ef8-9f14-a10aec581b2d",
   "metadata": {},
   "source": [
    "*This script takes about 5 minutes on my MacBook Air*"
   ]
  },
  {
   "cell_type": "code",
   "execution_count": 2,
   "id": "f7eed26a-bcca-458c-b78f-9aa5d60ffdd7",
   "metadata": {},
   "outputs": [],
   "source": [
    "import pandas as pd\n",
    "import numpy as np\n",
    "import xgboost as xgb\n",
    "import warnings\n",
    "import matplotlib.pyplot as plt\n",
    "import pickle"
   ]
  },
  {
   "cell_type": "code",
   "execution_count": 3,
   "id": "fe1cf543-f47a-4649-b72a-484d13b341d9",
   "metadata": {},
   "outputs": [],
   "source": [
    "from pathlib import Path"
   ]
  },
  {
   "cell_type": "code",
   "execution_count": 4,
   "id": "b0a5cc21-f7f7-4219-bfa0-928f3fe46536",
   "metadata": {},
   "outputs": [],
   "source": [
    "import sklearn as sk\n",
    "from sklearn.model_selection import RandomizedSearchCV\n",
    "from sklearn.inspection import permutation_importance, partial_dependence\n",
    "from scikitplot.metrics import plot_lift_curve"
   ]
  },
  {
   "cell_type": "code",
   "execution_count": 5,
   "id": "71c12664-6128-422e-9ec6-30000cb477c6",
   "metadata": {},
   "outputs": [],
   "source": [
    "from sba_gnn.sba_gnn import sg_plot, sg_target_count_encoder\n",
    "from sba_gnn.sba_gnn.sg_target_thresh_encoder import TargetThreshEncoder"
   ]
  },
  {
   "cell_type": "markdown",
   "id": "130e35f8-4aef-41b4-b483-425a43b4e797",
   "metadata": {},
   "source": [
    "## Import Processed Datasets"
   ]
  },
  {
   "cell_type": "code",
   "execution_count": 6,
   "id": "0af6ead4-0f35-4907-8e68-c59618b08261",
   "metadata": {},
   "outputs": [],
   "source": [
    "sba_loans = pd.read_parquet(Path(setup.parent_path).joinpath('01_DATA_transformed.parquet')) "
   ]
  },
  {
   "cell_type": "code",
   "execution_count": 7,
   "id": "49eed9d4-ee00-4a3e-b007-3d2295577344",
   "metadata": {},
   "outputs": [
    {
     "data": {
      "text/plain": [
       "{'subsample': 0.8,\n",
       " 'scale_pos_weight': 1.0,\n",
       " 'reg_lambda': 0.01,\n",
       " 'reg_alpha': 0.001,\n",
       " 'min_child_weight': 50,\n",
       " 'max_depth': 8,\n",
       " 'learning_rate': 0.1,\n",
       " 'gamma': 2}"
      ]
     },
     "execution_count": 7,
     "metadata": {},
     "output_type": "execute_result"
    }
   ],
   "source": [
    "best_params_df = pd.read_csv(Path(setup.parent_path).joinpath('03_REPORT_fit_parameter_selected.csv'))\n",
    "best_params = best_params_df.to_dict(orient='records')[0]\n",
    "best_params"
   ]
  },
  {
   "cell_type": "code",
   "execution_count": 8,
   "id": "4cd05719-d05b-48bb-b076-9ccf2d2c34bb",
   "metadata": {},
   "outputs": [],
   "source": [
    "xgb_params = dict(best_params, \n",
    "                   **{'objective':\"binary:logistic\", 'n_estimators':setup.xgb_n_estimators})"
   ]
  },
  {
   "cell_type": "code",
   "execution_count": 9,
   "id": "fb947668-74eb-4ca2-870c-f45337ac0823",
   "metadata": {},
   "outputs": [],
   "source": [
    "naics_loans = pd.read_parquet(Path(setup.temp_path).joinpath('42_DATA_naics_groups_loans.parquet'))"
   ]
  },
  {
   "cell_type": "code",
   "execution_count": 10,
   "id": "6b4d381c-16c2-47f3-b964-5ae2e1926712",
   "metadata": {},
   "outputs": [],
   "source": [
    "sba_loans = sba_loans.merge(naics_loans.drop(columns=['dset', 'dset_naics_holdout', 'NAICS'],\n",
    "                                             errors='ignore'),\n",
    "                            on=['LoanNr_ChkDgt'])"
   ]
  },
  {
   "cell_type": "markdown",
   "id": "1cabe8dd-f156-409f-b627-323c962082e7",
   "metadata": {},
   "source": [
    "##### Comparison metrics"
   ]
  },
  {
   "cell_type": "code",
   "execution_count": 11,
   "id": "ba2df40b-1a2e-4f8b-b045-ae5d4a68a446",
   "metadata": {},
   "outputs": [],
   "source": [
    "metrics_base = pd.read_csv(Path(setup.temp_path).joinpath('A42_REPORT_metrics.csv'))"
   ]
  },
  {
   "cell_type": "code",
   "execution_count": 12,
   "id": "528cdfce-6f1b-459e-bf6e-c93f9cc775cc",
   "metadata": {},
   "outputs": [],
   "source": [
    "# Target+Count Encoding\n",
    "metrics_tcenc = pd.read_csv(Path(setup.temp_path).joinpath('A43_REPORT_metrics.csv'))"
   ]
  },
  {
   "cell_type": "code",
   "execution_count": 13,
   "id": "5c0a94f7-9543-4b15-97eb-e6221ca5cd49",
   "metadata": {},
   "outputs": [],
   "source": [
    "# Regular, non-hierarchical target encoding, for a horizontal reference line\n",
    "metrics_tenc = pd.read_csv(Path(setup.parent_path).joinpath('14_REPORT_metrics.csv'))"
   ]
  },
  {
   "cell_type": "markdown",
   "id": "d8b23a01-73b1-4dd1-8946-7bd515c9529c",
   "metadata": {},
   "source": [
    "## Encode NAICS and Groups"
   ]
  },
  {
   "cell_type": "code",
   "execution_count": 14,
   "id": "69c21b91-28aa-4b81-b6c3-a48b3c2fd4d4",
   "metadata": {},
   "outputs": [],
   "source": [
    "def get_metrics(data, enc_features = ['NAICS', 'NAICS_sector'],\n",
    "               save_info = False):\n",
    "    \n",
    "    # Alternative encoding\n",
    "    train_df = data[data['dset'] == 'train']\n",
    "    enc_dict = {f:TargetThreshEncoder(threshold = setup.selected_lambda_k) for f in enc_features}\n",
    "    [enc_dict[f].fit(train_df[f], train_df['target']) for f in enc_features]\n",
    "    enc_val = pd.concat([enc_dict[f].transform(data[f]) for f in enc_features],\n",
    "                    axis=1, keys=enc_features)\n",
    "    enc_val.columns = [c[0] + '_' + c[1] for c in enc_val.columns]\n",
    "    \n",
    "    predictor_features = setup.predictor_features + list(enc_val.columns)\n",
    "    \n",
    "    # Append to data\n",
    "    data = pd.concat([data.drop(columns=enc_val.columns, errors='ignore'), \n",
    "                       enc_val], axis=1)\n",
    "    train_df = data[data['dset'] == 'train']\n",
    "    test_df = data[data['dset'] == 'test']\n",
    "    val_df = data[data['dset'] == 'val']\n",
    "    \n",
    "    # Model fit\n",
    "    xgb_model = xgb.XGBClassifier(objective=\"binary:logistic\",\n",
    "                             n_estimators =  setup.xgb_n_estimators)\n",
    "    xgb_model = xgb_model.set_params(**xgb_params)\n",
    "    xgb_model.fit(train_df[predictor_features], train_df['target'],\n",
    "              eval_set = [(train_df[predictor_features], train_df['target']),\n",
    "                         (val_df[predictor_features], val_df['target'])])\n",
    "    \n",
    "    # Save info for Shapley (optional)\n",
    "    if save_info:\n",
    "        pd.concat([data[['LoanNr_ChkDgt', 'dset', 'dset_naics_holdout', 'NAICS']] \\\n",
    "               .drop(columns=enc_val.columns, errors='ignore'), enc_val], axis = 1) \\\n",
    "            .to_parquet(Path(setup.temp_path).joinpath('A44_DATA_encodings.parquet'))\n",
    "        with open(Path(setup.temp_path).joinpath('A44_DATA_features_predict.pkl'), 'wb') as fout:\n",
    "            pickle.dump(predictor_features, fout)\n",
    "        xgb_model.save_model(Path(setup.temp_path).joinpath('A44_MODEL_xgboost.json'))\n",
    "    \n",
    "    # Predict\n",
    "    pred_df = pd.concat([data[['LoanNr_ChkDgt', 'dset', 'target', 'dset_naics_holdout']].reset_index(),\n",
    "                     pd.DataFrame({'predict_prob':\n",
    "                                   xgb_model.predict_proba(data[predictor_features])[:,1]})],\n",
    "                    axis=1) \\\n",
    "    .set_index('index')\n",
    "    \n",
    "    # Decision threshold\n",
    "    pred_train_df = pred_df[pred_df['dset'] == 'train']\n",
    "    thresh_tune_data = sg_plot.get_f1_frame(pred_train_df['target'], \n",
    "                                        pred_train_df['predict_prob'])\n",
    "    thresh_head = thresh_tune_data.sort_values('f1', ascending=False).head(2)\n",
    "    best_thresh = thresh_head['thresh'].iloc[0]\n",
    "    pred_df['predict_bin'] = np.where(pred_df['predict_prob'] >= best_thresh, 1, 0)\n",
    "    \n",
    "    # Metrics\n",
    "    metrics_dset_df = pred_df.groupby('dset') \\\n",
    "        .apply(lambda x: sg_plot.dset_metrics(x.target, x.predict_bin, x.predict_prob)) \\\n",
    "        .reset_index()\n",
    "    metrics_test_df = pred_df[pred_df['dset'] == 'test'] \\\n",
    "        .groupby(['dset', 'dset_naics_holdout']) \\\n",
    "        .apply(lambda x: sg_plot.dset_metrics(x.target, x.predict_bin, x.predict_prob)) \\\n",
    "        .reset_index()\n",
    "    metrics_df = pd.concat([metrics_dset_df, metrics_test_df])\n",
    "    \n",
    "    return pred_df, metrics_df"
   ]
  },
  {
   "cell_type": "markdown",
   "id": "8c486f71-d1fb-41c8-b900-84cadf3eec8c",
   "metadata": {},
   "source": [
    "## Loop to get predictions, metrics"
   ]
  },
  {
   "cell_type": "code",
   "execution_count": 15,
   "id": "be3db577-c4bf-410f-a4fb-d926368a0519",
   "metadata": {},
   "outputs": [
    {
     "data": {
      "text/plain": [
       "['rgrp_834', 'rgrp_354', 'rgrp_106', 'rgrp_020']"
      ]
     },
     "execution_count": 15,
     "metadata": {},
     "output_type": "execute_result"
    }
   ],
   "source": [
    "# Hierarchical encode from different levels\n",
    "enc_features = sorted([c for c in sba_loans.columns if c.startswith('rgrp')], reverse=True)\n",
    "enc_features"
   ]
  },
  {
   "cell_type": "code",
   "execution_count": 16,
   "id": "28648fe3-e91c-487a-b7f6-7f5ede6d1030",
   "metadata": {},
   "outputs": [
    {
     "data": {
      "text/plain": [
       "[['NAICS', 'rgrp_834', 'rgrp_354', 'rgrp_106', 'rgrp_020'],\n",
       " ['NAICS', 'rgrp_354', 'rgrp_106', 'rgrp_020'],\n",
       " ['NAICS', 'rgrp_106', 'rgrp_020'],\n",
       " ['NAICS', 'rgrp_020']]"
      ]
     },
     "execution_count": 16,
     "metadata": {},
     "output_type": "execute_result"
    }
   ],
   "source": [
    "# Hierarchical encode from different levels\n",
    "feature_sets = [['NAICS'] + enc_features[i:] \\\n",
    "              for i in range(len(enc_features))]\n",
    "feature_sets"
   ]
  },
  {
   "cell_type": "code",
   "execution_count": 17,
   "id": "3ca0672f-819d-4bf5-b829-a481a852d65b",
   "metadata": {},
   "outputs": [],
   "source": [
    "%%capture\n",
    "pred_df = pd.DataFrame()\n",
    "metrics_df = pd.DataFrame()\n",
    "save_info = True # Save first model \n",
    "for this_set in feature_sets:\n",
    "    this_pred, this_met = get_metrics(sba_loans, this_set, save_info=save_info)\n",
    "    this_pred['c'] = this_set[1]\n",
    "    pred_df = pd.concat([pred_df, this_pred])\n",
    "    this_met['c'] = this_set[1]\n",
    "    metrics_df = pd.concat([metrics_df, this_met])\n",
    "    save_info = False"
   ]
  },
  {
   "cell_type": "code",
   "execution_count": 18,
   "id": "ca0982ee-64c1-4aad-bb66-c28b1e246bce",
   "metadata": {},
   "outputs": [
    {
     "data": {
      "text/html": [
       "<div>\n",
       "<style scoped>\n",
       "    .dataframe tbody tr th:only-of-type {\n",
       "        vertical-align: middle;\n",
       "    }\n",
       "\n",
       "    .dataframe tbody tr th {\n",
       "        vertical-align: top;\n",
       "    }\n",
       "\n",
       "    .dataframe thead th {\n",
       "        text-align: right;\n",
       "    }\n",
       "</style>\n",
       "<table border=\"1\" class=\"dataframe\">\n",
       "  <thead>\n",
       "    <tr style=\"text-align: right;\">\n",
       "      <th></th>\n",
       "      <th>dset</th>\n",
       "      <th>accuracy_score</th>\n",
       "      <th>f1_score</th>\n",
       "      <th>precision_score</th>\n",
       "      <th>recall_score</th>\n",
       "      <th>average_precision_score</th>\n",
       "      <th>roc_auc_score</th>\n",
       "      <th>dset_naics_holdout</th>\n",
       "      <th>c</th>\n",
       "    </tr>\n",
       "  </thead>\n",
       "  <tbody>\n",
       "    <tr>\n",
       "      <th>0</th>\n",
       "      <td>test</td>\n",
       "      <td>0.661976</td>\n",
       "      <td>0.449441</td>\n",
       "      <td>0.337937</td>\n",
       "      <td>0.670759</td>\n",
       "      <td>0.383297</td>\n",
       "      <td>0.729088</td>\n",
       "      <td>0.0</td>\n",
       "      <td>rgrp_834</td>\n",
       "    </tr>\n",
       "    <tr>\n",
       "      <th>0</th>\n",
       "      <td>test</td>\n",
       "      <td>0.659676</td>\n",
       "      <td>0.450131</td>\n",
       "      <td>0.337097</td>\n",
       "      <td>0.677210</td>\n",
       "      <td>0.383691</td>\n",
       "      <td>0.728890</td>\n",
       "      <td>0.0</td>\n",
       "      <td>rgrp_354</td>\n",
       "    </tr>\n",
       "    <tr>\n",
       "      <th>0</th>\n",
       "      <td>test</td>\n",
       "      <td>0.660757</td>\n",
       "      <td>0.450080</td>\n",
       "      <td>0.337610</td>\n",
       "      <td>0.674921</td>\n",
       "      <td>0.384018</td>\n",
       "      <td>0.728986</td>\n",
       "      <td>0.0</td>\n",
       "      <td>rgrp_106</td>\n",
       "    </tr>\n",
       "    <tr>\n",
       "      <th>0</th>\n",
       "      <td>test</td>\n",
       "      <td>0.660403</td>\n",
       "      <td>0.449612</td>\n",
       "      <td>0.337227</td>\n",
       "      <td>0.674348</td>\n",
       "      <td>0.382952</td>\n",
       "      <td>0.728685</td>\n",
       "      <td>0.0</td>\n",
       "      <td>rgrp_020</td>\n",
       "    </tr>\n",
       "  </tbody>\n",
       "</table>\n",
       "</div>"
      ],
      "text/plain": [
       "   dset  accuracy_score  f1_score  precision_score  recall_score  \\\n",
       "0  test        0.661976  0.449441         0.337937      0.670759   \n",
       "0  test        0.659676  0.450131         0.337097      0.677210   \n",
       "0  test        0.660757  0.450080         0.337610      0.674921   \n",
       "0  test        0.660403  0.449612         0.337227      0.674348   \n",
       "\n",
       "   average_precision_score  roc_auc_score  dset_naics_holdout         c  \n",
       "0                 0.383297       0.729088                 0.0  rgrp_834  \n",
       "0                 0.383691       0.728890                 0.0  rgrp_354  \n",
       "0                 0.384018       0.728986                 0.0  rgrp_106  \n",
       "0                 0.382952       0.728685                 0.0  rgrp_020  "
      ]
     },
     "execution_count": 18,
     "metadata": {},
     "output_type": "execute_result"
    }
   ],
   "source": [
    "metrics_df[metrics_df['dset_naics_holdout'] == 0]"
   ]
  },
  {
   "cell_type": "code",
   "execution_count": 19,
   "id": "0ff21702-e129-418b-b6c3-8ebd047186a0",
   "metadata": {},
   "outputs": [
    {
     "data": {
      "text/html": [
       "<div>\n",
       "<style scoped>\n",
       "    .dataframe tbody tr th:only-of-type {\n",
       "        vertical-align: middle;\n",
       "    }\n",
       "\n",
       "    .dataframe tbody tr th {\n",
       "        vertical-align: top;\n",
       "    }\n",
       "\n",
       "    .dataframe thead th {\n",
       "        text-align: right;\n",
       "    }\n",
       "</style>\n",
       "<table border=\"1\" class=\"dataframe\">\n",
       "  <thead>\n",
       "    <tr style=\"text-align: right;\">\n",
       "      <th></th>\n",
       "      <th>dset</th>\n",
       "      <th>accuracy_score</th>\n",
       "      <th>f1_score</th>\n",
       "      <th>precision_score</th>\n",
       "      <th>recall_score</th>\n",
       "      <th>average_precision_score</th>\n",
       "      <th>roc_auc_score</th>\n",
       "      <th>dset_naics_holdout</th>\n",
       "      <th>c</th>\n",
       "    </tr>\n",
       "  </thead>\n",
       "  <tbody>\n",
       "    <tr>\n",
       "      <th>1</th>\n",
       "      <td>test</td>\n",
       "      <td>0.687404</td>\n",
       "      <td>0.415543</td>\n",
       "      <td>0.314687</td>\n",
       "      <td>0.611539</td>\n",
       "      <td>0.342770</td>\n",
       "      <td>0.725949</td>\n",
       "      <td>1.0</td>\n",
       "      <td>rgrp_834</td>\n",
       "    </tr>\n",
       "    <tr>\n",
       "      <th>1</th>\n",
       "      <td>test</td>\n",
       "      <td>0.680594</td>\n",
       "      <td>0.416578</td>\n",
       "      <td>0.311772</td>\n",
       "      <td>0.627527</td>\n",
       "      <td>0.343851</td>\n",
       "      <td>0.726180</td>\n",
       "      <td>1.0</td>\n",
       "      <td>rgrp_354</td>\n",
       "    </tr>\n",
       "    <tr>\n",
       "      <th>1</th>\n",
       "      <td>test</td>\n",
       "      <td>0.688526</td>\n",
       "      <td>0.415946</td>\n",
       "      <td>0.315465</td>\n",
       "      <td>0.610354</td>\n",
       "      <td>0.344562</td>\n",
       "      <td>0.727094</td>\n",
       "      <td>1.0</td>\n",
       "      <td>rgrp_106</td>\n",
       "    </tr>\n",
       "    <tr>\n",
       "      <th>1</th>\n",
       "      <td>test</td>\n",
       "      <td>0.688142</td>\n",
       "      <td>0.417893</td>\n",
       "      <td>0.316196</td>\n",
       "      <td>0.616022</td>\n",
       "      <td>0.345859</td>\n",
       "      <td>0.727167</td>\n",
       "      <td>1.0</td>\n",
       "      <td>rgrp_020</td>\n",
       "    </tr>\n",
       "  </tbody>\n",
       "</table>\n",
       "</div>"
      ],
      "text/plain": [
       "   dset  accuracy_score  f1_score  precision_score  recall_score  \\\n",
       "1  test        0.687404  0.415543         0.314687      0.611539   \n",
       "1  test        0.680594  0.416578         0.311772      0.627527   \n",
       "1  test        0.688526  0.415946         0.315465      0.610354   \n",
       "1  test        0.688142  0.417893         0.316196      0.616022   \n",
       "\n",
       "   average_precision_score  roc_auc_score  dset_naics_holdout         c  \n",
       "1                 0.342770       0.725949                 1.0  rgrp_834  \n",
       "1                 0.343851       0.726180                 1.0  rgrp_354  \n",
       "1                 0.344562       0.727094                 1.0  rgrp_106  \n",
       "1                 0.345859       0.727167                 1.0  rgrp_020  "
      ]
     },
     "execution_count": 19,
     "metadata": {},
     "output_type": "execute_result"
    }
   ],
   "source": [
    "metrics_df[metrics_df['dset_naics_holdout'] == 1]"
   ]
  },
  {
   "cell_type": "code",
   "execution_count": 20,
   "id": "68669385-ef28-4f52-8987-7cc43ac626a6",
   "metadata": {},
   "outputs": [],
   "source": [
    "pred_df.to_parquet(Path(setup.temp_path).joinpath('A44_DATA_combined_predictions.parquet'))\n",
    "metrics_df.to_csv(Path(setup.temp_path).joinpath('A44_REPORT_metrics.csv'), index=True)"
   ]
  },
  {
   "cell_type": "markdown",
   "id": "bb5a8de6-1b2c-405f-b5b5-6c0365115de7",
   "metadata": {
    "tags": []
   },
   "source": [
    "## Comparison Plot"
   ]
  },
  {
   "cell_type": "code",
   "execution_count": 21,
   "id": "cfb56c94-8b38-4dcc-8deb-2e14e141fd91",
   "metadata": {},
   "outputs": [],
   "source": [
    "col_map = {f:int(f.replace('rgrp_', '')) for f in enc_features}\n",
    "label_k = sorted([int(c) for c in col_map.values()])"
   ]
  },
  {
   "cell_type": "code",
   "execution_count": 22,
   "id": "5754afc1-1b45-4640-a535-1bbff64db68a",
   "metadata": {},
   "outputs": [
    {
     "data": {
      "text/plain": [
       "{'rgrp_834': 834, 'rgrp_354': 354, 'rgrp_106': 106, 'rgrp_020': 20}"
      ]
     },
     "execution_count": 22,
     "metadata": {},
     "output_type": "execute_result"
    }
   ],
   "source": [
    "col_map"
   ]
  },
  {
   "cell_type": "code",
   "execution_count": 23,
   "id": "5067fbd2-4062-49ff-8e3f-e088de4e7379",
   "metadata": {},
   "outputs": [],
   "source": [
    "metrics_sum = metrics_df[~metrics_df['dset_naics_holdout'].isna()].copy()\n",
    "metrics_sum['k'] = metrics_sum['c'].apply(lambda x: col_map[x]).astype('int')"
   ]
  },
  {
   "cell_type": "code",
   "execution_count": 24,
   "id": "566243a0-d536-4ef7-91cb-cfe41da1f5fe",
   "metadata": {},
   "outputs": [],
   "source": [
    "metrics_base_sum = metrics_base[~metrics_base['dset_naics_holdout'].isna()].copy()\n",
    "metrics_base_sum['k'] = metrics_base_sum['c'].apply(lambda x: col_map[x]).astype('int')"
   ]
  },
  {
   "cell_type": "code",
   "execution_count": 25,
   "id": "070ab537-1471-42e5-927c-31b5e6bd2925",
   "metadata": {},
   "outputs": [],
   "source": [
    "metrics_tcenc = metrics_tcenc[~metrics_tcenc['dset_naics_holdout'].isna()].copy()\n",
    "metrics_tcenc['k'] = metrics_tcenc['c'].apply(lambda x: col_map[x]).astype('int')"
   ]
  },
  {
   "cell_type": "code",
   "execution_count": 26,
   "id": "a852da78-1b2f-409a-a462-4de6bd108f27",
   "metadata": {},
   "outputs": [
    {
     "name": "stdout",
     "output_type": "stream",
     "text": [
      "Regular target encoding test result: 0.382950251407698; holdout 0.346336505844941\n"
     ]
    }
   ],
   "source": [
    "# Reference lines\n",
    "hline_test = metrics_tenc[(metrics_tenc['dset_naics_holdout'] == 0) &\n",
    "                          (metrics_tenc['c'] == setup.selected_lambda_k)] \\\n",
    "    ['average_precision_score'].iloc[0]\n",
    "hline_ho = metrics_tenc[(metrics_tenc['dset_naics_holdout'] == 1) &\n",
    "                          (metrics_tenc['c'] == setup.selected_lambda_k)] \\\n",
    "    ['average_precision_score'].iloc[0]\n",
    "print(f'Regular target encoding test result: {hline_test}; holdout {hline_ho}')"
   ]
  },
  {
   "cell_type": "code",
   "execution_count": 27,
   "id": "081906e8-b43b-435f-acc8-cab624793e4d",
   "metadata": {},
   "outputs": [
    {
     "data": {
      "image/png": "[encoded data removed]",
      "text/plain": [
       "<Figure size 640x480 with 1 Axes>"
      ]
     },
     "metadata": {},
     "output_type": "display_data"
    }
   ],
   "source": [
    "fig, ax = plt.subplots()\n",
    "metrics_base_sum[metrics_base_sum['dset_naics_holdout'] == 0] \\\n",
    "    .plot(x='k', y='average_precision_score', logx=True, ax=ax, \n",
    "          label='Hierarchichal Blend',color='darkslateblue', style='v-')\n",
    "metrics_tcenc[metrics_tcenc['dset_naics_holdout'] == 0] \\\n",
    "    .plot(x='k', y='average_precision_score', logx=True, ax=ax, \n",
    "          label='Target+Count',color='darkorange', style='+-')\n",
    "metrics_sum[metrics_sum['dset_naics_holdout'] == 0] \\\n",
    "    .plot(x='k', y='average_precision_score', logx=True, ax=ax, \n",
    "          label='Target-Thresh',color='violet', style='P-')\n",
    "ax.set_ylabel('PR-AUC')\n",
    "ax.set_xlabel('Group Count (k)')\n",
    "fig.suptitle('Test Dataset')\n",
    "ax.set_title('Random Encodings')\n",
    "plt.axhline(y=hline_test, color='darkgray')\n",
    "ax.set_xticks(label_k)\n",
    "ax.set_xticklabels(label_k)\n",
    "fig.savefig(Path(setup.temp_path).joinpath('A44_PLOT_compare_base_reg.png'),\n",
    "            bbox_inches='tight')"
   ]
  },
  {
   "cell_type": "code",
   "execution_count": 28,
   "id": "7edf9fbe-25e3-478d-8018-becf3d8b7c02",
   "metadata": {},
   "outputs": [
    {
     "data": {
      "text/plain": [
       "0.382950251407698"
      ]
     },
     "execution_count": 28,
     "metadata": {},
     "output_type": "execute_result"
    }
   ],
   "source": [
    "hline_test"
   ]
  },
  {
   "cell_type": "code",
   "execution_count": 29,
   "id": "19c4700c-a0cf-4bb6-b4f7-8e35790ccb1c",
   "metadata": {},
   "outputs": [
    {
     "data": {
      "image/png": "[encoded data removed]",
      "text/plain": [
       "<Figure size 640x480 with 1 Axes>"
      ]
     },
     "metadata": {},
     "output_type": "display_data"
    }
   ],
   "source": [
    "fig, ax = plt.subplots()\n",
    "metrics_base_sum[metrics_base_sum['dset_naics_holdout'] == 1] \\\n",
    "    .plot(x='k', y='average_precision_score', logx=True, ax=ax, \n",
    "          label='Hierarchichal Blend',color='darkslateblue', style='v-')\n",
    "metrics_tcenc[metrics_tcenc['dset_naics_holdout'] == 1] \\\n",
    "    .plot(x='k', y='average_precision_score', logx=True, ax=ax, \n",
    "          label='Target+Count',color='darkorange', style='+-')\n",
    "metrics_sum[metrics_sum['dset_naics_holdout'] == 1] \\\n",
    "    .plot(x='k', y='average_precision_score', logx=True, ax=ax, \n",
    "          label='Target-Thresh',color='violet', style='P-')\n",
    "ax.set_ylabel('PR-AUC')\n",
    "ax.set_xlabel('Group Count (k)')\n",
    "fig.suptitle('Holdout NAICS Dataset')\n",
    "ax.set_title('Random Encodings')\n",
    "plt.axhline(y=hline_ho, color='darkgray')\n",
    "ax.set_xticks(label_k)\n",
    "ax.set_xticklabels(label_k)\n",
    "fig.savefig(Path(setup.temp_path).joinpath('A44_PLOT_compare_base_ho.png'),\n",
    "            bbox_inches='tight')"
   ]
  },
  {
   "cell_type": "code",
   "execution_count": null,
   "id": "1047d302-4172-4cc4-a1c4-e00aaca73934",
   "metadata": {},
   "outputs": [],
   "source": []
  },
  {
   "cell_type": "code",
   "execution_count": null,
   "id": "e2b6ef2b-9fe4-4595-9ba9-7fc205a864f6",
   "metadata": {},
   "outputs": [],
   "source": []
  }
 ],
 "metadata": {
  "kernelspec": {
   "display_name": "tf_p39",
   "language": "python",
   "name": "tf_p39"
  },
  "language_info": {
   "codemirror_mode": {
    "name": "ipython",
    "version": 3
   },
   "file_extension": ".py",
   "mimetype": "text/x-python",
   "name": "python",
   "nbconvert_exporter": "python",
   "pygments_lexer": "ipython3",
   "version": "3.8.18"
  }
 },
 "nbformat": 4,
 "nbformat_minor": 5
}
