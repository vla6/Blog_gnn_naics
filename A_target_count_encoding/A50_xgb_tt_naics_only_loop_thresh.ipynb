{
 "cells": [
  {
   "cell_type": "code",
   "execution_count": 1,
   "id": "4c65f557-651f-4958-a567-a1b6b5a82b2b",
   "metadata": {
    "tags": []
   },
   "outputs": [
    {
     "data": {
      "text/plain": [
       "'/Users/valeriecarey/Documents/projects/2023_10_blog_gnn_sba/code'"
      ]
     },
     "execution_count": 1,
     "metadata": {},
     "output_type": "execute_result"
    }
   ],
   "source": [
    "# Modify the file A00_setup.  Note the working directory is changed\n",
    "import os\n",
    "os.chdir(os.getcwd().rsplit(os.path.sep + 'code')[0] + os.path.sep + 'code')\n",
    "from importlib.machinery import SourceFileLoader\n",
    "setup = SourceFileLoader(\"setup\", \"./A_target_count_encoding/A00_setup.py\").load_module()\n",
    "os.getcwd()"
   ]
  },
  {
   "cell_type": "markdown",
   "id": "b01d0fdb-d4bf-465a-8541-997addc50b0c",
   "metadata": {},
   "source": [
    "# XGBoost, Target-Thresh: Just NAICS.\n",
    "Tune the blending midpoint, encoding only NAICS"
   ]
  },
  {
   "cell_type": "markdown",
   "id": "56161f89-1f54-47f9-860d-3f945a941c1f",
   "metadata": {},
   "source": [
    "*This script takes about 5 minutes on my MacBook Air*"
   ]
  },
  {
   "cell_type": "code",
   "execution_count": 2,
   "id": "ec6b1778-7abc-4129-ab5f-ac2992bd8ca6",
   "metadata": {},
   "outputs": [],
   "source": [
    "import pandas as pd\n",
    "import numpy as np\n",
    "import xgboost as xgb\n",
    "import warnings\n",
    "import matplotlib.pyplot as plt\n",
    "import pickle"
   ]
  },
  {
   "cell_type": "code",
   "execution_count": 3,
   "id": "785af927-a634-4e34-84c4-7a532236f2ca",
   "metadata": {},
   "outputs": [],
   "source": [
    "from pathlib import Path"
   ]
  },
  {
   "cell_type": "code",
   "execution_count": 4,
   "id": "fd09527b-32dd-47fa-b62f-f9307f89f553",
   "metadata": {},
   "outputs": [],
   "source": [
    "import sklearn as sk\n",
    "from sklearn.model_selection import RandomizedSearchCV\n",
    "from sklearn.inspection import permutation_importance, partial_dependence\n",
    "from scikitplot.metrics import plot_lift_curve"
   ]
  },
  {
   "cell_type": "code",
   "execution_count": 5,
   "id": "0732ba40-8318-457b-b29f-f9b6de3b70aa",
   "metadata": {},
   "outputs": [],
   "source": [
    "from sba_gnn.sba_gnn import sg_plot, sg_target_count_encoder\n",
    "from sba_gnn.sba_gnn.sg_target_thresh_encoder import TargetThreshEncoder"
   ]
  },
  {
   "cell_type": "markdown",
   "id": "d14a5947-6599-4253-acf3-91ddeffdedd3",
   "metadata": {},
   "source": [
    "## Import Processed Datasets"
   ]
  },
  {
   "cell_type": "code",
   "execution_count": 6,
   "id": "f6bc5cc5-b635-420f-852c-6cc9bba68a52",
   "metadata": {},
   "outputs": [],
   "source": [
    "sba_loans = pd.read_parquet(Path(setup.parent_path).joinpath('01_DATA_transformed.parquet')) "
   ]
  },
  {
   "cell_type": "code",
   "execution_count": 7,
   "id": "3c752967-2379-4bf3-9a0e-9eb1217012b2",
   "metadata": {},
   "outputs": [
    {
     "data": {
      "text/plain": [
       "{'subsample': 0.8,\n",
       " 'scale_pos_weight': 1.0,\n",
       " 'reg_lambda': 0.01,\n",
       " 'reg_alpha': 0.001,\n",
       " 'min_child_weight': 50,\n",
       " 'max_depth': 8,\n",
       " 'learning_rate': 0.1,\n",
       " 'gamma': 2}"
      ]
     },
     "execution_count": 7,
     "metadata": {},
     "output_type": "execute_result"
    }
   ],
   "source": [
    "best_params_df = pd.read_csv(Path(setup.parent_path).joinpath('03_REPORT_fit_parameter_selected.csv'))\n",
    "best_params = best_params_df.to_dict(orient='records')[0]\n",
    "best_params"
   ]
  },
  {
   "cell_type": "code",
   "execution_count": 8,
   "id": "82a0011b-c42a-4aca-bb30-7285fde059d4",
   "metadata": {},
   "outputs": [],
   "source": [
    "xgb_params = dict(best_params, \n",
    "                   **{'objective':\"binary:logistic\", 'n_estimators':setup.xgb_n_estimators})"
   ]
  },
  {
   "cell_type": "markdown",
   "id": "7020ce58-f216-43dd-8b7a-cb8bc76dbe94",
   "metadata": {},
   "source": [
    "##### Comparison metrics"
   ]
  },
  {
   "cell_type": "code",
   "execution_count": 9,
   "id": "045f78ec-7fb6-4002-8eb3-fce645ce3fd6",
   "metadata": {},
   "outputs": [],
   "source": [
    "# Standard target encoding\n",
    "metrics_tenc = pd.read_csv(Path(setup.parent_path).joinpath('14_REPORT_metrics.csv'))"
   ]
  },
  {
   "cell_type": "markdown",
   "id": "dad22af6-70e7-46e9-ae24-c0af8de1b822",
   "metadata": {},
   "source": [
    "## Function to get metrics"
   ]
  },
  {
   "cell_type": "code",
   "execution_count": 10,
   "id": "ca448a6e-df88-4d10-b19b-ba01c484301a",
   "metadata": {},
   "outputs": [],
   "source": [
    "def get_metrics(data, threshold = 100, enc_features = ['NAICS']):\n",
    "    \n",
    "    # Alternative encoding\n",
    "    train_df = data[data['dset'] == 'train']\n",
    "    enc_dict = {f:TargetThreshEncoder(threshold = threshold) for f in enc_features}\n",
    "    [enc_dict[f].fit(train_df[f], train_df['target']) for f in enc_features]\n",
    "    enc_val = pd.concat([enc_dict[f].transform(data[f]) for f in enc_features],\n",
    "                    axis=1, keys=enc_features)\n",
    "    enc_val.columns = [c[0] + '_' + c[1] for c in enc_val.columns]\n",
    "    \n",
    "    # Append to data\n",
    "    data = pd.concat([data.drop(columns=enc_val.columns, errors='ignore'), enc_val], \n",
    "                      axis=1)\n",
    "    train_df = data[data['dset'] == 'train']\n",
    "    test_df = data[data['dset'] == 'test']\n",
    "    val_df = data[data['dset'] == 'val']\n",
    "    \n",
    "    predictor_features = setup.predictor_features + list(enc_val.columns)\n",
    "\n",
    "    # Model fit\n",
    "    xgb_model = xgb.XGBClassifier(objective=\"binary:logistic\",\n",
    "                             n_estimators =  setup.xgb_n_estimators)\n",
    "    xgb_model = xgb_model.set_params(**xgb_params)\n",
    "    xgb_model.fit(train_df[predictor_features], train_df['target'],\n",
    "              eval_set = [(train_df[predictor_features], train_df['target']),\n",
    "                         (val_df[predictor_features], val_df['target'])])\n",
    "    \n",
    "    # Predict\n",
    "    pred_df = pd.concat([data[['LoanNr_ChkDgt', 'dset', 'target', 'dset_naics_holdout']].reset_index(),\n",
    "                     pd.DataFrame({'predict_prob':\n",
    "                                   xgb_model.predict_proba(data[predictor_features])[:,1]})],\n",
    "                    axis=1) \\\n",
    "    .set_index('index')\n",
    "    \n",
    "    # Decision threshold\n",
    "    pred_train_df = pred_df[pred_df['dset'] == 'train']\n",
    "    thresh_tune_data = sg_plot.get_f1_frame(pred_train_df['target'], \n",
    "                                        pred_train_df['predict_prob'])\n",
    "    thresh_head = thresh_tune_data.sort_values('f1', ascending=False).head(2)\n",
    "    best_thresh = thresh_head['thresh'].iloc[0]\n",
    "    pred_df['predict_bin'] = np.where(pred_df['predict_prob'] >= best_thresh, 1, 0)\n",
    "    \n",
    "    # Metrics\n",
    "    metrics_dset_df = pred_df.groupby('dset') \\\n",
    "        .apply(lambda x: sg_plot.dset_metrics(x.target, x.predict_bin, x.predict_prob)) \\\n",
    "        .reset_index()\n",
    "    metrics_test_df = pred_df[pred_df['dset'] == 'test'] \\\n",
    "        .groupby(['dset', 'dset_naics_holdout']) \\\n",
    "        .apply(lambda x: sg_plot.dset_metrics(x.target, x.predict_bin, x.predict_prob)) \\\n",
    "        .reset_index()\n",
    "    metrics_df = pd.concat([metrics_dset_df, metrics_test_df])\n",
    "    \n",
    "    return pred_df, metrics_df"
   ]
  },
  {
   "cell_type": "markdown",
   "id": "9c290356-3291-4406-90cf-d921ad845925",
   "metadata": {},
   "source": [
    "## Loop to get predictions, metrics"
   ]
  },
  {
   "cell_type": "code",
   "execution_count": 11,
   "id": "9cc600c7-afa6-41df-a9c0-6eb710081542",
   "metadata": {},
   "outputs": [],
   "source": [
    "count_sets = [5, 10, 20, 50, 100, 200, 500, 1000, 2000]"
   ]
  },
  {
   "cell_type": "code",
   "execution_count": 12,
   "id": "3ca0672f-819d-4bf5-b829-a481a852d65b",
   "metadata": {},
   "outputs": [],
   "source": [
    "%%capture\n",
    "pred_df = pd.DataFrame()\n",
    "metrics_df = pd.DataFrame()\n",
    "for c in count_sets:\n",
    "    this_pred, this_met = get_metrics(sba_loans, c)\n",
    "    this_pred['c'] = c\n",
    "    pred_df = pd.concat([pred_df, this_pred])\n",
    "    this_met['c'] = c\n",
    "    metrics_df = pd.concat([metrics_df, this_met])"
   ]
  },
  {
   "cell_type": "code",
   "execution_count": 13,
   "id": "0ff21702-e129-418b-b6c3-8ebd047186a0",
   "metadata": {},
   "outputs": [
    {
     "data": {
      "text/html": [
       "<div>\n",
       "<style scoped>\n",
       "    .dataframe tbody tr th:only-of-type {\n",
       "        vertical-align: middle;\n",
       "    }\n",
       "\n",
       "    .dataframe tbody tr th {\n",
       "        vertical-align: top;\n",
       "    }\n",
       "\n",
       "    .dataframe thead th {\n",
       "        text-align: right;\n",
       "    }\n",
       "</style>\n",
       "<table border=\"1\" class=\"dataframe\">\n",
       "  <thead>\n",
       "    <tr style=\"text-align: right;\">\n",
       "      <th></th>\n",
       "      <th>dset</th>\n",
       "      <th>accuracy_score</th>\n",
       "      <th>f1_score</th>\n",
       "      <th>precision_score</th>\n",
       "      <th>recall_score</th>\n",
       "      <th>average_precision_score</th>\n",
       "      <th>roc_auc_score</th>\n",
       "      <th>dset_naics_holdout</th>\n",
       "      <th>c</th>\n",
       "    </tr>\n",
       "  </thead>\n",
       "  <tbody>\n",
       "    <tr>\n",
       "      <th>1</th>\n",
       "      <td>test</td>\n",
       "      <td>0.679149</td>\n",
       "      <td>0.415743</td>\n",
       "      <td>0.310672</td>\n",
       "      <td>0.628204</td>\n",
       "      <td>0.346129</td>\n",
       "      <td>0.725413</td>\n",
       "      <td>1.0</td>\n",
       "      <td>5</td>\n",
       "    </tr>\n",
       "    <tr>\n",
       "      <th>1</th>\n",
       "      <td>test</td>\n",
       "      <td>0.722745</td>\n",
       "      <td>0.399680</td>\n",
       "      <td>0.329474</td>\n",
       "      <td>0.507910</td>\n",
       "      <td>0.342326</td>\n",
       "      <td>0.724919</td>\n",
       "      <td>1.0</td>\n",
       "      <td>10</td>\n",
       "    </tr>\n",
       "    <tr>\n",
       "      <th>1</th>\n",
       "      <td>test</td>\n",
       "      <td>0.730908</td>\n",
       "      <td>0.399630</td>\n",
       "      <td>0.336064</td>\n",
       "      <td>0.492852</td>\n",
       "      <td>0.343240</td>\n",
       "      <td>0.725454</td>\n",
       "      <td>1.0</td>\n",
       "      <td>20</td>\n",
       "    </tr>\n",
       "    <tr>\n",
       "      <th>1</th>\n",
       "      <td>test</td>\n",
       "      <td>0.693983</td>\n",
       "      <td>0.414930</td>\n",
       "      <td>0.317916</td>\n",
       "      <td>0.597158</td>\n",
       "      <td>0.345827</td>\n",
       "      <td>0.727014</td>\n",
       "      <td>1.0</td>\n",
       "      <td>50</td>\n",
       "    </tr>\n",
       "    <tr>\n",
       "      <th>1</th>\n",
       "      <td>test</td>\n",
       "      <td>0.689233</td>\n",
       "      <td>0.416768</td>\n",
       "      <td>0.316230</td>\n",
       "      <td>0.611031</td>\n",
       "      <td>0.345690</td>\n",
       "      <td>0.727347</td>\n",
       "      <td>1.0</td>\n",
       "      <td>100</td>\n",
       "    </tr>\n",
       "    <tr>\n",
       "      <th>1</th>\n",
       "      <td>test</td>\n",
       "      <td>0.673999</td>\n",
       "      <td>0.418779</td>\n",
       "      <td>0.309738</td>\n",
       "      <td>0.646307</td>\n",
       "      <td>0.346034</td>\n",
       "      <td>0.728247</td>\n",
       "      <td>1.0</td>\n",
       "      <td>200</td>\n",
       "    </tr>\n",
       "    <tr>\n",
       "      <th>1</th>\n",
       "      <td>test</td>\n",
       "      <td>0.663162</td>\n",
       "      <td>0.419304</td>\n",
       "      <td>0.305291</td>\n",
       "      <td>0.669233</td>\n",
       "      <td>0.347995</td>\n",
       "      <td>0.729532</td>\n",
       "      <td>1.0</td>\n",
       "      <td>500</td>\n",
       "    </tr>\n",
       "    <tr>\n",
       "      <th>1</th>\n",
       "      <td>test</td>\n",
       "      <td>0.635722</td>\n",
       "      <td>0.419803</td>\n",
       "      <td>0.295397</td>\n",
       "      <td>0.725235</td>\n",
       "      <td>0.348192</td>\n",
       "      <td>0.729452</td>\n",
       "      <td>1.0</td>\n",
       "      <td>1000</td>\n",
       "    </tr>\n",
       "    <tr>\n",
       "      <th>1</th>\n",
       "      <td>test</td>\n",
       "      <td>0.623578</td>\n",
       "      <td>0.420961</td>\n",
       "      <td>0.292143</td>\n",
       "      <td>0.752982</td>\n",
       "      <td>0.350590</td>\n",
       "      <td>0.730370</td>\n",
       "      <td>1.0</td>\n",
       "      <td>2000</td>\n",
       "    </tr>\n",
       "  </tbody>\n",
       "</table>\n",
       "</div>"
      ],
      "text/plain": [
       "   dset  accuracy_score  f1_score  precision_score  recall_score  \\\n",
       "1  test        0.679149  0.415743         0.310672      0.628204   \n",
       "1  test        0.722745  0.399680         0.329474      0.507910   \n",
       "1  test        0.730908  0.399630         0.336064      0.492852   \n",
       "1  test        0.693983  0.414930         0.317916      0.597158   \n",
       "1  test        0.689233  0.416768         0.316230      0.611031   \n",
       "1  test        0.673999  0.418779         0.309738      0.646307   \n",
       "1  test        0.663162  0.419304         0.305291      0.669233   \n",
       "1  test        0.635722  0.419803         0.295397      0.725235   \n",
       "1  test        0.623578  0.420961         0.292143      0.752982   \n",
       "\n",
       "   average_precision_score  roc_auc_score  dset_naics_holdout     c  \n",
       "1                 0.346129       0.725413                 1.0     5  \n",
       "1                 0.342326       0.724919                 1.0    10  \n",
       "1                 0.343240       0.725454                 1.0    20  \n",
       "1                 0.345827       0.727014                 1.0    50  \n",
       "1                 0.345690       0.727347                 1.0   100  \n",
       "1                 0.346034       0.728247                 1.0   200  \n",
       "1                 0.347995       0.729532                 1.0   500  \n",
       "1                 0.348192       0.729452                 1.0  1000  \n",
       "1                 0.350590       0.730370                 1.0  2000  "
      ]
     },
     "execution_count": 13,
     "metadata": {},
     "output_type": "execute_result"
    }
   ],
   "source": [
    "metrics_df[metrics_df['dset_naics_holdout'] == 1]"
   ]
  },
  {
   "cell_type": "code",
   "execution_count": 14,
   "id": "62e8b937-8e1c-4a4c-8cc3-40f8325564c0",
   "metadata": {},
   "outputs": [
    {
     "data": {
      "text/html": [
       "<div>\n",
       "<style scoped>\n",
       "    .dataframe tbody tr th:only-of-type {\n",
       "        vertical-align: middle;\n",
       "    }\n",
       "\n",
       "    .dataframe tbody tr th {\n",
       "        vertical-align: top;\n",
       "    }\n",
       "\n",
       "    .dataframe thead th {\n",
       "        text-align: right;\n",
       "    }\n",
       "</style>\n",
       "<table border=\"1\" class=\"dataframe\">\n",
       "  <thead>\n",
       "    <tr style=\"text-align: right;\">\n",
       "      <th></th>\n",
       "      <th>dset</th>\n",
       "      <th>accuracy_score</th>\n",
       "      <th>f1_score</th>\n",
       "      <th>precision_score</th>\n",
       "      <th>recall_score</th>\n",
       "      <th>average_precision_score</th>\n",
       "      <th>roc_auc_score</th>\n",
       "      <th>dset_naics_holdout</th>\n",
       "      <th>c</th>\n",
       "    </tr>\n",
       "  </thead>\n",
       "  <tbody>\n",
       "    <tr>\n",
       "      <th>0</th>\n",
       "      <td>test</td>\n",
       "      <td>0.659783</td>\n",
       "      <td>0.449008</td>\n",
       "      <td>0.336651</td>\n",
       "      <td>0.673932</td>\n",
       "      <td>0.384117</td>\n",
       "      <td>0.728273</td>\n",
       "      <td>0.0</td>\n",
       "      <td>5</td>\n",
       "    </tr>\n",
       "    <tr>\n",
       "      <th>0</th>\n",
       "      <td>test</td>\n",
       "      <td>0.660264</td>\n",
       "      <td>0.449110</td>\n",
       "      <td>0.336935</td>\n",
       "      <td>0.673256</td>\n",
       "      <td>0.383112</td>\n",
       "      <td>0.728365</td>\n",
       "      <td>0.0</td>\n",
       "      <td>10</td>\n",
       "    </tr>\n",
       "    <tr>\n",
       "      <th>0</th>\n",
       "      <td>test</td>\n",
       "      <td>0.660724</td>\n",
       "      <td>0.449961</td>\n",
       "      <td>0.337541</td>\n",
       "      <td>0.674661</td>\n",
       "      <td>0.383805</td>\n",
       "      <td>0.728587</td>\n",
       "      <td>0.0</td>\n",
       "      <td>20</td>\n",
       "    </tr>\n",
       "    <tr>\n",
       "      <th>0</th>\n",
       "      <td>test</td>\n",
       "      <td>0.661259</td>\n",
       "      <td>0.450504</td>\n",
       "      <td>0.338048</td>\n",
       "      <td>0.675077</td>\n",
       "      <td>0.384132</td>\n",
       "      <td>0.728849</td>\n",
       "      <td>0.0</td>\n",
       "      <td>50</td>\n",
       "    </tr>\n",
       "    <tr>\n",
       "      <th>0</th>\n",
       "      <td>test</td>\n",
       "      <td>0.659483</td>\n",
       "      <td>0.448981</td>\n",
       "      <td>0.336491</td>\n",
       "      <td>0.674452</td>\n",
       "      <td>0.382759</td>\n",
       "      <td>0.728253</td>\n",
       "      <td>0.0</td>\n",
       "      <td>100</td>\n",
       "    </tr>\n",
       "    <tr>\n",
       "      <th>0</th>\n",
       "      <td>test</td>\n",
       "      <td>0.656541</td>\n",
       "      <td>0.448488</td>\n",
       "      <td>0.334838</td>\n",
       "      <td>0.678926</td>\n",
       "      <td>0.381273</td>\n",
       "      <td>0.727429</td>\n",
       "      <td>0.0</td>\n",
       "      <td>200</td>\n",
       "    </tr>\n",
       "    <tr>\n",
       "      <th>0</th>\n",
       "      <td>test</td>\n",
       "      <td>0.652678</td>\n",
       "      <td>0.446612</td>\n",
       "      <td>0.332167</td>\n",
       "      <td>0.681371</td>\n",
       "      <td>0.377244</td>\n",
       "      <td>0.724080</td>\n",
       "      <td>0.0</td>\n",
       "      <td>500</td>\n",
       "    </tr>\n",
       "    <tr>\n",
       "      <th>0</th>\n",
       "      <td>test</td>\n",
       "      <td>0.621572</td>\n",
       "      <td>0.445100</td>\n",
       "      <td>0.318663</td>\n",
       "      <td>0.737866</td>\n",
       "      <td>0.372379</td>\n",
       "      <td>0.721684</td>\n",
       "      <td>0.0</td>\n",
       "      <td>1000</td>\n",
       "    </tr>\n",
       "    <tr>\n",
       "      <th>0</th>\n",
       "      <td>test</td>\n",
       "      <td>0.613429</td>\n",
       "      <td>0.442648</td>\n",
       "      <td>0.314633</td>\n",
       "      <td>0.746294</td>\n",
       "      <td>0.363523</td>\n",
       "      <td>0.716924</td>\n",
       "      <td>0.0</td>\n",
       "      <td>2000</td>\n",
       "    </tr>\n",
       "  </tbody>\n",
       "</table>\n",
       "</div>"
      ],
      "text/plain": [
       "   dset  accuracy_score  f1_score  precision_score  recall_score  \\\n",
       "0  test        0.659783  0.449008         0.336651      0.673932   \n",
       "0  test        0.660264  0.449110         0.336935      0.673256   \n",
       "0  test        0.660724  0.449961         0.337541      0.674661   \n",
       "0  test        0.661259  0.450504         0.338048      0.675077   \n",
       "0  test        0.659483  0.448981         0.336491      0.674452   \n",
       "0  test        0.656541  0.448488         0.334838      0.678926   \n",
       "0  test        0.652678  0.446612         0.332167      0.681371   \n",
       "0  test        0.621572  0.445100         0.318663      0.737866   \n",
       "0  test        0.613429  0.442648         0.314633      0.746294   \n",
       "\n",
       "   average_precision_score  roc_auc_score  dset_naics_holdout     c  \n",
       "0                 0.384117       0.728273                 0.0     5  \n",
       "0                 0.383112       0.728365                 0.0    10  \n",
       "0                 0.383805       0.728587                 0.0    20  \n",
       "0                 0.384132       0.728849                 0.0    50  \n",
       "0                 0.382759       0.728253                 0.0   100  \n",
       "0                 0.381273       0.727429                 0.0   200  \n",
       "0                 0.377244       0.724080                 0.0   500  \n",
       "0                 0.372379       0.721684                 0.0  1000  \n",
       "0                 0.363523       0.716924                 0.0  2000  "
      ]
     },
     "execution_count": 14,
     "metadata": {},
     "output_type": "execute_result"
    }
   ],
   "source": [
    "metrics_df[metrics_df['dset_naics_holdout'] == 0]"
   ]
  },
  {
   "cell_type": "code",
   "execution_count": 15,
   "id": "68669385-ef28-4f52-8987-7cc43ac626a6",
   "metadata": {},
   "outputs": [],
   "source": [
    "pred_df.to_parquet(Path(setup.temp_path).joinpath('A50_DATA_combined_predictions.parquet'))\n",
    "metrics_df.to_csv(Path(setup.temp_path).joinpath('A50_REPORT_metrics.csv'), index=True)"
   ]
  },
  {
   "cell_type": "markdown",
   "id": "bb19ebdb-1de6-4501-9447-8cd190bd6092",
   "metadata": {},
   "source": [
    "## Compare Results to Standard"
   ]
  },
  {
   "cell_type": "markdown",
   "id": "1d500680-c536-4b0b-95a1-7a6a7298f6fd",
   "metadata": {},
   "source": [
    "#### Regular randomized test"
   ]
  },
  {
   "cell_type": "code",
   "execution_count": 16,
   "id": "93434015-34df-40f6-8705-45610b5cfb90",
   "metadata": {},
   "outputs": [
    {
     "data": {
      "image/png": "[encoded data removed]",
      "text/plain": [
       "<Figure size 640x480 with 1 Axes>"
      ]
     },
     "metadata": {},
     "output_type": "display_data"
    }
   ],
   "source": [
    "fig, ax = plt.subplots()\n",
    "metrics_tenc[metrics_tenc['dset_naics_holdout'] == 0] \\\n",
    "    .plot(x='c', y='average_precision_score', logx=True, ax=ax, \n",
    "          label='Target Encoding',color='darkgray', style='o-')\n",
    "metrics_df[metrics_df['dset_naics_holdout'] == 0] \\\n",
    "    .plot(x='c', y='average_precision_score', logx=True, ax=ax, \n",
    "          label='Target-Thresh',color='violet', style='P-')\n",
    "ax.set_ylabel('PR-AUC')\n",
    "ax.set_xlabel('blend midpoint or count threshold')\n",
    "ax.set_title('NAICS Feature Only (No Hierarchy)')\n",
    "fig.savefig(Path(setup.temp_path).joinpath('A50_PLOT_compare_base_reg.png'),\n",
    "            bbox_inches='tight')"
   ]
  },
  {
   "cell_type": "markdown",
   "id": "ceb87e2a-ac94-441a-ae4b-d2b8031979d1",
   "metadata": {},
   "source": [
    "#### Holdout NAICS"
   ]
  },
  {
   "cell_type": "code",
   "execution_count": 17,
   "id": "64886b8f-1fe3-4887-b7fc-574c0eb18813",
   "metadata": {},
   "outputs": [
    {
     "data": {
      "image/png": "[encoded data removed]",
      "text/plain": [
       "<Figure size 640x480 with 1 Axes>"
      ]
     },
     "metadata": {},
     "output_type": "display_data"
    }
   ],
   "source": [
    "fig, ax = plt.subplots(layout='constrained')\n",
    "metrics_tenc[metrics_tenc['dset_naics_holdout'] == 1] \\\n",
    "    .plot(x='c', y='average_precision_score', logx=True, ax=ax, \n",
    "          label='Target Encoding',color='darkgray', style='o-')\n",
    "metrics_df[metrics_df['dset_naics_holdout'] == 1] \\\n",
    "    .plot(x='c', y='average_precision_score', logx=True, ax=ax, \n",
    "          label='Target-Thresh',color='violet', style='P-')\n",
    "ax.set_ylabel('PR-AUC')\n",
    "ax.set_xlabel('blend midpoint or count threshold')\n",
    "fig.suptitle('Holdout NAICS')\n",
    "ax.set_title('NAICS Feature Only (No Hierarchy)')\n",
    "ax.legend(bbox_to_anchor=(0.6, 0.3))\n",
    "fig.savefig(Path(setup.temp_path).joinpath('A50_PLOT_compare_base_ho.png'))"
   ]
  },
  {
   "cell_type": "code",
   "execution_count": null,
   "id": "9f32282a-77fd-4d14-90ea-6dd44fe8519f",
   "metadata": {},
   "outputs": [],
   "source": []
  },
  {
   "cell_type": "code",
   "execution_count": null,
   "id": "912209ae-41fa-4ee2-b224-c4c741dd114f",
   "metadata": {},
   "outputs": [],
   "source": []
  }
 ],
 "metadata": {
  "kernelspec": {
   "display_name": "tf_p39",
   "language": "python",
   "name": "tf_p39"
  },
  "language_info": {
   "codemirror_mode": {
    "name": "ipython",
    "version": 3
   },
   "file_extension": ".py",
   "mimetype": "text/x-python",
   "name": "python",
   "nbconvert_exporter": "python",
   "pygments_lexer": "ipython3",
   "version": "3.8.18"
  }
 },
 "nbformat": 4,
 "nbformat_minor": 5
}
