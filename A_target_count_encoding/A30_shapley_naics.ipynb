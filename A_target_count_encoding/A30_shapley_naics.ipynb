{
 "cells": [
  {
   "cell_type": "code",
   "execution_count": 5,
   "id": "4f7c6e2f-4274-4eac-8057-d97cc94c6cb0",
   "metadata": {
    "tags": []
   },
   "outputs": [
    {
     "data": {
      "text/plain": [
       "'/Users/valeriecarey/Documents/projects/2023_10_blog_gnn_sba/code'"
      ]
     },
     "execution_count": 5,
     "metadata": {},
     "output_type": "execute_result"
    }
   ],
   "source": [
    "# Modify the file A00_setup.  Note the working directory is changed\n",
    "import os\n",
    "os.chdir(os.getcwd().rsplit(os.path.sep + 'code')[0] + os.path.sep + 'code')\n",
    "from importlib.machinery import SourceFileLoader\n",
    "setup = SourceFileLoader(\"setup\", \"./A_target_count_encoding/A00_setup.py\").load_module()\n",
    "os.getcwd()"
   ]
  },
  {
   "cell_type": "markdown",
   "id": "6cc94d9c-20e1-4c04-9890-2da08f7b2e50",
   "metadata": {},
   "source": [
    "# SHAP: NAICS hierarchy\n",
    "Shapley comparisons for NAICS hierarchy model.  Look at importance of NAICS features"
   ]
  },
  {
   "cell_type": "markdown",
   "id": "800a8c3e-4c58-4f17-b32e-93bda4717949",
   "metadata": {},
   "source": [
    "*This script takes about 5 minutes on my MacBook Air*"
   ]
  },
  {
   "cell_type": "code",
   "execution_count": 6,
   "id": "2ca6a2dc-9086-466a-8092-4014ba1c989f",
   "metadata": {},
   "outputs": [],
   "source": [
    "import pandas as pd\n",
    "import numpy as np\n",
    "import xgboost as xgb\n",
    "import warnings\n",
    "import matplotlib.pyplot as plt\n",
    "import pickle, importlib"
   ]
  },
  {
   "cell_type": "code",
   "execution_count": 7,
   "id": "4ae7d083-6388-4446-a1e5-c22f09e7db85",
   "metadata": {},
   "outputs": [],
   "source": [
    "from pathlib import Path"
   ]
  },
  {
   "cell_type": "code",
   "execution_count": 8,
   "id": "bc9352e8-a979-4bfe-aadc-233b85d55088",
   "metadata": {},
   "outputs": [],
   "source": [
    "import shap\n",
    "import xgboost as xgb"
   ]
  },
  {
   "cell_type": "markdown",
   "id": "2494665b-5a34-451c-b695-ecb7dcf10dc8",
   "metadata": {},
   "source": [
    "## Data"
   ]
  },
  {
   "cell_type": "code",
   "execution_count": 9,
   "id": "ccedb443-a91b-4650-9d90-c99f6e33aa8f",
   "metadata": {
    "tags": []
   },
   "outputs": [],
   "source": [
    "sba_loans = pd.read_parquet(Path(setup.parent_path).joinpath('01_DATA_transformed.parquet')) "
   ]
  },
  {
   "cell_type": "code",
   "execution_count": 10,
   "id": "4b2b13ee-948d-49fa-a6f1-f548f05230f2",
   "metadata": {},
   "outputs": [],
   "source": [
    "train_df = sba_loans[sba_loans['dset'] == 'train']"
   ]
  },
  {
   "cell_type": "markdown",
   "id": "a546eaef-1d58-45bd-8a8a-fb1087146c48",
   "metadata": {},
   "source": [
    "## Models \n",
    "Load a bunch of models and create a dictionary.  Also get model-related data into dictionaries."
   ]
  },
  {
   "cell_type": "code",
   "execution_count": 11,
   "id": "193e9bce-c259-460c-bf62-57f103c8475e",
   "metadata": {},
   "outputs": [],
   "source": [
    "# Function to load the required information from models\n",
    "def model_load(prefix = 'X01', path=setup.temp_path):\n",
    "    model = xgb.Booster()\n",
    "    model.load_model(Path(path).joinpath(prefix + '_MODEL_xgboost.json'))\n",
    "    features_values = pd.read_parquet(Path(path).joinpath(prefix + '_DATA_encodings.parquet'))\n",
    "    features_columns = [c for c in features_values.columns \\\n",
    "                        if c not in ['LoanNr_ChkDgt', 'dset', 'dset_naics_holdout', 'NAICS']]\n",
    "    with open(Path(path).joinpath(prefix + '_DATA_features_predict.pkl'), 'rb') as fin:\n",
    "        features_predict = pickle.load(fin)\n",
    "        \n",
    "    return model, features_values, features_columns, features_predict"
   ]
  },
  {
   "cell_type": "markdown",
   "id": "a62abd7a-bb6e-4078-b640-3413a01b5112",
   "metadata": {},
   "source": [
    "##### Models"
   ]
  },
  {
   "cell_type": "code",
   "execution_count": 12,
   "id": "0662055b-002c-4808-8c4a-2a63c68e0563",
   "metadata": {},
   "outputs": [],
   "source": [
    "# Standard target encoding of NAICS\n",
    "xgb_model_menc, features_menc_values, features_menc_columns, features_predict_menc = \\\n",
    "    model_load('X04', setup.parent_path)"
   ]
  },
  {
   "cell_type": "code",
   "execution_count": 13,
   "id": "2bc59e58-7be8-4fe2-aa64-ffc7a002f8d1",
   "metadata": {},
   "outputs": [],
   "source": [
    "# Hierarchical target encoding by NAICS\n",
    "xgb_model_mhier, features_mhier_values, features_mhier_columns, features_predict_mhier = \\\n",
    "    model_load('X10', setup.parent_path)"
   ]
  },
  {
   "cell_type": "code",
   "execution_count": 14,
   "id": "57335816-b2a9-46b0-b9c4-cb357bc37b5c",
   "metadata": {},
   "outputs": [],
   "source": [
    "# Standard target encoding of all levels NAICS (separately)\n",
    "xgb_model_menc_all, features_menc_all_values, features_menc_all_columns, features_predict_menc_all = \\\n",
    "    model_load('A01', setup.temp_path)"
   ]
  },
  {
   "cell_type": "code",
   "execution_count": 15,
   "id": "ac1e2261-0e94-4034-83e2-10ea5fc77f01",
   "metadata": {},
   "outputs": [],
   "source": [
    "# Target+Count encoding, all levels NAICS\n",
    "xgb_model_tc, features_tc_values, features_tc_columns, features_predict_tc = \\\n",
    "    model_load('A20', setup.temp_path)"
   ]
  },
  {
   "cell_type": "code",
   "execution_count": 16,
   "id": "6bab664b-8797-477e-9c3b-638209edc091",
   "metadata": {},
   "outputs": [],
   "source": [
    "# Target-Thresh encoding, all levels NAICS\n",
    "xgb_model_tt, features_tt_values, features_tt_columns, features_predict_tt = \\\n",
    "    model_load('A21', setup.temp_path)"
   ]
  },
  {
   "cell_type": "code",
   "execution_count": 17,
   "id": "aee601d9-2304-4b94-b83d-1ab03e8ecf44",
   "metadata": {},
   "outputs": [],
   "source": [
    "# Encoding column into dictionary\n",
    "feature_dict = {'menc': features_menc_columns, \n",
    "                'mhier':features_mhier_columns,\n",
    "                'menc_all': features_menc_all_columns,\n",
    "                'tc':features_tc_columns,\n",
    "                 'tt':features_tt_columns}"
   ]
  },
  {
   "cell_type": "code",
   "execution_count": 18,
   "id": "5e151a18-60aa-4108-b88c-9e9c43845d5b",
   "metadata": {},
   "outputs": [],
   "source": [
    "# Order for plots and tables\n",
    "feature_order = ['menc', 'mhier', 'menc_all', 'tc', 'tt']\n",
    "num_models = len(feature_order)"
   ]
  },
  {
   "cell_type": "code",
   "execution_count": 19,
   "id": "cb4f5086-f216-4ade-8178-3a0fea53c7f5",
   "metadata": {},
   "outputs": [],
   "source": [
    "# Models into a dictionary\n",
    "model_dict = {'menc': xgb_model_menc, \n",
    "                'mhier':xgb_model_mhier,\n",
    "                'menc_all': xgb_model_menc_all,\n",
    "                'tc':xgb_model_tc,\n",
    "                 'tt':xgb_model_tt}"
   ]
  },
  {
   "cell_type": "code",
   "execution_count": 20,
   "id": "18539d39-0b1c-4acb-b1b7-622da0696257",
   "metadata": {},
   "outputs": [],
   "source": [
    "# Predictor dictionary for compactness\n",
    "predictor_dict = {'menc': features_predict_menc, \n",
    "                'mhier':features_predict_mhier,\n",
    "                'menc_all': features_predict_menc_all,\n",
    "                'tc':features_predict_tc,\n",
    "                 'tt':features_predict_tt}"
   ]
  },
  {
   "cell_type": "code",
   "execution_count": 21,
   "id": "0b064d4c-8751-4c84-9524-f7197b0c6c21",
   "metadata": {},
   "outputs": [
    {
     "data": {
      "text/plain": [
       "dict_keys(['menc', 'mhier', 'menc_all', 'tc', 'tt'])"
      ]
     },
     "execution_count": 21,
     "metadata": {},
     "output_type": "execute_result"
    }
   ],
   "source": [
    "predictor_dict.keys()"
   ]
  },
  {
   "cell_type": "markdown",
   "id": "6e1fb8f6-1acf-44e1-93af-64a628b3ccb4",
   "metadata": {},
   "source": [
    "## Datasets for Explanations\n",
    "Wamt to use the same cases for all models.  Use the test holdout, and regular test data.  I need to append different features for each"
   ]
  },
  {
   "cell_type": "code",
   "execution_count": 26,
   "id": "cb137b77-f6e7-4ad3-8582-5d875bfcf985",
   "metadata": {},
   "outputs": [],
   "source": [
    "holdout_base = sba_loans[sba_loans['dset_naics_holdout'] == 1]"
   ]
  },
  {
   "cell_type": "code",
   "execution_count": null,
   "id": "97df3c20-1968-4a3e-8feb-3d560a6d281f",
   "metadata": {},
   "outputs": [],
   "source": []
  },
  {
   "cell_type": "markdown",
   "id": "dc0f0ec8-3a27-41b7-831a-ec4d7552cf51",
   "metadata": {
    "tags": []
   },
   "source": [
    "## SHAP Explainers, Values\n",
    "For the 3 models, generate explainers then explanations"
   ]
  },
  {
   "cell_type": "markdown",
   "id": "0add6582-ac2b-4183-9445-99f916cfb941",
   "metadata": {
    "tags": []
   },
   "source": [
    "##### Explainers"
   ]
  },
  {
   "cell_type": "code",
   "execution_count": 27,
   "id": "3f975d35-90b3-4f9a-9d8b-023e1f9f9687",
   "metadata": {},
   "outputs": [],
   "source": [
    "explainer_dict = {k: \\\n",
    "                  shap.TreeExplainer(model_dict[k],feature_names=predictor_dict[k]) \\\n",
    "              for k in predictor_dict.keys()}"
   ]
  },
  {
   "cell_type": "code",
   "execution_count": 28,
   "id": "f6fe2cf9-271d-4a54-b98e-3a858c026241",
   "metadata": {},
   "outputs": [
    {
     "data": {
      "text/plain": [
       "{'menc': <shap.explainers._tree.TreeExplainer at 0x335fd5490>,\n",
       " 'mhier': <shap.explainers._tree.TreeExplainer at 0x17f06e400>,\n",
       " 'menc_all': <shap.explainers._tree.TreeExplainer at 0x335fd5550>,\n",
       " 'tc': <shap.explainers._tree.TreeExplainer at 0x335fd5640>,\n",
       " 'tt': <shap.explainers._tree.TreeExplainer at 0x335fd5700>}"
      ]
     },
     "execution_count": 28,
     "metadata": {},
     "output_type": "execute_result"
    }
   ],
   "source": [
    "explainer_dict"
   ]
  },
  {
   "cell_type": "markdown",
   "id": "3bb90cd3-31f7-43a1-a6de-31ddfc609905",
   "metadata": {},
   "source": [
    "##### Holdout values"
   ]
  },
  {
   "cell_type": "code",
   "execution_count": 23,
   "id": "d167e0fb-5661-46d9-be1e-6ff1017558a3",
   "metadata": {},
   "outputs": [],
   "source": [
    "holdout_df = sba_loans[sba_loans['dset_naics_holdout'] == 1]"
   ]
  },
  {
   "cell_type": "code",
   "execution_count": 24,
   "id": "95420277-5ce4-484b-9710-e1d4a4012020",
   "metadata": {},
   "outputs": [],
   "source": [
    "shap_holdout_dict = {k: \n",
    "                     explainer_dict[k].shap_values(holdout_df[predictor_dict[k]])\n",
    "                     for k in feature_dict.keys()}"
   ]
  },
  {
   "cell_type": "markdown",
   "id": "6f9cc047-9c33-4f48-96ea-2c0a3fdcd286",
   "metadata": {},
   "source": [
    "##### Random test values"
   ]
  },
  {
   "cell_type": "code",
   "execution_count": 25,
   "id": "5b9996b6-2f4e-480a-b504-e77721366006",
   "metadata": {},
   "outputs": [],
   "source": [
    "test_nh_df = sba_loans[sba_loans['dset_naics_holdout'] == 0]"
   ]
  },
  {
   "cell_type": "code",
   "execution_count": 26,
   "id": "1b176f22-dee2-435a-8d2b-be6ab9c4c70a",
   "metadata": {},
   "outputs": [],
   "source": [
    "shap_test_dict = {k: \n",
    "                     explainer_dict[k].shap_values(test_nh_df[predictor_dict[k]])\n",
    "                     for k in feature_dict.keys()}"
   ]
  },
  {
   "cell_type": "markdown",
   "id": "12d147df-65fd-40af-9c0b-a49e6ab7bd7d",
   "metadata": {},
   "source": [
    "## SHAP Dataframes"
   ]
  },
  {
   "cell_type": "markdown",
   "id": "f6c76f2b-505b-4517-980c-ca5fd8572a40",
   "metadata": {},
   "source": [
    "##### Wide version"
   ]
  },
  {
   "cell_type": "code",
   "execution_count": 27,
   "id": "7cee811a-abf1-46ed-b645-ec72a3ae53b5",
   "metadata": {},
   "outputs": [],
   "source": [
    "# Wide dataframe for a single model\n",
    "def get_shap_df(data, shap_values, predictor_features, enc_feature):\n",
    "    df = pd.DataFrame(shap_values, columns=predictor_features,index = data.index) \\\n",
    "        .rename(columns={enc_feature:'enc_shap'})\n",
    "    df = pd.concat([data[['LoanNr_ChkDgt', 'target', 'NAICS',\n",
    "                          enc_feature]].rename(columns={enc_feature:'enc_val'}),\n",
    "                    df], axis=1)\n",
    "    return df"
   ]
  },
  {
   "cell_type": "code",
   "execution_count": 28,
   "id": "5f800356-19c6-4038-a083-9c71f06a6f16",
   "metadata": {},
   "outputs": [],
   "source": [
    "# Dataframe for multiple models\n",
    "def get_wide_df(data, shap_dict,\n",
    "               predictor_dict = predictor_dict,\n",
    "               feature_dict = feature_dict,\n",
    "               model_categories = feature_order):\n",
    "    df = pd.concat([get_shap_df(data, shap_dict[k], predictor_dict[k], feature_dict[k])\n",
    "                    for k in feature_dict.keys()],\n",
    "                   keys=feature_dict.keys()) \\\n",
    "        .reset_index(level=0) \\\n",
    "        .rename(columns={'level_0':'model'}) \\\n",
    "        .reset_index(drop=True)\n",
    "    \n",
    "    cat_type = pd.CategoricalDtype(categories=feature_order,ordered=True)\n",
    "    df['model'] =  df['model'].astype(cat_type)\n",
    "    \n",
    "    return df"
   ]
  },
  {
   "cell_type": "code",
   "execution_count": 29,
   "id": "db9e5591-dd88-4bdd-b23c-85aa9bde8a10",
   "metadata": {},
   "outputs": [],
   "source": [
    "holdout_wide_df = get_wide_df(holdout_df, shap_holdout_dict)"
   ]
  },
  {
   "cell_type": "code",
   "execution_count": 30,
   "id": "2570dcd8-84f1-4e25-948f-dbf503465739",
   "metadata": {},
   "outputs": [],
   "source": [
    "test_wide_df = get_wide_df(test_nh_df, shap_test_dict)"
   ]
  },
  {
   "cell_type": "code",
   "execution_count": 31,
   "id": "f5a25963-f9ba-4c6b-bf67-fdba4d39947c",
   "metadata": {},
   "outputs": [],
   "source": [
    "wide_df = pd.concat([holdout_wide_df, test_wide_df],\n",
    "                    keys = [1, 0]) \\\n",
    "    .reset_index(level=0) \\\n",
    "    .rename(columns={'level_0':'dset_naics_holdout'}) \\\n",
    "    .reset_index(drop=True)"
   ]
  },
  {
   "cell_type": "code",
   "execution_count": 32,
   "id": "403065ab-18e2-41f9-881b-49847b23644b",
   "metadata": {},
   "outputs": [
    {
     "data": {
      "text/html": [
       "<div>\n",
       "<style scoped>\n",
       "    .dataframe tbody tr th:only-of-type {\n",
       "        vertical-align: middle;\n",
       "    }\n",
       "\n",
       "    .dataframe tbody tr th {\n",
       "        vertical-align: top;\n",
       "    }\n",
       "\n",
       "    .dataframe thead th {\n",
       "        text-align: right;\n",
       "    }\n",
       "</style>\n",
       "<table border=\"1\" class=\"dataframe\">\n",
       "  <thead>\n",
       "    <tr style=\"text-align: right;\">\n",
       "      <th></th>\n",
       "      <th>dset_naics_holdout</th>\n",
       "      <th>model</th>\n",
       "      <th>LoanNr_ChkDgt</th>\n",
       "      <th>target</th>\n",
       "      <th>NAICS</th>\n",
       "      <th>enc_val</th>\n",
       "      <th>NoEmp</th>\n",
       "      <th>CreateJob</th>\n",
       "      <th>LowDoc</th>\n",
       "      <th>DisbursementGross</th>\n",
       "      <th>new_business</th>\n",
       "      <th>urban_flag</th>\n",
       "      <th>franchise_flag</th>\n",
       "      <th>enc_shap</th>\n",
       "    </tr>\n",
       "  </thead>\n",
       "  <tbody>\n",
       "    <tr>\n",
       "      <th>0</th>\n",
       "      <td>1</td>\n",
       "      <td>menc</td>\n",
       "      <td>1000146010</td>\n",
       "      <td>0</td>\n",
       "      <td>445299</td>\n",
       "      <td>0.204655</td>\n",
       "      <td>0.088108</td>\n",
       "      <td>-0.001880</td>\n",
       "      <td>0.017768</td>\n",
       "      <td>-0.149431</td>\n",
       "      <td>0.193137</td>\n",
       "      <td>0.170542</td>\n",
       "      <td>0.029723</td>\n",
       "      <td>0.091684</td>\n",
       "    </tr>\n",
       "    <tr>\n",
       "      <th>1</th>\n",
       "      <td>1</td>\n",
       "      <td>menc</td>\n",
       "      <td>1000734007</td>\n",
       "      <td>0</td>\n",
       "      <td>512110</td>\n",
       "      <td>0.204655</td>\n",
       "      <td>0.044254</td>\n",
       "      <td>-0.010897</td>\n",
       "      <td>-0.250198</td>\n",
       "      <td>0.049062</td>\n",
       "      <td>-0.053356</td>\n",
       "      <td>-0.995948</td>\n",
       "      <td>-0.003018</td>\n",
       "      <td>0.078733</td>\n",
       "    </tr>\n",
       "    <tr>\n",
       "      <th>2</th>\n",
       "      <td>1</td>\n",
       "      <td>menc</td>\n",
       "      <td>1000745006</td>\n",
       "      <td>0</td>\n",
       "      <td>541810</td>\n",
       "      <td>0.204655</td>\n",
       "      <td>-0.000311</td>\n",
       "      <td>-0.352729</td>\n",
       "      <td>0.042809</td>\n",
       "      <td>0.397000</td>\n",
       "      <td>-0.010701</td>\n",
       "      <td>-0.865773</td>\n",
       "      <td>0.000070</td>\n",
       "      <td>-0.021616</td>\n",
       "    </tr>\n",
       "  </tbody>\n",
       "</table>\n",
       "</div>"
      ],
      "text/plain": [
       "   dset_naics_holdout model LoanNr_ChkDgt  target   NAICS   enc_val     NoEmp  \\\n",
       "0                   1  menc    1000146010       0  445299  0.204655  0.088108   \n",
       "1                   1  menc    1000734007       0  512110  0.204655  0.044254   \n",
       "2                   1  menc    1000745006       0  541810  0.204655 -0.000311   \n",
       "\n",
       "   CreateJob    LowDoc  DisbursementGross  new_business  urban_flag  \\\n",
       "0  -0.001880  0.017768          -0.149431      0.193137    0.170542   \n",
       "1  -0.010897 -0.250198           0.049062     -0.053356   -0.995948   \n",
       "2  -0.352729  0.042809           0.397000     -0.010701   -0.865773   \n",
       "\n",
       "   franchise_flag  enc_shap  \n",
       "0        0.029723  0.091684  \n",
       "1       -0.003018  0.078733  \n",
       "2        0.000070 -0.021616  "
      ]
     },
     "execution_count": 32,
     "metadata": {},
     "output_type": "execute_result"
    }
   ],
   "source": [
    "wide_df.head(3)"
   ]
  },
  {
   "cell_type": "code",
   "execution_count": 33,
   "id": "5e6863f2-7d7c-492c-b22c-e3d8cde4ad1d",
   "metadata": {},
   "outputs": [
    {
     "data": {
      "text/plain": [
       "model\n",
       "menc     688081\n",
       "naics    688081\n",
       "dgi      688081\n",
       "Name: count, dtype: int64"
      ]
     },
     "execution_count": 33,
     "metadata": {},
     "output_type": "execute_result"
    }
   ],
   "source": [
    "wide_df['model'].value_counts()"
   ]
  },
  {
   "cell_type": "code",
   "execution_count": 34,
   "id": "65dd7a2e-5a3a-4192-91bc-9c6a98056792",
   "metadata": {},
   "outputs": [],
   "source": [
    "wide_df.to_parquet(Path(setup.temp_path).joinpath('A30_DATA_shap_wide.parquet'))"
   ]
  },
  {
   "cell_type": "markdown",
   "id": "5f425e07-4a6d-4d99-bd03-f809fc46dd9c",
   "metadata": {},
   "source": [
    "##### Long version"
   ]
  },
  {
   "cell_type": "code",
   "execution_count": 35,
   "id": "f37e7fb4-5627-4ec1-9c1d-a19390826138",
   "metadata": {},
   "outputs": [],
   "source": [
    "shap_cols = setup.predictor_features + ['enc_shap']\n",
    "id_cols = [c for c in wide_df.columns if c not in shap_cols]"
   ]
  },
  {
   "cell_type": "code",
   "execution_count": 36,
   "id": "310707d3-ad83-4ca9-b8c4-0bf64893a250",
   "metadata": {},
   "outputs": [
    {
     "data": {
      "text/plain": [
       "['dset_naics_holdout', 'model', 'LoanNr_ChkDgt', 'target', 'NAICS', 'enc_val']"
      ]
     },
     "execution_count": 36,
     "metadata": {},
     "output_type": "execute_result"
    }
   ],
   "source": [
    "id_cols"
   ]
  },
  {
   "cell_type": "code",
   "execution_count": 37,
   "id": "37f8846e-3a86-470b-b9c4-d9fc0b3e4efe",
   "metadata": {},
   "outputs": [],
   "source": [
    "long_df = wide_df.melt(id_vars=id_cols)\n",
    "long_df['enc_feat'] = np.where(long_df['variable'] == 'enc_shap', 1, 0)"
   ]
  },
  {
   "cell_type": "code",
   "execution_count": 38,
   "id": "c849c505-2bef-4105-a81f-12fc3fec43c3",
   "metadata": {},
   "outputs": [
    {
     "data": {
      "text/html": [
       "<div>\n",
       "<style scoped>\n",
       "    .dataframe tbody tr th:only-of-type {\n",
       "        vertical-align: middle;\n",
       "    }\n",
       "\n",
       "    .dataframe tbody tr th {\n",
       "        vertical-align: top;\n",
       "    }\n",
       "\n",
       "    .dataframe thead th {\n",
       "        text-align: right;\n",
       "    }\n",
       "</style>\n",
       "<table border=\"1\" class=\"dataframe\">\n",
       "  <thead>\n",
       "    <tr style=\"text-align: right;\">\n",
       "      <th></th>\n",
       "      <th>dset_naics_holdout</th>\n",
       "      <th>model</th>\n",
       "      <th>LoanNr_ChkDgt</th>\n",
       "      <th>target</th>\n",
       "      <th>NAICS</th>\n",
       "      <th>enc_val</th>\n",
       "      <th>variable</th>\n",
       "      <th>value</th>\n",
       "      <th>enc_feat</th>\n",
       "    </tr>\n",
       "  </thead>\n",
       "  <tbody>\n",
       "    <tr>\n",
       "      <th>0</th>\n",
       "      <td>1</td>\n",
       "      <td>menc</td>\n",
       "      <td>1000146010</td>\n",
       "      <td>0</td>\n",
       "      <td>445299</td>\n",
       "      <td>0.204655</td>\n",
       "      <td>NoEmp</td>\n",
       "      <td>0.088108</td>\n",
       "      <td>0</td>\n",
       "    </tr>\n",
       "    <tr>\n",
       "      <th>1</th>\n",
       "      <td>1</td>\n",
       "      <td>menc</td>\n",
       "      <td>1000734007</td>\n",
       "      <td>0</td>\n",
       "      <td>512110</td>\n",
       "      <td>0.204655</td>\n",
       "      <td>NoEmp</td>\n",
       "      <td>0.044254</td>\n",
       "      <td>0</td>\n",
       "    </tr>\n",
       "    <tr>\n",
       "      <th>2</th>\n",
       "      <td>1</td>\n",
       "      <td>menc</td>\n",
       "      <td>1000745006</td>\n",
       "      <td>0</td>\n",
       "      <td>541810</td>\n",
       "      <td>0.204655</td>\n",
       "      <td>NoEmp</td>\n",
       "      <td>-0.000311</td>\n",
       "      <td>0</td>\n",
       "    </tr>\n",
       "  </tbody>\n",
       "</table>\n",
       "</div>"
      ],
      "text/plain": [
       "   dset_naics_holdout model LoanNr_ChkDgt  target   NAICS   enc_val variable  \\\n",
       "0                   1  menc    1000146010       0  445299  0.204655    NoEmp   \n",
       "1                   1  menc    1000734007       0  512110  0.204655    NoEmp   \n",
       "2                   1  menc    1000745006       0  541810  0.204655    NoEmp   \n",
       "\n",
       "      value  enc_feat  \n",
       "0  0.088108         0  \n",
       "1  0.044254         0  \n",
       "2 -0.000311         0  "
      ]
     },
     "execution_count": 38,
     "metadata": {},
     "output_type": "execute_result"
    }
   ],
   "source": [
    "long_df.head(3)"
   ]
  },
  {
   "cell_type": "code",
   "execution_count": 39,
   "id": "5aea96f0-ef2a-4de9-9f46-7140ce7dff78",
   "metadata": {},
   "outputs": [],
   "source": [
    "long_df.to_parquet(Path(setup.temp_path).joinpath('A30_DATA_shap_long.parquet'))"
   ]
  },
  {
   "cell_type": "code",
   "execution_count": null,
   "id": "baf98d46-7397-4c3f-8534-58afc6455417",
   "metadata": {},
   "outputs": [],
   "source": []
  }
 ],
 "metadata": {
  "kernelspec": {
   "display_name": "tf_p39",
   "language": "python",
   "name": "tf_p39"
  },
  "language_info": {
   "codemirror_mode": {
    "name": "ipython",
    "version": 3
   },
   "file_extension": ".py",
   "mimetype": "text/x-python",
   "name": "python",
   "nbconvert_exporter": "python",
   "pygments_lexer": "ipython3",
   "version": "3.8.18"
  }
 },
 "nbformat": 4,
 "nbformat_minor": 5
}
