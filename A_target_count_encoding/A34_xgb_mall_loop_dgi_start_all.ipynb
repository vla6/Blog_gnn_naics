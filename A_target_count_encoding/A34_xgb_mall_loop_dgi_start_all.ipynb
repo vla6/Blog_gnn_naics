{
 "cells": [
  {
   "cell_type": "code",
   "execution_count": 1,
   "id": "4c65f557-651f-4958-a567-a1b6b5a82b2b",
   "metadata": {
    "tags": []
   },
   "outputs": [
    {
     "data": {
      "text/plain": [
       "'/Users/valeriecarey/Documents/projects/2023_10_blog_gnn_sba/code'"
      ]
     },
     "execution_count": 1,
     "metadata": {},
     "output_type": "execute_result"
    }
   ],
   "source": [
    "# Modify the file A00_setup.  Note the working directory is changed\n",
    "import os\n",
    "os.chdir(os.getcwd().rsplit(os.path.sep + 'code')[0] + os.path.sep + 'code')\n",
    "from importlib.machinery import SourceFileLoader\n",
    "setup = SourceFileLoader(\"setup\", \"./A_target_count_encoding/A00_setup.py\").load_module()\n",
    "os.getcwd()"
   ]
  },
  {
   "cell_type": "markdown",
   "id": "b01d0fdb-d4bf-465a-8541-997addc50b0c",
   "metadata": {},
   "source": [
    "# XGBoost, XGBoost, Target Encoding DGI Feeatures: DGI hierarchy (start point, more levels)\n",
    "No blending of hierarchy, just target encode all of the DGI hierarchy features eparately).  Vary hierarcy, using NAICS +  DGI hierarcy above a certain level.  Use more DGI levels not just NAICS analogue"
   ]
  },
  {
   "cell_type": "markdown",
   "id": "56161f89-1f54-47f9-860d-3f945a941c1f",
   "metadata": {},
   "source": [
    "*This script takes about 5 minutes on my MacBook Air*"
   ]
  },
  {
   "cell_type": "code",
   "execution_count": 2,
   "id": "ec6b1778-7abc-4129-ab5f-ac2992bd8ca6",
   "metadata": {},
   "outputs": [],
   "source": [
    "import pandas as pd\n",
    "import numpy as np\n",
    "import xgboost as xgb\n",
    "import warnings\n",
    "import matplotlib.pyplot as plt\n",
    "import pickle"
   ]
  },
  {
   "cell_type": "code",
   "execution_count": 3,
   "id": "785af927-a634-4e34-84c4-7a532236f2ca",
   "metadata": {},
   "outputs": [],
   "source": [
    "from pathlib import Path"
   ]
  },
  {
   "cell_type": "code",
   "execution_count": 4,
   "id": "fd09527b-32dd-47fa-b62f-f9307f89f553",
   "metadata": {},
   "outputs": [],
   "source": [
    "import sklearn as sk\n",
    "from sklearn.model_selection import RandomizedSearchCV\n",
    "from sklearn.inspection import permutation_importance, partial_dependence\n",
    "from scikitplot.metrics import plot_lift_curve"
   ]
  },
  {
   "cell_type": "code",
   "execution_count": 5,
   "id": "0732ba40-8318-457b-b29f-f9b6de3b70aa",
   "metadata": {},
   "outputs": [],
   "source": [
    "from sba_gnn.sba_gnn import sg_plot, sg_blender\n",
    "# Hierarchical encoder on one feature is just regular target encoding\n",
    "from sba_gnn.sba_gnn.sg_blender import HierarchicalEncoder "
   ]
  },
  {
   "cell_type": "markdown",
   "id": "d14a5947-6599-4253-acf3-91ddeffdedd3",
   "metadata": {},
   "source": [
    "## Import Processed Datasets"
   ]
  },
  {
   "cell_type": "code",
   "execution_count": 6,
   "id": "f6bc5cc5-b635-420f-852c-6cc9bba68a52",
   "metadata": {},
   "outputs": [],
   "source": [
    "sba_loans = pd.read_parquet(Path(setup.parent_path).joinpath('01_DATA_transformed.parquet')) "
   ]
  },
  {
   "cell_type": "code",
   "execution_count": 7,
   "id": "3c752967-2379-4bf3-9a0e-9eb1217012b2",
   "metadata": {},
   "outputs": [
    {
     "data": {
      "text/plain": [
       "{'subsample': 0.8,\n",
       " 'scale_pos_weight': 1.0,\n",
       " 'reg_lambda': 0.01,\n",
       " 'reg_alpha': 0.001,\n",
       " 'min_child_weight': 50,\n",
       " 'max_depth': 8,\n",
       " 'learning_rate': 0.1,\n",
       " 'gamma': 2}"
      ]
     },
     "execution_count": 7,
     "metadata": {},
     "output_type": "execute_result"
    }
   ],
   "source": [
    "best_params_df = pd.read_csv(Path(setup.parent_path).joinpath('03_REPORT_fit_parameter_selected.csv'))\n",
    "best_params = best_params_df.to_dict(orient='records')[0]\n",
    "best_params"
   ]
  },
  {
   "cell_type": "code",
   "execution_count": 8,
   "id": "82a0011b-c42a-4aca-bb30-7285fde059d4",
   "metadata": {},
   "outputs": [],
   "source": [
    "xgb_params = dict(best_params, \n",
    "                   **{'objective':\"binary:logistic\", 'n_estimators':setup.xgb_n_estimators})"
   ]
  },
  {
   "cell_type": "markdown",
   "id": "bc899d8b-6757-4928-a9b2-da095f343443",
   "metadata": {},
   "source": [
    "##### Append DGI info"
   ]
  },
  {
   "cell_type": "code",
   "execution_count": 9,
   "id": "afc2a9bb-5077-42ab-bc7f-319f0627f60f",
   "metadata": {},
   "outputs": [],
   "source": [
    "##### DGI info\n",
    "embed_df = pd.read_parquet(Path(setup.parent_path).joinpath('63_DATA_embeddings_tsne_naics.parquet'))"
   ]
  },
  {
   "cell_type": "code",
   "execution_count": 10,
   "id": "c8efe02d-eb56-4014-be68-841ed685b0d3",
   "metadata": {},
   "outputs": [],
   "source": [
    "# Group counts\n",
    "naics_grp_counts = pd.read_csv(Path(setup.parent_path).joinpath('02_REPORT_naics_grp_stats_all.csv')) \\\n",
    "    [['level_0', 'count_grp']] \\\n",
    "    .drop_duplicates() \\\n",
    "    .set_axis(['naics_type', 'k'], axis=1)"
   ]
  },
  {
   "cell_type": "code",
   "execution_count": 11,
   "id": "4eb2451e-22c9-47a8-9256-998bb7504a1f",
   "metadata": {},
   "outputs": [
    {
     "data": {
      "text/plain": [
       "['cluster_834',\n",
       " 'cluster_354',\n",
       " 'cluster_106',\n",
       " 'cluster_020',\n",
       " 'cluster_010',\n",
       " 'cluster_003']"
      ]
     },
     "execution_count": 11,
     "metadata": {},
     "output_type": "execute_result"
    }
   ],
   "source": [
    "cluster_cols = sorted([c for c in embed_df if c.startswith('cluster_')],\n",
    "                      reverse=True)\n",
    "cluster_cols"
   ]
  },
  {
   "cell_type": "code",
   "execution_count": 12,
   "id": "81001fa4-a6b2-4288-b84f-c7a0a994d555",
   "metadata": {},
   "outputs": [],
   "source": [
    "sba_loans = sba_loans.drop(columns = cluster_cols, errors='ignore') \\\n",
    "    .merge(embed_df[['NAICS_orig'] + cluster_cols] \\\n",
    "               .rename(columns={'NAICS_orig':'NAICS'}),\n",
    "           on='NAICS', how='left')"
   ]
  },
  {
   "cell_type": "markdown",
   "id": "d59eb82b-6269-4a7b-99b4-3f42c86cb15c",
   "metadata": {},
   "source": [
    "##### Comparison metrics"
   ]
  },
  {
   "cell_type": "code",
   "execution_count": 13,
   "id": "a777f854-460e-466b-8cb3-d419fd434e1b",
   "metadata": {},
   "outputs": [],
   "source": [
    "# Hierarchical encoding, lambda_k = 100\n",
    "metrics_base = pd.read_csv(Path(setup.parent_path).joinpath('X67_REPORT_metrics.csv'))"
   ]
  },
  {
   "cell_type": "code",
   "execution_count": 14,
   "id": "0cb46735-839a-42ae-a7d5-7749987aed62",
   "metadata": {},
   "outputs": [],
   "source": [
    "# Regular, non-hierarchical target encoding, for a horizontal reference line\n",
    "metrics_tenc = pd.read_csv(Path(setup.parent_path).joinpath('14_REPORT_metrics.csv'))"
   ]
  },
  {
   "cell_type": "code",
   "execution_count": 15,
   "id": "e0ca3964-b7a5-4ddc-a476-02536c3d7d33",
   "metadata": {},
   "outputs": [],
   "source": [
    "# Target+Count\n",
    "metrics_tc = pd.read_csv(Path(setup.temp_path).joinpath('A08_REPORT_metrics.csv'))"
   ]
  },
  {
   "cell_type": "code",
   "execution_count": 16,
   "id": "3a70a611-dbf2-4237-b081-06687abc7f67",
   "metadata": {},
   "outputs": [],
   "source": [
    "# Target-Thresh\n",
    "metrics_tt = pd.read_csv(Path(setup.temp_path).joinpath('A15_REPORT_metrics.csv'))"
   ]
  },
  {
   "cell_type": "markdown",
   "id": "dad22af6-70e7-46e9-ae24-c0af8de1b822",
   "metadata": {},
   "source": [
    "## Function to get metrics"
   ]
  },
  {
   "cell_type": "code",
   "execution_count": 17,
   "id": "ca448a6e-df88-4d10-b19b-ba01c484301a",
   "metadata": {},
   "outputs": [],
   "source": [
    "def get_metrics(data, lambda_k = setup.selected_lambda_k, \n",
    "                enc_features = ['NAICS', 'NAICS_5', 'NAICS_4', 'NAICS_3', 'NAICS_sector']):\n",
    "    \n",
    "    # Alternative encoding\n",
    "    train_df = data[data['dset'] == 'train']\n",
    "    enc_dict = {f:HierarchicalEncoder(lambda_k = lambda_k) for f in enc_features}\n",
    "    [enc_dict[f].fit(train_df[[f]], train_df['target']) for f in enc_features]\n",
    "    enc_val = pd.concat([enc_dict[f].transform(data[[f]]) for f in enc_features],\n",
    "                    axis=1, keys=enc_features)\n",
    "    \n",
    "    # Append to data\n",
    "    data = pd.concat([data.drop(columns=enc_val.columns, errors='ignore'), enc_val], \n",
    "                      axis=1)\n",
    "    train_df = data[data['dset'] == 'train']\n",
    "    test_df = data[data['dset'] == 'test']\n",
    "    val_df = data[data['dset'] == 'val']\n",
    "    \n",
    "    predictor_features = setup.predictor_features + list(enc_val.columns)\n",
    "\n",
    "    # Model fit\n",
    "    xgb_model = xgb.XGBClassifier(objective=\"binary:logistic\",\n",
    "                             n_estimators =  setup.xgb_n_estimators)\n",
    "    xgb_model = xgb_model.set_params(**xgb_params)\n",
    "    xgb_model.fit(train_df[predictor_features], train_df['target'],\n",
    "              eval_set = [(train_df[predictor_features], train_df['target']),\n",
    "                         (val_df[predictor_features], val_df['target'])])\n",
    "    \n",
    "    # Predict\n",
    "    pred_df = pd.concat([data[['LoanNr_ChkDgt', 'dset', 'target', 'dset_naics_holdout']].reset_index(),\n",
    "                     pd.DataFrame({'predict_prob':\n",
    "                                   xgb_model.predict_proba(data[predictor_features])[:,1]})],\n",
    "                    axis=1) \\\n",
    "    .set_index('index')\n",
    "    \n",
    "    # Decision threshold\n",
    "    pred_train_df = pred_df[pred_df['dset'] == 'train']\n",
    "    thresh_tune_data = sg_plot.get_f1_frame(pred_train_df['target'], \n",
    "                                        pred_train_df['predict_prob'])\n",
    "    thresh_head = thresh_tune_data.sort_values('f1', ascending=False).head(2)\n",
    "    best_thresh = thresh_head['thresh'].iloc[0]\n",
    "    pred_df['predict_bin'] = np.where(pred_df['predict_prob'] >= best_thresh, 1, 0)\n",
    "    \n",
    "    # Metrics\n",
    "    metrics_dset_df = pred_df.groupby('dset') \\\n",
    "        .apply(lambda x: sg_plot.dset_metrics(x.target, x.predict_bin, x.predict_prob)) \\\n",
    "        .reset_index()\n",
    "    metrics_test_df = pred_df[pred_df['dset'] == 'test'] \\\n",
    "        .groupby(['dset', 'dset_naics_holdout']) \\\n",
    "        .apply(lambda x: sg_plot.dset_metrics(x.target, x.predict_bin, x.predict_prob)) \\\n",
    "        .reset_index()\n",
    "    metrics_df = pd.concat([metrics_dset_df, metrics_test_df])\n",
    "    \n",
    "    return pred_df, metrics_df"
   ]
  },
  {
   "cell_type": "markdown",
   "id": "9c290356-3291-4406-90cf-d921ad845925",
   "metadata": {},
   "source": [
    "## Loop to get predictions, metrics"
   ]
  },
  {
   "cell_type": "code",
   "execution_count": 18,
   "id": "2a259639-9a52-4ef3-9e3d-1b85a575619d",
   "metadata": {},
   "outputs": [
    {
     "data": {
      "text/plain": [
       "[['NAICS',\n",
       "  'cluster_834',\n",
       "  'cluster_354',\n",
       "  'cluster_106',\n",
       "  'cluster_020',\n",
       "  'cluster_010',\n",
       "  'cluster_003'],\n",
       " ['NAICS',\n",
       "  'cluster_354',\n",
       "  'cluster_106',\n",
       "  'cluster_020',\n",
       "  'cluster_010',\n",
       "  'cluster_003'],\n",
       " ['NAICS', 'cluster_106', 'cluster_020', 'cluster_010', 'cluster_003'],\n",
       " ['NAICS', 'cluster_020', 'cluster_010', 'cluster_003'],\n",
       " ['NAICS', 'cluster_010', 'cluster_003'],\n",
       " ['NAICS', 'cluster_003']]"
      ]
     },
     "execution_count": 18,
     "metadata": {},
     "output_type": "execute_result"
    }
   ],
   "source": [
    "# Hierarchical encode from different levels\n",
    "naics_sets = [['NAICS'] + cluster_cols[i:] \\\n",
    "              for i in range(len(cluster_cols))]\n",
    "naics_sets"
   ]
  },
  {
   "cell_type": "code",
   "execution_count": 19,
   "id": "3ca0672f-819d-4bf5-b829-a481a852d65b",
   "metadata": {},
   "outputs": [],
   "source": [
    "%%capture\n",
    "pred_df = pd.DataFrame()\n",
    "metrics_df = pd.DataFrame()\n",
    "for this_set in naics_sets:\n",
    "    this_pred, this_met = get_metrics(sba_loans, enc_features=this_set)\n",
    "    this_pred['naics_type'] = this_set[1]\n",
    "    pred_df = pd.concat([pred_df, this_pred])\n",
    "    this_met['naics_type'] = this_set[1]\n",
    "    metrics_df = pd.concat([metrics_df, this_met])"
   ]
  },
  {
   "cell_type": "code",
   "execution_count": 20,
   "id": "0ff21702-e129-418b-b6c3-8ebd047186a0",
   "metadata": {},
   "outputs": [
    {
     "data": {
      "text/html": [
       "<div>\n",
       "<style scoped>\n",
       "    .dataframe tbody tr th:only-of-type {\n",
       "        vertical-align: middle;\n",
       "    }\n",
       "\n",
       "    .dataframe tbody tr th {\n",
       "        vertical-align: top;\n",
       "    }\n",
       "\n",
       "    .dataframe thead th {\n",
       "        text-align: right;\n",
       "    }\n",
       "</style>\n",
       "<table border=\"1\" class=\"dataframe\">\n",
       "  <thead>\n",
       "    <tr style=\"text-align: right;\">\n",
       "      <th></th>\n",
       "      <th>dset</th>\n",
       "      <th>accuracy_score</th>\n",
       "      <th>f1_score</th>\n",
       "      <th>precision_score</th>\n",
       "      <th>recall_score</th>\n",
       "      <th>average_precision_score</th>\n",
       "      <th>roc_auc_score</th>\n",
       "      <th>dset_naics_holdout</th>\n",
       "      <th>naics_type</th>\n",
       "    </tr>\n",
       "  </thead>\n",
       "  <tbody>\n",
       "    <tr>\n",
       "      <th>1</th>\n",
       "      <td>test</td>\n",
       "      <td>0.632971</td>\n",
       "      <td>0.417204</td>\n",
       "      <td>0.293203</td>\n",
       "      <td>0.722951</td>\n",
       "      <td>0.329784</td>\n",
       "      <td>0.718940</td>\n",
       "      <td>1.0</td>\n",
       "      <td>cluster_834</td>\n",
       "    </tr>\n",
       "    <tr>\n",
       "      <th>1</th>\n",
       "      <td>test</td>\n",
       "      <td>0.623916</td>\n",
       "      <td>0.412676</td>\n",
       "      <td>0.288094</td>\n",
       "      <td>0.727096</td>\n",
       "      <td>0.323846</td>\n",
       "      <td>0.714273</td>\n",
       "      <td>1.0</td>\n",
       "      <td>cluster_354</td>\n",
       "    </tr>\n",
       "    <tr>\n",
       "      <th>1</th>\n",
       "      <td>test</td>\n",
       "      <td>0.622195</td>\n",
       "      <td>0.412666</td>\n",
       "      <td>0.287570</td>\n",
       "      <td>0.730395</td>\n",
       "      <td>0.321961</td>\n",
       "      <td>0.712827</td>\n",
       "      <td>1.0</td>\n",
       "      <td>cluster_106</td>\n",
       "    </tr>\n",
       "    <tr>\n",
       "      <th>1</th>\n",
       "      <td>test</td>\n",
       "      <td>0.626345</td>\n",
       "      <td>0.412491</td>\n",
       "      <td>0.288745</td>\n",
       "      <td>0.721851</td>\n",
       "      <td>0.313537</td>\n",
       "      <td>0.708704</td>\n",
       "      <td>1.0</td>\n",
       "      <td>cluster_020</td>\n",
       "    </tr>\n",
       "    <tr>\n",
       "      <th>1</th>\n",
       "      <td>test</td>\n",
       "      <td>0.611910</td>\n",
       "      <td>0.408482</td>\n",
       "      <td>0.282478</td>\n",
       "      <td>0.737416</td>\n",
       "      <td>0.316289</td>\n",
       "      <td>0.709682</td>\n",
       "      <td>1.0</td>\n",
       "      <td>cluster_010</td>\n",
       "    </tr>\n",
       "    <tr>\n",
       "      <th>1</th>\n",
       "      <td>test</td>\n",
       "      <td>0.626914</td>\n",
       "      <td>0.413513</td>\n",
       "      <td>0.289435</td>\n",
       "      <td>0.723797</td>\n",
       "      <td>0.327474</td>\n",
       "      <td>0.717384</td>\n",
       "      <td>1.0</td>\n",
       "      <td>cluster_003</td>\n",
       "    </tr>\n",
       "  </tbody>\n",
       "</table>\n",
       "</div>"
      ],
      "text/plain": [
       "   dset  accuracy_score  f1_score  precision_score  recall_score  \\\n",
       "1  test        0.632971  0.417204         0.293203      0.722951   \n",
       "1  test        0.623916  0.412676         0.288094      0.727096   \n",
       "1  test        0.622195  0.412666         0.287570      0.730395   \n",
       "1  test        0.626345  0.412491         0.288745      0.721851   \n",
       "1  test        0.611910  0.408482         0.282478      0.737416   \n",
       "1  test        0.626914  0.413513         0.289435      0.723797   \n",
       "\n",
       "   average_precision_score  roc_auc_score  dset_naics_holdout   naics_type  \n",
       "1                 0.329784       0.718940                 1.0  cluster_834  \n",
       "1                 0.323846       0.714273                 1.0  cluster_354  \n",
       "1                 0.321961       0.712827                 1.0  cluster_106  \n",
       "1                 0.313537       0.708704                 1.0  cluster_020  \n",
       "1                 0.316289       0.709682                 1.0  cluster_010  \n",
       "1                 0.327474       0.717384                 1.0  cluster_003  "
      ]
     },
     "execution_count": 20,
     "metadata": {},
     "output_type": "execute_result"
    }
   ],
   "source": [
    "metrics_df[metrics_df['dset_naics_holdout'] == 1]"
   ]
  },
  {
   "cell_type": "code",
   "execution_count": 21,
   "id": "62e8b937-8e1c-4a4c-8cc3-40f8325564c0",
   "metadata": {},
   "outputs": [
    {
     "data": {
      "text/html": [
       "<div>\n",
       "<style scoped>\n",
       "    .dataframe tbody tr th:only-of-type {\n",
       "        vertical-align: middle;\n",
       "    }\n",
       "\n",
       "    .dataframe tbody tr th {\n",
       "        vertical-align: top;\n",
       "    }\n",
       "\n",
       "    .dataframe thead th {\n",
       "        text-align: right;\n",
       "    }\n",
       "</style>\n",
       "<table border=\"1\" class=\"dataframe\">\n",
       "  <thead>\n",
       "    <tr style=\"text-align: right;\">\n",
       "      <th></th>\n",
       "      <th>dset</th>\n",
       "      <th>accuracy_score</th>\n",
       "      <th>f1_score</th>\n",
       "      <th>precision_score</th>\n",
       "      <th>recall_score</th>\n",
       "      <th>average_precision_score</th>\n",
       "      <th>roc_auc_score</th>\n",
       "      <th>dset_naics_holdout</th>\n",
       "      <th>naics_type</th>\n",
       "    </tr>\n",
       "  </thead>\n",
       "  <tbody>\n",
       "    <tr>\n",
       "      <th>0</th>\n",
       "      <td>test</td>\n",
       "      <td>0.660992</td>\n",
       "      <td>0.450690</td>\n",
       "      <td>0.337997</td>\n",
       "      <td>0.676117</td>\n",
       "      <td>0.384199</td>\n",
       "      <td>0.729490</td>\n",
       "      <td>0.0</td>\n",
       "      <td>cluster_834</td>\n",
       "    </tr>\n",
       "    <tr>\n",
       "      <th>0</th>\n",
       "      <td>test</td>\n",
       "      <td>0.659087</td>\n",
       "      <td>0.450254</td>\n",
       "      <td>0.336862</td>\n",
       "      <td>0.678718</td>\n",
       "      <td>0.383836</td>\n",
       "      <td>0.729305</td>\n",
       "      <td>0.0</td>\n",
       "      <td>cluster_354</td>\n",
       "    </tr>\n",
       "    <tr>\n",
       "      <th>0</th>\n",
       "      <td>test</td>\n",
       "      <td>0.661259</td>\n",
       "      <td>0.450771</td>\n",
       "      <td>0.338166</td>\n",
       "      <td>0.675805</td>\n",
       "      <td>0.384036</td>\n",
       "      <td>0.729568</td>\n",
       "      <td>0.0</td>\n",
       "      <td>cluster_106</td>\n",
       "    </tr>\n",
       "    <tr>\n",
       "      <th>0</th>\n",
       "      <td>test</td>\n",
       "      <td>0.660949</td>\n",
       "      <td>0.450792</td>\n",
       "      <td>0.338021</td>\n",
       "      <td>0.676481</td>\n",
       "      <td>0.383977</td>\n",
       "      <td>0.729405</td>\n",
       "      <td>0.0</td>\n",
       "      <td>cluster_020</td>\n",
       "    </tr>\n",
       "    <tr>\n",
       "      <th>0</th>\n",
       "      <td>test</td>\n",
       "      <td>0.660639</td>\n",
       "      <td>0.451630</td>\n",
       "      <td>0.338237</td>\n",
       "      <td>0.679394</td>\n",
       "      <td>0.384687</td>\n",
       "      <td>0.729341</td>\n",
       "      <td>0.0</td>\n",
       "      <td>cluster_010</td>\n",
       "    </tr>\n",
       "    <tr>\n",
       "      <th>0</th>\n",
       "      <td>test</td>\n",
       "      <td>0.658146</td>\n",
       "      <td>0.450366</td>\n",
       "      <td>0.336452</td>\n",
       "      <td>0.680903</td>\n",
       "      <td>0.383728</td>\n",
       "      <td>0.728727</td>\n",
       "      <td>0.0</td>\n",
       "      <td>cluster_003</td>\n",
       "    </tr>\n",
       "  </tbody>\n",
       "</table>\n",
       "</div>"
      ],
      "text/plain": [
       "   dset  accuracy_score  f1_score  precision_score  recall_score  \\\n",
       "0  test        0.660992  0.450690         0.337997      0.676117   \n",
       "0  test        0.659087  0.450254         0.336862      0.678718   \n",
       "0  test        0.661259  0.450771         0.338166      0.675805   \n",
       "0  test        0.660949  0.450792         0.338021      0.676481   \n",
       "0  test        0.660639  0.451630         0.338237      0.679394   \n",
       "0  test        0.658146  0.450366         0.336452      0.680903   \n",
       "\n",
       "   average_precision_score  roc_auc_score  dset_naics_holdout   naics_type  \n",
       "0                 0.384199       0.729490                 0.0  cluster_834  \n",
       "0                 0.383836       0.729305                 0.0  cluster_354  \n",
       "0                 0.384036       0.729568                 0.0  cluster_106  \n",
       "0                 0.383977       0.729405                 0.0  cluster_020  \n",
       "0                 0.384687       0.729341                 0.0  cluster_010  \n",
       "0                 0.383728       0.728727                 0.0  cluster_003  "
      ]
     },
     "execution_count": 21,
     "metadata": {},
     "output_type": "execute_result"
    }
   ],
   "source": [
    "metrics_df[metrics_df['dset_naics_holdout'] == 0]"
   ]
  },
  {
   "cell_type": "code",
   "execution_count": 22,
   "id": "68669385-ef28-4f52-8987-7cc43ac626a6",
   "metadata": {},
   "outputs": [],
   "source": [
    "pred_df.to_parquet(Path(setup.temp_path).joinpath('A34_DATA_combined_predictions.parquet'))\n",
    "metrics_df.to_csv(Path(setup.temp_path).joinpath('A34_REPORT_metrics.csv'), index=True)"
   ]
  },
  {
   "cell_type": "markdown",
   "id": "b3b34909-e21f-4e26-a257-172118e582fa",
   "metadata": {},
   "source": [
    "## Comparison Plot"
   ]
  },
  {
   "cell_type": "code",
   "execution_count": 23,
   "id": "72f1e084-dae5-428e-bbc7-a50bb2001ffb",
   "metadata": {},
   "outputs": [],
   "source": [
    "col_map = {k:int(k.split('_')[1]) for k in cluster_cols}\n",
    "label_k = sorted(col_map.values())"
   ]
  },
  {
   "cell_type": "code",
   "execution_count": 24,
   "id": "83c4bf72-5710-489a-888f-bd2b7590e93b",
   "metadata": {},
   "outputs": [],
   "source": [
    "metrics_sum = metrics_df[~metrics_df['dset_naics_holdout'].isna()].copy()\n",
    "metrics_sum['k'] = metrics_sum['naics_type'].apply(lambda x: col_map[x]).astype('int')"
   ]
  },
  {
   "cell_type": "code",
   "execution_count": 25,
   "id": "e8ee481d-56f5-4c03-93d8-2ec1184130ee",
   "metadata": {},
   "outputs": [],
   "source": [
    "metrics_base_sum = metrics_base[~metrics_base['dset_naics_holdout'].isna()].copy()\n",
    "metrics_base_sum['k'] = metrics_base_sum['start_naics'].apply(lambda x: col_map[x]).astype('int')"
   ]
  },
  {
   "cell_type": "code",
   "execution_count": 26,
   "id": "5b42d137-71d1-4ee1-95df-01acf6ccf3a3",
   "metadata": {},
   "outputs": [],
   "source": [
    "metrics_tc_sum = metrics_tc[~metrics_tc['dset_naics_holdout'].isna()].copy()\n",
    "metrics_tc_sum['k'] = metrics_tc_sum['naics_type'].apply(lambda x: col_map[x]).astype('int')"
   ]
  },
  {
   "cell_type": "code",
   "execution_count": 27,
   "id": "0882d4fe-8977-443d-a683-18f70ef25e83",
   "metadata": {},
   "outputs": [],
   "source": [
    "metrics_tt_sum = metrics_tt[~metrics_tt['dset_naics_holdout'].isna()].copy()\n",
    "metrics_tt_sum['k'] = metrics_tt['naics_type'].apply(lambda x: col_map[x]).astype('int')"
   ]
  },
  {
   "cell_type": "code",
   "execution_count": 28,
   "id": "92f15614-7f24-4a2e-b76c-6a10af516091",
   "metadata": {},
   "outputs": [
    {
     "name": "stdout",
     "output_type": "stream",
     "text": [
      "Regular target encoding test result: 0.382950251407698; holdout 0.346336505844941\n"
     ]
    }
   ],
   "source": [
    "# Reference lines\n",
    "hline_test = metrics_tenc[(metrics_tenc['dset_naics_holdout'] == 0) &\n",
    "                          (metrics_tenc['c'] == setup.selected_lambda_k)] \\\n",
    "    ['average_precision_score'].iloc[0]\n",
    "hline_ho = metrics_tenc[(metrics_tenc['dset_naics_holdout'] == 1) &\n",
    "                          (metrics_tenc['c'] == setup.selected_lambda_k)] \\\n",
    "    ['average_precision_score'].iloc[0]\n",
    "print(f'Regular target encoding test result: {hline_test}; holdout {hline_ho}')"
   ]
  },
  {
   "cell_type": "code",
   "execution_count": 29,
   "id": "1a7c2283-bbe9-4747-9f51-39abdd75a283",
   "metadata": {},
   "outputs": [
    {
     "data": {
      "image/png": "[encoded data removed]",
      "text/plain": [
       "<Figure size 640x480 with 1 Axes>"
      ]
     },
     "metadata": {},
     "output_type": "display_data"
    }
   ],
   "source": [
    "fig, ax = plt.subplots()\n",
    "metrics_base_sum[metrics_base_sum['dset_naics_holdout'] == 0] \\\n",
    "    .plot(x='k', y='average_precision_score', logx=True, ax=ax, \n",
    "          label=setup.model_label_dict['mhier'],color='darkslateblue', style='v-')\n",
    "metrics_sum[metrics_sum['dset_naics_holdout'] == 0] \\\n",
    "    .plot(x='k', y='average_precision_score', logx=True, ax=ax, \n",
    "          label=setup.model_label_dict['menc_all'],color='mediumaquamarine', style='d-')\n",
    "metrics_tc_sum[metrics_tc_sum['dset_naics_holdout'] == 0] \\\n",
    "    .plot(x='k', y='average_precision_score', logx=True, ax=ax, \n",
    "          label=setup.model_label_dict['tc'],color='darkorange', style='+-')\n",
    "metrics_tt_sum[metrics_tt_sum['dset_naics_holdout'] == 0] \\\n",
    "    .plot(x='k', y='average_precision_score', logx=True, ax=ax, \n",
    "          label=setup.model_label_dict['tt'],color='violet', style='P-')\n",
    "\n",
    "ax.set_ylabel('PR-AUC')\n",
    "ax.set_xlabel('Group Count (k)')\n",
    "fig.suptitle('Test Dataset')\n",
    "ax.set_title('Encodings from DGI hierarchy')\n",
    "plt.axhline(y=hline_test, color='darkgray')\n",
    "ax.set_xticks(label_k)\n",
    "ax.set_xticklabels(label_k)\n",
    "ax.legend(bbox_to_anchor=(0.42, 0.36))\n",
    "fig.savefig(Path(setup.temp_path).joinpath('A34_PLOT_compare_base_reg.png'),\n",
    "            bbox_inches='tight')"
   ]
  },
  {
   "cell_type": "code",
   "execution_count": 30,
   "id": "b277c5bf-a2ee-4bd5-b80e-acd2a79ad4c0",
   "metadata": {},
   "outputs": [
    {
     "data": {
      "image/png": "[encoded data removed]",
      "text/plain": [
       "<Figure size 640x480 with 1 Axes>"
      ]
     },
     "metadata": {},
     "output_type": "display_data"
    }
   ],
   "source": [
    "fig, ax = plt.subplots()\n",
    "metrics_base_sum[metrics_base_sum['dset_naics_holdout'] == 1] \\\n",
    "    .plot(x='k', y='average_precision_score', logx=True, ax=ax, \n",
    "          label=setup.model_label_dict['mhier'],color='darkslateblue', style='v-')\n",
    "metrics_sum[metrics_sum['dset_naics_holdout'] == 1] \\\n",
    "    .plot(x='k', y='average_precision_score', logx=True, ax=ax, \n",
    "          label=setup.model_label_dict['menc_all'],color='mediumaquamarine', style='d-')\n",
    "metrics_tc_sum[metrics_tc_sum['dset_naics_holdout'] == 1] \\\n",
    "    .plot(x='k', y='average_precision_score', logx=True, ax=ax, \n",
    "          label=setup.model_label_dict['tc'],color='darkorange', style='+-')\n",
    "metrics_tt_sum[metrics_tt_sum['dset_naics_holdout'] == 1] \\\n",
    "    .plot(x='k', y='average_precision_score', logx=True, ax=ax, \n",
    "          label=setup.model_label_dict['tt'],color='violet', style='P-')\n",
    "ax.set_ylabel('PR-AUC')\n",
    "ax.set_xlabel('Group Count (k)')\n",
    "fig.suptitle('Holdout NAICS Dataset')\n",
    "ax.set_title('Encodings from DGI hierarchy')\n",
    "plt.axhline(y=hline_ho, color='darkgray')\n",
    "ax.set_xticks(label_k)\n",
    "ax.set_xticklabels(label_k)\n",
    "fig.savefig(Path(setup.temp_path).joinpath('A34_PLOT_compare_base_ho.png'),\n",
    "            bbox_inches='tight')"
   ]
  },
  {
   "cell_type": "code",
   "execution_count": null,
   "id": "b4a0ce7a-8c9b-47be-b394-cc6fe1917775",
   "metadata": {},
   "outputs": [],
   "source": []
  }
 ],
 "metadata": {
  "kernelspec": {
   "display_name": "tf_p39",
   "language": "python",
   "name": "tf_p39"
  },
  "language_info": {
   "codemirror_mode": {
    "name": "ipython",
    "version": 3
   },
   "file_extension": ".py",
   "mimetype": "text/x-python",
   "name": "python",
   "nbconvert_exporter": "python",
   "pygments_lexer": "ipython3",
   "version": "3.8.18"
  }
 },
 "nbformat": 4,
 "nbformat_minor": 5
}
