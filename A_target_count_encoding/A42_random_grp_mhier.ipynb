{
 "cells": [
  {
   "cell_type": "code",
   "execution_count": 1,
   "id": "63ee33ea-eeb6-45b7-b77a-c05760b43b3a",
   "metadata": {
    "tags": []
   },
   "outputs": [
    {
     "data": {
      "text/plain": [
       "'/Users/valeriecarey/Documents/projects/2023_10_blog_gnn_sba/code'"
      ]
     },
     "execution_count": 1,
     "metadata": {},
     "output_type": "execute_result"
    }
   ],
   "source": [
    "# Modify the file A00_setup.  Note the working directory is changed\n",
    "import os\n",
    "os.chdir(os.getcwd().rsplit(os.path.sep + 'code')[0] + os.path.sep + 'code')\n",
    "from importlib.machinery import SourceFileLoader\n",
    "setup = SourceFileLoader(\"setup\", \"./A_target_count_encoding/A00_setup.py\").load_module()\n",
    "os.getcwd()"
   ]
  },
  {
   "cell_type": "markdown",
   "id": "c5fc0f49-b1e0-4ec1-9e01-a959e8cd4689",
   "metadata": {},
   "source": [
    "# Random Groups, Hierarchical Blending.\n",
    "Make random groups to match NAICS counts.   Then do the hierarchical blend"
   ]
  },
  {
   "cell_type": "markdown",
   "id": "4a64445b-c98e-4ef8-9f14-a10aec581b2d",
   "metadata": {},
   "source": [
    "*This script takes about 5 minutes on my MacBook Air*"
   ]
  },
  {
   "cell_type": "code",
   "execution_count": 2,
   "id": "f7eed26a-bcca-458c-b78f-9aa5d60ffdd7",
   "metadata": {},
   "outputs": [],
   "source": [
    "import pandas as pd\n",
    "import numpy as np\n",
    "import xgboost as xgb\n",
    "import warnings\n",
    "import matplotlib.pyplot as plt\n",
    "import pickle"
   ]
  },
  {
   "cell_type": "code",
   "execution_count": 3,
   "id": "fe1cf543-f47a-4649-b72a-484d13b341d9",
   "metadata": {},
   "outputs": [],
   "source": [
    "from pathlib import Path"
   ]
  },
  {
   "cell_type": "code",
   "execution_count": 4,
   "id": "b0a5cc21-f7f7-4219-bfa0-928f3fe46536",
   "metadata": {},
   "outputs": [],
   "source": [
    "import sklearn as sk\n",
    "from sklearn.model_selection import RandomizedSearchCV\n",
    "from sklearn.inspection import permutation_importance, partial_dependence\n",
    "from scikitplot.metrics import plot_lift_curve"
   ]
  },
  {
   "cell_type": "code",
   "execution_count": 5,
   "id": "71c12664-6128-422e-9ec6-30000cb477c6",
   "metadata": {},
   "outputs": [],
   "source": [
    "from sba_gnn.sba_gnn import sg_plot, sg_blender\n",
    "from sba_gnn.sba_gnn.sg_blender import HierarchicalEncoder # Hierarchical blending"
   ]
  },
  {
   "cell_type": "markdown",
   "id": "130e35f8-4aef-41b4-b483-425a43b4e797",
   "metadata": {},
   "source": [
    "## Import Processed Datasets"
   ]
  },
  {
   "cell_type": "code",
   "execution_count": 6,
   "id": "0af6ead4-0f35-4907-8e68-c59618b08261",
   "metadata": {},
   "outputs": [],
   "source": [
    "sba_loans = pd.read_parquet(Path(setup.parent_path).joinpath('01_DATA_transformed.parquet')) "
   ]
  },
  {
   "cell_type": "code",
   "execution_count": 7,
   "id": "49eed9d4-ee00-4a3e-b007-3d2295577344",
   "metadata": {},
   "outputs": [
    {
     "data": {
      "text/plain": [
       "{'subsample': 0.8,\n",
       " 'scale_pos_weight': 1.0,\n",
       " 'reg_lambda': 0.01,\n",
       " 'reg_alpha': 0.001,\n",
       " 'min_child_weight': 50,\n",
       " 'max_depth': 8,\n",
       " 'learning_rate': 0.1,\n",
       " 'gamma': 2}"
      ]
     },
     "execution_count": 7,
     "metadata": {},
     "output_type": "execute_result"
    }
   ],
   "source": [
    "best_params_df = pd.read_csv(Path(setup.parent_path).joinpath('03_REPORT_fit_parameter_selected.csv'))\n",
    "best_params = best_params_df.to_dict(orient='records')[0]\n",
    "best_params"
   ]
  },
  {
   "cell_type": "code",
   "execution_count": 8,
   "id": "4cd05719-d05b-48bb-b076-9ccf2d2c34bb",
   "metadata": {},
   "outputs": [],
   "source": [
    "xgb_params = dict(best_params, \n",
    "                   **{'objective':\"binary:logistic\", 'n_estimators':setup.xgb_n_estimators})"
   ]
  },
  {
   "cell_type": "code",
   "execution_count": 9,
   "id": "62d59b9d-e575-4a1a-9709-931bba75ebf3",
   "metadata": {},
   "outputs": [],
   "source": [
    "predictor_features = setup.predictor_features + ['mhier_NAICS_alt']"
   ]
  },
  {
   "cell_type": "markdown",
   "id": "a088d2e2-d3b5-4d31-8333-5b7ffe34e2ba",
   "metadata": {},
   "source": [
    "## Make NAICS groups"
   ]
  },
  {
   "cell_type": "code",
   "execution_count": 10,
   "id": "43b9f361-edbc-491a-bc71-a93e83dccc19",
   "metadata": {},
   "outputs": [],
   "source": [
    "# Group counts\n",
    "naics_grp_counts = pd.read_csv(Path(setup.parent_path).joinpath('02_REPORT_naics_grp_stats_all.csv')) \\\n",
    "    [['level_0', 'count_grp']] \\\n",
    "    .drop_duplicates() \\\n",
    "    .set_axis(['naics_type', 'k'], axis=1)"
   ]
  },
  {
   "cell_type": "code",
   "execution_count": 11,
   "id": "b9c69838-5dae-428e-85ea-ead82f354f30",
   "metadata": {},
   "outputs": [
    {
     "data": {
      "text/html": [
       "<div>\n",
       "<style scoped>\n",
       "    .dataframe tbody tr th:only-of-type {\n",
       "        vertical-align: middle;\n",
       "    }\n",
       "\n",
       "    .dataframe tbody tr th {\n",
       "        vertical-align: top;\n",
       "    }\n",
       "\n",
       "    .dataframe thead th {\n",
       "        text-align: right;\n",
       "    }\n",
       "</style>\n",
       "<table border=\"1\" class=\"dataframe\">\n",
       "  <thead>\n",
       "    <tr style=\"text-align: right;\">\n",
       "      <th></th>\n",
       "      <th>naics_type</th>\n",
       "      <th>k</th>\n",
       "    </tr>\n",
       "  </thead>\n",
       "  <tbody>\n",
       "    <tr>\n",
       "      <th>0</th>\n",
       "      <td>NAICS_5</td>\n",
       "      <td>834.0</td>\n",
       "    </tr>\n",
       "    <tr>\n",
       "      <th>5</th>\n",
       "      <td>NAICS_4</td>\n",
       "      <td>354.0</td>\n",
       "    </tr>\n",
       "    <tr>\n",
       "      <th>10</th>\n",
       "      <td>NAICS_3</td>\n",
       "      <td>106.0</td>\n",
       "    </tr>\n",
       "    <tr>\n",
       "      <th>15</th>\n",
       "      <td>NAICS_sector</td>\n",
       "      <td>20.0</td>\n",
       "    </tr>\n",
       "  </tbody>\n",
       "</table>\n",
       "</div>"
      ],
      "text/plain": [
       "      naics_type      k\n",
       "0        NAICS_5  834.0\n",
       "5        NAICS_4  354.0\n",
       "10       NAICS_3  106.0\n",
       "15  NAICS_sector   20.0"
      ]
     },
     "execution_count": 11,
     "metadata": {},
     "output_type": "execute_result"
    }
   ],
   "source": [
    "naics_grp_counts"
   ]
  },
  {
   "cell_type": "code",
   "execution_count": 12,
   "id": "c968210d-9ea7-4c2a-b6fd-60ccdc7ca01a",
   "metadata": {},
   "outputs": [
    {
     "data": {
      "text/plain": [
       "[20, 106, 354, 834]"
      ]
     },
     "execution_count": 12,
     "metadata": {},
     "output_type": "execute_result"
    }
   ],
   "source": [
    "naics_grp_k = naics_grp_counts['k'].drop_duplicates().sort_values().astype('int').to_list()\n",
    "naics_grp_k"
   ]
  },
  {
   "cell_type": "code",
   "execution_count": 13,
   "id": "1c2a9d6a-02b8-4d67-aa1b-484a9040ac6f",
   "metadata": {},
   "outputs": [],
   "source": [
    "naics_df = sba_loans[['NAICS']].drop_duplicates() "
   ]
  },
  {
   "cell_type": "code",
   "execution_count": 14,
   "id": "f2297aa8-26ae-4245-ae46-9545d94ca214",
   "metadata": {},
   "outputs": [],
   "source": [
    "def make_grp(data, k, grp_name = 'rgrp', seed=34535):\n",
    "    np.random.seed(seed+k)\n",
    "    return pd.Series(np.random.randint(0,k,size=len(data)),\n",
    "                    name = grp_name)"
   ]
  },
  {
   "cell_type": "code",
   "execution_count": 15,
   "id": "7fd7d662-6680-47d3-bead-8586614ac8e4",
   "metadata": {},
   "outputs": [],
   "source": [
    "naics_k_assign = pd.concat([make_grp(naics_df, k, f'rgrp_{k:03d}') for k in naics_grp_k], axis=1)"
   ]
  },
  {
   "cell_type": "code",
   "execution_count": 16,
   "id": "c754e453-693b-4b4b-997c-69ad0b638f3a",
   "metadata": {},
   "outputs": [],
   "source": [
    "# Save the new columns\n",
    "naics_rand_map = pd.concat([naics_df, naics_k_assign], axis=1) \n",
    "naics_rand_map.to_parquet(Path(setup.temp_path).joinpath('A42_DATA_naics_groups.parquet'))"
   ]
  },
  {
   "cell_type": "code",
   "execution_count": 17,
   "id": "e0b43b89-a1da-44ce-a014-8aa849e3f92e",
   "metadata": {},
   "outputs": [],
   "source": [
    "# Apply to SBA loans"
   ]
  },
  {
   "cell_type": "code",
   "execution_count": 18,
   "id": "72b5aa79-d1a4-43fb-a6c3-1df61b841ac9",
   "metadata": {},
   "outputs": [],
   "source": [
    "sba_loans = sba_loans.drop(columns=naics_k_assign.columns, errors='ignore') \\\n",
    "    .merge(naics_rand_map, how='left', on='NAICS')"
   ]
  },
  {
   "cell_type": "code",
   "execution_count": 19,
   "id": "63fe3d0e-6dfc-43f8-bbf9-84a4bb023a8b",
   "metadata": {},
   "outputs": [],
   "source": [
    "# Save data\n",
    "sba_loans[['LoanNr_ChkDgt', 'dset', 'dset_naics_holdout', 'NAICS'] + list(naics_k_assign.columns)] \\\n",
    "     .to_parquet(Path(setup.temp_path).joinpath('42_DATA_naics_groups_loans.parquet'))"
   ]
  },
  {
   "cell_type": "markdown",
   "id": "d8b23a01-73b1-4dd1-8946-7bd515c9529c",
   "metadata": {},
   "source": [
    "## Encode NAICS and Groups"
   ]
  },
  {
   "cell_type": "code",
   "execution_count": 30,
   "id": "69c21b91-28aa-4b81-b6c3-a48b3c2fd4d4",
   "metadata": {},
   "outputs": [],
   "source": [
    "def get_metrics(data, enc_features = ['NAICS', 'NAICS_sector'],\n",
    "               save_info = False):\n",
    "    \n",
    "    # Alternative encoding\n",
    "    train_df = data[data['dset'] == 'train']\n",
    "    hier_enc = HierarchicalEncoder(lambda_k = setup.selected_lambda_k)\n",
    "    hier_enc.fit(train_df[enc_features],train_df['target'])\n",
    "    hier_col = hier_enc.transform(data[enc_features]) \\\n",
    "        .rename('mhier_NAICS_alt')\n",
    "    \n",
    "    # Append to data\n",
    "    data = pd.concat([data.drop(columns='mhier_NAICS_alt', errors='ignore'), \n",
    "                       hier_col], axis=1)\n",
    "    train_df = data[data['dset'] == 'train']\n",
    "    test_df = data[data['dset'] == 'test']\n",
    "    val_df = data[data['dset'] == 'val']\n",
    "    \n",
    "    # Model fit\n",
    "    xgb_model = xgb.XGBClassifier(objective=\"binary:logistic\",\n",
    "                             n_estimators =  setup.xgb_n_estimators)\n",
    "    xgb_model = xgb_model.set_params(**xgb_params)\n",
    "    xgb_model.fit(train_df[predictor_features], train_df['target'],\n",
    "              eval_set = [(train_df[predictor_features], train_df['target']),\n",
    "                         (val_df[predictor_features], val_df['target'])])\n",
    "    \n",
    "    # Save info for Shapley (optional)\n",
    "    if save_info:\n",
    "        pd.concat([data[['LoanNr_ChkDgt', 'dset', 'dset_naics_holdout', 'NAICS']] \\\n",
    "               .drop(columns=hier_col.name, errors='ignore'), hier_col], axis = 1) \\\n",
    "            .to_parquet(Path(setup.temp_path).joinpath('A42_DATA_encodings.parquet'))\n",
    "        with open(Path(setup.temp_path).joinpath('A42_DATA_features_predict.pkl'), 'wb') as fout:\n",
    "            pickle.dump(predictor_features, fout)\n",
    "        xgb_model.save_model(Path(setup.temp_path).joinpath('A42_MODEL_xgboost.json'))\n",
    "    \n",
    "    # Predict\n",
    "    pred_df = pd.concat([data[['LoanNr_ChkDgt', 'dset', 'target', 'dset_naics_holdout']].reset_index(),\n",
    "                     pd.DataFrame({'predict_prob':\n",
    "                                   xgb_model.predict_proba(data[predictor_features])[:,1]})],\n",
    "                    axis=1) \\\n",
    "    .set_index('index')\n",
    "    \n",
    "    # Decision threshold\n",
    "    pred_train_df = pred_df[pred_df['dset'] == 'train']\n",
    "    thresh_tune_data = sg_plot.get_f1_frame(pred_train_df['target'], \n",
    "                                        pred_train_df['predict_prob'])\n",
    "    thresh_head = thresh_tune_data.sort_values('f1', ascending=False).head(2)\n",
    "    best_thresh = thresh_head['thresh'].iloc[0]\n",
    "    pred_df['predict_bin'] = np.where(pred_df['predict_prob'] >= best_thresh, 1, 0)\n",
    "    \n",
    "    # Metrics\n",
    "    metrics_dset_df = pred_df.groupby('dset') \\\n",
    "        .apply(lambda x: sg_plot.dset_metrics(x.target, x.predict_bin, x.predict_prob)) \\\n",
    "        .reset_index()\n",
    "    metrics_test_df = pred_df[pred_df['dset'] == 'test'] \\\n",
    "        .groupby(['dset', 'dset_naics_holdout']) \\\n",
    "        .apply(lambda x: sg_plot.dset_metrics(x.target, x.predict_bin, x.predict_prob)) \\\n",
    "        .reset_index()\n",
    "    metrics_df = pd.concat([metrics_dset_df, metrics_test_df])\n",
    "    \n",
    "    return pred_df, metrics_df"
   ]
  },
  {
   "cell_type": "markdown",
   "id": "8c486f71-d1fb-41c8-b900-84cadf3eec8c",
   "metadata": {},
   "source": [
    "## Loop to get predictions, metrics"
   ]
  },
  {
   "cell_type": "code",
   "execution_count": 31,
   "id": "be3db577-c4bf-410f-a4fb-d926368a0519",
   "metadata": {},
   "outputs": [
    {
     "data": {
      "text/plain": [
       "['rgrp_834', 'rgrp_354', 'rgrp_106', 'rgrp_020']"
      ]
     },
     "execution_count": 31,
     "metadata": {},
     "output_type": "execute_result"
    }
   ],
   "source": [
    "# Hierarchical encode from different levels\n",
    "enc_features = sorted(list(naics_k_assign.columns), reverse=True)\n",
    "enc_features"
   ]
  },
  {
   "cell_type": "code",
   "execution_count": 32,
   "id": "28648fe3-e91c-487a-b7f6-7f5ede6d1030",
   "metadata": {},
   "outputs": [
    {
     "data": {
      "text/plain": [
       "[['NAICS', 'rgrp_834', 'rgrp_354', 'rgrp_106', 'rgrp_020'],\n",
       " ['NAICS', 'rgrp_354', 'rgrp_106', 'rgrp_020'],\n",
       " ['NAICS', 'rgrp_106', 'rgrp_020'],\n",
       " ['NAICS', 'rgrp_020']]"
      ]
     },
     "execution_count": 32,
     "metadata": {},
     "output_type": "execute_result"
    }
   ],
   "source": [
    "# Hierarchical encode from different levels\n",
    "feature_sets = [['NAICS'] + enc_features[i:] \\\n",
    "              for i in range(len(enc_features))]\n",
    "feature_sets"
   ]
  },
  {
   "cell_type": "code",
   "execution_count": 33,
   "id": "3ca0672f-819d-4bf5-b829-a481a852d65b",
   "metadata": {},
   "outputs": [],
   "source": [
    "%%capture\n",
    "pred_df = pd.DataFrame()\n",
    "metrics_df = pd.DataFrame()\n",
    "save_info = True # Save first model data\n",
    "for this_set in feature_sets:\n",
    "    this_pred, this_met = get_metrics(sba_loans, this_set, save_info = save_info)\n",
    "    this_pred['c'] = this_set[1]\n",
    "    pred_df = pd.concat([pred_df, this_pred])\n",
    "    this_met['c'] = this_set[1]\n",
    "    metrics_df = pd.concat([metrics_df, this_met])\n",
    "    save_info = False"
   ]
  },
  {
   "cell_type": "code",
   "execution_count": 34,
   "id": "ca0982ee-64c1-4aad-bb66-c28b1e246bce",
   "metadata": {},
   "outputs": [
    {
     "data": {
      "text/html": [
       "<div>\n",
       "<style scoped>\n",
       "    .dataframe tbody tr th:only-of-type {\n",
       "        vertical-align: middle;\n",
       "    }\n",
       "\n",
       "    .dataframe tbody tr th {\n",
       "        vertical-align: top;\n",
       "    }\n",
       "\n",
       "    .dataframe thead th {\n",
       "        text-align: right;\n",
       "    }\n",
       "</style>\n",
       "<table border=\"1\" class=\"dataframe\">\n",
       "  <thead>\n",
       "    <tr style=\"text-align: right;\">\n",
       "      <th></th>\n",
       "      <th>dset</th>\n",
       "      <th>accuracy_score</th>\n",
       "      <th>f1_score</th>\n",
       "      <th>precision_score</th>\n",
       "      <th>recall_score</th>\n",
       "      <th>average_precision_score</th>\n",
       "      <th>roc_auc_score</th>\n",
       "      <th>dset_naics_holdout</th>\n",
       "      <th>c</th>\n",
       "    </tr>\n",
       "  </thead>\n",
       "  <tbody>\n",
       "    <tr>\n",
       "      <th>0</th>\n",
       "      <td>test</td>\n",
       "      <td>0.659291</td>\n",
       "      <td>0.449280</td>\n",
       "      <td>0.336529</td>\n",
       "      <td>0.675649</td>\n",
       "      <td>0.383335</td>\n",
       "      <td>0.728239</td>\n",
       "      <td>0.0</td>\n",
       "      <td>rgrp_834</td>\n",
       "    </tr>\n",
       "    <tr>\n",
       "      <th>0</th>\n",
       "      <td>test</td>\n",
       "      <td>0.659419</td>\n",
       "      <td>0.449278</td>\n",
       "      <td>0.336591</td>\n",
       "      <td>0.675389</td>\n",
       "      <td>0.383160</td>\n",
       "      <td>0.728418</td>\n",
       "      <td>0.0</td>\n",
       "      <td>rgrp_354</td>\n",
       "    </tr>\n",
       "    <tr>\n",
       "      <th>0</th>\n",
       "      <td>test</td>\n",
       "      <td>0.659141</td>\n",
       "      <td>0.450046</td>\n",
       "      <td>0.336796</td>\n",
       "      <td>0.678042</td>\n",
       "      <td>0.383442</td>\n",
       "      <td>0.728587</td>\n",
       "      <td>0.0</td>\n",
       "      <td>rgrp_106</td>\n",
       "    </tr>\n",
       "    <tr>\n",
       "      <th>0</th>\n",
       "      <td>test</td>\n",
       "      <td>0.633781</td>\n",
       "      <td>0.449750</td>\n",
       "      <td>0.325461</td>\n",
       "      <td>0.727618</td>\n",
       "      <td>0.383186</td>\n",
       "      <td>0.728328</td>\n",
       "      <td>0.0</td>\n",
       "      <td>rgrp_020</td>\n",
       "    </tr>\n",
       "  </tbody>\n",
       "</table>\n",
       "</div>"
      ],
      "text/plain": [
       "   dset  accuracy_score  f1_score  precision_score  recall_score  \\\n",
       "0  test        0.659291  0.449280         0.336529      0.675649   \n",
       "0  test        0.659419  0.449278         0.336591      0.675389   \n",
       "0  test        0.659141  0.450046         0.336796      0.678042   \n",
       "0  test        0.633781  0.449750         0.325461      0.727618   \n",
       "\n",
       "   average_precision_score  roc_auc_score  dset_naics_holdout         c  \n",
       "0                 0.383335       0.728239                 0.0  rgrp_834  \n",
       "0                 0.383160       0.728418                 0.0  rgrp_354  \n",
       "0                 0.383442       0.728587                 0.0  rgrp_106  \n",
       "0                 0.383186       0.728328                 0.0  rgrp_020  "
      ]
     },
     "execution_count": 34,
     "metadata": {},
     "output_type": "execute_result"
    }
   ],
   "source": [
    "metrics_df[metrics_df['dset_naics_holdout'] == 0]"
   ]
  },
  {
   "cell_type": "code",
   "execution_count": 35,
   "id": "0ff21702-e129-418b-b6c3-8ebd047186a0",
   "metadata": {},
   "outputs": [
    {
     "data": {
      "text/html": [
       "<div>\n",
       "<style scoped>\n",
       "    .dataframe tbody tr th:only-of-type {\n",
       "        vertical-align: middle;\n",
       "    }\n",
       "\n",
       "    .dataframe tbody tr th {\n",
       "        vertical-align: top;\n",
       "    }\n",
       "\n",
       "    .dataframe thead th {\n",
       "        text-align: right;\n",
       "    }\n",
       "</style>\n",
       "<table border=\"1\" class=\"dataframe\">\n",
       "  <thead>\n",
       "    <tr style=\"text-align: right;\">\n",
       "      <th></th>\n",
       "      <th>dset</th>\n",
       "      <th>accuracy_score</th>\n",
       "      <th>f1_score</th>\n",
       "      <th>precision_score</th>\n",
       "      <th>recall_score</th>\n",
       "      <th>average_precision_score</th>\n",
       "      <th>roc_auc_score</th>\n",
       "      <th>dset_naics_holdout</th>\n",
       "      <th>c</th>\n",
       "    </tr>\n",
       "  </thead>\n",
       "  <tbody>\n",
       "    <tr>\n",
       "      <th>1</th>\n",
       "      <td>test</td>\n",
       "      <td>0.702915</td>\n",
       "      <td>0.355628</td>\n",
       "      <td>0.293490</td>\n",
       "      <td>0.451146</td>\n",
       "      <td>0.291826</td>\n",
       "      <td>0.688923</td>\n",
       "      <td>1.0</td>\n",
       "      <td>rgrp_834</td>\n",
       "    </tr>\n",
       "    <tr>\n",
       "      <th>1</th>\n",
       "      <td>test</td>\n",
       "      <td>0.680456</td>\n",
       "      <td>0.373942</td>\n",
       "      <td>0.290338</td>\n",
       "      <td>0.525167</td>\n",
       "      <td>0.291951</td>\n",
       "      <td>0.691566</td>\n",
       "      <td>1.0</td>\n",
       "      <td>rgrp_354</td>\n",
       "    </tr>\n",
       "    <tr>\n",
       "      <th>1</th>\n",
       "      <td>test</td>\n",
       "      <td>0.672539</td>\n",
       "      <td>0.387416</td>\n",
       "      <td>0.293469</td>\n",
       "      <td>0.569833</td>\n",
       "      <td>0.295002</td>\n",
       "      <td>0.696876</td>\n",
       "      <td>1.0</td>\n",
       "      <td>rgrp_106</td>\n",
       "    </tr>\n",
       "    <tr>\n",
       "      <th>1</th>\n",
       "      <td>test</td>\n",
       "      <td>0.641948</td>\n",
       "      <td>0.414950</td>\n",
       "      <td>0.295095</td>\n",
       "      <td>0.698756</td>\n",
       "      <td>0.323272</td>\n",
       "      <td>0.713830</td>\n",
       "      <td>1.0</td>\n",
       "      <td>rgrp_020</td>\n",
       "    </tr>\n",
       "  </tbody>\n",
       "</table>\n",
       "</div>"
      ],
      "text/plain": [
       "   dset  accuracy_score  f1_score  precision_score  recall_score  \\\n",
       "1  test        0.702915  0.355628         0.293490      0.451146   \n",
       "1  test        0.680456  0.373942         0.290338      0.525167   \n",
       "1  test        0.672539  0.387416         0.293469      0.569833   \n",
       "1  test        0.641948  0.414950         0.295095      0.698756   \n",
       "\n",
       "   average_precision_score  roc_auc_score  dset_naics_holdout         c  \n",
       "1                 0.291826       0.688923                 1.0  rgrp_834  \n",
       "1                 0.291951       0.691566                 1.0  rgrp_354  \n",
       "1                 0.295002       0.696876                 1.0  rgrp_106  \n",
       "1                 0.323272       0.713830                 1.0  rgrp_020  "
      ]
     },
     "execution_count": 35,
     "metadata": {},
     "output_type": "execute_result"
    }
   ],
   "source": [
    "metrics_df[metrics_df['dset_naics_holdout'] == 1]"
   ]
  },
  {
   "cell_type": "code",
   "execution_count": 36,
   "id": "68669385-ef28-4f52-8987-7cc43ac626a6",
   "metadata": {},
   "outputs": [],
   "source": [
    "pred_df.to_parquet(Path(setup.temp_path).joinpath('A42_DATA_combined_predictions.parquet'))\n",
    "metrics_df.to_csv(Path(setup.temp_path).joinpath('A42_REPORT_metrics.csv'), index=True)"
   ]
  },
  {
   "cell_type": "code",
   "execution_count": null,
   "id": "83c4bf72-5710-489a-888f-bd2b7590e93b",
   "metadata": {},
   "outputs": [],
   "source": []
  },
  {
   "cell_type": "code",
   "execution_count": null,
   "id": "e2b6ef2b-9fe4-4595-9ba9-7fc205a864f6",
   "metadata": {},
   "outputs": [],
   "source": []
  }
 ],
 "metadata": {
  "kernelspec": {
   "display_name": "tf_p39",
   "language": "python",
   "name": "tf_p39"
  },
  "language_info": {
   "codemirror_mode": {
    "name": "ipython",
    "version": 3
   },
   "file_extension": ".py",
   "mimetype": "text/x-python",
   "name": "python",
   "nbconvert_exporter": "python",
   "pygments_lexer": "ipython3",
   "version": "3.8.18"
  }
 },
 "nbformat": 4,
 "nbformat_minor": 5
}
