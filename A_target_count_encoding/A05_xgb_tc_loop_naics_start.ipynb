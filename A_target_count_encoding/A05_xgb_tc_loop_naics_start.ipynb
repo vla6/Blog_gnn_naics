{
 "cells": [
  {
   "cell_type": "code",
   "execution_count": 1,
   "id": "4c65f557-651f-4958-a567-a1b6b5a82b2b",
   "metadata": {
    "tags": []
   },
   "outputs": [
    {
     "data": {
      "text/plain": [
       "'/Users/valeriecarey/Documents/projects/2023_10_blog_gnn_sba/code'"
      ]
     },
     "execution_count": 1,
     "metadata": {},
     "output_type": "execute_result"
    }
   ],
   "source": [
    "# Modify the file A00_setup.  Note the working directory is changed\n",
    "import os\n",
    "os.chdir(os.getcwd().rsplit(os.path.sep + 'code')[0] + os.path.sep + 'code')\n",
    "from importlib.machinery import SourceFileLoader\n",
    "setup = SourceFileLoader(\"setup\", \"./A_target_count_encoding/A00_setup.py\").load_module()\n",
    "os.getcwd()"
   ]
  },
  {
   "cell_type": "markdown",
   "id": "b01d0fdb-d4bf-465a-8541-997addc50b0c",
   "metadata": {},
   "source": [
    "# XGBoost, Target+Count Encoding: Vary hierarchy (start point)\n",
    "Do an alternative hierarchical treatment (mean encoding plus count encoding).  Vary hierarcy, using NAICS + hierarcy above a certain level."
   ]
  },
  {
   "cell_type": "markdown",
   "id": "56161f89-1f54-47f9-860d-3f945a941c1f",
   "metadata": {},
   "source": [
    "*This script takes about 5 minutes on my MacBook Air*"
   ]
  },
  {
   "cell_type": "code",
   "execution_count": 2,
   "id": "ec6b1778-7abc-4129-ab5f-ac2992bd8ca6",
   "metadata": {},
   "outputs": [],
   "source": [
    "import pandas as pd\n",
    "import numpy as np\n",
    "import xgboost as xgb\n",
    "import warnings\n",
    "import matplotlib.pyplot as plt\n",
    "import pickle"
   ]
  },
  {
   "cell_type": "code",
   "execution_count": 3,
   "id": "785af927-a634-4e34-84c4-7a532236f2ca",
   "metadata": {},
   "outputs": [],
   "source": [
    "from pathlib import Path"
   ]
  },
  {
   "cell_type": "code",
   "execution_count": 4,
   "id": "fd09527b-32dd-47fa-b62f-f9307f89f553",
   "metadata": {},
   "outputs": [],
   "source": [
    "import sklearn as sk\n",
    "from sklearn.model_selection import RandomizedSearchCV\n",
    "from sklearn.inspection import permutation_importance, partial_dependence\n",
    "from scikitplot.metrics import plot_lift_curve"
   ]
  },
  {
   "cell_type": "code",
   "execution_count": 5,
   "id": "0732ba40-8318-457b-b29f-f9b6de3b70aa",
   "metadata": {},
   "outputs": [],
   "source": [
    "from sba_gnn.sba_gnn import sg_plot, sg_target_count_encoder\n",
    "from sba_gnn.sba_gnn.sg_target_count_encoder import TargetCountEncoder"
   ]
  },
  {
   "cell_type": "markdown",
   "id": "d14a5947-6599-4253-acf3-91ddeffdedd3",
   "metadata": {},
   "source": [
    "## Import Processed Datasets"
   ]
  },
  {
   "cell_type": "code",
   "execution_count": 6,
   "id": "f6bc5cc5-b635-420f-852c-6cc9bba68a52",
   "metadata": {},
   "outputs": [],
   "source": [
    "sba_loans = pd.read_parquet(Path(setup.parent_path).joinpath('01_DATA_transformed.parquet')) "
   ]
  },
  {
   "cell_type": "code",
   "execution_count": 7,
   "id": "3c752967-2379-4bf3-9a0e-9eb1217012b2",
   "metadata": {},
   "outputs": [
    {
     "data": {
      "text/plain": [
       "{'subsample': 0.8,\n",
       " 'scale_pos_weight': 1.0,\n",
       " 'reg_lambda': 0.01,\n",
       " 'reg_alpha': 0.001,\n",
       " 'min_child_weight': 50,\n",
       " 'max_depth': 8,\n",
       " 'learning_rate': 0.1,\n",
       " 'gamma': 2}"
      ]
     },
     "execution_count": 7,
     "metadata": {},
     "output_type": "execute_result"
    }
   ],
   "source": [
    "best_params_df = pd.read_csv(Path(setup.parent_path).joinpath('03_REPORT_fit_parameter_selected.csv'))\n",
    "best_params = best_params_df.to_dict(orient='records')[0]\n",
    "best_params"
   ]
  },
  {
   "cell_type": "code",
   "execution_count": 8,
   "id": "82a0011b-c42a-4aca-bb30-7285fde059d4",
   "metadata": {},
   "outputs": [],
   "source": [
    "xgb_params = dict(best_params, \n",
    "                   **{'objective':\"binary:logistic\", 'n_estimators':setup.xgb_n_estimators})"
   ]
  },
  {
   "cell_type": "markdown",
   "id": "d59eb82b-6269-4a7b-99b4-3f42c86cb15c",
   "metadata": {},
   "source": [
    "##### Comparison metrics"
   ]
  },
  {
   "cell_type": "code",
   "execution_count": 9,
   "id": "ba2df40b-1a2e-4f8b-b045-ae5d4a68a446",
   "metadata": {},
   "outputs": [],
   "source": [
    "metrics_base = pd.read_csv(Path(setup.parent_path).joinpath('X11_REPORT_metrics.csv'))"
   ]
  },
  {
   "cell_type": "code",
   "execution_count": 10,
   "id": "670d891b-60b7-4770-b338-9c839df3332a",
   "metadata": {},
   "outputs": [],
   "source": [
    "# Group counts\n",
    "naics_grp_counts = pd.read_csv(Path(setup.parent_path).joinpath('02_REPORT_naics_grp_stats_all.csv')) \\\n",
    "    [['level_0', 'count_grp']] \\\n",
    "    .drop_duplicates() \\\n",
    "    .set_axis(['naics_type', 'k'], axis=1)"
   ]
  },
  {
   "cell_type": "code",
   "execution_count": 11,
   "id": "5c0a94f7-9543-4b15-97eb-e6221ca5cd49",
   "metadata": {},
   "outputs": [],
   "source": [
    "# Regular, non-hierarchical target encoding, for a horizontal reference line\n",
    "metrics_tenc = pd.read_csv(Path(setup.parent_path).joinpath('14_REPORT_metrics.csv'))"
   ]
  },
  {
   "cell_type": "markdown",
   "id": "dad22af6-70e7-46e9-ae24-c0af8de1b822",
   "metadata": {},
   "source": [
    "## Function to get metrics"
   ]
  },
  {
   "cell_type": "code",
   "execution_count": 12,
   "id": "ca448a6e-df88-4d10-b19b-ba01c484301a",
   "metadata": {},
   "outputs": [],
   "source": [
    "def get_metrics(data, lambda_k = setup.selected_lambda_k, enc_features = ['NAICS', 'NAICS_sector']):\n",
    "    \n",
    "    # Alternative encoding\n",
    "    train_df = data[data['dset'] == 'train']\n",
    "    enc_dict = {f:TargetCountEncoder(lambda_k = lambda_k) for f in enc_features}\n",
    "    [enc_dict[f].fit(train_df[f], train_df['target']) for f in enc_features]\n",
    "    enc_val = pd.concat([enc_dict[f].transform(data[f]) for f in enc_features],\n",
    "                    axis=1, keys=enc_features)\n",
    "    enc_val.columns = [c[0] + '_' + c[1] for c in enc_val.columns]\n",
    "    \n",
    "    # Append to data\n",
    "    data = pd.concat([data.drop(columns=enc_val.columns, errors='ignore'), enc_val], \n",
    "                      axis=1)\n",
    "    train_df = data[data['dset'] == 'train']\n",
    "    test_df = data[data['dset'] == 'test']\n",
    "    val_df = data[data['dset'] == 'val']\n",
    "    \n",
    "    predictor_features = setup.predictor_features + list(enc_val.columns)\n",
    "\n",
    "    # Model fit\n",
    "    xgb_model = xgb.XGBClassifier(objective=\"binary:logistic\",\n",
    "                             n_estimators =  setup.xgb_n_estimators)\n",
    "    xgb_model = xgb_model.set_params(**xgb_params)\n",
    "    xgb_model.fit(train_df[predictor_features], train_df['target'],\n",
    "              eval_set = [(train_df[predictor_features], train_df['target']),\n",
    "                         (val_df[predictor_features], val_df['target'])])\n",
    "    \n",
    "    # Predict\n",
    "    pred_df = pd.concat([data[['LoanNr_ChkDgt', 'dset', 'target', 'dset_naics_holdout']].reset_index(),\n",
    "                     pd.DataFrame({'predict_prob':\n",
    "                                   xgb_model.predict_proba(data[predictor_features])[:,1]})],\n",
    "                    axis=1) \\\n",
    "    .set_index('index')\n",
    "    \n",
    "    # Decision threshold\n",
    "    pred_train_df = pred_df[pred_df['dset'] == 'train']\n",
    "    thresh_tune_data = sg_plot.get_f1_frame(pred_train_df['target'], \n",
    "                                        pred_train_df['predict_prob'])\n",
    "    thresh_head = thresh_tune_data.sort_values('f1', ascending=False).head(2)\n",
    "    best_thresh = thresh_head['thresh'].iloc[0]\n",
    "    pred_df['predict_bin'] = np.where(pred_df['predict_prob'] >= best_thresh, 1, 0)\n",
    "    \n",
    "    # Metrics\n",
    "    metrics_dset_df = pred_df.groupby('dset') \\\n",
    "        .apply(lambda x: sg_plot.dset_metrics(x.target, x.predict_bin, x.predict_prob)) \\\n",
    "        .reset_index()\n",
    "    metrics_test_df = pred_df[pred_df['dset'] == 'test'] \\\n",
    "        .groupby(['dset', 'dset_naics_holdout']) \\\n",
    "        .apply(lambda x: sg_plot.dset_metrics(x.target, x.predict_bin, x.predict_prob)) \\\n",
    "        .reset_index()\n",
    "    metrics_df = pd.concat([metrics_dset_df, metrics_test_df])\n",
    "    \n",
    "    return pred_df, metrics_df"
   ]
  },
  {
   "cell_type": "markdown",
   "id": "9c290356-3291-4406-90cf-d921ad845925",
   "metadata": {},
   "source": [
    "## Loop to get predictions, metrics"
   ]
  },
  {
   "cell_type": "code",
   "execution_count": 13,
   "id": "2a259639-9a52-4ef3-9e3d-1b85a575619d",
   "metadata": {},
   "outputs": [],
   "source": [
    "# Hierarchical encode from different levels\n",
    "naics_sets = [['NAICS', 'NAICS_5', 'NAICS_4', 'NAICS_3', 'NAICS_sector'],\n",
    "              ['NAICS', 'NAICS_4', 'NAICS_3', 'NAICS_sector'],\n",
    "              ['NAICS', 'NAICS_3', 'NAICS_sector'],\n",
    "              ['NAICS', 'NAICS_sector']]"
   ]
  },
  {
   "cell_type": "code",
   "execution_count": 14,
   "id": "3ca0672f-819d-4bf5-b829-a481a852d65b",
   "metadata": {},
   "outputs": [],
   "source": [
    "%%capture\n",
    "pred_df = pd.DataFrame()\n",
    "metrics_df = pd.DataFrame()\n",
    "for this_set in naics_sets:\n",
    "    this_pred, this_met = get_metrics(sba_loans, enc_features=this_set)\n",
    "    this_pred['naics_type'] = this_set[1]\n",
    "    pred_df = pd.concat([pred_df, this_pred])\n",
    "    this_met['naics_type'] = this_set[1]\n",
    "    metrics_df = pd.concat([metrics_df, this_met])"
   ]
  },
  {
   "cell_type": "code",
   "execution_count": 15,
   "id": "0ff21702-e129-418b-b6c3-8ebd047186a0",
   "metadata": {},
   "outputs": [
    {
     "data": {
      "text/html": [
       "<div>\n",
       "<style scoped>\n",
       "    .dataframe tbody tr th:only-of-type {\n",
       "        vertical-align: middle;\n",
       "    }\n",
       "\n",
       "    .dataframe tbody tr th {\n",
       "        vertical-align: top;\n",
       "    }\n",
       "\n",
       "    .dataframe thead th {\n",
       "        text-align: right;\n",
       "    }\n",
       "</style>\n",
       "<table border=\"1\" class=\"dataframe\">\n",
       "  <thead>\n",
       "    <tr style=\"text-align: right;\">\n",
       "      <th></th>\n",
       "      <th>dset</th>\n",
       "      <th>accuracy_score</th>\n",
       "      <th>f1_score</th>\n",
       "      <th>precision_score</th>\n",
       "      <th>recall_score</th>\n",
       "      <th>average_precision_score</th>\n",
       "      <th>roc_auc_score</th>\n",
       "      <th>dset_naics_holdout</th>\n",
       "      <th>naics_type</th>\n",
       "    </tr>\n",
       "  </thead>\n",
       "  <tbody>\n",
       "    <tr>\n",
       "      <th>1</th>\n",
       "      <td>test</td>\n",
       "      <td>0.654430</td>\n",
       "      <td>0.430338</td>\n",
       "      <td>0.307189</td>\n",
       "      <td>0.718298</td>\n",
       "      <td>0.362341</td>\n",
       "      <td>0.738229</td>\n",
       "      <td>1.0</td>\n",
       "      <td>NAICS_5</td>\n",
       "    </tr>\n",
       "    <tr>\n",
       "      <th>1</th>\n",
       "      <td>test</td>\n",
       "      <td>0.673062</td>\n",
       "      <td>0.425872</td>\n",
       "      <td>0.312730</td>\n",
       "      <td>0.667287</td>\n",
       "      <td>0.358482</td>\n",
       "      <td>0.736250</td>\n",
       "      <td>1.0</td>\n",
       "      <td>NAICS_4</td>\n",
       "    </tr>\n",
       "    <tr>\n",
       "      <th>1</th>\n",
       "      <td>test</td>\n",
       "      <td>0.654861</td>\n",
       "      <td>0.424190</td>\n",
       "      <td>0.304369</td>\n",
       "      <td>0.699602</td>\n",
       "      <td>0.353050</td>\n",
       "      <td>0.732710</td>\n",
       "      <td>1.0</td>\n",
       "      <td>NAICS_3</td>\n",
       "    </tr>\n",
       "    <tr>\n",
       "      <th>1</th>\n",
       "      <td>test</td>\n",
       "      <td>0.647912</td>\n",
       "      <td>0.422840</td>\n",
       "      <td>0.301116</td>\n",
       "      <td>0.709754</td>\n",
       "      <td>0.347385</td>\n",
       "      <td>0.729996</td>\n",
       "      <td>1.0</td>\n",
       "      <td>NAICS_sector</td>\n",
       "    </tr>\n",
       "  </tbody>\n",
       "</table>\n",
       "</div>"
      ],
      "text/plain": [
       "   dset  accuracy_score  f1_score  precision_score  recall_score  \\\n",
       "1  test        0.654430  0.430338         0.307189      0.718298   \n",
       "1  test        0.673062  0.425872         0.312730      0.667287   \n",
       "1  test        0.654861  0.424190         0.304369      0.699602   \n",
       "1  test        0.647912  0.422840         0.301116      0.709754   \n",
       "\n",
       "   average_precision_score  roc_auc_score  dset_naics_holdout    naics_type  \n",
       "1                 0.362341       0.738229                 1.0       NAICS_5  \n",
       "1                 0.358482       0.736250                 1.0       NAICS_4  \n",
       "1                 0.353050       0.732710                 1.0       NAICS_3  \n",
       "1                 0.347385       0.729996                 1.0  NAICS_sector  "
      ]
     },
     "execution_count": 15,
     "metadata": {},
     "output_type": "execute_result"
    }
   ],
   "source": [
    "metrics_df[metrics_df['dset_naics_holdout'] == 1]"
   ]
  },
  {
   "cell_type": "code",
   "execution_count": 16,
   "id": "62e8b937-8e1c-4a4c-8cc3-40f8325564c0",
   "metadata": {},
   "outputs": [
    {
     "data": {
      "text/html": [
       "<div>\n",
       "<style scoped>\n",
       "    .dataframe tbody tr th:only-of-type {\n",
       "        vertical-align: middle;\n",
       "    }\n",
       "\n",
       "    .dataframe tbody tr th {\n",
       "        vertical-align: top;\n",
       "    }\n",
       "\n",
       "    .dataframe thead th {\n",
       "        text-align: right;\n",
       "    }\n",
       "</style>\n",
       "<table border=\"1\" class=\"dataframe\">\n",
       "  <thead>\n",
       "    <tr style=\"text-align: right;\">\n",
       "      <th></th>\n",
       "      <th>dset</th>\n",
       "      <th>accuracy_score</th>\n",
       "      <th>f1_score</th>\n",
       "      <th>precision_score</th>\n",
       "      <th>recall_score</th>\n",
       "      <th>average_precision_score</th>\n",
       "      <th>roc_auc_score</th>\n",
       "      <th>dset_naics_holdout</th>\n",
       "      <th>naics_type</th>\n",
       "    </tr>\n",
       "  </thead>\n",
       "  <tbody>\n",
       "    <tr>\n",
       "      <th>0</th>\n",
       "      <td>test</td>\n",
       "      <td>0.661013</td>\n",
       "      <td>0.452604</td>\n",
       "      <td>0.338853</td>\n",
       "      <td>0.681319</td>\n",
       "      <td>0.387845</td>\n",
       "      <td>0.731043</td>\n",
       "      <td>0.0</td>\n",
       "      <td>NAICS_5</td>\n",
       "    </tr>\n",
       "    <tr>\n",
       "      <th>0</th>\n",
       "      <td>test</td>\n",
       "      <td>0.659440</td>\n",
       "      <td>0.452194</td>\n",
       "      <td>0.337895</td>\n",
       "      <td>0.683348</td>\n",
       "      <td>0.387134</td>\n",
       "      <td>0.730621</td>\n",
       "      <td>0.0</td>\n",
       "      <td>NAICS_4</td>\n",
       "    </tr>\n",
       "    <tr>\n",
       "      <th>0</th>\n",
       "      <td>test</td>\n",
       "      <td>0.662041</td>\n",
       "      <td>0.452541</td>\n",
       "      <td>0.339338</td>\n",
       "      <td>0.679082</td>\n",
       "      <td>0.387252</td>\n",
       "      <td>0.730482</td>\n",
       "      <td>0.0</td>\n",
       "      <td>NAICS_3</td>\n",
       "    </tr>\n",
       "    <tr>\n",
       "      <th>0</th>\n",
       "      <td>test</td>\n",
       "      <td>0.660821</td>\n",
       "      <td>0.450946</td>\n",
       "      <td>0.338025</td>\n",
       "      <td>0.677158</td>\n",
       "      <td>0.385292</td>\n",
       "      <td>0.729608</td>\n",
       "      <td>0.0</td>\n",
       "      <td>NAICS_sector</td>\n",
       "    </tr>\n",
       "  </tbody>\n",
       "</table>\n",
       "</div>"
      ],
      "text/plain": [
       "   dset  accuracy_score  f1_score  precision_score  recall_score  \\\n",
       "0  test        0.661013  0.452604         0.338853      0.681319   \n",
       "0  test        0.659440  0.452194         0.337895      0.683348   \n",
       "0  test        0.662041  0.452541         0.339338      0.679082   \n",
       "0  test        0.660821  0.450946         0.338025      0.677158   \n",
       "\n",
       "   average_precision_score  roc_auc_score  dset_naics_holdout    naics_type  \n",
       "0                 0.387845       0.731043                 0.0       NAICS_5  \n",
       "0                 0.387134       0.730621                 0.0       NAICS_4  \n",
       "0                 0.387252       0.730482                 0.0       NAICS_3  \n",
       "0                 0.385292       0.729608                 0.0  NAICS_sector  "
      ]
     },
     "execution_count": 16,
     "metadata": {},
     "output_type": "execute_result"
    }
   ],
   "source": [
    "metrics_df[metrics_df['dset_naics_holdout'] == 0]"
   ]
  },
  {
   "cell_type": "code",
   "execution_count": 17,
   "id": "68669385-ef28-4f52-8987-7cc43ac626a6",
   "metadata": {},
   "outputs": [],
   "source": [
    "pred_df.to_parquet(Path(setup.temp_path).joinpath('A05_DATA_combined_predictions.parquet'))\n",
    "metrics_df.to_csv(Path(setup.temp_path).joinpath('A05_REPORT_metrics.csv'), index=True)"
   ]
  },
  {
   "cell_type": "markdown",
   "id": "b3b34909-e21f-4e26-a257-172118e582fa",
   "metadata": {},
   "source": [
    "## Comparison Plot"
   ]
  },
  {
   "cell_type": "code",
   "execution_count": 18,
   "id": "83c4bf72-5710-489a-888f-bd2b7590e93b",
   "metadata": {},
   "outputs": [],
   "source": [
    "metrics_sum = metrics_df[~metrics_df['dset_naics_holdout'].isna()] \\\n",
    "    .merge(naics_grp_counts, on='naics_type', how='left')"
   ]
  },
  {
   "cell_type": "code",
   "execution_count": 19,
   "id": "e8ee481d-56f5-4c03-93d8-2ec1184130ee",
   "metadata": {},
   "outputs": [],
   "source": [
    "metrics_base_sum = metrics_base[~metrics_base['dset_naics_holdout'].isna()] \\\n",
    "    .rename(columns={'start_naics':'naics_type'}) \\\n",
    "    .merge(naics_grp_counts, on='naics_type', how='left')"
   ]
  },
  {
   "cell_type": "code",
   "execution_count": 20,
   "id": "92f15614-7f24-4a2e-b76c-6a10af516091",
   "metadata": {},
   "outputs": [
    {
     "name": "stdout",
     "output_type": "stream",
     "text": [
      "Regular target encoding test result: 0.382950251407698; holdout 0.346336505844941\n"
     ]
    }
   ],
   "source": [
    "# Reference lines\n",
    "hline_test = metrics_tenc[(metrics_tenc['dset_naics_holdout'] == 0) &\n",
    "                          (metrics_tenc['c'] == setup.selected_lambda_k)] \\\n",
    "    ['average_precision_score'].iloc[0]\n",
    "hline_ho = metrics_tenc[(metrics_tenc['dset_naics_holdout'] == 1) &\n",
    "                          (metrics_tenc['c'] == setup.selected_lambda_k)] \\\n",
    "    ['average_precision_score'].iloc[0]\n",
    "print(f'Regular target encoding test result: {hline_test}; holdout {hline_ho}')"
   ]
  },
  {
   "cell_type": "code",
   "execution_count": 21,
   "id": "c6b7c64a-82d1-4b78-bb5c-0e3707bff713",
   "metadata": {},
   "outputs": [
    {
     "data": {
      "text/plain": [
       "['k=20\\n(sector)',\n",
       " 'k=106\\n(subsector)',\n",
       " 'k=354\\n(industry grp)',\n",
       " 'k=834\\n(industry)']"
      ]
     },
     "execution_count": 21,
     "metadata": {},
     "output_type": "execute_result"
    }
   ],
   "source": [
    "# Tick labels\n",
    "label_k = sorted(metrics_sum['k'].drop_duplicates().astype('int').to_list())\n",
    "label_str = ['sector', 'subsector', 'industry grp', 'industry']\n",
    "labels = [f'k={label_k[i]}\\n({label_str[i]})' for i in range(len(label_k))]\n",
    "labels"
   ]
  },
  {
   "cell_type": "code",
   "execution_count": 22,
   "id": "1a7c2283-bbe9-4747-9f51-39abdd75a283",
   "metadata": {},
   "outputs": [
    {
     "data": {
      "image/png": "[encoded data removed]",
      "text/plain": [
       "<Figure size 640x480 with 1 Axes>"
      ]
     },
     "metadata": {},
     "output_type": "display_data"
    }
   ],
   "source": [
    "fig, ax = plt.subplots()\n",
    "metrics_base_sum[metrics_base_sum['dset_naics_holdout'] == 0] \\\n",
    "    .plot(x='k', y='average_precision_score', logx=True, ax=ax, \n",
    "          label='Hierarchichal Blend',color='darkslateblue', style='v-')\n",
    "metrics_sum[metrics_sum['dset_naics_holdout'] == 0] \\\n",
    "    .plot(x='k', y='average_precision_score', logx=True, ax=ax, \n",
    "          label='Target+Count\\n (all NAICS levels)',color='darkorange', style='+-')\n",
    "ax.set_ylabel('PR-AUC')\n",
    "ax.set_xlabel('Group Count (k)')\n",
    "fig.suptitle('Test Dataset')\n",
    "ax.set_title('Encodings use groups at or above level')\n",
    "plt.axhline(y=hline_test, color='darkgray')\n",
    "ax.set_xticks(label_k)\n",
    "ax.set_xticklabels(labels)\n",
    "fig.savefig(Path(setup.temp_path).joinpath('A05_PLOT_compare_base_reg.png'),\n",
    "            bbox_inches='tight')"
   ]
  },
  {
   "cell_type": "code",
   "execution_count": 23,
   "id": "cc355787-8146-4fe2-88c9-1c10c33c2874",
   "metadata": {},
   "outputs": [
    {
     "data": {
      "text/plain": [
       "0.382950251407698"
      ]
     },
     "execution_count": 23,
     "metadata": {},
     "output_type": "execute_result"
    }
   ],
   "source": [
    "hline_test"
   ]
  },
  {
   "cell_type": "code",
   "execution_count": 24,
   "id": "b277c5bf-a2ee-4bd5-b80e-acd2a79ad4c0",
   "metadata": {},
   "outputs": [
    {
     "data": {
      "image/png": "[encoded data removed]",
      "text/plain": [
       "<Figure size 640x480 with 1 Axes>"
      ]
     },
     "metadata": {},
     "output_type": "display_data"
    }
   ],
   "source": [
    "fig, ax = plt.subplots()\n",
    "metrics_base_sum[metrics_base_sum['dset_naics_holdout'] == 1] \\\n",
    "    .plot(x='k', y='average_precision_score', logx=True, ax=ax, \n",
    "          label='Hierarchichal Blend',color='darkslateblue', style='v-')\n",
    "metrics_sum[metrics_sum['dset_naics_holdout'] == 1] \\\n",
    "    .plot(x='k', y='average_precision_score', logx=True, ax=ax, \n",
    "          label='Target+Count (all NAICS levels)',color='darkorange', style='+-')\n",
    "ax.set_ylabel('PR-AUC')\n",
    "ax.set_xlabel('Group Count (k)')\n",
    "fig.suptitle('Holdout NAICS')\n",
    "ax.set_title('Encodings use groups at or above level')\n",
    "plt.axhline(y=hline_ho, color='darkgray')\n",
    "ax.set_xticks(label_k)\n",
    "ax.set_xticklabels(labels)\n",
    "fig.savefig(Path(setup.temp_path).joinpath('A05_PLOT_compare_base_ho.png'),\n",
    "            bbox_inches='tight')"
   ]
  },
  {
   "cell_type": "code",
   "execution_count": null,
   "id": "b4a0ce7a-8c9b-47be-b394-cc6fe1917775",
   "metadata": {},
   "outputs": [],
   "source": []
  }
 ],
 "metadata": {
  "kernelspec": {
   "display_name": "tf_p39",
   "language": "python",
   "name": "tf_p39"
  },
  "language_info": {
   "codemirror_mode": {
    "name": "ipython",
    "version": 3
   },
   "file_extension": ".py",
   "mimetype": "text/x-python",
   "name": "python",
   "nbconvert_exporter": "python",
   "pygments_lexer": "ipython3",
   "version": "3.8.18"
  }
 },
 "nbformat": 4,
 "nbformat_minor": 5
}
