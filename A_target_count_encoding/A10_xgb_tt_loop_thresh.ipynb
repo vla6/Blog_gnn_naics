{
 "cells": [
  {
   "cell_type": "code",
   "execution_count": 1,
   "id": "4c65f557-651f-4958-a567-a1b6b5a82b2b",
   "metadata": {
    "tags": []
   },
   "outputs": [
    {
     "data": {
      "text/plain": [
       "'/Users/valeriecarey/Documents/projects/2023_10_blog_gnn_sba/code'"
      ]
     },
     "execution_count": 1,
     "metadata": {},
     "output_type": "execute_result"
    }
   ],
   "source": [
    "# Modify the file A00_setup.  Note the working directory is changed\n",
    "import os\n",
    "os.chdir(os.getcwd().rsplit(os.path.sep + 'code')[0] + os.path.sep + 'code')\n",
    "from importlib.machinery import SourceFileLoader\n",
    "setup = SourceFileLoader(\"setup\", \"./A_target_count_encoding/A00_setup.py\").load_module()\n",
    "os.getcwd()"
   ]
  },
  {
   "cell_type": "markdown",
   "id": "b01d0fdb-d4bf-465a-8541-997addc50b0c",
   "metadata": {},
   "source": [
    "# XGBoost, Target-Thresh: Vary threshold\n",
    "No blending of hierarchy, and instead of shrinking towards the mean, low volume codes are set to NA values. "
   ]
  },
  {
   "cell_type": "markdown",
   "id": "56161f89-1f54-47f9-860d-3f945a941c1f",
   "metadata": {},
   "source": [
    "*This script takes about 5 minutes on my MacBook Air*"
   ]
  },
  {
   "cell_type": "code",
   "execution_count": 2,
   "id": "ec6b1778-7abc-4129-ab5f-ac2992bd8ca6",
   "metadata": {},
   "outputs": [],
   "source": [
    "import pandas as pd\n",
    "import numpy as np\n",
    "import xgboost as xgb\n",
    "import warnings\n",
    "import matplotlib.pyplot as plt\n",
    "import pickle"
   ]
  },
  {
   "cell_type": "code",
   "execution_count": 3,
   "id": "785af927-a634-4e34-84c4-7a532236f2ca",
   "metadata": {},
   "outputs": [],
   "source": [
    "from pathlib import Path"
   ]
  },
  {
   "cell_type": "code",
   "execution_count": 4,
   "id": "fd09527b-32dd-47fa-b62f-f9307f89f553",
   "metadata": {},
   "outputs": [],
   "source": [
    "import sklearn as sk\n",
    "from sklearn.model_selection import RandomizedSearchCV\n",
    "from sklearn.inspection import permutation_importance, partial_dependence\n",
    "from scikitplot.metrics import plot_lift_curve"
   ]
  },
  {
   "cell_type": "code",
   "execution_count": 5,
   "id": "0732ba40-8318-457b-b29f-f9b6de3b70aa",
   "metadata": {},
   "outputs": [],
   "source": [
    "from sba_gnn.sba_gnn import sg_plot, sg_target_count_encoder\n",
    "from sba_gnn.sba_gnn.sg_target_thresh_encoder import TargetThreshEncoder"
   ]
  },
  {
   "cell_type": "markdown",
   "id": "d14a5947-6599-4253-acf3-91ddeffdedd3",
   "metadata": {},
   "source": [
    "## Import Processed Datasets"
   ]
  },
  {
   "cell_type": "code",
   "execution_count": 6,
   "id": "f6bc5cc5-b635-420f-852c-6cc9bba68a52",
   "metadata": {},
   "outputs": [],
   "source": [
    "sba_loans = pd.read_parquet(Path(setup.parent_path).joinpath('01_DATA_transformed.parquet')) "
   ]
  },
  {
   "cell_type": "code",
   "execution_count": 7,
   "id": "3c752967-2379-4bf3-9a0e-9eb1217012b2",
   "metadata": {},
   "outputs": [
    {
     "data": {
      "text/plain": [
       "{'subsample': 0.8,\n",
       " 'scale_pos_weight': 1.0,\n",
       " 'reg_lambda': 0.01,\n",
       " 'reg_alpha': 0.001,\n",
       " 'min_child_weight': 50,\n",
       " 'max_depth': 8,\n",
       " 'learning_rate': 0.1,\n",
       " 'gamma': 2}"
      ]
     },
     "execution_count": 7,
     "metadata": {},
     "output_type": "execute_result"
    }
   ],
   "source": [
    "best_params_df = pd.read_csv(Path(setup.parent_path).joinpath('03_REPORT_fit_parameter_selected.csv'))\n",
    "best_params = best_params_df.to_dict(orient='records')[0]\n",
    "best_params"
   ]
  },
  {
   "cell_type": "code",
   "execution_count": 8,
   "id": "82a0011b-c42a-4aca-bb30-7285fde059d4",
   "metadata": {},
   "outputs": [],
   "source": [
    "xgb_params = dict(best_params, \n",
    "                   **{'objective':\"binary:logistic\", 'n_estimators':setup.xgb_n_estimators})"
   ]
  },
  {
   "cell_type": "markdown",
   "id": "c6c78e2d-2c25-4e29-bdcc-be7396f5df59",
   "metadata": {},
   "source": [
    "##### Comparison metrics"
   ]
  },
  {
   "cell_type": "code",
   "execution_count": 9,
   "id": "fcc2b797-48d4-42a3-99b3-bc9144c3203b",
   "metadata": {},
   "outputs": [],
   "source": [
    "metrics_base = pd.read_csv(Path(setup.parent_path).joinpath('14_REPORT_metrics.csv'))"
   ]
  },
  {
   "cell_type": "code",
   "execution_count": 19,
   "id": "42793461-48b4-42a8-a96e-869f4c1c9308",
   "metadata": {},
   "outputs": [],
   "source": [
    "metrics_tcenc = pd.read_csv(Path(setup.temp_path).joinpath('A04_REPORT_metrics.csv'))"
   ]
  },
  {
   "cell_type": "markdown",
   "id": "dad22af6-70e7-46e9-ae24-c0af8de1b822",
   "metadata": {},
   "source": [
    "## Function to get metrics"
   ]
  },
  {
   "cell_type": "code",
   "execution_count": 11,
   "id": "ca448a6e-df88-4d10-b19b-ba01c484301a",
   "metadata": {},
   "outputs": [],
   "source": [
    "def get_metrics(data, threshold = 100, \n",
    "                enc_features = ['NAICS', 'NAICS_5', 'NAICS_4', 'NAICS_3', 'NAICS_sector']):\n",
    "    \n",
    "    # Alternative encoding\n",
    "    train_df = data[data['dset'] == 'train']\n",
    "    enc_dict = {f:TargetThreshEncoder(threshold = threshold) for f in enc_features}\n",
    "    [enc_dict[f].fit(train_df[f], train_df['target']) for f in enc_features]\n",
    "    enc_val = pd.concat([enc_dict[f].transform(data[f]) for f in enc_features],\n",
    "                    axis=1, keys=enc_features)\n",
    "    enc_val.columns = [c[0] + '_' + c[1] for c in enc_val.columns]\n",
    "    \n",
    "    # Append to data\n",
    "    data = pd.concat([data.drop(columns=enc_val.columns, errors='ignore'), enc_val], \n",
    "                      axis=1)\n",
    "    train_df = data[data['dset'] == 'train']\n",
    "    test_df = data[data['dset'] == 'test']\n",
    "    val_df = data[data['dset'] == 'val']\n",
    "    \n",
    "    predictor_features = setup.predictor_features + list(enc_val.columns)\n",
    "\n",
    "    # Model fit\n",
    "    xgb_model = xgb.XGBClassifier(objective=\"binary:logistic\",\n",
    "                             n_estimators =  setup.xgb_n_estimators)\n",
    "    xgb_model = xgb_model.set_params(**xgb_params)\n",
    "    xgb_model.fit(train_df[predictor_features], train_df['target'],\n",
    "              eval_set = [(train_df[predictor_features], train_df['target']),\n",
    "                         (val_df[predictor_features], val_df['target'])])\n",
    "    \n",
    "    # Predict\n",
    "    pred_df = pd.concat([data[['LoanNr_ChkDgt', 'dset', 'target', 'dset_naics_holdout']].reset_index(),\n",
    "                     pd.DataFrame({'predict_prob':\n",
    "                                   xgb_model.predict_proba(data[predictor_features])[:,1]})],\n",
    "                    axis=1) \\\n",
    "    .set_index('index')\n",
    "    \n",
    "    # Decision threshold\n",
    "    pred_train_df = pred_df[pred_df['dset'] == 'train']\n",
    "    thresh_tune_data = sg_plot.get_f1_frame(pred_train_df['target'], \n",
    "                                        pred_train_df['predict_prob'])\n",
    "    thresh_head = thresh_tune_data.sort_values('f1', ascending=False).head(2)\n",
    "    best_thresh = thresh_head['thresh'].iloc[0]\n",
    "    pred_df['predict_bin'] = np.where(pred_df['predict_prob'] >= best_thresh, 1, 0)\n",
    "    \n",
    "    # Metrics\n",
    "    metrics_dset_df = pred_df.groupby('dset') \\\n",
    "        .apply(lambda x: sg_plot.dset_metrics(x.target, x.predict_bin, x.predict_prob)) \\\n",
    "        .reset_index()\n",
    "    metrics_test_df = pred_df[pred_df['dset'] == 'test'] \\\n",
    "        .groupby(['dset', 'dset_naics_holdout']) \\\n",
    "        .apply(lambda x: sg_plot.dset_metrics(x.target, x.predict_bin, x.predict_prob)) \\\n",
    "        .reset_index()\n",
    "    metrics_df = pd.concat([metrics_dset_df, metrics_test_df])\n",
    "    \n",
    "    return pred_df, metrics_df"
   ]
  },
  {
   "cell_type": "markdown",
   "id": "9c290356-3291-4406-90cf-d921ad845925",
   "metadata": {},
   "source": [
    "## Loop to get predictions, metrics"
   ]
  },
  {
   "cell_type": "code",
   "execution_count": 12,
   "id": "9cc600c7-afa6-41df-a9c0-6eb710081542",
   "metadata": {},
   "outputs": [],
   "source": [
    "count_sets = [5, 10, 20, 50, 100, 200, 500, 1000, 2000]"
   ]
  },
  {
   "cell_type": "code",
   "execution_count": 13,
   "id": "3ca0672f-819d-4bf5-b829-a481a852d65b",
   "metadata": {},
   "outputs": [],
   "source": [
    "%%capture\n",
    "pred_df = pd.DataFrame()\n",
    "metrics_df = pd.DataFrame()\n",
    "for c in count_sets:\n",
    "    this_pred, this_met = get_metrics(sba_loans, c, \n",
    "                                      ['NAICS', 'NAICS_5', 'NAICS_4', 'NAICS_3', 'NAICS_sector'])\n",
    "    this_pred['c'] = c\n",
    "    pred_df = pd.concat([pred_df, this_pred])\n",
    "    this_met['c'] = c\n",
    "    metrics_df = pd.concat([metrics_df, this_met])"
   ]
  },
  {
   "cell_type": "code",
   "execution_count": 14,
   "id": "0ff21702-e129-418b-b6c3-8ebd047186a0",
   "metadata": {},
   "outputs": [
    {
     "data": {
      "text/html": [
       "<div>\n",
       "<style scoped>\n",
       "    .dataframe tbody tr th:only-of-type {\n",
       "        vertical-align: middle;\n",
       "    }\n",
       "\n",
       "    .dataframe tbody tr th {\n",
       "        vertical-align: top;\n",
       "    }\n",
       "\n",
       "    .dataframe thead th {\n",
       "        text-align: right;\n",
       "    }\n",
       "</style>\n",
       "<table border=\"1\" class=\"dataframe\">\n",
       "  <thead>\n",
       "    <tr style=\"text-align: right;\">\n",
       "      <th></th>\n",
       "      <th>dset</th>\n",
       "      <th>accuracy_score</th>\n",
       "      <th>f1_score</th>\n",
       "      <th>precision_score</th>\n",
       "      <th>recall_score</th>\n",
       "      <th>average_precision_score</th>\n",
       "      <th>roc_auc_score</th>\n",
       "      <th>dset_naics_holdout</th>\n",
       "      <th>c</th>\n",
       "    </tr>\n",
       "  </thead>\n",
       "  <tbody>\n",
       "    <tr>\n",
       "      <th>1</th>\n",
       "      <td>test</td>\n",
       "      <td>0.705789</td>\n",
       "      <td>0.421030</td>\n",
       "      <td>0.327698</td>\n",
       "      <td>0.588698</td>\n",
       "      <td>0.356743</td>\n",
       "      <td>0.732057</td>\n",
       "      <td>1.0</td>\n",
       "      <td>5</td>\n",
       "    </tr>\n",
       "    <tr>\n",
       "      <th>1</th>\n",
       "      <td>test</td>\n",
       "      <td>0.726465</td>\n",
       "      <td>0.413320</td>\n",
       "      <td>0.338646</td>\n",
       "      <td>0.530243</td>\n",
       "      <td>0.354879</td>\n",
       "      <td>0.734288</td>\n",
       "      <td>1.0</td>\n",
       "      <td>10</td>\n",
       "    </tr>\n",
       "    <tr>\n",
       "      <th>1</th>\n",
       "      <td>test</td>\n",
       "      <td>0.722468</td>\n",
       "      <td>0.417688</td>\n",
       "      <td>0.337538</td>\n",
       "      <td>0.547754</td>\n",
       "      <td>0.357080</td>\n",
       "      <td>0.734520</td>\n",
       "      <td>1.0</td>\n",
       "      <td>20</td>\n",
       "    </tr>\n",
       "    <tr>\n",
       "      <th>1</th>\n",
       "      <td>test</td>\n",
       "      <td>0.705666</td>\n",
       "      <td>0.424618</td>\n",
       "      <td>0.329279</td>\n",
       "      <td>0.597665</td>\n",
       "      <td>0.363246</td>\n",
       "      <td>0.737531</td>\n",
       "      <td>1.0</td>\n",
       "      <td>50</td>\n",
       "    </tr>\n",
       "    <tr>\n",
       "      <th>1</th>\n",
       "      <td>test</td>\n",
       "      <td>0.696919</td>\n",
       "      <td>0.429084</td>\n",
       "      <td>0.326201</td>\n",
       "      <td>0.626766</td>\n",
       "      <td>0.365664</td>\n",
       "      <td>0.739809</td>\n",
       "      <td>1.0</td>\n",
       "      <td>100</td>\n",
       "    </tr>\n",
       "    <tr>\n",
       "      <th>1</th>\n",
       "      <td>test</td>\n",
       "      <td>0.687389</td>\n",
       "      <td>0.431384</td>\n",
       "      <td>0.322182</td>\n",
       "      <td>0.652567</td>\n",
       "      <td>0.366205</td>\n",
       "      <td>0.740313</td>\n",
       "      <td>1.0</td>\n",
       "      <td>200</td>\n",
       "    </tr>\n",
       "    <tr>\n",
       "      <th>1</th>\n",
       "      <td>test</td>\n",
       "      <td>0.691739</td>\n",
       "      <td>0.433099</td>\n",
       "      <td>0.325238</td>\n",
       "      <td>0.647999</td>\n",
       "      <td>0.368132</td>\n",
       "      <td>0.740690</td>\n",
       "      <td>1.0</td>\n",
       "      <td>500</td>\n",
       "    </tr>\n",
       "    <tr>\n",
       "      <th>1</th>\n",
       "      <td>test</td>\n",
       "      <td>0.689802</td>\n",
       "      <td>0.432871</td>\n",
       "      <td>0.324116</td>\n",
       "      <td>0.651468</td>\n",
       "      <td>0.366645</td>\n",
       "      <td>0.741540</td>\n",
       "      <td>1.0</td>\n",
       "      <td>1000</td>\n",
       "    </tr>\n",
       "    <tr>\n",
       "      <th>1</th>\n",
       "      <td>test</td>\n",
       "      <td>0.691370</td>\n",
       "      <td>0.430843</td>\n",
       "      <td>0.323996</td>\n",
       "      <td>0.642839</td>\n",
       "      <td>0.367445</td>\n",
       "      <td>0.741001</td>\n",
       "      <td>1.0</td>\n",
       "      <td>2000</td>\n",
       "    </tr>\n",
       "  </tbody>\n",
       "</table>\n",
       "</div>"
      ],
      "text/plain": [
       "   dset  accuracy_score  f1_score  precision_score  recall_score  \\\n",
       "1  test        0.705789  0.421030         0.327698      0.588698   \n",
       "1  test        0.726465  0.413320         0.338646      0.530243   \n",
       "1  test        0.722468  0.417688         0.337538      0.547754   \n",
       "1  test        0.705666  0.424618         0.329279      0.597665   \n",
       "1  test        0.696919  0.429084         0.326201      0.626766   \n",
       "1  test        0.687389  0.431384         0.322182      0.652567   \n",
       "1  test        0.691739  0.433099         0.325238      0.647999   \n",
       "1  test        0.689802  0.432871         0.324116      0.651468   \n",
       "1  test        0.691370  0.430843         0.323996      0.642839   \n",
       "\n",
       "   average_precision_score  roc_auc_score  dset_naics_holdout     c  \n",
       "1                 0.356743       0.732057                 1.0     5  \n",
       "1                 0.354879       0.734288                 1.0    10  \n",
       "1                 0.357080       0.734520                 1.0    20  \n",
       "1                 0.363246       0.737531                 1.0    50  \n",
       "1                 0.365664       0.739809                 1.0   100  \n",
       "1                 0.366205       0.740313                 1.0   200  \n",
       "1                 0.368132       0.740690                 1.0   500  \n",
       "1                 0.366645       0.741540                 1.0  1000  \n",
       "1                 0.367445       0.741001                 1.0  2000  "
      ]
     },
     "execution_count": 14,
     "metadata": {},
     "output_type": "execute_result"
    }
   ],
   "source": [
    "metrics_df[metrics_df['dset_naics_holdout'] == 1]"
   ]
  },
  {
   "cell_type": "code",
   "execution_count": 15,
   "id": "62e8b937-8e1c-4a4c-8cc3-40f8325564c0",
   "metadata": {},
   "outputs": [
    {
     "data": {
      "text/html": [
       "<div>\n",
       "<style scoped>\n",
       "    .dataframe tbody tr th:only-of-type {\n",
       "        vertical-align: middle;\n",
       "    }\n",
       "\n",
       "    .dataframe tbody tr th {\n",
       "        vertical-align: top;\n",
       "    }\n",
       "\n",
       "    .dataframe thead th {\n",
       "        text-align: right;\n",
       "    }\n",
       "</style>\n",
       "<table border=\"1\" class=\"dataframe\">\n",
       "  <thead>\n",
       "    <tr style=\"text-align: right;\">\n",
       "      <th></th>\n",
       "      <th>dset</th>\n",
       "      <th>accuracy_score</th>\n",
       "      <th>f1_score</th>\n",
       "      <th>precision_score</th>\n",
       "      <th>recall_score</th>\n",
       "      <th>average_precision_score</th>\n",
       "      <th>roc_auc_score</th>\n",
       "      <th>dset_naics_holdout</th>\n",
       "      <th>c</th>\n",
       "    </tr>\n",
       "  </thead>\n",
       "  <tbody>\n",
       "    <tr>\n",
       "      <th>0</th>\n",
       "      <td>test</td>\n",
       "      <td>0.660114</td>\n",
       "      <td>0.451588</td>\n",
       "      <td>0.337959</td>\n",
       "      <td>0.680331</td>\n",
       "      <td>0.386594</td>\n",
       "      <td>0.730214</td>\n",
       "      <td>0.0</td>\n",
       "      <td>5</td>\n",
       "    </tr>\n",
       "    <tr>\n",
       "      <th>0</th>\n",
       "      <td>test</td>\n",
       "      <td>0.660018</td>\n",
       "      <td>0.450931</td>\n",
       "      <td>0.337620</td>\n",
       "      <td>0.678718</td>\n",
       "      <td>0.386963</td>\n",
       "      <td>0.730264</td>\n",
       "      <td>0.0</td>\n",
       "      <td>10</td>\n",
       "    </tr>\n",
       "    <tr>\n",
       "      <th>0</th>\n",
       "      <td>test</td>\n",
       "      <td>0.660714</td>\n",
       "      <td>0.452536</td>\n",
       "      <td>0.338674</td>\n",
       "      <td>0.681735</td>\n",
       "      <td>0.386812</td>\n",
       "      <td>0.730392</td>\n",
       "      <td>0.0</td>\n",
       "      <td>20</td>\n",
       "    </tr>\n",
       "    <tr>\n",
       "      <th>0</th>\n",
       "      <td>test</td>\n",
       "      <td>0.660307</td>\n",
       "      <td>0.452995</td>\n",
       "      <td>0.338675</td>\n",
       "      <td>0.683816</td>\n",
       "      <td>0.387034</td>\n",
       "      <td>0.730948</td>\n",
       "      <td>0.0</td>\n",
       "      <td>50</td>\n",
       "    </tr>\n",
       "    <tr>\n",
       "      <th>0</th>\n",
       "      <td>test</td>\n",
       "      <td>0.660757</td>\n",
       "      <td>0.452662</td>\n",
       "      <td>0.338751</td>\n",
       "      <td>0.681996</td>\n",
       "      <td>0.387970</td>\n",
       "      <td>0.731346</td>\n",
       "      <td>0.0</td>\n",
       "      <td>100</td>\n",
       "    </tr>\n",
       "    <tr>\n",
       "      <th>0</th>\n",
       "      <td>test</td>\n",
       "      <td>0.658584</td>\n",
       "      <td>0.452832</td>\n",
       "      <td>0.337759</td>\n",
       "      <td>0.686833</td>\n",
       "      <td>0.387319</td>\n",
       "      <td>0.731009</td>\n",
       "      <td>0.0</td>\n",
       "      <td>200</td>\n",
       "    </tr>\n",
       "    <tr>\n",
       "      <th>0</th>\n",
       "      <td>test</td>\n",
       "      <td>0.655941</td>\n",
       "      <td>0.452325</td>\n",
       "      <td>0.336263</td>\n",
       "      <td>0.690735</td>\n",
       "      <td>0.384276</td>\n",
       "      <td>0.729765</td>\n",
       "      <td>0.0</td>\n",
       "      <td>500</td>\n",
       "    </tr>\n",
       "    <tr>\n",
       "      <th>0</th>\n",
       "      <td>test</td>\n",
       "      <td>0.655973</td>\n",
       "      <td>0.450795</td>\n",
       "      <td>0.335597</td>\n",
       "      <td>0.686417</td>\n",
       "      <td>0.383927</td>\n",
       "      <td>0.728898</td>\n",
       "      <td>0.0</td>\n",
       "      <td>1000</td>\n",
       "    </tr>\n",
       "    <tr>\n",
       "      <th>0</th>\n",
       "      <td>test</td>\n",
       "      <td>0.651447</td>\n",
       "      <td>0.449056</td>\n",
       "      <td>0.332698</td>\n",
       "      <td>0.690579</td>\n",
       "      <td>0.377487</td>\n",
       "      <td>0.726243</td>\n",
       "      <td>0.0</td>\n",
       "      <td>2000</td>\n",
       "    </tr>\n",
       "  </tbody>\n",
       "</table>\n",
       "</div>"
      ],
      "text/plain": [
       "   dset  accuracy_score  f1_score  precision_score  recall_score  \\\n",
       "0  test        0.660114  0.451588         0.337959      0.680331   \n",
       "0  test        0.660018  0.450931         0.337620      0.678718   \n",
       "0  test        0.660714  0.452536         0.338674      0.681735   \n",
       "0  test        0.660307  0.452995         0.338675      0.683816   \n",
       "0  test        0.660757  0.452662         0.338751      0.681996   \n",
       "0  test        0.658584  0.452832         0.337759      0.686833   \n",
       "0  test        0.655941  0.452325         0.336263      0.690735   \n",
       "0  test        0.655973  0.450795         0.335597      0.686417   \n",
       "0  test        0.651447  0.449056         0.332698      0.690579   \n",
       "\n",
       "   average_precision_score  roc_auc_score  dset_naics_holdout     c  \n",
       "0                 0.386594       0.730214                 0.0     5  \n",
       "0                 0.386963       0.730264                 0.0    10  \n",
       "0                 0.386812       0.730392                 0.0    20  \n",
       "0                 0.387034       0.730948                 0.0    50  \n",
       "0                 0.387970       0.731346                 0.0   100  \n",
       "0                 0.387319       0.731009                 0.0   200  \n",
       "0                 0.384276       0.729765                 0.0   500  \n",
       "0                 0.383927       0.728898                 0.0  1000  \n",
       "0                 0.377487       0.726243                 0.0  2000  "
      ]
     },
     "execution_count": 15,
     "metadata": {},
     "output_type": "execute_result"
    }
   ],
   "source": [
    "metrics_df[metrics_df['dset_naics_holdout'] == 0]"
   ]
  },
  {
   "cell_type": "code",
   "execution_count": 16,
   "id": "68669385-ef28-4f52-8987-7cc43ac626a6",
   "metadata": {},
   "outputs": [],
   "source": [
    "pred_df.to_parquet(Path(setup.temp_path).joinpath('A10_DATA_combined_predictions.parquet'))\n",
    "metrics_df.to_csv(Path(setup.temp_path).joinpath('A10_REPORT_metrics.csv'), index=True)"
   ]
  },
  {
   "cell_type": "markdown",
   "id": "f8c6d23c-e05c-4be5-b1f3-651b12590b1b",
   "metadata": {},
   "source": [
    "## Compare Results to Standard"
   ]
  },
  {
   "cell_type": "markdown",
   "id": "84487d3d-984a-4add-8512-84b87180c45e",
   "metadata": {},
   "source": [
    "#### Regular randomized test"
   ]
  },
  {
   "cell_type": "code",
   "execution_count": 25,
   "id": "a0a3e154-50d6-410d-97fc-17ae6115932c",
   "metadata": {},
   "outputs": [
    {
     "data": {
      "image/png": "[encoded data removed]",
      "text/plain": [
       "<Figure size 640x480 with 1 Axes>"
      ]
     },
     "metadata": {},
     "output_type": "display_data"
    }
   ],
   "source": [
    "fig, ax = plt.subplots()\n",
    "metrics_base[metrics_base['dset_naics_holdout'] == 0] \\\n",
    "    .plot(x='c', y='average_precision_score', logx=True, ax=ax, \n",
    "          label='Target Encoding',color='darkslateblue', style='o-')\n",
    "metrics_tcenc[metrics_tcenc['dset_naics_holdout'] == 0] \\\n",
    "    .plot(x='c', y='average_precision_score', logx=True, ax=ax, \n",
    "          label='Target+Count',color='darkorange', style='+-')\n",
    "metrics_df[metrics_df['dset_naics_holdout'] == 0] \\\n",
    "    .plot(x='c', y='average_precision_score', logx=True, ax=ax, \n",
    "          label='Target-Thresh',color='violet', style='P-')\n",
    "ax.set_ylabel('PR-AUC')\n",
    "ax.set_xlabel('blend midpoint or count threshold')\n",
    "fig.suptitle('Test Dataset')\n",
    "fig.savefig(Path(setup.temp_path).joinpath('A10_PLOT_compare_base_reg.png'),\n",
    "            bbox_inches='tight')"
   ]
  },
  {
   "cell_type": "code",
   "execution_count": 24,
   "id": "83c4bf72-5710-489a-888f-bd2b7590e93b",
   "metadata": {},
   "outputs": [
    {
     "data": {
      "image/png": "[encoded data removed]",
      "text/plain": [
       "<Figure size 640x480 with 1 Axes>"
      ]
     },
     "metadata": {},
     "output_type": "display_data"
    }
   ],
   "source": [
    "fig, ax = plt.subplots()\n",
    "metrics_base[metrics_base['dset_naics_holdout'] == 1] \\\n",
    "    .plot(x='c', y='average_precision_score', logx=True, ax=ax, \n",
    "          label='Target Encoding',color='darkslateblue', style='o-')\n",
    "metrics_tcenc[metrics_tcenc['dset_naics_holdout'] == 1] \\\n",
    "    .plot(x='c', y='average_precision_score', logx=True, ax=ax, \n",
    "          label='Target+Count',color='darkorange', style='+-')\n",
    "metrics_df[metrics_df['dset_naics_holdout'] == 1] \\\n",
    "    .plot(x='c', y='average_precision_score', logx=True, ax=ax, \n",
    "          label='Target-Thresh',color='violet', style='P-')\n",
    "ax.set_ylabel('PR-AUC')\n",
    "ax.set_xlabel('blending midpoint or count threshold')\n",
    "fig.suptitle('Holdout NAICS')\n",
    "fig.savefig(Path(setup.temp_path).joinpath('A10_PLOT_compare_base_ho.png'),\n",
    "            bbox_inches='tight')"
   ]
  },
  {
   "cell_type": "code",
   "execution_count": null,
   "id": "329f5e67-687a-4a4b-8c4f-67dee89ed7eb",
   "metadata": {},
   "outputs": [],
   "source": []
  },
  {
   "cell_type": "code",
   "execution_count": null,
   "id": "806a3696-015b-428c-b189-a66c70d34a8c",
   "metadata": {},
   "outputs": [],
   "source": []
  },
  {
   "cell_type": "code",
   "execution_count": null,
   "id": "0028ae74-a369-4646-9efc-bd8f66ee6359",
   "metadata": {},
   "outputs": [],
   "source": []
  }
 ],
 "metadata": {
  "kernelspec": {
   "display_name": "tf_p39",
   "language": "python",
   "name": "tf_p39"
  },
  "language_info": {
   "codemirror_mode": {
    "name": "ipython",
    "version": 3
   },
   "file_extension": ".py",
   "mimetype": "text/x-python",
   "name": "python",
   "nbconvert_exporter": "python",
   "pygments_lexer": "ipython3",
   "version": "3.8.18"
  }
 },
 "nbformat": 4,
 "nbformat_minor": 5
}
