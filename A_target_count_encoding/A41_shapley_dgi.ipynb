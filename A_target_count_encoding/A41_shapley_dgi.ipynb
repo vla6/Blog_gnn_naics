{
 "cells": [
  {
   "cell_type": "code",
   "execution_count": 1,
   "id": "4f7c6e2f-4274-4eac-8057-d97cc94c6cb0",
   "metadata": {
    "tags": []
   },
   "outputs": [
    {
     "data": {
      "text/plain": [
       "'/Users/valeriecarey/Documents/projects/2023_10_blog_gnn_sba/code'"
      ]
     },
     "execution_count": 1,
     "metadata": {},
     "output_type": "execute_result"
    }
   ],
   "source": [
    "# Modify the file A00_setup.  Note the working directory is changed\n",
    "import os\n",
    "os.chdir(os.getcwd().rsplit(os.path.sep + 'code')[0] + os.path.sep + 'code')\n",
    "from importlib.machinery import SourceFileLoader\n",
    "setup = SourceFileLoader(\"setup\", \"./A_target_count_encoding/A00_setup.py\").load_module()\n",
    "os.getcwd()"
   ]
  },
  {
   "cell_type": "markdown",
   "id": "6cc94d9c-20e1-4c04-9890-2da08f7b2e50",
   "metadata": {},
   "source": [
    "# SHAP: DGI hierarchy\n",
    "Shapley comparisons for DGI hierarchy models.  Look at importance of DGI features"
   ]
  },
  {
   "cell_type": "markdown",
   "id": "800a8c3e-4c58-4f17-b32e-93bda4717949",
   "metadata": {},
   "source": [
    "*This script takes about 10 minutes on my MacBook Air*"
   ]
  },
  {
   "cell_type": "code",
   "execution_count": 2,
   "id": "2ca6a2dc-9086-466a-8092-4014ba1c989f",
   "metadata": {},
   "outputs": [],
   "source": [
    "import pandas as pd\n",
    "import numpy as np\n",
    "import xgboost as xgb\n",
    "import warnings\n",
    "import matplotlib.pyplot as plt\n",
    "import pickle, importlib"
   ]
  },
  {
   "cell_type": "code",
   "execution_count": 3,
   "id": "4ae7d083-6388-4446-a1e5-c22f09e7db85",
   "metadata": {},
   "outputs": [],
   "source": [
    "from pathlib import Path"
   ]
  },
  {
   "cell_type": "code",
   "execution_count": 4,
   "id": "bc9352e8-a979-4bfe-aadc-233b85d55088",
   "metadata": {},
   "outputs": [],
   "source": [
    "import shap\n",
    "import xgboost as xgb"
   ]
  },
  {
   "cell_type": "markdown",
   "id": "2494665b-5a34-451c-b695-ecb7dcf10dc8",
   "metadata": {},
   "source": [
    "## Data"
   ]
  },
  {
   "cell_type": "code",
   "execution_count": 5,
   "id": "ccedb443-a91b-4650-9d90-c99f6e33aa8f",
   "metadata": {
    "tags": []
   },
   "outputs": [],
   "source": [
    "sba_loans = pd.read_parquet(Path(setup.parent_path).joinpath('01_DATA_transformed.parquet')) "
   ]
  },
  {
   "cell_type": "code",
   "execution_count": 6,
   "id": "4b2b13ee-948d-49fa-a6f1-f548f05230f2",
   "metadata": {},
   "outputs": [],
   "source": [
    "train_df = sba_loans[sba_loans['dset'] == 'train']"
   ]
  },
  {
   "cell_type": "markdown",
   "id": "a546eaef-1d58-45bd-8a8a-fb1087146c48",
   "metadata": {},
   "source": [
    "## Models \n",
    "Load a bunch of models and create a dictionary.  Also get model-related data into dictionaries."
   ]
  },
  {
   "cell_type": "code",
   "execution_count": 7,
   "id": "193e9bce-c259-460c-bf62-57f103c8475e",
   "metadata": {},
   "outputs": [],
   "source": [
    "# Function to load the required information from models\n",
    "def model_load(prefix = 'X01', path=setup.temp_path):\n",
    "    model = xgb.Booster()\n",
    "    model.load_model(Path(path).joinpath(prefix + '_MODEL_xgboost.json'))\n",
    "    features_values = pd.read_parquet(Path(path).joinpath(prefix + '_DATA_encodings.parquet'))\n",
    "    features_columns = [c for c in features_values.columns \\\n",
    "                        if c not in ['LoanNr_ChkDgt', 'dset', 'dset_naics_holdout', 'NAICS']]\n",
    "    with open(Path(path).joinpath(prefix + '_DATA_features_predict.pkl'), 'rb') as fin:\n",
    "        features_predict = pickle.load(fin)\n",
    "        \n",
    "    return model, features_values, features_columns, features_predict"
   ]
  },
  {
   "cell_type": "markdown",
   "id": "a62abd7a-bb6e-4078-b640-3413a01b5112",
   "metadata": {},
   "source": [
    "##### Models"
   ]
  },
  {
   "cell_type": "code",
   "execution_count": 8,
   "id": "0662055b-002c-4808-8c4a-2a63c68e0563",
   "metadata": {},
   "outputs": [],
   "source": [
    "# Standard target encoding \n",
    "xgb_model_menc, features_menc_values, features_menc_columns, features_predict_menc = \\\n",
    "    model_load('X04', setup.parent_path)"
   ]
  },
  {
   "cell_type": "code",
   "execution_count": 9,
   "id": "2bc59e58-7be8-4fe2-aa64-ffc7a002f8d1",
   "metadata": {},
   "outputs": [],
   "source": [
    "# Hierarchical target encoding by DGI\n",
    "xgb_model_mhier, features_mhier_values, features_mhier_columns, features_predict_mhier = \\\n",
    "    model_load('X65', setup.parent_path)"
   ]
  },
  {
   "cell_type": "code",
   "execution_count": 10,
   "id": "57335816-b2a9-46b0-b9c4-cb357bc37b5c",
   "metadata": {},
   "outputs": [],
   "source": [
    "# Standard target encoding of all levels DGI hier (separately)\n",
    "xgb_model_menc_all, features_menc_all_values, features_menc_all_columns, features_predict_menc_all = \\\n",
    "    model_load('A25', setup.temp_path)"
   ]
  },
  {
   "cell_type": "code",
   "execution_count": 11,
   "id": "ac1e2261-0e94-4034-83e2-10ea5fc77f01",
   "metadata": {},
   "outputs": [],
   "source": [
    "# Target+Count encoding, all levels DGI\n",
    "xgb_model_tc, features_tc_values, features_tc_columns, features_predict_tc = \\\n",
    "    model_load('A23', setup.temp_path)"
   ]
  },
  {
   "cell_type": "code",
   "execution_count": 12,
   "id": "6bab664b-8797-477e-9c3b-638209edc091",
   "metadata": {},
   "outputs": [],
   "source": [
    "# Target-Thresh encoding, all levels DGI\n",
    "xgb_model_tt, features_tt_values, features_tt_columns, features_predict_tt = \\\n",
    "    model_load('A24', setup.temp_path)"
   ]
  },
  {
   "cell_type": "code",
   "execution_count": 13,
   "id": "aee601d9-2304-4b94-b83d-1ab03e8ecf44",
   "metadata": {},
   "outputs": [],
   "source": [
    "# Encoding column(s) into dictionary\n",
    "feature_dict = {'menc': features_menc_columns, \n",
    "                'mhier':features_mhier_columns,\n",
    "                'menc_all': features_menc_all_columns,\n",
    "                'tc':features_tc_columns,\n",
    "                 'tt':features_tt_columns}"
   ]
  },
  {
   "cell_type": "code",
   "execution_count": 14,
   "id": "9a44125d-e2ad-4589-86d9-aecfef0f901d",
   "metadata": {},
   "outputs": [],
   "source": [
    "# Encoded values into dictionary\n",
    "feature_values_dict = {'menc': features_menc_values,\n",
    "                       'mhier':features_mhier_values,\n",
    "                       'menc_all': features_menc_all_values,\n",
    "                       'tc':features_tc_values,\n",
    "                       'tt':features_tt_values}"
   ]
  },
  {
   "cell_type": "code",
   "execution_count": 15,
   "id": "5e151a18-60aa-4108-b88c-9e9c43845d5b",
   "metadata": {},
   "outputs": [],
   "source": [
    "# Order for plots and tables, also print labels\n",
    "feature_order = ['menc', 'mhier', 'menc_all', 'tc', 'tt']\n",
    "num_models = len(feature_order)\n",
    "print_dict = {'menc': 'Target encoding (NAICS only)', \n",
    "                'mhier':'Hierarchical Blending',\n",
    "                'menc_all': 'Target encoding (NAICS hierarchy)',\n",
    "                'tc':'Target+Count encoding',\n",
    "                 'tt':'Target-Thresh encoding'}"
   ]
  },
  {
   "cell_type": "code",
   "execution_count": 16,
   "id": "cb4f5086-f216-4ade-8178-3a0fea53c7f5",
   "metadata": {},
   "outputs": [],
   "source": [
    "# Models into a dictionary\n",
    "model_dict = {'menc': xgb_model_menc, \n",
    "                'mhier':xgb_model_mhier,\n",
    "                'menc_all': xgb_model_menc_all,\n",
    "                'tc':xgb_model_tc,\n",
    "                 'tt':xgb_model_tt}"
   ]
  },
  {
   "cell_type": "code",
   "execution_count": 17,
   "id": "18539d39-0b1c-4acb-b1b7-622da0696257",
   "metadata": {},
   "outputs": [],
   "source": [
    "# Predictor dictionary for compactness\n",
    "predictor_dict = {'menc': features_predict_menc, \n",
    "                 'mhier':features_predict_mhier,\n",
    "                'menc_all': features_predict_menc_all,\n",
    "                'tc':features_predict_tc,\n",
    "                 'tt':features_predict_tt}"
   ]
  },
  {
   "cell_type": "code",
   "execution_count": 18,
   "id": "0b064d4c-8751-4c84-9524-f7197b0c6c21",
   "metadata": {},
   "outputs": [
    {
     "data": {
      "text/plain": [
       "dict_keys(['menc', 'mhier', 'menc_all', 'tc', 'tt'])"
      ]
     },
     "execution_count": 18,
     "metadata": {},
     "output_type": "execute_result"
    }
   ],
   "source": [
    "predictor_dict.keys()"
   ]
  },
  {
   "cell_type": "markdown",
   "id": "6e1fb8f6-1acf-44e1-93af-64a628b3ccb4",
   "metadata": {},
   "source": [
    "## Datasets for Explanations\n",
    "Wamt to use the same cases for all models.  Use the test holdout, and regular test data.  I need to append different features for each"
   ]
  },
  {
   "cell_type": "code",
   "execution_count": 19,
   "id": "2577c353-c393-4e1b-9099-d0f792db841d",
   "metadata": {},
   "outputs": [],
   "source": [
    "# Function to get a dataset for a given modeal\n",
    "def model_data(base_data, features_data, predictors_list):\n",
    "    \n",
    "    drop_cols = [c for c in features_data.columns if c != 'LoanNr_ChkDgt']\n",
    "    data = base_data \\\n",
    "        .drop(columns = drop_cols, errors='ignore') \\\n",
    "        .merge(features_data,\n",
    "               how='inner', on='LoanNr_ChkDgt')\n",
    "    return data"
   ]
  },
  {
   "cell_type": "markdown",
   "id": "9dcbe22b-ccc9-4db9-9672-00196868f502",
   "metadata": {},
   "source": [
    "##### Holdout data\n",
    "Create data frames for all models"
   ]
  },
  {
   "cell_type": "code",
   "execution_count": 20,
   "id": "cb137b77-f6e7-4ad3-8582-5d875bfcf985",
   "metadata": {},
   "outputs": [],
   "source": [
    "holdout_base = sba_loans[sba_loans['dset_naics_holdout'] == 1]"
   ]
  },
  {
   "cell_type": "code",
   "execution_count": 21,
   "id": "f9d8da94-3a44-4bb4-91b2-f5be9945bf1e",
   "metadata": {},
   "outputs": [],
   "source": [
    "model_data_holdout_dict = {k: model_data(holdout_base, feature_values_dict[k],\n",
    "                                 predictor_dict[k]) for k in feature_values_dict.keys()}"
   ]
  },
  {
   "cell_type": "code",
   "execution_count": 22,
   "id": "6952a6c1-69a5-430b-9a86-38bb4a84aa78",
   "metadata": {},
   "outputs": [
    {
     "data": {
      "text/plain": [
       "{'menc': (65052, 58),\n",
       " 'mhier': (65052, 59),\n",
       " 'menc_all': (65052, 62),\n",
       " 'tc': (65052, 68),\n",
       " 'tt': (65052, 63)}"
      ]
     },
     "execution_count": 22,
     "metadata": {},
     "output_type": "execute_result"
    }
   ],
   "source": [
    "# Print the data shapes\n",
    "{k:model_data_holdout_dict[k].shape for k in feature_values_dict.keys()}"
   ]
  },
  {
   "cell_type": "markdown",
   "id": "be6a5c0f-adb3-48b6-b5f1-9be11ca10cb1",
   "metadata": {},
   "source": [
    "##### Random test data\n",
    "Downsample a bit for speed.  Use the same data for all"
   ]
  },
  {
   "cell_type": "code",
   "execution_count": 23,
   "id": "e1840c60-250b-4613-96cf-f3e959aa12f9",
   "metadata": {},
   "outputs": [],
   "source": [
    "sample_n = np.min([len(sba_loans['dset_naics_holdout'] == 0), 50000])\n",
    "test_base = sba_loans[sba_loans['dset_naics_holdout'] == 0] \\\n",
    "    .sample(n=sample_n, random_state = 6)"
   ]
  },
  {
   "cell_type": "code",
   "execution_count": 24,
   "id": "652b7530-dcfc-493c-ba71-eeedf9e72e04",
   "metadata": {},
   "outputs": [],
   "source": [
    "model_data_test_dict = {k: model_data(test_base, feature_values_dict[k],\n",
    "                                 predictor_dict[k]) for k in feature_values_dict.keys()}"
   ]
  },
  {
   "cell_type": "code",
   "execution_count": 25,
   "id": "b0809ce4-726c-4f36-ac75-a945b06e09d1",
   "metadata": {},
   "outputs": [
    {
     "data": {
      "text/plain": [
       "{'menc': (50000, 58),\n",
       " 'mhier': (50000, 59),\n",
       " 'menc_all': (50000, 62),\n",
       " 'tc': (50000, 68),\n",
       " 'tt': (50000, 63)}"
      ]
     },
     "execution_count": 25,
     "metadata": {},
     "output_type": "execute_result"
    }
   ],
   "source": [
    "# Print the data shapes\n",
    "{k:model_data_test_dict[k].shape for k in feature_values_dict.keys()}"
   ]
  },
  {
   "cell_type": "markdown",
   "id": "dc0f0ec8-3a27-41b7-831a-ec4d7552cf51",
   "metadata": {
    "tags": []
   },
   "source": [
    "## SHAP Explainers, Values\n",
    "For the 3 models, generate explainers then explanations"
   ]
  },
  {
   "cell_type": "markdown",
   "id": "0add6582-ac2b-4183-9445-99f916cfb941",
   "metadata": {
    "tags": []
   },
   "source": [
    "##### Explainers"
   ]
  },
  {
   "cell_type": "code",
   "execution_count": 26,
   "id": "3f975d35-90b3-4f9a-9d8b-023e1f9f9687",
   "metadata": {},
   "outputs": [],
   "source": [
    "explainer_dict = {k: \\\n",
    "                  shap.TreeExplainer(model_dict[k], feature_names=predictor_dict[k]) \\\n",
    "              for k in predictor_dict.keys()}"
   ]
  },
  {
   "cell_type": "code",
   "execution_count": 27,
   "id": "f6fe2cf9-271d-4a54-b98e-3a858c026241",
   "metadata": {},
   "outputs": [
    {
     "data": {
      "text/plain": [
       "{'menc': <shap.explainers._tree.TreeExplainer at 0x30815ab50>,\n",
       " 'mhier': <shap.explainers._tree.TreeExplainer at 0x30815a610>,\n",
       " 'menc_all': <shap.explainers._tree.TreeExplainer at 0x30815acd0>,\n",
       " 'tc': <shap.explainers._tree.TreeExplainer at 0x304a6d340>,\n",
       " 'tt': <shap.explainers._tree.TreeExplainer at 0x30815a9a0>}"
      ]
     },
     "execution_count": 27,
     "metadata": {},
     "output_type": "execute_result"
    }
   ],
   "source": [
    "explainer_dict"
   ]
  },
  {
   "cell_type": "markdown",
   "id": "3bb90cd3-31f7-43a1-a6de-31ddfc609905",
   "metadata": {},
   "source": [
    "##### Holdout values"
   ]
  },
  {
   "cell_type": "code",
   "execution_count": 28,
   "id": "95420277-5ce4-484b-9710-e1d4a4012020",
   "metadata": {},
   "outputs": [],
   "source": [
    "shap_holdout_dict = {k: \n",
    "                     explainer_dict[k].shap_values(model_data_holdout_dict[k][predictor_dict[k]])\n",
    "                     for k in predictor_dict.keys()}"
   ]
  },
  {
   "cell_type": "markdown",
   "id": "6f9cc047-9c33-4f48-96ea-2c0a3fdcd286",
   "metadata": {},
   "source": [
    "##### Random test values"
   ]
  },
  {
   "cell_type": "code",
   "execution_count": 29,
   "id": "1b176f22-dee2-435a-8d2b-be6ab9c4c70a",
   "metadata": {},
   "outputs": [],
   "source": [
    "shap_test_dict = {k: \n",
    "                     explainer_dict[k].shap_values(model_data_test_dict[k][predictor_dict[k]])\n",
    "                     for k in predictor_dict.keys()}"
   ]
  },
  {
   "cell_type": "markdown",
   "id": "26ab5c09-83da-4e33-b034-387b51dc1841",
   "metadata": {},
   "source": [
    "##### Save data"
   ]
  },
  {
   "cell_type": "code",
   "execution_count": 30,
   "id": "57b85780-11a8-41f0-ab91-e82067691eec",
   "metadata": {},
   "outputs": [],
   "source": [
    "with open(Path(setup.temp_path).joinpath('A41_DATA_raw_shap_dict_ho.pkl'), 'wb') as fout:\n",
    "    pickle.dump(shap_holdout_dict, fout)"
   ]
  },
  {
   "cell_type": "code",
   "execution_count": 31,
   "id": "c5aee137-a648-440f-970d-396cb0c11401",
   "metadata": {},
   "outputs": [],
   "source": [
    "with open(Path(setup.temp_path).joinpath('A41_DATA_raw_shap_dict_test.pkl'), 'wb') as fout:\n",
    "    pickle.dump(shap_test_dict, fout)"
   ]
  },
  {
   "cell_type": "markdown",
   "id": "5a148eee-87ce-432f-8bad-06b976d014ae",
   "metadata": {},
   "source": [
    "##### Data frame convert and save"
   ]
  },
  {
   "cell_type": "code",
   "execution_count": 32,
   "id": "91a64ac3-ba7a-4469-818e-8a25cb1fb361",
   "metadata": {},
   "outputs": [],
   "source": [
    "shap_holdout_df_dict = {k: pd.DataFrame(shap_holdout_dict[k], columns=predictor_dict[k],\n",
    "                                       index = model_data_holdout_dict[k].index)\n",
    "                        for k in predictor_dict.keys()}\n",
    "with open(Path(setup.temp_path).joinpath('A41_DATA_df_shap_dict_ho.pkl'), 'wb') as fout:\n",
    "    pickle.dump(shap_holdout_df_dict, fout)"
   ]
  },
  {
   "cell_type": "code",
   "execution_count": 33,
   "id": "b9f3e7c5-7fe5-4bf5-b25e-72023645565e",
   "metadata": {},
   "outputs": [],
   "source": [
    "shap_test_df_dict = {k: pd.DataFrame(shap_test_dict[k], columns=predictor_dict[k],\n",
    "                                    index = model_data_test_dict[k].index)\n",
    "                        for k in predictor_dict.keys()}\n",
    "with open(Path(setup.temp_path).joinpath('A41_DATA_df_shap_dict_test.pkl'), 'wb') as fout:\n",
    "    pickle.dump(shap_test_df_dict, fout)"
   ]
  },
  {
   "cell_type": "markdown",
   "id": "633d9f8c-ded5-4773-99ec-f18394b700a8",
   "metadata": {},
   "source": [
    "## Long Format Data"
   ]
  },
  {
   "cell_type": "code",
   "execution_count": 34,
   "id": "67ee122f-9a04-496e-9502-de1741c46c56",
   "metadata": {},
   "outputs": [],
   "source": [
    "# Function to convert SHAP data to a frame in long format\n",
    "def get_shap_long(shap_df, features_encoded):\n",
    "    \n",
    "    long_df = shap_df.melt(ignore_index = False)\n",
    "    \n",
    "    long_df['enc_flag'] = np.where(long_df['variable'].isin(features_encoded), 1, 0)\n",
    "    \n",
    "    return long_df"
   ]
  },
  {
   "cell_type": "code",
   "execution_count": 35,
   "id": "fdee8876-288e-44b7-b73c-9d9c877f3383",
   "metadata": {},
   "outputs": [],
   "source": [
    "# Apply the function to all models and concatenate\n",
    "shap_all_long_test = pd.concat([get_shap_long(shap_test_df_dict[k],feature_dict[k]) \\\n",
    "                              .reset_index()\n",
    "                         for k in predictor_dict.keys()],\n",
    "                        keys=predictor_dict.keys()) \\\n",
    "    .reset_index(level=0) \\\n",
    "    .rename(columns={'level_0':'model'}) \\\n",
    "    .reset_index(drop=True)"
   ]
  },
  {
   "cell_type": "code",
   "execution_count": 36,
   "id": "bd198a6d-dd0f-41c7-af9f-0886b8e3d2de",
   "metadata": {},
   "outputs": [],
   "source": [
    "shap_all_long_test.to_parquet(Path(setup.temp_path).joinpath('A41_DATA_shap_long_test.parquet'))"
   ]
  },
  {
   "cell_type": "code",
   "execution_count": 37,
   "id": "48371889-a599-4e36-9a52-b3b908f81263",
   "metadata": {},
   "outputs": [],
   "source": [
    "# Apply the function to all models and concatenate\n",
    "shap_all_long_ho = pd.concat([get_shap_long(shap_holdout_df_dict[k],feature_dict[k]) \\\n",
    "                              .reset_index()\n",
    "                         for k in predictor_dict.keys()],\n",
    "                        keys=predictor_dict.keys()) \\\n",
    "    .reset_index(level=0) \\\n",
    "    .rename(columns={'level_0':'model'}) \\\n",
    "    .reset_index(drop=True)"
   ]
  },
  {
   "cell_type": "code",
   "execution_count": 38,
   "id": "92a9459c-f308-4b74-957b-b63a963c3284",
   "metadata": {},
   "outputs": [],
   "source": [
    "shap_all_long_ho.to_parquet(Path(setup.temp_path).joinpath('A41_DATA_shap_long_ho.parquet'))"
   ]
  },
  {
   "cell_type": "code",
   "execution_count": 39,
   "id": "9b7f893b-e4a5-4c0d-8772-6031b35b50e3",
   "metadata": {},
   "outputs": [
    {
     "data": {
      "text/html": [
       "<div>\n",
       "<style scoped>\n",
       "    .dataframe tbody tr th:only-of-type {\n",
       "        vertical-align: middle;\n",
       "    }\n",
       "\n",
       "    .dataframe tbody tr th {\n",
       "        vertical-align: top;\n",
       "    }\n",
       "\n",
       "    .dataframe thead th {\n",
       "        text-align: right;\n",
       "    }\n",
       "</style>\n",
       "<table border=\"1\" class=\"dataframe\">\n",
       "  <thead>\n",
       "    <tr style=\"text-align: right;\">\n",
       "      <th></th>\n",
       "      <th>model</th>\n",
       "      <th>index</th>\n",
       "      <th>variable</th>\n",
       "      <th>value</th>\n",
       "      <th>enc_flag</th>\n",
       "    </tr>\n",
       "  </thead>\n",
       "  <tbody>\n",
       "    <tr>\n",
       "      <th>0</th>\n",
       "      <td>menc</td>\n",
       "      <td>0</td>\n",
       "      <td>NoEmp</td>\n",
       "      <td>0.088689</td>\n",
       "      <td>0</td>\n",
       "    </tr>\n",
       "    <tr>\n",
       "      <th>1</th>\n",
       "      <td>menc</td>\n",
       "      <td>1</td>\n",
       "      <td>NoEmp</td>\n",
       "      <td>0.045408</td>\n",
       "      <td>0</td>\n",
       "    </tr>\n",
       "    <tr>\n",
       "      <th>2</th>\n",
       "      <td>menc</td>\n",
       "      <td>2</td>\n",
       "      <td>NoEmp</td>\n",
       "      <td>0.004393</td>\n",
       "      <td>0</td>\n",
       "    </tr>\n",
       "    <tr>\n",
       "      <th>3</th>\n",
       "      <td>menc</td>\n",
       "      <td>3</td>\n",
       "      <td>NoEmp</td>\n",
       "      <td>-0.049012</td>\n",
       "      <td>0</td>\n",
       "    </tr>\n",
       "    <tr>\n",
       "      <th>4</th>\n",
       "      <td>menc</td>\n",
       "      <td>4</td>\n",
       "      <td>NoEmp</td>\n",
       "      <td>0.049974</td>\n",
       "      <td>0</td>\n",
       "    </tr>\n",
       "    <tr>\n",
       "      <th>...</th>\n",
       "      <td>...</td>\n",
       "      <td>...</td>\n",
       "      <td>...</td>\n",
       "      <td>...</td>\n",
       "      <td>...</td>\n",
       "    </tr>\n",
       "    <tr>\n",
       "      <th>3707959</th>\n",
       "      <td>tt</td>\n",
       "      <td>65047</td>\n",
       "      <td>tt_cluster_020</td>\n",
       "      <td>0.026871</td>\n",
       "      <td>1</td>\n",
       "    </tr>\n",
       "    <tr>\n",
       "      <th>3707960</th>\n",
       "      <td>tt</td>\n",
       "      <td>65048</td>\n",
       "      <td>tt_cluster_020</td>\n",
       "      <td>-0.017642</td>\n",
       "      <td>1</td>\n",
       "    </tr>\n",
       "    <tr>\n",
       "      <th>3707961</th>\n",
       "      <td>tt</td>\n",
       "      <td>65049</td>\n",
       "      <td>tt_cluster_020</td>\n",
       "      <td>0.030469</td>\n",
       "      <td>1</td>\n",
       "    </tr>\n",
       "    <tr>\n",
       "      <th>3707962</th>\n",
       "      <td>tt</td>\n",
       "      <td>65050</td>\n",
       "      <td>tt_cluster_020</td>\n",
       "      <td>0.006557</td>\n",
       "      <td>1</td>\n",
       "    </tr>\n",
       "    <tr>\n",
       "      <th>3707963</th>\n",
       "      <td>tt</td>\n",
       "      <td>65051</td>\n",
       "      <td>tt_cluster_020</td>\n",
       "      <td>0.026921</td>\n",
       "      <td>1</td>\n",
       "    </tr>\n",
       "  </tbody>\n",
       "</table>\n",
       "<p>3707964 rows × 5 columns</p>\n",
       "</div>"
      ],
      "text/plain": [
       "        model  index        variable     value  enc_flag\n",
       "0        menc      0           NoEmp  0.088689         0\n",
       "1        menc      1           NoEmp  0.045408         0\n",
       "2        menc      2           NoEmp  0.004393         0\n",
       "3        menc      3           NoEmp -0.049012         0\n",
       "4        menc      4           NoEmp  0.049974         0\n",
       "...       ...    ...             ...       ...       ...\n",
       "3707959    tt  65047  tt_cluster_020  0.026871         1\n",
       "3707960    tt  65048  tt_cluster_020 -0.017642         1\n",
       "3707961    tt  65049  tt_cluster_020  0.030469         1\n",
       "3707962    tt  65050  tt_cluster_020  0.006557         1\n",
       "3707963    tt  65051  tt_cluster_020  0.026921         1\n",
       "\n",
       "[3707964 rows x 5 columns]"
      ]
     },
     "execution_count": 39,
     "metadata": {},
     "output_type": "execute_result"
    }
   ],
   "source": [
    "shap_all_long_ho"
   ]
  },
  {
   "cell_type": "markdown",
   "id": "c3804dc3-4c11-43e1-9dc8-faaf83908f67",
   "metadata": {},
   "source": [
    "## Encoding vs. Non-Encoding Features"
   ]
  },
  {
   "cell_type": "code",
   "execution_count": 40,
   "id": "9ec1656d-5021-43c4-b69d-307fbec66cef",
   "metadata": {},
   "outputs": [],
   "source": [
    "def aggregate_by_enc_flag(data):\n",
    "    data_1 = data \\\n",
    "        .groupby(['model', 'enc_flag', 'index']) \\\n",
    "        ['value'] \\\n",
    "        .agg('sum') \\\n",
    "        .reset_index(level=[0,1])\n",
    "    data_1['value_abs'] = np.abs(data_1['value'])\n",
    "    data_2 = data_1 \\\n",
    "        .groupby(['model', 'enc_flag']) \\\n",
    "        [['value_abs', 'value']] \\\n",
    "        .agg('mean') \\\n",
    "        .reset_index()\n",
    "    return data_2"
   ]
  },
  {
   "cell_type": "code",
   "execution_count": 41,
   "id": "2d71524c-d2b4-4f9a-9f94-f15bfe1b8d41",
   "metadata": {},
   "outputs": [
    {
     "data": {
      "text/html": [
       "<div>\n",
       "<style scoped>\n",
       "    .dataframe tbody tr th:only-of-type {\n",
       "        vertical-align: middle;\n",
       "    }\n",
       "\n",
       "    .dataframe tbody tr th {\n",
       "        vertical-align: top;\n",
       "    }\n",
       "\n",
       "    .dataframe thead th {\n",
       "        text-align: right;\n",
       "    }\n",
       "</style>\n",
       "<table border=\"1\" class=\"dataframe\">\n",
       "  <thead>\n",
       "    <tr style=\"text-align: right;\">\n",
       "      <th></th>\n",
       "      <th>model</th>\n",
       "      <th>enc_flag</th>\n",
       "      <th>value_abs</th>\n",
       "      <th>value</th>\n",
       "    </tr>\n",
       "  </thead>\n",
       "  <tbody>\n",
       "    <tr>\n",
       "      <th>0</th>\n",
       "      <td>menc</td>\n",
       "      <td>0</td>\n",
       "      <td>0.554551</td>\n",
       "      <td>-0.143952</td>\n",
       "    </tr>\n",
       "    <tr>\n",
       "      <th>1</th>\n",
       "      <td>menc</td>\n",
       "      <td>1</td>\n",
       "      <td>0.366625</td>\n",
       "      <td>-0.059871</td>\n",
       "    </tr>\n",
       "    <tr>\n",
       "      <th>2</th>\n",
       "      <td>menc_all</td>\n",
       "      <td>0</td>\n",
       "      <td>0.556247</td>\n",
       "      <td>-0.151338</td>\n",
       "    </tr>\n",
       "    <tr>\n",
       "      <th>3</th>\n",
       "      <td>menc_all</td>\n",
       "      <td>1</td>\n",
       "      <td>0.366463</td>\n",
       "      <td>-0.053140</td>\n",
       "    </tr>\n",
       "    <tr>\n",
       "      <th>4</th>\n",
       "      <td>mhier</td>\n",
       "      <td>0</td>\n",
       "      <td>0.564996</td>\n",
       "      <td>-0.148788</td>\n",
       "    </tr>\n",
       "    <tr>\n",
       "      <th>5</th>\n",
       "      <td>mhier</td>\n",
       "      <td>1</td>\n",
       "      <td>0.333975</td>\n",
       "      <td>-0.051604</td>\n",
       "    </tr>\n",
       "    <tr>\n",
       "      <th>6</th>\n",
       "      <td>tc</td>\n",
       "      <td>0</td>\n",
       "      <td>0.553310</td>\n",
       "      <td>-0.150557</td>\n",
       "    </tr>\n",
       "    <tr>\n",
       "      <th>7</th>\n",
       "      <td>tc</td>\n",
       "      <td>1</td>\n",
       "      <td>0.367458</td>\n",
       "      <td>-0.053960</td>\n",
       "    </tr>\n",
       "    <tr>\n",
       "      <th>8</th>\n",
       "      <td>tt</td>\n",
       "      <td>0</td>\n",
       "      <td>0.560817</td>\n",
       "      <td>-0.150923</td>\n",
       "    </tr>\n",
       "    <tr>\n",
       "      <th>9</th>\n",
       "      <td>tt</td>\n",
       "      <td>1</td>\n",
       "      <td>0.347435</td>\n",
       "      <td>-0.053273</td>\n",
       "    </tr>\n",
       "  </tbody>\n",
       "</table>\n",
       "</div>"
      ],
      "text/plain": [
       "      model  enc_flag  value_abs     value\n",
       "0      menc         0   0.554551 -0.143952\n",
       "1      menc         1   0.366625 -0.059871\n",
       "2  menc_all         0   0.556247 -0.151338\n",
       "3  menc_all         1   0.366463 -0.053140\n",
       "4     mhier         0   0.564996 -0.148788\n",
       "5     mhier         1   0.333975 -0.051604\n",
       "6        tc         0   0.553310 -0.150557\n",
       "7        tc         1   0.367458 -0.053960\n",
       "8        tt         0   0.560817 -0.150923\n",
       "9        tt         1   0.347435 -0.053273"
      ]
     },
     "execution_count": 41,
     "metadata": {},
     "output_type": "execute_result"
    }
   ],
   "source": [
    "enc_flag_agg_test = aggregate_by_enc_flag(shap_all_long_test)\n",
    "enc_flag_agg_test"
   ]
  },
  {
   "cell_type": "code",
   "execution_count": 42,
   "id": "c026f3b3-9040-42dd-89ee-8937794281f8",
   "metadata": {},
   "outputs": [
    {
     "data": {
      "text/html": [
       "<div>\n",
       "<style scoped>\n",
       "    .dataframe tbody tr th:only-of-type {\n",
       "        vertical-align: middle;\n",
       "    }\n",
       "\n",
       "    .dataframe tbody tr th {\n",
       "        vertical-align: top;\n",
       "    }\n",
       "\n",
       "    .dataframe thead th {\n",
       "        text-align: right;\n",
       "    }\n",
       "</style>\n",
       "<table border=\"1\" class=\"dataframe\">\n",
       "  <thead>\n",
       "    <tr style=\"text-align: right;\">\n",
       "      <th></th>\n",
       "      <th>model</th>\n",
       "      <th>enc_flag</th>\n",
       "      <th>value_abs</th>\n",
       "      <th>value</th>\n",
       "    </tr>\n",
       "  </thead>\n",
       "  <tbody>\n",
       "    <tr>\n",
       "      <th>0</th>\n",
       "      <td>menc</td>\n",
       "      <td>0</td>\n",
       "      <td>0.648219</td>\n",
       "      <td>-0.259119</td>\n",
       "    </tr>\n",
       "    <tr>\n",
       "      <th>1</th>\n",
       "      <td>menc</td>\n",
       "      <td>1</td>\n",
       "      <td>0.093835</td>\n",
       "      <td>0.093832</td>\n",
       "    </tr>\n",
       "    <tr>\n",
       "      <th>2</th>\n",
       "      <td>menc_all</td>\n",
       "      <td>0</td>\n",
       "      <td>0.656834</td>\n",
       "      <td>-0.277400</td>\n",
       "    </tr>\n",
       "    <tr>\n",
       "      <th>3</th>\n",
       "      <td>menc_all</td>\n",
       "      <td>1</td>\n",
       "      <td>0.104415</td>\n",
       "      <td>0.099834</td>\n",
       "    </tr>\n",
       "    <tr>\n",
       "      <th>4</th>\n",
       "      <td>mhier</td>\n",
       "      <td>0</td>\n",
       "      <td>0.626961</td>\n",
       "      <td>-0.216662</td>\n",
       "    </tr>\n",
       "    <tr>\n",
       "      <th>5</th>\n",
       "      <td>mhier</td>\n",
       "      <td>1</td>\n",
       "      <td>0.333327</td>\n",
       "      <td>-0.175923</td>\n",
       "    </tr>\n",
       "    <tr>\n",
       "      <th>6</th>\n",
       "      <td>tc</td>\n",
       "      <td>0</td>\n",
       "      <td>0.678731</td>\n",
       "      <td>-0.288779</td>\n",
       "    </tr>\n",
       "    <tr>\n",
       "      <th>7</th>\n",
       "      <td>tc</td>\n",
       "      <td>1</td>\n",
       "      <td>0.091510</td>\n",
       "      <td>0.084128</td>\n",
       "    </tr>\n",
       "    <tr>\n",
       "      <th>8</th>\n",
       "      <td>tt</td>\n",
       "      <td>0</td>\n",
       "      <td>0.692416</td>\n",
       "      <td>-0.218981</td>\n",
       "    </tr>\n",
       "    <tr>\n",
       "      <th>9</th>\n",
       "      <td>tt</td>\n",
       "      <td>1</td>\n",
       "      <td>0.194788</td>\n",
       "      <td>-0.188424</td>\n",
       "    </tr>\n",
       "  </tbody>\n",
       "</table>\n",
       "</div>"
      ],
      "text/plain": [
       "      model  enc_flag  value_abs     value\n",
       "0      menc         0   0.648219 -0.259119\n",
       "1      menc         1   0.093835  0.093832\n",
       "2  menc_all         0   0.656834 -0.277400\n",
       "3  menc_all         1   0.104415  0.099834\n",
       "4     mhier         0   0.626961 -0.216662\n",
       "5     mhier         1   0.333327 -0.175923\n",
       "6        tc         0   0.678731 -0.288779\n",
       "7        tc         1   0.091510  0.084128\n",
       "8        tt         0   0.692416 -0.218981\n",
       "9        tt         1   0.194788 -0.188424"
      ]
     },
     "execution_count": 42,
     "metadata": {},
     "output_type": "execute_result"
    }
   ],
   "source": [
    "enc_flag_agg_ho = aggregate_by_enc_flag(shap_all_long_ho)\n",
    "enc_flag_agg_ho"
   ]
  },
  {
   "cell_type": "markdown",
   "id": "85b5d7f3-ab2f-4609-aae1-f6a4277d4b47",
   "metadata": {},
   "source": [
    "##### Plot"
   ]
  },
  {
   "cell_type": "code",
   "execution_count": 43,
   "id": "7b0c5432-35f3-4d31-ad35-3428ec5fa39a",
   "metadata": {},
   "outputs": [],
   "source": [
    "# Function to do bar plot\n",
    "def shap_enc_flag_bar(data, values = 'value_abs',\n",
    "                      title = None, xlabel = None, ax = None):\n",
    "    \n",
    "    # Label models\n",
    "    data['model_label']  = setup.label_models(data)\n",
    "\n",
    "    if ax is None:\n",
    "        fig, ax = plt.subplots(figsize = (4, 3))\n",
    "    data_pivot = data.pivot(index='model_label', columns='enc_flag', values=values) \\\n",
    "        .rename(columns={0:'other features', 1:'NAICS encoding feature(s)'})\n",
    "    data_pivot .plot(kind='barh', ax=ax, width=0.7)\n",
    "    ax.invert_yaxis()\n",
    "    ax.set_ylabel(None)\n",
    "    ax.set_title(title)\n",
    "    ax.set_xlabel(xlabel)\n",
    "    #ax.legend(bbox_to_anchor=(0.8, -0.05),  bbox_transform=fig.transFigure, ncol=2)"
   ]
  },
  {
   "cell_type": "code",
   "execution_count": 44,
   "id": "a83396da-187e-4b7e-9f59-34b8b1fc8531",
   "metadata": {},
   "outputs": [
    {
     "data": {
      "text/plain": [
       "0    Target Encoding (NAICS only)\n",
       "1    Target Encoding (NAICS only)\n",
       "2           Target Encoding (all)\n",
       "3           Target Encoding (all)\n",
       "4           Hierarchical Blending\n",
       "5           Hierarchical Blending\n",
       "6           Target+Count Encoding\n",
       "7           Target+Count Encoding\n",
       "8          Target-Thresh Encoding\n",
       "9          Target-Thresh Encoding\n",
       "Name: model, dtype: category\n",
       "Categories (5, object): ['Target Encoding (NAICS only)' < 'Hierarchical Blending' < 'Target Encoding (all)' < 'Target+Count Encoding' < 'Target-Thresh Encoding']"
      ]
     },
     "execution_count": 44,
     "metadata": {},
     "output_type": "execute_result"
    }
   ],
   "source": [
    "setup.label_models(enc_flag_agg_test)"
   ]
  },
  {
   "cell_type": "code",
   "execution_count": 45,
   "id": "c76e8e5d-e4d4-480e-adfc-40161c5b9ace",
   "metadata": {},
   "outputs": [
    {
     "data": {
      "image/png": "[encoded data removed]",
      "text/plain": [
       "<Figure size 600x300 with 2 Axes>"
      ]
     },
     "metadata": {},
     "output_type": "display_data"
    }
   ],
   "source": [
    "fig, ax = plt.subplots(1, 2, sharex = True, sharey = True, figsize=(6, 3))\n",
    "shap_enc_flag_bar(enc_flag_agg_test, ax=ax[0], title='Test Data',\n",
    "                     xlabel='mean abs SHAP value')\n",
    "shap_enc_flag_bar(enc_flag_agg_ho, ax=ax[1], title='Holdout NAICS Data',\n",
    "                     xlabel='mean abs SHAP value')\n",
    "ax[0].get_legend().remove()\n",
    "ax[1].legend(bbox_to_anchor=(0.8, -0.05),  bbox_transform=fig.transFigure, ncol=2)\n",
    "fig.savefig(Path(setup.temp_path).joinpath('A41_PLOT_enc_flag_mean_abs.png'),\n",
    "        bbox_inches='tight')"
   ]
  },
  {
   "cell_type": "code",
   "execution_count": 46,
   "id": "684c3692-e1ea-40c2-b856-1f6f6f71ab36",
   "metadata": {},
   "outputs": [
    {
     "data": {
      "image/png": "[encoded data removed]",
      "text/plain": [
       "<Figure size 600x300 with 2 Axes>"
      ]
     },
     "metadata": {},
     "output_type": "display_data"
    }
   ],
   "source": [
    "fig, ax = plt.subplots(1, 2, sharex = True, sharey = True, figsize=(6, 3))\n",
    "shap_enc_flag_bar(enc_flag_agg_test, 'value', ax=ax[0], title='Test Data',\n",
    "                     xlabel='mean abs SHAP value')\n",
    "shap_enc_flag_bar(enc_flag_agg_ho, 'value', ax=ax[1], title='Holdout NAICS Data',\n",
    "                     xlabel='mean SHAP value')\n",
    "ax[0].get_legend().remove()\n",
    "ax[1].legend(bbox_to_anchor=(0.8, -0.05),  bbox_transform=fig.transFigure, ncol=2)\n",
    "fig.savefig(Path(setup.temp_path).joinpath('A41_PLOT_enc_flag_mean_raw.png'),\n",
    "        bbox_inches='tight')"
   ]
  },
  {
   "cell_type": "code",
   "execution_count": 47,
   "id": "84a2ebb5-b932-4f7b-a834-ed1a7e3d7dba",
   "metadata": {},
   "outputs": [],
   "source": [
    "enc_flag_agg_test.to_csv(Path(setup.temp_path).joinpath('A41_REPORT_importance_enc_flag_test.csv'))\n",
    "enc_flag_agg_ho.to_csv(Path(setup.temp_path).joinpath('A41_REPORT_importance_enc_flag_ho.csv'))"
   ]
  },
  {
   "cell_type": "markdown",
   "id": "42902a13-403e-4143-8339-1d40831df93b",
   "metadata": {},
   "source": [
    "## Detail Importances"
   ]
  },
  {
   "cell_type": "markdown",
   "id": "8764aed4-a003-4255-9ef2-6d4ba3ffc319",
   "metadata": {},
   "source": [
    "##### Get mean abs shap, grouping non-encoding features into \"other\"\n",
    "We only need this for the models with more than one encoding feature"
   ]
  },
  {
   "cell_type": "code",
   "execution_count": 48,
   "id": "4fb5354f-f5fe-4de6-b578-e2237c4caffb",
   "metadata": {},
   "outputs": [],
   "source": [
    "def get_importances(long_df):\n",
    "    agg_1 = long_df[long_df['enc_flag'] == 0] \\\n",
    "        .groupby(['model', 'index']) \\\n",
    "        .agg('sum') \\\n",
    "        .reset_index(level=0)\n",
    "    agg_1['variable'] = 'other'\n",
    "    agg_2 = pd.concat([agg_1,long_df[long_df['enc_flag'] == 1]])\n",
    "    agg_2['value_abs'] = np.abs(agg_2['value'])\n",
    "    \n",
    "    imp_df = agg_2.groupby(['model', 'variable']) \\\n",
    "        ['value_abs'] \\\n",
    "        .agg('mean') \\\n",
    "        .reset_index()\n",
    "    imp_df['model_label']  = setup.label_models(imp_df)\n",
    "    return imp_df"
   ]
  },
  {
   "cell_type": "code",
   "execution_count": 49,
   "id": "13c5a103-8661-468e-ae86-36837cd989db",
   "metadata": {},
   "outputs": [],
   "source": [
    "import_all_disp= ['menc_all', 'tt', 'tc']"
   ]
  },
  {
   "cell_type": "code",
   "execution_count": 50,
   "id": "748c9d89-a13f-4cc4-b6e7-1805280c2e08",
   "metadata": {},
   "outputs": [
    {
     "data": {
      "text/html": [
       "<div>\n",
       "<style scoped>\n",
       "    .dataframe tbody tr th:only-of-type {\n",
       "        vertical-align: middle;\n",
       "    }\n",
       "\n",
       "    .dataframe tbody tr th {\n",
       "        vertical-align: top;\n",
       "    }\n",
       "\n",
       "    .dataframe thead th {\n",
       "        text-align: right;\n",
       "    }\n",
       "</style>\n",
       "<table border=\"1\" class=\"dataframe\">\n",
       "  <thead>\n",
       "    <tr style=\"text-align: right;\">\n",
       "      <th></th>\n",
       "      <th>model</th>\n",
       "      <th>variable</th>\n",
       "      <th>value_abs</th>\n",
       "      <th>model_label</th>\n",
       "    </tr>\n",
       "  </thead>\n",
       "  <tbody>\n",
       "    <tr>\n",
       "      <th>2</th>\n",
       "      <td>menc_all</td>\n",
       "      <td>menc_NAICS</td>\n",
       "      <td>0.354996</td>\n",
       "      <td>Target Encoding (all)</td>\n",
       "    </tr>\n",
       "    <tr>\n",
       "      <th>3</th>\n",
       "      <td>menc_all</td>\n",
       "      <td>menc_cluster_020</td>\n",
       "      <td>0.028416</td>\n",
       "      <td>Target Encoding (all)</td>\n",
       "    </tr>\n",
       "    <tr>\n",
       "      <th>4</th>\n",
       "      <td>menc_all</td>\n",
       "      <td>menc_cluster_106</td>\n",
       "      <td>0.020542</td>\n",
       "      <td>Target Encoding (all)</td>\n",
       "    </tr>\n",
       "    <tr>\n",
       "      <th>5</th>\n",
       "      <td>menc_all</td>\n",
       "      <td>menc_cluster_354</td>\n",
       "      <td>0.015059</td>\n",
       "      <td>Target Encoding (all)</td>\n",
       "    </tr>\n",
       "    <tr>\n",
       "      <th>6</th>\n",
       "      <td>menc_all</td>\n",
       "      <td>menc_cluster_834</td>\n",
       "      <td>0.024987</td>\n",
       "      <td>Target Encoding (all)</td>\n",
       "    </tr>\n",
       "    <tr>\n",
       "      <th>7</th>\n",
       "      <td>menc_all</td>\n",
       "      <td>other</td>\n",
       "      <td>0.556247</td>\n",
       "      <td>Target Encoding (all)</td>\n",
       "    </tr>\n",
       "    <tr>\n",
       "      <th>10</th>\n",
       "      <td>tc</td>\n",
       "      <td>NAICS_count</td>\n",
       "      <td>0.009797</td>\n",
       "      <td>Target+Count Encoding</td>\n",
       "    </tr>\n",
       "    <tr>\n",
       "      <th>11</th>\n",
       "      <td>tc</td>\n",
       "      <td>NAICS_response</td>\n",
       "      <td>0.362245</td>\n",
       "      <td>Target+Count Encoding</td>\n",
       "    </tr>\n",
       "    <tr>\n",
       "      <th>12</th>\n",
       "      <td>tc</td>\n",
       "      <td>cluster_020_count</td>\n",
       "      <td>0.000000</td>\n",
       "      <td>Target+Count Encoding</td>\n",
       "    </tr>\n",
       "    <tr>\n",
       "      <th>13</th>\n",
       "      <td>tc</td>\n",
       "      <td>cluster_020_response</td>\n",
       "      <td>0.028686</td>\n",
       "      <td>Target+Count Encoding</td>\n",
       "    </tr>\n",
       "    <tr>\n",
       "      <th>14</th>\n",
       "      <td>tc</td>\n",
       "      <td>cluster_106_count</td>\n",
       "      <td>0.000000</td>\n",
       "      <td>Target+Count Encoding</td>\n",
       "    </tr>\n",
       "    <tr>\n",
       "      <th>15</th>\n",
       "      <td>tc</td>\n",
       "      <td>cluster_106_response</td>\n",
       "      <td>0.022394</td>\n",
       "      <td>Target+Count Encoding</td>\n",
       "    </tr>\n",
       "    <tr>\n",
       "      <th>16</th>\n",
       "      <td>tc</td>\n",
       "      <td>cluster_354_count</td>\n",
       "      <td>0.000303</td>\n",
       "      <td>Target+Count Encoding</td>\n",
       "    </tr>\n",
       "    <tr>\n",
       "      <th>17</th>\n",
       "      <td>tc</td>\n",
       "      <td>cluster_354_response</td>\n",
       "      <td>0.011537</td>\n",
       "      <td>Target+Count Encoding</td>\n",
       "    </tr>\n",
       "    <tr>\n",
       "      <th>18</th>\n",
       "      <td>tc</td>\n",
       "      <td>cluster_834_count</td>\n",
       "      <td>0.000493</td>\n",
       "      <td>Target+Count Encoding</td>\n",
       "    </tr>\n",
       "    <tr>\n",
       "      <th>19</th>\n",
       "      <td>tc</td>\n",
       "      <td>cluster_834_response</td>\n",
       "      <td>0.021786</td>\n",
       "      <td>Target+Count Encoding</td>\n",
       "    </tr>\n",
       "    <tr>\n",
       "      <th>20</th>\n",
       "      <td>tc</td>\n",
       "      <td>other</td>\n",
       "      <td>0.553310</td>\n",
       "      <td>Target+Count Encoding</td>\n",
       "    </tr>\n",
       "    <tr>\n",
       "      <th>21</th>\n",
       "      <td>tt</td>\n",
       "      <td>other</td>\n",
       "      <td>0.560817</td>\n",
       "      <td>Target-Thresh Encoding</td>\n",
       "    </tr>\n",
       "    <tr>\n",
       "      <th>22</th>\n",
       "      <td>tt</td>\n",
       "      <td>tt_NAICS</td>\n",
       "      <td>0.323434</td>\n",
       "      <td>Target-Thresh Encoding</td>\n",
       "    </tr>\n",
       "    <tr>\n",
       "      <th>23</th>\n",
       "      <td>tt</td>\n",
       "      <td>tt_cluster_020</td>\n",
       "      <td>0.028781</td>\n",
       "      <td>Target-Thresh Encoding</td>\n",
       "    </tr>\n",
       "    <tr>\n",
       "      <th>24</th>\n",
       "      <td>tt</td>\n",
       "      <td>tt_cluster_106</td>\n",
       "      <td>0.020868</td>\n",
       "      <td>Target-Thresh Encoding</td>\n",
       "    </tr>\n",
       "    <tr>\n",
       "      <th>25</th>\n",
       "      <td>tt</td>\n",
       "      <td>tt_cluster_354</td>\n",
       "      <td>0.019690</td>\n",
       "      <td>Target-Thresh Encoding</td>\n",
       "    </tr>\n",
       "    <tr>\n",
       "      <th>26</th>\n",
       "      <td>tt</td>\n",
       "      <td>tt_cluster_834</td>\n",
       "      <td>0.025605</td>\n",
       "      <td>Target-Thresh Encoding</td>\n",
       "    </tr>\n",
       "  </tbody>\n",
       "</table>\n",
       "</div>"
      ],
      "text/plain": [
       "       model              variable  value_abs             model_label\n",
       "2   menc_all            menc_NAICS   0.354996   Target Encoding (all)\n",
       "3   menc_all      menc_cluster_020   0.028416   Target Encoding (all)\n",
       "4   menc_all      menc_cluster_106   0.020542   Target Encoding (all)\n",
       "5   menc_all      menc_cluster_354   0.015059   Target Encoding (all)\n",
       "6   menc_all      menc_cluster_834   0.024987   Target Encoding (all)\n",
       "7   menc_all                 other   0.556247   Target Encoding (all)\n",
       "10        tc           NAICS_count   0.009797   Target+Count Encoding\n",
       "11        tc        NAICS_response   0.362245   Target+Count Encoding\n",
       "12        tc     cluster_020_count   0.000000   Target+Count Encoding\n",
       "13        tc  cluster_020_response   0.028686   Target+Count Encoding\n",
       "14        tc     cluster_106_count   0.000000   Target+Count Encoding\n",
       "15        tc  cluster_106_response   0.022394   Target+Count Encoding\n",
       "16        tc     cluster_354_count   0.000303   Target+Count Encoding\n",
       "17        tc  cluster_354_response   0.011537   Target+Count Encoding\n",
       "18        tc     cluster_834_count   0.000493   Target+Count Encoding\n",
       "19        tc  cluster_834_response   0.021786   Target+Count Encoding\n",
       "20        tc                 other   0.553310   Target+Count Encoding\n",
       "21        tt                 other   0.560817  Target-Thresh Encoding\n",
       "22        tt              tt_NAICS   0.323434  Target-Thresh Encoding\n",
       "23        tt        tt_cluster_020   0.028781  Target-Thresh Encoding\n",
       "24        tt        tt_cluster_106   0.020868  Target-Thresh Encoding\n",
       "25        tt        tt_cluster_354   0.019690  Target-Thresh Encoding\n",
       "26        tt        tt_cluster_834   0.025605  Target-Thresh Encoding"
      ]
     },
     "execution_count": 50,
     "metadata": {},
     "output_type": "execute_result"
    }
   ],
   "source": [
    "import_all_test = get_importances(shap_all_long_test)\n",
    "import_all_test.to_csv(Path(setup.temp_path).joinpath('A41_REPORT_importance_detail_test.csv'))\n",
    "import_all_test[import_all_test['model'].isin(import_all_disp)]"
   ]
  },
  {
   "cell_type": "code",
   "execution_count": 51,
   "id": "9a972b8b-e7f8-4429-9d88-200c4e19c50b",
   "metadata": {},
   "outputs": [
    {
     "data": {
      "text/html": [
       "<div>\n",
       "<style scoped>\n",
       "    .dataframe tbody tr th:only-of-type {\n",
       "        vertical-align: middle;\n",
       "    }\n",
       "\n",
       "    .dataframe tbody tr th {\n",
       "        vertical-align: top;\n",
       "    }\n",
       "\n",
       "    .dataframe thead th {\n",
       "        text-align: right;\n",
       "    }\n",
       "</style>\n",
       "<table border=\"1\" class=\"dataframe\">\n",
       "  <thead>\n",
       "    <tr style=\"text-align: right;\">\n",
       "      <th></th>\n",
       "      <th>model</th>\n",
       "      <th>variable</th>\n",
       "      <th>value_abs</th>\n",
       "      <th>model_label</th>\n",
       "    </tr>\n",
       "  </thead>\n",
       "  <tbody>\n",
       "    <tr>\n",
       "      <th>2</th>\n",
       "      <td>menc_all</td>\n",
       "      <td>menc_NAICS</td>\n",
       "      <td>0.075922</td>\n",
       "      <td>Target Encoding (all)</td>\n",
       "    </tr>\n",
       "    <tr>\n",
       "      <th>3</th>\n",
       "      <td>menc_all</td>\n",
       "      <td>menc_cluster_020</td>\n",
       "      <td>0.035164</td>\n",
       "      <td>Target Encoding (all)</td>\n",
       "    </tr>\n",
       "    <tr>\n",
       "      <th>4</th>\n",
       "      <td>menc_all</td>\n",
       "      <td>menc_cluster_106</td>\n",
       "      <td>0.028723</td>\n",
       "      <td>Target Encoding (all)</td>\n",
       "    </tr>\n",
       "    <tr>\n",
       "      <th>5</th>\n",
       "      <td>menc_all</td>\n",
       "      <td>menc_cluster_354</td>\n",
       "      <td>0.020462</td>\n",
       "      <td>Target Encoding (all)</td>\n",
       "    </tr>\n",
       "    <tr>\n",
       "      <th>6</th>\n",
       "      <td>menc_all</td>\n",
       "      <td>menc_cluster_834</td>\n",
       "      <td>0.016139</td>\n",
       "      <td>Target Encoding (all)</td>\n",
       "    </tr>\n",
       "    <tr>\n",
       "      <th>7</th>\n",
       "      <td>menc_all</td>\n",
       "      <td>other</td>\n",
       "      <td>0.656834</td>\n",
       "      <td>Target Encoding (all)</td>\n",
       "    </tr>\n",
       "    <tr>\n",
       "      <th>10</th>\n",
       "      <td>tc</td>\n",
       "      <td>NAICS_count</td>\n",
       "      <td>0.041236</td>\n",
       "      <td>Target+Count Encoding</td>\n",
       "    </tr>\n",
       "    <tr>\n",
       "      <th>11</th>\n",
       "      <td>tc</td>\n",
       "      <td>NAICS_response</td>\n",
       "      <td>0.097874</td>\n",
       "      <td>Target+Count Encoding</td>\n",
       "    </tr>\n",
       "    <tr>\n",
       "      <th>12</th>\n",
       "      <td>tc</td>\n",
       "      <td>cluster_020_count</td>\n",
       "      <td>0.000000</td>\n",
       "      <td>Target+Count Encoding</td>\n",
       "    </tr>\n",
       "    <tr>\n",
       "      <th>13</th>\n",
       "      <td>tc</td>\n",
       "      <td>cluster_020_response</td>\n",
       "      <td>0.030319</td>\n",
       "      <td>Target+Count Encoding</td>\n",
       "    </tr>\n",
       "    <tr>\n",
       "      <th>14</th>\n",
       "      <td>tc</td>\n",
       "      <td>cluster_106_count</td>\n",
       "      <td>0.000000</td>\n",
       "      <td>Target+Count Encoding</td>\n",
       "    </tr>\n",
       "    <tr>\n",
       "      <th>15</th>\n",
       "      <td>tc</td>\n",
       "      <td>cluster_106_response</td>\n",
       "      <td>0.032223</td>\n",
       "      <td>Target+Count Encoding</td>\n",
       "    </tr>\n",
       "    <tr>\n",
       "      <th>16</th>\n",
       "      <td>tc</td>\n",
       "      <td>cluster_354_count</td>\n",
       "      <td>0.003547</td>\n",
       "      <td>Target+Count Encoding</td>\n",
       "    </tr>\n",
       "    <tr>\n",
       "      <th>17</th>\n",
       "      <td>tc</td>\n",
       "      <td>cluster_354_response</td>\n",
       "      <td>0.013589</td>\n",
       "      <td>Target+Count Encoding</td>\n",
       "    </tr>\n",
       "    <tr>\n",
       "      <th>18</th>\n",
       "      <td>tc</td>\n",
       "      <td>cluster_834_count</td>\n",
       "      <td>0.004286</td>\n",
       "      <td>Target+Count Encoding</td>\n",
       "    </tr>\n",
       "    <tr>\n",
       "      <th>19</th>\n",
       "      <td>tc</td>\n",
       "      <td>cluster_834_response</td>\n",
       "      <td>0.013882</td>\n",
       "      <td>Target+Count Encoding</td>\n",
       "    </tr>\n",
       "    <tr>\n",
       "      <th>20</th>\n",
       "      <td>tc</td>\n",
       "      <td>other</td>\n",
       "      <td>0.678731</td>\n",
       "      <td>Target+Count Encoding</td>\n",
       "    </tr>\n",
       "    <tr>\n",
       "      <th>21</th>\n",
       "      <td>tt</td>\n",
       "      <td>other</td>\n",
       "      <td>0.692416</td>\n",
       "      <td>Target-Thresh Encoding</td>\n",
       "    </tr>\n",
       "    <tr>\n",
       "      <th>22</th>\n",
       "      <td>tt</td>\n",
       "      <td>tt_NAICS</td>\n",
       "      <td>0.172781</td>\n",
       "      <td>Target-Thresh Encoding</td>\n",
       "    </tr>\n",
       "    <tr>\n",
       "      <th>23</th>\n",
       "      <td>tt</td>\n",
       "      <td>tt_cluster_020</td>\n",
       "      <td>0.025441</td>\n",
       "      <td>Target-Thresh Encoding</td>\n",
       "    </tr>\n",
       "    <tr>\n",
       "      <th>24</th>\n",
       "      <td>tt</td>\n",
       "      <td>tt_cluster_106</td>\n",
       "      <td>0.014165</td>\n",
       "      <td>Target-Thresh Encoding</td>\n",
       "    </tr>\n",
       "    <tr>\n",
       "      <th>25</th>\n",
       "      <td>tt</td>\n",
       "      <td>tt_cluster_354</td>\n",
       "      <td>0.054320</td>\n",
       "      <td>Target-Thresh Encoding</td>\n",
       "    </tr>\n",
       "    <tr>\n",
       "      <th>26</th>\n",
       "      <td>tt</td>\n",
       "      <td>tt_cluster_834</td>\n",
       "      <td>0.032741</td>\n",
       "      <td>Target-Thresh Encoding</td>\n",
       "    </tr>\n",
       "  </tbody>\n",
       "</table>\n",
       "</div>"
      ],
      "text/plain": [
       "       model              variable  value_abs             model_label\n",
       "2   menc_all            menc_NAICS   0.075922   Target Encoding (all)\n",
       "3   menc_all      menc_cluster_020   0.035164   Target Encoding (all)\n",
       "4   menc_all      menc_cluster_106   0.028723   Target Encoding (all)\n",
       "5   menc_all      menc_cluster_354   0.020462   Target Encoding (all)\n",
       "6   menc_all      menc_cluster_834   0.016139   Target Encoding (all)\n",
       "7   menc_all                 other   0.656834   Target Encoding (all)\n",
       "10        tc           NAICS_count   0.041236   Target+Count Encoding\n",
       "11        tc        NAICS_response   0.097874   Target+Count Encoding\n",
       "12        tc     cluster_020_count   0.000000   Target+Count Encoding\n",
       "13        tc  cluster_020_response   0.030319   Target+Count Encoding\n",
       "14        tc     cluster_106_count   0.000000   Target+Count Encoding\n",
       "15        tc  cluster_106_response   0.032223   Target+Count Encoding\n",
       "16        tc     cluster_354_count   0.003547   Target+Count Encoding\n",
       "17        tc  cluster_354_response   0.013589   Target+Count Encoding\n",
       "18        tc     cluster_834_count   0.004286   Target+Count Encoding\n",
       "19        tc  cluster_834_response   0.013882   Target+Count Encoding\n",
       "20        tc                 other   0.678731   Target+Count Encoding\n",
       "21        tt                 other   0.692416  Target-Thresh Encoding\n",
       "22        tt              tt_NAICS   0.172781  Target-Thresh Encoding\n",
       "23        tt        tt_cluster_020   0.025441  Target-Thresh Encoding\n",
       "24        tt        tt_cluster_106   0.014165  Target-Thresh Encoding\n",
       "25        tt        tt_cluster_354   0.054320  Target-Thresh Encoding\n",
       "26        tt        tt_cluster_834   0.032741  Target-Thresh Encoding"
      ]
     },
     "execution_count": 51,
     "metadata": {},
     "output_type": "execute_result"
    }
   ],
   "source": [
    "import_all_ho = get_importances(shap_all_long_ho)\n",
    "import_all_ho.to_csv(Path(setup.temp_path).joinpath('A41_REPORT_importance_detail_ho.csv'))\n",
    "import_all_ho[import_all_ho['model'].isin(import_all_disp)]"
   ]
  },
  {
   "cell_type": "markdown",
   "id": "0f7f4e00-f79e-4c48-ada1-96fd1ca886eb",
   "metadata": {},
   "source": [
    "##### Plot"
   ]
  },
  {
   "cell_type": "code",
   "execution_count": 52,
   "id": "023620d0-be20-47f4-9934-016fcce34f69",
   "metadata": {},
   "outputs": [],
   "source": [
    "# Some data processing for bar plots\n",
    "def shap_import_bar_preprocess(data, values = 'value_abs', n_bars=7):\n",
    "    data= data.sort_values(values, ascending=False).head(n_bars).copy() \\\n",
    "        [['model_label', 'model', 'variable', values]]\n",
    "    data['model_label'] = data['model_label'].astype('str')\n",
    "    \n",
    "    # Rename features\n",
    "    if data['model'].iloc[0] in ['tt', 'menc_all']:\n",
    "        data['variable'] = data['variable'].where(~data['variable'].str.contains('NAICS'),\n",
    "                                              'NAICS' + data['variable'].str.split('NAICS').str[-1])\n",
    "    elif data['model'].iloc[0] == 'tc':\n",
    "                data['variable'] = data['variable'].where(~data['variable'].str.endswith('_response'),\n",
    "                                              data['variable'].str.replace('_response', ''))\n",
    "    return data"
   ]
  },
  {
   "cell_type": "code",
   "execution_count": 53,
   "id": "a356170e-dcc1-4666-9ad3-ce586d0be98e",
   "metadata": {},
   "outputs": [],
   "source": [
    "# Function to do bar plot for one model\n",
    "def shap_import_bar(data, values = 'value_abs',\n",
    "                      xlabel = None, ax = None,\n",
    "                   n_bars=7):\n",
    "\n",
    "    # Feature selection, renaming\n",
    "    data = shap_import_bar_preprocess(data, values, n_bars)\n",
    "    \n",
    "    if ax is None:\n",
    "        fig, ax = plt.subplots(figsize = (4, 3))\n",
    "        \n",
    "    data.plot(x='variable', y=values, ax=ax, kind='barh', legend=None)\n",
    "    ax.invert_yaxis()\n",
    "    ax.set_ylabel(None)\n",
    "    ax.set_title(data['model_label'].iloc[0])\n",
    "    ax.set_xlabel(xlabel)\n",
    "    #ax.legend(bbox_to_anchor=(0.8, -0.05),  bbox_transform=fig.transFigure, ncol=2)"
   ]
  },
  {
   "cell_type": "code",
   "execution_count": 54,
   "id": "85fb1e6a-28e1-4c0f-9a7a-2098f8e053a6",
   "metadata": {},
   "outputs": [
    {
     "data": {
      "image/png": "[encoded data removed]",
      "text/plain": [
       "<Figure size 600x600 with 3 Axes>"
      ]
     },
     "metadata": {},
     "output_type": "display_data"
    }
   ],
   "source": [
    "fig, ax = plt.subplots(3, 1, sharex = True, sharey = False, figsize=(6, 6),\n",
    "                      layout='constrained')\n",
    "shap_import_bar(import_all_ho[import_all_ho['model'] == 'menc_all'], ax=ax[0])\n",
    "shap_import_bar(import_all_ho[import_all_ho['model'] == 'tc'], ax=ax[1])\n",
    "shap_import_bar(import_all_ho[import_all_ho['model'] == 'tt'], ax=ax[2])\n",
    "fig.suptitle('Holdout NAICS Data')\n",
    "fig.supxlabel('mean abs SHAP value')\n",
    "fig.savefig(Path(setup.temp_path).joinpath('A41_PLOT_importancs_holdout.png'))"
   ]
  },
  {
   "cell_type": "code",
   "execution_count": 55,
   "id": "64e710b9-7a5c-44c8-b838-94449949edd5",
   "metadata": {},
   "outputs": [
    {
     "data": {
      "image/png": "[encoded data removed]",
      "text/plain": [
       "<Figure size 600x600 with 3 Axes>"
      ]
     },
     "metadata": {},
     "output_type": "display_data"
    }
   ],
   "source": [
    "fig, ax = plt.subplots(3, 1, sharex = True, sharey = False, figsize=(6, 6),\n",
    "                      layout='constrained')\n",
    "shap_import_bar(import_all_test[import_all_test['model'] == 'menc_all'], ax=ax[0])\n",
    "shap_import_bar(import_all_test[import_all_test['model'] == 'tc'], ax=ax[1])\n",
    "shap_import_bar(import_all_test[import_all_test['model'] == 'tt'], ax=ax[2])\n",
    "fig.suptitle('Test Data')\n",
    "fig.supxlabel('mean abs SHAP value')\n",
    "fig.savefig(Path(setup.temp_path).joinpath('A41_PLOT_importancs_test.png'))"
   ]
  },
  {
   "cell_type": "markdown",
   "id": "da50a27c-bca2-442a-9bef-8e43cf6cce2d",
   "metadata": {},
   "source": [
    "#### Single, bi-color plot"
   ]
  },
  {
   "cell_type": "code",
   "execution_count": 56,
   "id": "e63eeed2-ccb4-4081-9770-10697ab38b7c",
   "metadata": {},
   "outputs": [],
   "source": [
    "# Function to do bar plot for one model\n",
    "def shap_import_bar_2color(data_test, data_holdout, values = 'value_abs',\n",
    "                      xlabel = None, ax = None,\n",
    "                   n_bars=7):\n",
    "\n",
    "    data_test = shap_import_bar_preprocess(data_test, values, n_bars)\n",
    "    data_holdout = shap_import_bar_preprocess(data_holdout, values, n_bars)\n",
    "    \n",
    "    data = pd.concat([data_test, data_holdout], keys=['test', 'holdout']) \\\n",
    "        .reset_index(level=0)\n",
    "    \n",
    "    data_pivot = data.pivot(index=['variable'], columns=['level_0'],\n",
    "                                      values = values) \\\n",
    "        .sort_values('test', ascending=False)\n",
    "    \n",
    "    data_pivot = data_pivot[['test', 'holdout']]\n",
    "    \n",
    "    if ax is None:\n",
    "        fig, ax = plt.subplots(figsize = (4, 3))\n",
    "        \n",
    "    data_pivot.plot(kind='barh', ax=ax, width=0.9)\n",
    "    ax.invert_yaxis()\n",
    "    ax.set_ylabel(None)\n",
    "    ax.set_title(data['model_label'].iloc[0])\n",
    "    ax.set_xlabel(xlabel)\n",
    "    ax.legend(title=None)"
   ]
  },
  {
   "cell_type": "code",
   "execution_count": 57,
   "id": "e9418c31-c90d-41a1-90ea-775babf783b3",
   "metadata": {},
   "outputs": [
    {
     "data": {
      "text/plain": [
       "Text(0.5, 0.01, 'mean abs SHAP value')"
      ]
     },
     "execution_count": 57,
     "metadata": {},
     "output_type": "execute_result"
    },
    {
     "data": {
      "image/png": "[encoded data removed]",
      "text/plain": [
       "<Figure size 600x600 with 3 Axes>"
      ]
     },
     "metadata": {},
     "output_type": "display_data"
    }
   ],
   "source": [
    "models = ['menc_all', 'tc', 'tt']\n",
    "fig, ax = plt.subplots(3, 1, sharex = True, sharey = False, figsize=(6, 6),\n",
    "                      layout='constrained')\n",
    "for i, model in enumerate(models):\n",
    "    shap_import_bar_2color(import_all_test[import_all_test['model'] == model],\n",
    "                       import_all_ho[import_all_ho['model'] == model],\n",
    "                          ax=ax[i])\n",
    "fig.suptitle('SHAP Importances: DGI Hierarchy')\n",
    "fig.supxlabel('mean abs SHAP value')"
   ]
  },
  {
   "cell_type": "markdown",
   "id": "7c9679df-a2ca-41d2-9fa6-c8d62aaaec03",
   "metadata": {
    "tags": []
   },
   "source": [
    "## 3 Bar Plot\n",
    "Show other features, main NAICS feature, and all other features as importance"
   ]
  },
  {
   "cell_type": "code",
   "execution_count": 73,
   "id": "67a30dad-5cac-4f36-9058-693d452e63ad",
   "metadata": {},
   "outputs": [],
   "source": [
    "def agg_enc_3way(data):\n",
    "    data = data.copy()\n",
    "    cond = [data['enc_flag'] == 0,\n",
    "            data['variable'].isin(['NAICS_NAICS', 'NAICS_response','mhier_NAICS_alt', 'menc_NAICS',\n",
    "                                  'NAICS', 'mhier_NAICS', 'tt_NAICS', 'menc_dgi'])]\n",
    "    choice = ['Other Features', 'NAICS-Primary',]\n",
    "    cat_type= pd.CategoricalDtype(categories = ['Other Features', 'NAICS-Primary', 'NAICS-Hier/Other'],\n",
    "                                 ordered=True)\n",
    "    data['type'] = pd.Series(np.select(cond, choice, 'NAICS-Hier/Other')).astype(cat_type)\n",
    "    data_1 = data \\\n",
    "        .groupby(['model', 'type', 'index']) \\\n",
    "        ['value'] \\\n",
    "        .agg('sum') \\\n",
    "        .reset_index(level=[0,1])\n",
    "    data_1['value_abs'] = np.abs(data_1['value'])\n",
    "    data_2 = data_1 \\\n",
    "        .groupby(['model', 'type']) \\\n",
    "        [['value_abs', 'value']] \\\n",
    "        .agg('mean') \\\n",
    "        .reset_index()\n",
    "    return data_2"
   ]
  },
  {
   "cell_type": "code",
   "execution_count": 74,
   "id": "4ae25478-b520-42f8-a70d-257f82bdff91",
   "metadata": {},
   "outputs": [
    {
     "data": {
      "text/html": [
       "<div>\n",
       "<style scoped>\n",
       "    .dataframe tbody tr th:only-of-type {\n",
       "        vertical-align: middle;\n",
       "    }\n",
       "\n",
       "    .dataframe tbody tr th {\n",
       "        vertical-align: top;\n",
       "    }\n",
       "\n",
       "    .dataframe thead th {\n",
       "        text-align: right;\n",
       "    }\n",
       "</style>\n",
       "<table border=\"1\" class=\"dataframe\">\n",
       "  <thead>\n",
       "    <tr style=\"text-align: right;\">\n",
       "      <th></th>\n",
       "      <th>model</th>\n",
       "      <th>type</th>\n",
       "      <th>value_abs</th>\n",
       "      <th>value</th>\n",
       "    </tr>\n",
       "  </thead>\n",
       "  <tbody>\n",
       "    <tr>\n",
       "      <th>0</th>\n",
       "      <td>menc</td>\n",
       "      <td>Other Features</td>\n",
       "      <td>0.554551</td>\n",
       "      <td>-0.143952</td>\n",
       "    </tr>\n",
       "    <tr>\n",
       "      <th>1</th>\n",
       "      <td>menc</td>\n",
       "      <td>NAICS-Primary</td>\n",
       "      <td>0.366625</td>\n",
       "      <td>-0.059871</td>\n",
       "    </tr>\n",
       "    <tr>\n",
       "      <th>2</th>\n",
       "      <td>menc</td>\n",
       "      <td>NAICS-Hier/Other</td>\n",
       "      <td>0.000000</td>\n",
       "      <td>0.000000</td>\n",
       "    </tr>\n",
       "    <tr>\n",
       "      <th>3</th>\n",
       "      <td>menc_all</td>\n",
       "      <td>Other Features</td>\n",
       "      <td>0.556247</td>\n",
       "      <td>-0.151338</td>\n",
       "    </tr>\n",
       "    <tr>\n",
       "      <th>4</th>\n",
       "      <td>menc_all</td>\n",
       "      <td>NAICS-Primary</td>\n",
       "      <td>0.354996</td>\n",
       "      <td>-0.055217</td>\n",
       "    </tr>\n",
       "    <tr>\n",
       "      <th>5</th>\n",
       "      <td>menc_all</td>\n",
       "      <td>NAICS-Hier/Other</td>\n",
       "      <td>0.052179</td>\n",
       "      <td>0.002077</td>\n",
       "    </tr>\n",
       "    <tr>\n",
       "      <th>6</th>\n",
       "      <td>mhier</td>\n",
       "      <td>Other Features</td>\n",
       "      <td>0.564996</td>\n",
       "      <td>-0.148788</td>\n",
       "    </tr>\n",
       "    <tr>\n",
       "      <th>7</th>\n",
       "      <td>mhier</td>\n",
       "      <td>NAICS-Primary</td>\n",
       "      <td>0.333975</td>\n",
       "      <td>-0.051604</td>\n",
       "    </tr>\n",
       "    <tr>\n",
       "      <th>8</th>\n",
       "      <td>mhier</td>\n",
       "      <td>NAICS-Hier/Other</td>\n",
       "      <td>0.000000</td>\n",
       "      <td>0.000000</td>\n",
       "    </tr>\n",
       "    <tr>\n",
       "      <th>9</th>\n",
       "      <td>tc</td>\n",
       "      <td>Other Features</td>\n",
       "      <td>0.553310</td>\n",
       "      <td>-0.150557</td>\n",
       "    </tr>\n",
       "    <tr>\n",
       "      <th>10</th>\n",
       "      <td>tc</td>\n",
       "      <td>NAICS-Primary</td>\n",
       "      <td>0.362245</td>\n",
       "      <td>-0.063968</td>\n",
       "    </tr>\n",
       "    <tr>\n",
       "      <th>11</th>\n",
       "      <td>tc</td>\n",
       "      <td>NAICS-Hier/Other</td>\n",
       "      <td>0.053747</td>\n",
       "      <td>0.010008</td>\n",
       "    </tr>\n",
       "    <tr>\n",
       "      <th>12</th>\n",
       "      <td>tt</td>\n",
       "      <td>Other Features</td>\n",
       "      <td>0.560817</td>\n",
       "      <td>-0.150923</td>\n",
       "    </tr>\n",
       "    <tr>\n",
       "      <th>13</th>\n",
       "      <td>tt</td>\n",
       "      <td>NAICS-Primary</td>\n",
       "      <td>0.323434</td>\n",
       "      <td>-0.056812</td>\n",
       "    </tr>\n",
       "    <tr>\n",
       "      <th>14</th>\n",
       "      <td>tt</td>\n",
       "      <td>NAICS-Hier/Other</td>\n",
       "      <td>0.052983</td>\n",
       "      <td>0.003539</td>\n",
       "    </tr>\n",
       "  </tbody>\n",
       "</table>\n",
       "</div>"
      ],
      "text/plain": [
       "       model              type  value_abs     value\n",
       "0       menc    Other Features   0.554551 -0.143952\n",
       "1       menc     NAICS-Primary   0.366625 -0.059871\n",
       "2       menc  NAICS-Hier/Other   0.000000  0.000000\n",
       "3   menc_all    Other Features   0.556247 -0.151338\n",
       "4   menc_all     NAICS-Primary   0.354996 -0.055217\n",
       "5   menc_all  NAICS-Hier/Other   0.052179  0.002077\n",
       "6      mhier    Other Features   0.564996 -0.148788\n",
       "7      mhier     NAICS-Primary   0.333975 -0.051604\n",
       "8      mhier  NAICS-Hier/Other   0.000000  0.000000\n",
       "9         tc    Other Features   0.553310 -0.150557\n",
       "10        tc     NAICS-Primary   0.362245 -0.063968\n",
       "11        tc  NAICS-Hier/Other   0.053747  0.010008\n",
       "12        tt    Other Features   0.560817 -0.150923\n",
       "13        tt     NAICS-Primary   0.323434 -0.056812\n",
       "14        tt  NAICS-Hier/Other   0.052983  0.003539"
      ]
     },
     "execution_count": 74,
     "metadata": {},
     "output_type": "execute_result"
    }
   ],
   "source": [
    "enc_way_test = agg_enc_3way(shap_all_long_test)\n",
    "enc_way_test"
   ]
  },
  {
   "cell_type": "code",
   "execution_count": 75,
   "id": "06ee9dc7-a13c-40cb-b09b-dd288259d5d6",
   "metadata": {},
   "outputs": [
    {
     "data": {
      "text/html": [
       "<div>\n",
       "<style scoped>\n",
       "    .dataframe tbody tr th:only-of-type {\n",
       "        vertical-align: middle;\n",
       "    }\n",
       "\n",
       "    .dataframe tbody tr th {\n",
       "        vertical-align: top;\n",
       "    }\n",
       "\n",
       "    .dataframe thead th {\n",
       "        text-align: right;\n",
       "    }\n",
       "</style>\n",
       "<table border=\"1\" class=\"dataframe\">\n",
       "  <thead>\n",
       "    <tr style=\"text-align: right;\">\n",
       "      <th></th>\n",
       "      <th>model</th>\n",
       "      <th>type</th>\n",
       "      <th>value_abs</th>\n",
       "      <th>value</th>\n",
       "    </tr>\n",
       "  </thead>\n",
       "  <tbody>\n",
       "    <tr>\n",
       "      <th>0</th>\n",
       "      <td>menc</td>\n",
       "      <td>Other Features</td>\n",
       "      <td>0.648219</td>\n",
       "      <td>-0.259119</td>\n",
       "    </tr>\n",
       "    <tr>\n",
       "      <th>1</th>\n",
       "      <td>menc</td>\n",
       "      <td>NAICS-Primary</td>\n",
       "      <td>0.093835</td>\n",
       "      <td>0.093832</td>\n",
       "    </tr>\n",
       "    <tr>\n",
       "      <th>2</th>\n",
       "      <td>menc</td>\n",
       "      <td>NAICS-Hier/Other</td>\n",
       "      <td>0.000000</td>\n",
       "      <td>0.000000</td>\n",
       "    </tr>\n",
       "    <tr>\n",
       "      <th>3</th>\n",
       "      <td>menc_all</td>\n",
       "      <td>Other Features</td>\n",
       "      <td>0.656834</td>\n",
       "      <td>-0.277400</td>\n",
       "    </tr>\n",
       "    <tr>\n",
       "      <th>4</th>\n",
       "      <td>menc_all</td>\n",
       "      <td>NAICS-Primary</td>\n",
       "      <td>0.075922</td>\n",
       "      <td>0.075850</td>\n",
       "    </tr>\n",
       "    <tr>\n",
       "      <th>5</th>\n",
       "      <td>menc_all</td>\n",
       "      <td>NAICS-Hier/Other</td>\n",
       "      <td>0.052316</td>\n",
       "      <td>0.023984</td>\n",
       "    </tr>\n",
       "    <tr>\n",
       "      <th>6</th>\n",
       "      <td>mhier</td>\n",
       "      <td>Other Features</td>\n",
       "      <td>0.626961</td>\n",
       "      <td>-0.216662</td>\n",
       "    </tr>\n",
       "    <tr>\n",
       "      <th>7</th>\n",
       "      <td>mhier</td>\n",
       "      <td>NAICS-Primary</td>\n",
       "      <td>0.333327</td>\n",
       "      <td>-0.175923</td>\n",
       "    </tr>\n",
       "    <tr>\n",
       "      <th>8</th>\n",
       "      <td>mhier</td>\n",
       "      <td>NAICS-Hier/Other</td>\n",
       "      <td>0.000000</td>\n",
       "      <td>0.000000</td>\n",
       "    </tr>\n",
       "    <tr>\n",
       "      <th>9</th>\n",
       "      <td>tc</td>\n",
       "      <td>Other Features</td>\n",
       "      <td>0.678731</td>\n",
       "      <td>-0.288779</td>\n",
       "    </tr>\n",
       "    <tr>\n",
       "      <th>10</th>\n",
       "      <td>tc</td>\n",
       "      <td>NAICS-Primary</td>\n",
       "      <td>0.097874</td>\n",
       "      <td>0.097825</td>\n",
       "    </tr>\n",
       "    <tr>\n",
       "      <th>11</th>\n",
       "      <td>tc</td>\n",
       "      <td>NAICS-Hier/Other</td>\n",
       "      <td>0.052858</td>\n",
       "      <td>-0.013697</td>\n",
       "    </tr>\n",
       "    <tr>\n",
       "      <th>12</th>\n",
       "      <td>tt</td>\n",
       "      <td>Other Features</td>\n",
       "      <td>0.692416</td>\n",
       "      <td>-0.218981</td>\n",
       "    </tr>\n",
       "    <tr>\n",
       "      <th>13</th>\n",
       "      <td>tt</td>\n",
       "      <td>NAICS-Primary</td>\n",
       "      <td>0.172781</td>\n",
       "      <td>-0.172773</td>\n",
       "    </tr>\n",
       "    <tr>\n",
       "      <th>14</th>\n",
       "      <td>tt</td>\n",
       "      <td>NAICS-Hier/Other</td>\n",
       "      <td>0.055721</td>\n",
       "      <td>-0.015650</td>\n",
       "    </tr>\n",
       "  </tbody>\n",
       "</table>\n",
       "</div>"
      ],
      "text/plain": [
       "       model              type  value_abs     value\n",
       "0       menc    Other Features   0.648219 -0.259119\n",
       "1       menc     NAICS-Primary   0.093835  0.093832\n",
       "2       menc  NAICS-Hier/Other   0.000000  0.000000\n",
       "3   menc_all    Other Features   0.656834 -0.277400\n",
       "4   menc_all     NAICS-Primary   0.075922  0.075850\n",
       "5   menc_all  NAICS-Hier/Other   0.052316  0.023984\n",
       "6      mhier    Other Features   0.626961 -0.216662\n",
       "7      mhier     NAICS-Primary   0.333327 -0.175923\n",
       "8      mhier  NAICS-Hier/Other   0.000000  0.000000\n",
       "9         tc    Other Features   0.678731 -0.288779\n",
       "10        tc     NAICS-Primary   0.097874  0.097825\n",
       "11        tc  NAICS-Hier/Other   0.052858 -0.013697\n",
       "12        tt    Other Features   0.692416 -0.218981\n",
       "13        tt     NAICS-Primary   0.172781 -0.172773\n",
       "14        tt  NAICS-Hier/Other   0.055721 -0.015650"
      ]
     },
     "execution_count": 75,
     "metadata": {},
     "output_type": "execute_result"
    }
   ],
   "source": [
    "enc_way_ho =  agg_enc_3way(shap_all_long_ho)\n",
    "enc_way_ho"
   ]
  },
  {
   "cell_type": "code",
   "execution_count": 87,
   "id": "8a80296e-09b8-4d2f-9ca1-3d2c7c50247f",
   "metadata": {},
   "outputs": [],
   "source": [
    "enc_way_test.to_csv(Path(setup.temp_path).joinpath('A41_DATA_shap_three_grp_test.csv'))\n",
    "enc_way_ho.to_csv(Path(setup.temp_path).joinpath('A41_DATA_shap_three_grp_ho.csv'))"
   ]
  },
  {
   "cell_type": "code",
   "execution_count": 76,
   "id": "00b05c20-713d-40fe-99b5-3eb690b536eb",
   "metadata": {},
   "outputs": [],
   "source": [
    "# Function to do bar plot\n",
    "def shap_3way_bar(data, values = 'value_abs',\n",
    "                      title = None, xlabel = None, ax = None,\n",
    "                 figsize = None):\n",
    "    \n",
    "    # Label models\n",
    "    data = data.copy()\n",
    "    data['model_label']  = setup.label_models(data)\n",
    "\n",
    "    if ax is None:\n",
    "        fig, ax = plt.subplots(figsize = (4, 3))\n",
    "    data_pivot = data.pivot(index='model_label', columns='type', values=values) \\\n",
    "        .reset_index()\n",
    "    data_pivot['model_label'] = data_pivot['model_label'].astype(setup.model_label_type)\n",
    "    data_pivot.sort_values('model_label').set_index('model_label') \\\n",
    "        .plot(kind='barh', ax=ax, width=0.7, figsize=figsize)\n",
    "    ax.invert_yaxis()\n",
    "    ax.set_ylabel(None)\n",
    "    ax.set_title(title)\n",
    "    ax.set_xlabel(xlabel)\n",
    "    #ax.legend(bbox_to_anchor=(0.8, -0.05),  bbox_transform=fig.transFigure, ncol=2)"
   ]
  },
  {
   "cell_type": "code",
   "execution_count": null,
   "id": "c444be40-b99e-4c70-9359-ca72a54cd0d9",
   "metadata": {},
   "outputs": [],
   "source": []
  },
  {
   "cell_type": "code",
   "execution_count": 77,
   "id": "415ed071-c0dd-4801-9897-a589addf76b4",
   "metadata": {},
   "outputs": [
    {
     "data": {
      "image/png": "[encoded data removed]",
      "text/plain": [
       "<Figure size 600x250 with 2 Axes>"
      ]
     },
     "metadata": {},
     "output_type": "display_data"
    }
   ],
   "source": [
    "fig, ax = plt.subplots(1, 2, sharex = True, sharey = True, figsize=(6, 2.5))\n",
    "shap_3way_bar(enc_way_test, 'value_abs', ax=ax[0], title='Test Data',\n",
    "                     xlabel='mean abs SHAP value')\n",
    "shap_3way_bar(enc_way_ho, 'value_abs', ax=ax[1], title='Holdout NAICS Data',\n",
    "                     xlabel='mean abs SHAP value')\n",
    "ax[0].get_legend().remove()\n",
    "ax[0].set_xlim(0, 0.8)\n",
    "ax[1].set_xlim(0, 0.8)\n",
    "ax[1].legend(bbox_to_anchor=(0.8, -0.05),  bbox_transform=fig.transFigure, ncol=3)\n",
    "fig.savefig(Path(setup.temp_path).joinpath('A41_PLOT_enc_type_3bar.png'),\n",
    "        bbox_inches='tight')"
   ]
  },
  {
   "cell_type": "markdown",
   "id": "71e322d1-b01c-4af1-b250-b82af5d2a6ac",
   "metadata": {},
   "source": [
    "##### Smaller for blog"
   ]
  },
  {
   "cell_type": "code",
   "execution_count": 85,
   "id": "e24bc507-b1e9-42d3-ae0f-dfca9a6c47ac",
   "metadata": {},
   "outputs": [
    {
     "data": {
      "image/png": "[encoded data removed]",
      "text/plain": [
       "<Figure size 600x240 with 2 Axes>"
      ]
     },
     "metadata": {},
     "output_type": "display_data"
    }
   ],
   "source": [
    "fig, ax = plt.subplots(1, 2, sharex = True, sharey = True,\n",
    "                      figsize=(6,2.4))\n",
    "\n",
    "# All but target encoding\n",
    "shap_3way_bar(enc_way_test[enc_way_test['model'] != 'menc'], \n",
    "              'value_abs', ax=ax[0],xlabel='mean abs SHAP value')\n",
    "shap_3way_bar(enc_way_ho[enc_way_ho['model'] != 'menc'], \n",
    "              'value_abs', ax=ax[1],\n",
    "                     xlabel='mean abs SHAP value')\n",
    "[a.get_legend().remove() for a in ax ]\n",
    "[a.set_xlim(0, 0.8) for a in ax ]\n",
    "ax[1].legend(bbox_to_anchor=(0.85, -0.1),  bbox_transform=fig.transFigure, ncol=3)\n",
    "fig.set_figwidth(6)\n",
    "plt.subplots_adjust(hspace=0.01, wspace=0.1)\n",
    "fig.savefig(Path(setup.temp_path).joinpath('A41_PLOT_3bar_condensed.png'),\n",
    "        bbox_inches='tight')"
   ]
  },
  {
   "cell_type": "code",
   "execution_count": null,
   "id": "f23c35ec-eee7-4322-941f-67bfa62c85c1",
   "metadata": {},
   "outputs": [],
   "source": []
  }
 ],
 "metadata": {
  "kernelspec": {
   "display_name": "tf_p39",
   "language": "python",
   "name": "tf_p39"
  },
  "language_info": {
   "codemirror_mode": {
    "name": "ipython",
    "version": 3
   },
   "file_extension": ".py",
   "mimetype": "text/x-python",
   "name": "python",
   "nbconvert_exporter": "python",
   "pygments_lexer": "ipython3",
   "version": "3.8.18"
  }
 },
 "nbformat": 4,
 "nbformat_minor": 5
}
