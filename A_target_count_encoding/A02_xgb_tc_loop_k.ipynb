{
 "cells": [
  {
   "cell_type": "code",
   "execution_count": 1,
   "id": "4c65f557-651f-4958-a567-a1b6b5a82b2b",
   "metadata": {
    "tags": []
   },
   "outputs": [
    {
     "data": {
      "text/plain": [
       "'/Users/valeriecarey/Documents/projects/2023_10_blog_gnn_sba/code'"
      ]
     },
     "execution_count": 1,
     "metadata": {},
     "output_type": "execute_result"
    }
   ],
   "source": [
    "# Modify the file A00_setup.  Note the working directory is changed\n",
    "import os\n",
    "os.chdir(os.getcwd().rsplit(os.path.sep + 'code')[0] + os.path.sep + 'code')\n",
    "from importlib.machinery import SourceFileLoader\n",
    "setup = SourceFileLoader(\"setup\", \"./A_target_count_encoding/A00_setup.py\").load_module()\n",
    "os.getcwd()"
   ]
  },
  {
   "cell_type": "markdown",
   "id": "b01d0fdb-d4bf-465a-8541-997addc50b0c",
   "metadata": {},
   "source": [
    "# XGBoost, Target+Count Encoding: Vary threshold\n",
    "No blending of hierarchy, just check encoding NAICS using the target+counts"
   ]
  },
  {
   "cell_type": "markdown",
   "id": "56161f89-1f54-47f9-860d-3f945a941c1f",
   "metadata": {},
   "source": [
    "*This script takes about 5 minutes on my MacBook Air*"
   ]
  },
  {
   "cell_type": "code",
   "execution_count": 2,
   "id": "ec6b1778-7abc-4129-ab5f-ac2992bd8ca6",
   "metadata": {},
   "outputs": [],
   "source": [
    "import pandas as pd\n",
    "import numpy as np\n",
    "import xgboost as xgb\n",
    "import warnings\n",
    "import matplotlib.pyplot as plt\n",
    "import pickle"
   ]
  },
  {
   "cell_type": "code",
   "execution_count": 3,
   "id": "785af927-a634-4e34-84c4-7a532236f2ca",
   "metadata": {},
   "outputs": [],
   "source": [
    "from pathlib import Path"
   ]
  },
  {
   "cell_type": "code",
   "execution_count": 4,
   "id": "fd09527b-32dd-47fa-b62f-f9307f89f553",
   "metadata": {},
   "outputs": [],
   "source": [
    "import sklearn as sk\n",
    "from sklearn.model_selection import RandomizedSearchCV\n",
    "from sklearn.inspection import permutation_importance, partial_dependence\n",
    "from scikitplot.metrics import plot_lift_curve"
   ]
  },
  {
   "cell_type": "code",
   "execution_count": 5,
   "id": "0732ba40-8318-457b-b29f-f9b6de3b70aa",
   "metadata": {},
   "outputs": [],
   "source": [
    "from sba_gnn.sba_gnn import sg_plot, sg_target_count_encoder\n",
    "from sba_gnn.sba_gnn.sg_target_count_encoder import TargetCountEncoder"
   ]
  },
  {
   "cell_type": "markdown",
   "id": "d14a5947-6599-4253-acf3-91ddeffdedd3",
   "metadata": {},
   "source": [
    "## Import Processed Datasets"
   ]
  },
  {
   "cell_type": "code",
   "execution_count": 6,
   "id": "f6bc5cc5-b635-420f-852c-6cc9bba68a52",
   "metadata": {},
   "outputs": [],
   "source": [
    "sba_loans = pd.read_parquet(Path(setup.parent_path).joinpath('01_DATA_transformed.parquet')) "
   ]
  },
  {
   "cell_type": "code",
   "execution_count": 7,
   "id": "3c752967-2379-4bf3-9a0e-9eb1217012b2",
   "metadata": {},
   "outputs": [
    {
     "data": {
      "text/plain": [
       "{'subsample': 0.8,\n",
       " 'scale_pos_weight': 1.0,\n",
       " 'reg_lambda': 0.01,\n",
       " 'reg_alpha': 0.001,\n",
       " 'min_child_weight': 50,\n",
       " 'max_depth': 8,\n",
       " 'learning_rate': 0.1,\n",
       " 'gamma': 2}"
      ]
     },
     "execution_count": 7,
     "metadata": {},
     "output_type": "execute_result"
    }
   ],
   "source": [
    "best_params_df = pd.read_csv(Path(setup.parent_path).joinpath('03_REPORT_fit_parameter_selected.csv'))\n",
    "best_params = best_params_df.to_dict(orient='records')[0]\n",
    "best_params"
   ]
  },
  {
   "cell_type": "code",
   "execution_count": null,
   "id": "82a0011b-c42a-4aca-bb30-7285fde059d4",
   "metadata": {},
   "outputs": [],
   "source": [
    "xgb_params = dict(best_params, \n",
    "                   **{'objective':\"binary:logistic\", 'n_estimators':setup.xgb_n_estimators})"
   ]
  },
  {
   "cell_type": "markdown",
   "id": "c6c78e2d-2c25-4e29-bdcc-be7396f5df59",
   "metadata": {},
   "source": [
    "##### Comparison metrics"
   ]
  },
  {
   "cell_type": "code",
   "execution_count": 16,
   "id": "fcc2b797-48d4-42a3-99b3-bc9144c3203b",
   "metadata": {},
   "outputs": [],
   "source": [
    "metrics_base = pd.read_csv(Path(setup.parent_path).joinpath('14_REPORT_metrics.csv'))"
   ]
  },
  {
   "cell_type": "markdown",
   "id": "dad22af6-70e7-46e9-ae24-c0af8de1b822",
   "metadata": {},
   "source": [
    "## Function to get metrics"
   ]
  },
  {
   "cell_type": "code",
   "execution_count": 9,
   "id": "ca448a6e-df88-4d10-b19b-ba01c484301a",
   "metadata": {},
   "outputs": [],
   "source": [
    "def get_metrics(data, lambda_k = 100, enc_features = ['NAICS', 'NAICS_sector']):\n",
    "    \n",
    "    # Alternative encoding\n",
    "    train_df = data[data['dset'] == 'train']\n",
    "    enc_dict = {f:TargetCountEncoder(lambda_k = lambda_k) for f in enc_features}\n",
    "    [enc_dict[f].fit(train_df[f], train_df['target']) for f in enc_features]\n",
    "    enc_val = pd.concat([enc_dict[f].transform(data[f]) for f in enc_features],\n",
    "                    axis=1, keys=enc_features)\n",
    "    enc_val.columns = [c[0] + '_' + c[1] for c in enc_val.columns]\n",
    "    \n",
    "    # Append to data\n",
    "    data = pd.concat([data.drop(columns=enc_val.columns, errors='ignore'), enc_val], \n",
    "                      axis=1)\n",
    "    train_df = data[data['dset'] == 'train']\n",
    "    test_df = data[data['dset'] == 'test']\n",
    "    val_df = data[data['dset'] == 'val']\n",
    "    \n",
    "    predictor_features = setup.predictor_features + list(enc_val.columns)\n",
    "\n",
    "    # Model fit\n",
    "    xgb_model = xgb.XGBClassifier(objective=\"binary:logistic\",\n",
    "                             n_estimators =  setup.xgb_n_estimators)\n",
    "    xgb_model = xgb_model.set_params(**xgb_params)\n",
    "    xgb_model.fit(train_df[predictor_features], train_df['target'],\n",
    "              eval_set = [(train_df[predictor_features], train_df['target']),\n",
    "                         (val_df[predictor_features], val_df['target'])])\n",
    "    \n",
    "    # Predict\n",
    "    pred_df = pd.concat([data[['LoanNr_ChkDgt', 'dset', 'target', 'dset_naics_holdout']].reset_index(),\n",
    "                     pd.DataFrame({'predict_prob':\n",
    "                                   xgb_model.predict_proba(data[predictor_features])[:,1]})],\n",
    "                    axis=1) \\\n",
    "    .set_index('index')\n",
    "    \n",
    "    # Decision threshold\n",
    "    pred_train_df = pred_df[pred_df['dset'] == 'train']\n",
    "    thresh_tune_data = sg_plot.get_f1_frame(pred_train_df['target'], \n",
    "                                        pred_train_df['predict_prob'])\n",
    "    thresh_head = thresh_tune_data.sort_values('f1', ascending=False).head(2)\n",
    "    best_thresh = thresh_head['thresh'].iloc[0]\n",
    "    pred_df['predict_bin'] = np.where(pred_df['predict_prob'] >= best_thresh, 1, 0)\n",
    "    \n",
    "    # Metrics\n",
    "    metrics_dset_df = pred_df.groupby('dset') \\\n",
    "        .apply(lambda x: sg_plot.dset_metrics(x.target, x.predict_bin, x.predict_prob)) \\\n",
    "        .reset_index()\n",
    "    metrics_test_df = pred_df[pred_df['dset'] == 'test'] \\\n",
    "        .groupby(['dset', 'dset_naics_holdout']) \\\n",
    "        .apply(lambda x: sg_plot.dset_metrics(x.target, x.predict_bin, x.predict_prob)) \\\n",
    "        .reset_index()\n",
    "    metrics_df = pd.concat([metrics_dset_df, metrics_test_df])\n",
    "    \n",
    "    return pred_df, metrics_df"
   ]
  },
  {
   "cell_type": "markdown",
   "id": "9c290356-3291-4406-90cf-d921ad845925",
   "metadata": {},
   "source": [
    "## Loop to get predictions, metrics"
   ]
  },
  {
   "cell_type": "code",
   "execution_count": 10,
   "id": "9cc600c7-afa6-41df-a9c0-6eb710081542",
   "metadata": {},
   "outputs": [],
   "source": [
    "count_sets = [5, 10, 20, 50, 100, 200, 500, 1000, 2000]"
   ]
  },
  {
   "cell_type": "code",
   "execution_count": 11,
   "id": "3ca0672f-819d-4bf5-b829-a481a852d65b",
   "metadata": {},
   "outputs": [],
   "source": [
    "%%capture\n",
    "pred_df = pd.DataFrame()\n",
    "metrics_df = pd.DataFrame()\n",
    "for c in count_sets:\n",
    "    this_pred, this_met = get_metrics(sba_loans, c, ['NAICS'])\n",
    "    this_pred['c'] = c\n",
    "    pred_df = pd.concat([pred_df, this_pred])\n",
    "    this_met['c'] = c\n",
    "    metrics_df = pd.concat([metrics_df, this_met])"
   ]
  },
  {
   "cell_type": "code",
   "execution_count": 12,
   "id": "0ff21702-e129-418b-b6c3-8ebd047186a0",
   "metadata": {},
   "outputs": [
    {
     "data": {
      "text/html": [
       "<div>\n",
       "<style scoped>\n",
       "    .dataframe tbody tr th:only-of-type {\n",
       "        vertical-align: middle;\n",
       "    }\n",
       "\n",
       "    .dataframe tbody tr th {\n",
       "        vertical-align: top;\n",
       "    }\n",
       "\n",
       "    .dataframe thead th {\n",
       "        text-align: right;\n",
       "    }\n",
       "</style>\n",
       "<table border=\"1\" class=\"dataframe\">\n",
       "  <thead>\n",
       "    <tr style=\"text-align: right;\">\n",
       "      <th></th>\n",
       "      <th>dset</th>\n",
       "      <th>accuracy_score</th>\n",
       "      <th>f1_score</th>\n",
       "      <th>precision_score</th>\n",
       "      <th>recall_score</th>\n",
       "      <th>average_precision_score</th>\n",
       "      <th>roc_auc_score</th>\n",
       "      <th>dset_naics_holdout</th>\n",
       "      <th>c</th>\n",
       "    </tr>\n",
       "  </thead>\n",
       "  <tbody>\n",
       "    <tr>\n",
       "      <th>1</th>\n",
       "      <td>test</td>\n",
       "      <td>0.665222</td>\n",
       "      <td>0.418726</td>\n",
       "      <td>0.305869</td>\n",
       "      <td>0.663565</td>\n",
       "      <td>0.346404</td>\n",
       "      <td>0.728748</td>\n",
       "      <td>1.0</td>\n",
       "      <td>5</td>\n",
       "    </tr>\n",
       "    <tr>\n",
       "      <th>1</th>\n",
       "      <td>test</td>\n",
       "      <td>0.667943</td>\n",
       "      <td>0.419437</td>\n",
       "      <td>0.307374</td>\n",
       "      <td>0.660096</td>\n",
       "      <td>0.346362</td>\n",
       "      <td>0.728667</td>\n",
       "      <td>1.0</td>\n",
       "      <td>10</td>\n",
       "    </tr>\n",
       "    <tr>\n",
       "      <th>1</th>\n",
       "      <td>test</td>\n",
       "      <td>0.666067</td>\n",
       "      <td>0.418503</td>\n",
       "      <td>0.306117</td>\n",
       "      <td>0.661281</td>\n",
       "      <td>0.346367</td>\n",
       "      <td>0.728632</td>\n",
       "      <td>1.0</td>\n",
       "      <td>20</td>\n",
       "    </tr>\n",
       "    <tr>\n",
       "      <th>1</th>\n",
       "      <td>test</td>\n",
       "      <td>0.642056</td>\n",
       "      <td>0.421045</td>\n",
       "      <td>0.298155</td>\n",
       "      <td>0.716268</td>\n",
       "      <td>0.345852</td>\n",
       "      <td>0.728860</td>\n",
       "      <td>1.0</td>\n",
       "      <td>50</td>\n",
       "    </tr>\n",
       "    <tr>\n",
       "      <th>1</th>\n",
       "      <td>test</td>\n",
       "      <td>0.640764</td>\n",
       "      <td>0.420426</td>\n",
       "      <td>0.297404</td>\n",
       "      <td>0.717029</td>\n",
       "      <td>0.345941</td>\n",
       "      <td>0.728822</td>\n",
       "      <td>1.0</td>\n",
       "      <td>100</td>\n",
       "    </tr>\n",
       "    <tr>\n",
       "      <th>1</th>\n",
       "      <td>test</td>\n",
       "      <td>0.617398</td>\n",
       "      <td>0.418766</td>\n",
       "      <td>0.289226</td>\n",
       "      <td>0.758481</td>\n",
       "      <td>0.346532</td>\n",
       "      <td>0.728086</td>\n",
       "      <td>1.0</td>\n",
       "      <td>200</td>\n",
       "    </tr>\n",
       "    <tr>\n",
       "      <th>1</th>\n",
       "      <td>test</td>\n",
       "      <td>0.681993</td>\n",
       "      <td>0.416693</td>\n",
       "      <td>0.312511</td>\n",
       "      <td>0.625074</td>\n",
       "      <td>0.347546</td>\n",
       "      <td>0.728882</td>\n",
       "      <td>1.0</td>\n",
       "      <td>500</td>\n",
       "    </tr>\n",
       "    <tr>\n",
       "      <th>1</th>\n",
       "      <td>test</td>\n",
       "      <td>0.660026</td>\n",
       "      <td>0.419070</td>\n",
       "      <td>0.303897</td>\n",
       "      <td>0.674816</td>\n",
       "      <td>0.346619</td>\n",
       "      <td>0.729057</td>\n",
       "      <td>1.0</td>\n",
       "      <td>1000</td>\n",
       "    </tr>\n",
       "    <tr>\n",
       "      <th>1</th>\n",
       "      <td>test</td>\n",
       "      <td>0.660671</td>\n",
       "      <td>0.419319</td>\n",
       "      <td>0.304280</td>\n",
       "      <td>0.674224</td>\n",
       "      <td>0.347198</td>\n",
       "      <td>0.729125</td>\n",
       "      <td>1.0</td>\n",
       "      <td>2000</td>\n",
       "    </tr>\n",
       "  </tbody>\n",
       "</table>\n",
       "</div>"
      ],
      "text/plain": [
       "   dset  accuracy_score  f1_score  precision_score  recall_score  \\\n",
       "1  test        0.665222  0.418726         0.305869      0.663565   \n",
       "1  test        0.667943  0.419437         0.307374      0.660096   \n",
       "1  test        0.666067  0.418503         0.306117      0.661281   \n",
       "1  test        0.642056  0.421045         0.298155      0.716268   \n",
       "1  test        0.640764  0.420426         0.297404      0.717029   \n",
       "1  test        0.617398  0.418766         0.289226      0.758481   \n",
       "1  test        0.681993  0.416693         0.312511      0.625074   \n",
       "1  test        0.660026  0.419070         0.303897      0.674816   \n",
       "1  test        0.660671  0.419319         0.304280      0.674224   \n",
       "\n",
       "   average_precision_score  roc_auc_score  dset_naics_holdout     c  \n",
       "1                 0.346404       0.728748                 1.0     5  \n",
       "1                 0.346362       0.728667                 1.0    10  \n",
       "1                 0.346367       0.728632                 1.0    20  \n",
       "1                 0.345852       0.728860                 1.0    50  \n",
       "1                 0.345941       0.728822                 1.0   100  \n",
       "1                 0.346532       0.728086                 1.0   200  \n",
       "1                 0.347546       0.728882                 1.0   500  \n",
       "1                 0.346619       0.729057                 1.0  1000  \n",
       "1                 0.347198       0.729125                 1.0  2000  "
      ]
     },
     "execution_count": 12,
     "metadata": {},
     "output_type": "execute_result"
    }
   ],
   "source": [
    "metrics_df[metrics_df['dset_naics_holdout'] == 1]"
   ]
  },
  {
   "cell_type": "code",
   "execution_count": 13,
   "id": "62e8b937-8e1c-4a4c-8cc3-40f8325564c0",
   "metadata": {},
   "outputs": [
    {
     "data": {
      "text/html": [
       "<div>\n",
       "<style scoped>\n",
       "    .dataframe tbody tr th:only-of-type {\n",
       "        vertical-align: middle;\n",
       "    }\n",
       "\n",
       "    .dataframe tbody tr th {\n",
       "        vertical-align: top;\n",
       "    }\n",
       "\n",
       "    .dataframe thead th {\n",
       "        text-align: right;\n",
       "    }\n",
       "</style>\n",
       "<table border=\"1\" class=\"dataframe\">\n",
       "  <thead>\n",
       "    <tr style=\"text-align: right;\">\n",
       "      <th></th>\n",
       "      <th>dset</th>\n",
       "      <th>accuracy_score</th>\n",
       "      <th>f1_score</th>\n",
       "      <th>precision_score</th>\n",
       "      <th>recall_score</th>\n",
       "      <th>average_precision_score</th>\n",
       "      <th>roc_auc_score</th>\n",
       "      <th>dset_naics_holdout</th>\n",
       "      <th>c</th>\n",
       "    </tr>\n",
       "  </thead>\n",
       "  <tbody>\n",
       "    <tr>\n",
       "      <th>0</th>\n",
       "      <td>test</td>\n",
       "      <td>0.660232</td>\n",
       "      <td>0.449411</td>\n",
       "      <td>0.337053</td>\n",
       "      <td>0.674140</td>\n",
       "      <td>0.383228</td>\n",
       "      <td>0.728352</td>\n",
       "      <td>0.0</td>\n",
       "      <td>5</td>\n",
       "    </tr>\n",
       "    <tr>\n",
       "      <th>0</th>\n",
       "      <td>test</td>\n",
       "      <td>0.659772</td>\n",
       "      <td>0.449744</td>\n",
       "      <td>0.336973</td>\n",
       "      <td>0.675961</td>\n",
       "      <td>0.383781</td>\n",
       "      <td>0.728355</td>\n",
       "      <td>0.0</td>\n",
       "      <td>10</td>\n",
       "    </tr>\n",
       "    <tr>\n",
       "      <th>0</th>\n",
       "      <td>test</td>\n",
       "      <td>0.660361</td>\n",
       "      <td>0.449352</td>\n",
       "      <td>0.337090</td>\n",
       "      <td>0.673724</td>\n",
       "      <td>0.384057</td>\n",
       "      <td>0.728652</td>\n",
       "      <td>0.0</td>\n",
       "      <td>20</td>\n",
       "    </tr>\n",
       "    <tr>\n",
       "      <th>0</th>\n",
       "      <td>test</td>\n",
       "      <td>0.659911</td>\n",
       "      <td>0.449521</td>\n",
       "      <td>0.336942</td>\n",
       "      <td>0.675077</td>\n",
       "      <td>0.382419</td>\n",
       "      <td>0.728333</td>\n",
       "      <td>0.0</td>\n",
       "      <td>50</td>\n",
       "    </tr>\n",
       "    <tr>\n",
       "      <th>0</th>\n",
       "      <td>test</td>\n",
       "      <td>0.659847</td>\n",
       "      <td>0.450388</td>\n",
       "      <td>0.337295</td>\n",
       "      <td>0.677574</td>\n",
       "      <td>0.383074</td>\n",
       "      <td>0.728524</td>\n",
       "      <td>0.0</td>\n",
       "      <td>100</td>\n",
       "    </tr>\n",
       "    <tr>\n",
       "      <th>0</th>\n",
       "      <td>test</td>\n",
       "      <td>0.661602</td>\n",
       "      <td>0.449109</td>\n",
       "      <td>0.337602</td>\n",
       "      <td>0.670603</td>\n",
       "      <td>0.383441</td>\n",
       "      <td>0.728287</td>\n",
       "      <td>0.0</td>\n",
       "      <td>200</td>\n",
       "    </tr>\n",
       "    <tr>\n",
       "      <th>0</th>\n",
       "      <td>test</td>\n",
       "      <td>0.657193</td>\n",
       "      <td>0.448977</td>\n",
       "      <td>0.335372</td>\n",
       "      <td>0.678978</td>\n",
       "      <td>0.380362</td>\n",
       "      <td>0.727127</td>\n",
       "      <td>0.0</td>\n",
       "      <td>500</td>\n",
       "    </tr>\n",
       "    <tr>\n",
       "      <th>0</th>\n",
       "      <td>test</td>\n",
       "      <td>0.623337</td>\n",
       "      <td>0.446377</td>\n",
       "      <td>0.319905</td>\n",
       "      <td>0.738230</td>\n",
       "      <td>0.374350</td>\n",
       "      <td>0.722996</td>\n",
       "      <td>0.0</td>\n",
       "      <td>1000</td>\n",
       "    </tr>\n",
       "    <tr>\n",
       "      <th>0</th>\n",
       "      <td>test</td>\n",
       "      <td>0.617484</td>\n",
       "      <td>0.443801</td>\n",
       "      <td>0.316589</td>\n",
       "      <td>0.741924</td>\n",
       "      <td>0.368551</td>\n",
       "      <td>0.720260</td>\n",
       "      <td>0.0</td>\n",
       "      <td>2000</td>\n",
       "    </tr>\n",
       "  </tbody>\n",
       "</table>\n",
       "</div>"
      ],
      "text/plain": [
       "   dset  accuracy_score  f1_score  precision_score  recall_score  \\\n",
       "0  test        0.660232  0.449411         0.337053      0.674140   \n",
       "0  test        0.659772  0.449744         0.336973      0.675961   \n",
       "0  test        0.660361  0.449352         0.337090      0.673724   \n",
       "0  test        0.659911  0.449521         0.336942      0.675077   \n",
       "0  test        0.659847  0.450388         0.337295      0.677574   \n",
       "0  test        0.661602  0.449109         0.337602      0.670603   \n",
       "0  test        0.657193  0.448977         0.335372      0.678978   \n",
       "0  test        0.623337  0.446377         0.319905      0.738230   \n",
       "0  test        0.617484  0.443801         0.316589      0.741924   \n",
       "\n",
       "   average_precision_score  roc_auc_score  dset_naics_holdout     c  \n",
       "0                 0.383228       0.728352                 0.0     5  \n",
       "0                 0.383781       0.728355                 0.0    10  \n",
       "0                 0.384057       0.728652                 0.0    20  \n",
       "0                 0.382419       0.728333                 0.0    50  \n",
       "0                 0.383074       0.728524                 0.0   100  \n",
       "0                 0.383441       0.728287                 0.0   200  \n",
       "0                 0.380362       0.727127                 0.0   500  \n",
       "0                 0.374350       0.722996                 0.0  1000  \n",
       "0                 0.368551       0.720260                 0.0  2000  "
      ]
     },
     "execution_count": 13,
     "metadata": {},
     "output_type": "execute_result"
    }
   ],
   "source": [
    "metrics_df[metrics_df['dset_naics_holdout'] == 0]"
   ]
  },
  {
   "cell_type": "code",
   "execution_count": 14,
   "id": "68669385-ef28-4f52-8987-7cc43ac626a6",
   "metadata": {},
   "outputs": [],
   "source": [
    "pred_df.to_parquet(Path(setup.temp_path).joinpath('A02_DATA_combined_predictions.parquet'))\n",
    "metrics_df.to_csv(Path(setup.temp_path).joinpath('A02_REPORT_metrics.csv'), index=True)"
   ]
  },
  {
   "cell_type": "markdown",
   "id": "f8c6d23c-e05c-4be5-b1f3-651b12590b1b",
   "metadata": {},
   "source": [
    "## Compare Results to Standard"
   ]
  },
  {
   "cell_type": "markdown",
   "id": "84487d3d-984a-4add-8512-84b87180c45e",
   "metadata": {},
   "source": [
    "#### Regular randomized test"
   ]
  },
  {
   "cell_type": "code",
   "execution_count": 30,
   "id": "a0a3e154-50d6-410d-97fc-17ae6115932c",
   "metadata": {},
   "outputs": [
    {
     "data": {
      "image/png": "[encoded data removed]",
      "text/plain": [
       "<Figure size 640x480 with 1 Axes>"
      ]
     },
     "metadata": {},
     "output_type": "display_data"
    }
   ],
   "source": [
    "fig, ax = plt.subplots()\n",
    "metrics_base[metrics_base['dset_naics_holdout'] == 0] \\\n",
    "    .plot(x='c', y='average_precision_score', logx=True, ax=ax, \n",
    "          label='Target Encoding',color='darkslateblue', style='o-')\n",
    "metrics_df[metrics_df['dset_naics_holdout'] == 0] \\\n",
    "    .plot(x='c', y='average_precision_score', logx=True, ax=ax, \n",
    "          label='Target+Count',color='darkorange', style='o-')\n",
    "ax.set_ylabel('PR-AUC')\n",
    "ax.set_xlabel('blending midpoint')\n",
    "fig.savefig(Path(setup.temp_path).joinpath('A02_PLOT_compare_base_reg.png'),\n",
    "            bbox_inches='tight')"
   ]
  },
  {
   "cell_type": "code",
   "execution_count": 31,
   "id": "83c4bf72-5710-489a-888f-bd2b7590e93b",
   "metadata": {},
   "outputs": [
    {
     "data": {
      "image/png": "[encoded data removed]",
      "text/plain": [
       "<Figure size 640x480 with 1 Axes>"
      ]
     },
     "metadata": {},
     "output_type": "display_data"
    }
   ],
   "source": [
    "fig, ax = plt.subplots()\n",
    "metrics_base[metrics_base['dset_naics_holdout'] == 1] \\\n",
    "    .plot(x='c', y='average_precision_score', logx=True, ax=ax, \n",
    "          label='Target Encoding',color='darkslateblue', style='o-')\n",
    "metrics_df[metrics_df['dset_naics_holdout'] == 1] \\\n",
    "    .plot(x='c', y='average_precision_score', logx=True, ax=ax, \n",
    "          label='Target+Count',color='darkorange', style='o-')\n",
    "ax.set_ylabel('PR-AUC')\n",
    "ax.set_xlabel('blending midpoint')\n",
    "fig.savefig(Path(setup.temp_path).joinpath('A02_PLOT_compare_base_ho.png'),\n",
    "            bbox_inches='tight')"
   ]
  },
  {
   "cell_type": "code",
   "execution_count": null,
   "id": "e2b6ef2b-9fe4-4595-9ba9-7fc205a864f6",
   "metadata": {},
   "outputs": [],
   "source": []
  }
 ],
 "metadata": {
  "kernelspec": {
   "display_name": "tf_p39",
   "language": "python",
   "name": "tf_p39"
  },
  "language_info": {
   "codemirror_mode": {
    "name": "ipython",
    "version": 3
   },
   "file_extension": ".py",
   "mimetype": "text/x-python",
   "name": "python",
   "nbconvert_exporter": "python",
   "pygments_lexer": "ipython3",
   "version": "3.8.18"
  }
 },
 "nbformat": 4,
 "nbformat_minor": 5
}
