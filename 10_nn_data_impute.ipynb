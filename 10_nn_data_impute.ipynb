{
 "cells": [
  {
   "cell_type": "code",
   "execution_count": 2,
   "id": "dd371bd9-82c7-44c7-8826-beb0c549974b",
   "metadata": {
    "tags": []
   },
   "outputs": [],
   "source": [
    "# Modify the file 00_setup.py to define input/output file paths on your system\n",
    "# The information in 00_setup.py will be used across notebooks\n",
    "from importlib.machinery import SourceFileLoader\n",
    "setup = SourceFileLoader(\"setup\", \"./00_setup.py\").load_module()"
   ]
  },
  {
   "cell_type": "markdown",
   "id": "be7d3f74-1737-4eee-9e6f-06233b68c2b1",
   "metadata": {
    "tags": []
   },
   "source": [
    "# Data Imputation and Scaling for Neural Networks\n",
    "Convert features so they can be used in a neural network (or GNN).  \n",
    "* Impute missing features\n",
    "* Scale values\n",
    "* Set an \"alternative\" NAICS for encoding\n",
    "  * For NAICS not in the training data, use the highest-volume NAICS within the sector"
   ]
  },
  {
   "cell_type": "markdown",
   "id": "c233f764-e8be-431f-99d8-9909faf472ca",
   "metadata": {},
   "source": [
    "For continuous features, I do quantile encoding then min/max scaling to -1, 1.  For binary fields (and fields with a small number of levels) I just min/max rescale"
   ]
  },
  {
   "cell_type": "markdown",
   "id": "b6956879-bdba-4750-bbdf-e26ade43c72f",
   "metadata": {},
   "source": [
    "*This script takes about 5 minutes on my MacBook Air*"
   ]
  },
  {
   "cell_type": "code",
   "execution_count": 3,
   "id": "a06b80fe-17ee-409a-8f41-ab2427d6f407",
   "metadata": {},
   "outputs": [],
   "source": [
    "import pandas as pd\n",
    "import numpy as np"
   ]
  },
  {
   "cell_type": "code",
   "execution_count": 4,
   "id": "4278237c-f6ad-4cd9-9144-5b7bb134a391",
   "metadata": {},
   "outputs": [],
   "source": [
    "from pathlib import Path\n",
    "import importlib, pickle\n",
    "from sklearn import model_selection\n",
    "from sklearn.preprocessing import LabelEncoder"
   ]
  },
  {
   "cell_type": "code",
   "execution_count": 5,
   "id": "9ef27d75-0483-48fb-8018-245bdb9df81c",
   "metadata": {},
   "outputs": [],
   "source": [
    "# Imputer object for easy dataset conversion to GNN friendly format\n",
    "from sba_gnn.sba_gnn import sg_imputer \n",
    "from sba_gnn.sba_gnn.sg_imputer import GNNImputer"
   ]
  },
  {
   "cell_type": "markdown",
   "id": "faac611d-2f98-4d45-bb70-c64e3890a705",
   "metadata": {},
   "source": [
    "## Input training data, set alternate NAICS"
   ]
  },
  {
   "cell_type": "markdown",
   "id": "f8d04d3e-ea53-4b10-a1b1-480be7318ef6",
   "metadata": {},
   "source": [
    "Import the data, and set an alternate NAICS for test and validation, such that NAICS that are not in the training data are set to the most common NAICS in the same sector in the training data"
   ]
  },
  {
   "cell_type": "markdown",
   "id": "8cdb14e4-d6c3-4b8f-8f06-99b8b47f4526",
   "metadata": {},
   "source": [
    "##### Import train data"
   ]
  },
  {
   "cell_type": "code",
   "execution_count": 6,
   "id": "a7813800-4057-4bac-b61d-1c9bf6b1ebb4",
   "metadata": {},
   "outputs": [],
   "source": [
    "sba_loans = pd.read_parquet(Path(setup.temp_path).joinpath('01_DATA_transformed.parquet'))"
   ]
  },
  {
   "cell_type": "markdown",
   "id": "8f1ecfe2-020d-43cd-911f-66330a3d2e2a",
   "metadata": {},
   "source": [
    "## Get alternative NAICS (test and validation)\n",
    "Map unseen NAICS using hierarchical information.  Use the highest-volume code in a grouping"
   ]
  },
  {
   "cell_type": "code",
   "execution_count": 7,
   "id": "61ea8145-d35b-4bb4-bc56-57e90a4144b1",
   "metadata": {},
   "outputs": [],
   "source": [
    "def get_common_naics(data, group_var= 'NAICS_sector', alt_var = 'NAICS_alt'):\n",
    "    \"\"\"Get an alternative NAICS as the most common value in a larger group\"\"\"\n",
    "    grouped = data.groupby(group_var)\n",
    "    alt_naics = pd.concat([g[['NAICS']].value_counts().head(1).reset_index() \\\n",
    "                              for n, g in grouped], keys=[n for n, g in grouped]) \\\n",
    "        .reset_index(level=0) \\\n",
    "        .reset_index(drop = True) \\\n",
    "        .rename(columns={'level_0':group_var, 'NAICS':alt_var}) \\\n",
    "        [[group_var, alt_var]] \n",
    "    return alt_naics"
   ]
  },
  {
   "cell_type": "code",
   "execution_count": 8,
   "id": "9072cedf-ec70-4c91-b9bd-b18c1cda80ac",
   "metadata": {},
   "outputs": [],
   "source": [
    "def remap_naics(data, group_var= 'NAICS_sector', alt_var = 'NAICS_alt'):\n",
    "    \"\"\"Map unseen test/validation codes to same-group codes\"\"\"\n",
    "    train_data = data[data['dset'] == 'train']\n",
    "    oth_data = data[data['dset'] != 'train']\n",
    "    \n",
    "    # Do not modify the train data \n",
    "    naics_alt_train = train_data[['NAICS', 'LoanNr_ChkDgt']].rename(columns={'NAICS':alt_var})\n",
    "    \n",
    "    # Get alternative NAICS \n",
    "    grp_alt = get_common_naics(train_data, group_var, alt_var)\n",
    "    \n",
    "    # Identify seen/unseen codes\n",
    "    train_naics = train_data[['NAICS']].drop_duplicates()\n",
    "    naics_alt_merge = oth_data[['LoanNr_ChkDgt', 'NAICS', group_var]] \\\n",
    "        .merge(train_naics, how='left', on='NAICS', indicator = True)\n",
    "    \n",
    "    # Don't map seen codes\n",
    "    naics_alt_2 = naics_alt_merge[naics_alt_merge['_merge'] == 'both'] \\\n",
    "        .drop(columns=['_merge', group_var], errors='ignore') \\\n",
    "        .rename(columns={'NAICS':alt_var})\n",
    "    \n",
    "    # Map unseen codes\n",
    "    naics_alt_3 = naics_alt_merge[naics_alt_merge['_merge'] == 'left_only'] \\\n",
    "        .drop(columns=['_merge']) \\\n",
    "        .merge(grp_alt, how='left', on=group_var) \\\n",
    "        .drop(columns=[group_var])\n",
    "    \n",
    "    # If no match, use same unseen code\n",
    "    naics_alt_3[alt_var] = naics_alt_3[alt_var].fillna(naics_alt_3['NAICS'])\n",
    "    naics_alt_3.drop(columns='NAICS', inplace=True)\n",
    "    \n",
    "    naics_alt = pd.concat([naics_alt_train, naics_alt_2, naics_alt_3])[['LoanNr_ChkDgt', alt_var]]\n",
    "    \n",
    "    return data.drop(columns=[alt_var], errors='ignore') \\\n",
    "        .merge(naics_alt, on='LoanNr_ChkDgt')        "
   ]
  },
  {
   "cell_type": "markdown",
   "id": "3136b3b6-e56a-4c33-95d7-4a617e03887c",
   "metadata": {},
   "source": [
    "##### Sector map"
   ]
  },
  {
   "cell_type": "code",
   "execution_count": 9,
   "id": "c25cd99d-3033-4a4a-bab6-71629b5430ed",
   "metadata": {},
   "outputs": [],
   "source": [
    "sba_loans = remap_naics(sba_loans)"
   ]
  },
  {
   "cell_type": "code",
   "execution_count": 10,
   "id": "d2293e0c-413d-4a16-862c-ddde29dfd4b2",
   "metadata": {},
   "outputs": [
    {
     "data": {
      "text/plain": [
       "(688081, 51)"
      ]
     },
     "execution_count": 10,
     "metadata": {},
     "output_type": "execute_result"
    }
   ],
   "source": [
    "sba_loans.shape"
   ]
  },
  {
   "cell_type": "code",
   "execution_count": 11,
   "id": "0724edb4-ade6-4388-b2bd-da664289f041",
   "metadata": {},
   "outputs": [
    {
     "data": {
      "text/plain": [
       "True     654745\n",
       "False     33336\n",
       "Name: count, dtype: int64"
      ]
     },
     "execution_count": 11,
     "metadata": {},
     "output_type": "execute_result"
    }
   ],
   "source": [
    "(sba_loans['NAICS_alt'] == sba_loans['NAICS']).value_counts()"
   ]
  },
  {
   "cell_type": "code",
   "execution_count": 12,
   "id": "2ded866d-2509-4685-a900-efeb27488ab1",
   "metadata": {},
   "outputs": [
    {
     "data": {
      "text/plain": [
       "NAICS_alt\n",
       "False    688081\n",
       "Name: count, dtype: int64"
      ]
     },
     "execution_count": 12,
     "metadata": {},
     "output_type": "execute_result"
    }
   ],
   "source": [
    "sba_loans['NAICS_alt'].isna().value_counts()"
   ]
  },
  {
   "cell_type": "markdown",
   "id": "bb5ede25-be9f-45d1-8af6-4a9f4bd43196",
   "metadata": {},
   "source": [
    "##### Subsector map"
   ]
  },
  {
   "cell_type": "code",
   "execution_count": 13,
   "id": "b9b47a94-9e8f-4e81-b63c-61c211991e48",
   "metadata": {},
   "outputs": [],
   "source": [
    "sba_loans['naics3'] = sba_loans['NAICS'].str[0:3]"
   ]
  },
  {
   "cell_type": "code",
   "execution_count": 15,
   "id": "3381f287-250c-4dd9-a99d-4e6ece818956",
   "metadata": {},
   "outputs": [],
   "source": [
    "sba_loans = remap_naics(sba_loans, group_var='naics3', alt_var = 'NAICS_alt3')"
   ]
  },
  {
   "cell_type": "code",
   "execution_count": 16,
   "id": "974f5522-f2b8-400d-8644-6a65045ac9b2",
   "metadata": {},
   "outputs": [
    {
     "data": {
      "text/plain": [
       "True     654746\n",
       "False     33335\n",
       "Name: count, dtype: int64"
      ]
     },
     "execution_count": 16,
     "metadata": {},
     "output_type": "execute_result"
    }
   ],
   "source": [
    "(sba_loans['NAICS_alt3'] == sba_loans['NAICS']).value_counts()"
   ]
  },
  {
   "cell_type": "code",
   "execution_count": 17,
   "id": "a2d35951-7b35-46cb-b3ae-709415f33300",
   "metadata": {},
   "outputs": [
    {
     "data": {
      "text/plain": [
       "NAICS_alt3\n",
       "False    688081\n",
       "Name: count, dtype: int64"
      ]
     },
     "execution_count": 17,
     "metadata": {},
     "output_type": "execute_result"
    }
   ],
   "source": [
    "sba_loans['NAICS_alt3'].isna().value_counts()"
   ]
  },
  {
   "cell_type": "markdown",
   "id": "79da6e48-e518-4f62-9dd9-44c33339e8a7",
   "metadata": {},
   "source": [
    "##### Industry group map"
   ]
  },
  {
   "cell_type": "code",
   "execution_count": 18,
   "id": "046468f0-821d-4da9-8c36-e23ef5a5533e",
   "metadata": {},
   "outputs": [],
   "source": [
    "sba_loans['naics4'] = sba_loans['NAICS'].str[0:4]"
   ]
  },
  {
   "cell_type": "code",
   "execution_count": 19,
   "id": "967f1eb3-e2f4-4598-b421-716e8b270c80",
   "metadata": {},
   "outputs": [],
   "source": [
    "sba_loans = remap_naics(sba_loans, group_var='naics4', alt_var = 'NAICS_alt4')"
   ]
  },
  {
   "cell_type": "code",
   "execution_count": 20,
   "id": "45f03742-9328-4e3f-9c19-6431c201faca",
   "metadata": {},
   "outputs": [
    {
     "data": {
      "text/plain": [
       "True     659242\n",
       "False     28839\n",
       "Name: count, dtype: int64"
      ]
     },
     "execution_count": 20,
     "metadata": {},
     "output_type": "execute_result"
    }
   ],
   "source": [
    "(sba_loans['NAICS_alt4'] == sba_loans['NAICS']).value_counts()"
   ]
  },
  {
   "cell_type": "code",
   "execution_count": 21,
   "id": "39cc7eab-7d8a-4d14-92ec-dca4cfe17484",
   "metadata": {},
   "outputs": [
    {
     "data": {
      "text/plain": [
       "NAICS_alt4\n",
       "False    688081\n",
       "Name: count, dtype: int64"
      ]
     },
     "execution_count": 21,
     "metadata": {},
     "output_type": "execute_result"
    }
   ],
   "source": [
    "sba_loans['NAICS_alt4'].isna().value_counts()"
   ]
  },
  {
   "cell_type": "markdown",
   "id": "1d1e0bf3-112a-4a7a-a506-3fd5cccd70a1",
   "metadata": {},
   "source": [
    "## Imputer"
   ]
  },
  {
   "cell_type": "code",
   "execution_count": 22,
   "id": "a5f6c362-c1ab-48d8-812b-2b970b06586b",
   "metadata": {},
   "outputs": [],
   "source": [
    "train_df = sba_loans[sba_loans['dset'] == 'train']\n",
    "test_val_df = sba_loans[sba_loans['dset'] != 'train']"
   ]
  },
  {
   "cell_type": "markdown",
   "id": "b63b33c1-f06b-4e31-8fde-59397e090ef2",
   "metadata": {},
   "source": [
    "For a neural network, I need to handle missings and also scale features.  For missing values, I will do a simple median fill for all, but add missing indicators.  "
   ]
  },
  {
   "cell_type": "markdown",
   "id": "f057a0c8-acc9-488f-88e3-5089ea76a81c",
   "metadata": {},
   "source": [
    "To scale the data, I will do a quantile transform for features with > 5 levels.  This is to avoid scaling binary features.  Then I do a Min/Max scaling on all features, so they are in the [0,1] range"
   ]
  },
  {
   "cell_type": "markdown",
   "id": "692eaef2-ba5f-47d8-8aff-3da38d7363ba",
   "metadata": {},
   "source": [
    "I define a class to do this in sg_imputer.  This class wraps several scikit-learn imputers/scalers so that I can easily fit the objects and then transform the data.  In this section, I show some descriptives to justify my imputation/scaling choices, and also fit the scaler"
   ]
  },
  {
   "cell_type": "code",
   "execution_count": 23,
   "id": "a474e18d-6d8d-4aa9-a420-a4b694919611",
   "metadata": {},
   "outputs": [],
   "source": [
    "train_df = sba_loans[sba_loans['dset'] == 'train']"
   ]
  },
  {
   "cell_type": "markdown",
   "id": "2b1b651a-2349-4c5e-9d9e-9987b6972c92",
   "metadata": {},
   "source": [
    "##### Descriptives - explore missingness"
   ]
  },
  {
   "cell_type": "code",
   "execution_count": 24,
   "id": "2f25f209-f37d-4341-afb3-de5807b124bc",
   "metadata": {},
   "outputs": [
    {
     "data": {
      "text/html": [
       "<div>\n",
       "<style scoped>\n",
       "    .dataframe tbody tr th:only-of-type {\n",
       "        vertical-align: middle;\n",
       "    }\n",
       "\n",
       "    .dataframe tbody tr th {\n",
       "        vertical-align: top;\n",
       "    }\n",
       "\n",
       "    .dataframe thead th {\n",
       "        text-align: right;\n",
       "    }\n",
       "</style>\n",
       "<table border=\"1\" class=\"dataframe\">\n",
       "  <thead>\n",
       "    <tr style=\"text-align: right;\">\n",
       "      <th></th>\n",
       "      <th></th>\n",
       "      <th>count_missing</th>\n",
       "    </tr>\n",
       "  </thead>\n",
       "  <tbody>\n",
       "    <tr>\n",
       "      <th>NoEmp</th>\n",
       "      <th>0</th>\n",
       "      <td>0</td>\n",
       "    </tr>\n",
       "    <tr>\n",
       "      <th>CreateJob</th>\n",
       "      <th>0</th>\n",
       "      <td>0</td>\n",
       "    </tr>\n",
       "    <tr>\n",
       "      <th>LowDoc</th>\n",
       "      <th>0</th>\n",
       "      <td>3117</td>\n",
       "    </tr>\n",
       "    <tr>\n",
       "      <th>DisbursementGross</th>\n",
       "      <th>0</th>\n",
       "      <td>0</td>\n",
       "    </tr>\n",
       "    <tr>\n",
       "      <th>new_business</th>\n",
       "      <th>0</th>\n",
       "      <td>544</td>\n",
       "    </tr>\n",
       "    <tr>\n",
       "      <th>urban_flag</th>\n",
       "      <th>0</th>\n",
       "      <td>83339</td>\n",
       "    </tr>\n",
       "    <tr>\n",
       "      <th>franchise_flag</th>\n",
       "      <th>0</th>\n",
       "      <td>0</td>\n",
       "    </tr>\n",
       "  </tbody>\n",
       "</table>\n",
       "</div>"
      ],
      "text/plain": [
       "                     count_missing\n",
       "NoEmp             0              0\n",
       "CreateJob         0              0\n",
       "LowDoc            0           3117\n",
       "DisbursementGross 0              0\n",
       "new_business      0            544\n",
       "urban_flag        0          83339\n",
       "franchise_flag    0              0"
      ]
     },
     "execution_count": 24,
     "metadata": {},
     "output_type": "execute_result"
    }
   ],
   "source": [
    "# Same information, more compact\n",
    "pd.concat([pd.DataFrame([train_df[c].isna().sum()]) for c in setup.predictor_features],\n",
    "         keys=setup.predictor_features).set_axis(['count_missing'], axis=1)"
   ]
  },
  {
   "cell_type": "markdown",
   "id": "9bcabeec-e281-4ab9-9d08-12db4ad53200",
   "metadata": {},
   "source": [
    "Most fields aren't missing too much.  However I must handle those that are.  I will use a median fill, especially since many of the fields with missingness seem to be binary"
   ]
  },
  {
   "cell_type": "markdown",
   "id": "3cecb611-6088-4781-a316-64f686763548",
   "metadata": {
    "tags": []
   },
   "source": [
    "##### Explore scaling"
   ]
  },
  {
   "cell_type": "code",
   "execution_count": 25,
   "id": "541726b4-1d33-4073-8d83-892c84ffed0d",
   "metadata": {},
   "outputs": [
    {
     "data": {
      "text/html": [
       "<div>\n",
       "<style scoped>\n",
       "    .dataframe tbody tr th:only-of-type {\n",
       "        vertical-align: middle;\n",
       "    }\n",
       "\n",
       "    .dataframe tbody tr th {\n",
       "        vertical-align: top;\n",
       "    }\n",
       "\n",
       "    .dataframe thead th {\n",
       "        text-align: right;\n",
       "    }\n",
       "</style>\n",
       "<table border=\"1\" class=\"dataframe\">\n",
       "  <thead>\n",
       "    <tr style=\"text-align: right;\">\n",
       "      <th></th>\n",
       "      <th></th>\n",
       "      <th>0</th>\n",
       "    </tr>\n",
       "  </thead>\n",
       "  <tbody>\n",
       "    <tr>\n",
       "      <th>NoEmp</th>\n",
       "      <th>0</th>\n",
       "      <td>425</td>\n",
       "    </tr>\n",
       "    <tr>\n",
       "      <th>CreateJob</th>\n",
       "      <th>0</th>\n",
       "      <td>184</td>\n",
       "    </tr>\n",
       "    <tr>\n",
       "      <th>LowDoc</th>\n",
       "      <th>0</th>\n",
       "      <td>2</td>\n",
       "    </tr>\n",
       "    <tr>\n",
       "      <th>DisbursementGross</th>\n",
       "      <th>0</th>\n",
       "      <td>78795</td>\n",
       "    </tr>\n",
       "    <tr>\n",
       "      <th>new_business</th>\n",
       "      <th>0</th>\n",
       "      <td>2</td>\n",
       "    </tr>\n",
       "    <tr>\n",
       "      <th>urban_flag</th>\n",
       "      <th>0</th>\n",
       "      <td>2</td>\n",
       "    </tr>\n",
       "    <tr>\n",
       "      <th>franchise_flag</th>\n",
       "      <th>0</th>\n",
       "      <td>2</td>\n",
       "    </tr>\n",
       "  </tbody>\n",
       "</table>\n",
       "</div>"
      ],
      "text/plain": [
       "                         0\n",
       "NoEmp             0    425\n",
       "CreateJob         0    184\n",
       "LowDoc            0      2\n",
       "DisbursementGross 0  78795\n",
       "new_business      0      2\n",
       "urban_flag        0      2\n",
       "franchise_flag    0      2"
      ]
     },
     "execution_count": 25,
     "metadata": {},
     "output_type": "execute_result"
    }
   ],
   "source": [
    "# Level counts\n",
    "feature_level_df = pd.concat([pd.DataFrame([train_df[c].value_counts().count()]) for c in setup.predictor_features],\n",
    "         keys=setup.predictor_features)\n",
    "feature_level_df"
   ]
  },
  {
   "cell_type": "markdown",
   "id": "daa3b3e1-e954-4dc6-8fc1-e08bca77f3d0",
   "metadata": {},
   "source": [
    "A number of features are binary.  I don't need to scale these.  The others must be scaled.  "
   ]
  },
  {
   "cell_type": "markdown",
   "id": "64972ab5-a9ce-42f9-b01f-e682177f3d0b",
   "metadata": {},
   "source": [
    "What I will do is scale features with more than a threshold number of levels using a quantile scaler.  Then I'll use a MinMax scaler on everything to be safe (as a 2 level feature could have values other than 0,1)."
   ]
  },
  {
   "cell_type": "markdown",
   "id": "8405651f-7ead-41de-8ff2-1b73a1f870e0",
   "metadata": {},
   "source": [
    "##### Create imputer to do the median fill and scaling\n",
    "This imputer fills missing values, adding missingness indicator features.  Then it quantile scales features with over 5 levels, and MinMax scales the rest."
   ]
  },
  {
   "cell_type": "code",
   "execution_count": 26,
   "id": "36cab121-be47-444d-bf83-2195fb8f05d7",
   "metadata": {},
   "outputs": [],
   "source": [
    "importlib.reload(sg_imputer)\n",
    "from sba_gnn.sba_gnn.sg_imputer import GNNImputer"
   ]
  },
  {
   "cell_type": "code",
   "execution_count": 27,
   "id": "e89a8a33-9491-42be-b01d-a5fca91ff11c",
   "metadata": {},
   "outputs": [],
   "source": [
    "imputer = GNNImputer(features = setup.predictor_features,\n",
    "                    naics_features = ['NAICS', 'NAICS_alt', 'NAICS_alt3', 'NAICS_alt4'])                               "
   ]
  },
  {
   "cell_type": "code",
   "execution_count": 28,
   "id": "b6462a08-fe49-4b5d-96d6-d80a1696b1ff",
   "metadata": {},
   "outputs": [],
   "source": [
    "train_out = imputer.fit_transform(train_df)"
   ]
  },
  {
   "cell_type": "code",
   "execution_count": 29,
   "id": "95a02134-c0fc-458a-8f00-b5a6662b7cc4",
   "metadata": {},
   "outputs": [
    {
     "data": {
      "text/html": [
       "<div>\n",
       "<style scoped>\n",
       "    .dataframe tbody tr th:only-of-type {\n",
       "        vertical-align: middle;\n",
       "    }\n",
       "\n",
       "    .dataframe tbody tr th {\n",
       "        vertical-align: top;\n",
       "    }\n",
       "\n",
       "    .dataframe thead th {\n",
       "        text-align: right;\n",
       "    }\n",
       "</style>\n",
       "<table border=\"1\" class=\"dataframe\">\n",
       "  <thead>\n",
       "    <tr style=\"text-align: right;\">\n",
       "      <th></th>\n",
       "      <th>NoEmp</th>\n",
       "      <th>CreateJob</th>\n",
       "      <th>LowDoc</th>\n",
       "      <th>DisbursementGross</th>\n",
       "      <th>new_business</th>\n",
       "      <th>urban_flag</th>\n",
       "      <th>franchise_flag</th>\n",
       "      <th>missingindicator_LowDoc</th>\n",
       "      <th>missingindicator_new_business</th>\n",
       "      <th>missingindicator_urban_flag</th>\n",
       "      <th>NAICS</th>\n",
       "      <th>NAICS_alt</th>\n",
       "      <th>NAICS_alt3</th>\n",
       "      <th>NAICS_alt4</th>\n",
       "    </tr>\n",
       "  </thead>\n",
       "  <tbody>\n",
       "    <tr>\n",
       "      <th>count</th>\n",
       "      <td>425594.000000</td>\n",
       "      <td>425594.000000</td>\n",
       "      <td>425594.000000</td>\n",
       "      <td>425594.000000</td>\n",
       "      <td>425594.000000</td>\n",
       "      <td>425594.000000</td>\n",
       "      <td>425594.000000</td>\n",
       "      <td>425594.000000</td>\n",
       "      <td>425594.000000</td>\n",
       "      <td>425594.000000</td>\n",
       "      <td>425594.000000</td>\n",
       "      <td>425594.000000</td>\n",
       "      <td>425594.000000</td>\n",
       "      <td>425594.000000</td>\n",
       "    </tr>\n",
       "    <tr>\n",
       "      <th>mean</th>\n",
       "      <td>-0.003650</td>\n",
       "      <td>-0.424033</td>\n",
       "      <td>-0.805820</td>\n",
       "      <td>-0.000803</td>\n",
       "      <td>-0.440904</td>\n",
       "      <td>0.702341</td>\n",
       "      <td>-0.898283</td>\n",
       "      <td>-0.985352</td>\n",
       "      <td>-0.997444</td>\n",
       "      <td>-0.608364</td>\n",
       "      <td>816.985373</td>\n",
       "      <td>816.985373</td>\n",
       "      <td>816.985373</td>\n",
       "      <td>816.985373</td>\n",
       "    </tr>\n",
       "    <tr>\n",
       "      <th>std</th>\n",
       "      <td>0.574311</td>\n",
       "      <td>0.795742</td>\n",
       "      <td>0.592162</td>\n",
       "      <td>0.583255</td>\n",
       "      <td>0.897555</td>\n",
       "      <td>0.711842</td>\n",
       "      <td>0.439417</td>\n",
       "      <td>0.170532</td>\n",
       "      <td>0.071459</td>\n",
       "      <td>0.793659</td>\n",
       "      <td>342.255738</td>\n",
       "      <td>342.255738</td>\n",
       "      <td>342.255738</td>\n",
       "      <td>342.255738</td>\n",
       "    </tr>\n",
       "    <tr>\n",
       "      <th>min</th>\n",
       "      <td>-1.000000</td>\n",
       "      <td>-1.000000</td>\n",
       "      <td>-1.000000</td>\n",
       "      <td>-1.000000</td>\n",
       "      <td>-1.000000</td>\n",
       "      <td>-1.000000</td>\n",
       "      <td>-1.000000</td>\n",
       "      <td>-1.000000</td>\n",
       "      <td>-1.000000</td>\n",
       "      <td>-1.000000</td>\n",
       "      <td>1.000000</td>\n",
       "      <td>1.000000</td>\n",
       "      <td>1.000000</td>\n",
       "      <td>1.000000</td>\n",
       "    </tr>\n",
       "    <tr>\n",
       "      <th>25%</th>\n",
       "      <td>-0.440440</td>\n",
       "      <td>-1.000000</td>\n",
       "      <td>-1.000000</td>\n",
       "      <td>-0.509510</td>\n",
       "      <td>-1.000000</td>\n",
       "      <td>1.000000</td>\n",
       "      <td>-1.000000</td>\n",
       "      <td>-1.000000</td>\n",
       "      <td>-1.000000</td>\n",
       "      <td>-1.000000</td>\n",
       "      <td>687.000000</td>\n",
       "      <td>687.000000</td>\n",
       "      <td>687.000000</td>\n",
       "      <td>687.000000</td>\n",
       "    </tr>\n",
       "    <tr>\n",
       "      <th>50%</th>\n",
       "      <td>0.022022</td>\n",
       "      <td>-1.000000</td>\n",
       "      <td>-1.000000</td>\n",
       "      <td>-0.003003</td>\n",
       "      <td>-1.000000</td>\n",
       "      <td>1.000000</td>\n",
       "      <td>-1.000000</td>\n",
       "      <td>-1.000000</td>\n",
       "      <td>-1.000000</td>\n",
       "      <td>-1.000000</td>\n",
       "      <td>897.000000</td>\n",
       "      <td>897.000000</td>\n",
       "      <td>897.000000</td>\n",
       "      <td>897.000000</td>\n",
       "    </tr>\n",
       "    <tr>\n",
       "      <th>75%</th>\n",
       "      <td>0.499499</td>\n",
       "      <td>0.558559</td>\n",
       "      <td>-1.000000</td>\n",
       "      <td>0.514095</td>\n",
       "      <td>1.000000</td>\n",
       "      <td>1.000000</td>\n",
       "      <td>-1.000000</td>\n",
       "      <td>-1.000000</td>\n",
       "      <td>-1.000000</td>\n",
       "      <td>-1.000000</td>\n",
       "      <td>1094.000000</td>\n",
       "      <td>1094.000000</td>\n",
       "      <td>1094.000000</td>\n",
       "      <td>1094.000000</td>\n",
       "    </tr>\n",
       "    <tr>\n",
       "      <th>max</th>\n",
       "      <td>1.000000</td>\n",
       "      <td>1.000000</td>\n",
       "      <td>1.000000</td>\n",
       "      <td>1.000000</td>\n",
       "      <td>1.000000</td>\n",
       "      <td>1.000000</td>\n",
       "      <td>1.000000</td>\n",
       "      <td>1.000000</td>\n",
       "      <td>1.000000</td>\n",
       "      <td>1.000000</td>\n",
       "      <td>1232.000000</td>\n",
       "      <td>1232.000000</td>\n",
       "      <td>1232.000000</td>\n",
       "      <td>1232.000000</td>\n",
       "    </tr>\n",
       "  </tbody>\n",
       "</table>\n",
       "</div>"
      ],
      "text/plain": [
       "               NoEmp      CreateJob         LowDoc  DisbursementGross  \\\n",
       "count  425594.000000  425594.000000  425594.000000      425594.000000   \n",
       "mean       -0.003650      -0.424033      -0.805820          -0.000803   \n",
       "std         0.574311       0.795742       0.592162           0.583255   \n",
       "min        -1.000000      -1.000000      -1.000000          -1.000000   \n",
       "25%        -0.440440      -1.000000      -1.000000          -0.509510   \n",
       "50%         0.022022      -1.000000      -1.000000          -0.003003   \n",
       "75%         0.499499       0.558559      -1.000000           0.514095   \n",
       "max         1.000000       1.000000       1.000000           1.000000   \n",
       "\n",
       "        new_business     urban_flag  franchise_flag  missingindicator_LowDoc  \\\n",
       "count  425594.000000  425594.000000   425594.000000            425594.000000   \n",
       "mean       -0.440904       0.702341       -0.898283                -0.985352   \n",
       "std         0.897555       0.711842        0.439417                 0.170532   \n",
       "min        -1.000000      -1.000000       -1.000000                -1.000000   \n",
       "25%        -1.000000       1.000000       -1.000000                -1.000000   \n",
       "50%        -1.000000       1.000000       -1.000000                -1.000000   \n",
       "75%         1.000000       1.000000       -1.000000                -1.000000   \n",
       "max         1.000000       1.000000        1.000000                 1.000000   \n",
       "\n",
       "       missingindicator_new_business  missingindicator_urban_flag  \\\n",
       "count                  425594.000000                425594.000000   \n",
       "mean                       -0.997444                    -0.608364   \n",
       "std                         0.071459                     0.793659   \n",
       "min                        -1.000000                    -1.000000   \n",
       "25%                        -1.000000                    -1.000000   \n",
       "50%                        -1.000000                    -1.000000   \n",
       "75%                        -1.000000                    -1.000000   \n",
       "max                         1.000000                     1.000000   \n",
       "\n",
       "               NAICS      NAICS_alt     NAICS_alt3     NAICS_alt4  \n",
       "count  425594.000000  425594.000000  425594.000000  425594.000000  \n",
       "mean      816.985373     816.985373     816.985373     816.985373  \n",
       "std       342.255738     342.255738     342.255738     342.255738  \n",
       "min         1.000000       1.000000       1.000000       1.000000  \n",
       "25%       687.000000     687.000000     687.000000     687.000000  \n",
       "50%       897.000000     897.000000     897.000000     897.000000  \n",
       "75%      1094.000000    1094.000000    1094.000000    1094.000000  \n",
       "max      1232.000000    1232.000000    1232.000000    1232.000000  "
      ]
     },
     "execution_count": 29,
     "metadata": {},
     "output_type": "execute_result"
    }
   ],
   "source": [
    "train_out.describe()"
   ]
  },
  {
   "cell_type": "code",
   "execution_count": 30,
   "id": "6369a1b8-06be-4997-9608-2c5fbbdf6b05",
   "metadata": {},
   "outputs": [],
   "source": [
    "with open(Path(setup.temp_path).joinpath('10_DATA_imputer.pkl'), 'wb') as fout:\n",
    "    pickle.dump(imputer, fout)"
   ]
  },
  {
   "cell_type": "code",
   "execution_count": 31,
   "id": "4f937099-9be8-4225-b9c3-c87744a27344",
   "metadata": {},
   "outputs": [],
   "source": [
    "with open(Path(setup.temp_path).joinpath('10_DATA_features.pkl'), 'wb') as fout:\n",
    "    pickle.dump(imputer.features_out, fout)"
   ]
  },
  {
   "cell_type": "code",
   "execution_count": 32,
   "id": "73be0dfd-f45a-47b8-85fc-6a00bdc36396",
   "metadata": {},
   "outputs": [
    {
     "name": "stdout",
     "output_type": "stream",
     "text": [
      "NAICS encoder max num: 1232\n"
     ]
    }
   ],
   "source": [
    "naics_max_levels = imputer.get_naics_encoder_levels()\n",
    "print(f'NAICS encoder max num: {naics_max_levels}')\n",
    "with open(Path(setup.temp_path).joinpath('10_DATA_naics_max_levels.pkl'), 'wb') as fout:\n",
    "    pickle.dump(naics_max_levels, fout)"
   ]
  },
  {
   "cell_type": "markdown",
   "id": "d0d1b862-6f1e-46fe-b7c7-b50f8bf259ab",
   "metadata": {},
   "source": [
    "## Transform Test, Validation Data"
   ]
  },
  {
   "cell_type": "code",
   "execution_count": 33,
   "id": "7f65e91f-eca0-40e3-8bd5-7614bafbb05e",
   "metadata": {},
   "outputs": [],
   "source": [
    "test_df = sba_loans[sba_loans['dset'] == 'test']\n",
    "val_df = sba_loans[sba_loans['dset'] == 'val']"
   ]
  },
  {
   "cell_type": "code",
   "execution_count": 34,
   "id": "475c05c5-7a12-4e67-ab99-d0eab7730bf2",
   "metadata": {},
   "outputs": [],
   "source": [
    "test_out = imputer.transform(test_df)"
   ]
  },
  {
   "cell_type": "code",
   "execution_count": 35,
   "id": "0c0e36f1-be1a-4cc7-a317-04f7daa48a89",
   "metadata": {},
   "outputs": [],
   "source": [
    "val_out = imputer.transform(val_df)"
   ]
  },
  {
   "cell_type": "code",
   "execution_count": 36,
   "id": "1a1b4b8c-79d3-4747-82bb-28fc7592f5c8",
   "metadata": {},
   "outputs": [
    {
     "data": {
      "text/html": [
       "<div>\n",
       "<style scoped>\n",
       "    .dataframe tbody tr th:only-of-type {\n",
       "        vertical-align: middle;\n",
       "    }\n",
       "\n",
       "    .dataframe tbody tr th {\n",
       "        vertical-align: top;\n",
       "    }\n",
       "\n",
       "    .dataframe thead th {\n",
       "        text-align: right;\n",
       "    }\n",
       "</style>\n",
       "<table border=\"1\" class=\"dataframe\">\n",
       "  <thead>\n",
       "    <tr style=\"text-align: right;\">\n",
       "      <th></th>\n",
       "      <th>DisbursementGross</th>\n",
       "      <th>NoEmp</th>\n",
       "      <th>DisbursementGross</th>\n",
       "      <th>NoEmp</th>\n",
       "    </tr>\n",
       "  </thead>\n",
       "  <tbody>\n",
       "    <tr>\n",
       "      <th>DisbursementGross</th>\n",
       "      <td>1.000000</td>\n",
       "      <td>0.442105</td>\n",
       "      <td>1.000000</td>\n",
       "      <td>0.442105</td>\n",
       "    </tr>\n",
       "    <tr>\n",
       "      <th>NoEmp</th>\n",
       "      <td>0.442105</td>\n",
       "      <td>1.000000</td>\n",
       "      <td>0.442105</td>\n",
       "      <td>1.000000</td>\n",
       "    </tr>\n",
       "    <tr>\n",
       "      <th>DisbursementGross</th>\n",
       "      <td>1.000000</td>\n",
       "      <td>0.442105</td>\n",
       "      <td>1.000000</td>\n",
       "      <td>0.442105</td>\n",
       "    </tr>\n",
       "    <tr>\n",
       "      <th>NoEmp</th>\n",
       "      <td>0.442105</td>\n",
       "      <td>1.000000</td>\n",
       "      <td>0.442105</td>\n",
       "      <td>1.000000</td>\n",
       "    </tr>\n",
       "  </tbody>\n",
       "</table>\n",
       "</div>"
      ],
      "text/plain": [
       "                   DisbursementGross     NoEmp  DisbursementGross     NoEmp\n",
       "DisbursementGross           1.000000  0.442105           1.000000  0.442105\n",
       "NoEmp                       0.442105  1.000000           0.442105  1.000000\n",
       "DisbursementGross           1.000000  0.442105           1.000000  0.442105\n",
       "NoEmp                       0.442105  1.000000           0.442105  1.000000"
      ]
     },
     "execution_count": 36,
     "metadata": {},
     "output_type": "execute_result"
    }
   ],
   "source": [
    "pd.concat([test_out[['DisbursementGross', 'NoEmp']], test_df[['DisbursementGross', 'NoEmp']]],\n",
    "          axis=1).corr(method='spearman')"
   ]
  },
  {
   "cell_type": "code",
   "execution_count": 37,
   "id": "016a2caa-ddce-426b-bd70-047fac669794",
   "metadata": {},
   "outputs": [
    {
     "data": {
      "text/html": [
       "<div>\n",
       "<style scoped>\n",
       "    .dataframe tbody tr th:only-of-type {\n",
       "        vertical-align: middle;\n",
       "    }\n",
       "\n",
       "    .dataframe tbody tr th {\n",
       "        vertical-align: top;\n",
       "    }\n",
       "\n",
       "    .dataframe thead th {\n",
       "        text-align: right;\n",
       "    }\n",
       "</style>\n",
       "<table border=\"1\" class=\"dataframe\">\n",
       "  <thead>\n",
       "    <tr style=\"text-align: right;\">\n",
       "      <th></th>\n",
       "      <th>NoEmp</th>\n",
       "      <th>CreateJob</th>\n",
       "      <th>LowDoc</th>\n",
       "      <th>DisbursementGross</th>\n",
       "      <th>new_business</th>\n",
       "      <th>urban_flag</th>\n",
       "      <th>franchise_flag</th>\n",
       "      <th>missingindicator_LowDoc</th>\n",
       "      <th>missingindicator_new_business</th>\n",
       "      <th>missingindicator_urban_flag</th>\n",
       "      <th>NAICS</th>\n",
       "      <th>NAICS_alt</th>\n",
       "      <th>NAICS_alt3</th>\n",
       "      <th>NAICS_alt4</th>\n",
       "    </tr>\n",
       "  </thead>\n",
       "  <tbody>\n",
       "    <tr>\n",
       "      <th>count</th>\n",
       "      <td>126041.000000</td>\n",
       "      <td>126041.000000</td>\n",
       "      <td>126041.000000</td>\n",
       "      <td>126041.000000</td>\n",
       "      <td>126041.000000</td>\n",
       "      <td>126041.000000</td>\n",
       "      <td>126041.000000</td>\n",
       "      <td>126041.000000</td>\n",
       "      <td>126041.000000</td>\n",
       "      <td>126041.000000</td>\n",
       "      <td>126041.000000</td>\n",
       "      <td>126041.000000</td>\n",
       "      <td>126041.000000</td>\n",
       "      <td>126041.000000</td>\n",
       "    </tr>\n",
       "    <tr>\n",
       "      <th>mean</th>\n",
       "      <td>-0.005281</td>\n",
       "      <td>-0.420396</td>\n",
       "      <td>-0.802905</td>\n",
       "      <td>-0.001249</td>\n",
       "      <td>-0.442769</td>\n",
       "      <td>0.704160</td>\n",
       "      <td>-0.898049</td>\n",
       "      <td>-0.985402</td>\n",
       "      <td>-0.997937</td>\n",
       "      <td>-0.606557</td>\n",
       "      <td>814.446014</td>\n",
       "      <td>814.470783</td>\n",
       "      <td>814.458248</td>\n",
       "      <td>814.457399</td>\n",
       "    </tr>\n",
       "    <tr>\n",
       "      <th>std</th>\n",
       "      <td>0.574275</td>\n",
       "      <td>0.796882</td>\n",
       "      <td>0.596109</td>\n",
       "      <td>0.583268</td>\n",
       "      <td>0.896639</td>\n",
       "      <td>0.710044</td>\n",
       "      <td>0.439897</td>\n",
       "      <td>0.170247</td>\n",
       "      <td>0.064198</td>\n",
       "      <td>0.795043</td>\n",
       "      <td>343.605139</td>\n",
       "      <td>343.572120</td>\n",
       "      <td>343.582323</td>\n",
       "      <td>343.584014</td>\n",
       "    </tr>\n",
       "    <tr>\n",
       "      <th>min</th>\n",
       "      <td>-1.000000</td>\n",
       "      <td>-1.000000</td>\n",
       "      <td>-1.000000</td>\n",
       "      <td>-1.000000</td>\n",
       "      <td>-1.000000</td>\n",
       "      <td>-1.000000</td>\n",
       "      <td>-1.000000</td>\n",
       "      <td>-1.000000</td>\n",
       "      <td>-1.000000</td>\n",
       "      <td>-1.000000</td>\n",
       "      <td>0.000000</td>\n",
       "      <td>1.000000</td>\n",
       "      <td>0.000000</td>\n",
       "      <td>0.000000</td>\n",
       "    </tr>\n",
       "    <tr>\n",
       "      <th>25%</th>\n",
       "      <td>-0.440440</td>\n",
       "      <td>-1.000000</td>\n",
       "      <td>-1.000000</td>\n",
       "      <td>-0.511081</td>\n",
       "      <td>-1.000000</td>\n",
       "      <td>1.000000</td>\n",
       "      <td>-1.000000</td>\n",
       "      <td>-1.000000</td>\n",
       "      <td>-1.000000</td>\n",
       "      <td>-1.000000</td>\n",
       "      <td>680.000000</td>\n",
       "      <td>680.000000</td>\n",
       "      <td>680.000000</td>\n",
       "      <td>680.000000</td>\n",
       "    </tr>\n",
       "    <tr>\n",
       "      <th>50%</th>\n",
       "      <td>0.022022</td>\n",
       "      <td>-1.000000</td>\n",
       "      <td>-1.000000</td>\n",
       "      <td>-0.003003</td>\n",
       "      <td>-1.000000</td>\n",
       "      <td>1.000000</td>\n",
       "      <td>-1.000000</td>\n",
       "      <td>-1.000000</td>\n",
       "      <td>-1.000000</td>\n",
       "      <td>-1.000000</td>\n",
       "      <td>890.000000</td>\n",
       "      <td>890.000000</td>\n",
       "      <td>890.000000</td>\n",
       "      <td>890.000000</td>\n",
       "    </tr>\n",
       "    <tr>\n",
       "      <th>75%</th>\n",
       "      <td>0.499499</td>\n",
       "      <td>0.558559</td>\n",
       "      <td>-1.000000</td>\n",
       "      <td>0.513514</td>\n",
       "      <td>1.000000</td>\n",
       "      <td>1.000000</td>\n",
       "      <td>-1.000000</td>\n",
       "      <td>-1.000000</td>\n",
       "      <td>-1.000000</td>\n",
       "      <td>-1.000000</td>\n",
       "      <td>1093.000000</td>\n",
       "      <td>1093.000000</td>\n",
       "      <td>1093.000000</td>\n",
       "      <td>1093.000000</td>\n",
       "    </tr>\n",
       "    <tr>\n",
       "      <th>max</th>\n",
       "      <td>1.000000</td>\n",
       "      <td>1.000000</td>\n",
       "      <td>1.000000</td>\n",
       "      <td>1.000000</td>\n",
       "      <td>1.000000</td>\n",
       "      <td>1.000000</td>\n",
       "      <td>1.000000</td>\n",
       "      <td>1.000000</td>\n",
       "      <td>1.000000</td>\n",
       "      <td>1.000000</td>\n",
       "      <td>1232.000000</td>\n",
       "      <td>1232.000000</td>\n",
       "      <td>1232.000000</td>\n",
       "      <td>1232.000000</td>\n",
       "    </tr>\n",
       "  </tbody>\n",
       "</table>\n",
       "</div>"
      ],
      "text/plain": [
       "               NoEmp      CreateJob         LowDoc  DisbursementGross  \\\n",
       "count  126041.000000  126041.000000  126041.000000      126041.000000   \n",
       "mean       -0.005281      -0.420396      -0.802905          -0.001249   \n",
       "std         0.574275       0.796882       0.596109           0.583268   \n",
       "min        -1.000000      -1.000000      -1.000000          -1.000000   \n",
       "25%        -0.440440      -1.000000      -1.000000          -0.511081   \n",
       "50%         0.022022      -1.000000      -1.000000          -0.003003   \n",
       "75%         0.499499       0.558559      -1.000000           0.513514   \n",
       "max         1.000000       1.000000       1.000000           1.000000   \n",
       "\n",
       "        new_business     urban_flag  franchise_flag  missingindicator_LowDoc  \\\n",
       "count  126041.000000  126041.000000   126041.000000            126041.000000   \n",
       "mean       -0.442769       0.704160       -0.898049                -0.985402   \n",
       "std         0.896639       0.710044        0.439897                 0.170247   \n",
       "min        -1.000000      -1.000000       -1.000000                -1.000000   \n",
       "25%        -1.000000       1.000000       -1.000000                -1.000000   \n",
       "50%        -1.000000       1.000000       -1.000000                -1.000000   \n",
       "75%         1.000000       1.000000       -1.000000                -1.000000   \n",
       "max         1.000000       1.000000        1.000000                 1.000000   \n",
       "\n",
       "       missingindicator_new_business  missingindicator_urban_flag  \\\n",
       "count                  126041.000000                126041.000000   \n",
       "mean                       -0.997937                    -0.606557   \n",
       "std                         0.064198                     0.795043   \n",
       "min                        -1.000000                    -1.000000   \n",
       "25%                        -1.000000                    -1.000000   \n",
       "50%                        -1.000000                    -1.000000   \n",
       "75%                        -1.000000                    -1.000000   \n",
       "max                         1.000000                     1.000000   \n",
       "\n",
       "               NAICS      NAICS_alt     NAICS_alt3     NAICS_alt4  \n",
       "count  126041.000000  126041.000000  126041.000000  126041.000000  \n",
       "mean      814.446014     814.470783     814.458248     814.457399  \n",
       "std       343.605139     343.572120     343.582323     343.584014  \n",
       "min         0.000000       1.000000       0.000000       0.000000  \n",
       "25%       680.000000     680.000000     680.000000     680.000000  \n",
       "50%       890.000000     890.000000     890.000000     890.000000  \n",
       "75%      1093.000000    1093.000000    1093.000000    1093.000000  \n",
       "max      1232.000000    1232.000000    1232.000000    1232.000000  "
      ]
     },
     "execution_count": 37,
     "metadata": {},
     "output_type": "execute_result"
    }
   ],
   "source": [
    "val_out.describe()"
   ]
  },
  {
   "cell_type": "code",
   "execution_count": 38,
   "id": "5d1adc3b-0029-412a-87bb-e45c9a6587ca",
   "metadata": {},
   "outputs": [
    {
     "data": {
      "text/html": [
       "<div>\n",
       "<style scoped>\n",
       "    .dataframe tbody tr th:only-of-type {\n",
       "        vertical-align: middle;\n",
       "    }\n",
       "\n",
       "    .dataframe tbody tr th {\n",
       "        vertical-align: top;\n",
       "    }\n",
       "\n",
       "    .dataframe thead th {\n",
       "        text-align: right;\n",
       "    }\n",
       "</style>\n",
       "<table border=\"1\" class=\"dataframe\">\n",
       "  <thead>\n",
       "    <tr style=\"text-align: right;\">\n",
       "      <th></th>\n",
       "      <th>NoEmp</th>\n",
       "      <th>CreateJob</th>\n",
       "      <th>LowDoc</th>\n",
       "      <th>DisbursementGross</th>\n",
       "      <th>new_business</th>\n",
       "      <th>urban_flag</th>\n",
       "      <th>franchise_flag</th>\n",
       "      <th>missingindicator_LowDoc</th>\n",
       "      <th>missingindicator_new_business</th>\n",
       "      <th>missingindicator_urban_flag</th>\n",
       "      <th>NAICS</th>\n",
       "      <th>NAICS_alt</th>\n",
       "      <th>NAICS_alt3</th>\n",
       "      <th>NAICS_alt4</th>\n",
       "    </tr>\n",
       "  </thead>\n",
       "  <tbody>\n",
       "    <tr>\n",
       "      <th>count</th>\n",
       "      <td>136446.000000</td>\n",
       "      <td>136446.000000</td>\n",
       "      <td>136446.000000</td>\n",
       "      <td>136446.000000</td>\n",
       "      <td>136446.000000</td>\n",
       "      <td>136446.000000</td>\n",
       "      <td>136446.000000</td>\n",
       "      <td>136446.000000</td>\n",
       "      <td>136446.000000</td>\n",
       "      <td>136446.000000</td>\n",
       "      <td>136446.000000</td>\n",
       "      <td>136446.000000</td>\n",
       "      <td>136446.000000</td>\n",
       "      <td>136446.000000</td>\n",
       "    </tr>\n",
       "    <tr>\n",
       "      <th>mean</th>\n",
       "      <td>0.010020</td>\n",
       "      <td>-0.423566</td>\n",
       "      <td>-0.802134</td>\n",
       "      <td>-0.003390</td>\n",
       "      <td>-0.455448</td>\n",
       "      <td>0.715477</td>\n",
       "      <td>-0.903889</td>\n",
       "      <td>-0.985122</td>\n",
       "      <td>-0.997420</td>\n",
       "      <td>-0.582223</td>\n",
       "      <td>616.290606</td>\n",
       "      <td>801.504654</td>\n",
       "      <td>800.886446</td>\n",
       "      <td>796.554696</td>\n",
       "    </tr>\n",
       "    <tr>\n",
       "      <th>std</th>\n",
       "      <td>0.576731</td>\n",
       "      <td>0.796105</td>\n",
       "      <td>0.597146</td>\n",
       "      <td>0.582376</td>\n",
       "      <td>0.890266</td>\n",
       "      <td>0.698639</td>\n",
       "      <td>0.427769</td>\n",
       "      <td>0.171855</td>\n",
       "      <td>0.071784</td>\n",
       "      <td>0.813032</td>\n",
       "      <td>460.186502</td>\n",
       "      <td>348.359537</td>\n",
       "      <td>352.009014</td>\n",
       "      <td>361.009055</td>\n",
       "    </tr>\n",
       "    <tr>\n",
       "      <th>min</th>\n",
       "      <td>-1.000000</td>\n",
       "      <td>-1.000000</td>\n",
       "      <td>-1.000000</td>\n",
       "      <td>-1.000000</td>\n",
       "      <td>-1.000000</td>\n",
       "      <td>-1.000000</td>\n",
       "      <td>-1.000000</td>\n",
       "      <td>-1.000000</td>\n",
       "      <td>-1.000000</td>\n",
       "      <td>-1.000000</td>\n",
       "      <td>0.000000</td>\n",
       "      <td>1.000000</td>\n",
       "      <td>1.000000</td>\n",
       "      <td>0.000000</td>\n",
       "    </tr>\n",
       "    <tr>\n",
       "      <th>25%</th>\n",
       "      <td>-0.440440</td>\n",
       "      <td>-1.000000</td>\n",
       "      <td>-1.000000</td>\n",
       "      <td>-0.512507</td>\n",
       "      <td>-1.000000</td>\n",
       "      <td>1.000000</td>\n",
       "      <td>-1.000000</td>\n",
       "      <td>-1.000000</td>\n",
       "      <td>-1.000000</td>\n",
       "      <td>-1.000000</td>\n",
       "      <td>31.250000</td>\n",
       "      <td>625.000000</td>\n",
       "      <td>669.000000</td>\n",
       "      <td>664.000000</td>\n",
       "    </tr>\n",
       "    <tr>\n",
       "      <th>50%</th>\n",
       "      <td>0.022022</td>\n",
       "      <td>-1.000000</td>\n",
       "      <td>-1.000000</td>\n",
       "      <td>-0.003003</td>\n",
       "      <td>-1.000000</td>\n",
       "      <td>1.000000</td>\n",
       "      <td>-1.000000</td>\n",
       "      <td>-1.000000</td>\n",
       "      <td>-1.000000</td>\n",
       "      <td>-1.000000</td>\n",
       "      <td>756.000000</td>\n",
       "      <td>854.000000</td>\n",
       "      <td>855.000000</td>\n",
       "      <td>855.000000</td>\n",
       "    </tr>\n",
       "    <tr>\n",
       "      <th>75%</th>\n",
       "      <td>0.499499</td>\n",
       "      <td>0.558559</td>\n",
       "      <td>-1.000000</td>\n",
       "      <td>0.510119</td>\n",
       "      <td>1.000000</td>\n",
       "      <td>1.000000</td>\n",
       "      <td>-1.000000</td>\n",
       "      <td>-1.000000</td>\n",
       "      <td>-1.000000</td>\n",
       "      <td>-1.000000</td>\n",
       "      <td>1057.000000</td>\n",
       "      <td>1093.000000</td>\n",
       "      <td>1093.000000</td>\n",
       "      <td>1093.000000</td>\n",
       "    </tr>\n",
       "    <tr>\n",
       "      <th>max</th>\n",
       "      <td>1.000000</td>\n",
       "      <td>1.000000</td>\n",
       "      <td>1.000000</td>\n",
       "      <td>1.000000</td>\n",
       "      <td>1.000000</td>\n",
       "      <td>1.000000</td>\n",
       "      <td>1.000000</td>\n",
       "      <td>1.000000</td>\n",
       "      <td>1.000000</td>\n",
       "      <td>1.000000</td>\n",
       "      <td>1232.000000</td>\n",
       "      <td>1232.000000</td>\n",
       "      <td>1232.000000</td>\n",
       "      <td>1232.000000</td>\n",
       "    </tr>\n",
       "  </tbody>\n",
       "</table>\n",
       "</div>"
      ],
      "text/plain": [
       "               NoEmp      CreateJob         LowDoc  DisbursementGross  \\\n",
       "count  136446.000000  136446.000000  136446.000000      136446.000000   \n",
       "mean        0.010020      -0.423566      -0.802134          -0.003390   \n",
       "std         0.576731       0.796105       0.597146           0.582376   \n",
       "min        -1.000000      -1.000000      -1.000000          -1.000000   \n",
       "25%        -0.440440      -1.000000      -1.000000          -0.512507   \n",
       "50%         0.022022      -1.000000      -1.000000          -0.003003   \n",
       "75%         0.499499       0.558559      -1.000000           0.510119   \n",
       "max         1.000000       1.000000       1.000000           1.000000   \n",
       "\n",
       "        new_business     urban_flag  franchise_flag  missingindicator_LowDoc  \\\n",
       "count  136446.000000  136446.000000   136446.000000            136446.000000   \n",
       "mean       -0.455448       0.715477       -0.903889                -0.985122   \n",
       "std         0.890266       0.698639        0.427769                 0.171855   \n",
       "min        -1.000000      -1.000000       -1.000000                -1.000000   \n",
       "25%        -1.000000       1.000000       -1.000000                -1.000000   \n",
       "50%        -1.000000       1.000000       -1.000000                -1.000000   \n",
       "75%         1.000000       1.000000       -1.000000                -1.000000   \n",
       "max         1.000000       1.000000        1.000000                 1.000000   \n",
       "\n",
       "       missingindicator_new_business  missingindicator_urban_flag  \\\n",
       "count                  136446.000000                136446.000000   \n",
       "mean                       -0.997420                    -0.582223   \n",
       "std                         0.071784                     0.813032   \n",
       "min                        -1.000000                    -1.000000   \n",
       "25%                        -1.000000                    -1.000000   \n",
       "50%                        -1.000000                    -1.000000   \n",
       "75%                        -1.000000                    -1.000000   \n",
       "max                         1.000000                     1.000000   \n",
       "\n",
       "               NAICS      NAICS_alt     NAICS_alt3     NAICS_alt4  \n",
       "count  136446.000000  136446.000000  136446.000000  136446.000000  \n",
       "mean      616.290606     801.504654     800.886446     796.554696  \n",
       "std       460.186502     348.359537     352.009014     361.009055  \n",
       "min         0.000000       1.000000       1.000000       0.000000  \n",
       "25%        31.250000     625.000000     669.000000     664.000000  \n",
       "50%       756.000000     854.000000     855.000000     855.000000  \n",
       "75%      1057.000000    1093.000000    1093.000000    1093.000000  \n",
       "max      1232.000000    1232.000000    1232.000000    1232.000000  "
      ]
     },
     "execution_count": 38,
     "metadata": {},
     "output_type": "execute_result"
    }
   ],
   "source": [
    "test_out.describe()"
   ]
  },
  {
   "cell_type": "code",
   "execution_count": 39,
   "id": "7f2d0236-ac42-43d3-ad65-d055675cb9c9",
   "metadata": {},
   "outputs": [
    {
     "data": {
      "text/html": [
       "<div>\n",
       "<style scoped>\n",
       "    .dataframe tbody tr th:only-of-type {\n",
       "        vertical-align: middle;\n",
       "    }\n",
       "\n",
       "    .dataframe tbody tr th {\n",
       "        vertical-align: top;\n",
       "    }\n",
       "\n",
       "    .dataframe thead th {\n",
       "        text-align: right;\n",
       "    }\n",
       "</style>\n",
       "<table border=\"1\" class=\"dataframe\">\n",
       "  <thead>\n",
       "    <tr style=\"text-align: right;\">\n",
       "      <th></th>\n",
       "      <th>NAICS</th>\n",
       "      <th>NAICS_alt</th>\n",
       "    </tr>\n",
       "  </thead>\n",
       "  <tbody>\n",
       "    <tr>\n",
       "      <th>NAICS</th>\n",
       "      <td>1.000000</td>\n",
       "      <td>0.608976</td>\n",
       "    </tr>\n",
       "    <tr>\n",
       "      <th>NAICS_alt</th>\n",
       "      <td>0.608976</td>\n",
       "      <td>1.000000</td>\n",
       "    </tr>\n",
       "  </tbody>\n",
       "</table>\n",
       "</div>"
      ],
      "text/plain": [
       "              NAICS  NAICS_alt\n",
       "NAICS      1.000000   0.608976\n",
       "NAICS_alt  0.608976   1.000000"
      ]
     },
     "execution_count": 39,
     "metadata": {},
     "output_type": "execute_result"
    }
   ],
   "source": [
    "test_out[['NAICS', 'NAICS_alt']].corr()"
   ]
  },
  {
   "cell_type": "code",
   "execution_count": 40,
   "id": "6e63b424-b9aa-4938-8a07-12b549784540",
   "metadata": {},
   "outputs": [
    {
     "data": {
      "text/html": [
       "<div>\n",
       "<style scoped>\n",
       "    .dataframe tbody tr th:only-of-type {\n",
       "        vertical-align: middle;\n",
       "    }\n",
       "\n",
       "    .dataframe tbody tr th {\n",
       "        vertical-align: top;\n",
       "    }\n",
       "\n",
       "    .dataframe thead th {\n",
       "        text-align: right;\n",
       "    }\n",
       "</style>\n",
       "<table border=\"1\" class=\"dataframe\">\n",
       "  <thead>\n",
       "    <tr style=\"text-align: right;\">\n",
       "      <th></th>\n",
       "      <th>NAICS</th>\n",
       "      <th>NAICS_alt</th>\n",
       "    </tr>\n",
       "  </thead>\n",
       "  <tbody>\n",
       "    <tr>\n",
       "      <th>NAICS</th>\n",
       "      <td>1.000000</td>\n",
       "      <td>0.999925</td>\n",
       "    </tr>\n",
       "    <tr>\n",
       "      <th>NAICS_alt</th>\n",
       "      <td>0.999925</td>\n",
       "      <td>1.000000</td>\n",
       "    </tr>\n",
       "  </tbody>\n",
       "</table>\n",
       "</div>"
      ],
      "text/plain": [
       "              NAICS  NAICS_alt\n",
       "NAICS      1.000000   0.999925\n",
       "NAICS_alt  0.999925   1.000000"
      ]
     },
     "execution_count": 40,
     "metadata": {},
     "output_type": "execute_result"
    }
   ],
   "source": [
    "val_out[['NAICS', 'NAICS_alt']].corr()"
   ]
  },
  {
   "cell_type": "code",
   "execution_count": 41,
   "id": "1e62c50d-a531-4240-91d8-559fa78f90ab",
   "metadata": {},
   "outputs": [
    {
     "data": {
      "text/html": [
       "<div>\n",
       "<style scoped>\n",
       "    .dataframe tbody tr th:only-of-type {\n",
       "        vertical-align: middle;\n",
       "    }\n",
       "\n",
       "    .dataframe tbody tr th {\n",
       "        vertical-align: top;\n",
       "    }\n",
       "\n",
       "    .dataframe thead th {\n",
       "        text-align: right;\n",
       "    }\n",
       "</style>\n",
       "<table border=\"1\" class=\"dataframe\">\n",
       "  <thead>\n",
       "    <tr style=\"text-align: right;\">\n",
       "      <th></th>\n",
       "      <th>NAICS</th>\n",
       "      <th>NAICS_alt</th>\n",
       "    </tr>\n",
       "  </thead>\n",
       "  <tbody>\n",
       "    <tr>\n",
       "      <th>NAICS</th>\n",
       "      <td>1.0</td>\n",
       "      <td>1.0</td>\n",
       "    </tr>\n",
       "    <tr>\n",
       "      <th>NAICS_alt</th>\n",
       "      <td>1.0</td>\n",
       "      <td>1.0</td>\n",
       "    </tr>\n",
       "  </tbody>\n",
       "</table>\n",
       "</div>"
      ],
      "text/plain": [
       "           NAICS  NAICS_alt\n",
       "NAICS        1.0        1.0\n",
       "NAICS_alt    1.0        1.0"
      ]
     },
     "execution_count": 41,
     "metadata": {},
     "output_type": "execute_result"
    }
   ],
   "source": [
    "train_out[['NAICS', 'NAICS_alt']].corr()"
   ]
  },
  {
   "cell_type": "markdown",
   "id": "a8045a54-8f8f-4993-b591-cf265ba60adc",
   "metadata": {},
   "source": [
    "## Combine data\n",
    "Combine transformed datasets, with key information.  Include the business ID, target status, NAICS features, as well as transformed features from above. Save this data for later use (especially the indices which indicate train/test statustrain_df"
   ]
  },
  {
   "cell_type": "code",
   "execution_count": 42,
   "id": "257a6cbe-c392-46f0-9a82-9f69892548d1",
   "metadata": {},
   "outputs": [
    {
     "name": "stdout",
     "output_type": "stream",
     "text": [
      "['LoanNr_ChkDgt', 'target', 'dset_naics_holdout', 'NAICS', 'NAICS_sector', 'menc_NAICS', 'cenc_NAICS', 'menc_grp_NAICS', 'NAICS_alt', 'NAICS_alt3', 'NAICS_alt4', 'NS___Accommodation and Food Services', 'NS___Construction', 'NS___Health Care and Social Assistance', 'NS___Manufacturing', 'NS___Other Services (except Public Administration)', 'NS___Professional, Scientific, and Technical Services', 'NS___Retail Trade', 'NS___Wholesale Trade', 'NS___infrequent_sklearn']\n"
     ]
    }
   ],
   "source": [
    "naics_features = ['LoanNr_ChkDgt', 'target', 'dset_naics_holdout', 'NAICS', 'NAICS_sector', \n",
    "                  'menc_NAICS', 'cenc_NAICS', 'menc_grp_NAICS', 'NAICS_alt', 'NAICS_alt3', 'NAICS_alt4'] +  \\\n",
    "    [c for c in train_df.columns if c.startswith('NS__')]\n",
    "print(naics_features)"
   ]
  },
  {
   "cell_type": "code",
   "execution_count": 43,
   "id": "a34a7d4a-608f-4750-b900-0b7e10fa64ad",
   "metadata": {},
   "outputs": [],
   "source": [
    "comb_naics = pd.concat([train_df[naics_features], \n",
    "                        test_df[naics_features], \n",
    "                        val_df[naics_features]], axis=0, keys=['train', 'test', 'val']) \\\n",
    "    .rename(columns={'NAICS':'NAICS_orig', 'NAICS_alt':'NAICS_alt_orig', \n",
    "                     'NAICS_alt3':'NAICS_alt3_orig', 'NAICS_alt4':'NAICS_alt4_orig'}) \\\n",
    "    .sort_index()"
   ]
  },
  {
   "cell_type": "code",
   "execution_count": 44,
   "id": "861b31b9-d646-4639-9b05-948ff5f1e8c8",
   "metadata": {},
   "outputs": [
    {
     "name": "stdout",
     "output_type": "stream",
     "text": [
      "(688081, 35)\n"
     ]
    }
   ],
   "source": [
    "comb_df = pd.concat([comb_naics,\n",
    "                     pd.concat([train_out, test_out, val_out], \n",
    "                               axis=0, keys=['train', 'test', 'val']).sort_index()],\n",
    "                    axis=1) \\\n",
    "    .reset_index(level=0) \\\n",
    "    .rename(columns={'level_0':'dset'}, errors='ignore')\n",
    "print(comb_df.shape)"
   ]
  },
  {
   "cell_type": "code",
   "execution_count": 45,
   "id": "80c39083-a0e4-4117-ab5f-02c98c237e6a",
   "metadata": {},
   "outputs": [
    {
     "name": "stdout",
     "output_type": "stream",
     "text": [
      "Index(['dset', 'LoanNr_ChkDgt', 'target', 'dset_naics_holdout', 'NAICS_orig',\n",
      "       'NAICS_sector', 'menc_NAICS', 'cenc_NAICS', 'menc_grp_NAICS',\n",
      "       'NAICS_alt_orig', 'NAICS_alt3_orig', 'NAICS_alt4_orig',\n",
      "       'NS___Accommodation and Food Services', 'NS___Construction',\n",
      "       'NS___Health Care and Social Assistance', 'NS___Manufacturing',\n",
      "       'NS___Other Services (except Public Administration)',\n",
      "       'NS___Professional, Scientific, and Technical Services',\n",
      "       'NS___Retail Trade', 'NS___Wholesale Trade', 'NS___infrequent_sklearn',\n",
      "       'NoEmp', 'CreateJob', 'LowDoc', 'DisbursementGross', 'new_business',\n",
      "       'urban_flag', 'franchise_flag', 'missingindicator_LowDoc',\n",
      "       'missingindicator_new_business', 'missingindicator_urban_flag', 'NAICS',\n",
      "       'NAICS_alt', 'NAICS_alt3', 'NAICS_alt4'],\n",
      "      dtype='object')\n"
     ]
    }
   ],
   "source": [
    "print(comb_df.columns)"
   ]
  },
  {
   "cell_type": "code",
   "execution_count": 46,
   "id": "98c5cf92-35ea-4371-b3e0-04abc85a41dd",
   "metadata": {},
   "outputs": [],
   "source": [
    "comb_df.to_parquet(Path(setup.temp_path).joinpath('10_DATA_combined_scaled_all.parquet'))"
   ]
  },
  {
   "cell_type": "code",
   "execution_count": null,
   "id": "60b8a1bf-1f18-41ab-924d-748c2f7a216b",
   "metadata": {},
   "outputs": [],
   "source": []
  }
 ],
 "metadata": {
  "kernelspec": {
   "display_name": "tf_p39",
   "language": "python",
   "name": "tf_p39"
  },
  "language_info": {
   "codemirror_mode": {
    "name": "ipython",
    "version": 3
   },
   "file_extension": ".py",
   "mimetype": "text/x-python",
   "name": "python",
   "nbconvert_exporter": "python",
   "pygments_lexer": "ipython3",
   "version": "3.8.18"
  }
 },
 "nbformat": 4,
 "nbformat_minor": 5
}
