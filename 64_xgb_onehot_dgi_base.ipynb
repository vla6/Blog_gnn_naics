{
 "cells": [
  {
   "cell_type": "code",
   "execution_count": 1,
   "id": "4c65f557-651f-4958-a567-a1b6b5a82b2b",
   "metadata": {
    "tags": []
   },
   "outputs": [],
   "source": [
    "# Modify the file 00_setup.py to define input/output file paths on your system\n",
    "# The information in 00_setup.py will be used across notebooks\n",
    "from importlib.machinery import SourceFileLoader\n",
    "setup = SourceFileLoader(\"setup\", \"./00_setup.py\").load_module()"
   ]
  },
  {
   "cell_type": "markdown",
   "id": "b01d0fdb-d4bf-465a-8541-997addc50b0c",
   "metadata": {},
   "source": [
    "# XGBoost with one-hot NAICS Clusters (DGI Base)\n",
    "XGBoost model, one hot encoded values from k means clustering"
   ]
  },
  {
   "cell_type": "markdown",
   "id": "56161f89-1f54-47f9-860d-3f945a941c1f",
   "metadata": {},
   "source": [
    "*This script takes about 5 minutes on my MacBook Air*"
   ]
  },
  {
   "cell_type": "code",
   "execution_count": 2,
   "id": "ec6b1778-7abc-4129-ab5f-ac2992bd8ca6",
   "metadata": {},
   "outputs": [],
   "source": [
    "import pandas as pd\n",
    "import numpy as np\n",
    "import xgboost as xgb\n",
    "import warnings\n",
    "import matplotlib.pyplot as plt\n",
    "import pickle"
   ]
  },
  {
   "cell_type": "code",
   "execution_count": 3,
   "id": "785af927-a634-4e34-84c4-7a532236f2ca",
   "metadata": {},
   "outputs": [],
   "source": [
    "from pathlib import Path"
   ]
  },
  {
   "cell_type": "code",
   "execution_count": 4,
   "id": "fd09527b-32dd-47fa-b62f-f9307f89f553",
   "metadata": {},
   "outputs": [],
   "source": [
    "import sklearn as sk\n",
    "from sklearn.model_selection import RandomizedSearchCV\n",
    "from sklearn.inspection import permutation_importance, partial_dependence\n",
    "from scikitplot.metrics import plot_lift_curve"
   ]
  },
  {
   "cell_type": "code",
   "execution_count": 5,
   "id": "0732ba40-8318-457b-b29f-f9b6de3b70aa",
   "metadata": {},
   "outputs": [],
   "source": [
    "from sba_gnn.sba_gnn import sg_plot "
   ]
  },
  {
   "cell_type": "markdown",
   "id": "d14a5947-6599-4253-acf3-91ddeffdedd3",
   "metadata": {},
   "source": [
    "## Import Processed Datasets"
   ]
  },
  {
   "cell_type": "markdown",
   "id": "b0e80daf-7e62-47ae-b9f4-e04468135f3e",
   "metadata": {},
   "source": [
    "##### Get loans data, append clusters"
   ]
  },
  {
   "cell_type": "code",
   "execution_count": 6,
   "id": "f6bc5cc5-b635-420f-852c-6cc9bba68a52",
   "metadata": {},
   "outputs": [],
   "source": [
    "sba_loans = pd.read_parquet(Path(setup.temp_path).joinpath('01_DATA_transformed.parquet'))"
   ]
  },
  {
   "cell_type": "code",
   "execution_count": 7,
   "id": "24785791-96b2-42a3-b6bb-307a60291c06",
   "metadata": {},
   "outputs": [
    {
     "data": {
      "text/plain": [
       "Index(['NAICS', 'NAICS_2', 'NAICS_sector', 'NAICS_sector_desc', 'NAICS_num',\n",
       "       'NAICS_5', 'NAICS_4', 'NAICS_3', 'menc_NAICS', 'menc_NAICS_5',\n",
       "       'menc_NAICS_4', 'menc_NAICS_3', 'menc_NAICS_sector', 'mhier_NAICS',\n",
       "       'cenc_NAICS'],\n",
       "      dtype='object')"
      ]
     },
     "execution_count": 7,
     "metadata": {},
     "output_type": "execute_result"
    }
   ],
   "source": [
    "sba_loans.filter(like='NAICS').columns"
   ]
  },
  {
   "cell_type": "code",
   "execution_count": 8,
   "id": "5d9230bf-f527-42c9-832a-e353f32487ab",
   "metadata": {},
   "outputs": [],
   "source": [
    "embed_df = pd.read_parquet(Path(setup.temp_path).joinpath('63_DATA_embeddings_tsne_naics.parquet'))"
   ]
  },
  {
   "cell_type": "code",
   "execution_count": 9,
   "id": "f61f3bb8-2f9b-4d2d-a85d-c9c932521b47",
   "metadata": {},
   "outputs": [
    {
     "data": {
      "text/plain": [
       "10"
      ]
     },
     "execution_count": 9,
     "metadata": {},
     "output_type": "execute_result"
    }
   ],
   "source": [
    "clus_cols = [c for c in embed_df if c.startswith('NC_')]\n",
    "len(clus_cols)"
   ]
  },
  {
   "cell_type": "code",
   "execution_count": 10,
   "id": "3533831b-fe3e-46e7-bc21-b0d6f4fb689d",
   "metadata": {},
   "outputs": [],
   "source": [
    "sba_loans = sba_loans.drop(columns = clus_cols, errors='ignore') \\\n",
    "    .merge(embed_df[clus_cols + ['NAICS_orig']].rename(columns={'NAICS_orig':'NAICS'}),\n",
    "           on='NAICS', how='left')"
   ]
  },
  {
   "cell_type": "code",
   "execution_count": 11,
   "id": "042aae2d-f88d-4060-994f-629349a5bff1",
   "metadata": {},
   "outputs": [
    {
     "data": {
      "text/html": [
       "<div>\n",
       "<style scoped>\n",
       "    .dataframe tbody tr th:only-of-type {\n",
       "        vertical-align: middle;\n",
       "    }\n",
       "\n",
       "    .dataframe tbody tr th {\n",
       "        vertical-align: top;\n",
       "    }\n",
       "\n",
       "    .dataframe thead th {\n",
       "        text-align: right;\n",
       "    }\n",
       "</style>\n",
       "<table border=\"1\" class=\"dataframe\">\n",
       "  <thead>\n",
       "    <tr style=\"text-align: right;\">\n",
       "      <th></th>\n",
       "      <th>NC__0</th>\n",
       "      <th>NC__1</th>\n",
       "      <th>NC__2</th>\n",
       "      <th>NC__3</th>\n",
       "      <th>NC__4</th>\n",
       "      <th>NC__5</th>\n",
       "      <th>NC__6</th>\n",
       "      <th>NC__7</th>\n",
       "      <th>NC__8</th>\n",
       "      <th>NC__9</th>\n",
       "    </tr>\n",
       "  </thead>\n",
       "  <tbody>\n",
       "    <tr>\n",
       "      <th>count</th>\n",
       "      <td>688081.000000</td>\n",
       "      <td>688081.000000</td>\n",
       "      <td>688081.000000</td>\n",
       "      <td>688081.000000</td>\n",
       "      <td>688081.000000</td>\n",
       "      <td>688081.000000</td>\n",
       "      <td>688081.000000</td>\n",
       "      <td>688081.000000</td>\n",
       "      <td>688081.000000</td>\n",
       "      <td>688081.000000</td>\n",
       "    </tr>\n",
       "    <tr>\n",
       "      <th>mean</th>\n",
       "      <td>0.049897</td>\n",
       "      <td>0.146441</td>\n",
       "      <td>0.186923</td>\n",
       "      <td>0.097387</td>\n",
       "      <td>0.075818</td>\n",
       "      <td>0.023701</td>\n",
       "      <td>0.075177</td>\n",
       "      <td>0.178871</td>\n",
       "      <td>0.091507</td>\n",
       "      <td>0.074279</td>\n",
       "    </tr>\n",
       "    <tr>\n",
       "      <th>std</th>\n",
       "      <td>0.217732</td>\n",
       "      <td>0.353548</td>\n",
       "      <td>0.389850</td>\n",
       "      <td>0.296484</td>\n",
       "      <td>0.264707</td>\n",
       "      <td>0.152115</td>\n",
       "      <td>0.263677</td>\n",
       "      <td>0.383245</td>\n",
       "      <td>0.288328</td>\n",
       "      <td>0.262225</td>\n",
       "    </tr>\n",
       "    <tr>\n",
       "      <th>min</th>\n",
       "      <td>0.000000</td>\n",
       "      <td>0.000000</td>\n",
       "      <td>0.000000</td>\n",
       "      <td>0.000000</td>\n",
       "      <td>0.000000</td>\n",
       "      <td>0.000000</td>\n",
       "      <td>0.000000</td>\n",
       "      <td>0.000000</td>\n",
       "      <td>0.000000</td>\n",
       "      <td>0.000000</td>\n",
       "    </tr>\n",
       "    <tr>\n",
       "      <th>25%</th>\n",
       "      <td>0.000000</td>\n",
       "      <td>0.000000</td>\n",
       "      <td>0.000000</td>\n",
       "      <td>0.000000</td>\n",
       "      <td>0.000000</td>\n",
       "      <td>0.000000</td>\n",
       "      <td>0.000000</td>\n",
       "      <td>0.000000</td>\n",
       "      <td>0.000000</td>\n",
       "      <td>0.000000</td>\n",
       "    </tr>\n",
       "    <tr>\n",
       "      <th>50%</th>\n",
       "      <td>0.000000</td>\n",
       "      <td>0.000000</td>\n",
       "      <td>0.000000</td>\n",
       "      <td>0.000000</td>\n",
       "      <td>0.000000</td>\n",
       "      <td>0.000000</td>\n",
       "      <td>0.000000</td>\n",
       "      <td>0.000000</td>\n",
       "      <td>0.000000</td>\n",
       "      <td>0.000000</td>\n",
       "    </tr>\n",
       "    <tr>\n",
       "      <th>75%</th>\n",
       "      <td>0.000000</td>\n",
       "      <td>0.000000</td>\n",
       "      <td>0.000000</td>\n",
       "      <td>0.000000</td>\n",
       "      <td>0.000000</td>\n",
       "      <td>0.000000</td>\n",
       "      <td>0.000000</td>\n",
       "      <td>0.000000</td>\n",
       "      <td>0.000000</td>\n",
       "      <td>0.000000</td>\n",
       "    </tr>\n",
       "    <tr>\n",
       "      <th>max</th>\n",
       "      <td>1.000000</td>\n",
       "      <td>1.000000</td>\n",
       "      <td>1.000000</td>\n",
       "      <td>1.000000</td>\n",
       "      <td>1.000000</td>\n",
       "      <td>1.000000</td>\n",
       "      <td>1.000000</td>\n",
       "      <td>1.000000</td>\n",
       "      <td>1.000000</td>\n",
       "      <td>1.000000</td>\n",
       "    </tr>\n",
       "  </tbody>\n",
       "</table>\n",
       "</div>"
      ],
      "text/plain": [
       "               NC__0          NC__1          NC__2          NC__3  \\\n",
       "count  688081.000000  688081.000000  688081.000000  688081.000000   \n",
       "mean        0.049897       0.146441       0.186923       0.097387   \n",
       "std         0.217732       0.353548       0.389850       0.296484   \n",
       "min         0.000000       0.000000       0.000000       0.000000   \n",
       "25%         0.000000       0.000000       0.000000       0.000000   \n",
       "50%         0.000000       0.000000       0.000000       0.000000   \n",
       "75%         0.000000       0.000000       0.000000       0.000000   \n",
       "max         1.000000       1.000000       1.000000       1.000000   \n",
       "\n",
       "               NC__4          NC__5          NC__6          NC__7  \\\n",
       "count  688081.000000  688081.000000  688081.000000  688081.000000   \n",
       "mean        0.075818       0.023701       0.075177       0.178871   \n",
       "std         0.264707       0.152115       0.263677       0.383245   \n",
       "min         0.000000       0.000000       0.000000       0.000000   \n",
       "25%         0.000000       0.000000       0.000000       0.000000   \n",
       "50%         0.000000       0.000000       0.000000       0.000000   \n",
       "75%         0.000000       0.000000       0.000000       0.000000   \n",
       "max         1.000000       1.000000       1.000000       1.000000   \n",
       "\n",
       "               NC__8          NC__9  \n",
       "count  688081.000000  688081.000000  \n",
       "mean        0.091507       0.074279  \n",
       "std         0.288328       0.262225  \n",
       "min         0.000000       0.000000  \n",
       "25%         0.000000       0.000000  \n",
       "50%         0.000000       0.000000  \n",
       "75%         0.000000       0.000000  \n",
       "max         1.000000       1.000000  "
      ]
     },
     "execution_count": 11,
     "metadata": {},
     "output_type": "execute_result"
    }
   ],
   "source": [
    "sba_loans[clus_cols].describe()"
   ]
  },
  {
   "cell_type": "code",
   "execution_count": 12,
   "id": "a5f6c362-c1ab-48d8-812b-2b970b06586b",
   "metadata": {},
   "outputs": [],
   "source": [
    "train_df = sba_loans[sba_loans['dset'] == 'train'].copy()\n",
    "test_df = sba_loans[sba_loans['dset'] == 'test']\n",
    "val_df = sba_loans[sba_loans['dset'] == 'val']"
   ]
  },
  {
   "cell_type": "code",
   "execution_count": 13,
   "id": "7b1db53b-181c-450d-9f7e-be350bc3111f",
   "metadata": {},
   "outputs": [
    {
     "data": {
      "text/plain": [
       "(436120, 68)"
      ]
     },
     "execution_count": 13,
     "metadata": {},
     "output_type": "execute_result"
    }
   ],
   "source": [
    "train_df.shape"
   ]
  },
  {
   "cell_type": "markdown",
   "id": "f2160b50-1e22-44f0-915b-0241ebcd45d4",
   "metadata": {},
   "source": [
    "#### Set the predictor features.  Include one-hot NAICS"
   ]
  },
  {
   "cell_type": "code",
   "execution_count": 14,
   "id": "c07ddd4e-6987-454a-926a-3b59abf6caa6",
   "metadata": {},
   "outputs": [
    {
     "name": "stdout",
     "output_type": "stream",
     "text": [
      "['NoEmp', 'CreateJob', 'LowDoc', 'DisbursementGross', 'new_business', 'urban_flag', 'franchise_flag', 'NC__0', 'NC__1', 'NC__2', 'NC__3', 'NC__4', 'NC__5', 'NC__6', 'NC__7', 'NC__8', 'NC__9']\n"
     ]
    }
   ],
   "source": [
    "predictor_features = setup.predictor_features + clus_cols\n",
    "print(predictor_features)"
   ]
  },
  {
   "cell_type": "code",
   "execution_count": 15,
   "id": "2a4f4a9e-f7e5-4143-b1e4-b5fbb5f7280d",
   "metadata": {},
   "outputs": [
    {
     "data": {
      "text/html": [
       "<div>\n",
       "<style scoped>\n",
       "    .dataframe tbody tr th:only-of-type {\n",
       "        vertical-align: middle;\n",
       "    }\n",
       "\n",
       "    .dataframe tbody tr th {\n",
       "        vertical-align: top;\n",
       "    }\n",
       "\n",
       "    .dataframe thead th {\n",
       "        text-align: right;\n",
       "    }\n",
       "</style>\n",
       "<table border=\"1\" class=\"dataframe\">\n",
       "  <thead>\n",
       "    <tr style=\"text-align: right;\">\n",
       "      <th></th>\n",
       "      <th>NoEmp</th>\n",
       "      <th>CreateJob</th>\n",
       "      <th>LowDoc</th>\n",
       "      <th>DisbursementGross</th>\n",
       "      <th>new_business</th>\n",
       "      <th>urban_flag</th>\n",
       "      <th>franchise_flag</th>\n",
       "      <th>NC__0</th>\n",
       "      <th>NC__1</th>\n",
       "      <th>NC__2</th>\n",
       "      <th>NC__3</th>\n",
       "      <th>NC__4</th>\n",
       "      <th>NC__5</th>\n",
       "      <th>NC__6</th>\n",
       "      <th>NC__7</th>\n",
       "      <th>NC__8</th>\n",
       "      <th>NC__9</th>\n",
       "      <th>target</th>\n",
       "    </tr>\n",
       "  </thead>\n",
       "  <tbody>\n",
       "    <tr>\n",
       "      <th>NoEmp</th>\n",
       "      <td>1.000000</td>\n",
       "      <td>0.062158</td>\n",
       "      <td>-0.013926</td>\n",
       "      <td>0.095658</td>\n",
       "      <td>-0.041427</td>\n",
       "      <td>0.001610</td>\n",
       "      <td>0.006409</td>\n",
       "      <td>-0.001251</td>\n",
       "      <td>0.039450</td>\n",
       "      <td>-0.032531</td>\n",
       "      <td>-0.009031</td>\n",
       "      <td>0.016644</td>\n",
       "      <td>-0.009967</td>\n",
       "      <td>-0.013065</td>\n",
       "      <td>0.011720</td>\n",
       "      <td>-0.022193</td>\n",
       "      <td>0.018972</td>\n",
       "      <td>-0.027403</td>\n",
       "    </tr>\n",
       "    <tr>\n",
       "      <th>CreateJob</th>\n",
       "      <td>0.062158</td>\n",
       "      <td>1.000000</td>\n",
       "      <td>-0.062740</td>\n",
       "      <td>0.134686</td>\n",
       "      <td>0.039302</td>\n",
       "      <td>0.009062</td>\n",
       "      <td>0.050517</td>\n",
       "      <td>0.001293</td>\n",
       "      <td>0.001112</td>\n",
       "      <td>-0.045145</td>\n",
       "      <td>-0.017379</td>\n",
       "      <td>0.057137</td>\n",
       "      <td>-0.022228</td>\n",
       "      <td>-0.005662</td>\n",
       "      <td>0.039717</td>\n",
       "      <td>-0.017924</td>\n",
       "      <td>0.006420</td>\n",
       "      <td>-0.010002</td>\n",
       "    </tr>\n",
       "    <tr>\n",
       "      <th>LowDoc</th>\n",
       "      <td>-0.013926</td>\n",
       "      <td>-0.062740</td>\n",
       "      <td>1.000000</td>\n",
       "      <td>-0.133141</td>\n",
       "      <td>0.153034</td>\n",
       "      <td>-0.120001</td>\n",
       "      <td>0.040841</td>\n",
       "      <td>-0.030072</td>\n",
       "      <td>0.031946</td>\n",
       "      <td>0.058721</td>\n",
       "      <td>0.032489</td>\n",
       "      <td>-0.031427</td>\n",
       "      <td>0.041457</td>\n",
       "      <td>-0.032894</td>\n",
       "      <td>-0.059609</td>\n",
       "      <td>-0.044247</td>\n",
       "      <td>0.038051</td>\n",
       "      <td>-0.079523</td>\n",
       "    </tr>\n",
       "    <tr>\n",
       "      <th>DisbursementGross</th>\n",
       "      <td>0.095658</td>\n",
       "      <td>0.134686</td>\n",
       "      <td>-0.133141</td>\n",
       "      <td>1.000000</td>\n",
       "      <td>-0.065443</td>\n",
       "      <td>-0.007016</td>\n",
       "      <td>0.085712</td>\n",
       "      <td>0.026609</td>\n",
       "      <td>0.100710</td>\n",
       "      <td>-0.117388</td>\n",
       "      <td>-0.013242</td>\n",
       "      <td>0.120947</td>\n",
       "      <td>0.009045</td>\n",
       "      <td>-0.056595</td>\n",
       "      <td>0.027489</td>\n",
       "      <td>-0.076479</td>\n",
       "      <td>0.014295</td>\n",
       "      <td>-0.120788</td>\n",
       "    </tr>\n",
       "    <tr>\n",
       "      <th>new_business</th>\n",
       "      <td>-0.041427</td>\n",
       "      <td>0.039302</td>\n",
       "      <td>0.153034</td>\n",
       "      <td>-0.065443</td>\n",
       "      <td>1.000000</td>\n",
       "      <td>-0.047592</td>\n",
       "      <td>0.137325</td>\n",
       "      <td>-0.017737</td>\n",
       "      <td>-0.077412</td>\n",
       "      <td>0.027323</td>\n",
       "      <td>0.005622</td>\n",
       "      <td>0.049729</td>\n",
       "      <td>0.014816</td>\n",
       "      <td>0.003302</td>\n",
       "      <td>0.003898</td>\n",
       "      <td>0.005165</td>\n",
       "      <td>-0.007735</td>\n",
       "      <td>0.013878</td>\n",
       "    </tr>\n",
       "    <tr>\n",
       "      <th>urban_flag</th>\n",
       "      <td>0.001610</td>\n",
       "      <td>0.009062</td>\n",
       "      <td>-0.120001</td>\n",
       "      <td>-0.007016</td>\n",
       "      <td>-0.047592</td>\n",
       "      <td>1.000000</td>\n",
       "      <td>-0.006588</td>\n",
       "      <td>0.011474</td>\n",
       "      <td>-0.007665</td>\n",
       "      <td>0.029411</td>\n",
       "      <td>0.000604</td>\n",
       "      <td>-0.023595</td>\n",
       "      <td>-0.073397</td>\n",
       "      <td>0.026477</td>\n",
       "      <td>-0.017922</td>\n",
       "      <td>0.000422</td>\n",
       "      <td>0.011932</td>\n",
       "      <td>0.053785</td>\n",
       "    </tr>\n",
       "    <tr>\n",
       "      <th>franchise_flag</th>\n",
       "      <td>0.006409</td>\n",
       "      <td>0.050517</td>\n",
       "      <td>0.040841</td>\n",
       "      <td>0.085712</td>\n",
       "      <td>0.137325</td>\n",
       "      <td>-0.006588</td>\n",
       "      <td>1.000000</td>\n",
       "      <td>-0.029647</td>\n",
       "      <td>-0.062352</td>\n",
       "      <td>-0.045916</td>\n",
       "      <td>-0.009740</td>\n",
       "      <td>0.243450</td>\n",
       "      <td>-0.007207</td>\n",
       "      <td>-0.016383</td>\n",
       "      <td>-0.000791</td>\n",
       "      <td>-0.011204</td>\n",
       "      <td>-0.026685</td>\n",
       "      <td>-0.012731</td>\n",
       "    </tr>\n",
       "    <tr>\n",
       "      <th>NC__0</th>\n",
       "      <td>-0.001251</td>\n",
       "      <td>0.001293</td>\n",
       "      <td>-0.030072</td>\n",
       "      <td>0.026609</td>\n",
       "      <td>-0.017737</td>\n",
       "      <td>0.011474</td>\n",
       "      <td>-0.029647</td>\n",
       "      <td>1.000000</td>\n",
       "      <td>-0.088821</td>\n",
       "      <td>-0.113793</td>\n",
       "      <td>-0.071745</td>\n",
       "      <td>-0.066251</td>\n",
       "      <td>-0.037693</td>\n",
       "      <td>-0.067956</td>\n",
       "      <td>-0.111439</td>\n",
       "      <td>-0.073060</td>\n",
       "      <td>-0.066097</td>\n",
       "      <td>0.004749</td>\n",
       "    </tr>\n",
       "    <tr>\n",
       "      <th>NC__1</th>\n",
       "      <td>0.039450</td>\n",
       "      <td>0.001112</td>\n",
       "      <td>0.031946</td>\n",
       "      <td>0.100710</td>\n",
       "      <td>-0.077412</td>\n",
       "      <td>-0.007665</td>\n",
       "      <td>-0.062352</td>\n",
       "      <td>-0.088821</td>\n",
       "      <td>1.000000</td>\n",
       "      <td>-0.189485</td>\n",
       "      <td>-0.119466</td>\n",
       "      <td>-0.110319</td>\n",
       "      <td>-0.062765</td>\n",
       "      <td>-0.113158</td>\n",
       "      <td>-0.185564</td>\n",
       "      <td>-0.121657</td>\n",
       "      <td>-0.110063</td>\n",
       "      <td>-0.112656</td>\n",
       "    </tr>\n",
       "    <tr>\n",
       "      <th>NC__2</th>\n",
       "      <td>-0.032531</td>\n",
       "      <td>-0.045145</td>\n",
       "      <td>0.058721</td>\n",
       "      <td>-0.117388</td>\n",
       "      <td>0.027323</td>\n",
       "      <td>0.029411</td>\n",
       "      <td>-0.045916</td>\n",
       "      <td>-0.113793</td>\n",
       "      <td>-0.189485</td>\n",
       "      <td>1.000000</td>\n",
       "      <td>-0.153055</td>\n",
       "      <td>-0.141335</td>\n",
       "      <td>-0.080412</td>\n",
       "      <td>-0.144972</td>\n",
       "      <td>-0.237736</td>\n",
       "      <td>-0.155861</td>\n",
       "      <td>-0.141007</td>\n",
       "      <td>0.024789</td>\n",
       "    </tr>\n",
       "    <tr>\n",
       "      <th>NC__3</th>\n",
       "      <td>-0.009031</td>\n",
       "      <td>-0.017379</td>\n",
       "      <td>0.032489</td>\n",
       "      <td>-0.013242</td>\n",
       "      <td>0.005622</td>\n",
       "      <td>0.000604</td>\n",
       "      <td>-0.009740</td>\n",
       "      <td>-0.071745</td>\n",
       "      <td>-0.119466</td>\n",
       "      <td>-0.153055</td>\n",
       "      <td>1.000000</td>\n",
       "      <td>-0.089109</td>\n",
       "      <td>-0.050698</td>\n",
       "      <td>-0.091402</td>\n",
       "      <td>-0.149888</td>\n",
       "      <td>-0.098267</td>\n",
       "      <td>-0.088902</td>\n",
       "      <td>-0.018754</td>\n",
       "    </tr>\n",
       "    <tr>\n",
       "      <th>NC__4</th>\n",
       "      <td>0.016644</td>\n",
       "      <td>0.057137</td>\n",
       "      <td>-0.031427</td>\n",
       "      <td>0.120947</td>\n",
       "      <td>0.049729</td>\n",
       "      <td>-0.023595</td>\n",
       "      <td>0.243450</td>\n",
       "      <td>-0.066251</td>\n",
       "      <td>-0.110319</td>\n",
       "      <td>-0.141335</td>\n",
       "      <td>-0.089109</td>\n",
       "      <td>1.000000</td>\n",
       "      <td>-0.046816</td>\n",
       "      <td>-0.084403</td>\n",
       "      <td>-0.138411</td>\n",
       "      <td>-0.090743</td>\n",
       "      <td>-0.082095</td>\n",
       "      <td>-0.005252</td>\n",
       "    </tr>\n",
       "    <tr>\n",
       "      <th>NC__5</th>\n",
       "      <td>-0.009967</td>\n",
       "      <td>-0.022228</td>\n",
       "      <td>0.041457</td>\n",
       "      <td>0.009045</td>\n",
       "      <td>0.014816</td>\n",
       "      <td>-0.073397</td>\n",
       "      <td>-0.007207</td>\n",
       "      <td>-0.037693</td>\n",
       "      <td>-0.062765</td>\n",
       "      <td>-0.080412</td>\n",
       "      <td>-0.050698</td>\n",
       "      <td>-0.046816</td>\n",
       "      <td>1.000000</td>\n",
       "      <td>-0.048021</td>\n",
       "      <td>-0.078748</td>\n",
       "      <td>-0.051628</td>\n",
       "      <td>-0.046707</td>\n",
       "      <td>-0.034845</td>\n",
       "    </tr>\n",
       "    <tr>\n",
       "      <th>NC__6</th>\n",
       "      <td>-0.013065</td>\n",
       "      <td>-0.005662</td>\n",
       "      <td>-0.032894</td>\n",
       "      <td>-0.056595</td>\n",
       "      <td>0.003302</td>\n",
       "      <td>0.026477</td>\n",
       "      <td>-0.016383</td>\n",
       "      <td>-0.067956</td>\n",
       "      <td>-0.113158</td>\n",
       "      <td>-0.144972</td>\n",
       "      <td>-0.091402</td>\n",
       "      <td>-0.084403</td>\n",
       "      <td>-0.048021</td>\n",
       "      <td>1.000000</td>\n",
       "      <td>-0.141973</td>\n",
       "      <td>-0.093078</td>\n",
       "      <td>-0.084208</td>\n",
       "      <td>0.045070</td>\n",
       "    </tr>\n",
       "    <tr>\n",
       "      <th>NC__7</th>\n",
       "      <td>0.011720</td>\n",
       "      <td>0.039717</td>\n",
       "      <td>-0.059609</td>\n",
       "      <td>0.027489</td>\n",
       "      <td>0.003898</td>\n",
       "      <td>-0.017922</td>\n",
       "      <td>-0.000791</td>\n",
       "      <td>-0.111439</td>\n",
       "      <td>-0.185564</td>\n",
       "      <td>-0.237736</td>\n",
       "      <td>-0.149888</td>\n",
       "      <td>-0.138411</td>\n",
       "      <td>-0.078748</td>\n",
       "      <td>-0.141973</td>\n",
       "      <td>1.000000</td>\n",
       "      <td>-0.152636</td>\n",
       "      <td>-0.138090</td>\n",
       "      <td>0.044266</td>\n",
       "    </tr>\n",
       "    <tr>\n",
       "      <th>NC__8</th>\n",
       "      <td>-0.022193</td>\n",
       "      <td>-0.017924</td>\n",
       "      <td>-0.044247</td>\n",
       "      <td>-0.076479</td>\n",
       "      <td>0.005165</td>\n",
       "      <td>0.000422</td>\n",
       "      <td>-0.011204</td>\n",
       "      <td>-0.073060</td>\n",
       "      <td>-0.121657</td>\n",
       "      <td>-0.155861</td>\n",
       "      <td>-0.098267</td>\n",
       "      <td>-0.090743</td>\n",
       "      <td>-0.051628</td>\n",
       "      <td>-0.093078</td>\n",
       "      <td>-0.152636</td>\n",
       "      <td>1.000000</td>\n",
       "      <td>-0.090532</td>\n",
       "      <td>0.081190</td>\n",
       "    </tr>\n",
       "    <tr>\n",
       "      <th>NC__9</th>\n",
       "      <td>0.018972</td>\n",
       "      <td>0.006420</td>\n",
       "      <td>0.038051</td>\n",
       "      <td>0.014295</td>\n",
       "      <td>-0.007735</td>\n",
       "      <td>0.011932</td>\n",
       "      <td>-0.026685</td>\n",
       "      <td>-0.066097</td>\n",
       "      <td>-0.110063</td>\n",
       "      <td>-0.141007</td>\n",
       "      <td>-0.088902</td>\n",
       "      <td>-0.082095</td>\n",
       "      <td>-0.046707</td>\n",
       "      <td>-0.084208</td>\n",
       "      <td>-0.138090</td>\n",
       "      <td>-0.090532</td>\n",
       "      <td>1.000000</td>\n",
       "      <td>-0.052013</td>\n",
       "    </tr>\n",
       "    <tr>\n",
       "      <th>target</th>\n",
       "      <td>-0.027403</td>\n",
       "      <td>-0.010002</td>\n",
       "      <td>-0.079523</td>\n",
       "      <td>-0.120788</td>\n",
       "      <td>0.013878</td>\n",
       "      <td>0.053785</td>\n",
       "      <td>-0.012731</td>\n",
       "      <td>0.004749</td>\n",
       "      <td>-0.112656</td>\n",
       "      <td>0.024789</td>\n",
       "      <td>-0.018754</td>\n",
       "      <td>-0.005252</td>\n",
       "      <td>-0.034845</td>\n",
       "      <td>0.045070</td>\n",
       "      <td>0.044266</td>\n",
       "      <td>0.081190</td>\n",
       "      <td>-0.052013</td>\n",
       "      <td>1.000000</td>\n",
       "    </tr>\n",
       "  </tbody>\n",
       "</table>\n",
       "</div>"
      ],
      "text/plain": [
       "                      NoEmp  CreateJob    LowDoc  DisbursementGross  \\\n",
       "NoEmp              1.000000   0.062158 -0.013926           0.095658   \n",
       "CreateJob          0.062158   1.000000 -0.062740           0.134686   \n",
       "LowDoc            -0.013926  -0.062740  1.000000          -0.133141   \n",
       "DisbursementGross  0.095658   0.134686 -0.133141           1.000000   \n",
       "new_business      -0.041427   0.039302  0.153034          -0.065443   \n",
       "urban_flag         0.001610   0.009062 -0.120001          -0.007016   \n",
       "franchise_flag     0.006409   0.050517  0.040841           0.085712   \n",
       "NC__0             -0.001251   0.001293 -0.030072           0.026609   \n",
       "NC__1              0.039450   0.001112  0.031946           0.100710   \n",
       "NC__2             -0.032531  -0.045145  0.058721          -0.117388   \n",
       "NC__3             -0.009031  -0.017379  0.032489          -0.013242   \n",
       "NC__4              0.016644   0.057137 -0.031427           0.120947   \n",
       "NC__5             -0.009967  -0.022228  0.041457           0.009045   \n",
       "NC__6             -0.013065  -0.005662 -0.032894          -0.056595   \n",
       "NC__7              0.011720   0.039717 -0.059609           0.027489   \n",
       "NC__8             -0.022193  -0.017924 -0.044247          -0.076479   \n",
       "NC__9              0.018972   0.006420  0.038051           0.014295   \n",
       "target            -0.027403  -0.010002 -0.079523          -0.120788   \n",
       "\n",
       "                   new_business  urban_flag  franchise_flag     NC__0  \\\n",
       "NoEmp                 -0.041427    0.001610        0.006409 -0.001251   \n",
       "CreateJob              0.039302    0.009062        0.050517  0.001293   \n",
       "LowDoc                 0.153034   -0.120001        0.040841 -0.030072   \n",
       "DisbursementGross     -0.065443   -0.007016        0.085712  0.026609   \n",
       "new_business           1.000000   -0.047592        0.137325 -0.017737   \n",
       "urban_flag            -0.047592    1.000000       -0.006588  0.011474   \n",
       "franchise_flag         0.137325   -0.006588        1.000000 -0.029647   \n",
       "NC__0                 -0.017737    0.011474       -0.029647  1.000000   \n",
       "NC__1                 -0.077412   -0.007665       -0.062352 -0.088821   \n",
       "NC__2                  0.027323    0.029411       -0.045916 -0.113793   \n",
       "NC__3                  0.005622    0.000604       -0.009740 -0.071745   \n",
       "NC__4                  0.049729   -0.023595        0.243450 -0.066251   \n",
       "NC__5                  0.014816   -0.073397       -0.007207 -0.037693   \n",
       "NC__6                  0.003302    0.026477       -0.016383 -0.067956   \n",
       "NC__7                  0.003898   -0.017922       -0.000791 -0.111439   \n",
       "NC__8                  0.005165    0.000422       -0.011204 -0.073060   \n",
       "NC__9                 -0.007735    0.011932       -0.026685 -0.066097   \n",
       "target                 0.013878    0.053785       -0.012731  0.004749   \n",
       "\n",
       "                      NC__1     NC__2     NC__3     NC__4     NC__5     NC__6  \\\n",
       "NoEmp              0.039450 -0.032531 -0.009031  0.016644 -0.009967 -0.013065   \n",
       "CreateJob          0.001112 -0.045145 -0.017379  0.057137 -0.022228 -0.005662   \n",
       "LowDoc             0.031946  0.058721  0.032489 -0.031427  0.041457 -0.032894   \n",
       "DisbursementGross  0.100710 -0.117388 -0.013242  0.120947  0.009045 -0.056595   \n",
       "new_business      -0.077412  0.027323  0.005622  0.049729  0.014816  0.003302   \n",
       "urban_flag        -0.007665  0.029411  0.000604 -0.023595 -0.073397  0.026477   \n",
       "franchise_flag    -0.062352 -0.045916 -0.009740  0.243450 -0.007207 -0.016383   \n",
       "NC__0             -0.088821 -0.113793 -0.071745 -0.066251 -0.037693 -0.067956   \n",
       "NC__1              1.000000 -0.189485 -0.119466 -0.110319 -0.062765 -0.113158   \n",
       "NC__2             -0.189485  1.000000 -0.153055 -0.141335 -0.080412 -0.144972   \n",
       "NC__3             -0.119466 -0.153055  1.000000 -0.089109 -0.050698 -0.091402   \n",
       "NC__4             -0.110319 -0.141335 -0.089109  1.000000 -0.046816 -0.084403   \n",
       "NC__5             -0.062765 -0.080412 -0.050698 -0.046816  1.000000 -0.048021   \n",
       "NC__6             -0.113158 -0.144972 -0.091402 -0.084403 -0.048021  1.000000   \n",
       "NC__7             -0.185564 -0.237736 -0.149888 -0.138411 -0.078748 -0.141973   \n",
       "NC__8             -0.121657 -0.155861 -0.098267 -0.090743 -0.051628 -0.093078   \n",
       "NC__9             -0.110063 -0.141007 -0.088902 -0.082095 -0.046707 -0.084208   \n",
       "target            -0.112656  0.024789 -0.018754 -0.005252 -0.034845  0.045070   \n",
       "\n",
       "                      NC__7     NC__8     NC__9    target  \n",
       "NoEmp              0.011720 -0.022193  0.018972 -0.027403  \n",
       "CreateJob          0.039717 -0.017924  0.006420 -0.010002  \n",
       "LowDoc            -0.059609 -0.044247  0.038051 -0.079523  \n",
       "DisbursementGross  0.027489 -0.076479  0.014295 -0.120788  \n",
       "new_business       0.003898  0.005165 -0.007735  0.013878  \n",
       "urban_flag        -0.017922  0.000422  0.011932  0.053785  \n",
       "franchise_flag    -0.000791 -0.011204 -0.026685 -0.012731  \n",
       "NC__0             -0.111439 -0.073060 -0.066097  0.004749  \n",
       "NC__1             -0.185564 -0.121657 -0.110063 -0.112656  \n",
       "NC__2             -0.237736 -0.155861 -0.141007  0.024789  \n",
       "NC__3             -0.149888 -0.098267 -0.088902 -0.018754  \n",
       "NC__4             -0.138411 -0.090743 -0.082095 -0.005252  \n",
       "NC__5             -0.078748 -0.051628 -0.046707 -0.034845  \n",
       "NC__6             -0.141973 -0.093078 -0.084208  0.045070  \n",
       "NC__7              1.000000 -0.152636 -0.138090  0.044266  \n",
       "NC__8             -0.152636  1.000000 -0.090532  0.081190  \n",
       "NC__9             -0.138090 -0.090532  1.000000 -0.052013  \n",
       "target             0.044266  0.081190 -0.052013  1.000000  "
      ]
     },
     "execution_count": 15,
     "metadata": {},
     "output_type": "execute_result"
    }
   ],
   "source": [
    "train_df[predictor_features + ['target']].corr()"
   ]
  },
  {
   "cell_type": "code",
   "execution_count": 16,
   "id": "1f8c475d-7ead-4f92-a19b-326343528f59",
   "metadata": {},
   "outputs": [],
   "source": [
    "with open(Path(setup.temp_path).joinpath('64_DATA_features_predict.pkl'), 'wb') as fout:\n",
    "    pickle.dump(predictor_features, fout)"
   ]
  },
  {
   "cell_type": "markdown",
   "id": "2b204a92-d109-4f6d-87a5-3d5dc05d2e5f",
   "metadata": {},
   "source": [
    "## Model Fit"
   ]
  },
  {
   "cell_type": "code",
   "execution_count": 17,
   "id": "c07828e0-5f5e-433f-9d96-fe78e9d668ff",
   "metadata": {},
   "outputs": [
    {
     "data": {
      "text/plain": [
       "{'subsample': 0.8,\n",
       " 'scale_pos_weight': 1.0,\n",
       " 'reg_lambda': 0.01,\n",
       " 'reg_alpha': 0.001,\n",
       " 'min_child_weight': 50,\n",
       " 'max_depth': 8,\n",
       " 'learning_rate': 0.1,\n",
       " 'gamma': 2}"
      ]
     },
     "execution_count": 17,
     "metadata": {},
     "output_type": "execute_result"
    }
   ],
   "source": [
    "best_params_df = pd.read_csv(Path(setup.temp_path).joinpath('03_REPORT_fit_parameter_selected.csv'))\n",
    "best_params = best_params_df.to_dict(orient='records')[0]\n",
    "best_params"
   ]
  },
  {
   "cell_type": "markdown",
   "id": "09bb1219-1d1e-432e-a2ca-be94168cf7ba",
   "metadata": {},
   "source": [
    "##### Fit using pre-determined parameters"
   ]
  },
  {
   "cell_type": "code",
   "execution_count": 18,
   "id": "3eeec4bc-9ca2-4d11-87b8-a81a7fa93383",
   "metadata": {},
   "outputs": [],
   "source": [
    "xgb_params = dict(best_params, \n",
    "                   **{'objective':\"binary:logistic\", 'n_estimators':setup.xgb_n_estimators})"
   ]
  },
  {
   "cell_type": "code",
   "execution_count": 19,
   "id": "7cb431ab-94aa-4922-8107-e97f0e50314f",
   "metadata": {},
   "outputs": [],
   "source": [
    "xgb_model = xgb.XGBClassifier(objective=\"binary:logistic\",\n",
    "                             n_estimators = setup.xgb_n_estimators)"
   ]
  },
  {
   "cell_type": "code",
   "execution_count": 20,
   "id": "1e17a637-89fd-4ee7-8e4f-a219133d2d75",
   "metadata": {},
   "outputs": [],
   "source": [
    "xgb_model = xgb_model.set_params(**xgb_params)"
   ]
  },
  {
   "cell_type": "code",
   "execution_count": 21,
   "id": "c3d7133b-075a-48a2-b9c8-c004dab7be61",
   "metadata": {},
   "outputs": [
    {
     "name": "stdout",
     "output_type": "stream",
     "text": [
      "[0]\tvalidation_0-logloss:0.50212\tvalidation_1-logloss:0.50554\n",
      "[1]\tvalidation_0-logloss:0.49612\tvalidation_1-logloss:0.49962\n",
      "[2]\tvalidation_0-logloss:0.49094\tvalidation_1-logloss:0.49450\n",
      "[3]\tvalidation_0-logloss:0.48647\tvalidation_1-logloss:0.49012\n",
      "[4]\tvalidation_0-logloss:0.48274\tvalidation_1-logloss:0.48651\n",
      "[5]\tvalidation_0-logloss:0.47948\tvalidation_1-logloss:0.48332\n",
      "[6]\tvalidation_0-logloss:0.47674\tvalidation_1-logloss:0.48067\n",
      "[7]\tvalidation_0-logloss:0.47421\tvalidation_1-logloss:0.47821\n",
      "[8]\tvalidation_0-logloss:0.47207\tvalidation_1-logloss:0.47616\n",
      "[9]\tvalidation_0-logloss:0.47030\tvalidation_1-logloss:0.47448\n",
      "[10]\tvalidation_0-logloss:0.46873\tvalidation_1-logloss:0.47298\n",
      "[11]\tvalidation_0-logloss:0.46742\tvalidation_1-logloss:0.47173\n",
      "[12]\tvalidation_0-logloss:0.46630\tvalidation_1-logloss:0.47068\n",
      "[13]\tvalidation_0-logloss:0.46535\tvalidation_1-logloss:0.46982\n",
      "[14]\tvalidation_0-logloss:0.46442\tvalidation_1-logloss:0.46896\n",
      "[15]\tvalidation_0-logloss:0.46365\tvalidation_1-logloss:0.46826\n",
      "[16]\tvalidation_0-logloss:0.46291\tvalidation_1-logloss:0.46757\n",
      "[17]\tvalidation_0-logloss:0.46235\tvalidation_1-logloss:0.46707\n",
      "[18]\tvalidation_0-logloss:0.46182\tvalidation_1-logloss:0.46661\n",
      "[19]\tvalidation_0-logloss:0.46134\tvalidation_1-logloss:0.46618\n",
      "[20]\tvalidation_0-logloss:0.46098\tvalidation_1-logloss:0.46588\n",
      "[21]\tvalidation_0-logloss:0.46051\tvalidation_1-logloss:0.46549\n",
      "[22]\tvalidation_0-logloss:0.46021\tvalidation_1-logloss:0.46526\n",
      "[23]\tvalidation_0-logloss:0.45989\tvalidation_1-logloss:0.46497\n",
      "[24]\tvalidation_0-logloss:0.45964\tvalidation_1-logloss:0.46478\n",
      "[25]\tvalidation_0-logloss:0.45936\tvalidation_1-logloss:0.46454\n",
      "[26]\tvalidation_0-logloss:0.45905\tvalidation_1-logloss:0.46431\n",
      "[27]\tvalidation_0-logloss:0.45886\tvalidation_1-logloss:0.46416\n",
      "[28]\tvalidation_0-logloss:0.45869\tvalidation_1-logloss:0.46404\n",
      "[29]\tvalidation_0-logloss:0.45853\tvalidation_1-logloss:0.46394\n"
     ]
    },
    {
     "data": {
      "text/html": [
       "<style>#sk-container-id-1 {color: black;}#sk-container-id-1 pre{padding: 0;}#sk-container-id-1 div.sk-toggleable {background-color: white;}#sk-container-id-1 label.sk-toggleable__label {cursor: pointer;display: block;width: 100%;margin-bottom: 0;padding: 0.3em;box-sizing: border-box;text-align: center;}#sk-container-id-1 label.sk-toggleable__label-arrow:before {content: \"▸\";float: left;margin-right: 0.25em;color: #696969;}#sk-container-id-1 label.sk-toggleable__label-arrow:hover:before {color: black;}#sk-container-id-1 div.sk-estimator:hover label.sk-toggleable__label-arrow:before {color: black;}#sk-container-id-1 div.sk-toggleable__content {max-height: 0;max-width: 0;overflow: hidden;text-align: left;background-color: #f0f8ff;}#sk-container-id-1 div.sk-toggleable__content pre {margin: 0.2em;color: black;border-radius: 0.25em;background-color: #f0f8ff;}#sk-container-id-1 input.sk-toggleable__control:checked~div.sk-toggleable__content {max-height: 200px;max-width: 100%;overflow: auto;}#sk-container-id-1 input.sk-toggleable__control:checked~label.sk-toggleable__label-arrow:before {content: \"▾\";}#sk-container-id-1 div.sk-estimator input.sk-toggleable__control:checked~label.sk-toggleable__label {background-color: #d4ebff;}#sk-container-id-1 div.sk-label input.sk-toggleable__control:checked~label.sk-toggleable__label {background-color: #d4ebff;}#sk-container-id-1 input.sk-hidden--visually {border: 0;clip: rect(1px 1px 1px 1px);clip: rect(1px, 1px, 1px, 1px);height: 1px;margin: -1px;overflow: hidden;padding: 0;position: absolute;width: 1px;}#sk-container-id-1 div.sk-estimator {font-family: monospace;background-color: #f0f8ff;border: 1px dotted black;border-radius: 0.25em;box-sizing: border-box;margin-bottom: 0.5em;}#sk-container-id-1 div.sk-estimator:hover {background-color: #d4ebff;}#sk-container-id-1 div.sk-parallel-item::after {content: \"\";width: 100%;border-bottom: 1px solid gray;flex-grow: 1;}#sk-container-id-1 div.sk-label:hover label.sk-toggleable__label {background-color: #d4ebff;}#sk-container-id-1 div.sk-serial::before {content: \"\";position: absolute;border-left: 1px solid gray;box-sizing: border-box;top: 0;bottom: 0;left: 50%;z-index: 0;}#sk-container-id-1 div.sk-serial {display: flex;flex-direction: column;align-items: center;background-color: white;padding-right: 0.2em;padding-left: 0.2em;position: relative;}#sk-container-id-1 div.sk-item {position: relative;z-index: 1;}#sk-container-id-1 div.sk-parallel {display: flex;align-items: stretch;justify-content: center;background-color: white;position: relative;}#sk-container-id-1 div.sk-item::before, #sk-container-id-1 div.sk-parallel-item::before {content: \"\";position: absolute;border-left: 1px solid gray;box-sizing: border-box;top: 0;bottom: 0;left: 50%;z-index: -1;}#sk-container-id-1 div.sk-parallel-item {display: flex;flex-direction: column;z-index: 1;position: relative;background-color: white;}#sk-container-id-1 div.sk-parallel-item:first-child::after {align-self: flex-end;width: 50%;}#sk-container-id-1 div.sk-parallel-item:last-child::after {align-self: flex-start;width: 50%;}#sk-container-id-1 div.sk-parallel-item:only-child::after {width: 0;}#sk-container-id-1 div.sk-dashed-wrapped {border: 1px dashed gray;margin: 0 0.4em 0.5em 0.4em;box-sizing: border-box;padding-bottom: 0.4em;background-color: white;}#sk-container-id-1 div.sk-label label {font-family: monospace;font-weight: bold;display: inline-block;line-height: 1.2em;}#sk-container-id-1 div.sk-label-container {text-align: center;}#sk-container-id-1 div.sk-container {/* jupyter's `normalize.less` sets `[hidden] { display: none; }` but bootstrap.min.css set `[hidden] { display: none !important; }` so we also need the `!important` here to be able to override the default hidden behavior on the sphinx rendered scikit-learn.org. See: https://github.com/scikit-learn/scikit-learn/issues/21755 */display: inline-block !important;position: relative;}#sk-container-id-1 div.sk-text-repr-fallback {display: none;}</style><div id=\"sk-container-id-1\" class=\"sk-top-container\"><div class=\"sk-text-repr-fallback\"><pre>XGBClassifier(base_score=None, booster=None, callbacks=None,\n",
       "              colsample_bylevel=None, colsample_bynode=None,\n",
       "              colsample_bytree=None, device=None, early_stopping_rounds=None,\n",
       "              enable_categorical=False, eval_metric=None, feature_types=None,\n",
       "              gamma=2, grow_policy=None, importance_type=None,\n",
       "              interaction_constraints=None, learning_rate=0.1, max_bin=None,\n",
       "              max_cat_threshold=None, max_cat_to_onehot=None,\n",
       "              max_delta_step=None, max_depth=8, max_leaves=None,\n",
       "              min_child_weight=50, missing=nan, monotone_constraints=None,\n",
       "              multi_strategy=None, n_estimators=30, n_jobs=None,\n",
       "              num_parallel_tree=None, random_state=None, ...)</pre><b>In a Jupyter environment, please rerun this cell to show the HTML representation or trust the notebook. <br />On GitHub, the HTML representation is unable to render, please try loading this page with nbviewer.org.</b></div><div class=\"sk-container\" hidden><div class=\"sk-item\"><div class=\"sk-estimator sk-toggleable\"><input class=\"sk-toggleable__control sk-hidden--visually\" id=\"sk-estimator-id-1\" type=\"checkbox\" checked><label for=\"sk-estimator-id-1\" class=\"sk-toggleable__label sk-toggleable__label-arrow\">XGBClassifier</label><div class=\"sk-toggleable__content\"><pre>XGBClassifier(base_score=None, booster=None, callbacks=None,\n",
       "              colsample_bylevel=None, colsample_bynode=None,\n",
       "              colsample_bytree=None, device=None, early_stopping_rounds=None,\n",
       "              enable_categorical=False, eval_metric=None, feature_types=None,\n",
       "              gamma=2, grow_policy=None, importance_type=None,\n",
       "              interaction_constraints=None, learning_rate=0.1, max_bin=None,\n",
       "              max_cat_threshold=None, max_cat_to_onehot=None,\n",
       "              max_delta_step=None, max_depth=8, max_leaves=None,\n",
       "              min_child_weight=50, missing=nan, monotone_constraints=None,\n",
       "              multi_strategy=None, n_estimators=30, n_jobs=None,\n",
       "              num_parallel_tree=None, random_state=None, ...)</pre></div></div></div></div></div>"
      ],
      "text/plain": [
       "XGBClassifier(base_score=None, booster=None, callbacks=None,\n",
       "              colsample_bylevel=None, colsample_bynode=None,\n",
       "              colsample_bytree=None, device=None, early_stopping_rounds=None,\n",
       "              enable_categorical=False, eval_metric=None, feature_types=None,\n",
       "              gamma=2, grow_policy=None, importance_type=None,\n",
       "              interaction_constraints=None, learning_rate=0.1, max_bin=None,\n",
       "              max_cat_threshold=None, max_cat_to_onehot=None,\n",
       "              max_delta_step=None, max_depth=8, max_leaves=None,\n",
       "              min_child_weight=50, missing=nan, monotone_constraints=None,\n",
       "              multi_strategy=None, n_estimators=30, n_jobs=None,\n",
       "              num_parallel_tree=None, random_state=None, ...)"
      ]
     },
     "execution_count": 21,
     "metadata": {},
     "output_type": "execute_result"
    }
   ],
   "source": [
    "xgb_model.fit(train_df[predictor_features], train_df['target'],\n",
    "              eval_set = [(train_df[predictor_features], train_df['target']),\n",
    "                         (val_df[predictor_features], val_df['target'])])"
   ]
  },
  {
   "cell_type": "markdown",
   "id": "0913a102-a730-4b94-9977-e584df764d64",
   "metadata": {},
   "source": [
    "##### Save the model"
   ]
  },
  {
   "cell_type": "code",
   "execution_count": 22,
   "id": "af21dd7c-09d4-407f-9960-0748ba8f2247",
   "metadata": {},
   "outputs": [],
   "source": [
    "xgb_model.save_model(Path(setup.temp_path).joinpath('64_MODEL_xgboost.json'))"
   ]
  },
  {
   "cell_type": "code",
   "execution_count": 23,
   "id": "8e5d3e7d-0bd5-4252-b287-c9cc65f7a132",
   "metadata": {},
   "outputs": [],
   "source": [
    "with open(Path(setup.temp_path).joinpath('64_MODEL_xgboost.pkl'), 'wb') as po:\n",
    "    pickle.dump(xgb_model, po)"
   ]
  },
  {
   "cell_type": "markdown",
   "id": "f34ad059-70dc-4672-adff-0d961fc74b07",
   "metadata": {},
   "source": [
    "## Probability Predictions"
   ]
  },
  {
   "cell_type": "code",
   "execution_count": 24,
   "id": "6a7c8509-0109-4f8e-a466-d6e21164012c",
   "metadata": {},
   "outputs": [],
   "source": [
    "pred_df = pd.concat([sba_loans[['LoanNr_ChkDgt', 'dset', 'target', 'dset_naics_holdout']].reset_index(),\n",
    "                     pd.DataFrame({'predict_prob':\n",
    "                                   xgb_model.predict_proba(sba_loans[predictor_features])[:,1]})],\n",
    "                    axis=1) \\\n",
    "    .set_index('index')"
   ]
  },
  {
   "cell_type": "code",
   "execution_count": 25,
   "id": "7084012d-b68a-4ca4-b714-160f8d564500",
   "metadata": {},
   "outputs": [
    {
     "data": {
      "text/html": [
       "<div>\n",
       "<style scoped>\n",
       "    .dataframe tbody tr th:only-of-type {\n",
       "        vertical-align: middle;\n",
       "    }\n",
       "\n",
       "    .dataframe tbody tr th {\n",
       "        vertical-align: top;\n",
       "    }\n",
       "\n",
       "    .dataframe thead th {\n",
       "        text-align: right;\n",
       "    }\n",
       "</style>\n",
       "<table border=\"1\" class=\"dataframe\">\n",
       "  <thead>\n",
       "    <tr style=\"text-align: right;\">\n",
       "      <th></th>\n",
       "      <th>mean</th>\n",
       "      <th>std</th>\n",
       "      <th>min</th>\n",
       "      <th>max</th>\n",
       "      <th>median</th>\n",
       "    </tr>\n",
       "    <tr>\n",
       "      <th>target</th>\n",
       "      <th></th>\n",
       "      <th></th>\n",
       "      <th></th>\n",
       "      <th></th>\n",
       "      <th></th>\n",
       "    </tr>\n",
       "  </thead>\n",
       "  <tbody>\n",
       "    <tr>\n",
       "      <th>0</th>\n",
       "      <td>0.187930</td>\n",
       "      <td>0.107334</td>\n",
       "      <td>0.015965</td>\n",
       "      <td>0.647004</td>\n",
       "      <td>0.185338</td>\n",
       "    </tr>\n",
       "    <tr>\n",
       "      <th>1</th>\n",
       "      <td>0.269976</td>\n",
       "      <td>0.092723</td>\n",
       "      <td>0.015965</td>\n",
       "      <td>0.681023</td>\n",
       "      <td>0.288314</td>\n",
       "    </tr>\n",
       "  </tbody>\n",
       "</table>\n",
       "</div>"
      ],
      "text/plain": [
       "            mean       std       min       max    median\n",
       "target                                                  \n",
       "0       0.187930  0.107334  0.015965  0.647004  0.185338\n",
       "1       0.269976  0.092723  0.015965  0.681023  0.288314"
      ]
     },
     "execution_count": 25,
     "metadata": {},
     "output_type": "execute_result"
    }
   ],
   "source": [
    "pred_df.groupby('target')['predict_prob'].agg(['mean', 'std', 'min', 'max', 'median'])"
   ]
  },
  {
   "cell_type": "markdown",
   "id": "d33cb4dc-6c89-4a37-98c7-d3a666abc4a5",
   "metadata": {},
   "source": [
    "## Decision Threshold\n",
    "Max f1, on training data"
   ]
  },
  {
   "cell_type": "code",
   "execution_count": 26,
   "id": "d7727498-825f-4f53-882f-cfcce730b1fc",
   "metadata": {},
   "outputs": [],
   "source": [
    "pred_train_df = pred_df[pred_df['dset'] == 'train']"
   ]
  },
  {
   "cell_type": "code",
   "execution_count": 27,
   "id": "7b553798-eead-48f8-b14b-5f036d9183d9",
   "metadata": {},
   "outputs": [],
   "source": [
    "thresh_tune_data = sg_plot.get_f1_frame(pred_train_df['target'], \n",
    "                                        pred_train_df['predict_prob'])"
   ]
  },
  {
   "cell_type": "code",
   "execution_count": 28,
   "id": "7a1cde01-a30b-475f-8fd7-409b13946c6d",
   "metadata": {},
   "outputs": [],
   "source": [
    "thresh_tune_data.to_csv(Path(setup.temp_path).joinpath('64_REPORT_thresh_tune.csv'), index=False)"
   ]
  },
  {
   "cell_type": "code",
   "execution_count": 29,
   "id": "947a487c-e71d-433c-bbf0-2ed7e57a908a",
   "metadata": {},
   "outputs": [
    {
     "name": "stdout",
     "output_type": "stream",
     "text": [
      "0.22\n"
     ]
    },
    {
     "data": {
      "text/html": [
       "<div>\n",
       "<style scoped>\n",
       "    .dataframe tbody tr th:only-of-type {\n",
       "        vertical-align: middle;\n",
       "    }\n",
       "\n",
       "    .dataframe tbody tr th {\n",
       "        vertical-align: top;\n",
       "    }\n",
       "\n",
       "    .dataframe thead th {\n",
       "        text-align: right;\n",
       "    }\n",
       "</style>\n",
       "<table border=\"1\" class=\"dataframe\">\n",
       "  <thead>\n",
       "    <tr style=\"text-align: right;\">\n",
       "      <th></th>\n",
       "      <th>thresh</th>\n",
       "      <th>f1</th>\n",
       "    </tr>\n",
       "  </thead>\n",
       "  <tbody>\n",
       "    <tr>\n",
       "      <th>11</th>\n",
       "      <td>0.22</td>\n",
       "      <td>0.437567</td>\n",
       "    </tr>\n",
       "    <tr>\n",
       "      <th>10</th>\n",
       "      <td>0.20</td>\n",
       "      <td>0.435501</td>\n",
       "    </tr>\n",
       "  </tbody>\n",
       "</table>\n",
       "</div>"
      ],
      "text/plain": [
       "    thresh        f1\n",
       "11    0.22  0.437567\n",
       "10    0.20  0.435501"
      ]
     },
     "execution_count": 29,
     "metadata": {},
     "output_type": "execute_result"
    }
   ],
   "source": [
    "thresh_head = thresh_tune_data.sort_values('f1', ascending=False).head(2)\n",
    "best_thresh = thresh_head['thresh'].iloc[0]\n",
    "print(best_thresh)\n",
    "thresh_head"
   ]
  },
  {
   "cell_type": "markdown",
   "id": "1ee5330e-c1a7-4310-afbe-be9bc0d26f43",
   "metadata": {},
   "source": [
    "##### Apply decision threshold\n",
    "All datasets"
   ]
  },
  {
   "cell_type": "code",
   "execution_count": 30,
   "id": "f0d4c1cf-6d5b-49e9-9123-a067697a9e39",
   "metadata": {},
   "outputs": [],
   "source": [
    "pred_df['predict_bin'] = np.where(pred_df['predict_prob'] >= best_thresh, 1, 0)"
   ]
  },
  {
   "cell_type": "code",
   "execution_count": 31,
   "id": "8253c32c-0438-47b9-8570-7cde6f7f5590",
   "metadata": {},
   "outputs": [
    {
     "data": {
      "text/plain": [
       "predict_bin\n",
       "0    357850\n",
       "1    330231\n",
       "Name: count, dtype: int64"
      ]
     },
     "execution_count": 31,
     "metadata": {},
     "output_type": "execute_result"
    }
   ],
   "source": [
    "pred_df['predict_bin'].value_counts()"
   ]
  },
  {
   "cell_type": "code",
   "execution_count": 32,
   "id": "dbb46f4a-a5ef-4fd6-9da4-30de4a00334d",
   "metadata": {},
   "outputs": [],
   "source": [
    "pred_df.to_parquet(Path(setup.temp_path).joinpath('64_DATA_combined_predictions.parquet'))"
   ]
  },
  {
   "cell_type": "markdown",
   "id": "0ab860d0-eddc-4f63-b853-88da15d451f4",
   "metadata": {},
   "source": [
    "## Metrics"
   ]
  },
  {
   "cell_type": "code",
   "execution_count": 33,
   "id": "f2801964-124e-425f-b4cb-9bcf1cf3f04a",
   "metadata": {},
   "outputs": [
    {
     "data": {
      "text/html": [
       "<div>\n",
       "<style scoped>\n",
       "    .dataframe tbody tr th:only-of-type {\n",
       "        vertical-align: middle;\n",
       "    }\n",
       "\n",
       "    .dataframe tbody tr th {\n",
       "        vertical-align: top;\n",
       "    }\n",
       "\n",
       "    .dataframe thead th {\n",
       "        text-align: right;\n",
       "    }\n",
       "</style>\n",
       "<table border=\"1\" class=\"dataframe\">\n",
       "  <thead>\n",
       "    <tr style=\"text-align: right;\">\n",
       "      <th></th>\n",
       "      <th>dset</th>\n",
       "      <th>accuracy_score</th>\n",
       "      <th>f1_score</th>\n",
       "      <th>precision_score</th>\n",
       "      <th>recall_score</th>\n",
       "      <th>average_precision_score</th>\n",
       "      <th>roc_auc_score</th>\n",
       "      <th>dset_naics_holdout</th>\n",
       "    </tr>\n",
       "  </thead>\n",
       "  <tbody>\n",
       "    <tr>\n",
       "      <th>0</th>\n",
       "      <td>test</td>\n",
       "      <td>0.629619</td>\n",
       "      <td>0.434271</td>\n",
       "      <td>0.309817</td>\n",
       "      <td>0.725841</td>\n",
       "      <td>0.358042</td>\n",
       "      <td>0.722552</td>\n",
       "      <td>NaN</td>\n",
       "    </tr>\n",
       "    <tr>\n",
       "      <th>1</th>\n",
       "      <td>train</td>\n",
       "      <td>0.611426</td>\n",
       "      <td>0.437567</td>\n",
       "      <td>0.310870</td>\n",
       "      <td>0.738578</td>\n",
       "      <td>0.359594</td>\n",
       "      <td>0.712956</td>\n",
       "      <td>NaN</td>\n",
       "    </tr>\n",
       "    <tr>\n",
       "      <th>2</th>\n",
       "      <td>val</td>\n",
       "      <td>0.608706</td>\n",
       "      <td>0.436010</td>\n",
       "      <td>0.311015</td>\n",
       "      <td>0.728984</td>\n",
       "      <td>0.358374</td>\n",
       "      <td>0.707975</td>\n",
       "      <td>NaN</td>\n",
       "    </tr>\n",
       "    <tr>\n",
       "      <th>0</th>\n",
       "      <td>test</td>\n",
       "      <td>0.609652</td>\n",
       "      <td>0.438078</td>\n",
       "      <td>0.311180</td>\n",
       "      <td>0.739739</td>\n",
       "      <td>0.356489</td>\n",
       "      <td>0.711046</td>\n",
       "      <td>0.0</td>\n",
       "    </tr>\n",
       "    <tr>\n",
       "      <th>1</th>\n",
       "      <td>test</td>\n",
       "      <td>0.658304</td>\n",
       "      <td>0.427910</td>\n",
       "      <td>0.307513</td>\n",
       "      <td>0.703240</td>\n",
       "      <td>0.360423</td>\n",
       "      <td>0.737600</td>\n",
       "      <td>1.0</td>\n",
       "    </tr>\n",
       "  </tbody>\n",
       "</table>\n",
       "</div>"
      ],
      "text/plain": [
       "    dset  accuracy_score  f1_score  precision_score  recall_score  \\\n",
       "0   test        0.629619  0.434271         0.309817      0.725841   \n",
       "1  train        0.611426  0.437567         0.310870      0.738578   \n",
       "2    val        0.608706  0.436010         0.311015      0.728984   \n",
       "0   test        0.609652  0.438078         0.311180      0.739739   \n",
       "1   test        0.658304  0.427910         0.307513      0.703240   \n",
       "\n",
       "   average_precision_score  roc_auc_score  dset_naics_holdout  \n",
       "0                 0.358042       0.722552                 NaN  \n",
       "1                 0.359594       0.712956                 NaN  \n",
       "2                 0.358374       0.707975                 NaN  \n",
       "0                 0.356489       0.711046                 0.0  \n",
       "1                 0.360423       0.737600                 1.0  "
      ]
     },
     "execution_count": 33,
     "metadata": {},
     "output_type": "execute_result"
    }
   ],
   "source": [
    "metrics_dset_df = pred_df.groupby('dset') \\\n",
    "    .apply(lambda x: sg_plot.dset_metrics(x.target, x.predict_bin, x.predict_prob)) \\\n",
    "    .reset_index()\n",
    "metrics_test_df = pred_df[pred_df['dset'] == 'test'] \\\n",
    "    .groupby(['dset', 'dset_naics_holdout']) \\\n",
    "    .apply(lambda x: sg_plot.dset_metrics(x.target, x.predict_bin, x.predict_prob)) \\\n",
    "    .reset_index()\n",
    "metrics_df = pd.concat([metrics_dset_df, metrics_test_df])\n",
    "metrics_df.to_csv(Path(setup.temp_path).joinpath('64_REPORT_metrics.csv'), index=True)\n",
    "metrics_df"
   ]
  },
  {
   "cell_type": "markdown",
   "id": "3d906270-4264-4b0b-9f50-dcef8f75a5fd",
   "metadata": {},
   "source": [
    "## Lift\n",
    "Test data"
   ]
  },
  {
   "cell_type": "code",
   "execution_count": 34,
   "id": "82d9c0ab-8989-450d-a2b1-7997ca636052",
   "metadata": {
    "tags": []
   },
   "outputs": [],
   "source": [
    "pred_test_df = pred_df[pred_df['dset'] == 'test']"
   ]
  },
  {
   "cell_type": "code",
   "execution_count": 35,
   "id": "c01f5279-1151-4a8d-9b21-e12d4092f3c1",
   "metadata": {},
   "outputs": [
    {
     "data": {
      "image/png": "[encoded data removed]",
      "text/plain": [
       "<Figure size 400x300 with 1 Axes>"
      ]
     },
     "metadata": {},
     "output_type": "display_data"
    }
   ],
   "source": [
    "plot_lift_curve(pred_test_df['target'], \n",
    "                pd.concat([1-pred_test_df['predict_prob'], pred_test_df['predict_prob']], axis=1), \n",
    "                title='Lift Curve', ax=None, figsize=(4,3), \n",
    "                title_fontsize='large', text_fontsize='medium')\n",
    "plt.gca().legend(loc='upper right')\n",
    "plt.gcf().savefig(Path(setup.temp_path).joinpath('64_PLOT_lift_curve.png'),bbox_inches='tight')"
   ]
  },
  {
   "cell_type": "markdown",
   "id": "04994f41-3c98-412a-bb2f-11e5ae22b432",
   "metadata": {},
   "source": [
    "## Feature Importance "
   ]
  },
  {
   "cell_type": "markdown",
   "id": "926af7df-e407-484b-bd86-ae7d76a46392",
   "metadata": {},
   "source": [
    "##### XGBoost gain"
   ]
  },
  {
   "cell_type": "code",
   "execution_count": 36,
   "id": "ec3f6e1f-2b29-4b46-ac12-7a8451a3a45b",
   "metadata": {},
   "outputs": [],
   "source": [
    "feat_impgain = pd.DataFrame(xgb_model.get_booster().get_score(importance_type='gain'),\n",
    "                                     index=['importance']).T \\\n",
    "    .sort_values('importance', ascending=False)"
   ]
  },
  {
   "cell_type": "code",
   "execution_count": 37,
   "id": "9586c637-7add-4401-b61c-37abd55b11b4",
   "metadata": {},
   "outputs": [],
   "source": [
    "feat_impgain.to_csv(Path(setup.temp_path).joinpath('64_REPORT_importance_gain.csv'), index=True)"
   ]
  },
  {
   "cell_type": "code",
   "execution_count": 38,
   "id": "311e111f-d8e5-4a52-8adc-6a7c5f9daa8f",
   "metadata": {},
   "outputs": [
    {
     "data": {
      "text/html": [
       "<div>\n",
       "<style scoped>\n",
       "    .dataframe tbody tr th:only-of-type {\n",
       "        vertical-align: middle;\n",
       "    }\n",
       "\n",
       "    .dataframe tbody tr th {\n",
       "        vertical-align: top;\n",
       "    }\n",
       "\n",
       "    .dataframe thead th {\n",
       "        text-align: right;\n",
       "    }\n",
       "</style>\n",
       "<table border=\"1\" class=\"dataframe\">\n",
       "  <thead>\n",
       "    <tr style=\"text-align: right;\">\n",
       "      <th></th>\n",
       "      <th>importance</th>\n",
       "    </tr>\n",
       "  </thead>\n",
       "  <tbody>\n",
       "    <tr>\n",
       "      <th>urban_flag</th>\n",
       "      <td>689.711365</td>\n",
       "    </tr>\n",
       "    <tr>\n",
       "      <th>LowDoc</th>\n",
       "      <td>145.920090</td>\n",
       "    </tr>\n",
       "    <tr>\n",
       "      <th>DisbursementGross</th>\n",
       "      <td>77.145554</td>\n",
       "    </tr>\n",
       "    <tr>\n",
       "      <th>NC__8</th>\n",
       "      <td>36.209290</td>\n",
       "    </tr>\n",
       "    <tr>\n",
       "      <th>NC__1</th>\n",
       "      <td>35.729713</td>\n",
       "    </tr>\n",
       "  </tbody>\n",
       "</table>\n",
       "</div>"
      ],
      "text/plain": [
       "                   importance\n",
       "urban_flag         689.711365\n",
       "LowDoc             145.920090\n",
       "DisbursementGross   77.145554\n",
       "NC__8               36.209290\n",
       "NC__1               35.729713"
      ]
     },
     "execution_count": 38,
     "metadata": {},
     "output_type": "execute_result"
    }
   ],
   "source": [
    "feat_impgain.head()"
   ]
  },
  {
   "cell_type": "code",
   "execution_count": 39,
   "id": "9c88564a-7289-4c49-b2cd-b97338d1b042",
   "metadata": {},
   "outputs": [
    {
     "data": {
      "image/png": "[encoded data removed]",
      "text/plain": [
       "<Figure size 640x480 with 1 Axes>"
      ]
     },
     "metadata": {},
     "output_type": "display_data"
    }
   ],
   "source": [
    "feat_impgain.plot(kind='barh', legend=None)\n",
    "plt.gca().invert_yaxis()\n",
    "plt.xlabel('gain importance')\n",
    "plt.gcf().savefig(Path(setup.temp_path).joinpath('64_PLOT_importance_gain.png'))"
   ]
  },
  {
   "cell_type": "markdown",
   "id": "27e5fb90-f305-40ff-acaf-285d7d056c15",
   "metadata": {},
   "source": [
    "##### Permutation Importance"
   ]
  },
  {
   "cell_type": "code",
   "execution_count": null,
   "id": "e2c1c123-20d0-423d-b684-585c0a5d6d2b",
   "metadata": {},
   "outputs": [],
   "source": [
    "perm_importance = permutation_importance(xgb_model, \n",
    "                                         train_df[predictor_features],  train_df['target'],\n",
    "                                         n_repeats=30, scoring = 'average_precision')"
   ]
  },
  {
   "cell_type": "code",
   "execution_count": null,
   "id": "ab0df42e-af4e-46b1-b0cf-630877137678",
   "metadata": {},
   "outputs": [],
   "source": [
    "perm_importance_df = pd.DataFrame({'features':predictor_features,\n",
    "                                   'importance': perm_importance['importances_mean']}) \n",
    "perm_importance_df['abs_importance'] = np.abs(perm_importance_df['importance'])\n",
    "perm_importance_df = perm_importance_df.sort_values('abs_importance', ascending=False)"
   ]
  },
  {
   "cell_type": "code",
   "execution_count": null,
   "id": "0cbc5d84-6775-404f-a685-44f5be5cd481",
   "metadata": {},
   "outputs": [],
   "source": [
    "perm_importance_df.head(5)"
   ]
  },
  {
   "cell_type": "code",
   "execution_count": null,
   "id": "38059608-2f72-491f-86b3-0c1418b83531",
   "metadata": {},
   "outputs": [],
   "source": [
    "perm_importance_df \\\n",
    "    .to_csv(Path(setup.temp_path).joinpath('64_DATA_importance_perturb.csv'),\n",
    "            index=False)"
   ]
  },
  {
   "cell_type": "code",
   "execution_count": null,
   "id": "c27499c8-065b-4143-a7dc-bce301bf3edf",
   "metadata": {},
   "outputs": [],
   "source": [
    "perm_importance_df.head(10).plot(kind='barh', x='features', y='importance', legend=None)\n",
    "plt.gca().invert_yaxis()\n",
    "plt.xlabel('permutation importance')\n",
    "plt.ylabel(None)\n",
    "plt.gcf().savefig(Path(setup.temp_path).joinpath('64_PLOT_importance_perturb.png'))"
   ]
  },
  {
   "cell_type": "markdown",
   "id": "6fd44a7c-bcf5-4284-8b9f-b575fa523ff3",
   "metadata": {},
   "source": [
    "## PDP Plot - One Hot"
   ]
  },
  {
   "cell_type": "code",
   "execution_count": null,
   "id": "0f5a4774-bf8b-4c7f-9003-e1bcb4c101f8",
   "metadata": {},
   "outputs": [],
   "source": [
    "naics_features = list(train_df.filter(like='NC_').columns)"
   ]
  },
  {
   "cell_type": "code",
   "execution_count": null,
   "id": "730411c5-81d3-4911-ad8f-8743dc1617e4",
   "metadata": {},
   "outputs": [],
   "source": [
    "plt.close()"
   ]
  },
  {
   "cell_type": "code",
   "execution_count": null,
   "id": "85ab4bf4-0f82-4121-842d-fd22164982cd",
   "metadata": {},
   "outputs": [],
   "source": [
    "fig, ax = plt.subplots(int(np.ceil(len(naics_features)/2)), 2, sharex=True, sharey=True, figsize=(6, 9))\n",
    "for i in range(len(naics_features)):\n",
    "    col = int(i % 2)\n",
    "    row = int(np.floor(i / 2))\n",
    "    results = partial_dependence(xgb_model, train_df[predictor_features], \n",
    "                                 [naics_features[i]])\n",
    "    pdp_df = pd.DataFrame({'grid_values':results[\"grid_values\"][0],\n",
    "                       'pdp':results[\"average\"][0]})\n",
    "    pdp_df.plot(x='grid_values', y='pdp', legend=None, ax=ax[row, col])\n",
    "\n",
    "fig.tight_layout()\n",
    "fig.savefig(Path(setup.temp_path).joinpath('64_PLOT_pdp_naics_onehot.png'),\n",
    "               bbox_inches='tight')\n",
    "plt.show()"
   ]
  },
  {
   "cell_type": "code",
   "execution_count": null,
   "id": "00f5a81f-7075-42bf-a660-88944a1298b5",
   "metadata": {},
   "outputs": [],
   "source": []
  },
  {
   "cell_type": "code",
   "execution_count": null,
   "id": "7687bacc-ac2c-4665-bcc0-58126b967dfa",
   "metadata": {},
   "outputs": [],
   "source": []
  },
  {
   "cell_type": "code",
   "execution_count": null,
   "id": "32bdc5fd-c8b9-4e45-a0da-7c50549ba6c7",
   "metadata": {},
   "outputs": [],
   "source": []
  }
 ],
 "metadata": {
  "kernelspec": {
   "display_name": "tf_p39",
   "language": "python",
   "name": "tf_p39"
  },
  "language_info": {
   "codemirror_mode": {
    "name": "ipython",
    "version": 3
   },
   "file_extension": ".py",
   "mimetype": "text/x-python",
   "name": "python",
   "nbconvert_exporter": "python",
   "pygments_lexer": "ipython3",
   "version": "3.8.18"
  }
 },
 "nbformat": 4,
 "nbformat_minor": 5
}
