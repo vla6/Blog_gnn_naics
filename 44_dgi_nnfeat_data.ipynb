{
 "cells": [
  {
   "cell_type": "code",
   "execution_count": 4,
   "id": "6b94b07d-c145-44ab-8566-1d5a793bf077",
   "metadata": {
    "tags": []
   },
   "outputs": [],
   "source": [
    "# Modify the file 00_setup.py to define input/output file paths on your system\n",
    "# The information in 00_setup.py will be used across notebooks\n",
    "from importlib.machinery import SourceFileLoader\n",
    "setup = SourceFileLoader(\"setup\", \"./00_setup.py\").load_module()"
   ]
  },
  {
   "cell_type": "markdown",
   "id": "2a58b5dd-6863-43f9-b28c-da9378afb1d7",
   "metadata": {},
   "source": [
    "# GNN - Unsup Model Data, Features From NN Model"
   ]
  },
  {
   "cell_type": "markdown",
   "id": "20b91454-640d-4055-aac4-067fe1fe58b8",
   "metadata": {},
   "source": [
    "Create Stellargraph objects for unsupervised GNN runs.  Features are taken from businesses' NN model embeddings (model without NAICS, script 11).  No target feature. "
   ]
  },
  {
   "cell_type": "markdown",
   "id": "ce6fed7e-3548-4bee-8d57-9244be1222b4",
   "metadata": {},
   "source": [
    "*This script takes about 15 minutes on my MacBook Air*"
   ]
  },
  {
   "cell_type": "code",
   "execution_count": 5,
   "id": "52c010c9-235e-4845-bc23-dd9b82acc741",
   "metadata": {},
   "outputs": [],
   "source": [
    "import pandas as pd\n",
    "import numpy as np"
   ]
  },
  {
   "cell_type": "code",
   "execution_count": 6,
   "id": "dd932005-3f42-434a-a7e3-34d6fdab71b8",
   "metadata": {},
   "outputs": [],
   "source": [
    "from pathlib import Path\n",
    "import importlib\n",
    "import pickle, re"
   ]
  },
  {
   "cell_type": "code",
   "execution_count": 7,
   "id": "3c0a0d65-40df-4f60-a5ba-5a19d817765c",
   "metadata": {},
   "outputs": [],
   "source": [
    "from sba_gnn.sba_gnn import sg_gnn"
   ]
  },
  {
   "cell_type": "code",
   "execution_count": 8,
   "id": "59ba58e0-e2a1-4b3d-b125-d77a463fab1b",
   "metadata": {},
   "outputs": [
    {
     "name": "stderr",
     "output_type": "stream",
     "text": [
      "2024-01-29 15:28:36.557051: I metal_plugin/src/device/metal_device.cc:1154] Metal device set to: Apple M1\n",
      "2024-01-29 15:28:36.557084: I metal_plugin/src/device/metal_device.cc:296] systemMemory: 16.00 GB\n",
      "2024-01-29 15:28:36.557100: I metal_plugin/src/device/metal_device.cc:313] maxCacheSize: 5.33 GB\n",
      "2024-01-29 15:28:36.557159: I tensorflow/core/common_runtime/pluggable_device/pluggable_device_factory.cc:303] Could not identify NUMA node of platform GPU ID 0, defaulting to 0. Your kernel may not have been built with NUMA support.\n",
      "2024-01-29 15:28:36.557183: I tensorflow/core/common_runtime/pluggable_device/pluggable_device_factory.cc:269] Created TensorFlow device (/job:localhost/replica:0/task:0/device:GPU:0 with 0 MB memory) -> physical PluggableDevice (device: 0, name: METAL, pci bus id: <undefined>)\n"
     ]
    }
   ],
   "source": [
    "import stellargraph as sg\n",
    "from stellargraph import StellarGraph"
   ]
  },
  {
   "cell_type": "markdown",
   "id": "4da4b71d-5108-49e6-80e1-521c23def729",
   "metadata": {
    "tags": []
   },
   "source": [
    "## Import Data"
   ]
  },
  {
   "cell_type": "code",
   "execution_count": 9,
   "id": "dda95f7d-ebcb-4a40-859e-45dd3941df57",
   "metadata": {},
   "outputs": [],
   "source": [
    "## Business embeddings from NN model\n",
    "embed_df = pd.read_parquet(Path(setup.temp_path).joinpath('11_DATA_embeddings.parquet'))"
   ]
  },
  {
   "cell_type": "code",
   "execution_count": 10,
   "id": "996c4e78-5042-4cc2-a5e4-a6e2ba617349",
   "metadata": {},
   "outputs": [
    {
     "name": "stdout",
     "output_type": "stream",
     "text": [
      "['LoanNr_ChkDgt', 'emb_000', 'emb_001', 'emb_002', 'emb_003', 'emb_004', 'emb_005', 'emb_006', 'emb_007', 'emb_008', 'emb_009', 'emb_010', 'emb_011', 'emb_012', 'emb_013', 'emb_014', 'emb_015', 'emb_016', 'emb_017', 'emb_018', 'emb_019', 'emb_020', 'emb_021', 'emb_022', 'emb_023', 'emb_024', 'emb_025', 'emb_026', 'emb_027', 'emb_028', 'emb_029', 'emb_030', 'emb_031', 'emb_032', 'emb_033', 'emb_034', 'emb_035', 'emb_036', 'emb_037', 'emb_038', 'emb_039', 'emb_040', 'emb_041', 'emb_042', 'emb_043', 'emb_044', 'emb_045', 'emb_046', 'emb_047', 'emb_048', 'emb_049', 'emb_050', 'emb_051', 'emb_052', 'emb_053', 'emb_054', 'emb_055', 'emb_056', 'emb_057', 'emb_058', 'emb_059', 'emb_060', 'emb_061', 'emb_062', 'emb_063']\n"
     ]
    }
   ],
   "source": [
    "print(list(embed_df.columns))"
   ]
  },
  {
   "cell_type": "code",
   "execution_count": 11,
   "id": "8b7ce228-82c7-4943-930d-72a171b48195",
   "metadata": {},
   "outputs": [],
   "source": [
    "## Raw features\n",
    "comb_df = pd.read_parquet(Path(setup.temp_path).joinpath('10_DATA_combined_scaled_all.parquet'))"
   ]
  },
  {
   "cell_type": "code",
   "execution_count": 19,
   "id": "8b4f551f-cf51-4e77-8d32-5561bcd8d9b0",
   "metadata": {},
   "outputs": [
    {
     "data": {
      "text/plain": [
       "Index(['NAICS_orig', 'NAICS_sector', 'menc_NAICS', 'menc_NAICS_sector',\n",
       "       'NAICS'],\n",
       "      dtype='object')"
      ]
     },
     "execution_count": 19,
     "metadata": {},
     "output_type": "execute_result"
    }
   ],
   "source": [
    "comb_df.filter(like='NAICS').columns"
   ]
  },
  {
   "cell_type": "markdown",
   "id": "4cb738b9-df77-4397-9cd9-bced52bf6fb7",
   "metadata": {},
   "source": [
    "###### Data used to create previous graphs"
   ]
  },
  {
   "cell_type": "code",
   "execution_count": 12,
   "id": "ce454e58-663d-4dfa-af83-444f00825eab",
   "metadata": {},
   "outputs": [],
   "source": [
    "edges_all = pd.read_parquet(Path(setup.temp_path).joinpath('40_DATA_graph_edges.parquet'))"
   ]
  },
  {
   "cell_type": "code",
   "execution_count": 13,
   "id": "97e53db9-ebf6-40ec-b7ff-400c7232b324",
   "metadata": {},
   "outputs": [],
   "source": [
    "node_features_naics = pd.read_parquet(Path(setup.temp_path).joinpath('40_DATA_graph_node_features_naics.parquet'))"
   ]
  },
  {
   "cell_type": "markdown",
   "id": "4eb23221-aaec-4aa5-b19c-86441375b4fc",
   "metadata": {},
   "source": [
    "## Loan node features\n",
    "From business embeddings"
   ]
  },
  {
   "cell_type": "code",
   "execution_count": 20,
   "id": "6057d372-7440-4aea-8a64-692056f9d098",
   "metadata": {},
   "outputs": [],
   "source": [
    "node_features_business = embed_df.set_index('LoanNr_ChkDgt') \\\n",
    "    .merge(comb_df[['LoanNr_ChkDgt', 'dset', 'NAICS_orig']], on='LoanNr_ChkDgt') \\\n",
    "    .set_index('LoanNr_ChkDgt') \\\n",
    "    .sort_index()"
   ]
  },
  {
   "cell_type": "code",
   "execution_count": 21,
   "id": "9df872ce-b9ae-48d7-88f3-a0cb247336c8",
   "metadata": {},
   "outputs": [],
   "source": [
    "node_features_business.to_parquet(Path(setup.temp_path).joinpath('44_DATA_graph_node_features_loans.parquet'))"
   ]
  },
  {
   "cell_type": "code",
   "execution_count": 22,
   "id": "66e2a5f4-d370-4349-b49f-627cb55845b0",
   "metadata": {},
   "outputs": [
    {
     "data": {
      "text/html": [
       "<div>\n",
       "<style scoped>\n",
       "    .dataframe tbody tr th:only-of-type {\n",
       "        vertical-align: middle;\n",
       "    }\n",
       "\n",
       "    .dataframe tbody tr th {\n",
       "        vertical-align: top;\n",
       "    }\n",
       "\n",
       "    .dataframe thead th {\n",
       "        text-align: right;\n",
       "    }\n",
       "</style>\n",
       "<table border=\"1\" class=\"dataframe\">\n",
       "  <thead>\n",
       "    <tr style=\"text-align: right;\">\n",
       "      <th></th>\n",
       "      <th>emb_000</th>\n",
       "      <th>emb_001</th>\n",
       "      <th>emb_002</th>\n",
       "      <th>emb_003</th>\n",
       "      <th>emb_004</th>\n",
       "      <th>emb_005</th>\n",
       "      <th>emb_006</th>\n",
       "      <th>emb_007</th>\n",
       "      <th>emb_008</th>\n",
       "      <th>emb_009</th>\n",
       "      <th>...</th>\n",
       "      <th>emb_056</th>\n",
       "      <th>emb_057</th>\n",
       "      <th>emb_058</th>\n",
       "      <th>emb_059</th>\n",
       "      <th>emb_060</th>\n",
       "      <th>emb_061</th>\n",
       "      <th>emb_062</th>\n",
       "      <th>emb_063</th>\n",
       "      <th>dset</th>\n",
       "      <th>NAICS_orig</th>\n",
       "    </tr>\n",
       "    <tr>\n",
       "      <th>LoanNr_ChkDgt</th>\n",
       "      <th></th>\n",
       "      <th></th>\n",
       "      <th></th>\n",
       "      <th></th>\n",
       "      <th></th>\n",
       "      <th></th>\n",
       "      <th></th>\n",
       "      <th></th>\n",
       "      <th></th>\n",
       "      <th></th>\n",
       "      <th></th>\n",
       "      <th></th>\n",
       "      <th></th>\n",
       "      <th></th>\n",
       "      <th></th>\n",
       "      <th></th>\n",
       "      <th></th>\n",
       "      <th></th>\n",
       "      <th></th>\n",
       "      <th></th>\n",
       "      <th></th>\n",
       "    </tr>\n",
       "  </thead>\n",
       "  <tbody>\n",
       "    <tr>\n",
       "      <th>1000014003</th>\n",
       "      <td>0.654536</td>\n",
       "      <td>-0.994952</td>\n",
       "      <td>0.987932</td>\n",
       "      <td>1.000000</td>\n",
       "      <td>0.735649</td>\n",
       "      <td>-0.999932</td>\n",
       "      <td>-0.951871</td>\n",
       "      <td>0.999999</td>\n",
       "      <td>0.876765</td>\n",
       "      <td>0.999992</td>\n",
       "      <td>...</td>\n",
       "      <td>0.809824</td>\n",
       "      <td>0.626924</td>\n",
       "      <td>0.998710</td>\n",
       "      <td>-0.267917</td>\n",
       "      <td>0.954344</td>\n",
       "      <td>-0.999909</td>\n",
       "      <td>-0.985373</td>\n",
       "      <td>0.999995</td>\n",
       "      <td>train</td>\n",
       "      <td>451120</td>\n",
       "    </tr>\n",
       "    <tr>\n",
       "      <th>1000024006</th>\n",
       "      <td>0.547691</td>\n",
       "      <td>-0.999159</td>\n",
       "      <td>0.998841</td>\n",
       "      <td>0.999999</td>\n",
       "      <td>0.752479</td>\n",
       "      <td>-0.999985</td>\n",
       "      <td>-0.975103</td>\n",
       "      <td>0.999999</td>\n",
       "      <td>0.932148</td>\n",
       "      <td>1.000000</td>\n",
       "      <td>...</td>\n",
       "      <td>-0.401658</td>\n",
       "      <td>0.968849</td>\n",
       "      <td>0.999970</td>\n",
       "      <td>-0.574112</td>\n",
       "      <td>0.988540</td>\n",
       "      <td>-0.999994</td>\n",
       "      <td>-0.978627</td>\n",
       "      <td>0.999904</td>\n",
       "      <td>test</td>\n",
       "      <td>722410</td>\n",
       "    </tr>\n",
       "    <tr>\n",
       "      <th>1000034009</th>\n",
       "      <td>-0.819275</td>\n",
       "      <td>-0.679908</td>\n",
       "      <td>-0.980788</td>\n",
       "      <td>1.000000</td>\n",
       "      <td>0.991393</td>\n",
       "      <td>-0.998462</td>\n",
       "      <td>-0.744888</td>\n",
       "      <td>1.000000</td>\n",
       "      <td>0.993170</td>\n",
       "      <td>0.975103</td>\n",
       "      <td>...</td>\n",
       "      <td>-0.940089</td>\n",
       "      <td>0.990855</td>\n",
       "      <td>-0.999382</td>\n",
       "      <td>-0.323084</td>\n",
       "      <td>0.987167</td>\n",
       "      <td>0.179436</td>\n",
       "      <td>-0.998010</td>\n",
       "      <td>1.000000</td>\n",
       "      <td>train</td>\n",
       "      <td>621210</td>\n",
       "    </tr>\n",
       "  </tbody>\n",
       "</table>\n",
       "<p>3 rows × 66 columns</p>\n",
       "</div>"
      ],
      "text/plain": [
       "                emb_000   emb_001   emb_002   emb_003   emb_004   emb_005  \\\n",
       "LoanNr_ChkDgt                                                               \n",
       "1000014003     0.654536 -0.994952  0.987932  1.000000  0.735649 -0.999932   \n",
       "1000024006     0.547691 -0.999159  0.998841  0.999999  0.752479 -0.999985   \n",
       "1000034009    -0.819275 -0.679908 -0.980788  1.000000  0.991393 -0.998462   \n",
       "\n",
       "                emb_006   emb_007   emb_008   emb_009  ...   emb_056  \\\n",
       "LoanNr_ChkDgt                                          ...             \n",
       "1000014003    -0.951871  0.999999  0.876765  0.999992  ...  0.809824   \n",
       "1000024006    -0.975103  0.999999  0.932148  1.000000  ... -0.401658   \n",
       "1000034009    -0.744888  1.000000  0.993170  0.975103  ... -0.940089   \n",
       "\n",
       "                emb_057   emb_058   emb_059   emb_060   emb_061   emb_062  \\\n",
       "LoanNr_ChkDgt                                                               \n",
       "1000014003     0.626924  0.998710 -0.267917  0.954344 -0.999909 -0.985373   \n",
       "1000024006     0.968849  0.999970 -0.574112  0.988540 -0.999994 -0.978627   \n",
       "1000034009     0.990855 -0.999382 -0.323084  0.987167  0.179436 -0.998010   \n",
       "\n",
       "                emb_063   dset  NAICS_orig  \n",
       "LoanNr_ChkDgt                               \n",
       "1000014003     0.999995  train      451120  \n",
       "1000024006     0.999904   test      722410  \n",
       "1000034009     1.000000  train      621210  \n",
       "\n",
       "[3 rows x 66 columns]"
      ]
     },
     "execution_count": 22,
     "metadata": {},
     "output_type": "execute_result"
    }
   ],
   "source": [
    "node_features_business.head(3)"
   ]
  },
  {
   "cell_type": "markdown",
   "id": "95cf8304-a674-49d4-b873-b56e9bf53f42",
   "metadata": {},
   "source": [
    "## Stellargraph - train and validation\n",
    "Graph without test nodes (make sure set-aside NAICS not included)"
   ]
  },
  {
   "cell_type": "code",
   "execution_count": 23,
   "id": "1dc0aa32-b79a-46f9-881b-7499fa3d1977",
   "metadata": {},
   "outputs": [],
   "source": [
    "# Get only relevant edges and node data\n",
    "edges_train_val, features_business_train_val, features_naics_train_val = \\\n",
    "    sg_gnn.limit_data(edges_all, node_features_business, node_features_naics.drop(columns='NAICS_orig'),\n",
    "                     ['train', 'val'])"
   ]
  },
  {
   "cell_type": "code",
   "execution_count": 24,
   "id": "f509751c-45d8-4f2e-ae64-47985af49eb4",
   "metadata": {},
   "outputs": [
    {
     "name": "stdout",
     "output_type": "stream",
     "text": [
      "Train+val graph data\n",
      "business features, start rows 688081, end 551635\n",
      "naics features, start rows 1311, end 1240\n",
      "edges, start rows 23171852, end 17688739\n"
     ]
    }
   ],
   "source": [
    "print(f'Train+val graph data')\n",
    "print(f'business features, start rows {node_features_business.shape[0]}, end {features_business_train_val.shape[0]}')\n",
    "print(f'naics features, start rows {node_features_naics.shape[0]}, end {features_naics_train_val.shape[0]}')\n",
    "print(f'edges, start rows {edges_all.shape[0]}, end {edges_train_val.shape[0]}')"
   ]
  },
  {
   "cell_type": "code",
   "execution_count": 25,
   "id": "8dbf7ca3-42f9-4a4b-bfdf-74d37aad9a16",
   "metadata": {},
   "outputs": [],
   "source": [
    "sba_graph_train_val = StellarGraph({'LoanNr_ChkDgt':features_business_train_val.drop(columns='NAICS_orig'),\n",
    "                                    'NAICS': features_naics_train_val},\n",
    "                                   edges_train_val, \n",
    "                                   source_column=\"source\", target_column=\"target\",\n",
    "                                   edge_type_column=\"type\")"
   ]
  },
  {
   "cell_type": "code",
   "execution_count": 26,
   "id": "410b7928-83b4-428a-af5b-05ecb9c7a748",
   "metadata": {},
   "outputs": [
    {
     "name": "stdout",
     "output_type": "stream",
     "text": [
      "StellarGraph: Undirected multigraph\n",
      " Nodes: 552875, Edges: 17688739\n",
      "\n",
      " Node types:\n",
      "  LoanNr_ChkDgt: [551635]\n",
      "    Features: float32 vector, length 64\n",
      "    Edge types: LoanNr_ChkDgt-loan_naics->NAICS, LoanNr_ChkDgt-loan_sector_naics->NAICS\n",
      "  NAICS: [1240]\n",
      "    Features: float32 vector, length 1\n",
      "    Edge types: NAICS-loan_naics->LoanNr_ChkDgt, NAICS-loan_sector_naics->LoanNr_ChkDgt\n",
      "\n",
      " Edge types:\n",
      "    LoanNr_ChkDgt-loan_sector_naics->NAICS: [17137104]\n",
      "        Weights: all 1 (default)\n",
      "        Features: none\n",
      "    LoanNr_ChkDgt-loan_naics->NAICS: [551635]\n",
      "        Weights: all 1 (default)\n",
      "        Features: none\n"
     ]
    }
   ],
   "source": [
    "print(sba_graph_train_val.info())"
   ]
  },
  {
   "cell_type": "code",
   "execution_count": 27,
   "id": "99b1b627-0cc0-492d-91d3-f9d92e2136e7",
   "metadata": {},
   "outputs": [],
   "source": [
    "# Save stellargraph object\n",
    "with open(Path(setup.temp_path).joinpath('44_DATA_stellargraph_train_val.pkl'), 'wb') as fout:\n",
    "      pickle.dump(sba_graph_train_val, fout)"
   ]
  },
  {
   "cell_type": "markdown",
   "id": "e82b9311-7f4e-4cab-92a7-633670a0398f",
   "metadata": {},
   "source": [
    "## Stellargraph - all nodes"
   ]
  },
  {
   "cell_type": "code",
   "execution_count": 28,
   "id": "2fcf66ec-e079-4c91-a0cb-70439013577d",
   "metadata": {},
   "outputs": [],
   "source": [
    "sba_graph_all = StellarGraph({'LoanNr_ChkDgt':node_features_business.drop(columns=['dset', 'NAICS_orig']) ,\n",
    "                              'NAICS': node_features_naics.drop(columns='NAICS_orig')},\n",
    "                             edges_all.drop(columns=['dset']).drop_duplicates(),\n",
    "                             source_column=\"source\", target_column=\"target\",\n",
    "                             edge_type_column=\"type\")"
   ]
  },
  {
   "cell_type": "code",
   "execution_count": 29,
   "id": "63089961-2b1f-4312-aafe-e2e7de4feede",
   "metadata": {},
   "outputs": [
    {
     "name": "stdout",
     "output_type": "stream",
     "text": [
      "StellarGraph: Undirected multigraph\n",
      " Nodes: 689392, Edges: 23171852\n",
      "\n",
      " Node types:\n",
      "  LoanNr_ChkDgt: [688081]\n",
      "    Features: float32 vector, length 64\n",
      "    Edge types: LoanNr_ChkDgt-loan_naics->NAICS, LoanNr_ChkDgt-loan_sector_naics->NAICS\n",
      "  NAICS: [1311]\n",
      "    Features: float32 vector, length 1\n",
      "    Edge types: NAICS-loan_naics->LoanNr_ChkDgt, NAICS-loan_sector_naics->LoanNr_ChkDgt\n",
      "\n",
      " Edge types:\n",
      "    LoanNr_ChkDgt-loan_sector_naics->NAICS: [22483771]\n",
      "        Weights: all 1 (default)\n",
      "        Features: none\n",
      "    LoanNr_ChkDgt-loan_naics->NAICS: [688081]\n",
      "        Weights: all 1 (default)\n",
      "        Features: none\n"
     ]
    }
   ],
   "source": [
    "print(sba_graph_all.info())"
   ]
  },
  {
   "cell_type": "code",
   "execution_count": 30,
   "id": "18015753-3c65-4ffd-af45-00fa3e4a2427",
   "metadata": {},
   "outputs": [],
   "source": [
    "# Save stellargraph object\n",
    "with open(Path(setup.temp_path).joinpath('44_DATA_stellargraph_all.pkl'), 'wb') as fout:\n",
    "      pickle.dump(sba_graph_all, fout)"
   ]
  },
  {
   "cell_type": "code",
   "execution_count": null,
   "id": "0e5ca7fb-3a51-4e31-9c6f-9b7beb016f7d",
   "metadata": {},
   "outputs": [],
   "source": []
  },
  {
   "cell_type": "code",
   "execution_count": null,
   "id": "ea8edc02-f923-463f-9cf4-4bbe7470bea7",
   "metadata": {},
   "outputs": [],
   "source": []
  }
 ],
 "metadata": {
  "kernelspec": {
   "display_name": "tf_p39",
   "language": "python",
   "name": "tf_p39"
  },
  "language_info": {
   "codemirror_mode": {
    "name": "ipython",
    "version": 3
   },
   "file_extension": ".py",
   "mimetype": "text/x-python",
   "name": "python",
   "nbconvert_exporter": "python",
   "pygments_lexer": "ipython3",
   "version": "3.8.18"
  }
 },
 "nbformat": 4,
 "nbformat_minor": 5
}
