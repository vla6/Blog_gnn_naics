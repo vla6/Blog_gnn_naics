{
 "cells": [
  {
   "cell_type": "code",
   "execution_count": 2,
   "id": "395c2ed9-318e-4be2-886b-61282d2085ba",
   "metadata": {
    "tags": []
   },
   "outputs": [],
   "source": [
    "# Modify the file 00_setup.py to define input/output file paths on your system\n",
    "# The information in 00_setup.py will be used across notebooks\n",
    "from importlib.machinery import SourceFileLoader\n",
    "setup = SourceFileLoader(\"setup\", \"./00_setup.py\").load_module()"
   ]
  },
  {
   "cell_type": "markdown",
   "id": "65368748-0ca7-44cc-a40f-09ae004de061",
   "metadata": {},
   "source": [
    "# Performance Summary\n",
    "Combine performance of models tested, and summarize"
   ]
  },
  {
   "cell_type": "markdown",
   "id": "4beb4e5b-70f3-4ea8-9c75-287a7b0f4b0f",
   "metadata": {},
   "source": [
    "Also combine all metrics for easy comparisons"
   ]
  },
  {
   "cell_type": "markdown",
   "id": "4ba148a6-16e3-4d60-9478-92aef8bb030f",
   "metadata": {},
   "source": [
    "*This script takes about 1 minutes on my MacBook Air*"
   ]
  },
  {
   "cell_type": "code",
   "execution_count": 3,
   "id": "ebb9974c-a2ab-4b1e-96f9-86f7696d4e68",
   "metadata": {},
   "outputs": [],
   "source": [
    "import pandas as pd\n",
    "import numpy as np\n",
    "import matplotlib.pyplot as plt\n",
    "import seaborn as sns"
   ]
  },
  {
   "cell_type": "code",
   "execution_count": 4,
   "id": "4469060d-2483-4d27-8a0c-44d857962276",
   "metadata": {},
   "outputs": [],
   "source": [
    "from pathlib import Path"
   ]
  },
  {
   "cell_type": "code",
   "execution_count": 5,
   "id": "7fc1bcc0-2d16-44f8-83d4-4b8acc59d6b2",
   "metadata": {},
   "outputs": [],
   "source": [
    "from sba_gnn.sba_gnn import sg_plot "
   ]
  },
  {
   "cell_type": "code",
   "execution_count": 6,
   "id": "3db5b8db-1478-4f38-bc6f-e68891f395fa",
   "metadata": {},
   "outputs": [],
   "source": [
    "sg_plot.plot_defaults()"
   ]
  },
  {
   "cell_type": "markdown",
   "id": "e7ab511d-db43-4643-9b2b-eeb8c7871c97",
   "metadata": {},
   "source": [
    "## File Dictionaries"
   ]
  },
  {
   "cell_type": "markdown",
   "id": "5d02286b-85fb-4a63-982f-fc293d74067a",
   "metadata": {},
   "source": [
    "##### XGB basic tests"
   ]
  },
  {
   "cell_type": "code",
   "execution_count": 7,
   "id": "d12dd83c-e49e-47f7-b7b1-aab34f89a51c",
   "metadata": {},
   "outputs": [],
   "source": [
    "dict_pred_1_xgb_basic = {\n",
    "    'xgb base': Path(setup.temp_path).joinpath('03_DATA_combined_predictions.parquet'),\n",
    "    'xgb mean':  Path(setup.temp_path).joinpath('04_DATA_combined_predictions.parquet'),\n",
    "    'xgb one hot':  Path(setup.temp_path).joinpath('05_DATA_combined_predictions.parquet'),\n",
    "    'xgb numeric naics':  Path(setup.temp_path).joinpath('06_DATA_combined_predictions.parquet'),\n",
    "    'xgb mean x naics sector':  Path(setup.temp_path).joinpath('07_DATA_combined_predictions.parquet'),\n",
    "    'xgb mean x naics subsector':  Path(setup.temp_path).joinpath('08_DATA_combined_predictions.parquet'),\n",
    "    'xgb mean x naics industry':  Path(setup.temp_path).joinpath('09_DATA_combined_predictions.parquet')\n",
    "}"
   ]
  },
  {
   "cell_type": "markdown",
   "id": "ee2b8033-2a49-47d1-95fc-3ad06964c28d",
   "metadata": {},
   "source": [
    "##### Neural network basic"
   ]
  },
  {
   "cell_type": "code",
   "execution_count": 8,
   "id": "354a0264-78fb-4e19-b0ab-76dd23f02e75",
   "metadata": {},
   "outputs": [],
   "source": [
    "dict_pred_2_nn_basic = {\n",
    "    'nn base': Path(setup.temp_path).joinpath('11_DATA_predictions.parquet'),\n",
    "    'nn emb': Path(setup.temp_path).joinpath('12_DATA_predictions.parquet'),\n",
    "}"
   ]
  },
  {
   "cell_type": "markdown",
   "id": "7b75fce6-4bd7-4128-9400-9c8384ecded1",
   "metadata": {},
   "source": [
    "##### XGB + embeddings"
   ]
  },
  {
   "cell_type": "code",
   "execution_count": 9,
   "id": "6b00e2e6-882d-4410-9f5b-e8e8131b7deb",
   "metadata": {},
   "outputs": [],
   "source": [
    "dict_pred_3_emb = {\n",
    "    'xgb emb nn':  Path(setup.temp_path).joinpath('40_DATA_combined_predictions.parquet'),\n",
    "    'xgb dgi base':  Path(setup.temp_path).joinpath('50_DATA_combined_predictions.parquet'),\n",
    "    'xgb dgi base+label':  Path(setup.temp_path).joinpath('52_DATA_combined_predictions.parquet')\n",
    "}"
   ]
  },
  {
   "cell_type": "markdown",
   "id": "aba059c1-61a5-4b52-a1bd-0282275156c8",
   "metadata": {},
   "source": [
    "##### Clustering - Mean Encoding"
   ]
  },
  {
   "cell_type": "code",
   "execution_count": 10,
   "id": "f9e4467a-5937-4164-bfdf-458f583b2b16",
   "metadata": {},
   "outputs": [],
   "source": [
    "dict_pred_4_clus_menc = {\n",
    "    'xgb clus menc nn':  Path(setup.temp_path).joinpath('62_DATA_combined_predictions.parquet'),\n",
    "    'xgb clus menc dgi base':  Path(setup.temp_path).joinpath('68_DATA_combined_predictions.parquet'),\n",
    "    'xgb clus menc dgi base+label':  Path(setup.temp_path).joinpath('71_DATA_combined_predictions.parquet')\n",
    "}"
   ]
  },
  {
   "cell_type": "markdown",
   "id": "9228e5a6-c885-444b-b1f1-10d72a5ae4d5",
   "metadata": {},
   "source": [
    "##### Clustering - One Hot Encoding"
   ]
  },
  {
   "cell_type": "code",
   "execution_count": 13,
   "id": "9b82c171-3d1a-4683-8918-3dcb4fe85807",
   "metadata": {},
   "outputs": [],
   "source": [
    "dict_pred_5_oh = {\n",
    "    'xgb clus oh nn':  Path(setup.temp_path).joinpath('61_DATA_combined_predictions.parquet'),\n",
    "    'xgb clus oh dgi base':  Path(setup.temp_path).joinpath('67_DATA_combined_predictions.parquet'),\n",
    "    'xgb clus oh dgi base+label':  Path(setup.temp_path).joinpath('70_DATA_combined_predictions.parquet')\n",
    "}"
   ]
  },
  {
   "cell_type": "markdown",
   "id": "2a2394e6-85bd-4518-84e4-b69e19cd2566",
   "metadata": {},
   "source": [
    "## Combine predictions"
   ]
  },
  {
   "cell_type": "markdown",
   "id": "5cb4b0ac-58ef-4c0f-927a-308084705bea",
   "metadata": {},
   "source": [
    "##### Raw predictions - will get metrics for low volume naics"
   ]
  },
  {
   "cell_type": "code",
   "execution_count": 14,
   "id": "c4142fc5-b944-4d60-836d-ddc2ca5a6a25",
   "metadata": {},
   "outputs": [],
   "source": [
    "all_dict_list = [dict_pred_1_xgb_basic, dict_pred_2_nn_basic,\n",
    "             dict_pred_3_emb, dict_pred_4_clus_menc, dict_pred_5_oh]"
   ]
  },
  {
   "cell_type": "code",
   "execution_count": 15,
   "id": "35464cb3-1895-482b-82c7-0dc1736335fb",
   "metadata": {},
   "outputs": [],
   "source": [
    "dict_pred = {k: v for d in all_dict_list for k, v in d.items()}"
   ]
  },
  {
   "cell_type": "code",
   "execution_count": 16,
   "id": "d12441f9-882a-4993-b504-b017242d52ba",
   "metadata": {},
   "outputs": [
    {
     "data": {
      "text/plain": [
       "True"
      ]
     },
     "execution_count": 16,
     "metadata": {},
     "output_type": "execute_result"
    }
   ],
   "source": [
    "# Verify these all exist\n",
    "all([Path(v).exists() for k, v in dict_pred.items()])"
   ]
  },
  {
   "cell_type": "markdown",
   "id": "1b76c3d9-1b06-4ffe-a27b-2e98a1048bd0",
   "metadata": {},
   "source": [
    "##### Standard metrics\n",
    "Get filenames for standard metrics calculated in all scripts. These all have similar file naming"
   ]
  },
  {
   "cell_type": "code",
   "execution_count": 17,
   "id": "c5a8782d-6437-4cb0-b9e4-f882f6a87cf4",
   "metadata": {},
   "outputs": [],
   "source": [
    "dict_metrics = {k:Path(setup.temp_path).joinpath(v.name[0:2] + '_REPORT_metrics.csv') \\\n",
    "                for k, v in dict_pred.items()}"
   ]
  },
  {
   "cell_type": "code",
   "execution_count": 18,
   "id": "44006664-7b23-478a-8c22-34267e55fa2b",
   "metadata": {},
   "outputs": [
    {
     "data": {
      "text/plain": [
       "True"
      ]
     },
     "execution_count": 18,
     "metadata": {},
     "output_type": "execute_result"
    }
   ],
   "source": [
    "# Verify these all exist\n",
    "all([Path(v).exists() for k, v in dict_metrics.items()])"
   ]
  },
  {
   "cell_type": "markdown",
   "id": "3a1ef909-9a12-4734-ab34-4c90675e7ded",
   "metadata": {},
   "source": [
    "## Combine standard metrics"
   ]
  },
  {
   "cell_type": "code",
   "execution_count": 46,
   "id": "3135c12f-f97f-464d-bee8-b08b666e0bfb",
   "metadata": {},
   "outputs": [],
   "source": [
    "all_metrics = pd.concat([pd.read_csv(v) for k, v in dict_metrics.items()],\n",
    "                        keys = dict_metrics.keys()) \\\n",
    "    .reset_index(level=0) \\\n",
    "    .drop(columns=['Unnamed: 0'], errors='ignore') \\\n",
    "    .rename(columns={'level_0':'model'})"
   ]
  },
  {
   "cell_type": "code",
   "execution_count": 47,
   "id": "a14b8f8c-dc59-4b15-89c6-c9c4984b9e58",
   "metadata": {},
   "outputs": [],
   "source": [
    "all_metrics.to_csv(Path(setup.temp_path).joinpath('80_REPORT_metrics_combined.csv'), index=False)"
   ]
  },
  {
   "cell_type": "markdown",
   "id": "1886ccd1-2995-44b7-a328-699cf6d3a294",
   "metadata": {},
   "source": [
    "## Summary Data\n",
    "For test dataset only, show AUC and f1 scores for test dataset, along with f1 scores for holdout and low-volume NAICS"
   ]
  },
  {
   "cell_type": "code",
   "execution_count": 48,
   "id": "110e1837-38c6-4c99-9351-dd0ac5292942",
   "metadata": {},
   "outputs": [],
   "source": [
    "overall_stats =  all_metrics[(all_metrics['dset'] == 'test') & \\\n",
    "                             (all_metrics['dset_naics_holdout'] == 0)] \\\n",
    "    [['model', 'roc_auc_score', 'average_precision_score', 'f1_score']]"
   ]
  },
  {
   "cell_type": "code",
   "execution_count": 49,
   "id": "a2632258-10af-41e0-b3f3-86b42d3fc085",
   "metadata": {},
   "outputs": [],
   "source": [
    "holdout_stats = all_metrics[(all_metrics['dset'] == 'test') & \\\n",
    "                            (all_metrics['dset_naics_holdout'] == 1)] \\\n",
    "    [['model', 'roc_auc_score', 'average_precision_score', 'f1_score']] \\\n",
    "    .rename(columns={'f1_score':'f1_score_ho', 'average_precision_score':'ap_ho',\n",
    "                    'roc_auc_score':'roc_ho'})"
   ]
  },
  {
   "cell_type": "code",
   "execution_count": 50,
   "id": "2c3d6aa2-6b51-43c1-a145-eaf4871d35e5",
   "metadata": {},
   "outputs": [],
   "source": [
    "overall_stats = overall_stats.merge(holdout_stats, on='model')"
   ]
  },
  {
   "cell_type": "markdown",
   "id": "0879e80d-18f8-47de-829f-20b7eda551f8",
   "metadata": {},
   "source": [
    "##### Type information"
   ]
  },
  {
   "cell_type": "code",
   "execution_count": 53,
   "id": "9f2e98f8-0849-43ba-b272-b7a44b751636",
   "metadata": {},
   "outputs": [
    {
     "data": {
      "text/html": [
       "<div>\n",
       "<style scoped>\n",
       "    .dataframe tbody tr th:only-of-type {\n",
       "        vertical-align: middle;\n",
       "    }\n",
       "\n",
       "    .dataframe tbody tr th {\n",
       "        vertical-align: top;\n",
       "    }\n",
       "\n",
       "    .dataframe thead th {\n",
       "        text-align: right;\n",
       "    }\n",
       "</style>\n",
       "<table border=\"1\" class=\"dataframe\">\n",
       "  <thead>\n",
       "    <tr style=\"text-align: right;\">\n",
       "      <th></th>\n",
       "      <th>model</th>\n",
       "      <th>roc_auc_score</th>\n",
       "      <th>average_precision_score</th>\n",
       "      <th>f1_score</th>\n",
       "      <th>roc_ho</th>\n",
       "      <th>ap_ho</th>\n",
       "      <th>f1_score_ho</th>\n",
       "    </tr>\n",
       "  </thead>\n",
       "  <tbody>\n",
       "    <tr>\n",
       "      <th>3</th>\n",
       "      <td>xgb numeric naics</td>\n",
       "      <td>0.725089</td>\n",
       "      <td>0.378392</td>\n",
       "      <td>0.444074</td>\n",
       "      <td>0.729245</td>\n",
       "      <td>0.362891</td>\n",
       "      <td>0.429051</td>\n",
       "    </tr>\n",
       "    <tr>\n",
       "      <th>0</th>\n",
       "      <td>xgb base</td>\n",
       "      <td>0.706474</td>\n",
       "      <td>0.353071</td>\n",
       "      <td>0.431561</td>\n",
       "      <td>0.723115</td>\n",
       "      <td>0.356861</td>\n",
       "      <td>0.424024</td>\n",
       "    </tr>\n",
       "    <tr>\n",
       "      <th>5</th>\n",
       "      <td>xgb mean x naics4</td>\n",
       "      <td>0.732462</td>\n",
       "      <td>0.390023</td>\n",
       "      <td>0.449633</td>\n",
       "      <td>0.724233</td>\n",
       "      <td>0.356358</td>\n",
       "      <td>0.419578</td>\n",
       "    </tr>\n",
       "    <tr>\n",
       "      <th>2</th>\n",
       "      <td>xgb one hot</td>\n",
       "      <td>0.714582</td>\n",
       "      <td>0.360212</td>\n",
       "      <td>0.438666</td>\n",
       "      <td>0.722105</td>\n",
       "      <td>0.353897</td>\n",
       "      <td>0.425756</td>\n",
       "    </tr>\n",
       "    <tr>\n",
       "      <th>1</th>\n",
       "      <td>xgb mean</td>\n",
       "      <td>0.732194</td>\n",
       "      <td>0.389849</td>\n",
       "      <td>0.449935</td>\n",
       "      <td>0.721075</td>\n",
       "      <td>0.352738</td>\n",
       "      <td>0.424237</td>\n",
       "    </tr>\n",
       "    <tr>\n",
       "      <th>4</th>\n",
       "      <td>xgb mean x naics sector</td>\n",
       "      <td>0.732311</td>\n",
       "      <td>0.389739</td>\n",
       "      <td>0.450566</td>\n",
       "      <td>0.712509</td>\n",
       "      <td>0.338828</td>\n",
       "      <td>0.420017</td>\n",
       "    </tr>\n",
       "    <tr>\n",
       "      <th>6</th>\n",
       "      <td>xgb mean x naics3</td>\n",
       "      <td>0.733338</td>\n",
       "      <td>0.390645</td>\n",
       "      <td>0.451238</td>\n",
       "      <td>0.713045</td>\n",
       "      <td>0.337917</td>\n",
       "      <td>0.411777</td>\n",
       "    </tr>\n",
       "  </tbody>\n",
       "</table>\n",
       "</div>"
      ],
      "text/plain": [
       "                     model  roc_auc_score  average_precision_score  f1_score  \\\n",
       "3        xgb numeric naics       0.725089                 0.378392  0.444074   \n",
       "0                 xgb base       0.706474                 0.353071  0.431561   \n",
       "5        xgb mean x naics4       0.732462                 0.390023  0.449633   \n",
       "2              xgb one hot       0.714582                 0.360212  0.438666   \n",
       "1                 xgb mean       0.732194                 0.389849  0.449935   \n",
       "4  xgb mean x naics sector       0.732311                 0.389739  0.450566   \n",
       "6        xgb mean x naics3       0.733338                 0.390645  0.451238   \n",
       "\n",
       "     roc_ho     ap_ho  f1_score_ho  \n",
       "3  0.729245  0.362891     0.429051  \n",
       "0  0.723115  0.356861     0.424024  \n",
       "5  0.724233  0.356358     0.419578  \n",
       "2  0.722105  0.353897     0.425756  \n",
       "1  0.721075  0.352738     0.424237  \n",
       "4  0.712509  0.338828     0.420017  \n",
       "6  0.713045  0.337917     0.411777  "
      ]
     },
     "execution_count": 53,
     "metadata": {},
     "output_type": "execute_result"
    }
   ],
   "source": [
    "overall_stats[overall_stats['model'].isin(dict_pred_1_xgb_basic.keys())] \\\n",
    ".sort_values('ap_ho', ascending=False)"
   ]
  },
  {
   "cell_type": "code",
   "execution_count": 68,
   "id": "b7850f44-08b6-4e2f-80a4-a20ff5acead5",
   "metadata": {},
   "outputs": [
    {
     "data": {
      "text/html": [
       "<div>\n",
       "<style scoped>\n",
       "    .dataframe tbody tr th:only-of-type {\n",
       "        vertical-align: middle;\n",
       "    }\n",
       "\n",
       "    .dataframe tbody tr th {\n",
       "        vertical-align: top;\n",
       "    }\n",
       "\n",
       "    .dataframe thead th {\n",
       "        text-align: right;\n",
       "    }\n",
       "</style>\n",
       "<table border=\"1\" class=\"dataframe\">\n",
       "  <thead>\n",
       "    <tr style=\"text-align: right;\">\n",
       "      <th></th>\n",
       "      <th>model</th>\n",
       "      <th>roc_auc_score</th>\n",
       "      <th>average_precision_score</th>\n",
       "      <th>f1_score</th>\n",
       "      <th>roc_ho</th>\n",
       "      <th>ap_ho</th>\n",
       "      <th>f1_score_ho</th>\n",
       "    </tr>\n",
       "  </thead>\n",
       "  <tbody>\n",
       "    <tr>\n",
       "      <th>8</th>\n",
       "      <td>nn emb</td>\n",
       "      <td>0.732290</td>\n",
       "      <td>0.388653</td>\n",
       "      <td>0.450865</td>\n",
       "      <td>0.708303</td>\n",
       "      <td>0.336031</td>\n",
       "      <td>0.406653</td>\n",
       "    </tr>\n",
       "    <tr>\n",
       "      <th>10</th>\n",
       "      <td>nn one hot</td>\n",
       "      <td>0.712272</td>\n",
       "      <td>0.354201</td>\n",
       "      <td>0.438092</td>\n",
       "      <td>0.716660</td>\n",
       "      <td>0.345082</td>\n",
       "      <td>0.421648</td>\n",
       "    </tr>\n",
       "    <tr>\n",
       "      <th>9</th>\n",
       "      <td>nn numeric naics</td>\n",
       "      <td>0.704058</td>\n",
       "      <td>0.347964</td>\n",
       "      <td>0.429553</td>\n",
       "      <td>0.715936</td>\n",
       "      <td>0.344513</td>\n",
       "      <td>0.419954</td>\n",
       "    </tr>\n",
       "    <tr>\n",
       "      <th>7</th>\n",
       "      <td>nn base</td>\n",
       "      <td>0.702495</td>\n",
       "      <td>0.345526</td>\n",
       "      <td>0.430669</td>\n",
       "      <td>0.718693</td>\n",
       "      <td>0.348599</td>\n",
       "      <td>0.425718</td>\n",
       "    </tr>\n",
       "  </tbody>\n",
       "</table>\n",
       "</div>"
      ],
      "text/plain": [
       "               model  roc_auc_score  average_precision_score  f1_score  \\\n",
       "8             nn emb       0.732290                 0.388653  0.450865   \n",
       "10        nn one hot       0.712272                 0.354201  0.438092   \n",
       "9   nn numeric naics       0.704058                 0.347964  0.429553   \n",
       "7            nn base       0.702495                 0.345526  0.430669   \n",
       "\n",
       "      roc_ho     ap_ho  f1_score_ho  \n",
       "8   0.708303  0.336031     0.406653  \n",
       "10  0.716660  0.345082     0.421648  \n",
       "9   0.715936  0.344513     0.419954  \n",
       "7   0.718693  0.348599     0.425718  "
      ]
     },
     "execution_count": 68,
     "metadata": {},
     "output_type": "execute_result"
    }
   ],
   "source": [
    "overall_stats[overall_stats['model'].isin(list(dict_pred_2_nn_basic.keys()))] \\\n",
    ".sort_values('average_precision_score', ascending=False)"
   ]
  },
  {
   "cell_type": "code",
   "execution_count": 62,
   "id": "9e84147c-8161-4019-8e80-2c5d100e9605",
   "metadata": {},
   "outputs": [
    {
     "data": {
      "text/html": [
       "<div>\n",
       "<style scoped>\n",
       "    .dataframe tbody tr th:only-of-type {\n",
       "        vertical-align: middle;\n",
       "    }\n",
       "\n",
       "    .dataframe tbody tr th {\n",
       "        vertical-align: top;\n",
       "    }\n",
       "\n",
       "    .dataframe thead th {\n",
       "        text-align: right;\n",
       "    }\n",
       "</style>\n",
       "<table border=\"1\" class=\"dataframe\">\n",
       "  <thead>\n",
       "    <tr style=\"text-align: right;\">\n",
       "      <th></th>\n",
       "      <th>model</th>\n",
       "      <th>roc_auc_score</th>\n",
       "      <th>average_precision_score</th>\n",
       "      <th>f1_score</th>\n",
       "      <th>roc_ho</th>\n",
       "      <th>ap_ho</th>\n",
       "      <th>f1_score_ho</th>\n",
       "    </tr>\n",
       "  </thead>\n",
       "  <tbody>\n",
       "    <tr>\n",
       "      <th>11</th>\n",
       "      <td>xgb emb nn</td>\n",
       "      <td>0.734922</td>\n",
       "      <td>0.394202</td>\n",
       "      <td>0.452451</td>\n",
       "      <td>0.715999</td>\n",
       "      <td>0.343732</td>\n",
       "      <td>0.411568</td>\n",
       "    </tr>\n",
       "    <tr>\n",
       "      <th>13</th>\n",
       "      <td>xgb dgi base+label</td>\n",
       "      <td>0.727737</td>\n",
       "      <td>0.381411</td>\n",
       "      <td>0.446389</td>\n",
       "      <td>0.716325</td>\n",
       "      <td>0.343496</td>\n",
       "      <td>0.410392</td>\n",
       "    </tr>\n",
       "    <tr>\n",
       "      <th>12</th>\n",
       "      <td>xgb dgi base</td>\n",
       "      <td>0.728501</td>\n",
       "      <td>0.381393</td>\n",
       "      <td>0.446686</td>\n",
       "      <td>0.724172</td>\n",
       "      <td>0.351215</td>\n",
       "      <td>0.426014</td>\n",
       "    </tr>\n",
       "    <tr>\n",
       "      <th>14</th>\n",
       "      <td>xgb dgi nn</td>\n",
       "      <td>0.726600</td>\n",
       "      <td>0.379323</td>\n",
       "      <td>0.446571</td>\n",
       "      <td>0.722928</td>\n",
       "      <td>0.352367</td>\n",
       "      <td>0.423382</td>\n",
       "    </tr>\n",
       "  </tbody>\n",
       "</table>\n",
       "</div>"
      ],
      "text/plain": [
       "                 model  roc_auc_score  average_precision_score  f1_score  \\\n",
       "11          xgb emb nn       0.734922                 0.394202  0.452451   \n",
       "13  xgb dgi base+label       0.727737                 0.381411  0.446389   \n",
       "12        xgb dgi base       0.728501                 0.381393  0.446686   \n",
       "14          xgb dgi nn       0.726600                 0.379323  0.446571   \n",
       "\n",
       "      roc_ho     ap_ho  f1_score_ho  \n",
       "11  0.715999  0.343732     0.411568  \n",
       "13  0.716325  0.343496     0.410392  \n",
       "12  0.724172  0.351215     0.426014  \n",
       "14  0.722928  0.352367     0.423382  "
      ]
     },
     "execution_count": 66,
     "metadata": {},
     "output_type": "execute_result"
    }
   ],
   "source": [
    "overall_stats[overall_stats['model'].isin(list(dict_pred_3_emb.keys())] \\\n",
    ".sort_values('average_precision_score', ascending=False)"
   ]
  },
  {
   "cell_type": "code",
   "execution_count": 59,
   "id": "897c0457-c8a1-4f20-8346-dbc7dbe71bf1",
   "metadata": {},
   "outputs": [
    {
     "data": {
      "text/html": [
       "<div>\n",
       "<style scoped>\n",
       "    .dataframe tbody tr th:only-of-type {\n",
       "        vertical-align: middle;\n",
       "    }\n",
       "\n",
       "    .dataframe tbody tr th {\n",
       "        vertical-align: top;\n",
       "    }\n",
       "\n",
       "    .dataframe thead th {\n",
       "        text-align: right;\n",
       "    }\n",
       "</style>\n",
       "<table border=\"1\" class=\"dataframe\">\n",
       "  <thead>\n",
       "    <tr style=\"text-align: right;\">\n",
       "      <th></th>\n",
       "      <th>model</th>\n",
       "      <th>roc_auc_score</th>\n",
       "      <th>average_precision_score</th>\n",
       "      <th>f1_score</th>\n",
       "      <th>roc_ho</th>\n",
       "      <th>ap_ho</th>\n",
       "      <th>f1_score_ho</th>\n",
       "    </tr>\n",
       "  </thead>\n",
       "  <tbody>\n",
       "    <tr>\n",
       "      <th>17</th>\n",
       "      <td>xgb clus menc dgi base+label</td>\n",
       "      <td>0.732375</td>\n",
       "      <td>0.390136</td>\n",
       "      <td>0.451332</td>\n",
       "      <td>0.716507</td>\n",
       "      <td>0.343121</td>\n",
       "      <td>0.416203</td>\n",
       "    </tr>\n",
       "    <tr>\n",
       "      <th>16</th>\n",
       "      <td>xgb clus menc dgi base</td>\n",
       "      <td>0.732172</td>\n",
       "      <td>0.389762</td>\n",
       "      <td>0.450391</td>\n",
       "      <td>0.722189</td>\n",
       "      <td>0.350638</td>\n",
       "      <td>0.426248</td>\n",
       "    </tr>\n",
       "    <tr>\n",
       "      <th>15</th>\n",
       "      <td>xgb clus menc nn</td>\n",
       "      <td>0.732102</td>\n",
       "      <td>0.389748</td>\n",
       "      <td>0.450267</td>\n",
       "      <td>0.709013</td>\n",
       "      <td>0.325580</td>\n",
       "      <td>0.406173</td>\n",
       "    </tr>\n",
       "    <tr>\n",
       "      <th>18</th>\n",
       "      <td>xgb clus menc dgi nn</td>\n",
       "      <td>0.732162</td>\n",
       "      <td>0.389674</td>\n",
       "      <td>0.450031</td>\n",
       "      <td>0.715159</td>\n",
       "      <td>0.342118</td>\n",
       "      <td>0.419236</td>\n",
       "    </tr>\n",
       "  </tbody>\n",
       "</table>\n",
       "</div>"
      ],
      "text/plain": [
       "                           model  roc_auc_score  average_precision_score  \\\n",
       "17  xgb clus menc dgi base+label       0.732375                 0.390136   \n",
       "16        xgb clus menc dgi base       0.732172                 0.389762   \n",
       "15              xgb clus menc nn       0.732102                 0.389748   \n",
       "18          xgb clus menc dgi nn       0.732162                 0.389674   \n",
       "\n",
       "    f1_score    roc_ho     ap_ho  f1_score_ho  \n",
       "17  0.451332  0.716507  0.343121     0.416203  \n",
       "16  0.450391  0.722189  0.350638     0.426248  \n",
       "15  0.450267  0.709013  0.325580     0.406173  \n",
       "18  0.450031  0.715159  0.342118     0.419236  "
      ]
     },
     "execution_count": 59,
     "metadata": {},
     "output_type": "execute_result"
    }
   ],
   "source": [
    "overall_stats[overall_stats['model'].isin(dict_pred_4_clus_menc.keys())] \\\n",
    "    .sort_values('average_precision_score', ascending=False)"
   ]
  },
  {
   "cell_type": "code",
   "execution_count": 65,
   "id": "05e8bea6-1b1a-4694-956b-a6600150ae65",
   "metadata": {},
   "outputs": [
    {
     "data": {
      "text/html": [
       "<div>\n",
       "<style scoped>\n",
       "    .dataframe tbody tr th:only-of-type {\n",
       "        vertical-align: middle;\n",
       "    }\n",
       "\n",
       "    .dataframe tbody tr th {\n",
       "        vertical-align: top;\n",
       "    }\n",
       "\n",
       "    .dataframe thead th {\n",
       "        text-align: right;\n",
       "    }\n",
       "</style>\n",
       "<table border=\"1\" class=\"dataframe\">\n",
       "  <thead>\n",
       "    <tr style=\"text-align: right;\">\n",
       "      <th></th>\n",
       "      <th>model</th>\n",
       "      <th>roc_auc_score</th>\n",
       "      <th>average_precision_score</th>\n",
       "      <th>f1_score</th>\n",
       "      <th>roc_ho</th>\n",
       "      <th>ap_ho</th>\n",
       "      <th>f1_score_ho</th>\n",
       "    </tr>\n",
       "  </thead>\n",
       "  <tbody>\n",
       "    <tr>\n",
       "      <th>19</th>\n",
       "      <td>xgb clus oh nn</td>\n",
       "      <td>0.729904</td>\n",
       "      <td>0.383323</td>\n",
       "      <td>0.450028</td>\n",
       "      <td>0.716921</td>\n",
       "      <td>0.348051</td>\n",
       "      <td>0.408084</td>\n",
       "    </tr>\n",
       "    <tr>\n",
       "      <th>22</th>\n",
       "      <td>xgb clus oh dgi nn</td>\n",
       "      <td>0.714940</td>\n",
       "      <td>0.362428</td>\n",
       "      <td>0.436111</td>\n",
       "      <td>0.720162</td>\n",
       "      <td>0.349227</td>\n",
       "      <td>0.423375</td>\n",
       "    </tr>\n",
       "    <tr>\n",
       "      <th>21</th>\n",
       "      <td>xgb clus oh dgi base+label</td>\n",
       "      <td>0.714090</td>\n",
       "      <td>0.361710</td>\n",
       "      <td>0.435064</td>\n",
       "      <td>0.720058</td>\n",
       "      <td>0.346136</td>\n",
       "      <td>0.425508</td>\n",
       "    </tr>\n",
       "    <tr>\n",
       "      <th>20</th>\n",
       "      <td>xgb clus oh dgi base</td>\n",
       "      <td>0.715041</td>\n",
       "      <td>0.361347</td>\n",
       "      <td>0.437073</td>\n",
       "      <td>0.722276</td>\n",
       "      <td>0.348755</td>\n",
       "      <td>0.427212</td>\n",
       "    </tr>\n",
       "    <tr>\n",
       "      <th>2</th>\n",
       "      <td>xgb one hot</td>\n",
       "      <td>0.714582</td>\n",
       "      <td>0.360212</td>\n",
       "      <td>0.438666</td>\n",
       "      <td>0.722105</td>\n",
       "      <td>0.353897</td>\n",
       "      <td>0.425756</td>\n",
       "    </tr>\n",
       "  </tbody>\n",
       "</table>\n",
       "</div>"
      ],
      "text/plain": [
       "                         model  roc_auc_score  average_precision_score  \\\n",
       "19              xgb clus oh nn       0.729904                 0.383323   \n",
       "22          xgb clus oh dgi nn       0.714940                 0.362428   \n",
       "21  xgb clus oh dgi base+label       0.714090                 0.361710   \n",
       "20        xgb clus oh dgi base       0.715041                 0.361347   \n",
       "2                  xgb one hot       0.714582                 0.360212   \n",
       "\n",
       "    f1_score    roc_ho     ap_ho  f1_score_ho  \n",
       "19  0.450028  0.716921  0.348051     0.408084  \n",
       "22  0.436111  0.720162  0.349227     0.423375  \n",
       "21  0.435064  0.720058  0.346136     0.425508  \n",
       "20  0.437073  0.722276  0.348755     0.427212  \n",
       "2   0.438666  0.722105  0.353897     0.425756  "
      ]
     },
     "execution_count": 65,
     "metadata": {},
     "output_type": "execute_result"
    }
   ],
   "source": [
    "overall_stats[overall_stats['model'].isin(list(dict_pred_5_oh.keys()) + \\\n",
    "                                          ['xgb one hot'])] \\\n",
    "    .sort_values('average_precision_score', ascending=False)"
   ]
  },
  {
   "cell_type": "code",
   "execution_count": 69,
   "id": "95a02a52-09af-4777-809d-0f0be44afb6d",
   "metadata": {},
   "outputs": [],
   "source": [
    "overall_stats.to_csv(Path(setup.temp_path).joinpath('80_REPORT_summary_stats.csv'),\n",
    "                    index=False)"
   ]
  },
  {
   "cell_type": "code",
   "execution_count": 55,
   "id": "2b0eaa81-c789-434b-936c-7ebd32dd1b3d",
   "metadata": {},
   "outputs": [
    {
     "ename": "SyntaxError",
     "evalue": "invalid syntax (3051542928.py, line 1)",
     "output_type": "error",
     "traceback": [
      "\u001b[0;36m  Cell \u001b[0;32mIn[55], line 1\u001b[0;36m\u001b[0m\n\u001b[0;31m    TO DO\u001b[0m\n\u001b[0m       ^\u001b[0m\n\u001b[0;31mSyntaxError\u001b[0m\u001b[0;31m:\u001b[0m invalid syntax\n"
     ]
    }
   ],
   "source": [
    "TO DO\n",
    "ANOVA\n",
    "Cross-silhouette scores\n",
    "Further prune code\n",
    "DONE Bernoulli error https://en.wikipedia.org/wiki/Binomial_proportion_confidence_interval\n",
    "recolor DGI embeddings (meanc)\n",
    "DGI emb ples meanc same w nn"
   ]
  },
  {
   "cell_type": "code",
   "execution_count": 1,
   "id": "570a48a0-828b-4a27-a138-97589924f192",
   "metadata": {},
   "outputs": [
    {
     "ename": "SyntaxError",
     "evalue": "invalid syntax (3866325392.py, line 1)",
     "output_type": "error",
     "traceback": [
      "\u001b[0;36m  Cell \u001b[0;32mIn[1], line 1\u001b[0;36m\u001b[0m\n\u001b[0;31m    Consider making hierarchical clusters - factors of 2 - for mean encoding DGI\u001b[0m\n\u001b[0m             ^\u001b[0m\n\u001b[0;31mSyntaxError\u001b[0m\u001b[0;31m:\u001b[0m invalid syntax\n"
     ]
    }
   ],
   "source": [
    "Consider making hierarchical clusters - factors of 2 - for mean encoding DGI\n",
    "67 -> 64 etc\n",
    "Do the hiearchical blending from 3 levels"
   ]
  },
  {
   "cell_type": "code",
   "execution_count": 73,
   "id": "52bbe1f9-5280-455a-a8f4-2d89ab77488d",
   "metadata": {},
   "outputs": [],
   "source": [
    "naics = pd.read_csv('../data/naics/2022_struct.csv', dtype='str', header=None)"
   ]
  },
  {
   "cell_type": "code",
   "execution_count": 75,
   "id": "caa9ae90-1bb1-4cc2-8b02-b663f9a70a58",
   "metadata": {},
   "outputs": [],
   "source": [
    "naics['len'] = naics[0].str.len()"
   ]
  },
  {
   "cell_type": "code",
   "execution_count": 77,
   "id": "2d93501b-b917-4f30-b42f-3be061889929",
   "metadata": {},
   "outputs": [
    {
     "data": {
      "text/html": [
       "<div>\n",
       "<style scoped>\n",
       "    .dataframe tbody tr th:only-of-type {\n",
       "        vertical-align: middle;\n",
       "    }\n",
       "\n",
       "    .dataframe tbody tr th {\n",
       "        vertical-align: top;\n",
       "    }\n",
       "\n",
       "    .dataframe thead th {\n",
       "        text-align: right;\n",
       "    }\n",
       "</style>\n",
       "<table border=\"1\" class=\"dataframe\">\n",
       "  <thead>\n",
       "    <tr style=\"text-align: right;\">\n",
       "      <th></th>\n",
       "      <th>0</th>\n",
       "      <th>1</th>\n",
       "    </tr>\n",
       "    <tr>\n",
       "      <th>len</th>\n",
       "      <th></th>\n",
       "      <th></th>\n",
       "    </tr>\n",
       "  </thead>\n",
       "  <tbody>\n",
       "    <tr>\n",
       "      <th>2.0</th>\n",
       "      <td>17</td>\n",
       "      <td>17</td>\n",
       "    </tr>\n",
       "    <tr>\n",
       "      <th>3.0</th>\n",
       "      <td>96</td>\n",
       "      <td>96</td>\n",
       "    </tr>\n",
       "    <tr>\n",
       "      <th>4.0</th>\n",
       "      <td>308</td>\n",
       "      <td>308</td>\n",
       "    </tr>\n",
       "    <tr>\n",
       "      <th>5.0</th>\n",
       "      <td>692</td>\n",
       "      <td>692</td>\n",
       "    </tr>\n",
       "    <tr>\n",
       "      <th>6.0</th>\n",
       "      <td>1012</td>\n",
       "      <td>1012</td>\n",
       "    </tr>\n",
       "  </tbody>\n",
       "</table>\n",
       "</div>"
      ],
      "text/plain": [
       "        0     1\n",
       "len            \n",
       "2.0    17    17\n",
       "3.0    96    96\n",
       "4.0   308   308\n",
       "5.0   692   692\n",
       "6.0  1012  1012"
      ]
     },
     "execution_count": 77,
     "metadata": {},
     "output_type": "execute_result"
    }
   ],
   "source": [
    "naics.groupby('len').agg('count')"
   ]
  },
  {
   "cell_type": "code",
   "execution_count": null,
   "id": "62c22b14-1190-44b2-922f-5ce1223eb38b",
   "metadata": {},
   "outputs": [],
   "source": []
  },
  {
   "cell_type": "code",
   "execution_count": null,
   "id": "cace3558-6d71-434d-9b1a-3169b7bf1b4d",
   "metadata": {},
   "outputs": [],
   "source": []
  }
 ],
 "metadata": {
  "kernelspec": {
   "display_name": "tf_p39",
   "language": "python",
   "name": "tf_p39"
  },
  "language_info": {
   "codemirror_mode": {
    "name": "ipython",
    "version": 3
   },
   "file_extension": ".py",
   "mimetype": "text/x-python",
   "name": "python",
   "nbconvert_exporter": "python",
   "pygments_lexer": "ipython3",
   "version": "3.8.18"
  }
 },
 "nbformat": 4,
 "nbformat_minor": 5
}
