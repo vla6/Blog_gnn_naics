{
 "cells": [
  {
   "cell_type": "code",
   "execution_count": 1,
   "id": "395c2ed9-318e-4be2-886b-61282d2085ba",
   "metadata": {
    "tags": []
   },
   "outputs": [],
   "source": [
    "# Modify the file 00_setup.py to define input/output file paths on your system\n",
    "# The information in 00_setup.py will be used across notebooks\n",
    "from importlib.machinery import SourceFileLoader\n",
    "setup = SourceFileLoader(\"setup\", \"./00_setup.py\").load_module()"
   ]
  },
  {
   "cell_type": "markdown",
   "id": "65368748-0ca7-44cc-a40f-09ae004de061",
   "metadata": {},
   "source": [
    "# Performance Summary\n",
    "Combine performance of models tested, and summarize"
   ]
  },
  {
   "cell_type": "markdown",
   "id": "4beb4e5b-70f3-4ea8-9c75-287a7b0f4b0f",
   "metadata": {},
   "source": [
    "Also combine all metrics for easy comparisons"
   ]
  },
  {
   "cell_type": "markdown",
   "id": "4ba148a6-16e3-4d60-9478-92aef8bb030f",
   "metadata": {},
   "source": [
    "*This script takes about 1 minutes on my MacBook Air*"
   ]
  },
  {
   "cell_type": "code",
   "execution_count": 2,
   "id": "ebb9974c-a2ab-4b1e-96f9-86f7696d4e68",
   "metadata": {},
   "outputs": [],
   "source": [
    "import pandas as pd\n",
    "import numpy as np\n",
    "import matplotlib.pyplot as plt\n",
    "import seaborn as sns"
   ]
  },
  {
   "cell_type": "code",
   "execution_count": 3,
   "id": "4469060d-2483-4d27-8a0c-44d857962276",
   "metadata": {},
   "outputs": [],
   "source": [
    "from pathlib import Path"
   ]
  },
  {
   "cell_type": "code",
   "execution_count": 4,
   "id": "7fc1bcc0-2d16-44f8-83d4-4b8acc59d6b2",
   "metadata": {},
   "outputs": [],
   "source": [
    "from sba_gnn.sba_gnn import sg_plot "
   ]
  },
  {
   "cell_type": "code",
   "execution_count": 5,
   "id": "3db5b8db-1478-4f38-bc6f-e68891f395fa",
   "metadata": {},
   "outputs": [],
   "source": [
    "sg_plot.plot_defaults()"
   ]
  },
  {
   "cell_type": "markdown",
   "id": "e7ab511d-db43-4643-9b2b-eeb8c7871c97",
   "metadata": {},
   "source": [
    "## File Dictionaries"
   ]
  },
  {
   "cell_type": "markdown",
   "id": "5d02286b-85fb-4a63-982f-fc293d74067a",
   "metadata": {},
   "source": [
    "##### XGB basic tests"
   ]
  },
  {
   "cell_type": "code",
   "execution_count": 6,
   "id": "d12dd83c-e49e-47f7-b7b1-aab34f89a51c",
   "metadata": {},
   "outputs": [],
   "source": [
    "dict_pred_1_xgb_basic = {\n",
    "    'xgb base': Path(setup.temp_path).joinpath('03_DATA_combined_predictions.parquet'),\n",
    "    'xgb mean':  Path(setup.temp_path).joinpath('04_DATA_combined_predictions.parquet'),\n",
    "    'xgb one hot':  Path(setup.temp_path).joinpath('05_DATA_combined_predictions.parquet'),\n",
    "    'xgb numeric naics':  Path(setup.temp_path).joinpath('06_DATA_combined_predictions.parquet'),\n",
    "    'xgb mean x naics sector':  Path(setup.temp_path).joinpath('07_DATA_combined_predictions.parquet'),\n",
    "    'xgb mean x naics subsector':  Path(setup.temp_path).joinpath('08_DATA_combined_predictions.parquet'),\n",
    "    'xgb mean x naics industry':  Path(setup.temp_path).joinpath('09_DATA_combined_predictions.parquet')\n",
    "}"
   ]
  },
  {
   "cell_type": "markdown",
   "id": "ee2b8033-2a49-47d1-95fc-3ad06964c28d",
   "metadata": {},
   "source": [
    "##### Neural network basic"
   ]
  },
  {
   "cell_type": "code",
   "execution_count": 7,
   "id": "354a0264-78fb-4e19-b0ab-76dd23f02e75",
   "metadata": {},
   "outputs": [],
   "source": [
    "dict_pred_2_nn_basic = {\n",
    "    'nn base': Path(setup.temp_path).joinpath('11_DATA_predictions.parquet'),\n",
    "    'nn emb': Path(setup.temp_path).joinpath('12_DATA_predictions.parquet'),\n",
    "}"
   ]
  },
  {
   "cell_type": "markdown",
   "id": "7b75fce6-4bd7-4128-9400-9c8384ecded1",
   "metadata": {},
   "source": [
    "##### XGB + embeddings"
   ]
  },
  {
   "cell_type": "code",
   "execution_count": 8,
   "id": "6b00e2e6-882d-4410-9f5b-e8e8131b7deb",
   "metadata": {},
   "outputs": [],
   "source": [
    "dict_pred_3_emb = {\n",
    "    'xgb emb nn':  Path(setup.temp_path).joinpath('40_DATA_combined_predictions.parquet'),\n",
    "    'xgb dgi base':  Path(setup.temp_path).joinpath('50_DATA_combined_predictions.parquet'),\n",
    "    'xgb dgi base+label':  Path(setup.temp_path).joinpath('52_DATA_combined_predictions.parquet')\n",
    "}"
   ]
  },
  {
   "cell_type": "markdown",
   "id": "aba059c1-61a5-4b52-a1bd-0282275156c8",
   "metadata": {},
   "source": [
    "##### Clustering - Mean Encoding"
   ]
  },
  {
   "cell_type": "code",
   "execution_count": 9,
   "id": "f9e4467a-5937-4164-bfdf-458f583b2b16",
   "metadata": {},
   "outputs": [],
   "source": [
    "dict_pred_4_clus_menc = {\n",
    "    'xgb clus menc nn':  Path(setup.temp_path).joinpath('62_DATA_combined_predictions.parquet'),\n",
    "    'xgb clus menc dgi base':  Path(setup.temp_path).joinpath('65_DATA_combined_predictions.parquet'),\n",
    "    'xgb clus menc dgi base 20':  Path(setup.temp_path).joinpath('66_DATA_combined_predictions.parquet'),\n",
    "    'xgb clus menc dgi base 80':  Path(setup.temp_path).joinpath('67_DATA_combined_predictions.parquet'),\n",
    "    'xgb clus menc dgi base+label':  Path(setup.temp_path).joinpath('72_DATA_combined_predictions.parquet')\n",
    "}"
   ]
  },
  {
   "cell_type": "markdown",
   "id": "9228e5a6-c885-444b-b1f1-10d72a5ae4d5",
   "metadata": {},
   "source": [
    "##### Clustering - One Hot Encoding"
   ]
  },
  {
   "cell_type": "code",
   "execution_count": 10,
   "id": "9b82c171-3d1a-4683-8918-3dcb4fe85807",
   "metadata": {},
   "outputs": [],
   "source": [
    "dict_pred_5_oh = {\n",
    "    'xgb clus oh nn':  Path(setup.temp_path).joinpath('61_DATA_combined_predictions.parquet'),\n",
    "    'xgb clus oh dgi base':  Path(setup.temp_path).joinpath('64_DATA_combined_predictions.parquet'),\n",
    "    'xgb clus oh dgi base+label':  Path(setup.temp_path).joinpath('71_DATA_combined_predictions.parquet')\n",
    "}"
   ]
  },
  {
   "cell_type": "markdown",
   "id": "2a2394e6-85bd-4518-84e4-b69e19cd2566",
   "metadata": {},
   "source": [
    "## Combine predictions"
   ]
  },
  {
   "cell_type": "markdown",
   "id": "5cb4b0ac-58ef-4c0f-927a-308084705bea",
   "metadata": {},
   "source": [
    "##### Raw predictions - will get metrics for low volume naics"
   ]
  },
  {
   "cell_type": "code",
   "execution_count": 11,
   "id": "c4142fc5-b944-4d60-836d-ddc2ca5a6a25",
   "metadata": {},
   "outputs": [],
   "source": [
    "all_dict_list = [dict_pred_1_xgb_basic, dict_pred_2_nn_basic,\n",
    "             dict_pred_3_emb, dict_pred_4_clus_menc, dict_pred_5_oh]"
   ]
  },
  {
   "cell_type": "code",
   "execution_count": 12,
   "id": "35464cb3-1895-482b-82c7-0dc1736335fb",
   "metadata": {},
   "outputs": [],
   "source": [
    "dict_pred = {k: v for d in all_dict_list for k, v in d.items()}"
   ]
  },
  {
   "cell_type": "code",
   "execution_count": 13,
   "id": "d12441f9-882a-4993-b504-b017242d52ba",
   "metadata": {},
   "outputs": [
    {
     "data": {
      "text/plain": [
       "False"
      ]
     },
     "execution_count": 13,
     "metadata": {},
     "output_type": "execute_result"
    }
   ],
   "source": [
    "# Verify these all exist\n",
    "all([Path(v).exists() for k, v in dict_pred.items()])"
   ]
  },
  {
   "cell_type": "markdown",
   "id": "1b76c3d9-1b06-4ffe-a27b-2e98a1048bd0",
   "metadata": {},
   "source": [
    "##### Standard metrics\n",
    "Get filenames for standard metrics calculated in all scripts. These all have similar file naming"
   ]
  },
  {
   "cell_type": "code",
   "execution_count": 14,
   "id": "c5a8782d-6437-4cb0-b9e4-f882f6a87cf4",
   "metadata": {},
   "outputs": [],
   "source": [
    "dict_metrics = {k:Path(setup.temp_path).joinpath(v.name[0:2] + '_REPORT_metrics.csv') \\\n",
    "                for k, v in dict_pred.items()}"
   ]
  },
  {
   "cell_type": "code",
   "execution_count": 15,
   "id": "44006664-7b23-478a-8c22-34267e55fa2b",
   "metadata": {},
   "outputs": [
    {
     "data": {
      "text/plain": [
       "False"
      ]
     },
     "execution_count": 15,
     "metadata": {},
     "output_type": "execute_result"
    }
   ],
   "source": [
    "# Verify these all exist\n",
    "all([Path(v).exists() for k, v in dict_metrics.items()])"
   ]
  },
  {
   "cell_type": "markdown",
   "id": "3a1ef909-9a12-4734-ab34-4c90675e7ded",
   "metadata": {},
   "source": [
    "## Combine standard metrics"
   ]
  },
  {
   "cell_type": "code",
   "execution_count": 17,
   "id": "3135c12f-f97f-464d-bee8-b08b666e0bfb",
   "metadata": {},
   "outputs": [],
   "source": [
    "all_metrics = pd.concat([pd.read_csv(v) for k, v in dict_metrics.items()],\n",
    "                        keys = dict_metrics.keys()) \\\n",
    "    .reset_index(level=0) \\\n",
    "    .drop(columns=['Unnamed: 0'], errors='ignore') \\\n",
    "    .rename(columns={'level_0':'model'})"
   ]
  },
  {
   "cell_type": "code",
   "execution_count": 25,
   "id": "51353b86-465d-4cb6-803e-cede1f644cb2",
   "metadata": {},
   "outputs": [],
   "source": [
    "all_metrics['script_num'] = all_metrics['model'].apply(lambda x: dict_metrics[x].name[0:3])"
   ]
  },
  {
   "cell_type": "code",
   "execution_count": 26,
   "id": "b9bf6f42-a12e-4390-945a-fea2e83afac5",
   "metadata": {},
   "outputs": [
    {
     "data": {
      "text/html": [
       "<div>\n",
       "<style scoped>\n",
       "    .dataframe tbody tr th:only-of-type {\n",
       "        vertical-align: middle;\n",
       "    }\n",
       "\n",
       "    .dataframe tbody tr th {\n",
       "        vertical-align: top;\n",
       "    }\n",
       "\n",
       "    .dataframe thead th {\n",
       "        text-align: right;\n",
       "    }\n",
       "</style>\n",
       "<table border=\"1\" class=\"dataframe\">\n",
       "  <thead>\n",
       "    <tr style=\"text-align: right;\">\n",
       "      <th></th>\n",
       "      <th>model</th>\n",
       "      <th>dset</th>\n",
       "      <th>accuracy_score</th>\n",
       "      <th>f1_score</th>\n",
       "      <th>precision_score</th>\n",
       "      <th>recall_score</th>\n",
       "      <th>average_precision_score</th>\n",
       "      <th>roc_auc_score</th>\n",
       "      <th>dset_naics_holdout</th>\n",
       "      <th>script_num</th>\n",
       "    </tr>\n",
       "  </thead>\n",
       "  <tbody>\n",
       "    <tr>\n",
       "      <th>0</th>\n",
       "      <td>xgb base</td>\n",
       "      <td>test</td>\n",
       "      <td>0.615897</td>\n",
       "      <td>0.430079</td>\n",
       "      <td>0.303129</td>\n",
       "      <td>0.739982</td>\n",
       "      <td>0.349659</td>\n",
       "      <td>0.716077</td>\n",
       "      <td>NaN</td>\n",
       "      <td>03_</td>\n",
       "    </tr>\n",
       "    <tr>\n",
       "      <th>1</th>\n",
       "      <td>xgb base</td>\n",
       "      <td>train</td>\n",
       "      <td>0.604517</td>\n",
       "      <td>0.432929</td>\n",
       "      <td>0.306368</td>\n",
       "      <td>0.737659</td>\n",
       "      <td>0.352549</td>\n",
       "      <td>0.707118</td>\n",
       "      <td>NaN</td>\n",
       "      <td>03_</td>\n",
       "    </tr>\n",
       "    <tr>\n",
       "      <th>2</th>\n",
       "      <td>xgb base</td>\n",
       "      <td>val</td>\n",
       "      <td>0.602189</td>\n",
       "      <td>0.432300</td>\n",
       "      <td>0.307070</td>\n",
       "      <td>0.730015</td>\n",
       "      <td>0.353011</td>\n",
       "      <td>0.703115</td>\n",
       "      <td>NaN</td>\n",
       "      <td>03_</td>\n",
       "    </tr>\n",
       "  </tbody>\n",
       "</table>\n",
       "</div>"
      ],
      "text/plain": [
       "      model   dset  accuracy_score  f1_score  precision_score  recall_score  \\\n",
       "0  xgb base   test        0.615897  0.430079         0.303129      0.739982   \n",
       "1  xgb base  train        0.604517  0.432929         0.306368      0.737659   \n",
       "2  xgb base    val        0.602189  0.432300         0.307070      0.730015   \n",
       "\n",
       "   average_precision_score  roc_auc_score  dset_naics_holdout script_num  \n",
       "0                 0.349659       0.716077                 NaN        03_  \n",
       "1                 0.352549       0.707118                 NaN        03_  \n",
       "2                 0.353011       0.703115                 NaN        03_  "
      ]
     },
     "execution_count": 26,
     "metadata": {},
     "output_type": "execute_result"
    }
   ],
   "source": [
    "all_metrics.head(3)"
   ]
  },
  {
   "cell_type": "code",
   "execution_count": 27,
   "id": "a14b8f8c-dc59-4b15-89c6-c9c4984b9e58",
   "metadata": {},
   "outputs": [],
   "source": [
    "all_metrics.to_csv(Path(setup.temp_path).joinpath('80_REPORT_metrics_combined.csv'), index=False)"
   ]
  },
  {
   "cell_type": "markdown",
   "id": "1886ccd1-2995-44b7-a328-699cf6d3a294",
   "metadata": {},
   "source": [
    "## Summary Data\n",
    "For test dataset only, show AUC and f1 scores for test dataset, along with f1 scores for holdout and low-volume NAICS"
   ]
  },
  {
   "cell_type": "code",
   "execution_count": 28,
   "id": "110e1837-38c6-4c99-9351-dd0ac5292942",
   "metadata": {},
   "outputs": [],
   "source": [
    "overall_stats =  all_metrics[(all_metrics['dset'] == 'test') & \\\n",
    "                             (all_metrics['dset_naics_holdout'] == 0)] \\\n",
    "    [['model', 'roc_auc_score', 'average_precision_score', 'f1_score']]"
   ]
  },
  {
   "cell_type": "code",
   "execution_count": 29,
   "id": "a2632258-10af-41e0-b3f3-86b42d3fc085",
   "metadata": {},
   "outputs": [],
   "source": [
    "holdout_stats = all_metrics[(all_metrics['dset'] == 'test') & \\\n",
    "                            (all_metrics['dset_naics_holdout'] == 1)] \\\n",
    "    [['model', 'roc_auc_score', 'average_precision_score', 'f1_score']] \\\n",
    "    .rename(columns={'f1_score':'f1_score_ho', 'average_precision_score':'ap_ho',\n",
    "                    'roc_auc_score':'roc_ho'})"
   ]
  },
  {
   "cell_type": "code",
   "execution_count": 30,
   "id": "2c3d6aa2-6b51-43c1-a145-eaf4871d35e5",
   "metadata": {},
   "outputs": [],
   "source": [
    "overall_stats = overall_stats.merge(holdout_stats, on='model')"
   ]
  },
  {
   "cell_type": "markdown",
   "id": "0879e80d-18f8-47de-829f-20b7eda551f8",
   "metadata": {},
   "source": [
    "##### Selected stats"
   ]
  },
  {
   "cell_type": "code",
   "execution_count": 40,
   "id": "e223aa00-ce56-4e18-b7be-d346ad5a323c",
   "metadata": {},
   "outputs": [
    {
     "data": {
      "text/html": [
       "<div>\n",
       "<style scoped>\n",
       "    .dataframe tbody tr th:only-of-type {\n",
       "        vertical-align: middle;\n",
       "    }\n",
       "\n",
       "    .dataframe tbody tr th {\n",
       "        vertical-align: top;\n",
       "    }\n",
       "\n",
       "    .dataframe thead th {\n",
       "        text-align: right;\n",
       "    }\n",
       "</style>\n",
       "<table border=\"1\" class=\"dataframe\">\n",
       "  <thead>\n",
       "    <tr style=\"text-align: right;\">\n",
       "      <th></th>\n",
       "      <th>model</th>\n",
       "      <th>roc_auc_score</th>\n",
       "      <th>average_precision_score</th>\n",
       "      <th>f1_score</th>\n",
       "      <th>roc_ho</th>\n",
       "      <th>ap_ho</th>\n",
       "      <th>f1_score_ho</th>\n",
       "    </tr>\n",
       "  </thead>\n",
       "  <tbody>\n",
       "    <tr>\n",
       "      <th>9</th>\n",
       "      <td>xgb emb nn</td>\n",
       "      <td>0.730490</td>\n",
       "      <td>0.386461</td>\n",
       "      <td>0.451821</td>\n",
       "      <td>0.717261</td>\n",
       "      <td>0.332862</td>\n",
       "      <td>0.390534</td>\n",
       "    </tr>\n",
       "    <tr>\n",
       "      <th>14</th>\n",
       "      <td>xgb clus menc dgi base 20</td>\n",
       "      <td>0.728654</td>\n",
       "      <td>0.384045</td>\n",
       "      <td>0.450194</td>\n",
       "      <td>0.736758</td>\n",
       "      <td>0.357617</td>\n",
       "      <td>0.423053</td>\n",
       "    </tr>\n",
       "    <tr>\n",
       "      <th>1</th>\n",
       "      <td>xgb mean</td>\n",
       "      <td>0.728321</td>\n",
       "      <td>0.383767</td>\n",
       "      <td>0.450140</td>\n",
       "      <td>0.729034</td>\n",
       "      <td>0.347848</td>\n",
       "      <td>0.420046</td>\n",
       "    </tr>\n",
       "    <tr>\n",
       "      <th>12</th>\n",
       "      <td>xgb clus menc nn</td>\n",
       "      <td>0.728576</td>\n",
       "      <td>0.383574</td>\n",
       "      <td>0.449642</td>\n",
       "      <td>0.714015</td>\n",
       "      <td>0.313323</td>\n",
       "      <td>0.393603</td>\n",
       "    </tr>\n",
       "    <tr>\n",
       "      <th>6</th>\n",
       "      <td>xgb mean x naics industry</td>\n",
       "      <td>0.728229</td>\n",
       "      <td>0.383484</td>\n",
       "      <td>0.449909</td>\n",
       "      <td>0.738906</td>\n",
       "      <td>0.370568</td>\n",
       "      <td>0.433739</td>\n",
       "    </tr>\n",
       "    <tr>\n",
       "      <th>4</th>\n",
       "      <td>xgb mean x naics sector</td>\n",
       "      <td>0.727947</td>\n",
       "      <td>0.382885</td>\n",
       "      <td>0.449732</td>\n",
       "      <td>0.727478</td>\n",
       "      <td>0.344311</td>\n",
       "      <td>0.424421</td>\n",
       "    </tr>\n",
       "    <tr>\n",
       "      <th>5</th>\n",
       "      <td>xgb mean x naics subsector</td>\n",
       "      <td>0.728005</td>\n",
       "      <td>0.382785</td>\n",
       "      <td>0.449474</td>\n",
       "      <td>0.735679</td>\n",
       "      <td>0.360168</td>\n",
       "      <td>0.426707</td>\n",
       "    </tr>\n",
       "    <tr>\n",
       "      <th>15</th>\n",
       "      <td>xgb clus menc dgi base 80</td>\n",
       "      <td>0.728150</td>\n",
       "      <td>0.382723</td>\n",
       "      <td>0.449186</td>\n",
       "      <td>0.730578</td>\n",
       "      <td>0.346508</td>\n",
       "      <td>0.424069</td>\n",
       "    </tr>\n",
       "    <tr>\n",
       "      <th>16</th>\n",
       "      <td>xgb clus menc dgi base+label</td>\n",
       "      <td>0.727949</td>\n",
       "      <td>0.382644</td>\n",
       "      <td>0.448784</td>\n",
       "      <td>0.733238</td>\n",
       "      <td>0.352632</td>\n",
       "      <td>0.428239</td>\n",
       "    </tr>\n",
       "    <tr>\n",
       "      <th>13</th>\n",
       "      <td>xgb clus menc dgi base</td>\n",
       "      <td>0.727987</td>\n",
       "      <td>0.382625</td>\n",
       "      <td>0.449400</td>\n",
       "      <td>0.734168</td>\n",
       "      <td>0.356434</td>\n",
       "      <td>0.421747</td>\n",
       "    </tr>\n",
       "    <tr>\n",
       "      <th>8</th>\n",
       "      <td>nn emb</td>\n",
       "      <td>0.728026</td>\n",
       "      <td>0.382612</td>\n",
       "      <td>0.448303</td>\n",
       "      <td>0.709593</td>\n",
       "      <td>0.318813</td>\n",
       "      <td>0.395795</td>\n",
       "    </tr>\n",
       "    <tr>\n",
       "      <th>10</th>\n",
       "      <td>xgb dgi base</td>\n",
       "      <td>0.724011</td>\n",
       "      <td>0.375218</td>\n",
       "      <td>0.447336</td>\n",
       "      <td>0.733705</td>\n",
       "      <td>0.346721</td>\n",
       "      <td>0.425681</td>\n",
       "    </tr>\n",
       "  </tbody>\n",
       "</table>\n",
       "</div>"
      ],
      "text/plain": [
       "                           model  roc_auc_score  average_precision_score  \\\n",
       "9                     xgb emb nn       0.730490                 0.386461   \n",
       "14     xgb clus menc dgi base 20       0.728654                 0.384045   \n",
       "1                       xgb mean       0.728321                 0.383767   \n",
       "12              xgb clus menc nn       0.728576                 0.383574   \n",
       "6      xgb mean x naics industry       0.728229                 0.383484   \n",
       "4        xgb mean x naics sector       0.727947                 0.382885   \n",
       "5     xgb mean x naics subsector       0.728005                 0.382785   \n",
       "15     xgb clus menc dgi base 80       0.728150                 0.382723   \n",
       "16  xgb clus menc dgi base+label       0.727949                 0.382644   \n",
       "13        xgb clus menc dgi base       0.727987                 0.382625   \n",
       "8                         nn emb       0.728026                 0.382612   \n",
       "10                  xgb dgi base       0.724011                 0.375218   \n",
       "\n",
       "    f1_score    roc_ho     ap_ho  f1_score_ho  \n",
       "9   0.451821  0.717261  0.332862     0.390534  \n",
       "14  0.450194  0.736758  0.357617     0.423053  \n",
       "1   0.450140  0.729034  0.347848     0.420046  \n",
       "12  0.449642  0.714015  0.313323     0.393603  \n",
       "6   0.449909  0.738906  0.370568     0.433739  \n",
       "4   0.449732  0.727478  0.344311     0.424421  \n",
       "5   0.449474  0.735679  0.360168     0.426707  \n",
       "15  0.449186  0.730578  0.346508     0.424069  \n",
       "16  0.448784  0.733238  0.352632     0.428239  \n",
       "13  0.449400  0.734168  0.356434     0.421747  \n",
       "8   0.448303  0.709593  0.318813     0.395795  \n",
       "10  0.447336  0.733705  0.346721     0.425681  "
      ]
     },
     "execution_count": 40,
     "metadata": {},
     "output_type": "execute_result"
    }
   ],
   "source": [
    "overall_stats.sort_values('average_precision_score', ascending=False).head(12)"
   ]
  },
  {
   "cell_type": "code",
   "execution_count": 39,
   "id": "9f2e98f8-0849-43ba-b272-b7a44b751636",
   "metadata": {},
   "outputs": [
    {
     "data": {
      "text/html": [
       "<div>\n",
       "<style scoped>\n",
       "    .dataframe tbody tr th:only-of-type {\n",
       "        vertical-align: middle;\n",
       "    }\n",
       "\n",
       "    .dataframe tbody tr th {\n",
       "        vertical-align: top;\n",
       "    }\n",
       "\n",
       "    .dataframe thead th {\n",
       "        text-align: right;\n",
       "    }\n",
       "</style>\n",
       "<table border=\"1\" class=\"dataframe\">\n",
       "  <thead>\n",
       "    <tr style=\"text-align: right;\">\n",
       "      <th></th>\n",
       "      <th>model</th>\n",
       "      <th>roc_auc_score</th>\n",
       "      <th>average_precision_score</th>\n",
       "      <th>f1_score</th>\n",
       "      <th>roc_ho</th>\n",
       "      <th>ap_ho</th>\n",
       "      <th>f1_score_ho</th>\n",
       "    </tr>\n",
       "  </thead>\n",
       "  <tbody>\n",
       "    <tr>\n",
       "      <th>6</th>\n",
       "      <td>xgb mean x naics industry</td>\n",
       "      <td>0.728229</td>\n",
       "      <td>0.383484</td>\n",
       "      <td>0.449909</td>\n",
       "      <td>0.738906</td>\n",
       "      <td>0.370568</td>\n",
       "      <td>0.433739</td>\n",
       "    </tr>\n",
       "    <tr>\n",
       "      <th>3</th>\n",
       "      <td>xgb numeric naics</td>\n",
       "      <td>0.723166</td>\n",
       "      <td>0.373796</td>\n",
       "      <td>0.446564</td>\n",
       "      <td>0.738718</td>\n",
       "      <td>0.362137</td>\n",
       "      <td>0.429141</td>\n",
       "    </tr>\n",
       "    <tr>\n",
       "      <th>18</th>\n",
       "      <td>xgb clus oh dgi base</td>\n",
       "      <td>0.711046</td>\n",
       "      <td>0.356489</td>\n",
       "      <td>0.438078</td>\n",
       "      <td>0.737600</td>\n",
       "      <td>0.360423</td>\n",
       "      <td>0.427910</td>\n",
       "    </tr>\n",
       "    <tr>\n",
       "      <th>5</th>\n",
       "      <td>xgb mean x naics subsector</td>\n",
       "      <td>0.728005</td>\n",
       "      <td>0.382785</td>\n",
       "      <td>0.449474</td>\n",
       "      <td>0.735679</td>\n",
       "      <td>0.360168</td>\n",
       "      <td>0.426707</td>\n",
       "    </tr>\n",
       "    <tr>\n",
       "      <th>19</th>\n",
       "      <td>xgb clus oh dgi base+label</td>\n",
       "      <td>0.711826</td>\n",
       "      <td>0.359239</td>\n",
       "      <td>0.436635</td>\n",
       "      <td>0.737109</td>\n",
       "      <td>0.358599</td>\n",
       "      <td>0.428162</td>\n",
       "    </tr>\n",
       "    <tr>\n",
       "      <th>14</th>\n",
       "      <td>xgb clus menc dgi base 20</td>\n",
       "      <td>0.728654</td>\n",
       "      <td>0.384045</td>\n",
       "      <td>0.450194</td>\n",
       "      <td>0.736758</td>\n",
       "      <td>0.357617</td>\n",
       "      <td>0.423053</td>\n",
       "    </tr>\n",
       "    <tr>\n",
       "      <th>13</th>\n",
       "      <td>xgb clus menc dgi base</td>\n",
       "      <td>0.727987</td>\n",
       "      <td>0.382625</td>\n",
       "      <td>0.449400</td>\n",
       "      <td>0.734168</td>\n",
       "      <td>0.356434</td>\n",
       "      <td>0.421747</td>\n",
       "    </tr>\n",
       "    <tr>\n",
       "      <th>11</th>\n",
       "      <td>xgb dgi base+label</td>\n",
       "      <td>0.723915</td>\n",
       "      <td>0.373773</td>\n",
       "      <td>0.446626</td>\n",
       "      <td>0.735716</td>\n",
       "      <td>0.355020</td>\n",
       "      <td>0.429074</td>\n",
       "    </tr>\n",
       "    <tr>\n",
       "      <th>16</th>\n",
       "      <td>xgb clus menc dgi base+label</td>\n",
       "      <td>0.727949</td>\n",
       "      <td>0.382644</td>\n",
       "      <td>0.448784</td>\n",
       "      <td>0.733238</td>\n",
       "      <td>0.352632</td>\n",
       "      <td>0.428239</td>\n",
       "    </tr>\n",
       "    <tr>\n",
       "      <th>0</th>\n",
       "      <td>xgb base</td>\n",
       "      <td>0.704601</td>\n",
       "      <td>0.348985</td>\n",
       "      <td>0.434293</td>\n",
       "      <td>0.732046</td>\n",
       "      <td>0.351437</td>\n",
       "      <td>0.423421</td>\n",
       "    </tr>\n",
       "    <tr>\n",
       "      <th>2</th>\n",
       "      <td>xgb one hot</td>\n",
       "      <td>0.713595</td>\n",
       "      <td>0.358867</td>\n",
       "      <td>0.439001</td>\n",
       "      <td>0.733087</td>\n",
       "      <td>0.350732</td>\n",
       "      <td>0.423228</td>\n",
       "    </tr>\n",
       "    <tr>\n",
       "      <th>1</th>\n",
       "      <td>xgb mean</td>\n",
       "      <td>0.728321</td>\n",
       "      <td>0.383767</td>\n",
       "      <td>0.450140</td>\n",
       "      <td>0.729034</td>\n",
       "      <td>0.347848</td>\n",
       "      <td>0.420046</td>\n",
       "    </tr>\n",
       "  </tbody>\n",
       "</table>\n",
       "</div>"
      ],
      "text/plain": [
       "                           model  roc_auc_score  average_precision_score  \\\n",
       "6      xgb mean x naics industry       0.728229                 0.383484   \n",
       "3              xgb numeric naics       0.723166                 0.373796   \n",
       "18          xgb clus oh dgi base       0.711046                 0.356489   \n",
       "5     xgb mean x naics subsector       0.728005                 0.382785   \n",
       "19    xgb clus oh dgi base+label       0.711826                 0.359239   \n",
       "14     xgb clus menc dgi base 20       0.728654                 0.384045   \n",
       "13        xgb clus menc dgi base       0.727987                 0.382625   \n",
       "11            xgb dgi base+label       0.723915                 0.373773   \n",
       "16  xgb clus menc dgi base+label       0.727949                 0.382644   \n",
       "0                       xgb base       0.704601                 0.348985   \n",
       "2                    xgb one hot       0.713595                 0.358867   \n",
       "1                       xgb mean       0.728321                 0.383767   \n",
       "\n",
       "    f1_score    roc_ho     ap_ho  f1_score_ho  \n",
       "6   0.449909  0.738906  0.370568     0.433739  \n",
       "3   0.446564  0.738718  0.362137     0.429141  \n",
       "18  0.438078  0.737600  0.360423     0.427910  \n",
       "5   0.449474  0.735679  0.360168     0.426707  \n",
       "19  0.436635  0.737109  0.358599     0.428162  \n",
       "14  0.450194  0.736758  0.357617     0.423053  \n",
       "13  0.449400  0.734168  0.356434     0.421747  \n",
       "11  0.446626  0.735716  0.355020     0.429074  \n",
       "16  0.448784  0.733238  0.352632     0.428239  \n",
       "0   0.434293  0.732046  0.351437     0.423421  \n",
       "2   0.439001  0.733087  0.350732     0.423228  \n",
       "1   0.450140  0.729034  0.347848     0.420046  "
      ]
     },
     "execution_count": 39,
     "metadata": {},
     "output_type": "execute_result"
    }
   ],
   "source": [
    "overall_stats.sort_values('ap_ho', ascending=False).head(12)"
   ]
  },
  {
   "cell_type": "code",
   "execution_count": 32,
   "id": "b7850f44-08b6-4e2f-80a4-a20ff5acead5",
   "metadata": {},
   "outputs": [
    {
     "data": {
      "text/html": [
       "<div>\n",
       "<style scoped>\n",
       "    .dataframe tbody tr th:only-of-type {\n",
       "        vertical-align: middle;\n",
       "    }\n",
       "\n",
       "    .dataframe tbody tr th {\n",
       "        vertical-align: top;\n",
       "    }\n",
       "\n",
       "    .dataframe thead th {\n",
       "        text-align: right;\n",
       "    }\n",
       "</style>\n",
       "<table border=\"1\" class=\"dataframe\">\n",
       "  <thead>\n",
       "    <tr style=\"text-align: right;\">\n",
       "      <th></th>\n",
       "      <th>model</th>\n",
       "      <th>roc_auc_score</th>\n",
       "      <th>average_precision_score</th>\n",
       "      <th>f1_score</th>\n",
       "      <th>roc_ho</th>\n",
       "      <th>ap_ho</th>\n",
       "      <th>f1_score_ho</th>\n",
       "    </tr>\n",
       "  </thead>\n",
       "  <tbody>\n",
       "    <tr>\n",
       "      <th>8</th>\n",
       "      <td>nn emb</td>\n",
       "      <td>0.728026</td>\n",
       "      <td>0.382612</td>\n",
       "      <td>0.448303</td>\n",
       "      <td>0.709593</td>\n",
       "      <td>0.318813</td>\n",
       "      <td>0.395795</td>\n",
       "    </tr>\n",
       "    <tr>\n",
       "      <th>7</th>\n",
       "      <td>nn base</td>\n",
       "      <td>0.700443</td>\n",
       "      <td>0.343516</td>\n",
       "      <td>0.430850</td>\n",
       "      <td>0.728409</td>\n",
       "      <td>0.344602</td>\n",
       "      <td>0.419681</td>\n",
       "    </tr>\n",
       "  </tbody>\n",
       "</table>\n",
       "</div>"
      ],
      "text/plain": [
       "     model  roc_auc_score  average_precision_score  f1_score    roc_ho  \\\n",
       "8   nn emb       0.728026                 0.382612  0.448303  0.709593   \n",
       "7  nn base       0.700443                 0.343516  0.430850  0.728409   \n",
       "\n",
       "      ap_ho  f1_score_ho  \n",
       "8  0.318813     0.395795  \n",
       "7  0.344602     0.419681  "
      ]
     },
     "execution_count": 32,
     "metadata": {},
     "output_type": "execute_result"
    }
   ],
   "source": [
    "overall_stats[overall_stats['model'].isin(list(dict_pred_2_nn_basic.keys()))] \\\n",
    ".sort_values('average_precision_score', ascending=False)"
   ]
  },
  {
   "cell_type": "code",
   "execution_count": 34,
   "id": "9e84147c-8161-4019-8e80-2c5d100e9605",
   "metadata": {},
   "outputs": [
    {
     "data": {
      "text/html": [
       "<div>\n",
       "<style scoped>\n",
       "    .dataframe tbody tr th:only-of-type {\n",
       "        vertical-align: middle;\n",
       "    }\n",
       "\n",
       "    .dataframe tbody tr th {\n",
       "        vertical-align: top;\n",
       "    }\n",
       "\n",
       "    .dataframe thead th {\n",
       "        text-align: right;\n",
       "    }\n",
       "</style>\n",
       "<table border=\"1\" class=\"dataframe\">\n",
       "  <thead>\n",
       "    <tr style=\"text-align: right;\">\n",
       "      <th></th>\n",
       "      <th>model</th>\n",
       "      <th>roc_auc_score</th>\n",
       "      <th>average_precision_score</th>\n",
       "      <th>f1_score</th>\n",
       "      <th>roc_ho</th>\n",
       "      <th>ap_ho</th>\n",
       "      <th>f1_score_ho</th>\n",
       "    </tr>\n",
       "  </thead>\n",
       "  <tbody>\n",
       "    <tr>\n",
       "      <th>9</th>\n",
       "      <td>xgb emb nn</td>\n",
       "      <td>0.730490</td>\n",
       "      <td>0.386461</td>\n",
       "      <td>0.451821</td>\n",
       "      <td>0.717261</td>\n",
       "      <td>0.332862</td>\n",
       "      <td>0.390534</td>\n",
       "    </tr>\n",
       "    <tr>\n",
       "      <th>10</th>\n",
       "      <td>xgb dgi base</td>\n",
       "      <td>0.724011</td>\n",
       "      <td>0.375218</td>\n",
       "      <td>0.447336</td>\n",
       "      <td>0.733705</td>\n",
       "      <td>0.346721</td>\n",
       "      <td>0.425681</td>\n",
       "    </tr>\n",
       "    <tr>\n",
       "      <th>11</th>\n",
       "      <td>xgb dgi base+label</td>\n",
       "      <td>0.723915</td>\n",
       "      <td>0.373773</td>\n",
       "      <td>0.446626</td>\n",
       "      <td>0.735716</td>\n",
       "      <td>0.355020</td>\n",
       "      <td>0.429074</td>\n",
       "    </tr>\n",
       "  </tbody>\n",
       "</table>\n",
       "</div>"
      ],
      "text/plain": [
       "                 model  roc_auc_score  average_precision_score  f1_score  \\\n",
       "9           xgb emb nn       0.730490                 0.386461  0.451821   \n",
       "10        xgb dgi base       0.724011                 0.375218  0.447336   \n",
       "11  xgb dgi base+label       0.723915                 0.373773  0.446626   \n",
       "\n",
       "      roc_ho     ap_ho  f1_score_ho  \n",
       "9   0.717261  0.332862     0.390534  \n",
       "10  0.733705  0.346721     0.425681  \n",
       "11  0.735716  0.355020     0.429074  "
      ]
     },
     "execution_count": 34,
     "metadata": {},
     "output_type": "execute_result"
    }
   ],
   "source": [
    "overall_stats[overall_stats['model'].isin(list(dict_pred_3_emb.keys()))] \\\n",
    ".sort_values('average_precision_score', ascending=False)"
   ]
  },
  {
   "cell_type": "code",
   "execution_count": 35,
   "id": "897c0457-c8a1-4f20-8346-dbc7dbe71bf1",
   "metadata": {},
   "outputs": [
    {
     "data": {
      "text/html": [
       "<div>\n",
       "<style scoped>\n",
       "    .dataframe tbody tr th:only-of-type {\n",
       "        vertical-align: middle;\n",
       "    }\n",
       "\n",
       "    .dataframe tbody tr th {\n",
       "        vertical-align: top;\n",
       "    }\n",
       "\n",
       "    .dataframe thead th {\n",
       "        text-align: right;\n",
       "    }\n",
       "</style>\n",
       "<table border=\"1\" class=\"dataframe\">\n",
       "  <thead>\n",
       "    <tr style=\"text-align: right;\">\n",
       "      <th></th>\n",
       "      <th>model</th>\n",
       "      <th>roc_auc_score</th>\n",
       "      <th>average_precision_score</th>\n",
       "      <th>f1_score</th>\n",
       "      <th>roc_ho</th>\n",
       "      <th>ap_ho</th>\n",
       "      <th>f1_score_ho</th>\n",
       "    </tr>\n",
       "  </thead>\n",
       "  <tbody>\n",
       "    <tr>\n",
       "      <th>14</th>\n",
       "      <td>xgb clus menc dgi base 20</td>\n",
       "      <td>0.728654</td>\n",
       "      <td>0.384045</td>\n",
       "      <td>0.450194</td>\n",
       "      <td>0.736758</td>\n",
       "      <td>0.357617</td>\n",
       "      <td>0.423053</td>\n",
       "    </tr>\n",
       "    <tr>\n",
       "      <th>12</th>\n",
       "      <td>xgb clus menc nn</td>\n",
       "      <td>0.728576</td>\n",
       "      <td>0.383574</td>\n",
       "      <td>0.449642</td>\n",
       "      <td>0.714015</td>\n",
       "      <td>0.313323</td>\n",
       "      <td>0.393603</td>\n",
       "    </tr>\n",
       "    <tr>\n",
       "      <th>15</th>\n",
       "      <td>xgb clus menc dgi base 80</td>\n",
       "      <td>0.728150</td>\n",
       "      <td>0.382723</td>\n",
       "      <td>0.449186</td>\n",
       "      <td>0.730578</td>\n",
       "      <td>0.346508</td>\n",
       "      <td>0.424069</td>\n",
       "    </tr>\n",
       "    <tr>\n",
       "      <th>16</th>\n",
       "      <td>xgb clus menc dgi base+label</td>\n",
       "      <td>0.727949</td>\n",
       "      <td>0.382644</td>\n",
       "      <td>0.448784</td>\n",
       "      <td>0.733238</td>\n",
       "      <td>0.352632</td>\n",
       "      <td>0.428239</td>\n",
       "    </tr>\n",
       "    <tr>\n",
       "      <th>13</th>\n",
       "      <td>xgb clus menc dgi base</td>\n",
       "      <td>0.727987</td>\n",
       "      <td>0.382625</td>\n",
       "      <td>0.449400</td>\n",
       "      <td>0.734168</td>\n",
       "      <td>0.356434</td>\n",
       "      <td>0.421747</td>\n",
       "    </tr>\n",
       "  </tbody>\n",
       "</table>\n",
       "</div>"
      ],
      "text/plain": [
       "                           model  roc_auc_score  average_precision_score  \\\n",
       "14     xgb clus menc dgi base 20       0.728654                 0.384045   \n",
       "12              xgb clus menc nn       0.728576                 0.383574   \n",
       "15     xgb clus menc dgi base 80       0.728150                 0.382723   \n",
       "16  xgb clus menc dgi base+label       0.727949                 0.382644   \n",
       "13        xgb clus menc dgi base       0.727987                 0.382625   \n",
       "\n",
       "    f1_score    roc_ho     ap_ho  f1_score_ho  \n",
       "14  0.450194  0.736758  0.357617     0.423053  \n",
       "12  0.449642  0.714015  0.313323     0.393603  \n",
       "15  0.449186  0.730578  0.346508     0.424069  \n",
       "16  0.448784  0.733238  0.352632     0.428239  \n",
       "13  0.449400  0.734168  0.356434     0.421747  "
      ]
     },
     "execution_count": 35,
     "metadata": {},
     "output_type": "execute_result"
    }
   ],
   "source": [
    "overall_stats[overall_stats['model'].isin(dict_pred_4_clus_menc.keys())] \\\n",
    "    .sort_values('average_precision_score', ascending=False)"
   ]
  },
  {
   "cell_type": "code",
   "execution_count": 36,
   "id": "05e8bea6-1b1a-4694-956b-a6600150ae65",
   "metadata": {},
   "outputs": [
    {
     "data": {
      "text/html": [
       "<div>\n",
       "<style scoped>\n",
       "    .dataframe tbody tr th:only-of-type {\n",
       "        vertical-align: middle;\n",
       "    }\n",
       "\n",
       "    .dataframe tbody tr th {\n",
       "        vertical-align: top;\n",
       "    }\n",
       "\n",
       "    .dataframe thead th {\n",
       "        text-align: right;\n",
       "    }\n",
       "</style>\n",
       "<table border=\"1\" class=\"dataframe\">\n",
       "  <thead>\n",
       "    <tr style=\"text-align: right;\">\n",
       "      <th></th>\n",
       "      <th>model</th>\n",
       "      <th>roc_auc_score</th>\n",
       "      <th>average_precision_score</th>\n",
       "      <th>f1_score</th>\n",
       "      <th>roc_ho</th>\n",
       "      <th>ap_ho</th>\n",
       "      <th>f1_score_ho</th>\n",
       "    </tr>\n",
       "  </thead>\n",
       "  <tbody>\n",
       "    <tr>\n",
       "      <th>17</th>\n",
       "      <td>xgb clus oh nn</td>\n",
       "      <td>0.726223</td>\n",
       "      <td>0.374882</td>\n",
       "      <td>0.448602</td>\n",
       "      <td>0.727376</td>\n",
       "      <td>0.343861</td>\n",
       "      <td>0.162614</td>\n",
       "    </tr>\n",
       "    <tr>\n",
       "      <th>19</th>\n",
       "      <td>xgb clus oh dgi base+label</td>\n",
       "      <td>0.711826</td>\n",
       "      <td>0.359239</td>\n",
       "      <td>0.436635</td>\n",
       "      <td>0.737109</td>\n",
       "      <td>0.358599</td>\n",
       "      <td>0.428162</td>\n",
       "    </tr>\n",
       "    <tr>\n",
       "      <th>2</th>\n",
       "      <td>xgb one hot</td>\n",
       "      <td>0.713595</td>\n",
       "      <td>0.358867</td>\n",
       "      <td>0.439001</td>\n",
       "      <td>0.733087</td>\n",
       "      <td>0.350732</td>\n",
       "      <td>0.423228</td>\n",
       "    </tr>\n",
       "    <tr>\n",
       "      <th>18</th>\n",
       "      <td>xgb clus oh dgi base</td>\n",
       "      <td>0.711046</td>\n",
       "      <td>0.356489</td>\n",
       "      <td>0.438078</td>\n",
       "      <td>0.737600</td>\n",
       "      <td>0.360423</td>\n",
       "      <td>0.427910</td>\n",
       "    </tr>\n",
       "  </tbody>\n",
       "</table>\n",
       "</div>"
      ],
      "text/plain": [
       "                         model  roc_auc_score  average_precision_score  \\\n",
       "17              xgb clus oh nn       0.726223                 0.374882   \n",
       "19  xgb clus oh dgi base+label       0.711826                 0.359239   \n",
       "2                  xgb one hot       0.713595                 0.358867   \n",
       "18        xgb clus oh dgi base       0.711046                 0.356489   \n",
       "\n",
       "    f1_score    roc_ho     ap_ho  f1_score_ho  \n",
       "17  0.448602  0.727376  0.343861     0.162614  \n",
       "19  0.436635  0.737109  0.358599     0.428162  \n",
       "2   0.439001  0.733087  0.350732     0.423228  \n",
       "18  0.438078  0.737600  0.360423     0.427910  "
      ]
     },
     "execution_count": 36,
     "metadata": {},
     "output_type": "execute_result"
    }
   ],
   "source": [
    "overall_stats[overall_stats['model'].isin(list(dict_pred_5_oh.keys()) + \\\n",
    "                                          ['xgb one hot'])] \\\n",
    "    .sort_values('average_precision_score', ascending=False)"
   ]
  },
  {
   "cell_type": "code",
   "execution_count": 37,
   "id": "95a02a52-09af-4777-809d-0f0be44afb6d",
   "metadata": {},
   "outputs": [],
   "source": [
    "overall_stats.to_csv(Path(setup.temp_path).joinpath('80_REPORT_summary_stats.csv'),\n",
    "                    index=False)"
   ]
  },
  {
   "cell_type": "code",
   "execution_count": null,
   "id": "2b0eaa81-c789-434b-936c-7ebd32dd1b3d",
   "metadata": {},
   "outputs": [],
   "source": [
    "TO DO\n",
    "ANOVA\n",
    "Cross-silhouette scores\n"
   ]
  },
  {
   "cell_type": "code",
   "execution_count": null,
   "id": "62c22b14-1190-44b2-922f-5ce1223eb38b",
   "metadata": {},
   "outputs": [],
   "source": []
  },
  {
   "cell_type": "code",
   "execution_count": null,
   "id": "cace3558-6d71-434d-9b1a-3169b7bf1b4d",
   "metadata": {},
   "outputs": [],
   "source": []
  }
 ],
 "metadata": {
  "kernelspec": {
   "display_name": "tf_p39",
   "language": "python",
   "name": "tf_p39"
  },
  "language_info": {
   "codemirror_mode": {
    "name": "ipython",
    "version": 3
   },
   "file_extension": ".py",
   "mimetype": "text/x-python",
   "name": "python",
   "nbconvert_exporter": "python",
   "pygments_lexer": "ipython3",
   "version": "3.8.18"
  }
 },
 "nbformat": 4,
 "nbformat_minor": 5
}
