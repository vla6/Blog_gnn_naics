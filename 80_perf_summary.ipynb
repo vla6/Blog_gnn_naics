{
 "cells": [
  {
   "cell_type": "code",
   "execution_count": 1,
   "id": "395c2ed9-318e-4be2-886b-61282d2085ba",
   "metadata": {
    "tags": []
   },
   "outputs": [],
   "source": [
    "# Modify the file 00_setup.py to define input/output file paths on your system\n",
    "# The information in 00_setup.py will be used across notebooks\n",
    "from importlib.machinery import SourceFileLoader\n",
    "setup = SourceFileLoader(\"setup\", \"./00_setup.py\").load_module()"
   ]
  },
  {
   "cell_type": "markdown",
   "id": "65368748-0ca7-44cc-a40f-09ae004de061",
   "metadata": {},
   "source": [
    "# Low Volume NAICS performance\n",
    "Look at the model performance vs. # of businesses per NAICS.  Examine NAICS codes present in the training and test data only.  Bucket NAICS by volume, and look at test dataset performance for businesses corresponding to the buckets. "
   ]
  },
  {
   "cell_type": "markdown",
   "id": "4beb4e5b-70f3-4ea8-9c75-287a7b0f4b0f",
   "metadata": {},
   "source": [
    "Also combine all metrics for easy comparisons"
   ]
  },
  {
   "cell_type": "markdown",
   "id": "4ba148a6-16e3-4d60-9478-92aef8bb030f",
   "metadata": {},
   "source": [
    "*This script takes about 5 minutes on my MacBook Air*"
   ]
  },
  {
   "cell_type": "code",
   "execution_count": 2,
   "id": "ebb9974c-a2ab-4b1e-96f9-86f7696d4e68",
   "metadata": {},
   "outputs": [],
   "source": [
    "import pandas as pd\n",
    "import numpy as np\n",
    "import matplotlib.pyplot as plt\n",
    "import seaborn as sns"
   ]
  },
  {
   "cell_type": "code",
   "execution_count": 3,
   "id": "4469060d-2483-4d27-8a0c-44d857962276",
   "metadata": {},
   "outputs": [],
   "source": [
    "from pathlib import Path"
   ]
  },
  {
   "cell_type": "code",
   "execution_count": 4,
   "id": "7fc1bcc0-2d16-44f8-83d4-4b8acc59d6b2",
   "metadata": {},
   "outputs": [],
   "source": [
    "from sba_gnn.sba_gnn import sg_plot "
   ]
  },
  {
   "cell_type": "code",
   "execution_count": 5,
   "id": "3db5b8db-1478-4f38-bc6f-e68891f395fa",
   "metadata": {},
   "outputs": [],
   "source": [
    "sg_plot.plot_defaults()"
   ]
  },
  {
   "cell_type": "markdown",
   "id": "e7ab511d-db43-4643-9b2b-eeb8c7871c97",
   "metadata": {},
   "source": [
    "## File Dictionaries"
   ]
  },
  {
   "cell_type": "markdown",
   "id": "5cb4b0ac-58ef-4c0f-927a-308084705bea",
   "metadata": {},
   "source": [
    "##### Raw predictions - will get metrics for low volume naics"
   ]
  },
  {
   "cell_type": "raw",
   "id": "0aedcc43-cca4-41a6-a774-1fe9af17fccc",
   "metadata": {},
   "source": [
    "dict_pred = {'xgb base': Path(setup.temp_path).joinpath('03_DATA_combined_predictions.parquet'),\n",
    "              'xgb mean':  Path(setup.temp_path).joinpath('04_DATA_combined_predictions.parquet'),\n",
    "              'xgb one hot':  Path(setup.temp_path).joinpath('05_DATA_combined_predictions.parquet'),\n",
    "              'xgb numeric naics':  Path(setup.temp_path).joinpath('06_DATA_combined_predictions.parquet'),\n",
    "              'xgb mean+count enc':  Path(setup.temp_path).joinpath('07_DATA_combined_predictions.parquet'),\n",
    "              'xgb grp mean':  Path(setup.temp_path).joinpath('08_DATA_combined_predictions.parquet'),\n",
    "              'xgb mean alt+count enc':  Path(setup.temp_path).joinpath('09_DATA_combined_predictions.parquet'),\n",
    "              'nn baseline': Path(setup.temp_path).joinpath('11_DATA_predictions.parquet'),\n",
    "              'nn emb': Path(setup.temp_path).joinpath('12_DATA_predictions.parquet'),\n",
    "              'nn numeric naics': Path(setup.temp_path).joinpath('13_DATA_predictions.parquet'),\n",
    "              'nn one hot': Path(setup.temp_path).joinpath('14_DATA_predictions.parquet'),\n",
    "              'nn emb+count enc': Path(setup.temp_path).joinpath('15_DATA_predictions.parquet'),\n",
    "              'nn emb remap': Path(setup.temp_path).joinpath('16_DATA_predictions.parquet'),\n",
    "              'gnn': Path(setup.temp_path).joinpath('22_DATA_predictions_all.parquet'),\n",
    "              'gnn+count enc': Path(setup.temp_path).joinpath('25_DATA_predictions_all.parquet'),\n",
    "              'xgb emb nn': Path(setup.temp_path).joinpath('40_DATA_combined_predictions.parquet'),\n",
    "              'xgb emb nn+count enc': Path(setup.temp_path).joinpath('41_DATA_combined_predictions.parquet'),\n",
    "              'xgb emb nn remap': Path(setup.temp_path).joinpath('42_DATA_combined_predictions.parquet'),\n",
    "              'xgb emb nn remap+count enc': Path(setup.temp_path).joinpath('43_DATA_combined_predictions.parquet'),\n",
    "              'xgb dgi base': Path(setup.temp_path).joinpath('50_DATA_combined_predictions.parquet'),\n",
    "              'xgb dgi base+count enc': Path(setup.temp_path).joinpath('51_DATA_combined_predictions.parquet'),\n",
    "              'xgb dgi base+label': Path(setup.temp_path).joinpath('52_DATA_combined_predictions.parquet'),\n",
    "              'xgb dgi nnfeat': Path(setup.temp_path).joinpath('53_DATA_combined_predictions.parquet'),\n",
    "              'xgb dgi nnfeat+label': Path(setup.temp_path).joinpath('54_DATA_combined_predictions.parquet')\n",
    "            }"
   ]
  },
  {
   "cell_type": "code",
   "execution_count": 6,
   "id": "cffb2dc1-84d8-4114-931c-46cb89b2eda1",
   "metadata": {},
   "outputs": [],
   "source": [
    "dict_pred = {'xgb base': Path(setup.temp_path).joinpath('03_DATA_combined_predictions.parquet'),\n",
    "              'xgb mean':  Path(setup.temp_path).joinpath('04_DATA_combined_predictions.parquet'),\n",
    "              'xgb one hot':  Path(setup.temp_path).joinpath('05_DATA_combined_predictions.parquet'),\n",
    "              'xgb numeric naics':  Path(setup.temp_path).joinpath('06_DATA_combined_predictions.parquet'),\n",
    "              'xgb mean x naics sector':  Path(setup.temp_path).joinpath('07_DATA_combined_predictions.parquet'),\n",
    "              'xgb mean x naics4':  Path(setup.temp_path).joinpath('08_DATA_combined_predictions.parquet'),\n",
    "              'xgb mean x naics3':  Path(setup.temp_path).joinpath('09_DATA_combined_predictions.parquet'),\n",
    "              'xgb one hot - clus nn emb':  Path(setup.temp_path).joinpath('61_DATA_combined_predictions.parquet'),\n",
    "              'xgb mean x clus nn emb':  Path(setup.temp_path).joinpath('62_DATA_combined_predictions.parquet'),\n",
    "              'nn base': Path(setup.temp_path).joinpath('11_DATA_predictions.parquet'),\n",
    "               'nn emb': Path(setup.temp_path).joinpath('12_DATA_predictions.parquet'),\n",
    "             'nn emb x naics sector': Path(setup.temp_path).joinpath('16_DATA_predictions.parquet'),\n",
    "            }"
   ]
  },
  {
   "cell_type": "code",
   "execution_count": 7,
   "id": "d12441f9-882a-4993-b504-b017242d52ba",
   "metadata": {},
   "outputs": [
    {
     "data": {
      "text/plain": [
       "True"
      ]
     },
     "execution_count": 7,
     "metadata": {},
     "output_type": "execute_result"
    }
   ],
   "source": [
    "# Verify these all exist\n",
    "all([Path(v).exists() for k, v in dict_pred.items()])"
   ]
  },
  {
   "cell_type": "code",
   "execution_count": 8,
   "id": "b79efa7f-32d4-4872-9876-c5edb647ec13",
   "metadata": {},
   "outputs": [],
   "source": [
    "#{k:Path(v).exists() for k, v in dict_pred.items()}"
   ]
  },
  {
   "cell_type": "markdown",
   "id": "1b76c3d9-1b06-4ffe-a27b-2e98a1048bd0",
   "metadata": {},
   "source": [
    "##### Standard metrics\n",
    "Get filenames for standard metrics calculated in all scripts. These all have similar file naming"
   ]
  },
  {
   "cell_type": "code",
   "execution_count": 9,
   "id": "c5a8782d-6437-4cb0-b9e4-f882f6a87cf4",
   "metadata": {},
   "outputs": [],
   "source": [
    "dict_metrics = {k:Path(setup.temp_path).joinpath(v.name[0:2] + '_REPORT_metrics.csv') \\\n",
    "                for k, v in dict_pred.items()}"
   ]
  },
  {
   "cell_type": "code",
   "execution_count": 10,
   "id": "44006664-7b23-478a-8c22-34267e55fa2b",
   "metadata": {},
   "outputs": [
    {
     "data": {
      "text/plain": [
       "True"
      ]
     },
     "execution_count": 10,
     "metadata": {},
     "output_type": "execute_result"
    }
   ],
   "source": [
    "# Verify these all exist\n",
    "all([Path(v).exists() for k, v in dict_metrics.items()])"
   ]
  },
  {
   "cell_type": "markdown",
   "id": "3a1ef909-9a12-4734-ab34-4c90675e7ded",
   "metadata": {},
   "source": [
    "## Combine standard metrics"
   ]
  },
  {
   "cell_type": "code",
   "execution_count": 11,
   "id": "3135c12f-f97f-464d-bee8-b08b666e0bfb",
   "metadata": {},
   "outputs": [],
   "source": [
    "all_metrics = pd.concat([pd.read_csv(v) for k, v in dict_metrics.items()],\n",
    "                        keys = dict_metrics.keys()) \\\n",
    "    .reset_index(level=0) \\\n",
    "    .drop(columns=['Unnamed: 0'], errors='ignore') \\\n",
    "    .rename(columns={'level_0':'model'})"
   ]
  },
  {
   "cell_type": "code",
   "execution_count": 12,
   "id": "6aa65b5e-fabd-4ead-b659-b57e13a2adb6",
   "metadata": {},
   "outputs": [
    {
     "data": {
      "text/html": [
       "<div>\n",
       "<style scoped>\n",
       "    .dataframe tbody tr th:only-of-type {\n",
       "        vertical-align: middle;\n",
       "    }\n",
       "\n",
       "    .dataframe tbody tr th {\n",
       "        vertical-align: top;\n",
       "    }\n",
       "\n",
       "    .dataframe thead th {\n",
       "        text-align: right;\n",
       "    }\n",
       "</style>\n",
       "<table border=\"1\" class=\"dataframe\">\n",
       "  <thead>\n",
       "    <tr style=\"text-align: right;\">\n",
       "      <th></th>\n",
       "      <th>model</th>\n",
       "      <th>dset</th>\n",
       "      <th>accuracy_score</th>\n",
       "      <th>f1_score</th>\n",
       "      <th>precision_score</th>\n",
       "      <th>recall_score</th>\n",
       "      <th>average_precision_score</th>\n",
       "      <th>roc_auc_score</th>\n",
       "      <th>dset_naics_holdout</th>\n",
       "    </tr>\n",
       "  </thead>\n",
       "  <tbody>\n",
       "    <tr>\n",
       "      <th>3</th>\n",
       "      <td>xgb mean x naics3</td>\n",
       "      <td>test</td>\n",
       "      <td>0.666502</td>\n",
       "      <td>0.451238</td>\n",
       "      <td>0.339382</td>\n",
       "      <td>0.673077</td>\n",
       "      <td>0.390645</td>\n",
       "      <td>0.733338</td>\n",
       "      <td>0.0</td>\n",
       "    </tr>\n",
       "    <tr>\n",
       "      <th>3</th>\n",
       "      <td>xgb mean x naics4</td>\n",
       "      <td>test</td>\n",
       "      <td>0.666754</td>\n",
       "      <td>0.449633</td>\n",
       "      <td>0.338804</td>\n",
       "      <td>0.668222</td>\n",
       "      <td>0.390023</td>\n",
       "      <td>0.732462</td>\n",
       "      <td>0.0</td>\n",
       "    </tr>\n",
       "    <tr>\n",
       "      <th>3</th>\n",
       "      <td>xgb mean</td>\n",
       "      <td>test</td>\n",
       "      <td>0.637072</td>\n",
       "      <td>0.449935</td>\n",
       "      <td>0.325452</td>\n",
       "      <td>0.728627</td>\n",
       "      <td>0.389849</td>\n",
       "      <td>0.732194</td>\n",
       "      <td>0.0</td>\n",
       "    </tr>\n",
       "    <tr>\n",
       "      <th>3</th>\n",
       "      <td>xgb mean x naics sector</td>\n",
       "      <td>test</td>\n",
       "      <td>0.638895</td>\n",
       "      <td>0.450566</td>\n",
       "      <td>0.326477</td>\n",
       "      <td>0.726818</td>\n",
       "      <td>0.389739</td>\n",
       "      <td>0.732311</td>\n",
       "      <td>0.0</td>\n",
       "    </tr>\n",
       "    <tr>\n",
       "      <th>3</th>\n",
       "      <td>xgb mean x clus nn emb</td>\n",
       "      <td>test</td>\n",
       "      <td>0.665348</td>\n",
       "      <td>0.450260</td>\n",
       "      <td>0.338361</td>\n",
       "      <td>0.672744</td>\n",
       "      <td>0.389213</td>\n",
       "      <td>0.732048</td>\n",
       "      <td>0.0</td>\n",
       "    </tr>\n",
       "    <tr>\n",
       "      <th>3</th>\n",
       "      <td>nn emb</td>\n",
       "      <td>test</td>\n",
       "      <td>0.660141</td>\n",
       "      <td>0.450865</td>\n",
       "      <td>0.336043</td>\n",
       "      <td>0.684882</td>\n",
       "      <td>0.388653</td>\n",
       "      <td>0.732290</td>\n",
       "      <td>0.0</td>\n",
       "    </tr>\n",
       "    <tr>\n",
       "      <th>3</th>\n",
       "      <td>nn embx naics sector</td>\n",
       "      <td>test</td>\n",
       "      <td>0.676984</td>\n",
       "      <td>0.450776</td>\n",
       "      <td>0.344828</td>\n",
       "      <td>0.650704</td>\n",
       "      <td>0.388243</td>\n",
       "      <td>0.731821</td>\n",
       "      <td>0.0</td>\n",
       "    </tr>\n",
       "    <tr>\n",
       "      <th>3</th>\n",
       "      <td>xgb one hot - clus nn emb</td>\n",
       "      <td>test</td>\n",
       "      <td>0.654390</td>\n",
       "      <td>0.449398</td>\n",
       "      <td>0.332662</td>\n",
       "      <td>0.692355</td>\n",
       "      <td>0.381205</td>\n",
       "      <td>0.728506</td>\n",
       "      <td>0.0</td>\n",
       "    </tr>\n",
       "    <tr>\n",
       "      <th>3</th>\n",
       "      <td>xgb numeric naics</td>\n",
       "      <td>test</td>\n",
       "      <td>0.653857</td>\n",
       "      <td>0.444074</td>\n",
       "      <td>0.330008</td>\n",
       "      <td>0.678646</td>\n",
       "      <td>0.378392</td>\n",
       "      <td>0.725089</td>\n",
       "      <td>0.0</td>\n",
       "    </tr>\n",
       "    <tr>\n",
       "      <th>3</th>\n",
       "      <td>xgb one hot</td>\n",
       "      <td>test</td>\n",
       "      <td>0.618162</td>\n",
       "      <td>0.438666</td>\n",
       "      <td>0.313099</td>\n",
       "      <td>0.732388</td>\n",
       "      <td>0.360212</td>\n",
       "      <td>0.714582</td>\n",
       "      <td>0.0</td>\n",
       "    </tr>\n",
       "    <tr>\n",
       "      <th>3</th>\n",
       "      <td>xgb base</td>\n",
       "      <td>test</td>\n",
       "      <td>0.609367</td>\n",
       "      <td>0.431370</td>\n",
       "      <td>0.306606</td>\n",
       "      <td>0.727342</td>\n",
       "      <td>0.352200</td>\n",
       "      <td>0.706044</td>\n",
       "      <td>0.0</td>\n",
       "    </tr>\n",
       "    <tr>\n",
       "      <th>3</th>\n",
       "      <td>nn base</td>\n",
       "      <td>test</td>\n",
       "      <td>0.595481</td>\n",
       "      <td>0.430669</td>\n",
       "      <td>0.301890</td>\n",
       "      <td>0.751047</td>\n",
       "      <td>0.345526</td>\n",
       "      <td>0.702495</td>\n",
       "      <td>0.0</td>\n",
       "    </tr>\n",
       "  </tbody>\n",
       "</table>\n",
       "</div>"
      ],
      "text/plain": [
       "                       model  dset  accuracy_score  f1_score  precision_score  \\\n",
       "3          xgb mean x naics3  test        0.666502  0.451238         0.339382   \n",
       "3          xgb mean x naics4  test        0.666754  0.449633         0.338804   \n",
       "3                   xgb mean  test        0.637072  0.449935         0.325452   \n",
       "3    xgb mean x naics sector  test        0.638895  0.450566         0.326477   \n",
       "3     xgb mean x clus nn emb  test        0.665348  0.450260         0.338361   \n",
       "3                     nn emb  test        0.660141  0.450865         0.336043   \n",
       "3       nn embx naics sector  test        0.676984  0.450776         0.344828   \n",
       "3  xgb one hot - clus nn emb  test        0.654390  0.449398         0.332662   \n",
       "3          xgb numeric naics  test        0.653857  0.444074         0.330008   \n",
       "3                xgb one hot  test        0.618162  0.438666         0.313099   \n",
       "3                   xgb base  test        0.609367  0.431370         0.306606   \n",
       "3                    nn base  test        0.595481  0.430669         0.301890   \n",
       "\n",
       "   recall_score  average_precision_score  roc_auc_score  dset_naics_holdout  \n",
       "3      0.673077                 0.390645       0.733338                 0.0  \n",
       "3      0.668222                 0.390023       0.732462                 0.0  \n",
       "3      0.728627                 0.389849       0.732194                 0.0  \n",
       "3      0.726818                 0.389739       0.732311                 0.0  \n",
       "3      0.672744                 0.389213       0.732048                 0.0  \n",
       "3      0.684882                 0.388653       0.732290                 0.0  \n",
       "3      0.650704                 0.388243       0.731821                 0.0  \n",
       "3      0.692355                 0.381205       0.728506                 0.0  \n",
       "3      0.678646                 0.378392       0.725089                 0.0  \n",
       "3      0.732388                 0.360212       0.714582                 0.0  \n",
       "3      0.727342                 0.352200       0.706044                 0.0  \n",
       "3      0.751047                 0.345526       0.702495                 0.0  "
      ]
     },
     "execution_count": 12,
     "metadata": {},
     "output_type": "execute_result"
    }
   ],
   "source": [
    "all_metrics[(all_metrics['dset'] == 'test') & (all_metrics['dset_naics_holdout'] == 0)] \\\n",
    "    .sort_values('average_precision_score', ascending=False)"
   ]
  },
  {
   "cell_type": "code",
   "execution_count": 13,
   "id": "3ee478b3-abf8-4ad4-977e-00236f27ddac",
   "metadata": {},
   "outputs": [
    {
     "data": {
      "text/html": [
       "<div>\n",
       "<style scoped>\n",
       "    .dataframe tbody tr th:only-of-type {\n",
       "        vertical-align: middle;\n",
       "    }\n",
       "\n",
       "    .dataframe tbody tr th {\n",
       "        vertical-align: top;\n",
       "    }\n",
       "\n",
       "    .dataframe thead th {\n",
       "        text-align: right;\n",
       "    }\n",
       "</style>\n",
       "<table border=\"1\" class=\"dataframe\">\n",
       "  <thead>\n",
       "    <tr style=\"text-align: right;\">\n",
       "      <th></th>\n",
       "      <th>model</th>\n",
       "      <th>dset</th>\n",
       "      <th>accuracy_score</th>\n",
       "      <th>f1_score</th>\n",
       "      <th>precision_score</th>\n",
       "      <th>recall_score</th>\n",
       "      <th>average_precision_score</th>\n",
       "      <th>roc_auc_score</th>\n",
       "      <th>dset_naics_holdout</th>\n",
       "    </tr>\n",
       "  </thead>\n",
       "  <tbody>\n",
       "    <tr>\n",
       "      <th>4</th>\n",
       "      <td>xgb numeric naics</td>\n",
       "      <td>test</td>\n",
       "      <td>0.678191</td>\n",
       "      <td>0.429051</td>\n",
       "      <td>0.324135</td>\n",
       "      <td>0.634388</td>\n",
       "      <td>0.362891</td>\n",
       "      <td>0.729245</td>\n",
       "      <td>1.0</td>\n",
       "    </tr>\n",
       "    <tr>\n",
       "      <th>4</th>\n",
       "      <td>xgb one hot</td>\n",
       "      <td>test</td>\n",
       "      <td>0.633594</td>\n",
       "      <td>0.425756</td>\n",
       "      <td>0.303555</td>\n",
       "      <td>0.712644</td>\n",
       "      <td>0.353897</td>\n",
       "      <td>0.722105</td>\n",
       "      <td>1.0</td>\n",
       "    </tr>\n",
       "    <tr>\n",
       "      <th>4</th>\n",
       "      <td>nn base</td>\n",
       "      <td>test</td>\n",
       "      <td>0.614267</td>\n",
       "      <td>0.425718</td>\n",
       "      <td>0.297193</td>\n",
       "      <td>0.750118</td>\n",
       "      <td>0.348599</td>\n",
       "      <td>0.718693</td>\n",
       "      <td>1.0</td>\n",
       "    </tr>\n",
       "    <tr>\n",
       "      <th>4</th>\n",
       "      <td>xgb base</td>\n",
       "      <td>test</td>\n",
       "      <td>0.626182</td>\n",
       "      <td>0.424931</td>\n",
       "      <td>0.300607</td>\n",
       "      <td>0.724610</td>\n",
       "      <td>0.355814</td>\n",
       "      <td>0.723045</td>\n",
       "      <td>1.0</td>\n",
       "    </tr>\n",
       "    <tr>\n",
       "      <th>4</th>\n",
       "      <td>xgb mean</td>\n",
       "      <td>test</td>\n",
       "      <td>0.619579</td>\n",
       "      <td>0.424237</td>\n",
       "      <td>0.298117</td>\n",
       "      <td>0.735317</td>\n",
       "      <td>0.352738</td>\n",
       "      <td>0.721075</td>\n",
       "      <td>1.0</td>\n",
       "    </tr>\n",
       "    <tr>\n",
       "      <th>4</th>\n",
       "      <td>xgb mean x clus nn emb</td>\n",
       "      <td>test</td>\n",
       "      <td>0.577654</td>\n",
       "      <td>0.421792</td>\n",
       "      <td>0.285357</td>\n",
       "      <td>0.808219</td>\n",
       "      <td>0.352236</td>\n",
       "      <td>0.719787</td>\n",
       "      <td>1.0</td>\n",
       "    </tr>\n",
       "    <tr>\n",
       "      <th>4</th>\n",
       "      <td>xgb mean x naics sector</td>\n",
       "      <td>test</td>\n",
       "      <td>0.630263</td>\n",
       "      <td>0.420017</td>\n",
       "      <td>0.299577</td>\n",
       "      <td>0.702409</td>\n",
       "      <td>0.338828</td>\n",
       "      <td>0.712509</td>\n",
       "      <td>1.0</td>\n",
       "    </tr>\n",
       "    <tr>\n",
       "      <th>4</th>\n",
       "      <td>xgb mean x naics4</td>\n",
       "      <td>test</td>\n",
       "      <td>0.695357</td>\n",
       "      <td>0.419578</td>\n",
       "      <td>0.329413</td>\n",
       "      <td>0.577704</td>\n",
       "      <td>0.356358</td>\n",
       "      <td>0.724233</td>\n",
       "      <td>1.0</td>\n",
       "    </tr>\n",
       "    <tr>\n",
       "      <th>4</th>\n",
       "      <td>xgb mean x naics3</td>\n",
       "      <td>test</td>\n",
       "      <td>0.669038</td>\n",
       "      <td>0.411777</td>\n",
       "      <td>0.311366</td>\n",
       "      <td>0.607778</td>\n",
       "      <td>0.337917</td>\n",
       "      <td>0.713045</td>\n",
       "      <td>1.0</td>\n",
       "    </tr>\n",
       "    <tr>\n",
       "      <th>4</th>\n",
       "      <td>xgb one hot - clus nn emb</td>\n",
       "      <td>test</td>\n",
       "      <td>0.530326</td>\n",
       "      <td>0.409879</td>\n",
       "      <td>0.269473</td>\n",
       "      <td>0.855771</td>\n",
       "      <td>0.345317</td>\n",
       "      <td>0.716564</td>\n",
       "      <td>1.0</td>\n",
       "    </tr>\n",
       "    <tr>\n",
       "      <th>4</th>\n",
       "      <td>nn emb</td>\n",
       "      <td>test</td>\n",
       "      <td>0.512890</td>\n",
       "      <td>0.406653</td>\n",
       "      <td>0.264807</td>\n",
       "      <td>0.875768</td>\n",
       "      <td>0.336031</td>\n",
       "      <td>0.708303</td>\n",
       "      <td>1.0</td>\n",
       "    </tr>\n",
       "    <tr>\n",
       "      <th>4</th>\n",
       "      <td>nn embx naics sector</td>\n",
       "      <td>test</td>\n",
       "      <td>0.714534</td>\n",
       "      <td>0.304882</td>\n",
       "      <td>0.284467</td>\n",
       "      <td>0.328452</td>\n",
       "      <td>0.285511</td>\n",
       "      <td>0.665376</td>\n",
       "      <td>1.0</td>\n",
       "    </tr>\n",
       "  </tbody>\n",
       "</table>\n",
       "</div>"
      ],
      "text/plain": [
       "                       model  dset  accuracy_score  f1_score  precision_score  \\\n",
       "4          xgb numeric naics  test        0.678191  0.429051         0.324135   \n",
       "4                xgb one hot  test        0.633594  0.425756         0.303555   \n",
       "4                    nn base  test        0.614267  0.425718         0.297193   \n",
       "4                   xgb base  test        0.626182  0.424931         0.300607   \n",
       "4                   xgb mean  test        0.619579  0.424237         0.298117   \n",
       "4     xgb mean x clus nn emb  test        0.577654  0.421792         0.285357   \n",
       "4    xgb mean x naics sector  test        0.630263  0.420017         0.299577   \n",
       "4          xgb mean x naics4  test        0.695357  0.419578         0.329413   \n",
       "4          xgb mean x naics3  test        0.669038  0.411777         0.311366   \n",
       "4  xgb one hot - clus nn emb  test        0.530326  0.409879         0.269473   \n",
       "4                     nn emb  test        0.512890  0.406653         0.264807   \n",
       "4       nn embx naics sector  test        0.714534  0.304882         0.284467   \n",
       "\n",
       "   recall_score  average_precision_score  roc_auc_score  dset_naics_holdout  \n",
       "4      0.634388                 0.362891       0.729245                 1.0  \n",
       "4      0.712644                 0.353897       0.722105                 1.0  \n",
       "4      0.750118                 0.348599       0.718693                 1.0  \n",
       "4      0.724610                 0.355814       0.723045                 1.0  \n",
       "4      0.735317                 0.352738       0.721075                 1.0  \n",
       "4      0.808219                 0.352236       0.719787                 1.0  \n",
       "4      0.702409                 0.338828       0.712509                 1.0  \n",
       "4      0.577704                 0.356358       0.724233                 1.0  \n",
       "4      0.607778                 0.337917       0.713045                 1.0  \n",
       "4      0.855771                 0.345317       0.716564                 1.0  \n",
       "4      0.875768                 0.336031       0.708303                 1.0  \n",
       "4      0.328452                 0.285511       0.665376                 1.0  "
      ]
     },
     "execution_count": 13,
     "metadata": {},
     "output_type": "execute_result"
    }
   ],
   "source": [
    "all_metrics[(all_metrics['dset'] == 'test') & (all_metrics['dset_naics_holdout'] == 1)] \\\n",
    "    .sort_values('f1_score', ascending=False)"
   ]
  },
  {
   "cell_type": "code",
   "execution_count": 14,
   "id": "a14b8f8c-dc59-4b15-89c6-c9c4984b9e58",
   "metadata": {},
   "outputs": [],
   "source": [
    "all_metrics.to_csv(Path(setup.temp_path).joinpath('60_REPORT_metrics_combined.csv'), index=False)"
   ]
  },
  {
   "cell_type": "markdown",
   "id": "959cc4fa-0fdf-4286-9845-303d2092af0b",
   "metadata": {},
   "source": [
    "## Examine Low Volume, Non-Holdout NAICS\n",
    "Do the poorer results for \"holdout\" NAICS also occur for infrequent NAICS?"
   ]
  },
  {
   "cell_type": "markdown",
   "id": "0a03909e-cfb5-47dc-b030-e55af84df73c",
   "metadata": {},
   "source": [
    "##### Import loans data to label NAICS as low volume"
   ]
  },
  {
   "cell_type": "code",
   "execution_count": 15,
   "id": "f6bc5cc5-b635-420f-852c-6cc9bba68a52",
   "metadata": {},
   "outputs": [],
   "source": [
    "sba_loans = pd.read_parquet(Path(setup.temp_path).joinpath('01_DATA_transformed.parquet'))"
   ]
  },
  {
   "cell_type": "code",
   "execution_count": 16,
   "id": "a5f6c362-c1ab-48d8-812b-2b970b06586b",
   "metadata": {},
   "outputs": [],
   "source": [
    "train_df = sba_loans[sba_loans['dset'] == 'train']\n",
    "test_df = sba_loans[sba_loans['dset'] == 'test']\n",
    "val_df = sba_loans[sba_loans['dset'] == 'val']"
   ]
  },
  {
   "cell_type": "markdown",
   "id": "645e0620-793a-49d6-b63e-a975be22f8f8",
   "metadata": {},
   "source": [
    "#### NAICS volume and selection\n",
    "Find NAICS in the training data and get # of associated businesses.  "
   ]
  },
  {
   "cell_type": "code",
   "execution_count": 17,
   "id": "a651b71d-62e7-4aea-a56e-072c96451049",
   "metadata": {},
   "outputs": [],
   "source": [
    "naics_train_info = sba_loans[sba_loans['dset'] == 'train'][['NAICS']].value_counts().reset_index()"
   ]
  },
  {
   "cell_type": "code",
   "execution_count": 18,
   "id": "7161147f-c2cb-4206-8f94-ef23d34b64c7",
   "metadata": {},
   "outputs": [
    {
     "data": {
      "text/plain": [
       "425594"
      ]
     },
     "execution_count": 18,
     "metadata": {},
     "output_type": "execute_result"
    }
   ],
   "source": [
    "naics_train_info['count'].sum()"
   ]
  },
  {
   "cell_type": "code",
   "execution_count": 19,
   "id": "14f6c949-292b-4321-9bd3-4433ed0473fa",
   "metadata": {},
   "outputs": [],
   "source": [
    "naics_train_info['naics_count_grp'] = pd.cut(naics_train_info['count'], [1, 50, 500, np.Inf],\n",
    "                                           include_lowest=True)"
   ]
  },
  {
   "cell_type": "code",
   "execution_count": 20,
   "id": "e2ea3aeb-5b4a-44d8-95f9-04f01e8a5214",
   "metadata": {},
   "outputs": [
    {
     "data": {
      "text/html": [
       "<div>\n",
       "<style scoped>\n",
       "    .dataframe tbody tr th:only-of-type {\n",
       "        vertical-align: middle;\n",
       "    }\n",
       "\n",
       "    .dataframe tbody tr th {\n",
       "        vertical-align: top;\n",
       "    }\n",
       "\n",
       "    .dataframe thead th {\n",
       "        text-align: right;\n",
       "    }\n",
       "</style>\n",
       "<table border=\"1\" class=\"dataframe\">\n",
       "  <thead>\n",
       "    <tr style=\"text-align: right;\">\n",
       "      <th></th>\n",
       "      <th>min</th>\n",
       "      <th>max</th>\n",
       "      <th>mean</th>\n",
       "      <th>count</th>\n",
       "      <th>sum</th>\n",
       "    </tr>\n",
       "    <tr>\n",
       "      <th>naics_count_grp</th>\n",
       "      <th></th>\n",
       "      <th></th>\n",
       "      <th></th>\n",
       "      <th></th>\n",
       "      <th></th>\n",
       "    </tr>\n",
       "  </thead>\n",
       "  <tbody>\n",
       "    <tr>\n",
       "      <th>(0.999, 50.0]</th>\n",
       "      <td>1</td>\n",
       "      <td>50</td>\n",
       "      <td>18.422594</td>\n",
       "      <td>478</td>\n",
       "      <td>8806</td>\n",
       "    </tr>\n",
       "    <tr>\n",
       "      <th>(50.0, 500.0]</th>\n",
       "      <td>51</td>\n",
       "      <td>486</td>\n",
       "      <td>174.461672</td>\n",
       "      <td>574</td>\n",
       "      <td>100141</td>\n",
       "    </tr>\n",
       "    <tr>\n",
       "      <th>(500.0, inf]</th>\n",
       "      <td>501</td>\n",
       "      <td>18218</td>\n",
       "      <td>1759.150000</td>\n",
       "      <td>180</td>\n",
       "      <td>316647</td>\n",
       "    </tr>\n",
       "  </tbody>\n",
       "</table>\n",
       "</div>"
      ],
      "text/plain": [
       "                 min    max         mean  count     sum\n",
       "naics_count_grp                                        \n",
       "(0.999, 50.0]      1     50    18.422594    478    8806\n",
       "(50.0, 500.0]     51    486   174.461672    574  100141\n",
       "(500.0, inf]     501  18218  1759.150000    180  316647"
      ]
     },
     "execution_count": 20,
     "metadata": {},
     "output_type": "execute_result"
    }
   ],
   "source": [
    "naics_train_info.groupby('naics_count_grp')['count'].agg(['min', 'max', 'mean', 'count', 'sum'])"
   ]
  },
  {
   "cell_type": "markdown",
   "id": "288e44a5-3233-46a8-a659-ddeeaf7d9a7c",
   "metadata": {},
   "source": [
    "##### Codes also in test"
   ]
  },
  {
   "cell_type": "code",
   "execution_count": 21,
   "id": "cad13caa-19a3-482f-94f6-fa2664321fdc",
   "metadata": {},
   "outputs": [],
   "source": [
    "naics_train_info = naics_train_info.merge(sba_loans[sba_loans['dset'] == 'test'][['NAICS']].drop_duplicates(),\n",
    "                                          on='NAICS')"
   ]
  },
  {
   "cell_type": "code",
   "execution_count": 22,
   "id": "8f6df613-fafd-4356-9f37-20ac0e5c1593",
   "metadata": {},
   "outputs": [
    {
     "data": {
      "text/html": [
       "<div>\n",
       "<style scoped>\n",
       "    .dataframe tbody tr th:only-of-type {\n",
       "        vertical-align: middle;\n",
       "    }\n",
       "\n",
       "    .dataframe tbody tr th {\n",
       "        vertical-align: top;\n",
       "    }\n",
       "\n",
       "    .dataframe thead th {\n",
       "        text-align: right;\n",
       "    }\n",
       "</style>\n",
       "<table border=\"1\" class=\"dataframe\">\n",
       "  <thead>\n",
       "    <tr style=\"text-align: right;\">\n",
       "      <th></th>\n",
       "      <th>min</th>\n",
       "      <th>max</th>\n",
       "      <th>mean</th>\n",
       "      <th>count</th>\n",
       "      <th>sum</th>\n",
       "    </tr>\n",
       "    <tr>\n",
       "      <th>naics_count_grp</th>\n",
       "      <th></th>\n",
       "      <th></th>\n",
       "      <th></th>\n",
       "      <th></th>\n",
       "      <th></th>\n",
       "    </tr>\n",
       "  </thead>\n",
       "  <tbody>\n",
       "    <tr>\n",
       "      <th>(0.999, 50.0]</th>\n",
       "      <td>1</td>\n",
       "      <td>50</td>\n",
       "      <td>21.299252</td>\n",
       "      <td>401</td>\n",
       "      <td>8541</td>\n",
       "    </tr>\n",
       "    <tr>\n",
       "      <th>(50.0, 500.0]</th>\n",
       "      <td>51</td>\n",
       "      <td>486</td>\n",
       "      <td>174.461672</td>\n",
       "      <td>574</td>\n",
       "      <td>100141</td>\n",
       "    </tr>\n",
       "    <tr>\n",
       "      <th>(500.0, inf]</th>\n",
       "      <td>501</td>\n",
       "      <td>18218</td>\n",
       "      <td>1759.150000</td>\n",
       "      <td>180</td>\n",
       "      <td>316647</td>\n",
       "    </tr>\n",
       "  </tbody>\n",
       "</table>\n",
       "</div>"
      ],
      "text/plain": [
       "                 min    max         mean  count     sum\n",
       "naics_count_grp                                        \n",
       "(0.999, 50.0]      1     50    21.299252    401    8541\n",
       "(50.0, 500.0]     51    486   174.461672    574  100141\n",
       "(500.0, inf]     501  18218  1759.150000    180  316647"
      ]
     },
     "execution_count": 22,
     "metadata": {},
     "output_type": "execute_result"
    }
   ],
   "source": [
    "naics_train_info.groupby('naics_count_grp')['count'].agg(['min', 'max', 'mean', 'count', 'sum'])"
   ]
  },
  {
   "cell_type": "code",
   "execution_count": 23,
   "id": "beac10d4-4839-44b0-9aa3-931e9d99c0a2",
   "metadata": {},
   "outputs": [
    {
     "data": {
      "text/html": [
       "<div>\n",
       "<style scoped>\n",
       "    .dataframe tbody tr th:only-of-type {\n",
       "        vertical-align: middle;\n",
       "    }\n",
       "\n",
       "    .dataframe tbody tr th {\n",
       "        vertical-align: top;\n",
       "    }\n",
       "\n",
       "    .dataframe thead th {\n",
       "        text-align: right;\n",
       "    }\n",
       "</style>\n",
       "<table border=\"1\" class=\"dataframe\">\n",
       "  <thead>\n",
       "    <tr style=\"text-align: right;\">\n",
       "      <th></th>\n",
       "      <th>NAICS</th>\n",
       "      <th>count</th>\n",
       "      <th>naics_count_grp</th>\n",
       "    </tr>\n",
       "  </thead>\n",
       "  <tbody>\n",
       "    <tr>\n",
       "      <th>0</th>\n",
       "      <td>722110</td>\n",
       "      <td>18218</td>\n",
       "      <td>(500.0, inf]</td>\n",
       "    </tr>\n",
       "    <tr>\n",
       "      <th>1</th>\n",
       "      <td>722211</td>\n",
       "      <td>12712</td>\n",
       "      <td>(500.0, inf]</td>\n",
       "    </tr>\n",
       "    <tr>\n",
       "      <th>2</th>\n",
       "      <td>811111</td>\n",
       "      <td>9264</td>\n",
       "      <td>(500.0, inf]</td>\n",
       "    </tr>\n",
       "    <tr>\n",
       "      <th>3</th>\n",
       "      <td>621210</td>\n",
       "      <td>8997</td>\n",
       "      <td>(500.0, inf]</td>\n",
       "    </tr>\n",
       "    <tr>\n",
       "      <th>4</th>\n",
       "      <td>624410</td>\n",
       "      <td>6432</td>\n",
       "      <td>(500.0, inf]</td>\n",
       "    </tr>\n",
       "    <tr>\n",
       "      <th>...</th>\n",
       "      <td>...</td>\n",
       "      <td>...</td>\n",
       "      <td>...</td>\n",
       "    </tr>\n",
       "    <tr>\n",
       "      <th>1150</th>\n",
       "      <td>926120</td>\n",
       "      <td>1</td>\n",
       "      <td>(0.999, 50.0]</td>\n",
       "    </tr>\n",
       "    <tr>\n",
       "      <th>1151</th>\n",
       "      <td>922150</td>\n",
       "      <td>1</td>\n",
       "      <td>(0.999, 50.0]</td>\n",
       "    </tr>\n",
       "    <tr>\n",
       "      <th>1152</th>\n",
       "      <td>315992</td>\n",
       "      <td>1</td>\n",
       "      <td>(0.999, 50.0]</td>\n",
       "    </tr>\n",
       "    <tr>\n",
       "      <th>1153</th>\n",
       "      <td>212399</td>\n",
       "      <td>1</td>\n",
       "      <td>(0.999, 50.0]</td>\n",
       "    </tr>\n",
       "    <tr>\n",
       "      <th>1154</th>\n",
       "      <td>333318</td>\n",
       "      <td>1</td>\n",
       "      <td>(0.999, 50.0]</td>\n",
       "    </tr>\n",
       "  </tbody>\n",
       "</table>\n",
       "<p>1155 rows × 3 columns</p>\n",
       "</div>"
      ],
      "text/plain": [
       "       NAICS  count naics_count_grp\n",
       "0     722110  18218    (500.0, inf]\n",
       "1     722211  12712    (500.0, inf]\n",
       "2     811111   9264    (500.0, inf]\n",
       "3     621210   8997    (500.0, inf]\n",
       "4     624410   6432    (500.0, inf]\n",
       "...      ...    ...             ...\n",
       "1150  926120      1   (0.999, 50.0]\n",
       "1151  922150      1   (0.999, 50.0]\n",
       "1152  315992      1   (0.999, 50.0]\n",
       "1153  212399      1   (0.999, 50.0]\n",
       "1154  333318      1   (0.999, 50.0]\n",
       "\n",
       "[1155 rows x 3 columns]"
      ]
     },
     "execution_count": 23,
     "metadata": {},
     "output_type": "execute_result"
    }
   ],
   "source": [
    "naics_train_info"
   ]
  },
  {
   "cell_type": "code",
   "execution_count": 24,
   "id": "1bc49bcd-76d7-4f22-9aa2-396448ba3368",
   "metadata": {},
   "outputs": [],
   "source": [
    "naics_train_info.to_csv(Path(setup.temp_path).joinpath('60_REPORT_naics_train_counts.csv'), index=False)"
   ]
  },
  {
   "cell_type": "markdown",
   "id": "9c592f47-9a83-4f3a-b788-7583ed7966a2",
   "metadata": {},
   "source": [
    "### Metrics By NAICS Volume"
   ]
  },
  {
   "cell_type": "markdown",
   "id": "187246de-4273-45fb-9313-35c4bba14b7e",
   "metadata": {},
   "source": [
    "##### Function to take in a predictions file and get all metrics"
   ]
  },
  {
   "cell_type": "code",
   "execution_count": 25,
   "id": "253b0194-d347-440f-93e0-bc1b444b622f",
   "metadata": {},
   "outputs": [],
   "source": [
    "def pred_metrics(filename, \n",
    "                 naics_map = sba_loans[['NAICS', 'LoanNr_ChkDgt']],\n",
    "                naics_counts = naics_train_info[['NAICS', 'naics_count_grp']]):\n",
    "    \"\"\" Open file, merge NAICS counts, and get metrics by NAICS count\"\"\"\n",
    "    pred_df = pd.read_parquet(filename) \\\n",
    "        [['LoanNr_ChkDgt', 'predict_prob', 'predict_bin', 'target', 'dset']]\n",
    "    \n",
    "    pred_sel = pred_df[pred_df['dset'] == 'test'] \\\n",
    "        .merge(naics_map[['NAICS', 'LoanNr_ChkDgt']], on='LoanNr_ChkDgt') \\\n",
    "        .merge(naics_counts[['NAICS', 'naics_count_grp']], on='NAICS')\n",
    "\n",
    "    return pred_sel.groupby('naics_count_grp') \\\n",
    "        .apply(lambda x: sg_plot.dset_metrics(x.target, x.predict_bin, x.predict_prob)) \\\n",
    "        .reset_index()"
   ]
  },
  {
   "cell_type": "markdown",
   "id": "0725075f-2b2e-47f0-b91c-272f2d037c3c",
   "metadata": {},
   "source": [
    "##### Apply function to many models\n",
    "Summarize by count group"
   ]
  },
  {
   "cell_type": "code",
   "execution_count": 26,
   "id": "5ea32474-2d8e-46f1-ae2e-d33100ec3bc6",
   "metadata": {},
   "outputs": [],
   "source": [
    "metrics_naics_vol = pd.concat([pred_metrics(v) for k, v in dict_pred.items()],\n",
    "                         keys = dict_pred.keys()) \\\n",
    "    .reset_index(level=0) \\\n",
    "    .rename(columns={'level_0':'model'})"
   ]
  },
  {
   "cell_type": "code",
   "execution_count": 27,
   "id": "a70d587f-5049-421c-a22c-9d9d92cf9a17",
   "metadata": {},
   "outputs": [],
   "source": [
    "metrics_naics_vol['dset'] = 'test'"
   ]
  },
  {
   "cell_type": "code",
   "execution_count": 28,
   "id": "cf9b05e2-9b2b-4d64-bfed-aa5642ca1ab1",
   "metadata": {},
   "outputs": [],
   "source": [
    "metrics_naics_vol.to_csv(Path(setup.temp_path).joinpath('60_REPORT_metrics_by_naics_volume.csv'),\n",
    "                    index=False)"
   ]
  },
  {
   "cell_type": "code",
   "execution_count": 29,
   "id": "72298449-68a2-4ca3-9659-b4a1d5732167",
   "metadata": {},
   "outputs": [
    {
     "data": {
      "text/html": [
       "<div>\n",
       "<style scoped>\n",
       "    .dataframe tbody tr th:only-of-type {\n",
       "        vertical-align: middle;\n",
       "    }\n",
       "\n",
       "    .dataframe tbody tr th {\n",
       "        vertical-align: top;\n",
       "    }\n",
       "\n",
       "    .dataframe thead th {\n",
       "        text-align: right;\n",
       "    }\n",
       "</style>\n",
       "<table border=\"1\" class=\"dataframe\">\n",
       "  <thead>\n",
       "    <tr style=\"text-align: right;\">\n",
       "      <th></th>\n",
       "      <th>model</th>\n",
       "      <th>naics_count_grp</th>\n",
       "      <th>accuracy_score</th>\n",
       "      <th>f1_score</th>\n",
       "      <th>precision_score</th>\n",
       "      <th>recall_score</th>\n",
       "      <th>average_precision_score</th>\n",
       "      <th>roc_auc_score</th>\n",
       "      <th>dset</th>\n",
       "    </tr>\n",
       "  </thead>\n",
       "  <tbody>\n",
       "    <tr>\n",
       "      <th>0</th>\n",
       "      <td>xgb numeric naics</td>\n",
       "      <td>(0.999, 50.0]</td>\n",
       "      <td>0.739852</td>\n",
       "      <td>0.470693</td>\n",
       "      <td>0.367036</td>\n",
       "      <td>0.655941</td>\n",
       "      <td>0.385771</td>\n",
       "      <td>0.770224</td>\n",
       "      <td>test</td>\n",
       "    </tr>\n",
       "    <tr>\n",
       "      <th>0</th>\n",
       "      <td>xgb one hot</td>\n",
       "      <td>(0.999, 50.0]</td>\n",
       "      <td>0.707115</td>\n",
       "      <td>0.451349</td>\n",
       "      <td>0.336996</td>\n",
       "      <td>0.683168</td>\n",
       "      <td>0.365987</td>\n",
       "      <td>0.757162</td>\n",
       "      <td>test</td>\n",
       "    </tr>\n",
       "    <tr>\n",
       "      <th>0</th>\n",
       "      <td>xgb mean x naics sector</td>\n",
       "      <td>(0.999, 50.0]</td>\n",
       "      <td>0.754256</td>\n",
       "      <td>0.450732</td>\n",
       "      <td>0.371981</td>\n",
       "      <td>0.571782</td>\n",
       "      <td>0.391756</td>\n",
       "      <td>0.756666</td>\n",
       "      <td>test</td>\n",
       "    </tr>\n",
       "    <tr>\n",
       "      <th>0</th>\n",
       "      <td>xgb mean x naics4</td>\n",
       "      <td>(0.999, 50.0]</td>\n",
       "      <td>0.772588</td>\n",
       "      <td>0.448677</td>\n",
       "      <td>0.391867</td>\n",
       "      <td>0.524752</td>\n",
       "      <td>0.390010</td>\n",
       "      <td>0.756665</td>\n",
       "      <td>test</td>\n",
       "    </tr>\n",
       "    <tr>\n",
       "      <th>0</th>\n",
       "      <td>nn base</td>\n",
       "      <td>(0.999, 50.0]</td>\n",
       "      <td>0.678743</td>\n",
       "      <td>0.447447</td>\n",
       "      <td>0.321121</td>\n",
       "      <td>0.737624</td>\n",
       "      <td>0.365050</td>\n",
       "      <td>0.754408</td>\n",
       "      <td>test</td>\n",
       "    </tr>\n",
       "  </tbody>\n",
       "</table>\n",
       "</div>"
      ],
      "text/plain": [
       "                     model naics_count_grp  accuracy_score  f1_score  \\\n",
       "0        xgb numeric naics   (0.999, 50.0]        0.739852  0.470693   \n",
       "0              xgb one hot   (0.999, 50.0]        0.707115  0.451349   \n",
       "0  xgb mean x naics sector   (0.999, 50.0]        0.754256  0.450732   \n",
       "0        xgb mean x naics4   (0.999, 50.0]        0.772588  0.448677   \n",
       "0                  nn base   (0.999, 50.0]        0.678743  0.447447   \n",
       "\n",
       "   precision_score  recall_score  average_precision_score  roc_auc_score  dset  \n",
       "0         0.367036      0.655941                 0.385771       0.770224  test  \n",
       "0         0.336996      0.683168                 0.365987       0.757162  test  \n",
       "0         0.371981      0.571782                 0.391756       0.756666  test  \n",
       "0         0.391867      0.524752                 0.390010       0.756665  test  \n",
       "0         0.321121      0.737624                 0.365050       0.754408  test  "
      ]
     },
     "execution_count": 29,
     "metadata": {},
     "output_type": "execute_result"
    }
   ],
   "source": [
    "metrics_naics_vol[metrics_naics_vol['naics_count_grp'].astype('str') == '(0.999, 50.0]'] \\\n",
    "    .sort_values('f1_score', ascending=False).head(5)"
   ]
  },
  {
   "cell_type": "markdown",
   "id": "1886ccd1-2995-44b7-a328-699cf6d3a294",
   "metadata": {},
   "source": [
    "## Summary Data\n",
    "For test dataset only, show AUC and f1 scores for test dataset, along with f1 scores for holdout and low-volume NAICS"
   ]
  },
  {
   "cell_type": "code",
   "execution_count": 30,
   "id": "110e1837-38c6-4c99-9351-dd0ac5292942",
   "metadata": {},
   "outputs": [],
   "source": [
    "overall_stats =  all_metrics[(all_metrics['dset'] == 'test') & \\\n",
    "                             (all_metrics['dset_naics_holdout'] == 0)] \\\n",
    "    [['model', 'roc_auc_score', 'average_precision_score', 'f1_score']]"
   ]
  },
  {
   "cell_type": "code",
   "execution_count": 31,
   "id": "a2632258-10af-41e0-b3f3-86b42d3fc085",
   "metadata": {},
   "outputs": [],
   "source": [
    "holdout_stats = all_metrics[(all_metrics['dset'] == 'test') & \\\n",
    "                            (all_metrics['dset_naics_holdout'] == 1)] \\\n",
    "    [['model', 'f1_score']] \\\n",
    "    .rename(columns={'f1_score':'f1_score_ho'})"
   ]
  },
  {
   "cell_type": "code",
   "execution_count": 32,
   "id": "f95bd50e-bcf5-4c62-91b9-bdc4bdd3bc7b",
   "metadata": {},
   "outputs": [],
   "source": [
    "low_vol_stats = metrics_naics_vol[metrics_naics_vol['naics_count_grp'].astype('str') == '(0.999, 50.0]'] \\\n",
    "     [['model', 'f1_score']] \\\n",
    "    .rename(columns={'f1_score':'f1_score_low_vol'})   "
   ]
  },
  {
   "cell_type": "code",
   "execution_count": 33,
   "id": "2c3d6aa2-6b51-43c1-a145-eaf4871d35e5",
   "metadata": {},
   "outputs": [],
   "source": [
    "overall_stats = overall_stats.merge(holdout_stats, on='model') \\\n",
    "    .merge(low_vol_stats, on='model')"
   ]
  },
  {
   "cell_type": "markdown",
   "id": "0879e80d-18f8-47de-829f-20b7eda551f8",
   "metadata": {},
   "source": [
    "##### Type information"
   ]
  },
  {
   "cell_type": "code",
   "execution_count": 34,
   "id": "49100e95-bc44-4c45-9e56-09a7bba5a682",
   "metadata": {},
   "outputs": [],
   "source": [
    "cond = [overall_stats['model'].str.startswith('xgb emb'),\n",
    "        overall_stats['model'].str.startswith('xgb dgi'),\n",
    "        overall_stats['model'].str.startswith('xgb'),\n",
    "       overall_stats['model'].str.startswith('gnn')]\n",
    "choice = ['xgb emb nn', 'xgb dgi', 'xgb', 'gnn']\n",
    "overall_stats['type'] = np.select(cond, choice, 'nn')   "
   ]
  },
  {
   "cell_type": "code",
   "execution_count": 35,
   "id": "1fbe39f7-0e10-424c-93ec-cbcac14e6c5c",
   "metadata": {},
   "outputs": [],
   "source": [
    "overall_stats['model_base'] = overall_stats['model'].str.split('+count', regex=False).apply(lambda x: x[0])\n",
    "overall_stats['count_enc'] = np.where(overall_stats['model'].str.contains('+count', regex=False), 1, 0)"
   ]
  },
  {
   "cell_type": "code",
   "execution_count": 36,
   "id": "2e4b0ac0-b3c5-41e5-819f-1e1bf1817f9c",
   "metadata": {},
   "outputs": [
    {
     "data": {
      "text/html": [
       "<div>\n",
       "<style scoped>\n",
       "    .dataframe tbody tr th:only-of-type {\n",
       "        vertical-align: middle;\n",
       "    }\n",
       "\n",
       "    .dataframe tbody tr th {\n",
       "        vertical-align: top;\n",
       "    }\n",
       "\n",
       "    .dataframe thead th {\n",
       "        text-align: right;\n",
       "    }\n",
       "</style>\n",
       "<table border=\"1\" class=\"dataframe\">\n",
       "  <thead>\n",
       "    <tr style=\"text-align: right;\">\n",
       "      <th></th>\n",
       "      <th>model</th>\n",
       "      <th>roc_auc_score</th>\n",
       "      <th>average_precision_score</th>\n",
       "      <th>f1_score</th>\n",
       "      <th>f1_score_ho</th>\n",
       "      <th>f1_score_low_vol</th>\n",
       "      <th>type</th>\n",
       "      <th>model_base</th>\n",
       "      <th>count_enc</th>\n",
       "    </tr>\n",
       "  </thead>\n",
       "  <tbody>\n",
       "    <tr>\n",
       "      <th>3</th>\n",
       "      <td>xgb numeric naics</td>\n",
       "      <td>0.725089</td>\n",
       "      <td>0.378392</td>\n",
       "      <td>0.444074</td>\n",
       "      <td>0.429051</td>\n",
       "      <td>0.470693</td>\n",
       "      <td>xgb</td>\n",
       "      <td>xgb numeric naics</td>\n",
       "      <td>0</td>\n",
       "    </tr>\n",
       "    <tr>\n",
       "      <th>2</th>\n",
       "      <td>xgb one hot</td>\n",
       "      <td>0.714582</td>\n",
       "      <td>0.360212</td>\n",
       "      <td>0.438666</td>\n",
       "      <td>0.425756</td>\n",
       "      <td>0.451349</td>\n",
       "      <td>xgb</td>\n",
       "      <td>xgb one hot</td>\n",
       "      <td>0</td>\n",
       "    </tr>\n",
       "    <tr>\n",
       "      <th>4</th>\n",
       "      <td>xgb mean x naics sector</td>\n",
       "      <td>0.732311</td>\n",
       "      <td>0.389739</td>\n",
       "      <td>0.450566</td>\n",
       "      <td>0.420017</td>\n",
       "      <td>0.450732</td>\n",
       "      <td>xgb</td>\n",
       "      <td>xgb mean x naics sector</td>\n",
       "      <td>0</td>\n",
       "    </tr>\n",
       "    <tr>\n",
       "      <th>5</th>\n",
       "      <td>xgb mean x naics4</td>\n",
       "      <td>0.732462</td>\n",
       "      <td>0.390023</td>\n",
       "      <td>0.449633</td>\n",
       "      <td>0.419578</td>\n",
       "      <td>0.448677</td>\n",
       "      <td>xgb</td>\n",
       "      <td>xgb mean x naics4</td>\n",
       "      <td>0</td>\n",
       "    </tr>\n",
       "    <tr>\n",
       "      <th>9</th>\n",
       "      <td>nn base</td>\n",
       "      <td>0.702495</td>\n",
       "      <td>0.345526</td>\n",
       "      <td>0.430669</td>\n",
       "      <td>0.425718</td>\n",
       "      <td>0.447447</td>\n",
       "      <td>nn</td>\n",
       "      <td>nn base</td>\n",
       "      <td>0</td>\n",
       "    </tr>\n",
       "    <tr>\n",
       "      <th>0</th>\n",
       "      <td>xgb base</td>\n",
       "      <td>0.706044</td>\n",
       "      <td>0.352200</td>\n",
       "      <td>0.431370</td>\n",
       "      <td>0.424931</td>\n",
       "      <td>0.446166</td>\n",
       "      <td>xgb</td>\n",
       "      <td>xgb base</td>\n",
       "      <td>0</td>\n",
       "    </tr>\n",
       "    <tr>\n",
       "      <th>8</th>\n",
       "      <td>xgb mean x clus nn emb</td>\n",
       "      <td>0.732048</td>\n",
       "      <td>0.389213</td>\n",
       "      <td>0.450260</td>\n",
       "      <td>0.421792</td>\n",
       "      <td>0.445607</td>\n",
       "      <td>xgb</td>\n",
       "      <td>xgb mean x clus nn emb</td>\n",
       "      <td>0</td>\n",
       "    </tr>\n",
       "    <tr>\n",
       "      <th>6</th>\n",
       "      <td>xgb mean x naics3</td>\n",
       "      <td>0.733338</td>\n",
       "      <td>0.390645</td>\n",
       "      <td>0.451238</td>\n",
       "      <td>0.411777</td>\n",
       "      <td>0.445369</td>\n",
       "      <td>xgb</td>\n",
       "      <td>xgb mean x naics3</td>\n",
       "      <td>0</td>\n",
       "    </tr>\n",
       "    <tr>\n",
       "      <th>1</th>\n",
       "      <td>xgb mean</td>\n",
       "      <td>0.732194</td>\n",
       "      <td>0.389849</td>\n",
       "      <td>0.449935</td>\n",
       "      <td>0.424237</td>\n",
       "      <td>0.445092</td>\n",
       "      <td>xgb</td>\n",
       "      <td>xgb mean</td>\n",
       "      <td>0</td>\n",
       "    </tr>\n",
       "    <tr>\n",
       "      <th>10</th>\n",
       "      <td>nn emb</td>\n",
       "      <td>0.732290</td>\n",
       "      <td>0.388653</td>\n",
       "      <td>0.450865</td>\n",
       "      <td>0.406653</td>\n",
       "      <td>0.433161</td>\n",
       "      <td>nn</td>\n",
       "      <td>nn emb</td>\n",
       "      <td>0</td>\n",
       "    </tr>\n",
       "    <tr>\n",
       "      <th>7</th>\n",
       "      <td>xgb one hot - clus nn emb</td>\n",
       "      <td>0.728506</td>\n",
       "      <td>0.381205</td>\n",
       "      <td>0.449398</td>\n",
       "      <td>0.409879</td>\n",
       "      <td>0.429319</td>\n",
       "      <td>xgb</td>\n",
       "      <td>xgb one hot - clus nn emb</td>\n",
       "      <td>0</td>\n",
       "    </tr>\n",
       "    <tr>\n",
       "      <th>11</th>\n",
       "      <td>nn embx naics sector</td>\n",
       "      <td>0.731821</td>\n",
       "      <td>0.388243</td>\n",
       "      <td>0.450776</td>\n",
       "      <td>0.304882</td>\n",
       "      <td>0.429036</td>\n",
       "      <td>nn</td>\n",
       "      <td>nn embx naics sector</td>\n",
       "      <td>0</td>\n",
       "    </tr>\n",
       "  </tbody>\n",
       "</table>\n",
       "</div>"
      ],
      "text/plain": [
       "                        model  roc_auc_score  average_precision_score  \\\n",
       "3           xgb numeric naics       0.725089                 0.378392   \n",
       "2                 xgb one hot       0.714582                 0.360212   \n",
       "4     xgb mean x naics sector       0.732311                 0.389739   \n",
       "5           xgb mean x naics4       0.732462                 0.390023   \n",
       "9                     nn base       0.702495                 0.345526   \n",
       "0                    xgb base       0.706044                 0.352200   \n",
       "8      xgb mean x clus nn emb       0.732048                 0.389213   \n",
       "6           xgb mean x naics3       0.733338                 0.390645   \n",
       "1                    xgb mean       0.732194                 0.389849   \n",
       "10                     nn emb       0.732290                 0.388653   \n",
       "7   xgb one hot - clus nn emb       0.728506                 0.381205   \n",
       "11       nn embx naics sector       0.731821                 0.388243   \n",
       "\n",
       "    f1_score  f1_score_ho  f1_score_low_vol type                 model_base  \\\n",
       "3   0.444074     0.429051          0.470693  xgb          xgb numeric naics   \n",
       "2   0.438666     0.425756          0.451349  xgb                xgb one hot   \n",
       "4   0.450566     0.420017          0.450732  xgb    xgb mean x naics sector   \n",
       "5   0.449633     0.419578          0.448677  xgb          xgb mean x naics4   \n",
       "9   0.430669     0.425718          0.447447   nn                    nn base   \n",
       "0   0.431370     0.424931          0.446166  xgb                   xgb base   \n",
       "8   0.450260     0.421792          0.445607  xgb     xgb mean x clus nn emb   \n",
       "6   0.451238     0.411777          0.445369  xgb          xgb mean x naics3   \n",
       "1   0.449935     0.424237          0.445092  xgb                   xgb mean   \n",
       "10  0.450865     0.406653          0.433161   nn                     nn emb   \n",
       "7   0.449398     0.409879          0.429319  xgb  xgb one hot - clus nn emb   \n",
       "11  0.450776     0.304882          0.429036   nn       nn embx naics sector   \n",
       "\n",
       "    count_enc  \n",
       "3           0  \n",
       "2           0  \n",
       "4           0  \n",
       "5           0  \n",
       "9           0  \n",
       "0           0  \n",
       "8           0  \n",
       "6           0  \n",
       "1           0  \n",
       "10          0  \n",
       "7           0  \n",
       "11          0  "
      ]
     },
     "execution_count": 36,
     "metadata": {},
     "output_type": "execute_result"
    }
   ],
   "source": [
    "overall_stats.sort_values('f1_score_low_vol', ascending=False)"
   ]
  },
  {
   "cell_type": "code",
   "execution_count": 37,
   "id": "95a02a52-09af-4777-809d-0f0be44afb6d",
   "metadata": {},
   "outputs": [],
   "source": [
    "overall_stats.to_csv(Path(setup.temp_path).joinpath('60_REPORT_summary_stats.csv'),\n",
    "                    index=False)"
   ]
  },
  {
   "cell_type": "code",
   "execution_count": 38,
   "id": "0d5e172a-36df-44f2-b173-b99975866f0c",
   "metadata": {},
   "outputs": [
    {
     "data": {
      "text/plain": [
       "<Axes: xlabel='roc_auc_score', ylabel='average_precision_score'>"
      ]
     },
     "execution_count": 38,
     "metadata": {},
     "output_type": "execute_result"
    },
    {
     "data": {
      "image/png": "[encoded data removed]",
      "text/plain": [
       "<Figure size 640x480 with 1 Axes>"
      ]
     },
     "metadata": {},
     "output_type": "display_data"
    }
   ],
   "source": [
    "overall_stats.plot(x='roc_auc_score', y='average_precision_score',  kind='scatter')"
   ]
  },
  {
   "cell_type": "code",
   "execution_count": 39,
   "id": "d988557b-8de2-4abc-b2c8-4a9f0cbebc8c",
   "metadata": {},
   "outputs": [
    {
     "data": {
      "text/plain": [
       "<Axes: xlabel='f1_score_low_vol', ylabel='f1_score_ho'>"
      ]
     },
     "execution_count": 39,
     "metadata": {},
     "output_type": "execute_result"
    },
    {
     "data": {
      "image/png": "[encoded data removed]",
      "text/plain": [
       "<Figure size 640x480 with 1 Axes>"
      ]
     },
     "metadata": {},
     "output_type": "display_data"
    }
   ],
   "source": [
    "overall_stats.plot(x='f1_score_low_vol', y='f1_score_ho',  kind='scatter')\n",
    "#plt.gca().axline((0.4, 0.4), slope=1)"
   ]
  },
  {
   "cell_type": "code",
   "execution_count": 40,
   "id": "080cf00d-6c8f-45fe-b47c-26160ae867fb",
   "metadata": {},
   "outputs": [
    {
     "data": {
      "text/plain": [
       "<Axes: xlabel='f1_score', ylabel='f1_score_low_vol'>"
      ]
     },
     "execution_count": 40,
     "metadata": {},
     "output_type": "execute_result"
    },
    {
     "data": {
      "image/png": "[encoded data removed]",
      "text/plain": [
       "<Figure size 640x480 with 1 Axes>"
      ]
     },
     "metadata": {},
     "output_type": "display_data"
    }
   ],
   "source": [
    "overall_stats.plot(x='f1_score', y='f1_score_low_vol',  kind='scatter')\n",
    "#plt.gca().axline((0.41, 0.41), slope=1)"
   ]
  },
  {
   "cell_type": "code",
   "execution_count": 41,
   "id": "99b25a3f-8b0f-4160-bfd9-a8f53d1c1b03",
   "metadata": {},
   "outputs": [
    {
     "data": {
      "text/plain": [
       "<Axes: xlabel='f1_score', ylabel='f1_score_ho'>"
      ]
     },
     "execution_count": 41,
     "metadata": {},
     "output_type": "execute_result"
    },
    {
     "data": {
      "image/png": "[encoded data removed]",
      "text/plain": [
       "<Figure size 640x480 with 1 Axes>"
      ]
     },
     "metadata": {},
     "output_type": "display_data"
    }
   ],
   "source": [
    "overall_stats.plot(x='f1_score', y='f1_score_ho',  kind='scatter')\n",
    "#plt.gca().axline((0.4, 0.4), slope=1)"
   ]
  },
  {
   "cell_type": "markdown",
   "id": "d66d2f22-d17b-4b8a-91f3-7b4758b3ec47",
   "metadata": {},
   "source": [
    "## Color Code f1\n",
    "Or otherwise show info"
   ]
  },
  {
   "cell_type": "markdown",
   "id": "060e0a8a-2ff5-4638-b3f2-9381eed51768",
   "metadata": {},
   "source": [
    "## Plot selected metrics"
   ]
  },
  {
   "cell_type": "code",
   "execution_count": 42,
   "id": "bf78c749-9020-439d-b35e-7f8a6d6ab5f9",
   "metadata": {},
   "outputs": [],
   "source": [
    "overall_perf = 0.44"
   ]
  },
  {
   "cell_type": "code",
   "execution_count": 43,
   "id": "0d6975e1-cb5d-4442-8460-dd800c67cc9d",
   "metadata": {},
   "outputs": [],
   "source": [
    "sg_plot.plot_defaults()\n",
    "#plt.style.use('fast')"
   ]
  },
  {
   "cell_type": "code",
   "execution_count": 44,
   "id": "a0271b36-b65e-44de-bbf9-31e0acdb4d31",
   "metadata": {},
   "outputs": [],
   "source": [
    "#model_list = ['xgb baseline', 'nn baseline', 'nn embed NAICS', 'gnn']\n",
    "#model_list = ['xgb baseline', 'xgb mean encoding', 'xgb numeric NAICS', 'nn baseline', 'nn embed NAICS',\n",
    "#             'xgb + nn embed', 'xgb + dgi embed', 'xgb + dgi embed, label']\n",
    "model_list = dict_pred.keys()"
   ]
  },
  {
   "cell_type": "code",
   "execution_count": 45,
   "id": "5788a70a-ee90-4656-9c38-8b085e4aa583",
   "metadata": {},
   "outputs": [],
   "source": [
    "metric = 'f1_score'"
   ]
  },
  {
   "cell_type": "code",
   "execution_count": 46,
   "id": "94125259-55d7-485d-8bac-495393a64e55",
   "metadata": {},
   "outputs": [
    {
     "ename": "NameError",
     "evalue": "name 'metrics_comb' is not defined",
     "output_type": "error",
     "traceback": [
      "\u001b[0;31m---------------------------------------------------------------------------\u001b[0m",
      "\u001b[0;31mNameError\u001b[0m                                 Traceback (most recent call last)",
      "Cell \u001b[0;32mIn[46], line 2\u001b[0m\n\u001b[1;32m      1\u001b[0m \u001b[38;5;66;03m#[metrics_comb['model'].isin(model_list)] \\\u001b[39;00m\n\u001b[0;32m----> 2\u001b[0m metrics_comb[\u001b[38;5;124m'\u001b[39m\u001b[38;5;124mmodel\u001b[39m\u001b[38;5;124m'\u001b[39m] \u001b[38;5;241m=\u001b[39m pd\u001b[38;5;241m.\u001b[39mCategorical(\u001b[43mmetrics_comb\u001b[49m[\u001b[38;5;124m'\u001b[39m\u001b[38;5;124mmodel\u001b[39m\u001b[38;5;124m'\u001b[39m], categories \u001b[38;5;241m=\u001b[39m model_list)\n\u001b[1;32m      3\u001b[0m plot_df \u001b[38;5;241m=\u001b[39m metrics_comb \\\n\u001b[1;32m      4\u001b[0m     [[\u001b[38;5;124m'\u001b[39m\u001b[38;5;124mcount_grp\u001b[39m\u001b[38;5;124m'\u001b[39m, metric, \u001b[38;5;124m'\u001b[39m\u001b[38;5;124mmodel\u001b[39m\u001b[38;5;124m'\u001b[39m]] \\\n\u001b[1;32m      5\u001b[0m     \u001b[38;5;241m.\u001b[39mpivot(index\u001b[38;5;241m=\u001b[39m\u001b[38;5;124m'\u001b[39m\u001b[38;5;124mcount_grp\u001b[39m\u001b[38;5;124m'\u001b[39m, columns\u001b[38;5;241m=\u001b[39m\u001b[38;5;124m'\u001b[39m\u001b[38;5;124mmodel\u001b[39m\u001b[38;5;124m'\u001b[39m, values\u001b[38;5;241m=\u001b[39mmetric)\n",
      "\u001b[0;31mNameError\u001b[0m: name 'metrics_comb' is not defined"
     ]
    }
   ],
   "source": [
    "#[metrics_comb['model'].isin(model_list)] \\\n",
    "metrics_comb['model'] = pd.Categorical(metrics_comb['model'], categories = model_list)\n",
    "plot_df = metrics_comb \\\n",
    "    [['count_grp', metric, 'model']] \\\n",
    "    .pivot(index='count_grp', columns='model', values=metric)"
   ]
  },
  {
   "cell_type": "code",
   "execution_count": null,
   "id": "3c7bc46e-4887-4bd3-8ee1-e37493110a45",
   "metadata": {},
   "outputs": [],
   "source": [
    "plot_df['xgb baseline']"
   ]
  },
  {
   "cell_type": "code",
   "execution_count": null,
   "id": "3e6bb68d-5186-414d-b263-4c4d12bdbca0",
   "metadata": {},
   "outputs": [],
   "source": [
    "ax = sns.heatmap(plot_df.transpose(), linewidth=0.5, cmap=\"PuOr\")\n",
    "plt.show()\n",
    "plt.gcf().savefig(Path(setup.temp_path).joinpath('60_PLOT_perf_by_naics_count.png'),\n",
    "                  bbox_inches='tight')"
   ]
  },
  {
   "cell_type": "code",
   "execution_count": null,
   "id": "2b0eaa81-c789-434b-936c-7ebd32dd1b3d",
   "metadata": {},
   "outputs": [],
   "source": [
    "TO DO\n",
    "Run 03 to get idea of variability in scores\n",
    "Rerun 6X\n",
    "Check runs 17, 18\n",
    "Run NN models for embedding groups\n",
    "Fix 80 titles / markdown\n",
    "Count encodings - later subfolder\n",
    "consider looking at preformance after repitiion"
   ]
  },
  {
   "cell_type": "code",
   "execution_count": null,
   "id": "caa9ae90-1bb1-4cc2-8b02-b663f9a70a58",
   "metadata": {},
   "outputs": [],
   "source": []
  }
 ],
 "metadata": {
  "kernelspec": {
   "display_name": "tf_p39",
   "language": "python",
   "name": "tf_p39"
  },
  "language_info": {
   "codemirror_mode": {
    "name": "ipython",
    "version": 3
   },
   "file_extension": ".py",
   "mimetype": "text/x-python",
   "name": "python",
   "nbconvert_exporter": "python",
   "pygments_lexer": "ipython3",
   "version": "3.8.18"
  }
 },
 "nbformat": 4,
 "nbformat_minor": 5
}
