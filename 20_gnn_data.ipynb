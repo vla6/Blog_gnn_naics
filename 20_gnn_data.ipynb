{
 "cells": [
  {
   "cell_type": "code",
   "execution_count": 33,
   "id": "dd371bd9-82c7-44c7-8826-beb0c549974b",
   "metadata": {
    "tags": []
   },
   "outputs": [],
   "source": [
    "# Modify the file 00_setup.py to define input/output file paths on your system\n",
    "# The information in 00_setup.py will be used across notebooks\n",
    "from importlib.machinery import SourceFileLoader\n",
    "setup = SourceFileLoader(\"setup\", \"./00_setup.py\").load_module()"
   ]
  },
  {
   "cell_type": "markdown",
   "id": "be7d3f74-1737-4eee-9e6f-06233b68c2b1",
   "metadata": {
    "tags": []
   },
   "source": [
    "# 20: GNN Data\n",
    "Data for a GNN view of NAICS, where NAICS and NAICS sectors are edges connecting nodes"
   ]
  },
  {
   "cell_type": "markdown",
   "id": "b6956879-bdba-4750-bbdf-e26ade43c72f",
   "metadata": {},
   "source": [
    "*This script takes about 5 minutes on my MacBook Air*"
   ]
  },
  {
   "cell_type": "code",
   "execution_count": 7,
   "id": "a06b80fe-17ee-409a-8f41-ab2427d6f407",
   "metadata": {},
   "outputs": [],
   "source": [
    "import pandas as pd\n",
    "import numpy as np"
   ]
  },
  {
   "cell_type": "code",
   "execution_count": 8,
   "id": "4278237c-f6ad-4cd9-9144-5b7bb134a391",
   "metadata": {},
   "outputs": [],
   "source": [
    "from pathlib import Path\n",
    "import importlib, pickle\n",
    "from sklearn import model_selection\n",
    "from sklearn.preprocessing import LabelEncoder"
   ]
  },
  {
   "cell_type": "code",
   "execution_count": 9,
   "id": "9ef27d75-0483-48fb-8018-245bdb9df81c",
   "metadata": {},
   "outputs": [],
   "source": [
    "# Imputer object for easy dataset conversion to GNN friendly format\n",
    "from sba_gnn.sba_gnn import sg_imputer \n",
    "from sba_gnn.sba_gnn.sg_imputer import GNNImputer"
   ]
  },
  {
   "cell_type": "code",
   "execution_count": 106,
   "id": "cd1aebd2-f102-4fec-b65c-984d64ca4689",
   "metadata": {},
   "outputs": [],
   "source": [
    "import itertools"
   ]
  },
  {
   "cell_type": "markdown",
   "id": "b6e08909-0395-40e8-b518-11c69da68b36",
   "metadata": {},
   "source": [
    "## Input Data"
   ]
  },
  {
   "cell_type": "code",
   "execution_count": 10,
   "id": "98c5cf92-35ea-4371-b3e0-04abc85a41dd",
   "metadata": {},
   "outputs": [],
   "source": [
    "comb_df = pd.read_parquet(Path(setup.temp_path).joinpath('10_DATA_combined_scaled_all.parquet'))"
   ]
  },
  {
   "cell_type": "markdown",
   "id": "004afdb3-da89-433f-b28b-5e2bb34c5388",
   "metadata": {},
   "source": [
    "## Create Edge Maps"
   ]
  },
  {
   "cell_type": "markdown",
   "id": "d433523f-9b47-49bb-8693-d58a935ba046",
   "metadata": {},
   "source": [
    "There are 2 edge types:\n",
    "  * NAICS connects exact NAICS match edges\n",
    "  * naics_sector - connects same sector edges"
   ]
  },
  {
   "cell_type": "markdown",
   "id": "6432ccad-da21-4ecb-a17c-5fff91c94818",
   "metadata": {},
   "source": [
    "There are a very large number of edges.  These will be sampled in the graph but even to load a graph will be too much on home hardware (and likely not really worth it).  So I will sample for each node for both edge types. "
   ]
  },
  {
   "cell_type": "markdown",
   "id": "abee8d1e-3a7a-489a-99d1-336108e90b8a",
   "metadata": {},
   "source": [
    "I want to get at least a set number of edges per node (setup.gnn_graph_sample_n), and so I sample accordingly. There may be more than this number of edges per node.  For higher-volume NAICS, the edge count per node will be closer to setup.gnn_graph_sample_n."
   ]
  },
  {
   "cell_type": "markdown",
   "id": "2ae69a5a-cf38-4837-8c4a-e1c92555a0b4",
   "metadata": {},
   "source": [
    "The GNN will do sampling also, and so I need the GNN samples to be less than setup.gnn_graph_sample_n."
   ]
  },
  {
   "cell_type": "markdown",
   "id": "a025da79-6d49-42b3-bf47-b9b4dac19a66",
   "metadata": {},
   "source": [
    "##### Function to create samples for 1 code\n",
    "Returns an edge list containing at least a set number of samples per node.  The list may contain more edges than requested, but will be smaller than the full edge list.  For high-volume code, the number of edges is ~setup.gnn_graph_sample_n, and the total rows is close to (# businesses with the code) * setup.gnn_graph_sample_n"
   ]
  },
  {
   "cell_type": "markdown",
   "id": "6a160448-43e1-4d11-a7bc-482c8f3db832",
   "metadata": {},
   "source": [
    "See also: https://stackoverflow.com/questions/48061508/numpy-slicing-all-except-one-array-entry"
   ]
  },
  {
   "cell_type": "code",
   "execution_count": 467,
   "id": "d5a0db4d-5d30-434a-b585-fa7275084c14",
   "metadata": {},
   "outputs": [],
   "source": [
    "def get_sample_per_code_pd(ser, min_n = setup.gnn_graph_sample_n):\n",
    "    \"\"\" Samples edges for each node, returning at least min_n edges for each node,\n",
    "      Inputs:\n",
    "        ser:  Pandas series consisting of node indexes\n",
    "        min_n: Minimum number of edges per node\n",
    "      Value:\n",
    "        Pandas dataframe containing rows 'source' and 'target' for the edges.\n",
    "          The 'source' value is always less than 'target'\n",
    "    \"\"\"\n",
    "    ser_len = len(ser)\n",
    "    \n",
    "    ser = ser.copy().rename('source')\n",
    "    \n",
    "    # Return no edges for isolated codes\n",
    "    if ser_len <= 1:\n",
    "        return pd.DataFrame()\n",
    "    \n",
    "    # If we have a small list, return all\n",
    "    if ser_len <= min_n:\n",
    "        pairs = itertools.combinations(ser, 2)\n",
    "        return pd.DataFrame(pairs)\\\n",
    "           .set_axis(['source', 'target'], axis=1)\n",
    "\n",
    "    # Otherwise get samples\n",
    "    samples = pd.concat([pd.concat([ser[0:i], ser[i+1:]]) \\\n",
    "                             .sample(n=min_n).reset_index(drop=True).rename('target') \\\n",
    "                         for i in range(ser_len)],\n",
    "                        axis=0, keys=ser) \\\n",
    "        .reset_index(level=0) \\\n",
    "        .reset_index(drop=True)\n",
    "\n",
    "    # Sort, remove duplicates\n",
    "    data = samples.to_numpy()\n",
    "    data.sort(axis=1)\n",
    "    samples = pd.DataFrame(data, columns=samples.columns) \\\n",
    "        .drop_duplicates()\n",
    "\n",
    "    return samples"
   ]
  },
  {
   "cell_type": "code",
   "execution_count": 468,
   "id": "bf04d638-6a1d-4085-83ff-f5771f71a2b3",
   "metadata": {},
   "outputs": [],
   "source": [
    "def get_sample_per_code(ser, min_n = setup.gnn_graph_sample_n):\n",
    "    \"\"\" Samples edges for each node, returning at least min_n edges for each node,\n",
    "      Inputs:\n",
    "        ser:  Pandas series consisting of node indexes\n",
    "        min_n: Minimum number of edges per node\n",
    "      Value:\n",
    "        Pandas dataframe containing rows 'source' and 'target' for the edges.\n",
    "          The 'source' value is always less than 'target'\n",
    "    \"\"\"\n",
    "    \n",
    "    ser_len = len(ser)\n",
    "    \n",
    "    # Return no edges for isolated codes\n",
    "    if ser_len <= 1:\n",
    "        return pd.DataFrame()\n",
    "    \n",
    "    np_ary = ser.sort_values().to_numpy()\n",
    "    \n",
    "    # If we have a small list, np_list all\n",
    "    if ser_len <= min_n:\n",
    "        pairs = itertools.combinations(np_ary, 2)\n",
    "        return pd.DataFrame(pairs)\\\n",
    "           .set_axis(['source', 'target'], axis=1)\n",
    "\n",
    "    # Otherwise get samples.  Get the sources first\n",
    "    sources = np_ary.repeat(min_n).reshape((-1, 1))\n",
    "    \n",
    "    # Targets - sample from nodes other than the source\n",
    "    targets = np.concatenate([np.random.choice(np.concatenate((np_ary[:i], np_ary[i+1:])), \n",
    "                                               min_n, replace=False) \\\n",
    "                              for i in range(ser_len)]) \\\n",
    "        .reshape((-1, 1))\n",
    "    \n",
    "    # Combine sources and targets\n",
    "    comb_data = np.concatenate((sources, targets), axis=1)\n",
    "\n",
    "    # Sort, remove duplicates\n",
    "    comb_data.sort(axis=1)\n",
    "    samples = pd.DataFrame(comb_data, columns=['source', 'target']) \\\n",
    "        .drop_duplicates()\n",
    "\n",
    "    return samples"
   ]
  },
  {
   "cell_type": "code",
   "execution_count": 385,
   "id": "d9026a46-541e-43df-8057-5437da62ed4e",
   "metadata": {},
   "outputs": [],
   "source": [
    "id_ser = comb_df[comb_df['NAICS_orig'] == '327215'][['NAICS_orig', 'LoanNr_ChkDgt']].copy() \\\n",
    "    ['LoanNr_ChkDgt']"
   ]
  },
  {
   "cell_type": "code",
   "execution_count": 458,
   "id": "54051e29-3d72-486c-8111-ed82d1034d6d",
   "metadata": {},
   "outputs": [
    {
     "data": {
      "text/html": [
       "<div>\n",
       "<style scoped>\n",
       "    .dataframe tbody tr th:only-of-type {\n",
       "        vertical-align: middle;\n",
       "    }\n",
       "\n",
       "    .dataframe tbody tr th {\n",
       "        vertical-align: top;\n",
       "    }\n",
       "\n",
       "    .dataframe thead th {\n",
       "        text-align: right;\n",
       "    }\n",
       "</style>\n",
       "<table border=\"1\" class=\"dataframe\">\n",
       "  <thead>\n",
       "    <tr style=\"text-align: right;\">\n",
       "      <th></th>\n",
       "      <th>source</th>\n",
       "      <th>target</th>\n",
       "    </tr>\n",
       "  </thead>\n",
       "  <tbody>\n",
       "    <tr>\n",
       "      <th>0</th>\n",
       "      <td>1019465005</td>\n",
       "      <td>2101075010</td>\n",
       "    </tr>\n",
       "    <tr>\n",
       "      <th>1</th>\n",
       "      <td>1019465005</td>\n",
       "      <td>9780793003</td>\n",
       "    </tr>\n",
       "    <tr>\n",
       "      <th>2</th>\n",
       "      <td>1019465005</td>\n",
       "      <td>5311114004</td>\n",
       "    </tr>\n",
       "    <tr>\n",
       "      <th>3</th>\n",
       "      <td>1019465005</td>\n",
       "      <td>3873514009</td>\n",
       "    </tr>\n",
       "    <tr>\n",
       "      <th>4</th>\n",
       "      <td>1019465005</td>\n",
       "      <td>3166904009</td>\n",
       "    </tr>\n",
       "    <tr>\n",
       "      <th>...</th>\n",
       "      <td>...</td>\n",
       "      <td>...</td>\n",
       "    </tr>\n",
       "    <tr>\n",
       "      <th>47092</th>\n",
       "      <td>2238886003</td>\n",
       "      <td>9994873009</td>\n",
       "    </tr>\n",
       "    <tr>\n",
       "      <th>47094</th>\n",
       "      <td>7442553010</td>\n",
       "      <td>9994873009</td>\n",
       "    </tr>\n",
       "    <tr>\n",
       "      <th>47095</th>\n",
       "      <td>1857175000</td>\n",
       "      <td>9994873009</td>\n",
       "    </tr>\n",
       "    <tr>\n",
       "      <th>47096</th>\n",
       "      <td>1263524005</td>\n",
       "      <td>9994873009</td>\n",
       "    </tr>\n",
       "    <tr>\n",
       "      <th>47097</th>\n",
       "      <td>3389545001</td>\n",
       "      <td>9994873009</td>\n",
       "    </tr>\n",
       "  </tbody>\n",
       "</table>\n",
       "<p>42061 rows × 2 columns</p>\n",
       "</div>"
      ],
      "text/plain": [
       "           source      target\n",
       "0      1019465005  2101075010\n",
       "1      1019465005  9780793003\n",
       "2      1019465005  5311114004\n",
       "3      1019465005  3873514009\n",
       "4      1019465005  3166904009\n",
       "...           ...         ...\n",
       "47092  2238886003  9994873009\n",
       "47094  7442553010  9994873009\n",
       "47095  1857175000  9994873009\n",
       "47096  1263524005  9994873009\n",
       "47097  3389545001  9994873009\n",
       "\n",
       "[42061 rows x 2 columns]"
      ]
     },
     "execution_count": 458,
     "metadata": {},
     "output_type": "execute_result"
    }
   ],
   "source": [
    "s = get_sample_per_code(id_ser)\n",
    "s"
   ]
  },
  {
   "cell_type": "code",
   "execution_count": 460,
   "id": "59c1585b-163e-480c-b143-fe15f2592ed1",
   "metadata": {},
   "outputs": [],
   "source": [
    "ser_100 = pd.Series([i for i in range(100)])"
   ]
  },
  {
   "cell_type": "code",
   "execution_count": 462,
   "id": "eb113284-5184-425b-bfcf-8c5d4109ec5d",
   "metadata": {},
   "outputs": [
    {
     "ename": "NameError",
     "evalue": "name 'ser_list' is not defined",
     "output_type": "error",
     "traceback": [
      "\u001b[0;31m---------------------------------------------------------------------------\u001b[0m",
      "\u001b[0;31mNameError\u001b[0m                                 Traceback (most recent call last)",
      "Cell \u001b[0;32mIn[462], line 1\u001b[0m\n\u001b[0;32m----> 1\u001b[0m s \u001b[38;5;241m=\u001b[39m \u001b[43mget_sample_per_code\u001b[49m\u001b[43m(\u001b[49m\u001b[43mser_100\u001b[49m\u001b[43m)\u001b[49m\n\u001b[1;32m      2\u001b[0m \u001b[38;5;28mprint\u001b[39m(s\u001b[38;5;241m.\u001b[39mshape)\n",
      "Cell \u001b[0;32mIn[455], line 20\u001b[0m, in \u001b[0;36mget_sample_per_code\u001b[0;34m(ser, min_n)\u001b[0m\n\u001b[1;32m     18\u001b[0m \u001b[38;5;66;03m# If we have a small list, return all\u001b[39;00m\n\u001b[1;32m     19\u001b[0m \u001b[38;5;28;01mif\u001b[39;00m ser_len \u001b[38;5;241m<\u001b[39m\u001b[38;5;241m=\u001b[39m min_n:\n\u001b[0;32m---> 20\u001b[0m     pairs \u001b[38;5;241m=\u001b[39m itertools\u001b[38;5;241m.\u001b[39mcombinations(\u001b[43mser_list\u001b[49m, \u001b[38;5;241m2\u001b[39m)\n\u001b[1;32m     21\u001b[0m     \u001b[38;5;28;01mreturn\u001b[39;00m pd\u001b[38;5;241m.\u001b[39mDataFrame(pairs)\\\n\u001b[1;32m     22\u001b[0m        \u001b[38;5;241m.\u001b[39mset_axis([\u001b[38;5;124m'\u001b[39m\u001b[38;5;124msource\u001b[39m\u001b[38;5;124m'\u001b[39m, \u001b[38;5;124m'\u001b[39m\u001b[38;5;124mtarget\u001b[39m\u001b[38;5;124m'\u001b[39m], axis\u001b[38;5;241m=\u001b[39m\u001b[38;5;241m1\u001b[39m)\n\u001b[1;32m     24\u001b[0m \u001b[38;5;66;03m# Otherwise get samples\u001b[39;00m\n",
      "\u001b[0;31mNameError\u001b[0m: name 'ser_list' is not defined"
     ]
    }
   ],
   "source": [
    "s = get_sample_per_code(ser_100)\n",
    "print(s.shape)"
   ]
  },
  {
   "cell_type": "code",
   "execution_count": null,
   "id": "c1a31d71-2497-43a5-a71f-531dd0b13b94",
   "metadata": {},
   "outputs": [],
   "source": [
    "s = get_sample_per_code(id_ser)\n",
    "print(s.shape)"
   ]
  },
  {
   "cell_type": "code",
   "execution_count": null,
   "id": "24e8bca3-fe34-4284-b2bf-c9234b472e17",
   "metadata": {},
   "outputs": [],
   "source": []
  },
  {
   "cell_type": "code",
   "execution_count": null,
   "id": "5b741837-6271-46d0-a160-eda8ede02b90",
   "metadata": {},
   "outputs": [],
   "source": []
  },
  {
   "cell_type": "code",
   "execution_count": 339,
   "id": "746b6069-129c-43f3-bae3-848cb7daa939",
   "metadata": {},
   "outputs": [
    {
     "data": {
      "text/html": [
       "<div>\n",
       "<style scoped>\n",
       "    .dataframe tbody tr th:only-of-type {\n",
       "        vertical-align: middle;\n",
       "    }\n",
       "\n",
       "    .dataframe tbody tr th {\n",
       "        vertical-align: top;\n",
       "    }\n",
       "\n",
       "    .dataframe thead th {\n",
       "        text-align: right;\n",
       "    }\n",
       "</style>\n",
       "<table border=\"1\" class=\"dataframe\">\n",
       "  <thead>\n",
       "    <tr style=\"text-align: right;\">\n",
       "      <th></th>\n",
       "      <th>source</th>\n",
       "      <th>target</th>\n",
       "    </tr>\n",
       "  </thead>\n",
       "  <tbody>\n",
       "    <tr>\n",
       "      <th>0</th>\n",
       "      <td>1019465005</td>\n",
       "      <td>6599364001</td>\n",
       "    </tr>\n",
       "    <tr>\n",
       "      <th>1</th>\n",
       "      <td>1019465005</td>\n",
       "      <td>1527665002</td>\n",
       "    </tr>\n",
       "    <tr>\n",
       "      <th>2</th>\n",
       "      <td>1019465005</td>\n",
       "      <td>2342714006</td>\n",
       "    </tr>\n",
       "    <tr>\n",
       "      <th>3</th>\n",
       "      <td>1019465005</td>\n",
       "      <td>5455884000</td>\n",
       "    </tr>\n",
       "    <tr>\n",
       "      <th>4</th>\n",
       "      <td>1019465005</td>\n",
       "      <td>2042265007</td>\n",
       "    </tr>\n",
       "    <tr>\n",
       "      <th>...</th>\n",
       "      <td>...</td>\n",
       "      <td>...</td>\n",
       "    </tr>\n",
       "    <tr>\n",
       "      <th>95</th>\n",
       "      <td>7418443001</td>\n",
       "      <td>7703064000</td>\n",
       "    </tr>\n",
       "    <tr>\n",
       "      <th>96</th>\n",
       "      <td>7418443001</td>\n",
       "      <td>9859713004</td>\n",
       "    </tr>\n",
       "    <tr>\n",
       "      <th>97</th>\n",
       "      <td>7418443001</td>\n",
       "      <td>8542683005</td>\n",
       "    </tr>\n",
       "    <tr>\n",
       "      <th>98</th>\n",
       "      <td>7418443001</td>\n",
       "      <td>9017114001</td>\n",
       "    </tr>\n",
       "    <tr>\n",
       "      <th>99</th>\n",
       "      <td>7418443001</td>\n",
       "      <td>9747303005</td>\n",
       "    </tr>\n",
       "  </tbody>\n",
       "</table>\n",
       "<p>37100 rows × 2 columns</p>\n",
       "</div>"
      ],
      "text/plain": [
       "        source      target\n",
       "0   1019465005  6599364001\n",
       "1   1019465005  1527665002\n",
       "2   1019465005  2342714006\n",
       "3   1019465005  5455884000\n",
       "4   1019465005  2042265007\n",
       "..         ...         ...\n",
       "95  7418443001  7703064000\n",
       "96  7418443001  9859713004\n",
       "97  7418443001  8542683005\n",
       "98  7418443001  9017114001\n",
       "99  7418443001  9747303005\n",
       "\n",
       "[37100 rows x 2 columns]"
      ]
     },
     "execution_count": 339,
     "metadata": {},
     "output_type": "execute_result"
    }
   ],
   "source": [
    "s = get_sample_per_code(id_ser)\n",
    "s"
   ]
  },
  {
   "cell_type": "code",
   "execution_count": 332,
   "id": "d404da64-21d0-4b1c-9faa-583ab4e30a38",
   "metadata": {},
   "outputs": [
    {
     "data": {
      "text/plain": [
       "(471,)"
      ]
     },
     "execution_count": 332,
     "metadata": {},
     "output_type": "execute_result"
    }
   ],
   "source": [
    "id_ser.shape"
   ]
  },
  {
   "cell_type": "code",
   "execution_count": 261,
   "id": "f2be3caa-de04-49a1-ade9-7fc33bb602f7",
   "metadata": {},
   "outputs": [
    {
     "data": {
      "text/plain": [
       "47100"
      ]
     },
     "execution_count": 261,
     "metadata": {},
     "output_type": "execute_result"
    }
   ],
   "source": [
    "471*100"
   ]
  },
  {
   "cell_type": "code",
   "execution_count": 333,
   "id": "22d4cced-d5cd-4780-b46e-a41d45d5730f",
   "metadata": {},
   "outputs": [
    {
     "data": {
      "text/html": [
       "<div>\n",
       "<style scoped>\n",
       "    .dataframe tbody tr th:only-of-type {\n",
       "        vertical-align: middle;\n",
       "    }\n",
       "\n",
       "    .dataframe tbody tr th {\n",
       "        vertical-align: top;\n",
       "    }\n",
       "\n",
       "    .dataframe thead th {\n",
       "        text-align: right;\n",
       "    }\n",
       "</style>\n",
       "<table border=\"1\" class=\"dataframe\">\n",
       "  <thead>\n",
       "    <tr style=\"text-align: right;\">\n",
       "      <th></th>\n",
       "      <th>source</th>\n",
       "      <th>target</th>\n",
       "    </tr>\n",
       "  </thead>\n",
       "  <tbody>\n",
       "  </tbody>\n",
       "</table>\n",
       "</div>"
      ],
      "text/plain": [
       "Empty DataFrame\n",
       "Columns: [source, target]\n",
       "Index: []"
      ]
     },
     "execution_count": 333,
     "metadata": {},
     "output_type": "execute_result"
    }
   ],
   "source": [
    "s[s['source'] >= s['target']]"
   ]
  },
  {
   "cell_type": "code",
   "execution_count": 334,
   "id": "afbbb5e2-685a-4c7a-a0aa-0d4134825969",
   "metadata": {},
   "outputs": [
    {
     "data": {
      "text/html": [
       "<div>\n",
       "<style scoped>\n",
       "    .dataframe tbody tr th:only-of-type {\n",
       "        vertical-align: middle;\n",
       "    }\n",
       "\n",
       "    .dataframe tbody tr th {\n",
       "        vertical-align: top;\n",
       "    }\n",
       "\n",
       "    .dataframe thead th {\n",
       "        text-align: right;\n",
       "    }\n",
       "</style>\n",
       "<table border=\"1\" class=\"dataframe\">\n",
       "  <thead>\n",
       "    <tr style=\"text-align: right;\">\n",
       "      <th></th>\n",
       "      <th>source</th>\n",
       "      <th>target</th>\n",
       "    </tr>\n",
       "  </thead>\n",
       "  <tbody>\n",
       "    <tr>\n",
       "      <th>0</th>\n",
       "      <td>1019465005</td>\n",
       "      <td>5594583008</td>\n",
       "    </tr>\n",
       "    <tr>\n",
       "      <th>1</th>\n",
       "      <td>1019465005</td>\n",
       "      <td>9085813005</td>\n",
       "    </tr>\n",
       "    <tr>\n",
       "      <th>2</th>\n",
       "      <td>1019465005</td>\n",
       "      <td>3125334008</td>\n",
       "    </tr>\n",
       "    <tr>\n",
       "      <th>3</th>\n",
       "      <td>1019465005</td>\n",
       "      <td>1579195005</td>\n",
       "    </tr>\n",
       "    <tr>\n",
       "      <th>4</th>\n",
       "      <td>1019465005</td>\n",
       "      <td>2238886003</td>\n",
       "    </tr>\n",
       "    <tr>\n",
       "      <th>...</th>\n",
       "      <td>...</td>\n",
       "      <td>...</td>\n",
       "    </tr>\n",
       "    <tr>\n",
       "      <th>47092</th>\n",
       "      <td>5126594006</td>\n",
       "      <td>9994873009</td>\n",
       "    </tr>\n",
       "    <tr>\n",
       "      <th>47093</th>\n",
       "      <td>4919124000</td>\n",
       "      <td>9994873009</td>\n",
       "    </tr>\n",
       "    <tr>\n",
       "      <th>47094</th>\n",
       "      <td>5692484002</td>\n",
       "      <td>9994873009</td>\n",
       "    </tr>\n",
       "    <tr>\n",
       "      <th>47097</th>\n",
       "      <td>3317654004</td>\n",
       "      <td>9994873009</td>\n",
       "    </tr>\n",
       "    <tr>\n",
       "      <th>47098</th>\n",
       "      <td>4532585000</td>\n",
       "      <td>9994873009</td>\n",
       "    </tr>\n",
       "  </tbody>\n",
       "</table>\n",
       "<p>42050 rows × 2 columns</p>\n",
       "</div>"
      ],
      "text/plain": [
       "           source      target\n",
       "0      1019465005  5594583008\n",
       "1      1019465005  9085813005\n",
       "2      1019465005  3125334008\n",
       "3      1019465005  1579195005\n",
       "4      1019465005  2238886003\n",
       "...           ...         ...\n",
       "47092  5126594006  9994873009\n",
       "47093  4919124000  9994873009\n",
       "47094  5692484002  9994873009\n",
       "47097  3317654004  9994873009\n",
       "47098  4532585000  9994873009\n",
       "\n",
       "[42050 rows x 2 columns]"
      ]
     },
     "execution_count": 334,
     "metadata": {},
     "output_type": "execute_result"
    }
   ],
   "source": [
    "s"
   ]
  },
  {
   "cell_type": "code",
   "execution_count": 258,
   "id": "9be8c931-058f-41e8-8564-941f77f26ecf",
   "metadata": {},
   "outputs": [
    {
     "data": {
      "text/plain": [
       "count    371.0\n",
       "mean     100.0\n",
       "std        0.0\n",
       "min      100.0\n",
       "25%      100.0\n",
       "50%      100.0\n",
       "75%      100.0\n",
       "max      100.0\n",
       "Name: target, dtype: float64"
      ]
     },
     "execution_count": 258,
     "metadata": {},
     "output_type": "execute_result"
    }
   ],
   "source": [
    "s_cnt = s.groupby(['source'])['target'].agg('count')\n",
    "s_cnt.describe()"
   ]
  },
  {
   "cell_type": "code",
   "execution_count": 202,
   "id": "1b11e5c2-7670-47b6-9a23-70a736f8e8c8",
   "metadata": {},
   "outputs": [
    {
     "data": {
      "text/plain": [
       "source\n",
       "9868093010    1\n",
       "Name: target, dtype: int64"
      ]
     },
     "execution_count": 202,
     "metadata": {},
     "output_type": "execute_result"
    }
   ],
   "source": [
    "s_cnt[s_cnt == 1]"
   ]
  },
  {
   "cell_type": "code",
   "execution_count": 204,
   "id": "5a9028d2-aba1-4e04-bf91-2b2de2720356",
   "metadata": {},
   "outputs": [
    {
     "data": {
      "text/html": [
       "<div>\n",
       "<style scoped>\n",
       "    .dataframe tbody tr th:only-of-type {\n",
       "        vertical-align: middle;\n",
       "    }\n",
       "\n",
       "    .dataframe tbody tr th {\n",
       "        vertical-align: top;\n",
       "    }\n",
       "\n",
       "    .dataframe thead th {\n",
       "        text-align: right;\n",
       "    }\n",
       "</style>\n",
       "<table border=\"1\" class=\"dataframe\">\n",
       "  <thead>\n",
       "    <tr style=\"text-align: right;\">\n",
       "      <th></th>\n",
       "      <th>source</th>\n",
       "      <th>target</th>\n",
       "    </tr>\n",
       "  </thead>\n",
       "  <tbody>\n",
       "    <tr>\n",
       "      <th>468</th>\n",
       "      <td>1019465005</td>\n",
       "      <td>9868093010</td>\n",
       "    </tr>\n",
       "    <tr>\n",
       "      <th>937</th>\n",
       "      <td>1021505003</td>\n",
       "      <td>9868093010</td>\n",
       "    </tr>\n",
       "    <tr>\n",
       "      <th>1405</th>\n",
       "      <td>1023475000</td>\n",
       "      <td>9868093010</td>\n",
       "    </tr>\n",
       "    <tr>\n",
       "      <th>1872</th>\n",
       "      <td>1046185010</td>\n",
       "      <td>9868093010</td>\n",
       "    </tr>\n",
       "    <tr>\n",
       "      <th>2338</th>\n",
       "      <td>1053014007</td>\n",
       "      <td>9868093010</td>\n",
       "    </tr>\n",
       "    <tr>\n",
       "      <th>...</th>\n",
       "      <td>...</td>\n",
       "      <td>...</td>\n",
       "    </tr>\n",
       "    <tr>\n",
       "      <th>110668</th>\n",
       "      <td>8984483001</td>\n",
       "      <td>9868093010</td>\n",
       "    </tr>\n",
       "    <tr>\n",
       "      <th>110673</th>\n",
       "      <td>9119503005</td>\n",
       "      <td>9868093010</td>\n",
       "    </tr>\n",
       "    <tr>\n",
       "      <th>110677</th>\n",
       "      <td>9262183008</td>\n",
       "      <td>9868093010</td>\n",
       "    </tr>\n",
       "    <tr>\n",
       "      <th>110680</th>\n",
       "      <td>9606403007</td>\n",
       "      <td>9868093010</td>\n",
       "    </tr>\n",
       "    <tr>\n",
       "      <th>110682</th>\n",
       "      <td>9681803009</td>\n",
       "      <td>9868093010</td>\n",
       "    </tr>\n",
       "  </tbody>\n",
       "</table>\n",
       "<p>469 rows × 2 columns</p>\n",
       "</div>"
      ],
      "text/plain": [
       "            source      target\n",
       "468     1019465005  9868093010\n",
       "937     1021505003  9868093010\n",
       "1405    1023475000  9868093010\n",
       "1872    1046185010  9868093010\n",
       "2338    1053014007  9868093010\n",
       "...            ...         ...\n",
       "110668  8984483001  9868093010\n",
       "110673  9119503005  9868093010\n",
       "110677  9262183008  9868093010\n",
       "110680  9606403007  9868093010\n",
       "110682  9681803009  9868093010\n",
       "\n",
       "[469 rows x 2 columns]"
      ]
     },
     "execution_count": 204,
     "metadata": {},
     "output_type": "execute_result"
    }
   ],
   "source": [
    "s[s['target'] == '9868093010']"
   ]
  },
  {
   "cell_type": "code",
   "execution_count": 128,
   "id": "dbc8c24c-96f7-4d33-b719-6d1934478620",
   "metadata": {},
   "outputs": [
    {
     "data": {
      "text/html": [
       "<div>\n",
       "<style scoped>\n",
       "    .dataframe tbody tr th:only-of-type {\n",
       "        vertical-align: middle;\n",
       "    }\n",
       "\n",
       "    .dataframe tbody tr th {\n",
       "        vertical-align: top;\n",
       "    }\n",
       "\n",
       "    .dataframe thead th {\n",
       "        text-align: right;\n",
       "    }\n",
       "</style>\n",
       "<table border=\"1\" class=\"dataframe\">\n",
       "  <thead>\n",
       "    <tr style=\"text-align: right;\">\n",
       "      <th></th>\n",
       "      <th>source</th>\n",
       "      <th>target</th>\n",
       "    </tr>\n",
       "  </thead>\n",
       "  <tbody>\n",
       "    <tr>\n",
       "      <th>0</th>\n",
       "      <td>1435695003</td>\n",
       "      <td>7818243010</td>\n",
       "    </tr>\n",
       "    <tr>\n",
       "      <th>1</th>\n",
       "      <td>1435695003</td>\n",
       "      <td>7828953004</td>\n",
       "    </tr>\n",
       "    <tr>\n",
       "      <th>2</th>\n",
       "      <td>7818243010</td>\n",
       "      <td>7828953004</td>\n",
       "    </tr>\n",
       "  </tbody>\n",
       "</table>\n",
       "</div>"
      ],
      "text/plain": [
       "       source      target\n",
       "0  1435695003  7818243010\n",
       "1  1435695003  7828953004\n",
       "2  7818243010  7828953004"
      ]
     },
     "execution_count": 128,
     "metadata": {},
     "output_type": "execute_result"
    }
   ],
   "source": [
    "get_sample_per_code(comb_df[comb_df['NAICS_orig'] == '926130']['LoanNr_ChkDgt'])"
   ]
  },
  {
   "cell_type": "code",
   "execution_count": 439,
   "id": "41badba9-569b-410e-95eb-22be1434bfdf",
   "metadata": {},
   "outputs": [],
   "source": [
    "large_ser = comb_df[comb_df['NAICS_orig'] == '722110']['LoanNr_ChkDgt']"
   ]
  },
  {
   "cell_type": "code",
   "execution_count": 443,
   "id": "ecba2517-eb08-4cd8-b9f1-2d257ef6c1f8",
   "metadata": {},
   "outputs": [],
   "source": [
    "import time"
   ]
  },
  {
   "cell_type": "code",
   "execution_count": null,
   "id": "cf61e14f-9477-45cc-8a8f-772ff14ffda5",
   "metadata": {},
   "outputs": [],
   "source": [
    "start = time.time()\n",
    "sc_large = get_sample_per_code(large_ser)\n",
    "end = time.time()\n",
    "print(end - start)\n",
    "print (sc_large.shape)"
   ]
  },
  {
   "cell_type": "code",
   "execution_count": null,
   "id": "53dd7d49-2771-4d91-ad5a-aa5035086995",
   "metadata": {},
   "outputs": [],
   "source": [
    "start = time.time()\n",
    "sc_large = get_sample_per_code_pd(large_ser)\n",
    "end = time.time()\n",
    "print(end - start)\n",
    "print (sc_large.shape)"
   ]
  },
  {
   "cell_type": "code",
   "execution_count": 381,
   "id": "da43f877-c118-4a84-a2b2-b064c6dca90b",
   "metadata": {},
   "outputs": [
    {
     "data": {
      "text/plain": [
       "count    28377.000000\n",
       "mean        98.463544\n",
       "std        414.754073\n",
       "min          1.000000\n",
       "25%         31.000000\n",
       "50%         57.000000\n",
       "75%         78.000000\n",
       "max       6031.000000\n",
       "Name: target, dtype: float64"
      ]
     },
     "execution_count": 381,
     "metadata": {},
     "output_type": "execute_result"
    }
   ],
   "source": [
    "sc_large.groupby('source')['target'].agg('count').describe()"
   ]
  },
  {
   "cell_type": "code",
   "execution_count": 382,
   "id": "9ae41bde-aaf8-4754-8f05-aaf7e654d9f3",
   "metadata": {},
   "outputs": [
    {
     "data": {
      "text/plain": [
       "count    28310.000000\n",
       "mean        98.696574\n",
       "std        466.100230\n",
       "min          1.000000\n",
       "25%         23.000000\n",
       "50%         45.000000\n",
       "75%         71.000000\n",
       "max       6042.000000\n",
       "Name: source, dtype: float64"
      ]
     },
     "execution_count": 382,
     "metadata": {},
     "output_type": "execute_result"
    }
   ],
   "source": [
    "sc_large.groupby('target')['source'].agg('count').describe()"
   ]
  },
  {
   "cell_type": "code",
   "execution_count": 167,
   "id": "7cd677d8-3293-4a55-903e-60f56c349af0",
   "metadata": {},
   "outputs": [
    {
     "data": {
      "text/html": [
       "<div>\n",
       "<style scoped>\n",
       "    .dataframe tbody tr th:only-of-type {\n",
       "        vertical-align: middle;\n",
       "    }\n",
       "\n",
       "    .dataframe tbody tr th {\n",
       "        vertical-align: top;\n",
       "    }\n",
       "\n",
       "    .dataframe thead th {\n",
       "        text-align: right;\n",
       "    }\n",
       "</style>\n",
       "<table border=\"1\" class=\"dataframe\">\n",
       "  <thead>\n",
       "    <tr style=\"text-align: right;\">\n",
       "      <th></th>\n",
       "      <th>target</th>\n",
       "      <th>source</th>\n",
       "    </tr>\n",
       "  </thead>\n",
       "  <tbody>\n",
       "  </tbody>\n",
       "</table>\n",
       "</div>"
      ],
      "text/plain": [
       "Empty DataFrame\n",
       "Columns: [target, source]\n",
       "Index: []"
      ]
     },
     "execution_count": 167,
     "metadata": {},
     "output_type": "execute_result"
    }
   ],
   "source": [
    "sc_large[sc_large['target'] == '1134835004']"
   ]
  },
  {
   "cell_type": "code",
   "execution_count": null,
   "id": "84465e68-1961-4da9-9b6b-7bfc319f5dc2",
   "metadata": {},
   "outputs": [],
   "source": [
    "9994873009"
   ]
  },
  {
   "cell_type": "code",
   "execution_count": 126,
   "id": "0dd8d44f-e2c2-4fd2-b498-ae9fff892f62",
   "metadata": {},
   "outputs": [
    {
     "data": {
      "text/plain": [
       "2794100"
      ]
     },
     "execution_count": 126,
     "metadata": {},
     "output_type": "execute_result"
    }
   ],
   "source": [
    "27941*100"
   ]
  },
  {
   "cell_type": "code",
   "execution_count": 22,
   "id": "0c4abd42-f624-44b0-8a2f-53e508ba417a",
   "metadata": {},
   "outputs": [],
   "source": [
    "vc = comb_df['NAICS_orig'].value_counts(sort=False)"
   ]
  },
  {
   "cell_type": "code",
   "execution_count": 24,
   "id": "77375c6b-cae6-4e9e-9668-54d39d77987c",
   "metadata": {},
   "outputs": [
    {
     "data": {
      "text/plain": [
       "NAICS_orig\n",
       "315240    1\n",
       "333241    1\n",
       "514190    1\n",
       "925120    1\n",
       "212210    1\n",
       "Name: count, dtype: int64"
      ]
     },
     "execution_count": 24,
     "metadata": {},
     "output_type": "execute_result"
    }
   ],
   "source": [
    "vc.sort_values().head()"
   ]
  },
  {
   "cell_type": "code",
   "execution_count": 130,
   "id": "54b4f3f5-eaf1-4208-9ece-643ef1412bbc",
   "metadata": {},
   "outputs": [
    {
     "data": {
      "text/plain": [
       "Series([], Name: count, dtype: int64)"
      ]
     },
     "execution_count": 131,
     "metadata": {},
     "output_type": "execute_result"
    }
   ],
   "source": [
    "vc[vc == 4950].head(3)"
   ]
  },
  {
   "cell_type": "code",
   "execution_count": 122,
   "id": "d6561087-799a-4dbf-8b2b-206522ccb1a5",
   "metadata": {},
   "outputs": [
    {
     "data": {
      "text/plain": [
       "NAICS_orig\n",
       "722110    27941\n",
       "722211    19435\n",
       "811111    14235\n",
       "621210    13756\n",
       "624410     9891\n",
       "Name: count, dtype: int64"
      ]
     },
     "execution_count": 122,
     "metadata": {},
     "output_type": "execute_result"
    }
   ],
   "source": [
    "vc.sort_values(ascending=False).head()"
   ]
  },
  {
   "cell_type": "code",
   "execution_count": 14,
   "id": "89bc28e8-acd9-4dfb-b060-e49785e68fa4",
   "metadata": {},
   "outputs": [
    {
     "data": {
      "text/plain": [
       "(471, 28)"
      ]
     },
     "execution_count": 14,
     "metadata": {},
     "output_type": "execute_result"
    }
   ],
   "source": [
    "comb_df[comb_df['NAICS_orig'] == '327215'].shape"
   ]
  },
  {
   "cell_type": "code",
   "execution_count": 15,
   "id": "d938da36-219a-43b8-9760-095d4f5935fd",
   "metadata": {},
   "outputs": [
    {
     "data": {
      "text/plain": [
       "(14235, 28)"
      ]
     },
     "execution_count": 15,
     "metadata": {},
     "output_type": "execute_result"
    }
   ],
   "source": [
    "comb_df[comb_df['NAICS_orig'] == '811111'].shape"
   ]
  },
  {
   "cell_type": "code",
   "execution_count": 18,
   "id": "4c4424bc-f3df-4c99-bd05-71f77fa7b177",
   "metadata": {},
   "outputs": [
    {
     "data": {
      "text/plain": [
       "(361, 28)"
      ]
     },
     "execution_count": 18,
     "metadata": {},
     "output_type": "execute_result"
    }
   ],
   "source": [
    "comb_df[comb_df['NAICS_orig'] == '332321'].shape"
   ]
  },
  {
   "cell_type": "code",
   "execution_count": 61,
   "id": "1362e71b-0f38-4273-a43d-c259ec784418",
   "metadata": {},
   "outputs": [],
   "source": [
    "id_ser = comb_df[comb_df['NAICS_orig'] == '327215'][['NAICS_orig', 'LoanNr_ChkDgt']].copy() \\\n",
    "    ['LoanNr_ChkDgt'].rename('target') \n",
    "id_ser.index.name = 'source_index'"
   ]
  },
  {
   "cell_type": "code",
   "execution_count": 68,
   "id": "6f886a6e-243d-4e58-8e7f-42ccfa9f1445",
   "metadata": {},
   "outputs": [],
   "source": [
    "id_np = id_ser.to_numpy()"
   ]
  },
  {
   "cell_type": "code",
   "execution_count": 81,
   "id": "311df2b1-7fac-45a3-a94c-19ffd3da4265",
   "metadata": {},
   "outputs": [
    {
     "data": {
      "text/plain": [
       "source_index\n",
       "2948      1019465005\n",
       "3246      1021505003\n",
       "3507      1023475000\n",
       "6757      1046185010\n",
       "7803      1053014007\n",
       "             ...    \n",
       "859005    9262183008\n",
       "880861    9606403007\n",
       "883096    9681803009\n",
       "891063    9868093010\n",
       "897124    9994873009\n",
       "Name: target, Length: 471, dtype: object"
      ]
     },
     "execution_count": 81,
     "metadata": {},
     "output_type": "execute_result"
    }
   ],
   "source": [
    "id_ser"
   ]
  },
  {
   "cell_type": "code",
   "execution_count": 39,
   "id": "9a454531-fc4b-4a60-b296-cc8668096415",
   "metadata": {},
   "outputs": [
    {
     "data": {
      "text/plain": [
       "100"
      ]
     },
     "execution_count": 39,
     "metadata": {},
     "output_type": "execute_result"
    }
   ],
   "source": [
    "sample_n = np.min([setup.gnn_graph_sample_n, len(id_ser)])\n",
    "sample_n"
   ]
  },
  {
   "cell_type": "code",
   "execution_count": 93,
   "id": "76234753-ad53-48ba-817d-3b3d7f0b7df6",
   "metadata": {},
   "outputs": [],
   "source": [
    "samples = pd.concat([id_ser.sample(n=sample_n).reset_index(drop=True) \\\n",
    "                    for i in range(len(id_ser))],\n",
    "                    axis=0, keys=id_ser.index) \\\n",
    "    .reset_index(level=0) \\\n",
    "    .merge(id_ser.reset_index().rename(columns={'target':'source'}), on='source_index') \\\n",
    "    .drop(columns=['source_index'])"
   ]
  },
  {
   "cell_type": "code",
   "execution_count": 89,
   "id": "ad077ea2-c2c5-4982-8f1a-541aa279f701",
   "metadata": {},
   "outputs": [],
   "source": [
    "samples = samples[samples['target'] != samples['source']]"
   ]
  },
  {
   "cell_type": "code",
   "execution_count": 94,
   "id": "11038e42-22da-4674-a03a-0f0c24553412",
   "metadata": {},
   "outputs": [
    {
     "data": {
      "text/html": [
       "<div>\n",
       "<style scoped>\n",
       "    .dataframe tbody tr th:only-of-type {\n",
       "        vertical-align: middle;\n",
       "    }\n",
       "\n",
       "    .dataframe tbody tr th {\n",
       "        vertical-align: top;\n",
       "    }\n",
       "\n",
       "    .dataframe thead th {\n",
       "        text-align: right;\n",
       "    }\n",
       "</style>\n",
       "<table border=\"1\" class=\"dataframe\">\n",
       "  <thead>\n",
       "    <tr style=\"text-align: right;\">\n",
       "      <th></th>\n",
       "      <th>target</th>\n",
       "      <th>source</th>\n",
       "    </tr>\n",
       "  </thead>\n",
       "  <tbody>\n",
       "    <tr>\n",
       "      <th>0</th>\n",
       "      <td>2428324008</td>\n",
       "      <td>1019465005</td>\n",
       "    </tr>\n",
       "    <tr>\n",
       "      <th>1</th>\n",
       "      <td>8258893001</td>\n",
       "      <td>1019465005</td>\n",
       "    </tr>\n",
       "    <tr>\n",
       "      <th>2</th>\n",
       "      <td>2717376000</td>\n",
       "      <td>1019465005</td>\n",
       "    </tr>\n",
       "    <tr>\n",
       "      <th>3</th>\n",
       "      <td>2013635001</td>\n",
       "      <td>1019465005</td>\n",
       "    </tr>\n",
       "    <tr>\n",
       "      <th>4</th>\n",
       "      <td>8036383006</td>\n",
       "      <td>1019465005</td>\n",
       "    </tr>\n",
       "    <tr>\n",
       "      <th>...</th>\n",
       "      <td>...</td>\n",
       "      <td>...</td>\n",
       "    </tr>\n",
       "    <tr>\n",
       "      <th>47095</th>\n",
       "      <td>2859944008</td>\n",
       "      <td>9994873009</td>\n",
       "    </tr>\n",
       "    <tr>\n",
       "      <th>47096</th>\n",
       "      <td>1614015004</td>\n",
       "      <td>9994873009</td>\n",
       "    </tr>\n",
       "    <tr>\n",
       "      <th>47097</th>\n",
       "      <td>4621923005</td>\n",
       "      <td>9994873009</td>\n",
       "    </tr>\n",
       "    <tr>\n",
       "      <th>47098</th>\n",
       "      <td>1699245001</td>\n",
       "      <td>9994873009</td>\n",
       "    </tr>\n",
       "    <tr>\n",
       "      <th>47099</th>\n",
       "      <td>7661924010</td>\n",
       "      <td>9994873009</td>\n",
       "    </tr>\n",
       "  </tbody>\n",
       "</table>\n",
       "<p>47100 rows × 2 columns</p>\n",
       "</div>"
      ],
      "text/plain": [
       "           target      source\n",
       "0      2428324008  1019465005\n",
       "1      8258893001  1019465005\n",
       "2      2717376000  1019465005\n",
       "3      2013635001  1019465005\n",
       "4      8036383006  1019465005\n",
       "...           ...         ...\n",
       "47095  2859944008  9994873009\n",
       "47096  1614015004  9994873009\n",
       "47097  4621923005  9994873009\n",
       "47098  1699245001  9994873009\n",
       "47099  7661924010  9994873009\n",
       "\n",
       "[47100 rows x 2 columns]"
      ]
     },
     "execution_count": 94,
     "metadata": {},
     "output_type": "execute_result"
    }
   ],
   "source": [
    "samples"
   ]
  },
  {
   "cell_type": "code",
   "execution_count": 84,
   "id": "683dcaec-c5c6-4189-a721-8bfce1cac91d",
   "metadata": {},
   "outputs": [
    {
     "data": {
      "text/html": [
       "<div>\n",
       "<style scoped>\n",
       "    .dataframe tbody tr th:only-of-type {\n",
       "        vertical-align: middle;\n",
       "    }\n",
       "\n",
       "    .dataframe tbody tr th {\n",
       "        vertical-align: top;\n",
       "    }\n",
       "\n",
       "    .dataframe thead th {\n",
       "        text-align: right;\n",
       "    }\n",
       "</style>\n",
       "<table border=\"1\" class=\"dataframe\">\n",
       "  <thead>\n",
       "    <tr style=\"text-align: right;\">\n",
       "      <th></th>\n",
       "      <th>source_index</th>\n",
       "      <th>target</th>\n",
       "      <th>source</th>\n",
       "    </tr>\n",
       "  </thead>\n",
       "  <tbody>\n",
       "    <tr>\n",
       "      <th>0</th>\n",
       "      <td>2948</td>\n",
       "      <td>4055203006</td>\n",
       "      <td>1019465005</td>\n",
       "    </tr>\n",
       "    <tr>\n",
       "      <th>1</th>\n",
       "      <td>2948</td>\n",
       "      <td>7839043008</td>\n",
       "      <td>1019465005</td>\n",
       "    </tr>\n",
       "    <tr>\n",
       "      <th>2</th>\n",
       "      <td>2948</td>\n",
       "      <td>2415264004</td>\n",
       "      <td>1019465005</td>\n",
       "    </tr>\n",
       "    <tr>\n",
       "      <th>3</th>\n",
       "      <td>2948</td>\n",
       "      <td>3698213008</td>\n",
       "      <td>1019465005</td>\n",
       "    </tr>\n",
       "    <tr>\n",
       "      <th>4</th>\n",
       "      <td>2948</td>\n",
       "      <td>4083014001</td>\n",
       "      <td>1019465005</td>\n",
       "    </tr>\n",
       "    <tr>\n",
       "      <th>...</th>\n",
       "      <td>...</td>\n",
       "      <td>...</td>\n",
       "      <td>...</td>\n",
       "    </tr>\n",
       "    <tr>\n",
       "      <th>47095</th>\n",
       "      <td>897124</td>\n",
       "      <td>4652564003</td>\n",
       "      <td>9994873009</td>\n",
       "    </tr>\n",
       "    <tr>\n",
       "      <th>47096</th>\n",
       "      <td>897124</td>\n",
       "      <td>6374404010</td>\n",
       "      <td>9994873009</td>\n",
       "    </tr>\n",
       "    <tr>\n",
       "      <th>47097</th>\n",
       "      <td>897124</td>\n",
       "      <td>7200323008</td>\n",
       "      <td>9994873009</td>\n",
       "    </tr>\n",
       "    <tr>\n",
       "      <th>47098</th>\n",
       "      <td>897124</td>\n",
       "      <td>9185203007</td>\n",
       "      <td>9994873009</td>\n",
       "    </tr>\n",
       "    <tr>\n",
       "      <th>47099</th>\n",
       "      <td>897124</td>\n",
       "      <td>4372554006</td>\n",
       "      <td>9994873009</td>\n",
       "    </tr>\n",
       "  </tbody>\n",
       "</table>\n",
       "<p>47100 rows × 3 columns</p>\n",
       "</div>"
      ],
      "text/plain": [
       "       source_index      target      source\n",
       "0              2948  4055203006  1019465005\n",
       "1              2948  7839043008  1019465005\n",
       "2              2948  2415264004  1019465005\n",
       "3              2948  3698213008  1019465005\n",
       "4              2948  4083014001  1019465005\n",
       "...             ...         ...         ...\n",
       "47095        897124  4652564003  9994873009\n",
       "47096        897124  6374404010  9994873009\n",
       "47097        897124  7200323008  9994873009\n",
       "47098        897124  9185203007  9994873009\n",
       "47099        897124  4372554006  9994873009\n",
       "\n",
       "[47100 rows x 3 columns]"
      ]
     },
     "execution_count": 84,
     "metadata": {},
     "output_type": "execute_result"
    }
   ],
   "source": [
    "samples.merge(id_ser.reset_index().rename(columns={'target':'source'}), on='source_index') "
   ]
  },
  {
   "cell_type": "code",
   "execution_count": 46,
   "id": "d8b4f4e6-d780-4566-8712-340a56c6171c",
   "metadata": {},
   "outputs": [
    {
     "data": {
      "text/plain": [
       "index\n",
       "2948    1019465005\n",
       "2948    1019465005\n",
       "2948    1019465005\n",
       "2948    1019465005\n",
       "2948    1019465005\n",
       "           ...    \n",
       "2948    1019465005\n",
       "2948    1019465005\n",
       "2948    1019465005\n",
       "2948    1019465005\n",
       "2948    1019465005\n",
       "Name: target, Length: 101, dtype: object"
      ]
     },
     "execution_count": 46,
     "metadata": {},
     "output_type": "execute_result"
    }
   ],
   "source": [
    "samples.loc[2948]"
   ]
  },
  {
   "cell_type": "code",
   "execution_count": null,
   "id": "72b66a4d-25ec-4d17-ba32-6ce2584b4a57",
   "metadata": {},
   "outputs": [],
   "source": [
    "vc_ex = "
   ]
  },
  {
   "cell_type": "markdown",
   "id": "57c9d767-53ac-4602-8362-6dfa03fed7e0",
   "metadata": {},
   "source": [
    "##### Same-NAICS edges\n",
    "There are a very large number of possible relationships.  I may need to sample"
   ]
  },
  {
   "cell_type": "code",
   "execution_count": 11,
   "id": "20b0dea0-219a-4a64-a101-a0f8c8524b49",
   "metadata": {},
   "outputs": [
    {
     "data": {
      "text/html": [
       "<div>\n",
       "<style scoped>\n",
       "    .dataframe tbody tr th:only-of-type {\n",
       "        vertical-align: middle;\n",
       "    }\n",
       "\n",
       "    .dataframe tbody tr th {\n",
       "        vertical-align: top;\n",
       "    }\n",
       "\n",
       "    .dataframe thead th {\n",
       "        text-align: right;\n",
       "    }\n",
       "</style>\n",
       "<table border=\"1\" class=\"dataframe\">\n",
       "  <thead>\n",
       "    <tr style=\"text-align: right;\">\n",
       "      <th></th>\n",
       "      <th>dset</th>\n",
       "      <th>LoanNr_ChkDgt</th>\n",
       "      <th>target</th>\n",
       "      <th>dset_naics_holdout</th>\n",
       "      <th>NAICS_orig</th>\n",
       "      <th>NAICS_sector</th>\n",
       "      <th>menc_NAICS</th>\n",
       "      <th>menc_NAICS_sector</th>\n",
       "      <th>NS___Accommodation and Food Services</th>\n",
       "      <th>NS___Construction</th>\n",
       "      <th>...</th>\n",
       "      <th>CreateJob</th>\n",
       "      <th>LowDoc</th>\n",
       "      <th>DisbursementGross</th>\n",
       "      <th>new_business</th>\n",
       "      <th>urban_flag</th>\n",
       "      <th>franchise_flag</th>\n",
       "      <th>missingindicator_LowDoc</th>\n",
       "      <th>missingindicator_new_business</th>\n",
       "      <th>missingindicator_urban_flag</th>\n",
       "      <th>NAICS</th>\n",
       "    </tr>\n",
       "    <tr>\n",
       "      <th>index</th>\n",
       "      <th></th>\n",
       "      <th></th>\n",
       "      <th></th>\n",
       "      <th></th>\n",
       "      <th></th>\n",
       "      <th></th>\n",
       "      <th></th>\n",
       "      <th></th>\n",
       "      <th></th>\n",
       "      <th></th>\n",
       "      <th></th>\n",
       "      <th></th>\n",
       "      <th></th>\n",
       "      <th></th>\n",
       "      <th></th>\n",
       "      <th></th>\n",
       "      <th></th>\n",
       "      <th></th>\n",
       "      <th></th>\n",
       "      <th></th>\n",
       "      <th></th>\n",
       "    </tr>\n",
       "  </thead>\n",
       "  <tbody>\n",
       "    <tr>\n",
       "      <th>0</th>\n",
       "      <td>train</td>\n",
       "      <td>1000014003</td>\n",
       "      <td>0</td>\n",
       "      <td>0</td>\n",
       "      <td>451120</td>\n",
       "      <td>44-45</td>\n",
       "      <td>0.226337</td>\n",
       "      <td>0.225793</td>\n",
       "      <td>0.0</td>\n",
       "      <td>0.0</td>\n",
       "      <td>...</td>\n",
       "      <td>-1.0</td>\n",
       "      <td>1.0</td>\n",
       "      <td>-0.228228</td>\n",
       "      <td>1.0</td>\n",
       "      <td>1.0</td>\n",
       "      <td>-1.0</td>\n",
       "      <td>-1.0</td>\n",
       "      <td>-1.0</td>\n",
       "      <td>1.0</td>\n",
       "      <td>778.0</td>\n",
       "    </tr>\n",
       "    <tr>\n",
       "      <th>2</th>\n",
       "      <td>train</td>\n",
       "      <td>1000034009</td>\n",
       "      <td>0</td>\n",
       "      <td>0</td>\n",
       "      <td>621210</td>\n",
       "      <td>62</td>\n",
       "      <td>0.042125</td>\n",
       "      <td>0.100900</td>\n",
       "      <td>0.0</td>\n",
       "      <td>0.0</td>\n",
       "      <td>...</td>\n",
       "      <td>-1.0</td>\n",
       "      <td>-1.0</td>\n",
       "      <td>0.610611</td>\n",
       "      <td>-1.0</td>\n",
       "      <td>1.0</td>\n",
       "      <td>-1.0</td>\n",
       "      <td>-1.0</td>\n",
       "      <td>-1.0</td>\n",
       "      <td>1.0</td>\n",
       "      <td>1089.0</td>\n",
       "    </tr>\n",
       "    <tr>\n",
       "      <th>7</th>\n",
       "      <td>train</td>\n",
       "      <td>1000094005</td>\n",
       "      <td>0</td>\n",
       "      <td>0</td>\n",
       "      <td>811118</td>\n",
       "      <td>81</td>\n",
       "      <td>0.147149</td>\n",
       "      <td>0.202440</td>\n",
       "      <td>0.0</td>\n",
       "      <td>0.0</td>\n",
       "      <td>...</td>\n",
       "      <td>-1.0</td>\n",
       "      <td>1.0</td>\n",
       "      <td>-0.429429</td>\n",
       "      <td>1.0</td>\n",
       "      <td>1.0</td>\n",
       "      <td>-1.0</td>\n",
       "      <td>-1.0</td>\n",
       "      <td>-1.0</td>\n",
       "      <td>1.0</td>\n",
       "      <td>1167.0</td>\n",
       "    </tr>\n",
       "    <tr>\n",
       "      <th>8</th>\n",
       "      <td>train</td>\n",
       "      <td>1000104006</td>\n",
       "      <td>0</td>\n",
       "      <td>0</td>\n",
       "      <td>721310</td>\n",
       "      <td>72</td>\n",
       "      <td>0.050785</td>\n",
       "      <td>0.217493</td>\n",
       "      <td>1.0</td>\n",
       "      <td>0.0</td>\n",
       "      <td>...</td>\n",
       "      <td>-1.0</td>\n",
       "      <td>-1.0</td>\n",
       "      <td>0.644675</td>\n",
       "      <td>1.0</td>\n",
       "      <td>1.0</td>\n",
       "      <td>-1.0</td>\n",
       "      <td>-1.0</td>\n",
       "      <td>-1.0</td>\n",
       "      <td>1.0</td>\n",
       "      <td>1152.0</td>\n",
       "    </tr>\n",
       "    <tr>\n",
       "      <th>10</th>\n",
       "      <td>train</td>\n",
       "      <td>1000134004</td>\n",
       "      <td>0</td>\n",
       "      <td>0</td>\n",
       "      <td>811111</td>\n",
       "      <td>81</td>\n",
       "      <td>0.155980</td>\n",
       "      <td>0.202440</td>\n",
       "      <td>0.0</td>\n",
       "      <td>0.0</td>\n",
       "      <td>...</td>\n",
       "      <td>-1.0</td>\n",
       "      <td>1.0</td>\n",
       "      <td>-0.154154</td>\n",
       "      <td>1.0</td>\n",
       "      <td>1.0</td>\n",
       "      <td>-1.0</td>\n",
       "      <td>-1.0</td>\n",
       "      <td>-1.0</td>\n",
       "      <td>1.0</td>\n",
       "      <td>1164.0</td>\n",
       "    </tr>\n",
       "    <tr>\n",
       "      <th>...</th>\n",
       "      <td>...</td>\n",
       "      <td>...</td>\n",
       "      <td>...</td>\n",
       "      <td>...</td>\n",
       "      <td>...</td>\n",
       "      <td>...</td>\n",
       "      <td>...</td>\n",
       "      <td>...</td>\n",
       "      <td>...</td>\n",
       "      <td>...</td>\n",
       "      <td>...</td>\n",
       "      <td>...</td>\n",
       "      <td>...</td>\n",
       "      <td>...</td>\n",
       "      <td>...</td>\n",
       "      <td>...</td>\n",
       "      <td>...</td>\n",
       "      <td>...</td>\n",
       "      <td>...</td>\n",
       "      <td>...</td>\n",
       "      <td>...</td>\n",
       "    </tr>\n",
       "    <tr>\n",
       "      <th>897124</th>\n",
       "      <td>val</td>\n",
       "      <td>9994873009</td>\n",
       "      <td>0</td>\n",
       "      <td>0</td>\n",
       "      <td>327215</td>\n",
       "      <td>31-33</td>\n",
       "      <td>0.126623</td>\n",
       "      <td>0.155421</td>\n",
       "      <td>0.0</td>\n",
       "      <td>0.0</td>\n",
       "      <td>...</td>\n",
       "      <td>-1.0</td>\n",
       "      <td>1.0</td>\n",
       "      <td>-0.532533</td>\n",
       "      <td>-1.0</td>\n",
       "      <td>1.0</td>\n",
       "      <td>-1.0</td>\n",
       "      <td>-1.0</td>\n",
       "      <td>-1.0</td>\n",
       "      <td>1.0</td>\n",
       "      <td>356.0</td>\n",
       "    </tr>\n",
       "    <tr>\n",
       "      <th>897133</th>\n",
       "      <td>val</td>\n",
       "      <td>9995023003</td>\n",
       "      <td>0</td>\n",
       "      <td>0</td>\n",
       "      <td>422410</td>\n",
       "      <td>42</td>\n",
       "      <td>0.074783</td>\n",
       "      <td>0.189649</td>\n",
       "      <td>0.0</td>\n",
       "      <td>0.0</td>\n",
       "      <td>...</td>\n",
       "      <td>-1.0</td>\n",
       "      <td>-1.0</td>\n",
       "      <td>0.070070</td>\n",
       "      <td>-1.0</td>\n",
       "      <td>1.0</td>\n",
       "      <td>-1.0</td>\n",
       "      <td>-1.0</td>\n",
       "      <td>-1.0</td>\n",
       "      <td>1.0</td>\n",
       "      <td>642.0</td>\n",
       "    </tr>\n",
       "    <tr>\n",
       "      <th>897136</th>\n",
       "      <td>val</td>\n",
       "      <td>9995063004</td>\n",
       "      <td>0</td>\n",
       "      <td>0</td>\n",
       "      <td>322211</td>\n",
       "      <td>31-33</td>\n",
       "      <td>0.103229</td>\n",
       "      <td>0.155421</td>\n",
       "      <td>0.0</td>\n",
       "      <td>0.0</td>\n",
       "      <td>...</td>\n",
       "      <td>-1.0</td>\n",
       "      <td>1.0</td>\n",
       "      <td>0.029029</td>\n",
       "      <td>1.0</td>\n",
       "      <td>1.0</td>\n",
       "      <td>-1.0</td>\n",
       "      <td>-1.0</td>\n",
       "      <td>-1.0</td>\n",
       "      <td>1.0</td>\n",
       "      <td>265.0</td>\n",
       "    </tr>\n",
       "    <tr>\n",
       "      <th>897146</th>\n",
       "      <td>val</td>\n",
       "      <td>9995213001</td>\n",
       "      <td>1</td>\n",
       "      <td>0</td>\n",
       "      <td>235610</td>\n",
       "      <td>23</td>\n",
       "      <td>0.090024</td>\n",
       "      <td>0.245595</td>\n",
       "      <td>0.0</td>\n",
       "      <td>1.0</td>\n",
       "      <td>...</td>\n",
       "      <td>-1.0</td>\n",
       "      <td>-1.0</td>\n",
       "      <td>0.320320</td>\n",
       "      <td>1.0</td>\n",
       "      <td>1.0</td>\n",
       "      <td>-1.0</td>\n",
       "      <td>-1.0</td>\n",
       "      <td>-1.0</td>\n",
       "      <td>1.0</td>\n",
       "      <td>104.0</td>\n",
       "    </tr>\n",
       "    <tr>\n",
       "      <th>897164</th>\n",
       "      <td>val</td>\n",
       "      <td>9995613003</td>\n",
       "      <td>0</td>\n",
       "      <td>0</td>\n",
       "      <td>332321</td>\n",
       "      <td>31-33</td>\n",
       "      <td>0.125523</td>\n",
       "      <td>0.155421</td>\n",
       "      <td>0.0</td>\n",
       "      <td>0.0</td>\n",
       "      <td>...</td>\n",
       "      <td>-1.0</td>\n",
       "      <td>-1.0</td>\n",
       "      <td>0.631632</td>\n",
       "      <td>-1.0</td>\n",
       "      <td>1.0</td>\n",
       "      <td>-1.0</td>\n",
       "      <td>-1.0</td>\n",
       "      <td>-1.0</td>\n",
       "      <td>1.0</td>\n",
       "      <td>406.0</td>\n",
       "    </tr>\n",
       "  </tbody>\n",
       "</table>\n",
       "<p>688081 rows × 28 columns</p>\n",
       "</div>"
      ],
      "text/plain": [
       "         dset LoanNr_ChkDgt  target  dset_naics_holdout NAICS_orig  \\\n",
       "index                                                                \n",
       "0       train    1000014003       0                   0     451120   \n",
       "2       train    1000034009       0                   0     621210   \n",
       "7       train    1000094005       0                   0     811118   \n",
       "8       train    1000104006       0                   0     721310   \n",
       "10      train    1000134004       0                   0     811111   \n",
       "...       ...           ...     ...                 ...        ...   \n",
       "897124    val    9994873009       0                   0     327215   \n",
       "897133    val    9995023003       0                   0     422410   \n",
       "897136    val    9995063004       0                   0     322211   \n",
       "897146    val    9995213001       1                   0     235610   \n",
       "897164    val    9995613003       0                   0     332321   \n",
       "\n",
       "       NAICS_sector  menc_NAICS  menc_NAICS_sector  \\\n",
       "index                                                \n",
       "0             44-45    0.226337           0.225793   \n",
       "2                62    0.042125           0.100900   \n",
       "7                81    0.147149           0.202440   \n",
       "8                72    0.050785           0.217493   \n",
       "10               81    0.155980           0.202440   \n",
       "...             ...         ...                ...   \n",
       "897124        31-33    0.126623           0.155421   \n",
       "897133           42    0.074783           0.189649   \n",
       "897136        31-33    0.103229           0.155421   \n",
       "897146           23    0.090024           0.245595   \n",
       "897164        31-33    0.125523           0.155421   \n",
       "\n",
       "        NS___Accommodation and Food Services  NS___Construction  ...  \\\n",
       "index                                                            ...   \n",
       "0                                        0.0                0.0  ...   \n",
       "2                                        0.0                0.0  ...   \n",
       "7                                        0.0                0.0  ...   \n",
       "8                                        1.0                0.0  ...   \n",
       "10                                       0.0                0.0  ...   \n",
       "...                                      ...                ...  ...   \n",
       "897124                                   0.0                0.0  ...   \n",
       "897133                                   0.0                0.0  ...   \n",
       "897136                                   0.0                0.0  ...   \n",
       "897146                                   0.0                1.0  ...   \n",
       "897164                                   0.0                0.0  ...   \n",
       "\n",
       "        CreateJob  LowDoc  DisbursementGross  new_business  urban_flag  \\\n",
       "index                                                                    \n",
       "0            -1.0     1.0          -0.228228           1.0         1.0   \n",
       "2            -1.0    -1.0           0.610611          -1.0         1.0   \n",
       "7            -1.0     1.0          -0.429429           1.0         1.0   \n",
       "8            -1.0    -1.0           0.644675           1.0         1.0   \n",
       "10           -1.0     1.0          -0.154154           1.0         1.0   \n",
       "...           ...     ...                ...           ...         ...   \n",
       "897124       -1.0     1.0          -0.532533          -1.0         1.0   \n",
       "897133       -1.0    -1.0           0.070070          -1.0         1.0   \n",
       "897136       -1.0     1.0           0.029029           1.0         1.0   \n",
       "897146       -1.0    -1.0           0.320320           1.0         1.0   \n",
       "897164       -1.0    -1.0           0.631632          -1.0         1.0   \n",
       "\n",
       "        franchise_flag  missingindicator_LowDoc  \\\n",
       "index                                             \n",
       "0                 -1.0                     -1.0   \n",
       "2                 -1.0                     -1.0   \n",
       "7                 -1.0                     -1.0   \n",
       "8                 -1.0                     -1.0   \n",
       "10                -1.0                     -1.0   \n",
       "...                ...                      ...   \n",
       "897124            -1.0                     -1.0   \n",
       "897133            -1.0                     -1.0   \n",
       "897136            -1.0                     -1.0   \n",
       "897146            -1.0                     -1.0   \n",
       "897164            -1.0                     -1.0   \n",
       "\n",
       "        missingindicator_new_business  missingindicator_urban_flag   NAICS  \n",
       "index                                                                       \n",
       "0                                -1.0                          1.0   778.0  \n",
       "2                                -1.0                          1.0  1089.0  \n",
       "7                                -1.0                          1.0  1167.0  \n",
       "8                                -1.0                          1.0  1152.0  \n",
       "10                               -1.0                          1.0  1164.0  \n",
       "...                               ...                          ...     ...  \n",
       "897124                           -1.0                          1.0   356.0  \n",
       "897133                           -1.0                          1.0   642.0  \n",
       "897136                           -1.0                          1.0   265.0  \n",
       "897146                           -1.0                          1.0   104.0  \n",
       "897164                           -1.0                          1.0   406.0  \n",
       "\n",
       "[688081 rows x 28 columns]"
      ]
     },
     "execution_count": 11,
     "metadata": {},
     "output_type": "execute_result"
    }
   ],
   "source": [
    "comb_df"
   ]
  },
  {
   "cell_type": "code",
   "execution_count": null,
   "id": "9c281d60-691c-415c-8971-d1c7e07815e3",
   "metadata": {},
   "outputs": [],
   "source": [
    "naics_edges = comb_df[['LoanNr_ChkDgt', 'NAICS_orig']] \\\n",
    "    .rename(columns={'LoanNr_ChkDgt':'source'}) \\\n",
    "    .merge(comb_df[['LoanNr_ChkDgt', 'NAICS_orig']] \\s\n",
    "           .rename(columns={'LoanNr_ChkDgt':'target'}),\n",
    "           on='NAICS_orig', how='left') \\\n",
    "    .drop(columns=['NAICS_orig'])\n",
    "# Remove self loops (optional)\n",
    "naics_edges = naics_edges[naics_edges['source'] != naics_edges['target']]"
   ]
  },
  {
   "cell_type": "code",
   "execution_count": null,
   "id": "25946433-6605-4bb2-93af-4af668152f08",
   "metadata": {},
   "outputs": [],
   "source": [
    "naics_edges.head()"
   ]
  },
  {
   "cell_type": "code",
   "execution_count": null,
   "id": "ae2729bd-ad6e-4f81-879a-73ed69f86101",
   "metadata": {},
   "outputs": [],
   "source": [
    "print(f'NAICS edge list: {naics_edges.shape}')"
   ]
  },
  {
   "cell_type": "code",
   "execution_count": null,
   "id": "f747e6cd-a7ec-4ed7-91ef-73a01f569dc8",
   "metadata": {},
   "outputs": [],
   "source": []
  },
  {
   "cell_type": "code",
   "execution_count": 325,
   "id": "2406e2b9-7ed3-4775-ae61-84cc1f60580d",
   "metadata": {},
   "outputs": [],
   "source": [
    "sector_map = comb_df[['NAICS_orig', 'NAICS_sector']].drop_duplicates()"
   ]
  },
  {
   "cell_type": "code",
   "execution_count": 326,
   "id": "e97b3e65-85ee-4782-ab2f-a437649ffb87",
   "metadata": {},
   "outputs": [],
   "source": [
    "naics_all_sectors = sector_map.merge(sector_map.rename(columns={'NAICS_orig':'NAICS_sim'}),\n",
    "                                     how='left', on ='NAICS_sector')\n",
    "naics_all_sectors = naics_all_sectors[naics_all_sectors['NAICS_orig'] != naics_all_sectors['NAICS_sim']]"
   ]
  },
  {
   "cell_type": "code",
   "execution_count": 327,
   "id": "7e5f9618-7e26-42c6-ae51-bc432431444f",
   "metadata": {},
   "outputs": [
    {
     "data": {
      "text/html": [
       "<div>\n",
       "<style scoped>\n",
       "    .dataframe tbody tr th:only-of-type {\n",
       "        vertical-align: middle;\n",
       "    }\n",
       "\n",
       "    .dataframe tbody tr th {\n",
       "        vertical-align: top;\n",
       "    }\n",
       "\n",
       "    .dataframe thead th {\n",
       "        text-align: right;\n",
       "    }\n",
       "</style>\n",
       "<table border=\"1\" class=\"dataframe\">\n",
       "  <thead>\n",
       "    <tr style=\"text-align: right;\">\n",
       "      <th></th>\n",
       "      <th>NAICS_orig</th>\n",
       "      <th>NAICS_sector</th>\n",
       "      <th>NAICS_sim</th>\n",
       "    </tr>\n",
       "  </thead>\n",
       "  <tbody>\n",
       "    <tr>\n",
       "      <th>278114</th>\n",
       "      <td>334111</td>\n",
       "      <td>31-33</td>\n",
       "      <td>327331</td>\n",
       "    </tr>\n",
       "    <tr>\n",
       "      <th>272109</th>\n",
       "      <td>445299</td>\n",
       "      <td>44-45</td>\n",
       "      <td>441310</td>\n",
       "    </tr>\n",
       "    <tr>\n",
       "      <th>139121</th>\n",
       "      <td>332431</td>\n",
       "      <td>31-33</td>\n",
       "      <td>313111</td>\n",
       "    </tr>\n",
       "    <tr>\n",
       "      <th>272717</th>\n",
       "      <td>484220</td>\n",
       "      <td>48-49</td>\n",
       "      <td>485999</td>\n",
       "    </tr>\n",
       "    <tr>\n",
       "      <th>281184</th>\n",
       "      <td>314911</td>\n",
       "      <td>31-33</td>\n",
       "      <td>311520</td>\n",
       "    </tr>\n",
       "  </tbody>\n",
       "</table>\n",
       "</div>"
      ],
      "text/plain": [
       "       NAICS_orig NAICS_sector NAICS_sim\n",
       "278114     334111        31-33    327331\n",
       "272109     445299        44-45    441310\n",
       "139121     332431        31-33    313111\n",
       "272717     484220        48-49    485999\n",
       "281184     314911        31-33    311520"
      ]
     },
     "execution_count": 327,
     "metadata": {},
     "output_type": "execute_result"
    }
   ],
   "source": [
    "naics_all_sectors.sample(5)"
   ]
  },
  {
   "cell_type": "markdown",
   "id": "52a6b0eb-cae9-4dee-978f-6cf2443ece0a",
   "metadata": {},
   "source": [
    "##### Functions for creating index for NAICS"
   ]
  },
  {
   "cell_type": "code",
   "execution_count": 328,
   "id": "e37d6b15-fe94-4599-b565-6a74afbbf24d",
   "metadata": {},
   "outputs": [],
   "source": [
    "def get_naics_index(naics_seq):\n",
    "    return 'n_' + naics_seq"
   ]
  },
  {
   "cell_type": "markdown",
   "id": "fd744be8-9ab7-44c2-9bce-7cf2eb18a787",
   "metadata": {},
   "source": [
    "##### Get edges from businesses to their exact NAICS"
   ]
  },
  {
   "cell_type": "code",
   "execution_count": 329,
   "id": "84b1163d-c35e-4df3-b9a5-4ed470eb8a71",
   "metadata": {},
   "outputs": [],
   "source": [
    "# Edges from businesses to their NAICS code\n",
    "naics_info_df = comb_df[['LoanNr_ChkDgt', 'NAICS_orig', 'dset']].copy() \\\n",
    "    .rename(columns={'LoanNr_ChkDgt':'source'}) \n",
    "naics_info_df['target'] = get_naics_index(naics_info_df['NAICS_orig'])\n",
    "\n",
    "edges_business_naics = naics_info_df[['source', 'target', 'dset']].copy()\n",
    "edges_business_naics['type'] = 'loan_naics'"
   ]
  },
  {
   "cell_type": "markdown",
   "id": "1cd85bee-763b-41c3-b72b-adc1580bf8de",
   "metadata": {},
   "source": [
    "##### Get edges from buisinesses to related NAICS codes"
   ]
  },
  {
   "cell_type": "code",
   "execution_count": 330,
   "id": "26f1d72a-64df-4cba-850f-785fe48c348e",
   "metadata": {},
   "outputs": [
    {
     "data": {
      "text/html": [
       "<div>\n",
       "<style scoped>\n",
       "    .dataframe tbody tr th:only-of-type {\n",
       "        vertical-align: middle;\n",
       "    }\n",
       "\n",
       "    .dataframe tbody tr th {\n",
       "        vertical-align: top;\n",
       "    }\n",
       "\n",
       "    .dataframe thead th {\n",
       "        text-align: right;\n",
       "    }\n",
       "</style>\n",
       "<table border=\"1\" class=\"dataframe\">\n",
       "  <thead>\n",
       "    <tr style=\"text-align: right;\">\n",
       "      <th></th>\n",
       "      <th>source</th>\n",
       "      <th>NAICS_orig</th>\n",
       "      <th>dset</th>\n",
       "      <th>target</th>\n",
       "    </tr>\n",
       "    <tr>\n",
       "      <th>index</th>\n",
       "      <th></th>\n",
       "      <th></th>\n",
       "      <th></th>\n",
       "      <th></th>\n",
       "    </tr>\n",
       "  </thead>\n",
       "  <tbody>\n",
       "    <tr>\n",
       "      <th>0</th>\n",
       "      <td>1000014003</td>\n",
       "      <td>451120</td>\n",
       "      <td>train</td>\n",
       "      <td>n_451120</td>\n",
       "    </tr>\n",
       "    <tr>\n",
       "      <th>2</th>\n",
       "      <td>1000034009</td>\n",
       "      <td>621210</td>\n",
       "      <td>train</td>\n",
       "      <td>n_621210</td>\n",
       "    </tr>\n",
       "    <tr>\n",
       "      <th>7</th>\n",
       "      <td>1000094005</td>\n",
       "      <td>811118</td>\n",
       "      <td>train</td>\n",
       "      <td>n_811118</td>\n",
       "    </tr>\n",
       "  </tbody>\n",
       "</table>\n",
       "</div>"
      ],
      "text/plain": [
       "           source NAICS_orig   dset    target\n",
       "index                                        \n",
       "0      1000014003     451120  train  n_451120\n",
       "2      1000034009     621210  train  n_621210\n",
       "7      1000094005     811118  train  n_811118"
      ]
     },
     "execution_count": 330,
     "metadata": {},
     "output_type": "execute_result"
    }
   ],
   "source": [
    "naics_info_df.head(3)"
   ]
  },
  {
   "cell_type": "code",
   "execution_count": 331,
   "id": "ed49e20e-230a-46ea-b970-421615092474",
   "metadata": {},
   "outputs": [
    {
     "name": "stdout",
     "output_type": "stream",
     "text": [
      "Sector NAICS edges: (67912366, 4)\n"
     ]
    }
   ],
   "source": [
    "edges_businesses_naics_sim = naics_info_df.drop(columns='target', errors='ignore') \\\n",
    "    .merge(naics_all_sectors, how='inner', on='NAICS_orig')\n",
    "edges_businesses_naics_sim['target'] = get_naics_index(edges_businesses_naics_sim['NAICS_sim'])\n",
    "edges_businesses_naics_sim = edges_businesses_naics_sim[['source', 'target', 'dset']]\n",
    "edges_businesses_naics_sim['type'] = 'loan_sector_naics'\n",
    "print(f'Sector NAICS edges: {edges_businesses_naics_sim.shape}')"
   ]
  },
  {
   "cell_type": "markdown",
   "id": "0ea97aa1-b6e9-4422-8398-6ea3cba8ce74",
   "metadata": {},
   "source": [
    "##### Sample these - See 00_setup.py\n",
    "The data is large so sampling could be considered here.  This is controlled in 00_setup.py."
   ]
  },
  {
   "cell_type": "code",
   "execution_count": 332,
   "id": "ba73c33f-fd68-425a-82ac-86e8f7308923",
   "metadata": {},
   "outputs": [
    {
     "name": "stdout",
     "output_type": "stream",
     "text": [
      "Sector NAICS edges post sample: (11413065, 4)\n"
     ]
    }
   ],
   "source": [
    "if setup.naics_sector_sample:\n",
    "    edges_businesses_naics_sim = edges_businesses_naics_sim.groupby('source') \\\n",
    "        .sample(setup.naics_sector_sample_n, replace=True, random_state=2342) \\\n",
    "        .drop_duplicates()\n",
    "    print(f'Sector NAICS edges post sample: {edges_businesses_naics_sim.shape}')"
   ]
  },
  {
   "cell_type": "code",
   "execution_count": 333,
   "id": "e97ed5aa-d5a3-4e52-94f8-ecc70601dbe0",
   "metadata": {},
   "outputs": [],
   "source": [
    "edges_all = pd.concat([edges_business_naics, edges_businesses_naics_sim], axis=0) \\\n",
    "    .reset_index(drop=True)"
   ]
  },
  {
   "cell_type": "code",
   "execution_count": 334,
   "id": "728a1cbb-bb6a-4b63-9f50-669830d18360",
   "metadata": {},
   "outputs": [
    {
     "data": {
      "text/plain": [
       "type\n",
       "loan_sector_naics    11413065\n",
       "loan_naics             688081\n",
       "Name: count, dtype: int64"
      ]
     },
     "execution_count": 334,
     "metadata": {},
     "output_type": "execute_result"
    }
   ],
   "source": [
    "edges_all['type'].value_counts()"
   ]
  },
  {
   "cell_type": "code",
   "execution_count": 335,
   "id": "158336d9-2530-44cf-b956-cee8f6faf31d",
   "metadata": {},
   "outputs": [
    {
     "name": "stdout",
     "output_type": "stream",
     "text": [
      "(12101146, 2)\n",
      "(12101146, 4)\n"
     ]
    }
   ],
   "source": [
    "print(edges_all[['source', 'target']].drop_duplicates().shape)\n",
    "print(edges_all.shape)"
   ]
  },
  {
   "cell_type": "code",
   "execution_count": 336,
   "id": "32da0193-ee59-477a-a2c6-539161626e15",
   "metadata": {},
   "outputs": [],
   "source": [
    "edges_all.to_parquet(Path(setup.temp_path).joinpath('10_DATA_graph_edges.parquet'))"
   ]
  },
  {
   "cell_type": "markdown",
   "id": "d4a28c5c-87f8-4147-89cd-e0374770c20b",
   "metadata": {},
   "source": [
    "## Get Node Features\n",
    "This section creates general node features data, which may be filtered to create graphs.  Not all features may be used, and not all nodes may be in all graphs."
   ]
  },
  {
   "cell_type": "code",
   "execution_count": 337,
   "id": "4d999dba-b0b6-4969-9ef9-a5dd2615d7d2",
   "metadata": {},
   "outputs": [],
   "source": [
    "# Business node features - these are the original features post scaling.\n",
    "# Include the target also - will be used to test the \"label trick\" in some future scripts\n",
    "features_business = comb_df[['LoanNr_ChkDgt', 'dset'] + imputer.features_out + ['target']] \\\n",
    "    .set_index('LoanNr_ChkDgt')\n",
    "features_business.to_parquet(Path(setup.temp_path).joinpath('10_DATA_graph_node_features_loans.parquet'))"
   ]
  },
  {
   "cell_type": "code",
   "execution_count": 338,
   "id": "8c380d15-a731-42ff-a7f9-c1e4b535ce59",
   "metadata": {},
   "outputs": [
    {
     "ename": "KeyError",
     "evalue": "'NAICS'",
     "output_type": "error",
     "traceback": [
      "\u001b[0;31m---------------------------------------------------------------------------\u001b[0m",
      "\u001b[0;31mKeyError\u001b[0m                                  Traceback (most recent call last)",
      "File \u001b[0;32m~/miniconda3/envs/tf_p38/lib/python3.8/site-packages/pandas/core/indexes/base.py:3653\u001b[0m, in \u001b[0;36mIndex.get_loc\u001b[0;34m(self, key)\u001b[0m\n\u001b[1;32m   3652\u001b[0m \u001b[38;5;28;01mtry\u001b[39;00m:\n\u001b[0;32m-> 3653\u001b[0m     \u001b[38;5;28;01mreturn\u001b[39;00m \u001b[38;5;28;43mself\u001b[39;49m\u001b[38;5;241;43m.\u001b[39;49m\u001b[43m_engine\u001b[49m\u001b[38;5;241;43m.\u001b[39;49m\u001b[43mget_loc\u001b[49m\u001b[43m(\u001b[49m\u001b[43mcasted_key\u001b[49m\u001b[43m)\u001b[49m\n\u001b[1;32m   3654\u001b[0m \u001b[38;5;28;01mexcept\u001b[39;00m \u001b[38;5;167;01mKeyError\u001b[39;00m \u001b[38;5;28;01mas\u001b[39;00m err:\n",
      "File \u001b[0;32m~/miniconda3/envs/tf_p38/lib/python3.8/site-packages/pandas/_libs/index.pyx:147\u001b[0m, in \u001b[0;36mpandas._libs.index.IndexEngine.get_loc\u001b[0;34m()\u001b[0m\n",
      "File \u001b[0;32m~/miniconda3/envs/tf_p38/lib/python3.8/site-packages/pandas/_libs/index.pyx:176\u001b[0m, in \u001b[0;36mpandas._libs.index.IndexEngine.get_loc\u001b[0;34m()\u001b[0m\n",
      "File \u001b[0;32mpandas/_libs/hashtable_class_helper.pxi:7080\u001b[0m, in \u001b[0;36mpandas._libs.hashtable.PyObjectHashTable.get_item\u001b[0;34m()\u001b[0m\n",
      "File \u001b[0;32mpandas/_libs/hashtable_class_helper.pxi:7088\u001b[0m, in \u001b[0;36mpandas._libs.hashtable.PyObjectHashTable.get_item\u001b[0;34m()\u001b[0m\n",
      "\u001b[0;31mKeyError\u001b[0m: 'NAICS'",
      "\nThe above exception was the direct cause of the following exception:\n",
      "\u001b[0;31mKeyError\u001b[0m                                  Traceback (most recent call last)",
      "Cell \u001b[0;32mIn[338], line 4\u001b[0m\n\u001b[1;32m      1\u001b[0m \u001b[38;5;66;03m# NAICS features - One hots, also the mean encodings\u001b[39;00m\n\u001b[1;32m      2\u001b[0m features_naics \u001b[38;5;241m=\u001b[39m comb_df[[\u001b[38;5;124m'\u001b[39m\u001b[38;5;124mNAICS_orig\u001b[39m\u001b[38;5;124m'\u001b[39m, \u001b[38;5;124m'\u001b[39m\u001b[38;5;124mmenc_NAICS\u001b[39m\u001b[38;5;124m'\u001b[39m, \u001b[38;5;124m'\u001b[39m\u001b[38;5;124mmenc_NAICS_sector\u001b[39m\u001b[38;5;124m'\u001b[39m] \u001b[38;5;241m+\u001b[39m [c \u001b[38;5;28;01mfor\u001b[39;00m c \u001b[38;5;129;01min\u001b[39;00m comb_df\u001b[38;5;241m.\u001b[39mcolumns \u001b[38;5;28;01mif\u001b[39;00m c\u001b[38;5;241m.\u001b[39mstartswith(\u001b[38;5;124m'\u001b[39m\u001b[38;5;124mNS__\u001b[39m\u001b[38;5;124m'\u001b[39m)]] \\\n\u001b[1;32m      3\u001b[0m     \u001b[38;5;241m.\u001b[39mdrop_duplicates()\n\u001b[0;32m----> 4\u001b[0m features_naics[\u001b[38;5;124m'\u001b[39m\u001b[38;5;124msource\u001b[39m\u001b[38;5;124m'\u001b[39m] \u001b[38;5;241m=\u001b[39m get_naics_index(\u001b[43mfeatures_naics\u001b[49m\u001b[43m[\u001b[49m\u001b[38;5;124;43m'\u001b[39;49m\u001b[38;5;124;43mNAICS\u001b[39;49m\u001b[38;5;124;43m'\u001b[39;49m\u001b[43m]\u001b[49m)\n\u001b[1;32m      5\u001b[0m features_naics\u001b[38;5;241m.\u001b[39mset_index(\u001b[38;5;124m'\u001b[39m\u001b[38;5;124msource\u001b[39m\u001b[38;5;124m'\u001b[39m, inplace\u001b[38;5;241m=\u001b[39m\u001b[38;5;28;01mTrue\u001b[39;00m) \n\u001b[1;32m      6\u001b[0m features_naics\u001b[38;5;241m.\u001b[39mdrop(columns\u001b[38;5;241m=\u001b[39m\u001b[38;5;124m'\u001b[39m\u001b[38;5;124mNAICS_orig\u001b[39m\u001b[38;5;124m'\u001b[39m, inplace\u001b[38;5;241m=\u001b[39m\u001b[38;5;28;01mTrue\u001b[39;00m) \n",
      "File \u001b[0;32m~/miniconda3/envs/tf_p38/lib/python3.8/site-packages/pandas/core/frame.py:3761\u001b[0m, in \u001b[0;36mDataFrame.__getitem__\u001b[0;34m(self, key)\u001b[0m\n\u001b[1;32m   3759\u001b[0m \u001b[38;5;28;01mif\u001b[39;00m \u001b[38;5;28mself\u001b[39m\u001b[38;5;241m.\u001b[39mcolumns\u001b[38;5;241m.\u001b[39mnlevels \u001b[38;5;241m>\u001b[39m \u001b[38;5;241m1\u001b[39m:\n\u001b[1;32m   3760\u001b[0m     \u001b[38;5;28;01mreturn\u001b[39;00m \u001b[38;5;28mself\u001b[39m\u001b[38;5;241m.\u001b[39m_getitem_multilevel(key)\n\u001b[0;32m-> 3761\u001b[0m indexer \u001b[38;5;241m=\u001b[39m \u001b[38;5;28;43mself\u001b[39;49m\u001b[38;5;241;43m.\u001b[39;49m\u001b[43mcolumns\u001b[49m\u001b[38;5;241;43m.\u001b[39;49m\u001b[43mget_loc\u001b[49m\u001b[43m(\u001b[49m\u001b[43mkey\u001b[49m\u001b[43m)\u001b[49m\n\u001b[1;32m   3762\u001b[0m \u001b[38;5;28;01mif\u001b[39;00m is_integer(indexer):\n\u001b[1;32m   3763\u001b[0m     indexer \u001b[38;5;241m=\u001b[39m [indexer]\n",
      "File \u001b[0;32m~/miniconda3/envs/tf_p38/lib/python3.8/site-packages/pandas/core/indexes/base.py:3655\u001b[0m, in \u001b[0;36mIndex.get_loc\u001b[0;34m(self, key)\u001b[0m\n\u001b[1;32m   3653\u001b[0m     \u001b[38;5;28;01mreturn\u001b[39;00m \u001b[38;5;28mself\u001b[39m\u001b[38;5;241m.\u001b[39m_engine\u001b[38;5;241m.\u001b[39mget_loc(casted_key)\n\u001b[1;32m   3654\u001b[0m \u001b[38;5;28;01mexcept\u001b[39;00m \u001b[38;5;167;01mKeyError\u001b[39;00m \u001b[38;5;28;01mas\u001b[39;00m err:\n\u001b[0;32m-> 3655\u001b[0m     \u001b[38;5;28;01mraise\u001b[39;00m \u001b[38;5;167;01mKeyError\u001b[39;00m(key) \u001b[38;5;28;01mfrom\u001b[39;00m \u001b[38;5;21;01merr\u001b[39;00m\n\u001b[1;32m   3656\u001b[0m \u001b[38;5;28;01mexcept\u001b[39;00m \u001b[38;5;167;01mTypeError\u001b[39;00m:\n\u001b[1;32m   3657\u001b[0m     \u001b[38;5;66;03m# If we have a listlike key, _check_indexing_error will raise\u001b[39;00m\n\u001b[1;32m   3658\u001b[0m     \u001b[38;5;66;03m#  InvalidIndexError. Otherwise we fall through and re-raise\u001b[39;00m\n\u001b[1;32m   3659\u001b[0m     \u001b[38;5;66;03m#  the TypeError.\u001b[39;00m\n\u001b[1;32m   3660\u001b[0m     \u001b[38;5;28mself\u001b[39m\u001b[38;5;241m.\u001b[39m_check_indexing_error(key)\n",
      "\u001b[0;31mKeyError\u001b[0m: 'NAICS'"
     ]
    }
   ],
   "source": [
    "# NAICS features - One hots, also the mean encodings\n",
    "features_naics = comb_df[['NAICS_orig', 'menc_NAICS', 'menc_NAICS_sector'] + [c for c in comb_df.columns if c.startswith('NS__')]] \\\n",
    "    .drop_duplicates()\n",
    "features_naics['source'] = get_naics_index(features_naics['NAICS'])\n",
    "features_naics.set_index('source', inplace=True) \n",
    "features_naics.drop(columns='NAICS_orig', inplace=True) \n",
    "print(features_naics.shape)\n",
    "features_naics.to_parquet(Path(setup.temp_path).joinpath('10_DATA_graph_node_features_naics.parquet'))"
   ]
  },
  {
   "cell_type": "markdown",
   "id": "7d20a82f-b395-4b60-a50a-b48127cd3442",
   "metadata": {},
   "source": [
    "## Label Data\n",
    "Split the training data set - used for some \"label trick\" tests later"
   ]
  },
  {
   "cell_type": "code",
   "execution_count": null,
   "id": "a0dccbed-7f90-4f2c-a5d6-12b5b613ce34",
   "metadata": {},
   "outputs": [],
   "source": [
    "label_df = comb_df[['dset', 'dset_naics_holdout', 'LoanNr_ChkDgt', 'target']].set_index('LoanNr_ChkDgt')"
   ]
  },
  {
   "cell_type": "code",
   "execution_count": null,
   "id": "d1d27618-a400-4fcd-965e-18bf5913fab4",
   "metadata": {},
   "outputs": [],
   "source": [
    "comb_df.columns"
   ]
  },
  {
   "cell_type": "code",
   "execution_count": null,
   "id": "07fd8cd8-3e42-4dbc-bdd9-a7f3b559f2de",
   "metadata": {},
   "outputs": [],
   "source": [
    "train_labels = label_df[label_df['dset'] == 'train'].drop(columns=['dset'])\n",
    "val_labels = label_df[label_df['dset'] == 'val'].drop(columns=['dset'])\n",
    "print(f'graph labels shape {label_df.shape}')\n",
    "print(f'train labels shape {train_labels.shape}')\n",
    "print(f'validation labels shape {val_labels.shape}')"
   ]
  },
  {
   "cell_type": "code",
   "execution_count": null,
   "id": "b2b3956b-5d53-4a9b-9841-cdb160e9cda0",
   "metadata": {},
   "outputs": [],
   "source": [
    "# Split train cases for testing\n",
    "train_fix, train_train = model_selection.train_test_split(\n",
    "    train_labels.index, train_size=0.7, stratify=train_labels, random_state=23432\n",
    ")"
   ]
  },
  {
   "cell_type": "code",
   "execution_count": null,
   "id": "6d6921db-7047-48b1-94d7-6fa00cd02943",
   "metadata": {},
   "outputs": [],
   "source": [
    "print(f'fixed part of train set {len(train_fix)}')\n",
    "print(f'train part of train set {len(train_train)}')"
   ]
  },
  {
   "cell_type": "code",
   "execution_count": null,
   "id": "ec42f7a2-5184-4f56-8704-ee3f42b8d7e6",
   "metadata": {},
   "outputs": [],
   "source": [
    "label_df.train_fix = None\n",
    "label_df.loc[train_fix, 'train_fix'] = 1\n",
    "label_df['train_fix'].fillna(0, inplace=True)"
   ]
  },
  {
   "cell_type": "code",
   "execution_count": null,
   "id": "af454854-200a-433a-a029-d000dfa95429",
   "metadata": {},
   "outputs": [],
   "source": [
    "label_df['train_fix'].value_counts()"
   ]
  },
  {
   "cell_type": "code",
   "execution_count": null,
   "id": "f28ccc45-61c8-4390-b7d0-fd9e31e3c651",
   "metadata": {},
   "outputs": [],
   "source": [
    "len(set(list(train_fix)))"
   ]
  },
  {
   "cell_type": "code",
   "execution_count": null,
   "id": "14bbaa49-a447-435c-b911-4c5e84378ea7",
   "metadata": {},
   "outputs": [],
   "source": [
    "label_df.to_parquet(Path(setup.temp_path).joinpath('10_DATA_label_info.parquet'))"
   ]
  },
  {
   "cell_type": "code",
   "execution_count": null,
   "id": "0c53e575-f97f-4906-906c-797bc4c006fa",
   "metadata": {},
   "outputs": [],
   "source": [
    "label_df.loc[train_fix].shape"
   ]
  },
  {
   "cell_type": "code",
   "execution_count": null,
   "id": "f5bde9bb-8050-4a22-9504-2c41e2ccd5de",
   "metadata": {},
   "outputs": [],
   "source": [
    "label_df.head()"
   ]
  },
  {
   "cell_type": "code",
   "execution_count": null,
   "id": "69c5cc82-f970-457c-b0f5-f8a42b6d43e5",
   "metadata": {},
   "outputs": [],
   "source": []
  },
  {
   "cell_type": "code",
   "execution_count": null,
   "id": "b993beb1-990e-4e87-b0fa-76e01ee8ef82",
   "metadata": {},
   "outputs": [],
   "source": []
  }
 ],
 "metadata": {
  "kernelspec": {
   "display_name": "tf_p39",
   "language": "python",
   "name": "tf_p39"
  },
  "language_info": {
   "codemirror_mode": {
    "name": "ipython",
    "version": 3
   },
   "file_extension": ".py",
   "mimetype": "text/x-python",
   "name": "python",
   "nbconvert_exporter": "python",
   "pygments_lexer": "ipython3",
   "version": "3.8.18"
  }
 },
 "nbformat": 4,
 "nbformat_minor": 5
}
