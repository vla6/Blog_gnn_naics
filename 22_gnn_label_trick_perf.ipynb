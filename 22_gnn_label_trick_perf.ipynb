{
 "cells": [
  {
   "cell_type": "code",
   "execution_count": 69,
   "id": "71f23355-0adf-4816-816a-d1484a9f5ef3",
   "metadata": {},
   "outputs": [],
   "source": [
    "# Modify the file 00_setup.py to define input/output file paths on your system\n",
    "# The information in 00_setup.py will be used across notebooks\n",
    "from importlib.machinery import SourceFileLoader\n",
    "setup = SourceFileLoader(\"setup\", \"./00_setup.py\").load_module()"
   ]
  },
  {
   "cell_type": "markdown",
   "id": "ea02c559-4f56-4b1e-8082-1fc224ee5547",
   "metadata": {},
   "source": [
    "# 22. Label Trick GNN Metrics "
   ]
  },
  {
   "cell_type": "markdown",
   "id": "8afaa76d-e25e-4844-9d51-f8c9c165e9b9",
   "metadata": {},
   "source": [
    "For the model created in the last script, get predictions and metrics / performance information.  Focus on the unseen \"test\" data.  Use sklearn metrics to ensure comparability with XGBoost metrics"
   ]
  },
  {
   "cell_type": "markdown",
   "id": "76c78249-a4dc-4a76-ad81-b03f883f92a6",
   "metadata": {},
   "source": [
    "Implementation notes:\n",
    "  * To visualize the keras model, I had to \"conda install\" pydot and graphviz in my virtual environment. \n",
    "  * Model is saved/loaded in tensorflow format.  This is to workaround an issue with Keras format, https://github.com/tensorflow/tensorflow/issues/46659"
   ]
  },
  {
   "cell_type": "markdown",
   "id": "ac90ebeb-0716-4b01-b280-e0e32174d63f",
   "metadata": {},
   "source": [
    "*This script takes about 2 hours on my MacBook Air*"
   ]
  },
  {
   "cell_type": "code",
   "execution_count": 2,
   "id": "da2389b6-b2db-4a6f-a99a-c5bec6b75739",
   "metadata": {},
   "outputs": [],
   "source": [
    "import pandas as pd\n",
    "import numpy as np"
   ]
  },
  {
   "cell_type": "code",
   "execution_count": 3,
   "id": "6c3cb412-131c-42a8-8432-b67eb47c26a5",
   "metadata": {},
   "outputs": [],
   "source": [
    "from pathlib import Path\n",
    "import importlib, pickle\n",
    "from contextlib import redirect_stdout\n",
    "from scikitplot.metrics import plot_lift_curve\n",
    "import matplotlib.pyplot as plt"
   ]
  },
  {
   "cell_type": "code",
   "execution_count": 4,
   "id": "06e862f5-fdc4-4b2d-a13d-1a64f0367d44",
   "metadata": {},
   "outputs": [
    {
     "name": "stderr",
     "output_type": "stream",
     "text": [
      "2023-12-26 12:58:07.066449: I metal_plugin/src/device/metal_device.cc:1154] Metal device set to: Apple M1\n",
      "2023-12-26 12:58:07.066474: I metal_plugin/src/device/metal_device.cc:296] systemMemory: 16.00 GB\n",
      "2023-12-26 12:58:07.066482: I metal_plugin/src/device/metal_device.cc:313] maxCacheSize: 5.33 GB\n",
      "2023-12-26 12:58:07.066516: I tensorflow/core/common_runtime/pluggable_device/pluggable_device_factory.cc:303] Could not identify NUMA node of platform GPU ID 0, defaulting to 0. Your kernel may not have been built with NUMA support.\n",
      "2023-12-26 12:58:07.066534: I tensorflow/core/common_runtime/pluggable_device/pluggable_device_factory.cc:269] Created TensorFlow device (/job:localhost/replica:0/task:0/device:GPU:0 with 0 MB memory) -> physical PluggableDevice (device: 0, name: METAL, pci bus id: <undefined>)\n"
     ]
    }
   ],
   "source": [
    "from stellargraph import StellarGraph\n",
    "import stellargraph as sg\n",
    "import keras\n",
    "from stellargraph.layer import HinSAGE, MeanHinAggregator\n",
    "from stellargraph.mapper import HinSAGENodeGenerator\n",
    "\n",
    "from tensorflow.keras import layers, optimizers, losses, metrics, Model\n",
    "from sklearn import preprocessing, feature_extraction, model_selection\n",
    "\n",
    "import tensorflow.keras.metrics as km\n",
    "from keras.utils import plot_model\n",
    "from keras import initializers\n",
    "import tensorflow as tf"
   ]
  },
  {
   "cell_type": "code",
   "execution_count": 5,
   "id": "1816ed7c-b92b-4fb3-871a-098b97f69e85",
   "metadata": {},
   "outputs": [],
   "source": [
    "from sba_gnn.sba_gnn import sg_gnn, sg_plot "
   ]
  },
  {
   "cell_type": "markdown",
   "id": "8c682464-9aad-4f25-87c6-8845349a5eb4",
   "metadata": {},
   "source": [
    "## Import Data"
   ]
  },
  {
   "cell_type": "markdown",
   "id": "f90bea53-352d-4491-accc-26b7b170565a",
   "metadata": {},
   "source": [
    "##### Stellargraphs - all data, test only data"
   ]
  },
  {
   "cell_type": "code",
   "execution_count": 6,
   "id": "d36ccbc1-3fe9-40e6-8872-55c9c53913c0",
   "metadata": {},
   "outputs": [],
   "source": [
    "# All clients - focus on test metrics but other nodes needed for flow\n",
    "with open(Path(setup.temp_path).joinpath('20_DATA_stellargraph_all.pkl'), 'rb') as fin:\n",
    "      sba_all  = pickle.load(fin)"
   ]
  },
  {
   "cell_type": "code",
   "execution_count": 7,
   "id": "e16d1926-f665-4964-aecf-cb2a43eb4e5c",
   "metadata": {},
   "outputs": [],
   "source": [
    "labels_all = pd.read_parquet(Path(setup.temp_path).joinpath('10_DATA_label_info.parquet'))"
   ]
  },
  {
   "cell_type": "code",
   "execution_count": 8,
   "id": "a17754be-b947-4d60-b4c5-2bd73d350af4",
   "metadata": {},
   "outputs": [],
   "source": [
    "# Test only cases - expect much worse performance on this set\n",
    "with open(Path(setup.temp_path).joinpath('20_DATA_stellargraph_test.pkl'), 'rb') as fin:\n",
    "      sba_test  = pickle.load(fin)"
   ]
  },
  {
   "cell_type": "code",
   "execution_count": 9,
   "id": "ad8c9355-f8b8-40d6-a6c6-5fbb70c72fbd",
   "metadata": {},
   "outputs": [],
   "source": [
    "labels_test = pd.read_parquet(Path(setup.temp_path).joinpath('11_DATA_labels_test.parquet'))"
   ]
  },
  {
   "cell_type": "markdown",
   "id": "2f4f3398-0503-4b8a-a1c6-5d624d0c8341",
   "metadata": {},
   "source": [
    "##### Model"
   ]
  },
  {
   "cell_type": "code",
   "execution_count": 11,
   "id": "4001c904-5014-4826-adcf-33508323e6b6",
   "metadata": {},
   "outputs": [
    {
     "name": "stderr",
     "output_type": "stream",
     "text": [
      "/Users/valeriecarey/miniconda3/envs/tf_p38/lib/python3.8/site-packages/keras/src/initializers/initializers.py:120: UserWarning: The initializer GlorotUniform is unseeded and being called multiple times, which will return identical values each time (even if the initializer is unseeded). Please update your code to provide a seed to the initializer, or avoid using the same initializer instance more than once.\n",
      "  warnings.warn(\n"
     ]
    }
   ],
   "source": [
    "model = keras.models.load_model(Path(setup.temp_path).joinpath('21_DATA_model.keras'),\n",
    "                               safe_mode=False,\n",
    "                               custom_objects={'MeanHinAggregator':MeanHinAggregator})"
   ]
  },
  {
   "cell_type": "markdown",
   "id": "f825908f-1703-429c-89f4-929d25a79996",
   "metadata": {},
   "source": [
    "## Model Info\n",
    "Print and save some information about the model layers (summary and plot)"
   ]
  },
  {
   "cell_type": "code",
   "execution_count": 12,
   "id": "5a2cc460-4f1e-49eb-9199-3fe732a0de6d",
   "metadata": {},
   "outputs": [
    {
     "name": "stdout",
     "output_type": "stream",
     "text": [
      "Model: \"model\"\n",
      "__________________________________________________________________________________________________\n",
      " Layer (type)                Output Shape                 Param #   Connected to                  \n",
      "==================================================================================================\n",
      " input_4 (InputLayer)        [(None, 200, 11)]            0         []                            \n",
      "                                                                                                  \n",
      " input_5 (InputLayer)        [(None, 200, 11)]            0         []                            \n",
      "                                                                                                  \n",
      " input_6 (InputLayer)        [(None, 200, 11)]            0         []                            \n",
      "                                                                                                  \n",
      " input_7 (InputLayer)        [(None, 200, 11)]            0         []                            \n",
      "                                                                                                  \n",
      " input_2 (InputLayer)        [(None, 10, 9)]              0         []                            \n",
      "                                                                                                  \n",
      " input_3 (InputLayer)        [(None, 10, 9)]              0         []                            \n",
      "                                                                                                  \n",
      " reshape_2 (Reshape)         (None, 10, 20, 11)           0         ['input_4[0][0]']             \n",
      "                                                                                                  \n",
      " reshape_3 (Reshape)         (None, 10, 20, 11)           0         ['input_5[0][0]']             \n",
      "                                                                                                  \n",
      " reshape_4 (Reshape)         (None, 10, 20, 11)           0         ['input_6[0][0]']             \n",
      "                                                                                                  \n",
      " reshape_5 (Reshape)         (None, 10, 20, 11)           0         ['input_7[0][0]']             \n",
      "                                                                                                  \n",
      " input_1 (InputLayer)        [(None, 1, 11)]              0         []                            \n",
      "                                                                                                  \n",
      " reshape (Reshape)           (None, 1, 10, 9)             0         ['input_2[0][0]']             \n",
      "                                                                                                  \n",
      " reshape_1 (Reshape)         (None, 1, 10, 9)             0         ['input_3[0][0]']             \n",
      "                                                                                                  \n",
      " dropout_5 (Dropout)         (None, 10, 9)                0         ['input_2[0][0]']             \n",
      "                                                                                                  \n",
      " dropout_3 (Dropout)         (None, 10, 20, 11)           0         ['reshape_2[0][0]']           \n",
      "                                                                                                  \n",
      " dropout_4 (Dropout)         (None, 10, 20, 11)           0         ['reshape_3[0][0]']           \n",
      "                                                                                                  \n",
      " dropout_8 (Dropout)         (None, 10, 9)                0         ['input_3[0][0]']             \n",
      "                                                                                                  \n",
      " dropout_6 (Dropout)         (None, 10, 20, 11)           0         ['reshape_4[0][0]']           \n",
      "                                                                                                  \n",
      " dropout_7 (Dropout)         (None, 10, 20, 11)           0         ['reshape_5[0][0]']           \n",
      "                                                                                                  \n",
      " dropout_2 (Dropout)         (None, 1, 11)                0         ['input_1[0][0]']             \n",
      "                                                                                                  \n",
      " dropout (Dropout)           (None, 1, 10, 9)             0         ['reshape[0][0]']             \n",
      "                                                                                                  \n",
      " dropout_1 (Dropout)         (None, 1, 10, 9)             0         ['reshape_1[0][0]']           \n",
      "                                                                                                  \n",
      " mean_hin_aggregator_1 (Mea  (None, 10, 8)                132       ['dropout_5[0][0]',           \n",
      " nHinAggregator)                                                     'dropout_3[0][0]',           \n",
      "                                                                     'dropout_4[0][0]',           \n",
      "                                                                     'dropout_8[0][0]',           \n",
      "                                                                     'dropout_6[0][0]',           \n",
      "                                                                     'dropout_7[0][0]']           \n",
      "                                                                                                  \n",
      " mean_hin_aggregator (MeanH  (None, 1, 8)                 124       ['dropout_2[0][0]',           \n",
      " inAggregator)                                                       'dropout[0][0]',             \n",
      "                                                                     'dropout_1[0][0]']           \n",
      "                                                                                                  \n",
      " reshape_6 (Reshape)         (None, 1, 10, 8)             0         ['mean_hin_aggregator_1[0][0]'\n",
      "                                                                    ]                             \n",
      "                                                                                                  \n",
      " reshape_7 (Reshape)         (None, 1, 10, 8)             0         ['mean_hin_aggregator_1[1][0]'\n",
      "                                                                    ]                             \n",
      "                                                                                                  \n",
      " dropout_11 (Dropout)        (None, 1, 8)                 0         ['mean_hin_aggregator[0][0]'] \n",
      "                                                                                                  \n",
      " dropout_9 (Dropout)         (None, 1, 10, 8)             0         ['reshape_6[0][0]']           \n",
      "                                                                                                  \n",
      " dropout_10 (Dropout)        (None, 1, 10, 8)             0         ['reshape_7[0][0]']           \n",
      "                                                                                                  \n",
      " mean_hin_aggregator_2 (Mea  (None, 1, 8)                 104       ['dropout_11[0][0]',          \n",
      " nHinAggregator)                                                     'dropout_9[0][0]',           \n",
      "                                                                     'dropout_10[0][0]']          \n",
      "                                                                                                  \n",
      " reshape_8 (Reshape)         (None, 8)                    0         ['mean_hin_aggregator_2[0][0]'\n",
      "                                                                    ]                             \n",
      "                                                                                                  \n",
      " lambda (Lambda)             (None, 8)                    0         ['reshape_8[0][0]']           \n",
      "                                                                                                  \n",
      " dense (Dense)               (None, 1)                    9         ['lambda[0][0]']              \n",
      "                                                                                                  \n",
      "==================================================================================================\n",
      "Total params: 369 (1.44 KB)\n",
      "Trainable params: 369 (1.44 KB)\n",
      "Non-trainable params: 0 (0.00 Byte)\n",
      "__________________________________________________________________________________________________\n"
     ]
    }
   ],
   "source": [
    "with open(Path(setup.temp_path).joinpath('22_REPORT_model_summary.txt'), \"w\") as f:\n",
    "    with redirect_stdout(f):\n",
    "        print(model.summary())\n",
    "model.summary()"
   ]
  },
  {
   "cell_type": "code",
   "execution_count": 13,
   "id": "eef1fbaa-3f43-47cd-9051-7a8cce610be0",
   "metadata": {},
   "outputs": [
    {
     "data": {
      "image/png": "[encoded data removed]",
      "text/plain": [
       "<IPython.core.display.Image object>"
      ]
     },
     "execution_count": 13,
     "metadata": {},
     "output_type": "execute_result"
    }
   ],
   "source": [
    "plot_model(model, Path(setup.temp_path).joinpath('22_model_plot_simp.png'))"
   ]
  },
  {
   "cell_type": "markdown",
   "id": "52240d59-3c86-4004-9833-ed3cf454af92",
   "metadata": {},
   "source": [
    "The 2-hop model has three MeanHinAggregator layers, likely reflecting the 2 edge types."
   ]
  },
  {
   "cell_type": "code",
   "execution_count": 14,
   "id": "2339b1f7-7610-4325-b608-9148aab72485",
   "metadata": {},
   "outputs": [],
   "source": [
    "%%capture\n",
    "plot_model(model, to_file=Path(setup.temp_path).joinpath('22_model_plot_with_shapes.png'),\n",
    "          show_shapes=True)"
   ]
  },
  {
   "cell_type": "markdown",
   "id": "8d349f89-0e6f-4877-b9df-5ebd69463f82",
   "metadata": {
    "tags": []
   },
   "source": [
    "## Graph Containing All Nodes\n",
    "Get predictions and metrics"
   ]
  },
  {
   "cell_type": "markdown",
   "id": "d5b9ec06-f278-40ca-ba82-6a99ecba9e72",
   "metadata": {},
   "source": [
    "##### Get generator and predict for all nodes (train, validation, test)"
   ]
  },
  {
   "cell_type": "code",
   "execution_count": 15,
   "id": "8c53ff25-c506-4e4c-85c3-852080bd823a",
   "metadata": {},
   "outputs": [],
   "source": [
    "generator = HinSAGENodeGenerator(sba_all, batch_size=setup.gnn_batch_size, \n",
    "                                 num_samples=setup.gnn_num_samples, \n",
    "                                 head_node_type='LoanNr_ChkDgt',\n",
    "                                 seed=34)"
   ]
  },
  {
   "cell_type": "code",
   "execution_count": 16,
   "id": "6ee06987-be8e-4745-baf5-a7a14caf5439",
   "metadata": {},
   "outputs": [],
   "source": [
    "all_flow = generator.flow(labels_all.index, labels_all['target'], shuffle=False)"
   ]
  },
  {
   "cell_type": "code",
   "execution_count": 17,
   "id": "d356d8ac-0d91-4666-b444-215141bf0721",
   "metadata": {},
   "outputs": [],
   "source": [
    "tf.random.set_seed(16)\n",
    "keras.utils.set_random_seed(812)\n",
    "sg.random.set_seed(4345)"
   ]
  },
  {
   "cell_type": "code",
   "execution_count": 18,
   "id": "9f532a6e-13fe-444b-aeb6-14d89cace6a3",
   "metadata": {},
   "outputs": [
    {
     "name": "stderr",
     "output_type": "stream",
     "text": [
      "2023-12-26 13:00:44.392213: I tensorflow/core/grappler/optimizers/custom_graph_optimizer_registry.cc:114] Plugin optimizer for device_type GPU is enabled.\n"
     ]
    },
    {
     "name": "stdout",
     "output_type": "stream",
     "text": [
      "6881/6881 [==============================] - 4100s 596ms/step\n"
     ]
    }
   ],
   "source": [
    "all_predictions = model.predict(all_flow)"
   ]
  },
  {
   "cell_type": "code",
   "execution_count": 19,
   "id": "44bbf32c-9e55-42d8-8098-7d39dd8523cd",
   "metadata": {},
   "outputs": [
    {
     "data": {
      "text/plain": [
       "(688081, 1)"
      ]
     },
     "execution_count": 19,
     "metadata": {},
     "output_type": "execute_result"
    }
   ],
   "source": [
    "all_predictions.shape"
   ]
  },
  {
   "cell_type": "code",
   "execution_count": 20,
   "id": "6466d65c-b262-4c01-973c-b8a308743988",
   "metadata": {},
   "outputs": [
    {
     "data": {
      "text/plain": [
       "LoanNr_ChkDgt\n",
       "5282874009    0.094068\n",
       "2568556001    0.132672\n",
       "2687465005    0.119729\n",
       "9174473001    0.114811\n",
       "3598634004    0.167767\n",
       "                ...   \n",
       "1533475000    0.274077\n",
       "2597975001    0.304815\n",
       "4381063007    0.139652\n",
       "6010603003    0.107774\n",
       "3215386008    0.195221\n",
       "Length: 688081, dtype: float32"
      ]
     },
     "execution_count": 20,
     "metadata": {},
     "output_type": "execute_result"
    }
   ],
   "source": [
    "pd.Series(all_predictions[:,0], index=labels_all.index)"
   ]
  },
  {
   "cell_type": "code",
   "execution_count": 52,
   "id": "ca6148a4-9119-4f8b-bb10-b805d3c01f34",
   "metadata": {},
   "outputs": [],
   "source": [
    "all_pred_df = pd.concat([pd.Series(all_predictions[:,0], index=labels_all.index).rename('predict_prob'),\n",
    "                         labels_all], axis=1) \\\n",
    "    .reset_index()"
   ]
  },
  {
   "cell_type": "code",
   "execution_count": 53,
   "id": "cca72b8c-212e-4486-ae02-7d431c7da9bb",
   "metadata": {},
   "outputs": [
    {
     "data": {
      "text/html": [
       "<div>\n",
       "<style scoped>\n",
       "    .dataframe tbody tr th:only-of-type {\n",
       "        vertical-align: middle;\n",
       "    }\n",
       "\n",
       "    .dataframe tbody tr th {\n",
       "        vertical-align: top;\n",
       "    }\n",
       "\n",
       "    .dataframe thead th {\n",
       "        text-align: right;\n",
       "    }\n",
       "</style>\n",
       "<table border=\"1\" class=\"dataframe\">\n",
       "  <thead>\n",
       "    <tr style=\"text-align: right;\">\n",
       "      <th></th>\n",
       "      <th>LoanNr_ChkDgt</th>\n",
       "      <th>predict_prob</th>\n",
       "      <th>dset</th>\n",
       "      <th>target</th>\n",
       "      <th>train_fix</th>\n",
       "    </tr>\n",
       "  </thead>\n",
       "  <tbody>\n",
       "    <tr>\n",
       "      <th>0</th>\n",
       "      <td>5282874009</td>\n",
       "      <td>0.094068</td>\n",
       "      <td>train</td>\n",
       "      <td>0</td>\n",
       "      <td>0</td>\n",
       "    </tr>\n",
       "    <tr>\n",
       "      <th>1</th>\n",
       "      <td>2568556001</td>\n",
       "      <td>0.132672</td>\n",
       "      <td>train</td>\n",
       "      <td>0</td>\n",
       "      <td>0</td>\n",
       "    </tr>\n",
       "    <tr>\n",
       "      <th>2</th>\n",
       "      <td>2687465005</td>\n",
       "      <td>0.119729</td>\n",
       "      <td>train</td>\n",
       "      <td>1</td>\n",
       "      <td>0</td>\n",
       "    </tr>\n",
       "  </tbody>\n",
       "</table>\n",
       "</div>"
      ],
      "text/plain": [
       "  LoanNr_ChkDgt  predict_prob   dset  target  train_fix\n",
       "0    5282874009      0.094068  train       0          0\n",
       "1    2568556001      0.132672  train       0          0\n",
       "2    2687465005      0.119729  train       1          0"
      ]
     },
     "execution_count": 53,
     "metadata": {},
     "output_type": "execute_result"
    }
   ],
   "source": [
    "all_pred_df.head(3)"
   ]
  },
  {
   "cell_type": "markdown",
   "id": "e717d33b-13a8-43dd-8a7c-4b34fa2811e8",
   "metadata": {},
   "source": [
    "## Threshold Tune & Binary Predictions\n",
    "Using training probability predictions"
   ]
  },
  {
   "cell_type": "code",
   "execution_count": 54,
   "id": "ccd0bc23-fbc0-40d0-8d8b-f2302405a875",
   "metadata": {},
   "outputs": [],
   "source": [
    "all_pred_train = all_pred_df[all_pred_df['dset'] == 'train']"
   ]
  },
  {
   "cell_type": "code",
   "execution_count": 55,
   "id": "df36d9e9-f35e-46b3-a5be-08081f998319",
   "metadata": {},
   "outputs": [],
   "source": [
    "thresh_tune_data = sg_plot.get_f1_frame(all_pred_train['target'], \n",
    "                                        all_pred_train['predict_prob'])"
   ]
  },
  {
   "cell_type": "code",
   "execution_count": 56,
   "id": "de634156-caf6-4a52-b5d7-44b8e986aa1d",
   "metadata": {},
   "outputs": [
    {
     "data": {
      "text/html": [
       "<div>\n",
       "<style scoped>\n",
       "    .dataframe tbody tr th:only-of-type {\n",
       "        vertical-align: middle;\n",
       "    }\n",
       "\n",
       "    .dataframe tbody tr th {\n",
       "        vertical-align: top;\n",
       "    }\n",
       "\n",
       "    .dataframe thead th {\n",
       "        text-align: right;\n",
       "    }\n",
       "</style>\n",
       "<table border=\"1\" class=\"dataframe\">\n",
       "  <thead>\n",
       "    <tr style=\"text-align: right;\">\n",
       "      <th></th>\n",
       "      <th>thresh</th>\n",
       "      <th>f1</th>\n",
       "    </tr>\n",
       "  </thead>\n",
       "  <tbody>\n",
       "    <tr>\n",
       "      <th>9</th>\n",
       "      <td>0.18</td>\n",
       "      <td>0.379451</td>\n",
       "    </tr>\n",
       "    <tr>\n",
       "      <th>8</th>\n",
       "      <td>0.16</td>\n",
       "      <td>0.378586</td>\n",
       "    </tr>\n",
       "    <tr>\n",
       "      <th>10</th>\n",
       "      <td>0.20</td>\n",
       "      <td>0.377338</td>\n",
       "    </tr>\n",
       "  </tbody>\n",
       "</table>\n",
       "</div>"
      ],
      "text/plain": [
       "    thresh        f1\n",
       "9     0.18  0.379451\n",
       "8     0.16  0.378586\n",
       "10    0.20  0.377338"
      ]
     },
     "execution_count": 56,
     "metadata": {},
     "output_type": "execute_result"
    }
   ],
   "source": [
    "thresh_tune_data.sort_values('f1', ascending=False, inplace=True)\n",
    "thresh_tune_data.head(3)"
   ]
  },
  {
   "cell_type": "code",
   "execution_count": 57,
   "id": "c746b880-d781-4bc1-9df2-89211127c22a",
   "metadata": {},
   "outputs": [
    {
     "data": {
      "text/plain": [
       "0.18"
      ]
     },
     "execution_count": 57,
     "metadata": {},
     "output_type": "execute_result"
    }
   ],
   "source": [
    "best_thresh = thresh_tune_data['thresh'].iloc[0]\n",
    "best_thresh"
   ]
  },
  {
   "cell_type": "markdown",
   "id": "76be971a-78b4-4328-968b-82ac1169b43f",
   "metadata": {},
   "source": [
    "##### Append binary predictions to probability predictions"
   ]
  },
  {
   "cell_type": "code",
   "execution_count": 58,
   "id": "641da72e-1bca-4fe7-96c4-6c029b521bd7",
   "metadata": {},
   "outputs": [],
   "source": [
    "all_pred_df['predict_bin'] = sg_plot.get_binary_predictions(all_pred_df['predict_prob'], best_thresh)"
   ]
  },
  {
   "cell_type": "code",
   "execution_count": 59,
   "id": "9f6ecdf4-ac01-4c39-8315-e8583daa337e",
   "metadata": {},
   "outputs": [
    {
     "data": {
      "text/plain": [
       "predict_bin\n",
       "1    0.59608\n",
       "0    0.40392\n",
       "Name: proportion, dtype: float64"
      ]
     },
     "execution_count": 59,
     "metadata": {},
     "output_type": "execute_result"
    }
   ],
   "source": [
    "all_pred_df['predict_bin'].value_counts(normalize=True, dropna=False)"
   ]
  },
  {
   "cell_type": "code",
   "execution_count": 60,
   "id": "da47e98b-16a2-4db9-bf5a-cd1f20ef72d4",
   "metadata": {},
   "outputs": [],
   "source": [
    "#all_pred_df = all_pred_df.merge(labels_all.reset_index(), on='LoanNr_ChkDgt')"
   ]
  },
  {
   "cell_type": "code",
   "execution_count": 61,
   "id": "1d0ecde8-92ea-43bd-af53-a725ae32252b",
   "metadata": {},
   "outputs": [],
   "source": [
    "all_pred_df.to_parquet(Path(setup.temp_path).joinpath('22_DATA_predictions_all.parquet'))"
   ]
  },
  {
   "cell_type": "code",
   "execution_count": 62,
   "id": "77980132-4c08-4704-bcf8-0eb8cb9b910d",
   "metadata": {},
   "outputs": [
    {
     "data": {
      "text/html": [
       "<div>\n",
       "<style scoped>\n",
       "    .dataframe tbody tr th:only-of-type {\n",
       "        vertical-align: middle;\n",
       "    }\n",
       "\n",
       "    .dataframe tbody tr th {\n",
       "        vertical-align: top;\n",
       "    }\n",
       "\n",
       "    .dataframe thead th {\n",
       "        text-align: right;\n",
       "    }\n",
       "</style>\n",
       "<table border=\"1\" class=\"dataframe\">\n",
       "  <thead>\n",
       "    <tr style=\"text-align: right;\">\n",
       "      <th></th>\n",
       "      <th>LoanNr_ChkDgt</th>\n",
       "      <th>predict_prob</th>\n",
       "      <th>dset</th>\n",
       "      <th>target</th>\n",
       "      <th>train_fix</th>\n",
       "      <th>predict_bin</th>\n",
       "    </tr>\n",
       "  </thead>\n",
       "  <tbody>\n",
       "    <tr>\n",
       "      <th>502508</th>\n",
       "      <td>7509974009</td>\n",
       "      <td>0.186718</td>\n",
       "      <td>test</td>\n",
       "      <td>1</td>\n",
       "      <td>0</td>\n",
       "      <td>1</td>\n",
       "    </tr>\n",
       "    <tr>\n",
       "      <th>12963</th>\n",
       "      <td>2056634005</td>\n",
       "      <td>0.055979</td>\n",
       "      <td>train</td>\n",
       "      <td>0</td>\n",
       "      <td>0</td>\n",
       "      <td>0</td>\n",
       "    </tr>\n",
       "    <tr>\n",
       "      <th>35411</th>\n",
       "      <td>6391724003</td>\n",
       "      <td>0.350651</td>\n",
       "      <td>train</td>\n",
       "      <td>0</td>\n",
       "      <td>0</td>\n",
       "      <td>1</td>\n",
       "    </tr>\n",
       "  </tbody>\n",
       "</table>\n",
       "</div>"
      ],
      "text/plain": [
       "       LoanNr_ChkDgt  predict_prob   dset  target  train_fix  predict_bin\n",
       "502508    7509974009      0.186718   test       1          0            1\n",
       "12963     2056634005      0.055979  train       0          0            0\n",
       "35411     6391724003      0.350651  train       0          0            1"
      ]
     },
     "execution_count": 62,
     "metadata": {},
     "output_type": "execute_result"
    }
   ],
   "source": [
    "all_pred_df.sample(3)"
   ]
  },
  {
   "cell_type": "code",
   "execution_count": 63,
   "id": "800ce59f-7201-4474-809f-94920700d2f8",
   "metadata": {},
   "outputs": [
    {
     "data": {
      "text/html": [
       "<div>\n",
       "<style scoped>\n",
       "    .dataframe tbody tr th:only-of-type {\n",
       "        vertical-align: middle;\n",
       "    }\n",
       "\n",
       "    .dataframe tbody tr th {\n",
       "        vertical-align: top;\n",
       "    }\n",
       "\n",
       "    .dataframe thead th {\n",
       "        text-align: right;\n",
       "    }\n",
       "</style>\n",
       "<table border=\"1\" class=\"dataframe\">\n",
       "  <thead>\n",
       "    <tr style=\"text-align: right;\">\n",
       "      <th>target</th>\n",
       "      <th>0</th>\n",
       "      <th>1</th>\n",
       "    </tr>\n",
       "    <tr>\n",
       "      <th>predict_bin</th>\n",
       "      <th></th>\n",
       "      <th></th>\n",
       "    </tr>\n",
       "  </thead>\n",
       "  <tbody>\n",
       "    <tr>\n",
       "      <th>0</th>\n",
       "      <td>244034</td>\n",
       "      <td>33896</td>\n",
       "    </tr>\n",
       "    <tr>\n",
       "      <th>1</th>\n",
       "      <td>304359</td>\n",
       "      <td>105792</td>\n",
       "    </tr>\n",
       "  </tbody>\n",
       "</table>\n",
       "</div>"
      ],
      "text/plain": [
       "target            0       1\n",
       "predict_bin                \n",
       "0            244034   33896\n",
       "1            304359  105792"
      ]
     },
     "execution_count": 63,
     "metadata": {},
     "output_type": "execute_result"
    }
   ],
   "source": [
    "pd.crosstab(all_pred_df['predict_bin'], all_pred_df['target'])"
   ]
  },
  {
   "cell_type": "markdown",
   "id": "269ac75f-210e-42a3-8734-ad2e9dac697f",
   "metadata": {},
   "source": [
    "## Metrics"
   ]
  },
  {
   "cell_type": "code",
   "execution_count": 64,
   "id": "a840cd8b-23f1-4fb1-a796-e77e9875197d",
   "metadata": {
    "tags": []
   },
   "outputs": [
    {
     "data": {
      "text/html": [
       "<div>\n",
       "<style scoped>\n",
       "    .dataframe tbody tr th:only-of-type {\n",
       "        vertical-align: middle;\n",
       "    }\n",
       "\n",
       "    .dataframe tbody tr th {\n",
       "        vertical-align: top;\n",
       "    }\n",
       "\n",
       "    .dataframe thead th {\n",
       "        text-align: right;\n",
       "    }\n",
       "</style>\n",
       "<table border=\"1\" class=\"dataframe\">\n",
       "  <thead>\n",
       "    <tr style=\"text-align: right;\">\n",
       "      <th></th>\n",
       "      <th>accuracy_score</th>\n",
       "      <th>f1_score</th>\n",
       "      <th>precision_score</th>\n",
       "      <th>recall_score</th>\n",
       "      <th>average_precision_score</th>\n",
       "      <th>roc_auc_score</th>\n",
       "    </tr>\n",
       "  </thead>\n",
       "  <tbody>\n",
       "    <tr>\n",
       "      <th>train</th>\n",
       "      <td>0.518509</td>\n",
       "      <td>0.379451</td>\n",
       "      <td>0.256956</td>\n",
       "      <td>0.725134</td>\n",
       "      <td>0.259730</td>\n",
       "      <td>0.616241</td>\n",
       "    </tr>\n",
       "    <tr>\n",
       "      <th>val</th>\n",
       "      <td>0.489495</td>\n",
       "      <td>0.394434</td>\n",
       "      <td>0.259772</td>\n",
       "      <td>0.818981</td>\n",
       "      <td>0.308812</td>\n",
       "      <td>0.663976</td>\n",
       "    </tr>\n",
       "    <tr>\n",
       "      <th>test</th>\n",
       "      <td>0.489754</td>\n",
       "      <td>0.393681</td>\n",
       "      <td>0.259424</td>\n",
       "      <td>0.815954</td>\n",
       "      <td>0.304826</td>\n",
       "      <td>0.662265</td>\n",
       "    </tr>\n",
       "  </tbody>\n",
       "</table>\n",
       "</div>"
      ],
      "text/plain": [
       "       accuracy_score  f1_score  precision_score  recall_score  \\\n",
       "train        0.518509  0.379451         0.256956      0.725134   \n",
       "val          0.489495  0.394434         0.259772      0.818981   \n",
       "test         0.489754  0.393681         0.259424      0.815954   \n",
       "\n",
       "       average_precision_score  roc_auc_score  \n",
       "train                 0.259730       0.616241  \n",
       "val                   0.308812       0.663976  \n",
       "test                  0.304826       0.662265  "
      ]
     },
     "execution_count": 64,
     "metadata": {},
     "output_type": "execute_result"
    }
   ],
   "source": [
    "metrics_df = pd.concat([sg_plot.dset_metrics(all_pred_df[all_pred_df['dset'] == d]['target'], \n",
    "                                             all_pred_df[all_pred_df['dset'] == d]['predict_bin'], \n",
    "                                             all_pred_df[all_pred_df['dset'] == d]['predict_prob']) \\\n",
    "                        for d in ['train', 'val', 'test']], axis=1,\n",
    "                      keys = ['train', 'val', 'test']) \\\n",
    "    .transpose()\n",
    "metrics_df.to_csv(Path(setup.temp_path).joinpath('22_REPORT_metrics_all.csv'), index=True)\n",
    "metrics_df"
   ]
  },
  {
   "cell_type": "markdown",
   "id": "5f0dc803-0b75-48f1-9387-49012e0bee62",
   "metadata": {},
   "source": [
    "## Lift"
   ]
  },
  {
   "cell_type": "code",
   "execution_count": 65,
   "id": "82d9c0ab-8989-450d-a2b1-7997ca636052",
   "metadata": {
    "tags": []
   },
   "outputs": [],
   "source": [
    "pred_test_df = all_pred_df[all_pred_df['dset'] == 'test']"
   ]
  },
  {
   "cell_type": "code",
   "execution_count": 66,
   "id": "1919ffe9-cfe8-4d89-9c68-bcf729e4c328",
   "metadata": {},
   "outputs": [
    {
     "data": {
      "image/png": "[encoded data removed]",
      "text/plain": [
       "<Figure size 400x300 with 1 Axes>"
      ]
     },
     "metadata": {},
     "output_type": "display_data"
    }
   ],
   "source": [
    "plot_lift_curve(pred_test_df['target'], \n",
    "                pd.concat([1-pred_test_df['predict_prob'], pred_test_df['predict_prob']], axis=1), \n",
    "                title='Lift Curve', ax=None, figsize=(4,3), \n",
    "                title_fontsize='large', text_fontsize='medium')\n",
    "plt.gca().legend(loc='upper right')\n",
    "plt.gcf().savefig(Path(setup.temp_path).joinpath('22_PLOT_lift_curve.png'),bbox_inches='tight')"
   ]
  },
  {
   "cell_type": "markdown",
   "id": "b9e72112-71e5-497b-a823-0f0cab528c42",
   "metadata": {},
   "source": [
    "## Embeddings\n",
    "Extract node embeddings for businesses, and save these for later analysis"
   ]
  },
  {
   "cell_type": "code",
   "execution_count": 84,
   "id": "30bc33ce-00e9-450c-add7-94fd12ff20c9",
   "metadata": {},
   "outputs": [],
   "source": [
    "# Create a new model object to access the embeddings 1 layers above (normalized output)\n",
    "emb_model = Model(inputs=model.input, outputs=model.layers[-2].output)"
   ]
  },
  {
   "cell_type": "code",
   "execution_count": 85,
   "id": "8a408051-cc6b-4e66-b8d9-c1ceca584885",
   "metadata": {},
   "outputs": [
    {
     "name": "stderr",
     "output_type": "stream",
     "text": [
      "2023-12-26 14:26:51.728922: I tensorflow/core/grappler/optimizers/custom_graph_optimizer_registry.cc:114] Plugin optimizer for device_type GPU is enabled.\n"
     ]
    },
    {
     "name": "stdout",
     "output_type": "stream",
     "text": [
      "6881/6881 [==============================] - 1761s 256ms/step\n"
     ]
    }
   ],
   "source": [
    "embeddings = emb_model.predict(all_flow)"
   ]
  },
  {
   "cell_type": "code",
   "execution_count": 86,
   "id": "49fb8b0e-f0dc-4e3e-b465-3f80adf8b57e",
   "metadata": {},
   "outputs": [],
   "source": [
    "embeddings_df = pd.DataFrame(embeddings, index=labels_all.index)\n",
    "embeddings_df.columns = [f'emb_{c:02d}' for c in embeddings_df.columns]"
   ]
  },
  {
   "cell_type": "code",
   "execution_count": 87,
   "id": "afc6664d-a487-42f7-b6a9-6cbbc907d526",
   "metadata": {},
   "outputs": [
    {
     "data": {
      "text/html": [
       "<div>\n",
       "<style scoped>\n",
       "    .dataframe tbody tr th:only-of-type {\n",
       "        vertical-align: middle;\n",
       "    }\n",
       "\n",
       "    .dataframe tbody tr th {\n",
       "        vertical-align: top;\n",
       "    }\n",
       "\n",
       "    .dataframe thead th {\n",
       "        text-align: right;\n",
       "    }\n",
       "</style>\n",
       "<table border=\"1\" class=\"dataframe\">\n",
       "  <thead>\n",
       "    <tr style=\"text-align: right;\">\n",
       "      <th></th>\n",
       "      <th>emb_00</th>\n",
       "      <th>emb_01</th>\n",
       "      <th>emb_02</th>\n",
       "      <th>emb_03</th>\n",
       "      <th>emb_04</th>\n",
       "      <th>emb_05</th>\n",
       "      <th>emb_06</th>\n",
       "      <th>emb_07</th>\n",
       "    </tr>\n",
       "  </thead>\n",
       "  <tbody>\n",
       "    <tr>\n",
       "      <th>count</th>\n",
       "      <td>688081.000000</td>\n",
       "      <td>688081.000000</td>\n",
       "      <td>688081.000000</td>\n",
       "      <td>688081.000000</td>\n",
       "      <td>688081.000000</td>\n",
       "      <td>688081.000000</td>\n",
       "      <td>688081.000000</td>\n",
       "      <td>688081.000000</td>\n",
       "    </tr>\n",
       "    <tr>\n",
       "      <th>mean</th>\n",
       "      <td>-0.321412</td>\n",
       "      <td>-0.314514</td>\n",
       "      <td>0.451864</td>\n",
       "      <td>0.040907</td>\n",
       "      <td>0.192623</td>\n",
       "      <td>-0.297783</td>\n",
       "      <td>0.034046</td>\n",
       "      <td>0.529606</td>\n",
       "    </tr>\n",
       "    <tr>\n",
       "      <th>std</th>\n",
       "      <td>0.131964</td>\n",
       "      <td>0.102195</td>\n",
       "      <td>0.098258</td>\n",
       "      <td>0.121440</td>\n",
       "      <td>0.209434</td>\n",
       "      <td>0.123068</td>\n",
       "      <td>0.238929</td>\n",
       "      <td>0.127059</td>\n",
       "    </tr>\n",
       "    <tr>\n",
       "      <th>min</th>\n",
       "      <td>-0.574167</td>\n",
       "      <td>-0.827171</td>\n",
       "      <td>-0.162290</td>\n",
       "      <td>-0.312936</td>\n",
       "      <td>-0.286633</td>\n",
       "      <td>-0.642889</td>\n",
       "      <td>-0.601282</td>\n",
       "      <td>0.115344</td>\n",
       "    </tr>\n",
       "    <tr>\n",
       "      <th>25%</th>\n",
       "      <td>-0.412060</td>\n",
       "      <td>-0.384280</td>\n",
       "      <td>0.399256</td>\n",
       "      <td>-0.029783</td>\n",
       "      <td>0.006666</td>\n",
       "      <td>-0.393490</td>\n",
       "      <td>-0.167095</td>\n",
       "      <td>0.431806</td>\n",
       "    </tr>\n",
       "    <tr>\n",
       "      <th>50%</th>\n",
       "      <td>-0.348424</td>\n",
       "      <td>-0.292824</td>\n",
       "      <td>0.456794</td>\n",
       "      <td>0.036161</td>\n",
       "      <td>0.185580</td>\n",
       "      <td>-0.308727</td>\n",
       "      <td>0.095882</td>\n",
       "      <td>0.549195</td>\n",
       "    </tr>\n",
       "    <tr>\n",
       "      <th>75%</th>\n",
       "      <td>-0.256704</td>\n",
       "      <td>-0.245969</td>\n",
       "      <td>0.519381</td>\n",
       "      <td>0.112507</td>\n",
       "      <td>0.352429</td>\n",
       "      <td>-0.198213</td>\n",
       "      <td>0.229045</td>\n",
       "      <td>0.628655</td>\n",
       "    </tr>\n",
       "    <tr>\n",
       "      <th>max</th>\n",
       "      <td>0.599875</td>\n",
       "      <td>0.087481</td>\n",
       "      <td>0.769601</td>\n",
       "      <td>0.512853</td>\n",
       "      <td>0.694026</td>\n",
       "      <td>0.035181</td>\n",
       "      <td>0.477351</td>\n",
       "      <td>0.824517</td>\n",
       "    </tr>\n",
       "  </tbody>\n",
       "</table>\n",
       "</div>"
      ],
      "text/plain": [
       "              emb_00         emb_01         emb_02         emb_03  \\\n",
       "count  688081.000000  688081.000000  688081.000000  688081.000000   \n",
       "mean       -0.321412      -0.314514       0.451864       0.040907   \n",
       "std         0.131964       0.102195       0.098258       0.121440   \n",
       "min        -0.574167      -0.827171      -0.162290      -0.312936   \n",
       "25%        -0.412060      -0.384280       0.399256      -0.029783   \n",
       "50%        -0.348424      -0.292824       0.456794       0.036161   \n",
       "75%        -0.256704      -0.245969       0.519381       0.112507   \n",
       "max         0.599875       0.087481       0.769601       0.512853   \n",
       "\n",
       "              emb_04         emb_05         emb_06         emb_07  \n",
       "count  688081.000000  688081.000000  688081.000000  688081.000000  \n",
       "mean        0.192623      -0.297783       0.034046       0.529606  \n",
       "std         0.209434       0.123068       0.238929       0.127059  \n",
       "min        -0.286633      -0.642889      -0.601282       0.115344  \n",
       "25%         0.006666      -0.393490      -0.167095       0.431806  \n",
       "50%         0.185580      -0.308727       0.095882       0.549195  \n",
       "75%         0.352429      -0.198213       0.229045       0.628655  \n",
       "max         0.694026       0.035181       0.477351       0.824517  "
      ]
     },
     "execution_count": 87,
     "metadata": {},
     "output_type": "execute_result"
    }
   ],
   "source": [
    "embeddings_df.describe()"
   ]
  },
  {
   "cell_type": "code",
   "execution_count": 88,
   "id": "de99ee27-0355-48fd-8f12-05c73d489a2e",
   "metadata": {},
   "outputs": [],
   "source": [
    "embeddings_df.to_parquet(Path(setup.temp_path).joinpath('22_DATA_embeddings.parquet'))"
   ]
  },
  {
   "cell_type": "markdown",
   "id": "34ebc137-4fa0-42f8-8ba7-7143ba76818f",
   "metadata": {},
   "source": [
    "## Metrics on Test-Only Graph\n",
    "Repeat metrics on the test nodes (and associated NAICS nodes) only.  Expect some performance degradation"
   ]
  },
  {
   "cell_type": "code",
   "execution_count": 70,
   "id": "d012a971-5f6f-4f8f-bfad-d8ebe6d87fb9",
   "metadata": {},
   "outputs": [],
   "source": [
    "generator_test = HinSAGENodeGenerator(sba_test, batch_size=setup.gnn_batch_size, \n",
    "                                 num_samples=setup.gnn_num_samples, \n",
    "                                 head_node_type='LoanNr_ChkDgt',\n",
    "                                 seed=2343)"
   ]
  },
  {
   "cell_type": "code",
   "execution_count": 71,
   "id": "f8a3f676-9055-4f88-b3a1-cc891b122ca6",
   "metadata": {},
   "outputs": [],
   "source": [
    "test_flow = generator_test.flow(labels_test['LoanNr_ChkDgt'], labels_test['target'], shuffle=False)"
   ]
  },
  {
   "cell_type": "code",
   "execution_count": 72,
   "id": "8fef2bc4-e867-47b2-8984-755c76951837",
   "metadata": {},
   "outputs": [],
   "source": [
    "tf.random.set_seed(16)\n",
    "keras.utils.set_random_seed(812)\n",
    "sg.random.set_seed(4345)"
   ]
  },
  {
   "cell_type": "code",
   "execution_count": 73,
   "id": "35a0ab70-d869-466a-abf9-d86f8fa146ea",
   "metadata": {},
   "outputs": [
    {
     "name": "stdout",
     "output_type": "stream",
     "text": [
      "   1/7225 [..............................] - ETA: 27:01"
     ]
    },
    {
     "name": "stderr",
     "output_type": "stream",
     "text": [
      "2023-12-26 14:23:15.260826: I tensorflow/core/grappler/optimizers/custom_graph_optimizer_registry.cc:114] Plugin optimizer for device_type GPU is enabled.\n"
     ]
    },
    {
     "name": "stdout",
     "output_type": "stream",
     "text": [
      "7225/7225 [==============================] - 155s 21ms/step\n"
     ]
    }
   ],
   "source": [
    "test_predictions = model.predict(test_flow)"
   ]
  },
  {
   "cell_type": "code",
   "execution_count": 74,
   "id": "fd4798bb-41f6-4577-9ebe-284301f0b318",
   "metadata": {},
   "outputs": [
    {
     "data": {
      "text/plain": [
       "(144497, 1)"
      ]
     },
     "execution_count": 74,
     "metadata": {},
     "output_type": "execute_result"
    }
   ],
   "source": [
    "test_predictions.shape"
   ]
  },
  {
   "cell_type": "code",
   "execution_count": 75,
   "id": "e3ac9f5c-30ef-42dc-8442-a56cd51110b0",
   "metadata": {},
   "outputs": [],
   "source": [
    "test_pred_df = pd.Series(test_predictions[:,0], index=labels_test['LoanNr_ChkDgt']) \\\n",
    "    .rename('predict_prob').reset_index()"
   ]
  },
  {
   "cell_type": "code",
   "execution_count": 76,
   "id": "4bd63239-6b14-4580-a6d3-7cbb082d5f04",
   "metadata": {},
   "outputs": [
    {
     "data": {
      "text/html": [
       "<div>\n",
       "<style scoped>\n",
       "    .dataframe tbody tr th:only-of-type {\n",
       "        vertical-align: middle;\n",
       "    }\n",
       "\n",
       "    .dataframe tbody tr th {\n",
       "        vertical-align: top;\n",
       "    }\n",
       "\n",
       "    .dataframe thead th {\n",
       "        text-align: right;\n",
       "    }\n",
       "</style>\n",
       "<table border=\"1\" class=\"dataframe\">\n",
       "  <thead>\n",
       "    <tr style=\"text-align: right;\">\n",
       "      <th></th>\n",
       "      <th>LoanNr_ChkDgt</th>\n",
       "      <th>predict_prob</th>\n",
       "    </tr>\n",
       "  </thead>\n",
       "  <tbody>\n",
       "    <tr>\n",
       "      <th>0</th>\n",
       "      <td>8821253008</td>\n",
       "      <td>0.134117</td>\n",
       "    </tr>\n",
       "    <tr>\n",
       "      <th>1</th>\n",
       "      <td>3487724004</td>\n",
       "      <td>0.161867</td>\n",
       "    </tr>\n",
       "    <tr>\n",
       "      <th>2</th>\n",
       "      <td>3589114010</td>\n",
       "      <td>0.220331</td>\n",
       "    </tr>\n",
       "  </tbody>\n",
       "</table>\n",
       "</div>"
      ],
      "text/plain": [
       "  LoanNr_ChkDgt  predict_prob\n",
       "0    8821253008      0.134117\n",
       "1    3487724004      0.161867\n",
       "2    3589114010      0.220331"
      ]
     },
     "execution_count": 76,
     "metadata": {},
     "output_type": "execute_result"
    }
   ],
   "source": [
    "test_pred_df.head(3)"
   ]
  },
  {
   "cell_type": "code",
   "execution_count": 77,
   "id": "8579a3fe-fbc2-4710-a01f-d91648f9c11a",
   "metadata": {},
   "outputs": [],
   "source": [
    "test_pred_df['predict_bin'] = sg_plot.get_binary_predictions(test_pred_df['predict_prob'], best_thresh)"
   ]
  },
  {
   "cell_type": "code",
   "execution_count": 78,
   "id": "9ace7a37-804c-4b91-93ff-fd2f2d187808",
   "metadata": {},
   "outputs": [
    {
     "data": {
      "text/plain": [
       "predict_bin\n",
       "1    0.776494\n",
       "0    0.223506\n",
       "Name: proportion, dtype: float64"
      ]
     },
     "execution_count": 78,
     "metadata": {},
     "output_type": "execute_result"
    }
   ],
   "source": [
    "test_pred_df['predict_bin'].value_counts(normalize=True, dropna=False)"
   ]
  },
  {
   "cell_type": "code",
   "execution_count": 79,
   "id": "73aa268d-5aec-4fcd-b6d1-0e1c6b433a0f",
   "metadata": {},
   "outputs": [],
   "source": [
    "test_pred_df = test_pred_df.merge(labels_test, on='LoanNr_ChkDgt')"
   ]
  },
  {
   "cell_type": "code",
   "execution_count": 80,
   "id": "9ae60246-de8a-4483-b826-735fd948403f",
   "metadata": {},
   "outputs": [],
   "source": [
    "test_pred_df.to_parquet(Path(setup.temp_path).joinpath('22_DATA_predictions_test_graph.parquet'))"
   ]
  },
  {
   "cell_type": "markdown",
   "id": "470170a9-a04f-41e5-9ed3-967df37fd64d",
   "metadata": {},
   "source": [
    "##### Metrics - test only"
   ]
  },
  {
   "cell_type": "code",
   "execution_count": 81,
   "id": "0f1d8830-0b1f-4644-9344-0755e95f8ce0",
   "metadata": {
    "tags": []
   },
   "outputs": [
    {
     "data": {
      "text/plain": [
       "accuracy_score             0.388264\n",
       "f1_score                   0.375466\n",
       "precision_score            0.236816\n",
       "recall_score               0.905778\n",
       "average_precision_score    0.259523\n",
       "roc_auc_score              0.623494\n",
       "dtype: float64"
      ]
     },
     "execution_count": 81,
     "metadata": {},
     "output_type": "execute_result"
    }
   ],
   "source": [
    "test_metrics = sg_plot.dset_metrics(test_pred_df['target'],test_pred_df['predict_bin'], \n",
    "                                    test_pred_df['predict_prob'])\n",
    "pd.DataFrame(test_metrics).transpose() \\\n",
    "    .to_csv(Path(setup.temp_path).joinpath('22_REPORT_metrics_test_only.csv'), index=True)\n",
    "test_metrics"
   ]
  },
  {
   "cell_type": "markdown",
   "id": "38369dbb-522d-4a15-aa02-b9f445238786",
   "metadata": {},
   "source": [
    "##### Lift - test only"
   ]
  },
  {
   "cell_type": "code",
   "execution_count": 82,
   "id": "42854e8c-46cc-4126-89ab-387b3e1dd9e0",
   "metadata": {},
   "outputs": [
    {
     "data": {
      "image/png": "[encoded data removed]",
      "text/plain": [
       "<Figure size 400x300 with 1 Axes>"
      ]
     },
     "metadata": {},
     "output_type": "display_data"
    }
   ],
   "source": [
    "plot_lift_curve(test_pred_df['target'], \n",
    "                pd.concat([1-test_pred_df['predict_prob'], test_pred_df['predict_prob']], axis=1), \n",
    "                title='Lift Curve', ax=None, figsize=(4,3), \n",
    "                title_fontsize='large', text_fontsize='medium')\n",
    "plt.gca().legend(loc='upper right')\n",
    "plt.gcf().savefig(Path(setup.temp_path).joinpath('22_PLOT_lift_curve_testonly.png'),bbox_inches='tight')"
   ]
  },
  {
   "cell_type": "code",
   "execution_count": null,
   "id": "429c3e48-f954-47a7-aded-7b23ddd21bd9",
   "metadata": {},
   "outputs": [],
   "source": []
  }
 ],
 "metadata": {
  "kernelspec": {
   "display_name": "tf_p39",
   "language": "python",
   "name": "tf_p39"
  },
  "language_info": {
   "codemirror_mode": {
    "name": "ipython",
    "version": 3
   },
   "file_extension": ".py",
   "mimetype": "text/x-python",
   "name": "python",
   "nbconvert_exporter": "python",
   "pygments_lexer": "ipython3",
   "version": "3.8.18"
  }
 },
 "nbformat": 4,
 "nbformat_minor": 5
}
