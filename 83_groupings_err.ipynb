{
 "cells": [
  {
   "cell_type": "code",
   "execution_count": 1,
   "id": "d18cf49a-294e-43b8-90a2-68b59b212cfa",
   "metadata": {},
   "outputs": [],
   "source": [
    "# Modify the file 00_setup.py to define input/output file paths on your system\n",
    "# The information in 00_setup.py will be used across notebooks\n",
    "from importlib.machinery import SourceFileLoader\n",
    "setup = SourceFileLoader(\"setup\", \"./00_setup.py\").load_module()"
   ]
  },
  {
   "cell_type": "markdown",
   "id": "0627834b-67f9-4067-b975-ed691f1405f0",
   "metadata": {},
   "source": [
    "# DGI vs NAICS Group Errors, Anova, Etc\n",
    "In hierarchical encoding, more general NAICS categories are worse than specific.  For DGI clusters, it's the opposite.  Why? "
   ]
  },
  {
   "cell_type": "markdown",
   "id": "8f4baee1-351e-4b92-93e0-b3088fa8f204",
   "metadata": {},
   "source": [
    "See also https://www.peggykern.org/uploads/5/6/6/7/56678211/ftestformulas.pdf"
   ]
  },
  {
   "cell_type": "code",
   "execution_count": 2,
   "id": "a08d684c-3d4f-41cd-9084-fc3310742fc4",
   "metadata": {},
   "outputs": [],
   "source": [
    "import numpy as np\n",
    "import pandas as pd\n",
    "from pathlib import Path\n",
    "import importlib, os"
   ]
  },
  {
   "cell_type": "code",
   "execution_count": 3,
   "id": "679075c7-67b8-4281-9be9-c7deefa304c3",
   "metadata": {},
   "outputs": [],
   "source": [
    "import seaborn as sns"
   ]
  },
  {
   "cell_type": "code",
   "execution_count": 4,
   "id": "699e270e-bdb5-4bc9-8a65-42281f038563",
   "metadata": {},
   "outputs": [],
   "source": [
    "from sba_gnn.sba_gnn import sg_plot \n",
    "sg_plot.plot_defaults()"
   ]
  },
  {
   "cell_type": "code",
   "execution_count": 5,
   "id": "09f4b7bc-d250-4e5e-b5e3-5c6b87d2995d",
   "metadata": {},
   "outputs": [],
   "source": [
    "import matplotlib.pyplot as plt"
   ]
  },
  {
   "cell_type": "markdown",
   "id": "0d051e19-048e-4110-9c3d-9bbbd1d782f9",
   "metadata": {},
   "source": [
    "## Import Data"
   ]
  },
  {
   "cell_type": "code",
   "execution_count": 6,
   "id": "2073255d-9621-4590-8086-6a648d38047a",
   "metadata": {},
   "outputs": [],
   "source": [
    "sba_loans = pd.read_parquet(Path(setup.temp_path).joinpath('01_DATA_transformed.parquet'))"
   ]
  },
  {
   "cell_type": "code",
   "execution_count": 7,
   "id": "da4441f1-9cdf-4c21-a803-3229ab3ab7c7",
   "metadata": {},
   "outputs": [
    {
     "data": {
      "text/plain": [
       "Index(['LoanNr_ChkDgt', 'Name', 'City', 'State', 'Zip', 'Bank', 'BankState',\n",
       "       'NAICS', 'ApprovalDate', 'ApprovalFY', 'Term', 'NoEmp', 'NewExist',\n",
       "       'CreateJob', 'RetainedJob', 'FranchiseCode', 'UrbanRural', 'RevLineCr',\n",
       "       'LowDoc', 'ChgOffDate', 'DisbursementDate', 'DisbursementGross',\n",
       "       'BalanceGross', 'MIS_Status', 'ChgOffPrinGr', 'GrAppv', 'SBA_Appv',\n",
       "       'target', 'guaranteed_fract', 'new_business', 'urban_flag',\n",
       "       'franchise_flag', 'NAICS_2', 'NAICS_sector', 'NAICS_sector_desc',\n",
       "       'NAICS_num', 'dset', 'dset_naics_holdout', 'NAICS_5', 'NAICS_4',\n",
       "       'NAICS_3', 'menc_NAICS', 'menc_NAICS_5', 'menc_NAICS_4', 'menc_NAICS_3',\n",
       "       'menc_NAICS_sector', 'mhier_NAICS',\n",
       "       'NS___Accommodation and Food Services',\n",
       "       'NS___Administrative and Support and Waste Management and Remediation Services',\n",
       "       'NS___Construction', 'NS___Health Care and Social Assistance',\n",
       "       'NS___Manufacturing',\n",
       "       'NS___Other Services (except Public Administration)',\n",
       "       'NS___Professional, Scientific, and Technical Services',\n",
       "       'NS___Retail Trade', 'NS___Wholesale Trade', 'NS___infrequent_sklearn',\n",
       "       'cenc_NAICS'],\n",
       "      dtype='object')"
      ]
     },
     "execution_count": 7,
     "metadata": {},
     "output_type": "execute_result"
    }
   ],
   "source": [
    "sba_loans.columns"
   ]
  },
  {
   "cell_type": "code",
   "execution_count": 8,
   "id": "b2740b26-c0d5-49c9-a86e-3c6c3baded60",
   "metadata": {},
   "outputs": [],
   "source": [
    "embed_df = pd.read_parquet(Path(setup.temp_path).joinpath('63_DATA_embeddings_tsne_naics.parquet'))"
   ]
  },
  {
   "cell_type": "code",
   "execution_count": 9,
   "id": "7227aabf-929a-4895-b6de-95c29a88a88b",
   "metadata": {},
   "outputs": [],
   "source": [
    "naics_grp_col = ['NAICS_5', 'NAICS_4', 'NAICS_3', 'NAICS_sector']"
   ]
  },
  {
   "cell_type": "code",
   "execution_count": 10,
   "id": "90941798-ffb8-4ac9-ac2e-322b5486681e",
   "metadata": {},
   "outputs": [],
   "source": [
    "naics_dgi_col = [c for c in embed_df.columns if c.startswith('cluster_')]"
   ]
  },
  {
   "cell_type": "code",
   "execution_count": 11,
   "id": "bcc58d74-41aa-4601-a6cc-0ef6e3c0426d",
   "metadata": {},
   "outputs": [],
   "source": [
    "loans_simplified = sba_loans[['LoanNr_ChkDgt', 'target', 'dset', 'dset_naics_holdout', 'NAICS'] +\n",
    "                          naics_grp_col] \\\n",
    "    .merge(embed_df[['NAICS_orig'] + naics_dgi_col].rename(columns={'NAICS_orig':'NAICS'}),\n",
    "           on='NAICS')"
   ]
  },
  {
   "cell_type": "code",
   "execution_count": 12,
   "id": "5f1ab702-2a9b-4d1e-b49e-a1b884cb5a7e",
   "metadata": {},
   "outputs": [
    {
     "data": {
      "text/html": [
       "<div>\n",
       "<style scoped>\n",
       "    .dataframe tbody tr th:only-of-type {\n",
       "        vertical-align: middle;\n",
       "    }\n",
       "\n",
       "    .dataframe tbody tr th {\n",
       "        vertical-align: top;\n",
       "    }\n",
       "\n",
       "    .dataframe thead th {\n",
       "        text-align: right;\n",
       "    }\n",
       "</style>\n",
       "<table border=\"1\" class=\"dataframe\">\n",
       "  <thead>\n",
       "    <tr style=\"text-align: right;\">\n",
       "      <th></th>\n",
       "      <th>LoanNr_ChkDgt</th>\n",
       "      <th>target</th>\n",
       "      <th>dset</th>\n",
       "      <th>dset_naics_holdout</th>\n",
       "      <th>NAICS</th>\n",
       "      <th>NAICS_5</th>\n",
       "      <th>NAICS_4</th>\n",
       "      <th>NAICS_3</th>\n",
       "      <th>NAICS_sector</th>\n",
       "      <th>cluster_003</th>\n",
       "      <th>cluster_010</th>\n",
       "      <th>cluster_020</th>\n",
       "      <th>cluster_106</th>\n",
       "      <th>cluster_354</th>\n",
       "      <th>cluster_834</th>\n",
       "    </tr>\n",
       "  </thead>\n",
       "  <tbody>\n",
       "    <tr>\n",
       "      <th>0</th>\n",
       "      <td>1000014003</td>\n",
       "      <td>0</td>\n",
       "      <td>train</td>\n",
       "      <td>0</td>\n",
       "      <td>451120</td>\n",
       "      <td>45112</td>\n",
       "      <td>4511</td>\n",
       "      <td>451</td>\n",
       "      <td>44-45</td>\n",
       "      <td>2</td>\n",
       "      <td>2</td>\n",
       "      <td>2</td>\n",
       "      <td>32</td>\n",
       "      <td>222</td>\n",
       "      <td>300</td>\n",
       "    </tr>\n",
       "    <tr>\n",
       "      <th>1</th>\n",
       "      <td>1000944000</td>\n",
       "      <td>0</td>\n",
       "      <td>train</td>\n",
       "      <td>0</td>\n",
       "      <td>451120</td>\n",
       "      <td>45112</td>\n",
       "      <td>4511</td>\n",
       "      <td>451</td>\n",
       "      <td>44-45</td>\n",
       "      <td>2</td>\n",
       "      <td>2</td>\n",
       "      <td>2</td>\n",
       "      <td>32</td>\n",
       "      <td>222</td>\n",
       "      <td>300</td>\n",
       "    </tr>\n",
       "    <tr>\n",
       "      <th>2</th>\n",
       "      <td>1001095003</td>\n",
       "      <td>1</td>\n",
       "      <td>val</td>\n",
       "      <td>0</td>\n",
       "      <td>451120</td>\n",
       "      <td>45112</td>\n",
       "      <td>4511</td>\n",
       "      <td>451</td>\n",
       "      <td>44-45</td>\n",
       "      <td>2</td>\n",
       "      <td>2</td>\n",
       "      <td>2</td>\n",
       "      <td>32</td>\n",
       "      <td>222</td>\n",
       "      <td>300</td>\n",
       "    </tr>\n",
       "    <tr>\n",
       "      <th>3</th>\n",
       "      <td>1004545002</td>\n",
       "      <td>0</td>\n",
       "      <td>train</td>\n",
       "      <td>0</td>\n",
       "      <td>451120</td>\n",
       "      <td>45112</td>\n",
       "      <td>4511</td>\n",
       "      <td>451</td>\n",
       "      <td>44-45</td>\n",
       "      <td>2</td>\n",
       "      <td>2</td>\n",
       "      <td>2</td>\n",
       "      <td>32</td>\n",
       "      <td>222</td>\n",
       "      <td>300</td>\n",
       "    </tr>\n",
       "    <tr>\n",
       "      <th>4</th>\n",
       "      <td>1011395003</td>\n",
       "      <td>0</td>\n",
       "      <td>train</td>\n",
       "      <td>0</td>\n",
       "      <td>451120</td>\n",
       "      <td>45112</td>\n",
       "      <td>4511</td>\n",
       "      <td>451</td>\n",
       "      <td>44-45</td>\n",
       "      <td>2</td>\n",
       "      <td>2</td>\n",
       "      <td>2</td>\n",
       "      <td>32</td>\n",
       "      <td>222</td>\n",
       "      <td>300</td>\n",
       "    </tr>\n",
       "  </tbody>\n",
       "</table>\n",
       "</div>"
      ],
      "text/plain": [
       "  LoanNr_ChkDgt  target   dset  dset_naics_holdout   NAICS NAICS_5 NAICS_4  \\\n",
       "0    1000014003       0  train                   0  451120   45112    4511   \n",
       "1    1000944000       0  train                   0  451120   45112    4511   \n",
       "2    1001095003       1    val                   0  451120   45112    4511   \n",
       "3    1004545002       0  train                   0  451120   45112    4511   \n",
       "4    1011395003       0  train                   0  451120   45112    4511   \n",
       "\n",
       "  NAICS_3 NAICS_sector  cluster_003  cluster_010  cluster_020  cluster_106  \\\n",
       "0     451        44-45            2            2            2           32   \n",
       "1     451        44-45            2            2            2           32   \n",
       "2     451        44-45            2            2            2           32   \n",
       "3     451        44-45            2            2            2           32   \n",
       "4     451        44-45            2            2            2           32   \n",
       "\n",
       "   cluster_354  cluster_834  \n",
       "0          222          300  \n",
       "1          222          300  \n",
       "2          222          300  \n",
       "3          222          300  \n",
       "4          222          300  "
      ]
     },
     "execution_count": 12,
     "metadata": {},
     "output_type": "execute_result"
    }
   ],
   "source": [
    "loans_simplified.head()"
   ]
  },
  {
   "cell_type": "code",
   "execution_count": 13,
   "id": "6e7d91c8-1e19-4881-97d4-71631585157c",
   "metadata": {},
   "outputs": [],
   "source": [
    "train_df = loans_simplified[loans_simplified['dset'] == 'train'].copy()"
   ]
  },
  {
   "cell_type": "markdown",
   "id": "64dbb7b0-b525-4b8e-9a71-71a0c537a494",
   "metadata": {},
   "source": [
    "##### Metrics"
   ]
  },
  {
   "cell_type": "code",
   "execution_count": 14,
   "id": "4417d13d-f3d7-4b2f-8d71-10c41e1e0781",
   "metadata": {},
   "outputs": [],
   "source": [
    "metrics_df = pd.read_csv(Path(setup.temp_path).joinpath('80_REPORT_metrics_combined.csv'))"
   ]
  },
  {
   "cell_type": "markdown",
   "id": "f57491a6-5cc4-4a01-be4d-72c8738d459b",
   "metadata": {},
   "source": [
    "##### Group stats"
   ]
  },
  {
   "cell_type": "code",
   "execution_count": 15,
   "id": "c61a6a88-f4d1-48cb-bdc8-27f1f7673eb1",
   "metadata": {},
   "outputs": [],
   "source": [
    "naics_grp_stats_train = pd.read_csv(Path(setup.temp_path).joinpath('02_REPORT_naics_grp_stats_train.csv'))\n",
    "naics_grp_stats = pd.read_csv(Path(setup.temp_path).joinpath('02_REPORT_naics_grp_stats_all.csv'))"
   ]
  },
  {
   "cell_type": "code",
   "execution_count": 16,
   "id": "17793bc4-0d3b-4be6-a0c2-be92d88de19d",
   "metadata": {},
   "outputs": [],
   "source": [
    "dgi_grp_stats_train = pd.read_csv(Path(setup.temp_path).joinpath('82_REPORT_dgi_grp_stats_train.csv'))\n",
    "dgi_grp_stats = pd.read_csv(Path(setup.temp_path).joinpath('82_REPORT_dgi_grp_stats_all.csv'))"
   ]
  },
  {
   "cell_type": "markdown",
   "id": "11c42e9e-7d5a-4c08-b679-9dd5653695d0",
   "metadata": {},
   "source": [
    "## Compare Guessing Group Mean vs. Overal Mean\n",
    "Sum of squares - differences from means"
   ]
  },
  {
   "cell_type": "code",
   "execution_count": 17,
   "id": "5287218f-0d2b-4674-969e-07a5aff457ed",
   "metadata": {},
   "outputs": [],
   "source": [
    "def ss_diff_means(data, group_col):\n",
    "    N = len(data)\n",
    "    k = len(data[group_col].drop_duplicates())\n",
    "    \n",
    "    grand_mean = data['target'].mean()\n",
    "\n",
    "    group_means = data.groupby(group_col) \\\n",
    "        ['target'] \\\n",
    "        .agg(['count', 'mean']) \\\n",
    "        .set_axis(['n_group', 'group_mean'], axis=1) \\\n",
    "        .reset_index()\n",
    "    \n",
    "    data = data.merge(group_means, on=group_col)\n",
    "    \n",
    "    data['ss_grand_mean'] = (data['target'] - grand_mean)**2\n",
    "    data['ss_grp_mean'] = (data['target'] - data['group_mean'])**2\n",
    "    \n",
    "    ss_grand_mean = data['ss_grand_mean'].sum()\n",
    "    \n",
    "    ss_grp_mean = data['ss_grp_mean'].sum()\n",
    "\n",
    "    \n",
    "    return pd.DataFrame({'N': [N], 'k': [k],\n",
    "                         'ss_grand_mean': [ss_grand_mean], \n",
    "                         'ss_grp_mean':[ss_grp_mean]})\n",
    "        \n",
    "    "
   ]
  },
  {
   "cell_type": "code",
   "execution_count": 18,
   "id": "4260a804-5bea-4b4a-ae79-eeefdeeb836e",
   "metadata": {},
   "outputs": [
    {
     "data": {
      "text/html": [
       "<div>\n",
       "<style scoped>\n",
       "    .dataframe tbody tr th:only-of-type {\n",
       "        vertical-align: middle;\n",
       "    }\n",
       "\n",
       "    .dataframe tbody tr th {\n",
       "        vertical-align: top;\n",
       "    }\n",
       "\n",
       "    .dataframe thead th {\n",
       "        text-align: right;\n",
       "    }\n",
       "</style>\n",
       "<table border=\"1\" class=\"dataframe\">\n",
       "  <thead>\n",
       "    <tr style=\"text-align: right;\">\n",
       "      <th></th>\n",
       "      <th></th>\n",
       "      <th>N</th>\n",
       "      <th>k</th>\n",
       "      <th>ss_grand_mean</th>\n",
       "      <th>ss_grp_mean</th>\n",
       "    </tr>\n",
       "  </thead>\n",
       "  <tbody>\n",
       "    <tr>\n",
       "      <th>NAICS_5</th>\n",
       "      <th>0</th>\n",
       "      <td>436120</td>\n",
       "      <td>770</td>\n",
       "      <td>70987.750995</td>\n",
       "      <td>67119.534913</td>\n",
       "    </tr>\n",
       "    <tr>\n",
       "      <th>NAICS_4</th>\n",
       "      <th>0</th>\n",
       "      <td>436120</td>\n",
       "      <td>348</td>\n",
       "      <td>70987.750995</td>\n",
       "      <td>67697.467833</td>\n",
       "    </tr>\n",
       "    <tr>\n",
       "      <th>NAICS_3</th>\n",
       "      <th>0</th>\n",
       "      <td>436120</td>\n",
       "      <td>105</td>\n",
       "      <td>70987.750995</td>\n",
       "      <td>68520.985730</td>\n",
       "    </tr>\n",
       "    <tr>\n",
       "      <th>NAICS_sector</th>\n",
       "      <th>0</th>\n",
       "      <td>436120</td>\n",
       "      <td>20</td>\n",
       "      <td>70987.750995</td>\n",
       "      <td>70098.882943</td>\n",
       "    </tr>\n",
       "  </tbody>\n",
       "</table>\n",
       "</div>"
      ],
      "text/plain": [
       "                     N    k  ss_grand_mean   ss_grp_mean\n",
       "NAICS_5      0  436120  770   70987.750995  67119.534913\n",
       "NAICS_4      0  436120  348   70987.750995  67697.467833\n",
       "NAICS_3      0  436120  105   70987.750995  68520.985730\n",
       "NAICS_sector 0  436120   20   70987.750995  70098.882943"
      ]
     },
     "execution_count": 18,
     "metadata": {},
     "output_type": "execute_result"
    }
   ],
   "source": [
    "naics_mean_ss = pd.concat([ss_diff_means(train_df, c) for c in naics_grp_col],\n",
    "                             keys=naics_grp_col)\n",
    "naics_mean_ss"
   ]
  },
  {
   "cell_type": "code",
   "execution_count": 19,
   "id": "79ae2744-eaf0-44a2-81a1-b1c3ff7b4567",
   "metadata": {},
   "outputs": [
    {
     "data": {
      "text/html": [
       "<div>\n",
       "<style scoped>\n",
       "    .dataframe tbody tr th:only-of-type {\n",
       "        vertical-align: middle;\n",
       "    }\n",
       "\n",
       "    .dataframe tbody tr th {\n",
       "        vertical-align: top;\n",
       "    }\n",
       "\n",
       "    .dataframe thead th {\n",
       "        text-align: right;\n",
       "    }\n",
       "</style>\n",
       "<table border=\"1\" class=\"dataframe\">\n",
       "  <thead>\n",
       "    <tr style=\"text-align: right;\">\n",
       "      <th></th>\n",
       "      <th></th>\n",
       "      <th>N</th>\n",
       "      <th>k</th>\n",
       "      <th>ss_grand_mean</th>\n",
       "      <th>ss_grp_mean</th>\n",
       "    </tr>\n",
       "  </thead>\n",
       "  <tbody>\n",
       "    <tr>\n",
       "      <th>cluster_003</th>\n",
       "      <th>0</th>\n",
       "      <td>436120</td>\n",
       "      <td>3</td>\n",
       "      <td>70987.750995</td>\n",
       "      <td>69727.314121</td>\n",
       "    </tr>\n",
       "    <tr>\n",
       "      <th>cluster_010</th>\n",
       "      <th>0</th>\n",
       "      <td>436120</td>\n",
       "      <td>10</td>\n",
       "      <td>70987.750995</td>\n",
       "      <td>69209.323115</td>\n",
       "    </tr>\n",
       "    <tr>\n",
       "      <th>cluster_020</th>\n",
       "      <th>0</th>\n",
       "      <td>436120</td>\n",
       "      <td>20</td>\n",
       "      <td>70987.750995</td>\n",
       "      <td>68774.499350</td>\n",
       "    </tr>\n",
       "    <tr>\n",
       "      <th>cluster_106</th>\n",
       "      <th>0</th>\n",
       "      <td>436120</td>\n",
       "      <td>105</td>\n",
       "      <td>70987.750995</td>\n",
       "      <td>68106.698570</td>\n",
       "    </tr>\n",
       "    <tr>\n",
       "      <th>cluster_354</th>\n",
       "      <th>0</th>\n",
       "      <td>436120</td>\n",
       "      <td>338</td>\n",
       "      <td>70987.750995</td>\n",
       "      <td>67585.670748</td>\n",
       "    </tr>\n",
       "    <tr>\n",
       "      <th>cluster_834</th>\n",
       "      <th>0</th>\n",
       "      <td>436120</td>\n",
       "      <td>757</td>\n",
       "      <td>70987.750995</td>\n",
       "      <td>67095.919079</td>\n",
       "    </tr>\n",
       "  </tbody>\n",
       "</table>\n",
       "</div>"
      ],
      "text/plain": [
       "                    N    k  ss_grand_mean   ss_grp_mean\n",
       "cluster_003 0  436120    3   70987.750995  69727.314121\n",
       "cluster_010 0  436120   10   70987.750995  69209.323115\n",
       "cluster_020 0  436120   20   70987.750995  68774.499350\n",
       "cluster_106 0  436120  105   70987.750995  68106.698570\n",
       "cluster_354 0  436120  338   70987.750995  67585.670748\n",
       "cluster_834 0  436120  757   70987.750995  67095.919079"
      ]
     },
     "execution_count": 19,
     "metadata": {},
     "output_type": "execute_result"
    }
   ],
   "source": [
    "dgi_mean_ss = pd.concat([ss_diff_means(train_df, c) for c in naics_dgi_col],\n",
    "                             keys=naics_dgi_col)\n",
    "dgi_mean_ss"
   ]
  },
  {
   "cell_type": "code",
   "execution_count": 40,
   "id": "8ee8404f-3edd-41f9-84ef-928d4666b1b5",
   "metadata": {},
   "outputs": [
    {
     "data": {
      "image/png": "[encoded data removed]",
      "text/plain": [
       "<Figure size 640x480 with 1 Axes>"
      ]
     },
     "metadata": {},
     "output_type": "display_data"
    }
   ],
   "source": [
    "fig, ax = plt.subplots()\n",
    "naics_mean_ss.plot(x='k', y='ss_grp_mean', label='std', ax=ax, style='o-')\n",
    "dgi_mean_ss.plot(x='k', y='ss_grp_mean', label='dgi', ax=ax, style='o-')\n",
    "plt.title('Sum squared target - group mean')\n",
    "plt.show()"
   ]
  },
  {
   "cell_type": "markdown",
   "id": "c3ba7d36-9f08-4a8c-8346-4751948a915f",
   "metadata": {},
   "source": [
    "It appears the DGI group means are more similar than the overall mean to the target rates - this doesn't explain the results!"
   ]
  },
  {
   "cell_type": "markdown",
   "id": "4e8fcc83-13ca-4706-bedc-a58cc4887ba0",
   "metadata": {},
   "source": [
    "## Single-NAICS Groupings \n",
    "Which groups are essentially single NAICS?  "
   ]
  },
  {
   "cell_type": "code",
   "execution_count": 21,
   "id": "85cc0b4d-073b-4206-856a-fd4bef56a807",
   "metadata": {},
   "outputs": [],
   "source": [
    "def single_code_stats(data, group_col):\n",
    "    data_naics = data[['NAICS', group_col, 'target']] \\\n",
    "        .drop_duplicates('NAICS') \\\n",
    "        .reset_index()\n",
    "    \n",
    "    tot_naics = len(data_naics)\n",
    "    \n",
    "    data_naics_grp = data_naics.groupby(group_col) \\\n",
    "        ['target'] \\\n",
    "        .agg('count') \\\n",
    "        .reset_index()\n",
    "    \n",
    "    k = len(data_naics_grp)\n",
    "    \n",
    "    naics_1 = len(data_naics_grp[data_naics_grp['target'] == 1])\n",
    "    \n",
    "    return pd.DataFrame({'k': k,\n",
    "                         'tot_naics': [tot_naics],\n",
    "                         'single_naics': [naics_1],\n",
    "                           'single_rate': [naics_1/tot_naics]})"
   ]
  },
  {
   "cell_type": "code",
   "execution_count": 22,
   "id": "f3b4b149-d709-4b86-b1e8-738b9a925c86",
   "metadata": {},
   "outputs": [
    {
     "data": {
      "text/html": [
       "<div>\n",
       "<style scoped>\n",
       "    .dataframe tbody tr th:only-of-type {\n",
       "        vertical-align: middle;\n",
       "    }\n",
       "\n",
       "    .dataframe tbody tr th {\n",
       "        vertical-align: top;\n",
       "    }\n",
       "\n",
       "    .dataframe thead th {\n",
       "        text-align: right;\n",
       "    }\n",
       "</style>\n",
       "<table border=\"1\" class=\"dataframe\">\n",
       "  <thead>\n",
       "    <tr style=\"text-align: right;\">\n",
       "      <th></th>\n",
       "      <th></th>\n",
       "      <th>k</th>\n",
       "      <th>tot_naics</th>\n",
       "      <th>single_naics</th>\n",
       "      <th>single_rate</th>\n",
       "    </tr>\n",
       "  </thead>\n",
       "  <tbody>\n",
       "    <tr>\n",
       "      <th>NAICS_5</th>\n",
       "      <th>0</th>\n",
       "      <td>770</td>\n",
       "      <td>1166</td>\n",
       "      <td>574</td>\n",
       "      <td>0.492281</td>\n",
       "    </tr>\n",
       "    <tr>\n",
       "      <th>NAICS_4</th>\n",
       "      <th>0</th>\n",
       "      <td>348</td>\n",
       "      <td>1166</td>\n",
       "      <td>93</td>\n",
       "      <td>0.079760</td>\n",
       "    </tr>\n",
       "    <tr>\n",
       "      <th>NAICS_3</th>\n",
       "      <th>0</th>\n",
       "      <td>105</td>\n",
       "      <td>1166</td>\n",
       "      <td>6</td>\n",
       "      <td>0.005146</td>\n",
       "    </tr>\n",
       "    <tr>\n",
       "      <th>NAICS_sector</th>\n",
       "      <th>0</th>\n",
       "      <td>20</td>\n",
       "      <td>1166</td>\n",
       "      <td>0</td>\n",
       "      <td>0.000000</td>\n",
       "    </tr>\n",
       "  </tbody>\n",
       "</table>\n",
       "</div>"
      ],
      "text/plain": [
       "                  k  tot_naics  single_naics  single_rate\n",
       "NAICS_5      0  770       1166           574     0.492281\n",
       "NAICS_4      0  348       1166            93     0.079760\n",
       "NAICS_3      0  105       1166             6     0.005146\n",
       "NAICS_sector 0   20       1166             0     0.000000"
      ]
     },
     "execution_count": 22,
     "metadata": {},
     "output_type": "execute_result"
    }
   ],
   "source": [
    "single_rate_std = pd.concat([single_code_stats(train_df, c) for c in naics_grp_col],\n",
    "                             keys=naics_grp_col)\n",
    "single_rate_std"
   ]
  },
  {
   "cell_type": "code",
   "execution_count": 23,
   "id": "7809e4bb-cf37-48e5-9793-a779e62e8f7b",
   "metadata": {},
   "outputs": [
    {
     "data": {
      "text/html": [
       "<div>\n",
       "<style scoped>\n",
       "    .dataframe tbody tr th:only-of-type {\n",
       "        vertical-align: middle;\n",
       "    }\n",
       "\n",
       "    .dataframe tbody tr th {\n",
       "        vertical-align: top;\n",
       "    }\n",
       "\n",
       "    .dataframe thead th {\n",
       "        text-align: right;\n",
       "    }\n",
       "</style>\n",
       "<table border=\"1\" class=\"dataframe\">\n",
       "  <thead>\n",
       "    <tr style=\"text-align: right;\">\n",
       "      <th></th>\n",
       "      <th></th>\n",
       "      <th>k</th>\n",
       "      <th>tot_naics</th>\n",
       "      <th>single_naics</th>\n",
       "      <th>single_rate</th>\n",
       "    </tr>\n",
       "  </thead>\n",
       "  <tbody>\n",
       "    <tr>\n",
       "      <th>cluster_003</th>\n",
       "      <th>0</th>\n",
       "      <td>3</td>\n",
       "      <td>1166</td>\n",
       "      <td>0</td>\n",
       "      <td>0.000000</td>\n",
       "    </tr>\n",
       "    <tr>\n",
       "      <th>cluster_010</th>\n",
       "      <th>0</th>\n",
       "      <td>10</td>\n",
       "      <td>1166</td>\n",
       "      <td>0</td>\n",
       "      <td>0.000000</td>\n",
       "    </tr>\n",
       "    <tr>\n",
       "      <th>cluster_020</th>\n",
       "      <th>0</th>\n",
       "      <td>20</td>\n",
       "      <td>1166</td>\n",
       "      <td>0</td>\n",
       "      <td>0.000000</td>\n",
       "    </tr>\n",
       "    <tr>\n",
       "      <th>cluster_106</th>\n",
       "      <th>0</th>\n",
       "      <td>105</td>\n",
       "      <td>1166</td>\n",
       "      <td>10</td>\n",
       "      <td>0.008576</td>\n",
       "    </tr>\n",
       "    <tr>\n",
       "      <th>cluster_354</th>\n",
       "      <th>0</th>\n",
       "      <td>338</td>\n",
       "      <td>1166</td>\n",
       "      <td>113</td>\n",
       "      <td>0.096913</td>\n",
       "    </tr>\n",
       "    <tr>\n",
       "      <th>cluster_834</th>\n",
       "      <th>0</th>\n",
       "      <td>757</td>\n",
       "      <td>1166</td>\n",
       "      <td>572</td>\n",
       "      <td>0.490566</td>\n",
       "    </tr>\n",
       "  </tbody>\n",
       "</table>\n",
       "</div>"
      ],
      "text/plain": [
       "                 k  tot_naics  single_naics  single_rate\n",
       "cluster_003 0    3       1166             0     0.000000\n",
       "cluster_010 0   10       1166             0     0.000000\n",
       "cluster_020 0   20       1166             0     0.000000\n",
       "cluster_106 0  105       1166            10     0.008576\n",
       "cluster_354 0  338       1166           113     0.096913\n",
       "cluster_834 0  757       1166           572     0.490566"
      ]
     },
     "execution_count": 23,
     "metadata": {},
     "output_type": "execute_result"
    }
   ],
   "source": [
    "single_rate_dgi = pd.concat([single_code_stats(train_df, c) for c in naics_dgi_col],\n",
    "                             keys=naics_dgi_col)\n",
    "single_rate_dgi"
   ]
  },
  {
   "cell_type": "code",
   "execution_count": 24,
   "id": "cfb80c3e-4139-4e91-9796-1d9fc189d1ac",
   "metadata": {},
   "outputs": [
    {
     "data": {
      "image/png": "[encoded data removed]",
      "text/plain": [
       "<Figure size 640x480 with 1 Axes>"
      ]
     },
     "metadata": {},
     "output_type": "display_data"
    }
   ],
   "source": [
    "fig, ax = plt.subplots()\n",
    "single_rate_std.plot(x='k', y='single_rate', label='std', ax=ax)\n",
    "single_rate_dgi.plot(x='k', y='single_rate', label='dgi', ax=ax)\n",
    "plt.title('Rate of single NAICS groupings in train data')\n",
    "plt.show()"
   ]
  },
  {
   "cell_type": "markdown",
   "id": "38fb2585-8ff8-4a39-9c92-c2ec0547b5f3",
   "metadata": {},
   "source": [
    "The rates are not terribly different.  The higher DGI rate is maybe consistent with the trends but this isn't a big difference"
   ]
  },
  {
   "cell_type": "markdown",
   "id": "c51a86fb-46ad-4dfe-88ff-eb2f24953285",
   "metadata": {},
   "source": [
    "## Full ANOVA terms at Loan Level"
   ]
  },
  {
   "cell_type": "code",
   "execution_count": 25,
   "id": "aee570f5-577a-438e-bece-71ba156be723",
   "metadata": {},
   "outputs": [],
   "source": [
    "def get_ss_info(data, group_col):\n",
    "    N = len(data)\n",
    "    k = len(data[group_col].drop_duplicates())\n",
    "    \n",
    "    grand_mean = data['target'].mean()\n",
    "    \n",
    "    group_means = data.groupby(group_col) \\\n",
    "        ['target'] \\\n",
    "        .agg(['count', 'mean']) \\\n",
    "        .set_axis(['n_group', 'group_mean'], axis=1) \\\n",
    "        .reset_index()\n",
    "    \n",
    "    #group_means = group_means[group_means['n_group'] > 1]\n",
    "    \n",
    "    group_means['ss_between'] = group_means['n_group'] * \\\n",
    "        (group_means['group_mean'] - grand_mean)**2\n",
    "    \n",
    "    ss_between = group_means['ss_between'].sum()\n",
    "    ms_between = ss_between / (k - 1)\n",
    "    \n",
    "    base_var = data.merge(group_means, on=group_col) \n",
    "    base_var['ss_within'] = (base_var['target'] - base_var['group_mean'])**2\n",
    "    \n",
    "    ss_within =  base_var['ss_within'].sum()\n",
    "    ms_within = ss_within / (N - k)\n",
    "    \n",
    "    F = ms_between / ms_within\n",
    "    \n",
    "    return pd.DataFrame({'F': [F], 'N': [N], 'k': [k],\n",
    "                         'ss_between': [ss_between], 'ms_between': [ms_between],\n",
    "                         'ss_within':[ss_within], 'ms_within':[ms_within],\n",
    "                         'ss_tot': [ss_within + ss_between]})\n",
    "    "
   ]
  },
  {
   "cell_type": "code",
   "execution_count": 26,
   "id": "e9f3d816-92d9-4584-80f6-f045bb9517c2",
   "metadata": {},
   "outputs": [
    {
     "data": {
      "text/html": [
       "<div>\n",
       "<style scoped>\n",
       "    .dataframe tbody tr th:only-of-type {\n",
       "        vertical-align: middle;\n",
       "    }\n",
       "\n",
       "    .dataframe tbody tr th {\n",
       "        vertical-align: top;\n",
       "    }\n",
       "\n",
       "    .dataframe thead th {\n",
       "        text-align: right;\n",
       "    }\n",
       "</style>\n",
       "<table border=\"1\" class=\"dataframe\">\n",
       "  <thead>\n",
       "    <tr style=\"text-align: right;\">\n",
       "      <th></th>\n",
       "      <th></th>\n",
       "      <th>F</th>\n",
       "      <th>N</th>\n",
       "      <th>k</th>\n",
       "      <th>ss_between</th>\n",
       "      <th>ms_between</th>\n",
       "      <th>ss_within</th>\n",
       "      <th>ms_within</th>\n",
       "      <th>ss_tot</th>\n",
       "    </tr>\n",
       "  </thead>\n",
       "  <tbody>\n",
       "    <tr>\n",
       "      <th>cluster_003</th>\n",
       "      <th>0</th>\n",
       "      <td>3941.769128</td>\n",
       "      <td>436120</td>\n",
       "      <td>3</td>\n",
       "      <td>1260.436874</td>\n",
       "      <td>630.218437</td>\n",
       "      <td>69727.314121</td>\n",
       "      <td>0.159882</td>\n",
       "      <td>70987.750995</td>\n",
       "    </tr>\n",
       "    <tr>\n",
       "      <th>cluster_010</th>\n",
       "      <th>0</th>\n",
       "      <td>1245.160090</td>\n",
       "      <td>436120</td>\n",
       "      <td>10</td>\n",
       "      <td>1778.427880</td>\n",
       "      <td>197.603098</td>\n",
       "      <td>69209.323115</td>\n",
       "      <td>0.158697</td>\n",
       "      <td>70987.750995</td>\n",
       "    </tr>\n",
       "    <tr>\n",
       "      <th>cluster_020</th>\n",
       "      <th>0</th>\n",
       "      <td>738.645139</td>\n",
       "      <td>436120</td>\n",
       "      <td>20</td>\n",
       "      <td>2213.251645</td>\n",
       "      <td>116.486929</td>\n",
       "      <td>68774.499350</td>\n",
       "      <td>0.157704</td>\n",
       "      <td>70987.750995</td>\n",
       "    </tr>\n",
       "    <tr>\n",
       "      <th>cluster_106</th>\n",
       "      <th>0</th>\n",
       "      <td>177.349277</td>\n",
       "      <td>436120</td>\n",
       "      <td>105</td>\n",
       "      <td>2881.052425</td>\n",
       "      <td>27.702427</td>\n",
       "      <td>68106.698570</td>\n",
       "      <td>0.156203</td>\n",
       "      <td>70987.750995</td>\n",
       "    </tr>\n",
       "    <tr>\n",
       "      <th>cluster_354</th>\n",
       "      <th>0</th>\n",
       "      <td>65.092254</td>\n",
       "      <td>436120</td>\n",
       "      <td>338</td>\n",
       "      <td>3402.080247</td>\n",
       "      <td>10.095194</td>\n",
       "      <td>67585.670748</td>\n",
       "      <td>0.155091</td>\n",
       "      <td>70987.750995</td>\n",
       "    </tr>\n",
       "    <tr>\n",
       "      <th>cluster_834</th>\n",
       "      <th>0</th>\n",
       "      <td>33.403171</td>\n",
       "      <td>436120</td>\n",
       "      <td>757</td>\n",
       "      <td>3891.831916</td>\n",
       "      <td>5.147926</td>\n",
       "      <td>67095.919079</td>\n",
       "      <td>0.154115</td>\n",
       "      <td>70987.750995</td>\n",
       "    </tr>\n",
       "  </tbody>\n",
       "</table>\n",
       "</div>"
      ],
      "text/plain": [
       "                         F       N    k   ss_between  ms_between  \\\n",
       "cluster_003 0  3941.769128  436120    3  1260.436874  630.218437   \n",
       "cluster_010 0  1245.160090  436120   10  1778.427880  197.603098   \n",
       "cluster_020 0   738.645139  436120   20  2213.251645  116.486929   \n",
       "cluster_106 0   177.349277  436120  105  2881.052425   27.702427   \n",
       "cluster_354 0    65.092254  436120  338  3402.080247   10.095194   \n",
       "cluster_834 0    33.403171  436120  757  3891.831916    5.147926   \n",
       "\n",
       "                  ss_within  ms_within        ss_tot  \n",
       "cluster_003 0  69727.314121   0.159882  70987.750995  \n",
       "cluster_010 0  69209.323115   0.158697  70987.750995  \n",
       "cluster_020 0  68774.499350   0.157704  70987.750995  \n",
       "cluster_106 0  68106.698570   0.156203  70987.750995  \n",
       "cluster_354 0  67585.670748   0.155091  70987.750995  \n",
       "cluster_834 0  67095.919079   0.154115  70987.750995  "
      ]
     },
     "execution_count": 26,
     "metadata": {},
     "output_type": "execute_result"
    }
   ],
   "source": [
    "ss_info_dgi = pd.concat([get_ss_info(train_df, c) for c in naics_dgi_col],\n",
    "                         keys=naics_dgi_col)\n",
    "ss_info_dgi"
   ]
  },
  {
   "cell_type": "code",
   "execution_count": 27,
   "id": "e029698e-42a8-4d7a-a4f0-584c0ae8c59d",
   "metadata": {},
   "outputs": [
    {
     "data": {
      "text/html": [
       "<div>\n",
       "<style scoped>\n",
       "    .dataframe tbody tr th:only-of-type {\n",
       "        vertical-align: middle;\n",
       "    }\n",
       "\n",
       "    .dataframe tbody tr th {\n",
       "        vertical-align: top;\n",
       "    }\n",
       "\n",
       "    .dataframe thead th {\n",
       "        text-align: right;\n",
       "    }\n",
       "</style>\n",
       "<table border=\"1\" class=\"dataframe\">\n",
       "  <thead>\n",
       "    <tr style=\"text-align: right;\">\n",
       "      <th></th>\n",
       "      <th></th>\n",
       "      <th>F</th>\n",
       "      <th>N</th>\n",
       "      <th>k</th>\n",
       "      <th>ss_between</th>\n",
       "      <th>ms_between</th>\n",
       "      <th>ss_within</th>\n",
       "      <th>ms_within</th>\n",
       "      <th>ss_tot</th>\n",
       "    </tr>\n",
       "  </thead>\n",
       "  <tbody>\n",
       "    <tr>\n",
       "      <th>NAICS_5</th>\n",
       "      <th>0</th>\n",
       "      <td>32.626764</td>\n",
       "      <td>436120</td>\n",
       "      <td>770</td>\n",
       "      <td>3868.216083</td>\n",
       "      <td>5.030190</td>\n",
       "      <td>67119.534913</td>\n",
       "      <td>0.154174</td>\n",
       "      <td>70987.750995</td>\n",
       "    </tr>\n",
       "    <tr>\n",
       "      <th>NAICS_4</th>\n",
       "      <th>0</th>\n",
       "      <td>61.036651</td>\n",
       "      <td>436120</td>\n",
       "      <td>348</td>\n",
       "      <td>3290.283162</td>\n",
       "      <td>9.482084</td>\n",
       "      <td>67697.467833</td>\n",
       "      <td>0.155351</td>\n",
       "      <td>70987.750995</td>\n",
       "    </tr>\n",
       "    <tr>\n",
       "      <th>NAICS_3</th>\n",
       "      <th>0</th>\n",
       "      <td>150.928868</td>\n",
       "      <td>436120</td>\n",
       "      <td>105</td>\n",
       "      <td>2466.765265</td>\n",
       "      <td>23.718897</td>\n",
       "      <td>68520.985730</td>\n",
       "      <td>0.157153</td>\n",
       "      <td>70987.750995</td>\n",
       "    </tr>\n",
       "    <tr>\n",
       "      <th>NAICS_sector</th>\n",
       "      <th>0</th>\n",
       "      <td>291.044023</td>\n",
       "      <td>436120</td>\n",
       "      <td>20</td>\n",
       "      <td>888.868052</td>\n",
       "      <td>46.782529</td>\n",
       "      <td>70098.882943</td>\n",
       "      <td>0.160740</td>\n",
       "      <td>70987.750995</td>\n",
       "    </tr>\n",
       "  </tbody>\n",
       "</table>\n",
       "</div>"
      ],
      "text/plain": [
       "                         F       N    k   ss_between  ms_between  \\\n",
       "NAICS_5      0   32.626764  436120  770  3868.216083    5.030190   \n",
       "NAICS_4      0   61.036651  436120  348  3290.283162    9.482084   \n",
       "NAICS_3      0  150.928868  436120  105  2466.765265   23.718897   \n",
       "NAICS_sector 0  291.044023  436120   20   888.868052   46.782529   \n",
       "\n",
       "                   ss_within  ms_within        ss_tot  \n",
       "NAICS_5      0  67119.534913   0.154174  70987.750995  \n",
       "NAICS_4      0  67697.467833   0.155351  70987.750995  \n",
       "NAICS_3      0  68520.985730   0.157153  70987.750995  \n",
       "NAICS_sector 0  70098.882943   0.160740  70987.750995  "
      ]
     },
     "execution_count": 27,
     "metadata": {},
     "output_type": "execute_result"
    }
   ],
   "source": [
    "ss_info_naics = pd.concat([get_ss_info(train_df, c) for c in naics_grp_col],\n",
    "                         keys=naics_grp_col)\n",
    "ss_info_naics"
   ]
  },
  {
   "cell_type": "code",
   "execution_count": 38,
   "id": "bd3cc60c-12b9-484c-b2bc-fd604e02697e",
   "metadata": {},
   "outputs": [
    {
     "data": {
      "text/plain": [
       "Text(0.5, 1.0, 'Mean square within group err')"
      ]
     },
     "execution_count": 38,
     "metadata": {},
     "output_type": "execute_result"
    },
    {
     "data": {
      "image/png": "[encoded data removed]",
      "text/plain": [
       "<Figure size 640x480 with 1 Axes>"
      ]
     },
     "metadata": {},
     "output_type": "display_data"
    }
   ],
   "source": [
    "fig, ax = plt.subplots()\n",
    "ss_info_naics.plot(x='k', y='ms_within', ax=ax, label='std', style='o-')\n",
    "ss_info_dgi.plot(x='k', y='ms_within', ax=ax, label='dgi', style='o-')\n",
    "ax.set_title('Mean square within group err')"
   ]
  },
  {
   "cell_type": "code",
   "execution_count": 39,
   "id": "472956bc-2a80-4ab9-b519-f04f975a8996",
   "metadata": {},
   "outputs": [
    {
     "data": {
      "text/plain": [
       "Text(0.5, 1.0, 'Sum square within group err')"
      ]
     },
     "execution_count": 39,
     "metadata": {},
     "output_type": "execute_result"
    },
    {
     "data": {
      "image/png": "[encoded data removed]",
      "text/plain": [
       "<Figure size 640x480 with 1 Axes>"
      ]
     },
     "metadata": {},
     "output_type": "display_data"
    }
   ],
   "source": [
    "fig, ax = plt.subplots()\n",
    "ss_info_naics.plot(x='k', y='ss_within', ax=ax, label='std', style='o-')\n",
    "ss_info_dgi.plot(x='k', y='ss_within', ax=ax, label='dgi', style='o-')\n",
    "ax.set_title('Sum square within group err')"
   ]
  },
  {
   "cell_type": "code",
   "execution_count": 41,
   "id": "bf0232c9-9414-46af-b2be-4044a60114c2",
   "metadata": {},
   "outputs": [
    {
     "data": {
      "text/plain": [
       "Text(0.5, 1.0, 'F scores')"
      ]
     },
     "execution_count": 41,
     "metadata": {},
     "output_type": "execute_result"
    },
    {
     "data": {
      "image/png": "[encoded data removed]",
      "text/plain": [
       "<Figure size 640x480 with 1 Axes>"
      ]
     },
     "metadata": {},
     "output_type": "display_data"
    }
   ],
   "source": [
    "fig, ax = plt.subplots()\n",
    "ss_info_naics.plot(x='k', y='F', ax=ax, label='std', style='o-')\n",
    "ss_info_dgi.plot(x='k', y='F', ax=ax, label='dgi', style='o-')\n",
    "ax.set_title('F scores')"
   ]
  },
  {
   "cell_type": "markdown",
   "id": "3925256a-3e1c-4aed-b3c1-7f1e457e1dc9",
   "metadata": {},
   "source": [
    "## NAICS level"
   ]
  },
  {
   "cell_type": "code",
   "execution_count": 29,
   "id": "a39a4923-9d22-4319-97ae-f3b39eb5e9a2",
   "metadata": {},
   "outputs": [],
   "source": [
    "naics_base = train_df.drop_duplicates('NAICS').drop(columns='target') \\\n",
    "   .merge(train_df.groupby('NAICS')['target'].agg('mean').reset_index(),\n",
    "          on='NAICS')\n"
   ]
  },
  {
   "cell_type": "code",
   "execution_count": 30,
   "id": "c1f1bbe3-9cd1-4eea-9727-3c2be73bf50b",
   "metadata": {},
   "outputs": [
    {
     "data": {
      "text/html": [
       "<div>\n",
       "<style scoped>\n",
       "    .dataframe tbody tr th:only-of-type {\n",
       "        vertical-align: middle;\n",
       "    }\n",
       "\n",
       "    .dataframe tbody tr th {\n",
       "        vertical-align: top;\n",
       "    }\n",
       "\n",
       "    .dataframe thead th {\n",
       "        text-align: right;\n",
       "    }\n",
       "</style>\n",
       "<table border=\"1\" class=\"dataframe\">\n",
       "  <thead>\n",
       "    <tr style=\"text-align: right;\">\n",
       "      <th></th>\n",
       "      <th></th>\n",
       "      <th>F</th>\n",
       "      <th>N</th>\n",
       "      <th>k</th>\n",
       "      <th>ss_between</th>\n",
       "      <th>ms_between</th>\n",
       "      <th>ss_within</th>\n",
       "      <th>ms_within</th>\n",
       "      <th>ss_tot</th>\n",
       "    </tr>\n",
       "  </thead>\n",
       "  <tbody>\n",
       "    <tr>\n",
       "      <th>cluster_003</th>\n",
       "      <th>0</th>\n",
       "      <td>124.986768</td>\n",
       "      <td>1166</td>\n",
       "      <td>3</td>\n",
       "      <td>4.073598</td>\n",
       "      <td>2.036799</td>\n",
       "      <td>18.952384</td>\n",
       "      <td>0.016296</td>\n",
       "      <td>23.025982</td>\n",
       "    </tr>\n",
       "    <tr>\n",
       "      <th>cluster_010</th>\n",
       "      <th>0</th>\n",
       "      <td>35.783352</td>\n",
       "      <td>1166</td>\n",
       "      <td>10</td>\n",
       "      <td>5.017097</td>\n",
       "      <td>0.557455</td>\n",
       "      <td>18.008885</td>\n",
       "      <td>0.015579</td>\n",
       "      <td>23.025982</td>\n",
       "    </tr>\n",
       "    <tr>\n",
       "      <th>cluster_020</th>\n",
       "      <th>0</th>\n",
       "      <td>20.305228</td>\n",
       "      <td>1166</td>\n",
       "      <td>20</td>\n",
       "      <td>5.799329</td>\n",
       "      <td>0.305228</td>\n",
       "      <td>17.226653</td>\n",
       "      <td>0.015032</td>\n",
       "      <td>23.025982</td>\n",
       "    </tr>\n",
       "    <tr>\n",
       "      <th>cluster_106</th>\n",
       "      <th>0</th>\n",
       "      <td>5.832836</td>\n",
       "      <td>1166</td>\n",
       "      <td>105</td>\n",
       "      <td>8.375977</td>\n",
       "      <td>0.080538</td>\n",
       "      <td>14.650005</td>\n",
       "      <td>0.013808</td>\n",
       "      <td>23.025982</td>\n",
       "    </tr>\n",
       "    <tr>\n",
       "      <th>cluster_354</th>\n",
       "      <th>0</th>\n",
       "      <td>2.889023</td>\n",
       "      <td>1166</td>\n",
       "      <td>338</td>\n",
       "      <td>12.443441</td>\n",
       "      <td>0.036924</td>\n",
       "      <td>10.582541</td>\n",
       "      <td>0.012781</td>\n",
       "      <td>23.025982</td>\n",
       "    </tr>\n",
       "    <tr>\n",
       "      <th>cluster_834</th>\n",
       "      <th>0</th>\n",
       "      <td>3.027121</td>\n",
       "      <td>1166</td>\n",
       "      <td>757</td>\n",
       "      <td>19.534744</td>\n",
       "      <td>0.025840</td>\n",
       "      <td>3.491238</td>\n",
       "      <td>0.008536</td>\n",
       "      <td>23.025982</td>\n",
       "    </tr>\n",
       "  </tbody>\n",
       "</table>\n",
       "</div>"
      ],
      "text/plain": [
       "                        F     N    k  ss_between  ms_between  ss_within  \\\n",
       "cluster_003 0  124.986768  1166    3    4.073598    2.036799  18.952384   \n",
       "cluster_010 0   35.783352  1166   10    5.017097    0.557455  18.008885   \n",
       "cluster_020 0   20.305228  1166   20    5.799329    0.305228  17.226653   \n",
       "cluster_106 0    5.832836  1166  105    8.375977    0.080538  14.650005   \n",
       "cluster_354 0    2.889023  1166  338   12.443441    0.036924  10.582541   \n",
       "cluster_834 0    3.027121  1166  757   19.534744    0.025840   3.491238   \n",
       "\n",
       "               ms_within     ss_tot  \n",
       "cluster_003 0   0.016296  23.025982  \n",
       "cluster_010 0   0.015579  23.025982  \n",
       "cluster_020 0   0.015032  23.025982  \n",
       "cluster_106 0   0.013808  23.025982  \n",
       "cluster_354 0   0.012781  23.025982  \n",
       "cluster_834 0   0.008536  23.025982  "
      ]
     },
     "execution_count": 30,
     "metadata": {},
     "output_type": "execute_result"
    }
   ],
   "source": [
    "ss_info_dgi_base = pd.concat([get_ss_info(naics_base, c) for c in naics_dgi_col],\n",
    "                         keys=naics_dgi_col)\n",
    "ss_info_dgi_base"
   ]
  },
  {
   "cell_type": "code",
   "execution_count": 31,
   "id": "1385b483-c233-4640-ba72-3f5a16748e1f",
   "metadata": {},
   "outputs": [
    {
     "data": {
      "text/html": [
       "<div>\n",
       "<style scoped>\n",
       "    .dataframe tbody tr th:only-of-type {\n",
       "        vertical-align: middle;\n",
       "    }\n",
       "\n",
       "    .dataframe tbody tr th {\n",
       "        vertical-align: top;\n",
       "    }\n",
       "\n",
       "    .dataframe thead th {\n",
       "        text-align: right;\n",
       "    }\n",
       "</style>\n",
       "<table border=\"1\" class=\"dataframe\">\n",
       "  <thead>\n",
       "    <tr style=\"text-align: right;\">\n",
       "      <th></th>\n",
       "      <th></th>\n",
       "      <th>F</th>\n",
       "      <th>N</th>\n",
       "      <th>k</th>\n",
       "      <th>ss_between</th>\n",
       "      <th>ms_between</th>\n",
       "      <th>ss_within</th>\n",
       "      <th>ms_within</th>\n",
       "      <th>ss_tot</th>\n",
       "    </tr>\n",
       "  </thead>\n",
       "  <tbody>\n",
       "    <tr>\n",
       "      <th>NAICS_5</th>\n",
       "      <th>0</th>\n",
       "      <td>0.996283</td>\n",
       "      <td>1166</td>\n",
       "      <td>770</td>\n",
       "      <td>15.179874</td>\n",
       "      <td>0.019740</td>\n",
       "      <td>7.846108</td>\n",
       "      <td>0.019813</td>\n",
       "      <td>23.025982</td>\n",
       "    </tr>\n",
       "    <tr>\n",
       "      <th>NAICS_4</th>\n",
       "      <th>0</th>\n",
       "      <td>1.971927</td>\n",
       "      <td>1166</td>\n",
       "      <td>348</td>\n",
       "      <td>10.488025</td>\n",
       "      <td>0.030225</td>\n",
       "      <td>12.537957</td>\n",
       "      <td>0.015328</td>\n",
       "      <td>23.025982</td>\n",
       "    </tr>\n",
       "    <tr>\n",
       "      <th>NAICS_3</th>\n",
       "      <th>0</th>\n",
       "      <td>4.525248</td>\n",
       "      <td>1166</td>\n",
       "      <td>105</td>\n",
       "      <td>7.075240</td>\n",
       "      <td>0.068031</td>\n",
       "      <td>15.950742</td>\n",
       "      <td>0.015034</td>\n",
       "      <td>23.025982</td>\n",
       "    </tr>\n",
       "    <tr>\n",
       "      <th>NAICS_sector</th>\n",
       "      <th>0</th>\n",
       "      <td>6.029470</td>\n",
       "      <td>1166</td>\n",
       "      <td>20</td>\n",
       "      <td>2.092606</td>\n",
       "      <td>0.110137</td>\n",
       "      <td>20.933376</td>\n",
       "      <td>0.018266</td>\n",
       "      <td>23.025982</td>\n",
       "    </tr>\n",
       "  </tbody>\n",
       "</table>\n",
       "</div>"
      ],
      "text/plain": [
       "                       F     N    k  ss_between  ms_between  ss_within  \\\n",
       "NAICS_5      0  0.996283  1166  770   15.179874    0.019740   7.846108   \n",
       "NAICS_4      0  1.971927  1166  348   10.488025    0.030225  12.537957   \n",
       "NAICS_3      0  4.525248  1166  105    7.075240    0.068031  15.950742   \n",
       "NAICS_sector 0  6.029470  1166   20    2.092606    0.110137  20.933376   \n",
       "\n",
       "                ms_within     ss_tot  \n",
       "NAICS_5      0   0.019813  23.025982  \n",
       "NAICS_4      0   0.015328  23.025982  \n",
       "NAICS_3      0   0.015034  23.025982  \n",
       "NAICS_sector 0   0.018266  23.025982  "
      ]
     },
     "execution_count": 31,
     "metadata": {},
     "output_type": "execute_result"
    }
   ],
   "source": [
    "ss_info_naics_base = pd.concat([get_ss_info(naics_base, c) for c in naics_grp_col],\n",
    "                         keys=naics_grp_col)\n",
    "ss_info_naics_base"
   ]
  },
  {
   "cell_type": "code",
   "execution_count": 32,
   "id": "465251f7-d6d9-4adb-8b34-48bce0c878de",
   "metadata": {},
   "outputs": [
    {
     "data": {
      "text/plain": [
       "<Axes: xlabel='k'>"
      ]
     },
     "execution_count": 32,
     "metadata": {},
     "output_type": "execute_result"
    },
    {
     "data": {
      "image/png": "[encoded data removed]",
      "text/plain": [
       "<Figure size 640x480 with 1 Axes>"
      ]
     },
     "metadata": {},
     "output_type": "display_data"
    }
   ],
   "source": [
    "fig, ax = plt.subplots()\n",
    "ss_info_naics_base.plot(x='k', y='ms_between', ax=ax, label='std')\n",
    "ss_info_dgi_base.plot(x='k', y='ms_between', ax=ax, label='clus')"
   ]
  },
  {
   "cell_type": "markdown",
   "id": "97b1a7ed-6487-4fc7-a7dd-090e5d9da34a",
   "metadata": {},
   "source": [
    "## NAICS 5 / cluster_834 Exploration\n",
    "Look at the smallest groupings, and how holdouts join to these"
   ]
  },
  {
   "cell_type": "code",
   "execution_count": null,
   "id": "aa424d0a-3ff9-4c3a-8a51-0f718b1ab691",
   "metadata": {},
   "outputs": [],
   "source": []
  },
  {
   "cell_type": "code",
   "execution_count": null,
   "id": "2d31162e-6ecb-42a5-b088-1dd57c366e98",
   "metadata": {},
   "outputs": [],
   "source": []
  },
  {
   "cell_type": "code",
   "execution_count": null,
   "id": "3a9db949-36d2-4ef1-9df2-8944fab45ea7",
   "metadata": {},
   "outputs": [],
   "source": []
  },
  {
   "cell_type": "code",
   "execution_count": null,
   "id": "89c919ca-6de9-437b-9e04-ba45be44476b",
   "metadata": {},
   "outputs": [],
   "source": []
  },
  {
   "cell_type": "code",
   "execution_count": 33,
   "id": "11957a66-813a-4eab-a878-362758d560bf",
   "metadata": {},
   "outputs": [
    {
     "ename": "SyntaxError",
     "evalue": "invalid syntax (24147056.py, line 1)",
     "output_type": "error",
     "traceback": [
      "\u001b[0;36m  Cell \u001b[0;32mIn[33], line 1\u001b[0;36m\u001b[0m\n\u001b[0;31m    TO DO\u001b[0m\n\u001b[0m       ^\u001b[0m\n\u001b[0;31mSyntaxError\u001b[0m\u001b[0;31m:\u001b[0m invalid syntax\n"
     ]
    }
   ],
   "source": [
    "TO DO  \n",
    "- Excel and writing\n",
    "- Consider F test\n",
    "\n",
    "Look at histogram of mean rates for the \"NAICS 5\" group\n",
    "- all and joined with holdout NAICS\n",
    "\n",
    "Write 82\n"
   ]
  },
  {
   "cell_type": "code",
   "execution_count": null,
   "id": "51f3e0ed-a1b8-4367-9033-6e30dd654f55",
   "metadata": {},
   "outputs": [],
   "source": []
  }
 ],
 "metadata": {
  "kernelspec": {
   "display_name": "tf_p39",
   "language": "python",
   "name": "tf_p39"
  },
  "language_info": {
   "codemirror_mode": {
    "name": "ipython",
    "version": 3
   },
   "file_extension": ".py",
   "mimetype": "text/x-python",
   "name": "python",
   "nbconvert_exporter": "python",
   "pygments_lexer": "ipython3",
   "version": "3.8.18"
  }
 },
 "nbformat": 4,
 "nbformat_minor": 5
}
