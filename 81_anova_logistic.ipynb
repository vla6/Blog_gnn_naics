{
 "cells": [
  {
   "cell_type": "code",
   "execution_count": 1,
   "id": "6888d5e0-99f6-4f1e-ba66-96f68448ffa0",
   "metadata": {},
   "outputs": [],
   "source": [
    "# Modify the file 00_setup.py to define input/output file paths on your system\n",
    "# The information in 00_setup.py will be used across notebooks\n",
    "from importlib.machinery import SourceFileLoader\n",
    "setup = SourceFileLoader(\"setup\", \"./00_setup.py\").load_module()"
   ]
  },
  {
   "cell_type": "markdown",
   "id": "6007d3ed-efc1-4745-874b-d410ada1d35d",
   "metadata": {},
   "source": [
    "# ANOVA, Regression, etc.\n",
    "Various ANOVA and related analyses"
   ]
  },
  {
   "cell_type": "code",
   "execution_count": 2,
   "id": "d9d6cb68-1571-4609-99a0-ac60defb2b78",
   "metadata": {},
   "outputs": [],
   "source": [
    "import numpy as np\n",
    "import pandas as pd\n",
    "from pathlib import Path\n",
    "import importlib, os"
   ]
  },
  {
   "cell_type": "code",
   "execution_count": 3,
   "id": "c00e8aa8-6207-481f-a343-74245d6f1224",
   "metadata": {},
   "outputs": [],
   "source": [
    "import statsmodels.api as sm\n",
    "from statsmodels.formula.api import ols\n",
    "from scipy import stats"
   ]
  },
  {
   "cell_type": "code",
   "execution_count": 4,
   "id": "ab4237f6-4f51-4143-bdff-806400261115",
   "metadata": {},
   "outputs": [
    {
     "data": {
      "text/plain": [
       "'1.3.2'"
      ]
     },
     "execution_count": 4,
     "metadata": {},
     "output_type": "execute_result"
    }
   ],
   "source": [
    "import sklearn as sk\n",
    "sk.__version__"
   ]
  },
  {
   "cell_type": "markdown",
   "id": "fece7299-0723-487b-a52c-1c03598ac29f",
   "metadata": {},
   "source": [
    "## Import Data"
   ]
  },
  {
   "cell_type": "code",
   "execution_count": 5,
   "id": "2073255d-9621-4590-8086-6a648d38047a",
   "metadata": {},
   "outputs": [],
   "source": [
    "sba_loans = pd.read_parquet(Path(setup.temp_path).joinpath('01_DATA_transformed.parquet'))"
   ]
  },
  {
   "cell_type": "code",
   "execution_count": 6,
   "id": "ebadfa1e-56cc-42ec-91ed-4fd915500ee9",
   "metadata": {},
   "outputs": [],
   "source": [
    "train_df = sba_loans[sba_loans['dset'] == 'train']"
   ]
  },
  {
   "cell_type": "markdown",
   "id": "224053bd-f5d3-47e6-b426-3b1681aa2b04",
   "metadata": {},
   "source": [
    "##### NAICS sector (one hot encodings) info"
   ]
  },
  {
   "cell_type": "code",
   "execution_count": 7,
   "id": "9fb2552b-877c-40ca-aff6-3a136bce562d",
   "metadata": {},
   "outputs": [
    {
     "data": {
      "text/plain": [
       "10"
      ]
     },
     "execution_count": 7,
     "metadata": {},
     "output_type": "execute_result"
    }
   ],
   "source": [
    "one_hot_feat= [c for c in sba_loans.columns if c.startswith('NS__')]\n",
    "one_hot_feat_len = len(one_hot_feat)\n",
    "one_hot_feat_len"
   ]
  },
  {
   "cell_type": "code",
   "execution_count": 8,
   "id": "18a7855d-6fa6-4602-a21f-4f9d14428951",
   "metadata": {},
   "outputs": [
    {
     "data": {
      "text/plain": [
       "['NS___Accommodation and Food Services',\n",
       " 'NS___Administrative and Support and Waste Management and Remediation Services',\n",
       " 'NS___Construction',\n",
       " 'NS___Health Care and Social Assistance',\n",
       " 'NS___Manufacturing',\n",
       " 'NS___Other Services (except Public Administration)',\n",
       " 'NS___Professional, Scientific, and Technical Services',\n",
       " 'NS___Retail Trade',\n",
       " 'NS___Wholesale Trade',\n",
       " 'NS___infrequent_sklearn']"
      ]
     },
     "execution_count": 8,
     "metadata": {},
     "output_type": "execute_result"
    }
   ],
   "source": [
    "one_hot_feat"
   ]
  },
  {
   "cell_type": "markdown",
   "id": "2e68ae0a-157a-412c-965b-4a5f9bbaa076",
   "metadata": {},
   "source": [
    "##### NAICS info"
   ]
  },
  {
   "cell_type": "code",
   "execution_count": 9,
   "id": "cc09f2f8-18bc-4db8-b71b-999c0c221111",
   "metadata": {},
   "outputs": [],
   "source": [
    "naics_info = pd.read_parquet(Path(setup.temp_path).joinpath('60_DATA_naics_summary_stats.parquet')) "
   ]
  },
  {
   "cell_type": "code",
   "execution_count": 10,
   "id": "c6702253-b873-4852-ba78-16e52f0ff12b",
   "metadata": {},
   "outputs": [],
   "source": [
    "naics_map = pd.read_parquet(Path(setup.temp_path).joinpath('60_DATA_naics_map.parquet'))"
   ]
  },
  {
   "cell_type": "code",
   "execution_count": 11,
   "id": "0c2e9e99-cdf3-4218-b8d5-9d908d30f415",
   "metadata": {},
   "outputs": [
    {
     "data": {
      "text/html": [
       "<div>\n",
       "<style scoped>\n",
       "    .dataframe tbody tr th:only-of-type {\n",
       "        vertical-align: middle;\n",
       "    }\n",
       "\n",
       "    .dataframe tbody tr th {\n",
       "        vertical-align: top;\n",
       "    }\n",
       "\n",
       "    .dataframe thead th {\n",
       "        text-align: right;\n",
       "    }\n",
       "</style>\n",
       "<table border=\"1\" class=\"dataframe\">\n",
       "  <thead>\n",
       "    <tr style=\"text-align: right;\">\n",
       "      <th></th>\n",
       "      <th>NAICS</th>\n",
       "      <th>train_count</th>\n",
       "      <th>train_target_mean</th>\n",
       "      <th>NAICS_sector</th>\n",
       "      <th>menc_NAICS</th>\n",
       "      <th>cenc_NAICS</th>\n",
       "      <th>dset_naics_holdout</th>\n",
       "      <th>all_count</th>\n",
       "      <th>all_target_mean</th>\n",
       "      <th>NAICS_sector_sel</th>\n",
       "    </tr>\n",
       "  </thead>\n",
       "  <tbody>\n",
       "    <tr>\n",
       "      <th>937</th>\n",
       "      <td>513120</td>\n",
       "      <td>22.0</td>\n",
       "      <td>0.000000</td>\n",
       "      <td>51</td>\n",
       "      <td>0.109988</td>\n",
       "      <td>0.000050</td>\n",
       "      <td>0</td>\n",
       "      <td>29</td>\n",
       "      <td>0.000000</td>\n",
       "      <td>0</td>\n",
       "    </tr>\n",
       "    <tr>\n",
       "      <th>263</th>\n",
       "      <td>316992</td>\n",
       "      <td>52.0</td>\n",
       "      <td>0.288462</td>\n",
       "      <td>31-33</td>\n",
       "      <td>0.271208</td>\n",
       "      <td>0.000119</td>\n",
       "      <td>0</td>\n",
       "      <td>74</td>\n",
       "      <td>0.310811</td>\n",
       "      <td>1</td>\n",
       "    </tr>\n",
       "  </tbody>\n",
       "</table>\n",
       "</div>"
      ],
      "text/plain": [
       "      NAICS  train_count  train_target_mean NAICS_sector  menc_NAICS  \\\n",
       "937  513120         22.0           0.000000           51    0.109988   \n",
       "263  316992         52.0           0.288462        31-33    0.271208   \n",
       "\n",
       "     cenc_NAICS  dset_naics_holdout  all_count  all_target_mean  \\\n",
       "937    0.000050                   0         29         0.000000   \n",
       "263    0.000119                   0         74         0.310811   \n",
       "\n",
       "     NAICS_sector_sel  \n",
       "937                 0  \n",
       "263                 1  "
      ]
     },
     "execution_count": 11,
     "metadata": {},
     "output_type": "execute_result"
    }
   ],
   "source": [
    "naics_info.sample(2)"
   ]
  },
  {
   "cell_type": "markdown",
   "id": "871c0f9d-6cd5-4276-bb8a-e635d2722404",
   "metadata": {},
   "source": [
    "##### Neural Network Embeddings\n",
    "With cluster and NAICS info appended"
   ]
  },
  {
   "cell_type": "code",
   "execution_count": 12,
   "id": "7568641c-9f49-44fc-88d5-f183bbc5cd94",
   "metadata": {},
   "outputs": [],
   "source": [
    "emb_nn_clus = pd.read_parquet(Path(setup.temp_path).joinpath('60_DATA_embeddings_tsne_naics.parquet'))\n",
    "emb_nn_feat = [c for c in emb_nn_clus.columns if c.startswith('emb_')]"
   ]
  },
  {
   "cell_type": "code",
   "execution_count": 13,
   "id": "9243fdcf-75f0-45a6-a29c-00d8780a3ce9",
   "metadata": {
    "tags": []
   },
   "outputs": [],
   "source": [
    "# Other size clusters, to get correct size\n",
    "nn_cluster_labels_all = pd.read_parquet(Path(setup.temp_path).joinpath('60_DATA_loop_cluster_labels.parquet'))"
   ]
  },
  {
   "cell_type": "markdown",
   "id": "317a159f-7e0d-4bd7-b0d6-df2d415ae607",
   "metadata": {},
   "source": [
    "##### DGI embeddings"
   ]
  },
  {
   "cell_type": "code",
   "execution_count": 14,
   "id": "6b7a88c1-86d4-4dcd-9f83-31976f44b5e6",
   "metadata": {},
   "outputs": [],
   "source": [
    "emb_dgi_clus = pd.read_parquet(Path(setup.temp_path).joinpath('63_DATA_embeddings_tsne_naics.parquet'))\n",
    "emb_dgi_feat = [c for c in emb_dgi_clus.columns if c.startswith('emb_')]"
   ]
  },
  {
   "cell_type": "markdown",
   "id": "a983b43b-fcb4-4909-8c8f-3fe94a465f90",
   "metadata": {},
   "source": [
    "## Functions"
   ]
  },
  {
   "cell_type": "markdown",
   "id": "e252e783-8bf8-4c49-93c9-426f10a5a989",
   "metadata": {},
   "source": [
    "##### ANOVA with variation explained"
   ]
  },
  {
   "cell_type": "code",
   "execution_count": 15,
   "id": "16c3e066-171b-4383-896b-6e2fefb1eace",
   "metadata": {},
   "outputs": [],
   "source": [
    "def anova_var(data, eqn):\n",
    "    \"\"\"Perform one way ANOVA, return variance explained\"\"\"\n",
    "    lm = ols(eqn, data=data).fit()\n",
    "    res = sm.stats.anova_lm(lm, typ=1)\n",
    "    res = pd.concat([res, \n",
    "                     (res['sum_sq'].transform(lambda x: x/x.sum())).rename('var_f')],\n",
    "                    axis=1)\n",
    "    return res"
   ]
  },
  {
   "cell_type": "markdown",
   "id": "b18449d5-440a-4922-8489-205f2f5ffabe",
   "metadata": {},
   "source": [
    "## NAICS sector - Baseline\n",
    "ANOVA results in the training data, looking at variation explained by NAICS groupings"
   ]
  },
  {
   "cell_type": "markdown",
   "id": "96f4027b-5eb2-4af9-a731-a41b57782983",
   "metadata": {},
   "source": [
    "##### Stats oneway summary"
   ]
  },
  {
   "cell_type": "code",
   "execution_count": 16,
   "id": "06290ad5-822a-49f4-b8b4-05146690ab3f",
   "metadata": {},
   "outputs": [],
   "source": [
    "sector_groups = train_df.groupby('NAICS_sector')\n",
    "sectors_list = [g['target'].to_numpy() for n, g in sector_groups]"
   ]
  },
  {
   "cell_type": "code",
   "execution_count": 17,
   "id": "a7056111-67ac-4771-9739-d12385181f38",
   "metadata": {},
   "outputs": [],
   "source": [
    "f_sector, p_sector = stats.f_oneway(*sectors_list)"
   ]
  },
  {
   "cell_type": "code",
   "execution_count": 18,
   "id": "c13268af-5016-4425-9c86-21ba21ec37ef",
   "metadata": {},
   "outputs": [
    {
     "name": "stdout",
     "output_type": "stream",
     "text": [
      "sector oneway f: 291.0440232558134, p: 0.0\n"
     ]
    }
   ],
   "source": [
    "print(f'sector oneway f: {f_sector}, p: {p_sector}')"
   ]
  },
  {
   "cell_type": "code",
   "execution_count": 19,
   "id": "86918296-c8de-4bf6-bcb5-9be57e08ad27",
   "metadata": {},
   "outputs": [],
   "source": [
    "naics_groups = train_df.groupby('NAICS')\n",
    "naics_list = [g['target'].to_numpy() for n, g in naics_groups]"
   ]
  },
  {
   "cell_type": "code",
   "execution_count": 20,
   "id": "bd0e0952-e147-4920-8b62-7857ea87cbd3",
   "metadata": {},
   "outputs": [],
   "source": [
    "f_naics, p_naics = stats.f_oneway(*naics_list)"
   ]
  },
  {
   "cell_type": "code",
   "execution_count": 21,
   "id": "770dae7f-eaa3-493c-b965-3f94748e992c",
   "metadata": {},
   "outputs": [
    {
     "name": "stdout",
     "output_type": "stream",
     "text": [
      "naics oneway f: 23.185499693712188, p: 0.0\n"
     ]
    }
   ],
   "source": [
    "print(f'naics oneway f: {f_naics}, p: {p_naics}')"
   ]
  },
  {
   "cell_type": "markdown",
   "id": "c2b9ba85-979b-484a-a137-01d2c637e002",
   "metadata": {},
   "source": [
    "##### Residuals analysis - sector"
   ]
  },
  {
   "cell_type": "code",
   "execution_count": 22,
   "id": "0f7fc52e-0f1a-49fd-af32-574484346438",
   "metadata": {},
   "outputs": [],
   "source": [
    "res = anova_var(train_df, 'target ~ C(NAICS_sector)')"
   ]
  },
  {
   "cell_type": "code",
   "execution_count": 23,
   "id": "2a07fccb-135b-44cf-83c0-c9bbf01ff38e",
   "metadata": {},
   "outputs": [
    {
     "data": {
      "text/html": [
       "<div>\n",
       "<style scoped>\n",
       "    .dataframe tbody tr th:only-of-type {\n",
       "        vertical-align: middle;\n",
       "    }\n",
       "\n",
       "    .dataframe tbody tr th {\n",
       "        vertical-align: top;\n",
       "    }\n",
       "\n",
       "    .dataframe thead th {\n",
       "        text-align: right;\n",
       "    }\n",
       "</style>\n",
       "<table border=\"1\" class=\"dataframe\">\n",
       "  <thead>\n",
       "    <tr style=\"text-align: right;\">\n",
       "      <th></th>\n",
       "      <th>df</th>\n",
       "      <th>sum_sq</th>\n",
       "      <th>mean_sq</th>\n",
       "      <th>F</th>\n",
       "      <th>PR(&gt;F)</th>\n",
       "      <th>var_f</th>\n",
       "    </tr>\n",
       "  </thead>\n",
       "  <tbody>\n",
       "    <tr>\n",
       "      <th>C(NAICS_sector)</th>\n",
       "      <td>19.0</td>\n",
       "      <td>888.868052</td>\n",
       "      <td>46.782529</td>\n",
       "      <td>291.044023</td>\n",
       "      <td>0.0</td>\n",
       "      <td>0.012521</td>\n",
       "    </tr>\n",
       "    <tr>\n",
       "      <th>Residual</th>\n",
       "      <td>436100.0</td>\n",
       "      <td>70098.882943</td>\n",
       "      <td>0.160740</td>\n",
       "      <td>NaN</td>\n",
       "      <td>NaN</td>\n",
       "      <td>0.987479</td>\n",
       "    </tr>\n",
       "  </tbody>\n",
       "</table>\n",
       "</div>"
      ],
      "text/plain": [
       "                       df        sum_sq    mean_sq           F  PR(>F)  \\\n",
       "C(NAICS_sector)      19.0    888.868052  46.782529  291.044023     0.0   \n",
       "Residual         436100.0  70098.882943   0.160740         NaN     NaN   \n",
       "\n",
       "                    var_f  \n",
       "C(NAICS_sector)  0.012521  \n",
       "Residual         0.987479  "
      ]
     },
     "execution_count": 23,
     "metadata": {},
     "output_type": "execute_result"
    }
   ],
   "source": [
    "res"
   ]
  },
  {
   "cell_type": "markdown",
   "id": "9d5e797a-2c28-4802-b5fa-b0e62af8c908",
   "metadata": {},
   "source": [
    "##### NAICS level \n",
    "How much of the mean target by NAICS is accounted for by sector?"
   ]
  },
  {
   "cell_type": "code",
   "execution_count": 24,
   "id": "3e7df8ea-1d37-47cf-8a9a-1f30e900796b",
   "metadata": {},
   "outputs": [],
   "source": [
    "naics_info_train = naics_info[naics_info['train_count'] > 0]"
   ]
  },
  {
   "cell_type": "code",
   "execution_count": 25,
   "id": "f574bf43-22a5-49b7-ac27-ab3a6663c532",
   "metadata": {},
   "outputs": [
    {
     "data": {
      "text/html": [
       "<div>\n",
       "<style scoped>\n",
       "    .dataframe tbody tr th:only-of-type {\n",
       "        vertical-align: middle;\n",
       "    }\n",
       "\n",
       "    .dataframe tbody tr th {\n",
       "        vertical-align: top;\n",
       "    }\n",
       "\n",
       "    .dataframe thead th {\n",
       "        text-align: right;\n",
       "    }\n",
       "</style>\n",
       "<table border=\"1\" class=\"dataframe\">\n",
       "  <thead>\n",
       "    <tr style=\"text-align: right;\">\n",
       "      <th></th>\n",
       "      <th>df</th>\n",
       "      <th>sum_sq</th>\n",
       "      <th>mean_sq</th>\n",
       "      <th>F</th>\n",
       "      <th>PR(&gt;F)</th>\n",
       "      <th>var_f</th>\n",
       "    </tr>\n",
       "  </thead>\n",
       "  <tbody>\n",
       "    <tr>\n",
       "      <th>C(NAICS_sector)</th>\n",
       "      <td>19.0</td>\n",
       "      <td>2.092606</td>\n",
       "      <td>0.110137</td>\n",
       "      <td>6.02947</td>\n",
       "      <td>8.001535e-15</td>\n",
       "      <td>0.09088</td>\n",
       "    </tr>\n",
       "    <tr>\n",
       "      <th>Residual</th>\n",
       "      <td>1146.0</td>\n",
       "      <td>20.933376</td>\n",
       "      <td>0.018266</td>\n",
       "      <td>NaN</td>\n",
       "      <td>NaN</td>\n",
       "      <td>0.90912</td>\n",
       "    </tr>\n",
       "  </tbody>\n",
       "</table>\n",
       "</div>"
      ],
      "text/plain": [
       "                     df     sum_sq   mean_sq        F        PR(>F)    var_f\n",
       "C(NAICS_sector)    19.0   2.092606  0.110137  6.02947  8.001535e-15  0.09088\n",
       "Residual         1146.0  20.933376  0.018266      NaN           NaN  0.90912"
      ]
     },
     "execution_count": 25,
     "metadata": {},
     "output_type": "execute_result"
    }
   ],
   "source": [
    "anova_var(naics_info_train, 'train_target_mean ~ C(NAICS_sector)')"
   ]
  },
  {
   "cell_type": "markdown",
   "id": "f3798de7-4cd6-48f2-b39f-c3a0caeb9f63",
   "metadata": {},
   "source": [
    "## NN Embeddings"
   ]
  },
  {
   "cell_type": "markdown",
   "id": "53c89687-9d29-4cc8-b109-38084e1987aa",
   "metadata": {},
   "source": [
    "##### NAICS sector ANOVA"
   ]
  },
  {
   "cell_type": "code",
   "execution_count": 26,
   "id": "5470ab7f-3efc-46b2-9476-551673459820",
   "metadata": {
    "tags": []
   },
   "outputs": [],
   "source": [
    "# OLS strings for each\n",
    "emb_str = [ ef+ ' ~ C(NAICS_sector)' for ef in emb_nn_feat]"
   ]
  },
  {
   "cell_type": "code",
   "execution_count": 27,
   "id": "ddcec760-868d-44ae-a6b1-5b3389da1036",
   "metadata": {},
   "outputs": [],
   "source": [
    "# All ANOVAs\n",
    "anova_nn_sector = pd.concat([anova_var(emb_nn_clus, s) for s in emb_str],\n",
    "                     keys=emb_nn_feat) \\\n",
    "    .reset_index()"
   ]
  },
  {
   "cell_type": "code",
   "execution_count": 28,
   "id": "4ecf8f1c-fe68-4622-b723-2eb1c8ea9494",
   "metadata": {},
   "outputs": [
    {
     "data": {
      "text/html": [
       "<div>\n",
       "<style scoped>\n",
       "    .dataframe tbody tr th:only-of-type {\n",
       "        vertical-align: middle;\n",
       "    }\n",
       "\n",
       "    .dataframe tbody tr th {\n",
       "        vertical-align: top;\n",
       "    }\n",
       "\n",
       "    .dataframe thead th {\n",
       "        text-align: right;\n",
       "    }\n",
       "</style>\n",
       "<table border=\"1\" class=\"dataframe\">\n",
       "  <thead>\n",
       "    <tr style=\"text-align: right;\">\n",
       "      <th></th>\n",
       "      <th>level_0</th>\n",
       "      <th>level_1</th>\n",
       "      <th>df</th>\n",
       "      <th>sum_sq</th>\n",
       "      <th>mean_sq</th>\n",
       "      <th>F</th>\n",
       "      <th>PR(&gt;F)</th>\n",
       "      <th>var_f</th>\n",
       "    </tr>\n",
       "  </thead>\n",
       "  <tbody>\n",
       "    <tr>\n",
       "      <th>0</th>\n",
       "      <td>emb_000</td>\n",
       "      <td>C(NAICS_sector)</td>\n",
       "      <td>19.0</td>\n",
       "      <td>34.749306</td>\n",
       "      <td>1.828911</td>\n",
       "      <td>5.994058</td>\n",
       "      <td>8.483143e-15</td>\n",
       "      <td>0.081065</td>\n",
       "    </tr>\n",
       "    <tr>\n",
       "      <th>2</th>\n",
       "      <td>emb_001</td>\n",
       "      <td>C(NAICS_sector)</td>\n",
       "      <td>19.0</td>\n",
       "      <td>43.070598</td>\n",
       "      <td>2.266874</td>\n",
       "      <td>5.581172</td>\n",
       "      <td>1.823633e-13</td>\n",
       "      <td>0.075905</td>\n",
       "    </tr>\n",
       "    <tr>\n",
       "      <th>4</th>\n",
       "      <td>emb_002</td>\n",
       "      <td>C(NAICS_sector)</td>\n",
       "      <td>19.0</td>\n",
       "      <td>14.829540</td>\n",
       "      <td>0.780502</td>\n",
       "      <td>3.499314</td>\n",
       "      <td>5.547648e-07</td>\n",
       "      <td>0.048978</td>\n",
       "    </tr>\n",
       "    <tr>\n",
       "      <th>6</th>\n",
       "      <td>emb_003</td>\n",
       "      <td>C(NAICS_sector)</td>\n",
       "      <td>19.0</td>\n",
       "      <td>4.942862</td>\n",
       "      <td>0.260151</td>\n",
       "      <td>2.981435</td>\n",
       "      <td>1.749886e-05</td>\n",
       "      <td>0.042034</td>\n",
       "    </tr>\n",
       "    <tr>\n",
       "      <th>8</th>\n",
       "      <td>emb_004</td>\n",
       "      <td>C(NAICS_sector)</td>\n",
       "      <td>19.0</td>\n",
       "      <td>17.984602</td>\n",
       "      <td>0.946558</td>\n",
       "      <td>4.705865</td>\n",
       "      <td>1.115476e-10</td>\n",
       "      <td>0.064772</td>\n",
       "    </tr>\n",
       "    <tr>\n",
       "      <th>10</th>\n",
       "      <td>emb_005</td>\n",
       "      <td>C(NAICS_sector)</td>\n",
       "      <td>19.0</td>\n",
       "      <td>4.785227</td>\n",
       "      <td>0.251854</td>\n",
       "      <td>2.492737</td>\n",
       "      <td>3.791076e-04</td>\n",
       "      <td>0.035388</td>\n",
       "    </tr>\n",
       "    <tr>\n",
       "      <th>12</th>\n",
       "      <td>emb_006</td>\n",
       "      <td>C(NAICS_sector)</td>\n",
       "      <td>19.0</td>\n",
       "      <td>14.099265</td>\n",
       "      <td>0.742067</td>\n",
       "      <td>4.576102</td>\n",
       "      <td>2.849018e-10</td>\n",
       "      <td>0.063098</td>\n",
       "    </tr>\n",
       "    <tr>\n",
       "      <th>14</th>\n",
       "      <td>emb_007</td>\n",
       "      <td>C(NAICS_sector)</td>\n",
       "      <td>19.0</td>\n",
       "      <td>38.176746</td>\n",
       "      <td>2.009302</td>\n",
       "      <td>5.105779</td>\n",
       "      <td>6.053271e-12</td>\n",
       "      <td>0.069891</td>\n",
       "    </tr>\n",
       "  </tbody>\n",
       "</table>\n",
       "</div>"
      ],
      "text/plain": [
       "    level_0          level_1    df     sum_sq   mean_sq         F  \\\n",
       "0   emb_000  C(NAICS_sector)  19.0  34.749306  1.828911  5.994058   \n",
       "2   emb_001  C(NAICS_sector)  19.0  43.070598  2.266874  5.581172   \n",
       "4   emb_002  C(NAICS_sector)  19.0  14.829540  0.780502  3.499314   \n",
       "6   emb_003  C(NAICS_sector)  19.0   4.942862  0.260151  2.981435   \n",
       "8   emb_004  C(NAICS_sector)  19.0  17.984602  0.946558  4.705865   \n",
       "10  emb_005  C(NAICS_sector)  19.0   4.785227  0.251854  2.492737   \n",
       "12  emb_006  C(NAICS_sector)  19.0  14.099265  0.742067  4.576102   \n",
       "14  emb_007  C(NAICS_sector)  19.0  38.176746  2.009302  5.105779   \n",
       "\n",
       "          PR(>F)     var_f  \n",
       "0   8.483143e-15  0.081065  \n",
       "2   1.823633e-13  0.075905  \n",
       "4   5.547648e-07  0.048978  \n",
       "6   1.749886e-05  0.042034  \n",
       "8   1.115476e-10  0.064772  \n",
       "10  3.791076e-04  0.035388  \n",
       "12  2.849018e-10  0.063098  \n",
       "14  6.053271e-12  0.069891  "
      ]
     },
     "execution_count": 28,
     "metadata": {},
     "output_type": "execute_result"
    }
   ],
   "source": [
    "anova_nn_sector[anova_nn_sector['level_1'] == 'C(NAICS_sector)']"
   ]
  },
  {
   "cell_type": "markdown",
   "id": "a6249c43-dc93-4577-9c31-eee0dd400c3e",
   "metadata": {},
   "source": [
    "##### NAICS level ANOVA (mean target)"
   ]
  },
  {
   "cell_type": "code",
   "execution_count": 29,
   "id": "707cb1ef-cc53-44f8-9a96-e7b685b2ce67",
   "metadata": {},
   "outputs": [],
   "source": [
    "naics_info_train_nn_cluster = naics_info[naics_info['train_count'] > 0] \\\n",
    "    .merge(emb_nn_clus.drop(columns='NAICS').rename(columns={'NAICS_orig':'NAICS'})[['NAICS', 'cluster']],\n",
    "           how='left', on='NAICS')"
   ]
  },
  {
   "cell_type": "code",
   "execution_count": 30,
   "id": "86dc6c4e-6249-4bd5-a28a-63f5fee7e8fa",
   "metadata": {},
   "outputs": [
    {
     "data": {
      "text/html": [
       "<div>\n",
       "<style scoped>\n",
       "    .dataframe tbody tr th:only-of-type {\n",
       "        vertical-align: middle;\n",
       "    }\n",
       "\n",
       "    .dataframe tbody tr th {\n",
       "        vertical-align: top;\n",
       "    }\n",
       "\n",
       "    .dataframe thead th {\n",
       "        text-align: right;\n",
       "    }\n",
       "</style>\n",
       "<table border=\"1\" class=\"dataframe\">\n",
       "  <thead>\n",
       "    <tr style=\"text-align: right;\">\n",
       "      <th></th>\n",
       "      <th>df</th>\n",
       "      <th>sum_sq</th>\n",
       "      <th>mean_sq</th>\n",
       "      <th>F</th>\n",
       "      <th>PR(&gt;F)</th>\n",
       "      <th>var_f</th>\n",
       "    </tr>\n",
       "  </thead>\n",
       "  <tbody>\n",
       "    <tr>\n",
       "      <th>C(cluster)</th>\n",
       "      <td>8.0</td>\n",
       "      <td>13.589351</td>\n",
       "      <td>1.698669</td>\n",
       "      <td>208.269227</td>\n",
       "      <td>5.202043e-218</td>\n",
       "      <td>0.590175</td>\n",
       "    </tr>\n",
       "    <tr>\n",
       "      <th>Residual</th>\n",
       "      <td>1157.0</td>\n",
       "      <td>9.436631</td>\n",
       "      <td>0.008156</td>\n",
       "      <td>NaN</td>\n",
       "      <td>NaN</td>\n",
       "      <td>0.409825</td>\n",
       "    </tr>\n",
       "  </tbody>\n",
       "</table>\n",
       "</div>"
      ],
      "text/plain": [
       "                df     sum_sq   mean_sq           F         PR(>F)     var_f\n",
       "C(cluster)     8.0  13.589351  1.698669  208.269227  5.202043e-218  0.590175\n",
       "Residual    1157.0   9.436631  0.008156         NaN            NaN  0.409825"
      ]
     },
     "execution_count": 30,
     "metadata": {},
     "output_type": "execute_result"
    }
   ],
   "source": [
    "anova_var(naics_info_train_nn_cluster, 'train_target_mean ~ C(cluster)')"
   ]
  },
  {
   "cell_type": "markdown",
   "id": "259a5518-8b09-4d20-b9a1-a8fe242378d0",
   "metadata": {},
   "source": [
    "##### Loan level ANOVA (raw target)"
   ]
  },
  {
   "cell_type": "code",
   "execution_count": 31,
   "id": "4f2fda43-d7a7-40b3-8ef6-fb2f3598457e",
   "metadata": {},
   "outputs": [],
   "source": [
    "train_nn_cluster = train_df \\\n",
    "    .merge(emb_nn_clus.drop(columns='NAICS').rename(columns={'NAICS_orig':'NAICS'})[['NAICS', 'cluster']],\n",
    "           how='left', on='NAICS')"
   ]
  },
  {
   "cell_type": "code",
   "execution_count": 32,
   "id": "0d7bf880-92ca-40ab-a425-907fa159a397",
   "metadata": {},
   "outputs": [
    {
     "data": {
      "text/html": [
       "<div>\n",
       "<style scoped>\n",
       "    .dataframe tbody tr th:only-of-type {\n",
       "        vertical-align: middle;\n",
       "    }\n",
       "\n",
       "    .dataframe tbody tr th {\n",
       "        vertical-align: top;\n",
       "    }\n",
       "\n",
       "    .dataframe thead th {\n",
       "        text-align: right;\n",
       "    }\n",
       "</style>\n",
       "<table border=\"1\" class=\"dataframe\">\n",
       "  <thead>\n",
       "    <tr style=\"text-align: right;\">\n",
       "      <th></th>\n",
       "      <th>df</th>\n",
       "      <th>sum_sq</th>\n",
       "      <th>mean_sq</th>\n",
       "      <th>F</th>\n",
       "      <th>PR(&gt;F)</th>\n",
       "      <th>var_f</th>\n",
       "    </tr>\n",
       "  </thead>\n",
       "  <tbody>\n",
       "    <tr>\n",
       "      <th>C(cluster)</th>\n",
       "      <td>8.0</td>\n",
       "      <td>3122.808761</td>\n",
       "      <td>390.351095</td>\n",
       "      <td>2508.458725</td>\n",
       "      <td>0.0</td>\n",
       "      <td>0.043991</td>\n",
       "    </tr>\n",
       "    <tr>\n",
       "      <th>Residual</th>\n",
       "      <td>436111.0</td>\n",
       "      <td>67864.942234</td>\n",
       "      <td>0.155614</td>\n",
       "      <td>NaN</td>\n",
       "      <td>NaN</td>\n",
       "      <td>0.956009</td>\n",
       "    </tr>\n",
       "  </tbody>\n",
       "</table>\n",
       "</div>"
      ],
      "text/plain": [
       "                  df        sum_sq     mean_sq            F  PR(>F)     var_f\n",
       "C(cluster)       8.0   3122.808761  390.351095  2508.458725     0.0  0.043991\n",
       "Residual    436111.0  67864.942234    0.155614          NaN     NaN  0.956009"
      ]
     },
     "execution_count": 32,
     "metadata": {},
     "output_type": "execute_result"
    }
   ],
   "source": [
    "anova_var(train_nn_cluster, 'target ~ C(cluster)')"
   ]
  },
  {
   "cell_type": "markdown",
   "id": "f6f143c1-61e4-4c25-aac5-b9965c278961",
   "metadata": {
    "tags": []
   },
   "source": [
    "## DGI Embeddings"
   ]
  },
  {
   "cell_type": "markdown",
   "id": "b4874c8d-b313-4cf2-858e-e1a33101a961",
   "metadata": {},
   "source": [
    "##### NAICS sector ANOVA"
   ]
  },
  {
   "cell_type": "code",
   "execution_count": 33,
   "id": "fc006058-0b32-4590-a1d8-1c61eabae3ca",
   "metadata": {
    "tags": []
   },
   "outputs": [],
   "source": [
    "# OLS strings for each\n",
    "emb_dgi_str = [ ef+ ' ~ C(NAICS_sector)' for ef in emb_dgi_feat]"
   ]
  },
  {
   "cell_type": "code",
   "execution_count": 34,
   "id": "3038985e-c9c9-4645-85e7-d46b07858875",
   "metadata": {},
   "outputs": [],
   "source": [
    "# All ANOVAs\n",
    "anova_dgi_sector = pd.concat([anova_var(emb_dgi_clus, s) for s in emb_dgi_str],\n",
    "                     keys=emb_nn_feat) \\\n",
    "    .reset_index()"
   ]
  },
  {
   "cell_type": "code",
   "execution_count": 35,
   "id": "6a1ce706-d0a7-4d07-b950-ebd3ca929852",
   "metadata": {},
   "outputs": [
    {
     "data": {
      "text/html": [
       "<div>\n",
       "<style scoped>\n",
       "    .dataframe tbody tr th:only-of-type {\n",
       "        vertical-align: middle;\n",
       "    }\n",
       "\n",
       "    .dataframe tbody tr th {\n",
       "        vertical-align: top;\n",
       "    }\n",
       "\n",
       "    .dataframe thead th {\n",
       "        text-align: right;\n",
       "    }\n",
       "</style>\n",
       "<table border=\"1\" class=\"dataframe\">\n",
       "  <thead>\n",
       "    <tr style=\"text-align: right;\">\n",
       "      <th></th>\n",
       "      <th>level_0</th>\n",
       "      <th>level_1</th>\n",
       "      <th>df</th>\n",
       "      <th>sum_sq</th>\n",
       "      <th>mean_sq</th>\n",
       "      <th>F</th>\n",
       "      <th>PR(&gt;F)</th>\n",
       "      <th>var_f</th>\n",
       "    </tr>\n",
       "  </thead>\n",
       "  <tbody>\n",
       "    <tr>\n",
       "      <th>0</th>\n",
       "      <td>emb_000</td>\n",
       "      <td>C(NAICS_sector)</td>\n",
       "      <td>19.0</td>\n",
       "      <td>0.108158</td>\n",
       "      <td>5.692513e-03</td>\n",
       "      <td>11.683082</td>\n",
       "      <td>2.016715e-33</td>\n",
       "      <td>0.146716</td>\n",
       "    </tr>\n",
       "    <tr>\n",
       "      <th>2</th>\n",
       "      <td>emb_001</td>\n",
       "      <td>C(NAICS_sector)</td>\n",
       "      <td>19.0</td>\n",
       "      <td>0.147171</td>\n",
       "      <td>7.745857e-03</td>\n",
       "      <td>11.683083</td>\n",
       "      <td>2.016699e-33</td>\n",
       "      <td>0.146716</td>\n",
       "    </tr>\n",
       "    <tr>\n",
       "      <th>4</th>\n",
       "      <td>emb_002</td>\n",
       "      <td>C(NAICS_sector)</td>\n",
       "      <td>19.0</td>\n",
       "      <td>0.000003</td>\n",
       "      <td>1.341157e-07</td>\n",
       "      <td>11.683084</td>\n",
       "      <td>2.016687e-33</td>\n",
       "      <td>0.146716</td>\n",
       "    </tr>\n",
       "    <tr>\n",
       "      <th>6</th>\n",
       "      <td>emb_003</td>\n",
       "      <td>C(NAICS_sector)</td>\n",
       "      <td>19.0</td>\n",
       "      <td>0.228641</td>\n",
       "      <td>1.203372e-02</td>\n",
       "      <td>11.683083</td>\n",
       "      <td>2.016693e-33</td>\n",
       "      <td>0.146716</td>\n",
       "    </tr>\n",
       "    <tr>\n",
       "      <th>8</th>\n",
       "      <td>emb_004</td>\n",
       "      <td>C(NAICS_sector)</td>\n",
       "      <td>19.0</td>\n",
       "      <td>6.516217</td>\n",
       "      <td>3.429588e-01</td>\n",
       "      <td>3.803089</td>\n",
       "      <td>6.849291e-08</td>\n",
       "      <td>0.053004</td>\n",
       "    </tr>\n",
       "    <tr>\n",
       "      <th>10</th>\n",
       "      <td>emb_005</td>\n",
       "      <td>C(NAICS_sector)</td>\n",
       "      <td>19.0</td>\n",
       "      <td>27.964960</td>\n",
       "      <td>1.471840e+00</td>\n",
       "      <td>10.417260</td>\n",
       "      <td>2.734344e-29</td>\n",
       "      <td>0.132933</td>\n",
       "    </tr>\n",
       "    <tr>\n",
       "      <th>12</th>\n",
       "      <td>emb_006</td>\n",
       "      <td>C(NAICS_sector)</td>\n",
       "      <td>19.0</td>\n",
       "      <td>0.546158</td>\n",
       "      <td>2.874516e-02</td>\n",
       "      <td>11.173232</td>\n",
       "      <td>9.245548e-32</td>\n",
       "      <td>0.141218</td>\n",
       "    </tr>\n",
       "    <tr>\n",
       "      <th>14</th>\n",
       "      <td>emb_007</td>\n",
       "      <td>C(NAICS_sector)</td>\n",
       "      <td>19.0</td>\n",
       "      <td>47.372045</td>\n",
       "      <td>2.493266e+00</td>\n",
       "      <td>30.928318</td>\n",
       "      <td>2.478311e-91</td>\n",
       "      <td>0.312800</td>\n",
       "    </tr>\n",
       "  </tbody>\n",
       "</table>\n",
       "</div>"
      ],
      "text/plain": [
       "    level_0          level_1    df     sum_sq       mean_sq          F  \\\n",
       "0   emb_000  C(NAICS_sector)  19.0   0.108158  5.692513e-03  11.683082   \n",
       "2   emb_001  C(NAICS_sector)  19.0   0.147171  7.745857e-03  11.683083   \n",
       "4   emb_002  C(NAICS_sector)  19.0   0.000003  1.341157e-07  11.683084   \n",
       "6   emb_003  C(NAICS_sector)  19.0   0.228641  1.203372e-02  11.683083   \n",
       "8   emb_004  C(NAICS_sector)  19.0   6.516217  3.429588e-01   3.803089   \n",
       "10  emb_005  C(NAICS_sector)  19.0  27.964960  1.471840e+00  10.417260   \n",
       "12  emb_006  C(NAICS_sector)  19.0   0.546158  2.874516e-02  11.173232   \n",
       "14  emb_007  C(NAICS_sector)  19.0  47.372045  2.493266e+00  30.928318   \n",
       "\n",
       "          PR(>F)     var_f  \n",
       "0   2.016715e-33  0.146716  \n",
       "2   2.016699e-33  0.146716  \n",
       "4   2.016687e-33  0.146716  \n",
       "6   2.016693e-33  0.146716  \n",
       "8   6.849291e-08  0.053004  \n",
       "10  2.734344e-29  0.132933  \n",
       "12  9.245548e-32  0.141218  \n",
       "14  2.478311e-91  0.312800  "
      ]
     },
     "execution_count": 35,
     "metadata": {},
     "output_type": "execute_result"
    }
   ],
   "source": [
    "anova_dgi_sector[anova_nn_sector['level_1'] == 'C(NAICS_sector)']"
   ]
  },
  {
   "cell_type": "markdown",
   "id": "975bb2c6-2cc9-46e9-8414-96a335782543",
   "metadata": {},
   "source": [
    "##### NAICS level ANOVA (mean target)"
   ]
  },
  {
   "cell_type": "code",
   "execution_count": 36,
   "id": "81e3e126-a887-417b-ae34-0b16931e7b19",
   "metadata": {},
   "outputs": [],
   "source": [
    "naics_info_train_dgi_cluster = naics_info[naics_info['train_count'] > 0] \\\n",
    "    .merge(emb_dgi_clus.rename(columns={'NAICS_orig':'NAICS'})[['NAICS', 'cluster']],\n",
    "           how='left', on='NAICS')"
   ]
  },
  {
   "cell_type": "code",
   "execution_count": 37,
   "id": "ec6897c0-f276-484c-8f4b-ec596be3fd9b",
   "metadata": {},
   "outputs": [
    {
     "data": {
      "text/html": [
       "<div>\n",
       "<style scoped>\n",
       "    .dataframe tbody tr th:only-of-type {\n",
       "        vertical-align: middle;\n",
       "    }\n",
       "\n",
       "    .dataframe tbody tr th {\n",
       "        vertical-align: top;\n",
       "    }\n",
       "\n",
       "    .dataframe thead th {\n",
       "        text-align: right;\n",
       "    }\n",
       "</style>\n",
       "<table border=\"1\" class=\"dataframe\">\n",
       "  <thead>\n",
       "    <tr style=\"text-align: right;\">\n",
       "      <th></th>\n",
       "      <th>df</th>\n",
       "      <th>sum_sq</th>\n",
       "      <th>mean_sq</th>\n",
       "      <th>F</th>\n",
       "      <th>PR(&gt;F)</th>\n",
       "      <th>var_f</th>\n",
       "    </tr>\n",
       "  </thead>\n",
       "  <tbody>\n",
       "    <tr>\n",
       "      <th>C(cluster)</th>\n",
       "      <td>9.0</td>\n",
       "      <td>5.017097</td>\n",
       "      <td>0.557455</td>\n",
       "      <td>35.783352</td>\n",
       "      <td>4.069852e-56</td>\n",
       "      <td>0.217889</td>\n",
       "    </tr>\n",
       "    <tr>\n",
       "      <th>Residual</th>\n",
       "      <td>1156.0</td>\n",
       "      <td>18.008885</td>\n",
       "      <td>0.015579</td>\n",
       "      <td>NaN</td>\n",
       "      <td>NaN</td>\n",
       "      <td>0.782111</td>\n",
       "    </tr>\n",
       "  </tbody>\n",
       "</table>\n",
       "</div>"
      ],
      "text/plain": [
       "                df     sum_sq   mean_sq          F        PR(>F)     var_f\n",
       "C(cluster)     9.0   5.017097  0.557455  35.783352  4.069852e-56  0.217889\n",
       "Residual    1156.0  18.008885  0.015579        NaN           NaN  0.782111"
      ]
     },
     "execution_count": 37,
     "metadata": {},
     "output_type": "execute_result"
    }
   ],
   "source": [
    "anova_var(naics_info_train_dgi_cluster, 'train_target_mean ~ C(cluster)')"
   ]
  },
  {
   "cell_type": "markdown",
   "id": "63744aed-efc9-400a-aae6-1c5ffa7bef5f",
   "metadata": {},
   "source": [
    "##### Loan level ANOVA (raw target)"
   ]
  },
  {
   "cell_type": "code",
   "execution_count": 38,
   "id": "e39a974d-6bb1-4842-8ef3-f4aba3c7dbe6",
   "metadata": {},
   "outputs": [],
   "source": [
    "train_dgi_cluster = train_df \\\n",
    "    .merge(emb_dgi_clus.rename(columns={'NAICS_orig':'NAICS'})[['NAICS', 'cluster']],\n",
    "           how='left', on='NAICS')"
   ]
  },
  {
   "cell_type": "code",
   "execution_count": 39,
   "id": "81860b4a-ca03-4c75-9b14-bf7c96eb991b",
   "metadata": {},
   "outputs": [
    {
     "data": {
      "text/html": [
       "<div>\n",
       "<style scoped>\n",
       "    .dataframe tbody tr th:only-of-type {\n",
       "        vertical-align: middle;\n",
       "    }\n",
       "\n",
       "    .dataframe tbody tr th {\n",
       "        vertical-align: top;\n",
       "    }\n",
       "\n",
       "    .dataframe thead th {\n",
       "        text-align: right;\n",
       "    }\n",
       "</style>\n",
       "<table border=\"1\" class=\"dataframe\">\n",
       "  <thead>\n",
       "    <tr style=\"text-align: right;\">\n",
       "      <th></th>\n",
       "      <th>df</th>\n",
       "      <th>sum_sq</th>\n",
       "      <th>mean_sq</th>\n",
       "      <th>F</th>\n",
       "      <th>PR(&gt;F)</th>\n",
       "      <th>var_f</th>\n",
       "    </tr>\n",
       "  </thead>\n",
       "  <tbody>\n",
       "    <tr>\n",
       "      <th>C(cluster)</th>\n",
       "      <td>9.0</td>\n",
       "      <td>1778.427880</td>\n",
       "      <td>197.603098</td>\n",
       "      <td>1245.16009</td>\n",
       "      <td>0.0</td>\n",
       "      <td>0.025053</td>\n",
       "    </tr>\n",
       "    <tr>\n",
       "      <th>Residual</th>\n",
       "      <td>436110.0</td>\n",
       "      <td>69209.323115</td>\n",
       "      <td>0.158697</td>\n",
       "      <td>NaN</td>\n",
       "      <td>NaN</td>\n",
       "      <td>0.974947</td>\n",
       "    </tr>\n",
       "  </tbody>\n",
       "</table>\n",
       "</div>"
      ],
      "text/plain": [
       "                  df        sum_sq     mean_sq           F  PR(>F)     var_f\n",
       "C(cluster)       9.0   1778.427880  197.603098  1245.16009     0.0  0.025053\n",
       "Residual    436110.0  69209.323115    0.158697         NaN     NaN  0.974947"
      ]
     },
     "execution_count": 39,
     "metadata": {},
     "output_type": "execute_result"
    }
   ],
   "source": [
    "anova_var(train_dgi_cluster, 'target ~ C(cluster)')"
   ]
  },
  {
   "cell_type": "markdown",
   "id": "55a40257-a5e2-476d-8ea4-5ba5deecae09",
   "metadata": {},
   "source": [
    "## Logistic Regression\n",
    "Very simple models to analyze information in high-level groupings (Sector and from embeddings)"
   ]
  },
  {
   "cell_type": "markdown",
   "id": "6b86c8ba-32e8-4e8a-b0ee-238dbf15edbf",
   "metadata": {},
   "source": [
    "Use same-size one hot features for each group, train data only."
   ]
  },
  {
   "cell_type": "markdown",
   "id": "f2924ed9-aed9-4f1a-b23d-27fcc724bcca",
   "metadata": {},
   "source": [
    "##### Get fixed-level NN clusters \n",
    "The NN clusters are only for training; get one_hot_feat_len of these (unlike earlier scripts where I used "
   ]
  },
  {
   "cell_type": "code",
   "execution_count": 40,
   "id": "ad72c42f-bb04-4523-95f2-333ed3c52a8b",
   "metadata": {},
   "outputs": [
    {
     "data": {
      "text/plain": [
       "(1166, 2)"
      ]
     },
     "execution_count": 40,
     "metadata": {},
     "output_type": "execute_result"
    }
   ],
   "source": [
    "sel_labels_nn = emb_nn_clus[['NAICS_orig']] \\\n",
    "    .merge(nn_cluster_labels_all[nn_cluster_labels_all['n_clusters'] == one_hot_feat_len] \\\n",
    "               .drop(columns='n_clusters'),\n",
    "           left_index=True, right_index = True)\n",
    "sel_labels_nn.shape"
   ]
  },
  {
   "cell_type": "code",
   "execution_count": 41,
   "id": "14aed2fa-cd8f-43bf-b0a4-67ef7ba2b51e",
   "metadata": {},
   "outputs": [],
   "source": [
    "# DGI clusters - limit to training match\n",
    "emb_dgi_train = emb_dgi_clus \\\n",
    "    .rename(columns={'cluster':'cluster_dgi','NAICS_orig':'NAICS'}) \\\n",
    "    .merge(train_df[['NAICS']].drop_duplicates(), on='NAICS') "
   ]
  },
  {
   "cell_type": "code",
   "execution_count": 42,
   "id": "99a02026-8740-470d-a0b9-caaca37aea14",
   "metadata": {},
   "outputs": [],
   "source": [
    "all_naics_clus = emb_dgi_train \\\n",
    "    .merge(sel_labels_nn.rename(columns={'NAICS_orig':'NAICS', 'label':'cluster_nn'}), on='NAICS')\n",
    "all_naics_clus[['cluster_dgi', 'cluster_nn']] = all_naics_clus[['cluster_dgi', 'cluster_nn']] \\\n",
    "    .apply(lambda x: x.astype('category'))"
   ]
  },
  {
   "cell_type": "code",
   "execution_count": 43,
   "id": "6baeff47-1b38-49b6-bf70-caf03ffd353f",
   "metadata": {},
   "outputs": [],
   "source": [
    "lm_df = train_df[['LoanNr_ChkDgt', 'NAICS','dset', 'NAICS_sector', 'target']] \\\n",
    "     .merge(all_naics_clus[['NAICS', 'cluster_dgi', 'cluster_nn']],\n",
    "                          how='left', on='NAICS') \\\n",
    "    .merge(naics_info[['NAICS', 'NAICS_sector_sel']], how='left', on='NAICS')"
   ]
  },
  {
   "cell_type": "code",
   "execution_count": 44,
   "id": "e94b8151-a26a-4d46-a084-f49fde21bbba",
   "metadata": {},
   "outputs": [],
   "source": [
    "lm_df['NAICS_sector_sel'] = np.where(lm_df['NAICS_sector_sel'] == 1,lm_df['NAICS_sector'],\n",
    "                                     'other')\n",
    "#lm_df['NAICS_sector_sel'] = lm_df['NAICS_sector_sel'].astype('category')"
   ]
  },
  {
   "cell_type": "markdown",
   "id": "fae30f2e-9f4f-482a-8d24-2b0e9fb68b7a",
   "metadata": {},
   "source": [
    "##### Function to do the logistic regression"
   ]
  },
  {
   "cell_type": "code",
   "execution_count": 45,
   "id": "89cc6c40-6c8c-4585-8ffb-304fddec45df",
   "metadata": {},
   "outputs": [],
   "source": [
    "def log_reg(data, feature = ['NAICS_sector_sel']):\n",
    "    X = pd.get_dummies(data[feature], dtype='float', drop_first=True)\n",
    "    Y = data['target']\n",
    "    Xi = sm.add_constant(X)\n",
    "    sm_logreg = sm.Logit(Y, Xi)\n",
    "\n",
    "    res = sm_logreg.fit_regularized(method='l1')\n",
    "\n",
    "    return res\n",
    "                            "
   ]
  },
  {
   "cell_type": "markdown",
   "id": "54fba91a-d4ac-4e61-8a7c-c073a3a93ef1",
   "metadata": {},
   "source": [
    "##### Single group models"
   ]
  },
  {
   "cell_type": "code",
   "execution_count": 46,
   "id": "36440592-7cb0-4396-9122-a48c9f5f3c7d",
   "metadata": {},
   "outputs": [
    {
     "name": "stdout",
     "output_type": "stream",
     "text": [
      "Optimization terminated successfully    (Exit mode 0)\n",
      "            Current function value: 0.5014901419293476\n",
      "            Iterations: 74\n",
      "            Function evaluations: 75\n",
      "            Gradient evaluations: 74\n",
      "                           Logit Regression Results                           \n",
      "==============================================================================\n",
      "Dep. Variable:                 target   No. Observations:               436120\n",
      "Model:                          Logit   Df Residuals:                   436110\n",
      "Method:                           MLE   Df Model:                            9\n",
      "Date:                Sun, 07 Apr 2024   Pseudo R-squ.:                 0.01045\n",
      "Time:                        21:42:38   Log-Likelihood:            -2.1871e+05\n",
      "converged:                       True   LL-Null:                   -2.2102e+05\n",
      "Covariance Type:            nonrobust   LLR p-value:                     0.000\n",
      "==========================================================================================\n",
      "                             coef    std err          z      P>|z|      [0.025      0.975]\n",
      "------------------------------------------------------------------------------------------\n",
      "const                     -1.1188      0.011    -98.834      0.000      -1.141      -1.097\n",
      "NAICS_sector_sel_31-33    -0.5706      0.018    -31.791      0.000      -0.606      -0.535\n",
      "NAICS_sector_sel_42       -0.3301      0.019    -17.795      0.000      -0.366      -0.294\n",
      "NAICS_sector_sel_44-45    -0.1270      0.014     -9.034      0.000      -0.155      -0.099\n",
      "NAICS_sector_sel_54       -0.2590      0.017    -14.800      0.000      -0.293      -0.225\n",
      "NAICS_sector_sel_56       -0.0682      0.019     -3.510      0.000      -0.106      -0.030\n",
      "NAICS_sector_sel_62       -1.0683      0.021    -51.582      0.000      -1.109      -1.028\n",
      "NAICS_sector_sel_72       -0.1559      0.016     -9.741      0.000      -0.187      -0.125\n",
      "NAICS_sector_sel_81       -0.2582      0.016    -15.890      0.000      -0.290      -0.226\n",
      "NAICS_sector_sel_other    -0.0510      0.015     -3.393      0.001      -0.081      -0.022\n",
      "==========================================================================================\n"
     ]
    }
   ],
   "source": [
    "res_naics_sector = log_reg(lm_df)\n",
    "print(res_naics_sector.summary())"
   ]
  },
  {
   "cell_type": "code",
   "execution_count": 47,
   "id": "fa6d9453-9735-4c32-9647-8c9d28e5b660",
   "metadata": {},
   "outputs": [
    {
     "name": "stdout",
     "output_type": "stream",
     "text": [
      "Optimization terminated successfully    (Exit mode 0)\n",
      "            Current function value: 0.4932504837515452\n",
      "            Iterations: 70\n",
      "            Function evaluations: 71\n",
      "            Gradient evaluations: 70\n",
      "                           Logit Regression Results                           \n",
      "==============================================================================\n",
      "Dep. Variable:                 target   No. Observations:               436120\n",
      "Model:                          Logit   Df Residuals:                   436110\n",
      "Method:                           MLE   Df Model:                            9\n",
      "Date:                Sun, 07 Apr 2024   Pseudo R-squ.:                 0.02671\n",
      "Time:                        21:42:42   Log-Likelihood:            -2.1512e+05\n",
      "converged:                       True   LL-Null:                   -2.2102e+05\n",
      "Covariance Type:            nonrobust   LLR p-value:                     0.000\n",
      "=================================================================================\n",
      "                    coef    std err          z      P>|z|      [0.025      0.975]\n",
      "---------------------------------------------------------------------------------\n",
      "const            -1.3072      0.016    -79.532      0.000      -1.339      -1.275\n",
      "cluster_dgi_1    -1.0503      0.022    -47.185      0.000      -1.094      -1.007\n",
      "cluster_dgi_2     0.0702      0.018      3.821      0.000       0.034       0.106\n",
      "cluster_dgi_3    -0.2071      0.021     -9.802      0.000      -0.249      -0.166\n",
      "cluster_dgi_4    -0.0962      0.021     -4.484      0.000      -0.138      -0.054\n",
      "cluster_dgi_5    -0.6993      0.033    -20.933      0.000      -0.765      -0.634\n",
      "cluster_dgi_6     0.2945      0.020     14.417      0.000       0.254       0.335\n",
      "cluster_dgi_7     0.1637      0.018      8.924      0.000       0.128       0.200\n",
      "cluster_dgi_8     0.4987      0.020     25.305      0.000       0.460       0.537\n",
      "cluster_dgi_9    -0.5820      0.023    -25.148      0.000      -0.627      -0.537\n",
      "=================================================================================\n"
     ]
    }
   ],
   "source": [
    "res_cluster_dgi = log_reg(lm_df, ['cluster_dgi'])\n",
    "print(res_cluster_dgi.summary())"
   ]
  },
  {
   "cell_type": "code",
   "execution_count": 48,
   "id": "c5f0769e-59ac-4089-b57d-1a3c0a1fcdaa",
   "metadata": {},
   "outputs": [
    {
     "name": "stdout",
     "output_type": "stream",
     "text": [
      "Optimization terminated successfully    (Exit mode 0)\n",
      "            Current function value: 0.4832466742488224\n",
      "            Iterations: 80\n",
      "            Function evaluations: 81\n",
      "            Gradient evaluations: 80\n",
      "                           Logit Regression Results                           \n",
      "==============================================================================\n",
      "Dep. Variable:                 target   No. Observations:               436120\n",
      "Model:                          Logit   Df Residuals:                   436110\n",
      "Method:                           MLE   Df Model:                            9\n",
      "Date:                Sun, 07 Apr 2024   Pseudo R-squ.:                 0.04645\n",
      "Time:                        21:42:47   Log-Likelihood:            -2.1075e+05\n",
      "converged:                       True   LL-Null:                   -2.2102e+05\n",
      "Covariance Type:            nonrobust   LLR p-value:                     0.000\n",
      "================================================================================\n",
      "                   coef    std err          z      P>|z|      [0.025      0.975]\n",
      "--------------------------------------------------------------------------------\n",
      "const           -0.4156      0.016    -26.273      0.000      -0.447      -0.385\n",
      "cluster_nn_1    -1.0173      0.018    -56.915      0.000      -1.052      -0.982\n",
      "cluster_nn_2    -2.1308      0.033    -64.497      0.000      -2.196      -2.066\n",
      "cluster_nn_3    -1.4253      0.020    -69.883      0.000      -1.465      -1.385\n",
      "cluster_nn_4    -3.0978      0.103    -30.016      0.000      -3.300      -2.896\n",
      "cluster_nn_5    -0.5034      0.017    -29.834      0.000      -0.536      -0.470\n",
      "cluster_nn_6    -0.8844      0.019    -45.446      0.000      -0.923      -0.846\n",
      "cluster_nn_7    -2.2686      0.027    -83.279      0.000      -2.322      -2.215\n",
      "cluster_nn_8    -1.5703      0.031    -50.406      0.000      -1.631      -1.509\n",
      "cluster_nn_9    -1.6578      0.028    -59.012      0.000      -1.713      -1.603\n",
      "================================================================================\n"
     ]
    }
   ],
   "source": [
    "res_cluster_nn = log_reg(lm_df, ['cluster_nn'])\n",
    "print(res_cluster_nn.summary())"
   ]
  },
  {
   "cell_type": "markdown",
   "id": "578d2198-82f2-466d-a824-fa7d37e4cee9",
   "metadata": {},
   "source": [
    "##### Two-way models"
   ]
  },
  {
   "cell_type": "code",
   "execution_count": 49,
   "id": "6d5fd973-36f3-4e63-aeae-af65a6ae8d61",
   "metadata": {},
   "outputs": [
    {
     "name": "stdout",
     "output_type": "stream",
     "text": [
      "Optimization terminated successfully    (Exit mode 0)\n",
      "            Current function value: 0.4818791787309131\n",
      "            Iterations: 137\n",
      "            Function evaluations: 137\n",
      "            Gradient evaluations: 137\n",
      "                           Logit Regression Results                           \n",
      "==============================================================================\n",
      "Dep. Variable:                 target   No. Observations:               436120\n",
      "Model:                          Logit   Df Residuals:                   436101\n",
      "Method:                           MLE   Df Model:                           18\n",
      "Date:                Sun, 07 Apr 2024   Pseudo R-squ.:                 0.04915\n",
      "Time:                        21:42:56   Log-Likelihood:            -2.1016e+05\n",
      "converged:                       True   LL-Null:                   -2.2102e+05\n",
      "Covariance Type:            nonrobust   LLR p-value:                     0.000\n",
      "==========================================================================================\n",
      "                             coef    std err          z      P>|z|      [0.025      0.975]\n",
      "------------------------------------------------------------------------------------------\n",
      "const                     -0.3305      0.018    -18.281      0.000      -0.366      -0.295\n",
      "NAICS_sector_sel_31-33    -0.1293      0.019     -6.654      0.000      -0.167      -0.091\n",
      "NAICS_sector_sel_42        0.0161      0.020      0.815      0.415      -0.023       0.055\n",
      "NAICS_sector_sel_44-45    -0.1825      0.015    -12.119      0.000      -0.212      -0.153\n",
      "NAICS_sector_sel_54        0.1182      0.019      6.319      0.000       0.082       0.155\n",
      "NAICS_sector_sel_56        0.0172      0.020      0.844      0.399      -0.023       0.057\n",
      "NAICS_sector_sel_62       -0.2032      0.023     -8.799      0.000      -0.248      -0.158\n",
      "NAICS_sector_sel_72       -0.3162      0.017    -18.735      0.000      -0.349      -0.283\n",
      "NAICS_sector_sel_81       -0.0836      0.018     -4.721      0.000      -0.118      -0.049\n",
      "NAICS_sector_sel_other     0.0860      0.016      5.423      0.000       0.055       0.117\n",
      "cluster_nn_1              -1.0417      0.019    -54.661      0.000      -1.079      -1.004\n",
      "cluster_nn_2              -2.1102      0.034    -62.920      0.000      -2.176      -2.044\n",
      "cluster_nn_3              -1.4513      0.021    -67.548      0.000      -1.493      -1.409\n",
      "cluster_nn_4              -3.1555      0.104    -30.460      0.000      -3.359      -2.952\n",
      "cluster_nn_5              -0.4852      0.017    -28.104      0.000      -0.519      -0.451\n",
      "cluster_nn_6              -0.8804      0.020    -43.319      0.000      -0.920      -0.841\n",
      "cluster_nn_7              -2.2675      0.029    -77.235      0.000      -2.325      -2.210\n",
      "cluster_nn_8              -1.6465      0.032    -50.881      0.000      -1.710      -1.583\n",
      "cluster_nn_9              -1.7390      0.028    -61.136      0.000      -1.795      -1.683\n",
      "==========================================================================================\n"
     ]
    }
   ],
   "source": [
    "res_2_sector_nn = log_reg(lm_df, ['NAICS_sector_sel', 'cluster_nn'])\n",
    "print(res_2_sector_nn.summary())"
   ]
  },
  {
   "cell_type": "code",
   "execution_count": 50,
   "id": "d5bc70a4-6a12-48c7-a4d4-e16dfca07574",
   "metadata": {},
   "outputs": [
    {
     "name": "stdout",
     "output_type": "stream",
     "text": [
      "Optimization terminated successfully    (Exit mode 0)\n",
      "            Current function value: 0.49066527975408875\n",
      "            Iterations: 121\n",
      "            Function evaluations: 121\n",
      "            Gradient evaluations: 121\n",
      "                           Logit Regression Results                           \n",
      "==============================================================================\n",
      "Dep. Variable:                 target   No. Observations:               436120\n",
      "Model:                          Logit   Df Residuals:                   436101\n",
      "Method:                           MLE   Df Model:                           18\n",
      "Date:                Sun, 07 Apr 2024   Pseudo R-squ.:                 0.03181\n",
      "Time:                        21:43:04   Log-Likelihood:            -2.1399e+05\n",
      "converged:                       True   LL-Null:                   -2.2102e+05\n",
      "Covariance Type:            nonrobust   LLR p-value:                     0.000\n",
      "==========================================================================================\n",
      "                             coef    std err          z      P>|z|      [0.025      0.975]\n",
      "------------------------------------------------------------------------------------------\n",
      "const                     -1.0221      0.021    -48.522      0.000      -1.063      -0.981\n",
      "NAICS_sector_sel_31-33    -0.2811      0.019    -14.814      0.000      -0.318      -0.244\n",
      "NAICS_sector_sel_42       -0.1903      0.019     -9.809      0.000      -0.228      -0.152\n",
      "NAICS_sector_sel_44-45    -0.2398      0.016    -15.390      0.000      -0.270      -0.209\n",
      "NAICS_sector_sel_54       -0.3867      0.019    -20.262      0.000      -0.424      -0.349\n",
      "NAICS_sector_sel_56       -0.1905      0.021     -9.234      0.000      -0.231      -0.150\n",
      "NAICS_sector_sel_62       -0.8787      0.022    -40.517      0.000      -0.921      -0.836\n",
      "NAICS_sector_sel_72       -0.2030      0.018    -11.561      0.000      -0.237      -0.169\n",
      "NAICS_sector_sel_81       -0.4437      0.018    -24.161      0.000      -0.480      -0.408\n",
      "NAICS_sector_sel_other    -0.1446      0.016     -8.852      0.000      -0.177      -0.113\n",
      "cluster_dgi_1             -1.0571      0.023    -46.680      0.000      -1.102      -1.013\n",
      "cluster_dgi_2              0.1185      0.019      6.197      0.000       0.081       0.156\n",
      "cluster_dgi_3             -0.1817      0.022     -8.227      0.000      -0.225      -0.138\n",
      "cluster_dgi_4             -0.1467      0.023     -6.274      0.000      -0.193      -0.101\n",
      "cluster_dgi_5             -0.8194      0.034    -23.998      0.000      -0.886      -0.752\n",
      "cluster_dgi_6              0.2764      0.021     13.104      0.000       0.235       0.318\n",
      "cluster_dgi_7              0.0850      0.019      4.410      0.000       0.047       0.123\n",
      "cluster_dgi_8              0.4129      0.020     20.284      0.000       0.373       0.453\n",
      "cluster_dgi_9             -0.4839      0.024    -20.501      0.000      -0.530      -0.438\n",
      "==========================================================================================\n"
     ]
    }
   ],
   "source": [
    "res_2_sector_dgi = log_reg(lm_df, ['NAICS_sector_sel', 'cluster_dgi'])\n",
    "print(res_2_sector_dgi.summary())"
   ]
  },
  {
   "cell_type": "code",
   "execution_count": 51,
   "id": "1fe551df-4a50-48cd-a1cb-de1137e4b9a7",
   "metadata": {},
   "outputs": [
    {
     "name": "stdout",
     "output_type": "stream",
     "text": [
      "Optimization terminated successfully    (Exit mode 0)\n",
      "            Current function value: 0.4804591126440137\n",
      "            Iterations: 145\n",
      "            Function evaluations: 145\n",
      "            Gradient evaluations: 145\n",
      "                           Logit Regression Results                           \n",
      "==============================================================================\n",
      "Dep. Variable:                 target   No. Observations:               436120\n",
      "Model:                          Logit   Df Residuals:                   436101\n",
      "Method:                           MLE   Df Model:                           18\n",
      "Date:                Sun, 07 Apr 2024   Pseudo R-squ.:                 0.05195\n",
      "Time:                        21:43:10   Log-Likelihood:            -2.0954e+05\n",
      "converged:                       True   LL-Null:                   -2.2102e+05\n",
      "Covariance Type:            nonrobust   LLR p-value:                     0.000\n",
      "=================================================================================\n",
      "                    coef    std err          z      P>|z|      [0.025      0.975]\n",
      "---------------------------------------------------------------------------------\n",
      "const            -0.4589      0.024    -19.299      0.000      -0.505      -0.412\n",
      "cluster_nn_1     -0.9000      0.019    -48.335      0.000      -0.937      -0.864\n",
      "cluster_nn_2     -1.8367      0.034    -53.713      0.000      -1.904      -1.770\n",
      "cluster_nn_3     -1.1964      0.022    -54.951      0.000      -1.239      -1.154\n",
      "cluster_nn_4     -2.5943      0.104    -24.965      0.000      -2.798      -2.391\n",
      "cluster_nn_5     -0.4327      0.017    -25.178      0.000      -0.466      -0.399\n",
      "cluster_nn_6     -0.7357      0.020    -36.835      0.000      -0.775      -0.697\n",
      "cluster_nn_7     -1.9197      0.028    -67.880      0.000      -1.975      -1.864\n",
      "cluster_nn_8     -1.2606      0.033    -38.524      0.000      -1.325      -1.196\n",
      "cluster_nn_9     -1.3618      0.029    -46.719      0.000      -1.419      -1.305\n",
      "cluster_dgi_1    -0.6110      0.023    -26.476      0.000      -0.656      -0.566\n",
      "cluster_dgi_2    -0.0484      0.019     -2.550      0.011      -0.086      -0.011\n",
      "cluster_dgi_3    -0.1736      0.022     -7.944      0.000      -0.216      -0.131\n",
      "cluster_dgi_4    -0.1392      0.022     -6.333      0.000      -0.182      -0.096\n",
      "cluster_dgi_5    -0.4735      0.035    -13.723      0.000      -0.541      -0.406\n",
      "cluster_dgi_6     0.2095      0.021      9.983      0.000       0.168       0.251\n",
      "cluster_dgi_7    -0.0406      0.019     -2.151      0.031      -0.078      -0.004\n",
      "cluster_dgi_8     0.1554      0.020      7.625      0.000       0.115       0.195\n",
      "cluster_dgi_9    -0.3102      0.024    -12.830      0.000      -0.358      -0.263\n",
      "=================================================================================\n"
     ]
    }
   ],
   "source": [
    "res_2_nn_dgi = log_reg(lm_df, ['cluster_nn', 'cluster_dgi'])\n",
    "print(res_2_nn_dgi.summary())"
   ]
  },
  {
   "cell_type": "markdown",
   "id": "18d810b5-1ab1-4e7a-af0c-464bb3879b4c",
   "metadata": {},
   "source": [
    "##### 3 Way"
   ]
  },
  {
   "cell_type": "code",
   "execution_count": 52,
   "id": "6fa9eb31-1ef7-4f04-bbdc-f2b67ed51fd5",
   "metadata": {},
   "outputs": [
    {
     "name": "stdout",
     "output_type": "stream",
     "text": [
      "Optimization terminated successfully    (Exit mode 0)\n",
      "            Current function value: 0.4794015244656354\n",
      "            Iterations: 184\n",
      "            Function evaluations: 184\n",
      "            Gradient evaluations: 184\n",
      "                           Logit Regression Results                           \n",
      "==============================================================================\n",
      "Dep. Variable:                 target   No. Observations:               436120\n",
      "Model:                          Logit   Df Residuals:                   436092\n",
      "Method:                           MLE   Df Model:                           27\n",
      "Date:                Sun, 07 Apr 2024   Pseudo R-squ.:                 0.05404\n",
      "Time:                        21:43:18   Log-Likelihood:            -2.0908e+05\n",
      "converged:                       True   LL-Null:                   -2.2102e+05\n",
      "Covariance Type:            nonrobust   LLR p-value:                     0.000\n",
      "==========================================================================================\n",
      "                             coef    std err          z      P>|z|      [0.025      0.975]\n",
      "------------------------------------------------------------------------------------------\n",
      "const                     -0.3662      0.026    -13.872      0.000      -0.418      -0.314\n",
      "cluster_nn_1              -0.9077      0.020    -46.247      0.000      -0.946      -0.869\n",
      "cluster_nn_2              -1.8668      0.035    -53.955      0.000      -1.935      -1.799\n",
      "cluster_nn_3              -1.2413      0.023    -54.557      0.000      -1.286      -1.197\n",
      "cluster_nn_4              -2.6898      0.104    -25.795      0.000      -2.894      -2.485\n",
      "cluster_nn_5              -0.4250      0.018    -24.210      0.000      -0.459      -0.391\n",
      "cluster_nn_6              -0.7611      0.021    -36.178      0.000      -0.802      -0.720\n",
      "cluster_nn_7              -1.9199      0.031    -62.884      0.000      -1.980      -1.860\n",
      "cluster_nn_8              -1.3828      0.034    -40.690      0.000      -1.449      -1.316\n",
      "cluster_nn_9              -1.4432      0.030    -48.694      0.000      -1.501      -1.385\n",
      "cluster_dgi_1             -0.6228      0.023    -26.580      0.000      -0.669      -0.577\n",
      "cluster_dgi_2             -0.0410      0.020     -2.084      0.037      -0.079      -0.002\n",
      "cluster_dgi_3             -0.1560      0.023     -6.888      0.000      -0.200      -0.112\n",
      "cluster_dgi_4             -0.0169      0.024     -0.710      0.478      -0.064       0.030\n",
      "cluster_dgi_5             -0.5088      0.035    -14.458      0.000      -0.578      -0.440\n",
      "cluster_dgi_6              0.1902      0.022      8.795      0.000       0.148       0.233\n",
      "cluster_dgi_7             -0.0057      0.020     -0.286      0.775      -0.045       0.033\n",
      "cluster_dgi_8              0.1160      0.021      5.527      0.000       0.075       0.157\n",
      "cluster_dgi_9             -0.2544      0.025    -10.256      0.000      -0.303      -0.206\n",
      "NAICS_sector_sel_31-33    -0.0236      0.020     -1.165      0.244      -0.063       0.016\n",
      "NAICS_sector_sel_42        0.0194      0.020      0.949      0.343      -0.021       0.060\n",
      "NAICS_sector_sel_44-45    -0.1781      0.017    -10.698      0.000      -0.211      -0.145\n",
      "NAICS_sector_sel_54        0.0342      0.020      1.686      0.092      -0.006       0.074\n",
      "NAICS_sector_sel_56       -0.0210      0.021     -0.982      0.326      -0.063       0.021\n",
      "NAICS_sector_sel_62       -0.2146      0.024     -8.895      0.000      -0.262      -0.167\n",
      "NAICS_sector_sel_72       -0.3258      0.018    -17.931      0.000      -0.361      -0.290\n",
      "NAICS_sector_sel_81       -0.1703      0.020     -8.725      0.000      -0.209      -0.132\n",
      "NAICS_sector_sel_other     0.0553      0.017      3.216      0.001       0.022       0.089\n",
      "==========================================================================================\n"
     ]
    }
   ],
   "source": [
    "res_3 = log_reg(lm_df, ['cluster_nn', 'cluster_dgi', 'NAICS_sector_sel'])\n",
    "print(res_3.summary())"
   ]
  },
  {
   "cell_type": "markdown",
   "id": "24eed5b0-dc35-498b-806b-ba0bddba3474",
   "metadata": {},
   "source": [
    "##### Gather Metrics"
   ]
  },
  {
   "cell_type": "code",
   "execution_count": 53,
   "id": "c029c625-eda5-4497-ad57-117bff832964",
   "metadata": {},
   "outputs": [],
   "source": [
    "def get_metric_ser(res):\n",
    "    return pd.Series([res.aic, res.bic, res.prsquared],\n",
    "                     index=['aic', 'bic', 'prsquared'])"
   ]
  },
  {
   "cell_type": "code",
   "execution_count": 54,
   "id": "38d6a6dd-8c94-49ca-b8a3-6dd5d032a187",
   "metadata": {},
   "outputs": [
    {
     "data": {
      "text/html": [
       "<div>\n",
       "<style scoped>\n",
       "    .dataframe tbody tr th:only-of-type {\n",
       "        vertical-align: middle;\n",
       "    }\n",
       "\n",
       "    .dataframe tbody tr th {\n",
       "        vertical-align: top;\n",
       "    }\n",
       "\n",
       "    .dataframe thead th {\n",
       "        text-align: right;\n",
       "    }\n",
       "</style>\n",
       "<table border=\"1\" class=\"dataframe\">\n",
       "  <thead>\n",
       "    <tr style=\"text-align: right;\">\n",
       "      <th></th>\n",
       "      <th>model</th>\n",
       "      <th>aic</th>\n",
       "      <th>bic</th>\n",
       "      <th>prsquared</th>\n",
       "    </tr>\n",
       "  </thead>\n",
       "  <tbody>\n",
       "    <tr>\n",
       "      <th>0</th>\n",
       "      <td>sector</td>\n",
       "      <td>437439.761396</td>\n",
       "      <td>437549.618124</td>\n",
       "      <td>0.010454</td>\n",
       "    </tr>\n",
       "    <tr>\n",
       "      <th>1</th>\n",
       "      <td>dgi</td>\n",
       "      <td>430252.801947</td>\n",
       "      <td>430362.658675</td>\n",
       "      <td>0.026712</td>\n",
       "    </tr>\n",
       "    <tr>\n",
       "      <th>2</th>\n",
       "      <td>nn</td>\n",
       "      <td>421527.079147</td>\n",
       "      <td>421636.935874</td>\n",
       "      <td>0.046452</td>\n",
       "    </tr>\n",
       "    <tr>\n",
       "      <th>3</th>\n",
       "      <td>sector + dgi</td>\n",
       "      <td>428015.883613</td>\n",
       "      <td>428224.611394</td>\n",
       "      <td>0.031813</td>\n",
       "    </tr>\n",
       "    <tr>\n",
       "      <th>4</th>\n",
       "      <td>sector + nn</td>\n",
       "      <td>420352.294856</td>\n",
       "      <td>420561.022638</td>\n",
       "      <td>0.049150</td>\n",
       "    </tr>\n",
       "    <tr>\n",
       "      <th>5</th>\n",
       "      <td>dgi + nn</td>\n",
       "      <td>419113.656413</td>\n",
       "      <td>419322.384194</td>\n",
       "      <td>0.051952</td>\n",
       "    </tr>\n",
       "    <tr>\n",
       "      <th>6</th>\n",
       "      <td>sector + dgi + nn</td>\n",
       "      <td>418209.185700</td>\n",
       "      <td>418516.784536</td>\n",
       "      <td>0.054039</td>\n",
       "    </tr>\n",
       "  </tbody>\n",
       "</table>\n",
       "</div>"
      ],
      "text/plain": [
       "               model            aic            bic  prsquared\n",
       "0             sector  437439.761396  437549.618124   0.010454\n",
       "1                dgi  430252.801947  430362.658675   0.026712\n",
       "2                 nn  421527.079147  421636.935874   0.046452\n",
       "3       sector + dgi  428015.883613  428224.611394   0.031813\n",
       "4        sector + nn  420352.294856  420561.022638   0.049150\n",
       "5           dgi + nn  419113.656413  419322.384194   0.051952\n",
       "6  sector + dgi + nn  418209.185700  418516.784536   0.054039"
      ]
     },
     "execution_count": 54,
     "metadata": {},
     "output_type": "execute_result"
    }
   ],
   "source": [
    "res_list = [res_naics_sector, res_cluster_dgi, res_cluster_nn, \n",
    "            res_2_sector_dgi, res_2_sector_nn, res_2_nn_dgi, res_3]\n",
    "res_name_list = ['sector', 'dgi', 'nn',  'sector + dgi', 'sector + nn',\n",
    "                 'dgi + nn', 'sector + dgi + nn']\n",
    "logit_metrics = pd.concat([get_metric_ser(x).to_frame().transpose() for x in res_list],\n",
    "                          keys=res_name_list, axis=0) \\\n",
    "    .reset_index(level=1, drop=True) \\\n",
    "    .reset_index() \\\n",
    "    .rename(columns={'index':'model'})\n",
    "logit_metrics"
   ]
  },
  {
   "cell_type": "code",
   "execution_count": 55,
   "id": "44c7e69e-3766-4d9c-a4bf-df92680cfdbd",
   "metadata": {},
   "outputs": [],
   "source": [
    "logit_metrics.to_csv(Path(setup.temp_path).joinpath('81_REPORT_logit_metrics.csv'), index=False)"
   ]
  },
  {
   "cell_type": "code",
   "execution_count": null,
   "id": "e829b55d-5edf-4801-8491-2e9f22e59715",
   "metadata": {},
   "outputs": [],
   "source": []
  },
  {
   "cell_type": "code",
   "execution_count": null,
   "id": "1b4ad888-93f2-42de-b76a-879d997999b1",
   "metadata": {},
   "outputs": [],
   "source": []
  }
 ],
 "metadata": {
  "kernelspec": {
   "display_name": "tf_p39",
   "language": "python",
   "name": "tf_p39"
  },
  "language_info": {
   "codemirror_mode": {
    "name": "ipython",
    "version": 3
   },
   "file_extension": ".py",
   "mimetype": "text/x-python",
   "name": "python",
   "nbconvert_exporter": "python",
   "pygments_lexer": "ipython3",
   "version": "3.8.18"
  }
 },
 "nbformat": 4,
 "nbformat_minor": 5
}
