{
 "cells": [
  {
   "cell_type": "code",
   "execution_count": 1,
   "id": "dd371bd9-82c7-44c7-8826-beb0c549974b",
   "metadata": {
    "tags": []
   },
   "outputs": [],
   "source": [
    "# Modify the file 00_setup.py to define input/output file paths on your system\n",
    "# The information in 00_setup.py will be used across notebooks\n",
    "from importlib.machinery import SourceFileLoader\n",
    "setup = SourceFileLoader(\"setup\", \"./00_setup.py\").load_module()"
   ]
  },
  {
   "cell_type": "markdown",
   "id": "be7d3f74-1737-4eee-9e6f-06233b68c2b1",
   "metadata": {
    "tags": []
   },
   "source": [
    "# 20: GNN Data\n",
    "New GNN graphs, with the \"label trick\" (using the label as a feature on some nodes)"
   ]
  },
  {
   "cell_type": "markdown",
   "id": "1070de69-057f-4379-ad29-faf95365d042",
   "metadata": {},
   "source": [
    "The \"train\" set is split into rows with or without label information (set to 0, generally).  The rows without become the new training dataset. "
   ]
  },
  {
   "cell_type": "markdown",
   "id": "d40dcb54-56e0-4c75-a831-3b76326b1d36",
   "metadata": {},
   "source": [
    "I am going to set an equal fraction of train and validation to 0 and these become the new train/validation data, with the remaining \"fixed\" rows in the graph but not used in training"
   ]
  },
  {
   "cell_type": "markdown",
   "id": "5a409e18-e8df-4f75-847b-c48e208f871a",
   "metadata": {},
   "source": [
    "For the test phase, actual label features are used for train and validation but the test label features are set to 0 "
   ]
  },
  {
   "cell_type": "markdown",
   "id": "b6956879-bdba-4750-bbdf-e26ade43c72f",
   "metadata": {},
   "source": [
    "*This script takes about 1 hour on my MacBook Air*"
   ]
  },
  {
   "cell_type": "code",
   "execution_count": 2,
   "id": "a06b80fe-17ee-409a-8f41-ab2427d6f407",
   "metadata": {},
   "outputs": [],
   "source": [
    "import pandas as pd\n",
    "import numpy as np"
   ]
  },
  {
   "cell_type": "code",
   "execution_count": 3,
   "id": "4278237c-f6ad-4cd9-9144-5b7bb134a391",
   "metadata": {},
   "outputs": [],
   "source": [
    "from pathlib import Path\n",
    "import importlib, pickle\n",
    "from sklearn import model_selection\n",
    "from sklearn.preprocessing import LabelEncoder\n",
    "from sklearn.model_selection import train_test_split"
   ]
  },
  {
   "cell_type": "code",
   "execution_count": 4,
   "id": "9ef27d75-0483-48fb-8018-245bdb9df81c",
   "metadata": {},
   "outputs": [],
   "source": [
    "# Imputer object for easy dataset conversion to GNN friendly format\n",
    "from sba_gnn.sba_gnn import sg_imputer \n",
    "from sba_gnn.sba_gnn.sg_imputer import GNNImputer"
   ]
  },
  {
   "cell_type": "code",
   "execution_count": 5,
   "id": "cd1aebd2-f102-4fec-b65c-984d64ca4689",
   "metadata": {},
   "outputs": [],
   "source": [
    "import itertools"
   ]
  },
  {
   "cell_type": "code",
   "execution_count": 6,
   "id": "00354e71-0de3-4eea-9b3c-01d084a1ebdc",
   "metadata": {},
   "outputs": [
    {
     "name": "stderr",
     "output_type": "stream",
     "text": [
      "2024-01-21 13:31:33.667649: I metal_plugin/src/device/metal_device.cc:1154] Metal device set to: Apple M1\n",
      "2024-01-21 13:31:33.667673: I metal_plugin/src/device/metal_device.cc:296] systemMemory: 16.00 GB\n",
      "2024-01-21 13:31:33.667681: I metal_plugin/src/device/metal_device.cc:313] maxCacheSize: 5.33 GB\n",
      "2024-01-21 13:31:33.667715: I tensorflow/core/common_runtime/pluggable_device/pluggable_device_factory.cc:303] Could not identify NUMA node of platform GPU ID 0, defaulting to 0. Your kernel may not have been built with NUMA support.\n",
      "2024-01-21 13:31:33.667731: I tensorflow/core/common_runtime/pluggable_device/pluggable_device_factory.cc:269] Created TensorFlow device (/job:localhost/replica:0/task:0/device:GPU:0 with 0 MB memory) -> physical PluggableDevice (device: 0, name: METAL, pci bus id: <undefined>)\n"
     ]
    }
   ],
   "source": [
    "from stellargraph import StellarGraph"
   ]
  },
  {
   "cell_type": "markdown",
   "id": "b6e08909-0395-40e8-b518-11c69da68b36",
   "metadata": {},
   "source": [
    "## Input Data"
   ]
  },
  {
   "cell_type": "code",
   "execution_count": 7,
   "id": "98c5cf92-35ea-4371-b3e0-04abc85a41dd",
   "metadata": {},
   "outputs": [],
   "source": [
    "comb_df = pd.read_parquet(Path(setup.temp_path).joinpath('10_DATA_combined_scaled_all.parquet'))"
   ]
  },
  {
   "cell_type": "code",
   "execution_count": 8,
   "id": "c9911d8f-1a34-4fa7-8636-bdc498d56cd5",
   "metadata": {},
   "outputs": [],
   "source": [
    "train_df = comb_df[comb_df['dset'] == 'train']\n",
    "test_df =  comb_df[comb_df['dset'] == 'test']\n",
    "val_df =  comb_df[comb_df['dset'] == 'val']"
   ]
  },
  {
   "cell_type": "code",
   "execution_count": 9,
   "id": "7b1f7125-9a15-4aaf-b49a-3d882e6a37fb",
   "metadata": {},
   "outputs": [],
   "source": [
    "with open(Path(setup.temp_path).joinpath('10_DATA_features.pkl'), 'rb') as fin:\n",
    "    imputed_features = pickle.load(fin)"
   ]
  },
  {
   "cell_type": "code",
   "execution_count": 10,
   "id": "69129e21-dd98-434f-97b7-55bdcb3734ee",
   "metadata": {},
   "outputs": [
    {
     "name": "stdout",
     "output_type": "stream",
     "text": [
      "['NoEmp', 'CreateJob', 'LowDoc', 'DisbursementGross', 'new_business', 'urban_flag', 'franchise_flag', 'missingindicator_LowDoc', 'missingindicator_new_business', 'missingindicator_urban_flag']\n"
     ]
    }
   ],
   "source": [
    "num_feat =  [c for c in imputed_features if c != 'NAICS']\n",
    "print(num_feat)"
   ]
  },
  {
   "cell_type": "markdown",
   "id": "80845bc1-b251-4cb4-b8de-e26dc509514b",
   "metadata": {
    "tags": []
   },
   "source": [
    "## Label Data - Train/Validation\n",
    "Process new label data, zeroing out the new \"train\" and creating a \"fix\" slice to retain labels.\n",
    "This new label data is used as node features. The original label is used for evaluation metrics. "
   ]
  },
  {
   "cell_type": "code",
   "execution_count": 11,
   "id": "09d5307b-3f04-4201-9295-c18f0331a518",
   "metadata": {},
   "outputs": [
    {
     "name": "stdout",
     "output_type": "stream",
     "text": [
      "0.1982993281314264\n"
     ]
    }
   ],
   "source": [
    "split_ratio = len(comb_df[comb_df['dset'] == 'test']) / \\\n",
    "    len(comb_df)\n",
    "print(split_ratio)"
   ]
  },
  {
   "cell_type": "code",
   "execution_count": 12,
   "id": "90c3b125-057f-4bef-af37-f716cd4619d2",
   "metadata": {},
   "outputs": [],
   "source": [
    "# Split tran and validation\n",
    "[train_index, train_fix_index] = train_test_split(train_df['LoanNr_ChkDgt'], \n",
    "                                                     train_size=split_ratio, random_state=343)\n",
    "[val_index, val_fix_index] = train_test_split(val_df['LoanNr_ChkDgt'], \n",
    "                                                     train_size=split_ratio, random_state=345)"
   ]
  },
  {
   "cell_type": "code",
   "execution_count": 13,
   "id": "7afd6d80-8157-4795-a305-410667fd58d6",
   "metadata": {},
   "outputs": [],
   "source": [
    "fix_index_df = pd.concat([train_fix_index, val_fix_index]).to_frame()\n",
    "fix_index_df['dset'] = 'fix'"
   ]
  },
  {
   "cell_type": "markdown",
   "id": "3adfd83f-f4ca-4cea-a332-1b93013e70b3",
   "metadata": {},
   "source": [
    "##### New label data, with new slices (split \"train\")"
   ]
  },
  {
   "cell_type": "code",
   "execution_count": 14,
   "id": "a0dccbed-7f90-4f2c-a5d6-12b5b613ce34",
   "metadata": {},
   "outputs": [],
   "source": [
    "train_val_label_df = comb_df[comb_df['dset'].isin(['train', 'val'])] \\\n",
    "    [['dset', 'dset_naics_holdout', 'LoanNr_ChkDgt', 'target']] "
   ]
  },
  {
   "cell_type": "code",
   "execution_count": 15,
   "id": "ba5ef209-01f2-48f5-9d73-eec35d12f20b",
   "metadata": {},
   "outputs": [],
   "source": [
    "train_val_label_df.rename(columns={'dset':'dset_old'}, inplace=True)"
   ]
  },
  {
   "cell_type": "code",
   "execution_count": 16,
   "id": "6da302ef-508e-4364-bb9a-e5f56e78fed4",
   "metadata": {},
   "outputs": [],
   "source": [
    "train_val_label_df = train_val_label_df.merge(fix_index_df, how='left', on=['LoanNr_ChkDgt'])\n",
    "train_val_label_df['dset'] = train_val_label_df['dset'].fillna(train_val_label_df['dset_old'])"
   ]
  },
  {
   "cell_type": "code",
   "execution_count": 17,
   "id": "a81b6509-a074-4644-adde-555d8663fa9d",
   "metadata": {},
   "outputs": [
    {
     "data": {
      "text/plain": [
       "dset_old  dset \n",
       "train     fix      341199\n",
       "val       fix      101048\n",
       "train     train     84395\n",
       "val       val       24993\n",
       "Name: count, dtype: int64"
      ]
     },
     "execution_count": 17,
     "metadata": {},
     "output_type": "execute_result"
    }
   ],
   "source": [
    "train_val_label_df[['dset_old', 'dset']].value_counts()"
   ]
  },
  {
   "cell_type": "markdown",
   "id": "c35780c1-95b4-4e2c-92f5-ddae83e99299",
   "metadata": {},
   "source": [
    "##### Target features - set to 0 for the new train and validation datasets.  "
   ]
  },
  {
   "cell_type": "code",
   "execution_count": 18,
   "id": "67b8f5a3-26a9-4037-a5b1-5e4e0293dde8",
   "metadata": {},
   "outputs": [],
   "source": [
    "train_val_label_df['target_remap'] = train_val_label_df['target'] \\\n",
    "    .where(train_val_label_df['dset'] == 'fix', 0)"
   ]
  },
  {
   "cell_type": "code",
   "execution_count": 19,
   "id": "23c2793f-ece7-4947-a897-b2274ee7fb22",
   "metadata": {},
   "outputs": [
    {
     "data": {
      "text/html": [
       "<div>\n",
       "<style scoped>\n",
       "    .dataframe tbody tr th:only-of-type {\n",
       "        vertical-align: middle;\n",
       "    }\n",
       "\n",
       "    .dataframe tbody tr th {\n",
       "        vertical-align: top;\n",
       "    }\n",
       "\n",
       "    .dataframe thead th {\n",
       "        text-align: right;\n",
       "    }\n",
       "</style>\n",
       "<table border=\"1\" class=\"dataframe\">\n",
       "  <thead>\n",
       "    <tr style=\"text-align: right;\">\n",
       "      <th></th>\n",
       "      <th>mean</th>\n",
       "      <th>std</th>\n",
       "      <th>min</th>\n",
       "      <th>max</th>\n",
       "    </tr>\n",
       "    <tr>\n",
       "      <th>dset</th>\n",
       "      <th></th>\n",
       "      <th></th>\n",
       "      <th></th>\n",
       "      <th></th>\n",
       "    </tr>\n",
       "  </thead>\n",
       "  <tbody>\n",
       "    <tr>\n",
       "      <th>fix</th>\n",
       "      <td>0.203884</td>\n",
       "      <td>0.402884</td>\n",
       "      <td>0</td>\n",
       "      <td>1</td>\n",
       "    </tr>\n",
       "    <tr>\n",
       "      <th>train</th>\n",
       "      <td>0.000000</td>\n",
       "      <td>0.000000</td>\n",
       "      <td>0</td>\n",
       "      <td>0</td>\n",
       "    </tr>\n",
       "    <tr>\n",
       "      <th>val</th>\n",
       "      <td>0.000000</td>\n",
       "      <td>0.000000</td>\n",
       "      <td>0</td>\n",
       "      <td>0</td>\n",
       "    </tr>\n",
       "  </tbody>\n",
       "</table>\n",
       "</div>"
      ],
      "text/plain": [
       "           mean       std  min  max\n",
       "dset                               \n",
       "fix    0.203884  0.402884    0    1\n",
       "train  0.000000  0.000000    0    0\n",
       "val    0.000000  0.000000    0    0"
      ]
     },
     "execution_count": 19,
     "metadata": {},
     "output_type": "execute_result"
    }
   ],
   "source": [
    "train_val_label_df.groupby('dset')['target_remap'].agg(['mean', 'std', 'min', 'max'])"
   ]
  },
  {
   "cell_type": "code",
   "execution_count": 20,
   "id": "14bbaa49-a447-435c-b911-4c5e84378ea7",
   "metadata": {},
   "outputs": [],
   "source": [
    "train_val_label_df.to_parquet(Path(setup.temp_path).joinpath('30_DATA_label_info_train_val.parquet'))"
   ]
  },
  {
   "cell_type": "markdown",
   "id": "90f395f1-2d75-4441-8b9a-288b2ad790e2",
   "metadata": {
    "tags": []
   },
   "source": [
    "## Label Data - Full data (For Testing)\n",
    "The all nodes dataset is used for testing.  It uses original labels except for test, which is set to 0"
   ]
  },
  {
   "cell_type": "code",
   "execution_count": 21,
   "id": "95efcc4d-0940-4127-9280-51c76980a6fa",
   "metadata": {},
   "outputs": [],
   "source": [
    "all_label_df = comb_df.copy() \\\n",
    "    [['dset', 'dset_naics_holdout', 'LoanNr_ChkDgt', 'target']] "
   ]
  },
  {
   "cell_type": "code",
   "execution_count": 22,
   "id": "1ef3bb28-483a-4d6b-b2df-88800c307b63",
   "metadata": {},
   "outputs": [],
   "source": [
    "all_label_df['target_remap'] = all_label_df['target'] \\\n",
    "    .where(all_label_df['dset'] != 'test', 0)"
   ]
  },
  {
   "cell_type": "code",
   "execution_count": 23,
   "id": "77a2d6a3-8ed1-428f-83e0-02116da10f71",
   "metadata": {},
   "outputs": [
    {
     "data": {
      "text/html": [
       "<div>\n",
       "<style scoped>\n",
       "    .dataframe tbody tr th:only-of-type {\n",
       "        vertical-align: middle;\n",
       "    }\n",
       "\n",
       "    .dataframe tbody tr th {\n",
       "        vertical-align: top;\n",
       "    }\n",
       "\n",
       "    .dataframe thead th {\n",
       "        text-align: right;\n",
       "    }\n",
       "</style>\n",
       "<table border=\"1\" class=\"dataframe\">\n",
       "  <thead>\n",
       "    <tr style=\"text-align: right;\">\n",
       "      <th></th>\n",
       "      <th>mean</th>\n",
       "      <th>std</th>\n",
       "      <th>min</th>\n",
       "      <th>max</th>\n",
       "    </tr>\n",
       "    <tr>\n",
       "      <th>dset</th>\n",
       "      <th></th>\n",
       "      <th></th>\n",
       "      <th></th>\n",
       "      <th></th>\n",
       "    </tr>\n",
       "  </thead>\n",
       "  <tbody>\n",
       "    <tr>\n",
       "      <th>test</th>\n",
       "      <td>0.000000</td>\n",
       "      <td>0.000000</td>\n",
       "      <td>0</td>\n",
       "      <td>0</td>\n",
       "    </tr>\n",
       "    <tr>\n",
       "      <th>train</th>\n",
       "      <td>0.203074</td>\n",
       "      <td>0.402287</td>\n",
       "      <td>0</td>\n",
       "      <td>1</td>\n",
       "    </tr>\n",
       "    <tr>\n",
       "      <th>val</th>\n",
       "      <td>0.205505</td>\n",
       "      <td>0.404071</td>\n",
       "      <td>0</td>\n",
       "      <td>1</td>\n",
       "    </tr>\n",
       "  </tbody>\n",
       "</table>\n",
       "</div>"
      ],
      "text/plain": [
       "           mean       std  min  max\n",
       "dset                               \n",
       "test   0.000000  0.000000    0    0\n",
       "train  0.203074  0.402287    0    1\n",
       "val    0.205505  0.404071    0    1"
      ]
     },
     "execution_count": 23,
     "metadata": {},
     "output_type": "execute_result"
    }
   ],
   "source": [
    "all_label_df.groupby('dset')['target_remap'].agg(['mean', 'std', 'min', 'max'])"
   ]
  },
  {
   "cell_type": "code",
   "execution_count": 24,
   "id": "0af3765d-d7e0-43f5-899d-90670a5618dd",
   "metadata": {},
   "outputs": [],
   "source": [
    "all_label_df.to_parquet(Path(setup.temp_path).joinpath('30_DATA_label_info_all.parquet'))"
   ]
  },
  {
   "cell_type": "code",
   "execution_count": 25,
   "id": "d228a4ef-555c-4a94-a8b0-072c6b41fa7f",
   "metadata": {},
   "outputs": [
    {
     "data": {
      "text/html": [
       "<div>\n",
       "<style scoped>\n",
       "    .dataframe tbody tr th:only-of-type {\n",
       "        vertical-align: middle;\n",
       "    }\n",
       "\n",
       "    .dataframe tbody tr th {\n",
       "        vertical-align: top;\n",
       "    }\n",
       "\n",
       "    .dataframe thead th {\n",
       "        text-align: right;\n",
       "    }\n",
       "</style>\n",
       "<table border=\"1\" class=\"dataframe\">\n",
       "  <thead>\n",
       "    <tr style=\"text-align: right;\">\n",
       "      <th></th>\n",
       "      <th>dset</th>\n",
       "      <th>dset_naics_holdout</th>\n",
       "      <th>LoanNr_ChkDgt</th>\n",
       "      <th>target</th>\n",
       "      <th>target_remap</th>\n",
       "    </tr>\n",
       "    <tr>\n",
       "      <th>index</th>\n",
       "      <th></th>\n",
       "      <th></th>\n",
       "      <th></th>\n",
       "      <th></th>\n",
       "      <th></th>\n",
       "    </tr>\n",
       "  </thead>\n",
       "  <tbody>\n",
       "    <tr>\n",
       "      <th>0</th>\n",
       "      <td>train</td>\n",
       "      <td>0</td>\n",
       "      <td>1000014003</td>\n",
       "      <td>0</td>\n",
       "      <td>0</td>\n",
       "    </tr>\n",
       "    <tr>\n",
       "      <th>2</th>\n",
       "      <td>train</td>\n",
       "      <td>0</td>\n",
       "      <td>1000034009</td>\n",
       "      <td>0</td>\n",
       "      <td>0</td>\n",
       "    </tr>\n",
       "    <tr>\n",
       "      <th>7</th>\n",
       "      <td>train</td>\n",
       "      <td>0</td>\n",
       "      <td>1000094005</td>\n",
       "      <td>0</td>\n",
       "      <td>0</td>\n",
       "    </tr>\n",
       "    <tr>\n",
       "      <th>8</th>\n",
       "      <td>train</td>\n",
       "      <td>0</td>\n",
       "      <td>1000104006</td>\n",
       "      <td>0</td>\n",
       "      <td>0</td>\n",
       "    </tr>\n",
       "    <tr>\n",
       "      <th>10</th>\n",
       "      <td>train</td>\n",
       "      <td>0</td>\n",
       "      <td>1000134004</td>\n",
       "      <td>0</td>\n",
       "      <td>0</td>\n",
       "    </tr>\n",
       "  </tbody>\n",
       "</table>\n",
       "</div>"
      ],
      "text/plain": [
       "        dset  dset_naics_holdout LoanNr_ChkDgt  target  target_remap\n",
       "index                                                               \n",
       "0      train                   0    1000014003       0             0\n",
       "2      train                   0    1000034009       0             0\n",
       "7      train                   0    1000094005       0             0\n",
       "8      train                   0    1000104006       0             0\n",
       "10     train                   0    1000134004       0             0"
      ]
     },
     "execution_count": 25,
     "metadata": {},
     "output_type": "execute_result"
    }
   ],
   "source": [
    "all_label_df.head()"
   ]
  },
  {
   "cell_type": "markdown",
   "id": "115df140-0c71-47a0-8805-25852d3f006f",
   "metadata": {},
   "source": [
    "## Node features"
   ]
  },
  {
   "cell_type": "markdown",
   "id": "5c0696a4-af83-416e-8187-97db9da316be",
   "metadata": {},
   "source": [
    "##### Train/validation"
   ]
  },
  {
   "cell_type": "code",
   "execution_count": 26,
   "id": "d45c5320-f776-443f-afdf-a64ce5b6b7c8",
   "metadata": {},
   "outputs": [],
   "source": [
    "features_data_train_val = comb_df[comb_df['dset'].isin(['train', 'val'])] \\\n",
    "    [['LoanNr_ChkDgt', 'dset'] + num_feat] \\\n",
    "    .merge(train_val_label_df[['LoanNr_ChkDgt', 'target_remap']], on = 'LoanNr_ChkDgt') \\\n",
    "    .set_index('LoanNr_ChkDgt')"
   ]
  },
  {
   "cell_type": "code",
   "execution_count": 27,
   "id": "c04fddfb-af3c-424a-ab62-10d5f0cf9d48",
   "metadata": {},
   "outputs": [
    {
     "data": {
      "text/html": [
       "<div>\n",
       "<style scoped>\n",
       "    .dataframe tbody tr th:only-of-type {\n",
       "        vertical-align: middle;\n",
       "    }\n",
       "\n",
       "    .dataframe tbody tr th {\n",
       "        vertical-align: top;\n",
       "    }\n",
       "\n",
       "    .dataframe thead th {\n",
       "        text-align: right;\n",
       "    }\n",
       "</style>\n",
       "<table border=\"1\" class=\"dataframe\">\n",
       "  <thead>\n",
       "    <tr style=\"text-align: right;\">\n",
       "      <th></th>\n",
       "      <th>dset</th>\n",
       "      <th>NoEmp</th>\n",
       "      <th>CreateJob</th>\n",
       "      <th>LowDoc</th>\n",
       "      <th>DisbursementGross</th>\n",
       "      <th>new_business</th>\n",
       "      <th>urban_flag</th>\n",
       "      <th>franchise_flag</th>\n",
       "      <th>missingindicator_LowDoc</th>\n",
       "      <th>missingindicator_new_business</th>\n",
       "      <th>missingindicator_urban_flag</th>\n",
       "      <th>target_remap</th>\n",
       "    </tr>\n",
       "    <tr>\n",
       "      <th>LoanNr_ChkDgt</th>\n",
       "      <th></th>\n",
       "      <th></th>\n",
       "      <th></th>\n",
       "      <th></th>\n",
       "      <th></th>\n",
       "      <th></th>\n",
       "      <th></th>\n",
       "      <th></th>\n",
       "      <th></th>\n",
       "      <th></th>\n",
       "      <th></th>\n",
       "      <th></th>\n",
       "    </tr>\n",
       "  </thead>\n",
       "  <tbody>\n",
       "    <tr>\n",
       "      <th>1000014003</th>\n",
       "      <td>train</td>\n",
       "      <td>0.029029</td>\n",
       "      <td>-1.0</td>\n",
       "      <td>1.0</td>\n",
       "      <td>-0.228228</td>\n",
       "      <td>1.0</td>\n",
       "      <td>1.0</td>\n",
       "      <td>-1.0</td>\n",
       "      <td>-1.0</td>\n",
       "      <td>-1.0</td>\n",
       "      <td>1.0</td>\n",
       "      <td>0</td>\n",
       "    </tr>\n",
       "    <tr>\n",
       "      <th>1000034009</th>\n",
       "      <td>train</td>\n",
       "      <td>0.394394</td>\n",
       "      <td>-1.0</td>\n",
       "      <td>-1.0</td>\n",
       "      <td>0.610611</td>\n",
       "      <td>-1.0</td>\n",
       "      <td>1.0</td>\n",
       "      <td>-1.0</td>\n",
       "      <td>-1.0</td>\n",
       "      <td>-1.0</td>\n",
       "      <td>1.0</td>\n",
       "      <td>0</td>\n",
       "    </tr>\n",
       "  </tbody>\n",
       "</table>\n",
       "</div>"
      ],
      "text/plain": [
       "                dset     NoEmp  CreateJob  LowDoc  DisbursementGross  \\\n",
       "LoanNr_ChkDgt                                                          \n",
       "1000014003     train  0.029029       -1.0     1.0          -0.228228   \n",
       "1000034009     train  0.394394       -1.0    -1.0           0.610611   \n",
       "\n",
       "               new_business  urban_flag  franchise_flag  \\\n",
       "LoanNr_ChkDgt                                             \n",
       "1000014003              1.0         1.0            -1.0   \n",
       "1000034009             -1.0         1.0            -1.0   \n",
       "\n",
       "               missingindicator_LowDoc  missingindicator_new_business  \\\n",
       "LoanNr_ChkDgt                                                           \n",
       "1000014003                        -1.0                           -1.0   \n",
       "1000034009                        -1.0                           -1.0   \n",
       "\n",
       "               missingindicator_urban_flag  target_remap  \n",
       "LoanNr_ChkDgt                                             \n",
       "1000014003                             1.0             0  \n",
       "1000034009                             1.0             0  "
      ]
     },
     "execution_count": 27,
     "metadata": {},
     "output_type": "execute_result"
    }
   ],
   "source": [
    "features_data_train_val.head(2)"
   ]
  },
  {
   "cell_type": "markdown",
   "id": "ec576222-6fa9-49af-b84d-3887a6367e52",
   "metadata": {},
   "source": [
    "##### All data"
   ]
  },
  {
   "cell_type": "code",
   "execution_count": 28,
   "id": "11c829d8-3db5-4b5d-805c-b3cb1d0bef11",
   "metadata": {},
   "outputs": [],
   "source": [
    "features_data_all = comb_df[['LoanNr_ChkDgt', 'dset'] + num_feat] \\\n",
    "    .merge(all_label_df[['LoanNr_ChkDgt', 'target_remap']], on = 'LoanNr_ChkDgt') \\\n",
    "    .set_index('LoanNr_ChkDgt')"
   ]
  },
  {
   "cell_type": "code",
   "execution_count": 29,
   "id": "5f20b785-691b-4e4e-b167-7279f0075f5d",
   "metadata": {},
   "outputs": [
    {
     "data": {
      "text/html": [
       "<div>\n",
       "<style scoped>\n",
       "    .dataframe tbody tr th:only-of-type {\n",
       "        vertical-align: middle;\n",
       "    }\n",
       "\n",
       "    .dataframe tbody tr th {\n",
       "        vertical-align: top;\n",
       "    }\n",
       "\n",
       "    .dataframe thead th {\n",
       "        text-align: right;\n",
       "    }\n",
       "</style>\n",
       "<table border=\"1\" class=\"dataframe\">\n",
       "  <thead>\n",
       "    <tr style=\"text-align: right;\">\n",
       "      <th></th>\n",
       "      <th>dset</th>\n",
       "      <th>NoEmp</th>\n",
       "      <th>CreateJob</th>\n",
       "      <th>LowDoc</th>\n",
       "      <th>DisbursementGross</th>\n",
       "      <th>new_business</th>\n",
       "      <th>urban_flag</th>\n",
       "      <th>franchise_flag</th>\n",
       "      <th>missingindicator_LowDoc</th>\n",
       "      <th>missingindicator_new_business</th>\n",
       "      <th>missingindicator_urban_flag</th>\n",
       "      <th>target_remap</th>\n",
       "    </tr>\n",
       "    <tr>\n",
       "      <th>LoanNr_ChkDgt</th>\n",
       "      <th></th>\n",
       "      <th></th>\n",
       "      <th></th>\n",
       "      <th></th>\n",
       "      <th></th>\n",
       "      <th></th>\n",
       "      <th></th>\n",
       "      <th></th>\n",
       "      <th></th>\n",
       "      <th></th>\n",
       "      <th></th>\n",
       "      <th></th>\n",
       "    </tr>\n",
       "  </thead>\n",
       "  <tbody>\n",
       "    <tr>\n",
       "      <th>1000014003</th>\n",
       "      <td>train</td>\n",
       "      <td>0.029029</td>\n",
       "      <td>-1.0</td>\n",
       "      <td>1.0</td>\n",
       "      <td>-0.228228</td>\n",
       "      <td>1.0</td>\n",
       "      <td>1.0</td>\n",
       "      <td>-1.0</td>\n",
       "      <td>-1.0</td>\n",
       "      <td>-1.0</td>\n",
       "      <td>1.0</td>\n",
       "      <td>0</td>\n",
       "    </tr>\n",
       "    <tr>\n",
       "      <th>1000034009</th>\n",
       "      <td>train</td>\n",
       "      <td>0.394394</td>\n",
       "      <td>-1.0</td>\n",
       "      <td>-1.0</td>\n",
       "      <td>0.610611</td>\n",
       "      <td>-1.0</td>\n",
       "      <td>1.0</td>\n",
       "      <td>-1.0</td>\n",
       "      <td>-1.0</td>\n",
       "      <td>-1.0</td>\n",
       "      <td>1.0</td>\n",
       "      <td>0</td>\n",
       "    </tr>\n",
       "  </tbody>\n",
       "</table>\n",
       "</div>"
      ],
      "text/plain": [
       "                dset     NoEmp  CreateJob  LowDoc  DisbursementGross  \\\n",
       "LoanNr_ChkDgt                                                          \n",
       "1000014003     train  0.029029       -1.0     1.0          -0.228228   \n",
       "1000034009     train  0.394394       -1.0    -1.0           0.610611   \n",
       "\n",
       "               new_business  urban_flag  franchise_flag  \\\n",
       "LoanNr_ChkDgt                                             \n",
       "1000014003              1.0         1.0            -1.0   \n",
       "1000034009             -1.0         1.0            -1.0   \n",
       "\n",
       "               missingindicator_LowDoc  missingindicator_new_business  \\\n",
       "LoanNr_ChkDgt                                                           \n",
       "1000014003                        -1.0                           -1.0   \n",
       "1000034009                        -1.0                           -1.0   \n",
       "\n",
       "               missingindicator_urban_flag  target_remap  \n",
       "LoanNr_ChkDgt                                             \n",
       "1000014003                             1.0             0  \n",
       "1000034009                             1.0             0  "
      ]
     },
     "execution_count": 29,
     "metadata": {},
     "output_type": "execute_result"
    }
   ],
   "source": [
    "features_data_all.head(2)"
   ]
  },
  {
   "cell_type": "markdown",
   "id": "004afdb3-da89-433f-b28b-5e2bb34c5388",
   "metadata": {},
   "source": [
    "## Edges (as in previous)"
   ]
  },
  {
   "cell_type": "code",
   "execution_count": 30,
   "id": "78c4219a-53d1-4620-9cf1-20b4a200733f",
   "metadata": {},
   "outputs": [],
   "source": [
    "edges_all = pd.read_parquet(Path(setup.temp_path).joinpath('20_DATA_edges_naics_all.parquet'))\n",
    "edges_train_val = pd.read_parquet(Path(setup.temp_path).joinpath('20_DATA_edges_naics_train_val.parquet'))"
   ]
  },
  {
   "cell_type": "markdown",
   "id": "d29ee195-2cfd-42c8-ab13-26109306d521",
   "metadata": {},
   "source": [
    "## Create Graphs"
   ]
  },
  {
   "cell_type": "markdown",
   "id": "c795a02c-4629-410f-b236-32fe5747e3c0",
   "metadata": {},
   "source": [
    "##### All nodes"
   ]
  },
  {
   "cell_type": "code",
   "execution_count": 31,
   "id": "e5abd508-ef54-4fd9-ba1e-692763d22c6d",
   "metadata": {},
   "outputs": [],
   "source": [
    "sba_graph_all = StellarGraph({'LoanNr_ChkDgt':features_data_all.drop(columns=['dset'])},\n",
    "                             edges_all,\n",
    "                             source_column=\"source\", target_column=\"target\",\n",
    "                             edge_type_column=\"type\")"
   ]
  },
  {
   "cell_type": "code",
   "execution_count": 32,
   "id": "e0e72776-c6d2-418a-ac45-46efc06f3366",
   "metadata": {},
   "outputs": [
    {
     "name": "stdout",
     "output_type": "stream",
     "text": [
      "StellarGraph: Undirected multigraph\n",
      " Nodes: 688081, Edges: 66553913\n",
      "\n",
      " Node types:\n",
      "  LoanNr_ChkDgt: [688081]\n",
      "    Features: float32 vector, length 11\n",
      "    Edge types: LoanNr_ChkDgt-naics->LoanNr_ChkDgt, LoanNr_ChkDgt-sector->LoanNr_ChkDgt\n",
      "\n",
      " Edge types:\n",
      "    LoanNr_ChkDgt-sector->LoanNr_ChkDgt: [34354688]\n",
      "        Weights: all 1 (default)\n",
      "        Features: none\n",
      "    LoanNr_ChkDgt-naics->LoanNr_ChkDgt: [32199225]\n",
      "        Weights: all 1 (default)\n",
      "        Features: none\n"
     ]
    }
   ],
   "source": [
    "print(sba_graph_all.info())"
   ]
  },
  {
   "cell_type": "code",
   "execution_count": 33,
   "id": "529c6f9d-8f42-44a0-88a7-5ada24c3389f",
   "metadata": {},
   "outputs": [],
   "source": [
    "# Save stellargraph object\n",
    "with open(Path(setup.temp_path).joinpath('30_DATA_stellargraph_all.pkl'), 'wb') as fout:\n",
    "      pickle.dump(sba_graph_all, fout)"
   ]
  },
  {
   "cell_type": "markdown",
   "id": "ecc7121f-b406-41c1-83f8-cc817d6c4389",
   "metadata": {},
   "source": [
    "##### Train and validation"
   ]
  },
  {
   "cell_type": "code",
   "execution_count": 35,
   "id": "2b9dd473-c0f8-4b80-9f48-8580604642ca",
   "metadata": {},
   "outputs": [],
   "source": [
    "sba_graph_train_val = StellarGraph({'LoanNr_ChkDgt':features_data_train_val.drop(columns=['dset'])},\n",
    "                             edges_train_val,\n",
    "                             source_column=\"source\", target_column=\"target\",\n",
    "                             edge_type_column=\"type\")"
   ]
  },
  {
   "cell_type": "code",
   "execution_count": 36,
   "id": "ffc0df6d-189d-4d9a-95a5-c31fa2f74cf7",
   "metadata": {},
   "outputs": [
    {
     "name": "stdout",
     "output_type": "stream",
     "text": [
      "StellarGraph: Undirected multigraph\n",
      " Nodes: 551635, Edges: 53101575\n",
      "\n",
      " Node types:\n",
      "  LoanNr_ChkDgt: [551635]\n",
      "    Features: float32 vector, length 11\n",
      "    Edge types: LoanNr_ChkDgt-naics->LoanNr_ChkDgt, LoanNr_ChkDgt-sector->LoanNr_ChkDgt\n",
      "\n",
      " Edge types:\n",
      "    LoanNr_ChkDgt-sector->LoanNr_ChkDgt: [27532592]\n",
      "        Weights: all 1 (default)\n",
      "        Features: none\n",
      "    LoanNr_ChkDgt-naics->LoanNr_ChkDgt: [25568983]\n",
      "        Weights: all 1 (default)\n",
      "        Features: none\n"
     ]
    }
   ],
   "source": [
    "print(sba_graph_train_val.info())"
   ]
  },
  {
   "cell_type": "code",
   "execution_count": 37,
   "id": "585ea8d7-aad9-4653-a4a1-81d45f05d8e4",
   "metadata": {},
   "outputs": [],
   "source": [
    "# Save stellargraph object\n",
    "with open(Path(setup.temp_path).joinpath('30_DATA_stellargraph_train_val.pkl'), 'wb') as fout:\n",
    "      pickle.dump(sba_graph_train_val, fout)"
   ]
  },
  {
   "cell_type": "code",
   "execution_count": null,
   "id": "b993beb1-990e-4e87-b0fa-76e01ee8ef82",
   "metadata": {},
   "outputs": [],
   "source": []
  }
 ],
 "metadata": {
  "kernelspec": {
   "display_name": "tf_p39",
   "language": "python",
   "name": "tf_p39"
  },
  "language_info": {
   "codemirror_mode": {
    "name": "ipython",
    "version": 3
   },
   "file_extension": ".py",
   "mimetype": "text/x-python",
   "name": "python",
   "nbconvert_exporter": "python",
   "pygments_lexer": "ipython3",
   "version": "3.8.18"
  }
 },
 "nbformat": 4,
 "nbformat_minor": 5
}
