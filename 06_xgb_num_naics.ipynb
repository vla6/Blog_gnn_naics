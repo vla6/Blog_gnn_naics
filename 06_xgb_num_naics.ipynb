{
 "cells": [
  {
   "cell_type": "code",
   "execution_count": 1,
   "id": "4c65f557-651f-4958-a567-a1b6b5a82b2b",
   "metadata": {
    "tags": []
   },
   "outputs": [],
   "source": [
    "# Modify the file 00_setup.py to define input/output file paths on your system\n",
    "# The information in 00_setup.py will be used across notebooks\n",
    "from importlib.machinery import SourceFileLoader\n",
    "setup = SourceFileLoader(\"setup\", \"./00_setup.py\").load_module()"
   ]
  },
  {
   "cell_type": "markdown",
   "id": "b01d0fdb-d4bf-465a-8541-997addc50b0c",
   "metadata": {},
   "source": [
    "# XGBoost with numeric NAICS code\n",
    "XGBoost model, numeric NAICS"
   ]
  },
  {
   "cell_type": "markdown",
   "id": "56161f89-1f54-47f9-860d-3f945a941c1f",
   "metadata": {},
   "source": [
    "*This script takes about 5 minutes on my MacBook Air*"
   ]
  },
  {
   "cell_type": "code",
   "execution_count": 2,
   "id": "ec6b1778-7abc-4129-ab5f-ac2992bd8ca6",
   "metadata": {},
   "outputs": [],
   "source": [
    "import pandas as pd\n",
    "import numpy as np\n",
    "import xgboost as xgb\n",
    "import warnings\n",
    "import matplotlib.pyplot as plt\n",
    "import pickle"
   ]
  },
  {
   "cell_type": "code",
   "execution_count": 3,
   "id": "785af927-a634-4e34-84c4-7a532236f2ca",
   "metadata": {},
   "outputs": [],
   "source": [
    "from pathlib import Path"
   ]
  },
  {
   "cell_type": "code",
   "execution_count": 4,
   "id": "fd09527b-32dd-47fa-b62f-f9307f89f553",
   "metadata": {},
   "outputs": [],
   "source": [
    "import sklearn as sk\n",
    "from sklearn.model_selection import RandomizedSearchCV\n",
    "from sklearn.inspection import permutation_importance, partial_dependence\n",
    "from scikitplot.metrics import plot_lift_curve"
   ]
  },
  {
   "cell_type": "code",
   "execution_count": 5,
   "id": "0732ba40-8318-457b-b29f-f9b6de3b70aa",
   "metadata": {},
   "outputs": [],
   "source": [
    "from sba_gnn.sba_gnn import sg_plot "
   ]
  },
  {
   "cell_type": "markdown",
   "id": "d14a5947-6599-4253-acf3-91ddeffdedd3",
   "metadata": {},
   "source": [
    "## Import Processed Datasets"
   ]
  },
  {
   "cell_type": "code",
   "execution_count": 6,
   "id": "f6bc5cc5-b635-420f-852c-6cc9bba68a52",
   "metadata": {},
   "outputs": [],
   "source": [
    "sba_loans = pd.read_parquet(Path(setup.temp_path).joinpath('01_DATA_transformed.parquet'))"
   ]
  },
  {
   "cell_type": "code",
   "execution_count": 7,
   "id": "a5f6c362-c1ab-48d8-812b-2b970b06586b",
   "metadata": {},
   "outputs": [],
   "source": [
    "train_df = sba_loans[sba_loans['dset'] == 'train'].copy()\n",
    "test_df = sba_loans[sba_loans['dset'] == 'test']\n",
    "val_df = sba_loans[sba_loans['dset'] == 'val']"
   ]
  },
  {
   "cell_type": "code",
   "execution_count": 8,
   "id": "7b1db53b-181c-450d-9f7e-be350bc3111f",
   "metadata": {},
   "outputs": [
    {
     "data": {
      "text/plain": [
       "(425594, 49)"
      ]
     },
     "execution_count": 8,
     "metadata": {},
     "output_type": "execute_result"
    }
   ],
   "source": [
    "train_df.shape"
   ]
  },
  {
   "cell_type": "code",
   "execution_count": 9,
   "id": "a6d13f46-cfc4-4351-a2a9-89fa42d34999",
   "metadata": {},
   "outputs": [
    {
     "data": {
      "text/plain": [
       "(425594, 49)"
      ]
     },
     "execution_count": 9,
     "metadata": {},
     "output_type": "execute_result"
    }
   ],
   "source": [
    "train_df.drop_duplicates('LoanNr_ChkDgt').shape"
   ]
  },
  {
   "cell_type": "markdown",
   "id": "d56e9533-8071-494a-a7da-4917a03fb701",
   "metadata": {},
   "source": [
    "#### Set the predictor features.  Inlcude the numeric NAICS"
   ]
  },
  {
   "cell_type": "code",
   "execution_count": 10,
   "id": "c07ddd4e-6987-454a-926a-3b59abf6caa6",
   "metadata": {},
   "outputs": [
    {
     "name": "stdout",
     "output_type": "stream",
     "text": [
      "['NoEmp', 'CreateJob', 'LowDoc', 'DisbursementGross', 'new_business', 'urban_flag', 'franchise_flag', 'NAICS_num']\n"
     ]
    }
   ],
   "source": [
    "predictor_features = setup.predictor_features + ['NAICS_num']\n",
    "print(predictor_features)"
   ]
  },
  {
   "cell_type": "code",
   "execution_count": 11,
   "id": "51a66d4e-7977-4c8d-847e-e8fc0b5d8923",
   "metadata": {},
   "outputs": [
    {
     "data": {
      "text/html": [
       "<div>\n",
       "<style scoped>\n",
       "    .dataframe tbody tr th:only-of-type {\n",
       "        vertical-align: middle;\n",
       "    }\n",
       "\n",
       "    .dataframe tbody tr th {\n",
       "        vertical-align: top;\n",
       "    }\n",
       "\n",
       "    .dataframe thead th {\n",
       "        text-align: right;\n",
       "    }\n",
       "</style>\n",
       "<table border=\"1\" class=\"dataframe\">\n",
       "  <thead>\n",
       "    <tr style=\"text-align: right;\">\n",
       "      <th></th>\n",
       "      <th>NoEmp</th>\n",
       "      <th>CreateJob</th>\n",
       "      <th>LowDoc</th>\n",
       "      <th>DisbursementGross</th>\n",
       "      <th>new_business</th>\n",
       "      <th>urban_flag</th>\n",
       "      <th>franchise_flag</th>\n",
       "      <th>NAICS_num</th>\n",
       "    </tr>\n",
       "  </thead>\n",
       "  <tbody>\n",
       "    <tr>\n",
       "      <th>count</th>\n",
       "      <td>425594.000000</td>\n",
       "      <td>425594.000000</td>\n",
       "      <td>422477.000000</td>\n",
       "      <td>4.255940e+05</td>\n",
       "      <td>425050.000000</td>\n",
       "      <td>342255.000000</td>\n",
       "      <td>425594.000000</td>\n",
       "      <td>425594.000000</td>\n",
       "    </tr>\n",
       "    <tr>\n",
       "      <th>mean</th>\n",
       "      <td>9.758920</td>\n",
       "      <td>2.172277</td>\n",
       "      <td>0.097807</td>\n",
       "      <td>1.949280e+05</td>\n",
       "      <td>0.279906</td>\n",
       "      <td>0.814930</td>\n",
       "      <td>0.050858</td>\n",
       "      <td>515216.711761</td>\n",
       "    </tr>\n",
       "    <tr>\n",
       "      <th>std</th>\n",
       "      <td>63.011166</td>\n",
       "      <td>15.140139</td>\n",
       "      <td>0.297053</td>\n",
       "      <td>2.994808e+05</td>\n",
       "      <td>0.448953</td>\n",
       "      <td>0.388355</td>\n",
       "      <td>0.219709</td>\n",
       "      <td>171953.069859</td>\n",
       "    </tr>\n",
       "    <tr>\n",
       "      <th>min</th>\n",
       "      <td>0.000000</td>\n",
       "      <td>0.000000</td>\n",
       "      <td>0.000000</td>\n",
       "      <td>4.000000e+03</td>\n",
       "      <td>0.000000</td>\n",
       "      <td>0.000000</td>\n",
       "      <td>0.000000</td>\n",
       "      <td>111110.000000</td>\n",
       "    </tr>\n",
       "    <tr>\n",
       "      <th>25%</th>\n",
       "      <td>2.000000</td>\n",
       "      <td>0.000000</td>\n",
       "      <td>0.000000</td>\n",
       "      <td>3.600000e+04</td>\n",
       "      <td>0.000000</td>\n",
       "      <td>1.000000</td>\n",
       "      <td>0.000000</td>\n",
       "      <td>423810.000000</td>\n",
       "    </tr>\n",
       "    <tr>\n",
       "      <th>50%</th>\n",
       "      <td>4.000000</td>\n",
       "      <td>0.000000</td>\n",
       "      <td>0.000000</td>\n",
       "      <td>9.000000e+04</td>\n",
       "      <td>0.000000</td>\n",
       "      <td>1.000000</td>\n",
       "      <td>0.000000</td>\n",
       "      <td>516110.000000</td>\n",
       "    </tr>\n",
       "    <tr>\n",
       "      <th>75%</th>\n",
       "      <td>9.000000</td>\n",
       "      <td>2.000000</td>\n",
       "      <td>0.000000</td>\n",
       "      <td>2.157000e+05</td>\n",
       "      <td>1.000000</td>\n",
       "      <td>1.000000</td>\n",
       "      <td>0.000000</td>\n",
       "      <td>621391.000000</td>\n",
       "    </tr>\n",
       "    <tr>\n",
       "      <th>max</th>\n",
       "      <td>9992.000000</td>\n",
       "      <td>5621.000000</td>\n",
       "      <td>1.000000</td>\n",
       "      <td>1.144632e+07</td>\n",
       "      <td>1.000000</td>\n",
       "      <td>1.000000</td>\n",
       "      <td>1.000000</td>\n",
       "      <td>928120.000000</td>\n",
       "    </tr>\n",
       "  </tbody>\n",
       "</table>\n",
       "</div>"
      ],
      "text/plain": [
       "               NoEmp      CreateJob         LowDoc  DisbursementGross  \\\n",
       "count  425594.000000  425594.000000  422477.000000       4.255940e+05   \n",
       "mean        9.758920       2.172277       0.097807       1.949280e+05   \n",
       "std        63.011166      15.140139       0.297053       2.994808e+05   \n",
       "min         0.000000       0.000000       0.000000       4.000000e+03   \n",
       "25%         2.000000       0.000000       0.000000       3.600000e+04   \n",
       "50%         4.000000       0.000000       0.000000       9.000000e+04   \n",
       "75%         9.000000       2.000000       0.000000       2.157000e+05   \n",
       "max      9992.000000    5621.000000       1.000000       1.144632e+07   \n",
       "\n",
       "        new_business     urban_flag  franchise_flag      NAICS_num  \n",
       "count  425050.000000  342255.000000   425594.000000  425594.000000  \n",
       "mean        0.279906       0.814930        0.050858  515216.711761  \n",
       "std         0.448953       0.388355        0.219709  171953.069859  \n",
       "min         0.000000       0.000000        0.000000  111110.000000  \n",
       "25%         0.000000       1.000000        0.000000  423810.000000  \n",
       "50%         0.000000       1.000000        0.000000  516110.000000  \n",
       "75%         1.000000       1.000000        0.000000  621391.000000  \n",
       "max         1.000000       1.000000        1.000000  928120.000000  "
      ]
     },
     "execution_count": 11,
     "metadata": {},
     "output_type": "execute_result"
    }
   ],
   "source": [
    "train_df[predictor_features].describe()"
   ]
  },
  {
   "cell_type": "code",
   "execution_count": 12,
   "id": "2a4f4a9e-f7e5-4143-b1e4-b5fbb5f7280d",
   "metadata": {},
   "outputs": [
    {
     "data": {
      "text/html": [
       "<div>\n",
       "<style scoped>\n",
       "    .dataframe tbody tr th:only-of-type {\n",
       "        vertical-align: middle;\n",
       "    }\n",
       "\n",
       "    .dataframe tbody tr th {\n",
       "        vertical-align: top;\n",
       "    }\n",
       "\n",
       "    .dataframe thead th {\n",
       "        text-align: right;\n",
       "    }\n",
       "</style>\n",
       "<table border=\"1\" class=\"dataframe\">\n",
       "  <thead>\n",
       "    <tr style=\"text-align: right;\">\n",
       "      <th></th>\n",
       "      <th>NoEmp</th>\n",
       "      <th>CreateJob</th>\n",
       "      <th>LowDoc</th>\n",
       "      <th>DisbursementGross</th>\n",
       "      <th>new_business</th>\n",
       "      <th>urban_flag</th>\n",
       "      <th>franchise_flag</th>\n",
       "      <th>NAICS_num</th>\n",
       "      <th>target</th>\n",
       "    </tr>\n",
       "  </thead>\n",
       "  <tbody>\n",
       "    <tr>\n",
       "      <th>NoEmp</th>\n",
       "      <td>1.000000</td>\n",
       "      <td>0.052510</td>\n",
       "      <td>-0.009243</td>\n",
       "      <td>0.093125</td>\n",
       "      <td>-0.038672</td>\n",
       "      <td>0.002058</td>\n",
       "      <td>0.006517</td>\n",
       "      <td>-0.012675</td>\n",
       "      <td>-0.027838</td>\n",
       "    </tr>\n",
       "    <tr>\n",
       "      <th>CreateJob</th>\n",
       "      <td>0.052510</td>\n",
       "      <td>1.000000</td>\n",
       "      <td>-0.046967</td>\n",
       "      <td>0.101755</td>\n",
       "      <td>0.028831</td>\n",
       "      <td>0.009019</td>\n",
       "      <td>0.036918</td>\n",
       "      <td>0.021313</td>\n",
       "      <td>-0.009540</td>\n",
       "    </tr>\n",
       "    <tr>\n",
       "      <th>LowDoc</th>\n",
       "      <td>-0.009243</td>\n",
       "      <td>-0.046967</td>\n",
       "      <td>1.000000</td>\n",
       "      <td>-0.133731</td>\n",
       "      <td>0.154037</td>\n",
       "      <td>-0.119292</td>\n",
       "      <td>0.039258</td>\n",
       "      <td>0.028024</td>\n",
       "      <td>-0.076836</td>\n",
       "    </tr>\n",
       "    <tr>\n",
       "      <th>DisbursementGross</th>\n",
       "      <td>0.093125</td>\n",
       "      <td>0.101755</td>\n",
       "      <td>-0.133731</td>\n",
       "      <td>1.000000</td>\n",
       "      <td>-0.067410</td>\n",
       "      <td>-0.006023</td>\n",
       "      <td>0.082087</td>\n",
       "      <td>-0.015603</td>\n",
       "      <td>-0.122857</td>\n",
       "    </tr>\n",
       "    <tr>\n",
       "      <th>new_business</th>\n",
       "      <td>-0.038672</td>\n",
       "      <td>0.028831</td>\n",
       "      <td>0.154037</td>\n",
       "      <td>-0.067410</td>\n",
       "      <td>1.000000</td>\n",
       "      <td>-0.046626</td>\n",
       "      <td>0.136142</td>\n",
       "      <td>0.121364</td>\n",
       "      <td>0.014277</td>\n",
       "    </tr>\n",
       "    <tr>\n",
       "      <th>urban_flag</th>\n",
       "      <td>0.002058</td>\n",
       "      <td>0.009019</td>\n",
       "      <td>-0.119292</td>\n",
       "      <td>-0.006023</td>\n",
       "      <td>-0.046626</td>\n",
       "      <td>1.000000</td>\n",
       "      <td>-0.004093</td>\n",
       "      <td>0.051125</td>\n",
       "      <td>0.054391</td>\n",
       "    </tr>\n",
       "    <tr>\n",
       "      <th>franchise_flag</th>\n",
       "      <td>0.006517</td>\n",
       "      <td>0.036918</td>\n",
       "      <td>0.039258</td>\n",
       "      <td>0.082087</td>\n",
       "      <td>0.136142</td>\n",
       "      <td>-0.004093</td>\n",
       "      <td>1.000000</td>\n",
       "      <td>0.159487</td>\n",
       "      <td>-0.011047</td>\n",
       "    </tr>\n",
       "    <tr>\n",
       "      <th>NAICS_num</th>\n",
       "      <td>-0.012675</td>\n",
       "      <td>0.021313</td>\n",
       "      <td>0.028024</td>\n",
       "      <td>-0.015603</td>\n",
       "      <td>0.121364</td>\n",
       "      <td>0.051125</td>\n",
       "      <td>0.159487</td>\n",
       "      <td>1.000000</td>\n",
       "      <td>-0.003179</td>\n",
       "    </tr>\n",
       "    <tr>\n",
       "      <th>target</th>\n",
       "      <td>-0.027838</td>\n",
       "      <td>-0.009540</td>\n",
       "      <td>-0.076836</td>\n",
       "      <td>-0.122857</td>\n",
       "      <td>0.014277</td>\n",
       "      <td>0.054391</td>\n",
       "      <td>-0.011047</td>\n",
       "      <td>-0.003179</td>\n",
       "      <td>1.000000</td>\n",
       "    </tr>\n",
       "  </tbody>\n",
       "</table>\n",
       "</div>"
      ],
      "text/plain": [
       "                      NoEmp  CreateJob    LowDoc  DisbursementGross  \\\n",
       "NoEmp              1.000000   0.052510 -0.009243           0.093125   \n",
       "CreateJob          0.052510   1.000000 -0.046967           0.101755   \n",
       "LowDoc            -0.009243  -0.046967  1.000000          -0.133731   \n",
       "DisbursementGross  0.093125   0.101755 -0.133731           1.000000   \n",
       "new_business      -0.038672   0.028831  0.154037          -0.067410   \n",
       "urban_flag         0.002058   0.009019 -0.119292          -0.006023   \n",
       "franchise_flag     0.006517   0.036918  0.039258           0.082087   \n",
       "NAICS_num         -0.012675   0.021313  0.028024          -0.015603   \n",
       "target            -0.027838  -0.009540 -0.076836          -0.122857   \n",
       "\n",
       "                   new_business  urban_flag  franchise_flag  NAICS_num  \\\n",
       "NoEmp                 -0.038672    0.002058        0.006517  -0.012675   \n",
       "CreateJob              0.028831    0.009019        0.036918   0.021313   \n",
       "LowDoc                 0.154037   -0.119292        0.039258   0.028024   \n",
       "DisbursementGross     -0.067410   -0.006023        0.082087  -0.015603   \n",
       "new_business           1.000000   -0.046626        0.136142   0.121364   \n",
       "urban_flag            -0.046626    1.000000       -0.004093   0.051125   \n",
       "franchise_flag         0.136142   -0.004093        1.000000   0.159487   \n",
       "NAICS_num              0.121364    0.051125        0.159487   1.000000   \n",
       "target                 0.014277    0.054391       -0.011047  -0.003179   \n",
       "\n",
       "                     target  \n",
       "NoEmp             -0.027838  \n",
       "CreateJob         -0.009540  \n",
       "LowDoc            -0.076836  \n",
       "DisbursementGross -0.122857  \n",
       "new_business       0.014277  \n",
       "urban_flag         0.054391  \n",
       "franchise_flag    -0.011047  \n",
       "NAICS_num         -0.003179  \n",
       "target             1.000000  "
      ]
     },
     "execution_count": 12,
     "metadata": {},
     "output_type": "execute_result"
    }
   ],
   "source": [
    "train_df[predictor_features + ['target']].corr()"
   ]
  },
  {
   "cell_type": "code",
   "execution_count": 13,
   "id": "1f8c475d-7ead-4f92-a19b-326343528f59",
   "metadata": {},
   "outputs": [],
   "source": [
    "with open(Path(setup.temp_path).joinpath('06_DATA_features_predict.pkl'), 'wb') as fout:\n",
    "    pickle.dump(predictor_features, fout)"
   ]
  },
  {
   "cell_type": "markdown",
   "id": "3d2878b1-7185-4304-af03-ea14d13f379e",
   "metadata": {},
   "source": [
    "## Model Fit"
   ]
  },
  {
   "cell_type": "code",
   "execution_count": 14,
   "id": "18b3be2f-3e08-4df3-8539-703ca5ca31f2",
   "metadata": {},
   "outputs": [
    {
     "data": {
      "text/plain": [
       "{'subsample': 0.8,\n",
       " 'scale_pos_weight': 1.0,\n",
       " 'reg_lambda': 0.01,\n",
       " 'reg_alpha': 0.001,\n",
       " 'min_child_weight': 50,\n",
       " 'max_depth': 6,\n",
       " 'learning_rate': 0.1,\n",
       " 'gamma': 2}"
      ]
     },
     "execution_count": 14,
     "metadata": {},
     "output_type": "execute_result"
    }
   ],
   "source": [
    "best_params_df = pd.read_csv(Path(setup.temp_path).joinpath('03_REPORT_fit_parameter_selected.csv'))\n",
    "best_params = best_params_df.to_dict(orient='records')[0]\n",
    "best_params"
   ]
  },
  {
   "cell_type": "markdown",
   "id": "03e5c457-246c-4126-9542-93ab42fb3c00",
   "metadata": {},
   "source": [
    "##### Fit using pre-determined parameters"
   ]
  },
  {
   "cell_type": "code",
   "execution_count": 15,
   "id": "7f6c337c-9a06-44c2-a036-4c86f8acbbd7",
   "metadata": {},
   "outputs": [],
   "source": [
    "xgb_params = dict(best_params, \n",
    "                   **{'objective':\"binary:logistic\", 'n_estimators':20})"
   ]
  },
  {
   "cell_type": "code",
   "execution_count": 16,
   "id": "e2905f3e-60e6-456a-beaa-179bea24ce12",
   "metadata": {},
   "outputs": [],
   "source": [
    "xgb_model = xgb.XGBClassifier(objective=\"binary:logistic\",\n",
    "                             n_estimators = 20)"
   ]
  },
  {
   "cell_type": "code",
   "execution_count": 17,
   "id": "58b3c7ce-8514-44d5-a352-eac4b18dad90",
   "metadata": {},
   "outputs": [],
   "source": [
    "xgb_model = xgb_model.set_params(**xgb_params)"
   ]
  },
  {
   "cell_type": "code",
   "execution_count": 18,
   "id": "db05c703-7ddb-45d6-b27a-70f604d42dca",
   "metadata": {},
   "outputs": [
    {
     "name": "stdout",
     "output_type": "stream",
     "text": [
      "[0]\tvalidation_0-logloss:0.50036\tvalidation_1-logloss:0.50316\n",
      "[1]\tvalidation_0-logloss:0.49449\tvalidation_1-logloss:0.49723\n",
      "[2]\tvalidation_0-logloss:0.48952\tvalidation_1-logloss:0.49221\n",
      "[3]\tvalidation_0-logloss:0.48526\tvalidation_1-logloss:0.48789\n",
      "[4]\tvalidation_0-logloss:0.48133\tvalidation_1-logloss:0.48395\n",
      "[5]\tvalidation_0-logloss:0.47814\tvalidation_1-logloss:0.48072\n",
      "[6]\tvalidation_0-logloss:0.47524\tvalidation_1-logloss:0.47784\n",
      "[7]\tvalidation_0-logloss:0.47277\tvalidation_1-logloss:0.47539\n",
      "[8]\tvalidation_0-logloss:0.47070\tvalidation_1-logloss:0.47333\n",
      "[9]\tvalidation_0-logloss:0.46890\tvalidation_1-logloss:0.47154\n",
      "[10]\tvalidation_0-logloss:0.46720\tvalidation_1-logloss:0.46986\n",
      "[11]\tvalidation_0-logloss:0.46572\tvalidation_1-logloss:0.46839\n",
      "[12]\tvalidation_0-logloss:0.46451\tvalidation_1-logloss:0.46717\n",
      "[13]\tvalidation_0-logloss:0.46347\tvalidation_1-logloss:0.46616\n",
      "[14]\tvalidation_0-logloss:0.46253\tvalidation_1-logloss:0.46523\n",
      "[15]\tvalidation_0-logloss:0.46157\tvalidation_1-logloss:0.46426\n",
      "[16]\tvalidation_0-logloss:0.46080\tvalidation_1-logloss:0.46347\n",
      "[17]\tvalidation_0-logloss:0.45999\tvalidation_1-logloss:0.46268\n",
      "[18]\tvalidation_0-logloss:0.45929\tvalidation_1-logloss:0.46201\n",
      "[19]\tvalidation_0-logloss:0.45870\tvalidation_1-logloss:0.46149\n"
     ]
    },
    {
     "data": {
      "text/html": [
       "<style>#sk-container-id-1 {color: black;}#sk-container-id-1 pre{padding: 0;}#sk-container-id-1 div.sk-toggleable {background-color: white;}#sk-container-id-1 label.sk-toggleable__label {cursor: pointer;display: block;width: 100%;margin-bottom: 0;padding: 0.3em;box-sizing: border-box;text-align: center;}#sk-container-id-1 label.sk-toggleable__label-arrow:before {content: \"▸\";float: left;margin-right: 0.25em;color: #696969;}#sk-container-id-1 label.sk-toggleable__label-arrow:hover:before {color: black;}#sk-container-id-1 div.sk-estimator:hover label.sk-toggleable__label-arrow:before {color: black;}#sk-container-id-1 div.sk-toggleable__content {max-height: 0;max-width: 0;overflow: hidden;text-align: left;background-color: #f0f8ff;}#sk-container-id-1 div.sk-toggleable__content pre {margin: 0.2em;color: black;border-radius: 0.25em;background-color: #f0f8ff;}#sk-container-id-1 input.sk-toggleable__control:checked~div.sk-toggleable__content {max-height: 200px;max-width: 100%;overflow: auto;}#sk-container-id-1 input.sk-toggleable__control:checked~label.sk-toggleable__label-arrow:before {content: \"▾\";}#sk-container-id-1 div.sk-estimator input.sk-toggleable__control:checked~label.sk-toggleable__label {background-color: #d4ebff;}#sk-container-id-1 div.sk-label input.sk-toggleable__control:checked~label.sk-toggleable__label {background-color: #d4ebff;}#sk-container-id-1 input.sk-hidden--visually {border: 0;clip: rect(1px 1px 1px 1px);clip: rect(1px, 1px, 1px, 1px);height: 1px;margin: -1px;overflow: hidden;padding: 0;position: absolute;width: 1px;}#sk-container-id-1 div.sk-estimator {font-family: monospace;background-color: #f0f8ff;border: 1px dotted black;border-radius: 0.25em;box-sizing: border-box;margin-bottom: 0.5em;}#sk-container-id-1 div.sk-estimator:hover {background-color: #d4ebff;}#sk-container-id-1 div.sk-parallel-item::after {content: \"\";width: 100%;border-bottom: 1px solid gray;flex-grow: 1;}#sk-container-id-1 div.sk-label:hover label.sk-toggleable__label {background-color: #d4ebff;}#sk-container-id-1 div.sk-serial::before {content: \"\";position: absolute;border-left: 1px solid gray;box-sizing: border-box;top: 0;bottom: 0;left: 50%;z-index: 0;}#sk-container-id-1 div.sk-serial {display: flex;flex-direction: column;align-items: center;background-color: white;padding-right: 0.2em;padding-left: 0.2em;position: relative;}#sk-container-id-1 div.sk-item {position: relative;z-index: 1;}#sk-container-id-1 div.sk-parallel {display: flex;align-items: stretch;justify-content: center;background-color: white;position: relative;}#sk-container-id-1 div.sk-item::before, #sk-container-id-1 div.sk-parallel-item::before {content: \"\";position: absolute;border-left: 1px solid gray;box-sizing: border-box;top: 0;bottom: 0;left: 50%;z-index: -1;}#sk-container-id-1 div.sk-parallel-item {display: flex;flex-direction: column;z-index: 1;position: relative;background-color: white;}#sk-container-id-1 div.sk-parallel-item:first-child::after {align-self: flex-end;width: 50%;}#sk-container-id-1 div.sk-parallel-item:last-child::after {align-self: flex-start;width: 50%;}#sk-container-id-1 div.sk-parallel-item:only-child::after {width: 0;}#sk-container-id-1 div.sk-dashed-wrapped {border: 1px dashed gray;margin: 0 0.4em 0.5em 0.4em;box-sizing: border-box;padding-bottom: 0.4em;background-color: white;}#sk-container-id-1 div.sk-label label {font-family: monospace;font-weight: bold;display: inline-block;line-height: 1.2em;}#sk-container-id-1 div.sk-label-container {text-align: center;}#sk-container-id-1 div.sk-container {/* jupyter's `normalize.less` sets `[hidden] { display: none; }` but bootstrap.min.css set `[hidden] { display: none !important; }` so we also need the `!important` here to be able to override the default hidden behavior on the sphinx rendered scikit-learn.org. See: https://github.com/scikit-learn/scikit-learn/issues/21755 */display: inline-block !important;position: relative;}#sk-container-id-1 div.sk-text-repr-fallback {display: none;}</style><div id=\"sk-container-id-1\" class=\"sk-top-container\"><div class=\"sk-text-repr-fallback\"><pre>XGBClassifier(base_score=None, booster=None, callbacks=None,\n",
       "              colsample_bylevel=None, colsample_bynode=None,\n",
       "              colsample_bytree=None, device=None, early_stopping_rounds=None,\n",
       "              enable_categorical=False, eval_metric=None, feature_types=None,\n",
       "              gamma=2, grow_policy=None, importance_type=None,\n",
       "              interaction_constraints=None, learning_rate=0.1, max_bin=None,\n",
       "              max_cat_threshold=None, max_cat_to_onehot=None,\n",
       "              max_delta_step=None, max_depth=6, max_leaves=None,\n",
       "              min_child_weight=50, missing=nan, monotone_constraints=None,\n",
       "              multi_strategy=None, n_estimators=20, n_jobs=None,\n",
       "              num_parallel_tree=None, random_state=None, ...)</pre><b>In a Jupyter environment, please rerun this cell to show the HTML representation or trust the notebook. <br />On GitHub, the HTML representation is unable to render, please try loading this page with nbviewer.org.</b></div><div class=\"sk-container\" hidden><div class=\"sk-item\"><div class=\"sk-estimator sk-toggleable\"><input class=\"sk-toggleable__control sk-hidden--visually\" id=\"sk-estimator-id-1\" type=\"checkbox\" checked><label for=\"sk-estimator-id-1\" class=\"sk-toggleable__label sk-toggleable__label-arrow\">XGBClassifier</label><div class=\"sk-toggleable__content\"><pre>XGBClassifier(base_score=None, booster=None, callbacks=None,\n",
       "              colsample_bylevel=None, colsample_bynode=None,\n",
       "              colsample_bytree=None, device=None, early_stopping_rounds=None,\n",
       "              enable_categorical=False, eval_metric=None, feature_types=None,\n",
       "              gamma=2, grow_policy=None, importance_type=None,\n",
       "              interaction_constraints=None, learning_rate=0.1, max_bin=None,\n",
       "              max_cat_threshold=None, max_cat_to_onehot=None,\n",
       "              max_delta_step=None, max_depth=6, max_leaves=None,\n",
       "              min_child_weight=50, missing=nan, monotone_constraints=None,\n",
       "              multi_strategy=None, n_estimators=20, n_jobs=None,\n",
       "              num_parallel_tree=None, random_state=None, ...)</pre></div></div></div></div></div>"
      ],
      "text/plain": [
       "XGBClassifier(base_score=None, booster=None, callbacks=None,\n",
       "              colsample_bylevel=None, colsample_bynode=None,\n",
       "              colsample_bytree=None, device=None, early_stopping_rounds=None,\n",
       "              enable_categorical=False, eval_metric=None, feature_types=None,\n",
       "              gamma=2, grow_policy=None, importance_type=None,\n",
       "              interaction_constraints=None, learning_rate=0.1, max_bin=None,\n",
       "              max_cat_threshold=None, max_cat_to_onehot=None,\n",
       "              max_delta_step=None, max_depth=6, max_leaves=None,\n",
       "              min_child_weight=50, missing=nan, monotone_constraints=None,\n",
       "              multi_strategy=None, n_estimators=20, n_jobs=None,\n",
       "              num_parallel_tree=None, random_state=None, ...)"
      ]
     },
     "execution_count": 18,
     "metadata": {},
     "output_type": "execute_result"
    }
   ],
   "source": [
    "xgb_model.fit(train_df[predictor_features], train_df['target'],\n",
    "              eval_set = [(train_df[predictor_features], train_df['target']),\n",
    "                         (val_df[predictor_features], val_df['target'])])"
   ]
  },
  {
   "cell_type": "code",
   "execution_count": 19,
   "id": "95c426a5-0de0-401a-8f3b-cf6a552fd0c6",
   "metadata": {},
   "outputs": [
    {
     "data": {
      "text/plain": [
       "target\n",
       "0    339167\n",
       "1     86427\n",
       "Name: count, dtype: int64"
      ]
     },
     "execution_count": 19,
     "metadata": {},
     "output_type": "execute_result"
    }
   ],
   "source": [
    "train_df['target'].value_counts()"
   ]
  },
  {
   "cell_type": "markdown",
   "id": "0913a102-a730-4b94-9977-e584df764d64",
   "metadata": {},
   "source": [
    "##### Save the model"
   ]
  },
  {
   "cell_type": "code",
   "execution_count": 20,
   "id": "af21dd7c-09d4-407f-9960-0748ba8f2247",
   "metadata": {},
   "outputs": [],
   "source": [
    "xgb_model.save_model(Path(setup.temp_path).joinpath('06_MODEL_xgboost.json'))"
   ]
  },
  {
   "cell_type": "code",
   "execution_count": 21,
   "id": "8e5d3e7d-0bd5-4252-b287-c9cc65f7a132",
   "metadata": {},
   "outputs": [],
   "source": [
    "with open(Path(setup.temp_path).joinpath('06_MODEL_xgboost.pkl'), 'wb') as po:\n",
    "    pickle.dump(xgb_model, po)"
   ]
  },
  {
   "cell_type": "markdown",
   "id": "f34ad059-70dc-4672-adff-0d961fc74b07",
   "metadata": {},
   "source": [
    "## Probability Predictions"
   ]
  },
  {
   "cell_type": "code",
   "execution_count": 22,
   "id": "6a7c8509-0109-4f8e-a466-d6e21164012c",
   "metadata": {},
   "outputs": [],
   "source": [
    "pred_df = pd.concat([sba_loans[['LoanNr_ChkDgt', 'dset', 'target', 'dset_naics_holdout']].reset_index(),\n",
    "                     pd.DataFrame({'predict_prob':\n",
    "                                   xgb_model.predict_proba(sba_loans[predictor_features])[:,1]})],\n",
    "                    axis=1) \\\n",
    "    .set_index('index')"
   ]
  },
  {
   "cell_type": "code",
   "execution_count": 23,
   "id": "7084012d-b68a-4ca4-b714-160f8d564500",
   "metadata": {},
   "outputs": [
    {
     "data": {
      "text/html": [
       "<div>\n",
       "<style scoped>\n",
       "    .dataframe tbody tr th:only-of-type {\n",
       "        vertical-align: middle;\n",
       "    }\n",
       "\n",
       "    .dataframe tbody tr th {\n",
       "        vertical-align: top;\n",
       "    }\n",
       "\n",
       "    .dataframe thead th {\n",
       "        text-align: right;\n",
       "    }\n",
       "</style>\n",
       "<table border=\"1\" class=\"dataframe\">\n",
       "  <thead>\n",
       "    <tr style=\"text-align: right;\">\n",
       "      <th></th>\n",
       "      <th>mean</th>\n",
       "      <th>std</th>\n",
       "      <th>min</th>\n",
       "      <th>max</th>\n",
       "      <th>median</th>\n",
       "    </tr>\n",
       "    <tr>\n",
       "      <th>target</th>\n",
       "      <th></th>\n",
       "      <th></th>\n",
       "      <th></th>\n",
       "      <th></th>\n",
       "      <th></th>\n",
       "    </tr>\n",
       "  </thead>\n",
       "  <tbody>\n",
       "    <tr>\n",
       "      <th>0</th>\n",
       "      <td>0.192098</td>\n",
       "      <td>0.095519</td>\n",
       "      <td>0.036627</td>\n",
       "      <td>0.557669</td>\n",
       "      <td>0.190201</td>\n",
       "    </tr>\n",
       "    <tr>\n",
       "      <th>1</th>\n",
       "      <td>0.264504</td>\n",
       "      <td>0.080062</td>\n",
       "      <td>0.036627</td>\n",
       "      <td>0.557669</td>\n",
       "      <td>0.277755</td>\n",
       "    </tr>\n",
       "  </tbody>\n",
       "</table>\n",
       "</div>"
      ],
      "text/plain": [
       "            mean       std       min       max    median\n",
       "target                                                  \n",
       "0       0.192098  0.095519  0.036627  0.557669  0.190201\n",
       "1       0.264504  0.080062  0.036627  0.557669  0.277755"
      ]
     },
     "execution_count": 23,
     "metadata": {},
     "output_type": "execute_result"
    }
   ],
   "source": [
    "pred_df.groupby('target')['predict_prob'].agg(['mean', 'std', 'min', 'max', 'median'])"
   ]
  },
  {
   "cell_type": "markdown",
   "id": "d33cb4dc-6c89-4a37-98c7-d3a666abc4a5",
   "metadata": {},
   "source": [
    "## Decision Threshold\n",
    "Max f1, on training data"
   ]
  },
  {
   "cell_type": "code",
   "execution_count": 24,
   "id": "d7727498-825f-4f53-882f-cfcce730b1fc",
   "metadata": {},
   "outputs": [],
   "source": [
    "pred_train_df = pred_df[pred_df['dset'] == 'train']"
   ]
  },
  {
   "cell_type": "code",
   "execution_count": 25,
   "id": "7b553798-eead-48f8-b14b-5f036d9183d9",
   "metadata": {},
   "outputs": [],
   "source": [
    "thresh_tune_data = sg_plot.get_f1_frame(pred_train_df['target'], \n",
    "                                        pred_train_df['predict_prob'])"
   ]
  },
  {
   "cell_type": "code",
   "execution_count": 26,
   "id": "7a1cde01-a30b-475f-8fd7-409b13946c6d",
   "metadata": {},
   "outputs": [],
   "source": [
    "thresh_tune_data.to_csv(Path(setup.temp_path).joinpath('06_REPORT_thresh_tune.csv'), index=False)"
   ]
  },
  {
   "cell_type": "code",
   "execution_count": 27,
   "id": "947a487c-e71d-433c-bbf0-2ed7e57a908a",
   "metadata": {},
   "outputs": [
    {
     "name": "stdout",
     "output_type": "stream",
     "text": [
      "0.24\n"
     ]
    },
    {
     "data": {
      "text/html": [
       "<div>\n",
       "<style scoped>\n",
       "    .dataframe tbody tr th:only-of-type {\n",
       "        vertical-align: middle;\n",
       "    }\n",
       "\n",
       "    .dataframe tbody tr th {\n",
       "        vertical-align: top;\n",
       "    }\n",
       "\n",
       "    .dataframe thead th {\n",
       "        text-align: right;\n",
       "    }\n",
       "</style>\n",
       "<table border=\"1\" class=\"dataframe\">\n",
       "  <thead>\n",
       "    <tr style=\"text-align: right;\">\n",
       "      <th></th>\n",
       "      <th>thresh</th>\n",
       "      <th>f1</th>\n",
       "    </tr>\n",
       "  </thead>\n",
       "  <tbody>\n",
       "    <tr>\n",
       "      <th>12</th>\n",
       "      <td>0.24</td>\n",
       "      <td>0.436543</td>\n",
       "    </tr>\n",
       "    <tr>\n",
       "      <th>11</th>\n",
       "      <td>0.22</td>\n",
       "      <td>0.435327</td>\n",
       "    </tr>\n",
       "  </tbody>\n",
       "</table>\n",
       "</div>"
      ],
      "text/plain": [
       "    thresh        f1\n",
       "12    0.24  0.436543\n",
       "11    0.22  0.435327"
      ]
     },
     "execution_count": 27,
     "metadata": {},
     "output_type": "execute_result"
    }
   ],
   "source": [
    "thresh_head = thresh_tune_data.sort_values('f1', ascending=False).head(2)\n",
    "best_thresh = thresh_head['thresh'].iloc[0]\n",
    "print(best_thresh)\n",
    "thresh_head"
   ]
  },
  {
   "cell_type": "markdown",
   "id": "1ee5330e-c1a7-4310-afbe-be9bc0d26f43",
   "metadata": {},
   "source": [
    "##### Apply decision threshold\n",
    "All datasets"
   ]
  },
  {
   "cell_type": "code",
   "execution_count": 28,
   "id": "f0d4c1cf-6d5b-49e9-9123-a067697a9e39",
   "metadata": {},
   "outputs": [],
   "source": [
    "pred_df['predict_bin'] = np.where(pred_df['predict_prob'] >= best_thresh, 1, 0)"
   ]
  },
  {
   "cell_type": "code",
   "execution_count": 29,
   "id": "8253c32c-0438-47b9-8570-7cde6f7f5590",
   "metadata": {},
   "outputs": [
    {
     "data": {
      "text/plain": [
       "predict_bin\n",
       "0    384268\n",
       "1    303813\n",
       "Name: count, dtype: int64"
      ]
     },
     "execution_count": 29,
     "metadata": {},
     "output_type": "execute_result"
    }
   ],
   "source": [
    "pred_df['predict_bin'].value_counts()"
   ]
  },
  {
   "cell_type": "code",
   "execution_count": 30,
   "id": "dbb46f4a-a5ef-4fd6-9da4-30de4a00334d",
   "metadata": {},
   "outputs": [],
   "source": [
    "pred_df.to_parquet(Path(setup.temp_path).joinpath('06_DATA_combined_predictions.parquet'))"
   ]
  },
  {
   "cell_type": "markdown",
   "id": "0ab860d0-eddc-4f63-b853-88da15d451f4",
   "metadata": {},
   "source": [
    "## Metrics"
   ]
  },
  {
   "cell_type": "code",
   "execution_count": 31,
   "id": "f2801964-124e-425f-b4cb-9bcf1cf3f04a",
   "metadata": {},
   "outputs": [
    {
     "data": {
      "text/html": [
       "<div>\n",
       "<style scoped>\n",
       "    .dataframe tbody tr th:only-of-type {\n",
       "        vertical-align: middle;\n",
       "    }\n",
       "\n",
       "    .dataframe tbody tr th {\n",
       "        vertical-align: top;\n",
       "    }\n",
       "\n",
       "    .dataframe thead th {\n",
       "        text-align: right;\n",
       "    }\n",
       "</style>\n",
       "<table border=\"1\" class=\"dataframe\">\n",
       "  <thead>\n",
       "    <tr style=\"text-align: right;\">\n",
       "      <th></th>\n",
       "      <th>dset</th>\n",
       "      <th>accuracy_score</th>\n",
       "      <th>f1_score</th>\n",
       "      <th>precision_score</th>\n",
       "      <th>recall_score</th>\n",
       "      <th>average_precision_score</th>\n",
       "      <th>roc_auc_score</th>\n",
       "      <th>dset_naics_holdout</th>\n",
       "    </tr>\n",
       "  </thead>\n",
       "  <tbody>\n",
       "    <tr>\n",
       "      <th>0</th>\n",
       "      <td>test</td>\n",
       "      <td>0.641668</td>\n",
       "      <td>0.434521</td>\n",
       "      <td>0.317830</td>\n",
       "      <td>0.686611</td>\n",
       "      <td>0.356810</td>\n",
       "      <td>0.716399</td>\n",
       "      <td>NaN</td>\n",
       "    </tr>\n",
       "    <tr>\n",
       "      <th>1</th>\n",
       "      <td>train</td>\n",
       "      <td>0.635643</td>\n",
       "      <td>0.436543</td>\n",
       "      <td>0.318199</td>\n",
       "      <td>0.695037</td>\n",
       "      <td>0.356485</td>\n",
       "      <td>0.714379</td>\n",
       "      <td>NaN</td>\n",
       "    </tr>\n",
       "    <tr>\n",
       "      <th>2</th>\n",
       "      <td>val</td>\n",
       "      <td>0.635801</td>\n",
       "      <td>0.439032</td>\n",
       "      <td>0.321181</td>\n",
       "      <td>0.693499</td>\n",
       "      <td>0.357713</td>\n",
       "      <td>0.714012</td>\n",
       "      <td>NaN</td>\n",
       "    </tr>\n",
       "    <tr>\n",
       "      <th>0</th>\n",
       "      <td>test</td>\n",
       "      <td>0.635704</td>\n",
       "      <td>0.436795</td>\n",
       "      <td>0.318803</td>\n",
       "      <td>0.693450</td>\n",
       "      <td>0.358299</td>\n",
       "      <td>0.713593</td>\n",
       "      <td>0.0</td>\n",
       "    </tr>\n",
       "    <tr>\n",
       "      <th>1</th>\n",
       "      <td>test</td>\n",
       "      <td>0.660124</td>\n",
       "      <td>0.426843</td>\n",
       "      <td>0.314514</td>\n",
       "      <td>0.663990</td>\n",
       "      <td>0.351862</td>\n",
       "      <td>0.724547</td>\n",
       "      <td>1.0</td>\n",
       "    </tr>\n",
       "  </tbody>\n",
       "</table>\n",
       "</div>"
      ],
      "text/plain": [
       "    dset  accuracy_score  f1_score  precision_score  recall_score  \\\n",
       "0   test        0.641668  0.434521         0.317830      0.686611   \n",
       "1  train        0.635643  0.436543         0.318199      0.695037   \n",
       "2    val        0.635801  0.439032         0.321181      0.693499   \n",
       "0   test        0.635704  0.436795         0.318803      0.693450   \n",
       "1   test        0.660124  0.426843         0.314514      0.663990   \n",
       "\n",
       "   average_precision_score  roc_auc_score  dset_naics_holdout  \n",
       "0                 0.356810       0.716399                 NaN  \n",
       "1                 0.356485       0.714379                 NaN  \n",
       "2                 0.357713       0.714012                 NaN  \n",
       "0                 0.358299       0.713593                 0.0  \n",
       "1                 0.351862       0.724547                 1.0  "
      ]
     },
     "execution_count": 31,
     "metadata": {},
     "output_type": "execute_result"
    }
   ],
   "source": [
    "metrics_dset_df = pred_df.groupby('dset') \\\n",
    "    .apply(lambda x: sg_plot.dset_metrics(x.target, x.predict_bin, x.predict_prob)) \\\n",
    "    .reset_index()\n",
    "metrics_test_df = pred_df[pred_df['dset'] == 'test'] \\\n",
    "    .groupby(['dset', 'dset_naics_holdout']) \\\n",
    "    .apply(lambda x: sg_plot.dset_metrics(x.target, x.predict_bin, x.predict_prob)) \\\n",
    "    .reset_index()\n",
    "metrics_df = pd.concat([metrics_dset_df, metrics_test_df])\n",
    "metrics_df.to_csv(Path(setup.temp_path).joinpath('06_REPORT_metrics.csv'), index=True)\n",
    "metrics_df"
   ]
  },
  {
   "cell_type": "markdown",
   "id": "3d906270-4264-4b0b-9f50-dcef8f75a5fd",
   "metadata": {},
   "source": [
    "## Lift\n",
    "Test data"
   ]
  },
  {
   "cell_type": "code",
   "execution_count": 32,
   "id": "82d9c0ab-8989-450d-a2b1-7997ca636052",
   "metadata": {
    "tags": []
   },
   "outputs": [],
   "source": [
    "pred_test_df = pred_df[pred_df['dset'] == 'test']"
   ]
  },
  {
   "cell_type": "code",
   "execution_count": 33,
   "id": "c01f5279-1151-4a8d-9b21-e12d4092f3c1",
   "metadata": {},
   "outputs": [
    {
     "data": {
      "image/png": "[encoded data removed]",
      "text/plain": [
       "<Figure size 400x300 with 1 Axes>"
      ]
     },
     "metadata": {},
     "output_type": "display_data"
    }
   ],
   "source": [
    "plot_lift_curve(pred_test_df['target'], \n",
    "                pd.concat([1-pred_test_df['predict_prob'], pred_test_df['predict_prob']], axis=1), \n",
    "                title='Lift Curve', ax=None, figsize=(4,3), \n",
    "                title_fontsize='large', text_fontsize='medium')\n",
    "plt.gca().legend(loc='upper right')\n",
    "plt.gcf().savefig(Path(setup.temp_path).joinpath('06_PLOT_lift_curve.png'),bbox_inches='tight')"
   ]
  },
  {
   "cell_type": "markdown",
   "id": "04994f41-3c98-412a-bb2f-11e5ae22b432",
   "metadata": {},
   "source": [
    "## Feature Importance "
   ]
  },
  {
   "cell_type": "markdown",
   "id": "926af7df-e407-484b-bd86-ae7d76a46392",
   "metadata": {},
   "source": [
    "##### XGBoost gain"
   ]
  },
  {
   "cell_type": "code",
   "execution_count": 34,
   "id": "ec3f6e1f-2b29-4b46-ac12-7a8451a3a45b",
   "metadata": {},
   "outputs": [],
   "source": [
    "feat_impgain = pd.DataFrame(xgb_model.get_booster().get_score(importance_type='gain'),\n",
    "                                     index=['importance']).T \\\n",
    "    .sort_values('importance', ascending=False)"
   ]
  },
  {
   "cell_type": "code",
   "execution_count": 35,
   "id": "9586c637-7add-4401-b61c-37abd55b11b4",
   "metadata": {},
   "outputs": [],
   "source": [
    "feat_impgain.to_csv(Path(setup.temp_path).joinpath('06_REPORT_importance_gain.csv'), index=True)"
   ]
  },
  {
   "cell_type": "code",
   "execution_count": 36,
   "id": "311e111f-d8e5-4a52-8adc-6a7c5f9daa8f",
   "metadata": {},
   "outputs": [
    {
     "data": {
      "text/html": [
       "<div>\n",
       "<style scoped>\n",
       "    .dataframe tbody tr th:only-of-type {\n",
       "        vertical-align: middle;\n",
       "    }\n",
       "\n",
       "    .dataframe tbody tr th {\n",
       "        vertical-align: top;\n",
       "    }\n",
       "\n",
       "    .dataframe thead th {\n",
       "        text-align: right;\n",
       "    }\n",
       "</style>\n",
       "<table border=\"1\" class=\"dataframe\">\n",
       "  <thead>\n",
       "    <tr style=\"text-align: right;\">\n",
       "      <th></th>\n",
       "      <th>importance</th>\n",
       "    </tr>\n",
       "  </thead>\n",
       "  <tbody>\n",
       "    <tr>\n",
       "      <th>urban_flag</th>\n",
       "      <td>1875.467163</td>\n",
       "    </tr>\n",
       "    <tr>\n",
       "      <th>LowDoc</th>\n",
       "      <td>280.341339</td>\n",
       "    </tr>\n",
       "    <tr>\n",
       "      <th>DisbursementGross</th>\n",
       "      <td>280.191956</td>\n",
       "    </tr>\n",
       "    <tr>\n",
       "      <th>new_business</th>\n",
       "      <td>55.940346</td>\n",
       "    </tr>\n",
       "    <tr>\n",
       "      <th>CreateJob</th>\n",
       "      <td>51.944084</td>\n",
       "    </tr>\n",
       "  </tbody>\n",
       "</table>\n",
       "</div>"
      ],
      "text/plain": [
       "                    importance\n",
       "urban_flag         1875.467163\n",
       "LowDoc              280.341339\n",
       "DisbursementGross   280.191956\n",
       "new_business         55.940346\n",
       "CreateJob            51.944084"
      ]
     },
     "execution_count": 36,
     "metadata": {},
     "output_type": "execute_result"
    }
   ],
   "source": [
    "feat_impgain.head()"
   ]
  },
  {
   "cell_type": "code",
   "execution_count": 37,
   "id": "9c88564a-7289-4c49-b2cd-b97338d1b042",
   "metadata": {},
   "outputs": [
    {
     "data": {
      "image/png": "[encoded data removed]",
      "text/plain": [
       "<Figure size 640x480 with 1 Axes>"
      ]
     },
     "metadata": {},
     "output_type": "display_data"
    }
   ],
   "source": [
    "feat_impgain.plot(kind='barh', legend=None)\n",
    "plt.gca().invert_yaxis()\n",
    "plt.xlabel('gain importance')\n",
    "plt.gcf().savefig(Path(setup.temp_path).joinpath('06_PLOT_importance_gain.png'))"
   ]
  },
  {
   "cell_type": "markdown",
   "id": "27e5fb90-f305-40ff-acaf-285d7d056c15",
   "metadata": {},
   "source": [
    "##### Permutation Importance"
   ]
  },
  {
   "cell_type": "code",
   "execution_count": 38,
   "id": "e2c1c123-20d0-423d-b684-585c0a5d6d2b",
   "metadata": {},
   "outputs": [],
   "source": [
    "perm_importance = permutation_importance(xgb_model, \n",
    "                                         train_df[predictor_features],  train_df['target'],\n",
    "                                         n_repeats=30, scoring = 'average_precision')"
   ]
  },
  {
   "cell_type": "code",
   "execution_count": 39,
   "id": "ab0df42e-af4e-46b1-b0cf-630877137678",
   "metadata": {},
   "outputs": [],
   "source": [
    "perm_importance_df = pd.DataFrame({'features':predictor_features,\n",
    "                                   'importance': perm_importance['importances_mean']}) \n",
    "perm_importance_df['abs_importance'] = np.abs(perm_importance_df['importance'])\n",
    "perm_importance_df = perm_importance_df.sort_values('abs_importance', ascending=False)"
   ]
  },
  {
   "cell_type": "code",
   "execution_count": 40,
   "id": "0cbc5d84-6775-404f-a685-44f5be5cd481",
   "metadata": {},
   "outputs": [
    {
     "data": {
      "text/html": [
       "<div>\n",
       "<style scoped>\n",
       "    .dataframe tbody tr th:only-of-type {\n",
       "        vertical-align: middle;\n",
       "    }\n",
       "\n",
       "    .dataframe tbody tr th {\n",
       "        vertical-align: top;\n",
       "    }\n",
       "\n",
       "    .dataframe thead th {\n",
       "        text-align: right;\n",
       "    }\n",
       "</style>\n",
       "<table border=\"1\" class=\"dataframe\">\n",
       "  <thead>\n",
       "    <tr style=\"text-align: right;\">\n",
       "      <th></th>\n",
       "      <th>features</th>\n",
       "      <th>importance</th>\n",
       "      <th>abs_importance</th>\n",
       "    </tr>\n",
       "  </thead>\n",
       "  <tbody>\n",
       "    <tr>\n",
       "      <th>3</th>\n",
       "      <td>DisbursementGross</td>\n",
       "      <td>0.084055</td>\n",
       "      <td>0.084055</td>\n",
       "    </tr>\n",
       "    <tr>\n",
       "      <th>5</th>\n",
       "      <td>urban_flag</td>\n",
       "      <td>0.046270</td>\n",
       "      <td>0.046270</td>\n",
       "    </tr>\n",
       "    <tr>\n",
       "      <th>1</th>\n",
       "      <td>CreateJob</td>\n",
       "      <td>0.026624</td>\n",
       "      <td>0.026624</td>\n",
       "    </tr>\n",
       "    <tr>\n",
       "      <th>7</th>\n",
       "      <td>NAICS_num</td>\n",
       "      <td>0.025341</td>\n",
       "      <td>0.025341</td>\n",
       "    </tr>\n",
       "    <tr>\n",
       "      <th>2</th>\n",
       "      <td>LowDoc</td>\n",
       "      <td>0.012781</td>\n",
       "      <td>0.012781</td>\n",
       "    </tr>\n",
       "  </tbody>\n",
       "</table>\n",
       "</div>"
      ],
      "text/plain": [
       "            features  importance  abs_importance\n",
       "3  DisbursementGross    0.084055        0.084055\n",
       "5         urban_flag    0.046270        0.046270\n",
       "1          CreateJob    0.026624        0.026624\n",
       "7          NAICS_num    0.025341        0.025341\n",
       "2             LowDoc    0.012781        0.012781"
      ]
     },
     "execution_count": 40,
     "metadata": {},
     "output_type": "execute_result"
    }
   ],
   "source": [
    "perm_importance_df.head(5)"
   ]
  },
  {
   "cell_type": "code",
   "execution_count": 41,
   "id": "38059608-2f72-491f-86b3-0c1418b83531",
   "metadata": {},
   "outputs": [],
   "source": [
    "perm_importance_df \\\n",
    "    .to_csv(Path(setup.temp_path).joinpath('06_DATA_importance_perturb.csv'),\n",
    "            index=False)"
   ]
  },
  {
   "cell_type": "code",
   "execution_count": 42,
   "id": "c27499c8-065b-4143-a7dc-bce301bf3edf",
   "metadata": {},
   "outputs": [
    {
     "data": {
      "image/png": "[encoded data removed]",
      "text/plain": [
       "<Figure size 640x480 with 1 Axes>"
      ]
     },
     "metadata": {},
     "output_type": "display_data"
    }
   ],
   "source": [
    "perm_importance_df.head(10).plot(kind='barh', x='features', y='importance', legend=None)\n",
    "plt.gca().invert_yaxis()\n",
    "plt.xlabel('permutation importance')\n",
    "plt.ylabel(None)\n",
    "plt.gcf().savefig(Path(setup.temp_path).joinpath('06_PLOT_importance_perturb.png'))"
   ]
  },
  {
   "cell_type": "markdown",
   "id": "6fd44a7c-bcf5-4284-8b9f-b575fa523ff3",
   "metadata": {},
   "source": [
    "## PDP Plot - NAICS raw"
   ]
  },
  {
   "cell_type": "code",
   "execution_count": 43,
   "id": "0e9ee010-d1ce-4b1a-86ef-27d691583fc6",
   "metadata": {},
   "outputs": [],
   "source": [
    "results = partial_dependence(xgb_model, train_df[predictor_features], ['NAICS_num'])\n",
    "pdp_df = pd.DataFrame({'grid_values':results[\"grid_values\"][0],\n",
    "                       'pdp':results[\"average\"][0]})"
   ]
  },
  {
   "cell_type": "code",
   "execution_count": 44,
   "id": "730411c5-81d3-4911-ad8f-8743dc1617e4",
   "metadata": {},
   "outputs": [],
   "source": [
    "plt.close()"
   ]
  },
  {
   "cell_type": "code",
   "execution_count": 45,
   "id": "3267866a-3453-443f-9015-5dbcd90e7594",
   "metadata": {},
   "outputs": [
    {
     "data": {
      "image/png": "[encoded data removed]",
      "text/plain": [
       "<Figure size 800x300 with 1 Axes>"
      ]
     },
     "metadata": {},
     "output_type": "display_data"
    }
   ],
   "source": [
    "fig, ax = plt.subplots(figsize = (8, 3))\n",
    "pdp_df.plot(x='grid_values', y='pdp', legend=None, ax=ax)\n",
    "ax.set_ylabel('effect')\n",
    "fig.savefig(Path(setup.temp_path).joinpath('06_PLOT_pdp_naics_meanenc.png'),\n",
    "               bbox_inches='tight')"
   ]
  },
  {
   "cell_type": "code",
   "execution_count": null,
   "id": "5488c384-feb9-45b4-8d95-e2ea4954719b",
   "metadata": {},
   "outputs": [],
   "source": []
  }
 ],
 "metadata": {
  "kernelspec": {
   "display_name": "tf_p39",
   "language": "python",
   "name": "tf_p39"
  },
  "language_info": {
   "codemirror_mode": {
    "name": "ipython",
    "version": 3
   },
   "file_extension": ".py",
   "mimetype": "text/x-python",
   "name": "python",
   "nbconvert_exporter": "python",
   "pygments_lexer": "ipython3",
   "version": "3.8.18"
  }
 },
 "nbformat": 4,
 "nbformat_minor": 5
}
