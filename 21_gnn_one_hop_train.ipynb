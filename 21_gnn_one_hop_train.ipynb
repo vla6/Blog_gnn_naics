{
 "cells": [
  {
   "cell_type": "code",
   "execution_count": 1,
   "id": "75ce15d1-c160-4aaf-a213-049cded049d2",
   "metadata": {},
   "outputs": [],
   "source": [
    "# Modify the file 00_setup.py to define input/output file paths on your system\n",
    "# The information in 00_setup.py will be used across notebooks\n",
    "from importlib.machinery import SourceFileLoader\n",
    "setup = SourceFileLoader(\"setup\", \"./00_setup.py\").load_module()"
   ]
  },
  {
   "cell_type": "markdown",
   "id": "1939f07f-1c94-4f5a-a7f5-7aba02e67b79",
   "metadata": {},
   "source": [
    "# GNN - One Layer Model"
   ]
  },
  {
   "cell_type": "markdown",
   "id": "57116c4a-a8a4-4e6f-ba31-c7176b2ad120",
   "metadata": {},
   "source": [
    "Here, I train a basic GNN with NAICS links, doing a one-hop model. Batching is used for training, and nodes are sampled at each layer. "
   ]
  },
  {
   "cell_type": "markdown",
   "id": "09cb98a9-a1ae-4105-8dc4-94e3b00dbf05",
   "metadata": {},
   "source": [
    "*This script takes about 2 hours on my MacBook Air*"
   ]
  },
  {
   "cell_type": "code",
   "execution_count": 2,
   "id": "bf814d7e-456a-4444-8c8f-7940f3ba1284",
   "metadata": {},
   "outputs": [],
   "source": [
    "import pandas as pd\n",
    "import numpy as np"
   ]
  },
  {
   "cell_type": "code",
   "execution_count": 31,
   "id": "913695e8-d201-4427-a91d-2e24008f192e",
   "metadata": {},
   "outputs": [],
   "source": [
    "from pathlib import Path\n",
    "import importlib\n",
    "import pickle, re"
   ]
  },
  {
   "cell_type": "code",
   "execution_count": 4,
   "id": "578be2b5-430d-4dae-8cdd-16109314f266",
   "metadata": {},
   "outputs": [
    {
     "name": "stderr",
     "output_type": "stream",
     "text": [
      "2024-01-17 21:42:54.660713: I metal_plugin/src/device/metal_device.cc:1154] Metal device set to: Apple M1\n",
      "2024-01-17 21:42:54.660736: I metal_plugin/src/device/metal_device.cc:296] systemMemory: 16.00 GB\n",
      "2024-01-17 21:42:54.660742: I metal_plugin/src/device/metal_device.cc:313] maxCacheSize: 5.33 GB\n",
      "2024-01-17 21:42:54.660776: I tensorflow/core/common_runtime/pluggable_device/pluggable_device_factory.cc:303] Could not identify NUMA node of platform GPU ID 0, defaulting to 0. Your kernel may not have been built with NUMA support.\n",
      "2024-01-17 21:42:54.660792: I tensorflow/core/common_runtime/pluggable_device/pluggable_device_factory.cc:269] Created TensorFlow device (/job:localhost/replica:0/task:0/device:GPU:0 with 0 MB memory) -> physical PluggableDevice (device: 0, name: METAL, pci bus id: <undefined>)\n"
     ]
    }
   ],
   "source": [
    "import stellargraph as sg\n",
    "from stellargraph.layer import HinSAGE\n",
    "from stellargraph.mapper import HinSAGENodeGenerator\n",
    "\n",
    "from tensorflow.keras import layers, optimizers, losses, metrics, Model\n",
    "from sklearn import preprocessing, feature_extraction, model_selection\n",
    "\n",
    "import keras\n",
    "import tensorflow.keras.metrics as km\n",
    "from keras import initializers\n",
    "import tensorflow as tf"
   ]
  },
  {
   "cell_type": "markdown",
   "id": "f16858a2-eaff-4f60-aec4-484801061ebe",
   "metadata": {
    "tags": []
   },
   "source": [
    "## Import Data\n",
    "Import Stellargraph dataset for training"
   ]
  },
  {
   "cell_type": "markdown",
   "id": "bb3f7ebf-0c9e-49d2-bc82-fa363ae1fe04",
   "metadata": {},
   "source": [
    "##### Heterogeneous graph"
   ]
  },
  {
   "cell_type": "code",
   "execution_count": 5,
   "id": "7d2c6c1f-8291-45a0-a682-00c9fd405663",
   "metadata": {},
   "outputs": [],
   "source": [
    "# Training and validation clients - monitor training on val clients\n",
    "with open(Path(setup.temp_path).joinpath('20_DATA_stellargraph_train_val.pkl'), 'rb') as fin:\n",
    "      sba_graph  = pickle.load(fin)"
   ]
  },
  {
   "cell_type": "code",
   "execution_count": 6,
   "id": "fdca6932-ce83-4648-ab9c-ba7a05786e65",
   "metadata": {},
   "outputs": [
    {
     "name": "stdout",
     "output_type": "stream",
     "text": [
      "StellarGraph: Undirected multigraph\n",
      " Nodes: 551635, Edges: 53101575\n",
      "\n",
      " Node types:\n",
      "  LoanNr_ChkDgt: [551635]\n",
      "    Features: float32 vector, length 10\n",
      "    Edge types: LoanNr_ChkDgt-naics->LoanNr_ChkDgt, LoanNr_ChkDgt-sector->LoanNr_ChkDgt\n",
      "\n",
      " Edge types:\n",
      "    LoanNr_ChkDgt-sector->LoanNr_ChkDgt: [27532592]\n",
      "        Weights: all 1 (default)\n",
      "        Features: none\n",
      "    LoanNr_ChkDgt-naics->LoanNr_ChkDgt: [25568983]\n",
      "        Weights: all 1 (default)\n",
      "        Features: none\n"
     ]
    }
   ],
   "source": [
    "print(sba_graph.info())"
   ]
  },
  {
   "cell_type": "markdown",
   "id": "de36f905-78f7-40bd-a433-a71f2d2ac331",
   "metadata": {},
   "source": [
    "##### Labels"
   ]
  },
  {
   "cell_type": "code",
   "execution_count": 7,
   "id": "2efdf248-88f5-44c8-9546-e7cef5c7de24",
   "metadata": {},
   "outputs": [],
   "source": [
    "label_data = pd.read_parquet(Path(setup.temp_path).joinpath('20_DATA_label_info.parquet')).sort_index()"
   ]
  },
  {
   "cell_type": "markdown",
   "id": "025ab7bd-f78b-4c9a-aae9-dc03f2bd241b",
   "metadata": {},
   "source": [
    "## Process labels\n",
    "Get separate train, test label dataframes.  Also get initial target rate (for metric tracking)"
   ]
  },
  {
   "cell_type": "code",
   "execution_count": 8,
   "id": "9ab20015-9e61-4d55-bfdf-53f70f687933",
   "metadata": {},
   "outputs": [
    {
     "name": "stdout",
     "output_type": "stream",
     "text": [
      "this graph labels shape (688081, 3)\n",
      "train labels shape (425594, 2)\n",
      "validation labels shape (126041, 2)\n"
     ]
    }
   ],
   "source": [
    "train_labels = label_data[(label_data['dset'] == 'train')] \\\n",
    "    .drop(columns=['dset'])\n",
    "val_labels = label_data[label_data['dset'] == 'val'].drop(columns=['dset'])\n",
    "print(f'this graph labels shape {label_data.shape}')\n",
    "print(f'train labels shape {train_labels.shape}')\n",
    "print(f'validation labels shape {val_labels.shape}')"
   ]
  },
  {
   "cell_type": "code",
   "execution_count": 9,
   "id": "dae65861-e0f2-47f4-aed9-b362a5a590f4",
   "metadata": {},
   "outputs": [
    {
     "name": "stdout",
     "output_type": "stream",
     "text": [
      "target rate: 0.20307382152943884\n"
     ]
    }
   ],
   "source": [
    "vc = train_labels['target'].value_counts(normalize=True)\n",
    "base_thresh = vc.loc[1]\n",
    "print(f'target rate: {base_thresh}')"
   ]
  },
  {
   "cell_type": "markdown",
   "id": "b8d9d365-e2c7-4c2c-b460-19ea25e6c3b2",
   "metadata": {},
   "source": [
    "## Train"
   ]
  },
  {
   "cell_type": "markdown",
   "id": "fff70936-7fab-492e-90df-ef24c2aee46f",
   "metadata": {},
   "source": [
    "##### Set seeds to setup"
   ]
  },
  {
   "cell_type": "code",
   "execution_count": 10,
   "id": "d32f288f-0439-43ad-8f81-1d171c5160cc",
   "metadata": {},
   "outputs": [],
   "source": [
    "# Set some seeds\n",
    "np.random.seed(16)\n",
    "tf.random.set_seed(16)\n",
    "sg.random.set_seed(4345)"
   ]
  },
  {
   "cell_type": "markdown",
   "id": "3c9a9be2-1411-4176-85b4-cd63919c4bba",
   "metadata": {},
   "source": [
    "##### Node Predictor Generator and \"Flows\"\n",
    "Create objects to train on train cases, monitor on validation cases"
   ]
  },
  {
   "cell_type": "code",
   "execution_count": 11,
   "id": "c25fef14-81b7-4cd1-abd2-c5bd82dc8e99",
   "metadata": {},
   "outputs": [],
   "source": [
    "generator = HinSAGENodeGenerator(sba_graph, batch_size=setup.gnn_batch_size, \n",
    "                                 num_samples=[setup.gnn_num_samples[0]],\n",
    "                                 head_node_type='LoanNr_ChkDgt',\n",
    "                                 seed=2454)"
   ]
  },
  {
   "cell_type": "code",
   "execution_count": 12,
   "id": "80e808d2-4f2b-4fe1-9801-e69bb76848d2",
   "metadata": {},
   "outputs": [],
   "source": [
    "train_gen = generator.flow(train_labels.index, train_labels['target'], shuffle=True)"
   ]
  },
  {
   "cell_type": "code",
   "execution_count": 13,
   "id": "e628d4cc-7da7-4b21-9fdb-eae81fbf5855",
   "metadata": {},
   "outputs": [],
   "source": [
    "val_gen = generator.flow(val_labels.index, val_labels['target'], shuffle=False)"
   ]
  },
  {
   "cell_type": "markdown",
   "id": "c0d45683-a1cd-4493-ae0d-b478b53d1d32",
   "metadata": {},
   "source": [
    "##### Create HinSage model (a Keras model)"
   ]
  },
  {
   "cell_type": "code",
   "execution_count": 14,
   "id": "b96412e8-353a-4ff3-ba1d-24ff3f960d90",
   "metadata": {},
   "outputs": [],
   "source": [
    "graphsage_model = HinSAGE(\n",
    "    layer_sizes=[setup.gnn_layer_sizes[0]], \n",
    "    activations=[setup.gnn_activations[0]],\n",
    "    generator=generator, bias=True, dropout=setup.gnn_dropout\n",
    ")"
   ]
  },
  {
   "cell_type": "code",
   "execution_count": 15,
   "id": "13c049ec-36c5-43a3-a929-8eb7e5807183",
   "metadata": {},
   "outputs": [
    {
     "name": "stderr",
     "output_type": "stream",
     "text": [
      "/Users/valeriecarey/miniconda3/envs/tf_p38/lib/python3.8/site-packages/keras/src/initializers/initializers.py:120: UserWarning: The initializer GlorotUniform is unseeded and being called multiple times, which will return identical values each time (even if the initializer is unseeded). Please update your code to provide a seed to the initializer, or avoid using the same initializer instance more than once.\n",
      "  warnings.warn(\n"
     ]
    }
   ],
   "source": [
    "x_inp, x_out = graphsage_model.in_out_tensors()\n",
    "\n",
    "prediction = layers.Dense(units=1, activation=\"sigmoid\",\n",
    "                         kernel_initializer=initializers.glorot_uniform(seed=2343),\n",
    "                         bias_initializer = initializers.Zeros())(x_out) "
   ]
  },
  {
   "cell_type": "code",
   "execution_count": 16,
   "id": "be141bae-9e7f-44f3-80f5-9089ad11997b",
   "metadata": {},
   "outputs": [],
   "source": [
    "model = Model(inputs=x_inp, outputs=prediction)\n",
    "optimizer = setup.gnn_optimizer(learning_rate=setup.gnn_learning_rate)\n",
    "model.compile(\n",
    "    optimizer=optimizer,\n",
    "    loss = losses.binary_crossentropy,  \n",
    "    metrics=[km.AUC(curve='PR'), km.AUC(curve='ROC')],\n",
    ")"
   ]
  },
  {
   "cell_type": "markdown",
   "id": "a7791609-48c8-4516-84e9-5cbafb0ab752",
   "metadata": {},
   "source": [
    "##### Fit model"
   ]
  },
  {
   "cell_type": "code",
   "execution_count": 17,
   "id": "382cb85c-d48b-4db4-8a29-4f94a06e876a",
   "metadata": {
    "tags": []
   },
   "outputs": [
    {
     "name": "stdout",
     "output_type": "stream",
     "text": [
      "Epoch 1/20\n"
     ]
    },
    {
     "name": "stderr",
     "output_type": "stream",
     "text": [
      "2024-01-17 21:45:26.656496: I tensorflow/core/grappler/optimizers/custom_graph_optimizer_registry.cc:114] Plugin optimizer for device_type GPU is enabled.\n",
      "2024-01-17 21:49:14.477582: I tensorflow/core/grappler/optimizers/custom_graph_optimizer_registry.cc:114] Plugin optimizer for device_type GPU is enabled.\n"
     ]
    },
    {
     "name": "stdout",
     "output_type": "stream",
     "text": [
      "13300/13300 - 276s - loss: 0.4840 - auc: 0.2831 - auc_1: 0.6396 - val_loss: 0.4710 - val_auc: 0.3209 - val_auc_1: 0.6881 - 276s/epoch - 21ms/step\n",
      "Epoch 2/20\n",
      "13300/13300 - 271s - loss: 0.4805 - auc: 0.2908 - auc_1: 0.6490 - val_loss: 0.4699 - val_auc: 0.3238 - val_auc_1: 0.6891 - 271s/epoch - 20ms/step\n",
      "Epoch 3/20\n",
      "13300/13300 - 270s - loss: 0.4798 - auc: 0.2927 - auc_1: 0.6518 - val_loss: 0.4680 - val_auc: 0.3258 - val_auc_1: 0.6919 - 270s/epoch - 20ms/step\n",
      "Epoch 4/20\n",
      "13300/13300 - 268s - loss: 0.4794 - auc: 0.2939 - auc_1: 0.6523 - val_loss: 0.4681 - val_auc: 0.3284 - val_auc_1: 0.6928 - 268s/epoch - 20ms/step\n",
      "Epoch 5/20\n",
      "13300/13300 - 268s - loss: 0.4793 - auc: 0.2938 - auc_1: 0.6527 - val_loss: 0.4684 - val_auc: 0.3284 - val_auc_1: 0.6928 - 268s/epoch - 20ms/step\n",
      "Epoch 6/20\n",
      "13300/13300 - 268s - loss: 0.4788 - auc: 0.2957 - auc_1: 0.6546 - val_loss: 0.4677 - val_auc: 0.3312 - val_auc_1: 0.6949 - 268s/epoch - 20ms/step\n",
      "Epoch 7/20\n",
      "13300/13300 - 198s - loss: 0.4784 - auc: 0.2977 - auc_1: 0.6559 - val_loss: 0.4684 - val_auc: 0.3304 - val_auc_1: 0.6922 - 198s/epoch - 15ms/step\n",
      "Epoch 8/20\n",
      "13300/13300 - 183s - loss: 0.4783 - auc: 0.2972 - auc_1: 0.6559 - val_loss: 0.4670 - val_auc: 0.3328 - val_auc_1: 0.6952 - 183s/epoch - 14ms/step\n",
      "Epoch 9/20\n",
      "13300/13300 - 182s - loss: 0.4780 - auc: 0.2977 - auc_1: 0.6570 - val_loss: 0.4673 - val_auc: 0.3319 - val_auc_1: 0.6939 - 182s/epoch - 14ms/step\n",
      "Epoch 10/20\n",
      "13300/13300 - 1082s - loss: 0.4781 - auc: 0.2978 - auc_1: 0.6565 - val_loss: 0.4675 - val_auc: 0.3316 - val_auc_1: 0.6949 - 1082s/epoch - 81ms/step\n",
      "Epoch 11/20\n",
      "13300/13300 - 1976s - loss: 0.4783 - auc: 0.2966 - auc_1: 0.6561 - val_loss: 0.4683 - val_auc: 0.3307 - val_auc_1: 0.6927 - 1976s/epoch - 149ms/step\n",
      "Epoch 12/20\n",
      "13300/13300 - 2876s - loss: 0.4783 - auc: 0.2987 - auc_1: 0.6563 - val_loss: 0.4682 - val_auc: 0.3326 - val_auc_1: 0.6946 - 2876s/epoch - 216ms/step\n",
      "Epoch 13/20\n",
      "13300/13300 - 1074s - loss: 0.4782 - auc: 0.2987 - auc_1: 0.6566 - val_loss: 0.4681 - val_auc: 0.3325 - val_auc_1: 0.6937 - 1074s/epoch - 81ms/step\n",
      "Epoch 14/20\n",
      "13300/13300 - 175s - loss: 0.4779 - auc: 0.2982 - auc_1: 0.6573 - val_loss: 0.4675 - val_auc: 0.3338 - val_auc_1: 0.6946 - 175s/epoch - 13ms/step\n",
      "Epoch 15/20\n",
      "13300/13300 - 1136s - loss: 0.4779 - auc: 0.2987 - auc_1: 0.6573 - val_loss: 0.4665 - val_auc: 0.3357 - val_auc_1: 0.6971 - 1136s/epoch - 85ms/step\n",
      "Epoch 16/20\n",
      "13300/13300 - 175s - loss: 0.4777 - auc: 0.2996 - auc_1: 0.6581 - val_loss: 0.4669 - val_auc: 0.3336 - val_auc_1: 0.6951 - 175s/epoch - 13ms/step\n",
      "Epoch 17/20\n",
      "13300/13300 - 1202s - loss: 0.4778 - auc: 0.2990 - auc_1: 0.6578 - val_loss: 0.4678 - val_auc: 0.3320 - val_auc_1: 0.6937 - 1202s/epoch - 90ms/step\n",
      "Epoch 18/20\n",
      "13300/13300 - 1075s - loss: 0.4775 - auc: 0.2993 - auc_1: 0.6592 - val_loss: 0.4687 - val_auc: 0.3338 - val_auc_1: 0.6945 - 1075s/epoch - 81ms/step\n",
      "Epoch 19/20\n",
      "13300/13300 - 173s - loss: 0.4778 - auc: 0.2993 - auc_1: 0.6579 - val_loss: 0.4680 - val_auc: 0.3342 - val_auc_1: 0.6961 - 173s/epoch - 13ms/step\n",
      "Epoch 20/20\n",
      "13300/13300 - 2875s - loss: 0.4775 - auc: 0.2996 - auc_1: 0.6587 - val_loss: 0.4683 - val_auc: 0.3344 - val_auc_1: 0.6956 - 2875s/epoch - 216ms/step\n"
     ]
    }
   ],
   "source": [
    "history = model.fit(\n",
    "    train_gen, epochs=setup.gnn_epochs, validation_data=val_gen, verbose=2, shuffle=False\n",
    ")"
   ]
  },
  {
   "cell_type": "code",
   "execution_count": 18,
   "id": "723fe05a-4c1d-4de2-8a5a-876d30011688",
   "metadata": {},
   "outputs": [],
   "source": [
    "# Tensorflow save format to work around issue \n",
    "# https://github.com/tensorflow/tensorflow/issues/46659\n",
    "model.save(Path(setup.temp_path).joinpath('21_DATA_model.keras'), save_format='tf')"
   ]
  },
  {
   "cell_type": "markdown",
   "id": "2e55311c-19ab-4783-834c-5fcfd475f216",
   "metadata": {},
   "source": [
    "## History Plots"
   ]
  },
  {
   "cell_type": "code",
   "execution_count": 19,
   "id": "460c4b43-c673-4ee1-b070-d2d596ac4561",
   "metadata": {},
   "outputs": [],
   "source": [
    "this_history_df = pd.DataFrame(history.history)"
   ]
  },
  {
   "cell_type": "code",
   "execution_count": 32,
   "id": "c85bd09a-2fa9-4255-958b-4d48b17085ff",
   "metadata": {},
   "outputs": [],
   "source": [
    "# Rename columns\n",
    "try:\n",
    "    this_history_df.columns = ['_'.join(c.split('_')[0:-1])  \\\n",
    "                               if re.search(r'_\\d+$', c) else c for c in this_history_df.columns]\n",
    "except:\n",
    "    pass\n",
    "try:\n",
    "    cur_col = list(this_history_df.columns)\n",
    "    this_history_df.columns = [cur_col[0]] + \\\n",
    "        [f'{cur_col[i]}_roc'  if (cur_col[i] == cur_col[i-1]) and 'auc'in cur_col[i] \\\n",
    "         else cur_col[i] for i in range(1, len(cur_col))]\n",
    "except:\n",
    "    pass"
   ]
  },
  {
   "cell_type": "code",
   "execution_count": 21,
   "id": "8ea25384-9fc0-4916-a577-4bd9bc9b203f",
   "metadata": {},
   "outputs": [
    {
     "data": {
      "text/plain": [
       "Index(['loss', 'auc', 'auc_1', 'val_loss', 'val_auc', 'val_auc_1'], dtype='object')"
      ]
     },
     "execution_count": 21,
     "metadata": {},
     "output_type": "execute_result"
    }
   ],
   "source": [
    "this_history_df.columns"
   ]
  },
  {
   "cell_type": "code",
   "execution_count": 34,
   "id": "ad4783f2-8d0b-4850-a45a-3a4be8e63318",
   "metadata": {},
   "outputs": [],
   "source": [
    "this_history_df.to_csv(Path(setup.temp_path).joinpath('21_REPORT_fit_history.csv'))"
   ]
  },
  {
   "cell_type": "code",
   "execution_count": 35,
   "id": "73e89efd-75a9-4b27-81a8-13e12d5482be",
   "metadata": {},
   "outputs": [
    {
     "data": {
      "text/plain": [
       "<Axes: >"
      ]
     },
     "execution_count": 35,
     "metadata": {},
     "output_type": "execute_result"
    },
    {
     "data": {
      "image/png": "[encoded data removed]",
      "text/plain": [
       "<Figure size 640x480 with 1 Axes>"
      ]
     },
     "metadata": {},
     "output_type": "display_data"
    }
   ],
   "source": [
    "this_history_df[['loss', 'val_loss']].plot()"
   ]
  },
  {
   "cell_type": "code",
   "execution_count": 36,
   "id": "a3f839fd-7edb-499d-927e-db2e32b0df71",
   "metadata": {},
   "outputs": [
    {
     "data": {
      "text/plain": [
       "<Axes: >"
      ]
     },
     "execution_count": 36,
     "metadata": {},
     "output_type": "execute_result"
    },
    {
     "data": {
      "image/png": "[encoded data removed]",
      "text/plain": [
       "<Figure size 640x480 with 1 Axes>"
      ]
     },
     "metadata": {},
     "output_type": "display_data"
    }
   ],
   "source": [
    "this_history_df[['auc', 'val_auc']].plot()"
   ]
  },
  {
   "cell_type": "markdown",
   "id": "4c54e80e-4f0b-421f-bec2-dfd294ba5c40",
   "metadata": {},
   "source": [
    "## Metrics\n",
    "Get basic metrics for the fitting graph.  Final metrics will be obtained on a graph containing the test nodes later"
   ]
  },
  {
   "cell_type": "code",
   "execution_count": 38,
   "id": "0b4826e4-fb04-4e93-a551-36973a87f0e5",
   "metadata": {},
   "outputs": [
    {
     "name": "stdout",
     "output_type": "stream",
     "text": [
      "3939/3939 [==============================] - 52s 13ms/step - loss: 0.4684 - auc: 0.3343 - auc_1: 0.6948\n"
     ]
    }
   ],
   "source": [
    "val_metrics = model.evaluate(val_gen)"
   ]
  },
  {
   "cell_type": "code",
   "execution_count": 39,
   "id": "091d1653-2d2b-4c21-8be9-75aec01cd433",
   "metadata": {},
   "outputs": [
    {
     "name": "stdout",
     "output_type": "stream",
     "text": [
      "13300/13300 [==============================] - 173s 13ms/step - loss: 0.4663 - auc: 0.3314 - auc_1: 0.6929\n"
     ]
    }
   ],
   "source": [
    "train_metrics = model.evaluate(train_gen)"
   ]
  },
  {
   "cell_type": "code",
   "execution_count": 40,
   "id": "01ac3d8c-24c9-4b94-a397-0496be66d353",
   "metadata": {},
   "outputs": [
    {
     "data": {
      "text/html": [
       "<div>\n",
       "<style scoped>\n",
       "    .dataframe tbody tr th:only-of-type {\n",
       "        vertical-align: middle;\n",
       "    }\n",
       "\n",
       "    .dataframe tbody tr th {\n",
       "        vertical-align: top;\n",
       "    }\n",
       "\n",
       "    .dataframe thead th {\n",
       "        text-align: right;\n",
       "    }\n",
       "</style>\n",
       "<table border=\"1\" class=\"dataframe\">\n",
       "  <thead>\n",
       "    <tr style=\"text-align: right;\">\n",
       "      <th></th>\n",
       "      <th></th>\n",
       "      <th>loss</th>\n",
       "      <th>auc</th>\n",
       "      <th>auc_1</th>\n",
       "    </tr>\n",
       "  </thead>\n",
       "  <tbody>\n",
       "    <tr>\n",
       "      <th>val</th>\n",
       "      <th>0</th>\n",
       "      <td>0.468446</td>\n",
       "      <td>0.334268</td>\n",
       "      <td>0.694827</td>\n",
       "    </tr>\n",
       "    <tr>\n",
       "      <th>train</th>\n",
       "      <th>0</th>\n",
       "      <td>0.466289</td>\n",
       "      <td>0.331405</td>\n",
       "      <td>0.692876</td>\n",
       "    </tr>\n",
       "  </tbody>\n",
       "</table>\n",
       "</div>"
      ],
      "text/plain": [
       "             loss       auc     auc_1\n",
       "val   0  0.468446  0.334268  0.694827\n",
       "train 0  0.466289  0.331405  0.692876"
      ]
     },
     "execution_count": 40,
     "metadata": {},
     "output_type": "execute_result"
    }
   ],
   "source": [
    "metrics = pd.concat([pd.DataFrame(dict(zip(model.metrics_names, [[t] for t in val_metrics]))),\n",
    "                         pd.DataFrame(dict(zip(model.metrics_names, [[t] for t in train_metrics])))],\n",
    "                        keys=['val', 'train'])\n",
    "metrics.to_csv(Path(setup.temp_path).joinpath('21_REPORT_train_metrics.csv'), index=True)\n",
    "metrics"
   ]
  },
  {
   "cell_type": "code",
   "execution_count": 41,
   "id": "97d8635c-f231-45e1-a041-68132b9c1990",
   "metadata": {},
   "outputs": [
    {
     "ename": "SyntaxError",
     "evalue": "invalid syntax (1224532821.py, line 1)",
     "output_type": "error",
     "traceback": [
      "\u001b[0;36m  Cell \u001b[0;32mIn[41], line 1\u001b[0;36m\u001b[0m\n\u001b[0;31m    TO DO:\u001b[0m\n\u001b[0m       ^\u001b[0m\n\u001b[0;31mSyntaxError\u001b[0m\u001b[0;31m:\u001b[0m invalid syntax\n"
     ]
    }
   ],
   "source": [
    "TO DO:\n",
    "    last prediction layer, Item 15 - change initializers?\n",
    "    note started 9 pm\n",
    "    next perf script\n",
    "    \n",
    "- 2 hop GNN\n",
    "- Investigate isolated NAICS performance in test set, plot NAICS decile count plot"
   ]
  },
  {
   "cell_type": "code",
   "execution_count": null,
   "id": "f56eb279-f67c-425e-b41e-f4b0b8a445d6",
   "metadata": {},
   "outputs": [],
   "source": []
  }
 ],
 "metadata": {
  "kernelspec": {
   "display_name": "tf_p39",
   "language": "python",
   "name": "tf_p39"
  },
  "language_info": {
   "codemirror_mode": {
    "name": "ipython",
    "version": 3
   },
   "file_extension": ".py",
   "mimetype": "text/x-python",
   "name": "python",
   "nbconvert_exporter": "python",
   "pygments_lexer": "ipython3",
   "version": "3.8.18"
  }
 },
 "nbformat": 4,
 "nbformat_minor": 5
}
