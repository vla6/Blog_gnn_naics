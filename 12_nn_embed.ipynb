{
 "cells": [
  {
   "cell_type": "code",
   "execution_count": 1,
   "id": "8816b366-5be4-4748-b769-4dc6f7d1735f",
   "metadata": {},
   "outputs": [],
   "source": [
    "# Modify the file 00_setup.py to define input/output file paths on your system\n",
    "# The information in 00_setup.py will be used across notebooks\n",
    "from importlib.machinery import SourceFileLoader\n",
    "setup = SourceFileLoader(\"setup\", \"./00_setup.py\").load_module()"
   ]
  },
  {
   "cell_type": "markdown",
   "id": "a945de0c-f042-46b2-9d06-ab064af6c05b",
   "metadata": {},
   "source": [
    "## Neural Network With NAICS Embedding Layer\n",
    "Add NAICS embedding to model"
   ]
  },
  {
   "cell_type": "markdown",
   "id": "d47a7ec9-7d7b-47df-a902-b2f1e54f1135",
   "metadata": {},
   "source": [
    "*This script takes about 2 hours on my MacBook Air*"
   ]
  },
  {
   "cell_type": "code",
   "execution_count": 2,
   "id": "fb42f9b4-99a8-4753-aacf-8722469be4c8",
   "metadata": {},
   "outputs": [],
   "source": [
    "import numpy as np\n",
    "import pandas as pd\n",
    "import tensorflow as tf"
   ]
  },
  {
   "cell_type": "code",
   "execution_count": 3,
   "id": "bf51170a-4487-4d10-b63d-c88f41b529f9",
   "metadata": {},
   "outputs": [],
   "source": [
    "from pathlib import Path\n",
    "import importlib, pickle\n",
    "from sklearn import model_selection"
   ]
  },
  {
   "cell_type": "code",
   "execution_count": 4,
   "id": "09dd973b-60a0-434b-9193-8c5fcec27dd5",
   "metadata": {},
   "outputs": [],
   "source": [
    "import pandas as pd\n",
    "import os\n",
    "import re\n",
    "\n",
    "import keras\n",
    "from tensorflow.keras import layers, optimizers, losses, metrics, Model\n",
    "from sklearn import preprocessing, feature_extraction, model_selection\n",
    "from IPython.display import display, HTML\n",
    "import matplotlib.pyplot as plt\n",
    "%matplotlib inline"
   ]
  },
  {
   "cell_type": "code",
   "execution_count": 5,
   "id": "22b466e7-a419-45aa-83f7-5dafc7a3998b",
   "metadata": {},
   "outputs": [],
   "source": [
    "from tensorflow.keras.layers import Dense, Dropout, Input, Embedding, Concatenate, Reshape\n",
    "import tensorflow.keras.metrics as km"
   ]
  },
  {
   "cell_type": "code",
   "execution_count": 6,
   "id": "9f1e4f2e-0e45-4e28-8e9c-212e0bb51199",
   "metadata": {},
   "outputs": [],
   "source": [
    "from sba_gnn.sba_gnn import sg_plot "
   ]
  },
  {
   "cell_type": "markdown",
   "id": "3cbc00d2-bc83-42d9-83eb-65fcf306dccd",
   "metadata": {},
   "source": [
    "## Input Data"
   ]
  },
  {
   "cell_type": "code",
   "execution_count": 7,
   "id": "5f0183dc-7ee1-49eb-8723-a9f4cea14b88",
   "metadata": {},
   "outputs": [],
   "source": [
    "business_data = pd.read_parquet(Path(setup.temp_path).joinpath('10_DATA_combined_scaled_all.parquet'))"
   ]
  },
  {
   "cell_type": "code",
   "execution_count": 8,
   "id": "feaedcfe-7722-41c1-be4c-4921f0d11db9",
   "metadata": {},
   "outputs": [
    {
     "data": {
      "text/html": [
       "<div>\n",
       "<style scoped>\n",
       "    .dataframe tbody tr th:only-of-type {\n",
       "        vertical-align: middle;\n",
       "    }\n",
       "\n",
       "    .dataframe tbody tr th {\n",
       "        vertical-align: top;\n",
       "    }\n",
       "\n",
       "    .dataframe thead th {\n",
       "        text-align: right;\n",
       "    }\n",
       "</style>\n",
       "<table border=\"1\" class=\"dataframe\">\n",
       "  <thead>\n",
       "    <tr style=\"text-align: right;\">\n",
       "      <th></th>\n",
       "      <th>target</th>\n",
       "      <th>dset_naics_holdout</th>\n",
       "      <th>menc_NAICS</th>\n",
       "      <th>cenc_NAICS</th>\n",
       "      <th>menc_grp_NAICS</th>\n",
       "      <th>NS___Accommodation and Food Services</th>\n",
       "      <th>NS___Construction</th>\n",
       "      <th>NS___Health Care and Social Assistance</th>\n",
       "      <th>NS___Manufacturing</th>\n",
       "      <th>NS___Other Services (except Public Administration)</th>\n",
       "      <th>...</th>\n",
       "      <th>LowDoc</th>\n",
       "      <th>DisbursementGross</th>\n",
       "      <th>new_business</th>\n",
       "      <th>urban_flag</th>\n",
       "      <th>franchise_flag</th>\n",
       "      <th>missingindicator_LowDoc</th>\n",
       "      <th>missingindicator_new_business</th>\n",
       "      <th>missingindicator_urban_flag</th>\n",
       "      <th>NAICS</th>\n",
       "      <th>NAICS_alt</th>\n",
       "    </tr>\n",
       "  </thead>\n",
       "  <tbody>\n",
       "    <tr>\n",
       "      <th>count</th>\n",
       "      <td>688081.000000</td>\n",
       "      <td>688081.000000</td>\n",
       "      <td>688081.000000</td>\n",
       "      <td>688081.000000</td>\n",
       "      <td>688081.000000</td>\n",
       "      <td>688081.000000</td>\n",
       "      <td>688081.000000</td>\n",
       "      <td>688081.000000</td>\n",
       "      <td>688081.000000</td>\n",
       "      <td>688081.000000</td>\n",
       "      <td>...</td>\n",
       "      <td>688081.000000</td>\n",
       "      <td>688081.000000</td>\n",
       "      <td>688081.000000</td>\n",
       "      <td>688081.000000</td>\n",
       "      <td>688081.000000</td>\n",
       "      <td>688081.000000</td>\n",
       "      <td>688081.000000</td>\n",
       "      <td>688081.000000</td>\n",
       "      <td>688081.000000</td>\n",
       "      <td>688081.000000</td>\n",
       "    </tr>\n",
       "    <tr>\n",
       "      <th>mean</th>\n",
       "      <td>0.203011</td>\n",
       "      <td>0.048426</td>\n",
       "      <td>0.202996</td>\n",
       "      <td>0.007089</td>\n",
       "      <td>0.203309</td>\n",
       "      <td>0.097958</td>\n",
       "      <td>0.095606</td>\n",
       "      <td>0.079398</td>\n",
       "      <td>0.096843</td>\n",
       "      <td>0.103658</td>\n",
       "      <td>...</td>\n",
       "      <td>-0.804555</td>\n",
       "      <td>0.009595</td>\n",
       "      <td>-0.444129</td>\n",
       "      <td>0.705279</td>\n",
       "      <td>-0.899352</td>\n",
       "      <td>-0.985316</td>\n",
       "      <td>-0.997529</td>\n",
       "      <td>-0.602849</td>\n",
       "      <td>776.722582</td>\n",
       "      <td>813.454941</td>\n",
       "    </tr>\n",
       "    <tr>\n",
       "      <th>std</th>\n",
       "      <td>0.402241</td>\n",
       "      <td>0.214665</td>\n",
       "      <td>0.095164</td>\n",
       "      <td>0.009881</td>\n",
       "      <td>0.095578</td>\n",
       "      <td>0.297258</td>\n",
       "      <td>0.294051</td>\n",
       "      <td>0.270359</td>\n",
       "      <td>0.295744</td>\n",
       "      <td>0.304816</td>\n",
       "      <td>...</td>\n",
       "      <td>0.593879</td>\n",
       "      <td>0.577435</td>\n",
       "      <td>0.895963</td>\n",
       "      <td>0.708930</td>\n",
       "      <td>0.437226</td>\n",
       "      <td>0.170743</td>\n",
       "      <td>0.070251</td>\n",
       "      <td>0.797856</td>\n",
       "      <td>377.413475</td>\n",
       "      <td>343.767570</td>\n",
       "    </tr>\n",
       "    <tr>\n",
       "      <th>min</th>\n",
       "      <td>0.000000</td>\n",
       "      <td>0.000000</td>\n",
       "      <td>0.000000</td>\n",
       "      <td>0.000000</td>\n",
       "      <td>0.000000</td>\n",
       "      <td>0.000000</td>\n",
       "      <td>0.000000</td>\n",
       "      <td>0.000000</td>\n",
       "      <td>0.000000</td>\n",
       "      <td>0.000000</td>\n",
       "      <td>...</td>\n",
       "      <td>-1.000000</td>\n",
       "      <td>-1.000000</td>\n",
       "      <td>-1.000000</td>\n",
       "      <td>-1.000000</td>\n",
       "      <td>-1.000000</td>\n",
       "      <td>-1.000000</td>\n",
       "      <td>-1.000000</td>\n",
       "      <td>-1.000000</td>\n",
       "      <td>0.000000</td>\n",
       "      <td>1.000000</td>\n",
       "    </tr>\n",
       "    <tr>\n",
       "      <th>25%</th>\n",
       "      <td>0.000000</td>\n",
       "      <td>0.000000</td>\n",
       "      <td>0.131198</td>\n",
       "      <td>0.000902</td>\n",
       "      <td>0.128356</td>\n",
       "      <td>0.000000</td>\n",
       "      <td>0.000000</td>\n",
       "      <td>0.000000</td>\n",
       "      <td>0.000000</td>\n",
       "      <td>0.000000</td>\n",
       "      <td>...</td>\n",
       "      <td>-1.000000</td>\n",
       "      <td>-0.490729</td>\n",
       "      <td>-1.000000</td>\n",
       "      <td>1.000000</td>\n",
       "      <td>-1.000000</td>\n",
       "      <td>-1.000000</td>\n",
       "      <td>-1.000000</td>\n",
       "      <td>-1.000000</td>\n",
       "      <td>610.000000</td>\n",
       "      <td>670.000000</td>\n",
       "    </tr>\n",
       "    <tr>\n",
       "      <th>50%</th>\n",
       "      <td>0.000000</td>\n",
       "      <td>0.000000</td>\n",
       "      <td>0.203074</td>\n",
       "      <td>0.003210</td>\n",
       "      <td>0.202440</td>\n",
       "      <td>0.000000</td>\n",
       "      <td>0.000000</td>\n",
       "      <td>0.000000</td>\n",
       "      <td>0.000000</td>\n",
       "      <td>0.000000</td>\n",
       "      <td>...</td>\n",
       "      <td>-1.000000</td>\n",
       "      <td>0.019019</td>\n",
       "      <td>-1.000000</td>\n",
       "      <td>1.000000</td>\n",
       "      <td>-1.000000</td>\n",
       "      <td>-1.000000</td>\n",
       "      <td>-1.000000</td>\n",
       "      <td>-1.000000</td>\n",
       "      <td>822.000000</td>\n",
       "      <td>890.000000</td>\n",
       "    </tr>\n",
       "    <tr>\n",
       "      <th>75%</th>\n",
       "      <td>0.000000</td>\n",
       "      <td>0.000000</td>\n",
       "      <td>0.261907</td>\n",
       "      <td>0.008929</td>\n",
       "      <td>0.262367</td>\n",
       "      <td>0.000000</td>\n",
       "      <td>0.000000</td>\n",
       "      <td>0.000000</td>\n",
       "      <td>0.000000</td>\n",
       "      <td>0.000000</td>\n",
       "      <td>...</td>\n",
       "      <td>-1.000000</td>\n",
       "      <td>0.513514</td>\n",
       "      <td>1.000000</td>\n",
       "      <td>1.000000</td>\n",
       "      <td>-1.000000</td>\n",
       "      <td>-1.000000</td>\n",
       "      <td>-1.000000</td>\n",
       "      <td>-1.000000</td>\n",
       "      <td>1090.000000</td>\n",
       "      <td>1093.000000</td>\n",
       "    </tr>\n",
       "    <tr>\n",
       "      <th>max</th>\n",
       "      <td>1.000000</td>\n",
       "      <td>1.000000</td>\n",
       "      <td>1.000000</td>\n",
       "      <td>0.042806</td>\n",
       "      <td>1.000000</td>\n",
       "      <td>1.000000</td>\n",
       "      <td>1.000000</td>\n",
       "      <td>1.000000</td>\n",
       "      <td>1.000000</td>\n",
       "      <td>1.000000</td>\n",
       "      <td>...</td>\n",
       "      <td>1.000000</td>\n",
       "      <td>1.000000</td>\n",
       "      <td>1.000000</td>\n",
       "      <td>1.000000</td>\n",
       "      <td>1.000000</td>\n",
       "      <td>1.000000</td>\n",
       "      <td>1.000000</td>\n",
       "      <td>1.000000</td>\n",
       "      <td>1232.000000</td>\n",
       "      <td>1232.000000</td>\n",
       "    </tr>\n",
       "  </tbody>\n",
       "</table>\n",
       "<p>8 rows × 26 columns</p>\n",
       "</div>"
      ],
      "text/plain": [
       "              target  dset_naics_holdout     menc_NAICS     cenc_NAICS  \\\n",
       "count  688081.000000       688081.000000  688081.000000  688081.000000   \n",
       "mean        0.203011            0.048426       0.202996       0.007089   \n",
       "std         0.402241            0.214665       0.095164       0.009881   \n",
       "min         0.000000            0.000000       0.000000       0.000000   \n",
       "25%         0.000000            0.000000       0.131198       0.000902   \n",
       "50%         0.000000            0.000000       0.203074       0.003210   \n",
       "75%         0.000000            0.000000       0.261907       0.008929   \n",
       "max         1.000000            1.000000       1.000000       0.042806   \n",
       "\n",
       "       menc_grp_NAICS  NS___Accommodation and Food Services  \\\n",
       "count   688081.000000                         688081.000000   \n",
       "mean         0.203309                              0.097958   \n",
       "std          0.095578                              0.297258   \n",
       "min          0.000000                              0.000000   \n",
       "25%          0.128356                              0.000000   \n",
       "50%          0.202440                              0.000000   \n",
       "75%          0.262367                              0.000000   \n",
       "max          1.000000                              1.000000   \n",
       "\n",
       "       NS___Construction  NS___Health Care and Social Assistance  \\\n",
       "count      688081.000000                           688081.000000   \n",
       "mean            0.095606                                0.079398   \n",
       "std             0.294051                                0.270359   \n",
       "min             0.000000                                0.000000   \n",
       "25%             0.000000                                0.000000   \n",
       "50%             0.000000                                0.000000   \n",
       "75%             0.000000                                0.000000   \n",
       "max             1.000000                                1.000000   \n",
       "\n",
       "       NS___Manufacturing  NS___Other Services (except Public Administration)  \\\n",
       "count       688081.000000                                      688081.000000    \n",
       "mean             0.096843                                           0.103658    \n",
       "std              0.295744                                           0.304816    \n",
       "min              0.000000                                           0.000000    \n",
       "25%              0.000000                                           0.000000    \n",
       "50%              0.000000                                           0.000000    \n",
       "75%              0.000000                                           0.000000    \n",
       "max              1.000000                                           1.000000    \n",
       "\n",
       "       ...         LowDoc  DisbursementGross   new_business     urban_flag  \\\n",
       "count  ...  688081.000000      688081.000000  688081.000000  688081.000000   \n",
       "mean   ...      -0.804555           0.009595      -0.444129       0.705279   \n",
       "std    ...       0.593879           0.577435       0.895963       0.708930   \n",
       "min    ...      -1.000000          -1.000000      -1.000000      -1.000000   \n",
       "25%    ...      -1.000000          -0.490729      -1.000000       1.000000   \n",
       "50%    ...      -1.000000           0.019019      -1.000000       1.000000   \n",
       "75%    ...      -1.000000           0.513514       1.000000       1.000000   \n",
       "max    ...       1.000000           1.000000       1.000000       1.000000   \n",
       "\n",
       "       franchise_flag  missingindicator_LowDoc  missingindicator_new_business  \\\n",
       "count   688081.000000            688081.000000                  688081.000000   \n",
       "mean        -0.899352                -0.985316                      -0.997529   \n",
       "std          0.437226                 0.170743                       0.070251   \n",
       "min         -1.000000                -1.000000                      -1.000000   \n",
       "25%         -1.000000                -1.000000                      -1.000000   \n",
       "50%         -1.000000                -1.000000                      -1.000000   \n",
       "75%         -1.000000                -1.000000                      -1.000000   \n",
       "max          1.000000                 1.000000                       1.000000   \n",
       "\n",
       "       missingindicator_urban_flag          NAICS      NAICS_alt  \n",
       "count                688081.000000  688081.000000  688081.000000  \n",
       "mean                     -0.602849     776.722582     813.454941  \n",
       "std                       0.797856     377.413475     343.767570  \n",
       "min                      -1.000000       0.000000       1.000000  \n",
       "25%                      -1.000000     610.000000     670.000000  \n",
       "50%                      -1.000000     822.000000     890.000000  \n",
       "75%                      -1.000000    1090.000000    1093.000000  \n",
       "max                       1.000000    1232.000000    1232.000000  \n",
       "\n",
       "[8 rows x 26 columns]"
      ]
     },
     "execution_count": 8,
     "metadata": {},
     "output_type": "execute_result"
    }
   ],
   "source": [
    "business_data.describe()"
   ]
  },
  {
   "cell_type": "code",
   "execution_count": 9,
   "id": "6f0ce28e-a80c-415b-b068-5c4d49370da8",
   "metadata": {},
   "outputs": [
    {
     "data": {
      "text/plain": [
       "1232"
      ]
     },
     "execution_count": 9,
     "metadata": {},
     "output_type": "execute_result"
    }
   ],
   "source": [
    "with open(Path(setup.temp_path).joinpath('10_DATA_naics_max_levels.pkl'), 'rb') as fin:\n",
    "    naics_max_levels= pickle.load(fin)\n",
    "naics_max_levels"
   ]
  },
  {
   "cell_type": "code",
   "execution_count": 10,
   "id": "555f4031-e66d-4476-a37e-50e2d382ecf4",
   "metadata": {},
   "outputs": [],
   "source": [
    "with open(Path(setup.temp_path).joinpath('10_DATA_features.pkl'), 'rb') as fin:\n",
    "    imputer_features = pickle.load(fin)"
   ]
  },
  {
   "cell_type": "code",
   "execution_count": 11,
   "id": "3a916e26-2419-4bd0-8fd4-58a959dc4bac",
   "metadata": {},
   "outputs": [
    {
     "name": "stdout",
     "output_type": "stream",
     "text": [
      "['NoEmp', 'CreateJob', 'LowDoc', 'DisbursementGross', 'new_business', 'urban_flag', 'franchise_flag', 'missingindicator_LowDoc', 'missingindicator_new_business', 'missingindicator_urban_flag']\n"
     ]
    }
   ],
   "source": [
    "numeric_features = [f for f in imputer_features if 'NAICS' not in f]\n",
    "print(numeric_features)"
   ]
  },
  {
   "cell_type": "markdown",
   "id": "d94006a0-f010-4874-a7f1-0fd80c1e9a35",
   "metadata": {},
   "source": [
    "##### Datasets for train, validation"
   ]
  },
  {
   "cell_type": "code",
   "execution_count": 12,
   "id": "a02a909d-834a-46a8-9cdd-ccfa36b07d69",
   "metadata": {},
   "outputs": [],
   "source": [
    "X = business_data[['dset', 'LoanNr_ChkDgt'] + numeric_features].set_index('LoanNr_ChkDgt').sort_index()"
   ]
  },
  {
   "cell_type": "code",
   "execution_count": 13,
   "id": "42dc5c92-f5a2-457c-be3a-60cb0f6c2ef8",
   "metadata": {},
   "outputs": [
    {
     "name": "stdout",
     "output_type": "stream",
     "text": [
      "training X: (425594, 10), y:(425594,)\n"
     ]
    }
   ],
   "source": [
    "X_train = X[X['dset'] == 'train'].drop(columns='dset')\n",
    "y_train = business_data[business_data['dset'] == 'train'].set_index('LoanNr_ChkDgt').sort_index()['target']\n",
    "print(f'training X: {X_train.shape}, y:{y_train.shape}')"
   ]
  },
  {
   "cell_type": "code",
   "execution_count": 14,
   "id": "038b0e4f-a84a-4c8b-863e-4c594c1c9f32",
   "metadata": {},
   "outputs": [
    {
     "name": "stdout",
     "output_type": "stream",
     "text": [
      "val X: (126041, 10), y:(126041,)\n"
     ]
    }
   ],
   "source": [
    "X_val = X[X['dset'] == 'val'].drop(columns='dset')\n",
    "y_val = business_data[business_data['dset'] == 'val'].set_index('LoanNr_ChkDgt').sort_index()['target']\n",
    "print(f'val X: {X_val.shape}, y:{y_val.shape}')"
   ]
  },
  {
   "cell_type": "code",
   "execution_count": 15,
   "id": "bcb86909-e8a7-4f22-b089-6ca61dd86c73",
   "metadata": {},
   "outputs": [
    {
     "name": "stdout",
     "output_type": "stream",
     "text": [
      "0.20307382152943884\n"
     ]
    }
   ],
   "source": [
    "base_thresh = y_train.mean()\n",
    "print(base_thresh)"
   ]
  },
  {
   "cell_type": "code",
   "execution_count": 16,
   "id": "1b8ce4c9-6907-4b70-982a-b92a52b3159d",
   "metadata": {},
   "outputs": [],
   "source": [
    "X_naics = business_data[['dset', 'LoanNr_ChkDgt', 'NAICS']].set_index('LoanNr_ChkDgt').sort_index()"
   ]
  },
  {
   "cell_type": "code",
   "execution_count": 17,
   "id": "a6f129e0-a4d0-4d93-9886-153c9803d403",
   "metadata": {},
   "outputs": [],
   "source": [
    "X_naics_train = X_naics[X_naics['dset'] == 'train'].drop(columns='dset')\n",
    "X_naics_val = X_naics[X_naics['dset'] == 'val'].drop(columns='dset')"
   ]
  },
  {
   "cell_type": "markdown",
   "id": "a5c68623-4599-4472-a13a-9400d101633e",
   "metadata": {},
   "source": [
    "## Function to create model"
   ]
  },
  {
   "cell_type": "code",
   "execution_count": 18,
   "id": "9f4deffd-2b85-43d0-9cd1-1d9cf707b9e7",
   "metadata": {},
   "outputs": [],
   "source": [
    "def create_model(n_feat = len(numeric_features), naics_max_levels = naics_max_levels,\n",
    "                 naics_emd_dim = setup.nn_naics_embed_size,\n",
    "                 hidden_size = setup.nn_layer_sizes,\n",
    "                 activation='tanh', lr=setup.nn_learning_rate,\n",
    "                 opt_func = setup.nn_optimizer, dropout = setup.nn_dropout,\n",
    "                embed_layer_name = 'naics_reshape'):\n",
    "    \n",
    "    n_layers = len(hidden_size)\n",
    "    \n",
    "    features_in = Input(shape=(n_feat,))\n",
    "    naics_in = Input(shape=(1,))\n",
    "    embed_layer = Embedding(naics_max_levels, output_dim=naics_emd_dim, input_length=1)(naics_in)\n",
    "    embed_layer = Reshape(target_shape=(naics_emd_dim,), name=embed_layer_name)(embed_layer)\n",
    "    x = Concatenate(axis=-1)([features_in, embed_layer])\n",
    "    \n",
    "    for i in range(n_layers):\n",
    "        x = Dense(hidden_size[i],activation=activation,\n",
    "                  name=f'layer_{i:02d}')(x)\n",
    "        x = Dropout(dropout, name=f'dropout_{i:02d}')(x)\n",
    "    output = Dense(1, activation='sigmoid')(x)\n",
    "    \n",
    "    model = Model(inputs=[features_in, naics_in], outputs=output)\n",
    "    \n",
    "    # Compile model\n",
    "    optimizer = opt_func(learning_rate=lr)\n",
    "    model.compile(loss='binary_crossentropy', optimizer=optimizer, \n",
    "                  metrics=[km.AUC(curve='PR'), km.AUC(curve='ROC')])\n",
    "    return model"
   ]
  },
  {
   "cell_type": "markdown",
   "id": "3db4ea1c-77b2-4721-b106-1e66fc502139",
   "metadata": {},
   "source": [
    "## Create, fit model"
   ]
  },
  {
   "cell_type": "code",
   "execution_count": 19,
   "id": "4d48ddfa-580c-4321-9917-0bd176b67d87",
   "metadata": {},
   "outputs": [
    {
     "name": "stderr",
     "output_type": "stream",
     "text": [
      "2024-02-26 13:01:26.589807: I metal_plugin/src/device/metal_device.cc:1154] Metal device set to: Apple M1\n",
      "2024-02-26 13:01:26.589836: I metal_plugin/src/device/metal_device.cc:296] systemMemory: 16.00 GB\n",
      "2024-02-26 13:01:26.589843: I metal_plugin/src/device/metal_device.cc:313] maxCacheSize: 5.33 GB\n",
      "2024-02-26 13:01:26.589916: I tensorflow/core/common_runtime/pluggable_device/pluggable_device_factory.cc:303] Could not identify NUMA node of platform GPU ID 0, defaulting to 0. Your kernel may not have been built with NUMA support.\n",
      "2024-02-26 13:01:26.590107: I tensorflow/core/common_runtime/pluggable_device/pluggable_device_factory.cc:269] Created TensorFlow device (/job:localhost/replica:0/task:0/device:GPU:0 with 0 MB memory) -> physical PluggableDevice (device: 0, name: METAL, pci bus id: <undefined>)\n"
     ]
    }
   ],
   "source": [
    "this_model = create_model()"
   ]
  },
  {
   "cell_type": "code",
   "execution_count": 20,
   "id": "47036621-ef13-4957-997b-f8ef86016f7f",
   "metadata": {},
   "outputs": [
    {
     "name": "stdout",
     "output_type": "stream",
     "text": [
      "Model: \"model\"\n",
      "__________________________________________________________________________________________________\n",
      " Layer (type)                Output Shape                 Param #   Connected to                  \n",
      "==================================================================================================\n",
      " input_2 (InputLayer)        [(None, 1)]                  0         []                            \n",
      "                                                                                                  \n",
      " embedding (Embedding)       (None, 1, 8)                 9856      ['input_2[0][0]']             \n",
      "                                                                                                  \n",
      " input_1 (InputLayer)        [(None, 10)]                 0         []                            \n",
      "                                                                                                  \n",
      " naics_reshape (Reshape)     (None, 8)                    0         ['embedding[0][0]']           \n",
      "                                                                                                  \n",
      " concatenate (Concatenate)   (None, 18)                   0         ['input_1[0][0]',             \n",
      "                                                                     'naics_reshape[0][0]']       \n",
      "                                                                                                  \n",
      " layer_00 (Dense)            (None, 128)                  2432      ['concatenate[0][0]']         \n",
      "                                                                                                  \n",
      " dropout_00 (Dropout)        (None, 128)                  0         ['layer_00[0][0]']            \n",
      "                                                                                                  \n",
      " layer_01 (Dense)            (None, 64)                   8256      ['dropout_00[0][0]']          \n",
      "                                                                                                  \n",
      " dropout_01 (Dropout)        (None, 64)                   0         ['layer_01[0][0]']            \n",
      "                                                                                                  \n",
      " dense (Dense)               (None, 1)                    65        ['dropout_01[0][0]']          \n",
      "                                                                                                  \n",
      "==================================================================================================\n",
      "Total params: 20609 (80.50 KB)\n",
      "Trainable params: 20609 (80.50 KB)\n",
      "Non-trainable params: 0 (0.00 Byte)\n",
      "__________________________________________________________________________________________________\n"
     ]
    }
   ],
   "source": [
    "this_model.summary()"
   ]
  },
  {
   "cell_type": "code",
   "execution_count": 21,
   "id": "31772016-3643-468b-8d65-c456168cad6e",
   "metadata": {},
   "outputs": [
    {
     "name": "stdout",
     "output_type": "stream",
     "text": [
      "Epoch 1/20\n"
     ]
    },
    {
     "name": "stderr",
     "output_type": "stream",
     "text": [
      "2024-02-26 13:01:27.219806: I tensorflow/core/grappler/optimizers/custom_graph_optimizer_registry.cc:114] Plugin optimizer for device_type GPU is enabled.\n"
     ]
    },
    {
     "name": "stdout",
     "output_type": "stream",
     "text": [
      "13300/13300 [==============================] - ETA: 0s - loss: 0.4631 - auc: 0.3359 - auc_1: 0.7000"
     ]
    },
    {
     "name": "stderr",
     "output_type": "stream",
     "text": [
      "2024-02-26 13:04:16.151285: I tensorflow/core/grappler/optimizers/custom_graph_optimizer_registry.cc:114] Plugin optimizer for device_type GPU is enabled.\n"
     ]
    },
    {
     "name": "stdout",
     "output_type": "stream",
     "text": [
      "13300/13300 [==============================] - 197s 15ms/step - loss: 0.4631 - auc: 0.3359 - auc_1: 0.7000 - val_loss: 0.4564 - val_auc: 0.3688 - val_auc_1: 0.7227\n",
      "Epoch 2/20\n",
      "13300/13300 [==============================] - 197s 15ms/step - loss: 0.4544 - auc: 0.3607 - auc_1: 0.7184 - val_loss: 0.4539 - val_auc: 0.3766 - val_auc_1: 0.7273\n",
      "Epoch 3/20\n",
      "13300/13300 [==============================] - 196s 15ms/step - loss: 0.4521 - auc: 0.3679 - auc_1: 0.7232 - val_loss: 0.4534 - val_auc: 0.3800 - val_auc_1: 0.7291\n",
      "Epoch 4/20\n",
      "13300/13300 [==============================] - 195s 15ms/step - loss: 0.4510 - auc: 0.3719 - auc_1: 0.7255 - val_loss: 0.4524 - val_auc: 0.3804 - val_auc_1: 0.7301\n",
      "Epoch 5/20\n",
      "13300/13300 [==============================] - 238s 18ms/step - loss: 0.4499 - auc: 0.3756 - auc_1: 0.7274 - val_loss: 0.4519 - val_auc: 0.3800 - val_auc_1: 0.7301\n",
      "Epoch 6/20\n",
      "13300/13300 [==============================] - 1372s 103ms/step - loss: 0.4491 - auc: 0.3782 - auc_1: 0.7288 - val_loss: 0.4522 - val_auc: 0.3815 - val_auc_1: 0.7311\n",
      "Epoch 7/20\n",
      "13300/13300 [==============================] - 208s 16ms/step - loss: 0.4485 - auc: 0.3804 - auc_1: 0.7301 - val_loss: 0.4511 - val_auc: 0.3825 - val_auc_1: 0.7318\n",
      "Epoch 8/20\n",
      "13300/13300 [==============================] - 491s 37ms/step - loss: 0.4481 - auc: 0.3810 - auc_1: 0.7309 - val_loss: 0.4533 - val_auc: 0.3794 - val_auc_1: 0.7300\n",
      "Epoch 9/20\n",
      "13300/13300 [==============================] - 1087s 82ms/step - loss: 0.4476 - auc: 0.3826 - auc_1: 0.7318 - val_loss: 0.4522 - val_auc: 0.3821 - val_auc_1: 0.7323\n",
      "Epoch 10/20\n",
      "13300/13300 [==============================] - 1087s 82ms/step - loss: 0.4474 - auc: 0.3829 - auc_1: 0.7321 - val_loss: 0.4522 - val_auc: 0.3825 - val_auc_1: 0.7321\n",
      "Epoch 11/20\n",
      "13300/13300 [==============================] - 187s 14ms/step - loss: 0.4470 - auc: 0.3846 - auc_1: 0.7330 - val_loss: 0.4532 - val_auc: 0.3822 - val_auc_1: 0.7322\n",
      "Epoch 12/20\n",
      "13300/13300 [==============================] - 1087s 82ms/step - loss: 0.4468 - auc: 0.3853 - auc_1: 0.7334 - val_loss: 0.4509 - val_auc: 0.3818 - val_auc_1: 0.7315\n",
      "Epoch 13/20\n",
      "13300/13300 [==============================] - 1087s 82ms/step - loss: 0.4466 - auc: 0.3872 - auc_1: 0.7337 - val_loss: 0.4508 - val_auc: 0.3820 - val_auc_1: 0.7319\n",
      "Epoch 14/20\n",
      "13300/13300 [==============================] - 1257s 95ms/step - loss: 0.4462 - auc: 0.3872 - auc_1: 0.7345 - val_loss: 0.4526 - val_auc: 0.3826 - val_auc_1: 0.7319\n",
      "Epoch 15/20\n",
      "13300/13300 [==============================] - 247s 19ms/step - loss: 0.4460 - auc: 0.3885 - auc_1: 0.7349 - val_loss: 0.4514 - val_auc: 0.3831 - val_auc_1: 0.7319\n",
      "Epoch 16/20\n",
      "13300/13300 [==============================] - 994s 75ms/step - loss: 0.4457 - auc: 0.3888 - auc_1: 0.7353 - val_loss: 0.4524 - val_auc: 0.3817 - val_auc_1: 0.7318\n",
      "Epoch 17/20\n",
      "13300/13300 [==============================] - 199s 15ms/step - loss: 0.4453 - auc: 0.3891 - auc_1: 0.7361 - val_loss: 0.4531 - val_auc: 0.3829 - val_auc_1: 0.7321\n",
      "Epoch 18/20\n",
      "13300/13300 [==============================] - 197s 15ms/step - loss: 0.4452 - auc: 0.3904 - auc_1: 0.7364 - val_loss: 0.4520 - val_auc: 0.3827 - val_auc_1: 0.7320\n",
      "Epoch 19/20\n",
      "13300/13300 [==============================] - 298s 22ms/step - loss: 0.4452 - auc: 0.3904 - auc_1: 0.7364 - val_loss: 0.4539 - val_auc: 0.3825 - val_auc_1: 0.7318\n",
      "Epoch 20/20\n",
      "13300/13300 [==============================] - 272s 20ms/step - loss: 0.4450 - auc: 0.3917 - auc_1: 0.7367 - val_loss: 0.4515 - val_auc: 0.3834 - val_auc_1: 0.7320\n"
     ]
    }
   ],
   "source": [
    "this_history = this_model.fit([X_train, X_naics_train], y_train,\n",
    "                              validation_data=([X_val, X_naics_val], y_val),\n",
    "                              batch_size=setup.nn_batch_size,\n",
    "                              epochs=setup.nn_epochs)"
   ]
  },
  {
   "cell_type": "code",
   "execution_count": 22,
   "id": "460c4b43-c673-4ee1-b070-d2d596ac4561",
   "metadata": {},
   "outputs": [],
   "source": [
    "this_history_df = pd.DataFrame(this_history.history)"
   ]
  },
  {
   "cell_type": "code",
   "execution_count": 23,
   "id": "c85bd09a-2fa9-4255-958b-4d48b17085ff",
   "metadata": {},
   "outputs": [],
   "source": [
    "# Rename columns\n",
    "try:\n",
    "    this_history_df.columns = ['_'.join(c.split('_')[0:-1])  \\\n",
    "                               if re.search(r'_\\d+$', c) else c for c in this_history_df.columns]\n",
    "except:\n",
    "    pass\n",
    "try:\n",
    "    cur_col = list(this_history_df.columns)\n",
    "    this_history_df.columns = [cur_col[0]] + \\\n",
    "        [f'{cur_col[i]}_roc'  if (cur_col[i] == cur_col[i-1]) and 'auc'in cur_col[i] \\\n",
    "         else cur_col[i] for i in range(1, len(cur_col))]\n",
    "except:\n",
    "    pass"
   ]
  },
  {
   "cell_type": "code",
   "execution_count": 24,
   "id": "8ea25384-9fc0-4916-a577-4bd9bc9b203f",
   "metadata": {},
   "outputs": [
    {
     "data": {
      "text/plain": [
       "Index(['loss', 'auc', 'auc_roc', 'val_loss', 'val_auc', 'val_auc_roc'], dtype='object')"
      ]
     },
     "execution_count": 24,
     "metadata": {},
     "output_type": "execute_result"
    }
   ],
   "source": [
    "this_history_df.columns"
   ]
  },
  {
   "cell_type": "code",
   "execution_count": 25,
   "id": "ad4783f2-8d0b-4850-a45a-3a4be8e63318",
   "metadata": {},
   "outputs": [],
   "source": [
    "this_history_df.to_csv(Path(setup.temp_path).joinpath('12_REPORT_fit_history.csv'))"
   ]
  },
  {
   "cell_type": "code",
   "execution_count": 26,
   "id": "73e89efd-75a9-4b27-81a8-13e12d5482be",
   "metadata": {},
   "outputs": [
    {
     "data": {
      "text/plain": [
       "<Axes: >"
      ]
     },
     "execution_count": 26,
     "metadata": {},
     "output_type": "execute_result"
    },
    {
     "data": {
      "image/png": "[encoded data removed]",
      "text/plain": [
       "<Figure size 640x480 with 1 Axes>"
      ]
     },
     "metadata": {},
     "output_type": "display_data"
    }
   ],
   "source": [
    "this_history_df[['loss', 'val_loss']].plot()"
   ]
  },
  {
   "cell_type": "code",
   "execution_count": 27,
   "id": "2342a31f-4891-4834-851a-b90b8b729c3c",
   "metadata": {},
   "outputs": [
    {
     "data": {
      "text/plain": [
       "<Axes: >"
      ]
     },
     "execution_count": 27,
     "metadata": {},
     "output_type": "execute_result"
    },
    {
     "data": {
      "image/png": "[encoded data removed]",
      "text/plain": [
       "<Figure size 640x480 with 1 Axes>"
      ]
     },
     "metadata": {},
     "output_type": "display_data"
    }
   ],
   "source": [
    "this_history_df[['auc', 'val_auc']].plot()"
   ]
  },
  {
   "cell_type": "code",
   "execution_count": 28,
   "id": "cee80637-cabf-4974-b476-08c5fba165ff",
   "metadata": {},
   "outputs": [
    {
     "data": {
      "text/plain": [
       "<Axes: >"
      ]
     },
     "execution_count": 28,
     "metadata": {},
     "output_type": "execute_result"
    },
    {
     "data": {
      "image/png": "[encoded data removed]",
      "text/plain": [
       "<Figure size 640x480 with 1 Axes>"
      ]
     },
     "metadata": {},
     "output_type": "display_data"
    }
   ],
   "source": [
    "this_history_df[['auc_roc', 'val_auc_roc']].plot()"
   ]
  },
  {
   "cell_type": "code",
   "execution_count": 29,
   "id": "e184b0ca-1d31-4798-88a0-4e590b67062e",
   "metadata": {},
   "outputs": [],
   "source": [
    "this_model.save(Path(setup.temp_path).joinpath('12_DATA_model.keras'),save_format='tf')"
   ]
  },
  {
   "cell_type": "markdown",
   "id": "d326c9ea-4759-4418-a64d-56c151049c25",
   "metadata": {},
   "source": [
    "## Predictions on all data"
   ]
  },
  {
   "cell_type": "code",
   "execution_count": 30,
   "id": "cd6910ee-5ffe-4def-9aa8-7dba76446b08",
   "metadata": {},
   "outputs": [
    {
     "name": "stdout",
     "output_type": "stream",
     "text": [
      "   17/21503 [..............................] - ETA: 2:18 "
     ]
    },
    {
     "name": "stderr",
     "output_type": "stream",
     "text": [
      "2024-02-26 16:06:20.685955: I tensorflow/core/grappler/optimizers/custom_graph_optimizer_registry.cc:114] Plugin optimizer for device_type GPU is enabled.\n"
     ]
    },
    {
     "name": "stdout",
     "output_type": "stream",
     "text": [
      "21503/21503 [==============================] - 62s 3ms/step\n"
     ]
    }
   ],
   "source": [
    "all_predictions = this_model.predict([X.drop(columns='dset'), \n",
    "                                      X_naics.drop(columns='dset')])"
   ]
  },
  {
   "cell_type": "code",
   "execution_count": 31,
   "id": "98a2cce1-b7d3-4ebc-8869-80705297e145",
   "metadata": {},
   "outputs": [],
   "source": [
    "all_predictions_df = pd.DataFrame(all_predictions, index=X.index) \\\n",
    "    .set_axis(['predict_prob'], axis=1) \\\n",
    "    .reset_index() \\\n",
    "    .merge(business_data[['target', 'LoanNr_ChkDgt', 'dset', 'dset_naics_holdout', 'NAICS']], \n",
    "           on='LoanNr_ChkDgt')"
   ]
  },
  {
   "cell_type": "code",
   "execution_count": 32,
   "id": "3fc7da9c-6bd2-4d1b-b77f-b62679825d5d",
   "metadata": {},
   "outputs": [
    {
     "data": {
      "text/html": [
       "<div>\n",
       "<style scoped>\n",
       "    .dataframe tbody tr th:only-of-type {\n",
       "        vertical-align: middle;\n",
       "    }\n",
       "\n",
       "    .dataframe tbody tr th {\n",
       "        vertical-align: top;\n",
       "    }\n",
       "\n",
       "    .dataframe thead th {\n",
       "        text-align: right;\n",
       "    }\n",
       "</style>\n",
       "<table border=\"1\" class=\"dataframe\">\n",
       "  <thead>\n",
       "    <tr style=\"text-align: right;\">\n",
       "      <th></th>\n",
       "      <th>predict_prob</th>\n",
       "      <th>target</th>\n",
       "    </tr>\n",
       "  </thead>\n",
       "  <tbody>\n",
       "    <tr>\n",
       "      <th>predict_prob</th>\n",
       "      <td>1.000000</td>\n",
       "      <td>0.327752</td>\n",
       "    </tr>\n",
       "    <tr>\n",
       "      <th>target</th>\n",
       "      <td>0.327752</td>\n",
       "      <td>1.000000</td>\n",
       "    </tr>\n",
       "  </tbody>\n",
       "</table>\n",
       "</div>"
      ],
      "text/plain": [
       "              predict_prob    target\n",
       "predict_prob      1.000000  0.327752\n",
       "target            0.327752  1.000000"
      ]
     },
     "execution_count": 32,
     "metadata": {},
     "output_type": "execute_result"
    }
   ],
   "source": [
    "all_predictions_df[['predict_prob', 'target']].corr(method='spearman')"
   ]
  },
  {
   "cell_type": "markdown",
   "id": "e79afc4e-cb67-4064-9b19-dc52500baef2",
   "metadata": {},
   "source": [
    "##### Threshold Tune & Binary Predictions\n",
    "Using training probability predictions"
   ]
  },
  {
   "cell_type": "code",
   "execution_count": 33,
   "id": "ccd0bc23-fbc0-40d0-8d8b-f2302405a875",
   "metadata": {},
   "outputs": [],
   "source": [
    "all_pred_train = all_predictions_df[all_predictions_df['dset'] == 'train']"
   ]
  },
  {
   "cell_type": "code",
   "execution_count": 34,
   "id": "df36d9e9-f35e-46b3-a5be-08081f998319",
   "metadata": {},
   "outputs": [],
   "source": [
    "thresh_tune_data = sg_plot.get_f1_frame(all_pred_train['target'], \n",
    "                                        all_pred_train['predict_prob'])"
   ]
  },
  {
   "cell_type": "code",
   "execution_count": 35,
   "id": "de634156-caf6-4a52-b5d7-44b8e986aa1d",
   "metadata": {},
   "outputs": [
    {
     "data": {
      "text/html": [
       "<div>\n",
       "<style scoped>\n",
       "    .dataframe tbody tr th:only-of-type {\n",
       "        vertical-align: middle;\n",
       "    }\n",
       "\n",
       "    .dataframe tbody tr th {\n",
       "        vertical-align: top;\n",
       "    }\n",
       "\n",
       "    .dataframe thead th {\n",
       "        text-align: right;\n",
       "    }\n",
       "</style>\n",
       "<table border=\"1\" class=\"dataframe\">\n",
       "  <thead>\n",
       "    <tr style=\"text-align: right;\">\n",
       "      <th></th>\n",
       "      <th>thresh</th>\n",
       "      <th>f1</th>\n",
       "    </tr>\n",
       "  </thead>\n",
       "  <tbody>\n",
       "    <tr>\n",
       "      <th>11</th>\n",
       "      <td>0.22</td>\n",
       "      <td>0.458522</td>\n",
       "    </tr>\n",
       "    <tr>\n",
       "      <th>12</th>\n",
       "      <td>0.24</td>\n",
       "      <td>0.458183</td>\n",
       "    </tr>\n",
       "    <tr>\n",
       "      <th>10</th>\n",
       "      <td>0.20</td>\n",
       "      <td>0.456622</td>\n",
       "    </tr>\n",
       "  </tbody>\n",
       "</table>\n",
       "</div>"
      ],
      "text/plain": [
       "    thresh        f1\n",
       "11    0.22  0.458522\n",
       "12    0.24  0.458183\n",
       "10    0.20  0.456622"
      ]
     },
     "execution_count": 35,
     "metadata": {},
     "output_type": "execute_result"
    }
   ],
   "source": [
    "thresh_tune_data.sort_values('f1', ascending=False, inplace=True)\n",
    "thresh_tune_data.head(3)"
   ]
  },
  {
   "cell_type": "code",
   "execution_count": 36,
   "id": "c746b880-d781-4bc1-9df2-89211127c22a",
   "metadata": {},
   "outputs": [
    {
     "data": {
      "text/plain": [
       "0.22"
      ]
     },
     "execution_count": 36,
     "metadata": {},
     "output_type": "execute_result"
    }
   ],
   "source": [
    "best_thresh = thresh_tune_data['thresh'].iloc[0]\n",
    "best_thresh"
   ]
  },
  {
   "cell_type": "markdown",
   "id": "3c0ac5e2-be0d-42f0-960d-1f81b4a5d4e2",
   "metadata": {},
   "source": [
    "##### Append binary predictions to probability predictions"
   ]
  },
  {
   "cell_type": "code",
   "execution_count": 37,
   "id": "641da72e-1bca-4fe7-96c4-6c029b521bd7",
   "metadata": {},
   "outputs": [],
   "source": [
    "all_predictions_df['predict_bin'] = sg_plot.get_binary_predictions(all_predictions_df['predict_prob'], best_thresh)"
   ]
  },
  {
   "cell_type": "code",
   "execution_count": 38,
   "id": "9f6ecdf4-ac01-4c39-8315-e8583daa337e",
   "metadata": {},
   "outputs": [
    {
     "data": {
      "text/plain": [
       "predict_bin\n",
       "0    0.574988\n",
       "1    0.425012\n",
       "Name: proportion, dtype: float64"
      ]
     },
     "execution_count": 38,
     "metadata": {},
     "output_type": "execute_result"
    }
   ],
   "source": [
    "all_predictions_df['predict_bin'].value_counts(normalize=True, dropna=False)"
   ]
  },
  {
   "cell_type": "code",
   "execution_count": 39,
   "id": "cbfed830-7ff8-40f6-a691-6b894b26d6bc",
   "metadata": {},
   "outputs": [],
   "source": [
    "all_predictions_df.to_parquet(Path(setup.temp_path).joinpath('12_DATA_predictions.parquet'))"
   ]
  },
  {
   "cell_type": "markdown",
   "id": "eb0ecbd2-abff-46d8-8c70-f7bccd363b69",
   "metadata": {},
   "source": [
    "## Metrics"
   ]
  },
  {
   "cell_type": "code",
   "execution_count": 40,
   "id": "be4ceefe-c7a8-45bd-8573-2daefe99a1c2",
   "metadata": {},
   "outputs": [
    {
     "data": {
      "text/html": [
       "<div>\n",
       "<style scoped>\n",
       "    .dataframe tbody tr th:only-of-type {\n",
       "        vertical-align: middle;\n",
       "    }\n",
       "\n",
       "    .dataframe tbody tr th {\n",
       "        vertical-align: top;\n",
       "    }\n",
       "\n",
       "    .dataframe thead th {\n",
       "        text-align: right;\n",
       "    }\n",
       "</style>\n",
       "<table border=\"1\" class=\"dataframe\">\n",
       "  <thead>\n",
       "    <tr style=\"text-align: right;\">\n",
       "      <th></th>\n",
       "      <th>dset</th>\n",
       "      <th>accuracy_score</th>\n",
       "      <th>f1_score</th>\n",
       "      <th>precision_score</th>\n",
       "      <th>recall_score</th>\n",
       "      <th>average_precision_score</th>\n",
       "      <th>roc_auc_score</th>\n",
       "      <th>dset_naics_holdout</th>\n",
       "    </tr>\n",
       "  </thead>\n",
       "  <tbody>\n",
       "    <tr>\n",
       "      <th>0</th>\n",
       "      <td>test</td>\n",
       "      <td>0.624181</td>\n",
       "      <td>0.437601</td>\n",
       "      <td>0.312598</td>\n",
       "      <td>0.729193</td>\n",
       "      <td>0.359594</td>\n",
       "      <td>0.716527</td>\n",
       "      <td>NaN</td>\n",
       "    </tr>\n",
       "    <tr>\n",
       "      <th>1</th>\n",
       "      <td>train</td>\n",
       "      <td>0.665658</td>\n",
       "      <td>0.458522</td>\n",
       "      <td>0.341612</td>\n",
       "      <td>0.697085</td>\n",
       "      <td>0.403825</td>\n",
       "      <td>0.743015</td>\n",
       "      <td>NaN</td>\n",
       "    </tr>\n",
       "    <tr>\n",
       "      <th>2</th>\n",
       "      <td>val</td>\n",
       "      <td>0.662602</td>\n",
       "      <td>0.455939</td>\n",
       "      <td>0.340955</td>\n",
       "      <td>0.687939</td>\n",
       "      <td>0.383493</td>\n",
       "      <td>0.732069</td>\n",
       "      <td>NaN</td>\n",
       "    </tr>\n",
       "    <tr>\n",
       "      <th>0</th>\n",
       "      <td>test</td>\n",
       "      <td>0.660141</td>\n",
       "      <td>0.450865</td>\n",
       "      <td>0.336043</td>\n",
       "      <td>0.684882</td>\n",
       "      <td>0.388653</td>\n",
       "      <td>0.732290</td>\n",
       "      <td>0.0</td>\n",
       "    </tr>\n",
       "    <tr>\n",
       "      <th>1</th>\n",
       "      <td>test</td>\n",
       "      <td>0.512890</td>\n",
       "      <td>0.406653</td>\n",
       "      <td>0.264807</td>\n",
       "      <td>0.875768</td>\n",
       "      <td>0.336031</td>\n",
       "      <td>0.708303</td>\n",
       "      <td>1.0</td>\n",
       "    </tr>\n",
       "  </tbody>\n",
       "</table>\n",
       "</div>"
      ],
      "text/plain": [
       "    dset  accuracy_score  f1_score  precision_score  recall_score  \\\n",
       "0   test        0.624181  0.437601         0.312598      0.729193   \n",
       "1  train        0.665658  0.458522         0.341612      0.697085   \n",
       "2    val        0.662602  0.455939         0.340955      0.687939   \n",
       "0   test        0.660141  0.450865         0.336043      0.684882   \n",
       "1   test        0.512890  0.406653         0.264807      0.875768   \n",
       "\n",
       "   average_precision_score  roc_auc_score  dset_naics_holdout  \n",
       "0                 0.359594       0.716527                 NaN  \n",
       "1                 0.403825       0.743015                 NaN  \n",
       "2                 0.383493       0.732069                 NaN  \n",
       "0                 0.388653       0.732290                 0.0  \n",
       "1                 0.336031       0.708303                 1.0  "
      ]
     },
     "execution_count": 40,
     "metadata": {},
     "output_type": "execute_result"
    }
   ],
   "source": [
    "metrics_dset_df = all_predictions_df.groupby('dset') \\\n",
    "    .apply(lambda x: sg_plot.dset_metrics(x.target, x.predict_bin, x.predict_prob)) \\\n",
    "    .reset_index()\n",
    "metrics_test_df = all_predictions_df[all_predictions_df['dset'] == 'test'] \\\n",
    "    .groupby(['dset', 'dset_naics_holdout']) \\\n",
    "    .apply(lambda x: sg_plot.dset_metrics(x.target, x.predict_bin, x.predict_prob)) \\\n",
    "    .reset_index()\n",
    "metrics_df = pd.concat([metrics_dset_df, metrics_test_df])\n",
    "metrics_df.to_csv(Path(setup.temp_path).joinpath('12_REPORT_metrics.csv'), index=True)\n",
    "metrics_df"
   ]
  },
  {
   "cell_type": "markdown",
   "id": "2bf6b2f6-992d-4c4b-88cb-02eb418ae751",
   "metadata": {},
   "source": [
    "## Embeddings\n",
    "Get the NAICS embeddings for all codes"
   ]
  },
  {
   "cell_type": "code",
   "execution_count": 41,
   "id": "802d63c7-6106-4d32-8c2b-bfabf7db8b06",
   "metadata": {},
   "outputs": [],
   "source": [
    "#this_model = keras.models.load_model(Path(setup.temp_path).joinpath('12_DATA_model.keras'))"
   ]
  },
  {
   "cell_type": "code",
   "execution_count": 42,
   "id": "b647025a-000d-4d60-bb42-e623160d0f4e",
   "metadata": {},
   "outputs": [],
   "source": [
    "embed_layer_name = 'naics_reshape'\n",
    "#embed_layer_name = 'reshape_4'"
   ]
  },
  {
   "cell_type": "code",
   "execution_count": 43,
   "id": "25b09f02-4c5b-42ad-99a8-0e0c11f23be9",
   "metadata": {},
   "outputs": [],
   "source": [
    "unique_naics_x = business_data.drop_duplicates('NAICS_orig') \\\n",
    "    [['LoanNr_ChkDgt'] + numeric_features].set_index('LoanNr_ChkDgt').sort_index()"
   ]
  },
  {
   "cell_type": "code",
   "execution_count": 44,
   "id": "a4bd9290-cf45-437d-9986-a29c1dcc8547",
   "metadata": {},
   "outputs": [
    {
     "data": {
      "text/plain": [
       "(1311, 10)"
      ]
     },
     "execution_count": 44,
     "metadata": {},
     "output_type": "execute_result"
    }
   ],
   "source": [
    "unique_naics_x.shape"
   ]
  },
  {
   "cell_type": "code",
   "execution_count": 45,
   "id": "1cd7de97-c893-4697-9545-b31dc12c3c7e",
   "metadata": {},
   "outputs": [],
   "source": [
    "unique_naics_x_naics = business_data.drop_duplicates('NAICS_orig')[['LoanNr_ChkDgt', 'NAICS']] \\\n",
    "    .set_index('LoanNr_ChkDgt').sort_index()"
   ]
  },
  {
   "cell_type": "code",
   "execution_count": 46,
   "id": "f8bf0603-5235-4344-a73d-a5d632befd0d",
   "metadata": {},
   "outputs": [],
   "source": [
    "embed_model = Model(inputs=this_model.inputs, outputs=this_model.get_layer(embed_layer_name).output) "
   ]
  },
  {
   "cell_type": "code",
   "execution_count": 47,
   "id": "0ee68a3c-a630-4fde-b765-f441d2bb3895",
   "metadata": {},
   "outputs": [
    {
     "name": "stdout",
     "output_type": "stream",
     "text": [
      "41/41 [==============================] - 0s 937us/step\n"
     ]
    },
    {
     "name": "stderr",
     "output_type": "stream",
     "text": [
      "2024-02-26 16:07:42.943067: I tensorflow/core/grappler/optimizers/custom_graph_optimizer_registry.cc:114] Plugin optimizer for device_type GPU is enabled.\n"
     ]
    }
   ],
   "source": [
    "embed_out = embed_model.predict([unique_naics_x, unique_naics_x_naics])"
   ]
  },
  {
   "cell_type": "code",
   "execution_count": 48,
   "id": "f622987d-4206-494f-8482-08ac99fff2f9",
   "metadata": {},
   "outputs": [
    {
     "data": {
      "text/plain": [
       "(1311, 8)"
      ]
     },
     "execution_count": 48,
     "metadata": {},
     "output_type": "execute_result"
    }
   ],
   "source": [
    "embed_out.shape"
   ]
  },
  {
   "cell_type": "code",
   "execution_count": 49,
   "id": "2193800a-3e35-460c-8ee0-576d460f53bb",
   "metadata": {},
   "outputs": [],
   "source": [
    "embed_df = pd.DataFrame(embed_out, index=unique_naics_x.index) \n",
    "embed_df.columns = [f'emb_{i:03d}' for i in range(len(embed_df.columns))]\n",
    "embed_df.reset_index(inplace=True)"
   ]
  },
  {
   "cell_type": "code",
   "execution_count": 50,
   "id": "5ba4cb2e-4321-4dd4-89cf-5b9b48d90c71",
   "metadata": {},
   "outputs": [],
   "source": [
    "embed_df = pd.DataFrame(embed_out, index=unique_naics_x.index)  \n",
    "embed_df.columns = [f'emb_{i:03d}' for i in range(len(embed_df.columns))]\n",
    "embed_df = embed_df.reset_index() \\\n",
    "    .merge(business_data[['LoanNr_ChkDgt', 'NAICS', 'NAICS_orig']], how='left', on='LoanNr_ChkDgt') \\\n",
    "    .drop(columns='LoanNr_ChkDgt')"
   ]
  },
  {
   "cell_type": "code",
   "execution_count": 51,
   "id": "17f1e84b-2aec-4b6b-bd27-04a79008b2de",
   "metadata": {},
   "outputs": [
    {
     "data": {
      "text/html": [
       "<div>\n",
       "<style scoped>\n",
       "    .dataframe tbody tr th:only-of-type {\n",
       "        vertical-align: middle;\n",
       "    }\n",
       "\n",
       "    .dataframe tbody tr th {\n",
       "        vertical-align: top;\n",
       "    }\n",
       "\n",
       "    .dataframe thead th {\n",
       "        text-align: right;\n",
       "    }\n",
       "</style>\n",
       "<table border=\"1\" class=\"dataframe\">\n",
       "  <thead>\n",
       "    <tr style=\"text-align: right;\">\n",
       "      <th></th>\n",
       "      <th>emb_000</th>\n",
       "      <th>emb_001</th>\n",
       "      <th>emb_002</th>\n",
       "      <th>emb_003</th>\n",
       "      <th>emb_004</th>\n",
       "      <th>emb_005</th>\n",
       "      <th>emb_006</th>\n",
       "      <th>emb_007</th>\n",
       "      <th>NAICS</th>\n",
       "      <th>NAICS_orig</th>\n",
       "    </tr>\n",
       "  </thead>\n",
       "  <tbody>\n",
       "    <tr>\n",
       "      <th>0</th>\n",
       "      <td>-0.393896</td>\n",
       "      <td>-0.582756</td>\n",
       "      <td>0.757087</td>\n",
       "      <td>-0.512120</td>\n",
       "      <td>0.468502</td>\n",
       "      <td>0.447364</td>\n",
       "      <td>-0.601314</td>\n",
       "      <td>0.495141</td>\n",
       "      <td>1159.0</td>\n",
       "      <td>722410</td>\n",
       "    </tr>\n",
       "    <tr>\n",
       "      <th>1</th>\n",
       "      <td>-0.004138</td>\n",
       "      <td>0.047086</td>\n",
       "      <td>0.012811</td>\n",
       "      <td>-0.007829</td>\n",
       "      <td>0.043399</td>\n",
       "      <td>-0.032906</td>\n",
       "      <td>0.046600</td>\n",
       "      <td>0.048037</td>\n",
       "      <td>0.0</td>\n",
       "      <td>445299</td>\n",
       "    </tr>\n",
       "    <tr>\n",
       "      <th>2</th>\n",
       "      <td>-0.004138</td>\n",
       "      <td>0.047086</td>\n",
       "      <td>0.012811</td>\n",
       "      <td>-0.007829</td>\n",
       "      <td>0.043399</td>\n",
       "      <td>-0.032906</td>\n",
       "      <td>0.046600</td>\n",
       "      <td>0.048037</td>\n",
       "      <td>0.0</td>\n",
       "      <td>512110</td>\n",
       "    </tr>\n",
       "  </tbody>\n",
       "</table>\n",
       "</div>"
      ],
      "text/plain": [
       "    emb_000   emb_001   emb_002   emb_003   emb_004   emb_005   emb_006  \\\n",
       "0 -0.393896 -0.582756  0.757087 -0.512120  0.468502  0.447364 -0.601314   \n",
       "1 -0.004138  0.047086  0.012811 -0.007829  0.043399 -0.032906  0.046600   \n",
       "2 -0.004138  0.047086  0.012811 -0.007829  0.043399 -0.032906  0.046600   \n",
       "\n",
       "    emb_007   NAICS NAICS_orig  \n",
       "0  0.495141  1159.0     722410  \n",
       "1  0.048037     0.0     445299  \n",
       "2  0.048037     0.0     512110  "
      ]
     },
     "execution_count": 51,
     "metadata": {},
     "output_type": "execute_result"
    }
   ],
   "source": [
    "embed_df.head(3)"
   ]
  },
  {
   "cell_type": "code",
   "execution_count": 52,
   "id": "6a8d3c99-24d1-404c-a867-b67f6dd6a4a9",
   "metadata": {},
   "outputs": [],
   "source": [
    "embed_df.to_parquet(Path(setup.temp_path).joinpath('12_DATA_embeddings.parquet'))"
   ]
  },
  {
   "cell_type": "code",
   "execution_count": null,
   "id": "52e382b5-e9dc-47a1-9bf4-6d0b6b4a0c61",
   "metadata": {},
   "outputs": [],
   "source": []
  }
 ],
 "metadata": {
  "kernelspec": {
   "display_name": "tf_p39",
   "language": "python",
   "name": "tf_p39"
  },
  "language_info": {
   "codemirror_mode": {
    "name": "ipython",
    "version": 3
   },
   "file_extension": ".py",
   "mimetype": "text/x-python",
   "name": "python",
   "nbconvert_exporter": "python",
   "pygments_lexer": "ipython3",
   "version": "3.8.18"
  }
 },
 "nbformat": 4,
 "nbformat_minor": 5
}
