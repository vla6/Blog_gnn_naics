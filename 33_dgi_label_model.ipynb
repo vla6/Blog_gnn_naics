{
 "cells": [
  {
   "cell_type": "code",
   "execution_count": 1,
   "id": "fd5142ad-a572-4168-b681-b2fc476832ff",
   "metadata": {
    "tags": []
   },
   "outputs": [],
   "source": [
    "# Modify the file 00_setup.py to define input/output file paths on your system\n",
    "# The information in 00_setup.py will be used across notebooks\n",
    "from importlib.machinery import SourceFileLoader\n",
    "setup = SourceFileLoader(\"setup\", \"./00_setup.py\").load_module()"
   ]
  },
  {
   "cell_type": "markdown",
   "id": "f953ab39-6cb2-41cc-bb3c-8d8daf57c210",
   "metadata": {},
   "source": [
    "# GNN - Unsupervised Model (label as feature)"
   ]
  },
  {
   "cell_type": "markdown",
   "id": "28878d00-d46c-43ef-98ab-68823bdda2d0",
   "metadata": {},
   "source": [
    "Deep Graph Infomax via HinSage for a graph consisting of train and validation data only (original features, with the target)"
   ]
  },
  {
   "cell_type": "markdown",
   "id": "c313c044-8dbf-4b50-89ea-9e8f55ebd6c3",
   "metadata": {},
   "source": [
    "The unsupervised model has both business and NAICS nodes, and uses NAICS nodes as the head type."
   ]
  },
  {
   "cell_type": "markdown",
   "id": "d16d66bf-b383-4078-99e9-7c039b4be356",
   "metadata": {},
   "source": [
    "*This script takes about 30 minutes on my MacBook Air*"
   ]
  },
  {
   "cell_type": "code",
   "execution_count": 2,
   "id": "52887f3a-b4a8-43b6-ac6d-bb6a1e7ec0fa",
   "metadata": {},
   "outputs": [],
   "source": [
    "import pandas as pd\n",
    "import numpy as np"
   ]
  },
  {
   "cell_type": "code",
   "execution_count": 3,
   "id": "2141b963-4f15-477a-9f43-bdba4de14bc9",
   "metadata": {},
   "outputs": [],
   "source": [
    "from pathlib import Path\n",
    "import importlib\n",
    "import pickle, re"
   ]
  },
  {
   "cell_type": "code",
   "execution_count": 4,
   "id": "16fac673-6afd-46ba-96d0-422c2aad5bfd",
   "metadata": {},
   "outputs": [
    {
     "name": "stderr",
     "output_type": "stream",
     "text": [
      "2024-03-16 14:06:01.332530: I metal_plugin/src/device/metal_device.cc:1154] Metal device set to: Apple M1\n",
      "2024-03-16 14:06:01.332557: I metal_plugin/src/device/metal_device.cc:296] systemMemory: 16.00 GB\n",
      "2024-03-16 14:06:01.332565: I metal_plugin/src/device/metal_device.cc:313] maxCacheSize: 5.33 GB\n",
      "2024-03-16 14:06:01.332602: I tensorflow/core/common_runtime/pluggable_device/pluggable_device_factory.cc:303] Could not identify NUMA node of platform GPU ID 0, defaulting to 0. Your kernel may not have been built with NUMA support.\n",
      "2024-03-16 14:06:01.332620: I tensorflow/core/common_runtime/pluggable_device/pluggable_device_factory.cc:269] Created TensorFlow device (/job:localhost/replica:0/task:0/device:GPU:0 with 0 MB memory) -> physical PluggableDevice (device: 0, name: METAL, pci bus id: <undefined>)\n"
     ]
    }
   ],
   "source": [
    "import stellargraph as sg\n",
    "from stellargraph import StellarGraph\n",
    "from stellargraph.layer import HinSAGE, DeepGraphInfomax\n",
    "from stellargraph.mapper import HinSAGENodeGenerator, CorruptedGenerator\n",
    "\n",
    "from tensorflow.keras import layers, optimizers, losses, metrics, Model\n",
    "from sklearn import preprocessing, feature_extraction, model_selection\n",
    "from tensorflow.keras.callbacks import EarlyStopping\n",
    "\n",
    "import keras\n",
    "import tensorflow.keras.metrics as km\n",
    "from keras import initializers\n",
    "import tensorflow as tf"
   ]
  },
  {
   "cell_type": "code",
   "execution_count": 5,
   "id": "ac51eb62-a3dd-4976-b5c0-3030eec5fae8",
   "metadata": {},
   "outputs": [],
   "source": [
    "from sklearn.model_selection import train_test_split"
   ]
  },
  {
   "cell_type": "markdown",
   "id": "b6099e7c-b87f-4329-9e8d-6834022b6cd3",
   "metadata": {},
   "source": [
    "## Import Data"
   ]
  },
  {
   "cell_type": "code",
   "execution_count": 6,
   "id": "1c0de590-8299-4dc1-b9d7-b4ccd811f8a5",
   "metadata": {},
   "outputs": [],
   "source": [
    "# Training and validation clients - monitor training on val clients\n",
    "with open(Path(setup.temp_path).joinpath('32_DATA_stellargraph_train_val.pkl'), 'rb') as fin:\n",
    "      sba_graph  = pickle.load(fin)"
   ]
  },
  {
   "cell_type": "code",
   "execution_count": 7,
   "id": "8d4a5133-6234-4c44-8001-1225a6e5f67a",
   "metadata": {},
   "outputs": [],
   "source": [
    "# NAICS info\n",
    "features_naics = pd.read_parquet(Path(setup.temp_path).joinpath('30_DATA_graph_node_features_naics.parquet')) "
   ]
  },
  {
   "cell_type": "markdown",
   "id": "acbfbbd0-e53e-4d5e-a980-5be8efece555",
   "metadata": {},
   "source": [
    "## Model"
   ]
  },
  {
   "cell_type": "markdown",
   "id": "0901ba23-4af2-46db-8b36-4eff21e5ad7e",
   "metadata": {},
   "source": [
    "##### Split the NAICS nodes for fitting"
   ]
  },
  {
   "cell_type": "code",
   "execution_count": 8,
   "id": "c8a829d2-03d6-4ec8-ada4-498458895b88",
   "metadata": {},
   "outputs": [],
   "source": [
    "naics_nodes = sba_graph.nodes(node_type='NAICS')"
   ]
  },
  {
   "cell_type": "code",
   "execution_count": 9,
   "id": "c9c41482-ad16-48ce-a081-359196d3aca7",
   "metadata": {},
   "outputs": [],
   "source": [
    "train_index, val_index = train_test_split(naics_nodes, train_size=0.8, random_state = 756)"
   ]
  },
  {
   "cell_type": "markdown",
   "id": "a8a6b89c-56ac-4a7f-84eb-6838ebd507d4",
   "metadata": {},
   "source": [
    "##### Set seeds to setup"
   ]
  },
  {
   "cell_type": "code",
   "execution_count": 10,
   "id": "fd5973b0-415b-453c-be2e-2ffaad13c79c",
   "metadata": {},
   "outputs": [],
   "source": [
    "# Set some seeds\n",
    "np.random.seed(16)\n",
    "tf.random.set_seed(16)\n",
    "sg.random.set_seed(4345)"
   ]
  },
  {
   "cell_type": "markdown",
   "id": "66e2cd18-1204-4b22-b09c-50e94c31198c",
   "metadata": {},
   "source": [
    "##### HinSage Model"
   ]
  },
  {
   "cell_type": "code",
   "execution_count": 11,
   "id": "b9e4f62e-3c1c-4686-a563-ddde99398269",
   "metadata": {},
   "outputs": [],
   "source": [
    "generator = HinSAGENodeGenerator(sba_graph, batch_size=setup.gnn_batch_size, \n",
    "                                 num_samples=setup.gnn_unsup_num_samples,\n",
    "                                 head_node_type='NAICS',\n",
    "                                 seed=2454)"
   ]
  },
  {
   "cell_type": "code",
   "execution_count": 12,
   "id": "f82b06d2-958f-49c9-a058-439cf7a707bc",
   "metadata": {},
   "outputs": [],
   "source": [
    "graphsage_model = HinSAGE(\n",
    "    layer_sizes=setup.gnn_unsup_layer_sizes, generator=generator, \n",
    "    activations=setup.gnn_unsup_activations,\n",
    "    bias=True, dropout=setup.gnn_unsup_dropout,\n",
    ")"
   ]
  },
  {
   "cell_type": "markdown",
   "id": "3ae2f2f6-2676-44ec-a6ad-ef8f4054fc7d",
   "metadata": {},
   "source": [
    "##### Deep Graph Infomax"
   ]
  },
  {
   "cell_type": "code",
   "execution_count": 13,
   "id": "9ba5b06d-3964-4abd-9e6b-0059067b3006",
   "metadata": {},
   "outputs": [],
   "source": [
    "corrupted_generator = CorruptedGenerator(generator)"
   ]
  },
  {
   "cell_type": "code",
   "execution_count": 14,
   "id": "0b0846ad-6038-46d6-bc61-049fc07b490d",
   "metadata": {},
   "outputs": [],
   "source": [
    "train_flow_corr = corrupted_generator.flow(train_index, shuffle=True)\n",
    "val_flow_corr = corrupted_generator.flow(val_index, shuffle=False)"
   ]
  },
  {
   "cell_type": "code",
   "execution_count": 15,
   "id": "537322b1-3dfc-487e-9c26-c6ac9ba346db",
   "metadata": {},
   "outputs": [
    {
     "name": "stderr",
     "output_type": "stream",
     "text": [
      "/Users/valeriecarey/miniconda3/envs/tf_p38/lib/python3.8/site-packages/keras/src/initializers/initializers.py:120: UserWarning: The initializer GlorotUniform is unseeded and being called multiple times, which will return identical values each time (even if the initializer is unseeded). Please update your code to provide a seed to the initializer, or avoid using the same initializer instance more than once.\n",
      "  warnings.warn(\n"
     ]
    }
   ],
   "source": [
    "infomax = DeepGraphInfomax(graphsage_model, corrupted_generator)\n",
    "x_in, x_out = infomax.in_out_tensors()\n",
    "\n",
    "optimizer = setup.gnn_optimizer(learning_rate=setup.gnn_unsup_learning_rate)\n",
    "model = Model(inputs=x_in, outputs=x_out)\n",
    "model.compile(loss=tf.nn.sigmoid_cross_entropy_with_logits, optimizer=optimizer)"
   ]
  },
  {
   "cell_type": "markdown",
   "id": "9bd37d78-bfdf-4c0c-aabe-5faff3f4e15b",
   "metadata": {},
   "source": [
    "## Train"
   ]
  },
  {
   "cell_type": "code",
   "execution_count": 16,
   "id": "62e08aee-14c1-4510-bf0a-e8b3b484e7b6",
   "metadata": {},
   "outputs": [
    {
     "name": "stdout",
     "output_type": "stream",
     "text": [
      "Epoch 1/100\n"
     ]
    },
    {
     "name": "stderr",
     "output_type": "stream",
     "text": [
      "2024-03-16 14:06:03.739952: I tensorflow/core/grappler/optimizers/custom_graph_optimizer_registry.cc:114] Plugin optimizer for device_type GPU is enabled.\n",
      "2024-03-16 14:06:06.039711: I tensorflow/core/grappler/optimizers/custom_graph_optimizer_registry.cc:114] Plugin optimizer for device_type GPU is enabled.\n"
     ]
    },
    {
     "name": "stdout",
     "output_type": "stream",
     "text": [
      "30/30 - 3s - loss: 0.6846 - val_loss: 0.6727 - 3s/epoch - 103ms/step\n",
      "Epoch 2/100\n",
      "30/30 - 1s - loss: 0.6482 - val_loss: 0.6473 - 555ms/epoch - 18ms/step\n",
      "Epoch 3/100\n",
      "30/30 - 1s - loss: 0.6027 - val_loss: 0.5804 - 550ms/epoch - 18ms/step\n",
      "Epoch 4/100\n",
      "30/30 - 1s - loss: 0.5713 - val_loss: 0.5560 - 556ms/epoch - 19ms/step\n",
      "Epoch 5/100\n",
      "30/30 - 1s - loss: 0.5547 - val_loss: 0.5514 - 547ms/epoch - 18ms/step\n",
      "Epoch 6/100\n",
      "30/30 - 1s - loss: 0.5401 - val_loss: 0.5675 - 554ms/epoch - 18ms/step\n",
      "Epoch 7/100\n",
      "30/30 - 1s - loss: 0.5297 - val_loss: 0.5253 - 551ms/epoch - 18ms/step\n",
      "Epoch 8/100\n",
      "30/30 - 1s - loss: 0.4942 - val_loss: 0.5284 - 547ms/epoch - 18ms/step\n",
      "Epoch 9/100\n",
      "30/30 - 1s - loss: 0.4939 - val_loss: 0.6470 - 565ms/epoch - 19ms/step\n",
      "Epoch 10/100\n",
      "30/30 - 1s - loss: 0.5026 - val_loss: 0.4801 - 543ms/epoch - 18ms/step\n",
      "Epoch 11/100\n",
      "30/30 - 1s - loss: 0.4744 - val_loss: 0.4927 - 550ms/epoch - 18ms/step\n",
      "Epoch 12/100\n",
      "30/30 - 1s - loss: 0.4618 - val_loss: 0.4608 - 539ms/epoch - 18ms/step\n",
      "Epoch 13/100\n",
      "30/30 - 1s - loss: 0.4525 - val_loss: 0.4372 - 544ms/epoch - 18ms/step\n",
      "Epoch 14/100\n",
      "30/30 - 1s - loss: 0.4359 - val_loss: 0.4445 - 547ms/epoch - 18ms/step\n",
      "Epoch 15/100\n",
      "30/30 - 1s - loss: 0.4228 - val_loss: 0.4290 - 600ms/epoch - 20ms/step\n",
      "Epoch 16/100\n",
      "30/30 - 1s - loss: 0.4149 - val_loss: 0.4352 - 628ms/epoch - 21ms/step\n",
      "Epoch 17/100\n",
      "30/30 - 1s - loss: 0.4107 - val_loss: 0.4227 - 605ms/epoch - 20ms/step\n",
      "Epoch 18/100\n",
      "30/30 - 1s - loss: 0.4043 - val_loss: 0.4400 - 593ms/epoch - 20ms/step\n",
      "Epoch 19/100\n",
      "30/30 - 1s - loss: 0.3830 - val_loss: 0.4090 - 581ms/epoch - 19ms/step\n",
      "Epoch 20/100\n",
      "30/30 - 1s - loss: 0.3824 - val_loss: 0.4388 - 547ms/epoch - 18ms/step\n",
      "Epoch 21/100\n",
      "30/30 - 1s - loss: 0.3797 - val_loss: 0.3722 - 544ms/epoch - 18ms/step\n",
      "Epoch 22/100\n",
      "30/30 - 1s - loss: 0.3643 - val_loss: 0.3891 - 549ms/epoch - 18ms/step\n",
      "Epoch 23/100\n",
      "30/30 - 1s - loss: 0.3514 - val_loss: 0.3639 - 548ms/epoch - 18ms/step\n",
      "Epoch 24/100\n",
      "30/30 - 1s - loss: 0.3566 - val_loss: 0.3907 - 552ms/epoch - 18ms/step\n",
      "Epoch 25/100\n",
      "30/30 - 1s - loss: 0.3408 - val_loss: 0.3362 - 546ms/epoch - 18ms/step\n",
      "Epoch 26/100\n",
      "30/30 - 1s - loss: 0.3548 - val_loss: 0.3651 - 540ms/epoch - 18ms/step\n",
      "Epoch 27/100\n",
      "30/30 - 1s - loss: 0.3429 - val_loss: 0.4144 - 548ms/epoch - 18ms/step\n",
      "Epoch 28/100\n",
      "30/30 - 1s - loss: 0.3302 - val_loss: 0.3647 - 545ms/epoch - 18ms/step\n",
      "Epoch 29/100\n",
      "30/30 - 1s - loss: 0.3170 - val_loss: 0.3473 - 545ms/epoch - 18ms/step\n",
      "Epoch 30/100\n",
      "30/30 - 1s - loss: 0.3492 - val_loss: 0.3618 - 552ms/epoch - 18ms/step\n",
      "Epoch 31/100\n",
      "30/30 - 1s - loss: 0.3141 - val_loss: 0.3623 - 550ms/epoch - 18ms/step\n",
      "Epoch 32/100\n",
      "30/30 - 1s - loss: 0.3167 - val_loss: 0.3988 - 546ms/epoch - 18ms/step\n",
      "Epoch 33/100\n",
      "30/30 - 1s - loss: 0.3538 - val_loss: 0.3680 - 553ms/epoch - 18ms/step\n",
      "Epoch 34/100\n",
      "30/30 - 1s - loss: 0.3186 - val_loss: 0.3478 - 550ms/epoch - 18ms/step\n",
      "Epoch 35/100\n",
      "30/30 - 1s - loss: 0.3107 - val_loss: 0.3521 - 543ms/epoch - 18ms/step\n",
      "Epoch 36/100\n",
      "30/30 - 1s - loss: 0.3055 - val_loss: 0.3269 - 544ms/epoch - 18ms/step\n",
      "Epoch 37/100\n",
      "30/30 - 1s - loss: 0.3103 - val_loss: 0.3791 - 548ms/epoch - 18ms/step\n",
      "Epoch 38/100\n",
      "30/30 - 1s - loss: 0.3128 - val_loss: 0.3536 - 548ms/epoch - 18ms/step\n",
      "Epoch 39/100\n",
      "30/30 - 1s - loss: 0.3260 - val_loss: 0.3239 - 548ms/epoch - 18ms/step\n",
      "Epoch 40/100\n",
      "30/30 - 1s - loss: 0.3034 - val_loss: 0.3229 - 550ms/epoch - 18ms/step\n",
      "Epoch 41/100\n",
      "30/30 - 1s - loss: 0.3136 - val_loss: 0.3891 - 551ms/epoch - 18ms/step\n",
      "Epoch 42/100\n",
      "30/30 - 1s - loss: 0.3026 - val_loss: 0.3718 - 555ms/epoch - 18ms/step\n",
      "Epoch 43/100\n",
      "30/30 - 1s - loss: 0.3117 - val_loss: 0.3570 - 559ms/epoch - 19ms/step\n",
      "Epoch 44/100\n",
      "30/30 - 1s - loss: 0.3123 - val_loss: 0.3381 - 568ms/epoch - 19ms/step\n",
      "Epoch 45/100\n",
      "30/30 - 1s - loss: 0.3173 - val_loss: 0.3717 - 581ms/epoch - 19ms/step\n",
      "Epoch 46/100\n",
      "30/30 - 1s - loss: 0.3490 - val_loss: 0.3421 - 577ms/epoch - 19ms/step\n",
      "Epoch 47/100\n",
      "30/30 - 1s - loss: 0.3245 - val_loss: 0.3456 - 577ms/epoch - 19ms/step\n",
      "Epoch 48/100\n",
      "30/30 - 1s - loss: 0.2970 - val_loss: 0.3428 - 550ms/epoch - 18ms/step\n",
      "Epoch 49/100\n",
      "30/30 - 1s - loss: 0.2934 - val_loss: 0.3560 - 564ms/epoch - 19ms/step\n",
      "Epoch 50/100\n",
      "30/30 - 1s - loss: 0.2974 - val_loss: 0.3444 - 551ms/epoch - 18ms/step\n",
      "Epoch 51/100\n",
      "30/30 - 1s - loss: 0.2875 - val_loss: 0.3903 - 542ms/epoch - 18ms/step\n",
      "Epoch 52/100\n",
      "30/30 - 1s - loss: 0.2923 - val_loss: 0.2902 - 547ms/epoch - 18ms/step\n",
      "Epoch 53/100\n",
      "30/30 - 1s - loss: 0.2729 - val_loss: 0.3397 - 549ms/epoch - 18ms/step\n",
      "Epoch 54/100\n",
      "30/30 - 1s - loss: 0.2969 - val_loss: 0.3417 - 566ms/epoch - 19ms/step\n",
      "Epoch 55/100\n",
      "30/30 - 1s - loss: 0.2935 - val_loss: 0.3300 - 546ms/epoch - 18ms/step\n",
      "Epoch 56/100\n",
      "30/30 - 1s - loss: 0.2643 - val_loss: 0.3363 - 547ms/epoch - 18ms/step\n",
      "Epoch 57/100\n",
      "30/30 - 1s - loss: 0.3072 - val_loss: 0.3718 - 547ms/epoch - 18ms/step\n",
      "Epoch 58/100\n",
      "30/30 - 1s - loss: 0.2855 - val_loss: 0.3217 - 543ms/epoch - 18ms/step\n",
      "Epoch 59/100\n",
      "30/30 - 1s - loss: 0.2690 - val_loss: 0.3269 - 566ms/epoch - 19ms/step\n",
      "Epoch 60/100\n",
      "30/30 - 1s - loss: 0.2712 - val_loss: 0.3198 - 555ms/epoch - 19ms/step\n",
      "Epoch 61/100\n",
      "30/30 - 1s - loss: 0.2717 - val_loss: 0.2615 - 546ms/epoch - 18ms/step\n",
      "Epoch 62/100\n",
      "30/30 - 1s - loss: 0.2782 - val_loss: 0.3078 - 554ms/epoch - 18ms/step\n",
      "Epoch 63/100\n",
      "30/30 - 1s - loss: 0.2494 - val_loss: 0.2893 - 551ms/epoch - 18ms/step\n",
      "Epoch 64/100\n",
      "30/30 - 1s - loss: 0.2632 - val_loss: 0.2829 - 547ms/epoch - 18ms/step\n",
      "Epoch 65/100\n",
      "30/30 - 1s - loss: 0.2550 - val_loss: 0.2905 - 549ms/epoch - 18ms/step\n",
      "Epoch 66/100\n",
      "30/30 - 1s - loss: 0.2480 - val_loss: 0.2679 - 542ms/epoch - 18ms/step\n",
      "Epoch 67/100\n",
      "30/30 - 1s - loss: 0.2397 - val_loss: 0.2451 - 541ms/epoch - 18ms/step\n",
      "Epoch 68/100\n",
      "30/30 - 1s - loss: 0.2424 - val_loss: 0.2326 - 542ms/epoch - 18ms/step\n",
      "Epoch 69/100\n",
      "30/30 - 1s - loss: 0.2349 - val_loss: 0.2959 - 541ms/epoch - 18ms/step\n",
      "Epoch 70/100\n",
      "30/30 - 1s - loss: 0.2474 - val_loss: 0.2413 - 575ms/epoch - 19ms/step\n",
      "Epoch 71/100\n",
      "30/30 - 1s - loss: 0.2306 - val_loss: 0.2502 - 590ms/epoch - 20ms/step\n",
      "Epoch 72/100\n",
      "30/30 - 1s - loss: 0.2284 - val_loss: 0.2550 - 557ms/epoch - 19ms/step\n",
      "Epoch 73/100\n",
      "30/30 - 1s - loss: 0.2232 - val_loss: 0.2382 - 544ms/epoch - 18ms/step\n",
      "Epoch 74/100\n",
      "30/30 - 1s - loss: 0.2322 - val_loss: 0.2861 - 549ms/epoch - 18ms/step\n",
      "Epoch 75/100\n",
      "30/30 - 1s - loss: 0.2205 - val_loss: 0.2529 - 560ms/epoch - 19ms/step\n",
      "Epoch 76/100\n",
      "30/30 - 1s - loss: 0.2198 - val_loss: 0.2250 - 544ms/epoch - 18ms/step\n",
      "Epoch 77/100\n",
      "30/30 - 1s - loss: 0.2198 - val_loss: 0.2404 - 543ms/epoch - 18ms/step\n",
      "Epoch 78/100\n",
      "30/30 - 1s - loss: 0.2355 - val_loss: 0.2285 - 546ms/epoch - 18ms/step\n",
      "Epoch 79/100\n",
      "30/30 - 1s - loss: 0.2132 - val_loss: 0.2132 - 542ms/epoch - 18ms/step\n",
      "Epoch 80/100\n",
      "30/30 - 1s - loss: 0.2249 - val_loss: 0.2229 - 541ms/epoch - 18ms/step\n",
      "Epoch 81/100\n",
      "30/30 - 1s - loss: 0.2268 - val_loss: 0.2607 - 541ms/epoch - 18ms/step\n",
      "Epoch 82/100\n",
      "30/30 - 1s - loss: 0.2226 - val_loss: 0.2352 - 541ms/epoch - 18ms/step\n",
      "Epoch 83/100\n",
      "30/30 - 1s - loss: 0.2278 - val_loss: 0.2237 - 545ms/epoch - 18ms/step\n",
      "Epoch 84/100\n",
      "30/30 - 1s - loss: 0.2146 - val_loss: 0.2104 - 548ms/epoch - 18ms/step\n",
      "Epoch 85/100\n",
      "30/30 - 1s - loss: 0.2219 - val_loss: 0.2388 - 544ms/epoch - 18ms/step\n",
      "Epoch 86/100\n",
      "30/30 - 1s - loss: 0.2055 - val_loss: 0.2378 - 548ms/epoch - 18ms/step\n",
      "Epoch 87/100\n",
      "30/30 - 1s - loss: 0.2305 - val_loss: 0.2416 - 544ms/epoch - 18ms/step\n",
      "Epoch 88/100\n",
      "30/30 - 1s - loss: 0.2161 - val_loss: 0.2053 - 546ms/epoch - 18ms/step\n",
      "Epoch 89/100\n",
      "30/30 - 1s - loss: 0.2113 - val_loss: 0.2508 - 543ms/epoch - 18ms/step\n",
      "Epoch 90/100\n",
      "30/30 - 1s - loss: 0.2287 - val_loss: 0.2483 - 544ms/epoch - 18ms/step\n",
      "Epoch 91/100\n",
      "30/30 - 1s - loss: 0.2157 - val_loss: 0.2034 - 542ms/epoch - 18ms/step\n",
      "Epoch 92/100\n",
      "30/30 - 1s - loss: 0.1995 - val_loss: 0.2163 - 546ms/epoch - 18ms/step\n",
      "Epoch 93/100\n",
      "30/30 - 1s - loss: 0.2126 - val_loss: 0.2257 - 550ms/epoch - 18ms/step\n",
      "Epoch 94/100\n",
      "30/30 - 1s - loss: 0.2032 - val_loss: 0.2294 - 548ms/epoch - 18ms/step\n",
      "Epoch 95/100\n",
      "30/30 - 1s - loss: 0.2138 - val_loss: 0.2000 - 545ms/epoch - 18ms/step\n",
      "Epoch 96/100\n",
      "30/30 - 1s - loss: 0.2005 - val_loss: 0.2338 - 545ms/epoch - 18ms/step\n",
      "Epoch 97/100\n",
      "30/30 - 1s - loss: 0.2097 - val_loss: 0.2061 - 547ms/epoch - 18ms/step\n",
      "Epoch 98/100\n",
      "30/30 - 1s - loss: 0.2000 - val_loss: 0.2302 - 550ms/epoch - 18ms/step\n",
      "Epoch 99/100\n",
      "30/30 - 1s - loss: 0.2142 - val_loss: 0.1958 - 546ms/epoch - 18ms/step\n",
      "Epoch 100/100\n",
      "30/30 - 1s - loss: 0.2089 - val_loss: 0.2333 - 547ms/epoch - 18ms/step\n"
     ]
    }
   ],
   "source": [
    "es = EarlyStopping(monitor=\"loss\", min_delta=0, patience=20)\n",
    "history = model.fit(train_flow_corr, epochs=setup.gnn_unsup_epochs, verbose=2, callbacks=[es],\n",
    "                   validation_data = val_flow_corr)"
   ]
  },
  {
   "cell_type": "code",
   "execution_count": 17,
   "id": "5714c056-83a6-4152-a3c6-e3c9fe8e1420",
   "metadata": {},
   "outputs": [],
   "source": [
    "# Tensorflow save format to work around issue \n",
    "# https://github.com/tensorflow/tensorflow/issues/46659\n",
    "model.save(Path(setup.temp_path).joinpath('33_DATA_model_corrupted.keras'), save_format='tf')"
   ]
  },
  {
   "cell_type": "markdown",
   "id": "42cc2770-2599-4326-b9f9-2163c4448027",
   "metadata": {},
   "source": [
    "##### History Plots"
   ]
  },
  {
   "cell_type": "code",
   "execution_count": 18,
   "id": "fdb54aa5-0060-4cc2-8e71-d07ead44b775",
   "metadata": {},
   "outputs": [],
   "source": [
    "this_history_df = pd.DataFrame(history.history)"
   ]
  },
  {
   "cell_type": "code",
   "execution_count": 19,
   "id": "ad4783f2-8d0b-4850-a45a-3a4be8e63318",
   "metadata": {},
   "outputs": [],
   "source": [
    "this_history_df.to_csv(Path(setup.temp_path).joinpath('33_REPORT_fit_history.csv'))"
   ]
  },
  {
   "cell_type": "code",
   "execution_count": 20,
   "id": "73e89efd-75a9-4b27-81a8-13e12d5482be",
   "metadata": {
    "tags": []
   },
   "outputs": [
    {
     "data": {
      "text/plain": [
       "<Axes: >"
      ]
     },
     "execution_count": 20,
     "metadata": {},
     "output_type": "execute_result"
    },
    {
     "data": {
      "image/png": "[encoded data removed]",
      "text/plain": [
       "<Figure size 640x480 with 1 Axes>"
      ]
     },
     "metadata": {},
     "output_type": "display_data"
    }
   ],
   "source": [
    "this_history_df[['loss', 'val_loss']].plot()"
   ]
  },
  {
   "cell_type": "code",
   "execution_count": 21,
   "id": "e8353258-5212-45ad-9e60-7ee9dd6ab498",
   "metadata": {},
   "outputs": [
    {
     "name": "stdout",
     "output_type": "stream",
     "text": [
      "Model: \"model\"\n",
      "__________________________________________________________________________________________________\n",
      " Layer (type)                Output Shape                 Param #   Connected to                  \n",
      "==================================================================================================\n",
      " input_2 (InputLayer)        [(None, 100, 11)]            0         []                            \n",
      "                                                                                                  \n",
      " input_1 (InputLayer)        [(None, 1, 1)]               0         []                            \n",
      "                                                                                                  \n",
      " reshape (Reshape)           (None, 1, 100, 11)           0         ['input_2[0][0]']             \n",
      "                                                                                                  \n",
      " input_4 (InputLayer)        [(None, 100, 11)]            0         []                            \n",
      "                                                                                                  \n",
      " dropout_1 (Dropout)         (None, 1, 1)                 0         ['input_1[0][0]']             \n",
      "                                                                                                  \n",
      " dropout (Dropout)           (None, 1, 100, 11)           0         ['reshape[0][0]']             \n",
      "                                                                                                  \n",
      " input_3 (InputLayer)        [(None, 1, 1)]               0         []                            \n",
      "                                                                                                  \n",
      " reshape_2 (Reshape)         (None, 1, 100, 11)           0         ['input_4[0][0]']             \n",
      "                                                                                                  \n",
      " mean_hin_aggregator (MeanH  (None, 1, 8)                 56        ['dropout_1[0][0]',           \n",
      " inAggregator)                                                       'dropout[0][0]',             \n",
      "                                                                     'dropout_3[0][0]',           \n",
      "                                                                     'dropout_2[0][0]']           \n",
      "                                                                                                  \n",
      " dropout_3 (Dropout)         (None, 1, 1)                 0         ['input_3[0][0]']             \n",
      "                                                                                                  \n",
      " dropout_2 (Dropout)         (None, 1, 100, 11)           0         ['reshape_2[0][0]']           \n",
      "                                                                                                  \n",
      " reshape_1 (Reshape)         (None, 8)                    0         ['mean_hin_aggregator[0][0]'] \n",
      "                                                                                                  \n",
      " lambda (Lambda)             (None, 8)                    0         ['reshape_1[0][0]',           \n",
      "                                                                     'reshape_3[0][0]']           \n",
      "                                                                                                  \n",
      " reshape_3 (Reshape)         (None, 8)                    0         ['mean_hin_aggregator[1][0]'] \n",
      "                                                                                                  \n",
      " dgi_readout (DGIReadout)    (8,)                         0         ['lambda[0][0]']              \n",
      "                                                                                                  \n",
      " dgi_discriminator (DGIDisc  (None,)                      64        ['lambda[0][0]',              \n",
      " riminator)                                                          'dgi_readout[0][0]',         \n",
      "                                                                     'lambda[1][0]',              \n",
      "                                                                     'dgi_readout[0][0]']         \n",
      "                                                                                                  \n",
      " tf.stack (TFOpLambda)       (None, 2)                    0         ['dgi_discriminator[0][0]',   \n",
      "                                                                     'dgi_discriminator[1][0]']   \n",
      "                                                                                                  \n",
      "==================================================================================================\n",
      "Total params: 120 (480.00 Byte)\n",
      "Trainable params: 120 (480.00 Byte)\n",
      "Non-trainable params: 0 (0.00 Byte)\n",
      "__________________________________________________________________________________________________\n"
     ]
    }
   ],
   "source": [
    "model.summary()"
   ]
  },
  {
   "cell_type": "markdown",
   "id": "9d5c0c3d-e4d1-4500-9129-b9d00346b13d",
   "metadata": {},
   "source": [
    "## Base Model Info"
   ]
  },
  {
   "cell_type": "code",
   "execution_count": 22,
   "id": "704a3af2-44ae-43bb-8098-1b2b8d0c8d3e",
   "metadata": {},
   "outputs": [],
   "source": [
    "x_inp, x_out = graphsage_model.in_out_tensors()"
   ]
  },
  {
   "cell_type": "code",
   "execution_count": 23,
   "id": "dce36e2f-d8c3-41da-a640-b657c1b15c3f",
   "metadata": {},
   "outputs": [],
   "source": [
    "graphsage_keras = Model(inputs=x_inp, outputs=x_out)"
   ]
  },
  {
   "cell_type": "code",
   "execution_count": 24,
   "id": "d4b097a6-16aa-4095-94ec-b8e1cc88919f",
   "metadata": {},
   "outputs": [
    {
     "name": "stdout",
     "output_type": "stream",
     "text": [
      "Model: \"model_1\"\n",
      "__________________________________________________________________________________________________\n",
      " Layer (type)                Output Shape                 Param #   Connected to                  \n",
      "==================================================================================================\n",
      " input_6 (InputLayer)        [(None, 100, 11)]            0         []                            \n",
      "                                                                                                  \n",
      " input_5 (InputLayer)        [(None, 1, 1)]               0         []                            \n",
      "                                                                                                  \n",
      " reshape_4 (Reshape)         (None, 1, 100, 11)           0         ['input_6[0][0]']             \n",
      "                                                                                                  \n",
      " dropout_5 (Dropout)         (None, 1, 1)                 0         ['input_5[0][0]']             \n",
      "                                                                                                  \n",
      " dropout_4 (Dropout)         (None, 1, 100, 11)           0         ['reshape_4[0][0]']           \n",
      "                                                                                                  \n",
      " mean_hin_aggregator (MeanH  (None, 1, 8)                 56        ['dropout_5[0][0]',           \n",
      " inAggregator)                                                       'dropout_4[0][0]']           \n",
      "                                                                                                  \n",
      " reshape_5 (Reshape)         (None, 8)                    0         ['mean_hin_aggregator[2][0]'] \n",
      "                                                                                                  \n",
      " lambda (Lambda)             (None, 8)                    0         ['reshape_5[0][0]']           \n",
      "                                                                                                  \n",
      "==================================================================================================\n",
      "Total params: 56 (224.00 Byte)\n",
      "Trainable params: 56 (224.00 Byte)\n",
      "Non-trainable params: 0 (0.00 Byte)\n",
      "__________________________________________________________________________________________________\n"
     ]
    }
   ],
   "source": [
    "graphsage_keras.summary()"
   ]
  },
  {
   "cell_type": "markdown",
   "id": "66ebc302-2b75-40b5-8ab6-9151748425de",
   "metadata": {
    "tags": []
   },
   "source": [
    "##### Save the Base Model"
   ]
  },
  {
   "cell_type": "code",
   "execution_count": 25,
   "id": "764e1854-aaf1-4652-a235-6712ecc7139d",
   "metadata": {},
   "outputs": [
    {
     "name": "stdout",
     "output_type": "stream",
     "text": [
      "WARNING:tensorflow:Compiled the loaded model, but the compiled metrics have yet to be built. `model.compile_metrics` will be empty until you train or evaluate the model.\n"
     ]
    }
   ],
   "source": [
    "# Tensorflow save format to work around issue \n",
    "# https://github.com/tensorflow/tensorflow/issues/46659\n",
    "graphsage_keras.save(Path(setup.temp_path).joinpath('33_DATA_model_base.keras'), save_format='tf')"
   ]
  },
  {
   "cell_type": "markdown",
   "id": "45ebf461-d11d-400e-b73c-75997725c313",
   "metadata": {},
   "source": [
    "## Embeddings - Full Graph"
   ]
  },
  {
   "cell_type": "markdown",
   "id": "ae3be8f6-58f1-4476-a701-59490fa009d5",
   "metadata": {},
   "source": [
    "Here, I will get NAICS node embeddings for the full graph.  The base model is used to accomplish this."
   ]
  },
  {
   "cell_type": "markdown",
   "id": "8a29badc-975e-4198-b0b7-c50beece6020",
   "metadata": {},
   "source": [
    "With my versions of Stellargraph, Keras, Tensorflow, etc., the value returned from HinSAGENodeGenerator.flow isn't compatible with what is expected from HinSAGE.get_in_out_tensors().  The flow value is a NodeSequence, which should generaate the proper tensors, but this isn't working so the tensors have to be extracted from the NodeSequence. "
   ]
  },
  {
   "cell_type": "markdown",
   "id": "9cec9e41-7626-47e2-b476-51f4830ddb8b",
   "metadata": {},
   "source": [
    "The NodeSequence generates a tuple.  The first dimension is the batch size.  I either have to iterate over batches or use a batch size large enough to hold all NAICS nodes!  Then, the 0th item holds the tensors needed for prediction."
   ]
  },
  {
   "cell_type": "markdown",
   "id": "cbe0a26c-d993-4f37-8b96-0dcc35771868",
   "metadata": {},
   "source": [
    "##### Get full graph"
   ]
  },
  {
   "cell_type": "markdown",
   "id": "a7f59534-7e43-453d-927b-6cb05c4eeb05",
   "metadata": {},
   "source": [
    "Load the full graph and get the NAICS nodes"
   ]
  },
  {
   "cell_type": "code",
   "execution_count": 26,
   "id": "2075957b-8852-4ae1-9cb4-aa86a6e42559",
   "metadata": {},
   "outputs": [],
   "source": [
    "with open(Path(setup.temp_path).joinpath('32_DATA_stellargraph_all.pkl'), 'rb') as fin:\n",
    "      sba_graph_all  = pickle.load(fin)"
   ]
  },
  {
   "cell_type": "code",
   "execution_count": 27,
   "id": "6298e87c-8bd1-4699-9c76-b4313012505b",
   "metadata": {},
   "outputs": [],
   "source": [
    "naics_nodes = sba_graph_all.nodes(node_type='NAICS')"
   ]
  },
  {
   "cell_type": "code",
   "execution_count": 28,
   "id": "b2584bcf-c129-4e92-99e5-927db9823254",
   "metadata": {},
   "outputs": [
    {
     "data": {
      "text/plain": [
       "1311"
      ]
     },
     "execution_count": 28,
     "metadata": {},
     "output_type": "execute_result"
    }
   ],
   "source": [
    "naics_len = len(naics_nodes)\n",
    "naics_len"
   ]
  },
  {
   "cell_type": "markdown",
   "id": "f254807c-8159-4f53-bd3b-f1abc1c18ecf",
   "metadata": {},
   "source": [
    "##### New generator with large batch size"
   ]
  },
  {
   "cell_type": "code",
   "execution_count": 29,
   "id": "6017d601-1228-411d-8f87-76a5a991b568",
   "metadata": {},
   "outputs": [],
   "source": [
    "generator_all = HinSAGENodeGenerator(sba_graph_all, batch_size=naics_len, \n",
    "                                 num_samples=setup.gnn_unsup_num_samples,\n",
    "                                 head_node_type='NAICS',\n",
    "                                 seed=3434)"
   ]
  },
  {
   "cell_type": "code",
   "execution_count": 30,
   "id": "2ae2bd40-5f36-4bf9-9802-bc729ada4df6",
   "metadata": {},
   "outputs": [],
   "source": [
    "flow_all = generator_all.flow(naics_nodes, shuffle=False)"
   ]
  },
  {
   "cell_type": "markdown",
   "id": "e1cdb9c3-987f-453f-a527-9b8ef5e29adb",
   "metadata": {},
   "source": [
    "##### Prediction\n",
    "Unpack the tuple.  Since I've used a large batch size, I only need the 0th item of the 0th item."
   ]
  },
  {
   "cell_type": "code",
   "execution_count": 31,
   "id": "7a0e2566-8b9d-47f2-816a-b3ad7b13a909",
   "metadata": {},
   "outputs": [
    {
     "name": "stdout",
     "output_type": "stream",
     "text": [
      "41/41 [==============================] - 0s 3ms/step\n"
     ]
    },
    {
     "name": "stderr",
     "output_type": "stream",
     "text": [
      "2024-03-16 14:07:04.931114: I tensorflow/core/grappler/optimizers/custom_graph_optimizer_registry.cc:114] Plugin optimizer for device_type GPU is enabled.\n"
     ]
    }
   ],
   "source": [
    "embed_out = graphsage_keras.predict(tuple(flow_all)[0][0])"
   ]
  },
  {
   "cell_type": "code",
   "execution_count": 32,
   "id": "2aeb0836-767a-462e-b981-9314795a3d6b",
   "metadata": {},
   "outputs": [
    {
     "name": "stdout",
     "output_type": "stream",
     "text": [
      "(1311, 8)\n"
     ]
    }
   ],
   "source": [
    "print(embed_out.shape)"
   ]
  },
  {
   "cell_type": "code",
   "execution_count": 33,
   "id": "ff506dbb-3b32-4aec-9260-656f3424f78d",
   "metadata": {},
   "outputs": [],
   "source": [
    "embed_df = pd.DataFrame(embed_out, index=naics_nodes) \n",
    "embed_df.columns = [f'emb_{i:03d}' for i in range(len(embed_df.columns))]\n",
    "embed_df = embed_df.reset_index() \\\n",
    "    .rename(columns={'index':'source'})"
   ]
  },
  {
   "cell_type": "code",
   "execution_count": 34,
   "id": "81b02149-cf1e-4314-a8d8-51aab861d56c",
   "metadata": {},
   "outputs": [],
   "source": [
    "embed_df = embed_df.merge(features_naics[['NAICS_orig']].reset_index(),\n",
    "                          on='source')"
   ]
  },
  {
   "cell_type": "code",
   "execution_count": 35,
   "id": "6769ff38-b961-4c0f-b2a5-f0778abbd4a3",
   "metadata": {},
   "outputs": [
    {
     "name": "stdout",
     "output_type": "stream",
     "text": [
      "(1311, 10)\n"
     ]
    }
   ],
   "source": [
    "print(embed_df.shape)"
   ]
  },
  {
   "cell_type": "code",
   "execution_count": 36,
   "id": "cb4805b9-922b-47bb-9d01-bcfe64e1aab1",
   "metadata": {},
   "outputs": [
    {
     "data": {
      "text/html": [
       "<div>\n",
       "<style scoped>\n",
       "    .dataframe tbody tr th:only-of-type {\n",
       "        vertical-align: middle;\n",
       "    }\n",
       "\n",
       "    .dataframe tbody tr th {\n",
       "        vertical-align: top;\n",
       "    }\n",
       "\n",
       "    .dataframe thead th {\n",
       "        text-align: right;\n",
       "    }\n",
       "</style>\n",
       "<table border=\"1\" class=\"dataframe\">\n",
       "  <thead>\n",
       "    <tr style=\"text-align: right;\">\n",
       "      <th></th>\n",
       "      <th>source</th>\n",
       "      <th>emb_000</th>\n",
       "      <th>emb_001</th>\n",
       "      <th>emb_002</th>\n",
       "      <th>emb_003</th>\n",
       "      <th>emb_004</th>\n",
       "      <th>emb_005</th>\n",
       "      <th>emb_006</th>\n",
       "      <th>emb_007</th>\n",
       "      <th>NAICS_orig</th>\n",
       "    </tr>\n",
       "  </thead>\n",
       "  <tbody>\n",
       "    <tr>\n",
       "      <th>0</th>\n",
       "      <td>n_722410</td>\n",
       "      <td>-0.243578</td>\n",
       "      <td>0.215951</td>\n",
       "      <td>0.223025</td>\n",
       "      <td>0.260557</td>\n",
       "      <td>0.485944</td>\n",
       "      <td>0.446704</td>\n",
       "      <td>0.348510</td>\n",
       "      <td>0.468251</td>\n",
       "      <td>722410</td>\n",
       "    </tr>\n",
       "    <tr>\n",
       "      <th>1</th>\n",
       "      <td>n_332721</td>\n",
       "      <td>-0.294666</td>\n",
       "      <td>0.261245</td>\n",
       "      <td>0.269802</td>\n",
       "      <td>0.315206</td>\n",
       "      <td>0.594184</td>\n",
       "      <td>0.532263</td>\n",
       "      <td>0.113533</td>\n",
       "      <td>0.153386</td>\n",
       "      <td>332721</td>\n",
       "    </tr>\n",
       "    <tr>\n",
       "      <th>2</th>\n",
       "      <td>n_445299</td>\n",
       "      <td>-0.261981</td>\n",
       "      <td>0.232267</td>\n",
       "      <td>0.239875</td>\n",
       "      <td>0.280243</td>\n",
       "      <td>-0.307289</td>\n",
       "      <td>0.464032</td>\n",
       "      <td>-0.525024</td>\n",
       "      <td>0.394891</td>\n",
       "      <td>445299</td>\n",
       "    </tr>\n",
       "    <tr>\n",
       "      <th>3</th>\n",
       "      <td>n_441120</td>\n",
       "      <td>-0.273555</td>\n",
       "      <td>0.242528</td>\n",
       "      <td>0.250472</td>\n",
       "      <td>0.292623</td>\n",
       "      <td>-0.102607</td>\n",
       "      <td>0.495267</td>\n",
       "      <td>-0.415731</td>\n",
       "      <td>0.537897</td>\n",
       "      <td>441120</td>\n",
       "    </tr>\n",
       "    <tr>\n",
       "      <th>4</th>\n",
       "      <td>n_512110</td>\n",
       "      <td>-0.276371</td>\n",
       "      <td>0.245025</td>\n",
       "      <td>0.253051</td>\n",
       "      <td>0.295636</td>\n",
       "      <td>0.243123</td>\n",
       "      <td>0.502495</td>\n",
       "      <td>0.304175</td>\n",
       "      <td>0.554990</td>\n",
       "      <td>512110</td>\n",
       "    </tr>\n",
       "  </tbody>\n",
       "</table>\n",
       "</div>"
      ],
      "text/plain": [
       "     source   emb_000   emb_001   emb_002   emb_003   emb_004   emb_005  \\\n",
       "0  n_722410 -0.243578  0.215951  0.223025  0.260557  0.485944  0.446704   \n",
       "1  n_332721 -0.294666  0.261245  0.269802  0.315206  0.594184  0.532263   \n",
       "2  n_445299 -0.261981  0.232267  0.239875  0.280243 -0.307289  0.464032   \n",
       "3  n_441120 -0.273555  0.242528  0.250472  0.292623 -0.102607  0.495267   \n",
       "4  n_512110 -0.276371  0.245025  0.253051  0.295636  0.243123  0.502495   \n",
       "\n",
       "    emb_006   emb_007 NAICS_orig  \n",
       "0  0.348510  0.468251     722410  \n",
       "1  0.113533  0.153386     332721  \n",
       "2 -0.525024  0.394891     445299  \n",
       "3 -0.415731  0.537897     441120  \n",
       "4  0.304175  0.554990     512110  "
      ]
     },
     "execution_count": 36,
     "metadata": {},
     "output_type": "execute_result"
    }
   ],
   "source": [
    "embed_df.head()"
   ]
  },
  {
   "cell_type": "code",
   "execution_count": 37,
   "id": "69d1fd20-9296-4060-8322-692149353661",
   "metadata": {},
   "outputs": [],
   "source": [
    "embed_df.to_parquet(Path(setup.temp_path).joinpath('33_DATA_embeddings.parquet'))"
   ]
  },
  {
   "cell_type": "code",
   "execution_count": null,
   "id": "fe47a3e5-3024-40a5-9d15-7bb0977c8502",
   "metadata": {},
   "outputs": [],
   "source": []
  }
 ],
 "metadata": {
  "kernelspec": {
   "display_name": "tf_p39",
   "language": "python",
   "name": "tf_p39"
  },
  "language_info": {
   "codemirror_mode": {
    "name": "ipython",
    "version": 3
   },
   "file_extension": ".py",
   "mimetype": "text/x-python",
   "name": "python",
   "nbconvert_exporter": "python",
   "pygments_lexer": "ipython3",
   "version": "3.8.18"
  }
 },
 "nbformat": 4,
 "nbformat_minor": 5
}
