{
 "cells": [
  {
   "cell_type": "code",
   "execution_count": 1,
   "id": "fd5142ad-a572-4168-b681-b2fc476832ff",
   "metadata": {
    "tags": []
   },
   "outputs": [],
   "source": [
    "# Modify the file 00_setup.py to define input/output file paths on your system\n",
    "# The information in 00_setup.py will be used across notebooks\n",
    "from importlib.machinery import SourceFileLoader\n",
    "setup = SourceFileLoader(\"setup\", \"./00_setup.py\").load_module()"
   ]
  },
  {
   "cell_type": "markdown",
   "id": "f953ab39-6cb2-41cc-bb3c-8d8daf57c210",
   "metadata": {},
   "source": [
    "# GNN - Unsupervised Model"
   ]
  },
  {
   "cell_type": "markdown",
   "id": "28878d00-d46c-43ef-98ab-68823bdda2d0",
   "metadata": {},
   "source": [
    "Deep Graph Infomax via HinSage for a graph consisting of train and validation data only (original features)"
   ]
  },
  {
   "cell_type": "markdown",
   "id": "c313c044-8dbf-4b50-89ea-9e8f55ebd6c3",
   "metadata": {},
   "source": [
    "The unsupervised model has both business and NAICS nodes, and uses NAICS nodes as the head type."
   ]
  },
  {
   "cell_type": "markdown",
   "id": "d16d66bf-b383-4078-99e9-7c039b4be356",
   "metadata": {},
   "source": [
    "*This script takes about 30 minutes on my MacBook Air*"
   ]
  },
  {
   "cell_type": "code",
   "execution_count": 2,
   "id": "52887f3a-b4a8-43b6-ac6d-bb6a1e7ec0fa",
   "metadata": {},
   "outputs": [],
   "source": [
    "import pandas as pd\n",
    "import numpy as np"
   ]
  },
  {
   "cell_type": "code",
   "execution_count": 3,
   "id": "2141b963-4f15-477a-9f43-bdba4de14bc9",
   "metadata": {},
   "outputs": [],
   "source": [
    "from pathlib import Path\n",
    "import importlib\n",
    "import pickle, re"
   ]
  },
  {
   "cell_type": "code",
   "execution_count": 4,
   "id": "16fac673-6afd-46ba-96d0-422c2aad5bfd",
   "metadata": {},
   "outputs": [
    {
     "name": "stderr",
     "output_type": "stream",
     "text": [
      "2024-02-24 21:45:04.928919: I metal_plugin/src/device/metal_device.cc:1154] Metal device set to: Apple M1\n",
      "2024-02-24 21:45:04.928955: I metal_plugin/src/device/metal_device.cc:296] systemMemory: 16.00 GB\n",
      "2024-02-24 21:45:04.928965: I metal_plugin/src/device/metal_device.cc:313] maxCacheSize: 5.33 GB\n",
      "2024-02-24 21:45:04.929026: I tensorflow/core/common_runtime/pluggable_device/pluggable_device_factory.cc:303] Could not identify NUMA node of platform GPU ID 0, defaulting to 0. Your kernel may not have been built with NUMA support.\n",
      "2024-02-24 21:45:04.929055: I tensorflow/core/common_runtime/pluggable_device/pluggable_device_factory.cc:269] Created TensorFlow device (/job:localhost/replica:0/task:0/device:GPU:0 with 0 MB memory) -> physical PluggableDevice (device: 0, name: METAL, pci bus id: <undefined>)\n"
     ]
    }
   ],
   "source": [
    "import stellargraph as sg\n",
    "from stellargraph import StellarGraph\n",
    "from stellargraph.layer import HinSAGE, DeepGraphInfomax\n",
    "from stellargraph.mapper import HinSAGENodeGenerator, CorruptedGenerator\n",
    "\n",
    "from tensorflow.keras import layers, optimizers, losses, metrics, Model\n",
    "from sklearn import preprocessing, feature_extraction, model_selection\n",
    "from tensorflow.keras.callbacks import EarlyStopping\n",
    "\n",
    "import keras\n",
    "import tensorflow.keras.metrics as km\n",
    "from keras import initializers\n",
    "import tensorflow as tf"
   ]
  },
  {
   "cell_type": "code",
   "execution_count": 5,
   "id": "ac51eb62-a3dd-4976-b5c0-3030eec5fae8",
   "metadata": {},
   "outputs": [],
   "source": [
    "from sklearn.model_selection import train_test_split"
   ]
  },
  {
   "cell_type": "markdown",
   "id": "b6099e7c-b87f-4329-9e8d-6834022b6cd3",
   "metadata": {},
   "source": [
    "## Import Data"
   ]
  },
  {
   "cell_type": "code",
   "execution_count": 6,
   "id": "1c0de590-8299-4dc1-b9d7-b4ccd811f8a5",
   "metadata": {},
   "outputs": [],
   "source": [
    "# Training and validation clients - monitor training on val clients\n",
    "with open(Path(setup.temp_path).joinpath('30_DATA_stellargraph_train_val.pkl'), 'rb') as fin:\n",
    "      sba_graph  = pickle.load(fin)"
   ]
  },
  {
   "cell_type": "code",
   "execution_count": 7,
   "id": "8d4a5133-6234-4c44-8001-1225a6e5f67a",
   "metadata": {},
   "outputs": [],
   "source": [
    "# NAICS info\n",
    "features_naics = pd.read_parquet(Path(setup.temp_path).joinpath('30_DATA_graph_node_features_naics.parquet')) "
   ]
  },
  {
   "cell_type": "markdown",
   "id": "acbfbbd0-e53e-4d5e-a980-5be8efece555",
   "metadata": {},
   "source": [
    "## Model"
   ]
  },
  {
   "cell_type": "markdown",
   "id": "0901ba23-4af2-46db-8b36-4eff21e5ad7e",
   "metadata": {},
   "source": [
    "##### Split the NAICS nodes for fitting"
   ]
  },
  {
   "cell_type": "code",
   "execution_count": 8,
   "id": "c8a829d2-03d6-4ec8-ada4-498458895b88",
   "metadata": {},
   "outputs": [],
   "source": [
    "naics_nodes = sba_graph.nodes(node_type='NAICS')"
   ]
  },
  {
   "cell_type": "code",
   "execution_count": 9,
   "id": "c9c41482-ad16-48ce-a081-359196d3aca7",
   "metadata": {},
   "outputs": [],
   "source": [
    "train_index, val_index = train_test_split(naics_nodes, train_size=0.8, random_state = 756)"
   ]
  },
  {
   "cell_type": "markdown",
   "id": "a8a6b89c-56ac-4a7f-84eb-6838ebd507d4",
   "metadata": {},
   "source": [
    "##### Set seeds to setup"
   ]
  },
  {
   "cell_type": "code",
   "execution_count": 10,
   "id": "fd5973b0-415b-453c-be2e-2ffaad13c79c",
   "metadata": {},
   "outputs": [],
   "source": [
    "# Set some seeds\n",
    "np.random.seed(16)\n",
    "tf.random.set_seed(16)\n",
    "sg.random.set_seed(4345)"
   ]
  },
  {
   "cell_type": "markdown",
   "id": "66e2cd18-1204-4b22-b09c-50e94c31198c",
   "metadata": {},
   "source": [
    "##### HinSage Model"
   ]
  },
  {
   "cell_type": "code",
   "execution_count": 11,
   "id": "b9e4f62e-3c1c-4686-a563-ddde99398269",
   "metadata": {},
   "outputs": [],
   "source": [
    "generator = HinSAGENodeGenerator(sba_graph, batch_size=setup.gnn_batch_size, \n",
    "                                 num_samples=setup.gnn_unsup_num_samples,\n",
    "                                 head_node_type='NAICS',\n",
    "                                 seed=2454)"
   ]
  },
  {
   "cell_type": "code",
   "execution_count": 12,
   "id": "f82b06d2-958f-49c9-a058-439cf7a707bc",
   "metadata": {},
   "outputs": [],
   "source": [
    "graphsage_model = HinSAGE(\n",
    "    layer_sizes=setup.gnn_unsup_layer_sizes, generator=generator, \n",
    "    activations=setup.gnn_unsup_activations,\n",
    "    bias=True, dropout=setup.gnn_unsup_dropout,\n",
    ")"
   ]
  },
  {
   "cell_type": "markdown",
   "id": "3ae2f2f6-2676-44ec-a6ad-ef8f4054fc7d",
   "metadata": {},
   "source": [
    "##### Deep Graph Infomax"
   ]
  },
  {
   "cell_type": "code",
   "execution_count": 13,
   "id": "9ba5b06d-3964-4abd-9e6b-0059067b3006",
   "metadata": {},
   "outputs": [],
   "source": [
    "corrupted_generator = CorruptedGenerator(generator)"
   ]
  },
  {
   "cell_type": "code",
   "execution_count": 14,
   "id": "0b0846ad-6038-46d6-bc61-049fc07b490d",
   "metadata": {},
   "outputs": [],
   "source": [
    "train_flow_corr = corrupted_generator.flow(train_index, shuffle=True)\n",
    "val_flow_corr = corrupted_generator.flow(val_index, shuffle=False)"
   ]
  },
  {
   "cell_type": "code",
   "execution_count": 15,
   "id": "537322b1-3dfc-487e-9c26-c6ac9ba346db",
   "metadata": {},
   "outputs": [
    {
     "name": "stderr",
     "output_type": "stream",
     "text": [
      "/Users/valeriecarey/miniconda3/envs/tf_p38/lib/python3.8/site-packages/keras/src/initializers/initializers.py:120: UserWarning: The initializer GlorotUniform is unseeded and being called multiple times, which will return identical values each time (even if the initializer is unseeded). Please update your code to provide a seed to the initializer, or avoid using the same initializer instance more than once.\n",
      "  warnings.warn(\n"
     ]
    }
   ],
   "source": [
    "infomax = DeepGraphInfomax(graphsage_model, corrupted_generator)\n",
    "x_in, x_out = infomax.in_out_tensors()\n",
    "\n",
    "optimizer = setup.gnn_optimizer(learning_rate=setup.gnn_unsup_learning_rate)\n",
    "model = Model(inputs=x_in, outputs=x_out)\n",
    "model.compile(loss=tf.nn.sigmoid_cross_entropy_with_logits, optimizer=optimizer)"
   ]
  },
  {
   "cell_type": "markdown",
   "id": "9bd37d78-bfdf-4c0c-aabe-5faff3f4e15b",
   "metadata": {},
   "source": [
    "## Train"
   ]
  },
  {
   "cell_type": "code",
   "execution_count": 16,
   "id": "62e08aee-14c1-4510-bf0a-e8b3b484e7b6",
   "metadata": {},
   "outputs": [
    {
     "name": "stdout",
     "output_type": "stream",
     "text": [
      "Epoch 1/100\n"
     ]
    },
    {
     "name": "stderr",
     "output_type": "stream",
     "text": [
      "2024-02-24 21:48:42.079339: I tensorflow/core/grappler/optimizers/custom_graph_optimizer_registry.cc:114] Plugin optimizer for device_type GPU is enabled.\n",
      "2024-02-24 21:48:43.505273: I tensorflow/core/grappler/optimizers/custom_graph_optimizer_registry.cc:114] Plugin optimizer for device_type GPU is enabled.\n"
     ]
    },
    {
     "name": "stdout",
     "output_type": "stream",
     "text": [
      "31/31 - 2s - loss: 0.6983 - val_loss: 0.6934 - 2s/epoch - 72ms/step\n",
      "Epoch 2/100\n",
      "31/31 - 1s - loss: 0.6897 - val_loss: 0.6876 - 737ms/epoch - 24ms/step\n",
      "Epoch 3/100\n",
      "31/31 - 1s - loss: 0.6817 - val_loss: 0.6766 - 692ms/epoch - 22ms/step\n",
      "Epoch 4/100\n",
      "31/31 - 1s - loss: 0.6593 - val_loss: 0.6380 - 683ms/epoch - 22ms/step\n",
      "Epoch 5/100\n",
      "31/31 - 1s - loss: 0.6320 - val_loss: 0.6217 - 813ms/epoch - 26ms/step\n",
      "Epoch 6/100\n",
      "31/31 - 1s - loss: 0.5983 - val_loss: 0.6152 - 691ms/epoch - 22ms/step\n",
      "Epoch 7/100\n",
      "31/31 - 1s - loss: 0.5981 - val_loss: 0.6077 - 695ms/epoch - 22ms/step\n",
      "Epoch 8/100\n",
      "31/31 - 1s - loss: 0.5780 - val_loss: 0.5767 - 684ms/epoch - 22ms/step\n",
      "Epoch 9/100\n",
      "31/31 - 1s - loss: 0.5570 - val_loss: 0.5634 - 676ms/epoch - 22ms/step\n",
      "Epoch 10/100\n",
      "31/31 - 1s - loss: 0.5431 - val_loss: 0.5712 - 710ms/epoch - 23ms/step\n",
      "Epoch 11/100\n",
      "31/31 - 1s - loss: 0.5280 - val_loss: 0.5290 - 707ms/epoch - 23ms/step\n",
      "Epoch 12/100\n",
      "31/31 - 1s - loss: 0.5278 - val_loss: 0.5285 - 683ms/epoch - 22ms/step\n",
      "Epoch 13/100\n",
      "31/31 - 1s - loss: 0.5101 - val_loss: 0.5475 - 691ms/epoch - 22ms/step\n",
      "Epoch 14/100\n",
      "31/31 - 1s - loss: 0.5208 - val_loss: 0.5087 - 671ms/epoch - 22ms/step\n",
      "Epoch 15/100\n",
      "31/31 - 1s - loss: 0.5001 - val_loss: 0.5102 - 675ms/epoch - 22ms/step\n",
      "Epoch 16/100\n",
      "31/31 - 1s - loss: 0.4778 - val_loss: 0.5006 - 657ms/epoch - 21ms/step\n",
      "Epoch 17/100\n",
      "31/31 - 1s - loss: 0.4707 - val_loss: 0.4985 - 677ms/epoch - 22ms/step\n",
      "Epoch 18/100\n",
      "31/31 - 1s - loss: 0.4556 - val_loss: 0.4787 - 767ms/epoch - 25ms/step\n",
      "Epoch 19/100\n",
      "31/31 - 1s - loss: 0.4498 - val_loss: 0.4973 - 687ms/epoch - 22ms/step\n",
      "Epoch 20/100\n",
      "31/31 - 1s - loss: 0.4831 - val_loss: 0.4736 - 666ms/epoch - 21ms/step\n",
      "Epoch 21/100\n",
      "31/31 - 1s - loss: 0.4473 - val_loss: 0.4403 - 699ms/epoch - 23ms/step\n",
      "Epoch 22/100\n",
      "31/31 - 1s - loss: 0.4381 - val_loss: 0.4929 - 732ms/epoch - 24ms/step\n",
      "Epoch 23/100\n",
      "31/31 - 1s - loss: 0.4349 - val_loss: 0.4536 - 695ms/epoch - 22ms/step\n",
      "Epoch 24/100\n",
      "31/31 - 1s - loss: 0.4293 - val_loss: 0.4804 - 770ms/epoch - 25ms/step\n",
      "Epoch 25/100\n",
      "31/31 - 1s - loss: 0.4243 - val_loss: 0.4418 - 922ms/epoch - 30ms/step\n",
      "Epoch 26/100\n",
      "31/31 - 1s - loss: 0.4326 - val_loss: 0.4348 - 890ms/epoch - 29ms/step\n",
      "Epoch 27/100\n",
      "31/31 - 1s - loss: 0.4147 - val_loss: 0.5098 - 715ms/epoch - 23ms/step\n",
      "Epoch 28/100\n",
      "31/31 - 1s - loss: 0.4075 - val_loss: 0.4302 - 685ms/epoch - 22ms/step\n",
      "Epoch 29/100\n",
      "31/31 - 1s - loss: 0.4134 - val_loss: 0.4473 - 719ms/epoch - 23ms/step\n",
      "Epoch 30/100\n",
      "31/31 - 1s - loss: 0.3990 - val_loss: 0.4219 - 668ms/epoch - 22ms/step\n",
      "Epoch 31/100\n",
      "31/31 - 1s - loss: 0.3987 - val_loss: 0.4333 - 672ms/epoch - 22ms/step\n",
      "Epoch 32/100\n",
      "31/31 - 1s - loss: 0.3966 - val_loss: 0.4221 - 672ms/epoch - 22ms/step\n",
      "Epoch 33/100\n",
      "31/31 - 1s - loss: 0.3951 - val_loss: 0.4228 - 754ms/epoch - 24ms/step\n",
      "Epoch 34/100\n",
      "31/31 - 1s - loss: 0.3918 - val_loss: 0.4132 - 728ms/epoch - 23ms/step\n",
      "Epoch 35/100\n",
      "31/31 - 1s - loss: 0.3877 - val_loss: 0.4226 - 664ms/epoch - 21ms/step\n",
      "Epoch 36/100\n",
      "31/31 - 1s - loss: 0.3861 - val_loss: 0.4280 - 673ms/epoch - 22ms/step\n",
      "Epoch 37/100\n",
      "31/31 - 1s - loss: 0.3824 - val_loss: 0.3806 - 747ms/epoch - 24ms/step\n",
      "Epoch 38/100\n",
      "31/31 - 1s - loss: 0.3640 - val_loss: 0.3900 - 713ms/epoch - 23ms/step\n",
      "Epoch 39/100\n",
      "31/31 - 1s - loss: 0.3786 - val_loss: 0.4096 - 701ms/epoch - 23ms/step\n",
      "Epoch 40/100\n",
      "31/31 - 1s - loss: 0.3742 - val_loss: 0.4141 - 753ms/epoch - 24ms/step\n",
      "Epoch 41/100\n",
      "31/31 - 1s - loss: 0.3893 - val_loss: 0.4108 - 825ms/epoch - 27ms/step\n",
      "Epoch 42/100\n",
      "31/31 - 1s - loss: 0.3720 - val_loss: 0.4082 - 940ms/epoch - 30ms/step\n",
      "Epoch 43/100\n",
      "31/31 - 1s - loss: 0.3583 - val_loss: 0.3749 - 1s/epoch - 33ms/step\n",
      "Epoch 44/100\n",
      "31/31 - 1s - loss: 0.3642 - val_loss: 0.3771 - 676ms/epoch - 22ms/step\n",
      "Epoch 45/100\n",
      "31/31 - 1s - loss: 0.3533 - val_loss: 0.3755 - 664ms/epoch - 21ms/step\n",
      "Epoch 46/100\n",
      "31/31 - 1s - loss: 0.3492 - val_loss: 0.3805 - 730ms/epoch - 24ms/step\n",
      "Epoch 47/100\n",
      "31/31 - 1s - loss: 0.3484 - val_loss: 0.3734 - 669ms/epoch - 22ms/step\n",
      "Epoch 48/100\n",
      "31/31 - 1s - loss: 0.3479 - val_loss: 0.3628 - 665ms/epoch - 21ms/step\n",
      "Epoch 49/100\n",
      "31/31 - 1s - loss: 0.3654 - val_loss: 0.3753 - 696ms/epoch - 22ms/step\n",
      "Epoch 50/100\n",
      "31/31 - 1s - loss: 0.3459 - val_loss: 0.3714 - 670ms/epoch - 22ms/step\n",
      "Epoch 51/100\n",
      "31/31 - 1s - loss: 0.3513 - val_loss: 0.3599 - 673ms/epoch - 22ms/step\n",
      "Epoch 52/100\n",
      "31/31 - 1s - loss: 0.3273 - val_loss: 0.3097 - 685ms/epoch - 22ms/step\n",
      "Epoch 53/100\n",
      "31/31 - 1s - loss: 0.3190 - val_loss: 0.2995 - 683ms/epoch - 22ms/step\n",
      "Epoch 54/100\n",
      "31/31 - 1s - loss: 0.3064 - val_loss: 0.3268 - 719ms/epoch - 23ms/step\n",
      "Epoch 55/100\n",
      "31/31 - 1s - loss: 0.2987 - val_loss: 0.2998 - 705ms/epoch - 23ms/step\n",
      "Epoch 56/100\n",
      "31/31 - 1s - loss: 0.3013 - val_loss: 0.2900 - 707ms/epoch - 23ms/step\n",
      "Epoch 57/100\n",
      "31/31 - 1s - loss: 0.2813 - val_loss: 0.2635 - 732ms/epoch - 24ms/step\n",
      "Epoch 58/100\n",
      "31/31 - 1s - loss: 0.2610 - val_loss: 0.2494 - 679ms/epoch - 22ms/step\n",
      "Epoch 59/100\n",
      "31/31 - 1s - loss: 0.2576 - val_loss: 0.2692 - 678ms/epoch - 22ms/step\n",
      "Epoch 60/100\n",
      "31/31 - 1s - loss: 0.2528 - val_loss: 0.2802 - 665ms/epoch - 21ms/step\n",
      "Epoch 61/100\n",
      "31/31 - 1s - loss: 0.2347 - val_loss: 0.2335 - 672ms/epoch - 22ms/step\n",
      "Epoch 62/100\n",
      "31/31 - 1s - loss: 0.2335 - val_loss: 0.2525 - 681ms/epoch - 22ms/step\n",
      "Epoch 63/100\n",
      "31/31 - 1s - loss: 0.2163 - val_loss: 0.2252 - 671ms/epoch - 22ms/step\n",
      "Epoch 64/100\n",
      "31/31 - 1s - loss: 0.2108 - val_loss: 0.2317 - 679ms/epoch - 22ms/step\n",
      "Epoch 65/100\n",
      "31/31 - 1s - loss: 0.2139 - val_loss: 0.2055 - 666ms/epoch - 21ms/step\n",
      "Epoch 66/100\n",
      "31/31 - 1s - loss: 0.2155 - val_loss: 0.1974 - 677ms/epoch - 22ms/step\n",
      "Epoch 67/100\n",
      "31/31 - 1s - loss: 0.2070 - val_loss: 0.2201 - 696ms/epoch - 22ms/step\n",
      "Epoch 68/100\n",
      "31/31 - 1s - loss: 0.1954 - val_loss: 0.1932 - 762ms/epoch - 25ms/step\n",
      "Epoch 69/100\n",
      "31/31 - 1s - loss: 0.1922 - val_loss: 0.1777 - 672ms/epoch - 22ms/step\n",
      "Epoch 70/100\n",
      "31/31 - 1s - loss: 0.1885 - val_loss: 0.1770 - 699ms/epoch - 23ms/step\n",
      "Epoch 71/100\n",
      "31/31 - 1s - loss: 0.1892 - val_loss: 0.1743 - 681ms/epoch - 22ms/step\n",
      "Epoch 72/100\n",
      "31/31 - 1s - loss: 0.1941 - val_loss: 0.1721 - 665ms/epoch - 21ms/step\n",
      "Epoch 73/100\n",
      "31/31 - 1s - loss: 0.1771 - val_loss: 0.1698 - 670ms/epoch - 22ms/step\n",
      "Epoch 74/100\n",
      "31/31 - 1s - loss: 0.1727 - val_loss: 0.1583 - 673ms/epoch - 22ms/step\n",
      "Epoch 75/100\n",
      "31/31 - 1s - loss: 0.1803 - val_loss: 0.1686 - 676ms/epoch - 22ms/step\n",
      "Epoch 76/100\n",
      "31/31 - 1s - loss: 0.1648 - val_loss: 0.1569 - 674ms/epoch - 22ms/step\n",
      "Epoch 77/100\n",
      "31/31 - 1s - loss: 0.1657 - val_loss: 0.1665 - 673ms/epoch - 22ms/step\n",
      "Epoch 78/100\n",
      "31/31 - 1s - loss: 0.1660 - val_loss: 0.1776 - 677ms/epoch - 22ms/step\n",
      "Epoch 79/100\n",
      "31/31 - 1s - loss: 0.1726 - val_loss: 0.1674 - 671ms/epoch - 22ms/step\n",
      "Epoch 80/100\n",
      "31/31 - 1s - loss: 0.1720 - val_loss: 0.1463 - 687ms/epoch - 22ms/step\n",
      "Epoch 81/100\n",
      "31/31 - 1s - loss: 0.1517 - val_loss: 0.1785 - 668ms/epoch - 22ms/step\n",
      "Epoch 82/100\n",
      "31/31 - 1s - loss: 0.1621 - val_loss: 0.1713 - 683ms/epoch - 22ms/step\n",
      "Epoch 83/100\n",
      "31/31 - 1s - loss: 0.1616 - val_loss: 0.1733 - 675ms/epoch - 22ms/step\n",
      "Epoch 84/100\n",
      "31/31 - 1s - loss: 0.1528 - val_loss: 0.1417 - 688ms/epoch - 22ms/step\n",
      "Epoch 85/100\n",
      "31/31 - 1s - loss: 0.1487 - val_loss: 0.1459 - 684ms/epoch - 22ms/step\n",
      "Epoch 86/100\n",
      "31/31 - 1s - loss: 0.1556 - val_loss: 0.1425 - 669ms/epoch - 22ms/step\n",
      "Epoch 87/100\n",
      "31/31 - 1s - loss: 0.1535 - val_loss: 0.1432 - 655ms/epoch - 21ms/step\n",
      "Epoch 88/100\n",
      "31/31 - 1s - loss: 0.1500 - val_loss: 0.1522 - 658ms/epoch - 21ms/step\n",
      "Epoch 89/100\n",
      "31/31 - 1s - loss: 0.1610 - val_loss: 0.1349 - 666ms/epoch - 21ms/step\n",
      "Epoch 90/100\n",
      "31/31 - 1s - loss: 0.1521 - val_loss: 0.1483 - 674ms/epoch - 22ms/step\n",
      "Epoch 91/100\n",
      "31/31 - 1s - loss: 0.1553 - val_loss: 0.1563 - 685ms/epoch - 22ms/step\n",
      "Epoch 92/100\n",
      "31/31 - 1s - loss: 0.1370 - val_loss: 0.1465 - 670ms/epoch - 22ms/step\n",
      "Epoch 93/100\n",
      "31/31 - 1s - loss: 0.1400 - val_loss: 0.1438 - 712ms/epoch - 23ms/step\n",
      "Epoch 94/100\n",
      "31/31 - 1s - loss: 0.1383 - val_loss: 0.1653 - 718ms/epoch - 23ms/step\n",
      "Epoch 95/100\n",
      "31/31 - 1s - loss: 0.1449 - val_loss: 0.1487 - 744ms/epoch - 24ms/step\n",
      "Epoch 96/100\n",
      "31/31 - 1s - loss: 0.1493 - val_loss: 0.1424 - 741ms/epoch - 24ms/step\n",
      "Epoch 97/100\n",
      "31/31 - 1s - loss: 0.1319 - val_loss: 0.1546 - 788ms/epoch - 25ms/step\n",
      "Epoch 98/100\n",
      "31/31 - 1s - loss: 0.1308 - val_loss: 0.1222 - 734ms/epoch - 24ms/step\n",
      "Epoch 99/100\n",
      "31/31 - 1s - loss: 0.1398 - val_loss: 0.1557 - 674ms/epoch - 22ms/step\n",
      "Epoch 100/100\n",
      "31/31 - 1s - loss: 0.1394 - val_loss: 0.1509 - 656ms/epoch - 21ms/step\n"
     ]
    }
   ],
   "source": [
    "es = EarlyStopping(monitor=\"loss\", min_delta=0, patience=20)\n",
    "history = model.fit(train_flow_corr, epochs=setup.gnn_unsup_epochs, verbose=2, callbacks=[es],\n",
    "                   validation_data = val_flow_corr)"
   ]
  },
  {
   "cell_type": "code",
   "execution_count": 17,
   "id": "5714c056-83a6-4152-a3c6-e3c9fe8e1420",
   "metadata": {},
   "outputs": [],
   "source": [
    "# Tensorflow save format to work around issue \n",
    "# https://github.com/tensorflow/tensorflow/issues/46659\n",
    "model.save(Path(setup.temp_path).joinpath('31_DATA_model_corrupted.keras'), save_format='tf')"
   ]
  },
  {
   "cell_type": "markdown",
   "id": "42cc2770-2599-4326-b9f9-2163c4448027",
   "metadata": {},
   "source": [
    "##### History Plots"
   ]
  },
  {
   "cell_type": "code",
   "execution_count": 18,
   "id": "fdb54aa5-0060-4cc2-8e71-d07ead44b775",
   "metadata": {},
   "outputs": [],
   "source": [
    "this_history_df = pd.DataFrame(history.history)"
   ]
  },
  {
   "cell_type": "code",
   "execution_count": 19,
   "id": "ad4783f2-8d0b-4850-a45a-3a4be8e63318",
   "metadata": {},
   "outputs": [],
   "source": [
    "this_history_df.to_csv(Path(setup.temp_path).joinpath('31_REPORT_fit_history.csv'))"
   ]
  },
  {
   "cell_type": "code",
   "execution_count": 20,
   "id": "73e89efd-75a9-4b27-81a8-13e12d5482be",
   "metadata": {
    "tags": []
   },
   "outputs": [
    {
     "data": {
      "text/plain": [
       "<Axes: >"
      ]
     },
     "execution_count": 20,
     "metadata": {},
     "output_type": "execute_result"
    },
    {
     "data": {
      "image/png": "[encoded data removed]",
      "text/plain": [
       "<Figure size 640x480 with 1 Axes>"
      ]
     },
     "metadata": {},
     "output_type": "display_data"
    }
   ],
   "source": [
    "this_history_df[['loss', 'val_loss']].plot()"
   ]
  },
  {
   "cell_type": "code",
   "execution_count": 21,
   "id": "e8353258-5212-45ad-9e60-7ee9dd6ab498",
   "metadata": {},
   "outputs": [
    {
     "name": "stdout",
     "output_type": "stream",
     "text": [
      "Model: \"model\"\n",
      "__________________________________________________________________________________________________\n",
      " Layer (type)                Output Shape                 Param #   Connected to                  \n",
      "==================================================================================================\n",
      " input_2 (InputLayer)        [(None, 100, 10)]            0         []                            \n",
      "                                                                                                  \n",
      " input_3 (InputLayer)        [(None, 100, 10)]            0         []                            \n",
      "                                                                                                  \n",
      " input_1 (InputLayer)        [(None, 1, 1)]               0         []                            \n",
      "                                                                                                  \n",
      " reshape (Reshape)           (None, 1, 100, 10)           0         ['input_2[0][0]']             \n",
      "                                                                                                  \n",
      " reshape_1 (Reshape)         (None, 1, 100, 10)           0         ['input_3[0][0]']             \n",
      "                                                                                                  \n",
      " input_5 (InputLayer)        [(None, 100, 10)]            0         []                            \n",
      "                                                                                                  \n",
      " input_6 (InputLayer)        [(None, 100, 10)]            0         []                            \n",
      "                                                                                                  \n",
      " dropout_2 (Dropout)         (None, 1, 1)                 0         ['input_1[0][0]']             \n",
      "                                                                                                  \n",
      " dropout (Dropout)           (None, 1, 100, 10)           0         ['reshape[0][0]']             \n",
      "                                                                                                  \n",
      " dropout_1 (Dropout)         (None, 1, 100, 10)           0         ['reshape_1[0][0]']           \n",
      "                                                                                                  \n",
      " input_4 (InputLayer)        [(None, 1, 1)]               0         []                            \n",
      "                                                                                                  \n",
      " reshape_3 (Reshape)         (None, 1, 100, 10)           0         ['input_5[0][0]']             \n",
      "                                                                                                  \n",
      " reshape_4 (Reshape)         (None, 1, 100, 10)           0         ['input_6[0][0]']             \n",
      "                                                                                                  \n",
      " mean_hin_aggregator (MeanH  (None, 1, 8)                 92        ['dropout_2[0][0]',           \n",
      " inAggregator)                                                       'dropout[0][0]',             \n",
      "                                                                     'dropout_1[0][0]',           \n",
      "                                                                     'dropout_5[0][0]',           \n",
      "                                                                     'dropout_3[0][0]',           \n",
      "                                                                     'dropout_4[0][0]']           \n",
      "                                                                                                  \n",
      " dropout_5 (Dropout)         (None, 1, 1)                 0         ['input_4[0][0]']             \n",
      "                                                                                                  \n",
      " dropout_3 (Dropout)         (None, 1, 100, 10)           0         ['reshape_3[0][0]']           \n",
      "                                                                                                  \n",
      " dropout_4 (Dropout)         (None, 1, 100, 10)           0         ['reshape_4[0][0]']           \n",
      "                                                                                                  \n",
      " reshape_2 (Reshape)         (None, 8)                    0         ['mean_hin_aggregator[0][0]'] \n",
      "                                                                                                  \n",
      " lambda (Lambda)             (None, 8)                    0         ['reshape_2[0][0]',           \n",
      "                                                                     'reshape_5[0][0]']           \n",
      "                                                                                                  \n",
      " reshape_5 (Reshape)         (None, 8)                    0         ['mean_hin_aggregator[1][0]'] \n",
      "                                                                                                  \n",
      " dgi_readout (DGIReadout)    (8,)                         0         ['lambda[0][0]']              \n",
      "                                                                                                  \n",
      " dgi_discriminator (DGIDisc  (None,)                      64        ['lambda[0][0]',              \n",
      " riminator)                                                          'dgi_readout[0][0]',         \n",
      "                                                                     'lambda[1][0]',              \n",
      "                                                                     'dgi_readout[0][0]']         \n",
      "                                                                                                  \n",
      " tf.stack (TFOpLambda)       (None, 2)                    0         ['dgi_discriminator[0][0]',   \n",
      "                                                                     'dgi_discriminator[1][0]']   \n",
      "                                                                                                  \n",
      "==================================================================================================\n",
      "Total params: 156 (624.00 Byte)\n",
      "Trainable params: 156 (624.00 Byte)\n",
      "Non-trainable params: 0 (0.00 Byte)\n",
      "__________________________________________________________________________________________________\n"
     ]
    }
   ],
   "source": [
    "model.summary()"
   ]
  },
  {
   "cell_type": "markdown",
   "id": "9d5c0c3d-e4d1-4500-9129-b9d00346b13d",
   "metadata": {},
   "source": [
    "## Base Model Info"
   ]
  },
  {
   "cell_type": "code",
   "execution_count": 22,
   "id": "704a3af2-44ae-43bb-8098-1b2b8d0c8d3e",
   "metadata": {},
   "outputs": [],
   "source": [
    "x_inp, x_out = graphsage_model.in_out_tensors()"
   ]
  },
  {
   "cell_type": "code",
   "execution_count": 23,
   "id": "dce36e2f-d8c3-41da-a640-b657c1b15c3f",
   "metadata": {},
   "outputs": [],
   "source": [
    "graphsage_keras = Model(inputs=x_inp, outputs=x_out)"
   ]
  },
  {
   "cell_type": "code",
   "execution_count": 24,
   "id": "d4b097a6-16aa-4095-94ec-b8e1cc88919f",
   "metadata": {},
   "outputs": [
    {
     "name": "stdout",
     "output_type": "stream",
     "text": [
      "Model: \"model_1\"\n",
      "__________________________________________________________________________________________________\n",
      " Layer (type)                Output Shape                 Param #   Connected to                  \n",
      "==================================================================================================\n",
      " input_8 (InputLayer)        [(None, 100, 10)]            0         []                            \n",
      "                                                                                                  \n",
      " input_9 (InputLayer)        [(None, 100, 10)]            0         []                            \n",
      "                                                                                                  \n",
      " input_7 (InputLayer)        [(None, 1, 1)]               0         []                            \n",
      "                                                                                                  \n",
      " reshape_6 (Reshape)         (None, 1, 100, 10)           0         ['input_8[0][0]']             \n",
      "                                                                                                  \n",
      " reshape_7 (Reshape)         (None, 1, 100, 10)           0         ['input_9[0][0]']             \n",
      "                                                                                                  \n",
      " dropout_8 (Dropout)         (None, 1, 1)                 0         ['input_7[0][0]']             \n",
      "                                                                                                  \n",
      " dropout_6 (Dropout)         (None, 1, 100, 10)           0         ['reshape_6[0][0]']           \n",
      "                                                                                                  \n",
      " dropout_7 (Dropout)         (None, 1, 100, 10)           0         ['reshape_7[0][0]']           \n",
      "                                                                                                  \n",
      " mean_hin_aggregator (MeanH  (None, 1, 8)                 92        ['dropout_8[0][0]',           \n",
      " inAggregator)                                                       'dropout_6[0][0]',           \n",
      "                                                                     'dropout_7[0][0]']           \n",
      "                                                                                                  \n",
      " reshape_8 (Reshape)         (None, 8)                    0         ['mean_hin_aggregator[2][0]'] \n",
      "                                                                                                  \n",
      " lambda (Lambda)             (None, 8)                    0         ['reshape_8[0][0]']           \n",
      "                                                                                                  \n",
      "==================================================================================================\n",
      "Total params: 92 (368.00 Byte)\n",
      "Trainable params: 92 (368.00 Byte)\n",
      "Non-trainable params: 0 (0.00 Byte)\n",
      "__________________________________________________________________________________________________\n"
     ]
    }
   ],
   "source": [
    "graphsage_keras.summary()"
   ]
  },
  {
   "cell_type": "markdown",
   "id": "66ebc302-2b75-40b5-8ab6-9151748425de",
   "metadata": {
    "tags": []
   },
   "source": [
    "##### Save the Base Model"
   ]
  },
  {
   "cell_type": "code",
   "execution_count": 25,
   "id": "764e1854-aaf1-4652-a235-6712ecc7139d",
   "metadata": {},
   "outputs": [
    {
     "name": "stdout",
     "output_type": "stream",
     "text": [
      "WARNING:tensorflow:Compiled the loaded model, but the compiled metrics have yet to be built. `model.compile_metrics` will be empty until you train or evaluate the model.\n"
     ]
    }
   ],
   "source": [
    "# Tensorflow save format to work around issue \n",
    "# https://github.com/tensorflow/tensorflow/issues/46659\n",
    "graphsage_keras.save(Path(setup.temp_path).joinpath('31_DATA_model_base.keras'), save_format='tf')"
   ]
  },
  {
   "cell_type": "markdown",
   "id": "45ebf461-d11d-400e-b73c-75997725c313",
   "metadata": {},
   "source": [
    "## Embeddings - Full Graph"
   ]
  },
  {
   "cell_type": "markdown",
   "id": "ae3be8f6-58f1-4476-a701-59490fa009d5",
   "metadata": {},
   "source": [
    "Here, I will get NAICS node embeddings for the full graph.  The base model is used to accomplish this."
   ]
  },
  {
   "cell_type": "markdown",
   "id": "8a29badc-975e-4198-b0b7-c50beece6020",
   "metadata": {},
   "source": [
    "With my versions of Stellargraph, Keras, Tensorflow, etc., the value returned from HinSAGENodeGenerator.flow isn't compatible with what is expected from HinSAGE.get_in_out_tensors().  The flow value is a NodeSequence, which should generaate the proper tensors, but this isn't working so the tensors have to be extracted from the NodeSequence. "
   ]
  },
  {
   "cell_type": "markdown",
   "id": "9cec9e41-7626-47e2-b476-51f4830ddb8b",
   "metadata": {},
   "source": [
    "The NodeSequence generates a tuple.  The first dimension is the batch size.  I either have to iterate over batches or use a batch size large enough to hold all NAICS nodes!  Then, the 0th item holds the tensors needed for prediction."
   ]
  },
  {
   "cell_type": "markdown",
   "id": "cbe0a26c-d993-4f37-8b96-0dcc35771868",
   "metadata": {},
   "source": [
    "##### Get full graph"
   ]
  },
  {
   "cell_type": "markdown",
   "id": "a7f59534-7e43-453d-927b-6cb05c4eeb05",
   "metadata": {},
   "source": [
    "Load the full graph and get the NAICS nodes"
   ]
  },
  {
   "cell_type": "code",
   "execution_count": 26,
   "id": "2075957b-8852-4ae1-9cb4-aa86a6e42559",
   "metadata": {},
   "outputs": [],
   "source": [
    "with open(Path(setup.temp_path).joinpath('30_DATA_stellargraph_all.pkl'), 'rb') as fin:\n",
    "      sba_graph_all  = pickle.load(fin)"
   ]
  },
  {
   "cell_type": "code",
   "execution_count": 27,
   "id": "6298e87c-8bd1-4699-9c76-b4313012505b",
   "metadata": {},
   "outputs": [],
   "source": [
    "naics_nodes = sba_graph_all.nodes(node_type='NAICS')"
   ]
  },
  {
   "cell_type": "code",
   "execution_count": 28,
   "id": "b2584bcf-c129-4e92-99e5-927db9823254",
   "metadata": {},
   "outputs": [
    {
     "data": {
      "text/plain": [
       "1311"
      ]
     },
     "execution_count": 28,
     "metadata": {},
     "output_type": "execute_result"
    }
   ],
   "source": [
    "naics_len = len(naics_nodes)\n",
    "naics_len"
   ]
  },
  {
   "cell_type": "markdown",
   "id": "f254807c-8159-4f53-bd3b-f1abc1c18ecf",
   "metadata": {},
   "source": [
    "##### New generator with large batch size"
   ]
  },
  {
   "cell_type": "code",
   "execution_count": 29,
   "id": "6017d601-1228-411d-8f87-76a5a991b568",
   "metadata": {},
   "outputs": [],
   "source": [
    "generator_all = HinSAGENodeGenerator(sba_graph_all, batch_size=naics_len, \n",
    "                                 num_samples=setup.gnn_unsup_num_samples,\n",
    "                                 head_node_type='NAICS',\n",
    "                                 seed=3434)"
   ]
  },
  {
   "cell_type": "code",
   "execution_count": 30,
   "id": "2ae2bd40-5f36-4bf9-9802-bc729ada4df6",
   "metadata": {},
   "outputs": [],
   "source": [
    "flow_all = generator_all.flow(naics_nodes, shuffle=False)"
   ]
  },
  {
   "cell_type": "markdown",
   "id": "e1cdb9c3-987f-453f-a527-9b8ef5e29adb",
   "metadata": {},
   "source": [
    "##### Prediction\n",
    "Unpack the tuple.  Since I've used a large batch size, I only need the 0th item of the 0th item."
   ]
  },
  {
   "cell_type": "code",
   "execution_count": 31,
   "id": "7a0e2566-8b9d-47f2-816a-b3ad7b13a909",
   "metadata": {},
   "outputs": [
    {
     "name": "stdout",
     "output_type": "stream",
     "text": [
      "33/41 [=======================>......] - ETA: 0s"
     ]
    },
    {
     "name": "stderr",
     "output_type": "stream",
     "text": [
      "2024-02-24 21:52:52.725340: I tensorflow/core/grappler/optimizers/custom_graph_optimizer_registry.cc:114] Plugin optimizer for device_type GPU is enabled.\n"
     ]
    },
    {
     "name": "stdout",
     "output_type": "stream",
     "text": [
      "41/41 [==============================] - 0s 4ms/step\n"
     ]
    }
   ],
   "source": [
    "embed_out = graphsage_keras.predict(tuple(flow_all)[0][0])"
   ]
  },
  {
   "cell_type": "code",
   "execution_count": 32,
   "id": "2aeb0836-767a-462e-b981-9314795a3d6b",
   "metadata": {},
   "outputs": [
    {
     "name": "stdout",
     "output_type": "stream",
     "text": [
      "(1311, 8)\n"
     ]
    }
   ],
   "source": [
    "print(embed_out.shape)"
   ]
  },
  {
   "cell_type": "code",
   "execution_count": 33,
   "id": "ff506dbb-3b32-4aec-9260-656f3424f78d",
   "metadata": {},
   "outputs": [],
   "source": [
    "embed_df = pd.DataFrame(embed_out, index=naics_nodes) \n",
    "embed_df.columns = [f'emb_{i:03d}' for i in range(len(embed_df.columns))]\n",
    "embed_df = embed_df.reset_index() \\\n",
    "    .rename(columns={'index':'source'})"
   ]
  },
  {
   "cell_type": "code",
   "execution_count": 34,
   "id": "81b02149-cf1e-4314-a8d8-51aab861d56c",
   "metadata": {},
   "outputs": [],
   "source": [
    "embed_df = embed_df.merge(features_naics[['NAICS_orig']].reset_index(),\n",
    "                          on='source')"
   ]
  },
  {
   "cell_type": "code",
   "execution_count": 35,
   "id": "6769ff38-b961-4c0f-b2a5-f0778abbd4a3",
   "metadata": {},
   "outputs": [
    {
     "name": "stdout",
     "output_type": "stream",
     "text": [
      "(1311, 10)\n"
     ]
    }
   ],
   "source": [
    "print(embed_df.shape)"
   ]
  },
  {
   "cell_type": "code",
   "execution_count": 36,
   "id": "cb4805b9-922b-47bb-9d01-bcfe64e1aab1",
   "metadata": {},
   "outputs": [
    {
     "data": {
      "text/html": [
       "<div>\n",
       "<style scoped>\n",
       "    .dataframe tbody tr th:only-of-type {\n",
       "        vertical-align: middle;\n",
       "    }\n",
       "\n",
       "    .dataframe tbody tr th {\n",
       "        vertical-align: top;\n",
       "    }\n",
       "\n",
       "    .dataframe thead th {\n",
       "        text-align: right;\n",
       "    }\n",
       "</style>\n",
       "<table border=\"1\" class=\"dataframe\">\n",
       "  <thead>\n",
       "    <tr style=\"text-align: right;\">\n",
       "      <th></th>\n",
       "      <th>source</th>\n",
       "      <th>emb_000</th>\n",
       "      <th>emb_001</th>\n",
       "      <th>emb_002</th>\n",
       "      <th>emb_003</th>\n",
       "      <th>emb_004</th>\n",
       "      <th>emb_005</th>\n",
       "      <th>emb_006</th>\n",
       "      <th>emb_007</th>\n",
       "      <th>NAICS_orig</th>\n",
       "    </tr>\n",
       "  </thead>\n",
       "  <tbody>\n",
       "    <tr>\n",
       "      <th>0</th>\n",
       "      <td>n_722410</td>\n",
       "      <td>0.239191</td>\n",
       "      <td>0.390502</td>\n",
       "      <td>0.305922</td>\n",
       "      <td>0.233903</td>\n",
       "      <td>0.354129</td>\n",
       "      <td>0.534322</td>\n",
       "      <td>0.443014</td>\n",
       "      <td>0.186625</td>\n",
       "      <td>722410</td>\n",
       "    </tr>\n",
       "    <tr>\n",
       "      <th>1</th>\n",
       "      <td>n_445299</td>\n",
       "      <td>0.209429</td>\n",
       "      <td>0.341913</td>\n",
       "      <td>0.267856</td>\n",
       "      <td>0.204799</td>\n",
       "      <td>0.244538</td>\n",
       "      <td>-0.268990</td>\n",
       "      <td>0.524632</td>\n",
       "      <td>0.564050</td>\n",
       "      <td>445299</td>\n",
       "    </tr>\n",
       "    <tr>\n",
       "      <th>2</th>\n",
       "      <td>n_512110</td>\n",
       "      <td>0.195182</td>\n",
       "      <td>0.318653</td>\n",
       "      <td>0.249634</td>\n",
       "      <td>0.190866</td>\n",
       "      <td>0.316021</td>\n",
       "      <td>0.466216</td>\n",
       "      <td>-0.411127</td>\n",
       "      <td>0.524753</td>\n",
       "      <td>512110</td>\n",
       "    </tr>\n",
       "    <tr>\n",
       "      <th>3</th>\n",
       "      <td>n_541810</td>\n",
       "      <td>0.211102</td>\n",
       "      <td>0.344643</td>\n",
       "      <td>0.269995</td>\n",
       "      <td>0.206434</td>\n",
       "      <td>0.334447</td>\n",
       "      <td>0.509677</td>\n",
       "      <td>-0.222164</td>\n",
       "      <td>0.547871</td>\n",
       "      <td>541810</td>\n",
       "    </tr>\n",
       "    <tr>\n",
       "      <th>4</th>\n",
       "      <td>n_421310</td>\n",
       "      <td>0.191913</td>\n",
       "      <td>0.313315</td>\n",
       "      <td>0.245453</td>\n",
       "      <td>0.187669</td>\n",
       "      <td>0.352140</td>\n",
       "      <td>0.521632</td>\n",
       "      <td>-0.478853</td>\n",
       "      <td>-0.379649</td>\n",
       "      <td>421310</td>\n",
       "    </tr>\n",
       "  </tbody>\n",
       "</table>\n",
       "</div>"
      ],
      "text/plain": [
       "     source   emb_000   emb_001   emb_002   emb_003   emb_004   emb_005  \\\n",
       "0  n_722410  0.239191  0.390502  0.305922  0.233903  0.354129  0.534322   \n",
       "1  n_445299  0.209429  0.341913  0.267856  0.204799  0.244538 -0.268990   \n",
       "2  n_512110  0.195182  0.318653  0.249634  0.190866  0.316021  0.466216   \n",
       "3  n_541810  0.211102  0.344643  0.269995  0.206434  0.334447  0.509677   \n",
       "4  n_421310  0.191913  0.313315  0.245453  0.187669  0.352140  0.521632   \n",
       "\n",
       "    emb_006   emb_007 NAICS_orig  \n",
       "0  0.443014  0.186625     722410  \n",
       "1  0.524632  0.564050     445299  \n",
       "2 -0.411127  0.524753     512110  \n",
       "3 -0.222164  0.547871     541810  \n",
       "4 -0.478853 -0.379649     421310  "
      ]
     },
     "execution_count": 36,
     "metadata": {},
     "output_type": "execute_result"
    }
   ],
   "source": [
    "embed_df.head()"
   ]
  },
  {
   "cell_type": "code",
   "execution_count": 37,
   "id": "69d1fd20-9296-4060-8322-692149353661",
   "metadata": {},
   "outputs": [],
   "source": [
    "embed_df.to_parquet(Path(setup.temp_path).joinpath('31_DATA_embeddings.parquet'))"
   ]
  },
  {
   "cell_type": "code",
   "execution_count": null,
   "id": "fe47a3e5-3024-40a5-9d15-7bb0977c8502",
   "metadata": {},
   "outputs": [],
   "source": []
  }
 ],
 "metadata": {
  "kernelspec": {
   "display_name": "tf_p39",
   "language": "python",
   "name": "tf_p39"
  },
  "language_info": {
   "codemirror_mode": {
    "name": "ipython",
    "version": 3
   },
   "file_extension": ".py",
   "mimetype": "text/x-python",
   "name": "python",
   "nbconvert_exporter": "python",
   "pygments_lexer": "ipython3",
   "version": "3.8.18"
  }
 },
 "nbformat": 4,
 "nbformat_minor": 5
}
