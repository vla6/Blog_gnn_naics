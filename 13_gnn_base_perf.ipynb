{
 "cells": [
  {
   "cell_type": "code",
   "execution_count": 6,
   "id": "71f23355-0adf-4816-816a-d1484a9f5ef3",
   "metadata": {},
   "outputs": [],
   "source": [
    "# Modify the file 00_setup.py to define input/output file paths on your system\n",
    "# The information in 00_setup.py will be used across notebooks\n",
    "from importlib.machinery import SourceFileLoader\n",
    "setup = SourceFileLoader(\"setup\", \"./00_setup.py\").load_module()"
   ]
  },
  {
   "cell_type": "markdown",
   "id": "ea02c559-4f56-4b1e-8082-1fc224ee5547",
   "metadata": {},
   "source": [
    "# Baseline GNN Metrics "
   ]
  },
  {
   "cell_type": "markdown",
   "id": "8afaa76d-e25e-4844-9d51-f8c9c165e9b9",
   "metadata": {},
   "source": [
    "For the model created in the last script, get predictions and metrics / performance information.  Focus on the unseen \"test\" data.  Use sklearn metrics to ensure comparability with XGBoost metrics"
   ]
  },
  {
   "cell_type": "markdown",
   "id": "76c78249-a4dc-4a76-ad81-b03f883f92a6",
   "metadata": {},
   "source": [
    "Implementation notes:\n",
    "  * To visualize the keras model, I had to \"conda install\" pydot and graphviz in my virtual environment. \n",
    "  * Model is saved/loaded in tensorflow format.  This is to workaround an issue with Keras format, https://github.com/tensorflow/tensorflow/issues/46659"
   ]
  },
  {
   "cell_type": "markdown",
   "id": "ac90ebeb-0716-4b01-b280-e0e32174d63f",
   "metadata": {},
   "source": [
    "*This script takes about 2 hours on my MacBook Air*"
   ]
  },
  {
   "cell_type": "code",
   "execution_count": 7,
   "id": "da2389b6-b2db-4a6f-a99a-c5bec6b75739",
   "metadata": {},
   "outputs": [],
   "source": [
    "import pandas as pd\n",
    "import numpy as np"
   ]
  },
  {
   "cell_type": "code",
   "execution_count": 101,
   "id": "6c3cb412-131c-42a8-8432-b67eb47c26a5",
   "metadata": {},
   "outputs": [],
   "source": [
    "from pathlib import Path\n",
    "import importlib, pickle\n",
    "from contextlib import redirect_stdout\n",
    "from scikitplot.metrics import plot_lift_curve\n",
    "import matplotlib.pyplot as plt"
   ]
  },
  {
   "cell_type": "code",
   "execution_count": 18,
   "id": "06e862f5-fdc4-4b2d-a13d-1a64f0367d44",
   "metadata": {},
   "outputs": [],
   "source": [
    "from stellargraph import StellarGraph\n",
    "import stellargraph as sg\n",
    "import keras\n",
    "from stellargraph.layer import HinSAGE, MeanHinAggregator\n",
    "from stellargraph.mapper import HinSAGENodeGenerator\n",
    "\n",
    "from tensorflow.keras import layers, optimizers, losses, metrics, Model\n",
    "from sklearn import preprocessing, feature_extraction, model_selection\n",
    "\n",
    "import tensorflow.keras.metrics as km\n",
    "from keras.utils import plot_model\n",
    "from keras import initializers\n",
    "import tensorflow as tf"
   ]
  },
  {
   "cell_type": "code",
   "execution_count": 10,
   "id": "1816ed7c-b92b-4fb3-871a-098b97f69e85",
   "metadata": {},
   "outputs": [],
   "source": [
    "from sba_gnn.sba_gnn import sg_gnn, sg_plot "
   ]
  },
  {
   "cell_type": "markdown",
   "id": "8c682464-9aad-4f25-87c6-8845349a5eb4",
   "metadata": {},
   "source": [
    "## Import Data"
   ]
  },
  {
   "cell_type": "markdown",
   "id": "f90bea53-352d-4491-accc-26b7b170565a",
   "metadata": {},
   "source": [
    "##### Stellargraphs - all data, test only data"
   ]
  },
  {
   "cell_type": "code",
   "execution_count": 11,
   "id": "d36ccbc1-3fe9-40e6-8872-55c9c53913c0",
   "metadata": {},
   "outputs": [],
   "source": [
    "# Training and validation clients - monitor training on val clients\n",
    "with open(Path(setup.temp_path).joinpath('11_DATA_stellargraph_all.pkl'), 'rb') as fin:\n",
    "      sba_all  = pickle.load(fin)"
   ]
  },
  {
   "cell_type": "code",
   "execution_count": 12,
   "id": "e16d1926-f665-4964-aecf-cb2a43eb4e5c",
   "metadata": {},
   "outputs": [],
   "source": [
    "labels_all = pd.read_parquet(Path(setup.temp_path).joinpath('11_DATA_label_info.parquet'))"
   ]
  },
  {
   "cell_type": "code",
   "execution_count": 13,
   "id": "a17754be-b947-4d60-b4c5-2bd73d350af4",
   "metadata": {},
   "outputs": [],
   "source": [
    "# Training and validation clients - monitor training on val clients\n",
    "with open(Path(setup.temp_path).joinpath('11_DATA_stellargraph_test.pkl'), 'rb') as fin:\n",
    "      sba_test  = pickle.load(fin)"
   ]
  },
  {
   "cell_type": "code",
   "execution_count": 14,
   "id": "ad8c9355-f8b8-40d6-a6c6-5fbb70c72fbd",
   "metadata": {},
   "outputs": [],
   "source": [
    "labels_test = pd.read_parquet(Path(setup.temp_path).joinpath('11_DATA_labels_test.parquet'))"
   ]
  },
  {
   "cell_type": "markdown",
   "id": "2f4f3398-0503-4b8a-a1c6-5d624d0c8341",
   "metadata": {},
   "source": [
    "##### Model"
   ]
  },
  {
   "cell_type": "code",
   "execution_count": 19,
   "id": "4001c904-5014-4826-adcf-33508323e6b6",
   "metadata": {},
   "outputs": [
    {
     "name": "stderr",
     "output_type": "stream",
     "text": [
      "/Users/valeriecarey/miniconda3/envs/tf_p38/lib/python3.8/site-packages/keras/src/initializers/initializers.py:120: UserWarning: The initializer GlorotUniform is unseeded and being called multiple times, which will return identical values each time (even if the initializer is unseeded). Please update your code to provide a seed to the initializer, or avoid using the same initializer instance more than once.\n",
      "  warnings.warn(\n"
     ]
    }
   ],
   "source": [
    "model = keras.models.load_model(Path(setup.temp_path).joinpath('12_DATA_model.keras'),\n",
    "                               safe_mode=False,\n",
    "                               custom_objects={'MeanHinAggregator':MeanHinAggregator})"
   ]
  },
  {
   "cell_type": "markdown",
   "id": "f825908f-1703-429c-89f4-929d25a79996",
   "metadata": {},
   "source": [
    "## Model Info\n",
    "Print and save some information about the model layers (summary and plot)"
   ]
  },
  {
   "cell_type": "code",
   "execution_count": 22,
   "id": "5a2cc460-4f1e-49eb-9199-3fe732a0de6d",
   "metadata": {},
   "outputs": [
    {
     "name": "stdout",
     "output_type": "stream",
     "text": [
      "Model: \"model\"\n",
      "__________________________________________________________________________________________________\n",
      " Layer (type)                Output Shape                 Param #   Connected to                  \n",
      "==================================================================================================\n",
      " input_4 (InputLayer)        [(None, 200, 10)]            0         []                            \n",
      "                                                                                                  \n",
      " input_5 (InputLayer)        [(None, 200, 10)]            0         []                            \n",
      "                                                                                                  \n",
      " input_6 (InputLayer)        [(None, 200, 10)]            0         []                            \n",
      "                                                                                                  \n",
      " input_7 (InputLayer)        [(None, 200, 10)]            0         []                            \n",
      "                                                                                                  \n",
      " input_2 (InputLayer)        [(None, 10, 9)]              0         []                            \n",
      "                                                                                                  \n",
      " input_3 (InputLayer)        [(None, 10, 9)]              0         []                            \n",
      "                                                                                                  \n",
      " reshape_2 (Reshape)         (None, 10, 20, 10)           0         ['input_4[0][0]']             \n",
      "                                                                                                  \n",
      " reshape_3 (Reshape)         (None, 10, 20, 10)           0         ['input_5[0][0]']             \n",
      "                                                                                                  \n",
      " reshape_4 (Reshape)         (None, 10, 20, 10)           0         ['input_6[0][0]']             \n",
      "                                                                                                  \n",
      " reshape_5 (Reshape)         (None, 10, 20, 10)           0         ['input_7[0][0]']             \n",
      "                                                                                                  \n",
      " input_1 (InputLayer)        [(None, 1, 10)]              0         []                            \n",
      "                                                                                                  \n",
      " reshape (Reshape)           (None, 1, 10, 9)             0         ['input_2[0][0]']             \n",
      "                                                                                                  \n",
      " reshape_1 (Reshape)         (None, 1, 10, 9)             0         ['input_3[0][0]']             \n",
      "                                                                                                  \n",
      " dropout_5 (Dropout)         (None, 10, 9)                0         ['input_2[0][0]']             \n",
      "                                                                                                  \n",
      " dropout_3 (Dropout)         (None, 10, 20, 10)           0         ['reshape_2[0][0]']           \n",
      "                                                                                                  \n",
      " dropout_4 (Dropout)         (None, 10, 20, 10)           0         ['reshape_3[0][0]']           \n",
      "                                                                                                  \n",
      " dropout_8 (Dropout)         (None, 10, 9)                0         ['input_3[0][0]']             \n",
      "                                                                                                  \n",
      " dropout_6 (Dropout)         (None, 10, 20, 10)           0         ['reshape_4[0][0]']           \n",
      "                                                                                                  \n",
      " dropout_7 (Dropout)         (None, 10, 20, 10)           0         ['reshape_5[0][0]']           \n",
      "                                                                                                  \n",
      " dropout_2 (Dropout)         (None, 1, 10)                0         ['input_1[0][0]']             \n",
      "                                                                                                  \n",
      " dropout (Dropout)           (None, 1, 10, 9)             0         ['reshape[0][0]']             \n",
      "                                                                                                  \n",
      " dropout_1 (Dropout)         (None, 1, 10, 9)             0         ['reshape_1[0][0]']           \n",
      "                                                                                                  \n",
      " mean_hin_aggregator_1 (Mea  (None, 10, 8)                124       ['dropout_5[0][0]',           \n",
      " nHinAggregator)                                                     'dropout_3[0][0]',           \n",
      "                                                                     'dropout_4[0][0]',           \n",
      "                                                                     'dropout_8[0][0]',           \n",
      "                                                                     'dropout_6[0][0]',           \n",
      "                                                                     'dropout_7[0][0]']           \n",
      "                                                                                                  \n",
      " mean_hin_aggregator (MeanH  (None, 1, 8)                 120       ['dropout_2[0][0]',           \n",
      " inAggregator)                                                       'dropout[0][0]',             \n",
      "                                                                     'dropout_1[0][0]']           \n",
      "                                                                                                  \n",
      " reshape_6 (Reshape)         (None, 1, 10, 8)             0         ['mean_hin_aggregator_1[0][0]'\n",
      "                                                                    ]                             \n",
      "                                                                                                  \n",
      " reshape_7 (Reshape)         (None, 1, 10, 8)             0         ['mean_hin_aggregator_1[1][0]'\n",
      "                                                                    ]                             \n",
      "                                                                                                  \n",
      " dropout_11 (Dropout)        (None, 1, 8)                 0         ['mean_hin_aggregator[0][0]'] \n",
      "                                                                                                  \n",
      " dropout_9 (Dropout)         (None, 1, 10, 8)             0         ['reshape_6[0][0]']           \n",
      "                                                                                                  \n",
      " dropout_10 (Dropout)        (None, 1, 10, 8)             0         ['reshape_7[0][0]']           \n",
      "                                                                                                  \n",
      " mean_hin_aggregator_2 (Mea  (None, 1, 8)                 104       ['dropout_11[0][0]',          \n",
      " nHinAggregator)                                                     'dropout_9[0][0]',           \n",
      "                                                                     'dropout_10[0][0]']          \n",
      "                                                                                                  \n",
      " reshape_8 (Reshape)         (None, 8)                    0         ['mean_hin_aggregator_2[0][0]'\n",
      "                                                                    ]                             \n",
      "                                                                                                  \n",
      " lambda (Lambda)             (None, 8)                    0         ['reshape_8[0][0]']           \n",
      "                                                                                                  \n",
      " dense (Dense)               (None, 1)                    9         ['lambda[0][0]']              \n",
      "                                                                                                  \n",
      "==================================================================================================\n",
      "Total params: 357 (1.39 KB)\n",
      "Trainable params: 357 (1.39 KB)\n",
      "Non-trainable params: 0 (0.00 Byte)\n",
      "__________________________________________________________________________________________________\n"
     ]
    }
   ],
   "source": [
    "with open(Path(setup.temp_path).joinpath('13_REPORT_model_summary.txt'), \"w\") as f:\n",
    "    with redirect_stdout(f):\n",
    "        print(model.summary())\n",
    "model.summary()"
   ]
  },
  {
   "cell_type": "code",
   "execution_count": 23,
   "id": "eef1fbaa-3f43-47cd-9051-7a8cce610be0",
   "metadata": {},
   "outputs": [
    {
     "data": {
      "image/png": "[encoded data removed]",
      "text/plain": [
       "<IPython.core.display.Image object>"
      ]
     },
     "execution_count": 23,
     "metadata": {},
     "output_type": "execute_result"
    }
   ],
   "source": [
    "plot_model(model, Path(setup.temp_path).joinpath('13_model_plot_simp.png'))"
   ]
  },
  {
   "cell_type": "markdown",
   "id": "52240d59-3c86-4004-9833-ed3cf454af92",
   "metadata": {},
   "source": [
    "The 2-hop model has three MeanHinAggregator layers, likely reflecting the 2 edge types."
   ]
  },
  {
   "cell_type": "code",
   "execution_count": 24,
   "id": "2339b1f7-7610-4325-b608-9148aab72485",
   "metadata": {},
   "outputs": [],
   "source": [
    "%%capture\n",
    "plot_model(model, to_file=Path(setup.temp_path).joinpath('13_model_plot_with_shapes.png'),\n",
    "          show_shapes=True)"
   ]
  },
  {
   "cell_type": "markdown",
   "id": "8d349f89-0e6f-4877-b9df-5ebd69463f82",
   "metadata": {
    "tags": []
   },
   "source": [
    "## Graph Containing All Nodes\n",
    "Get predictions amd metrics"
   ]
  },
  {
   "cell_type": "markdown",
   "id": "d5b9ec06-f278-40ca-ba82-6a99ecba9e72",
   "metadata": {},
   "source": [
    "##### Get generator and predict for all nodes (train, validation, test)"
   ]
  },
  {
   "cell_type": "code",
   "execution_count": 25,
   "id": "8c53ff25-c506-4e4c-85c3-852080bd823a",
   "metadata": {},
   "outputs": [],
   "source": [
    "generator = HinSAGENodeGenerator(sba_all, batch_size=100, \n",
    "                                 num_samples=[10, 20], \n",
    "                                 head_node_type='LoanNr_ChkDgt',\n",
    "                                 seed=34)"
   ]
  },
  {
   "cell_type": "code",
   "execution_count": 26,
   "id": "6ee06987-be8e-4745-baf5-a7a14caf5439",
   "metadata": {},
   "outputs": [],
   "source": [
    "all_flow = generator.flow(labels_all.index, labels_all['target'], shuffle=False)"
   ]
  },
  {
   "cell_type": "code",
   "execution_count": 27,
   "id": "d356d8ac-0d91-4666-b444-215141bf0721",
   "metadata": {},
   "outputs": [],
   "source": [
    "tf.random.set_seed(16)\n",
    "keras.utils.set_random_seed(812)\n",
    "sg.random.set_seed(4345)"
   ]
  },
  {
   "cell_type": "code",
   "execution_count": 28,
   "id": "9f532a6e-13fe-444b-aeb6-14d89cace6a3",
   "metadata": {},
   "outputs": [
    {
     "name": "stderr",
     "output_type": "stream",
     "text": [
      "2023-12-17 21:49:55.669030: I tensorflow/core/grappler/optimizers/custom_graph_optimizer_registry.cc:114] Plugin optimizer for device_type GPU is enabled.\n"
     ]
    },
    {
     "name": "stdout",
     "output_type": "stream",
     "text": [
      "17203/17203 [==============================] - 1454s 84ms/step\n"
     ]
    }
   ],
   "source": [
    "all_predictions = model.predict(all_flow)"
   ]
  },
  {
   "cell_type": "code",
   "execution_count": 32,
   "id": "44bbf32c-9e55-42d8-8098-7d39dd8523cd",
   "metadata": {},
   "outputs": [
    {
     "data": {
      "text/plain": [
       "(688081, 1)"
      ]
     },
     "execution_count": 32,
     "metadata": {},
     "output_type": "execute_result"
    }
   ],
   "source": [
    "all_predictions.shape"
   ]
  },
  {
   "cell_type": "code",
   "execution_count": 35,
   "id": "e65595a9-3959-4796-8215-a0c8119d53f2",
   "metadata": {},
   "outputs": [
    {
     "data": {
      "text/plain": [
       "(688081,)"
      ]
     },
     "execution_count": 35,
     "metadata": {},
     "output_type": "execute_result"
    }
   ],
   "source": [
    "all_predictions[:,0].shape"
   ]
  },
  {
   "cell_type": "code",
   "execution_count": 40,
   "id": "6466d65c-b262-4c01-973c-b8a308743988",
   "metadata": {},
   "outputs": [
    {
     "data": {
      "text/plain": [
       "LoanNr_ChkDgt\n",
       "5282874009    0.153905\n",
       "2568556001    0.151879\n",
       "2687465005    0.164046\n",
       "9174473001    0.119753\n",
       "3598634004    0.189337\n",
       "                ...   \n",
       "1533475000    0.289995\n",
       "2597975001    0.330402\n",
       "4381063007    0.209738\n",
       "6010603003    0.122478\n",
       "3215386008    0.321304\n",
       "Length: 688081, dtype: float32"
      ]
     },
     "execution_count": 40,
     "metadata": {},
     "output_type": "execute_result"
    }
   ],
   "source": [
    "pd.Series(all_predictions[:,0], index=labels_all.index)"
   ]
  },
  {
   "cell_type": "code",
   "execution_count": 82,
   "id": "ca6148a4-9119-4f8b-bb10-b805d3c01f34",
   "metadata": {},
   "outputs": [],
   "source": [
    "all_pred_df = pd.Series(all_predictions[:,0], index=labels_all.index).rename('predict_prob').reset_index()"
   ]
  },
  {
   "cell_type": "code",
   "execution_count": 84,
   "id": "cca72b8c-212e-4486-ae02-7d431c7da9bb",
   "metadata": {},
   "outputs": [
    {
     "data": {
      "text/html": [
       "<div>\n",
       "<style scoped>\n",
       "    .dataframe tbody tr th:only-of-type {\n",
       "        vertical-align: middle;\n",
       "    }\n",
       "\n",
       "    .dataframe tbody tr th {\n",
       "        vertical-align: top;\n",
       "    }\n",
       "\n",
       "    .dataframe thead th {\n",
       "        text-align: right;\n",
       "    }\n",
       "</style>\n",
       "<table border=\"1\" class=\"dataframe\">\n",
       "  <thead>\n",
       "    <tr style=\"text-align: right;\">\n",
       "      <th></th>\n",
       "      <th>LoanNr_ChkDgt</th>\n",
       "      <th>predict_prob</th>\n",
       "    </tr>\n",
       "  </thead>\n",
       "  <tbody>\n",
       "    <tr>\n",
       "      <th>0</th>\n",
       "      <td>5282874009</td>\n",
       "      <td>0.153905</td>\n",
       "    </tr>\n",
       "    <tr>\n",
       "      <th>1</th>\n",
       "      <td>2568556001</td>\n",
       "      <td>0.151879</td>\n",
       "    </tr>\n",
       "    <tr>\n",
       "      <th>2</th>\n",
       "      <td>2687465005</td>\n",
       "      <td>0.164046</td>\n",
       "    </tr>\n",
       "  </tbody>\n",
       "</table>\n",
       "</div>"
      ],
      "text/plain": [
       "  LoanNr_ChkDgt  predict_prob\n",
       "0    5282874009      0.153905\n",
       "1    2568556001      0.151879\n",
       "2    2687465005      0.164046"
      ]
     },
     "execution_count": 84,
     "metadata": {},
     "output_type": "execute_result"
    }
   ],
   "source": [
    "all_pred_df.head(3)"
   ]
  },
  {
   "cell_type": "markdown",
   "id": "e717d33b-13a8-43dd-8a7c-4b34fa2811e8",
   "metadata": {},
   "source": [
    "## Threshold Tune & Binary Predictions\n",
    "Using training probability predictions"
   ]
  },
  {
   "cell_type": "code",
   "execution_count": 72,
   "id": "df36d9e9-f35e-46b3-a5be-08081f998319",
   "metadata": {},
   "outputs": [],
   "source": [
    "thresh_tune_data = sg_plot.get_f1_frame(labels_all[labels_all['dset'] == 'train']['target'], \n",
    "                                        all_pred_df[all_pred_df['dset'] == 'train']['predict_prob'])"
   ]
  },
  {
   "cell_type": "code",
   "execution_count": 73,
   "id": "de634156-caf6-4a52-b5d7-44b8e986aa1d",
   "metadata": {},
   "outputs": [
    {
     "data": {
      "text/html": [
       "<div>\n",
       "<style scoped>\n",
       "    .dataframe tbody tr th:only-of-type {\n",
       "        vertical-align: middle;\n",
       "    }\n",
       "\n",
       "    .dataframe tbody tr th {\n",
       "        vertical-align: top;\n",
       "    }\n",
       "\n",
       "    .dataframe thead th {\n",
       "        text-align: right;\n",
       "    }\n",
       "</style>\n",
       "<table border=\"1\" class=\"dataframe\">\n",
       "  <thead>\n",
       "    <tr style=\"text-align: right;\">\n",
       "      <th></th>\n",
       "      <th>thresh</th>\n",
       "      <th>f1</th>\n",
       "    </tr>\n",
       "  </thead>\n",
       "  <tbody>\n",
       "    <tr>\n",
       "      <th>12</th>\n",
       "      <td>0.24</td>\n",
       "      <td>0.406070</td>\n",
       "    </tr>\n",
       "    <tr>\n",
       "      <th>13</th>\n",
       "      <td>0.26</td>\n",
       "      <td>0.406056</td>\n",
       "    </tr>\n",
       "    <tr>\n",
       "      <th>11</th>\n",
       "      <td>0.22</td>\n",
       "      <td>0.405543</td>\n",
       "    </tr>\n",
       "  </tbody>\n",
       "</table>\n",
       "</div>"
      ],
      "text/plain": [
       "    thresh        f1\n",
       "12    0.24  0.406070\n",
       "13    0.26  0.406056\n",
       "11    0.22  0.405543"
      ]
     },
     "execution_count": 73,
     "metadata": {},
     "output_type": "execute_result"
    }
   ],
   "source": [
    "thresh_tune_data.sort_values('f1', ascending=False, inplace=True)\n",
    "thresh_tune_data.head(3)"
   ]
  },
  {
   "cell_type": "code",
   "execution_count": 74,
   "id": "c746b880-d781-4bc1-9df2-89211127c22a",
   "metadata": {},
   "outputs": [
    {
     "data": {
      "text/plain": [
       "0.24"
      ]
     },
     "execution_count": 74,
     "metadata": {},
     "output_type": "execute_result"
    }
   ],
   "source": [
    "best_thresh = thresh_tune_data['thresh'].iloc[0]\n",
    "best_thresh"
   ]
  },
  {
   "cell_type": "markdown",
   "id": "76be971a-78b4-4328-968b-82ac1169b43f",
   "metadata": {},
   "source": [
    "##### Append binary predictions to probability predictions"
   ]
  },
  {
   "cell_type": "code",
   "execution_count": 75,
   "id": "ffa09b7e-15fc-45d4-8780-6a16c43cee95",
   "metadata": {},
   "outputs": [
    {
     "data": {
      "text/plain": [
       "<module 'sba_gnn.sba_gnn.sg_plot' from '/Users/valeriecarey/Documents/projects/2023_10_blog_gnn_sba/code/sba_gnn/sba_gnn/sg_plot.py'>"
      ]
     },
     "execution_count": 75,
     "metadata": {},
     "output_type": "execute_result"
    }
   ],
   "source": [
    "importlib.reload(sg_plot)"
   ]
  },
  {
   "cell_type": "code",
   "execution_count": 85,
   "id": "641da72e-1bca-4fe7-96c4-6c029b521bd7",
   "metadata": {},
   "outputs": [],
   "source": [
    "all_pred_df['predict_bin'] = sg_plot.get_binary_predictions(all_pred_df['predict_prob'], best_thresh)"
   ]
  },
  {
   "cell_type": "code",
   "execution_count": 86,
   "id": "9f6ecdf4-ac01-4c39-8315-e8583daa337e",
   "metadata": {},
   "outputs": [
    {
     "data": {
      "text/plain": [
       "predict_bin\n",
       "1    0.582953\n",
       "0    0.417047\n",
       "Name: proportion, dtype: float64"
      ]
     },
     "execution_count": 86,
     "metadata": {},
     "output_type": "execute_result"
    }
   ],
   "source": [
    "all_pred_df['predict_bin'].value_counts(normalize=True, dropna=False)"
   ]
  },
  {
   "cell_type": "code",
   "execution_count": 87,
   "id": "da47e98b-16a2-4db9-bf5a-cd1f20ef72d4",
   "metadata": {},
   "outputs": [],
   "source": [
    "all_pred_df = all_pred_df.merge(labels_all.reset_index(), on='LoanNr_ChkDgt')"
   ]
  },
  {
   "cell_type": "code",
   "execution_count": 88,
   "id": "1d0ecde8-92ea-43bd-af53-a725ae32252b",
   "metadata": {},
   "outputs": [],
   "source": [
    "all_pred_df.to_parquet(Path(setup.temp_path).joinpath('13_DATA_predictions_all.parquet'))"
   ]
  },
  {
   "cell_type": "code",
   "execution_count": 89,
   "id": "77980132-4c08-4704-bcf8-0eb8cb9b910d",
   "metadata": {},
   "outputs": [
    {
     "data": {
      "text/html": [
       "<div>\n",
       "<style scoped>\n",
       "    .dataframe tbody tr th:only-of-type {\n",
       "        vertical-align: middle;\n",
       "    }\n",
       "\n",
       "    .dataframe tbody tr th {\n",
       "        vertical-align: top;\n",
       "    }\n",
       "\n",
       "    .dataframe thead th {\n",
       "        text-align: right;\n",
       "    }\n",
       "</style>\n",
       "<table border=\"1\" class=\"dataframe\">\n",
       "  <thead>\n",
       "    <tr style=\"text-align: right;\">\n",
       "      <th></th>\n",
       "      <th>LoanNr_ChkDgt</th>\n",
       "      <th>predict_prob</th>\n",
       "      <th>predict_bin</th>\n",
       "      <th>dset</th>\n",
       "      <th>target</th>\n",
       "      <th>train_fix</th>\n",
       "    </tr>\n",
       "  </thead>\n",
       "  <tbody>\n",
       "    <tr>\n",
       "      <th>353725</th>\n",
       "      <td>2439185005</td>\n",
       "      <td>0.378028</td>\n",
       "      <td>1</td>\n",
       "      <td>train</td>\n",
       "      <td>0</td>\n",
       "      <td>1.0</td>\n",
       "    </tr>\n",
       "    <tr>\n",
       "      <th>88047</th>\n",
       "      <td>8832934002</td>\n",
       "      <td>0.351341</td>\n",
       "      <td>1</td>\n",
       "      <td>train</td>\n",
       "      <td>1</td>\n",
       "      <td>0.0</td>\n",
       "    </tr>\n",
       "    <tr>\n",
       "      <th>451206</th>\n",
       "      <td>2581644006</td>\n",
       "      <td>0.234898</td>\n",
       "      <td>0</td>\n",
       "      <td>test</td>\n",
       "      <td>0</td>\n",
       "      <td>0.0</td>\n",
       "    </tr>\n",
       "  </tbody>\n",
       "</table>\n",
       "</div>"
      ],
      "text/plain": [
       "       LoanNr_ChkDgt  predict_prob  predict_bin   dset  target  train_fix\n",
       "353725    2439185005      0.378028            1  train       0        1.0\n",
       "88047     8832934002      0.351341            1  train       1        0.0\n",
       "451206    2581644006      0.234898            0   test       0        0.0"
      ]
     },
     "execution_count": 89,
     "metadata": {},
     "output_type": "execute_result"
    }
   ],
   "source": [
    "all_pred_df.sample(3)"
   ]
  },
  {
   "cell_type": "code",
   "execution_count": 90,
   "id": "800ce59f-7201-4474-809f-94920700d2f8",
   "metadata": {},
   "outputs": [
    {
     "data": {
      "text/html": [
       "<div>\n",
       "<style scoped>\n",
       "    .dataframe tbody tr th:only-of-type {\n",
       "        vertical-align: middle;\n",
       "    }\n",
       "\n",
       "    .dataframe tbody tr th {\n",
       "        vertical-align: top;\n",
       "    }\n",
       "\n",
       "    .dataframe thead th {\n",
       "        text-align: right;\n",
       "    }\n",
       "</style>\n",
       "<table border=\"1\" class=\"dataframe\">\n",
       "  <thead>\n",
       "    <tr style=\"text-align: right;\">\n",
       "      <th>target</th>\n",
       "      <th>0</th>\n",
       "      <th>1</th>\n",
       "    </tr>\n",
       "    <tr>\n",
       "      <th>predict_bin</th>\n",
       "      <th></th>\n",
       "      <th></th>\n",
       "    </tr>\n",
       "  </thead>\n",
       "  <tbody>\n",
       "    <tr>\n",
       "      <th>0</th>\n",
       "      <td>256243</td>\n",
       "      <td>30719</td>\n",
       "    </tr>\n",
       "    <tr>\n",
       "      <th>1</th>\n",
       "      <td>292150</td>\n",
       "      <td>108969</td>\n",
       "    </tr>\n",
       "  </tbody>\n",
       "</table>\n",
       "</div>"
      ],
      "text/plain": [
       "target            0       1\n",
       "predict_bin                \n",
       "0            256243   30719\n",
       "1            292150  108969"
      ]
     },
     "execution_count": 90,
     "metadata": {},
     "output_type": "execute_result"
    }
   ],
   "source": [
    "pd.crosstab(all_pred_df['predict_bin'], all_pred_df['target'])"
   ]
  },
  {
   "cell_type": "markdown",
   "id": "269ac75f-210e-42a3-8734-ad2e9dac697f",
   "metadata": {},
   "source": [
    "## Metrics"
   ]
  },
  {
   "cell_type": "code",
   "execution_count": 91,
   "id": "a840cd8b-23f1-4fb1-a796-e77e9875197d",
   "metadata": {},
   "outputs": [
    {
     "data": {
      "text/html": [
       "<div>\n",
       "<style scoped>\n",
       "    .dataframe tbody tr th:only-of-type {\n",
       "        vertical-align: middle;\n",
       "    }\n",
       "\n",
       "    .dataframe tbody tr th {\n",
       "        vertical-align: top;\n",
       "    }\n",
       "\n",
       "    .dataframe thead th {\n",
       "        text-align: right;\n",
       "    }\n",
       "</style>\n",
       "<table border=\"1\" class=\"dataframe\">\n",
       "  <thead>\n",
       "    <tr style=\"text-align: right;\">\n",
       "      <th></th>\n",
       "      <th>accuracy_score</th>\n",
       "      <th>f1_score</th>\n",
       "      <th>precision_score</th>\n",
       "      <th>recall_score</th>\n",
       "      <th>average_precision_score</th>\n",
       "      <th>roc_auc_score</th>\n",
       "    </tr>\n",
       "  </thead>\n",
       "  <tbody>\n",
       "    <tr>\n",
       "      <th>train</th>\n",
       "      <td>0.540058</td>\n",
       "      <td>0.406070</td>\n",
       "      <td>0.275171</td>\n",
       "      <td>0.774497</td>\n",
       "      <td>0.308244</td>\n",
       "      <td>0.672556</td>\n",
       "    </tr>\n",
       "    <tr>\n",
       "      <th>val</th>\n",
       "      <td>0.512924</td>\n",
       "      <td>0.397839</td>\n",
       "      <td>0.265570</td>\n",
       "      <td>0.792596</td>\n",
       "      <td>0.307865</td>\n",
       "      <td>0.663757</td>\n",
       "    </tr>\n",
       "    <tr>\n",
       "      <th>test</th>\n",
       "      <td>0.513914</td>\n",
       "      <td>0.397264</td>\n",
       "      <td>0.265456</td>\n",
       "      <td>0.789057</td>\n",
       "      <td>0.303279</td>\n",
       "      <td>0.661836</td>\n",
       "    </tr>\n",
       "  </tbody>\n",
       "</table>\n",
       "</div>"
      ],
      "text/plain": [
       "       accuracy_score  f1_score  precision_score  recall_score  \\\n",
       "train        0.540058  0.406070         0.275171      0.774497   \n",
       "val          0.512924  0.397839         0.265570      0.792596   \n",
       "test         0.513914  0.397264         0.265456      0.789057   \n",
       "\n",
       "       average_precision_score  roc_auc_score  \n",
       "train                 0.308244       0.672556  \n",
       "val                   0.307865       0.663757  \n",
       "test                  0.303279       0.661836  "
      ]
     },
     "execution_count": 91,
     "metadata": {},
     "output_type": "execute_result"
    }
   ],
   "source": [
    "metrics_df = pd.concat([sg_plot.dset_metrics(all_pred_df[all_pred_df['dset'] == d]['target'], \n",
    "                                             all_pred_df[all_pred_df['dset'] == d]['predict_bin'], \n",
    "                                             all_pred_df[all_pred_df['dset'] == d]['predict_prob']) \\\n",
    "                        for d in ['train', 'val', 'test']], axis=1,\n",
    "                      keys = ['train', 'val', 'test']) \\\n",
    "    .transpose()\n",
    "metrics_df.to_csv(Path(setup.temp_path).joinpath('13_REPORT_metrics_all.csv'), index=True)\n",
    "metrics_df"
   ]
  },
  {
   "cell_type": "markdown",
   "id": "5f0dc803-0b75-48f1-9387-49012e0bee62",
   "metadata": {},
   "source": [
    "## Lift"
   ]
  },
  {
   "cell_type": "code",
   "execution_count": 92,
   "id": "82d9c0ab-8989-450d-a2b1-7997ca636052",
   "metadata": {
    "tags": []
   },
   "outputs": [],
   "source": [
    "pred_test_df = all_pred_df[all_pred_df['dset'] == 'test']"
   ]
  },
  {
   "cell_type": "code",
   "execution_count": 102,
   "id": "1919ffe9-cfe8-4d89-9c68-bcf729e4c328",
   "metadata": {},
   "outputs": [
    {
     "data": {
      "image/png": "[encoded data removed]",
      "text/plain": [
       "<Figure size 400x300 with 1 Axes>"
      ]
     },
     "metadata": {},
     "output_type": "display_data"
    }
   ],
   "source": [
    "plot_lift_curve(pred_test_df['target'], \n",
    "                pd.concat([1-pred_test_df['predict_prob'], pred_test_df['predict_prob']], axis=1), \n",
    "                title='Lift Curve', ax=None, figsize=(4,3), \n",
    "                title_fontsize='large', text_fontsize='medium')\n",
    "plt.gca().legend(loc='upper right')\n",
    "plt.gcf().savefig(Path(setup.temp_path).joinpath('13_PLOT_lift_curve.png'),bbox_inches='tight')"
   ]
  },
  {
   "cell_type": "markdown",
   "id": "b9e72112-71e5-497b-a823-0f0cab528c42",
   "metadata": {},
   "source": [
    "## Embeddings\n",
    "Extract node embeddings for businesses, and save these for later analysis"
   ]
  },
  {
   "cell_type": "code",
   "execution_count": 135,
   "id": "30bc33ce-00e9-450c-add7-94fd12ff20c9",
   "metadata": {},
   "outputs": [],
   "source": [
    "# Create a new model object to access the embeddings 1 layers above (normalized output)\n",
    "emb_model = Model(inputs=model.input, outputs=model.layers[-1].output)"
   ]
  },
  {
   "cell_type": "code",
   "execution_count": null,
   "id": "8a408051-cc6b-4e66-b8d9-c1ceca584885",
   "metadata": {},
   "outputs": [
    {
     "name": "stderr",
     "output_type": "stream",
     "text": [
      "2023-12-20 07:51:38.181055: I tensorflow/core/grappler/optimizers/custom_graph_optimizer_registry.cc:114] Plugin optimizer for device_type GPU is enabled.\n"
     ]
    },
    {
     "name": "stdout",
     "output_type": "stream",
     "text": [
      " 1660/17203 [=>............................] - ETA: 10:44"
     ]
    }
   ],
   "source": [
    "embeddings = emb_model.predict(all_flow)"
   ]
  },
  {
   "cell_type": "code",
   "execution_count": null,
   "id": "49fb8b0e-f0dc-4e3e-b465-3f80adf8b57e",
   "metadata": {},
   "outputs": [],
   "source": [
    "embeddings_df = pd.DataFrame(embeddings, index=labels_all.index)\n",
    "embeddings_df.columns = [f'emb_{c:02d}' for c in embeddings_df.columns]"
   ]
  },
  {
   "cell_type": "code",
   "execution_count": null,
   "id": "afc6664d-a487-42f7-b6a9-6cbbc907d526",
   "metadata": {},
   "outputs": [],
   "source": [
    "embeddings_df.describe()"
   ]
  },
  {
   "cell_type": "code",
   "execution_count": 133,
   "id": "07ae176e-9eaf-4c78-81c9-99b0b0803b24",
   "metadata": {},
   "outputs": [
    {
     "data": {
      "text/html": [
       "<div>\n",
       "<style scoped>\n",
       "    .dataframe tbody tr th:only-of-type {\n",
       "        vertical-align: middle;\n",
       "    }\n",
       "\n",
       "    .dataframe tbody tr th {\n",
       "        vertical-align: top;\n",
       "    }\n",
       "\n",
       "    .dataframe thead th {\n",
       "        text-align: right;\n",
       "    }\n",
       "</style>\n",
       "<table border=\"1\" class=\"dataframe\">\n",
       "  <thead>\n",
       "    <tr style=\"text-align: right;\">\n",
       "      <th></th>\n",
       "      <th>emb_00</th>\n",
       "      <th>emb_01</th>\n",
       "      <th>emb_02</th>\n",
       "      <th>emb_03</th>\n",
       "      <th>emb_04</th>\n",
       "      <th>emb_05</th>\n",
       "      <th>emb_06</th>\n",
       "      <th>emb_07</th>\n",
       "    </tr>\n",
       "  </thead>\n",
       "  <tbody>\n",
       "    <tr>\n",
       "      <th>count</th>\n",
       "      <td>688081.000000</td>\n",
       "      <td>688081.000000</td>\n",
       "      <td>688081.000000</td>\n",
       "      <td>688081.000000</td>\n",
       "      <td>688081.000000</td>\n",
       "      <td>688081.000000</td>\n",
       "      <td>688081.000000</td>\n",
       "      <td>688081.000000</td>\n",
       "    </tr>\n",
       "    <tr>\n",
       "      <th>mean</th>\n",
       "      <td>-0.233674</td>\n",
       "      <td>-0.182344</td>\n",
       "      <td>-0.341841</td>\n",
       "      <td>0.141774</td>\n",
       "      <td>0.087658</td>\n",
       "      <td>-0.310706</td>\n",
       "      <td>0.221978</td>\n",
       "      <td>0.660092</td>\n",
       "    </tr>\n",
       "    <tr>\n",
       "      <th>std</th>\n",
       "      <td>0.127160</td>\n",
       "      <td>0.164813</td>\n",
       "      <td>0.158454</td>\n",
       "      <td>0.042852</td>\n",
       "      <td>0.176450</td>\n",
       "      <td>0.183110</td>\n",
       "      <td>0.172307</td>\n",
       "      <td>0.146099</td>\n",
       "    </tr>\n",
       "    <tr>\n",
       "      <th>min</th>\n",
       "      <td>-0.507903</td>\n",
       "      <td>-0.866867</td>\n",
       "      <td>-0.726170</td>\n",
       "      <td>-0.171166</td>\n",
       "      <td>-0.244393</td>\n",
       "      <td>-0.752536</td>\n",
       "      <td>-0.416352</td>\n",
       "      <td>-0.119232</td>\n",
       "    </tr>\n",
       "    <tr>\n",
       "      <th>25%</th>\n",
       "      <td>-0.323981</td>\n",
       "      <td>-0.161752</td>\n",
       "      <td>-0.437999</td>\n",
       "      <td>0.125731</td>\n",
       "      <td>-0.055718</td>\n",
       "      <td>-0.472807</td>\n",
       "      <td>0.122621</td>\n",
       "      <td>0.554479</td>\n",
       "    </tr>\n",
       "    <tr>\n",
       "      <th>50%</th>\n",
       "      <td>-0.276056</td>\n",
       "      <td>-0.122917</td>\n",
       "      <td>-0.335646</td>\n",
       "      <td>0.144267</td>\n",
       "      <td>0.049710</td>\n",
       "      <td>-0.317320</td>\n",
       "      <td>0.231313</td>\n",
       "      <td>0.701063</td>\n",
       "    </tr>\n",
       "    <tr>\n",
       "      <th>75%</th>\n",
       "      <td>-0.174930</td>\n",
       "      <td>-0.099376</td>\n",
       "      <td>-0.246826</td>\n",
       "      <td>0.165613</td>\n",
       "      <td>0.214021</td>\n",
       "      <td>-0.142273</td>\n",
       "      <td>0.343616</td>\n",
       "      <td>0.774657</td>\n",
       "    </tr>\n",
       "    <tr>\n",
       "      <th>max</th>\n",
       "      <td>0.398164</td>\n",
       "      <td>-0.009859</td>\n",
       "      <td>0.395445</td>\n",
       "      <td>0.284151</td>\n",
       "      <td>0.769049</td>\n",
       "      <td>0.056690</td>\n",
       "      <td>0.600746</td>\n",
       "      <td>0.903851</td>\n",
       "    </tr>\n",
       "  </tbody>\n",
       "</table>\n",
       "</div>"
      ],
      "text/plain": [
       "              emb_00         emb_01         emb_02         emb_03  \\\n",
       "count  688081.000000  688081.000000  688081.000000  688081.000000   \n",
       "mean       -0.233674      -0.182344      -0.341841       0.141774   \n",
       "std         0.127160       0.164813       0.158454       0.042852   \n",
       "min        -0.507903      -0.866867      -0.726170      -0.171166   \n",
       "25%        -0.323981      -0.161752      -0.437999       0.125731   \n",
       "50%        -0.276056      -0.122917      -0.335646       0.144267   \n",
       "75%        -0.174930      -0.099376      -0.246826       0.165613   \n",
       "max         0.398164      -0.009859       0.395445       0.284151   \n",
       "\n",
       "              emb_04         emb_05         emb_06         emb_07  \n",
       "count  688081.000000  688081.000000  688081.000000  688081.000000  \n",
       "mean        0.087658      -0.310706       0.221978       0.660092  \n",
       "std         0.176450       0.183110       0.172307       0.146099  \n",
       "min        -0.244393      -0.752536      -0.416352      -0.119232  \n",
       "25%        -0.055718      -0.472807       0.122621       0.554479  \n",
       "50%         0.049710      -0.317320       0.231313       0.701063  \n",
       "75%         0.214021      -0.142273       0.343616       0.774657  \n",
       "max         0.769049       0.056690       0.600746       0.903851  "
      ]
     },
     "execution_count": 133,
     "metadata": {},
     "output_type": "execute_result"
    }
   ],
   "source": [
    "embeddings_df.describe()"
   ]
  },
  {
   "cell_type": "code",
   "execution_count": 134,
   "id": "de99ee27-0355-48fd-8f12-05c73d489a2e",
   "metadata": {},
   "outputs": [],
   "source": [
    "embeddings_df.to_parquet(Path(setup.temp_path).joinpath('13_DATA_embeddings.parquet'))"
   ]
  },
  {
   "cell_type": "markdown",
   "id": "34ebc137-4fa0-42f8-8ba7-7143ba76818f",
   "metadata": {},
   "source": [
    "## Metrics on Test-Only Graph\n",
    "Repeat metrics on the test nodes (and associated NAICS nodes) only.  Expect some performance degradation"
   ]
  },
  {
   "cell_type": "code",
   "execution_count": null,
   "id": "cbc4d318-6df3-4fc5-9703-3984487d1c10",
   "metadata": {},
   "outputs": [],
   "source": [
    "TO DO\n",
    "- Check prediction outputs.  Consider sampling or see how batch size can change runtime (GPU nowhere near maxed at 40)\n",
    "- Finish!  All metrics, lift then test only\n",
    "- Embeddings for training data\n",
    "- Run magic!\n",
    "- Replace xgboost script code \n",
    "- GNN models (repeat processes)\n",
    "  - \"label trick\"\n",
    "  - mean encoding\n",
    "  - both\n",
    "- XGBoost plus embeddings"
   ]
  }
 ],
 "metadata": {
  "kernelspec": {
   "display_name": "tf_p39",
   "language": "python",
   "name": "tf_p39"
  },
  "language_info": {
   "codemirror_mode": {
    "name": "ipython",
    "version": 3
   },
   "file_extension": ".py",
   "mimetype": "text/x-python",
   "name": "python",
   "nbconvert_exporter": "python",
   "pygments_lexer": "ipython3",
   "version": "3.8.18"
  }
 },
 "nbformat": 4,
 "nbformat_minor": 5
}
