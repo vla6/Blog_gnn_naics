{
 "cells": [
  {
   "cell_type": "code",
   "execution_count": 1,
   "id": "8816b366-5be4-4748-b769-4dc6f7d1735f",
   "metadata": {},
   "outputs": [],
   "source": [
    "# Modify the file 00_setup.py to define input/output file paths on your system\n",
    "# The information in 00_setup.py will be used across notebooks\n",
    "from importlib.machinery import SourceFileLoader\n",
    "setup = SourceFileLoader(\"setup\", \"./00_setup.py\").load_module()"
   ]
  },
  {
   "cell_type": "markdown",
   "id": "a945de0c-f042-46b2-9d06-ab064af6c05b",
   "metadata": {},
   "source": [
    "# Neural Network - With Target Encoded Feature\n",
    "Neural network plus the mean encoded feature"
   ]
  },
  {
   "cell_type": "markdown",
   "id": "d47a7ec9-7d7b-47df-a902-b2f1e54f1135",
   "metadata": {},
   "source": [
    "*This script takes about 2 hours on my MacBook Air*"
   ]
  },
  {
   "cell_type": "code",
   "execution_count": 2,
   "id": "fb42f9b4-99a8-4753-aacf-8722469be4c8",
   "metadata": {},
   "outputs": [],
   "source": [
    "import numpy as np\n",
    "import pandas as pd\n",
    "import tensorflow as tf"
   ]
  },
  {
   "cell_type": "code",
   "execution_count": 3,
   "id": "bf51170a-4487-4d10-b63d-c88f41b529f9",
   "metadata": {},
   "outputs": [],
   "source": [
    "from pathlib import Path\n",
    "import importlib, pickle\n",
    "from sklearn import model_selection"
   ]
  },
  {
   "cell_type": "code",
   "execution_count": 4,
   "id": "09dd973b-60a0-434b-9193-8c5fcec27dd5",
   "metadata": {},
   "outputs": [],
   "source": [
    "import pandas as pd\n",
    "import os\n",
    "import re\n",
    "\n",
    "from tensorflow.keras import layers, optimizers, losses, metrics, Model\n",
    "from sklearn import preprocessing, feature_extraction, model_selection\n",
    "from IPython.display import display, HTML\n",
    "import matplotlib.pyplot as plt\n",
    "%matplotlib inline"
   ]
  },
  {
   "cell_type": "code",
   "execution_count": 5,
   "id": "22b466e7-a419-45aa-83f7-5dafc7a3998b",
   "metadata": {},
   "outputs": [],
   "source": [
    "from tensorflow.keras.models import Sequential\n",
    "from tensorflow.keras.layers import Dense, Dropout\n",
    "import tensorflow.keras.metrics as km"
   ]
  },
  {
   "cell_type": "code",
   "execution_count": 6,
   "id": "9f1e4f2e-0e45-4e28-8e9c-212e0bb51199",
   "metadata": {},
   "outputs": [],
   "source": [
    "from sba_gnn.sba_gnn import sg_plot "
   ]
  },
  {
   "cell_type": "markdown",
   "id": "3cbc00d2-bc83-42d9-83eb-65fcf306dccd",
   "metadata": {},
   "source": [
    "## Input Data"
   ]
  },
  {
   "cell_type": "code",
   "execution_count": 7,
   "id": "5f0183dc-7ee1-49eb-8723-a9f4cea14b88",
   "metadata": {},
   "outputs": [],
   "source": [
    "business_data = pd.read_parquet(Path(setup.temp_path).joinpath('20_DATA_combined_scaled_all.parquet'))"
   ]
  },
  {
   "cell_type": "code",
   "execution_count": 9,
   "id": "555f4031-e66d-4476-a37e-50e2d382ecf4",
   "metadata": {},
   "outputs": [],
   "source": [
    "with open(Path(setup.temp_path).joinpath('20_DATA_features.pkl'), 'rb') as fin:\n",
    "    imputer_features = pickle.load(fin)"
   ]
  },
  {
   "cell_type": "code",
   "execution_count": 10,
   "id": "3a916e26-2419-4bd0-8fd4-58a959dc4bac",
   "metadata": {},
   "outputs": [
    {
     "name": "stdout",
     "output_type": "stream",
     "text": [
      "['NoEmp', 'CreateJob', 'LowDoc', 'DisbursementGross', 'new_business', 'urban_flag', 'franchise_flag', 'missingindicator_LowDoc', 'missingindicator_new_business', 'missingindicator_urban_flag', 'menc_NAICS']\n"
     ]
    }
   ],
   "source": [
    "features = [f for f in imputer_features if 'NAICS' not in f]\n",
    "features = features + ['menc_NAICS']\n",
    "print(features)"
   ]
  },
  {
   "cell_type": "markdown",
   "id": "d94006a0-f010-4874-a7f1-0fd80c1e9a35",
   "metadata": {},
   "source": [
    "##### Datasets for train, validation"
   ]
  },
  {
   "cell_type": "code",
   "execution_count": 11,
   "id": "a02a909d-834a-46a8-9cdd-ccfa36b07d69",
   "metadata": {},
   "outputs": [],
   "source": [
    "X = business_data[['dset', 'LoanNr_ChkDgt'] + features].set_index('LoanNr_ChkDgt').sort_index()"
   ]
  },
  {
   "cell_type": "code",
   "execution_count": 12,
   "id": "42dc5c92-f5a2-457c-be3a-60cb0f6c2ef8",
   "metadata": {},
   "outputs": [
    {
     "name": "stdout",
     "output_type": "stream",
     "text": [
      "training X: (436120, 11), y:(436120,)\n"
     ]
    }
   ],
   "source": [
    "X_train = X[X['dset'] == 'train'].drop(columns='dset')\n",
    "y_train = business_data[business_data['dset'] == 'train'].set_index('LoanNr_ChkDgt').sort_index()['target']\n",
    "print(f'training X: {X_train.shape}, y:{y_train.shape}')"
   ]
  },
  {
   "cell_type": "code",
   "execution_count": 13,
   "id": "038b0e4f-a84a-4c8b-863e-4c594c1c9f32",
   "metadata": {},
   "outputs": [
    {
     "name": "stdout",
     "output_type": "stream",
     "text": [
      "val X: (93454, 11), y:(93454,)\n"
     ]
    }
   ],
   "source": [
    "X_val = X[X['dset'] == 'val'].drop(columns='dset')\n",
    "y_val = business_data[business_data['dset'] == 'val'].set_index('LoanNr_ChkDgt').sort_index()['target']\n",
    "print(f'val X: {X_val.shape}, y:{y_val.shape}')"
   ]
  },
  {
   "cell_type": "code",
   "execution_count": 14,
   "id": "bcb86909-e8a7-4f22-b089-6ca61dd86c73",
   "metadata": {},
   "outputs": [
    {
     "name": "stdout",
     "output_type": "stream",
     "text": [
      "0.2046546821975603\n"
     ]
    }
   ],
   "source": [
    "base_thresh = y_train.mean()\n",
    "print(base_thresh)"
   ]
  },
  {
   "cell_type": "markdown",
   "id": "a5c68623-4599-4472-a13a-9400d101633e",
   "metadata": {},
   "source": [
    "## Function to create model"
   ]
  },
  {
   "cell_type": "code",
   "execution_count": 15,
   "id": "9f4deffd-2b85-43d0-9cd1-1d9cf707b9e7",
   "metadata": {},
   "outputs": [],
   "source": [
    "def create_model(n_feat = len(features), \n",
    "                 hidden_size = setup.nn_layer_sizes,\n",
    "                 activation='tanh', lr=setup.nn_learning_rate,\n",
    "                 opt_func = setup.nn_optimizer, dropout = setup.nn_dropout):\n",
    "    \n",
    "    n_layers = len(hidden_size)\n",
    "    model = Sequential()\n",
    "    model.add(Dense(hidden_size[0], input_shape=(n_feat,), activation=activation))\n",
    "    for i in range(1, n_layers):\n",
    "        model.add(Dropout(dropout))\n",
    "        model.add(Dense(hidden_size[i], input_shape=(hidden_size[i-1],), activation=activation))\n",
    "    model.add(Dropout(dropout))\n",
    "    model.add(Dense(1, activation='sigmoid'))\n",
    "    # Compile model\n",
    "    optimizer = opt_func(learning_rate=lr)\n",
    "    model.compile(loss='binary_crossentropy', optimizer=optimizer, \n",
    "                  metrics=[km.AUC(curve='PR'), km.AUC(curve='ROC')])\n",
    "    return model"
   ]
  },
  {
   "cell_type": "markdown",
   "id": "3db4ea1c-77b2-4721-b106-1e66fc502139",
   "metadata": {},
   "source": [
    "## Create, fit model"
   ]
  },
  {
   "cell_type": "code",
   "execution_count": 16,
   "id": "4d48ddfa-580c-4321-9917-0bd176b67d87",
   "metadata": {},
   "outputs": [
    {
     "name": "stderr",
     "output_type": "stream",
     "text": [
      "2024-03-28 22:16:45.540178: I metal_plugin/src/device/metal_device.cc:1154] Metal device set to: Apple M1\n",
      "2024-03-28 22:16:45.540208: I metal_plugin/src/device/metal_device.cc:296] systemMemory: 16.00 GB\n",
      "2024-03-28 22:16:45.540214: I metal_plugin/src/device/metal_device.cc:313] maxCacheSize: 5.33 GB\n",
      "2024-03-28 22:16:45.540675: I tensorflow/core/common_runtime/pluggable_device/pluggable_device_factory.cc:303] Could not identify NUMA node of platform GPU ID 0, defaulting to 0. Your kernel may not have been built with NUMA support.\n",
      "2024-03-28 22:16:45.541081: I tensorflow/core/common_runtime/pluggable_device/pluggable_device_factory.cc:269] Created TensorFlow device (/job:localhost/replica:0/task:0/device:GPU:0 with 0 MB memory) -> physical PluggableDevice (device: 0, name: METAL, pci bus id: <undefined>)\n"
     ]
    }
   ],
   "source": [
    "this_model = create_model()"
   ]
  },
  {
   "cell_type": "code",
   "execution_count": 17,
   "id": "bb765db3-1646-44f2-84ec-f8f4a7b236ce",
   "metadata": {},
   "outputs": [
    {
     "name": "stdout",
     "output_type": "stream",
     "text": [
      "Model: \"sequential\"\n",
      "_________________________________________________________________\n",
      " Layer (type)                Output Shape              Param #   \n",
      "=================================================================\n",
      " dense (Dense)               (None, 128)               1536      \n",
      "                                                                 \n",
      " dropout (Dropout)           (None, 128)               0         \n",
      "                                                                 \n",
      " dense_1 (Dense)             (None, 64)                8256      \n",
      "                                                                 \n",
      " dropout_1 (Dropout)         (None, 64)                0         \n",
      "                                                                 \n",
      " dense_2 (Dense)             (None, 1)                 65        \n",
      "                                                                 \n",
      "=================================================================\n",
      "Total params: 9857 (38.50 KB)\n",
      "Trainable params: 9857 (38.50 KB)\n",
      "Non-trainable params: 0 (0.00 Byte)\n",
      "_________________________________________________________________\n"
     ]
    }
   ],
   "source": [
    "this_model.summary()"
   ]
  },
  {
   "cell_type": "code",
   "execution_count": 18,
   "id": "31772016-3643-468b-8d65-c456168cad6e",
   "metadata": {},
   "outputs": [
    {
     "name": "stdout",
     "output_type": "stream",
     "text": [
      "Epoch 1/20\n"
     ]
    },
    {
     "name": "stderr",
     "output_type": "stream",
     "text": [
      "2024-03-28 22:16:46.292185: I tensorflow/core/grappler/optimizers/custom_graph_optimizer_registry.cc:114] Plugin optimizer for device_type GPU is enabled.\n"
     ]
    },
    {
     "name": "stdout",
     "output_type": "stream",
     "text": [
      "13629/13629 [==============================] - ETA: 0s - loss: 0.4664 - auc: 0.3364 - auc_1: 0.6970"
     ]
    },
    {
     "name": "stderr",
     "output_type": "stream",
     "text": [
      "2024-03-28 22:20:29.347809: I tensorflow/core/grappler/optimizers/custom_graph_optimizer_registry.cc:114] Plugin optimizer for device_type GPU is enabled.\n"
     ]
    },
    {
     "name": "stdout",
     "output_type": "stream",
     "text": [
      "13629/13629 [==============================] - 252s 18ms/step - loss: 0.4664 - auc: 0.3364 - auc_1: 0.6970 - val_loss: 0.4629 - val_auc: 0.3615 - val_auc_1: 0.7106\n",
      "Epoch 2/20\n",
      "13629/13629 [==============================] - 248s 18ms/step - loss: 0.4584 - auc: 0.3586 - auc_1: 0.7140 - val_loss: 0.4604 - val_auc: 0.3695 - val_auc_1: 0.7160\n",
      "Epoch 3/20\n",
      "13629/13629 [==============================] - 250s 18ms/step - loss: 0.4569 - auc: 0.3632 - auc_1: 0.7170 - val_loss: 0.4608 - val_auc: 0.3723 - val_auc_1: 0.7187\n",
      "Epoch 4/20\n",
      "13629/13629 [==============================] - 178s 13ms/step - loss: 0.4563 - auc: 0.3656 - auc_1: 0.7182 - val_loss: 0.4595 - val_auc: 0.3738 - val_auc_1: 0.7190\n",
      "Epoch 5/20\n",
      "13629/13629 [==============================] - 169s 12ms/step - loss: 0.4560 - auc: 0.3669 - auc_1: 0.7190 - val_loss: 0.4593 - val_auc: 0.3738 - val_auc_1: 0.7193\n",
      "Epoch 6/20\n",
      "13629/13629 [==============================] - 174s 13ms/step - loss: 0.4556 - auc: 0.3671 - auc_1: 0.7197 - val_loss: 0.4599 - val_auc: 0.3744 - val_auc_1: 0.7207\n",
      "Epoch 7/20\n",
      "13629/13629 [==============================] - 170s 12ms/step - loss: 0.4552 - auc: 0.3689 - auc_1: 0.7206 - val_loss: 0.4583 - val_auc: 0.3757 - val_auc_1: 0.7211\n",
      "Epoch 8/20\n",
      "13629/13629 [==============================] - 2293s 168ms/step - loss: 0.4550 - auc: 0.3694 - auc_1: 0.7210 - val_loss: 0.4614 - val_auc: 0.3765 - val_auc_1: 0.7207\n",
      "Epoch 9/20\n",
      "13629/13629 [==============================] - 1114s 82ms/step - loss: 0.4548 - auc: 0.3702 - auc_1: 0.7213 - val_loss: 0.4582 - val_auc: 0.3762 - val_auc_1: 0.7214\n",
      "Epoch 10/20\n",
      "13629/13629 [==============================] - 161s 12ms/step - loss: 0.4548 - auc: 0.3694 - auc_1: 0.7213 - val_loss: 0.4587 - val_auc: 0.3781 - val_auc_1: 0.7221\n",
      "Epoch 11/20\n",
      "13629/13629 [==============================] - 162s 12ms/step - loss: 0.4545 - auc: 0.3706 - auc_1: 0.7221 - val_loss: 0.4599 - val_auc: 0.3746 - val_auc_1: 0.7209\n",
      "Epoch 12/20\n",
      "13629/13629 [==============================] - 162s 12ms/step - loss: 0.4546 - auc: 0.3715 - auc_1: 0.7217 - val_loss: 0.4602 - val_auc: 0.3784 - val_auc_1: 0.7222\n",
      "Epoch 13/20\n",
      "13629/13629 [==============================] - 2058s 151ms/step - loss: 0.4544 - auc: 0.3716 - auc_1: 0.7221 - val_loss: 0.4590 - val_auc: 0.3765 - val_auc_1: 0.7220\n",
      "Epoch 14/20\n",
      "13629/13629 [==============================] - 162s 12ms/step - loss: 0.4543 - auc: 0.3712 - auc_1: 0.7221 - val_loss: 0.4596 - val_auc: 0.3772 - val_auc_1: 0.7222\n",
      "Epoch 15/20\n",
      "13629/13629 [==============================] - 161s 12ms/step - loss: 0.4542 - auc: 0.3713 - auc_1: 0.7225 - val_loss: 0.4599 - val_auc: 0.3752 - val_auc_1: 0.7212\n",
      "Epoch 16/20\n",
      "13629/13629 [==============================] - 162s 12ms/step - loss: 0.4542 - auc: 0.3710 - auc_1: 0.7227 - val_loss: 0.4578 - val_auc: 0.3758 - val_auc_1: 0.7223\n",
      "Epoch 17/20\n",
      "13629/13629 [==============================] - 161s 12ms/step - loss: 0.4542 - auc: 0.3715 - auc_1: 0.7226 - val_loss: 0.4602 - val_auc: 0.3762 - val_auc_1: 0.7223\n",
      "Epoch 18/20\n",
      "13629/13629 [==============================] - 416s 30ms/step - loss: 0.4541 - auc: 0.3712 - auc_1: 0.7226 - val_loss: 0.4627 - val_auc: 0.3747 - val_auc_1: 0.7215\n",
      "Epoch 19/20\n",
      "13629/13629 [==============================] - 163s 12ms/step - loss: 0.4540 - auc: 0.3726 - auc_1: 0.7229 - val_loss: 0.4619 - val_auc: 0.3754 - val_auc_1: 0.7219\n",
      "Epoch 20/20\n",
      "13629/13629 [==============================] - 164s 12ms/step - loss: 0.4538 - auc: 0.3731 - auc_1: 0.7234 - val_loss: 0.4608 - val_auc: 0.3768 - val_auc_1: 0.7223\n"
     ]
    }
   ],
   "source": [
    "this_history = this_model.fit(X_train, y_train,\n",
    "                              validation_data=(X_val, y_val),\n",
    "                              batch_size=setup.nn_batch_size,\n",
    "                              epochs=setup.nn_epochs)"
   ]
  },
  {
   "cell_type": "code",
   "execution_count": 19,
   "id": "460c4b43-c673-4ee1-b070-d2d596ac4561",
   "metadata": {},
   "outputs": [],
   "source": [
    "this_history_df = pd.DataFrame(this_history.history)"
   ]
  },
  {
   "cell_type": "code",
   "execution_count": 20,
   "id": "c85bd09a-2fa9-4255-958b-4d48b17085ff",
   "metadata": {},
   "outputs": [],
   "source": [
    "# Rename columns\n",
    "try:\n",
    "    this_history_df.columns = ['_'.join(c.split('_')[0:-1])  \\\n",
    "                               if re.search(r'_\\d+$', c) else c for c in this_history_df.columns]\n",
    "except:\n",
    "    pass\n",
    "try:\n",
    "    cur_col = list(this_history_df.columns)\n",
    "    this_history_df.columns = [cur_col[0]] + \\\n",
    "        [f'{cur_col[i]}_roc'  if (cur_col[i] == cur_col[i-1]) and 'auc'in cur_col[i] \\\n",
    "         else cur_col[i] for i in range(1, len(cur_col))]\n",
    "except:\n",
    "    pass"
   ]
  },
  {
   "cell_type": "code",
   "execution_count": 21,
   "id": "8ea25384-9fc0-4916-a577-4bd9bc9b203f",
   "metadata": {},
   "outputs": [
    {
     "data": {
      "text/plain": [
       "Index(['loss', 'auc', 'auc_roc', 'val_loss', 'val_auc', 'val_auc_roc'], dtype='object')"
      ]
     },
     "execution_count": 21,
     "metadata": {},
     "output_type": "execute_result"
    }
   ],
   "source": [
    "this_history_df.columns"
   ]
  },
  {
   "cell_type": "code",
   "execution_count": 22,
   "id": "ad4783f2-8d0b-4850-a45a-3a4be8e63318",
   "metadata": {},
   "outputs": [],
   "source": [
    "this_history_df.to_csv(Path(setup.temp_path).joinpath('23_REPORT_fit_history.csv'))"
   ]
  },
  {
   "cell_type": "code",
   "execution_count": 23,
   "id": "73e89efd-75a9-4b27-81a8-13e12d5482be",
   "metadata": {},
   "outputs": [
    {
     "data": {
      "text/plain": [
       "<Axes: >"
      ]
     },
     "execution_count": 23,
     "metadata": {},
     "output_type": "execute_result"
    },
    {
     "data": {
      "image/png": "[encoded data removed]",
      "text/plain": [
       "<Figure size 640x480 with 1 Axes>"
      ]
     },
     "metadata": {},
     "output_type": "display_data"
    }
   ],
   "source": [
    "this_history_df[['loss', 'val_loss']].plot()"
   ]
  },
  {
   "cell_type": "code",
   "execution_count": 24,
   "id": "2342a31f-4891-4834-851a-b90b8b729c3c",
   "metadata": {},
   "outputs": [
    {
     "data": {
      "text/plain": [
       "<Axes: >"
      ]
     },
     "execution_count": 24,
     "metadata": {},
     "output_type": "execute_result"
    },
    {
     "data": {
      "image/png": "[encoded data removed]",
      "text/plain": [
       "<Figure size 640x480 with 1 Axes>"
      ]
     },
     "metadata": {},
     "output_type": "display_data"
    }
   ],
   "source": [
    "this_history_df[['auc', 'val_auc']].plot()"
   ]
  },
  {
   "cell_type": "code",
   "execution_count": 25,
   "id": "cee80637-cabf-4974-b476-08c5fba165ff",
   "metadata": {},
   "outputs": [
    {
     "data": {
      "text/plain": [
       "<Axes: >"
      ]
     },
     "execution_count": 25,
     "metadata": {},
     "output_type": "execute_result"
    },
    {
     "data": {
      "image/png": "[encoded data removed]",
      "text/plain": [
       "<Figure size 640x480 with 1 Axes>"
      ]
     },
     "metadata": {},
     "output_type": "display_data"
    }
   ],
   "source": [
    "this_history_df[['auc_roc', 'val_auc_roc']].plot()"
   ]
  },
  {
   "cell_type": "code",
   "execution_count": 26,
   "id": "e184b0ca-1d31-4798-88a0-4e590b67062e",
   "metadata": {},
   "outputs": [],
   "source": [
    "this_model.save(Path(setup.temp_path).joinpath('23_DATA_model.keras'),save_format='tf')"
   ]
  },
  {
   "cell_type": "markdown",
   "id": "d326c9ea-4759-4418-a64d-56c151049c25",
   "metadata": {},
   "source": [
    "## Predictions on all data"
   ]
  },
  {
   "cell_type": "code",
   "execution_count": 27,
   "id": "cd6910ee-5ffe-4def-9aa8-7dba76446b08",
   "metadata": {},
   "outputs": [
    {
     "name": "stdout",
     "output_type": "stream",
     "text": [
      "  117/21503 [..............................] - ETA: 27s"
     ]
    },
    {
     "name": "stderr",
     "output_type": "stream",
     "text": [
      "2024-03-29 00:43:05.070817: I tensorflow/core/grappler/optimizers/custom_graph_optimizer_registry.cc:114] Plugin optimizer for device_type GPU is enabled.\n"
     ]
    },
    {
     "name": "stdout",
     "output_type": "stream",
     "text": [
      "21503/21503 [==============================] - 26s 1ms/step\n"
     ]
    }
   ],
   "source": [
    "all_predictions = this_model.predict(X.drop(columns='dset'))"
   ]
  },
  {
   "cell_type": "code",
   "execution_count": 28,
   "id": "98a2cce1-b7d3-4ebc-8869-80705297e145",
   "metadata": {},
   "outputs": [],
   "source": [
    "all_predictions_df = pd.DataFrame(all_predictions, index=X.index) \\\n",
    "    .set_axis(['predict_prob'], axis=1) \\\n",
    "    .reset_index() \\\n",
    "    .merge(business_data[['target', 'LoanNr_ChkDgt', 'dset', 'dset_naics_holdout']], on='LoanNr_ChkDgt')\n",
    "    "
   ]
  },
  {
   "cell_type": "code",
   "execution_count": 29,
   "id": "3fc7da9c-6bd2-4d1b-b77f-b62679825d5d",
   "metadata": {},
   "outputs": [
    {
     "data": {
      "text/html": [
       "<div>\n",
       "<style scoped>\n",
       "    .dataframe tbody tr th:only-of-type {\n",
       "        vertical-align: middle;\n",
       "    }\n",
       "\n",
       "    .dataframe tbody tr th {\n",
       "        vertical-align: top;\n",
       "    }\n",
       "\n",
       "    .dataframe thead th {\n",
       "        text-align: right;\n",
       "    }\n",
       "</style>\n",
       "<table border=\"1\" class=\"dataframe\">\n",
       "  <thead>\n",
       "    <tr style=\"text-align: right;\">\n",
       "      <th></th>\n",
       "      <th>predict_prob</th>\n",
       "      <th>target</th>\n",
       "    </tr>\n",
       "  </thead>\n",
       "  <tbody>\n",
       "    <tr>\n",
       "      <th>predict_prob</th>\n",
       "      <td>1.000000</td>\n",
       "      <td>0.315101</td>\n",
       "    </tr>\n",
       "    <tr>\n",
       "      <th>target</th>\n",
       "      <td>0.315101</td>\n",
       "      <td>1.000000</td>\n",
       "    </tr>\n",
       "  </tbody>\n",
       "</table>\n",
       "</div>"
      ],
      "text/plain": [
       "              predict_prob    target\n",
       "predict_prob      1.000000  0.315101\n",
       "target            0.315101  1.000000"
      ]
     },
     "execution_count": 29,
     "metadata": {},
     "output_type": "execute_result"
    }
   ],
   "source": [
    "all_predictions_df[['predict_prob', 'target']].corr(method='spearman')"
   ]
  },
  {
   "cell_type": "markdown",
   "id": "e79afc4e-cb67-4064-9b19-dc52500baef2",
   "metadata": {},
   "source": [
    "##### Threshold Tune & Binary Predictions\n",
    "Using training probability predictions"
   ]
  },
  {
   "cell_type": "code",
   "execution_count": 30,
   "id": "ccd0bc23-fbc0-40d0-8d8b-f2302405a875",
   "metadata": {},
   "outputs": [],
   "source": [
    "all_pred_train = all_predictions_df[all_predictions_df['dset'] == 'train']"
   ]
  },
  {
   "cell_type": "code",
   "execution_count": 31,
   "id": "df36d9e9-f35e-46b3-a5be-08081f998319",
   "metadata": {},
   "outputs": [],
   "source": [
    "thresh_tune_data = sg_plot.get_f1_frame(all_pred_train['target'], \n",
    "                                        all_pred_train['predict_prob'])"
   ]
  },
  {
   "cell_type": "code",
   "execution_count": 32,
   "id": "de634156-caf6-4a52-b5d7-44b8e986aa1d",
   "metadata": {},
   "outputs": [
    {
     "data": {
      "text/html": [
       "<div>\n",
       "<style scoped>\n",
       "    .dataframe tbody tr th:only-of-type {\n",
       "        vertical-align: middle;\n",
       "    }\n",
       "\n",
       "    .dataframe tbody tr th {\n",
       "        vertical-align: top;\n",
       "    }\n",
       "\n",
       "    .dataframe thead th {\n",
       "        text-align: right;\n",
       "    }\n",
       "</style>\n",
       "<table border=\"1\" class=\"dataframe\">\n",
       "  <thead>\n",
       "    <tr style=\"text-align: right;\">\n",
       "      <th></th>\n",
       "      <th>thresh</th>\n",
       "      <th>f1</th>\n",
       "    </tr>\n",
       "  </thead>\n",
       "  <tbody>\n",
       "    <tr>\n",
       "      <th>9</th>\n",
       "      <td>0.18</td>\n",
       "      <td>0.448898</td>\n",
       "    </tr>\n",
       "    <tr>\n",
       "      <th>10</th>\n",
       "      <td>0.20</td>\n",
       "      <td>0.448376</td>\n",
       "    </tr>\n",
       "    <tr>\n",
       "      <th>8</th>\n",
       "      <td>0.16</td>\n",
       "      <td>0.445598</td>\n",
       "    </tr>\n",
       "  </tbody>\n",
       "</table>\n",
       "</div>"
      ],
      "text/plain": [
       "    thresh        f1\n",
       "9     0.18  0.448898\n",
       "10    0.20  0.448376\n",
       "8     0.16  0.445598"
      ]
     },
     "execution_count": 32,
     "metadata": {},
     "output_type": "execute_result"
    }
   ],
   "source": [
    "thresh_tune_data.sort_values('f1', ascending=False, inplace=True)\n",
    "thresh_tune_data.head(3)"
   ]
  },
  {
   "cell_type": "code",
   "execution_count": 33,
   "id": "c746b880-d781-4bc1-9df2-89211127c22a",
   "metadata": {},
   "outputs": [
    {
     "data": {
      "text/plain": [
       "0.18"
      ]
     },
     "execution_count": 33,
     "metadata": {},
     "output_type": "execute_result"
    }
   ],
   "source": [
    "best_thresh = thresh_tune_data['thresh'].iloc[0]\n",
    "best_thresh"
   ]
  },
  {
   "cell_type": "markdown",
   "id": "3c0ac5e2-be0d-42f0-960d-1f81b4a5d4e2",
   "metadata": {},
   "source": [
    "##### Append binary predictions to probability predictions"
   ]
  },
  {
   "cell_type": "code",
   "execution_count": 34,
   "id": "641da72e-1bca-4fe7-96c4-6c029b521bd7",
   "metadata": {},
   "outputs": [],
   "source": [
    "all_predictions_df['predict_bin'] = sg_plot.get_binary_predictions(all_predictions_df['predict_prob'], best_thresh)"
   ]
  },
  {
   "cell_type": "code",
   "execution_count": 35,
   "id": "9f6ecdf4-ac01-4c39-8315-e8583daa337e",
   "metadata": {},
   "outputs": [
    {
     "data": {
      "text/plain": [
       "predict_bin\n",
       "0    0.541542\n",
       "1    0.458458\n",
       "Name: proportion, dtype: float64"
      ]
     },
     "execution_count": 35,
     "metadata": {},
     "output_type": "execute_result"
    }
   ],
   "source": [
    "all_predictions_df['predict_bin'].value_counts(normalize=True, dropna=False)"
   ]
  },
  {
   "cell_type": "code",
   "execution_count": 36,
   "id": "cbfed830-7ff8-40f6-a691-6b894b26d6bc",
   "metadata": {},
   "outputs": [],
   "source": [
    "all_predictions_df.to_parquet(Path(setup.temp_path).joinpath('23_DATA_predictions.parquet'))"
   ]
  },
  {
   "cell_type": "markdown",
   "id": "69903966-6baa-4579-8e84-ce38e8ebdd77",
   "metadata": {},
   "source": [
    "## Metrics"
   ]
  },
  {
   "cell_type": "code",
   "execution_count": 37,
   "id": "09b7437b-4b51-42c4-a267-fb244663df49",
   "metadata": {},
   "outputs": [],
   "source": [
    "all_predictions_df = pd.read_parquet(Path(setup.temp_path).joinpath('23_DATA_predictions.parquet'))"
   ]
  },
  {
   "cell_type": "code",
   "execution_count": 38,
   "id": "0c748e1c-ddb3-4d92-8f84-485736633e10",
   "metadata": {},
   "outputs": [
    {
     "data": {
      "text/html": [
       "<div>\n",
       "<style scoped>\n",
       "    .dataframe tbody tr th:only-of-type {\n",
       "        vertical-align: middle;\n",
       "    }\n",
       "\n",
       "    .dataframe tbody tr th {\n",
       "        vertical-align: top;\n",
       "    }\n",
       "\n",
       "    .dataframe thead th {\n",
       "        text-align: right;\n",
       "    }\n",
       "</style>\n",
       "<table border=\"1\" class=\"dataframe\">\n",
       "  <thead>\n",
       "    <tr style=\"text-align: right;\">\n",
       "      <th></th>\n",
       "      <th>dset</th>\n",
       "      <th>accuracy_score</th>\n",
       "      <th>f1_score</th>\n",
       "      <th>precision_score</th>\n",
       "      <th>recall_score</th>\n",
       "      <th>average_precision_score</th>\n",
       "      <th>roc_auc_score</th>\n",
       "      <th>dset_naics_holdout</th>\n",
       "    </tr>\n",
       "  </thead>\n",
       "  <tbody>\n",
       "    <tr>\n",
       "      <th>0</th>\n",
       "      <td>test</td>\n",
       "      <td>0.629367</td>\n",
       "      <td>0.435506</td>\n",
       "      <td>0.310319</td>\n",
       "      <td>0.729996</td>\n",
       "      <td>0.362163</td>\n",
       "      <td>0.724914</td>\n",
       "      <td>NaN</td>\n",
       "    </tr>\n",
       "    <tr>\n",
       "      <th>1</th>\n",
       "      <td>train</td>\n",
       "      <td>0.634990</td>\n",
       "      <td>0.448898</td>\n",
       "      <td>0.324815</td>\n",
       "      <td>0.726388</td>\n",
       "      <td>0.380671</td>\n",
       "      <td>0.727427</td>\n",
       "      <td>NaN</td>\n",
       "    </tr>\n",
       "    <tr>\n",
       "      <th>2</th>\n",
       "      <td>val</td>\n",
       "      <td>0.632653</td>\n",
       "      <td>0.448230</td>\n",
       "      <td>0.325581</td>\n",
       "      <td>0.719134</td>\n",
       "      <td>0.376875</td>\n",
       "      <td>0.722401</td>\n",
       "      <td>NaN</td>\n",
       "    </tr>\n",
       "    <tr>\n",
       "      <th>0</th>\n",
       "      <td>test</td>\n",
       "      <td>0.632690</td>\n",
       "      <td>0.447950</td>\n",
       "      <td>0.324200</td>\n",
       "      <td>0.724497</td>\n",
       "      <td>0.376685</td>\n",
       "      <td>0.724844</td>\n",
       "      <td>0.0</td>\n",
       "    </tr>\n",
       "    <tr>\n",
       "      <th>1</th>\n",
       "      <td>test</td>\n",
       "      <td>0.624593</td>\n",
       "      <td>0.417035</td>\n",
       "      <td>0.290489</td>\n",
       "      <td>0.738939</td>\n",
       "      <td>0.341251</td>\n",
       "      <td>0.725387</td>\n",
       "      <td>1.0</td>\n",
       "    </tr>\n",
       "  </tbody>\n",
       "</table>\n",
       "</div>"
      ],
      "text/plain": [
       "    dset  accuracy_score  f1_score  precision_score  recall_score  \\\n",
       "0   test        0.629367  0.435506         0.310319      0.729996   \n",
       "1  train        0.634990  0.448898         0.324815      0.726388   \n",
       "2    val        0.632653  0.448230         0.325581      0.719134   \n",
       "0   test        0.632690  0.447950         0.324200      0.724497   \n",
       "1   test        0.624593  0.417035         0.290489      0.738939   \n",
       "\n",
       "   average_precision_score  roc_auc_score  dset_naics_holdout  \n",
       "0                 0.362163       0.724914                 NaN  \n",
       "1                 0.380671       0.727427                 NaN  \n",
       "2                 0.376875       0.722401                 NaN  \n",
       "0                 0.376685       0.724844                 0.0  \n",
       "1                 0.341251       0.725387                 1.0  "
      ]
     },
     "execution_count": 38,
     "metadata": {},
     "output_type": "execute_result"
    }
   ],
   "source": [
    "metrics_dset_df = all_predictions_df.groupby('dset') \\\n",
    "    .apply(lambda x: sg_plot.dset_metrics(x.target, x.predict_bin, x.predict_prob)) \\\n",
    "    .reset_index()\n",
    "metrics_test_df = all_predictions_df[all_predictions_df['dset'] == 'test'] \\\n",
    "    .groupby(['dset', 'dset_naics_holdout']) \\\n",
    "    .apply(lambda x: sg_plot.dset_metrics(x.target, x.predict_bin, x.predict_prob)) \\\n",
    "    .reset_index()\n",
    "metrics_df = pd.concat([metrics_dset_df, metrics_test_df])\n",
    "metrics_df.to_csv(Path(setup.temp_path).joinpath('23_REPORT_metrics.csv'), index=True)\n",
    "metrics_df"
   ]
  },
  {
   "cell_type": "markdown",
   "id": "2bf6b2f6-992d-4c4b-88cb-02eb418ae751",
   "metadata": {},
   "source": [
    "## Embeddings\n",
    "Save the hidden layer weight prior to sigmoid output, for possible later use in unsupervised GNN "
   ]
  },
  {
   "cell_type": "code",
   "execution_count": 39,
   "id": "f8bf0603-5235-4344-a73d-a5d632befd0d",
   "metadata": {},
   "outputs": [],
   "source": [
    "embed_model = Model(inputs=this_model.inputs, outputs=this_model.layers[-2].output) "
   ]
  },
  {
   "cell_type": "code",
   "execution_count": 40,
   "id": "0ee68a3c-a630-4fde-b765-f441d2bb3895",
   "metadata": {},
   "outputs": [
    {
     "name": "stdout",
     "output_type": "stream",
     "text": [
      "  187/21503 [..............................] - ETA: 17s"
     ]
    },
    {
     "name": "stderr",
     "output_type": "stream",
     "text": [
      "2024-03-29 00:43:51.171577: I tensorflow/core/grappler/optimizers/custom_graph_optimizer_registry.cc:114] Plugin optimizer for device_type GPU is enabled.\n"
     ]
    },
    {
     "name": "stdout",
     "output_type": "stream",
     "text": [
      "21503/21503 [==============================] - 17s 802us/step\n"
     ]
    }
   ],
   "source": [
    "embed_out = embed_model.predict(X.drop(columns='dset'))"
   ]
  },
  {
   "cell_type": "code",
   "execution_count": 41,
   "id": "f622987d-4206-494f-8482-08ac99fff2f9",
   "metadata": {},
   "outputs": [
    {
     "data": {
      "text/plain": [
       "(688081, 64)"
      ]
     },
     "execution_count": 41,
     "metadata": {},
     "output_type": "execute_result"
    }
   ],
   "source": [
    "embed_out.shape"
   ]
  },
  {
   "cell_type": "code",
   "execution_count": 42,
   "id": "2193800a-3e35-460c-8ee0-576d460f53bb",
   "metadata": {},
   "outputs": [],
   "source": [
    "embed_df = pd.DataFrame(embed_out, index=X.index) \n",
    "embed_df.columns = [f'emb_{i:03d}' for i in range(len(embed_df.columns))]\n",
    "embed_df.reset_index(inplace=True)"
   ]
  },
  {
   "cell_type": "code",
   "execution_count": 43,
   "id": "17f1e84b-2aec-4b6b-bd27-04a79008b2de",
   "metadata": {},
   "outputs": [
    {
     "data": {
      "text/html": [
       "<div>\n",
       "<style scoped>\n",
       "    .dataframe tbody tr th:only-of-type {\n",
       "        vertical-align: middle;\n",
       "    }\n",
       "\n",
       "    .dataframe tbody tr th {\n",
       "        vertical-align: top;\n",
       "    }\n",
       "\n",
       "    .dataframe thead th {\n",
       "        text-align: right;\n",
       "    }\n",
       "</style>\n",
       "<table border=\"1\" class=\"dataframe\">\n",
       "  <thead>\n",
       "    <tr style=\"text-align: right;\">\n",
       "      <th></th>\n",
       "      <th>LoanNr_ChkDgt</th>\n",
       "      <th>emb_000</th>\n",
       "      <th>emb_001</th>\n",
       "      <th>emb_002</th>\n",
       "      <th>emb_003</th>\n",
       "      <th>emb_004</th>\n",
       "      <th>emb_005</th>\n",
       "      <th>emb_006</th>\n",
       "      <th>emb_007</th>\n",
       "      <th>emb_008</th>\n",
       "      <th>...</th>\n",
       "      <th>emb_054</th>\n",
       "      <th>emb_055</th>\n",
       "      <th>emb_056</th>\n",
       "      <th>emb_057</th>\n",
       "      <th>emb_058</th>\n",
       "      <th>emb_059</th>\n",
       "      <th>emb_060</th>\n",
       "      <th>emb_061</th>\n",
       "      <th>emb_062</th>\n",
       "      <th>emb_063</th>\n",
       "    </tr>\n",
       "  </thead>\n",
       "  <tbody>\n",
       "    <tr>\n",
       "      <th>0</th>\n",
       "      <td>1000014003</td>\n",
       "      <td>0.999997</td>\n",
       "      <td>-0.185493</td>\n",
       "      <td>0.778988</td>\n",
       "      <td>0.999991</td>\n",
       "      <td>-1.000000</td>\n",
       "      <td>0.058228</td>\n",
       "      <td>-0.999978</td>\n",
       "      <td>-0.427396</td>\n",
       "      <td>0.351970</td>\n",
       "      <td>...</td>\n",
       "      <td>0.577731</td>\n",
       "      <td>-1.000000</td>\n",
       "      <td>-0.999999</td>\n",
       "      <td>0.883864</td>\n",
       "      <td>0.855696</td>\n",
       "      <td>-0.352030</td>\n",
       "      <td>-0.999815</td>\n",
       "      <td>1.0</td>\n",
       "      <td>0.999773</td>\n",
       "      <td>0.999999</td>\n",
       "    </tr>\n",
       "    <tr>\n",
       "      <th>1</th>\n",
       "      <td>1000024006</td>\n",
       "      <td>0.999988</td>\n",
       "      <td>0.156657</td>\n",
       "      <td>0.977533</td>\n",
       "      <td>0.999999</td>\n",
       "      <td>-1.000000</td>\n",
       "      <td>0.979082</td>\n",
       "      <td>-0.999991</td>\n",
       "      <td>-0.969789</td>\n",
       "      <td>-0.513925</td>\n",
       "      <td>...</td>\n",
       "      <td>-0.656893</td>\n",
       "      <td>-1.000000</td>\n",
       "      <td>-0.999985</td>\n",
       "      <td>0.998748</td>\n",
       "      <td>0.955726</td>\n",
       "      <td>0.141398</td>\n",
       "      <td>-0.999807</td>\n",
       "      <td>1.0</td>\n",
       "      <td>0.999900</td>\n",
       "      <td>0.999999</td>\n",
       "    </tr>\n",
       "    <tr>\n",
       "      <th>2</th>\n",
       "      <td>1000034009</td>\n",
       "      <td>0.999998</td>\n",
       "      <td>-0.455601</td>\n",
       "      <td>0.968171</td>\n",
       "      <td>0.475721</td>\n",
       "      <td>-0.999759</td>\n",
       "      <td>0.998743</td>\n",
       "      <td>-0.999965</td>\n",
       "      <td>-0.916335</td>\n",
       "      <td>0.151704</td>\n",
       "      <td>...</td>\n",
       "      <td>-0.590935</td>\n",
       "      <td>-0.999942</td>\n",
       "      <td>-0.999999</td>\n",
       "      <td>0.999960</td>\n",
       "      <td>0.952065</td>\n",
       "      <td>-0.222828</td>\n",
       "      <td>-0.999999</td>\n",
       "      <td>1.0</td>\n",
       "      <td>0.999772</td>\n",
       "      <td>0.615164</td>\n",
       "    </tr>\n",
       "    <tr>\n",
       "      <th>3</th>\n",
       "      <td>1000084002</td>\n",
       "      <td>0.999999</td>\n",
       "      <td>-0.584501</td>\n",
       "      <td>0.894935</td>\n",
       "      <td>0.050126</td>\n",
       "      <td>-0.999244</td>\n",
       "      <td>0.993820</td>\n",
       "      <td>-0.999929</td>\n",
       "      <td>-0.585380</td>\n",
       "      <td>0.448615</td>\n",
       "      <td>...</td>\n",
       "      <td>-0.165131</td>\n",
       "      <td>-0.999978</td>\n",
       "      <td>-1.000000</td>\n",
       "      <td>0.999703</td>\n",
       "      <td>0.945566</td>\n",
       "      <td>-0.459805</td>\n",
       "      <td>-1.000000</td>\n",
       "      <td>1.0</td>\n",
       "      <td>0.999757</td>\n",
       "      <td>0.447167</td>\n",
       "    </tr>\n",
       "    <tr>\n",
       "      <th>4</th>\n",
       "      <td>1000094005</td>\n",
       "      <td>0.999978</td>\n",
       "      <td>0.155097</td>\n",
       "      <td>0.991113</td>\n",
       "      <td>0.999997</td>\n",
       "      <td>-1.000000</td>\n",
       "      <td>0.988084</td>\n",
       "      <td>-0.999998</td>\n",
       "      <td>-0.978370</td>\n",
       "      <td>-0.442554</td>\n",
       "      <td>...</td>\n",
       "      <td>-0.695188</td>\n",
       "      <td>-1.000000</td>\n",
       "      <td>-0.999988</td>\n",
       "      <td>0.999535</td>\n",
       "      <td>0.958219</td>\n",
       "      <td>0.319526</td>\n",
       "      <td>-0.999871</td>\n",
       "      <td>1.0</td>\n",
       "      <td>0.999939</td>\n",
       "      <td>0.999997</td>\n",
       "    </tr>\n",
       "  </tbody>\n",
       "</table>\n",
       "<p>5 rows × 65 columns</p>\n",
       "</div>"
      ],
      "text/plain": [
       "  LoanNr_ChkDgt   emb_000   emb_001   emb_002   emb_003   emb_004   emb_005  \\\n",
       "0    1000014003  0.999997 -0.185493  0.778988  0.999991 -1.000000  0.058228   \n",
       "1    1000024006  0.999988  0.156657  0.977533  0.999999 -1.000000  0.979082   \n",
       "2    1000034009  0.999998 -0.455601  0.968171  0.475721 -0.999759  0.998743   \n",
       "3    1000084002  0.999999 -0.584501  0.894935  0.050126 -0.999244  0.993820   \n",
       "4    1000094005  0.999978  0.155097  0.991113  0.999997 -1.000000  0.988084   \n",
       "\n",
       "    emb_006   emb_007   emb_008  ...   emb_054   emb_055   emb_056   emb_057  \\\n",
       "0 -0.999978 -0.427396  0.351970  ...  0.577731 -1.000000 -0.999999  0.883864   \n",
       "1 -0.999991 -0.969789 -0.513925  ... -0.656893 -1.000000 -0.999985  0.998748   \n",
       "2 -0.999965 -0.916335  0.151704  ... -0.590935 -0.999942 -0.999999  0.999960   \n",
       "3 -0.999929 -0.585380  0.448615  ... -0.165131 -0.999978 -1.000000  0.999703   \n",
       "4 -0.999998 -0.978370 -0.442554  ... -0.695188 -1.000000 -0.999988  0.999535   \n",
       "\n",
       "    emb_058   emb_059   emb_060  emb_061   emb_062   emb_063  \n",
       "0  0.855696 -0.352030 -0.999815      1.0  0.999773  0.999999  \n",
       "1  0.955726  0.141398 -0.999807      1.0  0.999900  0.999999  \n",
       "2  0.952065 -0.222828 -0.999999      1.0  0.999772  0.615164  \n",
       "3  0.945566 -0.459805 -1.000000      1.0  0.999757  0.447167  \n",
       "4  0.958219  0.319526 -0.999871      1.0  0.999939  0.999997  \n",
       "\n",
       "[5 rows x 65 columns]"
      ]
     },
     "execution_count": 43,
     "metadata": {},
     "output_type": "execute_result"
    }
   ],
   "source": [
    "embed_df.head()"
   ]
  },
  {
   "cell_type": "code",
   "execution_count": 44,
   "id": "6a8d3c99-24d1-404c-a867-b67f6dd6a4a9",
   "metadata": {},
   "outputs": [],
   "source": [
    "embed_df.to_parquet(Path(setup.temp_path).joinpath('23_DATA_embeddings.parquet'))"
   ]
  },
  {
   "cell_type": "code",
   "execution_count": null,
   "id": "61477278-45ce-4742-b352-05fdde43506f",
   "metadata": {},
   "outputs": [],
   "source": []
  }
 ],
 "metadata": {
  "kernelspec": {
   "display_name": "tf_p39",
   "language": "python",
   "name": "tf_p39"
  },
  "language_info": {
   "codemirror_mode": {
    "name": "ipython",
    "version": 3
   },
   "file_extension": ".py",
   "mimetype": "text/x-python",
   "name": "python",
   "nbconvert_exporter": "python",
   "pygments_lexer": "ipython3",
   "version": "3.8.18"
  }
 },
 "nbformat": 4,
 "nbformat_minor": 5
}
