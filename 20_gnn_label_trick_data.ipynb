{
 "cells": [
  {
   "cell_type": "code",
   "execution_count": 1,
   "id": "f712a703-e125-44a3-a928-3e2f003e213e",
   "metadata": {
    "tags": []
   },
   "outputs": [],
   "source": [
    "# Modify the file 00_setup.py to define input/output file paths on your system\n",
    "# The information in 00_setup.py will be used across notebooks\n",
    "from importlib.machinery import SourceFileLoader\n",
    "setup = SourceFileLoader(\"setup\", \"./00_setup.py\").load_module()"
   ]
  },
  {
   "cell_type": "markdown",
   "id": "cc68f202-f8f7-4226-830b-2dfcf242f49b",
   "metadata": {},
   "source": [
    "# 20: Label Trick GNN - Stellargraphs\n",
    "Here, I create Stellargraph objects to try the \"label trick\" technique, which involves adding the label feature to the dataset (zeroing it out for the section used for training and validation)."
   ]
  },
  {
   "cell_type": "markdown",
   "id": "d3ec62c0-16f4-403f-b292-e474fea4cd15",
   "metadata": {},
   "source": [
    "The following graphs are created:\n",
    "  * Graph with training and validation cases, for model training\n",
    "    * Add the label predictor feature to half the training data\n",
    "    * The label predictor feature  is zero for the rest of train and all the validation\n",
    "  * Graph will all data (training, validation, test)\n",
    "    * Use the same labeling features as above, set label predictor feature to 0 for test\n",
    "  * Graph with test only\n",
    "    * All label features 0"
   ]
  },
  {
   "cell_type": "markdown",
   "id": "cfc9f6f8-049c-469b-b4a0-596a4432880f",
   "metadata": {},
   "source": [
    "The target feature data created in script 11 can be reused for these data frames"
   ]
  },
  {
   "cell_type": "markdown",
   "id": "c43c9c53-cddf-40da-b709-757d0a7a7a20",
   "metadata": {},
   "source": [
    "*This script takes about 5 minutes on my MacBook Air*"
   ]
  },
  {
   "cell_type": "code",
   "execution_count": 2,
   "id": "da2389b6-b2db-4a6f-a99a-c5bec6b75739",
   "metadata": {},
   "outputs": [],
   "source": [
    "import pandas as pd\n",
    "import numpy as np"
   ]
  },
  {
   "cell_type": "code",
   "execution_count": 3,
   "id": "6c3cb412-131c-42a8-8432-b67eb47c26a5",
   "metadata": {},
   "outputs": [],
   "source": [
    "from pathlib import Path\n",
    "import importlib, pickle"
   ]
  },
  {
   "cell_type": "code",
   "execution_count": 4,
   "id": "06e862f5-fdc4-4b2d-a13d-1a64f0367d44",
   "metadata": {},
   "outputs": [
    {
     "name": "stderr",
     "output_type": "stream",
     "text": [
      "2023-12-28 07:56:44.679270: I metal_plugin/src/device/metal_device.cc:1154] Metal device set to: Apple M1\n",
      "2023-12-28 07:56:44.679295: I metal_plugin/src/device/metal_device.cc:296] systemMemory: 16.00 GB\n",
      "2023-12-28 07:56:44.679303: I metal_plugin/src/device/metal_device.cc:313] maxCacheSize: 5.33 GB\n",
      "2023-12-28 07:56:44.679339: I tensorflow/core/common_runtime/pluggable_device/pluggable_device_factory.cc:303] Could not identify NUMA node of platform GPU ID 0, defaulting to 0. Your kernel may not have been built with NUMA support.\n",
      "2023-12-28 07:56:44.679357: I tensorflow/core/common_runtime/pluggable_device/pluggable_device_factory.cc:269] Created TensorFlow device (/job:localhost/replica:0/task:0/device:GPU:0 with 0 MB memory) -> physical PluggableDevice (device: 0, name: METAL, pci bus id: <undefined>)\n"
     ]
    }
   ],
   "source": [
    "from stellargraph import StellarGraph"
   ]
  },
  {
   "cell_type": "code",
   "execution_count": 5,
   "id": "1816ed7c-b92b-4fb3-871a-098b97f69e85",
   "metadata": {},
   "outputs": [],
   "source": [
    "from sba_gnn.sba_gnn import sg_gnn "
   ]
  },
  {
   "cell_type": "markdown",
   "id": "a81eb440-0431-445f-8eb0-15b96fb7d06b",
   "metadata": {},
   "source": [
    "## Import Data\n",
    "Node features and edge list"
   ]
  },
  {
   "cell_type": "code",
   "execution_count": 6,
   "id": "73010c8e-6b77-470f-9855-d533e84d127c",
   "metadata": {},
   "outputs": [],
   "source": [
    "features_naics = pd.read_parquet(Path(setup.temp_path).joinpath('10_DATA_graph_node_features_naics.parquet'))"
   ]
  },
  {
   "cell_type": "code",
   "execution_count": 7,
   "id": "3f8d6604-6384-498f-a839-d7e765fa1c38",
   "metadata": {},
   "outputs": [
    {
     "name": "stdout",
     "output_type": "stream",
     "text": [
      "Dropping features ['menc_NAICS', 'menc_NAICS_sector']\n"
     ]
    }
   ],
   "source": [
    "# Remove mean encoding features from NAICS data\n",
    "menc_feat = [c for c in features_naics.columns if c.startswith('menc_')]\n",
    "print(f'Dropping features {menc_feat}')\n",
    "if len(menc_feat) > 0:\n",
    "    features_naics = features_naics.drop(columns=menc_feat)"
   ]
  },
  {
   "cell_type": "code",
   "execution_count": 8,
   "id": "fe98e9bf-74ef-4acc-8945-36e9c77a8761",
   "metadata": {},
   "outputs": [
    {
     "data": {
      "text/plain": [
       "(688081, 12)"
      ]
     },
     "execution_count": 8,
     "metadata": {},
     "output_type": "execute_result"
    }
   ],
   "source": [
    "features_business = pd.read_parquet(Path(setup.temp_path).joinpath('10_DATA_graph_node_features_loans.parquet'))\n",
    "features_business.shape"
   ]
  },
  {
   "cell_type": "code",
   "execution_count": 9,
   "id": "e766ef9b-e058-412a-9cc1-c54d747423b7",
   "metadata": {},
   "outputs": [
    {
     "data": {
      "text/plain": [
       "Index(['dset', 'NoEmp', 'CreateJob', 'LowDoc', 'DisbursementGross',\n",
       "       'new_business', 'urban_flag', 'franchise_flag',\n",
       "       'missingindicator_LowDoc', 'missingindicator_new_business',\n",
       "       'missingindicator_urban_flag', 'target'],\n",
       "      dtype='object')"
      ]
     },
     "execution_count": 9,
     "metadata": {},
     "output_type": "execute_result"
    }
   ],
   "source": [
    "features_business.columns"
   ]
  },
  {
   "cell_type": "code",
   "execution_count": 10,
   "id": "920dfa2b-ba3e-48c4-9819-5ec3f8073446",
   "metadata": {},
   "outputs": [],
   "source": [
    "edges_all = pd.read_parquet(Path(setup.temp_path).joinpath('10_DATA_graph_edges.parquet'))"
   ]
  },
  {
   "cell_type": "code",
   "execution_count": 11,
   "id": "5c9c126e-393f-44e4-b102-0cad74de62f1",
   "metadata": {},
   "outputs": [],
   "source": [
    "label_info = pd.read_parquet(Path(setup.temp_path).joinpath('10_DATA_label_info.parquet'))"
   ]
  },
  {
   "cell_type": "markdown",
   "id": "8b533d7e-1d81-4430-8089-35c33457cd7a",
   "metadata": {},
   "source": [
    "## Stellargraph - Train plus Validation\n",
    "For the target predictor feature, set half to zero"
   ]
  },
  {
   "cell_type": "code",
   "execution_count": 12,
   "id": "e6803c76-54f8-479c-99b5-4ededbfa7f00",
   "metadata": {},
   "outputs": [],
   "source": [
    "# Mark \"train fix\" cases"
   ]
  },
  {
   "cell_type": "code",
   "execution_count": 13,
   "id": "8718d702-5d27-4860-9417-123aec93bf14",
   "metadata": {},
   "outputs": [
    {
     "data": {
      "text/plain": [
       "(688081, 13)"
      ]
     },
     "execution_count": 13,
     "metadata": {},
     "output_type": "execute_result"
    }
   ],
   "source": [
    "features_business = features_business \\\n",
    "    .drop(columns=['train_fix'], errors='ignore') \\\n",
    "    .merge(label_info[['train_fix']], left_index = True, right_index = True)\n",
    "features_business.shape"
   ]
  },
  {
   "cell_type": "code",
   "execution_count": 14,
   "id": "f70b30b2-8de7-4c50-af35-80763ac02569",
   "metadata": {},
   "outputs": [
    {
     "data": {
      "text/html": [
       "<div>\n",
       "<style scoped>\n",
       "    .dataframe tbody tr th:only-of-type {\n",
       "        vertical-align: middle;\n",
       "    }\n",
       "\n",
       "    .dataframe tbody tr th {\n",
       "        vertical-align: top;\n",
       "    }\n",
       "\n",
       "    .dataframe thead th {\n",
       "        text-align: right;\n",
       "    }\n",
       "</style>\n",
       "<table border=\"1\" class=\"dataframe\">\n",
       "  <thead>\n",
       "    <tr style=\"text-align: right;\">\n",
       "      <th>dset</th>\n",
       "      <th>test</th>\n",
       "      <th>train</th>\n",
       "      <th>val</th>\n",
       "    </tr>\n",
       "    <tr>\n",
       "      <th>train_fix</th>\n",
       "      <th></th>\n",
       "      <th></th>\n",
       "      <th></th>\n",
       "    </tr>\n",
       "  </thead>\n",
       "  <tbody>\n",
       "    <tr>\n",
       "      <th>0.0</th>\n",
       "      <td>55046</td>\n",
       "      <td>123855</td>\n",
       "      <td>220187</td>\n",
       "    </tr>\n",
       "    <tr>\n",
       "      <th>1.0</th>\n",
       "      <td>0</td>\n",
       "      <td>288993</td>\n",
       "      <td>0</td>\n",
       "    </tr>\n",
       "  </tbody>\n",
       "</table>\n",
       "</div>"
      ],
      "text/plain": [
       "dset        test   train     val\n",
       "train_fix                       \n",
       "0.0        55046  123855  220187\n",
       "1.0            0  288993       0"
      ]
     },
     "execution_count": 14,
     "metadata": {},
     "output_type": "execute_result"
    }
   ],
   "source": [
    "pd.crosstab(features_business['train_fix'], features_business['dset'])"
   ]
  },
  {
   "cell_type": "code",
   "execution_count": 15,
   "id": "b0f9464c-54fb-4ef3-b6cd-1d544bca6ca7",
   "metadata": {},
   "outputs": [
    {
     "data": {
      "text/html": [
       "<div>\n",
       "<style scoped>\n",
       "    .dataframe tbody tr th:only-of-type {\n",
       "        vertical-align: middle;\n",
       "    }\n",
       "\n",
       "    .dataframe tbody tr th {\n",
       "        vertical-align: top;\n",
       "    }\n",
       "\n",
       "    .dataframe thead th {\n",
       "        text-align: right;\n",
       "    }\n",
       "</style>\n",
       "<table border=\"1\" class=\"dataframe\">\n",
       "  <thead>\n",
       "    <tr style=\"text-align: right;\">\n",
       "      <th>dset</th>\n",
       "      <th>test</th>\n",
       "      <th>train</th>\n",
       "      <th>val</th>\n",
       "    </tr>\n",
       "    <tr>\n",
       "      <th>target</th>\n",
       "      <th></th>\n",
       "      <th></th>\n",
       "      <th></th>\n",
       "    </tr>\n",
       "  </thead>\n",
       "  <tbody>\n",
       "    <tr>\n",
       "      <th>0</th>\n",
       "      <td>55046</td>\n",
       "      <td>354179</td>\n",
       "      <td>175487</td>\n",
       "    </tr>\n",
       "    <tr>\n",
       "      <th>1</th>\n",
       "      <td>0</td>\n",
       "      <td>58669</td>\n",
       "      <td>44700</td>\n",
       "    </tr>\n",
       "  </tbody>\n",
       "</table>\n",
       "</div>"
      ],
      "text/plain": [
       "dset     test   train     val\n",
       "target                       \n",
       "0       55046  354179  175487\n",
       "1           0   58669   44700"
      ]
     },
     "execution_count": 15,
     "metadata": {},
     "output_type": "execute_result"
    }
   ],
   "source": [
    "# Set the target to 0 for the \"train train\" and \"test\" xases\n",
    "features_business['target'] =  np.where((features_business['dset'] == 'test') | \\\n",
    "                                        ((features_business['dset'] == 'train') &\n",
    "                                        (features_business['train_fix'] == 0)), \n",
    "                                        0, features_business['target'])\n",
    "features_business.drop(columns=['train_fix'], inplace=True)\n",
    "pd.crosstab(features_business['target'], features_business['dset'])"
   ]
  },
  {
   "cell_type": "code",
   "execution_count": 16,
   "id": "1966f50c-427b-43a9-b275-17a96521a3f1",
   "metadata": {},
   "outputs": [],
   "source": [
    "# Get only relevant edges and node data\n",
    "edges_train_val, features_business_train_val, features_naics_train_val = \\\n",
    "    sg_gnn.limit_data(edges_all, features_business, features_naics,\n",
    "                     ['train', 'val'])"
   ]
  },
  {
   "cell_type": "code",
   "execution_count": 17,
   "id": "1a84b4d8-5268-48b4-8466-e5be13d6c95c",
   "metadata": {},
   "outputs": [
    {
     "data": {
      "text/plain": [
       "Index(['NoEmp', 'CreateJob', 'LowDoc', 'DisbursementGross', 'new_business',\n",
       "       'urban_flag', 'franchise_flag', 'missingindicator_LowDoc',\n",
       "       'missingindicator_new_business', 'missingindicator_urban_flag',\n",
       "       'target'],\n",
       "      dtype='object')"
      ]
     },
     "execution_count": 17,
     "metadata": {},
     "output_type": "execute_result"
    }
   ],
   "source": [
    "features_business_train_val.columns"
   ]
  },
  {
   "cell_type": "code",
   "execution_count": 18,
   "id": "e02257e4-0c7d-4dfa-ba02-7d8c173048a8",
   "metadata": {},
   "outputs": [
    {
     "name": "stdout",
     "output_type": "stream",
     "text": [
      "Train+val graph data\n",
      "business features, start rows 688081, end 633035\n",
      "naics features, start rows 1311, end 1311\n"
     ]
    }
   ],
   "source": [
    "print(f'Train+val graph data')\n",
    "print(f'business features, start rows {features_business.shape[0]}, end {features_business_train_val.shape[0]}')\n",
    "print(f'naics features, start rows {features_naics.shape[0]}, end {features_naics_train_val.shape[0]}')"
   ]
  },
  {
   "cell_type": "code",
   "execution_count": 19,
   "id": "4ef2a9d5-706d-4fd7-94aa-240e3275b5a6",
   "metadata": {},
   "outputs": [],
   "source": [
    "sba_graph_train_val = StellarGraph({'LoanNr_ChkDgt':features_business_train_val,\n",
    "                                    'NAICS': features_naics_train_val},\n",
    "                                   edges_train_val, \n",
    "                                   source_column=\"source\", target_column=\"target\",\n",
    "                                   edge_type_column=\"type\")"
   ]
  },
  {
   "cell_type": "code",
   "execution_count": 20,
   "id": "410b7928-83b4-428a-af5b-05ecb9c7a748",
   "metadata": {},
   "outputs": [
    {
     "name": "stdout",
     "output_type": "stream",
     "text": [
      "StellarGraph: Undirected multigraph\n",
      " Nodes: 634346, Edges: 11132277\n",
      "\n",
      " Node types:\n",
      "  LoanNr_ChkDgt: [633035]\n",
      "    Features: float32 vector, length 11\n",
      "    Edge types: LoanNr_ChkDgt-loan_naics->NAICS, LoanNr_ChkDgt-loan_sector_naics->NAICS\n",
      "  NAICS: [1311]\n",
      "    Features: float32 vector, length 9\n",
      "    Edge types: NAICS-loan_naics->LoanNr_ChkDgt, NAICS-loan_sector_naics->LoanNr_ChkDgt\n",
      "\n",
      " Edge types:\n",
      "    LoanNr_ChkDgt-loan_sector_naics->NAICS: [10499242]\n",
      "        Weights: all 1 (default)\n",
      "        Features: none\n",
      "    LoanNr_ChkDgt-loan_naics->NAICS: [633035]\n",
      "        Weights: all 1 (default)\n",
      "        Features: none\n"
     ]
    }
   ],
   "source": [
    "print(sba_graph_train_val.info())"
   ]
  },
  {
   "cell_type": "code",
   "execution_count": 21,
   "id": "99b1b627-0cc0-492d-91d3-f9d92e2136e7",
   "metadata": {},
   "outputs": [],
   "source": [
    "# Save stellargraph object\n",
    "with open(Path(setup.temp_path).joinpath('20_DATA_stellargraph_train_val.pkl'), 'wb') as fout:\n",
    "      pickle.dump(sba_graph_train_val, fout)"
   ]
  },
  {
   "cell_type": "markdown",
   "id": "c91bf4bf-45dd-4152-99e4-1ad438a5e576",
   "metadata": {},
   "source": [
    "## Stellargraph - Full Graph"
   ]
  },
  {
   "cell_type": "code",
   "execution_count": 22,
   "id": "e5abd508-ef54-4fd9-ba1e-692763d22c6d",
   "metadata": {},
   "outputs": [],
   "source": [
    "sba_graph_all = StellarGraph({'LoanNr_ChkDgt':features_business.drop(columns=['dset']) ,\n",
    "                              'NAICS': features_naics},\n",
    "                             edges_all.drop(columns=['dset']).drop_duplicates(),\n",
    "                             source_column=\"source\", target_column=\"target\",\n",
    "                             edge_type_column=\"type\")"
   ]
  },
  {
   "cell_type": "code",
   "execution_count": 23,
   "id": "e0e72776-c6d2-418a-ac45-46efc06f3366",
   "metadata": {},
   "outputs": [
    {
     "name": "stdout",
     "output_type": "stream",
     "text": [
      "StellarGraph: Undirected multigraph\n",
      " Nodes: 689392, Edges: 12101146\n",
      "\n",
      " Node types:\n",
      "  LoanNr_ChkDgt: [688081]\n",
      "    Features: float32 vector, length 11\n",
      "    Edge types: LoanNr_ChkDgt-loan_naics->NAICS, LoanNr_ChkDgt-loan_sector_naics->NAICS\n",
      "  NAICS: [1311]\n",
      "    Features: float32 vector, length 9\n",
      "    Edge types: NAICS-loan_naics->LoanNr_ChkDgt, NAICS-loan_sector_naics->LoanNr_ChkDgt\n",
      "\n",
      " Edge types:\n",
      "    LoanNr_ChkDgt-loan_sector_naics->NAICS: [11413065]\n",
      "        Weights: all 1 (default)\n",
      "        Features: none\n",
      "    LoanNr_ChkDgt-loan_naics->NAICS: [688081]\n",
      "        Weights: all 1 (default)\n",
      "        Features: none\n"
     ]
    }
   ],
   "source": [
    "print(sba_graph_all.info())"
   ]
  },
  {
   "cell_type": "code",
   "execution_count": 24,
   "id": "529c6f9d-8f42-44a0-88a7-5ada24c3389f",
   "metadata": {},
   "outputs": [],
   "source": [
    "# Save stellargraph object\n",
    "with open(Path(setup.temp_path).joinpath('20_DATA_stellargraph_all.pkl'), 'wb') as fout:\n",
    "      pickle.dump(sba_graph_all, fout)"
   ]
  },
  {
   "cell_type": "markdown",
   "id": "0f68da26-78ad-45d8-88e0-bd2e0a3a9262",
   "metadata": {},
   "source": [
    "## Stellargraph - Test Only"
   ]
  },
  {
   "cell_type": "code",
   "execution_count": 25,
   "id": "ebb4bd5e-16e4-4a65-bd93-41c07c47ed3c",
   "metadata": {},
   "outputs": [],
   "source": [
    "# Get only relevant edges and node data\n",
    "edges_test, features_business_test, features_naics_test = \\\n",
    "    sg_gnn.limit_data(edges_all, features_business, features_naics, ['test'])"
   ]
  },
  {
   "cell_type": "code",
   "execution_count": 26,
   "id": "4e27767a-ec20-4915-be30-e9191767fc25",
   "metadata": {},
   "outputs": [
    {
     "name": "stdout",
     "output_type": "stream",
     "text": [
      "Test graph data\n",
      "business features, start rows 688081, end 55046\n",
      "naics features, start rows 1311, end 1311\n"
     ]
    }
   ],
   "source": [
    "print(f'Test graph data')\n",
    "print(f'business features, start rows {features_business.shape[0]}, end {features_business_test.shape[0]}')\n",
    "print(f'naics features, start rows {features_naics.shape[0]}, end {features_naics_test.shape[0]}')"
   ]
  },
  {
   "cell_type": "code",
   "execution_count": 27,
   "id": "38995dd3-04e9-42b6-95ec-8cab58eed9dd",
   "metadata": {},
   "outputs": [],
   "source": [
    "sba_graph_test  = StellarGraph({'LoanNr_ChkDgt':features_business_test,\n",
    "                                    'NAICS': features_naics_test},\n",
    "                                   edges_test, \n",
    "                                   source_column=\"source\", target_column=\"target\",\n",
    "                                   edge_type_column=\"type\")"
   ]
  },
  {
   "cell_type": "code",
   "execution_count": 28,
   "id": "6c8307dc-3622-4aec-a2b2-15faf7ed39af",
   "metadata": {},
   "outputs": [
    {
     "name": "stdout",
     "output_type": "stream",
     "text": [
      "StellarGraph: Undirected multigraph\n",
      " Nodes: 56357, Edges: 968869\n",
      "\n",
      " Node types:\n",
      "  LoanNr_ChkDgt: [55046]\n",
      "    Features: float32 vector, length 11\n",
      "    Edge types: LoanNr_ChkDgt-loan_naics->NAICS, LoanNr_ChkDgt-loan_sector_naics->NAICS\n",
      "  NAICS: [1311]\n",
      "    Features: float32 vector, length 9\n",
      "    Edge types: NAICS-loan_naics->LoanNr_ChkDgt, NAICS-loan_sector_naics->LoanNr_ChkDgt\n",
      "\n",
      " Edge types:\n",
      "    LoanNr_ChkDgt-loan_sector_naics->NAICS: [913823]\n",
      "        Weights: all 1 (default)\n",
      "        Features: none\n",
      "    LoanNr_ChkDgt-loan_naics->NAICS: [55046]\n",
      "        Weights: all 1 (default)\n",
      "        Features: none\n"
     ]
    }
   ],
   "source": [
    "print(sba_graph_test.info())"
   ]
  },
  {
   "cell_type": "code",
   "execution_count": 29,
   "id": "14da2e12-0453-49dc-87ea-cfdcd9922b43",
   "metadata": {},
   "outputs": [],
   "source": [
    "# Save stellargraph object\n",
    "with open(Path(setup.temp_path).joinpath('20_DATA_stellargraph_test.pkl'), 'wb') as fout:\n",
    "      pickle.dump(sba_graph_test, fout)"
   ]
  },
  {
   "cell_type": "code",
   "execution_count": null,
   "id": "0c0b095a-a4ff-465f-b3e9-183e3faa6eff",
   "metadata": {},
   "outputs": [],
   "source": []
  }
 ],
 "metadata": {
  "kernelspec": {
   "display_name": "tf_p39",
   "language": "python",
   "name": "tf_p39"
  },
  "language_info": {
   "codemirror_mode": {
    "name": "ipython",
    "version": 3
   },
   "file_extension": ".py",
   "mimetype": "text/x-python",
   "name": "python",
   "nbconvert_exporter": "python",
   "pygments_lexer": "ipython3",
   "version": "3.8.18"
  }
 },
 "nbformat": 4,
 "nbformat_minor": 5
}
