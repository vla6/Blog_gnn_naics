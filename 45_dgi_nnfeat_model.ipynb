{
 "cells": [
  {
   "cell_type": "code",
   "execution_count": 1,
   "id": "fd5142ad-a572-4168-b681-b2fc476832ff",
   "metadata": {
    "tags": []
   },
   "outputs": [],
   "source": [
    "# Modify the file 00_setup.py to define input/output file paths on your system\n",
    "# The information in 00_setup.py will be used across notebooks\n",
    "from importlib.machinery import SourceFileLoader\n",
    "setup = SourceFileLoader(\"setup\", \"./00_setup.py\").load_module()"
   ]
  },
  {
   "cell_type": "markdown",
   "id": "f953ab39-6cb2-41cc-bb3c-8d8daf57c210",
   "metadata": {},
   "source": [
    "# GNN - Unsupervised Model (neural network embedding features)"
   ]
  },
  {
   "cell_type": "markdown",
   "id": "28878d00-d46c-43ef-98ab-68823bdda2d0",
   "metadata": {},
   "source": [
    "Deep Graph Infomax via HinSage for a graph consisting of train and validation data only (embedded business features, no target)"
   ]
  },
  {
   "cell_type": "markdown",
   "id": "c313c044-8dbf-4b50-89ea-9e8f55ebd6c3",
   "metadata": {},
   "source": [
    "The unsupervised model has both business and NAICS nodes, and uses NAICS nodes as the head type."
   ]
  },
  {
   "cell_type": "markdown",
   "id": "d16d66bf-b383-4078-99e9-7c039b4be356",
   "metadata": {},
   "source": [
    "*This script takes about 30 minutes on my MacBook Air*"
   ]
  },
  {
   "cell_type": "code",
   "execution_count": 2,
   "id": "52887f3a-b4a8-43b6-ac6d-bb6a1e7ec0fa",
   "metadata": {},
   "outputs": [],
   "source": [
    "import pandas as pd\n",
    "import numpy as np"
   ]
  },
  {
   "cell_type": "code",
   "execution_count": 3,
   "id": "2141b963-4f15-477a-9f43-bdba4de14bc9",
   "metadata": {},
   "outputs": [],
   "source": [
    "from pathlib import Path\n",
    "import importlib\n",
    "import pickle, re"
   ]
  },
  {
   "cell_type": "code",
   "execution_count": 4,
   "id": "16fac673-6afd-46ba-96d0-422c2aad5bfd",
   "metadata": {},
   "outputs": [
    {
     "name": "stderr",
     "output_type": "stream",
     "text": [
      "2024-02-18 21:14:00.773769: I metal_plugin/src/device/metal_device.cc:1154] Metal device set to: Apple M1\n",
      "2024-02-18 21:14:00.773792: I metal_plugin/src/device/metal_device.cc:296] systemMemory: 16.00 GB\n",
      "2024-02-18 21:14:00.773799: I metal_plugin/src/device/metal_device.cc:313] maxCacheSize: 5.33 GB\n",
      "2024-02-18 21:14:00.773835: I tensorflow/core/common_runtime/pluggable_device/pluggable_device_factory.cc:303] Could not identify NUMA node of platform GPU ID 0, defaulting to 0. Your kernel may not have been built with NUMA support.\n",
      "2024-02-18 21:14:00.773852: I tensorflow/core/common_runtime/pluggable_device/pluggable_device_factory.cc:269] Created TensorFlow device (/job:localhost/replica:0/task:0/device:GPU:0 with 0 MB memory) -> physical PluggableDevice (device: 0, name: METAL, pci bus id: <undefined>)\n"
     ]
    }
   ],
   "source": [
    "import stellargraph as sg\n",
    "from stellargraph import StellarGraph\n",
    "from stellargraph.layer import HinSAGE, DeepGraphInfomax\n",
    "from stellargraph.mapper import HinSAGENodeGenerator, CorruptedGenerator\n",
    "\n",
    "from tensorflow.keras import layers, optimizers, losses, metrics, Model\n",
    "from sklearn import preprocessing, feature_extraction, model_selection\n",
    "from tensorflow.keras.callbacks import EarlyStopping\n",
    "\n",
    "import keras\n",
    "import tensorflow.keras.metrics as km\n",
    "from keras import initializers\n",
    "import tensorflow as tf"
   ]
  },
  {
   "cell_type": "code",
   "execution_count": 5,
   "id": "ac51eb62-a3dd-4976-b5c0-3030eec5fae8",
   "metadata": {},
   "outputs": [],
   "source": [
    "from sklearn.model_selection import train_test_split"
   ]
  },
  {
   "cell_type": "markdown",
   "id": "b6099e7c-b87f-4329-9e8d-6834022b6cd3",
   "metadata": {},
   "source": [
    "## Import Data"
   ]
  },
  {
   "cell_type": "code",
   "execution_count": 6,
   "id": "1c0de590-8299-4dc1-b9d7-b4ccd811f8a5",
   "metadata": {},
   "outputs": [],
   "source": [
    "# Training and validation clients - monitor training on val clients\n",
    "with open(Path(setup.temp_path).joinpath('44_DATA_stellargraph_train_val.pkl'), 'rb') as fin:\n",
    "      sba_graph  = pickle.load(fin)"
   ]
  },
  {
   "cell_type": "code",
   "execution_count": 7,
   "id": "8d4a5133-6234-4c44-8001-1225a6e5f67a",
   "metadata": {},
   "outputs": [],
   "source": [
    "# NAICS info\n",
    "features_naics = pd.read_parquet(Path(setup.temp_path).joinpath('40_DATA_graph_node_features_naics.parquet')) "
   ]
  },
  {
   "cell_type": "markdown",
   "id": "acbfbbd0-e53e-4d5e-a980-5be8efece555",
   "metadata": {},
   "source": [
    "## Model"
   ]
  },
  {
   "cell_type": "markdown",
   "id": "0901ba23-4af2-46db-8b36-4eff21e5ad7e",
   "metadata": {},
   "source": [
    "##### Split the NAICS nodes for fitting"
   ]
  },
  {
   "cell_type": "code",
   "execution_count": 8,
   "id": "c8a829d2-03d6-4ec8-ada4-498458895b88",
   "metadata": {},
   "outputs": [],
   "source": [
    "naics_nodes = sba_graph.nodes(node_type='NAICS')"
   ]
  },
  {
   "cell_type": "code",
   "execution_count": 9,
   "id": "c9c41482-ad16-48ce-a081-359196d3aca7",
   "metadata": {},
   "outputs": [],
   "source": [
    "train_index, val_index = train_test_split(naics_nodes, train_size=0.8, random_state = 756)"
   ]
  },
  {
   "cell_type": "markdown",
   "id": "a8a6b89c-56ac-4a7f-84eb-6838ebd507d4",
   "metadata": {},
   "source": [
    "##### Set seeds to setup"
   ]
  },
  {
   "cell_type": "code",
   "execution_count": 10,
   "id": "fd5973b0-415b-453c-be2e-2ffaad13c79c",
   "metadata": {},
   "outputs": [],
   "source": [
    "# Set some seeds\n",
    "np.random.seed(16)\n",
    "tf.random.set_seed(16)\n",
    "sg.random.set_seed(4345)"
   ]
  },
  {
   "cell_type": "markdown",
   "id": "66e2cd18-1204-4b22-b09c-50e94c31198c",
   "metadata": {},
   "source": [
    "##### HinSage Model"
   ]
  },
  {
   "cell_type": "code",
   "execution_count": 11,
   "id": "b9e4f62e-3c1c-4686-a563-ddde99398269",
   "metadata": {},
   "outputs": [],
   "source": [
    "generator = HinSAGENodeGenerator(sba_graph, batch_size=setup.gnn_batch_size, \n",
    "                                 num_samples=setup.gnn_unsup_num_samples,\n",
    "                                 head_node_type='NAICS',\n",
    "                                 seed=2454)"
   ]
  },
  {
   "cell_type": "code",
   "execution_count": 12,
   "id": "f82b06d2-958f-49c9-a058-439cf7a707bc",
   "metadata": {},
   "outputs": [],
   "source": [
    "graphsage_model = HinSAGE(\n",
    "    layer_sizes=setup.gnn_unsup_layer_sizes, generator=generator, \n",
    "    activations=setup.gnn_unsup_activations,\n",
    "    bias=True, dropout=setup.gnn_unsup_dropout,\n",
    ")"
   ]
  },
  {
   "cell_type": "markdown",
   "id": "3ae2f2f6-2676-44ec-a6ad-ef8f4054fc7d",
   "metadata": {},
   "source": [
    "##### Deep Graph Infomax"
   ]
  },
  {
   "cell_type": "code",
   "execution_count": 13,
   "id": "9ba5b06d-3964-4abd-9e6b-0059067b3006",
   "metadata": {},
   "outputs": [],
   "source": [
    "corrupted_generator = CorruptedGenerator(generator)"
   ]
  },
  {
   "cell_type": "code",
   "execution_count": 14,
   "id": "0b0846ad-6038-46d6-bc61-049fc07b490d",
   "metadata": {},
   "outputs": [],
   "source": [
    "train_flow_corr = corrupted_generator.flow(train_index, shuffle=True)\n",
    "val_flow_corr = corrupted_generator.flow(val_index, shuffle=False)"
   ]
  },
  {
   "cell_type": "code",
   "execution_count": 15,
   "id": "537322b1-3dfc-487e-9c26-c6ac9ba346db",
   "metadata": {},
   "outputs": [
    {
     "name": "stderr",
     "output_type": "stream",
     "text": [
      "/Users/valeriecarey/miniconda3/envs/tf_p38/lib/python3.8/site-packages/keras/src/initializers/initializers.py:120: UserWarning: The initializer GlorotUniform is unseeded and being called multiple times, which will return identical values each time (even if the initializer is unseeded). Please update your code to provide a seed to the initializer, or avoid using the same initializer instance more than once.\n",
      "  warnings.warn(\n"
     ]
    }
   ],
   "source": [
    "infomax = DeepGraphInfomax(graphsage_model, corrupted_generator)\n",
    "x_in, x_out = infomax.in_out_tensors()\n",
    "\n",
    "optimizer = setup.gnn_optimizer(learning_rate=setup.gnn_unsup_learning_rate)\n",
    "model = Model(inputs=x_in, outputs=x_out)\n",
    "model.compile(loss=tf.nn.sigmoid_cross_entropy_with_logits, optimizer=optimizer)"
   ]
  },
  {
   "cell_type": "markdown",
   "id": "9bd37d78-bfdf-4c0c-aabe-5faff3f4e15b",
   "metadata": {},
   "source": [
    "## Train"
   ]
  },
  {
   "cell_type": "code",
   "execution_count": 16,
   "id": "62e08aee-14c1-4510-bf0a-e8b3b484e7b6",
   "metadata": {},
   "outputs": [
    {
     "name": "stdout",
     "output_type": "stream",
     "text": [
      "Epoch 1/100\n"
     ]
    },
    {
     "name": "stderr",
     "output_type": "stream",
     "text": [
      "2024-02-18 21:15:16.211902: I tensorflow/core/grappler/optimizers/custom_graph_optimizer_registry.cc:114] Plugin optimizer for device_type GPU is enabled.\n",
      "2024-02-18 21:15:17.139127: I tensorflow/core/grappler/optimizers/custom_graph_optimizer_registry.cc:114] Plugin optimizer for device_type GPU is enabled.\n"
     ]
    },
    {
     "name": "stdout",
     "output_type": "stream",
     "text": [
      "31/31 - 1s - loss: 0.6779 - val_loss: 0.6409 - 1s/epoch - 45ms/step\n",
      "Epoch 2/100\n",
      "31/31 - 0s - loss: 0.6132 - val_loss: 0.5996 - 470ms/epoch - 15ms/step\n",
      "Epoch 3/100\n",
      "31/31 - 0s - loss: 0.5712 - val_loss: 0.5026 - 467ms/epoch - 15ms/step\n",
      "Epoch 4/100\n",
      "31/31 - 0s - loss: 0.4211 - val_loss: 0.3526 - 465ms/epoch - 15ms/step\n",
      "Epoch 5/100\n",
      "31/31 - 0s - loss: 0.3153 - val_loss: 0.3225 - 482ms/epoch - 16ms/step\n",
      "Epoch 6/100\n",
      "31/31 - 0s - loss: 0.2729 - val_loss: 0.2589 - 470ms/epoch - 15ms/step\n",
      "Epoch 7/100\n",
      "31/31 - 0s - loss: 0.2635 - val_loss: 0.2562 - 466ms/epoch - 15ms/step\n",
      "Epoch 8/100\n",
      "31/31 - 0s - loss: 0.2438 - val_loss: 0.2445 - 469ms/epoch - 15ms/step\n",
      "Epoch 9/100\n",
      "31/31 - 1s - loss: 0.2337 - val_loss: 0.2354 - 505ms/epoch - 16ms/step\n",
      "Epoch 10/100\n",
      "31/31 - 0s - loss: 0.2422 - val_loss: 0.2328 - 472ms/epoch - 15ms/step\n",
      "Epoch 11/100\n",
      "31/31 - 0s - loss: 0.2209 - val_loss: 0.1960 - 489ms/epoch - 16ms/step\n",
      "Epoch 12/100\n",
      "31/31 - 0s - loss: 0.2251 - val_loss: 0.2282 - 474ms/epoch - 15ms/step\n",
      "Epoch 13/100\n",
      "31/31 - 0s - loss: 0.2036 - val_loss: 0.2829 - 475ms/epoch - 15ms/step\n",
      "Epoch 14/100\n",
      "31/31 - 0s - loss: 0.2092 - val_loss: 0.1914 - 470ms/epoch - 15ms/step\n",
      "Epoch 15/100\n",
      "31/31 - 0s - loss: 0.1770 - val_loss: 0.1804 - 478ms/epoch - 15ms/step\n",
      "Epoch 16/100\n",
      "31/31 - 0s - loss: 0.1654 - val_loss: 0.1987 - 478ms/epoch - 15ms/step\n",
      "Epoch 17/100\n",
      "31/31 - 0s - loss: 0.1701 - val_loss: 0.1799 - 469ms/epoch - 15ms/step\n",
      "Epoch 18/100\n",
      "31/31 - 0s - loss: 0.1491 - val_loss: 0.1705 - 469ms/epoch - 15ms/step\n",
      "Epoch 19/100\n",
      "31/31 - 0s - loss: 0.1409 - val_loss: 0.1723 - 471ms/epoch - 15ms/step\n",
      "Epoch 20/100\n",
      "31/31 - 0s - loss: 0.1457 - val_loss: 0.1404 - 466ms/epoch - 15ms/step\n",
      "Epoch 21/100\n",
      "31/31 - 0s - loss: 0.1463 - val_loss: 0.1165 - 474ms/epoch - 15ms/step\n",
      "Epoch 22/100\n",
      "31/31 - 0s - loss: 0.1273 - val_loss: 0.1254 - 464ms/epoch - 15ms/step\n",
      "Epoch 23/100\n",
      "31/31 - 0s - loss: 0.1405 - val_loss: 0.1488 - 467ms/epoch - 15ms/step\n",
      "Epoch 24/100\n",
      "31/31 - 0s - loss: 0.1269 - val_loss: 0.1379 - 467ms/epoch - 15ms/step\n",
      "Epoch 25/100\n",
      "31/31 - 0s - loss: 0.1277 - val_loss: 0.1169 - 468ms/epoch - 15ms/step\n",
      "Epoch 26/100\n",
      "31/31 - 0s - loss: 0.1046 - val_loss: 0.1530 - 467ms/epoch - 15ms/step\n",
      "Epoch 27/100\n",
      "31/31 - 0s - loss: 0.1148 - val_loss: 0.1595 - 469ms/epoch - 15ms/step\n",
      "Epoch 28/100\n",
      "31/31 - 0s - loss: 0.1343 - val_loss: 0.1427 - 468ms/epoch - 15ms/step\n",
      "Epoch 29/100\n",
      "31/31 - 0s - loss: 0.1117 - val_loss: 0.1485 - 469ms/epoch - 15ms/step\n",
      "Epoch 30/100\n",
      "31/31 - 0s - loss: 0.1219 - val_loss: 0.1190 - 466ms/epoch - 15ms/step\n",
      "Epoch 31/100\n",
      "31/31 - 0s - loss: 0.1096 - val_loss: 0.1696 - 466ms/epoch - 15ms/step\n",
      "Epoch 32/100\n",
      "31/31 - 0s - loss: 0.1310 - val_loss: 0.1383 - 467ms/epoch - 15ms/step\n",
      "Epoch 33/100\n",
      "31/31 - 0s - loss: 0.1208 - val_loss: 0.1301 - 474ms/epoch - 15ms/step\n",
      "Epoch 34/100\n",
      "31/31 - 0s - loss: 0.1250 - val_loss: 0.1384 - 466ms/epoch - 15ms/step\n",
      "Epoch 35/100\n",
      "31/31 - 0s - loss: 0.1135 - val_loss: 0.1742 - 463ms/epoch - 15ms/step\n",
      "Epoch 36/100\n",
      "31/31 - 0s - loss: 0.1176 - val_loss: 0.1308 - 475ms/epoch - 15ms/step\n",
      "Epoch 37/100\n",
      "31/31 - 0s - loss: 0.1076 - val_loss: 0.1526 - 468ms/epoch - 15ms/step\n",
      "Epoch 38/100\n",
      "31/31 - 0s - loss: 0.1115 - val_loss: 0.1796 - 471ms/epoch - 15ms/step\n",
      "Epoch 39/100\n",
      "31/31 - 0s - loss: 0.1255 - val_loss: 0.1268 - 469ms/epoch - 15ms/step\n",
      "Epoch 40/100\n",
      "31/31 - 0s - loss: 0.1019 - val_loss: 0.1554 - 470ms/epoch - 15ms/step\n",
      "Epoch 41/100\n",
      "31/31 - 0s - loss: 0.1064 - val_loss: 0.1427 - 477ms/epoch - 15ms/step\n",
      "Epoch 42/100\n",
      "31/31 - 0s - loss: 0.1216 - val_loss: 0.1549 - 466ms/epoch - 15ms/step\n",
      "Epoch 43/100\n",
      "31/31 - 0s - loss: 0.1181 - val_loss: 0.1656 - 469ms/epoch - 15ms/step\n",
      "Epoch 44/100\n",
      "31/31 - 0s - loss: 0.1137 - val_loss: 0.2021 - 470ms/epoch - 15ms/step\n",
      "Epoch 45/100\n",
      "31/31 - 0s - loss: 0.1260 - val_loss: 0.1319 - 472ms/epoch - 15ms/step\n",
      "Epoch 46/100\n",
      "31/31 - 0s - loss: 0.0974 - val_loss: 0.0909 - 469ms/epoch - 15ms/step\n",
      "Epoch 47/100\n",
      "31/31 - 0s - loss: 0.1082 - val_loss: 0.1407 - 469ms/epoch - 15ms/step\n",
      "Epoch 48/100\n",
      "31/31 - 0s - loss: 0.1122 - val_loss: 0.1332 - 470ms/epoch - 15ms/step\n",
      "Epoch 49/100\n",
      "31/31 - 0s - loss: 0.1200 - val_loss: 0.1344 - 466ms/epoch - 15ms/step\n",
      "Epoch 50/100\n",
      "31/31 - 0s - loss: 0.1173 - val_loss: 0.1257 - 468ms/epoch - 15ms/step\n",
      "Epoch 51/100\n",
      "31/31 - 0s - loss: 0.1039 - val_loss: 0.1531 - 466ms/epoch - 15ms/step\n",
      "Epoch 52/100\n",
      "31/31 - 0s - loss: 0.1041 - val_loss: 0.1333 - 470ms/epoch - 15ms/step\n",
      "Epoch 53/100\n",
      "31/31 - 0s - loss: 0.1303 - val_loss: 0.1425 - 467ms/epoch - 15ms/step\n",
      "Epoch 54/100\n",
      "31/31 - 0s - loss: 0.1061 - val_loss: 0.1252 - 468ms/epoch - 15ms/step\n",
      "Epoch 55/100\n",
      "31/31 - 0s - loss: 0.1252 - val_loss: 0.1486 - 466ms/epoch - 15ms/step\n",
      "Epoch 56/100\n",
      "31/31 - 0s - loss: 0.0914 - val_loss: 0.0995 - 465ms/epoch - 15ms/step\n",
      "Epoch 57/100\n",
      "31/31 - 0s - loss: 0.0995 - val_loss: 0.1299 - 468ms/epoch - 15ms/step\n",
      "Epoch 58/100\n",
      "31/31 - 0s - loss: 0.0977 - val_loss: 0.1174 - 466ms/epoch - 15ms/step\n",
      "Epoch 59/100\n",
      "31/31 - 0s - loss: 0.1034 - val_loss: 0.1312 - 466ms/epoch - 15ms/step\n",
      "Epoch 60/100\n",
      "31/31 - 0s - loss: 0.1077 - val_loss: 0.1043 - 464ms/epoch - 15ms/step\n",
      "Epoch 61/100\n",
      "31/31 - 0s - loss: 0.0900 - val_loss: 0.1239 - 466ms/epoch - 15ms/step\n",
      "Epoch 62/100\n",
      "31/31 - 0s - loss: 0.0956 - val_loss: 0.1820 - 465ms/epoch - 15ms/step\n",
      "Epoch 63/100\n",
      "31/31 - 0s - loss: 0.1091 - val_loss: 0.1483 - 466ms/epoch - 15ms/step\n",
      "Epoch 64/100\n",
      "31/31 - 0s - loss: 0.1015 - val_loss: 0.1262 - 464ms/epoch - 15ms/step\n",
      "Epoch 65/100\n",
      "31/31 - 0s - loss: 0.1046 - val_loss: 0.1303 - 467ms/epoch - 15ms/step\n",
      "Epoch 66/100\n",
      "31/31 - 0s - loss: 0.1126 - val_loss: 0.1378 - 465ms/epoch - 15ms/step\n",
      "Epoch 67/100\n",
      "31/31 - 0s - loss: 0.1031 - val_loss: 0.1506 - 468ms/epoch - 15ms/step\n",
      "Epoch 68/100\n",
      "31/31 - 0s - loss: 0.0847 - val_loss: 0.1513 - 469ms/epoch - 15ms/step\n",
      "Epoch 69/100\n",
      "31/31 - 0s - loss: 0.0960 - val_loss: 0.1308 - 481ms/epoch - 16ms/step\n",
      "Epoch 70/100\n",
      "31/31 - 0s - loss: 0.0990 - val_loss: 0.1089 - 470ms/epoch - 15ms/step\n",
      "Epoch 71/100\n",
      "31/31 - 0s - loss: 0.0911 - val_loss: 0.1440 - 467ms/epoch - 15ms/step\n",
      "Epoch 72/100\n",
      "31/31 - 0s - loss: 0.1128 - val_loss: 0.1715 - 468ms/epoch - 15ms/step\n",
      "Epoch 73/100\n",
      "31/31 - 0s - loss: 0.1139 - val_loss: 0.1447 - 465ms/epoch - 15ms/step\n",
      "Epoch 74/100\n",
      "31/31 - 0s - loss: 0.1083 - val_loss: 0.1174 - 465ms/epoch - 15ms/step\n",
      "Epoch 75/100\n",
      "31/31 - 0s - loss: 0.1017 - val_loss: 0.1357 - 465ms/epoch - 15ms/step\n",
      "Epoch 76/100\n",
      "31/31 - 0s - loss: 0.0903 - val_loss: 0.1234 - 466ms/epoch - 15ms/step\n",
      "Epoch 77/100\n",
      "31/31 - 0s - loss: 0.1036 - val_loss: 0.1289 - 464ms/epoch - 15ms/step\n",
      "Epoch 78/100\n",
      "31/31 - 0s - loss: 0.1094 - val_loss: 0.1501 - 466ms/epoch - 15ms/step\n",
      "Epoch 79/100\n",
      "31/31 - 0s - loss: 0.0911 - val_loss: 0.1318 - 464ms/epoch - 15ms/step\n",
      "Epoch 80/100\n",
      "31/31 - 0s - loss: 0.0922 - val_loss: 0.1525 - 470ms/epoch - 15ms/step\n",
      "Epoch 81/100\n",
      "31/31 - 0s - loss: 0.1014 - val_loss: 0.1388 - 464ms/epoch - 15ms/step\n",
      "Epoch 82/100\n",
      "31/31 - 0s - loss: 0.0929 - val_loss: 0.1241 - 465ms/epoch - 15ms/step\n",
      "Epoch 83/100\n",
      "31/31 - 0s - loss: 0.0894 - val_loss: 0.1512 - 467ms/epoch - 15ms/step\n",
      "Epoch 84/100\n",
      "31/31 - 0s - loss: 0.0972 - val_loss: 0.1232 - 466ms/epoch - 15ms/step\n",
      "Epoch 85/100\n",
      "31/31 - 0s - loss: 0.0947 - val_loss: 0.1202 - 465ms/epoch - 15ms/step\n",
      "Epoch 86/100\n",
      "31/31 - 0s - loss: 0.1159 - val_loss: 0.0987 - 466ms/epoch - 15ms/step\n",
      "Epoch 87/100\n",
      "31/31 - 0s - loss: 0.1164 - val_loss: 0.1428 - 466ms/epoch - 15ms/step\n",
      "Epoch 88/100\n",
      "31/31 - 0s - loss: 0.0953 - val_loss: 0.1602 - 463ms/epoch - 15ms/step\n"
     ]
    }
   ],
   "source": [
    "es = EarlyStopping(monitor=\"loss\", min_delta=0, patience=20)\n",
    "history = model.fit(train_flow_corr, epochs=setup.gnn_unsup_epochs, verbose=2, callbacks=[es],\n",
    "                   validation_data = val_flow_corr)"
   ]
  },
  {
   "cell_type": "code",
   "execution_count": 17,
   "id": "5714c056-83a6-4152-a3c6-e3c9fe8e1420",
   "metadata": {},
   "outputs": [],
   "source": [
    "# Tensorflow save format to work around issue \n",
    "# https://github.com/tensorflow/tensorflow/issues/46659\n",
    "model.save(Path(setup.temp_path).joinpath('45_DATA_model_corrupted.keras'), save_format='tf')"
   ]
  },
  {
   "cell_type": "markdown",
   "id": "42cc2770-2599-4326-b9f9-2163c4448027",
   "metadata": {},
   "source": [
    "##### History Plots"
   ]
  },
  {
   "cell_type": "code",
   "execution_count": 18,
   "id": "fdb54aa5-0060-4cc2-8e71-d07ead44b775",
   "metadata": {},
   "outputs": [],
   "source": [
    "this_history_df = pd.DataFrame(history.history)"
   ]
  },
  {
   "cell_type": "code",
   "execution_count": 19,
   "id": "ad4783f2-8d0b-4850-a45a-3a4be8e63318",
   "metadata": {},
   "outputs": [],
   "source": [
    "this_history_df.to_csv(Path(setup.temp_path).joinpath('45_REPORT_fit_history.csv'))"
   ]
  },
  {
   "cell_type": "code",
   "execution_count": 20,
   "id": "73e89efd-75a9-4b27-81a8-13e12d5482be",
   "metadata": {
    "tags": []
   },
   "outputs": [
    {
     "data": {
      "text/plain": [
       "<Axes: >"
      ]
     },
     "execution_count": 20,
     "metadata": {},
     "output_type": "execute_result"
    },
    {
     "data": {
      "image/png": "[encoded data removed]",
      "text/plain": [
       "<Figure size 640x480 with 1 Axes>"
      ]
     },
     "metadata": {},
     "output_type": "display_data"
    }
   ],
   "source": [
    "this_history_df[['loss', 'val_loss']].plot()"
   ]
  },
  {
   "cell_type": "code",
   "execution_count": 21,
   "id": "e8353258-5212-45ad-9e60-7ee9dd6ab498",
   "metadata": {},
   "outputs": [
    {
     "name": "stdout",
     "output_type": "stream",
     "text": [
      "Model: \"model\"\n",
      "__________________________________________________________________________________________________\n",
      " Layer (type)                Output Shape                 Param #   Connected to                  \n",
      "==================================================================================================\n",
      " input_2 (InputLayer)        [(None, 100, 64)]            0         []                            \n",
      "                                                                                                  \n",
      " input_3 (InputLayer)        [(None, 100, 64)]            0         []                            \n",
      "                                                                                                  \n",
      " input_1 (InputLayer)        [(None, 1, 1)]               0         []                            \n",
      "                                                                                                  \n",
      " reshape (Reshape)           (None, 1, 100, 64)           0         ['input_2[0][0]']             \n",
      "                                                                                                  \n",
      " reshape_1 (Reshape)         (None, 1, 100, 64)           0         ['input_3[0][0]']             \n",
      "                                                                                                  \n",
      " input_5 (InputLayer)        [(None, 100, 64)]            0         []                            \n",
      "                                                                                                  \n",
      " input_6 (InputLayer)        [(None, 100, 64)]            0         []                            \n",
      "                                                                                                  \n",
      " dropout_2 (Dropout)         (None, 1, 1)                 0         ['input_1[0][0]']             \n",
      "                                                                                                  \n",
      " dropout (Dropout)           (None, 1, 100, 64)           0         ['reshape[0][0]']             \n",
      "                                                                                                  \n",
      " dropout_1 (Dropout)         (None, 1, 100, 64)           0         ['reshape_1[0][0]']           \n",
      "                                                                                                  \n",
      " input_4 (InputLayer)        [(None, 1, 1)]               0         []                            \n",
      "                                                                                                  \n",
      " reshape_3 (Reshape)         (None, 1, 100, 64)           0         ['input_5[0][0]']             \n",
      "                                                                                                  \n",
      " reshape_4 (Reshape)         (None, 1, 100, 64)           0         ['input_6[0][0]']             \n",
      "                                                                                                  \n",
      " mean_hin_aggregator (MeanH  (None, 1, 8)                 524       ['dropout_2[0][0]',           \n",
      " inAggregator)                                                       'dropout[0][0]',             \n",
      "                                                                     'dropout_1[0][0]',           \n",
      "                                                                     'dropout_5[0][0]',           \n",
      "                                                                     'dropout_3[0][0]',           \n",
      "                                                                     'dropout_4[0][0]']           \n",
      "                                                                                                  \n",
      " dropout_5 (Dropout)         (None, 1, 1)                 0         ['input_4[0][0]']             \n",
      "                                                                                                  \n",
      " dropout_3 (Dropout)         (None, 1, 100, 64)           0         ['reshape_3[0][0]']           \n",
      "                                                                                                  \n",
      " dropout_4 (Dropout)         (None, 1, 100, 64)           0         ['reshape_4[0][0]']           \n",
      "                                                                                                  \n",
      " reshape_2 (Reshape)         (None, 8)                    0         ['mean_hin_aggregator[0][0]'] \n",
      "                                                                                                  \n",
      " lambda (Lambda)             (None, 8)                    0         ['reshape_2[0][0]',           \n",
      "                                                                     'reshape_5[0][0]']           \n",
      "                                                                                                  \n",
      " reshape_5 (Reshape)         (None, 8)                    0         ['mean_hin_aggregator[1][0]'] \n",
      "                                                                                                  \n",
      " dgi_readout (DGIReadout)    (8,)                         0         ['lambda[0][0]']              \n",
      "                                                                                                  \n",
      " dgi_discriminator (DGIDisc  (None,)                      64        ['lambda[0][0]',              \n",
      " riminator)                                                          'dgi_readout[0][0]',         \n",
      "                                                                     'lambda[1][0]',              \n",
      "                                                                     'dgi_readout[0][0]']         \n",
      "                                                                                                  \n",
      " tf.stack (TFOpLambda)       (None, 2)                    0         ['dgi_discriminator[0][0]',   \n",
      "                                                                     'dgi_discriminator[1][0]']   \n",
      "                                                                                                  \n",
      "==================================================================================================\n",
      "Total params: 588 (2.30 KB)\n",
      "Trainable params: 588 (2.30 KB)\n",
      "Non-trainable params: 0 (0.00 Byte)\n",
      "__________________________________________________________________________________________________\n"
     ]
    }
   ],
   "source": [
    "model.summary()"
   ]
  },
  {
   "cell_type": "markdown",
   "id": "9d5c0c3d-e4d1-4500-9129-b9d00346b13d",
   "metadata": {},
   "source": [
    "## Base Model Info"
   ]
  },
  {
   "cell_type": "code",
   "execution_count": 22,
   "id": "704a3af2-44ae-43bb-8098-1b2b8d0c8d3e",
   "metadata": {},
   "outputs": [],
   "source": [
    "x_inp, x_out = graphsage_model.in_out_tensors()"
   ]
  },
  {
   "cell_type": "code",
   "execution_count": 23,
   "id": "dce36e2f-d8c3-41da-a640-b657c1b15c3f",
   "metadata": {},
   "outputs": [],
   "source": [
    "graphsage_keras = Model(inputs=x_inp, outputs=x_out)"
   ]
  },
  {
   "cell_type": "code",
   "execution_count": 24,
   "id": "d4b097a6-16aa-4095-94ec-b8e1cc88919f",
   "metadata": {},
   "outputs": [
    {
     "name": "stdout",
     "output_type": "stream",
     "text": [
      "Model: \"model_1\"\n",
      "__________________________________________________________________________________________________\n",
      " Layer (type)                Output Shape                 Param #   Connected to                  \n",
      "==================================================================================================\n",
      " input_8 (InputLayer)        [(None, 100, 64)]            0         []                            \n",
      "                                                                                                  \n",
      " input_9 (InputLayer)        [(None, 100, 64)]            0         []                            \n",
      "                                                                                                  \n",
      " input_7 (InputLayer)        [(None, 1, 1)]               0         []                            \n",
      "                                                                                                  \n",
      " reshape_6 (Reshape)         (None, 1, 100, 64)           0         ['input_8[0][0]']             \n",
      "                                                                                                  \n",
      " reshape_7 (Reshape)         (None, 1, 100, 64)           0         ['input_9[0][0]']             \n",
      "                                                                                                  \n",
      " dropout_8 (Dropout)         (None, 1, 1)                 0         ['input_7[0][0]']             \n",
      "                                                                                                  \n",
      " dropout_6 (Dropout)         (None, 1, 100, 64)           0         ['reshape_6[0][0]']           \n",
      "                                                                                                  \n",
      " dropout_7 (Dropout)         (None, 1, 100, 64)           0         ['reshape_7[0][0]']           \n",
      "                                                                                                  \n",
      " mean_hin_aggregator (MeanH  (None, 1, 8)                 524       ['dropout_8[0][0]',           \n",
      " inAggregator)                                                       'dropout_6[0][0]',           \n",
      "                                                                     'dropout_7[0][0]']           \n",
      "                                                                                                  \n",
      " reshape_8 (Reshape)         (None, 8)                    0         ['mean_hin_aggregator[2][0]'] \n",
      "                                                                                                  \n",
      " lambda (Lambda)             (None, 8)                    0         ['reshape_8[0][0]']           \n",
      "                                                                                                  \n",
      "==================================================================================================\n",
      "Total params: 524 (2.05 KB)\n",
      "Trainable params: 524 (2.05 KB)\n",
      "Non-trainable params: 0 (0.00 Byte)\n",
      "__________________________________________________________________________________________________\n"
     ]
    }
   ],
   "source": [
    "graphsage_keras.summary()"
   ]
  },
  {
   "cell_type": "markdown",
   "id": "66ebc302-2b75-40b5-8ab6-9151748425de",
   "metadata": {
    "tags": []
   },
   "source": [
    "##### Save the Base Model"
   ]
  },
  {
   "cell_type": "code",
   "execution_count": 25,
   "id": "764e1854-aaf1-4652-a235-6712ecc7139d",
   "metadata": {},
   "outputs": [
    {
     "name": "stdout",
     "output_type": "stream",
     "text": [
      "WARNING:tensorflow:Compiled the loaded model, but the compiled metrics have yet to be built. `model.compile_metrics` will be empty until you train or evaluate the model.\n"
     ]
    }
   ],
   "source": [
    "# Tensorflow save format to work around issue \n",
    "# https://github.com/tensorflow/tensorflow/issues/46659\n",
    "graphsage_keras.save(Path(setup.temp_path).joinpath('45_DATA_model_base.keras'), save_format='tf')"
   ]
  },
  {
   "cell_type": "markdown",
   "id": "45ebf461-d11d-400e-b73c-75997725c313",
   "metadata": {},
   "source": [
    "## Embeddings - Full Graph"
   ]
  },
  {
   "cell_type": "markdown",
   "id": "ae3be8f6-58f1-4476-a701-59490fa009d5",
   "metadata": {},
   "source": [
    "Here, I will get NAICS node embeddings for the full graph.  The base model is used to accomplish this."
   ]
  },
  {
   "cell_type": "markdown",
   "id": "8a29badc-975e-4198-b0b7-c50beece6020",
   "metadata": {},
   "source": [
    "With my versions of Stellargraph, Keras, Tensorflow, etc., the value returned from HinSAGENodeGenerator.flow isn't compatible with what is expected from HinSAGE.get_in_out_tensors().  The flow value is a NodeSequence, which should generaate the proper tensors, but this isn't working so the tensors have to be extracted from the NodeSequence. "
   ]
  },
  {
   "cell_type": "markdown",
   "id": "9cec9e41-7626-47e2-b476-51f4830ddb8b",
   "metadata": {},
   "source": [
    "The NodeSequence generates a tuple.  The first dimension is the batch size.  I either have to iterate over batches or use a batch size large enough to hold all NAICS nodes!  Then, the 0th item holds the tensors needed for prediction."
   ]
  },
  {
   "cell_type": "markdown",
   "id": "cbe0a26c-d993-4f37-8b96-0dcc35771868",
   "metadata": {},
   "source": [
    "##### Get full graph"
   ]
  },
  {
   "cell_type": "markdown",
   "id": "a7f59534-7e43-453d-927b-6cb05c4eeb05",
   "metadata": {},
   "source": [
    "Load the full graph and get the NAICS nodes"
   ]
  },
  {
   "cell_type": "code",
   "execution_count": 26,
   "id": "2075957b-8852-4ae1-9cb4-aa86a6e42559",
   "metadata": {},
   "outputs": [],
   "source": [
    "with open(Path(setup.temp_path).joinpath('44_DATA_stellargraph_all.pkl'), 'rb') as fin:\n",
    "      sba_graph_all  = pickle.load(fin)"
   ]
  },
  {
   "cell_type": "code",
   "execution_count": 27,
   "id": "6298e87c-8bd1-4699-9c76-b4313012505b",
   "metadata": {},
   "outputs": [],
   "source": [
    "naics_nodes = sba_graph_all.nodes(node_type='NAICS')"
   ]
  },
  {
   "cell_type": "code",
   "execution_count": 28,
   "id": "b2584bcf-c129-4e92-99e5-927db9823254",
   "metadata": {},
   "outputs": [
    {
     "data": {
      "text/plain": [
       "1311"
      ]
     },
     "execution_count": 28,
     "metadata": {},
     "output_type": "execute_result"
    }
   ],
   "source": [
    "naics_len = len(naics_nodes)\n",
    "naics_len"
   ]
  },
  {
   "cell_type": "markdown",
   "id": "f254807c-8159-4f53-bd3b-f1abc1c18ecf",
   "metadata": {},
   "source": [
    "##### New generator with large batch size"
   ]
  },
  {
   "cell_type": "code",
   "execution_count": 29,
   "id": "6017d601-1228-411d-8f87-76a5a991b568",
   "metadata": {},
   "outputs": [],
   "source": [
    "generator_all = HinSAGENodeGenerator(sba_graph_all, batch_size=naics_len, \n",
    "                                 num_samples=setup.gnn_unsup_num_samples,\n",
    "                                 head_node_type='NAICS',\n",
    "                                 seed=3434)"
   ]
  },
  {
   "cell_type": "code",
   "execution_count": 30,
   "id": "2ae2bd40-5f36-4bf9-9802-bc729ada4df6",
   "metadata": {},
   "outputs": [],
   "source": [
    "flow_all = generator_all.flow(naics_nodes, shuffle=False)"
   ]
  },
  {
   "cell_type": "markdown",
   "id": "e1cdb9c3-987f-453f-a527-9b8ef5e29adb",
   "metadata": {},
   "source": [
    "##### Prediction\n",
    "Unpack the tuple.  Since I've used a large batch size, I only need the 0th item of the 0th item."
   ]
  },
  {
   "cell_type": "code",
   "execution_count": 31,
   "id": "7a0e2566-8b9d-47f2-816a-b3ad7b13a909",
   "metadata": {},
   "outputs": [
    {
     "name": "stdout",
     "output_type": "stream",
     "text": [
      "41/41 [==============================] - 0s 3ms/step\n"
     ]
    },
    {
     "name": "stderr",
     "output_type": "stream",
     "text": [
      "2024-02-18 21:17:42.416912: I tensorflow/core/grappler/optimizers/custom_graph_optimizer_registry.cc:114] Plugin optimizer for device_type GPU is enabled.\n"
     ]
    }
   ],
   "source": [
    "embed_out = graphsage_keras.predict(tuple(flow_all)[0][0])"
   ]
  },
  {
   "cell_type": "code",
   "execution_count": 32,
   "id": "2aeb0836-767a-462e-b981-9314795a3d6b",
   "metadata": {},
   "outputs": [
    {
     "name": "stdout",
     "output_type": "stream",
     "text": [
      "(1311, 8)\n"
     ]
    }
   ],
   "source": [
    "print(embed_out.shape)"
   ]
  },
  {
   "cell_type": "code",
   "execution_count": 33,
   "id": "ff506dbb-3b32-4aec-9260-656f3424f78d",
   "metadata": {},
   "outputs": [],
   "source": [
    "embed_df = pd.DataFrame(embed_out, index=naics_nodes) \n",
    "embed_df.columns = [f'emb_{i:03d}' for i in range(len(embed_df.columns))]\n",
    "embed_df = embed_df.reset_index() \\\n",
    "    .rename(columns={'index':'source'})"
   ]
  },
  {
   "cell_type": "code",
   "execution_count": 34,
   "id": "81b02149-cf1e-4314-a8d8-51aab861d56c",
   "metadata": {},
   "outputs": [],
   "source": [
    "embed_df = embed_df.merge(features_naics[['NAICS_orig']].reset_index(),\n",
    "                          on='source')"
   ]
  },
  {
   "cell_type": "code",
   "execution_count": 35,
   "id": "6769ff38-b961-4c0f-b2a5-f0778abbd4a3",
   "metadata": {},
   "outputs": [
    {
     "name": "stdout",
     "output_type": "stream",
     "text": [
      "(1311, 10)\n"
     ]
    }
   ],
   "source": [
    "print(embed_df.shape)"
   ]
  },
  {
   "cell_type": "code",
   "execution_count": 36,
   "id": "cb4805b9-922b-47bb-9d01-bcfe64e1aab1",
   "metadata": {},
   "outputs": [
    {
     "data": {
      "text/html": [
       "<div>\n",
       "<style scoped>\n",
       "    .dataframe tbody tr th:only-of-type {\n",
       "        vertical-align: middle;\n",
       "    }\n",
       "\n",
       "    .dataframe tbody tr th {\n",
       "        vertical-align: top;\n",
       "    }\n",
       "\n",
       "    .dataframe thead th {\n",
       "        text-align: right;\n",
       "    }\n",
       "</style>\n",
       "<table border=\"1\" class=\"dataframe\">\n",
       "  <thead>\n",
       "    <tr style=\"text-align: right;\">\n",
       "      <th></th>\n",
       "      <th>source</th>\n",
       "      <th>emb_000</th>\n",
       "      <th>emb_001</th>\n",
       "      <th>emb_002</th>\n",
       "      <th>emb_003</th>\n",
       "      <th>emb_004</th>\n",
       "      <th>emb_005</th>\n",
       "      <th>emb_006</th>\n",
       "      <th>emb_007</th>\n",
       "      <th>NAICS_orig</th>\n",
       "    </tr>\n",
       "  </thead>\n",
       "  <tbody>\n",
       "    <tr>\n",
       "      <th>0</th>\n",
       "      <td>n_451120</td>\n",
       "      <td>0.097390</td>\n",
       "      <td>-0.053814</td>\n",
       "      <td>0.347635</td>\n",
       "      <td>0.368963</td>\n",
       "      <td>-0.428596</td>\n",
       "      <td>0.427065</td>\n",
       "      <td>0.428595</td>\n",
       "      <td>0.425280</td>\n",
       "      <td>451120</td>\n",
       "    </tr>\n",
       "    <tr>\n",
       "      <th>1</th>\n",
       "      <td>n_621210</td>\n",
       "      <td>0.120667</td>\n",
       "      <td>-0.066676</td>\n",
       "      <td>0.430721</td>\n",
       "      <td>0.457147</td>\n",
       "      <td>-0.531029</td>\n",
       "      <td>0.144684</td>\n",
       "      <td>0.531028</td>\n",
       "      <td>0.039672</td>\n",
       "      <td>621210</td>\n",
       "    </tr>\n",
       "    <tr>\n",
       "      <th>2</th>\n",
       "      <td>n_811118</td>\n",
       "      <td>0.105693</td>\n",
       "      <td>-0.058402</td>\n",
       "      <td>0.377272</td>\n",
       "      <td>0.400418</td>\n",
       "      <td>-0.465132</td>\n",
       "      <td>0.245078</td>\n",
       "      <td>0.465132</td>\n",
       "      <td>0.435879</td>\n",
       "      <td>811118</td>\n",
       "    </tr>\n",
       "    <tr>\n",
       "      <th>3</th>\n",
       "      <td>n_721310</td>\n",
       "      <td>0.097761</td>\n",
       "      <td>-0.054019</td>\n",
       "      <td>0.348957</td>\n",
       "      <td>0.370367</td>\n",
       "      <td>-0.430226</td>\n",
       "      <td>0.419036</td>\n",
       "      <td>0.430225</td>\n",
       "      <td>-0.427555</td>\n",
       "      <td>721310</td>\n",
       "    </tr>\n",
       "    <tr>\n",
       "      <th>4</th>\n",
       "      <td>n_811111</td>\n",
       "      <td>0.097992</td>\n",
       "      <td>-0.054147</td>\n",
       "      <td>0.349784</td>\n",
       "      <td>0.371244</td>\n",
       "      <td>-0.431244</td>\n",
       "      <td>0.422532</td>\n",
       "      <td>0.431243</td>\n",
       "      <td>0.420500</td>\n",
       "      <td>811111</td>\n",
       "    </tr>\n",
       "  </tbody>\n",
       "</table>\n",
       "</div>"
      ],
      "text/plain": [
       "     source   emb_000   emb_001   emb_002   emb_003   emb_004   emb_005  \\\n",
       "0  n_451120  0.097390 -0.053814  0.347635  0.368963 -0.428596  0.427065   \n",
       "1  n_621210  0.120667 -0.066676  0.430721  0.457147 -0.531029  0.144684   \n",
       "2  n_811118  0.105693 -0.058402  0.377272  0.400418 -0.465132  0.245078   \n",
       "3  n_721310  0.097761 -0.054019  0.348957  0.370367 -0.430226  0.419036   \n",
       "4  n_811111  0.097992 -0.054147  0.349784  0.371244 -0.431244  0.422532   \n",
       "\n",
       "    emb_006   emb_007 NAICS_orig  \n",
       "0  0.428595  0.425280     451120  \n",
       "1  0.531028  0.039672     621210  \n",
       "2  0.465132  0.435879     811118  \n",
       "3  0.430225 -0.427555     721310  \n",
       "4  0.431243  0.420500     811111  "
      ]
     },
     "execution_count": 36,
     "metadata": {},
     "output_type": "execute_result"
    }
   ],
   "source": [
    "embed_df.head()"
   ]
  },
  {
   "cell_type": "code",
   "execution_count": 37,
   "id": "69d1fd20-9296-4060-8322-692149353661",
   "metadata": {},
   "outputs": [],
   "source": [
    "embed_df.to_parquet(Path(setup.temp_path).joinpath('45_DATA_embeddings.parquet'))"
   ]
  },
  {
   "cell_type": "code",
   "execution_count": null,
   "id": "fe47a3e5-3024-40a5-9d15-7bb0977c8502",
   "metadata": {},
   "outputs": [],
   "source": []
  }
 ],
 "metadata": {
  "kernelspec": {
   "display_name": "tf_p39",
   "language": "python",
   "name": "tf_p39"
  },
  "language_info": {
   "codemirror_mode": {
    "name": "ipython",
    "version": 3
   },
   "file_extension": ".py",
   "mimetype": "text/x-python",
   "name": "python",
   "nbconvert_exporter": "python",
   "pygments_lexer": "ipython3",
   "version": "3.8.18"
  }
 },
 "nbformat": 4,
 "nbformat_minor": 5
}
