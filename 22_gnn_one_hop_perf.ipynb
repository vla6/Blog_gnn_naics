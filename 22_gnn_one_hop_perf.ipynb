{
 "cells": [
  {
   "cell_type": "code",
   "execution_count": 1,
   "id": "71f23355-0adf-4816-816a-d1484a9f5ef3",
   "metadata": {},
   "outputs": [],
   "source": [
    "# Modify the file 00_setup.py to define input/output file paths on your system\n",
    "# The information in 00_setup.py will be used across notebooks\n",
    "from importlib.machinery import SourceFileLoader\n",
    "setup = SourceFileLoader(\"setup\", \"./00_setup.py\").load_module()"
   ]
  },
  {
   "cell_type": "markdown",
   "id": "ea02c559-4f56-4b1e-8082-1fc224ee5547",
   "metadata": {},
   "source": [
    "# One Layer GNN Metrics"
   ]
  },
  {
   "cell_type": "markdown",
   "id": "8afaa76d-e25e-4844-9d51-f8c9c165e9b9",
   "metadata": {},
   "source": [
    "For the model created in the last script, get predictions and metrics / performance information. "
   ]
  },
  {
   "cell_type": "markdown",
   "id": "76c78249-a4dc-4a76-ad81-b03f883f92a6",
   "metadata": {},
   "source": [
    "Implementation notes:\n",
    "  * To visualize the keras model, I had to \"conda install\" pydot and graphviz in my virtual environment. \n",
    "  * Model is saved/loaded in tensorflow format.  This is to workaround an issue with Keras format, https://github.com/tensorflow/tensorflow/issues/46659"
   ]
  },
  {
   "cell_type": "markdown",
   "id": "ac90ebeb-0716-4b01-b280-e0e32174d63f",
   "metadata": {},
   "source": [
    "*This script takes about 30 minutes on my MacBook Air*"
   ]
  },
  {
   "cell_type": "code",
   "execution_count": 2,
   "id": "da2389b6-b2db-4a6f-a99a-c5bec6b75739",
   "metadata": {},
   "outputs": [],
   "source": [
    "import pandas as pd\n",
    "import numpy as np"
   ]
  },
  {
   "cell_type": "code",
   "execution_count": 3,
   "id": "6c3cb412-131c-42a8-8432-b67eb47c26a5",
   "metadata": {},
   "outputs": [],
   "source": [
    "from pathlib import Path\n",
    "import importlib, pickle\n",
    "from contextlib import redirect_stdout\n",
    "from scikitplot.metrics import plot_lift_curve\n",
    "import matplotlib.pyplot as plt"
   ]
  },
  {
   "cell_type": "code",
   "execution_count": 4,
   "id": "06e862f5-fdc4-4b2d-a13d-1a64f0367d44",
   "metadata": {},
   "outputs": [
    {
     "name": "stderr",
     "output_type": "stream",
     "text": [
      "2024-01-18 06:30:49.167240: I metal_plugin/src/device/metal_device.cc:1154] Metal device set to: Apple M1\n",
      "2024-01-18 06:30:49.167265: I metal_plugin/src/device/metal_device.cc:296] systemMemory: 16.00 GB\n",
      "2024-01-18 06:30:49.167270: I metal_plugin/src/device/metal_device.cc:313] maxCacheSize: 5.33 GB\n",
      "2024-01-18 06:30:49.167308: I tensorflow/core/common_runtime/pluggable_device/pluggable_device_factory.cc:303] Could not identify NUMA node of platform GPU ID 0, defaulting to 0. Your kernel may not have been built with NUMA support.\n",
      "2024-01-18 06:30:49.167326: I tensorflow/core/common_runtime/pluggable_device/pluggable_device_factory.cc:269] Created TensorFlow device (/job:localhost/replica:0/task:0/device:GPU:0 with 0 MB memory) -> physical PluggableDevice (device: 0, name: METAL, pci bus id: <undefined>)\n"
     ]
    }
   ],
   "source": [
    "from stellargraph import StellarGraph\n",
    "import stellargraph as sg\n",
    "import keras\n",
    "from stellargraph.layer import HinSAGE, MeanHinAggregator\n",
    "from stellargraph.mapper import HinSAGENodeGenerator\n",
    "\n",
    "from tensorflow.keras import layers, optimizers, losses, metrics, Model\n",
    "from sklearn import preprocessing, feature_extraction, model_selection\n",
    "\n",
    "import tensorflow.keras.metrics as km\n",
    "from keras.utils import plot_model\n",
    "from keras import initializers\n",
    "import tensorflow as tf"
   ]
  },
  {
   "cell_type": "code",
   "execution_count": 5,
   "id": "1816ed7c-b92b-4fb3-871a-098b97f69e85",
   "metadata": {},
   "outputs": [],
   "source": [
    "from sba_gnn.sba_gnn import sg_gnn, sg_plot "
   ]
  },
  {
   "cell_type": "markdown",
   "id": "8c682464-9aad-4f25-87c6-8845349a5eb4",
   "metadata": {},
   "source": [
    "## Import Data"
   ]
  },
  {
   "cell_type": "markdown",
   "id": "f90bea53-352d-4491-accc-26b7b170565a",
   "metadata": {},
   "source": [
    "##### Stellargraphs - all nodes"
   ]
  },
  {
   "cell_type": "code",
   "execution_count": 6,
   "id": "d36ccbc1-3fe9-40e6-8872-55c9c53913c0",
   "metadata": {},
   "outputs": [],
   "source": [
    "with open(Path(setup.temp_path).joinpath('20_DATA_stellargraph_all.pkl'), 'rb') as fin:\n",
    "      sba_all  = pickle.load(fin)"
   ]
  },
  {
   "cell_type": "code",
   "execution_count": 7,
   "id": "e16d1926-f665-4964-aecf-cb2a43eb4e5c",
   "metadata": {},
   "outputs": [],
   "source": [
    "label_data = pd.read_parquet(Path(setup.temp_path).joinpath('20_DATA_label_info.parquet')).sort_index()"
   ]
  },
  {
   "cell_type": "markdown",
   "id": "2f4f3398-0503-4b8a-a1c6-5d624d0c8341",
   "metadata": {},
   "source": [
    "##### Model"
   ]
  },
  {
   "cell_type": "code",
   "execution_count": 8,
   "id": "4001c904-5014-4826-adcf-33508323e6b6",
   "metadata": {},
   "outputs": [
    {
     "name": "stderr",
     "output_type": "stream",
     "text": [
      "/Users/valeriecarey/miniconda3/envs/tf_p38/lib/python3.8/site-packages/keras/src/initializers/initializers.py:120: UserWarning: The initializer GlorotUniform is unseeded and being called multiple times, which will return identical values each time (even if the initializer is unseeded). Please update your code to provide a seed to the initializer, or avoid using the same initializer instance more than once.\n",
      "  warnings.warn(\n"
     ]
    }
   ],
   "source": [
    "model = keras.models.load_model(Path(setup.temp_path).joinpath('21_DATA_model.keras'),\n",
    "                               safe_mode=False,\n",
    "                               custom_objects={'MeanHinAggregator':MeanHinAggregator})"
   ]
  },
  {
   "cell_type": "markdown",
   "id": "f825908f-1703-429c-89f4-929d25a79996",
   "metadata": {},
   "source": [
    "## Model Info\n",
    "Print and save some information about the model layers (summary and plot)"
   ]
  },
  {
   "cell_type": "code",
   "execution_count": 9,
   "id": "5a2cc460-4f1e-49eb-9199-3fe732a0de6d",
   "metadata": {},
   "outputs": [
    {
     "name": "stdout",
     "output_type": "stream",
     "text": [
      "Model: \"model\"\n",
      "__________________________________________________________________________________________________\n",
      " Layer (type)                Output Shape                 Param #   Connected to                  \n",
      "==================================================================================================\n",
      " input_2 (InputLayer)        [(None, 10, 10)]             0         []                            \n",
      "                                                                                                  \n",
      " input_3 (InputLayer)        [(None, 10, 10)]             0         []                            \n",
      "                                                                                                  \n",
      " input_1 (InputLayer)        [(None, 1, 10)]              0         []                            \n",
      "                                                                                                  \n",
      " reshape (Reshape)           (None, 1, 10, 10)            0         ['input_2[0][0]']             \n",
      "                                                                                                  \n",
      " reshape_1 (Reshape)         (None, 1, 10, 10)            0         ['input_3[0][0]']             \n",
      "                                                                                                  \n",
      " dropout_2 (Dropout)         (None, 1, 10)                0         ['input_1[0][0]']             \n",
      "                                                                                                  \n",
      " dropout (Dropout)           (None, 1, 10, 10)            0         ['reshape[0][0]']             \n",
      "                                                                                                  \n",
      " dropout_1 (Dropout)         (None, 1, 10, 10)            0         ['reshape_1[0][0]']           \n",
      "                                                                                                  \n",
      " mean_hin_aggregator (MeanH  (None, 1, 64)                1024      ['dropout_2[0][0]',           \n",
      " inAggregator)                                                       'dropout[0][0]',             \n",
      "                                                                     'dropout_1[0][0]']           \n",
      "                                                                                                  \n",
      " reshape_2 (Reshape)         (None, 64)                   0         ['mean_hin_aggregator[0][0]'] \n",
      "                                                                                                  \n",
      " lambda (Lambda)             (None, 64)                   0         ['reshape_2[0][0]']           \n",
      "                                                                                                  \n",
      " dense (Dense)               (None, 1)                    65        ['lambda[0][0]']              \n",
      "                                                                                                  \n",
      "==================================================================================================\n",
      "Total params: 1089 (4.25 KB)\n",
      "Trainable params: 1089 (4.25 KB)\n",
      "Non-trainable params: 0 (0.00 Byte)\n",
      "__________________________________________________________________________________________________\n"
     ]
    }
   ],
   "source": [
    "with open(Path(setup.temp_path).joinpath('22_REPORT_model_summary.txt'), \"w\") as f:\n",
    "    with redirect_stdout(f):\n",
    "        print(model.summary())\n",
    "model.summary()"
   ]
  },
  {
   "cell_type": "code",
   "execution_count": 10,
   "id": "eef1fbaa-3f43-47cd-9051-7a8cce610be0",
   "metadata": {},
   "outputs": [
    {
     "data": {
      "image/png": "[encoded data removed]",
      "text/plain": [
       "<IPython.core.display.Image object>"
      ]
     },
     "execution_count": 10,
     "metadata": {},
     "output_type": "execute_result"
    }
   ],
   "source": [
    "plot_model(model, Path(setup.temp_path).joinpath('22_model_plot_simp.png'))"
   ]
  },
  {
   "cell_type": "markdown",
   "id": "52240d59-3c86-4004-9833-ed3cf454af92",
   "metadata": {},
   "source": [
    "The 2-hop model has three MeanHinAggregator layers, likely reflecting the 2 edge types."
   ]
  },
  {
   "cell_type": "code",
   "execution_count": 11,
   "id": "2339b1f7-7610-4325-b608-9148aab72485",
   "metadata": {},
   "outputs": [],
   "source": [
    "%%capture\n",
    "plot_model(model, to_file=Path(setup.temp_path).joinpath('22_model_plot_with_shapes.png'),\n",
    "          show_shapes=True)"
   ]
  },
  {
   "cell_type": "markdown",
   "id": "8d349f89-0e6f-4877-b9df-5ebd69463f82",
   "metadata": {
    "tags": []
   },
   "source": [
    "## Graph Containing All Nodes\n",
    "Get predictions amd metrics"
   ]
  },
  {
   "cell_type": "markdown",
   "id": "d5b9ec06-f278-40ca-ba82-6a99ecba9e72",
   "metadata": {},
   "source": [
    "##### Get generator and predict for all nodes (train, validation, test)"
   ]
  },
  {
   "cell_type": "code",
   "execution_count": 12,
   "id": "8c53ff25-c506-4e4c-85c3-852080bd823a",
   "metadata": {},
   "outputs": [],
   "source": [
    "generator = HinSAGENodeGenerator(sba_all, batch_size=setup.gnn_batch_size, \n",
    "                                 num_samples=[setup.gnn_num_samples[0]],\n",
    "                                 head_node_type='LoanNr_ChkDgt',\n",
    "                                 seed=2454)"
   ]
  },
  {
   "cell_type": "code",
   "execution_count": 13,
   "id": "6ee06987-be8e-4745-baf5-a7a14caf5439",
   "metadata": {},
   "outputs": [],
   "source": [
    "all_flow = generator.flow(label_data.index, label_data['target'], shuffle=False)"
   ]
  },
  {
   "cell_type": "code",
   "execution_count": 14,
   "id": "d356d8ac-0d91-4666-b444-215141bf0721",
   "metadata": {},
   "outputs": [],
   "source": [
    "tf.random.set_seed(16)\n",
    "keras.utils.set_random_seed(812)\n",
    "sg.random.set_seed(4345)"
   ]
  },
  {
   "cell_type": "code",
   "execution_count": 15,
   "id": "9f532a6e-13fe-444b-aeb6-14d89cace6a3",
   "metadata": {},
   "outputs": [
    {
     "name": "stdout",
     "output_type": "stream",
     "text": [
      "   42/21503 [..............................] - ETA: 53s "
     ]
    },
    {
     "name": "stderr",
     "output_type": "stream",
     "text": [
      "2024-01-18 06:32:42.407995: I tensorflow/core/grappler/optimizers/custom_graph_optimizer_registry.cc:114] Plugin optimizer for device_type GPU is enabled.\n"
     ]
    },
    {
     "name": "stdout",
     "output_type": "stream",
     "text": [
      "21503/21503 [==============================] - 52s 2ms/step\n"
     ]
    }
   ],
   "source": [
    "all_predictions = model.predict(all_flow)"
   ]
  },
  {
   "cell_type": "code",
   "execution_count": 16,
   "id": "44bbf32c-9e55-42d8-8098-7d39dd8523cd",
   "metadata": {},
   "outputs": [
    {
     "data": {
      "text/plain": [
       "(688081, 1)"
      ]
     },
     "execution_count": 16,
     "metadata": {},
     "output_type": "execute_result"
    }
   ],
   "source": [
    "all_predictions.shape"
   ]
  },
  {
   "cell_type": "code",
   "execution_count": 17,
   "id": "6466d65c-b262-4c01-973c-b8a308743988",
   "metadata": {},
   "outputs": [
    {
     "data": {
      "text/plain": [
       "LoanNr_ChkDgt\n",
       "1000014003    0.079566\n",
       "1000024006    0.085499\n",
       "1000034009    0.027282\n",
       "1000084002    0.032023\n",
       "1000094005    0.060693\n",
       "                ...   \n",
       "9995473009    0.041915\n",
       "9995493004    0.032857\n",
       "9995573004    0.080678\n",
       "9995603000    0.072929\n",
       "9995613003    0.031063\n",
       "Length: 688081, dtype: float32"
      ]
     },
     "execution_count": 17,
     "metadata": {},
     "output_type": "execute_result"
    }
   ],
   "source": [
    "pd.Series(all_predictions[:,0], index=label_data.index)"
   ]
  },
  {
   "cell_type": "code",
   "execution_count": 18,
   "id": "9ef9f283-b857-4148-9d77-df7da0cfb4e4",
   "metadata": {},
   "outputs": [],
   "source": [
    "all_pred_df = pd.concat([pd.Series(all_predictions[:,0], index=label_data.index).rename('predict_prob'),\n",
    "                         label_data], axis=1) \\\n",
    "    .reset_index()"
   ]
  },
  {
   "cell_type": "code",
   "execution_count": 19,
   "id": "cca72b8c-212e-4486-ae02-7d431c7da9bb",
   "metadata": {},
   "outputs": [
    {
     "data": {
      "text/html": [
       "<div>\n",
       "<style scoped>\n",
       "    .dataframe tbody tr th:only-of-type {\n",
       "        vertical-align: middle;\n",
       "    }\n",
       "\n",
       "    .dataframe tbody tr th {\n",
       "        vertical-align: top;\n",
       "    }\n",
       "\n",
       "    .dataframe thead th {\n",
       "        text-align: right;\n",
       "    }\n",
       "</style>\n",
       "<table border=\"1\" class=\"dataframe\">\n",
       "  <thead>\n",
       "    <tr style=\"text-align: right;\">\n",
       "      <th></th>\n",
       "      <th>LoanNr_ChkDgt</th>\n",
       "      <th>predict_prob</th>\n",
       "      <th>dset</th>\n",
       "      <th>dset_naics_holdout</th>\n",
       "      <th>target</th>\n",
       "    </tr>\n",
       "  </thead>\n",
       "  <tbody>\n",
       "    <tr>\n",
       "      <th>0</th>\n",
       "      <td>1000014003</td>\n",
       "      <td>0.079566</td>\n",
       "      <td>train</td>\n",
       "      <td>0</td>\n",
       "      <td>0</td>\n",
       "    </tr>\n",
       "    <tr>\n",
       "      <th>1</th>\n",
       "      <td>1000024006</td>\n",
       "      <td>0.085499</td>\n",
       "      <td>test</td>\n",
       "      <td>0</td>\n",
       "      <td>0</td>\n",
       "    </tr>\n",
       "    <tr>\n",
       "      <th>2</th>\n",
       "      <td>1000034009</td>\n",
       "      <td>0.027282</td>\n",
       "      <td>train</td>\n",
       "      <td>0</td>\n",
       "      <td>0</td>\n",
       "    </tr>\n",
       "  </tbody>\n",
       "</table>\n",
       "</div>"
      ],
      "text/plain": [
       "  LoanNr_ChkDgt  predict_prob   dset  dset_naics_holdout  target\n",
       "0    1000014003      0.079566  train                   0       0\n",
       "1    1000024006      0.085499   test                   0       0\n",
       "2    1000034009      0.027282  train                   0       0"
      ]
     },
     "execution_count": 19,
     "metadata": {},
     "output_type": "execute_result"
    }
   ],
   "source": [
    "all_pred_df.head(3)"
   ]
  },
  {
   "cell_type": "markdown",
   "id": "e717d33b-13a8-43dd-8a7c-4b34fa2811e8",
   "metadata": {
    "tags": []
   },
   "source": [
    "## Threshold Tune & Binary Predictions\n",
    "Using training probability predictions"
   ]
  },
  {
   "cell_type": "code",
   "execution_count": 20,
   "id": "ccd0bc23-fbc0-40d0-8d8b-f2302405a875",
   "metadata": {},
   "outputs": [],
   "source": [
    "all_pred_train = all_pred_df[all_pred_df['dset'] == 'train']"
   ]
  },
  {
   "cell_type": "code",
   "execution_count": 21,
   "id": "df36d9e9-f35e-46b3-a5be-08081f998319",
   "metadata": {},
   "outputs": [],
   "source": [
    "thresh_tune_data = sg_plot.get_f1_frame(all_pred_train['target'], \n",
    "                                        all_pred_train['predict_prob'])"
   ]
  },
  {
   "cell_type": "code",
   "execution_count": 22,
   "id": "de634156-caf6-4a52-b5d7-44b8e986aa1d",
   "metadata": {},
   "outputs": [
    {
     "data": {
      "text/html": [
       "<div>\n",
       "<style scoped>\n",
       "    .dataframe tbody tr th:only-of-type {\n",
       "        vertical-align: middle;\n",
       "    }\n",
       "\n",
       "    .dataframe tbody tr th {\n",
       "        vertical-align: top;\n",
       "    }\n",
       "\n",
       "    .dataframe thead th {\n",
       "        text-align: right;\n",
       "    }\n",
       "</style>\n",
       "<table border=\"1\" class=\"dataframe\">\n",
       "  <thead>\n",
       "    <tr style=\"text-align: right;\">\n",
       "      <th></th>\n",
       "      <th>thresh</th>\n",
       "      <th>f1</th>\n",
       "    </tr>\n",
       "  </thead>\n",
       "  <tbody>\n",
       "    <tr>\n",
       "      <th>10</th>\n",
       "      <td>0.20</td>\n",
       "      <td>0.422547</td>\n",
       "    </tr>\n",
       "    <tr>\n",
       "      <th>9</th>\n",
       "      <td>0.18</td>\n",
       "      <td>0.419220</td>\n",
       "    </tr>\n",
       "    <tr>\n",
       "      <th>11</th>\n",
       "      <td>0.22</td>\n",
       "      <td>0.419007</td>\n",
       "    </tr>\n",
       "  </tbody>\n",
       "</table>\n",
       "</div>"
      ],
      "text/plain": [
       "    thresh        f1\n",
       "10    0.20  0.422547\n",
       "9     0.18  0.419220\n",
       "11    0.22  0.419007"
      ]
     },
     "execution_count": 22,
     "metadata": {},
     "output_type": "execute_result"
    }
   ],
   "source": [
    "thresh_tune_data.sort_values('f1', ascending=False, inplace=True)\n",
    "thresh_tune_data.head(3)"
   ]
  },
  {
   "cell_type": "code",
   "execution_count": 23,
   "id": "c746b880-d781-4bc1-9df2-89211127c22a",
   "metadata": {},
   "outputs": [
    {
     "data": {
      "text/plain": [
       "0.2"
      ]
     },
     "execution_count": 23,
     "metadata": {},
     "output_type": "execute_result"
    }
   ],
   "source": [
    "best_thresh = thresh_tune_data['thresh'].iloc[0]\n",
    "best_thresh"
   ]
  },
  {
   "cell_type": "markdown",
   "id": "76be971a-78b4-4328-968b-82ac1169b43f",
   "metadata": {},
   "source": [
    "##### Append binary predictions to probability predictions"
   ]
  },
  {
   "cell_type": "code",
   "execution_count": 24,
   "id": "ffa09b7e-15fc-45d4-8780-6a16c43cee95",
   "metadata": {},
   "outputs": [
    {
     "data": {
      "text/plain": [
       "<module 'sba_gnn.sba_gnn.sg_plot' from '/Users/valeriecarey/Documents/projects/2023_10_blog_gnn_sba/code/sba_gnn/sba_gnn/sg_plot.py'>"
      ]
     },
     "execution_count": 24,
     "metadata": {},
     "output_type": "execute_result"
    }
   ],
   "source": [
    "importlib.reload(sg_plot)"
   ]
  },
  {
   "cell_type": "code",
   "execution_count": 25,
   "id": "641da72e-1bca-4fe7-96c4-6c029b521bd7",
   "metadata": {},
   "outputs": [],
   "source": [
    "all_pred_df['predict_bin'] = sg_plot.get_binary_predictions(all_pred_df['predict_prob'], best_thresh)"
   ]
  },
  {
   "cell_type": "code",
   "execution_count": 26,
   "id": "9f6ecdf4-ac01-4c39-8315-e8583daa337e",
   "metadata": {},
   "outputs": [
    {
     "data": {
      "text/plain": [
       "predict_bin\n",
       "0    0.505975\n",
       "1    0.494025\n",
       "Name: proportion, dtype: float64"
      ]
     },
     "execution_count": 26,
     "metadata": {},
     "output_type": "execute_result"
    }
   ],
   "source": [
    "all_pred_df['predict_bin'].value_counts(normalize=True, dropna=False)"
   ]
  },
  {
   "cell_type": "code",
   "execution_count": 27,
   "id": "1d0ecde8-92ea-43bd-af53-a725ae32252b",
   "metadata": {},
   "outputs": [],
   "source": [
    "all_pred_df.to_parquet(Path(setup.temp_path).joinpath('22_DATA_predictions_all.parquet'))"
   ]
  },
  {
   "cell_type": "code",
   "execution_count": 28,
   "id": "77980132-4c08-4704-bcf8-0eb8cb9b910d",
   "metadata": {},
   "outputs": [
    {
     "data": {
      "text/html": [
       "<div>\n",
       "<style scoped>\n",
       "    .dataframe tbody tr th:only-of-type {\n",
       "        vertical-align: middle;\n",
       "    }\n",
       "\n",
       "    .dataframe tbody tr th {\n",
       "        vertical-align: top;\n",
       "    }\n",
       "\n",
       "    .dataframe thead th {\n",
       "        text-align: right;\n",
       "    }\n",
       "</style>\n",
       "<table border=\"1\" class=\"dataframe\">\n",
       "  <thead>\n",
       "    <tr style=\"text-align: right;\">\n",
       "      <th></th>\n",
       "      <th>LoanNr_ChkDgt</th>\n",
       "      <th>predict_prob</th>\n",
       "      <th>dset</th>\n",
       "      <th>dset_naics_holdout</th>\n",
       "      <th>target</th>\n",
       "      <th>predict_bin</th>\n",
       "    </tr>\n",
       "  </thead>\n",
       "  <tbody>\n",
       "    <tr>\n",
       "      <th>442043</th>\n",
       "      <td>5627373001</td>\n",
       "      <td>0.034426</td>\n",
       "      <td>test</td>\n",
       "      <td>1</td>\n",
       "      <td>0</td>\n",
       "      <td>0</td>\n",
       "    </tr>\n",
       "    <tr>\n",
       "      <th>161069</th>\n",
       "      <td>2441396004</td>\n",
       "      <td>0.304905</td>\n",
       "      <td>train</td>\n",
       "      <td>0</td>\n",
       "      <td>1</td>\n",
       "      <td>1</td>\n",
       "    </tr>\n",
       "    <tr>\n",
       "      <th>3258</th>\n",
       "      <td>1028865009</td>\n",
       "      <td>0.298497</td>\n",
       "      <td>val</td>\n",
       "      <td>0</td>\n",
       "      <td>0</td>\n",
       "      <td>1</td>\n",
       "    </tr>\n",
       "  </tbody>\n",
       "</table>\n",
       "</div>"
      ],
      "text/plain": [
       "       LoanNr_ChkDgt  predict_prob   dset  dset_naics_holdout  target  \\\n",
       "442043    5627373001      0.034426   test                   1       0   \n",
       "161069    2441396004      0.304905  train                   0       1   \n",
       "3258      1028865009      0.298497    val                   0       0   \n",
       "\n",
       "        predict_bin  \n",
       "442043            0  \n",
       "161069            1  \n",
       "3258              1  "
      ]
     },
     "execution_count": 28,
     "metadata": {},
     "output_type": "execute_result"
    }
   ],
   "source": [
    "all_pred_df.sample(3)"
   ]
  },
  {
   "cell_type": "code",
   "execution_count": 29,
   "id": "800ce59f-7201-4474-809f-94920700d2f8",
   "metadata": {},
   "outputs": [
    {
     "data": {
      "text/html": [
       "<div>\n",
       "<style scoped>\n",
       "    .dataframe tbody tr th:only-of-type {\n",
       "        vertical-align: middle;\n",
       "    }\n",
       "\n",
       "    .dataframe tbody tr th {\n",
       "        vertical-align: top;\n",
       "    }\n",
       "\n",
       "    .dataframe thead th {\n",
       "        text-align: right;\n",
       "    }\n",
       "</style>\n",
       "<table border=\"1\" class=\"dataframe\">\n",
       "  <thead>\n",
       "    <tr style=\"text-align: right;\">\n",
       "      <th>target</th>\n",
       "      <th>0</th>\n",
       "      <th>1</th>\n",
       "    </tr>\n",
       "    <tr>\n",
       "      <th>predict_bin</th>\n",
       "      <th></th>\n",
       "      <th></th>\n",
       "    </tr>\n",
       "  </thead>\n",
       "  <tbody>\n",
       "    <tr>\n",
       "      <th>0</th>\n",
       "      <td>310020</td>\n",
       "      <td>38132</td>\n",
       "    </tr>\n",
       "    <tr>\n",
       "      <th>1</th>\n",
       "      <td>238373</td>\n",
       "      <td>101556</td>\n",
       "    </tr>\n",
       "  </tbody>\n",
       "</table>\n",
       "</div>"
      ],
      "text/plain": [
       "target            0       1\n",
       "predict_bin                \n",
       "0            310020   38132\n",
       "1            238373  101556"
      ]
     },
     "execution_count": 29,
     "metadata": {},
     "output_type": "execute_result"
    }
   ],
   "source": [
    "pd.crosstab(all_pred_df['predict_bin'], all_pred_df['target'])"
   ]
  },
  {
   "cell_type": "markdown",
   "id": "269ac75f-210e-42a3-8734-ad2e9dac697f",
   "metadata": {},
   "source": [
    "## Metrics"
   ]
  },
  {
   "cell_type": "code",
   "execution_count": 39,
   "id": "a840cd8b-23f1-4fb1-a796-e77e9875197d",
   "metadata": {
    "tags": []
   },
   "outputs": [
    {
     "data": {
      "text/html": [
       "<div>\n",
       "<style scoped>\n",
       "    .dataframe tbody tr th:only-of-type {\n",
       "        vertical-align: middle;\n",
       "    }\n",
       "\n",
       "    .dataframe tbody tr th {\n",
       "        vertical-align: top;\n",
       "    }\n",
       "\n",
       "    .dataframe thead th {\n",
       "        text-align: right;\n",
       "    }\n",
       "</style>\n",
       "<table border=\"1\" class=\"dataframe\">\n",
       "  <thead>\n",
       "    <tr style=\"text-align: right;\">\n",
       "      <th></th>\n",
       "      <th>dset</th>\n",
       "      <th>accuracy_score</th>\n",
       "      <th>f1_score</th>\n",
       "      <th>precision_score</th>\n",
       "      <th>recall_score</th>\n",
       "      <th>average_precision_score</th>\n",
       "      <th>roc_auc_score</th>\n",
       "      <th>dset_naics_holdout</th>\n",
       "    </tr>\n",
       "  </thead>\n",
       "  <tbody>\n",
       "    <tr>\n",
       "      <th>0</th>\n",
       "      <td>test</td>\n",
       "      <td>0.604202</td>\n",
       "      <td>0.422795</td>\n",
       "      <td>0.298758</td>\n",
       "      <td>0.722943</td>\n",
       "      <td>0.329731</td>\n",
       "      <td>0.695266</td>\n",
       "      <td>NaN</td>\n",
       "    </tr>\n",
       "    <tr>\n",
       "      <th>1</th>\n",
       "      <td>train</td>\n",
       "      <td>0.596193</td>\n",
       "      <td>0.422547</td>\n",
       "      <td>0.297736</td>\n",
       "      <td>0.727527</td>\n",
       "      <td>0.330819</td>\n",
       "      <td>0.692518</td>\n",
       "      <td>NaN</td>\n",
       "    </tr>\n",
       "    <tr>\n",
       "      <th>2</th>\n",
       "      <td>val</td>\n",
       "      <td>0.598210</td>\n",
       "      <td>0.427386</td>\n",
       "      <td>0.302200</td>\n",
       "      <td>0.729635</td>\n",
       "      <td>0.333417</td>\n",
       "      <td>0.695114</td>\n",
       "      <td>NaN</td>\n",
       "    </tr>\n",
       "    <tr>\n",
       "      <th>0</th>\n",
       "      <td>test</td>\n",
       "      <td>0.598468</td>\n",
       "      <td>0.425878</td>\n",
       "      <td>0.300454</td>\n",
       "      <td>0.731055</td>\n",
       "      <td>0.333538</td>\n",
       "      <td>0.694436</td>\n",
       "      <td>0.0</td>\n",
       "    </tr>\n",
       "    <tr>\n",
       "      <th>1</th>\n",
       "      <td>test</td>\n",
       "      <td>0.621950</td>\n",
       "      <td>0.412426</td>\n",
       "      <td>0.293014</td>\n",
       "      <td>0.696111</td>\n",
       "      <td>0.316925</td>\n",
       "      <td>0.697104</td>\n",
       "      <td>1.0</td>\n",
       "    </tr>\n",
       "  </tbody>\n",
       "</table>\n",
       "</div>"
      ],
      "text/plain": [
       "    dset  accuracy_score  f1_score  precision_score  recall_score  \\\n",
       "0   test        0.604202  0.422795         0.298758      0.722943   \n",
       "1  train        0.596193  0.422547         0.297736      0.727527   \n",
       "2    val        0.598210  0.427386         0.302200      0.729635   \n",
       "0   test        0.598468  0.425878         0.300454      0.731055   \n",
       "1   test        0.621950  0.412426         0.293014      0.696111   \n",
       "\n",
       "   average_precision_score  roc_auc_score  dset_naics_holdout  \n",
       "0                 0.329731       0.695266                 NaN  \n",
       "1                 0.330819       0.692518                 NaN  \n",
       "2                 0.333417       0.695114                 NaN  \n",
       "0                 0.333538       0.694436                 0.0  \n",
       "1                 0.316925       0.697104                 1.0  "
      ]
     },
     "execution_count": 39,
     "metadata": {},
     "output_type": "execute_result"
    }
   ],
   "source": [
    "metrics_dset_df = all_pred_df.groupby('dset') \\\n",
    "    .apply(lambda x: sg_plot.dset_metrics(x.target, x.predict_bin, x.predict_prob)) \\\n",
    "    .reset_index()\n",
    "metrics_test_df = all_pred_df[all_pred_df['dset'] == 'test'] \\\n",
    "    .groupby(['dset', 'dset_naics_holdout']) \\\n",
    "    .apply(lambda x: sg_plot.dset_metrics(x.target, x.predict_bin, x.predict_prob)) \\\n",
    "    .reset_index()\n",
    "metrics_df = pd.concat([metrics_dset_df, metrics_test_df])\n",
    "metrics_df.to_csv(Path(setup.temp_path).joinpath('22_REPORT_metrics.csv'), index=True)\n",
    "metrics_df"
   ]
  },
  {
   "cell_type": "markdown",
   "id": "5f0dc803-0b75-48f1-9387-49012e0bee62",
   "metadata": {},
   "source": [
    "## Lift"
   ]
  },
  {
   "cell_type": "code",
   "execution_count": 40,
   "id": "82d9c0ab-8989-450d-a2b1-7997ca636052",
   "metadata": {
    "tags": []
   },
   "outputs": [],
   "source": [
    "pred_test_df = all_pred_df[all_pred_df['dset'] == 'test']"
   ]
  },
  {
   "cell_type": "code",
   "execution_count": 41,
   "id": "1919ffe9-cfe8-4d89-9c68-bcf729e4c328",
   "metadata": {},
   "outputs": [
    {
     "data": {
      "image/png": "[encoded data removed]",
      "text/plain": [
       "<Figure size 400x300 with 1 Axes>"
      ]
     },
     "metadata": {},
     "output_type": "display_data"
    }
   ],
   "source": [
    "plot_lift_curve(pred_test_df['target'], \n",
    "                pd.concat([1-pred_test_df['predict_prob'], pred_test_df['predict_prob']], axis=1), \n",
    "                title='Lift Curve', ax=None, figsize=(4,3), \n",
    "                title_fontsize='large', text_fontsize='medium')\n",
    "plt.gca().legend(loc='upper right')\n",
    "plt.gcf().savefig(Path(setup.temp_path).joinpath('22_PLOT_lift_curve.png'),bbox_inches='tight')"
   ]
  },
  {
   "cell_type": "code",
   "execution_count": 42,
   "id": "30bc33ce-00e9-450c-add7-94fd12ff20c9",
   "metadata": {},
   "outputs": [],
   "source": [
    "# Create a new model object to access the embeddings 1 layers above (normalized output)\n",
    "emb_model = Model(inputs=model.input, outputs=model.layers[-2].output)"
   ]
  },
  {
   "cell_type": "code",
   "execution_count": 43,
   "id": "8a408051-cc6b-4e66-b8d9-c1ceca584885",
   "metadata": {},
   "outputs": [
    {
     "name": "stdout",
     "output_type": "stream",
     "text": [
      "   21/21503 [..............................] - ETA: 1:52"
     ]
    },
    {
     "name": "stderr",
     "output_type": "stream",
     "text": [
      "2024-01-18 06:36:41.913309: I tensorflow/core/grappler/optimizers/custom_graph_optimizer_registry.cc:114] Plugin optimizer for device_type GPU is enabled.\n"
     ]
    },
    {
     "name": "stdout",
     "output_type": "stream",
     "text": [
      "21503/21503 [==============================] - 56s 3ms/step\n"
     ]
    }
   ],
   "source": [
    "embeddings = emb_model.predict(all_flow)"
   ]
  },
  {
   "cell_type": "code",
   "execution_count": 44,
   "id": "49fb8b0e-f0dc-4e3e-b465-3f80adf8b57e",
   "metadata": {},
   "outputs": [],
   "source": [
    "embeddings_df = pd.DataFrame(embeddings, index=label_data.index)\n",
    "embeddings_df.columns = [f'emb_{c:02d}' for c in embeddings_df.columns]"
   ]
  },
  {
   "cell_type": "code",
   "execution_count": 45,
   "id": "afc6664d-a487-42f7-b6a9-6cbbc907d526",
   "metadata": {},
   "outputs": [
    {
     "data": {
      "text/html": [
       "<div>\n",
       "<style scoped>\n",
       "    .dataframe tbody tr th:only-of-type {\n",
       "        vertical-align: middle;\n",
       "    }\n",
       "\n",
       "    .dataframe tbody tr th {\n",
       "        vertical-align: top;\n",
       "    }\n",
       "\n",
       "    .dataframe thead th {\n",
       "        text-align: right;\n",
       "    }\n",
       "</style>\n",
       "<table border=\"1\" class=\"dataframe\">\n",
       "  <thead>\n",
       "    <tr style=\"text-align: right;\">\n",
       "      <th></th>\n",
       "      <th>emb_00</th>\n",
       "      <th>emb_01</th>\n",
       "      <th>emb_02</th>\n",
       "      <th>emb_03</th>\n",
       "      <th>emb_04</th>\n",
       "      <th>emb_05</th>\n",
       "      <th>emb_06</th>\n",
       "      <th>emb_07</th>\n",
       "      <th>emb_08</th>\n",
       "      <th>emb_09</th>\n",
       "      <th>...</th>\n",
       "      <th>emb_54</th>\n",
       "      <th>emb_55</th>\n",
       "      <th>emb_56</th>\n",
       "      <th>emb_57</th>\n",
       "      <th>emb_58</th>\n",
       "      <th>emb_59</th>\n",
       "      <th>emb_60</th>\n",
       "      <th>emb_61</th>\n",
       "      <th>emb_62</th>\n",
       "      <th>emb_63</th>\n",
       "    </tr>\n",
       "  </thead>\n",
       "  <tbody>\n",
       "    <tr>\n",
       "      <th>count</th>\n",
       "      <td>688081.000000</td>\n",
       "      <td>688081.000000</td>\n",
       "      <td>688081.000000</td>\n",
       "      <td>688081.000000</td>\n",
       "      <td>688081.000000</td>\n",
       "      <td>688081.000000</td>\n",
       "      <td>688081.000000</td>\n",
       "      <td>688081.000000</td>\n",
       "      <td>688081.000000</td>\n",
       "      <td>688081.000000</td>\n",
       "      <td>...</td>\n",
       "      <td>688081.000000</td>\n",
       "      <td>688081.000000</td>\n",
       "      <td>688081.000000</td>\n",
       "      <td>688081.000000</td>\n",
       "      <td>688081.000000</td>\n",
       "      <td>688081.000000</td>\n",
       "      <td>688081.000000</td>\n",
       "      <td>688081.000000</td>\n",
       "      <td>688081.000000</td>\n",
       "      <td>688081.000000</td>\n",
       "    </tr>\n",
       "    <tr>\n",
       "      <th>mean</th>\n",
       "      <td>0.026137</td>\n",
       "      <td>-0.090729</td>\n",
       "      <td>-0.083341</td>\n",
       "      <td>-0.159817</td>\n",
       "      <td>0.153316</td>\n",
       "      <td>-0.021168</td>\n",
       "      <td>0.096621</td>\n",
       "      <td>0.158736</td>\n",
       "      <td>-0.096513</td>\n",
       "      <td>-0.061793</td>\n",
       "      <td>...</td>\n",
       "      <td>-0.162152</td>\n",
       "      <td>-0.017584</td>\n",
       "      <td>0.054491</td>\n",
       "      <td>-0.116665</td>\n",
       "      <td>0.162559</td>\n",
       "      <td>-0.007934</td>\n",
       "      <td>-0.010584</td>\n",
       "      <td>0.030737</td>\n",
       "      <td>0.023110</td>\n",
       "      <td>-0.162333</td>\n",
       "    </tr>\n",
       "    <tr>\n",
       "      <th>std</th>\n",
       "      <td>0.075283</td>\n",
       "      <td>0.110581</td>\n",
       "      <td>0.089449</td>\n",
       "      <td>0.012892</td>\n",
       "      <td>0.028002</td>\n",
       "      <td>0.110110</td>\n",
       "      <td>0.031890</td>\n",
       "      <td>0.029135</td>\n",
       "      <td>0.052817</td>\n",
       "      <td>0.088821</td>\n",
       "      <td>...</td>\n",
       "      <td>0.007389</td>\n",
       "      <td>0.074781</td>\n",
       "      <td>0.045355</td>\n",
       "      <td>0.055419</td>\n",
       "      <td>0.007449</td>\n",
       "      <td>0.063347</td>\n",
       "      <td>0.055348</td>\n",
       "      <td>0.056552</td>\n",
       "      <td>0.065920</td>\n",
       "      <td>0.007435</td>\n",
       "    </tr>\n",
       "    <tr>\n",
       "      <th>min</th>\n",
       "      <td>-0.175718</td>\n",
       "      <td>-0.186931</td>\n",
       "      <td>-0.172300</td>\n",
       "      <td>-0.187337</td>\n",
       "      <td>-0.148643</td>\n",
       "      <td>-0.184330</td>\n",
       "      <td>-0.117644</td>\n",
       "      <td>-0.183089</td>\n",
       "      <td>-0.167456</td>\n",
       "      <td>-0.174824</td>\n",
       "      <td>...</td>\n",
       "      <td>-0.189949</td>\n",
       "      <td>-0.144727</td>\n",
       "      <td>-0.138778</td>\n",
       "      <td>-0.177434</td>\n",
       "      <td>0.137515</td>\n",
       "      <td>-0.155601</td>\n",
       "      <td>-0.148342</td>\n",
       "      <td>-0.139191</td>\n",
       "      <td>-0.161887</td>\n",
       "      <td>-0.190116</td>\n",
       "    </tr>\n",
       "    <tr>\n",
       "      <th>25%</th>\n",
       "      <td>-0.032745</td>\n",
       "      <td>-0.164088</td>\n",
       "      <td>-0.147856</td>\n",
       "      <td>-0.166371</td>\n",
       "      <td>0.152631</td>\n",
       "      <td>-0.099547</td>\n",
       "      <td>0.072585</td>\n",
       "      <td>0.155889</td>\n",
       "      <td>-0.130573</td>\n",
       "      <td>-0.140454</td>\n",
       "      <td>...</td>\n",
       "      <td>-0.167420</td>\n",
       "      <td>-0.080059</td>\n",
       "      <td>0.023905</td>\n",
       "      <td>-0.150775</td>\n",
       "      <td>0.157250</td>\n",
       "      <td>-0.058255</td>\n",
       "      <td>-0.052603</td>\n",
       "      <td>-0.012264</td>\n",
       "      <td>-0.029263</td>\n",
       "      <td>-0.167618</td>\n",
       "    </tr>\n",
       "    <tr>\n",
       "      <th>50%</th>\n",
       "      <td>0.029604</td>\n",
       "      <td>-0.156142</td>\n",
       "      <td>-0.126430</td>\n",
       "      <td>-0.160707</td>\n",
       "      <td>0.159797</td>\n",
       "      <td>-0.070484</td>\n",
       "      <td>0.100105</td>\n",
       "      <td>0.161516</td>\n",
       "      <td>-0.112360</td>\n",
       "      <td>-0.092543</td>\n",
       "      <td>...</td>\n",
       "      <td>-0.162236</td>\n",
       "      <td>-0.043346</td>\n",
       "      <td>0.057520</td>\n",
       "      <td>-0.139639</td>\n",
       "      <td>0.162645</td>\n",
       "      <td>-0.002025</td>\n",
       "      <td>-0.009145</td>\n",
       "      <td>0.032597</td>\n",
       "      <td>0.046657</td>\n",
       "      <td>-0.162419</td>\n",
       "    </tr>\n",
       "    <tr>\n",
       "      <th>75%</th>\n",
       "      <td>0.083852</td>\n",
       "      <td>-0.013387</td>\n",
       "      <td>-0.052078</td>\n",
       "      <td>-0.154636</td>\n",
       "      <td>0.165500</td>\n",
       "      <td>0.132338</td>\n",
       "      <td>0.124239</td>\n",
       "      <td>0.166932</td>\n",
       "      <td>-0.092445</td>\n",
       "      <td>0.011195</td>\n",
       "      <td>...</td>\n",
       "      <td>-0.156911</td>\n",
       "      <td>0.046155</td>\n",
       "      <td>0.088475</td>\n",
       "      <td>-0.107110</td>\n",
       "      <td>0.167843</td>\n",
       "      <td>0.044411</td>\n",
       "      <td>0.031386</td>\n",
       "      <td>0.075956</td>\n",
       "      <td>0.076851</td>\n",
       "      <td>-0.157055</td>\n",
       "    </tr>\n",
       "    <tr>\n",
       "      <th>max</th>\n",
       "      <td>0.167689</td>\n",
       "      <td>0.187629</td>\n",
       "      <td>0.169305</td>\n",
       "      <td>0.126587</td>\n",
       "      <td>0.187431</td>\n",
       "      <td>0.182761</td>\n",
       "      <td>0.165042</td>\n",
       "      <td>0.190136</td>\n",
       "      <td>0.127898</td>\n",
       "      <td>0.174378</td>\n",
       "      <td>...</td>\n",
       "      <td>-0.118197</td>\n",
       "      <td>0.166885</td>\n",
       "      <td>0.163361</td>\n",
       "      <td>0.150121</td>\n",
       "      <td>0.190176</td>\n",
       "      <td>0.135003</td>\n",
       "      <td>0.142452</td>\n",
       "      <td>0.168508</td>\n",
       "      <td>0.133988</td>\n",
       "      <td>-0.131125</td>\n",
       "    </tr>\n",
       "  </tbody>\n",
       "</table>\n",
       "<p>8 rows × 64 columns</p>\n",
       "</div>"
      ],
      "text/plain": [
       "              emb_00         emb_01         emb_02         emb_03  \\\n",
       "count  688081.000000  688081.000000  688081.000000  688081.000000   \n",
       "mean        0.026137      -0.090729      -0.083341      -0.159817   \n",
       "std         0.075283       0.110581       0.089449       0.012892   \n",
       "min        -0.175718      -0.186931      -0.172300      -0.187337   \n",
       "25%        -0.032745      -0.164088      -0.147856      -0.166371   \n",
       "50%         0.029604      -0.156142      -0.126430      -0.160707   \n",
       "75%         0.083852      -0.013387      -0.052078      -0.154636   \n",
       "max         0.167689       0.187629       0.169305       0.126587   \n",
       "\n",
       "              emb_04         emb_05         emb_06         emb_07  \\\n",
       "count  688081.000000  688081.000000  688081.000000  688081.000000   \n",
       "mean        0.153316      -0.021168       0.096621       0.158736   \n",
       "std         0.028002       0.110110       0.031890       0.029135   \n",
       "min        -0.148643      -0.184330      -0.117644      -0.183089   \n",
       "25%         0.152631      -0.099547       0.072585       0.155889   \n",
       "50%         0.159797      -0.070484       0.100105       0.161516   \n",
       "75%         0.165500       0.132338       0.124239       0.166932   \n",
       "max         0.187431       0.182761       0.165042       0.190136   \n",
       "\n",
       "              emb_08         emb_09  ...         emb_54         emb_55  \\\n",
       "count  688081.000000  688081.000000  ...  688081.000000  688081.000000   \n",
       "mean       -0.096513      -0.061793  ...      -0.162152      -0.017584   \n",
       "std         0.052817       0.088821  ...       0.007389       0.074781   \n",
       "min        -0.167456      -0.174824  ...      -0.189949      -0.144727   \n",
       "25%        -0.130573      -0.140454  ...      -0.167420      -0.080059   \n",
       "50%        -0.112360      -0.092543  ...      -0.162236      -0.043346   \n",
       "75%        -0.092445       0.011195  ...      -0.156911       0.046155   \n",
       "max         0.127898       0.174378  ...      -0.118197       0.166885   \n",
       "\n",
       "              emb_56         emb_57         emb_58         emb_59  \\\n",
       "count  688081.000000  688081.000000  688081.000000  688081.000000   \n",
       "mean        0.054491      -0.116665       0.162559      -0.007934   \n",
       "std         0.045355       0.055419       0.007449       0.063347   \n",
       "min        -0.138778      -0.177434       0.137515      -0.155601   \n",
       "25%         0.023905      -0.150775       0.157250      -0.058255   \n",
       "50%         0.057520      -0.139639       0.162645      -0.002025   \n",
       "75%         0.088475      -0.107110       0.167843       0.044411   \n",
       "max         0.163361       0.150121       0.190176       0.135003   \n",
       "\n",
       "              emb_60         emb_61         emb_62         emb_63  \n",
       "count  688081.000000  688081.000000  688081.000000  688081.000000  \n",
       "mean       -0.010584       0.030737       0.023110      -0.162333  \n",
       "std         0.055348       0.056552       0.065920       0.007435  \n",
       "min        -0.148342      -0.139191      -0.161887      -0.190116  \n",
       "25%        -0.052603      -0.012264      -0.029263      -0.167618  \n",
       "50%        -0.009145       0.032597       0.046657      -0.162419  \n",
       "75%         0.031386       0.075956       0.076851      -0.157055  \n",
       "max         0.142452       0.168508       0.133988      -0.131125  \n",
       "\n",
       "[8 rows x 64 columns]"
      ]
     },
     "execution_count": 45,
     "metadata": {},
     "output_type": "execute_result"
    }
   ],
   "source": [
    "embeddings_df.describe()"
   ]
  },
  {
   "cell_type": "code",
   "execution_count": 46,
   "id": "de99ee27-0355-48fd-8f12-05c73d489a2e",
   "metadata": {},
   "outputs": [],
   "source": [
    "embeddings_df.to_parquet(Path(setup.temp_path).joinpath('22_DATA_embeddings.parquet'))"
   ]
  },
  {
   "cell_type": "code",
   "execution_count": null,
   "id": "429c3e48-f954-47a7-aded-7b23ddd21bd9",
   "metadata": {},
   "outputs": [],
   "source": []
  }
 ],
 "metadata": {
  "kernelspec": {
   "display_name": "tf_p39",
   "language": "python",
   "name": "tf_p39"
  },
  "language_info": {
   "codemirror_mode": {
    "name": "ipython",
    "version": 3
   },
   "file_extension": ".py",
   "mimetype": "text/x-python",
   "name": "python",
   "nbconvert_exporter": "python",
   "pygments_lexer": "ipython3",
   "version": "3.8.18"
  }
 },
 "nbformat": 4,
 "nbformat_minor": 5
}
