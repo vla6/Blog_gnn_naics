{
 "cells": [
  {
   "cell_type": "code",
   "execution_count": 1,
   "id": "8816b366-5be4-4748-b769-4dc6f7d1735f",
   "metadata": {},
   "outputs": [],
   "source": [
    "# Modify the file 00_setup.py to define input/output file paths on your system\n",
    "# The information in 00_setup.py will be used across notebooks\n",
    "from importlib.machinery import SourceFileLoader\n",
    "setup = SourceFileLoader(\"setup\", \"./00_setup.py\").load_module()"
   ]
  },
  {
   "cell_type": "markdown",
   "id": "a945de0c-f042-46b2-9d06-ab064af6c05b",
   "metadata": {},
   "source": [
    "# Neural Network Baseline\n",
    "Traditional, simple neural network model with no NAICS input"
   ]
  },
  {
   "cell_type": "markdown",
   "id": "d47a7ec9-7d7b-47df-a902-b2f1e54f1135",
   "metadata": {},
   "source": [
    "*This script takes about 2 hours on my MacBook Air*"
   ]
  },
  {
   "cell_type": "code",
   "execution_count": 2,
   "id": "fb42f9b4-99a8-4753-aacf-8722469be4c8",
   "metadata": {},
   "outputs": [],
   "source": [
    "import numpy as np\n",
    "import pandas as pd\n",
    "import tensorflow as tf"
   ]
  },
  {
   "cell_type": "code",
   "execution_count": 3,
   "id": "bf51170a-4487-4d10-b63d-c88f41b529f9",
   "metadata": {},
   "outputs": [],
   "source": [
    "from pathlib import Path\n",
    "import importlib, pickle\n",
    "from sklearn import model_selection"
   ]
  },
  {
   "cell_type": "code",
   "execution_count": 4,
   "id": "09dd973b-60a0-434b-9193-8c5fcec27dd5",
   "metadata": {},
   "outputs": [],
   "source": [
    "import pandas as pd\n",
    "import os\n",
    "import re\n",
    "\n",
    "from tensorflow.keras import layers, optimizers, losses, metrics, Model\n",
    "from sklearn import preprocessing, feature_extraction, model_selection\n",
    "from IPython.display import display, HTML\n",
    "import matplotlib.pyplot as plt\n",
    "%matplotlib inline"
   ]
  },
  {
   "cell_type": "code",
   "execution_count": 5,
   "id": "22b466e7-a419-45aa-83f7-5dafc7a3998b",
   "metadata": {},
   "outputs": [],
   "source": [
    "from tensorflow.keras.models import Sequential\n",
    "from tensorflow.keras.layers import Dense, Dropout\n",
    "import tensorflow.keras.metrics as km"
   ]
  },
  {
   "cell_type": "code",
   "execution_count": 6,
   "id": "9f1e4f2e-0e45-4e28-8e9c-212e0bb51199",
   "metadata": {},
   "outputs": [],
   "source": [
    "from sba_gnn.sba_gnn import sg_plot "
   ]
  },
  {
   "cell_type": "markdown",
   "id": "3cbc00d2-bc83-42d9-83eb-65fcf306dccd",
   "metadata": {},
   "source": [
    "## Input Data"
   ]
  },
  {
   "cell_type": "code",
   "execution_count": 7,
   "id": "5f0183dc-7ee1-49eb-8723-a9f4cea14b88",
   "metadata": {},
   "outputs": [],
   "source": [
    "business_data = pd.read_parquet(Path(setup.temp_path).joinpath('20_DATA_combined_scaled_all.parquet'))"
   ]
  },
  {
   "cell_type": "code",
   "execution_count": 8,
   "id": "feaedcfe-7722-41c1-be4c-4921f0d11db9",
   "metadata": {},
   "outputs": [
    {
     "data": {
      "text/html": [
       "<div>\n",
       "<style scoped>\n",
       "    .dataframe tbody tr th:only-of-type {\n",
       "        vertical-align: middle;\n",
       "    }\n",
       "\n",
       "    .dataframe tbody tr th {\n",
       "        vertical-align: top;\n",
       "    }\n",
       "\n",
       "    .dataframe thead th {\n",
       "        text-align: right;\n",
       "    }\n",
       "</style>\n",
       "<table border=\"1\" class=\"dataframe\">\n",
       "  <thead>\n",
       "    <tr style=\"text-align: right;\">\n",
       "      <th></th>\n",
       "      <th>target</th>\n",
       "      <th>dset_naics_holdout</th>\n",
       "      <th>mhier_NAICS</th>\n",
       "      <th>menc_NAICS</th>\n",
       "      <th>cenc_NAICS</th>\n",
       "      <th>NS___Accommodation and Food Services</th>\n",
       "      <th>NS___Administrative and Support and Waste Management and Remediation Services</th>\n",
       "      <th>NS___Construction</th>\n",
       "      <th>NS___Health Care and Social Assistance</th>\n",
       "      <th>NS___Manufacturing</th>\n",
       "      <th>...</th>\n",
       "      <th>new_business</th>\n",
       "      <th>urban_flag</th>\n",
       "      <th>franchise_flag</th>\n",
       "      <th>missingindicator_LowDoc</th>\n",
       "      <th>missingindicator_new_business</th>\n",
       "      <th>missingindicator_urban_flag</th>\n",
       "      <th>NAICS</th>\n",
       "      <th>NAICS_alt</th>\n",
       "      <th>NAICS_alt3</th>\n",
       "      <th>NAICS_alt4</th>\n",
       "    </tr>\n",
       "  </thead>\n",
       "  <tbody>\n",
       "    <tr>\n",
       "      <th>count</th>\n",
       "      <td>688081.000000</td>\n",
       "      <td>688081.000000</td>\n",
       "      <td>688081.000000</td>\n",
       "      <td>688081.000000</td>\n",
       "      <td>688081.000000</td>\n",
       "      <td>688081.000000</td>\n",
       "      <td>688081.000000</td>\n",
       "      <td>688081.000000</td>\n",
       "      <td>688081.000000</td>\n",
       "      <td>688081.000000</td>\n",
       "      <td>...</td>\n",
       "      <td>688081.000000</td>\n",
       "      <td>688081.000000</td>\n",
       "      <td>688081.000000</td>\n",
       "      <td>688081.000000</td>\n",
       "      <td>688081.000000</td>\n",
       "      <td>688081.000000</td>\n",
       "      <td>688081.000000</td>\n",
       "      <td>688081.000000</td>\n",
       "      <td>688081.000000</td>\n",
       "      <td>688081.000000</td>\n",
       "    </tr>\n",
       "    <tr>\n",
       "      <th>mean</th>\n",
       "      <td>0.203011</td>\n",
       "      <td>0.094541</td>\n",
       "      <td>0.203906</td>\n",
       "      <td>0.205152</td>\n",
       "      <td>0.007265</td>\n",
       "      <td>0.097958</td>\n",
       "      <td>0.047133</td>\n",
       "      <td>0.095606</td>\n",
       "      <td>0.079398</td>\n",
       "      <td>0.096843</td>\n",
       "      <td>...</td>\n",
       "      <td>-0.444129</td>\n",
       "      <td>0.705279</td>\n",
       "      <td>-0.899352</td>\n",
       "      <td>-0.985316</td>\n",
       "      <td>-0.997529</td>\n",
       "      <td>-0.602849</td>\n",
       "      <td>701.045842</td>\n",
       "      <td>767.921227</td>\n",
       "      <td>769.528095</td>\n",
       "      <td>769.233577</td>\n",
       "    </tr>\n",
       "    <tr>\n",
       "      <th>std</th>\n",
       "      <td>0.402241</td>\n",
       "      <td>0.292580</td>\n",
       "      <td>0.095690</td>\n",
       "      <td>0.091362</td>\n",
       "      <td>0.010443</td>\n",
       "      <td>0.297258</td>\n",
       "      <td>0.211922</td>\n",
       "      <td>0.294051</td>\n",
       "      <td>0.270359</td>\n",
       "      <td>0.295744</td>\n",
       "      <td>...</td>\n",
       "      <td>0.895963</td>\n",
       "      <td>0.708930</td>\n",
       "      <td>0.437226</td>\n",
       "      <td>0.170743</td>\n",
       "      <td>0.070251</td>\n",
       "      <td>0.797856</td>\n",
       "      <td>383.284385</td>\n",
       "      <td>326.131581</td>\n",
       "      <td>324.361889</td>\n",
       "      <td>326.453771</td>\n",
       "    </tr>\n",
       "    <tr>\n",
       "      <th>min</th>\n",
       "      <td>0.000000</td>\n",
       "      <td>0.000000</td>\n",
       "      <td>0.012987</td>\n",
       "      <td>0.020495</td>\n",
       "      <td>0.000000</td>\n",
       "      <td>0.000000</td>\n",
       "      <td>0.000000</td>\n",
       "      <td>0.000000</td>\n",
       "      <td>0.000000</td>\n",
       "      <td>0.000000</td>\n",
       "      <td>...</td>\n",
       "      <td>-1.000000</td>\n",
       "      <td>-1.000000</td>\n",
       "      <td>-1.000000</td>\n",
       "      <td>-1.000000</td>\n",
       "      <td>-1.000000</td>\n",
       "      <td>-1.000000</td>\n",
       "      <td>0.000000</td>\n",
       "      <td>1.000000</td>\n",
       "      <td>0.000000</td>\n",
       "      <td>0.000000</td>\n",
       "    </tr>\n",
       "    <tr>\n",
       "      <th>25%</th>\n",
       "      <td>0.000000</td>\n",
       "      <td>0.000000</td>\n",
       "      <td>0.126003</td>\n",
       "      <td>0.137475</td>\n",
       "      <td>0.000718</td>\n",
       "      <td>0.000000</td>\n",
       "      <td>0.000000</td>\n",
       "      <td>0.000000</td>\n",
       "      <td>0.000000</td>\n",
       "      <td>0.000000</td>\n",
       "      <td>...</td>\n",
       "      <td>-1.000000</td>\n",
       "      <td>1.000000</td>\n",
       "      <td>-1.000000</td>\n",
       "      <td>-1.000000</td>\n",
       "      <td>-1.000000</td>\n",
       "      <td>-1.000000</td>\n",
       "      <td>436.000000</td>\n",
       "      <td>651.000000</td>\n",
       "      <td>644.000000</td>\n",
       "      <td>638.000000</td>\n",
       "    </tr>\n",
       "    <tr>\n",
       "      <th>50%</th>\n",
       "      <td>0.000000</td>\n",
       "      <td>0.000000</td>\n",
       "      <td>0.205592</td>\n",
       "      <td>0.204655</td>\n",
       "      <td>0.003056</td>\n",
       "      <td>0.000000</td>\n",
       "      <td>0.000000</td>\n",
       "      <td>0.000000</td>\n",
       "      <td>0.000000</td>\n",
       "      <td>0.000000</td>\n",
       "      <td>...</td>\n",
       "      <td>-1.000000</td>\n",
       "      <td>1.000000</td>\n",
       "      <td>-1.000000</td>\n",
       "      <td>-1.000000</td>\n",
       "      <td>-1.000000</td>\n",
       "      <td>-1.000000</td>\n",
       "      <td>756.000000</td>\n",
       "      <td>844.000000</td>\n",
       "      <td>825.000000</td>\n",
       "      <td>825.000000</td>\n",
       "    </tr>\n",
       "    <tr>\n",
       "      <th>75%</th>\n",
       "      <td>0.000000</td>\n",
       "      <td>0.000000</td>\n",
       "      <td>0.264286</td>\n",
       "      <td>0.254574</td>\n",
       "      <td>0.009309</td>\n",
       "      <td>0.000000</td>\n",
       "      <td>0.000000</td>\n",
       "      <td>0.000000</td>\n",
       "      <td>0.000000</td>\n",
       "      <td>0.000000</td>\n",
       "      <td>...</td>\n",
       "      <td>1.000000</td>\n",
       "      <td>1.000000</td>\n",
       "      <td>-1.000000</td>\n",
       "      <td>-1.000000</td>\n",
       "      <td>-1.000000</td>\n",
       "      <td>-1.000000</td>\n",
       "      <td>1031.000000</td>\n",
       "      <td>1034.000000</td>\n",
       "      <td>1034.000000</td>\n",
       "      <td>1034.000000</td>\n",
       "    </tr>\n",
       "    <tr>\n",
       "      <th>max</th>\n",
       "      <td>1.000000</td>\n",
       "      <td>1.000000</td>\n",
       "      <td>0.572148</td>\n",
       "      <td>0.551324</td>\n",
       "      <td>0.044873</td>\n",
       "      <td>1.000000</td>\n",
       "      <td>1.000000</td>\n",
       "      <td>1.000000</td>\n",
       "      <td>1.000000</td>\n",
       "      <td>1.000000</td>\n",
       "      <td>...</td>\n",
       "      <td>1.000000</td>\n",
       "      <td>1.000000</td>\n",
       "      <td>1.000000</td>\n",
       "      <td>1.000000</td>\n",
       "      <td>1.000000</td>\n",
       "      <td>1.000000</td>\n",
       "      <td>1166.000000</td>\n",
       "      <td>1166.000000</td>\n",
       "      <td>1166.000000</td>\n",
       "      <td>1166.000000</td>\n",
       "    </tr>\n",
       "  </tbody>\n",
       "</table>\n",
       "<p>8 rows × 29 columns</p>\n",
       "</div>"
      ],
      "text/plain": [
       "              target  dset_naics_holdout    mhier_NAICS     menc_NAICS  \\\n",
       "count  688081.000000       688081.000000  688081.000000  688081.000000   \n",
       "mean        0.203011            0.094541       0.203906       0.205152   \n",
       "std         0.402241            0.292580       0.095690       0.091362   \n",
       "min         0.000000            0.000000       0.012987       0.020495   \n",
       "25%         0.000000            0.000000       0.126003       0.137475   \n",
       "50%         0.000000            0.000000       0.205592       0.204655   \n",
       "75%         0.000000            0.000000       0.264286       0.254574   \n",
       "max         1.000000            1.000000       0.572148       0.551324   \n",
       "\n",
       "          cenc_NAICS  NS___Accommodation and Food Services  \\\n",
       "count  688081.000000                         688081.000000   \n",
       "mean        0.007265                              0.097958   \n",
       "std         0.010443                              0.297258   \n",
       "min         0.000000                              0.000000   \n",
       "25%         0.000718                              0.000000   \n",
       "50%         0.003056                              0.000000   \n",
       "75%         0.009309                              0.000000   \n",
       "max         0.044873                              1.000000   \n",
       "\n",
       "       NS___Administrative and Support and Waste Management and Remediation Services  \\\n",
       "count                                      688081.000000                               \n",
       "mean                                            0.047133                               \n",
       "std                                             0.211922                               \n",
       "min                                             0.000000                               \n",
       "25%                                             0.000000                               \n",
       "50%                                             0.000000                               \n",
       "75%                                             0.000000                               \n",
       "max                                             1.000000                               \n",
       "\n",
       "       NS___Construction  NS___Health Care and Social Assistance  \\\n",
       "count      688081.000000                           688081.000000   \n",
       "mean            0.095606                                0.079398   \n",
       "std             0.294051                                0.270359   \n",
       "min             0.000000                                0.000000   \n",
       "25%             0.000000                                0.000000   \n",
       "50%             0.000000                                0.000000   \n",
       "75%             0.000000                                0.000000   \n",
       "max             1.000000                                1.000000   \n",
       "\n",
       "       NS___Manufacturing  ...   new_business     urban_flag  franchise_flag  \\\n",
       "count       688081.000000  ...  688081.000000  688081.000000   688081.000000   \n",
       "mean             0.096843  ...      -0.444129       0.705279       -0.899352   \n",
       "std              0.295744  ...       0.895963       0.708930        0.437226   \n",
       "min              0.000000  ...      -1.000000      -1.000000       -1.000000   \n",
       "25%              0.000000  ...      -1.000000       1.000000       -1.000000   \n",
       "50%              0.000000  ...      -1.000000       1.000000       -1.000000   \n",
       "75%              0.000000  ...       1.000000       1.000000       -1.000000   \n",
       "max              1.000000  ...       1.000000       1.000000        1.000000   \n",
       "\n",
       "       missingindicator_LowDoc  missingindicator_new_business  \\\n",
       "count            688081.000000                  688081.000000   \n",
       "mean                 -0.985316                      -0.997529   \n",
       "std                   0.170743                       0.070251   \n",
       "min                  -1.000000                      -1.000000   \n",
       "25%                  -1.000000                      -1.000000   \n",
       "50%                  -1.000000                      -1.000000   \n",
       "75%                  -1.000000                      -1.000000   \n",
       "max                   1.000000                       1.000000   \n",
       "\n",
       "       missingindicator_urban_flag          NAICS      NAICS_alt  \\\n",
       "count                688081.000000  688081.000000  688081.000000   \n",
       "mean                     -0.602849     701.045842     767.921227   \n",
       "std                       0.797856     383.284385     326.131581   \n",
       "min                      -1.000000       0.000000       1.000000   \n",
       "25%                      -1.000000     436.000000     651.000000   \n",
       "50%                      -1.000000     756.000000     844.000000   \n",
       "75%                      -1.000000    1031.000000    1034.000000   \n",
       "max                       1.000000    1166.000000    1166.000000   \n",
       "\n",
       "          NAICS_alt3     NAICS_alt4  \n",
       "count  688081.000000  688081.000000  \n",
       "mean      769.528095     769.233577  \n",
       "std       324.361889     326.453771  \n",
       "min         0.000000       0.000000  \n",
       "25%       644.000000     638.000000  \n",
       "50%       825.000000     825.000000  \n",
       "75%      1034.000000    1034.000000  \n",
       "max      1166.000000    1166.000000  \n",
       "\n",
       "[8 rows x 29 columns]"
      ]
     },
     "execution_count": 8,
     "metadata": {},
     "output_type": "execute_result"
    }
   ],
   "source": [
    "business_data.describe()"
   ]
  },
  {
   "cell_type": "code",
   "execution_count": 9,
   "id": "555f4031-e66d-4476-a37e-50e2d382ecf4",
   "metadata": {},
   "outputs": [],
   "source": [
    "with open(Path(setup.temp_path).joinpath('20_DATA_features.pkl'), 'rb') as fin:\n",
    "    imputer_features = pickle.load(fin)"
   ]
  },
  {
   "cell_type": "code",
   "execution_count": 10,
   "id": "3a916e26-2419-4bd0-8fd4-58a959dc4bac",
   "metadata": {},
   "outputs": [
    {
     "name": "stdout",
     "output_type": "stream",
     "text": [
      "['NoEmp', 'CreateJob', 'LowDoc', 'DisbursementGross', 'new_business', 'urban_flag', 'franchise_flag', 'missingindicator_LowDoc', 'missingindicator_new_business', 'missingindicator_urban_flag']\n"
     ]
    }
   ],
   "source": [
    "features = [f for f in imputer_features if 'NAICS' not in f]\n",
    "print(features)"
   ]
  },
  {
   "cell_type": "markdown",
   "id": "d94006a0-f010-4874-a7f1-0fd80c1e9a35",
   "metadata": {},
   "source": [
    "##### Datasets for train, validation"
   ]
  },
  {
   "cell_type": "code",
   "execution_count": 11,
   "id": "a02a909d-834a-46a8-9cdd-ccfa36b07d69",
   "metadata": {},
   "outputs": [],
   "source": [
    "X = business_data[['dset', 'LoanNr_ChkDgt'] + features].set_index('LoanNr_ChkDgt').sort_index()"
   ]
  },
  {
   "cell_type": "code",
   "execution_count": 12,
   "id": "42dc5c92-f5a2-457c-be3a-60cb0f6c2ef8",
   "metadata": {},
   "outputs": [
    {
     "name": "stdout",
     "output_type": "stream",
     "text": [
      "training X: (436120, 10), y:(436120,)\n"
     ]
    }
   ],
   "source": [
    "X_train = X[X['dset'] == 'train'].drop(columns='dset')\n",
    "y_train = business_data[business_data['dset'] == 'train'].set_index('LoanNr_ChkDgt').sort_index()['target']\n",
    "print(f'training X: {X_train.shape}, y:{y_train.shape}')"
   ]
  },
  {
   "cell_type": "code",
   "execution_count": 13,
   "id": "038b0e4f-a84a-4c8b-863e-4c594c1c9f32",
   "metadata": {},
   "outputs": [
    {
     "name": "stdout",
     "output_type": "stream",
     "text": [
      "val X: (93454, 10), y:(93454,)\n"
     ]
    }
   ],
   "source": [
    "X_val = X[X['dset'] == 'val'].drop(columns='dset')\n",
    "y_val = business_data[business_data['dset'] == 'val'].set_index('LoanNr_ChkDgt').sort_index()['target']\n",
    "print(f'val X: {X_val.shape}, y:{y_val.shape}')"
   ]
  },
  {
   "cell_type": "code",
   "execution_count": 14,
   "id": "bcb86909-e8a7-4f22-b089-6ca61dd86c73",
   "metadata": {},
   "outputs": [
    {
     "name": "stdout",
     "output_type": "stream",
     "text": [
      "0.2046546821975603\n"
     ]
    }
   ],
   "source": [
    "base_thresh = y_train.mean()\n",
    "print(base_thresh)"
   ]
  },
  {
   "cell_type": "markdown",
   "id": "a5c68623-4599-4472-a13a-9400d101633e",
   "metadata": {},
   "source": [
    "## Function to create model"
   ]
  },
  {
   "cell_type": "code",
   "execution_count": 15,
   "id": "9f4deffd-2b85-43d0-9cd1-1d9cf707b9e7",
   "metadata": {},
   "outputs": [],
   "source": [
    "def create_model(n_feat = len(features), \n",
    "                 hidden_size = setup.nn_layer_sizes,\n",
    "                 activation='tanh', lr=setup.nn_learning_rate,\n",
    "                 opt_func = setup.nn_optimizer, dropout = setup.nn_dropout):\n",
    "    \n",
    "    n_layers = len(hidden_size)\n",
    "    model = Sequential()\n",
    "    model.add(Dense(hidden_size[0], input_shape=(n_feat,), activation=activation))\n",
    "    for i in range(1, n_layers):\n",
    "        model.add(Dropout(dropout))\n",
    "        model.add(Dense(hidden_size[i], input_shape=(hidden_size[i-1],), activation=activation))\n",
    "    model.add(Dropout(dropout))\n",
    "    model.add(Dense(1, activation='sigmoid'))\n",
    "    # Compile model\n",
    "    optimizer = opt_func(learning_rate=lr)\n",
    "    model.compile(loss='binary_crossentropy', optimizer=optimizer, \n",
    "                  metrics=[km.AUC(curve='PR'), km.AUC(curve='ROC')])\n",
    "    return model"
   ]
  },
  {
   "cell_type": "markdown",
   "id": "3db4ea1c-77b2-4721-b106-1e66fc502139",
   "metadata": {},
   "source": [
    "## Create, fit model"
   ]
  },
  {
   "cell_type": "code",
   "execution_count": 16,
   "id": "4d48ddfa-580c-4321-9917-0bd176b67d87",
   "metadata": {},
   "outputs": [
    {
     "name": "stderr",
     "output_type": "stream",
     "text": [
      "2024-03-29 06:30:53.635191: I metal_plugin/src/device/metal_device.cc:1154] Metal device set to: Apple M1\n",
      "2024-03-29 06:30:53.635217: I metal_plugin/src/device/metal_device.cc:296] systemMemory: 16.00 GB\n",
      "2024-03-29 06:30:53.635223: I metal_plugin/src/device/metal_device.cc:313] maxCacheSize: 5.33 GB\n",
      "2024-03-29 06:30:53.635269: I tensorflow/core/common_runtime/pluggable_device/pluggable_device_factory.cc:303] Could not identify NUMA node of platform GPU ID 0, defaulting to 0. Your kernel may not have been built with NUMA support.\n",
      "2024-03-29 06:30:53.635287: I tensorflow/core/common_runtime/pluggable_device/pluggable_device_factory.cc:269] Created TensorFlow device (/job:localhost/replica:0/task:0/device:GPU:0 with 0 MB memory) -> physical PluggableDevice (device: 0, name: METAL, pci bus id: <undefined>)\n"
     ]
    }
   ],
   "source": [
    "this_model = create_model()"
   ]
  },
  {
   "cell_type": "code",
   "execution_count": 17,
   "id": "bb765db3-1646-44f2-84ec-f8f4a7b236ce",
   "metadata": {},
   "outputs": [
    {
     "name": "stdout",
     "output_type": "stream",
     "text": [
      "Model: \"sequential\"\n",
      "_________________________________________________________________\n",
      " Layer (type)                Output Shape              Param #   \n",
      "=================================================================\n",
      " dense (Dense)               (None, 128)               1408      \n",
      "                                                                 \n",
      " dropout (Dropout)           (None, 128)               0         \n",
      "                                                                 \n",
      " dense_1 (Dense)             (None, 64)                8256      \n",
      "                                                                 \n",
      " dropout_1 (Dropout)         (None, 64)                0         \n",
      "                                                                 \n",
      " dense_2 (Dense)             (None, 1)                 65        \n",
      "                                                                 \n",
      "=================================================================\n",
      "Total params: 9729 (38.00 KB)\n",
      "Trainable params: 9729 (38.00 KB)\n",
      "Non-trainable params: 0 (0.00 Byte)\n",
      "_________________________________________________________________\n"
     ]
    }
   ],
   "source": [
    "this_model.summary()"
   ]
  },
  {
   "cell_type": "code",
   "execution_count": 18,
   "id": "31772016-3643-468b-8d65-c456168cad6e",
   "metadata": {},
   "outputs": [
    {
     "name": "stdout",
     "output_type": "stream",
     "text": [
      "Epoch 1/20\n"
     ]
    },
    {
     "name": "stderr",
     "output_type": "stream",
     "text": [
      "2024-03-29 06:30:54.236973: I tensorflow/core/grappler/optimizers/custom_graph_optimizer_registry.cc:114] Plugin optimizer for device_type GPU is enabled.\n"
     ]
    },
    {
     "name": "stdout",
     "output_type": "stream",
     "text": [
      "13629/13629 [==============================] - ETA: 0s - loss: 0.4750 - auc: 0.3068 - auc_1: 0.6717"
     ]
    },
    {
     "name": "stderr",
     "output_type": "stream",
     "text": [
      "2024-03-29 06:34:14.184024: I tensorflow/core/grappler/optimizers/custom_graph_optimizer_registry.cc:114] Plugin optimizer for device_type GPU is enabled.\n"
     ]
    },
    {
     "name": "stdout",
     "output_type": "stream",
     "text": [
      "13629/13629 [==============================] - 223s 16ms/step - loss: 0.4750 - auc: 0.3068 - auc_1: 0.6717 - val_loss: 0.4716 - val_auc: 0.3300 - val_auc_1: 0.6878\n",
      "Epoch 2/20\n",
      "13629/13629 [==============================] - 190s 14ms/step - loss: 0.4689 - auc: 0.3226 - auc_1: 0.6854 - val_loss: 0.4704 - val_auc: 0.3370 - val_auc_1: 0.6938\n",
      "Epoch 3/20\n",
      "13629/13629 [==============================] - 188s 14ms/step - loss: 0.4675 - auc: 0.3272 - auc_1: 0.6890 - val_loss: 0.4710 - val_auc: 0.3366 - val_auc_1: 0.6944\n",
      "Epoch 4/20\n",
      "13629/13629 [==============================] - 238s 17ms/step - loss: 0.4669 - auc: 0.3295 - auc_1: 0.6906 - val_loss: 0.4718 - val_auc: 0.3407 - val_auc_1: 0.6962\n",
      "Epoch 5/20\n",
      "13629/13629 [==============================] - 1083s 79ms/step - loss: 0.4664 - auc: 0.3311 - auc_1: 0.6918 - val_loss: 0.4686 - val_auc: 0.3418 - val_auc_1: 0.6971\n",
      "Epoch 6/20\n",
      "13629/13629 [==============================] - 742s 54ms/step - loss: 0.4662 - auc: 0.3322 - auc_1: 0.6924 - val_loss: 0.4719 - val_auc: 0.3416 - val_auc_1: 0.6972\n",
      "Epoch 7/20\n",
      "13629/13629 [==============================] - 1130s 83ms/step - loss: 0.4661 - auc: 0.3321 - auc_1: 0.6926 - val_loss: 0.4691 - val_auc: 0.3415 - val_auc_1: 0.6971\n",
      "Epoch 8/20\n",
      "13629/13629 [==============================] - 1079s 79ms/step - loss: 0.4659 - auc: 0.3322 - auc_1: 0.6933 - val_loss: 0.4689 - val_auc: 0.3438 - val_auc_1: 0.6977\n",
      "Epoch 9/20\n",
      "13629/13629 [==============================] - 1079s 79ms/step - loss: 0.4658 - auc: 0.3325 - auc_1: 0.6933 - val_loss: 0.4693 - val_auc: 0.3422 - val_auc_1: 0.6963\n",
      "Epoch 10/20\n",
      "13629/13629 [==============================] - 179s 13ms/step - loss: 0.4658 - auc: 0.3324 - auc_1: 0.6932 - val_loss: 0.4684 - val_auc: 0.3457 - val_auc_1: 0.6979\n",
      "Epoch 11/20\n",
      "13629/13629 [==============================] - 181s 13ms/step - loss: 0.4656 - auc: 0.3329 - auc_1: 0.6938 - val_loss: 0.4688 - val_auc: 0.3429 - val_auc_1: 0.6973\n",
      "Epoch 12/20\n",
      "13629/13629 [==============================] - 1080s 79ms/step - loss: 0.4656 - auc: 0.3330 - auc_1: 0.6937 - val_loss: 0.4698 - val_auc: 0.3437 - val_auc_1: 0.6984\n",
      "Epoch 13/20\n",
      "13629/13629 [==============================] - 1079s 79ms/step - loss: 0.4656 - auc: 0.3337 - auc_1: 0.6939 - val_loss: 0.4677 - val_auc: 0.3445 - val_auc_1: 0.6981\n",
      "Epoch 14/20\n",
      "13629/13629 [==============================] - 1080s 79ms/step - loss: 0.4655 - auc: 0.3335 - auc_1: 0.6942 - val_loss: 0.4678 - val_auc: 0.3443 - val_auc_1: 0.6978\n",
      "Epoch 15/20\n",
      "13629/13629 [==============================] - 426s 31ms/step - loss: 0.4655 - auc: 0.3334 - auc_1: 0.6940 - val_loss: 0.4677 - val_auc: 0.3460 - val_auc_1: 0.6983\n",
      "Epoch 16/20\n",
      "13629/13629 [==============================] - 181s 13ms/step - loss: 0.4653 - auc: 0.3342 - auc_1: 0.6945 - val_loss: 0.4675 - val_auc: 0.3446 - val_auc_1: 0.6988\n",
      "Epoch 17/20\n",
      "13629/13629 [==============================] - 1080s 79ms/step - loss: 0.4653 - auc: 0.3341 - auc_1: 0.6946 - val_loss: 0.4678 - val_auc: 0.3442 - val_auc_1: 0.6983\n",
      "Epoch 18/20\n",
      "13629/13629 [==============================] - 182s 13ms/step - loss: 0.4654 - auc: 0.3337 - auc_1: 0.6942 - val_loss: 0.4677 - val_auc: 0.3454 - val_auc_1: 0.6984\n",
      "Epoch 19/20\n",
      "13629/13629 [==============================] - 186s 14ms/step - loss: 0.4652 - auc: 0.3347 - auc_1: 0.6947 - val_loss: 0.4683 - val_auc: 0.3459 - val_auc_1: 0.6989\n",
      "Epoch 20/20\n",
      "13629/13629 [==============================] - 190s 14ms/step - loss: 0.4653 - auc: 0.3337 - auc_1: 0.6943 - val_loss: 0.4699 - val_auc: 0.3428 - val_auc_1: 0.6983\n"
     ]
    }
   ],
   "source": [
    "this_history = this_model.fit(X_train, y_train,\n",
    "                              validation_data=(X_val, y_val),\n",
    "                              batch_size=setup.nn_batch_size,\n",
    "                              epochs=setup.nn_epochs)"
   ]
  },
  {
   "cell_type": "code",
   "execution_count": 19,
   "id": "460c4b43-c673-4ee1-b070-d2d596ac4561",
   "metadata": {},
   "outputs": [],
   "source": [
    "this_history_df = pd.DataFrame(this_history.history)"
   ]
  },
  {
   "cell_type": "code",
   "execution_count": 20,
   "id": "c85bd09a-2fa9-4255-958b-4d48b17085ff",
   "metadata": {},
   "outputs": [],
   "source": [
    "# Rename columns\n",
    "try:\n",
    "    this_history_df.columns = ['_'.join(c.split('_')[0:-1])  \\\n",
    "                               if re.search(r'_\\d+$', c) else c for c in this_history_df.columns]\n",
    "except:\n",
    "    pass\n",
    "try:\n",
    "    cur_col = list(this_history_df.columns)\n",
    "    this_history_df.columns = [cur_col[0]] + \\\n",
    "        [f'{cur_col[i]}_roc'  if (cur_col[i] == cur_col[i-1]) and 'auc'in cur_col[i] \\\n",
    "         else cur_col[i] for i in range(1, len(cur_col))]\n",
    "except:\n",
    "    pass"
   ]
  },
  {
   "cell_type": "code",
   "execution_count": 21,
   "id": "8ea25384-9fc0-4916-a577-4bd9bc9b203f",
   "metadata": {},
   "outputs": [
    {
     "data": {
      "text/plain": [
       "Index(['loss', 'auc', 'auc_roc', 'val_loss', 'val_auc', 'val_auc_roc'], dtype='object')"
      ]
     },
     "execution_count": 21,
     "metadata": {},
     "output_type": "execute_result"
    }
   ],
   "source": [
    "this_history_df.columns"
   ]
  },
  {
   "cell_type": "code",
   "execution_count": 22,
   "id": "ad4783f2-8d0b-4850-a45a-3a4be8e63318",
   "metadata": {},
   "outputs": [],
   "source": [
    "this_history_df.to_csv(Path(setup.temp_path).joinpath('21_REPORT_fit_history.csv'))"
   ]
  },
  {
   "cell_type": "code",
   "execution_count": 23,
   "id": "73e89efd-75a9-4b27-81a8-13e12d5482be",
   "metadata": {},
   "outputs": [
    {
     "data": {
      "text/plain": [
       "<Axes: >"
      ]
     },
     "execution_count": 23,
     "metadata": {},
     "output_type": "execute_result"
    },
    {
     "data": {
      "image/png": "[encoded data removed]",
      "text/plain": [
       "<Figure size 640x480 with 1 Axes>"
      ]
     },
     "metadata": {},
     "output_type": "display_data"
    }
   ],
   "source": [
    "this_history_df[['loss', 'val_loss']].plot()"
   ]
  },
  {
   "cell_type": "code",
   "execution_count": 24,
   "id": "2342a31f-4891-4834-851a-b90b8b729c3c",
   "metadata": {},
   "outputs": [
    {
     "data": {
      "text/plain": [
       "<Axes: >"
      ]
     },
     "execution_count": 24,
     "metadata": {},
     "output_type": "execute_result"
    },
    {
     "data": {
      "image/png": "[encoded data removed]",
      "text/plain": [
       "<Figure size 640x480 with 1 Axes>"
      ]
     },
     "metadata": {},
     "output_type": "display_data"
    }
   ],
   "source": [
    "this_history_df[['auc', 'val_auc']].plot()"
   ]
  },
  {
   "cell_type": "code",
   "execution_count": 25,
   "id": "cee80637-cabf-4974-b476-08c5fba165ff",
   "metadata": {},
   "outputs": [
    {
     "data": {
      "text/plain": [
       "<Axes: >"
      ]
     },
     "execution_count": 25,
     "metadata": {},
     "output_type": "execute_result"
    },
    {
     "data": {
      "image/png": "[encoded data removed]",
      "text/plain": [
       "<Figure size 640x480 with 1 Axes>"
      ]
     },
     "metadata": {},
     "output_type": "display_data"
    }
   ],
   "source": [
    "this_history_df[['auc_roc', 'val_auc_roc']].plot()"
   ]
  },
  {
   "cell_type": "code",
   "execution_count": 26,
   "id": "e184b0ca-1d31-4798-88a0-4e590b67062e",
   "metadata": {},
   "outputs": [],
   "source": [
    "this_model.save(Path(setup.temp_path).joinpath('21_DATA_model.keras'),save_format='tf')"
   ]
  },
  {
   "cell_type": "markdown",
   "id": "d326c9ea-4759-4418-a64d-56c151049c25",
   "metadata": {},
   "source": [
    "## Predictions on all data"
   ]
  },
  {
   "cell_type": "code",
   "execution_count": 27,
   "id": "cd6910ee-5ffe-4def-9aa8-7dba76446b08",
   "metadata": {},
   "outputs": [
    {
     "name": "stdout",
     "output_type": "stream",
     "text": [
      "   93/21503 [..............................] - ETA: 35s"
     ]
    },
    {
     "name": "stderr",
     "output_type": "stream",
     "text": [
      "2024-03-29 09:47:32.244179: I tensorflow/core/grappler/optimizers/custom_graph_optimizer_registry.cc:114] Plugin optimizer for device_type GPU is enabled.\n"
     ]
    },
    {
     "name": "stdout",
     "output_type": "stream",
     "text": [
      "21503/21503 [==============================] - 30s 1ms/step\n"
     ]
    }
   ],
   "source": [
    "all_predictions = this_model.predict(X.drop(columns='dset'))"
   ]
  },
  {
   "cell_type": "code",
   "execution_count": 28,
   "id": "98a2cce1-b7d3-4ebc-8869-80705297e145",
   "metadata": {},
   "outputs": [],
   "source": [
    "all_predictions_df = pd.DataFrame(all_predictions, index=X.index) \\\n",
    "    .set_axis(['predict_prob'], axis=1) \\\n",
    "    .reset_index() \\\n",
    "    .merge(business_data[['target', 'LoanNr_ChkDgt', 'dset', 'dset_naics_holdout']], on='LoanNr_ChkDgt')\n",
    "    "
   ]
  },
  {
   "cell_type": "code",
   "execution_count": 29,
   "id": "3fc7da9c-6bd2-4d1b-b77f-b62679825d5d",
   "metadata": {},
   "outputs": [
    {
     "data": {
      "text/html": [
       "<div>\n",
       "<style scoped>\n",
       "    .dataframe tbody tr th:only-of-type {\n",
       "        vertical-align: middle;\n",
       "    }\n",
       "\n",
       "    .dataframe tbody tr th {\n",
       "        vertical-align: top;\n",
       "    }\n",
       "\n",
       "    .dataframe thead th {\n",
       "        text-align: right;\n",
       "    }\n",
       "</style>\n",
       "<table border=\"1\" class=\"dataframe\">\n",
       "  <thead>\n",
       "    <tr style=\"text-align: right;\">\n",
       "      <th></th>\n",
       "      <th>predict_prob</th>\n",
       "      <th>target</th>\n",
       "    </tr>\n",
       "  </thead>\n",
       "  <tbody>\n",
       "    <tr>\n",
       "      <th>predict_prob</th>\n",
       "      <td>1.000000</td>\n",
       "      <td>0.280619</td>\n",
       "    </tr>\n",
       "    <tr>\n",
       "      <th>target</th>\n",
       "      <td>0.280619</td>\n",
       "      <td>1.000000</td>\n",
       "    </tr>\n",
       "  </tbody>\n",
       "</table>\n",
       "</div>"
      ],
      "text/plain": [
       "              predict_prob    target\n",
       "predict_prob      1.000000  0.280619\n",
       "target            0.280619  1.000000"
      ]
     },
     "execution_count": 29,
     "metadata": {},
     "output_type": "execute_result"
    }
   ],
   "source": [
    "all_predictions_df[['predict_prob', 'target']].corr(method='spearman')"
   ]
  },
  {
   "cell_type": "markdown",
   "id": "e79afc4e-cb67-4064-9b19-dc52500baef2",
   "metadata": {},
   "source": [
    "##### Threshold Tune & Binary Predictions\n",
    "Using training probability predictions"
   ]
  },
  {
   "cell_type": "code",
   "execution_count": 30,
   "id": "ccd0bc23-fbc0-40d0-8d8b-f2302405a875",
   "metadata": {},
   "outputs": [],
   "source": [
    "all_pred_train = all_predictions_df[all_predictions_df['dset'] == 'train']"
   ]
  },
  {
   "cell_type": "code",
   "execution_count": 31,
   "id": "df36d9e9-f35e-46b3-a5be-08081f998319",
   "metadata": {},
   "outputs": [],
   "source": [
    "thresh_tune_data = sg_plot.get_f1_frame(all_pred_train['target'], \n",
    "                                        all_pred_train['predict_prob'])"
   ]
  },
  {
   "cell_type": "code",
   "execution_count": 32,
   "id": "de634156-caf6-4a52-b5d7-44b8e986aa1d",
   "metadata": {},
   "outputs": [
    {
     "data": {
      "text/html": [
       "<div>\n",
       "<style scoped>\n",
       "    .dataframe tbody tr th:only-of-type {\n",
       "        vertical-align: middle;\n",
       "    }\n",
       "\n",
       "    .dataframe tbody tr th {\n",
       "        vertical-align: top;\n",
       "    }\n",
       "\n",
       "    .dataframe thead th {\n",
       "        text-align: right;\n",
       "    }\n",
       "</style>\n",
       "<table border=\"1\" class=\"dataframe\">\n",
       "  <thead>\n",
       "    <tr style=\"text-align: right;\">\n",
       "      <th></th>\n",
       "      <th>thresh</th>\n",
       "      <th>f1</th>\n",
       "    </tr>\n",
       "  </thead>\n",
       "  <tbody>\n",
       "    <tr>\n",
       "      <th>10</th>\n",
       "      <td>0.20</td>\n",
       "      <td>0.428662</td>\n",
       "    </tr>\n",
       "    <tr>\n",
       "      <th>9</th>\n",
       "      <td>0.18</td>\n",
       "      <td>0.427022</td>\n",
       "    </tr>\n",
       "    <tr>\n",
       "      <th>11</th>\n",
       "      <td>0.22</td>\n",
       "      <td>0.426960</td>\n",
       "    </tr>\n",
       "  </tbody>\n",
       "</table>\n",
       "</div>"
      ],
      "text/plain": [
       "    thresh        f1\n",
       "10    0.20  0.428662\n",
       "9     0.18  0.427022\n",
       "11    0.22  0.426960"
      ]
     },
     "execution_count": 32,
     "metadata": {},
     "output_type": "execute_result"
    }
   ],
   "source": [
    "thresh_tune_data.sort_values('f1', ascending=False, inplace=True)\n",
    "thresh_tune_data.head(3)"
   ]
  },
  {
   "cell_type": "code",
   "execution_count": 33,
   "id": "c746b880-d781-4bc1-9df2-89211127c22a",
   "metadata": {},
   "outputs": [
    {
     "data": {
      "text/plain": [
       "0.2"
      ]
     },
     "execution_count": 33,
     "metadata": {},
     "output_type": "execute_result"
    }
   ],
   "source": [
    "best_thresh = thresh_tune_data['thresh'].iloc[0]\n",
    "best_thresh"
   ]
  },
  {
   "cell_type": "markdown",
   "id": "3c0ac5e2-be0d-42f0-960d-1f81b4a5d4e2",
   "metadata": {},
   "source": [
    "##### Append binary predictions to probability predictions"
   ]
  },
  {
   "cell_type": "code",
   "execution_count": 34,
   "id": "641da72e-1bca-4fe7-96c4-6c029b521bd7",
   "metadata": {},
   "outputs": [],
   "source": [
    "all_predictions_df['predict_bin'] = sg_plot.get_binary_predictions(all_predictions_df['predict_prob'], best_thresh)"
   ]
  },
  {
   "cell_type": "code",
   "execution_count": 35,
   "id": "9f6ecdf4-ac01-4c39-8315-e8583daa337e",
   "metadata": {},
   "outputs": [
    {
     "data": {
      "text/plain": [
       "predict_bin\n",
       "1    0.507763\n",
       "0    0.492237\n",
       "Name: proportion, dtype: float64"
      ]
     },
     "execution_count": 35,
     "metadata": {},
     "output_type": "execute_result"
    }
   ],
   "source": [
    "all_predictions_df['predict_bin'].value_counts(normalize=True, dropna=False)"
   ]
  },
  {
   "cell_type": "code",
   "execution_count": 36,
   "id": "cbfed830-7ff8-40f6-a691-6b894b26d6bc",
   "metadata": {},
   "outputs": [],
   "source": [
    "all_predictions_df.to_parquet(Path(setup.temp_path).joinpath('21_DATA_predictions.parquet'))"
   ]
  },
  {
   "cell_type": "markdown",
   "id": "69903966-6baa-4579-8e84-ce38e8ebdd77",
   "metadata": {},
   "source": [
    "## Metrics"
   ]
  },
  {
   "cell_type": "code",
   "execution_count": 37,
   "id": "09b7437b-4b51-42c4-a267-fb244663df49",
   "metadata": {},
   "outputs": [],
   "source": [
    "all_predictions_df = pd.read_parquet(Path(setup.temp_path).joinpath('21_DATA_predictions.parquet'))"
   ]
  },
  {
   "cell_type": "code",
   "execution_count": 38,
   "id": "0c748e1c-ddb3-4d92-8f84-485736633e10",
   "metadata": {},
   "outputs": [
    {
     "data": {
      "text/html": [
       "<div>\n",
       "<style scoped>\n",
       "    .dataframe tbody tr th:only-of-type {\n",
       "        vertical-align: middle;\n",
       "    }\n",
       "\n",
       "    .dataframe tbody tr th {\n",
       "        vertical-align: top;\n",
       "    }\n",
       "\n",
       "    .dataframe thead th {\n",
       "        text-align: right;\n",
       "    }\n",
       "</style>\n",
       "<table border=\"1\" class=\"dataframe\">\n",
       "  <thead>\n",
       "    <tr style=\"text-align: right;\">\n",
       "      <th></th>\n",
       "      <th>dset</th>\n",
       "      <th>accuracy_score</th>\n",
       "      <th>f1_score</th>\n",
       "      <th>precision_score</th>\n",
       "      <th>recall_score</th>\n",
       "      <th>average_precision_score</th>\n",
       "      <th>roc_auc_score</th>\n",
       "      <th>dset_naics_holdout</th>\n",
       "    </tr>\n",
       "  </thead>\n",
       "  <tbody>\n",
       "    <tr>\n",
       "      <th>0</th>\n",
       "      <td>test</td>\n",
       "      <td>0.603317</td>\n",
       "      <td>0.427501</td>\n",
       "      <td>0.297976</td>\n",
       "      <td>0.756217</td>\n",
       "      <td>0.340404</td>\n",
       "      <td>0.711034</td>\n",
       "      <td>NaN</td>\n",
       "    </tr>\n",
       "    <tr>\n",
       "      <th>1</th>\n",
       "      <td>train</td>\n",
       "      <td>0.591229</td>\n",
       "      <td>0.428662</td>\n",
       "      <td>0.300202</td>\n",
       "      <td>0.749289</td>\n",
       "      <td>0.339337</td>\n",
       "      <td>0.698480</td>\n",
       "      <td>NaN</td>\n",
       "    </tr>\n",
       "    <tr>\n",
       "      <th>2</th>\n",
       "      <td>val</td>\n",
       "      <td>0.591393</td>\n",
       "      <td>0.431874</td>\n",
       "      <td>0.303488</td>\n",
       "      <td>0.748530</td>\n",
       "      <td>0.342958</td>\n",
       "      <td>0.698365</td>\n",
       "      <td>NaN</td>\n",
       "    </tr>\n",
       "    <tr>\n",
       "      <th>0</th>\n",
       "      <td>test</td>\n",
       "      <td>0.591911</td>\n",
       "      <td>0.432538</td>\n",
       "      <td>0.302907</td>\n",
       "      <td>0.756125</td>\n",
       "      <td>0.340217</td>\n",
       "      <td>0.699359</td>\n",
       "      <td>0.0</td>\n",
       "    </tr>\n",
       "    <tr>\n",
       "      <th>1</th>\n",
       "      <td>test</td>\n",
       "      <td>0.619704</td>\n",
       "      <td>0.419558</td>\n",
       "      <td>0.290292</td>\n",
       "      <td>0.756366</td>\n",
       "      <td>0.341215</td>\n",
       "      <td>0.727186</td>\n",
       "      <td>1.0</td>\n",
       "    </tr>\n",
       "  </tbody>\n",
       "</table>\n",
       "</div>"
      ],
      "text/plain": [
       "    dset  accuracy_score  f1_score  precision_score  recall_score  \\\n",
       "0   test        0.603317  0.427501         0.297976      0.756217   \n",
       "1  train        0.591229  0.428662         0.300202      0.749289   \n",
       "2    val        0.591393  0.431874         0.303488      0.748530   \n",
       "0   test        0.591911  0.432538         0.302907      0.756125   \n",
       "1   test        0.619704  0.419558         0.290292      0.756366   \n",
       "\n",
       "   average_precision_score  roc_auc_score  dset_naics_holdout  \n",
       "0                 0.340404       0.711034                 NaN  \n",
       "1                 0.339337       0.698480                 NaN  \n",
       "2                 0.342958       0.698365                 NaN  \n",
       "0                 0.340217       0.699359                 0.0  \n",
       "1                 0.341215       0.727186                 1.0  "
      ]
     },
     "execution_count": 38,
     "metadata": {},
     "output_type": "execute_result"
    }
   ],
   "source": [
    "metrics_dset_df = all_predictions_df.groupby('dset') \\\n",
    "    .apply(lambda x: sg_plot.dset_metrics(x.target, x.predict_bin, x.predict_prob)) \\\n",
    "    .reset_index()\n",
    "metrics_test_df = all_predictions_df[all_predictions_df['dset'] == 'test'] \\\n",
    "    .groupby(['dset', 'dset_naics_holdout']) \\\n",
    "    .apply(lambda x: sg_plot.dset_metrics(x.target, x.predict_bin, x.predict_prob)) \\\n",
    "    .reset_index()\n",
    "metrics_df = pd.concat([metrics_dset_df, metrics_test_df])\n",
    "metrics_df.to_csv(Path(setup.temp_path).joinpath('21_REPORT_metrics.csv'), index=True)\n",
    "metrics_df"
   ]
  },
  {
   "cell_type": "markdown",
   "id": "2bf6b2f6-992d-4c4b-88cb-02eb418ae751",
   "metadata": {},
   "source": [
    "## Embeddings\n",
    "Save the hidden layer weight prior to sigmoid output, for possible later use in unsupervised GNN "
   ]
  },
  {
   "cell_type": "code",
   "execution_count": 39,
   "id": "f8bf0603-5235-4344-a73d-a5d632befd0d",
   "metadata": {},
   "outputs": [],
   "source": [
    "embed_model = Model(inputs=this_model.inputs, outputs=this_model.layers[-2].output) "
   ]
  },
  {
   "cell_type": "code",
   "execution_count": 40,
   "id": "0ee68a3c-a630-4fde-b765-f441d2bb3895",
   "metadata": {},
   "outputs": [
    {
     "name": "stdout",
     "output_type": "stream",
     "text": [
      "  161/21503 [..............................] - ETA: 20s"
     ]
    },
    {
     "name": "stderr",
     "output_type": "stream",
     "text": [
      "2024-03-29 09:48:25.779876: I tensorflow/core/grappler/optimizers/custom_graph_optimizer_registry.cc:114] Plugin optimizer for device_type GPU is enabled.\n"
     ]
    },
    {
     "name": "stdout",
     "output_type": "stream",
     "text": [
      "21503/21503 [==============================] - 20s 923us/step\n"
     ]
    }
   ],
   "source": [
    "embed_out = embed_model.predict(X.drop(columns='dset'))"
   ]
  },
  {
   "cell_type": "code",
   "execution_count": 41,
   "id": "f622987d-4206-494f-8482-08ac99fff2f9",
   "metadata": {},
   "outputs": [
    {
     "data": {
      "text/plain": [
       "(688081, 64)"
      ]
     },
     "execution_count": 41,
     "metadata": {},
     "output_type": "execute_result"
    }
   ],
   "source": [
    "embed_out.shape"
   ]
  },
  {
   "cell_type": "code",
   "execution_count": 42,
   "id": "2193800a-3e35-460c-8ee0-576d460f53bb",
   "metadata": {},
   "outputs": [],
   "source": [
    "embed_df = pd.DataFrame(embed_out, index=X.index) \n",
    "embed_df.columns = [f'emb_{i:03d}' for i in range(len(embed_df.columns))]\n",
    "embed_df.reset_index(inplace=True)"
   ]
  },
  {
   "cell_type": "code",
   "execution_count": 43,
   "id": "17f1e84b-2aec-4b6b-bd27-04a79008b2de",
   "metadata": {},
   "outputs": [
    {
     "data": {
      "text/html": [
       "<div>\n",
       "<style scoped>\n",
       "    .dataframe tbody tr th:only-of-type {\n",
       "        vertical-align: middle;\n",
       "    }\n",
       "\n",
       "    .dataframe tbody tr th {\n",
       "        vertical-align: top;\n",
       "    }\n",
       "\n",
       "    .dataframe thead th {\n",
       "        text-align: right;\n",
       "    }\n",
       "</style>\n",
       "<table border=\"1\" class=\"dataframe\">\n",
       "  <thead>\n",
       "    <tr style=\"text-align: right;\">\n",
       "      <th></th>\n",
       "      <th>LoanNr_ChkDgt</th>\n",
       "      <th>emb_000</th>\n",
       "      <th>emb_001</th>\n",
       "      <th>emb_002</th>\n",
       "      <th>emb_003</th>\n",
       "      <th>emb_004</th>\n",
       "      <th>emb_005</th>\n",
       "      <th>emb_006</th>\n",
       "      <th>emb_007</th>\n",
       "      <th>emb_008</th>\n",
       "      <th>...</th>\n",
       "      <th>emb_054</th>\n",
       "      <th>emb_055</th>\n",
       "      <th>emb_056</th>\n",
       "      <th>emb_057</th>\n",
       "      <th>emb_058</th>\n",
       "      <th>emb_059</th>\n",
       "      <th>emb_060</th>\n",
       "      <th>emb_061</th>\n",
       "      <th>emb_062</th>\n",
       "      <th>emb_063</th>\n",
       "    </tr>\n",
       "  </thead>\n",
       "  <tbody>\n",
       "    <tr>\n",
       "      <th>0</th>\n",
       "      <td>1000014003</td>\n",
       "      <td>0.952909</td>\n",
       "      <td>-0.999519</td>\n",
       "      <td>0.998237</td>\n",
       "      <td>-0.999588</td>\n",
       "      <td>-0.999004</td>\n",
       "      <td>0.828328</td>\n",
       "      <td>0.777259</td>\n",
       "      <td>-0.831848</td>\n",
       "      <td>-0.999618</td>\n",
       "      <td>...</td>\n",
       "      <td>0.999905</td>\n",
       "      <td>-0.999998</td>\n",
       "      <td>0.989482</td>\n",
       "      <td>-0.544452</td>\n",
       "      <td>-0.999999</td>\n",
       "      <td>-0.974307</td>\n",
       "      <td>-0.999991</td>\n",
       "      <td>-1.000000</td>\n",
       "      <td>0.995986</td>\n",
       "      <td>-0.999999</td>\n",
       "    </tr>\n",
       "    <tr>\n",
       "      <th>1</th>\n",
       "      <td>1000024006</td>\n",
       "      <td>0.973122</td>\n",
       "      <td>-0.989506</td>\n",
       "      <td>0.999934</td>\n",
       "      <td>-0.999596</td>\n",
       "      <td>-0.999897</td>\n",
       "      <td>-0.676184</td>\n",
       "      <td>0.968064</td>\n",
       "      <td>-0.926758</td>\n",
       "      <td>-0.997828</td>\n",
       "      <td>...</td>\n",
       "      <td>0.999999</td>\n",
       "      <td>-0.999975</td>\n",
       "      <td>0.963025</td>\n",
       "      <td>0.439916</td>\n",
       "      <td>-0.999989</td>\n",
       "      <td>-0.974976</td>\n",
       "      <td>-0.999987</td>\n",
       "      <td>-1.000000</td>\n",
       "      <td>0.999646</td>\n",
       "      <td>-0.999998</td>\n",
       "    </tr>\n",
       "    <tr>\n",
       "      <th>2</th>\n",
       "      <td>1000034009</td>\n",
       "      <td>0.998728</td>\n",
       "      <td>-0.999950</td>\n",
       "      <td>-0.966181</td>\n",
       "      <td>-0.085618</td>\n",
       "      <td>0.990105</td>\n",
       "      <td>0.105785</td>\n",
       "      <td>0.739314</td>\n",
       "      <td>0.986810</td>\n",
       "      <td>-1.000000</td>\n",
       "      <td>...</td>\n",
       "      <td>0.893906</td>\n",
       "      <td>-1.000000</td>\n",
       "      <td>0.999992</td>\n",
       "      <td>-0.995424</td>\n",
       "      <td>-0.999986</td>\n",
       "      <td>-0.940575</td>\n",
       "      <td>-1.000000</td>\n",
       "      <td>-1.000000</td>\n",
       "      <td>-0.999954</td>\n",
       "      <td>-1.000000</td>\n",
       "    </tr>\n",
       "    <tr>\n",
       "      <th>3</th>\n",
       "      <td>1000084002</td>\n",
       "      <td>0.997700</td>\n",
       "      <td>-0.999995</td>\n",
       "      <td>-0.995849</td>\n",
       "      <td>0.257922</td>\n",
       "      <td>0.998237</td>\n",
       "      <td>0.890733</td>\n",
       "      <td>0.371696</td>\n",
       "      <td>0.992805</td>\n",
       "      <td>-1.000000</td>\n",
       "      <td>...</td>\n",
       "      <td>-0.231656</td>\n",
       "      <td>-1.000000</td>\n",
       "      <td>0.999997</td>\n",
       "      <td>-0.998140</td>\n",
       "      <td>-0.999997</td>\n",
       "      <td>-0.945281</td>\n",
       "      <td>-1.000000</td>\n",
       "      <td>-1.000000</td>\n",
       "      <td>-0.999990</td>\n",
       "      <td>-1.000000</td>\n",
       "    </tr>\n",
       "    <tr>\n",
       "      <th>4</th>\n",
       "      <td>1000094005</td>\n",
       "      <td>0.994474</td>\n",
       "      <td>-0.962092</td>\n",
       "      <td>0.999992</td>\n",
       "      <td>-0.998879</td>\n",
       "      <td>-0.999873</td>\n",
       "      <td>-0.822873</td>\n",
       "      <td>0.991674</td>\n",
       "      <td>-0.788198</td>\n",
       "      <td>-0.997908</td>\n",
       "      <td>...</td>\n",
       "      <td>1.000000</td>\n",
       "      <td>-0.999976</td>\n",
       "      <td>0.987424</td>\n",
       "      <td>0.898494</td>\n",
       "      <td>-0.999985</td>\n",
       "      <td>-0.981905</td>\n",
       "      <td>-0.999993</td>\n",
       "      <td>-0.999999</td>\n",
       "      <td>0.999505</td>\n",
       "      <td>-0.999998</td>\n",
       "    </tr>\n",
       "  </tbody>\n",
       "</table>\n",
       "<p>5 rows × 65 columns</p>\n",
       "</div>"
      ],
      "text/plain": [
       "  LoanNr_ChkDgt   emb_000   emb_001   emb_002   emb_003   emb_004   emb_005  \\\n",
       "0    1000014003  0.952909 -0.999519  0.998237 -0.999588 -0.999004  0.828328   \n",
       "1    1000024006  0.973122 -0.989506  0.999934 -0.999596 -0.999897 -0.676184   \n",
       "2    1000034009  0.998728 -0.999950 -0.966181 -0.085618  0.990105  0.105785   \n",
       "3    1000084002  0.997700 -0.999995 -0.995849  0.257922  0.998237  0.890733   \n",
       "4    1000094005  0.994474 -0.962092  0.999992 -0.998879 -0.999873 -0.822873   \n",
       "\n",
       "    emb_006   emb_007   emb_008  ...   emb_054   emb_055   emb_056   emb_057  \\\n",
       "0  0.777259 -0.831848 -0.999618  ...  0.999905 -0.999998  0.989482 -0.544452   \n",
       "1  0.968064 -0.926758 -0.997828  ...  0.999999 -0.999975  0.963025  0.439916   \n",
       "2  0.739314  0.986810 -1.000000  ...  0.893906 -1.000000  0.999992 -0.995424   \n",
       "3  0.371696  0.992805 -1.000000  ... -0.231656 -1.000000  0.999997 -0.998140   \n",
       "4  0.991674 -0.788198 -0.997908  ...  1.000000 -0.999976  0.987424  0.898494   \n",
       "\n",
       "    emb_058   emb_059   emb_060   emb_061   emb_062   emb_063  \n",
       "0 -0.999999 -0.974307 -0.999991 -1.000000  0.995986 -0.999999  \n",
       "1 -0.999989 -0.974976 -0.999987 -1.000000  0.999646 -0.999998  \n",
       "2 -0.999986 -0.940575 -1.000000 -1.000000 -0.999954 -1.000000  \n",
       "3 -0.999997 -0.945281 -1.000000 -1.000000 -0.999990 -1.000000  \n",
       "4 -0.999985 -0.981905 -0.999993 -0.999999  0.999505 -0.999998  \n",
       "\n",
       "[5 rows x 65 columns]"
      ]
     },
     "execution_count": 43,
     "metadata": {},
     "output_type": "execute_result"
    }
   ],
   "source": [
    "embed_df.head()"
   ]
  },
  {
   "cell_type": "code",
   "execution_count": 44,
   "id": "6a8d3c99-24d1-404c-a867-b67f6dd6a4a9",
   "metadata": {},
   "outputs": [],
   "source": [
    "embed_df.to_parquet(Path(setup.temp_path).joinpath('21_DATA_embeddings.parquet'))"
   ]
  },
  {
   "cell_type": "code",
   "execution_count": null,
   "id": "61477278-45ce-4742-b352-05fdde43506f",
   "metadata": {},
   "outputs": [],
   "source": []
  }
 ],
 "metadata": {
  "kernelspec": {
   "display_name": "tf_p39",
   "language": "python",
   "name": "tf_p39"
  },
  "language_info": {
   "codemirror_mode": {
    "name": "ipython",
    "version": 3
   },
   "file_extension": ".py",
   "mimetype": "text/x-python",
   "name": "python",
   "nbconvert_exporter": "python",
   "pygments_lexer": "ipython3",
   "version": "3.8.18"
  }
 },
 "nbformat": 4,
 "nbformat_minor": 5
}
