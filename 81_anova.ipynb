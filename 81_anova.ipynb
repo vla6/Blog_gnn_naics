{
 "cells": [
  {
   "cell_type": "code",
   "execution_count": 1,
   "id": "6888d5e0-99f6-4f1e-ba66-96f68448ffa0",
   "metadata": {},
   "outputs": [],
   "source": [
    "# Modify the file 00_setup.py to define input/output file paths on your system\n",
    "# The information in 00_setup.py will be used across notebooks\n",
    "from importlib.machinery import SourceFileLoader\n",
    "setup = SourceFileLoader(\"setup\", \"./00_setup.py\").load_module()"
   ]
  },
  {
   "cell_type": "markdown",
   "id": "6007d3ed-efc1-4745-874b-d410ada1d35d",
   "metadata": {},
   "source": [
    "# ANOVA, Regression, etc.\n",
    "Various ANOVA and related analyses"
   ]
  },
  {
   "cell_type": "code",
   "execution_count": 2,
   "id": "d9d6cb68-1571-4609-99a0-ac60defb2b78",
   "metadata": {},
   "outputs": [],
   "source": [
    "import numpy as np\n",
    "import pandas as pd\n",
    "from pathlib import Path\n",
    "import importlib, os"
   ]
  },
  {
   "cell_type": "code",
   "execution_count": 3,
   "id": "c00e8aa8-6207-481f-a343-74245d6f1224",
   "metadata": {},
   "outputs": [],
   "source": [
    "import statsmodels.api as sm\n",
    "from statsmodels.formula.api import ols\n",
    "from scipy import stats"
   ]
  },
  {
   "cell_type": "code",
   "execution_count": 4,
   "id": "ab4237f6-4f51-4143-bdff-806400261115",
   "metadata": {},
   "outputs": [
    {
     "data": {
      "text/plain": [
       "'1.3.2'"
      ]
     },
     "execution_count": 4,
     "metadata": {},
     "output_type": "execute_result"
    }
   ],
   "source": [
    "import sklearn as sk\n",
    "sk.__version__"
   ]
  },
  {
   "cell_type": "markdown",
   "id": "fece7299-0723-487b-a52c-1c03598ac29f",
   "metadata": {},
   "source": [
    "## Import Data"
   ]
  },
  {
   "cell_type": "code",
   "execution_count": 5,
   "id": "2073255d-9621-4590-8086-6a648d38047a",
   "metadata": {},
   "outputs": [],
   "source": [
    "sba_loans = pd.read_parquet(Path(setup.temp_path).joinpath('01_DATA_transformed.parquet'))"
   ]
  },
  {
   "cell_type": "code",
   "execution_count": 6,
   "id": "ebadfa1e-56cc-42ec-91ed-4fd915500ee9",
   "metadata": {},
   "outputs": [],
   "source": [
    "train_df = sba_loans[sba_loans['dset'] == 'train']"
   ]
  },
  {
   "cell_type": "markdown",
   "id": "224053bd-f5d3-47e6-b426-3b1681aa2b04",
   "metadata": {},
   "source": [
    "##### NAICS sector (one hot encodings) info"
   ]
  },
  {
   "cell_type": "code",
   "execution_count": 7,
   "id": "9fb2552b-877c-40ca-aff6-3a136bce562d",
   "metadata": {},
   "outputs": [
    {
     "data": {
      "text/plain": [
       "10"
      ]
     },
     "execution_count": 7,
     "metadata": {},
     "output_type": "execute_result"
    }
   ],
   "source": [
    "one_hot_feat= [c for c in sba_loans.columns if c.startswith('NS__')]\n",
    "one_hot_feat_len = len(one_hot_feat)\n",
    "one_hot_feat_len"
   ]
  },
  {
   "cell_type": "code",
   "execution_count": 8,
   "id": "18a7855d-6fa6-4602-a21f-4f9d14428951",
   "metadata": {},
   "outputs": [
    {
     "data": {
      "text/plain": [
       "['NS___Accommodation and Food Services',\n",
       " 'NS___Administrative and Support and Waste Management and Remediation Services',\n",
       " 'NS___Construction',\n",
       " 'NS___Health Care and Social Assistance',\n",
       " 'NS___Manufacturing',\n",
       " 'NS___Other Services (except Public Administration)',\n",
       " 'NS___Professional, Scientific, and Technical Services',\n",
       " 'NS___Retail Trade',\n",
       " 'NS___Wholesale Trade',\n",
       " 'NS___infrequent_sklearn']"
      ]
     },
     "execution_count": 8,
     "metadata": {},
     "output_type": "execute_result"
    }
   ],
   "source": [
    "one_hot_feat"
   ]
  },
  {
   "cell_type": "markdown",
   "id": "2e68ae0a-157a-412c-965b-4a5f9bbaa076",
   "metadata": {},
   "source": [
    "##### NAICS info"
   ]
  },
  {
   "cell_type": "code",
   "execution_count": 65,
   "id": "cc09f2f8-18bc-4db8-b71b-999c0c221111",
   "metadata": {},
   "outputs": [],
   "source": [
    "naics_info = pd.read_parquet(Path(setup.temp_path).joinpath('60_DATA_naics_summary_stats.parquet')) "
   ]
  },
  {
   "cell_type": "code",
   "execution_count": 66,
   "id": "c6702253-b873-4852-ba78-16e52f0ff12b",
   "metadata": {},
   "outputs": [],
   "source": [
    "naics_map = pd.read_parquet(Path(setup.temp_path).joinpath('60_DATA_naics_map.parquet'))"
   ]
  },
  {
   "cell_type": "code",
   "execution_count": 67,
   "id": "0c2e9e99-cdf3-4218-b8d5-9d908d30f415",
   "metadata": {},
   "outputs": [
    {
     "data": {
      "text/html": [
       "<div>\n",
       "<style scoped>\n",
       "    .dataframe tbody tr th:only-of-type {\n",
       "        vertical-align: middle;\n",
       "    }\n",
       "\n",
       "    .dataframe tbody tr th {\n",
       "        vertical-align: top;\n",
       "    }\n",
       "\n",
       "    .dataframe thead th {\n",
       "        text-align: right;\n",
       "    }\n",
       "</style>\n",
       "<table border=\"1\" class=\"dataframe\">\n",
       "  <thead>\n",
       "    <tr style=\"text-align: right;\">\n",
       "      <th></th>\n",
       "      <th>NAICS</th>\n",
       "      <th>train_count</th>\n",
       "      <th>train_target_mean</th>\n",
       "      <th>NAICS_sector</th>\n",
       "      <th>menc_NAICS</th>\n",
       "      <th>cenc_NAICS</th>\n",
       "      <th>dset_naics_holdout</th>\n",
       "      <th>all_count</th>\n",
       "      <th>all_target_mean</th>\n",
       "      <th>NAICS_sector_sel</th>\n",
       "    </tr>\n",
       "  </thead>\n",
       "  <tbody>\n",
       "    <tr>\n",
       "      <th>854</th>\n",
       "      <td>454210</td>\n",
       "      <td>1476.0</td>\n",
       "      <td>0.193089</td>\n",
       "      <td>44-45</td>\n",
       "      <td>0.190003</td>\n",
       "      <td>0.003384</td>\n",
       "      <td>0</td>\n",
       "      <td>2079</td>\n",
       "      <td>0.191919</td>\n",
       "      <td>1</td>\n",
       "    </tr>\n",
       "    <tr>\n",
       "      <th>364</th>\n",
       "      <td>326211</td>\n",
       "      <td>15.0</td>\n",
       "      <td>0.066667</td>\n",
       "      <td>31-33</td>\n",
       "      <td>0.070096</td>\n",
       "      <td>0.000034</td>\n",
       "      <td>0</td>\n",
       "      <td>24</td>\n",
       "      <td>0.166667</td>\n",
       "      <td>1</td>\n",
       "    </tr>\n",
       "  </tbody>\n",
       "</table>\n",
       "</div>"
      ],
      "text/plain": [
       "      NAICS  train_count  train_target_mean NAICS_sector  menc_NAICS  \\\n",
       "854  454210       1476.0           0.193089        44-45    0.190003   \n",
       "364  326211         15.0           0.066667        31-33    0.070096   \n",
       "\n",
       "     cenc_NAICS  dset_naics_holdout  all_count  all_target_mean  \\\n",
       "854    0.003384                   0       2079         0.191919   \n",
       "364    0.000034                   0         24         0.166667   \n",
       "\n",
       "     NAICS_sector_sel  \n",
       "854                 1  \n",
       "364                 1  "
      ]
     },
     "execution_count": 67,
     "metadata": {},
     "output_type": "execute_result"
    }
   ],
   "source": [
    "naics_info.sample(2)"
   ]
  },
  {
   "cell_type": "markdown",
   "id": "871c0f9d-6cd5-4276-bb8a-e635d2722404",
   "metadata": {},
   "source": [
    "##### Neural Network Embeddings\n",
    "With cluster and NAICS info appended"
   ]
  },
  {
   "cell_type": "code",
   "execution_count": 68,
   "id": "7568641c-9f49-44fc-88d5-f183bbc5cd94",
   "metadata": {},
   "outputs": [],
   "source": [
    "emb_nn_clus = pd.read_parquet(Path(setup.temp_path).joinpath('60_DATA_embeddings_tsne_naics.parquet'))\n",
    "emb_nn_feat = [c for c in emb_nn_clus.columns if c.startswith('emb_')]"
   ]
  },
  {
   "cell_type": "code",
   "execution_count": 13,
   "id": "9243fdcf-75f0-45a6-a29c-00d8780a3ce9",
   "metadata": {
    "tags": []
   },
   "outputs": [],
   "source": [
    "# Other size clusters, to get correct size\n",
    "nn_cluster_labels_all = pd.read_parquet(Path(setup.temp_path).joinpath('60_DATA_loop_cluster_labels.parquet'))"
   ]
  },
  {
   "cell_type": "markdown",
   "id": "317a159f-7e0d-4bd7-b0d6-df2d415ae607",
   "metadata": {},
   "source": [
    "##### DGI embeddings"
   ]
  },
  {
   "cell_type": "code",
   "execution_count": 15,
   "id": "6b7a88c1-86d4-4dcd-9f83-31976f44b5e6",
   "metadata": {},
   "outputs": [],
   "source": [
    "emb_dgi_clus = pd.read_parquet(Path(setup.temp_path).joinpath('63_DATA_embeddings_tsne_naics.parquet'))\n",
    "emb_dgi_feat = [c for c in emb_dgi_clus.columns if c.startswith('emb_')]"
   ]
  },
  {
   "cell_type": "markdown",
   "id": "a983b43b-fcb4-4909-8c8f-3fe94a465f90",
   "metadata": {},
   "source": [
    "## Functions"
   ]
  },
  {
   "cell_type": "markdown",
   "id": "e252e783-8bf8-4c49-93c9-426f10a5a989",
   "metadata": {},
   "source": [
    "##### ANOVA with variation explained"
   ]
  },
  {
   "cell_type": "code",
   "execution_count": 16,
   "id": "16c3e066-171b-4383-896b-6e2fefb1eace",
   "metadata": {},
   "outputs": [],
   "source": [
    "def anova_var(data, eqn):\n",
    "    \"\"\"Perform one way ANOVA, return variance explained\"\"\"\n",
    "    lm = ols(eqn, data=data).fit()\n",
    "    res = sm.stats.anova_lm(lm, typ=1)\n",
    "    res = pd.concat([res, \n",
    "                     (res['sum_sq'].transform(lambda x: x/x.sum())).rename('var_f')],\n",
    "                    axis=1)\n",
    "    return res"
   ]
  },
  {
   "cell_type": "markdown",
   "id": "b18449d5-440a-4922-8489-205f2f5ffabe",
   "metadata": {},
   "source": [
    "## NAICS sector - Baseline\n",
    "ANOVA results in the training data, looking at variation explained by NAICS groupings"
   ]
  },
  {
   "cell_type": "markdown",
   "id": "96f4027b-5eb2-4af9-a731-a41b57782983",
   "metadata": {},
   "source": [
    "##### Stats oneway summary"
   ]
  },
  {
   "cell_type": "code",
   "execution_count": 17,
   "id": "06290ad5-822a-49f4-b8b4-05146690ab3f",
   "metadata": {},
   "outputs": [],
   "source": [
    "sector_groups = train_df.groupby('NAICS_sector')\n",
    "sectors_list = [g['target'].to_numpy() for n, g in sector_groups]"
   ]
  },
  {
   "cell_type": "code",
   "execution_count": 18,
   "id": "a7056111-67ac-4771-9739-d12385181f38",
   "metadata": {},
   "outputs": [],
   "source": [
    "f_sector, p_sector = stats.f_oneway(*sectors_list)"
   ]
  },
  {
   "cell_type": "code",
   "execution_count": 19,
   "id": "c13268af-5016-4425-9c86-21ba21ec37ef",
   "metadata": {},
   "outputs": [
    {
     "name": "stdout",
     "output_type": "stream",
     "text": [
      "sector oneway f: 291.0440232558134, p: 0.0\n"
     ]
    }
   ],
   "source": [
    "print(f'sector oneway f: {f_sector}, p: {p_sector}')"
   ]
  },
  {
   "cell_type": "code",
   "execution_count": 20,
   "id": "86918296-c8de-4bf6-bcb5-9be57e08ad27",
   "metadata": {},
   "outputs": [],
   "source": [
    "naics_groups = train_df.groupby('NAICS')\n",
    "naics_list = [g['target'].to_numpy() for n, g in naics_groups]"
   ]
  },
  {
   "cell_type": "code",
   "execution_count": 21,
   "id": "bd0e0952-e147-4920-8b62-7857ea87cbd3",
   "metadata": {},
   "outputs": [],
   "source": [
    "f_naics, p_naics = stats.f_oneway(*naics_list)"
   ]
  },
  {
   "cell_type": "code",
   "execution_count": 22,
   "id": "770dae7f-eaa3-493c-b965-3f94748e992c",
   "metadata": {},
   "outputs": [
    {
     "name": "stdout",
     "output_type": "stream",
     "text": [
      "naics oneway f: 23.185499693712188, p: 0.0\n"
     ]
    }
   ],
   "source": [
    "print(f'naics oneway f: {f_naics}, p: {p_naics}')"
   ]
  },
  {
   "cell_type": "markdown",
   "id": "c2b9ba85-979b-484a-a137-01d2c637e002",
   "metadata": {},
   "source": [
    "##### Residuals analysis - sector"
   ]
  },
  {
   "cell_type": "code",
   "execution_count": 23,
   "id": "0f7fc52e-0f1a-49fd-af32-574484346438",
   "metadata": {},
   "outputs": [],
   "source": [
    "res = anova_var(train_df, 'target ~ C(NAICS_sector)')"
   ]
  },
  {
   "cell_type": "code",
   "execution_count": 24,
   "id": "2a07fccb-135b-44cf-83c0-c9bbf01ff38e",
   "metadata": {},
   "outputs": [
    {
     "data": {
      "text/html": [
       "<div>\n",
       "<style scoped>\n",
       "    .dataframe tbody tr th:only-of-type {\n",
       "        vertical-align: middle;\n",
       "    }\n",
       "\n",
       "    .dataframe tbody tr th {\n",
       "        vertical-align: top;\n",
       "    }\n",
       "\n",
       "    .dataframe thead th {\n",
       "        text-align: right;\n",
       "    }\n",
       "</style>\n",
       "<table border=\"1\" class=\"dataframe\">\n",
       "  <thead>\n",
       "    <tr style=\"text-align: right;\">\n",
       "      <th></th>\n",
       "      <th>df</th>\n",
       "      <th>sum_sq</th>\n",
       "      <th>mean_sq</th>\n",
       "      <th>F</th>\n",
       "      <th>PR(&gt;F)</th>\n",
       "      <th>var_f</th>\n",
       "    </tr>\n",
       "  </thead>\n",
       "  <tbody>\n",
       "    <tr>\n",
       "      <th>C(NAICS_sector)</th>\n",
       "      <td>19.0</td>\n",
       "      <td>888.868052</td>\n",
       "      <td>46.782529</td>\n",
       "      <td>291.044023</td>\n",
       "      <td>0.0</td>\n",
       "      <td>0.012521</td>\n",
       "    </tr>\n",
       "    <tr>\n",
       "      <th>Residual</th>\n",
       "      <td>436100.0</td>\n",
       "      <td>70098.882943</td>\n",
       "      <td>0.160740</td>\n",
       "      <td>NaN</td>\n",
       "      <td>NaN</td>\n",
       "      <td>0.987479</td>\n",
       "    </tr>\n",
       "  </tbody>\n",
       "</table>\n",
       "</div>"
      ],
      "text/plain": [
       "                       df        sum_sq    mean_sq           F  PR(>F)  \\\n",
       "C(NAICS_sector)      19.0    888.868052  46.782529  291.044023     0.0   \n",
       "Residual         436100.0  70098.882943   0.160740         NaN     NaN   \n",
       "\n",
       "                    var_f  \n",
       "C(NAICS_sector)  0.012521  \n",
       "Residual         0.987479  "
      ]
     },
     "execution_count": 24,
     "metadata": {},
     "output_type": "execute_result"
    }
   ],
   "source": [
    "res"
   ]
  },
  {
   "cell_type": "markdown",
   "id": "9d5e797a-2c28-4802-b5fa-b0e62af8c908",
   "metadata": {},
   "source": [
    "##### NAICS level \n",
    "How much of the mean target by NAICS is accounted for by sector?"
   ]
  },
  {
   "cell_type": "code",
   "execution_count": 25,
   "id": "3e7df8ea-1d37-47cf-8a9a-1f30e900796b",
   "metadata": {},
   "outputs": [],
   "source": [
    "naics_info_train = naics_info[naics_info['train_count'] > 0]"
   ]
  },
  {
   "cell_type": "code",
   "execution_count": 26,
   "id": "f574bf43-22a5-49b7-ac27-ab3a6663c532",
   "metadata": {},
   "outputs": [
    {
     "data": {
      "text/html": [
       "<div>\n",
       "<style scoped>\n",
       "    .dataframe tbody tr th:only-of-type {\n",
       "        vertical-align: middle;\n",
       "    }\n",
       "\n",
       "    .dataframe tbody tr th {\n",
       "        vertical-align: top;\n",
       "    }\n",
       "\n",
       "    .dataframe thead th {\n",
       "        text-align: right;\n",
       "    }\n",
       "</style>\n",
       "<table border=\"1\" class=\"dataframe\">\n",
       "  <thead>\n",
       "    <tr style=\"text-align: right;\">\n",
       "      <th></th>\n",
       "      <th>df</th>\n",
       "      <th>sum_sq</th>\n",
       "      <th>mean_sq</th>\n",
       "      <th>F</th>\n",
       "      <th>PR(&gt;F)</th>\n",
       "      <th>var_f</th>\n",
       "    </tr>\n",
       "  </thead>\n",
       "  <tbody>\n",
       "    <tr>\n",
       "      <th>C(NAICS_sector)</th>\n",
       "      <td>19.0</td>\n",
       "      <td>2.092606</td>\n",
       "      <td>0.110137</td>\n",
       "      <td>6.02947</td>\n",
       "      <td>8.001535e-15</td>\n",
       "      <td>0.09088</td>\n",
       "    </tr>\n",
       "    <tr>\n",
       "      <th>Residual</th>\n",
       "      <td>1146.0</td>\n",
       "      <td>20.933376</td>\n",
       "      <td>0.018266</td>\n",
       "      <td>NaN</td>\n",
       "      <td>NaN</td>\n",
       "      <td>0.90912</td>\n",
       "    </tr>\n",
       "  </tbody>\n",
       "</table>\n",
       "</div>"
      ],
      "text/plain": [
       "                     df     sum_sq   mean_sq        F        PR(>F)    var_f\n",
       "C(NAICS_sector)    19.0   2.092606  0.110137  6.02947  8.001535e-15  0.09088\n",
       "Residual         1146.0  20.933376  0.018266      NaN           NaN  0.90912"
      ]
     },
     "execution_count": 26,
     "metadata": {},
     "output_type": "execute_result"
    }
   ],
   "source": [
    "anova_var(naics_info_train, 'train_target_mean ~ C(NAICS_sector)')"
   ]
  },
  {
   "cell_type": "markdown",
   "id": "f3798de7-4cd6-48f2-b39f-c3a0caeb9f63",
   "metadata": {},
   "source": [
    "## NN Embeddings"
   ]
  },
  {
   "cell_type": "markdown",
   "id": "53c89687-9d29-4cc8-b109-38084e1987aa",
   "metadata": {},
   "source": [
    "##### NAICS sector ANOVA"
   ]
  },
  {
   "cell_type": "code",
   "execution_count": 27,
   "id": "5470ab7f-3efc-46b2-9476-551673459820",
   "metadata": {
    "tags": []
   },
   "outputs": [],
   "source": [
    "# OLS strings for each\n",
    "emb_str = [ ef+ ' ~ C(NAICS_sector)' for ef in emb_nn_feat]"
   ]
  },
  {
   "cell_type": "code",
   "execution_count": 28,
   "id": "ddcec760-868d-44ae-a6b1-5b3389da1036",
   "metadata": {},
   "outputs": [],
   "source": [
    "# All ANOVAs\n",
    "anova_nn_sector = pd.concat([anova_var(emb_nn_clus, s) for s in emb_str],\n",
    "                     keys=emb_nn_feat) \\\n",
    "    .reset_index()"
   ]
  },
  {
   "cell_type": "code",
   "execution_count": 29,
   "id": "4ecf8f1c-fe68-4622-b723-2eb1c8ea9494",
   "metadata": {},
   "outputs": [
    {
     "data": {
      "text/html": [
       "<div>\n",
       "<style scoped>\n",
       "    .dataframe tbody tr th:only-of-type {\n",
       "        vertical-align: middle;\n",
       "    }\n",
       "\n",
       "    .dataframe tbody tr th {\n",
       "        vertical-align: top;\n",
       "    }\n",
       "\n",
       "    .dataframe thead th {\n",
       "        text-align: right;\n",
       "    }\n",
       "</style>\n",
       "<table border=\"1\" class=\"dataframe\">\n",
       "  <thead>\n",
       "    <tr style=\"text-align: right;\">\n",
       "      <th></th>\n",
       "      <th>level_0</th>\n",
       "      <th>level_1</th>\n",
       "      <th>df</th>\n",
       "      <th>sum_sq</th>\n",
       "      <th>mean_sq</th>\n",
       "      <th>F</th>\n",
       "      <th>PR(&gt;F)</th>\n",
       "      <th>var_f</th>\n",
       "    </tr>\n",
       "  </thead>\n",
       "  <tbody>\n",
       "    <tr>\n",
       "      <th>0</th>\n",
       "      <td>emb_000</td>\n",
       "      <td>C(NAICS_sector)</td>\n",
       "      <td>19.0</td>\n",
       "      <td>14.040298</td>\n",
       "      <td>0.738963</td>\n",
       "      <td>3.184352</td>\n",
       "      <td>4.616274e-06</td>\n",
       "      <td>0.044767</td>\n",
       "    </tr>\n",
       "    <tr>\n",
       "      <th>2</th>\n",
       "      <td>emb_001</td>\n",
       "      <td>C(NAICS_sector)</td>\n",
       "      <td>19.0</td>\n",
       "      <td>7.741306</td>\n",
       "      <td>0.407437</td>\n",
       "      <td>2.872037</td>\n",
       "      <td>3.545675e-05</td>\n",
       "      <td>0.040554</td>\n",
       "    </tr>\n",
       "    <tr>\n",
       "      <th>4</th>\n",
       "      <td>emb_002</td>\n",
       "      <td>C(NAICS_sector)</td>\n",
       "      <td>19.0</td>\n",
       "      <td>45.970270</td>\n",
       "      <td>2.419488</td>\n",
       "      <td>5.112865</td>\n",
       "      <td>5.747010e-12</td>\n",
       "      <td>0.069982</td>\n",
       "    </tr>\n",
       "    <tr>\n",
       "      <th>6</th>\n",
       "      <td>emb_003</td>\n",
       "      <td>C(NAICS_sector)</td>\n",
       "      <td>19.0</td>\n",
       "      <td>9.495228</td>\n",
       "      <td>0.499749</td>\n",
       "      <td>4.965319</td>\n",
       "      <td>1.690872e-11</td>\n",
       "      <td>0.068100</td>\n",
       "    </tr>\n",
       "    <tr>\n",
       "      <th>8</th>\n",
       "      <td>emb_004</td>\n",
       "      <td>C(NAICS_sector)</td>\n",
       "      <td>19.0</td>\n",
       "      <td>30.988705</td>\n",
       "      <td>1.630984</td>\n",
       "      <td>7.199201</td>\n",
       "      <td>1.001966e-18</td>\n",
       "      <td>0.095802</td>\n",
       "    </tr>\n",
       "    <tr>\n",
       "      <th>10</th>\n",
       "      <td>emb_005</td>\n",
       "      <td>C(NAICS_sector)</td>\n",
       "      <td>19.0</td>\n",
       "      <td>32.828228</td>\n",
       "      <td>1.727801</td>\n",
       "      <td>6.769088</td>\n",
       "      <td>2.556086e-17</td>\n",
       "      <td>0.090597</td>\n",
       "    </tr>\n",
       "    <tr>\n",
       "      <th>12</th>\n",
       "      <td>emb_006</td>\n",
       "      <td>C(NAICS_sector)</td>\n",
       "      <td>19.0</td>\n",
       "      <td>9.608951</td>\n",
       "      <td>0.505734</td>\n",
       "      <td>3.587510</td>\n",
       "      <td>3.035887e-07</td>\n",
       "      <td>0.050151</td>\n",
       "    </tr>\n",
       "    <tr>\n",
       "      <th>14</th>\n",
       "      <td>emb_007</td>\n",
       "      <td>C(NAICS_sector)</td>\n",
       "      <td>19.0</td>\n",
       "      <td>13.583537</td>\n",
       "      <td>0.714923</td>\n",
       "      <td>4.030520</td>\n",
       "      <td>1.394159e-08</td>\n",
       "      <td>0.055997</td>\n",
       "    </tr>\n",
       "  </tbody>\n",
       "</table>\n",
       "</div>"
      ],
      "text/plain": [
       "    level_0          level_1    df     sum_sq   mean_sq         F  \\\n",
       "0   emb_000  C(NAICS_sector)  19.0  14.040298  0.738963  3.184352   \n",
       "2   emb_001  C(NAICS_sector)  19.0   7.741306  0.407437  2.872037   \n",
       "4   emb_002  C(NAICS_sector)  19.0  45.970270  2.419488  5.112865   \n",
       "6   emb_003  C(NAICS_sector)  19.0   9.495228  0.499749  4.965319   \n",
       "8   emb_004  C(NAICS_sector)  19.0  30.988705  1.630984  7.199201   \n",
       "10  emb_005  C(NAICS_sector)  19.0  32.828228  1.727801  6.769088   \n",
       "12  emb_006  C(NAICS_sector)  19.0   9.608951  0.505734  3.587510   \n",
       "14  emb_007  C(NAICS_sector)  19.0  13.583537  0.714923  4.030520   \n",
       "\n",
       "          PR(>F)     var_f  \n",
       "0   4.616274e-06  0.044767  \n",
       "2   3.545675e-05  0.040554  \n",
       "4   5.747010e-12  0.069982  \n",
       "6   1.690872e-11  0.068100  \n",
       "8   1.001966e-18  0.095802  \n",
       "10  2.556086e-17  0.090597  \n",
       "12  3.035887e-07  0.050151  \n",
       "14  1.394159e-08  0.055997  "
      ]
     },
     "execution_count": 29,
     "metadata": {},
     "output_type": "execute_result"
    }
   ],
   "source": [
    "anova_nn_sector[anova_nn_sector['level_1'] == 'C(NAICS_sector)']"
   ]
  },
  {
   "cell_type": "markdown",
   "id": "a6249c43-dc93-4577-9c31-eee0dd400c3e",
   "metadata": {},
   "source": [
    "##### NAICS level ANOVA (mean target)"
   ]
  },
  {
   "cell_type": "code",
   "execution_count": 30,
   "id": "707cb1ef-cc53-44f8-9a96-e7b685b2ce67",
   "metadata": {},
   "outputs": [],
   "source": [
    "naics_info_train_nn_cluster = naics_info[naics_info['train_count'] > 0] \\\n",
    "    .merge(emb_nn_clus.drop(columns='NAICS').rename(columns={'NAICS_orig':'NAICS'})[['NAICS', 'cluster']],\n",
    "           how='left', on='NAICS')"
   ]
  },
  {
   "cell_type": "code",
   "execution_count": 31,
   "id": "86dc6c4e-6249-4bd5-a28a-63f5fee7e8fa",
   "metadata": {},
   "outputs": [
    {
     "data": {
      "text/html": [
       "<div>\n",
       "<style scoped>\n",
       "    .dataframe tbody tr th:only-of-type {\n",
       "        vertical-align: middle;\n",
       "    }\n",
       "\n",
       "    .dataframe tbody tr th {\n",
       "        vertical-align: top;\n",
       "    }\n",
       "\n",
       "    .dataframe thead th {\n",
       "        text-align: right;\n",
       "    }\n",
       "</style>\n",
       "<table border=\"1\" class=\"dataframe\">\n",
       "  <thead>\n",
       "    <tr style=\"text-align: right;\">\n",
       "      <th></th>\n",
       "      <th>df</th>\n",
       "      <th>sum_sq</th>\n",
       "      <th>mean_sq</th>\n",
       "      <th>F</th>\n",
       "      <th>PR(&gt;F)</th>\n",
       "      <th>var_f</th>\n",
       "    </tr>\n",
       "  </thead>\n",
       "  <tbody>\n",
       "    <tr>\n",
       "      <th>C(cluster)</th>\n",
       "      <td>8.0</td>\n",
       "      <td>13.593791</td>\n",
       "      <td>1.699224</td>\n",
       "      <td>208.435363</td>\n",
       "      <td>3.965957e-218</td>\n",
       "      <td>0.590367</td>\n",
       "    </tr>\n",
       "    <tr>\n",
       "      <th>Residual</th>\n",
       "      <td>1157.0</td>\n",
       "      <td>9.432191</td>\n",
       "      <td>0.008152</td>\n",
       "      <td>NaN</td>\n",
       "      <td>NaN</td>\n",
       "      <td>0.409633</td>\n",
       "    </tr>\n",
       "  </tbody>\n",
       "</table>\n",
       "</div>"
      ],
      "text/plain": [
       "                df     sum_sq   mean_sq           F         PR(>F)     var_f\n",
       "C(cluster)     8.0  13.593791  1.699224  208.435363  3.965957e-218  0.590367\n",
       "Residual    1157.0   9.432191  0.008152         NaN            NaN  0.409633"
      ]
     },
     "execution_count": 31,
     "metadata": {},
     "output_type": "execute_result"
    }
   ],
   "source": [
    "anova_var(naics_info_train_nn_cluster, 'train_target_mean ~ C(cluster)')"
   ]
  },
  {
   "cell_type": "markdown",
   "id": "259a5518-8b09-4d20-b9a1-a8fe242378d0",
   "metadata": {},
   "source": [
    "##### Loan level ANOVA (raw target)"
   ]
  },
  {
   "cell_type": "code",
   "execution_count": 32,
   "id": "4f2fda43-d7a7-40b3-8ef6-fb2f3598457e",
   "metadata": {},
   "outputs": [],
   "source": [
    "train_nn_cluster = train_df \\\n",
    "    .merge(emb_nn_clus.drop(columns='NAICS').rename(columns={'NAICS_orig':'NAICS'})[['NAICS', 'cluster']],\n",
    "           how='left', on='NAICS')"
   ]
  },
  {
   "cell_type": "code",
   "execution_count": 33,
   "id": "0d7bf880-92ca-40ab-a425-907fa159a397",
   "metadata": {},
   "outputs": [
    {
     "data": {
      "text/html": [
       "<div>\n",
       "<style scoped>\n",
       "    .dataframe tbody tr th:only-of-type {\n",
       "        vertical-align: middle;\n",
       "    }\n",
       "\n",
       "    .dataframe tbody tr th {\n",
       "        vertical-align: top;\n",
       "    }\n",
       "\n",
       "    .dataframe thead th {\n",
       "        text-align: right;\n",
       "    }\n",
       "</style>\n",
       "<table border=\"1\" class=\"dataframe\">\n",
       "  <thead>\n",
       "    <tr style=\"text-align: right;\">\n",
       "      <th></th>\n",
       "      <th>df</th>\n",
       "      <th>sum_sq</th>\n",
       "      <th>mean_sq</th>\n",
       "      <th>F</th>\n",
       "      <th>PR(&gt;F)</th>\n",
       "      <th>var_f</th>\n",
       "    </tr>\n",
       "  </thead>\n",
       "  <tbody>\n",
       "    <tr>\n",
       "      <th>C(cluster)</th>\n",
       "      <td>8.0</td>\n",
       "      <td>3135.234004</td>\n",
       "      <td>391.904250</td>\n",
       "      <td>2518.90073</td>\n",
       "      <td>0.0</td>\n",
       "      <td>0.044166</td>\n",
       "    </tr>\n",
       "    <tr>\n",
       "      <th>Residual</th>\n",
       "      <td>436111.0</td>\n",
       "      <td>67852.516991</td>\n",
       "      <td>0.155585</td>\n",
       "      <td>NaN</td>\n",
       "      <td>NaN</td>\n",
       "      <td>0.955834</td>\n",
       "    </tr>\n",
       "  </tbody>\n",
       "</table>\n",
       "</div>"
      ],
      "text/plain": [
       "                  df        sum_sq     mean_sq           F  PR(>F)     var_f\n",
       "C(cluster)       8.0   3135.234004  391.904250  2518.90073     0.0  0.044166\n",
       "Residual    436111.0  67852.516991    0.155585         NaN     NaN  0.955834"
      ]
     },
     "execution_count": 33,
     "metadata": {},
     "output_type": "execute_result"
    }
   ],
   "source": [
    "anova_var(train_nn_cluster, 'target ~ C(cluster)')"
   ]
  },
  {
   "cell_type": "markdown",
   "id": "f6f143c1-61e4-4c25-aac5-b9965c278961",
   "metadata": {
    "tags": []
   },
   "source": [
    "## DGI Embeddings"
   ]
  },
  {
   "cell_type": "markdown",
   "id": "b4874c8d-b313-4cf2-858e-e1a33101a961",
   "metadata": {},
   "source": [
    "##### NAICS sector ANOVA"
   ]
  },
  {
   "cell_type": "code",
   "execution_count": 34,
   "id": "fc006058-0b32-4590-a1d8-1c61eabae3ca",
   "metadata": {
    "tags": []
   },
   "outputs": [],
   "source": [
    "# OLS strings for each\n",
    "emb_dgi_str = [ ef+ ' ~ C(NAICS_sector)' for ef in emb_dgi_feat]"
   ]
  },
  {
   "cell_type": "code",
   "execution_count": 35,
   "id": "3038985e-c9c9-4645-85e7-d46b07858875",
   "metadata": {},
   "outputs": [],
   "source": [
    "# All ANOVAs\n",
    "anova_dgi_sector = pd.concat([anova_var(emb_dgi_clus, s) for s in emb_dgi_str],\n",
    "                     keys=emb_nn_feat) \\\n",
    "    .reset_index()"
   ]
  },
  {
   "cell_type": "code",
   "execution_count": 36,
   "id": "6a1ce706-d0a7-4d07-b950-ebd3ca929852",
   "metadata": {},
   "outputs": [
    {
     "data": {
      "text/html": [
       "<div>\n",
       "<style scoped>\n",
       "    .dataframe tbody tr th:only-of-type {\n",
       "        vertical-align: middle;\n",
       "    }\n",
       "\n",
       "    .dataframe tbody tr th {\n",
       "        vertical-align: top;\n",
       "    }\n",
       "\n",
       "    .dataframe thead th {\n",
       "        text-align: right;\n",
       "    }\n",
       "</style>\n",
       "<table border=\"1\" class=\"dataframe\">\n",
       "  <thead>\n",
       "    <tr style=\"text-align: right;\">\n",
       "      <th></th>\n",
       "      <th>level_0</th>\n",
       "      <th>level_1</th>\n",
       "      <th>df</th>\n",
       "      <th>sum_sq</th>\n",
       "      <th>mean_sq</th>\n",
       "      <th>F</th>\n",
       "      <th>PR(&gt;F)</th>\n",
       "      <th>var_f</th>\n",
       "    </tr>\n",
       "  </thead>\n",
       "  <tbody>\n",
       "    <tr>\n",
       "      <th>0</th>\n",
       "      <td>emb_000</td>\n",
       "      <td>C(NAICS_sector)</td>\n",
       "      <td>19.0</td>\n",
       "      <td>0.108158</td>\n",
       "      <td>5.692513e-03</td>\n",
       "      <td>11.683082</td>\n",
       "      <td>2.016715e-33</td>\n",
       "      <td>0.146716</td>\n",
       "    </tr>\n",
       "    <tr>\n",
       "      <th>2</th>\n",
       "      <td>emb_001</td>\n",
       "      <td>C(NAICS_sector)</td>\n",
       "      <td>19.0</td>\n",
       "      <td>0.147171</td>\n",
       "      <td>7.745857e-03</td>\n",
       "      <td>11.683083</td>\n",
       "      <td>2.016699e-33</td>\n",
       "      <td>0.146716</td>\n",
       "    </tr>\n",
       "    <tr>\n",
       "      <th>4</th>\n",
       "      <td>emb_002</td>\n",
       "      <td>C(NAICS_sector)</td>\n",
       "      <td>19.0</td>\n",
       "      <td>0.000003</td>\n",
       "      <td>1.341157e-07</td>\n",
       "      <td>11.683084</td>\n",
       "      <td>2.016687e-33</td>\n",
       "      <td>0.146716</td>\n",
       "    </tr>\n",
       "    <tr>\n",
       "      <th>6</th>\n",
       "      <td>emb_003</td>\n",
       "      <td>C(NAICS_sector)</td>\n",
       "      <td>19.0</td>\n",
       "      <td>0.228641</td>\n",
       "      <td>1.203372e-02</td>\n",
       "      <td>11.683083</td>\n",
       "      <td>2.016693e-33</td>\n",
       "      <td>0.146716</td>\n",
       "    </tr>\n",
       "    <tr>\n",
       "      <th>8</th>\n",
       "      <td>emb_004</td>\n",
       "      <td>C(NAICS_sector)</td>\n",
       "      <td>19.0</td>\n",
       "      <td>6.516217</td>\n",
       "      <td>3.429588e-01</td>\n",
       "      <td>3.803089</td>\n",
       "      <td>6.849291e-08</td>\n",
       "      <td>0.053004</td>\n",
       "    </tr>\n",
       "    <tr>\n",
       "      <th>10</th>\n",
       "      <td>emb_005</td>\n",
       "      <td>C(NAICS_sector)</td>\n",
       "      <td>19.0</td>\n",
       "      <td>27.964960</td>\n",
       "      <td>1.471840e+00</td>\n",
       "      <td>10.417260</td>\n",
       "      <td>2.734344e-29</td>\n",
       "      <td>0.132933</td>\n",
       "    </tr>\n",
       "    <tr>\n",
       "      <th>12</th>\n",
       "      <td>emb_006</td>\n",
       "      <td>C(NAICS_sector)</td>\n",
       "      <td>19.0</td>\n",
       "      <td>0.546158</td>\n",
       "      <td>2.874516e-02</td>\n",
       "      <td>11.173232</td>\n",
       "      <td>9.245548e-32</td>\n",
       "      <td>0.141218</td>\n",
       "    </tr>\n",
       "    <tr>\n",
       "      <th>14</th>\n",
       "      <td>emb_007</td>\n",
       "      <td>C(NAICS_sector)</td>\n",
       "      <td>19.0</td>\n",
       "      <td>47.372045</td>\n",
       "      <td>2.493266e+00</td>\n",
       "      <td>30.928318</td>\n",
       "      <td>2.478311e-91</td>\n",
       "      <td>0.312800</td>\n",
       "    </tr>\n",
       "  </tbody>\n",
       "</table>\n",
       "</div>"
      ],
      "text/plain": [
       "    level_0          level_1    df     sum_sq       mean_sq          F  \\\n",
       "0   emb_000  C(NAICS_sector)  19.0   0.108158  5.692513e-03  11.683082   \n",
       "2   emb_001  C(NAICS_sector)  19.0   0.147171  7.745857e-03  11.683083   \n",
       "4   emb_002  C(NAICS_sector)  19.0   0.000003  1.341157e-07  11.683084   \n",
       "6   emb_003  C(NAICS_sector)  19.0   0.228641  1.203372e-02  11.683083   \n",
       "8   emb_004  C(NAICS_sector)  19.0   6.516217  3.429588e-01   3.803089   \n",
       "10  emb_005  C(NAICS_sector)  19.0  27.964960  1.471840e+00  10.417260   \n",
       "12  emb_006  C(NAICS_sector)  19.0   0.546158  2.874516e-02  11.173232   \n",
       "14  emb_007  C(NAICS_sector)  19.0  47.372045  2.493266e+00  30.928318   \n",
       "\n",
       "          PR(>F)     var_f  \n",
       "0   2.016715e-33  0.146716  \n",
       "2   2.016699e-33  0.146716  \n",
       "4   2.016687e-33  0.146716  \n",
       "6   2.016693e-33  0.146716  \n",
       "8   6.849291e-08  0.053004  \n",
       "10  2.734344e-29  0.132933  \n",
       "12  9.245548e-32  0.141218  \n",
       "14  2.478311e-91  0.312800  "
      ]
     },
     "execution_count": 36,
     "metadata": {},
     "output_type": "execute_result"
    }
   ],
   "source": [
    "anova_dgi_sector[anova_nn_sector['level_1'] == 'C(NAICS_sector)']"
   ]
  },
  {
   "cell_type": "markdown",
   "id": "975bb2c6-2cc9-46e9-8414-96a335782543",
   "metadata": {},
   "source": [
    "##### NAICS level ANOVA (mean target)"
   ]
  },
  {
   "cell_type": "code",
   "execution_count": 37,
   "id": "81e3e126-a887-417b-ae34-0b16931e7b19",
   "metadata": {},
   "outputs": [],
   "source": [
    "naics_info_train_dgi_cluster = naics_info[naics_info['train_count'] > 0] \\\n",
    "    .merge(emb_dgi_clus.rename(columns={'NAICS_orig':'NAICS'})[['NAICS', 'cluster']],\n",
    "           how='left', on='NAICS')"
   ]
  },
  {
   "cell_type": "code",
   "execution_count": 38,
   "id": "ec6897c0-f276-484c-8f4b-ec596be3fd9b",
   "metadata": {},
   "outputs": [
    {
     "data": {
      "text/html": [
       "<div>\n",
       "<style scoped>\n",
       "    .dataframe tbody tr th:only-of-type {\n",
       "        vertical-align: middle;\n",
       "    }\n",
       "\n",
       "    .dataframe tbody tr th {\n",
       "        vertical-align: top;\n",
       "    }\n",
       "\n",
       "    .dataframe thead th {\n",
       "        text-align: right;\n",
       "    }\n",
       "</style>\n",
       "<table border=\"1\" class=\"dataframe\">\n",
       "  <thead>\n",
       "    <tr style=\"text-align: right;\">\n",
       "      <th></th>\n",
       "      <th>df</th>\n",
       "      <th>sum_sq</th>\n",
       "      <th>mean_sq</th>\n",
       "      <th>F</th>\n",
       "      <th>PR(&gt;F)</th>\n",
       "      <th>var_f</th>\n",
       "    </tr>\n",
       "  </thead>\n",
       "  <tbody>\n",
       "    <tr>\n",
       "      <th>C(cluster)</th>\n",
       "      <td>9.0</td>\n",
       "      <td>5.017097</td>\n",
       "      <td>0.557455</td>\n",
       "      <td>35.783352</td>\n",
       "      <td>4.069852e-56</td>\n",
       "      <td>0.217889</td>\n",
       "    </tr>\n",
       "    <tr>\n",
       "      <th>Residual</th>\n",
       "      <td>1156.0</td>\n",
       "      <td>18.008885</td>\n",
       "      <td>0.015579</td>\n",
       "      <td>NaN</td>\n",
       "      <td>NaN</td>\n",
       "      <td>0.782111</td>\n",
       "    </tr>\n",
       "  </tbody>\n",
       "</table>\n",
       "</div>"
      ],
      "text/plain": [
       "                df     sum_sq   mean_sq          F        PR(>F)     var_f\n",
       "C(cluster)     9.0   5.017097  0.557455  35.783352  4.069852e-56  0.217889\n",
       "Residual    1156.0  18.008885  0.015579        NaN           NaN  0.782111"
      ]
     },
     "execution_count": 38,
     "metadata": {},
     "output_type": "execute_result"
    }
   ],
   "source": [
    "anova_var(naics_info_train_dgi_cluster, 'train_target_mean ~ C(cluster)')"
   ]
  },
  {
   "cell_type": "markdown",
   "id": "63744aed-efc9-400a-aae6-1c5ffa7bef5f",
   "metadata": {},
   "source": [
    "##### Loan level ANOVA (raw target)"
   ]
  },
  {
   "cell_type": "code",
   "execution_count": 39,
   "id": "e39a974d-6bb1-4842-8ef3-f4aba3c7dbe6",
   "metadata": {},
   "outputs": [],
   "source": [
    "train_dgi_cluster = train_df \\\n",
    "    .merge(emb_dgi_clus.rename(columns={'NAICS_orig':'NAICS'})[['NAICS', 'cluster']],\n",
    "           how='left', on='NAICS')"
   ]
  },
  {
   "cell_type": "code",
   "execution_count": 40,
   "id": "81860b4a-ca03-4c75-9b14-bf7c96eb991b",
   "metadata": {},
   "outputs": [
    {
     "data": {
      "text/html": [
       "<div>\n",
       "<style scoped>\n",
       "    .dataframe tbody tr th:only-of-type {\n",
       "        vertical-align: middle;\n",
       "    }\n",
       "\n",
       "    .dataframe tbody tr th {\n",
       "        vertical-align: top;\n",
       "    }\n",
       "\n",
       "    .dataframe thead th {\n",
       "        text-align: right;\n",
       "    }\n",
       "</style>\n",
       "<table border=\"1\" class=\"dataframe\">\n",
       "  <thead>\n",
       "    <tr style=\"text-align: right;\">\n",
       "      <th></th>\n",
       "      <th>df</th>\n",
       "      <th>sum_sq</th>\n",
       "      <th>mean_sq</th>\n",
       "      <th>F</th>\n",
       "      <th>PR(&gt;F)</th>\n",
       "      <th>var_f</th>\n",
       "    </tr>\n",
       "  </thead>\n",
       "  <tbody>\n",
       "    <tr>\n",
       "      <th>C(cluster)</th>\n",
       "      <td>9.0</td>\n",
       "      <td>1778.427880</td>\n",
       "      <td>197.603098</td>\n",
       "      <td>1245.16009</td>\n",
       "      <td>0.0</td>\n",
       "      <td>0.025053</td>\n",
       "    </tr>\n",
       "    <tr>\n",
       "      <th>Residual</th>\n",
       "      <td>436110.0</td>\n",
       "      <td>69209.323115</td>\n",
       "      <td>0.158697</td>\n",
       "      <td>NaN</td>\n",
       "      <td>NaN</td>\n",
       "      <td>0.974947</td>\n",
       "    </tr>\n",
       "  </tbody>\n",
       "</table>\n",
       "</div>"
      ],
      "text/plain": [
       "                  df        sum_sq     mean_sq           F  PR(>F)     var_f\n",
       "C(cluster)       9.0   1778.427880  197.603098  1245.16009     0.0  0.025053\n",
       "Residual    436110.0  69209.323115    0.158697         NaN     NaN  0.974947"
      ]
     },
     "execution_count": 40,
     "metadata": {},
     "output_type": "execute_result"
    }
   ],
   "source": [
    "anova_var(train_dgi_cluster, 'target ~ C(cluster)')"
   ]
  },
  {
   "cell_type": "markdown",
   "id": "55a40257-a5e2-476d-8ea4-5ba5deecae09",
   "metadata": {},
   "source": [
    "## Logistic Regression\n",
    "Very simple models to analyze information in high-level groupings (Sector and from embeddings)"
   ]
  },
  {
   "cell_type": "markdown",
   "id": "6b86c8ba-32e8-4e8a-b0ee-238dbf15edbf",
   "metadata": {},
   "source": [
    "Use same-size one hot features for each group, train data only."
   ]
  },
  {
   "cell_type": "markdown",
   "id": "f2924ed9-aed9-4f1a-b23d-27fcc724bcca",
   "metadata": {},
   "source": [
    "##### Get fixed-level NN clusters \n",
    "The NN clusters are only for training; get one_hot_feat_len of these (unlike earlier scripts where I used "
   ]
  },
  {
   "cell_type": "code",
   "execution_count": 106,
   "id": "ad72c42f-bb04-4523-95f2-333ed3c52a8b",
   "metadata": {},
   "outputs": [
    {
     "data": {
      "text/plain": [
       "(1166, 2)"
      ]
     },
     "execution_count": 106,
     "metadata": {},
     "output_type": "execute_result"
    }
   ],
   "source": [
    "sel_labels_nn = emb_nn_clus[['NAICS_orig']] \\\n",
    "    .merge(nn_cluster_labels_all[nn_cluster_labels_all['n_clusters'] == one_hot_feat_len] \\\n",
    "               .drop(columns='n_clusters'),\n",
    "           left_index=True, right_index = True)\n",
    "sel_labels_nn.shape"
   ]
  },
  {
   "cell_type": "code",
   "execution_count": 109,
   "id": "14aed2fa-cd8f-43bf-b0a4-67ef7ba2b51e",
   "metadata": {},
   "outputs": [],
   "source": [
    "# DGI clusters - limit to training match\n",
    "emb_dgi_train = emb_dgi_clus \\\n",
    "    .rename(columns={'cluster':'cluster_dgi','NAICS_orig':'NAICS'}) \\\n",
    "    .merge(train_df[['NAICS']].drop_duplicates(), on='NAICS') "
   ]
  },
  {
   "cell_type": "code",
   "execution_count": 112,
   "id": "99a02026-8740-470d-a0b9-caaca37aea14",
   "metadata": {},
   "outputs": [],
   "source": [
    "all_naics_clus = emb_dgi_train \\\n",
    "    .merge(sel_labels_nn.rename(columns={'NAICS_orig':'NAICS', 'label':'cluster_nn'}), on='NAICS')\n",
    "all_naics_clus[['cluster_dgi', 'cluster_nn']] = all_naics_clus[['cluster_dgi', 'cluster_nn']] \\\n",
    "    .apply(lambda x: x.astype('category'))"
   ]
  },
  {
   "cell_type": "code",
   "execution_count": 146,
   "id": "6baeff47-1b38-49b6-bf70-caf03ffd353f",
   "metadata": {},
   "outputs": [],
   "source": [
    "lm_df = train_df[['LoanNr_ChkDgt', 'NAICS','dset', 'NAICS_sector', 'target']] \\\n",
    "     .merge(all_naics_clus[['NAICS', 'cluster_dgi', 'cluster_nn']],\n",
    "                          how='left', on='NAICS') \\\n",
    "    .merge(naics_info[['NAICS', 'NAICS_sector_sel']], how='left', on='NAICS')"
   ]
  },
  {
   "cell_type": "code",
   "execution_count": 147,
   "id": "e94b8151-a26a-4d46-a084-f49fde21bbba",
   "metadata": {},
   "outputs": [],
   "source": [
    "lm_df['NAICS_sector_sel'] = np.where(lm_df['NAICS_sector_sel'] == 1,lm_df['NAICS_sector'],\n",
    "                                     'other')\n",
    "#lm_df['NAICS_sector_sel'] = lm_df['NAICS_sector_sel'].astype('category')"
   ]
  },
  {
   "cell_type": "markdown",
   "id": "fae30f2e-9f4f-482a-8d24-2b0e9fb68b7a",
   "metadata": {},
   "source": [
    "##### Function to do the logistic regression"
   ]
  },
  {
   "cell_type": "code",
   "execution_count": 199,
   "id": "89cc6c40-6c8c-4585-8ffb-304fddec45df",
   "metadata": {},
   "outputs": [],
   "source": [
    "def log_reg(data, feature = ['NAICS_sector_sel']):\n",
    "    X = pd.get_dummies(data[feature], dtype='float', drop_first=True)\n",
    "    Y = data['target']\n",
    "    Xi = sm.add_constant(X)\n",
    "    sm_logreg = sm.Logit(Y, Xi)\n",
    "\n",
    "    res = sm_logreg.fit_regularized(method='l1')\n",
    "\n",
    "    return res\n",
    "                            "
   ]
  },
  {
   "cell_type": "markdown",
   "id": "54fba91a-d4ac-4e61-8a7c-c073a3a93ef1",
   "metadata": {},
   "source": [
    "##### Single group models"
   ]
  },
  {
   "cell_type": "code",
   "execution_count": 220,
   "id": "36440592-7cb0-4396-9122-a48c9f5f3c7d",
   "metadata": {},
   "outputs": [
    {
     "name": "stdout",
     "output_type": "stream",
     "text": [
      "Optimization terminated successfully    (Exit mode 0)\n",
      "            Current function value: 0.5014901419293476\n",
      "            Iterations: 74\n",
      "            Function evaluations: 75\n",
      "            Gradient evaluations: 74\n",
      "                           Logit Regression Results                           \n",
      "==============================================================================\n",
      "Dep. Variable:                 target   No. Observations:               436120\n",
      "Model:                          Logit   Df Residuals:                   436110\n",
      "Method:                           MLE   Df Model:                            9\n",
      "Date:                Thu, 21 Mar 2024   Pseudo R-squ.:                 0.01045\n",
      "Time:                        21:12:52   Log-Likelihood:            -2.1871e+05\n",
      "converged:                       True   LL-Null:                   -2.2102e+05\n",
      "Covariance Type:            nonrobust   LLR p-value:                     0.000\n",
      "==========================================================================================\n",
      "                             coef    std err          z      P>|z|      [0.025      0.975]\n",
      "------------------------------------------------------------------------------------------\n",
      "const                     -1.1188      0.011    -98.834      0.000      -1.141      -1.097\n",
      "NAICS_sector_sel_31-33    -0.5706      0.018    -31.791      0.000      -0.606      -0.535\n",
      "NAICS_sector_sel_42       -0.3301      0.019    -17.795      0.000      -0.366      -0.294\n",
      "NAICS_sector_sel_44-45    -0.1270      0.014     -9.034      0.000      -0.155      -0.099\n",
      "NAICS_sector_sel_54       -0.2590      0.017    -14.800      0.000      -0.293      -0.225\n",
      "NAICS_sector_sel_56       -0.0682      0.019     -3.510      0.000      -0.106      -0.030\n",
      "NAICS_sector_sel_62       -1.0683      0.021    -51.582      0.000      -1.109      -1.028\n",
      "NAICS_sector_sel_72       -0.1559      0.016     -9.741      0.000      -0.187      -0.125\n",
      "NAICS_sector_sel_81       -0.2582      0.016    -15.890      0.000      -0.290      -0.226\n",
      "NAICS_sector_sel_other    -0.0510      0.015     -3.393      0.001      -0.081      -0.022\n",
      "==========================================================================================\n"
     ]
    }
   ],
   "source": [
    "res_naics_sector = log_reg(lm_df)\n",
    "print(res_naics_sector.summary())"
   ]
  },
  {
   "cell_type": "code",
   "execution_count": 221,
   "id": "fa6d9453-9735-4c32-9647-8c9d28e5b660",
   "metadata": {},
   "outputs": [
    {
     "name": "stdout",
     "output_type": "stream",
     "text": [
      "Optimization terminated successfully    (Exit mode 0)\n",
      "            Current function value: 0.4932504837515452\n",
      "            Iterations: 70\n",
      "            Function evaluations: 71\n",
      "            Gradient evaluations: 70\n",
      "                           Logit Regression Results                           \n",
      "==============================================================================\n",
      "Dep. Variable:                 target   No. Observations:               436120\n",
      "Model:                          Logit   Df Residuals:                   436110\n",
      "Method:                           MLE   Df Model:                            9\n",
      "Date:                Thu, 21 Mar 2024   Pseudo R-squ.:                 0.02671\n",
      "Time:                        21:13:10   Log-Likelihood:            -2.1512e+05\n",
      "converged:                       True   LL-Null:                   -2.2102e+05\n",
      "Covariance Type:            nonrobust   LLR p-value:                     0.000\n",
      "=================================================================================\n",
      "                    coef    std err          z      P>|z|      [0.025      0.975]\n",
      "---------------------------------------------------------------------------------\n",
      "const            -1.3072      0.016    -79.532      0.000      -1.339      -1.275\n",
      "cluster_dgi_1    -1.0503      0.022    -47.185      0.000      -1.094      -1.007\n",
      "cluster_dgi_2     0.0702      0.018      3.821      0.000       0.034       0.106\n",
      "cluster_dgi_3    -0.2071      0.021     -9.802      0.000      -0.249      -0.166\n",
      "cluster_dgi_4    -0.0962      0.021     -4.484      0.000      -0.138      -0.054\n",
      "cluster_dgi_5    -0.6993      0.033    -20.933      0.000      -0.765      -0.634\n",
      "cluster_dgi_6     0.2945      0.020     14.417      0.000       0.254       0.335\n",
      "cluster_dgi_7     0.1637      0.018      8.924      0.000       0.128       0.200\n",
      "cluster_dgi_8     0.4987      0.020     25.305      0.000       0.460       0.537\n",
      "cluster_dgi_9    -0.5820      0.023    -25.148      0.000      -0.627      -0.537\n",
      "=================================================================================\n"
     ]
    }
   ],
   "source": [
    "res_cluster_dgi = log_reg(lm_df, ['cluster_dgi'])\n",
    "print(res_cluster_dgi.summary())"
   ]
  },
  {
   "cell_type": "code",
   "execution_count": 222,
   "id": "c5f0769e-59ac-4089-b57d-1a3c0a1fcdaa",
   "metadata": {},
   "outputs": [
    {
     "name": "stdout",
     "output_type": "stream",
     "text": [
      "Optimization terminated successfully    (Exit mode 0)\n",
      "            Current function value: 0.48243721795117755\n",
      "            Iterations: 80\n",
      "            Function evaluations: 80\n",
      "            Gradient evaluations: 80\n",
      "                           Logit Regression Results                           \n",
      "==============================================================================\n",
      "Dep. Variable:                 target   No. Observations:               436120\n",
      "Model:                          Logit   Df Residuals:                   436110\n",
      "Method:                           MLE   Df Model:                            9\n",
      "Date:                Thu, 21 Mar 2024   Pseudo R-squ.:                 0.04805\n",
      "Time:                        21:13:29   Log-Likelihood:            -2.1040e+05\n",
      "converged:                       True   LL-Null:                   -2.2102e+05\n",
      "Covariance Type:            nonrobust   LLR p-value:                     0.000\n",
      "================================================================================\n",
      "                   coef    std err          z      P>|z|      [0.025      0.975]\n",
      "--------------------------------------------------------------------------------\n",
      "const           -0.4481      0.012    -38.769      0.000      -0.471      -0.425\n",
      "cluster_nn_1    -1.3839      0.019    -74.679      0.000      -1.420      -1.348\n",
      "cluster_nn_2    -1.0622      0.015    -71.131      0.000      -1.091      -1.033\n",
      "cluster_nn_3    -2.1031      0.029    -73.176      0.000      -2.159      -2.047\n",
      "cluster_nn_4    -1.8867      0.025    -74.262      0.000      -1.936      -1.837\n",
      "cluster_nn_5    -2.4287      0.052    -46.652      0.000      -2.531      -2.327\n",
      "cluster_nn_6    -1.4833      0.022    -65.992      0.000      -1.527      -1.439\n",
      "cluster_nn_7    -2.7704      0.046    -59.815      0.000      -2.861      -2.680\n",
      "cluster_nn_8    -0.4946      0.014    -34.830      0.000      -0.522      -0.467\n",
      "cluster_nn_9    -0.7188      0.013    -53.906      0.000      -0.745      -0.693\n",
      "================================================================================\n"
     ]
    }
   ],
   "source": [
    "res_cluster_nn = log_reg(lm_df, ['cluster_nn'])\n",
    "print(res_cluster_nn.summary())"
   ]
  },
  {
   "cell_type": "markdown",
   "id": "578d2198-82f2-466d-a824-fa7d37e4cee9",
   "metadata": {},
   "source": [
    "##### Two-way models"
   ]
  },
  {
   "cell_type": "code",
   "execution_count": 224,
   "id": "6d5fd973-36f3-4e63-aeae-af65a6ae8d61",
   "metadata": {},
   "outputs": [
    {
     "name": "stdout",
     "output_type": "stream",
     "text": [
      "Optimization terminated successfully    (Exit mode 0)\n",
      "            Current function value: 0.48163575790109725\n",
      "            Iterations: 129\n",
      "            Function evaluations: 129\n",
      "            Gradient evaluations: 129\n",
      "                           Logit Regression Results                           \n",
      "==============================================================================\n",
      "Dep. Variable:                 target   No. Observations:               436120\n",
      "Model:                          Logit   Df Residuals:                   436101\n",
      "Method:                           MLE   Df Model:                           18\n",
      "Date:                Thu, 21 Mar 2024   Pseudo R-squ.:                 0.04963\n",
      "Time:                        21:14:41   Log-Likelihood:            -2.1005e+05\n",
      "converged:                       True   LL-Null:                   -2.2102e+05\n",
      "Covariance Type:            nonrobust   LLR p-value:                     0.000\n",
      "==========================================================================================\n",
      "                             coef    std err          z      P>|z|      [0.025      0.975]\n",
      "------------------------------------------------------------------------------------------\n",
      "const                     -0.3906      0.015    -26.491      0.000      -0.419      -0.362\n",
      "NAICS_sector_sel_31-33    -0.1778      0.019     -9.316      0.000      -0.215      -0.140\n",
      "NAICS_sector_sel_42       -0.0307      0.020     -1.546      0.122      -0.070       0.008\n",
      "NAICS_sector_sel_44-45    -0.1564      0.015    -10.469      0.000      -0.186      -0.127\n",
      "NAICS_sector_sel_54        0.0802      0.019      4.315      0.000       0.044       0.117\n",
      "NAICS_sector_sel_56       -0.0417      0.020     -2.050      0.040      -0.082      -0.002\n",
      "NAICS_sector_sel_62       -0.2492      0.023    -10.912      0.000      -0.294      -0.204\n",
      "NAICS_sector_sel_72       -0.2293      0.017    -13.362      0.000      -0.263      -0.196\n",
      "NAICS_sector_sel_81       -0.1474      0.017     -8.534      0.000      -0.181      -0.114\n",
      "NAICS_sector_sel_other     0.0328      0.016      2.102      0.036       0.002       0.063\n",
      "cluster_nn_1              -1.3550      0.019    -69.541      0.000      -1.393      -1.317\n",
      "cluster_nn_2              -1.0061      0.016    -63.543      0.000      -1.037      -0.975\n",
      "cluster_nn_3              -2.0407      0.030    -68.328      0.000      -2.099      -1.982\n",
      "cluster_nn_4              -1.8894      0.026    -72.417      0.000      -1.941      -1.838\n",
      "cluster_nn_5              -2.3888      0.052    -45.606      0.000      -2.491      -2.286\n",
      "cluster_nn_6              -1.4994      0.023    -64.665      0.000      -1.545      -1.454\n",
      "cluster_nn_7              -2.6307      0.048    -54.267      0.000      -2.726      -2.536\n",
      "cluster_nn_8              -0.4374      0.015    -29.102      0.000      -0.467      -0.408\n",
      "cluster_nn_9              -0.6836      0.014    -49.222      0.000      -0.711      -0.656\n",
      "==========================================================================================\n"
     ]
    }
   ],
   "source": [
    "res_2_sector_nn = log_reg(lm_df, ['NAICS_sector_sel', 'cluster_nn'])\n",
    "print(res_2_sector_nn.summary())"
   ]
  },
  {
   "cell_type": "code",
   "execution_count": 225,
   "id": "d5bc70a4-6a12-48c7-a4d4-e16dfca07574",
   "metadata": {},
   "outputs": [
    {
     "name": "stdout",
     "output_type": "stream",
     "text": [
      "Optimization terminated successfully    (Exit mode 0)\n",
      "            Current function value: 0.49066527975408875\n",
      "            Iterations: 121\n",
      "            Function evaluations: 121\n",
      "            Gradient evaluations: 121\n",
      "                           Logit Regression Results                           \n",
      "==============================================================================\n",
      "Dep. Variable:                 target   No. Observations:               436120\n",
      "Model:                          Logit   Df Residuals:                   436101\n",
      "Method:                           MLE   Df Model:                           18\n",
      "Date:                Thu, 21 Mar 2024   Pseudo R-squ.:                 0.03181\n",
      "Time:                        21:15:18   Log-Likelihood:            -2.1399e+05\n",
      "converged:                       True   LL-Null:                   -2.2102e+05\n",
      "Covariance Type:            nonrobust   LLR p-value:                     0.000\n",
      "==========================================================================================\n",
      "                             coef    std err          z      P>|z|      [0.025      0.975]\n",
      "------------------------------------------------------------------------------------------\n",
      "const                     -1.0221      0.021    -48.522      0.000      -1.063      -0.981\n",
      "NAICS_sector_sel_31-33    -0.2811      0.019    -14.814      0.000      -0.318      -0.244\n",
      "NAICS_sector_sel_42       -0.1903      0.019     -9.809      0.000      -0.228      -0.152\n",
      "NAICS_sector_sel_44-45    -0.2398      0.016    -15.390      0.000      -0.270      -0.209\n",
      "NAICS_sector_sel_54       -0.3867      0.019    -20.262      0.000      -0.424      -0.349\n",
      "NAICS_sector_sel_56       -0.1905      0.021     -9.234      0.000      -0.231      -0.150\n",
      "NAICS_sector_sel_62       -0.8787      0.022    -40.517      0.000      -0.921      -0.836\n",
      "NAICS_sector_sel_72       -0.2030      0.018    -11.561      0.000      -0.237      -0.169\n",
      "NAICS_sector_sel_81       -0.4437      0.018    -24.161      0.000      -0.480      -0.408\n",
      "NAICS_sector_sel_other    -0.1446      0.016     -8.852      0.000      -0.177      -0.113\n",
      "cluster_dgi_1             -1.0571      0.023    -46.680      0.000      -1.102      -1.013\n",
      "cluster_dgi_2              0.1185      0.019      6.197      0.000       0.081       0.156\n",
      "cluster_dgi_3             -0.1817      0.022     -8.227      0.000      -0.225      -0.138\n",
      "cluster_dgi_4             -0.1467      0.023     -6.274      0.000      -0.193      -0.101\n",
      "cluster_dgi_5             -0.8194      0.034    -23.998      0.000      -0.886      -0.752\n",
      "cluster_dgi_6              0.2764      0.021     13.104      0.000       0.235       0.318\n",
      "cluster_dgi_7              0.0850      0.019      4.410      0.000       0.047       0.123\n",
      "cluster_dgi_8              0.4129      0.020     20.284      0.000       0.373       0.453\n",
      "cluster_dgi_9             -0.4839      0.024    -20.501      0.000      -0.530      -0.438\n",
      "==========================================================================================\n"
     ]
    }
   ],
   "source": [
    "res_2_sector_dgi = log_reg(lm_df, ['NAICS_sector_sel', 'cluster_dgi'])\n",
    "print(res_2_sector_dgi.summary())"
   ]
  },
  {
   "cell_type": "code",
   "execution_count": 226,
   "id": "1fe551df-4a50-48cd-a1cb-de1137e4b9a7",
   "metadata": {},
   "outputs": [
    {
     "name": "stdout",
     "output_type": "stream",
     "text": [
      "Optimization terminated successfully    (Exit mode 0)\n",
      "            Current function value: 0.48013132187153407\n",
      "            Iterations: 133\n",
      "            Function evaluations: 133\n",
      "            Gradient evaluations: 133\n",
      "                           Logit Regression Results                           \n",
      "==============================================================================\n",
      "Dep. Variable:                 target   No. Observations:               436120\n",
      "Model:                          Logit   Df Residuals:                   436101\n",
      "Method:                           MLE   Df Model:                           18\n",
      "Date:                Thu, 21 Mar 2024   Pseudo R-squ.:                 0.05260\n",
      "Time:                        21:15:57   Log-Likelihood:            -2.0939e+05\n",
      "converged:                       True   LL-Null:                   -2.2102e+05\n",
      "Covariance Type:            nonrobust   LLR p-value:                     0.000\n",
      "=================================================================================\n",
      "                    coef    std err          z      P>|z|      [0.025      0.975]\n",
      "---------------------------------------------------------------------------------\n",
      "const            -0.4453      0.021    -21.041      0.000      -0.487      -0.404\n",
      "cluster_nn_1     -1.1658      0.020    -57.620      0.000      -1.205      -1.126\n",
      "cluster_nn_2     -0.8995      0.015    -58.053      0.000      -0.930      -0.869\n",
      "cluster_nn_3     -1.8457      0.030    -61.520      0.000      -1.905      -1.787\n",
      "cluster_nn_4     -1.6746      0.026    -63.387      0.000      -1.726      -1.623\n",
      "cluster_nn_5     -2.0789      0.053    -39.128      0.000      -2.183      -1.975\n",
      "cluster_nn_6     -1.2382      0.024    -52.405      0.000      -1.284      -1.192\n",
      "cluster_nn_7     -2.2510      0.049    -46.270      0.000      -2.346      -2.156\n",
      "cluster_nn_8     -0.4192      0.015    -28.391      0.000      -0.448      -0.390\n",
      "cluster_nn_9     -0.6173      0.014    -44.242      0.000      -0.645      -0.590\n",
      "cluster_dgi_1    -0.5793      0.023    -24.691      0.000      -0.625      -0.533\n",
      "cluster_dgi_2    -0.1253      0.019     -6.580      0.000      -0.163      -0.088\n",
      "cluster_dgi_3    -0.3508      0.022    -16.165      0.000      -0.393      -0.308\n",
      "cluster_dgi_4    -0.0876      0.022     -3.943      0.000      -0.131      -0.044\n",
      "cluster_dgi_5    -0.4134      0.035    -11.919      0.000      -0.481      -0.345\n",
      "cluster_dgi_6     0.0686      0.021      3.260      0.001       0.027       0.110\n",
      "cluster_dgi_7    -0.0476      0.019     -2.526      0.012      -0.085      -0.011\n",
      "cluster_dgi_8     0.1212      0.021      5.869      0.000       0.081       0.162\n",
      "cluster_dgi_9    -0.3184      0.024    -13.072      0.000      -0.366      -0.271\n",
      "=================================================================================\n"
     ]
    }
   ],
   "source": [
    "res_2_nn_dgi = log_reg(lm_df, ['cluster_nn', 'cluster_dgi'])\n",
    "print(res_2_nn_dgi.summary())"
   ]
  },
  {
   "cell_type": "markdown",
   "id": "18d810b5-1ab1-4e7a-af0c-464bb3879b4c",
   "metadata": {},
   "source": [
    "##### 3 Way"
   ]
  },
  {
   "cell_type": "code",
   "execution_count": 227,
   "id": "6fa9eb31-1ef7-4f04-bbdc-f2b67ed51fd5",
   "metadata": {},
   "outputs": [
    {
     "name": "stdout",
     "output_type": "stream",
     "text": [
      "Optimization terminated successfully    (Exit mode 0)\n",
      "            Current function value: 0.47933850403583256\n",
      "            Iterations: 164\n",
      "            Function evaluations: 165\n",
      "            Gradient evaluations: 164\n",
      "                           Logit Regression Results                           \n",
      "==============================================================================\n",
      "Dep. Variable:                 target   No. Observations:               436120\n",
      "Model:                          Logit   Df Residuals:                   436092\n",
      "Method:                           MLE   Df Model:                           27\n",
      "Date:                Thu, 21 Mar 2024   Pseudo R-squ.:                 0.05416\n",
      "Time:                        21:16:43   Log-Likelihood:            -2.0905e+05\n",
      "converged:                       True   LL-Null:                   -2.2102e+05\n",
      "Covariance Type:            nonrobust   LLR p-value:                     0.000\n",
      "==========================================================================================\n",
      "                             coef    std err          z      P>|z|      [0.025      0.975]\n",
      "------------------------------------------------------------------------------------------\n",
      "const                     -0.4043      0.024    -16.788      0.000      -0.451      -0.357\n",
      "cluster_nn_1              -1.1811      0.021    -56.056      0.000      -1.222      -1.140\n",
      "cluster_nn_2              -0.8826      0.017    -52.856      0.000      -0.915      -0.850\n",
      "cluster_nn_3              -1.7773      0.032    -55.622      0.000      -1.840      -1.715\n",
      "cluster_nn_4              -1.7070      0.027    -63.049      0.000      -1.760      -1.654\n",
      "cluster_nn_5              -2.0937      0.053    -39.205      0.000      -2.198      -1.989\n",
      "cluster_nn_6              -1.2896      0.025    -52.579      0.000      -1.338      -1.242\n",
      "cluster_nn_7              -2.1321      0.051    -41.793      0.000      -2.232      -2.032\n",
      "cluster_nn_8              -0.3753      0.016    -24.122      0.000      -0.406      -0.345\n",
      "cluster_nn_9              -0.6051      0.014    -41.777      0.000      -0.634      -0.577\n",
      "cluster_dgi_1             -0.5759      0.024    -24.149      0.000      -0.623      -0.529\n",
      "cluster_dgi_2             -0.1211      0.020     -6.105      0.000      -0.160      -0.082\n",
      "cluster_dgi_3             -0.3524      0.023    -15.553      0.000      -0.397      -0.308\n",
      "cluster_dgi_4              0.0500      0.024      2.070      0.038       0.003       0.097\n",
      "cluster_dgi_5             -0.4682      0.035    -13.213      0.000      -0.538      -0.399\n",
      "cluster_dgi_6              0.0494      0.022      2.275      0.023       0.007       0.092\n",
      "cluster_dgi_7             -0.0015      0.020     -0.076      0.940      -0.041       0.038\n",
      "cluster_dgi_8              0.0909      0.021      4.287      0.000       0.049       0.132\n",
      "cluster_dgi_9             -0.2527      0.025    -10.097      0.000      -0.302      -0.204\n",
      "NAICS_sector_sel_31-33    -0.0826      0.020     -4.121      0.000      -0.122      -0.043\n",
      "NAICS_sector_sel_42       -0.0121      0.021     -0.589      0.556      -0.052       0.028\n",
      "NAICS_sector_sel_44-45    -0.1099      0.017     -6.632      0.000      -0.142      -0.077\n",
      "NAICS_sector_sel_54        0.0600      0.020      2.947      0.003       0.020       0.100\n",
      "NAICS_sector_sel_56        0.0161      0.022      0.746      0.456      -0.026       0.059\n",
      "NAICS_sector_sel_62       -0.2397      0.024     -9.844      0.000      -0.287      -0.192\n",
      "NAICS_sector_sel_72       -0.2908      0.019    -15.595      0.000      -0.327      -0.254\n",
      "NAICS_sector_sel_81       -0.1180      0.020     -5.974      0.000      -0.157      -0.079\n",
      "NAICS_sector_sel_other     0.0650      0.017      3.821      0.000       0.032       0.098\n",
      "==========================================================================================\n"
     ]
    }
   ],
   "source": [
    "res_3 = log_reg(lm_df, ['cluster_nn', 'cluster_dgi', 'NAICS_sector_sel'])\n",
    "print(res_3.summary())"
   ]
  },
  {
   "cell_type": "markdown",
   "id": "24eed5b0-dc35-498b-806b-ba0bddba3474",
   "metadata": {},
   "source": [
    "##### Gather Metrics"
   ]
  },
  {
   "cell_type": "code",
   "execution_count": 247,
   "id": "c029c625-eda5-4497-ad57-117bff832964",
   "metadata": {},
   "outputs": [],
   "source": [
    "def get_metric_ser(res):\n",
    "    return pd.Series([res.aic, res.bic, res.prsquared],\n",
    "                     index=['aic', 'bic', 'prsquared'])"
   ]
  },
  {
   "cell_type": "code",
   "execution_count": 262,
   "id": "38d6a6dd-8c94-49ca-b8a3-6dd5d032a187",
   "metadata": {},
   "outputs": [
    {
     "data": {
      "text/html": [
       "<div>\n",
       "<style scoped>\n",
       "    .dataframe tbody tr th:only-of-type {\n",
       "        vertical-align: middle;\n",
       "    }\n",
       "\n",
       "    .dataframe tbody tr th {\n",
       "        vertical-align: top;\n",
       "    }\n",
       "\n",
       "    .dataframe thead th {\n",
       "        text-align: right;\n",
       "    }\n",
       "</style>\n",
       "<table border=\"1\" class=\"dataframe\">\n",
       "  <thead>\n",
       "    <tr style=\"text-align: right;\">\n",
       "      <th></th>\n",
       "      <th>model</th>\n",
       "      <th>aic</th>\n",
       "      <th>bic</th>\n",
       "      <th>prsquared</th>\n",
       "    </tr>\n",
       "  </thead>\n",
       "  <tbody>\n",
       "    <tr>\n",
       "      <th>0</th>\n",
       "      <td>sector</td>\n",
       "      <td>437439.761396</td>\n",
       "      <td>437549.618124</td>\n",
       "      <td>0.010454</td>\n",
       "    </tr>\n",
       "    <tr>\n",
       "      <th>1</th>\n",
       "      <td>dgi</td>\n",
       "      <td>430252.801947</td>\n",
       "      <td>430362.658675</td>\n",
       "      <td>0.026712</td>\n",
       "    </tr>\n",
       "    <tr>\n",
       "      <th>2</th>\n",
       "      <td>nn</td>\n",
       "      <td>420821.038986</td>\n",
       "      <td>420930.895713</td>\n",
       "      <td>0.048049</td>\n",
       "    </tr>\n",
       "    <tr>\n",
       "      <th>3</th>\n",
       "      <td>sector + dgi</td>\n",
       "      <td>428015.883613</td>\n",
       "      <td>428224.611394</td>\n",
       "      <td>0.031813</td>\n",
       "    </tr>\n",
       "    <tr>\n",
       "      <th>4</th>\n",
       "      <td>sector + nn</td>\n",
       "      <td>420139.973472</td>\n",
       "      <td>420348.701253</td>\n",
       "      <td>0.049630</td>\n",
       "    </tr>\n",
       "    <tr>\n",
       "      <th>5</th>\n",
       "      <td>dgi + nn</td>\n",
       "      <td>418827.744189</td>\n",
       "      <td>419036.471971</td>\n",
       "      <td>0.052599</td>\n",
       "    </tr>\n",
       "    <tr>\n",
       "      <th>6</th>\n",
       "      <td>sector + dgi + nn</td>\n",
       "      <td>418154.216760</td>\n",
       "      <td>418461.815596</td>\n",
       "      <td>0.054163</td>\n",
       "    </tr>\n",
       "  </tbody>\n",
       "</table>\n",
       "</div>"
      ],
      "text/plain": [
       "               model            aic            bic  prsquared\n",
       "0             sector  437439.761396  437549.618124   0.010454\n",
       "1                dgi  430252.801947  430362.658675   0.026712\n",
       "2                 nn  420821.038986  420930.895713   0.048049\n",
       "3       sector + dgi  428015.883613  428224.611394   0.031813\n",
       "4        sector + nn  420139.973472  420348.701253   0.049630\n",
       "5           dgi + nn  418827.744189  419036.471971   0.052599\n",
       "6  sector + dgi + nn  418154.216760  418461.815596   0.054163"
      ]
     },
     "execution_count": 262,
     "metadata": {},
     "output_type": "execute_result"
    }
   ],
   "source": [
    "res_list = [res_naics_sector, res_cluster_dgi, res_cluster_nn, \n",
    "            res_2_sector_dgi, res_2_sector_nn, res_2_nn_dgi, res_3]\n",
    "res_name_list = ['sector', 'dgi', 'nn',  'sector + dgi', 'sector + nn',\n",
    "                 'dgi + nn', 'sector + dgi + nn']\n",
    "logit_metrics = pd.concat([get_metric_ser(x).to_frame().transpose() for x in res_list],\n",
    "                          keys=res_name_list, axis=0) \\\n",
    "    .reset_index(level=1, drop=True) \\\n",
    "    .reset_index() \\\n",
    "    .rename(columns={'index':'model'})\n",
    "logit_metrics"
   ]
  },
  {
   "cell_type": "code",
   "execution_count": 263,
   "id": "44c7e69e-3766-4d9c-a4bf-df92680cfdbd",
   "metadata": {},
   "outputs": [],
   "source": [
    "logit_metrics.to_csv(Path(setup.temp_path).joinpath('81_REPORT_logit_metrics.csv'), index=False)"
   ]
  },
  {
   "cell_type": "code",
   "execution_count": null,
   "id": "e829b55d-5edf-4801-8491-2e9f22e59715",
   "metadata": {},
   "outputs": [],
   "source": []
  },
  {
   "cell_type": "code",
   "execution_count": null,
   "id": "1b4ad888-93f2-42de-b76a-879d997999b1",
   "metadata": {},
   "outputs": [],
   "source": []
  }
 ],
 "metadata": {
  "kernelspec": {
   "display_name": "tf_p39",
   "language": "python",
   "name": "tf_p39"
  },
  "language_info": {
   "codemirror_mode": {
    "name": "ipython",
    "version": 3
   },
   "file_extension": ".py",
   "mimetype": "text/x-python",
   "name": "python",
   "nbconvert_exporter": "python",
   "pygments_lexer": "ipython3",
   "version": "3.8.18"
  }
 },
 "nbformat": 4,
 "nbformat_minor": 5
}
