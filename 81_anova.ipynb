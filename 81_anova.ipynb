{
 "cells": [
  {
   "cell_type": "code",
   "execution_count": 1,
   "id": "6888d5e0-99f6-4f1e-ba66-96f68448ffa0",
   "metadata": {},
   "outputs": [],
   "source": [
    "# Modify the file 00_setup.py to define input/output file paths on your system\n",
    "# The information in 00_setup.py will be used across notebooks\n",
    "from importlib.machinery import SourceFileLoader\n",
    "setup = SourceFileLoader(\"setup\", \"./00_setup.py\").load_module()"
   ]
  },
  {
   "cell_type": "markdown",
   "id": "6007d3ed-efc1-4745-874b-d410ada1d35d",
   "metadata": {},
   "source": [
    "# ANOVA\n",
    "Various ANOVA and related analyses"
   ]
  },
  {
   "cell_type": "code",
   "execution_count": 2,
   "id": "d9d6cb68-1571-4609-99a0-ac60defb2b78",
   "metadata": {},
   "outputs": [],
   "source": [
    "import numpy as np\n",
    "import pandas as pd\n",
    "from pathlib import Path\n",
    "import importlib, os"
   ]
  },
  {
   "cell_type": "code",
   "execution_count": 3,
   "id": "c00e8aa8-6207-481f-a343-74245d6f1224",
   "metadata": {},
   "outputs": [],
   "source": [
    "import statsmodels.api as sm\n",
    "from statsmodels.formula.api import ols\n",
    "from scipy import stats"
   ]
  },
  {
   "cell_type": "markdown",
   "id": "fece7299-0723-487b-a52c-1c03598ac29f",
   "metadata": {},
   "source": [
    "## Import Data"
   ]
  },
  {
   "cell_type": "code",
   "execution_count": 4,
   "id": "2073255d-9621-4590-8086-6a648d38047a",
   "metadata": {},
   "outputs": [],
   "source": [
    "sba_loans = pd.read_parquet(Path(setup.temp_path).joinpath('01_DATA_transformed.parquet'))"
   ]
  },
  {
   "cell_type": "code",
   "execution_count": 5,
   "id": "ebadfa1e-56cc-42ec-91ed-4fd915500ee9",
   "metadata": {},
   "outputs": [],
   "source": [
    "train_df = sba_loans[sba_loans['dset'] == 'train']"
   ]
  },
  {
   "cell_type": "markdown",
   "id": "2e68ae0a-157a-412c-965b-4a5f9bbaa076",
   "metadata": {},
   "source": [
    "##### NAICS info"
   ]
  },
  {
   "cell_type": "code",
   "execution_count": 6,
   "id": "cc09f2f8-18bc-4db8-b71b-999c0c221111",
   "metadata": {},
   "outputs": [],
   "source": [
    "naics_info = pd.read_parquet(Path(setup.temp_path).joinpath('60_DATA_naics_summary_stats.parquet')) "
   ]
  },
  {
   "cell_type": "code",
   "execution_count": 7,
   "id": "c6702253-b873-4852-ba78-16e52f0ff12b",
   "metadata": {},
   "outputs": [],
   "source": [
    "naics_map = pd.read_parquet(Path(setup.temp_path).joinpath('60_DATA_naics_map.parquet'))"
   ]
  },
  {
   "cell_type": "code",
   "execution_count": 8,
   "id": "0c2e9e99-cdf3-4218-b8d5-9d908d30f415",
   "metadata": {},
   "outputs": [
    {
     "data": {
      "text/html": [
       "<div>\n",
       "<style scoped>\n",
       "    .dataframe tbody tr th:only-of-type {\n",
       "        vertical-align: middle;\n",
       "    }\n",
       "\n",
       "    .dataframe tbody tr th {\n",
       "        vertical-align: top;\n",
       "    }\n",
       "\n",
       "    .dataframe thead th {\n",
       "        text-align: right;\n",
       "    }\n",
       "</style>\n",
       "<table border=\"1\" class=\"dataframe\">\n",
       "  <thead>\n",
       "    <tr style=\"text-align: right;\">\n",
       "      <th></th>\n",
       "      <th>NAICS</th>\n",
       "      <th>train_count</th>\n",
       "      <th>train_target_mean</th>\n",
       "      <th>NAICS_sector</th>\n",
       "      <th>menc_NAICS</th>\n",
       "      <th>cenc_NAICS</th>\n",
       "      <th>dset_naics_holdout</th>\n",
       "      <th>all_count</th>\n",
       "      <th>all_target_mean</th>\n",
       "      <th>NAICS_sector_sel</th>\n",
       "    </tr>\n",
       "  </thead>\n",
       "  <tbody>\n",
       "    <tr>\n",
       "      <th>391</th>\n",
       "      <td>327991</td>\n",
       "      <td>472.0</td>\n",
       "      <td>0.182203</td>\n",
       "      <td>31-33</td>\n",
       "      <td>0.186393</td>\n",
       "      <td>0.001109</td>\n",
       "      <td>0</td>\n",
       "      <td>709</td>\n",
       "      <td>0.170663</td>\n",
       "      <td>1</td>\n",
       "    </tr>\n",
       "    <tr>\n",
       "      <th>809</th>\n",
       "      <td>445291</td>\n",
       "      <td>690.0</td>\n",
       "      <td>0.226087</td>\n",
       "      <td>44-45</td>\n",
       "      <td>0.220184</td>\n",
       "      <td>0.001621</td>\n",
       "      <td>0</td>\n",
       "      <td>1051</td>\n",
       "      <td>0.229305</td>\n",
       "      <td>1</td>\n",
       "    </tr>\n",
       "  </tbody>\n",
       "</table>\n",
       "</div>"
      ],
      "text/plain": [
       "      NAICS  train_count  train_target_mean NAICS_sector  menc_NAICS  \\\n",
       "391  327991        472.0           0.182203        31-33    0.186393   \n",
       "809  445291        690.0           0.226087        44-45    0.220184   \n",
       "\n",
       "     cenc_NAICS  dset_naics_holdout  all_count  all_target_mean  \\\n",
       "391    0.001109                   0        709         0.170663   \n",
       "809    0.001621                   0       1051         0.229305   \n",
       "\n",
       "     NAICS_sector_sel  \n",
       "391                 1  \n",
       "809                 1  "
      ]
     },
     "execution_count": 8,
     "metadata": {},
     "output_type": "execute_result"
    }
   ],
   "source": [
    "naics_info.sample(2)"
   ]
  },
  {
   "cell_type": "markdown",
   "id": "871c0f9d-6cd5-4276-bb8a-e635d2722404",
   "metadata": {},
   "source": [
    "##### Neural Network Embeddings\n",
    "With cluster and NAICS info appended"
   ]
  },
  {
   "cell_type": "code",
   "execution_count": 9,
   "id": "7568641c-9f49-44fc-88d5-f183bbc5cd94",
   "metadata": {},
   "outputs": [],
   "source": [
    "emb_nn_clus = pd.read_parquet(Path(setup.temp_path).joinpath('60_DATA_embeddings_tsne_naics.parquet'))"
   ]
  },
  {
   "cell_type": "code",
   "execution_count": 10,
   "id": "9243fdcf-75f0-45a6-a29c-00d8780a3ce9",
   "metadata": {},
   "outputs": [],
   "source": [
    "emb_nn_feat = [c for c in emb_nn_clus.columns if c.startswith('emb_')]"
   ]
  },
  {
   "cell_type": "markdown",
   "id": "317a159f-7e0d-4bd7-b0d6-df2d415ae607",
   "metadata": {},
   "source": [
    "##### DGI embeddings"
   ]
  },
  {
   "cell_type": "code",
   "execution_count": 11,
   "id": "6b7a88c1-86d4-4dcd-9f83-31976f44b5e6",
   "metadata": {},
   "outputs": [],
   "source": [
    "emb_dgi_clus = pd.read_parquet(Path(setup.temp_path).joinpath('72_DATA_embeddings_tsne_naics.parquet'))\n",
    "emb_dgi_feat = [c for c in emb_dgi_clus.columns if c.startswith('emb_')]"
   ]
  },
  {
   "cell_type": "markdown",
   "id": "a983b43b-fcb4-4909-8c8f-3fe94a465f90",
   "metadata": {},
   "source": [
    "## Functions"
   ]
  },
  {
   "cell_type": "markdown",
   "id": "e252e783-8bf8-4c49-93c9-426f10a5a989",
   "metadata": {},
   "source": [
    "##### ANOVA with variation explained"
   ]
  },
  {
   "cell_type": "code",
   "execution_count": 12,
   "id": "16c3e066-171b-4383-896b-6e2fefb1eace",
   "metadata": {},
   "outputs": [],
   "source": [
    "def anova_var(data, eqn):\n",
    "    \"\"\"Perform one way ANOVA, return variance explained\"\"\"\n",
    "    lm = ols(eqn, data=data).fit()\n",
    "    res = sm.stats.anova_lm(lm, typ=1)\n",
    "    res = pd.concat([res, \n",
    "                     (res['sum_sq'].transform(lambda x: x/x.sum())).rename('var_f')],\n",
    "                    axis=1)\n",
    "    return res"
   ]
  },
  {
   "cell_type": "markdown",
   "id": "b18449d5-440a-4922-8489-205f2f5ffabe",
   "metadata": {},
   "source": [
    "## NAICS sector - Baseline\n",
    "ANOVA results in the training data"
   ]
  },
  {
   "cell_type": "markdown",
   "id": "96f4027b-5eb2-4af9-a731-a41b57782983",
   "metadata": {},
   "source": [
    "##### Stats oneway summary"
   ]
  },
  {
   "cell_type": "code",
   "execution_count": 13,
   "id": "06290ad5-822a-49f4-b8b4-05146690ab3f",
   "metadata": {},
   "outputs": [],
   "source": [
    "sector_groups = train_df.groupby('NAICS_sector')\n",
    "sectors_list = [g['target'].to_numpy() for n, g in sector_groups]"
   ]
  },
  {
   "cell_type": "code",
   "execution_count": 14,
   "id": "a7056111-67ac-4771-9739-d12385181f38",
   "metadata": {},
   "outputs": [],
   "source": [
    "f_sector, p_sector = stats.f_oneway(*sectors_list)"
   ]
  },
  {
   "cell_type": "code",
   "execution_count": 15,
   "id": "c13268af-5016-4425-9c86-21ba21ec37ef",
   "metadata": {},
   "outputs": [
    {
     "name": "stdout",
     "output_type": "stream",
     "text": [
      "sector oneway f: 286.3593129860846, p: 0.0\n"
     ]
    }
   ],
   "source": [
    "print(f'sector oneway f: {f_sector}, p: {p_sector}')"
   ]
  },
  {
   "cell_type": "code",
   "execution_count": 16,
   "id": "86918296-c8de-4bf6-bcb5-9be57e08ad27",
   "metadata": {},
   "outputs": [],
   "source": [
    "naics_groups = train_df.groupby('NAICS')\n",
    "naics_list = [g['target'].to_numpy() for n, g in naics_groups]"
   ]
  },
  {
   "cell_type": "code",
   "execution_count": 17,
   "id": "bd0e0952-e147-4920-8b62-7857ea87cbd3",
   "metadata": {},
   "outputs": [],
   "source": [
    "f_naics, p_naics = stats.f_oneway(*naics_list)"
   ]
  },
  {
   "cell_type": "code",
   "execution_count": 18,
   "id": "770dae7f-eaa3-493c-b965-3f94748e992c",
   "metadata": {},
   "outputs": [
    {
     "name": "stdout",
     "output_type": "stream",
     "text": [
      "naics oneway f: 21.61331024668941, p: 0.0\n"
     ]
    }
   ],
   "source": [
    "print(f'naics oneway f: {f_naics}, p: {p_naics}')"
   ]
  },
  {
   "cell_type": "markdown",
   "id": "c2b9ba85-979b-484a-a137-01d2c637e002",
   "metadata": {},
   "source": [
    "##### Residuals analysis - sector"
   ]
  },
  {
   "cell_type": "code",
   "execution_count": 19,
   "id": "0f7fc52e-0f1a-49fd-af32-574484346438",
   "metadata": {},
   "outputs": [],
   "source": [
    "res = anova_var(train_df, 'target ~ C(NAICS_sector)')"
   ]
  },
  {
   "cell_type": "code",
   "execution_count": 20,
   "id": "2a07fccb-135b-44cf-83c0-c9bbf01ff38e",
   "metadata": {},
   "outputs": [
    {
     "data": {
      "text/html": [
       "<div>\n",
       "<style scoped>\n",
       "    .dataframe tbody tr th:only-of-type {\n",
       "        vertical-align: middle;\n",
       "    }\n",
       "\n",
       "    .dataframe tbody tr th {\n",
       "        vertical-align: top;\n",
       "    }\n",
       "\n",
       "    .dataframe thead th {\n",
       "        text-align: right;\n",
       "    }\n",
       "</style>\n",
       "<table border=\"1\" class=\"dataframe\">\n",
       "  <thead>\n",
       "    <tr style=\"text-align: right;\">\n",
       "      <th></th>\n",
       "      <th>df</th>\n",
       "      <th>sum_sq</th>\n",
       "      <th>mean_sq</th>\n",
       "      <th>F</th>\n",
       "      <th>PR(&gt;F)</th>\n",
       "      <th>var_f</th>\n",
       "    </tr>\n",
       "  </thead>\n",
       "  <tbody>\n",
       "    <tr>\n",
       "      <th>C(NAICS_sector)</th>\n",
       "      <td>19.0</td>\n",
       "      <td>869.441236</td>\n",
       "      <td>45.760065</td>\n",
       "      <td>286.359313</td>\n",
       "      <td>0.0</td>\n",
       "      <td>0.012623</td>\n",
       "    </tr>\n",
       "    <tr>\n",
       "      <th>Residual</th>\n",
       "      <td>425574.0</td>\n",
       "      <td>68006.497591</td>\n",
       "      <td>0.159799</td>\n",
       "      <td>NaN</td>\n",
       "      <td>NaN</td>\n",
       "      <td>0.987377</td>\n",
       "    </tr>\n",
       "  </tbody>\n",
       "</table>\n",
       "</div>"
      ],
      "text/plain": [
       "                       df        sum_sq    mean_sq           F  PR(>F)  \\\n",
       "C(NAICS_sector)      19.0    869.441236  45.760065  286.359313     0.0   \n",
       "Residual         425574.0  68006.497591   0.159799         NaN     NaN   \n",
       "\n",
       "                    var_f  \n",
       "C(NAICS_sector)  0.012623  \n",
       "Residual         0.987377  "
      ]
     },
     "execution_count": 20,
     "metadata": {},
     "output_type": "execute_result"
    }
   ],
   "source": [
    "res"
   ]
  },
  {
   "cell_type": "markdown",
   "id": "9d5e797a-2c28-4802-b5fa-b0e62af8c908",
   "metadata": {},
   "source": [
    "##### NAICS level \n",
    "How much of the mean target by NAICS is accounted for by sector?"
   ]
  },
  {
   "cell_type": "code",
   "execution_count": 21,
   "id": "3e7df8ea-1d37-47cf-8a9a-1f30e900796b",
   "metadata": {},
   "outputs": [],
   "source": [
    "naics_info_train = naics_info[naics_info['train_count'] > 0]"
   ]
  },
  {
   "cell_type": "code",
   "execution_count": 22,
   "id": "f574bf43-22a5-49b7-ac27-ab3a6663c532",
   "metadata": {},
   "outputs": [
    {
     "data": {
      "text/html": [
       "<div>\n",
       "<style scoped>\n",
       "    .dataframe tbody tr th:only-of-type {\n",
       "        vertical-align: middle;\n",
       "    }\n",
       "\n",
       "    .dataframe tbody tr th {\n",
       "        vertical-align: top;\n",
       "    }\n",
       "\n",
       "    .dataframe thead th {\n",
       "        text-align: right;\n",
       "    }\n",
       "</style>\n",
       "<table border=\"1\" class=\"dataframe\">\n",
       "  <thead>\n",
       "    <tr style=\"text-align: right;\">\n",
       "      <th></th>\n",
       "      <th>df</th>\n",
       "      <th>sum_sq</th>\n",
       "      <th>mean_sq</th>\n",
       "      <th>F</th>\n",
       "      <th>PR(&gt;F)</th>\n",
       "      <th>var_f</th>\n",
       "    </tr>\n",
       "  </thead>\n",
       "  <tbody>\n",
       "    <tr>\n",
       "      <th>C(NAICS_sector)</th>\n",
       "      <td>19.0</td>\n",
       "      <td>2.196272</td>\n",
       "      <td>0.115593</td>\n",
       "      <td>6.241177</td>\n",
       "      <td>1.503126e-15</td>\n",
       "      <td>0.089121</td>\n",
       "    </tr>\n",
       "    <tr>\n",
       "      <th>Residual</th>\n",
       "      <td>1212.0</td>\n",
       "      <td>22.447534</td>\n",
       "      <td>0.018521</td>\n",
       "      <td>NaN</td>\n",
       "      <td>NaN</td>\n",
       "      <td>0.910879</td>\n",
       "    </tr>\n",
       "  </tbody>\n",
       "</table>\n",
       "</div>"
      ],
      "text/plain": [
       "                     df     sum_sq   mean_sq         F        PR(>F)     var_f\n",
       "C(NAICS_sector)    19.0   2.196272  0.115593  6.241177  1.503126e-15  0.089121\n",
       "Residual         1212.0  22.447534  0.018521       NaN           NaN  0.910879"
      ]
     },
     "execution_count": 22,
     "metadata": {},
     "output_type": "execute_result"
    }
   ],
   "source": [
    "anova_var(naics_info_train, 'train_target_mean ~ C(NAICS_sector)')"
   ]
  },
  {
   "cell_type": "markdown",
   "id": "f3798de7-4cd6-48f2-b39f-c3a0caeb9f63",
   "metadata": {},
   "source": [
    "## NN Embeddings"
   ]
  },
  {
   "cell_type": "markdown",
   "id": "53c89687-9d29-4cc8-b109-38084e1987aa",
   "metadata": {},
   "source": [
    "##### NAICS sector ANOVA"
   ]
  },
  {
   "cell_type": "code",
   "execution_count": 23,
   "id": "5470ab7f-3efc-46b2-9476-551673459820",
   "metadata": {
    "tags": []
   },
   "outputs": [],
   "source": [
    "# OLS strings for each\n",
    "emb_str = [ ef+ ' ~ C(NAICS_sector)' for ef in emb_nn_feat]"
   ]
  },
  {
   "cell_type": "code",
   "execution_count": 24,
   "id": "ddcec760-868d-44ae-a6b1-5b3389da1036",
   "metadata": {},
   "outputs": [],
   "source": [
    "# All ANOVAs\n",
    "anova_nn_sector = pd.concat([anova_var(emb_nn_clus, s) for s in emb_str],\n",
    "                     keys=emb_nn_feat) \\\n",
    "    .reset_index()"
   ]
  },
  {
   "cell_type": "code",
   "execution_count": 25,
   "id": "4ecf8f1c-fe68-4622-b723-2eb1c8ea9494",
   "metadata": {},
   "outputs": [
    {
     "data": {
      "text/html": [
       "<div>\n",
       "<style scoped>\n",
       "    .dataframe tbody tr th:only-of-type {\n",
       "        vertical-align: middle;\n",
       "    }\n",
       "\n",
       "    .dataframe tbody tr th {\n",
       "        vertical-align: top;\n",
       "    }\n",
       "\n",
       "    .dataframe thead th {\n",
       "        text-align: right;\n",
       "    }\n",
       "</style>\n",
       "<table border=\"1\" class=\"dataframe\">\n",
       "  <thead>\n",
       "    <tr style=\"text-align: right;\">\n",
       "      <th></th>\n",
       "      <th>level_0</th>\n",
       "      <th>level_1</th>\n",
       "      <th>df</th>\n",
       "      <th>sum_sq</th>\n",
       "      <th>mean_sq</th>\n",
       "      <th>F</th>\n",
       "      <th>PR(&gt;F)</th>\n",
       "      <th>var_f</th>\n",
       "    </tr>\n",
       "  </thead>\n",
       "  <tbody>\n",
       "    <tr>\n",
       "      <th>0</th>\n",
       "      <td>emb_000</td>\n",
       "      <td>C(NAICS_sector)</td>\n",
       "      <td>19.0</td>\n",
       "      <td>29.413880</td>\n",
       "      <td>1.548099</td>\n",
       "      <td>4.594313</td>\n",
       "      <td>2.498359e-10</td>\n",
       "      <td>0.063333</td>\n",
       "    </tr>\n",
       "    <tr>\n",
       "      <th>2</th>\n",
       "      <td>emb_001</td>\n",
       "      <td>C(NAICS_sector)</td>\n",
       "      <td>19.0</td>\n",
       "      <td>7.221122</td>\n",
       "      <td>0.380059</td>\n",
       "      <td>2.953026</td>\n",
       "      <td>2.103928e-05</td>\n",
       "      <td>0.041650</td>\n",
       "    </tr>\n",
       "    <tr>\n",
       "      <th>4</th>\n",
       "      <td>emb_002</td>\n",
       "      <td>C(NAICS_sector)</td>\n",
       "      <td>19.0</td>\n",
       "      <td>13.784855</td>\n",
       "      <td>0.725519</td>\n",
       "      <td>5.854111</td>\n",
       "      <td>2.405280e-14</td>\n",
       "      <td>0.079322</td>\n",
       "    </tr>\n",
       "    <tr>\n",
       "      <th>6</th>\n",
       "      <td>emb_003</td>\n",
       "      <td>C(NAICS_sector)</td>\n",
       "      <td>19.0</td>\n",
       "      <td>6.175088</td>\n",
       "      <td>0.325005</td>\n",
       "      <td>2.564529</td>\n",
       "      <td>2.446379e-04</td>\n",
       "      <td>0.036370</td>\n",
       "    </tr>\n",
       "    <tr>\n",
       "      <th>8</th>\n",
       "      <td>emb_004</td>\n",
       "      <td>C(NAICS_sector)</td>\n",
       "      <td>19.0</td>\n",
       "      <td>43.431819</td>\n",
       "      <td>2.285885</td>\n",
       "      <td>6.189425</td>\n",
       "      <td>1.973339e-15</td>\n",
       "      <td>0.083487</td>\n",
       "    </tr>\n",
       "    <tr>\n",
       "      <th>10</th>\n",
       "      <td>emb_005</td>\n",
       "      <td>C(NAICS_sector)</td>\n",
       "      <td>19.0</td>\n",
       "      <td>9.936579</td>\n",
       "      <td>0.522978</td>\n",
       "      <td>3.557743</td>\n",
       "      <td>3.722568e-07</td>\n",
       "      <td>0.049755</td>\n",
       "    </tr>\n",
       "    <tr>\n",
       "      <th>12</th>\n",
       "      <td>emb_006</td>\n",
       "      <td>C(NAICS_sector)</td>\n",
       "      <td>19.0</td>\n",
       "      <td>40.116960</td>\n",
       "      <td>2.111419</td>\n",
       "      <td>6.191398</td>\n",
       "      <td>1.944452e-15</td>\n",
       "      <td>0.083511</td>\n",
       "    </tr>\n",
       "    <tr>\n",
       "      <th>14</th>\n",
       "      <td>emb_007</td>\n",
       "      <td>C(NAICS_sector)</td>\n",
       "      <td>19.0</td>\n",
       "      <td>8.898625</td>\n",
       "      <td>0.468349</td>\n",
       "      <td>3.359544</td>\n",
       "      <td>1.430425e-06</td>\n",
       "      <td>0.047114</td>\n",
       "    </tr>\n",
       "  </tbody>\n",
       "</table>\n",
       "</div>"
      ],
      "text/plain": [
       "    level_0          level_1    df     sum_sq   mean_sq         F  \\\n",
       "0   emb_000  C(NAICS_sector)  19.0  29.413880  1.548099  4.594313   \n",
       "2   emb_001  C(NAICS_sector)  19.0   7.221122  0.380059  2.953026   \n",
       "4   emb_002  C(NAICS_sector)  19.0  13.784855  0.725519  5.854111   \n",
       "6   emb_003  C(NAICS_sector)  19.0   6.175088  0.325005  2.564529   \n",
       "8   emb_004  C(NAICS_sector)  19.0  43.431819  2.285885  6.189425   \n",
       "10  emb_005  C(NAICS_sector)  19.0   9.936579  0.522978  3.557743   \n",
       "12  emb_006  C(NAICS_sector)  19.0  40.116960  2.111419  6.191398   \n",
       "14  emb_007  C(NAICS_sector)  19.0   8.898625  0.468349  3.359544   \n",
       "\n",
       "          PR(>F)     var_f  \n",
       "0   2.498359e-10  0.063333  \n",
       "2   2.103928e-05  0.041650  \n",
       "4   2.405280e-14  0.079322  \n",
       "6   2.446379e-04  0.036370  \n",
       "8   1.973339e-15  0.083487  \n",
       "10  3.722568e-07  0.049755  \n",
       "12  1.944452e-15  0.083511  \n",
       "14  1.430425e-06  0.047114  "
      ]
     },
     "execution_count": 25,
     "metadata": {},
     "output_type": "execute_result"
    }
   ],
   "source": [
    "anova_nn_sector[anova_nn_sector['level_1'] == 'C(NAICS_sector)']"
   ]
  },
  {
   "cell_type": "markdown",
   "id": "a6249c43-dc93-4577-9c31-eee0dd400c3e",
   "metadata": {},
   "source": [
    "##### NAICS level ANOVA (mean target)"
   ]
  },
  {
   "cell_type": "code",
   "execution_count": 32,
   "id": "707cb1ef-cc53-44f8-9a96-e7b685b2ce67",
   "metadata": {},
   "outputs": [],
   "source": [
    "naics_info_train_nn_cluster = naics_info[naics_info['train_count'] > 0] \\\n",
    "    .merge(emb_nn_clus.drop(columns='NAICS').rename(columns={'NAICS_orig':'NAICS'})[['NAICS', 'cluster']],\n",
    "           how='left', on='NAICS')"
   ]
  },
  {
   "cell_type": "code",
   "execution_count": 34,
   "id": "86dc6c4e-6249-4bd5-a28a-63f5fee7e8fa",
   "metadata": {},
   "outputs": [
    {
     "data": {
      "text/html": [
       "<div>\n",
       "<style scoped>\n",
       "    .dataframe tbody tr th:only-of-type {\n",
       "        vertical-align: middle;\n",
       "    }\n",
       "\n",
       "    .dataframe tbody tr th {\n",
       "        vertical-align: top;\n",
       "    }\n",
       "\n",
       "    .dataframe thead th {\n",
       "        text-align: right;\n",
       "    }\n",
       "</style>\n",
       "<table border=\"1\" class=\"dataframe\">\n",
       "  <thead>\n",
       "    <tr style=\"text-align: right;\">\n",
       "      <th></th>\n",
       "      <th>df</th>\n",
       "      <th>sum_sq</th>\n",
       "      <th>mean_sq</th>\n",
       "      <th>F</th>\n",
       "      <th>PR(&gt;F)</th>\n",
       "      <th>var_f</th>\n",
       "    </tr>\n",
       "  </thead>\n",
       "  <tbody>\n",
       "    <tr>\n",
       "      <th>C(cluster)</th>\n",
       "      <td>8.0</td>\n",
       "      <td>11.913865</td>\n",
       "      <td>1.489233</td>\n",
       "      <td>143.074672</td>\n",
       "      <td>1.631658e-169</td>\n",
       "      <td>0.483443</td>\n",
       "    </tr>\n",
       "    <tr>\n",
       "      <th>Residual</th>\n",
       "      <td>1223.0</td>\n",
       "      <td>12.729941</td>\n",
       "      <td>0.010409</td>\n",
       "      <td>NaN</td>\n",
       "      <td>NaN</td>\n",
       "      <td>0.516557</td>\n",
       "    </tr>\n",
       "  </tbody>\n",
       "</table>\n",
       "</div>"
      ],
      "text/plain": [
       "                df     sum_sq   mean_sq           F         PR(>F)     var_f\n",
       "C(cluster)     8.0  11.913865  1.489233  143.074672  1.631658e-169  0.483443\n",
       "Residual    1223.0  12.729941  0.010409         NaN            NaN  0.516557"
      ]
     },
     "execution_count": 34,
     "metadata": {},
     "output_type": "execute_result"
    }
   ],
   "source": [
    "anova_var(naics_info_train_nn_cluster, 'train_target_mean ~ C(cluster)')"
   ]
  },
  {
   "cell_type": "markdown",
   "id": "259a5518-8b09-4d20-b9a1-a8fe242378d0",
   "metadata": {},
   "source": [
    "##### Loan level ANOVA (raw target)"
   ]
  },
  {
   "cell_type": "code",
   "execution_count": 36,
   "id": "4f2fda43-d7a7-40b3-8ef6-fb2f3598457e",
   "metadata": {},
   "outputs": [],
   "source": [
    "train_nn_cluster = train_df \\\n",
    "    .merge(emb_nn_clus.drop(columns='NAICS').rename(columns={'NAICS_orig':'NAICS'})[['NAICS', 'cluster']],\n",
    "           how='left', on='NAICS')"
   ]
  },
  {
   "cell_type": "code",
   "execution_count": 37,
   "id": "0d7bf880-92ca-40ab-a425-907fa159a397",
   "metadata": {},
   "outputs": [
    {
     "data": {
      "text/html": [
       "<div>\n",
       "<style scoped>\n",
       "    .dataframe tbody tr th:only-of-type {\n",
       "        vertical-align: middle;\n",
       "    }\n",
       "\n",
       "    .dataframe tbody tr th {\n",
       "        vertical-align: top;\n",
       "    }\n",
       "\n",
       "    .dataframe thead th {\n",
       "        text-align: right;\n",
       "    }\n",
       "</style>\n",
       "<table border=\"1\" class=\"dataframe\">\n",
       "  <thead>\n",
       "    <tr style=\"text-align: right;\">\n",
       "      <th></th>\n",
       "      <th>df</th>\n",
       "      <th>sum_sq</th>\n",
       "      <th>mean_sq</th>\n",
       "      <th>F</th>\n",
       "      <th>PR(&gt;F)</th>\n",
       "      <th>var_f</th>\n",
       "    </tr>\n",
       "  </thead>\n",
       "  <tbody>\n",
       "    <tr>\n",
       "      <th>C(cluster)</th>\n",
       "      <td>8.0</td>\n",
       "      <td>3073.179506</td>\n",
       "      <td>384.147438</td>\n",
       "      <td>2484.506565</td>\n",
       "      <td>0.0</td>\n",
       "      <td>0.044619</td>\n",
       "    </tr>\n",
       "    <tr>\n",
       "      <th>Residual</th>\n",
       "      <td>425585.0</td>\n",
       "      <td>65802.759320</td>\n",
       "      <td>0.154617</td>\n",
       "      <td>NaN</td>\n",
       "      <td>NaN</td>\n",
       "      <td>0.955381</td>\n",
       "    </tr>\n",
       "  </tbody>\n",
       "</table>\n",
       "</div>"
      ],
      "text/plain": [
       "                  df        sum_sq     mean_sq            F  PR(>F)     var_f\n",
       "C(cluster)       8.0   3073.179506  384.147438  2484.506565     0.0  0.044619\n",
       "Residual    425585.0  65802.759320    0.154617          NaN     NaN  0.955381"
      ]
     },
     "execution_count": 37,
     "metadata": {},
     "output_type": "execute_result"
    }
   ],
   "source": [
    "anova_var(train_nn_cluster, 'target ~ C(cluster)')"
   ]
  },
  {
   "cell_type": "markdown",
   "id": "f6f143c1-61e4-4c25-aac5-b9965c278961",
   "metadata": {
    "tags": []
   },
   "source": [
    "## DGI Embeddings"
   ]
  },
  {
   "cell_type": "markdown",
   "id": "b4874c8d-b313-4cf2-858e-e1a33101a961",
   "metadata": {},
   "source": [
    "##### NAICS sector ANOVA"
   ]
  },
  {
   "cell_type": "code",
   "execution_count": 38,
   "id": "fc006058-0b32-4590-a1d8-1c61eabae3ca",
   "metadata": {
    "tags": []
   },
   "outputs": [],
   "source": [
    "# OLS strings for each\n",
    "emb_dgi_str = [ ef+ ' ~ C(NAICS_sector)' for ef in emb_dgi_feat]"
   ]
  },
  {
   "cell_type": "code",
   "execution_count": 39,
   "id": "3038985e-c9c9-4645-85e7-d46b07858875",
   "metadata": {},
   "outputs": [],
   "source": [
    "# All ANOVAs\n",
    "anova_dgi_sector = pd.concat([anova_var(emb_dgi_clus, s) for s in emb_dgi_str],\n",
    "                     keys=emb_nn_feat) \\\n",
    "    .reset_index()"
   ]
  },
  {
   "cell_type": "code",
   "execution_count": 40,
   "id": "6a1ce706-d0a7-4d07-b950-ebd3ca929852",
   "metadata": {},
   "outputs": [
    {
     "data": {
      "text/html": [
       "<div>\n",
       "<style scoped>\n",
       "    .dataframe tbody tr th:only-of-type {\n",
       "        vertical-align: middle;\n",
       "    }\n",
       "\n",
       "    .dataframe tbody tr th {\n",
       "        vertical-align: top;\n",
       "    }\n",
       "\n",
       "    .dataframe thead th {\n",
       "        text-align: right;\n",
       "    }\n",
       "</style>\n",
       "<table border=\"1\" class=\"dataframe\">\n",
       "  <thead>\n",
       "    <tr style=\"text-align: right;\">\n",
       "      <th></th>\n",
       "      <th>level_0</th>\n",
       "      <th>level_1</th>\n",
       "      <th>df</th>\n",
       "      <th>sum_sq</th>\n",
       "      <th>mean_sq</th>\n",
       "      <th>F</th>\n",
       "      <th>PR(&gt;F)</th>\n",
       "      <th>var_f</th>\n",
       "    </tr>\n",
       "  </thead>\n",
       "  <tbody>\n",
       "    <tr>\n",
       "      <th>0</th>\n",
       "      <td>emb_000</td>\n",
       "      <td>C(NAICS_sector)</td>\n",
       "      <td>19.0</td>\n",
       "      <td>0.007637</td>\n",
       "      <td>0.000402</td>\n",
       "      <td>2.409177</td>\n",
       "      <td>6.268709e-04</td>\n",
       "      <td>0.034242</td>\n",
       "    </tr>\n",
       "    <tr>\n",
       "      <th>2</th>\n",
       "      <td>emb_001</td>\n",
       "      <td>C(NAICS_sector)</td>\n",
       "      <td>19.0</td>\n",
       "      <td>0.015498</td>\n",
       "      <td>0.000816</td>\n",
       "      <td>2.409177</td>\n",
       "      <td>6.268718e-04</td>\n",
       "      <td>0.034242</td>\n",
       "    </tr>\n",
       "    <tr>\n",
       "      <th>4</th>\n",
       "      <td>emb_002</td>\n",
       "      <td>C(NAICS_sector)</td>\n",
       "      <td>19.0</td>\n",
       "      <td>0.007481</td>\n",
       "      <td>0.000394</td>\n",
       "      <td>2.409177</td>\n",
       "      <td>6.268732e-04</td>\n",
       "      <td>0.034242</td>\n",
       "    </tr>\n",
       "    <tr>\n",
       "      <th>6</th>\n",
       "      <td>emb_003</td>\n",
       "      <td>C(NAICS_sector)</td>\n",
       "      <td>19.0</td>\n",
       "      <td>0.014017</td>\n",
       "      <td>0.000738</td>\n",
       "      <td>2.409178</td>\n",
       "      <td>6.268692e-04</td>\n",
       "      <td>0.034242</td>\n",
       "    </tr>\n",
       "    <tr>\n",
       "      <th>8</th>\n",
       "      <td>emb_004</td>\n",
       "      <td>C(NAICS_sector)</td>\n",
       "      <td>19.0</td>\n",
       "      <td>19.231613</td>\n",
       "      <td>1.012190</td>\n",
       "      <td>8.203972</td>\n",
       "      <td>5.051170e-22</td>\n",
       "      <td>0.107732</td>\n",
       "    </tr>\n",
       "    <tr>\n",
       "      <th>10</th>\n",
       "      <td>emb_005</td>\n",
       "      <td>C(NAICS_sector)</td>\n",
       "      <td>19.0</td>\n",
       "      <td>15.171987</td>\n",
       "      <td>0.798526</td>\n",
       "      <td>6.454871</td>\n",
       "      <td>2.705188e-16</td>\n",
       "      <td>0.086756</td>\n",
       "    </tr>\n",
       "    <tr>\n",
       "      <th>12</th>\n",
       "      <td>emb_006</td>\n",
       "      <td>C(NAICS_sector)</td>\n",
       "      <td>19.0</td>\n",
       "      <td>51.820419</td>\n",
       "      <td>2.727390</td>\n",
       "      <td>28.530548</td>\n",
       "      <td>1.174964e-84</td>\n",
       "      <td>0.295721</td>\n",
       "    </tr>\n",
       "    <tr>\n",
       "      <th>14</th>\n",
       "      <td>emb_007</td>\n",
       "      <td>C(NAICS_sector)</td>\n",
       "      <td>19.0</td>\n",
       "      <td>23.447497</td>\n",
       "      <td>1.234079</td>\n",
       "      <td>18.656589</td>\n",
       "      <td>1.498159e-55</td>\n",
       "      <td>0.215424</td>\n",
       "    </tr>\n",
       "  </tbody>\n",
       "</table>\n",
       "</div>"
      ],
      "text/plain": [
       "    level_0          level_1    df     sum_sq   mean_sq          F  \\\n",
       "0   emb_000  C(NAICS_sector)  19.0   0.007637  0.000402   2.409177   \n",
       "2   emb_001  C(NAICS_sector)  19.0   0.015498  0.000816   2.409177   \n",
       "4   emb_002  C(NAICS_sector)  19.0   0.007481  0.000394   2.409177   \n",
       "6   emb_003  C(NAICS_sector)  19.0   0.014017  0.000738   2.409178   \n",
       "8   emb_004  C(NAICS_sector)  19.0  19.231613  1.012190   8.203972   \n",
       "10  emb_005  C(NAICS_sector)  19.0  15.171987  0.798526   6.454871   \n",
       "12  emb_006  C(NAICS_sector)  19.0  51.820419  2.727390  28.530548   \n",
       "14  emb_007  C(NAICS_sector)  19.0  23.447497  1.234079  18.656589   \n",
       "\n",
       "          PR(>F)     var_f  \n",
       "0   6.268709e-04  0.034242  \n",
       "2   6.268718e-04  0.034242  \n",
       "4   6.268732e-04  0.034242  \n",
       "6   6.268692e-04  0.034242  \n",
       "8   5.051170e-22  0.107732  \n",
       "10  2.705188e-16  0.086756  \n",
       "12  1.174964e-84  0.295721  \n",
       "14  1.498159e-55  0.215424  "
      ]
     },
     "execution_count": 40,
     "metadata": {},
     "output_type": "execute_result"
    }
   ],
   "source": [
    "anova_dgi_sector[anova_nn_sector['level_1'] == 'C(NAICS_sector)']"
   ]
  },
  {
   "cell_type": "markdown",
   "id": "975bb2c6-2cc9-46e9-8414-96a335782543",
   "metadata": {},
   "source": [
    "##### NAICS level ANOVA (mean target)"
   ]
  },
  {
   "cell_type": "code",
   "execution_count": 42,
   "id": "81e3e126-a887-417b-ae34-0b16931e7b19",
   "metadata": {},
   "outputs": [],
   "source": [
    "naics_info_train_dgi_cluster = naics_info[naics_info['train_count'] > 0] \\\n",
    "    .merge(emb_dgi_clus.rename(columns={'NAICS_orig':'NAICS'})[['NAICS', 'cluster']],\n",
    "           how='left', on='NAICS')"
   ]
  },
  {
   "cell_type": "code",
   "execution_count": 43,
   "id": "ec6897c0-f276-484c-8f4b-ec596be3fd9b",
   "metadata": {},
   "outputs": [
    {
     "data": {
      "text/html": [
       "<div>\n",
       "<style scoped>\n",
       "    .dataframe tbody tr th:only-of-type {\n",
       "        vertical-align: middle;\n",
       "    }\n",
       "\n",
       "    .dataframe tbody tr th {\n",
       "        vertical-align: top;\n",
       "    }\n",
       "\n",
       "    .dataframe thead th {\n",
       "        text-align: right;\n",
       "    }\n",
       "</style>\n",
       "<table border=\"1\" class=\"dataframe\">\n",
       "  <thead>\n",
       "    <tr style=\"text-align: right;\">\n",
       "      <th></th>\n",
       "      <th>df</th>\n",
       "      <th>sum_sq</th>\n",
       "      <th>mean_sq</th>\n",
       "      <th>F</th>\n",
       "      <th>PR(&gt;F)</th>\n",
       "      <th>var_f</th>\n",
       "    </tr>\n",
       "  </thead>\n",
       "  <tbody>\n",
       "    <tr>\n",
       "      <th>C(cluster)</th>\n",
       "      <td>8.0</td>\n",
       "      <td>6.540420</td>\n",
       "      <td>0.817552</td>\n",
       "      <td>55.230918</td>\n",
       "      <td>8.988914e-77</td>\n",
       "      <td>0.265398</td>\n",
       "    </tr>\n",
       "    <tr>\n",
       "      <th>Residual</th>\n",
       "      <td>1223.0</td>\n",
       "      <td>18.103386</td>\n",
       "      <td>0.014802</td>\n",
       "      <td>NaN</td>\n",
       "      <td>NaN</td>\n",
       "      <td>0.734602</td>\n",
       "    </tr>\n",
       "  </tbody>\n",
       "</table>\n",
       "</div>"
      ],
      "text/plain": [
       "                df     sum_sq   mean_sq          F        PR(>F)     var_f\n",
       "C(cluster)     8.0   6.540420  0.817552  55.230918  8.988914e-77  0.265398\n",
       "Residual    1223.0  18.103386  0.014802        NaN           NaN  0.734602"
      ]
     },
     "execution_count": 43,
     "metadata": {},
     "output_type": "execute_result"
    }
   ],
   "source": [
    "anova_var(naics_info_train_dgi_cluster, 'train_target_mean ~ C(cluster)')"
   ]
  },
  {
   "cell_type": "markdown",
   "id": "63744aed-efc9-400a-aae6-1c5ffa7bef5f",
   "metadata": {},
   "source": [
    "##### Loan level ANOVA (raw target)"
   ]
  },
  {
   "cell_type": "code",
   "execution_count": 45,
   "id": "e39a974d-6bb1-4842-8ef3-f4aba3c7dbe6",
   "metadata": {},
   "outputs": [],
   "source": [
    "train_dgi_cluster = train_df \\\n",
    "    .merge(emb_dgi_clus.rename(columns={'NAICS_orig':'NAICS'})[['NAICS', 'cluster']],\n",
    "           how='left', on='NAICS')"
   ]
  },
  {
   "cell_type": "code",
   "execution_count": 46,
   "id": "81860b4a-ca03-4c75-9b14-bf7c96eb991b",
   "metadata": {},
   "outputs": [
    {
     "data": {
      "text/html": [
       "<div>\n",
       "<style scoped>\n",
       "    .dataframe tbody tr th:only-of-type {\n",
       "        vertical-align: middle;\n",
       "    }\n",
       "\n",
       "    .dataframe tbody tr th {\n",
       "        vertical-align: top;\n",
       "    }\n",
       "\n",
       "    .dataframe thead th {\n",
       "        text-align: right;\n",
       "    }\n",
       "</style>\n",
       "<table border=\"1\" class=\"dataframe\">\n",
       "  <thead>\n",
       "    <tr style=\"text-align: right;\">\n",
       "      <th></th>\n",
       "      <th>df</th>\n",
       "      <th>sum_sq</th>\n",
       "      <th>mean_sq</th>\n",
       "      <th>F</th>\n",
       "      <th>PR(&gt;F)</th>\n",
       "      <th>var_f</th>\n",
       "    </tr>\n",
       "  </thead>\n",
       "  <tbody>\n",
       "    <tr>\n",
       "      <th>C(cluster)</th>\n",
       "      <td>8.0</td>\n",
       "      <td>2277.735288</td>\n",
       "      <td>284.716911</td>\n",
       "      <td>1819.437164</td>\n",
       "      <td>0.0</td>\n",
       "      <td>0.03307</td>\n",
       "    </tr>\n",
       "    <tr>\n",
       "      <th>Residual</th>\n",
       "      <td>425585.0</td>\n",
       "      <td>66598.203539</td>\n",
       "      <td>0.156486</td>\n",
       "      <td>NaN</td>\n",
       "      <td>NaN</td>\n",
       "      <td>0.96693</td>\n",
       "    </tr>\n",
       "  </tbody>\n",
       "</table>\n",
       "</div>"
      ],
      "text/plain": [
       "                  df        sum_sq     mean_sq            F  PR(>F)    var_f\n",
       "C(cluster)       8.0   2277.735288  284.716911  1819.437164     0.0  0.03307\n",
       "Residual    425585.0  66598.203539    0.156486          NaN     NaN  0.96693"
      ]
     },
     "execution_count": 46,
     "metadata": {},
     "output_type": "execute_result"
    }
   ],
   "source": [
    "anova_var(train_dgi_cluster, 'target ~ C(cluster)')"
   ]
  },
  {
   "cell_type": "code",
   "execution_count": null,
   "id": "75f64195-e692-4aca-b23d-d3dbc7661ef2",
   "metadata": {},
   "outputs": [],
   "source": []
  },
  {
   "cell_type": "code",
   "execution_count": null,
   "id": "55fc6bc1-795c-48b8-adbd-cbf96815542d",
   "metadata": {},
   "outputs": [],
   "source": []
  },
  {
   "cell_type": "code",
   "execution_count": null,
   "id": "ad72c42f-bb04-4523-95f2-333ed3c52a8b",
   "metadata": {},
   "outputs": [],
   "source": []
  }
 ],
 "metadata": {
  "kernelspec": {
   "display_name": "tf_p39",
   "language": "python",
   "name": "tf_p39"
  },
  "language_info": {
   "codemirror_mode": {
    "name": "ipython",
    "version": 3
   },
   "file_extension": ".py",
   "mimetype": "text/x-python",
   "name": "python",
   "nbconvert_exporter": "python",
   "pygments_lexer": "ipython3",
   "version": "3.8.18"
  }
 },
 "nbformat": 4,
 "nbformat_minor": 5
}
