{
 "cells": [
  {
   "cell_type": "code",
   "execution_count": 1,
   "id": "4c65f557-651f-4958-a567-a1b6b5a82b2b",
   "metadata": {
    "tags": []
   },
   "outputs": [],
   "source": [
    "# Modify the file 00_setup.py to define input/output file paths on your system\n",
    "# The information in 00_setup.py will be used across notebooks\n",
    "from importlib.machinery import SourceFileLoader\n",
    "setup = SourceFileLoader(\"setup\", \"./00_setup.py\").load_module()"
   ]
  },
  {
   "cell_type": "markdown",
   "id": "b01d0fdb-d4bf-465a-8541-997addc50b0c",
   "metadata": {},
   "source": [
    "# XGBoost with one-hot NAICS Clusters (DGI Base)\n",
    "XGBoost model, one hot encoded values from k means clustering"
   ]
  },
  {
   "cell_type": "markdown",
   "id": "56161f89-1f54-47f9-860d-3f945a941c1f",
   "metadata": {},
   "source": [
    "*This script takes about 5 minutes on my MacBook Air*"
   ]
  },
  {
   "cell_type": "code",
   "execution_count": 2,
   "id": "ec6b1778-7abc-4129-ab5f-ac2992bd8ca6",
   "metadata": {},
   "outputs": [],
   "source": [
    "import pandas as pd\n",
    "import numpy as np\n",
    "import xgboost as xgb\n",
    "import warnings\n",
    "import matplotlib.pyplot as plt\n",
    "import pickle"
   ]
  },
  {
   "cell_type": "code",
   "execution_count": 3,
   "id": "785af927-a634-4e34-84c4-7a532236f2ca",
   "metadata": {},
   "outputs": [],
   "source": [
    "from pathlib import Path"
   ]
  },
  {
   "cell_type": "code",
   "execution_count": 4,
   "id": "fd09527b-32dd-47fa-b62f-f9307f89f553",
   "metadata": {},
   "outputs": [],
   "source": [
    "import sklearn as sk\n",
    "from sklearn.model_selection import RandomizedSearchCV\n",
    "from sklearn.inspection import permutation_importance, partial_dependence\n",
    "from scikitplot.metrics import plot_lift_curve"
   ]
  },
  {
   "cell_type": "code",
   "execution_count": 5,
   "id": "0732ba40-8318-457b-b29f-f9b6de3b70aa",
   "metadata": {},
   "outputs": [],
   "source": [
    "from sba_gnn.sba_gnn import sg_plot "
   ]
  },
  {
   "cell_type": "markdown",
   "id": "d14a5947-6599-4253-acf3-91ddeffdedd3",
   "metadata": {},
   "source": [
    "## Import Processed Datasets"
   ]
  },
  {
   "cell_type": "markdown",
   "id": "b0e80daf-7e62-47ae-b9f4-e04468135f3e",
   "metadata": {},
   "source": [
    "##### Get loans data, append clusters"
   ]
  },
  {
   "cell_type": "code",
   "execution_count": 6,
   "id": "f6bc5cc5-b635-420f-852c-6cc9bba68a52",
   "metadata": {},
   "outputs": [],
   "source": [
    "sba_loans = pd.read_parquet(Path(setup.temp_path).joinpath('01_DATA_transformed.parquet'))"
   ]
  },
  {
   "cell_type": "code",
   "execution_count": 7,
   "id": "24785791-96b2-42a3-b6bb-307a60291c06",
   "metadata": {},
   "outputs": [
    {
     "data": {
      "text/plain": [
       "Index(['NAICS', 'NAICS_2', 'NAICS_sector', 'NAICS_sector_desc', 'NAICS_num',\n",
       "       'menc_NAICS', 'cenc_NAICS', 'menc_grp_NAICS'],\n",
       "      dtype='object')"
      ]
     },
     "execution_count": 7,
     "metadata": {},
     "output_type": "execute_result"
    }
   ],
   "source": [
    "sba_loans.filter(like='NAICS').columns"
   ]
  },
  {
   "cell_type": "code",
   "execution_count": 8,
   "id": "5d9230bf-f527-42c9-832a-e353f32487ab",
   "metadata": {},
   "outputs": [],
   "source": [
    "embed_df = pd.read_parquet(Path(setup.temp_path).joinpath('66_DATA_embeddings_tsne_naics.parquet'))"
   ]
  },
  {
   "cell_type": "code",
   "execution_count": 9,
   "id": "f61f3bb8-2f9b-4d2d-a85d-c9c932521b47",
   "metadata": {},
   "outputs": [
    {
     "data": {
      "text/plain": [
       "9"
      ]
     },
     "execution_count": 9,
     "metadata": {},
     "output_type": "execute_result"
    }
   ],
   "source": [
    "clus_cols = [c for c in embed_df if c.startswith('NC__')]\n",
    "len(clus_cols)"
   ]
  },
  {
   "cell_type": "code",
   "execution_count": 10,
   "id": "3533831b-fe3e-46e7-bc21-b0d6f4fb689d",
   "metadata": {},
   "outputs": [],
   "source": [
    "sba_loans = sba_loans.drop(columns = clus_cols, errors='ignore') \\\n",
    "    .merge(embed_df[clus_cols + ['NAICS_orig']].rename(columns={'NAICS_orig':'NAICS'}),\n",
    "           on='NAICS', how='left')"
   ]
  },
  {
   "cell_type": "code",
   "execution_count": 11,
   "id": "042aae2d-f88d-4060-994f-629349a5bff1",
   "metadata": {},
   "outputs": [
    {
     "data": {
      "text/html": [
       "<div>\n",
       "<style scoped>\n",
       "    .dataframe tbody tr th:only-of-type {\n",
       "        vertical-align: middle;\n",
       "    }\n",
       "\n",
       "    .dataframe tbody tr th {\n",
       "        vertical-align: top;\n",
       "    }\n",
       "\n",
       "    .dataframe thead th {\n",
       "        text-align: right;\n",
       "    }\n",
       "</style>\n",
       "<table border=\"1\" class=\"dataframe\">\n",
       "  <thead>\n",
       "    <tr style=\"text-align: right;\">\n",
       "      <th></th>\n",
       "      <th>NC__0</th>\n",
       "      <th>NC__1</th>\n",
       "      <th>NC__2</th>\n",
       "      <th>NC__3</th>\n",
       "      <th>NC__4</th>\n",
       "      <th>NC__5</th>\n",
       "      <th>NC__6</th>\n",
       "      <th>NC__7</th>\n",
       "      <th>NC__8</th>\n",
       "    </tr>\n",
       "  </thead>\n",
       "  <tbody>\n",
       "    <tr>\n",
       "      <th>count</th>\n",
       "      <td>688081.00000</td>\n",
       "      <td>688081.000000</td>\n",
       "      <td>688081.000000</td>\n",
       "      <td>688081.000000</td>\n",
       "      <td>688081.000000</td>\n",
       "      <td>688081.000000</td>\n",
       "      <td>688081.000000</td>\n",
       "      <td>688081.000000</td>\n",
       "      <td>688081.000000</td>\n",
       "    </tr>\n",
       "    <tr>\n",
       "      <th>mean</th>\n",
       "      <td>0.08766</td>\n",
       "      <td>0.131871</td>\n",
       "      <td>0.111285</td>\n",
       "      <td>0.182824</td>\n",
       "      <td>0.100536</td>\n",
       "      <td>0.057178</td>\n",
       "      <td>0.250016</td>\n",
       "      <td>0.011393</td>\n",
       "      <td>0.067238</td>\n",
       "    </tr>\n",
       "    <tr>\n",
       "      <th>std</th>\n",
       "      <td>0.28280</td>\n",
       "      <td>0.338351</td>\n",
       "      <td>0.314485</td>\n",
       "      <td>0.386523</td>\n",
       "      <td>0.300714</td>\n",
       "      <td>0.232182</td>\n",
       "      <td>0.433022</td>\n",
       "      <td>0.106126</td>\n",
       "      <td>0.250433</td>\n",
       "    </tr>\n",
       "    <tr>\n",
       "      <th>min</th>\n",
       "      <td>0.00000</td>\n",
       "      <td>0.000000</td>\n",
       "      <td>0.000000</td>\n",
       "      <td>0.000000</td>\n",
       "      <td>0.000000</td>\n",
       "      <td>0.000000</td>\n",
       "      <td>0.000000</td>\n",
       "      <td>0.000000</td>\n",
       "      <td>0.000000</td>\n",
       "    </tr>\n",
       "    <tr>\n",
       "      <th>25%</th>\n",
       "      <td>0.00000</td>\n",
       "      <td>0.000000</td>\n",
       "      <td>0.000000</td>\n",
       "      <td>0.000000</td>\n",
       "      <td>0.000000</td>\n",
       "      <td>0.000000</td>\n",
       "      <td>0.000000</td>\n",
       "      <td>0.000000</td>\n",
       "      <td>0.000000</td>\n",
       "    </tr>\n",
       "    <tr>\n",
       "      <th>50%</th>\n",
       "      <td>0.00000</td>\n",
       "      <td>0.000000</td>\n",
       "      <td>0.000000</td>\n",
       "      <td>0.000000</td>\n",
       "      <td>0.000000</td>\n",
       "      <td>0.000000</td>\n",
       "      <td>0.000000</td>\n",
       "      <td>0.000000</td>\n",
       "      <td>0.000000</td>\n",
       "    </tr>\n",
       "    <tr>\n",
       "      <th>75%</th>\n",
       "      <td>0.00000</td>\n",
       "      <td>0.000000</td>\n",
       "      <td>0.000000</td>\n",
       "      <td>0.000000</td>\n",
       "      <td>0.000000</td>\n",
       "      <td>0.000000</td>\n",
       "      <td>1.000000</td>\n",
       "      <td>0.000000</td>\n",
       "      <td>0.000000</td>\n",
       "    </tr>\n",
       "    <tr>\n",
       "      <th>max</th>\n",
       "      <td>1.00000</td>\n",
       "      <td>1.000000</td>\n",
       "      <td>1.000000</td>\n",
       "      <td>1.000000</td>\n",
       "      <td>1.000000</td>\n",
       "      <td>1.000000</td>\n",
       "      <td>1.000000</td>\n",
       "      <td>1.000000</td>\n",
       "      <td>1.000000</td>\n",
       "    </tr>\n",
       "  </tbody>\n",
       "</table>\n",
       "</div>"
      ],
      "text/plain": [
       "              NC__0          NC__1          NC__2          NC__3  \\\n",
       "count  688081.00000  688081.000000  688081.000000  688081.000000   \n",
       "mean        0.08766       0.131871       0.111285       0.182824   \n",
       "std         0.28280       0.338351       0.314485       0.386523   \n",
       "min         0.00000       0.000000       0.000000       0.000000   \n",
       "25%         0.00000       0.000000       0.000000       0.000000   \n",
       "50%         0.00000       0.000000       0.000000       0.000000   \n",
       "75%         0.00000       0.000000       0.000000       0.000000   \n",
       "max         1.00000       1.000000       1.000000       1.000000   \n",
       "\n",
       "               NC__4          NC__5          NC__6          NC__7  \\\n",
       "count  688081.000000  688081.000000  688081.000000  688081.000000   \n",
       "mean        0.100536       0.057178       0.250016       0.011393   \n",
       "std         0.300714       0.232182       0.433022       0.106126   \n",
       "min         0.000000       0.000000       0.000000       0.000000   \n",
       "25%         0.000000       0.000000       0.000000       0.000000   \n",
       "50%         0.000000       0.000000       0.000000       0.000000   \n",
       "75%         0.000000       0.000000       1.000000       0.000000   \n",
       "max         1.000000       1.000000       1.000000       1.000000   \n",
       "\n",
       "               NC__8  \n",
       "count  688081.000000  \n",
       "mean        0.067238  \n",
       "std         0.250433  \n",
       "min         0.000000  \n",
       "25%         0.000000  \n",
       "50%         0.000000  \n",
       "75%         0.000000  \n",
       "max         1.000000  "
      ]
     },
     "execution_count": 11,
     "metadata": {},
     "output_type": "execute_result"
    }
   ],
   "source": [
    "sba_loans[clus_cols].describe()"
   ]
  },
  {
   "cell_type": "code",
   "execution_count": 12,
   "id": "a5f6c362-c1ab-48d8-812b-2b970b06586b",
   "metadata": {},
   "outputs": [],
   "source": [
    "train_df = sba_loans[sba_loans['dset'] == 'train'].copy()\n",
    "test_df = sba_loans[sba_loans['dset'] == 'test']\n",
    "val_df = sba_loans[sba_loans['dset'] == 'val']"
   ]
  },
  {
   "cell_type": "code",
   "execution_count": 13,
   "id": "7b1db53b-181c-450d-9f7e-be350bc3111f",
   "metadata": {},
   "outputs": [
    {
     "data": {
      "text/plain": [
       "(425594, 59)"
      ]
     },
     "execution_count": 13,
     "metadata": {},
     "output_type": "execute_result"
    }
   ],
   "source": [
    "train_df.shape"
   ]
  },
  {
   "cell_type": "markdown",
   "id": "f2160b50-1e22-44f0-915b-0241ebcd45d4",
   "metadata": {},
   "source": [
    "#### Set the predictor features.  Include one-hot NAICS"
   ]
  },
  {
   "cell_type": "code",
   "execution_count": 14,
   "id": "c07ddd4e-6987-454a-926a-3b59abf6caa6",
   "metadata": {},
   "outputs": [
    {
     "name": "stdout",
     "output_type": "stream",
     "text": [
      "['NoEmp', 'CreateJob', 'LowDoc', 'DisbursementGross', 'new_business', 'urban_flag', 'franchise_flag', 'NC__0', 'NC__1', 'NC__2', 'NC__3', 'NC__4', 'NC__5', 'NC__6', 'NC__7', 'NC__8']\n"
     ]
    }
   ],
   "source": [
    "predictor_features = setup.predictor_features + clus_cols\n",
    "print(predictor_features)"
   ]
  },
  {
   "cell_type": "code",
   "execution_count": 15,
   "id": "2a4f4a9e-f7e5-4143-b1e4-b5fbb5f7280d",
   "metadata": {},
   "outputs": [
    {
     "data": {
      "text/html": [
       "<div>\n",
       "<style scoped>\n",
       "    .dataframe tbody tr th:only-of-type {\n",
       "        vertical-align: middle;\n",
       "    }\n",
       "\n",
       "    .dataframe tbody tr th {\n",
       "        vertical-align: top;\n",
       "    }\n",
       "\n",
       "    .dataframe thead th {\n",
       "        text-align: right;\n",
       "    }\n",
       "</style>\n",
       "<table border=\"1\" class=\"dataframe\">\n",
       "  <thead>\n",
       "    <tr style=\"text-align: right;\">\n",
       "      <th></th>\n",
       "      <th>NoEmp</th>\n",
       "      <th>CreateJob</th>\n",
       "      <th>LowDoc</th>\n",
       "      <th>DisbursementGross</th>\n",
       "      <th>new_business</th>\n",
       "      <th>urban_flag</th>\n",
       "      <th>franchise_flag</th>\n",
       "      <th>NC__0</th>\n",
       "      <th>NC__1</th>\n",
       "      <th>NC__2</th>\n",
       "      <th>NC__3</th>\n",
       "      <th>NC__4</th>\n",
       "      <th>NC__5</th>\n",
       "      <th>NC__6</th>\n",
       "      <th>NC__7</th>\n",
       "      <th>NC__8</th>\n",
       "      <th>target</th>\n",
       "    </tr>\n",
       "  </thead>\n",
       "  <tbody>\n",
       "    <tr>\n",
       "      <th>NoEmp</th>\n",
       "      <td>1.000000</td>\n",
       "      <td>0.052510</td>\n",
       "      <td>-0.009243</td>\n",
       "      <td>0.093125</td>\n",
       "      <td>-0.038672</td>\n",
       "      <td>0.002058</td>\n",
       "      <td>0.006517</td>\n",
       "      <td>0.023469</td>\n",
       "      <td>-0.001929</td>\n",
       "      <td>-0.009150</td>\n",
       "      <td>0.023155</td>\n",
       "      <td>0.000260</td>\n",
       "      <td>0.006934</td>\n",
       "      <td>-0.033227</td>\n",
       "      <td>0.010418</td>\n",
       "      <td>-0.002176</td>\n",
       "      <td>-0.027838</td>\n",
       "    </tr>\n",
       "    <tr>\n",
       "      <th>CreateJob</th>\n",
       "      <td>0.052510</td>\n",
       "      <td>1.000000</td>\n",
       "      <td>-0.046967</td>\n",
       "      <td>0.101755</td>\n",
       "      <td>0.028831</td>\n",
       "      <td>0.009019</td>\n",
       "      <td>0.036918</td>\n",
       "      <td>0.046083</td>\n",
       "      <td>-0.014991</td>\n",
       "      <td>-0.005393</td>\n",
       "      <td>-0.009500</td>\n",
       "      <td>-0.003376</td>\n",
       "      <td>0.029813</td>\n",
       "      <td>-0.021167</td>\n",
       "      <td>0.005096</td>\n",
       "      <td>-0.000937</td>\n",
       "      <td>-0.009540</td>\n",
       "    </tr>\n",
       "    <tr>\n",
       "      <th>LowDoc</th>\n",
       "      <td>-0.009243</td>\n",
       "      <td>-0.046967</td>\n",
       "      <td>1.000000</td>\n",
       "      <td>-0.133731</td>\n",
       "      <td>0.154037</td>\n",
       "      <td>-0.119292</td>\n",
       "      <td>0.039258</td>\n",
       "      <td>-0.025117</td>\n",
       "      <td>0.049489</td>\n",
       "      <td>-0.035680</td>\n",
       "      <td>0.055988</td>\n",
       "      <td>0.028535</td>\n",
       "      <td>-0.014907</td>\n",
       "      <td>-0.029313</td>\n",
       "      <td>-0.010318</td>\n",
       "      <td>-0.043137</td>\n",
       "      <td>-0.076836</td>\n",
       "    </tr>\n",
       "    <tr>\n",
       "      <th>DisbursementGross</th>\n",
       "      <td>0.093125</td>\n",
       "      <td>0.101755</td>\n",
       "      <td>-0.133731</td>\n",
       "      <td>1.000000</td>\n",
       "      <td>-0.067410</td>\n",
       "      <td>-0.006023</td>\n",
       "      <td>0.082087</td>\n",
       "      <td>0.167835</td>\n",
       "      <td>0.000961</td>\n",
       "      <td>-0.048201</td>\n",
       "      <td>0.090056</td>\n",
       "      <td>-0.013118</td>\n",
       "      <td>0.015601</td>\n",
       "      <td>-0.172300</td>\n",
       "      <td>0.050113</td>\n",
       "      <td>0.005869</td>\n",
       "      <td>-0.122857</td>\n",
       "    </tr>\n",
       "    <tr>\n",
       "      <th>new_business</th>\n",
       "      <td>-0.038672</td>\n",
       "      <td>0.028831</td>\n",
       "      <td>0.154037</td>\n",
       "      <td>-0.067410</td>\n",
       "      <td>1.000000</td>\n",
       "      <td>-0.046626</td>\n",
       "      <td>0.136142</td>\n",
       "      <td>0.023139</td>\n",
       "      <td>-0.002475</td>\n",
       "      <td>-0.019728</td>\n",
       "      <td>-0.047895</td>\n",
       "      <td>-0.003002</td>\n",
       "      <td>0.057546</td>\n",
       "      <td>0.030167</td>\n",
       "      <td>-0.021886</td>\n",
       "      <td>-0.018322</td>\n",
       "      <td>0.014277</td>\n",
       "    </tr>\n",
       "    <tr>\n",
       "      <th>urban_flag</th>\n",
       "      <td>0.002058</td>\n",
       "      <td>0.009019</td>\n",
       "      <td>-0.119292</td>\n",
       "      <td>-0.006023</td>\n",
       "      <td>-0.046626</td>\n",
       "      <td>1.000000</td>\n",
       "      <td>-0.004093</td>\n",
       "      <td>-0.047373</td>\n",
       "      <td>0.012445</td>\n",
       "      <td>0.006034</td>\n",
       "      <td>-0.030009</td>\n",
       "      <td>0.015248</td>\n",
       "      <td>-0.003669</td>\n",
       "      <td>0.030740</td>\n",
       "      <td>-0.002985</td>\n",
       "      <td>0.004420</td>\n",
       "      <td>0.054391</td>\n",
       "    </tr>\n",
       "    <tr>\n",
       "      <th>franchise_flag</th>\n",
       "      <td>0.006517</td>\n",
       "      <td>0.036918</td>\n",
       "      <td>0.039258</td>\n",
       "      <td>0.082087</td>\n",
       "      <td>0.136142</td>\n",
       "      <td>-0.004093</td>\n",
       "      <td>1.000000</td>\n",
       "      <td>0.083507</td>\n",
       "      <td>-0.025324</td>\n",
       "      <td>-0.024066</td>\n",
       "      <td>-0.050921</td>\n",
       "      <td>-0.030901</td>\n",
       "      <td>0.202095</td>\n",
       "      <td>-0.032308</td>\n",
       "      <td>-0.015306</td>\n",
       "      <td>-0.042240</td>\n",
       "      <td>-0.011047</td>\n",
       "    </tr>\n",
       "    <tr>\n",
       "      <th>NC__0</th>\n",
       "      <td>0.023469</td>\n",
       "      <td>0.046083</td>\n",
       "      <td>-0.025117</td>\n",
       "      <td>0.167835</td>\n",
       "      <td>0.023139</td>\n",
       "      <td>-0.047373</td>\n",
       "      <td>0.083507</td>\n",
       "      <td>1.000000</td>\n",
       "      <td>-0.120268</td>\n",
       "      <td>-0.108310</td>\n",
       "      <td>-0.149443</td>\n",
       "      <td>-0.105386</td>\n",
       "      <td>-0.078544</td>\n",
       "      <td>-0.186407</td>\n",
       "      <td>-0.034656</td>\n",
       "      <td>-0.087268</td>\n",
       "      <td>-0.014612</td>\n",
       "    </tr>\n",
       "    <tr>\n",
       "      <th>NC__1</th>\n",
       "      <td>-0.001929</td>\n",
       "      <td>-0.014991</td>\n",
       "      <td>0.049489</td>\n",
       "      <td>0.000961</td>\n",
       "      <td>-0.002475</td>\n",
       "      <td>0.012445</td>\n",
       "      <td>-0.025324</td>\n",
       "      <td>-0.120268</td>\n",
       "      <td>1.000000</td>\n",
       "      <td>-0.129615</td>\n",
       "      <td>-0.178839</td>\n",
       "      <td>-0.126116</td>\n",
       "      <td>-0.093994</td>\n",
       "      <td>-0.223074</td>\n",
       "      <td>-0.041473</td>\n",
       "      <td>-0.104434</td>\n",
       "      <td>-0.048854</td>\n",
       "    </tr>\n",
       "    <tr>\n",
       "      <th>NC__2</th>\n",
       "      <td>-0.009150</td>\n",
       "      <td>-0.005393</td>\n",
       "      <td>-0.035680</td>\n",
       "      <td>-0.048201</td>\n",
       "      <td>-0.019728</td>\n",
       "      <td>0.006034</td>\n",
       "      <td>-0.024066</td>\n",
       "      <td>-0.108310</td>\n",
       "      <td>-0.129615</td>\n",
       "      <td>1.000000</td>\n",
       "      <td>-0.161058</td>\n",
       "      <td>-0.113576</td>\n",
       "      <td>-0.084648</td>\n",
       "      <td>-0.200894</td>\n",
       "      <td>-0.037349</td>\n",
       "      <td>-0.094050</td>\n",
       "      <td>0.039634</td>\n",
       "    </tr>\n",
       "    <tr>\n",
       "      <th>NC__3</th>\n",
       "      <td>0.023155</td>\n",
       "      <td>-0.009500</td>\n",
       "      <td>0.055988</td>\n",
       "      <td>0.090056</td>\n",
       "      <td>-0.047895</td>\n",
       "      <td>-0.030009</td>\n",
       "      <td>-0.050921</td>\n",
       "      <td>-0.149443</td>\n",
       "      <td>-0.178839</td>\n",
       "      <td>-0.161058</td>\n",
       "      <td>1.000000</td>\n",
       "      <td>-0.156709</td>\n",
       "      <td>-0.116795</td>\n",
       "      <td>-0.277188</td>\n",
       "      <td>-0.051533</td>\n",
       "      <td>-0.129768</td>\n",
       "      <td>-0.129417</td>\n",
       "    </tr>\n",
       "    <tr>\n",
       "      <th>NC__4</th>\n",
       "      <td>0.000260</td>\n",
       "      <td>-0.003376</td>\n",
       "      <td>0.028535</td>\n",
       "      <td>-0.013118</td>\n",
       "      <td>-0.003002</td>\n",
       "      <td>0.015248</td>\n",
       "      <td>-0.030901</td>\n",
       "      <td>-0.105386</td>\n",
       "      <td>-0.126116</td>\n",
       "      <td>-0.113576</td>\n",
       "      <td>-0.156709</td>\n",
       "      <td>1.000000</td>\n",
       "      <td>-0.082363</td>\n",
       "      <td>-0.195470</td>\n",
       "      <td>-0.036341</td>\n",
       "      <td>-0.091511</td>\n",
       "      <td>-0.015074</td>\n",
       "    </tr>\n",
       "    <tr>\n",
       "      <th>NC__5</th>\n",
       "      <td>0.006934</td>\n",
       "      <td>0.029813</td>\n",
       "      <td>-0.014907</td>\n",
       "      <td>0.015601</td>\n",
       "      <td>0.057546</td>\n",
       "      <td>-0.003669</td>\n",
       "      <td>0.202095</td>\n",
       "      <td>-0.078544</td>\n",
       "      <td>-0.093994</td>\n",
       "      <td>-0.084648</td>\n",
       "      <td>-0.116795</td>\n",
       "      <td>-0.082363</td>\n",
       "      <td>1.000000</td>\n",
       "      <td>-0.145683</td>\n",
       "      <td>-0.027085</td>\n",
       "      <td>-0.068203</td>\n",
       "      <td>0.009997</td>\n",
       "    </tr>\n",
       "    <tr>\n",
       "      <th>NC__6</th>\n",
       "      <td>-0.033227</td>\n",
       "      <td>-0.021167</td>\n",
       "      <td>-0.029313</td>\n",
       "      <td>-0.172300</td>\n",
       "      <td>0.030167</td>\n",
       "      <td>0.030740</td>\n",
       "      <td>-0.032308</td>\n",
       "      <td>-0.186407</td>\n",
       "      <td>-0.223074</td>\n",
       "      <td>-0.200894</td>\n",
       "      <td>-0.277188</td>\n",
       "      <td>-0.195470</td>\n",
       "      <td>-0.145683</td>\n",
       "      <td>1.000000</td>\n",
       "      <td>-0.064280</td>\n",
       "      <td>-0.161865</td>\n",
       "      <td>0.126983</td>\n",
       "    </tr>\n",
       "    <tr>\n",
       "      <th>NC__7</th>\n",
       "      <td>0.010418</td>\n",
       "      <td>0.005096</td>\n",
       "      <td>-0.010318</td>\n",
       "      <td>0.050113</td>\n",
       "      <td>-0.021886</td>\n",
       "      <td>-0.002985</td>\n",
       "      <td>-0.015306</td>\n",
       "      <td>-0.034656</td>\n",
       "      <td>-0.041473</td>\n",
       "      <td>-0.037349</td>\n",
       "      <td>-0.051533</td>\n",
       "      <td>-0.036341</td>\n",
       "      <td>-0.027085</td>\n",
       "      <td>-0.064280</td>\n",
       "      <td>1.000000</td>\n",
       "      <td>-0.030093</td>\n",
       "      <td>-0.017931</td>\n",
       "    </tr>\n",
       "    <tr>\n",
       "      <th>NC__8</th>\n",
       "      <td>-0.002176</td>\n",
       "      <td>-0.000937</td>\n",
       "      <td>-0.043137</td>\n",
       "      <td>0.005869</td>\n",
       "      <td>-0.018322</td>\n",
       "      <td>0.004420</td>\n",
       "      <td>-0.042240</td>\n",
       "      <td>-0.087268</td>\n",
       "      <td>-0.104434</td>\n",
       "      <td>-0.094050</td>\n",
       "      <td>-0.129768</td>\n",
       "      <td>-0.091511</td>\n",
       "      <td>-0.068203</td>\n",
       "      <td>-0.161865</td>\n",
       "      <td>-0.030093</td>\n",
       "      <td>1.000000</td>\n",
       "      <td>0.026707</td>\n",
       "    </tr>\n",
       "    <tr>\n",
       "      <th>target</th>\n",
       "      <td>-0.027838</td>\n",
       "      <td>-0.009540</td>\n",
       "      <td>-0.076836</td>\n",
       "      <td>-0.122857</td>\n",
       "      <td>0.014277</td>\n",
       "      <td>0.054391</td>\n",
       "      <td>-0.011047</td>\n",
       "      <td>-0.014612</td>\n",
       "      <td>-0.048854</td>\n",
       "      <td>0.039634</td>\n",
       "      <td>-0.129417</td>\n",
       "      <td>-0.015074</td>\n",
       "      <td>0.009997</td>\n",
       "      <td>0.126983</td>\n",
       "      <td>-0.017931</td>\n",
       "      <td>0.026707</td>\n",
       "      <td>1.000000</td>\n",
       "    </tr>\n",
       "  </tbody>\n",
       "</table>\n",
       "</div>"
      ],
      "text/plain": [
       "                      NoEmp  CreateJob    LowDoc  DisbursementGross  \\\n",
       "NoEmp              1.000000   0.052510 -0.009243           0.093125   \n",
       "CreateJob          0.052510   1.000000 -0.046967           0.101755   \n",
       "LowDoc            -0.009243  -0.046967  1.000000          -0.133731   \n",
       "DisbursementGross  0.093125   0.101755 -0.133731           1.000000   \n",
       "new_business      -0.038672   0.028831  0.154037          -0.067410   \n",
       "urban_flag         0.002058   0.009019 -0.119292          -0.006023   \n",
       "franchise_flag     0.006517   0.036918  0.039258           0.082087   \n",
       "NC__0              0.023469   0.046083 -0.025117           0.167835   \n",
       "NC__1             -0.001929  -0.014991  0.049489           0.000961   \n",
       "NC__2             -0.009150  -0.005393 -0.035680          -0.048201   \n",
       "NC__3              0.023155  -0.009500  0.055988           0.090056   \n",
       "NC__4              0.000260  -0.003376  0.028535          -0.013118   \n",
       "NC__5              0.006934   0.029813 -0.014907           0.015601   \n",
       "NC__6             -0.033227  -0.021167 -0.029313          -0.172300   \n",
       "NC__7              0.010418   0.005096 -0.010318           0.050113   \n",
       "NC__8             -0.002176  -0.000937 -0.043137           0.005869   \n",
       "target            -0.027838  -0.009540 -0.076836          -0.122857   \n",
       "\n",
       "                   new_business  urban_flag  franchise_flag     NC__0  \\\n",
       "NoEmp                 -0.038672    0.002058        0.006517  0.023469   \n",
       "CreateJob              0.028831    0.009019        0.036918  0.046083   \n",
       "LowDoc                 0.154037   -0.119292        0.039258 -0.025117   \n",
       "DisbursementGross     -0.067410   -0.006023        0.082087  0.167835   \n",
       "new_business           1.000000   -0.046626        0.136142  0.023139   \n",
       "urban_flag            -0.046626    1.000000       -0.004093 -0.047373   \n",
       "franchise_flag         0.136142   -0.004093        1.000000  0.083507   \n",
       "NC__0                  0.023139   -0.047373        0.083507  1.000000   \n",
       "NC__1                 -0.002475    0.012445       -0.025324 -0.120268   \n",
       "NC__2                 -0.019728    0.006034       -0.024066 -0.108310   \n",
       "NC__3                 -0.047895   -0.030009       -0.050921 -0.149443   \n",
       "NC__4                 -0.003002    0.015248       -0.030901 -0.105386   \n",
       "NC__5                  0.057546   -0.003669        0.202095 -0.078544   \n",
       "NC__6                  0.030167    0.030740       -0.032308 -0.186407   \n",
       "NC__7                 -0.021886   -0.002985       -0.015306 -0.034656   \n",
       "NC__8                 -0.018322    0.004420       -0.042240 -0.087268   \n",
       "target                 0.014277    0.054391       -0.011047 -0.014612   \n",
       "\n",
       "                      NC__1     NC__2     NC__3     NC__4     NC__5     NC__6  \\\n",
       "NoEmp             -0.001929 -0.009150  0.023155  0.000260  0.006934 -0.033227   \n",
       "CreateJob         -0.014991 -0.005393 -0.009500 -0.003376  0.029813 -0.021167   \n",
       "LowDoc             0.049489 -0.035680  0.055988  0.028535 -0.014907 -0.029313   \n",
       "DisbursementGross  0.000961 -0.048201  0.090056 -0.013118  0.015601 -0.172300   \n",
       "new_business      -0.002475 -0.019728 -0.047895 -0.003002  0.057546  0.030167   \n",
       "urban_flag         0.012445  0.006034 -0.030009  0.015248 -0.003669  0.030740   \n",
       "franchise_flag    -0.025324 -0.024066 -0.050921 -0.030901  0.202095 -0.032308   \n",
       "NC__0             -0.120268 -0.108310 -0.149443 -0.105386 -0.078544 -0.186407   \n",
       "NC__1              1.000000 -0.129615 -0.178839 -0.126116 -0.093994 -0.223074   \n",
       "NC__2             -0.129615  1.000000 -0.161058 -0.113576 -0.084648 -0.200894   \n",
       "NC__3             -0.178839 -0.161058  1.000000 -0.156709 -0.116795 -0.277188   \n",
       "NC__4             -0.126116 -0.113576 -0.156709  1.000000 -0.082363 -0.195470   \n",
       "NC__5             -0.093994 -0.084648 -0.116795 -0.082363  1.000000 -0.145683   \n",
       "NC__6             -0.223074 -0.200894 -0.277188 -0.195470 -0.145683  1.000000   \n",
       "NC__7             -0.041473 -0.037349 -0.051533 -0.036341 -0.027085 -0.064280   \n",
       "NC__8             -0.104434 -0.094050 -0.129768 -0.091511 -0.068203 -0.161865   \n",
       "target            -0.048854  0.039634 -0.129417 -0.015074  0.009997  0.126983   \n",
       "\n",
       "                      NC__7     NC__8    target  \n",
       "NoEmp              0.010418 -0.002176 -0.027838  \n",
       "CreateJob          0.005096 -0.000937 -0.009540  \n",
       "LowDoc            -0.010318 -0.043137 -0.076836  \n",
       "DisbursementGross  0.050113  0.005869 -0.122857  \n",
       "new_business      -0.021886 -0.018322  0.014277  \n",
       "urban_flag        -0.002985  0.004420  0.054391  \n",
       "franchise_flag    -0.015306 -0.042240 -0.011047  \n",
       "NC__0             -0.034656 -0.087268 -0.014612  \n",
       "NC__1             -0.041473 -0.104434 -0.048854  \n",
       "NC__2             -0.037349 -0.094050  0.039634  \n",
       "NC__3             -0.051533 -0.129768 -0.129417  \n",
       "NC__4             -0.036341 -0.091511 -0.015074  \n",
       "NC__5             -0.027085 -0.068203  0.009997  \n",
       "NC__6             -0.064280 -0.161865  0.126983  \n",
       "NC__7              1.000000 -0.030093 -0.017931  \n",
       "NC__8             -0.030093  1.000000  0.026707  \n",
       "target            -0.017931  0.026707  1.000000  "
      ]
     },
     "execution_count": 15,
     "metadata": {},
     "output_type": "execute_result"
    }
   ],
   "source": [
    "train_df[predictor_features + ['target']].corr()"
   ]
  },
  {
   "cell_type": "code",
   "execution_count": 16,
   "id": "1f8c475d-7ead-4f92-a19b-326343528f59",
   "metadata": {},
   "outputs": [],
   "source": [
    "with open(Path(setup.temp_path).joinpath('67_DATA_features_predict.pkl'), 'wb') as fout:\n",
    "    pickle.dump(predictor_features, fout)"
   ]
  },
  {
   "cell_type": "markdown",
   "id": "2b204a92-d109-4f6d-87a5-3d5dc05d2e5f",
   "metadata": {},
   "source": [
    "## Model Fit"
   ]
  },
  {
   "cell_type": "code",
   "execution_count": 17,
   "id": "c07828e0-5f5e-433f-9d96-fe78e9d668ff",
   "metadata": {},
   "outputs": [
    {
     "data": {
      "text/plain": [
       "{'subsample': 0.8,\n",
       " 'scale_pos_weight': 1.0,\n",
       " 'reg_lambda': 0.01,\n",
       " 'reg_alpha': 0.001,\n",
       " 'min_child_weight': 50,\n",
       " 'max_depth': 8,\n",
       " 'learning_rate': 0.1,\n",
       " 'gamma': 2}"
      ]
     },
     "execution_count": 17,
     "metadata": {},
     "output_type": "execute_result"
    }
   ],
   "source": [
    "best_params_df = pd.read_csv(Path(setup.temp_path).joinpath('03_REPORT_fit_parameter_selected.csv'))\n",
    "best_params = best_params_df.to_dict(orient='records')[0]\n",
    "best_params"
   ]
  },
  {
   "cell_type": "markdown",
   "id": "09bb1219-1d1e-432e-a2ca-be94168cf7ba",
   "metadata": {},
   "source": [
    "##### Fit using pre-determined parameters"
   ]
  },
  {
   "cell_type": "code",
   "execution_count": 18,
   "id": "3eeec4bc-9ca2-4d11-87b8-a81a7fa93383",
   "metadata": {},
   "outputs": [],
   "source": [
    "xgb_params = dict(best_params, \n",
    "                   **{'objective':\"binary:logistic\", 'n_estimators':setup.xgb_n_estimators})"
   ]
  },
  {
   "cell_type": "code",
   "execution_count": 19,
   "id": "7cb431ab-94aa-4922-8107-e97f0e50314f",
   "metadata": {},
   "outputs": [],
   "source": [
    "xgb_model = xgb.XGBClassifier(objective=\"binary:logistic\",\n",
    "                             n_estimators = setup.xgb_n_estimators)"
   ]
  },
  {
   "cell_type": "code",
   "execution_count": 20,
   "id": "1e17a637-89fd-4ee7-8e4f-a219133d2d75",
   "metadata": {},
   "outputs": [],
   "source": [
    "xgb_model = xgb_model.set_params(**xgb_params)"
   ]
  },
  {
   "cell_type": "code",
   "execution_count": 21,
   "id": "c3d7133b-075a-48a2-b9c8-c004dab7be61",
   "metadata": {},
   "outputs": [
    {
     "name": "stdout",
     "output_type": "stream",
     "text": [
      "[0]\tvalidation_0-logloss:0.49985\tvalidation_1-logloss:0.50267\n",
      "[1]\tvalidation_0-logloss:0.49357\tvalidation_1-logloss:0.49635\n",
      "[2]\tvalidation_0-logloss:0.48831\tvalidation_1-logloss:0.49104\n",
      "[3]\tvalidation_0-logloss:0.48385\tvalidation_1-logloss:0.48654\n",
      "[4]\tvalidation_0-logloss:0.47997\tvalidation_1-logloss:0.48262\n",
      "[5]\tvalidation_0-logloss:0.47668\tvalidation_1-logloss:0.47931\n",
      "[6]\tvalidation_0-logloss:0.47387\tvalidation_1-logloss:0.47648\n",
      "[7]\tvalidation_0-logloss:0.47127\tvalidation_1-logloss:0.47394\n",
      "[8]\tvalidation_0-logloss:0.46912\tvalidation_1-logloss:0.47182\n",
      "[9]\tvalidation_0-logloss:0.46729\tvalidation_1-logloss:0.47002\n",
      "[10]\tvalidation_0-logloss:0.46574\tvalidation_1-logloss:0.46848\n",
      "[11]\tvalidation_0-logloss:0.46429\tvalidation_1-logloss:0.46707\n",
      "[12]\tvalidation_0-logloss:0.46315\tvalidation_1-logloss:0.46594\n",
      "[13]\tvalidation_0-logloss:0.46214\tvalidation_1-logloss:0.46496\n",
      "[14]\tvalidation_0-logloss:0.46130\tvalidation_1-logloss:0.46412\n",
      "[15]\tvalidation_0-logloss:0.46054\tvalidation_1-logloss:0.46336\n",
      "[16]\tvalidation_0-logloss:0.45974\tvalidation_1-logloss:0.46262\n",
      "[17]\tvalidation_0-logloss:0.45916\tvalidation_1-logloss:0.46206\n",
      "[18]\tvalidation_0-logloss:0.45849\tvalidation_1-logloss:0.46144\n",
      "[19]\tvalidation_0-logloss:0.45799\tvalidation_1-logloss:0.46096\n",
      "[20]\tvalidation_0-logloss:0.45749\tvalidation_1-logloss:0.46054\n",
      "[21]\tvalidation_0-logloss:0.45715\tvalidation_1-logloss:0.46021\n",
      "[22]\tvalidation_0-logloss:0.45678\tvalidation_1-logloss:0.45988\n",
      "[23]\tvalidation_0-logloss:0.45649\tvalidation_1-logloss:0.45962\n",
      "[24]\tvalidation_0-logloss:0.45623\tvalidation_1-logloss:0.45939\n",
      "[25]\tvalidation_0-logloss:0.45602\tvalidation_1-logloss:0.45918\n",
      "[26]\tvalidation_0-logloss:0.45576\tvalidation_1-logloss:0.45894\n",
      "[27]\tvalidation_0-logloss:0.45560\tvalidation_1-logloss:0.45880\n",
      "[28]\tvalidation_0-logloss:0.45539\tvalidation_1-logloss:0.45861\n",
      "[29]\tvalidation_0-logloss:0.45523\tvalidation_1-logloss:0.45850\n"
     ]
    },
    {
     "data": {
      "text/html": [
       "<style>#sk-container-id-1 {color: black;}#sk-container-id-1 pre{padding: 0;}#sk-container-id-1 div.sk-toggleable {background-color: white;}#sk-container-id-1 label.sk-toggleable__label {cursor: pointer;display: block;width: 100%;margin-bottom: 0;padding: 0.3em;box-sizing: border-box;text-align: center;}#sk-container-id-1 label.sk-toggleable__label-arrow:before {content: \"▸\";float: left;margin-right: 0.25em;color: #696969;}#sk-container-id-1 label.sk-toggleable__label-arrow:hover:before {color: black;}#sk-container-id-1 div.sk-estimator:hover label.sk-toggleable__label-arrow:before {color: black;}#sk-container-id-1 div.sk-toggleable__content {max-height: 0;max-width: 0;overflow: hidden;text-align: left;background-color: #f0f8ff;}#sk-container-id-1 div.sk-toggleable__content pre {margin: 0.2em;color: black;border-radius: 0.25em;background-color: #f0f8ff;}#sk-container-id-1 input.sk-toggleable__control:checked~div.sk-toggleable__content {max-height: 200px;max-width: 100%;overflow: auto;}#sk-container-id-1 input.sk-toggleable__control:checked~label.sk-toggleable__label-arrow:before {content: \"▾\";}#sk-container-id-1 div.sk-estimator input.sk-toggleable__control:checked~label.sk-toggleable__label {background-color: #d4ebff;}#sk-container-id-1 div.sk-label input.sk-toggleable__control:checked~label.sk-toggleable__label {background-color: #d4ebff;}#sk-container-id-1 input.sk-hidden--visually {border: 0;clip: rect(1px 1px 1px 1px);clip: rect(1px, 1px, 1px, 1px);height: 1px;margin: -1px;overflow: hidden;padding: 0;position: absolute;width: 1px;}#sk-container-id-1 div.sk-estimator {font-family: monospace;background-color: #f0f8ff;border: 1px dotted black;border-radius: 0.25em;box-sizing: border-box;margin-bottom: 0.5em;}#sk-container-id-1 div.sk-estimator:hover {background-color: #d4ebff;}#sk-container-id-1 div.sk-parallel-item::after {content: \"\";width: 100%;border-bottom: 1px solid gray;flex-grow: 1;}#sk-container-id-1 div.sk-label:hover label.sk-toggleable__label {background-color: #d4ebff;}#sk-container-id-1 div.sk-serial::before {content: \"\";position: absolute;border-left: 1px solid gray;box-sizing: border-box;top: 0;bottom: 0;left: 50%;z-index: 0;}#sk-container-id-1 div.sk-serial {display: flex;flex-direction: column;align-items: center;background-color: white;padding-right: 0.2em;padding-left: 0.2em;position: relative;}#sk-container-id-1 div.sk-item {position: relative;z-index: 1;}#sk-container-id-1 div.sk-parallel {display: flex;align-items: stretch;justify-content: center;background-color: white;position: relative;}#sk-container-id-1 div.sk-item::before, #sk-container-id-1 div.sk-parallel-item::before {content: \"\";position: absolute;border-left: 1px solid gray;box-sizing: border-box;top: 0;bottom: 0;left: 50%;z-index: -1;}#sk-container-id-1 div.sk-parallel-item {display: flex;flex-direction: column;z-index: 1;position: relative;background-color: white;}#sk-container-id-1 div.sk-parallel-item:first-child::after {align-self: flex-end;width: 50%;}#sk-container-id-1 div.sk-parallel-item:last-child::after {align-self: flex-start;width: 50%;}#sk-container-id-1 div.sk-parallel-item:only-child::after {width: 0;}#sk-container-id-1 div.sk-dashed-wrapped {border: 1px dashed gray;margin: 0 0.4em 0.5em 0.4em;box-sizing: border-box;padding-bottom: 0.4em;background-color: white;}#sk-container-id-1 div.sk-label label {font-family: monospace;font-weight: bold;display: inline-block;line-height: 1.2em;}#sk-container-id-1 div.sk-label-container {text-align: center;}#sk-container-id-1 div.sk-container {/* jupyter's `normalize.less` sets `[hidden] { display: none; }` but bootstrap.min.css set `[hidden] { display: none !important; }` so we also need the `!important` here to be able to override the default hidden behavior on the sphinx rendered scikit-learn.org. See: https://github.com/scikit-learn/scikit-learn/issues/21755 */display: inline-block !important;position: relative;}#sk-container-id-1 div.sk-text-repr-fallback {display: none;}</style><div id=\"sk-container-id-1\" class=\"sk-top-container\"><div class=\"sk-text-repr-fallback\"><pre>XGBClassifier(base_score=None, booster=None, callbacks=None,\n",
       "              colsample_bylevel=None, colsample_bynode=None,\n",
       "              colsample_bytree=None, device=None, early_stopping_rounds=None,\n",
       "              enable_categorical=False, eval_metric=None, feature_types=None,\n",
       "              gamma=2, grow_policy=None, importance_type=None,\n",
       "              interaction_constraints=None, learning_rate=0.1, max_bin=None,\n",
       "              max_cat_threshold=None, max_cat_to_onehot=None,\n",
       "              max_delta_step=None, max_depth=8, max_leaves=None,\n",
       "              min_child_weight=50, missing=nan, monotone_constraints=None,\n",
       "              multi_strategy=None, n_estimators=30, n_jobs=None,\n",
       "              num_parallel_tree=None, random_state=None, ...)</pre><b>In a Jupyter environment, please rerun this cell to show the HTML representation or trust the notebook. <br />On GitHub, the HTML representation is unable to render, please try loading this page with nbviewer.org.</b></div><div class=\"sk-container\" hidden><div class=\"sk-item\"><div class=\"sk-estimator sk-toggleable\"><input class=\"sk-toggleable__control sk-hidden--visually\" id=\"sk-estimator-id-1\" type=\"checkbox\" checked><label for=\"sk-estimator-id-1\" class=\"sk-toggleable__label sk-toggleable__label-arrow\">XGBClassifier</label><div class=\"sk-toggleable__content\"><pre>XGBClassifier(base_score=None, booster=None, callbacks=None,\n",
       "              colsample_bylevel=None, colsample_bynode=None,\n",
       "              colsample_bytree=None, device=None, early_stopping_rounds=None,\n",
       "              enable_categorical=False, eval_metric=None, feature_types=None,\n",
       "              gamma=2, grow_policy=None, importance_type=None,\n",
       "              interaction_constraints=None, learning_rate=0.1, max_bin=None,\n",
       "              max_cat_threshold=None, max_cat_to_onehot=None,\n",
       "              max_delta_step=None, max_depth=8, max_leaves=None,\n",
       "              min_child_weight=50, missing=nan, monotone_constraints=None,\n",
       "              multi_strategy=None, n_estimators=30, n_jobs=None,\n",
       "              num_parallel_tree=None, random_state=None, ...)</pre></div></div></div></div></div>"
      ],
      "text/plain": [
       "XGBClassifier(base_score=None, booster=None, callbacks=None,\n",
       "              colsample_bylevel=None, colsample_bynode=None,\n",
       "              colsample_bytree=None, device=None, early_stopping_rounds=None,\n",
       "              enable_categorical=False, eval_metric=None, feature_types=None,\n",
       "              gamma=2, grow_policy=None, importance_type=None,\n",
       "              interaction_constraints=None, learning_rate=0.1, max_bin=None,\n",
       "              max_cat_threshold=None, max_cat_to_onehot=None,\n",
       "              max_delta_step=None, max_depth=8, max_leaves=None,\n",
       "              min_child_weight=50, missing=nan, monotone_constraints=None,\n",
       "              multi_strategy=None, n_estimators=30, n_jobs=None,\n",
       "              num_parallel_tree=None, random_state=None, ...)"
      ]
     },
     "execution_count": 21,
     "metadata": {},
     "output_type": "execute_result"
    }
   ],
   "source": [
    "xgb_model.fit(train_df[predictor_features], train_df['target'],\n",
    "              eval_set = [(train_df[predictor_features], train_df['target']),\n",
    "                         (val_df[predictor_features], val_df['target'])])"
   ]
  },
  {
   "cell_type": "markdown",
   "id": "0913a102-a730-4b94-9977-e584df764d64",
   "metadata": {},
   "source": [
    "##### Save the model"
   ]
  },
  {
   "cell_type": "code",
   "execution_count": 22,
   "id": "af21dd7c-09d4-407f-9960-0748ba8f2247",
   "metadata": {},
   "outputs": [],
   "source": [
    "xgb_model.save_model(Path(setup.temp_path).joinpath('67_MODEL_xgboost.json'))"
   ]
  },
  {
   "cell_type": "code",
   "execution_count": 23,
   "id": "8e5d3e7d-0bd5-4252-b287-c9cc65f7a132",
   "metadata": {},
   "outputs": [],
   "source": [
    "with open(Path(setup.temp_path).joinpath('67_MODEL_xgboost.pkl'), 'wb') as po:\n",
    "    pickle.dump(xgb_model, po)"
   ]
  },
  {
   "cell_type": "markdown",
   "id": "f34ad059-70dc-4672-adff-0d961fc74b07",
   "metadata": {},
   "source": [
    "## Probability Predictions"
   ]
  },
  {
   "cell_type": "code",
   "execution_count": 24,
   "id": "6a7c8509-0109-4f8e-a466-d6e21164012c",
   "metadata": {},
   "outputs": [],
   "source": [
    "pred_df = pd.concat([sba_loans[['LoanNr_ChkDgt', 'dset', 'target', 'dset_naics_holdout']].reset_index(),\n",
    "                     pd.DataFrame({'predict_prob':\n",
    "                                   xgb_model.predict_proba(sba_loans[predictor_features])[:,1]})],\n",
    "                    axis=1) \\\n",
    "    .set_index('index')"
   ]
  },
  {
   "cell_type": "code",
   "execution_count": 25,
   "id": "7084012d-b68a-4ca4-b714-160f8d564500",
   "metadata": {},
   "outputs": [
    {
     "data": {
      "text/html": [
       "<div>\n",
       "<style scoped>\n",
       "    .dataframe tbody tr th:only-of-type {\n",
       "        vertical-align: middle;\n",
       "    }\n",
       "\n",
       "    .dataframe tbody tr th {\n",
       "        vertical-align: top;\n",
       "    }\n",
       "\n",
       "    .dataframe thead th {\n",
       "        text-align: right;\n",
       "    }\n",
       "</style>\n",
       "<table border=\"1\" class=\"dataframe\">\n",
       "  <thead>\n",
       "    <tr style=\"text-align: right;\">\n",
       "      <th></th>\n",
       "      <th>mean</th>\n",
       "      <th>std</th>\n",
       "      <th>min</th>\n",
       "      <th>max</th>\n",
       "      <th>median</th>\n",
       "    </tr>\n",
       "    <tr>\n",
       "      <th>target</th>\n",
       "      <th></th>\n",
       "      <th></th>\n",
       "      <th></th>\n",
       "      <th></th>\n",
       "      <th></th>\n",
       "    </tr>\n",
       "  </thead>\n",
       "  <tbody>\n",
       "    <tr>\n",
       "      <th>0</th>\n",
       "      <td>0.186872</td>\n",
       "      <td>0.107894</td>\n",
       "      <td>0.016585</td>\n",
       "      <td>0.648356</td>\n",
       "      <td>0.181791</td>\n",
       "    </tr>\n",
       "    <tr>\n",
       "      <th>1</th>\n",
       "      <td>0.270396</td>\n",
       "      <td>0.094401</td>\n",
       "      <td>0.016585</td>\n",
       "      <td>0.648356</td>\n",
       "      <td>0.284890</td>\n",
       "    </tr>\n",
       "  </tbody>\n",
       "</table>\n",
       "</div>"
      ],
      "text/plain": [
       "            mean       std       min       max    median\n",
       "target                                                  \n",
       "0       0.186872  0.107894  0.016585  0.648356  0.181791\n",
       "1       0.270396  0.094401  0.016585  0.648356  0.284890"
      ]
     },
     "execution_count": 25,
     "metadata": {},
     "output_type": "execute_result"
    }
   ],
   "source": [
    "pred_df.groupby('target')['predict_prob'].agg(['mean', 'std', 'min', 'max', 'median'])"
   ]
  },
  {
   "cell_type": "markdown",
   "id": "d33cb4dc-6c89-4a37-98c7-d3a666abc4a5",
   "metadata": {},
   "source": [
    "## Decision Threshold\n",
    "Max f1, on training data"
   ]
  },
  {
   "cell_type": "code",
   "execution_count": 26,
   "id": "d7727498-825f-4f53-882f-cfcce730b1fc",
   "metadata": {},
   "outputs": [],
   "source": [
    "pred_train_df = pred_df[pred_df['dset'] == 'train']"
   ]
  },
  {
   "cell_type": "code",
   "execution_count": 27,
   "id": "7b553798-eead-48f8-b14b-5f036d9183d9",
   "metadata": {},
   "outputs": [],
   "source": [
    "thresh_tune_data = sg_plot.get_f1_frame(pred_train_df['target'], \n",
    "                                        pred_train_df['predict_prob'])"
   ]
  },
  {
   "cell_type": "code",
   "execution_count": 28,
   "id": "7a1cde01-a30b-475f-8fd7-409b13946c6d",
   "metadata": {},
   "outputs": [],
   "source": [
    "thresh_tune_data.to_csv(Path(setup.temp_path).joinpath('67_REPORT_thresh_tune.csv'), index=False)"
   ]
  },
  {
   "cell_type": "code",
   "execution_count": 29,
   "id": "947a487c-e71d-433c-bbf0-2ed7e57a908a",
   "metadata": {},
   "outputs": [
    {
     "name": "stdout",
     "output_type": "stream",
     "text": [
      "0.22\n"
     ]
    },
    {
     "data": {
      "text/html": [
       "<div>\n",
       "<style scoped>\n",
       "    .dataframe tbody tr th:only-of-type {\n",
       "        vertical-align: middle;\n",
       "    }\n",
       "\n",
       "    .dataframe tbody tr th {\n",
       "        vertical-align: top;\n",
       "    }\n",
       "\n",
       "    .dataframe thead th {\n",
       "        text-align: right;\n",
       "    }\n",
       "</style>\n",
       "<table border=\"1\" class=\"dataframe\">\n",
       "  <thead>\n",
       "    <tr style=\"text-align: right;\">\n",
       "      <th></th>\n",
       "      <th>thresh</th>\n",
       "      <th>f1</th>\n",
       "    </tr>\n",
       "  </thead>\n",
       "  <tbody>\n",
       "    <tr>\n",
       "      <th>11</th>\n",
       "      <td>0.22</td>\n",
       "      <td>0.438030</td>\n",
       "    </tr>\n",
       "    <tr>\n",
       "      <th>12</th>\n",
       "      <td>0.24</td>\n",
       "      <td>0.437312</td>\n",
       "    </tr>\n",
       "  </tbody>\n",
       "</table>\n",
       "</div>"
      ],
      "text/plain": [
       "    thresh        f1\n",
       "11    0.22  0.438030\n",
       "12    0.24  0.437312"
      ]
     },
     "execution_count": 29,
     "metadata": {},
     "output_type": "execute_result"
    }
   ],
   "source": [
    "thresh_head = thresh_tune_data.sort_values('f1', ascending=False).head(2)\n",
    "best_thresh = thresh_head['thresh'].iloc[0]\n",
    "print(best_thresh)\n",
    "thresh_head"
   ]
  },
  {
   "cell_type": "markdown",
   "id": "1ee5330e-c1a7-4310-afbe-be9bc0d26f43",
   "metadata": {},
   "source": [
    "##### Apply decision threshold\n",
    "All datasets"
   ]
  },
  {
   "cell_type": "code",
   "execution_count": 30,
   "id": "f0d4c1cf-6d5b-49e9-9123-a067697a9e39",
   "metadata": {},
   "outputs": [],
   "source": [
    "pred_df['predict_bin'] = np.where(pred_df['predict_prob'] >= best_thresh, 1, 0)"
   ]
  },
  {
   "cell_type": "code",
   "execution_count": 31,
   "id": "8253c32c-0438-47b9-8570-7cde6f7f5590",
   "metadata": {},
   "outputs": [
    {
     "data": {
      "text/plain": [
       "predict_bin\n",
       "0    360081\n",
       "1    328000\n",
       "Name: count, dtype: int64"
      ]
     },
     "execution_count": 31,
     "metadata": {},
     "output_type": "execute_result"
    }
   ],
   "source": [
    "pred_df['predict_bin'].value_counts()"
   ]
  },
  {
   "cell_type": "code",
   "execution_count": 32,
   "id": "dbb46f4a-a5ef-4fd6-9da4-30de4a00334d",
   "metadata": {},
   "outputs": [],
   "source": [
    "pred_df.to_parquet(Path(setup.temp_path).joinpath('67_DATA_combined_predictions.parquet'))"
   ]
  },
  {
   "cell_type": "markdown",
   "id": "0ab860d0-eddc-4f63-b853-88da15d451f4",
   "metadata": {},
   "source": [
    "## Metrics"
   ]
  },
  {
   "cell_type": "code",
   "execution_count": 33,
   "id": "f2801964-124e-425f-b4cb-9bcf1cf3f04a",
   "metadata": {},
   "outputs": [
    {
     "data": {
      "text/html": [
       "<div>\n",
       "<style scoped>\n",
       "    .dataframe tbody tr th:only-of-type {\n",
       "        vertical-align: middle;\n",
       "    }\n",
       "\n",
       "    .dataframe tbody tr th {\n",
       "        vertical-align: top;\n",
       "    }\n",
       "\n",
       "    .dataframe thead th {\n",
       "        text-align: right;\n",
       "    }\n",
       "</style>\n",
       "<table border=\"1\" class=\"dataframe\">\n",
       "  <thead>\n",
       "    <tr style=\"text-align: right;\">\n",
       "      <th></th>\n",
       "      <th>dset</th>\n",
       "      <th>accuracy_score</th>\n",
       "      <th>f1_score</th>\n",
       "      <th>precision_score</th>\n",
       "      <th>recall_score</th>\n",
       "      <th>average_precision_score</th>\n",
       "      <th>roc_auc_score</th>\n",
       "      <th>dset_naics_holdout</th>\n",
       "    </tr>\n",
       "  </thead>\n",
       "  <tbody>\n",
       "    <tr>\n",
       "      <th>0</th>\n",
       "      <td>test</td>\n",
       "      <td>0.620377</td>\n",
       "      <td>0.434766</td>\n",
       "      <td>0.309905</td>\n",
       "      <td>0.728133</td>\n",
       "      <td>0.358442</td>\n",
       "      <td>0.716996</td>\n",
       "      <td>NaN</td>\n",
       "    </tr>\n",
       "    <tr>\n",
       "      <th>1</th>\n",
       "      <td>train</td>\n",
       "      <td>0.617184</td>\n",
       "      <td>0.438030</td>\n",
       "      <td>0.312037</td>\n",
       "      <td>0.734678</td>\n",
       "      <td>0.361098</td>\n",
       "      <td>0.716837</td>\n",
       "      <td>NaN</td>\n",
       "    </tr>\n",
       "    <tr>\n",
       "      <th>2</th>\n",
       "      <td>val</td>\n",
       "      <td>0.618346</td>\n",
       "      <td>0.441508</td>\n",
       "      <td>0.315690</td>\n",
       "      <td>0.734075</td>\n",
       "      <td>0.361321</td>\n",
       "      <td>0.715481</td>\n",
       "      <td>NaN</td>\n",
       "    </tr>\n",
       "    <tr>\n",
       "      <th>0</th>\n",
       "      <td>test</td>\n",
       "      <td>0.616756</td>\n",
       "      <td>0.437073</td>\n",
       "      <td>0.311850</td>\n",
       "      <td>0.730341</td>\n",
       "      <td>0.361347</td>\n",
       "      <td>0.715041</td>\n",
       "      <td>0.0</td>\n",
       "    </tr>\n",
       "    <tr>\n",
       "      <th>1</th>\n",
       "      <td>test</td>\n",
       "      <td>0.631584</td>\n",
       "      <td>0.427212</td>\n",
       "      <td>0.303561</td>\n",
       "      <td>0.720831</td>\n",
       "      <td>0.348755</td>\n",
       "      <td>0.722276</td>\n",
       "      <td>1.0</td>\n",
       "    </tr>\n",
       "  </tbody>\n",
       "</table>\n",
       "</div>"
      ],
      "text/plain": [
       "    dset  accuracy_score  f1_score  precision_score  recall_score  \\\n",
       "0   test        0.620377  0.434766         0.309905      0.728133   \n",
       "1  train        0.617184  0.438030         0.312037      0.734678   \n",
       "2    val        0.618346  0.441508         0.315690      0.734075   \n",
       "0   test        0.616756  0.437073         0.311850      0.730341   \n",
       "1   test        0.631584  0.427212         0.303561      0.720831   \n",
       "\n",
       "   average_precision_score  roc_auc_score  dset_naics_holdout  \n",
       "0                 0.358442       0.716996                 NaN  \n",
       "1                 0.361098       0.716837                 NaN  \n",
       "2                 0.361321       0.715481                 NaN  \n",
       "0                 0.361347       0.715041                 0.0  \n",
       "1                 0.348755       0.722276                 1.0  "
      ]
     },
     "execution_count": 33,
     "metadata": {},
     "output_type": "execute_result"
    }
   ],
   "source": [
    "metrics_dset_df = pred_df.groupby('dset') \\\n",
    "    .apply(lambda x: sg_plot.dset_metrics(x.target, x.predict_bin, x.predict_prob)) \\\n",
    "    .reset_index()\n",
    "metrics_test_df = pred_df[pred_df['dset'] == 'test'] \\\n",
    "    .groupby(['dset', 'dset_naics_holdout']) \\\n",
    "    .apply(lambda x: sg_plot.dset_metrics(x.target, x.predict_bin, x.predict_prob)) \\\n",
    "    .reset_index()\n",
    "metrics_df = pd.concat([metrics_dset_df, metrics_test_df])\n",
    "metrics_df.to_csv(Path(setup.temp_path).joinpath('67_REPORT_metrics.csv'), index=True)\n",
    "metrics_df"
   ]
  },
  {
   "cell_type": "markdown",
   "id": "3d906270-4264-4b0b-9f50-dcef8f75a5fd",
   "metadata": {},
   "source": [
    "## Lift\n",
    "Test data"
   ]
  },
  {
   "cell_type": "code",
   "execution_count": 34,
   "id": "82d9c0ab-8989-450d-a2b1-7997ca636052",
   "metadata": {
    "tags": []
   },
   "outputs": [],
   "source": [
    "pred_test_df = pred_df[pred_df['dset'] == 'test']"
   ]
  },
  {
   "cell_type": "code",
   "execution_count": 35,
   "id": "c01f5279-1151-4a8d-9b21-e12d4092f3c1",
   "metadata": {},
   "outputs": [
    {
     "data": {
      "image/png": "[encoded data removed]",
      "text/plain": [
       "<Figure size 400x300 with 1 Axes>"
      ]
     },
     "metadata": {},
     "output_type": "display_data"
    }
   ],
   "source": [
    "plot_lift_curve(pred_test_df['target'], \n",
    "                pd.concat([1-pred_test_df['predict_prob'], pred_test_df['predict_prob']], axis=1), \n",
    "                title='Lift Curve', ax=None, figsize=(4,3), \n",
    "                title_fontsize='large', text_fontsize='medium')\n",
    "plt.gca().legend(loc='upper right')\n",
    "plt.gcf().savefig(Path(setup.temp_path).joinpath('67_PLOT_lift_curve.png'),bbox_inches='tight')"
   ]
  },
  {
   "cell_type": "markdown",
   "id": "04994f41-3c98-412a-bb2f-11e5ae22b432",
   "metadata": {},
   "source": [
    "## Feature Importance "
   ]
  },
  {
   "cell_type": "markdown",
   "id": "926af7df-e407-484b-bd86-ae7d76a46392",
   "metadata": {},
   "source": [
    "##### XGBoost gain"
   ]
  },
  {
   "cell_type": "code",
   "execution_count": 36,
   "id": "ec3f6e1f-2b29-4b46-ac12-7a8451a3a45b",
   "metadata": {},
   "outputs": [],
   "source": [
    "feat_impgain = pd.DataFrame(xgb_model.get_booster().get_score(importance_type='gain'),\n",
    "                                     index=['importance']).T \\\n",
    "    .sort_values('importance', ascending=False)"
   ]
  },
  {
   "cell_type": "code",
   "execution_count": 37,
   "id": "9586c637-7add-4401-b61c-37abd55b11b4",
   "metadata": {},
   "outputs": [],
   "source": [
    "feat_impgain.to_csv(Path(setup.temp_path).joinpath('67_REPORT_importance_gain.csv'), index=True)"
   ]
  },
  {
   "cell_type": "code",
   "execution_count": 38,
   "id": "311e111f-d8e5-4a52-8adc-6a7c5f9daa8f",
   "metadata": {},
   "outputs": [
    {
     "data": {
      "text/html": [
       "<div>\n",
       "<style scoped>\n",
       "    .dataframe tbody tr th:only-of-type {\n",
       "        vertical-align: middle;\n",
       "    }\n",
       "\n",
       "    .dataframe tbody tr th {\n",
       "        vertical-align: top;\n",
       "    }\n",
       "\n",
       "    .dataframe thead th {\n",
       "        text-align: right;\n",
       "    }\n",
       "</style>\n",
       "<table border=\"1\" class=\"dataframe\">\n",
       "  <thead>\n",
       "    <tr style=\"text-align: right;\">\n",
       "      <th></th>\n",
       "      <th>importance</th>\n",
       "    </tr>\n",
       "  </thead>\n",
       "  <tbody>\n",
       "    <tr>\n",
       "      <th>urban_flag</th>\n",
       "      <td>659.698181</td>\n",
       "    </tr>\n",
       "    <tr>\n",
       "      <th>LowDoc</th>\n",
       "      <td>111.677612</td>\n",
       "    </tr>\n",
       "    <tr>\n",
       "      <th>DisbursementGross</th>\n",
       "      <td>71.017113</td>\n",
       "    </tr>\n",
       "    <tr>\n",
       "      <th>NC__6</th>\n",
       "      <td>59.049049</td>\n",
       "    </tr>\n",
       "    <tr>\n",
       "      <th>NC__3</th>\n",
       "      <td>32.962017</td>\n",
       "    </tr>\n",
       "  </tbody>\n",
       "</table>\n",
       "</div>"
      ],
      "text/plain": [
       "                   importance\n",
       "urban_flag         659.698181\n",
       "LowDoc             111.677612\n",
       "DisbursementGross   71.017113\n",
       "NC__6               59.049049\n",
       "NC__3               32.962017"
      ]
     },
     "execution_count": 38,
     "metadata": {},
     "output_type": "execute_result"
    }
   ],
   "source": [
    "feat_impgain.head()"
   ]
  },
  {
   "cell_type": "code",
   "execution_count": 39,
   "id": "9c88564a-7289-4c49-b2cd-b97338d1b042",
   "metadata": {},
   "outputs": [
    {
     "data": {
      "image/png": "[encoded data removed]",
      "text/plain": [
       "<Figure size 640x480 with 1 Axes>"
      ]
     },
     "metadata": {},
     "output_type": "display_data"
    }
   ],
   "source": [
    "feat_impgain.plot(kind='barh', legend=None)\n",
    "plt.gca().invert_yaxis()\n",
    "plt.xlabel('gain importance')\n",
    "plt.gcf().savefig(Path(setup.temp_path).joinpath('67_PLOT_importance_gain.png'))"
   ]
  },
  {
   "cell_type": "markdown",
   "id": "27e5fb90-f305-40ff-acaf-285d7d056c15",
   "metadata": {},
   "source": [
    "##### Permutation Importance"
   ]
  },
  {
   "cell_type": "code",
   "execution_count": 40,
   "id": "e2c1c123-20d0-423d-b684-585c0a5d6d2b",
   "metadata": {},
   "outputs": [],
   "source": [
    "perm_importance = permutation_importance(xgb_model, \n",
    "                                         train_df[predictor_features],  train_df['target'],\n",
    "                                         n_repeats=30, scoring = 'average_precision')"
   ]
  },
  {
   "cell_type": "code",
   "execution_count": 41,
   "id": "ab0df42e-af4e-46b1-b0cf-630877137678",
   "metadata": {},
   "outputs": [],
   "source": [
    "perm_importance_df = pd.DataFrame({'features':predictor_features,\n",
    "                                   'importance': perm_importance['importances_mean']}) \n",
    "perm_importance_df['abs_importance'] = np.abs(perm_importance_df['importance'])\n",
    "perm_importance_df = perm_importance_df.sort_values('abs_importance', ascending=False)"
   ]
  },
  {
   "cell_type": "code",
   "execution_count": 42,
   "id": "0cbc5d84-6775-404f-a685-44f5be5cd481",
   "metadata": {},
   "outputs": [
    {
     "data": {
      "text/html": [
       "<div>\n",
       "<style scoped>\n",
       "    .dataframe tbody tr th:only-of-type {\n",
       "        vertical-align: middle;\n",
       "    }\n",
       "\n",
       "    .dataframe tbody tr th {\n",
       "        vertical-align: top;\n",
       "    }\n",
       "\n",
       "    .dataframe thead th {\n",
       "        text-align: right;\n",
       "    }\n",
       "</style>\n",
       "<table border=\"1\" class=\"dataframe\">\n",
       "  <thead>\n",
       "    <tr style=\"text-align: right;\">\n",
       "      <th></th>\n",
       "      <th>features</th>\n",
       "      <th>importance</th>\n",
       "      <th>abs_importance</th>\n",
       "    </tr>\n",
       "  </thead>\n",
       "  <tbody>\n",
       "    <tr>\n",
       "      <th>3</th>\n",
       "      <td>DisbursementGross</td>\n",
       "      <td>0.078814</td>\n",
       "      <td>0.078814</td>\n",
       "    </tr>\n",
       "    <tr>\n",
       "      <th>5</th>\n",
       "      <td>urban_flag</td>\n",
       "      <td>0.039262</td>\n",
       "      <td>0.039262</td>\n",
       "    </tr>\n",
       "    <tr>\n",
       "      <th>1</th>\n",
       "      <td>CreateJob</td>\n",
       "      <td>0.028322</td>\n",
       "      <td>0.028322</td>\n",
       "    </tr>\n",
       "    <tr>\n",
       "      <th>2</th>\n",
       "      <td>LowDoc</td>\n",
       "      <td>0.015057</td>\n",
       "      <td>0.015057</td>\n",
       "    </tr>\n",
       "    <tr>\n",
       "      <th>13</th>\n",
       "      <td>NC__6</td>\n",
       "      <td>0.012963</td>\n",
       "      <td>0.012963</td>\n",
       "    </tr>\n",
       "  </tbody>\n",
       "</table>\n",
       "</div>"
      ],
      "text/plain": [
       "             features  importance  abs_importance\n",
       "3   DisbursementGross    0.078814        0.078814\n",
       "5          urban_flag    0.039262        0.039262\n",
       "1           CreateJob    0.028322        0.028322\n",
       "2              LowDoc    0.015057        0.015057\n",
       "13              NC__6    0.012963        0.012963"
      ]
     },
     "execution_count": 42,
     "metadata": {},
     "output_type": "execute_result"
    }
   ],
   "source": [
    "perm_importance_df.head(5)"
   ]
  },
  {
   "cell_type": "code",
   "execution_count": 43,
   "id": "38059608-2f72-491f-86b3-0c1418b83531",
   "metadata": {},
   "outputs": [],
   "source": [
    "perm_importance_df \\\n",
    "    .to_csv(Path(setup.temp_path).joinpath('67_DATA_importance_perturb.csv'),\n",
    "            index=False)"
   ]
  },
  {
   "cell_type": "code",
   "execution_count": 44,
   "id": "c27499c8-065b-4143-a7dc-bce301bf3edf",
   "metadata": {},
   "outputs": [
    {
     "data": {
      "image/png": "[encoded data removed]",
      "text/plain": [
       "<Figure size 640x480 with 1 Axes>"
      ]
     },
     "metadata": {},
     "output_type": "display_data"
    }
   ],
   "source": [
    "perm_importance_df.head(10).plot(kind='barh', x='features', y='importance', legend=None)\n",
    "plt.gca().invert_yaxis()\n",
    "plt.xlabel('permutation importance')\n",
    "plt.ylabel(None)\n",
    "plt.gcf().savefig(Path(setup.temp_path).joinpath('67_PLOT_importance_perturb.png'))"
   ]
  },
  {
   "cell_type": "markdown",
   "id": "6fd44a7c-bcf5-4284-8b9f-b575fa523ff3",
   "metadata": {},
   "source": [
    "## PDP Plot - One Hot"
   ]
  },
  {
   "cell_type": "code",
   "execution_count": 45,
   "id": "0f5a4774-bf8b-4c7f-9003-e1bcb4c101f8",
   "metadata": {},
   "outputs": [],
   "source": [
    "naics_features = list(train_df.filter(like='NC_').columns)"
   ]
  },
  {
   "cell_type": "code",
   "execution_count": 46,
   "id": "730411c5-81d3-4911-ad8f-8743dc1617e4",
   "metadata": {},
   "outputs": [],
   "source": [
    "plt.close()"
   ]
  },
  {
   "cell_type": "code",
   "execution_count": 47,
   "id": "85ab4bf4-0f82-4121-842d-fd22164982cd",
   "metadata": {},
   "outputs": [
    {
     "data": {
      "image/png": "[encoded data removed]",
      "text/plain": [
       "<Figure size 600x900 with 10 Axes>"
      ]
     },
     "metadata": {},
     "output_type": "display_data"
    }
   ],
   "source": [
    "fig, ax = plt.subplots(int(np.ceil(len(naics_features)/2)), 2, sharex=True, sharey=True, figsize=(6, 9))\n",
    "for i in range(len(naics_features)):\n",
    "    col = int(i % 2)\n",
    "    row = int(np.floor(i / 2))\n",
    "    results = partial_dependence(xgb_model, train_df[predictor_features], \n",
    "                                 [naics_features[i]])\n",
    "    pdp_df = pd.DataFrame({'grid_values':results[\"grid_values\"][0],\n",
    "                       'pdp':results[\"average\"][0]})\n",
    "    pdp_df.plot(x='grid_values', y='pdp', legend=None, ax=ax[row, col])\n",
    "\n",
    "fig.tight_layout()\n",
    "fig.savefig(Path(setup.temp_path).joinpath('67_PLOT_pdp_naics_onehot.png'),\n",
    "               bbox_inches='tight')\n",
    "plt.show()"
   ]
  },
  {
   "cell_type": "code",
   "execution_count": null,
   "id": "00f5a81f-7075-42bf-a660-88944a1298b5",
   "metadata": {},
   "outputs": [],
   "source": []
  },
  {
   "cell_type": "code",
   "execution_count": null,
   "id": "7687bacc-ac2c-4665-bcc0-58126b967dfa",
   "metadata": {},
   "outputs": [],
   "source": []
  }
 ],
 "metadata": {
  "kernelspec": {
   "display_name": "tf_p39",
   "language": "python",
   "name": "tf_p39"
  },
  "language_info": {
   "codemirror_mode": {
    "name": "ipython",
    "version": 3
   },
   "file_extension": ".py",
   "mimetype": "text/x-python",
   "name": "python",
   "nbconvert_exporter": "python",
   "pygments_lexer": "ipython3",
   "version": "3.8.18"
  }
 },
 "nbformat": 4,
 "nbformat_minor": 5
}
