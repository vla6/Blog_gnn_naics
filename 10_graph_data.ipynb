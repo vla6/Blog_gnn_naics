{
 "cells": [
  {
   "cell_type": "code",
   "execution_count": 1,
   "id": "dd371bd9-82c7-44c7-8826-beb0c549974b",
   "metadata": {
    "tags": []
   },
   "outputs": [],
   "source": [
    "# Modify the file 00_setup.py to define input/output file paths on your system\n",
    "# The information in 00_setup.py will be used across notebooks\n",
    "from importlib.machinery import SourceFileLoader\n",
    "setup = SourceFileLoader(\"setup\", \"./00_setup.py\").load_module()"
   ]
  },
  {
   "cell_type": "markdown",
   "id": "be7d3f74-1737-4eee-9e6f-06233b68c2b1",
   "metadata": {},
   "source": [
    "# 10: Stellargraph Data Import / Conversion\n",
    "Convert data into a format suitable for GNN, and import into a heterogeneous graph via stellargraph.  I need to upload data into the graph format, and normalize or rescale the data.  I also will need to handle missing features"
   ]
  },
  {
   "cell_type": "markdown",
   "id": "b7a0785d-1d7e-4493-b986-74347347830d",
   "metadata": {},
   "source": [
    "I want to have my test set entirely held out (not just the label) and so I create a few stellargraph objects:\n",
    "  * Training businesses, with their associated NAICS (used for training)\n",
    "  * Training plus validation businesses, with their associated NAICS (used for model selection / refinement)\n",
    "  * All businesses (training, validation, test), with their associated NAICS (test nodes used for final evaluation)"
   ]
  },
  {
   "cell_type": "markdown",
   "id": "b6956879-bdba-4750-bbdf-e26ade43c72f",
   "metadata": {},
   "source": [
    "*This script takes about 5 minutes on my MacBook Air*"
   ]
  },
  {
   "cell_type": "code",
   "execution_count": 2,
   "id": "a06b80fe-17ee-409a-8f41-ab2427d6f407",
   "metadata": {},
   "outputs": [],
   "source": [
    "import pandas as pd\n",
    "import numpy as np"
   ]
  },
  {
   "cell_type": "code",
   "execution_count": 3,
   "id": "4278237c-f6ad-4cd9-9144-5b7bb134a391",
   "metadata": {},
   "outputs": [],
   "source": [
    "from pathlib import Path\n",
    "import importlib\n",
    "import pickle"
   ]
  },
  {
   "cell_type": "code",
   "execution_count": 4,
   "id": "9ef27d75-0483-48fb-8018-245bdb9df81c",
   "metadata": {},
   "outputs": [],
   "source": [
    "# Imputer object for easy dataset conversion to GNN friendly format\n",
    "from sba_gnn.sba_gnn import sg_imputer \n",
    "#importlib.reload(sg_imputer)\n",
    "from sba_gnn.sba_gnn.sg_imputer import GNNImputer"
   ]
  },
  {
   "cell_type": "code",
   "execution_count": 5,
   "id": "f3fc1cea-12b4-4c50-aaa6-249874e28fb4",
   "metadata": {},
   "outputs": [
    {
     "name": "stderr",
     "output_type": "stream",
     "text": [
      "2023-11-25 22:26:16.897677: I metal_plugin/src/device/metal_device.cc:1154] Metal device set to: Apple M1\n",
      "2023-11-25 22:26:16.897703: I metal_plugin/src/device/metal_device.cc:296] systemMemory: 16.00 GB\n",
      "2023-11-25 22:26:16.897709: I metal_plugin/src/device/metal_device.cc:313] maxCacheSize: 5.33 GB\n",
      "2023-11-25 22:26:16.897751: I tensorflow/core/common_runtime/pluggable_device/pluggable_device_factory.cc:303] Could not identify NUMA node of platform GPU ID 0, defaulting to 0. Your kernel may not have been built with NUMA support.\n",
      "2023-11-25 22:26:16.897769: I tensorflow/core/common_runtime/pluggable_device/pluggable_device_factory.cc:269] Created TensorFlow device (/job:localhost/replica:0/task:0/device:GPU:0 with 0 MB memory) -> physical PluggableDevice (device: 0, name: METAL, pci bus id: <undefined>)\n"
     ]
    }
   ],
   "source": [
    "from stellargraph import StellarGraph"
   ]
  },
  {
   "cell_type": "markdown",
   "id": "faac611d-2f98-4d45-bb70-c64e3890a705",
   "metadata": {},
   "source": [
    "## Input training data, descriptives, fit imputer"
   ]
  },
  {
   "cell_type": "markdown",
   "id": "f8d04d3e-ea53-4b10-a1b1-480be7318ef6",
   "metadata": {},
   "source": [
    "For a neural network, I need to handle missings and also scale features.  For missing values, I will do a simple median fill for all, but add missing indicators.  "
   ]
  },
  {
   "cell_type": "markdown",
   "id": "580fbc84-1465-4874-b29e-f32731abcde6",
   "metadata": {},
   "source": [
    "To scale the data, I will do a quantile transform for features with > 5 levels.  This is to avoid scaling binary features.  Then I do a Min/Max scaling on all features, so they are in the [0,1] range"
   ]
  },
  {
   "cell_type": "markdown",
   "id": "25382bb1-9e0e-4b98-a35d-ce30c714f955",
   "metadata": {},
   "source": [
    "I define a class to do this in sg_imputer.  This class wraps several scikit-learn imputers/scalers so that I can easily fit the objects and then transform the data.  In this section, I show some descriptives to justify my imputation/scaling choices, and also fit the scaler"
   ]
  },
  {
   "cell_type": "markdown",
   "id": "8cdb14e4-d6c3-4b8f-8f06-99b8b47f4526",
   "metadata": {},
   "source": [
    "##### Import train data, show missing"
   ]
  },
  {
   "cell_type": "code",
   "execution_count": 6,
   "id": "a5f6c362-c1ab-48d8-812b-2b970b06586b",
   "metadata": {},
   "outputs": [],
   "source": [
    "train_df = pd.read_parquet(Path(setup.temp_path).joinpath('01_DATA_combined_base_train.parquet'))"
   ]
  },
  {
   "cell_type": "code",
   "execution_count": 7,
   "id": "ebc6ec39-9587-4b03-b1ec-78cb3ea7cf13",
   "metadata": {},
   "outputs": [
    {
     "data": {
      "text/plain": [
       "NoEmp              False    447252\n",
       "CreateJob          False    447252\n",
       "LowDoc             False    444025\n",
       "                   True       3227\n",
       "DisbursementGross  False    447252\n",
       "new_business       False    446708\n",
       "                   True        544\n",
       "urban_flag         False    358648\n",
       "                   True      88604\n",
       "franchise_flag     False    447252\n",
       "Name: count, dtype: int64"
      ]
     },
     "execution_count": 7,
     "metadata": {},
     "output_type": "execute_result"
    }
   ],
   "source": [
    "# Examine missingness\n",
    "pd.concat([train_df[c].isna().value_counts() for c in setup.predictor_features],\n",
    "         keys=setup.predictor_features)"
   ]
  },
  {
   "cell_type": "code",
   "execution_count": 8,
   "id": "2f25f209-f37d-4341-afb3-de5807b124bc",
   "metadata": {},
   "outputs": [
    {
     "data": {
      "text/html": [
       "<div>\n",
       "<style scoped>\n",
       "    .dataframe tbody tr th:only-of-type {\n",
       "        vertical-align: middle;\n",
       "    }\n",
       "\n",
       "    .dataframe tbody tr th {\n",
       "        vertical-align: top;\n",
       "    }\n",
       "\n",
       "    .dataframe thead th {\n",
       "        text-align: right;\n",
       "    }\n",
       "</style>\n",
       "<table border=\"1\" class=\"dataframe\">\n",
       "  <thead>\n",
       "    <tr style=\"text-align: right;\">\n",
       "      <th></th>\n",
       "      <th></th>\n",
       "      <th>count_missing</th>\n",
       "    </tr>\n",
       "  </thead>\n",
       "  <tbody>\n",
       "    <tr>\n",
       "      <th>NoEmp</th>\n",
       "      <th>0</th>\n",
       "      <td>0</td>\n",
       "    </tr>\n",
       "    <tr>\n",
       "      <th>CreateJob</th>\n",
       "      <th>0</th>\n",
       "      <td>0</td>\n",
       "    </tr>\n",
       "    <tr>\n",
       "      <th>LowDoc</th>\n",
       "      <th>0</th>\n",
       "      <td>3227</td>\n",
       "    </tr>\n",
       "    <tr>\n",
       "      <th>DisbursementGross</th>\n",
       "      <th>0</th>\n",
       "      <td>0</td>\n",
       "    </tr>\n",
       "    <tr>\n",
       "      <th>new_business</th>\n",
       "      <th>0</th>\n",
       "      <td>544</td>\n",
       "    </tr>\n",
       "    <tr>\n",
       "      <th>urban_flag</th>\n",
       "      <th>0</th>\n",
       "      <td>88604</td>\n",
       "    </tr>\n",
       "    <tr>\n",
       "      <th>franchise_flag</th>\n",
       "      <th>0</th>\n",
       "      <td>0</td>\n",
       "    </tr>\n",
       "  </tbody>\n",
       "</table>\n",
       "</div>"
      ],
      "text/plain": [
       "                     count_missing\n",
       "NoEmp             0              0\n",
       "CreateJob         0              0\n",
       "LowDoc            0           3227\n",
       "DisbursementGross 0              0\n",
       "new_business      0            544\n",
       "urban_flag        0          88604\n",
       "franchise_flag    0              0"
      ]
     },
     "execution_count": 8,
     "metadata": {},
     "output_type": "execute_result"
    }
   ],
   "source": [
    "# Same information, more compact\n",
    "pd.concat([pd.DataFrame([train_df[c].isna().sum()]) for c in setup.predictor_features],\n",
    "         keys=setup.predictor_features).set_axis(['count_missing'], axis=1)"
   ]
  },
  {
   "cell_type": "markdown",
   "id": "2b44bac7-428a-44ee-8a8f-35a8abda6b05",
   "metadata": {},
   "source": [
    "Most fields aren't missing too much.  However I must handle those that are.  I will use a median fill, especially since many of the fields with missingness seem to be binary"
   ]
  },
  {
   "cell_type": "markdown",
   "id": "3cecb611-6088-4781-a316-64f686763548",
   "metadata": {},
   "source": [
    "##### Explore scaling"
   ]
  },
  {
   "cell_type": "code",
   "execution_count": 9,
   "id": "541726b4-1d33-4073-8d83-892c84ffed0d",
   "metadata": {},
   "outputs": [
    {
     "data": {
      "text/html": [
       "<div>\n",
       "<style scoped>\n",
       "    .dataframe tbody tr th:only-of-type {\n",
       "        vertical-align: middle;\n",
       "    }\n",
       "\n",
       "    .dataframe tbody tr th {\n",
       "        vertical-align: top;\n",
       "    }\n",
       "\n",
       "    .dataframe thead th {\n",
       "        text-align: right;\n",
       "    }\n",
       "</style>\n",
       "<table border=\"1\" class=\"dataframe\">\n",
       "  <thead>\n",
       "    <tr style=\"text-align: right;\">\n",
       "      <th></th>\n",
       "      <th></th>\n",
       "      <th>0</th>\n",
       "    </tr>\n",
       "  </thead>\n",
       "  <tbody>\n",
       "    <tr>\n",
       "      <th>NoEmp</th>\n",
       "      <th>0</th>\n",
       "      <td>425</td>\n",
       "    </tr>\n",
       "    <tr>\n",
       "      <th>CreateJob</th>\n",
       "      <th>0</th>\n",
       "      <td>182</td>\n",
       "    </tr>\n",
       "    <tr>\n",
       "      <th>LowDoc</th>\n",
       "      <th>0</th>\n",
       "      <td>2</td>\n",
       "    </tr>\n",
       "    <tr>\n",
       "      <th>DisbursementGross</th>\n",
       "      <th>0</th>\n",
       "      <td>81720</td>\n",
       "    </tr>\n",
       "    <tr>\n",
       "      <th>new_business</th>\n",
       "      <th>0</th>\n",
       "      <td>2</td>\n",
       "    </tr>\n",
       "    <tr>\n",
       "      <th>urban_flag</th>\n",
       "      <th>0</th>\n",
       "      <td>2</td>\n",
       "    </tr>\n",
       "    <tr>\n",
       "      <th>franchise_flag</th>\n",
       "      <th>0</th>\n",
       "      <td>2</td>\n",
       "    </tr>\n",
       "  </tbody>\n",
       "</table>\n",
       "</div>"
      ],
      "text/plain": [
       "                         0\n",
       "NoEmp             0    425\n",
       "CreateJob         0    182\n",
       "LowDoc            0      2\n",
       "DisbursementGross 0  81720\n",
       "new_business      0      2\n",
       "urban_flag        0      2\n",
       "franchise_flag    0      2"
      ]
     },
     "execution_count": 9,
     "metadata": {},
     "output_type": "execute_result"
    }
   ],
   "source": [
    "# Level counts\n",
    "feature_level_df = pd.concat([pd.DataFrame([train_df[c].value_counts().count()]) for c in setup.predictor_features],\n",
    "         keys=setup.predictor_features)\n",
    "feature_level_df"
   ]
  },
  {
   "cell_type": "markdown",
   "id": "daa3b3e1-e954-4dc6-8fc1-e08bca77f3d0",
   "metadata": {},
   "source": [
    "A number of features are binary.  I don't need to scale these.  The others must be scaled.  "
   ]
  },
  {
   "cell_type": "markdown",
   "id": "64972ab5-a9ce-42f9-b01f-e682177f3d0b",
   "metadata": {},
   "source": [
    "What I will do is scale features with more than a threshold number of levels using a quantile scaler.  Then I'll use a MinMax scaler on everything to be safe (as a 2 level feature could have values other than 0,1)."
   ]
  },
  {
   "cell_type": "markdown",
   "id": "8405651f-7ead-41de-8ff2-1b73a1f870e0",
   "metadata": {},
   "source": [
    "##### Create imputer to do the median fill and scaling\n",
    "This imputer fills missing values, adding missingness indicator features.  Then it quantile scales features with over 5 levels, and MinMax scales the rest."
   ]
  },
  {
   "cell_type": "code",
   "execution_count": 10,
   "id": "e89a8a33-9491-42be-b01d-a5fca91ff11c",
   "metadata": {},
   "outputs": [],
   "source": [
    "imputer = GNNImputer(features = setup.predictor_features)                               "
   ]
  },
  {
   "cell_type": "code",
   "execution_count": 11,
   "id": "95a02134-c0fc-458a-8f00-b5a6662b7cc4",
   "metadata": {},
   "outputs": [],
   "source": [
    "train_out = imputer.fit_transform(train_df)"
   ]
  },
  {
   "cell_type": "code",
   "execution_count": 12,
   "id": "8bc96445-9c80-4ef3-925c-0060945483fe",
   "metadata": {},
   "outputs": [
    {
     "data": {
      "text/plain": [
       "Index([538061, 220915, 237886, 852933, 370109, 825551, 462351, 886865, 687784,\n",
       "       402987,\n",
       "       ...\n",
       "       614020,  30277, 692498, 641806,  12558, 127070, 631061, 821756, 296335,\n",
       "       521331],\n",
       "      dtype='int64', name='index', length=447252)"
      ]
     },
     "execution_count": 12,
     "metadata": {},
     "output_type": "execute_result"
    }
   ],
   "source": [
    "train_out.index"
   ]
  },
  {
   "cell_type": "code",
   "execution_count": 13,
   "id": "e861e665-bc71-41e6-aefa-441e48187422",
   "metadata": {},
   "outputs": [
    {
     "data": {
      "text/plain": [
       "['NoEmp',\n",
       " 'CreateJob',\n",
       " 'LowDoc',\n",
       " 'DisbursementGross',\n",
       " 'new_business',\n",
       " 'urban_flag',\n",
       " 'franchise_flag',\n",
       " 'missingindicator_LowDoc',\n",
       " 'missingindicator_new_business',\n",
       " 'missingindicator_urban_flag']"
      ]
     },
     "execution_count": 13,
     "metadata": {},
     "output_type": "execute_result"
    }
   ],
   "source": [
    "imputer.features_out"
   ]
  },
  {
   "cell_type": "markdown",
   "id": "d0d1b862-6f1e-46fe-b7c7-b50f8bf259ab",
   "metadata": {},
   "source": [
    "## Transform Test, Validation Data"
   ]
  },
  {
   "cell_type": "code",
   "execution_count": 14,
   "id": "7f65e91f-eca0-40e3-8bd5-7614bafbb05e",
   "metadata": {},
   "outputs": [],
   "source": [
    "test_df = pd.read_parquet(Path(setup.temp_path).joinpath('01_DATA_combined_base_test.parquet'))"
   ]
  },
  {
   "cell_type": "code",
   "execution_count": 15,
   "id": "e5195e29-6c0c-4162-a198-581a9d8838bf",
   "metadata": {},
   "outputs": [],
   "source": [
    "val_df = pd.read_parquet(Path(setup.temp_path).joinpath('01_DATA_combined_base_val.parquet'))"
   ]
  },
  {
   "cell_type": "code",
   "execution_count": 16,
   "id": "475c05c5-7a12-4e67-ab99-d0eab7730bf2",
   "metadata": {},
   "outputs": [],
   "source": [
    "test_out = imputer.transform(test_df)"
   ]
  },
  {
   "cell_type": "code",
   "execution_count": 17,
   "id": "0c0e36f1-be1a-4cc7-a317-04f7daa48a89",
   "metadata": {},
   "outputs": [],
   "source": [
    "val_out = imputer.transform(val_df)"
   ]
  },
  {
   "cell_type": "markdown",
   "id": "a8045a54-8f8f-4993-b591-cf265ba60adc",
   "metadata": {},
   "source": [
    "## Combine data\n",
    "Combine transformed datasets, with key information.  Include the business ID, target status, NAICS features, as well as transformed features from above. Save this data for later use (especially the indices which indicate train/test statustrain_df"
   ]
  },
  {
   "cell_type": "code",
   "execution_count": 18,
   "id": "38f1c58f-6389-4d7f-a703-a551936e295c",
   "metadata": {},
   "outputs": [
    {
     "data": {
      "text/plain": [
       "Index(['LoanNr_ChkDgt', 'Name', 'City', 'State', 'Zip', 'Bank', 'BankState',\n",
       "       'NAICS', 'ApprovalDate', 'ApprovalFY', 'Term', 'NoEmp', 'NewExist',\n",
       "       'CreateJob', 'RetainedJob', 'FranchiseCode', 'UrbanRural', 'RevLineCr',\n",
       "       'LowDoc', 'ChgOffDate', 'DisbursementDate', 'DisbursementGross',\n",
       "       'BalanceGross', 'MIS_Status', 'ChgOffPrinGr', 'GrAppv', 'SBA_Appv',\n",
       "       'target', 'guaranteed_fract', 'new_business', 'urban_flag',\n",
       "       'franchise_flag', 'NAICS_2', 'NAICS_sector', 'NAICS_sector_desc',\n",
       "       'NAICS_num', 'menc_NAICS', 'menc_NAICS_sector',\n",
       "       'NS___Accommodation and Food Services', 'NS___Construction',\n",
       "       'NS___Health Care and Social Assistance', 'NS___Manufacturing',\n",
       "       'NS___Other Services (except Public Administration)',\n",
       "       'NS___Professional, Scientific, and Technical Services',\n",
       "       'NS___Retail Trade', 'NS___Wholesale Trade', 'NS___infrequent_sklearn'],\n",
       "      dtype='object')"
      ]
     },
     "execution_count": 18,
     "metadata": {},
     "output_type": "execute_result"
    }
   ],
   "source": [
    "train_df.columns"
   ]
  },
  {
   "cell_type": "code",
   "execution_count": 19,
   "id": "257a6cbe-c392-46f0-9a82-9f69892548d1",
   "metadata": {},
   "outputs": [
    {
     "name": "stdout",
     "output_type": "stream",
     "text": [
      "['LoanNr_ChkDgt', 'target', 'NAICS', 'NAICS_sector', 'NS___Accommodation and Food Services', 'NS___Construction', 'NS___Health Care and Social Assistance', 'NS___Manufacturing', 'NS___Other Services (except Public Administration)', 'NS___Professional, Scientific, and Technical Services', 'NS___Retail Trade', 'NS___Wholesale Trade', 'NS___infrequent_sklearn']\n"
     ]
    }
   ],
   "source": [
    "naics_features = ['LoanNr_ChkDgt', 'target', 'NAICS', 'NAICS_sector'] +  \\\n",
    "    [c for c in train_df.columns if c.startswith('NS__')]\n",
    "print(naics_features)"
   ]
  },
  {
   "cell_type": "code",
   "execution_count": 20,
   "id": "a34a7d4a-608f-4750-b900-0b7e10fa64ad",
   "metadata": {},
   "outputs": [],
   "source": [
    "comb_naics = pd.concat([train_df[naics_features], test_df[naics_features], \n",
    "                        val_df[naics_features]], axis=0, keys=['train', 'test', 'val'])"
   ]
  },
  {
   "cell_type": "code",
   "execution_count": 21,
   "id": "861b31b9-d646-4639-9b05-948ff5f1e8c8",
   "metadata": {},
   "outputs": [
    {
     "name": "stdout",
     "output_type": "stream",
     "text": [
      "(688081, 24)\n"
     ]
    }
   ],
   "source": [
    "comb_df = pd.concat([comb_naics,\n",
    "                     pd.concat([train_out, test_out, val_out], \n",
    "                               axis=0, keys=['train', 'test', 'val'])],\n",
    "                    axis=1) \\\n",
    "    .reset_index(level=0) \\\n",
    "    .rename(columns={'level_0':'dset'}, errors='ignore')\n",
    "print(comb_df.shape)"
   ]
  },
  {
   "cell_type": "code",
   "execution_count": 22,
   "id": "0db6295f-479e-4eac-893e-b3aabba7584b",
   "metadata": {},
   "outputs": [
    {
     "data": {
      "text/html": [
       "<div>\n",
       "<style scoped>\n",
       "    .dataframe tbody tr th:only-of-type {\n",
       "        vertical-align: middle;\n",
       "    }\n",
       "\n",
       "    .dataframe tbody tr th {\n",
       "        vertical-align: top;\n",
       "    }\n",
       "\n",
       "    .dataframe thead th {\n",
       "        text-align: right;\n",
       "    }\n",
       "</style>\n",
       "<table border=\"1\" class=\"dataframe\">\n",
       "  <thead>\n",
       "    <tr style=\"text-align: right;\">\n",
       "      <th></th>\n",
       "      <th>dset</th>\n",
       "      <th>LoanNr_ChkDgt</th>\n",
       "      <th>target</th>\n",
       "      <th>NAICS</th>\n",
       "      <th>NAICS_sector</th>\n",
       "      <th>NS___Accommodation and Food Services</th>\n",
       "      <th>NS___Construction</th>\n",
       "      <th>NS___Health Care and Social Assistance</th>\n",
       "      <th>NS___Manufacturing</th>\n",
       "      <th>NS___Other Services (except Public Administration)</th>\n",
       "      <th>...</th>\n",
       "      <th>NoEmp</th>\n",
       "      <th>CreateJob</th>\n",
       "      <th>LowDoc</th>\n",
       "      <th>DisbursementGross</th>\n",
       "      <th>new_business</th>\n",
       "      <th>urban_flag</th>\n",
       "      <th>franchise_flag</th>\n",
       "      <th>missingindicator_LowDoc</th>\n",
       "      <th>missingindicator_new_business</th>\n",
       "      <th>missingindicator_urban_flag</th>\n",
       "    </tr>\n",
       "    <tr>\n",
       "      <th>index</th>\n",
       "      <th></th>\n",
       "      <th></th>\n",
       "      <th></th>\n",
       "      <th></th>\n",
       "      <th></th>\n",
       "      <th></th>\n",
       "      <th></th>\n",
       "      <th></th>\n",
       "      <th></th>\n",
       "      <th></th>\n",
       "      <th></th>\n",
       "      <th></th>\n",
       "      <th></th>\n",
       "      <th></th>\n",
       "      <th></th>\n",
       "      <th></th>\n",
       "      <th></th>\n",
       "      <th></th>\n",
       "      <th></th>\n",
       "      <th></th>\n",
       "      <th></th>\n",
       "    </tr>\n",
       "  </thead>\n",
       "  <tbody>\n",
       "    <tr>\n",
       "      <th>538061</th>\n",
       "      <td>train</td>\n",
       "      <td>5282874009</td>\n",
       "      <td>0</td>\n",
       "      <td>422210</td>\n",
       "      <td>42</td>\n",
       "      <td>0.0</td>\n",
       "      <td>0.0</td>\n",
       "      <td>0.0</td>\n",
       "      <td>0.0</td>\n",
       "      <td>0.0</td>\n",
       "      <td>...</td>\n",
       "      <td>0.887888</td>\n",
       "      <td>0.000000</td>\n",
       "      <td>0.0</td>\n",
       "      <td>0.974845</td>\n",
       "      <td>0.0</td>\n",
       "      <td>1.0</td>\n",
       "      <td>0.0</td>\n",
       "      <td>0.0</td>\n",
       "      <td>0.0</td>\n",
       "      <td>0.0</td>\n",
       "    </tr>\n",
       "    <tr>\n",
       "      <th>220915</th>\n",
       "      <td>train</td>\n",
       "      <td>2568556001</td>\n",
       "      <td>0</td>\n",
       "      <td>441222</td>\n",
       "      <td>44-45</td>\n",
       "      <td>0.0</td>\n",
       "      <td>0.0</td>\n",
       "      <td>0.0</td>\n",
       "      <td>0.0</td>\n",
       "      <td>0.0</td>\n",
       "      <td>...</td>\n",
       "      <td>0.519520</td>\n",
       "      <td>0.895395</td>\n",
       "      <td>0.0</td>\n",
       "      <td>0.800167</td>\n",
       "      <td>0.0</td>\n",
       "      <td>0.0</td>\n",
       "      <td>0.0</td>\n",
       "      <td>0.0</td>\n",
       "      <td>0.0</td>\n",
       "      <td>0.0</td>\n",
       "    </tr>\n",
       "    <tr>\n",
       "      <th>237886</th>\n",
       "      <td>train</td>\n",
       "      <td>2687465005</td>\n",
       "      <td>1</td>\n",
       "      <td>621310</td>\n",
       "      <td>62</td>\n",
       "      <td>0.0</td>\n",
       "      <td>0.0</td>\n",
       "      <td>1.0</td>\n",
       "      <td>0.0</td>\n",
       "      <td>0.0</td>\n",
       "      <td>...</td>\n",
       "      <td>0.652152</td>\n",
       "      <td>0.691191</td>\n",
       "      <td>0.0</td>\n",
       "      <td>0.107703</td>\n",
       "      <td>0.0</td>\n",
       "      <td>1.0</td>\n",
       "      <td>0.0</td>\n",
       "      <td>0.0</td>\n",
       "      <td>0.0</td>\n",
       "      <td>0.0</td>\n",
       "    </tr>\n",
       "    <tr>\n",
       "      <th>852933</th>\n",
       "      <td>train</td>\n",
       "      <td>9174473001</td>\n",
       "      <td>0</td>\n",
       "      <td>448310</td>\n",
       "      <td>44-45</td>\n",
       "      <td>0.0</td>\n",
       "      <td>0.0</td>\n",
       "      <td>0.0</td>\n",
       "      <td>0.0</td>\n",
       "      <td>0.0</td>\n",
       "      <td>...</td>\n",
       "      <td>0.107608</td>\n",
       "      <td>0.000000</td>\n",
       "      <td>1.0</td>\n",
       "      <td>0.433433</td>\n",
       "      <td>0.0</td>\n",
       "      <td>1.0</td>\n",
       "      <td>0.0</td>\n",
       "      <td>0.0</td>\n",
       "      <td>0.0</td>\n",
       "      <td>1.0</td>\n",
       "    </tr>\n",
       "    <tr>\n",
       "      <th>370109</th>\n",
       "      <td>train</td>\n",
       "      <td>3598634004</td>\n",
       "      <td>0</td>\n",
       "      <td>541512</td>\n",
       "      <td>54</td>\n",
       "      <td>0.0</td>\n",
       "      <td>0.0</td>\n",
       "      <td>0.0</td>\n",
       "      <td>0.0</td>\n",
       "      <td>0.0</td>\n",
       "      <td>...</td>\n",
       "      <td>0.519520</td>\n",
       "      <td>0.000000</td>\n",
       "      <td>1.0</td>\n",
       "      <td>0.405906</td>\n",
       "      <td>1.0</td>\n",
       "      <td>1.0</td>\n",
       "      <td>0.0</td>\n",
       "      <td>0.0</td>\n",
       "      <td>0.0</td>\n",
       "      <td>0.0</td>\n",
       "    </tr>\n",
       "    <tr>\n",
       "      <th>...</th>\n",
       "      <td>...</td>\n",
       "      <td>...</td>\n",
       "      <td>...</td>\n",
       "      <td>...</td>\n",
       "      <td>...</td>\n",
       "      <td>...</td>\n",
       "      <td>...</td>\n",
       "      <td>...</td>\n",
       "      <td>...</td>\n",
       "      <td>...</td>\n",
       "      <td>...</td>\n",
       "      <td>...</td>\n",
       "      <td>...</td>\n",
       "      <td>...</td>\n",
       "      <td>...</td>\n",
       "      <td>...</td>\n",
       "      <td>...</td>\n",
       "      <td>...</td>\n",
       "      <td>...</td>\n",
       "      <td>...</td>\n",
       "      <td>...</td>\n",
       "    </tr>\n",
       "    <tr>\n",
       "      <th>70327</th>\n",
       "      <td>val</td>\n",
       "      <td>1533475000</td>\n",
       "      <td>1</td>\n",
       "      <td>444220</td>\n",
       "      <td>44-45</td>\n",
       "      <td>0.0</td>\n",
       "      <td>0.0</td>\n",
       "      <td>0.0</td>\n",
       "      <td>0.0</td>\n",
       "      <td>0.0</td>\n",
       "      <td>...</td>\n",
       "      <td>0.011119</td>\n",
       "      <td>0.000000</td>\n",
       "      <td>0.0</td>\n",
       "      <td>0.000000</td>\n",
       "      <td>1.0</td>\n",
       "      <td>0.0</td>\n",
       "      <td>0.0</td>\n",
       "      <td>0.0</td>\n",
       "      <td>0.0</td>\n",
       "      <td>0.0</td>\n",
       "    </tr>\n",
       "    <tr>\n",
       "      <th>225065</th>\n",
       "      <td>val</td>\n",
       "      <td>2597975001</td>\n",
       "      <td>0</td>\n",
       "      <td>484121</td>\n",
       "      <td>48-49</td>\n",
       "      <td>0.0</td>\n",
       "      <td>0.0</td>\n",
       "      <td>0.0</td>\n",
       "      <td>0.0</td>\n",
       "      <td>0.0</td>\n",
       "      <td>...</td>\n",
       "      <td>0.011119</td>\n",
       "      <td>0.000000</td>\n",
       "      <td>0.0</td>\n",
       "      <td>0.000000</td>\n",
       "      <td>1.0</td>\n",
       "      <td>1.0</td>\n",
       "      <td>0.0</td>\n",
       "      <td>0.0</td>\n",
       "      <td>0.0</td>\n",
       "      <td>0.0</td>\n",
       "    </tr>\n",
       "    <tr>\n",
       "      <th>450477</th>\n",
       "      <td>val</td>\n",
       "      <td>4381063007</td>\n",
       "      <td>0</td>\n",
       "      <td>811121</td>\n",
       "      <td>81</td>\n",
       "      <td>0.0</td>\n",
       "      <td>0.0</td>\n",
       "      <td>0.0</td>\n",
       "      <td>0.0</td>\n",
       "      <td>1.0</td>\n",
       "      <td>...</td>\n",
       "      <td>0.011436</td>\n",
       "      <td>0.000000</td>\n",
       "      <td>0.0</td>\n",
       "      <td>0.000000</td>\n",
       "      <td>0.0</td>\n",
       "      <td>1.0</td>\n",
       "      <td>0.0</td>\n",
       "      <td>0.0</td>\n",
       "      <td>0.0</td>\n",
       "      <td>1.0</td>\n",
       "    </tr>\n",
       "    <tr>\n",
       "      <th>604048</th>\n",
       "      <td>val</td>\n",
       "      <td>6010603003</td>\n",
       "      <td>0</td>\n",
       "      <td>721310</td>\n",
       "      <td>72</td>\n",
       "      <td>1.0</td>\n",
       "      <td>0.0</td>\n",
       "      <td>0.0</td>\n",
       "      <td>0.0</td>\n",
       "      <td>0.0</td>\n",
       "      <td>...</td>\n",
       "      <td>0.011299</td>\n",
       "      <td>0.000000</td>\n",
       "      <td>0.0</td>\n",
       "      <td>0.000000</td>\n",
       "      <td>1.0</td>\n",
       "      <td>1.0</td>\n",
       "      <td>0.0</td>\n",
       "      <td>0.0</td>\n",
       "      <td>0.0</td>\n",
       "      <td>1.0</td>\n",
       "    </tr>\n",
       "    <tr>\n",
       "      <th>319853</th>\n",
       "      <td>val</td>\n",
       "      <td>3215386008</td>\n",
       "      <td>0</td>\n",
       "      <td>332710</td>\n",
       "      <td>31-33</td>\n",
       "      <td>0.0</td>\n",
       "      <td>0.0</td>\n",
       "      <td>0.0</td>\n",
       "      <td>1.0</td>\n",
       "      <td>0.0</td>\n",
       "      <td>...</td>\n",
       "      <td>0.011814</td>\n",
       "      <td>0.646338</td>\n",
       "      <td>0.0</td>\n",
       "      <td>0.000000</td>\n",
       "      <td>0.0</td>\n",
       "      <td>1.0</td>\n",
       "      <td>0.0</td>\n",
       "      <td>0.0</td>\n",
       "      <td>0.0</td>\n",
       "      <td>0.0</td>\n",
       "    </tr>\n",
       "  </tbody>\n",
       "</table>\n",
       "<p>688081 rows × 24 columns</p>\n",
       "</div>"
      ],
      "text/plain": [
       "         dset LoanNr_ChkDgt  target   NAICS NAICS_sector  \\\n",
       "index                                                      \n",
       "538061  train    5282874009       0  422210           42   \n",
       "220915  train    2568556001       0  441222        44-45   \n",
       "237886  train    2687465005       1  621310           62   \n",
       "852933  train    9174473001       0  448310        44-45   \n",
       "370109  train    3598634004       0  541512           54   \n",
       "...       ...           ...     ...     ...          ...   \n",
       "70327     val    1533475000       1  444220        44-45   \n",
       "225065    val    2597975001       0  484121        48-49   \n",
       "450477    val    4381063007       0  811121           81   \n",
       "604048    val    6010603003       0  721310           72   \n",
       "319853    val    3215386008       0  332710        31-33   \n",
       "\n",
       "        NS___Accommodation and Food Services  NS___Construction  \\\n",
       "index                                                             \n",
       "538061                                   0.0                0.0   \n",
       "220915                                   0.0                0.0   \n",
       "237886                                   0.0                0.0   \n",
       "852933                                   0.0                0.0   \n",
       "370109                                   0.0                0.0   \n",
       "...                                      ...                ...   \n",
       "70327                                    0.0                0.0   \n",
       "225065                                   0.0                0.0   \n",
       "450477                                   0.0                0.0   \n",
       "604048                                   1.0                0.0   \n",
       "319853                                   0.0                0.0   \n",
       "\n",
       "        NS___Health Care and Social Assistance  NS___Manufacturing  \\\n",
       "index                                                                \n",
       "538061                                     0.0                 0.0   \n",
       "220915                                     0.0                 0.0   \n",
       "237886                                     1.0                 0.0   \n",
       "852933                                     0.0                 0.0   \n",
       "370109                                     0.0                 0.0   \n",
       "...                                        ...                 ...   \n",
       "70327                                      0.0                 0.0   \n",
       "225065                                     0.0                 0.0   \n",
       "450477                                     0.0                 0.0   \n",
       "604048                                     0.0                 0.0   \n",
       "319853                                     0.0                 1.0   \n",
       "\n",
       "        NS___Other Services (except Public Administration)  ...     NoEmp  \\\n",
       "index                                                       ...             \n",
       "538061                                                0.0   ...  0.887888   \n",
       "220915                                                0.0   ...  0.519520   \n",
       "237886                                                0.0   ...  0.652152   \n",
       "852933                                                0.0   ...  0.107608   \n",
       "370109                                                0.0   ...  0.519520   \n",
       "...                                                   ...   ...       ...   \n",
       "70327                                                 0.0   ...  0.011119   \n",
       "225065                                                0.0   ...  0.011119   \n",
       "450477                                                1.0   ...  0.011436   \n",
       "604048                                                0.0   ...  0.011299   \n",
       "319853                                                0.0   ...  0.011814   \n",
       "\n",
       "        CreateJob  LowDoc  DisbursementGross  new_business  urban_flag  \\\n",
       "index                                                                    \n",
       "538061   0.000000     0.0           0.974845           0.0         1.0   \n",
       "220915   0.895395     0.0           0.800167           0.0         0.0   \n",
       "237886   0.691191     0.0           0.107703           0.0         1.0   \n",
       "852933   0.000000     1.0           0.433433           0.0         1.0   \n",
       "370109   0.000000     1.0           0.405906           1.0         1.0   \n",
       "...           ...     ...                ...           ...         ...   \n",
       "70327    0.000000     0.0           0.000000           1.0         0.0   \n",
       "225065   0.000000     0.0           0.000000           1.0         1.0   \n",
       "450477   0.000000     0.0           0.000000           0.0         1.0   \n",
       "604048   0.000000     0.0           0.000000           1.0         1.0   \n",
       "319853   0.646338     0.0           0.000000           0.0         1.0   \n",
       "\n",
       "        franchise_flag  missingindicator_LowDoc  \\\n",
       "index                                             \n",
       "538061             0.0                      0.0   \n",
       "220915             0.0                      0.0   \n",
       "237886             0.0                      0.0   \n",
       "852933             0.0                      0.0   \n",
       "370109             0.0                      0.0   \n",
       "...                ...                      ...   \n",
       "70327              0.0                      0.0   \n",
       "225065             0.0                      0.0   \n",
       "450477             0.0                      0.0   \n",
       "604048             0.0                      0.0   \n",
       "319853             0.0                      0.0   \n",
       "\n",
       "        missingindicator_new_business  missingindicator_urban_flag  \n",
       "index                                                               \n",
       "538061                            0.0                          0.0  \n",
       "220915                            0.0                          0.0  \n",
       "237886                            0.0                          0.0  \n",
       "852933                            0.0                          1.0  \n",
       "370109                            0.0                          0.0  \n",
       "...                               ...                          ...  \n",
       "70327                             0.0                          0.0  \n",
       "225065                            0.0                          0.0  \n",
       "450477                            0.0                          1.0  \n",
       "604048                            0.0                          1.0  \n",
       "319853                            0.0                          0.0  \n",
       "\n",
       "[688081 rows x 24 columns]"
      ]
     },
     "execution_count": 22,
     "metadata": {},
     "output_type": "execute_result"
    }
   ],
   "source": [
    "comb_df"
   ]
  },
  {
   "cell_type": "code",
   "execution_count": 23,
   "id": "80c39083-a0e4-4117-ab5f-02c98c237e6a",
   "metadata": {},
   "outputs": [
    {
     "name": "stdout",
     "output_type": "stream",
     "text": [
      "Index(['dset', 'LoanNr_ChkDgt', 'target', 'NAICS', 'NAICS_sector',\n",
      "       'NS___Accommodation and Food Services', 'NS___Construction',\n",
      "       'NS___Health Care and Social Assistance', 'NS___Manufacturing',\n",
      "       'NS___Other Services (except Public Administration)',\n",
      "       'NS___Professional, Scientific, and Technical Services',\n",
      "       'NS___Retail Trade', 'NS___Wholesale Trade', 'NS___infrequent_sklearn',\n",
      "       'NoEmp', 'CreateJob', 'LowDoc', 'DisbursementGross', 'new_business',\n",
      "       'urban_flag', 'franchise_flag', 'missingindicator_LowDoc',\n",
      "       'missingindicator_new_business', 'missingindicator_urban_flag'],\n",
      "      dtype='object')\n"
     ]
    }
   ],
   "source": [
    "print(comb_df.columns)"
   ]
  },
  {
   "cell_type": "code",
   "execution_count": 24,
   "id": "0bc07864-b0d0-4be2-902a-a1d0bf372039",
   "metadata": {},
   "outputs": [],
   "source": [
    "# TODO FIXME sample combined data for easier testing\n",
    "#comb_df = comb_df.sample(20000)"
   ]
  },
  {
   "cell_type": "code",
   "execution_count": 25,
   "id": "98c5cf92-35ea-4371-b3e0-04abc85a41dd",
   "metadata": {},
   "outputs": [],
   "source": [
    "comb_df.to_parquet(Path(setup.temp_path).joinpath('10_DATA_combined_scaled_all.parquet'))"
   ]
  },
  {
   "cell_type": "markdown",
   "id": "9ac08ad3-6a88-4465-bf72-a7484505bf5f",
   "metadata": {},
   "source": [
    "## Create Edge Data"
   ]
  },
  {
   "cell_type": "markdown",
   "id": "18d80cdf-12f5-497d-8f23-9fcc87322009",
   "metadata": {},
   "source": [
    "##### Functions for creating index for NAICS, NAICS sectors"
   ]
  },
  {
   "cell_type": "code",
   "execution_count": 26,
   "id": "4705ce0e-7bbb-4e4d-b105-5c65c9b4137d",
   "metadata": {},
   "outputs": [],
   "source": [
    "def get_naics_index(naics_seq):\n",
    "    return 'n_' + naics_seq"
   ]
  },
  {
   "cell_type": "code",
   "execution_count": 27,
   "id": "4ba074af-06b9-4304-b46e-59b82807835c",
   "metadata": {},
   "outputs": [],
   "source": [
    "def get_naics_sector_index(naics_sector_seq):\n",
    "    return 'ns_' + naics_sector_seq.astype('str')"
   ]
  },
  {
   "cell_type": "markdown",
   "id": "db9ab20d-a635-4007-bd4f-ced23482ab6d",
   "metadata": {},
   "source": [
    "##### Create edge index mapper\n",
    "Use LoanNr_ChkDgt for the businesses, 'n_' for NAICS codes, and 'ns_' for sectors"
   ]
  },
  {
   "cell_type": "code",
   "execution_count": 56,
   "id": "4c0dce77-c4c0-461d-8ee8-7ae03829e82e",
   "metadata": {},
   "outputs": [],
   "source": [
    "# Edges from businesses to NAICS codes\n",
    "edges_business_naics = comb_df[['LoanNr_ChkDgt', 'NAICS', 'dset']].copy() \\\n",
    "    .rename(columns={'LoanNr_ChkDgt':'source'}) \n",
    "edges_business_naics['target'] = get_naics_index(edges_business_naics['NAICS'])\n",
    "edges_business_naics = edges_business_naics[['source', 'target', 'dset']]\n",
    "edges_business_naics['type'] = 'loan_naics'"
   ]
  },
  {
   "cell_type": "code",
   "execution_count": 57,
   "id": "cff5a79d-641f-41a5-8a59-f243d2ac4dda",
   "metadata": {},
   "outputs": [],
   "source": [
    "# NAICS to NAICS sectors\n",
    "edges_naics_sectors = comb_df[['NAICS', 'NAICS_sector', 'dset']].copy() \\\n",
    "    .drop_duplicates() \n",
    "edges_naics_sectors['source'] = get_naics_index(edges_naics_sectors['NAICS'])\n",
    "edges_naics_sectors['target'] = get_naics_sector_index(edges_naics_sectors['NAICS_sector'])\n",
    "edges_naics_sectors = edges_naics_sectors[['source', 'target', 'dset']]\n",
    "edges_naics_sectors['type'] = 'naics_sector'"
   ]
  },
  {
   "cell_type": "code",
   "execution_count": 58,
   "id": "d23bfb52-c1bf-4cac-a3f6-4fbe60b3893f",
   "metadata": {},
   "outputs": [],
   "source": [
    "edges_all = pd.concat([edges_business_naics, edges_naics_sectors], axis=0) \\\n",
    "    .reset_index(drop=True)"
   ]
  },
  {
   "cell_type": "code",
   "execution_count": 59,
   "id": "5f6fbba8-4ce7-40ec-b53c-440a9d1b2d4d",
   "metadata": {},
   "outputs": [
    {
     "data": {
      "text/html": [
       "<div>\n",
       "<style scoped>\n",
       "    .dataframe tbody tr th:only-of-type {\n",
       "        vertical-align: middle;\n",
       "    }\n",
       "\n",
       "    .dataframe tbody tr th {\n",
       "        vertical-align: top;\n",
       "    }\n",
       "\n",
       "    .dataframe thead th {\n",
       "        text-align: right;\n",
       "    }\n",
       "</style>\n",
       "<table border=\"1\" class=\"dataframe\">\n",
       "  <thead>\n",
       "    <tr style=\"text-align: right;\">\n",
       "      <th></th>\n",
       "      <th>source</th>\n",
       "      <th>target</th>\n",
       "      <th>dset</th>\n",
       "      <th>type</th>\n",
       "    </tr>\n",
       "  </thead>\n",
       "  <tbody>\n",
       "    <tr>\n",
       "      <th>0</th>\n",
       "      <td>5282874009</td>\n",
       "      <td>n_422210</td>\n",
       "      <td>train</td>\n",
       "      <td>loan_naics</td>\n",
       "    </tr>\n",
       "    <tr>\n",
       "      <th>1</th>\n",
       "      <td>2568556001</td>\n",
       "      <td>n_441222</td>\n",
       "      <td>train</td>\n",
       "      <td>loan_naics</td>\n",
       "    </tr>\n",
       "    <tr>\n",
       "      <th>2</th>\n",
       "      <td>2687465005</td>\n",
       "      <td>n_621310</td>\n",
       "      <td>train</td>\n",
       "      <td>loan_naics</td>\n",
       "    </tr>\n",
       "    <tr>\n",
       "      <th>3</th>\n",
       "      <td>9174473001</td>\n",
       "      <td>n_448310</td>\n",
       "      <td>train</td>\n",
       "      <td>loan_naics</td>\n",
       "    </tr>\n",
       "    <tr>\n",
       "      <th>4</th>\n",
       "      <td>3598634004</td>\n",
       "      <td>n_541512</td>\n",
       "      <td>train</td>\n",
       "      <td>loan_naics</td>\n",
       "    </tr>\n",
       "  </tbody>\n",
       "</table>\n",
       "</div>"
      ],
      "text/plain": [
       "       source    target   dset        type\n",
       "0  5282874009  n_422210  train  loan_naics\n",
       "1  2568556001  n_441222  train  loan_naics\n",
       "2  2687465005  n_621310  train  loan_naics\n",
       "3  9174473001  n_448310  train  loan_naics\n",
       "4  3598634004  n_541512  train  loan_naics"
      ]
     },
     "execution_count": 59,
     "metadata": {},
     "output_type": "execute_result"
    }
   ],
   "source": [
    "edges_all.head()"
   ]
  },
  {
   "cell_type": "code",
   "execution_count": 54,
   "id": "1eb6d3e1-fce3-4749-b381-817921a1c03f",
   "metadata": {},
   "outputs": [
    {
     "data": {
      "text/plain": [
       "dset\n",
       "train    447252\n",
       "test     144497\n",
       "val       96332\n",
       "Name: count, dtype: int64"
      ]
     },
     "execution_count": 55,
     "metadata": {},
     "output_type": "execute_result"
    }
   ],
   "source": [
    "edges_all['dset'].value_counts(dropna=False)"
   ]
  },
  {
   "cell_type": "code",
   "execution_count": 69,
   "id": "e470f3d2-dd73-471f-ac2e-b3cf1831457e",
   "metadata": {},
   "outputs": [
    {
     "data": {
      "text/plain": [
       "type\n",
       "loan_naics      688081\n",
       "naics_sector      3760\n",
       "Name: count, dtype: int64"
      ]
     },
     "execution_count": 69,
     "metadata": {},
     "output_type": "execute_result"
    }
   ],
   "source": [
    "edges_all['type'].value_counts(dropna=False)"
   ]
  },
  {
   "cell_type": "markdown",
   "id": "681a9448-4259-4bca-b661-8212992fbc19",
   "metadata": {},
   "source": [
    "## Get Node Data"
   ]
  },
  {
   "cell_type": "code",
   "execution_count": 60,
   "id": "4d999dba-b0b6-4969-9ef9-a5dd2615d7d2",
   "metadata": {},
   "outputs": [],
   "source": [
    "# Business node features - these are the original features post scaling\n",
    "features_business = comb_df[['LoanNr_ChkDgt', 'dset'] + imputer.features_out] \\\n",
    "    .set_index('LoanNr_ChkDgt')"
   ]
  },
  {
   "cell_type": "code",
   "execution_count": 61,
   "id": "8c380d15-a731-42ff-a7f9-c1e4b535ce59",
   "metadata": {},
   "outputs": [
    {
     "name": "stdout",
     "output_type": "stream",
     "text": [
      "(1311, 9)\n"
     ]
    }
   ],
   "source": [
    "# NAICS features - just the one hots\n",
    "features_naics = comb_df[['NAICS'] + [c for c in train_df.columns if c.startswith('NS__')]] \\\n",
    "    .drop_duplicates()\n",
    "features_naics['source'] = get_naics_index(features_naics['NAICS'])\n",
    "features_naics.set_index('source', inplace=True) \n",
    "features_naics.drop(columns='NAICS', inplace=True) \n",
    "print(features_naics.shape)"
   ]
  },
  {
   "cell_type": "code",
   "execution_count": 62,
   "id": "6d4a1095-5445-4f71-8f9f-8744c209fe94",
   "metadata": {},
   "outputs": [
    {
     "name": "stdout",
     "output_type": "stream",
     "text": [
      "(20, 9)\n"
     ]
    }
   ],
   "source": [
    "# NAICS sector features - also just the one hots\n",
    "features_naics_sector = comb_df[['NAICS_sector'] + \\\n",
    "                                [c for c in train_df.columns if c.startswith('NS__')]] \\\n",
    "    .drop_duplicates()\n",
    "features_naics_sector['source'] = get_naics_sector_index(features_naics_sector['NAICS_sector'])\n",
    "features_naics_sector.set_index('source', inplace=True) \n",
    "features_naics_sector.drop(columns='NAICS_sector', inplace=True) \n",
    "print(features_naics_sector.shape)"
   ]
  },
  {
   "cell_type": "markdown",
   "id": "c7f8e966-6953-43b8-9486-35e00701b05b",
   "metadata": {},
   "source": [
    "## Load StellarGraph Objects"
   ]
  },
  {
   "cell_type": "markdown",
   "id": "eb5333ea-dc58-49ac-97b3-1a4779d4ccd7",
   "metadata": {},
   "source": [
    "##### Function to limit edges, nodes"
   ]
  },
  {
   "cell_type": "code",
   "execution_count": 136,
   "id": "cfcdb07b-7d87-4f64-9e71-88a0529c6c44",
   "metadata": {},
   "outputs": [],
   "source": [
    "def limit_data(dsets_list = ['train'],\n",
    "               edges_all= edges_all, \n",
    "               features_business = features_business, \n",
    "               features_naics = features_naics, \n",
    "               features_naics_sector = features_naics_sector):\n",
    "    \n",
    "    # Limit edges\n",
    "    edges_lim = edges_all[edges_all['dset'].isin(dsets_list)] \\\n",
    "        .drop(columns='dset')\n",
    "               \n",
    "    # Business features limit limit\n",
    "    features_business_lim = features_business[features_business['dset'].isin(dsets_list)] \\\n",
    "        .drop(columns='dset') \n",
    "    \n",
    "    # Get NAICS nodes associated with the dset businesses\n",
    "    naics_ind = edges_lim[edges_lim['type'] == 'loan_naics'] \\\n",
    "        [['target']] \\\n",
    "        .drop_duplicates()\n",
    "    \n",
    "    # Limit NAICS\n",
    "    features_naics_lim = features_naics.merge(naics_ind.set_index('target'), \n",
    "                                              left_index=True, right_index=True)\n",
    "    \n",
    "    # Get NAICS sector nodes associated with dset businesses\n",
    "    naics_sector_ind = edges_lim[edges_lim['type'] == 'naics_sector'] \\\n",
    "        [['target']] \\\n",
    "        .drop_duplicates()\n",
    "    \n",
    "    # Limit sectors\n",
    "    features_naics_sector_lim = features_naics_sector \\\n",
    "        .merge(naics_sector_ind.set_index('target'), left_index=True, right_index=True) \n",
    "    \n",
    "    return (edges_lim, features_business_lim, \n",
    "            features_naics_lim, features_naics_sector_lim)"
   ]
  },
  {
   "cell_type": "markdown",
   "id": "f2b8aff6-2b85-417c-8bcc-24ebeb04102c",
   "metadata": {},
   "source": [
    "##### Training only"
   ]
  },
  {
   "cell_type": "code",
   "execution_count": 138,
   "id": "68549a78-1d36-4c8e-a8cd-063684c16952",
   "metadata": {},
   "outputs": [],
   "source": [
    "edges_train, features_business_train, features_naics_train, features_naics_sector_train = \\\n",
    "    limit_data(['train'])"
   ]
  },
  {
   "cell_type": "code",
   "execution_count": 139,
   "id": "3ac82078-12c4-4fea-8de1-24aac76c0606",
   "metadata": {},
   "outputs": [
    {
     "name": "stdout",
     "output_type": "stream",
     "text": [
      "(448550, 3)\n"
     ]
    }
   ],
   "source": [
    "print(edges_train.shape)"
   ]
  },
  {
   "cell_type": "code",
   "execution_count": 140,
   "id": "d3aa4c72-7268-4e08-96e9-b59ee13bce9a",
   "metadata": {},
   "outputs": [
    {
     "name": "stdout",
     "output_type": "stream",
     "text": [
      "business features, start rows 688081, end 447252\n",
      "naics features, start rows 1311, end 1298\n",
      "naics sector features, start rows 20, end 20\n"
     ]
    }
   ],
   "source": [
    "print(f'business features, start rows {features_business.shape[0]}, end {features_business_train.shape[0]}')\n",
    "print(f'naics features, start rows {features_naics.shape[0]}, end {features_naics_train.shape[0]}')\n",
    "print(f'naics sector features, start rows {features_naics_sector.shape[0]}, end {features_naics_sector_train.shape[0]}')"
   ]
  },
  {
   "cell_type": "code",
   "execution_count": 141,
   "id": "28101521-fbfa-4c4f-ac59-ef09d8c89d98",
   "metadata": {},
   "outputs": [],
   "source": [
    "sba_graph_train = StellarGraph({'LoanNr_ChkDgt':features_business_train,\n",
    "                                'NAICS': features_naics_train,\n",
    "                                'NAICS_sector': features_naics_sector_train},\n",
    "                               edges_train, \n",
    "                               source_column=\"source\", target_column=\"target\",\n",
    "                               edge_type_column=\"type\")"
   ]
  },
  {
   "cell_type": "code",
   "execution_count": 151,
   "id": "72327cbc-3301-4fc5-8082-24c3ca2c2f31",
   "metadata": {},
   "outputs": [
    {
     "name": "stdout",
     "output_type": "stream",
     "text": [
      "StellarGraph: Undirected multigraph\n",
      " Nodes: 448570, Edges: 448550\n",
      "\n",
      " Node types:\n",
      "  LoanNr_ChkDgt: [447252]\n",
      "    Features: float32 vector, length 10\n",
      "    Edge types: LoanNr_ChkDgt-loan_naics->NAICS\n",
      "  NAICS: [1298]\n",
      "    Features: float32 vector, length 9\n",
      "    Edge types: NAICS-loan_naics->LoanNr_ChkDgt, NAICS-naics_sector->NAICS_sector\n",
      "  NAICS_sector: [20]\n",
      "    Features: float32 vector, length 9\n",
      "    Edge types: NAICS_sector-naics_sector->NAICS\n",
      "\n",
      " Edge types:\n",
      "    LoanNr_ChkDgt-loan_naics->NAICS: [447252]\n",
      "        Weights: all 1 (default)\n",
      "        Features: none\n",
      "    NAICS-naics_sector->NAICS_sector: [1298]\n",
      "        Weights: all 1 (default)\n",
      "        Features: none\n"
     ]
    }
   ],
   "source": [
    "print(sba_graph_train.info())"
   ]
  },
  {
   "cell_type": "code",
   "execution_count": 142,
   "id": "c1fe895a-477f-4eee-b713-56f9f5ae44fd",
   "metadata": {},
   "outputs": [],
   "source": [
    "# Save stellargraph object\n",
    "with open(Path(setup.temp_path).joinpath('10_DATA_stellargraph_train.pkl'), 'wb') as fout:\n",
    "      pickle.dump(sba_graph_train, fout)"
   ]
  },
  {
   "cell_type": "markdown",
   "id": "07286964-0c9d-49c2-a426-9c29a64c57c0",
   "metadata": {},
   "source": [
    "##### Train plus validation"
   ]
  },
  {
   "cell_type": "code",
   "execution_count": 143,
   "id": "a514ac90-2579-4944-ad51-b8e6b055c272",
   "metadata": {
    "tags": []
   },
   "outputs": [],
   "source": [
    "edges_val, features_business_val, features_naics_val, features_naics_sector_val= \\\n",
    "    limit_data(['train','val'])"
   ]
  },
  {
   "cell_type": "code",
   "execution_count": 163,
   "id": "8e68510a-4b4c-44c3-b920-213bcabfeea9",
   "metadata": {},
   "outputs": [
    {
     "name": "stdout",
     "output_type": "stream",
     "text": [
      "(546091, 3)\n"
     ]
    }
   ],
   "source": [
    "print(edges_val.shape)"
   ]
  },
  {
   "cell_type": "code",
   "execution_count": 145,
   "id": "e5ea3d37-d8b0-4bab-94a0-2da817e4ce06",
   "metadata": {},
   "outputs": [
    {
     "name": "stdout",
     "output_type": "stream",
     "text": [
      "business features, start rows 688081, end 543584\n",
      "naics features, start rows 1311, end 1307\n",
      "naics sector features, start rows 20, end 20\n"
     ]
    }
   ],
   "source": [
    "print(f'business features, start rows {features_business.shape[0]}, end {features_business_val.shape[0]}')\n",
    "print(f'naics features, start rows {features_naics.shape[0]}, end {features_naics_val.shape[0]}')\n",
    "print(f'naics sector features, start rows {features_naics_sector.shape[0]}, end {features_naics_sector_val.shape[0]}')"
   ]
  },
  {
   "cell_type": "code",
   "execution_count": 146,
   "id": "ed784fa7-3167-4382-9b74-33bb382f0879",
   "metadata": {},
   "outputs": [],
   "source": [
    "sba_graph_val = StellarGraph({'LoanNr_ChkDgt':features_business_val,\n",
    "                                'NAICS': features_naics_val,\n",
    "                                'NAICS_sector': features_naics_sector_val},\n",
    "                               edges_val, \n",
    "                               source_column=\"source\", target_column=\"target\",\n",
    "                               edge_type_column=\"type\")"
   ]
  },
  {
   "cell_type": "code",
   "execution_count": 150,
   "id": "a32b0891-35a7-4d9c-be26-8662f2770e36",
   "metadata": {},
   "outputs": [
    {
     "name": "stdout",
     "output_type": "stream",
     "text": [
      "StellarGraph: Undirected multigraph\n",
      " Nodes: 544911, Edges: 546091\n",
      "\n",
      " Node types:\n",
      "  LoanNr_ChkDgt: [543584]\n",
      "    Features: float32 vector, length 10\n",
      "    Edge types: LoanNr_ChkDgt-loan_naics->NAICS\n",
      "  NAICS: [1307]\n",
      "    Features: float32 vector, length 9\n",
      "    Edge types: NAICS-loan_naics->LoanNr_ChkDgt, NAICS-naics_sector->NAICS_sector\n",
      "  NAICS_sector: [20]\n",
      "    Features: float32 vector, length 9\n",
      "    Edge types: NAICS_sector-naics_sector->NAICS\n",
      "\n",
      " Edge types:\n",
      "    LoanNr_ChkDgt-loan_naics->NAICS: [543584]\n",
      "        Weights: all 1 (default)\n",
      "        Features: none\n",
      "    NAICS-naics_sector->NAICS_sector: [2507]\n",
      "        Weights: all 1 (default)\n",
      "        Features: none\n"
     ]
    }
   ],
   "source": [
    "print(sba_graph_val.info())"
   ]
  },
  {
   "cell_type": "code",
   "execution_count": 147,
   "id": "6ada11fe-7f22-405c-867f-32a6bb82b24c",
   "metadata": {},
   "outputs": [],
   "source": [
    "# Save stellargraph object\n",
    "with open(Path(setup.temp_path).joinpath('10_DATA_stellargraph_val.pkl'), 'wb') as fout:\n",
    "      pickle.dump(sba_graph_val, fout)"
   ]
  },
  {
   "cell_type": "markdown",
   "id": "47ba7b60-b1c0-40b4-a653-f2a37a866e4e",
   "metadata": {},
   "source": [
    "##### All nodes (train, validation, test)\n",
    "No filtering needed"
   ]
  },
  {
   "cell_type": "code",
   "execution_count": 152,
   "id": "42b45431-59b4-4c03-b637-7fd5158b2015",
   "metadata": {},
   "outputs": [
    {
     "name": "stdout",
     "output_type": "stream",
     "text": [
      "(689392, 3)\n"
     ]
    }
   ],
   "source": [
    "edges_all_fin = edges_all.drop(columns=['dset']) \\\n",
    "    .drop_duplicates()\n",
    "print(edges_all_fin.shape)"
   ]
  },
  {
   "cell_type": "code",
   "execution_count": 156,
   "id": "b1abf68f-0cab-43a2-b485-402aa94b9eec",
   "metadata": {},
   "outputs": [],
   "source": [
    "features_business_fin = features_business.drop(columns=['dset']) "
   ]
  },
  {
   "cell_type": "code",
   "execution_count": 157,
   "id": "b4e81834-e99a-4e62-aff3-244c5602e83d",
   "metadata": {},
   "outputs": [],
   "source": [
    "sba_graph_all = StellarGraph({'LoanNr_ChkDgt':features_business_fin,\n",
    "                              'NAICS': features_naics,\n",
    "                              'NAICS_sector': features_naics_sector},\n",
    "                             edges_all_fin, \n",
    "                             source_column=\"source\", target_column=\"target\",\n",
    "                             edge_type_column=\"type\")"
   ]
  },
  {
   "cell_type": "code",
   "execution_count": 158,
   "id": "096b0404-127c-41b8-b3b0-17b2fc2ec57d",
   "metadata": {},
   "outputs": [
    {
     "name": "stdout",
     "output_type": "stream",
     "text": [
      "StellarGraph: Undirected multigraph\n",
      " Nodes: 689412, Edges: 689392\n",
      "\n",
      " Node types:\n",
      "  LoanNr_ChkDgt: [688081]\n",
      "    Features: float32 vector, length 10\n",
      "    Edge types: LoanNr_ChkDgt-loan_naics->NAICS\n",
      "  NAICS: [1311]\n",
      "    Features: float32 vector, length 9\n",
      "    Edge types: NAICS-loan_naics->LoanNr_ChkDgt, NAICS-naics_sector->NAICS_sector\n",
      "  NAICS_sector: [20]\n",
      "    Features: float32 vector, length 9\n",
      "    Edge types: NAICS_sector-naics_sector->NAICS\n",
      "\n",
      " Edge types:\n",
      "    LoanNr_ChkDgt-loan_naics->NAICS: [688081]\n",
      "        Weights: all 1 (default)\n",
      "        Features: none\n",
      "    NAICS-naics_sector->NAICS_sector: [1311]\n",
      "        Weights: all 1 (default)\n",
      "        Features: none\n"
     ]
    }
   ],
   "source": [
    "print(sba_graph_all.info())"
   ]
  },
  {
   "cell_type": "code",
   "execution_count": 159,
   "id": "12a37b3c-6b58-437e-8d00-26b10a5d96a5",
   "metadata": {},
   "outputs": [],
   "source": [
    "# Save stellargraph object\n",
    "with open(Path(setup.temp_path).joinpath('10_DATA_stellargraph.pkl'), 'wb') as fout:\n",
    "      pickle.dump(sba_graph_all, fout)"
   ]
  },
  {
   "cell_type": "markdown",
   "id": "220ef490-0004-41b2-85d4-18c70db19c7b",
   "metadata": {},
   "source": [
    "##### Test cases *only*\n",
    "I am interested in how much of the original graph is needed to get good predictions.  I can use a test-only slice to start"
   ]
  },
  {
   "cell_type": "code",
   "execution_count": 161,
   "id": "03d91bb6-27e3-4481-9244-4c1e95138292",
   "metadata": {
    "tags": []
   },
   "outputs": [],
   "source": [
    "edges_test_only, features_business_test_only, \\\n",
    "    features_naics_test_only, features_naics_sector_test_only= \\\n",
    "    limit_data(['test'])"
   ]
  },
  {
   "cell_type": "code",
   "execution_count": 162,
   "id": "16a5c34a-ae77-4374-b8d5-2cb1ff7785c7",
   "metadata": {},
   "outputs": [
    {
     "name": "stdout",
     "output_type": "stream",
     "text": [
      "(145750, 3)\n"
     ]
    }
   ],
   "source": [
    "print(edges_test_only.shape)"
   ]
  },
  {
   "cell_type": "code",
   "execution_count": 164,
   "id": "70ab2ed3-cf55-48c4-a988-4bb87ce941a8",
   "metadata": {},
   "outputs": [
    {
     "name": "stdout",
     "output_type": "stream",
     "text": [
      "business features, start rows 688081, end 144497\n",
      "naics features, start rows 1311, end 1253\n",
      "naics sector features, start rows 20, end 20\n"
     ]
    }
   ],
   "source": [
    "print(f'business features, start rows {features_business.shape[0]}, end {features_business_test_only.shape[0]}')\n",
    "print(f'naics features, start rows {features_naics.shape[0]}, end {features_naics_test_only.shape[0]}')\n",
    "print(f'naics sector features, start rows {features_naics_sector.shape[0]}, end {features_naics_sector_test_only.shape[0]}')"
   ]
  },
  {
   "cell_type": "code",
   "execution_count": 165,
   "id": "e6fdb657-4bfe-4cdf-a16c-9846e9f772f3",
   "metadata": {},
   "outputs": [],
   "source": [
    "sba_graph_test_only = StellarGraph({'LoanNr_ChkDgt':features_business_test_only,\n",
    "                                'NAICS': features_naics_test_only,\n",
    "                                'NAICS_sector': features_naics_sector_test_only},\n",
    "                               edges_test_only, \n",
    "                               source_column=\"source\", target_column=\"target\",\n",
    "                               edge_type_column=\"type\")"
   ]
  },
  {
   "cell_type": "code",
   "execution_count": 166,
   "id": "46b917f2-0415-4d6a-954f-14c6f9c948c0",
   "metadata": {},
   "outputs": [
    {
     "name": "stdout",
     "output_type": "stream",
     "text": [
      "StellarGraph: Undirected multigraph\n",
      " Nodes: 145770, Edges: 145750\n",
      "\n",
      " Node types:\n",
      "  LoanNr_ChkDgt: [144497]\n",
      "    Features: float32 vector, length 10\n",
      "    Edge types: LoanNr_ChkDgt-loan_naics->NAICS\n",
      "  NAICS: [1253]\n",
      "    Features: float32 vector, length 9\n",
      "    Edge types: NAICS-loan_naics->LoanNr_ChkDgt, NAICS-naics_sector->NAICS_sector\n",
      "  NAICS_sector: [20]\n",
      "    Features: float32 vector, length 9\n",
      "    Edge types: NAICS_sector-naics_sector->NAICS\n",
      "\n",
      " Edge types:\n",
      "    LoanNr_ChkDgt-loan_naics->NAICS: [144497]\n",
      "        Weights: all 1 (default)\n",
      "        Features: none\n",
      "    NAICS-naics_sector->NAICS_sector: [1253]\n",
      "        Weights: all 1 (default)\n",
      "        Features: none\n"
     ]
    }
   ],
   "source": [
    "print(sba_graph_test_only.info())"
   ]
  },
  {
   "cell_type": "code",
   "execution_count": 167,
   "id": "1433f800-45bc-4f89-9466-cebc150e5cd5",
   "metadata": {},
   "outputs": [],
   "source": [
    "# Save stellargraph object\n",
    "with open(Path(setup.temp_path).joinpath('10_DATA_stellargraph_test_only.pkl'), 'wb') as fout:\n",
    "      pickle.dump(sba_graph_test_only, fout)"
   ]
  },
  {
   "cell_type": "code",
   "execution_count": null,
   "id": "b8bb19bb-87f7-429c-91b8-4ce3a45dcf91",
   "metadata": {},
   "outputs": [],
   "source": []
  }
 ],
 "metadata": {
  "kernelspec": {
   "display_name": "tf_p39",
   "language": "python",
   "name": "tf_p39"
  },
  "language_info": {
   "codemirror_mode": {
    "name": "ipython",
    "version": 3
   },
   "file_extension": ".py",
   "mimetype": "text/x-python",
   "name": "python",
   "nbconvert_exporter": "python",
   "pygments_lexer": "ipython3",
   "version": "3.8.18"
  }
 },
 "nbformat": 4,
 "nbformat_minor": 5
}
