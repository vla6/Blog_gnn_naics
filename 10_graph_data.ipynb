{
 "cells": [
  {
   "cell_type": "code",
   "execution_count": 1,
   "id": "dd371bd9-82c7-44c7-8826-beb0c549974b",
   "metadata": {
    "tags": []
   },
   "outputs": [],
   "source": [
    "# Modify the file 00_setup.py to define input/output file paths on your system\n",
    "# The information in 00_setup.py will be used across notebooks\n",
    "from importlib.machinery import SourceFileLoader\n",
    "setup = SourceFileLoader(\"setup\", \"./00_setup.py\").load_module()"
   ]
  },
  {
   "cell_type": "markdown",
   "id": "be7d3f74-1737-4eee-9e6f-06233b68c2b1",
   "metadata": {},
   "source": [
    "# 10: Stellargraph Data Import\n",
    "StellarGraph model"
   ]
  },
  {
   "cell_type": "markdown",
   "id": "b6956879-bdba-4750-bbdf-e26ade43c72f",
   "metadata": {},
   "source": [
    "*This script takes about 5 minutes on my MacBook Air*"
   ]
  },
  {
   "cell_type": "code",
   "execution_count": 2,
   "id": "a06b80fe-17ee-409a-8f41-ab2427d6f407",
   "metadata": {},
   "outputs": [],
   "source": [
    "import pandas as pd\n",
    "import numpy as np"
   ]
  },
  {
   "cell_type": "code",
   "execution_count": 3,
   "id": "4278237c-f6ad-4cd9-9144-5b7bb134a391",
   "metadata": {},
   "outputs": [],
   "source": [
    "from pathlib import Path"
   ]
  },
  {
   "cell_type": "code",
   "execution_count": 7,
   "id": "7abfb26a-e093-4676-9bda-4cdffd31d18b",
   "metadata": {},
   "outputs": [
    {
     "name": "stdout",
     "output_type": "stream",
     "text": [
      "Collecting scikit-plot\n",
      "  Using cached scikit_plot-0.3.7-py3-none-any.whl (33 kB)\n",
      "Requirement already satisfied: scipy>=0.9 in /Users/valeriecarey/miniconda3/lib/python3.10/site-packages (from scikit-plot) (1.10.0)\n",
      "Requirement already satisfied: joblib>=0.10 in /Users/valeriecarey/miniconda3/lib/python3.10/site-packages (from scikit-plot) (1.2.0)\n",
      "Requirement already satisfied: matplotlib>=1.4.0 in /Users/valeriecarey/miniconda3/lib/python3.10/site-packages (from scikit-plot) (3.7.1)\n",
      "Requirement already satisfied: scikit-learn>=0.18 in /Users/valeriecarey/miniconda3/lib/python3.10/site-packages (from scikit-plot) (1.2.2)\n",
      "Requirement already satisfied: contourpy>=1.0.1 in /Users/valeriecarey/miniconda3/lib/python3.10/site-packages (from matplotlib>=1.4.0->scikit-plot) (1.1.0)\n",
      "Requirement already satisfied: pillow>=6.2.0 in /Users/valeriecarey/miniconda3/lib/python3.10/site-packages (from matplotlib>=1.4.0->scikit-plot) (9.4.0)\n",
      "Requirement already satisfied: numpy>=1.20 in /Users/valeriecarey/miniconda3/lib/python3.10/site-packages (from matplotlib>=1.4.0->scikit-plot) (1.24.3)\n",
      "Requirement already satisfied: kiwisolver>=1.0.1 in /Users/valeriecarey/miniconda3/lib/python3.10/site-packages (from matplotlib>=1.4.0->scikit-plot) (1.4.4)\n",
      "Requirement already satisfied: packaging>=20.0 in /Users/valeriecarey/miniconda3/lib/python3.10/site-packages (from matplotlib>=1.4.0->scikit-plot) (23.1)\n",
      "Requirement already satisfied: python-dateutil>=2.7 in /Users/valeriecarey/miniconda3/lib/python3.10/site-packages (from matplotlib>=1.4.0->scikit-plot) (2.8.2)\n",
      "Requirement already satisfied: cycler>=0.10 in /Users/valeriecarey/miniconda3/lib/python3.10/site-packages (from matplotlib>=1.4.0->scikit-plot) (0.11.0)\n",
      "Requirement already satisfied: fonttools>=4.22.0 in /Users/valeriecarey/miniconda3/lib/python3.10/site-packages (from matplotlib>=1.4.0->scikit-plot) (4.40.0)\n",
      "Requirement already satisfied: pyparsing>=2.3.1 in /Users/valeriecarey/miniconda3/lib/python3.10/site-packages (from matplotlib>=1.4.0->scikit-plot) (3.0.9)\n",
      "Requirement already satisfied: threadpoolctl>=2.0.0 in /Users/valeriecarey/miniconda3/lib/python3.10/site-packages (from scikit-learn>=0.18->scikit-plot) (3.1.0)\n",
      "Requirement already satisfied: six>=1.5 in /Users/valeriecarey/miniconda3/lib/python3.10/site-packages (from python-dateutil>=2.7->matplotlib>=1.4.0->scikit-plot) (1.16.0)\n",
      "Installing collected packages: scikit-plot\n",
      "Successfully installed scikit-plot-0.3.7\n"
     ]
    }
   ],
   "source": [
    "!pip install chardet"
   ]
  },
  {
   "cell_type": "code",
   "execution_count": 9,
   "id": "53acaac5-7e90-4437-b4fc-a8a80b48203c",
   "metadata": {},
   "outputs": [
    {
     "ename": "ModuleNotFoundError",
     "evalue": "No module named 'scikitplot'",
     "output_type": "error",
     "traceback": [
      "\u001b[0;31m---------------------------------------------------------------------------\u001b[0m",
      "\u001b[0;31mModuleNotFoundError\u001b[0m                       Traceback (most recent call last)",
      "Cell \u001b[0;32mIn[9], line 6\u001b[0m\n\u001b[1;32m      3\u001b[0m \u001b[38;5;28;01mfrom\u001b[39;00m \u001b[38;5;21;01msklearn\u001b[39;00m\u001b[38;5;21;01m.\u001b[39;00m\u001b[38;5;21;01mmetrics\u001b[39;00m \u001b[38;5;28;01mimport\u001b[39;00m accuracy_score, f1_score, precision_score, recall_score, \\\n\u001b[1;32m      4\u001b[0m     average_precision_score, roc_auc_score\n\u001b[1;32m      5\u001b[0m \u001b[38;5;28;01mfrom\u001b[39;00m \u001b[38;5;21;01msklearn\u001b[39;00m\u001b[38;5;21;01m.\u001b[39;00m\u001b[38;5;21;01minspection\u001b[39;00m \u001b[38;5;28;01mimport\u001b[39;00m permutation_importance\n\u001b[0;32m----> 6\u001b[0m \u001b[38;5;28;01mfrom\u001b[39;00m \u001b[38;5;21;01mscikitplot\u001b[39;00m\u001b[38;5;21;01m.\u001b[39;00m\u001b[38;5;21;01mmetrics\u001b[39;00m \u001b[38;5;28;01mimport\u001b[39;00m plot_lift_curve\n\u001b[1;32m      7\u001b[0m \u001b[38;5;28;01mfrom\u001b[39;00m \u001b[38;5;21;01msklearn\u001b[39;00m\u001b[38;5;21;01m.\u001b[39;00m\u001b[38;5;21;01mensemble\u001b[39;00m \u001b[38;5;28;01mimport\u001b[39;00m GradientBoostingClassifier\n",
      "\u001b[0;31mModuleNotFoundError\u001b[0m: No module named 'scikitplot'"
     ]
    }
   ],
   "source": [
    "import sklearn as sk\n",
    "from sklearn.model_selection import RandomizedSearchCV\n",
    "from sklearn.metrics import accuracy_score, f1_score, precision_score, recall_score, \\\n",
    "    average_precision_score, roc_auc_score\n",
    "from sklearn.inspection import permutation_importance\n",
    "from scikitplot.metrics import plot_lift_curve\n",
    "from sklearn.ensemble import GradientBoostingClassifier"
   ]
  },
  {
   "cell_type": "code",
   "execution_count": null,
   "id": "4c02dce2-22c6-4a8c-a8ef-a83b68becde2",
   "metadata": {},
   "outputs": [],
   "source": [
    "https://stellargraph.readthedocs.io/en/stable/demos/basics/loading-pandas.html"
   ]
  },
  {
   "cell_type": "code",
   "execution_count": null,
   "id": "937b731a-401a-408f-b956-cf230eabd6f4",
   "metadata": {},
   "outputs": [],
   "source": [
    "https://gist.github.com/Orbifold/5e267774dcafa58e7e3cafce7e9c73b6"
   ]
  },
  {
   "cell_type": "code",
   "execution_count": null,
   "id": "2971e645-cb7b-4cc6-a990-ada2e616313b",
   "metadata": {},
   "outputs": [],
   "source": [
    "https://stellargraph.readthedocs.io/en/stable/demos/node-classification/graphsage-node-classification.html"
   ]
  },
  {
   "cell_type": "code",
   "execution_count": null,
   "id": "531f0a72-4555-4169-8a1b-3feb3dfc207b",
   "metadata": {},
   "outputs": [],
   "source": [
    "https://stellargraph.readthedocs.io/en/v1.2.0/api.html\n",
    "class stellargraph.StellarGrap"
   ]
  },
  {
   "cell_type": "code",
   "execution_count": null,
   "id": "1c5be1c5-4038-453f-be28-a7f408263bd7",
   "metadata": {},
   "outputs": [],
   "source": [
    "Python 3.6 envt!\n",
    "\n",
    "https://stackoverflow.com/questions/43759610/how-to-add-python-3-6-kernel-alongside-3-5-on-jupyter\n"
   ]
  },
  {
   "cell_type": "code",
   "execution_count": null,
   "id": "83c30a8d-d7e2-4417-90ce-4ab182772cbd",
   "metadata": {},
   "outputs": [],
   "source": []
  },
  {
   "cell_type": "markdown",
   "id": "faac611d-2f98-4d45-bb70-c64e3890a705",
   "metadata": {},
   "source": [
    "# Vignette"
   ]
  },
  {
   "cell_type": "markdown",
   "id": "1ed98355-9de3-4f7d-aecf-125502555804",
   "metadata": {},
   "source": [
    "https://stellargraph.readthedocs.io/en/stable/demos/node-classification/graphsage-node-classification.html"
   ]
  },
  {
   "cell_type": "code",
   "execution_count": 1,
   "id": "f5d5ccb9-8e16-458a-b6ff-6152719a1a83",
   "metadata": {},
   "outputs": [
    {
     "name": "stderr",
     "output_type": "stream",
     "text": [
      "2023-11-14 22:09:38.343241: I metal_plugin/src/device/metal_device.cc:1154] Metal device set to: Apple M1\n",
      "2023-11-14 22:09:38.343267: I metal_plugin/src/device/metal_device.cc:296] systemMemory: 16.00 GB\n",
      "2023-11-14 22:09:38.343275: I metal_plugin/src/device/metal_device.cc:313] maxCacheSize: 5.33 GB\n",
      "2023-11-14 22:09:38.343589: I tensorflow/core/common_runtime/pluggable_device/pluggable_device_factory.cc:303] Could not identify NUMA node of platform GPU ID 0, defaulting to 0. Your kernel may not have been built with NUMA support.\n",
      "2023-11-14 22:09:38.343948: I tensorflow/core/common_runtime/pluggable_device/pluggable_device_factory.cc:269] Created TensorFlow device (/job:localhost/replica:0/task:0/device:GPU:0 with 0 MB memory) -> physical PluggableDevice (device: 0, name: METAL, pci bus id: <undefined>)\n"
     ]
    }
   ],
   "source": [
    "import networkx as nx\n",
    "import pandas as pd\n",
    "import os\n",
    "\n",
    "import stellargraph as sg\n",
    "from stellargraph.mapper import GraphSAGENodeGenerator\n",
    "from stellargraph.layer import GraphSAGE\n",
    "\n",
    "from tensorflow.keras import layers, optimizers, losses, metrics, Model\n",
    "from sklearn import preprocessing, feature_extraction, model_selection\n",
    "from stellargraph import datasets\n",
    "from IPython.display import display, HTML\n",
    "import matplotlib.pyplot as plt\n",
    "%matplotlib inline"
   ]
  },
  {
   "cell_type": "code",
   "execution_count": 2,
   "id": "ef519153-5768-4f7f-9e71-8b98c5b3d725",
   "metadata": {},
   "outputs": [
    {
     "data": {
      "text/html": [
       "The Cora dataset consists of 2708 scientific publications classified into one of seven classes. The citation network consists of 5429 links. Each publication in the dataset is described by a 0/1-valued word vector indicating the absence/presence of the corresponding word from the dictionary. The dictionary consists of 1433 unique words."
      ],
      "text/plain": [
       "<IPython.core.display.HTML object>"
      ]
     },
     "metadata": {},
     "output_type": "display_data"
    }
   ],
   "source": [
    "dataset = datasets.Cora()\n",
    "display(HTML(dataset.description))\n",
    "G, node_subjects = dataset.load()"
   ]
  },
  {
   "cell_type": "code",
   "execution_count": 3,
   "id": "b17588c9-acd9-45f1-b817-8cc9d519fa17",
   "metadata": {},
   "outputs": [
    {
     "name": "stdout",
     "output_type": "stream",
     "text": [
      "StellarGraph: Undirected multigraph\n",
      " Nodes: 2708, Edges: 5429\n",
      "\n",
      " Node types:\n",
      "  paper: [2708]\n",
      "    Features: float32 vector, length 1433\n",
      "    Edge types: paper-cites->paper\n",
      "\n",
      " Edge types:\n",
      "    paper-cites->paper: [5429]\n",
      "        Weights: all 1 (default)\n",
      "        Features: none\n"
     ]
    }
   ],
   "source": [
    "print(G.info())"
   ]
  },
  {
   "cell_type": "code",
   "execution_count": 4,
   "id": "15886a1a-e5d8-4928-a81f-610ea3a7d2f2",
   "metadata": {},
   "outputs": [
    {
     "data": {
      "text/plain": [
       "{'Case_Based',\n",
       " 'Genetic_Algorithms',\n",
       " 'Neural_Networks',\n",
       " 'Probabilistic_Methods',\n",
       " 'Reinforcement_Learning',\n",
       " 'Rule_Learning',\n",
       " 'Theory'}"
      ]
     },
     "execution_count": 4,
     "metadata": {},
     "output_type": "execute_result"
    }
   ],
   "source": [
    "set(node_subjects)"
   ]
  },
  {
   "cell_type": "code",
   "execution_count": 5,
   "id": "28125372-c126-433d-80ff-e1b500b201a3",
   "metadata": {},
   "outputs": [],
   "source": [
    "train_subjects, test_subjects = model_selection.train_test_split(\n",
    "    node_subjects, train_size=0.1, test_size=None, stratify=node_subjects\n",
    ")"
   ]
  },
  {
   "cell_type": "code",
   "execution_count": 6,
   "id": "7547cc71-8293-4c65-864d-a8a9deba4c0a",
   "metadata": {},
   "outputs": [
    {
     "data": {
      "text/plain": [
       "Counter({'Neural_Networks': 81,\n",
       "         'Rule_Learning': 18,\n",
       "         'Theory': 35,\n",
       "         'Genetic_Algorithms': 42,\n",
       "         'Case_Based': 30,\n",
       "         'Reinforcement_Learning': 22,\n",
       "         'Probabilistic_Methods': 42})"
      ]
     },
     "execution_count": 6,
     "metadata": {},
     "output_type": "execute_result"
    }
   ],
   "source": [
    "from collections import Counter\n",
    "\n",
    "Counter(train_subjects)"
   ]
  },
  {
   "cell_type": "code",
   "execution_count": 7,
   "id": "30b69d38-351a-4857-9574-42682a2261db",
   "metadata": {},
   "outputs": [],
   "source": [
    "target_encoding = preprocessing.LabelBinarizer()\n",
    "\n",
    "train_targets = target_encoding.fit_transform(train_subjects)\n",
    "test_targets = target_encoding.transform(test_subjects)"
   ]
  },
  {
   "cell_type": "code",
   "execution_count": 8,
   "id": "3a401831-8ee2-43e7-9d84-21ef243b95e9",
   "metadata": {},
   "outputs": [],
   "source": [
    "batch_size = 50\n",
    "num_samples = [10, 5]"
   ]
  },
  {
   "cell_type": "code",
   "execution_count": 9,
   "id": "16224257-f140-4560-808d-4d9e6e04f52b",
   "metadata": {},
   "outputs": [],
   "source": [
    "generator = GraphSAGENodeGenerator(G, batch_size, num_samples)"
   ]
  },
  {
   "cell_type": "code",
   "execution_count": 10,
   "id": "286e9505-2d8d-4c5a-831f-25da2fe1c218",
   "metadata": {},
   "outputs": [],
   "source": [
    "train_gen = generator.flow(train_subjects.index, train_targets, shuffle=True)"
   ]
  },
  {
   "cell_type": "code",
   "execution_count": 11,
   "id": "f04a351d-eba9-429a-a07d-0c1d6f354ef2",
   "metadata": {},
   "outputs": [],
   "source": [
    "graphsage_model = GraphSAGE(\n",
    "    layer_sizes=[32, 32], generator=generator, bias=True, dropout=0.5,\n",
    ")"
   ]
  },
  {
   "cell_type": "code",
   "execution_count": 15,
   "id": "2c648ef6-fa68-44c7-8a0c-4b5831e4e865",
   "metadata": {},
   "outputs": [],
   "source": [
    "#Added\n",
    "import numpy as np\n",
    "import tensorflow as tf\n",
    "np.random.seed(16)\n",
    "tf.random.set_seed(16)"
   ]
  },
  {
   "cell_type": "code",
   "execution_count": 16,
   "id": "297b22fe-4f8d-4605-85b9-fc4adc66310c",
   "metadata": {},
   "outputs": [],
   "source": [
    "x_inp, x_out = graphsage_model.in_out_tensors()\n",
    "prediction = layers.Dense(units=train_targets.shape[1], activation=\"softmax\")(x_out)"
   ]
  },
  {
   "cell_type": "code",
   "execution_count": 26,
   "id": "78e962be-f329-4065-809f-e55444383be3",
   "metadata": {},
   "outputs": [
    {
     "data": {
      "text/plain": [
       "[<KerasTensor: shape=(None, 1, 1433) dtype=float32 (created by layer 'input_4')>,\n",
       " <KerasTensor: shape=(None, 10, 1433) dtype=float32 (created by layer 'input_5')>,\n",
       " <KerasTensor: shape=(None, 50, 1433) dtype=float32 (created by layer 'input_6')>]"
      ]
     },
     "execution_count": 26,
     "metadata": {},
     "output_type": "execute_result"
    }
   ],
   "source": [
    "x_inp"
   ]
  },
  {
   "cell_type": "code",
   "execution_count": 27,
   "id": "3095b630-9d48-45f5-b321-8765eb068a16",
   "metadata": {},
   "outputs": [
    {
     "data": {
      "text/plain": [
       "<KerasTensor: shape=(None, 32) dtype=float32 (created by layer 'lambda')>"
      ]
     },
     "execution_count": 27,
     "metadata": {},
     "output_type": "execute_result"
    }
   ],
   "source": [
    "x_out"
   ]
  },
  {
   "cell_type": "code",
   "execution_count": 18,
   "id": "dae38724-e419-4548-8d50-e224b6b3ff5c",
   "metadata": {},
   "outputs": [],
   "source": [
    "model = Model(inputs=x_inp, outputs=prediction)\n",
    "model.compile(\n",
    "    optimizer=tf.keras.optimizers.legacy.Adam(learning_rate=0.005),\n",
    "    loss=losses.categorical_crossentropy,\n",
    "    metrics=[\"acc\"],\n",
    ")"
   ]
  },
  {
   "cell_type": "markdown",
   "id": "34096aa6-7245-4fac-b95c-4f40142d3a2f",
   "metadata": {},
   "source": [
    "##### Got this warning\n",
    "WARNING:absl:At this time, the v2.11+ optimizer `tf.keras.optimizers.Adam` runs slowly on M1/M2 Macs, please use the legacy Keras optimizer instead, located at `tf.keras.optimizers.legacy.Adam`.\n",
    "WARNING:absl:`lr` is deprecated in Keras optimizer, please use `learning_rate` or use the legacy optimizer, e.g.,tf.keras.optimizers.legacy.Adam.\n",
    "WARNING:absl:There is a known slowdown when using v2.11+ Keras optimizers on M1/M2 Macs. Falling back to the legacy Keras optimizer, i.e., `tf.keras.optimizers.legacy.Adam`.\n",
    "##### And so changed the above"
   ]
  },
  {
   "cell_type": "code",
   "execution_count": 19,
   "id": "9c030b8f-d4a3-43a1-a9de-9eb9c22d2c29",
   "metadata": {},
   "outputs": [],
   "source": [
    "test_gen = generator.flow(test_subjects.index, test_targets)"
   ]
  },
  {
   "cell_type": "code",
   "execution_count": 21,
   "id": "188d793e-b951-4dc5-ad51-62f39407c2e6",
   "metadata": {},
   "outputs": [
    {
     "name": "stdout",
     "output_type": "stream",
     "text": [
      "Epoch 1/20\n"
     ]
    },
    {
     "name": "stderr",
     "output_type": "stream",
     "text": [
      "2023-11-14 22:17:01.176039: I tensorflow/core/grappler/optimizers/custom_graph_optimizer_registry.cc:114] Plugin optimizer for device_type GPU is enabled.\n",
      "2023-11-14 22:17:06.559190: I tensorflow/core/grappler/optimizers/custom_graph_optimizer_registry.cc:114] Plugin optimizer for device_type GPU is enabled.\n"
     ]
    },
    {
     "name": "stdout",
     "output_type": "stream",
     "text": [
      "6/6 - 7s - loss: 1.8740 - acc: 0.2778 - val_loss: 1.7154 - val_acc: 0.3581 - 7s/epoch - 1s/step\n",
      "Epoch 2/20\n",
      "6/6 - 1s - loss: 1.6429 - acc: 0.4000 - val_loss: 1.5964 - val_acc: 0.4221 - 835ms/epoch - 139ms/step\n",
      "Epoch 3/20\n",
      "6/6 - 1s - loss: 1.4892 - acc: 0.5704 - val_loss: 1.4468 - val_acc: 0.5874 - 823ms/epoch - 137ms/step\n",
      "Epoch 4/20\n",
      "6/6 - 1s - loss: 1.3525 - acc: 0.7333 - val_loss: 1.3290 - val_acc: 0.7137 - 813ms/epoch - 136ms/step\n",
      "Epoch 5/20\n",
      "6/6 - 1s - loss: 1.2031 - acc: 0.8704 - val_loss: 1.2241 - val_acc: 0.7580 - 992ms/epoch - 165ms/step\n",
      "Epoch 6/20\n",
      "6/6 - 1s - loss: 1.0898 - acc: 0.9111 - val_loss: 1.1300 - val_acc: 0.7740 - 802ms/epoch - 134ms/step\n",
      "Epoch 7/20\n",
      "6/6 - 1s - loss: 0.9886 - acc: 0.9185 - val_loss: 1.0571 - val_acc: 0.7884 - 827ms/epoch - 138ms/step\n",
      "Epoch 8/20\n",
      "6/6 - 1s - loss: 0.8806 - acc: 0.9519 - val_loss: 0.9862 - val_acc: 0.7970 - 871ms/epoch - 145ms/step\n",
      "Epoch 9/20\n",
      "6/6 - 1s - loss: 0.7782 - acc: 0.9556 - val_loss: 0.9450 - val_acc: 0.7994 - 832ms/epoch - 139ms/step\n",
      "Epoch 10/20\n",
      "6/6 - 1s - loss: 0.7038 - acc: 0.9778 - val_loss: 0.8956 - val_acc: 0.7986 - 860ms/epoch - 143ms/step\n",
      "Epoch 11/20\n",
      "6/6 - 1s - loss: 0.6241 - acc: 0.9778 - val_loss: 0.8527 - val_acc: 0.8048 - 807ms/epoch - 135ms/step\n",
      "Epoch 12/20\n",
      "6/6 - 1s - loss: 0.5566 - acc: 0.9889 - val_loss: 0.8210 - val_acc: 0.8052 - 810ms/epoch - 135ms/step\n",
      "Epoch 13/20\n",
      "6/6 - 1s - loss: 0.5192 - acc: 0.9778 - val_loss: 0.7863 - val_acc: 0.8060 - 810ms/epoch - 135ms/step\n",
      "Epoch 14/20\n",
      "6/6 - 1s - loss: 0.4504 - acc: 0.9926 - val_loss: 0.7639 - val_acc: 0.8023 - 800ms/epoch - 133ms/step\n",
      "Epoch 15/20\n",
      "6/6 - 1s - loss: 0.4073 - acc: 0.9963 - val_loss: 0.7437 - val_acc: 0.7998 - 802ms/epoch - 134ms/step\n",
      "Epoch 16/20\n",
      "6/6 - 1s - loss: 0.3814 - acc: 0.9926 - val_loss: 0.7258 - val_acc: 0.7953 - 809ms/epoch - 135ms/step\n",
      "Epoch 17/20\n",
      "6/6 - 1s - loss: 0.3357 - acc: 1.0000 - val_loss: 0.7120 - val_acc: 0.8080 - 819ms/epoch - 136ms/step\n",
      "Epoch 18/20\n",
      "6/6 - 1s - loss: 0.3112 - acc: 0.9963 - val_loss: 0.6986 - val_acc: 0.8027 - 806ms/epoch - 134ms/step\n",
      "Epoch 19/20\n",
      "6/6 - 1s - loss: 0.2928 - acc: 0.9926 - val_loss: 0.6964 - val_acc: 0.7941 - 800ms/epoch - 133ms/step\n",
      "Epoch 20/20\n",
      "6/6 - 1s - loss: 0.2679 - acc: 0.9963 - val_loss: 0.6990 - val_acc: 0.8019 - 816ms/epoch - 136ms/step\n"
     ]
    }
   ],
   "source": [
    "history = model.fit(\n",
    "    train_gen, epochs=20, validation_data=test_gen, verbose=2, shuffle=False\n",
    ")"
   ]
  },
  {
   "cell_type": "code",
   "execution_count": 22,
   "id": "88cc3df8-f521-4b20-befe-5e0168d15ea1",
   "metadata": {},
   "outputs": [
    {
     "data": {
      "image/png": "[encoded data removed]",
      "text/plain": [
       "<Figure size 700x800 with 2 Axes>"
      ]
     },
     "metadata": {},
     "output_type": "display_data"
    }
   ],
   "source": [
    "sg.utils.plot_history(history)"
   ]
  },
  {
   "cell_type": "code",
   "execution_count": 23,
   "id": "7a23ffc0-a8b6-4b47-828a-7cadb9c5035d",
   "metadata": {},
   "outputs": [
    {
     "name": "stdout",
     "output_type": "stream",
     "text": [
      "49/49 [==============================] - 1s 14ms/step - loss: 0.7007 - acc: 0.7994\n",
      "\n",
      "Test Set Metrics:\n",
      "\tloss: 0.7007\n",
      "\tacc: 0.7994\n"
     ]
    }
   ],
   "source": [
    "test_metrics = model.evaluate(test_gen)\n",
    "print(\"\\nTest Set Metrics:\")\n",
    "for name, val in zip(model.metrics_names, test_metrics):\n",
    "    print(\"\\t{}: {:0.4f}\".format(name, val))"
   ]
  },
  {
   "cell_type": "markdown",
   "id": "5bb428c5-1e74-49d8-b639-8e72eb44feee",
   "metadata": {},
   "source": [
    "I had trouble with the parts here, my flow needed 2 inputs including the targets.."
   ]
  },
  {
   "cell_type": "code",
   "execution_count": 56,
   "id": "52337728-253e-4bbe-b6e9-3d944494ba2b",
   "metadata": {},
   "outputs": [],
   "source": [
    "index_list = [c for c in test_subjects.index] + [c for c in train_subjects.index]"
   ]
  },
  {
   "cell_type": "code",
   "execution_count": 57,
   "id": "d0bb882f-eaeb-4097-a9cf-22f2f155d13e",
   "metadata": {},
   "outputs": [],
   "source": [
    "all_targ = np.concatenate((test_targets, train_targets),axis=0)"
   ]
  },
  {
   "cell_type": "code",
   "execution_count": 58,
   "id": "90453abf-4a17-48f7-b84b-3c4740ca49ce",
   "metadata": {},
   "outputs": [],
   "source": [
    "all_gen = generator.flow(index_list, all_targ)"
   ]
  },
  {
   "cell_type": "code",
   "execution_count": 59,
   "id": "12d396e7-b248-4ed2-b383-b27892b063e5",
   "metadata": {},
   "outputs": [
    {
     "name": "stdout",
     "output_type": "stream",
     "text": [
      "55/55 [==============================] - 1s 12ms/step\n"
     ]
    }
   ],
   "source": [
    "all_predictions = model.predict(all_gen)"
   ]
  },
  {
   "cell_type": "code",
   "execution_count": 60,
   "id": "4fd6a6e1-f430-491c-b353-1b67c9a80ef1",
   "metadata": {},
   "outputs": [],
   "source": [
    "node_predictions = target_encoding.inverse_transform(all_predictions)"
   ]
  },
  {
   "cell_type": "code",
   "execution_count": 65,
   "id": "261d69d9-2876-4df4-8c4c-90af0b6ac8a8",
   "metadata": {},
   "outputs": [
    {
     "data": {
      "text/plain": [
       "array(['Reinforcement_Learning', 'Case_Based', 'Neural_Networks', ...,\n",
       "       'Genetic_Algorithms', 'Genetic_Algorithms',\n",
       "       'Reinforcement_Learning'], dtype=object)"
      ]
     },
     "execution_count": 65,
     "metadata": {},
     "output_type": "execute_result"
    }
   ],
   "source": [
    "np.concatenate((test_subjects.values, train_subjects.values))"
   ]
  },
  {
   "cell_type": "code",
   "execution_count": 66,
   "id": "2fb25f38-5d6d-4021-92a3-daa73af4aebc",
   "metadata": {},
   "outputs": [
    {
     "data": {
      "text/html": [
       "<div>\n",
       "<style scoped>\n",
       "    .dataframe tbody tr th:only-of-type {\n",
       "        vertical-align: middle;\n",
       "    }\n",
       "\n",
       "    .dataframe tbody tr th {\n",
       "        vertical-align: top;\n",
       "    }\n",
       "\n",
       "    .dataframe thead th {\n",
       "        text-align: right;\n",
       "    }\n",
       "</style>\n",
       "<table border=\"1\" class=\"dataframe\">\n",
       "  <thead>\n",
       "    <tr style=\"text-align: right;\">\n",
       "      <th></th>\n",
       "      <th>Predicted</th>\n",
       "      <th>True</th>\n",
       "    </tr>\n",
       "  </thead>\n",
       "  <tbody>\n",
       "    <tr>\n",
       "      <th>0</th>\n",
       "      <td>Reinforcement_Learning</td>\n",
       "      <td>Reinforcement_Learning</td>\n",
       "    </tr>\n",
       "    <tr>\n",
       "      <th>1</th>\n",
       "      <td>Reinforcement_Learning</td>\n",
       "      <td>Case_Based</td>\n",
       "    </tr>\n",
       "    <tr>\n",
       "      <th>2</th>\n",
       "      <td>Neural_Networks</td>\n",
       "      <td>Neural_Networks</td>\n",
       "    </tr>\n",
       "    <tr>\n",
       "      <th>3</th>\n",
       "      <td>Genetic_Algorithms</td>\n",
       "      <td>Genetic_Algorithms</td>\n",
       "    </tr>\n",
       "    <tr>\n",
       "      <th>4</th>\n",
       "      <td>Neural_Networks</td>\n",
       "      <td>Neural_Networks</td>\n",
       "    </tr>\n",
       "    <tr>\n",
       "      <th>5</th>\n",
       "      <td>Neural_Networks</td>\n",
       "      <td>Neural_Networks</td>\n",
       "    </tr>\n",
       "    <tr>\n",
       "      <th>6</th>\n",
       "      <td>Neural_Networks</td>\n",
       "      <td>Neural_Networks</td>\n",
       "    </tr>\n",
       "    <tr>\n",
       "      <th>7</th>\n",
       "      <td>Probabilistic_Methods</td>\n",
       "      <td>Probabilistic_Methods</td>\n",
       "    </tr>\n",
       "    <tr>\n",
       "      <th>8</th>\n",
       "      <td>Genetic_Algorithms</td>\n",
       "      <td>Genetic_Algorithms</td>\n",
       "    </tr>\n",
       "    <tr>\n",
       "      <th>9</th>\n",
       "      <td>Neural_Networks</td>\n",
       "      <td>Neural_Networks</td>\n",
       "    </tr>\n",
       "  </tbody>\n",
       "</table>\n",
       "</div>"
      ],
      "text/plain": [
       "                Predicted                    True\n",
       "0  Reinforcement_Learning  Reinforcement_Learning\n",
       "1  Reinforcement_Learning              Case_Based\n",
       "2         Neural_Networks         Neural_Networks\n",
       "3      Genetic_Algorithms      Genetic_Algorithms\n",
       "4         Neural_Networks         Neural_Networks\n",
       "5         Neural_Networks         Neural_Networks\n",
       "6         Neural_Networks         Neural_Networks\n",
       "7   Probabilistic_Methods   Probabilistic_Methods\n",
       "8      Genetic_Algorithms      Genetic_Algorithms\n",
       "9         Neural_Networks         Neural_Networks"
      ]
     },
     "execution_count": 66,
     "metadata": {},
     "output_type": "execute_result"
    }
   ],
   "source": [
    "df = pd.DataFrame({\"Predicted\": node_predictions, \"True\": np.concatenate((test_subjects.values, train_subjects.values))})\n",
    "df.head(10)"
   ]
  },
  {
   "cell_type": "code",
   "execution_count": null,
   "id": "8c6bec31-68a6-4a9c-91a3-9780ee8bee42",
   "metadata": {},
   "outputs": [],
   "source": []
  },
  {
   "cell_type": "code",
   "execution_count": null,
   "id": "554fcae0-980b-471b-aeee-80c39e22bde1",
   "metadata": {},
   "outputs": [],
   "source": []
  },
  {
   "cell_type": "code",
   "execution_count": null,
   "id": "7d7c0606-1db4-490d-b4d9-35152591c6dd",
   "metadata": {},
   "outputs": [],
   "source": []
  },
  {
   "cell_type": "code",
   "execution_count": null,
   "id": "475c05c5-7a12-4e67-ab99-d0eab7730bf2",
   "metadata": {},
   "outputs": [],
   "source": []
  },
  {
   "cell_type": "code",
   "execution_count": null,
   "id": "79bfd539-200d-4a6e-8b5d-67fcd0c68637",
   "metadata": {},
   "outputs": [],
   "source": []
  }
 ],
 "metadata": {
  "kernelspec": {
   "display_name": "tf_p39",
   "language": "python",
   "name": "tf_p39"
  },
  "language_info": {
   "codemirror_mode": {
    "name": "ipython",
    "version": 3
   },
   "file_extension": ".py",
   "mimetype": "text/x-python",
   "name": "python",
   "nbconvert_exporter": "python",
   "pygments_lexer": "ipython3",
   "version": "3.8.18"
  }
 },
 "nbformat": 4,
 "nbformat_minor": 5
}
