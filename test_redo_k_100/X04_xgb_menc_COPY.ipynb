{
 "cells": [
  {
   "cell_type": "code",
   "execution_count": 1,
   "id": "4c65f557-651f-4958-a567-a1b6b5a82b2b",
   "metadata": {
    "tags": []
   },
   "outputs": [],
   "source": [
    "import os\n",
    "os.chdir(os.getcwd().rsplit(os.path.sep + 'code')[0] + os.path.sep + 'code')\n",
    "from importlib.machinery import SourceFileLoader\n",
    "setup = SourceFileLoader(\"setup\", \"./00_setup.py\").load_module()"
   ]
  },
  {
   "cell_type": "markdown",
   "id": "b01d0fdb-d4bf-465a-8541-997addc50b0c",
   "metadata": {},
   "source": [
    "# XGBoost with Target Encoded NAICS\n",
    "Same as the baseline but include the target (mean) encoded NAICS"
   ]
  },
  {
   "cell_type": "markdown",
   "id": "7dbca2ba-f3df-4293-b24a-2f6862ea1d15",
   "metadata": {},
   "source": [
    "Copy of regular script 04, but change blending threshold"
   ]
  },
  {
   "cell_type": "markdown",
   "id": "56161f89-1f54-47f9-860d-3f945a941c1f",
   "metadata": {},
   "source": [
    "*This script takes about 5 minutes on my MacBook Air*"
   ]
  },
  {
   "cell_type": "code",
   "execution_count": 2,
   "id": "ec6b1778-7abc-4129-ab5f-ac2992bd8ca6",
   "metadata": {},
   "outputs": [],
   "source": [
    "import pandas as pd\n",
    "import numpy as np\n",
    "import xgboost as xgb\n",
    "import warnings\n",
    "import matplotlib.pyplot as plt\n",
    "import pickle"
   ]
  },
  {
   "cell_type": "code",
   "execution_count": 3,
   "id": "785af927-a634-4e34-84c4-7a532236f2ca",
   "metadata": {},
   "outputs": [],
   "source": [
    "from pathlib import Path"
   ]
  },
  {
   "cell_type": "code",
   "execution_count": 4,
   "id": "fd09527b-32dd-47fa-b62f-f9307f89f553",
   "metadata": {},
   "outputs": [],
   "source": [
    "import sklearn as sk\n",
    "from sklearn.model_selection import RandomizedSearchCV\n",
    "from sklearn.inspection import permutation_importance, partial_dependence\n",
    "from scikitplot.metrics import plot_lift_curve"
   ]
  },
  {
   "cell_type": "code",
   "execution_count": 5,
   "id": "0732ba40-8318-457b-b29f-f9b6de3b70aa",
   "metadata": {},
   "outputs": [],
   "source": [
    "from sba_gnn.sba_gnn import sg_plot, sg_blender\n",
    "from sba_gnn.sba_gnn.sg_blender import HierarchicalEncoder # Target encoder"
   ]
  },
  {
   "cell_type": "markdown",
   "id": "d14a5947-6599-4253-acf3-91ddeffdedd3",
   "metadata": {},
   "source": [
    "## Import Processed Datasets"
   ]
  },
  {
   "cell_type": "code",
   "execution_count": 6,
   "id": "f6bc5cc5-b635-420f-852c-6cc9bba68a52",
   "metadata": {},
   "outputs": [],
   "source": [
    "sba_loans = pd.read_parquet(Path(setup.temp_path).joinpath('01_DATA_transformed.parquet')) \\\n",
    "    .drop(columns='menc_NAICS', errors='ignore')"
   ]
  },
  {
   "cell_type": "markdown",
   "id": "d56e9533-8071-494a-a7da-4917a03fb701",
   "metadata": {},
   "source": [
    "#### Re-encode"
   ]
  },
  {
   "cell_type": "code",
   "execution_count": 7,
   "id": "79bf16d2-fba8-4094-8b66-a1328fe282ce",
   "metadata": {},
   "outputs": [],
   "source": [
    "train_df = sba_loans[sba_loans['dset'] == 'train']"
   ]
  },
  {
   "cell_type": "code",
   "execution_count": 8,
   "id": "1cce81e3-f776-4aa8-bc5d-790c5a848a02",
   "metadata": {},
   "outputs": [],
   "source": [
    "encoder = HierarchicalEncoder(lambda_k = 100)"
   ]
  },
  {
   "cell_type": "code",
   "execution_count": 9,
   "id": "eaf07d4f-b9c2-4aee-8669-5d2b65e13af1",
   "metadata": {},
   "outputs": [],
   "source": [
    "encoder.fit(train_df[['NAICS']], train_df['target'])"
   ]
  },
  {
   "cell_type": "code",
   "execution_count": 10,
   "id": "125d7e6b-b7a8-4cd2-bb05-70f094a1a407",
   "metadata": {},
   "outputs": [],
   "source": [
    "# Transform the data\n",
    "enc_val = encoder.transform(sba_loans[['NAICS']]) \\\n",
    "    .rename('menc_NAICS') \\\n",
    "    .to_frame()"
   ]
  },
  {
   "cell_type": "code",
   "execution_count": 11,
   "id": "c19f7ba6-8d53-4c8f-ace7-7c7b6609d2dc",
   "metadata": {},
   "outputs": [],
   "source": [
    "# Save the values\n",
    "pd.concat([sba_loans[['LoanNr_ChkDgt', 'dset', 'dset_naics_holdout', 'NAICS']] \\\n",
    "               .drop(columns=enc_val.columns, errors='ignore'), enc_val], axis = 1) \\\n",
    "    .to_parquet(Path(setup.temp_path).joinpath('X04_DATA_encodings.parquet'))"
   ]
  },
  {
   "cell_type": "code",
   "execution_count": 12,
   "id": "c07ddd4e-6987-454a-926a-3b59abf6caa6",
   "metadata": {},
   "outputs": [
    {
     "name": "stdout",
     "output_type": "stream",
     "text": [
      "['NoEmp', 'CreateJob', 'LowDoc', 'DisbursementGross', 'new_business', 'urban_flag', 'franchise_flag', 'menc_NAICS']\n"
     ]
    }
   ],
   "source": [
    "predictor_features = setup.predictor_features + ['menc_NAICS']\n",
    "print(predictor_features)"
   ]
  },
  {
   "cell_type": "code",
   "execution_count": 13,
   "id": "1f8c475d-7ead-4f92-a19b-326343528f59",
   "metadata": {},
   "outputs": [],
   "source": [
    "with open(Path(setup.temp_path).joinpath('X04_DATA_features_predict.pkl'), 'wb') as fout:\n",
    "    pickle.dump(predictor_features, fout)"
   ]
  },
  {
   "cell_type": "code",
   "execution_count": 14,
   "id": "3fb79247-1031-41d0-8abf-6e23bfc77c04",
   "metadata": {},
   "outputs": [
    {
     "name": "stdout",
     "output_type": "stream",
     "text": [
      "(688081, 58)\n"
     ]
    }
   ],
   "source": [
    "sba_loans = pd.concat([sba_loans.drop(columns=enc_val.columns, errors='ignore'), enc_val], \n",
    "                      axis=1)\n",
    "print(sba_loans.shape)"
   ]
  },
  {
   "cell_type": "code",
   "execution_count": 15,
   "id": "31bf325d-4e9b-4a98-9927-83f6ad19fc11",
   "metadata": {},
   "outputs": [],
   "source": [
    "train_df = sba_loans[sba_loans['dset'] == 'train']\n",
    "test_df = sba_loans[sba_loans['dset'] == 'test']\n",
    "val_df = sba_loans[sba_loans['dset'] == 'val']"
   ]
  },
  {
   "cell_type": "markdown",
   "id": "2b204a92-d109-4f6d-87a5-3d5dc05d2e5f",
   "metadata": {},
   "source": [
    "## Model Fit"
   ]
  },
  {
   "cell_type": "code",
   "execution_count": 16,
   "id": "af48634b-fc39-4c29-9792-bcf1cdf241c0",
   "metadata": {},
   "outputs": [
    {
     "data": {
      "text/plain": [
       "{'subsample': 0.8,\n",
       " 'scale_pos_weight': 1.0,\n",
       " 'reg_lambda': 0.01,\n",
       " 'reg_alpha': 0.001,\n",
       " 'min_child_weight': 50,\n",
       " 'max_depth': 8,\n",
       " 'learning_rate': 0.1,\n",
       " 'gamma': 2}"
      ]
     },
     "execution_count": 16,
     "metadata": {},
     "output_type": "execute_result"
    }
   ],
   "source": [
    "best_params_df = pd.read_csv(Path(setup.temp_path).joinpath('03_REPORT_fit_parameter_selected.csv'))\n",
    "best_params = best_params_df.to_dict(orient='records')[0]\n",
    "best_params"
   ]
  },
  {
   "cell_type": "markdown",
   "id": "bc698909-3663-440f-98ce-fcfe312faa82",
   "metadata": {},
   "source": [
    "##### Fit using pre-determined parameters"
   ]
  },
  {
   "cell_type": "code",
   "execution_count": 17,
   "id": "e8eca4a6-66e8-4eb2-b68a-1271f59cdbec",
   "metadata": {},
   "outputs": [],
   "source": [
    "xgb_params = dict(best_params, \n",
    "                   **{'objective':\"binary:logistic\", 'n_estimators':setup.xgb_n_estimators})"
   ]
  },
  {
   "cell_type": "code",
   "execution_count": 18,
   "id": "6d124de6-1d5d-4ff9-8071-4d05b0717f13",
   "metadata": {},
   "outputs": [],
   "source": [
    "xgb_model = xgb.XGBClassifier(objective=\"binary:logistic\",\n",
    "                             n_estimators =  setup.xgb_n_estimators)"
   ]
  },
  {
   "cell_type": "code",
   "execution_count": 19,
   "id": "9eebd329-7e39-4e52-be94-d839ad559b5d",
   "metadata": {},
   "outputs": [],
   "source": [
    "xgb_model = xgb_model.set_params(**xgb_params)"
   ]
  },
  {
   "cell_type": "code",
   "execution_count": 20,
   "id": "a7f80910-9719-486b-8eac-93889064708a",
   "metadata": {},
   "outputs": [
    {
     "name": "stdout",
     "output_type": "stream",
     "text": [
      "[0]\tvalidation_0-logloss:0.50035\tvalidation_1-logloss:0.50386\n",
      "[1]\tvalidation_0-logloss:0.49283\tvalidation_1-logloss:0.49657\n",
      "[2]\tvalidation_0-logloss:0.48652\tvalidation_1-logloss:0.49047\n",
      "[3]\tvalidation_0-logloss:0.48120\tvalidation_1-logloss:0.48535\n",
      "[4]\tvalidation_0-logloss:0.47671\tvalidation_1-logloss:0.48105\n",
      "[5]\tvalidation_0-logloss:0.47276\tvalidation_1-logloss:0.47725\n",
      "[6]\tvalidation_0-logloss:0.46943\tvalidation_1-logloss:0.47408\n",
      "[7]\tvalidation_0-logloss:0.46662\tvalidation_1-logloss:0.47141\n",
      "[8]\tvalidation_0-logloss:0.46416\tvalidation_1-logloss:0.46912\n",
      "[9]\tvalidation_0-logloss:0.46205\tvalidation_1-logloss:0.46718\n",
      "[10]\tvalidation_0-logloss:0.46017\tvalidation_1-logloss:0.46544\n",
      "[11]\tvalidation_0-logloss:0.45862\tvalidation_1-logloss:0.46404\n",
      "[12]\tvalidation_0-logloss:0.45726\tvalidation_1-logloss:0.46280\n",
      "[13]\tvalidation_0-logloss:0.45611\tvalidation_1-logloss:0.46177\n",
      "[14]\tvalidation_0-logloss:0.45508\tvalidation_1-logloss:0.46086\n",
      "[15]\tvalidation_0-logloss:0.45421\tvalidation_1-logloss:0.46010\n",
      "[16]\tvalidation_0-logloss:0.45341\tvalidation_1-logloss:0.45943\n",
      "[17]\tvalidation_0-logloss:0.45266\tvalidation_1-logloss:0.45880\n",
      "[18]\tvalidation_0-logloss:0.45206\tvalidation_1-logloss:0.45831\n",
      "[19]\tvalidation_0-logloss:0.45152\tvalidation_1-logloss:0.45789\n",
      "[20]\tvalidation_0-logloss:0.45105\tvalidation_1-logloss:0.45754\n",
      "[21]\tvalidation_0-logloss:0.45058\tvalidation_1-logloss:0.45716\n",
      "[22]\tvalidation_0-logloss:0.45019\tvalidation_1-logloss:0.45686\n",
      "[23]\tvalidation_0-logloss:0.44982\tvalidation_1-logloss:0.45658\n",
      "[24]\tvalidation_0-logloss:0.44953\tvalidation_1-logloss:0.45637\n",
      "[25]\tvalidation_0-logloss:0.44926\tvalidation_1-logloss:0.45617\n",
      "[26]\tvalidation_0-logloss:0.44900\tvalidation_1-logloss:0.45598\n",
      "[27]\tvalidation_0-logloss:0.44874\tvalidation_1-logloss:0.45580\n",
      "[28]\tvalidation_0-logloss:0.44855\tvalidation_1-logloss:0.45567\n",
      "[29]\tvalidation_0-logloss:0.44837\tvalidation_1-logloss:0.45556\n"
     ]
    },
    {
     "data": {
      "text/html": [
       "<style>#sk-container-id-1 {color: black;}#sk-container-id-1 pre{padding: 0;}#sk-container-id-1 div.sk-toggleable {background-color: white;}#sk-container-id-1 label.sk-toggleable__label {cursor: pointer;display: block;width: 100%;margin-bottom: 0;padding: 0.3em;box-sizing: border-box;text-align: center;}#sk-container-id-1 label.sk-toggleable__label-arrow:before {content: \"▸\";float: left;margin-right: 0.25em;color: #696969;}#sk-container-id-1 label.sk-toggleable__label-arrow:hover:before {color: black;}#sk-container-id-1 div.sk-estimator:hover label.sk-toggleable__label-arrow:before {color: black;}#sk-container-id-1 div.sk-toggleable__content {max-height: 0;max-width: 0;overflow: hidden;text-align: left;background-color: #f0f8ff;}#sk-container-id-1 div.sk-toggleable__content pre {margin: 0.2em;color: black;border-radius: 0.25em;background-color: #f0f8ff;}#sk-container-id-1 input.sk-toggleable__control:checked~div.sk-toggleable__content {max-height: 200px;max-width: 100%;overflow: auto;}#sk-container-id-1 input.sk-toggleable__control:checked~label.sk-toggleable__label-arrow:before {content: \"▾\";}#sk-container-id-1 div.sk-estimator input.sk-toggleable__control:checked~label.sk-toggleable__label {background-color: #d4ebff;}#sk-container-id-1 div.sk-label input.sk-toggleable__control:checked~label.sk-toggleable__label {background-color: #d4ebff;}#sk-container-id-1 input.sk-hidden--visually {border: 0;clip: rect(1px 1px 1px 1px);clip: rect(1px, 1px, 1px, 1px);height: 1px;margin: -1px;overflow: hidden;padding: 0;position: absolute;width: 1px;}#sk-container-id-1 div.sk-estimator {font-family: monospace;background-color: #f0f8ff;border: 1px dotted black;border-radius: 0.25em;box-sizing: border-box;margin-bottom: 0.5em;}#sk-container-id-1 div.sk-estimator:hover {background-color: #d4ebff;}#sk-container-id-1 div.sk-parallel-item::after {content: \"\";width: 100%;border-bottom: 1px solid gray;flex-grow: 1;}#sk-container-id-1 div.sk-label:hover label.sk-toggleable__label {background-color: #d4ebff;}#sk-container-id-1 div.sk-serial::before {content: \"\";position: absolute;border-left: 1px solid gray;box-sizing: border-box;top: 0;bottom: 0;left: 50%;z-index: 0;}#sk-container-id-1 div.sk-serial {display: flex;flex-direction: column;align-items: center;background-color: white;padding-right: 0.2em;padding-left: 0.2em;position: relative;}#sk-container-id-1 div.sk-item {position: relative;z-index: 1;}#sk-container-id-1 div.sk-parallel {display: flex;align-items: stretch;justify-content: center;background-color: white;position: relative;}#sk-container-id-1 div.sk-item::before, #sk-container-id-1 div.sk-parallel-item::before {content: \"\";position: absolute;border-left: 1px solid gray;box-sizing: border-box;top: 0;bottom: 0;left: 50%;z-index: -1;}#sk-container-id-1 div.sk-parallel-item {display: flex;flex-direction: column;z-index: 1;position: relative;background-color: white;}#sk-container-id-1 div.sk-parallel-item:first-child::after {align-self: flex-end;width: 50%;}#sk-container-id-1 div.sk-parallel-item:last-child::after {align-self: flex-start;width: 50%;}#sk-container-id-1 div.sk-parallel-item:only-child::after {width: 0;}#sk-container-id-1 div.sk-dashed-wrapped {border: 1px dashed gray;margin: 0 0.4em 0.5em 0.4em;box-sizing: border-box;padding-bottom: 0.4em;background-color: white;}#sk-container-id-1 div.sk-label label {font-family: monospace;font-weight: bold;display: inline-block;line-height: 1.2em;}#sk-container-id-1 div.sk-label-container {text-align: center;}#sk-container-id-1 div.sk-container {/* jupyter's `normalize.less` sets `[hidden] { display: none; }` but bootstrap.min.css set `[hidden] { display: none !important; }` so we also need the `!important` here to be able to override the default hidden behavior on the sphinx rendered scikit-learn.org. See: https://github.com/scikit-learn/scikit-learn/issues/21755 */display: inline-block !important;position: relative;}#sk-container-id-1 div.sk-text-repr-fallback {display: none;}</style><div id=\"sk-container-id-1\" class=\"sk-top-container\"><div class=\"sk-text-repr-fallback\"><pre>XGBClassifier(base_score=None, booster=None, callbacks=None,\n",
       "              colsample_bylevel=None, colsample_bynode=None,\n",
       "              colsample_bytree=None, device=None, early_stopping_rounds=None,\n",
       "              enable_categorical=False, eval_metric=None, feature_types=None,\n",
       "              gamma=2, grow_policy=None, importance_type=None,\n",
       "              interaction_constraints=None, learning_rate=0.1, max_bin=None,\n",
       "              max_cat_threshold=None, max_cat_to_onehot=None,\n",
       "              max_delta_step=None, max_depth=8, max_leaves=None,\n",
       "              min_child_weight=50, missing=nan, monotone_constraints=None,\n",
       "              multi_strategy=None, n_estimators=30, n_jobs=None,\n",
       "              num_parallel_tree=None, random_state=None, ...)</pre><b>In a Jupyter environment, please rerun this cell to show the HTML representation or trust the notebook. <br />On GitHub, the HTML representation is unable to render, please try loading this page with nbviewer.org.</b></div><div class=\"sk-container\" hidden><div class=\"sk-item\"><div class=\"sk-estimator sk-toggleable\"><input class=\"sk-toggleable__control sk-hidden--visually\" id=\"sk-estimator-id-1\" type=\"checkbox\" checked><label for=\"sk-estimator-id-1\" class=\"sk-toggleable__label sk-toggleable__label-arrow\">XGBClassifier</label><div class=\"sk-toggleable__content\"><pre>XGBClassifier(base_score=None, booster=None, callbacks=None,\n",
       "              colsample_bylevel=None, colsample_bynode=None,\n",
       "              colsample_bytree=None, device=None, early_stopping_rounds=None,\n",
       "              enable_categorical=False, eval_metric=None, feature_types=None,\n",
       "              gamma=2, grow_policy=None, importance_type=None,\n",
       "              interaction_constraints=None, learning_rate=0.1, max_bin=None,\n",
       "              max_cat_threshold=None, max_cat_to_onehot=None,\n",
       "              max_delta_step=None, max_depth=8, max_leaves=None,\n",
       "              min_child_weight=50, missing=nan, monotone_constraints=None,\n",
       "              multi_strategy=None, n_estimators=30, n_jobs=None,\n",
       "              num_parallel_tree=None, random_state=None, ...)</pre></div></div></div></div></div>"
      ],
      "text/plain": [
       "XGBClassifier(base_score=None, booster=None, callbacks=None,\n",
       "              colsample_bylevel=None, colsample_bynode=None,\n",
       "              colsample_bytree=None, device=None, early_stopping_rounds=None,\n",
       "              enable_categorical=False, eval_metric=None, feature_types=None,\n",
       "              gamma=2, grow_policy=None, importance_type=None,\n",
       "              interaction_constraints=None, learning_rate=0.1, max_bin=None,\n",
       "              max_cat_threshold=None, max_cat_to_onehot=None,\n",
       "              max_delta_step=None, max_depth=8, max_leaves=None,\n",
       "              min_child_weight=50, missing=nan, monotone_constraints=None,\n",
       "              multi_strategy=None, n_estimators=30, n_jobs=None,\n",
       "              num_parallel_tree=None, random_state=None, ...)"
      ]
     },
     "execution_count": 20,
     "metadata": {},
     "output_type": "execute_result"
    }
   ],
   "source": [
    "xgb_model.fit(train_df[predictor_features], train_df['target'],\n",
    "              eval_set = [(train_df[predictor_features], train_df['target']),\n",
    "                         (val_df[predictor_features], val_df['target'])])"
   ]
  },
  {
   "cell_type": "code",
   "execution_count": 21,
   "id": "9bbd8636-a5f1-4cbc-9498-329a78165472",
   "metadata": {},
   "outputs": [
    {
     "data": {
      "text/plain": [
       "target\n",
       "0    346866\n",
       "1     89254\n",
       "Name: count, dtype: int64"
      ]
     },
     "execution_count": 21,
     "metadata": {},
     "output_type": "execute_result"
    }
   ],
   "source": [
    "train_df['target'].value_counts()"
   ]
  },
  {
   "cell_type": "markdown",
   "id": "0913a102-a730-4b94-9977-e584df764d64",
   "metadata": {},
   "source": [
    "##### Save the model"
   ]
  },
  {
   "cell_type": "code",
   "execution_count": 22,
   "id": "af21dd7c-09d4-407f-9960-0748ba8f2247",
   "metadata": {},
   "outputs": [],
   "source": [
    "xgb_model.save_model(Path(setup.temp_path).joinpath('X04_MODEL_xgboost.json'))"
   ]
  },
  {
   "cell_type": "code",
   "execution_count": 23,
   "id": "8e5d3e7d-0bd5-4252-b287-c9cc65f7a132",
   "metadata": {},
   "outputs": [],
   "source": [
    "with open(Path(setup.temp_path).joinpath('X04_MODEL_xgboost.pkl'), 'wb') as po:\n",
    "    pickle.dump(xgb_model, po)"
   ]
  },
  {
   "cell_type": "markdown",
   "id": "f34ad059-70dc-4672-adff-0d961fc74b07",
   "metadata": {},
   "source": [
    "## Probability Predictions"
   ]
  },
  {
   "cell_type": "code",
   "execution_count": 24,
   "id": "6a7c8509-0109-4f8e-a466-d6e21164012c",
   "metadata": {},
   "outputs": [],
   "source": [
    "pred_df = pd.concat([sba_loans[['LoanNr_ChkDgt', 'dset', 'target', 'dset_naics_holdout']].reset_index(),\n",
    "                     pd.DataFrame({'predict_prob':\n",
    "                                   xgb_model.predict_proba(sba_loans[predictor_features])[:,1]})],\n",
    "                    axis=1) \\\n",
    "    .set_index('index')"
   ]
  },
  {
   "cell_type": "code",
   "execution_count": 25,
   "id": "7084012d-b68a-4ca4-b714-160f8d564500",
   "metadata": {},
   "outputs": [
    {
     "data": {
      "text/html": [
       "<div>\n",
       "<style scoped>\n",
       "    .dataframe tbody tr th:only-of-type {\n",
       "        vertical-align: middle;\n",
       "    }\n",
       "\n",
       "    .dataframe tbody tr th {\n",
       "        vertical-align: top;\n",
       "    }\n",
       "\n",
       "    .dataframe thead th {\n",
       "        text-align: right;\n",
       "    }\n",
       "</style>\n",
       "<table border=\"1\" class=\"dataframe\">\n",
       "  <thead>\n",
       "    <tr style=\"text-align: right;\">\n",
       "      <th></th>\n",
       "      <th>mean</th>\n",
       "      <th>std</th>\n",
       "      <th>min</th>\n",
       "      <th>max</th>\n",
       "      <th>median</th>\n",
       "    </tr>\n",
       "    <tr>\n",
       "      <th>target</th>\n",
       "      <th></th>\n",
       "      <th></th>\n",
       "      <th></th>\n",
       "      <th></th>\n",
       "      <th></th>\n",
       "    </tr>\n",
       "  </thead>\n",
       "  <tbody>\n",
       "    <tr>\n",
       "      <th>0</th>\n",
       "      <td>0.185914</td>\n",
       "      <td>0.114793</td>\n",
       "      <td>0.015788</td>\n",
       "      <td>0.652922</td>\n",
       "      <td>0.171522</td>\n",
       "    </tr>\n",
       "    <tr>\n",
       "      <th>1</th>\n",
       "      <td>0.284605</td>\n",
       "      <td>0.110311</td>\n",
       "      <td>0.016511</td>\n",
       "      <td>0.669913</td>\n",
       "      <td>0.290105</td>\n",
       "    </tr>\n",
       "  </tbody>\n",
       "</table>\n",
       "</div>"
      ],
      "text/plain": [
       "            mean       std       min       max    median\n",
       "target                                                  \n",
       "0       0.185914  0.114793  0.015788  0.652922  0.171522\n",
       "1       0.284605  0.110311  0.016511  0.669913  0.290105"
      ]
     },
     "execution_count": 25,
     "metadata": {},
     "output_type": "execute_result"
    }
   ],
   "source": [
    "pred_df.groupby('target')['predict_prob'].agg(['mean', 'std', 'min', 'max', 'median'])"
   ]
  },
  {
   "cell_type": "markdown",
   "id": "d33cb4dc-6c89-4a37-98c7-d3a666abc4a5",
   "metadata": {},
   "source": [
    "## Decision Threshold\n",
    "Max f1, on training data"
   ]
  },
  {
   "cell_type": "code",
   "execution_count": 26,
   "id": "d7727498-825f-4f53-882f-cfcce730b1fc",
   "metadata": {},
   "outputs": [],
   "source": [
    "pred_train_df = pred_df[pred_df['dset'] == 'train']"
   ]
  },
  {
   "cell_type": "code",
   "execution_count": 27,
   "id": "7b553798-eead-48f8-b14b-5f036d9183d9",
   "metadata": {},
   "outputs": [],
   "source": [
    "thresh_tune_data = sg_plot.get_f1_frame(pred_train_df['target'], \n",
    "                                        pred_train_df['predict_prob'])"
   ]
  },
  {
   "cell_type": "code",
   "execution_count": 28,
   "id": "7a1cde01-a30b-475f-8fd7-409b13946c6d",
   "metadata": {},
   "outputs": [],
   "source": [
    "thresh_tune_data.to_csv(Path(setup.temp_path).joinpath('X04_REPORT_thresh_tune.csv'), index=False)"
   ]
  },
  {
   "cell_type": "code",
   "execution_count": 29,
   "id": "947a487c-e71d-433c-bbf0-2ed7e57a908a",
   "metadata": {},
   "outputs": [
    {
     "name": "stdout",
     "output_type": "stream",
     "text": [
      "0.24\n"
     ]
    },
    {
     "data": {
      "text/html": [
       "<div>\n",
       "<style scoped>\n",
       "    .dataframe tbody tr th:only-of-type {\n",
       "        vertical-align: middle;\n",
       "    }\n",
       "\n",
       "    .dataframe tbody tr th {\n",
       "        vertical-align: top;\n",
       "    }\n",
       "\n",
       "    .dataframe thead th {\n",
       "        text-align: right;\n",
       "    }\n",
       "</style>\n",
       "<table border=\"1\" class=\"dataframe\">\n",
       "  <thead>\n",
       "    <tr style=\"text-align: right;\">\n",
       "      <th></th>\n",
       "      <th>thresh</th>\n",
       "      <th>f1</th>\n",
       "    </tr>\n",
       "  </thead>\n",
       "  <tbody>\n",
       "    <tr>\n",
       "      <th>12</th>\n",
       "      <td>0.24</td>\n",
       "      <td>0.453854</td>\n",
       "    </tr>\n",
       "    <tr>\n",
       "      <th>11</th>\n",
       "      <td>0.22</td>\n",
       "      <td>0.453344</td>\n",
       "    </tr>\n",
       "  </tbody>\n",
       "</table>\n",
       "</div>"
      ],
      "text/plain": [
       "    thresh        f1\n",
       "12    0.24  0.453854\n",
       "11    0.22  0.453344"
      ]
     },
     "execution_count": 29,
     "metadata": {},
     "output_type": "execute_result"
    }
   ],
   "source": [
    "thresh_head = thresh_tune_data.sort_values('f1', ascending=False).head(2)\n",
    "best_thresh = thresh_head['thresh'].iloc[0]\n",
    "print(best_thresh)\n",
    "thresh_head"
   ]
  },
  {
   "cell_type": "markdown",
   "id": "1ee5330e-c1a7-4310-afbe-be9bc0d26f43",
   "metadata": {},
   "source": [
    "##### Apply decision threshold\n",
    "All datasets"
   ]
  },
  {
   "cell_type": "code",
   "execution_count": 30,
   "id": "f0d4c1cf-6d5b-49e9-9123-a067697a9e39",
   "metadata": {},
   "outputs": [],
   "source": [
    "pred_df['predict_bin'] = np.where(pred_df['predict_prob'] >= best_thresh, 1, 0)"
   ]
  },
  {
   "cell_type": "code",
   "execution_count": 31,
   "id": "8253c32c-0438-47b9-8570-7cde6f7f5590",
   "metadata": {},
   "outputs": [
    {
     "data": {
      "text/plain": [
       "predict_bin\n",
       "0    402535\n",
       "1    285546\n",
       "Name: count, dtype: int64"
      ]
     },
     "execution_count": 31,
     "metadata": {},
     "output_type": "execute_result"
    }
   ],
   "source": [
    "pred_df['predict_bin'].value_counts()"
   ]
  },
  {
   "cell_type": "code",
   "execution_count": 32,
   "id": "dbb46f4a-a5ef-4fd6-9da4-30de4a00334d",
   "metadata": {},
   "outputs": [],
   "source": [
    "pred_df.to_parquet(Path(setup.temp_path).joinpath('X04_DATA_combined_predictions.parquet'))"
   ]
  },
  {
   "cell_type": "markdown",
   "id": "0ab860d0-eddc-4f63-b853-88da15d451f4",
   "metadata": {},
   "source": [
    "## Metrics"
   ]
  },
  {
   "cell_type": "code",
   "execution_count": 33,
   "id": "f2801964-124e-425f-b4cb-9bcf1cf3f04a",
   "metadata": {},
   "outputs": [
    {
     "data": {
      "text/html": [
       "<div>\n",
       "<style scoped>\n",
       "    .dataframe tbody tr th:only-of-type {\n",
       "        vertical-align: middle;\n",
       "    }\n",
       "\n",
       "    .dataframe tbody tr th {\n",
       "        vertical-align: top;\n",
       "    }\n",
       "\n",
       "    .dataframe thead th {\n",
       "        text-align: right;\n",
       "    }\n",
       "</style>\n",
       "<table border=\"1\" class=\"dataframe\">\n",
       "  <thead>\n",
       "    <tr style=\"text-align: right;\">\n",
       "      <th></th>\n",
       "      <th>dset</th>\n",
       "      <th>accuracy_score</th>\n",
       "      <th>f1_score</th>\n",
       "      <th>precision_score</th>\n",
       "      <th>recall_score</th>\n",
       "      <th>average_precision_score</th>\n",
       "      <th>roc_auc_score</th>\n",
       "      <th>dset_naics_holdout</th>\n",
       "    </tr>\n",
       "  </thead>\n",
       "  <tbody>\n",
       "    <tr>\n",
       "      <th>0</th>\n",
       "      <td>test</td>\n",
       "      <td>0.650476</td>\n",
       "      <td>0.437897</td>\n",
       "      <td>0.319618</td>\n",
       "      <td>0.695142</td>\n",
       "      <td>0.368748</td>\n",
       "      <td>0.728046</td>\n",
       "      <td>NaN</td>\n",
       "    </tr>\n",
       "    <tr>\n",
       "      <th>1</th>\n",
       "      <td>train</td>\n",
       "      <td>0.663359</td>\n",
       "      <td>0.453854</td>\n",
       "      <td>0.339721</td>\n",
       "      <td>0.683476</td>\n",
       "      <td>0.392456</td>\n",
       "      <td>0.734760</td>\n",
       "      <td>NaN</td>\n",
       "    </tr>\n",
       "    <tr>\n",
       "      <th>2</th>\n",
       "      <td>val</td>\n",
       "      <td>0.659298</td>\n",
       "      <td>0.449611</td>\n",
       "      <td>0.338144</td>\n",
       "      <td>0.670707</td>\n",
       "      <td>0.385133</td>\n",
       "      <td>0.726104</td>\n",
       "      <td>NaN</td>\n",
       "    </tr>\n",
       "    <tr>\n",
       "      <th>0</th>\n",
       "      <td>test</td>\n",
       "      <td>0.659365</td>\n",
       "      <td>0.449410</td>\n",
       "      <td>0.336624</td>\n",
       "      <td>0.675857</td>\n",
       "      <td>0.382950</td>\n",
       "      <td>0.728178</td>\n",
       "      <td>0.0</td>\n",
       "    </tr>\n",
       "    <tr>\n",
       "      <th>1</th>\n",
       "      <td>test</td>\n",
       "      <td>0.637705</td>\n",
       "      <td>0.421559</td>\n",
       "      <td>0.296926</td>\n",
       "      <td>0.726504</td>\n",
       "      <td>0.346337</td>\n",
       "      <td>0.729154</td>\n",
       "      <td>1.0</td>\n",
       "    </tr>\n",
       "  </tbody>\n",
       "</table>\n",
       "</div>"
      ],
      "text/plain": [
       "    dset  accuracy_score  f1_score  precision_score  recall_score  \\\n",
       "0   test        0.650476  0.437897         0.319618      0.695142   \n",
       "1  train        0.663359  0.453854         0.339721      0.683476   \n",
       "2    val        0.659298  0.449611         0.338144      0.670707   \n",
       "0   test        0.659365  0.449410         0.336624      0.675857   \n",
       "1   test        0.637705  0.421559         0.296926      0.726504   \n",
       "\n",
       "   average_precision_score  roc_auc_score  dset_naics_holdout  \n",
       "0                 0.368748       0.728046                 NaN  \n",
       "1                 0.392456       0.734760                 NaN  \n",
       "2                 0.385133       0.726104                 NaN  \n",
       "0                 0.382950       0.728178                 0.0  \n",
       "1                 0.346337       0.729154                 1.0  "
      ]
     },
     "execution_count": 33,
     "metadata": {},
     "output_type": "execute_result"
    }
   ],
   "source": [
    "metrics_dset_df = pred_df.groupby('dset') \\\n",
    "    .apply(lambda x: sg_plot.dset_metrics(x.target, x.predict_bin, x.predict_prob)) \\\n",
    "    .reset_index()\n",
    "metrics_test_df = pred_df[pred_df['dset'] == 'test'] \\\n",
    "    .groupby(['dset', 'dset_naics_holdout']) \\\n",
    "    .apply(lambda x: sg_plot.dset_metrics(x.target, x.predict_bin, x.predict_prob)) \\\n",
    "    .reset_index()\n",
    "metrics_df = pd.concat([metrics_dset_df, metrics_test_df])\n",
    "metrics_df.to_csv(Path(setup.temp_path).joinpath('X04_REPORT_metrics.csv'), index=True)\n",
    "metrics_df"
   ]
  },
  {
   "cell_type": "markdown",
   "id": "3d906270-4264-4b0b-9f50-dcef8f75a5fd",
   "metadata": {},
   "source": [
    "## Lift\n",
    "Test data"
   ]
  },
  {
   "cell_type": "code",
   "execution_count": 34,
   "id": "82d9c0ab-8989-450d-a2b1-7997ca636052",
   "metadata": {
    "tags": []
   },
   "outputs": [],
   "source": [
    "pred_test_df = pred_df[pred_df['dset'] == 'test']"
   ]
  },
  {
   "cell_type": "code",
   "execution_count": 35,
   "id": "c01f5279-1151-4a8d-9b21-e12d4092f3c1",
   "metadata": {},
   "outputs": [
    {
     "data": {
      "image/png": "[encoded data removed]",
      "text/plain": [
       "<Figure size 400x300 with 1 Axes>"
      ]
     },
     "metadata": {},
     "output_type": "display_data"
    }
   ],
   "source": [
    "plot_lift_curve(pred_test_df['target'], \n",
    "                pd.concat([1-pred_test_df['predict_prob'], pred_test_df['predict_prob']], axis=1), \n",
    "                title='Lift Curve', ax=None, figsize=(4,3), \n",
    "                title_fontsize='large', text_fontsize='medium')\n",
    "plt.gca().legend(loc='upper right')\n",
    "plt.gcf().savefig(Path(setup.temp_path).joinpath('X04_PLOT_lift_curve.png'),bbox_inches='tight')"
   ]
  },
  {
   "cell_type": "markdown",
   "id": "04994f41-3c98-412a-bb2f-11e5ae22b432",
   "metadata": {},
   "source": [
    "## Feature Importance "
   ]
  },
  {
   "cell_type": "markdown",
   "id": "926af7df-e407-484b-bd86-ae7d76a46392",
   "metadata": {},
   "source": [
    "##### XGBoost gain"
   ]
  },
  {
   "cell_type": "code",
   "execution_count": 36,
   "id": "ec3f6e1f-2b29-4b46-ac12-7a8451a3a45b",
   "metadata": {},
   "outputs": [],
   "source": [
    "feat_impgain = pd.DataFrame(xgb_model.get_booster().get_score(importance_type='gain'),\n",
    "                                     index=['importance']).T \\\n",
    "    .sort_values('importance', ascending=False)"
   ]
  },
  {
   "cell_type": "code",
   "execution_count": 37,
   "id": "9586c637-7add-4401-b61c-37abd55b11b4",
   "metadata": {},
   "outputs": [],
   "source": [
    "feat_impgain.to_csv(Path(setup.temp_path).joinpath('X04_REPORT_importance_gain.csv'), index=True)"
   ]
  },
  {
   "cell_type": "code",
   "execution_count": 38,
   "id": "311e111f-d8e5-4a52-8adc-6a7c5f9daa8f",
   "metadata": {},
   "outputs": [
    {
     "data": {
      "text/html": [
       "<div>\n",
       "<style scoped>\n",
       "    .dataframe tbody tr th:only-of-type {\n",
       "        vertical-align: middle;\n",
       "    }\n",
       "\n",
       "    .dataframe tbody tr th {\n",
       "        vertical-align: top;\n",
       "    }\n",
       "\n",
       "    .dataframe thead th {\n",
       "        text-align: right;\n",
       "    }\n",
       "</style>\n",
       "<table border=\"1\" class=\"dataframe\">\n",
       "  <thead>\n",
       "    <tr style=\"text-align: right;\">\n",
       "      <th></th>\n",
       "      <th>importance</th>\n",
       "    </tr>\n",
       "  </thead>\n",
       "  <tbody>\n",
       "    <tr>\n",
       "      <th>urban_flag</th>\n",
       "      <td>288.114349</td>\n",
       "    </tr>\n",
       "    <tr>\n",
       "      <th>LowDoc</th>\n",
       "      <td>125.809395</td>\n",
       "    </tr>\n",
       "    <tr>\n",
       "      <th>menc_NAICS</th>\n",
       "      <td>95.514442</td>\n",
       "    </tr>\n",
       "    <tr>\n",
       "      <th>DisbursementGross</th>\n",
       "      <td>48.226738</td>\n",
       "    </tr>\n",
       "    <tr>\n",
       "      <th>franchise_flag</th>\n",
       "      <td>20.228748</td>\n",
       "    </tr>\n",
       "  </tbody>\n",
       "</table>\n",
       "</div>"
      ],
      "text/plain": [
       "                   importance\n",
       "urban_flag         288.114349\n",
       "LowDoc             125.809395\n",
       "menc_NAICS          95.514442\n",
       "DisbursementGross   48.226738\n",
       "franchise_flag      20.228748"
      ]
     },
     "execution_count": 38,
     "metadata": {},
     "output_type": "execute_result"
    }
   ],
   "source": [
    "feat_impgain.head()"
   ]
  },
  {
   "cell_type": "code",
   "execution_count": 39,
   "id": "9c88564a-7289-4c49-b2cd-b97338d1b042",
   "metadata": {},
   "outputs": [
    {
     "data": {
      "image/png": "[encoded data removed]",
      "text/plain": [
       "<Figure size 640x480 with 1 Axes>"
      ]
     },
     "metadata": {},
     "output_type": "display_data"
    }
   ],
   "source": [
    "feat_impgain.plot(kind='barh', legend=None)\n",
    "plt.gca().invert_yaxis()\n",
    "plt.xlabel('gain importance')\n",
    "plt.gcf().savefig(Path(setup.temp_path).joinpath('X04_PLOT_importance_gain.png'))"
   ]
  },
  {
   "cell_type": "markdown",
   "id": "27e5fb90-f305-40ff-acaf-285d7d056c15",
   "metadata": {},
   "source": [
    "##### Permutation Importance"
   ]
  },
  {
   "cell_type": "code",
   "execution_count": 40,
   "id": "e2c1c123-20d0-423d-b684-585c0a5d6d2b",
   "metadata": {},
   "outputs": [],
   "source": [
    "perm_importance = permutation_importance(xgb_model, \n",
    "                                         train_df[predictor_features],  train_df['target'],\n",
    "                                         n_repeats=30, scoring = 'average_precision')"
   ]
  },
  {
   "cell_type": "code",
   "execution_count": 41,
   "id": "ab0df42e-af4e-46b1-b0cf-630877137678",
   "metadata": {},
   "outputs": [],
   "source": [
    "perm_importance_df = pd.DataFrame({'features':predictor_features,\n",
    "                                   'importance': perm_importance['importances_mean']}) \n",
    "perm_importance_df['abs_importance'] = np.abs(perm_importance_df['importance'])\n",
    "perm_importance_df = perm_importance_df.sort_values('abs_importance', ascending=False)"
   ]
  },
  {
   "cell_type": "code",
   "execution_count": 42,
   "id": "0cbc5d84-6775-404f-a685-44f5be5cd481",
   "metadata": {},
   "outputs": [
    {
     "data": {
      "text/html": [
       "<div>\n",
       "<style scoped>\n",
       "    .dataframe tbody tr th:only-of-type {\n",
       "        vertical-align: middle;\n",
       "    }\n",
       "\n",
       "    .dataframe tbody tr th {\n",
       "        vertical-align: top;\n",
       "    }\n",
       "\n",
       "    .dataframe thead th {\n",
       "        text-align: right;\n",
       "    }\n",
       "</style>\n",
       "<table border=\"1\" class=\"dataframe\">\n",
       "  <thead>\n",
       "    <tr style=\"text-align: right;\">\n",
       "      <th></th>\n",
       "      <th>features</th>\n",
       "      <th>importance</th>\n",
       "      <th>abs_importance</th>\n",
       "    </tr>\n",
       "  </thead>\n",
       "  <tbody>\n",
       "    <tr>\n",
       "      <th>7</th>\n",
       "      <td>menc_NAICS</td>\n",
       "      <td>0.083073</td>\n",
       "      <td>0.083073</td>\n",
       "    </tr>\n",
       "    <tr>\n",
       "      <th>3</th>\n",
       "      <td>DisbursementGross</td>\n",
       "      <td>0.066241</td>\n",
       "      <td>0.066241</td>\n",
       "    </tr>\n",
       "    <tr>\n",
       "      <th>5</th>\n",
       "      <td>urban_flag</td>\n",
       "      <td>0.034857</td>\n",
       "      <td>0.034857</td>\n",
       "    </tr>\n",
       "    <tr>\n",
       "      <th>1</th>\n",
       "      <td>CreateJob</td>\n",
       "      <td>0.020484</td>\n",
       "      <td>0.020484</td>\n",
       "    </tr>\n",
       "    <tr>\n",
       "      <th>2</th>\n",
       "      <td>LowDoc</td>\n",
       "      <td>0.015198</td>\n",
       "      <td>0.015198</td>\n",
       "    </tr>\n",
       "  </tbody>\n",
       "</table>\n",
       "</div>"
      ],
      "text/plain": [
       "            features  importance  abs_importance\n",
       "7         menc_NAICS    0.083073        0.083073\n",
       "3  DisbursementGross    0.066241        0.066241\n",
       "5         urban_flag    0.034857        0.034857\n",
       "1          CreateJob    0.020484        0.020484\n",
       "2             LowDoc    0.015198        0.015198"
      ]
     },
     "execution_count": 42,
     "metadata": {},
     "output_type": "execute_result"
    }
   ],
   "source": [
    "perm_importance_df.head(5)"
   ]
  },
  {
   "cell_type": "code",
   "execution_count": 43,
   "id": "38059608-2f72-491f-86b3-0c1418b83531",
   "metadata": {},
   "outputs": [],
   "source": [
    "perm_importance_df \\\n",
    "    .to_csv(Path(setup.temp_path).joinpath('X04_DATA_importance_perturb.csv'),\n",
    "            index=False)"
   ]
  },
  {
   "cell_type": "code",
   "execution_count": 44,
   "id": "c27499c8-065b-4143-a7dc-bce301bf3edf",
   "metadata": {},
   "outputs": [
    {
     "data": {
      "image/png": "[encoded data removed]",
      "text/plain": [
       "<Figure size 640x480 with 1 Axes>"
      ]
     },
     "metadata": {},
     "output_type": "display_data"
    }
   ],
   "source": [
    "perm_importance_df.head(10).plot(kind='barh', x='features', y='importance', legend=None)\n",
    "plt.gca().invert_yaxis()\n",
    "plt.xlabel('permutation importance')\n",
    "plt.ylabel(None)\n",
    "plt.gcf().savefig(Path(setup.temp_path).joinpath('X04_PLOT_importance_perturb.png'))"
   ]
  },
  {
   "cell_type": "code",
   "execution_count": null,
   "id": "5488c384-feb9-45b4-8d95-e2ea4954719b",
   "metadata": {},
   "outputs": [],
   "source": []
  },
  {
   "cell_type": "code",
   "execution_count": null,
   "id": "83c4bf72-5710-489a-888f-bd2b7590e93b",
   "metadata": {},
   "outputs": [],
   "source": []
  },
  {
   "cell_type": "code",
   "execution_count": null,
   "id": "e2b6ef2b-9fe4-4595-9ba9-7fc205a864f6",
   "metadata": {},
   "outputs": [],
   "source": []
  }
 ],
 "metadata": {
  "kernelspec": {
   "display_name": "tf_p39",
   "language": "python",
   "name": "tf_p39"
  },
  "language_info": {
   "codemirror_mode": {
    "name": "ipython",
    "version": 3
   },
   "file_extension": ".py",
   "mimetype": "text/x-python",
   "name": "python",
   "nbconvert_exporter": "python",
   "pygments_lexer": "ipython3",
   "version": "3.8.18"
  }
 },
 "nbformat": 4,
 "nbformat_minor": 5
}
