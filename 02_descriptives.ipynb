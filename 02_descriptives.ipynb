{
 "cells": [
  {
   "cell_type": "code",
   "execution_count": 1,
   "id": "95b98a76-b511-4640-99ea-74205d2f5d71",
   "metadata": {},
   "outputs": [],
   "source": [
    "# Modify the file 00_setup.py to define input/output file paths on your system\n",
    "# The information in 00_setup.py will be used across notebooks\n",
    "from importlib.machinery import SourceFileLoader\n",
    "setup = SourceFileLoader(\"setup\", \"./00_setup.py\").load_module()"
   ]
  },
  {
   "cell_type": "markdown",
   "id": "4f4fa0e4-4816-46dd-bfd9-5aafef418830",
   "metadata": {},
   "source": [
    "# 02:  Descriptives\n",
    " * Name and franchise code (non independent observations)\n",
    " * Bank\n",
    " * Correlations"
   ]
  },
  {
   "cell_type": "markdown",
   "id": "593979fa-4590-4455-a4a5-a2974c6a14b6",
   "metadata": {},
   "source": [
    "I do not do extensive data exploration but instead use others' insights from various\n",
    "Kaggle projects, especially:\n",
    "* https://www.kaggle.com/code/ricardocolindres/loan-default-prediction-loan-parameter-optimizer"
   ]
  },
  {
   "cell_type": "markdown",
   "id": "6755eebb-0e06-483f-9371-bd08a38be869",
   "metadata": {},
   "source": [
    "I am also not going to use all the features I could.  I want to focus on NAICS, and so I don't do a lot with bank, franchise, or geography."
   ]
  },
  {
   "cell_type": "markdown",
   "id": "ea6cac06-df4b-43f2-bd07-32cf33563ae9",
   "metadata": {},
   "source": [
    "*This script takes about 1 minute on my MacBook Air*"
   ]
  },
  {
   "cell_type": "code",
   "execution_count": 2,
   "id": "3c909d0a-ba72-4c49-91c1-a4bba59e14df",
   "metadata": {},
   "outputs": [],
   "source": [
    "import pandas as pd\n",
    "import numpy as np\n",
    "import re, importlib\n",
    "import matplotlib.pyplot as plt\n",
    "import matplotlib.ticker as mtick"
   ]
  },
  {
   "cell_type": "code",
   "execution_count": 3,
   "id": "54f6a4af-d463-447f-a619-48ac4beb9f9f",
   "metadata": {},
   "outputs": [],
   "source": [
    "from pathlib import Path"
   ]
  },
  {
   "cell_type": "code",
   "execution_count": 4,
   "id": "699e270e-bdb5-4bc9-8a65-42281f038563",
   "metadata": {},
   "outputs": [],
   "source": [
    "from sba_gnn.sba_gnn import sg_plot \n",
    "sg_plot.plot_defaults()"
   ]
  },
  {
   "cell_type": "markdown",
   "id": "410b04e9-692c-4e77-a93f-3d97a8924a8d",
   "metadata": {},
   "source": [
    "## Import Data"
   ]
  },
  {
   "cell_type": "code",
   "execution_count": 5,
   "id": "2073255d-9621-4590-8086-6a648d38047a",
   "metadata": {},
   "outputs": [],
   "source": [
    "sba_loans = pd.concat([pd.read_parquet(Path(setup.temp_path).joinpath('01_DATA_combined_base_train.parquet')),\n",
    "                       pd.read_parquet(Path(setup.temp_path).joinpath('01_DATA_combined_base_test.parquet')),\n",
    "                       pd.read_parquet(Path(setup.temp_path).joinpath('01_DATA_combined_base_val.parquet'))],\n",
    "                      keys=['train', 'test', 'val'])"
   ]
  },
  {
   "cell_type": "code",
   "execution_count": 6,
   "id": "da4441f1-9cdf-4c21-a803-3229ab3ab7c7",
   "metadata": {},
   "outputs": [
    {
     "data": {
      "text/plain": [
       "(869288, 49)"
      ]
     },
     "execution_count": 6,
     "metadata": {},
     "output_type": "execute_result"
    }
   ],
   "source": [
    "sba_loans.shape"
   ]
  },
  {
   "cell_type": "code",
   "execution_count": 7,
   "id": "31c52e4e-f3bb-4aea-99f8-aaa2b9d86d61",
   "metadata": {},
   "outputs": [
    {
     "data": {
      "text/html": [
       "<div>\n",
       "<style scoped>\n",
       "    .dataframe tbody tr th:only-of-type {\n",
       "        vertical-align: middle;\n",
       "    }\n",
       "\n",
       "    .dataframe tbody tr th {\n",
       "        vertical-align: top;\n",
       "    }\n",
       "\n",
       "    .dataframe thead th {\n",
       "        text-align: right;\n",
       "    }\n",
       "</style>\n",
       "<table border=\"1\" class=\"dataframe\">\n",
       "  <thead>\n",
       "    <tr style=\"text-align: right;\">\n",
       "      <th></th>\n",
       "      <th></th>\n",
       "      <th>LoanNr_ChkDgt</th>\n",
       "      <th>Name</th>\n",
       "      <th>City</th>\n",
       "      <th>State</th>\n",
       "      <th>Zip</th>\n",
       "      <th>Bank</th>\n",
       "      <th>BankState</th>\n",
       "      <th>NAICS</th>\n",
       "      <th>ApprovalDate</th>\n",
       "      <th>ApprovalFY</th>\n",
       "      <th>...</th>\n",
       "      <th>NS___Accommodation and Food Services</th>\n",
       "      <th>NS___Construction</th>\n",
       "      <th>NS___Health Care and Social Assistance</th>\n",
       "      <th>NS___Manufacturing</th>\n",
       "      <th>NS___Other Services (except Public Administration)</th>\n",
       "      <th>NS___Professional, Scientific, and Technical Services</th>\n",
       "      <th>NS___Retail Trade</th>\n",
       "      <th>NS___Wholesale Trade</th>\n",
       "      <th>NS___nan</th>\n",
       "      <th>NS___infrequent_sklearn</th>\n",
       "    </tr>\n",
       "    <tr>\n",
       "      <th></th>\n",
       "      <th>index</th>\n",
       "      <th></th>\n",
       "      <th></th>\n",
       "      <th></th>\n",
       "      <th></th>\n",
       "      <th></th>\n",
       "      <th></th>\n",
       "      <th></th>\n",
       "      <th></th>\n",
       "      <th></th>\n",
       "      <th></th>\n",
       "      <th></th>\n",
       "      <th></th>\n",
       "      <th></th>\n",
       "      <th></th>\n",
       "      <th></th>\n",
       "      <th></th>\n",
       "      <th></th>\n",
       "      <th></th>\n",
       "      <th></th>\n",
       "      <th></th>\n",
       "      <th></th>\n",
       "    </tr>\n",
       "  </thead>\n",
       "  <tbody>\n",
       "    <tr>\n",
       "      <th rowspan=\"5\" valign=\"top\">train</th>\n",
       "      <th>152812</th>\n",
       "      <td>2119644006</td>\n",
       "      <td>INTERNATIONAL SECURITY &amp; TRADI</td>\n",
       "      <td>MIAMI</td>\n",
       "      <td>FL</td>\n",
       "      <td>33172</td>\n",
       "      <td>FLORIDA BUS. DEVEL CORP</td>\n",
       "      <td>FL</td>\n",
       "      <td>421690</td>\n",
       "      <td>1998-06-09</td>\n",
       "      <td>1998</td>\n",
       "      <td>...</td>\n",
       "      <td>0.0</td>\n",
       "      <td>0.0</td>\n",
       "      <td>0.0</td>\n",
       "      <td>0.0</td>\n",
       "      <td>0.0</td>\n",
       "      <td>0.0</td>\n",
       "      <td>0.0</td>\n",
       "      <td>1.0</td>\n",
       "      <td>0.0</td>\n",
       "      <td>0.0</td>\n",
       "    </tr>\n",
       "    <tr>\n",
       "      <th>776790</th>\n",
       "      <td>8241693004</td>\n",
       "      <td>THE GENIE CO OF FAIRVW PRK INC</td>\n",
       "      <td>BROADVIEW HEIGHTS</td>\n",
       "      <td>OH</td>\n",
       "      <td>44147</td>\n",
       "      <td>GROWTH CAPITAL CORP.</td>\n",
       "      <td>OH</td>\n",
       "      <td>None</td>\n",
       "      <td>1995-04-07</td>\n",
       "      <td>1995</td>\n",
       "      <td>...</td>\n",
       "      <td>0.0</td>\n",
       "      <td>0.0</td>\n",
       "      <td>0.0</td>\n",
       "      <td>0.0</td>\n",
       "      <td>0.0</td>\n",
       "      <td>0.0</td>\n",
       "      <td>0.0</td>\n",
       "      <td>0.0</td>\n",
       "      <td>1.0</td>\n",
       "      <td>0.0</td>\n",
       "    </tr>\n",
       "    <tr>\n",
       "      <th>714237</th>\n",
       "      <td>7452154008</td>\n",
       "      <td>HOOKSET FIREWORKS INC</td>\n",
       "      <td>HOOKSETT (CENSUS NAME FOR HOOK</td>\n",
       "      <td>NH</td>\n",
       "      <td>3106</td>\n",
       "      <td>CITIZENS BANK NATL ASSOC</td>\n",
       "      <td>NH</td>\n",
       "      <td>453998</td>\n",
       "      <td>2004-05-19</td>\n",
       "      <td>2004</td>\n",
       "      <td>...</td>\n",
       "      <td>0.0</td>\n",
       "      <td>0.0</td>\n",
       "      <td>0.0</td>\n",
       "      <td>0.0</td>\n",
       "      <td>0.0</td>\n",
       "      <td>0.0</td>\n",
       "      <td>1.0</td>\n",
       "      <td>0.0</td>\n",
       "      <td>0.0</td>\n",
       "      <td>0.0</td>\n",
       "    </tr>\n",
       "    <tr>\n",
       "      <th>559037</th>\n",
       "      <td>5511925001</td>\n",
       "      <td>Drill Pro Services Inc</td>\n",
       "      <td>Williston</td>\n",
       "      <td>ND</td>\n",
       "      <td>58801</td>\n",
       "      <td>FIRST NATL BK &amp; TR CO OF WILLI</td>\n",
       "      <td>ND</td>\n",
       "      <td>238910</td>\n",
       "      <td>2012-10-24</td>\n",
       "      <td>2013</td>\n",
       "      <td>...</td>\n",
       "      <td>0.0</td>\n",
       "      <td>1.0</td>\n",
       "      <td>0.0</td>\n",
       "      <td>0.0</td>\n",
       "      <td>0.0</td>\n",
       "      <td>0.0</td>\n",
       "      <td>0.0</td>\n",
       "      <td>0.0</td>\n",
       "      <td>0.0</td>\n",
       "      <td>0.0</td>\n",
       "    </tr>\n",
       "    <tr>\n",
       "      <th>82973</th>\n",
       "      <td>1622844010</td>\n",
       "      <td>CHINA CLOSET</td>\n",
       "      <td>VESTAVIA HILLS</td>\n",
       "      <td>AL</td>\n",
       "      <td>35216</td>\n",
       "      <td>PINNACLE BANK</td>\n",
       "      <td>AL</td>\n",
       "      <td>453220</td>\n",
       "      <td>1997-10-17</td>\n",
       "      <td>1998</td>\n",
       "      <td>...</td>\n",
       "      <td>0.0</td>\n",
       "      <td>0.0</td>\n",
       "      <td>0.0</td>\n",
       "      <td>0.0</td>\n",
       "      <td>0.0</td>\n",
       "      <td>0.0</td>\n",
       "      <td>1.0</td>\n",
       "      <td>0.0</td>\n",
       "      <td>0.0</td>\n",
       "      <td>0.0</td>\n",
       "    </tr>\n",
       "  </tbody>\n",
       "</table>\n",
       "<p>5 rows × 49 columns</p>\n",
       "</div>"
      ],
      "text/plain": [
       "             LoanNr_ChkDgt                            Name  \\\n",
       "      index                                                  \n",
       "train 152812    2119644006  INTERNATIONAL SECURITY & TRADI   \n",
       "      776790    8241693004  THE GENIE CO OF FAIRVW PRK INC   \n",
       "      714237    7452154008           HOOKSET FIREWORKS INC   \n",
       "      559037    5511925001          Drill Pro Services Inc   \n",
       "      82973     1622844010                    CHINA CLOSET   \n",
       "\n",
       "                                        City State    Zip  \\\n",
       "      index                                                 \n",
       "train 152812                           MIAMI    FL  33172   \n",
       "      776790               BROADVIEW HEIGHTS    OH  44147   \n",
       "      714237  HOOKSETT (CENSUS NAME FOR HOOK    NH   3106   \n",
       "      559037                       Williston    ND  58801   \n",
       "      82973                   VESTAVIA HILLS    AL  35216   \n",
       "\n",
       "                                        Bank BankState   NAICS ApprovalDate  \\\n",
       "      index                                                                   \n",
       "train 152812         FLORIDA BUS. DEVEL CORP        FL  421690   1998-06-09   \n",
       "      776790            GROWTH CAPITAL CORP.        OH    None   1995-04-07   \n",
       "      714237        CITIZENS BANK NATL ASSOC        NH  453998   2004-05-19   \n",
       "      559037  FIRST NATL BK & TR CO OF WILLI        ND  238910   2012-10-24   \n",
       "      82973                    PINNACLE BANK        AL  453220   1997-10-17   \n",
       "\n",
       "              ApprovalFY  ...  NS___Accommodation and Food Services  \\\n",
       "      index               ...                                         \n",
       "train 152812        1998  ...                                   0.0   \n",
       "      776790        1995  ...                                   0.0   \n",
       "      714237        2004  ...                                   0.0   \n",
       "      559037        2013  ...                                   0.0   \n",
       "      82973         1998  ...                                   0.0   \n",
       "\n",
       "              NS___Construction NS___Health Care and Social Assistance  \\\n",
       "      index                                                              \n",
       "train 152812                0.0                                    0.0   \n",
       "      776790                0.0                                    0.0   \n",
       "      714237                0.0                                    0.0   \n",
       "      559037                1.0                                    0.0   \n",
       "      82973                 0.0                                    0.0   \n",
       "\n",
       "              NS___Manufacturing  \\\n",
       "      index                        \n",
       "train 152812                 0.0   \n",
       "      776790                 0.0   \n",
       "      714237                 0.0   \n",
       "      559037                 0.0   \n",
       "      82973                  0.0   \n",
       "\n",
       "              NS___Other Services (except Public Administration)  \\\n",
       "      index                                                        \n",
       "train 152812                                                0.0    \n",
       "      776790                                                0.0    \n",
       "      714237                                                0.0    \n",
       "      559037                                                0.0    \n",
       "      82973                                                 0.0    \n",
       "\n",
       "             NS___Professional, Scientific, and Technical Services  \\\n",
       "      index                                                          \n",
       "train 152812                                                0.0      \n",
       "      776790                                                0.0      \n",
       "      714237                                                0.0      \n",
       "      559037                                                0.0      \n",
       "      82973                                                 0.0      \n",
       "\n",
       "             NS___Retail Trade  NS___Wholesale Trade  NS___nan  \\\n",
       "      index                                                      \n",
       "train 152812               0.0                   1.0       0.0   \n",
       "      776790               0.0                   0.0       1.0   \n",
       "      714237               1.0                   0.0       0.0   \n",
       "      559037               0.0                   0.0       0.0   \n",
       "      82973                1.0                   0.0       0.0   \n",
       "\n",
       "             NS___infrequent_sklearn  \n",
       "      index                           \n",
       "train 152812                     0.0  \n",
       "      776790                     0.0  \n",
       "      714237                     0.0  \n",
       "      559037                     0.0  \n",
       "      82973                      0.0  \n",
       "\n",
       "[5 rows x 49 columns]"
      ]
     },
     "execution_count": 7,
     "metadata": {},
     "output_type": "execute_result"
    }
   ],
   "source": [
    "sba_loans.head()"
   ]
  },
  {
   "cell_type": "code",
   "execution_count": 8,
   "id": "6e7d91c8-1e19-4881-97d4-71631585157c",
   "metadata": {},
   "outputs": [],
   "source": [
    "train_df = sba_loans[sba_loans.index.get_level_values(0) == 'train'].copy().reset_index(drop=True)"
   ]
  },
  {
   "cell_type": "code",
   "execution_count": 9,
   "id": "e237d04e-3e4a-440d-8451-8ef7e4edc707",
   "metadata": {},
   "outputs": [
    {
     "data": {
      "text/plain": [
       "(565037, 49)"
      ]
     },
     "execution_count": 9,
     "metadata": {},
     "output_type": "execute_result"
    }
   ],
   "source": [
    "train_df.shape"
   ]
  },
  {
   "cell_type": "markdown",
   "id": "66b50005-634c-43b6-945b-98b44854b87d",
   "metadata": {},
   "source": [
    "##### NAICS descriptions"
   ]
  },
  {
   "cell_type": "code",
   "execution_count": 114,
   "id": "0fe5f040-f2e5-4786-82fd-e53cb9c1d55d",
   "metadata": {},
   "outputs": [],
   "source": [
    "naics_desc = pd.read_parquet(Path(setup.temp_path).joinpath('01_DATA_naics07_descriptions.parquet')) \\\n",
    "    .drop_duplicates('NAICS07')"
   ]
  },
  {
   "cell_type": "markdown",
   "id": "0843deaa-c447-4a47-9dba-7303088d044a",
   "metadata": {},
   "source": [
    "## Name and Franchise\n",
    "These features are important to me because they may indicate non-independent observations.  There may be multiple loans for the same business.  Or, we may have multiple branches of a franchise who are not independent"
   ]
  },
  {
   "cell_type": "markdown",
   "id": "8e7ea3f6-1e39-4a99-9b5b-bc0982d27831",
   "metadata": {},
   "source": [
    "For this project I am not likely to do anything to account for potential leakage or distortions due to non-independence.  This may be something a GNN will be helpful for and I may explore that in the future"
   ]
  },
  {
   "cell_type": "markdown",
   "id": "17717bcb-7437-47d0-8ea1-e1e6afe799dd",
   "metadata": {},
   "source": [
    "I am not even going to do my train/test split by name or franchise, which would normally be the minimum I'd do with non-independent observations"
   ]
  },
  {
   "cell_type": "markdown",
   "id": "7b587130-53b5-4a82-8b6e-6cfa1643488b",
   "metadata": {},
   "source": [
    "##### Name - are there repeat loans?"
   ]
  },
  {
   "cell_type": "code",
   "execution_count": 10,
   "id": "346c546e-82f8-433a-9fe1-e91756b3d9e2",
   "metadata": {},
   "outputs": [
    {
     "name": "stdout",
     "output_type": "stream",
     "text": [
      "(869288, 49)\n",
      "(754175, 49)\n",
      "(809947, 49)\n"
     ]
    }
   ],
   "source": [
    "print(sba_loans.shape)\n",
    "print(sba_loans.drop_duplicates(['Name']).shape)\n",
    "print(sba_loans.drop_duplicates(['Name', 'Zip', 'City', 'State']).shape)"
   ]
  },
  {
   "cell_type": "code",
   "execution_count": 11,
   "id": "ebf021e7-ef7d-4baa-9f3b-ca07e68c962e",
   "metadata": {},
   "outputs": [],
   "source": [
    "# It looks like most repeat names are multi-locations (same name different address(  \n",
    "# There are a few same name/location cases, probably the same business getting multiple loans."
   ]
  },
  {
   "cell_type": "code",
   "execution_count": 12,
   "id": "5894cb3b-c49e-4022-8107-75617f893493",
   "metadata": {},
   "outputs": [
    {
     "data": {
      "text/plain": [
       "Name\n",
       "SUBWAY                 1267\n",
       "QUIZNO'S SUBS           433\n",
       "COLD STONE CREAMERY     366\n",
       "QUIZNO'S                345\n",
       "THE UPS STORE           323\n",
       "Name: count, dtype: int64"
      ]
     },
     "execution_count": 12,
     "metadata": {},
     "output_type": "execute_result"
    }
   ],
   "source": [
    "sba_loans['Name'].value_counts().head(5)"
   ]
  },
  {
   "cell_type": "code",
   "execution_count": 13,
   "id": "edffdac2-8eb5-4384-ba78-5f05859e2a6c",
   "metadata": {},
   "outputs": [],
   "source": [
    "# It appears that large franchises are getting many loans"
   ]
  },
  {
   "cell_type": "code",
   "execution_count": 14,
   "id": "f843afad-72d8-4bed-8223-62b98f648b59",
   "metadata": {},
   "outputs": [
    {
     "data": {
      "text/html": [
       "<div>\n",
       "<style scoped>\n",
       "    .dataframe tbody tr th:only-of-type {\n",
       "        vertical-align: middle;\n",
       "    }\n",
       "\n",
       "    .dataframe tbody tr th {\n",
       "        vertical-align: top;\n",
       "    }\n",
       "\n",
       "    .dataframe thead th {\n",
       "        text-align: right;\n",
       "    }\n",
       "</style>\n",
       "<table border=\"1\" class=\"dataframe\">\n",
       "  <thead>\n",
       "    <tr style=\"text-align: right;\">\n",
       "      <th></th>\n",
       "      <th></th>\n",
       "      <th></th>\n",
       "      <th></th>\n",
       "      <th>count</th>\n",
       "      <th>mean</th>\n",
       "    </tr>\n",
       "    <tr>\n",
       "      <th>Name</th>\n",
       "      <th>Zip</th>\n",
       "      <th>City</th>\n",
       "      <th>State</th>\n",
       "      <th></th>\n",
       "      <th></th>\n",
       "    </tr>\n",
       "  </thead>\n",
       "  <tbody>\n",
       "    <tr>\n",
       "      <th>WEST TEXAS LEE CO INC</th>\n",
       "      <th>79329</th>\n",
       "      <th>IDALOU</th>\n",
       "      <th>TX</th>\n",
       "      <td>131</td>\n",
       "      <td>0.0</td>\n",
       "    </tr>\n",
       "    <tr>\n",
       "      <th>WEST TEXAS LEE COMPANY INC</th>\n",
       "      <th>79329</th>\n",
       "      <th>IDALOU</th>\n",
       "      <th>TX</th>\n",
       "      <td>26</td>\n",
       "      <td>0.0</td>\n",
       "    </tr>\n",
       "    <tr>\n",
       "      <th>ECKERT DRILLING &amp; CONSTRUCTION</th>\n",
       "      <th>15235</th>\n",
       "      <th>PITTSBURGH</th>\n",
       "      <th>PA</th>\n",
       "      <td>26</td>\n",
       "      <td>0.0</td>\n",
       "    </tr>\n",
       "    <tr>\n",
       "      <th>ERIE PETROLEUM, INC.</th>\n",
       "      <th>16512</th>\n",
       "      <th>ERIE</th>\n",
       "      <th>PA</th>\n",
       "      <td>25</td>\n",
       "      <td>0.0</td>\n",
       "    </tr>\n",
       "    <tr>\n",
       "      <th>J. B. DECK, CORP.</th>\n",
       "      <th>52640</th>\n",
       "      <th>MORNING SUN</th>\n",
       "      <th>IA</th>\n",
       "      <td>24</td>\n",
       "      <td>0.0</td>\n",
       "    </tr>\n",
       "  </tbody>\n",
       "</table>\n",
       "</div>"
      ],
      "text/plain": [
       "                                                        count  mean\n",
       "Name                           Zip   City        State             \n",
       "WEST TEXAS LEE CO INC          79329 IDALOU      TX       131   0.0\n",
       "WEST TEXAS LEE COMPANY INC     79329 IDALOU      TX        26   0.0\n",
       "ECKERT DRILLING & CONSTRUCTION 15235 PITTSBURGH  PA        26   0.0\n",
       "ERIE PETROLEUM, INC.           16512 ERIE        PA        25   0.0\n",
       "J. B. DECK, CORP.              52640 MORNING SUN IA        24   0.0"
      ]
     },
     "execution_count": 14,
     "metadata": {},
     "output_type": "execute_result"
    }
   ],
   "source": [
    "sba_loans.groupby(['Name', 'Zip', 'City', 'State'])['franchise_flag'] \\\n",
    "    .agg(['count', 'mean']) \\\n",
    "    .sort_values('count', ascending=False) \\\n",
    "    .head()"
   ]
  },
  {
   "cell_type": "code",
   "execution_count": 15,
   "id": "da985249-ca90-4cca-a3fb-2f2257fae2cd",
   "metadata": {},
   "outputs": [],
   "source": [
    "# There are some non-franchises getting tons of loans also"
   ]
  },
  {
   "cell_type": "markdown",
   "id": "72e698ec-8596-47af-8763-9473afa3b739",
   "metadata": {},
   "source": [
    "## Banks\n",
    "I won't do anything with bank for this project, but it could also be an interesting GNN application in the future"
   ]
  },
  {
   "cell_type": "markdown",
   "id": "f7101e9e-66c8-41e0-a54a-396f1c0db458",
   "metadata": {},
   "source": [
    "##### Bank - loans per bank and histogram"
   ]
  },
  {
   "cell_type": "code",
   "execution_count": 16,
   "id": "df40e698-4c2a-4bdf-ad24-8ceae4ea3de5",
   "metadata": {},
   "outputs": [
    {
     "data": {
      "text/plain": [
       "Bank\n",
       "BANK OF AMERICA NATL ASSOC        85077\n",
       "WELLS FARGO BANK NATL ASSOC       61078\n",
       "JPMORGAN CHASE BANK NATL ASSOC    47368\n",
       "U.S. BANK NATIONAL ASSOCIATION    33831\n",
       "CITIZENS BANK NATL ASSOC          33688\n",
       "Name: count, dtype: int64"
      ]
     },
     "execution_count": 16,
     "metadata": {},
     "output_type": "execute_result"
    }
   ],
   "source": [
    "sba_loans['Bank'].value_counts(dropna=False).head()"
   ]
  },
  {
   "cell_type": "code",
   "execution_count": 17,
   "id": "a658ae37-d2a2-4c2a-aec0-2e61946be443",
   "metadata": {},
   "outputs": [
    {
     "data": {
      "text/plain": [
       "(5457,)"
      ]
     },
     "execution_count": 17,
     "metadata": {},
     "output_type": "execute_result"
    }
   ],
   "source": [
    "sba_loans['Bank'].value_counts(dropna=False).shape"
   ]
  },
  {
   "cell_type": "code",
   "execution_count": 18,
   "id": "bd6b099b-8cfd-4e86-bb72-225f805efa95",
   "metadata": {},
   "outputs": [],
   "source": [
    "sba_count = sba_loans.groupby('Bank')['LoanNr_ChkDgt']\\\n",
    "    .agg(['count'])"
   ]
  },
  {
   "cell_type": "code",
   "execution_count": 19,
   "id": "7c469d93-a90e-4942-ba6a-9c541815b318",
   "metadata": {},
   "outputs": [
    {
     "data": {
      "text/html": [
       "<div>\n",
       "<style scoped>\n",
       "    .dataframe tbody tr th:only-of-type {\n",
       "        vertical-align: middle;\n",
       "    }\n",
       "\n",
       "    .dataframe tbody tr th {\n",
       "        vertical-align: top;\n",
       "    }\n",
       "\n",
       "    .dataframe thead th {\n",
       "        text-align: right;\n",
       "    }\n",
       "</style>\n",
       "<table border=\"1\" class=\"dataframe\">\n",
       "  <thead>\n",
       "    <tr style=\"text-align: right;\">\n",
       "      <th></th>\n",
       "      <th>count</th>\n",
       "    </tr>\n",
       "  </thead>\n",
       "  <tbody>\n",
       "    <tr>\n",
       "      <th>count</th>\n",
       "      <td>5456.000000</td>\n",
       "    </tr>\n",
       "    <tr>\n",
       "      <th>mean</th>\n",
       "      <td>159.136913</td>\n",
       "    </tr>\n",
       "    <tr>\n",
       "      <th>std</th>\n",
       "      <td>1846.570919</td>\n",
       "    </tr>\n",
       "    <tr>\n",
       "      <th>min</th>\n",
       "      <td>1.000000</td>\n",
       "    </tr>\n",
       "    <tr>\n",
       "      <th>25%</th>\n",
       "      <td>3.000000</td>\n",
       "    </tr>\n",
       "    <tr>\n",
       "      <th>50%</th>\n",
       "      <td>10.000000</td>\n",
       "    </tr>\n",
       "    <tr>\n",
       "      <th>75%</th>\n",
       "      <td>40.000000</td>\n",
       "    </tr>\n",
       "    <tr>\n",
       "      <th>max</th>\n",
       "      <td>85077.000000</td>\n",
       "    </tr>\n",
       "  </tbody>\n",
       "</table>\n",
       "</div>"
      ],
      "text/plain": [
       "              count\n",
       "count   5456.000000\n",
       "mean     159.136913\n",
       "std     1846.570919\n",
       "min        1.000000\n",
       "25%        3.000000\n",
       "50%       10.000000\n",
       "75%       40.000000\n",
       "max    85077.000000"
      ]
     },
     "execution_count": 19,
     "metadata": {},
     "output_type": "execute_result"
    }
   ],
   "source": [
    "sba_count.describe()\n",
    "# Most banks are small.  There are a few mega-banks.  "
   ]
  },
  {
   "cell_type": "markdown",
   "id": "2e6793aa-8ab6-4515-a58d-51a1a8a6b8c1",
   "metadata": {},
   "source": [
    "## Correlations\n",
    "Get correlations for all predictor features, as well as Term, the target indicator"
   ]
  },
  {
   "cell_type": "markdown",
   "id": "37418236-fb72-4d8c-810d-adba7468b0b3",
   "metadata": {},
   "source": [
    "##### Calculate Spearman correlations"
   ]
  },
  {
   "cell_type": "code",
   "execution_count": 20,
   "id": "8939ce54-19be-41ec-8ca3-f654bd4aa217",
   "metadata": {},
   "outputs": [],
   "source": [
    "# Correlations matrix\n",
    "cor_df = train_df[['Term', 'target', 'menc_NAICS', 'menc_NAICS_sector'] + setup.predictor_features].corr(method='spearman')"
   ]
  },
  {
   "cell_type": "code",
   "execution_count": 21,
   "id": "50851472-7505-4a10-bb95-9658552c164c",
   "metadata": {},
   "outputs": [],
   "source": [
    "cor_df.to_csv(Path(setup.temp_path).joinpath('02_REPORT_correlations.csv'), index=True)"
   ]
  },
  {
   "cell_type": "markdown",
   "id": "346d5fde-ef84-46e2-9f7d-de24d0820d16",
   "metadata": {},
   "source": [
    "##### Function to examine correlations for a given feature"
   ]
  },
  {
   "cell_type": "code",
   "execution_count": 22,
   "id": "c4791f90-9533-4b2e-a3bc-e235b0971346",
   "metadata": {},
   "outputs": [],
   "source": [
    "def feat_corr(corr_data, feature='target',\n",
    "             outpath = None,\n",
    "             outfile_prefix = '02_PLOT_cor_'):\n",
    "    feat_corr = corr_data[feature].rename('corr').reset_index()\n",
    "    feat_corr['corr_abs'] = np.abs(feat_corr['corr'])\n",
    "    feat_corr = feat_corr[feat_corr['index'] != feature]\n",
    "    feat_corr.sort_values('corr_abs', ascending=False, inplace=True)\n",
    "    \n",
    "    fig = sg_plot.plot_basic_bar(feat_corr, label='index', y='corr')\n",
    "    \n",
    "    if outpath is not None:\n",
    "        fig.savefig(Path(outpath).joinpath(outfile_prefix + feature))\n",
    "        \n",
    "    #print(fig)\n",
    "              \n",
    "    return feat_corr"
   ]
  },
  {
   "cell_type": "markdown",
   "id": "3b71106f-ea5b-470a-a559-abaa86b6e1a2",
   "metadata": {},
   "source": [
    "##### Target correlations"
   ]
  },
  {
   "cell_type": "code",
   "execution_count": 23,
   "id": "6b89be21-a640-4900-b722-fabebb6d4094",
   "metadata": {},
   "outputs": [
    {
     "data": {
      "text/html": [
       "<div>\n",
       "<style scoped>\n",
       "    .dataframe tbody tr th:only-of-type {\n",
       "        vertical-align: middle;\n",
       "    }\n",
       "\n",
       "    .dataframe tbody tr th {\n",
       "        vertical-align: top;\n",
       "    }\n",
       "\n",
       "    .dataframe thead th {\n",
       "        text-align: right;\n",
       "    }\n",
       "</style>\n",
       "<table border=\"1\" class=\"dataframe\">\n",
       "  <thead>\n",
       "    <tr style=\"text-align: right;\">\n",
       "      <th></th>\n",
       "      <th>index</th>\n",
       "      <th>corr</th>\n",
       "      <th>corr_abs</th>\n",
       "    </tr>\n",
       "  </thead>\n",
       "  <tbody>\n",
       "    <tr>\n",
       "      <th>0</th>\n",
       "      <td>Term</td>\n",
       "      <td>-0.420028</td>\n",
       "      <td>0.420028</td>\n",
       "    </tr>\n",
       "    <tr>\n",
       "      <th>2</th>\n",
       "      <td>menc_NAICS</td>\n",
       "      <td>0.272107</td>\n",
       "      <td>0.272107</td>\n",
       "    </tr>\n",
       "    <tr>\n",
       "      <th>3</th>\n",
       "      <td>menc_NAICS_sector</td>\n",
       "      <td>0.179992</td>\n",
       "      <td>0.179992</td>\n",
       "    </tr>\n",
       "    <tr>\n",
       "      <th>7</th>\n",
       "      <td>DisbursementGross</td>\n",
       "      <td>-0.163587</td>\n",
       "      <td>0.163587</td>\n",
       "    </tr>\n",
       "    <tr>\n",
       "      <th>4</th>\n",
       "      <td>NoEmp</td>\n",
       "      <td>-0.122138</td>\n",
       "      <td>0.122138</td>\n",
       "    </tr>\n",
       "    <tr>\n",
       "      <th>6</th>\n",
       "      <td>LowDoc</td>\n",
       "      <td>-0.082861</td>\n",
       "      <td>0.082861</td>\n",
       "    </tr>\n",
       "    <tr>\n",
       "      <th>5</th>\n",
       "      <td>CreateJob</td>\n",
       "      <td>0.064378</td>\n",
       "      <td>0.064378</td>\n",
       "    </tr>\n",
       "    <tr>\n",
       "      <th>9</th>\n",
       "      <td>urban_flag</td>\n",
       "      <td>0.051498</td>\n",
       "      <td>0.051498</td>\n",
       "    </tr>\n",
       "    <tr>\n",
       "      <th>8</th>\n",
       "      <td>new_business</td>\n",
       "      <td>0.017554</td>\n",
       "      <td>0.017554</td>\n",
       "    </tr>\n",
       "    <tr>\n",
       "      <th>10</th>\n",
       "      <td>franchise_flag</td>\n",
       "      <td>-0.016149</td>\n",
       "      <td>0.016149</td>\n",
       "    </tr>\n",
       "  </tbody>\n",
       "</table>\n",
       "</div>"
      ],
      "text/plain": [
       "                index      corr  corr_abs\n",
       "0                Term -0.420028  0.420028\n",
       "2          menc_NAICS  0.272107  0.272107\n",
       "3   menc_NAICS_sector  0.179992  0.179992\n",
       "7   DisbursementGross -0.163587  0.163587\n",
       "4               NoEmp -0.122138  0.122138\n",
       "6              LowDoc -0.082861  0.082861\n",
       "5           CreateJob  0.064378  0.064378\n",
       "9          urban_flag  0.051498  0.051498\n",
       "8        new_business  0.017554  0.017554\n",
       "10     franchise_flag -0.016149  0.016149"
      ]
     },
     "execution_count": 23,
     "metadata": {},
     "output_type": "execute_result"
    },
    {
     "data": {
      "image/png": "[encoded data removed]",
      "text/plain": [
       "<Figure size 400x303.03 with 1 Axes>"
      ]
     },
     "metadata": {},
     "output_type": "display_data"
    }
   ],
   "source": [
    "feat_corr(cor_df, 'target', outpath = Path(setup.temp_path))"
   ]
  },
  {
   "cell_type": "markdown",
   "id": "b2464ad7-cf1f-48ac-9a9d-4c1987126820",
   "metadata": {},
   "source": [
    "The target feature is highly correlated with term (in Kaggle notebooks, models have very high performance, and I also see very high performance with this feature).  I think this feature is likely set by the creditworthiness of the businesses, as it is such a strong predictor"
   ]
  },
  {
   "cell_type": "markdown",
   "id": "1f833318-2234-4e53-a5bb-20f6b4b7ca8e",
   "metadata": {},
   "source": [
    "After term, NAICS seems to be the most significant feature.  Let's look at the NAICS feature now"
   ]
  },
  {
   "cell_type": "markdown",
   "id": "5144de39-30be-48ca-a9c8-798de3708f21",
   "metadata": {},
   "source": [
    "##### NAICS correlations"
   ]
  },
  {
   "cell_type": "code",
   "execution_count": 24,
   "id": "03a64850-70ed-4c04-bb8d-4f90388f6544",
   "metadata": {},
   "outputs": [
    {
     "data": {
      "text/html": [
       "<div>\n",
       "<style scoped>\n",
       "    .dataframe tbody tr th:only-of-type {\n",
       "        vertical-align: middle;\n",
       "    }\n",
       "\n",
       "    .dataframe tbody tr th {\n",
       "        vertical-align: top;\n",
       "    }\n",
       "\n",
       "    .dataframe thead th {\n",
       "        text-align: right;\n",
       "    }\n",
       "</style>\n",
       "<table border=\"1\" class=\"dataframe\">\n",
       "  <thead>\n",
       "    <tr style=\"text-align: right;\">\n",
       "      <th></th>\n",
       "      <th>index</th>\n",
       "      <th>corr</th>\n",
       "      <th>corr_abs</th>\n",
       "    </tr>\n",
       "  </thead>\n",
       "  <tbody>\n",
       "    <tr>\n",
       "      <th>3</th>\n",
       "      <td>menc_NAICS_sector</td>\n",
       "      <td>0.682715</td>\n",
       "      <td>0.682715</td>\n",
       "    </tr>\n",
       "    <tr>\n",
       "      <th>1</th>\n",
       "      <td>target</td>\n",
       "      <td>0.272107</td>\n",
       "      <td>0.272107</td>\n",
       "    </tr>\n",
       "    <tr>\n",
       "      <th>0</th>\n",
       "      <td>Term</td>\n",
       "      <td>-0.271637</td>\n",
       "      <td>0.271637</td>\n",
       "    </tr>\n",
       "    <tr>\n",
       "      <th>7</th>\n",
       "      <td>DisbursementGross</td>\n",
       "      <td>-0.264896</td>\n",
       "      <td>0.264896</td>\n",
       "    </tr>\n",
       "    <tr>\n",
       "      <th>4</th>\n",
       "      <td>NoEmp</td>\n",
       "      <td>-0.183396</td>\n",
       "      <td>0.183396</td>\n",
       "    </tr>\n",
       "    <tr>\n",
       "      <th>5</th>\n",
       "      <td>CreateJob</td>\n",
       "      <td>0.163027</td>\n",
       "      <td>0.163027</td>\n",
       "    </tr>\n",
       "    <tr>\n",
       "      <th>6</th>\n",
       "      <td>LowDoc</td>\n",
       "      <td>-0.151060</td>\n",
       "      <td>0.151060</td>\n",
       "    </tr>\n",
       "    <tr>\n",
       "      <th>9</th>\n",
       "      <td>urban_flag</td>\n",
       "      <td>0.046836</td>\n",
       "      <td>0.046836</td>\n",
       "    </tr>\n",
       "    <tr>\n",
       "      <th>8</th>\n",
       "      <td>new_business</td>\n",
       "      <td>0.015609</td>\n",
       "      <td>0.015609</td>\n",
       "    </tr>\n",
       "    <tr>\n",
       "      <th>10</th>\n",
       "      <td>franchise_flag</td>\n",
       "      <td>-0.002019</td>\n",
       "      <td>0.002019</td>\n",
       "    </tr>\n",
       "  </tbody>\n",
       "</table>\n",
       "</div>"
      ],
      "text/plain": [
       "                index      corr  corr_abs\n",
       "3   menc_NAICS_sector  0.682715  0.682715\n",
       "1              target  0.272107  0.272107\n",
       "0                Term -0.271637  0.271637\n",
       "7   DisbursementGross -0.264896  0.264896\n",
       "4               NoEmp -0.183396  0.183396\n",
       "5           CreateJob  0.163027  0.163027\n",
       "6              LowDoc -0.151060  0.151060\n",
       "9          urban_flag  0.046836  0.046836\n",
       "8        new_business  0.015609  0.015609\n",
       "10     franchise_flag -0.002019  0.002019"
      ]
     },
     "execution_count": 24,
     "metadata": {},
     "output_type": "execute_result"
    },
    {
     "data": {
      "image/png": "[encoded data removed]",
      "text/plain": [
       "<Figure size 400x303.03 with 1 Axes>"
      ]
     },
     "metadata": {},
     "output_type": "display_data"
    }
   ],
   "source": [
    "feat_corr(cor_df, 'menc_NAICS', outpath = Path(setup.temp_path))"
   ]
  },
  {
   "cell_type": "markdown",
   "id": "28c85484-636a-48f4-a5c9-64f7d46d9a70",
   "metadata": {},
   "source": [
    "The strong correlation with menc_NAICS_sector is to be expected. In addition to that, there are strong correlations with RevLineCr, RetainedJob, and other features. "
   ]
  },
  {
   "cell_type": "markdown",
   "id": "07cee84c-a3ef-4c49-88c3-a5f934c878ab",
   "metadata": {},
   "source": [
    "##### NAICS sector correlations"
   ]
  },
  {
   "cell_type": "code",
   "execution_count": 25,
   "id": "4acac8cb-2701-4f5f-97d0-dac8defa7ac2",
   "metadata": {},
   "outputs": [
    {
     "data": {
      "text/html": [
       "<div>\n",
       "<style scoped>\n",
       "    .dataframe tbody tr th:only-of-type {\n",
       "        vertical-align: middle;\n",
       "    }\n",
       "\n",
       "    .dataframe tbody tr th {\n",
       "        vertical-align: top;\n",
       "    }\n",
       "\n",
       "    .dataframe thead th {\n",
       "        text-align: right;\n",
       "    }\n",
       "</style>\n",
       "<table border=\"1\" class=\"dataframe\">\n",
       "  <thead>\n",
       "    <tr style=\"text-align: right;\">\n",
       "      <th></th>\n",
       "      <th>index</th>\n",
       "      <th>corr</th>\n",
       "      <th>corr_abs</th>\n",
       "    </tr>\n",
       "  </thead>\n",
       "  <tbody>\n",
       "    <tr>\n",
       "      <th>2</th>\n",
       "      <td>menc_NAICS</td>\n",
       "      <td>0.682715</td>\n",
       "      <td>0.682715</td>\n",
       "    </tr>\n",
       "    <tr>\n",
       "      <th>0</th>\n",
       "      <td>Term</td>\n",
       "      <td>-0.192333</td>\n",
       "      <td>0.192333</td>\n",
       "    </tr>\n",
       "    <tr>\n",
       "      <th>1</th>\n",
       "      <td>target</td>\n",
       "      <td>0.179992</td>\n",
       "      <td>0.179992</td>\n",
       "    </tr>\n",
       "    <tr>\n",
       "      <th>7</th>\n",
       "      <td>DisbursementGross</td>\n",
       "      <td>-0.177320</td>\n",
       "      <td>0.177320</td>\n",
       "    </tr>\n",
       "    <tr>\n",
       "      <th>4</th>\n",
       "      <td>NoEmp</td>\n",
       "      <td>-0.144681</td>\n",
       "      <td>0.144681</td>\n",
       "    </tr>\n",
       "    <tr>\n",
       "      <th>6</th>\n",
       "      <td>LowDoc</td>\n",
       "      <td>-0.125538</td>\n",
       "      <td>0.125538</td>\n",
       "    </tr>\n",
       "    <tr>\n",
       "      <th>5</th>\n",
       "      <td>CreateJob</td>\n",
       "      <td>0.117688</td>\n",
       "      <td>0.117688</td>\n",
       "    </tr>\n",
       "    <tr>\n",
       "      <th>10</th>\n",
       "      <td>franchise_flag</td>\n",
       "      <td>-0.020245</td>\n",
       "      <td>0.020245</td>\n",
       "    </tr>\n",
       "    <tr>\n",
       "      <th>8</th>\n",
       "      <td>new_business</td>\n",
       "      <td>-0.018871</td>\n",
       "      <td>0.018871</td>\n",
       "    </tr>\n",
       "    <tr>\n",
       "      <th>9</th>\n",
       "      <td>urban_flag</td>\n",
       "      <td>-0.007902</td>\n",
       "      <td>0.007902</td>\n",
       "    </tr>\n",
       "  </tbody>\n",
       "</table>\n",
       "</div>"
      ],
      "text/plain": [
       "                index      corr  corr_abs\n",
       "2          menc_NAICS  0.682715  0.682715\n",
       "0                Term -0.192333  0.192333\n",
       "1              target  0.179992  0.179992\n",
       "7   DisbursementGross -0.177320  0.177320\n",
       "4               NoEmp -0.144681  0.144681\n",
       "6              LowDoc -0.125538  0.125538\n",
       "5           CreateJob  0.117688  0.117688\n",
       "10     franchise_flag -0.020245  0.020245\n",
       "8        new_business -0.018871  0.018871\n",
       "9          urban_flag -0.007902  0.007902"
      ]
     },
     "execution_count": 25,
     "metadata": {},
     "output_type": "execute_result"
    },
    {
     "data": {
      "image/png": "[encoded data removed]",
      "text/plain": [
       "<Figure size 400x303.03 with 1 Axes>"
      ]
     },
     "metadata": {},
     "output_type": "display_data"
    }
   ],
   "source": [
    "feat_corr(cor_df, 'menc_NAICS_sector', outpath = Path(setup.temp_path))"
   ]
  },
  {
   "cell_type": "markdown",
   "id": "0160cb64-7c2b-4971-93ec-bef43685a51e",
   "metadata": {},
   "source": [
    "The overall pattern is similar to the full NAICS, but a bit weaker."
   ]
  },
  {
   "cell_type": "markdown",
   "id": "5df971da-9e87-48b4-bcd3-41c4f7fec711",
   "metadata": {},
   "source": [
    "## Term\n",
    "This feature is highly predictive and its use makes an excellent model.  I will probably drop it as it's probably set in proportion to creditworthiness.  Using this feature would make sense if you want to evaluate how well SBA is assigning risk, or to predict defaults given known risk.  But here I omit it because it makes a model so good NAICS doesn't matter.  Also removing this feature means predicting risk without the (implicit) benefit of the credit-worthiness assigned by the SBA."
   ]
  },
  {
   "cell_type": "markdown",
   "id": "ba76e4fa-5e93-4a37-918a-8dd813160533",
   "metadata": {},
   "source": [
    "I am going to explore how term is related to the target a little"
   ]
  },
  {
   "cell_type": "markdown",
   "id": "188eb301-7e51-42d3-bbe4-6f906c8d5655",
   "metadata": {},
   "source": [
    "##### Quartile stats"
   ]
  },
  {
   "cell_type": "code",
   "execution_count": 26,
   "id": "1bc75614-79b8-467c-ae43-04d54545a5b3",
   "metadata": {},
   "outputs": [],
   "source": [
    "train_df['term_cat'] = pd.qcut(train_df['Term'], q=4)"
   ]
  },
  {
   "cell_type": "code",
   "execution_count": 27,
   "id": "7560a6b5-fb9d-466c-ab1d-9fb8bbd4ba01",
   "metadata": {},
   "outputs": [
    {
     "data": {
      "text/html": [
       "<div>\n",
       "<style scoped>\n",
       "    .dataframe tbody tr th:only-of-type {\n",
       "        vertical-align: middle;\n",
       "    }\n",
       "\n",
       "    .dataframe tbody tr th {\n",
       "        vertical-align: top;\n",
       "    }\n",
       "\n",
       "    .dataframe thead th {\n",
       "        text-align: right;\n",
       "    }\n",
       "</style>\n",
       "<table border=\"1\" class=\"dataframe\">\n",
       "  <thead>\n",
       "    <tr style=\"text-align: right;\">\n",
       "      <th></th>\n",
       "      <th>Term</th>\n",
       "      <th>LoanNr_ChkDgt</th>\n",
       "      <th>target</th>\n",
       "    </tr>\n",
       "    <tr>\n",
       "      <th>term_cat</th>\n",
       "      <th></th>\n",
       "      <th></th>\n",
       "      <th></th>\n",
       "    </tr>\n",
       "  </thead>\n",
       "  <tbody>\n",
       "    <tr>\n",
       "      <th>(-0.001, 60.0]</th>\n",
       "      <td>41.301317</td>\n",
       "      <td>169652</td>\n",
       "      <td>0.381805</td>\n",
       "    </tr>\n",
       "    <tr>\n",
       "      <th>(60.0, 84.0]</th>\n",
       "      <td>81.248699</td>\n",
       "      <td>185767</td>\n",
       "      <td>0.104297</td>\n",
       "    </tr>\n",
       "    <tr>\n",
       "      <th>(84.0, 120.0]</th>\n",
       "      <td>111.338620</td>\n",
       "      <td>79068</td>\n",
       "      <td>0.104012</td>\n",
       "    </tr>\n",
       "    <tr>\n",
       "      <th>(120.0, 569.0]</th>\n",
       "      <td>237.010777</td>\n",
       "      <td>130550</td>\n",
       "      <td>0.038116</td>\n",
       "    </tr>\n",
       "  </tbody>\n",
       "</table>\n",
       "</div>"
      ],
      "text/plain": [
       "                      Term  LoanNr_ChkDgt    target\n",
       "term_cat                                           \n",
       "(-0.001, 60.0]   41.301317         169652  0.381805\n",
       "(60.0, 84.0]     81.248699         185767  0.104297\n",
       "(84.0, 120.0]   111.338620          79068  0.104012\n",
       "(120.0, 569.0]  237.010777         130550  0.038116"
      ]
     },
     "execution_count": 27,
     "metadata": {},
     "output_type": "execute_result"
    }
   ],
   "source": [
    "train_df.groupby('term_cat') \\\n",
    "    .agg({'Term': 'mean', 'LoanNr_ChkDgt':'count',\n",
    "          'target':'mean'})"
   ]
  },
  {
   "cell_type": "markdown",
   "id": "0694dbda-4096-4769-a512-b529ec099bd7",
   "metadata": {},
   "source": [
    "There is a steady decrease in risk as term increases.  I wonder if enough time has passed to evaluate very long loans"
   ]
  },
  {
   "cell_type": "markdown",
   "id": "d63a3765-f154-4dc7-849a-029f310d8836",
   "metadata": {},
   "source": [
    "##### Value counts, describe"
   ]
  },
  {
   "cell_type": "code",
   "execution_count": 28,
   "id": "6a0b8c7a-998b-4146-b8a7-5b9fcc2d3ce7",
   "metadata": {},
   "outputs": [
    {
     "data": {
      "text/plain": [
       "Term\n",
       "84     146715\n",
       "60      57272\n",
       "240     51831\n",
       "120     48703\n",
       "300     27387\n",
       "180     16645\n",
       "36      12774\n",
       "12      10801\n",
       "48      10101\n",
       "72       5942\n",
       "Name: count, dtype: int64"
      ]
     },
     "execution_count": 28,
     "metadata": {},
     "output_type": "execute_result"
    }
   ],
   "source": [
    "train_df['Term'].value_counts().head(10)"
   ]
  },
  {
   "cell_type": "markdown",
   "id": "aa5c414b-c91e-4933-919a-3b4a34887c70",
   "metadata": {},
   "source": [
    "5 or 7 year terms are common!"
   ]
  },
  {
   "cell_type": "code",
   "execution_count": 29,
   "id": "8f300ac4-6b61-445f-89c7-b04f70b0bc30",
   "metadata": {},
   "outputs": [
    {
     "data": {
      "text/plain": [
       "count    565037.000000\n",
       "mean        109.453464\n",
       "std          78.196375\n",
       "min           0.000000\n",
       "25%          60.000000\n",
       "50%          84.000000\n",
       "75%         120.000000\n",
       "max         569.000000\n",
       "Name: Term, dtype: float64"
      ]
     },
     "execution_count": 29,
     "metadata": {},
     "output_type": "execute_result"
    }
   ],
   "source": [
    "train_df['Term'].describe()"
   ]
  },
  {
   "cell_type": "markdown",
   "id": "a14417a9-fa6e-40a9-b7db-796ea50bc80b",
   "metadata": {},
   "source": [
    "## NAICS\n",
    "What is the variation of term rates within vs. between sectors?"
   ]
  },
  {
   "cell_type": "code",
   "execution_count": 120,
   "id": "cdb5fdf3-b208-4814-9b0a-ef81b20de28c",
   "metadata": {},
   "outputs": [
    {
     "data": {
      "text/plain": [
       "<module 'sba_gnn.sba_gnn.sg_plot' from '/Users/valeriecarey/Documents/projects/2023_10_blog_gnn_sba/code/sba_gnn/sba_gnn/sg_plot.py'>"
      ]
     },
     "execution_count": 120,
     "metadata": {},
     "output_type": "execute_result"
    }
   ],
   "source": [
    "importlib.reload(sg_plot)"
   ]
  },
  {
   "cell_type": "code",
   "execution_count": 115,
   "id": "1baeb550-081a-40a8-ad83-07d2674a61fb",
   "metadata": {},
   "outputs": [],
   "source": [
    "# Summarize target rates and counts by NAICS\n",
    "naics_info = sg_plot.naics_variance_data(train_df)\n",
    "naics_info = naics_info.merge(naics_desc.rename(columns={'NAICS07':'NAICS'}),\n",
    "                             how='left', on='NAICS')\n",
    "naics_info.to_csv(Path(setup.temp_path).joinpath('02_REPORT_naics_counts_rates.csv'), index=False)"
   ]
  },
  {
   "cell_type": "code",
   "execution_count": 116,
   "id": "a138c3f7-5516-49eb-9701-f0a9834ae12f",
   "metadata": {},
   "outputs": [
    {
     "data": {
      "text/html": [
       "<div>\n",
       "<style scoped>\n",
       "    .dataframe tbody tr th:only-of-type {\n",
       "        vertical-align: middle;\n",
       "    }\n",
       "\n",
       "    .dataframe tbody tr th {\n",
       "        vertical-align: top;\n",
       "    }\n",
       "\n",
       "    .dataframe thead th {\n",
       "        text-align: right;\n",
       "    }\n",
       "</style>\n",
       "<table border=\"1\" class=\"dataframe\">\n",
       "  <thead>\n",
       "    <tr style=\"text-align: right;\">\n",
       "      <th></th>\n",
       "      <th>NAICS</th>\n",
       "      <th>target</th>\n",
       "      <th>count</th>\n",
       "      <th>NAICS_sector</th>\n",
       "      <th>count_cat</th>\n",
       "      <th>target_cat</th>\n",
       "      <th>NAICS_sector_desc</th>\n",
       "      <th>target_sd</th>\n",
       "      <th>target_cat_sd</th>\n",
       "      <th>NAICS07_desc</th>\n",
       "    </tr>\n",
       "  </thead>\n",
       "  <tbody>\n",
       "    <tr>\n",
       "      <th>0</th>\n",
       "      <td>445310</td>\n",
       "      <td>0.116142</td>\n",
       "      <td>4417</td>\n",
       "      <td>44-45</td>\n",
       "      <td>81588</td>\n",
       "      <td>0.228612</td>\n",
       "      <td>Retail Trade</td>\n",
       "      <td>0.005128</td>\n",
       "      <td>0.001674</td>\n",
       "      <td>Beer stores, packaged</td>\n",
       "    </tr>\n",
       "    <tr>\n",
       "      <th>1</th>\n",
       "      <td>447110</td>\n",
       "      <td>0.172548</td>\n",
       "      <td>4364</td>\n",
       "      <td>44-45</td>\n",
       "      <td>81588</td>\n",
       "      <td>0.228612</td>\n",
       "      <td>Retail Trade</td>\n",
       "      <td>0.006288</td>\n",
       "      <td>0.001674</td>\n",
       "      <td>Convenience food with gasoline stations</td>\n",
       "    </tr>\n",
       "    <tr>\n",
       "      <th>2</th>\n",
       "      <td>451110</td>\n",
       "      <td>0.190551</td>\n",
       "      <td>3810</td>\n",
       "      <td>44-45</td>\n",
       "      <td>81588</td>\n",
       "      <td>0.228612</td>\n",
       "      <td>Retail Trade</td>\n",
       "      <td>0.007072</td>\n",
       "      <td>0.001674</td>\n",
       "      <td>Athletic equipment and supply stores (includin...</td>\n",
       "    </tr>\n",
       "    <tr>\n",
       "      <th>3</th>\n",
       "      <td>453220</td>\n",
       "      <td>0.227357</td>\n",
       "      <td>3787</td>\n",
       "      <td>44-45</td>\n",
       "      <td>81588</td>\n",
       "      <td>0.228612</td>\n",
       "      <td>Retail Trade</td>\n",
       "      <td>0.007748</td>\n",
       "      <td>0.001674</td>\n",
       "      <td>Balloon shops</td>\n",
       "    </tr>\n",
       "    <tr>\n",
       "      <th>4</th>\n",
       "      <td>453998</td>\n",
       "      <td>0.313315</td>\n",
       "      <td>3680</td>\n",
       "      <td>44-45</td>\n",
       "      <td>81588</td>\n",
       "      <td>0.228612</td>\n",
       "      <td>Retail Trade</td>\n",
       "      <td>0.009227</td>\n",
       "      <td>0.001674</td>\n",
       "      <td>Art supply stores</td>\n",
       "    </tr>\n",
       "  </tbody>\n",
       "</table>\n",
       "</div>"
      ],
      "text/plain": [
       "    NAICS    target  count NAICS_sector  count_cat  target_cat  \\\n",
       "0  445310  0.116142   4417        44-45      81588    0.228612   \n",
       "1  447110  0.172548   4364        44-45      81588    0.228612   \n",
       "2  451110  0.190551   3810        44-45      81588    0.228612   \n",
       "3  453220  0.227357   3787        44-45      81588    0.228612   \n",
       "4  453998  0.313315   3680        44-45      81588    0.228612   \n",
       "\n",
       "  NAICS_sector_desc  target_sd  target_cat_sd  \\\n",
       "0      Retail Trade   0.005128       0.001674   \n",
       "1      Retail Trade   0.006288       0.001674   \n",
       "2      Retail Trade   0.007072       0.001674   \n",
       "3      Retail Trade   0.007748       0.001674   \n",
       "4      Retail Trade   0.009227       0.001674   \n",
       "\n",
       "                                        NAICS07_desc  \n",
       "0                              Beer stores, packaged  \n",
       "1            Convenience food with gasoline stations  \n",
       "2  Athletic equipment and supply stores (includin...  \n",
       "3                                      Balloon shops  \n",
       "4                                  Art supply stores  "
      ]
     },
     "execution_count": 116,
     "metadata": {},
     "output_type": "execute_result"
    }
   ],
   "source": [
    "naics_info.head(5)"
   ]
  },
  {
   "cell_type": "code",
   "execution_count": null,
   "id": "26ecf2ad-3d4b-4839-a408-4311cade8bc0",
   "metadata": {},
   "outputs": [],
   "source": [
    "# Join in NAICS code descriptions"
   ]
  },
  {
   "cell_type": "code",
   "execution_count": 117,
   "id": "f8695633-ad77-4c14-aa72-87b8518d5899",
   "metadata": {},
   "outputs": [
    {
     "name": "stdout",
     "output_type": "stream",
     "text": [
      "(1300, 10)\n",
      "(589, 10)\n"
     ]
    }
   ],
   "source": [
    "print(naics_info.shape)\n",
    "print(naics_info[naics_info['count'] > 100].shape)"
   ]
  },
  {
   "cell_type": "code",
   "execution_count": 121,
   "id": "abafc752-0b7c-417c-93b2-13c8f8f2881d",
   "metadata": {},
   "outputs": [
    {
     "data": {
      "image/png": "[encoded data removed]",
      "text/plain": [
       "<Figure size 700x500 with 5 Axes>"
      ]
     },
     "metadata": {},
     "output_type": "display_data"
    }
   ],
   "source": [
    "# Plot higher volume NAICS\n",
    "plt.close()\n",
    "fig = sg_plot.naics_variance_plot(naics_info[naics_info['count'] > 100], num_sectors=5)\n",
    "fig.savefig(Path(setup.temp_path).joinpath('02_PLOT_naics_counts_rates.png'),\n",
    "           bbox_inches='tight')"
   ]
  },
  {
   "cell_type": "code",
   "execution_count": 119,
   "id": "e90e702c-655f-40f0-8850-5111ca0b04b2",
   "metadata": {},
   "outputs": [],
   "source": [
    "# Export high-volume data for analysis\n",
    "naics_info[naics_info['count'] > 100] \\\n",
    "           .sort_values(['target_cat', 'target'], ascending=[False, False]) \\\n",
    "           .to_csv(Path(setup.temp_path).joinpath('02_REPORT_naics_counts_rates_high_vol.csv'), \n",
    "                   index=False)"
   ]
  },
  {
   "cell_type": "code",
   "execution_count": null,
   "id": "5e416ad0-ecb8-4e26-b822-35078250bf4b",
   "metadata": {},
   "outputs": [],
   "source": []
  }
 ],
 "metadata": {
  "kernelspec": {
   "display_name": "tf_p39",
   "language": "python",
   "name": "tf_p39"
  },
  "language_info": {
   "codemirror_mode": {
    "name": "ipython",
    "version": 3
   },
   "file_extension": ".py",
   "mimetype": "text/x-python",
   "name": "python",
   "nbconvert_exporter": "python",
   "pygments_lexer": "ipython3",
   "version": "3.8.18"
  }
 },
 "nbformat": 4,
 "nbformat_minor": 5
}
