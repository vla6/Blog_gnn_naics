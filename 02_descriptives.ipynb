{
 "cells": [
  {
   "cell_type": "code",
   "execution_count": 1,
   "id": "95b98a76-b511-4640-99ea-74205d2f5d71",
   "metadata": {},
   "outputs": [],
   "source": [
    "# Modify the file 00_setup.py to define input/output file paths on your system\n",
    "# The information in 00_setup.py will be used across notebooks\n",
    "from importlib.machinery import SourceFileLoader\n",
    "setup = SourceFileLoader(\"setup\", \"./00_setup.py\").load_module()"
   ]
  },
  {
   "cell_type": "markdown",
   "id": "4f4fa0e4-4816-46dd-bfd9-5aafef418830",
   "metadata": {},
   "source": [
    "# Descriptives\n",
    "Data exploration and basic descriptives, including:\n",
    " * Name and franchise code (non independent observations)\n",
    " * Bank\n",
    " * Correlations"
   ]
  },
  {
   "cell_type": "markdown",
   "id": "593979fa-4590-4455-a4a5-a2974c6a14b6",
   "metadata": {},
   "source": [
    "I do not do extensive data exploration but instead use others' insights from various\n",
    "Kaggle projects, especially:\n",
    "* https://www.kaggle.com/code/ricardocolindres/loan-default-prediction-loan-parameter-optimizer"
   ]
  },
  {
   "cell_type": "markdown",
   "id": "6755eebb-0e06-483f-9371-bd08a38be869",
   "metadata": {},
   "source": [
    "I am also not going to use all the features I could.  I want to focus on NAICS, and so I don't do a lot with bank, franchise, or geography."
   ]
  },
  {
   "cell_type": "markdown",
   "id": "ea6cac06-df4b-43f2-bd07-32cf33563ae9",
   "metadata": {},
   "source": [
    "*This script takes about 10 minutes on my MacBook Air*"
   ]
  },
  {
   "cell_type": "code",
   "execution_count": 2,
   "id": "3c909d0a-ba72-4c49-91c1-a4bba59e14df",
   "metadata": {},
   "outputs": [],
   "source": [
    "import pandas as pd\n",
    "import numpy as np\n",
    "import re, importlib\n",
    "import matplotlib.pyplot as plt\n",
    "import matplotlib.ticker as mtick"
   ]
  },
  {
   "cell_type": "code",
   "execution_count": 3,
   "id": "3357ff54-c6f8-4da3-ab08-975c2e1bfe30",
   "metadata": {},
   "outputs": [],
   "source": [
    "import statsmodels.api as sm\n",
    "from statsmodels.formula.api import ols\n",
    "from scipy import stats"
   ]
  },
  {
   "cell_type": "code",
   "execution_count": 4,
   "id": "54f6a4af-d463-447f-a619-48ac4beb9f9f",
   "metadata": {},
   "outputs": [],
   "source": [
    "from pathlib import Path"
   ]
  },
  {
   "cell_type": "code",
   "execution_count": 5,
   "id": "699e270e-bdb5-4bc9-8a65-42281f038563",
   "metadata": {},
   "outputs": [],
   "source": [
    "from sba_gnn.sba_gnn import sg_plot \n",
    "sg_plot.plot_defaults()"
   ]
  },
  {
   "cell_type": "markdown",
   "id": "410b04e9-692c-4e77-a93f-3d97a8924a8d",
   "metadata": {},
   "source": [
    "## Import Data"
   ]
  },
  {
   "cell_type": "code",
   "execution_count": 6,
   "id": "2073255d-9621-4590-8086-6a648d38047a",
   "metadata": {},
   "outputs": [],
   "source": [
    "sba_loans = pd.read_parquet(Path(setup.temp_path).joinpath('01_DATA_transformed.parquet'))"
   ]
  },
  {
   "cell_type": "code",
   "execution_count": 7,
   "id": "da4441f1-9cdf-4c21-a803-3229ab3ab7c7",
   "metadata": {},
   "outputs": [
    {
     "data": {
      "text/plain": [
       "(688081, 50)"
      ]
     },
     "execution_count": 7,
     "metadata": {},
     "output_type": "execute_result"
    }
   ],
   "source": [
    "sba_loans.shape"
   ]
  },
  {
   "cell_type": "code",
   "execution_count": 8,
   "id": "31c52e4e-f3bb-4aea-99f8-aaa2b9d86d61",
   "metadata": {},
   "outputs": [
    {
     "data": {
      "text/html": [
       "<div>\n",
       "<style scoped>\n",
       "    .dataframe tbody tr th:only-of-type {\n",
       "        vertical-align: middle;\n",
       "    }\n",
       "\n",
       "    .dataframe tbody tr th {\n",
       "        vertical-align: top;\n",
       "    }\n",
       "\n",
       "    .dataframe thead th {\n",
       "        text-align: right;\n",
       "    }\n",
       "</style>\n",
       "<table border=\"1\" class=\"dataframe\">\n",
       "  <thead>\n",
       "    <tr style=\"text-align: right;\">\n",
       "      <th></th>\n",
       "      <th>LoanNr_ChkDgt</th>\n",
       "      <th>Name</th>\n",
       "      <th>City</th>\n",
       "      <th>State</th>\n",
       "      <th>Zip</th>\n",
       "      <th>Bank</th>\n",
       "      <th>BankState</th>\n",
       "      <th>NAICS</th>\n",
       "      <th>ApprovalDate</th>\n",
       "      <th>ApprovalFY</th>\n",
       "      <th>...</th>\n",
       "      <th>NS___Construction</th>\n",
       "      <th>NS___Health Care and Social Assistance</th>\n",
       "      <th>NS___Manufacturing</th>\n",
       "      <th>NS___Other Services (except Public Administration)</th>\n",
       "      <th>NS___Professional, Scientific, and Technical Services</th>\n",
       "      <th>NS___Retail Trade</th>\n",
       "      <th>NS___Wholesale Trade</th>\n",
       "      <th>NS___infrequent_sklearn</th>\n",
       "      <th>cenc_NAICS</th>\n",
       "      <th>menc_grp_NAICS</th>\n",
       "    </tr>\n",
       "    <tr>\n",
       "      <th>index</th>\n",
       "      <th></th>\n",
       "      <th></th>\n",
       "      <th></th>\n",
       "      <th></th>\n",
       "      <th></th>\n",
       "      <th></th>\n",
       "      <th></th>\n",
       "      <th></th>\n",
       "      <th></th>\n",
       "      <th></th>\n",
       "      <th></th>\n",
       "      <th></th>\n",
       "      <th></th>\n",
       "      <th></th>\n",
       "      <th></th>\n",
       "      <th></th>\n",
       "      <th></th>\n",
       "      <th></th>\n",
       "      <th></th>\n",
       "      <th></th>\n",
       "      <th></th>\n",
       "    </tr>\n",
       "  </thead>\n",
       "  <tbody>\n",
       "    <tr>\n",
       "      <th>0</th>\n",
       "      <td>1000014003</td>\n",
       "      <td>ABC HOBBYCRAFT</td>\n",
       "      <td>EVANSVILLE</td>\n",
       "      <td>IN</td>\n",
       "      <td>47711</td>\n",
       "      <td>FIFTH THIRD BANK</td>\n",
       "      <td>OH</td>\n",
       "      <td>451120</td>\n",
       "      <td>1997-02-28</td>\n",
       "      <td>1997</td>\n",
       "      <td>...</td>\n",
       "      <td>0.0</td>\n",
       "      <td>0.0</td>\n",
       "      <td>0.0</td>\n",
       "      <td>0.0</td>\n",
       "      <td>0.0</td>\n",
       "      <td>1.0</td>\n",
       "      <td>0.0</td>\n",
       "      <td>0.0</td>\n",
       "      <td>0.003426</td>\n",
       "      <td>0.221371</td>\n",
       "    </tr>\n",
       "    <tr>\n",
       "      <th>1</th>\n",
       "      <td>1000024006</td>\n",
       "      <td>LANDMARK BAR &amp; GRILLE (THE)</td>\n",
       "      <td>NEW PARIS</td>\n",
       "      <td>IN</td>\n",
       "      <td>46526</td>\n",
       "      <td>1ST SOURCE BANK</td>\n",
       "      <td>IN</td>\n",
       "      <td>722410</td>\n",
       "      <td>1997-02-28</td>\n",
       "      <td>1997</td>\n",
       "      <td>...</td>\n",
       "      <td>0.0</td>\n",
       "      <td>0.0</td>\n",
       "      <td>0.0</td>\n",
       "      <td>0.0</td>\n",
       "      <td>0.0</td>\n",
       "      <td>0.0</td>\n",
       "      <td>0.0</td>\n",
       "      <td>0.0</td>\n",
       "      <td>0.006861</td>\n",
       "      <td>0.145908</td>\n",
       "    </tr>\n",
       "    <tr>\n",
       "      <th>2</th>\n",
       "      <td>1000034009</td>\n",
       "      <td>WHITLOCK DDS, TODD M.</td>\n",
       "      <td>BLOOMINGTON</td>\n",
       "      <td>IN</td>\n",
       "      <td>47401</td>\n",
       "      <td>GRANT COUNTY STATE BANK</td>\n",
       "      <td>IN</td>\n",
       "      <td>621210</td>\n",
       "      <td>1997-02-28</td>\n",
       "      <td>1997</td>\n",
       "      <td>...</td>\n",
       "      <td>0.0</td>\n",
       "      <td>1.0</td>\n",
       "      <td>0.0</td>\n",
       "      <td>0.0</td>\n",
       "      <td>0.0</td>\n",
       "      <td>0.0</td>\n",
       "      <td>0.0</td>\n",
       "      <td>0.0</td>\n",
       "      <td>0.021140</td>\n",
       "      <td>0.044679</td>\n",
       "    </tr>\n",
       "    <tr>\n",
       "      <th>5</th>\n",
       "      <td>1000084002</td>\n",
       "      <td>B&amp;T SCREW MACHINE COMPANY, INC</td>\n",
       "      <td>PLAINVILLE</td>\n",
       "      <td>CT</td>\n",
       "      <td>6062</td>\n",
       "      <td>TD BANK, NATIONAL ASSOCIATION</td>\n",
       "      <td>DE</td>\n",
       "      <td>332721</td>\n",
       "      <td>1997-02-28</td>\n",
       "      <td>1997</td>\n",
       "      <td>...</td>\n",
       "      <td>0.0</td>\n",
       "      <td>0.0</td>\n",
       "      <td>1.0</td>\n",
       "      <td>0.0</td>\n",
       "      <td>0.0</td>\n",
       "      <td>0.0</td>\n",
       "      <td>0.0</td>\n",
       "      <td>0.0</td>\n",
       "      <td>0.000639</td>\n",
       "      <td>0.066331</td>\n",
       "    </tr>\n",
       "    <tr>\n",
       "      <th>7</th>\n",
       "      <td>1000094005</td>\n",
       "      <td>WEAVER PRODUCTS</td>\n",
       "      <td>SUMMERFIELD</td>\n",
       "      <td>FL</td>\n",
       "      <td>34491</td>\n",
       "      <td>REGIONS BANK</td>\n",
       "      <td>AL</td>\n",
       "      <td>811118</td>\n",
       "      <td>1997-02-28</td>\n",
       "      <td>1997</td>\n",
       "      <td>...</td>\n",
       "      <td>0.0</td>\n",
       "      <td>0.0</td>\n",
       "      <td>0.0</td>\n",
       "      <td>1.0</td>\n",
       "      <td>0.0</td>\n",
       "      <td>0.0</td>\n",
       "      <td>0.0</td>\n",
       "      <td>0.0</td>\n",
       "      <td>0.003050</td>\n",
       "      <td>0.148045</td>\n",
       "    </tr>\n",
       "  </tbody>\n",
       "</table>\n",
       "<p>5 rows × 50 columns</p>\n",
       "</div>"
      ],
      "text/plain": [
       "      LoanNr_ChkDgt                            Name         City State    Zip  \\\n",
       "index                                                                           \n",
       "0        1000014003                  ABC HOBBYCRAFT   EVANSVILLE    IN  47711   \n",
       "1        1000024006     LANDMARK BAR & GRILLE (THE)    NEW PARIS    IN  46526   \n",
       "2        1000034009           WHITLOCK DDS, TODD M.  BLOOMINGTON    IN  47401   \n",
       "5        1000084002  B&T SCREW MACHINE COMPANY, INC   PLAINVILLE    CT   6062   \n",
       "7        1000094005                 WEAVER PRODUCTS  SUMMERFIELD    FL  34491   \n",
       "\n",
       "                                Bank BankState   NAICS ApprovalDate  \\\n",
       "index                                                                 \n",
       "0                   FIFTH THIRD BANK        OH  451120   1997-02-28   \n",
       "1                    1ST SOURCE BANK        IN  722410   1997-02-28   \n",
       "2            GRANT COUNTY STATE BANK        IN  621210   1997-02-28   \n",
       "5      TD BANK, NATIONAL ASSOCIATION        DE  332721   1997-02-28   \n",
       "7                       REGIONS BANK        AL  811118   1997-02-28   \n",
       "\n",
       "       ApprovalFY  ...  NS___Construction  \\\n",
       "index              ...                      \n",
       "0            1997  ...                0.0   \n",
       "1            1997  ...                0.0   \n",
       "2            1997  ...                0.0   \n",
       "5            1997  ...                0.0   \n",
       "7            1997  ...                0.0   \n",
       "\n",
       "       NS___Health Care and Social Assistance NS___Manufacturing  \\\n",
       "index                                                              \n",
       "0                                         0.0                0.0   \n",
       "1                                         0.0                0.0   \n",
       "2                                         1.0                0.0   \n",
       "5                                         0.0                1.0   \n",
       "7                                         0.0                0.0   \n",
       "\n",
       "       NS___Other Services (except Public Administration)  \\\n",
       "index                                                       \n",
       "0                                                    0.0    \n",
       "1                                                    0.0    \n",
       "2                                                    0.0    \n",
       "5                                                    0.0    \n",
       "7                                                    1.0    \n",
       "\n",
       "       NS___Professional, Scientific, and Technical Services  \\\n",
       "index                                                          \n",
       "0                                                    0.0       \n",
       "1                                                    0.0       \n",
       "2                                                    0.0       \n",
       "5                                                    0.0       \n",
       "7                                                    0.0       \n",
       "\n",
       "      NS___Retail Trade NS___Wholesale Trade  NS___infrequent_sklearn  \\\n",
       "index                                                                   \n",
       "0                   1.0                  0.0                      0.0   \n",
       "1                   0.0                  0.0                      0.0   \n",
       "2                   0.0                  0.0                      0.0   \n",
       "5                   0.0                  0.0                      0.0   \n",
       "7                   0.0                  0.0                      0.0   \n",
       "\n",
       "       cenc_NAICS menc_grp_NAICS  \n",
       "index                             \n",
       "0        0.003426       0.221371  \n",
       "1        0.006861       0.145908  \n",
       "2        0.021140       0.044679  \n",
       "5        0.000639       0.066331  \n",
       "7        0.003050       0.148045  \n",
       "\n",
       "[5 rows x 50 columns]"
      ]
     },
     "execution_count": 8,
     "metadata": {},
     "output_type": "execute_result"
    }
   ],
   "source": [
    "sba_loans.head()"
   ]
  },
  {
   "cell_type": "code",
   "execution_count": 9,
   "id": "6e7d91c8-1e19-4881-97d4-71631585157c",
   "metadata": {},
   "outputs": [],
   "source": [
    "train_df = sba_loans[sba_loans['dset'] == 'train'].copy().reset_index(drop=True)"
   ]
  },
  {
   "cell_type": "code",
   "execution_count": 10,
   "id": "e237d04e-3e4a-440d-8451-8ef7e4edc707",
   "metadata": {},
   "outputs": [
    {
     "data": {
      "text/plain": [
       "(425594, 50)"
      ]
     },
     "execution_count": 10,
     "metadata": {},
     "output_type": "execute_result"
    }
   ],
   "source": [
    "train_df.shape"
   ]
  },
  {
   "cell_type": "markdown",
   "id": "66b50005-634c-43b6-945b-98b44854b87d",
   "metadata": {},
   "source": [
    "##### NAICS descriptions"
   ]
  },
  {
   "cell_type": "code",
   "execution_count": 11,
   "id": "0fe5f040-f2e5-4786-82fd-e53cb9c1d55d",
   "metadata": {},
   "outputs": [],
   "source": [
    "naics_desc = pd.read_parquet(Path(setup.temp_path).joinpath('01_DATA_naics07_descriptions.parquet')) \\\n",
    "    .drop_duplicates('NAICS07')"
   ]
  },
  {
   "cell_type": "markdown",
   "id": "0843deaa-c447-4a47-9dba-7303088d044a",
   "metadata": {},
   "source": [
    "## Name and Franchise\n",
    "These features are important to me because they may indicate non-independent observations.  There may be multiple loans for the same business.  Or, we may have multiple branches of a franchise who are not independent"
   ]
  },
  {
   "cell_type": "markdown",
   "id": "8e7ea3f6-1e39-4a99-9b5b-bc0982d27831",
   "metadata": {},
   "source": [
    "For this project I am not likely to do anything to account for potential leakage or distortions due to non-independence.  This may be something a GNN will be helpful for and I may explore that in the future"
   ]
  },
  {
   "cell_type": "markdown",
   "id": "17717bcb-7437-47d0-8ea1-e1e6afe799dd",
   "metadata": {},
   "source": [
    "I am not even going to do my train/test split by name or franchise, which would normally be the minimum I'd do with non-independent observations"
   ]
  },
  {
   "cell_type": "markdown",
   "id": "7b587130-53b5-4a82-8b6e-6cfa1643488b",
   "metadata": {},
   "source": [
    "##### Name - are there repeat loans?"
   ]
  },
  {
   "cell_type": "code",
   "execution_count": 12,
   "id": "346c546e-82f8-433a-9fe1-e91756b3d9e2",
   "metadata": {},
   "outputs": [
    {
     "name": "stdout",
     "output_type": "stream",
     "text": [
      "(688081, 50)\n",
      "(604551, 50)\n",
      "(641628, 50)\n"
     ]
    }
   ],
   "source": [
    "print(sba_loans.shape)\n",
    "print(sba_loans.drop_duplicates(['Name']).shape)\n",
    "print(sba_loans.drop_duplicates(['Name', 'Zip', 'City', 'State']).shape)"
   ]
  },
  {
   "cell_type": "code",
   "execution_count": 13,
   "id": "ebf021e7-ef7d-4baa-9f3b-ca07e68c962e",
   "metadata": {},
   "outputs": [],
   "source": [
    "# It looks like most repeat names are multi-locations (same name different address(  \n",
    "# There are a few same name/location cases, probably the same business getting multiple loans."
   ]
  },
  {
   "cell_type": "code",
   "execution_count": 14,
   "id": "5894cb3b-c49e-4022-8107-75617f893493",
   "metadata": {},
   "outputs": [
    {
     "data": {
      "text/plain": [
       "Name\n",
       "SUBWAY                 913\n",
       "QUIZNO'S SUBS          412\n",
       "COLD STONE CREAMERY    348\n",
       "THE UPS STORE          321\n",
       "QUIZNO'S               310\n",
       "Name: count, dtype: int64"
      ]
     },
     "execution_count": 14,
     "metadata": {},
     "output_type": "execute_result"
    }
   ],
   "source": [
    "sba_loans['Name'].value_counts().head(5)"
   ]
  },
  {
   "cell_type": "code",
   "execution_count": 15,
   "id": "edffdac2-8eb5-4384-ba78-5f05859e2a6c",
   "metadata": {},
   "outputs": [],
   "source": [
    "# It appears that large franchises are getting many loans"
   ]
  },
  {
   "cell_type": "code",
   "execution_count": 16,
   "id": "f843afad-72d8-4bed-8223-62b98f648b59",
   "metadata": {},
   "outputs": [
    {
     "data": {
      "text/html": [
       "<div>\n",
       "<style scoped>\n",
       "    .dataframe tbody tr th:only-of-type {\n",
       "        vertical-align: middle;\n",
       "    }\n",
       "\n",
       "    .dataframe tbody tr th {\n",
       "        vertical-align: top;\n",
       "    }\n",
       "\n",
       "    .dataframe thead th {\n",
       "        text-align: right;\n",
       "    }\n",
       "</style>\n",
       "<table border=\"1\" class=\"dataframe\">\n",
       "  <thead>\n",
       "    <tr style=\"text-align: right;\">\n",
       "      <th></th>\n",
       "      <th></th>\n",
       "      <th></th>\n",
       "      <th></th>\n",
       "      <th>count</th>\n",
       "      <th>mean</th>\n",
       "    </tr>\n",
       "    <tr>\n",
       "      <th>Name</th>\n",
       "      <th>Zip</th>\n",
       "      <th>City</th>\n",
       "      <th>State</th>\n",
       "      <th></th>\n",
       "      <th></th>\n",
       "    </tr>\n",
       "  </thead>\n",
       "  <tbody>\n",
       "    <tr>\n",
       "      <th>WEST TEXAS LEE CO INC</th>\n",
       "      <th>79329</th>\n",
       "      <th>IDALOU</th>\n",
       "      <th>TX</th>\n",
       "      <td>39</td>\n",
       "      <td>0.0</td>\n",
       "    </tr>\n",
       "    <tr>\n",
       "      <th>ERIE PETROLEUM, INC.</th>\n",
       "      <th>16512</th>\n",
       "      <th>ERIE</th>\n",
       "      <th>PA</th>\n",
       "      <td>25</td>\n",
       "      <td>0.0</td>\n",
       "    </tr>\n",
       "    <tr>\n",
       "      <th>Meathead Movers, Inc.</th>\n",
       "      <th>93401</th>\n",
       "      <th>SAN LUIS OBISPO</th>\n",
       "      <th>CA</th>\n",
       "      <td>23</td>\n",
       "      <td>0.0</td>\n",
       "    </tr>\n",
       "    <tr>\n",
       "      <th>COLCHESTER HOLDINGS, INC.</th>\n",
       "      <th>13755</th>\n",
       "      <th>DOWNSVILLE</th>\n",
       "      <th>NY</th>\n",
       "      <td>18</td>\n",
       "      <td>0.0</td>\n",
       "    </tr>\n",
       "    <tr>\n",
       "      <th>UNITED STEEL FABRICATORS</th>\n",
       "      <th>45365</th>\n",
       "      <th>SIDNEY</th>\n",
       "      <th>OH</th>\n",
       "      <td>15</td>\n",
       "      <td>0.0</td>\n",
       "    </tr>\n",
       "  </tbody>\n",
       "</table>\n",
       "</div>"
      ],
      "text/plain": [
       "                                                       count  mean\n",
       "Name                      Zip   City            State             \n",
       "WEST TEXAS LEE CO INC     79329 IDALOU          TX        39   0.0\n",
       "ERIE PETROLEUM, INC.      16512 ERIE            PA        25   0.0\n",
       "Meathead Movers, Inc.     93401 SAN LUIS OBISPO CA        23   0.0\n",
       "COLCHESTER HOLDINGS, INC. 13755 DOWNSVILLE      NY        18   0.0\n",
       "UNITED STEEL FABRICATORS  45365 SIDNEY          OH        15   0.0"
      ]
     },
     "execution_count": 16,
     "metadata": {},
     "output_type": "execute_result"
    }
   ],
   "source": [
    "sba_loans.groupby(['Name', 'Zip', 'City', 'State'])['franchise_flag'] \\\n",
    "    .agg(['count', 'mean']) \\\n",
    "    .sort_values('count', ascending=False) \\\n",
    "    .head()"
   ]
  },
  {
   "cell_type": "code",
   "execution_count": 17,
   "id": "da985249-ca90-4cca-a3fb-2f2257fae2cd",
   "metadata": {},
   "outputs": [],
   "source": [
    "# There are some non-franchises getting tons of loans also"
   ]
  },
  {
   "cell_type": "markdown",
   "id": "72e698ec-8596-47af-8763-9473afa3b739",
   "metadata": {},
   "source": [
    "## Banks\n",
    "I won't do anything with bank for this project, but it could also be an interesting GNN application in the future"
   ]
  },
  {
   "cell_type": "markdown",
   "id": "f7101e9e-66c8-41e0-a54a-396f1c0db458",
   "metadata": {},
   "source": [
    "##### Bank - loans per bank and histogram"
   ]
  },
  {
   "cell_type": "code",
   "execution_count": 18,
   "id": "df40e698-4c2a-4bdf-ad24-8ceae4ea3de5",
   "metadata": {},
   "outputs": [
    {
     "data": {
      "text/plain": [
       "Bank\n",
       "BANK OF AMERICA NATL ASSOC        74591\n",
       "WELLS FARGO BANK NATL ASSOC       42259\n",
       "JPMORGAN CHASE BANK NATL ASSOC    41012\n",
       "CITIZENS BANK NATL ASSOC          32227\n",
       "U.S. BANK NATIONAL ASSOCIATION    26866\n",
       "Name: count, dtype: int64"
      ]
     },
     "execution_count": 18,
     "metadata": {},
     "output_type": "execute_result"
    }
   ],
   "source": [
    "sba_loans['Bank'].value_counts(dropna=False).head()"
   ]
  },
  {
   "cell_type": "code",
   "execution_count": 19,
   "id": "a658ae37-d2a2-4c2a-aec0-2e61946be443",
   "metadata": {},
   "outputs": [
    {
     "data": {
      "text/plain": [
       "(5133,)"
      ]
     },
     "execution_count": 19,
     "metadata": {},
     "output_type": "execute_result"
    }
   ],
   "source": [
    "sba_loans['Bank'].value_counts(dropna=False).shape"
   ]
  },
  {
   "cell_type": "code",
   "execution_count": 20,
   "id": "bd6b099b-8cfd-4e86-bb72-225f805efa95",
   "metadata": {},
   "outputs": [],
   "source": [
    "sba_count = sba_loans.groupby('Bank')['LoanNr_ChkDgt']\\\n",
    "    .agg(['count'])"
   ]
  },
  {
   "cell_type": "code",
   "execution_count": 21,
   "id": "7c469d93-a90e-4942-ba6a-9c541815b318",
   "metadata": {},
   "outputs": [
    {
     "data": {
      "text/html": [
       "<div>\n",
       "<style scoped>\n",
       "    .dataframe tbody tr th:only-of-type {\n",
       "        vertical-align: middle;\n",
       "    }\n",
       "\n",
       "    .dataframe tbody tr th {\n",
       "        vertical-align: top;\n",
       "    }\n",
       "\n",
       "    .dataframe thead th {\n",
       "        text-align: right;\n",
       "    }\n",
       "</style>\n",
       "<table border=\"1\" class=\"dataframe\">\n",
       "  <thead>\n",
       "    <tr style=\"text-align: right;\">\n",
       "      <th></th>\n",
       "      <th>count</th>\n",
       "    </tr>\n",
       "  </thead>\n",
       "  <tbody>\n",
       "    <tr>\n",
       "      <th>count</th>\n",
       "      <td>5132.000000</td>\n",
       "    </tr>\n",
       "    <tr>\n",
       "      <th>mean</th>\n",
       "      <td>133.980904</td>\n",
       "    </tr>\n",
       "    <tr>\n",
       "      <th>std</th>\n",
       "      <td>1596.001329</td>\n",
       "    </tr>\n",
       "    <tr>\n",
       "      <th>min</th>\n",
       "      <td>1.000000</td>\n",
       "    </tr>\n",
       "    <tr>\n",
       "      <th>25%</th>\n",
       "      <td>2.000000</td>\n",
       "    </tr>\n",
       "    <tr>\n",
       "      <th>50%</th>\n",
       "      <td>8.000000</td>\n",
       "    </tr>\n",
       "    <tr>\n",
       "      <th>75%</th>\n",
       "      <td>34.000000</td>\n",
       "    </tr>\n",
       "    <tr>\n",
       "      <th>max</th>\n",
       "      <td>74591.000000</td>\n",
       "    </tr>\n",
       "  </tbody>\n",
       "</table>\n",
       "</div>"
      ],
      "text/plain": [
       "              count\n",
       "count   5132.000000\n",
       "mean     133.980904\n",
       "std     1596.001329\n",
       "min        1.000000\n",
       "25%        2.000000\n",
       "50%        8.000000\n",
       "75%       34.000000\n",
       "max    74591.000000"
      ]
     },
     "execution_count": 21,
     "metadata": {},
     "output_type": "execute_result"
    }
   ],
   "source": [
    "sba_count.describe()\n",
    "# Most banks are small.  There are a few mega-banks.  "
   ]
  },
  {
   "cell_type": "markdown",
   "id": "2e6793aa-8ab6-4515-a58d-51a1a8a6b8c1",
   "metadata": {},
   "source": [
    "## Correlations\n",
    "Get correlations for all predictor features, as well as Term, the target indicator"
   ]
  },
  {
   "cell_type": "markdown",
   "id": "37418236-fb72-4d8c-810d-adba7468b0b3",
   "metadata": {},
   "source": [
    "##### Calculate Spearman correlations"
   ]
  },
  {
   "cell_type": "code",
   "execution_count": 22,
   "id": "8939ce54-19be-41ec-8ca3-f654bd4aa217",
   "metadata": {},
   "outputs": [],
   "source": [
    "# Correlations matrix\n",
    "cor_df = train_df[['Term', 'target', 'menc_NAICS', 'menc_grp_NAICS'] + setup.predictor_features].corr(method='spearman')"
   ]
  },
  {
   "cell_type": "code",
   "execution_count": 23,
   "id": "50851472-7505-4a10-bb95-9658552c164c",
   "metadata": {},
   "outputs": [],
   "source": [
    "cor_df.to_csv(Path(setup.temp_path).joinpath('02_REPORT_correlations.csv'), index=True)"
   ]
  },
  {
   "cell_type": "markdown",
   "id": "346d5fde-ef84-46e2-9f7d-de24d0820d16",
   "metadata": {},
   "source": [
    "##### Function to examine correlations for a given feature"
   ]
  },
  {
   "cell_type": "code",
   "execution_count": 24,
   "id": "c4791f90-9533-4b2e-a3bc-e235b0971346",
   "metadata": {},
   "outputs": [],
   "source": [
    "def feat_corr(corr_data, feature='target',\n",
    "             outpath = None,\n",
    "             outfile_prefix = '02_PLOT_cor_'):\n",
    "    feat_corr = corr_data[feature].rename('corr').reset_index()\n",
    "    feat_corr['corr_abs'] = np.abs(feat_corr['corr'])\n",
    "    feat_corr = feat_corr[feat_corr['index'] != feature]\n",
    "    feat_corr.sort_values('corr_abs', ascending=False, inplace=True)\n",
    "    \n",
    "    fig = sg_plot.plot_basic_bar(feat_corr, label='index', y='corr')\n",
    "    \n",
    "    if outpath is not None:\n",
    "        fig.savefig(Path(outpath).joinpath(outfile_prefix + feature))\n",
    "        \n",
    "    #print(fig)\n",
    "              \n",
    "    return feat_corr"
   ]
  },
  {
   "cell_type": "markdown",
   "id": "3b71106f-ea5b-470a-a559-abaa86b6e1a2",
   "metadata": {},
   "source": [
    "##### Target correlations"
   ]
  },
  {
   "cell_type": "code",
   "execution_count": 25,
   "id": "6b89be21-a640-4900-b722-fabebb6d4094",
   "metadata": {},
   "outputs": [
    {
     "data": {
      "text/html": [
       "<div>\n",
       "<style scoped>\n",
       "    .dataframe tbody tr th:only-of-type {\n",
       "        vertical-align: middle;\n",
       "    }\n",
       "\n",
       "    .dataframe tbody tr th {\n",
       "        vertical-align: top;\n",
       "    }\n",
       "\n",
       "    .dataframe thead th {\n",
       "        text-align: right;\n",
       "    }\n",
       "</style>\n",
       "<table border=\"1\" class=\"dataframe\">\n",
       "  <thead>\n",
       "    <tr style=\"text-align: right;\">\n",
       "      <th></th>\n",
       "      <th>index</th>\n",
       "      <th>corr</th>\n",
       "      <th>corr_abs</th>\n",
       "    </tr>\n",
       "  </thead>\n",
       "  <tbody>\n",
       "    <tr>\n",
       "      <th>0</th>\n",
       "      <td>Term</td>\n",
       "      <td>-0.448476</td>\n",
       "      <td>0.448476</td>\n",
       "    </tr>\n",
       "    <tr>\n",
       "      <th>3</th>\n",
       "      <td>menc_grp_NAICS</td>\n",
       "      <td>0.229983</td>\n",
       "      <td>0.229983</td>\n",
       "    </tr>\n",
       "    <tr>\n",
       "      <th>2</th>\n",
       "      <td>menc_NAICS</td>\n",
       "      <td>0.229278</td>\n",
       "      <td>0.229278</td>\n",
       "    </tr>\n",
       "    <tr>\n",
       "      <th>7</th>\n",
       "      <td>DisbursementGross</td>\n",
       "      <td>-0.165822</td>\n",
       "      <td>0.165822</td>\n",
       "    </tr>\n",
       "    <tr>\n",
       "      <th>4</th>\n",
       "      <td>NoEmp</td>\n",
       "      <td>-0.109241</td>\n",
       "      <td>0.109241</td>\n",
       "    </tr>\n",
       "    <tr>\n",
       "      <th>6</th>\n",
       "      <td>LowDoc</td>\n",
       "      <td>-0.076836</td>\n",
       "      <td>0.076836</td>\n",
       "    </tr>\n",
       "    <tr>\n",
       "      <th>9</th>\n",
       "      <td>urban_flag</td>\n",
       "      <td>0.054391</td>\n",
       "      <td>0.054391</td>\n",
       "    </tr>\n",
       "    <tr>\n",
       "      <th>5</th>\n",
       "      <td>CreateJob</td>\n",
       "      <td>0.041421</td>\n",
       "      <td>0.041421</td>\n",
       "    </tr>\n",
       "    <tr>\n",
       "      <th>8</th>\n",
       "      <td>new_business</td>\n",
       "      <td>0.014277</td>\n",
       "      <td>0.014277</td>\n",
       "    </tr>\n",
       "    <tr>\n",
       "      <th>10</th>\n",
       "      <td>franchise_flag</td>\n",
       "      <td>-0.011047</td>\n",
       "      <td>0.011047</td>\n",
       "    </tr>\n",
       "  </tbody>\n",
       "</table>\n",
       "</div>"
      ],
      "text/plain": [
       "                index      corr  corr_abs\n",
       "0                Term -0.448476  0.448476\n",
       "3      menc_grp_NAICS  0.229983  0.229983\n",
       "2          menc_NAICS  0.229278  0.229278\n",
       "7   DisbursementGross -0.165822  0.165822\n",
       "4               NoEmp -0.109241  0.109241\n",
       "6              LowDoc -0.076836  0.076836\n",
       "9          urban_flag  0.054391  0.054391\n",
       "5           CreateJob  0.041421  0.041421\n",
       "8        new_business  0.014277  0.014277\n",
       "10     franchise_flag -0.011047  0.011047"
      ]
     },
     "execution_count": 25,
     "metadata": {},
     "output_type": "execute_result"
    },
    {
     "data": {
      "image/png": "[encoded data removed]",
      "text/plain": [
       "<Figure size 400x303.03 with 1 Axes>"
      ]
     },
     "metadata": {},
     "output_type": "display_data"
    }
   ],
   "source": [
    "feat_corr(cor_df, 'target', outpath = Path(setup.temp_path))"
   ]
  },
  {
   "cell_type": "markdown",
   "id": "b2464ad7-cf1f-48ac-9a9d-4c1987126820",
   "metadata": {},
   "source": [
    "The target feature is highly correlated with term (in Kaggle notebooks, models have very high performance, and I also see very high performance with this feature).  I think this feature is likely set by the creditworthiness of the businesses, as it is such a strong predictor"
   ]
  },
  {
   "cell_type": "markdown",
   "id": "1f833318-2234-4e53-a5bb-20f6b4b7ca8e",
   "metadata": {},
   "source": [
    "After term, NAICS seems to be the most significant feature.  Let's look at the NAICS feature now"
   ]
  },
  {
   "cell_type": "markdown",
   "id": "5144de39-30be-48ca-a9c8-798de3708f21",
   "metadata": {},
   "source": [
    "##### NAICS correlations"
   ]
  },
  {
   "cell_type": "code",
   "execution_count": 26,
   "id": "03a64850-70ed-4c04-bb8d-4f90388f6544",
   "metadata": {},
   "outputs": [
    {
     "data": {
      "text/html": [
       "<div>\n",
       "<style scoped>\n",
       "    .dataframe tbody tr th:only-of-type {\n",
       "        vertical-align: middle;\n",
       "    }\n",
       "\n",
       "    .dataframe tbody tr th {\n",
       "        vertical-align: top;\n",
       "    }\n",
       "\n",
       "    .dataframe thead th {\n",
       "        text-align: right;\n",
       "    }\n",
       "</style>\n",
       "<table border=\"1\" class=\"dataframe\">\n",
       "  <thead>\n",
       "    <tr style=\"text-align: right;\">\n",
       "      <th></th>\n",
       "      <th>index</th>\n",
       "      <th>corr</th>\n",
       "      <th>corr_abs</th>\n",
       "    </tr>\n",
       "  </thead>\n",
       "  <tbody>\n",
       "    <tr>\n",
       "      <th>6</th>\n",
       "      <td>DisbursementGross</td>\n",
       "      <td>-0.266075</td>\n",
       "      <td>0.266075</td>\n",
       "    </tr>\n",
       "    <tr>\n",
       "      <th>0</th>\n",
       "      <td>Term</td>\n",
       "      <td>-0.236600</td>\n",
       "      <td>0.236600</td>\n",
       "    </tr>\n",
       "    <tr>\n",
       "      <th>1</th>\n",
       "      <td>target</td>\n",
       "      <td>0.229278</td>\n",
       "      <td>0.229278</td>\n",
       "    </tr>\n",
       "    <tr>\n",
       "      <th>3</th>\n",
       "      <td>NoEmp</td>\n",
       "      <td>-0.139475</td>\n",
       "      <td>0.139475</td>\n",
       "    </tr>\n",
       "    <tr>\n",
       "      <th>4</th>\n",
       "      <td>CreateJob</td>\n",
       "      <td>0.077423</td>\n",
       "      <td>0.077423</td>\n",
       "    </tr>\n",
       "    <tr>\n",
       "      <th>5</th>\n",
       "      <td>LowDoc</td>\n",
       "      <td>-0.074498</td>\n",
       "      <td>0.074498</td>\n",
       "    </tr>\n",
       "    <tr>\n",
       "      <th>8</th>\n",
       "      <td>urban_flag</td>\n",
       "      <td>0.056251</td>\n",
       "      <td>0.056251</td>\n",
       "    </tr>\n",
       "    <tr>\n",
       "      <th>9</th>\n",
       "      <td>franchise_flag</td>\n",
       "      <td>0.047701</td>\n",
       "      <td>0.047701</td>\n",
       "    </tr>\n",
       "    <tr>\n",
       "      <th>7</th>\n",
       "      <td>new_business</td>\n",
       "      <td>0.035161</td>\n",
       "      <td>0.035161</td>\n",
       "    </tr>\n",
       "  </tbody>\n",
       "</table>\n",
       "</div>"
      ],
      "text/plain": [
       "               index      corr  corr_abs\n",
       "6  DisbursementGross -0.266075  0.266075\n",
       "0               Term -0.236600  0.236600\n",
       "1             target  0.229278  0.229278\n",
       "3              NoEmp -0.139475  0.139475\n",
       "4          CreateJob  0.077423  0.077423\n",
       "5             LowDoc -0.074498  0.074498\n",
       "8         urban_flag  0.056251  0.056251\n",
       "9     franchise_flag  0.047701  0.047701\n",
       "7       new_business  0.035161  0.035161"
      ]
     },
     "execution_count": 26,
     "metadata": {},
     "output_type": "execute_result"
    },
    {
     "data": {
      "image/png": "[encoded data removed]",
      "text/plain": [
       "<Figure size 400x303.03 with 1 Axes>"
      ]
     },
     "metadata": {},
     "output_type": "display_data"
    }
   ],
   "source": [
    "feat_corr(cor_df[~cor_df.index.isin(['menc_grp_NAICS'])].drop(columns=['menc_grp_NAICS']), \n",
    "                 'menc_NAICS', outpath = Path(setup.temp_path))"
   ]
  },
  {
   "cell_type": "markdown",
   "id": "28c85484-636a-48f4-a5c9-64f7d46d9a70",
   "metadata": {},
   "source": [
    "The strong correlation with menc_NAICS_sector is to be expected. In addition to that, there are strong correlations with RevLineCr, RetainedJob, and other features. "
   ]
  },
  {
   "cell_type": "markdown",
   "id": "5df971da-9e87-48b4-bcd3-41c4f7fec711",
   "metadata": {},
   "source": [
    "## Term\n",
    "This feature is highly predictive and its use makes an excellent model.  I will probably drop it as it's probably set in proportion to creditworthiness.  Using this feature would make sense if you want to evaluate how well SBA is assigning risk, or to predict defaults given known risk.  But here I omit it because it makes a model so good NAICS doesn't matter.  Also removing this feature means predicting risk without the (implicit) benefit of the credit-worthiness assigned by the SBA."
   ]
  },
  {
   "cell_type": "markdown",
   "id": "ba76e4fa-5e93-4a37-918a-8dd813160533",
   "metadata": {},
   "source": [
    "I am going to explore how term is related to the target a little"
   ]
  },
  {
   "cell_type": "markdown",
   "id": "188eb301-7e51-42d3-bbe4-6f906c8d5655",
   "metadata": {},
   "source": [
    "##### Quartile stats"
   ]
  },
  {
   "cell_type": "code",
   "execution_count": 27,
   "id": "1bc75614-79b8-467c-ae43-04d54545a5b3",
   "metadata": {},
   "outputs": [],
   "source": [
    "train_df['term_cat'] = pd.qcut(train_df['Term'], q=4)"
   ]
  },
  {
   "cell_type": "code",
   "execution_count": 28,
   "id": "7560a6b5-fb9d-466c-ab1d-9fb8bbd4ba01",
   "metadata": {},
   "outputs": [
    {
     "data": {
      "text/html": [
       "<div>\n",
       "<style scoped>\n",
       "    .dataframe tbody tr th:only-of-type {\n",
       "        vertical-align: middle;\n",
       "    }\n",
       "\n",
       "    .dataframe tbody tr th {\n",
       "        vertical-align: top;\n",
       "    }\n",
       "\n",
       "    .dataframe thead th {\n",
       "        text-align: right;\n",
       "    }\n",
       "</style>\n",
       "<table border=\"1\" class=\"dataframe\">\n",
       "  <thead>\n",
       "    <tr style=\"text-align: right;\">\n",
       "      <th></th>\n",
       "      <th>Term</th>\n",
       "      <th>LoanNr_ChkDgt</th>\n",
       "      <th>target</th>\n",
       "    </tr>\n",
       "    <tr>\n",
       "      <th>term_cat</th>\n",
       "      <th></th>\n",
       "      <th></th>\n",
       "      <th></th>\n",
       "    </tr>\n",
       "  </thead>\n",
       "  <tbody>\n",
       "    <tr>\n",
       "      <th>(-0.001, 60.0]</th>\n",
       "      <td>40.401552</td>\n",
       "      <td>134817</td>\n",
       "      <td>0.431689</td>\n",
       "    </tr>\n",
       "    <tr>\n",
       "      <th>(60.0, 84.0]</th>\n",
       "      <td>81.204326</td>\n",
       "      <td>151425</td>\n",
       "      <td>0.115245</td>\n",
       "    </tr>\n",
       "    <tr>\n",
       "      <th>(84.0, 120.0]</th>\n",
       "      <td>110.847782</td>\n",
       "      <td>56452</td>\n",
       "      <td>0.126231</td>\n",
       "    </tr>\n",
       "    <tr>\n",
       "      <th>(120.0, 527.0]</th>\n",
       "      <td>237.203305</td>\n",
       "      <td>82900</td>\n",
       "      <td>0.044041</td>\n",
       "    </tr>\n",
       "  </tbody>\n",
       "</table>\n",
       "</div>"
      ],
      "text/plain": [
       "                      Term  LoanNr_ChkDgt    target\n",
       "term_cat                                           \n",
       "(-0.001, 60.0]   40.401552         134817  0.431689\n",
       "(60.0, 84.0]     81.204326         151425  0.115245\n",
       "(84.0, 120.0]   110.847782          56452  0.126231\n",
       "(120.0, 527.0]  237.203305          82900  0.044041"
      ]
     },
     "execution_count": 28,
     "metadata": {},
     "output_type": "execute_result"
    }
   ],
   "source": [
    "train_df.groupby('term_cat') \\\n",
    "    .agg({'Term': 'mean', 'LoanNr_ChkDgt':'count',\n",
    "          'target':'mean'})"
   ]
  },
  {
   "cell_type": "markdown",
   "id": "0694dbda-4096-4769-a512-b529ec099bd7",
   "metadata": {},
   "source": [
    "There is a steady decrease in risk as term increases.  I wonder if enough time has passed to evaluate very long loans"
   ]
  },
  {
   "cell_type": "markdown",
   "id": "d63a3765-f154-4dc7-849a-029f310d8836",
   "metadata": {},
   "source": [
    "##### Value counts, describe"
   ]
  },
  {
   "cell_type": "code",
   "execution_count": 29,
   "id": "6a0b8c7a-998b-4146-b8a7-5b9fcc2d3ce7",
   "metadata": {},
   "outputs": [
    {
     "data": {
      "text/plain": [
       "Term\n",
       "84     119113\n",
       "60      40553\n",
       "120     33544\n",
       "240     33540\n",
       "300     17242\n",
       "36      10271\n",
       "180      9360\n",
       "12       8105\n",
       "48       7569\n",
       "72       4603\n",
       "Name: count, dtype: int64"
      ]
     },
     "execution_count": 29,
     "metadata": {},
     "output_type": "execute_result"
    }
   ],
   "source": [
    "train_df['Term'].value_counts().head(10)"
   ]
  },
  {
   "cell_type": "markdown",
   "id": "aa5c414b-c91e-4933-919a-3b4a34887c70",
   "metadata": {},
   "source": [
    "5 or 7 year terms are common!"
   ]
  },
  {
   "cell_type": "code",
   "execution_count": 30,
   "id": "8f300ac4-6b61-445f-89c7-b04f70b0bc30",
   "metadata": {},
   "outputs": [
    {
     "data": {
      "text/plain": [
       "count    425594.000000\n",
       "mean        102.597579\n",
       "std          74.492348\n",
       "min           0.000000\n",
       "25%          60.000000\n",
       "50%          84.000000\n",
       "75%         120.000000\n",
       "max         527.000000\n",
       "Name: Term, dtype: float64"
      ]
     },
     "execution_count": 30,
     "metadata": {},
     "output_type": "execute_result"
    }
   ],
   "source": [
    "train_df['Term'].describe()"
   ]
  },
  {
   "cell_type": "markdown",
   "id": "a14417a9-fa6e-40a9-b7db-796ea50bc80b",
   "metadata": {},
   "source": [
    "## NAICS\n",
    "What is the variation of term rates within vs. between sectors?"
   ]
  },
  {
   "cell_type": "code",
   "execution_count": 31,
   "id": "cdb5fdf3-b208-4814-9b0a-ef81b20de28c",
   "metadata": {},
   "outputs": [
    {
     "data": {
      "text/plain": [
       "<module 'sba_gnn.sba_gnn.sg_plot' from '/Users/valeriecarey/Documents/projects/2023_10_blog_gnn_sba/code/sba_gnn/sba_gnn/sg_plot.py'>"
      ]
     },
     "execution_count": 31,
     "metadata": {},
     "output_type": "execute_result"
    }
   ],
   "source": [
    "importlib.reload(sg_plot)"
   ]
  },
  {
   "cell_type": "code",
   "execution_count": 32,
   "id": "1baeb550-081a-40a8-ad83-07d2674a61fb",
   "metadata": {},
   "outputs": [],
   "source": [
    "# Summarize target rates and counts by NAICS\n",
    "naics_info = sg_plot.naics_variance_data(sba_loans)\n",
    "naics_info = naics_info.merge(naics_desc.rename(columns={'NAICS07':'NAICS'}),\n",
    "                             how='left', on='NAICS')\n",
    "naics_info.to_csv(Path(setup.temp_path).joinpath('02_REPORT_naics_counts_rates.csv'), index=False)"
   ]
  },
  {
   "cell_type": "code",
   "execution_count": 33,
   "id": "a138c3f7-5516-49eb-9701-f0a9834ae12f",
   "metadata": {},
   "outputs": [
    {
     "data": {
      "text/html": [
       "<div>\n",
       "<style scoped>\n",
       "    .dataframe tbody tr th:only-of-type {\n",
       "        vertical-align: middle;\n",
       "    }\n",
       "\n",
       "    .dataframe tbody tr th {\n",
       "        vertical-align: top;\n",
       "    }\n",
       "\n",
       "    .dataframe thead th {\n",
       "        text-align: right;\n",
       "    }\n",
       "</style>\n",
       "<table border=\"1\" class=\"dataframe\">\n",
       "  <thead>\n",
       "    <tr style=\"text-align: right;\">\n",
       "      <th></th>\n",
       "      <th>NAICS</th>\n",
       "      <th>target</th>\n",
       "      <th>count</th>\n",
       "      <th>NAICS_sector</th>\n",
       "      <th>count_cat</th>\n",
       "      <th>target_cat</th>\n",
       "      <th>NAICS_sector_desc</th>\n",
       "      <th>target_sd</th>\n",
       "      <th>target_cat_sd</th>\n",
       "      <th>NAICS07_desc</th>\n",
       "    </tr>\n",
       "  </thead>\n",
       "  <tbody>\n",
       "    <tr>\n",
       "      <th>0</th>\n",
       "      <td>445310</td>\n",
       "      <td>0.119330</td>\n",
       "      <td>6746</td>\n",
       "      <td>44-45</td>\n",
       "      <td>125289</td>\n",
       "      <td>0.22761</td>\n",
       "      <td>Retail Trade</td>\n",
       "      <td>0.004206</td>\n",
       "      <td>0.001348</td>\n",
       "      <td>Beer stores, packaged</td>\n",
       "    </tr>\n",
       "    <tr>\n",
       "      <th>1</th>\n",
       "      <td>447110</td>\n",
       "      <td>0.174977</td>\n",
       "      <td>6618</td>\n",
       "      <td>44-45</td>\n",
       "      <td>125289</td>\n",
       "      <td>0.22761</td>\n",
       "      <td>Retail Trade</td>\n",
       "      <td>0.005142</td>\n",
       "      <td>0.001348</td>\n",
       "      <td>Convenience food with gasoline stations</td>\n",
       "    </tr>\n",
       "    <tr>\n",
       "      <th>2</th>\n",
       "      <td>451110</td>\n",
       "      <td>0.183920</td>\n",
       "      <td>5883</td>\n",
       "      <td>44-45</td>\n",
       "      <td>125289</td>\n",
       "      <td>0.22761</td>\n",
       "      <td>Retail Trade</td>\n",
       "      <td>0.005591</td>\n",
       "      <td>0.001348</td>\n",
       "      <td>Athletic equipment and supply stores (includin...</td>\n",
       "    </tr>\n",
       "    <tr>\n",
       "      <th>3</th>\n",
       "      <td>453220</td>\n",
       "      <td>0.227118</td>\n",
       "      <td>5878</td>\n",
       "      <td>44-45</td>\n",
       "      <td>125289</td>\n",
       "      <td>0.22761</td>\n",
       "      <td>Retail Trade</td>\n",
       "      <td>0.006216</td>\n",
       "      <td>0.001348</td>\n",
       "      <td>Balloon shops</td>\n",
       "    </tr>\n",
       "    <tr>\n",
       "      <th>4</th>\n",
       "      <td>453998</td>\n",
       "      <td>0.313694</td>\n",
       "      <td>5652</td>\n",
       "      <td>44-45</td>\n",
       "      <td>125289</td>\n",
       "      <td>0.22761</td>\n",
       "      <td>Retail Trade</td>\n",
       "      <td>0.007450</td>\n",
       "      <td>0.001348</td>\n",
       "      <td>Art supply stores</td>\n",
       "    </tr>\n",
       "  </tbody>\n",
       "</table>\n",
       "</div>"
      ],
      "text/plain": [
       "    NAICS    target  count NAICS_sector  count_cat  target_cat  \\\n",
       "0  445310  0.119330   6746        44-45     125289     0.22761   \n",
       "1  447110  0.174977   6618        44-45     125289     0.22761   \n",
       "2  451110  0.183920   5883        44-45     125289     0.22761   \n",
       "3  453220  0.227118   5878        44-45     125289     0.22761   \n",
       "4  453998  0.313694   5652        44-45     125289     0.22761   \n",
       "\n",
       "  NAICS_sector_desc  target_sd  target_cat_sd  \\\n",
       "0      Retail Trade   0.004206       0.001348   \n",
       "1      Retail Trade   0.005142       0.001348   \n",
       "2      Retail Trade   0.005591       0.001348   \n",
       "3      Retail Trade   0.006216       0.001348   \n",
       "4      Retail Trade   0.007450       0.001348   \n",
       "\n",
       "                                        NAICS07_desc  \n",
       "0                              Beer stores, packaged  \n",
       "1            Convenience food with gasoline stations  \n",
       "2  Athletic equipment and supply stores (includin...  \n",
       "3                                      Balloon shops  \n",
       "4                                  Art supply stores  "
      ]
     },
     "execution_count": 33,
     "metadata": {},
     "output_type": "execute_result"
    }
   ],
   "source": [
    "naics_info.head(5)"
   ]
  },
  {
   "cell_type": "code",
   "execution_count": 34,
   "id": "26ecf2ad-3d4b-4839-a408-4311cade8bc0",
   "metadata": {},
   "outputs": [],
   "source": [
    "# Join in NAICS code descriptions"
   ]
  },
  {
   "cell_type": "code",
   "execution_count": 35,
   "id": "abafc752-0b7c-417c-93b2-13c8f8f2881d",
   "metadata": {},
   "outputs": [
    {
     "data": {
      "image/png": "[encoded data removed]",
      "text/plain": [
       "<Figure size 700x500 with 5 Axes>"
      ]
     },
     "metadata": {},
     "output_type": "display_data"
    }
   ],
   "source": [
    "# Plot higher volume NAICS\n",
    "plt.close()\n",
    "fig = sg_plot.naics_variance_plot(naics_info[naics_info['count'] > 100], num_sectors=5, xlabel='loan default rate')\n",
    "fig.savefig(Path(setup.temp_path).joinpath('02_PLOT_naics_counts_rates.png'),\n",
    "           bbox_inches='tight')"
   ]
  },
  {
   "cell_type": "code",
   "execution_count": 36,
   "id": "63897370-fc30-4a08-a9e0-f8665ad424a1",
   "metadata": {},
   "outputs": [
    {
     "data": {
      "image/png": "[encoded data removed]",
      "text/plain": [
       "<Figure size 700x500 with 5 Axes>"
      ]
     },
     "metadata": {},
     "output_type": "display_data"
    }
   ],
   "source": [
    "# Plot higher volume NAICS\n",
    "plt.close()\n",
    "fig = sg_plot.naics_variance_plot(naics_info[naics_info['count'] > 150], num_sectors=5, xlabel='loan default rate')\n",
    "fig.savefig(Path(setup.temp_path).joinpath('02_PLOT_naics_counts_rates_150.png'),\n",
    "           bbox_inches='tight')"
   ]
  },
  {
   "cell_type": "code",
   "execution_count": 78,
   "id": "276f9052-dc4e-423a-9730-446b930b2c04",
   "metadata": {},
   "outputs": [
    {
     "data": {
      "image/png": "[encoded data removed]",
      "text/plain": [
       "<Figure size 700x800 with 8 Axes>"
      ]
     },
     "metadata": {},
     "output_type": "display_data"
    }
   ],
   "source": [
    "# Get top 8\n",
    "plt.close()\n",
    "fig = sg_plot.naics_variance_plot(naics_info[naics_info['count'] > 150], num_sectors=8, xlabel='loan default rate')\n",
    "fig.savefig(Path(setup.temp_path).joinpath('02_PLOT_naics_counts_rates_150_top8.png'),\n",
    "           bbox_inches='tight')"
   ]
  },
  {
   "cell_type": "code",
   "execution_count": 37,
   "id": "e90e702c-655f-40f0-8850-5111ca0b04b2",
   "metadata": {},
   "outputs": [],
   "source": [
    "# Export high-volume data for analysis\n",
    "naics_info[naics_info['count'] > 100] \\\n",
    "           .sort_values(['target_cat', 'target'], ascending=[False, False]) \\\n",
    "           .to_csv(Path(setup.temp_path).joinpath('02_REPORT_naics_counts_rates_high_vol.csv'), \n",
    "                   index=False)"
   ]
  },
  {
   "cell_type": "markdown",
   "id": "a3cae575-bd4e-4178-b307-51a10f04dbf3",
   "metadata": {},
   "source": [
    "## ANOVA"
   ]
  },
  {
   "cell_type": "markdown",
   "id": "67c8909f-693d-4522-860c-a1d65d8cd0a6",
   "metadata": {},
   "source": [
    "##### Stats oneway summary"
   ]
  },
  {
   "cell_type": "code",
   "execution_count": 38,
   "id": "ee8a3f16-16ea-474e-ba19-73e91e5dcc90",
   "metadata": {},
   "outputs": [],
   "source": [
    "sector_groups = sba_loans.groupby('NAICS_sector')\n",
    "sectors_list = [g['target'].to_numpy() for n, g in sector_groups]"
   ]
  },
  {
   "cell_type": "code",
   "execution_count": 39,
   "id": "22122edb-6e87-4657-870a-5ee8d3ca3a52",
   "metadata": {},
   "outputs": [],
   "source": [
    "f_sector, p_sector = stats.f_oneway(*sectors_list)"
   ]
  },
  {
   "cell_type": "code",
   "execution_count": 40,
   "id": "48b32946-1afc-42f8-91bd-335366bc5331",
   "metadata": {},
   "outputs": [
    {
     "name": "stdout",
     "output_type": "stream",
     "text": [
      "sector oneway f: 434.4955167472383, p: 0.0\n"
     ]
    }
   ],
   "source": [
    "print(f'sector oneway f: {f_sector}, p: {p_sector}')"
   ]
  },
  {
   "cell_type": "code",
   "execution_count": 41,
   "id": "c7d47ac5-9950-43c4-99bf-2ead9645eb09",
   "metadata": {},
   "outputs": [],
   "source": [
    "naics_groups = sba_loans.groupby('NAICS')\n",
    "naics_list = [g['target'].to_numpy() for n, g in naics_groups]"
   ]
  },
  {
   "cell_type": "code",
   "execution_count": 42,
   "id": "2613bd72-feeb-4b91-b329-5d063c0e1ca7",
   "metadata": {},
   "outputs": [],
   "source": [
    "f_naics, p_naics = stats.f_oneway(*naics_list)"
   ]
  },
  {
   "cell_type": "code",
   "execution_count": 43,
   "id": "d4087cdd-f618-4af8-926a-a0a064ed2ec1",
   "metadata": {},
   "outputs": [
    {
     "name": "stdout",
     "output_type": "stream",
     "text": [
      "naics oneway f: 32.47356737976054, p: 0.0\n"
     ]
    }
   ],
   "source": [
    "print(f'naics oneway f: {f_naics}, p: {p_naics}')"
   ]
  },
  {
   "cell_type": "markdown",
   "id": "7fcb4f68-c3a2-4ee7-9a5f-eeba35f55d84",
   "metadata": {},
   "source": [
    "##### Residuals analysis - sector"
   ]
  },
  {
   "cell_type": "code",
   "execution_count": 44,
   "id": "37174e92-ed84-44b3-823e-16928604feb3",
   "metadata": {},
   "outputs": [],
   "source": [
    "lm_sector = ols('target ~ C(NAICS_sector)',data=sba_loans).fit()\n",
    "res_sector = sm.stats.anova_lm(lm_sector, typ=1)"
   ]
  },
  {
   "cell_type": "code",
   "execution_count": 45,
   "id": "14343fe6-ca95-4da7-8479-866544dc14c9",
   "metadata": {},
   "outputs": [
    {
     "data": {
      "text/html": [
       "<div>\n",
       "<style scoped>\n",
       "    .dataframe tbody tr th:only-of-type {\n",
       "        vertical-align: middle;\n",
       "    }\n",
       "\n",
       "    .dataframe tbody tr th {\n",
       "        vertical-align: top;\n",
       "    }\n",
       "\n",
       "    .dataframe thead th {\n",
       "        text-align: right;\n",
       "    }\n",
       "</style>\n",
       "<table border=\"1\" class=\"dataframe\">\n",
       "  <thead>\n",
       "    <tr style=\"text-align: right;\">\n",
       "      <th></th>\n",
       "      <th>df</th>\n",
       "      <th>sum_sq</th>\n",
       "      <th>mean_sq</th>\n",
       "      <th>F</th>\n",
       "      <th>PR(&gt;F)</th>\n",
       "    </tr>\n",
       "  </thead>\n",
       "  <tbody>\n",
       "    <tr>\n",
       "      <th>C(NAICS_sector)</th>\n",
       "      <td>19.0</td>\n",
       "      <td>1319.908128</td>\n",
       "      <td>69.468849</td>\n",
       "      <td>434.495517</td>\n",
       "      <td>0.0</td>\n",
       "    </tr>\n",
       "    <tr>\n",
       "      <th>Residual</th>\n",
       "      <td>688061.0</td>\n",
       "      <td>110009.893717</td>\n",
       "      <td>0.159884</td>\n",
       "      <td>NaN</td>\n",
       "      <td>NaN</td>\n",
       "    </tr>\n",
       "  </tbody>\n",
       "</table>\n",
       "</div>"
      ],
      "text/plain": [
       "                       df         sum_sq    mean_sq           F  PR(>F)\n",
       "C(NAICS_sector)      19.0    1319.908128  69.468849  434.495517     0.0\n",
       "Residual         688061.0  110009.893717   0.159884         NaN     NaN"
      ]
     },
     "execution_count": 45,
     "metadata": {},
     "output_type": "execute_result"
    }
   ],
   "source": [
    "res_sector"
   ]
  },
  {
   "cell_type": "code",
   "execution_count": 46,
   "id": "01cf1989-ec8b-4ef4-9b11-7dc116bdb2e5",
   "metadata": {},
   "outputs": [
    {
     "data": {
      "text/plain": [
       "C(NAICS_sector)    0.011856\n",
       "Residual           0.988144\n",
       "Name: sum_sq, dtype: float64"
      ]
     },
     "execution_count": 46,
     "metadata": {},
     "output_type": "execute_result"
    }
   ],
   "source": [
    "res_sector['sum_sq'].transform(lambda x: x/x.sum())"
   ]
  },
  {
   "cell_type": "markdown",
   "id": "9a25b660-9782-4dac-b977-c17a2cc2ddfe",
   "metadata": {},
   "source": [
    "##### Residuals analysis - NAICS (by sector)"
   ]
  },
  {
   "cell_type": "code",
   "execution_count": 47,
   "id": "c497cc66-bc44-482c-9491-049ccfd8fe5c",
   "metadata": {},
   "outputs": [],
   "source": [
    "def sector_stats(data):\n",
    "    lm = ols('target ~ C(NAICS)',data=data).fit()\n",
    "    return sm.stats.anova_lm(lm, typ=1)"
   ]
  },
  {
   "cell_type": "code",
   "execution_count": 48,
   "id": "ae6eb4e1-301e-4502-a29d-f632822787fa",
   "metadata": {},
   "outputs": [],
   "source": [
    "groups = sba_loans.groupby('NAICS_sector')\n",
    "sector_grp_data = pd.concat([sector_stats(g) for n, g in groups],  keys=[n for n, g in groups]) \\\n",
    "    .reset_index()"
   ]
  },
  {
   "cell_type": "code",
   "execution_count": 49,
   "id": "e73cb40a-1074-474c-86fe-5a9b581c6e19",
   "metadata": {},
   "outputs": [],
   "source": [
    "sector_grp_data['level_1'] = sector_grp_data['level_1'].astype('str')"
   ]
  },
  {
   "cell_type": "code",
   "execution_count": 51,
   "id": "9475f831-c8ad-49b3-a7ee-6539e3ffacc1",
   "metadata": {},
   "outputs": [],
   "source": [
    "res_ratio = sector_grp_data.groupby(['level_0'])['sum_sq'].apply(lambda x: x/x.sum()) \\\n",
    "    .groupby(['level_0']).head(1)"
   ]
  },
  {
   "cell_type": "code",
   "execution_count": 52,
   "id": "70a95f22-cb4d-472c-9fa5-3a6fbf361649",
   "metadata": {},
   "outputs": [
    {
     "data": {
      "text/plain": [
       "count    20.000000\n",
       "mean      0.059255\n",
       "std       0.058012\n",
       "min       0.016474\n",
       "25%       0.026331\n",
       "50%       0.036488\n",
       "75%       0.069471\n",
       "max       0.274767\n",
       "Name: sum_sq, dtype: float64"
      ]
     },
     "execution_count": 52,
     "metadata": {},
     "output_type": "execute_result"
    }
   ],
   "source": [
    "res_ratio.describe()"
   ]
  },
  {
   "cell_type": "code",
   "execution_count": 53,
   "id": "a8df2a1c-1b13-4738-964c-bf3dabca1c0c",
   "metadata": {},
   "outputs": [
    {
     "data": {
      "text/plain": [
       "count     2.000000e+01\n",
       "mean      8.066332e-03\n",
       "std       2.634063e-02\n",
       "min       0.000000e+00\n",
       "25%       0.000000e+00\n",
       "50%      1.773788e-132\n",
       "75%       6.478684e-16\n",
       "max       1.077875e-01\n",
       "Name: PR(>F), dtype: float64"
      ]
     },
     "execution_count": 53,
     "metadata": {},
     "output_type": "execute_result"
    }
   ],
   "source": [
    "sector_grp_data['PR(>F)'].describe()"
   ]
  },
  {
   "cell_type": "code",
   "execution_count": 54,
   "id": "775586c0-d4bb-4107-9d48-e0ed1d48771f",
   "metadata": {},
   "outputs": [],
   "source": [
    "sector_grp_data_naics_row = sector_grp_data[sector_grp_data['level_1'] == 'C(NAICS)']"
   ]
  },
  {
   "cell_type": "code",
   "execution_count": 55,
   "id": "8189b309-3a24-4e49-8542-a6e32eaf5ec2",
   "metadata": {},
   "outputs": [
    {
     "data": {
      "text/plain": [
       "PR(>F)\n",
       "True     18\n",
       "False     2\n",
       "Name: count, dtype: int64"
      ]
     },
     "execution_count": 55,
     "metadata": {},
     "output_type": "execute_result"
    }
   ],
   "source": [
    "(sector_grp_data_naics_row['PR(>F)'] <= 0.01).value_counts()"
   ]
  },
  {
   "cell_type": "markdown",
   "id": "856f7e62-1ab3-4127-bbec-5dd2193ce063",
   "metadata": {},
   "source": [
    "##### Residuals analysis - sample data\n",
    "OLS takes too long for all NAICS/rows so sample randomly.  DO a number of samples"
   ]
  },
  {
   "cell_type": "code",
   "execution_count": 56,
   "id": "78d57de6-e2c6-43f8-bdc7-53715f435a2c",
   "metadata": {},
   "outputs": [],
   "source": [
    "sample_num = [1000, 1000, 1000, 10000, 10000, 10000, 20000, 20000, 20000]\n",
    "res_naics = pd.concat([sector_stats(sba_loans.sample(n)) for n in sample_num], keys = range(len(sample_num))) \\\n",
    "    .reset_index()"
   ]
  },
  {
   "cell_type": "code",
   "execution_count": 57,
   "id": "3b30b24a-49af-4c0f-9a18-dd56d508c97c",
   "metadata": {},
   "outputs": [
    {
     "data": {
      "text/html": [
       "<div>\n",
       "<style scoped>\n",
       "    .dataframe tbody tr th:only-of-type {\n",
       "        vertical-align: middle;\n",
       "    }\n",
       "\n",
       "    .dataframe tbody tr th {\n",
       "        vertical-align: top;\n",
       "    }\n",
       "\n",
       "    .dataframe thead th {\n",
       "        text-align: right;\n",
       "    }\n",
       "</style>\n",
       "<table border=\"1\" class=\"dataframe\">\n",
       "  <thead>\n",
       "    <tr style=\"text-align: right;\">\n",
       "      <th></th>\n",
       "      <th>level_0</th>\n",
       "      <th>level_1</th>\n",
       "      <th>df</th>\n",
       "      <th>sum_sq</th>\n",
       "      <th>mean_sq</th>\n",
       "      <th>F</th>\n",
       "      <th>PR(&gt;F)</th>\n",
       "    </tr>\n",
       "  </thead>\n",
       "  <tbody>\n",
       "    <tr>\n",
       "      <th>0</th>\n",
       "      <td>0</td>\n",
       "      <td>C(NAICS)</td>\n",
       "      <td>377.0</td>\n",
       "      <td>56.779208</td>\n",
       "      <td>0.150608</td>\n",
       "      <td>0.952432</td>\n",
       "      <td>6.981519e-01</td>\n",
       "    </tr>\n",
       "    <tr>\n",
       "      <th>1</th>\n",
       "      <td>0</td>\n",
       "      <td>Residual</td>\n",
       "      <td>622.0</td>\n",
       "      <td>98.356792</td>\n",
       "      <td>0.158130</td>\n",
       "      <td>NaN</td>\n",
       "      <td>NaN</td>\n",
       "    </tr>\n",
       "    <tr>\n",
       "      <th>2</th>\n",
       "      <td>1</td>\n",
       "      <td>C(NAICS)</td>\n",
       "      <td>393.0</td>\n",
       "      <td>81.226235</td>\n",
       "      <td>0.206683</td>\n",
       "      <td>1.469156</td>\n",
       "      <td>1.070888e-05</td>\n",
       "    </tr>\n",
       "    <tr>\n",
       "      <th>3</th>\n",
       "      <td>1</td>\n",
       "      <td>Residual</td>\n",
       "      <td>606.0</td>\n",
       "      <td>85.252765</td>\n",
       "      <td>0.140681</td>\n",
       "      <td>NaN</td>\n",
       "      <td>NaN</td>\n",
       "    </tr>\n",
       "    <tr>\n",
       "      <th>4</th>\n",
       "      <td>2</td>\n",
       "      <td>C(NAICS)</td>\n",
       "      <td>377.0</td>\n",
       "      <td>56.491909</td>\n",
       "      <td>0.149846</td>\n",
       "      <td>0.975560</td>\n",
       "      <td>6.026047e-01</td>\n",
       "    </tr>\n",
       "    <tr>\n",
       "      <th>5</th>\n",
       "      <td>2</td>\n",
       "      <td>Residual</td>\n",
       "      <td>622.0</td>\n",
       "      <td>95.539091</td>\n",
       "      <td>0.153600</td>\n",
       "      <td>NaN</td>\n",
       "      <td>NaN</td>\n",
       "    </tr>\n",
       "    <tr>\n",
       "      <th>6</th>\n",
       "      <td>3</td>\n",
       "      <td>C(NAICS)</td>\n",
       "      <td>888.0</td>\n",
       "      <td>192.368878</td>\n",
       "      <td>0.216632</td>\n",
       "      <td>1.390352</td>\n",
       "      <td>1.835474e-12</td>\n",
       "    </tr>\n",
       "    <tr>\n",
       "      <th>7</th>\n",
       "      <td>3</td>\n",
       "      <td>Residual</td>\n",
       "      <td>9111.0</td>\n",
       "      <td>1419.591122</td>\n",
       "      <td>0.155811</td>\n",
       "      <td>NaN</td>\n",
       "      <td>NaN</td>\n",
       "    </tr>\n",
       "    <tr>\n",
       "      <th>8</th>\n",
       "      <td>4</td>\n",
       "      <td>C(NAICS)</td>\n",
       "      <td>882.0</td>\n",
       "      <td>212.174450</td>\n",
       "      <td>0.240561</td>\n",
       "      <td>1.533784</td>\n",
       "      <td>4.064910e-20</td>\n",
       "    </tr>\n",
       "    <tr>\n",
       "      <th>9</th>\n",
       "      <td>4</td>\n",
       "      <td>Residual</td>\n",
       "      <td>9117.0</td>\n",
       "      <td>1429.921450</td>\n",
       "      <td>0.156841</td>\n",
       "      <td>NaN</td>\n",
       "      <td>NaN</td>\n",
       "    </tr>\n",
       "    <tr>\n",
       "      <th>10</th>\n",
       "      <td>5</td>\n",
       "      <td>C(NAICS)</td>\n",
       "      <td>891.0</td>\n",
       "      <td>215.533178</td>\n",
       "      <td>0.241900</td>\n",
       "      <td>1.579785</td>\n",
       "      <td>4.483927e-23</td>\n",
       "    </tr>\n",
       "    <tr>\n",
       "      <th>11</th>\n",
       "      <td>5</td>\n",
       "      <td>Residual</td>\n",
       "      <td>9108.0</td>\n",
       "      <td>1394.637922</td>\n",
       "      <td>0.153122</td>\n",
       "      <td>NaN</td>\n",
       "      <td>NaN</td>\n",
       "    </tr>\n",
       "    <tr>\n",
       "      <th>12</th>\n",
       "      <td>6</td>\n",
       "      <td>C(NAICS)</td>\n",
       "      <td>1027.0</td>\n",
       "      <td>331.008246</td>\n",
       "      <td>0.322306</td>\n",
       "      <td>2.118958</td>\n",
       "      <td>1.152939e-77</td>\n",
       "    </tr>\n",
       "    <tr>\n",
       "      <th>13</th>\n",
       "      <td>6</td>\n",
       "      <td>Residual</td>\n",
       "      <td>18972.0</td>\n",
       "      <td>2885.752554</td>\n",
       "      <td>0.152106</td>\n",
       "      <td>NaN</td>\n",
       "      <td>NaN</td>\n",
       "    </tr>\n",
       "    <tr>\n",
       "      <th>14</th>\n",
       "      <td>7</td>\n",
       "      <td>C(NAICS)</td>\n",
       "      <td>1029.0</td>\n",
       "      <td>328.664688</td>\n",
       "      <td>0.319402</td>\n",
       "      <td>2.075719</td>\n",
       "      <td>3.038123e-73</td>\n",
       "    </tr>\n",
       "    <tr>\n",
       "      <th>15</th>\n",
       "      <td>7</td>\n",
       "      <td>Residual</td>\n",
       "      <td>18970.0</td>\n",
       "      <td>2919.015312</td>\n",
       "      <td>0.153875</td>\n",
       "      <td>NaN</td>\n",
       "      <td>NaN</td>\n",
       "    </tr>\n",
       "    <tr>\n",
       "      <th>16</th>\n",
       "      <td>8</td>\n",
       "      <td>C(NAICS)</td>\n",
       "      <td>1036.0</td>\n",
       "      <td>320.565623</td>\n",
       "      <td>0.309426</td>\n",
       "      <td>2.035236</td>\n",
       "      <td>1.829789e-69</td>\n",
       "    </tr>\n",
       "    <tr>\n",
       "      <th>17</th>\n",
       "      <td>8</td>\n",
       "      <td>Residual</td>\n",
       "      <td>18963.0</td>\n",
       "      <td>2883.032577</td>\n",
       "      <td>0.152035</td>\n",
       "      <td>NaN</td>\n",
       "      <td>NaN</td>\n",
       "    </tr>\n",
       "  </tbody>\n",
       "</table>\n",
       "</div>"
      ],
      "text/plain": [
       "    level_0   level_1       df       sum_sq   mean_sq         F        PR(>F)\n",
       "0         0  C(NAICS)    377.0    56.779208  0.150608  0.952432  6.981519e-01\n",
       "1         0  Residual    622.0    98.356792  0.158130       NaN           NaN\n",
       "2         1  C(NAICS)    393.0    81.226235  0.206683  1.469156  1.070888e-05\n",
       "3         1  Residual    606.0    85.252765  0.140681       NaN           NaN\n",
       "4         2  C(NAICS)    377.0    56.491909  0.149846  0.975560  6.026047e-01\n",
       "5         2  Residual    622.0    95.539091  0.153600       NaN           NaN\n",
       "6         3  C(NAICS)    888.0   192.368878  0.216632  1.390352  1.835474e-12\n",
       "7         3  Residual   9111.0  1419.591122  0.155811       NaN           NaN\n",
       "8         4  C(NAICS)    882.0   212.174450  0.240561  1.533784  4.064910e-20\n",
       "9         4  Residual   9117.0  1429.921450  0.156841       NaN           NaN\n",
       "10        5  C(NAICS)    891.0   215.533178  0.241900  1.579785  4.483927e-23\n",
       "11        5  Residual   9108.0  1394.637922  0.153122       NaN           NaN\n",
       "12        6  C(NAICS)   1027.0   331.008246  0.322306  2.118958  1.152939e-77\n",
       "13        6  Residual  18972.0  2885.752554  0.152106       NaN           NaN\n",
       "14        7  C(NAICS)   1029.0   328.664688  0.319402  2.075719  3.038123e-73\n",
       "15        7  Residual  18970.0  2919.015312  0.153875       NaN           NaN\n",
       "16        8  C(NAICS)   1036.0   320.565623  0.309426  2.035236  1.829789e-69\n",
       "17        8  Residual  18963.0  2883.032577  0.152035       NaN           NaN"
      ]
     },
     "execution_count": 57,
     "metadata": {},
     "output_type": "execute_result"
    }
   ],
   "source": [
    "res_naics"
   ]
  },
  {
   "cell_type": "code",
   "execution_count": 58,
   "id": "a1342684-16ec-4c33-b6cf-bf8e902f00a1",
   "metadata": {},
   "outputs": [
    {
     "data": {
      "text/plain": [
       "level_0    \n",
       "0        0     0.365996\n",
       "1        2     0.487907\n",
       "2        4     0.371582\n",
       "3        6     0.119338\n",
       "4        8     0.129210\n",
       "5        10    0.133857\n",
       "6        12    0.102901\n",
       "7        14    0.101200\n",
       "8        16    0.100064\n",
       "Name: sum_sq, dtype: float64"
      ]
     },
     "execution_count": 58,
     "metadata": {},
     "output_type": "execute_result"
    }
   ],
   "source": [
    "res_ratio = res_naics.groupby(['level_0'])['sum_sq'].apply(lambda x: x/x.sum()) \\\n",
    "    .groupby(['level_0']).head(1)\n",
    "res_ratio"
   ]
  },
  {
   "cell_type": "markdown",
   "id": "c699e251-d2a7-4274-ad99-8ae0cfb33bb2",
   "metadata": {},
   "source": [
    "##### Residuals analysis - sample data\n",
    "OLS takes too long for all NAICS/rows so sample some NAICS"
   ]
  },
  {
   "cell_type": "code",
   "execution_count": 59,
   "id": "b282cdab-fb7c-4ec4-8b16-19a11a0312c6",
   "metadata": {},
   "outputs": [],
   "source": [
    "def sector_stats_samp(data, n):\n",
    "    naics_samp = data[['NAICS']].drop_duplicates().sample(n)\n",
    "    lm = ols('target ~ C(NAICS)', data=data.merge(naics_samp, on='NAICS')).fit()\n",
    "    return sm.stats.anova_lm(lm, typ=1)"
   ]
  },
  {
   "cell_type": "code",
   "execution_count": 60,
   "id": "62623061-ab37-405c-a7c5-21003ccd9401",
   "metadata": {},
   "outputs": [],
   "source": [
    "sample_naics = [200, 200, 200, 400, 400, 400]\n",
    "res_naics_samp = pd.concat([sector_stats_samp(sba_loans, n) for n in sample_naics], keys = range(len(sample_num))) \\\n",
    "    .reset_index()"
   ]
  },
  {
   "cell_type": "code",
   "execution_count": 61,
   "id": "4da643ba-0075-44a1-b89b-b8ccb33ceae3",
   "metadata": {},
   "outputs": [
    {
     "data": {
      "text/html": [
       "<div>\n",
       "<style scoped>\n",
       "    .dataframe tbody tr th:only-of-type {\n",
       "        vertical-align: middle;\n",
       "    }\n",
       "\n",
       "    .dataframe tbody tr th {\n",
       "        vertical-align: top;\n",
       "    }\n",
       "\n",
       "    .dataframe thead th {\n",
       "        text-align: right;\n",
       "    }\n",
       "</style>\n",
       "<table border=\"1\" class=\"dataframe\">\n",
       "  <thead>\n",
       "    <tr style=\"text-align: right;\">\n",
       "      <th></th>\n",
       "      <th>level_0</th>\n",
       "      <th>level_1</th>\n",
       "      <th>df</th>\n",
       "      <th>sum_sq</th>\n",
       "      <th>mean_sq</th>\n",
       "      <th>F</th>\n",
       "      <th>PR(&gt;F)</th>\n",
       "    </tr>\n",
       "  </thead>\n",
       "  <tbody>\n",
       "    <tr>\n",
       "      <th>0</th>\n",
       "      <td>0</td>\n",
       "      <td>C(NAICS)</td>\n",
       "      <td>199.0</td>\n",
       "      <td>1160.846562</td>\n",
       "      <td>5.833400</td>\n",
       "      <td>39.740411</td>\n",
       "      <td>0.0</td>\n",
       "    </tr>\n",
       "    <tr>\n",
       "      <th>1</th>\n",
       "      <td>0</td>\n",
       "      <td>Residual</td>\n",
       "      <td>103389.0</td>\n",
       "      <td>15176.223976</td>\n",
       "      <td>0.146788</td>\n",
       "      <td>NaN</td>\n",
       "      <td>NaN</td>\n",
       "    </tr>\n",
       "    <tr>\n",
       "      <th>2</th>\n",
       "      <td>1</td>\n",
       "      <td>C(NAICS)</td>\n",
       "      <td>199.0</td>\n",
       "      <td>1126.690700</td>\n",
       "      <td>5.661762</td>\n",
       "      <td>32.876251</td>\n",
       "      <td>0.0</td>\n",
       "    </tr>\n",
       "    <tr>\n",
       "      <th>3</th>\n",
       "      <td>1</td>\n",
       "      <td>Residual</td>\n",
       "      <td>116717.0</td>\n",
       "      <td>20100.342717</td>\n",
       "      <td>0.172214</td>\n",
       "      <td>NaN</td>\n",
       "      <td>NaN</td>\n",
       "    </tr>\n",
       "    <tr>\n",
       "      <th>4</th>\n",
       "      <td>2</td>\n",
       "      <td>C(NAICS)</td>\n",
       "      <td>199.0</td>\n",
       "      <td>780.726219</td>\n",
       "      <td>3.923247</td>\n",
       "      <td>22.862534</td>\n",
       "      <td>0.0</td>\n",
       "    </tr>\n",
       "    <tr>\n",
       "      <th>5</th>\n",
       "      <td>2</td>\n",
       "      <td>Residual</td>\n",
       "      <td>109366.0</td>\n",
       "      <td>18767.380529</td>\n",
       "      <td>0.171602</td>\n",
       "      <td>NaN</td>\n",
       "      <td>NaN</td>\n",
       "    </tr>\n",
       "    <tr>\n",
       "      <th>6</th>\n",
       "      <td>3</td>\n",
       "      <td>C(NAICS)</td>\n",
       "      <td>399.0</td>\n",
       "      <td>1632.587463</td>\n",
       "      <td>4.091698</td>\n",
       "      <td>27.341352</td>\n",
       "      <td>0.0</td>\n",
       "    </tr>\n",
       "    <tr>\n",
       "      <th>7</th>\n",
       "      <td>3</td>\n",
       "      <td>Residual</td>\n",
       "      <td>210150.0</td>\n",
       "      <td>31449.444054</td>\n",
       "      <td>0.149652</td>\n",
       "      <td>NaN</td>\n",
       "      <td>NaN</td>\n",
       "    </tr>\n",
       "    <tr>\n",
       "      <th>8</th>\n",
       "      <td>4</td>\n",
       "      <td>C(NAICS)</td>\n",
       "      <td>399.0</td>\n",
       "      <td>2120.592332</td>\n",
       "      <td>5.314768</td>\n",
       "      <td>35.060693</td>\n",
       "      <td>0.0</td>\n",
       "    </tr>\n",
       "    <tr>\n",
       "      <th>9</th>\n",
       "      <td>4</td>\n",
       "      <td>Residual</td>\n",
       "      <td>234355.0</td>\n",
       "      <td>35525.321774</td>\n",
       "      <td>0.151588</td>\n",
       "      <td>NaN</td>\n",
       "      <td>NaN</td>\n",
       "    </tr>\n",
       "    <tr>\n",
       "      <th>10</th>\n",
       "      <td>5</td>\n",
       "      <td>C(NAICS)</td>\n",
       "      <td>399.0</td>\n",
       "      <td>2290.945948</td>\n",
       "      <td>5.741719</td>\n",
       "      <td>37.652327</td>\n",
       "      <td>0.0</td>\n",
       "    </tr>\n",
       "    <tr>\n",
       "      <th>11</th>\n",
       "      <td>5</td>\n",
       "      <td>Residual</td>\n",
       "      <td>201690.0</td>\n",
       "      <td>30756.328514</td>\n",
       "      <td>0.152493</td>\n",
       "      <td>NaN</td>\n",
       "      <td>NaN</td>\n",
       "    </tr>\n",
       "  </tbody>\n",
       "</table>\n",
       "</div>"
      ],
      "text/plain": [
       "    level_0   level_1        df        sum_sq   mean_sq          F  PR(>F)\n",
       "0         0  C(NAICS)     199.0   1160.846562  5.833400  39.740411     0.0\n",
       "1         0  Residual  103389.0  15176.223976  0.146788        NaN     NaN\n",
       "2         1  C(NAICS)     199.0   1126.690700  5.661762  32.876251     0.0\n",
       "3         1  Residual  116717.0  20100.342717  0.172214        NaN     NaN\n",
       "4         2  C(NAICS)     199.0    780.726219  3.923247  22.862534     0.0\n",
       "5         2  Residual  109366.0  18767.380529  0.171602        NaN     NaN\n",
       "6         3  C(NAICS)     399.0   1632.587463  4.091698  27.341352     0.0\n",
       "7         3  Residual  210150.0  31449.444054  0.149652        NaN     NaN\n",
       "8         4  C(NAICS)     399.0   2120.592332  5.314768  35.060693     0.0\n",
       "9         4  Residual  234355.0  35525.321774  0.151588        NaN     NaN\n",
       "10        5  C(NAICS)     399.0   2290.945948  5.741719  37.652327     0.0\n",
       "11        5  Residual  201690.0  30756.328514  0.152493        NaN     NaN"
      ]
     },
     "execution_count": 61,
     "metadata": {},
     "output_type": "execute_result"
    }
   ],
   "source": [
    "res_naics_samp"
   ]
  },
  {
   "cell_type": "code",
   "execution_count": 62,
   "id": "5caa4f64-8314-4752-82ce-fb41d515a051",
   "metadata": {},
   "outputs": [
    {
     "data": {
      "text/plain": [
       "level_0    \n",
       "0        0     0.071056\n",
       "1        2     0.053078\n",
       "2        4     0.039939\n",
       "3        6     0.049350\n",
       "4        8     0.056330\n",
       "5        10    0.069323\n",
       "Name: sum_sq, dtype: float64"
      ]
     },
     "execution_count": 62,
     "metadata": {},
     "output_type": "execute_result"
    }
   ],
   "source": [
    "res_ratio = res_naics_samp.groupby(['level_0'])['sum_sq'].apply(lambda x: x/x.sum()) \\\n",
    "    .groupby(['level_0']).head(1)\n",
    "res_ratio"
   ]
  },
  {
   "cell_type": "markdown",
   "id": "96137921-8061-4280-b846-a293ec2314e3",
   "metadata": {},
   "source": [
    "## NAICS mean enodings\n",
    "Examine where values differ - expect at low counts.  Focus on the training data"
   ]
  },
  {
   "cell_type": "code",
   "execution_count": 63,
   "id": "75119664-d573-4bd9-b54b-7c09b2533a02",
   "metadata": {},
   "outputs": [],
   "source": [
    "train_df =  sba_loans[sba_loans['dset'] == 'train'] "
   ]
  },
  {
   "cell_type": "code",
   "execution_count": 64,
   "id": "428f1dc3-1ff0-4970-8403-d69deddb978a",
   "metadata": {},
   "outputs": [],
   "source": [
    "train_naics_mean = train_df.groupby('NAICS')['target'].agg(['mean', 'count']) \\\n",
    "    .set_axis(['target', 'count'], axis=1) \\\n",
    "    .reset_index()"
   ]
  },
  {
   "cell_type": "code",
   "execution_count": 65,
   "id": "4bea4df2-a96b-496c-8528-faba4173a313",
   "metadata": {},
   "outputs": [],
   "source": [
    "train_sector_mean = train_df.groupby('NAICS_sector')['target'].agg('mean') \\\n",
    "    .rename('sector_mean') \\\n",
    "    .reset_index()"
   ]
  },
  {
   "cell_type": "code",
   "execution_count": 66,
   "id": "25f7a173-837b-42f1-a90b-72970c09fc6b",
   "metadata": {},
   "outputs": [],
   "source": [
    "naics_menc_info = train_df \\\n",
    "    .groupby('NAICS')[['NAICS_sector', 'menc_NAICS', 'menc_grp_NAICS']].agg('first') \\\n",
    "    .reset_index() \\\n",
    "    .merge(train_naics_mean, on='NAICS') \\\n",
    "    .merge(train_sector_mean, on='NAICS_sector')"
   ]
  },
  {
   "cell_type": "code",
   "execution_count": 67,
   "id": "ad8ea2d7-ed02-4b5d-a79b-97dfbf004639",
   "metadata": {},
   "outputs": [],
   "source": [
    "naics_menc_info['diff'] = naics_menc_info['menc_NAICS'] - naics_menc_info['menc_grp_NAICS']\n",
    "naics_menc_info['diff_abs'] = np.abs(naics_menc_info['diff'])"
   ]
  },
  {
   "cell_type": "code",
   "execution_count": 68,
   "id": "97534a7b-9a7f-4c74-806a-0e08fe00b9c0",
   "metadata": {},
   "outputs": [
    {
     "data": {
      "text/plain": [
       "<Axes: xlabel='count', ylabel='diff_abs'>"
      ]
     },
     "execution_count": 68,
     "metadata": {},
     "output_type": "execute_result"
    },
    {
     "data": {
      "image/png": "[encoded data removed]",
      "text/plain": [
       "<Figure size 640x480 with 1 Axes>"
      ]
     },
     "metadata": {},
     "output_type": "display_data"
    }
   ],
   "source": [
    "naics_menc_info.plot(x='count', y='diff_abs', kind='scatter',\n",
    "                    logx=True)"
   ]
  },
  {
   "cell_type": "code",
   "execution_count": 69,
   "id": "2ebb00f1-7019-4bcc-a7e7-c9647c73b876",
   "metadata": {},
   "outputs": [],
   "source": [
    "naics_menc_info['quantile'] = pd.qcut(naics_menc_info['count'], q=10)"
   ]
  },
  {
   "cell_type": "code",
   "execution_count": 70,
   "id": "f9079a01-45cb-4dbc-97a7-6522ebf8a033",
   "metadata": {},
   "outputs": [
    {
     "data": {
      "image/png": "[encoded data removed]",
      "text/plain": [
       "<Figure size 640x480 with 1 Axes>"
      ]
     },
     "metadata": {},
     "output_type": "display_data"
    }
   ],
   "source": [
    "naics_menc_info.groupby('quantile')[['diff_abs']].agg('mean') \\\n",
    "    .plot()\n",
    "_ = plt.xticks(rotation=45, ha='right')"
   ]
  },
  {
   "cell_type": "code",
   "execution_count": 79,
   "id": "dcdb928e-d5bd-488a-87c4-f695e1d3af87",
   "metadata": {},
   "outputs": [
    {
     "data": {
      "text/html": [
       "<div>\n",
       "<style scoped>\n",
       "    .dataframe tbody tr th:only-of-type {\n",
       "        vertical-align: middle;\n",
       "    }\n",
       "\n",
       "    .dataframe tbody tr th {\n",
       "        vertical-align: top;\n",
       "    }\n",
       "\n",
       "    .dataframe thead th {\n",
       "        text-align: right;\n",
       "    }\n",
       "</style>\n",
       "<table border=\"1\" class=\"dataframe\">\n",
       "  <thead>\n",
       "    <tr style=\"text-align: right;\">\n",
       "      <th></th>\n",
       "      <th>NAICS</th>\n",
       "      <th>NAICS_sector</th>\n",
       "      <th>menc_NAICS</th>\n",
       "      <th>menc_grp_NAICS</th>\n",
       "      <th>target</th>\n",
       "      <th>count</th>\n",
       "      <th>sector_mean</th>\n",
       "      <th>diff</th>\n",
       "      <th>diff_abs</th>\n",
       "      <th>quantile</th>\n",
       "      <th>tdiff_menc</th>\n",
       "      <th>tdiff_menc_grp</th>\n",
       "    </tr>\n",
       "  </thead>\n",
       "  <tbody>\n",
       "    <tr>\n",
       "      <th>68</th>\n",
       "      <td>212325</td>\n",
       "      <td>21</td>\n",
       "      <td>0.203072</td>\n",
       "      <td>1.000000</td>\n",
       "      <td>1.000000</td>\n",
       "      <td>2</td>\n",
       "      <td>0.074573</td>\n",
       "      <td>-0.796928</td>\n",
       "      <td>0.796928</td>\n",
       "      <td>(0.999, 6.0]</td>\n",
       "      <td>0.796928</td>\n",
       "      <td>0.000000</td>\n",
       "    </tr>\n",
       "    <tr>\n",
       "      <th>11</th>\n",
       "      <td>111334</td>\n",
       "      <td>11</td>\n",
       "      <td>1.000000</td>\n",
       "      <td>0.249254</td>\n",
       "      <td>0.666667</td>\n",
       "      <td>3</td>\n",
       "      <td>0.088147</td>\n",
       "      <td>0.750746</td>\n",
       "      <td>0.750746</td>\n",
       "      <td>(0.999, 6.0]</td>\n",
       "      <td>0.333333</td>\n",
       "      <td>0.417413</td>\n",
       "    </tr>\n",
       "    <tr>\n",
       "      <th>260</th>\n",
       "      <td>322110</td>\n",
       "      <td>31-33</td>\n",
       "      <td>1.000000</td>\n",
       "      <td>0.331917</td>\n",
       "      <td>0.333333</td>\n",
       "      <td>3</td>\n",
       "      <td>0.155421</td>\n",
       "      <td>0.668083</td>\n",
       "      <td>0.668083</td>\n",
       "      <td>(0.999, 6.0]</td>\n",
       "      <td>0.666667</td>\n",
       "      <td>0.001416</td>\n",
       "    </tr>\n",
       "  </tbody>\n",
       "</table>\n",
       "</div>"
      ],
      "text/plain": [
       "      NAICS NAICS_sector  menc_NAICS  menc_grp_NAICS    target  count  \\\n",
       "68   212325           21    0.203072        1.000000  1.000000      2   \n",
       "11   111334           11    1.000000        0.249254  0.666667      3   \n",
       "260  322110        31-33    1.000000        0.331917  0.333333      3   \n",
       "\n",
       "     sector_mean      diff  diff_abs      quantile  tdiff_menc  tdiff_menc_grp  \n",
       "68      0.074573 -0.796928  0.796928  (0.999, 6.0]    0.796928        0.000000  \n",
       "11      0.088147  0.750746  0.750746  (0.999, 6.0]    0.333333        0.417413  \n",
       "260     0.155421  0.668083  0.668083  (0.999, 6.0]    0.666667        0.001416  "
      ]
     },
     "execution_count": 79,
     "metadata": {},
     "output_type": "execute_result"
    }
   ],
   "source": [
    "naics_menc_info.sort_values('diff_abs', ascending=False).head(3)"
   ]
  },
  {
   "cell_type": "code",
   "execution_count": 80,
   "id": "d6a71464-496d-4300-b25b-f4367060b881",
   "metadata": {},
   "outputs": [
    {
     "data": {
      "text/html": [
       "<div>\n",
       "<style scoped>\n",
       "    .dataframe tbody tr th:only-of-type {\n",
       "        vertical-align: middle;\n",
       "    }\n",
       "\n",
       "    .dataframe tbody tr th {\n",
       "        vertical-align: top;\n",
       "    }\n",
       "\n",
       "    .dataframe thead th {\n",
       "        text-align: right;\n",
       "    }\n",
       "</style>\n",
       "<table border=\"1\" class=\"dataframe\">\n",
       "  <thead>\n",
       "    <tr style=\"text-align: right;\">\n",
       "      <th></th>\n",
       "      <th>NAICS</th>\n",
       "      <th>NAICS_sector</th>\n",
       "      <th>menc_NAICS</th>\n",
       "      <th>menc_grp_NAICS</th>\n",
       "      <th>target</th>\n",
       "      <th>count</th>\n",
       "      <th>sector_mean</th>\n",
       "      <th>diff</th>\n",
       "      <th>diff_abs</th>\n",
       "      <th>quantile</th>\n",
       "      <th>tdiff_menc</th>\n",
       "      <th>tdiff_menc_grp</th>\n",
       "    </tr>\n",
       "  </thead>\n",
       "  <tbody>\n",
       "    <tr>\n",
       "      <th>1152</th>\n",
       "      <td>722110</td>\n",
       "      <td>72</td>\n",
       "      <td>0.240066</td>\n",
       "      <td>0.238818</td>\n",
       "      <td>0.237951</td>\n",
       "      <td>18218</td>\n",
       "      <td>0.217493</td>\n",
       "      <td>0.001248</td>\n",
       "      <td>0.001248</td>\n",
       "      <td>(754.8, 18218.0]</td>\n",
       "      <td>0.002114</td>\n",
       "      <td>0.000866</td>\n",
       "    </tr>\n",
       "    <tr>\n",
       "      <th>1153</th>\n",
       "      <td>722211</td>\n",
       "      <td>72</td>\n",
       "      <td>0.251196</td>\n",
       "      <td>0.250021</td>\n",
       "      <td>0.249528</td>\n",
       "      <td>12712</td>\n",
       "      <td>0.217493</td>\n",
       "      <td>0.001175</td>\n",
       "      <td>0.001175</td>\n",
       "      <td>(754.8, 18218.0]</td>\n",
       "      <td>0.001668</td>\n",
       "      <td>0.000493</td>\n",
       "    </tr>\n",
       "    <tr>\n",
       "      <th>1163</th>\n",
       "      <td>811111</td>\n",
       "      <td>81</td>\n",
       "      <td>0.157399</td>\n",
       "      <td>0.157942</td>\n",
       "      <td>0.155980</td>\n",
       "      <td>9264</td>\n",
       "      <td>0.202440</td>\n",
       "      <td>-0.000544</td>\n",
       "      <td>0.000544</td>\n",
       "      <td>(754.8, 18218.0]</td>\n",
       "      <td>0.001419</td>\n",
       "      <td>0.001962</td>\n",
       "    </tr>\n",
       "    <tr>\n",
       "      <th>1088</th>\n",
       "      <td>621210</td>\n",
       "      <td>62</td>\n",
       "      <td>0.042941</td>\n",
       "      <td>0.044679</td>\n",
       "      <td>0.042125</td>\n",
       "      <td>8997</td>\n",
       "      <td>0.100900</td>\n",
       "      <td>-0.001738</td>\n",
       "      <td>0.001738</td>\n",
       "      <td>(754.8, 18218.0]</td>\n",
       "      <td>0.000816</td>\n",
       "      <td>0.002553</td>\n",
       "    </tr>\n",
       "    <tr>\n",
       "      <th>1120</th>\n",
       "      <td>624410</td>\n",
       "      <td>62</td>\n",
       "      <td>0.126796</td>\n",
       "      <td>0.124555</td>\n",
       "      <td>0.123912</td>\n",
       "      <td>6432</td>\n",
       "      <td>0.100900</td>\n",
       "      <td>0.002240</td>\n",
       "      <td>0.002240</td>\n",
       "      <td>(754.8, 18218.0]</td>\n",
       "      <td>0.002884</td>\n",
       "      <td>0.000643</td>\n",
       "    </tr>\n",
       "  </tbody>\n",
       "</table>\n",
       "</div>"
      ],
      "text/plain": [
       "       NAICS NAICS_sector  menc_NAICS  menc_grp_NAICS    target  count  \\\n",
       "1152  722110           72    0.240066        0.238818  0.237951  18218   \n",
       "1153  722211           72    0.251196        0.250021  0.249528  12712   \n",
       "1163  811111           81    0.157399        0.157942  0.155980   9264   \n",
       "1088  621210           62    0.042941        0.044679  0.042125   8997   \n",
       "1120  624410           62    0.126796        0.124555  0.123912   6432   \n",
       "\n",
       "      sector_mean      diff  diff_abs          quantile  tdiff_menc  \\\n",
       "1152     0.217493  0.001248  0.001248  (754.8, 18218.0]    0.002114   \n",
       "1153     0.217493  0.001175  0.001175  (754.8, 18218.0]    0.001668   \n",
       "1163     0.202440 -0.000544  0.000544  (754.8, 18218.0]    0.001419   \n",
       "1088     0.100900 -0.001738  0.001738  (754.8, 18218.0]    0.000816   \n",
       "1120     0.100900  0.002240  0.002240  (754.8, 18218.0]    0.002884   \n",
       "\n",
       "      tdiff_menc_grp  \n",
       "1152        0.000866  \n",
       "1153        0.000493  \n",
       "1163        0.001962  \n",
       "1088        0.002553  \n",
       "1120        0.000643  "
      ]
     },
     "execution_count": 80,
     "metadata": {},
     "output_type": "execute_result"
    }
   ],
   "source": [
    "naics_menc_info.sort_values('count', ascending=False).head(5)"
   ]
  },
  {
   "cell_type": "code",
   "execution_count": 73,
   "id": "0a9d60da-3fd4-429f-a8df-da7698d4f173",
   "metadata": {},
   "outputs": [
    {
     "data": {
      "text/plain": [
       "0.20307382152943884"
      ]
     },
     "execution_count": 73,
     "metadata": {},
     "output_type": "execute_result"
    }
   ],
   "source": [
    "train_df['target'].mean()"
   ]
  },
  {
   "cell_type": "code",
   "execution_count": 74,
   "id": "105838a2-6541-4d41-b9cf-1f99858c8d50",
   "metadata": {},
   "outputs": [],
   "source": [
    "naics_menc_info['tdiff_menc'] = np.abs(naics_menc_info['target'] - naics_menc_info['menc_NAICS'])\n",
    "naics_menc_info['tdiff_menc_grp'] = np.abs(naics_menc_info['target'] - naics_menc_info['menc_grp_NAICS'])"
   ]
  },
  {
   "cell_type": "code",
   "execution_count": 75,
   "id": "f3a9fbcb-e526-4eb9-8716-cc67959675ff",
   "metadata": {},
   "outputs": [
    {
     "data": {
      "image/png": "[encoded data removed]",
      "text/plain": [
       "<Figure size 640x480 with 1 Axes>"
      ]
     },
     "metadata": {},
     "output_type": "display_data"
    }
   ],
   "source": [
    "naics_menc_info.groupby('quantile')  \\\n",
    "    [['tdiff_menc', 'tdiff_menc_grp']] \\\n",
    "    .agg('median') \\\n",
    "    .plot()\n",
    "_ = plt.xticks(rotation=45, ha='right')"
   ]
  },
  {
   "cell_type": "code",
   "execution_count": 76,
   "id": "25ca4cdb-4146-4ccc-a93b-513ab0c0ac9c",
   "metadata": {},
   "outputs": [
    {
     "data": {
      "text/html": [
       "<div>\n",
       "<style scoped>\n",
       "    .dataframe tbody tr th:only-of-type {\n",
       "        vertical-align: middle;\n",
       "    }\n",
       "\n",
       "    .dataframe tbody tr th {\n",
       "        vertical-align: top;\n",
       "    }\n",
       "\n",
       "    .dataframe thead th {\n",
       "        text-align: right;\n",
       "    }\n",
       "</style>\n",
       "<table border=\"1\" class=\"dataframe\">\n",
       "  <thead>\n",
       "    <tr style=\"text-align: right;\">\n",
       "      <th></th>\n",
       "      <th>menc_NAICS</th>\n",
       "      <th>menc_grp_NAICS</th>\n",
       "      <th>target</th>\n",
       "      <th>cenc_NAICS</th>\n",
       "    </tr>\n",
       "  </thead>\n",
       "  <tbody>\n",
       "    <tr>\n",
       "      <th>menc_NAICS</th>\n",
       "      <td>1.000000</td>\n",
       "      <td>0.990625</td>\n",
       "      <td>0.229278</td>\n",
       "      <td>-0.007333</td>\n",
       "    </tr>\n",
       "    <tr>\n",
       "      <th>menc_grp_NAICS</th>\n",
       "      <td>0.990625</td>\n",
       "      <td>1.000000</td>\n",
       "      <td>0.229983</td>\n",
       "      <td>-0.006708</td>\n",
       "    </tr>\n",
       "    <tr>\n",
       "      <th>target</th>\n",
       "      <td>0.229278</td>\n",
       "      <td>0.229983</td>\n",
       "      <td>1.000000</td>\n",
       "      <td>-0.006684</td>\n",
       "    </tr>\n",
       "    <tr>\n",
       "      <th>cenc_NAICS</th>\n",
       "      <td>-0.007333</td>\n",
       "      <td>-0.006708</td>\n",
       "      <td>-0.006684</td>\n",
       "      <td>1.000000</td>\n",
       "    </tr>\n",
       "  </tbody>\n",
       "</table>\n",
       "</div>"
      ],
      "text/plain": [
       "                menc_NAICS  menc_grp_NAICS    target  cenc_NAICS\n",
       "menc_NAICS        1.000000        0.990625  0.229278   -0.007333\n",
       "menc_grp_NAICS    0.990625        1.000000  0.229983   -0.006708\n",
       "target            0.229278        0.229983  1.000000   -0.006684\n",
       "cenc_NAICS       -0.007333       -0.006708 -0.006684    1.000000"
      ]
     },
     "execution_count": 76,
     "metadata": {},
     "output_type": "execute_result"
    }
   ],
   "source": [
    "train_df[['menc_NAICS', 'menc_grp_NAICS', 'target', 'cenc_NAICS']].corr(method='spearman')"
   ]
  },
  {
   "cell_type": "code",
   "execution_count": 77,
   "id": "7bd0fd07-d23c-4ea9-b513-64ae48fdace1",
   "metadata": {},
   "outputs": [
    {
     "data": {
      "text/html": [
       "<div>\n",
       "<style scoped>\n",
       "    .dataframe tbody tr th:only-of-type {\n",
       "        vertical-align: middle;\n",
       "    }\n",
       "\n",
       "    .dataframe tbody tr th {\n",
       "        vertical-align: top;\n",
       "    }\n",
       "\n",
       "    .dataframe thead th {\n",
       "        text-align: right;\n",
       "    }\n",
       "</style>\n",
       "<table border=\"1\" class=\"dataframe\">\n",
       "  <thead>\n",
       "    <tr style=\"text-align: right;\">\n",
       "      <th></th>\n",
       "      <th>menc_NAICS</th>\n",
       "      <th>menc_grp_NAICS</th>\n",
       "      <th>target</th>\n",
       "      <th>cenc_NAICS</th>\n",
       "    </tr>\n",
       "  </thead>\n",
       "  <tbody>\n",
       "    <tr>\n",
       "      <th>menc_NAICS</th>\n",
       "      <td>1.000000</td>\n",
       "      <td>0.988057</td>\n",
       "      <td>0.222813</td>\n",
       "      <td>-0.013355</td>\n",
       "    </tr>\n",
       "    <tr>\n",
       "      <th>menc_grp_NAICS</th>\n",
       "      <td>0.988057</td>\n",
       "      <td>1.000000</td>\n",
       "      <td>0.219777</td>\n",
       "      <td>-0.019527</td>\n",
       "    </tr>\n",
       "    <tr>\n",
       "      <th>target</th>\n",
       "      <td>0.222813</td>\n",
       "      <td>0.219777</td>\n",
       "      <td>1.000000</td>\n",
       "      <td>-0.001240</td>\n",
       "    </tr>\n",
       "    <tr>\n",
       "      <th>cenc_NAICS</th>\n",
       "      <td>-0.013355</td>\n",
       "      <td>-0.019527</td>\n",
       "      <td>-0.001240</td>\n",
       "      <td>1.000000</td>\n",
       "    </tr>\n",
       "  </tbody>\n",
       "</table>\n",
       "</div>"
      ],
      "text/plain": [
       "                menc_NAICS  menc_grp_NAICS    target  cenc_NAICS\n",
       "menc_NAICS        1.000000        0.988057  0.222813   -0.013355\n",
       "menc_grp_NAICS    0.988057        1.000000  0.219777   -0.019527\n",
       "target            0.222813        0.219777  1.000000   -0.001240\n",
       "cenc_NAICS       -0.013355       -0.019527 -0.001240    1.000000"
      ]
     },
     "execution_count": 77,
     "metadata": {},
     "output_type": "execute_result"
    }
   ],
   "source": [
    "sba_loans[sba_loans['dset'] != 'train'] [['menc_NAICS', 'menc_grp_NAICS', 'target', 'cenc_NAICS']].corr()"
   ]
  },
  {
   "cell_type": "code",
   "execution_count": null,
   "id": "60e9c7ea-c36b-4cfa-833f-87f1b657438f",
   "metadata": {},
   "outputs": [],
   "source": []
  }
 ],
 "metadata": {
  "kernelspec": {
   "display_name": "tf_p39",
   "language": "python",
   "name": "tf_p39"
  },
  "language_info": {
   "codemirror_mode": {
    "name": "ipython",
    "version": 3
   },
   "file_extension": ".py",
   "mimetype": "text/x-python",
   "name": "python",
   "nbconvert_exporter": "python",
   "pygments_lexer": "ipython3",
   "version": "3.8.18"
  }
 },
 "nbformat": 4,
 "nbformat_minor": 5
}
