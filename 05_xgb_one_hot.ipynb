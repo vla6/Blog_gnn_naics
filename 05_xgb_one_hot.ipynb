{
 "cells": [
  {
   "cell_type": "code",
   "execution_count": 1,
   "id": "4c65f557-651f-4958-a567-a1b6b5a82b2b",
   "metadata": {
    "tags": []
   },
   "outputs": [],
   "source": [
    "# Modify the file 00_setup.py to define input/output file paths on your system\n",
    "# The information in 00_setup.py will be used across notebooks\n",
    "from importlib.machinery import SourceFileLoader\n",
    "setup = SourceFileLoader(\"setup\", \"./00_setup.py\").load_module()"
   ]
  },
  {
   "cell_type": "markdown",
   "id": "b01d0fdb-d4bf-465a-8541-997addc50b0c",
   "metadata": {},
   "source": [
    "# 05: XGBoost with one-hot NAICS \n",
    "XGBoost model, one hot encoded NAICS sector"
   ]
  },
  {
   "cell_type": "markdown",
   "id": "56161f89-1f54-47f9-860d-3f945a941c1f",
   "metadata": {},
   "source": [
    "*This script takes about 5 minutes on my MacBook Air*"
   ]
  },
  {
   "cell_type": "code",
   "execution_count": 2,
   "id": "ec6b1778-7abc-4129-ab5f-ac2992bd8ca6",
   "metadata": {},
   "outputs": [],
   "source": [
    "import pandas as pd\n",
    "import numpy as np\n",
    "import xgboost as xgb\n",
    "import warnings\n",
    "import matplotlib.pyplot as plt\n",
    "import pickle"
   ]
  },
  {
   "cell_type": "code",
   "execution_count": 3,
   "id": "785af927-a634-4e34-84c4-7a532236f2ca",
   "metadata": {},
   "outputs": [],
   "source": [
    "from pathlib import Path"
   ]
  },
  {
   "cell_type": "code",
   "execution_count": 4,
   "id": "fd09527b-32dd-47fa-b62f-f9307f89f553",
   "metadata": {},
   "outputs": [],
   "source": [
    "import sklearn as sk\n",
    "from sklearn.model_selection import RandomizedSearchCV\n",
    "from sklearn.inspection import permutation_importance, partial_dependence\n",
    "from scikitplot.metrics import plot_lift_curve"
   ]
  },
  {
   "cell_type": "code",
   "execution_count": 5,
   "id": "0732ba40-8318-457b-b29f-f9b6de3b70aa",
   "metadata": {},
   "outputs": [],
   "source": [
    "from sba_gnn.sba_gnn import sg_plot "
   ]
  },
  {
   "cell_type": "markdown",
   "id": "d14a5947-6599-4253-acf3-91ddeffdedd3",
   "metadata": {},
   "source": [
    "## Import Processed Datasets"
   ]
  },
  {
   "cell_type": "code",
   "execution_count": 6,
   "id": "f6bc5cc5-b635-420f-852c-6cc9bba68a52",
   "metadata": {},
   "outputs": [],
   "source": [
    "sba_loans = pd.read_parquet(Path(setup.temp_path).joinpath('01_DATA_transformed.parquet'))"
   ]
  },
  {
   "cell_type": "code",
   "execution_count": 7,
   "id": "a5f6c362-c1ab-48d8-812b-2b970b06586b",
   "metadata": {},
   "outputs": [],
   "source": [
    "train_df = sba_loans[sba_loans['dset'] == 'train'].copy()\n",
    "test_df = sba_loans[sba_loans['dset'] == 'test']\n",
    "val_df = sba_loans[sba_loans['dset'] == 'val']"
   ]
  },
  {
   "cell_type": "code",
   "execution_count": 8,
   "id": "7b1db53b-181c-450d-9f7e-be350bc3111f",
   "metadata": {},
   "outputs": [
    {
     "data": {
      "text/plain": [
       "(425594, 49)"
      ]
     },
     "execution_count": 8,
     "metadata": {},
     "output_type": "execute_result"
    }
   ],
   "source": [
    "train_df.shape"
   ]
  },
  {
   "cell_type": "code",
   "execution_count": 9,
   "id": "a6d13f46-cfc4-4351-a2a9-89fa42d34999",
   "metadata": {},
   "outputs": [
    {
     "data": {
      "text/plain": [
       "(425594, 49)"
      ]
     },
     "execution_count": 9,
     "metadata": {},
     "output_type": "execute_result"
    }
   ],
   "source": [
    "train_df.drop_duplicates('LoanNr_ChkDgt').shape"
   ]
  },
  {
   "cell_type": "markdown",
   "id": "f2160b50-1e22-44f0-915b-0241ebcd45d4",
   "metadata": {},
   "source": [
    "#### Set the predictor features.  Include one-hot NAICS"
   ]
  },
  {
   "cell_type": "code",
   "execution_count": 10,
   "id": "c07ddd4e-6987-454a-926a-3b59abf6caa6",
   "metadata": {},
   "outputs": [
    {
     "name": "stdout",
     "output_type": "stream",
     "text": [
      "['NoEmp', 'CreateJob', 'LowDoc', 'DisbursementGross', 'new_business', 'urban_flag', 'franchise_flag', 'NS___Accommodation and Food Services', 'NS___Construction', 'NS___Health Care and Social Assistance', 'NS___Manufacturing', 'NS___Other Services (except Public Administration)', 'NS___Professional, Scientific, and Technical Services', 'NS___Retail Trade', 'NS___Wholesale Trade', 'NS___infrequent_sklearn']\n"
     ]
    }
   ],
   "source": [
    "predictor_features = setup.predictor_features + [c for c in train_df.columns if c.startswith('NS__')]\n",
    "print(predictor_features)"
   ]
  },
  {
   "cell_type": "code",
   "execution_count": 11,
   "id": "51a66d4e-7977-4c8d-847e-e8fc0b5d8923",
   "metadata": {},
   "outputs": [
    {
     "data": {
      "text/html": [
       "<div>\n",
       "<style scoped>\n",
       "    .dataframe tbody tr th:only-of-type {\n",
       "        vertical-align: middle;\n",
       "    }\n",
       "\n",
       "    .dataframe tbody tr th {\n",
       "        vertical-align: top;\n",
       "    }\n",
       "\n",
       "    .dataframe thead th {\n",
       "        text-align: right;\n",
       "    }\n",
       "</style>\n",
       "<table border=\"1\" class=\"dataframe\">\n",
       "  <thead>\n",
       "    <tr style=\"text-align: right;\">\n",
       "      <th></th>\n",
       "      <th>NoEmp</th>\n",
       "      <th>CreateJob</th>\n",
       "      <th>LowDoc</th>\n",
       "      <th>DisbursementGross</th>\n",
       "      <th>new_business</th>\n",
       "      <th>urban_flag</th>\n",
       "      <th>franchise_flag</th>\n",
       "      <th>NS___Accommodation and Food Services</th>\n",
       "      <th>NS___Construction</th>\n",
       "      <th>NS___Health Care and Social Assistance</th>\n",
       "      <th>NS___Manufacturing</th>\n",
       "      <th>NS___Other Services (except Public Administration)</th>\n",
       "      <th>NS___Professional, Scientific, and Technical Services</th>\n",
       "      <th>NS___Retail Trade</th>\n",
       "      <th>NS___Wholesale Trade</th>\n",
       "      <th>NS___infrequent_sklearn</th>\n",
       "    </tr>\n",
       "  </thead>\n",
       "  <tbody>\n",
       "    <tr>\n",
       "      <th>count</th>\n",
       "      <td>425594.000000</td>\n",
       "      <td>425594.000000</td>\n",
       "      <td>422477.000000</td>\n",
       "      <td>4.255940e+05</td>\n",
       "      <td>425050.000000</td>\n",
       "      <td>342255.000000</td>\n",
       "      <td>425594.000000</td>\n",
       "      <td>425594.000000</td>\n",
       "      <td>425594.000000</td>\n",
       "      <td>425594.000000</td>\n",
       "      <td>425594.000000</td>\n",
       "      <td>425594.000000</td>\n",
       "      <td>425594.000000</td>\n",
       "      <td>425594.000000</td>\n",
       "      <td>425594.000000</td>\n",
       "      <td>425594.00000</td>\n",
       "    </tr>\n",
       "    <tr>\n",
       "      <th>mean</th>\n",
       "      <td>9.758920</td>\n",
       "      <td>2.172277</td>\n",
       "      <td>0.097807</td>\n",
       "      <td>1.949280e+05</td>\n",
       "      <td>0.279906</td>\n",
       "      <td>0.814930</td>\n",
       "      <td>0.050858</td>\n",
       "      <td>0.100688</td>\n",
       "      <td>0.091348</td>\n",
       "      <td>0.081202</td>\n",
       "      <td>0.097194</td>\n",
       "      <td>0.099376</td>\n",
       "      <td>0.098270</td>\n",
       "      <td>0.186220</td>\n",
       "      <td>0.067374</td>\n",
       "      <td>0.17833</td>\n",
       "    </tr>\n",
       "    <tr>\n",
       "      <th>std</th>\n",
       "      <td>63.011166</td>\n",
       "      <td>15.140139</td>\n",
       "      <td>0.297053</td>\n",
       "      <td>2.994808e+05</td>\n",
       "      <td>0.448953</td>\n",
       "      <td>0.388355</td>\n",
       "      <td>0.219709</td>\n",
       "      <td>0.300915</td>\n",
       "      <td>0.288103</td>\n",
       "      <td>0.273145</td>\n",
       "      <td>0.296222</td>\n",
       "      <td>0.299167</td>\n",
       "      <td>0.297679</td>\n",
       "      <td>0.389284</td>\n",
       "      <td>0.250669</td>\n",
       "      <td>0.38279</td>\n",
       "    </tr>\n",
       "    <tr>\n",
       "      <th>min</th>\n",
       "      <td>0.000000</td>\n",
       "      <td>0.000000</td>\n",
       "      <td>0.000000</td>\n",
       "      <td>4.000000e+03</td>\n",
       "      <td>0.000000</td>\n",
       "      <td>0.000000</td>\n",
       "      <td>0.000000</td>\n",
       "      <td>0.000000</td>\n",
       "      <td>0.000000</td>\n",
       "      <td>0.000000</td>\n",
       "      <td>0.000000</td>\n",
       "      <td>0.000000</td>\n",
       "      <td>0.000000</td>\n",
       "      <td>0.000000</td>\n",
       "      <td>0.000000</td>\n",
       "      <td>0.00000</td>\n",
       "    </tr>\n",
       "    <tr>\n",
       "      <th>25%</th>\n",
       "      <td>2.000000</td>\n",
       "      <td>0.000000</td>\n",
       "      <td>0.000000</td>\n",
       "      <td>3.600000e+04</td>\n",
       "      <td>0.000000</td>\n",
       "      <td>1.000000</td>\n",
       "      <td>0.000000</td>\n",
       "      <td>0.000000</td>\n",
       "      <td>0.000000</td>\n",
       "      <td>0.000000</td>\n",
       "      <td>0.000000</td>\n",
       "      <td>0.000000</td>\n",
       "      <td>0.000000</td>\n",
       "      <td>0.000000</td>\n",
       "      <td>0.000000</td>\n",
       "      <td>0.00000</td>\n",
       "    </tr>\n",
       "    <tr>\n",
       "      <th>50%</th>\n",
       "      <td>4.000000</td>\n",
       "      <td>0.000000</td>\n",
       "      <td>0.000000</td>\n",
       "      <td>9.000000e+04</td>\n",
       "      <td>0.000000</td>\n",
       "      <td>1.000000</td>\n",
       "      <td>0.000000</td>\n",
       "      <td>0.000000</td>\n",
       "      <td>0.000000</td>\n",
       "      <td>0.000000</td>\n",
       "      <td>0.000000</td>\n",
       "      <td>0.000000</td>\n",
       "      <td>0.000000</td>\n",
       "      <td>0.000000</td>\n",
       "      <td>0.000000</td>\n",
       "      <td>0.00000</td>\n",
       "    </tr>\n",
       "    <tr>\n",
       "      <th>75%</th>\n",
       "      <td>9.000000</td>\n",
       "      <td>2.000000</td>\n",
       "      <td>0.000000</td>\n",
       "      <td>2.157000e+05</td>\n",
       "      <td>1.000000</td>\n",
       "      <td>1.000000</td>\n",
       "      <td>0.000000</td>\n",
       "      <td>0.000000</td>\n",
       "      <td>0.000000</td>\n",
       "      <td>0.000000</td>\n",
       "      <td>0.000000</td>\n",
       "      <td>0.000000</td>\n",
       "      <td>0.000000</td>\n",
       "      <td>0.000000</td>\n",
       "      <td>0.000000</td>\n",
       "      <td>0.00000</td>\n",
       "    </tr>\n",
       "    <tr>\n",
       "      <th>max</th>\n",
       "      <td>9992.000000</td>\n",
       "      <td>5621.000000</td>\n",
       "      <td>1.000000</td>\n",
       "      <td>1.144632e+07</td>\n",
       "      <td>1.000000</td>\n",
       "      <td>1.000000</td>\n",
       "      <td>1.000000</td>\n",
       "      <td>1.000000</td>\n",
       "      <td>1.000000</td>\n",
       "      <td>1.000000</td>\n",
       "      <td>1.000000</td>\n",
       "      <td>1.000000</td>\n",
       "      <td>1.000000</td>\n",
       "      <td>1.000000</td>\n",
       "      <td>1.000000</td>\n",
       "      <td>1.00000</td>\n",
       "    </tr>\n",
       "  </tbody>\n",
       "</table>\n",
       "</div>"
      ],
      "text/plain": [
       "               NoEmp      CreateJob         LowDoc  DisbursementGross  \\\n",
       "count  425594.000000  425594.000000  422477.000000       4.255940e+05   \n",
       "mean        9.758920       2.172277       0.097807       1.949280e+05   \n",
       "std        63.011166      15.140139       0.297053       2.994808e+05   \n",
       "min         0.000000       0.000000       0.000000       4.000000e+03   \n",
       "25%         2.000000       0.000000       0.000000       3.600000e+04   \n",
       "50%         4.000000       0.000000       0.000000       9.000000e+04   \n",
       "75%         9.000000       2.000000       0.000000       2.157000e+05   \n",
       "max      9992.000000    5621.000000       1.000000       1.144632e+07   \n",
       "\n",
       "        new_business     urban_flag  franchise_flag  \\\n",
       "count  425050.000000  342255.000000   425594.000000   \n",
       "mean        0.279906       0.814930        0.050858   \n",
       "std         0.448953       0.388355        0.219709   \n",
       "min         0.000000       0.000000        0.000000   \n",
       "25%         0.000000       1.000000        0.000000   \n",
       "50%         0.000000       1.000000        0.000000   \n",
       "75%         1.000000       1.000000        0.000000   \n",
       "max         1.000000       1.000000        1.000000   \n",
       "\n",
       "       NS___Accommodation and Food Services  NS___Construction  \\\n",
       "count                         425594.000000      425594.000000   \n",
       "mean                               0.100688           0.091348   \n",
       "std                                0.300915           0.288103   \n",
       "min                                0.000000           0.000000   \n",
       "25%                                0.000000           0.000000   \n",
       "50%                                0.000000           0.000000   \n",
       "75%                                0.000000           0.000000   \n",
       "max                                1.000000           1.000000   \n",
       "\n",
       "       NS___Health Care and Social Assistance  NS___Manufacturing  \\\n",
       "count                           425594.000000       425594.000000   \n",
       "mean                                 0.081202            0.097194   \n",
       "std                                  0.273145            0.296222   \n",
       "min                                  0.000000            0.000000   \n",
       "25%                                  0.000000            0.000000   \n",
       "50%                                  0.000000            0.000000   \n",
       "75%                                  0.000000            0.000000   \n",
       "max                                  1.000000            1.000000   \n",
       "\n",
       "       NS___Other Services (except Public Administration)  \\\n",
       "count                                      425594.000000    \n",
       "mean                                            0.099376    \n",
       "std                                             0.299167    \n",
       "min                                             0.000000    \n",
       "25%                                             0.000000    \n",
       "50%                                             0.000000    \n",
       "75%                                             0.000000    \n",
       "max                                             1.000000    \n",
       "\n",
       "       NS___Professional, Scientific, and Technical Services  \\\n",
       "count                                      425594.000000       \n",
       "mean                                            0.098270       \n",
       "std                                             0.297679       \n",
       "min                                             0.000000       \n",
       "25%                                             0.000000       \n",
       "50%                                             0.000000       \n",
       "75%                                             0.000000       \n",
       "max                                             1.000000       \n",
       "\n",
       "       NS___Retail Trade  NS___Wholesale Trade  NS___infrequent_sklearn  \n",
       "count      425594.000000         425594.000000             425594.00000  \n",
       "mean            0.186220              0.067374                  0.17833  \n",
       "std             0.389284              0.250669                  0.38279  \n",
       "min             0.000000              0.000000                  0.00000  \n",
       "25%             0.000000              0.000000                  0.00000  \n",
       "50%             0.000000              0.000000                  0.00000  \n",
       "75%             0.000000              0.000000                  0.00000  \n",
       "max             1.000000              1.000000                  1.00000  "
      ]
     },
     "execution_count": 11,
     "metadata": {},
     "output_type": "execute_result"
    }
   ],
   "source": [
    "train_df[predictor_features].describe()"
   ]
  },
  {
   "cell_type": "code",
   "execution_count": 12,
   "id": "2a4f4a9e-f7e5-4143-b1e4-b5fbb5f7280d",
   "metadata": {},
   "outputs": [
    {
     "data": {
      "text/html": [
       "<div>\n",
       "<style scoped>\n",
       "    .dataframe tbody tr th:only-of-type {\n",
       "        vertical-align: middle;\n",
       "    }\n",
       "\n",
       "    .dataframe tbody tr th {\n",
       "        vertical-align: top;\n",
       "    }\n",
       "\n",
       "    .dataframe thead th {\n",
       "        text-align: right;\n",
       "    }\n",
       "</style>\n",
       "<table border=\"1\" class=\"dataframe\">\n",
       "  <thead>\n",
       "    <tr style=\"text-align: right;\">\n",
       "      <th></th>\n",
       "      <th>NoEmp</th>\n",
       "      <th>CreateJob</th>\n",
       "      <th>LowDoc</th>\n",
       "      <th>DisbursementGross</th>\n",
       "      <th>new_business</th>\n",
       "      <th>urban_flag</th>\n",
       "      <th>franchise_flag</th>\n",
       "      <th>NS___Accommodation and Food Services</th>\n",
       "      <th>NS___Construction</th>\n",
       "      <th>NS___Health Care and Social Assistance</th>\n",
       "      <th>NS___Manufacturing</th>\n",
       "      <th>NS___Other Services (except Public Administration)</th>\n",
       "      <th>NS___Professional, Scientific, and Technical Services</th>\n",
       "      <th>NS___Retail Trade</th>\n",
       "      <th>NS___Wholesale Trade</th>\n",
       "      <th>NS___infrequent_sklearn</th>\n",
       "      <th>target</th>\n",
       "    </tr>\n",
       "  </thead>\n",
       "  <tbody>\n",
       "    <tr>\n",
       "      <th>NoEmp</th>\n",
       "      <td>1.000000</td>\n",
       "      <td>0.052510</td>\n",
       "      <td>-0.009243</td>\n",
       "      <td>0.093125</td>\n",
       "      <td>-0.038672</td>\n",
       "      <td>0.002058</td>\n",
       "      <td>0.006517</td>\n",
       "      <td>0.014581</td>\n",
       "      <td>0.005411</td>\n",
       "      <td>-0.004541</td>\n",
       "      <td>0.040973</td>\n",
       "      <td>-0.012772</td>\n",
       "      <td>-0.012733</td>\n",
       "      <td>-0.020773</td>\n",
       "      <td>0.002501</td>\n",
       "      <td>-0.004631</td>\n",
       "      <td>-0.027838</td>\n",
       "    </tr>\n",
       "    <tr>\n",
       "      <th>CreateJob</th>\n",
       "      <td>0.052510</td>\n",
       "      <td>1.000000</td>\n",
       "      <td>-0.046967</td>\n",
       "      <td>0.101755</td>\n",
       "      <td>0.028831</td>\n",
       "      <td>0.009019</td>\n",
       "      <td>0.036918</td>\n",
       "      <td>0.058003</td>\n",
       "      <td>-0.007401</td>\n",
       "      <td>-0.003143</td>\n",
       "      <td>0.014351</td>\n",
       "      <td>-0.012840</td>\n",
       "      <td>-0.008465</td>\n",
       "      <td>-0.022503</td>\n",
       "      <td>-0.007765</td>\n",
       "      <td>-0.004302</td>\n",
       "      <td>-0.009540</td>\n",
       "    </tr>\n",
       "    <tr>\n",
       "      <th>LowDoc</th>\n",
       "      <td>-0.009243</td>\n",
       "      <td>-0.046967</td>\n",
       "      <td>1.000000</td>\n",
       "      <td>-0.133731</td>\n",
       "      <td>0.154037</td>\n",
       "      <td>-0.119292</td>\n",
       "      <td>0.039258</td>\n",
       "      <td>0.008316</td>\n",
       "      <td>-0.028827</td>\n",
       "      <td>0.022709</td>\n",
       "      <td>-0.013189</td>\n",
       "      <td>0.019163</td>\n",
       "      <td>-0.025113</td>\n",
       "      <td>0.048167</td>\n",
       "      <td>-0.026173</td>\n",
       "      <td>-0.018175</td>\n",
       "      <td>-0.076836</td>\n",
       "    </tr>\n",
       "    <tr>\n",
       "      <th>DisbursementGross</th>\n",
       "      <td>0.093125</td>\n",
       "      <td>0.101755</td>\n",
       "      <td>-0.133731</td>\n",
       "      <td>1.000000</td>\n",
       "      <td>-0.067410</td>\n",
       "      <td>-0.006023</td>\n",
       "      <td>0.082087</td>\n",
       "      <td>0.072254</td>\n",
       "      <td>-0.042739</td>\n",
       "      <td>0.018038</td>\n",
       "      <td>0.092656</td>\n",
       "      <td>-0.037655</td>\n",
       "      <td>-0.040415</td>\n",
       "      <td>-0.034466</td>\n",
       "      <td>0.056302</td>\n",
       "      <td>-0.050165</td>\n",
       "      <td>-0.122857</td>\n",
       "    </tr>\n",
       "    <tr>\n",
       "      <th>new_business</th>\n",
       "      <td>-0.038672</td>\n",
       "      <td>0.028831</td>\n",
       "      <td>0.154037</td>\n",
       "      <td>-0.067410</td>\n",
       "      <td>1.000000</td>\n",
       "      <td>-0.046626</td>\n",
       "      <td>0.136142</td>\n",
       "      <td>0.107992</td>\n",
       "      <td>-0.073849</td>\n",
       "      <td>0.050418</td>\n",
       "      <td>-0.059357</td>\n",
       "      <td>0.026642</td>\n",
       "      <td>-0.035170</td>\n",
       "      <td>0.027689</td>\n",
       "      <td>-0.062140</td>\n",
       "      <td>-0.000276</td>\n",
       "      <td>0.014277</td>\n",
       "    </tr>\n",
       "    <tr>\n",
       "      <th>urban_flag</th>\n",
       "      <td>0.002058</td>\n",
       "      <td>0.009019</td>\n",
       "      <td>-0.119292</td>\n",
       "      <td>-0.006023</td>\n",
       "      <td>-0.046626</td>\n",
       "      <td>1.000000</td>\n",
       "      <td>-0.004093</td>\n",
       "      <td>-0.025335</td>\n",
       "      <td>-0.025977</td>\n",
       "      <td>0.016332</td>\n",
       "      <td>-0.019316</td>\n",
       "      <td>0.020045</td>\n",
       "      <td>0.056243</td>\n",
       "      <td>-0.008973</td>\n",
       "      <td>0.033228</td>\n",
       "      <td>-0.026005</td>\n",
       "      <td>0.054391</td>\n",
       "    </tr>\n",
       "    <tr>\n",
       "      <th>franchise_flag</th>\n",
       "      <td>0.006517</td>\n",
       "      <td>0.036918</td>\n",
       "      <td>0.039258</td>\n",
       "      <td>0.082087</td>\n",
       "      <td>0.136142</td>\n",
       "      <td>-0.004093</td>\n",
       "      <td>1.000000</td>\n",
       "      <td>0.270444</td>\n",
       "      <td>-0.062259</td>\n",
       "      <td>-0.044932</td>\n",
       "      <td>-0.051366</td>\n",
       "      <td>0.012512</td>\n",
       "      <td>-0.061328</td>\n",
       "      <td>0.002645</td>\n",
       "      <td>-0.053386</td>\n",
       "      <td>-0.023746</td>\n",
       "      <td>-0.011047</td>\n",
       "    </tr>\n",
       "    <tr>\n",
       "      <th>NS___Accommodation and Food Services</th>\n",
       "      <td>0.014581</td>\n",
       "      <td>0.058003</td>\n",
       "      <td>0.008316</td>\n",
       "      <td>0.072254</td>\n",
       "      <td>0.107992</td>\n",
       "      <td>-0.025335</td>\n",
       "      <td>0.270444</td>\n",
       "      <td>1.000000</td>\n",
       "      <td>-0.106092</td>\n",
       "      <td>-0.099473</td>\n",
       "      <td>-0.109788</td>\n",
       "      <td>-0.111148</td>\n",
       "      <td>-0.110460</td>\n",
       "      <td>-0.160063</td>\n",
       "      <td>-0.089934</td>\n",
       "      <td>-0.155882</td>\n",
       "      <td>0.011993</td>\n",
       "    </tr>\n",
       "    <tr>\n",
       "      <th>NS___Construction</th>\n",
       "      <td>0.005411</td>\n",
       "      <td>-0.007401</td>\n",
       "      <td>-0.028827</td>\n",
       "      <td>-0.042739</td>\n",
       "      <td>-0.073849</td>\n",
       "      <td>-0.025977</td>\n",
       "      <td>-0.062259</td>\n",
       "      <td>-0.106092</td>\n",
       "      <td>1.000000</td>\n",
       "      <td>-0.094259</td>\n",
       "      <td>-0.104033</td>\n",
       "      <td>-0.105322</td>\n",
       "      <td>-0.104670</td>\n",
       "      <td>-0.151673</td>\n",
       "      <td>-0.085220</td>\n",
       "      <td>-0.147711</td>\n",
       "      <td>0.033514</td>\n",
       "    </tr>\n",
       "    <tr>\n",
       "      <th>NS___Health Care and Social Assistance</th>\n",
       "      <td>-0.004541</td>\n",
       "      <td>-0.003143</td>\n",
       "      <td>0.022709</td>\n",
       "      <td>0.018038</td>\n",
       "      <td>0.050418</td>\n",
       "      <td>0.016332</td>\n",
       "      <td>-0.044932</td>\n",
       "      <td>-0.099473</td>\n",
       "      <td>-0.094259</td>\n",
       "      <td>1.000000</td>\n",
       "      <td>-0.097543</td>\n",
       "      <td>-0.098751</td>\n",
       "      <td>-0.098140</td>\n",
       "      <td>-0.142211</td>\n",
       "      <td>-0.079903</td>\n",
       "      <td>-0.138495</td>\n",
       "      <td>-0.075505</td>\n",
       "    </tr>\n",
       "    <tr>\n",
       "      <th>NS___Manufacturing</th>\n",
       "      <td>0.040973</td>\n",
       "      <td>0.014351</td>\n",
       "      <td>-0.013189</td>\n",
       "      <td>0.092656</td>\n",
       "      <td>-0.059357</td>\n",
       "      <td>-0.019316</td>\n",
       "      <td>-0.051366</td>\n",
       "      <td>-0.109788</td>\n",
       "      <td>-0.104033</td>\n",
       "      <td>-0.097543</td>\n",
       "      <td>1.000000</td>\n",
       "      <td>-0.108991</td>\n",
       "      <td>-0.108316</td>\n",
       "      <td>-0.156957</td>\n",
       "      <td>-0.088189</td>\n",
       "      <td>-0.152857</td>\n",
       "      <td>-0.038866</td>\n",
       "    </tr>\n",
       "    <tr>\n",
       "      <th>NS___Other Services (except Public Administration)</th>\n",
       "      <td>-0.012772</td>\n",
       "      <td>-0.012840</td>\n",
       "      <td>0.019163</td>\n",
       "      <td>-0.037655</td>\n",
       "      <td>0.026642</td>\n",
       "      <td>0.020045</td>\n",
       "      <td>0.012512</td>\n",
       "      <td>-0.111148</td>\n",
       "      <td>-0.105322</td>\n",
       "      <td>-0.098751</td>\n",
       "      <td>-0.108991</td>\n",
       "      <td>1.000000</td>\n",
       "      <td>-0.109658</td>\n",
       "      <td>-0.158902</td>\n",
       "      <td>-0.089282</td>\n",
       "      <td>-0.154751</td>\n",
       "      <td>-0.000523</td>\n",
       "    </tr>\n",
       "    <tr>\n",
       "      <th>NS___Professional, Scientific, and Technical Services</th>\n",
       "      <td>-0.012733</td>\n",
       "      <td>-0.008465</td>\n",
       "      <td>-0.025113</td>\n",
       "      <td>-0.040415</td>\n",
       "      <td>-0.035170</td>\n",
       "      <td>0.056243</td>\n",
       "      <td>-0.061328</td>\n",
       "      <td>-0.110460</td>\n",
       "      <td>-0.104670</td>\n",
       "      <td>-0.098140</td>\n",
       "      <td>-0.108316</td>\n",
       "      <td>-0.109658</td>\n",
       "      <td>1.000000</td>\n",
       "      <td>-0.157918</td>\n",
       "      <td>-0.088729</td>\n",
       "      <td>-0.153792</td>\n",
       "      <td>-0.008872</td>\n",
       "    </tr>\n",
       "    <tr>\n",
       "      <th>NS___Retail Trade</th>\n",
       "      <td>-0.020773</td>\n",
       "      <td>-0.022503</td>\n",
       "      <td>0.048167</td>\n",
       "      <td>-0.034466</td>\n",
       "      <td>0.027689</td>\n",
       "      <td>-0.008973</td>\n",
       "      <td>0.002645</td>\n",
       "      <td>-0.160063</td>\n",
       "      <td>-0.151673</td>\n",
       "      <td>-0.142211</td>\n",
       "      <td>-0.156957</td>\n",
       "      <td>-0.158902</td>\n",
       "      <td>-0.157918</td>\n",
       "      <td>1.000000</td>\n",
       "      <td>-0.128574</td>\n",
       "      <td>-0.222855</td>\n",
       "      <td>0.027016</td>\n",
       "    </tr>\n",
       "    <tr>\n",
       "      <th>NS___Wholesale Trade</th>\n",
       "      <td>0.002501</td>\n",
       "      <td>-0.007765</td>\n",
       "      <td>-0.026173</td>\n",
       "      <td>0.056302</td>\n",
       "      <td>-0.062140</td>\n",
       "      <td>0.033228</td>\n",
       "      <td>-0.053386</td>\n",
       "      <td>-0.089934</td>\n",
       "      <td>-0.085220</td>\n",
       "      <td>-0.079903</td>\n",
       "      <td>-0.088189</td>\n",
       "      <td>-0.089282</td>\n",
       "      <td>-0.088729</td>\n",
       "      <td>-0.128574</td>\n",
       "      <td>1.000000</td>\n",
       "      <td>-0.125215</td>\n",
       "      <td>-0.008969</td>\n",
       "    </tr>\n",
       "    <tr>\n",
       "      <th>NS___infrequent_sklearn</th>\n",
       "      <td>-0.004631</td>\n",
       "      <td>-0.004302</td>\n",
       "      <td>-0.018175</td>\n",
       "      <td>-0.050165</td>\n",
       "      <td>-0.000276</td>\n",
       "      <td>-0.026005</td>\n",
       "      <td>-0.023746</td>\n",
       "      <td>-0.155882</td>\n",
       "      <td>-0.147711</td>\n",
       "      <td>-0.138495</td>\n",
       "      <td>-0.152857</td>\n",
       "      <td>-0.154751</td>\n",
       "      <td>-0.153792</td>\n",
       "      <td>-0.222855</td>\n",
       "      <td>-0.125215</td>\n",
       "      <td>1.000000</td>\n",
       "      <td>0.035010</td>\n",
       "    </tr>\n",
       "    <tr>\n",
       "      <th>target</th>\n",
       "      <td>-0.027838</td>\n",
       "      <td>-0.009540</td>\n",
       "      <td>-0.076836</td>\n",
       "      <td>-0.122857</td>\n",
       "      <td>0.014277</td>\n",
       "      <td>0.054391</td>\n",
       "      <td>-0.011047</td>\n",
       "      <td>0.011993</td>\n",
       "      <td>0.033514</td>\n",
       "      <td>-0.075505</td>\n",
       "      <td>-0.038866</td>\n",
       "      <td>-0.000523</td>\n",
       "      <td>-0.008872</td>\n",
       "      <td>0.027016</td>\n",
       "      <td>-0.008969</td>\n",
       "      <td>0.035010</td>\n",
       "      <td>1.000000</td>\n",
       "    </tr>\n",
       "  </tbody>\n",
       "</table>\n",
       "</div>"
      ],
      "text/plain": [
       "                                                       NoEmp  CreateJob  \\\n",
       "NoEmp                                               1.000000   0.052510   \n",
       "CreateJob                                           0.052510   1.000000   \n",
       "LowDoc                                             -0.009243  -0.046967   \n",
       "DisbursementGross                                   0.093125   0.101755   \n",
       "new_business                                       -0.038672   0.028831   \n",
       "urban_flag                                          0.002058   0.009019   \n",
       "franchise_flag                                      0.006517   0.036918   \n",
       "NS___Accommodation and Food Services                0.014581   0.058003   \n",
       "NS___Construction                                   0.005411  -0.007401   \n",
       "NS___Health Care and Social Assistance             -0.004541  -0.003143   \n",
       "NS___Manufacturing                                  0.040973   0.014351   \n",
       "NS___Other Services (except Public Administration) -0.012772  -0.012840   \n",
       "NS___Professional, Scientific, and Technical Se... -0.012733  -0.008465   \n",
       "NS___Retail Trade                                  -0.020773  -0.022503   \n",
       "NS___Wholesale Trade                                0.002501  -0.007765   \n",
       "NS___infrequent_sklearn                            -0.004631  -0.004302   \n",
       "target                                             -0.027838  -0.009540   \n",
       "\n",
       "                                                      LowDoc  \\\n",
       "NoEmp                                              -0.009243   \n",
       "CreateJob                                          -0.046967   \n",
       "LowDoc                                              1.000000   \n",
       "DisbursementGross                                  -0.133731   \n",
       "new_business                                        0.154037   \n",
       "urban_flag                                         -0.119292   \n",
       "franchise_flag                                      0.039258   \n",
       "NS___Accommodation and Food Services                0.008316   \n",
       "NS___Construction                                  -0.028827   \n",
       "NS___Health Care and Social Assistance              0.022709   \n",
       "NS___Manufacturing                                 -0.013189   \n",
       "NS___Other Services (except Public Administration)  0.019163   \n",
       "NS___Professional, Scientific, and Technical Se... -0.025113   \n",
       "NS___Retail Trade                                   0.048167   \n",
       "NS___Wholesale Trade                               -0.026173   \n",
       "NS___infrequent_sklearn                            -0.018175   \n",
       "target                                             -0.076836   \n",
       "\n",
       "                                                    DisbursementGross  \\\n",
       "NoEmp                                                        0.093125   \n",
       "CreateJob                                                    0.101755   \n",
       "LowDoc                                                      -0.133731   \n",
       "DisbursementGross                                            1.000000   \n",
       "new_business                                                -0.067410   \n",
       "urban_flag                                                  -0.006023   \n",
       "franchise_flag                                               0.082087   \n",
       "NS___Accommodation and Food Services                         0.072254   \n",
       "NS___Construction                                           -0.042739   \n",
       "NS___Health Care and Social Assistance                       0.018038   \n",
       "NS___Manufacturing                                           0.092656   \n",
       "NS___Other Services (except Public Administration)          -0.037655   \n",
       "NS___Professional, Scientific, and Technical Se...          -0.040415   \n",
       "NS___Retail Trade                                           -0.034466   \n",
       "NS___Wholesale Trade                                         0.056302   \n",
       "NS___infrequent_sklearn                                     -0.050165   \n",
       "target                                                      -0.122857   \n",
       "\n",
       "                                                    new_business  urban_flag  \\\n",
       "NoEmp                                                  -0.038672    0.002058   \n",
       "CreateJob                                               0.028831    0.009019   \n",
       "LowDoc                                                  0.154037   -0.119292   \n",
       "DisbursementGross                                      -0.067410   -0.006023   \n",
       "new_business                                            1.000000   -0.046626   \n",
       "urban_flag                                             -0.046626    1.000000   \n",
       "franchise_flag                                          0.136142   -0.004093   \n",
       "NS___Accommodation and Food Services                    0.107992   -0.025335   \n",
       "NS___Construction                                      -0.073849   -0.025977   \n",
       "NS___Health Care and Social Assistance                  0.050418    0.016332   \n",
       "NS___Manufacturing                                     -0.059357   -0.019316   \n",
       "NS___Other Services (except Public Administration)      0.026642    0.020045   \n",
       "NS___Professional, Scientific, and Technical Se...     -0.035170    0.056243   \n",
       "NS___Retail Trade                                       0.027689   -0.008973   \n",
       "NS___Wholesale Trade                                   -0.062140    0.033228   \n",
       "NS___infrequent_sklearn                                -0.000276   -0.026005   \n",
       "target                                                  0.014277    0.054391   \n",
       "\n",
       "                                                    franchise_flag  \\\n",
       "NoEmp                                                     0.006517   \n",
       "CreateJob                                                 0.036918   \n",
       "LowDoc                                                    0.039258   \n",
       "DisbursementGross                                         0.082087   \n",
       "new_business                                              0.136142   \n",
       "urban_flag                                               -0.004093   \n",
       "franchise_flag                                            1.000000   \n",
       "NS___Accommodation and Food Services                      0.270444   \n",
       "NS___Construction                                        -0.062259   \n",
       "NS___Health Care and Social Assistance                   -0.044932   \n",
       "NS___Manufacturing                                       -0.051366   \n",
       "NS___Other Services (except Public Administration)        0.012512   \n",
       "NS___Professional, Scientific, and Technical Se...       -0.061328   \n",
       "NS___Retail Trade                                         0.002645   \n",
       "NS___Wholesale Trade                                     -0.053386   \n",
       "NS___infrequent_sklearn                                  -0.023746   \n",
       "target                                                   -0.011047   \n",
       "\n",
       "                                                    NS___Accommodation and Food Services  \\\n",
       "NoEmp                                                                           0.014581   \n",
       "CreateJob                                                                       0.058003   \n",
       "LowDoc                                                                          0.008316   \n",
       "DisbursementGross                                                               0.072254   \n",
       "new_business                                                                    0.107992   \n",
       "urban_flag                                                                     -0.025335   \n",
       "franchise_flag                                                                  0.270444   \n",
       "NS___Accommodation and Food Services                                            1.000000   \n",
       "NS___Construction                                                              -0.106092   \n",
       "NS___Health Care and Social Assistance                                         -0.099473   \n",
       "NS___Manufacturing                                                             -0.109788   \n",
       "NS___Other Services (except Public Administration)                             -0.111148   \n",
       "NS___Professional, Scientific, and Technical Se...                             -0.110460   \n",
       "NS___Retail Trade                                                              -0.160063   \n",
       "NS___Wholesale Trade                                                           -0.089934   \n",
       "NS___infrequent_sklearn                                                        -0.155882   \n",
       "target                                                                          0.011993   \n",
       "\n",
       "                                                    NS___Construction  \\\n",
       "NoEmp                                                        0.005411   \n",
       "CreateJob                                                   -0.007401   \n",
       "LowDoc                                                      -0.028827   \n",
       "DisbursementGross                                           -0.042739   \n",
       "new_business                                                -0.073849   \n",
       "urban_flag                                                  -0.025977   \n",
       "franchise_flag                                              -0.062259   \n",
       "NS___Accommodation and Food Services                        -0.106092   \n",
       "NS___Construction                                            1.000000   \n",
       "NS___Health Care and Social Assistance                      -0.094259   \n",
       "NS___Manufacturing                                          -0.104033   \n",
       "NS___Other Services (except Public Administration)          -0.105322   \n",
       "NS___Professional, Scientific, and Technical Se...          -0.104670   \n",
       "NS___Retail Trade                                           -0.151673   \n",
       "NS___Wholesale Trade                                        -0.085220   \n",
       "NS___infrequent_sklearn                                     -0.147711   \n",
       "target                                                       0.033514   \n",
       "\n",
       "                                                    NS___Health Care and Social Assistance  \\\n",
       "NoEmp                                                                            -0.004541   \n",
       "CreateJob                                                                        -0.003143   \n",
       "LowDoc                                                                            0.022709   \n",
       "DisbursementGross                                                                 0.018038   \n",
       "new_business                                                                      0.050418   \n",
       "urban_flag                                                                        0.016332   \n",
       "franchise_flag                                                                   -0.044932   \n",
       "NS___Accommodation and Food Services                                             -0.099473   \n",
       "NS___Construction                                                                -0.094259   \n",
       "NS___Health Care and Social Assistance                                            1.000000   \n",
       "NS___Manufacturing                                                               -0.097543   \n",
       "NS___Other Services (except Public Administration)                               -0.098751   \n",
       "NS___Professional, Scientific, and Technical Se...                               -0.098140   \n",
       "NS___Retail Trade                                                                -0.142211   \n",
       "NS___Wholesale Trade                                                             -0.079903   \n",
       "NS___infrequent_sklearn                                                          -0.138495   \n",
       "target                                                                           -0.075505   \n",
       "\n",
       "                                                    NS___Manufacturing  \\\n",
       "NoEmp                                                         0.040973   \n",
       "CreateJob                                                     0.014351   \n",
       "LowDoc                                                       -0.013189   \n",
       "DisbursementGross                                             0.092656   \n",
       "new_business                                                 -0.059357   \n",
       "urban_flag                                                   -0.019316   \n",
       "franchise_flag                                               -0.051366   \n",
       "NS___Accommodation and Food Services                         -0.109788   \n",
       "NS___Construction                                            -0.104033   \n",
       "NS___Health Care and Social Assistance                       -0.097543   \n",
       "NS___Manufacturing                                            1.000000   \n",
       "NS___Other Services (except Public Administration)           -0.108991   \n",
       "NS___Professional, Scientific, and Technical Se...           -0.108316   \n",
       "NS___Retail Trade                                            -0.156957   \n",
       "NS___Wholesale Trade                                         -0.088189   \n",
       "NS___infrequent_sklearn                                      -0.152857   \n",
       "target                                                       -0.038866   \n",
       "\n",
       "                                                    NS___Other Services (except Public Administration)  \\\n",
       "NoEmp                                                                                       -0.012772    \n",
       "CreateJob                                                                                   -0.012840    \n",
       "LowDoc                                                                                       0.019163    \n",
       "DisbursementGross                                                                           -0.037655    \n",
       "new_business                                                                                 0.026642    \n",
       "urban_flag                                                                                   0.020045    \n",
       "franchise_flag                                                                               0.012512    \n",
       "NS___Accommodation and Food Services                                                        -0.111148    \n",
       "NS___Construction                                                                           -0.105322    \n",
       "NS___Health Care and Social Assistance                                                      -0.098751    \n",
       "NS___Manufacturing                                                                          -0.108991    \n",
       "NS___Other Services (except Public Administration)                                           1.000000    \n",
       "NS___Professional, Scientific, and Technical Se...                                          -0.109658    \n",
       "NS___Retail Trade                                                                           -0.158902    \n",
       "NS___Wholesale Trade                                                                        -0.089282    \n",
       "NS___infrequent_sklearn                                                                     -0.154751    \n",
       "target                                                                                      -0.000523    \n",
       "\n",
       "                                                    NS___Professional, Scientific, and Technical Services  \\\n",
       "NoEmp                                                                                       -0.012733       \n",
       "CreateJob                                                                                   -0.008465       \n",
       "LowDoc                                                                                      -0.025113       \n",
       "DisbursementGross                                                                           -0.040415       \n",
       "new_business                                                                                -0.035170       \n",
       "urban_flag                                                                                   0.056243       \n",
       "franchise_flag                                                                              -0.061328       \n",
       "NS___Accommodation and Food Services                                                        -0.110460       \n",
       "NS___Construction                                                                           -0.104670       \n",
       "NS___Health Care and Social Assistance                                                      -0.098140       \n",
       "NS___Manufacturing                                                                          -0.108316       \n",
       "NS___Other Services (except Public Administration)                                          -0.109658       \n",
       "NS___Professional, Scientific, and Technical Se...                                           1.000000       \n",
       "NS___Retail Trade                                                                           -0.157918       \n",
       "NS___Wholesale Trade                                                                        -0.088729       \n",
       "NS___infrequent_sklearn                                                                     -0.153792       \n",
       "target                                                                                      -0.008872       \n",
       "\n",
       "                                                    NS___Retail Trade  \\\n",
       "NoEmp                                                       -0.020773   \n",
       "CreateJob                                                   -0.022503   \n",
       "LowDoc                                                       0.048167   \n",
       "DisbursementGross                                           -0.034466   \n",
       "new_business                                                 0.027689   \n",
       "urban_flag                                                  -0.008973   \n",
       "franchise_flag                                               0.002645   \n",
       "NS___Accommodation and Food Services                        -0.160063   \n",
       "NS___Construction                                           -0.151673   \n",
       "NS___Health Care and Social Assistance                      -0.142211   \n",
       "NS___Manufacturing                                          -0.156957   \n",
       "NS___Other Services (except Public Administration)          -0.158902   \n",
       "NS___Professional, Scientific, and Technical Se...          -0.157918   \n",
       "NS___Retail Trade                                            1.000000   \n",
       "NS___Wholesale Trade                                        -0.128574   \n",
       "NS___infrequent_sklearn                                     -0.222855   \n",
       "target                                                       0.027016   \n",
       "\n",
       "                                                    NS___Wholesale Trade  \\\n",
       "NoEmp                                                           0.002501   \n",
       "CreateJob                                                      -0.007765   \n",
       "LowDoc                                                         -0.026173   \n",
       "DisbursementGross                                               0.056302   \n",
       "new_business                                                   -0.062140   \n",
       "urban_flag                                                      0.033228   \n",
       "franchise_flag                                                 -0.053386   \n",
       "NS___Accommodation and Food Services                           -0.089934   \n",
       "NS___Construction                                              -0.085220   \n",
       "NS___Health Care and Social Assistance                         -0.079903   \n",
       "NS___Manufacturing                                             -0.088189   \n",
       "NS___Other Services (except Public Administration)             -0.089282   \n",
       "NS___Professional, Scientific, and Technical Se...             -0.088729   \n",
       "NS___Retail Trade                                              -0.128574   \n",
       "NS___Wholesale Trade                                            1.000000   \n",
       "NS___infrequent_sklearn                                        -0.125215   \n",
       "target                                                         -0.008969   \n",
       "\n",
       "                                                    NS___infrequent_sklearn  \\\n",
       "NoEmp                                                             -0.004631   \n",
       "CreateJob                                                         -0.004302   \n",
       "LowDoc                                                            -0.018175   \n",
       "DisbursementGross                                                 -0.050165   \n",
       "new_business                                                      -0.000276   \n",
       "urban_flag                                                        -0.026005   \n",
       "franchise_flag                                                    -0.023746   \n",
       "NS___Accommodation and Food Services                              -0.155882   \n",
       "NS___Construction                                                 -0.147711   \n",
       "NS___Health Care and Social Assistance                            -0.138495   \n",
       "NS___Manufacturing                                                -0.152857   \n",
       "NS___Other Services (except Public Administration)                -0.154751   \n",
       "NS___Professional, Scientific, and Technical Se...                -0.153792   \n",
       "NS___Retail Trade                                                 -0.222855   \n",
       "NS___Wholesale Trade                                              -0.125215   \n",
       "NS___infrequent_sklearn                                            1.000000   \n",
       "target                                                             0.035010   \n",
       "\n",
       "                                                      target  \n",
       "NoEmp                                              -0.027838  \n",
       "CreateJob                                          -0.009540  \n",
       "LowDoc                                             -0.076836  \n",
       "DisbursementGross                                  -0.122857  \n",
       "new_business                                        0.014277  \n",
       "urban_flag                                          0.054391  \n",
       "franchise_flag                                     -0.011047  \n",
       "NS___Accommodation and Food Services                0.011993  \n",
       "NS___Construction                                   0.033514  \n",
       "NS___Health Care and Social Assistance             -0.075505  \n",
       "NS___Manufacturing                                 -0.038866  \n",
       "NS___Other Services (except Public Administration) -0.000523  \n",
       "NS___Professional, Scientific, and Technical Se... -0.008872  \n",
       "NS___Retail Trade                                   0.027016  \n",
       "NS___Wholesale Trade                               -0.008969  \n",
       "NS___infrequent_sklearn                             0.035010  \n",
       "target                                              1.000000  "
      ]
     },
     "execution_count": 12,
     "metadata": {},
     "output_type": "execute_result"
    }
   ],
   "source": [
    "train_df[predictor_features + ['target']].corr()"
   ]
  },
  {
   "cell_type": "code",
   "execution_count": 13,
   "id": "1f8c475d-7ead-4f92-a19b-326343528f59",
   "metadata": {},
   "outputs": [],
   "source": [
    "with open(Path(setup.temp_path).joinpath('05_DATA_features_predict.pkl'), 'wb') as fout:\n",
    "    pickle.dump(predictor_features, fout)"
   ]
  },
  {
   "cell_type": "markdown",
   "id": "2b204a92-d109-4f6d-87a5-3d5dc05d2e5f",
   "metadata": {},
   "source": [
    "## Model Hyperparameter Tune and Fit"
   ]
  },
  {
   "cell_type": "code",
   "execution_count": 14,
   "id": "d6b04969-ffd2-48fe-94f6-5452494dc9e9",
   "metadata": {},
   "outputs": [
    {
     "name": "stdout",
     "output_type": "stream",
     "text": [
      "target rate: 0.20307382152943884, pos wt: 3.9243176322214124\n"
     ]
    }
   ],
   "source": [
    "mean_target = np.mean(train_df['target'])\n",
    "scale_pos_wt = (1-mean_target)/mean_target\n",
    "print(f'target rate: {mean_target}, pos wt: {scale_pos_wt}')"
   ]
  },
  {
   "cell_type": "markdown",
   "id": "c6744725-962b-4495-94a7-3c55964f1f04",
   "metadata": {},
   "source": [
    "##### Do a simple hyperparameter search"
   ]
  },
  {
   "cell_type": "code",
   "execution_count": 15,
   "id": "fa547360-fab8-46b7-a063-d9c14a87d329",
   "metadata": {},
   "outputs": [],
   "source": [
    "xgb_model = xgb.XGBClassifier(objective=\"binary:logistic\",\n",
    "                             n_estimators = 10)"
   ]
  },
  {
   "cell_type": "code",
   "execution_count": 16,
   "id": "037a6deb-b9a8-4fb7-ab79-0c15c76d6c5c",
   "metadata": {},
   "outputs": [],
   "source": [
    "hyperparam_serarch = {'max_depth': [4, 5, 6],\n",
    "                      'min_child_weight': [1, 10, 50],\n",
    "                      #'scale_pos_weight': list(np.linspace(1, scale_pos_wt, 3)),\n",
    "                      'gamma': [0, 0.5, 1, 2],\n",
    "                      'subsample': [0.5, 0.8, 1.0],\n",
    "                      'learning_rate': [0.01, 0.1, 0.3],\n",
    "                      'reg_alpha': [0, 0.001, 0.01, 0.1],\n",
    "                      'reg_lambda': [0.001, 0.01, 0.1, 0.5]\n",
    "                     }"
   ]
  },
  {
   "cell_type": "code",
   "execution_count": 17,
   "id": "5bf0afbd-9714-4c5b-997e-b51b2acf8b19",
   "metadata": {},
   "outputs": [],
   "source": [
    "# Set up a cross validation without the final fit; don't use early stopping yet\n",
    "random_search = RandomizedSearchCV(xgb_model, hyperparam_serarch,\n",
    "                                   n_iter=20, \n",
    "                                   n_jobs=-1,\n",
    "                                   random_state=53,\n",
    "                                   verbose = 0,\n",
    "                                   refit = False)"
   ]
  },
  {
   "cell_type": "code",
   "execution_count": 18,
   "id": "acec30fe-3489-4b96-a66d-735804f8954b",
   "metadata": {},
   "outputs": [
    {
     "name": "stderr",
     "output_type": "stream",
     "text": [
      "/Users/valeriecarey/miniconda3/envs/tf_p38/lib/python3.8/site-packages/joblib/externals/loky/process_executor.py:752: UserWarning: A worker stopped while some jobs were given to the executor. This can be caused by a too short worker timeout or by a memory leak.\n",
      "  warnings.warn(\n"
     ]
    }
   ],
   "source": [
    "# Do the cross validation parameter search\n",
    "rs_fit = random_search.fit(train_df[predictor_features], train_df['target']);"
   ]
  },
  {
   "cell_type": "code",
   "execution_count": 19,
   "id": "75562827-2515-497f-afb1-e863a312d3fb",
   "metadata": {},
   "outputs": [
    {
     "name": "stdout",
     "output_type": "stream",
     "text": [
      "{'subsample': 1.0, 'reg_lambda': 0.01, 'reg_alpha': 0, 'min_child_weight': 10, 'max_depth': 6, 'learning_rate': 0.01, 'gamma': 1}\n"
     ]
    }
   ],
   "source": [
    "print(random_search.best_params_)"
   ]
  },
  {
   "cell_type": "code",
   "execution_count": 20,
   "id": "b8840934-99ad-4508-9dc9-f06b752a831e",
   "metadata": {},
   "outputs": [],
   "source": [
    "pd.DataFrame({k:[random_search.best_params_[k]] for k in random_search.best_params_.keys()}) \\\n",
    "    .to_csv(Path(setup.temp_path).joinpath('05_REPORT_fit_parameter_selected.csv'), index=False)"
   ]
  },
  {
   "cell_type": "markdown",
   "id": "bc698909-3663-440f-98ce-fcfe312faa82",
   "metadata": {},
   "source": [
    "##### Do a final fit with the full training data "
   ]
  },
  {
   "cell_type": "code",
   "execution_count": 21,
   "id": "e8eca4a6-66e8-4eb2-b68a-1271f59cdbec",
   "metadata": {},
   "outputs": [],
   "source": [
    "best_params = dict(random_search.best_params_, \n",
    "                   **{'objective':\"binary:logistic\", 'n_estimators':20})"
   ]
  },
  {
   "cell_type": "code",
   "execution_count": 22,
   "id": "6d124de6-1d5d-4ff9-8071-4d05b0717f13",
   "metadata": {},
   "outputs": [],
   "source": [
    "xgb_model = xgb.XGBClassifier(objective=\"binary:logistic\",\n",
    "                             n_estimators = 20)"
   ]
  },
  {
   "cell_type": "code",
   "execution_count": 23,
   "id": "9eebd329-7e39-4e52-be94-d839ad559b5d",
   "metadata": {},
   "outputs": [],
   "source": [
    "xgb_model = xgb_model.set_params(**random_search.best_params_)"
   ]
  },
  {
   "cell_type": "code",
   "execution_count": 24,
   "id": "a7f80910-9719-486b-8eac-93889064708a",
   "metadata": {},
   "outputs": [
    {
     "name": "stdout",
     "output_type": "stream",
     "text": [
      "[0]\tvalidation_0-logloss:0.50659\tvalidation_1-logloss:0.50947\n",
      "[1]\tvalidation_0-logloss:0.50587\tvalidation_1-logloss:0.50874\n",
      "[2]\tvalidation_0-logloss:0.50515\tvalidation_1-logloss:0.50802\n",
      "[3]\tvalidation_0-logloss:0.50445\tvalidation_1-logloss:0.50731\n",
      "[4]\tvalidation_0-logloss:0.50375\tvalidation_1-logloss:0.50661\n",
      "[5]\tvalidation_0-logloss:0.50307\tvalidation_1-logloss:0.50592\n",
      "[6]\tvalidation_0-logloss:0.50240\tvalidation_1-logloss:0.50525\n",
      "[7]\tvalidation_0-logloss:0.50174\tvalidation_1-logloss:0.50458\n",
      "[8]\tvalidation_0-logloss:0.50110\tvalidation_1-logloss:0.50393\n",
      "[9]\tvalidation_0-logloss:0.50046\tvalidation_1-logloss:0.50329\n",
      "[10]\tvalidation_0-logloss:0.49983\tvalidation_1-logloss:0.50266\n",
      "[11]\tvalidation_0-logloss:0.49922\tvalidation_1-logloss:0.50203\n",
      "[12]\tvalidation_0-logloss:0.49861\tvalidation_1-logloss:0.50142\n",
      "[13]\tvalidation_0-logloss:0.49801\tvalidation_1-logloss:0.50082\n",
      "[14]\tvalidation_0-logloss:0.49743\tvalidation_1-logloss:0.50023\n",
      "[15]\tvalidation_0-logloss:0.49685\tvalidation_1-logloss:0.49965\n",
      "[16]\tvalidation_0-logloss:0.49628\tvalidation_1-logloss:0.49907\n",
      "[17]\tvalidation_0-logloss:0.49572\tvalidation_1-logloss:0.49851\n",
      "[18]\tvalidation_0-logloss:0.49517\tvalidation_1-logloss:0.49795\n",
      "[19]\tvalidation_0-logloss:0.49463\tvalidation_1-logloss:0.49741\n"
     ]
    },
    {
     "data": {
      "text/html": [
       "<style>#sk-container-id-1 {color: black;}#sk-container-id-1 pre{padding: 0;}#sk-container-id-1 div.sk-toggleable {background-color: white;}#sk-container-id-1 label.sk-toggleable__label {cursor: pointer;display: block;width: 100%;margin-bottom: 0;padding: 0.3em;box-sizing: border-box;text-align: center;}#sk-container-id-1 label.sk-toggleable__label-arrow:before {content: \"▸\";float: left;margin-right: 0.25em;color: #696969;}#sk-container-id-1 label.sk-toggleable__label-arrow:hover:before {color: black;}#sk-container-id-1 div.sk-estimator:hover label.sk-toggleable__label-arrow:before {color: black;}#sk-container-id-1 div.sk-toggleable__content {max-height: 0;max-width: 0;overflow: hidden;text-align: left;background-color: #f0f8ff;}#sk-container-id-1 div.sk-toggleable__content pre {margin: 0.2em;color: black;border-radius: 0.25em;background-color: #f0f8ff;}#sk-container-id-1 input.sk-toggleable__control:checked~div.sk-toggleable__content {max-height: 200px;max-width: 100%;overflow: auto;}#sk-container-id-1 input.sk-toggleable__control:checked~label.sk-toggleable__label-arrow:before {content: \"▾\";}#sk-container-id-1 div.sk-estimator input.sk-toggleable__control:checked~label.sk-toggleable__label {background-color: #d4ebff;}#sk-container-id-1 div.sk-label input.sk-toggleable__control:checked~label.sk-toggleable__label {background-color: #d4ebff;}#sk-container-id-1 input.sk-hidden--visually {border: 0;clip: rect(1px 1px 1px 1px);clip: rect(1px, 1px, 1px, 1px);height: 1px;margin: -1px;overflow: hidden;padding: 0;position: absolute;width: 1px;}#sk-container-id-1 div.sk-estimator {font-family: monospace;background-color: #f0f8ff;border: 1px dotted black;border-radius: 0.25em;box-sizing: border-box;margin-bottom: 0.5em;}#sk-container-id-1 div.sk-estimator:hover {background-color: #d4ebff;}#sk-container-id-1 div.sk-parallel-item::after {content: \"\";width: 100%;border-bottom: 1px solid gray;flex-grow: 1;}#sk-container-id-1 div.sk-label:hover label.sk-toggleable__label {background-color: #d4ebff;}#sk-container-id-1 div.sk-serial::before {content: \"\";position: absolute;border-left: 1px solid gray;box-sizing: border-box;top: 0;bottom: 0;left: 50%;z-index: 0;}#sk-container-id-1 div.sk-serial {display: flex;flex-direction: column;align-items: center;background-color: white;padding-right: 0.2em;padding-left: 0.2em;position: relative;}#sk-container-id-1 div.sk-item {position: relative;z-index: 1;}#sk-container-id-1 div.sk-parallel {display: flex;align-items: stretch;justify-content: center;background-color: white;position: relative;}#sk-container-id-1 div.sk-item::before, #sk-container-id-1 div.sk-parallel-item::before {content: \"\";position: absolute;border-left: 1px solid gray;box-sizing: border-box;top: 0;bottom: 0;left: 50%;z-index: -1;}#sk-container-id-1 div.sk-parallel-item {display: flex;flex-direction: column;z-index: 1;position: relative;background-color: white;}#sk-container-id-1 div.sk-parallel-item:first-child::after {align-self: flex-end;width: 50%;}#sk-container-id-1 div.sk-parallel-item:last-child::after {align-self: flex-start;width: 50%;}#sk-container-id-1 div.sk-parallel-item:only-child::after {width: 0;}#sk-container-id-1 div.sk-dashed-wrapped {border: 1px dashed gray;margin: 0 0.4em 0.5em 0.4em;box-sizing: border-box;padding-bottom: 0.4em;background-color: white;}#sk-container-id-1 div.sk-label label {font-family: monospace;font-weight: bold;display: inline-block;line-height: 1.2em;}#sk-container-id-1 div.sk-label-container {text-align: center;}#sk-container-id-1 div.sk-container {/* jupyter's `normalize.less` sets `[hidden] { display: none; }` but bootstrap.min.css set `[hidden] { display: none !important; }` so we also need the `!important` here to be able to override the default hidden behavior on the sphinx rendered scikit-learn.org. See: https://github.com/scikit-learn/scikit-learn/issues/21755 */display: inline-block !important;position: relative;}#sk-container-id-1 div.sk-text-repr-fallback {display: none;}</style><div id=\"sk-container-id-1\" class=\"sk-top-container\"><div class=\"sk-text-repr-fallback\"><pre>XGBClassifier(base_score=None, booster=None, callbacks=None,\n",
       "              colsample_bylevel=None, colsample_bynode=None,\n",
       "              colsample_bytree=None, device=None, early_stopping_rounds=None,\n",
       "              enable_categorical=False, eval_metric=None, feature_types=None,\n",
       "              gamma=1, grow_policy=None, importance_type=None,\n",
       "              interaction_constraints=None, learning_rate=0.01, max_bin=None,\n",
       "              max_cat_threshold=None, max_cat_to_onehot=None,\n",
       "              max_delta_step=None, max_depth=6, max_leaves=None,\n",
       "              min_child_weight=10, missing=nan, monotone_constraints=None,\n",
       "              multi_strategy=None, n_estimators=20, n_jobs=None,\n",
       "              num_parallel_tree=None, random_state=None, ...)</pre><b>In a Jupyter environment, please rerun this cell to show the HTML representation or trust the notebook. <br />On GitHub, the HTML representation is unable to render, please try loading this page with nbviewer.org.</b></div><div class=\"sk-container\" hidden><div class=\"sk-item\"><div class=\"sk-estimator sk-toggleable\"><input class=\"sk-toggleable__control sk-hidden--visually\" id=\"sk-estimator-id-1\" type=\"checkbox\" checked><label for=\"sk-estimator-id-1\" class=\"sk-toggleable__label sk-toggleable__label-arrow\">XGBClassifier</label><div class=\"sk-toggleable__content\"><pre>XGBClassifier(base_score=None, booster=None, callbacks=None,\n",
       "              colsample_bylevel=None, colsample_bynode=None,\n",
       "              colsample_bytree=None, device=None, early_stopping_rounds=None,\n",
       "              enable_categorical=False, eval_metric=None, feature_types=None,\n",
       "              gamma=1, grow_policy=None, importance_type=None,\n",
       "              interaction_constraints=None, learning_rate=0.01, max_bin=None,\n",
       "              max_cat_threshold=None, max_cat_to_onehot=None,\n",
       "              max_delta_step=None, max_depth=6, max_leaves=None,\n",
       "              min_child_weight=10, missing=nan, monotone_constraints=None,\n",
       "              multi_strategy=None, n_estimators=20, n_jobs=None,\n",
       "              num_parallel_tree=None, random_state=None, ...)</pre></div></div></div></div></div>"
      ],
      "text/plain": [
       "XGBClassifier(base_score=None, booster=None, callbacks=None,\n",
       "              colsample_bylevel=None, colsample_bynode=None,\n",
       "              colsample_bytree=None, device=None, early_stopping_rounds=None,\n",
       "              enable_categorical=False, eval_metric=None, feature_types=None,\n",
       "              gamma=1, grow_policy=None, importance_type=None,\n",
       "              interaction_constraints=None, learning_rate=0.01, max_bin=None,\n",
       "              max_cat_threshold=None, max_cat_to_onehot=None,\n",
       "              max_delta_step=None, max_depth=6, max_leaves=None,\n",
       "              min_child_weight=10, missing=nan, monotone_constraints=None,\n",
       "              multi_strategy=None, n_estimators=20, n_jobs=None,\n",
       "              num_parallel_tree=None, random_state=None, ...)"
      ]
     },
     "execution_count": 24,
     "metadata": {},
     "output_type": "execute_result"
    }
   ],
   "source": [
    "xgb_model.fit(train_df[predictor_features], train_df['target'],\n",
    "              eval_set = [(train_df[predictor_features], train_df['target']),\n",
    "                         (val_df[predictor_features], val_df['target'])])"
   ]
  },
  {
   "cell_type": "code",
   "execution_count": 25,
   "id": "9bbd8636-a5f1-4cbc-9498-329a78165472",
   "metadata": {},
   "outputs": [
    {
     "data": {
      "text/plain": [
       "target\n",
       "0    339167\n",
       "1     86427\n",
       "Name: count, dtype: int64"
      ]
     },
     "execution_count": 25,
     "metadata": {},
     "output_type": "execute_result"
    }
   ],
   "source": [
    "train_df['target'].value_counts()"
   ]
  },
  {
   "cell_type": "markdown",
   "id": "0913a102-a730-4b94-9977-e584df764d64",
   "metadata": {},
   "source": [
    "##### Save the model"
   ]
  },
  {
   "cell_type": "code",
   "execution_count": 26,
   "id": "af21dd7c-09d4-407f-9960-0748ba8f2247",
   "metadata": {},
   "outputs": [],
   "source": [
    "xgb_model.save_model(Path(setup.temp_path).joinpath('05_MODEL_xgboost.json'))"
   ]
  },
  {
   "cell_type": "code",
   "execution_count": 27,
   "id": "8e5d3e7d-0bd5-4252-b287-c9cc65f7a132",
   "metadata": {},
   "outputs": [],
   "source": [
    "with open(Path(setup.temp_path).joinpath('05_MODEL_xgboost.pkl'), 'wb') as po:\n",
    "    pickle.dump(xgb_model, po)"
   ]
  },
  {
   "cell_type": "markdown",
   "id": "f34ad059-70dc-4672-adff-0d961fc74b07",
   "metadata": {},
   "source": [
    "## Probability Predictions"
   ]
  },
  {
   "cell_type": "code",
   "execution_count": 28,
   "id": "6a7c8509-0109-4f8e-a466-d6e21164012c",
   "metadata": {},
   "outputs": [],
   "source": [
    "pred_df = pd.concat([sba_loans[['LoanNr_ChkDgt', 'dset', 'target', 'dset_naics_holdout']].reset_index(),\n",
    "                     pd.DataFrame({'predict_prob':\n",
    "                                   xgb_model.predict_proba(sba_loans[predictor_features])[:,1]})],\n",
    "                    axis=1) \\\n",
    "    .set_index('index')"
   ]
  },
  {
   "cell_type": "code",
   "execution_count": 29,
   "id": "7084012d-b68a-4ca4-b714-160f8d564500",
   "metadata": {},
   "outputs": [
    {
     "data": {
      "text/html": [
       "<div>\n",
       "<style scoped>\n",
       "    .dataframe tbody tr th:only-of-type {\n",
       "        vertical-align: middle;\n",
       "    }\n",
       "\n",
       "    .dataframe tbody tr th {\n",
       "        vertical-align: top;\n",
       "    }\n",
       "\n",
       "    .dataframe thead th {\n",
       "        text-align: right;\n",
       "    }\n",
       "</style>\n",
       "<table border=\"1\" class=\"dataframe\">\n",
       "  <thead>\n",
       "    <tr style=\"text-align: right;\">\n",
       "      <th></th>\n",
       "      <th>mean</th>\n",
       "      <th>std</th>\n",
       "      <th>min</th>\n",
       "      <th>max</th>\n",
       "      <th>median</th>\n",
       "    </tr>\n",
       "    <tr>\n",
       "      <th>target</th>\n",
       "      <th></th>\n",
       "      <th></th>\n",
       "      <th></th>\n",
       "      <th></th>\n",
       "      <th></th>\n",
       "    </tr>\n",
       "  </thead>\n",
       "  <tbody>\n",
       "    <tr>\n",
       "      <th>0</th>\n",
       "      <td>0.225201</td>\n",
       "      <td>0.020157</td>\n",
       "      <td>0.193389</td>\n",
       "      <td>0.305768</td>\n",
       "      <td>0.223881</td>\n",
       "    </tr>\n",
       "    <tr>\n",
       "      <th>1</th>\n",
       "      <td>0.239222</td>\n",
       "      <td>0.015820</td>\n",
       "      <td>0.193389</td>\n",
       "      <td>0.305768</td>\n",
       "      <td>0.249492</td>\n",
       "    </tr>\n",
       "  </tbody>\n",
       "</table>\n",
       "</div>"
      ],
      "text/plain": [
       "            mean       std       min       max    median\n",
       "target                                                  \n",
       "0       0.225201  0.020157  0.193389  0.305768  0.223881\n",
       "1       0.239222  0.015820  0.193389  0.305768  0.249492"
      ]
     },
     "execution_count": 29,
     "metadata": {},
     "output_type": "execute_result"
    }
   ],
   "source": [
    "pred_df.groupby('target')['predict_prob'].agg(['mean', 'std', 'min', 'max', 'median'])"
   ]
  },
  {
   "cell_type": "markdown",
   "id": "d33cb4dc-6c89-4a37-98c7-d3a666abc4a5",
   "metadata": {},
   "source": [
    "## Decision Threshold\n",
    "Max f1, on training data"
   ]
  },
  {
   "cell_type": "code",
   "execution_count": 30,
   "id": "d7727498-825f-4f53-882f-cfcce730b1fc",
   "metadata": {},
   "outputs": [],
   "source": [
    "pred_train_df = pred_df[pred_df['dset'] == 'train']"
   ]
  },
  {
   "cell_type": "code",
   "execution_count": 31,
   "id": "7b553798-eead-48f8-b14b-5f036d9183d9",
   "metadata": {},
   "outputs": [],
   "source": [
    "thresh_tune_data = sg_plot.get_f1_frame(pred_train_df['target'], \n",
    "                                        pred_train_df['predict_prob'])"
   ]
  },
  {
   "cell_type": "code",
   "execution_count": 32,
   "id": "7a1cde01-a30b-475f-8fd7-409b13946c6d",
   "metadata": {},
   "outputs": [],
   "source": [
    "thresh_tune_data.to_csv(Path(setup.temp_path).joinpath('05_REPORT_thresh_tune.csv'), index=False)"
   ]
  },
  {
   "cell_type": "code",
   "execution_count": 33,
   "id": "947a487c-e71d-433c-bbf0-2ed7e57a908a",
   "metadata": {},
   "outputs": [
    {
     "name": "stdout",
     "output_type": "stream",
     "text": [
      "0.22\n"
     ]
    },
    {
     "data": {
      "text/html": [
       "<div>\n",
       "<style scoped>\n",
       "    .dataframe tbody tr th:only-of-type {\n",
       "        vertical-align: middle;\n",
       "    }\n",
       "\n",
       "    .dataframe tbody tr th {\n",
       "        vertical-align: top;\n",
       "    }\n",
       "\n",
       "    .dataframe thead th {\n",
       "        text-align: right;\n",
       "    }\n",
       "</style>\n",
       "<table border=\"1\" class=\"dataframe\">\n",
       "  <thead>\n",
       "    <tr style=\"text-align: right;\">\n",
       "      <th></th>\n",
       "      <th>thresh</th>\n",
       "      <th>f1</th>\n",
       "    </tr>\n",
       "  </thead>\n",
       "  <tbody>\n",
       "    <tr>\n",
       "      <th>11</th>\n",
       "      <td>0.22</td>\n",
       "      <td>0.425483</td>\n",
       "    </tr>\n",
       "    <tr>\n",
       "      <th>12</th>\n",
       "      <td>0.24</td>\n",
       "      <td>0.420175</td>\n",
       "    </tr>\n",
       "  </tbody>\n",
       "</table>\n",
       "</div>"
      ],
      "text/plain": [
       "    thresh        f1\n",
       "11    0.22  0.425483\n",
       "12    0.24  0.420175"
      ]
     },
     "execution_count": 33,
     "metadata": {},
     "output_type": "execute_result"
    }
   ],
   "source": [
    "thresh_head = thresh_tune_data.sort_values('f1', ascending=False).head(2)\n",
    "best_thresh = thresh_head['thresh'].iloc[0]\n",
    "print(best_thresh)\n",
    "thresh_head"
   ]
  },
  {
   "cell_type": "markdown",
   "id": "1ee5330e-c1a7-4310-afbe-be9bc0d26f43",
   "metadata": {},
   "source": [
    "##### Apply decision threshold\n",
    "All datasets"
   ]
  },
  {
   "cell_type": "code",
   "execution_count": 34,
   "id": "f0d4c1cf-6d5b-49e9-9123-a067697a9e39",
   "metadata": {},
   "outputs": [],
   "source": [
    "pred_df['predict_bin'] = np.where(pred_df['predict_prob'] >= best_thresh, 1, 0)"
   ]
  },
  {
   "cell_type": "code",
   "execution_count": 35,
   "id": "8253c32c-0438-47b9-8570-7cde6f7f5590",
   "metadata": {},
   "outputs": [
    {
     "data": {
      "text/plain": [
       "predict_bin\n",
       "1    408738\n",
       "0    279343\n",
       "Name: count, dtype: int64"
      ]
     },
     "execution_count": 35,
     "metadata": {},
     "output_type": "execute_result"
    }
   ],
   "source": [
    "pred_df['predict_bin'].value_counts()"
   ]
  },
  {
   "cell_type": "code",
   "execution_count": 36,
   "id": "dbb46f4a-a5ef-4fd6-9da4-30de4a00334d",
   "metadata": {},
   "outputs": [],
   "source": [
    "pred_df.to_parquet(Path(setup.temp_path).joinpath('05_DATA_combined_predictions.parquet'))"
   ]
  },
  {
   "cell_type": "markdown",
   "id": "0ab860d0-eddc-4f63-b853-88da15d451f4",
   "metadata": {},
   "source": [
    "## Metrics"
   ]
  },
  {
   "cell_type": "code",
   "execution_count": 37,
   "id": "f2801964-124e-425f-b4cb-9bcf1cf3f04a",
   "metadata": {},
   "outputs": [
    {
     "data": {
      "text/html": [
       "<div>\n",
       "<style scoped>\n",
       "    .dataframe tbody tr th:only-of-type {\n",
       "        vertical-align: middle;\n",
       "    }\n",
       "\n",
       "    .dataframe tbody tr th {\n",
       "        vertical-align: top;\n",
       "    }\n",
       "\n",
       "    .dataframe thead th {\n",
       "        text-align: right;\n",
       "    }\n",
       "</style>\n",
       "<table border=\"1\" class=\"dataframe\">\n",
       "  <thead>\n",
       "    <tr style=\"text-align: right;\">\n",
       "      <th></th>\n",
       "      <th>dset</th>\n",
       "      <th>accuracy_score</th>\n",
       "      <th>f1_score</th>\n",
       "      <th>precision_score</th>\n",
       "      <th>recall_score</th>\n",
       "      <th>average_precision_score</th>\n",
       "      <th>roc_auc_score</th>\n",
       "      <th>dset_naics_holdout</th>\n",
       "    </tr>\n",
       "  </thead>\n",
       "  <tbody>\n",
       "    <tr>\n",
       "      <th>0</th>\n",
       "      <td>test</td>\n",
       "      <td>0.548517</td>\n",
       "      <td>0.425683</td>\n",
       "      <td>0.285718</td>\n",
       "      <td>0.834460</td>\n",
       "      <td>0.318935</td>\n",
       "      <td>0.701326</td>\n",
       "      <td>NaN</td>\n",
       "    </tr>\n",
       "    <tr>\n",
       "      <th>1</th>\n",
       "      <td>train</td>\n",
       "      <td>0.540769</td>\n",
       "      <td>0.425483</td>\n",
       "      <td>0.285197</td>\n",
       "      <td>0.837389</td>\n",
       "      <td>0.319831</td>\n",
       "      <td>0.698646</td>\n",
       "      <td>NaN</td>\n",
       "    </tr>\n",
       "    <tr>\n",
       "      <th>2</th>\n",
       "      <td>val</td>\n",
       "      <td>0.542522</td>\n",
       "      <td>0.428935</td>\n",
       "      <td>0.288468</td>\n",
       "      <td>0.836036</td>\n",
       "      <td>0.323772</td>\n",
       "      <td>0.699656</td>\n",
       "      <td>NaN</td>\n",
       "    </tr>\n",
       "    <tr>\n",
       "      <th>0</th>\n",
       "      <td>test</td>\n",
       "      <td>0.541789</td>\n",
       "      <td>0.426576</td>\n",
       "      <td>0.286268</td>\n",
       "      <td>0.836634</td>\n",
       "      <td>0.319949</td>\n",
       "      <td>0.698165</td>\n",
       "      <td>0.0</td>\n",
       "    </tr>\n",
       "    <tr>\n",
       "      <th>1</th>\n",
       "      <td>test</td>\n",
       "      <td>0.569341</td>\n",
       "      <td>0.422721</td>\n",
       "      <td>0.283893</td>\n",
       "      <td>0.827271</td>\n",
       "      <td>0.315771</td>\n",
       "      <td>0.710682</td>\n",
       "      <td>1.0</td>\n",
       "    </tr>\n",
       "  </tbody>\n",
       "</table>\n",
       "</div>"
      ],
      "text/plain": [
       "    dset  accuracy_score  f1_score  precision_score  recall_score  \\\n",
       "0   test        0.548517  0.425683         0.285718      0.834460   \n",
       "1  train        0.540769  0.425483         0.285197      0.837389   \n",
       "2    val        0.542522  0.428935         0.288468      0.836036   \n",
       "0   test        0.541789  0.426576         0.286268      0.836634   \n",
       "1   test        0.569341  0.422721         0.283893      0.827271   \n",
       "\n",
       "   average_precision_score  roc_auc_score  dset_naics_holdout  \n",
       "0                 0.318935       0.701326                 NaN  \n",
       "1                 0.319831       0.698646                 NaN  \n",
       "2                 0.323772       0.699656                 NaN  \n",
       "0                 0.319949       0.698165                 0.0  \n",
       "1                 0.315771       0.710682                 1.0  "
      ]
     },
     "execution_count": 37,
     "metadata": {},
     "output_type": "execute_result"
    }
   ],
   "source": [
    "metrics_dset_df = pred_df.groupby('dset') \\\n",
    "    .apply(lambda x: sg_plot.dset_metrics(x.target, x.predict_bin, x.predict_prob)) \\\n",
    "    .reset_index()\n",
    "metrics_test_df = pred_df[pred_df['dset'] == 'test'] \\\n",
    "    .groupby(['dset', 'dset_naics_holdout']) \\\n",
    "    .apply(lambda x: sg_plot.dset_metrics(x.target, x.predict_bin, x.predict_prob)) \\\n",
    "    .reset_index()\n",
    "metrics_df = pd.concat([metrics_dset_df, metrics_test_df])\n",
    "metrics_df.to_csv(Path(setup.temp_path).joinpath('05_REPORT_metrics.csv'), index=True)\n",
    "metrics_df"
   ]
  },
  {
   "cell_type": "markdown",
   "id": "3d906270-4264-4b0b-9f50-dcef8f75a5fd",
   "metadata": {},
   "source": [
    "## Lift\n",
    "Test data"
   ]
  },
  {
   "cell_type": "code",
   "execution_count": 38,
   "id": "82d9c0ab-8989-450d-a2b1-7997ca636052",
   "metadata": {
    "tags": []
   },
   "outputs": [],
   "source": [
    "pred_test_df = pred_df[pred_df['dset'] == 'test']"
   ]
  },
  {
   "cell_type": "code",
   "execution_count": 39,
   "id": "c01f5279-1151-4a8d-9b21-e12d4092f3c1",
   "metadata": {},
   "outputs": [
    {
     "data": {
      "image/png": "[encoded data removed]",
      "text/plain": [
       "<Figure size 400x300 with 1 Axes>"
      ]
     },
     "metadata": {},
     "output_type": "display_data"
    }
   ],
   "source": [
    "plot_lift_curve(pred_test_df['target'], \n",
    "                pd.concat([1-pred_test_df['predict_prob'], pred_test_df['predict_prob']], axis=1), \n",
    "                title='Lift Curve', ax=None, figsize=(4,3), \n",
    "                title_fontsize='large', text_fontsize='medium')\n",
    "plt.gca().legend(loc='upper right')\n",
    "plt.gcf().savefig(Path(setup.temp_path).joinpath('05_PLOT_lift_curve.png'),bbox_inches='tight')"
   ]
  },
  {
   "cell_type": "markdown",
   "id": "04994f41-3c98-412a-bb2f-11e5ae22b432",
   "metadata": {},
   "source": [
    "## Feature Importance "
   ]
  },
  {
   "cell_type": "markdown",
   "id": "926af7df-e407-484b-bd86-ae7d76a46392",
   "metadata": {},
   "source": [
    "##### XGBoost gain"
   ]
  },
  {
   "cell_type": "code",
   "execution_count": 40,
   "id": "ec3f6e1f-2b29-4b46-ac12-7a8451a3a45b",
   "metadata": {},
   "outputs": [],
   "source": [
    "feat_impgain = pd.DataFrame(xgb_model.get_booster().get_score(importance_type='gain'),\n",
    "                                     index=['importance']).T \\\n",
    "    .sort_values('importance', ascending=False)"
   ]
  },
  {
   "cell_type": "code",
   "execution_count": 41,
   "id": "9586c637-7add-4401-b61c-37abd55b11b4",
   "metadata": {},
   "outputs": [],
   "source": [
    "feat_impgain.to_csv(Path(setup.temp_path).joinpath('05_REPORT_importance_gain.csv'), index=True)"
   ]
  },
  {
   "cell_type": "code",
   "execution_count": 42,
   "id": "311e111f-d8e5-4a52-8adc-6a7c5f9daa8f",
   "metadata": {},
   "outputs": [
    {
     "data": {
      "text/html": [
       "<div>\n",
       "<style scoped>\n",
       "    .dataframe tbody tr th:only-of-type {\n",
       "        vertical-align: middle;\n",
       "    }\n",
       "\n",
       "    .dataframe tbody tr th {\n",
       "        vertical-align: top;\n",
       "    }\n",
       "\n",
       "    .dataframe thead th {\n",
       "        text-align: right;\n",
       "    }\n",
       "</style>\n",
       "<table border=\"1\" class=\"dataframe\">\n",
       "  <thead>\n",
       "    <tr style=\"text-align: right;\">\n",
       "      <th></th>\n",
       "      <th>importance</th>\n",
       "    </tr>\n",
       "  </thead>\n",
       "  <tbody>\n",
       "    <tr>\n",
       "      <th>urban_flag</th>\n",
       "      <td>5208.554688</td>\n",
       "    </tr>\n",
       "    <tr>\n",
       "      <th>DisbursementGross</th>\n",
       "      <td>795.363281</td>\n",
       "    </tr>\n",
       "    <tr>\n",
       "      <th>LowDoc</th>\n",
       "      <td>452.499817</td>\n",
       "    </tr>\n",
       "    <tr>\n",
       "      <th>NS___Health Care and Social Assistance</th>\n",
       "      <td>339.498535</td>\n",
       "    </tr>\n",
       "    <tr>\n",
       "      <th>NoEmp</th>\n",
       "      <td>94.836876</td>\n",
       "    </tr>\n",
       "  </tbody>\n",
       "</table>\n",
       "</div>"
      ],
      "text/plain": [
       "                                         importance\n",
       "urban_flag                              5208.554688\n",
       "DisbursementGross                        795.363281\n",
       "LowDoc                                   452.499817\n",
       "NS___Health Care and Social Assistance   339.498535\n",
       "NoEmp                                     94.836876"
      ]
     },
     "execution_count": 42,
     "metadata": {},
     "output_type": "execute_result"
    }
   ],
   "source": [
    "feat_impgain.head()"
   ]
  },
  {
   "cell_type": "code",
   "execution_count": 43,
   "id": "9c88564a-7289-4c49-b2cd-b97338d1b042",
   "metadata": {},
   "outputs": [
    {
     "data": {
      "image/png": "[encoded data removed]",
      "text/plain": [
       "<Figure size 640x480 with 1 Axes>"
      ]
     },
     "metadata": {},
     "output_type": "display_data"
    }
   ],
   "source": [
    "feat_impgain.plot(kind='barh', legend=None)\n",
    "plt.gca().invert_yaxis()\n",
    "plt.xlabel('gain importance')\n",
    "plt.gcf().savefig(Path(setup.temp_path).joinpath('05_PLOT_importance_gain.png'))"
   ]
  },
  {
   "cell_type": "markdown",
   "id": "27e5fb90-f305-40ff-acaf-285d7d056c15",
   "metadata": {},
   "source": [
    "##### Permutation Importance"
   ]
  },
  {
   "cell_type": "code",
   "execution_count": 44,
   "id": "e2c1c123-20d0-423d-b684-585c0a5d6d2b",
   "metadata": {},
   "outputs": [],
   "source": [
    "perm_importance = permutation_importance(xgb_model, \n",
    "                                         train_df[predictor_features],  train_df['target'],\n",
    "                                         n_repeats=30, scoring = 'average_precision')"
   ]
  },
  {
   "cell_type": "code",
   "execution_count": 45,
   "id": "ab0df42e-af4e-46b1-b0cf-630877137678",
   "metadata": {},
   "outputs": [],
   "source": [
    "perm_importance_df = pd.DataFrame({'features':predictor_features,\n",
    "                                   'importance': perm_importance['importances_mean']}) \n",
    "perm_importance_df['abs_importance'] = np.abs(perm_importance_df['importance'])\n",
    "perm_importance_df = perm_importance_df.sort_values('abs_importance', ascending=False)"
   ]
  },
  {
   "cell_type": "code",
   "execution_count": 46,
   "id": "0cbc5d84-6775-404f-a685-44f5be5cd481",
   "metadata": {},
   "outputs": [
    {
     "data": {
      "text/html": [
       "<div>\n",
       "<style scoped>\n",
       "    .dataframe tbody tr th:only-of-type {\n",
       "        vertical-align: middle;\n",
       "    }\n",
       "\n",
       "    .dataframe tbody tr th {\n",
       "        vertical-align: top;\n",
       "    }\n",
       "\n",
       "    .dataframe thead th {\n",
       "        text-align: right;\n",
       "    }\n",
       "</style>\n",
       "<table border=\"1\" class=\"dataframe\">\n",
       "  <thead>\n",
       "    <tr style=\"text-align: right;\">\n",
       "      <th></th>\n",
       "      <th>features</th>\n",
       "      <th>importance</th>\n",
       "      <th>abs_importance</th>\n",
       "    </tr>\n",
       "  </thead>\n",
       "  <tbody>\n",
       "    <tr>\n",
       "      <th>3</th>\n",
       "      <td>DisbursementGross</td>\n",
       "      <td>0.053971</td>\n",
       "      <td>0.053971</td>\n",
       "    </tr>\n",
       "    <tr>\n",
       "      <th>5</th>\n",
       "      <td>urban_flag</td>\n",
       "      <td>0.041341</td>\n",
       "      <td>0.041341</td>\n",
       "    </tr>\n",
       "    <tr>\n",
       "      <th>2</th>\n",
       "      <td>LowDoc</td>\n",
       "      <td>0.009943</td>\n",
       "      <td>0.009943</td>\n",
       "    </tr>\n",
       "    <tr>\n",
       "      <th>1</th>\n",
       "      <td>CreateJob</td>\n",
       "      <td>0.009770</td>\n",
       "      <td>0.009770</td>\n",
       "    </tr>\n",
       "    <tr>\n",
       "      <th>9</th>\n",
       "      <td>NS___Health Care and Social Assistance</td>\n",
       "      <td>0.009028</td>\n",
       "      <td>0.009028</td>\n",
       "    </tr>\n",
       "  </tbody>\n",
       "</table>\n",
       "</div>"
      ],
      "text/plain": [
       "                                 features  importance  abs_importance\n",
       "3                       DisbursementGross    0.053971        0.053971\n",
       "5                              urban_flag    0.041341        0.041341\n",
       "2                                  LowDoc    0.009943        0.009943\n",
       "1                               CreateJob    0.009770        0.009770\n",
       "9  NS___Health Care and Social Assistance    0.009028        0.009028"
      ]
     },
     "execution_count": 46,
     "metadata": {},
     "output_type": "execute_result"
    }
   ],
   "source": [
    "perm_importance_df.head(5)"
   ]
  },
  {
   "cell_type": "code",
   "execution_count": 47,
   "id": "38059608-2f72-491f-86b3-0c1418b83531",
   "metadata": {},
   "outputs": [],
   "source": [
    "perm_importance_df \\\n",
    "    .to_csv(Path(setup.temp_path).joinpath('05_DATA_importance_perturb.csv'),\n",
    "            index=False)"
   ]
  },
  {
   "cell_type": "code",
   "execution_count": 48,
   "id": "c27499c8-065b-4143-a7dc-bce301bf3edf",
   "metadata": {},
   "outputs": [
    {
     "data": {
      "image/png": "[encoded data removed]",
      "text/plain": [
       "<Figure size 640x480 with 1 Axes>"
      ]
     },
     "metadata": {},
     "output_type": "display_data"
    }
   ],
   "source": [
    "perm_importance_df.head(10).plot(kind='barh', x='features', y='importance', legend=None)\n",
    "plt.gca().invert_yaxis()\n",
    "plt.xlabel('permutation importance')\n",
    "plt.ylabel(None)\n",
    "plt.gcf().savefig(Path(setup.temp_path).joinpath('05_PLOT_importance_perturb.png'))"
   ]
  },
  {
   "cell_type": "markdown",
   "id": "6fd44a7c-bcf5-4284-8b9f-b575fa523ff3",
   "metadata": {},
   "source": [
    "## PDP Plot - NAICS one hot"
   ]
  },
  {
   "cell_type": "code",
   "execution_count": 57,
   "id": "0f5a4774-bf8b-4c7f-9003-e1bcb4c101f8",
   "metadata": {},
   "outputs": [],
   "source": [
    "naics_features = list(train_df.filter(like='NS__').columns)"
   ]
  },
  {
   "cell_type": "code",
   "execution_count": 51,
   "id": "0e9ee010-d1ce-4b1a-86ef-27d691583fc6",
   "metadata": {},
   "outputs": [],
   "source": [
    "results = partial_dependence(xgb_model, train_df[predictor_features], ['NS___Accommodation and Food Services'])\n",
    "pdp_df = pd.DataFrame({'grid_values':results[\"grid_values\"][0],\n",
    "                       'pdp':results[\"average\"][0]})"
   ]
  },
  {
   "cell_type": "code",
   "execution_count": 52,
   "id": "730411c5-81d3-4911-ad8f-8743dc1617e4",
   "metadata": {},
   "outputs": [],
   "source": [
    "plt.close()"
   ]
  },
  {
   "cell_type": "code",
   "execution_count": 59,
   "id": "85ab4bf4-0f82-4121-842d-fd22164982cd",
   "metadata": {},
   "outputs": [
    {
     "data": {
      "image/png": "[encoded data removed]",
      "text/plain": [
       "<Figure size 600x900 with 10 Axes>"
      ]
     },
     "metadata": {},
     "output_type": "display_data"
    }
   ],
   "source": [
    "fig, ax = plt.subplots(int(np.ceil(len(naics_features)/2)), 2, sharex=True, sharey=True, figsize=(6, 9))\n",
    "for i in range(len(naics_features)):\n",
    "    col = int(i % 2)\n",
    "    row = int(np.floor(i / 2))\n",
    "    results = partial_dependence(xgb_model, train_df[predictor_features], \n",
    "                                 [naics_features[i]])\n",
    "    pdp_df = pd.DataFrame({'grid_values':results[\"grid_values\"][0],\n",
    "                       'pdp':results[\"average\"][0]})\n",
    "    pdp_df.plot(x='grid_values', y='pdp', legend=None, ax=ax[row, col])\n",
    "\n",
    "fig.tight_layout()\n",
    "fig.savefig(Path(setup.temp_path).joinpath('05_PLOT_pdp_naics_onehot.png'),\n",
    "               bbox_inches='tight')\n",
    "plt.show()"
   ]
  }
 ],
 "metadata": {
  "kernelspec": {
   "display_name": "tf_p39",
   "language": "python",
   "name": "tf_p39"
  },
  "language_info": {
   "codemirror_mode": {
    "name": "ipython",
    "version": 3
   },
   "file_extension": ".py",
   "mimetype": "text/x-python",
   "name": "python",
   "nbconvert_exporter": "python",
   "pygments_lexer": "ipython3",
   "version": "3.8.18"
  }
 },
 "nbformat": 4,
 "nbformat_minor": 5
}
