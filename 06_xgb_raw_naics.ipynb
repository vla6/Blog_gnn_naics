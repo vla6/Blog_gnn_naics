{
 "cells": [
  {
   "cell_type": "code",
   "execution_count": 1,
   "id": "4c65f557-651f-4958-a567-a1b6b5a82b2b",
   "metadata": {
    "tags": []
   },
   "outputs": [],
   "source": [
    "# Modify the file 00_setup.py to define input/output file paths on your system\n",
    "# The information in 00_setup.py will be used across notebooks\n",
    "from importlib.machinery import SourceFileLoader\n",
    "setup = SourceFileLoader(\"setup\", \"./00_setup.py\").load_module()"
   ]
  },
  {
   "cell_type": "markdown",
   "id": "b01d0fdb-d4bf-465a-8541-997addc50b0c",
   "metadata": {},
   "source": [
    "# 06: XGBoost with numeric NAICS code\n",
    "XGBoost model, numeric NAICS"
   ]
  },
  {
   "cell_type": "markdown",
   "id": "56161f89-1f54-47f9-860d-3f945a941c1f",
   "metadata": {},
   "source": [
    "*This script takes about 5 minutes on my MacBook Air*"
   ]
  },
  {
   "cell_type": "code",
   "execution_count": 2,
   "id": "ec6b1778-7abc-4129-ab5f-ac2992bd8ca6",
   "metadata": {},
   "outputs": [],
   "source": [
    "import pandas as pd\n",
    "import numpy as np\n",
    "import xgboost as xgb\n",
    "import warnings\n",
    "import matplotlib.pyplot as plt\n",
    "import pickle"
   ]
  },
  {
   "cell_type": "code",
   "execution_count": 3,
   "id": "785af927-a634-4e34-84c4-7a532236f2ca",
   "metadata": {},
   "outputs": [],
   "source": [
    "from pathlib import Path"
   ]
  },
  {
   "cell_type": "code",
   "execution_count": 4,
   "id": "fd09527b-32dd-47fa-b62f-f9307f89f553",
   "metadata": {},
   "outputs": [],
   "source": [
    "import sklearn as sk\n",
    "from sklearn.model_selection import RandomizedSearchCV\n",
    "from sklearn.metrics import accuracy_score, f1_score, precision_score, recall_score, \\\n",
    "    average_precision_score, roc_auc_score\n",
    "from sklearn.inspection import permutation_importance\n",
    "from scikitplot.metrics import plot_lift_curve\n",
    "from sklearn.ensemble import GradientBoostingClassifier"
   ]
  },
  {
   "cell_type": "code",
   "execution_count": 5,
   "id": "edafff8c-bc16-4686-a7f7-0be0a1ae961f",
   "metadata": {},
   "outputs": [],
   "source": [
    "from PyALE import ale"
   ]
  },
  {
   "cell_type": "markdown",
   "id": "d14a5947-6599-4253-acf3-91ddeffdedd3",
   "metadata": {
    "tags": []
   },
   "source": [
    "## Import Processed Datasets"
   ]
  },
  {
   "cell_type": "code",
   "execution_count": 6,
   "id": "a5f6c362-c1ab-48d8-812b-2b970b06586b",
   "metadata": {},
   "outputs": [],
   "source": [
    "train_df = pd.read_parquet(Path(setup.temp_path).joinpath('01_DATA_combined_base_train.parquet'))"
   ]
  },
  {
   "cell_type": "code",
   "execution_count": 7,
   "id": "7f65e91f-eca0-40e3-8bd5-7614bafbb05e",
   "metadata": {},
   "outputs": [],
   "source": [
    "test_df = pd.read_parquet(Path(setup.temp_path).joinpath('01_DATA_combined_base_test.parquet'))"
   ]
  },
  {
   "cell_type": "code",
   "execution_count": 8,
   "id": "e5195e29-6c0c-4162-a198-581a9d8838bf",
   "metadata": {},
   "outputs": [],
   "source": [
    "val_df = pd.read_parquet(Path(setup.temp_path).joinpath('01_DATA_combined_base_val.parquet'))"
   ]
  },
  {
   "cell_type": "markdown",
   "id": "d56e9533-8071-494a-a7da-4917a03fb701",
   "metadata": {},
   "source": [
    "#### Set the predictor features.  Include NAICS as a number"
   ]
  },
  {
   "cell_type": "code",
   "execution_count": 9,
   "id": "c07ddd4e-6987-454a-926a-3b59abf6caa6",
   "metadata": {},
   "outputs": [
    {
     "name": "stdout",
     "output_type": "stream",
     "text": [
      "['NoEmp', 'CreateJob', 'LowDoc', 'DisbursementGross', 'new_business', 'urban_flag', 'franchise_flag', 'NAICS_num']\n"
     ]
    }
   ],
   "source": [
    "predictor_features = setup.predictor_features + ['NAICS_num']\n",
    "print(predictor_features)"
   ]
  },
  {
   "cell_type": "code",
   "execution_count": 10,
   "id": "1f8c475d-7ead-4f92-a19b-326343528f59",
   "metadata": {},
   "outputs": [],
   "source": [
    "with open(Path(setup.temp_path).joinpath('06_DATA_features_predict.pkl'), 'wb') as fout:\n",
    "    pickle.dump(predictor_features, fout)"
   ]
  },
  {
   "cell_type": "markdown",
   "id": "2b204a92-d109-4f6d-87a5-3d5dc05d2e5f",
   "metadata": {},
   "source": [
    "## Model Hyperparameter Tune and Fit"
   ]
  },
  {
   "cell_type": "code",
   "execution_count": 11,
   "id": "d6b04969-ffd2-48fe-94f6-5452494dc9e9",
   "metadata": {},
   "outputs": [
    {
     "name": "stdout",
     "output_type": "stream",
     "text": [
      "target rate: 0.20301083058320588, pos wt: 3.9258455675848323\n"
     ]
    }
   ],
   "source": [
    "mean_target = np.mean(train_df['target'])\n",
    "scale_pos_wt = (1-mean_target)/mean_target\n",
    "print(f'target rate: {mean_target}, pos wt: {scale_pos_wt}')"
   ]
  },
  {
   "cell_type": "markdown",
   "id": "c6744725-962b-4495-94a7-3c55964f1f04",
   "metadata": {},
   "source": [
    "##### Do a simple hyperparameter search"
   ]
  },
  {
   "cell_type": "code",
   "execution_count": 12,
   "id": "fa547360-fab8-46b7-a063-d9c14a87d329",
   "metadata": {},
   "outputs": [],
   "source": [
    "xgb_model = xgb.XGBClassifier(objective=\"binary:logistic\",\n",
    "                             n_estimators = 10)"
   ]
  },
  {
   "cell_type": "code",
   "execution_count": 13,
   "id": "037a6deb-b9a8-4fb7-ab79-0c15c76d6c5c",
   "metadata": {},
   "outputs": [],
   "source": [
    "hyperparam_serarch = {'max_depth': [4, 5, 6],\n",
    "                      'min_child_weight': [1, 10, 50],\n",
    "                      'scale_pos_weight': list(np.linspace(1, scale_pos_wt, 3)),\n",
    "                      'gamma': [0, 0.5, 1, 2],\n",
    "                      'subsample': [0.5, 0.8, 1.0],\n",
    "                      'learning_rate': [0.01, 0.1, 0.3],\n",
    "                      'reg_alpha': [0, 0.001, 0.01, 0.1],\n",
    "                      'reg_lambda': [0.001, 0.01, 0.1, 0.5]\n",
    "                     }"
   ]
  },
  {
   "cell_type": "code",
   "execution_count": 14,
   "id": "5bf0afbd-9714-4c5b-997e-b51b2acf8b19",
   "metadata": {},
   "outputs": [],
   "source": [
    "# Set up a cross validation without the final fit; don't use early stopping yet\n",
    "random_search = RandomizedSearchCV(xgb_model, hyperparam_serarch,\n",
    "                                   n_iter=20, \n",
    "                                   n_jobs=-1,\n",
    "                                   random_state=53,\n",
    "                                   verbose = 0,\n",
    "                                   refit = False)"
   ]
  },
  {
   "cell_type": "code",
   "execution_count": 15,
   "id": "acec30fe-3489-4b96-a66d-735804f8954b",
   "metadata": {},
   "outputs": [],
   "source": [
    "# Do the cross validation parameter search\n",
    "rs_fit = random_search.fit(train_df[predictor_features], train_df['target']);"
   ]
  },
  {
   "cell_type": "code",
   "execution_count": 16,
   "id": "75562827-2515-497f-afb1-e863a312d3fb",
   "metadata": {},
   "outputs": [
    {
     "name": "stdout",
     "output_type": "stream",
     "text": [
      "{'subsample': 1.0, 'scale_pos_weight': 1.0, 'reg_lambda': 0.001, 'reg_alpha': 0.01, 'min_child_weight': 10, 'max_depth': 6, 'learning_rate': 0.3, 'gamma': 1}\n"
     ]
    }
   ],
   "source": [
    "print(random_search.best_params_)"
   ]
  },
  {
   "cell_type": "code",
   "execution_count": 17,
   "id": "b8840934-99ad-4508-9dc9-f06b752a831e",
   "metadata": {},
   "outputs": [],
   "source": [
    "pd.DataFrame({k:[random_search.best_params_[k]] for k in random_search.best_params_.keys()}) \\\n",
    "    .to_csv(Path(setup.temp_path).joinpath('06_REPORT_fit_parameter_selected.csv'), index=False)"
   ]
  },
  {
   "cell_type": "markdown",
   "id": "bc698909-3663-440f-98ce-fcfe312faa82",
   "metadata": {},
   "source": [
    "##### Do a final fit with the full training data and early stopping"
   ]
  },
  {
   "cell_type": "code",
   "execution_count": 18,
   "id": "6d124de6-1d5d-4ff9-8071-4d05b0717f13",
   "metadata": {},
   "outputs": [],
   "source": [
    "xgb_model = xgb.XGBClassifier(objective=\"binary:logistic\",\n",
    "                             n_estimators = 20)"
   ]
  },
  {
   "cell_type": "code",
   "execution_count": 19,
   "id": "9eebd329-7e39-4e52-be94-d839ad559b5d",
   "metadata": {},
   "outputs": [],
   "source": [
    "xgb_model = xgb_model.set_params(**random_search.best_params_)"
   ]
  },
  {
   "cell_type": "code",
   "execution_count": 20,
   "id": "a7f80910-9719-486b-8eac-93889064708a",
   "metadata": {},
   "outputs": [
    {
     "name": "stdout",
     "output_type": "stream",
     "text": [
      "[0]\tvalidation_0-logloss:0.48805\tvalidation_1-logloss:0.48808\n",
      "[1]\tvalidation_0-logloss:0.47639\tvalidation_1-logloss:0.47660\n",
      "[2]\tvalidation_0-logloss:0.46925\tvalidation_1-logloss:0.46954\n",
      "[3]\tvalidation_0-logloss:0.46440\tvalidation_1-logloss:0.46477\n",
      "[4]\tvalidation_0-logloss:0.46088\tvalidation_1-logloss:0.46128\n",
      "[5]\tvalidation_0-logloss:0.45853\tvalidation_1-logloss:0.45912\n",
      "[6]\tvalidation_0-logloss:0.45688\tvalidation_1-logloss:0.45752\n",
      "[7]\tvalidation_0-logloss:0.45528\tvalidation_1-logloss:0.45600\n",
      "[8]\tvalidation_0-logloss:0.45433\tvalidation_1-logloss:0.45513\n",
      "[9]\tvalidation_0-logloss:0.45357\tvalidation_1-logloss:0.45446\n",
      "[10]\tvalidation_0-logloss:0.45256\tvalidation_1-logloss:0.45363\n",
      "[11]\tvalidation_0-logloss:0.45191\tvalidation_1-logloss:0.45315\n",
      "[12]\tvalidation_0-logloss:0.45138\tvalidation_1-logloss:0.45271\n",
      "[13]\tvalidation_0-logloss:0.45114\tvalidation_1-logloss:0.45250\n",
      "[14]\tvalidation_0-logloss:0.45093\tvalidation_1-logloss:0.45233\n",
      "[15]\tvalidation_0-logloss:0.45016\tvalidation_1-logloss:0.45170\n",
      "[16]\tvalidation_0-logloss:0.44994\tvalidation_1-logloss:0.45152\n",
      "[17]\tvalidation_0-logloss:0.44969\tvalidation_1-logloss:0.45138\n",
      "[18]\tvalidation_0-logloss:0.44937\tvalidation_1-logloss:0.45117\n",
      "[19]\tvalidation_0-logloss:0.44919\tvalidation_1-logloss:0.45101\n"
     ]
    },
    {
     "data": {
      "text/html": [
       "<style>#sk-container-id-1 {color: black;}#sk-container-id-1 pre{padding: 0;}#sk-container-id-1 div.sk-toggleable {background-color: white;}#sk-container-id-1 label.sk-toggleable__label {cursor: pointer;display: block;width: 100%;margin-bottom: 0;padding: 0.3em;box-sizing: border-box;text-align: center;}#sk-container-id-1 label.sk-toggleable__label-arrow:before {content: \"▸\";float: left;margin-right: 0.25em;color: #696969;}#sk-container-id-1 label.sk-toggleable__label-arrow:hover:before {color: black;}#sk-container-id-1 div.sk-estimator:hover label.sk-toggleable__label-arrow:before {color: black;}#sk-container-id-1 div.sk-toggleable__content {max-height: 0;max-width: 0;overflow: hidden;text-align: left;background-color: #f0f8ff;}#sk-container-id-1 div.sk-toggleable__content pre {margin: 0.2em;color: black;border-radius: 0.25em;background-color: #f0f8ff;}#sk-container-id-1 input.sk-toggleable__control:checked~div.sk-toggleable__content {max-height: 200px;max-width: 100%;overflow: auto;}#sk-container-id-1 input.sk-toggleable__control:checked~label.sk-toggleable__label-arrow:before {content: \"▾\";}#sk-container-id-1 div.sk-estimator input.sk-toggleable__control:checked~label.sk-toggleable__label {background-color: #d4ebff;}#sk-container-id-1 div.sk-label input.sk-toggleable__control:checked~label.sk-toggleable__label {background-color: #d4ebff;}#sk-container-id-1 input.sk-hidden--visually {border: 0;clip: rect(1px 1px 1px 1px);clip: rect(1px, 1px, 1px, 1px);height: 1px;margin: -1px;overflow: hidden;padding: 0;position: absolute;width: 1px;}#sk-container-id-1 div.sk-estimator {font-family: monospace;background-color: #f0f8ff;border: 1px dotted black;border-radius: 0.25em;box-sizing: border-box;margin-bottom: 0.5em;}#sk-container-id-1 div.sk-estimator:hover {background-color: #d4ebff;}#sk-container-id-1 div.sk-parallel-item::after {content: \"\";width: 100%;border-bottom: 1px solid gray;flex-grow: 1;}#sk-container-id-1 div.sk-label:hover label.sk-toggleable__label {background-color: #d4ebff;}#sk-container-id-1 div.sk-serial::before {content: \"\";position: absolute;border-left: 1px solid gray;box-sizing: border-box;top: 0;bottom: 0;left: 50%;z-index: 0;}#sk-container-id-1 div.sk-serial {display: flex;flex-direction: column;align-items: center;background-color: white;padding-right: 0.2em;padding-left: 0.2em;position: relative;}#sk-container-id-1 div.sk-item {position: relative;z-index: 1;}#sk-container-id-1 div.sk-parallel {display: flex;align-items: stretch;justify-content: center;background-color: white;position: relative;}#sk-container-id-1 div.sk-item::before, #sk-container-id-1 div.sk-parallel-item::before {content: \"\";position: absolute;border-left: 1px solid gray;box-sizing: border-box;top: 0;bottom: 0;left: 50%;z-index: -1;}#sk-container-id-1 div.sk-parallel-item {display: flex;flex-direction: column;z-index: 1;position: relative;background-color: white;}#sk-container-id-1 div.sk-parallel-item:first-child::after {align-self: flex-end;width: 50%;}#sk-container-id-1 div.sk-parallel-item:last-child::after {align-self: flex-start;width: 50%;}#sk-container-id-1 div.sk-parallel-item:only-child::after {width: 0;}#sk-container-id-1 div.sk-dashed-wrapped {border: 1px dashed gray;margin: 0 0.4em 0.5em 0.4em;box-sizing: border-box;padding-bottom: 0.4em;background-color: white;}#sk-container-id-1 div.sk-label label {font-family: monospace;font-weight: bold;display: inline-block;line-height: 1.2em;}#sk-container-id-1 div.sk-label-container {text-align: center;}#sk-container-id-1 div.sk-container {/* jupyter's `normalize.less` sets `[hidden] { display: none; }` but bootstrap.min.css set `[hidden] { display: none !important; }` so we also need the `!important` here to be able to override the default hidden behavior on the sphinx rendered scikit-learn.org. See: https://github.com/scikit-learn/scikit-learn/issues/21755 */display: inline-block !important;position: relative;}#sk-container-id-1 div.sk-text-repr-fallback {display: none;}</style><div id=\"sk-container-id-1\" class=\"sk-top-container\"><div class=\"sk-text-repr-fallback\"><pre>XGBClassifier(base_score=None, booster=None, callbacks=None,\n",
       "              colsample_bylevel=None, colsample_bynode=None,\n",
       "              colsample_bytree=None, device=None, early_stopping_rounds=None,\n",
       "              enable_categorical=False, eval_metric=None, feature_types=None,\n",
       "              gamma=1, grow_policy=None, importance_type=None,\n",
       "              interaction_constraints=None, learning_rate=0.3, max_bin=None,\n",
       "              max_cat_threshold=None, max_cat_to_onehot=None,\n",
       "              max_delta_step=None, max_depth=6, max_leaves=None,\n",
       "              min_child_weight=10, missing=nan, monotone_constraints=None,\n",
       "              multi_strategy=None, n_estimators=20, n_jobs=None,\n",
       "              num_parallel_tree=None, random_state=None, ...)</pre><b>In a Jupyter environment, please rerun this cell to show the HTML representation or trust the notebook. <br />On GitHub, the HTML representation is unable to render, please try loading this page with nbviewer.org.</b></div><div class=\"sk-container\" hidden><div class=\"sk-item\"><div class=\"sk-estimator sk-toggleable\"><input class=\"sk-toggleable__control sk-hidden--visually\" id=\"sk-estimator-id-1\" type=\"checkbox\" checked><label for=\"sk-estimator-id-1\" class=\"sk-toggleable__label sk-toggleable__label-arrow\">XGBClassifier</label><div class=\"sk-toggleable__content\"><pre>XGBClassifier(base_score=None, booster=None, callbacks=None,\n",
       "              colsample_bylevel=None, colsample_bynode=None,\n",
       "              colsample_bytree=None, device=None, early_stopping_rounds=None,\n",
       "              enable_categorical=False, eval_metric=None, feature_types=None,\n",
       "              gamma=1, grow_policy=None, importance_type=None,\n",
       "              interaction_constraints=None, learning_rate=0.3, max_bin=None,\n",
       "              max_cat_threshold=None, max_cat_to_onehot=None,\n",
       "              max_delta_step=None, max_depth=6, max_leaves=None,\n",
       "              min_child_weight=10, missing=nan, monotone_constraints=None,\n",
       "              multi_strategy=None, n_estimators=20, n_jobs=None,\n",
       "              num_parallel_tree=None, random_state=None, ...)</pre></div></div></div></div></div>"
      ],
      "text/plain": [
       "XGBClassifier(base_score=None, booster=None, callbacks=None,\n",
       "              colsample_bylevel=None, colsample_bynode=None,\n",
       "              colsample_bytree=None, device=None, early_stopping_rounds=None,\n",
       "              enable_categorical=False, eval_metric=None, feature_types=None,\n",
       "              gamma=1, grow_policy=None, importance_type=None,\n",
       "              interaction_constraints=None, learning_rate=0.3, max_bin=None,\n",
       "              max_cat_threshold=None, max_cat_to_onehot=None,\n",
       "              max_delta_step=None, max_depth=6, max_leaves=None,\n",
       "              min_child_weight=10, missing=nan, monotone_constraints=None,\n",
       "              multi_strategy=None, n_estimators=20, n_jobs=None,\n",
       "              num_parallel_tree=None, random_state=None, ...)"
      ]
     },
     "execution_count": 20,
     "metadata": {},
     "output_type": "execute_result"
    }
   ],
   "source": [
    "xgb_model.fit(train_df[predictor_features], train_df['target'],\n",
    "              eval_set = [(train_df[predictor_features], train_df['target']),\n",
    "                         (val_df[predictor_features], val_df['target'])])"
   ]
  },
  {
   "cell_type": "code",
   "execution_count": 21,
   "id": "9bbd8636-a5f1-4cbc-9498-329a78165472",
   "metadata": {},
   "outputs": [
    {
     "data": {
      "text/plain": [
       "target\n",
       "0    356455\n",
       "1     90797\n",
       "Name: count, dtype: int64"
      ]
     },
     "execution_count": 21,
     "metadata": {},
     "output_type": "execute_result"
    }
   ],
   "source": [
    "train_df['target'].value_counts()"
   ]
  },
  {
   "cell_type": "markdown",
   "id": "0913a102-a730-4b94-9977-e584df764d64",
   "metadata": {},
   "source": [
    "##### Save the model"
   ]
  },
  {
   "cell_type": "code",
   "execution_count": 22,
   "id": "af21dd7c-09d4-407f-9960-0748ba8f2247",
   "metadata": {},
   "outputs": [],
   "source": [
    "xgb_model.save_model(Path(setup.temp_path).joinpath('06_MODEL_xgboost.json'))"
   ]
  },
  {
   "cell_type": "code",
   "execution_count": 23,
   "id": "8e5d3e7d-0bd5-4252-b287-c9cc65f7a132",
   "metadata": {},
   "outputs": [],
   "source": [
    "with open(Path(setup.temp_path).joinpath('06_MODEL_xgboost.pkl'), 'wb') as po:\n",
    "    pickle.dump(xgb_model, po)"
   ]
  },
  {
   "cell_type": "markdown",
   "id": "f34ad059-70dc-4672-adff-0d961fc74b07",
   "metadata": {},
   "source": [
    "## Probability Predictions"
   ]
  },
  {
   "cell_type": "code",
   "execution_count": 24,
   "id": "6a7c8509-0109-4f8e-a466-d6e21164012c",
   "metadata": {},
   "outputs": [],
   "source": [
    "pred_df = pd.concat([pd.DataFrame({'actual': df['target'], \n",
    "                                          'predict': xgb_model.predict_proba(df[predictor_features])[:,1]}) \\\n",
    "                            for df in [train_df, test_df, val_df]], \n",
    "                           keys = ['train', 'test', 'val'], names=['dset', 'index']) "
   ]
  },
  {
   "cell_type": "code",
   "execution_count": 25,
   "id": "153e3014-421d-4685-93ed-2e23b9972ea9",
   "metadata": {},
   "outputs": [
    {
     "data": {
      "text/html": [
       "<div>\n",
       "<style scoped>\n",
       "    .dataframe tbody tr th:only-of-type {\n",
       "        vertical-align: middle;\n",
       "    }\n",
       "\n",
       "    .dataframe tbody tr th {\n",
       "        vertical-align: top;\n",
       "    }\n",
       "\n",
       "    .dataframe thead th {\n",
       "        text-align: right;\n",
       "    }\n",
       "</style>\n",
       "<table border=\"1\" class=\"dataframe\">\n",
       "  <thead>\n",
       "    <tr style=\"text-align: right;\">\n",
       "      <th></th>\n",
       "      <th>mean</th>\n",
       "      <th>std</th>\n",
       "    </tr>\n",
       "    <tr>\n",
       "      <th>actual</th>\n",
       "      <th></th>\n",
       "      <th></th>\n",
       "    </tr>\n",
       "  </thead>\n",
       "  <tbody>\n",
       "    <tr>\n",
       "      <th>0</th>\n",
       "      <td>0.183684</td>\n",
       "      <td>0.115552</td>\n",
       "    </tr>\n",
       "    <tr>\n",
       "      <th>1</th>\n",
       "      <td>0.279775</td>\n",
       "      <td>0.107172</td>\n",
       "    </tr>\n",
       "  </tbody>\n",
       "</table>\n",
       "</div>"
      ],
      "text/plain": [
       "            mean       std\n",
       "actual                    \n",
       "0       0.183684  0.115552\n",
       "1       0.279775  0.107172"
      ]
     },
     "execution_count": 25,
     "metadata": {},
     "output_type": "execute_result"
    }
   ],
   "source": [
    "pred_df.groupby(['actual'])['predict'].agg(['mean', 'std'])"
   ]
  },
  {
   "cell_type": "markdown",
   "id": "d33cb4dc-6c89-4a37-98c7-d3a666abc4a5",
   "metadata": {},
   "source": [
    "## Decision Threshold\n",
    "Max f1, on training data"
   ]
  },
  {
   "cell_type": "code",
   "execution_count": 26,
   "id": "d7727498-825f-4f53-882f-cfcce730b1fc",
   "metadata": {},
   "outputs": [],
   "source": [
    "pred_train_df = pred_df[pred_df.index.get_level_values(0) == 'train']"
   ]
  },
  {
   "cell_type": "code",
   "execution_count": 27,
   "id": "28f5eb7f-3d36-41c5-a805-936f59d11a68",
   "metadata": {},
   "outputs": [],
   "source": [
    "def get_f1_sing(actual, pred_prob, thresh):\n",
    "    return f1_score(pred_train_df['actual'], \n",
    "         np.where(pred_train_df['predict'] > thresh, 1, 0))"
   ]
  },
  {
   "cell_type": "code",
   "execution_count": 28,
   "id": "e27a923a-dbda-4757-a63a-388f96fe0c17",
   "metadata": {},
   "outputs": [],
   "source": [
    "def get_f1_frame(actual, pred_prob, num_pts = 51):\n",
    "    thresh_ser = pd.Series(np.linspace(0, 1, num_pts))\n",
    "    return pd.DataFrame({'thresh': thresh_ser,\n",
    "                         'f1': thresh_ser.apply(lambda x: get_f1_sing(actual, pred_prob, x))})"
   ]
  },
  {
   "cell_type": "code",
   "execution_count": 29,
   "id": "6f8ec137-195f-448d-8ef0-e29705910f6c",
   "metadata": {},
   "outputs": [],
   "source": [
    "thresh_df = get_f1_frame(pred_train_df['actual'], pred_train_df['predict'])"
   ]
  },
  {
   "cell_type": "code",
   "execution_count": 30,
   "id": "7a1cde01-a30b-475f-8fd7-409b13946c6d",
   "metadata": {},
   "outputs": [],
   "source": [
    "thresh_df.to_csv(Path(setup.temp_path).joinpath('06_REPORT_thresh_tune.csv'), index=False)"
   ]
  },
  {
   "cell_type": "code",
   "execution_count": 31,
   "id": "947a487c-e71d-433c-bbf0-2ed7e57a908a",
   "metadata": {},
   "outputs": [
    {
     "name": "stdout",
     "output_type": "stream",
     "text": [
      "0.24\n"
     ]
    },
    {
     "data": {
      "text/html": [
       "<div>\n",
       "<style scoped>\n",
       "    .dataframe tbody tr th:only-of-type {\n",
       "        vertical-align: middle;\n",
       "    }\n",
       "\n",
       "    .dataframe tbody tr th {\n",
       "        vertical-align: top;\n",
       "    }\n",
       "\n",
       "    .dataframe thead th {\n",
       "        text-align: right;\n",
       "    }\n",
       "</style>\n",
       "<table border=\"1\" class=\"dataframe\">\n",
       "  <thead>\n",
       "    <tr style=\"text-align: right;\">\n",
       "      <th></th>\n",
       "      <th>thresh</th>\n",
       "      <th>f1</th>\n",
       "    </tr>\n",
       "  </thead>\n",
       "  <tbody>\n",
       "    <tr>\n",
       "      <th>12</th>\n",
       "      <td>0.24</td>\n",
       "      <td>0.447882</td>\n",
       "    </tr>\n",
       "    <tr>\n",
       "      <th>11</th>\n",
       "      <td>0.22</td>\n",
       "      <td>0.447439</td>\n",
       "    </tr>\n",
       "  </tbody>\n",
       "</table>\n",
       "</div>"
      ],
      "text/plain": [
       "    thresh        f1\n",
       "12    0.24  0.447882\n",
       "11    0.22  0.447439"
      ]
     },
     "execution_count": 31,
     "metadata": {},
     "output_type": "execute_result"
    }
   ],
   "source": [
    "thresh_head = thresh_df.sort_values('f1', ascending=False).head(2)\n",
    "best_thresh = thresh_head['thresh'].iloc[0]\n",
    "print(best_thresh)\n",
    "thresh_head"
   ]
  },
  {
   "cell_type": "markdown",
   "id": "1ee5330e-c1a7-4310-afbe-be9bc0d26f43",
   "metadata": {},
   "source": [
    "##### Apply decision threshold\n",
    "All datasets"
   ]
  },
  {
   "cell_type": "code",
   "execution_count": 32,
   "id": "f0d4c1cf-6d5b-49e9-9123-a067697a9e39",
   "metadata": {},
   "outputs": [],
   "source": [
    "pred_df['predict_bin'] = np.where(pred_df['predict'] >= best_thresh, 1, 0)"
   ]
  },
  {
   "cell_type": "code",
   "execution_count": 33,
   "id": "8253c32c-0438-47b9-8570-7cde6f7f5590",
   "metadata": {},
   "outputs": [
    {
     "data": {
      "text/plain": [
       "predict_bin\n",
       "0    401741\n",
       "1    286340\n",
       "Name: count, dtype: int64"
      ]
     },
     "execution_count": 33,
     "metadata": {},
     "output_type": "execute_result"
    }
   ],
   "source": [
    "pred_df['predict_bin'].value_counts()"
   ]
  },
  {
   "cell_type": "code",
   "execution_count": 34,
   "id": "dbb46f4a-a5ef-4fd6-9da4-30de4a00334d",
   "metadata": {},
   "outputs": [],
   "source": [
    "pred_df.to_parquet(Path(setup.temp_path).joinpath('06_DATA_combined_predictions.parquet'))"
   ]
  },
  {
   "cell_type": "code",
   "execution_count": 35,
   "id": "be5aed88-21e6-4604-954c-5da57a3c5b4c",
   "metadata": {},
   "outputs": [
    {
     "data": {
      "text/html": [
       "<div>\n",
       "<style scoped>\n",
       "    .dataframe tbody tr th:only-of-type {\n",
       "        vertical-align: middle;\n",
       "    }\n",
       "\n",
       "    .dataframe tbody tr th {\n",
       "        vertical-align: top;\n",
       "    }\n",
       "\n",
       "    .dataframe thead th {\n",
       "        text-align: right;\n",
       "    }\n",
       "</style>\n",
       "<table border=\"1\" class=\"dataframe\">\n",
       "  <thead>\n",
       "    <tr style=\"text-align: right;\">\n",
       "      <th></th>\n",
       "      <th></th>\n",
       "      <th>actual</th>\n",
       "      <th>predict</th>\n",
       "      <th>predict_bin</th>\n",
       "    </tr>\n",
       "    <tr>\n",
       "      <th>dset</th>\n",
       "      <th>index</th>\n",
       "      <th></th>\n",
       "      <th></th>\n",
       "      <th></th>\n",
       "    </tr>\n",
       "  </thead>\n",
       "  <tbody>\n",
       "    <tr>\n",
       "      <th rowspan=\"10\" valign=\"top\">train</th>\n",
       "      <th>538061</th>\n",
       "      <td>0</td>\n",
       "      <td>0.102109</td>\n",
       "      <td>0</td>\n",
       "    </tr>\n",
       "    <tr>\n",
       "      <th>220915</th>\n",
       "      <td>0</td>\n",
       "      <td>0.124995</td>\n",
       "      <td>0</td>\n",
       "    </tr>\n",
       "    <tr>\n",
       "      <th>237886</th>\n",
       "      <td>1</td>\n",
       "      <td>0.268126</td>\n",
       "      <td>1</td>\n",
       "    </tr>\n",
       "    <tr>\n",
       "      <th>852933</th>\n",
       "      <td>0</td>\n",
       "      <td>0.061619</td>\n",
       "      <td>0</td>\n",
       "    </tr>\n",
       "    <tr>\n",
       "      <th>370109</th>\n",
       "      <td>0</td>\n",
       "      <td>0.136512</td>\n",
       "      <td>0</td>\n",
       "    </tr>\n",
       "    <tr>\n",
       "      <th>825551</th>\n",
       "      <td>0</td>\n",
       "      <td>0.041004</td>\n",
       "      <td>0</td>\n",
       "    </tr>\n",
       "    <tr>\n",
       "      <th>462351</th>\n",
       "      <td>0</td>\n",
       "      <td>0.120273</td>\n",
       "      <td>0</td>\n",
       "    </tr>\n",
       "    <tr>\n",
       "      <th>886865</th>\n",
       "      <td>1</td>\n",
       "      <td>0.086005</td>\n",
       "      <td>0</td>\n",
       "    </tr>\n",
       "    <tr>\n",
       "      <th>687784</th>\n",
       "      <td>0</td>\n",
       "      <td>0.089106</td>\n",
       "      <td>0</td>\n",
       "    </tr>\n",
       "    <tr>\n",
       "      <th>402987</th>\n",
       "      <td>0</td>\n",
       "      <td>0.222071</td>\n",
       "      <td>0</td>\n",
       "    </tr>\n",
       "  </tbody>\n",
       "</table>\n",
       "</div>"
      ],
      "text/plain": [
       "              actual   predict  predict_bin\n",
       "dset  index                                \n",
       "train 538061       0  0.102109            0\n",
       "      220915       0  0.124995            0\n",
       "      237886       1  0.268126            1\n",
       "      852933       0  0.061619            0\n",
       "      370109       0  0.136512            0\n",
       "      825551       0  0.041004            0\n",
       "      462351       0  0.120273            0\n",
       "      886865       1  0.086005            0\n",
       "      687784       0  0.089106            0\n",
       "      402987       0  0.222071            0"
      ]
     },
     "execution_count": 35,
     "metadata": {},
     "output_type": "execute_result"
    }
   ],
   "source": [
    "pred_df.head(10)"
   ]
  },
  {
   "cell_type": "markdown",
   "id": "0ab860d0-eddc-4f63-b853-88da15d451f4",
   "metadata": {},
   "source": [
    "## Metrics"
   ]
  },
  {
   "cell_type": "markdown",
   "id": "a0da5ae1-8a3c-4e8a-a888-c8578ecf62f0",
   "metadata": {},
   "source": [
    "##### Classification metrics\n",
    "Accuracy, f1, precision, recall"
   ]
  },
  {
   "cell_type": "code",
   "execution_count": 36,
   "id": "be873b12-afbe-4a3d-a986-c3d9addd5c62",
   "metadata": {},
   "outputs": [],
   "source": [
    "def dset_metrics(df, metrics_list = [accuracy_score, f1_score, precision_score, recall_score],\n",
    "                actual_col = 'actual', predict_col = 'predict_bin'):\n",
    "    return pd.Series([m(df[actual_col], df[predict_col]) for m in metrics_list],\n",
    "                               index=[m.__name__ for m in metrics_list]) "
   ]
  },
  {
   "cell_type": "code",
   "execution_count": 37,
   "id": "883a4bd6-db30-413b-8dad-35c3723f8bf0",
   "metadata": {},
   "outputs": [],
   "source": [
    "metrics_class_df = pred_df.groupby('dset').apply(dset_metrics)"
   ]
  },
  {
   "cell_type": "markdown",
   "id": "aa62468f-8ec7-4ea4-bc34-bbab146a017a",
   "metadata": {},
   "source": [
    "##### AUC scores\n",
    "PR-AUC and ROC-AUC"
   ]
  },
  {
   "cell_type": "code",
   "execution_count": 38,
   "id": "f8602172-927c-412b-8ef5-8e23810b3e42",
   "metadata": {},
   "outputs": [],
   "source": [
    "metrics_auc_df = pd.concat([pd.DataFrame({metf.__name__: [metf(df['target'], xgb_model.predict_proba(df[predictor_features])[:,1])] \\\n",
    "              for metf in [average_precision_score, roc_auc_score]})\n",
    "           for df in [train_df, test_df, val_df]], keys = ['train', 'test', 'val']) \\\n",
    "    .reset_index(level=1, drop=True)"
   ]
  },
  {
   "cell_type": "code",
   "execution_count": 39,
   "id": "17ddc916-f4a1-4291-aaf3-801c6d4e2978",
   "metadata": {},
   "outputs": [],
   "source": [
    "metrics_df = pd.concat([metrics_class_df, metrics_auc_df], axis=1)\n",
    "metrics_df.to_csv(Path(setup.temp_path).joinpath('06_REPORT_metrics.csv'))"
   ]
  },
  {
   "cell_type": "code",
   "execution_count": 40,
   "id": "1bc0d34c-8027-4ea8-83d2-bec724e61e14",
   "metadata": {},
   "outputs": [
    {
     "data": {
      "text/html": [
       "<div>\n",
       "<style scoped>\n",
       "    .dataframe tbody tr th:only-of-type {\n",
       "        vertical-align: middle;\n",
       "    }\n",
       "\n",
       "    .dataframe tbody tr th {\n",
       "        vertical-align: top;\n",
       "    }\n",
       "\n",
       "    .dataframe thead th {\n",
       "        text-align: right;\n",
       "    }\n",
       "</style>\n",
       "<table border=\"1\" class=\"dataframe\">\n",
       "  <thead>\n",
       "    <tr style=\"text-align: right;\">\n",
       "      <th></th>\n",
       "      <th>accuracy_score</th>\n",
       "      <th>f1_score</th>\n",
       "      <th>precision_score</th>\n",
       "      <th>recall_score</th>\n",
       "      <th>average_precision_score</th>\n",
       "      <th>roc_auc_score</th>\n",
       "    </tr>\n",
       "  </thead>\n",
       "  <tbody>\n",
       "    <tr>\n",
       "      <th>test</th>\n",
       "      <td>0.655910</td>\n",
       "      <td>0.444717</td>\n",
       "      <td>0.330703</td>\n",
       "      <td>0.678711</td>\n",
       "      <td>0.374214</td>\n",
       "      <td>0.725178</td>\n",
       "    </tr>\n",
       "    <tr>\n",
       "      <th>train</th>\n",
       "      <td>0.658470</td>\n",
       "      <td>0.447882</td>\n",
       "      <td>0.333339</td>\n",
       "      <td>0.682357</td>\n",
       "      <td>0.380596</td>\n",
       "      <td>0.728479</td>\n",
       "    </tr>\n",
       "    <tr>\n",
       "      <th>val</th>\n",
       "      <td>0.656168</td>\n",
       "      <td>0.446361</td>\n",
       "      <td>0.331562</td>\n",
       "      <td>0.682757</td>\n",
       "      <td>0.376238</td>\n",
       "      <td>0.725306</td>\n",
       "    </tr>\n",
       "  </tbody>\n",
       "</table>\n",
       "</div>"
      ],
      "text/plain": [
       "       accuracy_score  f1_score  precision_score  recall_score  \\\n",
       "test         0.655910  0.444717         0.330703      0.678711   \n",
       "train        0.658470  0.447882         0.333339      0.682357   \n",
       "val          0.656168  0.446361         0.331562      0.682757   \n",
       "\n",
       "       average_precision_score  roc_auc_score  \n",
       "test                  0.374214       0.725178  \n",
       "train                 0.380596       0.728479  \n",
       "val                   0.376238       0.725306  "
      ]
     },
     "execution_count": 40,
     "metadata": {},
     "output_type": "execute_result"
    }
   ],
   "source": [
    "metrics_df"
   ]
  },
  {
   "cell_type": "markdown",
   "id": "3d906270-4264-4b0b-9f50-dcef8f75a5fd",
   "metadata": {},
   "source": [
    "## Lift\n",
    "Test data"
   ]
  },
  {
   "cell_type": "code",
   "execution_count": 41,
   "id": "82d9c0ab-8989-450d-a2b1-7997ca636052",
   "metadata": {},
   "outputs": [],
   "source": [
    "pred_test_df = pred_df[pred_df.index.get_level_values(0) == 'test']"
   ]
  },
  {
   "cell_type": "code",
   "execution_count": 42,
   "id": "1919ffe9-cfe8-4d89-9c68-bcf729e4c328",
   "metadata": {},
   "outputs": [
    {
     "data": {
      "image/png": "[encoded data removed]",
      "text/plain": [
       "<Figure size 400x300 with 1 Axes>"
      ]
     },
     "metadata": {},
     "output_type": "display_data"
    }
   ],
   "source": [
    "plot_lift_curve(pred_test_df['actual'].sort_index(), \n",
    "                xgb_model.predict_proba(test_df[predictor_features].sort_index()), \n",
    "                title='Lift Curve', ax=None, figsize=(4,3), \n",
    "                title_fontsize='large', text_fontsize='medium')\n",
    "plt.gca().legend(loc='upper right')\n",
    "plt.gcf().savefig(Path(setup.temp_path).joinpath('06_PLOT_lift_curve.png'),bbox_inches='tight')"
   ]
  },
  {
   "cell_type": "markdown",
   "id": "04994f41-3c98-412a-bb2f-11e5ae22b432",
   "metadata": {},
   "source": [
    "## Feature Importance "
   ]
  },
  {
   "cell_type": "markdown",
   "id": "926af7df-e407-484b-bd86-ae7d76a46392",
   "metadata": {},
   "source": [
    "##### XGBoost gain"
   ]
  },
  {
   "cell_type": "code",
   "execution_count": 43,
   "id": "ec3f6e1f-2b29-4b46-ac12-7a8451a3a45b",
   "metadata": {},
   "outputs": [],
   "source": [
    "feat_impgain = pd.DataFrame(xgb_model.get_booster().get_score(importance_type='gain'),\n",
    "                                     index=['importance']).T \\\n",
    "    .sort_values('importance', ascending=False)"
   ]
  },
  {
   "cell_type": "code",
   "execution_count": 44,
   "id": "9586c637-7add-4401-b61c-37abd55b11b4",
   "metadata": {},
   "outputs": [],
   "source": [
    "feat_impgain.to_csv(Path(setup.temp_path).joinpath('06_REPORT_importance_gain.csv'), index=True)"
   ]
  },
  {
   "cell_type": "code",
   "execution_count": 45,
   "id": "311e111f-d8e5-4a52-8adc-6a7c5f9daa8f",
   "metadata": {},
   "outputs": [
    {
     "data": {
      "text/html": [
       "<div>\n",
       "<style scoped>\n",
       "    .dataframe tbody tr th:only-of-type {\n",
       "        vertical-align: middle;\n",
       "    }\n",
       "\n",
       "    .dataframe tbody tr th {\n",
       "        vertical-align: top;\n",
       "    }\n",
       "\n",
       "    .dataframe thead th {\n",
       "        text-align: right;\n",
       "    }\n",
       "</style>\n",
       "<table border=\"1\" class=\"dataframe\">\n",
       "  <thead>\n",
       "    <tr style=\"text-align: right;\">\n",
       "      <th></th>\n",
       "      <th>importance</th>\n",
       "    </tr>\n",
       "  </thead>\n",
       "  <tbody>\n",
       "    <tr>\n",
       "      <th>urban_flag</th>\n",
       "      <td>876.936279</td>\n",
       "    </tr>\n",
       "    <tr>\n",
       "      <th>LowDoc</th>\n",
       "      <td>146.473099</td>\n",
       "    </tr>\n",
       "    <tr>\n",
       "      <th>DisbursementGross</th>\n",
       "      <td>124.795158</td>\n",
       "    </tr>\n",
       "    <tr>\n",
       "      <th>NAICS_num</th>\n",
       "      <td>46.685722</td>\n",
       "    </tr>\n",
       "    <tr>\n",
       "      <th>new_business</th>\n",
       "      <td>45.321449</td>\n",
       "    </tr>\n",
       "  </tbody>\n",
       "</table>\n",
       "</div>"
      ],
      "text/plain": [
       "                   importance\n",
       "urban_flag         876.936279\n",
       "LowDoc             146.473099\n",
       "DisbursementGross  124.795158\n",
       "NAICS_num           46.685722\n",
       "new_business        45.321449"
      ]
     },
     "execution_count": 45,
     "metadata": {},
     "output_type": "execute_result"
    }
   ],
   "source": [
    "feat_impgain.head()"
   ]
  },
  {
   "cell_type": "code",
   "execution_count": 46,
   "id": "9c88564a-7289-4c49-b2cd-b97338d1b042",
   "metadata": {},
   "outputs": [
    {
     "data": {
      "image/png": "[encoded data removed]",
      "text/plain": [
       "<Figure size 640x480 with 1 Axes>"
      ]
     },
     "metadata": {},
     "output_type": "display_data"
    }
   ],
   "source": [
    "feat_impgain.plot(kind='barh', legend=None)\n",
    "plt.gca().invert_yaxis()\n",
    "plt.xlabel('gain importance')\n",
    "plt.gcf().savefig(Path(setup.temp_path).joinpath('06_PLOT_importance_gain.png'))"
   ]
  },
  {
   "cell_type": "markdown",
   "id": "27e5fb90-f305-40ff-acaf-285d7d056c15",
   "metadata": {},
   "source": [
    "##### Permutation Importance"
   ]
  },
  {
   "cell_type": "code",
   "execution_count": 47,
   "id": "e2c1c123-20d0-423d-b684-585c0a5d6d2b",
   "metadata": {},
   "outputs": [],
   "source": [
    "perm_importance = permutation_importance(xgb_model, train_df[predictor_features], train_df['target'])"
   ]
  },
  {
   "cell_type": "code",
   "execution_count": 48,
   "id": "ab0df42e-af4e-46b1-b0cf-630877137678",
   "metadata": {},
   "outputs": [],
   "source": [
    "perm_importance_df = pd.DataFrame({'features':predictor_features,\n",
    "                                   'importance': perm_importance['importances_mean']}) \n",
    "perm_importance_df['abs_importance'] = np.abs(perm_importance_df['importance'])\n",
    "perm_importance_df = perm_importance_df.sort_values('abs_importance', ascending=False)"
   ]
  },
  {
   "cell_type": "code",
   "execution_count": 49,
   "id": "0cbc5d84-6775-404f-a685-44f5be5cd481",
   "metadata": {},
   "outputs": [
    {
     "data": {
      "text/html": [
       "<div>\n",
       "<style scoped>\n",
       "    .dataframe tbody tr th:only-of-type {\n",
       "        vertical-align: middle;\n",
       "    }\n",
       "\n",
       "    .dataframe tbody tr th {\n",
       "        vertical-align: top;\n",
       "    }\n",
       "\n",
       "    .dataframe thead th {\n",
       "        text-align: right;\n",
       "    }\n",
       "</style>\n",
       "<table border=\"1\" class=\"dataframe\">\n",
       "  <thead>\n",
       "    <tr style=\"text-align: right;\">\n",
       "      <th></th>\n",
       "      <th>features</th>\n",
       "      <th>importance</th>\n",
       "      <th>abs_importance</th>\n",
       "    </tr>\n",
       "  </thead>\n",
       "  <tbody>\n",
       "    <tr>\n",
       "      <th>3</th>\n",
       "      <td>DisbursementGross</td>\n",
       "      <td>0.002111</td>\n",
       "      <td>0.002111</td>\n",
       "    </tr>\n",
       "    <tr>\n",
       "      <th>1</th>\n",
       "      <td>CreateJob</td>\n",
       "      <td>0.001532</td>\n",
       "      <td>0.001532</td>\n",
       "    </tr>\n",
       "    <tr>\n",
       "      <th>7</th>\n",
       "      <td>NAICS_num</td>\n",
       "      <td>0.000926</td>\n",
       "      <td>0.000926</td>\n",
       "    </tr>\n",
       "    <tr>\n",
       "      <th>5</th>\n",
       "      <td>urban_flag</td>\n",
       "      <td>0.000477</td>\n",
       "      <td>0.000477</td>\n",
       "    </tr>\n",
       "    <tr>\n",
       "      <th>2</th>\n",
       "      <td>LowDoc</td>\n",
       "      <td>0.000405</td>\n",
       "      <td>0.000405</td>\n",
       "    </tr>\n",
       "  </tbody>\n",
       "</table>\n",
       "</div>"
      ],
      "text/plain": [
       "            features  importance  abs_importance\n",
       "3  DisbursementGross    0.002111        0.002111\n",
       "1          CreateJob    0.001532        0.001532\n",
       "7          NAICS_num    0.000926        0.000926\n",
       "5         urban_flag    0.000477        0.000477\n",
       "2             LowDoc    0.000405        0.000405"
      ]
     },
     "execution_count": 49,
     "metadata": {},
     "output_type": "execute_result"
    }
   ],
   "source": [
    "perm_importance_df.head(5)"
   ]
  },
  {
   "cell_type": "code",
   "execution_count": 50,
   "id": "38059608-2f72-491f-86b3-0c1418b83531",
   "metadata": {},
   "outputs": [],
   "source": [
    "perm_importance_df \\\n",
    "    .to_csv(Path(setup.temp_path).joinpath('06_DATA_importance_perturb.csv'),\n",
    "            index=False)"
   ]
  },
  {
   "cell_type": "code",
   "execution_count": 51,
   "id": "c27499c8-065b-4143-a7dc-bce301bf3edf",
   "metadata": {},
   "outputs": [
    {
     "data": {
      "image/png": "[encoded data removed]",
      "text/plain": [
       "<Figure size 640x480 with 1 Axes>"
      ]
     },
     "metadata": {},
     "output_type": "display_data"
    }
   ],
   "source": [
    "perm_importance_df.head(10).plot(kind='barh', x='features', y='importance', legend=None)\n",
    "plt.gca().invert_yaxis()\n",
    "plt.xlabel('permutation importance')\n",
    "plt.ylabel(None)\n",
    "plt.gcf().savefig(Path(setup.temp_path).joinpath('06_PLOT_importance_perturb.png'))"
   ]
  },
  {
   "cell_type": "markdown",
   "id": "3bb47dc7-8872-40da-9b13-b6aa136d567d",
   "metadata": {
    "tags": []
   },
   "source": [
    "## ALE Plot for Numeric NAICS\n",
    "Get an idea of the independent effect of NAICS on the prediction"
   ]
  },
  {
   "cell_type": "code",
   "execution_count": 52,
   "id": "d821ace8-a811-499d-880e-932eb3b6ce8a",
   "metadata": {},
   "outputs": [
    {
     "name": "stderr",
     "output_type": "stream",
     "text": [
      "PyALE._ALE_generic:INFO: Continuous feature detected.\n"
     ]
    },
    {
     "data": {
      "image/png": "[encoded data removed]",
      "text/plain": [
       "<Figure size 800x400 with 1 Axes>"
      ]
     },
     "metadata": {},
     "output_type": "display_data"
    }
   ],
   "source": [
    "plt.close()\n",
    "ale_info = ale(X=train_df[~train_df['NAICS_num'].isna()][predictor_features], model=xgb_model, feature=['NAICS_num'],\n",
    "                       plot=True, grid_size = 100)\n",
    "plt.gcf().savefig(Path(setup.temp_path).joinpath('06_PLOT_ale_naics_num.png'),\n",
    "               bbox_inches='tight')"
   ]
  },
  {
   "cell_type": "code",
   "execution_count": 53,
   "id": "131b8e18-f304-4fbd-a6f0-646e4bc7e6bd",
   "metadata": {},
   "outputs": [
    {
     "data": {
      "text/html": [
       "<div>\n",
       "<style scoped>\n",
       "    .dataframe tbody tr th:only-of-type {\n",
       "        vertical-align: middle;\n",
       "    }\n",
       "\n",
       "    .dataframe tbody tr th {\n",
       "        vertical-align: top;\n",
       "    }\n",
       "\n",
       "    .dataframe thead th {\n",
       "        text-align: right;\n",
       "    }\n",
       "</style>\n",
       "<table border=\"1\" class=\"dataframe\">\n",
       "  <thead>\n",
       "    <tr style=\"text-align: right;\">\n",
       "      <th></th>\n",
       "      <th>eff</th>\n",
       "      <th>size</th>\n",
       "      <th>lowerCI_95%</th>\n",
       "      <th>upperCI_95%</th>\n",
       "    </tr>\n",
       "    <tr>\n",
       "      <th>NAICS_num</th>\n",
       "      <th></th>\n",
       "      <th></th>\n",
       "      <th></th>\n",
       "      <th></th>\n",
       "    </tr>\n",
       "  </thead>\n",
       "  <tbody>\n",
       "    <tr>\n",
       "      <th>531210.0</th>\n",
       "      <td>0.043191</td>\n",
       "      <td>3722.0</td>\n",
       "      <td>0.036424</td>\n",
       "      <td>0.049957</td>\n",
       "    </tr>\n",
       "    <tr>\n",
       "      <th>236118.0</th>\n",
       "      <td>0.042020</td>\n",
       "      <td>7067.0</td>\n",
       "      <td>0.035873</td>\n",
       "      <td>0.048168</td>\n",
       "    </tr>\n",
       "    <tr>\n",
       "      <th>541613.0</th>\n",
       "      <td>0.014657</td>\n",
       "      <td>4230.0</td>\n",
       "      <td>0.011181</td>\n",
       "      <td>0.018133</td>\n",
       "    </tr>\n",
       "  </tbody>\n",
       "</table>\n",
       "</div>"
      ],
      "text/plain": [
       "                eff    size  lowerCI_95%  upperCI_95%\n",
       "NAICS_num                                            \n",
       "531210.0   0.043191  3722.0     0.036424     0.049957\n",
       "236118.0   0.042020  7067.0     0.035873     0.048168\n",
       "541613.0   0.014657  4230.0     0.011181     0.018133"
      ]
     },
     "execution_count": 53,
     "metadata": {},
     "output_type": "execute_result"
    }
   ],
   "source": [
    "ale_info.sort_values('eff', ascending=False).head(3)"
   ]
  },
  {
   "cell_type": "code",
   "execution_count": 54,
   "id": "7be8b83c-edb1-4be2-a640-56251edb4214",
   "metadata": {},
   "outputs": [],
   "source": [
    "# NAICS 531210 is \"Offices of Real Estate Agents and Brokers\"\n",
    "# NAICS 541613 is \"Marketing Consulting Services\""
   ]
  },
  {
   "cell_type": "code",
   "execution_count": null,
   "id": "ff452ead-cab6-40bb-81e6-d573d40a1d2c",
   "metadata": {},
   "outputs": [],
   "source": []
  }
 ],
 "metadata": {
  "kernelspec": {
   "display_name": "tf_p39",
   "language": "python",
   "name": "tf_p39"
  },
  "language_info": {
   "codemirror_mode": {
    "name": "ipython",
    "version": 3
   },
   "file_extension": ".py",
   "mimetype": "text/x-python",
   "name": "python",
   "nbconvert_exporter": "python",
   "pygments_lexer": "ipython3",
   "version": "3.8.18"
  }
 },
 "nbformat": 4,
 "nbformat_minor": 5
}
