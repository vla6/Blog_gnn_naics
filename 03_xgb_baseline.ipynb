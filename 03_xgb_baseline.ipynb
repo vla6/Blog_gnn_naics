{
 "cells": [
  {
   "cell_type": "code",
   "execution_count": 1,
   "id": "4c65f557-651f-4958-a567-a1b6b5a82b2b",
   "metadata": {
    "tags": []
   },
   "outputs": [],
   "source": [
    "# Modify the file 00_setup.py to define input/output file paths on your system\n",
    "# The information in 00_setup.py will be used across notebooks\n",
    "from importlib.machinery import SourceFileLoader\n",
    "setup = SourceFileLoader(\"setup\", \"./00_setup.py\").load_module()"
   ]
  },
  {
   "cell_type": "markdown",
   "id": "b01d0fdb-d4bf-465a-8541-997addc50b0c",
   "metadata": {},
   "source": [
    "# XGBoost Baseline, no NAICS\n",
    "XGBoost model, but without NAICS features"
   ]
  },
  {
   "cell_type": "markdown",
   "id": "56161f89-1f54-47f9-860d-3f945a941c1f",
   "metadata": {},
   "source": [
    "*This script takes about 5 minutes on my MacBook Air*"
   ]
  },
  {
   "cell_type": "code",
   "execution_count": 2,
   "id": "ec6b1778-7abc-4129-ab5f-ac2992bd8ca6",
   "metadata": {},
   "outputs": [],
   "source": [
    "import pandas as pd\n",
    "import numpy as np\n",
    "import xgboost as xgb\n",
    "import warnings\n",
    "import matplotlib.pyplot as plt\n",
    "import pickle, importlib"
   ]
  },
  {
   "cell_type": "code",
   "execution_count": 3,
   "id": "785af927-a634-4e34-84c4-7a532236f2ca",
   "metadata": {},
   "outputs": [],
   "source": [
    "from pathlib import Path"
   ]
  },
  {
   "cell_type": "code",
   "execution_count": 4,
   "id": "fd09527b-32dd-47fa-b62f-f9307f89f553",
   "metadata": {},
   "outputs": [],
   "source": [
    "import sklearn as sk\n",
    "from sklearn.inspection import permutation_importance\n",
    "from scikitplot.metrics import plot_lift_curve"
   ]
  },
  {
   "cell_type": "code",
   "execution_count": 5,
   "id": "0732ba40-8318-457b-b29f-f9b6de3b70aa",
   "metadata": {},
   "outputs": [],
   "source": [
    "from sba_gnn.sba_gnn import sg_plot, sg_xgboost"
   ]
  },
  {
   "cell_type": "markdown",
   "id": "d14a5947-6599-4253-acf3-91ddeffdedd3",
   "metadata": {},
   "source": [
    "## Import Processed Datasets"
   ]
  },
  {
   "cell_type": "code",
   "execution_count": 6,
   "id": "f6bc5cc5-b635-420f-852c-6cc9bba68a52",
   "metadata": {},
   "outputs": [],
   "source": [
    "sba_loans = pd.read_parquet(Path(setup.temp_path).joinpath('01_DATA_transformed.parquet'))"
   ]
  },
  {
   "cell_type": "code",
   "execution_count": 7,
   "id": "a5f6c362-c1ab-48d8-812b-2b970b06586b",
   "metadata": {},
   "outputs": [],
   "source": [
    "train_df = sba_loans[sba_loans['dset'] == 'train'].copy()\n",
    "test_df = sba_loans[sba_loans['dset'] == 'test']\n",
    "val_df = sba_loans[sba_loans['dset'] == 'val']"
   ]
  },
  {
   "cell_type": "code",
   "execution_count": 8,
   "id": "7b1db53b-181c-450d-9f7e-be350bc3111f",
   "metadata": {},
   "outputs": [
    {
     "data": {
      "text/plain": [
       "(425594, 50)"
      ]
     },
     "execution_count": 8,
     "metadata": {},
     "output_type": "execute_result"
    }
   ],
   "source": [
    "train_df.shape"
   ]
  },
  {
   "cell_type": "code",
   "execution_count": 9,
   "id": "a6d13f46-cfc4-4351-a2a9-89fa42d34999",
   "metadata": {},
   "outputs": [
    {
     "data": {
      "text/plain": [
       "(425594, 50)"
      ]
     },
     "execution_count": 9,
     "metadata": {},
     "output_type": "execute_result"
    }
   ],
   "source": [
    "train_df.drop_duplicates('LoanNr_ChkDgt').shape"
   ]
  },
  {
   "cell_type": "markdown",
   "id": "d56e9533-8071-494a-a7da-4917a03fb701",
   "metadata": {},
   "source": [
    "#### Set the predictor features.  No NAICS-related features at this stage.\n",
    "Base features only"
   ]
  },
  {
   "cell_type": "code",
   "execution_count": 10,
   "id": "c07ddd4e-6987-454a-926a-3b59abf6caa6",
   "metadata": {},
   "outputs": [
    {
     "name": "stdout",
     "output_type": "stream",
     "text": [
      "['NoEmp', 'CreateJob', 'LowDoc', 'DisbursementGross', 'new_business', 'urban_flag', 'franchise_flag']\n"
     ]
    }
   ],
   "source": [
    "predictor_features = setup.predictor_features \n",
    "print(predictor_features)"
   ]
  },
  {
   "cell_type": "code",
   "execution_count": 11,
   "id": "51a66d4e-7977-4c8d-847e-e8fc0b5d8923",
   "metadata": {},
   "outputs": [
    {
     "data": {
      "text/html": [
       "<div>\n",
       "<style scoped>\n",
       "    .dataframe tbody tr th:only-of-type {\n",
       "        vertical-align: middle;\n",
       "    }\n",
       "\n",
       "    .dataframe tbody tr th {\n",
       "        vertical-align: top;\n",
       "    }\n",
       "\n",
       "    .dataframe thead th {\n",
       "        text-align: right;\n",
       "    }\n",
       "</style>\n",
       "<table border=\"1\" class=\"dataframe\">\n",
       "  <thead>\n",
       "    <tr style=\"text-align: right;\">\n",
       "      <th></th>\n",
       "      <th>NoEmp</th>\n",
       "      <th>CreateJob</th>\n",
       "      <th>LowDoc</th>\n",
       "      <th>DisbursementGross</th>\n",
       "      <th>new_business</th>\n",
       "      <th>urban_flag</th>\n",
       "      <th>franchise_flag</th>\n",
       "    </tr>\n",
       "  </thead>\n",
       "  <tbody>\n",
       "    <tr>\n",
       "      <th>count</th>\n",
       "      <td>425594.000000</td>\n",
       "      <td>425594.000000</td>\n",
       "      <td>422477.000000</td>\n",
       "      <td>4.255940e+05</td>\n",
       "      <td>425050.000000</td>\n",
       "      <td>342255.000000</td>\n",
       "      <td>425594.000000</td>\n",
       "    </tr>\n",
       "    <tr>\n",
       "      <th>mean</th>\n",
       "      <td>9.758920</td>\n",
       "      <td>2.172277</td>\n",
       "      <td>0.097807</td>\n",
       "      <td>1.949280e+05</td>\n",
       "      <td>0.279906</td>\n",
       "      <td>0.814930</td>\n",
       "      <td>0.050858</td>\n",
       "    </tr>\n",
       "    <tr>\n",
       "      <th>std</th>\n",
       "      <td>63.011166</td>\n",
       "      <td>15.140139</td>\n",
       "      <td>0.297053</td>\n",
       "      <td>2.994808e+05</td>\n",
       "      <td>0.448953</td>\n",
       "      <td>0.388355</td>\n",
       "      <td>0.219709</td>\n",
       "    </tr>\n",
       "    <tr>\n",
       "      <th>min</th>\n",
       "      <td>0.000000</td>\n",
       "      <td>0.000000</td>\n",
       "      <td>0.000000</td>\n",
       "      <td>4.000000e+03</td>\n",
       "      <td>0.000000</td>\n",
       "      <td>0.000000</td>\n",
       "      <td>0.000000</td>\n",
       "    </tr>\n",
       "    <tr>\n",
       "      <th>25%</th>\n",
       "      <td>2.000000</td>\n",
       "      <td>0.000000</td>\n",
       "      <td>0.000000</td>\n",
       "      <td>3.600000e+04</td>\n",
       "      <td>0.000000</td>\n",
       "      <td>1.000000</td>\n",
       "      <td>0.000000</td>\n",
       "    </tr>\n",
       "    <tr>\n",
       "      <th>50%</th>\n",
       "      <td>4.000000</td>\n",
       "      <td>0.000000</td>\n",
       "      <td>0.000000</td>\n",
       "      <td>9.000000e+04</td>\n",
       "      <td>0.000000</td>\n",
       "      <td>1.000000</td>\n",
       "      <td>0.000000</td>\n",
       "    </tr>\n",
       "    <tr>\n",
       "      <th>75%</th>\n",
       "      <td>9.000000</td>\n",
       "      <td>2.000000</td>\n",
       "      <td>0.000000</td>\n",
       "      <td>2.157000e+05</td>\n",
       "      <td>1.000000</td>\n",
       "      <td>1.000000</td>\n",
       "      <td>0.000000</td>\n",
       "    </tr>\n",
       "    <tr>\n",
       "      <th>max</th>\n",
       "      <td>9992.000000</td>\n",
       "      <td>5621.000000</td>\n",
       "      <td>1.000000</td>\n",
       "      <td>1.144632e+07</td>\n",
       "      <td>1.000000</td>\n",
       "      <td>1.000000</td>\n",
       "      <td>1.000000</td>\n",
       "    </tr>\n",
       "  </tbody>\n",
       "</table>\n",
       "</div>"
      ],
      "text/plain": [
       "               NoEmp      CreateJob         LowDoc  DisbursementGross  \\\n",
       "count  425594.000000  425594.000000  422477.000000       4.255940e+05   \n",
       "mean        9.758920       2.172277       0.097807       1.949280e+05   \n",
       "std        63.011166      15.140139       0.297053       2.994808e+05   \n",
       "min         0.000000       0.000000       0.000000       4.000000e+03   \n",
       "25%         2.000000       0.000000       0.000000       3.600000e+04   \n",
       "50%         4.000000       0.000000       0.000000       9.000000e+04   \n",
       "75%         9.000000       2.000000       0.000000       2.157000e+05   \n",
       "max      9992.000000    5621.000000       1.000000       1.144632e+07   \n",
       "\n",
       "        new_business     urban_flag  franchise_flag  \n",
       "count  425050.000000  342255.000000   425594.000000  \n",
       "mean        0.279906       0.814930        0.050858  \n",
       "std         0.448953       0.388355        0.219709  \n",
       "min         0.000000       0.000000        0.000000  \n",
       "25%         0.000000       1.000000        0.000000  \n",
       "50%         0.000000       1.000000        0.000000  \n",
       "75%         1.000000       1.000000        0.000000  \n",
       "max         1.000000       1.000000        1.000000  "
      ]
     },
     "execution_count": 11,
     "metadata": {},
     "output_type": "execute_result"
    }
   ],
   "source": [
    "train_df[predictor_features].describe()"
   ]
  },
  {
   "cell_type": "code",
   "execution_count": 12,
   "id": "2a4f4a9e-f7e5-4143-b1e4-b5fbb5f7280d",
   "metadata": {},
   "outputs": [
    {
     "data": {
      "text/html": [
       "<div>\n",
       "<style scoped>\n",
       "    .dataframe tbody tr th:only-of-type {\n",
       "        vertical-align: middle;\n",
       "    }\n",
       "\n",
       "    .dataframe tbody tr th {\n",
       "        vertical-align: top;\n",
       "    }\n",
       "\n",
       "    .dataframe thead th {\n",
       "        text-align: right;\n",
       "    }\n",
       "</style>\n",
       "<table border=\"1\" class=\"dataframe\">\n",
       "  <thead>\n",
       "    <tr style=\"text-align: right;\">\n",
       "      <th></th>\n",
       "      <th>NoEmp</th>\n",
       "      <th>CreateJob</th>\n",
       "      <th>LowDoc</th>\n",
       "      <th>DisbursementGross</th>\n",
       "      <th>new_business</th>\n",
       "      <th>urban_flag</th>\n",
       "      <th>franchise_flag</th>\n",
       "      <th>target</th>\n",
       "    </tr>\n",
       "  </thead>\n",
       "  <tbody>\n",
       "    <tr>\n",
       "      <th>NoEmp</th>\n",
       "      <td>1.000000</td>\n",
       "      <td>0.052510</td>\n",
       "      <td>-0.009243</td>\n",
       "      <td>0.093125</td>\n",
       "      <td>-0.038672</td>\n",
       "      <td>0.002058</td>\n",
       "      <td>0.006517</td>\n",
       "      <td>-0.027838</td>\n",
       "    </tr>\n",
       "    <tr>\n",
       "      <th>CreateJob</th>\n",
       "      <td>0.052510</td>\n",
       "      <td>1.000000</td>\n",
       "      <td>-0.046967</td>\n",
       "      <td>0.101755</td>\n",
       "      <td>0.028831</td>\n",
       "      <td>0.009019</td>\n",
       "      <td>0.036918</td>\n",
       "      <td>-0.009540</td>\n",
       "    </tr>\n",
       "    <tr>\n",
       "      <th>LowDoc</th>\n",
       "      <td>-0.009243</td>\n",
       "      <td>-0.046967</td>\n",
       "      <td>1.000000</td>\n",
       "      <td>-0.133731</td>\n",
       "      <td>0.154037</td>\n",
       "      <td>-0.119292</td>\n",
       "      <td>0.039258</td>\n",
       "      <td>-0.076836</td>\n",
       "    </tr>\n",
       "    <tr>\n",
       "      <th>DisbursementGross</th>\n",
       "      <td>0.093125</td>\n",
       "      <td>0.101755</td>\n",
       "      <td>-0.133731</td>\n",
       "      <td>1.000000</td>\n",
       "      <td>-0.067410</td>\n",
       "      <td>-0.006023</td>\n",
       "      <td>0.082087</td>\n",
       "      <td>-0.122857</td>\n",
       "    </tr>\n",
       "    <tr>\n",
       "      <th>new_business</th>\n",
       "      <td>-0.038672</td>\n",
       "      <td>0.028831</td>\n",
       "      <td>0.154037</td>\n",
       "      <td>-0.067410</td>\n",
       "      <td>1.000000</td>\n",
       "      <td>-0.046626</td>\n",
       "      <td>0.136142</td>\n",
       "      <td>0.014277</td>\n",
       "    </tr>\n",
       "    <tr>\n",
       "      <th>urban_flag</th>\n",
       "      <td>0.002058</td>\n",
       "      <td>0.009019</td>\n",
       "      <td>-0.119292</td>\n",
       "      <td>-0.006023</td>\n",
       "      <td>-0.046626</td>\n",
       "      <td>1.000000</td>\n",
       "      <td>-0.004093</td>\n",
       "      <td>0.054391</td>\n",
       "    </tr>\n",
       "    <tr>\n",
       "      <th>franchise_flag</th>\n",
       "      <td>0.006517</td>\n",
       "      <td>0.036918</td>\n",
       "      <td>0.039258</td>\n",
       "      <td>0.082087</td>\n",
       "      <td>0.136142</td>\n",
       "      <td>-0.004093</td>\n",
       "      <td>1.000000</td>\n",
       "      <td>-0.011047</td>\n",
       "    </tr>\n",
       "    <tr>\n",
       "      <th>target</th>\n",
       "      <td>-0.027838</td>\n",
       "      <td>-0.009540</td>\n",
       "      <td>-0.076836</td>\n",
       "      <td>-0.122857</td>\n",
       "      <td>0.014277</td>\n",
       "      <td>0.054391</td>\n",
       "      <td>-0.011047</td>\n",
       "      <td>1.000000</td>\n",
       "    </tr>\n",
       "  </tbody>\n",
       "</table>\n",
       "</div>"
      ],
      "text/plain": [
       "                      NoEmp  CreateJob    LowDoc  DisbursementGross  \\\n",
       "NoEmp              1.000000   0.052510 -0.009243           0.093125   \n",
       "CreateJob          0.052510   1.000000 -0.046967           0.101755   \n",
       "LowDoc            -0.009243  -0.046967  1.000000          -0.133731   \n",
       "DisbursementGross  0.093125   0.101755 -0.133731           1.000000   \n",
       "new_business      -0.038672   0.028831  0.154037          -0.067410   \n",
       "urban_flag         0.002058   0.009019 -0.119292          -0.006023   \n",
       "franchise_flag     0.006517   0.036918  0.039258           0.082087   \n",
       "target            -0.027838  -0.009540 -0.076836          -0.122857   \n",
       "\n",
       "                   new_business  urban_flag  franchise_flag    target  \n",
       "NoEmp                 -0.038672    0.002058        0.006517 -0.027838  \n",
       "CreateJob              0.028831    0.009019        0.036918 -0.009540  \n",
       "LowDoc                 0.154037   -0.119292        0.039258 -0.076836  \n",
       "DisbursementGross     -0.067410   -0.006023        0.082087 -0.122857  \n",
       "new_business           1.000000   -0.046626        0.136142  0.014277  \n",
       "urban_flag            -0.046626    1.000000       -0.004093  0.054391  \n",
       "franchise_flag         0.136142   -0.004093        1.000000 -0.011047  \n",
       "target                 0.014277    0.054391       -0.011047  1.000000  "
      ]
     },
     "execution_count": 12,
     "metadata": {},
     "output_type": "execute_result"
    }
   ],
   "source": [
    "train_df[predictor_features + ['target']].corr()"
   ]
  },
  {
   "cell_type": "code",
   "execution_count": 13,
   "id": "1f8c475d-7ead-4f92-a19b-326343528f59",
   "metadata": {},
   "outputs": [],
   "source": [
    "with open(Path(setup.temp_path).joinpath('03_DATA_features_predict.pkl'), 'wb') as fout:\n",
    "    pickle.dump(predictor_features, fout)"
   ]
  },
  {
   "cell_type": "markdown",
   "id": "2b204a92-d109-4f6d-87a5-3d5dc05d2e5f",
   "metadata": {},
   "source": [
    "## Model Hyperparameter Tune and Fit"
   ]
  },
  {
   "cell_type": "code",
   "execution_count": 14,
   "id": "d6b04969-ffd2-48fe-94f6-5452494dc9e9",
   "metadata": {},
   "outputs": [
    {
     "name": "stdout",
     "output_type": "stream",
     "text": [
      "target rate: 0.20307382152943884, pos wt: 3.9243176322214124\n"
     ]
    }
   ],
   "source": [
    "mean_target = np.mean(train_df['target'])\n",
    "scale_pos_wt = (1-mean_target)/mean_target\n",
    "print(f'target rate: {mean_target}, pos wt: {scale_pos_wt}')"
   ]
  },
  {
   "cell_type": "code",
   "execution_count": 15,
   "id": "0e3a3711-ffd4-4456-bbeb-7601add780ca",
   "metadata": {},
   "outputs": [
    {
     "data": {
      "text/plain": [
       "<module 'sba_gnn.sba_gnn.sg_xgboost' from '/Users/valeriecarey/Documents/projects/2023_10_blog_gnn_sba/code/sba_gnn/sba_gnn/sg_xgboost.py'>"
      ]
     },
     "execution_count": 15,
     "metadata": {},
     "output_type": "execute_result"
    }
   ],
   "source": [
    "importlib.reload(sg_xgboost)"
   ]
  },
  {
   "cell_type": "markdown",
   "id": "5f54d829-4955-41ce-a66b-934462f13179",
   "metadata": {},
   "source": [
    "##### Simple hyperparameter search"
   ]
  },
  {
   "cell_type": "code",
   "execution_count": 16,
   "id": "3a26e3ba-7887-4ea3-b172-696523d36798",
   "metadata": {},
   "outputs": [],
   "source": [
    "best_params = sg_xgboost.hyperparameter_tune(train_df[predictor_features], train_df['target'],\n",
    "                                             pos_wt = scale_pos_wt,\n",
    "                                             n_estimators = setup.xgb_n_estimators,\n",
    "                                            random_state = 122234)"
   ]
  },
  {
   "cell_type": "code",
   "execution_count": 17,
   "id": "7e84421b-d1a3-4416-996a-9c9fbecb3314",
   "metadata": {},
   "outputs": [
    {
     "name": "stdout",
     "output_type": "stream",
     "text": [
      "{'subsample': 0.8, 'scale_pos_weight': 1.0, 'reg_lambda': 0.01, 'reg_alpha': 0.001, 'min_child_weight': 50, 'max_depth': 8, 'learning_rate': 0.1, 'gamma': 2}\n"
     ]
    }
   ],
   "source": [
    "print(best_params)"
   ]
  },
  {
   "cell_type": "code",
   "execution_count": 18,
   "id": "b8840934-99ad-4508-9dc9-f06b752a831e",
   "metadata": {},
   "outputs": [],
   "source": [
    "pd.DataFrame({k:[best_params[k]] for k in best_params.keys()}) \\\n",
    "    .to_csv(Path(setup.temp_path).joinpath('03_REPORT_fit_parameter_selected.csv'), index=False)"
   ]
  },
  {
   "cell_type": "markdown",
   "id": "bc698909-3663-440f-98ce-fcfe312faa82",
   "metadata": {},
   "source": [
    "##### Do a final fit with the full training data "
   ]
  },
  {
   "cell_type": "code",
   "execution_count": 19,
   "id": "56bf8aa8-361a-404d-9f9d-1471f1d1e4a2",
   "metadata": {},
   "outputs": [],
   "source": [
    "xgb_params = dict(best_params, \n",
    "                   **{'objective':\"binary:logistic\", 'n_estimators':setup.xgb_n_estimators})"
   ]
  },
  {
   "cell_type": "code",
   "execution_count": 20,
   "id": "6d124de6-1d5d-4ff9-8071-4d05b0717f13",
   "metadata": {},
   "outputs": [],
   "source": [
    "xgb_model = xgb.XGBClassifier(objective=\"binary:logistic\",\n",
    "                             n_estimators = setup.xgb_n_estimators)"
   ]
  },
  {
   "cell_type": "code",
   "execution_count": 21,
   "id": "9eebd329-7e39-4e52-be94-d839ad559b5d",
   "metadata": {},
   "outputs": [],
   "source": [
    "xgb_model = xgb_model.set_params(**xgb_params)"
   ]
  },
  {
   "cell_type": "code",
   "execution_count": 22,
   "id": "a7f80910-9719-486b-8eac-93889064708a",
   "metadata": {},
   "outputs": [
    {
     "name": "stdout",
     "output_type": "stream",
     "text": [
      "[0]\tvalidation_0-logloss:0.50005\tvalidation_1-logloss:0.50291\n",
      "[1]\tvalidation_0-logloss:0.49393\tvalidation_1-logloss:0.49681\n",
      "[2]\tvalidation_0-logloss:0.48879\tvalidation_1-logloss:0.49169\n",
      "[3]\tvalidation_0-logloss:0.48442\tvalidation_1-logloss:0.48734\n",
      "[4]\tvalidation_0-logloss:0.48066\tvalidation_1-logloss:0.48359\n",
      "[5]\tvalidation_0-logloss:0.47748\tvalidation_1-logloss:0.48039\n",
      "[6]\tvalidation_0-logloss:0.47476\tvalidation_1-logloss:0.47769\n",
      "[7]\tvalidation_0-logloss:0.47241\tvalidation_1-logloss:0.47541\n",
      "[8]\tvalidation_0-logloss:0.47041\tvalidation_1-logloss:0.47344\n",
      "[9]\tvalidation_0-logloss:0.46873\tvalidation_1-logloss:0.47180\n",
      "[10]\tvalidation_0-logloss:0.46728\tvalidation_1-logloss:0.47040\n",
      "[11]\tvalidation_0-logloss:0.46601\tvalidation_1-logloss:0.46916\n",
      "[12]\tvalidation_0-logloss:0.46496\tvalidation_1-logloss:0.46811\n",
      "[13]\tvalidation_0-logloss:0.46403\tvalidation_1-logloss:0.46721\n",
      "[14]\tvalidation_0-logloss:0.46324\tvalidation_1-logloss:0.46646\n",
      "[15]\tvalidation_0-logloss:0.46256\tvalidation_1-logloss:0.46581\n",
      "[16]\tvalidation_0-logloss:0.46198\tvalidation_1-logloss:0.46524\n",
      "[17]\tvalidation_0-logloss:0.46141\tvalidation_1-logloss:0.46472\n",
      "[18]\tvalidation_0-logloss:0.46092\tvalidation_1-logloss:0.46428\n",
      "[19]\tvalidation_0-logloss:0.46055\tvalidation_1-logloss:0.46393\n",
      "[20]\tvalidation_0-logloss:0.46017\tvalidation_1-logloss:0.46360\n",
      "[21]\tvalidation_0-logloss:0.45990\tvalidation_1-logloss:0.46335\n",
      "[22]\tvalidation_0-logloss:0.45956\tvalidation_1-logloss:0.46306\n",
      "[23]\tvalidation_0-logloss:0.45931\tvalidation_1-logloss:0.46285\n",
      "[24]\tvalidation_0-logloss:0.45913\tvalidation_1-logloss:0.46268\n",
      "[25]\tvalidation_0-logloss:0.45892\tvalidation_1-logloss:0.46249\n",
      "[26]\tvalidation_0-logloss:0.45873\tvalidation_1-logloss:0.46233\n",
      "[27]\tvalidation_0-logloss:0.45859\tvalidation_1-logloss:0.46223\n",
      "[28]\tvalidation_0-logloss:0.45843\tvalidation_1-logloss:0.46212\n",
      "[29]\tvalidation_0-logloss:0.45829\tvalidation_1-logloss:0.46201\n"
     ]
    },
    {
     "data": {
      "text/html": [
       "<style>#sk-container-id-1 {color: black;}#sk-container-id-1 pre{padding: 0;}#sk-container-id-1 div.sk-toggleable {background-color: white;}#sk-container-id-1 label.sk-toggleable__label {cursor: pointer;display: block;width: 100%;margin-bottom: 0;padding: 0.3em;box-sizing: border-box;text-align: center;}#sk-container-id-1 label.sk-toggleable__label-arrow:before {content: \"▸\";float: left;margin-right: 0.25em;color: #696969;}#sk-container-id-1 label.sk-toggleable__label-arrow:hover:before {color: black;}#sk-container-id-1 div.sk-estimator:hover label.sk-toggleable__label-arrow:before {color: black;}#sk-container-id-1 div.sk-toggleable__content {max-height: 0;max-width: 0;overflow: hidden;text-align: left;background-color: #f0f8ff;}#sk-container-id-1 div.sk-toggleable__content pre {margin: 0.2em;color: black;border-radius: 0.25em;background-color: #f0f8ff;}#sk-container-id-1 input.sk-toggleable__control:checked~div.sk-toggleable__content {max-height: 200px;max-width: 100%;overflow: auto;}#sk-container-id-1 input.sk-toggleable__control:checked~label.sk-toggleable__label-arrow:before {content: \"▾\";}#sk-container-id-1 div.sk-estimator input.sk-toggleable__control:checked~label.sk-toggleable__label {background-color: #d4ebff;}#sk-container-id-1 div.sk-label input.sk-toggleable__control:checked~label.sk-toggleable__label {background-color: #d4ebff;}#sk-container-id-1 input.sk-hidden--visually {border: 0;clip: rect(1px 1px 1px 1px);clip: rect(1px, 1px, 1px, 1px);height: 1px;margin: -1px;overflow: hidden;padding: 0;position: absolute;width: 1px;}#sk-container-id-1 div.sk-estimator {font-family: monospace;background-color: #f0f8ff;border: 1px dotted black;border-radius: 0.25em;box-sizing: border-box;margin-bottom: 0.5em;}#sk-container-id-1 div.sk-estimator:hover {background-color: #d4ebff;}#sk-container-id-1 div.sk-parallel-item::after {content: \"\";width: 100%;border-bottom: 1px solid gray;flex-grow: 1;}#sk-container-id-1 div.sk-label:hover label.sk-toggleable__label {background-color: #d4ebff;}#sk-container-id-1 div.sk-serial::before {content: \"\";position: absolute;border-left: 1px solid gray;box-sizing: border-box;top: 0;bottom: 0;left: 50%;z-index: 0;}#sk-container-id-1 div.sk-serial {display: flex;flex-direction: column;align-items: center;background-color: white;padding-right: 0.2em;padding-left: 0.2em;position: relative;}#sk-container-id-1 div.sk-item {position: relative;z-index: 1;}#sk-container-id-1 div.sk-parallel {display: flex;align-items: stretch;justify-content: center;background-color: white;position: relative;}#sk-container-id-1 div.sk-item::before, #sk-container-id-1 div.sk-parallel-item::before {content: \"\";position: absolute;border-left: 1px solid gray;box-sizing: border-box;top: 0;bottom: 0;left: 50%;z-index: -1;}#sk-container-id-1 div.sk-parallel-item {display: flex;flex-direction: column;z-index: 1;position: relative;background-color: white;}#sk-container-id-1 div.sk-parallel-item:first-child::after {align-self: flex-end;width: 50%;}#sk-container-id-1 div.sk-parallel-item:last-child::after {align-self: flex-start;width: 50%;}#sk-container-id-1 div.sk-parallel-item:only-child::after {width: 0;}#sk-container-id-1 div.sk-dashed-wrapped {border: 1px dashed gray;margin: 0 0.4em 0.5em 0.4em;box-sizing: border-box;padding-bottom: 0.4em;background-color: white;}#sk-container-id-1 div.sk-label label {font-family: monospace;font-weight: bold;display: inline-block;line-height: 1.2em;}#sk-container-id-1 div.sk-label-container {text-align: center;}#sk-container-id-1 div.sk-container {/* jupyter's `normalize.less` sets `[hidden] { display: none; }` but bootstrap.min.css set `[hidden] { display: none !important; }` so we also need the `!important` here to be able to override the default hidden behavior on the sphinx rendered scikit-learn.org. See: https://github.com/scikit-learn/scikit-learn/issues/21755 */display: inline-block !important;position: relative;}#sk-container-id-1 div.sk-text-repr-fallback {display: none;}</style><div id=\"sk-container-id-1\" class=\"sk-top-container\"><div class=\"sk-text-repr-fallback\"><pre>XGBClassifier(base_score=None, booster=None, callbacks=None,\n",
       "              colsample_bylevel=None, colsample_bynode=None,\n",
       "              colsample_bytree=None, device=None, early_stopping_rounds=None,\n",
       "              enable_categorical=False, eval_metric=None, feature_types=None,\n",
       "              gamma=2, grow_policy=None, importance_type=None,\n",
       "              interaction_constraints=None, learning_rate=0.1, max_bin=None,\n",
       "              max_cat_threshold=None, max_cat_to_onehot=None,\n",
       "              max_delta_step=None, max_depth=8, max_leaves=None,\n",
       "              min_child_weight=50, missing=nan, monotone_constraints=None,\n",
       "              multi_strategy=None, n_estimators=30, n_jobs=None,\n",
       "              num_parallel_tree=None, random_state=None, ...)</pre><b>In a Jupyter environment, please rerun this cell to show the HTML representation or trust the notebook. <br />On GitHub, the HTML representation is unable to render, please try loading this page with nbviewer.org.</b></div><div class=\"sk-container\" hidden><div class=\"sk-item\"><div class=\"sk-estimator sk-toggleable\"><input class=\"sk-toggleable__control sk-hidden--visually\" id=\"sk-estimator-id-1\" type=\"checkbox\" checked><label for=\"sk-estimator-id-1\" class=\"sk-toggleable__label sk-toggleable__label-arrow\">XGBClassifier</label><div class=\"sk-toggleable__content\"><pre>XGBClassifier(base_score=None, booster=None, callbacks=None,\n",
       "              colsample_bylevel=None, colsample_bynode=None,\n",
       "              colsample_bytree=None, device=None, early_stopping_rounds=None,\n",
       "              enable_categorical=False, eval_metric=None, feature_types=None,\n",
       "              gamma=2, grow_policy=None, importance_type=None,\n",
       "              interaction_constraints=None, learning_rate=0.1, max_bin=None,\n",
       "              max_cat_threshold=None, max_cat_to_onehot=None,\n",
       "              max_delta_step=None, max_depth=8, max_leaves=None,\n",
       "              min_child_weight=50, missing=nan, monotone_constraints=None,\n",
       "              multi_strategy=None, n_estimators=30, n_jobs=None,\n",
       "              num_parallel_tree=None, random_state=None, ...)</pre></div></div></div></div></div>"
      ],
      "text/plain": [
       "XGBClassifier(base_score=None, booster=None, callbacks=None,\n",
       "              colsample_bylevel=None, colsample_bynode=None,\n",
       "              colsample_bytree=None, device=None, early_stopping_rounds=None,\n",
       "              enable_categorical=False, eval_metric=None, feature_types=None,\n",
       "              gamma=2, grow_policy=None, importance_type=None,\n",
       "              interaction_constraints=None, learning_rate=0.1, max_bin=None,\n",
       "              max_cat_threshold=None, max_cat_to_onehot=None,\n",
       "              max_delta_step=None, max_depth=8, max_leaves=None,\n",
       "              min_child_weight=50, missing=nan, monotone_constraints=None,\n",
       "              multi_strategy=None, n_estimators=30, n_jobs=None,\n",
       "              num_parallel_tree=None, random_state=None, ...)"
      ]
     },
     "execution_count": 22,
     "metadata": {},
     "output_type": "execute_result"
    }
   ],
   "source": [
    "xgb_model.fit(train_df[predictor_features], train_df['target'],\n",
    "              eval_set = [(train_df[predictor_features], train_df['target']),\n",
    "                         (val_df[predictor_features], val_df['target'])])"
   ]
  },
  {
   "cell_type": "code",
   "execution_count": 23,
   "id": "9bbd8636-a5f1-4cbc-9498-329a78165472",
   "metadata": {},
   "outputs": [
    {
     "data": {
      "text/plain": [
       "target\n",
       "0    339167\n",
       "1     86427\n",
       "Name: count, dtype: int64"
      ]
     },
     "execution_count": 23,
     "metadata": {},
     "output_type": "execute_result"
    }
   ],
   "source": [
    "train_df['target'].value_counts()"
   ]
  },
  {
   "cell_type": "markdown",
   "id": "0913a102-a730-4b94-9977-e584df764d64",
   "metadata": {},
   "source": [
    "##### Save the model"
   ]
  },
  {
   "cell_type": "code",
   "execution_count": 24,
   "id": "af21dd7c-09d4-407f-9960-0748ba8f2247",
   "metadata": {},
   "outputs": [],
   "source": [
    "xgb_model.save_model(Path(setup.temp_path).joinpath('03_MODEL_xgboost.json'))"
   ]
  },
  {
   "cell_type": "code",
   "execution_count": 25,
   "id": "8e5d3e7d-0bd5-4252-b287-c9cc65f7a132",
   "metadata": {},
   "outputs": [],
   "source": [
    "with open(Path(setup.temp_path).joinpath('03_MODEL_xgboost.pkl'), 'wb') as po:\n",
    "    pickle.dump(xgb_model, po)"
   ]
  },
  {
   "cell_type": "markdown",
   "id": "f34ad059-70dc-4672-adff-0d961fc74b07",
   "metadata": {},
   "source": [
    "## Probability Predictions"
   ]
  },
  {
   "cell_type": "code",
   "execution_count": 26,
   "id": "6a7c8509-0109-4f8e-a466-d6e21164012c",
   "metadata": {},
   "outputs": [],
   "source": [
    "pred_df = pd.concat([sba_loans[['LoanNr_ChkDgt', 'dset', 'target', 'dset_naics_holdout']].reset_index(),\n",
    "                     pd.DataFrame({'predict_prob':\n",
    "                                   xgb_model.predict_proba(sba_loans[predictor_features])[:,1]})],\n",
    "                    axis=1) \\\n",
    "    .set_index('index')"
   ]
  },
  {
   "cell_type": "code",
   "execution_count": 27,
   "id": "7084012d-b68a-4ca4-b714-160f8d564500",
   "metadata": {},
   "outputs": [
    {
     "data": {
      "text/html": [
       "<div>\n",
       "<style scoped>\n",
       "    .dataframe tbody tr th:only-of-type {\n",
       "        vertical-align: middle;\n",
       "    }\n",
       "\n",
       "    .dataframe tbody tr th {\n",
       "        vertical-align: top;\n",
       "    }\n",
       "\n",
       "    .dataframe thead th {\n",
       "        text-align: right;\n",
       "    }\n",
       "</style>\n",
       "<table border=\"1\" class=\"dataframe\">\n",
       "  <thead>\n",
       "    <tr style=\"text-align: right;\">\n",
       "      <th></th>\n",
       "      <th>mean</th>\n",
       "      <th>std</th>\n",
       "      <th>min</th>\n",
       "      <th>max</th>\n",
       "      <th>median</th>\n",
       "    </tr>\n",
       "    <tr>\n",
       "      <th>target</th>\n",
       "      <th></th>\n",
       "      <th></th>\n",
       "      <th></th>\n",
       "      <th></th>\n",
       "      <th></th>\n",
       "    </tr>\n",
       "  </thead>\n",
       "  <tbody>\n",
       "    <tr>\n",
       "      <th>0</th>\n",
       "      <td>0.187965</td>\n",
       "      <td>0.106492</td>\n",
       "      <td>0.017951</td>\n",
       "      <td>0.682460</td>\n",
       "      <td>0.185782</td>\n",
       "    </tr>\n",
       "    <tr>\n",
       "      <th>1</th>\n",
       "      <td>0.267194</td>\n",
       "      <td>0.093114</td>\n",
       "      <td>0.017951</td>\n",
       "      <td>0.701752</td>\n",
       "      <td>0.281568</td>\n",
       "    </tr>\n",
       "  </tbody>\n",
       "</table>\n",
       "</div>"
      ],
      "text/plain": [
       "            mean       std       min       max    median\n",
       "target                                                  \n",
       "0       0.187965  0.106492  0.017951  0.682460  0.185782\n",
       "1       0.267194  0.093114  0.017951  0.701752  0.281568"
      ]
     },
     "execution_count": 27,
     "metadata": {},
     "output_type": "execute_result"
    }
   ],
   "source": [
    "pred_df.groupby('target')['predict_prob'].agg(['mean', 'std', 'min', 'max', 'median'])"
   ]
  },
  {
   "cell_type": "markdown",
   "id": "d33cb4dc-6c89-4a37-98c7-d3a666abc4a5",
   "metadata": {},
   "source": [
    "## Decision Threshold\n",
    "Max f1, on training data"
   ]
  },
  {
   "cell_type": "code",
   "execution_count": 28,
   "id": "d7727498-825f-4f53-882f-cfcce730b1fc",
   "metadata": {},
   "outputs": [],
   "source": [
    "pred_train_df = pred_df[pred_df['dset'] == 'train']"
   ]
  },
  {
   "cell_type": "code",
   "execution_count": 29,
   "id": "7b553798-eead-48f8-b14b-5f036d9183d9",
   "metadata": {},
   "outputs": [],
   "source": [
    "thresh_tune_data = sg_plot.get_f1_frame(pred_train_df['target'], \n",
    "                                        pred_train_df['predict_prob'])"
   ]
  },
  {
   "cell_type": "code",
   "execution_count": 30,
   "id": "7a1cde01-a30b-475f-8fd7-409b13946c6d",
   "metadata": {},
   "outputs": [],
   "source": [
    "thresh_tune_data.to_csv(Path(setup.temp_path).joinpath('03_REPORT_thresh_tune.csv'), index=False)"
   ]
  },
  {
   "cell_type": "code",
   "execution_count": 31,
   "id": "947a487c-e71d-433c-bbf0-2ed7e57a908a",
   "metadata": {},
   "outputs": [
    {
     "name": "stdout",
     "output_type": "stream",
     "text": [
      "0.22\n"
     ]
    },
    {
     "data": {
      "text/html": [
       "<div>\n",
       "<style scoped>\n",
       "    .dataframe tbody tr th:only-of-type {\n",
       "        vertical-align: middle;\n",
       "    }\n",
       "\n",
       "    .dataframe tbody tr th {\n",
       "        vertical-align: top;\n",
       "    }\n",
       "\n",
       "    .dataframe thead th {\n",
       "        text-align: right;\n",
       "    }\n",
       "</style>\n",
       "<table border=\"1\" class=\"dataframe\">\n",
       "  <thead>\n",
       "    <tr style=\"text-align: right;\">\n",
       "      <th></th>\n",
       "      <th>thresh</th>\n",
       "      <th>f1</th>\n",
       "    </tr>\n",
       "  </thead>\n",
       "  <tbody>\n",
       "    <tr>\n",
       "      <th>11</th>\n",
       "      <td>0.22</td>\n",
       "      <td>0.432238</td>\n",
       "    </tr>\n",
       "    <tr>\n",
       "      <th>10</th>\n",
       "      <td>0.20</td>\n",
       "      <td>0.431225</td>\n",
       "    </tr>\n",
       "  </tbody>\n",
       "</table>\n",
       "</div>"
      ],
      "text/plain": [
       "    thresh        f1\n",
       "11    0.22  0.432238\n",
       "10    0.20  0.431225"
      ]
     },
     "execution_count": 31,
     "metadata": {},
     "output_type": "execute_result"
    }
   ],
   "source": [
    "thresh_head = thresh_tune_data.sort_values('f1', ascending=False).head(2)\n",
    "best_thresh = thresh_head['thresh'].iloc[0]\n",
    "print(best_thresh)\n",
    "thresh_head"
   ]
  },
  {
   "cell_type": "markdown",
   "id": "1ee5330e-c1a7-4310-afbe-be9bc0d26f43",
   "metadata": {},
   "source": [
    "##### Apply decision threshold\n",
    "All datasets"
   ]
  },
  {
   "cell_type": "code",
   "execution_count": 32,
   "id": "f0d4c1cf-6d5b-49e9-9123-a067697a9e39",
   "metadata": {},
   "outputs": [],
   "source": [
    "pred_df['predict_bin'] = np.where(pred_df['predict_prob'] >= best_thresh, 1, 0)"
   ]
  },
  {
   "cell_type": "code",
   "execution_count": 33,
   "id": "8253c32c-0438-47b9-8570-7cde6f7f5590",
   "metadata": {},
   "outputs": [
    {
     "data": {
      "text/plain": [
       "predict_bin\n",
       "0    356928\n",
       "1    331153\n",
       "Name: count, dtype: int64"
      ]
     },
     "execution_count": 33,
     "metadata": {},
     "output_type": "execute_result"
    }
   ],
   "source": [
    "pred_df['predict_bin'].value_counts()"
   ]
  },
  {
   "cell_type": "code",
   "execution_count": 34,
   "id": "dbb46f4a-a5ef-4fd6-9da4-30de4a00334d",
   "metadata": {},
   "outputs": [],
   "source": [
    "pred_df.to_parquet(Path(setup.temp_path).joinpath('03_DATA_combined_predictions.parquet'))"
   ]
  },
  {
   "cell_type": "markdown",
   "id": "0ab860d0-eddc-4f63-b853-88da15d451f4",
   "metadata": {},
   "source": [
    "## Metrics"
   ]
  },
  {
   "cell_type": "code",
   "execution_count": 35,
   "id": "f2801964-124e-425f-b4cb-9bcf1cf3f04a",
   "metadata": {},
   "outputs": [
    {
     "data": {
      "text/html": [
       "<div>\n",
       "<style scoped>\n",
       "    .dataframe tbody tr th:only-of-type {\n",
       "        vertical-align: middle;\n",
       "    }\n",
       "\n",
       "    .dataframe tbody tr th {\n",
       "        vertical-align: top;\n",
       "    }\n",
       "\n",
       "    .dataframe thead th {\n",
       "        text-align: right;\n",
       "    }\n",
       "</style>\n",
       "<table border=\"1\" class=\"dataframe\">\n",
       "  <thead>\n",
       "    <tr style=\"text-align: right;\">\n",
       "      <th></th>\n",
       "      <th>dset</th>\n",
       "      <th>accuracy_score</th>\n",
       "      <th>f1_score</th>\n",
       "      <th>precision_score</th>\n",
       "      <th>recall_score</th>\n",
       "      <th>average_precision_score</th>\n",
       "      <th>roc_auc_score</th>\n",
       "      <th>dset_naics_holdout</th>\n",
       "    </tr>\n",
       "  </thead>\n",
       "  <tbody>\n",
       "    <tr>\n",
       "      <th>0</th>\n",
       "      <td>test</td>\n",
       "      <td>0.613473</td>\n",
       "      <td>0.429862</td>\n",
       "      <td>0.305196</td>\n",
       "      <td>0.726708</td>\n",
       "      <td>0.352989</td>\n",
       "      <td>0.710288</td>\n",
       "      <td>NaN</td>\n",
       "    </tr>\n",
       "    <tr>\n",
       "      <th>1</th>\n",
       "      <td>train</td>\n",
       "      <td>0.610932</td>\n",
       "      <td>0.432238</td>\n",
       "      <td>0.307137</td>\n",
       "      <td>0.729286</td>\n",
       "      <td>0.351729</td>\n",
       "      <td>0.708415</td>\n",
       "      <td>NaN</td>\n",
       "    </tr>\n",
       "    <tr>\n",
       "      <th>2</th>\n",
       "      <td>val</td>\n",
       "      <td>0.610904</td>\n",
       "      <td>0.434296</td>\n",
       "      <td>0.309673</td>\n",
       "      <td>0.726778</td>\n",
       "      <td>0.350866</td>\n",
       "      <td>0.705872</td>\n",
       "      <td>NaN</td>\n",
       "    </tr>\n",
       "    <tr>\n",
       "      <th>0</th>\n",
       "      <td>test</td>\n",
       "      <td>0.609367</td>\n",
       "      <td>0.431370</td>\n",
       "      <td>0.306606</td>\n",
       "      <td>0.727342</td>\n",
       "      <td>0.352200</td>\n",
       "      <td>0.706044</td>\n",
       "      <td>0.0</td>\n",
       "    </tr>\n",
       "    <tr>\n",
       "      <th>1</th>\n",
       "      <td>test</td>\n",
       "      <td>0.626182</td>\n",
       "      <td>0.424931</td>\n",
       "      <td>0.300607</td>\n",
       "      <td>0.724610</td>\n",
       "      <td>0.355814</td>\n",
       "      <td>0.723045</td>\n",
       "      <td>1.0</td>\n",
       "    </tr>\n",
       "  </tbody>\n",
       "</table>\n",
       "</div>"
      ],
      "text/plain": [
       "    dset  accuracy_score  f1_score  precision_score  recall_score  \\\n",
       "0   test        0.613473  0.429862         0.305196      0.726708   \n",
       "1  train        0.610932  0.432238         0.307137      0.729286   \n",
       "2    val        0.610904  0.434296         0.309673      0.726778   \n",
       "0   test        0.609367  0.431370         0.306606      0.727342   \n",
       "1   test        0.626182  0.424931         0.300607      0.724610   \n",
       "\n",
       "   average_precision_score  roc_auc_score  dset_naics_holdout  \n",
       "0                 0.352989       0.710288                 NaN  \n",
       "1                 0.351729       0.708415                 NaN  \n",
       "2                 0.350866       0.705872                 NaN  \n",
       "0                 0.352200       0.706044                 0.0  \n",
       "1                 0.355814       0.723045                 1.0  "
      ]
     },
     "execution_count": 35,
     "metadata": {},
     "output_type": "execute_result"
    }
   ],
   "source": [
    "metrics_dset_df = pred_df.groupby('dset') \\\n",
    "    .apply(lambda x: sg_plot.dset_metrics(x.target, x.predict_bin, x.predict_prob)) \\\n",
    "    .reset_index()\n",
    "metrics_test_df = pred_df[pred_df['dset'] == 'test'] \\\n",
    "    .groupby(['dset', 'dset_naics_holdout']) \\\n",
    "    .apply(lambda x: sg_plot.dset_metrics(x.target, x.predict_bin, x.predict_prob)) \\\n",
    "    .reset_index()\n",
    "metrics_df = pd.concat([metrics_dset_df, metrics_test_df])\n",
    "metrics_df.to_csv(Path(setup.temp_path).joinpath('03_REPORT_metrics.csv'), index=True)\n",
    "metrics_df"
   ]
  },
  {
   "cell_type": "markdown",
   "id": "3d906270-4264-4b0b-9f50-dcef8f75a5fd",
   "metadata": {},
   "source": [
    "## Lift\n",
    "Test data"
   ]
  },
  {
   "cell_type": "code",
   "execution_count": 36,
   "id": "82d9c0ab-8989-450d-a2b1-7997ca636052",
   "metadata": {
    "tags": []
   },
   "outputs": [],
   "source": [
    "pred_test_df = pred_df[pred_df['dset'] == 'test']"
   ]
  },
  {
   "cell_type": "code",
   "execution_count": 37,
   "id": "c01f5279-1151-4a8d-9b21-e12d4092f3c1",
   "metadata": {},
   "outputs": [
    {
     "data": {
      "image/png": "[encoded data removed]",
      "text/plain": [
       "<Figure size 400x300 with 1 Axes>"
      ]
     },
     "metadata": {},
     "output_type": "display_data"
    }
   ],
   "source": [
    "plot_lift_curve(pred_test_df['target'], \n",
    "                pd.concat([1-pred_test_df['predict_prob'], pred_test_df['predict_prob']], axis=1), \n",
    "                title='Lift Curve', ax=None, figsize=(4,3), \n",
    "                title_fontsize='large', text_fontsize='medium')\n",
    "plt.gca().legend(loc='upper right')\n",
    "plt.gcf().savefig(Path(setup.temp_path).joinpath('03_PLOT_lift_curve.png'),bbox_inches='tight')"
   ]
  },
  {
   "cell_type": "markdown",
   "id": "04994f41-3c98-412a-bb2f-11e5ae22b432",
   "metadata": {},
   "source": [
    "## Feature Importance "
   ]
  },
  {
   "cell_type": "markdown",
   "id": "926af7df-e407-484b-bd86-ae7d76a46392",
   "metadata": {},
   "source": [
    "##### XGBoost gain"
   ]
  },
  {
   "cell_type": "code",
   "execution_count": 38,
   "id": "ec3f6e1f-2b29-4b46-ac12-7a8451a3a45b",
   "metadata": {},
   "outputs": [],
   "source": [
    "feat_impgain = pd.DataFrame(xgb_model.get_booster().get_score(importance_type='gain'),\n",
    "                                     index=['importance']).T \\\n",
    "    .sort_values('importance', ascending=False)"
   ]
  },
  {
   "cell_type": "code",
   "execution_count": 39,
   "id": "9586c637-7add-4401-b61c-37abd55b11b4",
   "metadata": {},
   "outputs": [],
   "source": [
    "feat_impgain.to_csv(Path(setup.temp_path).joinpath('03_REPORT_importance_gain.csv'), index=True)"
   ]
  },
  {
   "cell_type": "code",
   "execution_count": 40,
   "id": "311e111f-d8e5-4a52-8adc-6a7c5f9daa8f",
   "metadata": {},
   "outputs": [
    {
     "data": {
      "text/html": [
       "<div>\n",
       "<style scoped>\n",
       "    .dataframe tbody tr th:only-of-type {\n",
       "        vertical-align: middle;\n",
       "    }\n",
       "\n",
       "    .dataframe tbody tr th {\n",
       "        vertical-align: top;\n",
       "    }\n",
       "\n",
       "    .dataframe thead th {\n",
       "        text-align: right;\n",
       "    }\n",
       "</style>\n",
       "<table border=\"1\" class=\"dataframe\">\n",
       "  <thead>\n",
       "    <tr style=\"text-align: right;\">\n",
       "      <th></th>\n",
       "      <th>importance</th>\n",
       "    </tr>\n",
       "  </thead>\n",
       "  <tbody>\n",
       "    <tr>\n",
       "      <th>urban_flag</th>\n",
       "      <td>643.500183</td>\n",
       "    </tr>\n",
       "    <tr>\n",
       "      <th>LowDoc</th>\n",
       "      <td>111.279556</td>\n",
       "    </tr>\n",
       "    <tr>\n",
       "      <th>DisbursementGross</th>\n",
       "      <td>61.805370</td>\n",
       "    </tr>\n",
       "    <tr>\n",
       "      <th>new_business</th>\n",
       "      <td>27.209415</td>\n",
       "    </tr>\n",
       "    <tr>\n",
       "      <th>CreateJob</th>\n",
       "      <td>16.445757</td>\n",
       "    </tr>\n",
       "  </tbody>\n",
       "</table>\n",
       "</div>"
      ],
      "text/plain": [
       "                   importance\n",
       "urban_flag         643.500183\n",
       "LowDoc             111.279556\n",
       "DisbursementGross   61.805370\n",
       "new_business        27.209415\n",
       "CreateJob           16.445757"
      ]
     },
     "execution_count": 40,
     "metadata": {},
     "output_type": "execute_result"
    }
   ],
   "source": [
    "feat_impgain.head()"
   ]
  },
  {
   "cell_type": "code",
   "execution_count": 41,
   "id": "9c88564a-7289-4c49-b2cd-b97338d1b042",
   "metadata": {},
   "outputs": [
    {
     "data": {
      "image/png": "[encoded data removed]",
      "text/plain": [
       "<Figure size 640x480 with 1 Axes>"
      ]
     },
     "metadata": {},
     "output_type": "display_data"
    }
   ],
   "source": [
    "feat_impgain.plot(kind='barh', legend=None)\n",
    "plt.gca().invert_yaxis()\n",
    "plt.xlabel('gain importance')\n",
    "plt.gcf().savefig(Path(setup.temp_path).joinpath('03_PLOT_importance_gain.png'))"
   ]
  },
  {
   "cell_type": "markdown",
   "id": "27e5fb90-f305-40ff-acaf-285d7d056c15",
   "metadata": {},
   "source": [
    "##### Permutation Importance"
   ]
  },
  {
   "cell_type": "code",
   "execution_count": 42,
   "id": "e2c1c123-20d0-423d-b684-585c0a5d6d2b",
   "metadata": {},
   "outputs": [],
   "source": [
    "perm_importance = permutation_importance(xgb_model, train_df[predictor_features].reset_index(drop=True), \n",
    "                                         train_df['target'].reset_index(drop=True),\n",
    "                                         n_repeats=30, scoring = 'average_precision')"
   ]
  },
  {
   "cell_type": "code",
   "execution_count": 43,
   "id": "ab0df42e-af4e-46b1-b0cf-630877137678",
   "metadata": {},
   "outputs": [],
   "source": [
    "perm_importance_df = pd.DataFrame({'features':predictor_features,\n",
    "                                   'importance': perm_importance['importances_mean']}) \n",
    "perm_importance_df['abs_importance'] = np.abs(perm_importance_df['importance'])\n",
    "perm_importance_df = perm_importance_df.sort_values('abs_importance', ascending=False)"
   ]
  },
  {
   "cell_type": "code",
   "execution_count": 44,
   "id": "0cbc5d84-6775-404f-a685-44f5be5cd481",
   "metadata": {},
   "outputs": [
    {
     "data": {
      "text/html": [
       "<div>\n",
       "<style scoped>\n",
       "    .dataframe tbody tr th:only-of-type {\n",
       "        vertical-align: middle;\n",
       "    }\n",
       "\n",
       "    .dataframe tbody tr th {\n",
       "        vertical-align: top;\n",
       "    }\n",
       "\n",
       "    .dataframe thead th {\n",
       "        text-align: right;\n",
       "    }\n",
       "</style>\n",
       "<table border=\"1\" class=\"dataframe\">\n",
       "  <thead>\n",
       "    <tr style=\"text-align: right;\">\n",
       "      <th></th>\n",
       "      <th>features</th>\n",
       "      <th>importance</th>\n",
       "      <th>abs_importance</th>\n",
       "    </tr>\n",
       "  </thead>\n",
       "  <tbody>\n",
       "    <tr>\n",
       "      <th>3</th>\n",
       "      <td>DisbursementGross</td>\n",
       "      <td>0.090815</td>\n",
       "      <td>0.090815</td>\n",
       "    </tr>\n",
       "    <tr>\n",
       "      <th>5</th>\n",
       "      <td>urban_flag</td>\n",
       "      <td>0.045668</td>\n",
       "      <td>0.045668</td>\n",
       "    </tr>\n",
       "    <tr>\n",
       "      <th>1</th>\n",
       "      <td>CreateJob</td>\n",
       "      <td>0.033249</td>\n",
       "      <td>0.033249</td>\n",
       "    </tr>\n",
       "    <tr>\n",
       "      <th>2</th>\n",
       "      <td>LowDoc</td>\n",
       "      <td>0.015065</td>\n",
       "      <td>0.015065</td>\n",
       "    </tr>\n",
       "    <tr>\n",
       "      <th>0</th>\n",
       "      <td>NoEmp</td>\n",
       "      <td>0.012739</td>\n",
       "      <td>0.012739</td>\n",
       "    </tr>\n",
       "  </tbody>\n",
       "</table>\n",
       "</div>"
      ],
      "text/plain": [
       "            features  importance  abs_importance\n",
       "3  DisbursementGross    0.090815        0.090815\n",
       "5         urban_flag    0.045668        0.045668\n",
       "1          CreateJob    0.033249        0.033249\n",
       "2             LowDoc    0.015065        0.015065\n",
       "0              NoEmp    0.012739        0.012739"
      ]
     },
     "execution_count": 44,
     "metadata": {},
     "output_type": "execute_result"
    }
   ],
   "source": [
    "perm_importance_df.head(5)"
   ]
  },
  {
   "cell_type": "code",
   "execution_count": 45,
   "id": "38059608-2f72-491f-86b3-0c1418b83531",
   "metadata": {},
   "outputs": [],
   "source": [
    "perm_importance_df \\\n",
    "    .to_csv(Path(setup.temp_path).joinpath('03_DATA_importance_perturb.csv'),\n",
    "            index=False)"
   ]
  },
  {
   "cell_type": "code",
   "execution_count": 46,
   "id": "c27499c8-065b-4143-a7dc-bce301bf3edf",
   "metadata": {},
   "outputs": [
    {
     "data": {
      "image/png": "[encoded data removed]",
      "text/plain": [
       "<Figure size 640x480 with 1 Axes>"
      ]
     },
     "metadata": {},
     "output_type": "display_data"
    }
   ],
   "source": [
    "perm_importance_df.head(10).plot(kind='barh', x='features', y='importance', legend=None)\n",
    "plt.gca().invert_yaxis()\n",
    "plt.xlabel('permutation importance')\n",
    "plt.ylabel(None)\n",
    "plt.gcf().savefig(Path(setup.temp_path).joinpath('03_PLOT_importance_perturb.png'))"
   ]
  },
  {
   "cell_type": "code",
   "execution_count": null,
   "id": "d88d065a-6d1c-476b-8db7-f36d8dfd3f39",
   "metadata": {},
   "outputs": [],
   "source": []
  }
 ],
 "metadata": {
  "kernelspec": {
   "display_name": "tf_p39",
   "language": "python",
   "name": "tf_p39"
  },
  "language_info": {
   "codemirror_mode": {
    "name": "ipython",
    "version": 3
   },
   "file_extension": ".py",
   "mimetype": "text/x-python",
   "name": "python",
   "nbconvert_exporter": "python",
   "pygments_lexer": "ipython3",
   "version": "3.8.18"
  }
 },
 "nbformat": 4,
 "nbformat_minor": 5
}
