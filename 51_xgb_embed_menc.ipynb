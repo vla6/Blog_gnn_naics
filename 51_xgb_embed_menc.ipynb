{
 "cells": [
  {
   "cell_type": "code",
   "execution_count": 1,
   "id": "4c65f557-651f-4958-a567-a1b6b5a82b2b",
   "metadata": {
    "tags": []
   },
   "outputs": [],
   "source": [
    "# Modify the file 00_setup.py to define input/output file paths on your system\n",
    "# The information in 00_setup.py will be used across notebooks\n",
    "from importlib.machinery import SourceFileLoader\n",
    "setup = SourceFileLoader(\"setup\", \"./00_setup.py\").load_module()"
   ]
  },
  {
   "cell_type": "markdown",
   "id": "b01d0fdb-d4bf-465a-8541-997addc50b0c",
   "metadata": {},
   "source": [
    "# 51: XGBoost, use NAICS embeddings (mean encoding model)\n",
    "XGBoost model, for NAICS use the embeddings from the mean encoding model"
   ]
  },
  {
   "cell_type": "markdown",
   "id": "56161f89-1f54-47f9-860d-3f945a941c1f",
   "metadata": {},
   "source": [
    "*This script takes about 5 minutes on my MacBook Air*"
   ]
  },
  {
   "cell_type": "code",
   "execution_count": 2,
   "id": "ec6b1778-7abc-4129-ab5f-ac2992bd8ca6",
   "metadata": {},
   "outputs": [],
   "source": [
    "import pandas as pd\n",
    "import numpy as np\n",
    "import xgboost as xgb\n",
    "import warnings\n",
    "import matplotlib.pyplot as plt\n",
    "import pickle"
   ]
  },
  {
   "cell_type": "code",
   "execution_count": 3,
   "id": "785af927-a634-4e34-84c4-7a532236f2ca",
   "metadata": {},
   "outputs": [],
   "source": [
    "from pathlib import Path, PurePath"
   ]
  },
  {
   "cell_type": "code",
   "execution_count": 4,
   "id": "fd09527b-32dd-47fa-b62f-f9307f89f553",
   "metadata": {},
   "outputs": [],
   "source": [
    "import sklearn as sk\n",
    "from sklearn.model_selection import RandomizedSearchCV\n",
    "from sklearn.inspection import permutation_importance\n",
    "from scikitplot.metrics import plot_lift_curve\n",
    "from sklearn.ensemble import GradientBoostingClassifier"
   ]
  },
  {
   "cell_type": "code",
   "execution_count": 5,
   "id": "703091e0-799b-4489-9145-dcd7ab6314e2",
   "metadata": {},
   "outputs": [],
   "source": [
    "from sba_gnn.sba_gnn import sg_plot "
   ]
  },
  {
   "cell_type": "markdown",
   "id": "d14a5947-6599-4253-acf3-91ddeffdedd3",
   "metadata": {},
   "source": [
    "## Import Data"
   ]
  },
  {
   "cell_type": "markdown",
   "id": "2f32fc20-0af0-4e47-b8d2-c845678d9fd5",
   "metadata": {
    "tags": []
   },
   "source": [
    "##### Embeddings"
   ]
  },
  {
   "cell_type": "code",
   "execution_count": 6,
   "id": "83c82eef-d80b-49a3-9d70-c995d24fd9d4",
   "metadata": {},
   "outputs": [
    {
     "data": {
      "text/html": [
       "<div>\n",
       "<style scoped>\n",
       "    .dataframe tbody tr th:only-of-type {\n",
       "        vertical-align: middle;\n",
       "    }\n",
       "\n",
       "    .dataframe tbody tr th {\n",
       "        vertical-align: top;\n",
       "    }\n",
       "\n",
       "    .dataframe thead th {\n",
       "        text-align: right;\n",
       "    }\n",
       "</style>\n",
       "<table border=\"1\" class=\"dataframe\">\n",
       "  <thead>\n",
       "    <tr style=\"text-align: right;\">\n",
       "      <th></th>\n",
       "      <th>LoanNr_ChkDgt</th>\n",
       "      <th>emb_00_NAICS</th>\n",
       "      <th>emb_00_NAICS_sector</th>\n",
       "      <th>emb_01_NAICS</th>\n",
       "      <th>emb_01_NAICS_sector</th>\n",
       "      <th>emb_02_NAICS</th>\n",
       "      <th>emb_02_NAICS_sector</th>\n",
       "      <th>emb_03_NAICS</th>\n",
       "      <th>emb_03_NAICS_sector</th>\n",
       "      <th>emb_04_NAICS</th>\n",
       "      <th>emb_04_NAICS_sector</th>\n",
       "      <th>emb_05_NAICS</th>\n",
       "      <th>emb_05_NAICS_sector</th>\n",
       "      <th>emb_06_NAICS</th>\n",
       "      <th>emb_06_NAICS_sector</th>\n",
       "      <th>emb_07_NAICS</th>\n",
       "      <th>emb_07_NAICS_sector</th>\n",
       "    </tr>\n",
       "  </thead>\n",
       "  <tbody>\n",
       "    <tr>\n",
       "      <th>0</th>\n",
       "      <td>5282874009</td>\n",
       "      <td>-0.090746</td>\n",
       "      <td>-0.162568</td>\n",
       "      <td>-0.431420</td>\n",
       "      <td>-0.239123</td>\n",
       "      <td>-0.226072</td>\n",
       "      <td>-0.280463</td>\n",
       "      <td>0.123255</td>\n",
       "      <td>0.089394</td>\n",
       "      <td>0.245200</td>\n",
       "      <td>0.086713</td>\n",
       "      <td>-0.332046</td>\n",
       "      <td>-0.270013</td>\n",
       "      <td>-0.031899</td>\n",
       "      <td>0.096427</td>\n",
       "      <td>0.635116</td>\n",
       "      <td>0.708287</td>\n",
       "    </tr>\n",
       "    <tr>\n",
       "      <th>1</th>\n",
       "      <td>2568556001</td>\n",
       "      <td>-0.224277</td>\n",
       "      <td>-0.254972</td>\n",
       "      <td>-0.335808</td>\n",
       "      <td>-0.204232</td>\n",
       "      <td>-0.171521</td>\n",
       "      <td>-0.204713</td>\n",
       "      <td>0.170227</td>\n",
       "      <td>0.137785</td>\n",
       "      <td>0.533708</td>\n",
       "      <td>0.235135</td>\n",
       "      <td>-0.054817</td>\n",
       "      <td>-0.046233</td>\n",
       "      <td>0.111827</td>\n",
       "      <td>0.296616</td>\n",
       "      <td>0.618582</td>\n",
       "      <td>0.783837</td>\n",
       "    </tr>\n",
       "  </tbody>\n",
       "</table>\n",
       "</div>"
      ],
      "text/plain": [
       "  LoanNr_ChkDgt  emb_00_NAICS  emb_00_NAICS_sector  emb_01_NAICS  \\\n",
       "0    5282874009     -0.090746            -0.162568     -0.431420   \n",
       "1    2568556001     -0.224277            -0.254972     -0.335808   \n",
       "\n",
       "   emb_01_NAICS_sector  emb_02_NAICS  emb_02_NAICS_sector  emb_03_NAICS  \\\n",
       "0            -0.239123     -0.226072            -0.280463      0.123255   \n",
       "1            -0.204232     -0.171521            -0.204713      0.170227   \n",
       "\n",
       "   emb_03_NAICS_sector  emb_04_NAICS  emb_04_NAICS_sector  emb_05_NAICS  \\\n",
       "0             0.089394      0.245200             0.086713     -0.332046   \n",
       "1             0.137785      0.533708             0.235135     -0.054817   \n",
       "\n",
       "   emb_05_NAICS_sector  emb_06_NAICS  emb_06_NAICS_sector  emb_07_NAICS  \\\n",
       "0            -0.270013     -0.031899             0.096427      0.635116   \n",
       "1            -0.046233      0.111827             0.296616      0.618582   \n",
       "\n",
       "   emb_07_NAICS_sector  \n",
       "0             0.708287  \n",
       "1             0.783837  "
      ]
     },
     "execution_count": 6,
     "metadata": {},
     "output_type": "execute_result"
    }
   ],
   "source": [
    "emb_df = pd.read_parquet(Path(PurePath(Path(setup.temp_path), '50_DATA_embeddings_menc')) \\\n",
    "                         .joinpath('50_emb_base.parquet'))\n",
    "emb_cols = emb_df.columns\n",
    "emb_df = emb_df.reset_index()\n",
    "emb_df.head(2)"
   ]
  },
  {
   "cell_type": "markdown",
   "id": "ed97dfc6-c69b-4bb0-bb0f-354551e4d46a",
   "metadata": {},
   "source": [
    "##### Features Data"
   ]
  },
  {
   "cell_type": "code",
   "execution_count": 7,
   "id": "a5f6c362-c1ab-48d8-812b-2b970b06586b",
   "metadata": {},
   "outputs": [
    {
     "name": "stdout",
     "output_type": "stream",
     "text": [
      "(447252, 63)\n"
     ]
    }
   ],
   "source": [
    "train_df = pd.read_parquet(Path(setup.temp_path).joinpath('01_DATA_combined_base_train.parquet')) \\\n",
    "    .merge(emb_df, on='LoanNr_ChkDgt')\n",
    "print(train_df.shape)"
   ]
  },
  {
   "cell_type": "code",
   "execution_count": 8,
   "id": "7f65e91f-eca0-40e3-8bd5-7614bafbb05e",
   "metadata": {},
   "outputs": [
    {
     "name": "stdout",
     "output_type": "stream",
     "text": [
      "(144497, 63)\n"
     ]
    }
   ],
   "source": [
    "test_df = pd.read_parquet(Path(setup.temp_path).joinpath('01_DATA_combined_base_test.parquet')) \\\n",
    "    .merge(emb_df, on='LoanNr_ChkDgt')\n",
    "print(test_df.shape)"
   ]
  },
  {
   "cell_type": "code",
   "execution_count": 9,
   "id": "e5195e29-6c0c-4162-a198-581a9d8838bf",
   "metadata": {},
   "outputs": [
    {
     "name": "stdout",
     "output_type": "stream",
     "text": [
      "(96332, 63)\n"
     ]
    }
   ],
   "source": [
    "val_df = pd.read_parquet(Path(setup.temp_path).joinpath('01_DATA_combined_base_val.parquet'))\\\n",
    "    .merge(emb_df, on='LoanNr_ChkDgt')\n",
    "print(val_df.shape)"
   ]
  },
  {
   "cell_type": "markdown",
   "id": "d56e9533-8071-494a-a7da-4917a03fb701",
   "metadata": {},
   "source": [
    "##### Set the predictor features.  "
   ]
  },
  {
   "cell_type": "code",
   "execution_count": 10,
   "id": "c07ddd4e-6987-454a-926a-3b59abf6caa6",
   "metadata": {},
   "outputs": [
    {
     "name": "stdout",
     "output_type": "stream",
     "text": [
      "['NoEmp', 'CreateJob', 'LowDoc', 'DisbursementGross', 'new_business', 'urban_flag', 'franchise_flag', 'emb_00_NAICS', 'emb_00_NAICS_sector', 'emb_01_NAICS', 'emb_01_NAICS_sector', 'emb_02_NAICS', 'emb_02_NAICS_sector', 'emb_03_NAICS', 'emb_03_NAICS_sector', 'emb_04_NAICS', 'emb_04_NAICS_sector', 'emb_05_NAICS', 'emb_05_NAICS_sector', 'emb_06_NAICS', 'emb_06_NAICS_sector', 'emb_07_NAICS', 'emb_07_NAICS_sector']\n"
     ]
    }
   ],
   "source": [
    "predictor_features = setup.predictor_features + list(emb_cols)\n",
    "print(predictor_features)"
   ]
  },
  {
   "cell_type": "code",
   "execution_count": 11,
   "id": "1f8c475d-7ead-4f92-a19b-326343528f59",
   "metadata": {},
   "outputs": [],
   "source": [
    "with open(Path(setup.temp_path).joinpath('51_DATA_features_predict.pkl'), 'wb') as fout:\n",
    "    pickle.dump(predictor_features, fout)"
   ]
  },
  {
   "cell_type": "markdown",
   "id": "2b204a92-d109-4f6d-87a5-3d5dc05d2e5f",
   "metadata": {},
   "source": [
    "## Model Hyperparameter Tune and Fit"
   ]
  },
  {
   "cell_type": "code",
   "execution_count": 12,
   "id": "d6b04969-ffd2-48fe-94f6-5452494dc9e9",
   "metadata": {},
   "outputs": [
    {
     "name": "stdout",
     "output_type": "stream",
     "text": [
      "target rate: 0.20301083058320588, pos wt: 3.9258455675848323\n"
     ]
    }
   ],
   "source": [
    "mean_target = np.mean(train_df['target'])\n",
    "scale_pos_wt = (1-mean_target)/mean_target\n",
    "print(f'target rate: {mean_target}, pos wt: {scale_pos_wt}')"
   ]
  },
  {
   "cell_type": "markdown",
   "id": "c6744725-962b-4495-94a7-3c55964f1f04",
   "metadata": {},
   "source": [
    "##### Do a simple hyperparameter search"
   ]
  },
  {
   "cell_type": "code",
   "execution_count": 13,
   "id": "fa547360-fab8-46b7-a063-d9c14a87d329",
   "metadata": {},
   "outputs": [],
   "source": [
    "xgb_model = xgb.XGBClassifier(objective=\"binary:logistic\",\n",
    "                             n_estimators = 10)"
   ]
  },
  {
   "cell_type": "code",
   "execution_count": 14,
   "id": "037a6deb-b9a8-4fb7-ab79-0c15c76d6c5c",
   "metadata": {},
   "outputs": [],
   "source": [
    "hyperparam_serarch = {'max_depth': [4, 5, 6],\n",
    "                      'min_child_weight': [1, 10, 50],\n",
    "                      'scale_pos_weight': list(np.linspace(1, scale_pos_wt, 3)),\n",
    "                      'gamma': [0, 0.5, 1, 2],\n",
    "                      'subsample': [0.5, 0.8, 1.0],\n",
    "                      'learning_rate': [0.01, 0.1, 0.3],\n",
    "                      'reg_alpha': [0, 0.001, 0.01, 0.1],\n",
    "                      'reg_lambda': [0.001, 0.01, 0.1, 0.5]\n",
    "                     }"
   ]
  },
  {
   "cell_type": "code",
   "execution_count": 15,
   "id": "5bf0afbd-9714-4c5b-997e-b51b2acf8b19",
   "metadata": {},
   "outputs": [],
   "source": [
    "# Set up a cross validation without the final fit; don't use early stopping yet\n",
    "random_search = RandomizedSearchCV(xgb_model, hyperparam_serarch,\n",
    "                                   n_iter=20, \n",
    "                                   n_jobs=-1,\n",
    "                                   random_state=53,\n",
    "                                   verbose = 0,\n",
    "                                   refit = False)"
   ]
  },
  {
   "cell_type": "code",
   "execution_count": 16,
   "id": "acec30fe-3489-4b96-a66d-735804f8954b",
   "metadata": {},
   "outputs": [
    {
     "name": "stderr",
     "output_type": "stream",
     "text": [
      "/Users/valeriecarey/miniconda3/envs/tf_p38/lib/python3.8/site-packages/joblib/externals/loky/process_executor.py:752: UserWarning: A worker stopped while some jobs were given to the executor. This can be caused by a too short worker timeout or by a memory leak.\n",
      "  warnings.warn(\n"
     ]
    }
   ],
   "source": [
    "# Do the cross validation parameter search\n",
    "rs_fit = random_search.fit(train_df[predictor_features], train_df['target']);"
   ]
  },
  {
   "cell_type": "code",
   "execution_count": 17,
   "id": "75562827-2515-497f-afb1-e863a312d3fb",
   "metadata": {},
   "outputs": [
    {
     "name": "stdout",
     "output_type": "stream",
     "text": [
      "{'subsample': 1.0, 'scale_pos_weight': 1.0, 'reg_lambda': 0.001, 'reg_alpha': 0.01, 'min_child_weight': 10, 'max_depth': 6, 'learning_rate': 0.3, 'gamma': 1}\n"
     ]
    }
   ],
   "source": [
    "print(random_search.best_params_)"
   ]
  },
  {
   "cell_type": "code",
   "execution_count": 18,
   "id": "b8840934-99ad-4508-9dc9-f06b752a831e",
   "metadata": {},
   "outputs": [],
   "source": [
    "pd.DataFrame({k:[random_search.best_params_[k]] for k in random_search.best_params_.keys()}) \\\n",
    "    .to_csv(Path(setup.temp_path).joinpath('51_REPORT_fit_parameter_selected.csv'), index=False)"
   ]
  },
  {
   "cell_type": "markdown",
   "id": "bc698909-3663-440f-98ce-fcfe312faa82",
   "metadata": {},
   "source": [
    "##### Do a final fit with the full training data"
   ]
  },
  {
   "cell_type": "code",
   "execution_count": 19,
   "id": "6d124de6-1d5d-4ff9-8071-4d05b0717f13",
   "metadata": {},
   "outputs": [],
   "source": [
    "xgb_model = xgb.XGBClassifier(objective=\"binary:logistic\",\n",
    "                             n_estimators = 20)"
   ]
  },
  {
   "cell_type": "code",
   "execution_count": 20,
   "id": "9eebd329-7e39-4e52-be94-d839ad559b5d",
   "metadata": {},
   "outputs": [],
   "source": [
    "xgb_model = xgb_model.set_params(**random_search.best_params_)"
   ]
  },
  {
   "cell_type": "code",
   "execution_count": 21,
   "id": "a7f80910-9719-486b-8eac-93889064708a",
   "metadata": {},
   "outputs": [
    {
     "name": "stdout",
     "output_type": "stream",
     "text": [
      "[0]\tvalidation_0-logloss:0.48601\tvalidation_1-logloss:0.48603\n",
      "[1]\tvalidation_0-logloss:0.47354\tvalidation_1-logloss:0.47371\n",
      "[2]\tvalidation_0-logloss:0.46575\tvalidation_1-logloss:0.46608\n",
      "[3]\tvalidation_0-logloss:0.46008\tvalidation_1-logloss:0.46052\n",
      "[4]\tvalidation_0-logloss:0.45671\tvalidation_1-logloss:0.45736\n",
      "[5]\tvalidation_0-logloss:0.45414\tvalidation_1-logloss:0.45492\n",
      "[6]\tvalidation_0-logloss:0.45235\tvalidation_1-logloss:0.45334\n",
      "[7]\tvalidation_0-logloss:0.45095\tvalidation_1-logloss:0.45212\n",
      "[8]\tvalidation_0-logloss:0.45014\tvalidation_1-logloss:0.45144\n",
      "[9]\tvalidation_0-logloss:0.44933\tvalidation_1-logloss:0.45074\n",
      "[10]\tvalidation_0-logloss:0.44872\tvalidation_1-logloss:0.45025\n",
      "[11]\tvalidation_0-logloss:0.44802\tvalidation_1-logloss:0.44979\n",
      "[12]\tvalidation_0-logloss:0.44744\tvalidation_1-logloss:0.44934\n",
      "[13]\tvalidation_0-logloss:0.44700\tvalidation_1-logloss:0.44898\n",
      "[14]\tvalidation_0-logloss:0.44661\tvalidation_1-logloss:0.44873\n",
      "[15]\tvalidation_0-logloss:0.44645\tvalidation_1-logloss:0.44859\n",
      "[16]\tvalidation_0-logloss:0.44616\tvalidation_1-logloss:0.44841\n",
      "[17]\tvalidation_0-logloss:0.44574\tvalidation_1-logloss:0.44808\n",
      "[18]\tvalidation_0-logloss:0.44537\tvalidation_1-logloss:0.44787\n",
      "[19]\tvalidation_0-logloss:0.44501\tvalidation_1-logloss:0.44769\n"
     ]
    },
    {
     "data": {
      "text/html": [
       "<style>#sk-container-id-1 {color: black;}#sk-container-id-1 pre{padding: 0;}#sk-container-id-1 div.sk-toggleable {background-color: white;}#sk-container-id-1 label.sk-toggleable__label {cursor: pointer;display: block;width: 100%;margin-bottom: 0;padding: 0.3em;box-sizing: border-box;text-align: center;}#sk-container-id-1 label.sk-toggleable__label-arrow:before {content: \"▸\";float: left;margin-right: 0.25em;color: #696969;}#sk-container-id-1 label.sk-toggleable__label-arrow:hover:before {color: black;}#sk-container-id-1 div.sk-estimator:hover label.sk-toggleable__label-arrow:before {color: black;}#sk-container-id-1 div.sk-toggleable__content {max-height: 0;max-width: 0;overflow: hidden;text-align: left;background-color: #f0f8ff;}#sk-container-id-1 div.sk-toggleable__content pre {margin: 0.2em;color: black;border-radius: 0.25em;background-color: #f0f8ff;}#sk-container-id-1 input.sk-toggleable__control:checked~div.sk-toggleable__content {max-height: 200px;max-width: 100%;overflow: auto;}#sk-container-id-1 input.sk-toggleable__control:checked~label.sk-toggleable__label-arrow:before {content: \"▾\";}#sk-container-id-1 div.sk-estimator input.sk-toggleable__control:checked~label.sk-toggleable__label {background-color: #d4ebff;}#sk-container-id-1 div.sk-label input.sk-toggleable__control:checked~label.sk-toggleable__label {background-color: #d4ebff;}#sk-container-id-1 input.sk-hidden--visually {border: 0;clip: rect(1px 1px 1px 1px);clip: rect(1px, 1px, 1px, 1px);height: 1px;margin: -1px;overflow: hidden;padding: 0;position: absolute;width: 1px;}#sk-container-id-1 div.sk-estimator {font-family: monospace;background-color: #f0f8ff;border: 1px dotted black;border-radius: 0.25em;box-sizing: border-box;margin-bottom: 0.5em;}#sk-container-id-1 div.sk-estimator:hover {background-color: #d4ebff;}#sk-container-id-1 div.sk-parallel-item::after {content: \"\";width: 100%;border-bottom: 1px solid gray;flex-grow: 1;}#sk-container-id-1 div.sk-label:hover label.sk-toggleable__label {background-color: #d4ebff;}#sk-container-id-1 div.sk-serial::before {content: \"\";position: absolute;border-left: 1px solid gray;box-sizing: border-box;top: 0;bottom: 0;left: 50%;z-index: 0;}#sk-container-id-1 div.sk-serial {display: flex;flex-direction: column;align-items: center;background-color: white;padding-right: 0.2em;padding-left: 0.2em;position: relative;}#sk-container-id-1 div.sk-item {position: relative;z-index: 1;}#sk-container-id-1 div.sk-parallel {display: flex;align-items: stretch;justify-content: center;background-color: white;position: relative;}#sk-container-id-1 div.sk-item::before, #sk-container-id-1 div.sk-parallel-item::before {content: \"\";position: absolute;border-left: 1px solid gray;box-sizing: border-box;top: 0;bottom: 0;left: 50%;z-index: -1;}#sk-container-id-1 div.sk-parallel-item {display: flex;flex-direction: column;z-index: 1;position: relative;background-color: white;}#sk-container-id-1 div.sk-parallel-item:first-child::after {align-self: flex-end;width: 50%;}#sk-container-id-1 div.sk-parallel-item:last-child::after {align-self: flex-start;width: 50%;}#sk-container-id-1 div.sk-parallel-item:only-child::after {width: 0;}#sk-container-id-1 div.sk-dashed-wrapped {border: 1px dashed gray;margin: 0 0.4em 0.5em 0.4em;box-sizing: border-box;padding-bottom: 0.4em;background-color: white;}#sk-container-id-1 div.sk-label label {font-family: monospace;font-weight: bold;display: inline-block;line-height: 1.2em;}#sk-container-id-1 div.sk-label-container {text-align: center;}#sk-container-id-1 div.sk-container {/* jupyter's `normalize.less` sets `[hidden] { display: none; }` but bootstrap.min.css set `[hidden] { display: none !important; }` so we also need the `!important` here to be able to override the default hidden behavior on the sphinx rendered scikit-learn.org. See: https://github.com/scikit-learn/scikit-learn/issues/21755 */display: inline-block !important;position: relative;}#sk-container-id-1 div.sk-text-repr-fallback {display: none;}</style><div id=\"sk-container-id-1\" class=\"sk-top-container\"><div class=\"sk-text-repr-fallback\"><pre>XGBClassifier(base_score=None, booster=None, callbacks=None,\n",
       "              colsample_bylevel=None, colsample_bynode=None,\n",
       "              colsample_bytree=None, device=None, early_stopping_rounds=None,\n",
       "              enable_categorical=False, eval_metric=None, feature_types=None,\n",
       "              gamma=1, grow_policy=None, importance_type=None,\n",
       "              interaction_constraints=None, learning_rate=0.3, max_bin=None,\n",
       "              max_cat_threshold=None, max_cat_to_onehot=None,\n",
       "              max_delta_step=None, max_depth=6, max_leaves=None,\n",
       "              min_child_weight=10, missing=nan, monotone_constraints=None,\n",
       "              multi_strategy=None, n_estimators=20, n_jobs=None,\n",
       "              num_parallel_tree=None, random_state=None, ...)</pre><b>In a Jupyter environment, please rerun this cell to show the HTML representation or trust the notebook. <br />On GitHub, the HTML representation is unable to render, please try loading this page with nbviewer.org.</b></div><div class=\"sk-container\" hidden><div class=\"sk-item\"><div class=\"sk-estimator sk-toggleable\"><input class=\"sk-toggleable__control sk-hidden--visually\" id=\"sk-estimator-id-1\" type=\"checkbox\" checked><label for=\"sk-estimator-id-1\" class=\"sk-toggleable__label sk-toggleable__label-arrow\">XGBClassifier</label><div class=\"sk-toggleable__content\"><pre>XGBClassifier(base_score=None, booster=None, callbacks=None,\n",
       "              colsample_bylevel=None, colsample_bynode=None,\n",
       "              colsample_bytree=None, device=None, early_stopping_rounds=None,\n",
       "              enable_categorical=False, eval_metric=None, feature_types=None,\n",
       "              gamma=1, grow_policy=None, importance_type=None,\n",
       "              interaction_constraints=None, learning_rate=0.3, max_bin=None,\n",
       "              max_cat_threshold=None, max_cat_to_onehot=None,\n",
       "              max_delta_step=None, max_depth=6, max_leaves=None,\n",
       "              min_child_weight=10, missing=nan, monotone_constraints=None,\n",
       "              multi_strategy=None, n_estimators=20, n_jobs=None,\n",
       "              num_parallel_tree=None, random_state=None, ...)</pre></div></div></div></div></div>"
      ],
      "text/plain": [
       "XGBClassifier(base_score=None, booster=None, callbacks=None,\n",
       "              colsample_bylevel=None, colsample_bynode=None,\n",
       "              colsample_bytree=None, device=None, early_stopping_rounds=None,\n",
       "              enable_categorical=False, eval_metric=None, feature_types=None,\n",
       "              gamma=1, grow_policy=None, importance_type=None,\n",
       "              interaction_constraints=None, learning_rate=0.3, max_bin=None,\n",
       "              max_cat_threshold=None, max_cat_to_onehot=None,\n",
       "              max_delta_step=None, max_depth=6, max_leaves=None,\n",
       "              min_child_weight=10, missing=nan, monotone_constraints=None,\n",
       "              multi_strategy=None, n_estimators=20, n_jobs=None,\n",
       "              num_parallel_tree=None, random_state=None, ...)"
      ]
     },
     "execution_count": 21,
     "metadata": {},
     "output_type": "execute_result"
    }
   ],
   "source": [
    "xgb_model.fit(train_df[predictor_features], train_df['target'],\n",
    "              eval_set = [(train_df[predictor_features], train_df['target']),\n",
    "                         (val_df[predictor_features], val_df['target'])])"
   ]
  },
  {
   "cell_type": "code",
   "execution_count": 22,
   "id": "9bbd8636-a5f1-4cbc-9498-329a78165472",
   "metadata": {},
   "outputs": [
    {
     "data": {
      "text/plain": [
       "target\n",
       "0    356455\n",
       "1     90797\n",
       "Name: count, dtype: int64"
      ]
     },
     "execution_count": 22,
     "metadata": {},
     "output_type": "execute_result"
    }
   ],
   "source": [
    "train_df['target'].value_counts()"
   ]
  },
  {
   "cell_type": "markdown",
   "id": "0913a102-a730-4b94-9977-e584df764d64",
   "metadata": {},
   "source": [
    "##### Save the model"
   ]
  },
  {
   "cell_type": "code",
   "execution_count": 23,
   "id": "af21dd7c-09d4-407f-9960-0748ba8f2247",
   "metadata": {},
   "outputs": [],
   "source": [
    "xgb_model.save_model(Path(setup.temp_path).joinpath('51_MODEL_xgboost.json'))"
   ]
  },
  {
   "cell_type": "code",
   "execution_count": 24,
   "id": "8e5d3e7d-0bd5-4252-b287-c9cc65f7a132",
   "metadata": {},
   "outputs": [],
   "source": [
    "with open(Path(setup.temp_path).joinpath('51_MODEL_xgboost.pkl'), 'wb') as po:\n",
    "    pickle.dump(xgb_model, po)"
   ]
  },
  {
   "cell_type": "markdown",
   "id": "f34ad059-70dc-4672-adff-0d961fc74b07",
   "metadata": {},
   "source": [
    "## Probability Predictions"
   ]
  },
  {
   "cell_type": "code",
   "execution_count": 25,
   "id": "6a7c8509-0109-4f8e-a466-d6e21164012c",
   "metadata": {},
   "outputs": [],
   "source": [
    "pred_df = pd.concat([pd.DataFrame({'target': df['target'], \n",
    "                                          'predict_prob': xgb_model.predict_proba(df[predictor_features])[:,1]}) \\\n",
    "                            for df in [train_df, test_df, val_df]], \n",
    "                           keys = ['train', 'test', 'val'], names=['dset', 'index']) "
   ]
  },
  {
   "cell_type": "code",
   "execution_count": 26,
   "id": "153e3014-421d-4685-93ed-2e23b9972ea9",
   "metadata": {},
   "outputs": [
    {
     "data": {
      "text/html": [
       "<div>\n",
       "<style scoped>\n",
       "    .dataframe tbody tr th:only-of-type {\n",
       "        vertical-align: middle;\n",
       "    }\n",
       "\n",
       "    .dataframe tbody tr th {\n",
       "        vertical-align: top;\n",
       "    }\n",
       "\n",
       "    .dataframe thead th {\n",
       "        text-align: right;\n",
       "    }\n",
       "</style>\n",
       "<table border=\"1\" class=\"dataframe\">\n",
       "  <thead>\n",
       "    <tr style=\"text-align: right;\">\n",
       "      <th></th>\n",
       "      <th>mean</th>\n",
       "      <th>std</th>\n",
       "    </tr>\n",
       "    <tr>\n",
       "      <th>target</th>\n",
       "      <th></th>\n",
       "      <th></th>\n",
       "    </tr>\n",
       "  </thead>\n",
       "  <tbody>\n",
       "    <tr>\n",
       "      <th>0</th>\n",
       "      <td>0.182097</td>\n",
       "      <td>0.119723</td>\n",
       "    </tr>\n",
       "    <tr>\n",
       "      <th>1</th>\n",
       "      <td>0.286186</td>\n",
       "      <td>0.113890</td>\n",
       "    </tr>\n",
       "  </tbody>\n",
       "</table>\n",
       "</div>"
      ],
      "text/plain": [
       "            mean       std\n",
       "target                    \n",
       "0       0.182097  0.119723\n",
       "1       0.286186  0.113890"
      ]
     },
     "execution_count": 26,
     "metadata": {},
     "output_type": "execute_result"
    }
   ],
   "source": [
    "pred_df.groupby(['target'])['predict_prob'].agg(['mean', 'std'])"
   ]
  },
  {
   "cell_type": "markdown",
   "id": "d33cb4dc-6c89-4a37-98c7-d3a666abc4a5",
   "metadata": {},
   "source": [
    "## Decision Threshold\n",
    "Max f1, on training data"
   ]
  },
  {
   "cell_type": "code",
   "execution_count": 27,
   "id": "d7727498-825f-4f53-882f-cfcce730b1fc",
   "metadata": {},
   "outputs": [],
   "source": [
    "pred_train_df = pred_df[pred_df.index.get_level_values(0) == 'train']"
   ]
  },
  {
   "cell_type": "code",
   "execution_count": 28,
   "id": "b6f7ec89-4ff1-4842-b133-e24479f44e35",
   "metadata": {},
   "outputs": [],
   "source": [
    "thresh_tune_data = sg_plot.get_f1_frame(pred_train_df['target'], \n",
    "                                        pred_train_df['predict_prob'])"
   ]
  },
  {
   "cell_type": "code",
   "execution_count": 29,
   "id": "82adf423-e51b-432b-ae78-276404774b14",
   "metadata": {},
   "outputs": [],
   "source": [
    "thresh_tune_data.to_csv(Path(setup.temp_path).joinpath('51_REPORT_thresh_tune.csv'), index=False)"
   ]
  },
  {
   "cell_type": "code",
   "execution_count": 30,
   "id": "6c69ac2f-3218-4761-974c-d6d71c6f4f93",
   "metadata": {},
   "outputs": [
    {
     "name": "stdout",
     "output_type": "stream",
     "text": [
      "0.24\n"
     ]
    },
    {
     "data": {
      "text/html": [
       "<div>\n",
       "<style scoped>\n",
       "    .dataframe tbody tr th:only-of-type {\n",
       "        vertical-align: middle;\n",
       "    }\n",
       "\n",
       "    .dataframe tbody tr th {\n",
       "        vertical-align: top;\n",
       "    }\n",
       "\n",
       "    .dataframe thead th {\n",
       "        text-align: right;\n",
       "    }\n",
       "</style>\n",
       "<table border=\"1\" class=\"dataframe\">\n",
       "  <thead>\n",
       "    <tr style=\"text-align: right;\">\n",
       "      <th></th>\n",
       "      <th>thresh</th>\n",
       "      <th>f1</th>\n",
       "    </tr>\n",
       "  </thead>\n",
       "  <tbody>\n",
       "    <tr>\n",
       "      <th>12</th>\n",
       "      <td>0.24</td>\n",
       "      <td>0.452997</td>\n",
       "    </tr>\n",
       "    <tr>\n",
       "      <th>11</th>\n",
       "      <td>0.22</td>\n",
       "      <td>0.452317</td>\n",
       "    </tr>\n",
       "    <tr>\n",
       "      <th>13</th>\n",
       "      <td>0.26</td>\n",
       "      <td>0.450231</td>\n",
       "    </tr>\n",
       "  </tbody>\n",
       "</table>\n",
       "</div>"
      ],
      "text/plain": [
       "    thresh        f1\n",
       "12    0.24  0.452997\n",
       "11    0.22  0.452317\n",
       "13    0.26  0.450231"
      ]
     },
     "execution_count": 30,
     "metadata": {},
     "output_type": "execute_result"
    }
   ],
   "source": [
    "thresh_head = thresh_tune_data.sort_values('f1', ascending=False).head(3)\n",
    "best_thresh = thresh_head['thresh'].iloc[0]\n",
    "print(best_thresh)\n",
    "thresh_head"
   ]
  },
  {
   "cell_type": "markdown",
   "id": "1ee5330e-c1a7-4310-afbe-be9bc0d26f43",
   "metadata": {},
   "source": [
    "##### Apply decision threshold\n",
    "All datasets"
   ]
  },
  {
   "cell_type": "code",
   "execution_count": 31,
   "id": "f0d4c1cf-6d5b-49e9-9123-a067697a9e39",
   "metadata": {},
   "outputs": [],
   "source": [
    "pred_df['predict_bin'] = np.where(pred_df['predict_prob'] >= best_thresh, 1, 0)"
   ]
  },
  {
   "cell_type": "code",
   "execution_count": 32,
   "id": "8253c32c-0438-47b9-8570-7cde6f7f5590",
   "metadata": {},
   "outputs": [
    {
     "data": {
      "text/plain": [
       "predict_bin\n",
       "0    405926\n",
       "1    282155\n",
       "Name: count, dtype: int64"
      ]
     },
     "execution_count": 32,
     "metadata": {},
     "output_type": "execute_result"
    }
   ],
   "source": [
    "pred_df['predict_bin'].value_counts()"
   ]
  },
  {
   "cell_type": "code",
   "execution_count": 33,
   "id": "dbb46f4a-a5ef-4fd6-9da4-30de4a00334d",
   "metadata": {},
   "outputs": [],
   "source": [
    "pred_df.to_parquet(Path(setup.temp_path).joinpath('51_DATA_combined_predictions.parquet'))"
   ]
  },
  {
   "cell_type": "code",
   "execution_count": 34,
   "id": "be5aed88-21e6-4604-954c-5da57a3c5b4c",
   "metadata": {},
   "outputs": [
    {
     "data": {
      "text/html": [
       "<div>\n",
       "<style scoped>\n",
       "    .dataframe tbody tr th:only-of-type {\n",
       "        vertical-align: middle;\n",
       "    }\n",
       "\n",
       "    .dataframe tbody tr th {\n",
       "        vertical-align: top;\n",
       "    }\n",
       "\n",
       "    .dataframe thead th {\n",
       "        text-align: right;\n",
       "    }\n",
       "</style>\n",
       "<table border=\"1\" class=\"dataframe\">\n",
       "  <thead>\n",
       "    <tr style=\"text-align: right;\">\n",
       "      <th></th>\n",
       "      <th></th>\n",
       "      <th>target</th>\n",
       "      <th>predict_prob</th>\n",
       "      <th>predict_bin</th>\n",
       "    </tr>\n",
       "    <tr>\n",
       "      <th>dset</th>\n",
       "      <th>index</th>\n",
       "      <th></th>\n",
       "      <th></th>\n",
       "      <th></th>\n",
       "    </tr>\n",
       "  </thead>\n",
       "  <tbody>\n",
       "    <tr>\n",
       "      <th rowspan=\"10\" valign=\"top\">train</th>\n",
       "      <th>0</th>\n",
       "      <td>0</td>\n",
       "      <td>0.077735</td>\n",
       "      <td>0</td>\n",
       "    </tr>\n",
       "    <tr>\n",
       "      <th>1</th>\n",
       "      <td>0</td>\n",
       "      <td>0.084974</td>\n",
       "      <td>0</td>\n",
       "    </tr>\n",
       "    <tr>\n",
       "      <th>2</th>\n",
       "      <td>1</td>\n",
       "      <td>0.252981</td>\n",
       "      <td>1</td>\n",
       "    </tr>\n",
       "    <tr>\n",
       "      <th>3</th>\n",
       "      <td>0</td>\n",
       "      <td>0.066715</td>\n",
       "      <td>0</td>\n",
       "    </tr>\n",
       "    <tr>\n",
       "      <th>4</th>\n",
       "      <td>0</td>\n",
       "      <td>0.102765</td>\n",
       "      <td>0</td>\n",
       "    </tr>\n",
       "    <tr>\n",
       "      <th>5</th>\n",
       "      <td>0</td>\n",
       "      <td>0.051519</td>\n",
       "      <td>0</td>\n",
       "    </tr>\n",
       "    <tr>\n",
       "      <th>6</th>\n",
       "      <td>0</td>\n",
       "      <td>0.130398</td>\n",
       "      <td>0</td>\n",
       "    </tr>\n",
       "    <tr>\n",
       "      <th>7</th>\n",
       "      <td>1</td>\n",
       "      <td>0.111070</td>\n",
       "      <td>0</td>\n",
       "    </tr>\n",
       "    <tr>\n",
       "      <th>8</th>\n",
       "      <td>0</td>\n",
       "      <td>0.100572</td>\n",
       "      <td>0</td>\n",
       "    </tr>\n",
       "    <tr>\n",
       "      <th>9</th>\n",
       "      <td>0</td>\n",
       "      <td>0.274761</td>\n",
       "      <td>1</td>\n",
       "    </tr>\n",
       "  </tbody>\n",
       "</table>\n",
       "</div>"
      ],
      "text/plain": [
       "             target  predict_prob  predict_bin\n",
       "dset  index                                   \n",
       "train 0           0      0.077735            0\n",
       "      1           0      0.084974            0\n",
       "      2           1      0.252981            1\n",
       "      3           0      0.066715            0\n",
       "      4           0      0.102765            0\n",
       "      5           0      0.051519            0\n",
       "      6           0      0.130398            0\n",
       "      7           1      0.111070            0\n",
       "      8           0      0.100572            0\n",
       "      9           0      0.274761            1"
      ]
     },
     "execution_count": 34,
     "metadata": {},
     "output_type": "execute_result"
    }
   ],
   "source": [
    "pred_df.head(10)"
   ]
  },
  {
   "cell_type": "markdown",
   "id": "0ab860d0-eddc-4f63-b853-88da15d451f4",
   "metadata": {},
   "source": [
    "## Metrics"
   ]
  },
  {
   "cell_type": "code",
   "execution_count": 35,
   "id": "c442d4f2-8336-4b2a-a05f-770ece4956fe",
   "metadata": {},
   "outputs": [],
   "source": [
    "pred_met_df = pred_df.copy().reset_index(level=0)"
   ]
  },
  {
   "cell_type": "code",
   "execution_count": 36,
   "id": "e6ef7031-0515-4c13-82cf-85e3e51df428",
   "metadata": {},
   "outputs": [
    {
     "data": {
      "text/html": [
       "<div>\n",
       "<style scoped>\n",
       "    .dataframe tbody tr th:only-of-type {\n",
       "        vertical-align: middle;\n",
       "    }\n",
       "\n",
       "    .dataframe tbody tr th {\n",
       "        vertical-align: top;\n",
       "    }\n",
       "\n",
       "    .dataframe thead th {\n",
       "        text-align: right;\n",
       "    }\n",
       "</style>\n",
       "<table border=\"1\" class=\"dataframe\">\n",
       "  <thead>\n",
       "    <tr style=\"text-align: right;\">\n",
       "      <th></th>\n",
       "      <th>accuracy_score</th>\n",
       "      <th>f1_score</th>\n",
       "      <th>precision_score</th>\n",
       "      <th>recall_score</th>\n",
       "      <th>average_precision_score</th>\n",
       "      <th>roc_auc_score</th>\n",
       "    </tr>\n",
       "  </thead>\n",
       "  <tbody>\n",
       "    <tr>\n",
       "      <th>train</th>\n",
       "      <td>0.664666</td>\n",
       "      <td>0.452997</td>\n",
       "      <td>0.338641</td>\n",
       "      <td>0.683965</td>\n",
       "      <td>0.392592</td>\n",
       "      <td>0.736097</td>\n",
       "    </tr>\n",
       "    <tr>\n",
       "      <th>val</th>\n",
       "      <td>0.659791</td>\n",
       "      <td>0.446823</td>\n",
       "      <td>0.333493</td>\n",
       "      <td>0.676826</td>\n",
       "      <td>0.384931</td>\n",
       "      <td>0.731453</td>\n",
       "    </tr>\n",
       "    <tr>\n",
       "      <th>test</th>\n",
       "      <td>0.663917</td>\n",
       "      <td>0.450738</td>\n",
       "      <td>0.337271</td>\n",
       "      <td>0.679257</td>\n",
       "      <td>0.385166</td>\n",
       "      <td>0.732365</td>\n",
       "    </tr>\n",
       "  </tbody>\n",
       "</table>\n",
       "</div>"
      ],
      "text/plain": [
       "       accuracy_score  f1_score  precision_score  recall_score  \\\n",
       "train        0.664666  0.452997         0.338641      0.683965   \n",
       "val          0.659791  0.446823         0.333493      0.676826   \n",
       "test         0.663917  0.450738         0.337271      0.679257   \n",
       "\n",
       "       average_precision_score  roc_auc_score  \n",
       "train                 0.392592       0.736097  \n",
       "val                   0.384931       0.731453  \n",
       "test                  0.385166       0.732365  "
      ]
     },
     "execution_count": 36,
     "metadata": {},
     "output_type": "execute_result"
    }
   ],
   "source": [
    "metrics_df = pd.concat([sg_plot.dset_metrics(pred_met_df[pred_met_df['dset'] == d]['target'], \n",
    "                                             pred_met_df[pred_met_df['dset'] == d]['predict_bin'], \n",
    "                                             pred_met_df[pred_met_df['dset'] == d]['predict_prob']) \\\n",
    "                        for d in ['train', 'val', 'test']], axis=1,\n",
    "                      keys = ['train', 'val', 'test']) \\\n",
    "    .transpose()\n",
    "metrics_df.to_csv(Path(setup.temp_path).joinpath('51_REPORT_metrics.csv'), index=True)\n",
    "metrics_df"
   ]
  },
  {
   "cell_type": "markdown",
   "id": "3d906270-4264-4b0b-9f50-dcef8f75a5fd",
   "metadata": {},
   "source": [
    "## Lift\n",
    "Test data"
   ]
  },
  {
   "cell_type": "code",
   "execution_count": 37,
   "id": "82d9c0ab-8989-450d-a2b1-7997ca636052",
   "metadata": {},
   "outputs": [],
   "source": [
    "pred_test_df = pred_df[pred_df.index.get_level_values(0) == 'test']"
   ]
  },
  {
   "cell_type": "code",
   "execution_count": 38,
   "id": "e772ab52-6063-4538-841e-53c24dd7aa92",
   "metadata": {},
   "outputs": [
    {
     "data": {
      "image/png": "[encoded data removed]",
      "text/plain": [
       "<Figure size 400x300 with 1 Axes>"
      ]
     },
     "metadata": {},
     "output_type": "display_data"
    }
   ],
   "source": [
    "plot_lift_curve(pred_test_df['target'], \n",
    "                pd.concat([1-pred_test_df['predict_prob'], pred_test_df['predict_prob']], axis=1), \n",
    "                title='Lift Curve', ax=None, figsize=(4,3), \n",
    "                title_fontsize='large', text_fontsize='medium')\n",
    "plt.gca().legend(loc='upper right')\n",
    "plt.gcf().savefig(Path(setup.temp_path).joinpath('51_PLOT_lift_curve.png'),bbox_inches='tight')"
   ]
  },
  {
   "cell_type": "markdown",
   "id": "04994f41-3c98-412a-bb2f-11e5ae22b432",
   "metadata": {},
   "source": [
    "## Feature Importance "
   ]
  },
  {
   "cell_type": "markdown",
   "id": "926af7df-e407-484b-bd86-ae7d76a46392",
   "metadata": {},
   "source": [
    "##### XGBoost gain"
   ]
  },
  {
   "cell_type": "code",
   "execution_count": 39,
   "id": "ec3f6e1f-2b29-4b46-ac12-7a8451a3a45b",
   "metadata": {},
   "outputs": [],
   "source": [
    "feat_impgain = pd.DataFrame(xgb_model.get_booster().get_score(importance_type='gain'),\n",
    "                                     index=['importance']).T \\\n",
    "    .sort_values('importance', ascending=False)"
   ]
  },
  {
   "cell_type": "code",
   "execution_count": 40,
   "id": "9586c637-7add-4401-b61c-37abd55b11b4",
   "metadata": {},
   "outputs": [],
   "source": [
    "feat_impgain.to_csv(Path(setup.temp_path).joinpath('51_REPORT_importance_gain.csv'), index=True)"
   ]
  },
  {
   "cell_type": "code",
   "execution_count": 41,
   "id": "311e111f-d8e5-4a52-8adc-6a7c5f9daa8f",
   "metadata": {},
   "outputs": [
    {
     "data": {
      "text/html": [
       "<div>\n",
       "<style scoped>\n",
       "    .dataframe tbody tr th:only-of-type {\n",
       "        vertical-align: middle;\n",
       "    }\n",
       "\n",
       "    .dataframe tbody tr th {\n",
       "        vertical-align: top;\n",
       "    }\n",
       "\n",
       "    .dataframe thead th {\n",
       "        text-align: right;\n",
       "    }\n",
       "</style>\n",
       "<table border=\"1\" class=\"dataframe\">\n",
       "  <thead>\n",
       "    <tr style=\"text-align: right;\">\n",
       "      <th></th>\n",
       "      <th>importance</th>\n",
       "    </tr>\n",
       "  </thead>\n",
       "  <tbody>\n",
       "    <tr>\n",
       "      <th>urban_flag</th>\n",
       "      <td>1044.345459</td>\n",
       "    </tr>\n",
       "    <tr>\n",
       "      <th>emb_06_NAICS</th>\n",
       "      <td>143.093735</td>\n",
       "    </tr>\n",
       "    <tr>\n",
       "      <th>LowDoc</th>\n",
       "      <td>140.538239</td>\n",
       "    </tr>\n",
       "    <tr>\n",
       "      <th>DisbursementGross</th>\n",
       "      <td>130.665741</td>\n",
       "    </tr>\n",
       "    <tr>\n",
       "      <th>emb_04_NAICS</th>\n",
       "      <td>50.246208</td>\n",
       "    </tr>\n",
       "  </tbody>\n",
       "</table>\n",
       "</div>"
      ],
      "text/plain": [
       "                    importance\n",
       "urban_flag         1044.345459\n",
       "emb_06_NAICS        143.093735\n",
       "LowDoc              140.538239\n",
       "DisbursementGross   130.665741\n",
       "emb_04_NAICS         50.246208"
      ]
     },
     "execution_count": 41,
     "metadata": {},
     "output_type": "execute_result"
    }
   ],
   "source": [
    "feat_impgain.head()"
   ]
  },
  {
   "cell_type": "code",
   "execution_count": 42,
   "id": "9c88564a-7289-4c49-b2cd-b97338d1b042",
   "metadata": {},
   "outputs": [
    {
     "data": {
      "image/png": "[encoded data removed]",
      "text/plain": [
       "<Figure size 640x480 with 1 Axes>"
      ]
     },
     "metadata": {},
     "output_type": "display_data"
    }
   ],
   "source": [
    "feat_impgain.plot(kind='barh', legend=None)\n",
    "plt.gca().invert_yaxis()\n",
    "plt.xlabel('gain importance')\n",
    "plt.gcf().savefig(Path(setup.temp_path).joinpath('51_PLOT_importance_gain.png'))"
   ]
  },
  {
   "cell_type": "markdown",
   "id": "27e5fb90-f305-40ff-acaf-285d7d056c15",
   "metadata": {},
   "source": [
    "##### Permutation Importance"
   ]
  },
  {
   "cell_type": "code",
   "execution_count": 43,
   "id": "e2c1c123-20d0-423d-b684-585c0a5d6d2b",
   "metadata": {},
   "outputs": [],
   "source": [
    "perm_importance = permutation_importance(xgb_model, train_df[predictor_features], train_df['target'])"
   ]
  },
  {
   "cell_type": "code",
   "execution_count": 44,
   "id": "ab0df42e-af4e-46b1-b0cf-630877137678",
   "metadata": {},
   "outputs": [],
   "source": [
    "perm_importance_df = pd.DataFrame({'features':predictor_features,\n",
    "                                   'importance': perm_importance['importances_mean']}) \n",
    "perm_importance_df['abs_importance'] = np.abs(perm_importance_df['importance'])\n",
    "perm_importance_df = perm_importance_df.sort_values('abs_importance', ascending=False)"
   ]
  },
  {
   "cell_type": "code",
   "execution_count": 45,
   "id": "0cbc5d84-6775-404f-a685-44f5be5cd481",
   "metadata": {},
   "outputs": [
    {
     "data": {
      "text/html": [
       "<div>\n",
       "<style scoped>\n",
       "    .dataframe tbody tr th:only-of-type {\n",
       "        vertical-align: middle;\n",
       "    }\n",
       "\n",
       "    .dataframe tbody tr th {\n",
       "        vertical-align: top;\n",
       "    }\n",
       "\n",
       "    .dataframe thead th {\n",
       "        text-align: right;\n",
       "    }\n",
       "</style>\n",
       "<table border=\"1\" class=\"dataframe\">\n",
       "  <thead>\n",
       "    <tr style=\"text-align: right;\">\n",
       "      <th></th>\n",
       "      <th>features</th>\n",
       "      <th>importance</th>\n",
       "      <th>abs_importance</th>\n",
       "    </tr>\n",
       "  </thead>\n",
       "  <tbody>\n",
       "    <tr>\n",
       "      <th>9</th>\n",
       "      <td>emb_01_NAICS</td>\n",
       "      <td>0.003015</td>\n",
       "      <td>0.003015</td>\n",
       "    </tr>\n",
       "    <tr>\n",
       "      <th>3</th>\n",
       "      <td>DisbursementGross</td>\n",
       "      <td>0.002611</td>\n",
       "      <td>0.002611</td>\n",
       "    </tr>\n",
       "    <tr>\n",
       "      <th>1</th>\n",
       "      <td>CreateJob</td>\n",
       "      <td>0.001621</td>\n",
       "      <td>0.001621</td>\n",
       "    </tr>\n",
       "    <tr>\n",
       "      <th>19</th>\n",
       "      <td>emb_06_NAICS</td>\n",
       "      <td>0.001389</td>\n",
       "      <td>0.001389</td>\n",
       "    </tr>\n",
       "    <tr>\n",
       "      <th>15</th>\n",
       "      <td>emb_04_NAICS</td>\n",
       "      <td>0.001007</td>\n",
       "      <td>0.001007</td>\n",
       "    </tr>\n",
       "  </tbody>\n",
       "</table>\n",
       "</div>"
      ],
      "text/plain": [
       "             features  importance  abs_importance\n",
       "9        emb_01_NAICS    0.003015        0.003015\n",
       "3   DisbursementGross    0.002611        0.002611\n",
       "1           CreateJob    0.001621        0.001621\n",
       "19       emb_06_NAICS    0.001389        0.001389\n",
       "15       emb_04_NAICS    0.001007        0.001007"
      ]
     },
     "execution_count": 45,
     "metadata": {},
     "output_type": "execute_result"
    }
   ],
   "source": [
    "perm_importance_df.head(5)"
   ]
  },
  {
   "cell_type": "code",
   "execution_count": 46,
   "id": "38059608-2f72-491f-86b3-0c1418b83531",
   "metadata": {},
   "outputs": [],
   "source": [
    "perm_importance_df \\\n",
    "    .to_csv(Path(setup.temp_path).joinpath('51_DATA_importance_perturb.csv'),\n",
    "            index=False)"
   ]
  },
  {
   "cell_type": "code",
   "execution_count": 47,
   "id": "c27499c8-065b-4143-a7dc-bce301bf3edf",
   "metadata": {},
   "outputs": [
    {
     "data": {
      "image/png": "[encoded data removed]",
      "text/plain": [
       "<Figure size 640x480 with 1 Axes>"
      ]
     },
     "metadata": {},
     "output_type": "display_data"
    }
   ],
   "source": [
    "perm_importance_df.head(10).plot(kind='barh', x='features', y='importance', legend=None)\n",
    "plt.gca().invert_yaxis()\n",
    "plt.xlabel('permutation importance')\n",
    "plt.ylabel(None)\n",
    "plt.gcf().savefig(Path(setup.temp_path).joinpath('51_PLOT_importance_perturb.png'))"
   ]
  },
  {
   "cell_type": "code",
   "execution_count": null,
   "id": "d503f58b-e0b9-4c39-a44c-44176b8c4482",
   "metadata": {},
   "outputs": [],
   "source": []
  },
  {
   "cell_type": "code",
   "execution_count": null,
   "id": "59770113-5755-491d-a61c-1d2b9d350825",
   "metadata": {},
   "outputs": [],
   "source": []
  },
  {
   "cell_type": "code",
   "execution_count": null,
   "id": "6a305ade-ae2c-4eea-ae6c-75133acaab15",
   "metadata": {},
   "outputs": [],
   "source": []
  }
 ],
 "metadata": {
  "kernelspec": {
   "display_name": "tf_p39",
   "language": "python",
   "name": "tf_p39"
  },
  "language_info": {
   "codemirror_mode": {
    "name": "ipython",
    "version": 3
   },
   "file_extension": ".py",
   "mimetype": "text/x-python",
   "name": "python",
   "nbconvert_exporter": "python",
   "pygments_lexer": "ipython3",
   "version": "3.8.18"
  }
 },
 "nbformat": 4,
 "nbformat_minor": 5
}
