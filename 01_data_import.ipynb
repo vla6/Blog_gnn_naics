{
 "cells": [
  {
   "cell_type": "code",
   "execution_count": 1,
   "id": "4c4452b4-2520-4748-bd6d-2ae484e70b16",
   "metadata": {},
   "outputs": [],
   "source": [
    "# Modify the file 00_setup.py to define input/output file paths on your system\n",
    "# The information in 00_setup.py will be used across notebooks\n",
    "from importlib.machinery import SourceFileLoader\n",
    "setup = SourceFileLoader(\"setup\", \"./00_setup.py\").load_module()"
   ]
  },
  {
   "cell_type": "markdown",
   "id": "a595d38b-794b-4317-b39f-58da027df783",
   "metadata": {},
   "source": [
    "# 01:  Data Import\n",
    " * Import data\n",
    " * Feature processing\n",
    " * Train-test split and mean encoding"
   ]
  },
  {
   "cell_type": "markdown",
   "id": "f5cfeb88-9b8e-44e6-91ba-61b54b6fca52",
   "metadata": {},
   "source": [
    "I do not do extensive data exploration but instead use others' insights from various\n",
    "Kaggle projects, especially:\n",
    "* https://www.kaggle.com/code/ricardocolindres/loan-default-prediction-loan-parameter-optimizer"
   ]
  },
  {
   "cell_type": "markdown",
   "id": "3a01a85e-5401-4703-a665-361934e75105",
   "metadata": {},
   "source": [
    "I am also not going to use all the features I could.  I want to focus on NAICS, and so I don't do a lot with bank, franchise, or geography."
   ]
  },
  {
   "cell_type": "markdown",
   "id": "f3513d1f-ae7b-4bbd-be2f-4bd430d1a318",
   "metadata": {},
   "source": [
    "Because I am focused on NAICS I am going to drop rows with missing NAICS"
   ]
  },
  {
   "cell_type": "markdown",
   "id": "6e6da1d7-27bc-40dc-bf59-4062c143c508",
   "metadata": {},
   "source": [
    "*This script takes about 1 minute on my MacBook Air*"
   ]
  },
  {
   "cell_type": "code",
   "execution_count": 2,
   "id": "5f2f4da8-290e-4287-ba3c-eef1dfb093f8",
   "metadata": {},
   "outputs": [],
   "source": [
    "import pandas as pd\n",
    "import numpy as np\n",
    "import re\n",
    "import matplotlib.pyplot as plt"
   ]
  },
  {
   "cell_type": "code",
   "execution_count": 3,
   "id": "71df4185-bc4e-404b-a2df-6e58259b2381",
   "metadata": {},
   "outputs": [],
   "source": [
    "from pathlib import Path\n",
    "from sklearn.model_selection import train_test_split\n",
    "from category_encoders import TargetEncoder"
   ]
  },
  {
   "cell_type": "code",
   "execution_count": 4,
   "id": "36e8a21e-e151-4172-ad93-a9d4d60074c4",
   "metadata": {},
   "outputs": [],
   "source": [
    "from sklearn.preprocessing import OneHotEncoder"
   ]
  },
  {
   "cell_type": "markdown",
   "id": "55ec3482-660d-4f05-9f80-2086668d6768",
   "metadata": {},
   "source": [
    "## Import Data"
   ]
  },
  {
   "cell_type": "markdown",
   "id": "011691b5-499f-4028-9256-0983494975b7",
   "metadata": {},
   "source": [
    "##### Loans Data - See README.md"
   ]
  },
  {
   "cell_type": "code",
   "execution_count": 5,
   "id": "92bd280f-377e-4e47-8f83-331c8eca3768",
   "metadata": {},
   "outputs": [
    {
     "name": "stderr",
     "output_type": "stream",
     "text": [
      "/var/folders/h9/4b0yxscx221gvjqy2cqp_kyh0000gn/T/ipykernel_10933/3842615021.py:1: UserWarning: Could not infer format, so each element will be parsed individually, falling back to `dateutil`. To ensure parsing is consistent and as-expected, please specify a format.\n",
      "  sba_loans = pd.read_csv(setup.input_path,  dtype=setup.input_dtypes, parse_dates = setup.input_dates,\n",
      "/var/folders/h9/4b0yxscx221gvjqy2cqp_kyh0000gn/T/ipykernel_10933/3842615021.py:1: UserWarning: Could not infer format, so each element will be parsed individually, falling back to `dateutil`. To ensure parsing is consistent and as-expected, please specify a format.\n",
      "  sba_loans = pd.read_csv(setup.input_path,  dtype=setup.input_dtypes, parse_dates = setup.input_dates,\n",
      "/var/folders/h9/4b0yxscx221gvjqy2cqp_kyh0000gn/T/ipykernel_10933/3842615021.py:1: UserWarning: Could not infer format, so each element will be parsed individually, falling back to `dateutil`. To ensure parsing is consistent and as-expected, please specify a format.\n",
      "  sba_loans = pd.read_csv(setup.input_path,  dtype=setup.input_dtypes, parse_dates = setup.input_dates,\n"
     ]
    }
   ],
   "source": [
    "sba_loans = pd.read_csv(setup.input_path,  dtype=setup.input_dtypes, parse_dates = setup.input_dates,\n",
    "                        converters = setup.input_converters)"
   ]
  },
  {
   "cell_type": "code",
   "execution_count": 6,
   "id": "05161011-6942-46e0-a123-7643d0e93e70",
   "metadata": {},
   "outputs": [
    {
     "data": {
      "text/plain": [
       "LoanNr_ChkDgt                object\n",
       "Name                         object\n",
       "City                         object\n",
       "State                        object\n",
       "Zip                          object\n",
       "Bank                         object\n",
       "BankState                    object\n",
       "NAICS                        object\n",
       "ApprovalDate         datetime64[ns]\n",
       "ApprovalFY                   object\n",
       "Term                          int64\n",
       "NoEmp                         int64\n",
       "NewExist                     object\n",
       "CreateJob                     int64\n",
       "RetainedJob                   int64\n",
       "FranchiseCode                object\n",
       "UrbanRural                   object\n",
       "RevLineCr                    object\n",
       "LowDoc                       object\n",
       "ChgOffDate           datetime64[ns]\n",
       "DisbursementDate     datetime64[ns]\n",
       "DisbursementGross           float64\n",
       "BalanceGross                float64\n",
       "MIS_Status                   object\n",
       "ChgOffPrinGr                float64\n",
       "GrAppv                      float64\n",
       "SBA_Appv                    float64\n",
       "dtype: object"
      ]
     },
     "execution_count": 6,
     "metadata": {},
     "output_type": "execute_result"
    }
   ],
   "source": [
    "sba_loans.dtypes"
   ]
  },
  {
   "cell_type": "code",
   "execution_count": 7,
   "id": "c42036a7-4923-47df-bc12-e69c13bcefa7",
   "metadata": {},
   "outputs": [
    {
     "data": {
      "text/html": [
       "<div>\n",
       "<style scoped>\n",
       "    .dataframe tbody tr th:only-of-type {\n",
       "        vertical-align: middle;\n",
       "    }\n",
       "\n",
       "    .dataframe tbody tr th {\n",
       "        vertical-align: top;\n",
       "    }\n",
       "\n",
       "    .dataframe thead th {\n",
       "        text-align: right;\n",
       "    }\n",
       "</style>\n",
       "<table border=\"1\" class=\"dataframe\">\n",
       "  <thead>\n",
       "    <tr style=\"text-align: right;\">\n",
       "      <th></th>\n",
       "      <th>ApprovalDate</th>\n",
       "      <th>ChgOffDate</th>\n",
       "      <th>DisbursementDate</th>\n",
       "    </tr>\n",
       "  </thead>\n",
       "  <tbody>\n",
       "    <tr>\n",
       "      <th>count</th>\n",
       "      <td>899164</td>\n",
       "      <td>162699</td>\n",
       "      <td>896796</td>\n",
       "    </tr>\n",
       "    <tr>\n",
       "      <th>mean</th>\n",
       "      <td>2001-06-04 11:57:49.414700416</td>\n",
       "      <td>2008-07-02 12:56:30.968597760</td>\n",
       "      <td>2001-09-24 03:38:57.328891136</td>\n",
       "    </tr>\n",
       "    <tr>\n",
       "      <th>min</th>\n",
       "      <td>1974-01-09 00:00:00</td>\n",
       "      <td>1988-10-03 00:00:00</td>\n",
       "      <td>1974-01-07 00:00:00</td>\n",
       "    </tr>\n",
       "    <tr>\n",
       "      <th>25%</th>\n",
       "      <td>1996-11-22 00:00:00</td>\n",
       "      <td>2007-09-04 00:00:00</td>\n",
       "      <td>1997-05-31 00:00:00</td>\n",
       "    </tr>\n",
       "    <tr>\n",
       "      <th>50%</th>\n",
       "      <td>2002-09-27 00:00:00</td>\n",
       "      <td>2009-12-04 00:00:00</td>\n",
       "      <td>2002-12-31 00:00:00</td>\n",
       "    </tr>\n",
       "    <tr>\n",
       "      <th>75%</th>\n",
       "      <td>2006-01-20 00:00:00</td>\n",
       "      <td>2011-03-16 00:00:00</td>\n",
       "      <td>2006-03-31 00:00:00</td>\n",
       "    </tr>\n",
       "    <tr>\n",
       "      <th>max</th>\n",
       "      <td>2073-12-20 00:00:00</td>\n",
       "      <td>2026-10-22 00:00:00</td>\n",
       "      <td>2073-12-24 00:00:00</td>\n",
       "    </tr>\n",
       "  </tbody>\n",
       "</table>\n",
       "</div>"
      ],
      "text/plain": [
       "                        ApprovalDate                     ChgOffDate  \\\n",
       "count                         899164                         162699   \n",
       "mean   2001-06-04 11:57:49.414700416  2008-07-02 12:56:30.968597760   \n",
       "min              1974-01-09 00:00:00            1988-10-03 00:00:00   \n",
       "25%              1996-11-22 00:00:00            2007-09-04 00:00:00   \n",
       "50%              2002-09-27 00:00:00            2009-12-04 00:00:00   \n",
       "75%              2006-01-20 00:00:00            2011-03-16 00:00:00   \n",
       "max              2073-12-20 00:00:00            2026-10-22 00:00:00   \n",
       "\n",
       "                    DisbursementDate  \n",
       "count                         896796  \n",
       "mean   2001-09-24 03:38:57.328891136  \n",
       "min              1974-01-07 00:00:00  \n",
       "25%              1997-05-31 00:00:00  \n",
       "50%              2002-12-31 00:00:00  \n",
       "75%              2006-03-31 00:00:00  \n",
       "max              2073-12-24 00:00:00  "
      ]
     },
     "execution_count": 7,
     "metadata": {},
     "output_type": "execute_result"
    }
   ],
   "source": [
    "sba_loans.select_dtypes(np.datetime64).describe()"
   ]
  },
  {
   "cell_type": "markdown",
   "id": "0a808c1c-a3ba-47ea-83d0-3a9effb6d632",
   "metadata": {},
   "source": [
    "##### NAICS map"
   ]
  },
  {
   "cell_type": "code",
   "execution_count": 8,
   "id": "64d438ee-0337-436d-9c24-7b6b384b2d3b",
   "metadata": {},
   "outputs": [],
   "source": [
    "naics_map = pd.read_csv('naics/naics_map.csv', dtype='str', encoding='latin1' ) \\\n",
    "    .rename(columns={'Sector': 'NAICS_sector',\n",
    "                     'Description': 'NAICS_sector_desc'})"
   ]
  },
  {
   "cell_type": "code",
   "execution_count": 9,
   "id": "e5bb4b30-0de5-4454-a189-295d0797970e",
   "metadata": {},
   "outputs": [],
   "source": [
    "naics_map[['NAICS_sector', 'NAICS_sector_desc']] = naics_map[['NAICS_sector', 'NAICS_sector_desc']] \\\n",
    "    .apply(lambda x: x.astype('category'))"
   ]
  },
  {
   "cell_type": "code",
   "execution_count": 10,
   "id": "263feb13-868a-4aeb-b0c1-9ce671681c77",
   "metadata": {},
   "outputs": [
    {
     "data": {
      "text/html": [
       "<div>\n",
       "<style scoped>\n",
       "    .dataframe tbody tr th:only-of-type {\n",
       "        vertical-align: middle;\n",
       "    }\n",
       "\n",
       "    .dataframe tbody tr th {\n",
       "        vertical-align: top;\n",
       "    }\n",
       "\n",
       "    .dataframe thead th {\n",
       "        text-align: right;\n",
       "    }\n",
       "</style>\n",
       "<table border=\"1\" class=\"dataframe\">\n",
       "  <thead>\n",
       "    <tr style=\"text-align: right;\">\n",
       "      <th></th>\n",
       "      <th>NAICS_sector</th>\n",
       "      <th>NAICS_2</th>\n",
       "      <th>NAICS_sector_desc</th>\n",
       "    </tr>\n",
       "  </thead>\n",
       "  <tbody>\n",
       "    <tr>\n",
       "      <th>0</th>\n",
       "      <td>11</td>\n",
       "      <td>11</td>\n",
       "      <td>Agriculture, Forestry, Fishing and Hunting</td>\n",
       "    </tr>\n",
       "    <tr>\n",
       "      <th>1</th>\n",
       "      <td>21</td>\n",
       "      <td>21</td>\n",
       "      <td>Mining, Quarrying, and Oil and Gas Extraction</td>\n",
       "    </tr>\n",
       "    <tr>\n",
       "      <th>2</th>\n",
       "      <td>22</td>\n",
       "      <td>22</td>\n",
       "      <td>Utilities</td>\n",
       "    </tr>\n",
       "    <tr>\n",
       "      <th>3</th>\n",
       "      <td>23</td>\n",
       "      <td>23</td>\n",
       "      <td>Construction</td>\n",
       "    </tr>\n",
       "    <tr>\n",
       "      <th>4</th>\n",
       "      <td>31-33</td>\n",
       "      <td>31</td>\n",
       "      <td>Manufacturing</td>\n",
       "    </tr>\n",
       "  </tbody>\n",
       "</table>\n",
       "</div>"
      ],
      "text/plain": [
       "  NAICS_sector NAICS_2                              NAICS_sector_desc\n",
       "0           11      11     Agriculture, Forestry, Fishing and Hunting\n",
       "1           21      21  Mining, Quarrying, and Oil and Gas Extraction\n",
       "2           22      22                                      Utilities\n",
       "3           23      23                                   Construction\n",
       "4        31-33      31                                  Manufacturing"
      ]
     },
     "execution_count": 10,
     "metadata": {},
     "output_type": "execute_result"
    }
   ],
   "source": [
    "naics_map.head(5)"
   ]
  },
  {
   "cell_type": "markdown",
   "id": "9e9ff1b1-14e8-4a29-8e49-0c1ea957a556",
   "metadata": {},
   "source": [
    "##### All NAICS Descriptions (2007)"
   ]
  },
  {
   "cell_type": "code",
   "execution_count": 11,
   "id": "8f59f87c-6504-4f80-8bfc-27b2b1ac6a2f",
   "metadata": {},
   "outputs": [],
   "source": [
    "naics_desc = pd.read_csv('naics/naics_2007.csv', dtype='str', encoding='latin1' ) \\\n",
    "    .rename(columns={'INDEX ITEM DESCRIPTION': 'NAICS07_desc'})"
   ]
  },
  {
   "cell_type": "code",
   "execution_count": 12,
   "id": "99e3ed44-ad92-4ca0-87bf-8035153c65a8",
   "metadata": {},
   "outputs": [
    {
     "data": {
      "text/html": [
       "<div>\n",
       "<style scoped>\n",
       "    .dataframe tbody tr th:only-of-type {\n",
       "        vertical-align: middle;\n",
       "    }\n",
       "\n",
       "    .dataframe tbody tr th {\n",
       "        vertical-align: top;\n",
       "    }\n",
       "\n",
       "    .dataframe thead th {\n",
       "        text-align: right;\n",
       "    }\n",
       "</style>\n",
       "<table border=\"1\" class=\"dataframe\">\n",
       "  <thead>\n",
       "    <tr style=\"text-align: right;\">\n",
       "      <th></th>\n",
       "      <th>NAICS07</th>\n",
       "      <th>NAICS07_desc</th>\n",
       "    </tr>\n",
       "  </thead>\n",
       "  <tbody>\n",
       "    <tr>\n",
       "      <th>14781</th>\n",
       "      <td>481111</td>\n",
       "      <td>Air passenger carriers, scheduled</td>\n",
       "    </tr>\n",
       "    <tr>\n",
       "      <th>6983</th>\n",
       "      <td>325414</td>\n",
       "      <td>Antivenoms manufacturing</td>\n",
       "    </tr>\n",
       "    <tr>\n",
       "      <th>3450</th>\n",
       "      <td>313249</td>\n",
       "      <td>Hand knitting lace or warp fabric products</td>\n",
       "    </tr>\n",
       "    <tr>\n",
       "      <th>13638</th>\n",
       "      <td>423910</td>\n",
       "      <td>Archery equipment merchant wholesalers</td>\n",
       "    </tr>\n",
       "  </tbody>\n",
       "</table>\n",
       "</div>"
      ],
      "text/plain": [
       "      NAICS07                                NAICS07_desc\n",
       "14781  481111           Air passenger carriers, scheduled\n",
       "6983   325414                    Antivenoms manufacturing\n",
       "3450   313249  Hand knitting lace or warp fabric products\n",
       "13638  423910      Archery equipment merchant wholesalers"
      ]
     },
     "execution_count": 12,
     "metadata": {},
     "output_type": "execute_result"
    }
   ],
   "source": [
    "naics_desc.sample(4)"
   ]
  },
  {
   "cell_type": "code",
   "execution_count": 13,
   "id": "d9a27425-5c8a-4b5a-bc63-442a1cacbc7a",
   "metadata": {},
   "outputs": [],
   "source": [
    "naics_desc.to_parquet(Path(setup.temp_path).joinpath('01_DATA_naics07_descriptions.parquet'))"
   ]
  },
  {
   "cell_type": "markdown",
   "id": "0d66da81-4a2a-4fb1-a7cc-21ee365fbe94",
   "metadata": {},
   "source": [
    "## Process Target"
   ]
  },
  {
   "cell_type": "markdown",
   "id": "148af406-beb1-41b9-91ef-4286d1ed0c97",
   "metadata": {},
   "source": [
    "##### Create the target feature (0/1) that indicates a default"
   ]
  },
  {
   "cell_type": "code",
   "execution_count": 14,
   "id": "65d46709-9ede-4999-9f10-3f06b4a8caf9",
   "metadata": {},
   "outputs": [
    {
     "data": {
      "text/plain": [
       "MIS_Status\n",
       "P I F     739609\n",
       "CHGOFF    157558\n",
       "Name: count, dtype: int64"
      ]
     },
     "execution_count": 14,
     "metadata": {},
     "output_type": "execute_result"
    }
   ],
   "source": [
    "sba_loans['MIS_Status'].value_counts()"
   ]
  },
  {
   "cell_type": "code",
   "execution_count": 15,
   "id": "e2dd041e-e092-4487-a1ae-de765e710a4b",
   "metadata": {},
   "outputs": [
    {
     "data": {
      "text/plain": [
       "MIS_Status\n",
       "P I F     0.822552\n",
       "CHGOFF    0.175227\n",
       "NaN       0.002221\n",
       "Name: proportion, dtype: float64"
      ]
     },
     "execution_count": 15,
     "metadata": {},
     "output_type": "execute_result"
    }
   ],
   "source": [
    "sba_loans['MIS_Status'].value_counts(normalize=True, dropna=False)"
   ]
  },
  {
   "cell_type": "code",
   "execution_count": 16,
   "id": "d5866b7b-654a-427d-8996-688ba3a9d3e3",
   "metadata": {},
   "outputs": [],
   "source": [
    "# Defaults are fairly common.  About 1/6 of loans default"
   ]
  },
  {
   "cell_type": "code",
   "execution_count": 17,
   "id": "0b7d3959-d712-4585-a6f3-6cd575a27953",
   "metadata": {},
   "outputs": [
    {
     "data": {
      "text/html": [
       "<div>\n",
       "<style scoped>\n",
       "    .dataframe tbody tr th:only-of-type {\n",
       "        vertical-align: middle;\n",
       "    }\n",
       "\n",
       "    .dataframe tbody tr th {\n",
       "        vertical-align: top;\n",
       "    }\n",
       "\n",
       "    .dataframe thead th {\n",
       "        text-align: right;\n",
       "    }\n",
       "</style>\n",
       "<table border=\"1\" class=\"dataframe\">\n",
       "  <thead>\n",
       "    <tr style=\"text-align: right;\">\n",
       "      <th></th>\n",
       "      <th>LoanNr_ChkDgt</th>\n",
       "      <th>Name</th>\n",
       "      <th>City</th>\n",
       "      <th>State</th>\n",
       "      <th>Zip</th>\n",
       "      <th>Bank</th>\n",
       "      <th>BankState</th>\n",
       "      <th>NAICS</th>\n",
       "      <th>ApprovalDate</th>\n",
       "      <th>ApprovalFY</th>\n",
       "      <th>...</th>\n",
       "      <th>RevLineCr</th>\n",
       "      <th>LowDoc</th>\n",
       "      <th>ChgOffDate</th>\n",
       "      <th>DisbursementDate</th>\n",
       "      <th>DisbursementGross</th>\n",
       "      <th>BalanceGross</th>\n",
       "      <th>MIS_Status</th>\n",
       "      <th>ChgOffPrinGr</th>\n",
       "      <th>GrAppv</th>\n",
       "      <th>SBA_Appv</th>\n",
       "    </tr>\n",
       "  </thead>\n",
       "  <tbody>\n",
       "    <tr>\n",
       "      <th>823365</th>\n",
       "      <td>8835951004</td>\n",
       "      <td>BANTAS AND MOMS GROCERY</td>\n",
       "      <td>PARIS</td>\n",
       "      <td>KY</td>\n",
       "      <td>40361</td>\n",
       "      <td>TRADITIONAL BANK, INC.</td>\n",
       "      <td>KY</td>\n",
       "      <td>0</td>\n",
       "      <td>1979-08-30</td>\n",
       "      <td>1979</td>\n",
       "      <td>...</td>\n",
       "      <td>N</td>\n",
       "      <td>N</td>\n",
       "      <td>1992-08-25</td>\n",
       "      <td>NaT</td>\n",
       "      <td>0.0</td>\n",
       "      <td>0.0</td>\n",
       "      <td>NaN</td>\n",
       "      <td>408.0</td>\n",
       "      <td>42000.0</td>\n",
       "      <td>31500.0</td>\n",
       "    </tr>\n",
       "    <tr>\n",
       "      <th>153101</th>\n",
       "      <td>2115765006</td>\n",
       "      <td>JILLIAN WENTWORTH DBA THE HAIR</td>\n",
       "      <td>DANSVILLE</td>\n",
       "      <td>NY</td>\n",
       "      <td>14437</td>\n",
       "      <td>CITIZENS BANK NATL ASSOC</td>\n",
       "      <td>RI</td>\n",
       "      <td>812112</td>\n",
       "      <td>2006-11-09</td>\n",
       "      <td>2007</td>\n",
       "      <td>...</td>\n",
       "      <td>N</td>\n",
       "      <td>N</td>\n",
       "      <td>NaT</td>\n",
       "      <td>2007-03-31</td>\n",
       "      <td>2000.0</td>\n",
       "      <td>0.0</td>\n",
       "      <td>NaN</td>\n",
       "      <td>0.0</td>\n",
       "      <td>2000.0</td>\n",
       "      <td>1000.0</td>\n",
       "    </tr>\n",
       "    <tr>\n",
       "      <th>98036</th>\n",
       "      <td>1726775003</td>\n",
       "      <td>THE EDGE GROUP, LLC</td>\n",
       "      <td>CARMEL</td>\n",
       "      <td>IN</td>\n",
       "      <td>46032</td>\n",
       "      <td>CITIZENS BANK NATL ASSOC</td>\n",
       "      <td>RI</td>\n",
       "      <td>561720</td>\n",
       "      <td>2006-03-23</td>\n",
       "      <td>2006</td>\n",
       "      <td>...</td>\n",
       "      <td>Y</td>\n",
       "      <td>N</td>\n",
       "      <td>NaT</td>\n",
       "      <td>2006-04-30</td>\n",
       "      <td>2654.0</td>\n",
       "      <td>0.0</td>\n",
       "      <td>NaN</td>\n",
       "      <td>0.0</td>\n",
       "      <td>1000.0</td>\n",
       "      <td>500.0</td>\n",
       "    </tr>\n",
       "  </tbody>\n",
       "</table>\n",
       "<p>3 rows × 27 columns</p>\n",
       "</div>"
      ],
      "text/plain": [
       "       LoanNr_ChkDgt                            Name       City State    Zip  \\\n",
       "823365    8835951004         BANTAS AND MOMS GROCERY      PARIS    KY  40361   \n",
       "153101    2115765006  JILLIAN WENTWORTH DBA THE HAIR  DANSVILLE    NY  14437   \n",
       "98036     1726775003             THE EDGE GROUP, LLC     CARMEL    IN  46032   \n",
       "\n",
       "                            Bank BankState   NAICS ApprovalDate ApprovalFY  \\\n",
       "823365    TRADITIONAL BANK, INC.        KY       0   1979-08-30       1979   \n",
       "153101  CITIZENS BANK NATL ASSOC        RI  812112   2006-11-09       2007   \n",
       "98036   CITIZENS BANK NATL ASSOC        RI  561720   2006-03-23       2006   \n",
       "\n",
       "        ...  RevLineCr  LowDoc ChgOffDate  DisbursementDate  \\\n",
       "823365  ...          N       N 1992-08-25               NaT   \n",
       "153101  ...          N       N        NaT        2007-03-31   \n",
       "98036   ...          Y       N        NaT        2006-04-30   \n",
       "\n",
       "        DisbursementGross BalanceGross MIS_Status ChgOffPrinGr   GrAppv  \\\n",
       "823365                0.0          0.0        NaN        408.0  42000.0   \n",
       "153101             2000.0          0.0        NaN          0.0   2000.0   \n",
       "98036              2654.0          0.0        NaN          0.0   1000.0   \n",
       "\n",
       "       SBA_Appv  \n",
       "823365  31500.0  \n",
       "153101   1000.0  \n",
       "98036     500.0  \n",
       "\n",
       "[3 rows x 27 columns]"
      ]
     },
     "execution_count": 17,
     "metadata": {},
     "output_type": "execute_result"
    }
   ],
   "source": [
    "# Check the nulls\n",
    "sba_loans[sba_loans['MIS_Status'].isna()].sample(3)"
   ]
  },
  {
   "cell_type": "code",
   "execution_count": 18,
   "id": "095ed3a8-9e9e-403d-873d-0358934bb1df",
   "metadata": {},
   "outputs": [
    {
     "data": {
      "text/html": [
       "<div>\n",
       "<style scoped>\n",
       "    .dataframe tbody tr th:only-of-type {\n",
       "        vertical-align: middle;\n",
       "    }\n",
       "\n",
       "    .dataframe tbody tr th {\n",
       "        vertical-align: top;\n",
       "    }\n",
       "\n",
       "    .dataframe thead th {\n",
       "        text-align: right;\n",
       "    }\n",
       "</style>\n",
       "<table border=\"1\" class=\"dataframe\">\n",
       "  <thead>\n",
       "    <tr style=\"text-align: right;\">\n",
       "      <th></th>\n",
       "      <th>ChgOffPrinGr</th>\n",
       "      <th>BalanceGross</th>\n",
       "      <th>ChgOffDate</th>\n",
       "    </tr>\n",
       "  </thead>\n",
       "  <tbody>\n",
       "    <tr>\n",
       "      <th>count</th>\n",
       "      <td>1997.000000</td>\n",
       "      <td>1997.0</td>\n",
       "      <td>261</td>\n",
       "    </tr>\n",
       "    <tr>\n",
       "      <th>mean</th>\n",
       "      <td>2758.911367</td>\n",
       "      <td>0.0</td>\n",
       "      <td>2003-03-19 06:15:10.344827648</td>\n",
       "    </tr>\n",
       "    <tr>\n",
       "      <th>min</th>\n",
       "      <td>0.000000</td>\n",
       "      <td>0.0</td>\n",
       "      <td>1988-12-12 00:00:00</td>\n",
       "    </tr>\n",
       "    <tr>\n",
       "      <th>25%</th>\n",
       "      <td>0.000000</td>\n",
       "      <td>0.0</td>\n",
       "      <td>1992-09-15 00:00:00</td>\n",
       "    </tr>\n",
       "    <tr>\n",
       "      <th>50%</th>\n",
       "      <td>0.000000</td>\n",
       "      <td>0.0</td>\n",
       "      <td>2008-05-05 00:00:00</td>\n",
       "    </tr>\n",
       "    <tr>\n",
       "      <th>75%</th>\n",
       "      <td>0.000000</td>\n",
       "      <td>0.0</td>\n",
       "      <td>2010-02-20 00:00:00</td>\n",
       "    </tr>\n",
       "    <tr>\n",
       "      <th>max</th>\n",
       "      <td>650543.000000</td>\n",
       "      <td>0.0</td>\n",
       "      <td>2014-08-27 00:00:00</td>\n",
       "    </tr>\n",
       "    <tr>\n",
       "      <th>std</th>\n",
       "      <td>27531.777037</td>\n",
       "      <td>0.0</td>\n",
       "      <td>NaN</td>\n",
       "    </tr>\n",
       "  </tbody>\n",
       "</table>\n",
       "</div>"
      ],
      "text/plain": [
       "        ChgOffPrinGr  BalanceGross                     ChgOffDate\n",
       "count    1997.000000        1997.0                            261\n",
       "mean     2758.911367           0.0  2003-03-19 06:15:10.344827648\n",
       "min         0.000000           0.0            1988-12-12 00:00:00\n",
       "25%         0.000000           0.0            1992-09-15 00:00:00\n",
       "50%         0.000000           0.0            2008-05-05 00:00:00\n",
       "75%         0.000000           0.0            2010-02-20 00:00:00\n",
       "max    650543.000000           0.0            2014-08-27 00:00:00\n",
       "std     27531.777037           0.0                            NaN"
      ]
     },
     "execution_count": 18,
     "metadata": {},
     "output_type": "execute_result"
    }
   ],
   "source": [
    "sba_loans[sba_loans['MIS_Status'].isna()][['ChgOffPrinGr', 'BalanceGross', 'ChgOffDate']].describe()"
   ]
  },
  {
   "cell_type": "code",
   "execution_count": 19,
   "id": "664a22d7-7198-4366-8334-5019c9c8a636",
   "metadata": {},
   "outputs": [
    {
     "data": {
      "text/plain": [
       "ChgOffDate\n",
       "True     1736\n",
       "False     261\n",
       "Name: count, dtype: int64"
      ]
     },
     "execution_count": 19,
     "metadata": {},
     "output_type": "execute_result"
    }
   ],
   "source": [
    "sba_loans[sba_loans['MIS_Status'].isna()]['ChgOffDate'].isna().value_counts()"
   ]
  },
  {
   "cell_type": "code",
   "execution_count": 20,
   "id": "9b90d38b-21f6-449d-8b05-bf529aada245",
   "metadata": {},
   "outputs": [],
   "source": [
    "# The loans with unknown MIS Status are a small count, most don't have charge-off dates but some do\n",
    "# Drop these rows as they are ambiguous and small volume\n",
    "sba_loans = sba_loans[~sba_loans['MIS_Status'].isna()]"
   ]
  },
  {
   "cell_type": "code",
   "execution_count": 21,
   "id": "bafa5a82-2ef2-4e89-9f64-2c5c3fe31e2c",
   "metadata": {},
   "outputs": [],
   "source": [
    "# Create a binary feature for the remaining loans\n",
    "sba_loans['target'] = np.where(sba_loans['MIS_Status'] == 'P I F', 0, 1)"
   ]
  },
  {
   "cell_type": "code",
   "execution_count": 22,
   "id": "42677d14-e9ae-45dc-82c8-6e3e0862fcce",
   "metadata": {},
   "outputs": [
    {
     "data": {
      "text/plain": [
       "target\n",
       "0    0.824383\n",
       "1    0.175617\n",
       "Name: proportion, dtype: float64"
      ]
     },
     "execution_count": 22,
     "metadata": {},
     "output_type": "execute_result"
    }
   ],
   "source": [
    "sba_loans['target'].value_counts(dropna=False, normalize=True)"
   ]
  },
  {
   "cell_type": "markdown",
   "id": "b18d6996-5869-4d1e-95f6-31296b844ba5",
   "metadata": {},
   "source": [
    "## Predictor Features - Basic Processing"
   ]
  },
  {
   "cell_type": "markdown",
   "id": "bcc718e2-dea0-45f1-909c-5b9c71dccd69",
   "metadata": {},
   "source": [
    "##### Convert approval year to a date"
   ]
  },
  {
   "cell_type": "code",
   "execution_count": 23,
   "id": "31e56ed8-1f26-4962-9153-e98d3aad1576",
   "metadata": {},
   "outputs": [
    {
     "data": {
      "text/plain": [
       "count    897167.000000\n",
       "mean       2001.139677\n",
       "std           5.912461\n",
       "min        1966.000000\n",
       "25%        1997.000000\n",
       "50%        2002.000000\n",
       "75%        2006.000000\n",
       "max        2014.000000\n",
       "Name: ApprovalFY, dtype: float64"
      ]
     },
     "execution_count": 23,
     "metadata": {},
     "output_type": "execute_result"
    }
   ],
   "source": [
    "sba_loans['ApprovalFY'] = sba_loans['ApprovalFY'].str[0:4].astype('int')\n",
    "sba_loans['ApprovalFY'].describe()"
   ]
  },
  {
   "cell_type": "code",
   "execution_count": 24,
   "id": "47d5b3d3-d1ae-45b5-a712-187a1ecc7065",
   "metadata": {},
   "outputs": [
    {
     "data": {
      "text/plain": [
       "ApprovalFY\n",
       "False    897167\n",
       "Name: count, dtype: int64"
      ]
     },
     "execution_count": 24,
     "metadata": {},
     "output_type": "execute_result"
    }
   ],
   "source": [
    "sba_loans['ApprovalFY'].isna().value_counts()"
   ]
  },
  {
   "cell_type": "markdown",
   "id": "7335c704-c6b5-4532-8bf1-a6e4095be493",
   "metadata": {},
   "source": [
    "##### Express SBA guaranteed amount as a fraction"
   ]
  },
  {
   "cell_type": "code",
   "execution_count": 25,
   "id": "dd41e8b8-ec3e-44be-bfc0-405e12a7079e",
   "metadata": {},
   "outputs": [],
   "source": [
    "sba_loans['guaranteed_fract'] = sba_loans['SBA_Appv']/sba_loans['GrAppv']"
   ]
  },
  {
   "cell_type": "markdown",
   "id": "52a5471d-3bf5-4a55-ae1e-23e7b2445dda",
   "metadata": {},
   "source": [
    "##### Convert Y/N binary columns"
   ]
  },
  {
   "cell_type": "code",
   "execution_count": 26,
   "id": "26147177-a6c4-4859-bf9f-604a454e2e55",
   "metadata": {},
   "outputs": [],
   "source": [
    "# Function to convert 'Y','N' columns\n",
    "def convert_yn(ser):\n",
    "    cond = [ser.isna(), ser.str.lower() == 'y', ser.str.lower() == 'n']\n",
    "    choice =[np.nan, 1, 0]\n",
    "    return np.select(cond, choice, np.nan)"
   ]
  },
  {
   "cell_type": "code",
   "execution_count": 27,
   "id": "0d4a6190-e8b9-4fe3-98ab-03e8b76b2814",
   "metadata": {},
   "outputs": [
    {
     "data": {
      "text/plain": [
       "LowDoc\n",
       "N      780997\n",
       "Y      110171\n",
       "NaN      2578\n",
       "0        1490\n",
       "C         758\n",
       "S         603\n",
       "A         495\n",
       "R          74\n",
       "1           1\n",
       "Name: count, dtype: int64"
      ]
     },
     "execution_count": 27,
     "metadata": {},
     "output_type": "execute_result"
    }
   ],
   "source": [
    "sba_loans['LowDoc'].value_counts(dropna=False)"
   ]
  },
  {
   "cell_type": "code",
   "execution_count": 28,
   "id": "75612cc1-84c8-4b71-acc7-924034569b02",
   "metadata": {},
   "outputs": [
    {
     "data": {
      "text/plain": [
       "RevLineCr\n",
       "N    419252\n",
       "0    257431\n",
       "Y    200660\n",
       "T     15239\n",
       "1        23\n",
       "Name: count, dtype: int64"
      ]
     },
     "execution_count": 28,
     "metadata": {},
     "output_type": "execute_result"
    }
   ],
   "source": [
    "sba_loans['RevLineCr'].value_counts().head(5)"
   ]
  },
  {
   "cell_type": "code",
   "execution_count": 29,
   "id": "889d00f8-ae5a-48e9-b8e0-fcfa642e2e03",
   "metadata": {},
   "outputs": [],
   "source": [
    "# There are some strange values in both fields, but I will follow the documentation and assume that the Y/N mean true or false.\n",
    "# I will let the other values become NA"
   ]
  },
  {
   "cell_type": "code",
   "execution_count": 30,
   "id": "9a48efb6-c62c-428c-805c-5c207526dd0d",
   "metadata": {},
   "outputs": [
    {
     "data": {
      "text/plain": [
       "RevLineCr\n",
       "0.0    419252\n",
       "NaN    277255\n",
       "1.0    200660\n",
       "Name: count, dtype: int64"
      ]
     },
     "execution_count": 30,
     "metadata": {},
     "output_type": "execute_result"
    }
   ],
   "source": [
    "sba_loans['RevLineCr'] = convert_yn(sba_loans['RevLineCr'])\n",
    "sba_loans['RevLineCr'].value_counts(dropna=False)"
   ]
  },
  {
   "cell_type": "code",
   "execution_count": 31,
   "id": "84533b48-e087-40c0-b6d6-d5e99db3a7ca",
   "metadata": {},
   "outputs": [
    {
     "data": {
      "text/plain": [
       "LowDoc\n",
       "0.0    780997\n",
       "1.0    110171\n",
       "NaN      5999\n",
       "Name: count, dtype: int64"
      ]
     },
     "execution_count": 31,
     "metadata": {},
     "output_type": "execute_result"
    }
   ],
   "source": [
    "sba_loans['LowDoc'] = convert_yn(sba_loans['LowDoc'])\n",
    "sba_loans['LowDoc'].value_counts(dropna=False)"
   ]
  },
  {
   "cell_type": "markdown",
   "id": "ea03e207-8ada-4a77-a1c6-5b3aec4f8d43",
   "metadata": {},
   "source": [
    "##### New/existing business"
   ]
  },
  {
   "cell_type": "code",
   "execution_count": 32,
   "id": "2252b3f1-e7c9-4b25-8315-fb1500fe8908",
   "metadata": {},
   "outputs": [
    {
     "data": {
      "text/plain": [
       "NewExist\n",
       "1      643446\n",
       "2      252559\n",
       "0        1028\n",
       "NaN       134\n",
       "Name: count, dtype: int64"
      ]
     },
     "execution_count": 32,
     "metadata": {},
     "output_type": "execute_result"
    }
   ],
   "source": [
    "sba_loans['NewExist'].value_counts(dropna=False)"
   ]
  },
  {
   "cell_type": "code",
   "execution_count": 33,
   "id": "b2371a5d-5458-4271-8a0c-2f2f41314a42",
   "metadata": {},
   "outputs": [],
   "source": [
    "cond = [sba_loans['NewExist'].isna(), sba_loans['NewExist'] == '1', sba_loans['NewExist'] == '2']\n",
    "choice = [np.nan, 0, 1]\n",
    "sba_loans['new_business'] = np.select(cond, choice, np.nan)"
   ]
  },
  {
   "cell_type": "code",
   "execution_count": 34,
   "id": "3ce2ce93-4a8d-44ba-8cbb-a162ce274165",
   "metadata": {},
   "outputs": [
    {
     "data": {
      "text/plain": [
       "new_business\n",
       "0.0    643446\n",
       "1.0    252559\n",
       "NaN      1162\n",
       "Name: count, dtype: int64"
      ]
     },
     "execution_count": 34,
     "metadata": {},
     "output_type": "execute_result"
    }
   ],
   "source": [
    "sba_loans['new_business'].value_counts(dropna=False)"
   ]
  },
  {
   "cell_type": "markdown",
   "id": "db6edd03-4ac5-4b1a-89a2-a4ffd80ff1bf",
   "metadata": {},
   "source": [
    "##### Urban/Rural"
   ]
  },
  {
   "cell_type": "code",
   "execution_count": 35,
   "id": "59595a8c-1cd0-4ec4-9b54-ea727a660cc0",
   "metadata": {},
   "outputs": [
    {
     "data": {
      "text/plain": [
       "UrbanRural\n",
       "1    469281\n",
       "0    322826\n",
       "2    105060\n",
       "Name: count, dtype: int64"
      ]
     },
     "execution_count": 35,
     "metadata": {},
     "output_type": "execute_result"
    }
   ],
   "source": [
    "sba_loans['UrbanRural'].value_counts(dropna=False)"
   ]
  },
  {
   "cell_type": "code",
   "execution_count": 36,
   "id": "b1cd1f53-0af7-490b-8ebb-6c46067c1f54",
   "metadata": {},
   "outputs": [],
   "source": [
    "cond = [sba_loans['UrbanRural'].isna(), sba_loans['UrbanRural'] == '1', sba_loans['UrbanRural'] == '2']\n",
    "choice = [np.nan, 1, 0]\n",
    "sba_loans['urban_flag'] = np.select(cond, choice, np.nan)"
   ]
  },
  {
   "cell_type": "markdown",
   "id": "e551258b-cb89-4b25-9f1d-2f479f3daf7a",
   "metadata": {},
   "source": [
    "##### Franchise flag\n",
    "Note we have a more detailed code, but just mark rows with no franchise info"
   ]
  },
  {
   "cell_type": "code",
   "execution_count": 37,
   "id": "2fe91805-d394-41b5-95b3-0030212e3260",
   "metadata": {},
   "outputs": [
    {
     "data": {
      "text/plain": [
       "FranchiseCode\n",
       "1        637395\n",
       "0        208040\n",
       "78760      3373\n",
       "68020      1921\n",
       "50564      1034\n",
       "Name: count, dtype: int64"
      ]
     },
     "execution_count": 37,
     "metadata": {},
     "output_type": "execute_result"
    }
   ],
   "source": [
    "sba_loans['FranchiseCode'].value_counts(dropna=False).head(5)"
   ]
  },
  {
   "cell_type": "code",
   "execution_count": 38,
   "id": "b1f98f05",
   "metadata": {},
   "outputs": [],
   "source": [
    "cond = [sba_loans['FranchiseCode'].isna(), sba_loans['FranchiseCode'].isin(['1', '0', '00000', '00001'])]\n",
    "choice = [np.nan, 0]\n",
    "sba_loans['franchise_flag'] = np.select(cond, choice, 1)"
   ]
  },
  {
   "cell_type": "code",
   "execution_count": 39,
   "id": "0d4f6b84-aaeb-4eb8-a6c5-2a79308db1f6",
   "metadata": {},
   "outputs": [
    {
     "data": {
      "text/plain": [
       "franchise_flag\n",
       "0.0    845435\n",
       "1.0     51732\n",
       "Name: count, dtype: int64"
      ]
     },
     "execution_count": 39,
     "metadata": {},
     "output_type": "execute_result"
    }
   ],
   "source": [
    "sba_loans['franchise_flag'].value_counts(dropna=False)"
   ]
  },
  {
   "cell_type": "markdown",
   "id": "cab99b14-ce12-4df8-b74c-2294eff2d7e8",
   "metadata": {},
   "source": [
    "## NAICS\n",
    "I am most interested in this feature for this project.  I am going to add the NAICS sector feature here.  I will use both NAICS and NAICS sector information in my models.  "
   ]
  },
  {
   "cell_type": "markdown",
   "id": "c05112e4-c517-4c5c-ad38-80f8dfb7502a",
   "metadata": {},
   "source": [
    "I use 2007 NAICS definitions as this data spans a range of timeframes, with median ~2009; however this one vintage may not perfectly reflect the data. See also https://www.census.gov/naics/?48967"
   ]
  },
  {
   "cell_type": "markdown",
   "id": "1f84a819-25f5-4557-a0c6-34a4e2f57b80",
   "metadata": {},
   "source": [
    "Later I will mean encode NAICS (this is my usual approach to this field).  I also will one-hot encode as this is usual, and use a numeric form of NAICS to compare performance.  In this section I map the NAICS sector and create the numeric feature.  After train/test/validation split, I do the encodings."
   ]
  },
  {
   "cell_type": "markdown",
   "id": "6af66115-9829-4ba3-9b7d-e9a49d386371",
   "metadata": {},
   "source": [
    "Later I also will drop missing NAICS.  I don't do it here "
   ]
  },
  {
   "cell_type": "markdown",
   "id": "232fa961-261b-44a2-a817-e11f103f6159",
   "metadata": {},
   "source": [
    "##### Descriptives and clean up"
   ]
  },
  {
   "cell_type": "code",
   "execution_count": 40,
   "id": "859a90dd-cd4f-4489-9b6d-d01df1bc99c0",
   "metadata": {},
   "outputs": [
    {
     "data": {
      "text/plain": [
       "NAICS\n",
       "0         201667\n",
       "722110     27941\n",
       "722211     19435\n",
       "811111     14539\n",
       "621210     14034\n",
       "           ...  \n",
       "212231         1\n",
       "925120         1\n",
       "524192         1\n",
       "311351         1\n",
       "333241         1\n",
       "Name: count, Length: 1312, dtype: int64"
      ]
     },
     "execution_count": 40,
     "metadata": {},
     "output_type": "execute_result"
    }
   ],
   "source": [
    "sba_loans['NAICS'].value_counts(dropna=False)"
   ]
  },
  {
   "cell_type": "code",
   "execution_count": 41,
   "id": "b6fe6c65-78d8-499d-bf08-a85e9f6efbc4",
   "metadata": {},
   "outputs": [
    {
     "data": {
      "text/plain": [
       "NAICS\n",
       "NaN       201667\n",
       "722110     27941\n",
       "722211     19435\n",
       "811111     14539\n",
       "621210     14034\n",
       "           ...  \n",
       "212231         1\n",
       "925120         1\n",
       "524192         1\n",
       "311351         1\n",
       "333241         1\n",
       "Name: count, Length: 1312, dtype: int64"
      ]
     },
     "execution_count": 41,
     "metadata": {},
     "output_type": "execute_result"
    }
   ],
   "source": [
    "# First things first those 0's have to go\n",
    "sba_loans['NAICS'] = sba_loans['NAICS'].where(sba_loans['NAICS'] != '0', np.nan)\n",
    "sba_loans['NAICS'].value_counts(dropna=False)"
   ]
  },
  {
   "cell_type": "code",
   "execution_count": 42,
   "id": "8e625a1a-160b-462c-8b2c-16219a1794d0",
   "metadata": {},
   "outputs": [
    {
     "data": {
      "text/plain": [
       "NAICS\n",
       "6.0    695500\n",
       "Name: count, dtype: int64"
      ]
     },
     "execution_count": 42,
     "metadata": {},
     "output_type": "execute_result"
    }
   ],
   "source": [
    "# Length of remaining codes\n",
    "sba_loans['NAICS'].str.len().value_counts()\n",
    "# They all have the right number of digits!"
   ]
  },
  {
   "cell_type": "code",
   "execution_count": 43,
   "id": "87e877d6-2ddf-4bb8-87c2-7a2e3a6ccb04",
   "metadata": {},
   "outputs": [
    {
     "data": {
      "text/plain": [
       "count\n",
       "False    1278\n",
       "True       33\n",
       "Name: count, dtype: int64"
      ]
     },
     "execution_count": 43,
     "metadata": {},
     "output_type": "execute_result"
    }
   ],
   "source": [
    "# Distribution of counts - how many codes have just 1 company (not too many)\n",
    "count_info  = sba_loans['NAICS'].value_counts(dropna=True)\n",
    "(count_info == 1).value_counts()"
   ]
  },
  {
   "cell_type": "code",
   "execution_count": 44,
   "id": "3719d260-ca6e-4856-af68-2c5a0aaca0df",
   "metadata": {},
   "outputs": [
    {
     "data": {
      "text/plain": [
       "NAICS\n",
       "False    695500\n",
       "True     201667\n",
       "Name: count, dtype: int64"
      ]
     },
     "execution_count": 44,
     "metadata": {},
     "output_type": "execute_result"
    }
   ],
   "source": [
    "sba_loans['NAICS'].isna().value_counts()"
   ]
  },
  {
   "cell_type": "code",
   "execution_count": 45,
   "id": "3f001ee6-311c-40f3-b3d9-d0ecb7f31eaf",
   "metadata": {},
   "outputs": [
    {
     "data": {
      "text/plain": [
       "count     1311.000000\n",
       "mean       530.511060\n",
       "std       1503.077093\n",
       "min          1.000000\n",
       "25%         36.000000\n",
       "50%        126.000000\n",
       "75%        377.000000\n",
       "max      27941.000000\n",
       "Name: count, dtype: float64"
      ]
     },
     "execution_count": 45,
     "metadata": {},
     "output_type": "execute_result"
    }
   ],
   "source": [
    "count_info.describe()"
   ]
  },
  {
   "cell_type": "code",
   "execution_count": 46,
   "id": "38e5d3c3-cbdd-400b-8b30-425834da8517",
   "metadata": {},
   "outputs": [],
   "source": [
    "cond  = [count_info == 1, count_info < 10, count_info < 50, count_info < 100,\n",
    "         count_info < 1000, count_info < 10000]\n",
    "choice = ['0001', '0002-0009', '0010-0049', '0050-0099', '0100-1000', '1000-9999']\n",
    "count_cat = pd.Series(np.select(cond, choice, '10k+'))"
   ]
  },
  {
   "cell_type": "code",
   "execution_count": 47,
   "id": "2832873f-3e2d-42b6-bc42-cfc2580e9a98",
   "metadata": {},
   "outputs": [
    {
     "data": {
      "text/plain": [
       "0100-1000    559\n",
       "0010-0049    257\n",
       "0050-0099    191\n",
       "1000-9999    153\n",
       "0002-0009    113\n",
       "0001          33\n",
       "10k+           5\n",
       "Name: count, dtype: int64"
      ]
     },
     "execution_count": 47,
     "metadata": {},
     "output_type": "execute_result"
    }
   ],
   "source": [
    "count_cat.value_counts()"
   ]
  },
  {
   "cell_type": "code",
   "execution_count": 48,
   "id": "7cf58634-6875-41ce-b0f7-dd559333e4fa",
   "metadata": {},
   "outputs": [],
   "source": [
    "# There are not so many very rare codes.  But about 50% have < 126 loans.  And there are some very common codes"
   ]
  },
  {
   "cell_type": "markdown",
   "id": "db697475-6dfb-453c-9d0b-2676181594cd",
   "metadata": {},
   "source": [
    "##### Add the NAICS sector information"
   ]
  },
  {
   "cell_type": "code",
   "execution_count": 49,
   "id": "9b1ccddc-f1b1-473b-b961-5a0bcac1385d",
   "metadata": {},
   "outputs": [],
   "source": [
    "sba_loans['NAICS_2'] = sba_loans['NAICS'].str[0:2]"
   ]
  },
  {
   "cell_type": "code",
   "execution_count": 50,
   "id": "aab7ec66-eea1-48ce-8dc0-7f4d0c9c8635",
   "metadata": {},
   "outputs": [],
   "source": [
    "sba_loans = sba_loans \\\n",
    "    .drop(columns=['NAICS_sector', 'NAICS_sector_desc'], errors='ignore') \\\n",
    "    .merge(naics_map, on='NAICS_2', how='left')"
   ]
  },
  {
   "cell_type": "code",
   "execution_count": 51,
   "id": "96bd6d52-6e42-4e42-924c-676e4949fa4a",
   "metadata": {},
   "outputs": [
    {
     "data": {
      "text/plain": [
       "NAICS_sector_desc\n",
       "Retail Trade                                                                126975\n",
       "Other Services (except Public Administration)                                72395\n",
       "Professional, Scientific, and Technical Services                             67922\n",
       "Manufacturing                                                                67903\n",
       "Accommodation and Food Services                                              67511\n",
       "Construction                                                                 66492\n",
       "Health Care and Social Assistance                                            55264\n",
       "Wholesale Trade                                                              48673\n",
       "Administrative and Support and Waste Management and Remediation Services     32529\n",
       "Transportation and Warehousing                                               22408\n",
       "Arts, Entertainment, and Recreation                                          14616\n",
       "Real Estate and Rental and Leasing                                           13588\n",
       "Information                                                                  11362\n",
       "Finance and Insurance                                                         9470\n",
       "Agriculture, Forestry, Fishing and Hunting                                    8995\n",
       "Educational Services                                                          6401\n",
       "Mining, Quarrying, and Oil and Gas Extraction                                 1851\n",
       "Utilities                                                                      662\n",
       "Management of Companies and Enterprises                                        256\n",
       "Public Administration (not covered in economic census)                         227\n",
       "Name: count, dtype: int64"
      ]
     },
     "execution_count": 51,
     "metadata": {},
     "output_type": "execute_result"
    }
   ],
   "source": [
    "sba_loans['NAICS_sector_desc'].value_counts()"
   ]
  },
  {
   "cell_type": "code",
   "execution_count": 52,
   "id": "69b7a4b2-9711-4f90-9720-5e8aa889ba09",
   "metadata": {},
   "outputs": [],
   "source": [
    "# There are some slightly rare sectors, e.g. Public Administration"
   ]
  },
  {
   "cell_type": "markdown",
   "id": "c58d037f-3570-4679-86ef-7789af9d0183",
   "metadata": {},
   "source": [
    "##### Add the numeric form of the NAICS featuresba_loans"
   ]
  },
  {
   "cell_type": "code",
   "execution_count": 53,
   "id": "c5560a5c-b04a-40f9-80c8-e565f1bbefa7",
   "metadata": {},
   "outputs": [],
   "source": [
    "sba_loans['NAICS_num']= sba_loans['NAICS'].astype('float')"
   ]
  },
  {
   "cell_type": "code",
   "execution_count": 54,
   "id": "f8c38185-89c1-4052-a0c1-2322c3ff1c8b",
   "metadata": {},
   "outputs": [
    {
     "data": {
      "text/plain": [
       "count    695500.000000\n",
       "mean     514102.946193\n",
       "std      173375.659980\n",
       "min      111110.000000\n",
       "25%      423430.000000\n",
       "50%      512110.000000\n",
       "75%      621399.000000\n",
       "max      928120.000000\n",
       "Name: NAICS_num, dtype: float64"
      ]
     },
     "execution_count": 54,
     "metadata": {},
     "output_type": "execute_result"
    }
   ],
   "source": [
    "sba_loans['NAICS_num'].describe()"
   ]
  },
  {
   "cell_type": "markdown",
   "id": "4820a756-110f-4710-8f21-e4b12c95797a",
   "metadata": {
    "tags": []
   },
   "source": [
    "## Age of Loan"
   ]
  },
  {
   "cell_type": "markdown",
   "id": "21406b96-fe24-487b-bf93-9f61419c1f90",
   "metadata": {},
   "source": [
    "Older loans likely have very long terms (and therefore were designated as low risk).  Also loans in place for decades may be unlikely to default now.  In addition, I suspect many such loans will have NULL NAICS codes.  I will explore this."
   ]
  },
  {
   "cell_type": "code",
   "execution_count": 55,
   "id": "5c08a978-10e4-4b60-b7f5-5e424b51ccd7",
   "metadata": {},
   "outputs": [],
   "source": [
    "sba_loans['missing_NAICS'] = np.where(sba_loans['NAICS'].isna(), 1, 0)"
   ]
  },
  {
   "cell_type": "markdown",
   "id": "eb01e0ec-6fa3-4422-953c-5221e36314d7",
   "metadata": {},
   "source": [
    "##### Missingness and loan age"
   ]
  },
  {
   "cell_type": "code",
   "execution_count": 56,
   "id": "67a1bf93-2aaa-41df-ae69-9e73a20de19f",
   "metadata": {},
   "outputs": [
    {
     "data": {
      "text/html": [
       "<div>\n",
       "<style scoped>\n",
       "    .dataframe tbody tr th:only-of-type {\n",
       "        vertical-align: middle;\n",
       "    }\n",
       "\n",
       "    .dataframe tbody tr th {\n",
       "        vertical-align: top;\n",
       "    }\n",
       "\n",
       "    .dataframe thead th {\n",
       "        text-align: right;\n",
       "    }\n",
       "</style>\n",
       "<table border=\"1\" class=\"dataframe\">\n",
       "  <thead>\n",
       "    <tr style=\"text-align: right;\">\n",
       "      <th></th>\n",
       "      <th>median</th>\n",
       "      <th>mean</th>\n",
       "      <th>min</th>\n",
       "      <th>max</th>\n",
       "    </tr>\n",
       "    <tr>\n",
       "      <th>missing_NAICS</th>\n",
       "      <th></th>\n",
       "      <th></th>\n",
       "      <th></th>\n",
       "      <th></th>\n",
       "    </tr>\n",
       "  </thead>\n",
       "  <tbody>\n",
       "    <tr>\n",
       "      <th>0</th>\n",
       "      <td>2004.0</td>\n",
       "      <td>2003.018242</td>\n",
       "      <td>1984</td>\n",
       "      <td>2014</td>\n",
       "    </tr>\n",
       "    <tr>\n",
       "      <th>1</th>\n",
       "      <td>1995.0</td>\n",
       "      <td>1994.660971</td>\n",
       "      <td>1966</td>\n",
       "      <td>2010</td>\n",
       "    </tr>\n",
       "  </tbody>\n",
       "</table>\n",
       "</div>"
      ],
      "text/plain": [
       "               median         mean   min   max\n",
       "missing_NAICS                                 \n",
       "0              2004.0  2003.018242  1984  2014\n",
       "1              1995.0  1994.660971  1966  2010"
      ]
     },
     "execution_count": 56,
     "metadata": {},
     "output_type": "execute_result"
    }
   ],
   "source": [
    "sba_loans.groupby('missing_NAICS')['ApprovalFY'].agg(['median', 'mean', 'min', 'max'])"
   ]
  },
  {
   "cell_type": "code",
   "execution_count": 57,
   "id": "218d33c0-b720-4160-97ad-9bd292a0c31f",
   "metadata": {},
   "outputs": [
    {
     "data": {
      "image/png": "[encoded data removed]",
      "text/plain": [
       "<Figure size 500x300 with 1 Axes>"
      ]
     },
     "metadata": {},
     "output_type": "display_data"
    }
   ],
   "source": [
    "# Plot NAICS missingness\n",
    "fig, ax = plt.subplots(figsize = (5, 3))\n",
    "sba_loans.groupby('ApprovalFY')['missing_NAICS'].agg('mean').plot(ax = ax)\n",
    "ax.set_ylabel('% missing NAICS')\n",
    "plt.gcf().savefig(Path(setup.temp_path).joinpath('01_PLOT_loan_year_NAICS_missing.png'),bbox_inches='tight')"
   ]
  },
  {
   "cell_type": "code",
   "execution_count": 58,
   "id": "f137341b-3faa-437b-b10d-04b5eb4153db",
   "metadata": {},
   "outputs": [
    {
     "data": {
      "image/png": "[encoded data removed]",
      "text/plain": [
       "<Figure size 500x300 with 1 Axes>"
      ]
     },
     "metadata": {},
     "output_type": "display_data"
    }
   ],
   "source": [
    "# Plot target rate\n",
    "fig, ax = plt.subplots(figsize = (5, 3))\n",
    "sba_loans.groupby('ApprovalFY')['target'].agg('mean').plot(ax = ax)\n",
    "ax.set_ylabel('target rate')\n",
    "plt.gcf().savefig(Path(setup.temp_path).joinpath('01_PLOT_loan_year_target_rate.png'),bbox_inches='tight')"
   ]
  },
  {
   "cell_type": "code",
   "execution_count": 59,
   "id": "77cc6700-c4b9-4421-ba82-42f353064ffe",
   "metadata": {},
   "outputs": [
    {
     "data": {
      "image/png": "[encoded data removed]",
      "text/plain": [
       "<Figure size 500x300 with 1 Axes>"
      ]
     },
     "metadata": {},
     "output_type": "display_data"
    }
   ],
   "source": [
    "# Plot target rate\n",
    "# Plot NAICS missingness\n",
    "fig, ax = plt.subplots(figsize = (5, 3))\n",
    "sba_loans.groupby('ApprovalFY')['target'].agg('count').plot(ax = ax)\n",
    "ax.set_ylabel('loan count')\n",
    "plt.gcf().savefig(Path(setup.temp_path).joinpath('01_PLOT_loan_year_counts.png'),bbox_inches='tight')"
   ]
  },
  {
   "cell_type": "markdown",
   "id": "7cb97446-4b87-4d0d-a12b-4246c3d66de3",
   "metadata": {},
   "source": [
    "Loans prior to 1990 are rare and also have super high default rates, and often-null NAICS.  I think these loans are probably very different from more modern loans.  I am going to drop these."
   ]
  },
  {
   "cell_type": "markdown",
   "id": "0e038133-7de0-4a9d-9552-a178bb715e4e",
   "metadata": {},
   "source": [
    "I probably will not include the approval FY explicitly in my model, because new data could be drawn from future years.  However I expect that the model will still pick up on some over-time trends.  For example, it might correlate a missing NAICS with a higher default rate, due to confounding with age of loan."
   ]
  },
  {
   "cell_type": "markdown",
   "id": "0b98b43d-f16e-457e-9893-c7ad8509d34f",
   "metadata": {},
   "source": [
    "At this point I also drop rows with missing NAICS"
   ]
  },
  {
   "cell_type": "code",
   "execution_count": 60,
   "id": "c1adb060-ad00-464b-b014-87a531c50056",
   "metadata": {},
   "outputs": [],
   "source": [
    "sba_loans = sba_loans[(sba_loans['ApprovalFY'] >= 1990) &\n",
    "                     (sba_loans['missing_NAICS'] == 0)] \\\n",
    "    .drop(columns='missing_NAICS')"
   ]
  },
  {
   "cell_type": "code",
   "execution_count": 61,
   "id": "59188e42-7a04-48f7-a898-13bb3ba0b799",
   "metadata": {},
   "outputs": [
    {
     "data": {
      "text/plain": [
       "count    688081.000000\n",
       "mean       2003.172576\n",
       "std           4.750860\n",
       "min        1990.000000\n",
       "25%        2001.000000\n",
       "50%        2004.000000\n",
       "75%        2006.000000\n",
       "max        2014.000000\n",
       "Name: ApprovalFY, dtype: float64"
      ]
     },
     "execution_count": 61,
     "metadata": {},
     "output_type": "execute_result"
    }
   ],
   "source": [
    "# Drop the \"missing NAICS\" feature\n",
    "sba_loans['ApprovalFY'].describe()"
   ]
  },
  {
   "cell_type": "markdown",
   "id": "d8a89ea6-e1f7-46c6-9425-83c263f8b648",
   "metadata": {},
   "source": [
    "##### Save dataset so far"
   ]
  },
  {
   "cell_type": "code",
   "execution_count": 62,
   "id": "34f670cb-b6a6-4414-aaa8-d2991f7c0889",
   "metadata": {},
   "outputs": [
    {
     "data": {
      "text/html": [
       "<div>\n",
       "<style scoped>\n",
       "    .dataframe tbody tr th:only-of-type {\n",
       "        vertical-align: middle;\n",
       "    }\n",
       "\n",
       "    .dataframe tbody tr th {\n",
       "        vertical-align: top;\n",
       "    }\n",
       "\n",
       "    .dataframe thead th {\n",
       "        text-align: right;\n",
       "    }\n",
       "</style>\n",
       "<table border=\"1\" class=\"dataframe\">\n",
       "  <thead>\n",
       "    <tr style=\"text-align: right;\">\n",
       "      <th></th>\n",
       "      <th>ApprovalDate</th>\n",
       "      <th>ApprovalFY</th>\n",
       "      <th>Term</th>\n",
       "      <th>NoEmp</th>\n",
       "      <th>CreateJob</th>\n",
       "      <th>RetainedJob</th>\n",
       "      <th>RevLineCr</th>\n",
       "      <th>LowDoc</th>\n",
       "      <th>ChgOffDate</th>\n",
       "      <th>DisbursementDate</th>\n",
       "      <th>...</th>\n",
       "      <th>BalanceGross</th>\n",
       "      <th>ChgOffPrinGr</th>\n",
       "      <th>GrAppv</th>\n",
       "      <th>SBA_Appv</th>\n",
       "      <th>target</th>\n",
       "      <th>guaranteed_fract</th>\n",
       "      <th>new_business</th>\n",
       "      <th>urban_flag</th>\n",
       "      <th>franchise_flag</th>\n",
       "      <th>NAICS_num</th>\n",
       "    </tr>\n",
       "  </thead>\n",
       "  <tbody>\n",
       "    <tr>\n",
       "      <th>count</th>\n",
       "      <td>688081</td>\n",
       "      <td>688081.000000</td>\n",
       "      <td>688081.000000</td>\n",
       "      <td>688081.000000</td>\n",
       "      <td>688081.000000</td>\n",
       "      <td>688081.000000</td>\n",
       "      <td>457016.000000</td>\n",
       "      <td>683029.000000</td>\n",
       "      <td>144040</td>\n",
       "      <td>686207</td>\n",
       "      <td>...</td>\n",
       "      <td>688081.000000</td>\n",
       "      <td>6.880810e+05</td>\n",
       "      <td>6.880810e+05</td>\n",
       "      <td>6.880810e+05</td>\n",
       "      <td>688081.000000</td>\n",
       "      <td>688081.000000</td>\n",
       "      <td>687231.000000</td>\n",
       "      <td>551445.000000</td>\n",
       "      <td>688081.000000</td>\n",
       "      <td>688081.000000</td>\n",
       "    </tr>\n",
       "    <tr>\n",
       "      <th>mean</th>\n",
       "      <td>2003-06-08 19:41:48.344801920</td>\n",
       "      <td>2003.172576</td>\n",
       "      <td>102.479897</td>\n",
       "      <td>9.715318</td>\n",
       "      <td>2.169425</td>\n",
       "      <td>5.136857</td>\n",
       "      <td>0.425541</td>\n",
       "      <td>0.098445</td>\n",
       "      <td>2009-10-13 17:19:37.272979712</td>\n",
       "      <td>2003-09-17 10:43:04.219630208</td>\n",
       "      <td>...</td>\n",
       "      <td>3.906393</td>\n",
       "      <td>1.463758e+04</td>\n",
       "      <td>1.824504e+05</td>\n",
       "      <td>1.398423e+05</td>\n",
       "      <td>0.203011</td>\n",
       "      <td>0.678458</td>\n",
       "      <td>0.278279</td>\n",
       "      <td>0.816127</td>\n",
       "      <td>0.050324</td>\n",
       "      <td>514486.574621</td>\n",
       "    </tr>\n",
       "    <tr>\n",
       "      <th>min</th>\n",
       "      <td>1989-10-03 00:00:00</td>\n",
       "      <td>1990.000000</td>\n",
       "      <td>0.000000</td>\n",
       "      <td>0.000000</td>\n",
       "      <td>0.000000</td>\n",
       "      <td>0.000000</td>\n",
       "      <td>0.000000</td>\n",
       "      <td>0.000000</td>\n",
       "      <td>1990-12-14 00:00:00</td>\n",
       "      <td>1987-04-01 00:00:00</td>\n",
       "      <td>...</td>\n",
       "      <td>0.000000</td>\n",
       "      <td>0.000000e+00</td>\n",
       "      <td>1.000000e+03</td>\n",
       "      <td>5.000000e+02</td>\n",
       "      <td>0.000000</td>\n",
       "      <td>0.028140</td>\n",
       "      <td>0.000000</td>\n",
       "      <td>0.000000</td>\n",
       "      <td>0.000000</td>\n",
       "      <td>111110.000000</td>\n",
       "    </tr>\n",
       "    <tr>\n",
       "      <th>25%</th>\n",
       "      <td>2001-02-27 00:00:00</td>\n",
       "      <td>2001.000000</td>\n",
       "      <td>60.000000</td>\n",
       "      <td>2.000000</td>\n",
       "      <td>0.000000</td>\n",
       "      <td>0.000000</td>\n",
       "      <td>0.000000</td>\n",
       "      <td>0.000000</td>\n",
       "      <td>2008-06-23 00:00:00</td>\n",
       "      <td>2001-05-31 00:00:00</td>\n",
       "      <td>...</td>\n",
       "      <td>0.000000</td>\n",
       "      <td>0.000000e+00</td>\n",
       "      <td>3.000000e+04</td>\n",
       "      <td>1.700000e+04</td>\n",
       "      <td>0.000000</td>\n",
       "      <td>0.500000</td>\n",
       "      <td>0.000000</td>\n",
       "      <td>1.000000</td>\n",
       "      <td>0.000000</td>\n",
       "      <td>423450.000000</td>\n",
       "    </tr>\n",
       "    <tr>\n",
       "      <th>50%</th>\n",
       "      <td>2004-06-09 00:00:00</td>\n",
       "      <td>2004.000000</td>\n",
       "      <td>84.000000</td>\n",
       "      <td>4.000000</td>\n",
       "      <td>0.000000</td>\n",
       "      <td>2.000000</td>\n",
       "      <td>0.000000</td>\n",
       "      <td>0.000000</td>\n",
       "      <td>2010-03-06 00:00:00</td>\n",
       "      <td>2004-09-15 00:00:00</td>\n",
       "      <td>...</td>\n",
       "      <td>0.000000</td>\n",
       "      <td>0.000000e+00</td>\n",
       "      <td>7.500000e+04</td>\n",
       "      <td>5.000000e+04</td>\n",
       "      <td>0.000000</td>\n",
       "      <td>0.750000</td>\n",
       "      <td>0.000000</td>\n",
       "      <td>1.000000</td>\n",
       "      <td>0.000000</td>\n",
       "      <td>512131.000000</td>\n",
       "    </tr>\n",
       "    <tr>\n",
       "      <th>75%</th>\n",
       "      <td>2006-09-15 00:00:00</td>\n",
       "      <td>2006.000000</td>\n",
       "      <td>120.000000</td>\n",
       "      <td>9.000000</td>\n",
       "      <td>2.000000</td>\n",
       "      <td>5.000000</td>\n",
       "      <td>1.000000</td>\n",
       "      <td>0.000000</td>\n",
       "      <td>2011-05-18 00:00:00</td>\n",
       "      <td>2006-11-30 00:00:00</td>\n",
       "      <td>...</td>\n",
       "      <td>0.000000</td>\n",
       "      <td>0.000000e+00</td>\n",
       "      <td>2.000000e+05</td>\n",
       "      <td>1.500000e+05</td>\n",
       "      <td>0.000000</td>\n",
       "      <td>0.850000</td>\n",
       "      <td>1.000000</td>\n",
       "      <td>1.000000</td>\n",
       "      <td>0.000000</td>\n",
       "      <td>621399.000000</td>\n",
       "    </tr>\n",
       "    <tr>\n",
       "      <th>max</th>\n",
       "      <td>2014-06-25 00:00:00</td>\n",
       "      <td>2014.000000</td>\n",
       "      <td>569.000000</td>\n",
       "      <td>9999.000000</td>\n",
       "      <td>5621.000000</td>\n",
       "      <td>9500.000000</td>\n",
       "      <td>1.000000</td>\n",
       "      <td>1.000000</td>\n",
       "      <td>2014-08-29 00:00:00</td>\n",
       "      <td>2028-06-18 00:00:00</td>\n",
       "      <td>...</td>\n",
       "      <td>996262.000000</td>\n",
       "      <td>3.512596e+06</td>\n",
       "      <td>5.472000e+06</td>\n",
       "      <td>5.472000e+06</td>\n",
       "      <td>1.000000</td>\n",
       "      <td>1.000000</td>\n",
       "      <td>1.000000</td>\n",
       "      <td>1.000000</td>\n",
       "      <td>1.000000</td>\n",
       "      <td>928120.000000</td>\n",
       "    </tr>\n",
       "    <tr>\n",
       "      <th>std</th>\n",
       "      <td>NaN</td>\n",
       "      <td>4.750860</td>\n",
       "      <td>74.482744</td>\n",
       "      <td>58.359100</td>\n",
       "      <td>14.965085</td>\n",
       "      <td>20.635561</td>\n",
       "      <td>0.494425</td>\n",
       "      <td>0.297916</td>\n",
       "      <td>NaN</td>\n",
       "      <td>NaN</td>\n",
       "      <td>...</td>\n",
       "      <td>1648.593116</td>\n",
       "      <td>6.799730e+04</td>\n",
       "      <td>2.911322e+05</td>\n",
       "      <td>2.379942e+05</td>\n",
       "      <td>0.402241</td>\n",
       "      <td>0.175191</td>\n",
       "      <td>0.448152</td>\n",
       "      <td>0.387381</td>\n",
       "      <td>0.218613</td>\n",
       "      <td>173198.290425</td>\n",
       "    </tr>\n",
       "  </tbody>\n",
       "</table>\n",
       "<p>8 rows × 21 columns</p>\n",
       "</div>"
      ],
      "text/plain": [
       "                        ApprovalDate     ApprovalFY           Term  \\\n",
       "count                         688081  688081.000000  688081.000000   \n",
       "mean   2003-06-08 19:41:48.344801920    2003.172576     102.479897   \n",
       "min              1989-10-03 00:00:00    1990.000000       0.000000   \n",
       "25%              2001-02-27 00:00:00    2001.000000      60.000000   \n",
       "50%              2004-06-09 00:00:00    2004.000000      84.000000   \n",
       "75%              2006-09-15 00:00:00    2006.000000     120.000000   \n",
       "max              2014-06-25 00:00:00    2014.000000     569.000000   \n",
       "std                              NaN       4.750860      74.482744   \n",
       "\n",
       "               NoEmp      CreateJob    RetainedJob      RevLineCr  \\\n",
       "count  688081.000000  688081.000000  688081.000000  457016.000000   \n",
       "mean        9.715318       2.169425       5.136857       0.425541   \n",
       "min         0.000000       0.000000       0.000000       0.000000   \n",
       "25%         2.000000       0.000000       0.000000       0.000000   \n",
       "50%         4.000000       0.000000       2.000000       0.000000   \n",
       "75%         9.000000       2.000000       5.000000       1.000000   \n",
       "max      9999.000000    5621.000000    9500.000000       1.000000   \n",
       "std        58.359100      14.965085      20.635561       0.494425   \n",
       "\n",
       "              LowDoc                     ChgOffDate  \\\n",
       "count  683029.000000                         144040   \n",
       "mean        0.098445  2009-10-13 17:19:37.272979712   \n",
       "min         0.000000            1990-12-14 00:00:00   \n",
       "25%         0.000000            2008-06-23 00:00:00   \n",
       "50%         0.000000            2010-03-06 00:00:00   \n",
       "75%         0.000000            2011-05-18 00:00:00   \n",
       "max         1.000000            2014-08-29 00:00:00   \n",
       "std         0.297916                            NaN   \n",
       "\n",
       "                    DisbursementDate  ...   BalanceGross  ChgOffPrinGr  \\\n",
       "count                         686207  ...  688081.000000  6.880810e+05   \n",
       "mean   2003-09-17 10:43:04.219630208  ...       3.906393  1.463758e+04   \n",
       "min              1987-04-01 00:00:00  ...       0.000000  0.000000e+00   \n",
       "25%              2001-05-31 00:00:00  ...       0.000000  0.000000e+00   \n",
       "50%              2004-09-15 00:00:00  ...       0.000000  0.000000e+00   \n",
       "75%              2006-11-30 00:00:00  ...       0.000000  0.000000e+00   \n",
       "max              2028-06-18 00:00:00  ...  996262.000000  3.512596e+06   \n",
       "std                              NaN  ...    1648.593116  6.799730e+04   \n",
       "\n",
       "             GrAppv      SBA_Appv         target  guaranteed_fract  \\\n",
       "count  6.880810e+05  6.880810e+05  688081.000000     688081.000000   \n",
       "mean   1.824504e+05  1.398423e+05       0.203011          0.678458   \n",
       "min    1.000000e+03  5.000000e+02       0.000000          0.028140   \n",
       "25%    3.000000e+04  1.700000e+04       0.000000          0.500000   \n",
       "50%    7.500000e+04  5.000000e+04       0.000000          0.750000   \n",
       "75%    2.000000e+05  1.500000e+05       0.000000          0.850000   \n",
       "max    5.472000e+06  5.472000e+06       1.000000          1.000000   \n",
       "std    2.911322e+05  2.379942e+05       0.402241          0.175191   \n",
       "\n",
       "        new_business     urban_flag  franchise_flag      NAICS_num  \n",
       "count  687231.000000  551445.000000   688081.000000  688081.000000  \n",
       "mean        0.278279       0.816127        0.050324  514486.574621  \n",
       "min         0.000000       0.000000        0.000000  111110.000000  \n",
       "25%         0.000000       1.000000        0.000000  423450.000000  \n",
       "50%         0.000000       1.000000        0.000000  512131.000000  \n",
       "75%         1.000000       1.000000        0.000000  621399.000000  \n",
       "max         1.000000       1.000000        1.000000  928120.000000  \n",
       "std         0.448152       0.387381        0.218613  173198.290425  \n",
       "\n",
       "[8 rows x 21 columns]"
      ]
     },
     "execution_count": 62,
     "metadata": {},
     "output_type": "execute_result"
    }
   ],
   "source": [
    "sba_loans.describe()"
   ]
  },
  {
   "cell_type": "code",
   "execution_count": 63,
   "id": "678a7cde-1b80-4721-aae8-45399ea56fbc",
   "metadata": {},
   "outputs": [],
   "source": [
    "sba_loans.to_parquet(Path(setup.temp_path).joinpath('01_DATA_import_filtered.parquet'))"
   ]
  },
  {
   "cell_type": "markdown",
   "id": "cbdc33e5-3650-4818-bee7-7c7685e268e3",
   "metadata": {},
   "source": [
    "## Train/Test Split\n",
    "I will do mean and one hot encoding, but need to split first to avoid data leakage.  I will do a 65/20/15 split.  I put some NAICS into the test set only also"
   ]
  },
  {
   "cell_type": "code",
   "execution_count": 64,
   "id": "b3f224b5-f31b-4110-86da-038c4133476c",
   "metadata": {},
   "outputs": [
    {
     "data": {
      "text/plain": [
       "(66, 1)"
      ]
     },
     "execution_count": 64,
     "metadata": {},
     "output_type": "execute_result"
    }
   ],
   "source": [
    "holdout_naics = sba_loans[['NAICS']].drop_duplicates().sample(frac=0.05, random_state =2432)\n",
    "holdout_naics.to_csv(Path(setup.temp_path).joinpath('01_REPORT_holdout_naics.csv'))\n",
    "holdout_naics.shape"
   ]
  },
  {
   "cell_type": "code",
   "execution_count": 91,
   "id": "90e5df47-35ef-41ad-a1f8-8b300998d370",
   "metadata": {},
   "outputs": [],
   "source": [
    "sba_merge = sba_loans[['LoanNr_ChkDgt', 'NAICS']].reset_index() \\\n",
    "    .merge(holdout_naics, on='NAICS', how='left', indicator=True) \\\n",
    "    .set_index('index')\n",
    "sba_holdout_naics_index = sba_merge[sba_merge['_merge'] == 'both'].index\n",
    "sba_allow_naics_index = sba_merge[sba_merge['_merge'] == 'left_only'].index"
   ]
  },
  {
   "cell_type": "code",
   "execution_count": 92,
   "id": "124b3bee-ad8f-471f-b8f5-6d918540cd35",
   "metadata": {},
   "outputs": [
    {
     "data": {
      "text/plain": [
       "Index([0, 1, 2], dtype='int64', name='index')"
      ]
     },
     "execution_count": 92,
     "metadata": {},
     "output_type": "execute_result"
    }
   ],
   "source": [
    "sba_allow_naics_index[0:3]"
   ]
  },
  {
   "cell_type": "code",
   "execution_count": 93,
   "id": "93af0301-2865-475a-a50c-ada398719151",
   "metadata": {},
   "outputs": [],
   "source": [
    "[train_index, other_index] = train_test_split(sba_allow_naics_index, train_size=0.65, random_state=3432,\n",
    "                                                    stratify=sba_loans.loc[sba_allow_naics_index]['target'])"
   ]
  },
  {
   "cell_type": "code",
   "execution_count": 94,
   "id": "77f3ec90-9c95-4cf8-90f5-0a5472b9995a",
   "metadata": {},
   "outputs": [],
   "source": [
    "[test_split_ind, val_index] = train_test_split(other_index, train_size=0.45, random_state=635,\n",
    "                                               stratify=sba_loans.loc[other_index]['target'])"
   ]
  },
  {
   "cell_type": "code",
   "execution_count": 95,
   "id": "78527c54-4f37-452d-974b-6bfaf512eebe",
   "metadata": {},
   "outputs": [],
   "source": [
    "test_index = test_split_ind.union(sba_holdout_naics_index)"
   ]
  },
  {
   "cell_type": "code",
   "execution_count": 96,
   "id": "843d709f-8077-4d02-b6c6-c64bd3e632ea",
   "metadata": {},
   "outputs": [
    {
     "name": "stdout",
     "output_type": "stream",
     "text": [
      "train index: (425594,), validation index: (126042,), test index: (136445,)\n",
      "total: 688081\n"
     ]
    }
   ],
   "source": [
    "print(f'train index: {train_index.shape}, validation index: {val_index.shape}, test index: {test_index.shape}')\n",
    "print(f'total: {len(train_index) + len(val_index) + len(test_index)}')"
   ]
  },
  {
   "cell_type": "code",
   "execution_count": 97,
   "id": "542728da-a16c-4ac4-8ac3-e6312d0d122a",
   "metadata": {},
   "outputs": [],
   "source": [
    "#sba_loans_save = sba_loans.copy()"
   ]
  },
  {
   "cell_type": "code",
   "execution_count": 98,
   "id": "054eaed4-7f3b-4065-885a-27e7a471f62c",
   "metadata": {},
   "outputs": [],
   "source": [
    "#cond = [sba_loans.index\n",
    "cond= [sba_loans.index.isin(train_index), sba_loans.index.isin(val_index)]\n",
    "choice=['train', 'val']\n",
    "sba_loans['dset'] = np.select(cond, choice, 'test')\n",
    "sba_loans['dset_naics_holdout'] = np.where(sba_loans.index.isin(sba_holdout_naics_index), 1, 0)"
   ]
  },
  {
   "cell_type": "markdown",
   "id": "b8233624-b8a9-4e02-ad16-e8b9da8da37b",
   "metadata": {},
   "source": [
    "## Mean Encoding"
   ]
  },
  {
   "cell_type": "markdown",
   "id": "9eed231b-981a-46be-b011-25dce6f99820",
   "metadata": {},
   "source": [
    "##### Create mean encoders.  \n",
    "I don't want to overfit, and so lower volume categories must be smoothed.  I use TargetEncoder from category_encoders (https://contrib.scikit-learn.org/category_encoders/targetencoder.html).  This mixes in the overall mean, and you specify a sample count where you get 50% of the mean.  We have 1/6 target rate overall, so I need at ~30 observations before the variance and mean are similar, so I'll do 30 for now."
   ]
  },
  {
   "cell_type": "code",
   "execution_count": 99,
   "id": "e2513685-cc7e-4c19-aea4-ff6bcb2387f0",
   "metadata": {},
   "outputs": [],
   "source": [
    "train_df = sba_loans[sba_loans['dset'] == 'train']"
   ]
  },
  {
   "cell_type": "code",
   "execution_count": 100,
   "id": "c5573a0b-d07a-4757-bce7-affb4b4dc411",
   "metadata": {},
   "outputs": [],
   "source": [
    "naics_encoder = TargetEncoder(cols=['NAICS', 'NAICS_sector'], min_samples_leaf = 50)"
   ]
  },
  {
   "cell_type": "code",
   "execution_count": 101,
   "id": "8a807d44-f001-40c5-8a74-b1e6ad22daee",
   "metadata": {},
   "outputs": [
    {
     "data": {
      "text/html": [
       "<style>#sk-container-id-3 {color: black;}#sk-container-id-3 pre{padding: 0;}#sk-container-id-3 div.sk-toggleable {background-color: white;}#sk-container-id-3 label.sk-toggleable__label {cursor: pointer;display: block;width: 100%;margin-bottom: 0;padding: 0.3em;box-sizing: border-box;text-align: center;}#sk-container-id-3 label.sk-toggleable__label-arrow:before {content: \"▸\";float: left;margin-right: 0.25em;color: #696969;}#sk-container-id-3 label.sk-toggleable__label-arrow:hover:before {color: black;}#sk-container-id-3 div.sk-estimator:hover label.sk-toggleable__label-arrow:before {color: black;}#sk-container-id-3 div.sk-toggleable__content {max-height: 0;max-width: 0;overflow: hidden;text-align: left;background-color: #f0f8ff;}#sk-container-id-3 div.sk-toggleable__content pre {margin: 0.2em;color: black;border-radius: 0.25em;background-color: #f0f8ff;}#sk-container-id-3 input.sk-toggleable__control:checked~div.sk-toggleable__content {max-height: 200px;max-width: 100%;overflow: auto;}#sk-container-id-3 input.sk-toggleable__control:checked~label.sk-toggleable__label-arrow:before {content: \"▾\";}#sk-container-id-3 div.sk-estimator input.sk-toggleable__control:checked~label.sk-toggleable__label {background-color: #d4ebff;}#sk-container-id-3 div.sk-label input.sk-toggleable__control:checked~label.sk-toggleable__label {background-color: #d4ebff;}#sk-container-id-3 input.sk-hidden--visually {border: 0;clip: rect(1px 1px 1px 1px);clip: rect(1px, 1px, 1px, 1px);height: 1px;margin: -1px;overflow: hidden;padding: 0;position: absolute;width: 1px;}#sk-container-id-3 div.sk-estimator {font-family: monospace;background-color: #f0f8ff;border: 1px dotted black;border-radius: 0.25em;box-sizing: border-box;margin-bottom: 0.5em;}#sk-container-id-3 div.sk-estimator:hover {background-color: #d4ebff;}#sk-container-id-3 div.sk-parallel-item::after {content: \"\";width: 100%;border-bottom: 1px solid gray;flex-grow: 1;}#sk-container-id-3 div.sk-label:hover label.sk-toggleable__label {background-color: #d4ebff;}#sk-container-id-3 div.sk-serial::before {content: \"\";position: absolute;border-left: 1px solid gray;box-sizing: border-box;top: 0;bottom: 0;left: 50%;z-index: 0;}#sk-container-id-3 div.sk-serial {display: flex;flex-direction: column;align-items: center;background-color: white;padding-right: 0.2em;padding-left: 0.2em;position: relative;}#sk-container-id-3 div.sk-item {position: relative;z-index: 1;}#sk-container-id-3 div.sk-parallel {display: flex;align-items: stretch;justify-content: center;background-color: white;position: relative;}#sk-container-id-3 div.sk-item::before, #sk-container-id-3 div.sk-parallel-item::before {content: \"\";position: absolute;border-left: 1px solid gray;box-sizing: border-box;top: 0;bottom: 0;left: 50%;z-index: -1;}#sk-container-id-3 div.sk-parallel-item {display: flex;flex-direction: column;z-index: 1;position: relative;background-color: white;}#sk-container-id-3 div.sk-parallel-item:first-child::after {align-self: flex-end;width: 50%;}#sk-container-id-3 div.sk-parallel-item:last-child::after {align-self: flex-start;width: 50%;}#sk-container-id-3 div.sk-parallel-item:only-child::after {width: 0;}#sk-container-id-3 div.sk-dashed-wrapped {border: 1px dashed gray;margin: 0 0.4em 0.5em 0.4em;box-sizing: border-box;padding-bottom: 0.4em;background-color: white;}#sk-container-id-3 div.sk-label label {font-family: monospace;font-weight: bold;display: inline-block;line-height: 1.2em;}#sk-container-id-3 div.sk-label-container {text-align: center;}#sk-container-id-3 div.sk-container {/* jupyter's `normalize.less` sets `[hidden] { display: none; }` but bootstrap.min.css set `[hidden] { display: none !important; }` so we also need the `!important` here to be able to override the default hidden behavior on the sphinx rendered scikit-learn.org. See: https://github.com/scikit-learn/scikit-learn/issues/21755 */display: inline-block !important;position: relative;}#sk-container-id-3 div.sk-text-repr-fallback {display: none;}</style><div id=\"sk-container-id-3\" class=\"sk-top-container\"><div class=\"sk-text-repr-fallback\"><pre>TargetEncoder(cols=[&#x27;NAICS&#x27;, &#x27;NAICS_sector&#x27;], min_samples_leaf=50)</pre><b>In a Jupyter environment, please rerun this cell to show the HTML representation or trust the notebook. <br />On GitHub, the HTML representation is unable to render, please try loading this page with nbviewer.org.</b></div><div class=\"sk-container\" hidden><div class=\"sk-item\"><div class=\"sk-estimator sk-toggleable\"><input class=\"sk-toggleable__control sk-hidden--visually\" id=\"sk-estimator-id-3\" type=\"checkbox\" checked><label for=\"sk-estimator-id-3\" class=\"sk-toggleable__label sk-toggleable__label-arrow\">TargetEncoder</label><div class=\"sk-toggleable__content\"><pre>TargetEncoder(cols=[&#x27;NAICS&#x27;, &#x27;NAICS_sector&#x27;], min_samples_leaf=50)</pre></div></div></div></div></div>"
      ],
      "text/plain": [
       "TargetEncoder(cols=['NAICS', 'NAICS_sector'], min_samples_leaf=50)"
      ]
     },
     "execution_count": 101,
     "metadata": {},
     "output_type": "execute_result"
    }
   ],
   "source": [
    "naics_encoder.fit(train_df[['NAICS', 'NAICS_sector']], train_df['target'])"
   ]
  },
  {
   "cell_type": "markdown",
   "id": "17d3025c-1584-4d00-b8dc-9d932f195042",
   "metadata": {},
   "source": [
    "##### Transform the datasets"
   ]
  },
  {
   "cell_type": "code",
   "execution_count": 102,
   "id": "6a84a235-94a9-478f-b148-5fa9bb3ca599",
   "metadata": {},
   "outputs": [],
   "source": [
    "def do_transform(data, encoder, prefix='menc_'):\n",
    "    cols = encoder.transform(data[encoder.cols])\n",
    "    cols.columns = [prefix + c for c in cols.columns]\n",
    "    return pd.concat([data.drop(columns=cols, errors='ignore'), cols], axis=1)"
   ]
  },
  {
   "cell_type": "code",
   "execution_count": 103,
   "id": "650d6514-100e-4b5b-93a3-6f0af54ea0b8",
   "metadata": {},
   "outputs": [],
   "source": [
    "sba_loans = do_transform(sba_loans, naics_encoder)"
   ]
  },
  {
   "cell_type": "code",
   "execution_count": 104,
   "id": "3534b423-a3b5-4b05-adc5-ebf476078ba6",
   "metadata": {},
   "outputs": [
    {
     "data": {
      "text/html": [
       "<div>\n",
       "<style scoped>\n",
       "    .dataframe tbody tr th:only-of-type {\n",
       "        vertical-align: middle;\n",
       "    }\n",
       "\n",
       "    .dataframe tbody tr th {\n",
       "        vertical-align: top;\n",
       "    }\n",
       "\n",
       "    .dataframe thead th {\n",
       "        text-align: right;\n",
       "    }\n",
       "</style>\n",
       "<table border=\"1\" class=\"dataframe\">\n",
       "  <thead>\n",
       "    <tr style=\"text-align: right;\">\n",
       "      <th></th>\n",
       "      <th>LoanNr_ChkDgt</th>\n",
       "      <th>Name</th>\n",
       "      <th>City</th>\n",
       "      <th>State</th>\n",
       "      <th>Zip</th>\n",
       "      <th>Bank</th>\n",
       "      <th>BankState</th>\n",
       "      <th>NAICS</th>\n",
       "      <th>ApprovalDate</th>\n",
       "      <th>ApprovalFY</th>\n",
       "      <th>...</th>\n",
       "      <th>NS___Construction</th>\n",
       "      <th>NS___Health Care and Social Assistance</th>\n",
       "      <th>NS___Manufacturing</th>\n",
       "      <th>NS___Other Services (except Public Administration)</th>\n",
       "      <th>NS___Professional, Scientific, and Technical Services</th>\n",
       "      <th>NS___Retail Trade</th>\n",
       "      <th>NS___Wholesale Trade</th>\n",
       "      <th>NS___infrequent_sklearn</th>\n",
       "      <th>menc_NAICS</th>\n",
       "      <th>menc_NAICS_sector</th>\n",
       "    </tr>\n",
       "  </thead>\n",
       "  <tbody>\n",
       "    <tr>\n",
       "      <th>137029</th>\n",
       "      <td>2006755004</td>\n",
       "      <td>Terry Edison</td>\n",
       "      <td>Dover</td>\n",
       "      <td>NH</td>\n",
       "      <td>3820</td>\n",
       "      <td>TD BANK, NATIONAL ASSOCIATION</td>\n",
       "      <td>DE</td>\n",
       "      <td>423990</td>\n",
       "      <td>2006-09-07</td>\n",
       "      <td>2006</td>\n",
       "      <td>...</td>\n",
       "      <td>0.0</td>\n",
       "      <td>0.0</td>\n",
       "      <td>0.0</td>\n",
       "      <td>0.0</td>\n",
       "      <td>0.0</td>\n",
       "      <td>0.0</td>\n",
       "      <td>1.0</td>\n",
       "      <td>0.0</td>\n",
       "      <td>0.335474</td>\n",
       "      <td>0.191798</td>\n",
       "    </tr>\n",
       "    <tr>\n",
       "      <th>623215</th>\n",
       "      <td>6203453002</td>\n",
       "      <td>BANAGAN'S CYCLING CO., INC.</td>\n",
       "      <td>KEENE</td>\n",
       "      <td>NH</td>\n",
       "      <td>3431</td>\n",
       "      <td>OCEAN BANK, A DIVISION OF</td>\n",
       "      <td>NH</td>\n",
       "      <td>451110</td>\n",
       "      <td>1994-02-07</td>\n",
       "      <td>1994</td>\n",
       "      <td>...</td>\n",
       "      <td>0.0</td>\n",
       "      <td>0.0</td>\n",
       "      <td>0.0</td>\n",
       "      <td>0.0</td>\n",
       "      <td>0.0</td>\n",
       "      <td>1.0</td>\n",
       "      <td>0.0</td>\n",
       "      <td>0.0</td>\n",
       "      <td>0.180786</td>\n",
       "      <td>0.225473</td>\n",
       "    </tr>\n",
       "    <tr>\n",
       "      <th>826930</th>\n",
       "      <td>8893253007</td>\n",
       "      <td>A-ONE AUTO BODY &amp; TOWING</td>\n",
       "      <td>PLACENTIA</td>\n",
       "      <td>CA</td>\n",
       "      <td>92670</td>\n",
       "      <td>PACIFIC WESTERN BANK</td>\n",
       "      <td>CA</td>\n",
       "      <td>811121</td>\n",
       "      <td>1995-12-15</td>\n",
       "      <td>1996</td>\n",
       "      <td>...</td>\n",
       "      <td>0.0</td>\n",
       "      <td>0.0</td>\n",
       "      <td>0.0</td>\n",
       "      <td>1.0</td>\n",
       "      <td>0.0</td>\n",
       "      <td>0.0</td>\n",
       "      <td>0.0</td>\n",
       "      <td>0.0</td>\n",
       "      <td>0.203642</td>\n",
       "      <td>0.204463</td>\n",
       "    </tr>\n",
       "  </tbody>\n",
       "</table>\n",
       "<p>3 rows × 49 columns</p>\n",
       "</div>"
      ],
      "text/plain": [
       "       LoanNr_ChkDgt                         Name       City State    Zip  \\\n",
       "137029    2006755004                 Terry Edison      Dover    NH   3820   \n",
       "623215    6203453002  BANAGAN'S CYCLING CO., INC.      KEENE    NH   3431   \n",
       "826930    8893253007     A-ONE AUTO BODY & TOWING  PLACENTIA    CA  92670   \n",
       "\n",
       "                                 Bank BankState   NAICS ApprovalDate  \\\n",
       "137029  TD BANK, NATIONAL ASSOCIATION        DE  423990   2006-09-07   \n",
       "623215      OCEAN BANK, A DIVISION OF        NH  451110   1994-02-07   \n",
       "826930           PACIFIC WESTERN BANK        CA  811121   1995-12-15   \n",
       "\n",
       "        ApprovalFY  ...  NS___Construction  \\\n",
       "137029        2006  ...                0.0   \n",
       "623215        1994  ...                0.0   \n",
       "826930        1996  ...                0.0   \n",
       "\n",
       "        NS___Health Care and Social Assistance NS___Manufacturing  \\\n",
       "137029                                     0.0                0.0   \n",
       "623215                                     0.0                0.0   \n",
       "826930                                     0.0                0.0   \n",
       "\n",
       "        NS___Other Services (except Public Administration)  \\\n",
       "137029                                                0.0    \n",
       "623215                                                0.0    \n",
       "826930                                                1.0    \n",
       "\n",
       "        NS___Professional, Scientific, and Technical Services  \\\n",
       "137029                                                0.0       \n",
       "623215                                                0.0       \n",
       "826930                                                0.0       \n",
       "\n",
       "       NS___Retail Trade NS___Wholesale Trade  NS___infrequent_sklearn  \\\n",
       "137029               0.0                  1.0                      0.0   \n",
       "623215               1.0                  0.0                      0.0   \n",
       "826930               0.0                  0.0                      0.0   \n",
       "\n",
       "        menc_NAICS menc_NAICS_sector  \n",
       "137029    0.335474          0.191798  \n",
       "623215    0.180786          0.225473  \n",
       "826930    0.203642          0.204463  \n",
       "\n",
       "[3 rows x 49 columns]"
      ]
     },
     "execution_count": 104,
     "metadata": {},
     "output_type": "execute_result"
    }
   ],
   "source": [
    "sba_loans.sample(3)"
   ]
  },
  {
   "cell_type": "markdown",
   "id": "7d90e79a-4cb5-43d7-9e11-9493f285b6dc",
   "metadata": {},
   "source": [
    "### One Hot Encoding\n",
    "NAICS sector only"
   ]
  },
  {
   "cell_type": "code",
   "execution_count": 105,
   "id": "85113b82-9ed8-41a2-8ffd-6208f909b88b",
   "metadata": {},
   "outputs": [],
   "source": [
    "naics_onehot_encoder = OneHotEncoder(sparse_output=False, handle_unknown='infrequent_if_exist',\n",
    "                                  min_frequency = 0.05)  "
   ]
  },
  {
   "cell_type": "code",
   "execution_count": 106,
   "id": "56a447b1-7310-4b9e-93b1-5df6fe8b9522",
   "metadata": {},
   "outputs": [
    {
     "data": {
      "text/html": [
       "<style>#sk-container-id-4 {color: black;}#sk-container-id-4 pre{padding: 0;}#sk-container-id-4 div.sk-toggleable {background-color: white;}#sk-container-id-4 label.sk-toggleable__label {cursor: pointer;display: block;width: 100%;margin-bottom: 0;padding: 0.3em;box-sizing: border-box;text-align: center;}#sk-container-id-4 label.sk-toggleable__label-arrow:before {content: \"▸\";float: left;margin-right: 0.25em;color: #696969;}#sk-container-id-4 label.sk-toggleable__label-arrow:hover:before {color: black;}#sk-container-id-4 div.sk-estimator:hover label.sk-toggleable__label-arrow:before {color: black;}#sk-container-id-4 div.sk-toggleable__content {max-height: 0;max-width: 0;overflow: hidden;text-align: left;background-color: #f0f8ff;}#sk-container-id-4 div.sk-toggleable__content pre {margin: 0.2em;color: black;border-radius: 0.25em;background-color: #f0f8ff;}#sk-container-id-4 input.sk-toggleable__control:checked~div.sk-toggleable__content {max-height: 200px;max-width: 100%;overflow: auto;}#sk-container-id-4 input.sk-toggleable__control:checked~label.sk-toggleable__label-arrow:before {content: \"▾\";}#sk-container-id-4 div.sk-estimator input.sk-toggleable__control:checked~label.sk-toggleable__label {background-color: #d4ebff;}#sk-container-id-4 div.sk-label input.sk-toggleable__control:checked~label.sk-toggleable__label {background-color: #d4ebff;}#sk-container-id-4 input.sk-hidden--visually {border: 0;clip: rect(1px 1px 1px 1px);clip: rect(1px, 1px, 1px, 1px);height: 1px;margin: -1px;overflow: hidden;padding: 0;position: absolute;width: 1px;}#sk-container-id-4 div.sk-estimator {font-family: monospace;background-color: #f0f8ff;border: 1px dotted black;border-radius: 0.25em;box-sizing: border-box;margin-bottom: 0.5em;}#sk-container-id-4 div.sk-estimator:hover {background-color: #d4ebff;}#sk-container-id-4 div.sk-parallel-item::after {content: \"\";width: 100%;border-bottom: 1px solid gray;flex-grow: 1;}#sk-container-id-4 div.sk-label:hover label.sk-toggleable__label {background-color: #d4ebff;}#sk-container-id-4 div.sk-serial::before {content: \"\";position: absolute;border-left: 1px solid gray;box-sizing: border-box;top: 0;bottom: 0;left: 50%;z-index: 0;}#sk-container-id-4 div.sk-serial {display: flex;flex-direction: column;align-items: center;background-color: white;padding-right: 0.2em;padding-left: 0.2em;position: relative;}#sk-container-id-4 div.sk-item {position: relative;z-index: 1;}#sk-container-id-4 div.sk-parallel {display: flex;align-items: stretch;justify-content: center;background-color: white;position: relative;}#sk-container-id-4 div.sk-item::before, #sk-container-id-4 div.sk-parallel-item::before {content: \"\";position: absolute;border-left: 1px solid gray;box-sizing: border-box;top: 0;bottom: 0;left: 50%;z-index: -1;}#sk-container-id-4 div.sk-parallel-item {display: flex;flex-direction: column;z-index: 1;position: relative;background-color: white;}#sk-container-id-4 div.sk-parallel-item:first-child::after {align-self: flex-end;width: 50%;}#sk-container-id-4 div.sk-parallel-item:last-child::after {align-self: flex-start;width: 50%;}#sk-container-id-4 div.sk-parallel-item:only-child::after {width: 0;}#sk-container-id-4 div.sk-dashed-wrapped {border: 1px dashed gray;margin: 0 0.4em 0.5em 0.4em;box-sizing: border-box;padding-bottom: 0.4em;background-color: white;}#sk-container-id-4 div.sk-label label {font-family: monospace;font-weight: bold;display: inline-block;line-height: 1.2em;}#sk-container-id-4 div.sk-label-container {text-align: center;}#sk-container-id-4 div.sk-container {/* jupyter's `normalize.less` sets `[hidden] { display: none; }` but bootstrap.min.css set `[hidden] { display: none !important; }` so we also need the `!important` here to be able to override the default hidden behavior on the sphinx rendered scikit-learn.org. See: https://github.com/scikit-learn/scikit-learn/issues/21755 */display: inline-block !important;position: relative;}#sk-container-id-4 div.sk-text-repr-fallback {display: none;}</style><div id=\"sk-container-id-4\" class=\"sk-top-container\"><div class=\"sk-text-repr-fallback\"><pre>OneHotEncoder(handle_unknown=&#x27;infrequent_if_exist&#x27;, min_frequency=0.05,\n",
       "              sparse_output=False)</pre><b>In a Jupyter environment, please rerun this cell to show the HTML representation or trust the notebook. <br />On GitHub, the HTML representation is unable to render, please try loading this page with nbviewer.org.</b></div><div class=\"sk-container\" hidden><div class=\"sk-item\"><div class=\"sk-estimator sk-toggleable\"><input class=\"sk-toggleable__control sk-hidden--visually\" id=\"sk-estimator-id-4\" type=\"checkbox\" checked><label for=\"sk-estimator-id-4\" class=\"sk-toggleable__label sk-toggleable__label-arrow\">OneHotEncoder</label><div class=\"sk-toggleable__content\"><pre>OneHotEncoder(handle_unknown=&#x27;infrequent_if_exist&#x27;, min_frequency=0.05,\n",
       "              sparse_output=False)</pre></div></div></div></div></div>"
      ],
      "text/plain": [
       "OneHotEncoder(handle_unknown='infrequent_if_exist', min_frequency=0.05,\n",
       "              sparse_output=False)"
      ]
     },
     "execution_count": 106,
     "metadata": {},
     "output_type": "execute_result"
    }
   ],
   "source": [
    "naics_onehot_encoder.fit(train_df[['NAICS_sector_desc']])"
   ]
  },
  {
   "cell_type": "code",
   "execution_count": 107,
   "id": "4a42165f-e096-4503-a8c2-951444ec2cfd",
   "metadata": {},
   "outputs": [
    {
     "data": {
      "text/plain": [
       "array(['NAICS_sector_desc'], dtype=object)"
      ]
     },
     "execution_count": 107,
     "metadata": {},
     "output_type": "execute_result"
    }
   ],
   "source": [
    "naics_onehot_encoder.feature_names_in_"
   ]
  },
  {
   "cell_type": "code",
   "execution_count": 108,
   "id": "a0f917f4-826f-42e5-bba2-e1ca1e65ca25",
   "metadata": {},
   "outputs": [],
   "source": [
    "def do_transform_onehot(data, enc = naics_onehot_encoder,\n",
    "                       prefix = 'NS__'):\n",
    "    this_feat = enc.feature_names_in_[0]\n",
    "    onehot_df = naics_sec_onehot = pd.DataFrame(enc.transform(data[[this_feat]]))\n",
    "    onehot_df.set_index(data.index, inplace=True)\n",
    "    onehot_df.columns = [x.replace(this_feat,prefix) for x in enc.get_feature_names_out()]\n",
    "    \n",
    "    return pd.concat([data.drop(columns=onehot_df.columns, errors='ignore'),\n",
    "                      onehot_df], axis=1)\n",
    "    "
   ]
  },
  {
   "cell_type": "code",
   "execution_count": 109,
   "id": "b797d58c-1bbe-48f2-bb60-ec9bcb37e51d",
   "metadata": {},
   "outputs": [],
   "source": [
    "sba_loans = do_transform_onehot(sba_loans)"
   ]
  },
  {
   "cell_type": "code",
   "execution_count": 110,
   "id": "0b4c5b08-10b1-4994-a5f9-885d978913d1",
   "metadata": {},
   "outputs": [
    {
     "data": {
      "text/html": [
       "<div>\n",
       "<style scoped>\n",
       "    .dataframe tbody tr th:only-of-type {\n",
       "        vertical-align: middle;\n",
       "    }\n",
       "\n",
       "    .dataframe tbody tr th {\n",
       "        vertical-align: top;\n",
       "    }\n",
       "\n",
       "    .dataframe thead th {\n",
       "        text-align: right;\n",
       "    }\n",
       "</style>\n",
       "<table border=\"1\" class=\"dataframe\">\n",
       "  <thead>\n",
       "    <tr style=\"text-align: right;\">\n",
       "      <th></th>\n",
       "      <th>NAICS</th>\n",
       "      <th>NAICS_sector_desc</th>\n",
       "      <th>NS___Accommodation and Food Services</th>\n",
       "      <th>NS___Construction</th>\n",
       "      <th>NS___Health Care and Social Assistance</th>\n",
       "      <th>NS___Manufacturing</th>\n",
       "      <th>NS___Other Services (except Public Administration)</th>\n",
       "      <th>NS___Professional, Scientific, and Technical Services</th>\n",
       "      <th>NS___Retail Trade</th>\n",
       "      <th>NS___Wholesale Trade</th>\n",
       "      <th>NS___infrequent_sklearn</th>\n",
       "    </tr>\n",
       "  </thead>\n",
       "  <tbody>\n",
       "    <tr>\n",
       "      <th>1</th>\n",
       "      <td>722410</td>\n",
       "      <td>Accommodation and Food Services</td>\n",
       "      <td>1.0</td>\n",
       "      <td>0.0</td>\n",
       "      <td>0.0</td>\n",
       "      <td>0.0</td>\n",
       "      <td>0.0</td>\n",
       "      <td>0.0</td>\n",
       "      <td>0.0</td>\n",
       "      <td>0.0</td>\n",
       "      <td>0.0</td>\n",
       "    </tr>\n",
       "    <tr>\n",
       "      <th>2</th>\n",
       "      <td>621210</td>\n",
       "      <td>Health Care and Social Assistance</td>\n",
       "      <td>0.0</td>\n",
       "      <td>0.0</td>\n",
       "      <td>1.0</td>\n",
       "      <td>0.0</td>\n",
       "      <td>0.0</td>\n",
       "      <td>0.0</td>\n",
       "      <td>0.0</td>\n",
       "      <td>0.0</td>\n",
       "      <td>0.0</td>\n",
       "    </tr>\n",
       "    <tr>\n",
       "      <th>10</th>\n",
       "      <td>811111</td>\n",
       "      <td>Other Services (except Public Administration)</td>\n",
       "      <td>0.0</td>\n",
       "      <td>0.0</td>\n",
       "      <td>0.0</td>\n",
       "      <td>0.0</td>\n",
       "      <td>1.0</td>\n",
       "      <td>0.0</td>\n",
       "      <td>0.0</td>\n",
       "      <td>0.0</td>\n",
       "      <td>0.0</td>\n",
       "    </tr>\n",
       "    <tr>\n",
       "      <th>11</th>\n",
       "      <td>235950</td>\n",
       "      <td>Construction</td>\n",
       "      <td>0.0</td>\n",
       "      <td>1.0</td>\n",
       "      <td>0.0</td>\n",
       "      <td>0.0</td>\n",
       "      <td>0.0</td>\n",
       "      <td>0.0</td>\n",
       "      <td>0.0</td>\n",
       "      <td>0.0</td>\n",
       "      <td>0.0</td>\n",
       "    </tr>\n",
       "    <tr>\n",
       "      <th>15</th>\n",
       "      <td>421330</td>\n",
       "      <td>Wholesale Trade</td>\n",
       "      <td>0.0</td>\n",
       "      <td>0.0</td>\n",
       "      <td>0.0</td>\n",
       "      <td>0.0</td>\n",
       "      <td>0.0</td>\n",
       "      <td>0.0</td>\n",
       "      <td>0.0</td>\n",
       "      <td>1.0</td>\n",
       "      <td>0.0</td>\n",
       "    </tr>\n",
       "  </tbody>\n",
       "</table>\n",
       "</div>"
      ],
      "text/plain": [
       "     NAICS                              NAICS_sector_desc  \\\n",
       "1   722410                Accommodation and Food Services   \n",
       "2   621210              Health Care and Social Assistance   \n",
       "10  811111  Other Services (except Public Administration)   \n",
       "11  235950                                   Construction   \n",
       "15  421330                                Wholesale Trade   \n",
       "\n",
       "    NS___Accommodation and Food Services  NS___Construction  \\\n",
       "1                                    1.0                0.0   \n",
       "2                                    0.0                0.0   \n",
       "10                                   0.0                0.0   \n",
       "11                                   0.0                1.0   \n",
       "15                                   0.0                0.0   \n",
       "\n",
       "    NS___Health Care and Social Assistance  NS___Manufacturing  \\\n",
       "1                                      0.0                 0.0   \n",
       "2                                      1.0                 0.0   \n",
       "10                                     0.0                 0.0   \n",
       "11                                     0.0                 0.0   \n",
       "15                                     0.0                 0.0   \n",
       "\n",
       "    NS___Other Services (except Public Administration)  \\\n",
       "1                                                 0.0    \n",
       "2                                                 0.0    \n",
       "10                                                1.0    \n",
       "11                                                0.0    \n",
       "15                                                0.0    \n",
       "\n",
       "    NS___Professional, Scientific, and Technical Services  NS___Retail Trade  \\\n",
       "1                                                 0.0                    0.0   \n",
       "2                                                 0.0                    0.0   \n",
       "10                                                0.0                    0.0   \n",
       "11                                                0.0                    0.0   \n",
       "15                                                0.0                    0.0   \n",
       "\n",
       "    NS___Wholesale Trade  NS___infrequent_sklearn  \n",
       "1                    0.0                      0.0  \n",
       "2                    0.0                      0.0  \n",
       "10                   0.0                      0.0  \n",
       "11                   0.0                      0.0  \n",
       "15                   1.0                      0.0  "
      ]
     },
     "execution_count": 110,
     "metadata": {},
     "output_type": "execute_result"
    }
   ],
   "source": [
    "train_df.head(5) \\\n",
    "    [['NAICS', 'NAICS_sector_desc'] + [c for c in train_df.columns if c.startswith('NS__')]]"
   ]
  },
  {
   "cell_type": "code",
   "execution_count": 111,
   "id": "5d9f707e-868f-4764-9c04-427ca8f9e2f3",
   "metadata": {},
   "outputs": [
    {
     "data": {
      "text/html": [
       "<div>\n",
       "<style scoped>\n",
       "    .dataframe tbody tr th:only-of-type {\n",
       "        vertical-align: middle;\n",
       "    }\n",
       "\n",
       "    .dataframe tbody tr th {\n",
       "        vertical-align: top;\n",
       "    }\n",
       "\n",
       "    .dataframe thead th {\n",
       "        text-align: right;\n",
       "    }\n",
       "</style>\n",
       "<table border=\"1\" class=\"dataframe\">\n",
       "  <thead>\n",
       "    <tr style=\"text-align: right;\">\n",
       "      <th></th>\n",
       "      <th>NAICS</th>\n",
       "      <th>NAICS_sector_desc</th>\n",
       "      <th>NS___Accommodation and Food Services</th>\n",
       "      <th>NS___Construction</th>\n",
       "      <th>NS___Health Care and Social Assistance</th>\n",
       "      <th>NS___Manufacturing</th>\n",
       "      <th>NS___Other Services (except Public Administration)</th>\n",
       "      <th>NS___Professional, Scientific, and Technical Services</th>\n",
       "      <th>NS___Retail Trade</th>\n",
       "      <th>NS___Wholesale Trade</th>\n",
       "      <th>NS___infrequent_sklearn</th>\n",
       "    </tr>\n",
       "  </thead>\n",
       "  <tbody>\n",
       "    <tr>\n",
       "      <th>5</th>\n",
       "      <td>332721</td>\n",
       "      <td>Manufacturing</td>\n",
       "      <td>0.0</td>\n",
       "      <td>0.0</td>\n",
       "      <td>0.0</td>\n",
       "      <td>1.0</td>\n",
       "      <td>0.0</td>\n",
       "      <td>0.0</td>\n",
       "      <td>0.0</td>\n",
       "      <td>0.0</td>\n",
       "      <td>0.0</td>\n",
       "    </tr>\n",
       "    <tr>\n",
       "      <th>8</th>\n",
       "      <td>721310</td>\n",
       "      <td>Accommodation and Food Services</td>\n",
       "      <td>1.0</td>\n",
       "      <td>0.0</td>\n",
       "      <td>0.0</td>\n",
       "      <td>0.0</td>\n",
       "      <td>0.0</td>\n",
       "      <td>0.0</td>\n",
       "      <td>0.0</td>\n",
       "      <td>0.0</td>\n",
       "      <td>0.0</td>\n",
       "    </tr>\n",
       "    <tr>\n",
       "      <th>24</th>\n",
       "      <td>722211</td>\n",
       "      <td>Accommodation and Food Services</td>\n",
       "      <td>1.0</td>\n",
       "      <td>0.0</td>\n",
       "      <td>0.0</td>\n",
       "      <td>0.0</td>\n",
       "      <td>0.0</td>\n",
       "      <td>0.0</td>\n",
       "      <td>0.0</td>\n",
       "      <td>0.0</td>\n",
       "      <td>0.0</td>\n",
       "    </tr>\n",
       "    <tr>\n",
       "      <th>33</th>\n",
       "      <td>454210</td>\n",
       "      <td>Retail Trade</td>\n",
       "      <td>0.0</td>\n",
       "      <td>0.0</td>\n",
       "      <td>0.0</td>\n",
       "      <td>0.0</td>\n",
       "      <td>0.0</td>\n",
       "      <td>0.0</td>\n",
       "      <td>1.0</td>\n",
       "      <td>0.0</td>\n",
       "      <td>0.0</td>\n",
       "    </tr>\n",
       "    <tr>\n",
       "      <th>52</th>\n",
       "      <td>722410</td>\n",
       "      <td>Accommodation and Food Services</td>\n",
       "      <td>1.0</td>\n",
       "      <td>0.0</td>\n",
       "      <td>0.0</td>\n",
       "      <td>0.0</td>\n",
       "      <td>0.0</td>\n",
       "      <td>0.0</td>\n",
       "      <td>0.0</td>\n",
       "      <td>0.0</td>\n",
       "      <td>0.0</td>\n",
       "    </tr>\n",
       "  </tbody>\n",
       "</table>\n",
       "</div>"
      ],
      "text/plain": [
       "     NAICS                NAICS_sector_desc  \\\n",
       "5   332721                    Manufacturing   \n",
       "8   721310  Accommodation and Food Services   \n",
       "24  722211  Accommodation and Food Services   \n",
       "33  454210                     Retail Trade   \n",
       "52  722410  Accommodation and Food Services   \n",
       "\n",
       "    NS___Accommodation and Food Services  NS___Construction  \\\n",
       "5                                    0.0                0.0   \n",
       "8                                    1.0                0.0   \n",
       "24                                   1.0                0.0   \n",
       "33                                   0.0                0.0   \n",
       "52                                   1.0                0.0   \n",
       "\n",
       "    NS___Health Care and Social Assistance  NS___Manufacturing  \\\n",
       "5                                      0.0                 1.0   \n",
       "8                                      0.0                 0.0   \n",
       "24                                     0.0                 0.0   \n",
       "33                                     0.0                 0.0   \n",
       "52                                     0.0                 0.0   \n",
       "\n",
       "    NS___Other Services (except Public Administration)  \\\n",
       "5                                                 0.0    \n",
       "8                                                 0.0    \n",
       "24                                                0.0    \n",
       "33                                                0.0    \n",
       "52                                                0.0    \n",
       "\n",
       "    NS___Professional, Scientific, and Technical Services  NS___Retail Trade  \\\n",
       "5                                                 0.0                    0.0   \n",
       "8                                                 0.0                    0.0   \n",
       "24                                                0.0                    0.0   \n",
       "33                                                0.0                    1.0   \n",
       "52                                                0.0                    0.0   \n",
       "\n",
       "    NS___Wholesale Trade  NS___infrequent_sklearn  \n",
       "5                    0.0                      0.0  \n",
       "8                    0.0                      0.0  \n",
       "24                   0.0                      0.0  \n",
       "33                   0.0                      0.0  \n",
       "52                   0.0                      0.0  "
      ]
     },
     "execution_count": 111,
     "metadata": {},
     "output_type": "execute_result"
    }
   ],
   "source": [
    "sba_loans[sba_loans['dset'] == 'val'].head(5) \\\n",
    "    [['NAICS', 'NAICS_sector_desc'] + [c for c in train_df.columns if c.startswith('NS__')]]"
   ]
  },
  {
   "cell_type": "markdown",
   "id": "ad14245a-ab3d-46fd-ae6c-3a404a3da2fa",
   "metadata": {},
   "source": [
    "## Save Transformed Data"
   ]
  },
  {
   "cell_type": "code",
   "execution_count": 112,
   "id": "55a50dfe-0f60-46ad-8b76-fac3801207ee",
   "metadata": {},
   "outputs": [],
   "source": [
    "sba_loans.to_parquet(Path(setup.temp_path).joinpath('01_DATA_transformed.parquet'))"
   ]
  },
  {
   "cell_type": "code",
   "execution_count": 119,
   "id": "2e77c1e0-7501-4817-859b-04550f074466",
   "metadata": {},
   "outputs": [
    {
     "name": "stdout",
     "output_type": "stream",
     "text": [
      "dataset shape: (688081, 49), unique indices: (688081, 49)\n"
     ]
    }
   ],
   "source": [
    "print(f\"dataset shape: {sba_loans.shape}, unique indices: {sba_loans.drop_duplicates('LoanNr_ChkDgt').shape}\")"
   ]
  },
  {
   "cell_type": "code",
   "execution_count": null,
   "id": "5a0b8e1f-080a-4348-b2f0-9de010db6522",
   "metadata": {},
   "outputs": [],
   "source": []
  }
 ],
 "metadata": {
  "kernelspec": {
   "display_name": "tf_p39",
   "language": "python",
   "name": "tf_p39"
  },
  "language_info": {
   "codemirror_mode": {
    "name": "ipython",
    "version": 3
   },
   "file_extension": ".py",
   "mimetype": "text/x-python",
   "name": "python",
   "nbconvert_exporter": "python",
   "pygments_lexer": "ipython3",
   "version": "3.8.18"
  }
 },
 "nbformat": 4,
 "nbformat_minor": 5
}
