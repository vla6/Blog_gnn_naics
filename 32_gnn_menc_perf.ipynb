{
 "cells": [
  {
   "cell_type": "code",
   "execution_count": 1,
   "id": "71f23355-0adf-4816-816a-d1484a9f5ef3",
   "metadata": {},
   "outputs": [],
   "source": [
    "# Modify the file 00_setup.py to define input/output file paths on your system\n",
    "# The information in 00_setup.py will be used across notebooks\n",
    "from importlib.machinery import SourceFileLoader\n",
    "setup = SourceFileLoader(\"setup\", \"./00_setup.py\").load_module()"
   ]
  },
  {
   "cell_type": "markdown",
   "id": "ea02c559-4f56-4b1e-8082-1fc224ee5547",
   "metadata": {},
   "source": [
    "# 32. Mean Encoding GNN Metrics "
   ]
  },
  {
   "cell_type": "markdown",
   "id": "8afaa76d-e25e-4844-9d51-f8c9c165e9b9",
   "metadata": {},
   "source": [
    "For the model created in the last script, get predictions and metrics / performance information.  Focus on the unseen \"test\" data.  Use sklearn metrics to ensure comparability with XGBoost metrics"
   ]
  },
  {
   "cell_type": "markdown",
   "id": "76c78249-a4dc-4a76-ad81-b03f883f92a6",
   "metadata": {},
   "source": [
    "Implementation notes:\n",
    "  * To visualize the keras model, I had to \"conda install\" pydot and graphviz in my virtual environment. \n",
    "  * Model is saved/loaded in tensorflow format.  This is to workaround an issue with Keras format, https://github.com/tensorflow/tensorflow/issues/46659"
   ]
  },
  {
   "cell_type": "markdown",
   "id": "ac90ebeb-0716-4b01-b280-e0e32174d63f",
   "metadata": {},
   "source": [
    "*This script takes about 2 hours on my MacBook Air*"
   ]
  },
  {
   "cell_type": "code",
   "execution_count": 2,
   "id": "da2389b6-b2db-4a6f-a99a-c5bec6b75739",
   "metadata": {},
   "outputs": [],
   "source": [
    "import pandas as pd\n",
    "import numpy as np"
   ]
  },
  {
   "cell_type": "code",
   "execution_count": 3,
   "id": "6c3cb412-131c-42a8-8432-b67eb47c26a5",
   "metadata": {},
   "outputs": [],
   "source": [
    "from pathlib import Path\n",
    "import importlib, pickle\n",
    "from contextlib import redirect_stdout\n",
    "from scikitplot.metrics import plot_lift_curve\n",
    "import matplotlib.pyplot as plt"
   ]
  },
  {
   "cell_type": "code",
   "execution_count": 4,
   "id": "06e862f5-fdc4-4b2d-a13d-1a64f0367d44",
   "metadata": {},
   "outputs": [
    {
     "name": "stderr",
     "output_type": "stream",
     "text": [
      "2023-12-27 07:36:14.113162: I metal_plugin/src/device/metal_device.cc:1154] Metal device set to: Apple M1\n",
      "2023-12-27 07:36:14.113187: I metal_plugin/src/device/metal_device.cc:296] systemMemory: 16.00 GB\n",
      "2023-12-27 07:36:14.113195: I metal_plugin/src/device/metal_device.cc:313] maxCacheSize: 5.33 GB\n",
      "2023-12-27 07:36:14.113229: I tensorflow/core/common_runtime/pluggable_device/pluggable_device_factory.cc:303] Could not identify NUMA node of platform GPU ID 0, defaulting to 0. Your kernel may not have been built with NUMA support.\n",
      "2023-12-27 07:36:14.113246: I tensorflow/core/common_runtime/pluggable_device/pluggable_device_factory.cc:269] Created TensorFlow device (/job:localhost/replica:0/task:0/device:GPU:0 with 0 MB memory) -> physical PluggableDevice (device: 0, name: METAL, pci bus id: <undefined>)\n"
     ]
    }
   ],
   "source": [
    "from stellargraph import StellarGraph\n",
    "import stellargraph as sg\n",
    "import keras\n",
    "from stellargraph.layer import HinSAGE, MeanHinAggregator\n",
    "from stellargraph.mapper import HinSAGENodeGenerator\n",
    "\n",
    "from tensorflow.keras import layers, optimizers, losses, metrics, Model\n",
    "from sklearn import preprocessing, feature_extraction, model_selection\n",
    "\n",
    "import tensorflow.keras.metrics as km\n",
    "from keras.utils import plot_model\n",
    "from keras import initializers\n",
    "import tensorflow as tf"
   ]
  },
  {
   "cell_type": "code",
   "execution_count": 5,
   "id": "1816ed7c-b92b-4fb3-871a-098b97f69e85",
   "metadata": {},
   "outputs": [],
   "source": [
    "from sba_gnn.sba_gnn import sg_gnn, sg_plot "
   ]
  },
  {
   "cell_type": "markdown",
   "id": "8c682464-9aad-4f25-87c6-8845349a5eb4",
   "metadata": {},
   "source": [
    "## Import Data"
   ]
  },
  {
   "cell_type": "markdown",
   "id": "f90bea53-352d-4491-accc-26b7b170565a",
   "metadata": {},
   "source": [
    "##### Stellargraphs - all data, test only data"
   ]
  },
  {
   "cell_type": "code",
   "execution_count": 20,
   "id": "d36ccbc1-3fe9-40e6-8872-55c9c53913c0",
   "metadata": {},
   "outputs": [],
   "source": [
    "# All clients - focus on test metrics but other nodes needed for flow\n",
    "with open(Path(setup.temp_path).joinpath('30_DATA_stellargraph_all.pkl'), 'rb') as fin:\n",
    "      sba_all  = pickle.load(fin)"
   ]
  },
  {
   "cell_type": "code",
   "execution_count": 21,
   "id": "e16d1926-f665-4964-aecf-cb2a43eb4e5c",
   "metadata": {},
   "outputs": [],
   "source": [
    "labels_all = pd.read_parquet(Path(setup.temp_path).joinpath('10_DATA_label_info.parquet'))"
   ]
  },
  {
   "cell_type": "code",
   "execution_count": 22,
   "id": "a17754be-b947-4d60-b4c5-2bd73d350af4",
   "metadata": {},
   "outputs": [],
   "source": [
    "# Test only cases - expect much worse performance on this set\n",
    "with open(Path(setup.temp_path).joinpath('30_DATA_stellargraph_test.pkl'), 'rb') as fin:\n",
    "      sba_test  = pickle.load(fin)"
   ]
  },
  {
   "cell_type": "code",
   "execution_count": 23,
   "id": "ad8c9355-f8b8-40d6-a6c6-5fbb70c72fbd",
   "metadata": {},
   "outputs": [],
   "source": [
    "labels_test = pd.read_parquet(Path(setup.temp_path).joinpath('11_DATA_labels_test.parquet'))"
   ]
  },
  {
   "cell_type": "markdown",
   "id": "2f4f3398-0503-4b8a-a1c6-5d624d0c8341",
   "metadata": {},
   "source": [
    "##### Model"
   ]
  },
  {
   "cell_type": "code",
   "execution_count": 24,
   "id": "4001c904-5014-4826-adcf-33508323e6b6",
   "metadata": {},
   "outputs": [
    {
     "name": "stderr",
     "output_type": "stream",
     "text": [
      "/Users/valeriecarey/miniconda3/envs/tf_p38/lib/python3.8/site-packages/keras/src/initializers/initializers.py:120: UserWarning: The initializer GlorotUniform is unseeded and being called multiple times, which will return identical values each time (even if the initializer is unseeded). Please update your code to provide a seed to the initializer, or avoid using the same initializer instance more than once.\n",
      "  warnings.warn(\n"
     ]
    }
   ],
   "source": [
    "model = keras.models.load_model(Path(setup.temp_path).joinpath('31_DATA_model.keras'),\n",
    "                               safe_mode=False,\n",
    "                               custom_objects={'MeanHinAggregator':MeanHinAggregator})"
   ]
  },
  {
   "cell_type": "markdown",
   "id": "f825908f-1703-429c-89f4-929d25a79996",
   "metadata": {},
   "source": [
    "## Model Info\n",
    "Print and save some information about the model layers (summary and plot)"
   ]
  },
  {
   "cell_type": "code",
   "execution_count": 25,
   "id": "5a2cc460-4f1e-49eb-9199-3fe732a0de6d",
   "metadata": {},
   "outputs": [
    {
     "name": "stdout",
     "output_type": "stream",
     "text": [
      "Model: \"model\"\n",
      "__________________________________________________________________________________________________\n",
      " Layer (type)                Output Shape                 Param #   Connected to                  \n",
      "==================================================================================================\n",
      " input_4 (InputLayer)        [(None, 200, 10)]            0         []                            \n",
      "                                                                                                  \n",
      " input_5 (InputLayer)        [(None, 200, 10)]            0         []                            \n",
      "                                                                                                  \n",
      " input_6 (InputLayer)        [(None, 200, 10)]            0         []                            \n",
      "                                                                                                  \n",
      " input_7 (InputLayer)        [(None, 200, 10)]            0         []                            \n",
      "                                                                                                  \n",
      " input_2 (InputLayer)        [(None, 10, 11)]             0         []                            \n",
      "                                                                                                  \n",
      " input_3 (InputLayer)        [(None, 10, 11)]             0         []                            \n",
      "                                                                                                  \n",
      " reshape_2 (Reshape)         (None, 10, 20, 10)           0         ['input_4[0][0]']             \n",
      "                                                                                                  \n",
      " reshape_3 (Reshape)         (None, 10, 20, 10)           0         ['input_5[0][0]']             \n",
      "                                                                                                  \n",
      " reshape_4 (Reshape)         (None, 10, 20, 10)           0         ['input_6[0][0]']             \n",
      "                                                                                                  \n",
      " reshape_5 (Reshape)         (None, 10, 20, 10)           0         ['input_7[0][0]']             \n",
      "                                                                                                  \n",
      " input_1 (InputLayer)        [(None, 1, 10)]              0         []                            \n",
      "                                                                                                  \n",
      " reshape (Reshape)           (None, 1, 10, 11)            0         ['input_2[0][0]']             \n",
      "                                                                                                  \n",
      " reshape_1 (Reshape)         (None, 1, 10, 11)            0         ['input_3[0][0]']             \n",
      "                                                                                                  \n",
      " dropout_5 (Dropout)         (None, 10, 11)               0         ['input_2[0][0]']             \n",
      "                                                                                                  \n",
      " dropout_3 (Dropout)         (None, 10, 20, 10)           0         ['reshape_2[0][0]']           \n",
      "                                                                                                  \n",
      " dropout_4 (Dropout)         (None, 10, 20, 10)           0         ['reshape_3[0][0]']           \n",
      "                                                                                                  \n",
      " dropout_8 (Dropout)         (None, 10, 11)               0         ['input_3[0][0]']             \n",
      "                                                                                                  \n",
      " dropout_6 (Dropout)         (None, 10, 20, 10)           0         ['reshape_4[0][0]']           \n",
      "                                                                                                  \n",
      " dropout_7 (Dropout)         (None, 10, 20, 10)           0         ['reshape_5[0][0]']           \n",
      "                                                                                                  \n",
      " dropout_2 (Dropout)         (None, 1, 10)                0         ['input_1[0][0]']             \n",
      "                                                                                                  \n",
      " dropout (Dropout)           (None, 1, 10, 11)            0         ['reshape[0][0]']             \n",
      "                                                                                                  \n",
      " dropout_1 (Dropout)         (None, 1, 10, 11)            0         ['reshape_1[0][0]']           \n",
      "                                                                                                  \n",
      " mean_hin_aggregator_1 (Mea  (None, 10, 8)                132       ['dropout_5[0][0]',           \n",
      " nHinAggregator)                                                     'dropout_3[0][0]',           \n",
      "                                                                     'dropout_4[0][0]',           \n",
      "                                                                     'dropout_8[0][0]',           \n",
      "                                                                     'dropout_6[0][0]',           \n",
      "                                                                     'dropout_7[0][0]']           \n",
      "                                                                                                  \n",
      " mean_hin_aggregator (MeanH  (None, 1, 8)                 136       ['dropout_2[0][0]',           \n",
      " inAggregator)                                                       'dropout[0][0]',             \n",
      "                                                                     'dropout_1[0][0]']           \n",
      "                                                                                                  \n",
      " reshape_6 (Reshape)         (None, 1, 10, 8)             0         ['mean_hin_aggregator_1[0][0]'\n",
      "                                                                    ]                             \n",
      "                                                                                                  \n",
      " reshape_7 (Reshape)         (None, 1, 10, 8)             0         ['mean_hin_aggregator_1[1][0]'\n",
      "                                                                    ]                             \n",
      "                                                                                                  \n",
      " dropout_11 (Dropout)        (None, 1, 8)                 0         ['mean_hin_aggregator[0][0]'] \n",
      "                                                                                                  \n",
      " dropout_9 (Dropout)         (None, 1, 10, 8)             0         ['reshape_6[0][0]']           \n",
      "                                                                                                  \n",
      " dropout_10 (Dropout)        (None, 1, 10, 8)             0         ['reshape_7[0][0]']           \n",
      "                                                                                                  \n",
      " mean_hin_aggregator_2 (Mea  (None, 1, 8)                 104       ['dropout_11[0][0]',          \n",
      " nHinAggregator)                                                     'dropout_9[0][0]',           \n",
      "                                                                     'dropout_10[0][0]']          \n",
      "                                                                                                  \n",
      " reshape_8 (Reshape)         (None, 8)                    0         ['mean_hin_aggregator_2[0][0]'\n",
      "                                                                    ]                             \n",
      "                                                                                                  \n",
      " lambda (Lambda)             (None, 8)                    0         ['reshape_8[0][0]']           \n",
      "                                                                                                  \n",
      " dense (Dense)               (None, 1)                    9         ['lambda[0][0]']              \n",
      "                                                                                                  \n",
      "==================================================================================================\n",
      "Total params: 381 (1.49 KB)\n",
      "Trainable params: 381 (1.49 KB)\n",
      "Non-trainable params: 0 (0.00 Byte)\n",
      "__________________________________________________________________________________________________\n"
     ]
    }
   ],
   "source": [
    "with open(Path(setup.temp_path).joinpath('32_REPORT_model_summary.txt'), \"w\") as f:\n",
    "    with redirect_stdout(f):\n",
    "        print(model.summary())\n",
    "model.summary()"
   ]
  },
  {
   "cell_type": "code",
   "execution_count": 26,
   "id": "eef1fbaa-3f43-47cd-9051-7a8cce610be0",
   "metadata": {},
   "outputs": [
    {
     "data": {
      "image/png": "[encoded data removed]",
      "text/plain": [
       "<IPython.core.display.Image object>"
      ]
     },
     "execution_count": 26,
     "metadata": {},
     "output_type": "execute_result"
    }
   ],
   "source": [
    "plot_model(model, Path(setup.temp_path).joinpath('32_model_plot_simp.png'))"
   ]
  },
  {
   "cell_type": "markdown",
   "id": "52240d59-3c86-4004-9833-ed3cf454af92",
   "metadata": {},
   "source": [
    "The 2-hop model has three MeanHinAggregator layers, likely reflecting the 2 edge types."
   ]
  },
  {
   "cell_type": "code",
   "execution_count": 27,
   "id": "2339b1f7-7610-4325-b608-9148aab72485",
   "metadata": {},
   "outputs": [],
   "source": [
    "%%capture\n",
    "plot_model(model, to_file=Path(setup.temp_path).joinpath('32_model_plot_with_shapes.png'),\n",
    "          show_shapes=True)"
   ]
  },
  {
   "cell_type": "markdown",
   "id": "8d349f89-0e6f-4877-b9df-5ebd69463f82",
   "metadata": {
    "tags": []
   },
   "source": [
    "## Graph Containing All Nodes\n",
    "Get predictions and metrics"
   ]
  },
  {
   "cell_type": "markdown",
   "id": "d5b9ec06-f278-40ca-ba82-6a99ecba9e72",
   "metadata": {},
   "source": [
    "##### Get generator and predict for all nodes (train, validation, test)"
   ]
  },
  {
   "cell_type": "code",
   "execution_count": 28,
   "id": "8c53ff25-c506-4e4c-85c3-852080bd823a",
   "metadata": {},
   "outputs": [],
   "source": [
    "generator = HinSAGENodeGenerator(sba_all, batch_size=setup.gnn_batch_size, \n",
    "                                 num_samples=setup.gnn_num_samples, \n",
    "                                 head_node_type='LoanNr_ChkDgt',\n",
    "                                 seed=34)"
   ]
  },
  {
   "cell_type": "code",
   "execution_count": 29,
   "id": "6ee06987-be8e-4745-baf5-a7a14caf5439",
   "metadata": {},
   "outputs": [],
   "source": [
    "all_flow = generator.flow(labels_all.index, labels_all['target'], shuffle=False)"
   ]
  },
  {
   "cell_type": "code",
   "execution_count": 30,
   "id": "d356d8ac-0d91-4666-b444-215141bf0721",
   "metadata": {},
   "outputs": [],
   "source": [
    "tf.random.set_seed(16)\n",
    "keras.utils.set_random_seed(812)\n",
    "sg.random.set_seed(4345)"
   ]
  },
  {
   "cell_type": "code",
   "execution_count": 31,
   "id": "9f532a6e-13fe-444b-aeb6-14d89cace6a3",
   "metadata": {},
   "outputs": [
    {
     "name": "stderr",
     "output_type": "stream",
     "text": [
      "2023-12-27 07:42:30.995650: I tensorflow/core/grappler/optimizers/custom_graph_optimizer_registry.cc:114] Plugin optimizer for device_type GPU is enabled.\n"
     ]
    },
    {
     "name": "stdout",
     "output_type": "stream",
     "text": [
      "34405/34405 [==============================] - 801s 23ms/step\n"
     ]
    }
   ],
   "source": [
    "all_predictions = model.predict(all_flow)"
   ]
  },
  {
   "cell_type": "code",
   "execution_count": 32,
   "id": "44bbf32c-9e55-42d8-8098-7d39dd8523cd",
   "metadata": {},
   "outputs": [
    {
     "data": {
      "text/plain": [
       "(688081, 1)"
      ]
     },
     "execution_count": 32,
     "metadata": {},
     "output_type": "execute_result"
    }
   ],
   "source": [
    "all_predictions.shape"
   ]
  },
  {
   "cell_type": "code",
   "execution_count": 33,
   "id": "6466d65c-b262-4c01-973c-b8a308743988",
   "metadata": {},
   "outputs": [
    {
     "data": {
      "text/plain": [
       "LoanNr_ChkDgt\n",
       "5282874009    0.141917\n",
       "2568556001    0.140324\n",
       "2687465005    0.113050\n",
       "9174473001    0.098633\n",
       "3598634004    0.095452\n",
       "                ...   \n",
       "1533475000    0.253912\n",
       "2597975001    0.319785\n",
       "4381063007    0.114567\n",
       "6010603003    0.106955\n",
       "3215386008    0.124980\n",
       "Length: 688081, dtype: float32"
      ]
     },
     "execution_count": 33,
     "metadata": {},
     "output_type": "execute_result"
    }
   ],
   "source": [
    "pd.Series(all_predictions[:,0], index=labels_all.index)"
   ]
  },
  {
   "cell_type": "code",
   "execution_count": 34,
   "id": "ca6148a4-9119-4f8b-bb10-b805d3c01f34",
   "metadata": {},
   "outputs": [],
   "source": [
    "all_pred_df = pd.concat([pd.Series(all_predictions[:,0], index=labels_all.index).rename('predict_prob'),\n",
    "                         labels_all], axis=1) \\\n",
    "    .reset_index()"
   ]
  },
  {
   "cell_type": "code",
   "execution_count": 35,
   "id": "cca72b8c-212e-4486-ae02-7d431c7da9bb",
   "metadata": {},
   "outputs": [
    {
     "data": {
      "text/html": [
       "<div>\n",
       "<style scoped>\n",
       "    .dataframe tbody tr th:only-of-type {\n",
       "        vertical-align: middle;\n",
       "    }\n",
       "\n",
       "    .dataframe tbody tr th {\n",
       "        vertical-align: top;\n",
       "    }\n",
       "\n",
       "    .dataframe thead th {\n",
       "        text-align: right;\n",
       "    }\n",
       "</style>\n",
       "<table border=\"1\" class=\"dataframe\">\n",
       "  <thead>\n",
       "    <tr style=\"text-align: right;\">\n",
       "      <th></th>\n",
       "      <th>LoanNr_ChkDgt</th>\n",
       "      <th>predict_prob</th>\n",
       "      <th>dset</th>\n",
       "      <th>target</th>\n",
       "      <th>train_fix</th>\n",
       "    </tr>\n",
       "  </thead>\n",
       "  <tbody>\n",
       "    <tr>\n",
       "      <th>0</th>\n",
       "      <td>5282874009</td>\n",
       "      <td>0.141917</td>\n",
       "      <td>train</td>\n",
       "      <td>0</td>\n",
       "      <td>0</td>\n",
       "    </tr>\n",
       "    <tr>\n",
       "      <th>1</th>\n",
       "      <td>2568556001</td>\n",
       "      <td>0.140324</td>\n",
       "      <td>train</td>\n",
       "      <td>0</td>\n",
       "      <td>0</td>\n",
       "    </tr>\n",
       "    <tr>\n",
       "      <th>2</th>\n",
       "      <td>2687465005</td>\n",
       "      <td>0.113050</td>\n",
       "      <td>train</td>\n",
       "      <td>1</td>\n",
       "      <td>0</td>\n",
       "    </tr>\n",
       "  </tbody>\n",
       "</table>\n",
       "</div>"
      ],
      "text/plain": [
       "  LoanNr_ChkDgt  predict_prob   dset  target  train_fix\n",
       "0    5282874009      0.141917  train       0          0\n",
       "1    2568556001      0.140324  train       0          0\n",
       "2    2687465005      0.113050  train       1          0"
      ]
     },
     "execution_count": 35,
     "metadata": {},
     "output_type": "execute_result"
    }
   ],
   "source": [
    "all_pred_df.head(3)"
   ]
  },
  {
   "cell_type": "markdown",
   "id": "e717d33b-13a8-43dd-8a7c-4b34fa2811e8",
   "metadata": {},
   "source": [
    "## Threshold Tune & Binary Predictions\n",
    "Using training probability predictions"
   ]
  },
  {
   "cell_type": "code",
   "execution_count": 36,
   "id": "ccd0bc23-fbc0-40d0-8d8b-f2302405a875",
   "metadata": {},
   "outputs": [],
   "source": [
    "all_pred_train = all_pred_df[all_pred_df['dset'] == 'train']"
   ]
  },
  {
   "cell_type": "code",
   "execution_count": 37,
   "id": "df36d9e9-f35e-46b3-a5be-08081f998319",
   "metadata": {},
   "outputs": [],
   "source": [
    "thresh_tune_data = sg_plot.get_f1_frame(all_pred_train['target'], \n",
    "                                        all_pred_train['predict_prob'])"
   ]
  },
  {
   "cell_type": "code",
   "execution_count": 38,
   "id": "de634156-caf6-4a52-b5d7-44b8e986aa1d",
   "metadata": {},
   "outputs": [
    {
     "data": {
      "text/html": [
       "<div>\n",
       "<style scoped>\n",
       "    .dataframe tbody tr th:only-of-type {\n",
       "        vertical-align: middle;\n",
       "    }\n",
       "\n",
       "    .dataframe tbody tr th {\n",
       "        vertical-align: top;\n",
       "    }\n",
       "\n",
       "    .dataframe thead th {\n",
       "        text-align: right;\n",
       "    }\n",
       "</style>\n",
       "<table border=\"1\" class=\"dataframe\">\n",
       "  <thead>\n",
       "    <tr style=\"text-align: right;\">\n",
       "      <th></th>\n",
       "      <th>thresh</th>\n",
       "      <th>f1</th>\n",
       "    </tr>\n",
       "  </thead>\n",
       "  <tbody>\n",
       "    <tr>\n",
       "      <th>10</th>\n",
       "      <td>0.20</td>\n",
       "      <td>0.411191</td>\n",
       "    </tr>\n",
       "    <tr>\n",
       "      <th>11</th>\n",
       "      <td>0.22</td>\n",
       "      <td>0.410876</td>\n",
       "    </tr>\n",
       "    <tr>\n",
       "      <th>9</th>\n",
       "      <td>0.18</td>\n",
       "      <td>0.409801</td>\n",
       "    </tr>\n",
       "  </tbody>\n",
       "</table>\n",
       "</div>"
      ],
      "text/plain": [
       "    thresh        f1\n",
       "10    0.20  0.411191\n",
       "11    0.22  0.410876\n",
       "9     0.18  0.409801"
      ]
     },
     "execution_count": 38,
     "metadata": {},
     "output_type": "execute_result"
    }
   ],
   "source": [
    "thresh_tune_data.sort_values('f1', ascending=False, inplace=True)\n",
    "thresh_tune_data.head(3)"
   ]
  },
  {
   "cell_type": "code",
   "execution_count": 39,
   "id": "c746b880-d781-4bc1-9df2-89211127c22a",
   "metadata": {},
   "outputs": [
    {
     "data": {
      "text/plain": [
       "0.2"
      ]
     },
     "execution_count": 39,
     "metadata": {},
     "output_type": "execute_result"
    }
   ],
   "source": [
    "best_thresh = thresh_tune_data['thresh'].iloc[0]\n",
    "best_thresh"
   ]
  },
  {
   "cell_type": "markdown",
   "id": "76be971a-78b4-4328-968b-82ac1169b43f",
   "metadata": {},
   "source": [
    "##### Append binary predictions to probability predictions"
   ]
  },
  {
   "cell_type": "code",
   "execution_count": 40,
   "id": "641da72e-1bca-4fe7-96c4-6c029b521bd7",
   "metadata": {},
   "outputs": [],
   "source": [
    "all_pred_df['predict_bin'] = sg_plot.get_binary_predictions(all_pred_df['predict_prob'], best_thresh)"
   ]
  },
  {
   "cell_type": "code",
   "execution_count": 41,
   "id": "9f6ecdf4-ac01-4c39-8315-e8583daa337e",
   "metadata": {},
   "outputs": [
    {
     "data": {
      "text/plain": [
       "predict_bin\n",
       "1    0.519491\n",
       "0    0.480509\n",
       "Name: proportion, dtype: float64"
      ]
     },
     "execution_count": 41,
     "metadata": {},
     "output_type": "execute_result"
    }
   ],
   "source": [
    "all_pred_df['predict_bin'].value_counts(normalize=True, dropna=False)"
   ]
  },
  {
   "cell_type": "code",
   "execution_count": 42,
   "id": "da47e98b-16a2-4db9-bf5a-cd1f20ef72d4",
   "metadata": {},
   "outputs": [],
   "source": [
    "#all_pred_df = all_pred_df.merge(labels_all.reset_index(), on='LoanNr_ChkDgt')"
   ]
  },
  {
   "cell_type": "code",
   "execution_count": 43,
   "id": "1d0ecde8-92ea-43bd-af53-a725ae32252b",
   "metadata": {},
   "outputs": [],
   "source": [
    "all_pred_df.to_parquet(Path(setup.temp_path).joinpath('32_DATA_predictions_all.parquet'))"
   ]
  },
  {
   "cell_type": "code",
   "execution_count": 44,
   "id": "77980132-4c08-4704-bcf8-0eb8cb9b910d",
   "metadata": {},
   "outputs": [
    {
     "data": {
      "text/html": [
       "<div>\n",
       "<style scoped>\n",
       "    .dataframe tbody tr th:only-of-type {\n",
       "        vertical-align: middle;\n",
       "    }\n",
       "\n",
       "    .dataframe tbody tr th {\n",
       "        vertical-align: top;\n",
       "    }\n",
       "\n",
       "    .dataframe thead th {\n",
       "        text-align: right;\n",
       "    }\n",
       "</style>\n",
       "<table border=\"1\" class=\"dataframe\">\n",
       "  <thead>\n",
       "    <tr style=\"text-align: right;\">\n",
       "      <th></th>\n",
       "      <th>LoanNr_ChkDgt</th>\n",
       "      <th>predict_prob</th>\n",
       "      <th>dset</th>\n",
       "      <th>target</th>\n",
       "      <th>train_fix</th>\n",
       "      <th>predict_bin</th>\n",
       "    </tr>\n",
       "  </thead>\n",
       "  <tbody>\n",
       "    <tr>\n",
       "      <th>442043</th>\n",
       "      <td>1014515008</td>\n",
       "      <td>0.102801</td>\n",
       "      <td>train</td>\n",
       "      <td>0</td>\n",
       "      <td>0</td>\n",
       "      <td>0</td>\n",
       "    </tr>\n",
       "    <tr>\n",
       "      <th>161069</th>\n",
       "      <td>1139725005</td>\n",
       "      <td>0.195133</td>\n",
       "      <td>train</td>\n",
       "      <td>0</td>\n",
       "      <td>1</td>\n",
       "      <td>0</td>\n",
       "    </tr>\n",
       "    <tr>\n",
       "      <th>3258</th>\n",
       "      <td>2933035001</td>\n",
       "      <td>0.254707</td>\n",
       "      <td>train</td>\n",
       "      <td>1</td>\n",
       "      <td>1</td>\n",
       "      <td>1</td>\n",
       "    </tr>\n",
       "  </tbody>\n",
       "</table>\n",
       "</div>"
      ],
      "text/plain": [
       "       LoanNr_ChkDgt  predict_prob   dset  target  train_fix  predict_bin\n",
       "442043    1014515008      0.102801  train       0          0            0\n",
       "161069    1139725005      0.195133  train       0          1            0\n",
       "3258      2933035001      0.254707  train       1          1            1"
      ]
     },
     "execution_count": 44,
     "metadata": {},
     "output_type": "execute_result"
    }
   ],
   "source": [
    "all_pred_df.sample(3)"
   ]
  },
  {
   "cell_type": "code",
   "execution_count": 45,
   "id": "800ce59f-7201-4474-809f-94920700d2f8",
   "metadata": {},
   "outputs": [
    {
     "data": {
      "text/html": [
       "<div>\n",
       "<style scoped>\n",
       "    .dataframe tbody tr th:only-of-type {\n",
       "        vertical-align: middle;\n",
       "    }\n",
       "\n",
       "    .dataframe tbody tr th {\n",
       "        vertical-align: top;\n",
       "    }\n",
       "\n",
       "    .dataframe thead th {\n",
       "        text-align: right;\n",
       "    }\n",
       "</style>\n",
       "<table border=\"1\" class=\"dataframe\">\n",
       "  <thead>\n",
       "    <tr style=\"text-align: right;\">\n",
       "      <th>target</th>\n",
       "      <th>0</th>\n",
       "      <th>1</th>\n",
       "    </tr>\n",
       "    <tr>\n",
       "      <th>predict_bin</th>\n",
       "      <th></th>\n",
       "      <th></th>\n",
       "    </tr>\n",
       "  </thead>\n",
       "  <tbody>\n",
       "    <tr>\n",
       "      <th>0</th>\n",
       "      <td>292542</td>\n",
       "      <td>38087</td>\n",
       "    </tr>\n",
       "    <tr>\n",
       "      <th>1</th>\n",
       "      <td>255851</td>\n",
       "      <td>101601</td>\n",
       "    </tr>\n",
       "  </tbody>\n",
       "</table>\n",
       "</div>"
      ],
      "text/plain": [
       "target            0       1\n",
       "predict_bin                \n",
       "0            292542   38087\n",
       "1            255851  101601"
      ]
     },
     "execution_count": 45,
     "metadata": {},
     "output_type": "execute_result"
    }
   ],
   "source": [
    "pd.crosstab(all_pred_df['predict_bin'], all_pred_df['target'])"
   ]
  },
  {
   "cell_type": "markdown",
   "id": "269ac75f-210e-42a3-8734-ad2e9dac697f",
   "metadata": {},
   "source": [
    "## Metrics"
   ]
  },
  {
   "cell_type": "code",
   "execution_count": 46,
   "id": "a840cd8b-23f1-4fb1-a796-e77e9875197d",
   "metadata": {
    "tags": []
   },
   "outputs": [
    {
     "data": {
      "text/html": [
       "<div>\n",
       "<style scoped>\n",
       "    .dataframe tbody tr th:only-of-type {\n",
       "        vertical-align: middle;\n",
       "    }\n",
       "\n",
       "    .dataframe tbody tr th {\n",
       "        vertical-align: top;\n",
       "    }\n",
       "\n",
       "    .dataframe thead th {\n",
       "        text-align: right;\n",
       "    }\n",
       "</style>\n",
       "<table border=\"1\" class=\"dataframe\">\n",
       "  <thead>\n",
       "    <tr style=\"text-align: right;\">\n",
       "      <th></th>\n",
       "      <th>accuracy_score</th>\n",
       "      <th>f1_score</th>\n",
       "      <th>precision_score</th>\n",
       "      <th>recall_score</th>\n",
       "      <th>average_precision_score</th>\n",
       "      <th>roc_auc_score</th>\n",
       "    </tr>\n",
       "  </thead>\n",
       "  <tbody>\n",
       "    <tr>\n",
       "      <th>train</th>\n",
       "      <td>0.576040</td>\n",
       "      <td>0.411191</td>\n",
       "      <td>0.286324</td>\n",
       "      <td>0.729198</td>\n",
       "      <td>0.326659</td>\n",
       "      <td>0.682243</td>\n",
       "    </tr>\n",
       "    <tr>\n",
       "      <th>val</th>\n",
       "      <td>0.565721</td>\n",
       "      <td>0.404950</td>\n",
       "      <td>0.280498</td>\n",
       "      <td>0.727910</td>\n",
       "      <td>0.321795</td>\n",
       "      <td>0.671057</td>\n",
       "    </tr>\n",
       "    <tr>\n",
       "      <th>test</th>\n",
       "      <td>0.567562</td>\n",
       "      <td>0.403760</td>\n",
       "      <td>0.280355</td>\n",
       "      <td>0.721220</td>\n",
       "      <td>0.319500</td>\n",
       "      <td>0.670657</td>\n",
       "    </tr>\n",
       "  </tbody>\n",
       "</table>\n",
       "</div>"
      ],
      "text/plain": [
       "       accuracy_score  f1_score  precision_score  recall_score  \\\n",
       "train        0.576040  0.411191         0.286324      0.729198   \n",
       "val          0.565721  0.404950         0.280498      0.727910   \n",
       "test         0.567562  0.403760         0.280355      0.721220   \n",
       "\n",
       "       average_precision_score  roc_auc_score  \n",
       "train                 0.326659       0.682243  \n",
       "val                   0.321795       0.671057  \n",
       "test                  0.319500       0.670657  "
      ]
     },
     "execution_count": 46,
     "metadata": {},
     "output_type": "execute_result"
    }
   ],
   "source": [
    "metrics_df = pd.concat([sg_plot.dset_metrics(all_pred_df[all_pred_df['dset'] == d]['target'], \n",
    "                                             all_pred_df[all_pred_df['dset'] == d]['predict_bin'], \n",
    "                                             all_pred_df[all_pred_df['dset'] == d]['predict_prob']) \\\n",
    "                        for d in ['train', 'val', 'test']], axis=1,\n",
    "                      keys = ['train', 'val', 'test']) \\\n",
    "    .transpose()\n",
    "metrics_df.to_csv(Path(setup.temp_path).joinpath('22_REPORT_metrics_all.csv'), index=True)\n",
    "metrics_df"
   ]
  },
  {
   "cell_type": "markdown",
   "id": "5f0dc803-0b75-48f1-9387-49012e0bee62",
   "metadata": {},
   "source": [
    "## Lift"
   ]
  },
  {
   "cell_type": "code",
   "execution_count": 47,
   "id": "82d9c0ab-8989-450d-a2b1-7997ca636052",
   "metadata": {
    "tags": []
   },
   "outputs": [],
   "source": [
    "pred_test_df = all_pred_df[all_pred_df['dset'] == 'test']"
   ]
  },
  {
   "cell_type": "code",
   "execution_count": 48,
   "id": "1919ffe9-cfe8-4d89-9c68-bcf729e4c328",
   "metadata": {},
   "outputs": [
    {
     "data": {
      "image/png": "[encoded data removed]",
      "text/plain": [
       "<Figure size 400x300 with 1 Axes>"
      ]
     },
     "metadata": {},
     "output_type": "display_data"
    }
   ],
   "source": [
    "plot_lift_curve(pred_test_df['target'], \n",
    "                pd.concat([1-pred_test_df['predict_prob'], pred_test_df['predict_prob']], axis=1), \n",
    "                title='Lift Curve', ax=None, figsize=(4,3), \n",
    "                title_fontsize='large', text_fontsize='medium')\n",
    "plt.gca().legend(loc='upper right')\n",
    "plt.gcf().savefig(Path(setup.temp_path).joinpath('32_PLOT_lift_curve.png'),bbox_inches='tight')"
   ]
  },
  {
   "cell_type": "markdown",
   "id": "b9e72112-71e5-497b-a823-0f0cab528c42",
   "metadata": {},
   "source": [
    "## Embeddings\n",
    "Extract node embeddings for businesses, and save these for later analysis"
   ]
  },
  {
   "cell_type": "code",
   "execution_count": 49,
   "id": "30bc33ce-00e9-450c-add7-94fd12ff20c9",
   "metadata": {},
   "outputs": [],
   "source": [
    "# Create a new model object to access the embeddings 1 layers above (normalized output)\n",
    "emb_model = Model(inputs=model.input, outputs=model.layers[-2].output)"
   ]
  },
  {
   "cell_type": "code",
   "execution_count": 50,
   "id": "8a408051-cc6b-4e66-b8d9-c1ceca584885",
   "metadata": {},
   "outputs": [
    {
     "name": "stderr",
     "output_type": "stream",
     "text": [
      "2023-12-27 07:56:54.559648: I tensorflow/core/grappler/optimizers/custom_graph_optimizer_registry.cc:114] Plugin optimizer for device_type GPU is enabled.\n"
     ]
    },
    {
     "name": "stdout",
     "output_type": "stream",
     "text": [
      "34405/34405 [==============================] - 879s 26ms/step\n"
     ]
    }
   ],
   "source": [
    "embeddings = emb_model.predict(all_flow)"
   ]
  },
  {
   "cell_type": "code",
   "execution_count": 51,
   "id": "49fb8b0e-f0dc-4e3e-b465-3f80adf8b57e",
   "metadata": {},
   "outputs": [],
   "source": [
    "embeddings_df = pd.DataFrame(embeddings, index=labels_all.index)\n",
    "embeddings_df.columns = [f'emb_{c:02d}' for c in embeddings_df.columns]"
   ]
  },
  {
   "cell_type": "code",
   "execution_count": 52,
   "id": "afc6664d-a487-42f7-b6a9-6cbbc907d526",
   "metadata": {},
   "outputs": [
    {
     "data": {
      "text/html": [
       "<div>\n",
       "<style scoped>\n",
       "    .dataframe tbody tr th:only-of-type {\n",
       "        vertical-align: middle;\n",
       "    }\n",
       "\n",
       "    .dataframe tbody tr th {\n",
       "        vertical-align: top;\n",
       "    }\n",
       "\n",
       "    .dataframe thead th {\n",
       "        text-align: right;\n",
       "    }\n",
       "</style>\n",
       "<table border=\"1\" class=\"dataframe\">\n",
       "  <thead>\n",
       "    <tr style=\"text-align: right;\">\n",
       "      <th></th>\n",
       "      <th>emb_00</th>\n",
       "      <th>emb_01</th>\n",
       "      <th>emb_02</th>\n",
       "      <th>emb_03</th>\n",
       "      <th>emb_04</th>\n",
       "      <th>emb_05</th>\n",
       "      <th>emb_06</th>\n",
       "      <th>emb_07</th>\n",
       "    </tr>\n",
       "  </thead>\n",
       "  <tbody>\n",
       "    <tr>\n",
       "      <th>count</th>\n",
       "      <td>688081.000000</td>\n",
       "      <td>688081.000000</td>\n",
       "      <td>688081.000000</td>\n",
       "      <td>688081.000000</td>\n",
       "      <td>688081.000000</td>\n",
       "      <td>688081.000000</td>\n",
       "      <td>688081.000000</td>\n",
       "      <td>688081.000000</td>\n",
       "    </tr>\n",
       "    <tr>\n",
       "      <th>mean</th>\n",
       "      <td>0.064713</td>\n",
       "      <td>-0.278690</td>\n",
       "      <td>-0.439783</td>\n",
       "      <td>0.091128</td>\n",
       "      <td>0.411991</td>\n",
       "      <td>0.114497</td>\n",
       "      <td>0.080756</td>\n",
       "      <td>0.616982</td>\n",
       "    </tr>\n",
       "    <tr>\n",
       "      <th>std</th>\n",
       "      <td>0.084791</td>\n",
       "      <td>0.143332</td>\n",
       "      <td>0.156207</td>\n",
       "      <td>0.068575</td>\n",
       "      <td>0.117388</td>\n",
       "      <td>0.166898</td>\n",
       "      <td>0.151248</td>\n",
       "      <td>0.158270</td>\n",
       "    </tr>\n",
       "    <tr>\n",
       "      <th>min</th>\n",
       "      <td>-0.139834</td>\n",
       "      <td>-0.865534</td>\n",
       "      <td>-0.808636</td>\n",
       "      <td>-0.031744</td>\n",
       "      <td>0.081987</td>\n",
       "      <td>-0.452124</td>\n",
       "      <td>-0.591250</td>\n",
       "      <td>-0.045036</td>\n",
       "    </tr>\n",
       "    <tr>\n",
       "      <th>25%</th>\n",
       "      <td>0.009024</td>\n",
       "      <td>-0.348461</td>\n",
       "      <td>-0.555455</td>\n",
       "      <td>0.049797</td>\n",
       "      <td>0.319897</td>\n",
       "      <td>0.000688</td>\n",
       "      <td>-0.031757</td>\n",
       "      <td>0.510927</td>\n",
       "    </tr>\n",
       "    <tr>\n",
       "      <th>50%</th>\n",
       "      <td>0.036147</td>\n",
       "      <td>-0.241406</td>\n",
       "      <td>-0.416329</td>\n",
       "      <td>0.069326</td>\n",
       "      <td>0.402051</td>\n",
       "      <td>0.140853</td>\n",
       "      <td>0.121765</td>\n",
       "      <td>0.658059</td>\n",
       "    </tr>\n",
       "    <tr>\n",
       "      <th>75%</th>\n",
       "      <td>0.089862</td>\n",
       "      <td>-0.172021</td>\n",
       "      <td>-0.318476</td>\n",
       "      <td>0.108213</td>\n",
       "      <td>0.496789</td>\n",
       "      <td>0.256268</td>\n",
       "      <td>0.202899</td>\n",
       "      <td>0.738472</td>\n",
       "    </tr>\n",
       "    <tr>\n",
       "      <th>max</th>\n",
       "      <td>0.531351</td>\n",
       "      <td>-0.066181</td>\n",
       "      <td>0.149643</td>\n",
       "      <td>0.450049</td>\n",
       "      <td>0.848603</td>\n",
       "      <td>0.402951</td>\n",
       "      <td>0.374494</td>\n",
       "      <td>0.888496</td>\n",
       "    </tr>\n",
       "  </tbody>\n",
       "</table>\n",
       "</div>"
      ],
      "text/plain": [
       "              emb_00         emb_01         emb_02         emb_03  \\\n",
       "count  688081.000000  688081.000000  688081.000000  688081.000000   \n",
       "mean        0.064713      -0.278690      -0.439783       0.091128   \n",
       "std         0.084791       0.143332       0.156207       0.068575   \n",
       "min        -0.139834      -0.865534      -0.808636      -0.031744   \n",
       "25%         0.009024      -0.348461      -0.555455       0.049797   \n",
       "50%         0.036147      -0.241406      -0.416329       0.069326   \n",
       "75%         0.089862      -0.172021      -0.318476       0.108213   \n",
       "max         0.531351      -0.066181       0.149643       0.450049   \n",
       "\n",
       "              emb_04         emb_05         emb_06         emb_07  \n",
       "count  688081.000000  688081.000000  688081.000000  688081.000000  \n",
       "mean        0.411991       0.114497       0.080756       0.616982  \n",
       "std         0.117388       0.166898       0.151248       0.158270  \n",
       "min         0.081987      -0.452124      -0.591250      -0.045036  \n",
       "25%         0.319897       0.000688      -0.031757       0.510927  \n",
       "50%         0.402051       0.140853       0.121765       0.658059  \n",
       "75%         0.496789       0.256268       0.202899       0.738472  \n",
       "max         0.848603       0.402951       0.374494       0.888496  "
      ]
     },
     "execution_count": 52,
     "metadata": {},
     "output_type": "execute_result"
    }
   ],
   "source": [
    "embeddings_df.describe()"
   ]
  },
  {
   "cell_type": "code",
   "execution_count": 53,
   "id": "de99ee27-0355-48fd-8f12-05c73d489a2e",
   "metadata": {},
   "outputs": [],
   "source": [
    "embeddings_df.to_parquet(Path(setup.temp_path).joinpath('32_DATA_embeddings.parquet'))"
   ]
  },
  {
   "cell_type": "markdown",
   "id": "34ebc137-4fa0-42f8-8ba7-7143ba76818f",
   "metadata": {},
   "source": [
    "## Metrics on Test-Only Graph\n",
    "Repeat metrics on the test nodes (and associated NAICS nodes) only.  Expect some performance degradation"
   ]
  },
  {
   "cell_type": "code",
   "execution_count": 54,
   "id": "d012a971-5f6f-4f8f-bfad-d8ebe6d87fb9",
   "metadata": {},
   "outputs": [],
   "source": [
    "generator_test = HinSAGENodeGenerator(sba_test, batch_size=setup.gnn_batch_size, \n",
    "                                 num_samples=setup.gnn_num_samples, \n",
    "                                 head_node_type='LoanNr_ChkDgt',\n",
    "                                 seed=2343)"
   ]
  },
  {
   "cell_type": "code",
   "execution_count": 55,
   "id": "f8a3f676-9055-4f88-b3a1-cc891b122ca6",
   "metadata": {},
   "outputs": [],
   "source": [
    "test_flow = generator_test.flow(labels_test['LoanNr_ChkDgt'], labels_test['target'], shuffle=False)"
   ]
  },
  {
   "cell_type": "code",
   "execution_count": 56,
   "id": "8fef2bc4-e867-47b2-8984-755c76951837",
   "metadata": {},
   "outputs": [],
   "source": [
    "tf.random.set_seed(16)\n",
    "keras.utils.set_random_seed(812)\n",
    "sg.random.set_seed(4345)"
   ]
  },
  {
   "cell_type": "code",
   "execution_count": 57,
   "id": "35a0ab70-d869-466a-abf9-d86f8fa146ea",
   "metadata": {},
   "outputs": [
    {
     "name": "stdout",
     "output_type": "stream",
     "text": [
      "   1/7225 [..............................] - ETA: 27:36"
     ]
    },
    {
     "name": "stderr",
     "output_type": "stream",
     "text": [
      "2023-12-27 08:13:11.657564: I tensorflow/core/grappler/optimizers/custom_graph_optimizer_registry.cc:114] Plugin optimizer for device_type GPU is enabled.\n"
     ]
    },
    {
     "name": "stdout",
     "output_type": "stream",
     "text": [
      "7225/7225 [==============================] - 140s 19ms/step\n"
     ]
    }
   ],
   "source": [
    "test_predictions = model.predict(test_flow)"
   ]
  },
  {
   "cell_type": "code",
   "execution_count": 58,
   "id": "fd4798bb-41f6-4577-9ebe-284301f0b318",
   "metadata": {},
   "outputs": [
    {
     "data": {
      "text/plain": [
       "(144497, 1)"
      ]
     },
     "execution_count": 58,
     "metadata": {},
     "output_type": "execute_result"
    }
   ],
   "source": [
    "test_predictions.shape"
   ]
  },
  {
   "cell_type": "code",
   "execution_count": 59,
   "id": "e3ac9f5c-30ef-42dc-8442-a56cd51110b0",
   "metadata": {},
   "outputs": [],
   "source": [
    "test_pred_df = pd.Series(test_predictions[:,0], index=labels_test['LoanNr_ChkDgt']) \\\n",
    "    .rename('predict_prob').reset_index()"
   ]
  },
  {
   "cell_type": "code",
   "execution_count": 60,
   "id": "4bd63239-6b14-4580-a6d3-7cbb082d5f04",
   "metadata": {},
   "outputs": [
    {
     "data": {
      "text/html": [
       "<div>\n",
       "<style scoped>\n",
       "    .dataframe tbody tr th:only-of-type {\n",
       "        vertical-align: middle;\n",
       "    }\n",
       "\n",
       "    .dataframe tbody tr th {\n",
       "        vertical-align: top;\n",
       "    }\n",
       "\n",
       "    .dataframe thead th {\n",
       "        text-align: right;\n",
       "    }\n",
       "</style>\n",
       "<table border=\"1\" class=\"dataframe\">\n",
       "  <thead>\n",
       "    <tr style=\"text-align: right;\">\n",
       "      <th></th>\n",
       "      <th>LoanNr_ChkDgt</th>\n",
       "      <th>predict_prob</th>\n",
       "    </tr>\n",
       "  </thead>\n",
       "  <tbody>\n",
       "    <tr>\n",
       "      <th>0</th>\n",
       "      <td>8821253008</td>\n",
       "      <td>0.111814</td>\n",
       "    </tr>\n",
       "    <tr>\n",
       "      <th>1</th>\n",
       "      <td>3487724004</td>\n",
       "      <td>0.076979</td>\n",
       "    </tr>\n",
       "    <tr>\n",
       "      <th>2</th>\n",
       "      <td>3589114010</td>\n",
       "      <td>0.172260</td>\n",
       "    </tr>\n",
       "  </tbody>\n",
       "</table>\n",
       "</div>"
      ],
      "text/plain": [
       "  LoanNr_ChkDgt  predict_prob\n",
       "0    8821253008      0.111814\n",
       "1    3487724004      0.076979\n",
       "2    3589114010      0.172260"
      ]
     },
     "execution_count": 60,
     "metadata": {},
     "output_type": "execute_result"
    }
   ],
   "source": [
    "test_pred_df.head(3)"
   ]
  },
  {
   "cell_type": "code",
   "execution_count": 61,
   "id": "8579a3fe-fbc2-4710-a01f-d91648f9c11a",
   "metadata": {},
   "outputs": [],
   "source": [
    "test_pred_df['predict_bin'] = sg_plot.get_binary_predictions(test_pred_df['predict_prob'], best_thresh)"
   ]
  },
  {
   "cell_type": "code",
   "execution_count": 62,
   "id": "9ace7a37-804c-4b91-93ff-fd2f2d187808",
   "metadata": {},
   "outputs": [
    {
     "data": {
      "text/plain": [
       "predict_bin\n",
       "1    0.63474\n",
       "0    0.36526\n",
       "Name: proportion, dtype: float64"
      ]
     },
     "execution_count": 62,
     "metadata": {},
     "output_type": "execute_result"
    }
   ],
   "source": [
    "test_pred_df['predict_bin'].value_counts(normalize=True, dropna=False)"
   ]
  },
  {
   "cell_type": "code",
   "execution_count": 63,
   "id": "73aa268d-5aec-4fcd-b6d1-0e1c6b433a0f",
   "metadata": {},
   "outputs": [],
   "source": [
    "test_pred_df = test_pred_df.merge(labels_test, on='LoanNr_ChkDgt')"
   ]
  },
  {
   "cell_type": "code",
   "execution_count": 64,
   "id": "9ae60246-de8a-4483-b826-735fd948403f",
   "metadata": {},
   "outputs": [],
   "source": [
    "test_pred_df.to_parquet(Path(setup.temp_path).joinpath('32_DATA_predictions_test_graph.parquet'))"
   ]
  },
  {
   "cell_type": "markdown",
   "id": "470170a9-a04f-41e5-9ed3-967df37fd64d",
   "metadata": {},
   "source": [
    "##### Metrics - test only"
   ]
  },
  {
   "cell_type": "code",
   "execution_count": 65,
   "id": "0f1d8830-0b1f-4644-9344-0755e95f8ce0",
   "metadata": {
    "tags": []
   },
   "outputs": [
    {
     "data": {
      "text/plain": [
       "accuracy_score             0.496384\n",
       "f1_score                   0.398850\n",
       "precision_score            0.263209\n",
       "recall_score               0.822942\n",
       "average_precision_score    0.317430\n",
       "roc_auc_score              0.670712\n",
       "dtype: float64"
      ]
     },
     "execution_count": 65,
     "metadata": {},
     "output_type": "execute_result"
    }
   ],
   "source": [
    "test_metrics = sg_plot.dset_metrics(test_pred_df['target'],test_pred_df['predict_bin'], \n",
    "                                    test_pred_df['predict_prob'])\n",
    "pd.DataFrame(test_metrics).transpose() \\\n",
    "    .to_csv(Path(setup.temp_path).joinpath('32_REPORT_metrics_test_only.csv'), index=True)\n",
    "test_metrics"
   ]
  },
  {
   "cell_type": "markdown",
   "id": "38369dbb-522d-4a15-aa02-b9f445238786",
   "metadata": {},
   "source": [
    "##### Lift - test only"
   ]
  },
  {
   "cell_type": "code",
   "execution_count": 66,
   "id": "42854e8c-46cc-4126-89ab-387b3e1dd9e0",
   "metadata": {},
   "outputs": [
    {
     "data": {
      "image/png": "[encoded data removed]",
      "text/plain": [
       "<Figure size 400x300 with 1 Axes>"
      ]
     },
     "metadata": {},
     "output_type": "display_data"
    }
   ],
   "source": [
    "plot_lift_curve(test_pred_df['target'], \n",
    "                pd.concat([1-test_pred_df['predict_prob'], test_pred_df['predict_prob']], axis=1), \n",
    "                title='Lift Curve', ax=None, figsize=(4,3), \n",
    "                title_fontsize='large', text_fontsize='medium')\n",
    "plt.gca().legend(loc='upper right')\n",
    "plt.gcf().savefig(Path(setup.temp_path).joinpath('32_PLOT_lift_curve_testonly.png'),bbox_inches='tight')"
   ]
  },
  {
   "cell_type": "code",
   "execution_count": null,
   "id": "cbc4d318-6df3-4fc5-9703-3984487d1c10",
   "metadata": {},
   "outputs": [],
   "source": [
    "TO DO\n",
    "- Label trick: Change learning rate, sample sizes\n",
    "- XGBoost plus embeddings\n",
    "- Modify XGB scripts to use functions"
   ]
  },
  {
   "cell_type": "code",
   "execution_count": null,
   "id": "429c3e48-f954-47a7-aded-7b23ddd21bd9",
   "metadata": {},
   "outputs": [],
   "source": []
  }
 ],
 "metadata": {
  "kernelspec": {
   "display_name": "tf_p39",
   "language": "python",
   "name": "tf_p39"
  },
  "language_info": {
   "codemirror_mode": {
    "name": "ipython",
    "version": 3
   },
   "file_extension": ".py",
   "mimetype": "text/x-python",
   "name": "python",
   "nbconvert_exporter": "python",
   "pygments_lexer": "ipython3",
   "version": "3.8.18"
  }
 },
 "nbformat": 4,
 "nbformat_minor": 5
}
