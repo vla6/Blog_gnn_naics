{
 "cells": [
  {
   "cell_type": "code",
   "execution_count": 6,
   "id": "395c2ed9-318e-4be2-886b-61282d2085ba",
   "metadata": {
    "tags": []
   },
   "outputs": [],
   "source": [
    "# Modify the file 00_setup.py to define input/output file paths on your system\n",
    "# The information in 00_setup.py will be used across notebooks\n",
    "from importlib.machinery import SourceFileLoader\n",
    "setup = SourceFileLoader(\"setup\", \"./00_setup.py\").load_module()"
   ]
  },
  {
   "cell_type": "markdown",
   "id": "65368748-0ca7-44cc-a40f-09ae004de061",
   "metadata": {},
   "source": [
    "# Low Volume NAICS performance\n",
    "Look at the model performance vs. # of businesses per NAICS.  Examine NAICS codes present in the training and test data only.  Bucket NAICS by volume, and look at test dataset performance for businesses corresponding to the buckets. "
   ]
  },
  {
   "cell_type": "markdown",
   "id": "4ba148a6-16e3-4d60-9478-92aef8bb030f",
   "metadata": {},
   "source": [
    "*This script takes about 5 minutes on my MacBook Air*"
   ]
  },
  {
   "cell_type": "code",
   "execution_count": 7,
   "id": "ebb9974c-a2ab-4b1e-96f9-86f7696d4e68",
   "metadata": {},
   "outputs": [],
   "source": [
    "import pandas as pd\n",
    "import numpy as np\n",
    "import matplotlib.pyplot as plt"
   ]
  },
  {
   "cell_type": "code",
   "execution_count": 8,
   "id": "4469060d-2483-4d27-8a0c-44d857962276",
   "metadata": {},
   "outputs": [],
   "source": [
    "from pathlib import Path"
   ]
  },
  {
   "cell_type": "code",
   "execution_count": 9,
   "id": "7fc1bcc0-2d16-44f8-83d4-4b8acc59d6b2",
   "metadata": {},
   "outputs": [],
   "source": [
    "from sba_gnn.sba_gnn import sg_plot "
   ]
  },
  {
   "cell_type": "code",
   "execution_count": 256,
   "id": "3db5b8db-1478-4f38-bc6f-e68891f395fa",
   "metadata": {},
   "outputs": [],
   "source": [
    "sg_plot.plot_defaults()"
   ]
  },
  {
   "cell_type": "markdown",
   "id": "959cc4fa-0fdf-4286-9845-303d2092af0b",
   "metadata": {},
   "source": [
    "## Input Data"
   ]
  },
  {
   "cell_type": "code",
   "execution_count": 10,
   "id": "f6bc5cc5-b635-420f-852c-6cc9bba68a52",
   "metadata": {},
   "outputs": [],
   "source": [
    "sba_loans = pd.read_parquet(Path(setup.temp_path).joinpath('01_DATA_transformed.parquet'))"
   ]
  },
  {
   "cell_type": "code",
   "execution_count": 11,
   "id": "a5f6c362-c1ab-48d8-812b-2b970b06586b",
   "metadata": {},
   "outputs": [],
   "source": [
    "train_df = sba_loans[sba_loans['dset'] == 'train']\n",
    "test_df = sba_loans[sba_loans['dset'] == 'test']\n",
    "val_df = sba_loans[sba_loans['dset'] == 'val']"
   ]
  },
  {
   "cell_type": "markdown",
   "id": "645e0620-793a-49d6-b63e-a975be22f8f8",
   "metadata": {},
   "source": [
    "## NAICS volume and selection\n",
    "Find NAICS in the training data and get # of associated businesses.  "
   ]
  },
  {
   "cell_type": "code",
   "execution_count": 453,
   "id": "a651b71d-62e7-4aea-a56e-072c96451049",
   "metadata": {},
   "outputs": [],
   "source": [
    "naics_train_info = sba_loans[sba_loans['dset'] == 'train'][['NAICS']].value_counts().reset_index()"
   ]
  },
  {
   "cell_type": "code",
   "execution_count": 454,
   "id": "7161147f-c2cb-4206-8f94-ef23d34b64c7",
   "metadata": {},
   "outputs": [
    {
     "data": {
      "text/plain": [
       "425594"
      ]
     },
     "execution_count": 454,
     "metadata": {},
     "output_type": "execute_result"
    }
   ],
   "source": [
    "naics_train_info['count'].sum()"
   ]
  },
  {
   "cell_type": "code",
   "execution_count": 455,
   "id": "14f6c949-292b-4321-9bd3-4433ed0473fa",
   "metadata": {},
   "outputs": [],
   "source": [
    "naics_train_info['count_grp'] = pd.cut(naics_train_info['count'], [1, 50, 500, np.Inf],\n",
    "                                           include_lowest=True)"
   ]
  },
  {
   "cell_type": "code",
   "execution_count": 456,
   "id": "0f06bb26-4904-46ae-b49a-b27377089583",
   "metadata": {},
   "outputs": [
    {
     "data": {
      "text/html": [
       "<div>\n",
       "<style scoped>\n",
       "    .dataframe tbody tr th:only-of-type {\n",
       "        vertical-align: middle;\n",
       "    }\n",
       "\n",
       "    .dataframe tbody tr th {\n",
       "        vertical-align: top;\n",
       "    }\n",
       "\n",
       "    .dataframe thead th {\n",
       "        text-align: right;\n",
       "    }\n",
       "</style>\n",
       "<table border=\"1\" class=\"dataframe\">\n",
       "  <thead>\n",
       "    <tr style=\"text-align: right;\">\n",
       "      <th></th>\n",
       "      <th>NAICS</th>\n",
       "      <th>count</th>\n",
       "      <th>count_grp</th>\n",
       "    </tr>\n",
       "  </thead>\n",
       "  <tbody>\n",
       "    <tr>\n",
       "      <th>0</th>\n",
       "      <td>722110</td>\n",
       "      <td>18218</td>\n",
       "      <td>(500.0, inf]</td>\n",
       "    </tr>\n",
       "    <tr>\n",
       "      <th>1</th>\n",
       "      <td>722211</td>\n",
       "      <td>12712</td>\n",
       "      <td>(500.0, inf]</td>\n",
       "    </tr>\n",
       "    <tr>\n",
       "      <th>2</th>\n",
       "      <td>811111</td>\n",
       "      <td>9264</td>\n",
       "      <td>(500.0, inf]</td>\n",
       "    </tr>\n",
       "    <tr>\n",
       "      <th>3</th>\n",
       "      <td>621210</td>\n",
       "      <td>8997</td>\n",
       "      <td>(500.0, inf]</td>\n",
       "    </tr>\n",
       "    <tr>\n",
       "      <th>4</th>\n",
       "      <td>624410</td>\n",
       "      <td>6432</td>\n",
       "      <td>(500.0, inf]</td>\n",
       "    </tr>\n",
       "    <tr>\n",
       "      <th>...</th>\n",
       "      <td>...</td>\n",
       "      <td>...</td>\n",
       "      <td>...</td>\n",
       "    </tr>\n",
       "    <tr>\n",
       "      <th>1227</th>\n",
       "      <td>333241</td>\n",
       "      <td>1</td>\n",
       "      <td>(0.999, 50.0]</td>\n",
       "    </tr>\n",
       "    <tr>\n",
       "      <th>1228</th>\n",
       "      <td>333249</td>\n",
       "      <td>1</td>\n",
       "      <td>(0.999, 50.0]</td>\n",
       "    </tr>\n",
       "    <tr>\n",
       "      <th>1229</th>\n",
       "      <td>333318</td>\n",
       "      <td>1</td>\n",
       "      <td>(0.999, 50.0]</td>\n",
       "    </tr>\n",
       "    <tr>\n",
       "      <th>1230</th>\n",
       "      <td>551114</td>\n",
       "      <td>1</td>\n",
       "      <td>(0.999, 50.0]</td>\n",
       "    </tr>\n",
       "    <tr>\n",
       "      <th>1231</th>\n",
       "      <td>333413</td>\n",
       "      <td>1</td>\n",
       "      <td>(0.999, 50.0]</td>\n",
       "    </tr>\n",
       "  </tbody>\n",
       "</table>\n",
       "<p>1232 rows × 3 columns</p>\n",
       "</div>"
      ],
      "text/plain": [
       "       NAICS  count      count_grp\n",
       "0     722110  18218   (500.0, inf]\n",
       "1     722211  12712   (500.0, inf]\n",
       "2     811111   9264   (500.0, inf]\n",
       "3     621210   8997   (500.0, inf]\n",
       "4     624410   6432   (500.0, inf]\n",
       "...      ...    ...            ...\n",
       "1227  333241      1  (0.999, 50.0]\n",
       "1228  333249      1  (0.999, 50.0]\n",
       "1229  333318      1  (0.999, 50.0]\n",
       "1230  551114      1  (0.999, 50.0]\n",
       "1231  333413      1  (0.999, 50.0]\n",
       "\n",
       "[1232 rows x 3 columns]"
      ]
     },
     "execution_count": 456,
     "metadata": {},
     "output_type": "execute_result"
    }
   ],
   "source": [
    "naics_train_info"
   ]
  },
  {
   "cell_type": "code",
   "execution_count": 457,
   "id": "e2ea3aeb-5b4a-44d8-95f9-04f01e8a5214",
   "metadata": {},
   "outputs": [
    {
     "data": {
      "text/html": [
       "<div>\n",
       "<style scoped>\n",
       "    .dataframe tbody tr th:only-of-type {\n",
       "        vertical-align: middle;\n",
       "    }\n",
       "\n",
       "    .dataframe tbody tr th {\n",
       "        vertical-align: top;\n",
       "    }\n",
       "\n",
       "    .dataframe thead th {\n",
       "        text-align: right;\n",
       "    }\n",
       "</style>\n",
       "<table border=\"1\" class=\"dataframe\">\n",
       "  <thead>\n",
       "    <tr style=\"text-align: right;\">\n",
       "      <th></th>\n",
       "      <th>min</th>\n",
       "      <th>max</th>\n",
       "      <th>mean</th>\n",
       "      <th>count</th>\n",
       "      <th>sum</th>\n",
       "    </tr>\n",
       "    <tr>\n",
       "      <th>count_grp</th>\n",
       "      <th></th>\n",
       "      <th></th>\n",
       "      <th></th>\n",
       "      <th></th>\n",
       "      <th></th>\n",
       "    </tr>\n",
       "  </thead>\n",
       "  <tbody>\n",
       "    <tr>\n",
       "      <th>(0.999, 50.0]</th>\n",
       "      <td>1</td>\n",
       "      <td>50</td>\n",
       "      <td>18.422594</td>\n",
       "      <td>478</td>\n",
       "      <td>8806</td>\n",
       "    </tr>\n",
       "    <tr>\n",
       "      <th>(50.0, 500.0]</th>\n",
       "      <td>51</td>\n",
       "      <td>486</td>\n",
       "      <td>174.461672</td>\n",
       "      <td>574</td>\n",
       "      <td>100141</td>\n",
       "    </tr>\n",
       "    <tr>\n",
       "      <th>(500.0, inf]</th>\n",
       "      <td>501</td>\n",
       "      <td>18218</td>\n",
       "      <td>1759.150000</td>\n",
       "      <td>180</td>\n",
       "      <td>316647</td>\n",
       "    </tr>\n",
       "  </tbody>\n",
       "</table>\n",
       "</div>"
      ],
      "text/plain": [
       "               min    max         mean  count     sum\n",
       "count_grp                                            \n",
       "(0.999, 50.0]    1     50    18.422594    478    8806\n",
       "(50.0, 500.0]   51    486   174.461672    574  100141\n",
       "(500.0, inf]   501  18218  1759.150000    180  316647"
      ]
     },
     "execution_count": 457,
     "metadata": {},
     "output_type": "execute_result"
    }
   ],
   "source": [
    "naics_train_info.groupby('count_grp')['count'].agg(['min', 'max', 'mean', 'count', 'sum'])"
   ]
  },
  {
   "cell_type": "markdown",
   "id": "288e44a5-3233-46a8-a659-ddeeaf7d9a7c",
   "metadata": {},
   "source": [
    "##### Codes also in test"
   ]
  },
  {
   "cell_type": "code",
   "execution_count": 458,
   "id": "cad13caa-19a3-482f-94f6-fa2664321fdc",
   "metadata": {},
   "outputs": [],
   "source": [
    "naics_train_info = naics_train_info.merge(sba_loans[sba_loans['dset'] == 'test'][['NAICS']].drop_duplicates(),\n",
    "                                          on='NAICS')"
   ]
  },
  {
   "cell_type": "code",
   "execution_count": 459,
   "id": "8f6df613-fafd-4356-9f37-20ac0e5c1593",
   "metadata": {},
   "outputs": [
    {
     "data": {
      "text/html": [
       "<div>\n",
       "<style scoped>\n",
       "    .dataframe tbody tr th:only-of-type {\n",
       "        vertical-align: middle;\n",
       "    }\n",
       "\n",
       "    .dataframe tbody tr th {\n",
       "        vertical-align: top;\n",
       "    }\n",
       "\n",
       "    .dataframe thead th {\n",
       "        text-align: right;\n",
       "    }\n",
       "</style>\n",
       "<table border=\"1\" class=\"dataframe\">\n",
       "  <thead>\n",
       "    <tr style=\"text-align: right;\">\n",
       "      <th></th>\n",
       "      <th>min</th>\n",
       "      <th>max</th>\n",
       "      <th>mean</th>\n",
       "      <th>count</th>\n",
       "      <th>sum</th>\n",
       "    </tr>\n",
       "    <tr>\n",
       "      <th>count_grp</th>\n",
       "      <th></th>\n",
       "      <th></th>\n",
       "      <th></th>\n",
       "      <th></th>\n",
       "      <th></th>\n",
       "    </tr>\n",
       "  </thead>\n",
       "  <tbody>\n",
       "    <tr>\n",
       "      <th>(0.999, 50.0]</th>\n",
       "      <td>1</td>\n",
       "      <td>50</td>\n",
       "      <td>21.299252</td>\n",
       "      <td>401</td>\n",
       "      <td>8541</td>\n",
       "    </tr>\n",
       "    <tr>\n",
       "      <th>(50.0, 500.0]</th>\n",
       "      <td>51</td>\n",
       "      <td>486</td>\n",
       "      <td>174.461672</td>\n",
       "      <td>574</td>\n",
       "      <td>100141</td>\n",
       "    </tr>\n",
       "    <tr>\n",
       "      <th>(500.0, inf]</th>\n",
       "      <td>501</td>\n",
       "      <td>18218</td>\n",
       "      <td>1759.150000</td>\n",
       "      <td>180</td>\n",
       "      <td>316647</td>\n",
       "    </tr>\n",
       "  </tbody>\n",
       "</table>\n",
       "</div>"
      ],
      "text/plain": [
       "               min    max         mean  count     sum\n",
       "count_grp                                            \n",
       "(0.999, 50.0]    1     50    21.299252    401    8541\n",
       "(50.0, 500.0]   51    486   174.461672    574  100141\n",
       "(500.0, inf]   501  18218  1759.150000    180  316647"
      ]
     },
     "execution_count": 459,
     "metadata": {},
     "output_type": "execute_result"
    }
   ],
   "source": [
    "naics_train_info.groupby('count_grp')['count'].agg(['min', 'max', 'mean', 'count', 'sum'])"
   ]
  },
  {
   "cell_type": "markdown",
   "id": "9c592f47-9a83-4f3a-b788-7583ed7966a2",
   "metadata": {},
   "source": [
    "## Performance by code"
   ]
  },
  {
   "cell_type": "markdown",
   "id": "187246de-4273-45fb-9313-35c4bba14b7e",
   "metadata": {},
   "source": [
    "##### Function to take in a predictions file and get all metrics"
   ]
  },
  {
   "cell_type": "code",
   "execution_count": 460,
   "id": "253b0194-d347-440f-93e0-bc1b444b622f",
   "metadata": {},
   "outputs": [],
   "source": [
    "def pred_metrics(filename, \n",
    "                 naics_map = sba_loans[['NAICS', 'LoanNr_ChkDgt']],\n",
    "                naics_counts = naics_train_info[['NAICS', 'count_grp']]):\n",
    "    \"\"\" Open file, merge NAICS counts, and get metrics by NAICS count\"\"\"\n",
    "    pred_df = pd.read_parquet(filename) \\\n",
    "        [['LoanNr_ChkDgt', 'predict_prob', 'predict_bin', 'target', 'dset']]\n",
    "    \n",
    "    pred_sel = pred_df[pred_df['dset'] == 'test'] \\\n",
    "        .merge(naics_map[['NAICS', 'LoanNr_ChkDgt']], on='LoanNr_ChkDgt') \\\n",
    "        .merge(naics_counts[['NAICS', 'count_grp']], on='NAICS')\n",
    "\n",
    "    return pred_sel.groupby('count_grp') \\\n",
    "        .apply(lambda x: sg_plot.dset_metrics(x.target, x.predict_bin, x.predict_prob)) \\\n",
    "        .reset_index()"
   ]
  },
  {
   "cell_type": "markdown",
   "id": "0725075f-2b2e-47f0-b91c-272f2d037c3c",
   "metadata": {},
   "source": [
    "##### Apply function to many models\n",
    "Summarize by count group"
   ]
  },
  {
   "cell_type": "code",
   "execution_count": 461,
   "id": "3168c6f0-ed4f-4328-b8fe-8ba4d88afbe8",
   "metadata": {},
   "outputs": [],
   "source": [
    "model_dict = {'xgb baseline': Path(setup.temp_path).joinpath('03_DATA_combined_predictions.parquet'),\n",
    "              'xgb mean encoding':  Path(setup.temp_path).joinpath('04_DATA_combined_predictions.parquet'),\n",
    "              'xgb one hot':  Path(setup.temp_path).joinpath('05_DATA_combined_predictions.parquet'),\n",
    "              'xgb numeric NAICS':  Path(setup.temp_path).joinpath('06_DATA_combined_predictions.parquet'),\n",
    "              'nn baseline': Path(setup.temp_path).joinpath('11_DATA_predictions.parquet'),\n",
    "              'nn embed NAICS': Path(setup.temp_path).joinpath('12_DATA_predictions.parquet'),\n",
    "              'gnn': Path(setup.temp_path).joinpath('24_DATA_predictions_all.parquet'),\n",
    "              'xgb + nn embed': Path(setup.temp_path).joinpath('50_DATA_combined_predictions.parquet'),\n",
    "              'xgb + dgi embed': Path(setup.temp_path).joinpath('51_DATA_combined_predictions.parquet'),\n",
    "              'xgb + dgi embed, label': Path(setup.temp_path).joinpath('52_DATA_combined_predictions.parquet')}"
   ]
  },
  {
   "cell_type": "code",
   "execution_count": 462,
   "id": "5ea32474-2d8e-46f1-ae2e-d33100ec3bc6",
   "metadata": {},
   "outputs": [],
   "source": [
    "metrics_comb = pd.concat([pred_metrics(v) for k, v in model_dict.items()],\n",
    "                         keys = model_dict.keys()) \\\n",
    "    .reset_index(level=0) \\\n",
    "    .rename(columns={'level_0':'model'})"
   ]
  },
  {
   "cell_type": "code",
   "execution_count": 463,
   "id": "cf9b05e2-9b2b-4d64-bfed-aa5642ca1ab1",
   "metadata": {},
   "outputs": [],
   "source": [
    "metrics_comb.to_csv(Path(setup.temp_path).joinpath('55_REPORT_metrics_naics_low_volume.csv'),\n",
    "                    index=False)"
   ]
  },
  {
   "cell_type": "code",
   "execution_count": 464,
   "id": "2e0d95e8-1f9e-4a4c-8a1a-84ddaeb42005",
   "metadata": {},
   "outputs": [
    {
     "data": {
      "text/html": [
       "<div>\n",
       "<style scoped>\n",
       "    .dataframe tbody tr th:only-of-type {\n",
       "        vertical-align: middle;\n",
       "    }\n",
       "\n",
       "    .dataframe tbody tr th {\n",
       "        vertical-align: top;\n",
       "    }\n",
       "\n",
       "    .dataframe thead th {\n",
       "        text-align: right;\n",
       "    }\n",
       "</style>\n",
       "<table border=\"1\" class=\"dataframe\">\n",
       "  <thead>\n",
       "    <tr style=\"text-align: right;\">\n",
       "      <th></th>\n",
       "      <th>model</th>\n",
       "      <th>count_grp</th>\n",
       "      <th>accuracy_score</th>\n",
       "      <th>f1_score</th>\n",
       "      <th>precision_score</th>\n",
       "      <th>recall_score</th>\n",
       "      <th>average_precision_score</th>\n",
       "      <th>roc_auc_score</th>\n",
       "    </tr>\n",
       "  </thead>\n",
       "  <tbody>\n",
       "    <tr>\n",
       "      <th>0</th>\n",
       "      <td>xgb baseline</td>\n",
       "      <td>(0.999, 50.0]</td>\n",
       "      <td>0.687909</td>\n",
       "      <td>0.446166</td>\n",
       "      <td>0.324690</td>\n",
       "      <td>0.712871</td>\n",
       "      <td>0.377538</td>\n",
       "      <td>0.759512</td>\n",
       "    </tr>\n",
       "    <tr>\n",
       "      <th>1</th>\n",
       "      <td>xgb baseline</td>\n",
       "      <td>(50.0, 500.0]</td>\n",
       "      <td>0.628234</td>\n",
       "      <td>0.429700</td>\n",
       "      <td>0.306472</td>\n",
       "      <td>0.718664</td>\n",
       "      <td>0.350704</td>\n",
       "      <td>0.717602</td>\n",
       "    </tr>\n",
       "    <tr>\n",
       "      <th>2</th>\n",
       "      <td>xgb baseline</td>\n",
       "      <td>(500.0, inf]</td>\n",
       "      <td>0.601029</td>\n",
       "      <td>0.431523</td>\n",
       "      <td>0.306237</td>\n",
       "      <td>0.730297</td>\n",
       "      <td>0.352295</td>\n",
       "      <td>0.700597</td>\n",
       "    </tr>\n",
       "  </tbody>\n",
       "</table>\n",
       "</div>"
      ],
      "text/plain": [
       "          model      count_grp  accuracy_score  f1_score  precision_score  \\\n",
       "0  xgb baseline  (0.999, 50.0]        0.687909  0.446166         0.324690   \n",
       "1  xgb baseline  (50.0, 500.0]        0.628234  0.429700         0.306472   \n",
       "2  xgb baseline   (500.0, inf]        0.601029  0.431523         0.306237   \n",
       "\n",
       "   recall_score  average_precision_score  roc_auc_score  \n",
       "0      0.712871                 0.377538       0.759512  \n",
       "1      0.718664                 0.350704       0.717602  \n",
       "2      0.730297                 0.352295       0.700597  "
      ]
     },
     "execution_count": 464,
     "metadata": {},
     "output_type": "execute_result"
    }
   ],
   "source": [
    "metrics_comb.head(3)"
   ]
  },
  {
   "cell_type": "markdown",
   "id": "060e0a8a-2ff5-4638-b3f2-9381eed51768",
   "metadata": {},
   "source": [
    "## Plot selected metrics"
   ]
  },
  {
   "cell_type": "code",
   "execution_count": 465,
   "id": "bf78c749-9020-439d-b35e-7f8a6d6ab5f9",
   "metadata": {},
   "outputs": [],
   "source": [
    "overall_perf = 0.44"
   ]
  },
  {
   "cell_type": "code",
   "execution_count": 466,
   "id": "0d6975e1-cb5d-4442-8460-dd800c67cc9d",
   "metadata": {},
   "outputs": [],
   "source": [
    "sg_plot.plot_defaults()\n",
    "#plt.style.use('fast')"
   ]
  },
  {
   "cell_type": "code",
   "execution_count": 467,
   "id": "a0271b36-b65e-44de-bbf9-31e0acdb4d31",
   "metadata": {},
   "outputs": [],
   "source": [
    "#model_list = ['xgb baseline', 'nn baseline', 'nn embed NAICS', 'gnn']\n",
    "model_list = ['xgb baseline', 'xgb mean encoding', 'xgb numeric NAICS', 'nn baseline', 'nn embed NAICS',\n",
    "             'xgb + nn embed', 'xgb + dgi embed', 'xgb + dgi embed, label']"
   ]
  },
  {
   "cell_type": "code",
   "execution_count": 468,
   "id": "5788a70a-ee90-4656-9c38-8b085e4aa583",
   "metadata": {},
   "outputs": [],
   "source": [
    "metric = 'f1_score'"
   ]
  },
  {
   "cell_type": "code",
   "execution_count": 476,
   "id": "94125259-55d7-485d-8bac-495393a64e55",
   "metadata": {},
   "outputs": [],
   "source": [
    "#[metrics_comb['model'].isin(model_list)] \\\n",
    "plot_df = metrics_comb \\\n",
    "    [['count_grp', metric, 'model']] \\\n",
    "    .pivot(index='count_grp', columns='model', values=metric)"
   ]
  },
  {
   "cell_type": "code",
   "execution_count": 477,
   "id": "3b05c936-64ff-4934-8e8b-cb03ca5e4250",
   "metadata": {},
   "outputs": [],
   "source": [
    "#plot_df = plot_df.apply(lambda x: x-plot_df['xgb baseline'], axis=0)"
   ]
  },
  {
   "cell_type": "code",
   "execution_count": 478,
   "id": "3c7bc46e-4887-4bd3-8ee1-e37493110a45",
   "metadata": {},
   "outputs": [
    {
     "data": {
      "text/plain": [
       "count_grp\n",
       "(0.999, 50.0]    0.446166\n",
       "(50.0, 500.0]    0.429700\n",
       "(500.0, inf]     0.431523\n",
       "Name: xgb baseline, dtype: float64"
      ]
     },
     "execution_count": 478,
     "metadata": {},
     "output_type": "execute_result"
    }
   ],
   "source": [
    "plot_df['xgb baseline']"
   ]
  },
  {
   "cell_type": "code",
   "execution_count": null,
   "id": "1a56b077-a090-4cea-a801-a8f1a894ab59",
   "metadata": {},
   "outputs": [],
   "source": []
  },
  {
   "cell_type": "code",
   "execution_count": 479,
   "id": "a4fa924f-546a-4d94-965a-ae09d9cd929c",
   "metadata": {},
   "outputs": [
    {
     "data": {
      "text/html": [
       "<div>\n",
       "<style scoped>\n",
       "    .dataframe tbody tr th:only-of-type {\n",
       "        vertical-align: middle;\n",
       "    }\n",
       "\n",
       "    .dataframe tbody tr th {\n",
       "        vertical-align: top;\n",
       "    }\n",
       "\n",
       "    .dataframe thead th {\n",
       "        text-align: right;\n",
       "    }\n",
       "</style>\n",
       "<table border=\"1\" class=\"dataframe\">\n",
       "  <thead>\n",
       "    <tr style=\"text-align: right;\">\n",
       "      <th>model</th>\n",
       "      <th>gnn</th>\n",
       "      <th>nn baseline</th>\n",
       "      <th>nn embed NAICS</th>\n",
       "      <th>xgb + dgi embed</th>\n",
       "      <th>xgb + dgi embed, label</th>\n",
       "      <th>xgb + nn embed</th>\n",
       "      <th>xgb baseline</th>\n",
       "      <th>xgb mean encoding</th>\n",
       "      <th>xgb numeric NAICS</th>\n",
       "      <th>xgb one hot</th>\n",
       "    </tr>\n",
       "    <tr>\n",
       "      <th>count_grp</th>\n",
       "      <th></th>\n",
       "      <th></th>\n",
       "      <th></th>\n",
       "      <th></th>\n",
       "      <th></th>\n",
       "      <th></th>\n",
       "      <th></th>\n",
       "      <th></th>\n",
       "      <th></th>\n",
       "      <th></th>\n",
       "    </tr>\n",
       "  </thead>\n",
       "  <tbody>\n",
       "    <tr>\n",
       "      <th>(0.999, 50.0]</th>\n",
       "      <td>0.406848</td>\n",
       "      <td>0.441842</td>\n",
       "      <td>0.427061</td>\n",
       "      <td>0.441006</td>\n",
       "      <td>0.453333</td>\n",
       "      <td>0.439537</td>\n",
       "      <td>0.446166</td>\n",
       "      <td>0.439583</td>\n",
       "      <td>0.470693</td>\n",
       "      <td>0.451349</td>\n",
       "    </tr>\n",
       "    <tr>\n",
       "      <th>(50.0, 500.0]</th>\n",
       "      <td>0.425889</td>\n",
       "      <td>0.427659</td>\n",
       "      <td>0.449027</td>\n",
       "      <td>0.442302</td>\n",
       "      <td>0.441756</td>\n",
       "      <td>0.454707</td>\n",
       "      <td>0.429700</td>\n",
       "      <td>0.450799</td>\n",
       "      <td>0.436552</td>\n",
       "      <td>0.430467</td>\n",
       "    </tr>\n",
       "    <tr>\n",
       "      <th>(500.0, inf]</th>\n",
       "      <td>0.434309</td>\n",
       "      <td>0.428740</td>\n",
       "      <td>0.451873</td>\n",
       "      <td>0.448305</td>\n",
       "      <td>0.451896</td>\n",
       "      <td>0.452160</td>\n",
       "      <td>0.431523</td>\n",
       "      <td>0.452846</td>\n",
       "      <td>0.445674</td>\n",
       "      <td>0.440762</td>\n",
       "    </tr>\n",
       "  </tbody>\n",
       "</table>\n",
       "</div>"
      ],
      "text/plain": [
       "model               gnn  nn baseline  nn embed NAICS  xgb + dgi embed  \\\n",
       "count_grp                                                               \n",
       "(0.999, 50.0]  0.406848     0.441842        0.427061         0.441006   \n",
       "(50.0, 500.0]  0.425889     0.427659        0.449027         0.442302   \n",
       "(500.0, inf]   0.434309     0.428740        0.451873         0.448305   \n",
       "\n",
       "model          xgb + dgi embed, label  xgb + nn embed  xgb baseline  \\\n",
       "count_grp                                                             \n",
       "(0.999, 50.0]                0.453333        0.439537      0.446166   \n",
       "(50.0, 500.0]                0.441756        0.454707      0.429700   \n",
       "(500.0, inf]                 0.451896        0.452160      0.431523   \n",
       "\n",
       "model          xgb mean encoding  xgb numeric NAICS  xgb one hot  \n",
       "count_grp                                                         \n",
       "(0.999, 50.0]           0.439583           0.470693     0.451349  \n",
       "(50.0, 500.0]           0.450799           0.436552     0.430467  \n",
       "(500.0, inf]            0.452846           0.445674     0.440762  "
      ]
     },
     "execution_count": 479,
     "metadata": {},
     "output_type": "execute_result"
    }
   ],
   "source": [
    "plot_df"
   ]
  },
  {
   "cell_type": "code",
   "execution_count": 481,
   "id": "75965ef2-2a49-4d99-855b-8e9aa485396d",
   "metadata": {},
   "outputs": [],
   "source": [
    "import seaborn as sns"
   ]
  },
  {
   "cell_type": "code",
   "execution_count": 484,
   "id": "3e6bb68d-5186-414d-b263-4c4d12bdbca0",
   "metadata": {},
   "outputs": [
    {
     "data": {
      "image/png": "[encoded data removed]",
      "text/plain": [
       "<Figure size 640x440 with 2 Axes>"
      ]
     },
     "metadata": {},
     "output_type": "display_data"
    }
   ],
   "source": [
    "ax = sns.heatmap(plot_df.transpose(), linewidth=0.5, cmap=\"PuOr\")\n",
    "plt.show()"
   ]
  },
  {
   "cell_type": "code",
   "execution_count": null,
   "id": "e43abb06-c17d-4e0b-9821-33e8db9cc306",
   "metadata": {},
   "outputs": [],
   "source": [
    "TO DO\n",
    "- Fix GNN?  Make NAICS a node?  With large sampling, 2 hop?\n",
    "- Pretty up these plots - order model categories, etc.  Font sizes,etc.  Include more models\n",
    "- Preliminary embedding plots"
   ]
  }
 ],
 "metadata": {
  "kernelspec": {
   "display_name": "tf_p39",
   "language": "python",
   "name": "tf_p39"
  },
  "language_info": {
   "codemirror_mode": {
    "name": "ipython",
    "version": 3
   },
   "file_extension": ".py",
   "mimetype": "text/x-python",
   "name": "python",
   "nbconvert_exporter": "python",
   "pygments_lexer": "ipython3",
   "version": "3.8.18"
  }
 },
 "nbformat": 4,
 "nbformat_minor": 5
}
