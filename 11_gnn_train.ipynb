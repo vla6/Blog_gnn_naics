{
 "cells": [
  {
   "cell_type": "code",
   "execution_count": 1,
   "id": "9558ad80-0a27-4faa-a2ce-2681e0f7d057",
   "metadata": {},
   "outputs": [],
   "source": [
    "# Modify the file 00_setup.py to define input/output file paths on your system\n",
    "# The information in 00_setup.py will be used across notebooks\n",
    "from importlib.machinery import SourceFileLoader\n",
    "setup = SourceFileLoader(\"setup\", \"./00_setup.py\").load_module()"
   ]
  },
  {
   "cell_type": "markdown",
   "id": "221b12d5-86a5-4381-822f-4aab2908b25c",
   "metadata": {},
   "source": [
    "# GNN Training"
   ]
  },
  {
   "cell_type": "code",
   "execution_count": 2,
   "id": "ad99c574-4733-4485-acc2-9076637133e0",
   "metadata": {},
   "outputs": [],
   "source": [
    "import pandas as pd\n",
    "import numpy as np"
   ]
  },
  {
   "cell_type": "code",
   "execution_count": 3,
   "id": "52a0360b-dbff-41c4-b5a3-6c22a646da37",
   "metadata": {},
   "outputs": [],
   "source": [
    "from pathlib import Path\n",
    "import importlib\n",
    "import pickle"
   ]
  },
  {
   "cell_type": "code",
   "execution_count": 4,
   "id": "80e73f84-45bd-408d-b475-1620d661fadd",
   "metadata": {},
   "outputs": [
    {
     "name": "stderr",
     "output_type": "stream",
     "text": [
      "2023-12-05 21:41:31.074893: I metal_plugin/src/device/metal_device.cc:1154] Metal device set to: Apple M1\n",
      "2023-12-05 21:41:31.074931: I metal_plugin/src/device/metal_device.cc:296] systemMemory: 16.00 GB\n",
      "2023-12-05 21:41:31.074945: I metal_plugin/src/device/metal_device.cc:313] maxCacheSize: 5.33 GB\n",
      "2023-12-05 21:41:31.075464: I tensorflow/core/common_runtime/pluggable_device/pluggable_device_factory.cc:303] Could not identify NUMA node of platform GPU ID 0, defaulting to 0. Your kernel may not have been built with NUMA support.\n",
      "2023-12-05 21:41:31.075655: I tensorflow/core/common_runtime/pluggable_device/pluggable_device_factory.cc:269] Created TensorFlow device (/job:localhost/replica:0/task:0/device:GPU:0 with 0 MB memory) -> physical PluggableDevice (device: 0, name: METAL, pci bus id: <undefined>)\n"
     ]
    }
   ],
   "source": [
    "import stellargraph as sg\n",
    "#from stellargraph.mapper import GraphSAGENodeGenerator\n",
    "from stellargraph.layer import HinSAGE\n",
    "from stellargraph.mapper import HinSAGENodeGenerator\n",
    "from stellargraph.layer import HinSAGE, link_regression\n",
    "\n",
    "from tensorflow.keras import layers, optimizers, losses, metrics, Model\n",
    "from sklearn import preprocessing, feature_extraction, model_selection\n",
    "\n",
    "import tensorflow.keras.metrics as km\n",
    "from keras import initializers\n",
    "import tensorflow as tf"
   ]
  },
  {
   "cell_type": "code",
   "execution_count": 5,
   "id": "e259de0e-a437-4e95-ad30-208c0e2e70ca",
   "metadata": {},
   "outputs": [],
   "source": [
    "from stellargraph import StellarGraph"
   ]
  },
  {
   "cell_type": "code",
   "execution_count": 6,
   "id": "7a495db6-8a91-4b2b-82b5-d0302ffa1e89",
   "metadata": {},
   "outputs": [],
   "source": [
    "import matplotlib.pyplot as plt\n",
    "%matplotlib inline"
   ]
  },
  {
   "cell_type": "markdown",
   "id": "bfc81088-0ad2-4616-aac4-8147d0443a7c",
   "metadata": {},
   "source": [
    "## Import Data\n",
    "Import Stellargraph datasets for training and parameter tuning"
   ]
  },
  {
   "cell_type": "markdown",
   "id": "17f77fb1-788a-4f33-936a-8cfc2deb7586",
   "metadata": {},
   "source": [
    "##### Heterogeneous graphs"
   ]
  },
  {
   "cell_type": "code",
   "execution_count": 7,
   "id": "7989c788-278c-4052-a2f4-8ba4f5d93142",
   "metadata": {},
   "outputs": [],
   "source": [
    "# Validation plus training clients\n",
    "#with open(Path(setup.temp_path).joinpath('10_DATA_stellargraph_val.pkl'), 'rb') as fin:\n",
    "#      sba_graph_val = pickle.load(fin)"
   ]
  },
  {
   "cell_type": "code",
   "execution_count": 8,
   "id": "3c661818-cd68-47cd-b61a-9add9abea4a5",
   "metadata": {},
   "outputs": [],
   "source": [
    "# Training clients only\n",
    "with open(Path(setup.temp_path).joinpath('10_DATA_stellargraph_train.pkl'), 'rb') as fin:\n",
    "      sba_graph_train  = pickle.load(fin)"
   ]
  },
  {
   "cell_type": "code",
   "execution_count": 11,
   "id": "50ca9cab-8350-4db8-b8fc-5194648eb357",
   "metadata": {},
   "outputs": [
    {
     "name": "stdout",
     "output_type": "stream",
     "text": [
      "StellarGraph: Undirected multigraph\n",
      " Nodes: 448570, Edges: 448550\n",
      "\n",
      " Node types:\n",
      "  LoanNr_ChkDgt: [447252]\n",
      "    Features: float32 vector, length 10\n",
      "    Edge types: LoanNr_ChkDgt-loan_naics->NAICS\n",
      "  NAICS: [1298]\n",
      "    Features: float32 vector, length 9\n",
      "    Edge types: NAICS-loan_naics->LoanNr_ChkDgt, NAICS-naics_sector->NAICS_sector\n",
      "  NAICS_sector: [20]\n",
      "    Features: float32 vector, length 9\n",
      "    Edge types: NAICS_sector-naics_sector->NAICS\n",
      "\n",
      " Edge types:\n",
      "    LoanNr_ChkDgt-loan_naics->NAICS: [447252]\n",
      "        Weights: all 1 (default)\n",
      "        Features: none\n",
      "    NAICS-naics_sector->NAICS_sector: [1298]\n",
      "        Weights: all 1 (default)\n",
      "        Features: none\n"
     ]
    }
   ],
   "source": [
    "print(sba_graph_train.info())"
   ]
  },
  {
   "cell_type": "markdown",
   "id": "489f693f-4278-488a-bcff-9e84c2e5165f",
   "metadata": {},
   "source": [
    "##### Labels"
   ]
  },
  {
   "cell_type": "code",
   "execution_count": 12,
   "id": "4c59e736-9bf0-4016-94cc-2654608c91c9",
   "metadata": {},
   "outputs": [],
   "source": [
    "label_df = pd.read_parquet(Path(setup.temp_path).joinpath('10_DATA_combined_scaled_all.parquet')) \\\n",
    "    [['dset', 'LoanNr_ChkDgt', 'target']]"
   ]
  },
  {
   "cell_type": "code",
   "execution_count": 13,
   "id": "024d2ccb-b5ba-4dc6-a889-3e04b0d6ccdd",
   "metadata": {},
   "outputs": [],
   "source": [
    "train_ind = label_df[label_df['dset'] == 'train'].set_index('LoanNr_ChkDgt')['target']"
   ]
  },
  {
   "cell_type": "code",
   "execution_count": 14,
   "id": "bb94bc2f-f2d9-4a58-b841-64a060d6cdfa",
   "metadata": {},
   "outputs": [
    {
     "data": {
      "text/plain": [
       "LoanNr_ChkDgt\n",
       "5282874009    0\n",
       "2568556001    0\n",
       "2687465005    1\n",
       "9174473001    0\n",
       "3598634004    0\n",
       "             ..\n",
       "1933115007    0\n",
       "6285954009    0\n",
       "8838754008    0\n",
       "3058006005    0\n",
       "5064344005    0\n",
       "Name: target, Length: 447252, dtype: int64"
      ]
     },
     "execution_count": 14,
     "metadata": {},
     "output_type": "execute_result"
    }
   ],
   "source": [
    "train_ind"
   ]
  },
  {
   "cell_type": "markdown",
   "id": "cac8be4f-4bf9-4d73-9811-7e4e6ac5d2ac",
   "metadata": {},
   "source": [
    "##### Set seeds to setup"
   ]
  },
  {
   "cell_type": "code",
   "execution_count": 15,
   "id": "75665a6b-7aa0-4f97-aee3-2e7954ed9690",
   "metadata": {},
   "outputs": [],
   "source": [
    "# Set some seeds\n",
    "np.random.seed(16)\n",
    "tf.random.set_seed(16)"
   ]
  },
  {
   "cell_type": "markdown",
   "id": "84afb049-f464-498c-95b9-6b95feccbf69",
   "metadata": {},
   "source": [
    "## Train"
   ]
  },
  {
   "cell_type": "markdown",
   "id": "c0629292-49d1-4bdb-9685-481e1ef50491",
   "metadata": {},
   "source": [
    "##### Split the train dataset"
   ]
  },
  {
   "cell_type": "code",
   "execution_count": 16,
   "id": "c16586c9-f4ea-4549-9220-51fecb107ee8",
   "metadata": {},
   "outputs": [],
   "source": [
    "train_fix, train_test = model_selection.train_test_split(\n",
    "    train_ind.index, train_size=0.1, test_size=None, stratify=train_ind\n",
    ")"
   ]
  },
  {
   "cell_type": "markdown",
   "id": "62e8aa18-72e2-4c36-8ef8-1e560e0d1d00",
   "metadata": {},
   "source": [
    "##### Node Predictor Generator"
   ]
  },
  {
   "cell_type": "code",
   "execution_count": 18,
   "id": "4cb40aa6-46ba-448a-8d07-e9c8b5d314a0",
   "metadata": {},
   "outputs": [],
   "source": [
    "generator = HinSAGENodeGenerator(sba_graph_train, batch_size=20, \n",
    "                                 num_samples=[15, 10, 10], \n",
    "                                 head_node_type='LoanNr_ChkDgt',\n",
    "                                 seed=2454)"
   ]
  },
  {
   "cell_type": "code",
   "execution_count": 19,
   "id": "de6b25fe-3a7d-4fac-a28a-0886974268c9",
   "metadata": {},
   "outputs": [],
   "source": [
    "train_gen = generator.flow(train_fix, train_ind.loc[train_fix], shuffle=True)"
   ]
  },
  {
   "cell_type": "code",
   "execution_count": 20,
   "id": "3bbe805e-bd76-4399-b926-2ee81412d50e",
   "metadata": {},
   "outputs": [],
   "source": [
    "graphsage_model = HinSAGE(\n",
    "    layer_sizes=[8, 8, 8], generator=generator, bias=True, dropout=0.7,\n",
    ")"
   ]
  },
  {
   "cell_type": "code",
   "execution_count": 24,
   "id": "bd40eb68-ddbf-4727-9ae3-b680960296d3",
   "metadata": {},
   "outputs": [],
   "source": [
    "tf.random.set_seed(16)"
   ]
  },
  {
   "cell_type": "code",
   "execution_count": 25,
   "id": "56958da3-5725-4055-96a0-efd62ee468cb",
   "metadata": {},
   "outputs": [],
   "source": [
    "x_inp, x_out = graphsage_model.in_out_tensors()\n",
    "prediction = layers.Dense(units=1, activation=\"sigmoid\",\n",
    "                         kernel_initializer=initializers.glorot_uniform(seed=676))(x_out) "
   ]
  },
  {
   "cell_type": "code",
   "execution_count": 26,
   "id": "97be450a-2d08-4eb7-8a18-469817e19f40",
   "metadata": {},
   "outputs": [],
   "source": [
    "model = Model(inputs=x_inp, outputs=prediction)\n",
    "model.compile(\n",
    "    optimizer=tf.keras.optimizers.legacy.Adam(learning_rate=0.003),\n",
    "    loss = losses.binary_crossentropy,  \n",
    "    metrics=[\"acc\", km.AUC(curve='PR'), km.Precision(), km.Recall()],\n",
    ")"
   ]
  },
  {
   "cell_type": "code",
   "execution_count": 27,
   "id": "f01ca24b-eb5f-452c-870c-88e56ce29997",
   "metadata": {},
   "outputs": [],
   "source": [
    "train_test_gen = generator.flow(train_test, train_ind.loc[train_test], shuffle=False)"
   ]
  },
  {
   "cell_type": "code",
   "execution_count": null,
   "id": "c416e117-6c04-4f27-91af-074f5928c1bb",
   "metadata": {},
   "outputs": [
    {
     "name": "stdout",
     "output_type": "stream",
     "text": [
      "Epoch 1/20\n"
     ]
    },
    {
     "name": "stderr",
     "output_type": "stream",
     "text": [
      "2023-12-05 21:42:53.007962: I tensorflow/core/grappler/optimizers/custom_graph_optimizer_registry.cc:114] Plugin optimizer for device_type GPU is enabled.\n",
      "2023-12-05 22:02:07.669055: I tensorflow/core/grappler/optimizers/custom_graph_optimizer_registry.cc:114] Plugin optimizer for device_type GPU is enabled.\n"
     ]
    }
   ],
   "source": [
    "history = model.fit(\n",
    "    train_gen, epochs=20, validation_data=train_test_gen, verbose=2, shuffle=False\n",
    ")"
   ]
  },
  {
   "cell_type": "code",
   "execution_count": null,
   "id": "692a6849-fee6-4e1c-9ef2-f45b4b883d75",
   "metadata": {},
   "outputs": [],
   "source": [
    "with open(Path(setup.temp_path).joinpath('11_DATA_model.pkl'), 'wb') as fout:\n",
    "      pickle.dump(model, fout)"
   ]
  },
  {
   "cell_type": "code",
   "execution_count": null,
   "id": "fb160d7d-2454-4714-8a8a-ec55d3b59900",
   "metadata": {},
   "outputs": [],
   "source": [
    "with open(Path(setup.temp_path).joinpath('11_DATA_generator.pkl'), 'wb') as fout:\n",
    "      pickle.dump(generator, fout)"
   ]
  },
  {
   "cell_type": "code",
   "execution_count": null,
   "id": "e56b9328-39d5-4818-bf3f-186a7a7d53fa",
   "metadata": {},
   "outputs": [],
   "source": [
    "sg.utils.plot_history(history)"
   ]
  },
  {
   "cell_type": "code",
   "execution_count": null,
   "id": "ba94a832-71f9-4547-8425-d982c0dfa42f",
   "metadata": {},
   "outputs": [],
   "source": []
  },
  {
   "cell_type": "code",
   "execution_count": null,
   "id": "c118d26e-f1c6-4c75-ae14-bfa72a6e1e83",
   "metadata": {},
   "outputs": [],
   "source": [
    "train_test_metrics = model.evaluate(train_test_gen)"
   ]
  },
  {
   "cell_type": "code",
   "execution_count": null,
   "id": "8d947c3e-220e-4db9-b3fc-c8ef2a80f4fd",
   "metadata": {},
   "outputs": [],
   "source": [
    "train_metrics = model.evaluate(train_gen)"
   ]
  },
  {
   "cell_type": "code",
   "execution_count": null,
   "id": "0844026d-caa9-4310-b030-ce514852dea1",
   "metadata": {},
   "outputs": [],
   "source": [
    "metrics = pd.concat([pd.DataFrame(dict(zip(model.metrics_names, [[t] for t in train_metrics]))),\n",
    "                         pd.DataFrame(dict(zip(model.metrics_names, [[t] for t in test_metrics])))],\n",
    "                        keys=['train', 'test'])\n",
    "metrics.to_csv(Path(setup.temp_path).joinpath('11_REPORT_train_metrics.pkl'), index=True)\n",
    "metrics"
   ]
  },
  {
   "cell_type": "code",
   "execution_count": null,
   "id": "7a8b4207-3768-40ad-aeb7-ac88dd0f2993",
   "metadata": {},
   "outputs": [],
   "source": []
  }
 ],
 "metadata": {
  "kernelspec": {
   "display_name": "tf_p39",
   "language": "python",
   "name": "tf_p39"
  },
  "language_info": {
   "codemirror_mode": {
    "name": "ipython",
    "version": 3
   },
   "file_extension": ".py",
   "mimetype": "text/x-python",
   "name": "python",
   "nbconvert_exporter": "python",
   "pygments_lexer": "ipython3",
   "version": "3.8.18"
  }
 },
 "nbformat": 4,
 "nbformat_minor": 5
}
