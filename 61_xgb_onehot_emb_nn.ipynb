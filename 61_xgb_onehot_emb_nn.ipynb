{
 "cells": [
  {
   "cell_type": "code",
   "execution_count": 1,
   "id": "4c65f557-651f-4958-a567-a1b6b5a82b2b",
   "metadata": {
    "tags": []
   },
   "outputs": [],
   "source": [
    "# Modify the file 00_setup.py to define input/output file paths on your system\n",
    "# The information in 00_setup.py will be used across notebooks\n",
    "from importlib.machinery import SourceFileLoader\n",
    "setup = SourceFileLoader(\"setup\", \"./00_setup.py\").load_module()"
   ]
  },
  {
   "cell_type": "markdown",
   "id": "b01d0fdb-d4bf-465a-8541-997addc50b0c",
   "metadata": {},
   "source": [
    "# XGBoost with one-hot NAICS Clusters (NN Embed)\n",
    "XGBoost model, one hot encoded values from k means clustering"
   ]
  },
  {
   "cell_type": "markdown",
   "id": "56161f89-1f54-47f9-860d-3f945a941c1f",
   "metadata": {},
   "source": [
    "*This script takes about 5 minutes on my MacBook Air*"
   ]
  },
  {
   "cell_type": "code",
   "execution_count": 2,
   "id": "ec6b1778-7abc-4129-ab5f-ac2992bd8ca6",
   "metadata": {},
   "outputs": [],
   "source": [
    "import pandas as pd\n",
    "import numpy as np\n",
    "import xgboost as xgb\n",
    "import warnings\n",
    "import matplotlib.pyplot as plt\n",
    "import pickle"
   ]
  },
  {
   "cell_type": "code",
   "execution_count": 3,
   "id": "785af927-a634-4e34-84c4-7a532236f2ca",
   "metadata": {},
   "outputs": [],
   "source": [
    "from pathlib import Path"
   ]
  },
  {
   "cell_type": "code",
   "execution_count": 4,
   "id": "fd09527b-32dd-47fa-b62f-f9307f89f553",
   "metadata": {},
   "outputs": [],
   "source": [
    "import sklearn as sk\n",
    "from sklearn.model_selection import RandomizedSearchCV\n",
    "from sklearn.inspection import permutation_importance, partial_dependence\n",
    "from scikitplot.metrics import plot_lift_curve"
   ]
  },
  {
   "cell_type": "code",
   "execution_count": 5,
   "id": "0732ba40-8318-457b-b29f-f9b6de3b70aa",
   "metadata": {},
   "outputs": [],
   "source": [
    "from sba_gnn.sba_gnn import sg_plot "
   ]
  },
  {
   "cell_type": "markdown",
   "id": "d14a5947-6599-4253-acf3-91ddeffdedd3",
   "metadata": {},
   "source": [
    "## Import Processed Datasets"
   ]
  },
  {
   "cell_type": "markdown",
   "id": "b0e80daf-7e62-47ae-b9f4-e04468135f3e",
   "metadata": {},
   "source": [
    "##### Get loans data, append clusters"
   ]
  },
  {
   "cell_type": "code",
   "execution_count": 6,
   "id": "f6bc5cc5-b635-420f-852c-6cc9bba68a52",
   "metadata": {},
   "outputs": [],
   "source": [
    "sba_loans = pd.read_parquet(Path(setup.temp_path).joinpath('01_DATA_transformed.parquet'))"
   ]
  },
  {
   "cell_type": "code",
   "execution_count": 7,
   "id": "24785791-96b2-42a3-b6bb-307a60291c06",
   "metadata": {},
   "outputs": [
    {
     "data": {
      "text/plain": [
       "Index(['NAICS', 'NAICS_2', 'NAICS_sector', 'NAICS_sector_desc', 'NAICS_num',\n",
       "       'menc_NAICS', 'cenc_NAICS'],\n",
       "      dtype='object')"
      ]
     },
     "execution_count": 7,
     "metadata": {},
     "output_type": "execute_result"
    }
   ],
   "source": [
    "sba_loans.filter(like='NAICS').columns"
   ]
  },
  {
   "cell_type": "code",
   "execution_count": 8,
   "id": "5d9230bf-f527-42c9-832a-e353f32487ab",
   "metadata": {},
   "outputs": [],
   "source": [
    "embed_df = pd.read_parquet(Path(setup.temp_path).joinpath('60_DATA_embeddings_tsne_naics.parquet'))"
   ]
  },
  {
   "cell_type": "code",
   "execution_count": 9,
   "id": "f61f3bb8-2f9b-4d2d-a85d-c9c932521b47",
   "metadata": {},
   "outputs": [
    {
     "data": {
      "text/plain": [
       "10"
      ]
     },
     "execution_count": 9,
     "metadata": {},
     "output_type": "execute_result"
    }
   ],
   "source": [
    "clus_cols = [c for c in embed_df if c.startswith('NC__')]\n",
    "len(clus_cols)"
   ]
  },
  {
   "cell_type": "code",
   "execution_count": 10,
   "id": "3533831b-fe3e-46e7-bc21-b0d6f4fb689d",
   "metadata": {},
   "outputs": [],
   "source": [
    "sba_loans = sba_loans.drop(columns = clus_cols, errors='ignore') \\\n",
    "    .merge(embed_df[clus_cols + ['NAICS_orig']].rename(columns={'NAICS_orig':'NAICS'}),\n",
    "           on='NAICS', how='left')"
   ]
  },
  {
   "cell_type": "code",
   "execution_count": 11,
   "id": "042aae2d-f88d-4060-994f-629349a5bff1",
   "metadata": {},
   "outputs": [
    {
     "data": {
      "text/html": [
       "<div>\n",
       "<style scoped>\n",
       "    .dataframe tbody tr th:only-of-type {\n",
       "        vertical-align: middle;\n",
       "    }\n",
       "\n",
       "    .dataframe tbody tr th {\n",
       "        vertical-align: top;\n",
       "    }\n",
       "\n",
       "    .dataframe thead th {\n",
       "        text-align: right;\n",
       "    }\n",
       "</style>\n",
       "<table border=\"1\" class=\"dataframe\">\n",
       "  <thead>\n",
       "    <tr style=\"text-align: right;\">\n",
       "      <th></th>\n",
       "      <th>NC__0.0</th>\n",
       "      <th>NC__1.0</th>\n",
       "      <th>NC__2.0</th>\n",
       "      <th>NC__3.0</th>\n",
       "      <th>NC__4.0</th>\n",
       "      <th>NC__5.0</th>\n",
       "      <th>NC__6.0</th>\n",
       "      <th>NC__7.0</th>\n",
       "      <th>NC__8.0</th>\n",
       "      <th>NC__9.0</th>\n",
       "    </tr>\n",
       "  </thead>\n",
       "  <tbody>\n",
       "    <tr>\n",
       "      <th>count</th>\n",
       "      <td>688081.000000</td>\n",
       "      <td>688081.000000</td>\n",
       "      <td>688081.000000</td>\n",
       "      <td>688081.000000</td>\n",
       "      <td>688081.000000</td>\n",
       "      <td>688081.000000</td>\n",
       "      <td>688081.000000</td>\n",
       "      <td>688081.000000</td>\n",
       "      <td>688081.000000</td>\n",
       "      <td>688081.000000</td>\n",
       "    </tr>\n",
       "    <tr>\n",
       "      <th>mean</th>\n",
       "      <td>0.065322</td>\n",
       "      <td>0.082980</td>\n",
       "      <td>0.156245</td>\n",
       "      <td>0.044983</td>\n",
       "      <td>0.050587</td>\n",
       "      <td>0.016056</td>\n",
       "      <td>0.050464</td>\n",
       "      <td>0.027798</td>\n",
       "      <td>0.151261</td>\n",
       "      <td>0.259738</td>\n",
       "    </tr>\n",
       "    <tr>\n",
       "      <th>std</th>\n",
       "      <td>0.247094</td>\n",
       "      <td>0.275852</td>\n",
       "      <td>0.363087</td>\n",
       "      <td>0.207267</td>\n",
       "      <td>0.219153</td>\n",
       "      <td>0.125692</td>\n",
       "      <td>0.218900</td>\n",
       "      <td>0.164393</td>\n",
       "      <td>0.358304</td>\n",
       "      <td>0.438491</td>\n",
       "    </tr>\n",
       "    <tr>\n",
       "      <th>min</th>\n",
       "      <td>0.000000</td>\n",
       "      <td>0.000000</td>\n",
       "      <td>0.000000</td>\n",
       "      <td>0.000000</td>\n",
       "      <td>0.000000</td>\n",
       "      <td>0.000000</td>\n",
       "      <td>0.000000</td>\n",
       "      <td>0.000000</td>\n",
       "      <td>0.000000</td>\n",
       "      <td>0.000000</td>\n",
       "    </tr>\n",
       "    <tr>\n",
       "      <th>25%</th>\n",
       "      <td>0.000000</td>\n",
       "      <td>0.000000</td>\n",
       "      <td>0.000000</td>\n",
       "      <td>0.000000</td>\n",
       "      <td>0.000000</td>\n",
       "      <td>0.000000</td>\n",
       "      <td>0.000000</td>\n",
       "      <td>0.000000</td>\n",
       "      <td>0.000000</td>\n",
       "      <td>0.000000</td>\n",
       "    </tr>\n",
       "    <tr>\n",
       "      <th>50%</th>\n",
       "      <td>0.000000</td>\n",
       "      <td>0.000000</td>\n",
       "      <td>0.000000</td>\n",
       "      <td>0.000000</td>\n",
       "      <td>0.000000</td>\n",
       "      <td>0.000000</td>\n",
       "      <td>0.000000</td>\n",
       "      <td>0.000000</td>\n",
       "      <td>0.000000</td>\n",
       "      <td>0.000000</td>\n",
       "    </tr>\n",
       "    <tr>\n",
       "      <th>75%</th>\n",
       "      <td>0.000000</td>\n",
       "      <td>0.000000</td>\n",
       "      <td>0.000000</td>\n",
       "      <td>0.000000</td>\n",
       "      <td>0.000000</td>\n",
       "      <td>0.000000</td>\n",
       "      <td>0.000000</td>\n",
       "      <td>0.000000</td>\n",
       "      <td>0.000000</td>\n",
       "      <td>1.000000</td>\n",
       "    </tr>\n",
       "    <tr>\n",
       "      <th>max</th>\n",
       "      <td>1.000000</td>\n",
       "      <td>1.000000</td>\n",
       "      <td>1.000000</td>\n",
       "      <td>1.000000</td>\n",
       "      <td>1.000000</td>\n",
       "      <td>1.000000</td>\n",
       "      <td>1.000000</td>\n",
       "      <td>1.000000</td>\n",
       "      <td>1.000000</td>\n",
       "      <td>1.000000</td>\n",
       "    </tr>\n",
       "  </tbody>\n",
       "</table>\n",
       "</div>"
      ],
      "text/plain": [
       "             NC__0.0        NC__1.0        NC__2.0        NC__3.0  \\\n",
       "count  688081.000000  688081.000000  688081.000000  688081.000000   \n",
       "mean        0.065322       0.082980       0.156245       0.044983   \n",
       "std         0.247094       0.275852       0.363087       0.207267   \n",
       "min         0.000000       0.000000       0.000000       0.000000   \n",
       "25%         0.000000       0.000000       0.000000       0.000000   \n",
       "50%         0.000000       0.000000       0.000000       0.000000   \n",
       "75%         0.000000       0.000000       0.000000       0.000000   \n",
       "max         1.000000       1.000000       1.000000       1.000000   \n",
       "\n",
       "             NC__4.0        NC__5.0        NC__6.0        NC__7.0  \\\n",
       "count  688081.000000  688081.000000  688081.000000  688081.000000   \n",
       "mean        0.050587       0.016056       0.050464       0.027798   \n",
       "std         0.219153       0.125692       0.218900       0.164393   \n",
       "min         0.000000       0.000000       0.000000       0.000000   \n",
       "25%         0.000000       0.000000       0.000000       0.000000   \n",
       "50%         0.000000       0.000000       0.000000       0.000000   \n",
       "75%         0.000000       0.000000       0.000000       0.000000   \n",
       "max         1.000000       1.000000       1.000000       1.000000   \n",
       "\n",
       "             NC__8.0        NC__9.0  \n",
       "count  688081.000000  688081.000000  \n",
       "mean        0.151261       0.259738  \n",
       "std         0.358304       0.438491  \n",
       "min         0.000000       0.000000  \n",
       "25%         0.000000       0.000000  \n",
       "50%         0.000000       0.000000  \n",
       "75%         0.000000       1.000000  \n",
       "max         1.000000       1.000000  "
      ]
     },
     "execution_count": 11,
     "metadata": {},
     "output_type": "execute_result"
    }
   ],
   "source": [
    "sba_loans[clus_cols].describe()"
   ]
  },
  {
   "cell_type": "code",
   "execution_count": 12,
   "id": "a5f6c362-c1ab-48d8-812b-2b970b06586b",
   "metadata": {},
   "outputs": [],
   "source": [
    "train_df = sba_loans[sba_loans['dset'] == 'train'].copy()\n",
    "test_df = sba_loans[sba_loans['dset'] == 'test']\n",
    "val_df = sba_loans[sba_loans['dset'] == 'val']"
   ]
  },
  {
   "cell_type": "code",
   "execution_count": 13,
   "id": "7b1db53b-181c-450d-9f7e-be350bc3111f",
   "metadata": {},
   "outputs": [
    {
     "data": {
      "text/plain": [
       "(436120, 65)"
      ]
     },
     "execution_count": 13,
     "metadata": {},
     "output_type": "execute_result"
    }
   ],
   "source": [
    "train_df.shape"
   ]
  },
  {
   "cell_type": "markdown",
   "id": "f2160b50-1e22-44f0-915b-0241ebcd45d4",
   "metadata": {},
   "source": [
    "#### Set the predictor features.  Include one-hot NAICS"
   ]
  },
  {
   "cell_type": "code",
   "execution_count": 14,
   "id": "c07ddd4e-6987-454a-926a-3b59abf6caa6",
   "metadata": {},
   "outputs": [
    {
     "name": "stdout",
     "output_type": "stream",
     "text": [
      "['NoEmp', 'CreateJob', 'LowDoc', 'DisbursementGross', 'new_business', 'urban_flag', 'franchise_flag', 'NC__0.0', 'NC__1.0', 'NC__2.0', 'NC__3.0', 'NC__4.0', 'NC__5.0', 'NC__6.0', 'NC__7.0', 'NC__8.0', 'NC__9.0']\n"
     ]
    }
   ],
   "source": [
    "predictor_features = setup.predictor_features + clus_cols\n",
    "print(predictor_features)"
   ]
  },
  {
   "cell_type": "code",
   "execution_count": 15,
   "id": "2a4f4a9e-f7e5-4143-b1e4-b5fbb5f7280d",
   "metadata": {},
   "outputs": [
    {
     "data": {
      "text/html": [
       "<div>\n",
       "<style scoped>\n",
       "    .dataframe tbody tr th:only-of-type {\n",
       "        vertical-align: middle;\n",
       "    }\n",
       "\n",
       "    .dataframe tbody tr th {\n",
       "        vertical-align: top;\n",
       "    }\n",
       "\n",
       "    .dataframe thead th {\n",
       "        text-align: right;\n",
       "    }\n",
       "</style>\n",
       "<table border=\"1\" class=\"dataframe\">\n",
       "  <thead>\n",
       "    <tr style=\"text-align: right;\">\n",
       "      <th></th>\n",
       "      <th>NoEmp</th>\n",
       "      <th>CreateJob</th>\n",
       "      <th>LowDoc</th>\n",
       "      <th>DisbursementGross</th>\n",
       "      <th>new_business</th>\n",
       "      <th>urban_flag</th>\n",
       "      <th>franchise_flag</th>\n",
       "      <th>NC__0.0</th>\n",
       "      <th>NC__1.0</th>\n",
       "      <th>NC__2.0</th>\n",
       "      <th>NC__3.0</th>\n",
       "      <th>NC__4.0</th>\n",
       "      <th>NC__5.0</th>\n",
       "      <th>NC__6.0</th>\n",
       "      <th>NC__7.0</th>\n",
       "      <th>NC__8.0</th>\n",
       "      <th>NC__9.0</th>\n",
       "      <th>target</th>\n",
       "    </tr>\n",
       "  </thead>\n",
       "  <tbody>\n",
       "    <tr>\n",
       "      <th>NoEmp</th>\n",
       "      <td>1.000000</td>\n",
       "      <td>0.062158</td>\n",
       "      <td>-0.013926</td>\n",
       "      <td>0.095658</td>\n",
       "      <td>-0.041427</td>\n",
       "      <td>0.001610</td>\n",
       "      <td>0.006409</td>\n",
       "      <td>-0.016303</td>\n",
       "      <td>0.008755</td>\n",
       "      <td>-0.001148</td>\n",
       "      <td>0.000191</td>\n",
       "      <td>0.009203</td>\n",
       "      <td>0.013392</td>\n",
       "      <td>0.016727</td>\n",
       "      <td>-0.004171</td>\n",
       "      <td>0.002985</td>\n",
       "      <td>-0.013320</td>\n",
       "      <td>-0.027403</td>\n",
       "    </tr>\n",
       "    <tr>\n",
       "      <th>CreateJob</th>\n",
       "      <td>0.062158</td>\n",
       "      <td>1.000000</td>\n",
       "      <td>-0.062740</td>\n",
       "      <td>0.134686</td>\n",
       "      <td>0.039302</td>\n",
       "      <td>0.009062</td>\n",
       "      <td>0.050517</td>\n",
       "      <td>-0.008838</td>\n",
       "      <td>0.003010</td>\n",
       "      <td>-0.004286</td>\n",
       "      <td>-0.012730</td>\n",
       "      <td>0.006490</td>\n",
       "      <td>-0.002643</td>\n",
       "      <td>-0.000138</td>\n",
       "      <td>-0.012637</td>\n",
       "      <td>0.025527</td>\n",
       "      <td>-0.005862</td>\n",
       "      <td>-0.010002</td>\n",
       "    </tr>\n",
       "    <tr>\n",
       "      <th>LowDoc</th>\n",
       "      <td>-0.013926</td>\n",
       "      <td>-0.062740</td>\n",
       "      <td>1.000000</td>\n",
       "      <td>-0.133141</td>\n",
       "      <td>0.153034</td>\n",
       "      <td>-0.120001</td>\n",
       "      <td>0.040841</td>\n",
       "      <td>-0.049313</td>\n",
       "      <td>0.007011</td>\n",
       "      <td>0.011771</td>\n",
       "      <td>0.011230</td>\n",
       "      <td>-0.012102</td>\n",
       "      <td>0.004369</td>\n",
       "      <td>0.007204</td>\n",
       "      <td>-0.005771</td>\n",
       "      <td>-0.016235</td>\n",
       "      <td>0.025323</td>\n",
       "      <td>-0.079523</td>\n",
       "    </tr>\n",
       "    <tr>\n",
       "      <th>DisbursementGross</th>\n",
       "      <td>0.095658</td>\n",
       "      <td>0.134686</td>\n",
       "      <td>-0.133141</td>\n",
       "      <td>1.000000</td>\n",
       "      <td>-0.065443</td>\n",
       "      <td>-0.007016</td>\n",
       "      <td>0.085712</td>\n",
       "      <td>-0.068602</td>\n",
       "      <td>0.039203</td>\n",
       "      <td>0.034044</td>\n",
       "      <td>0.037285</td>\n",
       "      <td>0.145826</td>\n",
       "      <td>0.043900</td>\n",
       "      <td>0.015714</td>\n",
       "      <td>0.048301</td>\n",
       "      <td>-0.039799</td>\n",
       "      <td>-0.112463</td>\n",
       "      <td>-0.120788</td>\n",
       "    </tr>\n",
       "    <tr>\n",
       "      <th>new_business</th>\n",
       "      <td>-0.041427</td>\n",
       "      <td>0.039302</td>\n",
       "      <td>0.153034</td>\n",
       "      <td>-0.065443</td>\n",
       "      <td>1.000000</td>\n",
       "      <td>-0.047592</td>\n",
       "      <td>0.137325</td>\n",
       "      <td>-0.005291</td>\n",
       "      <td>-0.024386</td>\n",
       "      <td>-0.010386</td>\n",
       "      <td>0.004285</td>\n",
       "      <td>-0.028791</td>\n",
       "      <td>-0.018141</td>\n",
       "      <td>-0.033602</td>\n",
       "      <td>-0.015115</td>\n",
       "      <td>0.023212</td>\n",
       "      <td>0.048799</td>\n",
       "      <td>0.013878</td>\n",
       "    </tr>\n",
       "    <tr>\n",
       "      <th>urban_flag</th>\n",
       "      <td>0.001610</td>\n",
       "      <td>0.009062</td>\n",
       "      <td>-0.120001</td>\n",
       "      <td>-0.007016</td>\n",
       "      <td>-0.047592</td>\n",
       "      <td>1.000000</td>\n",
       "      <td>-0.006588</td>\n",
       "      <td>0.022199</td>\n",
       "      <td>0.018198</td>\n",
       "      <td>-0.002799</td>\n",
       "      <td>-0.037050</td>\n",
       "      <td>-0.018612</td>\n",
       "      <td>-0.014210</td>\n",
       "      <td>-0.014147</td>\n",
       "      <td>-0.005308</td>\n",
       "      <td>0.019373</td>\n",
       "      <td>-0.001896</td>\n",
       "      <td>0.053785</td>\n",
       "    </tr>\n",
       "    <tr>\n",
       "      <th>franchise_flag</th>\n",
       "      <td>0.006409</td>\n",
       "      <td>0.050517</td>\n",
       "      <td>0.040841</td>\n",
       "      <td>0.085712</td>\n",
       "      <td>0.137325</td>\n",
       "      <td>-0.006588</td>\n",
       "      <td>1.000000</td>\n",
       "      <td>-0.010759</td>\n",
       "      <td>-0.044642</td>\n",
       "      <td>0.002873</td>\n",
       "      <td>-0.045845</td>\n",
       "      <td>0.033828</td>\n",
       "      <td>-0.017579</td>\n",
       "      <td>-0.035818</td>\n",
       "      <td>-0.041060</td>\n",
       "      <td>0.005895</td>\n",
       "      <td>0.071212</td>\n",
       "      <td>-0.012731</td>\n",
       "    </tr>\n",
       "    <tr>\n",
       "      <th>NC__0.0</th>\n",
       "      <td>-0.016303</td>\n",
       "      <td>-0.008838</td>\n",
       "      <td>-0.049313</td>\n",
       "      <td>-0.068602</td>\n",
       "      <td>-0.005291</td>\n",
       "      <td>0.022199</td>\n",
       "      <td>-0.010759</td>\n",
       "      <td>1.000000</td>\n",
       "      <td>-0.088696</td>\n",
       "      <td>-0.127609</td>\n",
       "      <td>-0.063534</td>\n",
       "      <td>-0.067700</td>\n",
       "      <td>-0.037360</td>\n",
       "      <td>-0.067795</td>\n",
       "      <td>-0.049722</td>\n",
       "      <td>-0.124879</td>\n",
       "      <td>-0.176719</td>\n",
       "      <td>0.127974</td>\n",
       "    </tr>\n",
       "    <tr>\n",
       "      <th>NC__1.0</th>\n",
       "      <td>0.008755</td>\n",
       "      <td>0.003010</td>\n",
       "      <td>0.007011</td>\n",
       "      <td>0.039203</td>\n",
       "      <td>-0.024386</td>\n",
       "      <td>0.018198</td>\n",
       "      <td>-0.044642</td>\n",
       "      <td>-0.088696</td>\n",
       "      <td>1.000000</td>\n",
       "      <td>-0.145549</td>\n",
       "      <td>-0.072466</td>\n",
       "      <td>-0.077218</td>\n",
       "      <td>-0.042613</td>\n",
       "      <td>-0.077326</td>\n",
       "      <td>-0.056712</td>\n",
       "      <td>-0.142436</td>\n",
       "      <td>-0.201564</td>\n",
       "      <td>-0.052553</td>\n",
       "    </tr>\n",
       "    <tr>\n",
       "      <th>NC__2.0</th>\n",
       "      <td>-0.001148</td>\n",
       "      <td>-0.004286</td>\n",
       "      <td>0.011771</td>\n",
       "      <td>0.034044</td>\n",
       "      <td>-0.010386</td>\n",
       "      <td>-0.002799</td>\n",
       "      <td>0.002873</td>\n",
       "      <td>-0.127609</td>\n",
       "      <td>-0.145549</td>\n",
       "      <td>1.000000</td>\n",
       "      <td>-0.104258</td>\n",
       "      <td>-0.111096</td>\n",
       "      <td>-0.061308</td>\n",
       "      <td>-0.111251</td>\n",
       "      <td>-0.081593</td>\n",
       "      <td>-0.204926</td>\n",
       "      <td>-0.289995</td>\n",
       "      <td>-0.026948</td>\n",
       "    </tr>\n",
       "    <tr>\n",
       "      <th>NC__3.0</th>\n",
       "      <td>0.000191</td>\n",
       "      <td>-0.012730</td>\n",
       "      <td>0.011230</td>\n",
       "      <td>0.037285</td>\n",
       "      <td>0.004285</td>\n",
       "      <td>-0.037050</td>\n",
       "      <td>-0.045845</td>\n",
       "      <td>-0.063534</td>\n",
       "      <td>-0.072466</td>\n",
       "      <td>-0.104258</td>\n",
       "      <td>1.000000</td>\n",
       "      <td>-0.055312</td>\n",
       "      <td>-0.030524</td>\n",
       "      <td>-0.055389</td>\n",
       "      <td>-0.040624</td>\n",
       "      <td>-0.102028</td>\n",
       "      <td>-0.144382</td>\n",
       "      <td>-0.074715</td>\n",
       "    </tr>\n",
       "    <tr>\n",
       "      <th>NC__4.0</th>\n",
       "      <td>0.009203</td>\n",
       "      <td>0.006490</td>\n",
       "      <td>-0.012102</td>\n",
       "      <td>0.145826</td>\n",
       "      <td>-0.028791</td>\n",
       "      <td>-0.018612</td>\n",
       "      <td>0.033828</td>\n",
       "      <td>-0.067700</td>\n",
       "      <td>-0.077218</td>\n",
       "      <td>-0.111096</td>\n",
       "      <td>-0.055312</td>\n",
       "      <td>1.000000</td>\n",
       "      <td>-0.032526</td>\n",
       "      <td>-0.059022</td>\n",
       "      <td>-0.043288</td>\n",
       "      <td>-0.108719</td>\n",
       "      <td>-0.153851</td>\n",
       "      <td>-0.070026</td>\n",
       "    </tr>\n",
       "    <tr>\n",
       "      <th>NC__5.0</th>\n",
       "      <td>0.013392</td>\n",
       "      <td>-0.002643</td>\n",
       "      <td>0.004369</td>\n",
       "      <td>0.043900</td>\n",
       "      <td>-0.018141</td>\n",
       "      <td>-0.014210</td>\n",
       "      <td>-0.017579</td>\n",
       "      <td>-0.037360</td>\n",
       "      <td>-0.042613</td>\n",
       "      <td>-0.061308</td>\n",
       "      <td>-0.030524</td>\n",
       "      <td>-0.032526</td>\n",
       "      <td>1.000000</td>\n",
       "      <td>-0.032571</td>\n",
       "      <td>-0.023888</td>\n",
       "      <td>-0.059997</td>\n",
       "      <td>-0.084902</td>\n",
       "      <td>-0.050256</td>\n",
       "    </tr>\n",
       "    <tr>\n",
       "      <th>NC__6.0</th>\n",
       "      <td>0.016727</td>\n",
       "      <td>-0.000138</td>\n",
       "      <td>0.007204</td>\n",
       "      <td>0.015714</td>\n",
       "      <td>-0.033602</td>\n",
       "      <td>-0.014147</td>\n",
       "      <td>-0.035818</td>\n",
       "      <td>-0.067795</td>\n",
       "      <td>-0.077326</td>\n",
       "      <td>-0.111251</td>\n",
       "      <td>-0.055389</td>\n",
       "      <td>-0.059022</td>\n",
       "      <td>-0.032571</td>\n",
       "      <td>1.000000</td>\n",
       "      <td>-0.043348</td>\n",
       "      <td>-0.108871</td>\n",
       "      <td>-0.154065</td>\n",
       "      <td>-0.047039</td>\n",
       "    </tr>\n",
       "    <tr>\n",
       "      <th>NC__7.0</th>\n",
       "      <td>-0.004171</td>\n",
       "      <td>-0.012637</td>\n",
       "      <td>-0.005771</td>\n",
       "      <td>0.048301</td>\n",
       "      <td>-0.015115</td>\n",
       "      <td>-0.005308</td>\n",
       "      <td>-0.041060</td>\n",
       "      <td>-0.049722</td>\n",
       "      <td>-0.056712</td>\n",
       "      <td>-0.081593</td>\n",
       "      <td>-0.040624</td>\n",
       "      <td>-0.043288</td>\n",
       "      <td>-0.023888</td>\n",
       "      <td>-0.043348</td>\n",
       "      <td>1.000000</td>\n",
       "      <td>-0.079848</td>\n",
       "      <td>-0.112994</td>\n",
       "      <td>-0.073444</td>\n",
       "    </tr>\n",
       "    <tr>\n",
       "      <th>NC__8.0</th>\n",
       "      <td>0.002985</td>\n",
       "      <td>0.025527</td>\n",
       "      <td>-0.016235</td>\n",
       "      <td>-0.039799</td>\n",
       "      <td>0.023212</td>\n",
       "      <td>0.019373</td>\n",
       "      <td>0.005895</td>\n",
       "      <td>-0.124879</td>\n",
       "      <td>-0.142436</td>\n",
       "      <td>-0.204926</td>\n",
       "      <td>-0.102028</td>\n",
       "      <td>-0.108719</td>\n",
       "      <td>-0.059997</td>\n",
       "      <td>-0.108871</td>\n",
       "      <td>-0.079848</td>\n",
       "      <td>1.000000</td>\n",
       "      <td>-0.283792</td>\n",
       "      <td>0.084024</td>\n",
       "    </tr>\n",
       "    <tr>\n",
       "      <th>NC__9.0</th>\n",
       "      <td>-0.013320</td>\n",
       "      <td>-0.005862</td>\n",
       "      <td>0.025323</td>\n",
       "      <td>-0.112463</td>\n",
       "      <td>0.048799</td>\n",
       "      <td>-0.001896</td>\n",
       "      <td>0.071212</td>\n",
       "      <td>-0.176719</td>\n",
       "      <td>-0.201564</td>\n",
       "      <td>-0.289995</td>\n",
       "      <td>-0.144382</td>\n",
       "      <td>-0.153851</td>\n",
       "      <td>-0.084902</td>\n",
       "      <td>-0.154065</td>\n",
       "      <td>-0.112994</td>\n",
       "      <td>-0.283792</td>\n",
       "      <td>1.000000</td>\n",
       "      <td>0.051451</td>\n",
       "    </tr>\n",
       "    <tr>\n",
       "      <th>target</th>\n",
       "      <td>-0.027403</td>\n",
       "      <td>-0.010002</td>\n",
       "      <td>-0.079523</td>\n",
       "      <td>-0.120788</td>\n",
       "      <td>0.013878</td>\n",
       "      <td>0.053785</td>\n",
       "      <td>-0.012731</td>\n",
       "      <td>0.127974</td>\n",
       "      <td>-0.052553</td>\n",
       "      <td>-0.026948</td>\n",
       "      <td>-0.074715</td>\n",
       "      <td>-0.070026</td>\n",
       "      <td>-0.050256</td>\n",
       "      <td>-0.047039</td>\n",
       "      <td>-0.073444</td>\n",
       "      <td>0.084024</td>\n",
       "      <td>0.051451</td>\n",
       "      <td>1.000000</td>\n",
       "    </tr>\n",
       "  </tbody>\n",
       "</table>\n",
       "</div>"
      ],
      "text/plain": [
       "                      NoEmp  CreateJob    LowDoc  DisbursementGross  \\\n",
       "NoEmp              1.000000   0.062158 -0.013926           0.095658   \n",
       "CreateJob          0.062158   1.000000 -0.062740           0.134686   \n",
       "LowDoc            -0.013926  -0.062740  1.000000          -0.133141   \n",
       "DisbursementGross  0.095658   0.134686 -0.133141           1.000000   \n",
       "new_business      -0.041427   0.039302  0.153034          -0.065443   \n",
       "urban_flag         0.001610   0.009062 -0.120001          -0.007016   \n",
       "franchise_flag     0.006409   0.050517  0.040841           0.085712   \n",
       "NC__0.0           -0.016303  -0.008838 -0.049313          -0.068602   \n",
       "NC__1.0            0.008755   0.003010  0.007011           0.039203   \n",
       "NC__2.0           -0.001148  -0.004286  0.011771           0.034044   \n",
       "NC__3.0            0.000191  -0.012730  0.011230           0.037285   \n",
       "NC__4.0            0.009203   0.006490 -0.012102           0.145826   \n",
       "NC__5.0            0.013392  -0.002643  0.004369           0.043900   \n",
       "NC__6.0            0.016727  -0.000138  0.007204           0.015714   \n",
       "NC__7.0           -0.004171  -0.012637 -0.005771           0.048301   \n",
       "NC__8.0            0.002985   0.025527 -0.016235          -0.039799   \n",
       "NC__9.0           -0.013320  -0.005862  0.025323          -0.112463   \n",
       "target            -0.027403  -0.010002 -0.079523          -0.120788   \n",
       "\n",
       "                   new_business  urban_flag  franchise_flag   NC__0.0  \\\n",
       "NoEmp                 -0.041427    0.001610        0.006409 -0.016303   \n",
       "CreateJob              0.039302    0.009062        0.050517 -0.008838   \n",
       "LowDoc                 0.153034   -0.120001        0.040841 -0.049313   \n",
       "DisbursementGross     -0.065443   -0.007016        0.085712 -0.068602   \n",
       "new_business           1.000000   -0.047592        0.137325 -0.005291   \n",
       "urban_flag            -0.047592    1.000000       -0.006588  0.022199   \n",
       "franchise_flag         0.137325   -0.006588        1.000000 -0.010759   \n",
       "NC__0.0               -0.005291    0.022199       -0.010759  1.000000   \n",
       "NC__1.0               -0.024386    0.018198       -0.044642 -0.088696   \n",
       "NC__2.0               -0.010386   -0.002799        0.002873 -0.127609   \n",
       "NC__3.0                0.004285   -0.037050       -0.045845 -0.063534   \n",
       "NC__4.0               -0.028791   -0.018612        0.033828 -0.067700   \n",
       "NC__5.0               -0.018141   -0.014210       -0.017579 -0.037360   \n",
       "NC__6.0               -0.033602   -0.014147       -0.035818 -0.067795   \n",
       "NC__7.0               -0.015115   -0.005308       -0.041060 -0.049722   \n",
       "NC__8.0                0.023212    0.019373        0.005895 -0.124879   \n",
       "NC__9.0                0.048799   -0.001896        0.071212 -0.176719   \n",
       "target                 0.013878    0.053785       -0.012731  0.127974   \n",
       "\n",
       "                    NC__1.0   NC__2.0   NC__3.0   NC__4.0   NC__5.0   NC__6.0  \\\n",
       "NoEmp              0.008755 -0.001148  0.000191  0.009203  0.013392  0.016727   \n",
       "CreateJob          0.003010 -0.004286 -0.012730  0.006490 -0.002643 -0.000138   \n",
       "LowDoc             0.007011  0.011771  0.011230 -0.012102  0.004369  0.007204   \n",
       "DisbursementGross  0.039203  0.034044  0.037285  0.145826  0.043900  0.015714   \n",
       "new_business      -0.024386 -0.010386  0.004285 -0.028791 -0.018141 -0.033602   \n",
       "urban_flag         0.018198 -0.002799 -0.037050 -0.018612 -0.014210 -0.014147   \n",
       "franchise_flag    -0.044642  0.002873 -0.045845  0.033828 -0.017579 -0.035818   \n",
       "NC__0.0           -0.088696 -0.127609 -0.063534 -0.067700 -0.037360 -0.067795   \n",
       "NC__1.0            1.000000 -0.145549 -0.072466 -0.077218 -0.042613 -0.077326   \n",
       "NC__2.0           -0.145549  1.000000 -0.104258 -0.111096 -0.061308 -0.111251   \n",
       "NC__3.0           -0.072466 -0.104258  1.000000 -0.055312 -0.030524 -0.055389   \n",
       "NC__4.0           -0.077218 -0.111096 -0.055312  1.000000 -0.032526 -0.059022   \n",
       "NC__5.0           -0.042613 -0.061308 -0.030524 -0.032526  1.000000 -0.032571   \n",
       "NC__6.0           -0.077326 -0.111251 -0.055389 -0.059022 -0.032571  1.000000   \n",
       "NC__7.0           -0.056712 -0.081593 -0.040624 -0.043288 -0.023888 -0.043348   \n",
       "NC__8.0           -0.142436 -0.204926 -0.102028 -0.108719 -0.059997 -0.108871   \n",
       "NC__9.0           -0.201564 -0.289995 -0.144382 -0.153851 -0.084902 -0.154065   \n",
       "target            -0.052553 -0.026948 -0.074715 -0.070026 -0.050256 -0.047039   \n",
       "\n",
       "                    NC__7.0   NC__8.0   NC__9.0    target  \n",
       "NoEmp             -0.004171  0.002985 -0.013320 -0.027403  \n",
       "CreateJob         -0.012637  0.025527 -0.005862 -0.010002  \n",
       "LowDoc            -0.005771 -0.016235  0.025323 -0.079523  \n",
       "DisbursementGross  0.048301 -0.039799 -0.112463 -0.120788  \n",
       "new_business      -0.015115  0.023212  0.048799  0.013878  \n",
       "urban_flag        -0.005308  0.019373 -0.001896  0.053785  \n",
       "franchise_flag    -0.041060  0.005895  0.071212 -0.012731  \n",
       "NC__0.0           -0.049722 -0.124879 -0.176719  0.127974  \n",
       "NC__1.0           -0.056712 -0.142436 -0.201564 -0.052553  \n",
       "NC__2.0           -0.081593 -0.204926 -0.289995 -0.026948  \n",
       "NC__3.0           -0.040624 -0.102028 -0.144382 -0.074715  \n",
       "NC__4.0           -0.043288 -0.108719 -0.153851 -0.070026  \n",
       "NC__5.0           -0.023888 -0.059997 -0.084902 -0.050256  \n",
       "NC__6.0           -0.043348 -0.108871 -0.154065 -0.047039  \n",
       "NC__7.0            1.000000 -0.079848 -0.112994 -0.073444  \n",
       "NC__8.0           -0.079848  1.000000 -0.283792  0.084024  \n",
       "NC__9.0           -0.112994 -0.283792  1.000000  0.051451  \n",
       "target            -0.073444  0.084024  0.051451  1.000000  "
      ]
     },
     "execution_count": 15,
     "metadata": {},
     "output_type": "execute_result"
    }
   ],
   "source": [
    "train_df[predictor_features + ['target']].corr()"
   ]
  },
  {
   "cell_type": "code",
   "execution_count": 16,
   "id": "1f8c475d-7ead-4f92-a19b-326343528f59",
   "metadata": {},
   "outputs": [],
   "source": [
    "with open(Path(setup.temp_path).joinpath('61_DATA_features_predict.pkl'), 'wb') as fout:\n",
    "    pickle.dump(predictor_features, fout)"
   ]
  },
  {
   "cell_type": "markdown",
   "id": "2b204a92-d109-4f6d-87a5-3d5dc05d2e5f",
   "metadata": {},
   "source": [
    "## Model Fit"
   ]
  },
  {
   "cell_type": "code",
   "execution_count": 17,
   "id": "c07828e0-5f5e-433f-9d96-fe78e9d668ff",
   "metadata": {},
   "outputs": [
    {
     "data": {
      "text/plain": [
       "{'subsample': 0.8,\n",
       " 'scale_pos_weight': 1.0,\n",
       " 'reg_lambda': 0.01,\n",
       " 'reg_alpha': 0.001,\n",
       " 'min_child_weight': 50,\n",
       " 'max_depth': 8,\n",
       " 'learning_rate': 0.1,\n",
       " 'gamma': 2}"
      ]
     },
     "execution_count": 17,
     "metadata": {},
     "output_type": "execute_result"
    }
   ],
   "source": [
    "best_params_df = pd.read_csv(Path(setup.temp_path).joinpath('03_REPORT_fit_parameter_selected.csv'))\n",
    "best_params = best_params_df.to_dict(orient='records')[0]\n",
    "best_params"
   ]
  },
  {
   "cell_type": "markdown",
   "id": "09bb1219-1d1e-432e-a2ca-be94168cf7ba",
   "metadata": {},
   "source": [
    "##### Fit using pre-determined parameters"
   ]
  },
  {
   "cell_type": "code",
   "execution_count": 18,
   "id": "3eeec4bc-9ca2-4d11-87b8-a81a7fa93383",
   "metadata": {},
   "outputs": [],
   "source": [
    "xgb_params = dict(best_params, \n",
    "                   **{'objective':\"binary:logistic\", 'n_estimators':setup.xgb_n_estimators})"
   ]
  },
  {
   "cell_type": "code",
   "execution_count": 19,
   "id": "7cb431ab-94aa-4922-8107-e97f0e50314f",
   "metadata": {},
   "outputs": [],
   "source": [
    "xgb_model = xgb.XGBClassifier(objective=\"binary:logistic\",\n",
    "                             n_estimators = setup.xgb_n_estimators)"
   ]
  },
  {
   "cell_type": "code",
   "execution_count": 20,
   "id": "1e17a637-89fd-4ee7-8e4f-a219133d2d75",
   "metadata": {},
   "outputs": [],
   "source": [
    "xgb_model = xgb_model.set_params(**xgb_params)"
   ]
  },
  {
   "cell_type": "code",
   "execution_count": 21,
   "id": "c3d7133b-075a-48a2-b9c8-c004dab7be61",
   "metadata": {},
   "outputs": [
    {
     "name": "stdout",
     "output_type": "stream",
     "text": [
      "[0]\tvalidation_0-logloss:0.50050\tvalidation_1-logloss:0.50414\n",
      "[1]\tvalidation_0-logloss:0.49314\tvalidation_1-logloss:0.49707\n",
      "[2]\tvalidation_0-logloss:0.48698\tvalidation_1-logloss:0.49120\n",
      "[3]\tvalidation_0-logloss:0.48180\tvalidation_1-logloss:0.48628\n",
      "[4]\tvalidation_0-logloss:0.47737\tvalidation_1-logloss:0.48209\n",
      "[5]\tvalidation_0-logloss:0.47371\tvalidation_1-logloss:0.47860\n",
      "[6]\tvalidation_0-logloss:0.47058\tvalidation_1-logloss:0.47562\n",
      "[7]\tvalidation_0-logloss:0.46796\tvalidation_1-logloss:0.47310\n",
      "[8]\tvalidation_0-logloss:0.46567\tvalidation_1-logloss:0.47097\n",
      "[9]\tvalidation_0-logloss:0.46343\tvalidation_1-logloss:0.46882\n",
      "[10]\tvalidation_0-logloss:0.46177\tvalidation_1-logloss:0.46726\n",
      "[11]\tvalidation_0-logloss:0.46011\tvalidation_1-logloss:0.46576\n",
      "[12]\tvalidation_0-logloss:0.45858\tvalidation_1-logloss:0.46430\n",
      "[13]\tvalidation_0-logloss:0.45729\tvalidation_1-logloss:0.46311\n",
      "[14]\tvalidation_0-logloss:0.45615\tvalidation_1-logloss:0.46207\n",
      "[15]\tvalidation_0-logloss:0.45528\tvalidation_1-logloss:0.46129\n",
      "[16]\tvalidation_0-logloss:0.45434\tvalidation_1-logloss:0.46044\n",
      "[17]\tvalidation_0-logloss:0.45358\tvalidation_1-logloss:0.45984\n",
      "[18]\tvalidation_0-logloss:0.45292\tvalidation_1-logloss:0.45921\n",
      "[19]\tvalidation_0-logloss:0.45239\tvalidation_1-logloss:0.45878\n",
      "[20]\tvalidation_0-logloss:0.45187\tvalidation_1-logloss:0.45832\n",
      "[21]\tvalidation_0-logloss:0.45138\tvalidation_1-logloss:0.45791\n",
      "[22]\tvalidation_0-logloss:0.45099\tvalidation_1-logloss:0.45760\n",
      "[23]\tvalidation_0-logloss:0.45058\tvalidation_1-logloss:0.45734\n",
      "[24]\tvalidation_0-logloss:0.45030\tvalidation_1-logloss:0.45714\n",
      "[25]\tvalidation_0-logloss:0.45002\tvalidation_1-logloss:0.45693\n",
      "[26]\tvalidation_0-logloss:0.44977\tvalidation_1-logloss:0.45675\n",
      "[27]\tvalidation_0-logloss:0.44952\tvalidation_1-logloss:0.45656\n",
      "[28]\tvalidation_0-logloss:0.44933\tvalidation_1-logloss:0.45643\n",
      "[29]\tvalidation_0-logloss:0.44913\tvalidation_1-logloss:0.45633\n"
     ]
    },
    {
     "data": {
      "text/html": [
       "<style>#sk-container-id-1 {color: black;}#sk-container-id-1 pre{padding: 0;}#sk-container-id-1 div.sk-toggleable {background-color: white;}#sk-container-id-1 label.sk-toggleable__label {cursor: pointer;display: block;width: 100%;margin-bottom: 0;padding: 0.3em;box-sizing: border-box;text-align: center;}#sk-container-id-1 label.sk-toggleable__label-arrow:before {content: \"▸\";float: left;margin-right: 0.25em;color: #696969;}#sk-container-id-1 label.sk-toggleable__label-arrow:hover:before {color: black;}#sk-container-id-1 div.sk-estimator:hover label.sk-toggleable__label-arrow:before {color: black;}#sk-container-id-1 div.sk-toggleable__content {max-height: 0;max-width: 0;overflow: hidden;text-align: left;background-color: #f0f8ff;}#sk-container-id-1 div.sk-toggleable__content pre {margin: 0.2em;color: black;border-radius: 0.25em;background-color: #f0f8ff;}#sk-container-id-1 input.sk-toggleable__control:checked~div.sk-toggleable__content {max-height: 200px;max-width: 100%;overflow: auto;}#sk-container-id-1 input.sk-toggleable__control:checked~label.sk-toggleable__label-arrow:before {content: \"▾\";}#sk-container-id-1 div.sk-estimator input.sk-toggleable__control:checked~label.sk-toggleable__label {background-color: #d4ebff;}#sk-container-id-1 div.sk-label input.sk-toggleable__control:checked~label.sk-toggleable__label {background-color: #d4ebff;}#sk-container-id-1 input.sk-hidden--visually {border: 0;clip: rect(1px 1px 1px 1px);clip: rect(1px, 1px, 1px, 1px);height: 1px;margin: -1px;overflow: hidden;padding: 0;position: absolute;width: 1px;}#sk-container-id-1 div.sk-estimator {font-family: monospace;background-color: #f0f8ff;border: 1px dotted black;border-radius: 0.25em;box-sizing: border-box;margin-bottom: 0.5em;}#sk-container-id-1 div.sk-estimator:hover {background-color: #d4ebff;}#sk-container-id-1 div.sk-parallel-item::after {content: \"\";width: 100%;border-bottom: 1px solid gray;flex-grow: 1;}#sk-container-id-1 div.sk-label:hover label.sk-toggleable__label {background-color: #d4ebff;}#sk-container-id-1 div.sk-serial::before {content: \"\";position: absolute;border-left: 1px solid gray;box-sizing: border-box;top: 0;bottom: 0;left: 50%;z-index: 0;}#sk-container-id-1 div.sk-serial {display: flex;flex-direction: column;align-items: center;background-color: white;padding-right: 0.2em;padding-left: 0.2em;position: relative;}#sk-container-id-1 div.sk-item {position: relative;z-index: 1;}#sk-container-id-1 div.sk-parallel {display: flex;align-items: stretch;justify-content: center;background-color: white;position: relative;}#sk-container-id-1 div.sk-item::before, #sk-container-id-1 div.sk-parallel-item::before {content: \"\";position: absolute;border-left: 1px solid gray;box-sizing: border-box;top: 0;bottom: 0;left: 50%;z-index: -1;}#sk-container-id-1 div.sk-parallel-item {display: flex;flex-direction: column;z-index: 1;position: relative;background-color: white;}#sk-container-id-1 div.sk-parallel-item:first-child::after {align-self: flex-end;width: 50%;}#sk-container-id-1 div.sk-parallel-item:last-child::after {align-self: flex-start;width: 50%;}#sk-container-id-1 div.sk-parallel-item:only-child::after {width: 0;}#sk-container-id-1 div.sk-dashed-wrapped {border: 1px dashed gray;margin: 0 0.4em 0.5em 0.4em;box-sizing: border-box;padding-bottom: 0.4em;background-color: white;}#sk-container-id-1 div.sk-label label {font-family: monospace;font-weight: bold;display: inline-block;line-height: 1.2em;}#sk-container-id-1 div.sk-label-container {text-align: center;}#sk-container-id-1 div.sk-container {/* jupyter's `normalize.less` sets `[hidden] { display: none; }` but bootstrap.min.css set `[hidden] { display: none !important; }` so we also need the `!important` here to be able to override the default hidden behavior on the sphinx rendered scikit-learn.org. See: https://github.com/scikit-learn/scikit-learn/issues/21755 */display: inline-block !important;position: relative;}#sk-container-id-1 div.sk-text-repr-fallback {display: none;}</style><div id=\"sk-container-id-1\" class=\"sk-top-container\"><div class=\"sk-text-repr-fallback\"><pre>XGBClassifier(base_score=None, booster=None, callbacks=None,\n",
       "              colsample_bylevel=None, colsample_bynode=None,\n",
       "              colsample_bytree=None, device=None, early_stopping_rounds=None,\n",
       "              enable_categorical=False, eval_metric=None, feature_types=None,\n",
       "              gamma=2, grow_policy=None, importance_type=None,\n",
       "              interaction_constraints=None, learning_rate=0.1, max_bin=None,\n",
       "              max_cat_threshold=None, max_cat_to_onehot=None,\n",
       "              max_delta_step=None, max_depth=8, max_leaves=None,\n",
       "              min_child_weight=50, missing=nan, monotone_constraints=None,\n",
       "              multi_strategy=None, n_estimators=30, n_jobs=None,\n",
       "              num_parallel_tree=None, random_state=None, ...)</pre><b>In a Jupyter environment, please rerun this cell to show the HTML representation or trust the notebook. <br />On GitHub, the HTML representation is unable to render, please try loading this page with nbviewer.org.</b></div><div class=\"sk-container\" hidden><div class=\"sk-item\"><div class=\"sk-estimator sk-toggleable\"><input class=\"sk-toggleable__control sk-hidden--visually\" id=\"sk-estimator-id-1\" type=\"checkbox\" checked><label for=\"sk-estimator-id-1\" class=\"sk-toggleable__label sk-toggleable__label-arrow\">XGBClassifier</label><div class=\"sk-toggleable__content\"><pre>XGBClassifier(base_score=None, booster=None, callbacks=None,\n",
       "              colsample_bylevel=None, colsample_bynode=None,\n",
       "              colsample_bytree=None, device=None, early_stopping_rounds=None,\n",
       "              enable_categorical=False, eval_metric=None, feature_types=None,\n",
       "              gamma=2, grow_policy=None, importance_type=None,\n",
       "              interaction_constraints=None, learning_rate=0.1, max_bin=None,\n",
       "              max_cat_threshold=None, max_cat_to_onehot=None,\n",
       "              max_delta_step=None, max_depth=8, max_leaves=None,\n",
       "              min_child_weight=50, missing=nan, monotone_constraints=None,\n",
       "              multi_strategy=None, n_estimators=30, n_jobs=None,\n",
       "              num_parallel_tree=None, random_state=None, ...)</pre></div></div></div></div></div>"
      ],
      "text/plain": [
       "XGBClassifier(base_score=None, booster=None, callbacks=None,\n",
       "              colsample_bylevel=None, colsample_bynode=None,\n",
       "              colsample_bytree=None, device=None, early_stopping_rounds=None,\n",
       "              enable_categorical=False, eval_metric=None, feature_types=None,\n",
       "              gamma=2, grow_policy=None, importance_type=None,\n",
       "              interaction_constraints=None, learning_rate=0.1, max_bin=None,\n",
       "              max_cat_threshold=None, max_cat_to_onehot=None,\n",
       "              max_delta_step=None, max_depth=8, max_leaves=None,\n",
       "              min_child_weight=50, missing=nan, monotone_constraints=None,\n",
       "              multi_strategy=None, n_estimators=30, n_jobs=None,\n",
       "              num_parallel_tree=None, random_state=None, ...)"
      ]
     },
     "execution_count": 21,
     "metadata": {},
     "output_type": "execute_result"
    }
   ],
   "source": [
    "xgb_model.fit(train_df[predictor_features], train_df['target'],\n",
    "              eval_set = [(train_df[predictor_features], train_df['target']),\n",
    "                         (val_df[predictor_features], val_df['target'])])"
   ]
  },
  {
   "cell_type": "markdown",
   "id": "0913a102-a730-4b94-9977-e584df764d64",
   "metadata": {},
   "source": [
    "##### Save the model"
   ]
  },
  {
   "cell_type": "code",
   "execution_count": 22,
   "id": "af21dd7c-09d4-407f-9960-0748ba8f2247",
   "metadata": {},
   "outputs": [],
   "source": [
    "xgb_model.save_model(Path(setup.temp_path).joinpath('61_MODEL_xgboost.json'))"
   ]
  },
  {
   "cell_type": "code",
   "execution_count": 23,
   "id": "8e5d3e7d-0bd5-4252-b287-c9cc65f7a132",
   "metadata": {},
   "outputs": [],
   "source": [
    "with open(Path(setup.temp_path).joinpath('61_MODEL_xgboost.pkl'), 'wb') as po:\n",
    "    pickle.dump(xgb_model, po)"
   ]
  },
  {
   "cell_type": "markdown",
   "id": "f34ad059-70dc-4672-adff-0d961fc74b07",
   "metadata": {},
   "source": [
    "## Probability Predictions"
   ]
  },
  {
   "cell_type": "code",
   "execution_count": 24,
   "id": "6a7c8509-0109-4f8e-a466-d6e21164012c",
   "metadata": {},
   "outputs": [],
   "source": [
    "pred_df = pd.concat([sba_loans[['LoanNr_ChkDgt', 'dset', 'target', 'dset_naics_holdout']].reset_index(),\n",
    "                     pd.DataFrame({'predict_prob':\n",
    "                                   xgb_model.predict_proba(sba_loans[predictor_features])[:,1]})],\n",
    "                    axis=1) \\\n",
    "    .set_index('index')"
   ]
  },
  {
   "cell_type": "code",
   "execution_count": 25,
   "id": "7084012d-b68a-4ca4-b714-160f8d564500",
   "metadata": {},
   "outputs": [
    {
     "data": {
      "text/html": [
       "<div>\n",
       "<style scoped>\n",
       "    .dataframe tbody tr th:only-of-type {\n",
       "        vertical-align: middle;\n",
       "    }\n",
       "\n",
       "    .dataframe tbody tr th {\n",
       "        vertical-align: top;\n",
       "    }\n",
       "\n",
       "    .dataframe thead th {\n",
       "        text-align: right;\n",
       "    }\n",
       "</style>\n",
       "<table border=\"1\" class=\"dataframe\">\n",
       "  <thead>\n",
       "    <tr style=\"text-align: right;\">\n",
       "      <th></th>\n",
       "      <th>mean</th>\n",
       "      <th>std</th>\n",
       "      <th>min</th>\n",
       "      <th>max</th>\n",
       "      <th>median</th>\n",
       "    </tr>\n",
       "    <tr>\n",
       "      <th>target</th>\n",
       "      <th></th>\n",
       "      <th></th>\n",
       "      <th></th>\n",
       "      <th></th>\n",
       "      <th></th>\n",
       "    </tr>\n",
       "  </thead>\n",
       "  <tbody>\n",
       "    <tr>\n",
       "      <th>0</th>\n",
       "      <td>0.181000</td>\n",
       "      <td>0.112334</td>\n",
       "      <td>0.016411</td>\n",
       "      <td>0.678323</td>\n",
       "      <td>0.167873</td>\n",
       "    </tr>\n",
       "    <tr>\n",
       "      <th>1</th>\n",
       "      <td>0.275525</td>\n",
       "      <td>0.107056</td>\n",
       "      <td>0.016411</td>\n",
       "      <td>0.678323</td>\n",
       "      <td>0.281272</td>\n",
       "    </tr>\n",
       "  </tbody>\n",
       "</table>\n",
       "</div>"
      ],
      "text/plain": [
       "            mean       std       min       max    median\n",
       "target                                                  \n",
       "0       0.181000  0.112334  0.016411  0.678323  0.167873\n",
       "1       0.275525  0.107056  0.016411  0.678323  0.281272"
      ]
     },
     "execution_count": 25,
     "metadata": {},
     "output_type": "execute_result"
    }
   ],
   "source": [
    "pred_df.groupby('target')['predict_prob'].agg(['mean', 'std', 'min', 'max', 'median'])"
   ]
  },
  {
   "cell_type": "markdown",
   "id": "d33cb4dc-6c89-4a37-98c7-d3a666abc4a5",
   "metadata": {},
   "source": [
    "## Decision Threshold\n",
    "Max f1, on training data"
   ]
  },
  {
   "cell_type": "code",
   "execution_count": 26,
   "id": "d7727498-825f-4f53-882f-cfcce730b1fc",
   "metadata": {},
   "outputs": [],
   "source": [
    "pred_train_df = pred_df[pred_df['dset'] == 'train']"
   ]
  },
  {
   "cell_type": "code",
   "execution_count": 27,
   "id": "7b553798-eead-48f8-b14b-5f036d9183d9",
   "metadata": {},
   "outputs": [],
   "source": [
    "thresh_tune_data = sg_plot.get_f1_frame(pred_train_df['target'], \n",
    "                                        pred_train_df['predict_prob'])"
   ]
  },
  {
   "cell_type": "code",
   "execution_count": 28,
   "id": "7a1cde01-a30b-475f-8fd7-409b13946c6d",
   "metadata": {},
   "outputs": [],
   "source": [
    "thresh_tune_data.to_csv(Path(setup.temp_path).joinpath('61_REPORT_thresh_tune.csv'), index=False)"
   ]
  },
  {
   "cell_type": "code",
   "execution_count": 29,
   "id": "947a487c-e71d-433c-bbf0-2ed7e57a908a",
   "metadata": {},
   "outputs": [
    {
     "name": "stdout",
     "output_type": "stream",
     "text": [
      "0.24\n"
     ]
    },
    {
     "data": {
      "text/html": [
       "<div>\n",
       "<style scoped>\n",
       "    .dataframe tbody tr th:only-of-type {\n",
       "        vertical-align: middle;\n",
       "    }\n",
       "\n",
       "    .dataframe tbody tr th {\n",
       "        vertical-align: top;\n",
       "    }\n",
       "\n",
       "    .dataframe thead th {\n",
       "        text-align: right;\n",
       "    }\n",
       "</style>\n",
       "<table border=\"1\" class=\"dataframe\">\n",
       "  <thead>\n",
       "    <tr style=\"text-align: right;\">\n",
       "      <th></th>\n",
       "      <th>thresh</th>\n",
       "      <th>f1</th>\n",
       "    </tr>\n",
       "  </thead>\n",
       "  <tbody>\n",
       "    <tr>\n",
       "      <th>12</th>\n",
       "      <td>0.24</td>\n",
       "      <td>0.454443</td>\n",
       "    </tr>\n",
       "    <tr>\n",
       "      <th>11</th>\n",
       "      <td>0.22</td>\n",
       "      <td>0.453857</td>\n",
       "    </tr>\n",
       "  </tbody>\n",
       "</table>\n",
       "</div>"
      ],
      "text/plain": [
       "    thresh        f1\n",
       "12    0.24  0.454443\n",
       "11    0.22  0.453857"
      ]
     },
     "execution_count": 29,
     "metadata": {},
     "output_type": "execute_result"
    }
   ],
   "source": [
    "thresh_head = thresh_tune_data.sort_values('f1', ascending=False).head(2)\n",
    "best_thresh = thresh_head['thresh'].iloc[0]\n",
    "print(best_thresh)\n",
    "thresh_head"
   ]
  },
  {
   "cell_type": "markdown",
   "id": "1ee5330e-c1a7-4310-afbe-be9bc0d26f43",
   "metadata": {},
   "source": [
    "##### Apply decision threshold\n",
    "All datasets"
   ]
  },
  {
   "cell_type": "code",
   "execution_count": 30,
   "id": "f0d4c1cf-6d5b-49e9-9123-a067697a9e39",
   "metadata": {},
   "outputs": [],
   "source": [
    "pred_df['predict_bin'] = np.where(pred_df['predict_prob'] >= best_thresh, 1, 0)"
   ]
  },
  {
   "cell_type": "code",
   "execution_count": 31,
   "id": "8253c32c-0438-47b9-8570-7cde6f7f5590",
   "metadata": {},
   "outputs": [
    {
     "data": {
      "text/plain": [
       "predict_bin\n",
       "0    418219\n",
       "1    269862\n",
       "Name: count, dtype: int64"
      ]
     },
     "execution_count": 31,
     "metadata": {},
     "output_type": "execute_result"
    }
   ],
   "source": [
    "pred_df['predict_bin'].value_counts()"
   ]
  },
  {
   "cell_type": "code",
   "execution_count": 32,
   "id": "dbb46f4a-a5ef-4fd6-9da4-30de4a00334d",
   "metadata": {},
   "outputs": [],
   "source": [
    "pred_df.to_parquet(Path(setup.temp_path).joinpath('61_DATA_combined_predictions.parquet'))"
   ]
  },
  {
   "cell_type": "markdown",
   "id": "0ab860d0-eddc-4f63-b853-88da15d451f4",
   "metadata": {},
   "source": [
    "## Metrics"
   ]
  },
  {
   "cell_type": "code",
   "execution_count": 33,
   "id": "f2801964-124e-425f-b4cb-9bcf1cf3f04a",
   "metadata": {},
   "outputs": [
    {
     "data": {
      "text/html": [
       "<div>\n",
       "<style scoped>\n",
       "    .dataframe tbody tr th:only-of-type {\n",
       "        vertical-align: middle;\n",
       "    }\n",
       "\n",
       "    .dataframe tbody tr th {\n",
       "        vertical-align: top;\n",
       "    }\n",
       "\n",
       "    .dataframe thead th {\n",
       "        text-align: right;\n",
       "    }\n",
       "</style>\n",
       "<table border=\"1\" class=\"dataframe\">\n",
       "  <thead>\n",
       "    <tr style=\"text-align: right;\">\n",
       "      <th></th>\n",
       "      <th>dset</th>\n",
       "      <th>accuracy_score</th>\n",
       "      <th>f1_score</th>\n",
       "      <th>precision_score</th>\n",
       "      <th>recall_score</th>\n",
       "      <th>average_precision_score</th>\n",
       "      <th>roc_auc_score</th>\n",
       "      <th>dset_naics_holdout</th>\n",
       "    </tr>\n",
       "  </thead>\n",
       "  <tbody>\n",
       "    <tr>\n",
       "      <th>0</th>\n",
       "      <td>test</td>\n",
       "      <td>0.717407</td>\n",
       "      <td>0.392975</td>\n",
       "      <td>0.339182</td>\n",
       "      <td>0.467047</td>\n",
       "      <td>0.352366</td>\n",
       "      <td>0.719498</td>\n",
       "      <td>NaN</td>\n",
       "    </tr>\n",
       "    <tr>\n",
       "      <th>1</th>\n",
       "      <td>train</td>\n",
       "      <td>0.654324</td>\n",
       "      <td>0.454443</td>\n",
       "      <td>0.335626</td>\n",
       "      <td>0.703487</td>\n",
       "      <td>0.387077</td>\n",
       "      <td>0.734097</td>\n",
       "      <td>NaN</td>\n",
       "    </tr>\n",
       "    <tr>\n",
       "      <th>2</th>\n",
       "      <td>val</td>\n",
       "      <td>0.650662</td>\n",
       "      <td>0.450618</td>\n",
       "      <td>0.334432</td>\n",
       "      <td>0.690511</td>\n",
       "      <td>0.379610</td>\n",
       "      <td>0.725422</td>\n",
       "      <td>NaN</td>\n",
       "    </tr>\n",
       "    <tr>\n",
       "      <th>0</th>\n",
       "      <td>test</td>\n",
       "      <td>0.649307</td>\n",
       "      <td>0.448602</td>\n",
       "      <td>0.331518</td>\n",
       "      <td>0.693544</td>\n",
       "      <td>0.374882</td>\n",
       "      <td>0.726223</td>\n",
       "      <td>0.0</td>\n",
       "    </tr>\n",
       "    <tr>\n",
       "      <th>1</th>\n",
       "      <td>test</td>\n",
       "      <td>0.815240</td>\n",
       "      <td>0.162614</td>\n",
       "      <td>0.460900</td>\n",
       "      <td>0.098723</td>\n",
       "      <td>0.343861</td>\n",
       "      <td>0.727376</td>\n",
       "      <td>1.0</td>\n",
       "    </tr>\n",
       "  </tbody>\n",
       "</table>\n",
       "</div>"
      ],
      "text/plain": [
       "    dset  accuracy_score  f1_score  precision_score  recall_score  \\\n",
       "0   test        0.717407  0.392975         0.339182      0.467047   \n",
       "1  train        0.654324  0.454443         0.335626      0.703487   \n",
       "2    val        0.650662  0.450618         0.334432      0.690511   \n",
       "0   test        0.649307  0.448602         0.331518      0.693544   \n",
       "1   test        0.815240  0.162614         0.460900      0.098723   \n",
       "\n",
       "   average_precision_score  roc_auc_score  dset_naics_holdout  \n",
       "0                 0.352366       0.719498                 NaN  \n",
       "1                 0.387077       0.734097                 NaN  \n",
       "2                 0.379610       0.725422                 NaN  \n",
       "0                 0.374882       0.726223                 0.0  \n",
       "1                 0.343861       0.727376                 1.0  "
      ]
     },
     "execution_count": 33,
     "metadata": {},
     "output_type": "execute_result"
    }
   ],
   "source": [
    "metrics_dset_df = pred_df.groupby('dset') \\\n",
    "    .apply(lambda x: sg_plot.dset_metrics(x.target, x.predict_bin, x.predict_prob)) \\\n",
    "    .reset_index()\n",
    "metrics_test_df = pred_df[pred_df['dset'] == 'test'] \\\n",
    "    .groupby(['dset', 'dset_naics_holdout']) \\\n",
    "    .apply(lambda x: sg_plot.dset_metrics(x.target, x.predict_bin, x.predict_prob)) \\\n",
    "    .reset_index()\n",
    "metrics_df = pd.concat([metrics_dset_df, metrics_test_df])\n",
    "metrics_df.to_csv(Path(setup.temp_path).joinpath('61_REPORT_metrics.csv'), index=True)\n",
    "metrics_df"
   ]
  },
  {
   "cell_type": "markdown",
   "id": "3d906270-4264-4b0b-9f50-dcef8f75a5fd",
   "metadata": {},
   "source": [
    "## Lift\n",
    "Test data"
   ]
  },
  {
   "cell_type": "code",
   "execution_count": 34,
   "id": "82d9c0ab-8989-450d-a2b1-7997ca636052",
   "metadata": {
    "tags": []
   },
   "outputs": [],
   "source": [
    "pred_test_df = pred_df[pred_df['dset'] == 'test']"
   ]
  },
  {
   "cell_type": "code",
   "execution_count": 35,
   "id": "c01f5279-1151-4a8d-9b21-e12d4092f3c1",
   "metadata": {},
   "outputs": [
    {
     "data": {
      "image/png": "[encoded data removed]",
      "text/plain": [
       "<Figure size 400x300 with 1 Axes>"
      ]
     },
     "metadata": {},
     "output_type": "display_data"
    }
   ],
   "source": [
    "plot_lift_curve(pred_test_df['target'], \n",
    "                pd.concat([1-pred_test_df['predict_prob'], pred_test_df['predict_prob']], axis=1), \n",
    "                title='Lift Curve', ax=None, figsize=(4,3), \n",
    "                title_fontsize='large', text_fontsize='medium')\n",
    "plt.gca().legend(loc='upper right')\n",
    "plt.gcf().savefig(Path(setup.temp_path).joinpath('61_PLOT_lift_curve.png'),bbox_inches='tight')"
   ]
  },
  {
   "cell_type": "markdown",
   "id": "04994f41-3c98-412a-bb2f-11e5ae22b432",
   "metadata": {},
   "source": [
    "## Feature Importance "
   ]
  },
  {
   "cell_type": "markdown",
   "id": "926af7df-e407-484b-bd86-ae7d76a46392",
   "metadata": {},
   "source": [
    "##### XGBoost gain"
   ]
  },
  {
   "cell_type": "code",
   "execution_count": 36,
   "id": "ec3f6e1f-2b29-4b46-ac12-7a8451a3a45b",
   "metadata": {},
   "outputs": [],
   "source": [
    "feat_impgain = pd.DataFrame(xgb_model.get_booster().get_score(importance_type='gain'),\n",
    "                                     index=['importance']).T \\\n",
    "    .sort_values('importance', ascending=False)"
   ]
  },
  {
   "cell_type": "code",
   "execution_count": 37,
   "id": "9586c637-7add-4401-b61c-37abd55b11b4",
   "metadata": {},
   "outputs": [],
   "source": [
    "feat_impgain.to_csv(Path(setup.temp_path).joinpath('61_REPORT_importance_gain.csv'), index=True)"
   ]
  },
  {
   "cell_type": "code",
   "execution_count": 38,
   "id": "311e111f-d8e5-4a52-8adc-6a7c5f9daa8f",
   "metadata": {},
   "outputs": [
    {
     "data": {
      "text/html": [
       "<div>\n",
       "<style scoped>\n",
       "    .dataframe tbody tr th:only-of-type {\n",
       "        vertical-align: middle;\n",
       "    }\n",
       "\n",
       "    .dataframe tbody tr th {\n",
       "        vertical-align: top;\n",
       "    }\n",
       "\n",
       "    .dataframe thead th {\n",
       "        text-align: right;\n",
       "    }\n",
       "</style>\n",
       "<table border=\"1\" class=\"dataframe\">\n",
       "  <thead>\n",
       "    <tr style=\"text-align: right;\">\n",
       "      <th></th>\n",
       "      <th>importance</th>\n",
       "    </tr>\n",
       "  </thead>\n",
       "  <tbody>\n",
       "    <tr>\n",
       "      <th>urban_flag</th>\n",
       "      <td>605.569275</td>\n",
       "    </tr>\n",
       "    <tr>\n",
       "      <th>NC__0.0</th>\n",
       "      <td>134.410843</td>\n",
       "    </tr>\n",
       "    <tr>\n",
       "      <th>LowDoc</th>\n",
       "      <td>132.427017</td>\n",
       "    </tr>\n",
       "    <tr>\n",
       "      <th>NC__8.0</th>\n",
       "      <td>99.735306</td>\n",
       "    </tr>\n",
       "    <tr>\n",
       "      <th>NC__2.0</th>\n",
       "      <td>98.541359</td>\n",
       "    </tr>\n",
       "  </tbody>\n",
       "</table>\n",
       "</div>"
      ],
      "text/plain": [
       "            importance\n",
       "urban_flag  605.569275\n",
       "NC__0.0     134.410843\n",
       "LowDoc      132.427017\n",
       "NC__8.0      99.735306\n",
       "NC__2.0      98.541359"
      ]
     },
     "execution_count": 38,
     "metadata": {},
     "output_type": "execute_result"
    }
   ],
   "source": [
    "feat_impgain.head()"
   ]
  },
  {
   "cell_type": "code",
   "execution_count": 39,
   "id": "9c88564a-7289-4c49-b2cd-b97338d1b042",
   "metadata": {},
   "outputs": [
    {
     "data": {
      "image/png": "[encoded data removed]",
      "text/plain": [
       "<Figure size 640x480 with 1 Axes>"
      ]
     },
     "metadata": {},
     "output_type": "display_data"
    }
   ],
   "source": [
    "feat_impgain.plot(kind='barh', legend=None)\n",
    "plt.gca().invert_yaxis()\n",
    "plt.xlabel('gain importance')\n",
    "plt.gcf().savefig(Path(setup.temp_path).joinpath('61_PLOT_importance_gain.png'))"
   ]
  },
  {
   "cell_type": "markdown",
   "id": "27e5fb90-f305-40ff-acaf-285d7d056c15",
   "metadata": {},
   "source": [
    "##### Permutation Importance"
   ]
  },
  {
   "cell_type": "code",
   "execution_count": 40,
   "id": "e2c1c123-20d0-423d-b684-585c0a5d6d2b",
   "metadata": {},
   "outputs": [],
   "source": [
    "perm_importance = permutation_importance(xgb_model, \n",
    "                                         train_df[predictor_features],  train_df['target'],\n",
    "                                         n_repeats=30, scoring = 'average_precision')"
   ]
  },
  {
   "cell_type": "code",
   "execution_count": 41,
   "id": "ab0df42e-af4e-46b1-b0cf-630877137678",
   "metadata": {},
   "outputs": [],
   "source": [
    "perm_importance_df = pd.DataFrame({'features':predictor_features,\n",
    "                                   'importance': perm_importance['importances_mean']}) \n",
    "perm_importance_df['abs_importance'] = np.abs(perm_importance_df['importance'])\n",
    "perm_importance_df = perm_importance_df.sort_values('abs_importance', ascending=False)"
   ]
  },
  {
   "cell_type": "code",
   "execution_count": 42,
   "id": "0cbc5d84-6775-404f-a685-44f5be5cd481",
   "metadata": {},
   "outputs": [
    {
     "data": {
      "text/html": [
       "<div>\n",
       "<style scoped>\n",
       "    .dataframe tbody tr th:only-of-type {\n",
       "        vertical-align: middle;\n",
       "    }\n",
       "\n",
       "    .dataframe tbody tr th {\n",
       "        vertical-align: top;\n",
       "    }\n",
       "\n",
       "    .dataframe thead th {\n",
       "        text-align: right;\n",
       "    }\n",
       "</style>\n",
       "<table border=\"1\" class=\"dataframe\">\n",
       "  <thead>\n",
       "    <tr style=\"text-align: right;\">\n",
       "      <th></th>\n",
       "      <th>features</th>\n",
       "      <th>importance</th>\n",
       "      <th>abs_importance</th>\n",
       "    </tr>\n",
       "  </thead>\n",
       "  <tbody>\n",
       "    <tr>\n",
       "      <th>3</th>\n",
       "      <td>DisbursementGross</td>\n",
       "      <td>0.069518</td>\n",
       "      <td>0.069518</td>\n",
       "    </tr>\n",
       "    <tr>\n",
       "      <th>5</th>\n",
       "      <td>urban_flag</td>\n",
       "      <td>0.043291</td>\n",
       "      <td>0.043291</td>\n",
       "    </tr>\n",
       "    <tr>\n",
       "      <th>7</th>\n",
       "      <td>NC__0.0</td>\n",
       "      <td>0.042511</td>\n",
       "      <td>0.042511</td>\n",
       "    </tr>\n",
       "    <tr>\n",
       "      <th>15</th>\n",
       "      <td>NC__8.0</td>\n",
       "      <td>0.025705</td>\n",
       "      <td>0.025705</td>\n",
       "    </tr>\n",
       "    <tr>\n",
       "      <th>1</th>\n",
       "      <td>CreateJob</td>\n",
       "      <td>0.021925</td>\n",
       "      <td>0.021925</td>\n",
       "    </tr>\n",
       "  </tbody>\n",
       "</table>\n",
       "</div>"
      ],
      "text/plain": [
       "             features  importance  abs_importance\n",
       "3   DisbursementGross    0.069518        0.069518\n",
       "5          urban_flag    0.043291        0.043291\n",
       "7             NC__0.0    0.042511        0.042511\n",
       "15            NC__8.0    0.025705        0.025705\n",
       "1           CreateJob    0.021925        0.021925"
      ]
     },
     "execution_count": 42,
     "metadata": {},
     "output_type": "execute_result"
    }
   ],
   "source": [
    "perm_importance_df.head(5)"
   ]
  },
  {
   "cell_type": "code",
   "execution_count": 43,
   "id": "38059608-2f72-491f-86b3-0c1418b83531",
   "metadata": {},
   "outputs": [],
   "source": [
    "perm_importance_df \\\n",
    "    .to_csv(Path(setup.temp_path).joinpath('61_DATA_importance_perturb.csv'),\n",
    "            index=False)"
   ]
  },
  {
   "cell_type": "code",
   "execution_count": 44,
   "id": "c27499c8-065b-4143-a7dc-bce301bf3edf",
   "metadata": {},
   "outputs": [
    {
     "data": {
      "image/png": "[encoded data removed]",
      "text/plain": [
       "<Figure size 640x480 with 1 Axes>"
      ]
     },
     "metadata": {},
     "output_type": "display_data"
    }
   ],
   "source": [
    "perm_importance_df.head(10).plot(kind='barh', x='features', y='importance', legend=None)\n",
    "plt.gca().invert_yaxis()\n",
    "plt.xlabel('permutation importance')\n",
    "plt.ylabel(None)\n",
    "plt.gcf().savefig(Path(setup.temp_path).joinpath('61_PLOT_importance_perturb.png'))"
   ]
  },
  {
   "cell_type": "markdown",
   "id": "6fd44a7c-bcf5-4284-8b9f-b575fa523ff3",
   "metadata": {},
   "source": [
    "## PDP Plot - One Hot"
   ]
  },
  {
   "cell_type": "code",
   "execution_count": 45,
   "id": "0f5a4774-bf8b-4c7f-9003-e1bcb4c101f8",
   "metadata": {},
   "outputs": [],
   "source": [
    "naics_features = list(train_df.filter(like='NC_').columns)"
   ]
  },
  {
   "cell_type": "code",
   "execution_count": 46,
   "id": "730411c5-81d3-4911-ad8f-8743dc1617e4",
   "metadata": {},
   "outputs": [],
   "source": [
    "plt.close()"
   ]
  },
  {
   "cell_type": "code",
   "execution_count": 47,
   "id": "85ab4bf4-0f82-4121-842d-fd22164982cd",
   "metadata": {},
   "outputs": [
    {
     "data": {
      "image/png": "[encoded data removed]",
      "text/plain": [
       "<Figure size 600x900 with 10 Axes>"
      ]
     },
     "metadata": {},
     "output_type": "display_data"
    }
   ],
   "source": [
    "fig, ax = plt.subplots(int(np.ceil(len(naics_features)/2)), 2, sharex=True, sharey=True, figsize=(6, 9))\n",
    "for i in range(len(naics_features)):\n",
    "    col = int(i % 2)\n",
    "    row = int(np.floor(i / 2))\n",
    "    results = partial_dependence(xgb_model, train_df[predictor_features], \n",
    "                                 [naics_features[i]])\n",
    "    pdp_df = pd.DataFrame({'grid_values':results[\"grid_values\"][0],\n",
    "                       'pdp':results[\"average\"][0]})\n",
    "    pdp_df.plot(x='grid_values', y='pdp', legend=None, ax=ax[row, col])\n",
    "\n",
    "fig.tight_layout()\n",
    "fig.savefig(Path(setup.temp_path).joinpath('61_PLOT_pdp_naics_onehot.png'),\n",
    "               bbox_inches='tight')\n",
    "plt.show()"
   ]
  },
  {
   "cell_type": "code",
   "execution_count": null,
   "id": "00f5a81f-7075-42bf-a660-88944a1298b5",
   "metadata": {},
   "outputs": [],
   "source": []
  },
  {
   "cell_type": "code",
   "execution_count": null,
   "id": "7687bacc-ac2c-4665-bcc0-58126b967dfa",
   "metadata": {},
   "outputs": [],
   "source": []
  }
 ],
 "metadata": {
  "kernelspec": {
   "display_name": "tf_p39",
   "language": "python",
   "name": "tf_p39"
  },
  "language_info": {
   "codemirror_mode": {
    "name": "ipython",
    "version": 3
   },
   "file_extension": ".py",
   "mimetype": "text/x-python",
   "name": "python",
   "nbconvert_exporter": "python",
   "pygments_lexer": "ipython3",
   "version": "3.8.18"
  }
 },
 "nbformat": 4,
 "nbformat_minor": 5
}
